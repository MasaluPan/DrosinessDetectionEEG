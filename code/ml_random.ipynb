{
 "cells": [
  {
   "cell_type": "code",
   "execution_count": 2,
   "id": "73ee408b",
   "metadata": {},
   "outputs": [
    {
     "name": "stdout",
     "output_type": "stream",
     "text": [
      "cuda\n"
     ]
    }
   ],
   "source": [
    "import os\n",
    "import pandas as pd\n",
    "import numpy as np\n",
    "from sklearn.preprocessing import LabelEncoder\n",
    "from sklearn.model_selection import train_test_split\n",
    "from sklearn.metrics import classification_report, confusion_matrix\n",
    "import matplotlib.pyplot as plt\n",
    "\n",
    "import torch\n",
    "from torch import nn, optim\n",
    "from torch.nn import functional as F\n",
    "from torch.utils.data import Dataset, DataLoader\n",
    "\n",
    "import torchmetrics\n",
    "from torchmetrics.functional import accuracy\n",
    "\n",
    "import pytorch_lightning as pl\n",
    "from pytorch_lightning.loggers import TensorBoardLogger\n",
    "from pytorch_lightning.callbacks import ModelCheckpoint\n",
    "\n",
    "device = torch.device(\"cuda\" if torch.cuda.is_available() else \"cpu\")\n",
    "print(device)"
   ]
  },
  {
   "cell_type": "markdown",
   "id": "dba0665e",
   "metadata": {},
   "source": [
    "## Model Setup "
   ]
  },
  {
   "cell_type": "code",
   "execution_count": 3,
   "id": "c1703e27",
   "metadata": {},
   "outputs": [
    {
     "name": "stderr",
     "output_type": "stream",
     "text": [
      "Global seed set to 42\n"
     ]
    }
   ],
   "source": [
    "pl.seed_everything(42, workers=True)\n",
    "\n",
    "class DrowsyDataset(Dataset):\n",
    "    \n",
    "    def __init__(self, sequences):\n",
    "        self.sequences = sequences\n",
    "        \n",
    "    def __len__(self):\n",
    "        return len(self.sequences)\n",
    "    \n",
    "    def __getitem__(self, idx):\n",
    "        sequence, label = self.sequences[idx]\n",
    "        return dict(\n",
    "            sequence=torch.Tensor(sequence.to_numpy()),\n",
    "            label=torch.tensor(label).long()\n",
    "        )\n",
    "    \n",
    "class DrowsyDataModule(pl.LightningDataModule):\n",
    "    \n",
    "    def __init__(self, train_sequences, val_sequences, test_sequences, batch_size):\n",
    "        super().__init__()\n",
    "        self.train_sequences = train_sequences\n",
    "        self.val_sequences = val_sequences\n",
    "        self.test_sequences = test_sequences\n",
    "        self.batch_size = batch_size\n",
    "\n",
    "    def setup(self, stage=None):\n",
    "        self.train_dataset = DrowsyDataset(self.train_sequences)\n",
    "        self.val_dataset = DrowsyDataset(self.val_sequences)\n",
    "        self.test_dataset = DrowsyDataset(self.test_sequences)\n",
    "        \n",
    "    def train_dataloader(self):\n",
    "        return DataLoader(\n",
    "            self.train_dataset,\n",
    "            batch_size=self.batch_size,\n",
    "            shuffle=True,\n",
    "            num_workers=os.cpu_count()\n",
    "        )\n",
    "    \n",
    "    def val_dataloader(self):\n",
    "        return DataLoader(\n",
    "            self.val_dataset,\n",
    "            batch_size=self.batch_size,\n",
    "            shuffle=False,\n",
    "            num_workers=os.cpu_count()\n",
    "        )\n",
    "    \n",
    "    def test_dataloader(self):\n",
    "        return DataLoader(\n",
    "            self.test_dataset,\n",
    "            batch_size=self.batch_size,\n",
    "            shuffle=False,\n",
    "            num_workers=os.cpu_count()\n",
    "        ) \n",
    "\n",
    "class DrowsyModel(nn.Module):\n",
    "    \n",
    "    def __init__(self, n_features, n_classes, n_hidden=256, n_layers=3):\n",
    "        super().__init__()\n",
    "        \n",
    "        self.n_hidden = n_hidden\n",
    "        \n",
    "        self.lstm = nn.LSTM(\n",
    "            input_size=n_features,\n",
    "            hidden_size=n_hidden,\n",
    "            num_layers=n_layers,\n",
    "            batch_first=True,\n",
    "            dropout=0.75\n",
    "        )\n",
    "        \n",
    "        self.classifier = nn.Linear(n_hidden, n_classes)\n",
    "        \n",
    "    def forward(self, x):\n",
    "        self.lstm.flatten_parameters()\n",
    "        _, (hidden, _) = self.lstm(x)\n",
    "        \n",
    "        out = hidden[-1]\n",
    "        return self.classifier(out)\n",
    "    \n",
    "class DrowsyPredictor(pl.LightningModule):\n",
    "    \n",
    "    def __init__(self, n_features: int, n_classes: int):\n",
    "        super().__init__()\n",
    "        self.model = DrowsyModel(n_features, n_classes)\n",
    "        self.criterion = nn.CrossEntropyLoss()\n",
    "        \n",
    "    def forward(self, x, label=None):\n",
    "        output = self.model(x)\n",
    "        loss = 0\n",
    "        if label is not None:\n",
    "            loss = self.criterion(output, label)\n",
    "        return loss, output\n",
    "        \n",
    "    def training_step(self, batch, batch_idx):\n",
    "        sequences = batch[\"sequence\"]\n",
    "        labels = batch[\"label\"]\n",
    "        loss, outputs = self(sequences, labels)\n",
    "        predictions = torch.argmax(outputs, dim=1)\n",
    "        step_accuracy = accuracy(predictions, labels)\n",
    "        \n",
    "        self.log(\"train_loss\", loss, prog_bar=True, logger=True)\n",
    "        self.log(\"train_accuracy\", step_accuracy, prog_bar=True, logger=True)\n",
    "        \n",
    "        return {\"loss\": loss, \"accuracy\": step_accuracy}\n",
    "    \n",
    "    def validation_step(self, batch, batch_idx):\n",
    "        sequences = batch[\"sequence\"]\n",
    "        labels = batch[\"label\"]\n",
    "        loss, outputs = self(sequences, labels)\n",
    "        predictions = torch.argmax(outputs, dim=1)\n",
    "        step_accuracy = accuracy(predictions, labels)\n",
    "        \n",
    "        self.log(\"val_loss\", loss, prog_bar=True, logger=True)\n",
    "        self.log(\"val_accuracy\", step_accuracy, prog_bar=True, logger=True)\n",
    "        \n",
    "        return {\"loss\": loss, \"accuracy\": step_accuracy}\n",
    "    \n",
    "    def test_step(self, batch, batch_idx):\n",
    "        sequences = batch[\"sequence\"]\n",
    "        labels = batch[\"label\"]\n",
    "        loss, outputs = self(sequences, labels)\n",
    "        predictions = torch.argmax(outputs, dim=1)\n",
    "        step_accuracy = accuracy(predictions, labels)\n",
    "        \n",
    "        self.log(\"test_loss\", loss, prog_bar=True, logger=True)\n",
    "        self.log(\"test_accuracy\", step_accuracy, prog_bar=True, logger=True)\n",
    "        \n",
    "        return {\"loss\": loss, \"accuracy\": step_accuracy}\n",
    "    \n",
    "    def configure_optimizers(self):\n",
    "        return optim.Adam(self.parameters(), lr=0.0001)"
   ]
  },
  {
   "cell_type": "markdown",
   "id": "ad2dc18a",
   "metadata": {},
   "source": [
    "## 參數設置"
   ]
  },
  {
   "cell_type": "code",
   "execution_count": null,
   "id": "6907a100",
   "metadata": {},
   "outputs": [],
   "source": []
  },
  {
   "cell_type": "code",
   "execution_count": 4,
   "id": "4a725d49",
   "metadata": {},
   "outputs": [
    {
     "data": {
      "text/plain": [
       "Reusing TensorBoard on port 8888 (pid 1834), started 10:32:25 ago. (Use '!kill 1834' to kill it.)"
      ]
     },
     "metadata": {},
     "output_type": "display_data"
    },
    {
     "data": {
      "text/html": [
       "\n",
       "      <iframe id=\"tensorboard-frame-1c80317fa3b1799d\" width=\"100%\" height=\"800\" frameborder=\"0\">\n",
       "      </iframe>\n",
       "      <script>\n",
       "        (function() {\n",
       "          const frame = document.getElementById(\"tensorboard-frame-1c80317fa3b1799d\");\n",
       "          const url = new URL(\"/\", window.location);\n",
       "          const port = 8888;\n",
       "          if (port) {\n",
       "            url.port = port;\n",
       "          }\n",
       "          frame.src = url;\n",
       "        })();\n",
       "      </script>\n",
       "    "
      ],
      "text/plain": [
       "<IPython.core.display.HTML object>"
      ]
     },
     "metadata": {},
     "output_type": "display_data"
    }
   ],
   "source": [
    "%load_ext tensorboard\n",
    "%reload_ext tensorboard\n",
    "%tensorboard --logdir ./lightning_logs --host 0.0.0.0 --port=8888"
   ]
  },
  {
   "cell_type": "code",
   "execution_count": null,
   "id": "fbedfd71",
   "metadata": {},
   "outputs": [],
   "source": [
    "X_train = pd.read_csv('../data2.csv')"
   ]
  },
  {
   "cell_type": "code",
   "execution_count": null,
   "id": "d89bca4d",
   "metadata": {},
   "outputs": [],
   "source": [
    "N_EPOCHS = 200\n",
    "BATCH_SIZE = 50\n",
    "\n",
    "# randomed \n",
    "ORG_FEATURE_COLUMNS = ['FZ', 'CZ', 'O2', 'T4', 'FT7', 'CPZ', 'F8', 'TP8', 'VEOU', 'P4', 'VEOL', 'C4', 'PO1', 'TP7', 'C3', 'FT10', 'O1', 'T6', 'T3', 'OZ', 'FP1', 'P3', 'F7', 'FT8', 'A2', 'FP2', 'FT9', 'HEOL', 'T5', 'FC4', 'FC3', 'HEOR', 'PZ', 'PO2', 'F4', 'F3', 'CP4', 'CP3', 'FCZ', 'A1']\n",
    "g = X_train.groupby(\"group\")"
   ]
  },
  {
   "cell_type": "code",
   "execution_count": null,
   "id": "86846dc3",
   "metadata": {},
   "outputs": [],
   "source": [
    "# import random\n",
    "# ORG_FEATURE_COLUMNS = ['TP8', 'FP2', 'FCZ', 'FT10', 'O2', 'O1', 'FT7', 'F4', 'TP7', 'C3', 'C4', 'F3', 'FT8', 'T6', 'HEOR', 'T5', 'VEOL', 'F7', 'FZ', 'VEOU', 'A1', 'P3', 'PZ', 'CP3', 'P4', 'CPZ', 'A2', 'HEOL', 'CP4', 'FT9', 'F8', 'OZ', 'CZ', 'FC4', 'FC3', 'FP1', 'PO1', 'T3', 'T4', 'PO2']\n",
    "# random.shuffle(ORG_FEATURE_COLUMNS)\n",
    "# print(ORG_FEATURE_COLUMNS)"
   ]
  },
  {
   "cell_type": "markdown",
   "id": "90c9ac6d",
   "metadata": {},
   "source": [
    "## Main"
   ]
  },
  {
   "cell_type": "code",
   "execution_count": null,
   "id": "484d3379",
   "metadata": {},
   "outputs": [],
   "source": [
    "n = 21\n",
    "FEATURE_COLUMNS = ORG_FEATURE_COLUMNS[n:]\n",
    "\n",
    "while(n < 24):\n",
    "    print(\"------------------ Round: \" + str(n) + \" ------------------\")\n",
    "    print(FEATURE_COLUMNS)\n",
    "    print(\"Len:\", len(FEATURE_COLUMNS))\n",
    "    \n",
    "    label_encoder = LabelEncoder()\n",
    "    encoded_labels = label_encoder.fit_transform(X_train.state)\n",
    "\n",
    "    label_encoder.classes_\n",
    "\n",
    "    X_train['label'] = encoded_labels\n",
    "\n",
    "    # Prepare data ###########################################\n",
    "    sequences = [] \n",
    "\n",
    "    for name, group in g:\n",
    "        sequence_features = group[FEATURE_COLUMNS]\n",
    "        label = group.label.iloc[0]\n",
    "\n",
    "        # print((sequence_features, label))\n",
    "        sequences.append((sequence_features, label))\n",
    "\n",
    "    # Setting up train, test, val gruop #######################\n",
    "    train_sequences, test_sequences = train_test_split(sequences, test_size=0.2)\n",
    "    val_sequences, test_sequences = train_test_split(test_sequences, test_size=0.5)\n",
    "\n",
    "\n",
    "    # Setting up data module ##################################\n",
    "    data_module = DrowsyDataModule(\n",
    "        train_sequences, val_sequences, test_sequences, BATCH_SIZE\n",
    "    )\n",
    "\n",
    "    model = DrowsyPredictor(\n",
    "        n_features=len(FEATURE_COLUMNS), \n",
    "        n_classes=len(label_encoder.classes_)\n",
    "    )\n",
    "\n",
    "    # Check points and logger #################################\n",
    "    checkpoint_callback = ModelCheckpoint(\n",
    "        dirpath=\"checkpoints\",\n",
    "        filename=\"best-checkpoint-corr-random-\" + str(n),\n",
    "        save_top_k=2,\n",
    "        verbose=True,\n",
    "        monitor=\"val_loss\",\n",
    "        mode=\"min\"\n",
    "    )\n",
    "\n",
    "    logger = TensorBoardLogger(\"lightning_logs\", name=\"Drowsy_Random\" + str(n))\n",
    "\n",
    "    trainer = pl.Trainer(\n",
    "        logger=logger,\n",
    "        callbacks=[checkpoint_callback],\n",
    "        max_epochs=N_EPOCHS,\n",
    "        gpus=[0],\n",
    "        # gpus=2, \n",
    "        # auto_select_gpus=True,\n",
    "        auto_lr_find=True, \n",
    "        # check_val_every_n_epoch=10\n",
    "        # refresh_rate=20,\n",
    "    )\n",
    "    \n",
    "    # Training start\n",
    "    if (n == 999):\n",
    "        trainer.fit(model, data_module, ckpt_path=\"/Workspace/code/checkpoints/best-checkpoint-corr-random-21-v2.ckpt\")\n",
    "    else:\n",
    "        trainer.fit(model, data_module)\n",
    "    trainer.test(model, data_module)\n",
    "    \n",
    "    FEATURE_COLUMNS.pop(0)\n",
    "    n = n + 1"
   ]
  },
  {
   "cell_type": "code",
   "execution_count": null,
   "id": "76acf7fd",
   "metadata": {},
   "outputs": [],
   "source": []
  },
  {
   "cell_type": "markdown",
   "id": "62e61f6f",
   "metadata": {},
   "source": [
    "## Load Checkpoint "
   ]
  },
  {
   "cell_type": "code",
   "execution_count": null,
   "id": "fa67d0e3",
   "metadata": {},
   "outputs": [],
   "source": [
    "## best-checkpoint-corr-3-v1.ckptn\n",
    "# trainer.fit(model, data_module, ckpt_path=\"/Workspace/code/checkpoints/best-checkpoint-corr-3-v1.ckpt\")"
   ]
  }
 ],
 "metadata": {
  "kernelspec": {
   "display_name": "Python 3",
   "language": "python",
   "name": "python3"
  },
  "language_info": {
   "codemirror_mode": {
    "name": "ipython",
    "version": 3
   },
   "file_extension": ".py",
   "mimetype": "text/x-python",
   "name": "python",
   "nbconvert_exporter": "python",
   "pygments_lexer": "ipython3",
   "version": "3.6.9"
  }
 },
 "nbformat": 4,
 "nbformat_minor": 5
}
