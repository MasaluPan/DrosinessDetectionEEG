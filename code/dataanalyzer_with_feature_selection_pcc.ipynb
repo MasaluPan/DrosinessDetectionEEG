{
 "cells": [
  {
   "cell_type": "code",
   "execution_count": 5,
   "id": "9842ec91",
   "metadata": {},
   "outputs": [
    {
     "name": "stdout",
     "output_type": "stream",
     "text": [
      "cuda\n"
     ]
    }
   ],
   "source": [
    "import os\n",
    "import pandas as pd\n",
    "import numpy as np\n",
    "# import dataframe as df\n",
    "from sklearn.preprocessing import LabelEncoder\n",
    "from sklearn.model_selection import train_test_split\n",
    "from sklearn.metrics import classification_report, confusion_matrix\n",
    "import matplotlib.pyplot as plt\n",
    "\n",
    "import torch\n",
    "from torch import nn, optim\n",
    "from torch.nn import functional as F\n",
    "from torch.utils.data import Dataset, DataLoader\n",
    "\n",
    "import torchmetrics\n",
    "from torchmetrics.functional import accuracy\n",
    "\n",
    "import pytorch_lightning as pl\n",
    "from pytorch_lightning.loggers import TensorBoardLogger\n",
    "from pytorch_lightning.callbacks import ModelCheckpoint\n",
    "\n",
    "device = torch.device(\"cuda\" if torch.cuda.is_available() else \"cpu\")\n",
    "print(device)\n",
    "\n",
    "import seaborn as sns"
   ]
  },
  {
   "cell_type": "code",
   "execution_count": 6,
   "id": "60e0910f",
   "metadata": {},
   "outputs": [],
   "source": [
    "X_train = pd.read_csv('../data2.csv')"
   ]
  },
  {
   "cell_type": "code",
   "execution_count": 7,
   "id": "85185025",
   "metadata": {
    "scrolled": true
   },
   "outputs": [
    {
     "name": "stdout",
     "output_type": "stream",
     "text": [
      "<class 'pandas.core.frame.DataFrame'>\n",
      "RangeIndex: 14424064 entries, 0 to 14424063\n",
      "Data columns (total 44 columns):\n",
      " #   Column  Dtype  \n",
      "---  ------  -----  \n",
      " 0   time    int64  \n",
      " 1   id      int64  \n",
      " 2   group   int64  \n",
      " 3   state   object \n",
      " 4   HEOL    float64\n",
      " 5   HEOR    float64\n",
      " 6   FP1     float64\n",
      " 7   FP2     float64\n",
      " 8   VEOU    float64\n",
      " 9   VEOL    float64\n",
      " 10  F7      float64\n",
      " 11  F3      float64\n",
      " 12  FZ      float64\n",
      " 13  F4      float64\n",
      " 14  F8      float64\n",
      " 15  FT7     float64\n",
      " 16  FC3     float64\n",
      " 17  FCZ     float64\n",
      " 18  FC4     float64\n",
      " 19  FT8     float64\n",
      " 20  T3      float64\n",
      " 21  C3      float64\n",
      " 22  CZ      float64\n",
      " 23  C4      float64\n",
      " 24  T4      float64\n",
      " 25  TP7     float64\n",
      " 26  CP3     float64\n",
      " 27  CPZ     float64\n",
      " 28  CP4     float64\n",
      " 29  TP8     float64\n",
      " 30  A1      float64\n",
      " 31  T5      float64\n",
      " 32  P3      float64\n",
      " 33  PZ      float64\n",
      " 34  P4      float64\n",
      " 35  T6      float64\n",
      " 36  A2      float64\n",
      " 37  O1      float64\n",
      " 38  OZ      float64\n",
      " 39  O2      float64\n",
      " 40  FT9     float64\n",
      " 41  FT10    float64\n",
      " 42  PO1     float64\n",
      " 43  PO2     float64\n",
      "dtypes: float64(40), int64(3), object(1)\n",
      "memory usage: 4.7+ GB\n",
      "               time            id         group          HEOL          HEOR  \\\n",
      "count  1.442406e+07  1.442406e+07  1.442406e+07  1.442406e+07  1.442406e+07   \n",
      "mean   3.005016e+05  5.115000e+02  7.042500e+03 -2.439227e-01 -4.473785e-06   \n",
      "std    1.734958e+05  2.956032e+02  4.066278e+03  1.417591e+02  2.057471e-03   \n",
      "min    0.000000e+00  0.000000e+00  0.000000e+00 -2.423110e+03 -1.457554e-01   \n",
      "25%    1.502500e+05  2.557500e+02  3.521000e+03 -6.190002e+00 -4.411773e-06   \n",
      "50%    3.005010e+05  5.115000e+02  7.042500e+03 -7.374709e-02  3.805031e-17   \n",
      "75%    4.507512e+05  7.672500e+02  1.056400e+04  5.999642e+00  4.411773e-06   \n",
      "max    6.031350e+05  1.023000e+03  1.408500e+04  2.466700e+03  1.457554e-01   \n",
      "\n",
      "                FP1           FP2          VEOU          VEOL            F7  \\\n",
      "count  1.442406e+07  1.442406e+07  1.442406e+07  1.442406e+07  1.442406e+07   \n",
      "mean   5.773373e-02  2.343737e-05  1.248845e-01 -2.103808e-07 -1.129953e-01   \n",
      "std    8.339794e+01  2.307205e-03  1.077504e+02  2.115590e-03  1.295939e+02   \n",
      "min   -2.368078e+03 -2.186332e-01 -2.474023e+03 -1.457554e-01 -3.335907e+03   \n",
      "25%   -3.428775e+00 -8.823546e-06 -8.853879e+00 -2.205886e-06 -9.158379e+00   \n",
      "50%   -1.496850e-02  0.000000e+00 -7.727690e-01  8.065011e-18 -6.560437e-01   \n",
      "75%    3.434818e+00  8.823546e-06  7.250152e+00  2.205886e-06  7.814116e+00   \n",
      "max    2.267657e+03  2.915109e-01  2.503797e+03  1.457554e-01  2.356444e+03   \n",
      "\n",
      "       ...            P4            T6            A2            O1  \\\n",
      "count  ...  1.442406e+07  1.442406e+07  1.442406e+07  1.442406e+07   \n",
      "mean   ...  9.556272e-02  7.337612e-06  5.512840e-02 -1.243758e-05   \n",
      "std    ...  1.235080e+02  1.941967e-03  9.202586e+01  2.096256e-03   \n",
      "min    ... -3.588359e+03 -1.093166e-01 -2.221483e+03 -2.186332e-01   \n",
      "25%    ... -7.320091e+00 -2.205886e-06 -3.934473e+00 -4.411773e-06   \n",
      "50%    ... -1.742739e-01  2.316106e-17 -3.341449e-03  0.000000e+00   \n",
      "75%    ...  7.101895e+00  2.205886e-06  3.771538e+00  4.411773e-06   \n",
      "max    ...  3.307722e+03  2.186332e-01  2.330551e+03  2.186332e-01   \n",
      "\n",
      "                 OZ            O2           FT9          FT10           PO1  \\\n",
      "count  1.442406e+07  1.442406e+07  1.442406e+07  1.442406e+07  1.442406e+07   \n",
      "mean   6.432549e-02 -2.342769e-05 -8.160863e-02 -4.234038e-05  8.383373e-02   \n",
      "std    4.985286e+01  2.555370e-03  8.100512e+01  2.768569e-03  5.829068e+01   \n",
      "min   -2.394785e+03 -2.915109e-01 -2.929211e+03 -3.643886e-01 -2.417340e+03   \n",
      "25%   -3.581198e+00 -6.617659e-06 -3.813189e+00 -8.823546e-06 -3.441107e+00   \n",
      "50%   -1.114007e-01  0.000000e+00 -9.888858e-02 -2.205886e-06 -1.096380e-01   \n",
      "75%    3.432722e+00  6.617659e-06  3.670362e+00  8.823546e-06  3.291780e+00   \n",
      "max    2.323738e+03  1.821943e-01  2.368203e+03  1.821943e-01  2.285776e+03   \n",
      "\n",
      "                PO2  \n",
      "count  1.442406e+07  \n",
      "mean  -2.896002e-05  \n",
      "std    2.312270e-03  \n",
      "min   -2.550720e-01  \n",
      "25%   -6.617659e-06  \n",
      "50%    0.000000e+00  \n",
      "75%    6.617659e-06  \n",
      "max    1.665105e-01  \n",
      "\n",
      "[8 rows x 43 columns]\n"
     ]
    }
   ],
   "source": [
    "X_train.head()\n",
    "X_train.shape\n",
    "X_train.info()\n",
    "print(X_train.describe())"
   ]
  },
  {
   "cell_type": "code",
   "execution_count": 8,
   "id": "2d590f12",
   "metadata": {},
   "outputs": [],
   "source": [
    "import matplotlib.pyplot as plt\n",
    "# %matplotlib qt\n",
    "%matplotlib inline\n",
    "\n",
    "hello = X_train.drop(columns=['time', 'id', 'group', 'state'])\n",
    "# hello.boxplot()"
   ]
  },
  {
   "cell_type": "code",
   "execution_count": 9,
   "id": "b4762461",
   "metadata": {
    "scrolled": true
   },
   "outputs": [],
   "source": [
    "# Plot EEG Distrobution\n",
    "\n",
    "FEATURE_COLUMNS = hello.columns.to_list() \n",
    "\n",
    "# plt.figure(1)\n",
    "# plt.subplots_adjust(hspace=0.5)\n",
    "\n",
    "# for c in FEATURE_COLUMNS:\n",
    "#     print(c)\n",
    "#     plt.hist(hello[c], color='skyblue', edgecolor='orange')\n",
    "#     plt.xlabel(c)\n",
    "#     plt.ylabel('Frequency')\n",
    "#     plt.show()"
   ]
  },
  {
   "cell_type": "markdown",
   "id": "57fd66a2",
   "metadata": {},
   "source": [
    "## Correlation Matrix"
   ]
  },
  {
   "cell_type": "code",
   "execution_count": 12,
   "id": "53dcb06b",
   "metadata": {},
   "outputs": [],
   "source": [
    "corr = hello.corr()"
   ]
  },
  {
   "cell_type": "code",
   "execution_count": 13,
   "id": "b1dd0f17",
   "metadata": {},
   "outputs": [
    {
     "data": {
      "text/plain": [
       "<AxesSubplot:>"
      ]
     },
     "execution_count": 13,
     "metadata": {},
     "output_type": "execute_result"
    },
    {
     "data": {
      "image/png": "[encoded data removed]",
      "text/plain": [
       "<Figure size 792x648 with 2 Axes>"
      ]
     },
     "metadata": {
      "needs_background": "light"
     },
     "output_type": "display_data"
    }
   ],
   "source": [
    "# Generate a mask for the upper triangle\n",
    "mask = np.triu(np.ones_like(corr, dtype=bool))\n",
    "\n",
    "# Set up the matplotlib figure\n",
    "f, ax = plt.subplots(figsize=(11, 9))\n",
    "\n",
    "# Generate a custom diverging colormap\n",
    "# cmap = sns.color_palette(\"coolwarm\", as_cmap=True)   # for getting colors clostest 1 and -1\n",
    "# cmap = sns.color_palette(\"hls\", 8) # for separting colorts\n",
    "cmap = sns.diverging_palette(145, 300, s=60, as_cmap=True)\n",
    "\n",
    "# Draw the heatmap with the mask and correct aspect ratio\n",
    "sns.heatmap(corr, mask=mask, cmap=cmap, center=0,\n",
    "            vmin=-1, vmax=1,\n",
    "            square=True, linewidths=.5, cbar_kws={\"shrink\": 0.5})"
   ]
  },
  {
   "cell_type": "markdown",
   "id": "f326f1f5",
   "metadata": {},
   "source": [
    "## Feature Extraction"
   ]
  },
  {
   "cell_type": "code",
   "execution_count": null,
   "id": "08ef2591",
   "metadata": {
    "scrolled": true
   },
   "outputs": [],
   "source": [
    "rm_list = []\n",
    "hello = X_train.drop(columns=['time', 'id', 'group', 'state'])\n",
    "\n",
    "n = 0\n",
    "while(FEATURE_COLUMNS):\n",
    "    print(\"-----Round:\", n, \"-----\") \n",
    "    \n",
    "    corr = hello.corr()\n",
    "    corr_list = []\n",
    "    FEATURE_COLUMNS = corr.columns.tolist()\n",
    "    print(FEATURE_COLUMNS)\n",
    "    \n",
    "    for i in FEATURE_COLUMNS:\n",
    "        for j in FEATURE_COLUMNS:\n",
    "            if i == j:\n",
    "                pass\n",
    "            elif FEATURE_COLUMNS.index(i) >= FEATURE_COLUMNS.index(j):\n",
    "                pass\n",
    "            else:\n",
    "                corr_list.append([corr[i][j], i, j])\n",
    "\n",
    "    corr_df = pd.DataFrame(corr_list, columns=['value', 'C1', 'C2'])        \n",
    "    corr_df = corr_df.reindex(corr_df.value.abs().sort_values().index)\n",
    "    print(corr_df.info)\n",
    "    \n",
    "    if not corr_df.empty:\n",
    "        print(corr_df.iloc[-1]['C1'] in FEATURE_COLUMNS)\n",
    "        hello = hello.drop(columns=[corr_df.iloc[-1]['C1']])\n",
    "        rm_list.append(corr_df.iloc[-1]['C1'])\n",
    "    print(\"rm_list:\", rm_list)\n",
    "    \n",
    "    n = n + 1\n",
    "    \n",
    "print(\"-------end--------\")\n",
    "print(\"rm_list:\", rm_list)"
   ]
  },
  {
   "cell_type": "code",
   "execution_count": null,
   "id": "a21dfbbb",
   "metadata": {},
   "outputs": [],
   "source": [
    "# Greedy algorithm to pick elimiate \n",
    "['TP8', 'FP2', 'FCZ', 'FT10', 'O2', 'O1', 'FT7', 'F4', 'TP7', 'C3', 'C4', 'F3', 'FT8', 'T6', 'HEOR', 'T5', 'VEOL', 'F7', 'FZ', 'VEOU', 'A1', 'P3', 'PZ', 'CP3', 'P4', 'CPZ', 'A2', 'HEOL', 'CP4', 'FT9', 'F8', 'OZ', 'CZ', 'FC4', 'FC3', 'FP1', 'PO1', 'T3', 'T4', 'PO2']"
   ]
  },
  {
   "cell_type": "code",
   "execution_count": null,
   "id": "c026b2ad",
   "metadata": {},
   "outputs": [],
   "source": [
    "# Generate a mask for the upper triangle\n",
    "mask = np.triu(np.ones_like(corr, dtype=bool))\n",
    "\n",
    "# Set up the matplotlib figure\n",
    "f, ax = plt.subplots(figsize=(11, 9))\n",
    "\n",
    "# Generate a custom diverging colormap\n",
    "# cmap = sns.color_palette(\"coolwarm\", as_cmap=True)   # for getting colors clostest 1 and -1\n",
    "# cmap = sns.color_palette(\"hls\", 8) # for separting colorts\n",
    "cmap = sns.diverging_palette(145, 300, s=60, as_cmap=True)\n",
    "\n",
    "# Draw the heatmap with the mask and correct aspect ratio\n",
    "sns.heatmap(corr, mask=mask, cmap=cmap, center=0,\n",
    "            vmin=-1, vmax=1,\n",
    "            square=True, linewidths=.5, cbar_kws={\"shrink\": 0.5})\n"
   ]
  },
  {
   "cell_type": "code",
   "execution_count": null,
   "id": "6fe6dbe2",
   "metadata": {},
   "outputs": [],
   "source": []
  }
 ],
 "metadata": {
  "kernelspec": {
   "display_name": "Python 3",
   "language": "python",
   "name": "python3"
  },
  "language_info": {
   "codemirror_mode": {
    "name": "ipython",
    "version": 3
   },
   "file_extension": ".py",
   "mimetype": "text/x-python",
   "name": "python",
   "nbconvert_exporter": "python",
   "pygments_lexer": "ipython3",
   "version": "3.6.9"
  }
 },
 "nbformat": 4,
 "nbformat_minor": 5
}
