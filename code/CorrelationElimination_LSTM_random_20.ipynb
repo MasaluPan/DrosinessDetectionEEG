{
 "cells": [
  {
   "cell_type": "code",
   "execution_count": 1,
   "id": "73ee408b",
   "metadata": {},
   "outputs": [
    {
     "name": "stdout",
     "output_type": "stream",
     "text": [
      "cuda\n"
     ]
    }
   ],
   "source": [
    "import os\n",
    "import pandas as pd\n",
    "import numpy as np\n",
    "from sklearn.preprocessing import LabelEncoder\n",
    "from sklearn.model_selection import train_test_split\n",
    "from sklearn.metrics import classification_report, confusion_matrix\n",
    "import matplotlib.pyplot as plt\n",
    "\n",
    "import torch\n",
    "from torch import nn, optim\n",
    "from torch.nn import functional as F\n",
    "from torch.utils.data import Dataset, DataLoader\n",
    "\n",
    "import torchmetrics\n",
    "from torchmetrics.functional import accuracy\n",
    "\n",
    "import pytorch_lightning as pl\n",
    "from pytorch_lightning.loggers import TensorBoardLogger\n",
    "from pytorch_lightning.callbacks import ModelCheckpoint\n",
    "\n",
    "device = torch.device(\"cuda\" if torch.cuda.is_available() else \"cpu\")\n",
    "print(device)"
   ]
  },
  {
   "cell_type": "markdown",
   "id": "dba0665e",
   "metadata": {},
   "source": [
    "## Model Setup "
   ]
  },
  {
   "cell_type": "code",
   "execution_count": 2,
   "id": "c1703e27",
   "metadata": {},
   "outputs": [
    {
     "name": "stderr",
     "output_type": "stream",
     "text": [
      "Global seed set to 42\n"
     ]
    }
   ],
   "source": [
    "pl.seed_everything(42, workers=True)\n",
    "\n",
    "class DrowsyDataset(Dataset):\n",
    "    \n",
    "    def __init__(self, sequences):\n",
    "        self.sequences = sequences\n",
    "        \n",
    "    def __len__(self):\n",
    "        return len(self.sequences)\n",
    "    \n",
    "    def __getitem__(self, idx):\n",
    "        sequence, label = self.sequences[idx]\n",
    "        return dict(\n",
    "            sequence=torch.Tensor(sequence.to_numpy()),\n",
    "            label=torch.tensor(label).long()\n",
    "        )\n",
    "    \n",
    "class DrowsyDataModule(pl.LightningDataModule):\n",
    "    \n",
    "    def __init__(self, train_sequences, val_sequences, test_sequences, batch_size):\n",
    "        super().__init__()\n",
    "        self.train_sequences = train_sequences\n",
    "        self.val_sequences = val_sequences\n",
    "        self.test_sequences = test_sequences\n",
    "        self.batch_size = batch_size\n",
    "\n",
    "    def setup(self, stage=None):\n",
    "        self.train_dataset = DrowsyDataset(self.train_sequences)\n",
    "        self.val_dataset = DrowsyDataset(self.val_sequences)\n",
    "        self.test_dataset = DrowsyDataset(self.test_sequences)\n",
    "        \n",
    "    def train_dataloader(self):\n",
    "        return DataLoader(\n",
    "            self.train_dataset,\n",
    "            batch_size=self.batch_size,\n",
    "            shuffle=True,\n",
    "            num_workers=os.cpu_count()\n",
    "        )\n",
    "    \n",
    "    def val_dataloader(self):\n",
    "        return DataLoader(\n",
    "            self.val_dataset,\n",
    "            batch_size=self.batch_size,\n",
    "            shuffle=False,\n",
    "            num_workers=os.cpu_count()\n",
    "        )\n",
    "    \n",
    "    def test_dataloader(self):\n",
    "        return DataLoader(\n",
    "            self.test_dataset,\n",
    "            batch_size=self.batch_size,\n",
    "            shuffle=False,\n",
    "            num_workers=os.cpu_count()\n",
    "        ) \n",
    "\n",
    "class DrowsyModel(nn.Module):\n",
    "    \n",
    "    def __init__(self, n_features, n_classes, n_hidden=256, n_layers=3):\n",
    "        super().__init__()\n",
    "        \n",
    "        self.n_hidden = n_hidden\n",
    "        \n",
    "        self.lstm = nn.LSTM(\n",
    "            input_size=n_features,\n",
    "            hidden_size=n_hidden,\n",
    "            num_layers=n_layers,\n",
    "            batch_first=True,\n",
    "            dropout=0.75\n",
    "        )\n",
    "        \n",
    "        self.classifier = nn.Linear(n_hidden, n_classes)\n",
    "        \n",
    "    def forward(self, x):\n",
    "        self.lstm.flatten_parameters()\n",
    "        _, (hidden, _) = self.lstm(x)\n",
    "        \n",
    "        out = hidden[-1]\n",
    "        return self.classifier(out)\n",
    "    \n",
    "class DrowsyPredictor(pl.LightningModule):\n",
    "    \n",
    "    def __init__(self, n_features: int, n_classes: int):\n",
    "        super().__init__()\n",
    "        self.model = DrowsyModel(n_features, n_classes)\n",
    "        self.criterion = nn.CrossEntropyLoss()\n",
    "        \n",
    "    def forward(self, x, label=None):\n",
    "        output = self.model(x)\n",
    "        loss = 0\n",
    "        if label is not None:\n",
    "            loss = self.criterion(output, label)\n",
    "        return loss, output\n",
    "        \n",
    "    def training_step(self, batch, batch_idx):\n",
    "        sequences = batch[\"sequence\"]\n",
    "        labels = batch[\"label\"]\n",
    "        loss, outputs = self(sequences, labels)\n",
    "        predictions = torch.argmax(outputs, dim=1)\n",
    "        step_accuracy = accuracy(predictions, labels)\n",
    "        \n",
    "        self.log(\"train_loss\", loss, prog_bar=True, logger=True)\n",
    "        self.log(\"train_accuracy\", step_accuracy, prog_bar=True, logger=True)\n",
    "        \n",
    "        return {\"loss\": loss, \"accuracy\": step_accuracy}\n",
    "    \n",
    "    def validation_step(self, batch, batch_idx):\n",
    "        sequences = batch[\"sequence\"]\n",
    "        labels = batch[\"label\"]\n",
    "        loss, outputs = self(sequences, labels)\n",
    "        predictions = torch.argmax(outputs, dim=1)\n",
    "        step_accuracy = accuracy(predictions, labels)\n",
    "        \n",
    "        self.log(\"val_loss\", loss, prog_bar=True, logger=True)\n",
    "        self.log(\"val_accuracy\", step_accuracy, prog_bar=True, logger=True)\n",
    "        \n",
    "        return {\"loss\": loss, \"accuracy\": step_accuracy}\n",
    "    \n",
    "    def test_step(self, batch, batch_idx):\n",
    "        sequences = batch[\"sequence\"]\n",
    "        labels = batch[\"label\"]\n",
    "        loss, outputs = self(sequences, labels)\n",
    "        predictions = torch.argmax(outputs, dim=1)\n",
    "        step_accuracy = accuracy(predictions, labels)\n",
    "        \n",
    "        self.log(\"test_loss\", loss, prog_bar=True, logger=True)\n",
    "        self.log(\"test_accuracy\", step_accuracy, prog_bar=True, logger=True)\n",
    "        \n",
    "        return {\"loss\": loss, \"accuracy\": step_accuracy}\n",
    "    \n",
    "    def configure_optimizers(self):\n",
    "        return optim.Adam(self.parameters(), lr=0.0001)"
   ]
  },
  {
   "cell_type": "markdown",
   "id": "ad2dc18a",
   "metadata": {},
   "source": [
    "## 參數設置"
   ]
  },
  {
   "cell_type": "code",
   "execution_count": null,
   "id": "6907a100",
   "metadata": {},
   "outputs": [],
   "source": []
  },
  {
   "cell_type": "code",
   "execution_count": 3,
   "id": "4a725d49",
   "metadata": {},
   "outputs": [
    {
     "data": {
      "text/html": [
       "\n",
       "      <iframe id=\"tensorboard-frame-1c80317fa3b1799d\" width=\"100%\" height=\"800\" frameborder=\"0\">\n",
       "      </iframe>\n",
       "      <script>\n",
       "        (function() {\n",
       "          const frame = document.getElementById(\"tensorboard-frame-1c80317fa3b1799d\");\n",
       "          const url = new URL(\"/\", window.location);\n",
       "          const port = 8888;\n",
       "          if (port) {\n",
       "            url.port = port;\n",
       "          }\n",
       "          frame.src = url;\n",
       "        })();\n",
       "      </script>\n",
       "    "
      ],
      "text/plain": [
       "<IPython.core.display.HTML object>"
      ]
     },
     "metadata": {},
     "output_type": "display_data"
    }
   ],
   "source": [
    "%load_ext tensorboard\n",
    "%reload_ext tensorboard\n",
    "%tensorboard --logdir ./lightning_logs --host 0.0.0.0 --port=8888"
   ]
  },
  {
   "cell_type": "code",
   "execution_count": 4,
   "id": "fbedfd71",
   "metadata": {},
   "outputs": [],
   "source": [
    "X_train = pd.read_csv('../data2.csv')"
   ]
  },
  {
   "cell_type": "code",
   "execution_count": 5,
   "id": "d89bca4d",
   "metadata": {},
   "outputs": [],
   "source": [
    "N_EPOCHS = 200\n",
    "BATCH_SIZE = 50\n",
    "\n",
    "# randomed \n",
    "ORG_FEATURE_COLUMNS = ['FZ', 'CZ', 'O2', 'T4', 'FT7', 'CPZ', 'F8', 'TP8', 'VEOU', 'P4', 'VEOL', 'C4', 'PO1', 'TP7', 'C3', 'FT10', 'O1', 'T6', 'T3', 'OZ', 'FP1', 'P3', 'F7', 'FT8', 'A2', 'FP2', 'FT9', 'HEOL', 'T5', 'FC4', 'FC3', 'HEOR', 'PZ', 'PO2', 'F4', 'F3', 'CP4', 'CP3', 'FCZ', 'A1']\n",
    "g = X_train.groupby(\"group\")"
   ]
  },
  {
   "cell_type": "code",
   "execution_count": 6,
   "id": "86846dc3",
   "metadata": {},
   "outputs": [],
   "source": [
    "# import random\n",
    "# ORG_FEATURE_COLUMNS = ['TP8', 'FP2', 'FCZ', 'FT10', 'O2', 'O1', 'FT7', 'F4', 'TP7', 'C3', 'C4', 'F3', 'FT8', 'T6', 'HEOR', 'T5', 'VEOL', 'F7', 'FZ', 'VEOU', 'A1', 'P3', 'PZ', 'CP3', 'P4', 'CPZ', 'A2', 'HEOL', 'CP4', 'FT9', 'F8', 'OZ', 'CZ', 'FC4', 'FC3', 'FP1', 'PO1', 'T3', 'T4', 'PO2']\n",
    "# random.shuffle(ORG_FEATURE_COLUMNS)\n",
    "# print(ORG_FEATURE_COLUMNS)"
   ]
  },
  {
   "cell_type": "markdown",
   "id": "90c9ac6d",
   "metadata": {},
   "source": [
    "## Main"
   ]
  },
  {
   "cell_type": "code",
   "execution_count": 7,
   "id": "484d3379",
   "metadata": {},
   "outputs": [
    {
     "name": "stdout",
     "output_type": "stream",
     "text": [
      "------------------ Round: 20 ------------------\n",
      "['FP1', 'P3', 'F7', 'FT8', 'A2', 'FP2', 'FT9', 'HEOL', 'T5', 'FC4', 'FC3', 'HEOR', 'PZ', 'PO2', 'F4', 'F3', 'CP4', 'CP3', 'FCZ', 'A1']\n",
      "Len: 20\n"
     ]
    },
    {
     "name": "stderr",
     "output_type": "stream",
     "text": [
      "GPU available: True, used: True\n",
      "TPU available: False, using: 0 TPU cores\n",
      "IPU available: False, using: 0 IPUs\n",
      "Restoring states from the checkpoint path at /Workspace/code/checkpoints/best-checkpoint-corr-random-20-v6.ckpt\n",
      "LOCAL_RANK: 0 - CUDA_VISIBLE_DEVICES: [0,1,2]\n",
      "/usr/local/lib/python3.6/dist-packages/pytorch_lightning/trainer/connectors/checkpoint_connector.py:248: UserWarning: You're resuming from a checkpoint that ended mid-epoch. Training will start from the beginning of the next epoch. This can cause unreliable results if further training is done, consider using an end of epoch checkpoint.\n",
      "  \"You're resuming from a checkpoint that ended mid-epoch.\"\n",
      "Restored all states from the checkpoint file at /Workspace/code/checkpoints/best-checkpoint-corr-random-20-v6.ckpt\n",
      "\n",
      "  | Name      | Type             | Params\n",
      "-----------------------------------------------\n",
      "0 | model     | DrowsyModel      | 1.3 M \n",
      "1 | criterion | CrossEntropyLoss | 0     \n",
      "-----------------------------------------------\n",
      "1.3 M     Trainable params\n",
      "0         Non-trainable params\n",
      "1.3 M     Total params\n",
      "5.351     Total estimated model params size (MB)\n",
      "/usr/local/lib/python3.6/dist-packages/pytorch_lightning/callbacks/model_checkpoint.py:631: UserWarning: Checkpoint directory /Workspace/code/checkpoints exists and is not empty.\n",
      "  rank_zero_warn(f\"Checkpoint directory {dirpath} exists and is not empty.\")\n"
     ]
    },
    {
     "name": "stdout",
     "output_type": "stream",
     "text": [
      "                                                                      "
     ]
    },
    {
     "name": "stderr",
     "output_type": "stream",
     "text": [
      "Global seed set to 42\n"
     ]
    },
    {
     "name": "stdout",
     "output_type": "stream",
     "text": [
      "Epoch 85:  89%|████████▊ | 226/255 [01:22<00:10,  2.75it/s, loss=0.13, v_num=1, train_loss=0.0412, train_accuracy=1.000] \n",
      "Validating: 0it [00:00, ?it/s]\u001b[A\n",
      "Validating:   0%|          | 0/29 [00:00<?, ?it/s]\u001b[A\n",
      "Epoch 85:  89%|████████▉ | 228/255 [01:24<00:09,  2.71it/s, loss=0.13, v_num=1, train_loss=0.0412, train_accuracy=1.000]\n",
      "Epoch 85:  90%|█████████ | 230/255 [01:24<00:09,  2.72it/s, loss=0.13, v_num=1, train_loss=0.0412, train_accuracy=1.000]\n",
      "Epoch 85:  91%|█████████ | 232/255 [01:24<00:08,  2.74it/s, loss=0.13, v_num=1, train_loss=0.0412, train_accuracy=1.000]\n",
      "Epoch 85:  92%|█████████▏| 234/255 [01:24<00:07,  2.76it/s, loss=0.13, v_num=1, train_loss=0.0412, train_accuracy=1.000]\n",
      "Epoch 85:  93%|█████████▎| 236/255 [01:24<00:06,  2.78it/s, loss=0.13, v_num=1, train_loss=0.0412, train_accuracy=1.000]\n",
      "Epoch 85:  93%|█████████▎| 238/255 [01:25<00:06,  2.79it/s, loss=0.13, v_num=1, train_loss=0.0412, train_accuracy=1.000]\n",
      "Epoch 85:  94%|█████████▍| 240/255 [01:25<00:05,  2.81it/s, loss=0.13, v_num=1, train_loss=0.0412, train_accuracy=1.000]\n",
      "Epoch 85:  95%|█████████▍| 242/255 [01:25<00:04,  2.83it/s, loss=0.13, v_num=1, train_loss=0.0412, train_accuracy=1.000]\n",
      "Epoch 85:  96%|█████████▌| 244/255 [01:25<00:03,  2.85it/s, loss=0.13, v_num=1, train_loss=0.0412, train_accuracy=1.000]\n",
      "Epoch 85:  96%|█████████▋| 246/255 [01:25<00:03,  2.87it/s, loss=0.13, v_num=1, train_loss=0.0412, train_accuracy=1.000]\n",
      "Epoch 85:  97%|█████████▋| 248/255 [01:25<00:02,  2.88it/s, loss=0.13, v_num=1, train_loss=0.0412, train_accuracy=1.000]\n",
      "Epoch 85:  98%|█████████▊| 250/255 [01:26<00:01,  2.90it/s, loss=0.13, v_num=1, train_loss=0.0412, train_accuracy=1.000]\n",
      "Epoch 85:  99%|█████████▉| 252/255 [01:26<00:01,  2.92it/s, loss=0.13, v_num=1, train_loss=0.0412, train_accuracy=1.000]\n",
      "Epoch 85: 100%|█████████▉| 254/255 [01:26<00:00,  2.94it/s, loss=0.13, v_num=1, train_loss=0.0412, train_accuracy=1.000]\n",
      "Epoch 85: 100%|██████████| 255/255 [01:26<00:00,  2.93it/s, loss=0.13, v_num=1, train_loss=0.0412, train_accuracy=1.000, val_loss=0.237, val_accuracy=0.908]\n",
      "Epoch 85: 100%|██████████| 255/255 [01:26<00:00,  2.93it/s, loss=0.13, v_num=1, train_loss=0.0412, train_accuracy=1.000, val_loss=0.237, val_accuracy=0.908]"
     ]
    },
    {
     "name": "stderr",
     "output_type": "stream",
     "text": [
      "Epoch 85, global step 19435: val_loss was not in top 2\n"
     ]
    },
    {
     "name": "stdout",
     "output_type": "stream",
     "text": [
      "Epoch 86:  89%|████████▊ | 226/255 [01:20<00:10,  2.80it/s, loss=0.132, v_num=1, train_loss=0.109, train_accuracy=0.944, val_loss=0.237, val_accuracy=0.908] \n",
      "Validating: 0it [00:00, ?it/s]\u001b[A\n",
      "Validating:   0%|          | 0/29 [00:00<?, ?it/s]\u001b[A\n",
      "Epoch 86:  89%|████████▉ | 228/255 [01:22<00:09,  2.76it/s, loss=0.132, v_num=1, train_loss=0.109, train_accuracy=0.944, val_loss=0.237, val_accuracy=0.908]\n",
      "Epoch 86:  90%|█████████ | 230/255 [01:22<00:09,  2.77it/s, loss=0.132, v_num=1, train_loss=0.109, train_accuracy=0.944, val_loss=0.237, val_accuracy=0.908]\n",
      "Epoch 86:  91%|█████████ | 232/255 [01:23<00:08,  2.79it/s, loss=0.132, v_num=1, train_loss=0.109, train_accuracy=0.944, val_loss=0.237, val_accuracy=0.908]\n",
      "Epoch 86:  92%|█████████▏| 234/255 [01:23<00:07,  2.81it/s, loss=0.132, v_num=1, train_loss=0.109, train_accuracy=0.944, val_loss=0.237, val_accuracy=0.908]\n",
      "Epoch 86:  93%|█████████▎| 236/255 [01:23<00:06,  2.83it/s, loss=0.132, v_num=1, train_loss=0.109, train_accuracy=0.944, val_loss=0.237, val_accuracy=0.908]\n",
      "Epoch 86:  93%|█████████▎| 238/255 [01:23<00:05,  2.85it/s, loss=0.132, v_num=1, train_loss=0.109, train_accuracy=0.944, val_loss=0.237, val_accuracy=0.908]\n",
      "Epoch 86:  94%|█████████▍| 240/255 [01:23<00:05,  2.87it/s, loss=0.132, v_num=1, train_loss=0.109, train_accuracy=0.944, val_loss=0.237, val_accuracy=0.908]\n",
      "Epoch 86:  95%|█████████▍| 242/255 [01:23<00:04,  2.89it/s, loss=0.132, v_num=1, train_loss=0.109, train_accuracy=0.944, val_loss=0.237, val_accuracy=0.908]\n",
      "Epoch 86:  96%|█████████▌| 244/255 [01:23<00:03,  2.91it/s, loss=0.132, v_num=1, train_loss=0.109, train_accuracy=0.944, val_loss=0.237, val_accuracy=0.908]\n",
      "Epoch 86:  96%|█████████▋| 246/255 [01:24<00:03,  2.93it/s, loss=0.132, v_num=1, train_loss=0.109, train_accuracy=0.944, val_loss=0.237, val_accuracy=0.908]\n",
      "Epoch 86:  97%|█████████▋| 248/255 [01:24<00:02,  2.94it/s, loss=0.132, v_num=1, train_loss=0.109, train_accuracy=0.944, val_loss=0.237, val_accuracy=0.908]\n",
      "Epoch 86:  98%|█████████▊| 250/255 [01:24<00:01,  2.96it/s, loss=0.132, v_num=1, train_loss=0.109, train_accuracy=0.944, val_loss=0.237, val_accuracy=0.908]\n",
      "Epoch 86:  99%|█████████▉| 252/255 [01:24<00:01,  2.98it/s, loss=0.132, v_num=1, train_loss=0.109, train_accuracy=0.944, val_loss=0.237, val_accuracy=0.908]\n",
      "Epoch 86: 100%|█████████▉| 254/255 [01:24<00:00,  3.00it/s, loss=0.132, v_num=1, train_loss=0.109, train_accuracy=0.944, val_loss=0.237, val_accuracy=0.908]\n",
      "Epoch 86: 100%|██████████| 255/255 [01:25<00:00,  2.99it/s, loss=0.132, v_num=1, train_loss=0.109, train_accuracy=0.944, val_loss=0.200, val_accuracy=0.928]\n",
      "Epoch 86: 100%|██████████| 255/255 [01:25<00:00,  2.99it/s, loss=0.132, v_num=1, train_loss=0.109, train_accuracy=0.944, val_loss=0.200, val_accuracy=0.928]"
     ]
    },
    {
     "name": "stderr",
     "output_type": "stream",
     "text": [
      "Epoch 86, global step 19661: val_loss reached 0.20019 (best 0.19623), saving model to \"/Workspace/code/checkpoints/best-checkpoint-corr-random-20-v6.ckpt\" as top 2\n"
     ]
    },
    {
     "name": "stdout",
     "output_type": "stream",
     "text": [
      "Epoch 87:  89%|████████▊ | 226/255 [01:21<00:10,  2.76it/s, loss=0.118, v_num=1, train_loss=0.0978, train_accuracy=0.944, val_loss=0.200, val_accuracy=0.928]\n",
      "Validating: 0it [00:00, ?it/s]\u001b[A\n",
      "Validating:   0%|          | 0/29 [00:00<?, ?it/s]\u001b[A\n",
      "Epoch 87:  89%|████████▉ | 228/255 [01:23<00:09,  2.72it/s, loss=0.118, v_num=1, train_loss=0.0978, train_accuracy=0.944, val_loss=0.200, val_accuracy=0.928]\n",
      "Epoch 87:  90%|█████████ | 230/255 [01:24<00:09,  2.73it/s, loss=0.118, v_num=1, train_loss=0.0978, train_accuracy=0.944, val_loss=0.200, val_accuracy=0.928]\n",
      "Epoch 87:  91%|█████████ | 232/255 [01:24<00:08,  2.75it/s, loss=0.118, v_num=1, train_loss=0.0978, train_accuracy=0.944, val_loss=0.200, val_accuracy=0.928]\n",
      "Epoch 87:  92%|█████████▏| 234/255 [01:24<00:07,  2.77it/s, loss=0.118, v_num=1, train_loss=0.0978, train_accuracy=0.944, val_loss=0.200, val_accuracy=0.928]\n",
      "Epoch 87:  93%|█████████▎| 236/255 [01:24<00:06,  2.79it/s, loss=0.118, v_num=1, train_loss=0.0978, train_accuracy=0.944, val_loss=0.200, val_accuracy=0.928]\n",
      "Epoch 87:  93%|█████████▎| 238/255 [01:24<00:06,  2.81it/s, loss=0.118, v_num=1, train_loss=0.0978, train_accuracy=0.944, val_loss=0.200, val_accuracy=0.928]\n",
      "Epoch 87:  94%|█████████▍| 240/255 [01:24<00:05,  2.82it/s, loss=0.118, v_num=1, train_loss=0.0978, train_accuracy=0.944, val_loss=0.200, val_accuracy=0.928]\n",
      "Epoch 87:  95%|█████████▍| 242/255 [01:25<00:04,  2.84it/s, loss=0.118, v_num=1, train_loss=0.0978, train_accuracy=0.944, val_loss=0.200, val_accuracy=0.928]\n",
      "Epoch 87:  96%|█████████▌| 244/255 [01:25<00:03,  2.86it/s, loss=0.118, v_num=1, train_loss=0.0978, train_accuracy=0.944, val_loss=0.200, val_accuracy=0.928]\n",
      "Epoch 87:  96%|█████████▋| 246/255 [01:25<00:03,  2.88it/s, loss=0.118, v_num=1, train_loss=0.0978, train_accuracy=0.944, val_loss=0.200, val_accuracy=0.928]\n",
      "Epoch 87:  97%|█████████▋| 248/255 [01:25<00:02,  2.89it/s, loss=0.118, v_num=1, train_loss=0.0978, train_accuracy=0.944, val_loss=0.200, val_accuracy=0.928]\n",
      "Epoch 87:  98%|█████████▊| 250/255 [01:25<00:01,  2.91it/s, loss=0.118, v_num=1, train_loss=0.0978, train_accuracy=0.944, val_loss=0.200, val_accuracy=0.928]\n",
      "Epoch 87:  99%|█████████▉| 252/255 [01:26<00:01,  2.93it/s, loss=0.118, v_num=1, train_loss=0.0978, train_accuracy=0.944, val_loss=0.200, val_accuracy=0.928]\n",
      "Epoch 87: 100%|█████████▉| 254/255 [01:26<00:00,  2.94it/s, loss=0.118, v_num=1, train_loss=0.0978, train_accuracy=0.944, val_loss=0.200, val_accuracy=0.928]\n",
      "Epoch 87: 100%|██████████| 255/255 [01:26<00:00,  2.94it/s, loss=0.118, v_num=1, train_loss=0.0978, train_accuracy=0.944, val_loss=0.196, val_accuracy=0.930]\n",
      "Epoch 87: 100%|██████████| 255/255 [01:26<00:00,  2.94it/s, loss=0.118, v_num=1, train_loss=0.0978, train_accuracy=0.944, val_loss=0.196, val_accuracy=0.930]"
     ]
    },
    {
     "name": "stderr",
     "output_type": "stream",
     "text": [
      "Epoch 87, global step 19887: val_loss reached 0.19600 (best 0.19600), saving model to \"/Workspace/code/checkpoints/best-checkpoint-corr-random-20-v6.ckpt\" as top 2\n"
     ]
    },
    {
     "name": "stdout",
     "output_type": "stream",
     "text": [
      "Epoch 88:  89%|████████▊ | 226/255 [01:21<00:10,  2.77it/s, loss=0.117, v_num=1, train_loss=0.278, train_accuracy=0.833, val_loss=0.196, val_accuracy=0.930] \n",
      "Validating: 0it [00:00, ?it/s]\u001b[A\n",
      "Validating:   0%|          | 0/29 [00:00<?, ?it/s]\u001b[A\n",
      "Epoch 88:  89%|████████▉ | 228/255 [01:23<00:09,  2.72it/s, loss=0.117, v_num=1, train_loss=0.278, train_accuracy=0.833, val_loss=0.196, val_accuracy=0.930]\n",
      "Epoch 88:  90%|█████████ | 230/255 [01:24<00:09,  2.74it/s, loss=0.117, v_num=1, train_loss=0.278, train_accuracy=0.833, val_loss=0.196, val_accuracy=0.930]\n",
      "Epoch 88:  91%|█████████ | 232/255 [01:24<00:08,  2.75it/s, loss=0.117, v_num=1, train_loss=0.278, train_accuracy=0.833, val_loss=0.196, val_accuracy=0.930]\n",
      "Epoch 88:  92%|█████████▏| 234/255 [01:24<00:07,  2.77it/s, loss=0.117, v_num=1, train_loss=0.278, train_accuracy=0.833, val_loss=0.196, val_accuracy=0.930]\n",
      "Epoch 88:  93%|█████████▎| 236/255 [01:24<00:06,  2.79it/s, loss=0.117, v_num=1, train_loss=0.278, train_accuracy=0.833, val_loss=0.196, val_accuracy=0.930]\n",
      "Epoch 88:  93%|█████████▎| 238/255 [01:24<00:06,  2.81it/s, loss=0.117, v_num=1, train_loss=0.278, train_accuracy=0.833, val_loss=0.196, val_accuracy=0.930]\n",
      "Epoch 88:  94%|█████████▍| 240/255 [01:24<00:05,  2.83it/s, loss=0.117, v_num=1, train_loss=0.278, train_accuracy=0.833, val_loss=0.196, val_accuracy=0.930]\n",
      "Epoch 88:  95%|█████████▍| 242/255 [01:25<00:04,  2.84it/s, loss=0.117, v_num=1, train_loss=0.278, train_accuracy=0.833, val_loss=0.196, val_accuracy=0.930]\n",
      "Epoch 88:  96%|█████████▌| 244/255 [01:25<00:03,  2.86it/s, loss=0.117, v_num=1, train_loss=0.278, train_accuracy=0.833, val_loss=0.196, val_accuracy=0.930]\n",
      "Epoch 88:  96%|█████████▋| 246/255 [01:25<00:03,  2.88it/s, loss=0.117, v_num=1, train_loss=0.278, train_accuracy=0.833, val_loss=0.196, val_accuracy=0.930]\n",
      "Epoch 88:  97%|█████████▋| 248/255 [01:25<00:02,  2.90it/s, loss=0.117, v_num=1, train_loss=0.278, train_accuracy=0.833, val_loss=0.196, val_accuracy=0.930]\n",
      "Epoch 88:  98%|█████████▊| 250/255 [01:25<00:01,  2.92it/s, loss=0.117, v_num=1, train_loss=0.278, train_accuracy=0.833, val_loss=0.196, val_accuracy=0.930]\n",
      "Epoch 88:  99%|█████████▉| 252/255 [01:25<00:01,  2.94it/s, loss=0.117, v_num=1, train_loss=0.278, train_accuracy=0.833, val_loss=0.196, val_accuracy=0.930]\n",
      "Epoch 88: 100%|█████████▉| 254/255 [01:26<00:00,  2.95it/s, loss=0.117, v_num=1, train_loss=0.278, train_accuracy=0.833, val_loss=0.196, val_accuracy=0.930]\n",
      "Epoch 88: 100%|██████████| 255/255 [01:26<00:00,  2.95it/s, loss=0.117, v_num=1, train_loss=0.278, train_accuracy=0.833, val_loss=0.196, val_accuracy=0.928]\n",
      "Epoch 88: 100%|██████████| 255/255 [01:26<00:00,  2.95it/s, loss=0.117, v_num=1, train_loss=0.278, train_accuracy=0.833, val_loss=0.196, val_accuracy=0.928]"
     ]
    },
    {
     "name": "stderr",
     "output_type": "stream",
     "text": [
      "Epoch 88, global step 20113: val_loss reached 0.19561 (best 0.19561), saving model to \"/Workspace/code/checkpoints/best-checkpoint-corr-random-20-v5.ckpt\" as top 2\n"
     ]
    },
    {
     "name": "stdout",
     "output_type": "stream",
     "text": [
      "Epoch 89:  89%|████████▊ | 226/255 [01:21<00:10,  2.76it/s, loss=0.181, v_num=1, train_loss=0.367, train_accuracy=0.889, val_loss=0.196, val_accuracy=0.928] \n",
      "Validating: 0it [00:00, ?it/s]\u001b[A\n",
      "Validating:   0%|          | 0/29 [00:00<?, ?it/s]\u001b[A\n",
      "Epoch 89:  89%|████████▉ | 228/255 [01:24<00:09,  2.71it/s, loss=0.181, v_num=1, train_loss=0.367, train_accuracy=0.889, val_loss=0.196, val_accuracy=0.928]\n",
      "Epoch 89:  90%|█████████ | 230/255 [01:24<00:09,  2.73it/s, loss=0.181, v_num=1, train_loss=0.367, train_accuracy=0.889, val_loss=0.196, val_accuracy=0.928]\n",
      "Epoch 89:  91%|█████████ | 232/255 [01:24<00:08,  2.75it/s, loss=0.181, v_num=1, train_loss=0.367, train_accuracy=0.889, val_loss=0.196, val_accuracy=0.928]\n",
      "Epoch 89:  92%|█████████▏| 234/255 [01:24<00:07,  2.77it/s, loss=0.181, v_num=1, train_loss=0.367, train_accuracy=0.889, val_loss=0.196, val_accuracy=0.928]\n",
      "Epoch 89:  93%|█████████▎| 236/255 [01:24<00:06,  2.78it/s, loss=0.181, v_num=1, train_loss=0.367, train_accuracy=0.889, val_loss=0.196, val_accuracy=0.928]\n",
      "Epoch 89:  93%|█████████▎| 238/255 [01:24<00:06,  2.80it/s, loss=0.181, v_num=1, train_loss=0.367, train_accuracy=0.889, val_loss=0.196, val_accuracy=0.928]\n",
      "Epoch 89:  94%|█████████▍| 240/255 [01:25<00:05,  2.82it/s, loss=0.181, v_num=1, train_loss=0.367, train_accuracy=0.889, val_loss=0.196, val_accuracy=0.928]\n",
      "Epoch 89:  95%|█████████▍| 242/255 [01:25<00:04,  2.84it/s, loss=0.181, v_num=1, train_loss=0.367, train_accuracy=0.889, val_loss=0.196, val_accuracy=0.928]\n",
      "Epoch 89:  96%|█████████▌| 244/255 [01:25<00:03,  2.85it/s, loss=0.181, v_num=1, train_loss=0.367, train_accuracy=0.889, val_loss=0.196, val_accuracy=0.928]\n",
      "Epoch 89:  96%|█████████▋| 246/255 [01:25<00:03,  2.87it/s, loss=0.181, v_num=1, train_loss=0.367, train_accuracy=0.889, val_loss=0.196, val_accuracy=0.928]\n",
      "Epoch 89:  97%|█████████▋| 248/255 [01:25<00:02,  2.89it/s, loss=0.181, v_num=1, train_loss=0.367, train_accuracy=0.889, val_loss=0.196, val_accuracy=0.928]\n",
      "Epoch 89:  98%|█████████▊| 250/255 [01:26<00:01,  2.91it/s, loss=0.181, v_num=1, train_loss=0.367, train_accuracy=0.889, val_loss=0.196, val_accuracy=0.928]\n",
      "Epoch 89:  99%|█████████▉| 252/255 [01:26<00:01,  2.92it/s, loss=0.181, v_num=1, train_loss=0.367, train_accuracy=0.889, val_loss=0.196, val_accuracy=0.928]\n",
      "Epoch 89: 100%|█████████▉| 254/255 [01:26<00:00,  2.94it/s, loss=0.181, v_num=1, train_loss=0.367, train_accuracy=0.889, val_loss=0.196, val_accuracy=0.928]\n",
      "Epoch 89: 100%|██████████| 255/255 [01:26<00:00,  2.93it/s, loss=0.181, v_num=1, train_loss=0.367, train_accuracy=0.889, val_loss=0.195, val_accuracy=0.928]\n",
      "Epoch 89: 100%|██████████| 255/255 [01:26<00:00,  2.93it/s, loss=0.181, v_num=1, train_loss=0.367, train_accuracy=0.889, val_loss=0.195, val_accuracy=0.928]"
     ]
    },
    {
     "name": "stderr",
     "output_type": "stream",
     "text": [
      "Epoch 89, global step 20339: val_loss reached 0.19512 (best 0.19512), saving model to \"/Workspace/code/checkpoints/best-checkpoint-corr-random-20-v6.ckpt\" as top 2\n"
     ]
    },
    {
     "name": "stdout",
     "output_type": "stream",
     "text": [
      "Epoch 90:  89%|████████▊ | 226/255 [01:21<00:10,  2.76it/s, loss=0.126, v_num=1, train_loss=0.110, train_accuracy=0.889, val_loss=0.195, val_accuracy=0.928]  \n",
      "Validating: 0it [00:00, ?it/s]\u001b[A\n",
      "Validating:   0%|          | 0/29 [00:00<?, ?it/s]\u001b[A\n",
      "Epoch 90:  89%|████████▉ | 228/255 [01:24<00:09,  2.71it/s, loss=0.126, v_num=1, train_loss=0.110, train_accuracy=0.889, val_loss=0.195, val_accuracy=0.928]\n",
      "Epoch 90:  90%|█████████ | 230/255 [01:24<00:09,  2.73it/s, loss=0.126, v_num=1, train_loss=0.110, train_accuracy=0.889, val_loss=0.195, val_accuracy=0.928]\n",
      "Epoch 90:  91%|█████████ | 232/255 [01:24<00:08,  2.74it/s, loss=0.126, v_num=1, train_loss=0.110, train_accuracy=0.889, val_loss=0.195, val_accuracy=0.928]\n",
      "Epoch 90:  92%|█████████▏| 234/255 [01:24<00:07,  2.76it/s, loss=0.126, v_num=1, train_loss=0.110, train_accuracy=0.889, val_loss=0.195, val_accuracy=0.928]\n",
      "Epoch 90:  93%|█████████▎| 236/255 [01:24<00:06,  2.78it/s, loss=0.126, v_num=1, train_loss=0.110, train_accuracy=0.889, val_loss=0.195, val_accuracy=0.928]\n",
      "Epoch 90:  93%|█████████▎| 238/255 [01:24<00:06,  2.80it/s, loss=0.126, v_num=1, train_loss=0.110, train_accuracy=0.889, val_loss=0.195, val_accuracy=0.928]\n",
      "Epoch 90:  94%|█████████▍| 240/255 [01:25<00:05,  2.82it/s, loss=0.126, v_num=1, train_loss=0.110, train_accuracy=0.889, val_loss=0.195, val_accuracy=0.928]\n",
      "Epoch 90:  95%|█████████▍| 242/255 [01:25<00:04,  2.84it/s, loss=0.126, v_num=1, train_loss=0.110, train_accuracy=0.889, val_loss=0.195, val_accuracy=0.928]\n",
      "Epoch 90:  96%|█████████▌| 244/255 [01:25<00:03,  2.85it/s, loss=0.126, v_num=1, train_loss=0.110, train_accuracy=0.889, val_loss=0.195, val_accuracy=0.928]\n",
      "Epoch 90:  96%|█████████▋| 246/255 [01:25<00:03,  2.87it/s, loss=0.126, v_num=1, train_loss=0.110, train_accuracy=0.889, val_loss=0.195, val_accuracy=0.928]\n",
      "Epoch 90:  97%|█████████▋| 248/255 [01:25<00:02,  2.89it/s, loss=0.126, v_num=1, train_loss=0.110, train_accuracy=0.889, val_loss=0.195, val_accuracy=0.928]\n",
      "Epoch 90:  98%|█████████▊| 250/255 [01:25<00:01,  2.91it/s, loss=0.126, v_num=1, train_loss=0.110, train_accuracy=0.889, val_loss=0.195, val_accuracy=0.928]\n",
      "Epoch 90:  99%|█████████▉| 252/255 [01:26<00:01,  2.92it/s, loss=0.126, v_num=1, train_loss=0.110, train_accuracy=0.889, val_loss=0.195, val_accuracy=0.928]\n",
      "Epoch 90: 100%|█████████▉| 254/255 [01:26<00:00,  2.94it/s, loss=0.126, v_num=1, train_loss=0.110, train_accuracy=0.889, val_loss=0.195, val_accuracy=0.928]\n",
      "Epoch 90: 100%|██████████| 255/255 [01:26<00:00,  2.94it/s, loss=0.126, v_num=1, train_loss=0.110, train_accuracy=0.889, val_loss=0.202, val_accuracy=0.929]\n",
      "Epoch 90: 100%|██████████| 255/255 [01:26<00:00,  2.94it/s, loss=0.126, v_num=1, train_loss=0.110, train_accuracy=0.889, val_loss=0.202, val_accuracy=0.929]"
     ]
    },
    {
     "name": "stderr",
     "output_type": "stream",
     "text": [
      "Epoch 90, global step 20565: val_loss was not in top 2\n"
     ]
    },
    {
     "name": "stdout",
     "output_type": "stream",
     "text": [
      "Epoch 91:  89%|████████▊ | 226/255 [01:22<00:10,  2.75it/s, loss=0.172, v_num=1, train_loss=0.142, train_accuracy=0.944, val_loss=0.202, val_accuracy=0.929] \n",
      "Validating: 0it [00:00, ?it/s]\u001b[A\n",
      "Validating:   0%|          | 0/29 [00:00<?, ?it/s]\u001b[A\n",
      "Epoch 91:  89%|████████▉ | 228/255 [01:24<00:09,  2.70it/s, loss=0.172, v_num=1, train_loss=0.142, train_accuracy=0.944, val_loss=0.202, val_accuracy=0.929]\n",
      "Epoch 91:  90%|█████████ | 230/255 [01:24<00:09,  2.72it/s, loss=0.172, v_num=1, train_loss=0.142, train_accuracy=0.944, val_loss=0.202, val_accuracy=0.929]\n",
      "Epoch 91:  91%|█████████ | 232/255 [01:24<00:08,  2.74it/s, loss=0.172, v_num=1, train_loss=0.142, train_accuracy=0.944, val_loss=0.202, val_accuracy=0.929]\n",
      "Epoch 91:  92%|█████████▏| 234/255 [01:24<00:07,  2.76it/s, loss=0.172, v_num=1, train_loss=0.142, train_accuracy=0.944, val_loss=0.202, val_accuracy=0.929]\n",
      "Epoch 91:  93%|█████████▎| 236/255 [01:25<00:06,  2.77it/s, loss=0.172, v_num=1, train_loss=0.142, train_accuracy=0.944, val_loss=0.202, val_accuracy=0.929]\n",
      "Epoch 91:  93%|█████████▎| 238/255 [01:25<00:06,  2.79it/s, loss=0.172, v_num=1, train_loss=0.142, train_accuracy=0.944, val_loss=0.202, val_accuracy=0.929]\n",
      "Epoch 91:  94%|█████████▍| 240/255 [01:25<00:05,  2.81it/s, loss=0.172, v_num=1, train_loss=0.142, train_accuracy=0.944, val_loss=0.202, val_accuracy=0.929]\n",
      "Epoch 91:  95%|█████████▍| 242/255 [01:25<00:04,  2.83it/s, loss=0.172, v_num=1, train_loss=0.142, train_accuracy=0.944, val_loss=0.202, val_accuracy=0.929]\n",
      "Epoch 91:  96%|█████████▌| 244/255 [01:25<00:03,  2.84it/s, loss=0.172, v_num=1, train_loss=0.142, train_accuracy=0.944, val_loss=0.202, val_accuracy=0.929]\n",
      "Epoch 91:  96%|█████████▋| 246/255 [01:25<00:03,  2.86it/s, loss=0.172, v_num=1, train_loss=0.142, train_accuracy=0.944, val_loss=0.202, val_accuracy=0.929]\n",
      "Epoch 91:  97%|█████████▋| 248/255 [01:26<00:02,  2.88it/s, loss=0.172, v_num=1, train_loss=0.142, train_accuracy=0.944, val_loss=0.202, val_accuracy=0.929]\n",
      "Epoch 91:  98%|█████████▊| 250/255 [01:26<00:01,  2.90it/s, loss=0.172, v_num=1, train_loss=0.142, train_accuracy=0.944, val_loss=0.202, val_accuracy=0.929]\n",
      "Epoch 91:  99%|█████████▉| 252/255 [01:26<00:01,  2.92it/s, loss=0.172, v_num=1, train_loss=0.142, train_accuracy=0.944, val_loss=0.202, val_accuracy=0.929]\n",
      "Epoch 91: 100%|█████████▉| 254/255 [01:26<00:00,  2.93it/s, loss=0.172, v_num=1, train_loss=0.142, train_accuracy=0.944, val_loss=0.202, val_accuracy=0.929]\n",
      "Epoch 91: 100%|██████████| 255/255 [01:27<00:00,  2.93it/s, loss=0.172, v_num=1, train_loss=0.142, train_accuracy=0.944, val_loss=0.205, val_accuracy=0.923]\n",
      "Epoch 91: 100%|██████████| 255/255 [01:27<00:00,  2.93it/s, loss=0.172, v_num=1, train_loss=0.142, train_accuracy=0.944, val_loss=0.205, val_accuracy=0.923]"
     ]
    },
    {
     "name": "stderr",
     "output_type": "stream",
     "text": [
      "Epoch 91, global step 20791: val_loss was not in top 2\n"
     ]
    },
    {
     "name": "stdout",
     "output_type": "stream",
     "text": [
      "Epoch 92:  89%|████████▊ | 226/255 [01:22<00:10,  2.75it/s, loss=0.111, v_num=1, train_loss=0.0529, train_accuracy=0.944, val_loss=0.205, val_accuracy=0.923]\n",
      "Validating: 0it [00:00, ?it/s]\u001b[A\n",
      "Validating:   0%|          | 0/29 [00:00<?, ?it/s]\u001b[A\n",
      "Epoch 92:  89%|████████▉ | 228/255 [01:24<00:09,  2.70it/s, loss=0.111, v_num=1, train_loss=0.0529, train_accuracy=0.944, val_loss=0.205, val_accuracy=0.923]\n",
      "Epoch 92:  90%|█████████ | 230/255 [01:24<00:09,  2.72it/s, loss=0.111, v_num=1, train_loss=0.0529, train_accuracy=0.944, val_loss=0.205, val_accuracy=0.923]\n",
      "Epoch 92:  91%|█████████ | 232/255 [01:24<00:08,  2.74it/s, loss=0.111, v_num=1, train_loss=0.0529, train_accuracy=0.944, val_loss=0.205, val_accuracy=0.923]\n",
      "Epoch 92:  92%|█████████▏| 234/255 [01:24<00:07,  2.76it/s, loss=0.111, v_num=1, train_loss=0.0529, train_accuracy=0.944, val_loss=0.205, val_accuracy=0.923]\n",
      "Epoch 92:  93%|█████████▎| 236/255 [01:25<00:06,  2.77it/s, loss=0.111, v_num=1, train_loss=0.0529, train_accuracy=0.944, val_loss=0.205, val_accuracy=0.923]\n",
      "Epoch 92:  93%|█████████▎| 238/255 [01:25<00:06,  2.79it/s, loss=0.111, v_num=1, train_loss=0.0529, train_accuracy=0.944, val_loss=0.205, val_accuracy=0.923]\n",
      "Epoch 92:  94%|█████████▍| 240/255 [01:25<00:05,  2.81it/s, loss=0.111, v_num=1, train_loss=0.0529, train_accuracy=0.944, val_loss=0.205, val_accuracy=0.923]\n",
      "Epoch 92:  95%|█████████▍| 242/255 [01:25<00:04,  2.83it/s, loss=0.111, v_num=1, train_loss=0.0529, train_accuracy=0.944, val_loss=0.205, val_accuracy=0.923]\n",
      "Epoch 92:  96%|█████████▌| 244/255 [01:25<00:03,  2.84it/s, loss=0.111, v_num=1, train_loss=0.0529, train_accuracy=0.944, val_loss=0.205, val_accuracy=0.923]\n",
      "Epoch 92:  96%|█████████▋| 246/255 [01:25<00:03,  2.86it/s, loss=0.111, v_num=1, train_loss=0.0529, train_accuracy=0.944, val_loss=0.205, val_accuracy=0.923]\n",
      "Epoch 92:  97%|█████████▋| 248/255 [01:26<00:02,  2.88it/s, loss=0.111, v_num=1, train_loss=0.0529, train_accuracy=0.944, val_loss=0.205, val_accuracy=0.923]\n",
      "Epoch 92:  98%|█████████▊| 250/255 [01:26<00:01,  2.90it/s, loss=0.111, v_num=1, train_loss=0.0529, train_accuracy=0.944, val_loss=0.205, val_accuracy=0.923]\n",
      "Epoch 92:  99%|█████████▉| 252/255 [01:26<00:01,  2.91it/s, loss=0.111, v_num=1, train_loss=0.0529, train_accuracy=0.944, val_loss=0.205, val_accuracy=0.923]\n",
      "Epoch 92: 100%|█████████▉| 254/255 [01:26<00:00,  2.93it/s, loss=0.111, v_num=1, train_loss=0.0529, train_accuracy=0.944, val_loss=0.205, val_accuracy=0.923]\n",
      "Epoch 92: 100%|██████████| 255/255 [01:27<00:00,  2.93it/s, loss=0.111, v_num=1, train_loss=0.0529, train_accuracy=0.944, val_loss=0.190, val_accuracy=0.936]\n",
      "Epoch 92: 100%|██████████| 255/255 [01:27<00:00,  2.93it/s, loss=0.111, v_num=1, train_loss=0.0529, train_accuracy=0.944, val_loss=0.190, val_accuracy=0.936]"
     ]
    },
    {
     "name": "stderr",
     "output_type": "stream",
     "text": [
      "Epoch 92, global step 21017: val_loss reached 0.18965 (best 0.18965), saving model to \"/Workspace/code/checkpoints/best-checkpoint-corr-random-20-v5.ckpt\" as top 2\n"
     ]
    },
    {
     "name": "stdout",
     "output_type": "stream",
     "text": [
      "Epoch 93:  89%|████████▊ | 226/255 [01:22<00:10,  2.75it/s, loss=0.12, v_num=1, train_loss=0.0854, train_accuracy=0.944, val_loss=0.190, val_accuracy=0.936] \n",
      "Validating: 0it [00:00, ?it/s]\u001b[A\n",
      "Validating:   0%|          | 0/29 [00:00<?, ?it/s]\u001b[A\n",
      "Epoch 93:  89%|████████▉ | 228/255 [01:24<00:09,  2.70it/s, loss=0.12, v_num=1, train_loss=0.0854, train_accuracy=0.944, val_loss=0.190, val_accuracy=0.936]\n",
      "Epoch 93:  90%|█████████ | 230/255 [01:24<00:09,  2.72it/s, loss=0.12, v_num=1, train_loss=0.0854, train_accuracy=0.944, val_loss=0.190, val_accuracy=0.936]\n",
      "Epoch 93:  91%|█████████ | 232/255 [01:24<00:08,  2.74it/s, loss=0.12, v_num=1, train_loss=0.0854, train_accuracy=0.944, val_loss=0.190, val_accuracy=0.936]\n",
      "Epoch 93:  92%|█████████▏| 234/255 [01:24<00:07,  2.76it/s, loss=0.12, v_num=1, train_loss=0.0854, train_accuracy=0.944, val_loss=0.190, val_accuracy=0.936]\n",
      "Epoch 93:  93%|█████████▎| 236/255 [01:25<00:06,  2.77it/s, loss=0.12, v_num=1, train_loss=0.0854, train_accuracy=0.944, val_loss=0.190, val_accuracy=0.936]\n",
      "Epoch 93:  93%|█████████▎| 238/255 [01:25<00:06,  2.79it/s, loss=0.12, v_num=1, train_loss=0.0854, train_accuracy=0.944, val_loss=0.190, val_accuracy=0.936]\n",
      "Epoch 93:  94%|█████████▍| 240/255 [01:25<00:05,  2.81it/s, loss=0.12, v_num=1, train_loss=0.0854, train_accuracy=0.944, val_loss=0.190, val_accuracy=0.936]\n",
      "Epoch 93:  95%|█████████▍| 242/255 [01:25<00:04,  2.83it/s, loss=0.12, v_num=1, train_loss=0.0854, train_accuracy=0.944, val_loss=0.190, val_accuracy=0.936]\n",
      "Epoch 93:  96%|█████████▌| 244/255 [01:25<00:03,  2.84it/s, loss=0.12, v_num=1, train_loss=0.0854, train_accuracy=0.944, val_loss=0.190, val_accuracy=0.936]\n",
      "Epoch 93:  96%|█████████▋| 246/255 [01:25<00:03,  2.86it/s, loss=0.12, v_num=1, train_loss=0.0854, train_accuracy=0.944, val_loss=0.190, val_accuracy=0.936]\n",
      "Epoch 93:  97%|█████████▋| 248/255 [01:26<00:02,  2.88it/s, loss=0.12, v_num=1, train_loss=0.0854, train_accuracy=0.944, val_loss=0.190, val_accuracy=0.936]\n",
      "Epoch 93:  98%|█████████▊| 250/255 [01:26<00:01,  2.90it/s, loss=0.12, v_num=1, train_loss=0.0854, train_accuracy=0.944, val_loss=0.190, val_accuracy=0.936]\n",
      "Epoch 93:  99%|█████████▉| 252/255 [01:26<00:01,  2.91it/s, loss=0.12, v_num=1, train_loss=0.0854, train_accuracy=0.944, val_loss=0.190, val_accuracy=0.936]\n",
      "Epoch 93: 100%|█████████▉| 254/255 [01:26<00:00,  2.93it/s, loss=0.12, v_num=1, train_loss=0.0854, train_accuracy=0.944, val_loss=0.190, val_accuracy=0.936]\n",
      "Epoch 93: 100%|██████████| 255/255 [01:27<00:00,  2.93it/s, loss=0.12, v_num=1, train_loss=0.0854, train_accuracy=0.944, val_loss=0.233, val_accuracy=0.912]\n",
      "Epoch 93: 100%|██████████| 255/255 [01:27<00:00,  2.93it/s, loss=0.12, v_num=1, train_loss=0.0854, train_accuracy=0.944, val_loss=0.233, val_accuracy=0.912]"
     ]
    },
    {
     "name": "stderr",
     "output_type": "stream",
     "text": [
      "Epoch 93, global step 21243: val_loss was not in top 2\n"
     ]
    },
    {
     "name": "stdout",
     "output_type": "stream",
     "text": [
      "Epoch 94:  89%|████████▊ | 226/255 [01:22<00:10,  2.75it/s, loss=0.132, v_num=1, train_loss=0.136, train_accuracy=0.944, val_loss=0.233, val_accuracy=0.912]  \n",
      "Validating: 0it [00:00, ?it/s]\u001b[A\n",
      "Validating:   0%|          | 0/29 [00:00<?, ?it/s]\u001b[A\n",
      "Epoch 94:  89%|████████▉ | 228/255 [01:24<00:09,  2.70it/s, loss=0.132, v_num=1, train_loss=0.136, train_accuracy=0.944, val_loss=0.233, val_accuracy=0.912]\n",
      "Epoch 94:  90%|█████████ | 230/255 [01:24<00:09,  2.72it/s, loss=0.132, v_num=1, train_loss=0.136, train_accuracy=0.944, val_loss=0.233, val_accuracy=0.912]\n",
      "Epoch 94:  91%|█████████ | 232/255 [01:24<00:08,  2.74it/s, loss=0.132, v_num=1, train_loss=0.136, train_accuracy=0.944, val_loss=0.233, val_accuracy=0.912]\n",
      "Epoch 94:  92%|█████████▏| 234/255 [01:24<00:07,  2.76it/s, loss=0.132, v_num=1, train_loss=0.136, train_accuracy=0.944, val_loss=0.233, val_accuracy=0.912]\n",
      "Epoch 94:  93%|█████████▎| 236/255 [01:24<00:06,  2.78it/s, loss=0.132, v_num=1, train_loss=0.136, train_accuracy=0.944, val_loss=0.233, val_accuracy=0.912]\n",
      "Epoch 94:  93%|█████████▎| 238/255 [01:25<00:06,  2.80it/s, loss=0.132, v_num=1, train_loss=0.136, train_accuracy=0.944, val_loss=0.233, val_accuracy=0.912]\n",
      "Epoch 94:  94%|█████████▍| 240/255 [01:25<00:05,  2.81it/s, loss=0.132, v_num=1, train_loss=0.136, train_accuracy=0.944, val_loss=0.233, val_accuracy=0.912]\n",
      "Epoch 94:  95%|█████████▍| 242/255 [01:25<00:04,  2.83it/s, loss=0.132, v_num=1, train_loss=0.136, train_accuracy=0.944, val_loss=0.233, val_accuracy=0.912]\n",
      "Epoch 94:  96%|█████████▌| 244/255 [01:25<00:03,  2.85it/s, loss=0.132, v_num=1, train_loss=0.136, train_accuracy=0.944, val_loss=0.233, val_accuracy=0.912]\n",
      "Epoch 94:  96%|█████████▋| 246/255 [01:25<00:03,  2.87it/s, loss=0.132, v_num=1, train_loss=0.136, train_accuracy=0.944, val_loss=0.233, val_accuracy=0.912]\n",
      "Epoch 94:  97%|█████████▋| 248/255 [01:25<00:02,  2.89it/s, loss=0.132, v_num=1, train_loss=0.136, train_accuracy=0.944, val_loss=0.233, val_accuracy=0.912]\n",
      "Epoch 94:  98%|█████████▊| 250/255 [01:26<00:01,  2.90it/s, loss=0.132, v_num=1, train_loss=0.136, train_accuracy=0.944, val_loss=0.233, val_accuracy=0.912]\n",
      "Epoch 94:  99%|█████████▉| 252/255 [01:26<00:01,  2.92it/s, loss=0.132, v_num=1, train_loss=0.136, train_accuracy=0.944, val_loss=0.233, val_accuracy=0.912]\n",
      "Epoch 94: 100%|█████████▉| 254/255 [01:26<00:00,  2.94it/s, loss=0.132, v_num=1, train_loss=0.136, train_accuracy=0.944, val_loss=0.233, val_accuracy=0.912]\n",
      "Epoch 94: 100%|██████████| 255/255 [01:26<00:00,  2.93it/s, loss=0.132, v_num=1, train_loss=0.136, train_accuracy=0.944, val_loss=0.195, val_accuracy=0.935]\n",
      "Epoch 94: 100%|██████████| 255/255 [01:26<00:00,  2.93it/s, loss=0.132, v_num=1, train_loss=0.136, train_accuracy=0.944, val_loss=0.195, val_accuracy=0.935]"
     ]
    },
    {
     "name": "stderr",
     "output_type": "stream",
     "text": [
      "Epoch 94, global step 21469: val_loss was not in top 2\n"
     ]
    },
    {
     "name": "stdout",
     "output_type": "stream",
     "text": [
      "Epoch 95:  89%|████████▊ | 226/255 [01:22<00:10,  2.75it/s, loss=0.139, v_num=1, train_loss=0.141, train_accuracy=0.944, val_loss=0.195, val_accuracy=0.935] \n",
      "Validating: 0it [00:00, ?it/s]\u001b[A\n",
      "Validating:   0%|          | 0/29 [00:00<?, ?it/s]\u001b[A\n",
      "Epoch 95:  89%|████████▉ | 228/255 [01:24<00:10,  2.70it/s, loss=0.139, v_num=1, train_loss=0.141, train_accuracy=0.944, val_loss=0.195, val_accuracy=0.935]\n",
      "Epoch 95:  90%|█████████ | 230/255 [01:24<00:09,  2.72it/s, loss=0.139, v_num=1, train_loss=0.141, train_accuracy=0.944, val_loss=0.195, val_accuracy=0.935]\n",
      "Epoch 95:  91%|█████████ | 232/255 [01:24<00:08,  2.74it/s, loss=0.139, v_num=1, train_loss=0.141, train_accuracy=0.944, val_loss=0.195, val_accuracy=0.935]\n",
      "Validating:  21%|██        | 6/29 [00:02<00:06,  3.59it/s]\u001b[A\n",
      "Epoch 95:  92%|█████████▏| 234/255 [01:25<00:07,  2.75it/s, loss=0.139, v_num=1, train_loss=0.141, train_accuracy=0.944, val_loss=0.195, val_accuracy=0.935]\n",
      "Epoch 95:  93%|█████████▎| 236/255 [01:25<00:06,  2.77it/s, loss=0.139, v_num=1, train_loss=0.141, train_accuracy=0.944, val_loss=0.195, val_accuracy=0.935]\n",
      "Epoch 95:  93%|█████████▎| 238/255 [01:25<00:06,  2.79it/s, loss=0.139, v_num=1, train_loss=0.141, train_accuracy=0.944, val_loss=0.195, val_accuracy=0.935]\n",
      "Epoch 95:  94%|█████████▍| 240/255 [01:25<00:05,  2.81it/s, loss=0.139, v_num=1, train_loss=0.141, train_accuracy=0.944, val_loss=0.195, val_accuracy=0.935]\n",
      "Epoch 95:  95%|█████████▍| 242/255 [01:25<00:04,  2.82it/s, loss=0.139, v_num=1, train_loss=0.141, train_accuracy=0.944, val_loss=0.195, val_accuracy=0.935]\n",
      "Epoch 95:  96%|█████████▌| 244/255 [01:25<00:03,  2.84it/s, loss=0.139, v_num=1, train_loss=0.141, train_accuracy=0.944, val_loss=0.195, val_accuracy=0.935]\n",
      "Epoch 95:  96%|█████████▋| 246/255 [01:26<00:03,  2.86it/s, loss=0.139, v_num=1, train_loss=0.141, train_accuracy=0.944, val_loss=0.195, val_accuracy=0.935]\n",
      "Epoch 95:  97%|█████████▋| 248/255 [01:26<00:02,  2.88it/s, loss=0.139, v_num=1, train_loss=0.141, train_accuracy=0.944, val_loss=0.195, val_accuracy=0.935]\n",
      "Epoch 95:  98%|█████████▊| 250/255 [01:26<00:01,  2.89it/s, loss=0.139, v_num=1, train_loss=0.141, train_accuracy=0.944, val_loss=0.195, val_accuracy=0.935]\n",
      "Epoch 95:  99%|█████████▉| 252/255 [01:26<00:01,  2.91it/s, loss=0.139, v_num=1, train_loss=0.141, train_accuracy=0.944, val_loss=0.195, val_accuracy=0.935]\n",
      "Epoch 95: 100%|█████████▉| 254/255 [01:26<00:00,  2.93it/s, loss=0.139, v_num=1, train_loss=0.141, train_accuracy=0.944, val_loss=0.195, val_accuracy=0.935]\n",
      "Epoch 95: 100%|██████████| 255/255 [01:27<00:00,  2.92it/s, loss=0.139, v_num=1, train_loss=0.141, train_accuracy=0.944, val_loss=0.274, val_accuracy=0.898]\n",
      "Epoch 95: 100%|██████████| 255/255 [01:27<00:00,  2.92it/s, loss=0.139, v_num=1, train_loss=0.141, train_accuracy=0.944, val_loss=0.274, val_accuracy=0.898]"
     ]
    },
    {
     "name": "stderr",
     "output_type": "stream",
     "text": [
      "Epoch 95, global step 21695: val_loss was not in top 2\n"
     ]
    },
    {
     "name": "stdout",
     "output_type": "stream",
     "text": [
      "Epoch 96:  89%|████████▊ | 226/255 [01:22<00:10,  2.75it/s, loss=0.136, v_num=1, train_loss=0.402, train_accuracy=0.833, val_loss=0.274, val_accuracy=0.898] \n",
      "Validating: 0it [00:00, ?it/s]\u001b[A\n",
      "Validating:   0%|          | 0/29 [00:00<?, ?it/s]\u001b[A\n",
      "Epoch 96:  89%|████████▉ | 228/255 [01:24<00:09,  2.70it/s, loss=0.136, v_num=1, train_loss=0.402, train_accuracy=0.833, val_loss=0.274, val_accuracy=0.898]\n",
      "Epoch 96:  90%|█████████ | 230/255 [01:24<00:09,  2.72it/s, loss=0.136, v_num=1, train_loss=0.402, train_accuracy=0.833, val_loss=0.274, val_accuracy=0.898]\n",
      "Epoch 96:  91%|█████████ | 232/255 [01:24<00:08,  2.74it/s, loss=0.136, v_num=1, train_loss=0.402, train_accuracy=0.833, val_loss=0.274, val_accuracy=0.898]\n",
      "Epoch 96:  92%|█████████▏| 234/255 [01:24<00:07,  2.76it/s, loss=0.136, v_num=1, train_loss=0.402, train_accuracy=0.833, val_loss=0.274, val_accuracy=0.898]\n",
      "Epoch 96:  93%|█████████▎| 236/255 [01:25<00:06,  2.78it/s, loss=0.136, v_num=1, train_loss=0.402, train_accuracy=0.833, val_loss=0.274, val_accuracy=0.898]\n",
      "Epoch 96:  93%|█████████▎| 238/255 [01:25<00:06,  2.79it/s, loss=0.136, v_num=1, train_loss=0.402, train_accuracy=0.833, val_loss=0.274, val_accuracy=0.898]\n",
      "Epoch 96:  94%|█████████▍| 240/255 [01:25<00:05,  2.81it/s, loss=0.136, v_num=1, train_loss=0.402, train_accuracy=0.833, val_loss=0.274, val_accuracy=0.898]\n",
      "Epoch 96:  95%|█████████▍| 242/255 [01:25<00:04,  2.83it/s, loss=0.136, v_num=1, train_loss=0.402, train_accuracy=0.833, val_loss=0.274, val_accuracy=0.898]\n",
      "Epoch 96:  96%|█████████▌| 244/255 [01:25<00:03,  2.85it/s, loss=0.136, v_num=1, train_loss=0.402, train_accuracy=0.833, val_loss=0.274, val_accuracy=0.898]\n",
      "Epoch 96:  96%|█████████▋| 246/255 [01:25<00:03,  2.86it/s, loss=0.136, v_num=1, train_loss=0.402, train_accuracy=0.833, val_loss=0.274, val_accuracy=0.898]\n",
      "Epoch 96:  97%|█████████▋| 248/255 [01:26<00:02,  2.88it/s, loss=0.136, v_num=1, train_loss=0.402, train_accuracy=0.833, val_loss=0.274, val_accuracy=0.898]\n",
      "Epoch 96:  98%|█████████▊| 250/255 [01:26<00:01,  2.90it/s, loss=0.136, v_num=1, train_loss=0.402, train_accuracy=0.833, val_loss=0.274, val_accuracy=0.898]\n",
      "Epoch 96:  99%|█████████▉| 252/255 [01:26<00:01,  2.92it/s, loss=0.136, v_num=1, train_loss=0.402, train_accuracy=0.833, val_loss=0.274, val_accuracy=0.898]\n",
      "Epoch 96: 100%|█████████▉| 254/255 [01:26<00:00,  2.93it/s, loss=0.136, v_num=1, train_loss=0.402, train_accuracy=0.833, val_loss=0.274, val_accuracy=0.898]\n",
      "Epoch 96: 100%|██████████| 255/255 [01:27<00:00,  2.93it/s, loss=0.136, v_num=1, train_loss=0.402, train_accuracy=0.833, val_loss=0.279, val_accuracy=0.908]\n",
      "Epoch 96: 100%|██████████| 255/255 [01:27<00:00,  2.93it/s, loss=0.136, v_num=1, train_loss=0.402, train_accuracy=0.833, val_loss=0.279, val_accuracy=0.908]"
     ]
    },
    {
     "name": "stderr",
     "output_type": "stream",
     "text": [
      "Epoch 96, global step 21921: val_loss was not in top 2\n"
     ]
    },
    {
     "name": "stdout",
     "output_type": "stream",
     "text": [
      "Epoch 97:  89%|████████▊ | 226/255 [01:22<00:10,  2.75it/s, loss=0.136, v_num=1, train_loss=0.145, train_accuracy=0.944, val_loss=0.279, val_accuracy=0.908] \n",
      "Validating: 0it [00:00, ?it/s]\u001b[A\n",
      "Validating:   0%|          | 0/29 [00:00<?, ?it/s]\u001b[A\n",
      "Epoch 97:  89%|████████▉ | 228/255 [01:24<00:09,  2.70it/s, loss=0.136, v_num=1, train_loss=0.145, train_accuracy=0.944, val_loss=0.279, val_accuracy=0.908]\n",
      "Epoch 97:  90%|█████████ | 230/255 [01:24<00:09,  2.72it/s, loss=0.136, v_num=1, train_loss=0.145, train_accuracy=0.944, val_loss=0.279, val_accuracy=0.908]\n",
      "Epoch 97:  91%|█████████ | 232/255 [01:24<00:08,  2.74it/s, loss=0.136, v_num=1, train_loss=0.145, train_accuracy=0.944, val_loss=0.279, val_accuracy=0.908]\n",
      "Epoch 97:  92%|█████████▏| 234/255 [01:24<00:07,  2.76it/s, loss=0.136, v_num=1, train_loss=0.145, train_accuracy=0.944, val_loss=0.279, val_accuracy=0.908]\n",
      "Epoch 97:  93%|█████████▎| 236/255 [01:25<00:06,  2.77it/s, loss=0.136, v_num=1, train_loss=0.145, train_accuracy=0.944, val_loss=0.279, val_accuracy=0.908]\n",
      "Epoch 97:  93%|█████████▎| 238/255 [01:25<00:06,  2.79it/s, loss=0.136, v_num=1, train_loss=0.145, train_accuracy=0.944, val_loss=0.279, val_accuracy=0.908]\n",
      "Epoch 97:  94%|█████████▍| 240/255 [01:25<00:05,  2.81it/s, loss=0.136, v_num=1, train_loss=0.145, train_accuracy=0.944, val_loss=0.279, val_accuracy=0.908]\n",
      "Epoch 97:  95%|█████████▍| 242/255 [01:25<00:04,  2.83it/s, loss=0.136, v_num=1, train_loss=0.145, train_accuracy=0.944, val_loss=0.279, val_accuracy=0.908]\n",
      "Epoch 97:  96%|█████████▌| 244/255 [01:25<00:03,  2.85it/s, loss=0.136, v_num=1, train_loss=0.145, train_accuracy=0.944, val_loss=0.279, val_accuracy=0.908]\n",
      "Epoch 97:  96%|█████████▋| 246/255 [01:25<00:03,  2.86it/s, loss=0.136, v_num=1, train_loss=0.145, train_accuracy=0.944, val_loss=0.279, val_accuracy=0.908]\n",
      "Epoch 97:  97%|█████████▋| 248/255 [01:26<00:02,  2.88it/s, loss=0.136, v_num=1, train_loss=0.145, train_accuracy=0.944, val_loss=0.279, val_accuracy=0.908]\n",
      "Epoch 97:  98%|█████████▊| 250/255 [01:26<00:01,  2.90it/s, loss=0.136, v_num=1, train_loss=0.145, train_accuracy=0.944, val_loss=0.279, val_accuracy=0.908]\n",
      "Epoch 97:  99%|█████████▉| 252/255 [01:26<00:01,  2.91it/s, loss=0.136, v_num=1, train_loss=0.145, train_accuracy=0.944, val_loss=0.279, val_accuracy=0.908]\n",
      "Epoch 97: 100%|█████████▉| 254/255 [01:26<00:00,  2.93it/s, loss=0.136, v_num=1, train_loss=0.145, train_accuracy=0.944, val_loss=0.279, val_accuracy=0.908]\n",
      "Epoch 97: 100%|██████████| 255/255 [01:27<00:00,  2.93it/s, loss=0.136, v_num=1, train_loss=0.145, train_accuracy=0.944, val_loss=0.191, val_accuracy=0.932]\n",
      "Epoch 97: 100%|██████████| 255/255 [01:27<00:00,  2.93it/s, loss=0.136, v_num=1, train_loss=0.145, train_accuracy=0.944, val_loss=0.191, val_accuracy=0.932]"
     ]
    },
    {
     "name": "stderr",
     "output_type": "stream",
     "text": [
      "Epoch 97, global step 22147: val_loss reached 0.19110 (best 0.18965), saving model to \"/Workspace/code/checkpoints/best-checkpoint-corr-random-20-v6.ckpt\" as top 2\n"
     ]
    },
    {
     "name": "stdout",
     "output_type": "stream",
     "text": [
      "Epoch 98:  89%|████████▊ | 226/255 [01:22<00:10,  2.75it/s, loss=0.144, v_num=1, train_loss=0.200, train_accuracy=0.944, val_loss=0.191, val_accuracy=0.932] \n",
      "Validating: 0it [00:00, ?it/s]\u001b[A\n",
      "Validating:   0%|          | 0/29 [00:00<?, ?it/s]\u001b[A\n",
      "Epoch 98:  89%|████████▉ | 228/255 [01:24<00:09,  2.71it/s, loss=0.144, v_num=1, train_loss=0.200, train_accuracy=0.944, val_loss=0.191, val_accuracy=0.932]\n",
      "Epoch 98:  90%|█████████ | 230/255 [01:24<00:09,  2.73it/s, loss=0.144, v_num=1, train_loss=0.200, train_accuracy=0.944, val_loss=0.191, val_accuracy=0.932]\n",
      "Epoch 98:  91%|█████████ | 232/255 [01:24<00:08,  2.74it/s, loss=0.144, v_num=1, train_loss=0.200, train_accuracy=0.944, val_loss=0.191, val_accuracy=0.932]\n",
      "Epoch 98:  92%|█████████▏| 234/255 [01:24<00:07,  2.76it/s, loss=0.144, v_num=1, train_loss=0.200, train_accuracy=0.944, val_loss=0.191, val_accuracy=0.932]\n",
      "Epoch 98:  93%|█████████▎| 236/255 [01:24<00:06,  2.78it/s, loss=0.144, v_num=1, train_loss=0.200, train_accuracy=0.944, val_loss=0.191, val_accuracy=0.932]\n",
      "Epoch 98:  93%|█████████▎| 238/255 [01:25<00:06,  2.80it/s, loss=0.144, v_num=1, train_loss=0.200, train_accuracy=0.944, val_loss=0.191, val_accuracy=0.932]\n",
      "Epoch 98:  94%|█████████▍| 240/255 [01:25<00:05,  2.81it/s, loss=0.144, v_num=1, train_loss=0.200, train_accuracy=0.944, val_loss=0.191, val_accuracy=0.932]\n",
      "Epoch 98:  95%|█████████▍| 242/255 [01:25<00:04,  2.83it/s, loss=0.144, v_num=1, train_loss=0.200, train_accuracy=0.944, val_loss=0.191, val_accuracy=0.932]\n",
      "Epoch 98:  96%|█████████▌| 244/255 [01:25<00:03,  2.85it/s, loss=0.144, v_num=1, train_loss=0.200, train_accuracy=0.944, val_loss=0.191, val_accuracy=0.932]\n",
      "Epoch 98:  96%|█████████▋| 246/255 [01:25<00:03,  2.87it/s, loss=0.144, v_num=1, train_loss=0.200, train_accuracy=0.944, val_loss=0.191, val_accuracy=0.932]\n",
      "Epoch 98:  97%|█████████▋| 248/255 [01:25<00:02,  2.89it/s, loss=0.144, v_num=1, train_loss=0.200, train_accuracy=0.944, val_loss=0.191, val_accuracy=0.932]\n",
      "Epoch 98:  98%|█████████▊| 250/255 [01:26<00:01,  2.90it/s, loss=0.144, v_num=1, train_loss=0.200, train_accuracy=0.944, val_loss=0.191, val_accuracy=0.932]\n",
      "Epoch 98:  99%|█████████▉| 252/255 [01:26<00:01,  2.92it/s, loss=0.144, v_num=1, train_loss=0.200, train_accuracy=0.944, val_loss=0.191, val_accuracy=0.932]\n",
      "Epoch 98: 100%|█████████▉| 254/255 [01:26<00:00,  2.94it/s, loss=0.144, v_num=1, train_loss=0.200, train_accuracy=0.944, val_loss=0.191, val_accuracy=0.932]\n",
      "Epoch 98: 100%|██████████| 255/255 [01:26<00:00,  2.93it/s, loss=0.144, v_num=1, train_loss=0.200, train_accuracy=0.944, val_loss=0.212, val_accuracy=0.925]\n",
      "Epoch 98: 100%|██████████| 255/255 [01:26<00:00,  2.93it/s, loss=0.144, v_num=1, train_loss=0.200, train_accuracy=0.944, val_loss=0.212, val_accuracy=0.925]"
     ]
    },
    {
     "name": "stderr",
     "output_type": "stream",
     "text": [
      "Epoch 98, global step 22373: val_loss was not in top 2\n"
     ]
    },
    {
     "name": "stdout",
     "output_type": "stream",
     "text": [
      "Epoch 99:  89%|████████▊ | 226/255 [01:22<00:10,  2.75it/s, loss=0.107, v_num=1, train_loss=0.236, train_accuracy=0.889, val_loss=0.212, val_accuracy=0.925]  \n",
      "Validating: 0it [00:00, ?it/s]\u001b[A\n",
      "Validating:   0%|          | 0/29 [00:00<?, ?it/s]\u001b[A\n",
      "Epoch 99:  89%|████████▉ | 228/255 [01:24<00:10,  2.70it/s, loss=0.107, v_num=1, train_loss=0.236, train_accuracy=0.889, val_loss=0.212, val_accuracy=0.925]\n",
      "Epoch 99:  90%|█████████ | 230/255 [01:24<00:09,  2.72it/s, loss=0.107, v_num=1, train_loss=0.236, train_accuracy=0.889, val_loss=0.212, val_accuracy=0.925]\n",
      "Validating:  14%|█▍        | 4/29 [00:02<00:10,  2.45it/s]\u001b[A\n",
      "Epoch 99:  91%|█████████ | 232/255 [01:24<00:08,  2.73it/s, loss=0.107, v_num=1, train_loss=0.236, train_accuracy=0.889, val_loss=0.212, val_accuracy=0.925]\n",
      "Epoch 99:  92%|█████████▏| 234/255 [01:25<00:07,  2.75it/s, loss=0.107, v_num=1, train_loss=0.236, train_accuracy=0.889, val_loss=0.212, val_accuracy=0.925]\n",
      "Epoch 99:  93%|█████████▎| 236/255 [01:25<00:06,  2.77it/s, loss=0.107, v_num=1, train_loss=0.236, train_accuracy=0.889, val_loss=0.212, val_accuracy=0.925]\n",
      "Epoch 99:  93%|█████████▎| 238/255 [01:25<00:06,  2.79it/s, loss=0.107, v_num=1, train_loss=0.236, train_accuracy=0.889, val_loss=0.212, val_accuracy=0.925]\n",
      "Epoch 99:  94%|█████████▍| 240/255 [01:25<00:05,  2.81it/s, loss=0.107, v_num=1, train_loss=0.236, train_accuracy=0.889, val_loss=0.212, val_accuracy=0.925]\n",
      "Epoch 99:  95%|█████████▍| 242/255 [01:25<00:04,  2.82it/s, loss=0.107, v_num=1, train_loss=0.236, train_accuracy=0.889, val_loss=0.212, val_accuracy=0.925]\n",
      "Epoch 99:  96%|█████████▌| 244/255 [01:25<00:03,  2.84it/s, loss=0.107, v_num=1, train_loss=0.236, train_accuracy=0.889, val_loss=0.212, val_accuracy=0.925]\n",
      "Epoch 99:  96%|█████████▋| 246/255 [01:26<00:03,  2.86it/s, loss=0.107, v_num=1, train_loss=0.236, train_accuracy=0.889, val_loss=0.212, val_accuracy=0.925]\n",
      "Epoch 99:  97%|█████████▋| 248/255 [01:26<00:02,  2.88it/s, loss=0.107, v_num=1, train_loss=0.236, train_accuracy=0.889, val_loss=0.212, val_accuracy=0.925]\n",
      "Epoch 99:  98%|█████████▊| 250/255 [01:26<00:01,  2.89it/s, loss=0.107, v_num=1, train_loss=0.236, train_accuracy=0.889, val_loss=0.212, val_accuracy=0.925]\n",
      "Epoch 99:  99%|█████████▉| 252/255 [01:26<00:01,  2.91it/s, loss=0.107, v_num=1, train_loss=0.236, train_accuracy=0.889, val_loss=0.212, val_accuracy=0.925]\n",
      "Epoch 99: 100%|█████████▉| 254/255 [01:26<00:00,  2.93it/s, loss=0.107, v_num=1, train_loss=0.236, train_accuracy=0.889, val_loss=0.212, val_accuracy=0.925]\n",
      "Epoch 99: 100%|██████████| 255/255 [01:27<00:00,  2.92it/s, loss=0.107, v_num=1, train_loss=0.236, train_accuracy=0.889, val_loss=0.186, val_accuracy=0.935]\n",
      "Epoch 99: 100%|██████████| 255/255 [01:27<00:00,  2.92it/s, loss=0.107, v_num=1, train_loss=0.236, train_accuracy=0.889, val_loss=0.186, val_accuracy=0.935]"
     ]
    },
    {
     "name": "stderr",
     "output_type": "stream",
     "text": [
      "Epoch 99, global step 22599: val_loss reached 0.18601 (best 0.18601), saving model to \"/Workspace/code/checkpoints/best-checkpoint-corr-random-20-v6.ckpt\" as top 2\n"
     ]
    },
    {
     "name": "stdout",
     "output_type": "stream",
     "text": [
      "Epoch 100:  89%|████████▊ | 226/255 [01:22<00:10,  2.75it/s, loss=0.112, v_num=1, train_loss=0.105, train_accuracy=0.944, val_loss=0.186, val_accuracy=0.935]  \n",
      "Validating: 0it [00:00, ?it/s]\u001b[A\n",
      "Validating:   0%|          | 0/29 [00:00<?, ?it/s]\u001b[A\n",
      "Epoch 100:  89%|████████▉ | 228/255 [01:24<00:10,  2.70it/s, loss=0.112, v_num=1, train_loss=0.105, train_accuracy=0.944, val_loss=0.186, val_accuracy=0.935]\n",
      "Epoch 100:  90%|█████████ | 230/255 [01:24<00:09,  2.72it/s, loss=0.112, v_num=1, train_loss=0.105, train_accuracy=0.944, val_loss=0.186, val_accuracy=0.935]\n",
      "Epoch 100:  91%|█████████ | 232/255 [01:24<00:08,  2.73it/s, loss=0.112, v_num=1, train_loss=0.105, train_accuracy=0.944, val_loss=0.186, val_accuracy=0.935]\n",
      "Epoch 100:  92%|█████████▏| 234/255 [01:25<00:07,  2.75it/s, loss=0.112, v_num=1, train_loss=0.105, train_accuracy=0.944, val_loss=0.186, val_accuracy=0.935]\n",
      "Epoch 100:  93%|█████████▎| 236/255 [01:25<00:06,  2.77it/s, loss=0.112, v_num=1, train_loss=0.105, train_accuracy=0.944, val_loss=0.186, val_accuracy=0.935]\n",
      "Epoch 100:  93%|█████████▎| 238/255 [01:25<00:06,  2.79it/s, loss=0.112, v_num=1, train_loss=0.105, train_accuracy=0.944, val_loss=0.186, val_accuracy=0.935]\n",
      "Epoch 100:  94%|█████████▍| 240/255 [01:25<00:05,  2.81it/s, loss=0.112, v_num=1, train_loss=0.105, train_accuracy=0.944, val_loss=0.186, val_accuracy=0.935]\n",
      "Epoch 100:  95%|█████████▍| 242/255 [01:25<00:04,  2.82it/s, loss=0.112, v_num=1, train_loss=0.105, train_accuracy=0.944, val_loss=0.186, val_accuracy=0.935]\n",
      "Epoch 100:  96%|█████████▌| 244/255 [01:25<00:03,  2.84it/s, loss=0.112, v_num=1, train_loss=0.105, train_accuracy=0.944, val_loss=0.186, val_accuracy=0.935]\n",
      "Epoch 100:  96%|█████████▋| 246/255 [01:26<00:03,  2.86it/s, loss=0.112, v_num=1, train_loss=0.105, train_accuracy=0.944, val_loss=0.186, val_accuracy=0.935]\n",
      "Epoch 100:  97%|█████████▋| 248/255 [01:26<00:02,  2.88it/s, loss=0.112, v_num=1, train_loss=0.105, train_accuracy=0.944, val_loss=0.186, val_accuracy=0.935]\n",
      "Epoch 100:  98%|█████████▊| 250/255 [01:26<00:01,  2.89it/s, loss=0.112, v_num=1, train_loss=0.105, train_accuracy=0.944, val_loss=0.186, val_accuracy=0.935]\n",
      "Epoch 100:  99%|█████████▉| 252/255 [01:26<00:01,  2.91it/s, loss=0.112, v_num=1, train_loss=0.105, train_accuracy=0.944, val_loss=0.186, val_accuracy=0.935]\n",
      "Epoch 100: 100%|█████████▉| 254/255 [01:26<00:00,  2.93it/s, loss=0.112, v_num=1, train_loss=0.105, train_accuracy=0.944, val_loss=0.186, val_accuracy=0.935]\n",
      "Epoch 100: 100%|██████████| 255/255 [01:27<00:00,  2.92it/s, loss=0.112, v_num=1, train_loss=0.105, train_accuracy=0.944, val_loss=0.192, val_accuracy=0.938]\n",
      "Epoch 100: 100%|██████████| 255/255 [01:27<00:00,  2.92it/s, loss=0.112, v_num=1, train_loss=0.105, train_accuracy=0.944, val_loss=0.192, val_accuracy=0.938]"
     ]
    },
    {
     "name": "stderr",
     "output_type": "stream",
     "text": [
      "Epoch 100, global step 22825: val_loss was not in top 2\n"
     ]
    },
    {
     "name": "stdout",
     "output_type": "stream",
     "text": [
      "Epoch 101:  89%|████████▊ | 226/255 [01:22<00:10,  2.76it/s, loss=0.108, v_num=1, train_loss=0.0607, train_accuracy=1.000, val_loss=0.192, val_accuracy=0.938] \n",
      "Validating: 0it [00:00, ?it/s]\u001b[A\n",
      "Validating:   0%|          | 0/29 [00:00<?, ?it/s]\u001b[A\n",
      "Epoch 101:  89%|████████▉ | 228/255 [01:24<00:09,  2.71it/s, loss=0.108, v_num=1, train_loss=0.0607, train_accuracy=1.000, val_loss=0.192, val_accuracy=0.938]\n",
      "Epoch 101:  90%|█████████ | 230/255 [01:24<00:09,  2.73it/s, loss=0.108, v_num=1, train_loss=0.0607, train_accuracy=1.000, val_loss=0.192, val_accuracy=0.938]\n",
      "Epoch 101:  91%|█████████ | 232/255 [01:24<00:08,  2.75it/s, loss=0.108, v_num=1, train_loss=0.0607, train_accuracy=1.000, val_loss=0.192, val_accuracy=0.938]\n",
      "Epoch 101:  92%|█████████▏| 234/255 [01:24<00:07,  2.76it/s, loss=0.108, v_num=1, train_loss=0.0607, train_accuracy=1.000, val_loss=0.192, val_accuracy=0.938]\n",
      "Epoch 101:  93%|█████████▎| 236/255 [01:24<00:06,  2.78it/s, loss=0.108, v_num=1, train_loss=0.0607, train_accuracy=1.000, val_loss=0.192, val_accuracy=0.938]\n",
      "Epoch 101:  93%|█████████▎| 238/255 [01:25<00:06,  2.80it/s, loss=0.108, v_num=1, train_loss=0.0607, train_accuracy=1.000, val_loss=0.192, val_accuracy=0.938]\n",
      "Epoch 101:  94%|█████████▍| 240/255 [01:25<00:05,  2.82it/s, loss=0.108, v_num=1, train_loss=0.0607, train_accuracy=1.000, val_loss=0.192, val_accuracy=0.938]\n",
      "Epoch 101:  95%|█████████▍| 242/255 [01:25<00:04,  2.84it/s, loss=0.108, v_num=1, train_loss=0.0607, train_accuracy=1.000, val_loss=0.192, val_accuracy=0.938]\n",
      "Epoch 101:  96%|█████████▌| 244/255 [01:25<00:03,  2.85it/s, loss=0.108, v_num=1, train_loss=0.0607, train_accuracy=1.000, val_loss=0.192, val_accuracy=0.938]\n",
      "Epoch 101:  96%|█████████▋| 246/255 [01:25<00:03,  2.87it/s, loss=0.108, v_num=1, train_loss=0.0607, train_accuracy=1.000, val_loss=0.192, val_accuracy=0.938]\n",
      "Epoch 101:  97%|█████████▋| 248/255 [01:25<00:02,  2.89it/s, loss=0.108, v_num=1, train_loss=0.0607, train_accuracy=1.000, val_loss=0.192, val_accuracy=0.938]\n",
      "Epoch 101:  98%|█████████▊| 250/255 [01:26<00:01,  2.91it/s, loss=0.108, v_num=1, train_loss=0.0607, train_accuracy=1.000, val_loss=0.192, val_accuracy=0.938]\n",
      "Epoch 101:  99%|█████████▉| 252/255 [01:26<00:01,  2.92it/s, loss=0.108, v_num=1, train_loss=0.0607, train_accuracy=1.000, val_loss=0.192, val_accuracy=0.938]\n",
      "Epoch 101: 100%|█████████▉| 254/255 [01:26<00:00,  2.94it/s, loss=0.108, v_num=1, train_loss=0.0607, train_accuracy=1.000, val_loss=0.192, val_accuracy=0.938]\n",
      "Epoch 101: 100%|██████████| 255/255 [01:26<00:00,  2.93it/s, loss=0.108, v_num=1, train_loss=0.0607, train_accuracy=1.000, val_loss=0.195, val_accuracy=0.929]\n",
      "Epoch 101: 100%|██████████| 255/255 [01:26<00:00,  2.93it/s, loss=0.108, v_num=1, train_loss=0.0607, train_accuracy=1.000, val_loss=0.195, val_accuracy=0.929]"
     ]
    },
    {
     "name": "stderr",
     "output_type": "stream",
     "text": [
      "Epoch 101, global step 23051: val_loss was not in top 2\n"
     ]
    },
    {
     "name": "stdout",
     "output_type": "stream",
     "text": [
      "Epoch 102:  89%|████████▊ | 226/255 [01:22<00:10,  2.76it/s, loss=0.109, v_num=1, train_loss=0.202, train_accuracy=0.889, val_loss=0.195, val_accuracy=0.929]  \n",
      "Validating: 0it [00:00, ?it/s]\u001b[A\n",
      "Validating:   0%|          | 0/29 [00:00<?, ?it/s]\u001b[A\n",
      "Epoch 102:  89%|████████▉ | 228/255 [01:24<00:09,  2.71it/s, loss=0.109, v_num=1, train_loss=0.202, train_accuracy=0.889, val_loss=0.195, val_accuracy=0.929]\n",
      "Validating:   7%|▋         | 2/29 [00:02<00:25,  1.06it/s]\u001b[A\n",
      "Epoch 102:  90%|█████████ | 230/255 [01:24<00:09,  2.73it/s, loss=0.109, v_num=1, train_loss=0.202, train_accuracy=0.889, val_loss=0.195, val_accuracy=0.929]\n",
      "Epoch 102:  91%|█████████ | 232/255 [01:24<00:08,  2.74it/s, loss=0.109, v_num=1, train_loss=0.202, train_accuracy=0.889, val_loss=0.195, val_accuracy=0.929]\n",
      "Epoch 102:  92%|█████████▏| 234/255 [01:24<00:07,  2.76it/s, loss=0.109, v_num=1, train_loss=0.202, train_accuracy=0.889, val_loss=0.195, val_accuracy=0.929]\n",
      "Epoch 102:  93%|█████████▎| 236/255 [01:24<00:06,  2.78it/s, loss=0.109, v_num=1, train_loss=0.202, train_accuracy=0.889, val_loss=0.195, val_accuracy=0.929]\n",
      "Epoch 102:  93%|█████████▎| 238/255 [01:25<00:06,  2.80it/s, loss=0.109, v_num=1, train_loss=0.202, train_accuracy=0.889, val_loss=0.195, val_accuracy=0.929]\n",
      "Epoch 102:  94%|█████████▍| 240/255 [01:25<00:05,  2.82it/s, loss=0.109, v_num=1, train_loss=0.202, train_accuracy=0.889, val_loss=0.195, val_accuracy=0.929]\n",
      "Epoch 102:  95%|█████████▍| 242/255 [01:25<00:04,  2.83it/s, loss=0.109, v_num=1, train_loss=0.202, train_accuracy=0.889, val_loss=0.195, val_accuracy=0.929]\n",
      "Epoch 102:  96%|█████████▌| 244/255 [01:25<00:03,  2.85it/s, loss=0.109, v_num=1, train_loss=0.202, train_accuracy=0.889, val_loss=0.195, val_accuracy=0.929]\n",
      "Epoch 102:  96%|█████████▋| 246/255 [01:25<00:03,  2.87it/s, loss=0.109, v_num=1, train_loss=0.202, train_accuracy=0.889, val_loss=0.195, val_accuracy=0.929]\n",
      "Epoch 102:  97%|█████████▋| 248/255 [01:25<00:02,  2.89it/s, loss=0.109, v_num=1, train_loss=0.202, train_accuracy=0.889, val_loss=0.195, val_accuracy=0.929]\n",
      "Epoch 102:  98%|█████████▊| 250/255 [01:26<00:01,  2.90it/s, loss=0.109, v_num=1, train_loss=0.202, train_accuracy=0.889, val_loss=0.195, val_accuracy=0.929]\n",
      "Epoch 102:  99%|█████████▉| 252/255 [01:26<00:01,  2.92it/s, loss=0.109, v_num=1, train_loss=0.202, train_accuracy=0.889, val_loss=0.195, val_accuracy=0.929]\n",
      "Epoch 102: 100%|█████████▉| 254/255 [01:26<00:00,  2.94it/s, loss=0.109, v_num=1, train_loss=0.202, train_accuracy=0.889, val_loss=0.195, val_accuracy=0.929]\n",
      "Epoch 102: 100%|██████████| 255/255 [01:26<00:00,  2.93it/s, loss=0.109, v_num=1, train_loss=0.202, train_accuracy=0.889, val_loss=0.206, val_accuracy=0.931]\n",
      "Epoch 102: 100%|██████████| 255/255 [01:26<00:00,  2.93it/s, loss=0.109, v_num=1, train_loss=0.202, train_accuracy=0.889, val_loss=0.206, val_accuracy=0.931]"
     ]
    },
    {
     "name": "stderr",
     "output_type": "stream",
     "text": [
      "Epoch 102, global step 23277: val_loss was not in top 2\n"
     ]
    },
    {
     "name": "stdout",
     "output_type": "stream",
     "text": [
      "Epoch 103:  89%|████████▊ | 226/255 [01:22<00:10,  2.74it/s, loss=0.11, v_num=1, train_loss=0.222, train_accuracy=0.944, val_loss=0.206, val_accuracy=0.931]   \n",
      "Validating: 0it [00:00, ?it/s]\u001b[A\n",
      "Validating:   0%|          | 0/29 [00:00<?, ?it/s]\u001b[A\n",
      "Epoch 103:  89%|████████▉ | 228/255 [01:24<00:10,  2.69it/s, loss=0.11, v_num=1, train_loss=0.222, train_accuracy=0.944, val_loss=0.206, val_accuracy=0.931]\n",
      "Epoch 103:  90%|█████████ | 230/255 [01:24<00:09,  2.71it/s, loss=0.11, v_num=1, train_loss=0.222, train_accuracy=0.944, val_loss=0.206, val_accuracy=0.931]\n",
      "Epoch 103:  91%|█████████ | 232/255 [01:24<00:08,  2.73it/s, loss=0.11, v_num=1, train_loss=0.222, train_accuracy=0.944, val_loss=0.206, val_accuracy=0.931]\n",
      "Epoch 103:  92%|█████████▏| 234/255 [01:25<00:07,  2.75it/s, loss=0.11, v_num=1, train_loss=0.222, train_accuracy=0.944, val_loss=0.206, val_accuracy=0.931]\n",
      "Epoch 103:  93%|█████████▎| 236/255 [01:25<00:06,  2.77it/s, loss=0.11, v_num=1, train_loss=0.222, train_accuracy=0.944, val_loss=0.206, val_accuracy=0.931]\n",
      "Epoch 103:  93%|█████████▎| 238/255 [01:25<00:06,  2.78it/s, loss=0.11, v_num=1, train_loss=0.222, train_accuracy=0.944, val_loss=0.206, val_accuracy=0.931]\n",
      "Epoch 103:  94%|█████████▍| 240/255 [01:25<00:05,  2.80it/s, loss=0.11, v_num=1, train_loss=0.222, train_accuracy=0.944, val_loss=0.206, val_accuracy=0.931]\n",
      "Epoch 103:  95%|█████████▍| 242/255 [01:25<00:04,  2.82it/s, loss=0.11, v_num=1, train_loss=0.222, train_accuracy=0.944, val_loss=0.206, val_accuracy=0.931]\n",
      "Epoch 103:  96%|█████████▌| 244/255 [01:25<00:03,  2.84it/s, loss=0.11, v_num=1, train_loss=0.222, train_accuracy=0.944, val_loss=0.206, val_accuracy=0.931]\n",
      "Epoch 103:  96%|█████████▋| 246/255 [01:26<00:03,  2.86it/s, loss=0.11, v_num=1, train_loss=0.222, train_accuracy=0.944, val_loss=0.206, val_accuracy=0.931]\n",
      "Epoch 103:  97%|█████████▋| 248/255 [01:26<00:02,  2.87it/s, loss=0.11, v_num=1, train_loss=0.222, train_accuracy=0.944, val_loss=0.206, val_accuracy=0.931]\n",
      "Epoch 103:  98%|█████████▊| 250/255 [01:26<00:01,  2.89it/s, loss=0.11, v_num=1, train_loss=0.222, train_accuracy=0.944, val_loss=0.206, val_accuracy=0.931]\n",
      "Epoch 103:  99%|█████████▉| 252/255 [01:26<00:01,  2.91it/s, loss=0.11, v_num=1, train_loss=0.222, train_accuracy=0.944, val_loss=0.206, val_accuracy=0.931]\n",
      "Epoch 103: 100%|█████████▉| 254/255 [01:26<00:00,  2.92it/s, loss=0.11, v_num=1, train_loss=0.222, train_accuracy=0.944, val_loss=0.206, val_accuracy=0.931]\n",
      "Epoch 103: 100%|██████████| 255/255 [01:27<00:00,  2.92it/s, loss=0.11, v_num=1, train_loss=0.222, train_accuracy=0.944, val_loss=0.167, val_accuracy=0.945]\n",
      "Epoch 103: 100%|██████████| 255/255 [01:27<00:00,  2.92it/s, loss=0.11, v_num=1, train_loss=0.222, train_accuracy=0.944, val_loss=0.167, val_accuracy=0.945]"
     ]
    },
    {
     "name": "stderr",
     "output_type": "stream",
     "text": [
      "Epoch 103, global step 23503: val_loss reached 0.16747 (best 0.16747), saving model to \"/Workspace/code/checkpoints/best-checkpoint-corr-random-20-v5.ckpt\" as top 2\n"
     ]
    },
    {
     "name": "stdout",
     "output_type": "stream",
     "text": [
      "Epoch 104:  89%|████████▊ | 226/255 [01:22<00:10,  2.75it/s, loss=0.105, v_num=1, train_loss=0.0277, train_accuracy=1.000, val_loss=0.167, val_accuracy=0.945] \n",
      "Validating: 0it [00:00, ?it/s]\u001b[A\n",
      "Validating:   0%|          | 0/29 [00:00<?, ?it/s]\u001b[A\n",
      "Epoch 104:  89%|████████▉ | 228/255 [01:24<00:09,  2.70it/s, loss=0.105, v_num=1, train_loss=0.0277, train_accuracy=1.000, val_loss=0.167, val_accuracy=0.945]\n",
      "Epoch 104:  90%|█████████ | 230/255 [01:24<00:09,  2.72it/s, loss=0.105, v_num=1, train_loss=0.0277, train_accuracy=1.000, val_loss=0.167, val_accuracy=0.945]\n",
      "Epoch 104:  91%|█████████ | 232/255 [01:24<00:08,  2.74it/s, loss=0.105, v_num=1, train_loss=0.0277, train_accuracy=1.000, val_loss=0.167, val_accuracy=0.945]\n",
      "Epoch 104:  92%|█████████▏| 234/255 [01:24<00:07,  2.75it/s, loss=0.105, v_num=1, train_loss=0.0277, train_accuracy=1.000, val_loss=0.167, val_accuracy=0.945]\n",
      "Epoch 104:  93%|█████████▎| 236/255 [01:25<00:06,  2.77it/s, loss=0.105, v_num=1, train_loss=0.0277, train_accuracy=1.000, val_loss=0.167, val_accuracy=0.945]\n",
      "Epoch 104:  93%|█████████▎| 238/255 [01:25<00:06,  2.79it/s, loss=0.105, v_num=1, train_loss=0.0277, train_accuracy=1.000, val_loss=0.167, val_accuracy=0.945]\n",
      "Epoch 104:  94%|█████████▍| 240/255 [01:25<00:05,  2.81it/s, loss=0.105, v_num=1, train_loss=0.0277, train_accuracy=1.000, val_loss=0.167, val_accuracy=0.945]\n",
      "Epoch 104:  95%|█████████▍| 242/255 [01:25<00:04,  2.83it/s, loss=0.105, v_num=1, train_loss=0.0277, train_accuracy=1.000, val_loss=0.167, val_accuracy=0.945]\n",
      "Epoch 104:  96%|█████████▌| 244/255 [01:25<00:03,  2.85it/s, loss=0.105, v_num=1, train_loss=0.0277, train_accuracy=1.000, val_loss=0.167, val_accuracy=0.945]\n",
      "Epoch 104:  96%|█████████▋| 246/255 [01:25<00:03,  2.86it/s, loss=0.105, v_num=1, train_loss=0.0277, train_accuracy=1.000, val_loss=0.167, val_accuracy=0.945]\n",
      "Epoch 104:  97%|█████████▋| 248/255 [01:26<00:02,  2.88it/s, loss=0.105, v_num=1, train_loss=0.0277, train_accuracy=1.000, val_loss=0.167, val_accuracy=0.945]\n",
      "Epoch 104:  98%|█████████▊| 250/255 [01:26<00:01,  2.90it/s, loss=0.105, v_num=1, train_loss=0.0277, train_accuracy=1.000, val_loss=0.167, val_accuracy=0.945]\n",
      "Epoch 104:  99%|█████████▉| 252/255 [01:26<00:01,  2.91it/s, loss=0.105, v_num=1, train_loss=0.0277, train_accuracy=1.000, val_loss=0.167, val_accuracy=0.945]\n",
      "Epoch 104: 100%|█████████▉| 254/255 [01:26<00:00,  2.93it/s, loss=0.105, v_num=1, train_loss=0.0277, train_accuracy=1.000, val_loss=0.167, val_accuracy=0.945]\n",
      "Epoch 104: 100%|██████████| 255/255 [01:27<00:00,  2.93it/s, loss=0.105, v_num=1, train_loss=0.0277, train_accuracy=1.000, val_loss=0.195, val_accuracy=0.935]\n",
      "Epoch 104: 100%|██████████| 255/255 [01:27<00:00,  2.93it/s, loss=0.105, v_num=1, train_loss=0.0277, train_accuracy=1.000, val_loss=0.195, val_accuracy=0.935]"
     ]
    },
    {
     "name": "stderr",
     "output_type": "stream",
     "text": [
      "Epoch 104, global step 23729: val_loss was not in top 2\n"
     ]
    },
    {
     "name": "stdout",
     "output_type": "stream",
     "text": [
      "Epoch 105:  89%|████████▊ | 226/255 [01:21<00:10,  2.76it/s, loss=0.135, v_num=1, train_loss=0.207, train_accuracy=0.944, val_loss=0.195, val_accuracy=0.935] \n",
      "Validating: 0it [00:00, ?it/s]\u001b[A\n",
      "Validating:   0%|          | 0/29 [00:00<?, ?it/s]\u001b[A\n",
      "Epoch 105:  89%|████████▉ | 228/255 [01:24<00:09,  2.71it/s, loss=0.135, v_num=1, train_loss=0.207, train_accuracy=0.944, val_loss=0.195, val_accuracy=0.935]\n",
      "Epoch 105:  90%|█████████ | 230/255 [01:24<00:09,  2.73it/s, loss=0.135, v_num=1, train_loss=0.207, train_accuracy=0.944, val_loss=0.195, val_accuracy=0.935]\n",
      "Epoch 105:  91%|█████████ | 232/255 [01:24<00:08,  2.74it/s, loss=0.135, v_num=1, train_loss=0.207, train_accuracy=0.944, val_loss=0.195, val_accuracy=0.935]\n",
      "Epoch 105:  92%|█████████▏| 234/255 [01:24<00:07,  2.76it/s, loss=0.135, v_num=1, train_loss=0.207, train_accuracy=0.944, val_loss=0.195, val_accuracy=0.935]\n",
      "Epoch 105:  93%|█████████▎| 236/255 [01:24<00:06,  2.78it/s, loss=0.135, v_num=1, train_loss=0.207, train_accuracy=0.944, val_loss=0.195, val_accuracy=0.935]\n",
      "Epoch 105:  93%|█████████▎| 238/255 [01:25<00:06,  2.80it/s, loss=0.135, v_num=1, train_loss=0.207, train_accuracy=0.944, val_loss=0.195, val_accuracy=0.935]\n",
      "Epoch 105:  94%|█████████▍| 240/255 [01:25<00:05,  2.82it/s, loss=0.135, v_num=1, train_loss=0.207, train_accuracy=0.944, val_loss=0.195, val_accuracy=0.935]\n",
      "Epoch 105:  95%|█████████▍| 242/255 [01:25<00:04,  2.83it/s, loss=0.135, v_num=1, train_loss=0.207, train_accuracy=0.944, val_loss=0.195, val_accuracy=0.935]\n",
      "Epoch 105:  96%|█████████▌| 244/255 [01:25<00:03,  2.85it/s, loss=0.135, v_num=1, train_loss=0.207, train_accuracy=0.944, val_loss=0.195, val_accuracy=0.935]\n",
      "Epoch 105:  96%|█████████▋| 246/255 [01:25<00:03,  2.87it/s, loss=0.135, v_num=1, train_loss=0.207, train_accuracy=0.944, val_loss=0.195, val_accuracy=0.935]\n",
      "Epoch 105:  97%|█████████▋| 248/255 [01:25<00:02,  2.89it/s, loss=0.135, v_num=1, train_loss=0.207, train_accuracy=0.944, val_loss=0.195, val_accuracy=0.935]\n",
      "Epoch 105:  98%|█████████▊| 250/255 [01:26<00:01,  2.90it/s, loss=0.135, v_num=1, train_loss=0.207, train_accuracy=0.944, val_loss=0.195, val_accuracy=0.935]\n",
      "Epoch 105:  99%|█████████▉| 252/255 [01:26<00:01,  2.92it/s, loss=0.135, v_num=1, train_loss=0.207, train_accuracy=0.944, val_loss=0.195, val_accuracy=0.935]\n",
      "Epoch 105: 100%|█████████▉| 254/255 [01:26<00:00,  2.94it/s, loss=0.135, v_num=1, train_loss=0.207, train_accuracy=0.944, val_loss=0.195, val_accuracy=0.935]\n",
      "Epoch 105: 100%|██████████| 255/255 [01:26<00:00,  2.93it/s, loss=0.135, v_num=1, train_loss=0.207, train_accuracy=0.944, val_loss=0.263, val_accuracy=0.917]\n",
      "Epoch 105: 100%|██████████| 255/255 [01:26<00:00,  2.93it/s, loss=0.135, v_num=1, train_loss=0.207, train_accuracy=0.944, val_loss=0.263, val_accuracy=0.917]"
     ]
    },
    {
     "name": "stderr",
     "output_type": "stream",
     "text": [
      "Epoch 105, global step 23955: val_loss was not in top 2\n"
     ]
    },
    {
     "name": "stdout",
     "output_type": "stream",
     "text": [
      "Epoch 106:  89%|████████▊ | 226/255 [01:22<00:10,  2.75it/s, loss=0.129, v_num=1, train_loss=0.194, train_accuracy=0.944, val_loss=0.263, val_accuracy=0.917]  \n",
      "Validating: 0it [00:00, ?it/s]\u001b[A\n",
      "Validating:   0%|          | 0/29 [00:00<?, ?it/s]\u001b[A\n",
      "Epoch 106:  89%|████████▉ | 228/255 [01:24<00:09,  2.70it/s, loss=0.129, v_num=1, train_loss=0.194, train_accuracy=0.944, val_loss=0.263, val_accuracy=0.917]\n",
      "Epoch 106:  90%|█████████ | 230/255 [01:24<00:09,  2.72it/s, loss=0.129, v_num=1, train_loss=0.194, train_accuracy=0.944, val_loss=0.263, val_accuracy=0.917]\n",
      "Epoch 106:  91%|█████████ | 232/255 [01:24<00:08,  2.74it/s, loss=0.129, v_num=1, train_loss=0.194, train_accuracy=0.944, val_loss=0.263, val_accuracy=0.917]\n",
      "Epoch 106:  92%|█████████▏| 234/255 [01:24<00:07,  2.76it/s, loss=0.129, v_num=1, train_loss=0.194, train_accuracy=0.944, val_loss=0.263, val_accuracy=0.917]\n",
      "Epoch 106:  93%|█████████▎| 236/255 [01:25<00:06,  2.77it/s, loss=0.129, v_num=1, train_loss=0.194, train_accuracy=0.944, val_loss=0.263, val_accuracy=0.917]\n",
      "Epoch 106:  93%|█████████▎| 238/255 [01:25<00:06,  2.79it/s, loss=0.129, v_num=1, train_loss=0.194, train_accuracy=0.944, val_loss=0.263, val_accuracy=0.917]\n",
      "Epoch 106:  94%|█████████▍| 240/255 [01:25<00:05,  2.81it/s, loss=0.129, v_num=1, train_loss=0.194, train_accuracy=0.944, val_loss=0.263, val_accuracy=0.917]\n",
      "Epoch 106:  95%|█████████▍| 242/255 [01:25<00:04,  2.83it/s, loss=0.129, v_num=1, train_loss=0.194, train_accuracy=0.944, val_loss=0.263, val_accuracy=0.917]\n",
      "Epoch 106:  96%|█████████▌| 244/255 [01:25<00:03,  2.85it/s, loss=0.129, v_num=1, train_loss=0.194, train_accuracy=0.944, val_loss=0.263, val_accuracy=0.917]\n",
      "Epoch 106:  96%|█████████▋| 246/255 [01:25<00:03,  2.86it/s, loss=0.129, v_num=1, train_loss=0.194, train_accuracy=0.944, val_loss=0.263, val_accuracy=0.917]\n",
      "Epoch 106:  97%|█████████▋| 248/255 [01:26<00:02,  2.88it/s, loss=0.129, v_num=1, train_loss=0.194, train_accuracy=0.944, val_loss=0.263, val_accuracy=0.917]\n",
      "Epoch 106:  98%|█████████▊| 250/255 [01:26<00:01,  2.90it/s, loss=0.129, v_num=1, train_loss=0.194, train_accuracy=0.944, val_loss=0.263, val_accuracy=0.917]\n",
      "Epoch 106:  99%|█████████▉| 252/255 [01:26<00:01,  2.92it/s, loss=0.129, v_num=1, train_loss=0.194, train_accuracy=0.944, val_loss=0.263, val_accuracy=0.917]\n",
      "Epoch 106: 100%|█████████▉| 254/255 [01:26<00:00,  2.93it/s, loss=0.129, v_num=1, train_loss=0.194, train_accuracy=0.944, val_loss=0.263, val_accuracy=0.917]\n",
      "Epoch 106: 100%|██████████| 255/255 [01:27<00:00,  2.93it/s, loss=0.129, v_num=1, train_loss=0.194, train_accuracy=0.944, val_loss=0.235, val_accuracy=0.901]\n",
      "Epoch 106: 100%|██████████| 255/255 [01:27<00:00,  2.93it/s, loss=0.129, v_num=1, train_loss=0.194, train_accuracy=0.944, val_loss=0.235, val_accuracy=0.901]"
     ]
    },
    {
     "name": "stderr",
     "output_type": "stream",
     "text": [
      "Epoch 106, global step 24181: val_loss was not in top 2\n"
     ]
    },
    {
     "name": "stdout",
     "output_type": "stream",
     "text": [
      "Epoch 107:  89%|████████▊ | 226/255 [01:22<00:10,  2.75it/s, loss=0.106, v_num=1, train_loss=0.233, train_accuracy=0.944, val_loss=0.235, val_accuracy=0.901]  \n",
      "Validating: 0it [00:00, ?it/s]\u001b[A\n",
      "Validating:   0%|          | 0/29 [00:00<?, ?it/s]\u001b[A\n",
      "Epoch 107:  89%|████████▉ | 228/255 [01:24<00:09,  2.71it/s, loss=0.106, v_num=1, train_loss=0.233, train_accuracy=0.944, val_loss=0.235, val_accuracy=0.901]\n",
      "Epoch 107:  90%|█████████ | 230/255 [01:24<00:09,  2.72it/s, loss=0.106, v_num=1, train_loss=0.233, train_accuracy=0.944, val_loss=0.235, val_accuracy=0.901]\n",
      "Epoch 107:  91%|█████████ | 232/255 [01:24<00:08,  2.74it/s, loss=0.106, v_num=1, train_loss=0.233, train_accuracy=0.944, val_loss=0.235, val_accuracy=0.901]\n",
      "Epoch 107:  92%|█████████▏| 234/255 [01:24<00:07,  2.76it/s, loss=0.106, v_num=1, train_loss=0.233, train_accuracy=0.944, val_loss=0.235, val_accuracy=0.901]\n",
      "Epoch 107:  93%|█████████▎| 236/255 [01:24<00:06,  2.78it/s, loss=0.106, v_num=1, train_loss=0.233, train_accuracy=0.944, val_loss=0.235, val_accuracy=0.901]\n",
      "Epoch 107:  93%|█████████▎| 238/255 [01:25<00:06,  2.80it/s, loss=0.106, v_num=1, train_loss=0.233, train_accuracy=0.944, val_loss=0.235, val_accuracy=0.901]\n",
      "Epoch 107:  94%|█████████▍| 240/255 [01:25<00:05,  2.81it/s, loss=0.106, v_num=1, train_loss=0.233, train_accuracy=0.944, val_loss=0.235, val_accuracy=0.901]\n",
      "Epoch 107:  95%|█████████▍| 242/255 [01:25<00:04,  2.83it/s, loss=0.106, v_num=1, train_loss=0.233, train_accuracy=0.944, val_loss=0.235, val_accuracy=0.901]\n",
      "Epoch 107:  96%|█████████▌| 244/255 [01:25<00:03,  2.85it/s, loss=0.106, v_num=1, train_loss=0.233, train_accuracy=0.944, val_loss=0.235, val_accuracy=0.901]\n",
      "Epoch 107:  96%|█████████▋| 246/255 [01:25<00:03,  2.87it/s, loss=0.106, v_num=1, train_loss=0.233, train_accuracy=0.944, val_loss=0.235, val_accuracy=0.901]\n",
      "Epoch 107:  97%|█████████▋| 248/255 [01:25<00:02,  2.88it/s, loss=0.106, v_num=1, train_loss=0.233, train_accuracy=0.944, val_loss=0.235, val_accuracy=0.901]\n",
      "Epoch 107:  98%|█████████▊| 250/255 [01:26<00:01,  2.90it/s, loss=0.106, v_num=1, train_loss=0.233, train_accuracy=0.944, val_loss=0.235, val_accuracy=0.901]\n",
      "Epoch 107:  99%|█████████▉| 252/255 [01:26<00:01,  2.92it/s, loss=0.106, v_num=1, train_loss=0.233, train_accuracy=0.944, val_loss=0.235, val_accuracy=0.901]\n",
      "Epoch 107: 100%|█████████▉| 254/255 [01:26<00:00,  2.94it/s, loss=0.106, v_num=1, train_loss=0.233, train_accuracy=0.944, val_loss=0.235, val_accuracy=0.901]\n",
      "Epoch 107: 100%|██████████| 255/255 [01:26<00:00,  2.93it/s, loss=0.106, v_num=1, train_loss=0.233, train_accuracy=0.944, val_loss=0.179, val_accuracy=0.939]\n",
      "Epoch 107: 100%|██████████| 255/255 [01:26<00:00,  2.93it/s, loss=0.106, v_num=1, train_loss=0.233, train_accuracy=0.944, val_loss=0.179, val_accuracy=0.939]"
     ]
    },
    {
     "name": "stderr",
     "output_type": "stream",
     "text": [
      "Epoch 107, global step 24407: val_loss reached 0.17917 (best 0.16747), saving model to \"/Workspace/code/checkpoints/best-checkpoint-corr-random-20-v6.ckpt\" as top 2\n"
     ]
    },
    {
     "name": "stdout",
     "output_type": "stream",
     "text": [
      "Epoch 108:  89%|████████▊ | 226/255 [01:22<00:10,  2.74it/s, loss=0.115, v_num=1, train_loss=0.256, train_accuracy=0.889, val_loss=0.179, val_accuracy=0.939]  \n",
      "Validating: 0it [00:00, ?it/s]\u001b[A\n",
      "Validating:   0%|          | 0/29 [00:00<?, ?it/s]\u001b[A\n",
      "Epoch 108:  89%|████████▉ | 228/255 [01:24<00:10,  2.70it/s, loss=0.115, v_num=1, train_loss=0.256, train_accuracy=0.889, val_loss=0.179, val_accuracy=0.939]\n",
      "Epoch 108:  90%|█████████ | 230/255 [01:24<00:09,  2.71it/s, loss=0.115, v_num=1, train_loss=0.256, train_accuracy=0.889, val_loss=0.179, val_accuracy=0.939]\n",
      "Epoch 108:  91%|█████████ | 232/255 [01:24<00:08,  2.73it/s, loss=0.115, v_num=1, train_loss=0.256, train_accuracy=0.889, val_loss=0.179, val_accuracy=0.939]\n",
      "Epoch 108:  92%|█████████▏| 234/255 [01:25<00:07,  2.75it/s, loss=0.115, v_num=1, train_loss=0.256, train_accuracy=0.889, val_loss=0.179, val_accuracy=0.939]\n",
      "Epoch 108:  93%|█████████▎| 236/255 [01:25<00:06,  2.77it/s, loss=0.115, v_num=1, train_loss=0.256, train_accuracy=0.889, val_loss=0.179, val_accuracy=0.939]\n",
      "Epoch 108:  93%|█████████▎| 238/255 [01:25<00:06,  2.79it/s, loss=0.115, v_num=1, train_loss=0.256, train_accuracy=0.889, val_loss=0.179, val_accuracy=0.939]\n",
      "Epoch 108:  94%|█████████▍| 240/255 [01:25<00:05,  2.80it/s, loss=0.115, v_num=1, train_loss=0.256, train_accuracy=0.889, val_loss=0.179, val_accuracy=0.939]\n",
      "Epoch 108:  95%|█████████▍| 242/255 [01:25<00:04,  2.82it/s, loss=0.115, v_num=1, train_loss=0.256, train_accuracy=0.889, val_loss=0.179, val_accuracy=0.939]\n",
      "Epoch 108:  96%|█████████▌| 244/255 [01:25<00:03,  2.84it/s, loss=0.115, v_num=1, train_loss=0.256, train_accuracy=0.889, val_loss=0.179, val_accuracy=0.939]\n",
      "Epoch 108:  96%|█████████▋| 246/255 [01:26<00:03,  2.86it/s, loss=0.115, v_num=1, train_loss=0.256, train_accuracy=0.889, val_loss=0.179, val_accuracy=0.939]\n",
      "Epoch 108:  97%|█████████▋| 248/255 [01:26<00:02,  2.87it/s, loss=0.115, v_num=1, train_loss=0.256, train_accuracy=0.889, val_loss=0.179, val_accuracy=0.939]\n",
      "Epoch 108:  98%|█████████▊| 250/255 [01:26<00:01,  2.89it/s, loss=0.115, v_num=1, train_loss=0.256, train_accuracy=0.889, val_loss=0.179, val_accuracy=0.939]\n",
      "Epoch 108:  99%|█████████▉| 252/255 [01:26<00:01,  2.91it/s, loss=0.115, v_num=1, train_loss=0.256, train_accuracy=0.889, val_loss=0.179, val_accuracy=0.939]\n",
      "Epoch 108: 100%|█████████▉| 254/255 [01:26<00:00,  2.92it/s, loss=0.115, v_num=1, train_loss=0.256, train_accuracy=0.889, val_loss=0.179, val_accuracy=0.939]\n",
      "Epoch 108: 100%|██████████| 255/255 [01:27<00:00,  2.92it/s, loss=0.115, v_num=1, train_loss=0.256, train_accuracy=0.889, val_loss=0.232, val_accuracy=0.924]\n",
      "Epoch 108: 100%|██████████| 255/255 [01:27<00:00,  2.92it/s, loss=0.115, v_num=1, train_loss=0.256, train_accuracy=0.889, val_loss=0.232, val_accuracy=0.924]"
     ]
    },
    {
     "name": "stderr",
     "output_type": "stream",
     "text": [
      "Epoch 108, global step 24633: val_loss was not in top 2\n"
     ]
    },
    {
     "name": "stdout",
     "output_type": "stream",
     "text": [
      "Epoch 109:  89%|████████▊ | 226/255 [01:22<00:10,  2.75it/s, loss=0.132, v_num=1, train_loss=0.145, train_accuracy=0.944, val_loss=0.232, val_accuracy=0.924] \n",
      "Validating: 0it [00:00, ?it/s]\u001b[A\n",
      "Validating:   0%|          | 0/29 [00:00<?, ?it/s]\u001b[A\n",
      "Epoch 109:  89%|████████▉ | 228/255 [01:24<00:10,  2.70it/s, loss=0.132, v_num=1, train_loss=0.145, train_accuracy=0.944, val_loss=0.232, val_accuracy=0.924]\n",
      "Epoch 109:  90%|█████████ | 230/255 [01:24<00:09,  2.72it/s, loss=0.132, v_num=1, train_loss=0.145, train_accuracy=0.944, val_loss=0.232, val_accuracy=0.924]\n",
      "Epoch 109:  91%|█████████ | 232/255 [01:24<00:08,  2.74it/s, loss=0.132, v_num=1, train_loss=0.145, train_accuracy=0.944, val_loss=0.232, val_accuracy=0.924]\n",
      "Epoch 109:  92%|█████████▏| 234/255 [01:24<00:07,  2.75it/s, loss=0.132, v_num=1, train_loss=0.145, train_accuracy=0.944, val_loss=0.232, val_accuracy=0.924]\n",
      "Epoch 109:  93%|█████████▎| 236/255 [01:25<00:06,  2.77it/s, loss=0.132, v_num=1, train_loss=0.145, train_accuracy=0.944, val_loss=0.232, val_accuracy=0.924]\n",
      "Epoch 109:  93%|█████████▎| 238/255 [01:25<00:06,  2.79it/s, loss=0.132, v_num=1, train_loss=0.145, train_accuracy=0.944, val_loss=0.232, val_accuracy=0.924]\n",
      "Epoch 109:  94%|█████████▍| 240/255 [01:25<00:05,  2.81it/s, loss=0.132, v_num=1, train_loss=0.145, train_accuracy=0.944, val_loss=0.232, val_accuracy=0.924]\n",
      "Epoch 109:  95%|█████████▍| 242/255 [01:25<00:04,  2.82it/s, loss=0.132, v_num=1, train_loss=0.145, train_accuracy=0.944, val_loss=0.232, val_accuracy=0.924]\n",
      "Epoch 109:  96%|█████████▌| 244/255 [01:25<00:03,  2.84it/s, loss=0.132, v_num=1, train_loss=0.145, train_accuracy=0.944, val_loss=0.232, val_accuracy=0.924]\n",
      "Epoch 109:  96%|█████████▋| 246/255 [01:26<00:03,  2.86it/s, loss=0.132, v_num=1, train_loss=0.145, train_accuracy=0.944, val_loss=0.232, val_accuracy=0.924]\n",
      "Epoch 109:  97%|█████████▋| 248/255 [01:26<00:02,  2.88it/s, loss=0.132, v_num=1, train_loss=0.145, train_accuracy=0.944, val_loss=0.232, val_accuracy=0.924]\n",
      "Epoch 109:  98%|█████████▊| 250/255 [01:26<00:01,  2.89it/s, loss=0.132, v_num=1, train_loss=0.145, train_accuracy=0.944, val_loss=0.232, val_accuracy=0.924]\n",
      "Epoch 109:  99%|█████████▉| 252/255 [01:26<00:01,  2.91it/s, loss=0.132, v_num=1, train_loss=0.145, train_accuracy=0.944, val_loss=0.232, val_accuracy=0.924]\n",
      "Epoch 109: 100%|█████████▉| 254/255 [01:26<00:00,  2.93it/s, loss=0.132, v_num=1, train_loss=0.145, train_accuracy=0.944, val_loss=0.232, val_accuracy=0.924]\n",
      "Epoch 109: 100%|██████████| 255/255 [01:27<00:00,  2.92it/s, loss=0.132, v_num=1, train_loss=0.145, train_accuracy=0.944, val_loss=0.214, val_accuracy=0.930]\n",
      "Epoch 109: 100%|██████████| 255/255 [01:27<00:00,  2.92it/s, loss=0.132, v_num=1, train_loss=0.145, train_accuracy=0.944, val_loss=0.214, val_accuracy=0.930]"
     ]
    },
    {
     "name": "stderr",
     "output_type": "stream",
     "text": [
      "Epoch 109, global step 24859: val_loss was not in top 2\n"
     ]
    },
    {
     "name": "stdout",
     "output_type": "stream",
     "text": [
      "Epoch 110:  89%|████████▊ | 226/255 [01:22<00:10,  2.74it/s, loss=0.104, v_num=1, train_loss=0.121, train_accuracy=0.944, val_loss=0.214, val_accuracy=0.930]  \n",
      "Validating: 0it [00:00, ?it/s]\u001b[A\n",
      "Validating:   0%|          | 0/29 [00:00<?, ?it/s]\u001b[A\n",
      "Epoch 110:  89%|████████▉ | 228/255 [01:24<00:10,  2.70it/s, loss=0.104, v_num=1, train_loss=0.121, train_accuracy=0.944, val_loss=0.214, val_accuracy=0.930]\n",
      "Epoch 110:  90%|█████████ | 230/255 [01:24<00:09,  2.72it/s, loss=0.104, v_num=1, train_loss=0.121, train_accuracy=0.944, val_loss=0.214, val_accuracy=0.930]\n",
      "Epoch 110:  91%|█████████ | 232/255 [01:24<00:08,  2.73it/s, loss=0.104, v_num=1, train_loss=0.121, train_accuracy=0.944, val_loss=0.214, val_accuracy=0.930]\n",
      "Epoch 110:  92%|█████████▏| 234/255 [01:25<00:07,  2.75it/s, loss=0.104, v_num=1, train_loss=0.121, train_accuracy=0.944, val_loss=0.214, val_accuracy=0.930]\n",
      "Epoch 110:  93%|█████████▎| 236/255 [01:25<00:06,  2.77it/s, loss=0.104, v_num=1, train_loss=0.121, train_accuracy=0.944, val_loss=0.214, val_accuracy=0.930]\n",
      "Epoch 110:  93%|█████████▎| 238/255 [01:25<00:06,  2.79it/s, loss=0.104, v_num=1, train_loss=0.121, train_accuracy=0.944, val_loss=0.214, val_accuracy=0.930]\n",
      "Epoch 110:  94%|█████████▍| 240/255 [01:25<00:05,  2.80it/s, loss=0.104, v_num=1, train_loss=0.121, train_accuracy=0.944, val_loss=0.214, val_accuracy=0.930]\n",
      "Epoch 110:  95%|█████████▍| 242/255 [01:25<00:04,  2.82it/s, loss=0.104, v_num=1, train_loss=0.121, train_accuracy=0.944, val_loss=0.214, val_accuracy=0.930]\n",
      "Epoch 110:  96%|█████████▌| 244/255 [01:25<00:03,  2.84it/s, loss=0.104, v_num=1, train_loss=0.121, train_accuracy=0.944, val_loss=0.214, val_accuracy=0.930]\n",
      "Epoch 110:  96%|█████████▋| 246/255 [01:26<00:03,  2.86it/s, loss=0.104, v_num=1, train_loss=0.121, train_accuracy=0.944, val_loss=0.214, val_accuracy=0.930]\n",
      "Epoch 110:  97%|█████████▋| 248/255 [01:26<00:02,  2.87it/s, loss=0.104, v_num=1, train_loss=0.121, train_accuracy=0.944, val_loss=0.214, val_accuracy=0.930]\n",
      "Epoch 110:  98%|█████████▊| 250/255 [01:26<00:01,  2.89it/s, loss=0.104, v_num=1, train_loss=0.121, train_accuracy=0.944, val_loss=0.214, val_accuracy=0.930]\n",
      "Epoch 110:  99%|█████████▉| 252/255 [01:26<00:01,  2.91it/s, loss=0.104, v_num=1, train_loss=0.121, train_accuracy=0.944, val_loss=0.214, val_accuracy=0.930]\n",
      "Epoch 110: 100%|█████████▉| 254/255 [01:26<00:00,  2.93it/s, loss=0.104, v_num=1, train_loss=0.121, train_accuracy=0.944, val_loss=0.214, val_accuracy=0.930]\n",
      "Epoch 110: 100%|██████████| 255/255 [01:27<00:00,  2.92it/s, loss=0.104, v_num=1, train_loss=0.121, train_accuracy=0.944, val_loss=0.201, val_accuracy=0.931]\n",
      "Epoch 110: 100%|██████████| 255/255 [01:27<00:00,  2.92it/s, loss=0.104, v_num=1, train_loss=0.121, train_accuracy=0.944, val_loss=0.201, val_accuracy=0.931]"
     ]
    },
    {
     "name": "stderr",
     "output_type": "stream",
     "text": [
      "Epoch 110, global step 25085: val_loss was not in top 2\n"
     ]
    },
    {
     "name": "stdout",
     "output_type": "stream",
     "text": [
      "Epoch 111:  89%|████████▊ | 226/255 [01:22<00:10,  2.74it/s, loss=0.0713, v_num=1, train_loss=0.0425, train_accuracy=1.000, val_loss=0.201, val_accuracy=0.931]\n",
      "Validating: 0it [00:00, ?it/s]\u001b[A\n",
      "Validating:   0%|          | 0/29 [00:00<?, ?it/s]\u001b[A\n",
      "Epoch 111:  89%|████████▉ | 228/255 [01:24<00:10,  2.69it/s, loss=0.0713, v_num=1, train_loss=0.0425, train_accuracy=1.000, val_loss=0.201, val_accuracy=0.931]\n",
      "Validating:   7%|▋         | 2/29 [00:02<00:26,  1.01it/s]\u001b[A\n",
      "Epoch 111:  90%|█████████ | 230/255 [01:24<00:09,  2.71it/s, loss=0.0713, v_num=1, train_loss=0.0425, train_accuracy=1.000, val_loss=0.201, val_accuracy=0.931]\n",
      "Epoch 111:  91%|█████████ | 232/255 [01:24<00:08,  2.73it/s, loss=0.0713, v_num=1, train_loss=0.0425, train_accuracy=1.000, val_loss=0.201, val_accuracy=0.931]\n",
      "Epoch 111:  92%|█████████▏| 234/255 [01:25<00:07,  2.75it/s, loss=0.0713, v_num=1, train_loss=0.0425, train_accuracy=1.000, val_loss=0.201, val_accuracy=0.931]\n",
      "Epoch 111:  93%|█████████▎| 236/255 [01:25<00:06,  2.77it/s, loss=0.0713, v_num=1, train_loss=0.0425, train_accuracy=1.000, val_loss=0.201, val_accuracy=0.931]\n",
      "Epoch 111:  93%|█████████▎| 238/255 [01:25<00:06,  2.79it/s, loss=0.0713, v_num=1, train_loss=0.0425, train_accuracy=1.000, val_loss=0.201, val_accuracy=0.931]\n",
      "Epoch 111:  94%|█████████▍| 240/255 [01:25<00:05,  2.80it/s, loss=0.0713, v_num=1, train_loss=0.0425, train_accuracy=1.000, val_loss=0.201, val_accuracy=0.931]\n",
      "Epoch 111:  95%|█████████▍| 242/255 [01:25<00:04,  2.82it/s, loss=0.0713, v_num=1, train_loss=0.0425, train_accuracy=1.000, val_loss=0.201, val_accuracy=0.931]\n",
      "Epoch 111:  96%|█████████▌| 244/255 [01:25<00:03,  2.84it/s, loss=0.0713, v_num=1, train_loss=0.0425, train_accuracy=1.000, val_loss=0.201, val_accuracy=0.931]\n",
      "Epoch 111:  96%|█████████▋| 246/255 [01:26<00:03,  2.86it/s, loss=0.0713, v_num=1, train_loss=0.0425, train_accuracy=1.000, val_loss=0.201, val_accuracy=0.931]\n",
      "Epoch 111:  97%|█████████▋| 248/255 [01:26<00:02,  2.88it/s, loss=0.0713, v_num=1, train_loss=0.0425, train_accuracy=1.000, val_loss=0.201, val_accuracy=0.931]\n",
      "Epoch 111:  98%|█████████▊| 250/255 [01:26<00:01,  2.90it/s, loss=0.0713, v_num=1, train_loss=0.0425, train_accuracy=1.000, val_loss=0.201, val_accuracy=0.931]\n",
      "Epoch 111:  99%|█████████▉| 252/255 [01:26<00:01,  2.91it/s, loss=0.0713, v_num=1, train_loss=0.0425, train_accuracy=1.000, val_loss=0.201, val_accuracy=0.931]\n",
      "Epoch 111: 100%|█████████▉| 254/255 [01:26<00:00,  2.93it/s, loss=0.0713, v_num=1, train_loss=0.0425, train_accuracy=1.000, val_loss=0.201, val_accuracy=0.931]\n",
      "Epoch 111: 100%|██████████| 255/255 [01:27<00:00,  2.93it/s, loss=0.0713, v_num=1, train_loss=0.0425, train_accuracy=1.000, val_loss=0.192, val_accuracy=0.936]\n",
      "Epoch 111: 100%|██████████| 255/255 [01:27<00:00,  2.93it/s, loss=0.0713, v_num=1, train_loss=0.0425, train_accuracy=1.000, val_loss=0.192, val_accuracy=0.936]"
     ]
    },
    {
     "name": "stderr",
     "output_type": "stream",
     "text": [
      "Epoch 111, global step 25311: val_loss was not in top 2\n"
     ]
    },
    {
     "name": "stdout",
     "output_type": "stream",
     "text": [
      "Epoch 112:  89%|████████▊ | 226/255 [01:22<00:10,  2.74it/s, loss=0.118, v_num=1, train_loss=0.199, train_accuracy=0.889, val_loss=0.192, val_accuracy=0.936]   \n",
      "Validating: 0it [00:00, ?it/s]\u001b[A\n",
      "Validating:   0%|          | 0/29 [00:00<?, ?it/s]\u001b[A\n",
      "Epoch 112:  89%|████████▉ | 228/255 [01:24<00:10,  2.69it/s, loss=0.118, v_num=1, train_loss=0.199, train_accuracy=0.889, val_loss=0.192, val_accuracy=0.936]\n",
      "Epoch 112:  90%|█████████ | 230/255 [01:24<00:09,  2.71it/s, loss=0.118, v_num=1, train_loss=0.199, train_accuracy=0.889, val_loss=0.192, val_accuracy=0.936]\n",
      "Epoch 112:  91%|█████████ | 232/255 [01:25<00:08,  2.73it/s, loss=0.118, v_num=1, train_loss=0.199, train_accuracy=0.889, val_loss=0.192, val_accuracy=0.936]\n",
      "Epoch 112:  92%|█████████▏| 234/255 [01:25<00:07,  2.74it/s, loss=0.118, v_num=1, train_loss=0.199, train_accuracy=0.889, val_loss=0.192, val_accuracy=0.936]\n",
      "Epoch 112:  93%|█████████▎| 236/255 [01:25<00:06,  2.76it/s, loss=0.118, v_num=1, train_loss=0.199, train_accuracy=0.889, val_loss=0.192, val_accuracy=0.936]\n",
      "Epoch 112:  93%|█████████▎| 238/255 [01:25<00:06,  2.78it/s, loss=0.118, v_num=1, train_loss=0.199, train_accuracy=0.889, val_loss=0.192, val_accuracy=0.936]\n",
      "Epoch 112:  94%|█████████▍| 240/255 [01:25<00:05,  2.80it/s, loss=0.118, v_num=1, train_loss=0.199, train_accuracy=0.889, val_loss=0.192, val_accuracy=0.936]\n",
      "Epoch 112:  95%|█████████▍| 242/255 [01:25<00:04,  2.82it/s, loss=0.118, v_num=1, train_loss=0.199, train_accuracy=0.889, val_loss=0.192, val_accuracy=0.936]\n",
      "Epoch 112:  96%|█████████▌| 244/255 [01:26<00:03,  2.84it/s, loss=0.118, v_num=1, train_loss=0.199, train_accuracy=0.889, val_loss=0.192, val_accuracy=0.936]\n",
      "Epoch 112:  96%|█████████▋| 246/255 [01:26<00:03,  2.85it/s, loss=0.118, v_num=1, train_loss=0.199, train_accuracy=0.889, val_loss=0.192, val_accuracy=0.936]\n",
      "Epoch 112:  97%|█████████▋| 248/255 [01:26<00:02,  2.87it/s, loss=0.118, v_num=1, train_loss=0.199, train_accuracy=0.889, val_loss=0.192, val_accuracy=0.936]\n",
      "Epoch 112:  98%|█████████▊| 250/255 [01:26<00:01,  2.89it/s, loss=0.118, v_num=1, train_loss=0.199, train_accuracy=0.889, val_loss=0.192, val_accuracy=0.936]\n",
      "Epoch 112:  99%|█████████▉| 252/255 [01:26<00:01,  2.91it/s, loss=0.118, v_num=1, train_loss=0.199, train_accuracy=0.889, val_loss=0.192, val_accuracy=0.936]\n",
      "Epoch 112: 100%|█████████▉| 254/255 [01:26<00:00,  2.92it/s, loss=0.118, v_num=1, train_loss=0.199, train_accuracy=0.889, val_loss=0.192, val_accuracy=0.936]\n",
      "Epoch 112: 100%|██████████| 255/255 [01:27<00:00,  2.92it/s, loss=0.118, v_num=1, train_loss=0.199, train_accuracy=0.889, val_loss=0.194, val_accuracy=0.936]\n",
      "Epoch 112: 100%|██████████| 255/255 [01:27<00:00,  2.92it/s, loss=0.118, v_num=1, train_loss=0.199, train_accuracy=0.889, val_loss=0.194, val_accuracy=0.936]"
     ]
    },
    {
     "name": "stderr",
     "output_type": "stream",
     "text": [
      "Epoch 112, global step 25537: val_loss was not in top 2\n"
     ]
    },
    {
     "name": "stdout",
     "output_type": "stream",
     "text": [
      "Epoch 113:  89%|████████▊ | 226/255 [01:22<00:10,  2.74it/s, loss=0.0966, v_num=1, train_loss=0.0417, train_accuracy=1.000, val_loss=0.194, val_accuracy=0.936]\n",
      "Validating: 0it [00:00, ?it/s]\u001b[A\n",
      "Validating:   0%|          | 0/29 [00:00<?, ?it/s]\u001b[A\n",
      "Epoch 113:  89%|████████▉ | 228/255 [01:24<00:10,  2.70it/s, loss=0.0966, v_num=1, train_loss=0.0417, train_accuracy=1.000, val_loss=0.194, val_accuracy=0.936]\n",
      "Epoch 113:  90%|█████████ | 230/255 [01:24<00:09,  2.71it/s, loss=0.0966, v_num=1, train_loss=0.0417, train_accuracy=1.000, val_loss=0.194, val_accuracy=0.936]\n",
      "Validating:  14%|█▍        | 4/29 [00:02<00:11,  2.17it/s]\u001b[A\n",
      "Epoch 113:  91%|█████████ | 232/255 [01:25<00:08,  2.73it/s, loss=0.0966, v_num=1, train_loss=0.0417, train_accuracy=1.000, val_loss=0.194, val_accuracy=0.936]\n",
      "Epoch 113:  92%|█████████▏| 234/255 [01:25<00:07,  2.75it/s, loss=0.0966, v_num=1, train_loss=0.0417, train_accuracy=1.000, val_loss=0.194, val_accuracy=0.936]\n",
      "Epoch 113:  93%|█████████▎| 236/255 [01:25<00:06,  2.77it/s, loss=0.0966, v_num=1, train_loss=0.0417, train_accuracy=1.000, val_loss=0.194, val_accuracy=0.936]\n",
      "Epoch 113:  93%|█████████▎| 238/255 [01:25<00:06,  2.78it/s, loss=0.0966, v_num=1, train_loss=0.0417, train_accuracy=1.000, val_loss=0.194, val_accuracy=0.936]\n",
      "Epoch 113:  94%|█████████▍| 240/255 [01:25<00:05,  2.80it/s, loss=0.0966, v_num=1, train_loss=0.0417, train_accuracy=1.000, val_loss=0.194, val_accuracy=0.936]\n",
      "Epoch 113:  95%|█████████▍| 242/255 [01:25<00:04,  2.82it/s, loss=0.0966, v_num=1, train_loss=0.0417, train_accuracy=1.000, val_loss=0.194, val_accuracy=0.936]\n",
      "Epoch 113:  96%|█████████▌| 244/255 [01:25<00:03,  2.84it/s, loss=0.0966, v_num=1, train_loss=0.0417, train_accuracy=1.000, val_loss=0.194, val_accuracy=0.936]\n",
      "Epoch 113:  96%|█████████▋| 246/255 [01:26<00:03,  2.86it/s, loss=0.0966, v_num=1, train_loss=0.0417, train_accuracy=1.000, val_loss=0.194, val_accuracy=0.936]\n",
      "Epoch 113:  97%|█████████▋| 248/255 [01:26<00:02,  2.88it/s, loss=0.0966, v_num=1, train_loss=0.0417, train_accuracy=1.000, val_loss=0.194, val_accuracy=0.936]\n",
      "Epoch 113:  98%|█████████▊| 250/255 [01:26<00:01,  2.90it/s, loss=0.0966, v_num=1, train_loss=0.0417, train_accuracy=1.000, val_loss=0.194, val_accuracy=0.936]\n",
      "Epoch 113:  99%|█████████▉| 252/255 [01:26<00:01,  2.91it/s, loss=0.0966, v_num=1, train_loss=0.0417, train_accuracy=1.000, val_loss=0.194, val_accuracy=0.936]\n",
      "Epoch 113: 100%|█████████▉| 254/255 [01:26<00:00,  2.93it/s, loss=0.0966, v_num=1, train_loss=0.0417, train_accuracy=1.000, val_loss=0.194, val_accuracy=0.936]\n",
      "Epoch 113: 100%|██████████| 255/255 [01:27<00:00,  2.93it/s, loss=0.0966, v_num=1, train_loss=0.0417, train_accuracy=1.000, val_loss=0.187, val_accuracy=0.938]\n",
      "Epoch 113: 100%|██████████| 255/255 [01:27<00:00,  2.93it/s, loss=0.0966, v_num=1, train_loss=0.0417, train_accuracy=1.000, val_loss=0.187, val_accuracy=0.938]"
     ]
    },
    {
     "name": "stderr",
     "output_type": "stream",
     "text": [
      "Epoch 113, global step 25763: val_loss was not in top 2\n"
     ]
    },
    {
     "name": "stdout",
     "output_type": "stream",
     "text": [
      "Epoch 114:  89%|████████▊ | 226/255 [01:22<00:10,  2.72it/s, loss=0.113, v_num=1, train_loss=0.153, train_accuracy=0.944, val_loss=0.187, val_accuracy=0.938]  \n",
      "Validating: 0it [00:00, ?it/s]\u001b[A\n",
      "Validating:   0%|          | 0/29 [00:00<?, ?it/s]\u001b[A\n",
      "Epoch 114:  89%|████████▉ | 228/255 [01:25<00:10,  2.68it/s, loss=0.113, v_num=1, train_loss=0.153, train_accuracy=0.944, val_loss=0.187, val_accuracy=0.938]\n",
      "Epoch 114:  90%|█████████ | 230/255 [01:25<00:09,  2.69it/s, loss=0.113, v_num=1, train_loss=0.153, train_accuracy=0.944, val_loss=0.187, val_accuracy=0.938]\n",
      "Epoch 114:  91%|█████████ | 232/255 [01:25<00:08,  2.71it/s, loss=0.113, v_num=1, train_loss=0.153, train_accuracy=0.944, val_loss=0.187, val_accuracy=0.938]\n",
      "Epoch 114:  92%|█████████▏| 234/255 [01:25<00:07,  2.73it/s, loss=0.113, v_num=1, train_loss=0.153, train_accuracy=0.944, val_loss=0.187, val_accuracy=0.938]\n",
      "Epoch 114:  93%|█████████▎| 236/255 [01:25<00:06,  2.75it/s, loss=0.113, v_num=1, train_loss=0.153, train_accuracy=0.944, val_loss=0.187, val_accuracy=0.938]\n",
      "Epoch 114:  93%|█████████▎| 238/255 [01:26<00:06,  2.77it/s, loss=0.113, v_num=1, train_loss=0.153, train_accuracy=0.944, val_loss=0.187, val_accuracy=0.938]\n",
      "Epoch 114:  94%|█████████▍| 240/255 [01:26<00:05,  2.78it/s, loss=0.113, v_num=1, train_loss=0.153, train_accuracy=0.944, val_loss=0.187, val_accuracy=0.938]\n",
      "Epoch 114:  95%|█████████▍| 242/255 [01:26<00:04,  2.80it/s, loss=0.113, v_num=1, train_loss=0.153, train_accuracy=0.944, val_loss=0.187, val_accuracy=0.938]\n",
      "Epoch 114:  96%|█████████▌| 244/255 [01:26<00:03,  2.82it/s, loss=0.113, v_num=1, train_loss=0.153, train_accuracy=0.944, val_loss=0.187, val_accuracy=0.938]\n",
      "Epoch 114:  96%|█████████▋| 246/255 [01:26<00:03,  2.84it/s, loss=0.113, v_num=1, train_loss=0.153, train_accuracy=0.944, val_loss=0.187, val_accuracy=0.938]\n",
      "Epoch 114:  97%|█████████▋| 248/255 [01:26<00:02,  2.85it/s, loss=0.113, v_num=1, train_loss=0.153, train_accuracy=0.944, val_loss=0.187, val_accuracy=0.938]\n",
      "Epoch 114:  98%|█████████▊| 250/255 [01:27<00:01,  2.87it/s, loss=0.113, v_num=1, train_loss=0.153, train_accuracy=0.944, val_loss=0.187, val_accuracy=0.938]\n",
      "Epoch 114:  99%|█████████▉| 252/255 [01:27<00:01,  2.89it/s, loss=0.113, v_num=1, train_loss=0.153, train_accuracy=0.944, val_loss=0.187, val_accuracy=0.938]\n",
      "Epoch 114: 100%|█████████▉| 254/255 [01:27<00:00,  2.90it/s, loss=0.113, v_num=1, train_loss=0.153, train_accuracy=0.944, val_loss=0.187, val_accuracy=0.938]\n",
      "Epoch 114: 100%|██████████| 255/255 [01:27<00:00,  2.90it/s, loss=0.113, v_num=1, train_loss=0.153, train_accuracy=0.944, val_loss=0.211, val_accuracy=0.942]\n",
      "Epoch 114: 100%|██████████| 255/255 [01:27<00:00,  2.90it/s, loss=0.113, v_num=1, train_loss=0.153, train_accuracy=0.944, val_loss=0.211, val_accuracy=0.942]"
     ]
    },
    {
     "name": "stderr",
     "output_type": "stream",
     "text": [
      "Epoch 114, global step 25989: val_loss was not in top 2\n"
     ]
    },
    {
     "name": "stdout",
     "output_type": "stream",
     "text": [
      "Epoch 115:  89%|████████▊ | 226/255 [01:22<00:10,  2.74it/s, loss=0.0843, v_num=1, train_loss=0.0236, train_accuracy=1.000, val_loss=0.211, val_accuracy=0.942]\n",
      "Validating: 0it [00:00, ?it/s]\u001b[A\n",
      "Validating:   0%|          | 0/29 [00:00<?, ?it/s]\u001b[A\n",
      "Epoch 115:  89%|████████▉ | 228/255 [01:24<00:10,  2.68it/s, loss=0.0843, v_num=1, train_loss=0.0236, train_accuracy=1.000, val_loss=0.211, val_accuracy=0.942]\n",
      "Epoch 115:  90%|█████████ | 230/255 [01:25<00:09,  2.70it/s, loss=0.0843, v_num=1, train_loss=0.0236, train_accuracy=1.000, val_loss=0.211, val_accuracy=0.942]\n",
      "Epoch 115:  91%|█████████ | 232/255 [01:25<00:08,  2.72it/s, loss=0.0843, v_num=1, train_loss=0.0236, train_accuracy=1.000, val_loss=0.211, val_accuracy=0.942]\n",
      "Epoch 115:  92%|█████████▏| 234/255 [01:25<00:07,  2.74it/s, loss=0.0843, v_num=1, train_loss=0.0236, train_accuracy=1.000, val_loss=0.211, val_accuracy=0.942]\n",
      "Epoch 115:  93%|█████████▎| 236/255 [01:25<00:06,  2.76it/s, loss=0.0843, v_num=1, train_loss=0.0236, train_accuracy=1.000, val_loss=0.211, val_accuracy=0.942]\n",
      "Epoch 115:  93%|█████████▎| 238/255 [01:25<00:06,  2.77it/s, loss=0.0843, v_num=1, train_loss=0.0236, train_accuracy=1.000, val_loss=0.211, val_accuracy=0.942]\n",
      "Epoch 115:  94%|█████████▍| 240/255 [01:25<00:05,  2.79it/s, loss=0.0843, v_num=1, train_loss=0.0236, train_accuracy=1.000, val_loss=0.211, val_accuracy=0.942]\n",
      "Epoch 115:  95%|█████████▍| 242/255 [01:26<00:04,  2.81it/s, loss=0.0843, v_num=1, train_loss=0.0236, train_accuracy=1.000, val_loss=0.211, val_accuracy=0.942]\n",
      "Epoch 115:  96%|█████████▌| 244/255 [01:26<00:03,  2.83it/s, loss=0.0843, v_num=1, train_loss=0.0236, train_accuracy=1.000, val_loss=0.211, val_accuracy=0.942]\n",
      "Epoch 115:  96%|█████████▋| 246/255 [01:26<00:03,  2.85it/s, loss=0.0843, v_num=1, train_loss=0.0236, train_accuracy=1.000, val_loss=0.211, val_accuracy=0.942]\n",
      "Epoch 115:  97%|█████████▋| 248/255 [01:26<00:02,  2.87it/s, loss=0.0843, v_num=1, train_loss=0.0236, train_accuracy=1.000, val_loss=0.211, val_accuracy=0.942]\n",
      "Epoch 115:  98%|█████████▊| 250/255 [01:26<00:01,  2.88it/s, loss=0.0843, v_num=1, train_loss=0.0236, train_accuracy=1.000, val_loss=0.211, val_accuracy=0.942]\n",
      "Epoch 115:  99%|█████████▉| 252/255 [01:26<00:01,  2.90it/s, loss=0.0843, v_num=1, train_loss=0.0236, train_accuracy=1.000, val_loss=0.211, val_accuracy=0.942]\n",
      "Epoch 115: 100%|█████████▉| 254/255 [01:26<00:00,  2.92it/s, loss=0.0843, v_num=1, train_loss=0.0236, train_accuracy=1.000, val_loss=0.211, val_accuracy=0.942]\n",
      "Epoch 115: 100%|██████████| 255/255 [01:27<00:00,  2.92it/s, loss=0.0843, v_num=1, train_loss=0.0236, train_accuracy=1.000, val_loss=0.189, val_accuracy=0.943]\n",
      "Epoch 115: 100%|██████████| 255/255 [01:27<00:00,  2.92it/s, loss=0.0843, v_num=1, train_loss=0.0236, train_accuracy=1.000, val_loss=0.189, val_accuracy=0.943]"
     ]
    },
    {
     "name": "stderr",
     "output_type": "stream",
     "text": [
      "Epoch 115, global step 26215: val_loss was not in top 2\n"
     ]
    },
    {
     "name": "stdout",
     "output_type": "stream",
     "text": [
      "Epoch 116:  89%|████████▊ | 226/255 [01:22<00:10,  2.74it/s, loss=0.124, v_num=1, train_loss=0.0859, train_accuracy=0.944, val_loss=0.189, val_accuracy=0.943]  \n",
      "Validating: 0it [00:00, ?it/s]\u001b[A\n",
      "Validating:   0%|          | 0/29 [00:00<?, ?it/s]\u001b[A\n",
      "Epoch 116:  89%|████████▉ | 228/255 [01:24<00:10,  2.70it/s, loss=0.124, v_num=1, train_loss=0.0859, train_accuracy=0.944, val_loss=0.189, val_accuracy=0.943]\n",
      "Epoch 116:  90%|█████████ | 230/255 [01:24<00:09,  2.71it/s, loss=0.124, v_num=1, train_loss=0.0859, train_accuracy=0.944, val_loss=0.189, val_accuracy=0.943]\n",
      "Epoch 116:  91%|█████████ | 232/255 [01:24<00:08,  2.73it/s, loss=0.124, v_num=1, train_loss=0.0859, train_accuracy=0.944, val_loss=0.189, val_accuracy=0.943]\n",
      "Epoch 116:  92%|█████████▏| 234/255 [01:25<00:07,  2.75it/s, loss=0.124, v_num=1, train_loss=0.0859, train_accuracy=0.944, val_loss=0.189, val_accuracy=0.943]\n",
      "Epoch 116:  93%|█████████▎| 236/255 [01:25<00:06,  2.77it/s, loss=0.124, v_num=1, train_loss=0.0859, train_accuracy=0.944, val_loss=0.189, val_accuracy=0.943]\n",
      "Epoch 116:  93%|█████████▎| 238/255 [01:25<00:06,  2.78it/s, loss=0.124, v_num=1, train_loss=0.0859, train_accuracy=0.944, val_loss=0.189, val_accuracy=0.943]\n",
      "Epoch 116:  94%|█████████▍| 240/255 [01:25<00:05,  2.80it/s, loss=0.124, v_num=1, train_loss=0.0859, train_accuracy=0.944, val_loss=0.189, val_accuracy=0.943]\n",
      "Epoch 116:  95%|█████████▍| 242/255 [01:25<00:04,  2.82it/s, loss=0.124, v_num=1, train_loss=0.0859, train_accuracy=0.944, val_loss=0.189, val_accuracy=0.943]\n",
      "Epoch 116:  96%|█████████▌| 244/255 [01:25<00:03,  2.84it/s, loss=0.124, v_num=1, train_loss=0.0859, train_accuracy=0.944, val_loss=0.189, val_accuracy=0.943]\n",
      "Epoch 116:  96%|█████████▋| 246/255 [01:26<00:03,  2.85it/s, loss=0.124, v_num=1, train_loss=0.0859, train_accuracy=0.944, val_loss=0.189, val_accuracy=0.943]\n",
      "Epoch 116:  97%|█████████▋| 248/255 [01:26<00:02,  2.87it/s, loss=0.124, v_num=1, train_loss=0.0859, train_accuracy=0.944, val_loss=0.189, val_accuracy=0.943]\n",
      "Epoch 116:  98%|█████████▊| 250/255 [01:26<00:01,  2.89it/s, loss=0.124, v_num=1, train_loss=0.0859, train_accuracy=0.944, val_loss=0.189, val_accuracy=0.943]\n",
      "Epoch 116:  99%|█████████▉| 252/255 [01:26<00:01,  2.91it/s, loss=0.124, v_num=1, train_loss=0.0859, train_accuracy=0.944, val_loss=0.189, val_accuracy=0.943]\n",
      "Epoch 116: 100%|█████████▉| 254/255 [01:26<00:00,  2.92it/s, loss=0.124, v_num=1, train_loss=0.0859, train_accuracy=0.944, val_loss=0.189, val_accuracy=0.943]\n",
      "Epoch 116: 100%|██████████| 255/255 [01:27<00:00,  2.91it/s, loss=0.124, v_num=1, train_loss=0.0859, train_accuracy=0.944, val_loss=0.191, val_accuracy=0.937]\n",
      "Epoch 116: 100%|██████████| 255/255 [01:27<00:00,  2.91it/s, loss=0.124, v_num=1, train_loss=0.0859, train_accuracy=0.944, val_loss=0.191, val_accuracy=0.937]"
     ]
    },
    {
     "name": "stderr",
     "output_type": "stream",
     "text": [
      "Epoch 116, global step 26441: val_loss was not in top 2\n"
     ]
    },
    {
     "name": "stdout",
     "output_type": "stream",
     "text": [
      "Epoch 117:  89%|████████▊ | 226/255 [01:21<00:10,  2.76it/s, loss=0.0667, v_num=1, train_loss=0.0676, train_accuracy=1.000, val_loss=0.191, val_accuracy=0.937]\n",
      "Validating: 0it [00:00, ?it/s]\u001b[A\n",
      "Validating:   0%|          | 0/29 [00:00<?, ?it/s]\u001b[A\n",
      "Epoch 117:  89%|████████▉ | 228/255 [01:24<00:09,  2.71it/s, loss=0.0667, v_num=1, train_loss=0.0676, train_accuracy=1.000, val_loss=0.191, val_accuracy=0.937]\n",
      "Epoch 117:  90%|█████████ | 230/255 [01:24<00:09,  2.73it/s, loss=0.0667, v_num=1, train_loss=0.0676, train_accuracy=1.000, val_loss=0.191, val_accuracy=0.937]\n",
      "Epoch 117:  91%|█████████ | 232/255 [01:24<00:08,  2.75it/s, loss=0.0667, v_num=1, train_loss=0.0676, train_accuracy=1.000, val_loss=0.191, val_accuracy=0.937]\n",
      "Epoch 117:  92%|█████████▏| 234/255 [01:24<00:07,  2.76it/s, loss=0.0667, v_num=1, train_loss=0.0676, train_accuracy=1.000, val_loss=0.191, val_accuracy=0.937]\n",
      "Epoch 117:  93%|█████████▎| 236/255 [01:24<00:06,  2.78it/s, loss=0.0667, v_num=1, train_loss=0.0676, train_accuracy=1.000, val_loss=0.191, val_accuracy=0.937]\n",
      "Epoch 117:  93%|█████████▎| 238/255 [01:25<00:06,  2.80it/s, loss=0.0667, v_num=1, train_loss=0.0676, train_accuracy=1.000, val_loss=0.191, val_accuracy=0.937]\n",
      "Epoch 117:  94%|█████████▍| 240/255 [01:25<00:05,  2.82it/s, loss=0.0667, v_num=1, train_loss=0.0676, train_accuracy=1.000, val_loss=0.191, val_accuracy=0.937]\n",
      "Epoch 117:  95%|█████████▍| 242/255 [01:25<00:04,  2.84it/s, loss=0.0667, v_num=1, train_loss=0.0676, train_accuracy=1.000, val_loss=0.191, val_accuracy=0.937]\n",
      "Epoch 117:  96%|█████████▌| 244/255 [01:25<00:03,  2.85it/s, loss=0.0667, v_num=1, train_loss=0.0676, train_accuracy=1.000, val_loss=0.191, val_accuracy=0.937]\n",
      "Epoch 117:  96%|█████████▋| 246/255 [01:25<00:03,  2.87it/s, loss=0.0667, v_num=1, train_loss=0.0676, train_accuracy=1.000, val_loss=0.191, val_accuracy=0.937]\n",
      "Epoch 117:  97%|█████████▋| 248/255 [01:25<00:02,  2.89it/s, loss=0.0667, v_num=1, train_loss=0.0676, train_accuracy=1.000, val_loss=0.191, val_accuracy=0.937]\n",
      "Epoch 117:  98%|█████████▊| 250/255 [01:26<00:01,  2.91it/s, loss=0.0667, v_num=1, train_loss=0.0676, train_accuracy=1.000, val_loss=0.191, val_accuracy=0.937]\n",
      "Epoch 117:  99%|█████████▉| 252/255 [01:26<00:01,  2.92it/s, loss=0.0667, v_num=1, train_loss=0.0676, train_accuracy=1.000, val_loss=0.191, val_accuracy=0.937]\n",
      "Epoch 117: 100%|█████████▉| 254/255 [01:26<00:00,  2.94it/s, loss=0.0667, v_num=1, train_loss=0.0676, train_accuracy=1.000, val_loss=0.191, val_accuracy=0.937]\n",
      "Epoch 117: 100%|██████████| 255/255 [01:26<00:00,  2.94it/s, loss=0.0667, v_num=1, train_loss=0.0676, train_accuracy=1.000, val_loss=0.230, val_accuracy=0.938]\n",
      "Epoch 117: 100%|██████████| 255/255 [01:26<00:00,  2.94it/s, loss=0.0667, v_num=1, train_loss=0.0676, train_accuracy=1.000, val_loss=0.230, val_accuracy=0.938]"
     ]
    },
    {
     "name": "stderr",
     "output_type": "stream",
     "text": [
      "Epoch 117, global step 26667: val_loss was not in top 2\n"
     ]
    },
    {
     "name": "stdout",
     "output_type": "stream",
     "text": [
      "Epoch 118:  89%|████████▊ | 226/255 [01:22<00:10,  2.75it/s, loss=0.13, v_num=1, train_loss=0.0911, train_accuracy=0.944, val_loss=0.230, val_accuracy=0.938]  \n",
      "Validating: 0it [00:00, ?it/s]\u001b[A\n",
      "Validating:   0%|          | 0/29 [00:00<?, ?it/s]\u001b[A\n",
      "Epoch 118:  89%|████████▉ | 228/255 [01:24<00:09,  2.70it/s, loss=0.13, v_num=1, train_loss=0.0911, train_accuracy=0.944, val_loss=0.230, val_accuracy=0.938]\n",
      "Epoch 118:  90%|█████████ | 230/255 [01:24<00:09,  2.72it/s, loss=0.13, v_num=1, train_loss=0.0911, train_accuracy=0.944, val_loss=0.230, val_accuracy=0.938]\n",
      "Epoch 118:  91%|█████████ | 232/255 [01:24<00:08,  2.74it/s, loss=0.13, v_num=1, train_loss=0.0911, train_accuracy=0.944, val_loss=0.230, val_accuracy=0.938]\n",
      "Epoch 118:  92%|█████████▏| 234/255 [01:24<00:07,  2.76it/s, loss=0.13, v_num=1, train_loss=0.0911, train_accuracy=0.944, val_loss=0.230, val_accuracy=0.938]\n",
      "Epoch 118:  93%|█████████▎| 236/255 [01:25<00:06,  2.77it/s, loss=0.13, v_num=1, train_loss=0.0911, train_accuracy=0.944, val_loss=0.230, val_accuracy=0.938]\n",
      "Epoch 118:  93%|█████████▎| 238/255 [01:25<00:06,  2.79it/s, loss=0.13, v_num=1, train_loss=0.0911, train_accuracy=0.944, val_loss=0.230, val_accuracy=0.938]\n",
      "Epoch 118:  94%|█████████▍| 240/255 [01:25<00:05,  2.81it/s, loss=0.13, v_num=1, train_loss=0.0911, train_accuracy=0.944, val_loss=0.230, val_accuracy=0.938]\n",
      "Epoch 118:  95%|█████████▍| 242/255 [01:25<00:04,  2.83it/s, loss=0.13, v_num=1, train_loss=0.0911, train_accuracy=0.944, val_loss=0.230, val_accuracy=0.938]\n",
      "Epoch 118:  96%|█████████▌| 244/255 [01:25<00:03,  2.85it/s, loss=0.13, v_num=1, train_loss=0.0911, train_accuracy=0.944, val_loss=0.230, val_accuracy=0.938]\n",
      "Epoch 118:  96%|█████████▋| 246/255 [01:25<00:03,  2.86it/s, loss=0.13, v_num=1, train_loss=0.0911, train_accuracy=0.944, val_loss=0.230, val_accuracy=0.938]\n",
      "Epoch 118:  97%|█████████▋| 248/255 [01:26<00:02,  2.88it/s, loss=0.13, v_num=1, train_loss=0.0911, train_accuracy=0.944, val_loss=0.230, val_accuracy=0.938]\n",
      "Epoch 118:  98%|█████████▊| 250/255 [01:26<00:01,  2.90it/s, loss=0.13, v_num=1, train_loss=0.0911, train_accuracy=0.944, val_loss=0.230, val_accuracy=0.938]\n",
      "Epoch 118:  99%|█████████▉| 252/255 [01:26<00:01,  2.92it/s, loss=0.13, v_num=1, train_loss=0.0911, train_accuracy=0.944, val_loss=0.230, val_accuracy=0.938]\n",
      "Epoch 118: 100%|█████████▉| 254/255 [01:26<00:00,  2.93it/s, loss=0.13, v_num=1, train_loss=0.0911, train_accuracy=0.944, val_loss=0.230, val_accuracy=0.938]\n",
      "Epoch 118: 100%|██████████| 255/255 [01:27<00:00,  2.93it/s, loss=0.13, v_num=1, train_loss=0.0911, train_accuracy=0.944, val_loss=0.206, val_accuracy=0.922]\n",
      "Epoch 118: 100%|██████████| 255/255 [01:27<00:00,  2.93it/s, loss=0.13, v_num=1, train_loss=0.0911, train_accuracy=0.944, val_loss=0.206, val_accuracy=0.922]"
     ]
    },
    {
     "name": "stderr",
     "output_type": "stream",
     "text": [
      "Epoch 118, global step 26893: val_loss was not in top 2\n"
     ]
    },
    {
     "name": "stdout",
     "output_type": "stream",
     "text": [
      "Epoch 119:  89%|████████▊ | 226/255 [01:22<00:10,  2.75it/s, loss=0.0746, v_num=1, train_loss=0.0831, train_accuracy=0.944, val_loss=0.206, val_accuracy=0.922]\n",
      "Validating: 0it [00:00, ?it/s]\u001b[A\n",
      "Validating:   0%|          | 0/29 [00:00<?, ?it/s]\u001b[A\n",
      "Epoch 119:  89%|████████▉ | 228/255 [01:24<00:09,  2.70it/s, loss=0.0746, v_num=1, train_loss=0.0831, train_accuracy=0.944, val_loss=0.206, val_accuracy=0.922]\n",
      "Epoch 119:  90%|█████████ | 230/255 [01:24<00:09,  2.72it/s, loss=0.0746, v_num=1, train_loss=0.0831, train_accuracy=0.944, val_loss=0.206, val_accuracy=0.922]\n",
      "Epoch 119:  91%|█████████ | 232/255 [01:24<00:08,  2.74it/s, loss=0.0746, v_num=1, train_loss=0.0831, train_accuracy=0.944, val_loss=0.206, val_accuracy=0.922]\n",
      "Epoch 119:  92%|█████████▏| 234/255 [01:24<00:07,  2.76it/s, loss=0.0746, v_num=1, train_loss=0.0831, train_accuracy=0.944, val_loss=0.206, val_accuracy=0.922]\n",
      "Epoch 119:  93%|█████████▎| 236/255 [01:25<00:06,  2.77it/s, loss=0.0746, v_num=1, train_loss=0.0831, train_accuracy=0.944, val_loss=0.206, val_accuracy=0.922]\n",
      "Epoch 119:  93%|█████████▎| 238/255 [01:25<00:06,  2.79it/s, loss=0.0746, v_num=1, train_loss=0.0831, train_accuracy=0.944, val_loss=0.206, val_accuracy=0.922]\n",
      "Epoch 119:  94%|█████████▍| 240/255 [01:25<00:05,  2.81it/s, loss=0.0746, v_num=1, train_loss=0.0831, train_accuracy=0.944, val_loss=0.206, val_accuracy=0.922]\n",
      "Epoch 119:  95%|█████████▍| 242/255 [01:25<00:04,  2.83it/s, loss=0.0746, v_num=1, train_loss=0.0831, train_accuracy=0.944, val_loss=0.206, val_accuracy=0.922]\n",
      "Epoch 119:  96%|█████████▌| 244/255 [01:25<00:03,  2.84it/s, loss=0.0746, v_num=1, train_loss=0.0831, train_accuracy=0.944, val_loss=0.206, val_accuracy=0.922]\n",
      "Epoch 119:  96%|█████████▋| 246/255 [01:25<00:03,  2.86it/s, loss=0.0746, v_num=1, train_loss=0.0831, train_accuracy=0.944, val_loss=0.206, val_accuracy=0.922]\n",
      "Epoch 119:  97%|█████████▋| 248/255 [01:26<00:02,  2.88it/s, loss=0.0746, v_num=1, train_loss=0.0831, train_accuracy=0.944, val_loss=0.206, val_accuracy=0.922]\n",
      "Epoch 119:  98%|█████████▊| 250/255 [01:26<00:01,  2.90it/s, loss=0.0746, v_num=1, train_loss=0.0831, train_accuracy=0.944, val_loss=0.206, val_accuracy=0.922]\n",
      "Epoch 119:  99%|█████████▉| 252/255 [01:26<00:01,  2.91it/s, loss=0.0746, v_num=1, train_loss=0.0831, train_accuracy=0.944, val_loss=0.206, val_accuracy=0.922]\n",
      "Epoch 119: 100%|█████████▉| 254/255 [01:26<00:00,  2.93it/s, loss=0.0746, v_num=1, train_loss=0.0831, train_accuracy=0.944, val_loss=0.206, val_accuracy=0.922]\n",
      "Epoch 119: 100%|██████████| 255/255 [01:27<00:00,  2.93it/s, loss=0.0746, v_num=1, train_loss=0.0831, train_accuracy=0.944, val_loss=0.207, val_accuracy=0.945]\n",
      "Epoch 119: 100%|██████████| 255/255 [01:27<00:00,  2.93it/s, loss=0.0746, v_num=1, train_loss=0.0831, train_accuracy=0.944, val_loss=0.207, val_accuracy=0.945]"
     ]
    },
    {
     "name": "stderr",
     "output_type": "stream",
     "text": [
      "Epoch 119, global step 27119: val_loss was not in top 2\n"
     ]
    },
    {
     "name": "stdout",
     "output_type": "stream",
     "text": [
      "Epoch 120:  89%|████████▊ | 226/255 [01:22<00:10,  2.75it/s, loss=0.0881, v_num=1, train_loss=0.0601, train_accuracy=1.000, val_loss=0.207, val_accuracy=0.945] \n",
      "Validating: 0it [00:00, ?it/s]\u001b[A\n",
      "Validating:   0%|          | 0/29 [00:00<?, ?it/s]\u001b[A\n",
      "Epoch 120:  89%|████████▉ | 228/255 [01:24<00:09,  2.70it/s, loss=0.0881, v_num=1, train_loss=0.0601, train_accuracy=1.000, val_loss=0.207, val_accuracy=0.945]\n",
      "Epoch 120:  90%|█████████ | 230/255 [01:24<00:09,  2.72it/s, loss=0.0881, v_num=1, train_loss=0.0601, train_accuracy=1.000, val_loss=0.207, val_accuracy=0.945]\n",
      "Epoch 120:  91%|█████████ | 232/255 [01:24<00:08,  2.74it/s, loss=0.0881, v_num=1, train_loss=0.0601, train_accuracy=1.000, val_loss=0.207, val_accuracy=0.945]\n",
      "Epoch 120:  92%|█████████▏| 234/255 [01:24<00:07,  2.76it/s, loss=0.0881, v_num=1, train_loss=0.0601, train_accuracy=1.000, val_loss=0.207, val_accuracy=0.945]\n",
      "Epoch 120:  93%|█████████▎| 236/255 [01:25<00:06,  2.77it/s, loss=0.0881, v_num=1, train_loss=0.0601, train_accuracy=1.000, val_loss=0.207, val_accuracy=0.945]\n",
      "Epoch 120:  93%|█████████▎| 238/255 [01:25<00:06,  2.79it/s, loss=0.0881, v_num=1, train_loss=0.0601, train_accuracy=1.000, val_loss=0.207, val_accuracy=0.945]\n",
      "Epoch 120:  94%|█████████▍| 240/255 [01:25<00:05,  2.81it/s, loss=0.0881, v_num=1, train_loss=0.0601, train_accuracy=1.000, val_loss=0.207, val_accuracy=0.945]\n",
      "Epoch 120:  95%|█████████▍| 242/255 [01:25<00:04,  2.83it/s, loss=0.0881, v_num=1, train_loss=0.0601, train_accuracy=1.000, val_loss=0.207, val_accuracy=0.945]\n",
      "Epoch 120:  96%|█████████▌| 244/255 [01:25<00:03,  2.85it/s, loss=0.0881, v_num=1, train_loss=0.0601, train_accuracy=1.000, val_loss=0.207, val_accuracy=0.945]\n",
      "Epoch 120:  96%|█████████▋| 246/255 [01:25<00:03,  2.86it/s, loss=0.0881, v_num=1, train_loss=0.0601, train_accuracy=1.000, val_loss=0.207, val_accuracy=0.945]\n",
      "Epoch 120:  97%|█████████▋| 248/255 [01:26<00:02,  2.88it/s, loss=0.0881, v_num=1, train_loss=0.0601, train_accuracy=1.000, val_loss=0.207, val_accuracy=0.945]\n",
      "Epoch 120:  98%|█████████▊| 250/255 [01:26<00:01,  2.90it/s, loss=0.0881, v_num=1, train_loss=0.0601, train_accuracy=1.000, val_loss=0.207, val_accuracy=0.945]\n",
      "Epoch 120:  99%|█████████▉| 252/255 [01:26<00:01,  2.91it/s, loss=0.0881, v_num=1, train_loss=0.0601, train_accuracy=1.000, val_loss=0.207, val_accuracy=0.945]\n",
      "Epoch 120: 100%|█████████▉| 254/255 [01:26<00:00,  2.93it/s, loss=0.0881, v_num=1, train_loss=0.0601, train_accuracy=1.000, val_loss=0.207, val_accuracy=0.945]\n",
      "Epoch 120: 100%|██████████| 255/255 [01:27<00:00,  2.92it/s, loss=0.0881, v_num=1, train_loss=0.0601, train_accuracy=1.000, val_loss=0.198, val_accuracy=0.939]\n",
      "Epoch 120: 100%|██████████| 255/255 [01:27<00:00,  2.92it/s, loss=0.0881, v_num=1, train_loss=0.0601, train_accuracy=1.000, val_loss=0.198, val_accuracy=0.939]"
     ]
    },
    {
     "name": "stderr",
     "output_type": "stream",
     "text": [
      "Epoch 120, global step 27345: val_loss was not in top 2\n"
     ]
    },
    {
     "name": "stdout",
     "output_type": "stream",
     "text": [
      "Epoch 121:  89%|████████▊ | 226/255 [01:22<00:10,  2.74it/s, loss=0.0906, v_num=1, train_loss=0.0495, train_accuracy=1.000, val_loss=0.198, val_accuracy=0.939]\n",
      "Validating: 0it [00:00, ?it/s]\u001b[A\n",
      "Validating:   0%|          | 0/29 [00:00<?, ?it/s]\u001b[A\n",
      "Epoch 121:  89%|████████▉ | 228/255 [01:24<00:10,  2.69it/s, loss=0.0906, v_num=1, train_loss=0.0495, train_accuracy=1.000, val_loss=0.198, val_accuracy=0.939]\n",
      "Epoch 121:  90%|█████████ | 230/255 [01:24<00:09,  2.71it/s, loss=0.0906, v_num=1, train_loss=0.0495, train_accuracy=1.000, val_loss=0.198, val_accuracy=0.939]\n",
      "Epoch 121:  91%|█████████ | 232/255 [01:25<00:08,  2.73it/s, loss=0.0906, v_num=1, train_loss=0.0495, train_accuracy=1.000, val_loss=0.198, val_accuracy=0.939]\n",
      "Epoch 121:  92%|█████████▏| 234/255 [01:25<00:07,  2.74it/s, loss=0.0906, v_num=1, train_loss=0.0495, train_accuracy=1.000, val_loss=0.198, val_accuracy=0.939]\n",
      "Epoch 121:  93%|█████████▎| 236/255 [01:25<00:06,  2.76it/s, loss=0.0906, v_num=1, train_loss=0.0495, train_accuracy=1.000, val_loss=0.198, val_accuracy=0.939]\n",
      "Epoch 121:  93%|█████████▎| 238/255 [01:25<00:06,  2.78it/s, loss=0.0906, v_num=1, train_loss=0.0495, train_accuracy=1.000, val_loss=0.198, val_accuracy=0.939]\n",
      "Epoch 121:  94%|█████████▍| 240/255 [01:25<00:05,  2.80it/s, loss=0.0906, v_num=1, train_loss=0.0495, train_accuracy=1.000, val_loss=0.198, val_accuracy=0.939]\n",
      "Epoch 121:  95%|█████████▍| 242/255 [01:26<00:04,  2.81it/s, loss=0.0906, v_num=1, train_loss=0.0495, train_accuracy=1.000, val_loss=0.198, val_accuracy=0.939]\n",
      "Epoch 121:  96%|█████████▌| 244/255 [01:26<00:03,  2.83it/s, loss=0.0906, v_num=1, train_loss=0.0495, train_accuracy=1.000, val_loss=0.198, val_accuracy=0.939]\n",
      "Epoch 121:  96%|█████████▋| 246/255 [01:26<00:03,  2.85it/s, loss=0.0906, v_num=1, train_loss=0.0495, train_accuracy=1.000, val_loss=0.198, val_accuracy=0.939]\n",
      "Epoch 121:  97%|█████████▋| 248/255 [01:26<00:02,  2.87it/s, loss=0.0906, v_num=1, train_loss=0.0495, train_accuracy=1.000, val_loss=0.198, val_accuracy=0.939]\n",
      "Epoch 121:  98%|█████████▊| 250/255 [01:26<00:01,  2.88it/s, loss=0.0906, v_num=1, train_loss=0.0495, train_accuracy=1.000, val_loss=0.198, val_accuracy=0.939]\n",
      "Epoch 121:  99%|█████████▉| 252/255 [01:26<00:01,  2.90it/s, loss=0.0906, v_num=1, train_loss=0.0495, train_accuracy=1.000, val_loss=0.198, val_accuracy=0.939]\n",
      "Epoch 121: 100%|█████████▉| 254/255 [01:27<00:00,  2.92it/s, loss=0.0906, v_num=1, train_loss=0.0495, train_accuracy=1.000, val_loss=0.198, val_accuracy=0.939]\n",
      "Epoch 121: 100%|██████████| 255/255 [01:27<00:00,  2.91it/s, loss=0.0906, v_num=1, train_loss=0.0495, train_accuracy=1.000, val_loss=0.207, val_accuracy=0.940]\n",
      "Epoch 121: 100%|██████████| 255/255 [01:27<00:00,  2.91it/s, loss=0.0906, v_num=1, train_loss=0.0495, train_accuracy=1.000, val_loss=0.207, val_accuracy=0.940]"
     ]
    },
    {
     "name": "stderr",
     "output_type": "stream",
     "text": [
      "Epoch 121, global step 27571: val_loss was not in top 2\n"
     ]
    },
    {
     "name": "stdout",
     "output_type": "stream",
     "text": [
      "Epoch 122:  89%|████████▊ | 226/255 [01:22<00:10,  2.75it/s, loss=0.253, v_num=1, train_loss=0.195, train_accuracy=0.944, val_loss=0.207, val_accuracy=0.940]   \n",
      "Validating: 0it [00:00, ?it/s]\u001b[A\n",
      "Validating:   0%|          | 0/29 [00:00<?, ?it/s]\u001b[A\n",
      "Epoch 122:  89%|████████▉ | 228/255 [01:24<00:10,  2.70it/s, loss=0.253, v_num=1, train_loss=0.195, train_accuracy=0.944, val_loss=0.207, val_accuracy=0.940]\n",
      "Epoch 122:  90%|█████████ | 230/255 [01:24<00:09,  2.71it/s, loss=0.253, v_num=1, train_loss=0.195, train_accuracy=0.944, val_loss=0.207, val_accuracy=0.940]\n",
      "Epoch 122:  91%|█████████ | 232/255 [01:24<00:08,  2.73it/s, loss=0.253, v_num=1, train_loss=0.195, train_accuracy=0.944, val_loss=0.207, val_accuracy=0.940]\n",
      "Epoch 122:  92%|█████████▏| 234/255 [01:25<00:07,  2.75it/s, loss=0.253, v_num=1, train_loss=0.195, train_accuracy=0.944, val_loss=0.207, val_accuracy=0.940]\n",
      "Epoch 122:  93%|█████████▎| 236/255 [01:25<00:06,  2.77it/s, loss=0.253, v_num=1, train_loss=0.195, train_accuracy=0.944, val_loss=0.207, val_accuracy=0.940]\n",
      "Epoch 122:  93%|█████████▎| 238/255 [01:25<00:06,  2.79it/s, loss=0.253, v_num=1, train_loss=0.195, train_accuracy=0.944, val_loss=0.207, val_accuracy=0.940]\n",
      "Epoch 122:  94%|█████████▍| 240/255 [01:25<00:05,  2.80it/s, loss=0.253, v_num=1, train_loss=0.195, train_accuracy=0.944, val_loss=0.207, val_accuracy=0.940]\n",
      "Epoch 122:  95%|█████████▍| 242/255 [01:25<00:04,  2.82it/s, loss=0.253, v_num=1, train_loss=0.195, train_accuracy=0.944, val_loss=0.207, val_accuracy=0.940]\n",
      "Epoch 122:  96%|█████████▌| 244/255 [01:25<00:03,  2.84it/s, loss=0.253, v_num=1, train_loss=0.195, train_accuracy=0.944, val_loss=0.207, val_accuracy=0.940]\n",
      "Epoch 122:  96%|█████████▋| 246/255 [01:26<00:03,  2.86it/s, loss=0.253, v_num=1, train_loss=0.195, train_accuracy=0.944, val_loss=0.207, val_accuracy=0.940]\n",
      "Epoch 122:  97%|█████████▋| 248/255 [01:26<00:02,  2.87it/s, loss=0.253, v_num=1, train_loss=0.195, train_accuracy=0.944, val_loss=0.207, val_accuracy=0.940]\n",
      "Epoch 122:  98%|█████████▊| 250/255 [01:26<00:01,  2.89it/s, loss=0.253, v_num=1, train_loss=0.195, train_accuracy=0.944, val_loss=0.207, val_accuracy=0.940]\n",
      "Epoch 122:  99%|█████████▉| 252/255 [01:26<00:01,  2.91it/s, loss=0.253, v_num=1, train_loss=0.195, train_accuracy=0.944, val_loss=0.207, val_accuracy=0.940]\n",
      "Epoch 122: 100%|█████████▉| 254/255 [01:26<00:00,  2.92it/s, loss=0.253, v_num=1, train_loss=0.195, train_accuracy=0.944, val_loss=0.207, val_accuracy=0.940]\n",
      "Epoch 122: 100%|██████████| 255/255 [01:27<00:00,  2.92it/s, loss=0.253, v_num=1, train_loss=0.195, train_accuracy=0.944, val_loss=0.296, val_accuracy=0.871]\n",
      "Epoch 122: 100%|██████████| 255/255 [01:27<00:00,  2.92it/s, loss=0.253, v_num=1, train_loss=0.195, train_accuracy=0.944, val_loss=0.296, val_accuracy=0.871]"
     ]
    },
    {
     "name": "stderr",
     "output_type": "stream",
     "text": [
      "Epoch 122, global step 27797: val_loss was not in top 2\n"
     ]
    },
    {
     "name": "stdout",
     "output_type": "stream",
     "text": [
      "Epoch 123:  89%|████████▊ | 226/255 [01:22<00:10,  2.74it/s, loss=0.184, v_num=1, train_loss=0.211, train_accuracy=0.889, val_loss=0.296, val_accuracy=0.871] \n",
      "Validating: 0it [00:00, ?it/s]\u001b[A\n",
      "Validating:   0%|          | 0/29 [00:00<?, ?it/s]\u001b[A\n",
      "Epoch 123:  89%|████████▉ | 228/255 [01:24<00:10,  2.69it/s, loss=0.184, v_num=1, train_loss=0.211, train_accuracy=0.889, val_loss=0.296, val_accuracy=0.871]\n",
      "Epoch 123:  90%|█████████ | 230/255 [01:24<00:09,  2.71it/s, loss=0.184, v_num=1, train_loss=0.211, train_accuracy=0.889, val_loss=0.296, val_accuracy=0.871]\n",
      "Epoch 123:  91%|█████████ | 232/255 [01:25<00:08,  2.73it/s, loss=0.184, v_num=1, train_loss=0.211, train_accuracy=0.889, val_loss=0.296, val_accuracy=0.871]\n",
      "Epoch 123:  92%|█████████▏| 234/255 [01:25<00:07,  2.74it/s, loss=0.184, v_num=1, train_loss=0.211, train_accuracy=0.889, val_loss=0.296, val_accuracy=0.871]\n",
      "Epoch 123:  93%|█████████▎| 236/255 [01:25<00:06,  2.76it/s, loss=0.184, v_num=1, train_loss=0.211, train_accuracy=0.889, val_loss=0.296, val_accuracy=0.871]\n",
      "Epoch 123:  93%|█████████▎| 238/255 [01:25<00:06,  2.78it/s, loss=0.184, v_num=1, train_loss=0.211, train_accuracy=0.889, val_loss=0.296, val_accuracy=0.871]\n",
      "Epoch 123:  94%|█████████▍| 240/255 [01:25<00:05,  2.80it/s, loss=0.184, v_num=1, train_loss=0.211, train_accuracy=0.889, val_loss=0.296, val_accuracy=0.871]\n",
      "Epoch 123:  95%|█████████▍| 242/255 [01:26<00:04,  2.81it/s, loss=0.184, v_num=1, train_loss=0.211, train_accuracy=0.889, val_loss=0.296, val_accuracy=0.871]\n",
      "Epoch 123:  96%|█████████▌| 244/255 [01:26<00:03,  2.83it/s, loss=0.184, v_num=1, train_loss=0.211, train_accuracy=0.889, val_loss=0.296, val_accuracy=0.871]\n",
      "Epoch 123:  96%|█████████▋| 246/255 [01:26<00:03,  2.85it/s, loss=0.184, v_num=1, train_loss=0.211, train_accuracy=0.889, val_loss=0.296, val_accuracy=0.871]\n",
      "Epoch 123:  97%|█████████▋| 248/255 [01:26<00:02,  2.87it/s, loss=0.184, v_num=1, train_loss=0.211, train_accuracy=0.889, val_loss=0.296, val_accuracy=0.871]\n",
      "Epoch 123:  98%|█████████▊| 250/255 [01:26<00:01,  2.88it/s, loss=0.184, v_num=1, train_loss=0.211, train_accuracy=0.889, val_loss=0.296, val_accuracy=0.871]\n",
      "Epoch 123:  99%|█████████▉| 252/255 [01:26<00:01,  2.90it/s, loss=0.184, v_num=1, train_loss=0.211, train_accuracy=0.889, val_loss=0.296, val_accuracy=0.871]\n",
      "Epoch 123: 100%|█████████▉| 254/255 [01:27<00:00,  2.92it/s, loss=0.184, v_num=1, train_loss=0.211, train_accuracy=0.889, val_loss=0.296, val_accuracy=0.871]\n",
      "Epoch 123: 100%|██████████| 255/255 [01:27<00:00,  2.91it/s, loss=0.184, v_num=1, train_loss=0.211, train_accuracy=0.889, val_loss=0.253, val_accuracy=0.878]\n",
      "Epoch 123: 100%|██████████| 255/255 [01:27<00:00,  2.91it/s, loss=0.184, v_num=1, train_loss=0.211, train_accuracy=0.889, val_loss=0.253, val_accuracy=0.878]"
     ]
    },
    {
     "name": "stderr",
     "output_type": "stream",
     "text": [
      "Epoch 123, global step 28023: val_loss was not in top 2\n"
     ]
    },
    {
     "name": "stdout",
     "output_type": "stream",
     "text": [
      "Epoch 124:  89%|████████▊ | 226/255 [01:22<00:10,  2.75it/s, loss=0.182, v_num=1, train_loss=0.186, train_accuracy=0.889, val_loss=0.253, val_accuracy=0.878] \n",
      "Validating: 0it [00:00, ?it/s]\u001b[A\n",
      "Validating:   0%|          | 0/29 [00:00<?, ?it/s]\u001b[A\n",
      "Epoch 124:  89%|████████▉ | 228/255 [01:24<00:10,  2.69it/s, loss=0.182, v_num=1, train_loss=0.186, train_accuracy=0.889, val_loss=0.253, val_accuracy=0.878]\n",
      "Epoch 124:  90%|█████████ | 230/255 [01:24<00:09,  2.71it/s, loss=0.182, v_num=1, train_loss=0.186, train_accuracy=0.889, val_loss=0.253, val_accuracy=0.878]\n",
      "Epoch 124:  91%|█████████ | 232/255 [01:25<00:08,  2.73it/s, loss=0.182, v_num=1, train_loss=0.186, train_accuracy=0.889, val_loss=0.253, val_accuracy=0.878]\n",
      "Epoch 124:  92%|█████████▏| 234/255 [01:25<00:07,  2.75it/s, loss=0.182, v_num=1, train_loss=0.186, train_accuracy=0.889, val_loss=0.253, val_accuracy=0.878]\n",
      "Epoch 124:  93%|█████████▎| 236/255 [01:25<00:06,  2.76it/s, loss=0.182, v_num=1, train_loss=0.186, train_accuracy=0.889, val_loss=0.253, val_accuracy=0.878]\n",
      "Epoch 124:  93%|█████████▎| 238/255 [01:25<00:06,  2.78it/s, loss=0.182, v_num=1, train_loss=0.186, train_accuracy=0.889, val_loss=0.253, val_accuracy=0.878]\n",
      "Epoch 124:  94%|█████████▍| 240/255 [01:25<00:05,  2.80it/s, loss=0.182, v_num=1, train_loss=0.186, train_accuracy=0.889, val_loss=0.253, val_accuracy=0.878]\n",
      "Epoch 124:  95%|█████████▍| 242/255 [01:25<00:04,  2.82it/s, loss=0.182, v_num=1, train_loss=0.186, train_accuracy=0.889, val_loss=0.253, val_accuracy=0.878]\n",
      "Epoch 124:  96%|█████████▌| 244/255 [01:26<00:03,  2.84it/s, loss=0.182, v_num=1, train_loss=0.186, train_accuracy=0.889, val_loss=0.253, val_accuracy=0.878]\n",
      "Epoch 124:  96%|█████████▋| 246/255 [01:26<00:03,  2.85it/s, loss=0.182, v_num=1, train_loss=0.186, train_accuracy=0.889, val_loss=0.253, val_accuracy=0.878]\n",
      "Epoch 124:  97%|█████████▋| 248/255 [01:26<00:02,  2.87it/s, loss=0.182, v_num=1, train_loss=0.186, train_accuracy=0.889, val_loss=0.253, val_accuracy=0.878]\n",
      "Epoch 124:  98%|█████████▊| 250/255 [01:26<00:01,  2.89it/s, loss=0.182, v_num=1, train_loss=0.186, train_accuracy=0.889, val_loss=0.253, val_accuracy=0.878]\n",
      "Epoch 124:  99%|█████████▉| 252/255 [01:26<00:01,  2.91it/s, loss=0.182, v_num=1, train_loss=0.186, train_accuracy=0.889, val_loss=0.253, val_accuracy=0.878]\n",
      "Epoch 124: 100%|█████████▉| 254/255 [01:26<00:00,  2.92it/s, loss=0.182, v_num=1, train_loss=0.186, train_accuracy=0.889, val_loss=0.253, val_accuracy=0.878]\n",
      "Epoch 124: 100%|██████████| 255/255 [01:27<00:00,  2.92it/s, loss=0.182, v_num=1, train_loss=0.186, train_accuracy=0.889, val_loss=0.267, val_accuracy=0.894]\n",
      "Epoch 124: 100%|██████████| 255/255 [01:27<00:00,  2.92it/s, loss=0.182, v_num=1, train_loss=0.186, train_accuracy=0.889, val_loss=0.267, val_accuracy=0.894]"
     ]
    },
    {
     "name": "stderr",
     "output_type": "stream",
     "text": [
      "Epoch 124, global step 28249: val_loss was not in top 2\n"
     ]
    },
    {
     "name": "stdout",
     "output_type": "stream",
     "text": [
      "Epoch 125:  89%|████████▊ | 226/255 [01:22<00:10,  2.74it/s, loss=0.182, v_num=1, train_loss=0.141, train_accuracy=1.000, val_loss=0.267, val_accuracy=0.894] \n",
      "Validating: 0it [00:00, ?it/s]\u001b[A\n",
      "Validating:   0%|          | 0/29 [00:00<?, ?it/s]\u001b[A\n",
      "Epoch 125:  89%|████████▉ | 228/255 [01:24<00:10,  2.69it/s, loss=0.182, v_num=1, train_loss=0.141, train_accuracy=1.000, val_loss=0.267, val_accuracy=0.894]\n",
      "Epoch 125:  90%|█████████ | 230/255 [01:25<00:09,  2.71it/s, loss=0.182, v_num=1, train_loss=0.141, train_accuracy=1.000, val_loss=0.267, val_accuracy=0.894]\n",
      "Epoch 125:  91%|█████████ | 232/255 [01:25<00:08,  2.72it/s, loss=0.182, v_num=1, train_loss=0.141, train_accuracy=1.000, val_loss=0.267, val_accuracy=0.894]\n",
      "Epoch 125:  92%|█████████▏| 234/255 [01:25<00:07,  2.74it/s, loss=0.182, v_num=1, train_loss=0.141, train_accuracy=1.000, val_loss=0.267, val_accuracy=0.894]\n",
      "Epoch 125:  93%|█████████▎| 236/255 [01:25<00:06,  2.76it/s, loss=0.182, v_num=1, train_loss=0.141, train_accuracy=1.000, val_loss=0.267, val_accuracy=0.894]\n",
      "Epoch 125:  93%|█████████▎| 238/255 [01:25<00:06,  2.78it/s, loss=0.182, v_num=1, train_loss=0.141, train_accuracy=1.000, val_loss=0.267, val_accuracy=0.894]\n",
      "Epoch 125:  94%|█████████▍| 240/255 [01:25<00:05,  2.80it/s, loss=0.182, v_num=1, train_loss=0.141, train_accuracy=1.000, val_loss=0.267, val_accuracy=0.894]\n",
      "Epoch 125:  95%|█████████▍| 242/255 [01:26<00:04,  2.81it/s, loss=0.182, v_num=1, train_loss=0.141, train_accuracy=1.000, val_loss=0.267, val_accuracy=0.894]\n",
      "Epoch 125:  96%|█████████▌| 244/255 [01:26<00:03,  2.83it/s, loss=0.182, v_num=1, train_loss=0.141, train_accuracy=1.000, val_loss=0.267, val_accuracy=0.894]\n",
      "Epoch 125:  96%|█████████▋| 246/255 [01:26<00:03,  2.85it/s, loss=0.182, v_num=1, train_loss=0.141, train_accuracy=1.000, val_loss=0.267, val_accuracy=0.894]\n",
      "Epoch 125:  97%|█████████▋| 248/255 [01:26<00:02,  2.87it/s, loss=0.182, v_num=1, train_loss=0.141, train_accuracy=1.000, val_loss=0.267, val_accuracy=0.894]\n",
      "Epoch 125:  98%|█████████▊| 250/255 [01:26<00:01,  2.88it/s, loss=0.182, v_num=1, train_loss=0.141, train_accuracy=1.000, val_loss=0.267, val_accuracy=0.894]\n",
      "Epoch 125:  99%|█████████▉| 252/255 [01:26<00:01,  2.90it/s, loss=0.182, v_num=1, train_loss=0.141, train_accuracy=1.000, val_loss=0.267, val_accuracy=0.894]\n",
      "Epoch 125: 100%|█████████▉| 254/255 [01:27<00:00,  2.92it/s, loss=0.182, v_num=1, train_loss=0.141, train_accuracy=1.000, val_loss=0.267, val_accuracy=0.894]\n",
      "Epoch 125: 100%|██████████| 255/255 [01:27<00:00,  2.91it/s, loss=0.182, v_num=1, train_loss=0.141, train_accuracy=1.000, val_loss=0.295, val_accuracy=0.900]\n",
      "Epoch 125: 100%|██████████| 255/255 [01:27<00:00,  2.91it/s, loss=0.182, v_num=1, train_loss=0.141, train_accuracy=1.000, val_loss=0.295, val_accuracy=0.900]"
     ]
    },
    {
     "name": "stderr",
     "output_type": "stream",
     "text": [
      "Epoch 125, global step 28475: val_loss was not in top 2\n"
     ]
    },
    {
     "name": "stdout",
     "output_type": "stream",
     "text": [
      "Epoch 126:  89%|████████▊ | 226/255 [01:22<00:10,  2.75it/s, loss=0.172, v_num=1, train_loss=0.122, train_accuracy=0.944, val_loss=0.295, val_accuracy=0.900] \n",
      "Validating: 0it [00:00, ?it/s]\u001b[A\n",
      "Validating:   0%|          | 0/29 [00:00<?, ?it/s]\u001b[A\n",
      "Epoch 126:  89%|████████▉ | 228/255 [01:24<00:09,  2.70it/s, loss=0.172, v_num=1, train_loss=0.122, train_accuracy=0.944, val_loss=0.295, val_accuracy=0.900]\n",
      "Epoch 126:  90%|█████████ | 230/255 [01:24<00:09,  2.72it/s, loss=0.172, v_num=1, train_loss=0.122, train_accuracy=0.944, val_loss=0.295, val_accuracy=0.900]\n",
      "Epoch 126:  91%|█████████ | 232/255 [01:24<00:08,  2.74it/s, loss=0.172, v_num=1, train_loss=0.122, train_accuracy=0.944, val_loss=0.295, val_accuracy=0.900]\n",
      "Epoch 126:  92%|█████████▏| 234/255 [01:24<00:07,  2.76it/s, loss=0.172, v_num=1, train_loss=0.122, train_accuracy=0.944, val_loss=0.295, val_accuracy=0.900]\n",
      "Epoch 126:  93%|█████████▎| 236/255 [01:25<00:06,  2.78it/s, loss=0.172, v_num=1, train_loss=0.122, train_accuracy=0.944, val_loss=0.295, val_accuracy=0.900]\n",
      "Epoch 126:  93%|█████████▎| 238/255 [01:25<00:06,  2.79it/s, loss=0.172, v_num=1, train_loss=0.122, train_accuracy=0.944, val_loss=0.295, val_accuracy=0.900]\n",
      "Epoch 126:  94%|█████████▍| 240/255 [01:25<00:05,  2.81it/s, loss=0.172, v_num=1, train_loss=0.122, train_accuracy=0.944, val_loss=0.295, val_accuracy=0.900]\n",
      "Epoch 126:  95%|█████████▍| 242/255 [01:25<00:04,  2.83it/s, loss=0.172, v_num=1, train_loss=0.122, train_accuracy=0.944, val_loss=0.295, val_accuracy=0.900]\n",
      "Epoch 126:  96%|█████████▌| 244/255 [01:25<00:03,  2.85it/s, loss=0.172, v_num=1, train_loss=0.122, train_accuracy=0.944, val_loss=0.295, val_accuracy=0.900]\n",
      "Epoch 126:  96%|█████████▋| 246/255 [01:25<00:03,  2.86it/s, loss=0.172, v_num=1, train_loss=0.122, train_accuracy=0.944, val_loss=0.295, val_accuracy=0.900]\n",
      "Epoch 126:  97%|█████████▋| 248/255 [01:26<00:02,  2.88it/s, loss=0.172, v_num=1, train_loss=0.122, train_accuracy=0.944, val_loss=0.295, val_accuracy=0.900]\n",
      "Epoch 126:  98%|█████████▊| 250/255 [01:26<00:01,  2.90it/s, loss=0.172, v_num=1, train_loss=0.122, train_accuracy=0.944, val_loss=0.295, val_accuracy=0.900]\n",
      "Epoch 126:  99%|█████████▉| 252/255 [01:26<00:01,  2.92it/s, loss=0.172, v_num=1, train_loss=0.122, train_accuracy=0.944, val_loss=0.295, val_accuracy=0.900]\n",
      "Epoch 126: 100%|█████████▉| 254/255 [01:26<00:00,  2.93it/s, loss=0.172, v_num=1, train_loss=0.122, train_accuracy=0.944, val_loss=0.295, val_accuracy=0.900]\n",
      "Epoch 126: 100%|██████████| 255/255 [01:27<00:00,  2.93it/s, loss=0.172, v_num=1, train_loss=0.122, train_accuracy=0.944, val_loss=0.283, val_accuracy=0.905]\n",
      "Epoch 126: 100%|██████████| 255/255 [01:27<00:00,  2.93it/s, loss=0.172, v_num=1, train_loss=0.122, train_accuracy=0.944, val_loss=0.283, val_accuracy=0.905]"
     ]
    },
    {
     "name": "stderr",
     "output_type": "stream",
     "text": [
      "Epoch 126, global step 28701: val_loss was not in top 2\n"
     ]
    },
    {
     "name": "stdout",
     "output_type": "stream",
     "text": [
      "Epoch 127:  89%|████████▊ | 226/255 [01:22<00:10,  2.74it/s, loss=0.164, v_num=1, train_loss=0.301, train_accuracy=0.889, val_loss=0.283, val_accuracy=0.905] \n",
      "Validating: 0it [00:00, ?it/s]\u001b[A\n",
      "Validating:   0%|          | 0/29 [00:00<?, ?it/s]\u001b[A\n",
      "Epoch 127:  89%|████████▉ | 228/255 [01:24<00:10,  2.69it/s, loss=0.164, v_num=1, train_loss=0.301, train_accuracy=0.889, val_loss=0.283, val_accuracy=0.905]\n",
      "Epoch 127:  90%|█████████ | 230/255 [01:24<00:09,  2.71it/s, loss=0.164, v_num=1, train_loss=0.301, train_accuracy=0.889, val_loss=0.283, val_accuracy=0.905]\n",
      "Epoch 127:  91%|█████████ | 232/255 [01:25<00:08,  2.73it/s, loss=0.164, v_num=1, train_loss=0.301, train_accuracy=0.889, val_loss=0.283, val_accuracy=0.905]\n",
      "Epoch 127:  92%|█████████▏| 234/255 [01:25<00:07,  2.75it/s, loss=0.164, v_num=1, train_loss=0.301, train_accuracy=0.889, val_loss=0.283, val_accuracy=0.905]\n",
      "Epoch 127:  93%|█████████▎| 236/255 [01:25<00:06,  2.76it/s, loss=0.164, v_num=1, train_loss=0.301, train_accuracy=0.889, val_loss=0.283, val_accuracy=0.905]\n",
      "Epoch 127:  93%|█████████▎| 238/255 [01:25<00:06,  2.78it/s, loss=0.164, v_num=1, train_loss=0.301, train_accuracy=0.889, val_loss=0.283, val_accuracy=0.905]\n",
      "Epoch 127:  94%|█████████▍| 240/255 [01:25<00:05,  2.80it/s, loss=0.164, v_num=1, train_loss=0.301, train_accuracy=0.889, val_loss=0.283, val_accuracy=0.905]\n",
      "Epoch 127:  95%|█████████▍| 242/255 [01:25<00:04,  2.82it/s, loss=0.164, v_num=1, train_loss=0.301, train_accuracy=0.889, val_loss=0.283, val_accuracy=0.905]\n",
      "Epoch 127:  96%|█████████▌| 244/255 [01:26<00:03,  2.83it/s, loss=0.164, v_num=1, train_loss=0.301, train_accuracy=0.889, val_loss=0.283, val_accuracy=0.905]\n",
      "Epoch 127:  96%|█████████▋| 246/255 [01:26<00:03,  2.85it/s, loss=0.164, v_num=1, train_loss=0.301, train_accuracy=0.889, val_loss=0.283, val_accuracy=0.905]\n",
      "Epoch 127:  97%|█████████▋| 248/255 [01:26<00:02,  2.87it/s, loss=0.164, v_num=1, train_loss=0.301, train_accuracy=0.889, val_loss=0.283, val_accuracy=0.905]\n",
      "Epoch 127:  98%|█████████▊| 250/255 [01:26<00:01,  2.89it/s, loss=0.164, v_num=1, train_loss=0.301, train_accuracy=0.889, val_loss=0.283, val_accuracy=0.905]\n",
      "Epoch 127:  99%|█████████▉| 252/255 [01:26<00:01,  2.90it/s, loss=0.164, v_num=1, train_loss=0.301, train_accuracy=0.889, val_loss=0.283, val_accuracy=0.905]\n",
      "Epoch 127: 100%|█████████▉| 254/255 [01:26<00:00,  2.92it/s, loss=0.164, v_num=1, train_loss=0.301, train_accuracy=0.889, val_loss=0.283, val_accuracy=0.905]\n",
      "Epoch 127: 100%|██████████| 255/255 [01:27<00:00,  2.91it/s, loss=0.164, v_num=1, train_loss=0.301, train_accuracy=0.889, val_loss=0.276, val_accuracy=0.911]\n",
      "Epoch 127: 100%|██████████| 255/255 [01:27<00:00,  2.91it/s, loss=0.164, v_num=1, train_loss=0.301, train_accuracy=0.889, val_loss=0.276, val_accuracy=0.911]"
     ]
    },
    {
     "name": "stderr",
     "output_type": "stream",
     "text": [
      "Epoch 127, global step 28927: val_loss was not in top 2\n"
     ]
    },
    {
     "name": "stdout",
     "output_type": "stream",
     "text": [
      "Epoch 128:  89%|████████▊ | 226/255 [01:22<00:10,  2.75it/s, loss=0.161, v_num=1, train_loss=0.0744, train_accuracy=1.000, val_loss=0.276, val_accuracy=0.911]\n",
      "Validating: 0it [00:00, ?it/s]\u001b[A\n",
      "Validating:   0%|          | 0/29 [00:00<?, ?it/s]\u001b[A\n",
      "Epoch 128:  89%|████████▉ | 228/255 [01:24<00:09,  2.70it/s, loss=0.161, v_num=1, train_loss=0.0744, train_accuracy=1.000, val_loss=0.276, val_accuracy=0.911]\n",
      "Epoch 128:  90%|█████████ | 230/255 [01:24<00:09,  2.72it/s, loss=0.161, v_num=1, train_loss=0.0744, train_accuracy=1.000, val_loss=0.276, val_accuracy=0.911]\n",
      "Epoch 128:  91%|█████████ | 232/255 [01:24<00:08,  2.74it/s, loss=0.161, v_num=1, train_loss=0.0744, train_accuracy=1.000, val_loss=0.276, val_accuracy=0.911]\n",
      "Epoch 128:  92%|█████████▏| 234/255 [01:24<00:07,  2.75it/s, loss=0.161, v_num=1, train_loss=0.0744, train_accuracy=1.000, val_loss=0.276, val_accuracy=0.911]\n",
      "Epoch 128:  93%|█████████▎| 236/255 [01:25<00:06,  2.77it/s, loss=0.161, v_num=1, train_loss=0.0744, train_accuracy=1.000, val_loss=0.276, val_accuracy=0.911]\n",
      "Epoch 128:  93%|█████████▎| 238/255 [01:25<00:06,  2.79it/s, loss=0.161, v_num=1, train_loss=0.0744, train_accuracy=1.000, val_loss=0.276, val_accuracy=0.911]\n",
      "Epoch 128:  94%|█████████▍| 240/255 [01:25<00:05,  2.81it/s, loss=0.161, v_num=1, train_loss=0.0744, train_accuracy=1.000, val_loss=0.276, val_accuracy=0.911]\n",
      "Epoch 128:  95%|█████████▍| 242/255 [01:25<00:04,  2.83it/s, loss=0.161, v_num=1, train_loss=0.0744, train_accuracy=1.000, val_loss=0.276, val_accuracy=0.911]\n",
      "Epoch 128:  96%|█████████▌| 244/255 [01:25<00:03,  2.85it/s, loss=0.161, v_num=1, train_loss=0.0744, train_accuracy=1.000, val_loss=0.276, val_accuracy=0.911]\n",
      "Epoch 128:  96%|█████████▋| 246/255 [01:25<00:03,  2.86it/s, loss=0.161, v_num=1, train_loss=0.0744, train_accuracy=1.000, val_loss=0.276, val_accuracy=0.911]\n",
      "Epoch 128:  97%|█████████▋| 248/255 [01:26<00:02,  2.88it/s, loss=0.161, v_num=1, train_loss=0.0744, train_accuracy=1.000, val_loss=0.276, val_accuracy=0.911]\n",
      "Epoch 128:  98%|█████████▊| 250/255 [01:26<00:01,  2.90it/s, loss=0.161, v_num=1, train_loss=0.0744, train_accuracy=1.000, val_loss=0.276, val_accuracy=0.911]\n",
      "Epoch 128:  99%|█████████▉| 252/255 [01:26<00:01,  2.92it/s, loss=0.161, v_num=1, train_loss=0.0744, train_accuracy=1.000, val_loss=0.276, val_accuracy=0.911]\n",
      "Epoch 128: 100%|█████████▉| 254/255 [01:26<00:00,  2.93it/s, loss=0.161, v_num=1, train_loss=0.0744, train_accuracy=1.000, val_loss=0.276, val_accuracy=0.911]\n",
      "Epoch 128: 100%|██████████| 255/255 [01:27<00:00,  2.93it/s, loss=0.161, v_num=1, train_loss=0.0744, train_accuracy=1.000, val_loss=0.290, val_accuracy=0.917]\n",
      "Epoch 128: 100%|██████████| 255/255 [01:27<00:00,  2.93it/s, loss=0.161, v_num=1, train_loss=0.0744, train_accuracy=1.000, val_loss=0.290, val_accuracy=0.917]"
     ]
    },
    {
     "name": "stderr",
     "output_type": "stream",
     "text": [
      "Epoch 128, global step 29153: val_loss was not in top 2\n"
     ]
    },
    {
     "name": "stdout",
     "output_type": "stream",
     "text": [
      "Epoch 129:  89%|████████▊ | 226/255 [01:22<00:10,  2.75it/s, loss=0.202, v_num=1, train_loss=0.514, train_accuracy=0.889, val_loss=0.290, val_accuracy=0.917] \n",
      "Validating: 0it [00:00, ?it/s]\u001b[A\n",
      "Validating:   0%|          | 0/29 [00:00<?, ?it/s]\u001b[A\n",
      "Epoch 129:  89%|████████▉ | 228/255 [01:24<00:10,  2.69it/s, loss=0.202, v_num=1, train_loss=0.514, train_accuracy=0.889, val_loss=0.290, val_accuracy=0.917]\n",
      "Epoch 129:  90%|█████████ | 230/255 [01:24<00:09,  2.71it/s, loss=0.202, v_num=1, train_loss=0.514, train_accuracy=0.889, val_loss=0.290, val_accuracy=0.917]\n",
      "Epoch 129:  91%|█████████ | 232/255 [01:24<00:08,  2.73it/s, loss=0.202, v_num=1, train_loss=0.514, train_accuracy=0.889, val_loss=0.290, val_accuracy=0.917]\n",
      "Epoch 129:  92%|█████████▏| 234/255 [01:25<00:07,  2.75it/s, loss=0.202, v_num=1, train_loss=0.514, train_accuracy=0.889, val_loss=0.290, val_accuracy=0.917]\n",
      "Epoch 129:  93%|█████████▎| 236/255 [01:25<00:06,  2.77it/s, loss=0.202, v_num=1, train_loss=0.514, train_accuracy=0.889, val_loss=0.290, val_accuracy=0.917]\n",
      "Epoch 129:  93%|█████████▎| 238/255 [01:25<00:06,  2.78it/s, loss=0.202, v_num=1, train_loss=0.514, train_accuracy=0.889, val_loss=0.290, val_accuracy=0.917]\n",
      "Epoch 129:  94%|█████████▍| 240/255 [01:25<00:05,  2.80it/s, loss=0.202, v_num=1, train_loss=0.514, train_accuracy=0.889, val_loss=0.290, val_accuracy=0.917]\n",
      "Epoch 129:  95%|█████████▍| 242/255 [01:25<00:04,  2.82it/s, loss=0.202, v_num=1, train_loss=0.514, train_accuracy=0.889, val_loss=0.290, val_accuracy=0.917]\n",
      "Epoch 129:  96%|█████████▌| 244/255 [01:26<00:03,  2.84it/s, loss=0.202, v_num=1, train_loss=0.514, train_accuracy=0.889, val_loss=0.290, val_accuracy=0.917]\n",
      "Epoch 129:  96%|█████████▋| 246/255 [01:26<00:03,  2.85it/s, loss=0.202, v_num=1, train_loss=0.514, train_accuracy=0.889, val_loss=0.290, val_accuracy=0.917]\n",
      "Epoch 129:  97%|█████████▋| 248/255 [01:26<00:02,  2.87it/s, loss=0.202, v_num=1, train_loss=0.514, train_accuracy=0.889, val_loss=0.290, val_accuracy=0.917]\n",
      "Epoch 129:  98%|█████████▊| 250/255 [01:26<00:01,  2.89it/s, loss=0.202, v_num=1, train_loss=0.514, train_accuracy=0.889, val_loss=0.290, val_accuracy=0.917]\n",
      "Epoch 129:  99%|█████████▉| 252/255 [01:26<00:01,  2.91it/s, loss=0.202, v_num=1, train_loss=0.514, train_accuracy=0.889, val_loss=0.290, val_accuracy=0.917]\n",
      "Epoch 129: 100%|█████████▉| 254/255 [01:26<00:00,  2.92it/s, loss=0.202, v_num=1, train_loss=0.514, train_accuracy=0.889, val_loss=0.290, val_accuracy=0.917]\n",
      "Epoch 129: 100%|██████████| 255/255 [01:27<00:00,  2.92it/s, loss=0.202, v_num=1, train_loss=0.514, train_accuracy=0.889, val_loss=0.266, val_accuracy=0.918]\n",
      "Epoch 129: 100%|██████████| 255/255 [01:27<00:00,  2.92it/s, loss=0.202, v_num=1, train_loss=0.514, train_accuracy=0.889, val_loss=0.266, val_accuracy=0.918]"
     ]
    },
    {
     "name": "stderr",
     "output_type": "stream",
     "text": [
      "Epoch 129, global step 29379: val_loss was not in top 2\n"
     ]
    },
    {
     "name": "stdout",
     "output_type": "stream",
     "text": [
      "Epoch 130:  89%|████████▊ | 226/255 [01:22<00:10,  2.75it/s, loss=0.202, v_num=1, train_loss=0.163, train_accuracy=0.889, val_loss=0.266, val_accuracy=0.918]  \n",
      "Validating: 0it [00:00, ?it/s]\u001b[A\n",
      "Validating:   0%|          | 0/29 [00:00<?, ?it/s]\u001b[A\n",
      "Epoch 130:  89%|████████▉ | 228/255 [01:24<00:10,  2.70it/s, loss=0.202, v_num=1, train_loss=0.163, train_accuracy=0.889, val_loss=0.266, val_accuracy=0.918]\n",
      "Epoch 130:  90%|█████████ | 230/255 [01:24<00:09,  2.71it/s, loss=0.202, v_num=1, train_loss=0.163, train_accuracy=0.889, val_loss=0.266, val_accuracy=0.918]\n",
      "Epoch 130:  91%|█████████ | 232/255 [01:24<00:08,  2.73it/s, loss=0.202, v_num=1, train_loss=0.163, train_accuracy=0.889, val_loss=0.266, val_accuracy=0.918]\n",
      "Epoch 130:  92%|█████████▏| 234/255 [01:25<00:07,  2.75it/s, loss=0.202, v_num=1, train_loss=0.163, train_accuracy=0.889, val_loss=0.266, val_accuracy=0.918]\n",
      "Epoch 130:  93%|█████████▎| 236/255 [01:25<00:06,  2.77it/s, loss=0.202, v_num=1, train_loss=0.163, train_accuracy=0.889, val_loss=0.266, val_accuracy=0.918]\n",
      "Epoch 130:  93%|█████████▎| 238/255 [01:25<00:06,  2.79it/s, loss=0.202, v_num=1, train_loss=0.163, train_accuracy=0.889, val_loss=0.266, val_accuracy=0.918]\n",
      "Epoch 130:  94%|█████████▍| 240/255 [01:25<00:05,  2.80it/s, loss=0.202, v_num=1, train_loss=0.163, train_accuracy=0.889, val_loss=0.266, val_accuracy=0.918]\n",
      "Epoch 130:  95%|█████████▍| 242/255 [01:25<00:04,  2.82it/s, loss=0.202, v_num=1, train_loss=0.163, train_accuracy=0.889, val_loss=0.266, val_accuracy=0.918]\n",
      "Epoch 130:  96%|█████████▌| 244/255 [01:25<00:03,  2.84it/s, loss=0.202, v_num=1, train_loss=0.163, train_accuracy=0.889, val_loss=0.266, val_accuracy=0.918]\n",
      "Epoch 130:  96%|█████████▋| 246/255 [01:26<00:03,  2.85it/s, loss=0.202, v_num=1, train_loss=0.163, train_accuracy=0.889, val_loss=0.266, val_accuracy=0.918]\n",
      "Epoch 130:  97%|█████████▋| 248/255 [01:26<00:02,  2.87it/s, loss=0.202, v_num=1, train_loss=0.163, train_accuracy=0.889, val_loss=0.266, val_accuracy=0.918]\n",
      "Epoch 130:  98%|█████████▊| 250/255 [01:26<00:01,  2.89it/s, loss=0.202, v_num=1, train_loss=0.163, train_accuracy=0.889, val_loss=0.266, val_accuracy=0.918]\n",
      "Epoch 130:  99%|█████████▉| 252/255 [01:26<00:01,  2.91it/s, loss=0.202, v_num=1, train_loss=0.163, train_accuracy=0.889, val_loss=0.266, val_accuracy=0.918]\n",
      "Epoch 130: 100%|█████████▉| 254/255 [01:26<00:00,  2.92it/s, loss=0.202, v_num=1, train_loss=0.163, train_accuracy=0.889, val_loss=0.266, val_accuracy=0.918]\n",
      "Epoch 130: 100%|██████████| 255/255 [01:27<00:00,  2.92it/s, loss=0.202, v_num=1, train_loss=0.163, train_accuracy=0.889, val_loss=0.387, val_accuracy=0.818]\n",
      "Epoch 130: 100%|██████████| 255/255 [01:27<00:00,  2.92it/s, loss=0.202, v_num=1, train_loss=0.163, train_accuracy=0.889, val_loss=0.387, val_accuracy=0.818]"
     ]
    },
    {
     "name": "stderr",
     "output_type": "stream",
     "text": [
      "Epoch 130, global step 29605: val_loss was not in top 2\n"
     ]
    },
    {
     "name": "stdout",
     "output_type": "stream",
     "text": [
      "Epoch 131:  89%|████████▊ | 226/255 [01:22<00:10,  2.75it/s, loss=0.13, v_num=1, train_loss=0.142, train_accuracy=0.889, val_loss=0.387, val_accuracy=0.818]  \n",
      "Validating: 0it [00:00, ?it/s]\u001b[A\n",
      "Validating:   0%|          | 0/29 [00:00<?, ?it/s]\u001b[A\n",
      "Epoch 131:  89%|████████▉ | 228/255 [01:24<00:10,  2.69it/s, loss=0.13, v_num=1, train_loss=0.142, train_accuracy=0.889, val_loss=0.387, val_accuracy=0.818]\n",
      "Epoch 131:  90%|█████████ | 230/255 [01:24<00:09,  2.71it/s, loss=0.13, v_num=1, train_loss=0.142, train_accuracy=0.889, val_loss=0.387, val_accuracy=0.818]\n",
      "Epoch 131:  91%|█████████ | 232/255 [01:24<00:08,  2.73it/s, loss=0.13, v_num=1, train_loss=0.142, train_accuracy=0.889, val_loss=0.387, val_accuracy=0.818]\n",
      "Epoch 131:  92%|█████████▏| 234/255 [01:25<00:07,  2.75it/s, loss=0.13, v_num=1, train_loss=0.142, train_accuracy=0.889, val_loss=0.387, val_accuracy=0.818]\n",
      "Epoch 131:  93%|█████████▎| 236/255 [01:25<00:06,  2.77it/s, loss=0.13, v_num=1, train_loss=0.142, train_accuracy=0.889, val_loss=0.387, val_accuracy=0.818]\n",
      "Epoch 131:  93%|█████████▎| 238/255 [01:25<00:06,  2.78it/s, loss=0.13, v_num=1, train_loss=0.142, train_accuracy=0.889, val_loss=0.387, val_accuracy=0.818]\n",
      "Epoch 131:  94%|█████████▍| 240/255 [01:25<00:05,  2.80it/s, loss=0.13, v_num=1, train_loss=0.142, train_accuracy=0.889, val_loss=0.387, val_accuracy=0.818]\n",
      "Epoch 131:  95%|█████████▍| 242/255 [01:25<00:04,  2.82it/s, loss=0.13, v_num=1, train_loss=0.142, train_accuracy=0.889, val_loss=0.387, val_accuracy=0.818]\n",
      "Epoch 131:  96%|█████████▌| 244/255 [01:26<00:03,  2.84it/s, loss=0.13, v_num=1, train_loss=0.142, train_accuracy=0.889, val_loss=0.387, val_accuracy=0.818]\n",
      "Epoch 131:  96%|█████████▋| 246/255 [01:26<00:03,  2.85it/s, loss=0.13, v_num=1, train_loss=0.142, train_accuracy=0.889, val_loss=0.387, val_accuracy=0.818]\n",
      "Epoch 131:  97%|█████████▋| 248/255 [01:26<00:02,  2.87it/s, loss=0.13, v_num=1, train_loss=0.142, train_accuracy=0.889, val_loss=0.387, val_accuracy=0.818]\n",
      "Epoch 131:  98%|█████████▊| 250/255 [01:26<00:01,  2.89it/s, loss=0.13, v_num=1, train_loss=0.142, train_accuracy=0.889, val_loss=0.387, val_accuracy=0.818]\n",
      "Epoch 131:  99%|█████████▉| 252/255 [01:26<00:01,  2.91it/s, loss=0.13, v_num=1, train_loss=0.142, train_accuracy=0.889, val_loss=0.387, val_accuracy=0.818]\n",
      "Epoch 131: 100%|█████████▉| 254/255 [01:26<00:00,  2.92it/s, loss=0.13, v_num=1, train_loss=0.142, train_accuracy=0.889, val_loss=0.387, val_accuracy=0.818]\n",
      "Epoch 131: 100%|██████████| 255/255 [01:27<00:00,  2.92it/s, loss=0.13, v_num=1, train_loss=0.142, train_accuracy=0.889, val_loss=0.242, val_accuracy=0.913]\n",
      "Epoch 131: 100%|██████████| 255/255 [01:27<00:00,  2.92it/s, loss=0.13, v_num=1, train_loss=0.142, train_accuracy=0.889, val_loss=0.242, val_accuracy=0.913]"
     ]
    },
    {
     "name": "stderr",
     "output_type": "stream",
     "text": [
      "Epoch 131, global step 29831: val_loss was not in top 2\n"
     ]
    },
    {
     "name": "stdout",
     "output_type": "stream",
     "text": [
      "Epoch 132:  89%|████████▊ | 226/255 [01:22<00:10,  2.75it/s, loss=0.127, v_num=1, train_loss=0.0592, train_accuracy=1.000, val_loss=0.242, val_accuracy=0.913]\n",
      "Validating: 0it [00:00, ?it/s]\u001b[A\n",
      "Validating:   0%|          | 0/29 [00:00<?, ?it/s]\u001b[A\n",
      "Epoch 132:  89%|████████▉ | 228/255 [01:24<00:10,  2.70it/s, loss=0.127, v_num=1, train_loss=0.0592, train_accuracy=1.000, val_loss=0.242, val_accuracy=0.913]\n",
      "Epoch 132:  90%|█████████ | 230/255 [01:24<00:09,  2.71it/s, loss=0.127, v_num=1, train_loss=0.0592, train_accuracy=1.000, val_loss=0.242, val_accuracy=0.913]\n",
      "Epoch 132:  91%|█████████ | 232/255 [01:24<00:08,  2.73it/s, loss=0.127, v_num=1, train_loss=0.0592, train_accuracy=1.000, val_loss=0.242, val_accuracy=0.913]\n",
      "Validating:  21%|██        | 6/29 [00:02<00:06,  3.44it/s]\u001b[A\n",
      "Epoch 132:  92%|█████████▏| 234/255 [01:25<00:07,  2.75it/s, loss=0.127, v_num=1, train_loss=0.0592, train_accuracy=1.000, val_loss=0.242, val_accuracy=0.913]\n",
      "Epoch 132:  93%|█████████▎| 236/255 [01:25<00:06,  2.77it/s, loss=0.127, v_num=1, train_loss=0.0592, train_accuracy=1.000, val_loss=0.242, val_accuracy=0.913]\n",
      "Epoch 132:  93%|█████████▎| 238/255 [01:25<00:06,  2.78it/s, loss=0.127, v_num=1, train_loss=0.0592, train_accuracy=1.000, val_loss=0.242, val_accuracy=0.913]\n",
      "Epoch 132:  94%|█████████▍| 240/255 [01:25<00:05,  2.80it/s, loss=0.127, v_num=1, train_loss=0.0592, train_accuracy=1.000, val_loss=0.242, val_accuracy=0.913]\n",
      "Epoch 132:  95%|█████████▍| 242/255 [01:25<00:04,  2.82it/s, loss=0.127, v_num=1, train_loss=0.0592, train_accuracy=1.000, val_loss=0.242, val_accuracy=0.913]\n",
      "Epoch 132:  96%|█████████▌| 244/255 [01:25<00:03,  2.84it/s, loss=0.127, v_num=1, train_loss=0.0592, train_accuracy=1.000, val_loss=0.242, val_accuracy=0.913]\n",
      "Epoch 132:  96%|█████████▋| 246/255 [01:26<00:03,  2.86it/s, loss=0.127, v_num=1, train_loss=0.0592, train_accuracy=1.000, val_loss=0.242, val_accuracy=0.913]\n",
      "Epoch 132:  97%|█████████▋| 248/255 [01:26<00:02,  2.87it/s, loss=0.127, v_num=1, train_loss=0.0592, train_accuracy=1.000, val_loss=0.242, val_accuracy=0.913]\n",
      "Epoch 132:  98%|█████████▊| 250/255 [01:26<00:01,  2.89it/s, loss=0.127, v_num=1, train_loss=0.0592, train_accuracy=1.000, val_loss=0.242, val_accuracy=0.913]\n",
      "Epoch 132:  99%|█████████▉| 252/255 [01:26<00:01,  2.91it/s, loss=0.127, v_num=1, train_loss=0.0592, train_accuracy=1.000, val_loss=0.242, val_accuracy=0.913]\n",
      "Epoch 132: 100%|█████████▉| 254/255 [01:26<00:00,  2.92it/s, loss=0.127, v_num=1, train_loss=0.0592, train_accuracy=1.000, val_loss=0.242, val_accuracy=0.913]\n",
      "Epoch 132: 100%|██████████| 255/255 [01:27<00:00,  2.92it/s, loss=0.127, v_num=1, train_loss=0.0592, train_accuracy=1.000, val_loss=0.257, val_accuracy=0.924]\n",
      "Epoch 132: 100%|██████████| 255/255 [01:27<00:00,  2.92it/s, loss=0.127, v_num=1, train_loss=0.0592, train_accuracy=1.000, val_loss=0.257, val_accuracy=0.924]"
     ]
    },
    {
     "name": "stderr",
     "output_type": "stream",
     "text": [
      "Epoch 132, global step 30057: val_loss was not in top 2\n"
     ]
    },
    {
     "name": "stdout",
     "output_type": "stream",
     "text": [
      "Epoch 133:  89%|████████▊ | 226/255 [01:22<00:10,  2.75it/s, loss=0.114, v_num=1, train_loss=0.0834, train_accuracy=1.000, val_loss=0.257, val_accuracy=0.924] \n",
      "Validating: 0it [00:00, ?it/s]\u001b[A\n",
      "Validating:   0%|          | 0/29 [00:00<?, ?it/s]\u001b[A\n",
      "Epoch 133:  89%|████████▉ | 228/255 [01:24<00:10,  2.70it/s, loss=0.114, v_num=1, train_loss=0.0834, train_accuracy=1.000, val_loss=0.257, val_accuracy=0.924]\n",
      "Epoch 133:  90%|█████████ | 230/255 [01:24<00:09,  2.72it/s, loss=0.114, v_num=1, train_loss=0.0834, train_accuracy=1.000, val_loss=0.257, val_accuracy=0.924]\n",
      "Epoch 133:  91%|█████████ | 232/255 [01:24<00:08,  2.73it/s, loss=0.114, v_num=1, train_loss=0.0834, train_accuracy=1.000, val_loss=0.257, val_accuracy=0.924]\n",
      "Epoch 133:  92%|█████████▏| 234/255 [01:25<00:07,  2.75it/s, loss=0.114, v_num=1, train_loss=0.0834, train_accuracy=1.000, val_loss=0.257, val_accuracy=0.924]\n",
      "Epoch 133:  93%|█████████▎| 236/255 [01:25<00:06,  2.77it/s, loss=0.114, v_num=1, train_loss=0.0834, train_accuracy=1.000, val_loss=0.257, val_accuracy=0.924]\n",
      "Epoch 133:  93%|█████████▎| 238/255 [01:25<00:06,  2.79it/s, loss=0.114, v_num=1, train_loss=0.0834, train_accuracy=1.000, val_loss=0.257, val_accuracy=0.924]\n",
      "Epoch 133:  94%|█████████▍| 240/255 [01:25<00:05,  2.81it/s, loss=0.114, v_num=1, train_loss=0.0834, train_accuracy=1.000, val_loss=0.257, val_accuracy=0.924]\n",
      "Epoch 133:  95%|█████████▍| 242/255 [01:25<00:04,  2.82it/s, loss=0.114, v_num=1, train_loss=0.0834, train_accuracy=1.000, val_loss=0.257, val_accuracy=0.924]\n",
      "Epoch 133:  96%|█████████▌| 244/255 [01:25<00:03,  2.84it/s, loss=0.114, v_num=1, train_loss=0.0834, train_accuracy=1.000, val_loss=0.257, val_accuracy=0.924]\n",
      "Epoch 133:  96%|█████████▋| 246/255 [01:26<00:03,  2.86it/s, loss=0.114, v_num=1, train_loss=0.0834, train_accuracy=1.000, val_loss=0.257, val_accuracy=0.924]\n",
      "Epoch 133:  97%|█████████▋| 248/255 [01:26<00:02,  2.88it/s, loss=0.114, v_num=1, train_loss=0.0834, train_accuracy=1.000, val_loss=0.257, val_accuracy=0.924]\n",
      "Epoch 133:  98%|█████████▊| 250/255 [01:26<00:01,  2.89it/s, loss=0.114, v_num=1, train_loss=0.0834, train_accuracy=1.000, val_loss=0.257, val_accuracy=0.924]\n",
      "Epoch 133:  99%|█████████▉| 252/255 [01:26<00:01,  2.91it/s, loss=0.114, v_num=1, train_loss=0.0834, train_accuracy=1.000, val_loss=0.257, val_accuracy=0.924]\n",
      "Epoch 133: 100%|█████████▉| 254/255 [01:26<00:00,  2.93it/s, loss=0.114, v_num=1, train_loss=0.0834, train_accuracy=1.000, val_loss=0.257, val_accuracy=0.924]\n",
      "Epoch 133: 100%|██████████| 255/255 [01:27<00:00,  2.92it/s, loss=0.114, v_num=1, train_loss=0.0834, train_accuracy=1.000, val_loss=0.242, val_accuracy=0.927]\n",
      "Epoch 133: 100%|██████████| 255/255 [01:27<00:00,  2.92it/s, loss=0.114, v_num=1, train_loss=0.0834, train_accuracy=1.000, val_loss=0.242, val_accuracy=0.927]"
     ]
    },
    {
     "name": "stderr",
     "output_type": "stream",
     "text": [
      "Epoch 133, global step 30283: val_loss was not in top 2\n"
     ]
    },
    {
     "name": "stdout",
     "output_type": "stream",
     "text": [
      "Epoch 134:  89%|████████▊ | 226/255 [01:22<00:10,  2.75it/s, loss=0.0924, v_num=1, train_loss=0.0832, train_accuracy=1.000, val_loss=0.242, val_accuracy=0.927]\n",
      "Validating: 0it [00:00, ?it/s]\u001b[A\n",
      "Validating:   0%|          | 0/29 [00:00<?, ?it/s]\u001b[A\n",
      "Epoch 134:  89%|████████▉ | 228/255 [01:24<00:10,  2.70it/s, loss=0.0924, v_num=1, train_loss=0.0832, train_accuracy=1.000, val_loss=0.242, val_accuracy=0.927]\n",
      "Epoch 134:  90%|█████████ | 230/255 [01:24<00:09,  2.71it/s, loss=0.0924, v_num=1, train_loss=0.0832, train_accuracy=1.000, val_loss=0.242, val_accuracy=0.927]\n",
      "Epoch 134:  91%|█████████ | 232/255 [01:24<00:08,  2.73it/s, loss=0.0924, v_num=1, train_loss=0.0832, train_accuracy=1.000, val_loss=0.242, val_accuracy=0.927]\n",
      "Epoch 134:  92%|█████████▏| 234/255 [01:25<00:07,  2.75it/s, loss=0.0924, v_num=1, train_loss=0.0832, train_accuracy=1.000, val_loss=0.242, val_accuracy=0.927]\n",
      "Epoch 134:  93%|█████████▎| 236/255 [01:25<00:06,  2.77it/s, loss=0.0924, v_num=1, train_loss=0.0832, train_accuracy=1.000, val_loss=0.242, val_accuracy=0.927]\n",
      "Epoch 134:  93%|█████████▎| 238/255 [01:25<00:06,  2.78it/s, loss=0.0924, v_num=1, train_loss=0.0832, train_accuracy=1.000, val_loss=0.242, val_accuracy=0.927]\n",
      "Epoch 134:  94%|█████████▍| 240/255 [01:25<00:05,  2.80it/s, loss=0.0924, v_num=1, train_loss=0.0832, train_accuracy=1.000, val_loss=0.242, val_accuracy=0.927]\n",
      "Epoch 134:  95%|█████████▍| 242/255 [01:25<00:04,  2.82it/s, loss=0.0924, v_num=1, train_loss=0.0832, train_accuracy=1.000, val_loss=0.242, val_accuracy=0.927]\n",
      "Epoch 134:  96%|█████████▌| 244/255 [01:26<00:03,  2.84it/s, loss=0.0924, v_num=1, train_loss=0.0832, train_accuracy=1.000, val_loss=0.242, val_accuracy=0.927]\n",
      "Epoch 134:  96%|█████████▋| 246/255 [01:26<00:03,  2.85it/s, loss=0.0924, v_num=1, train_loss=0.0832, train_accuracy=1.000, val_loss=0.242, val_accuracy=0.927]\n",
      "Epoch 134:  97%|█████████▋| 248/255 [01:26<00:02,  2.87it/s, loss=0.0924, v_num=1, train_loss=0.0832, train_accuracy=1.000, val_loss=0.242, val_accuracy=0.927]\n",
      "Epoch 134:  98%|█████████▊| 250/255 [01:26<00:01,  2.89it/s, loss=0.0924, v_num=1, train_loss=0.0832, train_accuracy=1.000, val_loss=0.242, val_accuracy=0.927]\n",
      "Epoch 134:  99%|█████████▉| 252/255 [01:26<00:01,  2.91it/s, loss=0.0924, v_num=1, train_loss=0.0832, train_accuracy=1.000, val_loss=0.242, val_accuracy=0.927]\n",
      "Epoch 134: 100%|█████████▉| 254/255 [01:26<00:00,  2.92it/s, loss=0.0924, v_num=1, train_loss=0.0832, train_accuracy=1.000, val_loss=0.242, val_accuracy=0.927]\n",
      "Epoch 134: 100%|██████████| 255/255 [01:27<00:00,  2.92it/s, loss=0.0924, v_num=1, train_loss=0.0832, train_accuracy=1.000, val_loss=0.210, val_accuracy=0.931]\n",
      "Epoch 134: 100%|██████████| 255/255 [01:27<00:00,  2.92it/s, loss=0.0924, v_num=1, train_loss=0.0832, train_accuracy=1.000, val_loss=0.210, val_accuracy=0.931]"
     ]
    },
    {
     "name": "stderr",
     "output_type": "stream",
     "text": [
      "Epoch 134, global step 30509: val_loss was not in top 2\n"
     ]
    },
    {
     "name": "stdout",
     "output_type": "stream",
     "text": [
      "Epoch 135:  89%|████████▊ | 226/255 [01:22<00:10,  2.75it/s, loss=0.135, v_num=1, train_loss=0.116, train_accuracy=0.944, val_loss=0.210, val_accuracy=0.931]  \n",
      "Validating: 0it [00:00, ?it/s]\u001b[A\n",
      "Validating:   0%|          | 0/29 [00:00<?, ?it/s]\u001b[A\n",
      "Epoch 135:  89%|████████▉ | 228/255 [01:24<00:10,  2.70it/s, loss=0.135, v_num=1, train_loss=0.116, train_accuracy=0.944, val_loss=0.210, val_accuracy=0.931]\n",
      "Epoch 135:  90%|█████████ | 230/255 [01:24<00:09,  2.71it/s, loss=0.135, v_num=1, train_loss=0.116, train_accuracy=0.944, val_loss=0.210, val_accuracy=0.931]\n",
      "Epoch 135:  91%|█████████ | 232/255 [01:24<00:08,  2.73it/s, loss=0.135, v_num=1, train_loss=0.116, train_accuracy=0.944, val_loss=0.210, val_accuracy=0.931]\n",
      "Epoch 135:  92%|█████████▏| 234/255 [01:25<00:07,  2.75it/s, loss=0.135, v_num=1, train_loss=0.116, train_accuracy=0.944, val_loss=0.210, val_accuracy=0.931]\n",
      "Epoch 135:  93%|█████████▎| 236/255 [01:25<00:06,  2.77it/s, loss=0.135, v_num=1, train_loss=0.116, train_accuracy=0.944, val_loss=0.210, val_accuracy=0.931]\n",
      "Epoch 135:  93%|█████████▎| 238/255 [01:25<00:06,  2.79it/s, loss=0.135, v_num=1, train_loss=0.116, train_accuracy=0.944, val_loss=0.210, val_accuracy=0.931]\n",
      "Epoch 135:  94%|█████████▍| 240/255 [01:25<00:05,  2.80it/s, loss=0.135, v_num=1, train_loss=0.116, train_accuracy=0.944, val_loss=0.210, val_accuracy=0.931]\n",
      "Epoch 135:  95%|█████████▍| 242/255 [01:25<00:04,  2.82it/s, loss=0.135, v_num=1, train_loss=0.116, train_accuracy=0.944, val_loss=0.210, val_accuracy=0.931]\n",
      "Epoch 135:  96%|█████████▌| 244/255 [01:25<00:03,  2.84it/s, loss=0.135, v_num=1, train_loss=0.116, train_accuracy=0.944, val_loss=0.210, val_accuracy=0.931]\n",
      "Epoch 135:  96%|█████████▋| 246/255 [01:26<00:03,  2.86it/s, loss=0.135, v_num=1, train_loss=0.116, train_accuracy=0.944, val_loss=0.210, val_accuracy=0.931]\n",
      "Epoch 135:  97%|█████████▋| 248/255 [01:26<00:02,  2.87it/s, loss=0.135, v_num=1, train_loss=0.116, train_accuracy=0.944, val_loss=0.210, val_accuracy=0.931]\n",
      "Epoch 135:  98%|█████████▊| 250/255 [01:26<00:01,  2.89it/s, loss=0.135, v_num=1, train_loss=0.116, train_accuracy=0.944, val_loss=0.210, val_accuracy=0.931]\n",
      "Epoch 135:  99%|█████████▉| 252/255 [01:26<00:01,  2.91it/s, loss=0.135, v_num=1, train_loss=0.116, train_accuracy=0.944, val_loss=0.210, val_accuracy=0.931]\n",
      "Epoch 135: 100%|█████████▉| 254/255 [01:26<00:00,  2.93it/s, loss=0.135, v_num=1, train_loss=0.116, train_accuracy=0.944, val_loss=0.210, val_accuracy=0.931]\n",
      "Epoch 135: 100%|██████████| 255/255 [01:27<00:00,  2.92it/s, loss=0.135, v_num=1, train_loss=0.116, train_accuracy=0.944, val_loss=0.289, val_accuracy=0.922]\n",
      "Epoch 135: 100%|██████████| 255/255 [01:27<00:00,  2.92it/s, loss=0.135, v_num=1, train_loss=0.116, train_accuracy=0.944, val_loss=0.289, val_accuracy=0.922]"
     ]
    },
    {
     "name": "stderr",
     "output_type": "stream",
     "text": [
      "Epoch 135, global step 30735: val_loss was not in top 2\n"
     ]
    },
    {
     "name": "stdout",
     "output_type": "stream",
     "text": [
      "Epoch 136:  89%|████████▊ | 226/255 [01:22<00:10,  2.73it/s, loss=0.229, v_num=1, train_loss=0.0715, train_accuracy=1.000, val_loss=0.289, val_accuracy=0.922] \n",
      "Validating: 0it [00:00, ?it/s]\u001b[A\n",
      "Validating:   0%|          | 0/29 [00:00<?, ?it/s]\u001b[A\n",
      "Epoch 136:  89%|████████▉ | 228/255 [01:24<00:10,  2.68it/s, loss=0.229, v_num=1, train_loss=0.0715, train_accuracy=1.000, val_loss=0.289, val_accuracy=0.922]\n",
      "Epoch 136:  90%|█████████ | 230/255 [01:25<00:09,  2.70it/s, loss=0.229, v_num=1, train_loss=0.0715, train_accuracy=1.000, val_loss=0.289, val_accuracy=0.922]\n",
      "Epoch 136:  91%|█████████ | 232/255 [01:25<00:08,  2.72it/s, loss=0.229, v_num=1, train_loss=0.0715, train_accuracy=1.000, val_loss=0.289, val_accuracy=0.922]\n",
      "Epoch 136:  92%|█████████▏| 234/255 [01:25<00:07,  2.74it/s, loss=0.229, v_num=1, train_loss=0.0715, train_accuracy=1.000, val_loss=0.289, val_accuracy=0.922]\n",
      "Epoch 136:  93%|█████████▎| 236/255 [01:25<00:06,  2.75it/s, loss=0.229, v_num=1, train_loss=0.0715, train_accuracy=1.000, val_loss=0.289, val_accuracy=0.922]\n",
      "Epoch 136:  93%|█████████▎| 238/255 [01:25<00:06,  2.77it/s, loss=0.229, v_num=1, train_loss=0.0715, train_accuracy=1.000, val_loss=0.289, val_accuracy=0.922]\n",
      "Epoch 136:  94%|█████████▍| 240/255 [01:26<00:05,  2.79it/s, loss=0.229, v_num=1, train_loss=0.0715, train_accuracy=1.000, val_loss=0.289, val_accuracy=0.922]\n",
      "Epoch 136:  95%|█████████▍| 242/255 [01:26<00:04,  2.81it/s, loss=0.229, v_num=1, train_loss=0.0715, train_accuracy=1.000, val_loss=0.289, val_accuracy=0.922]\n",
      "Epoch 136:  96%|█████████▌| 244/255 [01:26<00:03,  2.82it/s, loss=0.229, v_num=1, train_loss=0.0715, train_accuracy=1.000, val_loss=0.289, val_accuracy=0.922]\n",
      "Epoch 136:  96%|█████████▋| 246/255 [01:26<00:03,  2.84it/s, loss=0.229, v_num=1, train_loss=0.0715, train_accuracy=1.000, val_loss=0.289, val_accuracy=0.922]\n",
      "Epoch 136:  97%|█████████▋| 248/255 [01:26<00:02,  2.86it/s, loss=0.229, v_num=1, train_loss=0.0715, train_accuracy=1.000, val_loss=0.289, val_accuracy=0.922]\n",
      "Epoch 136:  98%|█████████▊| 250/255 [01:26<00:01,  2.88it/s, loss=0.229, v_num=1, train_loss=0.0715, train_accuracy=1.000, val_loss=0.289, val_accuracy=0.922]\n",
      "Epoch 136:  99%|█████████▉| 252/255 [01:27<00:01,  2.89it/s, loss=0.229, v_num=1, train_loss=0.0715, train_accuracy=1.000, val_loss=0.289, val_accuracy=0.922]\n",
      "Epoch 136: 100%|█████████▉| 254/255 [01:27<00:00,  2.91it/s, loss=0.229, v_num=1, train_loss=0.0715, train_accuracy=1.000, val_loss=0.289, val_accuracy=0.922]\n",
      "Epoch 136: 100%|██████████| 255/255 [01:27<00:00,  2.91it/s, loss=0.229, v_num=1, train_loss=0.0715, train_accuracy=1.000, val_loss=0.366, val_accuracy=0.898]\n",
      "Epoch 136: 100%|██████████| 255/255 [01:27<00:00,  2.91it/s, loss=0.229, v_num=1, train_loss=0.0715, train_accuracy=1.000, val_loss=0.366, val_accuracy=0.898]"
     ]
    },
    {
     "name": "stderr",
     "output_type": "stream",
     "text": [
      "Epoch 136, global step 30961: val_loss was not in top 2\n"
     ]
    },
    {
     "name": "stdout",
     "output_type": "stream",
     "text": [
      "Epoch 137:  89%|████████▊ | 226/255 [01:22<00:10,  2.75it/s, loss=0.083, v_num=1, train_loss=0.00713, train_accuracy=1.000, val_loss=0.366, val_accuracy=0.898]\n",
      "Validating: 0it [00:00, ?it/s]\u001b[A\n",
      "Validating:   0%|          | 0/29 [00:00<?, ?it/s]\u001b[A\n",
      "Epoch 137:  89%|████████▉ | 228/255 [01:24<00:10,  2.70it/s, loss=0.083, v_num=1, train_loss=0.00713, train_accuracy=1.000, val_loss=0.366, val_accuracy=0.898]\n",
      "Epoch 137:  90%|█████████ | 230/255 [01:24<00:09,  2.71it/s, loss=0.083, v_num=1, train_loss=0.00713, train_accuracy=1.000, val_loss=0.366, val_accuracy=0.898]\n",
      "Epoch 137:  91%|█████████ | 232/255 [01:24<00:08,  2.73it/s, loss=0.083, v_num=1, train_loss=0.00713, train_accuracy=1.000, val_loss=0.366, val_accuracy=0.898]\n",
      "Epoch 137:  92%|█████████▏| 234/255 [01:25<00:07,  2.75it/s, loss=0.083, v_num=1, train_loss=0.00713, train_accuracy=1.000, val_loss=0.366, val_accuracy=0.898]\n",
      "Epoch 137:  93%|█████████▎| 236/255 [01:25<00:06,  2.77it/s, loss=0.083, v_num=1, train_loss=0.00713, train_accuracy=1.000, val_loss=0.366, val_accuracy=0.898]\n",
      "Epoch 137:  93%|█████████▎| 238/255 [01:25<00:06,  2.78it/s, loss=0.083, v_num=1, train_loss=0.00713, train_accuracy=1.000, val_loss=0.366, val_accuracy=0.898]\n",
      "Epoch 137:  94%|█████████▍| 240/255 [01:25<00:05,  2.80it/s, loss=0.083, v_num=1, train_loss=0.00713, train_accuracy=1.000, val_loss=0.366, val_accuracy=0.898]\n",
      "Epoch 137:  95%|█████████▍| 242/255 [01:25<00:04,  2.82it/s, loss=0.083, v_num=1, train_loss=0.00713, train_accuracy=1.000, val_loss=0.366, val_accuracy=0.898]\n",
      "Epoch 137:  96%|█████████▌| 244/255 [01:25<00:03,  2.84it/s, loss=0.083, v_num=1, train_loss=0.00713, train_accuracy=1.000, val_loss=0.366, val_accuracy=0.898]\n",
      "Epoch 137:  96%|█████████▋| 246/255 [01:26<00:03,  2.86it/s, loss=0.083, v_num=1, train_loss=0.00713, train_accuracy=1.000, val_loss=0.366, val_accuracy=0.898]\n",
      "Epoch 137:  97%|█████████▋| 248/255 [01:26<00:02,  2.87it/s, loss=0.083, v_num=1, train_loss=0.00713, train_accuracy=1.000, val_loss=0.366, val_accuracy=0.898]\n",
      "Epoch 137:  98%|█████████▊| 250/255 [01:26<00:01,  2.89it/s, loss=0.083, v_num=1, train_loss=0.00713, train_accuracy=1.000, val_loss=0.366, val_accuracy=0.898]\n",
      "Epoch 137:  99%|█████████▉| 252/255 [01:26<00:01,  2.91it/s, loss=0.083, v_num=1, train_loss=0.00713, train_accuracy=1.000, val_loss=0.366, val_accuracy=0.898]\n",
      "Epoch 137: 100%|█████████▉| 254/255 [01:26<00:00,  2.93it/s, loss=0.083, v_num=1, train_loss=0.00713, train_accuracy=1.000, val_loss=0.366, val_accuracy=0.898]\n",
      "Epoch 137: 100%|██████████| 255/255 [01:27<00:00,  2.92it/s, loss=0.083, v_num=1, train_loss=0.00713, train_accuracy=1.000, val_loss=0.193, val_accuracy=0.935]\n",
      "Epoch 137: 100%|██████████| 255/255 [01:27<00:00,  2.92it/s, loss=0.083, v_num=1, train_loss=0.00713, train_accuracy=1.000, val_loss=0.193, val_accuracy=0.935]"
     ]
    },
    {
     "name": "stderr",
     "output_type": "stream",
     "text": [
      "Epoch 137, global step 31187: val_loss was not in top 2\n"
     ]
    },
    {
     "name": "stdout",
     "output_type": "stream",
     "text": [
      "Epoch 138:  89%|████████▊ | 226/255 [01:22<00:10,  2.74it/s, loss=0.0714, v_num=1, train_loss=0.0941, train_accuracy=0.944, val_loss=0.193, val_accuracy=0.935]\n",
      "Validating: 0it [00:00, ?it/s]\u001b[A\n",
      "Validating:   0%|          | 0/29 [00:00<?, ?it/s]\u001b[A\n",
      "Epoch 138:  89%|████████▉ | 228/255 [01:24<00:10,  2.69it/s, loss=0.0714, v_num=1, train_loss=0.0941, train_accuracy=0.944, val_loss=0.193, val_accuracy=0.935]\n",
      "Epoch 138:  90%|█████████ | 230/255 [01:25<00:09,  2.71it/s, loss=0.0714, v_num=1, train_loss=0.0941, train_accuracy=0.944, val_loss=0.193, val_accuracy=0.935]\n",
      "Epoch 138:  91%|█████████ | 232/255 [01:25<00:08,  2.72it/s, loss=0.0714, v_num=1, train_loss=0.0941, train_accuracy=0.944, val_loss=0.193, val_accuracy=0.935]\n",
      "Epoch 138:  92%|█████████▏| 234/255 [01:25<00:07,  2.74it/s, loss=0.0714, v_num=1, train_loss=0.0941, train_accuracy=0.944, val_loss=0.193, val_accuracy=0.935]\n",
      "Epoch 138:  93%|█████████▎| 236/255 [01:25<00:06,  2.76it/s, loss=0.0714, v_num=1, train_loss=0.0941, train_accuracy=0.944, val_loss=0.193, val_accuracy=0.935]\n",
      "Epoch 138:  93%|█████████▎| 238/255 [01:25<00:06,  2.78it/s, loss=0.0714, v_num=1, train_loss=0.0941, train_accuracy=0.944, val_loss=0.193, val_accuracy=0.935]\n",
      "Epoch 138:  94%|█████████▍| 240/255 [01:25<00:05,  2.79it/s, loss=0.0714, v_num=1, train_loss=0.0941, train_accuracy=0.944, val_loss=0.193, val_accuracy=0.935]\n",
      "Epoch 138:  95%|█████████▍| 242/255 [01:26<00:04,  2.81it/s, loss=0.0714, v_num=1, train_loss=0.0941, train_accuracy=0.944, val_loss=0.193, val_accuracy=0.935]\n",
      "Epoch 138:  96%|█████████▌| 244/255 [01:26<00:03,  2.83it/s, loss=0.0714, v_num=1, train_loss=0.0941, train_accuracy=0.944, val_loss=0.193, val_accuracy=0.935]\n",
      "Epoch 138:  96%|█████████▋| 246/255 [01:26<00:03,  2.85it/s, loss=0.0714, v_num=1, train_loss=0.0941, train_accuracy=0.944, val_loss=0.193, val_accuracy=0.935]\n",
      "Epoch 138:  97%|█████████▋| 248/255 [01:26<00:02,  2.86it/s, loss=0.0714, v_num=1, train_loss=0.0941, train_accuracy=0.944, val_loss=0.193, val_accuracy=0.935]\n",
      "Epoch 138:  98%|█████████▊| 250/255 [01:26<00:01,  2.88it/s, loss=0.0714, v_num=1, train_loss=0.0941, train_accuracy=0.944, val_loss=0.193, val_accuracy=0.935]\n",
      "Epoch 138:  99%|█████████▉| 252/255 [01:26<00:01,  2.90it/s, loss=0.0714, v_num=1, train_loss=0.0941, train_accuracy=0.944, val_loss=0.193, val_accuracy=0.935]\n",
      "Epoch 138: 100%|█████████▉| 254/255 [01:27<00:00,  2.91it/s, loss=0.0714, v_num=1, train_loss=0.0941, train_accuracy=0.944, val_loss=0.193, val_accuracy=0.935]\n",
      "Epoch 138: 100%|██████████| 255/255 [01:27<00:00,  2.91it/s, loss=0.0714, v_num=1, train_loss=0.0941, train_accuracy=0.944, val_loss=0.199, val_accuracy=0.936]\n",
      "Epoch 138: 100%|██████████| 255/255 [01:27<00:00,  2.91it/s, loss=0.0714, v_num=1, train_loss=0.0941, train_accuracy=0.944, val_loss=0.199, val_accuracy=0.936]"
     ]
    },
    {
     "name": "stderr",
     "output_type": "stream",
     "text": [
      "Epoch 138, global step 31413: val_loss was not in top 2\n"
     ]
    },
    {
     "name": "stdout",
     "output_type": "stream",
     "text": [
      "Epoch 139:  89%|████████▊ | 226/255 [01:22<00:10,  2.74it/s, loss=0.108, v_num=1, train_loss=0.0681, train_accuracy=0.944, val_loss=0.199, val_accuracy=0.936] \n",
      "Validating: 0it [00:00, ?it/s]\u001b[A\n",
      "Validating:   0%|          | 0/29 [00:00<?, ?it/s]\u001b[A\n",
      "Epoch 139:  89%|████████▉ | 228/255 [01:24<00:10,  2.69it/s, loss=0.108, v_num=1, train_loss=0.0681, train_accuracy=0.944, val_loss=0.199, val_accuracy=0.936]\n",
      "Epoch 139:  90%|█████████ | 230/255 [01:24<00:09,  2.71it/s, loss=0.108, v_num=1, train_loss=0.0681, train_accuracy=0.944, val_loss=0.199, val_accuracy=0.936]\n",
      "Epoch 139:  91%|█████████ | 232/255 [01:25<00:08,  2.73it/s, loss=0.108, v_num=1, train_loss=0.0681, train_accuracy=0.944, val_loss=0.199, val_accuracy=0.936]\n",
      "Epoch 139:  92%|█████████▏| 234/255 [01:25<00:07,  2.74it/s, loss=0.108, v_num=1, train_loss=0.0681, train_accuracy=0.944, val_loss=0.199, val_accuracy=0.936]\n",
      "Epoch 139:  93%|█████████▎| 236/255 [01:25<00:06,  2.76it/s, loss=0.108, v_num=1, train_loss=0.0681, train_accuracy=0.944, val_loss=0.199, val_accuracy=0.936]\n",
      "Epoch 139:  93%|█████████▎| 238/255 [01:25<00:06,  2.78it/s, loss=0.108, v_num=1, train_loss=0.0681, train_accuracy=0.944, val_loss=0.199, val_accuracy=0.936]\n",
      "Epoch 139:  94%|█████████▍| 240/255 [01:25<00:05,  2.80it/s, loss=0.108, v_num=1, train_loss=0.0681, train_accuracy=0.944, val_loss=0.199, val_accuracy=0.936]\n",
      "Epoch 139:  95%|█████████▍| 242/255 [01:25<00:04,  2.82it/s, loss=0.108, v_num=1, train_loss=0.0681, train_accuracy=0.944, val_loss=0.199, val_accuracy=0.936]\n",
      "Epoch 139:  96%|█████████▌| 244/255 [01:26<00:03,  2.83it/s, loss=0.108, v_num=1, train_loss=0.0681, train_accuracy=0.944, val_loss=0.199, val_accuracy=0.936]\n",
      "Epoch 139:  96%|█████████▋| 246/255 [01:26<00:03,  2.85it/s, loss=0.108, v_num=1, train_loss=0.0681, train_accuracy=0.944, val_loss=0.199, val_accuracy=0.936]\n",
      "Epoch 139:  97%|█████████▋| 248/255 [01:26<00:02,  2.87it/s, loss=0.108, v_num=1, train_loss=0.0681, train_accuracy=0.944, val_loss=0.199, val_accuracy=0.936]\n",
      "Epoch 139:  98%|█████████▊| 250/255 [01:26<00:01,  2.88it/s, loss=0.108, v_num=1, train_loss=0.0681, train_accuracy=0.944, val_loss=0.199, val_accuracy=0.936]\n",
      "Epoch 139:  99%|█████████▉| 252/255 [01:26<00:01,  2.90it/s, loss=0.108, v_num=1, train_loss=0.0681, train_accuracy=0.944, val_loss=0.199, val_accuracy=0.936]\n",
      "Epoch 139: 100%|█████████▉| 254/255 [01:27<00:00,  2.92it/s, loss=0.108, v_num=1, train_loss=0.0681, train_accuracy=0.944, val_loss=0.199, val_accuracy=0.936]\n",
      "Epoch 139: 100%|██████████| 255/255 [01:27<00:00,  2.91it/s, loss=0.108, v_num=1, train_loss=0.0681, train_accuracy=0.944, val_loss=0.202, val_accuracy=0.934]\n",
      "Epoch 139: 100%|██████████| 255/255 [01:27<00:00,  2.91it/s, loss=0.108, v_num=1, train_loss=0.0681, train_accuracy=0.944, val_loss=0.202, val_accuracy=0.934]"
     ]
    },
    {
     "name": "stderr",
     "output_type": "stream",
     "text": [
      "Epoch 139, global step 31639: val_loss was not in top 2\n"
     ]
    },
    {
     "name": "stdout",
     "output_type": "stream",
     "text": [
      "Epoch 140:  89%|████████▊ | 226/255 [01:22<00:10,  2.74it/s, loss=0.0879, v_num=1, train_loss=0.0781, train_accuracy=1.000, val_loss=0.202, val_accuracy=0.934] \n",
      "Validating: 0it [00:00, ?it/s]\u001b[A\n",
      "Validating:   0%|          | 0/29 [00:00<?, ?it/s]\u001b[A\n",
      "Epoch 140:  89%|████████▉ | 228/255 [01:24<00:10,  2.68it/s, loss=0.0879, v_num=1, train_loss=0.0781, train_accuracy=1.000, val_loss=0.202, val_accuracy=0.934]\n",
      "Epoch 140:  90%|█████████ | 230/255 [01:25<00:09,  2.70it/s, loss=0.0879, v_num=1, train_loss=0.0781, train_accuracy=1.000, val_loss=0.202, val_accuracy=0.934]\n",
      "Epoch 140:  91%|█████████ | 232/255 [01:25<00:08,  2.72it/s, loss=0.0879, v_num=1, train_loss=0.0781, train_accuracy=1.000, val_loss=0.202, val_accuracy=0.934]\n",
      "Epoch 140:  92%|█████████▏| 234/255 [01:25<00:07,  2.74it/s, loss=0.0879, v_num=1, train_loss=0.0781, train_accuracy=1.000, val_loss=0.202, val_accuracy=0.934]\n",
      "Epoch 140:  93%|█████████▎| 236/255 [01:25<00:06,  2.76it/s, loss=0.0879, v_num=1, train_loss=0.0781, train_accuracy=1.000, val_loss=0.202, val_accuracy=0.934]\n",
      "Epoch 140:  93%|█████████▎| 238/255 [01:25<00:06,  2.77it/s, loss=0.0879, v_num=1, train_loss=0.0781, train_accuracy=1.000, val_loss=0.202, val_accuracy=0.934]\n",
      "Epoch 140:  94%|█████████▍| 240/255 [01:26<00:05,  2.79it/s, loss=0.0879, v_num=1, train_loss=0.0781, train_accuracy=1.000, val_loss=0.202, val_accuracy=0.934]\n",
      "Epoch 140:  95%|█████████▍| 242/255 [01:26<00:04,  2.81it/s, loss=0.0879, v_num=1, train_loss=0.0781, train_accuracy=1.000, val_loss=0.202, val_accuracy=0.934]\n",
      "Epoch 140:  96%|█████████▌| 244/255 [01:26<00:03,  2.83it/s, loss=0.0879, v_num=1, train_loss=0.0781, train_accuracy=1.000, val_loss=0.202, val_accuracy=0.934]\n",
      "Epoch 140:  96%|█████████▋| 246/255 [01:26<00:03,  2.84it/s, loss=0.0879, v_num=1, train_loss=0.0781, train_accuracy=1.000, val_loss=0.202, val_accuracy=0.934]\n",
      "Epoch 140:  97%|█████████▋| 248/255 [01:26<00:02,  2.86it/s, loss=0.0879, v_num=1, train_loss=0.0781, train_accuracy=1.000, val_loss=0.202, val_accuracy=0.934]\n",
      "Epoch 140:  98%|█████████▊| 250/255 [01:26<00:01,  2.88it/s, loss=0.0879, v_num=1, train_loss=0.0781, train_accuracy=1.000, val_loss=0.202, val_accuracy=0.934]\n",
      "Epoch 140:  99%|█████████▉| 252/255 [01:27<00:01,  2.89it/s, loss=0.0879, v_num=1, train_loss=0.0781, train_accuracy=1.000, val_loss=0.202, val_accuracy=0.934]\n",
      "Epoch 140: 100%|█████████▉| 254/255 [01:27<00:00,  2.91it/s, loss=0.0879, v_num=1, train_loss=0.0781, train_accuracy=1.000, val_loss=0.202, val_accuracy=0.934]\n",
      "Epoch 140: 100%|██████████| 255/255 [01:27<00:00,  2.91it/s, loss=0.0879, v_num=1, train_loss=0.0781, train_accuracy=1.000, val_loss=0.247, val_accuracy=0.921]\n",
      "Epoch 140: 100%|██████████| 255/255 [01:27<00:00,  2.91it/s, loss=0.0879, v_num=1, train_loss=0.0781, train_accuracy=1.000, val_loss=0.247, val_accuracy=0.921]"
     ]
    },
    {
     "name": "stderr",
     "output_type": "stream",
     "text": [
      "Epoch 140, global step 31865: val_loss was not in top 2\n"
     ]
    },
    {
     "name": "stdout",
     "output_type": "stream",
     "text": [
      "Epoch 141:  89%|████████▊ | 226/255 [01:22<00:10,  2.74it/s, loss=0.16, v_num=1, train_loss=0.119, train_accuracy=0.944, val_loss=0.247, val_accuracy=0.921]   \n",
      "Validating: 0it [00:00, ?it/s]\u001b[A\n",
      "Validating:   0%|          | 0/29 [00:00<?, ?it/s]\u001b[A\n",
      "Epoch 141:  89%|████████▉ | 228/255 [01:24<00:10,  2.69it/s, loss=0.16, v_num=1, train_loss=0.119, train_accuracy=0.944, val_loss=0.247, val_accuracy=0.921]\n",
      "Epoch 141:  90%|█████████ | 230/255 [01:24<00:09,  2.71it/s, loss=0.16, v_num=1, train_loss=0.119, train_accuracy=0.944, val_loss=0.247, val_accuracy=0.921]\n",
      "Epoch 141:  91%|█████████ | 232/255 [01:25<00:08,  2.72it/s, loss=0.16, v_num=1, train_loss=0.119, train_accuracy=0.944, val_loss=0.247, val_accuracy=0.921]\n",
      "Epoch 141:  92%|█████████▏| 234/255 [01:25<00:07,  2.74it/s, loss=0.16, v_num=1, train_loss=0.119, train_accuracy=0.944, val_loss=0.247, val_accuracy=0.921]\n",
      "Epoch 141:  93%|█████████▎| 236/255 [01:25<00:06,  2.76it/s, loss=0.16, v_num=1, train_loss=0.119, train_accuracy=0.944, val_loss=0.247, val_accuracy=0.921]\n",
      "Epoch 141:  93%|█████████▎| 238/255 [01:25<00:06,  2.78it/s, loss=0.16, v_num=1, train_loss=0.119, train_accuracy=0.944, val_loss=0.247, val_accuracy=0.921]\n",
      "Epoch 141:  94%|█████████▍| 240/255 [01:25<00:05,  2.80it/s, loss=0.16, v_num=1, train_loss=0.119, train_accuracy=0.944, val_loss=0.247, val_accuracy=0.921]\n",
      "Epoch 141:  95%|█████████▍| 242/255 [01:25<00:04,  2.81it/s, loss=0.16, v_num=1, train_loss=0.119, train_accuracy=0.944, val_loss=0.247, val_accuracy=0.921]\n",
      "Epoch 141:  96%|█████████▌| 244/255 [01:26<00:03,  2.83it/s, loss=0.16, v_num=1, train_loss=0.119, train_accuracy=0.944, val_loss=0.247, val_accuracy=0.921]\n",
      "Epoch 141:  96%|█████████▋| 246/255 [01:26<00:03,  2.85it/s, loss=0.16, v_num=1, train_loss=0.119, train_accuracy=0.944, val_loss=0.247, val_accuracy=0.921]\n",
      "Epoch 141:  97%|█████████▋| 248/255 [01:26<00:02,  2.87it/s, loss=0.16, v_num=1, train_loss=0.119, train_accuracy=0.944, val_loss=0.247, val_accuracy=0.921]\n",
      "Epoch 141:  98%|█████████▊| 250/255 [01:26<00:01,  2.88it/s, loss=0.16, v_num=1, train_loss=0.119, train_accuracy=0.944, val_loss=0.247, val_accuracy=0.921]\n",
      "Epoch 141:  99%|█████████▉| 252/255 [01:26<00:01,  2.90it/s, loss=0.16, v_num=1, train_loss=0.119, train_accuracy=0.944, val_loss=0.247, val_accuracy=0.921]\n",
      "Epoch 141: 100%|█████████▉| 254/255 [01:27<00:00,  2.92it/s, loss=0.16, v_num=1, train_loss=0.119, train_accuracy=0.944, val_loss=0.247, val_accuracy=0.921]\n",
      "Epoch 141: 100%|██████████| 255/255 [01:27<00:00,  2.91it/s, loss=0.16, v_num=1, train_loss=0.119, train_accuracy=0.944, val_loss=0.339, val_accuracy=0.889]\n",
      "Epoch 141: 100%|██████████| 255/255 [01:27<00:00,  2.91it/s, loss=0.16, v_num=1, train_loss=0.119, train_accuracy=0.944, val_loss=0.339, val_accuracy=0.889]"
     ]
    },
    {
     "name": "stderr",
     "output_type": "stream",
     "text": [
      "Epoch 141, global step 32091: val_loss was not in top 2\n"
     ]
    },
    {
     "name": "stdout",
     "output_type": "stream",
     "text": [
      "Epoch 142:  89%|████████▊ | 226/255 [01:23<00:10,  2.69it/s, loss=0.109, v_num=1, train_loss=0.157, train_accuracy=0.944, val_loss=0.339, val_accuracy=0.889]  \n",
      "Validating: 0it [00:00, ?it/s]\u001b[A\n",
      "Validating:   0%|          | 0/29 [00:00<?, ?it/s]\u001b[A\n",
      "Epoch 142:  89%|████████▉ | 228/255 [01:28<00:10,  2.56it/s, loss=0.109, v_num=1, train_loss=0.157, train_accuracy=0.944, val_loss=0.339, val_accuracy=0.889]\n",
      "Validating:   7%|▋         | 2/29 [00:05<00:58,  2.16s/it]\u001b[A\n",
      "Epoch 142:  90%|█████████ | 230/255 [01:29<00:09,  2.58it/s, loss=0.109, v_num=1, train_loss=0.157, train_accuracy=0.944, val_loss=0.339, val_accuracy=0.889]\n",
      "Validating:  14%|█▍        | 4/29 [00:05<00:20,  1.24it/s]\u001b[A\n",
      "Epoch 142:  91%|█████████ | 232/255 [01:29<00:08,  2.59it/s, loss=0.109, v_num=1, train_loss=0.157, train_accuracy=0.944, val_loss=0.339, val_accuracy=0.889]\n",
      "Validating:  21%|██        | 6/29 [00:05<00:09,  2.37it/s]\u001b[A\n",
      "Epoch 142:  92%|█████████▏| 234/255 [01:29<00:08,  2.61it/s, loss=0.109, v_num=1, train_loss=0.157, train_accuracy=0.944, val_loss=0.339, val_accuracy=0.889]\n",
      "Validating:  28%|██▊       | 8/29 [00:06<00:05,  3.63it/s]\u001b[A\n",
      "Epoch 142:  93%|█████████▎| 236/255 [01:30<00:07,  2.62it/s, loss=0.109, v_num=1, train_loss=0.157, train_accuracy=0.944, val_loss=0.339, val_accuracy=0.889]\n",
      "Validating:  34%|███▍      | 10/29 [00:06<00:03,  5.04it/s]\u001b[A\n",
      "Epoch 142:  93%|█████████▎| 238/255 [01:30<00:06,  2.63it/s, loss=0.109, v_num=1, train_loss=0.157, train_accuracy=0.944, val_loss=0.339, val_accuracy=0.889]\n",
      "Validating:  41%|████▏     | 12/29 [00:06<00:02,  5.89it/s]\u001b[A\n",
      "Epoch 142:  94%|█████████▍| 240/255 [01:30<00:05,  2.65it/s, loss=0.109, v_num=1, train_loss=0.157, train_accuracy=0.944, val_loss=0.339, val_accuracy=0.889]\n",
      "Validating:  48%|████▊     | 14/29 [00:06<00:02,  6.19it/s]\u001b[A\n",
      "Epoch 142:  95%|█████████▍| 242/255 [01:30<00:04,  2.66it/s, loss=0.109, v_num=1, train_loss=0.157, train_accuracy=0.944, val_loss=0.339, val_accuracy=0.889]\n",
      "Validating:  55%|█████▌    | 16/29 [00:07<00:01,  6.60it/s]\u001b[A\n",
      "Epoch 142:  96%|█████████▌| 244/255 [01:31<00:04,  2.67it/s, loss=0.109, v_num=1, train_loss=0.157, train_accuracy=0.944, val_loss=0.339, val_accuracy=0.889]\n",
      "Validating:  62%|██████▏   | 18/29 [00:07<00:01,  7.08it/s]\u001b[A\n",
      "Epoch 142:  96%|█████████▋| 246/255 [01:31<00:03,  2.69it/s, loss=0.109, v_num=1, train_loss=0.157, train_accuracy=0.944, val_loss=0.339, val_accuracy=0.889]\n",
      "Validating:  69%|██████▉   | 20/29 [00:07<00:01,  7.26it/s]\u001b[A\n",
      "Epoch 142:  97%|█████████▋| 248/255 [01:31<00:02,  2.70it/s, loss=0.109, v_num=1, train_loss=0.157, train_accuracy=0.944, val_loss=0.339, val_accuracy=0.889]\n",
      "Validating:  76%|███████▌  | 22/29 [00:07<00:00,  7.82it/s]\u001b[A\n",
      "Epoch 142:  98%|█████████▊| 250/255 [01:32<00:01,  2.72it/s, loss=0.109, v_num=1, train_loss=0.157, train_accuracy=0.944, val_loss=0.339, val_accuracy=0.889]\n",
      "Validating:  83%|████████▎ | 24/29 [00:08<00:00,  7.60it/s]\u001b[A\n",
      "Epoch 142:  99%|█████████▉| 252/255 [01:32<00:01,  2.73it/s, loss=0.109, v_num=1, train_loss=0.157, train_accuracy=0.944, val_loss=0.339, val_accuracy=0.889]\n",
      "Validating:  90%|████████▉ | 26/29 [00:08<00:00,  7.75it/s]\u001b[A\n",
      "Epoch 142: 100%|█████████▉| 254/255 [01:32<00:00,  2.74it/s, loss=0.109, v_num=1, train_loss=0.157, train_accuracy=0.944, val_loss=0.339, val_accuracy=0.889]\n",
      "Validating:  97%|█████████▋| 28/29 [00:08<00:00,  7.30it/s]\u001b[A\n",
      "Epoch 142: 100%|██████████| 255/255 [01:33<00:00,  2.73it/s, loss=0.109, v_num=1, train_loss=0.157, train_accuracy=0.944, val_loss=0.256, val_accuracy=0.930]\n",
      "Epoch 142: 100%|██████████| 255/255 [01:33<00:00,  2.73it/s, loss=0.109, v_num=1, train_loss=0.157, train_accuracy=0.944, val_loss=0.256, val_accuracy=0.930]"
     ]
    },
    {
     "name": "stderr",
     "output_type": "stream",
     "text": [
      "Epoch 142, global step 32317: val_loss was not in top 2\n"
     ]
    },
    {
     "name": "stdout",
     "output_type": "stream",
     "text": [
      "Epoch 143:  89%|████████▊ | 226/255 [01:27<00:11,  2.58it/s, loss=0.0635, v_num=1, train_loss=0.0112, train_accuracy=1.000, val_loss=0.256, val_accuracy=0.930] \n",
      "Validating: 0it [00:00, ?it/s]\u001b[A\n",
      "Validating:   0%|          | 0/29 [00:00<?, ?it/s]\u001b[A\n",
      "Epoch 143:  89%|████████▉ | 228/255 [01:29<00:10,  2.54it/s, loss=0.0635, v_num=1, train_loss=0.0112, train_accuracy=1.000, val_loss=0.256, val_accuracy=0.930]\n",
      "Epoch 143:  90%|█████████ | 230/255 [01:29<00:09,  2.56it/s, loss=0.0635, v_num=1, train_loss=0.0112, train_accuracy=1.000, val_loss=0.256, val_accuracy=0.930]\n",
      "Epoch 143:  91%|█████████ | 232/255 [01:30<00:08,  2.57it/s, loss=0.0635, v_num=1, train_loss=0.0112, train_accuracy=1.000, val_loss=0.256, val_accuracy=0.930]\n",
      "Epoch 143:  92%|█████████▏| 234/255 [01:30<00:08,  2.59it/s, loss=0.0635, v_num=1, train_loss=0.0112, train_accuracy=1.000, val_loss=0.256, val_accuracy=0.930]\n",
      "Epoch 143:  93%|█████████▎| 236/255 [01:30<00:07,  2.61it/s, loss=0.0635, v_num=1, train_loss=0.0112, train_accuracy=1.000, val_loss=0.256, val_accuracy=0.930]\n",
      "Epoch 143:  93%|█████████▎| 238/255 [01:30<00:06,  2.62it/s, loss=0.0635, v_num=1, train_loss=0.0112, train_accuracy=1.000, val_loss=0.256, val_accuracy=0.930]\n",
      "Epoch 143:  94%|█████████▍| 240/255 [01:30<00:05,  2.64it/s, loss=0.0635, v_num=1, train_loss=0.0112, train_accuracy=1.000, val_loss=0.256, val_accuracy=0.930]\n",
      "Epoch 143:  95%|█████████▍| 242/255 [01:31<00:04,  2.66it/s, loss=0.0635, v_num=1, train_loss=0.0112, train_accuracy=1.000, val_loss=0.256, val_accuracy=0.930]\n",
      "Epoch 143:  96%|█████████▌| 244/255 [01:31<00:04,  2.68it/s, loss=0.0635, v_num=1, train_loss=0.0112, train_accuracy=1.000, val_loss=0.256, val_accuracy=0.930]\n",
      "Epoch 143:  96%|█████████▋| 246/255 [01:31<00:03,  2.69it/s, loss=0.0635, v_num=1, train_loss=0.0112, train_accuracy=1.000, val_loss=0.256, val_accuracy=0.930]\n",
      "Epoch 143:  97%|█████████▋| 248/255 [01:31<00:02,  2.71it/s, loss=0.0635, v_num=1, train_loss=0.0112, train_accuracy=1.000, val_loss=0.256, val_accuracy=0.930]\n",
      "Epoch 143:  98%|█████████▊| 250/255 [01:31<00:01,  2.73it/s, loss=0.0635, v_num=1, train_loss=0.0112, train_accuracy=1.000, val_loss=0.256, val_accuracy=0.930]\n",
      "Epoch 143:  99%|█████████▉| 252/255 [01:31<00:01,  2.74it/s, loss=0.0635, v_num=1, train_loss=0.0112, train_accuracy=1.000, val_loss=0.256, val_accuracy=0.930]\n",
      "Epoch 143: 100%|█████████▉| 254/255 [01:32<00:00,  2.76it/s, loss=0.0635, v_num=1, train_loss=0.0112, train_accuracy=1.000, val_loss=0.256, val_accuracy=0.930]\n",
      "Epoch 143: 100%|██████████| 255/255 [01:32<00:00,  2.75it/s, loss=0.0635, v_num=1, train_loss=0.0112, train_accuracy=1.000, val_loss=0.208, val_accuracy=0.932]\n",
      "Epoch 143: 100%|██████████| 255/255 [01:32<00:00,  2.75it/s, loss=0.0635, v_num=1, train_loss=0.0112, train_accuracy=1.000, val_loss=0.208, val_accuracy=0.932]"
     ]
    },
    {
     "name": "stderr",
     "output_type": "stream",
     "text": [
      "Epoch 143, global step 32543: val_loss was not in top 2\n"
     ]
    },
    {
     "name": "stdout",
     "output_type": "stream",
     "text": [
      "Epoch 144:  89%|████████▊ | 226/255 [01:22<00:10,  2.74it/s, loss=0.0531, v_num=1, train_loss=0.0197, train_accuracy=1.000, val_loss=0.208, val_accuracy=0.932] \n",
      "Validating: 0it [00:00, ?it/s]\u001b[A\n",
      "Validating:   0%|          | 0/29 [00:00<?, ?it/s]\u001b[A\n",
      "Epoch 144:  89%|████████▉ | 228/255 [01:24<00:10,  2.69it/s, loss=0.0531, v_num=1, train_loss=0.0197, train_accuracy=1.000, val_loss=0.208, val_accuracy=0.932]\n",
      "Epoch 144:  90%|█████████ | 230/255 [01:25<00:09,  2.70it/s, loss=0.0531, v_num=1, train_loss=0.0197, train_accuracy=1.000, val_loss=0.208, val_accuracy=0.932]\n",
      "Epoch 144:  91%|█████████ | 232/255 [01:25<00:08,  2.72it/s, loss=0.0531, v_num=1, train_loss=0.0197, train_accuracy=1.000, val_loss=0.208, val_accuracy=0.932]\n",
      "Epoch 144:  92%|█████████▏| 234/255 [01:25<00:07,  2.74it/s, loss=0.0531, v_num=1, train_loss=0.0197, train_accuracy=1.000, val_loss=0.208, val_accuracy=0.932]\n",
      "Epoch 144:  93%|█████████▎| 236/255 [01:25<00:06,  2.76it/s, loss=0.0531, v_num=1, train_loss=0.0197, train_accuracy=1.000, val_loss=0.208, val_accuracy=0.932]\n",
      "Epoch 144:  93%|█████████▎| 238/255 [01:25<00:06,  2.77it/s, loss=0.0531, v_num=1, train_loss=0.0197, train_accuracy=1.000, val_loss=0.208, val_accuracy=0.932]\n",
      "Epoch 144:  94%|█████████▍| 240/255 [01:25<00:05,  2.79it/s, loss=0.0531, v_num=1, train_loss=0.0197, train_accuracy=1.000, val_loss=0.208, val_accuracy=0.932]\n",
      "Epoch 144:  95%|█████████▍| 242/255 [01:26<00:04,  2.81it/s, loss=0.0531, v_num=1, train_loss=0.0197, train_accuracy=1.000, val_loss=0.208, val_accuracy=0.932]\n",
      "Epoch 144:  96%|█████████▌| 244/255 [01:26<00:03,  2.83it/s, loss=0.0531, v_num=1, train_loss=0.0197, train_accuracy=1.000, val_loss=0.208, val_accuracy=0.932]\n",
      "Epoch 144:  96%|█████████▋| 246/255 [01:26<00:03,  2.84it/s, loss=0.0531, v_num=1, train_loss=0.0197, train_accuracy=1.000, val_loss=0.208, val_accuracy=0.932]\n",
      "Epoch 144:  97%|█████████▋| 248/255 [01:26<00:02,  2.86it/s, loss=0.0531, v_num=1, train_loss=0.0197, train_accuracy=1.000, val_loss=0.208, val_accuracy=0.932]\n",
      "Epoch 144:  98%|█████████▊| 250/255 [01:26<00:01,  2.88it/s, loss=0.0531, v_num=1, train_loss=0.0197, train_accuracy=1.000, val_loss=0.208, val_accuracy=0.932]\n",
      "Epoch 144:  99%|█████████▉| 252/255 [01:26<00:01,  2.90it/s, loss=0.0531, v_num=1, train_loss=0.0197, train_accuracy=1.000, val_loss=0.208, val_accuracy=0.932]\n",
      "Epoch 144: 100%|█████████▉| 254/255 [01:27<00:00,  2.91it/s, loss=0.0531, v_num=1, train_loss=0.0197, train_accuracy=1.000, val_loss=0.208, val_accuracy=0.932]\n",
      "Epoch 144: 100%|██████████| 255/255 [01:27<00:00,  2.91it/s, loss=0.0531, v_num=1, train_loss=0.0197, train_accuracy=1.000, val_loss=0.208, val_accuracy=0.942]\n",
      "Epoch 144: 100%|██████████| 255/255 [01:27<00:00,  2.91it/s, loss=0.0531, v_num=1, train_loss=0.0197, train_accuracy=1.000, val_loss=0.208, val_accuracy=0.942]"
     ]
    },
    {
     "name": "stderr",
     "output_type": "stream",
     "text": [
      "Epoch 144, global step 32769: val_loss was not in top 2\n"
     ]
    },
    {
     "name": "stdout",
     "output_type": "stream",
     "text": [
      "Epoch 145:  89%|████████▊ | 226/255 [01:22<00:10,  2.74it/s, loss=0.0906, v_num=1, train_loss=0.362, train_accuracy=0.889, val_loss=0.208, val_accuracy=0.942]  \n",
      "Validating: 0it [00:00, ?it/s]\u001b[A\n",
      "Validating:   0%|          | 0/29 [00:00<?, ?it/s]\u001b[A\n",
      "Epoch 145:  89%|████████▉ | 228/255 [01:24<00:10,  2.69it/s, loss=0.0906, v_num=1, train_loss=0.362, train_accuracy=0.889, val_loss=0.208, val_accuracy=0.942]\n",
      "Epoch 145:  90%|█████████ | 230/255 [01:24<00:09,  2.71it/s, loss=0.0906, v_num=1, train_loss=0.362, train_accuracy=0.889, val_loss=0.208, val_accuracy=0.942]\n",
      "Epoch 145:  91%|█████████ | 232/255 [01:25<00:08,  2.73it/s, loss=0.0906, v_num=1, train_loss=0.362, train_accuracy=0.889, val_loss=0.208, val_accuracy=0.942]\n",
      "Epoch 145:  92%|█████████▏| 234/255 [01:25<00:07,  2.75it/s, loss=0.0906, v_num=1, train_loss=0.362, train_accuracy=0.889, val_loss=0.208, val_accuracy=0.942]\n",
      "Epoch 145:  93%|█████████▎| 236/255 [01:25<00:06,  2.76it/s, loss=0.0906, v_num=1, train_loss=0.362, train_accuracy=0.889, val_loss=0.208, val_accuracy=0.942]\n",
      "Epoch 145:  93%|█████████▎| 238/255 [01:25<00:06,  2.78it/s, loss=0.0906, v_num=1, train_loss=0.362, train_accuracy=0.889, val_loss=0.208, val_accuracy=0.942]\n",
      "Epoch 145:  94%|█████████▍| 240/255 [01:25<00:05,  2.80it/s, loss=0.0906, v_num=1, train_loss=0.362, train_accuracy=0.889, val_loss=0.208, val_accuracy=0.942]\n",
      "Epoch 145:  95%|█████████▍| 242/255 [01:25<00:04,  2.82it/s, loss=0.0906, v_num=1, train_loss=0.362, train_accuracy=0.889, val_loss=0.208, val_accuracy=0.942]\n",
      "Epoch 145:  96%|█████████▌| 244/255 [01:25<00:03,  2.84it/s, loss=0.0906, v_num=1, train_loss=0.362, train_accuracy=0.889, val_loss=0.208, val_accuracy=0.942]\n",
      "Epoch 145:  96%|█████████▋| 246/255 [01:26<00:03,  2.86it/s, loss=0.0906, v_num=1, train_loss=0.362, train_accuracy=0.889, val_loss=0.208, val_accuracy=0.942]\n",
      "Epoch 145:  97%|█████████▋| 248/255 [01:26<00:02,  2.87it/s, loss=0.0906, v_num=1, train_loss=0.362, train_accuracy=0.889, val_loss=0.208, val_accuracy=0.942]\n",
      "Epoch 145:  98%|█████████▊| 250/255 [01:26<00:01,  2.89it/s, loss=0.0906, v_num=1, train_loss=0.362, train_accuracy=0.889, val_loss=0.208, val_accuracy=0.942]\n",
      "Epoch 145:  99%|█████████▉| 252/255 [01:26<00:01,  2.91it/s, loss=0.0906, v_num=1, train_loss=0.362, train_accuracy=0.889, val_loss=0.208, val_accuracy=0.942]\n",
      "Epoch 145: 100%|█████████▉| 254/255 [01:26<00:00,  2.93it/s, loss=0.0906, v_num=1, train_loss=0.362, train_accuracy=0.889, val_loss=0.208, val_accuracy=0.942]\n",
      "Epoch 145: 100%|██████████| 255/255 [01:27<00:00,  2.92it/s, loss=0.0906, v_num=1, train_loss=0.362, train_accuracy=0.889, val_loss=0.211, val_accuracy=0.943]\n",
      "Epoch 145: 100%|██████████| 255/255 [01:27<00:00,  2.92it/s, loss=0.0906, v_num=1, train_loss=0.362, train_accuracy=0.889, val_loss=0.211, val_accuracy=0.943]"
     ]
    },
    {
     "name": "stderr",
     "output_type": "stream",
     "text": [
      "Epoch 145, global step 32995: val_loss was not in top 2\n"
     ]
    },
    {
     "name": "stdout",
     "output_type": "stream",
     "text": [
      "Epoch 146:  89%|████████▊ | 226/255 [01:22<00:10,  2.73it/s, loss=0.113, v_num=1, train_loss=0.0755, train_accuracy=0.944, val_loss=0.211, val_accuracy=0.943] \n",
      "Validating: 0it [00:00, ?it/s]\u001b[A\n",
      "Validating:   0%|          | 0/29 [00:00<?, ?it/s]\u001b[A\n",
      "Epoch 146:  89%|████████▉ | 228/255 [01:25<00:10,  2.68it/s, loss=0.113, v_num=1, train_loss=0.0755, train_accuracy=0.944, val_loss=0.211, val_accuracy=0.943]\n",
      "Epoch 146:  90%|█████████ | 230/255 [01:25<00:09,  2.70it/s, loss=0.113, v_num=1, train_loss=0.0755, train_accuracy=0.944, val_loss=0.211, val_accuracy=0.943]\n",
      "Epoch 146:  91%|█████████ | 232/255 [01:25<00:08,  2.72it/s, loss=0.113, v_num=1, train_loss=0.0755, train_accuracy=0.944, val_loss=0.211, val_accuracy=0.943]\n",
      "Epoch 146:  92%|█████████▏| 234/255 [01:25<00:07,  2.73it/s, loss=0.113, v_num=1, train_loss=0.0755, train_accuracy=0.944, val_loss=0.211, val_accuracy=0.943]\n",
      "Epoch 146:  93%|█████████▎| 236/255 [01:25<00:06,  2.75it/s, loss=0.113, v_num=1, train_loss=0.0755, train_accuracy=0.944, val_loss=0.211, val_accuracy=0.943]\n",
      "Epoch 146:  93%|█████████▎| 238/255 [01:25<00:06,  2.77it/s, loss=0.113, v_num=1, train_loss=0.0755, train_accuracy=0.944, val_loss=0.211, val_accuracy=0.943]\n",
      "Epoch 146:  94%|█████████▍| 240/255 [01:26<00:05,  2.79it/s, loss=0.113, v_num=1, train_loss=0.0755, train_accuracy=0.944, val_loss=0.211, val_accuracy=0.943]\n",
      "Epoch 146:  95%|█████████▍| 242/255 [01:26<00:04,  2.81it/s, loss=0.113, v_num=1, train_loss=0.0755, train_accuracy=0.944, val_loss=0.211, val_accuracy=0.943]\n",
      "Epoch 146:  96%|█████████▌| 244/255 [01:26<00:03,  2.82it/s, loss=0.113, v_num=1, train_loss=0.0755, train_accuracy=0.944, val_loss=0.211, val_accuracy=0.943]\n",
      "Epoch 146:  96%|█████████▋| 246/255 [01:26<00:03,  2.84it/s, loss=0.113, v_num=1, train_loss=0.0755, train_accuracy=0.944, val_loss=0.211, val_accuracy=0.943]\n",
      "Epoch 146:  97%|█████████▋| 248/255 [01:26<00:02,  2.86it/s, loss=0.113, v_num=1, train_loss=0.0755, train_accuracy=0.944, val_loss=0.211, val_accuracy=0.943]\n",
      "Epoch 146:  98%|█████████▊| 250/255 [01:26<00:01,  2.88it/s, loss=0.113, v_num=1, train_loss=0.0755, train_accuracy=0.944, val_loss=0.211, val_accuracy=0.943]\n",
      "Epoch 146:  99%|█████████▉| 252/255 [01:27<00:01,  2.89it/s, loss=0.113, v_num=1, train_loss=0.0755, train_accuracy=0.944, val_loss=0.211, val_accuracy=0.943]\n",
      "Epoch 146: 100%|█████████▉| 254/255 [01:27<00:00,  2.91it/s, loss=0.113, v_num=1, train_loss=0.0755, train_accuracy=0.944, val_loss=0.211, val_accuracy=0.943]\n",
      "Epoch 146: 100%|██████████| 255/255 [01:27<00:00,  2.90it/s, loss=0.113, v_num=1, train_loss=0.0755, train_accuracy=0.944, val_loss=0.235, val_accuracy=0.912]\n",
      "Epoch 146: 100%|██████████| 255/255 [01:27<00:00,  2.90it/s, loss=0.113, v_num=1, train_loss=0.0755, train_accuracy=0.944, val_loss=0.235, val_accuracy=0.912]"
     ]
    },
    {
     "name": "stderr",
     "output_type": "stream",
     "text": [
      "Epoch 146, global step 33221: val_loss was not in top 2\n"
     ]
    },
    {
     "name": "stdout",
     "output_type": "stream",
     "text": [
      "Epoch 147:  89%|████████▊ | 226/255 [01:22<00:10,  2.74it/s, loss=0.0955, v_num=1, train_loss=0.124, train_accuracy=0.944, val_loss=0.235, val_accuracy=0.912] \n",
      "Validating: 0it [00:00, ?it/s]\u001b[A\n",
      "Validating:   0%|          | 0/29 [00:00<?, ?it/s]\u001b[A\n",
      "Epoch 147:  89%|████████▉ | 228/255 [01:24<00:10,  2.69it/s, loss=0.0955, v_num=1, train_loss=0.124, train_accuracy=0.944, val_loss=0.235, val_accuracy=0.912]\n",
      "Epoch 147:  90%|█████████ | 230/255 [01:24<00:09,  2.71it/s, loss=0.0955, v_num=1, train_loss=0.124, train_accuracy=0.944, val_loss=0.235, val_accuracy=0.912]\n",
      "Epoch 147:  91%|█████████ | 232/255 [01:25<00:08,  2.73it/s, loss=0.0955, v_num=1, train_loss=0.124, train_accuracy=0.944, val_loss=0.235, val_accuracy=0.912]\n",
      "Epoch 147:  92%|█████████▏| 234/255 [01:25<00:07,  2.75it/s, loss=0.0955, v_num=1, train_loss=0.124, train_accuracy=0.944, val_loss=0.235, val_accuracy=0.912]\n",
      "Epoch 147:  93%|█████████▎| 236/255 [01:25<00:06,  2.76it/s, loss=0.0955, v_num=1, train_loss=0.124, train_accuracy=0.944, val_loss=0.235, val_accuracy=0.912]\n",
      "Epoch 147:  93%|█████████▎| 238/255 [01:25<00:06,  2.78it/s, loss=0.0955, v_num=1, train_loss=0.124, train_accuracy=0.944, val_loss=0.235, val_accuracy=0.912]\n",
      "Epoch 147:  94%|█████████▍| 240/255 [01:25<00:05,  2.80it/s, loss=0.0955, v_num=1, train_loss=0.124, train_accuracy=0.944, val_loss=0.235, val_accuracy=0.912]\n",
      "Epoch 147:  95%|█████████▍| 242/255 [01:25<00:04,  2.82it/s, loss=0.0955, v_num=1, train_loss=0.124, train_accuracy=0.944, val_loss=0.235, val_accuracy=0.912]\n",
      "Epoch 147:  96%|█████████▌| 244/255 [01:25<00:03,  2.84it/s, loss=0.0955, v_num=1, train_loss=0.124, train_accuracy=0.944, val_loss=0.235, val_accuracy=0.912]\n",
      "Epoch 147:  96%|█████████▋| 246/255 [01:26<00:03,  2.86it/s, loss=0.0955, v_num=1, train_loss=0.124, train_accuracy=0.944, val_loss=0.235, val_accuracy=0.912]\n",
      "Epoch 147:  97%|█████████▋| 248/255 [01:26<00:02,  2.87it/s, loss=0.0955, v_num=1, train_loss=0.124, train_accuracy=0.944, val_loss=0.235, val_accuracy=0.912]\n",
      "Epoch 147:  98%|█████████▊| 250/255 [01:26<00:01,  2.89it/s, loss=0.0955, v_num=1, train_loss=0.124, train_accuracy=0.944, val_loss=0.235, val_accuracy=0.912]\n",
      "Epoch 147:  99%|█████████▉| 252/255 [01:26<00:01,  2.91it/s, loss=0.0955, v_num=1, train_loss=0.124, train_accuracy=0.944, val_loss=0.235, val_accuracy=0.912]\n",
      "Epoch 147: 100%|█████████▉| 254/255 [01:26<00:00,  2.93it/s, loss=0.0955, v_num=1, train_loss=0.124, train_accuracy=0.944, val_loss=0.235, val_accuracy=0.912]\n",
      "Epoch 147: 100%|██████████| 255/255 [01:27<00:00,  2.92it/s, loss=0.0955, v_num=1, train_loss=0.124, train_accuracy=0.944, val_loss=0.220, val_accuracy=0.931]\n",
      "Epoch 147: 100%|██████████| 255/255 [01:27<00:00,  2.92it/s, loss=0.0955, v_num=1, train_loss=0.124, train_accuracy=0.944, val_loss=0.220, val_accuracy=0.931]"
     ]
    },
    {
     "name": "stderr",
     "output_type": "stream",
     "text": [
      "Epoch 147, global step 33447: val_loss was not in top 2\n"
     ]
    },
    {
     "name": "stdout",
     "output_type": "stream",
     "text": [
      "Epoch 148:  89%|████████▊ | 226/255 [01:22<00:10,  2.75it/s, loss=0.0773, v_num=1, train_loss=0.0118, train_accuracy=1.000, val_loss=0.220, val_accuracy=0.931] \n",
      "Validating: 0it [00:00, ?it/s]\u001b[A\n",
      "Validating:   0%|          | 0/29 [00:00<?, ?it/s]\u001b[A\n",
      "Epoch 148:  89%|████████▉ | 228/255 [01:24<00:10,  2.70it/s, loss=0.0773, v_num=1, train_loss=0.0118, train_accuracy=1.000, val_loss=0.220, val_accuracy=0.931]\n",
      "Epoch 148:  90%|█████████ | 230/255 [01:24<00:09,  2.72it/s, loss=0.0773, v_num=1, train_loss=0.0118, train_accuracy=1.000, val_loss=0.220, val_accuracy=0.931]\n",
      "Epoch 148:  91%|█████████ | 232/255 [01:24<00:08,  2.73it/s, loss=0.0773, v_num=1, train_loss=0.0118, train_accuracy=1.000, val_loss=0.220, val_accuracy=0.931]\n",
      "Epoch 148:  92%|█████████▏| 234/255 [01:25<00:07,  2.75it/s, loss=0.0773, v_num=1, train_loss=0.0118, train_accuracy=1.000, val_loss=0.220, val_accuracy=0.931]\n",
      "Epoch 148:  93%|█████████▎| 236/255 [01:25<00:06,  2.77it/s, loss=0.0773, v_num=1, train_loss=0.0118, train_accuracy=1.000, val_loss=0.220, val_accuracy=0.931]\n",
      "Epoch 148:  93%|█████████▎| 238/255 [01:25<00:06,  2.79it/s, loss=0.0773, v_num=1, train_loss=0.0118, train_accuracy=1.000, val_loss=0.220, val_accuracy=0.931]\n",
      "Epoch 148:  94%|█████████▍| 240/255 [01:25<00:05,  2.81it/s, loss=0.0773, v_num=1, train_loss=0.0118, train_accuracy=1.000, val_loss=0.220, val_accuracy=0.931]\n",
      "Epoch 148:  95%|█████████▍| 242/255 [01:25<00:04,  2.82it/s, loss=0.0773, v_num=1, train_loss=0.0118, train_accuracy=1.000, val_loss=0.220, val_accuracy=0.931]\n",
      "Epoch 148:  96%|█████████▌| 244/255 [01:25<00:03,  2.84it/s, loss=0.0773, v_num=1, train_loss=0.0118, train_accuracy=1.000, val_loss=0.220, val_accuracy=0.931]\n",
      "Epoch 148:  96%|█████████▋| 246/255 [01:26<00:03,  2.86it/s, loss=0.0773, v_num=1, train_loss=0.0118, train_accuracy=1.000, val_loss=0.220, val_accuracy=0.931]\n",
      "Epoch 148:  97%|█████████▋| 248/255 [01:26<00:02,  2.88it/s, loss=0.0773, v_num=1, train_loss=0.0118, train_accuracy=1.000, val_loss=0.220, val_accuracy=0.931]\n",
      "Epoch 148:  98%|█████████▊| 250/255 [01:26<00:01,  2.89it/s, loss=0.0773, v_num=1, train_loss=0.0118, train_accuracy=1.000, val_loss=0.220, val_accuracy=0.931]\n",
      "Epoch 148:  99%|█████████▉| 252/255 [01:26<00:01,  2.91it/s, loss=0.0773, v_num=1, train_loss=0.0118, train_accuracy=1.000, val_loss=0.220, val_accuracy=0.931]\n",
      "Epoch 148: 100%|█████████▉| 254/255 [01:26<00:00,  2.93it/s, loss=0.0773, v_num=1, train_loss=0.0118, train_accuracy=1.000, val_loss=0.220, val_accuracy=0.931]\n",
      "Epoch 148: 100%|██████████| 255/255 [01:27<00:00,  2.92it/s, loss=0.0773, v_num=1, train_loss=0.0118, train_accuracy=1.000, val_loss=0.189, val_accuracy=0.949]\n",
      "Epoch 148: 100%|██████████| 255/255 [01:27<00:00,  2.92it/s, loss=0.0773, v_num=1, train_loss=0.0118, train_accuracy=1.000, val_loss=0.189, val_accuracy=0.949]"
     ]
    },
    {
     "name": "stderr",
     "output_type": "stream",
     "text": [
      "Epoch 148, global step 33673: val_loss was not in top 2\n"
     ]
    },
    {
     "name": "stdout",
     "output_type": "stream",
     "text": [
      "Epoch 149:  89%|████████▊ | 226/255 [01:22<00:10,  2.74it/s, loss=0.0885, v_num=1, train_loss=0.0527, train_accuracy=1.000, val_loss=0.189, val_accuracy=0.949]\n",
      "Validating: 0it [00:00, ?it/s]\u001b[A\n",
      "Validating:   0%|          | 0/29 [00:00<?, ?it/s]\u001b[A\n",
      "Epoch 149:  89%|████████▉ | 228/255 [01:24<00:10,  2.69it/s, loss=0.0885, v_num=1, train_loss=0.0527, train_accuracy=1.000, val_loss=0.189, val_accuracy=0.949]\n",
      "Epoch 149:  90%|█████████ | 230/255 [01:24<00:09,  2.71it/s, loss=0.0885, v_num=1, train_loss=0.0527, train_accuracy=1.000, val_loss=0.189, val_accuracy=0.949]\n",
      "Epoch 149:  91%|█████████ | 232/255 [01:25<00:08,  2.73it/s, loss=0.0885, v_num=1, train_loss=0.0527, train_accuracy=1.000, val_loss=0.189, val_accuracy=0.949]\n",
      "Epoch 149:  92%|█████████▏| 234/255 [01:25<00:07,  2.74it/s, loss=0.0885, v_num=1, train_loss=0.0527, train_accuracy=1.000, val_loss=0.189, val_accuracy=0.949]\n",
      "Epoch 149:  93%|█████████▎| 236/255 [01:25<00:06,  2.76it/s, loss=0.0885, v_num=1, train_loss=0.0527, train_accuracy=1.000, val_loss=0.189, val_accuracy=0.949]\n",
      "Epoch 149:  93%|█████████▎| 238/255 [01:25<00:06,  2.78it/s, loss=0.0885, v_num=1, train_loss=0.0527, train_accuracy=1.000, val_loss=0.189, val_accuracy=0.949]\n",
      "Epoch 149:  94%|█████████▍| 240/255 [01:25<00:05,  2.80it/s, loss=0.0885, v_num=1, train_loss=0.0527, train_accuracy=1.000, val_loss=0.189, val_accuracy=0.949]\n",
      "Epoch 149:  95%|█████████▍| 242/255 [01:25<00:04,  2.82it/s, loss=0.0885, v_num=1, train_loss=0.0527, train_accuracy=1.000, val_loss=0.189, val_accuracy=0.949]\n",
      "Epoch 149:  96%|█████████▌| 244/255 [01:26<00:03,  2.83it/s, loss=0.0885, v_num=1, train_loss=0.0527, train_accuracy=1.000, val_loss=0.189, val_accuracy=0.949]\n",
      "Epoch 149:  96%|█████████▋| 246/255 [01:26<00:03,  2.85it/s, loss=0.0885, v_num=1, train_loss=0.0527, train_accuracy=1.000, val_loss=0.189, val_accuracy=0.949]\n",
      "Epoch 149:  97%|█████████▋| 248/255 [01:26<00:02,  2.87it/s, loss=0.0885, v_num=1, train_loss=0.0527, train_accuracy=1.000, val_loss=0.189, val_accuracy=0.949]\n",
      "Epoch 149:  98%|█████████▊| 250/255 [01:26<00:01,  2.89it/s, loss=0.0885, v_num=1, train_loss=0.0527, train_accuracy=1.000, val_loss=0.189, val_accuracy=0.949]\n",
      "Epoch 149:  99%|█████████▉| 252/255 [01:26<00:01,  2.90it/s, loss=0.0885, v_num=1, train_loss=0.0527, train_accuracy=1.000, val_loss=0.189, val_accuracy=0.949]\n",
      "Epoch 149: 100%|█████████▉| 254/255 [01:26<00:00,  2.92it/s, loss=0.0885, v_num=1, train_loss=0.0527, train_accuracy=1.000, val_loss=0.189, val_accuracy=0.949]\n",
      "Epoch 149: 100%|██████████| 255/255 [01:27<00:00,  2.92it/s, loss=0.0885, v_num=1, train_loss=0.0527, train_accuracy=1.000, val_loss=0.193, val_accuracy=0.937]\n",
      "Epoch 149: 100%|██████████| 255/255 [01:27<00:00,  2.92it/s, loss=0.0885, v_num=1, train_loss=0.0527, train_accuracy=1.000, val_loss=0.193, val_accuracy=0.937]"
     ]
    },
    {
     "name": "stderr",
     "output_type": "stream",
     "text": [
      "Epoch 149, global step 33899: val_loss was not in top 2\n"
     ]
    },
    {
     "name": "stdout",
     "output_type": "stream",
     "text": [
      "Epoch 150:  89%|████████▊ | 226/255 [01:21<00:10,  2.76it/s, loss=0.0613, v_num=1, train_loss=0.0831, train_accuracy=0.944, val_loss=0.193, val_accuracy=0.937] \n",
      "Validating: 0it [00:00, ?it/s]\u001b[A\n",
      "Validating:   0%|          | 0/29 [00:00<?, ?it/s]\u001b[A\n",
      "Epoch 150:  89%|████████▉ | 228/255 [01:24<00:09,  2.71it/s, loss=0.0613, v_num=1, train_loss=0.0831, train_accuracy=0.944, val_loss=0.193, val_accuracy=0.937]\n",
      "Epoch 150:  90%|█████████ | 230/255 [01:24<00:09,  2.73it/s, loss=0.0613, v_num=1, train_loss=0.0831, train_accuracy=0.944, val_loss=0.193, val_accuracy=0.937]\n",
      "Epoch 150:  91%|█████████ | 232/255 [01:24<00:08,  2.74it/s, loss=0.0613, v_num=1, train_loss=0.0831, train_accuracy=0.944, val_loss=0.193, val_accuracy=0.937]\n",
      "Epoch 150:  92%|█████████▏| 234/255 [01:24<00:07,  2.76it/s, loss=0.0613, v_num=1, train_loss=0.0831, train_accuracy=0.944, val_loss=0.193, val_accuracy=0.937]\n",
      "Epoch 150:  93%|█████████▎| 236/255 [01:24<00:06,  2.78it/s, loss=0.0613, v_num=1, train_loss=0.0831, train_accuracy=0.944, val_loss=0.193, val_accuracy=0.937]\n",
      "Epoch 150:  93%|█████████▎| 238/255 [01:25<00:06,  2.80it/s, loss=0.0613, v_num=1, train_loss=0.0831, train_accuracy=0.944, val_loss=0.193, val_accuracy=0.937]\n",
      "Epoch 150:  94%|█████████▍| 240/255 [01:25<00:05,  2.82it/s, loss=0.0613, v_num=1, train_loss=0.0831, train_accuracy=0.944, val_loss=0.193, val_accuracy=0.937]\n",
      "Epoch 150:  95%|█████████▍| 242/255 [01:25<00:04,  2.83it/s, loss=0.0613, v_num=1, train_loss=0.0831, train_accuracy=0.944, val_loss=0.193, val_accuracy=0.937]\n",
      "Epoch 150:  96%|█████████▌| 244/255 [01:25<00:03,  2.85it/s, loss=0.0613, v_num=1, train_loss=0.0831, train_accuracy=0.944, val_loss=0.193, val_accuracy=0.937]\n",
      "Epoch 150:  96%|█████████▋| 246/255 [01:25<00:03,  2.87it/s, loss=0.0613, v_num=1, train_loss=0.0831, train_accuracy=0.944, val_loss=0.193, val_accuracy=0.937]\n",
      "Epoch 150:  97%|█████████▋| 248/255 [01:25<00:02,  2.89it/s, loss=0.0613, v_num=1, train_loss=0.0831, train_accuracy=0.944, val_loss=0.193, val_accuracy=0.937]\n",
      "Epoch 150:  98%|█████████▊| 250/255 [01:26<00:01,  2.90it/s, loss=0.0613, v_num=1, train_loss=0.0831, train_accuracy=0.944, val_loss=0.193, val_accuracy=0.937]\n",
      "Epoch 150:  99%|█████████▉| 252/255 [01:26<00:01,  2.92it/s, loss=0.0613, v_num=1, train_loss=0.0831, train_accuracy=0.944, val_loss=0.193, val_accuracy=0.937]\n",
      "Epoch 150: 100%|█████████▉| 254/255 [01:26<00:00,  2.94it/s, loss=0.0613, v_num=1, train_loss=0.0831, train_accuracy=0.944, val_loss=0.193, val_accuracy=0.937]\n",
      "Epoch 150: 100%|██████████| 255/255 [01:26<00:00,  2.93it/s, loss=0.0613, v_num=1, train_loss=0.0831, train_accuracy=0.944, val_loss=0.188, val_accuracy=0.938]\n",
      "Epoch 150: 100%|██████████| 255/255 [01:26<00:00,  2.93it/s, loss=0.0613, v_num=1, train_loss=0.0831, train_accuracy=0.944, val_loss=0.188, val_accuracy=0.938]"
     ]
    },
    {
     "name": "stderr",
     "output_type": "stream",
     "text": [
      "Epoch 150, global step 34125: val_loss was not in top 2\n"
     ]
    },
    {
     "name": "stdout",
     "output_type": "stream",
     "text": [
      "Epoch 151:  89%|████████▊ | 226/255 [01:22<00:10,  2.75it/s, loss=0.0744, v_num=1, train_loss=0.0617, train_accuracy=0.944, val_loss=0.188, val_accuracy=0.938] \n",
      "Validating: 0it [00:00, ?it/s]\u001b[A\n",
      "Validating:   0%|          | 0/29 [00:00<?, ?it/s]\u001b[A\n",
      "Epoch 151:  89%|████████▉ | 228/255 [01:24<00:10,  2.69it/s, loss=0.0744, v_num=1, train_loss=0.0617, train_accuracy=0.944, val_loss=0.188, val_accuracy=0.938]\n",
      "Epoch 151:  90%|█████████ | 230/255 [01:24<00:09,  2.71it/s, loss=0.0744, v_num=1, train_loss=0.0617, train_accuracy=0.944, val_loss=0.188, val_accuracy=0.938]\n",
      "Epoch 151:  91%|█████████ | 232/255 [01:25<00:08,  2.73it/s, loss=0.0744, v_num=1, train_loss=0.0617, train_accuracy=0.944, val_loss=0.188, val_accuracy=0.938]\n",
      "Epoch 151:  92%|█████████▏| 234/255 [01:25<00:07,  2.75it/s, loss=0.0744, v_num=1, train_loss=0.0617, train_accuracy=0.944, val_loss=0.188, val_accuracy=0.938]\n",
      "Epoch 151:  93%|█████████▎| 236/255 [01:25<00:06,  2.76it/s, loss=0.0744, v_num=1, train_loss=0.0617, train_accuracy=0.944, val_loss=0.188, val_accuracy=0.938]\n",
      "Epoch 151:  93%|█████████▎| 238/255 [01:25<00:06,  2.78it/s, loss=0.0744, v_num=1, train_loss=0.0617, train_accuracy=0.944, val_loss=0.188, val_accuracy=0.938]\n",
      "Epoch 151:  94%|█████████▍| 240/255 [01:25<00:05,  2.80it/s, loss=0.0744, v_num=1, train_loss=0.0617, train_accuracy=0.944, val_loss=0.188, val_accuracy=0.938]\n",
      "Epoch 151:  95%|█████████▍| 242/255 [01:25<00:04,  2.82it/s, loss=0.0744, v_num=1, train_loss=0.0617, train_accuracy=0.944, val_loss=0.188, val_accuracy=0.938]\n",
      "Epoch 151:  96%|█████████▌| 244/255 [01:26<00:03,  2.83it/s, loss=0.0744, v_num=1, train_loss=0.0617, train_accuracy=0.944, val_loss=0.188, val_accuracy=0.938]\n",
      "Epoch 151:  96%|█████████▋| 246/255 [01:26<00:03,  2.85it/s, loss=0.0744, v_num=1, train_loss=0.0617, train_accuracy=0.944, val_loss=0.188, val_accuracy=0.938]\n",
      "Epoch 151:  97%|█████████▋| 248/255 [01:26<00:02,  2.87it/s, loss=0.0744, v_num=1, train_loss=0.0617, train_accuracy=0.944, val_loss=0.188, val_accuracy=0.938]\n",
      "Epoch 151:  98%|█████████▊| 250/255 [01:26<00:01,  2.89it/s, loss=0.0744, v_num=1, train_loss=0.0617, train_accuracy=0.944, val_loss=0.188, val_accuracy=0.938]\n",
      "Epoch 151:  99%|█████████▉| 252/255 [01:26<00:01,  2.90it/s, loss=0.0744, v_num=1, train_loss=0.0617, train_accuracy=0.944, val_loss=0.188, val_accuracy=0.938]\n",
      "Epoch 151: 100%|█████████▉| 254/255 [01:26<00:00,  2.92it/s, loss=0.0744, v_num=1, train_loss=0.0617, train_accuracy=0.944, val_loss=0.188, val_accuracy=0.938]\n",
      "Epoch 151: 100%|██████████| 255/255 [01:27<00:00,  2.92it/s, loss=0.0744, v_num=1, train_loss=0.0617, train_accuracy=0.944, val_loss=0.192, val_accuracy=0.945]\n",
      "Epoch 151: 100%|██████████| 255/255 [01:27<00:00,  2.92it/s, loss=0.0744, v_num=1, train_loss=0.0617, train_accuracy=0.944, val_loss=0.192, val_accuracy=0.945]"
     ]
    },
    {
     "name": "stderr",
     "output_type": "stream",
     "text": [
      "Epoch 151, global step 34351: val_loss was not in top 2\n"
     ]
    },
    {
     "name": "stdout",
     "output_type": "stream",
     "text": [
      "Epoch 152:  89%|████████▊ | 226/255 [01:22<00:10,  2.75it/s, loss=0.0623, v_num=1, train_loss=0.045, train_accuracy=1.000, val_loss=0.192, val_accuracy=0.945]  \n",
      "Validating: 0it [00:00, ?it/s]\u001b[A\n",
      "Validating:   0%|          | 0/29 [00:00<?, ?it/s]\u001b[A\n",
      "Epoch 152:  89%|████████▉ | 228/255 [01:24<00:09,  2.70it/s, loss=0.0623, v_num=1, train_loss=0.045, train_accuracy=1.000, val_loss=0.192, val_accuracy=0.945]\n",
      "Epoch 152:  90%|█████████ | 230/255 [01:24<00:09,  2.72it/s, loss=0.0623, v_num=1, train_loss=0.045, train_accuracy=1.000, val_loss=0.192, val_accuracy=0.945]\n",
      "Epoch 152:  91%|█████████ | 232/255 [01:24<00:08,  2.74it/s, loss=0.0623, v_num=1, train_loss=0.045, train_accuracy=1.000, val_loss=0.192, val_accuracy=0.945]\n",
      "Epoch 152:  92%|█████████▏| 234/255 [01:24<00:07,  2.76it/s, loss=0.0623, v_num=1, train_loss=0.045, train_accuracy=1.000, val_loss=0.192, val_accuracy=0.945]\n",
      "Epoch 152:  93%|█████████▎| 236/255 [01:25<00:06,  2.77it/s, loss=0.0623, v_num=1, train_loss=0.045, train_accuracy=1.000, val_loss=0.192, val_accuracy=0.945]\n",
      "Epoch 152:  93%|█████████▎| 238/255 [01:25<00:06,  2.79it/s, loss=0.0623, v_num=1, train_loss=0.045, train_accuracy=1.000, val_loss=0.192, val_accuracy=0.945]\n",
      "Epoch 152:  94%|█████████▍| 240/255 [01:25<00:05,  2.81it/s, loss=0.0623, v_num=1, train_loss=0.045, train_accuracy=1.000, val_loss=0.192, val_accuracy=0.945]\n",
      "Epoch 152:  95%|█████████▍| 242/255 [01:25<00:04,  2.83it/s, loss=0.0623, v_num=1, train_loss=0.045, train_accuracy=1.000, val_loss=0.192, val_accuracy=0.945]\n",
      "Epoch 152:  96%|█████████▌| 244/255 [01:25<00:03,  2.85it/s, loss=0.0623, v_num=1, train_loss=0.045, train_accuracy=1.000, val_loss=0.192, val_accuracy=0.945]\n",
      "Epoch 152:  96%|█████████▋| 246/255 [01:25<00:03,  2.86it/s, loss=0.0623, v_num=1, train_loss=0.045, train_accuracy=1.000, val_loss=0.192, val_accuracy=0.945]\n",
      "Epoch 152:  97%|█████████▋| 248/255 [01:26<00:02,  2.88it/s, loss=0.0623, v_num=1, train_loss=0.045, train_accuracy=1.000, val_loss=0.192, val_accuracy=0.945]\n",
      "Epoch 152:  98%|█████████▊| 250/255 [01:26<00:01,  2.90it/s, loss=0.0623, v_num=1, train_loss=0.045, train_accuracy=1.000, val_loss=0.192, val_accuracy=0.945]\n",
      "Epoch 152:  99%|█████████▉| 252/255 [01:26<00:01,  2.91it/s, loss=0.0623, v_num=1, train_loss=0.045, train_accuracy=1.000, val_loss=0.192, val_accuracy=0.945]\n",
      "Epoch 152: 100%|█████████▉| 254/255 [01:26<00:00,  2.93it/s, loss=0.0623, v_num=1, train_loss=0.045, train_accuracy=1.000, val_loss=0.192, val_accuracy=0.945]\n",
      "Epoch 152: 100%|██████████| 255/255 [01:27<00:00,  2.93it/s, loss=0.0623, v_num=1, train_loss=0.045, train_accuracy=1.000, val_loss=0.199, val_accuracy=0.940]\n",
      "Epoch 152: 100%|██████████| 255/255 [01:27<00:00,  2.93it/s, loss=0.0623, v_num=1, train_loss=0.045, train_accuracy=1.000, val_loss=0.199, val_accuracy=0.940]"
     ]
    },
    {
     "name": "stderr",
     "output_type": "stream",
     "text": [
      "Epoch 152, global step 34577: val_loss was not in top 2\n"
     ]
    },
    {
     "name": "stdout",
     "output_type": "stream",
     "text": [
      "Epoch 153:  89%|████████▊ | 226/255 [01:21<00:10,  2.76it/s, loss=0.153, v_num=1, train_loss=0.138, train_accuracy=0.944, val_loss=0.199, val_accuracy=0.940]   \n",
      "Validating: 0it [00:00, ?it/s]\u001b[A\n",
      "Validating:   0%|          | 0/29 [00:00<?, ?it/s]\u001b[A\n",
      "Epoch 153:  89%|████████▉ | 228/255 [01:24<00:09,  2.70it/s, loss=0.153, v_num=1, train_loss=0.138, train_accuracy=0.944, val_loss=0.199, val_accuracy=0.940]\n",
      "Epoch 153:  90%|█████████ | 230/255 [01:24<00:09,  2.72it/s, loss=0.153, v_num=1, train_loss=0.138, train_accuracy=0.944, val_loss=0.199, val_accuracy=0.940]\n",
      "Epoch 153:  91%|█████████ | 232/255 [01:24<00:08,  2.74it/s, loss=0.153, v_num=1, train_loss=0.138, train_accuracy=0.944, val_loss=0.199, val_accuracy=0.940]\n",
      "Epoch 153:  92%|█████████▏| 234/255 [01:24<00:07,  2.76it/s, loss=0.153, v_num=1, train_loss=0.138, train_accuracy=0.944, val_loss=0.199, val_accuracy=0.940]\n",
      "Epoch 153:  93%|█████████▎| 236/255 [01:25<00:06,  2.78it/s, loss=0.153, v_num=1, train_loss=0.138, train_accuracy=0.944, val_loss=0.199, val_accuracy=0.940]\n",
      "Epoch 153:  93%|█████████▎| 238/255 [01:25<00:06,  2.79it/s, loss=0.153, v_num=1, train_loss=0.138, train_accuracy=0.944, val_loss=0.199, val_accuracy=0.940]\n",
      "Epoch 153:  94%|█████████▍| 240/255 [01:25<00:05,  2.81it/s, loss=0.153, v_num=1, train_loss=0.138, train_accuracy=0.944, val_loss=0.199, val_accuracy=0.940]\n",
      "Epoch 153:  95%|█████████▍| 242/255 [01:25<00:04,  2.83it/s, loss=0.153, v_num=1, train_loss=0.138, train_accuracy=0.944, val_loss=0.199, val_accuracy=0.940]\n",
      "Epoch 153:  96%|█████████▌| 244/255 [01:25<00:03,  2.85it/s, loss=0.153, v_num=1, train_loss=0.138, train_accuracy=0.944, val_loss=0.199, val_accuracy=0.940]\n",
      "Epoch 153:  96%|█████████▋| 246/255 [01:25<00:03,  2.86it/s, loss=0.153, v_num=1, train_loss=0.138, train_accuracy=0.944, val_loss=0.199, val_accuracy=0.940]\n",
      "Epoch 153:  97%|█████████▋| 248/255 [01:26<00:02,  2.88it/s, loss=0.153, v_num=1, train_loss=0.138, train_accuracy=0.944, val_loss=0.199, val_accuracy=0.940]\n",
      "Epoch 153:  98%|█████████▊| 250/255 [01:26<00:01,  2.90it/s, loss=0.153, v_num=1, train_loss=0.138, train_accuracy=0.944, val_loss=0.199, val_accuracy=0.940]\n",
      "Epoch 153:  99%|█████████▉| 252/255 [01:26<00:01,  2.92it/s, loss=0.153, v_num=1, train_loss=0.138, train_accuracy=0.944, val_loss=0.199, val_accuracy=0.940]\n",
      "Epoch 153: 100%|█████████▉| 254/255 [01:26<00:00,  2.93it/s, loss=0.153, v_num=1, train_loss=0.138, train_accuracy=0.944, val_loss=0.199, val_accuracy=0.940]\n",
      "Epoch 153: 100%|██████████| 255/255 [01:27<00:00,  2.93it/s, loss=0.153, v_num=1, train_loss=0.138, train_accuracy=0.944, val_loss=0.235, val_accuracy=0.939]\n",
      "Epoch 153: 100%|██████████| 255/255 [01:27<00:00,  2.93it/s, loss=0.153, v_num=1, train_loss=0.138, train_accuracy=0.944, val_loss=0.235, val_accuracy=0.939]"
     ]
    },
    {
     "name": "stderr",
     "output_type": "stream",
     "text": [
      "Epoch 153, global step 34803: val_loss was not in top 2\n"
     ]
    },
    {
     "name": "stdout",
     "output_type": "stream",
     "text": [
      "Epoch 154:  89%|████████▊ | 226/255 [01:21<00:10,  2.76it/s, loss=0.0548, v_num=1, train_loss=0.00459, train_accuracy=1.000, val_loss=0.235, val_accuracy=0.939]\n",
      "Validating: 0it [00:00, ?it/s]\u001b[A\n",
      "Validating:   0%|          | 0/29 [00:00<?, ?it/s]\u001b[A\n",
      "Epoch 154:  89%|████████▉ | 228/255 [01:24<00:09,  2.70it/s, loss=0.0548, v_num=1, train_loss=0.00459, train_accuracy=1.000, val_loss=0.235, val_accuracy=0.939]\n",
      "Epoch 154:  90%|█████████ | 230/255 [01:24<00:09,  2.72it/s, loss=0.0548, v_num=1, train_loss=0.00459, train_accuracy=1.000, val_loss=0.235, val_accuracy=0.939]\n",
      "Epoch 154:  91%|█████████ | 232/255 [01:24<00:08,  2.74it/s, loss=0.0548, v_num=1, train_loss=0.00459, train_accuracy=1.000, val_loss=0.235, val_accuracy=0.939]\n",
      "Epoch 154:  92%|█████████▏| 234/255 [01:24<00:07,  2.76it/s, loss=0.0548, v_num=1, train_loss=0.00459, train_accuracy=1.000, val_loss=0.235, val_accuracy=0.939]\n",
      "Epoch 154:  93%|█████████▎| 236/255 [01:25<00:06,  2.78it/s, loss=0.0548, v_num=1, train_loss=0.00459, train_accuracy=1.000, val_loss=0.235, val_accuracy=0.939]\n",
      "Epoch 154:  93%|█████████▎| 238/255 [01:25<00:06,  2.79it/s, loss=0.0548, v_num=1, train_loss=0.00459, train_accuracy=1.000, val_loss=0.235, val_accuracy=0.939]\n",
      "Epoch 154:  94%|█████████▍| 240/255 [01:25<00:05,  2.81it/s, loss=0.0548, v_num=1, train_loss=0.00459, train_accuracy=1.000, val_loss=0.235, val_accuracy=0.939]\n",
      "Epoch 154:  95%|█████████▍| 242/255 [01:25<00:04,  2.83it/s, loss=0.0548, v_num=1, train_loss=0.00459, train_accuracy=1.000, val_loss=0.235, val_accuracy=0.939]\n",
      "Epoch 154:  96%|█████████▌| 244/255 [01:25<00:03,  2.85it/s, loss=0.0548, v_num=1, train_loss=0.00459, train_accuracy=1.000, val_loss=0.235, val_accuracy=0.939]\n",
      "Epoch 154:  96%|█████████▋| 246/255 [01:25<00:03,  2.86it/s, loss=0.0548, v_num=1, train_loss=0.00459, train_accuracy=1.000, val_loss=0.235, val_accuracy=0.939]\n",
      "Epoch 154:  97%|█████████▋| 248/255 [01:26<00:02,  2.88it/s, loss=0.0548, v_num=1, train_loss=0.00459, train_accuracy=1.000, val_loss=0.235, val_accuracy=0.939]\n",
      "Epoch 154:  98%|█████████▊| 250/255 [01:26<00:01,  2.90it/s, loss=0.0548, v_num=1, train_loss=0.00459, train_accuracy=1.000, val_loss=0.235, val_accuracy=0.939]\n",
      "Epoch 154:  99%|█████████▉| 252/255 [01:26<00:01,  2.92it/s, loss=0.0548, v_num=1, train_loss=0.00459, train_accuracy=1.000, val_loss=0.235, val_accuracy=0.939]\n",
      "Epoch 154: 100%|█████████▉| 254/255 [01:26<00:00,  2.94it/s, loss=0.0548, v_num=1, train_loss=0.00459, train_accuracy=1.000, val_loss=0.235, val_accuracy=0.939]\n",
      "Epoch 154: 100%|██████████| 255/255 [01:27<00:00,  2.93it/s, loss=0.0548, v_num=1, train_loss=0.00459, train_accuracy=1.000, val_loss=0.189, val_accuracy=0.940]\n",
      "Epoch 154: 100%|██████████| 255/255 [01:27<00:00,  2.93it/s, loss=0.0548, v_num=1, train_loss=0.00459, train_accuracy=1.000, val_loss=0.189, val_accuracy=0.940]"
     ]
    },
    {
     "name": "stderr",
     "output_type": "stream",
     "text": [
      "Epoch 154, global step 35029: val_loss was not in top 2\n"
     ]
    },
    {
     "name": "stdout",
     "output_type": "stream",
     "text": [
      "Epoch 155:  89%|████████▊ | 226/255 [01:22<00:10,  2.75it/s, loss=0.0585, v_num=1, train_loss=0.00521, train_accuracy=1.000, val_loss=0.189, val_accuracy=0.940]\n",
      "Validating: 0it [00:00, ?it/s]\u001b[A\n",
      "Validating:   0%|          | 0/29 [00:00<?, ?it/s]\u001b[A\n",
      "Epoch 155:  89%|████████▉ | 228/255 [01:24<00:10,  2.70it/s, loss=0.0585, v_num=1, train_loss=0.00521, train_accuracy=1.000, val_loss=0.189, val_accuracy=0.940]\n",
      "Epoch 155:  90%|█████████ | 230/255 [01:24<00:09,  2.71it/s, loss=0.0585, v_num=1, train_loss=0.00521, train_accuracy=1.000, val_loss=0.189, val_accuracy=0.940]\n",
      "Validating:  14%|█▍        | 4/29 [00:02<00:11,  2.11it/s]\u001b[A\n",
      "Epoch 155:  91%|█████████ | 232/255 [01:24<00:08,  2.73it/s, loss=0.0585, v_num=1, train_loss=0.00521, train_accuracy=1.000, val_loss=0.189, val_accuracy=0.940]\n",
      "Epoch 155:  92%|█████████▏| 234/255 [01:25<00:07,  2.75it/s, loss=0.0585, v_num=1, train_loss=0.00521, train_accuracy=1.000, val_loss=0.189, val_accuracy=0.940]\n",
      "Epoch 155:  93%|█████████▎| 236/255 [01:25<00:06,  2.77it/s, loss=0.0585, v_num=1, train_loss=0.00521, train_accuracy=1.000, val_loss=0.189, val_accuracy=0.940]\n",
      "Epoch 155:  93%|█████████▎| 238/255 [01:25<00:06,  2.78it/s, loss=0.0585, v_num=1, train_loss=0.00521, train_accuracy=1.000, val_loss=0.189, val_accuracy=0.940]\n",
      "Epoch 155:  94%|█████████▍| 240/255 [01:25<00:05,  2.80it/s, loss=0.0585, v_num=1, train_loss=0.00521, train_accuracy=1.000, val_loss=0.189, val_accuracy=0.940]\n",
      "Epoch 155:  95%|█████████▍| 242/255 [01:25<00:04,  2.82it/s, loss=0.0585, v_num=1, train_loss=0.00521, train_accuracy=1.000, val_loss=0.189, val_accuracy=0.940]\n",
      "Epoch 155:  96%|█████████▌| 244/255 [01:25<00:03,  2.84it/s, loss=0.0585, v_num=1, train_loss=0.00521, train_accuracy=1.000, val_loss=0.189, val_accuracy=0.940]\n",
      "Epoch 155:  96%|█████████▋| 246/255 [01:26<00:03,  2.86it/s, loss=0.0585, v_num=1, train_loss=0.00521, train_accuracy=1.000, val_loss=0.189, val_accuracy=0.940]\n",
      "Epoch 155:  97%|█████████▋| 248/255 [01:26<00:02,  2.87it/s, loss=0.0585, v_num=1, train_loss=0.00521, train_accuracy=1.000, val_loss=0.189, val_accuracy=0.940]\n",
      "Epoch 155:  98%|█████████▊| 250/255 [01:26<00:01,  2.89it/s, loss=0.0585, v_num=1, train_loss=0.00521, train_accuracy=1.000, val_loss=0.189, val_accuracy=0.940]\n",
      "Epoch 155:  99%|█████████▉| 252/255 [01:26<00:01,  2.91it/s, loss=0.0585, v_num=1, train_loss=0.00521, train_accuracy=1.000, val_loss=0.189, val_accuracy=0.940]\n",
      "Epoch 155: 100%|█████████▉| 254/255 [01:26<00:00,  2.93it/s, loss=0.0585, v_num=1, train_loss=0.00521, train_accuracy=1.000, val_loss=0.189, val_accuracy=0.940]\n",
      "Epoch 155: 100%|██████████| 255/255 [01:27<00:00,  2.92it/s, loss=0.0585, v_num=1, train_loss=0.00521, train_accuracy=1.000, val_loss=0.187, val_accuracy=0.945]\n",
      "Epoch 155: 100%|██████████| 255/255 [01:27<00:00,  2.92it/s, loss=0.0585, v_num=1, train_loss=0.00521, train_accuracy=1.000, val_loss=0.187, val_accuracy=0.945]"
     ]
    },
    {
     "name": "stderr",
     "output_type": "stream",
     "text": [
      "Epoch 155, global step 35255: val_loss was not in top 2\n"
     ]
    },
    {
     "name": "stdout",
     "output_type": "stream",
     "text": [
      "Epoch 156:  89%|████████▊ | 226/255 [01:21<00:10,  2.76it/s, loss=0.0559, v_num=1, train_loss=0.0077, train_accuracy=1.000, val_loss=0.187, val_accuracy=0.945] \n",
      "Validating: 0it [00:00, ?it/s]\u001b[A\n",
      "Validating:   0%|          | 0/29 [00:00<?, ?it/s]\u001b[A\n",
      "Epoch 156:  89%|████████▉ | 228/255 [01:24<00:09,  2.71it/s, loss=0.0559, v_num=1, train_loss=0.0077, train_accuracy=1.000, val_loss=0.187, val_accuracy=0.945]\n",
      "Epoch 156:  90%|█████████ | 230/255 [01:24<00:09,  2.72it/s, loss=0.0559, v_num=1, train_loss=0.0077, train_accuracy=1.000, val_loss=0.187, val_accuracy=0.945]\n",
      "Epoch 156:  91%|█████████ | 232/255 [01:24<00:08,  2.74it/s, loss=0.0559, v_num=1, train_loss=0.0077, train_accuracy=1.000, val_loss=0.187, val_accuracy=0.945]\n",
      "Epoch 156:  92%|█████████▏| 234/255 [01:24<00:07,  2.76it/s, loss=0.0559, v_num=1, train_loss=0.0077, train_accuracy=1.000, val_loss=0.187, val_accuracy=0.945]\n",
      "Epoch 156:  93%|█████████▎| 236/255 [01:24<00:06,  2.78it/s, loss=0.0559, v_num=1, train_loss=0.0077, train_accuracy=1.000, val_loss=0.187, val_accuracy=0.945]\n",
      "Epoch 156:  93%|█████████▎| 238/255 [01:25<00:06,  2.80it/s, loss=0.0559, v_num=1, train_loss=0.0077, train_accuracy=1.000, val_loss=0.187, val_accuracy=0.945]\n",
      "Epoch 156:  94%|█████████▍| 240/255 [01:25<00:05,  2.81it/s, loss=0.0559, v_num=1, train_loss=0.0077, train_accuracy=1.000, val_loss=0.187, val_accuracy=0.945]\n",
      "Epoch 156:  95%|█████████▍| 242/255 [01:25<00:04,  2.83it/s, loss=0.0559, v_num=1, train_loss=0.0077, train_accuracy=1.000, val_loss=0.187, val_accuracy=0.945]\n",
      "Epoch 156:  96%|█████████▌| 244/255 [01:25<00:03,  2.85it/s, loss=0.0559, v_num=1, train_loss=0.0077, train_accuracy=1.000, val_loss=0.187, val_accuracy=0.945]\n",
      "Epoch 156:  96%|█████████▋| 246/255 [01:25<00:03,  2.87it/s, loss=0.0559, v_num=1, train_loss=0.0077, train_accuracy=1.000, val_loss=0.187, val_accuracy=0.945]\n",
      "Epoch 156:  97%|█████████▋| 248/255 [01:25<00:02,  2.88it/s, loss=0.0559, v_num=1, train_loss=0.0077, train_accuracy=1.000, val_loss=0.187, val_accuracy=0.945]\n",
      "Epoch 156:  98%|█████████▊| 250/255 [01:26<00:01,  2.90it/s, loss=0.0559, v_num=1, train_loss=0.0077, train_accuracy=1.000, val_loss=0.187, val_accuracy=0.945]\n",
      "Epoch 156:  99%|█████████▉| 252/255 [01:26<00:01,  2.92it/s, loss=0.0559, v_num=1, train_loss=0.0077, train_accuracy=1.000, val_loss=0.187, val_accuracy=0.945]\n",
      "Epoch 156: 100%|█████████▉| 254/255 [01:26<00:00,  2.93it/s, loss=0.0559, v_num=1, train_loss=0.0077, train_accuracy=1.000, val_loss=0.187, val_accuracy=0.945]\n",
      "Epoch 156: 100%|██████████| 255/255 [01:27<00:00,  2.93it/s, loss=0.0559, v_num=1, train_loss=0.0077, train_accuracy=1.000, val_loss=0.254, val_accuracy=0.934]\n",
      "Epoch 156: 100%|██████████| 255/255 [01:27<00:00,  2.93it/s, loss=0.0559, v_num=1, train_loss=0.0077, train_accuracy=1.000, val_loss=0.254, val_accuracy=0.934]"
     ]
    },
    {
     "name": "stderr",
     "output_type": "stream",
     "text": [
      "Epoch 156, global step 35481: val_loss was not in top 2\n"
     ]
    },
    {
     "name": "stdout",
     "output_type": "stream",
     "text": [
      "Epoch 157:  89%|████████▊ | 226/255 [01:22<00:10,  2.75it/s, loss=0.0496, v_num=1, train_loss=0.0798, train_accuracy=0.944, val_loss=0.254, val_accuracy=0.934] \n",
      "Validating: 0it [00:00, ?it/s]\u001b[A\n",
      "Validating:   0%|          | 0/29 [00:00<?, ?it/s]\u001b[A\n",
      "Epoch 157:  89%|████████▉ | 228/255 [01:24<00:10,  2.70it/s, loss=0.0496, v_num=1, train_loss=0.0798, train_accuracy=0.944, val_loss=0.254, val_accuracy=0.934]\n",
      "Epoch 157:  90%|█████████ | 230/255 [01:24<00:09,  2.71it/s, loss=0.0496, v_num=1, train_loss=0.0798, train_accuracy=0.944, val_loss=0.254, val_accuracy=0.934]\n",
      "Epoch 157:  91%|█████████ | 232/255 [01:24<00:08,  2.73it/s, loss=0.0496, v_num=1, train_loss=0.0798, train_accuracy=0.944, val_loss=0.254, val_accuracy=0.934]\n",
      "Epoch 157:  92%|█████████▏| 234/255 [01:25<00:07,  2.75it/s, loss=0.0496, v_num=1, train_loss=0.0798, train_accuracy=0.944, val_loss=0.254, val_accuracy=0.934]\n",
      "Epoch 157:  93%|█████████▎| 236/255 [01:25<00:06,  2.77it/s, loss=0.0496, v_num=1, train_loss=0.0798, train_accuracy=0.944, val_loss=0.254, val_accuracy=0.934]\n",
      "Epoch 157:  93%|█████████▎| 238/255 [01:25<00:06,  2.79it/s, loss=0.0496, v_num=1, train_loss=0.0798, train_accuracy=0.944, val_loss=0.254, val_accuracy=0.934]\n",
      "Epoch 157:  94%|█████████▍| 240/255 [01:25<00:05,  2.80it/s, loss=0.0496, v_num=1, train_loss=0.0798, train_accuracy=0.944, val_loss=0.254, val_accuracy=0.934]\n",
      "Epoch 157:  95%|█████████▍| 242/255 [01:25<00:04,  2.82it/s, loss=0.0496, v_num=1, train_loss=0.0798, train_accuracy=0.944, val_loss=0.254, val_accuracy=0.934]\n",
      "Epoch 157:  96%|█████████▌| 244/255 [01:25<00:03,  2.84it/s, loss=0.0496, v_num=1, train_loss=0.0798, train_accuracy=0.944, val_loss=0.254, val_accuracy=0.934]\n",
      "Epoch 157:  96%|█████████▋| 246/255 [01:26<00:03,  2.86it/s, loss=0.0496, v_num=1, train_loss=0.0798, train_accuracy=0.944, val_loss=0.254, val_accuracy=0.934]\n",
      "Epoch 157:  97%|█████████▋| 248/255 [01:26<00:02,  2.87it/s, loss=0.0496, v_num=1, train_loss=0.0798, train_accuracy=0.944, val_loss=0.254, val_accuracy=0.934]\n",
      "Epoch 157:  98%|█████████▊| 250/255 [01:26<00:01,  2.89it/s, loss=0.0496, v_num=1, train_loss=0.0798, train_accuracy=0.944, val_loss=0.254, val_accuracy=0.934]\n",
      "Epoch 157:  99%|█████████▉| 252/255 [01:26<00:01,  2.91it/s, loss=0.0496, v_num=1, train_loss=0.0798, train_accuracy=0.944, val_loss=0.254, val_accuracy=0.934]\n",
      "Epoch 157: 100%|█████████▉| 254/255 [01:26<00:00,  2.93it/s, loss=0.0496, v_num=1, train_loss=0.0798, train_accuracy=0.944, val_loss=0.254, val_accuracy=0.934]\n",
      "Epoch 157: 100%|██████████| 255/255 [01:27<00:00,  2.92it/s, loss=0.0496, v_num=1, train_loss=0.0798, train_accuracy=0.944, val_loss=0.182, val_accuracy=0.946]\n",
      "Epoch 157: 100%|██████████| 255/255 [01:27<00:00,  2.92it/s, loss=0.0496, v_num=1, train_loss=0.0798, train_accuracy=0.944, val_loss=0.182, val_accuracy=0.946]"
     ]
    },
    {
     "name": "stderr",
     "output_type": "stream",
     "text": [
      "Epoch 157, global step 35707: val_loss was not in top 2\n"
     ]
    },
    {
     "name": "stdout",
     "output_type": "stream",
     "text": [
      "Epoch 158:  89%|████████▊ | 226/255 [01:22<00:10,  2.75it/s, loss=0.0671, v_num=1, train_loss=0.0105, train_accuracy=1.000, val_loss=0.182, val_accuracy=0.946] \n",
      "Validating: 0it [00:00, ?it/s]\u001b[A\n",
      "Validating:   0%|          | 0/29 [00:00<?, ?it/s]\u001b[A\n",
      "Epoch 158:  89%|████████▉ | 228/255 [01:24<00:09,  2.70it/s, loss=0.0671, v_num=1, train_loss=0.0105, train_accuracy=1.000, val_loss=0.182, val_accuracy=0.946]\n",
      "Epoch 158:  90%|█████████ | 230/255 [01:24<00:09,  2.72it/s, loss=0.0671, v_num=1, train_loss=0.0105, train_accuracy=1.000, val_loss=0.182, val_accuracy=0.946]\n",
      "Epoch 158:  91%|█████████ | 232/255 [01:24<00:08,  2.74it/s, loss=0.0671, v_num=1, train_loss=0.0105, train_accuracy=1.000, val_loss=0.182, val_accuracy=0.946]\n",
      "Epoch 158:  92%|█████████▏| 234/255 [01:24<00:07,  2.75it/s, loss=0.0671, v_num=1, train_loss=0.0105, train_accuracy=1.000, val_loss=0.182, val_accuracy=0.946]\n",
      "Epoch 158:  93%|█████████▎| 236/255 [01:25<00:06,  2.77it/s, loss=0.0671, v_num=1, train_loss=0.0105, train_accuracy=1.000, val_loss=0.182, val_accuracy=0.946]\n",
      "Epoch 158:  93%|█████████▎| 238/255 [01:25<00:06,  2.79it/s, loss=0.0671, v_num=1, train_loss=0.0105, train_accuracy=1.000, val_loss=0.182, val_accuracy=0.946]\n",
      "Epoch 158:  94%|█████████▍| 240/255 [01:25<00:05,  2.81it/s, loss=0.0671, v_num=1, train_loss=0.0105, train_accuracy=1.000, val_loss=0.182, val_accuracy=0.946]\n",
      "Epoch 158:  95%|█████████▍| 242/255 [01:25<00:04,  2.83it/s, loss=0.0671, v_num=1, train_loss=0.0105, train_accuracy=1.000, val_loss=0.182, val_accuracy=0.946]\n",
      "Epoch 158:  96%|█████████▌| 244/255 [01:25<00:03,  2.84it/s, loss=0.0671, v_num=1, train_loss=0.0105, train_accuracy=1.000, val_loss=0.182, val_accuracy=0.946]\n",
      "Epoch 158:  96%|█████████▋| 246/255 [01:26<00:03,  2.86it/s, loss=0.0671, v_num=1, train_loss=0.0105, train_accuracy=1.000, val_loss=0.182, val_accuracy=0.946]\n",
      "Epoch 158:  97%|█████████▋| 248/255 [01:26<00:02,  2.88it/s, loss=0.0671, v_num=1, train_loss=0.0105, train_accuracy=1.000, val_loss=0.182, val_accuracy=0.946]\n",
      "Epoch 158:  98%|█████████▊| 250/255 [01:26<00:01,  2.90it/s, loss=0.0671, v_num=1, train_loss=0.0105, train_accuracy=1.000, val_loss=0.182, val_accuracy=0.946]\n",
      "Epoch 158:  99%|█████████▉| 252/255 [01:26<00:01,  2.91it/s, loss=0.0671, v_num=1, train_loss=0.0105, train_accuracy=1.000, val_loss=0.182, val_accuracy=0.946]\n",
      "Epoch 158: 100%|█████████▉| 254/255 [01:26<00:00,  2.93it/s, loss=0.0671, v_num=1, train_loss=0.0105, train_accuracy=1.000, val_loss=0.182, val_accuracy=0.946]\n",
      "Epoch 158: 100%|██████████| 255/255 [01:27<00:00,  2.92it/s, loss=0.0671, v_num=1, train_loss=0.0105, train_accuracy=1.000, val_loss=0.169, val_accuracy=0.946]\n",
      "Epoch 158: 100%|██████████| 255/255 [01:27<00:00,  2.92it/s, loss=0.0671, v_num=1, train_loss=0.0105, train_accuracy=1.000, val_loss=0.169, val_accuracy=0.946]"
     ]
    },
    {
     "name": "stderr",
     "output_type": "stream",
     "text": [
      "Epoch 158, global step 35933: val_loss reached 0.16947 (best 0.16747), saving model to \"/Workspace/code/checkpoints/best-checkpoint-corr-random-20-v6.ckpt\" as top 2\n"
     ]
    },
    {
     "name": "stdout",
     "output_type": "stream",
     "text": [
      "Epoch 159:  89%|████████▊ | 226/255 [01:22<00:10,  2.74it/s, loss=0.0462, v_num=1, train_loss=0.00455, train_accuracy=1.000, val_loss=0.169, val_accuracy=0.946]\n",
      "Validating: 0it [00:00, ?it/s]\u001b[A\n",
      "Validating:   0%|          | 0/29 [00:00<?, ?it/s]\u001b[A\n",
      "Epoch 159:  89%|████████▉ | 228/255 [01:24<00:10,  2.69it/s, loss=0.0462, v_num=1, train_loss=0.00455, train_accuracy=1.000, val_loss=0.169, val_accuracy=0.946]\n",
      "Epoch 159:  90%|█████████ | 230/255 [01:24<00:09,  2.71it/s, loss=0.0462, v_num=1, train_loss=0.00455, train_accuracy=1.000, val_loss=0.169, val_accuracy=0.946]\n",
      "Epoch 159:  91%|█████████ | 232/255 [01:25<00:08,  2.73it/s, loss=0.0462, v_num=1, train_loss=0.00455, train_accuracy=1.000, val_loss=0.169, val_accuracy=0.946]\n",
      "Epoch 159:  92%|█████████▏| 234/255 [01:25<00:07,  2.74it/s, loss=0.0462, v_num=1, train_loss=0.00455, train_accuracy=1.000, val_loss=0.169, val_accuracy=0.946]\n",
      "Epoch 159:  93%|█████████▎| 236/255 [01:25<00:06,  2.76it/s, loss=0.0462, v_num=1, train_loss=0.00455, train_accuracy=1.000, val_loss=0.169, val_accuracy=0.946]\n",
      "Epoch 159:  93%|█████████▎| 238/255 [01:25<00:06,  2.78it/s, loss=0.0462, v_num=1, train_loss=0.00455, train_accuracy=1.000, val_loss=0.169, val_accuracy=0.946]\n",
      "Epoch 159:  94%|█████████▍| 240/255 [01:25<00:05,  2.80it/s, loss=0.0462, v_num=1, train_loss=0.00455, train_accuracy=1.000, val_loss=0.169, val_accuracy=0.946]\n",
      "Epoch 159:  95%|█████████▍| 242/255 [01:26<00:04,  2.81it/s, loss=0.0462, v_num=1, train_loss=0.00455, train_accuracy=1.000, val_loss=0.169, val_accuracy=0.946]\n",
      "Epoch 159:  96%|█████████▌| 244/255 [01:26<00:03,  2.83it/s, loss=0.0462, v_num=1, train_loss=0.00455, train_accuracy=1.000, val_loss=0.169, val_accuracy=0.946]\n",
      "Epoch 159:  96%|█████████▋| 246/255 [01:26<00:03,  2.85it/s, loss=0.0462, v_num=1, train_loss=0.00455, train_accuracy=1.000, val_loss=0.169, val_accuracy=0.946]\n",
      "Epoch 159:  97%|█████████▋| 248/255 [01:26<00:02,  2.87it/s, loss=0.0462, v_num=1, train_loss=0.00455, train_accuracy=1.000, val_loss=0.169, val_accuracy=0.946]\n",
      "Epoch 159:  98%|█████████▊| 250/255 [01:26<00:01,  2.88it/s, loss=0.0462, v_num=1, train_loss=0.00455, train_accuracy=1.000, val_loss=0.169, val_accuracy=0.946]\n",
      "Epoch 159:  99%|█████████▉| 252/255 [01:26<00:01,  2.90it/s, loss=0.0462, v_num=1, train_loss=0.00455, train_accuracy=1.000, val_loss=0.169, val_accuracy=0.946]\n",
      "Epoch 159: 100%|█████████▉| 254/255 [01:27<00:00,  2.92it/s, loss=0.0462, v_num=1, train_loss=0.00455, train_accuracy=1.000, val_loss=0.169, val_accuracy=0.946]\n",
      "Epoch 159: 100%|██████████| 255/255 [01:27<00:00,  2.91it/s, loss=0.0462, v_num=1, train_loss=0.00455, train_accuracy=1.000, val_loss=0.179, val_accuracy=0.948]\n",
      "Epoch 159: 100%|██████████| 255/255 [01:27<00:00,  2.91it/s, loss=0.0462, v_num=1, train_loss=0.00455, train_accuracy=1.000, val_loss=0.179, val_accuracy=0.948]"
     ]
    },
    {
     "name": "stderr",
     "output_type": "stream",
     "text": [
      "Epoch 159, global step 36159: val_loss was not in top 2\n"
     ]
    },
    {
     "name": "stdout",
     "output_type": "stream",
     "text": [
      "Epoch 160:  89%|████████▊ | 226/255 [01:22<00:10,  2.74it/s, loss=0.056, v_num=1, train_loss=0.0337, train_accuracy=1.000, val_loss=0.179, val_accuracy=0.948]  \n",
      "Validating: 0it [00:00, ?it/s]\u001b[A\n",
      "Validating:   0%|          | 0/29 [00:00<?, ?it/s]\u001b[A\n",
      "Epoch 160:  89%|████████▉ | 228/255 [01:24<00:10,  2.69it/s, loss=0.056, v_num=1, train_loss=0.0337, train_accuracy=1.000, val_loss=0.179, val_accuracy=0.948]\n",
      "Epoch 160:  90%|█████████ | 230/255 [01:25<00:09,  2.70it/s, loss=0.056, v_num=1, train_loss=0.0337, train_accuracy=1.000, val_loss=0.179, val_accuracy=0.948]\n",
      "Epoch 160:  91%|█████████ | 232/255 [01:25<00:08,  2.72it/s, loss=0.056, v_num=1, train_loss=0.0337, train_accuracy=1.000, val_loss=0.179, val_accuracy=0.948]\n",
      "Epoch 160:  92%|█████████▏| 234/255 [01:25<00:07,  2.74it/s, loss=0.056, v_num=1, train_loss=0.0337, train_accuracy=1.000, val_loss=0.179, val_accuracy=0.948]\n",
      "Epoch 160:  93%|█████████▎| 236/255 [01:25<00:06,  2.76it/s, loss=0.056, v_num=1, train_loss=0.0337, train_accuracy=1.000, val_loss=0.179, val_accuracy=0.948]\n",
      "Epoch 160:  93%|█████████▎| 238/255 [01:25<00:06,  2.78it/s, loss=0.056, v_num=1, train_loss=0.0337, train_accuracy=1.000, val_loss=0.179, val_accuracy=0.948]\n",
      "Epoch 160:  94%|█████████▍| 240/255 [01:25<00:05,  2.79it/s, loss=0.056, v_num=1, train_loss=0.0337, train_accuracy=1.000, val_loss=0.179, val_accuracy=0.948]\n",
      "Epoch 160:  95%|█████████▍| 242/255 [01:26<00:04,  2.81it/s, loss=0.056, v_num=1, train_loss=0.0337, train_accuracy=1.000, val_loss=0.179, val_accuracy=0.948]\n",
      "Epoch 160:  96%|█████████▌| 244/255 [01:26<00:03,  2.83it/s, loss=0.056, v_num=1, train_loss=0.0337, train_accuracy=1.000, val_loss=0.179, val_accuracy=0.948]\n",
      "Epoch 160:  96%|█████████▋| 246/255 [01:26<00:03,  2.85it/s, loss=0.056, v_num=1, train_loss=0.0337, train_accuracy=1.000, val_loss=0.179, val_accuracy=0.948]\n",
      "Epoch 160:  97%|█████████▋| 248/255 [01:26<00:02,  2.86it/s, loss=0.056, v_num=1, train_loss=0.0337, train_accuracy=1.000, val_loss=0.179, val_accuracy=0.948]\n",
      "Epoch 160:  98%|█████████▊| 250/255 [01:26<00:01,  2.88it/s, loss=0.056, v_num=1, train_loss=0.0337, train_accuracy=1.000, val_loss=0.179, val_accuracy=0.948]\n",
      "Epoch 160:  99%|█████████▉| 252/255 [01:26<00:01,  2.90it/s, loss=0.056, v_num=1, train_loss=0.0337, train_accuracy=1.000, val_loss=0.179, val_accuracy=0.948]\n",
      "Epoch 160: 100%|█████████▉| 254/255 [01:27<00:00,  2.91it/s, loss=0.056, v_num=1, train_loss=0.0337, train_accuracy=1.000, val_loss=0.179, val_accuracy=0.948]\n",
      "Epoch 160: 100%|██████████| 255/255 [01:27<00:00,  2.91it/s, loss=0.056, v_num=1, train_loss=0.0337, train_accuracy=1.000, val_loss=0.169, val_accuracy=0.950]\n",
      "Epoch 160: 100%|██████████| 255/255 [01:27<00:00,  2.91it/s, loss=0.056, v_num=1, train_loss=0.0337, train_accuracy=1.000, val_loss=0.169, val_accuracy=0.950]"
     ]
    },
    {
     "name": "stderr",
     "output_type": "stream",
     "text": [
      "Epoch 160, global step 36385: val_loss reached 0.16892 (best 0.16747), saving model to \"/Workspace/code/checkpoints/best-checkpoint-corr-random-20-v6.ckpt\" as top 2\n"
     ]
    },
    {
     "name": "stdout",
     "output_type": "stream",
     "text": [
      "Epoch 161:  89%|████████▊ | 226/255 [01:22<00:10,  2.74it/s, loss=0.0687, v_num=1, train_loss=0.0107, train_accuracy=1.000, val_loss=0.169, val_accuracy=0.950] \n",
      "Validating: 0it [00:00, ?it/s]\u001b[A\n",
      "Validating:   0%|          | 0/29 [00:00<?, ?it/s]\u001b[A\n",
      "Epoch 161:  89%|████████▉ | 228/255 [01:24<00:10,  2.69it/s, loss=0.0687, v_num=1, train_loss=0.0107, train_accuracy=1.000, val_loss=0.169, val_accuracy=0.950]\n",
      "Epoch 161:  90%|█████████ | 230/255 [01:25<00:09,  2.71it/s, loss=0.0687, v_num=1, train_loss=0.0107, train_accuracy=1.000, val_loss=0.169, val_accuracy=0.950]\n",
      "Epoch 161:  91%|█████████ | 232/255 [01:25<00:08,  2.72it/s, loss=0.0687, v_num=1, train_loss=0.0107, train_accuracy=1.000, val_loss=0.169, val_accuracy=0.950]\n",
      "Epoch 161:  92%|█████████▏| 234/255 [01:25<00:07,  2.74it/s, loss=0.0687, v_num=1, train_loss=0.0107, train_accuracy=1.000, val_loss=0.169, val_accuracy=0.950]\n",
      "Epoch 161:  93%|█████████▎| 236/255 [01:25<00:06,  2.76it/s, loss=0.0687, v_num=1, train_loss=0.0107, train_accuracy=1.000, val_loss=0.169, val_accuracy=0.950]\n",
      "Epoch 161:  93%|█████████▎| 238/255 [01:25<00:06,  2.78it/s, loss=0.0687, v_num=1, train_loss=0.0107, train_accuracy=1.000, val_loss=0.169, val_accuracy=0.950]\n",
      "Epoch 161:  94%|█████████▍| 240/255 [01:25<00:05,  2.80it/s, loss=0.0687, v_num=1, train_loss=0.0107, train_accuracy=1.000, val_loss=0.169, val_accuracy=0.950]\n",
      "Epoch 161:  95%|█████████▍| 242/255 [01:26<00:04,  2.81it/s, loss=0.0687, v_num=1, train_loss=0.0107, train_accuracy=1.000, val_loss=0.169, val_accuracy=0.950]\n",
      "Epoch 161:  96%|█████████▌| 244/255 [01:26<00:03,  2.83it/s, loss=0.0687, v_num=1, train_loss=0.0107, train_accuracy=1.000, val_loss=0.169, val_accuracy=0.950]\n",
      "Epoch 161:  96%|█████████▋| 246/255 [01:26<00:03,  2.85it/s, loss=0.0687, v_num=1, train_loss=0.0107, train_accuracy=1.000, val_loss=0.169, val_accuracy=0.950]\n",
      "Epoch 161:  97%|█████████▋| 248/255 [01:26<00:02,  2.87it/s, loss=0.0687, v_num=1, train_loss=0.0107, train_accuracy=1.000, val_loss=0.169, val_accuracy=0.950]\n",
      "Epoch 161:  98%|█████████▊| 250/255 [01:26<00:01,  2.88it/s, loss=0.0687, v_num=1, train_loss=0.0107, train_accuracy=1.000, val_loss=0.169, val_accuracy=0.950]\n",
      "Epoch 161:  99%|█████████▉| 252/255 [01:26<00:01,  2.90it/s, loss=0.0687, v_num=1, train_loss=0.0107, train_accuracy=1.000, val_loss=0.169, val_accuracy=0.950]\n",
      "Epoch 161: 100%|█████████▉| 254/255 [01:27<00:00,  2.92it/s, loss=0.0687, v_num=1, train_loss=0.0107, train_accuracy=1.000, val_loss=0.169, val_accuracy=0.950]\n",
      "Epoch 161: 100%|██████████| 255/255 [01:27<00:00,  2.91it/s, loss=0.0687, v_num=1, train_loss=0.0107, train_accuracy=1.000, val_loss=0.178, val_accuracy=0.950]\n",
      "Epoch 161: 100%|██████████| 255/255 [01:27<00:00,  2.91it/s, loss=0.0687, v_num=1, train_loss=0.0107, train_accuracy=1.000, val_loss=0.178, val_accuracy=0.950]"
     ]
    },
    {
     "name": "stderr",
     "output_type": "stream",
     "text": [
      "Epoch 161, global step 36611: val_loss was not in top 2\n"
     ]
    },
    {
     "name": "stdout",
     "output_type": "stream",
     "text": [
      "Epoch 162:  89%|████████▊ | 226/255 [01:22<00:10,  2.73it/s, loss=0.0811, v_num=1, train_loss=0.131, train_accuracy=0.944, val_loss=0.178, val_accuracy=0.950]  \n",
      "Validating: 0it [00:00, ?it/s]\u001b[A\n",
      "Validating:   0%|          | 0/29 [00:00<?, ?it/s]\u001b[A\n",
      "Epoch 162:  89%|████████▉ | 228/255 [01:25<00:10,  2.68it/s, loss=0.0811, v_num=1, train_loss=0.131, train_accuracy=0.944, val_loss=0.178, val_accuracy=0.950]\n",
      "Epoch 162:  90%|█████████ | 230/255 [01:25<00:09,  2.70it/s, loss=0.0811, v_num=1, train_loss=0.131, train_accuracy=0.944, val_loss=0.178, val_accuracy=0.950]\n",
      "Epoch 162:  91%|█████████ | 232/255 [01:25<00:08,  2.71it/s, loss=0.0811, v_num=1, train_loss=0.131, train_accuracy=0.944, val_loss=0.178, val_accuracy=0.950]\n",
      "Epoch 162:  92%|█████████▏| 234/255 [01:25<00:07,  2.73it/s, loss=0.0811, v_num=1, train_loss=0.131, train_accuracy=0.944, val_loss=0.178, val_accuracy=0.950]\n",
      "Epoch 162:  93%|█████████▎| 236/255 [01:25<00:06,  2.75it/s, loss=0.0811, v_num=1, train_loss=0.131, train_accuracy=0.944, val_loss=0.178, val_accuracy=0.950]\n",
      "Epoch 162:  93%|█████████▎| 238/255 [01:26<00:06,  2.77it/s, loss=0.0811, v_num=1, train_loss=0.131, train_accuracy=0.944, val_loss=0.178, val_accuracy=0.950]\n",
      "Epoch 162:  94%|█████████▍| 240/255 [01:26<00:05,  2.78it/s, loss=0.0811, v_num=1, train_loss=0.131, train_accuracy=0.944, val_loss=0.178, val_accuracy=0.950]\n",
      "Epoch 162:  95%|█████████▍| 242/255 [01:26<00:04,  2.80it/s, loss=0.0811, v_num=1, train_loss=0.131, train_accuracy=0.944, val_loss=0.178, val_accuracy=0.950]\n",
      "Epoch 162:  96%|█████████▌| 244/255 [01:26<00:03,  2.82it/s, loss=0.0811, v_num=1, train_loss=0.131, train_accuracy=0.944, val_loss=0.178, val_accuracy=0.950]\n",
      "Epoch 162:  96%|█████████▋| 246/255 [01:26<00:03,  2.84it/s, loss=0.0811, v_num=1, train_loss=0.131, train_accuracy=0.944, val_loss=0.178, val_accuracy=0.950]\n",
      "Epoch 162:  97%|█████████▋| 248/255 [01:26<00:02,  2.85it/s, loss=0.0811, v_num=1, train_loss=0.131, train_accuracy=0.944, val_loss=0.178, val_accuracy=0.950]\n",
      "Epoch 162:  98%|█████████▊| 250/255 [01:27<00:01,  2.87it/s, loss=0.0811, v_num=1, train_loss=0.131, train_accuracy=0.944, val_loss=0.178, val_accuracy=0.950]\n",
      "Epoch 162:  99%|█████████▉| 252/255 [01:27<00:01,  2.89it/s, loss=0.0811, v_num=1, train_loss=0.131, train_accuracy=0.944, val_loss=0.178, val_accuracy=0.950]\n",
      "Epoch 162: 100%|█████████▉| 254/255 [01:27<00:00,  2.91it/s, loss=0.0811, v_num=1, train_loss=0.131, train_accuracy=0.944, val_loss=0.178, val_accuracy=0.950]\n",
      "Epoch 162: 100%|██████████| 255/255 [01:27<00:00,  2.90it/s, loss=0.0811, v_num=1, train_loss=0.131, train_accuracy=0.944, val_loss=0.235, val_accuracy=0.935]\n",
      "Epoch 162: 100%|██████████| 255/255 [01:27<00:00,  2.90it/s, loss=0.0811, v_num=1, train_loss=0.131, train_accuracy=0.944, val_loss=0.235, val_accuracy=0.935]"
     ]
    },
    {
     "name": "stderr",
     "output_type": "stream",
     "text": [
      "Epoch 162, global step 36837: val_loss was not in top 2\n"
     ]
    },
    {
     "name": "stdout",
     "output_type": "stream",
     "text": [
      "Epoch 163:  89%|████████▊ | 226/255 [01:22<00:10,  2.75it/s, loss=0.162, v_num=1, train_loss=0.0461, train_accuracy=1.000, val_loss=0.235, val_accuracy=0.935]  \n",
      "Validating: 0it [00:00, ?it/s]\u001b[A\n",
      "Validating:   0%|          | 0/29 [00:00<?, ?it/s]\u001b[A\n",
      "Epoch 163:  89%|████████▉ | 228/255 [01:24<00:10,  2.69it/s, loss=0.162, v_num=1, train_loss=0.0461, train_accuracy=1.000, val_loss=0.235, val_accuracy=0.935]\n",
      "Epoch 163:  90%|█████████ | 230/255 [01:24<00:09,  2.71it/s, loss=0.162, v_num=1, train_loss=0.0461, train_accuracy=1.000, val_loss=0.235, val_accuracy=0.935]\n",
      "Epoch 163:  91%|█████████ | 232/255 [01:24<00:08,  2.73it/s, loss=0.162, v_num=1, train_loss=0.0461, train_accuracy=1.000, val_loss=0.235, val_accuracy=0.935]\n",
      "Epoch 163:  92%|█████████▏| 234/255 [01:25<00:07,  2.75it/s, loss=0.162, v_num=1, train_loss=0.0461, train_accuracy=1.000, val_loss=0.235, val_accuracy=0.935]\n",
      "Epoch 163:  93%|█████████▎| 236/255 [01:25<00:06,  2.77it/s, loss=0.162, v_num=1, train_loss=0.0461, train_accuracy=1.000, val_loss=0.235, val_accuracy=0.935]\n",
      "Epoch 163:  93%|█████████▎| 238/255 [01:25<00:06,  2.78it/s, loss=0.162, v_num=1, train_loss=0.0461, train_accuracy=1.000, val_loss=0.235, val_accuracy=0.935]\n",
      "Epoch 163:  94%|█████████▍| 240/255 [01:25<00:05,  2.80it/s, loss=0.162, v_num=1, train_loss=0.0461, train_accuracy=1.000, val_loss=0.235, val_accuracy=0.935]\n",
      "Epoch 163:  95%|█████████▍| 242/255 [01:25<00:04,  2.82it/s, loss=0.162, v_num=1, train_loss=0.0461, train_accuracy=1.000, val_loss=0.235, val_accuracy=0.935]\n",
      "Epoch 163:  96%|█████████▌| 244/255 [01:26<00:03,  2.84it/s, loss=0.162, v_num=1, train_loss=0.0461, train_accuracy=1.000, val_loss=0.235, val_accuracy=0.935]\n",
      "Epoch 163:  96%|█████████▋| 246/255 [01:26<00:03,  2.85it/s, loss=0.162, v_num=1, train_loss=0.0461, train_accuracy=1.000, val_loss=0.235, val_accuracy=0.935]\n",
      "Epoch 163:  97%|█████████▋| 248/255 [01:26<00:02,  2.87it/s, loss=0.162, v_num=1, train_loss=0.0461, train_accuracy=1.000, val_loss=0.235, val_accuracy=0.935]\n",
      "Epoch 163:  98%|█████████▊| 250/255 [01:26<00:01,  2.89it/s, loss=0.162, v_num=1, train_loss=0.0461, train_accuracy=1.000, val_loss=0.235, val_accuracy=0.935]\n",
      "Epoch 163:  99%|█████████▉| 252/255 [01:26<00:01,  2.91it/s, loss=0.162, v_num=1, train_loss=0.0461, train_accuracy=1.000, val_loss=0.235, val_accuracy=0.935]\n",
      "Epoch 163: 100%|█████████▉| 254/255 [01:26<00:00,  2.92it/s, loss=0.162, v_num=1, train_loss=0.0461, train_accuracy=1.000, val_loss=0.235, val_accuracy=0.935]\n",
      "Epoch 163: 100%|██████████| 255/255 [01:27<00:00,  2.92it/s, loss=0.162, v_num=1, train_loss=0.0461, train_accuracy=1.000, val_loss=0.276, val_accuracy=0.921]\n",
      "Epoch 163: 100%|██████████| 255/255 [01:27<00:00,  2.92it/s, loss=0.162, v_num=1, train_loss=0.0461, train_accuracy=1.000, val_loss=0.276, val_accuracy=0.921]"
     ]
    },
    {
     "name": "stderr",
     "output_type": "stream",
     "text": [
      "Epoch 163, global step 37063: val_loss was not in top 2\n"
     ]
    },
    {
     "name": "stdout",
     "output_type": "stream",
     "text": [
      "Epoch 164:  89%|████████▊ | 226/255 [01:22<00:10,  2.74it/s, loss=0.305, v_num=1, train_loss=0.312, train_accuracy=0.833, val_loss=0.276, val_accuracy=0.921]   \n",
      "Validating: 0it [00:00, ?it/s]\u001b[A\n",
      "Validating:   0%|          | 0/29 [00:00<?, ?it/s]\u001b[A\n",
      "Epoch 164:  89%|████████▉ | 228/255 [01:24<00:10,  2.69it/s, loss=0.305, v_num=1, train_loss=0.312, train_accuracy=0.833, val_loss=0.276, val_accuracy=0.921]\n",
      "Epoch 164:  90%|█████████ | 230/255 [01:25<00:09,  2.70it/s, loss=0.305, v_num=1, train_loss=0.312, train_accuracy=0.833, val_loss=0.276, val_accuracy=0.921]\n",
      "Epoch 164:  91%|█████████ | 232/255 [01:25<00:08,  2.72it/s, loss=0.305, v_num=1, train_loss=0.312, train_accuracy=0.833, val_loss=0.276, val_accuracy=0.921]\n",
      "Epoch 164:  92%|█████████▏| 234/255 [01:25<00:07,  2.74it/s, loss=0.305, v_num=1, train_loss=0.312, train_accuracy=0.833, val_loss=0.276, val_accuracy=0.921]\n",
      "Epoch 164:  93%|█████████▎| 236/255 [01:25<00:06,  2.76it/s, loss=0.305, v_num=1, train_loss=0.312, train_accuracy=0.833, val_loss=0.276, val_accuracy=0.921]\n",
      "Epoch 164:  93%|█████████▎| 238/255 [01:25<00:06,  2.78it/s, loss=0.305, v_num=1, train_loss=0.312, train_accuracy=0.833, val_loss=0.276, val_accuracy=0.921]\n",
      "Epoch 164:  94%|█████████▍| 240/255 [01:25<00:05,  2.79it/s, loss=0.305, v_num=1, train_loss=0.312, train_accuracy=0.833, val_loss=0.276, val_accuracy=0.921]\n",
      "Epoch 164:  95%|█████████▍| 242/255 [01:26<00:04,  2.81it/s, loss=0.305, v_num=1, train_loss=0.312, train_accuracy=0.833, val_loss=0.276, val_accuracy=0.921]\n",
      "Epoch 164:  96%|█████████▌| 244/255 [01:26<00:03,  2.83it/s, loss=0.305, v_num=1, train_loss=0.312, train_accuracy=0.833, val_loss=0.276, val_accuracy=0.921]\n",
      "Epoch 164:  96%|█████████▋| 246/255 [01:26<00:03,  2.85it/s, loss=0.305, v_num=1, train_loss=0.312, train_accuracy=0.833, val_loss=0.276, val_accuracy=0.921]\n",
      "Epoch 164:  97%|█████████▋| 248/255 [01:26<00:02,  2.86it/s, loss=0.305, v_num=1, train_loss=0.312, train_accuracy=0.833, val_loss=0.276, val_accuracy=0.921]\n",
      "Epoch 164:  98%|█████████▊| 250/255 [01:26<00:01,  2.88it/s, loss=0.305, v_num=1, train_loss=0.312, train_accuracy=0.833, val_loss=0.276, val_accuracy=0.921]\n",
      "Epoch 164:  99%|█████████▉| 252/255 [01:26<00:01,  2.90it/s, loss=0.305, v_num=1, train_loss=0.312, train_accuracy=0.833, val_loss=0.276, val_accuracy=0.921]\n",
      "Epoch 164: 100%|█████████▉| 254/255 [01:27<00:00,  2.91it/s, loss=0.305, v_num=1, train_loss=0.312, train_accuracy=0.833, val_loss=0.276, val_accuracy=0.921]\n",
      "Epoch 164: 100%|██████████| 255/255 [01:27<00:00,  2.91it/s, loss=0.305, v_num=1, train_loss=0.312, train_accuracy=0.833, val_loss=0.264, val_accuracy=0.881]\n",
      "Epoch 164: 100%|██████████| 255/255 [01:27<00:00,  2.91it/s, loss=0.305, v_num=1, train_loss=0.312, train_accuracy=0.833, val_loss=0.264, val_accuracy=0.881]"
     ]
    },
    {
     "name": "stderr",
     "output_type": "stream",
     "text": [
      "Epoch 164, global step 37289: val_loss was not in top 2\n"
     ]
    },
    {
     "name": "stdout",
     "output_type": "stream",
     "text": [
      "Epoch 165:  89%|████████▊ | 226/255 [01:22<00:10,  2.75it/s, loss=0.0729, v_num=1, train_loss=0.0192, train_accuracy=1.000, val_loss=0.264, val_accuracy=0.881]\n",
      "Validating: 0it [00:00, ?it/s]\u001b[A\n",
      "Validating:   0%|          | 0/29 [00:00<?, ?it/s]\u001b[A\n",
      "Epoch 165:  89%|████████▉ | 228/255 [01:24<00:10,  2.69it/s, loss=0.0729, v_num=1, train_loss=0.0192, train_accuracy=1.000, val_loss=0.264, val_accuracy=0.881]\n",
      "Epoch 165:  90%|█████████ | 230/255 [01:24<00:09,  2.71it/s, loss=0.0729, v_num=1, train_loss=0.0192, train_accuracy=1.000, val_loss=0.264, val_accuracy=0.881]\n",
      "Epoch 165:  91%|█████████ | 232/255 [01:24<00:08,  2.73it/s, loss=0.0729, v_num=1, train_loss=0.0192, train_accuracy=1.000, val_loss=0.264, val_accuracy=0.881]\n",
      "Epoch 165:  92%|█████████▏| 234/255 [01:25<00:07,  2.75it/s, loss=0.0729, v_num=1, train_loss=0.0192, train_accuracy=1.000, val_loss=0.264, val_accuracy=0.881]\n",
      "Epoch 165:  93%|█████████▎| 236/255 [01:25<00:06,  2.77it/s, loss=0.0729, v_num=1, train_loss=0.0192, train_accuracy=1.000, val_loss=0.264, val_accuracy=0.881]\n",
      "Epoch 165:  93%|█████████▎| 238/255 [01:25<00:06,  2.78it/s, loss=0.0729, v_num=1, train_loss=0.0192, train_accuracy=1.000, val_loss=0.264, val_accuracy=0.881]\n",
      "Epoch 165:  94%|█████████▍| 240/255 [01:25<00:05,  2.80it/s, loss=0.0729, v_num=1, train_loss=0.0192, train_accuracy=1.000, val_loss=0.264, val_accuracy=0.881]\n",
      "Epoch 165:  95%|█████████▍| 242/255 [01:25<00:04,  2.82it/s, loss=0.0729, v_num=1, train_loss=0.0192, train_accuracy=1.000, val_loss=0.264, val_accuracy=0.881]\n",
      "Epoch 165:  96%|█████████▌| 244/255 [01:26<00:03,  2.84it/s, loss=0.0729, v_num=1, train_loss=0.0192, train_accuracy=1.000, val_loss=0.264, val_accuracy=0.881]\n",
      "Epoch 165:  96%|█████████▋| 246/255 [01:26<00:03,  2.85it/s, loss=0.0729, v_num=1, train_loss=0.0192, train_accuracy=1.000, val_loss=0.264, val_accuracy=0.881]\n",
      "Epoch 165:  97%|█████████▋| 248/255 [01:26<00:02,  2.87it/s, loss=0.0729, v_num=1, train_loss=0.0192, train_accuracy=1.000, val_loss=0.264, val_accuracy=0.881]\n",
      "Epoch 165:  98%|█████████▊| 250/255 [01:26<00:01,  2.89it/s, loss=0.0729, v_num=1, train_loss=0.0192, train_accuracy=1.000, val_loss=0.264, val_accuracy=0.881]\n",
      "Epoch 165:  99%|█████████▉| 252/255 [01:26<00:01,  2.91it/s, loss=0.0729, v_num=1, train_loss=0.0192, train_accuracy=1.000, val_loss=0.264, val_accuracy=0.881]\n",
      "Epoch 165: 100%|█████████▉| 254/255 [01:26<00:00,  2.92it/s, loss=0.0729, v_num=1, train_loss=0.0192, train_accuracy=1.000, val_loss=0.264, val_accuracy=0.881]\n",
      "Epoch 165: 100%|██████████| 255/255 [01:27<00:00,  2.92it/s, loss=0.0729, v_num=1, train_loss=0.0192, train_accuracy=1.000, val_loss=0.216, val_accuracy=0.925]\n",
      "Epoch 165: 100%|██████████| 255/255 [01:27<00:00,  2.92it/s, loss=0.0729, v_num=1, train_loss=0.0192, train_accuracy=1.000, val_loss=0.216, val_accuracy=0.925]"
     ]
    },
    {
     "name": "stderr",
     "output_type": "stream",
     "text": [
      "Epoch 165, global step 37515: val_loss was not in top 2\n"
     ]
    },
    {
     "name": "stdout",
     "output_type": "stream",
     "text": [
      "Epoch 166:  89%|████████▊ | 226/255 [01:22<00:10,  2.74it/s, loss=0.0649, v_num=1, train_loss=0.0905, train_accuracy=0.944, val_loss=0.216, val_accuracy=0.925]\n",
      "Validating: 0it [00:00, ?it/s]\u001b[A\n",
      "Validating:   0%|          | 0/29 [00:00<?, ?it/s]\u001b[A\n",
      "Epoch 166:  89%|████████▉ | 228/255 [01:24<00:10,  2.69it/s, loss=0.0649, v_num=1, train_loss=0.0905, train_accuracy=0.944, val_loss=0.216, val_accuracy=0.925]\n",
      "Epoch 166:  90%|█████████ | 230/255 [01:24<00:09,  2.71it/s, loss=0.0649, v_num=1, train_loss=0.0905, train_accuracy=0.944, val_loss=0.216, val_accuracy=0.925]\n",
      "Epoch 166:  91%|█████████ | 232/255 [01:25<00:08,  2.72it/s, loss=0.0649, v_num=1, train_loss=0.0905, train_accuracy=0.944, val_loss=0.216, val_accuracy=0.925]\n",
      "Epoch 166:  92%|█████████▏| 234/255 [01:25<00:07,  2.74it/s, loss=0.0649, v_num=1, train_loss=0.0905, train_accuracy=0.944, val_loss=0.216, val_accuracy=0.925]\n",
      "Epoch 166:  93%|█████████▎| 236/255 [01:25<00:06,  2.76it/s, loss=0.0649, v_num=1, train_loss=0.0905, train_accuracy=0.944, val_loss=0.216, val_accuracy=0.925]\n",
      "Epoch 166:  93%|█████████▎| 238/255 [01:25<00:06,  2.78it/s, loss=0.0649, v_num=1, train_loss=0.0905, train_accuracy=0.944, val_loss=0.216, val_accuracy=0.925]\n",
      "Epoch 166:  94%|█████████▍| 240/255 [01:25<00:05,  2.79it/s, loss=0.0649, v_num=1, train_loss=0.0905, train_accuracy=0.944, val_loss=0.216, val_accuracy=0.925]\n",
      "Epoch 166:  95%|█████████▍| 242/255 [01:26<00:04,  2.81it/s, loss=0.0649, v_num=1, train_loss=0.0905, train_accuracy=0.944, val_loss=0.216, val_accuracy=0.925]\n",
      "Epoch 166:  96%|█████████▌| 244/255 [01:26<00:03,  2.83it/s, loss=0.0649, v_num=1, train_loss=0.0905, train_accuracy=0.944, val_loss=0.216, val_accuracy=0.925]\n",
      "Epoch 166:  96%|█████████▋| 246/255 [01:26<00:03,  2.85it/s, loss=0.0649, v_num=1, train_loss=0.0905, train_accuracy=0.944, val_loss=0.216, val_accuracy=0.925]\n",
      "Epoch 166:  97%|█████████▋| 248/255 [01:26<00:02,  2.86it/s, loss=0.0649, v_num=1, train_loss=0.0905, train_accuracy=0.944, val_loss=0.216, val_accuracy=0.925]\n",
      "Epoch 166:  98%|█████████▊| 250/255 [01:26<00:01,  2.88it/s, loss=0.0649, v_num=1, train_loss=0.0905, train_accuracy=0.944, val_loss=0.216, val_accuracy=0.925]\n",
      "Epoch 166:  99%|█████████▉| 252/255 [01:26<00:01,  2.90it/s, loss=0.0649, v_num=1, train_loss=0.0905, train_accuracy=0.944, val_loss=0.216, val_accuracy=0.925]\n",
      "Epoch 166: 100%|█████████▉| 254/255 [01:27<00:00,  2.92it/s, loss=0.0649, v_num=1, train_loss=0.0905, train_accuracy=0.944, val_loss=0.216, val_accuracy=0.925]\n",
      "Epoch 166: 100%|██████████| 255/255 [01:27<00:00,  2.91it/s, loss=0.0649, v_num=1, train_loss=0.0905, train_accuracy=0.944, val_loss=0.207, val_accuracy=0.933]\n",
      "Epoch 166: 100%|██████████| 255/255 [01:27<00:00,  2.91it/s, loss=0.0649, v_num=1, train_loss=0.0905, train_accuracy=0.944, val_loss=0.207, val_accuracy=0.933]"
     ]
    },
    {
     "name": "stderr",
     "output_type": "stream",
     "text": [
      "Epoch 166, global step 37741: val_loss was not in top 2\n"
     ]
    },
    {
     "name": "stdout",
     "output_type": "stream",
     "text": [
      "Epoch 167:  89%|████████▊ | 226/255 [01:22<00:10,  2.74it/s, loss=0.0474, v_num=1, train_loss=0.121, train_accuracy=0.944, val_loss=0.207, val_accuracy=0.933]  \n",
      "Validating: 0it [00:00, ?it/s]\u001b[A\n",
      "Validating:   0%|          | 0/29 [00:00<?, ?it/s]\u001b[A\n",
      "Epoch 167:  89%|████████▉ | 228/255 [01:24<00:10,  2.69it/s, loss=0.0474, v_num=1, train_loss=0.121, train_accuracy=0.944, val_loss=0.207, val_accuracy=0.933]\n",
      "Epoch 167:  90%|█████████ | 230/255 [01:24<00:09,  2.71it/s, loss=0.0474, v_num=1, train_loss=0.121, train_accuracy=0.944, val_loss=0.207, val_accuracy=0.933]\n",
      "Epoch 167:  91%|█████████ | 232/255 [01:25<00:08,  2.73it/s, loss=0.0474, v_num=1, train_loss=0.121, train_accuracy=0.944, val_loss=0.207, val_accuracy=0.933]\n",
      "Epoch 167:  92%|█████████▏| 234/255 [01:25<00:07,  2.75it/s, loss=0.0474, v_num=1, train_loss=0.121, train_accuracy=0.944, val_loss=0.207, val_accuracy=0.933]\n",
      "Epoch 167:  93%|█████████▎| 236/255 [01:25<00:06,  2.77it/s, loss=0.0474, v_num=1, train_loss=0.121, train_accuracy=0.944, val_loss=0.207, val_accuracy=0.933]\n",
      "Epoch 167:  93%|█████████▎| 238/255 [01:25<00:06,  2.78it/s, loss=0.0474, v_num=1, train_loss=0.121, train_accuracy=0.944, val_loss=0.207, val_accuracy=0.933]\n",
      "Epoch 167:  94%|█████████▍| 240/255 [01:25<00:05,  2.80it/s, loss=0.0474, v_num=1, train_loss=0.121, train_accuracy=0.944, val_loss=0.207, val_accuracy=0.933]\n",
      "Epoch 167:  95%|█████████▍| 242/255 [01:25<00:04,  2.82it/s, loss=0.0474, v_num=1, train_loss=0.121, train_accuracy=0.944, val_loss=0.207, val_accuracy=0.933]\n",
      "Epoch 167:  96%|█████████▌| 244/255 [01:26<00:03,  2.84it/s, loss=0.0474, v_num=1, train_loss=0.121, train_accuracy=0.944, val_loss=0.207, val_accuracy=0.933]\n",
      "Epoch 167:  96%|█████████▋| 246/255 [01:26<00:03,  2.85it/s, loss=0.0474, v_num=1, train_loss=0.121, train_accuracy=0.944, val_loss=0.207, val_accuracy=0.933]\n",
      "Epoch 167:  97%|█████████▋| 248/255 [01:26<00:02,  2.87it/s, loss=0.0474, v_num=1, train_loss=0.121, train_accuracy=0.944, val_loss=0.207, val_accuracy=0.933]\n",
      "Epoch 167:  98%|█████████▊| 250/255 [01:26<00:01,  2.89it/s, loss=0.0474, v_num=1, train_loss=0.121, train_accuracy=0.944, val_loss=0.207, val_accuracy=0.933]\n",
      "Epoch 167:  99%|█████████▉| 252/255 [01:26<00:01,  2.91it/s, loss=0.0474, v_num=1, train_loss=0.121, train_accuracy=0.944, val_loss=0.207, val_accuracy=0.933]\n",
      "Epoch 167: 100%|█████████▉| 254/255 [01:26<00:00,  2.92it/s, loss=0.0474, v_num=1, train_loss=0.121, train_accuracy=0.944, val_loss=0.207, val_accuracy=0.933]\n",
      "Epoch 167: 100%|██████████| 255/255 [01:27<00:00,  2.92it/s, loss=0.0474, v_num=1, train_loss=0.121, train_accuracy=0.944, val_loss=0.240, val_accuracy=0.932]\n",
      "Epoch 167: 100%|██████████| 255/255 [01:27<00:00,  2.92it/s, loss=0.0474, v_num=1, train_loss=0.121, train_accuracy=0.944, val_loss=0.240, val_accuracy=0.932]"
     ]
    },
    {
     "name": "stderr",
     "output_type": "stream",
     "text": [
      "Epoch 167, global step 37967: val_loss was not in top 2\n"
     ]
    },
    {
     "name": "stdout",
     "output_type": "stream",
     "text": [
      "Epoch 168:  89%|████████▊ | 226/255 [01:22<00:10,  2.75it/s, loss=0.0997, v_num=1, train_loss=0.00585, train_accuracy=1.000, val_loss=0.240, val_accuracy=0.932]\n",
      "Validating: 0it [00:00, ?it/s]\u001b[A\n",
      "Validating:   0%|          | 0/29 [00:00<?, ?it/s]\u001b[A\n",
      "Epoch 168:  89%|████████▉ | 228/255 [01:24<00:10,  2.69it/s, loss=0.0997, v_num=1, train_loss=0.00585, train_accuracy=1.000, val_loss=0.240, val_accuracy=0.932]\n",
      "Epoch 168:  90%|█████████ | 230/255 [01:24<00:09,  2.71it/s, loss=0.0997, v_num=1, train_loss=0.00585, train_accuracy=1.000, val_loss=0.240, val_accuracy=0.932]\n",
      "Epoch 168:  91%|█████████ | 232/255 [01:25<00:08,  2.73it/s, loss=0.0997, v_num=1, train_loss=0.00585, train_accuracy=1.000, val_loss=0.240, val_accuracy=0.932]\n",
      "Epoch 168:  92%|█████████▏| 234/255 [01:25<00:07,  2.75it/s, loss=0.0997, v_num=1, train_loss=0.00585, train_accuracy=1.000, val_loss=0.240, val_accuracy=0.932]\n",
      "Epoch 168:  93%|█████████▎| 236/255 [01:25<00:06,  2.76it/s, loss=0.0997, v_num=1, train_loss=0.00585, train_accuracy=1.000, val_loss=0.240, val_accuracy=0.932]\n",
      "Epoch 168:  93%|█████████▎| 238/255 [01:25<00:06,  2.78it/s, loss=0.0997, v_num=1, train_loss=0.00585, train_accuracy=1.000, val_loss=0.240, val_accuracy=0.932]\n",
      "Epoch 168:  94%|█████████▍| 240/255 [01:25<00:05,  2.80it/s, loss=0.0997, v_num=1, train_loss=0.00585, train_accuracy=1.000, val_loss=0.240, val_accuracy=0.932]\n",
      "Epoch 168:  95%|█████████▍| 242/255 [01:25<00:04,  2.82it/s, loss=0.0997, v_num=1, train_loss=0.00585, train_accuracy=1.000, val_loss=0.240, val_accuracy=0.932]\n",
      "Epoch 168:  96%|█████████▌| 244/255 [01:26<00:03,  2.83it/s, loss=0.0997, v_num=1, train_loss=0.00585, train_accuracy=1.000, val_loss=0.240, val_accuracy=0.932]\n",
      "Epoch 168:  96%|█████████▋| 246/255 [01:26<00:03,  2.85it/s, loss=0.0997, v_num=1, train_loss=0.00585, train_accuracy=1.000, val_loss=0.240, val_accuracy=0.932]\n",
      "Epoch 168:  97%|█████████▋| 248/255 [01:26<00:02,  2.87it/s, loss=0.0997, v_num=1, train_loss=0.00585, train_accuracy=1.000, val_loss=0.240, val_accuracy=0.932]\n",
      "Epoch 168:  98%|█████████▊| 250/255 [01:26<00:01,  2.89it/s, loss=0.0997, v_num=1, train_loss=0.00585, train_accuracy=1.000, val_loss=0.240, val_accuracy=0.932]\n",
      "Epoch 168:  99%|█████████▉| 252/255 [01:26<00:01,  2.90it/s, loss=0.0997, v_num=1, train_loss=0.00585, train_accuracy=1.000, val_loss=0.240, val_accuracy=0.932]\n",
      "Epoch 168: 100%|█████████▉| 254/255 [01:26<00:00,  2.92it/s, loss=0.0997, v_num=1, train_loss=0.00585, train_accuracy=1.000, val_loss=0.240, val_accuracy=0.932]\n",
      "Epoch 168: 100%|██████████| 255/255 [01:27<00:00,  2.91it/s, loss=0.0997, v_num=1, train_loss=0.00585, train_accuracy=1.000, val_loss=0.191, val_accuracy=0.942]\n",
      "Epoch 168: 100%|██████████| 255/255 [01:27<00:00,  2.91it/s, loss=0.0997, v_num=1, train_loss=0.00585, train_accuracy=1.000, val_loss=0.191, val_accuracy=0.942]"
     ]
    },
    {
     "name": "stderr",
     "output_type": "stream",
     "text": [
      "Epoch 168, global step 38193: val_loss was not in top 2\n"
     ]
    },
    {
     "name": "stdout",
     "output_type": "stream",
     "text": [
      "Epoch 169:  89%|████████▊ | 226/255 [01:22<00:10,  2.75it/s, loss=0.0472, v_num=1, train_loss=0.00254, train_accuracy=1.000, val_loss=0.191, val_accuracy=0.942]\n",
      "Validating: 0it [00:00, ?it/s]\u001b[A\n",
      "Validating:   0%|          | 0/29 [00:00<?, ?it/s]\u001b[A\n",
      "Epoch 169:  89%|████████▉ | 228/255 [01:24<00:10,  2.69it/s, loss=0.0472, v_num=1, train_loss=0.00254, train_accuracy=1.000, val_loss=0.191, val_accuracy=0.942]\n",
      "Epoch 169:  90%|█████████ | 230/255 [01:24<00:09,  2.71it/s, loss=0.0472, v_num=1, train_loss=0.00254, train_accuracy=1.000, val_loss=0.191, val_accuracy=0.942]\n",
      "Epoch 169:  91%|█████████ | 232/255 [01:25<00:08,  2.73it/s, loss=0.0472, v_num=1, train_loss=0.00254, train_accuracy=1.000, val_loss=0.191, val_accuracy=0.942]\n",
      "Epoch 169:  92%|█████████▏| 234/255 [01:25<00:07,  2.74it/s, loss=0.0472, v_num=1, train_loss=0.00254, train_accuracy=1.000, val_loss=0.191, val_accuracy=0.942]\n",
      "Epoch 169:  93%|█████████▎| 236/255 [01:25<00:06,  2.76it/s, loss=0.0472, v_num=1, train_loss=0.00254, train_accuracy=1.000, val_loss=0.191, val_accuracy=0.942]\n",
      "Epoch 169:  93%|█████████▎| 238/255 [01:25<00:06,  2.78it/s, loss=0.0472, v_num=1, train_loss=0.00254, train_accuracy=1.000, val_loss=0.191, val_accuracy=0.942]\n",
      "Epoch 169:  94%|█████████▍| 240/255 [01:25<00:05,  2.80it/s, loss=0.0472, v_num=1, train_loss=0.00254, train_accuracy=1.000, val_loss=0.191, val_accuracy=0.942]\n",
      "Epoch 169:  95%|█████████▍| 242/255 [01:25<00:04,  2.82it/s, loss=0.0472, v_num=1, train_loss=0.00254, train_accuracy=1.000, val_loss=0.191, val_accuracy=0.942]\n",
      "Epoch 169:  96%|█████████▌| 244/255 [01:26<00:03,  2.83it/s, loss=0.0472, v_num=1, train_loss=0.00254, train_accuracy=1.000, val_loss=0.191, val_accuracy=0.942]\n",
      "Epoch 169:  96%|█████████▋| 246/255 [01:26<00:03,  2.85it/s, loss=0.0472, v_num=1, train_loss=0.00254, train_accuracy=1.000, val_loss=0.191, val_accuracy=0.942]\n",
      "Epoch 169:  97%|█████████▋| 248/255 [01:26<00:02,  2.87it/s, loss=0.0472, v_num=1, train_loss=0.00254, train_accuracy=1.000, val_loss=0.191, val_accuracy=0.942]\n",
      "Epoch 169:  98%|█████████▊| 250/255 [01:26<00:01,  2.88it/s, loss=0.0472, v_num=1, train_loss=0.00254, train_accuracy=1.000, val_loss=0.191, val_accuracy=0.942]\n",
      "Epoch 169:  99%|█████████▉| 252/255 [01:26<00:01,  2.90it/s, loss=0.0472, v_num=1, train_loss=0.00254, train_accuracy=1.000, val_loss=0.191, val_accuracy=0.942]\n",
      "Epoch 169: 100%|█████████▉| 254/255 [01:27<00:00,  2.92it/s, loss=0.0472, v_num=1, train_loss=0.00254, train_accuracy=1.000, val_loss=0.191, val_accuracy=0.942]\n",
      "Epoch 169: 100%|██████████| 255/255 [01:27<00:00,  2.91it/s, loss=0.0472, v_num=1, train_loss=0.00254, train_accuracy=1.000, val_loss=0.240, val_accuracy=0.938]\n",
      "Epoch 169: 100%|██████████| 255/255 [01:27<00:00,  2.91it/s, loss=0.0472, v_num=1, train_loss=0.00254, train_accuracy=1.000, val_loss=0.240, val_accuracy=0.938]"
     ]
    },
    {
     "name": "stderr",
     "output_type": "stream",
     "text": [
      "Epoch 169, global step 38419: val_loss was not in top 2\n"
     ]
    },
    {
     "name": "stdout",
     "output_type": "stream",
     "text": [
      "Epoch 170:  89%|████████▊ | 226/255 [01:22<00:10,  2.75it/s, loss=0.0502, v_num=1, train_loss=0.0209, train_accuracy=1.000, val_loss=0.240, val_accuracy=0.938] \n",
      "Validating: 0it [00:00, ?it/s]\u001b[A\n",
      "Validating:   0%|          | 0/29 [00:00<?, ?it/s]\u001b[A\n",
      "Epoch 170:  89%|████████▉ | 228/255 [01:24<00:09,  2.70it/s, loss=0.0502, v_num=1, train_loss=0.0209, train_accuracy=1.000, val_loss=0.240, val_accuracy=0.938]\n",
      "Epoch 170:  90%|█████████ | 230/255 [01:24<00:09,  2.72it/s, loss=0.0502, v_num=1, train_loss=0.0209, train_accuracy=1.000, val_loss=0.240, val_accuracy=0.938]\n",
      "Epoch 170:  91%|█████████ | 232/255 [01:24<00:08,  2.74it/s, loss=0.0502, v_num=1, train_loss=0.0209, train_accuracy=1.000, val_loss=0.240, val_accuracy=0.938]\n",
      "Epoch 170:  92%|█████████▏| 234/255 [01:24<00:07,  2.76it/s, loss=0.0502, v_num=1, train_loss=0.0209, train_accuracy=1.000, val_loss=0.240, val_accuracy=0.938]\n",
      "Epoch 170:  93%|█████████▎| 236/255 [01:25<00:06,  2.77it/s, loss=0.0502, v_num=1, train_loss=0.0209, train_accuracy=1.000, val_loss=0.240, val_accuracy=0.938]\n",
      "Epoch 170:  93%|█████████▎| 238/255 [01:25<00:06,  2.79it/s, loss=0.0502, v_num=1, train_loss=0.0209, train_accuracy=1.000, val_loss=0.240, val_accuracy=0.938]\n",
      "Epoch 170:  94%|█████████▍| 240/255 [01:25<00:05,  2.81it/s, loss=0.0502, v_num=1, train_loss=0.0209, train_accuracy=1.000, val_loss=0.240, val_accuracy=0.938]\n",
      "Epoch 170:  95%|█████████▍| 242/255 [01:25<00:04,  2.83it/s, loss=0.0502, v_num=1, train_loss=0.0209, train_accuracy=1.000, val_loss=0.240, val_accuracy=0.938]\n",
      "Epoch 170:  96%|█████████▌| 244/255 [01:25<00:03,  2.84it/s, loss=0.0502, v_num=1, train_loss=0.0209, train_accuracy=1.000, val_loss=0.240, val_accuracy=0.938]\n",
      "Epoch 170:  96%|█████████▋| 246/255 [01:25<00:03,  2.86it/s, loss=0.0502, v_num=1, train_loss=0.0209, train_accuracy=1.000, val_loss=0.240, val_accuracy=0.938]\n",
      "Epoch 170:  97%|█████████▋| 248/255 [01:26<00:02,  2.88it/s, loss=0.0502, v_num=1, train_loss=0.0209, train_accuracy=1.000, val_loss=0.240, val_accuracy=0.938]\n",
      "Epoch 170:  98%|█████████▊| 250/255 [01:26<00:01,  2.90it/s, loss=0.0502, v_num=1, train_loss=0.0209, train_accuracy=1.000, val_loss=0.240, val_accuracy=0.938]\n",
      "Epoch 170:  99%|█████████▉| 252/255 [01:26<00:01,  2.91it/s, loss=0.0502, v_num=1, train_loss=0.0209, train_accuracy=1.000, val_loss=0.240, val_accuracy=0.938]\n",
      "Epoch 170: 100%|█████████▉| 254/255 [01:26<00:00,  2.93it/s, loss=0.0502, v_num=1, train_loss=0.0209, train_accuracy=1.000, val_loss=0.240, val_accuracy=0.938]\n",
      "Epoch 170: 100%|██████████| 255/255 [01:27<00:00,  2.93it/s, loss=0.0502, v_num=1, train_loss=0.0209, train_accuracy=1.000, val_loss=0.175, val_accuracy=0.948]\n",
      "Epoch 170: 100%|██████████| 255/255 [01:27<00:00,  2.93it/s, loss=0.0502, v_num=1, train_loss=0.0209, train_accuracy=1.000, val_loss=0.175, val_accuracy=0.948]"
     ]
    },
    {
     "name": "stderr",
     "output_type": "stream",
     "text": [
      "Epoch 170, global step 38645: val_loss was not in top 2\n"
     ]
    },
    {
     "name": "stdout",
     "output_type": "stream",
     "text": [
      "Epoch 171:  89%|████████▊ | 226/255 [01:22<00:10,  2.75it/s, loss=0.0706, v_num=1, train_loss=0.0346, train_accuracy=1.000, val_loss=0.175, val_accuracy=0.948] \n",
      "Validating: 0it [00:00, ?it/s]\u001b[A\n",
      "Validating:   0%|          | 0/29 [00:00<?, ?it/s]\u001b[A\n",
      "Epoch 171:  89%|████████▉ | 228/255 [01:24<00:10,  2.70it/s, loss=0.0706, v_num=1, train_loss=0.0346, train_accuracy=1.000, val_loss=0.175, val_accuracy=0.948]\n",
      "Epoch 171:  90%|█████████ | 230/255 [01:24<00:09,  2.72it/s, loss=0.0706, v_num=1, train_loss=0.0346, train_accuracy=1.000, val_loss=0.175, val_accuracy=0.948]\n",
      "Epoch 171:  91%|█████████ | 232/255 [01:24<00:08,  2.73it/s, loss=0.0706, v_num=1, train_loss=0.0346, train_accuracy=1.000, val_loss=0.175, val_accuracy=0.948]\n",
      "Epoch 171:  92%|█████████▏| 234/255 [01:25<00:07,  2.75it/s, loss=0.0706, v_num=1, train_loss=0.0346, train_accuracy=1.000, val_loss=0.175, val_accuracy=0.948]\n",
      "Epoch 171:  93%|█████████▎| 236/255 [01:25<00:06,  2.77it/s, loss=0.0706, v_num=1, train_loss=0.0346, train_accuracy=1.000, val_loss=0.175, val_accuracy=0.948]\n",
      "Epoch 171:  93%|█████████▎| 238/255 [01:25<00:06,  2.79it/s, loss=0.0706, v_num=1, train_loss=0.0346, train_accuracy=1.000, val_loss=0.175, val_accuracy=0.948]\n",
      "Epoch 171:  94%|█████████▍| 240/255 [01:25<00:05,  2.80it/s, loss=0.0706, v_num=1, train_loss=0.0346, train_accuracy=1.000, val_loss=0.175, val_accuracy=0.948]\n",
      "Epoch 171:  95%|█████████▍| 242/255 [01:25<00:04,  2.82it/s, loss=0.0706, v_num=1, train_loss=0.0346, train_accuracy=1.000, val_loss=0.175, val_accuracy=0.948]\n",
      "Epoch 171:  96%|█████████▌| 244/255 [01:25<00:03,  2.84it/s, loss=0.0706, v_num=1, train_loss=0.0346, train_accuracy=1.000, val_loss=0.175, val_accuracy=0.948]\n",
      "Epoch 171:  96%|█████████▋| 246/255 [01:26<00:03,  2.86it/s, loss=0.0706, v_num=1, train_loss=0.0346, train_accuracy=1.000, val_loss=0.175, val_accuracy=0.948]\n",
      "Epoch 171:  97%|█████████▋| 248/255 [01:26<00:02,  2.87it/s, loss=0.0706, v_num=1, train_loss=0.0346, train_accuracy=1.000, val_loss=0.175, val_accuracy=0.948]\n",
      "Epoch 171:  98%|█████████▊| 250/255 [01:26<00:01,  2.89it/s, loss=0.0706, v_num=1, train_loss=0.0346, train_accuracy=1.000, val_loss=0.175, val_accuracy=0.948]\n",
      "Epoch 171:  99%|█████████▉| 252/255 [01:26<00:01,  2.91it/s, loss=0.0706, v_num=1, train_loss=0.0346, train_accuracy=1.000, val_loss=0.175, val_accuracy=0.948]\n",
      "Epoch 171: 100%|█████████▉| 254/255 [01:26<00:00,  2.93it/s, loss=0.0706, v_num=1, train_loss=0.0346, train_accuracy=1.000, val_loss=0.175, val_accuracy=0.948]\n",
      "Epoch 171: 100%|██████████| 255/255 [01:27<00:00,  2.92it/s, loss=0.0706, v_num=1, train_loss=0.0346, train_accuracy=1.000, val_loss=0.168, val_accuracy=0.941]\n",
      "Epoch 171: 100%|██████████| 255/255 [01:27<00:00,  2.92it/s, loss=0.0706, v_num=1, train_loss=0.0346, train_accuracy=1.000, val_loss=0.168, val_accuracy=0.941]"
     ]
    },
    {
     "name": "stderr",
     "output_type": "stream",
     "text": [
      "Epoch 171, global step 38871: val_loss reached 0.16827 (best 0.16747), saving model to \"/Workspace/code/checkpoints/best-checkpoint-corr-random-20-v6.ckpt\" as top 2\n"
     ]
    },
    {
     "name": "stdout",
     "output_type": "stream",
     "text": [
      "Epoch 172:  89%|████████▊ | 226/255 [01:22<00:10,  2.75it/s, loss=0.0478, v_num=1, train_loss=0.00789, train_accuracy=1.000, val_loss=0.168, val_accuracy=0.941]\n",
      "Validating: 0it [00:00, ?it/s]\u001b[A\n",
      "Validating:   0%|          | 0/29 [00:00<?, ?it/s]\u001b[A\n",
      "Epoch 172:  89%|████████▉ | 228/255 [01:24<00:10,  2.70it/s, loss=0.0478, v_num=1, train_loss=0.00789, train_accuracy=1.000, val_loss=0.168, val_accuracy=0.941]\n",
      "Epoch 172:  90%|█████████ | 230/255 [01:24<00:09,  2.72it/s, loss=0.0478, v_num=1, train_loss=0.00789, train_accuracy=1.000, val_loss=0.168, val_accuracy=0.941]\n",
      "Epoch 172:  91%|█████████ | 232/255 [01:24<00:08,  2.74it/s, loss=0.0478, v_num=1, train_loss=0.00789, train_accuracy=1.000, val_loss=0.168, val_accuracy=0.941]\n",
      "Epoch 172:  92%|█████████▏| 234/255 [01:25<00:07,  2.75it/s, loss=0.0478, v_num=1, train_loss=0.00789, train_accuracy=1.000, val_loss=0.168, val_accuracy=0.941]\n",
      "Epoch 172:  93%|█████████▎| 236/255 [01:25<00:06,  2.77it/s, loss=0.0478, v_num=1, train_loss=0.00789, train_accuracy=1.000, val_loss=0.168, val_accuracy=0.941]\n",
      "Epoch 172:  93%|█████████▎| 238/255 [01:25<00:06,  2.79it/s, loss=0.0478, v_num=1, train_loss=0.00789, train_accuracy=1.000, val_loss=0.168, val_accuracy=0.941]\n",
      "Epoch 172:  94%|█████████▍| 240/255 [01:25<00:05,  2.81it/s, loss=0.0478, v_num=1, train_loss=0.00789, train_accuracy=1.000, val_loss=0.168, val_accuracy=0.941]\n",
      "Epoch 172:  95%|█████████▍| 242/255 [01:25<00:04,  2.83it/s, loss=0.0478, v_num=1, train_loss=0.00789, train_accuracy=1.000, val_loss=0.168, val_accuracy=0.941]\n",
      "Epoch 172:  96%|█████████▌| 244/255 [01:25<00:03,  2.84it/s, loss=0.0478, v_num=1, train_loss=0.00789, train_accuracy=1.000, val_loss=0.168, val_accuracy=0.941]\n",
      "Epoch 172:  96%|█████████▋| 246/255 [01:26<00:03,  2.86it/s, loss=0.0478, v_num=1, train_loss=0.00789, train_accuracy=1.000, val_loss=0.168, val_accuracy=0.941]\n",
      "Epoch 172:  97%|█████████▋| 248/255 [01:26<00:02,  2.88it/s, loss=0.0478, v_num=1, train_loss=0.00789, train_accuracy=1.000, val_loss=0.168, val_accuracy=0.941]\n",
      "Epoch 172:  98%|█████████▊| 250/255 [01:26<00:01,  2.89it/s, loss=0.0478, v_num=1, train_loss=0.00789, train_accuracy=1.000, val_loss=0.168, val_accuracy=0.941]\n",
      "Epoch 172:  99%|█████████▉| 252/255 [01:26<00:01,  2.91it/s, loss=0.0478, v_num=1, train_loss=0.00789, train_accuracy=1.000, val_loss=0.168, val_accuracy=0.941]\n",
      "Epoch 172: 100%|█████████▉| 254/255 [01:26<00:00,  2.93it/s, loss=0.0478, v_num=1, train_loss=0.00789, train_accuracy=1.000, val_loss=0.168, val_accuracy=0.941]\n",
      "Epoch 172: 100%|██████████| 255/255 [01:27<00:00,  2.92it/s, loss=0.0478, v_num=1, train_loss=0.00789, train_accuracy=1.000, val_loss=0.195, val_accuracy=0.947]\n",
      "Epoch 172: 100%|██████████| 255/255 [01:27<00:00,  2.92it/s, loss=0.0478, v_num=1, train_loss=0.00789, train_accuracy=1.000, val_loss=0.195, val_accuracy=0.947]"
     ]
    },
    {
     "name": "stderr",
     "output_type": "stream",
     "text": [
      "Epoch 172, global step 39097: val_loss was not in top 2\n"
     ]
    },
    {
     "name": "stdout",
     "output_type": "stream",
     "text": [
      "Epoch 173:  89%|████████▊ | 226/255 [01:22<00:10,  2.74it/s, loss=0.0693, v_num=1, train_loss=0.191, train_accuracy=0.889, val_loss=0.195, val_accuracy=0.947]  \n",
      "Validating: 0it [00:00, ?it/s]\u001b[A\n",
      "Validating:   0%|          | 0/29 [00:00<?, ?it/s]\u001b[A\n",
      "Epoch 173:  89%|████████▉ | 228/255 [01:24<00:10,  2.69it/s, loss=0.0693, v_num=1, train_loss=0.191, train_accuracy=0.889, val_loss=0.195, val_accuracy=0.947]\n",
      "Epoch 173:  90%|█████████ | 230/255 [01:24<00:09,  2.71it/s, loss=0.0693, v_num=1, train_loss=0.191, train_accuracy=0.889, val_loss=0.195, val_accuracy=0.947]\n",
      "Epoch 173:  91%|█████████ | 232/255 [01:25<00:08,  2.73it/s, loss=0.0693, v_num=1, train_loss=0.191, train_accuracy=0.889, val_loss=0.195, val_accuracy=0.947]\n",
      "Epoch 173:  92%|█████████▏| 234/255 [01:25<00:07,  2.74it/s, loss=0.0693, v_num=1, train_loss=0.191, train_accuracy=0.889, val_loss=0.195, val_accuracy=0.947]\n",
      "Epoch 173:  93%|█████████▎| 236/255 [01:25<00:06,  2.76it/s, loss=0.0693, v_num=1, train_loss=0.191, train_accuracy=0.889, val_loss=0.195, val_accuracy=0.947]\n",
      "Epoch 173:  93%|█████████▎| 238/255 [01:25<00:06,  2.78it/s, loss=0.0693, v_num=1, train_loss=0.191, train_accuracy=0.889, val_loss=0.195, val_accuracy=0.947]\n",
      "Epoch 173:  94%|█████████▍| 240/255 [01:25<00:05,  2.80it/s, loss=0.0693, v_num=1, train_loss=0.191, train_accuracy=0.889, val_loss=0.195, val_accuracy=0.947]\n",
      "Epoch 173:  95%|█████████▍| 242/255 [01:25<00:04,  2.82it/s, loss=0.0693, v_num=1, train_loss=0.191, train_accuracy=0.889, val_loss=0.195, val_accuracy=0.947]\n",
      "Epoch 173:  96%|█████████▌| 244/255 [01:26<00:03,  2.83it/s, loss=0.0693, v_num=1, train_loss=0.191, train_accuracy=0.889, val_loss=0.195, val_accuracy=0.947]\n",
      "Epoch 173:  96%|█████████▋| 246/255 [01:26<00:03,  2.85it/s, loss=0.0693, v_num=1, train_loss=0.191, train_accuracy=0.889, val_loss=0.195, val_accuracy=0.947]\n",
      "Epoch 173:  97%|█████████▋| 248/255 [01:26<00:02,  2.87it/s, loss=0.0693, v_num=1, train_loss=0.191, train_accuracy=0.889, val_loss=0.195, val_accuracy=0.947]\n",
      "Epoch 173:  98%|█████████▊| 250/255 [01:26<00:01,  2.88it/s, loss=0.0693, v_num=1, train_loss=0.191, train_accuracy=0.889, val_loss=0.195, val_accuracy=0.947]\n",
      "Epoch 173:  99%|█████████▉| 252/255 [01:26<00:01,  2.90it/s, loss=0.0693, v_num=1, train_loss=0.191, train_accuracy=0.889, val_loss=0.195, val_accuracy=0.947]\n",
      "Epoch 173: 100%|█████████▉| 254/255 [01:26<00:00,  2.92it/s, loss=0.0693, v_num=1, train_loss=0.191, train_accuracy=0.889, val_loss=0.195, val_accuracy=0.947]\n",
      "Epoch 173: 100%|██████████| 255/255 [01:27<00:00,  2.92it/s, loss=0.0693, v_num=1, train_loss=0.191, train_accuracy=0.889, val_loss=0.231, val_accuracy=0.930]\n",
      "Epoch 173: 100%|██████████| 255/255 [01:27<00:00,  2.92it/s, loss=0.0693, v_num=1, train_loss=0.191, train_accuracy=0.889, val_loss=0.231, val_accuracy=0.930]"
     ]
    },
    {
     "name": "stderr",
     "output_type": "stream",
     "text": [
      "Epoch 173, global step 39323: val_loss was not in top 2\n"
     ]
    },
    {
     "name": "stdout",
     "output_type": "stream",
     "text": [
      "Epoch 174:  89%|████████▊ | 226/255 [01:22<00:10,  2.75it/s, loss=0.0815, v_num=1, train_loss=0.0435, train_accuracy=1.000, val_loss=0.231, val_accuracy=0.930] \n",
      "Validating: 0it [00:00, ?it/s]\u001b[A\n",
      "Validating:   0%|          | 0/29 [00:00<?, ?it/s]\u001b[A\n",
      "Epoch 174:  89%|████████▉ | 228/255 [01:24<00:10,  2.70it/s, loss=0.0815, v_num=1, train_loss=0.0435, train_accuracy=1.000, val_loss=0.231, val_accuracy=0.930]\n",
      "Epoch 174:  90%|█████████ | 230/255 [01:24<00:09,  2.72it/s, loss=0.0815, v_num=1, train_loss=0.0435, train_accuracy=1.000, val_loss=0.231, val_accuracy=0.930]\n",
      "Epoch 174:  91%|█████████ | 232/255 [01:24<00:08,  2.73it/s, loss=0.0815, v_num=1, train_loss=0.0435, train_accuracy=1.000, val_loss=0.231, val_accuracy=0.930]\n",
      "Epoch 174:  92%|█████████▏| 234/255 [01:25<00:07,  2.75it/s, loss=0.0815, v_num=1, train_loss=0.0435, train_accuracy=1.000, val_loss=0.231, val_accuracy=0.930]\n",
      "Epoch 174:  93%|█████████▎| 236/255 [01:25<00:06,  2.77it/s, loss=0.0815, v_num=1, train_loss=0.0435, train_accuracy=1.000, val_loss=0.231, val_accuracy=0.930]\n",
      "Epoch 174:  93%|█████████▎| 238/255 [01:25<00:06,  2.79it/s, loss=0.0815, v_num=1, train_loss=0.0435, train_accuracy=1.000, val_loss=0.231, val_accuracy=0.930]\n",
      "Epoch 174:  94%|█████████▍| 240/255 [01:25<00:05,  2.81it/s, loss=0.0815, v_num=1, train_loss=0.0435, train_accuracy=1.000, val_loss=0.231, val_accuracy=0.930]\n",
      "Epoch 174:  95%|█████████▍| 242/255 [01:25<00:04,  2.82it/s, loss=0.0815, v_num=1, train_loss=0.0435, train_accuracy=1.000, val_loss=0.231, val_accuracy=0.930]\n",
      "Epoch 174:  96%|█████████▌| 244/255 [01:25<00:03,  2.84it/s, loss=0.0815, v_num=1, train_loss=0.0435, train_accuracy=1.000, val_loss=0.231, val_accuracy=0.930]\n",
      "Epoch 174:  96%|█████████▋| 246/255 [01:26<00:03,  2.86it/s, loss=0.0815, v_num=1, train_loss=0.0435, train_accuracy=1.000, val_loss=0.231, val_accuracy=0.930]\n",
      "Epoch 174:  97%|█████████▋| 248/255 [01:26<00:02,  2.88it/s, loss=0.0815, v_num=1, train_loss=0.0435, train_accuracy=1.000, val_loss=0.231, val_accuracy=0.930]\n",
      "Epoch 174:  98%|█████████▊| 250/255 [01:26<00:01,  2.90it/s, loss=0.0815, v_num=1, train_loss=0.0435, train_accuracy=1.000, val_loss=0.231, val_accuracy=0.930]\n",
      "Epoch 174:  99%|█████████▉| 252/255 [01:26<00:01,  2.91it/s, loss=0.0815, v_num=1, train_loss=0.0435, train_accuracy=1.000, val_loss=0.231, val_accuracy=0.930]\n",
      "Epoch 174: 100%|█████████▉| 254/255 [01:26<00:00,  2.93it/s, loss=0.0815, v_num=1, train_loss=0.0435, train_accuracy=1.000, val_loss=0.231, val_accuracy=0.930]\n",
      "Epoch 174: 100%|██████████| 255/255 [01:27<00:00,  2.93it/s, loss=0.0815, v_num=1, train_loss=0.0435, train_accuracy=1.000, val_loss=0.174, val_accuracy=0.944]\n",
      "Epoch 174: 100%|██████████| 255/255 [01:27<00:00,  2.93it/s, loss=0.0815, v_num=1, train_loss=0.0435, train_accuracy=1.000, val_loss=0.174, val_accuracy=0.944]"
     ]
    },
    {
     "name": "stderr",
     "output_type": "stream",
     "text": [
      "Epoch 174, global step 39549: val_loss was not in top 2\n"
     ]
    },
    {
     "name": "stdout",
     "output_type": "stream",
     "text": [
      "Epoch 175:  89%|████████▊ | 226/255 [01:22<00:10,  2.75it/s, loss=0.0387, v_num=1, train_loss=0.0127, train_accuracy=1.000, val_loss=0.174, val_accuracy=0.944] \n",
      "Validating: 0it [00:00, ?it/s]\u001b[A\n",
      "Validating:   0%|          | 0/29 [00:00<?, ?it/s]\u001b[A\n",
      "Epoch 175:  89%|████████▉ | 228/255 [01:24<00:10,  2.69it/s, loss=0.0387, v_num=1, train_loss=0.0127, train_accuracy=1.000, val_loss=0.174, val_accuracy=0.944]\n",
      "Epoch 175:  90%|█████████ | 230/255 [01:24<00:09,  2.71it/s, loss=0.0387, v_num=1, train_loss=0.0127, train_accuracy=1.000, val_loss=0.174, val_accuracy=0.944]\n",
      "Epoch 175:  91%|█████████ | 232/255 [01:24<00:08,  2.73it/s, loss=0.0387, v_num=1, train_loss=0.0127, train_accuracy=1.000, val_loss=0.174, val_accuracy=0.944]\n",
      "Epoch 175:  92%|█████████▏| 234/255 [01:25<00:07,  2.75it/s, loss=0.0387, v_num=1, train_loss=0.0127, train_accuracy=1.000, val_loss=0.174, val_accuracy=0.944]\n",
      "Epoch 175:  93%|█████████▎| 236/255 [01:25<00:06,  2.77it/s, loss=0.0387, v_num=1, train_loss=0.0127, train_accuracy=1.000, val_loss=0.174, val_accuracy=0.944]\n",
      "Epoch 175:  93%|█████████▎| 238/255 [01:25<00:06,  2.79it/s, loss=0.0387, v_num=1, train_loss=0.0127, train_accuracy=1.000, val_loss=0.174, val_accuracy=0.944]\n",
      "Epoch 175:  94%|█████████▍| 240/255 [01:25<00:05,  2.81it/s, loss=0.0387, v_num=1, train_loss=0.0127, train_accuracy=1.000, val_loss=0.174, val_accuracy=0.944]\n",
      "Epoch 175:  95%|█████████▍| 242/255 [01:25<00:04,  2.82it/s, loss=0.0387, v_num=1, train_loss=0.0127, train_accuracy=1.000, val_loss=0.174, val_accuracy=0.944]\n",
      "Epoch 175:  96%|█████████▌| 244/255 [01:25<00:03,  2.84it/s, loss=0.0387, v_num=1, train_loss=0.0127, train_accuracy=1.000, val_loss=0.174, val_accuracy=0.944]\n",
      "Epoch 175:  96%|█████████▋| 246/255 [01:25<00:03,  2.86it/s, loss=0.0387, v_num=1, train_loss=0.0127, train_accuracy=1.000, val_loss=0.174, val_accuracy=0.944]\n",
      "Epoch 175:  97%|█████████▋| 248/255 [01:26<00:02,  2.88it/s, loss=0.0387, v_num=1, train_loss=0.0127, train_accuracy=1.000, val_loss=0.174, val_accuracy=0.944]\n",
      "Epoch 175:  98%|█████████▊| 250/255 [01:26<00:01,  2.90it/s, loss=0.0387, v_num=1, train_loss=0.0127, train_accuracy=1.000, val_loss=0.174, val_accuracy=0.944]\n",
      "Epoch 175:  99%|█████████▉| 252/255 [01:26<00:01,  2.91it/s, loss=0.0387, v_num=1, train_loss=0.0127, train_accuracy=1.000, val_loss=0.174, val_accuracy=0.944]\n",
      "Epoch 175: 100%|█████████▉| 254/255 [01:26<00:00,  2.93it/s, loss=0.0387, v_num=1, train_loss=0.0127, train_accuracy=1.000, val_loss=0.174, val_accuracy=0.944]\n",
      "Epoch 175: 100%|██████████| 255/255 [01:27<00:00,  2.93it/s, loss=0.0387, v_num=1, train_loss=0.0127, train_accuracy=1.000, val_loss=0.188, val_accuracy=0.947]\n",
      "Epoch 175: 100%|██████████| 255/255 [01:27<00:00,  2.93it/s, loss=0.0387, v_num=1, train_loss=0.0127, train_accuracy=1.000, val_loss=0.188, val_accuracy=0.947]"
     ]
    },
    {
     "name": "stderr",
     "output_type": "stream",
     "text": [
      "Epoch 175, global step 39775: val_loss was not in top 2\n"
     ]
    },
    {
     "name": "stdout",
     "output_type": "stream",
     "text": [
      "Epoch 176:  89%|████████▊ | 226/255 [01:22<00:10,  2.74it/s, loss=0.0453, v_num=1, train_loss=0.0062, train_accuracy=1.000, val_loss=0.188, val_accuracy=0.947] \n",
      "Validating: 0it [00:00, ?it/s]\u001b[A\n",
      "Validating:   0%|          | 0/29 [00:00<?, ?it/s]\u001b[A\n",
      "Epoch 176:  89%|████████▉ | 228/255 [01:24<00:10,  2.69it/s, loss=0.0453, v_num=1, train_loss=0.0062, train_accuracy=1.000, val_loss=0.188, val_accuracy=0.947]\n",
      "Epoch 176:  90%|█████████ | 230/255 [01:25<00:09,  2.71it/s, loss=0.0453, v_num=1, train_loss=0.0062, train_accuracy=1.000, val_loss=0.188, val_accuracy=0.947]\n",
      "Epoch 176:  91%|█████████ | 232/255 [01:25<00:08,  2.72it/s, loss=0.0453, v_num=1, train_loss=0.0062, train_accuracy=1.000, val_loss=0.188, val_accuracy=0.947]\n",
      "Epoch 176:  92%|█████████▏| 234/255 [01:25<00:07,  2.74it/s, loss=0.0453, v_num=1, train_loss=0.0062, train_accuracy=1.000, val_loss=0.188, val_accuracy=0.947]\n",
      "Epoch 176:  93%|█████████▎| 236/255 [01:25<00:06,  2.76it/s, loss=0.0453, v_num=1, train_loss=0.0062, train_accuracy=1.000, val_loss=0.188, val_accuracy=0.947]\n",
      "Epoch 176:  93%|█████████▎| 238/255 [01:25<00:06,  2.78it/s, loss=0.0453, v_num=1, train_loss=0.0062, train_accuracy=1.000, val_loss=0.188, val_accuracy=0.947]\n",
      "Epoch 176:  94%|█████████▍| 240/255 [01:25<00:05,  2.79it/s, loss=0.0453, v_num=1, train_loss=0.0062, train_accuracy=1.000, val_loss=0.188, val_accuracy=0.947]\n",
      "Epoch 176:  95%|█████████▍| 242/255 [01:26<00:04,  2.81it/s, loss=0.0453, v_num=1, train_loss=0.0062, train_accuracy=1.000, val_loss=0.188, val_accuracy=0.947]\n",
      "Epoch 176:  96%|█████████▌| 244/255 [01:26<00:03,  2.83it/s, loss=0.0453, v_num=1, train_loss=0.0062, train_accuracy=1.000, val_loss=0.188, val_accuracy=0.947]\n",
      "Epoch 176:  96%|█████████▋| 246/255 [01:26<00:03,  2.85it/s, loss=0.0453, v_num=1, train_loss=0.0062, train_accuracy=1.000, val_loss=0.188, val_accuracy=0.947]\n",
      "Epoch 176:  97%|█████████▋| 248/255 [01:26<00:02,  2.86it/s, loss=0.0453, v_num=1, train_loss=0.0062, train_accuracy=1.000, val_loss=0.188, val_accuracy=0.947]\n",
      "Epoch 176:  98%|█████████▊| 250/255 [01:26<00:01,  2.88it/s, loss=0.0453, v_num=1, train_loss=0.0062, train_accuracy=1.000, val_loss=0.188, val_accuracy=0.947]\n",
      "Epoch 176:  99%|█████████▉| 252/255 [01:26<00:01,  2.90it/s, loss=0.0453, v_num=1, train_loss=0.0062, train_accuracy=1.000, val_loss=0.188, val_accuracy=0.947]\n",
      "Epoch 176: 100%|█████████▉| 254/255 [01:27<00:00,  2.92it/s, loss=0.0453, v_num=1, train_loss=0.0062, train_accuracy=1.000, val_loss=0.188, val_accuracy=0.947]\n",
      "Epoch 176: 100%|██████████| 255/255 [01:27<00:00,  2.91it/s, loss=0.0453, v_num=1, train_loss=0.0062, train_accuracy=1.000, val_loss=0.167, val_accuracy=0.947]\n",
      "Epoch 176: 100%|██████████| 255/255 [01:27<00:00,  2.91it/s, loss=0.0453, v_num=1, train_loss=0.0062, train_accuracy=1.000, val_loss=0.167, val_accuracy=0.947]"
     ]
    },
    {
     "name": "stderr",
     "output_type": "stream",
     "text": [
      "Epoch 176, global step 40001: val_loss reached 0.16676 (best 0.16676), saving model to \"/Workspace/code/checkpoints/best-checkpoint-corr-random-20-v6.ckpt\" as top 2\n"
     ]
    },
    {
     "name": "stdout",
     "output_type": "stream",
     "text": [
      "Epoch 177:  89%|████████▊ | 226/255 [01:22<00:10,  2.74it/s, loss=0.0368, v_num=1, train_loss=0.0887, train_accuracy=0.944, val_loss=0.167, val_accuracy=0.947] \n",
      "Validating: 0it [00:00, ?it/s]\u001b[A\n",
      "Validating:   0%|          | 0/29 [00:00<?, ?it/s]\u001b[A\n",
      "Epoch 177:  89%|████████▉ | 228/255 [01:24<00:10,  2.68it/s, loss=0.0368, v_num=1, train_loss=0.0887, train_accuracy=0.944, val_loss=0.167, val_accuracy=0.947]\n",
      "Epoch 177:  90%|█████████ | 230/255 [01:25<00:09,  2.70it/s, loss=0.0368, v_num=1, train_loss=0.0887, train_accuracy=0.944, val_loss=0.167, val_accuracy=0.947]\n",
      "Epoch 177:  91%|█████████ | 232/255 [01:25<00:08,  2.72it/s, loss=0.0368, v_num=1, train_loss=0.0887, train_accuracy=0.944, val_loss=0.167, val_accuracy=0.947]\n",
      "Epoch 177:  92%|█████████▏| 234/255 [01:25<00:07,  2.74it/s, loss=0.0368, v_num=1, train_loss=0.0887, train_accuracy=0.944, val_loss=0.167, val_accuracy=0.947]\n",
      "Epoch 177:  93%|█████████▎| 236/255 [01:25<00:06,  2.76it/s, loss=0.0368, v_num=1, train_loss=0.0887, train_accuracy=0.944, val_loss=0.167, val_accuracy=0.947]\n",
      "Epoch 177:  93%|█████████▎| 238/255 [01:25<00:06,  2.78it/s, loss=0.0368, v_num=1, train_loss=0.0887, train_accuracy=0.944, val_loss=0.167, val_accuracy=0.947]\n",
      "Epoch 177:  94%|█████████▍| 240/255 [01:25<00:05,  2.80it/s, loss=0.0368, v_num=1, train_loss=0.0887, train_accuracy=0.944, val_loss=0.167, val_accuracy=0.947]\n",
      "Epoch 177:  95%|█████████▍| 242/255 [01:26<00:04,  2.81it/s, loss=0.0368, v_num=1, train_loss=0.0887, train_accuracy=0.944, val_loss=0.167, val_accuracy=0.947]\n",
      "Epoch 177:  96%|█████████▌| 244/255 [01:26<00:03,  2.83it/s, loss=0.0368, v_num=1, train_loss=0.0887, train_accuracy=0.944, val_loss=0.167, val_accuracy=0.947]\n",
      "Epoch 177:  96%|█████████▋| 246/255 [01:26<00:03,  2.85it/s, loss=0.0368, v_num=1, train_loss=0.0887, train_accuracy=0.944, val_loss=0.167, val_accuracy=0.947]\n",
      "Epoch 177:  97%|█████████▋| 248/255 [01:26<00:02,  2.87it/s, loss=0.0368, v_num=1, train_loss=0.0887, train_accuracy=0.944, val_loss=0.167, val_accuracy=0.947]\n",
      "Epoch 177:  98%|█████████▊| 250/255 [01:26<00:01,  2.89it/s, loss=0.0368, v_num=1, train_loss=0.0887, train_accuracy=0.944, val_loss=0.167, val_accuracy=0.947]\n",
      "Epoch 177:  99%|█████████▉| 252/255 [01:26<00:01,  2.90it/s, loss=0.0368, v_num=1, train_loss=0.0887, train_accuracy=0.944, val_loss=0.167, val_accuracy=0.947]\n",
      "Epoch 177: 100%|█████████▉| 254/255 [01:26<00:00,  2.92it/s, loss=0.0368, v_num=1, train_loss=0.0887, train_accuracy=0.944, val_loss=0.167, val_accuracy=0.947]\n",
      "Epoch 177: 100%|██████████| 255/255 [01:27<00:00,  2.91it/s, loss=0.0368, v_num=1, train_loss=0.0887, train_accuracy=0.944, val_loss=0.167, val_accuracy=0.950]\n",
      "Epoch 177: 100%|██████████| 255/255 [01:27<00:00,  2.91it/s, loss=0.0368, v_num=1, train_loss=0.0887, train_accuracy=0.944, val_loss=0.167, val_accuracy=0.950]"
     ]
    },
    {
     "name": "stderr",
     "output_type": "stream",
     "text": [
      "Epoch 177, global step 40227: val_loss reached 0.16703 (best 0.16676), saving model to \"/Workspace/code/checkpoints/best-checkpoint-corr-random-20-v5.ckpt\" as top 2\n"
     ]
    },
    {
     "name": "stdout",
     "output_type": "stream",
     "text": [
      "Epoch 178:  89%|████████▊ | 226/255 [01:22<00:10,  2.74it/s, loss=0.0391, v_num=1, train_loss=0.0107, train_accuracy=1.000, val_loss=0.167, val_accuracy=0.950] \n",
      "Validating: 0it [00:00, ?it/s]\u001b[A\n",
      "Validating:   0%|          | 0/29 [00:00<?, ?it/s]\u001b[A\n",
      "Epoch 178:  89%|████████▉ | 228/255 [01:24<00:10,  2.68it/s, loss=0.0391, v_num=1, train_loss=0.0107, train_accuracy=1.000, val_loss=0.167, val_accuracy=0.950]\n",
      "Epoch 178:  90%|█████████ | 230/255 [01:25<00:09,  2.70it/s, loss=0.0391, v_num=1, train_loss=0.0107, train_accuracy=1.000, val_loss=0.167, val_accuracy=0.950]\n",
      "Epoch 178:  91%|█████████ | 232/255 [01:25<00:08,  2.72it/s, loss=0.0391, v_num=1, train_loss=0.0107, train_accuracy=1.000, val_loss=0.167, val_accuracy=0.950]\n",
      "Epoch 178:  92%|█████████▏| 234/255 [01:25<00:07,  2.74it/s, loss=0.0391, v_num=1, train_loss=0.0107, train_accuracy=1.000, val_loss=0.167, val_accuracy=0.950]\n",
      "Epoch 178:  93%|█████████▎| 236/255 [01:25<00:06,  2.76it/s, loss=0.0391, v_num=1, train_loss=0.0107, train_accuracy=1.000, val_loss=0.167, val_accuracy=0.950]\n",
      "Epoch 178:  93%|█████████▎| 238/255 [01:25<00:06,  2.77it/s, loss=0.0391, v_num=1, train_loss=0.0107, train_accuracy=1.000, val_loss=0.167, val_accuracy=0.950]\n",
      "Epoch 178:  94%|█████████▍| 240/255 [01:25<00:05,  2.79it/s, loss=0.0391, v_num=1, train_loss=0.0107, train_accuracy=1.000, val_loss=0.167, val_accuracy=0.950]\n",
      "Epoch 178:  95%|█████████▍| 242/255 [01:26<00:04,  2.81it/s, loss=0.0391, v_num=1, train_loss=0.0107, train_accuracy=1.000, val_loss=0.167, val_accuracy=0.950]\n",
      "Epoch 178:  96%|█████████▌| 244/255 [01:26<00:03,  2.83it/s, loss=0.0391, v_num=1, train_loss=0.0107, train_accuracy=1.000, val_loss=0.167, val_accuracy=0.950]\n",
      "Epoch 178:  96%|█████████▋| 246/255 [01:26<00:03,  2.85it/s, loss=0.0391, v_num=1, train_loss=0.0107, train_accuracy=1.000, val_loss=0.167, val_accuracy=0.950]\n",
      "Epoch 178:  97%|█████████▋| 248/255 [01:26<00:02,  2.87it/s, loss=0.0391, v_num=1, train_loss=0.0107, train_accuracy=1.000, val_loss=0.167, val_accuracy=0.950]\n",
      "Epoch 178:  98%|█████████▊| 250/255 [01:26<00:01,  2.88it/s, loss=0.0391, v_num=1, train_loss=0.0107, train_accuracy=1.000, val_loss=0.167, val_accuracy=0.950]\n",
      "Epoch 178:  99%|█████████▉| 252/255 [01:26<00:01,  2.90it/s, loss=0.0391, v_num=1, train_loss=0.0107, train_accuracy=1.000, val_loss=0.167, val_accuracy=0.950]\n",
      "Epoch 178: 100%|█████████▉| 254/255 [01:26<00:00,  2.92it/s, loss=0.0391, v_num=1, train_loss=0.0107, train_accuracy=1.000, val_loss=0.167, val_accuracy=0.950]\n",
      "Epoch 178: 100%|██████████| 255/255 [01:27<00:00,  2.92it/s, loss=0.0391, v_num=1, train_loss=0.0107, train_accuracy=1.000, val_loss=0.175, val_accuracy=0.951]\n",
      "Epoch 178: 100%|██████████| 255/255 [01:27<00:00,  2.92it/s, loss=0.0391, v_num=1, train_loss=0.0107, train_accuracy=1.000, val_loss=0.175, val_accuracy=0.951]"
     ]
    },
    {
     "name": "stderr",
     "output_type": "stream",
     "text": [
      "Epoch 178, global step 40453: val_loss was not in top 2\n"
     ]
    },
    {
     "name": "stdout",
     "output_type": "stream",
     "text": [
      "Epoch 179:  89%|████████▊ | 226/255 [01:22<00:10,  2.73it/s, loss=0.0969, v_num=1, train_loss=0.220, train_accuracy=0.889, val_loss=0.175, val_accuracy=0.951]  \n",
      "Validating: 0it [00:00, ?it/s]\u001b[A\n",
      "Validating:   0%|          | 0/29 [00:00<?, ?it/s]\u001b[A\n",
      "Epoch 179:  89%|████████▉ | 228/255 [01:25<00:10,  2.67it/s, loss=0.0969, v_num=1, train_loss=0.220, train_accuracy=0.889, val_loss=0.175, val_accuracy=0.951]\n",
      "Epoch 179:  90%|█████████ | 230/255 [01:25<00:09,  2.69it/s, loss=0.0969, v_num=1, train_loss=0.220, train_accuracy=0.889, val_loss=0.175, val_accuracy=0.951]\n",
      "Epoch 179:  91%|█████████ | 232/255 [01:25<00:08,  2.71it/s, loss=0.0969, v_num=1, train_loss=0.220, train_accuracy=0.889, val_loss=0.175, val_accuracy=0.951]\n",
      "Epoch 179:  92%|█████████▏| 234/255 [01:25<00:07,  2.73it/s, loss=0.0969, v_num=1, train_loss=0.220, train_accuracy=0.889, val_loss=0.175, val_accuracy=0.951]\n",
      "Epoch 179:  93%|█████████▎| 236/255 [01:25<00:06,  2.75it/s, loss=0.0969, v_num=1, train_loss=0.220, train_accuracy=0.889, val_loss=0.175, val_accuracy=0.951]\n",
      "Epoch 179:  93%|█████████▎| 238/255 [01:26<00:06,  2.77it/s, loss=0.0969, v_num=1, train_loss=0.220, train_accuracy=0.889, val_loss=0.175, val_accuracy=0.951]\n",
      "Epoch 179:  94%|█████████▍| 240/255 [01:26<00:05,  2.78it/s, loss=0.0969, v_num=1, train_loss=0.220, train_accuracy=0.889, val_loss=0.175, val_accuracy=0.951]\n",
      "Epoch 179:  95%|█████████▍| 242/255 [01:26<00:04,  2.80it/s, loss=0.0969, v_num=1, train_loss=0.220, train_accuracy=0.889, val_loss=0.175, val_accuracy=0.951]\n",
      "Epoch 179:  96%|█████████▌| 244/255 [01:26<00:03,  2.82it/s, loss=0.0969, v_num=1, train_loss=0.220, train_accuracy=0.889, val_loss=0.175, val_accuracy=0.951]\n",
      "Epoch 179:  96%|█████████▋| 246/255 [01:26<00:03,  2.84it/s, loss=0.0969, v_num=1, train_loss=0.220, train_accuracy=0.889, val_loss=0.175, val_accuracy=0.951]\n",
      "Epoch 179:  97%|█████████▋| 248/255 [01:26<00:02,  2.86it/s, loss=0.0969, v_num=1, train_loss=0.220, train_accuracy=0.889, val_loss=0.175, val_accuracy=0.951]\n",
      "Epoch 179:  98%|█████████▊| 250/255 [01:27<00:01,  2.87it/s, loss=0.0969, v_num=1, train_loss=0.220, train_accuracy=0.889, val_loss=0.175, val_accuracy=0.951]\n",
      "Epoch 179:  99%|█████████▉| 252/255 [01:27<00:01,  2.89it/s, loss=0.0969, v_num=1, train_loss=0.220, train_accuracy=0.889, val_loss=0.175, val_accuracy=0.951]\n",
      "Epoch 179: 100%|█████████▉| 254/255 [01:27<00:00,  2.91it/s, loss=0.0969, v_num=1, train_loss=0.220, train_accuracy=0.889, val_loss=0.175, val_accuracy=0.951]\n",
      "Epoch 179: 100%|██████████| 255/255 [01:27<00:00,  2.90it/s, loss=0.0969, v_num=1, train_loss=0.220, train_accuracy=0.889, val_loss=0.210, val_accuracy=0.939]\n",
      "Epoch 179: 100%|██████████| 255/255 [01:27<00:00,  2.90it/s, loss=0.0969, v_num=1, train_loss=0.220, train_accuracy=0.889, val_loss=0.210, val_accuracy=0.939]"
     ]
    },
    {
     "name": "stderr",
     "output_type": "stream",
     "text": [
      "Epoch 179, global step 40679: val_loss was not in top 2\n"
     ]
    },
    {
     "name": "stdout",
     "output_type": "stream",
     "text": [
      "Epoch 180:  89%|████████▊ | 226/255 [01:22<00:10,  2.73it/s, loss=0.0534, v_num=1, train_loss=0.0106, train_accuracy=1.000, val_loss=0.210, val_accuracy=0.939] \n",
      "Validating: 0it [00:00, ?it/s]\u001b[A\n",
      "Validating:   0%|          | 0/29 [00:00<?, ?it/s]\u001b[A\n",
      "Epoch 180:  89%|████████▉ | 228/255 [01:25<00:10,  2.68it/s, loss=0.0534, v_num=1, train_loss=0.0106, train_accuracy=1.000, val_loss=0.210, val_accuracy=0.939]\n",
      "Validating:   7%|▋         | 2/29 [00:02<00:28,  1.05s/it]\u001b[A\n",
      "Epoch 180:  90%|█████████ | 230/255 [01:25<00:09,  2.69it/s, loss=0.0534, v_num=1, train_loss=0.0106, train_accuracy=1.000, val_loss=0.210, val_accuracy=0.939]\n",
      "Epoch 180:  91%|█████████ | 232/255 [01:25<00:08,  2.71it/s, loss=0.0534, v_num=1, train_loss=0.0106, train_accuracy=1.000, val_loss=0.210, val_accuracy=0.939]\n",
      "Epoch 180:  92%|█████████▏| 234/255 [01:25<00:07,  2.73it/s, loss=0.0534, v_num=1, train_loss=0.0106, train_accuracy=1.000, val_loss=0.210, val_accuracy=0.939]\n",
      "Epoch 180:  93%|█████████▎| 236/255 [01:25<00:06,  2.75it/s, loss=0.0534, v_num=1, train_loss=0.0106, train_accuracy=1.000, val_loss=0.210, val_accuracy=0.939]\n",
      "Epoch 180:  93%|█████████▎| 238/255 [01:26<00:06,  2.77it/s, loss=0.0534, v_num=1, train_loss=0.0106, train_accuracy=1.000, val_loss=0.210, val_accuracy=0.939]\n",
      "Epoch 180:  94%|█████████▍| 240/255 [01:26<00:05,  2.79it/s, loss=0.0534, v_num=1, train_loss=0.0106, train_accuracy=1.000, val_loss=0.210, val_accuracy=0.939]\n",
      "Epoch 180:  95%|█████████▍| 242/255 [01:26<00:04,  2.80it/s, loss=0.0534, v_num=1, train_loss=0.0106, train_accuracy=1.000, val_loss=0.210, val_accuracy=0.939]\n",
      "Epoch 180:  96%|█████████▌| 244/255 [01:26<00:03,  2.82it/s, loss=0.0534, v_num=1, train_loss=0.0106, train_accuracy=1.000, val_loss=0.210, val_accuracy=0.939]\n",
      "Epoch 180:  96%|█████████▋| 246/255 [01:26<00:03,  2.84it/s, loss=0.0534, v_num=1, train_loss=0.0106, train_accuracy=1.000, val_loss=0.210, val_accuracy=0.939]\n",
      "Epoch 180:  97%|█████████▋| 248/255 [01:26<00:02,  2.86it/s, loss=0.0534, v_num=1, train_loss=0.0106, train_accuracy=1.000, val_loss=0.210, val_accuracy=0.939]\n",
      "Epoch 180:  98%|█████████▊| 250/255 [01:26<00:01,  2.88it/s, loss=0.0534, v_num=1, train_loss=0.0106, train_accuracy=1.000, val_loss=0.210, val_accuracy=0.939]\n",
      "Epoch 180:  99%|█████████▉| 252/255 [01:27<00:01,  2.89it/s, loss=0.0534, v_num=1, train_loss=0.0106, train_accuracy=1.000, val_loss=0.210, val_accuracy=0.939]\n",
      "Epoch 180: 100%|█████████▉| 254/255 [01:27<00:00,  2.91it/s, loss=0.0534, v_num=1, train_loss=0.0106, train_accuracy=1.000, val_loss=0.210, val_accuracy=0.939]\n",
      "Epoch 180: 100%|██████████| 255/255 [01:27<00:00,  2.91it/s, loss=0.0534, v_num=1, train_loss=0.0106, train_accuracy=1.000, val_loss=0.177, val_accuracy=0.945]\n",
      "Epoch 180: 100%|██████████| 255/255 [01:27<00:00,  2.91it/s, loss=0.0534, v_num=1, train_loss=0.0106, train_accuracy=1.000, val_loss=0.177, val_accuracy=0.945]"
     ]
    },
    {
     "name": "stderr",
     "output_type": "stream",
     "text": [
      "Epoch 180, global step 40905: val_loss was not in top 2\n"
     ]
    },
    {
     "name": "stdout",
     "output_type": "stream",
     "text": [
      "Epoch 181:  89%|████████▊ | 226/255 [01:22<00:10,  2.74it/s, loss=0.049, v_num=1, train_loss=0.0371, train_accuracy=1.000, val_loss=0.177, val_accuracy=0.945]  \n",
      "Validating: 0it [00:00, ?it/s]\u001b[A\n",
      "Validating:   0%|          | 0/29 [00:00<?, ?it/s]\u001b[A\n",
      "Epoch 181:  89%|████████▉ | 228/255 [01:25<00:10,  2.68it/s, loss=0.049, v_num=1, train_loss=0.0371, train_accuracy=1.000, val_loss=0.177, val_accuracy=0.945]\n",
      "Epoch 181:  90%|█████████ | 230/255 [01:25<00:09,  2.70it/s, loss=0.049, v_num=1, train_loss=0.0371, train_accuracy=1.000, val_loss=0.177, val_accuracy=0.945]\n",
      "Epoch 181:  91%|█████████ | 232/255 [01:25<00:08,  2.72it/s, loss=0.049, v_num=1, train_loss=0.0371, train_accuracy=1.000, val_loss=0.177, val_accuracy=0.945]\n",
      "Epoch 181:  92%|█████████▏| 234/255 [01:25<00:07,  2.74it/s, loss=0.049, v_num=1, train_loss=0.0371, train_accuracy=1.000, val_loss=0.177, val_accuracy=0.945]\n",
      "Epoch 181:  93%|█████████▎| 236/255 [01:25<00:06,  2.75it/s, loss=0.049, v_num=1, train_loss=0.0371, train_accuracy=1.000, val_loss=0.177, val_accuracy=0.945]\n",
      "Epoch 181:  93%|█████████▎| 238/255 [01:25<00:06,  2.77it/s, loss=0.049, v_num=1, train_loss=0.0371, train_accuracy=1.000, val_loss=0.177, val_accuracy=0.945]\n",
      "Epoch 181:  94%|█████████▍| 240/255 [01:26<00:05,  2.79it/s, loss=0.049, v_num=1, train_loss=0.0371, train_accuracy=1.000, val_loss=0.177, val_accuracy=0.945]\n",
      "Epoch 181:  95%|█████████▍| 242/255 [01:26<00:04,  2.81it/s, loss=0.049, v_num=1, train_loss=0.0371, train_accuracy=1.000, val_loss=0.177, val_accuracy=0.945]\n",
      "Epoch 181:  96%|█████████▌| 244/255 [01:26<00:03,  2.82it/s, loss=0.049, v_num=1, train_loss=0.0371, train_accuracy=1.000, val_loss=0.177, val_accuracy=0.945]\n",
      "Epoch 181:  96%|█████████▋| 246/255 [01:26<00:03,  2.84it/s, loss=0.049, v_num=1, train_loss=0.0371, train_accuracy=1.000, val_loss=0.177, val_accuracy=0.945]\n",
      "Epoch 181:  97%|█████████▋| 248/255 [01:26<00:02,  2.86it/s, loss=0.049, v_num=1, train_loss=0.0371, train_accuracy=1.000, val_loss=0.177, val_accuracy=0.945]\n",
      "Epoch 181:  98%|█████████▊| 250/255 [01:26<00:01,  2.88it/s, loss=0.049, v_num=1, train_loss=0.0371, train_accuracy=1.000, val_loss=0.177, val_accuracy=0.945]\n",
      "Epoch 181:  99%|█████████▉| 252/255 [01:27<00:01,  2.89it/s, loss=0.049, v_num=1, train_loss=0.0371, train_accuracy=1.000, val_loss=0.177, val_accuracy=0.945]\n",
      "Epoch 181: 100%|█████████▉| 254/255 [01:27<00:00,  2.91it/s, loss=0.049, v_num=1, train_loss=0.0371, train_accuracy=1.000, val_loss=0.177, val_accuracy=0.945]\n",
      "Epoch 181: 100%|██████████| 255/255 [01:27<00:00,  2.90it/s, loss=0.049, v_num=1, train_loss=0.0371, train_accuracy=1.000, val_loss=0.200, val_accuracy=0.945]\n",
      "Epoch 181: 100%|██████████| 255/255 [01:27<00:00,  2.90it/s, loss=0.049, v_num=1, train_loss=0.0371, train_accuracy=1.000, val_loss=0.200, val_accuracy=0.945]"
     ]
    },
    {
     "name": "stderr",
     "output_type": "stream",
     "text": [
      "Epoch 181, global step 41131: val_loss was not in top 2\n"
     ]
    },
    {
     "name": "stdout",
     "output_type": "stream",
     "text": [
      "Epoch 182:  89%|████████▊ | 226/255 [01:22<00:10,  2.75it/s, loss=0.0431, v_num=1, train_loss=0.223, train_accuracy=0.944, val_loss=0.200, val_accuracy=0.945]  \n",
      "Validating: 0it [00:00, ?it/s]\u001b[A\n",
      "Validating:   0%|          | 0/29 [00:00<?, ?it/s]\u001b[A\n",
      "Epoch 182:  89%|████████▉ | 228/255 [01:24<00:10,  2.70it/s, loss=0.0431, v_num=1, train_loss=0.223, train_accuracy=0.944, val_loss=0.200, val_accuracy=0.945]\n",
      "Epoch 182:  90%|█████████ | 230/255 [01:24<00:09,  2.72it/s, loss=0.0431, v_num=1, train_loss=0.223, train_accuracy=0.944, val_loss=0.200, val_accuracy=0.945]\n",
      "Epoch 182:  91%|█████████ | 232/255 [01:24<00:08,  2.73it/s, loss=0.0431, v_num=1, train_loss=0.223, train_accuracy=0.944, val_loss=0.200, val_accuracy=0.945]\n",
      "Epoch 182:  92%|█████████▏| 234/255 [01:25<00:07,  2.75it/s, loss=0.0431, v_num=1, train_loss=0.223, train_accuracy=0.944, val_loss=0.200, val_accuracy=0.945]\n",
      "Epoch 182:  93%|█████████▎| 236/255 [01:25<00:06,  2.77it/s, loss=0.0431, v_num=1, train_loss=0.223, train_accuracy=0.944, val_loss=0.200, val_accuracy=0.945]\n",
      "Epoch 182:  93%|█████████▎| 238/255 [01:25<00:06,  2.79it/s, loss=0.0431, v_num=1, train_loss=0.223, train_accuracy=0.944, val_loss=0.200, val_accuracy=0.945]\n",
      "Epoch 182:  94%|█████████▍| 240/255 [01:25<00:05,  2.81it/s, loss=0.0431, v_num=1, train_loss=0.223, train_accuracy=0.944, val_loss=0.200, val_accuracy=0.945]\n",
      "Epoch 182:  95%|█████████▍| 242/255 [01:25<00:04,  2.82it/s, loss=0.0431, v_num=1, train_loss=0.223, train_accuracy=0.944, val_loss=0.200, val_accuracy=0.945]\n",
      "Epoch 182:  96%|█████████▌| 244/255 [01:25<00:03,  2.84it/s, loss=0.0431, v_num=1, train_loss=0.223, train_accuracy=0.944, val_loss=0.200, val_accuracy=0.945]\n",
      "Epoch 182:  96%|█████████▋| 246/255 [01:26<00:03,  2.86it/s, loss=0.0431, v_num=1, train_loss=0.223, train_accuracy=0.944, val_loss=0.200, val_accuracy=0.945]\n",
      "Epoch 182:  97%|█████████▋| 248/255 [01:26<00:02,  2.88it/s, loss=0.0431, v_num=1, train_loss=0.223, train_accuracy=0.944, val_loss=0.200, val_accuracy=0.945]\n",
      "Epoch 182:  98%|█████████▊| 250/255 [01:26<00:01,  2.89it/s, loss=0.0431, v_num=1, train_loss=0.223, train_accuracy=0.944, val_loss=0.200, val_accuracy=0.945]\n",
      "Epoch 182:  99%|█████████▉| 252/255 [01:26<00:01,  2.91it/s, loss=0.0431, v_num=1, train_loss=0.223, train_accuracy=0.944, val_loss=0.200, val_accuracy=0.945]\n",
      "Epoch 182: 100%|█████████▉| 254/255 [01:26<00:00,  2.93it/s, loss=0.0431, v_num=1, train_loss=0.223, train_accuracy=0.944, val_loss=0.200, val_accuracy=0.945]\n",
      "Epoch 182: 100%|██████████| 255/255 [01:27<00:00,  2.92it/s, loss=0.0431, v_num=1, train_loss=0.223, train_accuracy=0.944, val_loss=0.203, val_accuracy=0.951]\n",
      "Epoch 182: 100%|██████████| 255/255 [01:27<00:00,  2.92it/s, loss=0.0431, v_num=1, train_loss=0.223, train_accuracy=0.944, val_loss=0.203, val_accuracy=0.951]"
     ]
    },
    {
     "name": "stderr",
     "output_type": "stream",
     "text": [
      "Epoch 182, global step 41357: val_loss was not in top 2\n"
     ]
    },
    {
     "name": "stdout",
     "output_type": "stream",
     "text": [
      "Epoch 183:  89%|████████▊ | 226/255 [01:22<00:10,  2.76it/s, loss=0.0782, v_num=1, train_loss=0.270, train_accuracy=0.944, val_loss=0.203, val_accuracy=0.951]  \n",
      "Validating: 0it [00:00, ?it/s]\u001b[A\n",
      "Validating:   0%|          | 0/29 [00:00<?, ?it/s]\u001b[A\n",
      "Epoch 183:  89%|████████▉ | 228/255 [01:24<00:10,  2.70it/s, loss=0.0782, v_num=1, train_loss=0.270, train_accuracy=0.944, val_loss=0.203, val_accuracy=0.951]\n",
      "Epoch 183:  90%|█████████ | 230/255 [01:24<00:09,  2.72it/s, loss=0.0782, v_num=1, train_loss=0.270, train_accuracy=0.944, val_loss=0.203, val_accuracy=0.951]\n",
      "Epoch 183:  91%|█████████ | 232/255 [01:24<00:08,  2.73it/s, loss=0.0782, v_num=1, train_loss=0.270, train_accuracy=0.944, val_loss=0.203, val_accuracy=0.951]\n",
      "Epoch 183:  92%|█████████▏| 234/255 [01:25<00:07,  2.75it/s, loss=0.0782, v_num=1, train_loss=0.270, train_accuracy=0.944, val_loss=0.203, val_accuracy=0.951]\n",
      "Epoch 183:  93%|█████████▎| 236/255 [01:25<00:06,  2.77it/s, loss=0.0782, v_num=1, train_loss=0.270, train_accuracy=0.944, val_loss=0.203, val_accuracy=0.951]\n",
      "Epoch 183:  93%|█████████▎| 238/255 [01:25<00:06,  2.79it/s, loss=0.0782, v_num=1, train_loss=0.270, train_accuracy=0.944, val_loss=0.203, val_accuracy=0.951]\n",
      "Epoch 183:  94%|█████████▍| 240/255 [01:25<00:05,  2.81it/s, loss=0.0782, v_num=1, train_loss=0.270, train_accuracy=0.944, val_loss=0.203, val_accuracy=0.951]\n",
      "Epoch 183:  95%|█████████▍| 242/255 [01:25<00:04,  2.82it/s, loss=0.0782, v_num=1, train_loss=0.270, train_accuracy=0.944, val_loss=0.203, val_accuracy=0.951]\n",
      "Epoch 183:  96%|█████████▌| 244/255 [01:25<00:03,  2.84it/s, loss=0.0782, v_num=1, train_loss=0.270, train_accuracy=0.944, val_loss=0.203, val_accuracy=0.951]\n",
      "Epoch 183:  96%|█████████▋| 246/255 [01:26<00:03,  2.86it/s, loss=0.0782, v_num=1, train_loss=0.270, train_accuracy=0.944, val_loss=0.203, val_accuracy=0.951]\n",
      "Epoch 183:  97%|█████████▋| 248/255 [01:26<00:02,  2.88it/s, loss=0.0782, v_num=1, train_loss=0.270, train_accuracy=0.944, val_loss=0.203, val_accuracy=0.951]\n",
      "Epoch 183:  98%|█████████▊| 250/255 [01:26<00:01,  2.89it/s, loss=0.0782, v_num=1, train_loss=0.270, train_accuracy=0.944, val_loss=0.203, val_accuracy=0.951]\n",
      "Epoch 183:  99%|█████████▉| 252/255 [01:26<00:01,  2.91it/s, loss=0.0782, v_num=1, train_loss=0.270, train_accuracy=0.944, val_loss=0.203, val_accuracy=0.951]\n",
      "Epoch 183: 100%|█████████▉| 254/255 [01:26<00:00,  2.93it/s, loss=0.0782, v_num=1, train_loss=0.270, train_accuracy=0.944, val_loss=0.203, val_accuracy=0.951]\n",
      "Epoch 183: 100%|██████████| 255/255 [01:27<00:00,  2.92it/s, loss=0.0782, v_num=1, train_loss=0.270, train_accuracy=0.944, val_loss=0.172, val_accuracy=0.945]\n",
      "Epoch 183: 100%|██████████| 255/255 [01:27<00:00,  2.92it/s, loss=0.0782, v_num=1, train_loss=0.270, train_accuracy=0.944, val_loss=0.172, val_accuracy=0.945]"
     ]
    },
    {
     "name": "stderr",
     "output_type": "stream",
     "text": [
      "Epoch 183, global step 41583: val_loss was not in top 2\n"
     ]
    },
    {
     "name": "stdout",
     "output_type": "stream",
     "text": [
      "Epoch 184:  89%|████████▊ | 226/255 [01:21<00:10,  2.76it/s, loss=0.0371, v_num=1, train_loss=0.0261, train_accuracy=1.000, val_loss=0.172, val_accuracy=0.945] \n",
      "Validating: 0it [00:00, ?it/s]\u001b[A\n",
      "Validating:   0%|          | 0/29 [00:00<?, ?it/s]\u001b[A\n",
      "Epoch 184:  89%|████████▉ | 228/255 [01:24<00:09,  2.71it/s, loss=0.0371, v_num=1, train_loss=0.0261, train_accuracy=1.000, val_loss=0.172, val_accuracy=0.945]\n",
      "Epoch 184:  90%|█████████ | 230/255 [01:24<00:09,  2.72it/s, loss=0.0371, v_num=1, train_loss=0.0261, train_accuracy=1.000, val_loss=0.172, val_accuracy=0.945]\n",
      "Epoch 184:  91%|█████████ | 232/255 [01:24<00:08,  2.74it/s, loss=0.0371, v_num=1, train_loss=0.0261, train_accuracy=1.000, val_loss=0.172, val_accuracy=0.945]\n",
      "Epoch 184:  92%|█████████▏| 234/255 [01:24<00:07,  2.76it/s, loss=0.0371, v_num=1, train_loss=0.0261, train_accuracy=1.000, val_loss=0.172, val_accuracy=0.945]\n",
      "Epoch 184:  93%|█████████▎| 236/255 [01:24<00:06,  2.78it/s, loss=0.0371, v_num=1, train_loss=0.0261, train_accuracy=1.000, val_loss=0.172, val_accuracy=0.945]\n",
      "Epoch 184:  93%|█████████▎| 238/255 [01:25<00:06,  2.79it/s, loss=0.0371, v_num=1, train_loss=0.0261, train_accuracy=1.000, val_loss=0.172, val_accuracy=0.945]\n",
      "Epoch 184:  94%|█████████▍| 240/255 [01:25<00:05,  2.81it/s, loss=0.0371, v_num=1, train_loss=0.0261, train_accuracy=1.000, val_loss=0.172, val_accuracy=0.945]\n",
      "Epoch 184:  95%|█████████▍| 242/255 [01:25<00:04,  2.83it/s, loss=0.0371, v_num=1, train_loss=0.0261, train_accuracy=1.000, val_loss=0.172, val_accuracy=0.945]\n",
      "Epoch 184:  96%|█████████▌| 244/255 [01:25<00:03,  2.85it/s, loss=0.0371, v_num=1, train_loss=0.0261, train_accuracy=1.000, val_loss=0.172, val_accuracy=0.945]\n",
      "Epoch 184:  96%|█████████▋| 246/255 [01:25<00:03,  2.87it/s, loss=0.0371, v_num=1, train_loss=0.0261, train_accuracy=1.000, val_loss=0.172, val_accuracy=0.945]\n",
      "Epoch 184:  97%|█████████▋| 248/255 [01:25<00:02,  2.88it/s, loss=0.0371, v_num=1, train_loss=0.0261, train_accuracy=1.000, val_loss=0.172, val_accuracy=0.945]\n",
      "Epoch 184:  98%|█████████▊| 250/255 [01:26<00:01,  2.90it/s, loss=0.0371, v_num=1, train_loss=0.0261, train_accuracy=1.000, val_loss=0.172, val_accuracy=0.945]\n",
      "Epoch 184:  99%|█████████▉| 252/255 [01:26<00:01,  2.92it/s, loss=0.0371, v_num=1, train_loss=0.0261, train_accuracy=1.000, val_loss=0.172, val_accuracy=0.945]\n",
      "Epoch 184: 100%|█████████▉| 254/255 [01:26<00:00,  2.94it/s, loss=0.0371, v_num=1, train_loss=0.0261, train_accuracy=1.000, val_loss=0.172, val_accuracy=0.945]\n",
      "Epoch 184: 100%|██████████| 255/255 [01:27<00:00,  2.93it/s, loss=0.0371, v_num=1, train_loss=0.0261, train_accuracy=1.000, val_loss=0.144, val_accuracy=0.955]\n",
      "Epoch 184: 100%|██████████| 255/255 [01:27<00:00,  2.93it/s, loss=0.0371, v_num=1, train_loss=0.0261, train_accuracy=1.000, val_loss=0.144, val_accuracy=0.955]"
     ]
    },
    {
     "name": "stderr",
     "output_type": "stream",
     "text": [
      "Epoch 184, global step 41809: val_loss reached 0.14425 (best 0.14425), saving model to \"/Workspace/code/checkpoints/best-checkpoint-corr-random-20-v5.ckpt\" as top 2\n"
     ]
    },
    {
     "name": "stdout",
     "output_type": "stream",
     "text": [
      "Epoch 185:  89%|████████▊ | 226/255 [01:22<00:10,  2.75it/s, loss=0.0318, v_num=1, train_loss=0.026, train_accuracy=1.000, val_loss=0.144, val_accuracy=0.955]  \n",
      "Validating: 0it [00:00, ?it/s]\u001b[A\n",
      "Validating:   0%|          | 0/29 [00:00<?, ?it/s]\u001b[A\n",
      "Epoch 185:  89%|████████▉ | 228/255 [01:24<00:09,  2.70it/s, loss=0.0318, v_num=1, train_loss=0.026, train_accuracy=1.000, val_loss=0.144, val_accuracy=0.955]\n",
      "Epoch 185:  90%|█████████ | 230/255 [01:24<00:09,  2.72it/s, loss=0.0318, v_num=1, train_loss=0.026, train_accuracy=1.000, val_loss=0.144, val_accuracy=0.955]\n",
      "Epoch 185:  91%|█████████ | 232/255 [01:24<00:08,  2.74it/s, loss=0.0318, v_num=1, train_loss=0.026, train_accuracy=1.000, val_loss=0.144, val_accuracy=0.955]\n",
      "Epoch 185:  92%|█████████▏| 234/255 [01:24<00:07,  2.76it/s, loss=0.0318, v_num=1, train_loss=0.026, train_accuracy=1.000, val_loss=0.144, val_accuracy=0.955]\n",
      "Epoch 185:  93%|█████████▎| 236/255 [01:25<00:06,  2.77it/s, loss=0.0318, v_num=1, train_loss=0.026, train_accuracy=1.000, val_loss=0.144, val_accuracy=0.955]\n",
      "Epoch 185:  93%|█████████▎| 238/255 [01:25<00:06,  2.79it/s, loss=0.0318, v_num=1, train_loss=0.026, train_accuracy=1.000, val_loss=0.144, val_accuracy=0.955]\n",
      "Epoch 185:  94%|█████████▍| 240/255 [01:25<00:05,  2.81it/s, loss=0.0318, v_num=1, train_loss=0.026, train_accuracy=1.000, val_loss=0.144, val_accuracy=0.955]\n",
      "Epoch 185:  95%|█████████▍| 242/255 [01:25<00:04,  2.83it/s, loss=0.0318, v_num=1, train_loss=0.026, train_accuracy=1.000, val_loss=0.144, val_accuracy=0.955]\n",
      "Epoch 185:  96%|█████████▌| 244/255 [01:25<00:03,  2.85it/s, loss=0.0318, v_num=1, train_loss=0.026, train_accuracy=1.000, val_loss=0.144, val_accuracy=0.955]\n",
      "Epoch 185:  96%|█████████▋| 246/255 [01:25<00:03,  2.86it/s, loss=0.0318, v_num=1, train_loss=0.026, train_accuracy=1.000, val_loss=0.144, val_accuracy=0.955]\n",
      "Epoch 185:  97%|█████████▋| 248/255 [01:26<00:02,  2.88it/s, loss=0.0318, v_num=1, train_loss=0.026, train_accuracy=1.000, val_loss=0.144, val_accuracy=0.955]\n",
      "Epoch 185:  98%|█████████▊| 250/255 [01:26<00:01,  2.89it/s, loss=0.0318, v_num=1, train_loss=0.026, train_accuracy=1.000, val_loss=0.144, val_accuracy=0.955]\n",
      "Epoch 185:  99%|█████████▉| 252/255 [01:26<00:01,  2.91it/s, loss=0.0318, v_num=1, train_loss=0.026, train_accuracy=1.000, val_loss=0.144, val_accuracy=0.955]\n",
      "Epoch 185: 100%|█████████▉| 254/255 [01:26<00:00,  2.93it/s, loss=0.0318, v_num=1, train_loss=0.026, train_accuracy=1.000, val_loss=0.144, val_accuracy=0.955]\n",
      "Epoch 185: 100%|██████████| 255/255 [01:27<00:00,  2.92it/s, loss=0.0318, v_num=1, train_loss=0.026, train_accuracy=1.000, val_loss=0.149, val_accuracy=0.952]\n",
      "Epoch 185: 100%|██████████| 255/255 [01:27<00:00,  2.92it/s, loss=0.0318, v_num=1, train_loss=0.026, train_accuracy=1.000, val_loss=0.149, val_accuracy=0.952]"
     ]
    },
    {
     "name": "stderr",
     "output_type": "stream",
     "text": [
      "Epoch 185, global step 42035: val_loss reached 0.14876 (best 0.14425), saving model to \"/Workspace/code/checkpoints/best-checkpoint-corr-random-20-v6.ckpt\" as top 2\n"
     ]
    },
    {
     "name": "stdout",
     "output_type": "stream",
     "text": [
      "Epoch 186:  89%|████████▊ | 226/255 [01:21<00:10,  2.76it/s, loss=0.0493, v_num=1, train_loss=0.112, train_accuracy=0.944, val_loss=0.149, val_accuracy=0.952]  \n",
      "Validating: 0it [00:00, ?it/s]\u001b[A\n",
      "Validating:   0%|          | 0/29 [00:00<?, ?it/s]\u001b[A\n",
      "Epoch 186:  89%|████████▉ | 228/255 [01:24<00:10,  2.70it/s, loss=0.0493, v_num=1, train_loss=0.112, train_accuracy=0.944, val_loss=0.149, val_accuracy=0.952]\n",
      "Epoch 186:  90%|█████████ | 230/255 [01:24<00:09,  2.72it/s, loss=0.0493, v_num=1, train_loss=0.112, train_accuracy=0.944, val_loss=0.149, val_accuracy=0.952]\n",
      "Epoch 186:  91%|█████████ | 232/255 [01:24<00:08,  2.73it/s, loss=0.0493, v_num=1, train_loss=0.112, train_accuracy=0.944, val_loss=0.149, val_accuracy=0.952]\n",
      "Epoch 186:  92%|█████████▏| 234/255 [01:25<00:07,  2.75it/s, loss=0.0493, v_num=1, train_loss=0.112, train_accuracy=0.944, val_loss=0.149, val_accuracy=0.952]\n",
      "Epoch 186:  93%|█████████▎| 236/255 [01:25<00:06,  2.77it/s, loss=0.0493, v_num=1, train_loss=0.112, train_accuracy=0.944, val_loss=0.149, val_accuracy=0.952]\n",
      "Epoch 186:  93%|█████████▎| 238/255 [01:25<00:06,  2.79it/s, loss=0.0493, v_num=1, train_loss=0.112, train_accuracy=0.944, val_loss=0.149, val_accuracy=0.952]\n",
      "Epoch 186:  94%|█████████▍| 240/255 [01:25<00:05,  2.80it/s, loss=0.0493, v_num=1, train_loss=0.112, train_accuracy=0.944, val_loss=0.149, val_accuracy=0.952]\n",
      "Epoch 186:  95%|█████████▍| 242/255 [01:25<00:04,  2.82it/s, loss=0.0493, v_num=1, train_loss=0.112, train_accuracy=0.944, val_loss=0.149, val_accuracy=0.952]\n",
      "Epoch 186:  96%|█████████▌| 244/255 [01:25<00:03,  2.84it/s, loss=0.0493, v_num=1, train_loss=0.112, train_accuracy=0.944, val_loss=0.149, val_accuracy=0.952]\n",
      "Epoch 186:  96%|█████████▋| 246/255 [01:26<00:03,  2.86it/s, loss=0.0493, v_num=1, train_loss=0.112, train_accuracy=0.944, val_loss=0.149, val_accuracy=0.952]\n",
      "Epoch 186:  97%|█████████▋| 248/255 [01:26<00:02,  2.88it/s, loss=0.0493, v_num=1, train_loss=0.112, train_accuracy=0.944, val_loss=0.149, val_accuracy=0.952]\n",
      "Epoch 186:  98%|█████████▊| 250/255 [01:26<00:01,  2.89it/s, loss=0.0493, v_num=1, train_loss=0.112, train_accuracy=0.944, val_loss=0.149, val_accuracy=0.952]\n",
      "Epoch 186:  99%|█████████▉| 252/255 [01:26<00:01,  2.91it/s, loss=0.0493, v_num=1, train_loss=0.112, train_accuracy=0.944, val_loss=0.149, val_accuracy=0.952]\n",
      "Epoch 186: 100%|█████████▉| 254/255 [01:26<00:00,  2.93it/s, loss=0.0493, v_num=1, train_loss=0.112, train_accuracy=0.944, val_loss=0.149, val_accuracy=0.952]\n",
      "Epoch 186: 100%|██████████| 255/255 [01:27<00:00,  2.92it/s, loss=0.0493, v_num=1, train_loss=0.112, train_accuracy=0.944, val_loss=0.147, val_accuracy=0.955]\n",
      "Epoch 186: 100%|██████████| 255/255 [01:27<00:00,  2.92it/s, loss=0.0493, v_num=1, train_loss=0.112, train_accuracy=0.944, val_loss=0.147, val_accuracy=0.955]"
     ]
    },
    {
     "name": "stderr",
     "output_type": "stream",
     "text": [
      "Epoch 186, global step 42261: val_loss reached 0.14741 (best 0.14425), saving model to \"/Workspace/code/checkpoints/best-checkpoint-corr-random-20-v6.ckpt\" as top 2\n"
     ]
    },
    {
     "name": "stdout",
     "output_type": "stream",
     "text": [
      "Epoch 187:  89%|████████▊ | 226/255 [01:22<00:10,  2.75it/s, loss=0.0448, v_num=1, train_loss=0.0132, train_accuracy=1.000, val_loss=0.147, val_accuracy=0.955] \n",
      "Validating: 0it [00:00, ?it/s]\u001b[A\n",
      "Validating:   0%|          | 0/29 [00:00<?, ?it/s]\u001b[A\n",
      "Epoch 187:  89%|████████▉ | 228/255 [01:24<00:09,  2.70it/s, loss=0.0448, v_num=1, train_loss=0.0132, train_accuracy=1.000, val_loss=0.147, val_accuracy=0.955]\n",
      "Epoch 187:  90%|█████████ | 230/255 [01:24<00:09,  2.72it/s, loss=0.0448, v_num=1, train_loss=0.0132, train_accuracy=1.000, val_loss=0.147, val_accuracy=0.955]\n",
      "Epoch 187:  91%|█████████ | 232/255 [01:24<00:08,  2.74it/s, loss=0.0448, v_num=1, train_loss=0.0132, train_accuracy=1.000, val_loss=0.147, val_accuracy=0.955]\n",
      "Epoch 187:  92%|█████████▏| 234/255 [01:24<00:07,  2.76it/s, loss=0.0448, v_num=1, train_loss=0.0132, train_accuracy=1.000, val_loss=0.147, val_accuracy=0.955]\n",
      "Epoch 187:  93%|█████████▎| 236/255 [01:25<00:06,  2.77it/s, loss=0.0448, v_num=1, train_loss=0.0132, train_accuracy=1.000, val_loss=0.147, val_accuracy=0.955]\n",
      "Epoch 187:  93%|█████████▎| 238/255 [01:25<00:06,  2.79it/s, loss=0.0448, v_num=1, train_loss=0.0132, train_accuracy=1.000, val_loss=0.147, val_accuracy=0.955]\n",
      "Epoch 187:  94%|█████████▍| 240/255 [01:25<00:05,  2.81it/s, loss=0.0448, v_num=1, train_loss=0.0132, train_accuracy=1.000, val_loss=0.147, val_accuracy=0.955]\n",
      "Epoch 187:  95%|█████████▍| 242/255 [01:25<00:04,  2.83it/s, loss=0.0448, v_num=1, train_loss=0.0132, train_accuracy=1.000, val_loss=0.147, val_accuracy=0.955]\n",
      "Epoch 187:  96%|█████████▌| 244/255 [01:25<00:03,  2.85it/s, loss=0.0448, v_num=1, train_loss=0.0132, train_accuracy=1.000, val_loss=0.147, val_accuracy=0.955]\n",
      "Epoch 187:  96%|█████████▋| 246/255 [01:25<00:03,  2.86it/s, loss=0.0448, v_num=1, train_loss=0.0132, train_accuracy=1.000, val_loss=0.147, val_accuracy=0.955]\n",
      "Epoch 187:  97%|█████████▋| 248/255 [01:26<00:02,  2.88it/s, loss=0.0448, v_num=1, train_loss=0.0132, train_accuracy=1.000, val_loss=0.147, val_accuracy=0.955]\n",
      "Epoch 187:  98%|█████████▊| 250/255 [01:26<00:01,  2.90it/s, loss=0.0448, v_num=1, train_loss=0.0132, train_accuracy=1.000, val_loss=0.147, val_accuracy=0.955]\n",
      "Epoch 187:  99%|█████████▉| 252/255 [01:26<00:01,  2.92it/s, loss=0.0448, v_num=1, train_loss=0.0132, train_accuracy=1.000, val_loss=0.147, val_accuracy=0.955]\n",
      "Epoch 187: 100%|█████████▉| 254/255 [01:26<00:00,  2.93it/s, loss=0.0448, v_num=1, train_loss=0.0132, train_accuracy=1.000, val_loss=0.147, val_accuracy=0.955]\n",
      "Epoch 187: 100%|██████████| 255/255 [01:27<00:00,  2.93it/s, loss=0.0448, v_num=1, train_loss=0.0132, train_accuracy=1.000, val_loss=0.171, val_accuracy=0.956]\n",
      "Epoch 187: 100%|██████████| 255/255 [01:27<00:00,  2.93it/s, loss=0.0448, v_num=1, train_loss=0.0132, train_accuracy=1.000, val_loss=0.171, val_accuracy=0.956]"
     ]
    },
    {
     "name": "stderr",
     "output_type": "stream",
     "text": [
      "Epoch 187, global step 42487: val_loss was not in top 2\n"
     ]
    },
    {
     "name": "stdout",
     "output_type": "stream",
     "text": [
      "Epoch 188:  89%|████████▊ | 226/255 [01:22<00:10,  2.75it/s, loss=0.0981, v_num=1, train_loss=0.0334, train_accuracy=1.000, val_loss=0.171, val_accuracy=0.956] \n",
      "Validating: 0it [00:00, ?it/s]\u001b[A\n",
      "Validating:   0%|          | 0/29 [00:00<?, ?it/s]\u001b[A\n",
      "Epoch 188:  89%|████████▉ | 228/255 [01:24<00:10,  2.70it/s, loss=0.0981, v_num=1, train_loss=0.0334, train_accuracy=1.000, val_loss=0.171, val_accuracy=0.956]\n",
      "Epoch 188:  90%|█████████ | 230/255 [01:24<00:09,  2.72it/s, loss=0.0981, v_num=1, train_loss=0.0334, train_accuracy=1.000, val_loss=0.171, val_accuracy=0.956]\n",
      "Epoch 188:  91%|█████████ | 232/255 [01:24<00:08,  2.73it/s, loss=0.0981, v_num=1, train_loss=0.0334, train_accuracy=1.000, val_loss=0.171, val_accuracy=0.956]\n",
      "Epoch 188:  92%|█████████▏| 234/255 [01:25<00:07,  2.75it/s, loss=0.0981, v_num=1, train_loss=0.0334, train_accuracy=1.000, val_loss=0.171, val_accuracy=0.956]\n",
      "Epoch 188:  93%|█████████▎| 236/255 [01:25<00:06,  2.77it/s, loss=0.0981, v_num=1, train_loss=0.0334, train_accuracy=1.000, val_loss=0.171, val_accuracy=0.956]\n",
      "Epoch 188:  93%|█████████▎| 238/255 [01:25<00:06,  2.78it/s, loss=0.0981, v_num=1, train_loss=0.0334, train_accuracy=1.000, val_loss=0.171, val_accuracy=0.956]\n",
      "Epoch 188:  94%|█████████▍| 240/255 [01:25<00:05,  2.80it/s, loss=0.0981, v_num=1, train_loss=0.0334, train_accuracy=1.000, val_loss=0.171, val_accuracy=0.956]\n",
      "Epoch 188:  95%|█████████▍| 242/255 [01:25<00:04,  2.82it/s, loss=0.0981, v_num=1, train_loss=0.0334, train_accuracy=1.000, val_loss=0.171, val_accuracy=0.956]\n",
      "Epoch 188:  96%|█████████▌| 244/255 [01:26<00:03,  2.84it/s, loss=0.0981, v_num=1, train_loss=0.0334, train_accuracy=1.000, val_loss=0.171, val_accuracy=0.956]\n",
      "Epoch 188:  96%|█████████▋| 246/255 [01:26<00:03,  2.85it/s, loss=0.0981, v_num=1, train_loss=0.0334, train_accuracy=1.000, val_loss=0.171, val_accuracy=0.956]\n",
      "Epoch 188:  97%|█████████▋| 248/255 [01:26<00:02,  2.87it/s, loss=0.0981, v_num=1, train_loss=0.0334, train_accuracy=1.000, val_loss=0.171, val_accuracy=0.956]\n",
      "Epoch 188:  98%|█████████▊| 250/255 [01:26<00:01,  2.89it/s, loss=0.0981, v_num=1, train_loss=0.0334, train_accuracy=1.000, val_loss=0.171, val_accuracy=0.956]\n",
      "Epoch 188:  99%|█████████▉| 252/255 [01:26<00:01,  2.91it/s, loss=0.0981, v_num=1, train_loss=0.0334, train_accuracy=1.000, val_loss=0.171, val_accuracy=0.956]\n",
      "Epoch 188: 100%|█████████▉| 254/255 [01:26<00:00,  2.92it/s, loss=0.0981, v_num=1, train_loss=0.0334, train_accuracy=1.000, val_loss=0.171, val_accuracy=0.956]\n",
      "Epoch 188: 100%|██████████| 255/255 [01:27<00:00,  2.92it/s, loss=0.0981, v_num=1, train_loss=0.0334, train_accuracy=1.000, val_loss=0.243, val_accuracy=0.929]\n",
      "Epoch 188: 100%|██████████| 255/255 [01:27<00:00,  2.92it/s, loss=0.0981, v_num=1, train_loss=0.0334, train_accuracy=1.000, val_loss=0.243, val_accuracy=0.929]"
     ]
    },
    {
     "name": "stderr",
     "output_type": "stream",
     "text": [
      "Epoch 188, global step 42713: val_loss was not in top 2\n"
     ]
    },
    {
     "name": "stdout",
     "output_type": "stream",
     "text": [
      "Epoch 189:  89%|████████▊ | 226/255 [01:21<00:10,  2.76it/s, loss=0.0488, v_num=1, train_loss=0.00499, train_accuracy=1.000, val_loss=0.243, val_accuracy=0.929]\n",
      "Validating: 0it [00:00, ?it/s]\u001b[A\n",
      "Validating:   0%|          | 0/29 [00:00<?, ?it/s]\u001b[A\n",
      "Epoch 189:  89%|████████▉ | 228/255 [01:24<00:09,  2.70it/s, loss=0.0488, v_num=1, train_loss=0.00499, train_accuracy=1.000, val_loss=0.243, val_accuracy=0.929]\n",
      "Epoch 189:  90%|█████████ | 230/255 [01:24<00:09,  2.72it/s, loss=0.0488, v_num=1, train_loss=0.00499, train_accuracy=1.000, val_loss=0.243, val_accuracy=0.929]\n",
      "Epoch 189:  91%|█████████ | 232/255 [01:24<00:08,  2.74it/s, loss=0.0488, v_num=1, train_loss=0.00499, train_accuracy=1.000, val_loss=0.243, val_accuracy=0.929]\n",
      "Epoch 189:  92%|█████████▏| 234/255 [01:24<00:07,  2.76it/s, loss=0.0488, v_num=1, train_loss=0.00499, train_accuracy=1.000, val_loss=0.243, val_accuracy=0.929]\n",
      "Epoch 189:  93%|█████████▎| 236/255 [01:25<00:06,  2.77it/s, loss=0.0488, v_num=1, train_loss=0.00499, train_accuracy=1.000, val_loss=0.243, val_accuracy=0.929]\n",
      "Epoch 189:  93%|█████████▎| 238/255 [01:25<00:06,  2.79it/s, loss=0.0488, v_num=1, train_loss=0.00499, train_accuracy=1.000, val_loss=0.243, val_accuracy=0.929]\n",
      "Epoch 189:  94%|█████████▍| 240/255 [01:25<00:05,  2.81it/s, loss=0.0488, v_num=1, train_loss=0.00499, train_accuracy=1.000, val_loss=0.243, val_accuracy=0.929]\n",
      "Epoch 189:  95%|█████████▍| 242/255 [01:25<00:04,  2.83it/s, loss=0.0488, v_num=1, train_loss=0.00499, train_accuracy=1.000, val_loss=0.243, val_accuracy=0.929]\n",
      "Epoch 189:  96%|█████████▌| 244/255 [01:25<00:03,  2.85it/s, loss=0.0488, v_num=1, train_loss=0.00499, train_accuracy=1.000, val_loss=0.243, val_accuracy=0.929]\n",
      "Epoch 189:  96%|█████████▋| 246/255 [01:25<00:03,  2.86it/s, loss=0.0488, v_num=1, train_loss=0.00499, train_accuracy=1.000, val_loss=0.243, val_accuracy=0.929]\n",
      "Epoch 189:  97%|█████████▋| 248/255 [01:26<00:02,  2.88it/s, loss=0.0488, v_num=1, train_loss=0.00499, train_accuracy=1.000, val_loss=0.243, val_accuracy=0.929]\n",
      "Epoch 189:  98%|█████████▊| 250/255 [01:26<00:01,  2.90it/s, loss=0.0488, v_num=1, train_loss=0.00499, train_accuracy=1.000, val_loss=0.243, val_accuracy=0.929]\n",
      "Epoch 189:  99%|█████████▉| 252/255 [01:26<00:01,  2.91it/s, loss=0.0488, v_num=1, train_loss=0.00499, train_accuracy=1.000, val_loss=0.243, val_accuracy=0.929]\n",
      "Epoch 189: 100%|█████████▉| 254/255 [01:26<00:00,  2.93it/s, loss=0.0488, v_num=1, train_loss=0.00499, train_accuracy=1.000, val_loss=0.243, val_accuracy=0.929]\n",
      "Epoch 189: 100%|██████████| 255/255 [01:27<00:00,  2.93it/s, loss=0.0488, v_num=1, train_loss=0.00499, train_accuracy=1.000, val_loss=0.174, val_accuracy=0.954]\n",
      "Epoch 189: 100%|██████████| 255/255 [01:27<00:00,  2.93it/s, loss=0.0488, v_num=1, train_loss=0.00499, train_accuracy=1.000, val_loss=0.174, val_accuracy=0.954]"
     ]
    },
    {
     "name": "stderr",
     "output_type": "stream",
     "text": [
      "Epoch 189, global step 42939: val_loss was not in top 2\n"
     ]
    },
    {
     "name": "stdout",
     "output_type": "stream",
     "text": [
      "Epoch 190:  89%|████████▊ | 226/255 [01:22<00:10,  2.75it/s, loss=0.0696, v_num=1, train_loss=0.018, train_accuracy=1.000, val_loss=0.174, val_accuracy=0.954]  \n",
      "Validating: 0it [00:00, ?it/s]\u001b[A\n",
      "Validating:   0%|          | 0/29 [00:00<?, ?it/s]\u001b[A\n",
      "Epoch 190:  89%|████████▉ | 228/255 [01:24<00:09,  2.70it/s, loss=0.0696, v_num=1, train_loss=0.018, train_accuracy=1.000, val_loss=0.174, val_accuracy=0.954]\n",
      "Epoch 190:  90%|█████████ | 230/255 [01:24<00:09,  2.72it/s, loss=0.0696, v_num=1, train_loss=0.018, train_accuracy=1.000, val_loss=0.174, val_accuracy=0.954]\n",
      "Epoch 190:  91%|█████████ | 232/255 [01:24<00:08,  2.74it/s, loss=0.0696, v_num=1, train_loss=0.018, train_accuracy=1.000, val_loss=0.174, val_accuracy=0.954]\n",
      "Epoch 190:  92%|█████████▏| 234/255 [01:24<00:07,  2.75it/s, loss=0.0696, v_num=1, train_loss=0.018, train_accuracy=1.000, val_loss=0.174, val_accuracy=0.954]\n",
      "Epoch 190:  93%|█████████▎| 236/255 [01:25<00:06,  2.77it/s, loss=0.0696, v_num=1, train_loss=0.018, train_accuracy=1.000, val_loss=0.174, val_accuracy=0.954]\n",
      "Epoch 190:  93%|█████████▎| 238/255 [01:25<00:06,  2.79it/s, loss=0.0696, v_num=1, train_loss=0.018, train_accuracy=1.000, val_loss=0.174, val_accuracy=0.954]\n",
      "Epoch 190:  94%|█████████▍| 240/255 [01:25<00:05,  2.81it/s, loss=0.0696, v_num=1, train_loss=0.018, train_accuracy=1.000, val_loss=0.174, val_accuracy=0.954]\n",
      "Epoch 190:  95%|█████████▍| 242/255 [01:25<00:04,  2.83it/s, loss=0.0696, v_num=1, train_loss=0.018, train_accuracy=1.000, val_loss=0.174, val_accuracy=0.954]\n",
      "Epoch 190:  96%|█████████▌| 244/255 [01:25<00:03,  2.84it/s, loss=0.0696, v_num=1, train_loss=0.018, train_accuracy=1.000, val_loss=0.174, val_accuracy=0.954]\n",
      "Epoch 190:  96%|█████████▋| 246/255 [01:25<00:03,  2.86it/s, loss=0.0696, v_num=1, train_loss=0.018, train_accuracy=1.000, val_loss=0.174, val_accuracy=0.954]\n",
      "Epoch 190:  97%|█████████▋| 248/255 [01:26<00:02,  2.88it/s, loss=0.0696, v_num=1, train_loss=0.018, train_accuracy=1.000, val_loss=0.174, val_accuracy=0.954]\n",
      "Epoch 190:  98%|█████████▊| 250/255 [01:26<00:01,  2.90it/s, loss=0.0696, v_num=1, train_loss=0.018, train_accuracy=1.000, val_loss=0.174, val_accuracy=0.954]\n",
      "Epoch 190:  99%|█████████▉| 252/255 [01:26<00:01,  2.91it/s, loss=0.0696, v_num=1, train_loss=0.018, train_accuracy=1.000, val_loss=0.174, val_accuracy=0.954]\n",
      "Epoch 190: 100%|█████████▉| 254/255 [01:26<00:00,  2.93it/s, loss=0.0696, v_num=1, train_loss=0.018, train_accuracy=1.000, val_loss=0.174, val_accuracy=0.954]\n",
      "Epoch 190: 100%|██████████| 255/255 [01:27<00:00,  2.93it/s, loss=0.0696, v_num=1, train_loss=0.018, train_accuracy=1.000, val_loss=0.227, val_accuracy=0.940]\n",
      "Epoch 190: 100%|██████████| 255/255 [01:27<00:00,  2.93it/s, loss=0.0696, v_num=1, train_loss=0.018, train_accuracy=1.000, val_loss=0.227, val_accuracy=0.940]"
     ]
    },
    {
     "name": "stderr",
     "output_type": "stream",
     "text": [
      "Epoch 190, global step 43165: val_loss was not in top 2\n"
     ]
    },
    {
     "name": "stdout",
     "output_type": "stream",
     "text": [
      "Epoch 191:  89%|████████▊ | 226/255 [01:22<00:10,  2.75it/s, loss=0.058, v_num=1, train_loss=0.0177, train_accuracy=1.000, val_loss=0.227, val_accuracy=0.940]  \n",
      "Validating: 0it [00:00, ?it/s]\u001b[A\n",
      "Validating:   0%|          | 0/29 [00:00<?, ?it/s]\u001b[A\n",
      "Epoch 191:  89%|████████▉ | 228/255 [01:24<00:09,  2.70it/s, loss=0.058, v_num=1, train_loss=0.0177, train_accuracy=1.000, val_loss=0.227, val_accuracy=0.940]\n",
      "Epoch 191:  90%|█████████ | 230/255 [01:24<00:09,  2.72it/s, loss=0.058, v_num=1, train_loss=0.0177, train_accuracy=1.000, val_loss=0.227, val_accuracy=0.940]\n",
      "Epoch 191:  91%|█████████ | 232/255 [01:24<00:08,  2.74it/s, loss=0.058, v_num=1, train_loss=0.0177, train_accuracy=1.000, val_loss=0.227, val_accuracy=0.940]\n",
      "Epoch 191:  92%|█████████▏| 234/255 [01:24<00:07,  2.76it/s, loss=0.058, v_num=1, train_loss=0.0177, train_accuracy=1.000, val_loss=0.227, val_accuracy=0.940]\n",
      "Epoch 191:  93%|█████████▎| 236/255 [01:25<00:06,  2.77it/s, loss=0.058, v_num=1, train_loss=0.0177, train_accuracy=1.000, val_loss=0.227, val_accuracy=0.940]\n",
      "Epoch 191:  93%|█████████▎| 238/255 [01:25<00:06,  2.79it/s, loss=0.058, v_num=1, train_loss=0.0177, train_accuracy=1.000, val_loss=0.227, val_accuracy=0.940]\n",
      "Epoch 191:  94%|█████████▍| 240/255 [01:25<00:05,  2.81it/s, loss=0.058, v_num=1, train_loss=0.0177, train_accuracy=1.000, val_loss=0.227, val_accuracy=0.940]\n",
      "Epoch 191:  95%|█████████▍| 242/255 [01:25<00:04,  2.83it/s, loss=0.058, v_num=1, train_loss=0.0177, train_accuracy=1.000, val_loss=0.227, val_accuracy=0.940]\n",
      "Epoch 191:  96%|█████████▌| 244/255 [01:25<00:03,  2.85it/s, loss=0.058, v_num=1, train_loss=0.0177, train_accuracy=1.000, val_loss=0.227, val_accuracy=0.940]\n",
      "Epoch 191:  96%|█████████▋| 246/255 [01:25<00:03,  2.86it/s, loss=0.058, v_num=1, train_loss=0.0177, train_accuracy=1.000, val_loss=0.227, val_accuracy=0.940]\n",
      "Epoch 191:  97%|█████████▋| 248/255 [01:26<00:02,  2.88it/s, loss=0.058, v_num=1, train_loss=0.0177, train_accuracy=1.000, val_loss=0.227, val_accuracy=0.940]\n",
      "Epoch 191:  98%|█████████▊| 250/255 [01:26<00:01,  2.90it/s, loss=0.058, v_num=1, train_loss=0.0177, train_accuracy=1.000, val_loss=0.227, val_accuracy=0.940]\n",
      "Epoch 191:  99%|█████████▉| 252/255 [01:26<00:01,  2.92it/s, loss=0.058, v_num=1, train_loss=0.0177, train_accuracy=1.000, val_loss=0.227, val_accuracy=0.940]\n",
      "Epoch 191: 100%|█████████▉| 254/255 [01:26<00:00,  2.93it/s, loss=0.058, v_num=1, train_loss=0.0177, train_accuracy=1.000, val_loss=0.227, val_accuracy=0.940]\n",
      "Epoch 191: 100%|██████████| 255/255 [01:27<00:00,  2.93it/s, loss=0.058, v_num=1, train_loss=0.0177, train_accuracy=1.000, val_loss=0.203, val_accuracy=0.941]\n",
      "Epoch 191: 100%|██████████| 255/255 [01:27<00:00,  2.93it/s, loss=0.058, v_num=1, train_loss=0.0177, train_accuracy=1.000, val_loss=0.203, val_accuracy=0.941]"
     ]
    },
    {
     "name": "stderr",
     "output_type": "stream",
     "text": [
      "Epoch 191, global step 43391: val_loss was not in top 2\n"
     ]
    },
    {
     "name": "stdout",
     "output_type": "stream",
     "text": [
      "Epoch 192:  89%|████████▊ | 226/255 [01:22<00:10,  2.75it/s, loss=0.0448, v_num=1, train_loss=0.0692, train_accuracy=0.944, val_loss=0.203, val_accuracy=0.941] \n",
      "Validating: 0it [00:00, ?it/s]\u001b[A\n",
      "Validating:   0%|          | 0/29 [00:00<?, ?it/s]\u001b[A\n",
      "Epoch 192:  89%|████████▉ | 228/255 [01:24<00:10,  2.69it/s, loss=0.0448, v_num=1, train_loss=0.0692, train_accuracy=0.944, val_loss=0.203, val_accuracy=0.941]\n",
      "Epoch 192:  90%|█████████ | 230/255 [01:24<00:09,  2.71it/s, loss=0.0448, v_num=1, train_loss=0.0692, train_accuracy=0.944, val_loss=0.203, val_accuracy=0.941]\n",
      "Epoch 192:  91%|█████████ | 232/255 [01:24<00:08,  2.73it/s, loss=0.0448, v_num=1, train_loss=0.0692, train_accuracy=0.944, val_loss=0.203, val_accuracy=0.941]\n",
      "Epoch 192:  92%|█████████▏| 234/255 [01:25<00:07,  2.75it/s, loss=0.0448, v_num=1, train_loss=0.0692, train_accuracy=0.944, val_loss=0.203, val_accuracy=0.941]\n",
      "Epoch 192:  93%|█████████▎| 236/255 [01:25<00:06,  2.77it/s, loss=0.0448, v_num=1, train_loss=0.0692, train_accuracy=0.944, val_loss=0.203, val_accuracy=0.941]\n",
      "Epoch 192:  93%|█████████▎| 238/255 [01:25<00:06,  2.78it/s, loss=0.0448, v_num=1, train_loss=0.0692, train_accuracy=0.944, val_loss=0.203, val_accuracy=0.941]\n",
      "Epoch 192:  94%|█████████▍| 240/255 [01:25<00:05,  2.80it/s, loss=0.0448, v_num=1, train_loss=0.0692, train_accuracy=0.944, val_loss=0.203, val_accuracy=0.941]\n",
      "Epoch 192:  95%|█████████▍| 242/255 [01:25<00:04,  2.82it/s, loss=0.0448, v_num=1, train_loss=0.0692, train_accuracy=0.944, val_loss=0.203, val_accuracy=0.941]\n",
      "Epoch 192:  96%|█████████▌| 244/255 [01:26<00:03,  2.84it/s, loss=0.0448, v_num=1, train_loss=0.0692, train_accuracy=0.944, val_loss=0.203, val_accuracy=0.941]\n",
      "Epoch 192:  96%|█████████▋| 246/255 [01:26<00:03,  2.85it/s, loss=0.0448, v_num=1, train_loss=0.0692, train_accuracy=0.944, val_loss=0.203, val_accuracy=0.941]\n",
      "Epoch 192:  97%|█████████▋| 248/255 [01:26<00:02,  2.87it/s, loss=0.0448, v_num=1, train_loss=0.0692, train_accuracy=0.944, val_loss=0.203, val_accuracy=0.941]\n",
      "Epoch 192:  98%|█████████▊| 250/255 [01:26<00:01,  2.89it/s, loss=0.0448, v_num=1, train_loss=0.0692, train_accuracy=0.944, val_loss=0.203, val_accuracy=0.941]\n",
      "Epoch 192:  99%|█████████▉| 252/255 [01:26<00:01,  2.91it/s, loss=0.0448, v_num=1, train_loss=0.0692, train_accuracy=0.944, val_loss=0.203, val_accuracy=0.941]\n",
      "Epoch 192: 100%|█████████▉| 254/255 [01:26<00:00,  2.92it/s, loss=0.0448, v_num=1, train_loss=0.0692, train_accuracy=0.944, val_loss=0.203, val_accuracy=0.941]\n",
      "Epoch 192: 100%|██████████| 255/255 [01:27<00:00,  2.92it/s, loss=0.0448, v_num=1, train_loss=0.0692, train_accuracy=0.944, val_loss=0.184, val_accuracy=0.945]\n",
      "Epoch 192: 100%|██████████| 255/255 [01:27<00:00,  2.92it/s, loss=0.0448, v_num=1, train_loss=0.0692, train_accuracy=0.944, val_loss=0.184, val_accuracy=0.945]"
     ]
    },
    {
     "name": "stderr",
     "output_type": "stream",
     "text": [
      "Epoch 192, global step 43617: val_loss was not in top 2\n"
     ]
    },
    {
     "name": "stdout",
     "output_type": "stream",
     "text": [
      "Epoch 193:  89%|████████▊ | 226/255 [01:22<00:10,  2.75it/s, loss=0.0365, v_num=1, train_loss=0.0934, train_accuracy=0.944, val_loss=0.184, val_accuracy=0.945] \n",
      "Validating: 0it [00:00, ?it/s]\u001b[A\n",
      "Validating:   0%|          | 0/29 [00:00<?, ?it/s]\u001b[A\n",
      "Epoch 193:  89%|████████▉ | 228/255 [01:24<00:10,  2.70it/s, loss=0.0365, v_num=1, train_loss=0.0934, train_accuracy=0.944, val_loss=0.184, val_accuracy=0.945]\n",
      "Epoch 193:  90%|█████████ | 230/255 [01:24<00:09,  2.72it/s, loss=0.0365, v_num=1, train_loss=0.0934, train_accuracy=0.944, val_loss=0.184, val_accuracy=0.945]\n",
      "Epoch 193:  91%|█████████ | 232/255 [01:24<00:08,  2.74it/s, loss=0.0365, v_num=1, train_loss=0.0934, train_accuracy=0.944, val_loss=0.184, val_accuracy=0.945]\n",
      "Epoch 193:  92%|█████████▏| 234/255 [01:24<00:07,  2.75it/s, loss=0.0365, v_num=1, train_loss=0.0934, train_accuracy=0.944, val_loss=0.184, val_accuracy=0.945]\n",
      "Epoch 193:  93%|█████████▎| 236/255 [01:25<00:06,  2.77it/s, loss=0.0365, v_num=1, train_loss=0.0934, train_accuracy=0.944, val_loss=0.184, val_accuracy=0.945]\n",
      "Epoch 193:  93%|█████████▎| 238/255 [01:25<00:06,  2.79it/s, loss=0.0365, v_num=1, train_loss=0.0934, train_accuracy=0.944, val_loss=0.184, val_accuracy=0.945]\n",
      "Epoch 193:  94%|█████████▍| 240/255 [01:25<00:05,  2.81it/s, loss=0.0365, v_num=1, train_loss=0.0934, train_accuracy=0.944, val_loss=0.184, val_accuracy=0.945]\n",
      "Epoch 193:  95%|█████████▍| 242/255 [01:25<00:04,  2.82it/s, loss=0.0365, v_num=1, train_loss=0.0934, train_accuracy=0.944, val_loss=0.184, val_accuracy=0.945]\n",
      "Epoch 193:  96%|█████████▌| 244/255 [01:25<00:03,  2.84it/s, loss=0.0365, v_num=1, train_loss=0.0934, train_accuracy=0.944, val_loss=0.184, val_accuracy=0.945]\n",
      "Epoch 193:  96%|█████████▋| 246/255 [01:26<00:03,  2.86it/s, loss=0.0365, v_num=1, train_loss=0.0934, train_accuracy=0.944, val_loss=0.184, val_accuracy=0.945]\n",
      "Epoch 193:  97%|█████████▋| 248/255 [01:26<00:02,  2.88it/s, loss=0.0365, v_num=1, train_loss=0.0934, train_accuracy=0.944, val_loss=0.184, val_accuracy=0.945]\n",
      "Epoch 193:  98%|█████████▊| 250/255 [01:26<00:01,  2.89it/s, loss=0.0365, v_num=1, train_loss=0.0934, train_accuracy=0.944, val_loss=0.184, val_accuracy=0.945]\n",
      "Epoch 193:  99%|█████████▉| 252/255 [01:26<00:01,  2.91it/s, loss=0.0365, v_num=1, train_loss=0.0934, train_accuracy=0.944, val_loss=0.184, val_accuracy=0.945]\n",
      "Epoch 193: 100%|█████████▉| 254/255 [01:26<00:00,  2.93it/s, loss=0.0365, v_num=1, train_loss=0.0934, train_accuracy=0.944, val_loss=0.184, val_accuracy=0.945]\n",
      "Epoch 193: 100%|██████████| 255/255 [01:27<00:00,  2.92it/s, loss=0.0365, v_num=1, train_loss=0.0934, train_accuracy=0.944, val_loss=0.172, val_accuracy=0.952]\n",
      "Epoch 193: 100%|██████████| 255/255 [01:27<00:00,  2.92it/s, loss=0.0365, v_num=1, train_loss=0.0934, train_accuracy=0.944, val_loss=0.172, val_accuracy=0.952]"
     ]
    },
    {
     "name": "stderr",
     "output_type": "stream",
     "text": [
      "Epoch 193, global step 43843: val_loss was not in top 2\n"
     ]
    },
    {
     "name": "stdout",
     "output_type": "stream",
     "text": [
      "Epoch 194:  89%|████████▊ | 226/255 [01:22<00:10,  2.75it/s, loss=0.042, v_num=1, train_loss=0.00631, train_accuracy=1.000, val_loss=0.172, val_accuracy=0.952]  \n",
      "Validating: 0it [00:00, ?it/s]\u001b[A\n",
      "Validating:   0%|          | 0/29 [00:00<?, ?it/s]\u001b[A\n",
      "Epoch 194:  89%|████████▉ | 228/255 [01:24<00:09,  2.70it/s, loss=0.042, v_num=1, train_loss=0.00631, train_accuracy=1.000, val_loss=0.172, val_accuracy=0.952]\n",
      "Epoch 194:  90%|█████████ | 230/255 [01:24<00:09,  2.72it/s, loss=0.042, v_num=1, train_loss=0.00631, train_accuracy=1.000, val_loss=0.172, val_accuracy=0.952]\n",
      "Epoch 194:  91%|█████████ | 232/255 [01:24<00:08,  2.74it/s, loss=0.042, v_num=1, train_loss=0.00631, train_accuracy=1.000, val_loss=0.172, val_accuracy=0.952]\n",
      "Epoch 194:  92%|█████████▏| 234/255 [01:24<00:07,  2.76it/s, loss=0.042, v_num=1, train_loss=0.00631, train_accuracy=1.000, val_loss=0.172, val_accuracy=0.952]\n",
      "Epoch 194:  93%|█████████▎| 236/255 [01:25<00:06,  2.77it/s, loss=0.042, v_num=1, train_loss=0.00631, train_accuracy=1.000, val_loss=0.172, val_accuracy=0.952]\n",
      "Epoch 194:  93%|█████████▎| 238/255 [01:25<00:06,  2.79it/s, loss=0.042, v_num=1, train_loss=0.00631, train_accuracy=1.000, val_loss=0.172, val_accuracy=0.952]\n",
      "Epoch 194:  94%|█████████▍| 240/255 [01:25<00:05,  2.81it/s, loss=0.042, v_num=1, train_loss=0.00631, train_accuracy=1.000, val_loss=0.172, val_accuracy=0.952]\n",
      "Epoch 194:  95%|█████████▍| 242/255 [01:25<00:04,  2.83it/s, loss=0.042, v_num=1, train_loss=0.00631, train_accuracy=1.000, val_loss=0.172, val_accuracy=0.952]\n",
      "Epoch 194:  96%|█████████▌| 244/255 [01:25<00:03,  2.84it/s, loss=0.042, v_num=1, train_loss=0.00631, train_accuracy=1.000, val_loss=0.172, val_accuracy=0.952]\n",
      "Epoch 194:  96%|█████████▋| 246/255 [01:25<00:03,  2.86it/s, loss=0.042, v_num=1, train_loss=0.00631, train_accuracy=1.000, val_loss=0.172, val_accuracy=0.952]\n",
      "Epoch 194:  97%|█████████▋| 248/255 [01:26<00:02,  2.88it/s, loss=0.042, v_num=1, train_loss=0.00631, train_accuracy=1.000, val_loss=0.172, val_accuracy=0.952]\n",
      "Epoch 194:  98%|█████████▊| 250/255 [01:26<00:01,  2.90it/s, loss=0.042, v_num=1, train_loss=0.00631, train_accuracy=1.000, val_loss=0.172, val_accuracy=0.952]\n",
      "Epoch 194:  99%|█████████▉| 252/255 [01:26<00:01,  2.91it/s, loss=0.042, v_num=1, train_loss=0.00631, train_accuracy=1.000, val_loss=0.172, val_accuracy=0.952]\n",
      "Epoch 194: 100%|█████████▉| 254/255 [01:26<00:00,  2.93it/s, loss=0.042, v_num=1, train_loss=0.00631, train_accuracy=1.000, val_loss=0.172, val_accuracy=0.952]\n",
      "Epoch 194: 100%|██████████| 255/255 [01:27<00:00,  2.92it/s, loss=0.042, v_num=1, train_loss=0.00631, train_accuracy=1.000, val_loss=0.184, val_accuracy=0.941]\n",
      "Epoch 194: 100%|██████████| 255/255 [01:27<00:00,  2.92it/s, loss=0.042, v_num=1, train_loss=0.00631, train_accuracy=1.000, val_loss=0.184, val_accuracy=0.941]"
     ]
    },
    {
     "name": "stderr",
     "output_type": "stream",
     "text": [
      "Epoch 194, global step 44069: val_loss was not in top 2\n"
     ]
    },
    {
     "name": "stdout",
     "output_type": "stream",
     "text": [
      "Epoch 195:  89%|████████▊ | 226/255 [01:22<00:10,  2.75it/s, loss=0.0455, v_num=1, train_loss=0.00173, train_accuracy=1.000, val_loss=0.184, val_accuracy=0.941]\n",
      "Validating: 0it [00:00, ?it/s]\u001b[A\n",
      "Validating:   0%|          | 0/29 [00:00<?, ?it/s]\u001b[A\n",
      "Epoch 195:  89%|████████▉ | 228/255 [01:24<00:09,  2.70it/s, loss=0.0455, v_num=1, train_loss=0.00173, train_accuracy=1.000, val_loss=0.184, val_accuracy=0.941]\n",
      "Epoch 195:  90%|█████████ | 230/255 [01:24<00:09,  2.72it/s, loss=0.0455, v_num=1, train_loss=0.00173, train_accuracy=1.000, val_loss=0.184, val_accuracy=0.941]\n",
      "Epoch 195:  91%|█████████ | 232/255 [01:24<00:08,  2.74it/s, loss=0.0455, v_num=1, train_loss=0.00173, train_accuracy=1.000, val_loss=0.184, val_accuracy=0.941]\n",
      "Epoch 195:  92%|█████████▏| 234/255 [01:24<00:07,  2.75it/s, loss=0.0455, v_num=1, train_loss=0.00173, train_accuracy=1.000, val_loss=0.184, val_accuracy=0.941]\n",
      "Epoch 195:  93%|█████████▎| 236/255 [01:25<00:06,  2.77it/s, loss=0.0455, v_num=1, train_loss=0.00173, train_accuracy=1.000, val_loss=0.184, val_accuracy=0.941]\n",
      "Epoch 195:  93%|█████████▎| 238/255 [01:25<00:06,  2.79it/s, loss=0.0455, v_num=1, train_loss=0.00173, train_accuracy=1.000, val_loss=0.184, val_accuracy=0.941]\n",
      "Epoch 195:  94%|█████████▍| 240/255 [01:25<00:05,  2.81it/s, loss=0.0455, v_num=1, train_loss=0.00173, train_accuracy=1.000, val_loss=0.184, val_accuracy=0.941]\n",
      "Epoch 195:  95%|█████████▍| 242/255 [01:25<00:04,  2.83it/s, loss=0.0455, v_num=1, train_loss=0.00173, train_accuracy=1.000, val_loss=0.184, val_accuracy=0.941]\n",
      "Epoch 195:  96%|█████████▌| 244/255 [01:25<00:03,  2.85it/s, loss=0.0455, v_num=1, train_loss=0.00173, train_accuracy=1.000, val_loss=0.184, val_accuracy=0.941]\n",
      "Epoch 195:  96%|█████████▋| 246/255 [01:25<00:03,  2.86it/s, loss=0.0455, v_num=1, train_loss=0.00173, train_accuracy=1.000, val_loss=0.184, val_accuracy=0.941]\n",
      "Epoch 195:  97%|█████████▋| 248/255 [01:26<00:02,  2.88it/s, loss=0.0455, v_num=1, train_loss=0.00173, train_accuracy=1.000, val_loss=0.184, val_accuracy=0.941]\n",
      "Epoch 195:  98%|█████████▊| 250/255 [01:26<00:01,  2.90it/s, loss=0.0455, v_num=1, train_loss=0.00173, train_accuracy=1.000, val_loss=0.184, val_accuracy=0.941]\n",
      "Epoch 195:  99%|█████████▉| 252/255 [01:26<00:01,  2.92it/s, loss=0.0455, v_num=1, train_loss=0.00173, train_accuracy=1.000, val_loss=0.184, val_accuracy=0.941]\n",
      "Epoch 195: 100%|█████████▉| 254/255 [01:26<00:00,  2.93it/s, loss=0.0455, v_num=1, train_loss=0.00173, train_accuracy=1.000, val_loss=0.184, val_accuracy=0.941]\n",
      "Epoch 195: 100%|██████████| 255/255 [01:27<00:00,  2.93it/s, loss=0.0455, v_num=1, train_loss=0.00173, train_accuracy=1.000, val_loss=0.198, val_accuracy=0.943]\n",
      "Epoch 195: 100%|██████████| 255/255 [01:27<00:00,  2.93it/s, loss=0.0455, v_num=1, train_loss=0.00173, train_accuracy=1.000, val_loss=0.198, val_accuracy=0.943]"
     ]
    },
    {
     "name": "stderr",
     "output_type": "stream",
     "text": [
      "Epoch 195, global step 44295: val_loss was not in top 2\n"
     ]
    },
    {
     "name": "stdout",
     "output_type": "stream",
     "text": [
      "Epoch 196:  89%|████████▊ | 226/255 [01:22<00:10,  2.74it/s, loss=0.556, v_num=1, train_loss=1.140, train_accuracy=0.778, val_loss=0.198, val_accuracy=0.943]   \n",
      "Validating: 0it [00:00, ?it/s]\u001b[A\n",
      "Validating:   0%|          | 0/29 [00:00<?, ?it/s]\u001b[A\n",
      "Epoch 196:  89%|████████▉ | 228/255 [01:24<00:10,  2.69it/s, loss=0.556, v_num=1, train_loss=1.140, train_accuracy=0.778, val_loss=0.198, val_accuracy=0.943]\n",
      "Epoch 196:  90%|█████████ | 230/255 [01:24<00:09,  2.71it/s, loss=0.556, v_num=1, train_loss=1.140, train_accuracy=0.778, val_loss=0.198, val_accuracy=0.943]\n",
      "Epoch 196:  91%|█████████ | 232/255 [01:25<00:08,  2.73it/s, loss=0.556, v_num=1, train_loss=1.140, train_accuracy=0.778, val_loss=0.198, val_accuracy=0.943]\n",
      "Epoch 196:  92%|█████████▏| 234/255 [01:25<00:07,  2.75it/s, loss=0.556, v_num=1, train_loss=1.140, train_accuracy=0.778, val_loss=0.198, val_accuracy=0.943]\n",
      "Epoch 196:  93%|█████████▎| 236/255 [01:25<00:06,  2.77it/s, loss=0.556, v_num=1, train_loss=1.140, train_accuracy=0.778, val_loss=0.198, val_accuracy=0.943]\n",
      "Epoch 196:  93%|█████████▎| 238/255 [01:25<00:06,  2.78it/s, loss=0.556, v_num=1, train_loss=1.140, train_accuracy=0.778, val_loss=0.198, val_accuracy=0.943]\n",
      "Epoch 196:  94%|█████████▍| 240/255 [01:25<00:05,  2.80it/s, loss=0.556, v_num=1, train_loss=1.140, train_accuracy=0.778, val_loss=0.198, val_accuracy=0.943]\n",
      "Epoch 196:  95%|█████████▍| 242/255 [01:25<00:04,  2.82it/s, loss=0.556, v_num=1, train_loss=1.140, train_accuracy=0.778, val_loss=0.198, val_accuracy=0.943]\n",
      "Epoch 196:  96%|█████████▌| 244/255 [01:26<00:03,  2.84it/s, loss=0.556, v_num=1, train_loss=1.140, train_accuracy=0.778, val_loss=0.198, val_accuracy=0.943]\n",
      "Epoch 196:  96%|█████████▋| 246/255 [01:26<00:03,  2.85it/s, loss=0.556, v_num=1, train_loss=1.140, train_accuracy=0.778, val_loss=0.198, val_accuracy=0.943]\n",
      "Epoch 196:  97%|█████████▋| 248/255 [01:26<00:02,  2.87it/s, loss=0.556, v_num=1, train_loss=1.140, train_accuracy=0.778, val_loss=0.198, val_accuracy=0.943]\n",
      "Epoch 196:  98%|█████████▊| 250/255 [01:26<00:01,  2.89it/s, loss=0.556, v_num=1, train_loss=1.140, train_accuracy=0.778, val_loss=0.198, val_accuracy=0.943]\n",
      "Epoch 196:  99%|█████████▉| 252/255 [01:26<00:01,  2.90it/s, loss=0.556, v_num=1, train_loss=1.140, train_accuracy=0.778, val_loss=0.198, val_accuracy=0.943]\n",
      "Epoch 196: 100%|█████████▉| 254/255 [01:26<00:00,  2.92it/s, loss=0.556, v_num=1, train_loss=1.140, train_accuracy=0.778, val_loss=0.198, val_accuracy=0.943]\n",
      "Epoch 196: 100%|██████████| 255/255 [01:27<00:00,  2.92it/s, loss=0.556, v_num=1, train_loss=1.140, train_accuracy=0.778, val_loss=0.881, val_accuracy=0.809]\n",
      "Epoch 196: 100%|██████████| 255/255 [01:27<00:00,  2.92it/s, loss=0.556, v_num=1, train_loss=1.140, train_accuracy=0.778, val_loss=0.881, val_accuracy=0.809]"
     ]
    },
    {
     "name": "stderr",
     "output_type": "stream",
     "text": [
      "Epoch 196, global step 44521: val_loss was not in top 2\n"
     ]
    },
    {
     "name": "stdout",
     "output_type": "stream",
     "text": [
      "Epoch 197:  89%|████████▊ | 226/255 [01:22<00:10,  2.75it/s, loss=0.186, v_num=1, train_loss=0.110, train_accuracy=0.944, val_loss=0.881, val_accuracy=0.809] \n",
      "Validating: 0it [00:00, ?it/s]\u001b[A\n",
      "Validating:   0%|          | 0/29 [00:00<?, ?it/s]\u001b[A\n",
      "Epoch 197:  89%|████████▉ | 228/255 [01:24<00:10,  2.69it/s, loss=0.186, v_num=1, train_loss=0.110, train_accuracy=0.944, val_loss=0.881, val_accuracy=0.809]\n",
      "Epoch 197:  90%|█████████ | 230/255 [01:24<00:09,  2.71it/s, loss=0.186, v_num=1, train_loss=0.110, train_accuracy=0.944, val_loss=0.881, val_accuracy=0.809]\n",
      "Epoch 197:  91%|█████████ | 232/255 [01:24<00:08,  2.73it/s, loss=0.186, v_num=1, train_loss=0.110, train_accuracy=0.944, val_loss=0.881, val_accuracy=0.809]\n",
      "Epoch 197:  92%|█████████▏| 234/255 [01:25<00:07,  2.75it/s, loss=0.186, v_num=1, train_loss=0.110, train_accuracy=0.944, val_loss=0.881, val_accuracy=0.809]\n",
      "Epoch 197:  93%|█████████▎| 236/255 [01:25<00:06,  2.77it/s, loss=0.186, v_num=1, train_loss=0.110, train_accuracy=0.944, val_loss=0.881, val_accuracy=0.809]\n",
      "Epoch 197:  93%|█████████▎| 238/255 [01:25<00:06,  2.78it/s, loss=0.186, v_num=1, train_loss=0.110, train_accuracy=0.944, val_loss=0.881, val_accuracy=0.809]\n",
      "Epoch 197:  94%|█████████▍| 240/255 [01:25<00:05,  2.80it/s, loss=0.186, v_num=1, train_loss=0.110, train_accuracy=0.944, val_loss=0.881, val_accuracy=0.809]\n",
      "Epoch 197:  95%|█████████▍| 242/255 [01:25<00:04,  2.82it/s, loss=0.186, v_num=1, train_loss=0.110, train_accuracy=0.944, val_loss=0.881, val_accuracy=0.809]\n",
      "Epoch 197:  96%|█████████▌| 244/255 [01:26<00:03,  2.84it/s, loss=0.186, v_num=1, train_loss=0.110, train_accuracy=0.944, val_loss=0.881, val_accuracy=0.809]\n",
      "Epoch 197:  96%|█████████▋| 246/255 [01:26<00:03,  2.85it/s, loss=0.186, v_num=1, train_loss=0.110, train_accuracy=0.944, val_loss=0.881, val_accuracy=0.809]\n",
      "Epoch 197:  97%|█████████▋| 248/255 [01:26<00:02,  2.87it/s, loss=0.186, v_num=1, train_loss=0.110, train_accuracy=0.944, val_loss=0.881, val_accuracy=0.809]\n",
      "Epoch 197:  98%|█████████▊| 250/255 [01:26<00:01,  2.89it/s, loss=0.186, v_num=1, train_loss=0.110, train_accuracy=0.944, val_loss=0.881, val_accuracy=0.809]\n",
      "Epoch 197:  99%|█████████▉| 252/255 [01:26<00:01,  2.91it/s, loss=0.186, v_num=1, train_loss=0.110, train_accuracy=0.944, val_loss=0.881, val_accuracy=0.809]\n",
      "Epoch 197: 100%|█████████▉| 254/255 [01:26<00:00,  2.92it/s, loss=0.186, v_num=1, train_loss=0.110, train_accuracy=0.944, val_loss=0.881, val_accuracy=0.809]\n",
      "Epoch 197: 100%|██████████| 255/255 [01:27<00:00,  2.92it/s, loss=0.186, v_num=1, train_loss=0.110, train_accuracy=0.944, val_loss=0.266, val_accuracy=0.868]\n",
      "Epoch 197: 100%|██████████| 255/255 [01:27<00:00,  2.92it/s, loss=0.186, v_num=1, train_loss=0.110, train_accuracy=0.944, val_loss=0.266, val_accuracy=0.868]"
     ]
    },
    {
     "name": "stderr",
     "output_type": "stream",
     "text": [
      "Epoch 197, global step 44747: val_loss was not in top 2\n"
     ]
    },
    {
     "name": "stdout",
     "output_type": "stream",
     "text": [
      "Epoch 198:  89%|████████▊ | 226/255 [01:22<00:10,  2.75it/s, loss=0.13, v_num=1, train_loss=0.104, train_accuracy=1.000, val_loss=0.266, val_accuracy=0.868]  \n",
      "Validating: 0it [00:00, ?it/s]\u001b[A\n",
      "Validating:   0%|          | 0/29 [00:00<?, ?it/s]\u001b[A\n",
      "Epoch 198:  89%|████████▉ | 228/255 [01:24<00:10,  2.70it/s, loss=0.13, v_num=1, train_loss=0.104, train_accuracy=1.000, val_loss=0.266, val_accuracy=0.868]\n",
      "Epoch 198:  90%|█████████ | 230/255 [01:24<00:09,  2.72it/s, loss=0.13, v_num=1, train_loss=0.104, train_accuracy=1.000, val_loss=0.266, val_accuracy=0.868]\n",
      "Epoch 198:  91%|█████████ | 232/255 [01:24<00:08,  2.73it/s, loss=0.13, v_num=1, train_loss=0.104, train_accuracy=1.000, val_loss=0.266, val_accuracy=0.868]\n",
      "Epoch 198:  92%|█████████▏| 234/255 [01:25<00:07,  2.75it/s, loss=0.13, v_num=1, train_loss=0.104, train_accuracy=1.000, val_loss=0.266, val_accuracy=0.868]\n",
      "Epoch 198:  93%|█████████▎| 236/255 [01:25<00:06,  2.77it/s, loss=0.13, v_num=1, train_loss=0.104, train_accuracy=1.000, val_loss=0.266, val_accuracy=0.868]\n",
      "Epoch 198:  93%|█████████▎| 238/255 [01:25<00:06,  2.79it/s, loss=0.13, v_num=1, train_loss=0.104, train_accuracy=1.000, val_loss=0.266, val_accuracy=0.868]\n",
      "Epoch 198:  94%|█████████▍| 240/255 [01:25<00:05,  2.80it/s, loss=0.13, v_num=1, train_loss=0.104, train_accuracy=1.000, val_loss=0.266, val_accuracy=0.868]\n",
      "Epoch 198:  95%|█████████▍| 242/255 [01:25<00:04,  2.82it/s, loss=0.13, v_num=1, train_loss=0.104, train_accuracy=1.000, val_loss=0.266, val_accuracy=0.868]\n",
      "Epoch 198:  96%|█████████▌| 244/255 [01:25<00:03,  2.84it/s, loss=0.13, v_num=1, train_loss=0.104, train_accuracy=1.000, val_loss=0.266, val_accuracy=0.868]\n",
      "Epoch 198:  96%|█████████▋| 246/255 [01:26<00:03,  2.86it/s, loss=0.13, v_num=1, train_loss=0.104, train_accuracy=1.000, val_loss=0.266, val_accuracy=0.868]\n",
      "Epoch 198:  97%|█████████▋| 248/255 [01:26<00:02,  2.88it/s, loss=0.13, v_num=1, train_loss=0.104, train_accuracy=1.000, val_loss=0.266, val_accuracy=0.868]\n",
      "Epoch 198:  98%|█████████▊| 250/255 [01:26<00:01,  2.89it/s, loss=0.13, v_num=1, train_loss=0.104, train_accuracy=1.000, val_loss=0.266, val_accuracy=0.868]\n",
      "Epoch 198:  99%|█████████▉| 252/255 [01:26<00:01,  2.91it/s, loss=0.13, v_num=1, train_loss=0.104, train_accuracy=1.000, val_loss=0.266, val_accuracy=0.868]\n",
      "Epoch 198: 100%|█████████▉| 254/255 [01:26<00:00,  2.93it/s, loss=0.13, v_num=1, train_loss=0.104, train_accuracy=1.000, val_loss=0.266, val_accuracy=0.868]\n",
      "Epoch 198: 100%|██████████| 255/255 [01:27<00:00,  2.93it/s, loss=0.13, v_num=1, train_loss=0.104, train_accuracy=1.000, val_loss=0.250, val_accuracy=0.902]\n",
      "Epoch 198: 100%|██████████| 255/255 [01:27<00:00,  2.93it/s, loss=0.13, v_num=1, train_loss=0.104, train_accuracy=1.000, val_loss=0.250, val_accuracy=0.902]"
     ]
    },
    {
     "name": "stderr",
     "output_type": "stream",
     "text": [
      "Epoch 198, global step 44973: val_loss was not in top 2\n"
     ]
    },
    {
     "name": "stdout",
     "output_type": "stream",
     "text": [
      "Epoch 199:  89%|████████▊ | 226/255 [01:22<00:10,  2.75it/s, loss=0.108, v_num=1, train_loss=0.0187, train_accuracy=1.000, val_loss=0.250, val_accuracy=0.902] \n",
      "Validating: 0it [00:00, ?it/s]\u001b[A\n",
      "Validating:   0%|          | 0/29 [00:00<?, ?it/s]\u001b[A\n",
      "Epoch 199:  89%|████████▉ | 228/255 [01:24<00:10,  2.70it/s, loss=0.108, v_num=1, train_loss=0.0187, train_accuracy=1.000, val_loss=0.250, val_accuracy=0.902]\n",
      "Epoch 199:  90%|█████████ | 230/255 [01:24<00:09,  2.72it/s, loss=0.108, v_num=1, train_loss=0.0187, train_accuracy=1.000, val_loss=0.250, val_accuracy=0.902]\n",
      "Epoch 199:  91%|█████████ | 232/255 [01:24<00:08,  2.73it/s, loss=0.108, v_num=1, train_loss=0.0187, train_accuracy=1.000, val_loss=0.250, val_accuracy=0.902]\n",
      "Epoch 199:  92%|█████████▏| 234/255 [01:25<00:07,  2.75it/s, loss=0.108, v_num=1, train_loss=0.0187, train_accuracy=1.000, val_loss=0.250, val_accuracy=0.902]\n",
      "Epoch 199:  93%|█████████▎| 236/255 [01:25<00:06,  2.77it/s, loss=0.108, v_num=1, train_loss=0.0187, train_accuracy=1.000, val_loss=0.250, val_accuracy=0.902]\n",
      "Epoch 199:  93%|█████████▎| 238/255 [01:25<00:06,  2.79it/s, loss=0.108, v_num=1, train_loss=0.0187, train_accuracy=1.000, val_loss=0.250, val_accuracy=0.902]\n",
      "Epoch 199:  94%|█████████▍| 240/255 [01:25<00:05,  2.81it/s, loss=0.108, v_num=1, train_loss=0.0187, train_accuracy=1.000, val_loss=0.250, val_accuracy=0.902]\n",
      "Epoch 199:  95%|█████████▍| 242/255 [01:25<00:04,  2.82it/s, loss=0.108, v_num=1, train_loss=0.0187, train_accuracy=1.000, val_loss=0.250, val_accuracy=0.902]\n",
      "Epoch 199:  96%|█████████▌| 244/255 [01:25<00:03,  2.84it/s, loss=0.108, v_num=1, train_loss=0.0187, train_accuracy=1.000, val_loss=0.250, val_accuracy=0.902]\n",
      "Epoch 199:  96%|█████████▋| 246/255 [01:26<00:03,  2.86it/s, loss=0.108, v_num=1, train_loss=0.0187, train_accuracy=1.000, val_loss=0.250, val_accuracy=0.902]\n",
      "Epoch 199:  97%|█████████▋| 248/255 [01:26<00:02,  2.88it/s, loss=0.108, v_num=1, train_loss=0.0187, train_accuracy=1.000, val_loss=0.250, val_accuracy=0.902]\n",
      "Epoch 199:  98%|█████████▊| 250/255 [01:26<00:01,  2.89it/s, loss=0.108, v_num=1, train_loss=0.0187, train_accuracy=1.000, val_loss=0.250, val_accuracy=0.902]\n",
      "Epoch 199:  99%|█████████▉| 252/255 [01:26<00:01,  2.91it/s, loss=0.108, v_num=1, train_loss=0.0187, train_accuracy=1.000, val_loss=0.250, val_accuracy=0.902]\n",
      "Epoch 199: 100%|█████████▉| 254/255 [01:26<00:00,  2.93it/s, loss=0.108, v_num=1, train_loss=0.0187, train_accuracy=1.000, val_loss=0.250, val_accuracy=0.902]\n",
      "Epoch 199: 100%|██████████| 255/255 [01:27<00:00,  2.92it/s, loss=0.108, v_num=1, train_loss=0.0187, train_accuracy=1.000, val_loss=0.252, val_accuracy=0.922]\n",
      "Epoch 199: 100%|██████████| 255/255 [01:27<00:00,  2.92it/s, loss=0.108, v_num=1, train_loss=0.0187, train_accuracy=1.000, val_loss=0.252, val_accuracy=0.922]"
     ]
    },
    {
     "name": "stderr",
     "output_type": "stream",
     "text": [
      "Epoch 199, global step 45199: val_loss was not in top 2\n"
     ]
    },
    {
     "name": "stdout",
     "output_type": "stream",
     "text": [
      "Epoch 199: 100%|██████████| 255/255 [01:27<00:00,  2.92it/s, loss=0.108, v_num=1, train_loss=0.0187, train_accuracy=1.000, val_loss=0.252, val_accuracy=0.922]\n"
     ]
    },
    {
     "name": "stderr",
     "output_type": "stream",
     "text": [
      "LOCAL_RANK: 0 - CUDA_VISIBLE_DEVICES: [0,1,2]\n"
     ]
    },
    {
     "name": "stdout",
     "output_type": "stream",
     "text": [
      "Testing: 100%|██████████| 29/29 [00:04<00:00,  7.34it/s]--------------------------------------------------------------------------------\n",
      "DATALOADER:0 TEST RESULTS\n",
      "{'test_accuracy': 0.9212207198143005, 'test_loss': 0.22765043377876282}\n",
      "--------------------------------------------------------------------------------\n",
      "Testing: 100%|██████████| 29/29 [00:04<00:00,  5.86it/s]\n"
     ]
    }
   ],
   "source": [
    "n = 20\n",
    "FEATURE_COLUMNS = ORG_FEATURE_COLUMNS[n:]\n",
    "\n",
    "while(n < 21):\n",
    "    print(\"------------------ Round: \" + str(n) + \" ------------------\")\n",
    "    print(FEATURE_COLUMNS)\n",
    "    print(\"Len:\", len(FEATURE_COLUMNS))\n",
    "    \n",
    "    label_encoder = LabelEncoder()\n",
    "    encoded_labels = label_encoder.fit_transform(X_train.state)\n",
    "\n",
    "    label_encoder.classes_\n",
    "\n",
    "    X_train['label'] = encoded_labels\n",
    "\n",
    "    # Prepare data ###########################################\n",
    "    sequences = [] \n",
    "\n",
    "    for name, group in g:\n",
    "        sequence_features = group[FEATURE_COLUMNS]\n",
    "        label = group.label.iloc[0]\n",
    "\n",
    "        # print((sequence_features, label))\n",
    "        sequences.append((sequence_features, label))\n",
    "\n",
    "    # Setting up train, test, val gruop #######################\n",
    "    train_sequences, test_sequences = train_test_split(sequences, test_size=0.2)\n",
    "    val_sequences, test_sequences = train_test_split(test_sequences, test_size=0.5)\n",
    "\n",
    "\n",
    "    # Setting up data module ##################################\n",
    "    data_module = DrowsyDataModule(\n",
    "        train_sequences, val_sequences, test_sequences, BATCH_SIZE\n",
    "    )\n",
    "\n",
    "    model = DrowsyPredictor(\n",
    "        n_features=len(FEATURE_COLUMNS), \n",
    "        n_classes=len(label_encoder.classes_)\n",
    "    )\n",
    "\n",
    "    # Check points and logger #################################\n",
    "    checkpoint_callback = ModelCheckpoint(\n",
    "        dirpath=\"checkpoints\",\n",
    "        filename=\"best-checkpoint-corr-random-\" + str(n),\n",
    "        save_top_k=2,\n",
    "        verbose=True,\n",
    "        monitor=\"val_loss\",\n",
    "        mode=\"min\"\n",
    "    )\n",
    "\n",
    "    logger = TensorBoardLogger(\"lightning_logs\", name=\"Drowsy_Random\" + str(n))\n",
    "\n",
    "    trainer = pl.Trainer(\n",
    "        logger=logger,\n",
    "        callbacks=[checkpoint_callback],\n",
    "        max_epochs=N_EPOCHS,\n",
    "        gpus=[2],\n",
    "        # gpus=2, \n",
    "        # auto_select_gpus=True,\n",
    "        auto_lr_find=True, \n",
    "        # check_val_every_n_epoch=10\n",
    "        # refresh_rate=20,\n",
    "    )\n",
    "    \n",
    "    # Training start\n",
    "    if (n == 20):\n",
    "        trainer.fit(model, data_module, ckpt_path=\"/Workspace/code/checkpoints/best-checkpoint-corr-random-20-v6.ckpt\")\n",
    "    else:\n",
    "        trainer.fit(model, data_module)\n",
    "    trainer.test(model, data_module)\n",
    "    \n",
    "    FEATURE_COLUMNS.pop(0)\n",
    "    n = n + 1"
   ]
  },
  {
   "cell_type": "code",
   "execution_count": null,
   "id": "76acf7fd",
   "metadata": {},
   "outputs": [],
   "source": []
  },
  {
   "cell_type": "markdown",
   "id": "62e61f6f",
   "metadata": {},
   "source": [
    "## Load Checkpoint "
   ]
  },
  {
   "cell_type": "code",
   "execution_count": 8,
   "id": "677d3cab",
   "metadata": {},
   "outputs": [],
   "source": [
    "# best-checkpoint-corr-3-v1.ckptn\n",
    "# trainer.fit(model, data_module, ckpt_path=\"/Workspace/code/checkpoints/best-checkpoint-corr-3-v1.ckpt\")"
   ]
  }
 ],
 "metadata": {
  "kernelspec": {
   "display_name": "Python 3",
   "language": "python",
   "name": "python3"
  },
  "language_info": {
   "codemirror_mode": {
    "name": "ipython",
    "version": 3
   },
   "file_extension": ".py",
   "mimetype": "text/x-python",
   "name": "python",
   "nbconvert_exporter": "python",
   "pygments_lexer": "ipython3",
   "version": "3.6.9"
  }
 },
 "nbformat": 4,
 "nbformat_minor": 5
}
