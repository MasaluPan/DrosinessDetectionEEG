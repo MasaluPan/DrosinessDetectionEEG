{
 "cells": [
  {
   "cell_type": "code",
   "execution_count": 20,
   "id": "04c2992f",
   "metadata": {},
   "outputs": [
    {
     "data": {
      "text/plain": [
       "ERROR: Failed to launch TensorBoard (exited with -6).\n",
       "Contents of stderr:\n",
       "2022-03-02 12:47:58.171607: I tensorflow/stream_executor/platform/default/dso_loader.cc:48] Successfully opened dynamic library libcudart.so.10.1\n",
       "TensorBoard 2.3.0 at http://0.0.0.0:9999/ (Press CTRL+C to quit)\n",
       "Traceback (most recent call last):\n",
       "  File \"/usr/local/bin/tensorboard\", line 8, in <module>\n",
       "    sys.exit(run_main())\n",
       "  File \"/usr/local/lib/python3.6/dist-packages/tensorboard/main.py\", line 75, in run_main\n",
       "    app.run(tensorboard.main, flags_parser=tensorboard.configure)\n",
       "  File \"/usr/local/lib/python3.6/dist-packages/absl/app.py\", line 300, in run\n",
       "    _run_main(main, args)\n",
       "  File \"/usr/local/lib/python3.6/dist-packages/absl/app.py\", line 251, in _run_main\n",
       "    sys.exit(main(argv))\n",
       "  File \"/usr/local/lib/python3.6/dist-packages/tensorboard/program.py\", line 290, in main\n",
       "    return runner(self.flags) or 0\n",
       "  File \"/usr/local/lib/python3.6/dist-packages/tensorboard/program.py\", line 308, in _run_serve_subcommand\n",
       "    self._register_info(server)\n",
       "  File \"/usr/local/lib/python3.6/dist-packages/tensorboard/program.py\", line 356, in _register_info\n",
       "    manager.write_info_file(info)\n",
       "  File \"/usr/local/lib/python3.6/dist-packages/tensorboard/manager.py\", line 262, in write_info_file\n",
       "    with open(_get_info_file_path(), \"w\") as outfile:\n",
       "FileNotFoundError: [Errno 2] No such file or directory: '/tmp/.tensorboard-info/pid-19786.info'\n",
       "terminate called without an active exception\n",
       "Fatal Python error: Aborted\n",
       "\n",
       "Current thread 0x00007f66bf892700 (most recent call first):\n",
       "  File \"/usr/local/lib/python3.6/dist-packages/tensorflow/python/lib/io/file_io.py\", line 626 in is_directory_v2\n",
       "  File \"/usr/local/lib/python3.6/dist-packages/tensorflow/python/lib/io/file_io.py\", line 612 in is_directory\n",
       "  File \"/usr/local/lib/python3.6/dist-packages/tensorflow/python/lib/io/file_io.py\", line 690 in list_directory_v2\n",
       "  File \"/usr/local/lib/python3.6/dist-packages/tensorboard/backend/event_processing/io_wrapper.py\", line 89 in ListDirectoryAbsolute\n",
       "  File \"/usr/local/lib/python3.6/dist-packages/tensorboard/backend/event_processing/directory_watcher.py\", line 212 in _GetNextPath\n",
       "  File \"/usr/local/lib/python3.6/dist-packages/tensorboard/backend/event_processing/directory_watcher.py\", line 123 in _LoadInternal\n",
       "  File \"/usr/local/lib/python3.6/dist-packages/tensorboard/backend/event_processing/directory_watcher.py\", line 90 in Load\n",
       "  File \"/usr/local/lib/python3.6/dist-packages/tensorboard/backend/event_processing/plugin_event_accumulator.py\", line 181 in Reload\n",
       "  File \"/usr/local/lib/python3.6/dist-packages/tensorboard/backend/event_processing/plugin_event_multiplexer.py\", line 237 in Worker\n",
       "  File \"/usr/local/lib/python3.6/dist-packages/tensorboard/backend/event_processing/plugin_event_multiplexer.py\", line 259 in Reload\n",
       "  File \"/usr/local/lib/python3.6/dist-packages/tensorboard/backend/event_processing/data_ingester.py\", line 104 in _reload\n",
       "  File \"/usr/lib/python3.6/threading.py\", line 864 in run\n",
       "  File \"/usr/lib/python3.6/threading.py\", line 916 in _bootstrap_inner\n",
       "  File \"/usr/lib/python3.6/threading.py\", line 884 in _bootstrap\n",
       "\n",
       "Thread 0x00007f6736e69740 (most recent call first):"
      ]
     },
     "metadata": {},
     "output_type": "display_data"
    }
   ],
   "source": [
    "%reload_ext tensorboard\n",
    "%tensorboard --logdir ./lightning_logs --host 0.0.0.0 --port=9999"
   ]
  },
  {
   "cell_type": "code",
   "execution_count": 8,
   "id": "0195fa76",
   "metadata": {},
   "outputs": [
    {
     "name": "stdout",
     "output_type": "stream",
     "text": [
      "/bin/sh: 1: kill: No such process\r\n",
      "\r\n"
     ]
    }
   ],
   "source": [
    "!kill 9027"
   ]
  },
  {
   "cell_type": "code",
   "execution_count": 6,
   "id": "311e5fd1",
   "metadata": {},
   "outputs": [],
   "source": [
    "!cd /tmp/.tensorboard-info"
   ]
  },
  {
   "cell_type": "code",
   "execution_count": null,
   "id": "91d8a18e",
   "metadata": {},
   "outputs": [],
   "source": [
    "!export TMPDIR=/tmp/USER; \n",
    "!mkdir -p $TMPDIR;"
   ]
  },
  {
   "cell_type": "code",
   "execution_count": 12,
   "id": "cb1d6e21",
   "metadata": {},
   "outputs": [],
   "source": [
    "!chmod 777 /tmp/.tensorboard-info"
   ]
  },
  {
   "cell_type": "code",
   "execution_count": 22,
   "id": "e36eed5d",
   "metadata": {},
   "outputs": [
    {
     "name": "stdout",
     "output_type": "stream",
     "text": [
      "21245 pts/1    Ss+    0:01 /bin/sh -c ps -ax |grep tensorboard\r\n",
      "21307 pts/1    S+     0:00 grep tensorboard\r\n"
     ]
    }
   ],
   "source": [
    "!ps -ax |grep tensorboard"
   ]
  },
  {
   "cell_type": "code",
   "execution_count": 23,
   "id": "c96d85c9",
   "metadata": {},
   "outputs": [
    {
     "name": "stdout",
     "output_type": "stream",
     "text": [
      "/bin/sh: 1: kill: No such process\r\n",
      "\r\n",
      "/bin/sh: 1: kill: No such process\r\n",
      "\r\n"
     ]
    }
   ],
   "source": [
    "!kill 21245 21307"
   ]
  },
  {
   "cell_type": "code",
   "execution_count": 24,
   "id": "2fde357a",
   "metadata": {},
   "outputs": [
    {
     "name": "stdout",
     "output_type": "stream",
     "text": [
      "21609 pts/1    Ss+    0:01 /bin/sh -c ps -ax |grep tensorboard\r\n",
      "21611 pts/1    S+     0:00 grep tensorboard\r\n"
     ]
    }
   ],
   "source": [
    "!ps -ax |grep tensorboard"
   ]
  },
  {
   "cell_type": "code",
   "execution_count": null,
   "id": "a221e1cb",
   "metadata": {},
   "outputs": [
    {
     "name": "stdout",
     "output_type": "stream",
     "text": [
      "Found existing installation: tensorboard 2.3.0\n",
      "Uninstalling tensorboard-2.3.0:\n",
      "  Would remove:\n",
      "    /usr/local/bin/tensorboard\n",
      "    /usr/local/lib/python3.6/dist-packages/tensorboard-2.3.0.dist-info/*\n",
      "    /usr/local/lib/python3.6/dist-packages/tensorboard/*\n",
      "Proceed (y/n)? "
     ]
    }
   ],
   "source": [
    "!pip uninstall tensorboard"
   ]
  },
  {
   "cell_type": "code",
   "execution_count": null,
   "id": "0fb9555e",
   "metadata": {},
   "outputs": [],
   "source": [
    "!y"
   ]
  },
  {
   "cell_type": "code",
   "execution_count": null,
   "id": "0ab73fce",
   "metadata": {},
   "outputs": [],
   "source": []
  }
 ],
 "metadata": {
  "kernelspec": {
   "display_name": "Python 3",
   "language": "python",
   "name": "python3"
  },
  "language_info": {
   "codemirror_mode": {
    "name": "ipython",
    "version": 3
   },
   "file_extension": ".py",
   "mimetype": "text/x-python",
   "name": "python",
   "nbconvert_exporter": "python",
   "pygments_lexer": "ipython3",
   "version": "3.6.9"
  }
 },
 "nbformat": 4,
 "nbformat_minor": 5
}
