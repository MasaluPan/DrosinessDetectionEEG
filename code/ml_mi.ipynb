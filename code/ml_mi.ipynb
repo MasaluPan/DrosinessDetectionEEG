{
 "cells": [
  {
   "cell_type": "code",
   "execution_count": 1,
   "id": "73ee408b",
   "metadata": {},
   "outputs": [
    {
     "name": "stderr",
     "output_type": "stream",
     "text": [
      "/usr/local/lib/python3.6/dist-packages/tqdm/auto.py:22: TqdmWarning: IProgress not found. Please update jupyter and ipywidgets. See https://ipywidgets.readthedocs.io/en/stable/user_install.html\n",
      "  from .autonotebook import tqdm as notebook_tqdm\n"
     ]
    },
    {
     "name": "stdout",
     "output_type": "stream",
     "text": [
      "cuda\n"
     ]
    }
   ],
   "source": [
    "import os\n",
    "import pandas as pd\n",
    "import numpy as np\n",
    "from sklearn.preprocessing import LabelEncoder\n",
    "from sklearn.model_selection import train_test_split\n",
    "from sklearn.metrics import classification_report, confusion_matrix\n",
    "import matplotlib.pyplot as plt\n",
    "\n",
    "import torch\n",
    "from torch import nn, optim\n",
    "from torch.nn import functional as F\n",
    "from torch.utils.data import Dataset, DataLoader\n",
    "\n",
    "import torchmetrics\n",
    "from torchmetrics.functional import accuracy, f1_score\n",
    "\n",
    "import pytorch_lightning as pl\n",
    "from pytorch_lightning.loggers import TensorBoardLogger\n",
    "from pytorch_lightning.callbacks import ModelCheckpoint\n",
    "\n",
    "device = torch.device(\"cuda\" if torch.cuda.is_available() else \"cpu\")\n",
    "print(device)"
   ]
  },
  {
   "cell_type": "markdown",
   "id": "dba0665e",
   "metadata": {},
   "source": [
    "## Model Setup "
   ]
  },
  {
   "cell_type": "code",
   "execution_count": 13,
   "id": "c1703e27",
   "metadata": {},
   "outputs": [
    {
     "name": "stderr",
     "output_type": "stream",
     "text": [
      "Global seed set to 42\n"
     ]
    }
   ],
   "source": [
    "pl.seed_everything(42, workers=True)\n",
    "\n",
    "class DrowsyDataset(Dataset):\n",
    "    \n",
    "    def __init__(self, sequences):\n",
    "        self.sequences = sequences\n",
    "        \n",
    "    def __len__(self):\n",
    "        return len(self.sequences)\n",
    "    \n",
    "    def __getitem__(self, idx):\n",
    "        sequence, label = self.sequences[idx]\n",
    "        return dict(\n",
    "            sequence=torch.Tensor(sequence.to_numpy()),\n",
    "            label=torch.tensor(label).long()\n",
    "        )\n",
    "    \n",
    "class DrowsyDataModule(pl.LightningDataModule):\n",
    "    \n",
    "    def __init__(self, train_sequences, val_sequences, test_sequences, batch_size):\n",
    "        super().__init__()\n",
    "        self.train_sequences = train_sequences\n",
    "        self.val_sequences = val_sequences\n",
    "        self.test_sequences = test_sequences\n",
    "        self.batch_size = batch_size\n",
    "\n",
    "    def setup(self, stage=None):\n",
    "        self.train_dataset = DrowsyDataset(self.train_sequences)\n",
    "        self.val_dataset = DrowsyDataset(self.val_sequences)\n",
    "        self.test_dataset = DrowsyDataset(self.test_sequences)\n",
    "        \n",
    "    def train_dataloader(self):\n",
    "        return DataLoader(\n",
    "            self.train_dataset,\n",
    "            batch_size=self.batch_size,\n",
    "            shuffle=True,\n",
    "            num_workers=os.cpu_count()\n",
    "        )\n",
    "    \n",
    "    def val_dataloader(self):\n",
    "        return DataLoader(\n",
    "            self.val_dataset,\n",
    "            batch_size=self.batch_size,\n",
    "            shuffle=False,\n",
    "            num_workers=os.cpu_count()\n",
    "        )\n",
    "    \n",
    "    def test_dataloader(self):\n",
    "        return DataLoader(\n",
    "            self.test_dataset,\n",
    "            batch_size=self.batch_size,\n",
    "            shuffle=False,\n",
    "            num_workers=os.cpu_count()\n",
    "        ) \n",
    "\n",
    "class DrowsyModel(nn.Module):\n",
    "    \n",
    "    def __init__(self, n_features, n_classes, n_hidden=256, n_layers=3):\n",
    "        super().__init__()\n",
    "        \n",
    "        self.n_hidden = n_hidden\n",
    "        \n",
    "        self.lstm = nn.LSTM(\n",
    "            input_size=n_features,\n",
    "            hidden_size=n_hidden,\n",
    "            num_layers=n_layers,\n",
    "            batch_first=True,\n",
    "            dropout=0.75\n",
    "        )\n",
    "        \n",
    "        self.classifier = nn.Linear(n_hidden, n_classes)\n",
    "        \n",
    "    def forward(self, x):\n",
    "        self.lstm.flatten_parameters()\n",
    "        _, (hidden, _) = self.lstm(x)\n",
    "        \n",
    "        out = hidden[-1]\n",
    "        return self.classifier(out)\n",
    "    \n",
    "class DrowsyPredictor(pl.LightningModule):\n",
    "    \n",
    "    def __init__(self, n_features: int, n_classes: int):\n",
    "        super().__init__()\n",
    "        self.model = DrowsyModel(n_features, n_classes)\n",
    "        self.criterion = nn.CrossEntropyLoss()\n",
    "        \n",
    "    def forward(self, x, label=None):\n",
    "        output = self.model(x)\n",
    "        loss = 0\n",
    "        if label is not None:\n",
    "            loss = self.criterion(output, label)\n",
    "        return loss, output\n",
    "        \n",
    "    def training_step(self, batch, batch_idx):\n",
    "        sequences = batch[\"sequence\"]\n",
    "        labels = batch[\"label\"]\n",
    "        loss, outputs = self(sequences, labels)\n",
    "        predictions = torch.argmax(outputs, dim=1)\n",
    "        step_accuracy = accuracy(predictions, labels)\n",
    "        my_f1_score = f1_score(predictions, labels)\n",
    "        \n",
    "        self.log(\"train_loss\", loss, prog_bar=True, logger=True)\n",
    "        self.log(\"train_accuracy\", step_accuracy, prog_bar=True, logger=True)\n",
    "        self.log(\"train_f1_score\", my_f1_score, prog_bar=True, logger=True)\n",
    "        \n",
    "        return {\"loss\": loss, \"accuracy\": step_accuracy}\n",
    "    \n",
    "    def validation_step(self, batch, batch_idx):\n",
    "        sequences = batch[\"sequence\"]\n",
    "        labels = batch[\"label\"]\n",
    "        loss, outputs = self(sequences, labels)\n",
    "        predictions = torch.argmax(outputs, dim=1)\n",
    "        step_accuracy = accuracy(predictions, labels)\n",
    "        my_f1_score = f1_score(predictions, labels)\n",
    "        \n",
    "        self.log(\"val_loss\", loss, prog_bar=True, logger=True)\n",
    "        self.log(\"val_accuracy\", step_accuracy, prog_bar=True, logger=True)\n",
    "        self.log(\"val_f1_score\", my_f1_score, prog_bar=True, logger=True)\n",
    "        \n",
    "        return {\"loss\": loss, \"accuracy\": step_accuracy}\n",
    "    \n",
    "    def test_step(self, batch, batch_idx):\n",
    "        sequences = batch[\"sequence\"]\n",
    "        labels = batch[\"label\"]\n",
    "        loss, outputs = self(sequences, labels)\n",
    "        predictions = torch.argmax(outputs, dim=1)\n",
    "        step_accuracy = accuracy(predictions, labels)\n",
    "        my_f1_score = f1_score(predictions, labels)\n",
    "        \n",
    "        self.log(\"test_loss\", loss, prog_bar=True, logger=True)\n",
    "        self.log(\"test_accuracy\", step_accuracy, prog_bar=True, logger=True)\n",
    "        self.log(\"test_f1_score\", my_f1_score, prog_bar=True, logger=True)\n",
    "        \n",
    "        return {\"loss\": loss, \"accuracy\": step_accuracy}\n",
    "    \n",
    "    def configure_optimizers(self):\n",
    "        return optim.Adam(self.parameters(), lr=0.0001)"
   ]
  },
  {
   "cell_type": "markdown",
   "id": "ad2dc18a",
   "metadata": {},
   "source": [
    "## 參數設置"
   ]
  },
  {
   "cell_type": "code",
   "execution_count": null,
   "id": "6907a100",
   "metadata": {},
   "outputs": [],
   "source": []
  },
  {
   "cell_type": "code",
   "execution_count": 3,
   "id": "4a725d49",
   "metadata": {},
   "outputs": [
    {
     "data": {
      "text/plain": [
       "Reusing TensorBoard on port 8888 (pid 7376), started 0:00:03 ago. (Use '!kill 7376' to kill it.)"
      ]
     },
     "metadata": {},
     "output_type": "display_data"
    },
    {
     "data": {
      "text/html": [
       "\n",
       "      <iframe id=\"tensorboard-frame-1c80317fa3b1799d\" width=\"100%\" height=\"800\" frameborder=\"0\">\n",
       "      </iframe>\n",
       "      <script>\n",
       "        (function() {\n",
       "          const frame = document.getElementById(\"tensorboard-frame-1c80317fa3b1799d\");\n",
       "          const url = new URL(\"/\", window.location);\n",
       "          const port = 8888;\n",
       "          if (port) {\n",
       "            url.port = port;\n",
       "          }\n",
       "          frame.src = url;\n",
       "        })();\n",
       "      </script>\n",
       "    "
      ],
      "text/plain": [
       "<IPython.core.display.HTML object>"
      ]
     },
     "metadata": {},
     "output_type": "display_data"
    }
   ],
   "source": [
    "%load_ext tensorboard\n",
    "%reload_ext tensorboard\n",
    "%tensorboard --logdir ./lightning_logs --host 0.0.0.0 --port=8888"
   ]
  },
  {
   "cell_type": "code",
   "execution_count": 4,
   "id": "fbedfd71",
   "metadata": {},
   "outputs": [],
   "source": [
    "X_train = pd.read_csv('../data2.csv')"
   ]
  },
  {
   "cell_type": "code",
   "execution_count": 8,
   "id": "d89bca4d",
   "metadata": {},
   "outputs": [],
   "source": [
    "N_EPOCHS = 200\n",
    "BATCH_SIZE = 50\n",
    "\n",
    "# randomed \n",
    "# ORG_FEATURE_COLUMNS = ['HEOR', 'T5', 'VEOL', 'VEOU', 'F8', 'FZ', 'F7', 'TP8', 'FC3', 'T4', 'HEOL', 'FT10', 'O2', 'FC4', 'FCZ', 'CP3', 'FP2', 'TP7', 'C3', 'F3', 'PZ', 'F4', 'O1', 'FT7', 'CP4', 'FP1', 'C4', 'T6', 'FT8', 'CZ', 'PO1', 'OZ', 'A2', 'A1', 'T3', 'P4', 'P3', 'FT9', 'CPZ', 'PO2']\n",
    "ORG_FEATURE_COLUMNS = ['HEOR', 'T5', 'VEOL', 'VEOU', 'F8', 'FZ', 'F7', 'TP8', 'FC3', 'T4', 'HEOL', 'FT10', 'O2', 'FC4', 'FCZ', 'CP3', 'FP2', 'TP7', 'C3', 'F3', 'PZ', 'F4', 'O1', 'FT7', 'CP4', 'FP1', 'C4', 'T6', 'FT8', 'CZ', 'PO1', 'OZ', 'A2', 'A1', 'T3', 'P4', 'P3', 'FT9', 'CPZ', 'PO2']\n",
    "g = X_train.groupby(\"group\")\n",
    "\n",
    "# For 口試補充：\n",
    "# ORG_FEATURE_COLUMNS = ['FP1','FP2','FZ']\n"
   ]
  },
  {
   "cell_type": "code",
   "execution_count": 6,
   "id": "a227ece2",
   "metadata": {},
   "outputs": [],
   "source": [
    "# import random\n",
    "# ORG_FEATURE_COLUMNS = ['TP8', 'FP2', 'FCZ', 'FT10', 'O2', 'O1', 'FT7', 'F4', 'TP7', 'C3', 'C4', 'F3', 'FT8', 'T6', 'HEOR', 'T5', 'VEOL', 'F7', 'FZ', 'VEOU', 'A1', 'P3', 'PZ', 'CP3', 'P4', 'CPZ', 'A2', 'HEOL', 'CP4', 'FT9', 'F8', 'OZ', 'CZ', 'FC4', 'FC3', 'FP1', 'PO1', 'T3', 'T4', 'PO2']\n",
    "# random.shuffle(ORG_FEATURE_COLUMNS)\n",
    "# print(ORG_FEATURE_COLUMNS)"
   ]
  },
  {
   "cell_type": "markdown",
   "id": "90c9ac6d",
   "metadata": {},
   "source": [
    "## Main"
   ]
  },
  {
   "cell_type": "code",
   "execution_count": 15,
   "id": "484d3379",
   "metadata": {},
   "outputs": [
    {
     "name": "stdout",
     "output_type": "stream",
     "text": [
      "------------------ Round: 0 ------------------\n",
      "['HEOR', 'T5', 'VEOL', 'VEOU', 'F8', 'FZ', 'F7', 'TP8', 'FC3', 'T4', 'HEOL', 'FT10', 'O2', 'FC4', 'FCZ', 'CP3', 'FP2', 'TP7', 'C3', 'F3', 'PZ', 'F4', 'O1', 'FT7', 'CP4', 'FP1', 'C4', 'T6', 'FT8', 'CZ', 'PO1', 'OZ', 'A2', 'A1', 'T3', 'P4', 'P3', 'FT9', 'CPZ', 'PO2']\n",
      "Len: 40\n"
     ]
    },
    {
     "name": "stderr",
     "output_type": "stream",
     "text": [
      "GPU available: True, used: True\n",
      "TPU available: False, using: 0 TPU cores\n",
      "IPU available: False, using: 0 IPUs\n",
      "LOCAL_RANK: 0 - CUDA_VISIBLE_DEVICES: [0,1,2]\n",
      "\n",
      "  | Name      | Type             | Params\n",
      "-----------------------------------------------\n",
      "0 | model     | DrowsyModel      | 1.4 M \n",
      "1 | criterion | CrossEntropyLoss | 0     \n",
      "-----------------------------------------------\n",
      "1.4 M     Trainable params\n",
      "0         Non-trainable params\n",
      "1.4 M     Total params\n",
      "5.433     Total estimated model params size (MB)\n",
      "/usr/local/lib/python3.6/dist-packages/pytorch_lightning/callbacks/model_checkpoint.py:631: UserWarning: Checkpoint directory /Workspace/code/checkpoints exists and is not empty.\n",
      "  rank_zero_warn(f\"Checkpoint directory {dirpath} exists and is not empty.\")\n"
     ]
    },
    {
     "name": "stdout",
     "output_type": "stream",
     "text": [
      "                                                                      "
     ]
    },
    {
     "name": "stderr",
     "output_type": "stream",
     "text": [
      "Global seed set to 42\n"
     ]
    },
    {
     "name": "stdout",
     "output_type": "stream",
     "text": [
      "Epoch 0:  89%|████████▊ | 226/255 [01:19<00:10,  2.84it/s, loss=0.621, v_num=4, train_loss=0.580, train_accuracy=0.778, train_f1_score=0.778]\n",
      "Validating: 0it [00:00, ?it/s]\u001b[A\n",
      "Validating:   0%|          | 0/29 [00:00<?, ?it/s]\u001b[A\n",
      "Epoch 0:  89%|████████▉ | 228/255 [01:26<00:10,  2.63it/s, loss=0.621, v_num=4, train_loss=0.580, train_accuracy=0.778, train_f1_score=0.778]\n",
      "Epoch 0:  90%|█████████ | 230/255 [01:26<00:09,  2.65it/s, loss=0.621, v_num=4, train_loss=0.580, train_accuracy=0.778, train_f1_score=0.778]\n",
      "Epoch 0:  91%|█████████ | 232/255 [01:26<00:08,  2.67it/s, loss=0.621, v_num=4, train_loss=0.580, train_accuracy=0.778, train_f1_score=0.778]\n",
      "Epoch 0:  92%|█████████▏| 234/255 [01:27<00:07,  2.69it/s, loss=0.621, v_num=4, train_loss=0.580, train_accuracy=0.778, train_f1_score=0.778]\n",
      "Epoch 0:  93%|█████████▎| 236/255 [01:27<00:07,  2.71it/s, loss=0.621, v_num=4, train_loss=0.580, train_accuracy=0.778, train_f1_score=0.778]\n",
      "Epoch 0:  93%|█████████▎| 238/255 [01:27<00:06,  2.72it/s, loss=0.621, v_num=4, train_loss=0.580, train_accuracy=0.778, train_f1_score=0.778]\n",
      "Epoch 0:  94%|█████████▍| 240/255 [01:27<00:05,  2.74it/s, loss=0.621, v_num=4, train_loss=0.580, train_accuracy=0.778, train_f1_score=0.778]\n",
      "Epoch 0:  95%|█████████▍| 242/255 [01:27<00:04,  2.76it/s, loss=0.621, v_num=4, train_loss=0.580, train_accuracy=0.778, train_f1_score=0.778]\n",
      "Epoch 0:  96%|█████████▌| 244/255 [01:27<00:03,  2.78it/s, loss=0.621, v_num=4, train_loss=0.580, train_accuracy=0.778, train_f1_score=0.778]\n",
      "Epoch 0:  96%|█████████▋| 246/255 [01:27<00:03,  2.80it/s, loss=0.621, v_num=4, train_loss=0.580, train_accuracy=0.778, train_f1_score=0.778]\n",
      "Epoch 0:  97%|█████████▋| 248/255 [01:28<00:02,  2.81it/s, loss=0.621, v_num=4, train_loss=0.580, train_accuracy=0.778, train_f1_score=0.778]\n",
      "Epoch 0:  98%|█████████▊| 250/255 [01:28<00:01,  2.83it/s, loss=0.621, v_num=4, train_loss=0.580, train_accuracy=0.778, train_f1_score=0.778]\n",
      "Epoch 0:  99%|█████████▉| 252/255 [01:28<00:01,  2.85it/s, loss=0.621, v_num=4, train_loss=0.580, train_accuracy=0.778, train_f1_score=0.778]\n",
      "Epoch 0: 100%|█████████▉| 254/255 [01:28<00:00,  2.87it/s, loss=0.621, v_num=4, train_loss=0.580, train_accuracy=0.778, train_f1_score=0.778]\n",
      "Epoch 0: 100%|██████████| 255/255 [01:29<00:00,  2.84it/s, loss=0.621, v_num=4, train_loss=0.580, train_accuracy=0.778, train_f1_score=0.778, val_loss=0.648, val_accuracy=0.622, val_f1_score=0.622]\n",
      "Epoch 0: 100%|██████████| 255/255 [01:29<00:00,  2.84it/s, loss=0.621, v_num=4, train_loss=0.580, train_accuracy=0.778, train_f1_score=0.778, val_loss=0.648, val_accuracy=0.622, val_f1_score=0.622]"
     ]
    },
    {
     "name": "stderr",
     "output_type": "stream",
     "text": [
      "Epoch 0, global step 225: val_loss reached 0.64842 (best 0.64842), saving model to \"/Workspace/code/checkpoints/best-checkpoint-corr-mi-0-v2.ckpt\" as top 2\n"
     ]
    },
    {
     "name": "stdout",
     "output_type": "stream",
     "text": [
      "Epoch 1:  89%|████████▊ | 226/255 [01:20<00:10,  2.81it/s, loss=0.543, v_num=4, train_loss=0.666, train_accuracy=0.667, train_f1_score=0.667, val_loss=0.648, val_accuracy=0.622, val_f1_score=0.622]\n",
      "Validating: 0it [00:00, ?it/s]\u001b[A\n",
      "Validating:   0%|          | 0/29 [00:00<?, ?it/s]\u001b[A\n",
      "Epoch 1:  89%|████████▉ | 228/255 [01:27<00:10,  2.59it/s, loss=0.543, v_num=4, train_loss=0.666, train_accuracy=0.667, train_f1_score=0.667, val_loss=0.648, val_accuracy=0.622, val_f1_score=0.622]\n",
      "Epoch 1:  90%|█████████ | 230/255 [01:28<00:09,  2.61it/s, loss=0.543, v_num=4, train_loss=0.666, train_accuracy=0.667, train_f1_score=0.667, val_loss=0.648, val_accuracy=0.622, val_f1_score=0.622]\n",
      "Epoch 1:  91%|█████████ | 232/255 [01:28<00:08,  2.63it/s, loss=0.543, v_num=4, train_loss=0.666, train_accuracy=0.667, train_f1_score=0.667, val_loss=0.648, val_accuracy=0.622, val_f1_score=0.622]\n",
      "Epoch 1:  92%|█████████▏| 234/255 [01:28<00:07,  2.65it/s, loss=0.543, v_num=4, train_loss=0.666, train_accuracy=0.667, train_f1_score=0.667, val_loss=0.648, val_accuracy=0.622, val_f1_score=0.622]\n",
      "Epoch 1:  93%|█████████▎| 236/255 [01:28<00:07,  2.66it/s, loss=0.543, v_num=4, train_loss=0.666, train_accuracy=0.667, train_f1_score=0.667, val_loss=0.648, val_accuracy=0.622, val_f1_score=0.622]\n",
      "Epoch 1:  93%|█████████▎| 238/255 [01:28<00:06,  2.68it/s, loss=0.543, v_num=4, train_loss=0.666, train_accuracy=0.667, train_f1_score=0.667, val_loss=0.648, val_accuracy=0.622, val_f1_score=0.622]\n",
      "Epoch 1:  94%|█████████▍| 240/255 [01:28<00:05,  2.70it/s, loss=0.543, v_num=4, train_loss=0.666, train_accuracy=0.667, train_f1_score=0.667, val_loss=0.648, val_accuracy=0.622, val_f1_score=0.622]\n",
      "Epoch 1:  95%|█████████▍| 242/255 [01:29<00:04,  2.72it/s, loss=0.543, v_num=4, train_loss=0.666, train_accuracy=0.667, train_f1_score=0.667, val_loss=0.648, val_accuracy=0.622, val_f1_score=0.622]\n",
      "Epoch 1:  96%|█████████▌| 244/255 [01:29<00:04,  2.73it/s, loss=0.543, v_num=4, train_loss=0.666, train_accuracy=0.667, train_f1_score=0.667, val_loss=0.648, val_accuracy=0.622, val_f1_score=0.622]\n",
      "Epoch 1:  96%|█████████▋| 246/255 [01:29<00:03,  2.75it/s, loss=0.543, v_num=4, train_loss=0.666, train_accuracy=0.667, train_f1_score=0.667, val_loss=0.648, val_accuracy=0.622, val_f1_score=0.622]\n",
      "Epoch 1:  97%|█████████▋| 248/255 [01:29<00:02,  2.77it/s, loss=0.543, v_num=4, train_loss=0.666, train_accuracy=0.667, train_f1_score=0.667, val_loss=0.648, val_accuracy=0.622, val_f1_score=0.622]\n",
      "Epoch 1:  98%|█████████▊| 250/255 [01:29<00:01,  2.79it/s, loss=0.543, v_num=4, train_loss=0.666, train_accuracy=0.667, train_f1_score=0.667, val_loss=0.648, val_accuracy=0.622, val_f1_score=0.622]\n",
      "Epoch 1:  99%|█████████▉| 252/255 [01:29<00:01,  2.80it/s, loss=0.543, v_num=4, train_loss=0.666, train_accuracy=0.667, train_f1_score=0.667, val_loss=0.648, val_accuracy=0.622, val_f1_score=0.622]\n",
      "Epoch 1: 100%|█████████▉| 254/255 [01:30<00:00,  2.82it/s, loss=0.543, v_num=4, train_loss=0.666, train_accuracy=0.667, train_f1_score=0.667, val_loss=0.648, val_accuracy=0.622, val_f1_score=0.622]\n",
      "Epoch 1: 100%|██████████| 255/255 [01:31<00:00,  2.79it/s, loss=0.543, v_num=4, train_loss=0.666, train_accuracy=0.667, train_f1_score=0.667, val_loss=0.651, val_accuracy=0.671, val_f1_score=0.671]\n",
      "Epoch 1: 100%|██████████| 255/255 [01:31<00:00,  2.79it/s, loss=0.543, v_num=4, train_loss=0.666, train_accuracy=0.667, train_f1_score=0.667, val_loss=0.651, val_accuracy=0.671, val_f1_score=0.671]"
     ]
    },
    {
     "name": "stderr",
     "output_type": "stream",
     "text": [
      "Epoch 1, global step 451: val_loss reached 0.65124 (best 0.64842), saving model to \"/Workspace/code/checkpoints/best-checkpoint-corr-mi-0-v3.ckpt\" as top 2\n"
     ]
    },
    {
     "name": "stdout",
     "output_type": "stream",
     "text": [
      "Epoch 2:  89%|████████▊ | 226/255 [01:21<00:10,  2.78it/s, loss=0.662, v_num=4, train_loss=0.591, train_accuracy=0.667, train_f1_score=0.667, val_loss=0.651, val_accuracy=0.671, val_f1_score=0.671]\n",
      "Validating: 0it [00:00, ?it/s]\u001b[A\n",
      "Validating:   0%|          | 0/29 [00:00<?, ?it/s]\u001b[A\n",
      "Epoch 2:  89%|████████▉ | 228/255 [01:28<00:10,  2.56it/s, loss=0.662, v_num=4, train_loss=0.591, train_accuracy=0.667, train_f1_score=0.667, val_loss=0.651, val_accuracy=0.671, val_f1_score=0.671]\n",
      "Epoch 2:  90%|█████████ | 230/255 [01:29<00:09,  2.58it/s, loss=0.662, v_num=4, train_loss=0.591, train_accuracy=0.667, train_f1_score=0.667, val_loss=0.651, val_accuracy=0.671, val_f1_score=0.671]\n",
      "Epoch 2:  91%|█████████ | 232/255 [01:29<00:08,  2.60it/s, loss=0.662, v_num=4, train_loss=0.591, train_accuracy=0.667, train_f1_score=0.667, val_loss=0.651, val_accuracy=0.671, val_f1_score=0.671]\n",
      "Epoch 2:  92%|█████████▏| 234/255 [01:29<00:08,  2.62it/s, loss=0.662, v_num=4, train_loss=0.591, train_accuracy=0.667, train_f1_score=0.667, val_loss=0.651, val_accuracy=0.671, val_f1_score=0.671]\n",
      "Epoch 2:  93%|█████████▎| 236/255 [01:29<00:07,  2.64it/s, loss=0.662, v_num=4, train_loss=0.591, train_accuracy=0.667, train_f1_score=0.667, val_loss=0.651, val_accuracy=0.671, val_f1_score=0.671]\n",
      "Epoch 2:  93%|█████████▎| 238/255 [01:29<00:06,  2.65it/s, loss=0.662, v_num=4, train_loss=0.591, train_accuracy=0.667, train_f1_score=0.667, val_loss=0.651, val_accuracy=0.671, val_f1_score=0.671]\n",
      "Epoch 2:  94%|█████████▍| 240/255 [01:29<00:05,  2.67it/s, loss=0.662, v_num=4, train_loss=0.591, train_accuracy=0.667, train_f1_score=0.667, val_loss=0.651, val_accuracy=0.671, val_f1_score=0.671]\n",
      "Epoch 2:  95%|█████████▍| 242/255 [01:29<00:04,  2.69it/s, loss=0.662, v_num=4, train_loss=0.591, train_accuracy=0.667, train_f1_score=0.667, val_loss=0.651, val_accuracy=0.671, val_f1_score=0.671]\n",
      "Epoch 2:  96%|█████████▌| 244/255 [01:30<00:04,  2.71it/s, loss=0.662, v_num=4, train_loss=0.591, train_accuracy=0.667, train_f1_score=0.667, val_loss=0.651, val_accuracy=0.671, val_f1_score=0.671]\n",
      "Epoch 2:  96%|█████████▋| 246/255 [01:30<00:03,  2.72it/s, loss=0.662, v_num=4, train_loss=0.591, train_accuracy=0.667, train_f1_score=0.667, val_loss=0.651, val_accuracy=0.671, val_f1_score=0.671]\n",
      "Epoch 2:  97%|█████████▋| 248/255 [01:30<00:02,  2.74it/s, loss=0.662, v_num=4, train_loss=0.591, train_accuracy=0.667, train_f1_score=0.667, val_loss=0.651, val_accuracy=0.671, val_f1_score=0.671]\n",
      "Epoch 2:  98%|█████████▊| 250/255 [01:30<00:01,  2.76it/s, loss=0.662, v_num=4, train_loss=0.591, train_accuracy=0.667, train_f1_score=0.667, val_loss=0.651, val_accuracy=0.671, val_f1_score=0.671]\n",
      "Epoch 2:  99%|█████████▉| 252/255 [01:30<00:01,  2.78it/s, loss=0.662, v_num=4, train_loss=0.591, train_accuracy=0.667, train_f1_score=0.667, val_loss=0.651, val_accuracy=0.671, val_f1_score=0.671]\n",
      "Epoch 2: 100%|█████████▉| 254/255 [01:30<00:00,  2.79it/s, loss=0.662, v_num=4, train_loss=0.591, train_accuracy=0.667, train_f1_score=0.667, val_loss=0.651, val_accuracy=0.671, val_f1_score=0.671]\n",
      "Epoch 2: 100%|██████████| 255/255 [01:32<00:00,  2.77it/s, loss=0.662, v_num=4, train_loss=0.591, train_accuracy=0.667, train_f1_score=0.667, val_loss=0.584, val_accuracy=0.688, val_f1_score=0.688]\n",
      "Epoch 2: 100%|██████████| 255/255 [01:32<00:00,  2.77it/s, loss=0.662, v_num=4, train_loss=0.591, train_accuracy=0.667, train_f1_score=0.667, val_loss=0.584, val_accuracy=0.688, val_f1_score=0.688]"
     ]
    },
    {
     "name": "stderr",
     "output_type": "stream",
     "text": [
      "Epoch 2, global step 677: val_loss reached 0.58367 (best 0.58367), saving model to \"/Workspace/code/checkpoints/best-checkpoint-corr-mi-0-v3.ckpt\" as top 2\n"
     ]
    },
    {
     "name": "stdout",
     "output_type": "stream",
     "text": [
      "Epoch 3:  89%|████████▊ | 226/255 [01:20<00:10,  2.80it/s, loss=0.475, v_num=4, train_loss=0.443, train_accuracy=0.722, train_f1_score=0.722, val_loss=0.584, val_accuracy=0.688, val_f1_score=0.688]\n",
      "Validating: 0it [00:00, ?it/s]\u001b[A\n",
      "Validating:   0%|          | 0/29 [00:00<?, ?it/s]\u001b[A\n",
      "Epoch 3:  89%|████████▉ | 228/255 [01:28<00:10,  2.59it/s, loss=0.475, v_num=4, train_loss=0.443, train_accuracy=0.722, train_f1_score=0.722, val_loss=0.584, val_accuracy=0.688, val_f1_score=0.688]\n",
      "Epoch 3:  90%|█████████ | 230/255 [01:28<00:09,  2.61it/s, loss=0.475, v_num=4, train_loss=0.443, train_accuracy=0.722, train_f1_score=0.722, val_loss=0.584, val_accuracy=0.688, val_f1_score=0.688]\n",
      "Epoch 3:  91%|█████████ | 232/255 [01:28<00:08,  2.63it/s, loss=0.475, v_num=4, train_loss=0.443, train_accuracy=0.722, train_f1_score=0.722, val_loss=0.584, val_accuracy=0.688, val_f1_score=0.688]\n",
      "Epoch 3:  92%|█████████▏| 234/255 [01:28<00:07,  2.64it/s, loss=0.475, v_num=4, train_loss=0.443, train_accuracy=0.722, train_f1_score=0.722, val_loss=0.584, val_accuracy=0.688, val_f1_score=0.688]\n",
      "Epoch 3:  93%|█████████▎| 236/255 [01:28<00:07,  2.66it/s, loss=0.475, v_num=4, train_loss=0.443, train_accuracy=0.722, train_f1_score=0.722, val_loss=0.584, val_accuracy=0.688, val_f1_score=0.688]\n",
      "Epoch 3:  93%|█████████▎| 238/255 [01:28<00:06,  2.68it/s, loss=0.475, v_num=4, train_loss=0.443, train_accuracy=0.722, train_f1_score=0.722, val_loss=0.584, val_accuracy=0.688, val_f1_score=0.688]\n",
      "Epoch 3:  94%|█████████▍| 240/255 [01:29<00:05,  2.70it/s, loss=0.475, v_num=4, train_loss=0.443, train_accuracy=0.722, train_f1_score=0.722, val_loss=0.584, val_accuracy=0.688, val_f1_score=0.688]\n",
      "Epoch 3:  95%|█████████▍| 242/255 [01:29<00:04,  2.71it/s, loss=0.475, v_num=4, train_loss=0.443, train_accuracy=0.722, train_f1_score=0.722, val_loss=0.584, val_accuracy=0.688, val_f1_score=0.688]\n",
      "Epoch 3:  96%|█████████▌| 244/255 [01:29<00:04,  2.73it/s, loss=0.475, v_num=4, train_loss=0.443, train_accuracy=0.722, train_f1_score=0.722, val_loss=0.584, val_accuracy=0.688, val_f1_score=0.688]\n",
      "Epoch 3:  96%|█████████▋| 246/255 [01:29<00:03,  2.75it/s, loss=0.475, v_num=4, train_loss=0.443, train_accuracy=0.722, train_f1_score=0.722, val_loss=0.584, val_accuracy=0.688, val_f1_score=0.688]\n",
      "Epoch 3:  97%|█████████▋| 248/255 [01:29<00:02,  2.76it/s, loss=0.475, v_num=4, train_loss=0.443, train_accuracy=0.722, train_f1_score=0.722, val_loss=0.584, val_accuracy=0.688, val_f1_score=0.688]\n",
      "Epoch 3:  98%|█████████▊| 250/255 [01:29<00:01,  2.78it/s, loss=0.475, v_num=4, train_loss=0.443, train_accuracy=0.722, train_f1_score=0.722, val_loss=0.584, val_accuracy=0.688, val_f1_score=0.688]\n",
      "Epoch 3:  99%|█████████▉| 252/255 [01:30<00:01,  2.80it/s, loss=0.475, v_num=4, train_loss=0.443, train_accuracy=0.722, train_f1_score=0.722, val_loss=0.584, val_accuracy=0.688, val_f1_score=0.688]\n",
      "Epoch 3: 100%|█████████▉| 254/255 [01:30<00:00,  2.81it/s, loss=0.475, v_num=4, train_loss=0.443, train_accuracy=0.722, train_f1_score=0.722, val_loss=0.584, val_accuracy=0.688, val_f1_score=0.688]\n",
      "Epoch 3: 100%|██████████| 255/255 [01:31<00:00,  2.79it/s, loss=0.475, v_num=4, train_loss=0.443, train_accuracy=0.722, train_f1_score=0.722, val_loss=0.498, val_accuracy=0.789, val_f1_score=0.789]\n",
      "Epoch 3: 100%|██████████| 255/255 [01:31<00:00,  2.79it/s, loss=0.475, v_num=4, train_loss=0.443, train_accuracy=0.722, train_f1_score=0.722, val_loss=0.498, val_accuracy=0.789, val_f1_score=0.789]"
     ]
    },
    {
     "name": "stderr",
     "output_type": "stream",
     "text": [
      "Epoch 3, global step 903: val_loss reached 0.49782 (best 0.49782), saving model to \"/Workspace/code/checkpoints/best-checkpoint-corr-mi-0-v2.ckpt\" as top 2\n"
     ]
    },
    {
     "name": "stdout",
     "output_type": "stream",
     "text": [
      "Epoch 4:  89%|████████▊ | 226/255 [01:26<00:11,  2.62it/s, loss=0.642, v_num=4, train_loss=0.663, train_accuracy=0.722, train_f1_score=0.722, val_loss=0.498, val_accuracy=0.789, val_f1_score=0.789]\n",
      "Validating: 0it [00:00, ?it/s]\u001b[A\n",
      "Validating:   0%|          | 0/29 [00:00<?, ?it/s]\u001b[A\n",
      "Epoch 4:  89%|████████▉ | 228/255 [01:34<00:11,  2.42it/s, loss=0.642, v_num=4, train_loss=0.663, train_accuracy=0.722, train_f1_score=0.722, val_loss=0.498, val_accuracy=0.789, val_f1_score=0.789]\n",
      "Epoch 4:  90%|█████████ | 230/255 [01:34<00:10,  2.44it/s, loss=0.642, v_num=4, train_loss=0.663, train_accuracy=0.722, train_f1_score=0.722, val_loss=0.498, val_accuracy=0.789, val_f1_score=0.789]\n",
      "Epoch 4:  91%|█████████ | 232/255 [01:34<00:09,  2.45it/s, loss=0.642, v_num=4, train_loss=0.663, train_accuracy=0.722, train_f1_score=0.722, val_loss=0.498, val_accuracy=0.789, val_f1_score=0.789]\n",
      "Epoch 4:  92%|█████████▏| 234/255 [01:34<00:08,  2.47it/s, loss=0.642, v_num=4, train_loss=0.663, train_accuracy=0.722, train_f1_score=0.722, val_loss=0.498, val_accuracy=0.789, val_f1_score=0.789]\n",
      "Validating:  28%|██▊       | 8/29 [00:08<00:09,  2.12it/s]\u001b[A\n",
      "Epoch 4:  93%|█████████▎| 236/255 [01:34<00:07,  2.49it/s, loss=0.642, v_num=4, train_loss=0.663, train_accuracy=0.722, train_f1_score=0.722, val_loss=0.498, val_accuracy=0.789, val_f1_score=0.789]\n",
      "Epoch 4:  93%|█████████▎| 238/255 [01:35<00:06,  2.50it/s, loss=0.642, v_num=4, train_loss=0.663, train_accuracy=0.722, train_f1_score=0.722, val_loss=0.498, val_accuracy=0.789, val_f1_score=0.789]\n",
      "Epoch 4:  94%|█████████▍| 240/255 [01:35<00:05,  2.52it/s, loss=0.642, v_num=4, train_loss=0.663, train_accuracy=0.722, train_f1_score=0.722, val_loss=0.498, val_accuracy=0.789, val_f1_score=0.789]\n",
      "Epoch 4:  95%|█████████▍| 242/255 [01:35<00:05,  2.54it/s, loss=0.642, v_num=4, train_loss=0.663, train_accuracy=0.722, train_f1_score=0.722, val_loss=0.498, val_accuracy=0.789, val_f1_score=0.789]\n",
      "Epoch 4:  96%|█████████▌| 244/255 [01:35<00:04,  2.55it/s, loss=0.642, v_num=4, train_loss=0.663, train_accuracy=0.722, train_f1_score=0.722, val_loss=0.498, val_accuracy=0.789, val_f1_score=0.789]\n",
      "Epoch 4:  96%|█████████▋| 246/255 [01:35<00:03,  2.57it/s, loss=0.642, v_num=4, train_loss=0.663, train_accuracy=0.722, train_f1_score=0.722, val_loss=0.498, val_accuracy=0.789, val_f1_score=0.789]\n",
      "Epoch 4:  97%|█████████▋| 248/255 [01:35<00:02,  2.58it/s, loss=0.642, v_num=4, train_loss=0.663, train_accuracy=0.722, train_f1_score=0.722, val_loss=0.498, val_accuracy=0.789, val_f1_score=0.789]\n",
      "Epoch 4:  98%|█████████▊| 250/255 [01:36<00:01,  2.60it/s, loss=0.642, v_num=4, train_loss=0.663, train_accuracy=0.722, train_f1_score=0.722, val_loss=0.498, val_accuracy=0.789, val_f1_score=0.789]\n",
      "Epoch 4:  99%|█████████▉| 252/255 [01:36<00:01,  2.62it/s, loss=0.642, v_num=4, train_loss=0.663, train_accuracy=0.722, train_f1_score=0.722, val_loss=0.498, val_accuracy=0.789, val_f1_score=0.789]\n",
      "Epoch 4: 100%|█████████▉| 254/255 [01:36<00:00,  2.63it/s, loss=0.642, v_num=4, train_loss=0.663, train_accuracy=0.722, train_f1_score=0.722, val_loss=0.498, val_accuracy=0.789, val_f1_score=0.789]\n",
      "Epoch 4: 100%|██████████| 255/255 [01:37<00:00,  2.61it/s, loss=0.642, v_num=4, train_loss=0.663, train_accuracy=0.722, train_f1_score=0.722, val_loss=0.693, val_accuracy=0.686, val_f1_score=0.686]\n",
      "Epoch 4: 100%|██████████| 255/255 [01:37<00:00,  2.61it/s, loss=0.642, v_num=4, train_loss=0.663, train_accuracy=0.722, train_f1_score=0.722, val_loss=0.693, val_accuracy=0.686, val_f1_score=0.686]"
     ]
    },
    {
     "name": "stderr",
     "output_type": "stream",
     "text": [
      "Epoch 4, global step 1129: val_loss was not in top 2\n"
     ]
    },
    {
     "name": "stdout",
     "output_type": "stream",
     "text": [
      "Epoch 5:  89%|████████▊ | 226/255 [01:26<00:11,  2.61it/s, loss=0.489, v_num=4, train_loss=0.482, train_accuracy=0.722, train_f1_score=0.722, val_loss=0.693, val_accuracy=0.686, val_f1_score=0.686]\n",
      "Validating: 0it [00:00, ?it/s]\u001b[A\n",
      "Validating:   0%|          | 0/29 [00:00<?, ?it/s]\u001b[A\n",
      "Epoch 5:  89%|████████▉ | 228/255 [01:34<00:11,  2.42it/s, loss=0.489, v_num=4, train_loss=0.482, train_accuracy=0.722, train_f1_score=0.722, val_loss=0.693, val_accuracy=0.686, val_f1_score=0.686]\n",
      "Validating:   7%|▋         | 2/29 [00:07<01:22,  3.07s/it]\u001b[A\n",
      "Epoch 5:  90%|█████████ | 230/255 [01:34<00:10,  2.44it/s, loss=0.489, v_num=4, train_loss=0.482, train_accuracy=0.722, train_f1_score=0.722, val_loss=0.693, val_accuracy=0.686, val_f1_score=0.686]\n",
      "Epoch 5:  91%|█████████ | 232/255 [01:34<00:09,  2.46it/s, loss=0.489, v_num=4, train_loss=0.482, train_accuracy=0.722, train_f1_score=0.722, val_loss=0.693, val_accuracy=0.686, val_f1_score=0.686]\n",
      "Epoch 5:  92%|█████████▏| 234/255 [01:34<00:08,  2.47it/s, loss=0.489, v_num=4, train_loss=0.482, train_accuracy=0.722, train_f1_score=0.722, val_loss=0.693, val_accuracy=0.686, val_f1_score=0.686]\n",
      "Epoch 5:  93%|█████████▎| 236/255 [01:34<00:07,  2.49it/s, loss=0.489, v_num=4, train_loss=0.482, train_accuracy=0.722, train_f1_score=0.722, val_loss=0.693, val_accuracy=0.686, val_f1_score=0.686]\n",
      "Epoch 5:  93%|█████████▎| 238/255 [01:34<00:06,  2.51it/s, loss=0.489, v_num=4, train_loss=0.482, train_accuracy=0.722, train_f1_score=0.722, val_loss=0.693, val_accuracy=0.686, val_f1_score=0.686]\n",
      "Epoch 5:  94%|█████████▍| 240/255 [01:35<00:05,  2.52it/s, loss=0.489, v_num=4, train_loss=0.482, train_accuracy=0.722, train_f1_score=0.722, val_loss=0.693, val_accuracy=0.686, val_f1_score=0.686]\n",
      "Epoch 5:  95%|█████████▍| 242/255 [01:35<00:05,  2.54it/s, loss=0.489, v_num=4, train_loss=0.482, train_accuracy=0.722, train_f1_score=0.722, val_loss=0.693, val_accuracy=0.686, val_f1_score=0.686]\n",
      "Epoch 5:  96%|█████████▌| 244/255 [01:35<00:04,  2.55it/s, loss=0.489, v_num=4, train_loss=0.482, train_accuracy=0.722, train_f1_score=0.722, val_loss=0.693, val_accuracy=0.686, val_f1_score=0.686]\n",
      "Epoch 5:  96%|█████████▋| 246/255 [01:35<00:03,  2.57it/s, loss=0.489, v_num=4, train_loss=0.482, train_accuracy=0.722, train_f1_score=0.722, val_loss=0.693, val_accuracy=0.686, val_f1_score=0.686]\n",
      "Epoch 5:  97%|█████████▋| 248/255 [01:35<00:02,  2.59it/s, loss=0.489, v_num=4, train_loss=0.482, train_accuracy=0.722, train_f1_score=0.722, val_loss=0.693, val_accuracy=0.686, val_f1_score=0.686]\n",
      "Epoch 5:  98%|█████████▊| 250/255 [01:36<00:01,  2.60it/s, loss=0.489, v_num=4, train_loss=0.482, train_accuracy=0.722, train_f1_score=0.722, val_loss=0.693, val_accuracy=0.686, val_f1_score=0.686]\n",
      "Epoch 5:  99%|█████████▉| 252/255 [01:36<00:01,  2.62it/s, loss=0.489, v_num=4, train_loss=0.482, train_accuracy=0.722, train_f1_score=0.722, val_loss=0.693, val_accuracy=0.686, val_f1_score=0.686]\n",
      "Epoch 5: 100%|█████████▉| 254/255 [01:36<00:00,  2.63it/s, loss=0.489, v_num=4, train_loss=0.482, train_accuracy=0.722, train_f1_score=0.722, val_loss=0.693, val_accuracy=0.686, val_f1_score=0.686]\n",
      "Epoch 5: 100%|██████████| 255/255 [01:37<00:00,  2.61it/s, loss=0.489, v_num=4, train_loss=0.482, train_accuracy=0.722, train_f1_score=0.722, val_loss=0.518, val_accuracy=0.751, val_f1_score=0.751]\n",
      "Epoch 5: 100%|██████████| 255/255 [01:37<00:00,  2.61it/s, loss=0.489, v_num=4, train_loss=0.482, train_accuracy=0.722, train_f1_score=0.722, val_loss=0.518, val_accuracy=0.751, val_f1_score=0.751]"
     ]
    },
    {
     "name": "stderr",
     "output_type": "stream",
     "text": [
      "Epoch 5, global step 1355: val_loss reached 0.51844 (best 0.49782), saving model to \"/Workspace/code/checkpoints/best-checkpoint-corr-mi-0-v3.ckpt\" as top 2\n"
     ]
    },
    {
     "name": "stdout",
     "output_type": "stream",
     "text": [
      "Epoch 6:  89%|████████▊ | 226/255 [01:26<00:11,  2.61it/s, loss=0.395, v_num=4, train_loss=0.179, train_accuracy=0.944, train_f1_score=0.944, val_loss=0.518, val_accuracy=0.751, val_f1_score=0.751]\n",
      "Validating: 0it [00:00, ?it/s]\u001b[A\n",
      "Validating:   0%|          | 0/29 [00:00<?, ?it/s]\u001b[A\n",
      "Epoch 6:  89%|████████▉ | 228/255 [01:33<00:11,  2.43it/s, loss=0.395, v_num=4, train_loss=0.179, train_accuracy=0.944, train_f1_score=0.944, val_loss=0.518, val_accuracy=0.751, val_f1_score=0.751]\n",
      "Epoch 6:  90%|█████████ | 230/255 [01:34<00:10,  2.45it/s, loss=0.395, v_num=4, train_loss=0.179, train_accuracy=0.944, train_f1_score=0.944, val_loss=0.518, val_accuracy=0.751, val_f1_score=0.751]\n",
      "Epoch 6:  91%|█████████ | 232/255 [01:34<00:09,  2.46it/s, loss=0.395, v_num=4, train_loss=0.179, train_accuracy=0.944, train_f1_score=0.944, val_loss=0.518, val_accuracy=0.751, val_f1_score=0.751]\n",
      "Epoch 6:  92%|█████████▏| 234/255 [01:34<00:08,  2.48it/s, loss=0.395, v_num=4, train_loss=0.179, train_accuracy=0.944, train_f1_score=0.944, val_loss=0.518, val_accuracy=0.751, val_f1_score=0.751]\n",
      "Epoch 6:  93%|█████████▎| 236/255 [01:34<00:07,  2.50it/s, loss=0.395, v_num=4, train_loss=0.179, train_accuracy=0.944, train_f1_score=0.944, val_loss=0.518, val_accuracy=0.751, val_f1_score=0.751]\n",
      "Epoch 6:  93%|█████████▎| 238/255 [01:34<00:06,  2.51it/s, loss=0.395, v_num=4, train_loss=0.179, train_accuracy=0.944, train_f1_score=0.944, val_loss=0.518, val_accuracy=0.751, val_f1_score=0.751]\n",
      "Epoch 6:  94%|█████████▍| 240/255 [01:34<00:05,  2.53it/s, loss=0.395, v_num=4, train_loss=0.179, train_accuracy=0.944, train_f1_score=0.944, val_loss=0.518, val_accuracy=0.751, val_f1_score=0.751]\n",
      "Epoch 6:  95%|█████████▍| 242/255 [01:35<00:05,  2.54it/s, loss=0.395, v_num=4, train_loss=0.179, train_accuracy=0.944, train_f1_score=0.944, val_loss=0.518, val_accuracy=0.751, val_f1_score=0.751]\n",
      "Epoch 6:  96%|█████████▌| 244/255 [01:35<00:04,  2.56it/s, loss=0.395, v_num=4, train_loss=0.179, train_accuracy=0.944, train_f1_score=0.944, val_loss=0.518, val_accuracy=0.751, val_f1_score=0.751]\n",
      "Epoch 6:  96%|█████████▋| 246/255 [01:35<00:03,  2.58it/s, loss=0.395, v_num=4, train_loss=0.179, train_accuracy=0.944, train_f1_score=0.944, val_loss=0.518, val_accuracy=0.751, val_f1_score=0.751]\n",
      "Epoch 6:  97%|█████████▋| 248/255 [01:35<00:02,  2.59it/s, loss=0.395, v_num=4, train_loss=0.179, train_accuracy=0.944, train_f1_score=0.944, val_loss=0.518, val_accuracy=0.751, val_f1_score=0.751]\n",
      "Epoch 6:  98%|█████████▊| 250/255 [01:35<00:01,  2.61it/s, loss=0.395, v_num=4, train_loss=0.179, train_accuracy=0.944, train_f1_score=0.944, val_loss=0.518, val_accuracy=0.751, val_f1_score=0.751]\n",
      "Epoch 6:  99%|█████████▉| 252/255 [01:35<00:01,  2.63it/s, loss=0.395, v_num=4, train_loss=0.179, train_accuracy=0.944, train_f1_score=0.944, val_loss=0.518, val_accuracy=0.751, val_f1_score=0.751]\n",
      "Epoch 6: 100%|█████████▉| 254/255 [01:36<00:00,  2.64it/s, loss=0.395, v_num=4, train_loss=0.179, train_accuracy=0.944, train_f1_score=0.944, val_loss=0.518, val_accuracy=0.751, val_f1_score=0.751]\n",
      "Epoch 6: 100%|██████████| 255/255 [01:37<00:00,  2.62it/s, loss=0.395, v_num=4, train_loss=0.179, train_accuracy=0.944, train_f1_score=0.944, val_loss=0.448, val_accuracy=0.813, val_f1_score=0.813]\n",
      "Epoch 6: 100%|██████████| 255/255 [01:37<00:00,  2.62it/s, loss=0.395, v_num=4, train_loss=0.179, train_accuracy=0.944, train_f1_score=0.944, val_loss=0.448, val_accuracy=0.813, val_f1_score=0.813]"
     ]
    },
    {
     "name": "stderr",
     "output_type": "stream",
     "text": [
      "Epoch 6, global step 1581: val_loss reached 0.44842 (best 0.44842), saving model to \"/Workspace/code/checkpoints/best-checkpoint-corr-mi-0-v3.ckpt\" as top 2\n"
     ]
    },
    {
     "name": "stdout",
     "output_type": "stream",
     "text": [
      "Epoch 7:  89%|████████▊ | 226/255 [01:26<00:11,  2.61it/s, loss=0.404, v_num=4, train_loss=0.250, train_accuracy=0.944, train_f1_score=0.944, val_loss=0.448, val_accuracy=0.813, val_f1_score=0.813]\n",
      "Validating: 0it [00:00, ?it/s]\u001b[A\n",
      "Validating:   0%|          | 0/29 [00:00<?, ?it/s]\u001b[A\n",
      "Epoch 7:  89%|████████▉ | 228/255 [01:34<00:11,  2.43it/s, loss=0.404, v_num=4, train_loss=0.250, train_accuracy=0.944, train_f1_score=0.944, val_loss=0.448, val_accuracy=0.813, val_f1_score=0.813]\n",
      "Epoch 7:  90%|█████████ | 230/255 [01:34<00:10,  2.44it/s, loss=0.404, v_num=4, train_loss=0.250, train_accuracy=0.944, train_f1_score=0.944, val_loss=0.448, val_accuracy=0.813, val_f1_score=0.813]\n",
      "Epoch 7:  91%|█████████ | 232/255 [01:34<00:09,  2.46it/s, loss=0.404, v_num=4, train_loss=0.250, train_accuracy=0.944, train_f1_score=0.944, val_loss=0.448, val_accuracy=0.813, val_f1_score=0.813]\n",
      "Epoch 7:  92%|█████████▏| 234/255 [01:34<00:08,  2.48it/s, loss=0.404, v_num=4, train_loss=0.250, train_accuracy=0.944, train_f1_score=0.944, val_loss=0.448, val_accuracy=0.813, val_f1_score=0.813]\n",
      "Epoch 7:  93%|█████████▎| 236/255 [01:34<00:07,  2.49it/s, loss=0.404, v_num=4, train_loss=0.250, train_accuracy=0.944, train_f1_score=0.944, val_loss=0.448, val_accuracy=0.813, val_f1_score=0.813]\n",
      "Epoch 7:  93%|█████████▎| 238/255 [01:34<00:06,  2.51it/s, loss=0.404, v_num=4, train_loss=0.250, train_accuracy=0.944, train_f1_score=0.944, val_loss=0.448, val_accuracy=0.813, val_f1_score=0.813]\n",
      "Epoch 7:  94%|█████████▍| 240/255 [01:35<00:05,  2.53it/s, loss=0.404, v_num=4, train_loss=0.250, train_accuracy=0.944, train_f1_score=0.944, val_loss=0.448, val_accuracy=0.813, val_f1_score=0.813]\n",
      "Epoch 7:  95%|█████████▍| 242/255 [01:35<00:05,  2.54it/s, loss=0.404, v_num=4, train_loss=0.250, train_accuracy=0.944, train_f1_score=0.944, val_loss=0.448, val_accuracy=0.813, val_f1_score=0.813]\n",
      "Epoch 7:  96%|█████████▌| 244/255 [01:35<00:04,  2.56it/s, loss=0.404, v_num=4, train_loss=0.250, train_accuracy=0.944, train_f1_score=0.944, val_loss=0.448, val_accuracy=0.813, val_f1_score=0.813]\n",
      "Epoch 7:  96%|█████████▋| 246/255 [01:35<00:03,  2.58it/s, loss=0.404, v_num=4, train_loss=0.250, train_accuracy=0.944, train_f1_score=0.944, val_loss=0.448, val_accuracy=0.813, val_f1_score=0.813]\n",
      "Epoch 7:  97%|█████████▋| 248/255 [01:35<00:02,  2.59it/s, loss=0.404, v_num=4, train_loss=0.250, train_accuracy=0.944, train_f1_score=0.944, val_loss=0.448, val_accuracy=0.813, val_f1_score=0.813]\n",
      "Epoch 7:  98%|█████████▊| 250/255 [01:35<00:01,  2.61it/s, loss=0.404, v_num=4, train_loss=0.250, train_accuracy=0.944, train_f1_score=0.944, val_loss=0.448, val_accuracy=0.813, val_f1_score=0.813]\n",
      "Epoch 7:  99%|█████████▉| 252/255 [01:36<00:01,  2.62it/s, loss=0.404, v_num=4, train_loss=0.250, train_accuracy=0.944, train_f1_score=0.944, val_loss=0.448, val_accuracy=0.813, val_f1_score=0.813]\n",
      "Epoch 7: 100%|█████████▉| 254/255 [01:36<00:00,  2.64it/s, loss=0.404, v_num=4, train_loss=0.250, train_accuracy=0.944, train_f1_score=0.944, val_loss=0.448, val_accuracy=0.813, val_f1_score=0.813]\n",
      "Epoch 7: 100%|██████████| 255/255 [01:37<00:00,  2.62it/s, loss=0.404, v_num=4, train_loss=0.250, train_accuracy=0.944, train_f1_score=0.944, val_loss=0.524, val_accuracy=0.778, val_f1_score=0.778]\n",
      "Epoch 7: 100%|██████████| 255/255 [01:37<00:00,  2.62it/s, loss=0.404, v_num=4, train_loss=0.250, train_accuracy=0.944, train_f1_score=0.944, val_loss=0.524, val_accuracy=0.778, val_f1_score=0.778]"
     ]
    },
    {
     "name": "stderr",
     "output_type": "stream",
     "text": [
      "Epoch 7, global step 1807: val_loss was not in top 2\n"
     ]
    },
    {
     "name": "stdout",
     "output_type": "stream",
     "text": [
      "Epoch 8:  89%|████████▊ | 226/255 [01:26<00:11,  2.61it/s, loss=0.322, v_num=4, train_loss=0.267, train_accuracy=0.889, train_f1_score=0.889, val_loss=0.524, val_accuracy=0.778, val_f1_score=0.778]\n",
      "Validating: 0it [00:00, ?it/s]\u001b[A\n",
      "Validating:   0%|          | 0/29 [00:00<?, ?it/s]\u001b[A\n",
      "Epoch 8:  89%|████████▉ | 228/255 [01:33<00:11,  2.43it/s, loss=0.322, v_num=4, train_loss=0.267, train_accuracy=0.889, train_f1_score=0.889, val_loss=0.524, val_accuracy=0.778, val_f1_score=0.778]\n",
      "Epoch 8:  90%|█████████ | 230/255 [01:34<00:10,  2.45it/s, loss=0.322, v_num=4, train_loss=0.267, train_accuracy=0.889, train_f1_score=0.889, val_loss=0.524, val_accuracy=0.778, val_f1_score=0.778]\n",
      "Epoch 8:  91%|█████████ | 232/255 [01:34<00:09,  2.46it/s, loss=0.322, v_num=4, train_loss=0.267, train_accuracy=0.889, train_f1_score=0.889, val_loss=0.524, val_accuracy=0.778, val_f1_score=0.778]\n",
      "Epoch 8:  92%|█████████▏| 234/255 [01:34<00:08,  2.48it/s, loss=0.322, v_num=4, train_loss=0.267, train_accuracy=0.889, train_f1_score=0.889, val_loss=0.524, val_accuracy=0.778, val_f1_score=0.778]\n",
      "Epoch 8:  93%|█████████▎| 236/255 [01:34<00:07,  2.50it/s, loss=0.322, v_num=4, train_loss=0.267, train_accuracy=0.889, train_f1_score=0.889, val_loss=0.524, val_accuracy=0.778, val_f1_score=0.778]\n",
      "Epoch 8:  93%|█████████▎| 238/255 [01:34<00:06,  2.51it/s, loss=0.322, v_num=4, train_loss=0.267, train_accuracy=0.889, train_f1_score=0.889, val_loss=0.524, val_accuracy=0.778, val_f1_score=0.778]\n",
      "Epoch 8:  94%|█████████▍| 240/255 [01:34<00:05,  2.53it/s, loss=0.322, v_num=4, train_loss=0.267, train_accuracy=0.889, train_f1_score=0.889, val_loss=0.524, val_accuracy=0.778, val_f1_score=0.778]\n",
      "Epoch 8:  95%|█████████▍| 242/255 [01:35<00:05,  2.54it/s, loss=0.322, v_num=4, train_loss=0.267, train_accuracy=0.889, train_f1_score=0.889, val_loss=0.524, val_accuracy=0.778, val_f1_score=0.778]\n",
      "Epoch 8:  96%|█████████▌| 244/255 [01:35<00:04,  2.56it/s, loss=0.322, v_num=4, train_loss=0.267, train_accuracy=0.889, train_f1_score=0.889, val_loss=0.524, val_accuracy=0.778, val_f1_score=0.778]\n",
      "Epoch 8:  96%|█████████▋| 246/255 [01:35<00:03,  2.58it/s, loss=0.322, v_num=4, train_loss=0.267, train_accuracy=0.889, train_f1_score=0.889, val_loss=0.524, val_accuracy=0.778, val_f1_score=0.778]\n",
      "Epoch 8:  97%|█████████▋| 248/255 [01:35<00:02,  2.59it/s, loss=0.322, v_num=4, train_loss=0.267, train_accuracy=0.889, train_f1_score=0.889, val_loss=0.524, val_accuracy=0.778, val_f1_score=0.778]\n",
      "Epoch 8:  98%|█████████▊| 250/255 [01:35<00:01,  2.61it/s, loss=0.322, v_num=4, train_loss=0.267, train_accuracy=0.889, train_f1_score=0.889, val_loss=0.524, val_accuracy=0.778, val_f1_score=0.778]\n",
      "Epoch 8:  99%|█████████▉| 252/255 [01:35<00:01,  2.63it/s, loss=0.322, v_num=4, train_loss=0.267, train_accuracy=0.889, train_f1_score=0.889, val_loss=0.524, val_accuracy=0.778, val_f1_score=0.778]\n",
      "Epoch 8: 100%|█████████▉| 254/255 [01:36<00:00,  2.64it/s, loss=0.322, v_num=4, train_loss=0.267, train_accuracy=0.889, train_f1_score=0.889, val_loss=0.524, val_accuracy=0.778, val_f1_score=0.778]\n",
      "Epoch 8: 100%|██████████| 255/255 [01:37<00:00,  2.62it/s, loss=0.322, v_num=4, train_loss=0.267, train_accuracy=0.889, train_f1_score=0.889, val_loss=0.503, val_accuracy=0.785, val_f1_score=0.785]\n",
      "Epoch 8: 100%|██████████| 255/255 [01:37<00:00,  2.62it/s, loss=0.322, v_num=4, train_loss=0.267, train_accuracy=0.889, train_f1_score=0.889, val_loss=0.503, val_accuracy=0.785, val_f1_score=0.785]"
     ]
    },
    {
     "name": "stderr",
     "output_type": "stream",
     "text": [
      "Epoch 8, global step 2033: val_loss was not in top 2\n"
     ]
    },
    {
     "name": "stdout",
     "output_type": "stream",
     "text": [
      "Epoch 9:  89%|████████▊ | 226/255 [01:26<00:11,  2.61it/s, loss=0.361, v_num=4, train_loss=0.434, train_accuracy=0.722, train_f1_score=0.722, val_loss=0.503, val_accuracy=0.785, val_f1_score=0.785]\n",
      "Validating: 0it [00:00, ?it/s]\u001b[A\n",
      "Validating:   0%|          | 0/29 [00:00<?, ?it/s]\u001b[A\n",
      "Epoch 9:  89%|████████▉ | 228/255 [01:34<00:11,  2.43it/s, loss=0.361, v_num=4, train_loss=0.434, train_accuracy=0.722, train_f1_score=0.722, val_loss=0.503, val_accuracy=0.785, val_f1_score=0.785]\n",
      "Epoch 9:  90%|█████████ | 230/255 [01:34<00:10,  2.44it/s, loss=0.361, v_num=4, train_loss=0.434, train_accuracy=0.722, train_f1_score=0.722, val_loss=0.503, val_accuracy=0.785, val_f1_score=0.785]\n",
      "Epoch 9:  91%|█████████ | 232/255 [01:34<00:09,  2.46it/s, loss=0.361, v_num=4, train_loss=0.434, train_accuracy=0.722, train_f1_score=0.722, val_loss=0.503, val_accuracy=0.785, val_f1_score=0.785]\n",
      "Epoch 9:  92%|█████████▏| 234/255 [01:34<00:08,  2.48it/s, loss=0.361, v_num=4, train_loss=0.434, train_accuracy=0.722, train_f1_score=0.722, val_loss=0.503, val_accuracy=0.785, val_f1_score=0.785]\n",
      "Epoch 9:  93%|█████████▎| 236/255 [01:34<00:07,  2.49it/s, loss=0.361, v_num=4, train_loss=0.434, train_accuracy=0.722, train_f1_score=0.722, val_loss=0.503, val_accuracy=0.785, val_f1_score=0.785]\n",
      "Epoch 9:  93%|█████████▎| 238/255 [01:34<00:06,  2.51it/s, loss=0.361, v_num=4, train_loss=0.434, train_accuracy=0.722, train_f1_score=0.722, val_loss=0.503, val_accuracy=0.785, val_f1_score=0.785]\n",
      "Epoch 9:  94%|█████████▍| 240/255 [01:35<00:05,  2.53it/s, loss=0.361, v_num=4, train_loss=0.434, train_accuracy=0.722, train_f1_score=0.722, val_loss=0.503, val_accuracy=0.785, val_f1_score=0.785]\n",
      "Epoch 9:  95%|█████████▍| 242/255 [01:35<00:05,  2.54it/s, loss=0.361, v_num=4, train_loss=0.434, train_accuracy=0.722, train_f1_score=0.722, val_loss=0.503, val_accuracy=0.785, val_f1_score=0.785]\n",
      "Epoch 9:  96%|█████████▌| 244/255 [01:35<00:04,  2.56it/s, loss=0.361, v_num=4, train_loss=0.434, train_accuracy=0.722, train_f1_score=0.722, val_loss=0.503, val_accuracy=0.785, val_f1_score=0.785]\n",
      "Epoch 9:  96%|█████████▋| 246/255 [01:35<00:03,  2.58it/s, loss=0.361, v_num=4, train_loss=0.434, train_accuracy=0.722, train_f1_score=0.722, val_loss=0.503, val_accuracy=0.785, val_f1_score=0.785]\n",
      "Epoch 9:  97%|█████████▋| 248/255 [01:35<00:02,  2.59it/s, loss=0.361, v_num=4, train_loss=0.434, train_accuracy=0.722, train_f1_score=0.722, val_loss=0.503, val_accuracy=0.785, val_f1_score=0.785]\n",
      "Epoch 9:  98%|█████████▊| 250/255 [01:35<00:01,  2.61it/s, loss=0.361, v_num=4, train_loss=0.434, train_accuracy=0.722, train_f1_score=0.722, val_loss=0.503, val_accuracy=0.785, val_f1_score=0.785]\n",
      "Epoch 9:  99%|█████████▉| 252/255 [01:36<00:01,  2.62it/s, loss=0.361, v_num=4, train_loss=0.434, train_accuracy=0.722, train_f1_score=0.722, val_loss=0.503, val_accuracy=0.785, val_f1_score=0.785]\n",
      "Epoch 9: 100%|█████████▉| 254/255 [01:36<00:00,  2.64it/s, loss=0.361, v_num=4, train_loss=0.434, train_accuracy=0.722, train_f1_score=0.722, val_loss=0.503, val_accuracy=0.785, val_f1_score=0.785]\n",
      "Epoch 9: 100%|██████████| 255/255 [01:37<00:00,  2.62it/s, loss=0.361, v_num=4, train_loss=0.434, train_accuracy=0.722, train_f1_score=0.722, val_loss=0.441, val_accuracy=0.818, val_f1_score=0.818]\n",
      "Epoch 9: 100%|██████████| 255/255 [01:37<00:00,  2.62it/s, loss=0.361, v_num=4, train_loss=0.434, train_accuracy=0.722, train_f1_score=0.722, val_loss=0.441, val_accuracy=0.818, val_f1_score=0.818]"
     ]
    },
    {
     "name": "stderr",
     "output_type": "stream",
     "text": [
      "Epoch 9, global step 2259: val_loss reached 0.44052 (best 0.44052), saving model to \"/Workspace/code/checkpoints/best-checkpoint-corr-mi-0-v2.ckpt\" as top 2\n"
     ]
    },
    {
     "name": "stdout",
     "output_type": "stream",
     "text": [
      "Epoch 10:  89%|████████▊ | 226/255 [01:26<00:11,  2.61it/s, loss=0.302, v_num=4, train_loss=0.398, train_accuracy=0.833, train_f1_score=0.833, val_loss=0.441, val_accuracy=0.818, val_f1_score=0.818] \n",
      "Validating: 0it [00:00, ?it/s]\u001b[A\n",
      "Validating:   0%|          | 0/29 [00:00<?, ?it/s]\u001b[A\n",
      "Epoch 10:  89%|████████▉ | 228/255 [01:34<00:11,  2.42it/s, loss=0.302, v_num=4, train_loss=0.398, train_accuracy=0.833, train_f1_score=0.833, val_loss=0.441, val_accuracy=0.818, val_f1_score=0.818]\n",
      "Epoch 10:  90%|█████████ | 230/255 [01:34<00:10,  2.44it/s, loss=0.302, v_num=4, train_loss=0.398, train_accuracy=0.833, train_f1_score=0.833, val_loss=0.441, val_accuracy=0.818, val_f1_score=0.818]\n",
      "Epoch 10:  91%|█████████ | 232/255 [01:34<00:09,  2.46it/s, loss=0.302, v_num=4, train_loss=0.398, train_accuracy=0.833, train_f1_score=0.833, val_loss=0.441, val_accuracy=0.818, val_f1_score=0.818]\n",
      "Epoch 10:  92%|█████████▏| 234/255 [01:34<00:08,  2.47it/s, loss=0.302, v_num=4, train_loss=0.398, train_accuracy=0.833, train_f1_score=0.833, val_loss=0.441, val_accuracy=0.818, val_f1_score=0.818]\n",
      "Epoch 10:  93%|█████████▎| 236/255 [01:34<00:07,  2.49it/s, loss=0.302, v_num=4, train_loss=0.398, train_accuracy=0.833, train_f1_score=0.833, val_loss=0.441, val_accuracy=0.818, val_f1_score=0.818]\n",
      "Epoch 10:  93%|█████████▎| 238/255 [01:35<00:06,  2.51it/s, loss=0.302, v_num=4, train_loss=0.398, train_accuracy=0.833, train_f1_score=0.833, val_loss=0.441, val_accuracy=0.818, val_f1_score=0.818]\n",
      "Epoch 10:  94%|█████████▍| 240/255 [01:35<00:05,  2.52it/s, loss=0.302, v_num=4, train_loss=0.398, train_accuracy=0.833, train_f1_score=0.833, val_loss=0.441, val_accuracy=0.818, val_f1_score=0.818]\n",
      "Epoch 10:  95%|█████████▍| 242/255 [01:35<00:05,  2.54it/s, loss=0.302, v_num=4, train_loss=0.398, train_accuracy=0.833, train_f1_score=0.833, val_loss=0.441, val_accuracy=0.818, val_f1_score=0.818]\n",
      "Epoch 10:  96%|█████████▌| 244/255 [01:35<00:04,  2.55it/s, loss=0.302, v_num=4, train_loss=0.398, train_accuracy=0.833, train_f1_score=0.833, val_loss=0.441, val_accuracy=0.818, val_f1_score=0.818]\n",
      "Epoch 10:  96%|█████████▋| 246/255 [01:35<00:03,  2.57it/s, loss=0.302, v_num=4, train_loss=0.398, train_accuracy=0.833, train_f1_score=0.833, val_loss=0.441, val_accuracy=0.818, val_f1_score=0.818]\n",
      "Epoch 10:  97%|█████████▋| 248/255 [01:35<00:02,  2.59it/s, loss=0.302, v_num=4, train_loss=0.398, train_accuracy=0.833, train_f1_score=0.833, val_loss=0.441, val_accuracy=0.818, val_f1_score=0.818]\n",
      "Epoch 10:  98%|█████████▊| 250/255 [01:36<00:01,  2.60it/s, loss=0.302, v_num=4, train_loss=0.398, train_accuracy=0.833, train_f1_score=0.833, val_loss=0.441, val_accuracy=0.818, val_f1_score=0.818]\n",
      "Epoch 10:  99%|█████████▉| 252/255 [01:36<00:01,  2.62it/s, loss=0.302, v_num=4, train_loss=0.398, train_accuracy=0.833, train_f1_score=0.833, val_loss=0.441, val_accuracy=0.818, val_f1_score=0.818]\n",
      "Epoch 10: 100%|█████████▉| 254/255 [01:36<00:00,  2.63it/s, loss=0.302, v_num=4, train_loss=0.398, train_accuracy=0.833, train_f1_score=0.833, val_loss=0.441, val_accuracy=0.818, val_f1_score=0.818]\n",
      "Epoch 10: 100%|██████████| 255/255 [01:37<00:00,  2.61it/s, loss=0.302, v_num=4, train_loss=0.398, train_accuracy=0.833, train_f1_score=0.833, val_loss=0.497, val_accuracy=0.820, val_f1_score=0.820]\n",
      "Epoch 10: 100%|██████████| 255/255 [01:37<00:00,  2.61it/s, loss=0.302, v_num=4, train_loss=0.398, train_accuracy=0.833, train_f1_score=0.833, val_loss=0.497, val_accuracy=0.820, val_f1_score=0.820]"
     ]
    },
    {
     "name": "stderr",
     "output_type": "stream",
     "text": [
      "Epoch 10, global step 2485: val_loss was not in top 2\n"
     ]
    },
    {
     "name": "stdout",
     "output_type": "stream",
     "text": [
      "Epoch 11:  89%|████████▊ | 226/255 [01:26<00:11,  2.60it/s, loss=0.288, v_num=4, train_loss=0.217, train_accuracy=0.944, train_f1_score=0.944, val_loss=0.497, val_accuracy=0.820, val_f1_score=0.820]\n",
      "Validating: 0it [00:00, ?it/s]\u001b[A\n",
      "Validating:   0%|          | 0/29 [00:00<?, ?it/s]\u001b[A\n",
      "Epoch 11:  89%|████████▉ | 228/255 [01:34<00:11,  2.42it/s, loss=0.288, v_num=4, train_loss=0.217, train_accuracy=0.944, train_f1_score=0.944, val_loss=0.497, val_accuracy=0.820, val_f1_score=0.820]\n",
      "Epoch 11:  90%|█████████ | 230/255 [01:34<00:10,  2.44it/s, loss=0.288, v_num=4, train_loss=0.217, train_accuracy=0.944, train_f1_score=0.944, val_loss=0.497, val_accuracy=0.820, val_f1_score=0.820]\n",
      "Epoch 11:  91%|█████████ | 232/255 [01:34<00:09,  2.45it/s, loss=0.288, v_num=4, train_loss=0.217, train_accuracy=0.944, train_f1_score=0.944, val_loss=0.497, val_accuracy=0.820, val_f1_score=0.820]\n",
      "Epoch 11:  92%|█████████▏| 234/255 [01:34<00:08,  2.47it/s, loss=0.288, v_num=4, train_loss=0.217, train_accuracy=0.944, train_f1_score=0.944, val_loss=0.497, val_accuracy=0.820, val_f1_score=0.820]\n",
      "Epoch 11:  93%|█████████▎| 236/255 [01:34<00:07,  2.48it/s, loss=0.288, v_num=4, train_loss=0.217, train_accuracy=0.944, train_f1_score=0.944, val_loss=0.497, val_accuracy=0.820, val_f1_score=0.820]\n",
      "Epoch 11:  93%|█████████▎| 238/255 [01:35<00:06,  2.50it/s, loss=0.288, v_num=4, train_loss=0.217, train_accuracy=0.944, train_f1_score=0.944, val_loss=0.497, val_accuracy=0.820, val_f1_score=0.820]\n",
      "Epoch 11:  94%|█████████▍| 240/255 [01:35<00:05,  2.52it/s, loss=0.288, v_num=4, train_loss=0.217, train_accuracy=0.944, train_f1_score=0.944, val_loss=0.497, val_accuracy=0.820, val_f1_score=0.820]\n",
      "Epoch 11:  95%|█████████▍| 242/255 [01:35<00:05,  2.53it/s, loss=0.288, v_num=4, train_loss=0.217, train_accuracy=0.944, train_f1_score=0.944, val_loss=0.497, val_accuracy=0.820, val_f1_score=0.820]\n",
      "Epoch 11:  96%|█████████▌| 244/255 [01:35<00:04,  2.55it/s, loss=0.288, v_num=4, train_loss=0.217, train_accuracy=0.944, train_f1_score=0.944, val_loss=0.497, val_accuracy=0.820, val_f1_score=0.820]\n",
      "Epoch 11:  96%|█████████▋| 246/255 [01:35<00:03,  2.57it/s, loss=0.288, v_num=4, train_loss=0.217, train_accuracy=0.944, train_f1_score=0.944, val_loss=0.497, val_accuracy=0.820, val_f1_score=0.820]\n",
      "Epoch 11:  97%|█████████▋| 248/255 [01:36<00:02,  2.58it/s, loss=0.288, v_num=4, train_loss=0.217, train_accuracy=0.944, train_f1_score=0.944, val_loss=0.497, val_accuracy=0.820, val_f1_score=0.820]\n",
      "Epoch 11:  98%|█████████▊| 250/255 [01:36<00:01,  2.60it/s, loss=0.288, v_num=4, train_loss=0.217, train_accuracy=0.944, train_f1_score=0.944, val_loss=0.497, val_accuracy=0.820, val_f1_score=0.820]\n",
      "Epoch 11:  99%|█████████▉| 252/255 [01:36<00:01,  2.61it/s, loss=0.288, v_num=4, train_loss=0.217, train_accuracy=0.944, train_f1_score=0.944, val_loss=0.497, val_accuracy=0.820, val_f1_score=0.820]\n",
      "Epoch 11: 100%|█████████▉| 254/255 [01:36<00:00,  2.63it/s, loss=0.288, v_num=4, train_loss=0.217, train_accuracy=0.944, train_f1_score=0.944, val_loss=0.497, val_accuracy=0.820, val_f1_score=0.820]\n",
      "Epoch 11: 100%|██████████| 255/255 [01:37<00:00,  2.61it/s, loss=0.288, v_num=4, train_loss=0.217, train_accuracy=0.944, train_f1_score=0.944, val_loss=0.534, val_accuracy=0.799, val_f1_score=0.799]\n",
      "Epoch 11: 100%|██████████| 255/255 [01:37<00:00,  2.61it/s, loss=0.288, v_num=4, train_loss=0.217, train_accuracy=0.944, train_f1_score=0.944, val_loss=0.534, val_accuracy=0.799, val_f1_score=0.799]"
     ]
    },
    {
     "name": "stderr",
     "output_type": "stream",
     "text": [
      "Epoch 11, global step 2711: val_loss was not in top 2\n"
     ]
    },
    {
     "name": "stdout",
     "output_type": "stream",
     "text": [
      "Epoch 12:  89%|████████▊ | 226/255 [01:26<00:11,  2.61it/s, loss=0.301, v_num=4, train_loss=0.192, train_accuracy=0.889, train_f1_score=0.889, val_loss=0.534, val_accuracy=0.799, val_f1_score=0.799]\n",
      "Validating: 0it [00:00, ?it/s]\u001b[A\n",
      "Validating:   0%|          | 0/29 [00:00<?, ?it/s]\u001b[A\n",
      "Epoch 12:  89%|████████▉ | 228/255 [01:34<00:11,  2.42it/s, loss=0.301, v_num=4, train_loss=0.192, train_accuracy=0.889, train_f1_score=0.889, val_loss=0.534, val_accuracy=0.799, val_f1_score=0.799]\n",
      "Epoch 12:  90%|█████████ | 230/255 [01:34<00:10,  2.43it/s, loss=0.301, v_num=4, train_loss=0.192, train_accuracy=0.889, train_f1_score=0.889, val_loss=0.534, val_accuracy=0.799, val_f1_score=0.799]\n",
      "Epoch 12:  91%|█████████ | 232/255 [01:34<00:09,  2.45it/s, loss=0.301, v_num=4, train_loss=0.192, train_accuracy=0.889, train_f1_score=0.889, val_loss=0.534, val_accuracy=0.799, val_f1_score=0.799]\n",
      "Epoch 12:  92%|█████████▏| 234/255 [01:34<00:08,  2.47it/s, loss=0.301, v_num=4, train_loss=0.192, train_accuracy=0.889, train_f1_score=0.889, val_loss=0.534, val_accuracy=0.799, val_f1_score=0.799]\n",
      "Epoch 12:  93%|█████████▎| 236/255 [01:35<00:07,  2.48it/s, loss=0.301, v_num=4, train_loss=0.192, train_accuracy=0.889, train_f1_score=0.889, val_loss=0.534, val_accuracy=0.799, val_f1_score=0.799]\n",
      "Epoch 12:  93%|█████████▎| 238/255 [01:35<00:06,  2.50it/s, loss=0.301, v_num=4, train_loss=0.192, train_accuracy=0.889, train_f1_score=0.889, val_loss=0.534, val_accuracy=0.799, val_f1_score=0.799]\n",
      "Epoch 12:  94%|█████████▍| 240/255 [01:35<00:05,  2.52it/s, loss=0.301, v_num=4, train_loss=0.192, train_accuracy=0.889, train_f1_score=0.889, val_loss=0.534, val_accuracy=0.799, val_f1_score=0.799]\n",
      "Epoch 12:  95%|█████████▍| 242/255 [01:35<00:05,  2.53it/s, loss=0.301, v_num=4, train_loss=0.192, train_accuracy=0.889, train_f1_score=0.889, val_loss=0.534, val_accuracy=0.799, val_f1_score=0.799]\n",
      "Epoch 12:  96%|█████████▌| 244/255 [01:35<00:04,  2.55it/s, loss=0.301, v_num=4, train_loss=0.192, train_accuracy=0.889, train_f1_score=0.889, val_loss=0.534, val_accuracy=0.799, val_f1_score=0.799]\n",
      "Epoch 12:  96%|█████████▋| 246/255 [01:35<00:03,  2.56it/s, loss=0.301, v_num=4, train_loss=0.192, train_accuracy=0.889, train_f1_score=0.889, val_loss=0.534, val_accuracy=0.799, val_f1_score=0.799]\n",
      "Epoch 12:  97%|█████████▋| 248/255 [01:36<00:02,  2.58it/s, loss=0.301, v_num=4, train_loss=0.192, train_accuracy=0.889, train_f1_score=0.889, val_loss=0.534, val_accuracy=0.799, val_f1_score=0.799]\n",
      "Epoch 12:  98%|█████████▊| 250/255 [01:36<00:01,  2.60it/s, loss=0.301, v_num=4, train_loss=0.192, train_accuracy=0.889, train_f1_score=0.889, val_loss=0.534, val_accuracy=0.799, val_f1_score=0.799]\n",
      "Epoch 12:  99%|█████████▉| 252/255 [01:36<00:01,  2.61it/s, loss=0.301, v_num=4, train_loss=0.192, train_accuracy=0.889, train_f1_score=0.889, val_loss=0.534, val_accuracy=0.799, val_f1_score=0.799]\n",
      "Epoch 12: 100%|█████████▉| 254/255 [01:36<00:00,  2.63it/s, loss=0.301, v_num=4, train_loss=0.192, train_accuracy=0.889, train_f1_score=0.889, val_loss=0.534, val_accuracy=0.799, val_f1_score=0.799]\n",
      "Epoch 12: 100%|██████████| 255/255 [01:37<00:00,  2.61it/s, loss=0.301, v_num=4, train_loss=0.192, train_accuracy=0.889, train_f1_score=0.889, val_loss=0.445, val_accuracy=0.835, val_f1_score=0.835]\n",
      "Epoch 12: 100%|██████████| 255/255 [01:37<00:00,  2.61it/s, loss=0.301, v_num=4, train_loss=0.192, train_accuracy=0.889, train_f1_score=0.889, val_loss=0.445, val_accuracy=0.835, val_f1_score=0.835]"
     ]
    },
    {
     "name": "stderr",
     "output_type": "stream",
     "text": [
      "Epoch 12, global step 2937: val_loss reached 0.44535 (best 0.44052), saving model to \"/Workspace/code/checkpoints/best-checkpoint-corr-mi-0-v3.ckpt\" as top 2\n"
     ]
    },
    {
     "name": "stdout",
     "output_type": "stream",
     "text": [
      "Epoch 13:  89%|████████▊ | 226/255 [01:26<00:11,  2.61it/s, loss=0.266, v_num=4, train_loss=0.369, train_accuracy=0.833, train_f1_score=0.833, val_loss=0.445, val_accuracy=0.835, val_f1_score=0.835] \n",
      "Validating: 0it [00:00, ?it/s]\u001b[A\n",
      "Validating:   0%|          | 0/29 [00:00<?, ?it/s]\u001b[A\n",
      "Epoch 13:  89%|████████▉ | 228/255 [01:34<00:11,  2.42it/s, loss=0.266, v_num=4, train_loss=0.369, train_accuracy=0.833, train_f1_score=0.833, val_loss=0.445, val_accuracy=0.835, val_f1_score=0.835]\n",
      "Epoch 13:  90%|█████████ | 230/255 [01:34<00:10,  2.43it/s, loss=0.266, v_num=4, train_loss=0.369, train_accuracy=0.833, train_f1_score=0.833, val_loss=0.445, val_accuracy=0.835, val_f1_score=0.835]\n",
      "Epoch 13:  91%|█████████ | 232/255 [01:34<00:09,  2.45it/s, loss=0.266, v_num=4, train_loss=0.369, train_accuracy=0.833, train_f1_score=0.833, val_loss=0.445, val_accuracy=0.835, val_f1_score=0.835]\n",
      "Epoch 13:  92%|█████████▏| 234/255 [01:34<00:08,  2.46it/s, loss=0.266, v_num=4, train_loss=0.369, train_accuracy=0.833, train_f1_score=0.833, val_loss=0.445, val_accuracy=0.835, val_f1_score=0.835]\n",
      "Epoch 13:  93%|█████████▎| 236/255 [01:35<00:07,  2.48it/s, loss=0.266, v_num=4, train_loss=0.369, train_accuracy=0.833, train_f1_score=0.833, val_loss=0.445, val_accuracy=0.835, val_f1_score=0.835]\n",
      "Epoch 13:  93%|█████████▎| 238/255 [01:35<00:06,  2.50it/s, loss=0.266, v_num=4, train_loss=0.369, train_accuracy=0.833, train_f1_score=0.833, val_loss=0.445, val_accuracy=0.835, val_f1_score=0.835]\n",
      "Epoch 13:  94%|█████████▍| 240/255 [01:35<00:05,  2.51it/s, loss=0.266, v_num=4, train_loss=0.369, train_accuracy=0.833, train_f1_score=0.833, val_loss=0.445, val_accuracy=0.835, val_f1_score=0.835]\n",
      "Epoch 13:  95%|█████████▍| 242/255 [01:35<00:05,  2.53it/s, loss=0.266, v_num=4, train_loss=0.369, train_accuracy=0.833, train_f1_score=0.833, val_loss=0.445, val_accuracy=0.835, val_f1_score=0.835]\n",
      "Epoch 13:  96%|█████████▌| 244/255 [01:35<00:04,  2.55it/s, loss=0.266, v_num=4, train_loss=0.369, train_accuracy=0.833, train_f1_score=0.833, val_loss=0.445, val_accuracy=0.835, val_f1_score=0.835]\n",
      "Epoch 13:  96%|█████████▋| 246/255 [01:36<00:03,  2.56it/s, loss=0.266, v_num=4, train_loss=0.369, train_accuracy=0.833, train_f1_score=0.833, val_loss=0.445, val_accuracy=0.835, val_f1_score=0.835]\n",
      "Epoch 13:  97%|█████████▋| 248/255 [01:36<00:02,  2.58it/s, loss=0.266, v_num=4, train_loss=0.369, train_accuracy=0.833, train_f1_score=0.833, val_loss=0.445, val_accuracy=0.835, val_f1_score=0.835]\n",
      "Epoch 13:  98%|█████████▊| 250/255 [01:36<00:01,  2.59it/s, loss=0.266, v_num=4, train_loss=0.369, train_accuracy=0.833, train_f1_score=0.833, val_loss=0.445, val_accuracy=0.835, val_f1_score=0.835]\n",
      "Epoch 13:  99%|█████████▉| 252/255 [01:36<00:01,  2.61it/s, loss=0.266, v_num=4, train_loss=0.369, train_accuracy=0.833, train_f1_score=0.833, val_loss=0.445, val_accuracy=0.835, val_f1_score=0.835]\n",
      "Epoch 13: 100%|█████████▉| 254/255 [01:36<00:00,  2.63it/s, loss=0.266, v_num=4, train_loss=0.369, train_accuracy=0.833, train_f1_score=0.833, val_loss=0.445, val_accuracy=0.835, val_f1_score=0.835]\n",
      "Epoch 13: 100%|██████████| 255/255 [01:37<00:00,  2.60it/s, loss=0.266, v_num=4, train_loss=0.369, train_accuracy=0.833, train_f1_score=0.833, val_loss=0.467, val_accuracy=0.840, val_f1_score=0.840]\n",
      "Epoch 13: 100%|██████████| 255/255 [01:37<00:00,  2.60it/s, loss=0.266, v_num=4, train_loss=0.369, train_accuracy=0.833, train_f1_score=0.833, val_loss=0.467, val_accuracy=0.840, val_f1_score=0.840]"
     ]
    },
    {
     "name": "stderr",
     "output_type": "stream",
     "text": [
      "Epoch 13, global step 3163: val_loss was not in top 2\n"
     ]
    },
    {
     "name": "stdout",
     "output_type": "stream",
     "text": [
      "Epoch 14:  89%|████████▊ | 226/255 [01:27<00:11,  2.59it/s, loss=0.331, v_num=4, train_loss=0.262, train_accuracy=0.889, train_f1_score=0.889, val_loss=0.467, val_accuracy=0.840, val_f1_score=0.840]\n",
      "Validating: 0it [00:00, ?it/s]\u001b[A\n",
      "Validating:   0%|          | 0/29 [00:00<?, ?it/s]\u001b[A\n",
      "Epoch 14:  89%|████████▉ | 228/255 [01:34<00:11,  2.41it/s, loss=0.331, v_num=4, train_loss=0.262, train_accuracy=0.889, train_f1_score=0.889, val_loss=0.467, val_accuracy=0.840, val_f1_score=0.840]\n",
      "Epoch 14:  90%|█████████ | 230/255 [01:34<00:10,  2.42it/s, loss=0.331, v_num=4, train_loss=0.262, train_accuracy=0.889, train_f1_score=0.889, val_loss=0.467, val_accuracy=0.840, val_f1_score=0.840]\n",
      "Epoch 14:  91%|█████████ | 232/255 [01:35<00:09,  2.44it/s, loss=0.331, v_num=4, train_loss=0.262, train_accuracy=0.889, train_f1_score=0.889, val_loss=0.467, val_accuracy=0.840, val_f1_score=0.840]\n",
      "Epoch 14:  92%|█████████▏| 234/255 [01:35<00:08,  2.46it/s, loss=0.331, v_num=4, train_loss=0.262, train_accuracy=0.889, train_f1_score=0.889, val_loss=0.467, val_accuracy=0.840, val_f1_score=0.840]\n",
      "Epoch 14:  93%|█████████▎| 236/255 [01:35<00:07,  2.47it/s, loss=0.331, v_num=4, train_loss=0.262, train_accuracy=0.889, train_f1_score=0.889, val_loss=0.467, val_accuracy=0.840, val_f1_score=0.840]\n",
      "Epoch 14:  93%|█████████▎| 238/255 [01:35<00:06,  2.49it/s, loss=0.331, v_num=4, train_loss=0.262, train_accuracy=0.889, train_f1_score=0.889, val_loss=0.467, val_accuracy=0.840, val_f1_score=0.840]\n",
      "Epoch 14:  94%|█████████▍| 240/255 [01:35<00:05,  2.51it/s, loss=0.331, v_num=4, train_loss=0.262, train_accuracy=0.889, train_f1_score=0.889, val_loss=0.467, val_accuracy=0.840, val_f1_score=0.840]\n",
      "Epoch 14:  95%|█████████▍| 242/255 [01:35<00:05,  2.52it/s, loss=0.331, v_num=4, train_loss=0.262, train_accuracy=0.889, train_f1_score=0.889, val_loss=0.467, val_accuracy=0.840, val_f1_score=0.840]\n",
      "Epoch 14:  96%|█████████▌| 244/255 [01:36<00:04,  2.54it/s, loss=0.331, v_num=4, train_loss=0.262, train_accuracy=0.889, train_f1_score=0.889, val_loss=0.467, val_accuracy=0.840, val_f1_score=0.840]\n",
      "Epoch 14:  96%|█████████▋| 246/255 [01:36<00:03,  2.56it/s, loss=0.331, v_num=4, train_loss=0.262, train_accuracy=0.889, train_f1_score=0.889, val_loss=0.467, val_accuracy=0.840, val_f1_score=0.840]\n",
      "Epoch 14:  97%|█████████▋| 248/255 [01:36<00:02,  2.57it/s, loss=0.331, v_num=4, train_loss=0.262, train_accuracy=0.889, train_f1_score=0.889, val_loss=0.467, val_accuracy=0.840, val_f1_score=0.840]\n",
      "Epoch 14:  98%|█████████▊| 250/255 [01:36<00:01,  2.59it/s, loss=0.331, v_num=4, train_loss=0.262, train_accuracy=0.889, train_f1_score=0.889, val_loss=0.467, val_accuracy=0.840, val_f1_score=0.840]\n",
      "Epoch 14:  99%|█████████▉| 252/255 [01:36<00:01,  2.61it/s, loss=0.331, v_num=4, train_loss=0.262, train_accuracy=0.889, train_f1_score=0.889, val_loss=0.467, val_accuracy=0.840, val_f1_score=0.840]\n",
      "Epoch 14: 100%|█████████▉| 254/255 [01:36<00:00,  2.62it/s, loss=0.331, v_num=4, train_loss=0.262, train_accuracy=0.889, train_f1_score=0.889, val_loss=0.467, val_accuracy=0.840, val_f1_score=0.840]\n",
      "Epoch 14: 100%|██████████| 255/255 [01:37<00:00,  2.60it/s, loss=0.331, v_num=4, train_loss=0.262, train_accuracy=0.889, train_f1_score=0.889, val_loss=0.507, val_accuracy=0.789, val_f1_score=0.789]\n",
      "Epoch 14: 100%|██████████| 255/255 [01:37<00:00,  2.60it/s, loss=0.331, v_num=4, train_loss=0.262, train_accuracy=0.889, train_f1_score=0.889, val_loss=0.507, val_accuracy=0.789, val_f1_score=0.789]"
     ]
    },
    {
     "name": "stderr",
     "output_type": "stream",
     "text": [
      "Epoch 14, global step 3389: val_loss was not in top 2\n"
     ]
    },
    {
     "name": "stdout",
     "output_type": "stream",
     "text": [
      "Epoch 15:  89%|████████▊ | 226/255 [01:27<00:11,  2.59it/s, loss=0.284, v_num=4, train_loss=0.330, train_accuracy=0.833, train_f1_score=0.833, val_loss=0.507, val_accuracy=0.789, val_f1_score=0.789]\n",
      "Validating: 0it [00:00, ?it/s]\u001b[A\n",
      "Validating:   0%|          | 0/29 [00:00<?, ?it/s]\u001b[A\n",
      "Epoch 15:  89%|████████▉ | 228/255 [01:34<00:11,  2.40it/s, loss=0.284, v_num=4, train_loss=0.330, train_accuracy=0.833, train_f1_score=0.833, val_loss=0.507, val_accuracy=0.789, val_f1_score=0.789]\n",
      "Epoch 15:  90%|█████████ | 230/255 [01:35<00:10,  2.42it/s, loss=0.284, v_num=4, train_loss=0.330, train_accuracy=0.833, train_f1_score=0.833, val_loss=0.507, val_accuracy=0.789, val_f1_score=0.789]\n",
      "Epoch 15:  91%|█████████ | 232/255 [01:35<00:09,  2.43it/s, loss=0.284, v_num=4, train_loss=0.330, train_accuracy=0.833, train_f1_score=0.833, val_loss=0.507, val_accuracy=0.789, val_f1_score=0.789]\n",
      "Epoch 15:  92%|█████████▏| 234/255 [01:35<00:08,  2.45it/s, loss=0.284, v_num=4, train_loss=0.330, train_accuracy=0.833, train_f1_score=0.833, val_loss=0.507, val_accuracy=0.789, val_f1_score=0.789]\n",
      "Epoch 15:  93%|█████████▎| 236/255 [01:35<00:07,  2.47it/s, loss=0.284, v_num=4, train_loss=0.330, train_accuracy=0.833, train_f1_score=0.833, val_loss=0.507, val_accuracy=0.789, val_f1_score=0.789]\n",
      "Epoch 15:  93%|█████████▎| 238/255 [01:35<00:06,  2.48it/s, loss=0.284, v_num=4, train_loss=0.330, train_accuracy=0.833, train_f1_score=0.833, val_loss=0.507, val_accuracy=0.789, val_f1_score=0.789]\n",
      "Epoch 15:  94%|█████████▍| 240/255 [01:35<00:05,  2.50it/s, loss=0.284, v_num=4, train_loss=0.330, train_accuracy=0.833, train_f1_score=0.833, val_loss=0.507, val_accuracy=0.789, val_f1_score=0.789]\n",
      "Epoch 15:  95%|█████████▍| 242/255 [01:36<00:05,  2.52it/s, loss=0.284, v_num=4, train_loss=0.330, train_accuracy=0.833, train_f1_score=0.833, val_loss=0.507, val_accuracy=0.789, val_f1_score=0.789]\n",
      "Epoch 15:  96%|█████████▌| 244/255 [01:36<00:04,  2.53it/s, loss=0.284, v_num=4, train_loss=0.330, train_accuracy=0.833, train_f1_score=0.833, val_loss=0.507, val_accuracy=0.789, val_f1_score=0.789]\n",
      "Epoch 15:  96%|█████████▋| 246/255 [01:36<00:03,  2.55it/s, loss=0.284, v_num=4, train_loss=0.330, train_accuracy=0.833, train_f1_score=0.833, val_loss=0.507, val_accuracy=0.789, val_f1_score=0.789]\n",
      "Epoch 15:  97%|█████████▋| 248/255 [01:36<00:02,  2.57it/s, loss=0.284, v_num=4, train_loss=0.330, train_accuracy=0.833, train_f1_score=0.833, val_loss=0.507, val_accuracy=0.789, val_f1_score=0.789]\n",
      "Epoch 15:  98%|█████████▊| 250/255 [01:36<00:01,  2.58it/s, loss=0.284, v_num=4, train_loss=0.330, train_accuracy=0.833, train_f1_score=0.833, val_loss=0.507, val_accuracy=0.789, val_f1_score=0.789]\n",
      "Epoch 15:  99%|█████████▉| 252/255 [01:36<00:01,  2.60it/s, loss=0.284, v_num=4, train_loss=0.330, train_accuracy=0.833, train_f1_score=0.833, val_loss=0.507, val_accuracy=0.789, val_f1_score=0.789]\n",
      "Epoch 15: 100%|█████████▉| 254/255 [01:37<00:00,  2.62it/s, loss=0.284, v_num=4, train_loss=0.330, train_accuracy=0.833, train_f1_score=0.833, val_loss=0.507, val_accuracy=0.789, val_f1_score=0.789]\n",
      "Epoch 15: 100%|██████████| 255/255 [01:38<00:00,  2.60it/s, loss=0.284, v_num=4, train_loss=0.330, train_accuracy=0.833, train_f1_score=0.833, val_loss=0.482, val_accuracy=0.818, val_f1_score=0.818]\n",
      "Epoch 15: 100%|██████████| 255/255 [01:38<00:00,  2.60it/s, loss=0.284, v_num=4, train_loss=0.330, train_accuracy=0.833, train_f1_score=0.833, val_loss=0.482, val_accuracy=0.818, val_f1_score=0.818]"
     ]
    },
    {
     "name": "stderr",
     "output_type": "stream",
     "text": [
      "Epoch 15, global step 3615: val_loss was not in top 2\n"
     ]
    },
    {
     "name": "stdout",
     "output_type": "stream",
     "text": [
      "Epoch 16:  89%|████████▊ | 226/255 [01:26<00:11,  2.60it/s, loss=0.397, v_num=4, train_loss=0.285, train_accuracy=0.944, train_f1_score=0.944, val_loss=0.482, val_accuracy=0.818, val_f1_score=0.818]\n",
      "Validating: 0it [00:00, ?it/s]\u001b[A\n",
      "Validating:   0%|          | 0/29 [00:00<?, ?it/s]\u001b[A\n",
      "Epoch 16:  89%|████████▉ | 228/255 [01:34<00:11,  2.41it/s, loss=0.397, v_num=4, train_loss=0.285, train_accuracy=0.944, train_f1_score=0.944, val_loss=0.482, val_accuracy=0.818, val_f1_score=0.818]\n",
      "Epoch 16:  90%|█████████ | 230/255 [01:34<00:10,  2.43it/s, loss=0.397, v_num=4, train_loss=0.285, train_accuracy=0.944, train_f1_score=0.944, val_loss=0.482, val_accuracy=0.818, val_f1_score=0.818]\n",
      "Epoch 16:  91%|█████████ | 232/255 [01:34<00:09,  2.45it/s, loss=0.397, v_num=4, train_loss=0.285, train_accuracy=0.944, train_f1_score=0.944, val_loss=0.482, val_accuracy=0.818, val_f1_score=0.818]\n",
      "Epoch 16:  92%|█████████▏| 234/255 [01:34<00:08,  2.46it/s, loss=0.397, v_num=4, train_loss=0.285, train_accuracy=0.944, train_f1_score=0.944, val_loss=0.482, val_accuracy=0.818, val_f1_score=0.818]\n",
      "Epoch 16:  93%|█████████▎| 236/255 [01:35<00:07,  2.48it/s, loss=0.397, v_num=4, train_loss=0.285, train_accuracy=0.944, train_f1_score=0.944, val_loss=0.482, val_accuracy=0.818, val_f1_score=0.818]\n",
      "Epoch 16:  93%|█████████▎| 238/255 [01:35<00:06,  2.50it/s, loss=0.397, v_num=4, train_loss=0.285, train_accuracy=0.944, train_f1_score=0.944, val_loss=0.482, val_accuracy=0.818, val_f1_score=0.818]\n",
      "Epoch 16:  94%|█████████▍| 240/255 [01:35<00:05,  2.51it/s, loss=0.397, v_num=4, train_loss=0.285, train_accuracy=0.944, train_f1_score=0.944, val_loss=0.482, val_accuracy=0.818, val_f1_score=0.818]\n",
      "Epoch 16:  95%|█████████▍| 242/255 [01:35<00:05,  2.53it/s, loss=0.397, v_num=4, train_loss=0.285, train_accuracy=0.944, train_f1_score=0.944, val_loss=0.482, val_accuracy=0.818, val_f1_score=0.818]\n",
      "Epoch 16:  96%|█████████▌| 244/255 [01:35<00:04,  2.55it/s, loss=0.397, v_num=4, train_loss=0.285, train_accuracy=0.944, train_f1_score=0.944, val_loss=0.482, val_accuracy=0.818, val_f1_score=0.818]\n",
      "Epoch 16:  96%|█████████▋| 246/255 [01:36<00:03,  2.56it/s, loss=0.397, v_num=4, train_loss=0.285, train_accuracy=0.944, train_f1_score=0.944, val_loss=0.482, val_accuracy=0.818, val_f1_score=0.818]\n",
      "Epoch 16:  97%|█████████▋| 248/255 [01:36<00:02,  2.58it/s, loss=0.397, v_num=4, train_loss=0.285, train_accuracy=0.944, train_f1_score=0.944, val_loss=0.482, val_accuracy=0.818, val_f1_score=0.818]\n",
      "Epoch 16:  98%|█████████▊| 250/255 [01:36<00:01,  2.59it/s, loss=0.397, v_num=4, train_loss=0.285, train_accuracy=0.944, train_f1_score=0.944, val_loss=0.482, val_accuracy=0.818, val_f1_score=0.818]\n",
      "Epoch 16:  99%|█████████▉| 252/255 [01:36<00:01,  2.61it/s, loss=0.397, v_num=4, train_loss=0.285, train_accuracy=0.944, train_f1_score=0.944, val_loss=0.482, val_accuracy=0.818, val_f1_score=0.818]\n",
      "Epoch 16: 100%|█████████▉| 254/255 [01:36<00:00,  2.62it/s, loss=0.397, v_num=4, train_loss=0.285, train_accuracy=0.944, train_f1_score=0.944, val_loss=0.482, val_accuracy=0.818, val_f1_score=0.818]\n",
      "Epoch 16: 100%|██████████| 255/255 [01:37<00:00,  2.60it/s, loss=0.397, v_num=4, train_loss=0.285, train_accuracy=0.944, train_f1_score=0.944, val_loss=0.570, val_accuracy=0.795, val_f1_score=0.795]\n",
      "Epoch 16: 100%|██████████| 255/255 [01:37<00:00,  2.60it/s, loss=0.397, v_num=4, train_loss=0.285, train_accuracy=0.944, train_f1_score=0.944, val_loss=0.570, val_accuracy=0.795, val_f1_score=0.795]"
     ]
    },
    {
     "name": "stderr",
     "output_type": "stream",
     "text": [
      "Epoch 16, global step 3841: val_loss was not in top 2\n"
     ]
    },
    {
     "name": "stdout",
     "output_type": "stream",
     "text": [
      "Epoch 17:  89%|████████▊ | 226/255 [01:26<00:11,  2.60it/s, loss=0.343, v_num=4, train_loss=0.365, train_accuracy=0.889, train_f1_score=0.889, val_loss=0.570, val_accuracy=0.795, val_f1_score=0.795]\n",
      "Validating: 0it [00:00, ?it/s]\u001b[A\n",
      "Validating:   0%|          | 0/29 [00:00<?, ?it/s]\u001b[A\n",
      "Epoch 17:  89%|████████▉ | 228/255 [01:34<00:11,  2.42it/s, loss=0.343, v_num=4, train_loss=0.365, train_accuracy=0.889, train_f1_score=0.889, val_loss=0.570, val_accuracy=0.795, val_f1_score=0.795]\n",
      "Epoch 17:  90%|█████████ | 230/255 [01:34<00:10,  2.44it/s, loss=0.343, v_num=4, train_loss=0.365, train_accuracy=0.889, train_f1_score=0.889, val_loss=0.570, val_accuracy=0.795, val_f1_score=0.795]\n",
      "Epoch 17:  91%|█████████ | 232/255 [01:34<00:09,  2.45it/s, loss=0.343, v_num=4, train_loss=0.365, train_accuracy=0.889, train_f1_score=0.889, val_loss=0.570, val_accuracy=0.795, val_f1_score=0.795]\n",
      "Epoch 17:  92%|█████████▏| 234/255 [01:34<00:08,  2.47it/s, loss=0.343, v_num=4, train_loss=0.365, train_accuracy=0.889, train_f1_score=0.889, val_loss=0.570, val_accuracy=0.795, val_f1_score=0.795]\n",
      "Epoch 17:  93%|█████████▎| 236/255 [01:34<00:07,  2.49it/s, loss=0.343, v_num=4, train_loss=0.365, train_accuracy=0.889, train_f1_score=0.889, val_loss=0.570, val_accuracy=0.795, val_f1_score=0.795]\n",
      "Epoch 17:  93%|█████████▎| 238/255 [01:35<00:06,  2.50it/s, loss=0.343, v_num=4, train_loss=0.365, train_accuracy=0.889, train_f1_score=0.889, val_loss=0.570, val_accuracy=0.795, val_f1_score=0.795]\n",
      "Epoch 17:  94%|█████████▍| 240/255 [01:35<00:05,  2.52it/s, loss=0.343, v_num=4, train_loss=0.365, train_accuracy=0.889, train_f1_score=0.889, val_loss=0.570, val_accuracy=0.795, val_f1_score=0.795]\n",
      "Epoch 17:  95%|█████████▍| 242/255 [01:35<00:05,  2.53it/s, loss=0.343, v_num=4, train_loss=0.365, train_accuracy=0.889, train_f1_score=0.889, val_loss=0.570, val_accuracy=0.795, val_f1_score=0.795]\n",
      "Epoch 17:  96%|█████████▌| 244/255 [01:35<00:04,  2.55it/s, loss=0.343, v_num=4, train_loss=0.365, train_accuracy=0.889, train_f1_score=0.889, val_loss=0.570, val_accuracy=0.795, val_f1_score=0.795]\n",
      "Epoch 17:  96%|█████████▋| 246/255 [01:35<00:03,  2.57it/s, loss=0.343, v_num=4, train_loss=0.365, train_accuracy=0.889, train_f1_score=0.889, val_loss=0.570, val_accuracy=0.795, val_f1_score=0.795]\n",
      "Epoch 17:  97%|█████████▋| 248/255 [01:36<00:02,  2.58it/s, loss=0.343, v_num=4, train_loss=0.365, train_accuracy=0.889, train_f1_score=0.889, val_loss=0.570, val_accuracy=0.795, val_f1_score=0.795]\n",
      "Epoch 17:  98%|█████████▊| 250/255 [01:36<00:01,  2.60it/s, loss=0.343, v_num=4, train_loss=0.365, train_accuracy=0.889, train_f1_score=0.889, val_loss=0.570, val_accuracy=0.795, val_f1_score=0.795]\n",
      "Epoch 17:  99%|█████████▉| 252/255 [01:36<00:01,  2.61it/s, loss=0.343, v_num=4, train_loss=0.365, train_accuracy=0.889, train_f1_score=0.889, val_loss=0.570, val_accuracy=0.795, val_f1_score=0.795]\n",
      "Epoch 17: 100%|█████████▉| 254/255 [01:36<00:00,  2.63it/s, loss=0.343, v_num=4, train_loss=0.365, train_accuracy=0.889, train_f1_score=0.889, val_loss=0.570, val_accuracy=0.795, val_f1_score=0.795]\n",
      "Epoch 17: 100%|██████████| 255/255 [01:37<00:00,  2.61it/s, loss=0.343, v_num=4, train_loss=0.365, train_accuracy=0.889, train_f1_score=0.889, val_loss=0.553, val_accuracy=0.790, val_f1_score=0.790]\n",
      "Epoch 17: 100%|██████████| 255/255 [01:37<00:00,  2.61it/s, loss=0.343, v_num=4, train_loss=0.365, train_accuracy=0.889, train_f1_score=0.889, val_loss=0.553, val_accuracy=0.790, val_f1_score=0.790]"
     ]
    },
    {
     "name": "stderr",
     "output_type": "stream",
     "text": [
      "Epoch 17, global step 4067: val_loss was not in top 2\n"
     ]
    },
    {
     "name": "stdout",
     "output_type": "stream",
     "text": [
      "Epoch 18:  89%|████████▊ | 226/255 [01:27<00:11,  2.59it/s, loss=0.273, v_num=4, train_loss=0.155, train_accuracy=0.944, train_f1_score=0.944, val_loss=0.553, val_accuracy=0.790, val_f1_score=0.790]\n",
      "Validating: 0it [00:00, ?it/s]\u001b[A\n",
      "Validating:   0%|          | 0/29 [00:00<?, ?it/s]\u001b[A\n",
      "Epoch 18:  89%|████████▉ | 228/255 [01:34<00:11,  2.41it/s, loss=0.273, v_num=4, train_loss=0.155, train_accuracy=0.944, train_f1_score=0.944, val_loss=0.553, val_accuracy=0.790, val_f1_score=0.790]\n",
      "Validating:   7%|▋         | 2/29 [00:07<01:26,  3.20s/it]\u001b[A\n",
      "Epoch 18:  90%|█████████ | 230/255 [01:34<00:10,  2.42it/s, loss=0.273, v_num=4, train_loss=0.155, train_accuracy=0.944, train_f1_score=0.944, val_loss=0.553, val_accuracy=0.790, val_f1_score=0.790]\n",
      "Epoch 18:  91%|█████████ | 232/255 [01:35<00:09,  2.44it/s, loss=0.273, v_num=4, train_loss=0.155, train_accuracy=0.944, train_f1_score=0.944, val_loss=0.553, val_accuracy=0.790, val_f1_score=0.790]\n",
      "Epoch 18:  92%|█████████▏| 234/255 [01:35<00:08,  2.45it/s, loss=0.273, v_num=4, train_loss=0.155, train_accuracy=0.944, train_f1_score=0.944, val_loss=0.553, val_accuracy=0.790, val_f1_score=0.790]\n",
      "Validating:  28%|██▊       | 8/29 [00:08<00:07,  2.73it/s]\u001b[A\n",
      "Epoch 18:  93%|█████████▎| 236/255 [01:35<00:07,  2.47it/s, loss=0.273, v_num=4, train_loss=0.155, train_accuracy=0.944, train_f1_score=0.944, val_loss=0.553, val_accuracy=0.790, val_f1_score=0.790]\n",
      "Epoch 18:  93%|█████████▎| 238/255 [01:35<00:06,  2.49it/s, loss=0.273, v_num=4, train_loss=0.155, train_accuracy=0.944, train_f1_score=0.944, val_loss=0.553, val_accuracy=0.790, val_f1_score=0.790]\n",
      "Epoch 18:  94%|█████████▍| 240/255 [01:35<00:05,  2.50it/s, loss=0.273, v_num=4, train_loss=0.155, train_accuracy=0.944, train_f1_score=0.944, val_loss=0.553, val_accuracy=0.790, val_f1_score=0.790]\n",
      "Epoch 18:  95%|█████████▍| 242/255 [01:36<00:05,  2.52it/s, loss=0.273, v_num=4, train_loss=0.155, train_accuracy=0.944, train_f1_score=0.944, val_loss=0.553, val_accuracy=0.790, val_f1_score=0.790]\n",
      "Epoch 18:  96%|█████████▌| 244/255 [01:36<00:04,  2.54it/s, loss=0.273, v_num=4, train_loss=0.155, train_accuracy=0.944, train_f1_score=0.944, val_loss=0.553, val_accuracy=0.790, val_f1_score=0.790]\n",
      "Epoch 18:  96%|█████████▋| 246/255 [01:36<00:03,  2.55it/s, loss=0.273, v_num=4, train_loss=0.155, train_accuracy=0.944, train_f1_score=0.944, val_loss=0.553, val_accuracy=0.790, val_f1_score=0.790]\n",
      "Epoch 18:  97%|█████████▋| 248/255 [01:36<00:02,  2.57it/s, loss=0.273, v_num=4, train_loss=0.155, train_accuracy=0.944, train_f1_score=0.944, val_loss=0.553, val_accuracy=0.790, val_f1_score=0.790]\n",
      "Epoch 18:  98%|█████████▊| 250/255 [01:36<00:01,  2.58it/s, loss=0.273, v_num=4, train_loss=0.155, train_accuracy=0.944, train_f1_score=0.944, val_loss=0.553, val_accuracy=0.790, val_f1_score=0.790]\n",
      "Epoch 18:  99%|█████████▉| 252/255 [01:36<00:01,  2.60it/s, loss=0.273, v_num=4, train_loss=0.155, train_accuracy=0.944, train_f1_score=0.944, val_loss=0.553, val_accuracy=0.790, val_f1_score=0.790]\n",
      "Epoch 18: 100%|█████████▉| 254/255 [01:37<00:00,  2.62it/s, loss=0.273, v_num=4, train_loss=0.155, train_accuracy=0.944, train_f1_score=0.944, val_loss=0.553, val_accuracy=0.790, val_f1_score=0.790]\n",
      "Epoch 18: 100%|██████████| 255/255 [01:38<00:00,  2.60it/s, loss=0.273, v_num=4, train_loss=0.155, train_accuracy=0.944, train_f1_score=0.944, val_loss=0.459, val_accuracy=0.808, val_f1_score=0.808]\n",
      "Epoch 18: 100%|██████████| 255/255 [01:38<00:00,  2.60it/s, loss=0.273, v_num=4, train_loss=0.155, train_accuracy=0.944, train_f1_score=0.944, val_loss=0.459, val_accuracy=0.808, val_f1_score=0.808]"
     ]
    },
    {
     "name": "stderr",
     "output_type": "stream",
     "text": [
      "Epoch 18, global step 4293: val_loss was not in top 2\n"
     ]
    },
    {
     "name": "stdout",
     "output_type": "stream",
     "text": [
      "Epoch 19:  89%|████████▊ | 226/255 [01:26<00:11,  2.61it/s, loss=0.234, v_num=4, train_loss=0.256, train_accuracy=0.944, train_f1_score=0.944, val_loss=0.459, val_accuracy=0.808, val_f1_score=0.808] \n",
      "Validating: 0it [00:00, ?it/s]\u001b[A\n",
      "Validating:   0%|          | 0/29 [00:00<?, ?it/s]\u001b[A\n",
      "Epoch 19:  89%|████████▉ | 228/255 [01:34<00:11,  2.42it/s, loss=0.234, v_num=4, train_loss=0.256, train_accuracy=0.944, train_f1_score=0.944, val_loss=0.459, val_accuracy=0.808, val_f1_score=0.808]\n",
      "Epoch 19:  90%|█████████ | 230/255 [01:34<00:10,  2.44it/s, loss=0.234, v_num=4, train_loss=0.256, train_accuracy=0.944, train_f1_score=0.944, val_loss=0.459, val_accuracy=0.808, val_f1_score=0.808]\n",
      "Epoch 19:  91%|█████████ | 232/255 [01:34<00:09,  2.45it/s, loss=0.234, v_num=4, train_loss=0.256, train_accuracy=0.944, train_f1_score=0.944, val_loss=0.459, val_accuracy=0.808, val_f1_score=0.808]\n",
      "Epoch 19:  92%|█████████▏| 234/255 [01:34<00:08,  2.47it/s, loss=0.234, v_num=4, train_loss=0.256, train_accuracy=0.944, train_f1_score=0.944, val_loss=0.459, val_accuracy=0.808, val_f1_score=0.808]\n",
      "Epoch 19:  93%|█████████▎| 236/255 [01:35<00:07,  2.48it/s, loss=0.234, v_num=4, train_loss=0.256, train_accuracy=0.944, train_f1_score=0.944, val_loss=0.459, val_accuracy=0.808, val_f1_score=0.808]\n",
      "Epoch 19:  93%|█████████▎| 238/255 [01:35<00:06,  2.50it/s, loss=0.234, v_num=4, train_loss=0.256, train_accuracy=0.944, train_f1_score=0.944, val_loss=0.459, val_accuracy=0.808, val_f1_score=0.808]\n",
      "Epoch 19:  94%|█████████▍| 240/255 [01:35<00:05,  2.52it/s, loss=0.234, v_num=4, train_loss=0.256, train_accuracy=0.944, train_f1_score=0.944, val_loss=0.459, val_accuracy=0.808, val_f1_score=0.808]\n",
      "Epoch 19:  95%|█████████▍| 242/255 [01:35<00:05,  2.53it/s, loss=0.234, v_num=4, train_loss=0.256, train_accuracy=0.944, train_f1_score=0.944, val_loss=0.459, val_accuracy=0.808, val_f1_score=0.808]\n",
      "Epoch 19:  96%|█████████▌| 244/255 [01:35<00:04,  2.55it/s, loss=0.234, v_num=4, train_loss=0.256, train_accuracy=0.944, train_f1_score=0.944, val_loss=0.459, val_accuracy=0.808, val_f1_score=0.808]\n",
      "Epoch 19:  96%|█████████▋| 246/255 [01:35<00:03,  2.56it/s, loss=0.234, v_num=4, train_loss=0.256, train_accuracy=0.944, train_f1_score=0.944, val_loss=0.459, val_accuracy=0.808, val_f1_score=0.808]\n",
      "Epoch 19:  97%|█████████▋| 248/255 [01:36<00:02,  2.58it/s, loss=0.234, v_num=4, train_loss=0.256, train_accuracy=0.944, train_f1_score=0.944, val_loss=0.459, val_accuracy=0.808, val_f1_score=0.808]\n",
      "Epoch 19:  98%|█████████▊| 250/255 [01:36<00:01,  2.60it/s, loss=0.234, v_num=4, train_loss=0.256, train_accuracy=0.944, train_f1_score=0.944, val_loss=0.459, val_accuracy=0.808, val_f1_score=0.808]\n",
      "Epoch 19:  99%|█████████▉| 252/255 [01:36<00:01,  2.61it/s, loss=0.234, v_num=4, train_loss=0.256, train_accuracy=0.944, train_f1_score=0.944, val_loss=0.459, val_accuracy=0.808, val_f1_score=0.808]\n",
      "Epoch 19: 100%|█████████▉| 254/255 [01:36<00:00,  2.63it/s, loss=0.234, v_num=4, train_loss=0.256, train_accuracy=0.944, train_f1_score=0.944, val_loss=0.459, val_accuracy=0.808, val_f1_score=0.808]\n",
      "Epoch 19: 100%|██████████| 255/255 [01:37<00:00,  2.61it/s, loss=0.234, v_num=4, train_loss=0.256, train_accuracy=0.944, train_f1_score=0.944, val_loss=0.422, val_accuracy=0.847, val_f1_score=0.847]\n",
      "Epoch 19: 100%|██████████| 255/255 [01:37<00:00,  2.61it/s, loss=0.234, v_num=4, train_loss=0.256, train_accuracy=0.944, train_f1_score=0.944, val_loss=0.422, val_accuracy=0.847, val_f1_score=0.847]"
     ]
    },
    {
     "name": "stderr",
     "output_type": "stream",
     "text": [
      "Epoch 19, global step 4519: val_loss reached 0.42238 (best 0.42238), saving model to \"/Workspace/code/checkpoints/best-checkpoint-corr-mi-0-v3.ckpt\" as top 2\n"
     ]
    },
    {
     "name": "stdout",
     "output_type": "stream",
     "text": [
      "Epoch 20:  89%|████████▊ | 226/255 [01:26<00:11,  2.60it/s, loss=0.211, v_num=4, train_loss=0.250, train_accuracy=0.889, train_f1_score=0.889, val_loss=0.422, val_accuracy=0.847, val_f1_score=0.847] \n",
      "Validating: 0it [00:00, ?it/s]\u001b[A\n",
      "Validating:   0%|          | 0/29 [00:00<?, ?it/s]\u001b[A\n",
      "Epoch 20:  89%|████████▉ | 228/255 [01:34<00:11,  2.41it/s, loss=0.211, v_num=4, train_loss=0.250, train_accuracy=0.889, train_f1_score=0.889, val_loss=0.422, val_accuracy=0.847, val_f1_score=0.847]\n",
      "Validating:   7%|▋         | 2/29 [00:07<01:26,  3.22s/it]\u001b[A\n",
      "Epoch 20:  90%|█████████ | 230/255 [01:34<00:10,  2.43it/s, loss=0.211, v_num=4, train_loss=0.250, train_accuracy=0.889, train_f1_score=0.889, val_loss=0.422, val_accuracy=0.847, val_f1_score=0.847]\n",
      "Epoch 20:  91%|█████████ | 232/255 [01:34<00:09,  2.44it/s, loss=0.211, v_num=4, train_loss=0.250, train_accuracy=0.889, train_f1_score=0.889, val_loss=0.422, val_accuracy=0.847, val_f1_score=0.847]\n",
      "Epoch 20:  92%|█████████▏| 234/255 [01:35<00:08,  2.46it/s, loss=0.211, v_num=4, train_loss=0.250, train_accuracy=0.889, train_f1_score=0.889, val_loss=0.422, val_accuracy=0.847, val_f1_score=0.847]\n",
      "Epoch 20:  93%|█████████▎| 236/255 [01:35<00:07,  2.48it/s, loss=0.211, v_num=4, train_loss=0.250, train_accuracy=0.889, train_f1_score=0.889, val_loss=0.422, val_accuracy=0.847, val_f1_score=0.847]\n",
      "Epoch 20:  93%|█████████▎| 238/255 [01:35<00:06,  2.49it/s, loss=0.211, v_num=4, train_loss=0.250, train_accuracy=0.889, train_f1_score=0.889, val_loss=0.422, val_accuracy=0.847, val_f1_score=0.847]\n",
      "Epoch 20:  94%|█████████▍| 240/255 [01:35<00:05,  2.51it/s, loss=0.211, v_num=4, train_loss=0.250, train_accuracy=0.889, train_f1_score=0.889, val_loss=0.422, val_accuracy=0.847, val_f1_score=0.847]\n",
      "Epoch 20:  95%|█████████▍| 242/255 [01:35<00:05,  2.53it/s, loss=0.211, v_num=4, train_loss=0.250, train_accuracy=0.889, train_f1_score=0.889, val_loss=0.422, val_accuracy=0.847, val_f1_score=0.847]\n",
      "Epoch 20:  96%|█████████▌| 244/255 [01:35<00:04,  2.54it/s, loss=0.211, v_num=4, train_loss=0.250, train_accuracy=0.889, train_f1_score=0.889, val_loss=0.422, val_accuracy=0.847, val_f1_score=0.847]\n",
      "Epoch 20:  96%|█████████▋| 246/255 [01:36<00:03,  2.56it/s, loss=0.211, v_num=4, train_loss=0.250, train_accuracy=0.889, train_f1_score=0.889, val_loss=0.422, val_accuracy=0.847, val_f1_score=0.847]\n",
      "Epoch 20:  97%|█████████▋| 248/255 [01:36<00:02,  2.57it/s, loss=0.211, v_num=4, train_loss=0.250, train_accuracy=0.889, train_f1_score=0.889, val_loss=0.422, val_accuracy=0.847, val_f1_score=0.847]\n",
      "Epoch 20:  98%|█████████▊| 250/255 [01:36<00:01,  2.59it/s, loss=0.211, v_num=4, train_loss=0.250, train_accuracy=0.889, train_f1_score=0.889, val_loss=0.422, val_accuracy=0.847, val_f1_score=0.847]\n",
      "Epoch 20:  99%|█████████▉| 252/255 [01:36<00:01,  2.61it/s, loss=0.211, v_num=4, train_loss=0.250, train_accuracy=0.889, train_f1_score=0.889, val_loss=0.422, val_accuracy=0.847, val_f1_score=0.847]\n",
      "Epoch 20: 100%|█████████▉| 254/255 [01:36<00:00,  2.62it/s, loss=0.211, v_num=4, train_loss=0.250, train_accuracy=0.889, train_f1_score=0.889, val_loss=0.422, val_accuracy=0.847, val_f1_score=0.847]\n",
      "Epoch 20: 100%|██████████| 255/255 [01:37<00:00,  2.60it/s, loss=0.211, v_num=4, train_loss=0.250, train_accuracy=0.889, train_f1_score=0.889, val_loss=0.612, val_accuracy=0.811, val_f1_score=0.811]\n",
      "Epoch 20: 100%|██████████| 255/255 [01:38<00:00,  2.60it/s, loss=0.211, v_num=4, train_loss=0.250, train_accuracy=0.889, train_f1_score=0.889, val_loss=0.612, val_accuracy=0.811, val_f1_score=0.811]"
     ]
    },
    {
     "name": "stderr",
     "output_type": "stream",
     "text": [
      "Epoch 20, global step 4745: val_loss was not in top 2\n"
     ]
    },
    {
     "name": "stdout",
     "output_type": "stream",
     "text": [
      "Epoch 21:  89%|████████▊ | 226/255 [01:27<00:11,  2.59it/s, loss=0.325, v_num=4, train_loss=0.290, train_accuracy=0.778, train_f1_score=0.778, val_loss=0.612, val_accuracy=0.811, val_f1_score=0.811]\n",
      "Validating: 0it [00:00, ?it/s]\u001b[A\n",
      "Validating:   0%|          | 0/29 [00:00<?, ?it/s]\u001b[A\n",
      "Epoch 21:  89%|████████▉ | 228/255 [01:34<00:11,  2.40it/s, loss=0.325, v_num=4, train_loss=0.290, train_accuracy=0.778, train_f1_score=0.778, val_loss=0.612, val_accuracy=0.811, val_f1_score=0.811]\n",
      "Epoch 21:  90%|█████████ | 230/255 [01:34<00:10,  2.42it/s, loss=0.325, v_num=4, train_loss=0.290, train_accuracy=0.778, train_f1_score=0.778, val_loss=0.612, val_accuracy=0.811, val_f1_score=0.811]\n",
      "Epoch 21:  91%|█████████ | 232/255 [01:35<00:09,  2.44it/s, loss=0.325, v_num=4, train_loss=0.290, train_accuracy=0.778, train_f1_score=0.778, val_loss=0.612, val_accuracy=0.811, val_f1_score=0.811]\n",
      "Epoch 21:  92%|█████████▏| 234/255 [01:35<00:08,  2.45it/s, loss=0.325, v_num=4, train_loss=0.290, train_accuracy=0.778, train_f1_score=0.778, val_loss=0.612, val_accuracy=0.811, val_f1_score=0.811]\n",
      "Epoch 21:  93%|█████████▎| 236/255 [01:35<00:07,  2.47it/s, loss=0.325, v_num=4, train_loss=0.290, train_accuracy=0.778, train_f1_score=0.778, val_loss=0.612, val_accuracy=0.811, val_f1_score=0.811]\n",
      "Epoch 21:  93%|█████████▎| 238/255 [01:35<00:06,  2.49it/s, loss=0.325, v_num=4, train_loss=0.290, train_accuracy=0.778, train_f1_score=0.778, val_loss=0.612, val_accuracy=0.811, val_f1_score=0.811]\n",
      "Epoch 21:  94%|█████████▍| 240/255 [01:35<00:05,  2.50it/s, loss=0.325, v_num=4, train_loss=0.290, train_accuracy=0.778, train_f1_score=0.778, val_loss=0.612, val_accuracy=0.811, val_f1_score=0.811]\n",
      "Epoch 21:  95%|█████████▍| 242/255 [01:36<00:05,  2.52it/s, loss=0.325, v_num=4, train_loss=0.290, train_accuracy=0.778, train_f1_score=0.778, val_loss=0.612, val_accuracy=0.811, val_f1_score=0.811]\n",
      "Epoch 21:  96%|█████████▌| 244/255 [01:36<00:04,  2.53it/s, loss=0.325, v_num=4, train_loss=0.290, train_accuracy=0.778, train_f1_score=0.778, val_loss=0.612, val_accuracy=0.811, val_f1_score=0.811]\n",
      "Epoch 21:  96%|█████████▋| 246/255 [01:36<00:03,  2.55it/s, loss=0.325, v_num=4, train_loss=0.290, train_accuracy=0.778, train_f1_score=0.778, val_loss=0.612, val_accuracy=0.811, val_f1_score=0.811]\n",
      "Epoch 21:  97%|█████████▋| 248/255 [01:36<00:02,  2.57it/s, loss=0.325, v_num=4, train_loss=0.290, train_accuracy=0.778, train_f1_score=0.778, val_loss=0.612, val_accuracy=0.811, val_f1_score=0.811]\n",
      "Epoch 21:  98%|█████████▊| 250/255 [01:36<00:01,  2.58it/s, loss=0.325, v_num=4, train_loss=0.290, train_accuracy=0.778, train_f1_score=0.778, val_loss=0.612, val_accuracy=0.811, val_f1_score=0.811]\n",
      "Epoch 21:  99%|█████████▉| 252/255 [01:36<00:01,  2.60it/s, loss=0.325, v_num=4, train_loss=0.290, train_accuracy=0.778, train_f1_score=0.778, val_loss=0.612, val_accuracy=0.811, val_f1_score=0.811]\n",
      "Epoch 21: 100%|█████████▉| 254/255 [01:37<00:00,  2.61it/s, loss=0.325, v_num=4, train_loss=0.290, train_accuracy=0.778, train_f1_score=0.778, val_loss=0.612, val_accuracy=0.811, val_f1_score=0.811]\n",
      "Epoch 21: 100%|██████████| 255/255 [01:38<00:00,  2.59it/s, loss=0.325, v_num=4, train_loss=0.290, train_accuracy=0.778, train_f1_score=0.778, val_loss=0.642, val_accuracy=0.798, val_f1_score=0.798]\n",
      "Epoch 21: 100%|██████████| 255/255 [01:38<00:00,  2.59it/s, loss=0.325, v_num=4, train_loss=0.290, train_accuracy=0.778, train_f1_score=0.778, val_loss=0.642, val_accuracy=0.798, val_f1_score=0.798]"
     ]
    },
    {
     "name": "stderr",
     "output_type": "stream",
     "text": [
      "Epoch 21, global step 4971: val_loss was not in top 2\n"
     ]
    },
    {
     "name": "stdout",
     "output_type": "stream",
     "text": [
      "Epoch 22:  89%|████████▊ | 226/255 [01:27<00:11,  2.59it/s, loss=0.271, v_num=4, train_loss=0.246, train_accuracy=0.833, train_f1_score=0.833, val_loss=0.642, val_accuracy=0.798, val_f1_score=0.798]\n",
      "Validating: 0it [00:00, ?it/s]\u001b[A\n",
      "Validating:   0%|          | 0/29 [00:00<?, ?it/s]\u001b[A\n",
      "Epoch 22:  89%|████████▉ | 228/255 [01:34<00:11,  2.40it/s, loss=0.271, v_num=4, train_loss=0.246, train_accuracy=0.833, train_f1_score=0.833, val_loss=0.642, val_accuracy=0.798, val_f1_score=0.798]\n",
      "Validating:   7%|▋         | 2/29 [00:07<01:26,  3.22s/it]\u001b[A\n",
      "Epoch 22:  90%|█████████ | 230/255 [01:35<00:10,  2.42it/s, loss=0.271, v_num=4, train_loss=0.246, train_accuracy=0.833, train_f1_score=0.833, val_loss=0.642, val_accuracy=0.798, val_f1_score=0.798]\n",
      "Epoch 22:  91%|█████████ | 232/255 [01:35<00:09,  2.43it/s, loss=0.271, v_num=4, train_loss=0.246, train_accuracy=0.833, train_f1_score=0.833, val_loss=0.642, val_accuracy=0.798, val_f1_score=0.798]\n",
      "Epoch 22:  92%|█████████▏| 234/255 [01:35<00:08,  2.45it/s, loss=0.271, v_num=4, train_loss=0.246, train_accuracy=0.833, train_f1_score=0.833, val_loss=0.642, val_accuracy=0.798, val_f1_score=0.798]\n",
      "Epoch 22:  93%|█████████▎| 236/255 [01:35<00:07,  2.47it/s, loss=0.271, v_num=4, train_loss=0.246, train_accuracy=0.833, train_f1_score=0.833, val_loss=0.642, val_accuracy=0.798, val_f1_score=0.798]\n",
      "Epoch 22:  93%|█████████▎| 238/255 [01:35<00:06,  2.48it/s, loss=0.271, v_num=4, train_loss=0.246, train_accuracy=0.833, train_f1_score=0.833, val_loss=0.642, val_accuracy=0.798, val_f1_score=0.798]\n",
      "Epoch 22:  94%|█████████▍| 240/255 [01:35<00:05,  2.50it/s, loss=0.271, v_num=4, train_loss=0.246, train_accuracy=0.833, train_f1_score=0.833, val_loss=0.642, val_accuracy=0.798, val_f1_score=0.798]\n",
      "Epoch 22:  95%|█████████▍| 242/255 [01:36<00:05,  2.52it/s, loss=0.271, v_num=4, train_loss=0.246, train_accuracy=0.833, train_f1_score=0.833, val_loss=0.642, val_accuracy=0.798, val_f1_score=0.798]\n",
      "Epoch 22:  96%|█████████▌| 244/255 [01:36<00:04,  2.53it/s, loss=0.271, v_num=4, train_loss=0.246, train_accuracy=0.833, train_f1_score=0.833, val_loss=0.642, val_accuracy=0.798, val_f1_score=0.798]\n",
      "Epoch 22:  96%|█████████▋| 246/255 [01:36<00:03,  2.55it/s, loss=0.271, v_num=4, train_loss=0.246, train_accuracy=0.833, train_f1_score=0.833, val_loss=0.642, val_accuracy=0.798, val_f1_score=0.798]\n",
      "Epoch 22:  97%|█████████▋| 248/255 [01:36<00:02,  2.56it/s, loss=0.271, v_num=4, train_loss=0.246, train_accuracy=0.833, train_f1_score=0.833, val_loss=0.642, val_accuracy=0.798, val_f1_score=0.798]\n",
      "Epoch 22:  98%|█████████▊| 250/255 [01:36<00:01,  2.58it/s, loss=0.271, v_num=4, train_loss=0.246, train_accuracy=0.833, train_f1_score=0.833, val_loss=0.642, val_accuracy=0.798, val_f1_score=0.798]\n",
      "Epoch 22:  99%|█████████▉| 252/255 [01:37<00:01,  2.60it/s, loss=0.271, v_num=4, train_loss=0.246, train_accuracy=0.833, train_f1_score=0.833, val_loss=0.642, val_accuracy=0.798, val_f1_score=0.798]\n",
      "Epoch 22: 100%|█████████▉| 254/255 [01:37<00:00,  2.61it/s, loss=0.271, v_num=4, train_loss=0.246, train_accuracy=0.833, train_f1_score=0.833, val_loss=0.642, val_accuracy=0.798, val_f1_score=0.798]\n",
      "Epoch 22: 100%|██████████| 255/255 [01:38<00:00,  2.59it/s, loss=0.271, v_num=4, train_loss=0.246, train_accuracy=0.833, train_f1_score=0.833, val_loss=0.436, val_accuracy=0.830, val_f1_score=0.830]\n",
      "Epoch 22: 100%|██████████| 255/255 [01:38<00:00,  2.59it/s, loss=0.271, v_num=4, train_loss=0.246, train_accuracy=0.833, train_f1_score=0.833, val_loss=0.436, val_accuracy=0.830, val_f1_score=0.830]"
     ]
    },
    {
     "name": "stderr",
     "output_type": "stream",
     "text": [
      "Epoch 22, global step 5197: val_loss reached 0.43581 (best 0.42238), saving model to \"/Workspace/code/checkpoints/best-checkpoint-corr-mi-0-v2.ckpt\" as top 2\n"
     ]
    },
    {
     "name": "stdout",
     "output_type": "stream",
     "text": [
      "Epoch 23:  89%|████████▊ | 226/255 [01:26<00:11,  2.60it/s, loss=0.386, v_num=4, train_loss=0.133, train_accuracy=0.944, train_f1_score=0.944, val_loss=0.436, val_accuracy=0.830, val_f1_score=0.830] \n",
      "Validating: 0it [00:00, ?it/s]\u001b[A\n",
      "Validating:   0%|          | 0/29 [00:00<?, ?it/s]\u001b[A\n",
      "Epoch 23:  89%|████████▉ | 228/255 [01:34<00:11,  2.41it/s, loss=0.386, v_num=4, train_loss=0.133, train_accuracy=0.944, train_f1_score=0.944, val_loss=0.436, val_accuracy=0.830, val_f1_score=0.830]\n",
      "Epoch 23:  90%|█████████ | 230/255 [01:34<00:10,  2.43it/s, loss=0.386, v_num=4, train_loss=0.133, train_accuracy=0.944, train_f1_score=0.944, val_loss=0.436, val_accuracy=0.830, val_f1_score=0.830]\n",
      "Epoch 23:  91%|█████████ | 232/255 [01:34<00:09,  2.45it/s, loss=0.386, v_num=4, train_loss=0.133, train_accuracy=0.944, train_f1_score=0.944, val_loss=0.436, val_accuracy=0.830, val_f1_score=0.830]\n",
      "Epoch 23:  92%|█████████▏| 234/255 [01:34<00:08,  2.46it/s, loss=0.386, v_num=4, train_loss=0.133, train_accuracy=0.944, train_f1_score=0.944, val_loss=0.436, val_accuracy=0.830, val_f1_score=0.830]\n",
      "Epoch 23:  93%|█████████▎| 236/255 [01:35<00:07,  2.48it/s, loss=0.386, v_num=4, train_loss=0.133, train_accuracy=0.944, train_f1_score=0.944, val_loss=0.436, val_accuracy=0.830, val_f1_score=0.830]\n",
      "Epoch 23:  93%|█████████▎| 238/255 [01:35<00:06,  2.50it/s, loss=0.386, v_num=4, train_loss=0.133, train_accuracy=0.944, train_f1_score=0.944, val_loss=0.436, val_accuracy=0.830, val_f1_score=0.830]\n",
      "Epoch 23:  94%|█████████▍| 240/255 [01:35<00:05,  2.51it/s, loss=0.386, v_num=4, train_loss=0.133, train_accuracy=0.944, train_f1_score=0.944, val_loss=0.436, val_accuracy=0.830, val_f1_score=0.830]\n",
      "Epoch 23:  95%|█████████▍| 242/255 [01:35<00:05,  2.53it/s, loss=0.386, v_num=4, train_loss=0.133, train_accuracy=0.944, train_f1_score=0.944, val_loss=0.436, val_accuracy=0.830, val_f1_score=0.830]\n",
      "Epoch 23:  96%|█████████▌| 244/255 [01:35<00:04,  2.54it/s, loss=0.386, v_num=4, train_loss=0.133, train_accuracy=0.944, train_f1_score=0.944, val_loss=0.436, val_accuracy=0.830, val_f1_score=0.830]\n",
      "Epoch 23:  96%|█████████▋| 246/255 [01:36<00:03,  2.56it/s, loss=0.386, v_num=4, train_loss=0.133, train_accuracy=0.944, train_f1_score=0.944, val_loss=0.436, val_accuracy=0.830, val_f1_score=0.830]\n",
      "Epoch 23:  97%|█████████▋| 248/255 [01:36<00:02,  2.58it/s, loss=0.386, v_num=4, train_loss=0.133, train_accuracy=0.944, train_f1_score=0.944, val_loss=0.436, val_accuracy=0.830, val_f1_score=0.830]\n",
      "Epoch 23:  98%|█████████▊| 250/255 [01:36<00:01,  2.59it/s, loss=0.386, v_num=4, train_loss=0.133, train_accuracy=0.944, train_f1_score=0.944, val_loss=0.436, val_accuracy=0.830, val_f1_score=0.830]\n",
      "Epoch 23:  99%|█████████▉| 252/255 [01:36<00:01,  2.61it/s, loss=0.386, v_num=4, train_loss=0.133, train_accuracy=0.944, train_f1_score=0.944, val_loss=0.436, val_accuracy=0.830, val_f1_score=0.830]\n",
      "Epoch 23: 100%|█████████▉| 254/255 [01:36<00:00,  2.62it/s, loss=0.386, v_num=4, train_loss=0.133, train_accuracy=0.944, train_f1_score=0.944, val_loss=0.436, val_accuracy=0.830, val_f1_score=0.830]\n",
      "Epoch 23: 100%|██████████| 255/255 [01:37<00:00,  2.60it/s, loss=0.386, v_num=4, train_loss=0.133, train_accuracy=0.944, train_f1_score=0.944, val_loss=0.491, val_accuracy=0.832, val_f1_score=0.832]\n",
      "Epoch 23: 100%|██████████| 255/255 [01:37<00:00,  2.60it/s, loss=0.386, v_num=4, train_loss=0.133, train_accuracy=0.944, train_f1_score=0.944, val_loss=0.491, val_accuracy=0.832, val_f1_score=0.832]"
     ]
    },
    {
     "name": "stderr",
     "output_type": "stream",
     "text": [
      "Epoch 23, global step 5423: val_loss was not in top 2\n"
     ]
    },
    {
     "name": "stdout",
     "output_type": "stream",
     "text": [
      "Epoch 24:  89%|████████▊ | 226/255 [01:27<00:11,  2.60it/s, loss=0.339, v_num=4, train_loss=0.470, train_accuracy=0.778, train_f1_score=0.778, val_loss=0.491, val_accuracy=0.832, val_f1_score=0.832]\n",
      "Validating: 0it [00:00, ?it/s]\u001b[A\n",
      "Validating:   0%|          | 0/29 [00:00<?, ?it/s]\u001b[A\n",
      "Epoch 24:  89%|████████▉ | 228/255 [01:34<00:11,  2.41it/s, loss=0.339, v_num=4, train_loss=0.470, train_accuracy=0.778, train_f1_score=0.778, val_loss=0.491, val_accuracy=0.832, val_f1_score=0.832]\n",
      "Epoch 24:  90%|█████████ | 230/255 [01:34<00:10,  2.42it/s, loss=0.339, v_num=4, train_loss=0.470, train_accuracy=0.778, train_f1_score=0.778, val_loss=0.491, val_accuracy=0.832, val_f1_score=0.832]\n",
      "Epoch 24:  91%|█████████ | 232/255 [01:35<00:09,  2.44it/s, loss=0.339, v_num=4, train_loss=0.470, train_accuracy=0.778, train_f1_score=0.778, val_loss=0.491, val_accuracy=0.832, val_f1_score=0.832]\n",
      "Epoch 24:  92%|█████████▏| 234/255 [01:35<00:08,  2.46it/s, loss=0.339, v_num=4, train_loss=0.470, train_accuracy=0.778, train_f1_score=0.778, val_loss=0.491, val_accuracy=0.832, val_f1_score=0.832]\n",
      "Epoch 24:  93%|█████████▎| 236/255 [01:35<00:07,  2.47it/s, loss=0.339, v_num=4, train_loss=0.470, train_accuracy=0.778, train_f1_score=0.778, val_loss=0.491, val_accuracy=0.832, val_f1_score=0.832]\n",
      "Epoch 24:  93%|█████████▎| 238/255 [01:35<00:06,  2.49it/s, loss=0.339, v_num=4, train_loss=0.470, train_accuracy=0.778, train_f1_score=0.778, val_loss=0.491, val_accuracy=0.832, val_f1_score=0.832]\n",
      "Epoch 24:  94%|█████████▍| 240/255 [01:35<00:05,  2.51it/s, loss=0.339, v_num=4, train_loss=0.470, train_accuracy=0.778, train_f1_score=0.778, val_loss=0.491, val_accuracy=0.832, val_f1_score=0.832]\n",
      "Epoch 24:  95%|█████████▍| 242/255 [01:35<00:05,  2.52it/s, loss=0.339, v_num=4, train_loss=0.470, train_accuracy=0.778, train_f1_score=0.778, val_loss=0.491, val_accuracy=0.832, val_f1_score=0.832]\n",
      "Epoch 24:  96%|█████████▌| 244/255 [01:36<00:04,  2.54it/s, loss=0.339, v_num=4, train_loss=0.470, train_accuracy=0.778, train_f1_score=0.778, val_loss=0.491, val_accuracy=0.832, val_f1_score=0.832]\n",
      "Epoch 24:  96%|█████████▋| 246/255 [01:36<00:03,  2.56it/s, loss=0.339, v_num=4, train_loss=0.470, train_accuracy=0.778, train_f1_score=0.778, val_loss=0.491, val_accuracy=0.832, val_f1_score=0.832]\n",
      "Epoch 24:  97%|█████████▋| 248/255 [01:36<00:02,  2.57it/s, loss=0.339, v_num=4, train_loss=0.470, train_accuracy=0.778, train_f1_score=0.778, val_loss=0.491, val_accuracy=0.832, val_f1_score=0.832]\n",
      "Epoch 24:  98%|█████████▊| 250/255 [01:36<00:01,  2.59it/s, loss=0.339, v_num=4, train_loss=0.470, train_accuracy=0.778, train_f1_score=0.778, val_loss=0.491, val_accuracy=0.832, val_f1_score=0.832]\n",
      "Epoch 24:  99%|█████████▉| 252/255 [01:36<00:01,  2.60it/s, loss=0.339, v_num=4, train_loss=0.470, train_accuracy=0.778, train_f1_score=0.778, val_loss=0.491, val_accuracy=0.832, val_f1_score=0.832]\n",
      "Epoch 24: 100%|█████████▉| 254/255 [01:36<00:00,  2.62it/s, loss=0.339, v_num=4, train_loss=0.470, train_accuracy=0.778, train_f1_score=0.778, val_loss=0.491, val_accuracy=0.832, val_f1_score=0.832]\n",
      "Epoch 24: 100%|██████████| 255/255 [01:38<00:00,  2.60it/s, loss=0.339, v_num=4, train_loss=0.470, train_accuracy=0.778, train_f1_score=0.778, val_loss=0.482, val_accuracy=0.823, val_f1_score=0.823]\n",
      "Epoch 24: 100%|██████████| 255/255 [01:38<00:00,  2.60it/s, loss=0.339, v_num=4, train_loss=0.470, train_accuracy=0.778, train_f1_score=0.778, val_loss=0.482, val_accuracy=0.823, val_f1_score=0.823]"
     ]
    },
    {
     "name": "stderr",
     "output_type": "stream",
     "text": [
      "Epoch 24, global step 5649: val_loss was not in top 2\n"
     ]
    },
    {
     "name": "stdout",
     "output_type": "stream",
     "text": [
      "Epoch 25:  89%|████████▊ | 226/255 [01:26<00:11,  2.60it/s, loss=0.269, v_num=4, train_loss=0.294, train_accuracy=0.833, train_f1_score=0.833, val_loss=0.482, val_accuracy=0.823, val_f1_score=0.823]\n",
      "Validating: 0it [00:00, ?it/s]\u001b[A\n",
      "Validating:   0%|          | 0/29 [00:00<?, ?it/s]\u001b[A\n",
      "Epoch 25:  89%|████████▉ | 228/255 [01:34<00:11,  2.41it/s, loss=0.269, v_num=4, train_loss=0.294, train_accuracy=0.833, train_f1_score=0.833, val_loss=0.482, val_accuracy=0.823, val_f1_score=0.823]\n",
      "Epoch 25:  90%|█████████ | 230/255 [01:34<00:10,  2.43it/s, loss=0.269, v_num=4, train_loss=0.294, train_accuracy=0.833, train_f1_score=0.833, val_loss=0.482, val_accuracy=0.823, val_f1_score=0.823]\n",
      "Epoch 25:  91%|█████████ | 232/255 [01:34<00:09,  2.45it/s, loss=0.269, v_num=4, train_loss=0.294, train_accuracy=0.833, train_f1_score=0.833, val_loss=0.482, val_accuracy=0.823, val_f1_score=0.823]\n",
      "Epoch 25:  92%|█████████▏| 234/255 [01:35<00:08,  2.46it/s, loss=0.269, v_num=4, train_loss=0.294, train_accuracy=0.833, train_f1_score=0.833, val_loss=0.482, val_accuracy=0.823, val_f1_score=0.823]\n",
      "Epoch 25:  93%|█████████▎| 236/255 [01:35<00:07,  2.48it/s, loss=0.269, v_num=4, train_loss=0.294, train_accuracy=0.833, train_f1_score=0.833, val_loss=0.482, val_accuracy=0.823, val_f1_score=0.823]\n",
      "Epoch 25:  93%|█████████▎| 238/255 [01:35<00:06,  2.50it/s, loss=0.269, v_num=4, train_loss=0.294, train_accuracy=0.833, train_f1_score=0.833, val_loss=0.482, val_accuracy=0.823, val_f1_score=0.823]\n",
      "Epoch 25:  94%|█████████▍| 240/255 [01:35<00:05,  2.51it/s, loss=0.269, v_num=4, train_loss=0.294, train_accuracy=0.833, train_f1_score=0.833, val_loss=0.482, val_accuracy=0.823, val_f1_score=0.823]\n",
      "Epoch 25:  95%|█████████▍| 242/255 [01:35<00:05,  2.53it/s, loss=0.269, v_num=4, train_loss=0.294, train_accuracy=0.833, train_f1_score=0.833, val_loss=0.482, val_accuracy=0.823, val_f1_score=0.823]\n",
      "Epoch 25:  96%|█████████▌| 244/255 [01:35<00:04,  2.54it/s, loss=0.269, v_num=4, train_loss=0.294, train_accuracy=0.833, train_f1_score=0.833, val_loss=0.482, val_accuracy=0.823, val_f1_score=0.823]\n",
      "Epoch 25:  96%|█████████▋| 246/255 [01:36<00:03,  2.56it/s, loss=0.269, v_num=4, train_loss=0.294, train_accuracy=0.833, train_f1_score=0.833, val_loss=0.482, val_accuracy=0.823, val_f1_score=0.823]\n",
      "Epoch 25:  97%|█████████▋| 248/255 [01:36<00:02,  2.58it/s, loss=0.269, v_num=4, train_loss=0.294, train_accuracy=0.833, train_f1_score=0.833, val_loss=0.482, val_accuracy=0.823, val_f1_score=0.823]\n",
      "Epoch 25:  98%|█████████▊| 250/255 [01:36<00:01,  2.59it/s, loss=0.269, v_num=4, train_loss=0.294, train_accuracy=0.833, train_f1_score=0.833, val_loss=0.482, val_accuracy=0.823, val_f1_score=0.823]\n",
      "Epoch 25:  99%|█████████▉| 252/255 [01:36<00:01,  2.61it/s, loss=0.269, v_num=4, train_loss=0.294, train_accuracy=0.833, train_f1_score=0.833, val_loss=0.482, val_accuracy=0.823, val_f1_score=0.823]\n",
      "Epoch 25: 100%|█████████▉| 254/255 [01:36<00:00,  2.62it/s, loss=0.269, v_num=4, train_loss=0.294, train_accuracy=0.833, train_f1_score=0.833, val_loss=0.482, val_accuracy=0.823, val_f1_score=0.823]\n",
      "Epoch 25: 100%|██████████| 255/255 [01:37<00:00,  2.60it/s, loss=0.269, v_num=4, train_loss=0.294, train_accuracy=0.833, train_f1_score=0.833, val_loss=0.491, val_accuracy=0.817, val_f1_score=0.817]\n",
      "Epoch 25: 100%|██████████| 255/255 [01:37<00:00,  2.60it/s, loss=0.269, v_num=4, train_loss=0.294, train_accuracy=0.833, train_f1_score=0.833, val_loss=0.491, val_accuracy=0.817, val_f1_score=0.817]"
     ]
    },
    {
     "name": "stderr",
     "output_type": "stream",
     "text": [
      "Epoch 25, global step 5875: val_loss was not in top 2\n"
     ]
    },
    {
     "name": "stdout",
     "output_type": "stream",
     "text": [
      "Epoch 26:  89%|████████▊ | 226/255 [01:27<00:11,  2.59it/s, loss=0.238, v_num=4, train_loss=0.157, train_accuracy=1.000, train_f1_score=1.000, val_loss=0.491, val_accuracy=0.817, val_f1_score=0.817]\n",
      "Validating: 0it [00:00, ?it/s]\u001b[A\n",
      "Validating:   0%|          | 0/29 [00:00<?, ?it/s]\u001b[A\n",
      "Epoch 26:  89%|████████▉ | 228/255 [01:35<00:11,  2.40it/s, loss=0.238, v_num=4, train_loss=0.157, train_accuracy=1.000, train_f1_score=1.000, val_loss=0.491, val_accuracy=0.817, val_f1_score=0.817]\n",
      "Epoch 26:  90%|█████████ | 230/255 [01:35<00:10,  2.42it/s, loss=0.238, v_num=4, train_loss=0.157, train_accuracy=1.000, train_f1_score=1.000, val_loss=0.491, val_accuracy=0.817, val_f1_score=0.817]\n",
      "Epoch 26:  91%|█████████ | 232/255 [01:35<00:09,  2.43it/s, loss=0.238, v_num=4, train_loss=0.157, train_accuracy=1.000, train_f1_score=1.000, val_loss=0.491, val_accuracy=0.817, val_f1_score=0.817]\n",
      "Epoch 26:  92%|█████████▏| 234/255 [01:35<00:08,  2.45it/s, loss=0.238, v_num=4, train_loss=0.157, train_accuracy=1.000, train_f1_score=1.000, val_loss=0.491, val_accuracy=0.817, val_f1_score=0.817]\n",
      "Epoch 26:  93%|█████████▎| 236/255 [01:35<00:07,  2.47it/s, loss=0.238, v_num=4, train_loss=0.157, train_accuracy=1.000, train_f1_score=1.000, val_loss=0.491, val_accuracy=0.817, val_f1_score=0.817]\n",
      "Epoch 26:  93%|█████████▎| 238/255 [01:35<00:06,  2.48it/s, loss=0.238, v_num=4, train_loss=0.157, train_accuracy=1.000, train_f1_score=1.000, val_loss=0.491, val_accuracy=0.817, val_f1_score=0.817]\n",
      "Epoch 26:  94%|█████████▍| 240/255 [01:35<00:05,  2.50it/s, loss=0.238, v_num=4, train_loss=0.157, train_accuracy=1.000, train_f1_score=1.000, val_loss=0.491, val_accuracy=0.817, val_f1_score=0.817]\n",
      "Epoch 26:  95%|█████████▍| 242/255 [01:36<00:05,  2.52it/s, loss=0.238, v_num=4, train_loss=0.157, train_accuracy=1.000, train_f1_score=1.000, val_loss=0.491, val_accuracy=0.817, val_f1_score=0.817]\n",
      "Epoch 26:  96%|█████████▌| 244/255 [01:36<00:04,  2.53it/s, loss=0.238, v_num=4, train_loss=0.157, train_accuracy=1.000, train_f1_score=1.000, val_loss=0.491, val_accuracy=0.817, val_f1_score=0.817]\n",
      "Epoch 26:  96%|█████████▋| 246/255 [01:36<00:03,  2.55it/s, loss=0.238, v_num=4, train_loss=0.157, train_accuracy=1.000, train_f1_score=1.000, val_loss=0.491, val_accuracy=0.817, val_f1_score=0.817]\n",
      "Epoch 26:  97%|█████████▋| 248/255 [01:36<00:02,  2.57it/s, loss=0.238, v_num=4, train_loss=0.157, train_accuracy=1.000, train_f1_score=1.000, val_loss=0.491, val_accuracy=0.817, val_f1_score=0.817]\n",
      "Epoch 26:  98%|█████████▊| 250/255 [01:36<00:01,  2.58it/s, loss=0.238, v_num=4, train_loss=0.157, train_accuracy=1.000, train_f1_score=1.000, val_loss=0.491, val_accuracy=0.817, val_f1_score=0.817]\n",
      "Epoch 26:  99%|█████████▉| 252/255 [01:36<00:01,  2.60it/s, loss=0.238, v_num=4, train_loss=0.157, train_accuracy=1.000, train_f1_score=1.000, val_loss=0.491, val_accuracy=0.817, val_f1_score=0.817]\n",
      "Epoch 26: 100%|█████████▉| 254/255 [01:37<00:00,  2.61it/s, loss=0.238, v_num=4, train_loss=0.157, train_accuracy=1.000, train_f1_score=1.000, val_loss=0.491, val_accuracy=0.817, val_f1_score=0.817]\n",
      "Epoch 26: 100%|██████████| 255/255 [01:38<00:00,  2.59it/s, loss=0.238, v_num=4, train_loss=0.157, train_accuracy=1.000, train_f1_score=1.000, val_loss=0.462, val_accuracy=0.816, val_f1_score=0.816]\n",
      "Epoch 26: 100%|██████████| 255/255 [01:38<00:00,  2.59it/s, loss=0.238, v_num=4, train_loss=0.157, train_accuracy=1.000, train_f1_score=1.000, val_loss=0.462, val_accuracy=0.816, val_f1_score=0.816]"
     ]
    },
    {
     "name": "stderr",
     "output_type": "stream",
     "text": [
      "Epoch 26, global step 6101: val_loss was not in top 2\n"
     ]
    },
    {
     "name": "stdout",
     "output_type": "stream",
     "text": [
      "Epoch 27:  89%|████████▊ | 226/255 [01:27<00:11,  2.59it/s, loss=0.236, v_num=4, train_loss=0.337, train_accuracy=0.833, train_f1_score=0.833, val_loss=0.462, val_accuracy=0.816, val_f1_score=0.816] \n",
      "Validating: 0it [00:00, ?it/s]\u001b[A\n",
      "Validating:   0%|          | 0/29 [00:00<?, ?it/s]\u001b[A\n",
      "Epoch 27:  89%|████████▉ | 228/255 [01:35<00:11,  2.40it/s, loss=0.236, v_num=4, train_loss=0.337, train_accuracy=0.833, train_f1_score=0.833, val_loss=0.462, val_accuracy=0.816, val_f1_score=0.816]\n",
      "Epoch 27:  90%|█████████ | 230/255 [01:35<00:10,  2.41it/s, loss=0.236, v_num=4, train_loss=0.337, train_accuracy=0.833, train_f1_score=0.833, val_loss=0.462, val_accuracy=0.816, val_f1_score=0.816]\n",
      "Epoch 27:  91%|█████████ | 232/255 [01:35<00:09,  2.43it/s, loss=0.236, v_num=4, train_loss=0.337, train_accuracy=0.833, train_f1_score=0.833, val_loss=0.462, val_accuracy=0.816, val_f1_score=0.816]\n",
      "Epoch 27:  92%|█████████▏| 234/255 [01:35<00:08,  2.45it/s, loss=0.236, v_num=4, train_loss=0.337, train_accuracy=0.833, train_f1_score=0.833, val_loss=0.462, val_accuracy=0.816, val_f1_score=0.816]\n",
      "Epoch 27:  93%|█████████▎| 236/255 [01:35<00:07,  2.46it/s, loss=0.236, v_num=4, train_loss=0.337, train_accuracy=0.833, train_f1_score=0.833, val_loss=0.462, val_accuracy=0.816, val_f1_score=0.816]\n",
      "Epoch 27:  93%|█████████▎| 238/255 [01:36<00:06,  2.48it/s, loss=0.236, v_num=4, train_loss=0.337, train_accuracy=0.833, train_f1_score=0.833, val_loss=0.462, val_accuracy=0.816, val_f1_score=0.816]\n",
      "Epoch 27:  94%|█████████▍| 240/255 [01:36<00:06,  2.49it/s, loss=0.236, v_num=4, train_loss=0.337, train_accuracy=0.833, train_f1_score=0.833, val_loss=0.462, val_accuracy=0.816, val_f1_score=0.816]\n",
      "Epoch 27:  95%|█████████▍| 242/255 [01:36<00:05,  2.51it/s, loss=0.236, v_num=4, train_loss=0.337, train_accuracy=0.833, train_f1_score=0.833, val_loss=0.462, val_accuracy=0.816, val_f1_score=0.816]\n",
      "Epoch 27:  96%|█████████▌| 244/255 [01:36<00:04,  2.53it/s, loss=0.236, v_num=4, train_loss=0.337, train_accuracy=0.833, train_f1_score=0.833, val_loss=0.462, val_accuracy=0.816, val_f1_score=0.816]\n",
      "Epoch 27:  96%|█████████▋| 246/255 [01:36<00:03,  2.54it/s, loss=0.236, v_num=4, train_loss=0.337, train_accuracy=0.833, train_f1_score=0.833, val_loss=0.462, val_accuracy=0.816, val_f1_score=0.816]\n",
      "Epoch 27:  97%|█████████▋| 248/255 [01:36<00:02,  2.56it/s, loss=0.236, v_num=4, train_loss=0.337, train_accuracy=0.833, train_f1_score=0.833, val_loss=0.462, val_accuracy=0.816, val_f1_score=0.816]\n",
      "Epoch 27:  98%|█████████▊| 250/255 [01:37<00:01,  2.57it/s, loss=0.236, v_num=4, train_loss=0.337, train_accuracy=0.833, train_f1_score=0.833, val_loss=0.462, val_accuracy=0.816, val_f1_score=0.816]\n",
      "Epoch 27:  99%|█████████▉| 252/255 [01:37<00:01,  2.59it/s, loss=0.236, v_num=4, train_loss=0.337, train_accuracy=0.833, train_f1_score=0.833, val_loss=0.462, val_accuracy=0.816, val_f1_score=0.816]\n",
      "Epoch 27: 100%|█████████▉| 254/255 [01:37<00:00,  2.61it/s, loss=0.236, v_num=4, train_loss=0.337, train_accuracy=0.833, train_f1_score=0.833, val_loss=0.462, val_accuracy=0.816, val_f1_score=0.816]\n",
      "Epoch 27: 100%|██████████| 255/255 [01:38<00:00,  2.58it/s, loss=0.236, v_num=4, train_loss=0.337, train_accuracy=0.833, train_f1_score=0.833, val_loss=0.428, val_accuracy=0.835, val_f1_score=0.835]\n",
      "Epoch 27: 100%|██████████| 255/255 [01:38<00:00,  2.58it/s, loss=0.236, v_num=4, train_loss=0.337, train_accuracy=0.833, train_f1_score=0.833, val_loss=0.428, val_accuracy=0.835, val_f1_score=0.835]"
     ]
    },
    {
     "name": "stderr",
     "output_type": "stream",
     "text": [
      "Epoch 27, global step 6327: val_loss reached 0.42787 (best 0.42238), saving model to \"/Workspace/code/checkpoints/best-checkpoint-corr-mi-0-v2.ckpt\" as top 2\n"
     ]
    },
    {
     "name": "stdout",
     "output_type": "stream",
     "text": [
      "Epoch 28:  89%|████████▊ | 226/255 [01:26<00:11,  2.60it/s, loss=0.221, v_num=4, train_loss=0.212, train_accuracy=0.889, train_f1_score=0.889, val_loss=0.428, val_accuracy=0.835, val_f1_score=0.835] \n",
      "Validating: 0it [00:00, ?it/s]\u001b[A\n",
      "Validating:   0%|          | 0/29 [00:00<?, ?it/s]\u001b[A\n",
      "Epoch 28:  89%|████████▉ | 228/255 [01:34<00:11,  2.41it/s, loss=0.221, v_num=4, train_loss=0.212, train_accuracy=0.889, train_f1_score=0.889, val_loss=0.428, val_accuracy=0.835, val_f1_score=0.835]\n",
      "Epoch 28:  90%|█████████ | 230/255 [01:34<00:10,  2.43it/s, loss=0.221, v_num=4, train_loss=0.212, train_accuracy=0.889, train_f1_score=0.889, val_loss=0.428, val_accuracy=0.835, val_f1_score=0.835]\n",
      "Epoch 28:  91%|█████████ | 232/255 [01:34<00:09,  2.45it/s, loss=0.221, v_num=4, train_loss=0.212, train_accuracy=0.889, train_f1_score=0.889, val_loss=0.428, val_accuracy=0.835, val_f1_score=0.835]\n",
      "Epoch 28:  92%|█████████▏| 234/255 [01:35<00:08,  2.46it/s, loss=0.221, v_num=4, train_loss=0.212, train_accuracy=0.889, train_f1_score=0.889, val_loss=0.428, val_accuracy=0.835, val_f1_score=0.835]\n",
      "Epoch 28:  93%|█████████▎| 236/255 [01:35<00:07,  2.48it/s, loss=0.221, v_num=4, train_loss=0.212, train_accuracy=0.889, train_f1_score=0.889, val_loss=0.428, val_accuracy=0.835, val_f1_score=0.835]\n",
      "Epoch 28:  93%|█████████▎| 238/255 [01:35<00:06,  2.50it/s, loss=0.221, v_num=4, train_loss=0.212, train_accuracy=0.889, train_f1_score=0.889, val_loss=0.428, val_accuracy=0.835, val_f1_score=0.835]\n",
      "Epoch 28:  94%|█████████▍| 240/255 [01:35<00:05,  2.51it/s, loss=0.221, v_num=4, train_loss=0.212, train_accuracy=0.889, train_f1_score=0.889, val_loss=0.428, val_accuracy=0.835, val_f1_score=0.835]\n",
      "Epoch 28:  95%|█████████▍| 242/255 [01:35<00:05,  2.53it/s, loss=0.221, v_num=4, train_loss=0.212, train_accuracy=0.889, train_f1_score=0.889, val_loss=0.428, val_accuracy=0.835, val_f1_score=0.835]\n",
      "Epoch 28:  96%|█████████▌| 244/255 [01:35<00:04,  2.54it/s, loss=0.221, v_num=4, train_loss=0.212, train_accuracy=0.889, train_f1_score=0.889, val_loss=0.428, val_accuracy=0.835, val_f1_score=0.835]\n",
      "Epoch 28:  96%|█████████▋| 246/255 [01:36<00:03,  2.56it/s, loss=0.221, v_num=4, train_loss=0.212, train_accuracy=0.889, train_f1_score=0.889, val_loss=0.428, val_accuracy=0.835, val_f1_score=0.835]\n",
      "Epoch 28:  97%|█████████▋| 248/255 [01:36<00:02,  2.58it/s, loss=0.221, v_num=4, train_loss=0.212, train_accuracy=0.889, train_f1_score=0.889, val_loss=0.428, val_accuracy=0.835, val_f1_score=0.835]\n",
      "Epoch 28:  98%|█████████▊| 250/255 [01:36<00:01,  2.59it/s, loss=0.221, v_num=4, train_loss=0.212, train_accuracy=0.889, train_f1_score=0.889, val_loss=0.428, val_accuracy=0.835, val_f1_score=0.835]\n",
      "Epoch 28:  99%|█████████▉| 252/255 [01:36<00:01,  2.61it/s, loss=0.221, v_num=4, train_loss=0.212, train_accuracy=0.889, train_f1_score=0.889, val_loss=0.428, val_accuracy=0.835, val_f1_score=0.835]\n",
      "Epoch 28: 100%|█████████▉| 254/255 [01:36<00:00,  2.62it/s, loss=0.221, v_num=4, train_loss=0.212, train_accuracy=0.889, train_f1_score=0.889, val_loss=0.428, val_accuracy=0.835, val_f1_score=0.835]\n",
      "Epoch 28: 100%|██████████| 255/255 [01:38<00:00,  2.60it/s, loss=0.221, v_num=4, train_loss=0.212, train_accuracy=0.889, train_f1_score=0.889, val_loss=0.395, val_accuracy=0.850, val_f1_score=0.850]\n",
      "Epoch 28: 100%|██████████| 255/255 [01:38<00:00,  2.60it/s, loss=0.221, v_num=4, train_loss=0.212, train_accuracy=0.889, train_f1_score=0.889, val_loss=0.395, val_accuracy=0.850, val_f1_score=0.850]"
     ]
    },
    {
     "name": "stderr",
     "output_type": "stream",
     "text": [
      "Epoch 28, global step 6553: val_loss reached 0.39500 (best 0.39500), saving model to \"/Workspace/code/checkpoints/best-checkpoint-corr-mi-0-v2.ckpt\" as top 2\n"
     ]
    },
    {
     "name": "stdout",
     "output_type": "stream",
     "text": [
      "Epoch 29:  89%|████████▊ | 226/255 [01:26<00:11,  2.60it/s, loss=0.24, v_num=4, train_loss=0.338, train_accuracy=0.778, train_f1_score=0.778, val_loss=0.395, val_accuracy=0.850, val_f1_score=0.850]  \n",
      "Validating: 0it [00:00, ?it/s]\u001b[A\n",
      "Validating:   0%|          | 0/29 [00:00<?, ?it/s]\u001b[A\n",
      "Epoch 29:  89%|████████▉ | 228/255 [01:34<00:11,  2.42it/s, loss=0.24, v_num=4, train_loss=0.338, train_accuracy=0.778, train_f1_score=0.778, val_loss=0.395, val_accuracy=0.850, val_f1_score=0.850]\n",
      "Epoch 29:  90%|█████████ | 230/255 [01:34<00:10,  2.43it/s, loss=0.24, v_num=4, train_loss=0.338, train_accuracy=0.778, train_f1_score=0.778, val_loss=0.395, val_accuracy=0.850, val_f1_score=0.850]\n",
      "Validating:  14%|█▍        | 4/29 [00:07<00:33,  1.36s/it]\u001b[A\n",
      "Epoch 29:  91%|█████████ | 232/255 [01:34<00:09,  2.45it/s, loss=0.24, v_num=4, train_loss=0.338, train_accuracy=0.778, train_f1_score=0.778, val_loss=0.395, val_accuracy=0.850, val_f1_score=0.850]\n",
      "Epoch 29:  92%|█████████▏| 234/255 [01:34<00:08,  2.46it/s, loss=0.24, v_num=4, train_loss=0.338, train_accuracy=0.778, train_f1_score=0.778, val_loss=0.395, val_accuracy=0.850, val_f1_score=0.850]\n",
      "Epoch 29:  93%|█████████▎| 236/255 [01:35<00:07,  2.48it/s, loss=0.24, v_num=4, train_loss=0.338, train_accuracy=0.778, train_f1_score=0.778, val_loss=0.395, val_accuracy=0.850, val_f1_score=0.850]\n",
      "Epoch 29:  93%|█████████▎| 238/255 [01:35<00:06,  2.50it/s, loss=0.24, v_num=4, train_loss=0.338, train_accuracy=0.778, train_f1_score=0.778, val_loss=0.395, val_accuracy=0.850, val_f1_score=0.850]\n",
      "Epoch 29:  94%|█████████▍| 240/255 [01:35<00:05,  2.51it/s, loss=0.24, v_num=4, train_loss=0.338, train_accuracy=0.778, train_f1_score=0.778, val_loss=0.395, val_accuracy=0.850, val_f1_score=0.850]\n",
      "Epoch 29:  95%|█████████▍| 242/255 [01:35<00:05,  2.53it/s, loss=0.24, v_num=4, train_loss=0.338, train_accuracy=0.778, train_f1_score=0.778, val_loss=0.395, val_accuracy=0.850, val_f1_score=0.850]\n",
      "Epoch 29:  96%|█████████▌| 244/255 [01:35<00:04,  2.55it/s, loss=0.24, v_num=4, train_loss=0.338, train_accuracy=0.778, train_f1_score=0.778, val_loss=0.395, val_accuracy=0.850, val_f1_score=0.850]\n",
      "Epoch 29:  96%|█████████▋| 246/255 [01:36<00:03,  2.56it/s, loss=0.24, v_num=4, train_loss=0.338, train_accuracy=0.778, train_f1_score=0.778, val_loss=0.395, val_accuracy=0.850, val_f1_score=0.850]\n",
      "Epoch 29:  97%|█████████▋| 248/255 [01:36<00:02,  2.58it/s, loss=0.24, v_num=4, train_loss=0.338, train_accuracy=0.778, train_f1_score=0.778, val_loss=0.395, val_accuracy=0.850, val_f1_score=0.850]\n",
      "Epoch 29:  98%|█████████▊| 250/255 [01:36<00:01,  2.59it/s, loss=0.24, v_num=4, train_loss=0.338, train_accuracy=0.778, train_f1_score=0.778, val_loss=0.395, val_accuracy=0.850, val_f1_score=0.850]\n",
      "Epoch 29:  99%|█████████▉| 252/255 [01:36<00:01,  2.61it/s, loss=0.24, v_num=4, train_loss=0.338, train_accuracy=0.778, train_f1_score=0.778, val_loss=0.395, val_accuracy=0.850, val_f1_score=0.850]\n",
      "Epoch 29: 100%|█████████▉| 254/255 [01:36<00:00,  2.63it/s, loss=0.24, v_num=4, train_loss=0.338, train_accuracy=0.778, train_f1_score=0.778, val_loss=0.395, val_accuracy=0.850, val_f1_score=0.850]\n",
      "Epoch 29: 100%|██████████| 255/255 [01:37<00:00,  2.60it/s, loss=0.24, v_num=4, train_loss=0.338, train_accuracy=0.778, train_f1_score=0.778, val_loss=0.388, val_accuracy=0.865, val_f1_score=0.865]\n",
      "Epoch 29: 100%|██████████| 255/255 [01:37<00:00,  2.60it/s, loss=0.24, v_num=4, train_loss=0.338, train_accuracy=0.778, train_f1_score=0.778, val_loss=0.388, val_accuracy=0.865, val_f1_score=0.865]"
     ]
    },
    {
     "name": "stderr",
     "output_type": "stream",
     "text": [
      "Epoch 29, global step 6779: val_loss reached 0.38835 (best 0.38835), saving model to \"/Workspace/code/checkpoints/best-checkpoint-corr-mi-0-v3.ckpt\" as top 2\n"
     ]
    },
    {
     "name": "stdout",
     "output_type": "stream",
     "text": [
      "Epoch 30:  89%|████████▊ | 226/255 [01:26<00:11,  2.60it/s, loss=0.248, v_num=4, train_loss=0.385, train_accuracy=0.778, train_f1_score=0.778, val_loss=0.388, val_accuracy=0.865, val_f1_score=0.865] \n",
      "Validating: 0it [00:00, ?it/s]\u001b[A\n",
      "Validating:   0%|          | 0/29 [00:00<?, ?it/s]\u001b[A\n",
      "Epoch 30:  89%|████████▉ | 228/255 [01:34<00:11,  2.41it/s, loss=0.248, v_num=4, train_loss=0.385, train_accuracy=0.778, train_f1_score=0.778, val_loss=0.388, val_accuracy=0.865, val_f1_score=0.865]\n",
      "Epoch 30:  90%|█████████ | 230/255 [01:34<00:10,  2.43it/s, loss=0.248, v_num=4, train_loss=0.385, train_accuracy=0.778, train_f1_score=0.778, val_loss=0.388, val_accuracy=0.865, val_f1_score=0.865]\n",
      "Epoch 30:  91%|█████████ | 232/255 [01:34<00:09,  2.45it/s, loss=0.248, v_num=4, train_loss=0.385, train_accuracy=0.778, train_f1_score=0.778, val_loss=0.388, val_accuracy=0.865, val_f1_score=0.865]\n",
      "Epoch 30:  92%|█████████▏| 234/255 [01:35<00:08,  2.46it/s, loss=0.248, v_num=4, train_loss=0.385, train_accuracy=0.778, train_f1_score=0.778, val_loss=0.388, val_accuracy=0.865, val_f1_score=0.865]\n",
      "Epoch 30:  93%|█████████▎| 236/255 [01:35<00:07,  2.48it/s, loss=0.248, v_num=4, train_loss=0.385, train_accuracy=0.778, train_f1_score=0.778, val_loss=0.388, val_accuracy=0.865, val_f1_score=0.865]\n",
      "Epoch 30:  93%|█████████▎| 238/255 [01:35<00:06,  2.49it/s, loss=0.248, v_num=4, train_loss=0.385, train_accuracy=0.778, train_f1_score=0.778, val_loss=0.388, val_accuracy=0.865, val_f1_score=0.865]\n",
      "Epoch 30:  94%|█████████▍| 240/255 [01:35<00:05,  2.51it/s, loss=0.248, v_num=4, train_loss=0.385, train_accuracy=0.778, train_f1_score=0.778, val_loss=0.388, val_accuracy=0.865, val_f1_score=0.865]\n",
      "Epoch 30:  95%|█████████▍| 242/255 [01:35<00:05,  2.53it/s, loss=0.248, v_num=4, train_loss=0.385, train_accuracy=0.778, train_f1_score=0.778, val_loss=0.388, val_accuracy=0.865, val_f1_score=0.865]\n",
      "Epoch 30:  96%|█████████▌| 244/255 [01:35<00:04,  2.54it/s, loss=0.248, v_num=4, train_loss=0.385, train_accuracy=0.778, train_f1_score=0.778, val_loss=0.388, val_accuracy=0.865, val_f1_score=0.865]\n",
      "Epoch 30:  96%|█████████▋| 246/255 [01:36<00:03,  2.56it/s, loss=0.248, v_num=4, train_loss=0.385, train_accuracy=0.778, train_f1_score=0.778, val_loss=0.388, val_accuracy=0.865, val_f1_score=0.865]\n",
      "Epoch 30:  97%|█████████▋| 248/255 [01:36<00:02,  2.57it/s, loss=0.248, v_num=4, train_loss=0.385, train_accuracy=0.778, train_f1_score=0.778, val_loss=0.388, val_accuracy=0.865, val_f1_score=0.865]\n",
      "Epoch 30:  98%|█████████▊| 250/255 [01:36<00:01,  2.59it/s, loss=0.248, v_num=4, train_loss=0.385, train_accuracy=0.778, train_f1_score=0.778, val_loss=0.388, val_accuracy=0.865, val_f1_score=0.865]\n",
      "Epoch 30:  99%|█████████▉| 252/255 [01:36<00:01,  2.61it/s, loss=0.248, v_num=4, train_loss=0.385, train_accuracy=0.778, train_f1_score=0.778, val_loss=0.388, val_accuracy=0.865, val_f1_score=0.865]\n",
      "Epoch 30: 100%|█████████▉| 254/255 [01:36<00:00,  2.62it/s, loss=0.248, v_num=4, train_loss=0.385, train_accuracy=0.778, train_f1_score=0.778, val_loss=0.388, val_accuracy=0.865, val_f1_score=0.865]\n",
      "Epoch 30: 100%|██████████| 255/255 [01:38<00:00,  2.60it/s, loss=0.248, v_num=4, train_loss=0.385, train_accuracy=0.778, train_f1_score=0.778, val_loss=0.443, val_accuracy=0.859, val_f1_score=0.859]\n",
      "Epoch 30: 100%|██████████| 255/255 [01:38<00:00,  2.60it/s, loss=0.248, v_num=4, train_loss=0.385, train_accuracy=0.778, train_f1_score=0.778, val_loss=0.443, val_accuracy=0.859, val_f1_score=0.859]"
     ]
    },
    {
     "name": "stderr",
     "output_type": "stream",
     "text": [
      "Epoch 30, global step 7005: val_loss was not in top 2\n"
     ]
    },
    {
     "name": "stdout",
     "output_type": "stream",
     "text": [
      "Epoch 31:  89%|████████▊ | 226/255 [01:26<00:11,  2.60it/s, loss=0.195, v_num=4, train_loss=0.158, train_accuracy=0.944, train_f1_score=0.944, val_loss=0.443, val_accuracy=0.859, val_f1_score=0.859] \n",
      "Validating: 0it [00:00, ?it/s]\u001b[A\n",
      "Validating:   0%|          | 0/29 [00:00<?, ?it/s]\u001b[A\n",
      "Epoch 31:  89%|████████▉ | 228/255 [01:34<00:11,  2.42it/s, loss=0.195, v_num=4, train_loss=0.158, train_accuracy=0.944, train_f1_score=0.944, val_loss=0.443, val_accuracy=0.859, val_f1_score=0.859]\n",
      "Epoch 31:  90%|█████████ | 230/255 [01:34<00:10,  2.43it/s, loss=0.195, v_num=4, train_loss=0.158, train_accuracy=0.944, train_f1_score=0.944, val_loss=0.443, val_accuracy=0.859, val_f1_score=0.859]\n",
      "Epoch 31:  91%|█████████ | 232/255 [01:34<00:09,  2.45it/s, loss=0.195, v_num=4, train_loss=0.158, train_accuracy=0.944, train_f1_score=0.944, val_loss=0.443, val_accuracy=0.859, val_f1_score=0.859]\n",
      "Epoch 31:  92%|█████████▏| 234/255 [01:34<00:08,  2.46it/s, loss=0.195, v_num=4, train_loss=0.158, train_accuracy=0.944, train_f1_score=0.944, val_loss=0.443, val_accuracy=0.859, val_f1_score=0.859]\n",
      "Epoch 31:  93%|█████████▎| 236/255 [01:35<00:07,  2.48it/s, loss=0.195, v_num=4, train_loss=0.158, train_accuracy=0.944, train_f1_score=0.944, val_loss=0.443, val_accuracy=0.859, val_f1_score=0.859]\n",
      "Epoch 31:  93%|█████████▎| 238/255 [01:35<00:06,  2.50it/s, loss=0.195, v_num=4, train_loss=0.158, train_accuracy=0.944, train_f1_score=0.944, val_loss=0.443, val_accuracy=0.859, val_f1_score=0.859]\n",
      "Epoch 31:  94%|█████████▍| 240/255 [01:35<00:05,  2.51it/s, loss=0.195, v_num=4, train_loss=0.158, train_accuracy=0.944, train_f1_score=0.944, val_loss=0.443, val_accuracy=0.859, val_f1_score=0.859]\n",
      "Epoch 31:  95%|█████████▍| 242/255 [01:35<00:05,  2.53it/s, loss=0.195, v_num=4, train_loss=0.158, train_accuracy=0.944, train_f1_score=0.944, val_loss=0.443, val_accuracy=0.859, val_f1_score=0.859]\n",
      "Epoch 31:  96%|█████████▌| 244/255 [01:35<00:04,  2.55it/s, loss=0.195, v_num=4, train_loss=0.158, train_accuracy=0.944, train_f1_score=0.944, val_loss=0.443, val_accuracy=0.859, val_f1_score=0.859]\n",
      "Epoch 31:  96%|█████████▋| 246/255 [01:36<00:03,  2.56it/s, loss=0.195, v_num=4, train_loss=0.158, train_accuracy=0.944, train_f1_score=0.944, val_loss=0.443, val_accuracy=0.859, val_f1_score=0.859]\n",
      "Epoch 31:  97%|█████████▋| 248/255 [01:36<00:02,  2.58it/s, loss=0.195, v_num=4, train_loss=0.158, train_accuracy=0.944, train_f1_score=0.944, val_loss=0.443, val_accuracy=0.859, val_f1_score=0.859]\n",
      "Epoch 31:  98%|█████████▊| 250/255 [01:36<00:01,  2.59it/s, loss=0.195, v_num=4, train_loss=0.158, train_accuracy=0.944, train_f1_score=0.944, val_loss=0.443, val_accuracy=0.859, val_f1_score=0.859]\n",
      "Epoch 31:  99%|█████████▉| 252/255 [01:36<00:01,  2.61it/s, loss=0.195, v_num=4, train_loss=0.158, train_accuracy=0.944, train_f1_score=0.944, val_loss=0.443, val_accuracy=0.859, val_f1_score=0.859]\n",
      "Epoch 31: 100%|█████████▉| 254/255 [01:36<00:00,  2.62it/s, loss=0.195, v_num=4, train_loss=0.158, train_accuracy=0.944, train_f1_score=0.944, val_loss=0.443, val_accuracy=0.859, val_f1_score=0.859]\n",
      "Epoch 31: 100%|██████████| 255/255 [01:37<00:00,  2.60it/s, loss=0.195, v_num=4, train_loss=0.158, train_accuracy=0.944, train_f1_score=0.944, val_loss=0.393, val_accuracy=0.869, val_f1_score=0.869]\n",
      "Epoch 31: 100%|██████████| 255/255 [01:37<00:00,  2.60it/s, loss=0.195, v_num=4, train_loss=0.158, train_accuracy=0.944, train_f1_score=0.944, val_loss=0.393, val_accuracy=0.869, val_f1_score=0.869]"
     ]
    },
    {
     "name": "stderr",
     "output_type": "stream",
     "text": [
      "Epoch 31, global step 7231: val_loss reached 0.39346 (best 0.38835), saving model to \"/Workspace/code/checkpoints/best-checkpoint-corr-mi-0-v2.ckpt\" as top 2\n"
     ]
    },
    {
     "name": "stdout",
     "output_type": "stream",
     "text": [
      "Epoch 32:  89%|████████▊ | 226/255 [01:26<00:11,  2.60it/s, loss=0.189, v_num=4, train_loss=0.216, train_accuracy=0.833, train_f1_score=0.833, val_loss=0.393, val_accuracy=0.869, val_f1_score=0.869] \n",
      "Validating: 0it [00:00, ?it/s]\u001b[A\n",
      "Validating:   0%|          | 0/29 [00:00<?, ?it/s]\u001b[A\n",
      "Epoch 32:  89%|████████▉ | 228/255 [01:34<00:11,  2.41it/s, loss=0.189, v_num=4, train_loss=0.216, train_accuracy=0.833, train_f1_score=0.833, val_loss=0.393, val_accuracy=0.869, val_f1_score=0.869]\n",
      "Validating:   7%|▋         | 2/29 [00:07<01:25,  3.18s/it]\u001b[A\n",
      "Epoch 32:  90%|█████████ | 230/255 [01:34<00:10,  2.43it/s, loss=0.189, v_num=4, train_loss=0.216, train_accuracy=0.833, train_f1_score=0.833, val_loss=0.393, val_accuracy=0.869, val_f1_score=0.869]\n",
      "Epoch 32:  91%|█████████ | 232/255 [01:34<00:09,  2.44it/s, loss=0.189, v_num=4, train_loss=0.216, train_accuracy=0.833, train_f1_score=0.833, val_loss=0.393, val_accuracy=0.869, val_f1_score=0.869]\n",
      "Epoch 32:  92%|█████████▏| 234/255 [01:35<00:08,  2.46it/s, loss=0.189, v_num=4, train_loss=0.216, train_accuracy=0.833, train_f1_score=0.833, val_loss=0.393, val_accuracy=0.869, val_f1_score=0.869]\n",
      "Epoch 32:  93%|█████████▎| 236/255 [01:35<00:07,  2.47it/s, loss=0.189, v_num=4, train_loss=0.216, train_accuracy=0.833, train_f1_score=0.833, val_loss=0.393, val_accuracy=0.869, val_f1_score=0.869]\n",
      "Epoch 32:  93%|█████████▎| 238/255 [01:35<00:06,  2.49it/s, loss=0.189, v_num=4, train_loss=0.216, train_accuracy=0.833, train_f1_score=0.833, val_loss=0.393, val_accuracy=0.869, val_f1_score=0.869]\n",
      "Epoch 32:  94%|█████████▍| 240/255 [01:35<00:05,  2.51it/s, loss=0.189, v_num=4, train_loss=0.216, train_accuracy=0.833, train_f1_score=0.833, val_loss=0.393, val_accuracy=0.869, val_f1_score=0.869]\n",
      "Epoch 32:  95%|█████████▍| 242/255 [01:35<00:05,  2.52it/s, loss=0.189, v_num=4, train_loss=0.216, train_accuracy=0.833, train_f1_score=0.833, val_loss=0.393, val_accuracy=0.869, val_f1_score=0.869]\n",
      "Epoch 32:  96%|█████████▌| 244/255 [01:36<00:04,  2.54it/s, loss=0.189, v_num=4, train_loss=0.216, train_accuracy=0.833, train_f1_score=0.833, val_loss=0.393, val_accuracy=0.869, val_f1_score=0.869]\n",
      "Epoch 32:  96%|█████████▋| 246/255 [01:36<00:03,  2.56it/s, loss=0.189, v_num=4, train_loss=0.216, train_accuracy=0.833, train_f1_score=0.833, val_loss=0.393, val_accuracy=0.869, val_f1_score=0.869]\n",
      "Epoch 32:  97%|█████████▋| 248/255 [01:36<00:02,  2.57it/s, loss=0.189, v_num=4, train_loss=0.216, train_accuracy=0.833, train_f1_score=0.833, val_loss=0.393, val_accuracy=0.869, val_f1_score=0.869]\n",
      "Epoch 32:  98%|█████████▊| 250/255 [01:36<00:01,  2.59it/s, loss=0.189, v_num=4, train_loss=0.216, train_accuracy=0.833, train_f1_score=0.833, val_loss=0.393, val_accuracy=0.869, val_f1_score=0.869]\n",
      "Epoch 32:  99%|█████████▉| 252/255 [01:36<00:01,  2.60it/s, loss=0.189, v_num=4, train_loss=0.216, train_accuracy=0.833, train_f1_score=0.833, val_loss=0.393, val_accuracy=0.869, val_f1_score=0.869]\n",
      "Epoch 32: 100%|█████████▉| 254/255 [01:36<00:00,  2.62it/s, loss=0.189, v_num=4, train_loss=0.216, train_accuracy=0.833, train_f1_score=0.833, val_loss=0.393, val_accuracy=0.869, val_f1_score=0.869]\n",
      "Epoch 32: 100%|██████████| 255/255 [01:38<00:00,  2.60it/s, loss=0.189, v_num=4, train_loss=0.216, train_accuracy=0.833, train_f1_score=0.833, val_loss=0.431, val_accuracy=0.869, val_f1_score=0.869]\n",
      "Epoch 32: 100%|██████████| 255/255 [01:38<00:00,  2.60it/s, loss=0.189, v_num=4, train_loss=0.216, train_accuracy=0.833, train_f1_score=0.833, val_loss=0.431, val_accuracy=0.869, val_f1_score=0.869]"
     ]
    },
    {
     "name": "stderr",
     "output_type": "stream",
     "text": [
      "Epoch 32, global step 7457: val_loss was not in top 2\n"
     ]
    },
    {
     "name": "stdout",
     "output_type": "stream",
     "text": [
      "Epoch 33:  89%|████████▊ | 226/255 [01:26<00:11,  2.60it/s, loss=0.191, v_num=4, train_loss=0.466, train_accuracy=0.722, train_f1_score=0.722, val_loss=0.431, val_accuracy=0.869, val_f1_score=0.869] \n",
      "Validating: 0it [00:00, ?it/s]\u001b[A\n",
      "Validating:   0%|          | 0/29 [00:00<?, ?it/s]\u001b[A\n",
      "Epoch 33:  89%|████████▉ | 228/255 [01:34<00:11,  2.41it/s, loss=0.191, v_num=4, train_loss=0.466, train_accuracy=0.722, train_f1_score=0.722, val_loss=0.431, val_accuracy=0.869, val_f1_score=0.869]\n",
      "Epoch 33:  90%|█████████ | 230/255 [01:34<00:10,  2.43it/s, loss=0.191, v_num=4, train_loss=0.466, train_accuracy=0.722, train_f1_score=0.722, val_loss=0.431, val_accuracy=0.869, val_f1_score=0.869]\n",
      "Epoch 33:  91%|█████████ | 232/255 [01:34<00:09,  2.45it/s, loss=0.191, v_num=4, train_loss=0.466, train_accuracy=0.722, train_f1_score=0.722, val_loss=0.431, val_accuracy=0.869, val_f1_score=0.869]\n",
      "Epoch 33:  92%|█████████▏| 234/255 [01:35<00:08,  2.46it/s, loss=0.191, v_num=4, train_loss=0.466, train_accuracy=0.722, train_f1_score=0.722, val_loss=0.431, val_accuracy=0.869, val_f1_score=0.869]\n",
      "Epoch 33:  93%|█████████▎| 236/255 [01:35<00:07,  2.48it/s, loss=0.191, v_num=4, train_loss=0.466, train_accuracy=0.722, train_f1_score=0.722, val_loss=0.431, val_accuracy=0.869, val_f1_score=0.869]\n",
      "Epoch 33:  93%|█████████▎| 238/255 [01:35<00:06,  2.50it/s, loss=0.191, v_num=4, train_loss=0.466, train_accuracy=0.722, train_f1_score=0.722, val_loss=0.431, val_accuracy=0.869, val_f1_score=0.869]\n",
      "Epoch 33:  94%|█████████▍| 240/255 [01:35<00:05,  2.51it/s, loss=0.191, v_num=4, train_loss=0.466, train_accuracy=0.722, train_f1_score=0.722, val_loss=0.431, val_accuracy=0.869, val_f1_score=0.869]\n",
      "Epoch 33:  95%|█████████▍| 242/255 [01:35<00:05,  2.53it/s, loss=0.191, v_num=4, train_loss=0.466, train_accuracy=0.722, train_f1_score=0.722, val_loss=0.431, val_accuracy=0.869, val_f1_score=0.869]\n",
      "Epoch 33:  96%|█████████▌| 244/255 [01:35<00:04,  2.54it/s, loss=0.191, v_num=4, train_loss=0.466, train_accuracy=0.722, train_f1_score=0.722, val_loss=0.431, val_accuracy=0.869, val_f1_score=0.869]\n",
      "Epoch 33:  96%|█████████▋| 246/255 [01:36<00:03,  2.56it/s, loss=0.191, v_num=4, train_loss=0.466, train_accuracy=0.722, train_f1_score=0.722, val_loss=0.431, val_accuracy=0.869, val_f1_score=0.869]\n",
      "Epoch 33:  97%|█████████▋| 248/255 [01:36<00:02,  2.58it/s, loss=0.191, v_num=4, train_loss=0.466, train_accuracy=0.722, train_f1_score=0.722, val_loss=0.431, val_accuracy=0.869, val_f1_score=0.869]\n",
      "Epoch 33:  98%|█████████▊| 250/255 [01:36<00:01,  2.59it/s, loss=0.191, v_num=4, train_loss=0.466, train_accuracy=0.722, train_f1_score=0.722, val_loss=0.431, val_accuracy=0.869, val_f1_score=0.869]\n",
      "Epoch 33:  99%|█████████▉| 252/255 [01:36<00:01,  2.61it/s, loss=0.191, v_num=4, train_loss=0.466, train_accuracy=0.722, train_f1_score=0.722, val_loss=0.431, val_accuracy=0.869, val_f1_score=0.869]\n",
      "Epoch 33: 100%|█████████▉| 254/255 [01:36<00:00,  2.62it/s, loss=0.191, v_num=4, train_loss=0.466, train_accuracy=0.722, train_f1_score=0.722, val_loss=0.431, val_accuracy=0.869, val_f1_score=0.869]\n",
      "Epoch 33: 100%|██████████| 255/255 [01:38<00:00,  2.60it/s, loss=0.191, v_num=4, train_loss=0.466, train_accuracy=0.722, train_f1_score=0.722, val_loss=0.408, val_accuracy=0.859, val_f1_score=0.859]\n",
      "Epoch 33: 100%|██████████| 255/255 [01:38<00:00,  2.60it/s, loss=0.191, v_num=4, train_loss=0.466, train_accuracy=0.722, train_f1_score=0.722, val_loss=0.408, val_accuracy=0.859, val_f1_score=0.859]"
     ]
    },
    {
     "name": "stderr",
     "output_type": "stream",
     "text": [
      "Epoch 33, global step 7683: val_loss was not in top 2\n"
     ]
    },
    {
     "name": "stdout",
     "output_type": "stream",
     "text": [
      "Epoch 34:  89%|████████▊ | 226/255 [01:26<00:11,  2.60it/s, loss=0.225, v_num=4, train_loss=0.223, train_accuracy=0.889, train_f1_score=0.889, val_loss=0.408, val_accuracy=0.859, val_f1_score=0.859] \n",
      "Validating: 0it [00:00, ?it/s]\u001b[A\n",
      "Validating:   0%|          | 0/29 [00:00<?, ?it/s]\u001b[A\n",
      "Epoch 34:  89%|████████▉ | 228/255 [01:34<00:11,  2.41it/s, loss=0.225, v_num=4, train_loss=0.223, train_accuracy=0.889, train_f1_score=0.889, val_loss=0.408, val_accuracy=0.859, val_f1_score=0.859]\n",
      "Epoch 34:  90%|█████████ | 230/255 [01:34<00:10,  2.42it/s, loss=0.225, v_num=4, train_loss=0.223, train_accuracy=0.889, train_f1_score=0.889, val_loss=0.408, val_accuracy=0.859, val_f1_score=0.859]\n",
      "Epoch 34:  91%|█████████ | 232/255 [01:35<00:09,  2.44it/s, loss=0.225, v_num=4, train_loss=0.223, train_accuracy=0.889, train_f1_score=0.889, val_loss=0.408, val_accuracy=0.859, val_f1_score=0.859]\n",
      "Epoch 34:  92%|█████████▏| 234/255 [01:35<00:08,  2.46it/s, loss=0.225, v_num=4, train_loss=0.223, train_accuracy=0.889, train_f1_score=0.889, val_loss=0.408, val_accuracy=0.859, val_f1_score=0.859]\n",
      "Epoch 34:  93%|█████████▎| 236/255 [01:35<00:07,  2.47it/s, loss=0.225, v_num=4, train_loss=0.223, train_accuracy=0.889, train_f1_score=0.889, val_loss=0.408, val_accuracy=0.859, val_f1_score=0.859]\n",
      "Epoch 34:  93%|█████████▎| 238/255 [01:35<00:06,  2.49it/s, loss=0.225, v_num=4, train_loss=0.223, train_accuracy=0.889, train_f1_score=0.889, val_loss=0.408, val_accuracy=0.859, val_f1_score=0.859]\n",
      "Epoch 34:  94%|█████████▍| 240/255 [01:35<00:05,  2.50it/s, loss=0.225, v_num=4, train_loss=0.223, train_accuracy=0.889, train_f1_score=0.889, val_loss=0.408, val_accuracy=0.859, val_f1_score=0.859]\n",
      "Epoch 34:  95%|█████████▍| 242/255 [01:36<00:05,  2.52it/s, loss=0.225, v_num=4, train_loss=0.223, train_accuracy=0.889, train_f1_score=0.889, val_loss=0.408, val_accuracy=0.859, val_f1_score=0.859]\n",
      "Epoch 34:  96%|█████████▌| 244/255 [01:36<00:04,  2.54it/s, loss=0.225, v_num=4, train_loss=0.223, train_accuracy=0.889, train_f1_score=0.889, val_loss=0.408, val_accuracy=0.859, val_f1_score=0.859]\n",
      "Epoch 34:  96%|█████████▋| 246/255 [01:36<00:03,  2.55it/s, loss=0.225, v_num=4, train_loss=0.223, train_accuracy=0.889, train_f1_score=0.889, val_loss=0.408, val_accuracy=0.859, val_f1_score=0.859]\n",
      "Epoch 34:  97%|█████████▋| 248/255 [01:36<00:02,  2.57it/s, loss=0.225, v_num=4, train_loss=0.223, train_accuracy=0.889, train_f1_score=0.889, val_loss=0.408, val_accuracy=0.859, val_f1_score=0.859]\n",
      "Epoch 34:  98%|█████████▊| 250/255 [01:36<00:01,  2.58it/s, loss=0.225, v_num=4, train_loss=0.223, train_accuracy=0.889, train_f1_score=0.889, val_loss=0.408, val_accuracy=0.859, val_f1_score=0.859]\n",
      "Epoch 34:  99%|█████████▉| 252/255 [01:36<00:01,  2.60it/s, loss=0.225, v_num=4, train_loss=0.223, train_accuracy=0.889, train_f1_score=0.889, val_loss=0.408, val_accuracy=0.859, val_f1_score=0.859]\n",
      "Epoch 34: 100%|█████████▉| 254/255 [01:37<00:00,  2.62it/s, loss=0.225, v_num=4, train_loss=0.223, train_accuracy=0.889, train_f1_score=0.889, val_loss=0.408, val_accuracy=0.859, val_f1_score=0.859]\n",
      "Epoch 34: 100%|██████████| 255/255 [01:38<00:00,  2.59it/s, loss=0.225, v_num=4, train_loss=0.223, train_accuracy=0.889, train_f1_score=0.889, val_loss=0.495, val_accuracy=0.842, val_f1_score=0.842]\n",
      "Epoch 34: 100%|██████████| 255/255 [01:38<00:00,  2.59it/s, loss=0.225, v_num=4, train_loss=0.223, train_accuracy=0.889, train_f1_score=0.889, val_loss=0.495, val_accuracy=0.842, val_f1_score=0.842]"
     ]
    },
    {
     "name": "stderr",
     "output_type": "stream",
     "text": [
      "Epoch 34, global step 7909: val_loss was not in top 2\n"
     ]
    },
    {
     "name": "stdout",
     "output_type": "stream",
     "text": [
      "Epoch 35:  89%|████████▊ | 226/255 [01:26<00:11,  2.60it/s, loss=0.366, v_num=4, train_loss=0.580, train_accuracy=0.889, train_f1_score=0.889, val_loss=0.495, val_accuracy=0.842, val_f1_score=0.842] \n",
      "Validating: 0it [00:00, ?it/s]\u001b[A\n",
      "Validating:   0%|          | 0/29 [00:00<?, ?it/s]\u001b[A\n",
      "Epoch 35:  89%|████████▉ | 228/255 [01:34<00:11,  2.41it/s, loss=0.366, v_num=4, train_loss=0.580, train_accuracy=0.889, train_f1_score=0.889, val_loss=0.495, val_accuracy=0.842, val_f1_score=0.842]\n",
      "Epoch 35:  90%|█████████ | 230/255 [01:34<00:10,  2.43it/s, loss=0.366, v_num=4, train_loss=0.580, train_accuracy=0.889, train_f1_score=0.889, val_loss=0.495, val_accuracy=0.842, val_f1_score=0.842]\n",
      "Epoch 35:  91%|█████████ | 232/255 [01:34<00:09,  2.44it/s, loss=0.366, v_num=4, train_loss=0.580, train_accuracy=0.889, train_f1_score=0.889, val_loss=0.495, val_accuracy=0.842, val_f1_score=0.842]\n",
      "Epoch 35:  92%|█████████▏| 234/255 [01:35<00:08,  2.46it/s, loss=0.366, v_num=4, train_loss=0.580, train_accuracy=0.889, train_f1_score=0.889, val_loss=0.495, val_accuracy=0.842, val_f1_score=0.842]\n",
      "Epoch 35:  93%|█████████▎| 236/255 [01:35<00:07,  2.47it/s, loss=0.366, v_num=4, train_loss=0.580, train_accuracy=0.889, train_f1_score=0.889, val_loss=0.495, val_accuracy=0.842, val_f1_score=0.842]\n",
      "Epoch 35:  93%|█████████▎| 238/255 [01:35<00:06,  2.49it/s, loss=0.366, v_num=4, train_loss=0.580, train_accuracy=0.889, train_f1_score=0.889, val_loss=0.495, val_accuracy=0.842, val_f1_score=0.842]\n",
      "Epoch 35:  94%|█████████▍| 240/255 [01:35<00:05,  2.51it/s, loss=0.366, v_num=4, train_loss=0.580, train_accuracy=0.889, train_f1_score=0.889, val_loss=0.495, val_accuracy=0.842, val_f1_score=0.842]\n",
      "Epoch 35:  95%|█████████▍| 242/255 [01:35<00:05,  2.52it/s, loss=0.366, v_num=4, train_loss=0.580, train_accuracy=0.889, train_f1_score=0.889, val_loss=0.495, val_accuracy=0.842, val_f1_score=0.842]\n",
      "Epoch 35:  96%|█████████▌| 244/255 [01:36<00:04,  2.54it/s, loss=0.366, v_num=4, train_loss=0.580, train_accuracy=0.889, train_f1_score=0.889, val_loss=0.495, val_accuracy=0.842, val_f1_score=0.842]\n",
      "Epoch 35:  96%|█████████▋| 246/255 [01:36<00:03,  2.56it/s, loss=0.366, v_num=4, train_loss=0.580, train_accuracy=0.889, train_f1_score=0.889, val_loss=0.495, val_accuracy=0.842, val_f1_score=0.842]\n",
      "Epoch 35:  97%|█████████▋| 248/255 [01:36<00:02,  2.57it/s, loss=0.366, v_num=4, train_loss=0.580, train_accuracy=0.889, train_f1_score=0.889, val_loss=0.495, val_accuracy=0.842, val_f1_score=0.842]\n",
      "Epoch 35:  98%|█████████▊| 250/255 [01:36<00:01,  2.59it/s, loss=0.366, v_num=4, train_loss=0.580, train_accuracy=0.889, train_f1_score=0.889, val_loss=0.495, val_accuracy=0.842, val_f1_score=0.842]\n",
      "Epoch 35:  99%|█████████▉| 252/255 [01:36<00:01,  2.60it/s, loss=0.366, v_num=4, train_loss=0.580, train_accuracy=0.889, train_f1_score=0.889, val_loss=0.495, val_accuracy=0.842, val_f1_score=0.842]\n",
      "Epoch 35: 100%|█████████▉| 254/255 [01:36<00:00,  2.62it/s, loss=0.366, v_num=4, train_loss=0.580, train_accuracy=0.889, train_f1_score=0.889, val_loss=0.495, val_accuracy=0.842, val_f1_score=0.842]\n",
      "Epoch 35: 100%|██████████| 255/255 [01:38<00:00,  2.60it/s, loss=0.366, v_num=4, train_loss=0.580, train_accuracy=0.889, train_f1_score=0.889, val_loss=0.423, val_accuracy=0.839, val_f1_score=0.839]\n",
      "Epoch 35: 100%|██████████| 255/255 [01:38<00:00,  2.60it/s, loss=0.366, v_num=4, train_loss=0.580, train_accuracy=0.889, train_f1_score=0.889, val_loss=0.423, val_accuracy=0.839, val_f1_score=0.839]"
     ]
    },
    {
     "name": "stderr",
     "output_type": "stream",
     "text": [
      "Epoch 35, global step 8135: val_loss was not in top 2\n"
     ]
    },
    {
     "name": "stdout",
     "output_type": "stream",
     "text": [
      "Epoch 36:  89%|████████▊ | 226/255 [01:27<00:11,  2.59it/s, loss=0.24, v_num=4, train_loss=0.286, train_accuracy=0.722, train_f1_score=0.722, val_loss=0.423, val_accuracy=0.839, val_f1_score=0.839] \n",
      "Validating: 0it [00:00, ?it/s]\u001b[A\n",
      "Validating:   0%|          | 0/29 [00:00<?, ?it/s]\u001b[A\n",
      "Epoch 36:  89%|████████▉ | 228/255 [01:35<00:11,  2.40it/s, loss=0.24, v_num=4, train_loss=0.286, train_accuracy=0.722, train_f1_score=0.722, val_loss=0.423, val_accuracy=0.839, val_f1_score=0.839]\n",
      "Epoch 36:  90%|█████████ | 230/255 [01:35<00:10,  2.41it/s, loss=0.24, v_num=4, train_loss=0.286, train_accuracy=0.722, train_f1_score=0.722, val_loss=0.423, val_accuracy=0.839, val_f1_score=0.839]\n",
      "Epoch 36:  91%|█████████ | 232/255 [01:35<00:09,  2.43it/s, loss=0.24, v_num=4, train_loss=0.286, train_accuracy=0.722, train_f1_score=0.722, val_loss=0.423, val_accuracy=0.839, val_f1_score=0.839]\n",
      "Epoch 36:  92%|█████████▏| 234/255 [01:35<00:08,  2.45it/s, loss=0.24, v_num=4, train_loss=0.286, train_accuracy=0.722, train_f1_score=0.722, val_loss=0.423, val_accuracy=0.839, val_f1_score=0.839]\n",
      "Epoch 36:  93%|█████████▎| 236/255 [01:35<00:07,  2.46it/s, loss=0.24, v_num=4, train_loss=0.286, train_accuracy=0.722, train_f1_score=0.722, val_loss=0.423, val_accuracy=0.839, val_f1_score=0.839]\n",
      "Epoch 36:  93%|█████████▎| 238/255 [01:35<00:06,  2.48it/s, loss=0.24, v_num=4, train_loss=0.286, train_accuracy=0.722, train_f1_score=0.722, val_loss=0.423, val_accuracy=0.839, val_f1_score=0.839]\n",
      "Epoch 36:  94%|█████████▍| 240/255 [01:36<00:06,  2.50it/s, loss=0.24, v_num=4, train_loss=0.286, train_accuracy=0.722, train_f1_score=0.722, val_loss=0.423, val_accuracy=0.839, val_f1_score=0.839]\n",
      "Epoch 36:  95%|█████████▍| 242/255 [01:36<00:05,  2.51it/s, loss=0.24, v_num=4, train_loss=0.286, train_accuracy=0.722, train_f1_score=0.722, val_loss=0.423, val_accuracy=0.839, val_f1_score=0.839]\n",
      "Epoch 36:  96%|█████████▌| 244/255 [01:36<00:04,  2.53it/s, loss=0.24, v_num=4, train_loss=0.286, train_accuracy=0.722, train_f1_score=0.722, val_loss=0.423, val_accuracy=0.839, val_f1_score=0.839]\n",
      "Epoch 36:  96%|█████████▋| 246/255 [01:36<00:03,  2.54it/s, loss=0.24, v_num=4, train_loss=0.286, train_accuracy=0.722, train_f1_score=0.722, val_loss=0.423, val_accuracy=0.839, val_f1_score=0.839]\n",
      "Epoch 36:  97%|█████████▋| 248/255 [01:36<00:02,  2.56it/s, loss=0.24, v_num=4, train_loss=0.286, train_accuracy=0.722, train_f1_score=0.722, val_loss=0.423, val_accuracy=0.839, val_f1_score=0.839]\n",
      "Epoch 36:  98%|█████████▊| 250/255 [01:37<00:01,  2.58it/s, loss=0.24, v_num=4, train_loss=0.286, train_accuracy=0.722, train_f1_score=0.722, val_loss=0.423, val_accuracy=0.839, val_f1_score=0.839]\n",
      "Epoch 36:  99%|█████████▉| 252/255 [01:37<00:01,  2.59it/s, loss=0.24, v_num=4, train_loss=0.286, train_accuracy=0.722, train_f1_score=0.722, val_loss=0.423, val_accuracy=0.839, val_f1_score=0.839]\n",
      "Epoch 36: 100%|█████████▉| 254/255 [01:37<00:00,  2.61it/s, loss=0.24, v_num=4, train_loss=0.286, train_accuracy=0.722, train_f1_score=0.722, val_loss=0.423, val_accuracy=0.839, val_f1_score=0.839]\n",
      "Epoch 36: 100%|██████████| 255/255 [01:38<00:00,  2.59it/s, loss=0.24, v_num=4, train_loss=0.286, train_accuracy=0.722, train_f1_score=0.722, val_loss=0.375, val_accuracy=0.853, val_f1_score=0.853]\n",
      "Epoch 36: 100%|██████████| 255/255 [01:38<00:00,  2.59it/s, loss=0.24, v_num=4, train_loss=0.286, train_accuracy=0.722, train_f1_score=0.722, val_loss=0.375, val_accuracy=0.853, val_f1_score=0.853]"
     ]
    },
    {
     "name": "stderr",
     "output_type": "stream",
     "text": [
      "Epoch 36, global step 8361: val_loss reached 0.37534 (best 0.37534), saving model to \"/Workspace/code/checkpoints/best-checkpoint-corr-mi-0-v2.ckpt\" as top 2\n"
     ]
    },
    {
     "name": "stdout",
     "output_type": "stream",
     "text": [
      "Epoch 37:  89%|████████▊ | 226/255 [01:27<00:11,  2.59it/s, loss=0.192, v_num=4, train_loss=0.184, train_accuracy=0.889, train_f1_score=0.889, val_loss=0.375, val_accuracy=0.853, val_f1_score=0.853] \n",
      "Validating: 0it [00:00, ?it/s]\u001b[A\n",
      "Validating:   0%|          | 0/29 [00:00<?, ?it/s]\u001b[A\n",
      "Epoch 37:  89%|████████▉ | 228/255 [01:34<00:11,  2.41it/s, loss=0.192, v_num=4, train_loss=0.184, train_accuracy=0.889, train_f1_score=0.889, val_loss=0.375, val_accuracy=0.853, val_f1_score=0.853]\n",
      "Epoch 37:  90%|█████████ | 230/255 [01:34<00:10,  2.42it/s, loss=0.192, v_num=4, train_loss=0.184, train_accuracy=0.889, train_f1_score=0.889, val_loss=0.375, val_accuracy=0.853, val_f1_score=0.853]\n",
      "Epoch 37:  91%|█████████ | 232/255 [01:35<00:09,  2.44it/s, loss=0.192, v_num=4, train_loss=0.184, train_accuracy=0.889, train_f1_score=0.889, val_loss=0.375, val_accuracy=0.853, val_f1_score=0.853]\n",
      "Epoch 37:  92%|█████████▏| 234/255 [01:35<00:08,  2.45it/s, loss=0.192, v_num=4, train_loss=0.184, train_accuracy=0.889, train_f1_score=0.889, val_loss=0.375, val_accuracy=0.853, val_f1_score=0.853]\n",
      "Epoch 37:  93%|█████████▎| 236/255 [01:35<00:07,  2.47it/s, loss=0.192, v_num=4, train_loss=0.184, train_accuracy=0.889, train_f1_score=0.889, val_loss=0.375, val_accuracy=0.853, val_f1_score=0.853]\n",
      "Epoch 37:  93%|█████████▎| 238/255 [01:35<00:06,  2.49it/s, loss=0.192, v_num=4, train_loss=0.184, train_accuracy=0.889, train_f1_score=0.889, val_loss=0.375, val_accuracy=0.853, val_f1_score=0.853]\n",
      "Epoch 37:  94%|█████████▍| 240/255 [01:35<00:05,  2.50it/s, loss=0.192, v_num=4, train_loss=0.184, train_accuracy=0.889, train_f1_score=0.889, val_loss=0.375, val_accuracy=0.853, val_f1_score=0.853]\n",
      "Epoch 37:  95%|█████████▍| 242/255 [01:36<00:05,  2.52it/s, loss=0.192, v_num=4, train_loss=0.184, train_accuracy=0.889, train_f1_score=0.889, val_loss=0.375, val_accuracy=0.853, val_f1_score=0.853]\n",
      "Epoch 37:  96%|█████████▌| 244/255 [01:36<00:04,  2.54it/s, loss=0.192, v_num=4, train_loss=0.184, train_accuracy=0.889, train_f1_score=0.889, val_loss=0.375, val_accuracy=0.853, val_f1_score=0.853]\n",
      "Epoch 37:  96%|█████████▋| 246/255 [01:36<00:03,  2.55it/s, loss=0.192, v_num=4, train_loss=0.184, train_accuracy=0.889, train_f1_score=0.889, val_loss=0.375, val_accuracy=0.853, val_f1_score=0.853]\n",
      "Epoch 37:  97%|█████████▋| 248/255 [01:36<00:02,  2.57it/s, loss=0.192, v_num=4, train_loss=0.184, train_accuracy=0.889, train_f1_score=0.889, val_loss=0.375, val_accuracy=0.853, val_f1_score=0.853]\n",
      "Epoch 37:  98%|█████████▊| 250/255 [01:36<00:01,  2.58it/s, loss=0.192, v_num=4, train_loss=0.184, train_accuracy=0.889, train_f1_score=0.889, val_loss=0.375, val_accuracy=0.853, val_f1_score=0.853]\n",
      "Epoch 37:  99%|█████████▉| 252/255 [01:36<00:01,  2.60it/s, loss=0.192, v_num=4, train_loss=0.184, train_accuracy=0.889, train_f1_score=0.889, val_loss=0.375, val_accuracy=0.853, val_f1_score=0.853]\n",
      "Epoch 37: 100%|█████████▉| 254/255 [01:37<00:00,  2.61it/s, loss=0.192, v_num=4, train_loss=0.184, train_accuracy=0.889, train_f1_score=0.889, val_loss=0.375, val_accuracy=0.853, val_f1_score=0.853]\n",
      "Epoch 37: 100%|██████████| 255/255 [01:38<00:00,  2.59it/s, loss=0.192, v_num=4, train_loss=0.184, train_accuracy=0.889, train_f1_score=0.889, val_loss=0.385, val_accuracy=0.869, val_f1_score=0.869]\n",
      "Epoch 37: 100%|██████████| 255/255 [01:38<00:00,  2.59it/s, loss=0.192, v_num=4, train_loss=0.184, train_accuracy=0.889, train_f1_score=0.889, val_loss=0.385, val_accuracy=0.869, val_f1_score=0.869]"
     ]
    },
    {
     "name": "stderr",
     "output_type": "stream",
     "text": [
      "Epoch 37, global step 8587: val_loss reached 0.38540 (best 0.37534), saving model to \"/Workspace/code/checkpoints/best-checkpoint-corr-mi-0-v3.ckpt\" as top 2\n"
     ]
    },
    {
     "name": "stdout",
     "output_type": "stream",
     "text": [
      "Epoch 38:  89%|████████▊ | 226/255 [01:27<00:11,  2.59it/s, loss=0.195, v_num=4, train_loss=0.344, train_accuracy=0.889, train_f1_score=0.889, val_loss=0.385, val_accuracy=0.869, val_f1_score=0.869] \n",
      "Validating: 0it [00:00, ?it/s]\u001b[A\n",
      "Validating:   0%|          | 0/29 [00:00<?, ?it/s]\u001b[A\n",
      "Epoch 38:  89%|████████▉ | 228/255 [01:35<00:11,  2.40it/s, loss=0.195, v_num=4, train_loss=0.344, train_accuracy=0.889, train_f1_score=0.889, val_loss=0.385, val_accuracy=0.869, val_f1_score=0.869]\n",
      "Epoch 38:  90%|█████████ | 230/255 [01:35<00:10,  2.42it/s, loss=0.195, v_num=4, train_loss=0.344, train_accuracy=0.889, train_f1_score=0.889, val_loss=0.385, val_accuracy=0.869, val_f1_score=0.869]\n",
      "Epoch 38:  91%|█████████ | 232/255 [01:35<00:09,  2.43it/s, loss=0.195, v_num=4, train_loss=0.344, train_accuracy=0.889, train_f1_score=0.889, val_loss=0.385, val_accuracy=0.869, val_f1_score=0.869]\n",
      "Epoch 38:  92%|█████████▏| 234/255 [01:35<00:08,  2.45it/s, loss=0.195, v_num=4, train_loss=0.344, train_accuracy=0.889, train_f1_score=0.889, val_loss=0.385, val_accuracy=0.869, val_f1_score=0.869]\n",
      "Epoch 38:  93%|█████████▎| 236/255 [01:35<00:07,  2.47it/s, loss=0.195, v_num=4, train_loss=0.344, train_accuracy=0.889, train_f1_score=0.889, val_loss=0.385, val_accuracy=0.869, val_f1_score=0.869]\n",
      "Epoch 38:  93%|█████████▎| 238/255 [01:35<00:06,  2.48it/s, loss=0.195, v_num=4, train_loss=0.344, train_accuracy=0.889, train_f1_score=0.889, val_loss=0.385, val_accuracy=0.869, val_f1_score=0.869]\n",
      "Epoch 38:  94%|█████████▍| 240/255 [01:36<00:06,  2.50it/s, loss=0.195, v_num=4, train_loss=0.344, train_accuracy=0.889, train_f1_score=0.889, val_loss=0.385, val_accuracy=0.869, val_f1_score=0.869]\n",
      "Epoch 38:  95%|█████████▍| 242/255 [01:36<00:05,  2.51it/s, loss=0.195, v_num=4, train_loss=0.344, train_accuracy=0.889, train_f1_score=0.889, val_loss=0.385, val_accuracy=0.869, val_f1_score=0.869]\n",
      "Epoch 38:  96%|█████████▌| 244/255 [01:36<00:04,  2.53it/s, loss=0.195, v_num=4, train_loss=0.344, train_accuracy=0.889, train_f1_score=0.889, val_loss=0.385, val_accuracy=0.869, val_f1_score=0.869]\n",
      "Epoch 38:  96%|█████████▋| 246/255 [01:36<00:03,  2.55it/s, loss=0.195, v_num=4, train_loss=0.344, train_accuracy=0.889, train_f1_score=0.889, val_loss=0.385, val_accuracy=0.869, val_f1_score=0.869]\n",
      "Epoch 38:  97%|█████████▋| 248/255 [01:36<00:02,  2.56it/s, loss=0.195, v_num=4, train_loss=0.344, train_accuracy=0.889, train_f1_score=0.889, val_loss=0.385, val_accuracy=0.869, val_f1_score=0.869]\n",
      "Epoch 38:  98%|█████████▊| 250/255 [01:36<00:01,  2.58it/s, loss=0.195, v_num=4, train_loss=0.344, train_accuracy=0.889, train_f1_score=0.889, val_loss=0.385, val_accuracy=0.869, val_f1_score=0.869]\n",
      "Epoch 38:  99%|█████████▉| 252/255 [01:37<00:01,  2.60it/s, loss=0.195, v_num=4, train_loss=0.344, train_accuracy=0.889, train_f1_score=0.889, val_loss=0.385, val_accuracy=0.869, val_f1_score=0.869]\n",
      "Epoch 38: 100%|█████████▉| 254/255 [01:37<00:00,  2.61it/s, loss=0.195, v_num=4, train_loss=0.344, train_accuracy=0.889, train_f1_score=0.889, val_loss=0.385, val_accuracy=0.869, val_f1_score=0.869]\n",
      "Epoch 38: 100%|██████████| 255/255 [01:38<00:00,  2.59it/s, loss=0.195, v_num=4, train_loss=0.344, train_accuracy=0.889, train_f1_score=0.889, val_loss=0.358, val_accuracy=0.859, val_f1_score=0.859]\n",
      "Epoch 38: 100%|██████████| 255/255 [01:38<00:00,  2.59it/s, loss=0.195, v_num=4, train_loss=0.344, train_accuracy=0.889, train_f1_score=0.889, val_loss=0.358, val_accuracy=0.859, val_f1_score=0.859]"
     ]
    },
    {
     "name": "stderr",
     "output_type": "stream",
     "text": [
      "Epoch 38, global step 8813: val_loss reached 0.35758 (best 0.35758), saving model to \"/Workspace/code/checkpoints/best-checkpoint-corr-mi-0-v3.ckpt\" as top 2\n"
     ]
    },
    {
     "name": "stdout",
     "output_type": "stream",
     "text": [
      "Epoch 39:  89%|████████▊ | 226/255 [01:27<00:11,  2.58it/s, loss=0.263, v_num=4, train_loss=0.223, train_accuracy=0.833, train_f1_score=0.833, val_loss=0.358, val_accuracy=0.859, val_f1_score=0.859]\n",
      "Validating: 0it [00:00, ?it/s]\u001b[A\n",
      "Validating:   0%|          | 0/29 [00:00<?, ?it/s]\u001b[A\n",
      "Epoch 39:  89%|████████▉ | 228/255 [01:35<00:11,  2.39it/s, loss=0.263, v_num=4, train_loss=0.223, train_accuracy=0.833, train_f1_score=0.833, val_loss=0.358, val_accuracy=0.859, val_f1_score=0.859]\n",
      "Epoch 39:  90%|█████████ | 230/255 [01:35<00:10,  2.41it/s, loss=0.263, v_num=4, train_loss=0.223, train_accuracy=0.833, train_f1_score=0.833, val_loss=0.358, val_accuracy=0.859, val_f1_score=0.859]\n",
      "Epoch 39:  91%|█████████ | 232/255 [01:35<00:09,  2.43it/s, loss=0.263, v_num=4, train_loss=0.223, train_accuracy=0.833, train_f1_score=0.833, val_loss=0.358, val_accuracy=0.859, val_f1_score=0.859]\n",
      "Epoch 39:  92%|█████████▏| 234/255 [01:35<00:08,  2.44it/s, loss=0.263, v_num=4, train_loss=0.223, train_accuracy=0.833, train_f1_score=0.833, val_loss=0.358, val_accuracy=0.859, val_f1_score=0.859]\n",
      "Epoch 39:  93%|█████████▎| 236/255 [01:35<00:07,  2.46it/s, loss=0.263, v_num=4, train_loss=0.223, train_accuracy=0.833, train_f1_score=0.833, val_loss=0.358, val_accuracy=0.859, val_f1_score=0.859]\n",
      "Epoch 39:  93%|█████████▎| 238/255 [01:36<00:06,  2.48it/s, loss=0.263, v_num=4, train_loss=0.223, train_accuracy=0.833, train_f1_score=0.833, val_loss=0.358, val_accuracy=0.859, val_f1_score=0.859]\n",
      "Epoch 39:  94%|█████████▍| 240/255 [01:36<00:06,  2.49it/s, loss=0.263, v_num=4, train_loss=0.223, train_accuracy=0.833, train_f1_score=0.833, val_loss=0.358, val_accuracy=0.859, val_f1_score=0.859]\n",
      "Epoch 39:  95%|█████████▍| 242/255 [01:36<00:05,  2.51it/s, loss=0.263, v_num=4, train_loss=0.223, train_accuracy=0.833, train_f1_score=0.833, val_loss=0.358, val_accuracy=0.859, val_f1_score=0.859]\n",
      "Epoch 39:  96%|█████████▌| 244/255 [01:36<00:04,  2.53it/s, loss=0.263, v_num=4, train_loss=0.223, train_accuracy=0.833, train_f1_score=0.833, val_loss=0.358, val_accuracy=0.859, val_f1_score=0.859]\n",
      "Epoch 39:  96%|█████████▋| 246/255 [01:36<00:03,  2.54it/s, loss=0.263, v_num=4, train_loss=0.223, train_accuracy=0.833, train_f1_score=0.833, val_loss=0.358, val_accuracy=0.859, val_f1_score=0.859]\n",
      "Epoch 39:  97%|█████████▋| 248/255 [01:36<00:02,  2.56it/s, loss=0.263, v_num=4, train_loss=0.223, train_accuracy=0.833, train_f1_score=0.833, val_loss=0.358, val_accuracy=0.859, val_f1_score=0.859]\n",
      "Epoch 39:  98%|█████████▊| 250/255 [01:36<00:01,  2.58it/s, loss=0.263, v_num=4, train_loss=0.223, train_accuracy=0.833, train_f1_score=0.833, val_loss=0.358, val_accuracy=0.859, val_f1_score=0.859]\n",
      "Epoch 39:  99%|█████████▉| 252/255 [01:37<00:01,  2.59it/s, loss=0.263, v_num=4, train_loss=0.223, train_accuracy=0.833, train_f1_score=0.833, val_loss=0.358, val_accuracy=0.859, val_f1_score=0.859]\n",
      "Epoch 39: 100%|█████████▉| 254/255 [01:37<00:00,  2.61it/s, loss=0.263, v_num=4, train_loss=0.223, train_accuracy=0.833, train_f1_score=0.833, val_loss=0.358, val_accuracy=0.859, val_f1_score=0.859]\n",
      "Epoch 39: 100%|██████████| 255/255 [01:38<00:00,  2.59it/s, loss=0.263, v_num=4, train_loss=0.223, train_accuracy=0.833, train_f1_score=0.833, val_loss=0.394, val_accuracy=0.859, val_f1_score=0.859]\n",
      "Epoch 39: 100%|██████████| 255/255 [01:38<00:00,  2.59it/s, loss=0.263, v_num=4, train_loss=0.223, train_accuracy=0.833, train_f1_score=0.833, val_loss=0.394, val_accuracy=0.859, val_f1_score=0.859]"
     ]
    },
    {
     "name": "stderr",
     "output_type": "stream",
     "text": [
      "Epoch 39, global step 9039: val_loss was not in top 2\n"
     ]
    },
    {
     "name": "stdout",
     "output_type": "stream",
     "text": [
      "Epoch 40:  89%|████████▊ | 226/255 [01:27<00:11,  2.59it/s, loss=0.236, v_num=4, train_loss=0.341, train_accuracy=0.889, train_f1_score=0.889, val_loss=0.394, val_accuracy=0.859, val_f1_score=0.859] \n",
      "Validating: 0it [00:00, ?it/s]\u001b[A\n",
      "Validating:   0%|          | 0/29 [00:00<?, ?it/s]\u001b[A\n",
      "Epoch 40:  89%|████████▉ | 228/255 [01:35<00:11,  2.40it/s, loss=0.236, v_num=4, train_loss=0.341, train_accuracy=0.889, train_f1_score=0.889, val_loss=0.394, val_accuracy=0.859, val_f1_score=0.859]\n",
      "Epoch 40:  90%|█████████ | 230/255 [01:35<00:10,  2.42it/s, loss=0.236, v_num=4, train_loss=0.341, train_accuracy=0.889, train_f1_score=0.889, val_loss=0.394, val_accuracy=0.859, val_f1_score=0.859]\n",
      "Epoch 40:  91%|█████████ | 232/255 [01:35<00:09,  2.43it/s, loss=0.236, v_num=4, train_loss=0.341, train_accuracy=0.889, train_f1_score=0.889, val_loss=0.394, val_accuracy=0.859, val_f1_score=0.859]\n",
      "Epoch 40:  92%|█████████▏| 234/255 [01:35<00:08,  2.45it/s, loss=0.236, v_num=4, train_loss=0.341, train_accuracy=0.889, train_f1_score=0.889, val_loss=0.394, val_accuracy=0.859, val_f1_score=0.859]\n",
      "Epoch 40:  93%|█████████▎| 236/255 [01:35<00:07,  2.47it/s, loss=0.236, v_num=4, train_loss=0.341, train_accuracy=0.889, train_f1_score=0.889, val_loss=0.394, val_accuracy=0.859, val_f1_score=0.859]\n",
      "Epoch 40:  93%|█████████▎| 238/255 [01:35<00:06,  2.48it/s, loss=0.236, v_num=4, train_loss=0.341, train_accuracy=0.889, train_f1_score=0.889, val_loss=0.394, val_accuracy=0.859, val_f1_score=0.859]\n",
      "Epoch 40:  94%|█████████▍| 240/255 [01:36<00:06,  2.50it/s, loss=0.236, v_num=4, train_loss=0.341, train_accuracy=0.889, train_f1_score=0.889, val_loss=0.394, val_accuracy=0.859, val_f1_score=0.859]\n",
      "Epoch 40:  95%|█████████▍| 242/255 [01:36<00:05,  2.51it/s, loss=0.236, v_num=4, train_loss=0.341, train_accuracy=0.889, train_f1_score=0.889, val_loss=0.394, val_accuracy=0.859, val_f1_score=0.859]\n",
      "Epoch 40:  96%|█████████▌| 244/255 [01:36<00:04,  2.53it/s, loss=0.236, v_num=4, train_loss=0.341, train_accuracy=0.889, train_f1_score=0.889, val_loss=0.394, val_accuracy=0.859, val_f1_score=0.859]\n",
      "Epoch 40:  96%|█████████▋| 246/255 [01:36<00:03,  2.55it/s, loss=0.236, v_num=4, train_loss=0.341, train_accuracy=0.889, train_f1_score=0.889, val_loss=0.394, val_accuracy=0.859, val_f1_score=0.859]\n",
      "Epoch 40:  97%|█████████▋| 248/255 [01:36<00:02,  2.56it/s, loss=0.236, v_num=4, train_loss=0.341, train_accuracy=0.889, train_f1_score=0.889, val_loss=0.394, val_accuracy=0.859, val_f1_score=0.859]\n",
      "Epoch 40:  98%|█████████▊| 250/255 [01:36<00:01,  2.58it/s, loss=0.236, v_num=4, train_loss=0.341, train_accuracy=0.889, train_f1_score=0.889, val_loss=0.394, val_accuracy=0.859, val_f1_score=0.859]\n",
      "Epoch 40:  99%|█████████▉| 252/255 [01:37<00:01,  2.59it/s, loss=0.236, v_num=4, train_loss=0.341, train_accuracy=0.889, train_f1_score=0.889, val_loss=0.394, val_accuracy=0.859, val_f1_score=0.859]\n",
      "Epoch 40: 100%|█████████▉| 254/255 [01:37<00:00,  2.61it/s, loss=0.236, v_num=4, train_loss=0.341, train_accuracy=0.889, train_f1_score=0.889, val_loss=0.394, val_accuracy=0.859, val_f1_score=0.859]\n",
      "Epoch 40: 100%|██████████| 255/255 [01:38<00:00,  2.59it/s, loss=0.236, v_num=4, train_loss=0.341, train_accuracy=0.889, train_f1_score=0.889, val_loss=0.370, val_accuracy=0.868, val_f1_score=0.868]\n",
      "Epoch 40: 100%|██████████| 255/255 [01:38<00:00,  2.59it/s, loss=0.236, v_num=4, train_loss=0.341, train_accuracy=0.889, train_f1_score=0.889, val_loss=0.370, val_accuracy=0.868, val_f1_score=0.868]"
     ]
    },
    {
     "name": "stderr",
     "output_type": "stream",
     "text": [
      "Epoch 40, global step 9265: val_loss reached 0.36964 (best 0.35758), saving model to \"/Workspace/code/checkpoints/best-checkpoint-corr-mi-0-v2.ckpt\" as top 2\n"
     ]
    },
    {
     "name": "stdout",
     "output_type": "stream",
     "text": [
      "Epoch 41:  89%|████████▊ | 226/255 [01:26<00:11,  2.60it/s, loss=0.211, v_num=4, train_loss=0.393, train_accuracy=0.722, train_f1_score=0.722, val_loss=0.370, val_accuracy=0.868, val_f1_score=0.868]\n",
      "Validating: 0it [00:00, ?it/s]\u001b[A\n",
      "Validating:   0%|          | 0/29 [00:00<?, ?it/s]\u001b[A\n",
      "Epoch 41:  89%|████████▉ | 228/255 [01:34<00:11,  2.41it/s, loss=0.211, v_num=4, train_loss=0.393, train_accuracy=0.722, train_f1_score=0.722, val_loss=0.370, val_accuracy=0.868, val_f1_score=0.868]\n",
      "Epoch 41:  90%|█████████ | 230/255 [01:34<00:10,  2.43it/s, loss=0.211, v_num=4, train_loss=0.393, train_accuracy=0.722, train_f1_score=0.722, val_loss=0.370, val_accuracy=0.868, val_f1_score=0.868]\n",
      "Epoch 41:  91%|█████████ | 232/255 [01:34<00:09,  2.44it/s, loss=0.211, v_num=4, train_loss=0.393, train_accuracy=0.722, train_f1_score=0.722, val_loss=0.370, val_accuracy=0.868, val_f1_score=0.868]\n",
      "Epoch 41:  92%|█████████▏| 234/255 [01:35<00:08,  2.46it/s, loss=0.211, v_num=4, train_loss=0.393, train_accuracy=0.722, train_f1_score=0.722, val_loss=0.370, val_accuracy=0.868, val_f1_score=0.868]\n",
      "Epoch 41:  93%|█████████▎| 236/255 [01:35<00:07,  2.48it/s, loss=0.211, v_num=4, train_loss=0.393, train_accuracy=0.722, train_f1_score=0.722, val_loss=0.370, val_accuracy=0.868, val_f1_score=0.868]\n",
      "Epoch 41:  93%|█████████▎| 238/255 [01:35<00:06,  2.49it/s, loss=0.211, v_num=4, train_loss=0.393, train_accuracy=0.722, train_f1_score=0.722, val_loss=0.370, val_accuracy=0.868, val_f1_score=0.868]\n",
      "Epoch 41:  94%|█████████▍| 240/255 [01:35<00:05,  2.51it/s, loss=0.211, v_num=4, train_loss=0.393, train_accuracy=0.722, train_f1_score=0.722, val_loss=0.370, val_accuracy=0.868, val_f1_score=0.868]\n",
      "Epoch 41:  95%|█████████▍| 242/255 [01:35<00:05,  2.52it/s, loss=0.211, v_num=4, train_loss=0.393, train_accuracy=0.722, train_f1_score=0.722, val_loss=0.370, val_accuracy=0.868, val_f1_score=0.868]\n",
      "Epoch 41:  96%|█████████▌| 244/255 [01:36<00:04,  2.54it/s, loss=0.211, v_num=4, train_loss=0.393, train_accuracy=0.722, train_f1_score=0.722, val_loss=0.370, val_accuracy=0.868, val_f1_score=0.868]\n",
      "Epoch 41:  96%|█████████▋| 246/255 [01:36<00:03,  2.56it/s, loss=0.211, v_num=4, train_loss=0.393, train_accuracy=0.722, train_f1_score=0.722, val_loss=0.370, val_accuracy=0.868, val_f1_score=0.868]\n",
      "Epoch 41:  97%|█████████▋| 248/255 [01:36<00:02,  2.57it/s, loss=0.211, v_num=4, train_loss=0.393, train_accuracy=0.722, train_f1_score=0.722, val_loss=0.370, val_accuracy=0.868, val_f1_score=0.868]\n",
      "Epoch 41:  98%|█████████▊| 250/255 [01:36<00:01,  2.59it/s, loss=0.211, v_num=4, train_loss=0.393, train_accuracy=0.722, train_f1_score=0.722, val_loss=0.370, val_accuracy=0.868, val_f1_score=0.868]\n",
      "Epoch 41:  99%|█████████▉| 252/255 [01:36<00:01,  2.60it/s, loss=0.211, v_num=4, train_loss=0.393, train_accuracy=0.722, train_f1_score=0.722, val_loss=0.370, val_accuracy=0.868, val_f1_score=0.868]\n",
      "Epoch 41: 100%|█████████▉| 254/255 [01:36<00:00,  2.62it/s, loss=0.211, v_num=4, train_loss=0.393, train_accuracy=0.722, train_f1_score=0.722, val_loss=0.370, val_accuracy=0.868, val_f1_score=0.868]\n",
      "Epoch 41: 100%|██████████| 255/255 [01:38<00:00,  2.60it/s, loss=0.211, v_num=4, train_loss=0.393, train_accuracy=0.722, train_f1_score=0.722, val_loss=0.345, val_accuracy=0.870, val_f1_score=0.870]\n",
      "Epoch 41: 100%|██████████| 255/255 [01:38<00:00,  2.60it/s, loss=0.211, v_num=4, train_loss=0.393, train_accuracy=0.722, train_f1_score=0.722, val_loss=0.345, val_accuracy=0.870, val_f1_score=0.870]"
     ]
    },
    {
     "name": "stderr",
     "output_type": "stream",
     "text": [
      "Epoch 41, global step 9491: val_loss reached 0.34456 (best 0.34456), saving model to \"/Workspace/code/checkpoints/best-checkpoint-corr-mi-0-v2.ckpt\" as top 2\n"
     ]
    },
    {
     "name": "stdout",
     "output_type": "stream",
     "text": [
      "Epoch 42:  89%|████████▊ | 226/255 [01:26<00:11,  2.60it/s, loss=0.214, v_num=4, train_loss=0.273, train_accuracy=0.889, train_f1_score=0.889, val_loss=0.345, val_accuracy=0.870, val_f1_score=0.870] \n",
      "Validating: 0it [00:00, ?it/s]\u001b[A\n",
      "Validating:   0%|          | 0/29 [00:00<?, ?it/s]\u001b[A\n",
      "Epoch 42:  89%|████████▉ | 228/255 [01:34<00:11,  2.41it/s, loss=0.214, v_num=4, train_loss=0.273, train_accuracy=0.889, train_f1_score=0.889, val_loss=0.345, val_accuracy=0.870, val_f1_score=0.870]\n",
      "Epoch 42:  90%|█████████ | 230/255 [01:34<00:10,  2.43it/s, loss=0.214, v_num=4, train_loss=0.273, train_accuracy=0.889, train_f1_score=0.889, val_loss=0.345, val_accuracy=0.870, val_f1_score=0.870]\n",
      "Epoch 42:  91%|█████████ | 232/255 [01:34<00:09,  2.45it/s, loss=0.214, v_num=4, train_loss=0.273, train_accuracy=0.889, train_f1_score=0.889, val_loss=0.345, val_accuracy=0.870, val_f1_score=0.870]\n",
      "Epoch 42:  92%|█████████▏| 234/255 [01:35<00:08,  2.46it/s, loss=0.214, v_num=4, train_loss=0.273, train_accuracy=0.889, train_f1_score=0.889, val_loss=0.345, val_accuracy=0.870, val_f1_score=0.870]\n",
      "Epoch 42:  93%|█████████▎| 236/255 [01:35<00:07,  2.48it/s, loss=0.214, v_num=4, train_loss=0.273, train_accuracy=0.889, train_f1_score=0.889, val_loss=0.345, val_accuracy=0.870, val_f1_score=0.870]\n",
      "Epoch 42:  93%|█████████▎| 238/255 [01:35<00:06,  2.49it/s, loss=0.214, v_num=4, train_loss=0.273, train_accuracy=0.889, train_f1_score=0.889, val_loss=0.345, val_accuracy=0.870, val_f1_score=0.870]\n",
      "Epoch 42:  94%|█████████▍| 240/255 [01:35<00:05,  2.51it/s, loss=0.214, v_num=4, train_loss=0.273, train_accuracy=0.889, train_f1_score=0.889, val_loss=0.345, val_accuracy=0.870, val_f1_score=0.870]\n",
      "Epoch 42:  95%|█████████▍| 242/255 [01:35<00:05,  2.53it/s, loss=0.214, v_num=4, train_loss=0.273, train_accuracy=0.889, train_f1_score=0.889, val_loss=0.345, val_accuracy=0.870, val_f1_score=0.870]\n",
      "Epoch 42:  96%|█████████▌| 244/255 [01:35<00:04,  2.54it/s, loss=0.214, v_num=4, train_loss=0.273, train_accuracy=0.889, train_f1_score=0.889, val_loss=0.345, val_accuracy=0.870, val_f1_score=0.870]\n",
      "Epoch 42:  96%|█████████▋| 246/255 [01:36<00:03,  2.56it/s, loss=0.214, v_num=4, train_loss=0.273, train_accuracy=0.889, train_f1_score=0.889, val_loss=0.345, val_accuracy=0.870, val_f1_score=0.870]\n",
      "Epoch 42:  97%|█████████▋| 248/255 [01:36<00:02,  2.58it/s, loss=0.214, v_num=4, train_loss=0.273, train_accuracy=0.889, train_f1_score=0.889, val_loss=0.345, val_accuracy=0.870, val_f1_score=0.870]\n",
      "Epoch 42:  98%|█████████▊| 250/255 [01:36<00:01,  2.59it/s, loss=0.214, v_num=4, train_loss=0.273, train_accuracy=0.889, train_f1_score=0.889, val_loss=0.345, val_accuracy=0.870, val_f1_score=0.870]\n",
      "Epoch 42:  99%|█████████▉| 252/255 [01:36<00:01,  2.61it/s, loss=0.214, v_num=4, train_loss=0.273, train_accuracy=0.889, train_f1_score=0.889, val_loss=0.345, val_accuracy=0.870, val_f1_score=0.870]\n",
      "Epoch 42: 100%|█████████▉| 254/255 [01:36<00:00,  2.62it/s, loss=0.214, v_num=4, train_loss=0.273, train_accuracy=0.889, train_f1_score=0.889, val_loss=0.345, val_accuracy=0.870, val_f1_score=0.870]\n",
      "Epoch 42: 100%|██████████| 255/255 [01:37<00:00,  2.60it/s, loss=0.214, v_num=4, train_loss=0.273, train_accuracy=0.889, train_f1_score=0.889, val_loss=0.331, val_accuracy=0.864, val_f1_score=0.864]\n",
      "Epoch 42: 100%|██████████| 255/255 [01:37<00:00,  2.60it/s, loss=0.214, v_num=4, train_loss=0.273, train_accuracy=0.889, train_f1_score=0.889, val_loss=0.331, val_accuracy=0.864, val_f1_score=0.864]"
     ]
    },
    {
     "name": "stderr",
     "output_type": "stream",
     "text": [
      "Epoch 42, global step 9717: val_loss reached 0.33132 (best 0.33132), saving model to \"/Workspace/code/checkpoints/best-checkpoint-corr-mi-0-v3.ckpt\" as top 2\n"
     ]
    },
    {
     "name": "stdout",
     "output_type": "stream",
     "text": [
      "Epoch 43:  89%|████████▊ | 226/255 [01:26<00:11,  2.60it/s, loss=0.24, v_num=4, train_loss=0.216, train_accuracy=0.889, train_f1_score=0.889, val_loss=0.331, val_accuracy=0.864, val_f1_score=0.864]  \n",
      "Validating: 0it [00:00, ?it/s]\u001b[A\n",
      "Validating:   0%|          | 0/29 [00:00<?, ?it/s]\u001b[A\n",
      "Epoch 43:  89%|████████▉ | 228/255 [01:34<00:11,  2.41it/s, loss=0.24, v_num=4, train_loss=0.216, train_accuracy=0.889, train_f1_score=0.889, val_loss=0.331, val_accuracy=0.864, val_f1_score=0.864]\n",
      "Epoch 43:  90%|█████████ | 230/255 [01:34<00:10,  2.42it/s, loss=0.24, v_num=4, train_loss=0.216, train_accuracy=0.889, train_f1_score=0.889, val_loss=0.331, val_accuracy=0.864, val_f1_score=0.864]\n",
      "Epoch 43:  91%|█████████ | 232/255 [01:35<00:09,  2.44it/s, loss=0.24, v_num=4, train_loss=0.216, train_accuracy=0.889, train_f1_score=0.889, val_loss=0.331, val_accuracy=0.864, val_f1_score=0.864]\n",
      "Epoch 43:  92%|█████████▏| 234/255 [01:35<00:08,  2.46it/s, loss=0.24, v_num=4, train_loss=0.216, train_accuracy=0.889, train_f1_score=0.889, val_loss=0.331, val_accuracy=0.864, val_f1_score=0.864]\n",
      "Epoch 43:  93%|█████████▎| 236/255 [01:35<00:07,  2.47it/s, loss=0.24, v_num=4, train_loss=0.216, train_accuracy=0.889, train_f1_score=0.889, val_loss=0.331, val_accuracy=0.864, val_f1_score=0.864]\n",
      "Epoch 43:  93%|█████████▎| 238/255 [01:35<00:06,  2.49it/s, loss=0.24, v_num=4, train_loss=0.216, train_accuracy=0.889, train_f1_score=0.889, val_loss=0.331, val_accuracy=0.864, val_f1_score=0.864]\n",
      "Epoch 43:  94%|█████████▍| 240/255 [01:35<00:05,  2.51it/s, loss=0.24, v_num=4, train_loss=0.216, train_accuracy=0.889, train_f1_score=0.889, val_loss=0.331, val_accuracy=0.864, val_f1_score=0.864]\n",
      "Epoch 43:  95%|█████████▍| 242/255 [01:35<00:05,  2.52it/s, loss=0.24, v_num=4, train_loss=0.216, train_accuracy=0.889, train_f1_score=0.889, val_loss=0.331, val_accuracy=0.864, val_f1_score=0.864]\n",
      "Epoch 43:  96%|█████████▌| 244/255 [01:36<00:04,  2.54it/s, loss=0.24, v_num=4, train_loss=0.216, train_accuracy=0.889, train_f1_score=0.889, val_loss=0.331, val_accuracy=0.864, val_f1_score=0.864]\n",
      "Epoch 43:  96%|█████████▋| 246/255 [01:36<00:03,  2.55it/s, loss=0.24, v_num=4, train_loss=0.216, train_accuracy=0.889, train_f1_score=0.889, val_loss=0.331, val_accuracy=0.864, val_f1_score=0.864]\n",
      "Epoch 43:  97%|█████████▋| 248/255 [01:36<00:02,  2.57it/s, loss=0.24, v_num=4, train_loss=0.216, train_accuracy=0.889, train_f1_score=0.889, val_loss=0.331, val_accuracy=0.864, val_f1_score=0.864]\n",
      "Epoch 43:  98%|█████████▊| 250/255 [01:36<00:01,  2.59it/s, loss=0.24, v_num=4, train_loss=0.216, train_accuracy=0.889, train_f1_score=0.889, val_loss=0.331, val_accuracy=0.864, val_f1_score=0.864]\n",
      "Epoch 43:  99%|█████████▉| 252/255 [01:36<00:01,  2.60it/s, loss=0.24, v_num=4, train_loss=0.216, train_accuracy=0.889, train_f1_score=0.889, val_loss=0.331, val_accuracy=0.864, val_f1_score=0.864]\n",
      "Epoch 43: 100%|█████████▉| 254/255 [01:37<00:00,  2.62it/s, loss=0.24, v_num=4, train_loss=0.216, train_accuracy=0.889, train_f1_score=0.889, val_loss=0.331, val_accuracy=0.864, val_f1_score=0.864]\n",
      "Epoch 43: 100%|██████████| 255/255 [01:38<00:00,  2.60it/s, loss=0.24, v_num=4, train_loss=0.216, train_accuracy=0.889, train_f1_score=0.889, val_loss=0.384, val_accuracy=0.857, val_f1_score=0.857]\n",
      "Epoch 43: 100%|██████████| 255/255 [01:38<00:00,  2.60it/s, loss=0.24, v_num=4, train_loss=0.216, train_accuracy=0.889, train_f1_score=0.889, val_loss=0.384, val_accuracy=0.857, val_f1_score=0.857]"
     ]
    },
    {
     "name": "stderr",
     "output_type": "stream",
     "text": [
      "Epoch 43, global step 9943: val_loss was not in top 2\n"
     ]
    },
    {
     "name": "stdout",
     "output_type": "stream",
     "text": [
      "Epoch 44:  89%|████████▊ | 226/255 [01:26<00:11,  2.60it/s, loss=0.22, v_num=4, train_loss=0.270, train_accuracy=0.889, train_f1_score=0.889, val_loss=0.384, val_accuracy=0.857, val_f1_score=0.857]  \n",
      "Validating: 0it [00:00, ?it/s]\u001b[A\n",
      "Validating:   0%|          | 0/29 [00:00<?, ?it/s]\u001b[A\n",
      "Epoch 44:  89%|████████▉ | 228/255 [01:34<00:11,  2.41it/s, loss=0.22, v_num=4, train_loss=0.270, train_accuracy=0.889, train_f1_score=0.889, val_loss=0.384, val_accuracy=0.857, val_f1_score=0.857]\n",
      "Epoch 44:  90%|█████████ | 230/255 [01:34<00:10,  2.42it/s, loss=0.22, v_num=4, train_loss=0.270, train_accuracy=0.889, train_f1_score=0.889, val_loss=0.384, val_accuracy=0.857, val_f1_score=0.857]\n",
      "Epoch 44:  91%|█████████ | 232/255 [01:35<00:09,  2.44it/s, loss=0.22, v_num=4, train_loss=0.270, train_accuracy=0.889, train_f1_score=0.889, val_loss=0.384, val_accuracy=0.857, val_f1_score=0.857]\n",
      "Epoch 44:  92%|█████████▏| 234/255 [01:35<00:08,  2.45it/s, loss=0.22, v_num=4, train_loss=0.270, train_accuracy=0.889, train_f1_score=0.889, val_loss=0.384, val_accuracy=0.857, val_f1_score=0.857]\n",
      "Epoch 44:  93%|█████████▎| 236/255 [01:35<00:07,  2.47it/s, loss=0.22, v_num=4, train_loss=0.270, train_accuracy=0.889, train_f1_score=0.889, val_loss=0.384, val_accuracy=0.857, val_f1_score=0.857]\n",
      "Epoch 44:  93%|█████████▎| 238/255 [01:35<00:06,  2.49it/s, loss=0.22, v_num=4, train_loss=0.270, train_accuracy=0.889, train_f1_score=0.889, val_loss=0.384, val_accuracy=0.857, val_f1_score=0.857]\n",
      "Epoch 44:  94%|█████████▍| 240/255 [01:35<00:05,  2.50it/s, loss=0.22, v_num=4, train_loss=0.270, train_accuracy=0.889, train_f1_score=0.889, val_loss=0.384, val_accuracy=0.857, val_f1_score=0.857]\n",
      "Epoch 44:  95%|█████████▍| 242/255 [01:36<00:05,  2.52it/s, loss=0.22, v_num=4, train_loss=0.270, train_accuracy=0.889, train_f1_score=0.889, val_loss=0.384, val_accuracy=0.857, val_f1_score=0.857]\n",
      "Epoch 44:  96%|█████████▌| 244/255 [01:36<00:04,  2.54it/s, loss=0.22, v_num=4, train_loss=0.270, train_accuracy=0.889, train_f1_score=0.889, val_loss=0.384, val_accuracy=0.857, val_f1_score=0.857]\n",
      "Epoch 44:  96%|█████████▋| 246/255 [01:36<00:03,  2.55it/s, loss=0.22, v_num=4, train_loss=0.270, train_accuracy=0.889, train_f1_score=0.889, val_loss=0.384, val_accuracy=0.857, val_f1_score=0.857]\n",
      "Epoch 44:  97%|█████████▋| 248/255 [01:36<00:02,  2.57it/s, loss=0.22, v_num=4, train_loss=0.270, train_accuracy=0.889, train_f1_score=0.889, val_loss=0.384, val_accuracy=0.857, val_f1_score=0.857]\n",
      "Epoch 44:  98%|█████████▊| 250/255 [01:36<00:01,  2.58it/s, loss=0.22, v_num=4, train_loss=0.270, train_accuracy=0.889, train_f1_score=0.889, val_loss=0.384, val_accuracy=0.857, val_f1_score=0.857]\n",
      "Epoch 44:  99%|█████████▉| 252/255 [01:36<00:01,  2.60it/s, loss=0.22, v_num=4, train_loss=0.270, train_accuracy=0.889, train_f1_score=0.889, val_loss=0.384, val_accuracy=0.857, val_f1_score=0.857]\n",
      "Epoch 44: 100%|█████████▉| 254/255 [01:37<00:00,  2.62it/s, loss=0.22, v_num=4, train_loss=0.270, train_accuracy=0.889, train_f1_score=0.889, val_loss=0.384, val_accuracy=0.857, val_f1_score=0.857]\n",
      "Epoch 44: 100%|██████████| 255/255 [01:38<00:00,  2.59it/s, loss=0.22, v_num=4, train_loss=0.270, train_accuracy=0.889, train_f1_score=0.889, val_loss=0.380, val_accuracy=0.860, val_f1_score=0.860]\n",
      "Epoch 44: 100%|██████████| 255/255 [01:38<00:00,  2.59it/s, loss=0.22, v_num=4, train_loss=0.270, train_accuracy=0.889, train_f1_score=0.889, val_loss=0.380, val_accuracy=0.860, val_f1_score=0.860]"
     ]
    },
    {
     "name": "stderr",
     "output_type": "stream",
     "text": [
      "Epoch 44, global step 10169: val_loss was not in top 2\n"
     ]
    },
    {
     "name": "stdout",
     "output_type": "stream",
     "text": [
      "Epoch 45:  89%|████████▊ | 226/255 [01:27<00:11,  2.59it/s, loss=0.139, v_num=4, train_loss=0.386, train_accuracy=0.778, train_f1_score=0.778, val_loss=0.380, val_accuracy=0.860, val_f1_score=0.860] \n",
      "Validating: 0it [00:00, ?it/s]\u001b[A\n",
      "Validating:   0%|          | 0/29 [00:00<?, ?it/s]\u001b[A\n",
      "Epoch 45:  89%|████████▉ | 228/255 [01:34<00:11,  2.40it/s, loss=0.139, v_num=4, train_loss=0.386, train_accuracy=0.778, train_f1_score=0.778, val_loss=0.380, val_accuracy=0.860, val_f1_score=0.860]\n",
      "Epoch 45:  90%|█████████ | 230/255 [01:35<00:10,  2.42it/s, loss=0.139, v_num=4, train_loss=0.386, train_accuracy=0.778, train_f1_score=0.778, val_loss=0.380, val_accuracy=0.860, val_f1_score=0.860]\n",
      "Epoch 45:  91%|█████████ | 232/255 [01:35<00:09,  2.44it/s, loss=0.139, v_num=4, train_loss=0.386, train_accuracy=0.778, train_f1_score=0.778, val_loss=0.380, val_accuracy=0.860, val_f1_score=0.860]\n",
      "Epoch 45:  92%|█████████▏| 234/255 [01:35<00:08,  2.45it/s, loss=0.139, v_num=4, train_loss=0.386, train_accuracy=0.778, train_f1_score=0.778, val_loss=0.380, val_accuracy=0.860, val_f1_score=0.860]\n",
      "Epoch 45:  93%|█████████▎| 236/255 [01:35<00:07,  2.47it/s, loss=0.139, v_num=4, train_loss=0.386, train_accuracy=0.778, train_f1_score=0.778, val_loss=0.380, val_accuracy=0.860, val_f1_score=0.860]\n",
      "Epoch 45:  93%|█████████▎| 238/255 [01:35<00:06,  2.48it/s, loss=0.139, v_num=4, train_loss=0.386, train_accuracy=0.778, train_f1_score=0.778, val_loss=0.380, val_accuracy=0.860, val_f1_score=0.860]\n",
      "Epoch 45:  94%|█████████▍| 240/255 [01:35<00:05,  2.50it/s, loss=0.139, v_num=4, train_loss=0.386, train_accuracy=0.778, train_f1_score=0.778, val_loss=0.380, val_accuracy=0.860, val_f1_score=0.860]\n",
      "Epoch 45:  95%|█████████▍| 242/255 [01:36<00:05,  2.52it/s, loss=0.139, v_num=4, train_loss=0.386, train_accuracy=0.778, train_f1_score=0.778, val_loss=0.380, val_accuracy=0.860, val_f1_score=0.860]\n",
      "Epoch 45:  96%|█████████▌| 244/255 [01:36<00:04,  2.53it/s, loss=0.139, v_num=4, train_loss=0.386, train_accuracy=0.778, train_f1_score=0.778, val_loss=0.380, val_accuracy=0.860, val_f1_score=0.860]\n",
      "Epoch 45:  96%|█████████▋| 246/255 [01:36<00:03,  2.55it/s, loss=0.139, v_num=4, train_loss=0.386, train_accuracy=0.778, train_f1_score=0.778, val_loss=0.380, val_accuracy=0.860, val_f1_score=0.860]\n",
      "Epoch 45:  97%|█████████▋| 248/255 [01:36<00:02,  2.56it/s, loss=0.139, v_num=4, train_loss=0.386, train_accuracy=0.778, train_f1_score=0.778, val_loss=0.380, val_accuracy=0.860, val_f1_score=0.860]\n",
      "Epoch 45:  98%|█████████▊| 250/255 [01:36<00:01,  2.58it/s, loss=0.139, v_num=4, train_loss=0.386, train_accuracy=0.778, train_f1_score=0.778, val_loss=0.380, val_accuracy=0.860, val_f1_score=0.860]\n",
      "Epoch 45:  99%|█████████▉| 252/255 [01:37<00:01,  2.60it/s, loss=0.139, v_num=4, train_loss=0.386, train_accuracy=0.778, train_f1_score=0.778, val_loss=0.380, val_accuracy=0.860, val_f1_score=0.860]\n",
      "Epoch 45: 100%|█████████▉| 254/255 [01:37<00:00,  2.61it/s, loss=0.139, v_num=4, train_loss=0.386, train_accuracy=0.778, train_f1_score=0.778, val_loss=0.380, val_accuracy=0.860, val_f1_score=0.860]\n",
      "Epoch 45: 100%|██████████| 255/255 [01:38<00:00,  2.59it/s, loss=0.139, v_num=4, train_loss=0.386, train_accuracy=0.778, train_f1_score=0.778, val_loss=0.316, val_accuracy=0.887, val_f1_score=0.887]\n",
      "Epoch 45: 100%|██████████| 255/255 [01:38<00:00,  2.59it/s, loss=0.139, v_num=4, train_loss=0.386, train_accuracy=0.778, train_f1_score=0.778, val_loss=0.316, val_accuracy=0.887, val_f1_score=0.887]"
     ]
    },
    {
     "name": "stderr",
     "output_type": "stream",
     "text": [
      "Epoch 45, global step 10395: val_loss reached 0.31614 (best 0.31614), saving model to \"/Workspace/code/checkpoints/best-checkpoint-corr-mi-0-v2.ckpt\" as top 2\n"
     ]
    },
    {
     "name": "stdout",
     "output_type": "stream",
     "text": [
      "Epoch 46:  89%|████████▊ | 226/255 [01:26<00:11,  2.60it/s, loss=0.153, v_num=4, train_loss=0.0783, train_accuracy=1.000, train_f1_score=1.000, val_loss=0.316, val_accuracy=0.887, val_f1_score=0.887]\n",
      "Validating: 0it [00:00, ?it/s]\u001b[A\n",
      "Validating:   0%|          | 0/29 [00:00<?, ?it/s]\u001b[A\n",
      "Epoch 46:  89%|████████▉ | 228/255 [01:34<00:11,  2.41it/s, loss=0.153, v_num=4, train_loss=0.0783, train_accuracy=1.000, train_f1_score=1.000, val_loss=0.316, val_accuracy=0.887, val_f1_score=0.887]\n",
      "Epoch 46:  90%|█████████ | 230/255 [01:34<00:10,  2.43it/s, loss=0.153, v_num=4, train_loss=0.0783, train_accuracy=1.000, train_f1_score=1.000, val_loss=0.316, val_accuracy=0.887, val_f1_score=0.887]\n",
      "Epoch 46:  91%|█████████ | 232/255 [01:34<00:09,  2.45it/s, loss=0.153, v_num=4, train_loss=0.0783, train_accuracy=1.000, train_f1_score=1.000, val_loss=0.316, val_accuracy=0.887, val_f1_score=0.887]\n",
      "Epoch 46:  92%|█████████▏| 234/255 [01:35<00:08,  2.46it/s, loss=0.153, v_num=4, train_loss=0.0783, train_accuracy=1.000, train_f1_score=1.000, val_loss=0.316, val_accuracy=0.887, val_f1_score=0.887]\n",
      "Epoch 46:  93%|█████████▎| 236/255 [01:35<00:07,  2.48it/s, loss=0.153, v_num=4, train_loss=0.0783, train_accuracy=1.000, train_f1_score=1.000, val_loss=0.316, val_accuracy=0.887, val_f1_score=0.887]\n",
      "Epoch 46:  93%|█████████▎| 238/255 [01:35<00:06,  2.50it/s, loss=0.153, v_num=4, train_loss=0.0783, train_accuracy=1.000, train_f1_score=1.000, val_loss=0.316, val_accuracy=0.887, val_f1_score=0.887]\n",
      "Epoch 46:  94%|█████████▍| 240/255 [01:35<00:05,  2.51it/s, loss=0.153, v_num=4, train_loss=0.0783, train_accuracy=1.000, train_f1_score=1.000, val_loss=0.316, val_accuracy=0.887, val_f1_score=0.887]\n",
      "Epoch 46:  95%|█████████▍| 242/255 [01:35<00:05,  2.53it/s, loss=0.153, v_num=4, train_loss=0.0783, train_accuracy=1.000, train_f1_score=1.000, val_loss=0.316, val_accuracy=0.887, val_f1_score=0.887]\n",
      "Epoch 46:  96%|█████████▌| 244/255 [01:35<00:04,  2.55it/s, loss=0.153, v_num=4, train_loss=0.0783, train_accuracy=1.000, train_f1_score=1.000, val_loss=0.316, val_accuracy=0.887, val_f1_score=0.887]\n",
      "Epoch 46:  96%|█████████▋| 246/255 [01:36<00:03,  2.56it/s, loss=0.153, v_num=4, train_loss=0.0783, train_accuracy=1.000, train_f1_score=1.000, val_loss=0.316, val_accuracy=0.887, val_f1_score=0.887]\n",
      "Epoch 46:  97%|█████████▋| 248/255 [01:36<00:02,  2.58it/s, loss=0.153, v_num=4, train_loss=0.0783, train_accuracy=1.000, train_f1_score=1.000, val_loss=0.316, val_accuracy=0.887, val_f1_score=0.887]\n",
      "Epoch 46:  98%|█████████▊| 250/255 [01:36<00:01,  2.59it/s, loss=0.153, v_num=4, train_loss=0.0783, train_accuracy=1.000, train_f1_score=1.000, val_loss=0.316, val_accuracy=0.887, val_f1_score=0.887]\n",
      "Epoch 46:  99%|█████████▉| 252/255 [01:36<00:01,  2.61it/s, loss=0.153, v_num=4, train_loss=0.0783, train_accuracy=1.000, train_f1_score=1.000, val_loss=0.316, val_accuracy=0.887, val_f1_score=0.887]\n",
      "Epoch 46: 100%|█████████▉| 254/255 [01:36<00:00,  2.63it/s, loss=0.153, v_num=4, train_loss=0.0783, train_accuracy=1.000, train_f1_score=1.000, val_loss=0.316, val_accuracy=0.887, val_f1_score=0.887]\n",
      "Epoch 46: 100%|██████████| 255/255 [01:37<00:00,  2.60it/s, loss=0.153, v_num=4, train_loss=0.0783, train_accuracy=1.000, train_f1_score=1.000, val_loss=0.373, val_accuracy=0.882, val_f1_score=0.882]\n",
      "Epoch 46: 100%|██████████| 255/255 [01:37<00:00,  2.60it/s, loss=0.153, v_num=4, train_loss=0.0783, train_accuracy=1.000, train_f1_score=1.000, val_loss=0.373, val_accuracy=0.882, val_f1_score=0.882]"
     ]
    },
    {
     "name": "stderr",
     "output_type": "stream",
     "text": [
      "Epoch 46, global step 10621: val_loss was not in top 2\n"
     ]
    },
    {
     "name": "stdout",
     "output_type": "stream",
     "text": [
      "Epoch 47:  89%|████████▊ | 226/255 [01:26<00:11,  2.60it/s, loss=0.194, v_num=4, train_loss=0.0652, train_accuracy=1.000, train_f1_score=1.000, val_loss=0.373, val_accuracy=0.882, val_f1_score=0.882]\n",
      "Validating: 0it [00:00, ?it/s]\u001b[A\n",
      "Validating:   0%|          | 0/29 [00:00<?, ?it/s]\u001b[A\n",
      "Epoch 47:  89%|████████▉ | 228/255 [01:34<00:11,  2.41it/s, loss=0.194, v_num=4, train_loss=0.0652, train_accuracy=1.000, train_f1_score=1.000, val_loss=0.373, val_accuracy=0.882, val_f1_score=0.882]\n",
      "Epoch 47:  90%|█████████ | 230/255 [01:34<00:10,  2.43it/s, loss=0.194, v_num=4, train_loss=0.0652, train_accuracy=1.000, train_f1_score=1.000, val_loss=0.373, val_accuracy=0.882, val_f1_score=0.882]\n",
      "Epoch 47:  91%|█████████ | 232/255 [01:35<00:09,  2.44it/s, loss=0.194, v_num=4, train_loss=0.0652, train_accuracy=1.000, train_f1_score=1.000, val_loss=0.373, val_accuracy=0.882, val_f1_score=0.882]\n",
      "Epoch 47:  92%|█████████▏| 234/255 [01:35<00:08,  2.46it/s, loss=0.194, v_num=4, train_loss=0.0652, train_accuracy=1.000, train_f1_score=1.000, val_loss=0.373, val_accuracy=0.882, val_f1_score=0.882]\n",
      "Epoch 47:  93%|█████████▎| 236/255 [01:35<00:07,  2.47it/s, loss=0.194, v_num=4, train_loss=0.0652, train_accuracy=1.000, train_f1_score=1.000, val_loss=0.373, val_accuracy=0.882, val_f1_score=0.882]\n",
      "Epoch 47:  93%|█████████▎| 238/255 [01:35<00:06,  2.49it/s, loss=0.194, v_num=4, train_loss=0.0652, train_accuracy=1.000, train_f1_score=1.000, val_loss=0.373, val_accuracy=0.882, val_f1_score=0.882]\n",
      "Epoch 47:  94%|█████████▍| 240/255 [01:35<00:05,  2.51it/s, loss=0.194, v_num=4, train_loss=0.0652, train_accuracy=1.000, train_f1_score=1.000, val_loss=0.373, val_accuracy=0.882, val_f1_score=0.882]\n",
      "Epoch 47:  95%|█████████▍| 242/255 [01:35<00:05,  2.52it/s, loss=0.194, v_num=4, train_loss=0.0652, train_accuracy=1.000, train_f1_score=1.000, val_loss=0.373, val_accuracy=0.882, val_f1_score=0.882]\n",
      "Epoch 47:  96%|█████████▌| 244/255 [01:36<00:04,  2.54it/s, loss=0.194, v_num=4, train_loss=0.0652, train_accuracy=1.000, train_f1_score=1.000, val_loss=0.373, val_accuracy=0.882, val_f1_score=0.882]\n",
      "Epoch 47:  96%|█████████▋| 246/255 [01:36<00:03,  2.56it/s, loss=0.194, v_num=4, train_loss=0.0652, train_accuracy=1.000, train_f1_score=1.000, val_loss=0.373, val_accuracy=0.882, val_f1_score=0.882]\n",
      "Epoch 47:  97%|█████████▋| 248/255 [01:36<00:02,  2.57it/s, loss=0.194, v_num=4, train_loss=0.0652, train_accuracy=1.000, train_f1_score=1.000, val_loss=0.373, val_accuracy=0.882, val_f1_score=0.882]\n",
      "Epoch 47:  98%|█████████▊| 250/255 [01:36<00:01,  2.59it/s, loss=0.194, v_num=4, train_loss=0.0652, train_accuracy=1.000, train_f1_score=1.000, val_loss=0.373, val_accuracy=0.882, val_f1_score=0.882]\n",
      "Epoch 47:  99%|█████████▉| 252/255 [01:36<00:01,  2.60it/s, loss=0.194, v_num=4, train_loss=0.0652, train_accuracy=1.000, train_f1_score=1.000, val_loss=0.373, val_accuracy=0.882, val_f1_score=0.882]\n",
      "Epoch 47: 100%|█████████▉| 254/255 [01:36<00:00,  2.62it/s, loss=0.194, v_num=4, train_loss=0.0652, train_accuracy=1.000, train_f1_score=1.000, val_loss=0.373, val_accuracy=0.882, val_f1_score=0.882]\n",
      "Epoch 47: 100%|██████████| 255/255 [01:38<00:00,  2.60it/s, loss=0.194, v_num=4, train_loss=0.0652, train_accuracy=1.000, train_f1_score=1.000, val_loss=0.357, val_accuracy=0.886, val_f1_score=0.886]\n",
      "Epoch 47: 100%|██████████| 255/255 [01:38<00:00,  2.60it/s, loss=0.194, v_num=4, train_loss=0.0652, train_accuracy=1.000, train_f1_score=1.000, val_loss=0.357, val_accuracy=0.886, val_f1_score=0.886]"
     ]
    },
    {
     "name": "stderr",
     "output_type": "stream",
     "text": [
      "Epoch 47, global step 10847: val_loss was not in top 2\n"
     ]
    },
    {
     "name": "stdout",
     "output_type": "stream",
     "text": [
      "Epoch 48:  89%|████████▊ | 226/255 [01:27<00:11,  2.59it/s, loss=0.149, v_num=4, train_loss=0.330, train_accuracy=0.889, train_f1_score=0.889, val_loss=0.357, val_accuracy=0.886, val_f1_score=0.886] \n",
      "Validating: 0it [00:00, ?it/s]\u001b[A\n",
      "Validating:   0%|          | 0/29 [00:00<?, ?it/s]\u001b[A\n",
      "Epoch 48:  89%|████████▉ | 228/255 [01:34<00:11,  2.40it/s, loss=0.149, v_num=4, train_loss=0.330, train_accuracy=0.889, train_f1_score=0.889, val_loss=0.357, val_accuracy=0.886, val_f1_score=0.886]\n",
      "Epoch 48:  90%|█████████ | 230/255 [01:35<00:10,  2.42it/s, loss=0.149, v_num=4, train_loss=0.330, train_accuracy=0.889, train_f1_score=0.889, val_loss=0.357, val_accuracy=0.886, val_f1_score=0.886]\n",
      "Validating:  14%|█▍        | 4/29 [00:08<00:34,  1.39s/it]\u001b[A\n",
      "Epoch 48:  91%|█████████ | 232/255 [01:35<00:09,  2.43it/s, loss=0.149, v_num=4, train_loss=0.330, train_accuracy=0.889, train_f1_score=0.889, val_loss=0.357, val_accuracy=0.886, val_f1_score=0.886]\n",
      "Epoch 48:  92%|█████████▏| 234/255 [01:35<00:08,  2.45it/s, loss=0.149, v_num=4, train_loss=0.330, train_accuracy=0.889, train_f1_score=0.889, val_loss=0.357, val_accuracy=0.886, val_f1_score=0.886]\n",
      "Epoch 48:  93%|█████████▎| 236/255 [01:35<00:07,  2.47it/s, loss=0.149, v_num=4, train_loss=0.330, train_accuracy=0.889, train_f1_score=0.889, val_loss=0.357, val_accuracy=0.886, val_f1_score=0.886]\n",
      "Epoch 48:  93%|█████████▎| 238/255 [01:35<00:06,  2.48it/s, loss=0.149, v_num=4, train_loss=0.330, train_accuracy=0.889, train_f1_score=0.889, val_loss=0.357, val_accuracy=0.886, val_f1_score=0.886]\n",
      "Epoch 48:  94%|█████████▍| 240/255 [01:36<00:06,  2.50it/s, loss=0.149, v_num=4, train_loss=0.330, train_accuracy=0.889, train_f1_score=0.889, val_loss=0.357, val_accuracy=0.886, val_f1_score=0.886]\n",
      "Epoch 48:  95%|█████████▍| 242/255 [01:36<00:05,  2.51it/s, loss=0.149, v_num=4, train_loss=0.330, train_accuracy=0.889, train_f1_score=0.889, val_loss=0.357, val_accuracy=0.886, val_f1_score=0.886]\n",
      "Epoch 48:  96%|█████████▌| 244/255 [01:36<00:04,  2.53it/s, loss=0.149, v_num=4, train_loss=0.330, train_accuracy=0.889, train_f1_score=0.889, val_loss=0.357, val_accuracy=0.886, val_f1_score=0.886]\n",
      "Epoch 48:  96%|█████████▋| 246/255 [01:36<00:03,  2.55it/s, loss=0.149, v_num=4, train_loss=0.330, train_accuracy=0.889, train_f1_score=0.889, val_loss=0.357, val_accuracy=0.886, val_f1_score=0.886]\n",
      "Epoch 48:  97%|█████████▋| 248/255 [01:36<00:02,  2.56it/s, loss=0.149, v_num=4, train_loss=0.330, train_accuracy=0.889, train_f1_score=0.889, val_loss=0.357, val_accuracy=0.886, val_f1_score=0.886]\n",
      "Epoch 48:  98%|█████████▊| 250/255 [01:36<00:01,  2.58it/s, loss=0.149, v_num=4, train_loss=0.330, train_accuracy=0.889, train_f1_score=0.889, val_loss=0.357, val_accuracy=0.886, val_f1_score=0.886]\n",
      "Epoch 48:  99%|█████████▉| 252/255 [01:37<00:01,  2.59it/s, loss=0.149, v_num=4, train_loss=0.330, train_accuracy=0.889, train_f1_score=0.889, val_loss=0.357, val_accuracy=0.886, val_f1_score=0.886]\n",
      "Epoch 48: 100%|█████████▉| 254/255 [01:37<00:00,  2.61it/s, loss=0.149, v_num=4, train_loss=0.330, train_accuracy=0.889, train_f1_score=0.889, val_loss=0.357, val_accuracy=0.886, val_f1_score=0.886]\n",
      "Epoch 48: 100%|██████████| 255/255 [01:38<00:00,  2.59it/s, loss=0.149, v_num=4, train_loss=0.330, train_accuracy=0.889, train_f1_score=0.889, val_loss=0.379, val_accuracy=0.876, val_f1_score=0.876]\n",
      "Epoch 48: 100%|██████████| 255/255 [01:38<00:00,  2.59it/s, loss=0.149, v_num=4, train_loss=0.330, train_accuracy=0.889, train_f1_score=0.889, val_loss=0.379, val_accuracy=0.876, val_f1_score=0.876]"
     ]
    },
    {
     "name": "stderr",
     "output_type": "stream",
     "text": [
      "Epoch 48, global step 11073: val_loss was not in top 2\n"
     ]
    },
    {
     "name": "stdout",
     "output_type": "stream",
     "text": [
      "Epoch 49:  89%|████████▊ | 226/255 [01:27<00:11,  2.59it/s, loss=0.171, v_num=4, train_loss=0.188, train_accuracy=0.889, train_f1_score=0.889, val_loss=0.379, val_accuracy=0.876, val_f1_score=0.876] \n",
      "Validating: 0it [00:00, ?it/s]\u001b[A\n",
      "Validating:   0%|          | 0/29 [00:00<?, ?it/s]\u001b[A\n",
      "Epoch 49:  89%|████████▉ | 228/255 [01:34<00:11,  2.41it/s, loss=0.171, v_num=4, train_loss=0.188, train_accuracy=0.889, train_f1_score=0.889, val_loss=0.379, val_accuracy=0.876, val_f1_score=0.876]\n",
      "Epoch 49:  90%|█████████ | 230/255 [01:35<00:10,  2.42it/s, loss=0.171, v_num=4, train_loss=0.188, train_accuracy=0.889, train_f1_score=0.889, val_loss=0.379, val_accuracy=0.876, val_f1_score=0.876]\n",
      "Epoch 49:  91%|█████████ | 232/255 [01:35<00:09,  2.44it/s, loss=0.171, v_num=4, train_loss=0.188, train_accuracy=0.889, train_f1_score=0.889, val_loss=0.379, val_accuracy=0.876, val_f1_score=0.876]\n",
      "Epoch 49:  92%|█████████▏| 234/255 [01:35<00:08,  2.45it/s, loss=0.171, v_num=4, train_loss=0.188, train_accuracy=0.889, train_f1_score=0.889, val_loss=0.379, val_accuracy=0.876, val_f1_score=0.876]\n",
      "Epoch 49:  93%|█████████▎| 236/255 [01:35<00:07,  2.47it/s, loss=0.171, v_num=4, train_loss=0.188, train_accuracy=0.889, train_f1_score=0.889, val_loss=0.379, val_accuracy=0.876, val_f1_score=0.876]\n",
      "Epoch 49:  93%|█████████▎| 238/255 [01:35<00:06,  2.49it/s, loss=0.171, v_num=4, train_loss=0.188, train_accuracy=0.889, train_f1_score=0.889, val_loss=0.379, val_accuracy=0.876, val_f1_score=0.876]\n",
      "Epoch 49:  94%|█████████▍| 240/255 [01:35<00:05,  2.50it/s, loss=0.171, v_num=4, train_loss=0.188, train_accuracy=0.889, train_f1_score=0.889, val_loss=0.379, val_accuracy=0.876, val_f1_score=0.876]\n",
      "Epoch 49:  95%|█████████▍| 242/255 [01:36<00:05,  2.52it/s, loss=0.171, v_num=4, train_loss=0.188, train_accuracy=0.889, train_f1_score=0.889, val_loss=0.379, val_accuracy=0.876, val_f1_score=0.876]\n",
      "Epoch 49:  96%|█████████▌| 244/255 [01:36<00:04,  2.53it/s, loss=0.171, v_num=4, train_loss=0.188, train_accuracy=0.889, train_f1_score=0.889, val_loss=0.379, val_accuracy=0.876, val_f1_score=0.876]\n",
      "Epoch 49:  96%|█████████▋| 246/255 [01:36<00:03,  2.55it/s, loss=0.171, v_num=4, train_loss=0.188, train_accuracy=0.889, train_f1_score=0.889, val_loss=0.379, val_accuracy=0.876, val_f1_score=0.876]\n",
      "Epoch 49:  97%|█████████▋| 248/255 [01:36<00:02,  2.57it/s, loss=0.171, v_num=4, train_loss=0.188, train_accuracy=0.889, train_f1_score=0.889, val_loss=0.379, val_accuracy=0.876, val_f1_score=0.876]\n",
      "Epoch 49:  98%|█████████▊| 250/255 [01:36<00:01,  2.58it/s, loss=0.171, v_num=4, train_loss=0.188, train_accuracy=0.889, train_f1_score=0.889, val_loss=0.379, val_accuracy=0.876, val_f1_score=0.876]\n",
      "Epoch 49:  99%|█████████▉| 252/255 [01:36<00:01,  2.60it/s, loss=0.171, v_num=4, train_loss=0.188, train_accuracy=0.889, train_f1_score=0.889, val_loss=0.379, val_accuracy=0.876, val_f1_score=0.876]\n",
      "Epoch 49: 100%|█████████▉| 254/255 [01:37<00:00,  2.61it/s, loss=0.171, v_num=4, train_loss=0.188, train_accuracy=0.889, train_f1_score=0.889, val_loss=0.379, val_accuracy=0.876, val_f1_score=0.876]\n",
      "Epoch 49: 100%|██████████| 255/255 [01:38<00:00,  2.59it/s, loss=0.171, v_num=4, train_loss=0.188, train_accuracy=0.889, train_f1_score=0.889, val_loss=0.320, val_accuracy=0.883, val_f1_score=0.883]\n",
      "Epoch 49: 100%|██████████| 255/255 [01:38<00:00,  2.59it/s, loss=0.171, v_num=4, train_loss=0.188, train_accuracy=0.889, train_f1_score=0.889, val_loss=0.320, val_accuracy=0.883, val_f1_score=0.883]"
     ]
    },
    {
     "name": "stderr",
     "output_type": "stream",
     "text": [
      "Epoch 49, global step 11299: val_loss reached 0.32033 (best 0.31614), saving model to \"/Workspace/code/checkpoints/best-checkpoint-corr-mi-0-v3.ckpt\" as top 2\n"
     ]
    },
    {
     "name": "stdout",
     "output_type": "stream",
     "text": [
      "Epoch 50:  89%|████████▊ | 226/255 [01:27<00:11,  2.59it/s, loss=0.139, v_num=4, train_loss=0.0589, train_accuracy=1.000, train_f1_score=1.000, val_loss=0.320, val_accuracy=0.883, val_f1_score=0.883]\n",
      "Validating: 0it [00:00, ?it/s]\u001b[A\n",
      "Validating:   0%|          | 0/29 [00:00<?, ?it/s]\u001b[A\n",
      "Epoch 50:  89%|████████▉ | 228/255 [01:35<00:11,  2.40it/s, loss=0.139, v_num=4, train_loss=0.0589, train_accuracy=1.000, train_f1_score=1.000, val_loss=0.320, val_accuracy=0.883, val_f1_score=0.883]\n",
      "Epoch 50:  90%|█████████ | 230/255 [01:35<00:10,  2.41it/s, loss=0.139, v_num=4, train_loss=0.0589, train_accuracy=1.000, train_f1_score=1.000, val_loss=0.320, val_accuracy=0.883, val_f1_score=0.883]\n",
      "Epoch 50:  91%|█████████ | 232/255 [01:35<00:09,  2.43it/s, loss=0.139, v_num=4, train_loss=0.0589, train_accuracy=1.000, train_f1_score=1.000, val_loss=0.320, val_accuracy=0.883, val_f1_score=0.883]\n",
      "Epoch 50:  92%|█████████▏| 234/255 [01:35<00:08,  2.45it/s, loss=0.139, v_num=4, train_loss=0.0589, train_accuracy=1.000, train_f1_score=1.000, val_loss=0.320, val_accuracy=0.883, val_f1_score=0.883]\n",
      "Epoch 50:  93%|█████████▎| 236/255 [01:35<00:07,  2.46it/s, loss=0.139, v_num=4, train_loss=0.0589, train_accuracy=1.000, train_f1_score=1.000, val_loss=0.320, val_accuracy=0.883, val_f1_score=0.883]\n",
      "Epoch 50:  93%|█████████▎| 238/255 [01:35<00:06,  2.48it/s, loss=0.139, v_num=4, train_loss=0.0589, train_accuracy=1.000, train_f1_score=1.000, val_loss=0.320, val_accuracy=0.883, val_f1_score=0.883]\n",
      "Epoch 50:  94%|█████████▍| 240/255 [01:36<00:06,  2.50it/s, loss=0.139, v_num=4, train_loss=0.0589, train_accuracy=1.000, train_f1_score=1.000, val_loss=0.320, val_accuracy=0.883, val_f1_score=0.883]\n",
      "Epoch 50:  95%|█████████▍| 242/255 [01:36<00:05,  2.51it/s, loss=0.139, v_num=4, train_loss=0.0589, train_accuracy=1.000, train_f1_score=1.000, val_loss=0.320, val_accuracy=0.883, val_f1_score=0.883]\n",
      "Epoch 50:  96%|█████████▌| 244/255 [01:36<00:04,  2.53it/s, loss=0.139, v_num=4, train_loss=0.0589, train_accuracy=1.000, train_f1_score=1.000, val_loss=0.320, val_accuracy=0.883, val_f1_score=0.883]\n",
      "Epoch 50:  96%|█████████▋| 246/255 [01:36<00:03,  2.55it/s, loss=0.139, v_num=4, train_loss=0.0589, train_accuracy=1.000, train_f1_score=1.000, val_loss=0.320, val_accuracy=0.883, val_f1_score=0.883]\n",
      "Epoch 50:  97%|█████████▋| 248/255 [01:36<00:02,  2.56it/s, loss=0.139, v_num=4, train_loss=0.0589, train_accuracy=1.000, train_f1_score=1.000, val_loss=0.320, val_accuracy=0.883, val_f1_score=0.883]\n",
      "Epoch 50:  98%|█████████▊| 250/255 [01:36<00:01,  2.58it/s, loss=0.139, v_num=4, train_loss=0.0589, train_accuracy=1.000, train_f1_score=1.000, val_loss=0.320, val_accuracy=0.883, val_f1_score=0.883]\n",
      "Epoch 50:  99%|█████████▉| 252/255 [01:37<00:01,  2.60it/s, loss=0.139, v_num=4, train_loss=0.0589, train_accuracy=1.000, train_f1_score=1.000, val_loss=0.320, val_accuracy=0.883, val_f1_score=0.883]\n",
      "Epoch 50: 100%|█████████▉| 254/255 [01:37<00:00,  2.61it/s, loss=0.139, v_num=4, train_loss=0.0589, train_accuracy=1.000, train_f1_score=1.000, val_loss=0.320, val_accuracy=0.883, val_f1_score=0.883]\n",
      "Epoch 50: 100%|██████████| 255/255 [01:38<00:00,  2.59it/s, loss=0.139, v_num=4, train_loss=0.0589, train_accuracy=1.000, train_f1_score=1.000, val_loss=0.413, val_accuracy=0.886, val_f1_score=0.886]\n",
      "Epoch 50: 100%|██████████| 255/255 [01:38<00:00,  2.59it/s, loss=0.139, v_num=4, train_loss=0.0589, train_accuracy=1.000, train_f1_score=1.000, val_loss=0.413, val_accuracy=0.886, val_f1_score=0.886]"
     ]
    },
    {
     "name": "stderr",
     "output_type": "stream",
     "text": [
      "Epoch 50, global step 11525: val_loss was not in top 2\n"
     ]
    },
    {
     "name": "stdout",
     "output_type": "stream",
     "text": [
      "Epoch 51:  89%|████████▊ | 226/255 [01:27<00:11,  2.57it/s, loss=0.15, v_num=4, train_loss=0.295, train_accuracy=0.889, train_f1_score=0.889, val_loss=0.413, val_accuracy=0.886, val_f1_score=0.886]  \n",
      "Validating: 0it [00:00, ?it/s]\u001b[A\n",
      "Validating:   0%|          | 0/29 [00:00<?, ?it/s]\u001b[A\n",
      "Epoch 51:  89%|████████▉ | 228/255 [01:35<00:11,  2.38it/s, loss=0.15, v_num=4, train_loss=0.295, train_accuracy=0.889, train_f1_score=0.889, val_loss=0.413, val_accuracy=0.886, val_f1_score=0.886]\n",
      "Epoch 51:  90%|█████████ | 230/255 [01:36<00:10,  2.40it/s, loss=0.15, v_num=4, train_loss=0.295, train_accuracy=0.889, train_f1_score=0.889, val_loss=0.413, val_accuracy=0.886, val_f1_score=0.886]\n",
      "Epoch 51:  91%|█████████ | 232/255 [01:36<00:09,  2.41it/s, loss=0.15, v_num=4, train_loss=0.295, train_accuracy=0.889, train_f1_score=0.889, val_loss=0.413, val_accuracy=0.886, val_f1_score=0.886]\n",
      "Epoch 51:  92%|█████████▏| 234/255 [01:36<00:08,  2.43it/s, loss=0.15, v_num=4, train_loss=0.295, train_accuracy=0.889, train_f1_score=0.889, val_loss=0.413, val_accuracy=0.886, val_f1_score=0.886]\n",
      "Epoch 51:  93%|█████████▎| 236/255 [01:36<00:07,  2.45it/s, loss=0.15, v_num=4, train_loss=0.295, train_accuracy=0.889, train_f1_score=0.889, val_loss=0.413, val_accuracy=0.886, val_f1_score=0.886]\n",
      "Epoch 51:  93%|█████████▎| 238/255 [01:36<00:06,  2.46it/s, loss=0.15, v_num=4, train_loss=0.295, train_accuracy=0.889, train_f1_score=0.889, val_loss=0.413, val_accuracy=0.886, val_f1_score=0.886]\n",
      "Epoch 51:  94%|█████████▍| 240/255 [01:36<00:06,  2.48it/s, loss=0.15, v_num=4, train_loss=0.295, train_accuracy=0.889, train_f1_score=0.889, val_loss=0.413, val_accuracy=0.886, val_f1_score=0.886]\n",
      "Epoch 51:  95%|█████████▍| 242/255 [01:36<00:05,  2.50it/s, loss=0.15, v_num=4, train_loss=0.295, train_accuracy=0.889, train_f1_score=0.889, val_loss=0.413, val_accuracy=0.886, val_f1_score=0.886]\n",
      "Epoch 51:  96%|█████████▌| 244/255 [01:37<00:04,  2.51it/s, loss=0.15, v_num=4, train_loss=0.295, train_accuracy=0.889, train_f1_score=0.889, val_loss=0.413, val_accuracy=0.886, val_f1_score=0.886]\n",
      "Epoch 51:  96%|█████████▋| 246/255 [01:37<00:03,  2.53it/s, loss=0.15, v_num=4, train_loss=0.295, train_accuracy=0.889, train_f1_score=0.889, val_loss=0.413, val_accuracy=0.886, val_f1_score=0.886]\n",
      "Epoch 51:  97%|█████████▋| 248/255 [01:37<00:02,  2.55it/s, loss=0.15, v_num=4, train_loss=0.295, train_accuracy=0.889, train_f1_score=0.889, val_loss=0.413, val_accuracy=0.886, val_f1_score=0.886]\n",
      "Epoch 51:  98%|█████████▊| 250/255 [01:37<00:01,  2.56it/s, loss=0.15, v_num=4, train_loss=0.295, train_accuracy=0.889, train_f1_score=0.889, val_loss=0.413, val_accuracy=0.886, val_f1_score=0.886]\n",
      "Epoch 51:  99%|█████████▉| 252/255 [01:37<00:01,  2.58it/s, loss=0.15, v_num=4, train_loss=0.295, train_accuracy=0.889, train_f1_score=0.889, val_loss=0.413, val_accuracy=0.886, val_f1_score=0.886]\n",
      "Epoch 51: 100%|█████████▉| 254/255 [01:37<00:00,  2.59it/s, loss=0.15, v_num=4, train_loss=0.295, train_accuracy=0.889, train_f1_score=0.889, val_loss=0.413, val_accuracy=0.886, val_f1_score=0.886]\n",
      "Epoch 51: 100%|██████████| 255/255 [01:39<00:00,  2.57it/s, loss=0.15, v_num=4, train_loss=0.295, train_accuracy=0.889, train_f1_score=0.889, val_loss=0.316, val_accuracy=0.895, val_f1_score=0.895]\n",
      "Epoch 51: 100%|██████████| 255/255 [01:39<00:00,  2.57it/s, loss=0.15, v_num=4, train_loss=0.295, train_accuracy=0.889, train_f1_score=0.889, val_loss=0.316, val_accuracy=0.895, val_f1_score=0.895]"
     ]
    },
    {
     "name": "stderr",
     "output_type": "stream",
     "text": [
      "Epoch 51, global step 11751: val_loss reached 0.31619 (best 0.31614), saving model to \"/Workspace/code/checkpoints/best-checkpoint-corr-mi-0-v3.ckpt\" as top 2\n"
     ]
    },
    {
     "name": "stdout",
     "output_type": "stream",
     "text": [
      "Epoch 52:  89%|████████▊ | 226/255 [01:27<00:11,  2.59it/s, loss=0.175, v_num=4, train_loss=0.188, train_accuracy=0.944, train_f1_score=0.944, val_loss=0.316, val_accuracy=0.895, val_f1_score=0.895] \n",
      "Validating: 0it [00:00, ?it/s]\u001b[A\n",
      "Validating:   0%|          | 0/29 [00:00<?, ?it/s]\u001b[A\n",
      "Epoch 52:  89%|████████▉ | 228/255 [01:34<00:11,  2.40it/s, loss=0.175, v_num=4, train_loss=0.188, train_accuracy=0.944, train_f1_score=0.944, val_loss=0.316, val_accuracy=0.895, val_f1_score=0.895]\n",
      "Epoch 52:  90%|█████████ | 230/255 [01:35<00:10,  2.42it/s, loss=0.175, v_num=4, train_loss=0.188, train_accuracy=0.944, train_f1_score=0.944, val_loss=0.316, val_accuracy=0.895, val_f1_score=0.895]\n",
      "Epoch 52:  91%|█████████ | 232/255 [01:35<00:09,  2.43it/s, loss=0.175, v_num=4, train_loss=0.188, train_accuracy=0.944, train_f1_score=0.944, val_loss=0.316, val_accuracy=0.895, val_f1_score=0.895]\n",
      "Epoch 52:  92%|█████████▏| 234/255 [01:35<00:08,  2.45it/s, loss=0.175, v_num=4, train_loss=0.188, train_accuracy=0.944, train_f1_score=0.944, val_loss=0.316, val_accuracy=0.895, val_f1_score=0.895]\n",
      "Epoch 52:  93%|█████████▎| 236/255 [01:35<00:07,  2.47it/s, loss=0.175, v_num=4, train_loss=0.188, train_accuracy=0.944, train_f1_score=0.944, val_loss=0.316, val_accuracy=0.895, val_f1_score=0.895]\n",
      "Epoch 52:  93%|█████████▎| 238/255 [01:35<00:06,  2.48it/s, loss=0.175, v_num=4, train_loss=0.188, train_accuracy=0.944, train_f1_score=0.944, val_loss=0.316, val_accuracy=0.895, val_f1_score=0.895]\n",
      "Epoch 52:  94%|█████████▍| 240/255 [01:35<00:05,  2.50it/s, loss=0.175, v_num=4, train_loss=0.188, train_accuracy=0.944, train_f1_score=0.944, val_loss=0.316, val_accuracy=0.895, val_f1_score=0.895]\n",
      "Epoch 52:  95%|█████████▍| 242/255 [01:36<00:05,  2.52it/s, loss=0.175, v_num=4, train_loss=0.188, train_accuracy=0.944, train_f1_score=0.944, val_loss=0.316, val_accuracy=0.895, val_f1_score=0.895]\n",
      "Epoch 52:  96%|█████████▌| 244/255 [01:36<00:04,  2.53it/s, loss=0.175, v_num=4, train_loss=0.188, train_accuracy=0.944, train_f1_score=0.944, val_loss=0.316, val_accuracy=0.895, val_f1_score=0.895]\n",
      "Epoch 52:  96%|█████████▋| 246/255 [01:36<00:03,  2.55it/s, loss=0.175, v_num=4, train_loss=0.188, train_accuracy=0.944, train_f1_score=0.944, val_loss=0.316, val_accuracy=0.895, val_f1_score=0.895]\n",
      "Epoch 52:  97%|█████████▋| 248/255 [01:36<00:02,  2.57it/s, loss=0.175, v_num=4, train_loss=0.188, train_accuracy=0.944, train_f1_score=0.944, val_loss=0.316, val_accuracy=0.895, val_f1_score=0.895]\n",
      "Epoch 52:  98%|█████████▊| 250/255 [01:36<00:01,  2.58it/s, loss=0.175, v_num=4, train_loss=0.188, train_accuracy=0.944, train_f1_score=0.944, val_loss=0.316, val_accuracy=0.895, val_f1_score=0.895]\n",
      "Epoch 52:  99%|█████████▉| 252/255 [01:36<00:01,  2.60it/s, loss=0.175, v_num=4, train_loss=0.188, train_accuracy=0.944, train_f1_score=0.944, val_loss=0.316, val_accuracy=0.895, val_f1_score=0.895]\n",
      "Epoch 52: 100%|█████████▉| 254/255 [01:37<00:00,  2.62it/s, loss=0.175, v_num=4, train_loss=0.188, train_accuracy=0.944, train_f1_score=0.944, val_loss=0.316, val_accuracy=0.895, val_f1_score=0.895]\n",
      "Epoch 52: 100%|██████████| 255/255 [01:38<00:00,  2.59it/s, loss=0.175, v_num=4, train_loss=0.188, train_accuracy=0.944, train_f1_score=0.944, val_loss=0.290, val_accuracy=0.889, val_f1_score=0.889]\n",
      "Epoch 52: 100%|██████████| 255/255 [01:38<00:00,  2.59it/s, loss=0.175, v_num=4, train_loss=0.188, train_accuracy=0.944, train_f1_score=0.944, val_loss=0.290, val_accuracy=0.889, val_f1_score=0.889]"
     ]
    },
    {
     "name": "stderr",
     "output_type": "stream",
     "text": [
      "Epoch 52, global step 11977: val_loss reached 0.28995 (best 0.28995), saving model to \"/Workspace/code/checkpoints/best-checkpoint-corr-mi-0-v3.ckpt\" as top 2\n"
     ]
    },
    {
     "name": "stdout",
     "output_type": "stream",
     "text": [
      "Epoch 53:  89%|████████▊ | 226/255 [01:26<00:11,  2.60it/s, loss=0.128, v_num=4, train_loss=0.130, train_accuracy=0.944, train_f1_score=0.944, val_loss=0.290, val_accuracy=0.889, val_f1_score=0.889] \n",
      "Validating: 0it [00:00, ?it/s]\u001b[A\n",
      "Validating:   0%|          | 0/29 [00:00<?, ?it/s]\u001b[A\n",
      "Epoch 53:  89%|████████▉ | 228/255 [01:34<00:11,  2.41it/s, loss=0.128, v_num=4, train_loss=0.130, train_accuracy=0.944, train_f1_score=0.944, val_loss=0.290, val_accuracy=0.889, val_f1_score=0.889]\n",
      "Epoch 53:  90%|█████████ | 230/255 [01:34<00:10,  2.43it/s, loss=0.128, v_num=4, train_loss=0.130, train_accuracy=0.944, train_f1_score=0.944, val_loss=0.290, val_accuracy=0.889, val_f1_score=0.889]\n",
      "Epoch 53:  91%|█████████ | 232/255 [01:34<00:09,  2.44it/s, loss=0.128, v_num=4, train_loss=0.130, train_accuracy=0.944, train_f1_score=0.944, val_loss=0.290, val_accuracy=0.889, val_f1_score=0.889]\n",
      "Epoch 53:  92%|█████████▏| 234/255 [01:35<00:08,  2.46it/s, loss=0.128, v_num=4, train_loss=0.130, train_accuracy=0.944, train_f1_score=0.944, val_loss=0.290, val_accuracy=0.889, val_f1_score=0.889]\n",
      "Epoch 53:  93%|█████████▎| 236/255 [01:35<00:07,  2.48it/s, loss=0.128, v_num=4, train_loss=0.130, train_accuracy=0.944, train_f1_score=0.944, val_loss=0.290, val_accuracy=0.889, val_f1_score=0.889]\n",
      "Epoch 53:  93%|█████████▎| 238/255 [01:35<00:06,  2.49it/s, loss=0.128, v_num=4, train_loss=0.130, train_accuracy=0.944, train_f1_score=0.944, val_loss=0.290, val_accuracy=0.889, val_f1_score=0.889]\n",
      "Epoch 53:  94%|█████████▍| 240/255 [01:35<00:05,  2.51it/s, loss=0.128, v_num=4, train_loss=0.130, train_accuracy=0.944, train_f1_score=0.944, val_loss=0.290, val_accuracy=0.889, val_f1_score=0.889]\n",
      "Epoch 53:  95%|█████████▍| 242/255 [01:35<00:05,  2.52it/s, loss=0.128, v_num=4, train_loss=0.130, train_accuracy=0.944, train_f1_score=0.944, val_loss=0.290, val_accuracy=0.889, val_f1_score=0.889]\n",
      "Epoch 53:  96%|█████████▌| 244/255 [01:36<00:04,  2.54it/s, loss=0.128, v_num=4, train_loss=0.130, train_accuracy=0.944, train_f1_score=0.944, val_loss=0.290, val_accuracy=0.889, val_f1_score=0.889]\n",
      "Epoch 53:  96%|█████████▋| 246/255 [01:36<00:03,  2.56it/s, loss=0.128, v_num=4, train_loss=0.130, train_accuracy=0.944, train_f1_score=0.944, val_loss=0.290, val_accuracy=0.889, val_f1_score=0.889]\n",
      "Epoch 53:  97%|█████████▋| 248/255 [01:36<00:02,  2.57it/s, loss=0.128, v_num=4, train_loss=0.130, train_accuracy=0.944, train_f1_score=0.944, val_loss=0.290, val_accuracy=0.889, val_f1_score=0.889]\n",
      "Epoch 53:  98%|█████████▊| 250/255 [01:36<00:01,  2.59it/s, loss=0.128, v_num=4, train_loss=0.130, train_accuracy=0.944, train_f1_score=0.944, val_loss=0.290, val_accuracy=0.889, val_f1_score=0.889]\n",
      "Epoch 53:  99%|█████████▉| 252/255 [01:36<00:01,  2.60it/s, loss=0.128, v_num=4, train_loss=0.130, train_accuracy=0.944, train_f1_score=0.944, val_loss=0.290, val_accuracy=0.889, val_f1_score=0.889]\n",
      "Epoch 53: 100%|█████████▉| 254/255 [01:36<00:00,  2.62it/s, loss=0.128, v_num=4, train_loss=0.130, train_accuracy=0.944, train_f1_score=0.944, val_loss=0.290, val_accuracy=0.889, val_f1_score=0.889]\n",
      "Epoch 53: 100%|██████████| 255/255 [01:38<00:00,  2.60it/s, loss=0.128, v_num=4, train_loss=0.130, train_accuracy=0.944, train_f1_score=0.944, val_loss=0.287, val_accuracy=0.902, val_f1_score=0.902]\n",
      "Epoch 53: 100%|██████████| 255/255 [01:38<00:00,  2.60it/s, loss=0.128, v_num=4, train_loss=0.130, train_accuracy=0.944, train_f1_score=0.944, val_loss=0.287, val_accuracy=0.902, val_f1_score=0.902]"
     ]
    },
    {
     "name": "stderr",
     "output_type": "stream",
     "text": [
      "Epoch 53, global step 12203: val_loss reached 0.28728 (best 0.28728), saving model to \"/Workspace/code/checkpoints/best-checkpoint-corr-mi-0-v2.ckpt\" as top 2\n"
     ]
    },
    {
     "name": "stdout",
     "output_type": "stream",
     "text": [
      "Epoch 54:  89%|████████▊ | 226/255 [01:27<00:11,  2.60it/s, loss=0.125, v_num=4, train_loss=0.047, train_accuracy=1.000, train_f1_score=1.000, val_loss=0.287, val_accuracy=0.902, val_f1_score=0.902] \n",
      "Validating: 0it [00:00, ?it/s]\u001b[A\n",
      "Validating:   0%|          | 0/29 [00:00<?, ?it/s]\u001b[A\n",
      "Epoch 54:  89%|████████▉ | 228/255 [01:34<00:11,  2.41it/s, loss=0.125, v_num=4, train_loss=0.047, train_accuracy=1.000, train_f1_score=1.000, val_loss=0.287, val_accuracy=0.902, val_f1_score=0.902]\n",
      "Validating:   7%|▋         | 2/29 [00:07<01:26,  3.20s/it]\u001b[A\n",
      "Epoch 54:  90%|█████████ | 230/255 [01:34<00:10,  2.42it/s, loss=0.125, v_num=4, train_loss=0.047, train_accuracy=1.000, train_f1_score=1.000, val_loss=0.287, val_accuracy=0.902, val_f1_score=0.902]\n",
      "Epoch 54:  91%|█████████ | 232/255 [01:35<00:09,  2.44it/s, loss=0.125, v_num=4, train_loss=0.047, train_accuracy=1.000, train_f1_score=1.000, val_loss=0.287, val_accuracy=0.902, val_f1_score=0.902]\n",
      "Epoch 54:  92%|█████████▏| 234/255 [01:35<00:08,  2.46it/s, loss=0.125, v_num=4, train_loss=0.047, train_accuracy=1.000, train_f1_score=1.000, val_loss=0.287, val_accuracy=0.902, val_f1_score=0.902]\n",
      "Epoch 54:  93%|█████████▎| 236/255 [01:35<00:07,  2.47it/s, loss=0.125, v_num=4, train_loss=0.047, train_accuracy=1.000, train_f1_score=1.000, val_loss=0.287, val_accuracy=0.902, val_f1_score=0.902]\n",
      "Epoch 54:  93%|█████████▎| 238/255 [01:35<00:06,  2.49it/s, loss=0.125, v_num=4, train_loss=0.047, train_accuracy=1.000, train_f1_score=1.000, val_loss=0.287, val_accuracy=0.902, val_f1_score=0.902]\n",
      "Epoch 54:  94%|█████████▍| 240/255 [01:35<00:05,  2.51it/s, loss=0.125, v_num=4, train_loss=0.047, train_accuracy=1.000, train_f1_score=1.000, val_loss=0.287, val_accuracy=0.902, val_f1_score=0.902]\n",
      "Epoch 54:  95%|█████████▍| 242/255 [01:35<00:05,  2.52it/s, loss=0.125, v_num=4, train_loss=0.047, train_accuracy=1.000, train_f1_score=1.000, val_loss=0.287, val_accuracy=0.902, val_f1_score=0.902]\n",
      "Epoch 54:  96%|█████████▌| 244/255 [01:36<00:04,  2.54it/s, loss=0.125, v_num=4, train_loss=0.047, train_accuracy=1.000, train_f1_score=1.000, val_loss=0.287, val_accuracy=0.902, val_f1_score=0.902]\n",
      "Epoch 54:  96%|█████████▋| 246/255 [01:36<00:03,  2.55it/s, loss=0.125, v_num=4, train_loss=0.047, train_accuracy=1.000, train_f1_score=1.000, val_loss=0.287, val_accuracy=0.902, val_f1_score=0.902]\n",
      "Epoch 54:  97%|█████████▋| 248/255 [01:36<00:02,  2.57it/s, loss=0.125, v_num=4, train_loss=0.047, train_accuracy=1.000, train_f1_score=1.000, val_loss=0.287, val_accuracy=0.902, val_f1_score=0.902]\n",
      "Epoch 54:  98%|█████████▊| 250/255 [01:36<00:01,  2.59it/s, loss=0.125, v_num=4, train_loss=0.047, train_accuracy=1.000, train_f1_score=1.000, val_loss=0.287, val_accuracy=0.902, val_f1_score=0.902]\n",
      "Epoch 54:  99%|█████████▉| 252/255 [01:36<00:01,  2.60it/s, loss=0.125, v_num=4, train_loss=0.047, train_accuracy=1.000, train_f1_score=1.000, val_loss=0.287, val_accuracy=0.902, val_f1_score=0.902]\n",
      "Epoch 54: 100%|█████████▉| 254/255 [01:37<00:00,  2.62it/s, loss=0.125, v_num=4, train_loss=0.047, train_accuracy=1.000, train_f1_score=1.000, val_loss=0.287, val_accuracy=0.902, val_f1_score=0.902]\n",
      "Epoch 54: 100%|██████████| 255/255 [01:38<00:00,  2.60it/s, loss=0.125, v_num=4, train_loss=0.047, train_accuracy=1.000, train_f1_score=1.000, val_loss=0.345, val_accuracy=0.894, val_f1_score=0.894]\n",
      "Epoch 54: 100%|██████████| 255/255 [01:38<00:00,  2.60it/s, loss=0.125, v_num=4, train_loss=0.047, train_accuracy=1.000, train_f1_score=1.000, val_loss=0.345, val_accuracy=0.894, val_f1_score=0.894]"
     ]
    },
    {
     "name": "stderr",
     "output_type": "stream",
     "text": [
      "Epoch 54, global step 12429: val_loss was not in top 2\n"
     ]
    },
    {
     "name": "stdout",
     "output_type": "stream",
     "text": [
      "Epoch 55:  89%|████████▊ | 226/255 [01:27<00:11,  2.59it/s, loss=0.137, v_num=4, train_loss=0.0773, train_accuracy=1.000, train_f1_score=1.000, val_loss=0.345, val_accuracy=0.894, val_f1_score=0.894] \n",
      "Validating: 0it [00:00, ?it/s]\u001b[A\n",
      "Validating:   0%|          | 0/29 [00:00<?, ?it/s]\u001b[A\n",
      "Epoch 55:  89%|████████▉ | 228/255 [01:34<00:11,  2.41it/s, loss=0.137, v_num=4, train_loss=0.0773, train_accuracy=1.000, train_f1_score=1.000, val_loss=0.345, val_accuracy=0.894, val_f1_score=0.894]\n",
      "Validating:   7%|▋         | 2/29 [00:07<01:26,  3.21s/it]\u001b[A\n",
      "Epoch 55:  90%|█████████ | 230/255 [01:35<00:10,  2.42it/s, loss=0.137, v_num=4, train_loss=0.0773, train_accuracy=1.000, train_f1_score=1.000, val_loss=0.345, val_accuracy=0.894, val_f1_score=0.894]\n",
      "Epoch 55:  91%|█████████ | 232/255 [01:35<00:09,  2.44it/s, loss=0.137, v_num=4, train_loss=0.0773, train_accuracy=1.000, train_f1_score=1.000, val_loss=0.345, val_accuracy=0.894, val_f1_score=0.894]\n",
      "Epoch 55:  92%|█████████▏| 234/255 [01:35<00:08,  2.45it/s, loss=0.137, v_num=4, train_loss=0.0773, train_accuracy=1.000, train_f1_score=1.000, val_loss=0.345, val_accuracy=0.894, val_f1_score=0.894]\n",
      "Epoch 55:  93%|█████████▎| 236/255 [01:35<00:07,  2.47it/s, loss=0.137, v_num=4, train_loss=0.0773, train_accuracy=1.000, train_f1_score=1.000, val_loss=0.345, val_accuracy=0.894, val_f1_score=0.894]\n",
      "Epoch 55:  93%|█████████▎| 238/255 [01:35<00:06,  2.49it/s, loss=0.137, v_num=4, train_loss=0.0773, train_accuracy=1.000, train_f1_score=1.000, val_loss=0.345, val_accuracy=0.894, val_f1_score=0.894]\n",
      "Epoch 55:  94%|█████████▍| 240/255 [01:35<00:05,  2.50it/s, loss=0.137, v_num=4, train_loss=0.0773, train_accuracy=1.000, train_f1_score=1.000, val_loss=0.345, val_accuracy=0.894, val_f1_score=0.894]\n",
      "Epoch 55:  95%|█████████▍| 242/255 [01:36<00:05,  2.52it/s, loss=0.137, v_num=4, train_loss=0.0773, train_accuracy=1.000, train_f1_score=1.000, val_loss=0.345, val_accuracy=0.894, val_f1_score=0.894]\n",
      "Epoch 55:  96%|█████████▌| 244/255 [01:36<00:04,  2.54it/s, loss=0.137, v_num=4, train_loss=0.0773, train_accuracy=1.000, train_f1_score=1.000, val_loss=0.345, val_accuracy=0.894, val_f1_score=0.894]\n",
      "Epoch 55:  96%|█████████▋| 246/255 [01:36<00:03,  2.55it/s, loss=0.137, v_num=4, train_loss=0.0773, train_accuracy=1.000, train_f1_score=1.000, val_loss=0.345, val_accuracy=0.894, val_f1_score=0.894]\n",
      "Epoch 55:  97%|█████████▋| 248/255 [01:36<00:02,  2.57it/s, loss=0.137, v_num=4, train_loss=0.0773, train_accuracy=1.000, train_f1_score=1.000, val_loss=0.345, val_accuracy=0.894, val_f1_score=0.894]\n",
      "Epoch 55:  98%|█████████▊| 250/255 [01:36<00:01,  2.58it/s, loss=0.137, v_num=4, train_loss=0.0773, train_accuracy=1.000, train_f1_score=1.000, val_loss=0.345, val_accuracy=0.894, val_f1_score=0.894]\n",
      "Epoch 55:  99%|█████████▉| 252/255 [01:36<00:01,  2.60it/s, loss=0.137, v_num=4, train_loss=0.0773, train_accuracy=1.000, train_f1_score=1.000, val_loss=0.345, val_accuracy=0.894, val_f1_score=0.894]\n",
      "Epoch 55: 100%|█████████▉| 254/255 [01:37<00:00,  2.61it/s, loss=0.137, v_num=4, train_loss=0.0773, train_accuracy=1.000, train_f1_score=1.000, val_loss=0.345, val_accuracy=0.894, val_f1_score=0.894]\n",
      "Epoch 55: 100%|██████████| 255/255 [01:38<00:00,  2.59it/s, loss=0.137, v_num=4, train_loss=0.0773, train_accuracy=1.000, train_f1_score=1.000, val_loss=0.283, val_accuracy=0.898, val_f1_score=0.898]\n",
      "Epoch 55: 100%|██████████| 255/255 [01:38<00:00,  2.59it/s, loss=0.137, v_num=4, train_loss=0.0773, train_accuracy=1.000, train_f1_score=1.000, val_loss=0.283, val_accuracy=0.898, val_f1_score=0.898]"
     ]
    },
    {
     "name": "stderr",
     "output_type": "stream",
     "text": [
      "Epoch 55, global step 12655: val_loss reached 0.28275 (best 0.28275), saving model to \"/Workspace/code/checkpoints/best-checkpoint-corr-mi-0-v3.ckpt\" as top 2\n"
     ]
    },
    {
     "name": "stdout",
     "output_type": "stream",
     "text": [
      "Epoch 56:  89%|████████▊ | 226/255 [01:26<00:11,  2.60it/s, loss=0.16, v_num=4, train_loss=0.152, train_accuracy=0.944, train_f1_score=0.944, val_loss=0.283, val_accuracy=0.898, val_f1_score=0.898]   \n",
      "Validating: 0it [00:00, ?it/s]\u001b[A\n",
      "Validating:   0%|          | 0/29 [00:00<?, ?it/s]\u001b[A\n",
      "Epoch 56:  89%|████████▉ | 228/255 [01:34<00:11,  2.41it/s, loss=0.16, v_num=4, train_loss=0.152, train_accuracy=0.944, train_f1_score=0.944, val_loss=0.283, val_accuracy=0.898, val_f1_score=0.898]\n",
      "Epoch 56:  90%|█████████ | 230/255 [01:34<00:10,  2.43it/s, loss=0.16, v_num=4, train_loss=0.152, train_accuracy=0.944, train_f1_score=0.944, val_loss=0.283, val_accuracy=0.898, val_f1_score=0.898]\n",
      "Epoch 56:  91%|█████████ | 232/255 [01:35<00:09,  2.44it/s, loss=0.16, v_num=4, train_loss=0.152, train_accuracy=0.944, train_f1_score=0.944, val_loss=0.283, val_accuracy=0.898, val_f1_score=0.898]\n",
      "Epoch 56:  92%|█████████▏| 234/255 [01:35<00:08,  2.46it/s, loss=0.16, v_num=4, train_loss=0.152, train_accuracy=0.944, train_f1_score=0.944, val_loss=0.283, val_accuracy=0.898, val_f1_score=0.898]\n",
      "Epoch 56:  93%|█████████▎| 236/255 [01:35<00:07,  2.47it/s, loss=0.16, v_num=4, train_loss=0.152, train_accuracy=0.944, train_f1_score=0.944, val_loss=0.283, val_accuracy=0.898, val_f1_score=0.898]\n",
      "Epoch 56:  93%|█████████▎| 238/255 [01:35<00:06,  2.49it/s, loss=0.16, v_num=4, train_loss=0.152, train_accuracy=0.944, train_f1_score=0.944, val_loss=0.283, val_accuracy=0.898, val_f1_score=0.898]\n",
      "Epoch 56:  94%|█████████▍| 240/255 [01:35<00:05,  2.51it/s, loss=0.16, v_num=4, train_loss=0.152, train_accuracy=0.944, train_f1_score=0.944, val_loss=0.283, val_accuracy=0.898, val_f1_score=0.898]\n",
      "Epoch 56:  95%|█████████▍| 242/255 [01:35<00:05,  2.52it/s, loss=0.16, v_num=4, train_loss=0.152, train_accuracy=0.944, train_f1_score=0.944, val_loss=0.283, val_accuracy=0.898, val_f1_score=0.898]\n",
      "Epoch 56:  96%|█████████▌| 244/255 [01:36<00:04,  2.54it/s, loss=0.16, v_num=4, train_loss=0.152, train_accuracy=0.944, train_f1_score=0.944, val_loss=0.283, val_accuracy=0.898, val_f1_score=0.898]\n",
      "Epoch 56:  96%|█████████▋| 246/255 [01:36<00:03,  2.56it/s, loss=0.16, v_num=4, train_loss=0.152, train_accuracy=0.944, train_f1_score=0.944, val_loss=0.283, val_accuracy=0.898, val_f1_score=0.898]\n",
      "Epoch 56:  97%|█████████▋| 248/255 [01:36<00:02,  2.57it/s, loss=0.16, v_num=4, train_loss=0.152, train_accuracy=0.944, train_f1_score=0.944, val_loss=0.283, val_accuracy=0.898, val_f1_score=0.898]\n",
      "Epoch 56:  98%|█████████▊| 250/255 [01:36<00:01,  2.59it/s, loss=0.16, v_num=4, train_loss=0.152, train_accuracy=0.944, train_f1_score=0.944, val_loss=0.283, val_accuracy=0.898, val_f1_score=0.898]\n",
      "Epoch 56:  99%|█████████▉| 252/255 [01:36<00:01,  2.61it/s, loss=0.16, v_num=4, train_loss=0.152, train_accuracy=0.944, train_f1_score=0.944, val_loss=0.283, val_accuracy=0.898, val_f1_score=0.898]\n",
      "Epoch 56: 100%|█████████▉| 254/255 [01:36<00:00,  2.62it/s, loss=0.16, v_num=4, train_loss=0.152, train_accuracy=0.944, train_f1_score=0.944, val_loss=0.283, val_accuracy=0.898, val_f1_score=0.898]\n",
      "Epoch 56: 100%|██████████| 255/255 [01:38<00:00,  2.60it/s, loss=0.16, v_num=4, train_loss=0.152, train_accuracy=0.944, train_f1_score=0.944, val_loss=0.309, val_accuracy=0.899, val_f1_score=0.899]\n",
      "Epoch 56: 100%|██████████| 255/255 [01:38<00:00,  2.60it/s, loss=0.16, v_num=4, train_loss=0.152, train_accuracy=0.944, train_f1_score=0.944, val_loss=0.309, val_accuracy=0.899, val_f1_score=0.899]"
     ]
    },
    {
     "name": "stderr",
     "output_type": "stream",
     "text": [
      "Epoch 56, global step 12881: val_loss was not in top 2\n"
     ]
    },
    {
     "name": "stdout",
     "output_type": "stream",
     "text": [
      "Epoch 57:  89%|████████▊ | 226/255 [01:27<00:11,  2.59it/s, loss=0.128, v_num=4, train_loss=0.0418, train_accuracy=1.000, train_f1_score=1.000, val_loss=0.309, val_accuracy=0.899, val_f1_score=0.899] \n",
      "Validating: 0it [00:00, ?it/s]\u001b[A\n",
      "Validating:   0%|          | 0/29 [00:00<?, ?it/s]\u001b[A\n",
      "Epoch 57:  89%|████████▉ | 228/255 [01:34<00:11,  2.41it/s, loss=0.128, v_num=4, train_loss=0.0418, train_accuracy=1.000, train_f1_score=1.000, val_loss=0.309, val_accuracy=0.899, val_f1_score=0.899]\n",
      "Epoch 57:  90%|█████████ | 230/255 [01:34<00:10,  2.42it/s, loss=0.128, v_num=4, train_loss=0.0418, train_accuracy=1.000, train_f1_score=1.000, val_loss=0.309, val_accuracy=0.899, val_f1_score=0.899]\n",
      "Epoch 57:  91%|█████████ | 232/255 [01:35<00:09,  2.44it/s, loss=0.128, v_num=4, train_loss=0.0418, train_accuracy=1.000, train_f1_score=1.000, val_loss=0.309, val_accuracy=0.899, val_f1_score=0.899]\n",
      "Epoch 57:  92%|█████████▏| 234/255 [01:35<00:08,  2.46it/s, loss=0.128, v_num=4, train_loss=0.0418, train_accuracy=1.000, train_f1_score=1.000, val_loss=0.309, val_accuracy=0.899, val_f1_score=0.899]\n",
      "Epoch 57:  93%|█████████▎| 236/255 [01:35<00:07,  2.47it/s, loss=0.128, v_num=4, train_loss=0.0418, train_accuracy=1.000, train_f1_score=1.000, val_loss=0.309, val_accuracy=0.899, val_f1_score=0.899]\n",
      "Epoch 57:  93%|█████████▎| 238/255 [01:35<00:06,  2.49it/s, loss=0.128, v_num=4, train_loss=0.0418, train_accuracy=1.000, train_f1_score=1.000, val_loss=0.309, val_accuracy=0.899, val_f1_score=0.899]\n",
      "Epoch 57:  94%|█████████▍| 240/255 [01:35<00:05,  2.50it/s, loss=0.128, v_num=4, train_loss=0.0418, train_accuracy=1.000, train_f1_score=1.000, val_loss=0.309, val_accuracy=0.899, val_f1_score=0.899]\n",
      "Epoch 57:  95%|█████████▍| 242/255 [01:35<00:05,  2.52it/s, loss=0.128, v_num=4, train_loss=0.0418, train_accuracy=1.000, train_f1_score=1.000, val_loss=0.309, val_accuracy=0.899, val_f1_score=0.899]\n",
      "Epoch 57:  96%|█████████▌| 244/255 [01:36<00:04,  2.54it/s, loss=0.128, v_num=4, train_loss=0.0418, train_accuracy=1.000, train_f1_score=1.000, val_loss=0.309, val_accuracy=0.899, val_f1_score=0.899]\n",
      "Epoch 57:  96%|█████████▋| 246/255 [01:36<00:03,  2.55it/s, loss=0.128, v_num=4, train_loss=0.0418, train_accuracy=1.000, train_f1_score=1.000, val_loss=0.309, val_accuracy=0.899, val_f1_score=0.899]\n",
      "Epoch 57:  97%|█████████▋| 248/255 [01:36<00:02,  2.57it/s, loss=0.128, v_num=4, train_loss=0.0418, train_accuracy=1.000, train_f1_score=1.000, val_loss=0.309, val_accuracy=0.899, val_f1_score=0.899]\n",
      "Epoch 57:  98%|█████████▊| 250/255 [01:36<00:01,  2.59it/s, loss=0.128, v_num=4, train_loss=0.0418, train_accuracy=1.000, train_f1_score=1.000, val_loss=0.309, val_accuracy=0.899, val_f1_score=0.899]\n",
      "Epoch 57:  99%|█████████▉| 252/255 [01:36<00:01,  2.60it/s, loss=0.128, v_num=4, train_loss=0.0418, train_accuracy=1.000, train_f1_score=1.000, val_loss=0.309, val_accuracy=0.899, val_f1_score=0.899]\n",
      "Epoch 57: 100%|█████████▉| 254/255 [01:37<00:00,  2.62it/s, loss=0.128, v_num=4, train_loss=0.0418, train_accuracy=1.000, train_f1_score=1.000, val_loss=0.309, val_accuracy=0.899, val_f1_score=0.899]\n",
      "Epoch 57: 100%|██████████| 255/255 [01:38<00:00,  2.60it/s, loss=0.128, v_num=4, train_loss=0.0418, train_accuracy=1.000, train_f1_score=1.000, val_loss=0.308, val_accuracy=0.896, val_f1_score=0.896]\n",
      "Epoch 57: 100%|██████████| 255/255 [01:38<00:00,  2.60it/s, loss=0.128, v_num=4, train_loss=0.0418, train_accuracy=1.000, train_f1_score=1.000, val_loss=0.308, val_accuracy=0.896, val_f1_score=0.896]"
     ]
    },
    {
     "name": "stderr",
     "output_type": "stream",
     "text": [
      "Epoch 57, global step 13107: val_loss was not in top 2\n"
     ]
    },
    {
     "name": "stdout",
     "output_type": "stream",
     "text": [
      "Epoch 58:  89%|████████▊ | 226/255 [01:27<00:11,  2.60it/s, loss=0.132, v_num=4, train_loss=0.0451, train_accuracy=1.000, train_f1_score=1.000, val_loss=0.308, val_accuracy=0.896, val_f1_score=0.896]\n",
      "Validating: 0it [00:00, ?it/s]\u001b[A\n",
      "Validating:   0%|          | 0/29 [00:00<?, ?it/s]\u001b[A\n",
      "Epoch 58:  89%|████████▉ | 228/255 [01:34<00:11,  2.41it/s, loss=0.132, v_num=4, train_loss=0.0451, train_accuracy=1.000, train_f1_score=1.000, val_loss=0.308, val_accuracy=0.896, val_f1_score=0.896]\n",
      "Epoch 58:  90%|█████████ | 230/255 [01:34<00:10,  2.42it/s, loss=0.132, v_num=4, train_loss=0.0451, train_accuracy=1.000, train_f1_score=1.000, val_loss=0.308, val_accuracy=0.896, val_f1_score=0.896]\n",
      "Epoch 58:  91%|█████████ | 232/255 [01:35<00:09,  2.44it/s, loss=0.132, v_num=4, train_loss=0.0451, train_accuracy=1.000, train_f1_score=1.000, val_loss=0.308, val_accuracy=0.896, val_f1_score=0.896]\n",
      "Epoch 58:  92%|█████████▏| 234/255 [01:35<00:08,  2.46it/s, loss=0.132, v_num=4, train_loss=0.0451, train_accuracy=1.000, train_f1_score=1.000, val_loss=0.308, val_accuracy=0.896, val_f1_score=0.896]\n",
      "Epoch 58:  93%|█████████▎| 236/255 [01:35<00:07,  2.47it/s, loss=0.132, v_num=4, train_loss=0.0451, train_accuracy=1.000, train_f1_score=1.000, val_loss=0.308, val_accuracy=0.896, val_f1_score=0.896]\n",
      "Epoch 58:  93%|█████████▎| 238/255 [01:35<00:06,  2.49it/s, loss=0.132, v_num=4, train_loss=0.0451, train_accuracy=1.000, train_f1_score=1.000, val_loss=0.308, val_accuracy=0.896, val_f1_score=0.896]\n",
      "Epoch 58:  94%|█████████▍| 240/255 [01:35<00:05,  2.50it/s, loss=0.132, v_num=4, train_loss=0.0451, train_accuracy=1.000, train_f1_score=1.000, val_loss=0.308, val_accuracy=0.896, val_f1_score=0.896]\n",
      "Epoch 58:  95%|█████████▍| 242/255 [01:36<00:05,  2.52it/s, loss=0.132, v_num=4, train_loss=0.0451, train_accuracy=1.000, train_f1_score=1.000, val_loss=0.308, val_accuracy=0.896, val_f1_score=0.896]\n",
      "Epoch 58:  96%|█████████▌| 244/255 [01:36<00:04,  2.54it/s, loss=0.132, v_num=4, train_loss=0.0451, train_accuracy=1.000, train_f1_score=1.000, val_loss=0.308, val_accuracy=0.896, val_f1_score=0.896]\n",
      "Epoch 58:  96%|█████████▋| 246/255 [01:36<00:03,  2.55it/s, loss=0.132, v_num=4, train_loss=0.0451, train_accuracy=1.000, train_f1_score=1.000, val_loss=0.308, val_accuracy=0.896, val_f1_score=0.896]\n",
      "Epoch 58:  97%|█████████▋| 248/255 [01:36<00:02,  2.57it/s, loss=0.132, v_num=4, train_loss=0.0451, train_accuracy=1.000, train_f1_score=1.000, val_loss=0.308, val_accuracy=0.896, val_f1_score=0.896]\n",
      "Epoch 58:  98%|█████████▊| 250/255 [01:36<00:01,  2.58it/s, loss=0.132, v_num=4, train_loss=0.0451, train_accuracy=1.000, train_f1_score=1.000, val_loss=0.308, val_accuracy=0.896, val_f1_score=0.896]\n",
      "Epoch 58:  99%|█████████▉| 252/255 [01:36<00:01,  2.60it/s, loss=0.132, v_num=4, train_loss=0.0451, train_accuracy=1.000, train_f1_score=1.000, val_loss=0.308, val_accuracy=0.896, val_f1_score=0.896]\n",
      "Epoch 58: 100%|█████████▉| 254/255 [01:37<00:00,  2.62it/s, loss=0.132, v_num=4, train_loss=0.0451, train_accuracy=1.000, train_f1_score=1.000, val_loss=0.308, val_accuracy=0.896, val_f1_score=0.896]\n",
      "Epoch 58: 100%|██████████| 255/255 [01:38<00:00,  2.60it/s, loss=0.132, v_num=4, train_loss=0.0451, train_accuracy=1.000, train_f1_score=1.000, val_loss=0.326, val_accuracy=0.894, val_f1_score=0.894]\n",
      "Epoch 58: 100%|██████████| 255/255 [01:38<00:00,  2.59it/s, loss=0.132, v_num=4, train_loss=0.0451, train_accuracy=1.000, train_f1_score=1.000, val_loss=0.326, val_accuracy=0.894, val_f1_score=0.894]"
     ]
    },
    {
     "name": "stderr",
     "output_type": "stream",
     "text": [
      "Epoch 58, global step 13333: val_loss was not in top 2\n"
     ]
    },
    {
     "name": "stdout",
     "output_type": "stream",
     "text": [
      "Epoch 59:  89%|████████▊ | 226/255 [01:27<00:11,  2.59it/s, loss=0.115, v_num=4, train_loss=0.0458, train_accuracy=1.000, train_f1_score=1.000, val_loss=0.326, val_accuracy=0.894, val_f1_score=0.894] \n",
      "Validating: 0it [00:00, ?it/s]\u001b[A\n",
      "Validating:   0%|          | 0/29 [00:00<?, ?it/s]\u001b[A\n",
      "Epoch 59:  89%|████████▉ | 228/255 [01:34<00:11,  2.41it/s, loss=0.115, v_num=4, train_loss=0.0458, train_accuracy=1.000, train_f1_score=1.000, val_loss=0.326, val_accuracy=0.894, val_f1_score=0.894]\n",
      "Epoch 59:  90%|█████████ | 230/255 [01:34<00:10,  2.42it/s, loss=0.115, v_num=4, train_loss=0.0458, train_accuracy=1.000, train_f1_score=1.000, val_loss=0.326, val_accuracy=0.894, val_f1_score=0.894]\n",
      "Epoch 59:  91%|█████████ | 232/255 [01:35<00:09,  2.44it/s, loss=0.115, v_num=4, train_loss=0.0458, train_accuracy=1.000, train_f1_score=1.000, val_loss=0.326, val_accuracy=0.894, val_f1_score=0.894]\n",
      "Epoch 59:  92%|█████████▏| 234/255 [01:35<00:08,  2.45it/s, loss=0.115, v_num=4, train_loss=0.0458, train_accuracy=1.000, train_f1_score=1.000, val_loss=0.326, val_accuracy=0.894, val_f1_score=0.894]\n",
      "Epoch 59:  93%|█████████▎| 236/255 [01:35<00:07,  2.47it/s, loss=0.115, v_num=4, train_loss=0.0458, train_accuracy=1.000, train_f1_score=1.000, val_loss=0.326, val_accuracy=0.894, val_f1_score=0.894]\n",
      "Epoch 59:  93%|█████████▎| 238/255 [01:35<00:06,  2.49it/s, loss=0.115, v_num=4, train_loss=0.0458, train_accuracy=1.000, train_f1_score=1.000, val_loss=0.326, val_accuracy=0.894, val_f1_score=0.894]\n",
      "Epoch 59:  94%|█████████▍| 240/255 [01:35<00:05,  2.50it/s, loss=0.115, v_num=4, train_loss=0.0458, train_accuracy=1.000, train_f1_score=1.000, val_loss=0.326, val_accuracy=0.894, val_f1_score=0.894]\n",
      "Epoch 59:  95%|█████████▍| 242/255 [01:36<00:05,  2.52it/s, loss=0.115, v_num=4, train_loss=0.0458, train_accuracy=1.000, train_f1_score=1.000, val_loss=0.326, val_accuracy=0.894, val_f1_score=0.894]\n",
      "Epoch 59:  96%|█████████▌| 244/255 [01:36<00:04,  2.54it/s, loss=0.115, v_num=4, train_loss=0.0458, train_accuracy=1.000, train_f1_score=1.000, val_loss=0.326, val_accuracy=0.894, val_f1_score=0.894]\n",
      "Epoch 59:  96%|█████████▋| 246/255 [01:36<00:03,  2.55it/s, loss=0.115, v_num=4, train_loss=0.0458, train_accuracy=1.000, train_f1_score=1.000, val_loss=0.326, val_accuracy=0.894, val_f1_score=0.894]\n",
      "Epoch 59:  97%|█████████▋| 248/255 [01:36<00:02,  2.57it/s, loss=0.115, v_num=4, train_loss=0.0458, train_accuracy=1.000, train_f1_score=1.000, val_loss=0.326, val_accuracy=0.894, val_f1_score=0.894]\n",
      "Epoch 59:  98%|█████████▊| 250/255 [01:36<00:01,  2.58it/s, loss=0.115, v_num=4, train_loss=0.0458, train_accuracy=1.000, train_f1_score=1.000, val_loss=0.326, val_accuracy=0.894, val_f1_score=0.894]\n",
      "Epoch 59:  99%|█████████▉| 252/255 [01:36<00:01,  2.60it/s, loss=0.115, v_num=4, train_loss=0.0458, train_accuracy=1.000, train_f1_score=1.000, val_loss=0.326, val_accuracy=0.894, val_f1_score=0.894]\n",
      "Epoch 59: 100%|█████████▉| 254/255 [01:37<00:00,  2.62it/s, loss=0.115, v_num=4, train_loss=0.0458, train_accuracy=1.000, train_f1_score=1.000, val_loss=0.326, val_accuracy=0.894, val_f1_score=0.894]\n",
      "Epoch 59: 100%|██████████| 255/255 [01:38<00:00,  2.59it/s, loss=0.115, v_num=4, train_loss=0.0458, train_accuracy=1.000, train_f1_score=1.000, val_loss=0.325, val_accuracy=0.894, val_f1_score=0.894]\n",
      "Epoch 59: 100%|██████████| 255/255 [01:38<00:00,  2.59it/s, loss=0.115, v_num=4, train_loss=0.0458, train_accuracy=1.000, train_f1_score=1.000, val_loss=0.325, val_accuracy=0.894, val_f1_score=0.894]"
     ]
    },
    {
     "name": "stderr",
     "output_type": "stream",
     "text": [
      "Epoch 59, global step 13559: val_loss was not in top 2\n"
     ]
    },
    {
     "name": "stdout",
     "output_type": "stream",
     "text": [
      "Epoch 60:  89%|████████▊ | 226/255 [01:26<00:11,  2.60it/s, loss=0.0931, v_num=4, train_loss=0.144, train_accuracy=0.889, train_f1_score=0.889, val_loss=0.325, val_accuracy=0.894, val_f1_score=0.894] \n",
      "Validating: 0it [00:00, ?it/s]\u001b[A\n",
      "Validating:   0%|          | 0/29 [00:00<?, ?it/s]\u001b[A\n",
      "Epoch 60:  89%|████████▉ | 228/255 [01:34<00:11,  2.41it/s, loss=0.0931, v_num=4, train_loss=0.144, train_accuracy=0.889, train_f1_score=0.889, val_loss=0.325, val_accuracy=0.894, val_f1_score=0.894]\n",
      "Epoch 60:  90%|█████████ | 230/255 [01:34<00:10,  2.42it/s, loss=0.0931, v_num=4, train_loss=0.144, train_accuracy=0.889, train_f1_score=0.889, val_loss=0.325, val_accuracy=0.894, val_f1_score=0.894]\n",
      "Epoch 60:  91%|█████████ | 232/255 [01:35<00:09,  2.44it/s, loss=0.0931, v_num=4, train_loss=0.144, train_accuracy=0.889, train_f1_score=0.889, val_loss=0.325, val_accuracy=0.894, val_f1_score=0.894]\n",
      "Epoch 60:  92%|█████████▏| 234/255 [01:35<00:08,  2.46it/s, loss=0.0931, v_num=4, train_loss=0.144, train_accuracy=0.889, train_f1_score=0.889, val_loss=0.325, val_accuracy=0.894, val_f1_score=0.894]\n",
      "Epoch 60:  93%|█████████▎| 236/255 [01:35<00:07,  2.47it/s, loss=0.0931, v_num=4, train_loss=0.144, train_accuracy=0.889, train_f1_score=0.889, val_loss=0.325, val_accuracy=0.894, val_f1_score=0.894]\n",
      "Epoch 60:  93%|█████████▎| 238/255 [01:35<00:06,  2.49it/s, loss=0.0931, v_num=4, train_loss=0.144, train_accuracy=0.889, train_f1_score=0.889, val_loss=0.325, val_accuracy=0.894, val_f1_score=0.894]\n",
      "Epoch 60:  94%|█████████▍| 240/255 [01:35<00:05,  2.50it/s, loss=0.0931, v_num=4, train_loss=0.144, train_accuracy=0.889, train_f1_score=0.889, val_loss=0.325, val_accuracy=0.894, val_f1_score=0.894]\n",
      "Epoch 60:  95%|█████████▍| 242/255 [01:36<00:05,  2.52it/s, loss=0.0931, v_num=4, train_loss=0.144, train_accuracy=0.889, train_f1_score=0.889, val_loss=0.325, val_accuracy=0.894, val_f1_score=0.894]\n",
      "Epoch 60:  96%|█████████▌| 244/255 [01:36<00:04,  2.54it/s, loss=0.0931, v_num=4, train_loss=0.144, train_accuracy=0.889, train_f1_score=0.889, val_loss=0.325, val_accuracy=0.894, val_f1_score=0.894]\n",
      "Epoch 60:  96%|█████████▋| 246/255 [01:36<00:03,  2.55it/s, loss=0.0931, v_num=4, train_loss=0.144, train_accuracy=0.889, train_f1_score=0.889, val_loss=0.325, val_accuracy=0.894, val_f1_score=0.894]\n",
      "Epoch 60:  97%|█████████▋| 248/255 [01:36<00:02,  2.57it/s, loss=0.0931, v_num=4, train_loss=0.144, train_accuracy=0.889, train_f1_score=0.889, val_loss=0.325, val_accuracy=0.894, val_f1_score=0.894]\n",
      "Epoch 60:  98%|█████████▊| 250/255 [01:36<00:01,  2.58it/s, loss=0.0931, v_num=4, train_loss=0.144, train_accuracy=0.889, train_f1_score=0.889, val_loss=0.325, val_accuracy=0.894, val_f1_score=0.894]\n",
      "Epoch 60:  99%|█████████▉| 252/255 [01:36<00:01,  2.60it/s, loss=0.0931, v_num=4, train_loss=0.144, train_accuracy=0.889, train_f1_score=0.889, val_loss=0.325, val_accuracy=0.894, val_f1_score=0.894]\n",
      "Epoch 60: 100%|█████████▉| 254/255 [01:37<00:00,  2.62it/s, loss=0.0931, v_num=4, train_loss=0.144, train_accuracy=0.889, train_f1_score=0.889, val_loss=0.325, val_accuracy=0.894, val_f1_score=0.894]\n",
      "Epoch 60: 100%|██████████| 255/255 [01:38<00:00,  2.59it/s, loss=0.0931, v_num=4, train_loss=0.144, train_accuracy=0.889, train_f1_score=0.889, val_loss=0.316, val_accuracy=0.903, val_f1_score=0.903]\n",
      "Epoch 60: 100%|██████████| 255/255 [01:38<00:00,  2.59it/s, loss=0.0931, v_num=4, train_loss=0.144, train_accuracy=0.889, train_f1_score=0.889, val_loss=0.316, val_accuracy=0.903, val_f1_score=0.903]"
     ]
    },
    {
     "name": "stderr",
     "output_type": "stream",
     "text": [
      "Epoch 60, global step 13785: val_loss was not in top 2\n"
     ]
    },
    {
     "name": "stdout",
     "output_type": "stream",
     "text": [
      "Epoch 61:  89%|████████▊ | 226/255 [01:26<00:11,  2.60it/s, loss=0.105, v_num=4, train_loss=0.0307, train_accuracy=1.000, train_f1_score=1.000, val_loss=0.316, val_accuracy=0.903, val_f1_score=0.903] \n",
      "Validating: 0it [00:00, ?it/s]\u001b[A\n",
      "Validating:   0%|          | 0/29 [00:00<?, ?it/s]\u001b[A\n",
      "Epoch 61:  89%|████████▉ | 228/255 [01:34<00:11,  2.40it/s, loss=0.105, v_num=4, train_loss=0.0307, train_accuracy=1.000, train_f1_score=1.000, val_loss=0.316, val_accuracy=0.903, val_f1_score=0.903]\n",
      "Epoch 61:  90%|█████████ | 230/255 [01:35<00:10,  2.42it/s, loss=0.105, v_num=4, train_loss=0.0307, train_accuracy=1.000, train_f1_score=1.000, val_loss=0.316, val_accuracy=0.903, val_f1_score=0.903]\n",
      "Epoch 61:  91%|█████████ | 232/255 [01:35<00:09,  2.43it/s, loss=0.105, v_num=4, train_loss=0.0307, train_accuracy=1.000, train_f1_score=1.000, val_loss=0.316, val_accuracy=0.903, val_f1_score=0.903]\n",
      "Epoch 61:  92%|█████████▏| 234/255 [01:35<00:08,  2.45it/s, loss=0.105, v_num=4, train_loss=0.0307, train_accuracy=1.000, train_f1_score=1.000, val_loss=0.316, val_accuracy=0.903, val_f1_score=0.903]\n",
      "Epoch 61:  93%|█████████▎| 236/255 [01:35<00:07,  2.47it/s, loss=0.105, v_num=4, train_loss=0.0307, train_accuracy=1.000, train_f1_score=1.000, val_loss=0.316, val_accuracy=0.903, val_f1_score=0.903]\n",
      "Epoch 61:  93%|█████████▎| 238/255 [01:35<00:06,  2.48it/s, loss=0.105, v_num=4, train_loss=0.0307, train_accuracy=1.000, train_f1_score=1.000, val_loss=0.316, val_accuracy=0.903, val_f1_score=0.903]\n",
      "Epoch 61:  94%|█████████▍| 240/255 [01:35<00:05,  2.50it/s, loss=0.105, v_num=4, train_loss=0.0307, train_accuracy=1.000, train_f1_score=1.000, val_loss=0.316, val_accuracy=0.903, val_f1_score=0.903]\n",
      "Epoch 61:  95%|█████████▍| 242/255 [01:36<00:05,  2.52it/s, loss=0.105, v_num=4, train_loss=0.0307, train_accuracy=1.000, train_f1_score=1.000, val_loss=0.316, val_accuracy=0.903, val_f1_score=0.903]\n",
      "Epoch 61:  96%|█████████▌| 244/255 [01:36<00:04,  2.53it/s, loss=0.105, v_num=4, train_loss=0.0307, train_accuracy=1.000, train_f1_score=1.000, val_loss=0.316, val_accuracy=0.903, val_f1_score=0.903]\n",
      "Epoch 61:  96%|█████████▋| 246/255 [01:36<00:03,  2.55it/s, loss=0.105, v_num=4, train_loss=0.0307, train_accuracy=1.000, train_f1_score=1.000, val_loss=0.316, val_accuracy=0.903, val_f1_score=0.903]\n",
      "Epoch 61:  97%|█████████▋| 248/255 [01:36<00:02,  2.57it/s, loss=0.105, v_num=4, train_loss=0.0307, train_accuracy=1.000, train_f1_score=1.000, val_loss=0.316, val_accuracy=0.903, val_f1_score=0.903]\n",
      "Epoch 61:  98%|█████████▊| 250/255 [01:36<00:01,  2.58it/s, loss=0.105, v_num=4, train_loss=0.0307, train_accuracy=1.000, train_f1_score=1.000, val_loss=0.316, val_accuracy=0.903, val_f1_score=0.903]\n",
      "Epoch 61:  99%|█████████▉| 252/255 [01:37<00:01,  2.60it/s, loss=0.105, v_num=4, train_loss=0.0307, train_accuracy=1.000, train_f1_score=1.000, val_loss=0.316, val_accuracy=0.903, val_f1_score=0.903]\n",
      "Epoch 61: 100%|█████████▉| 254/255 [01:37<00:00,  2.61it/s, loss=0.105, v_num=4, train_loss=0.0307, train_accuracy=1.000, train_f1_score=1.000, val_loss=0.316, val_accuracy=0.903, val_f1_score=0.903]\n",
      "Epoch 61: 100%|██████████| 255/255 [01:38<00:00,  2.59it/s, loss=0.105, v_num=4, train_loss=0.0307, train_accuracy=1.000, train_f1_score=1.000, val_loss=0.340, val_accuracy=0.902, val_f1_score=0.902]\n",
      "Epoch 61: 100%|██████████| 255/255 [01:38<00:00,  2.59it/s, loss=0.105, v_num=4, train_loss=0.0307, train_accuracy=1.000, train_f1_score=1.000, val_loss=0.340, val_accuracy=0.902, val_f1_score=0.902]"
     ]
    },
    {
     "name": "stderr",
     "output_type": "stream",
     "text": [
      "Epoch 61, global step 14011: val_loss was not in top 2\n"
     ]
    },
    {
     "name": "stdout",
     "output_type": "stream",
     "text": [
      "Epoch 62:  89%|████████▊ | 226/255 [01:27<00:11,  2.59it/s, loss=0.0977, v_num=4, train_loss=0.0617, train_accuracy=0.944, train_f1_score=0.944, val_loss=0.340, val_accuracy=0.902, val_f1_score=0.902]\n",
      "Validating: 0it [00:00, ?it/s]\u001b[A\n",
      "Validating:   0%|          | 0/29 [00:00<?, ?it/s]\u001b[A\n",
      "Epoch 62:  89%|████████▉ | 228/255 [01:35<00:11,  2.39it/s, loss=0.0977, v_num=4, train_loss=0.0617, train_accuracy=0.944, train_f1_score=0.944, val_loss=0.340, val_accuracy=0.902, val_f1_score=0.902]\n",
      "Epoch 62:  90%|█████████ | 230/255 [01:35<00:10,  2.41it/s, loss=0.0977, v_num=4, train_loss=0.0617, train_accuracy=0.944, train_f1_score=0.944, val_loss=0.340, val_accuracy=0.902, val_f1_score=0.902]\n",
      "Epoch 62:  91%|█████████ | 232/255 [01:35<00:09,  2.42it/s, loss=0.0977, v_num=4, train_loss=0.0617, train_accuracy=0.944, train_f1_score=0.944, val_loss=0.340, val_accuracy=0.902, val_f1_score=0.902]\n",
      "Epoch 62:  92%|█████████▏| 234/255 [01:35<00:08,  2.44it/s, loss=0.0977, v_num=4, train_loss=0.0617, train_accuracy=0.944, train_f1_score=0.944, val_loss=0.340, val_accuracy=0.902, val_f1_score=0.902]\n",
      "Epoch 62:  93%|█████████▎| 236/255 [01:36<00:07,  2.46it/s, loss=0.0977, v_num=4, train_loss=0.0617, train_accuracy=0.944, train_f1_score=0.944, val_loss=0.340, val_accuracy=0.902, val_f1_score=0.902]\n",
      "Epoch 62:  93%|█████████▎| 238/255 [01:36<00:06,  2.47it/s, loss=0.0977, v_num=4, train_loss=0.0617, train_accuracy=0.944, train_f1_score=0.944, val_loss=0.340, val_accuracy=0.902, val_f1_score=0.902]\n",
      "Epoch 62:  94%|█████████▍| 240/255 [01:36<00:06,  2.49it/s, loss=0.0977, v_num=4, train_loss=0.0617, train_accuracy=0.944, train_f1_score=0.944, val_loss=0.340, val_accuracy=0.902, val_f1_score=0.902]\n",
      "Epoch 62:  95%|█████████▍| 242/255 [01:36<00:05,  2.51it/s, loss=0.0977, v_num=4, train_loss=0.0617, train_accuracy=0.944, train_f1_score=0.944, val_loss=0.340, val_accuracy=0.902, val_f1_score=0.902]\n",
      "Epoch 62:  96%|█████████▌| 244/255 [01:36<00:04,  2.52it/s, loss=0.0977, v_num=4, train_loss=0.0617, train_accuracy=0.944, train_f1_score=0.944, val_loss=0.340, val_accuracy=0.902, val_f1_score=0.902]\n",
      "Epoch 62:  96%|█████████▋| 246/255 [01:36<00:03,  2.54it/s, loss=0.0977, v_num=4, train_loss=0.0617, train_accuracy=0.944, train_f1_score=0.944, val_loss=0.340, val_accuracy=0.902, val_f1_score=0.902]\n",
      "Epoch 62:  97%|█████████▋| 248/255 [01:37<00:02,  2.56it/s, loss=0.0977, v_num=4, train_loss=0.0617, train_accuracy=0.944, train_f1_score=0.944, val_loss=0.340, val_accuracy=0.902, val_f1_score=0.902]\n",
      "Epoch 62:  98%|█████████▊| 250/255 [01:37<00:01,  2.57it/s, loss=0.0977, v_num=4, train_loss=0.0617, train_accuracy=0.944, train_f1_score=0.944, val_loss=0.340, val_accuracy=0.902, val_f1_score=0.902]\n",
      "Epoch 62:  99%|█████████▉| 252/255 [01:37<00:01,  2.59it/s, loss=0.0977, v_num=4, train_loss=0.0617, train_accuracy=0.944, train_f1_score=0.944, val_loss=0.340, val_accuracy=0.902, val_f1_score=0.902]\n",
      "Epoch 62: 100%|█████████▉| 254/255 [01:37<00:00,  2.61it/s, loss=0.0977, v_num=4, train_loss=0.0617, train_accuracy=0.944, train_f1_score=0.944, val_loss=0.340, val_accuracy=0.902, val_f1_score=0.902]\n",
      "Epoch 62: 100%|██████████| 255/255 [01:38<00:00,  2.58it/s, loss=0.0977, v_num=4, train_loss=0.0617, train_accuracy=0.944, train_f1_score=0.944, val_loss=0.348, val_accuracy=0.891, val_f1_score=0.891]\n",
      "Epoch 62: 100%|██████████| 255/255 [01:38<00:00,  2.58it/s, loss=0.0977, v_num=4, train_loss=0.0617, train_accuracy=0.944, train_f1_score=0.944, val_loss=0.348, val_accuracy=0.891, val_f1_score=0.891]"
     ]
    },
    {
     "name": "stderr",
     "output_type": "stream",
     "text": [
      "Epoch 62, global step 14237: val_loss was not in top 2\n"
     ]
    },
    {
     "name": "stdout",
     "output_type": "stream",
     "text": [
      "Epoch 63:  89%|████████▊ | 226/255 [01:27<00:11,  2.58it/s, loss=0.15, v_num=4, train_loss=0.227, train_accuracy=0.944, train_f1_score=0.944, val_loss=0.348, val_accuracy=0.891, val_f1_score=0.891]   \n",
      "Validating: 0it [00:00, ?it/s]\u001b[A\n",
      "Validating:   0%|          | 0/29 [00:00<?, ?it/s]\u001b[A\n",
      "Epoch 63:  89%|████████▉ | 228/255 [01:35<00:11,  2.38it/s, loss=0.15, v_num=4, train_loss=0.227, train_accuracy=0.944, train_f1_score=0.944, val_loss=0.348, val_accuracy=0.891, val_f1_score=0.891]\n",
      "Epoch 63:  90%|█████████ | 230/255 [01:35<00:10,  2.40it/s, loss=0.15, v_num=4, train_loss=0.227, train_accuracy=0.944, train_f1_score=0.944, val_loss=0.348, val_accuracy=0.891, val_f1_score=0.891]\n",
      "Epoch 63:  91%|█████████ | 232/255 [01:36<00:09,  2.41it/s, loss=0.15, v_num=4, train_loss=0.227, train_accuracy=0.944, train_f1_score=0.944, val_loss=0.348, val_accuracy=0.891, val_f1_score=0.891]\n",
      "Epoch 63:  92%|█████████▏| 234/255 [01:36<00:08,  2.43it/s, loss=0.15, v_num=4, train_loss=0.227, train_accuracy=0.944, train_f1_score=0.944, val_loss=0.348, val_accuracy=0.891, val_f1_score=0.891]\n",
      "Epoch 63:  93%|█████████▎| 236/255 [01:36<00:07,  2.45it/s, loss=0.15, v_num=4, train_loss=0.227, train_accuracy=0.944, train_f1_score=0.944, val_loss=0.348, val_accuracy=0.891, val_f1_score=0.891]\n",
      "Epoch 63:  93%|█████████▎| 238/255 [01:36<00:06,  2.46it/s, loss=0.15, v_num=4, train_loss=0.227, train_accuracy=0.944, train_f1_score=0.944, val_loss=0.348, val_accuracy=0.891, val_f1_score=0.891]\n",
      "Epoch 63:  94%|█████████▍| 240/255 [01:36<00:06,  2.48it/s, loss=0.15, v_num=4, train_loss=0.227, train_accuracy=0.944, train_f1_score=0.944, val_loss=0.348, val_accuracy=0.891, val_f1_score=0.891]\n",
      "Epoch 63:  95%|█████████▍| 242/255 [01:36<00:05,  2.50it/s, loss=0.15, v_num=4, train_loss=0.227, train_accuracy=0.944, train_f1_score=0.944, val_loss=0.348, val_accuracy=0.891, val_f1_score=0.891]\n",
      "Epoch 63:  96%|█████████▌| 244/255 [01:37<00:04,  2.51it/s, loss=0.15, v_num=4, train_loss=0.227, train_accuracy=0.944, train_f1_score=0.944, val_loss=0.348, val_accuracy=0.891, val_f1_score=0.891]\n",
      "Epoch 63:  96%|█████████▋| 246/255 [01:37<00:03,  2.53it/s, loss=0.15, v_num=4, train_loss=0.227, train_accuracy=0.944, train_f1_score=0.944, val_loss=0.348, val_accuracy=0.891, val_f1_score=0.891]\n",
      "Epoch 63:  97%|█████████▋| 248/255 [01:37<00:02,  2.55it/s, loss=0.15, v_num=4, train_loss=0.227, train_accuracy=0.944, train_f1_score=0.944, val_loss=0.348, val_accuracy=0.891, val_f1_score=0.891]\n",
      "Epoch 63:  98%|█████████▊| 250/255 [01:37<00:01,  2.56it/s, loss=0.15, v_num=4, train_loss=0.227, train_accuracy=0.944, train_f1_score=0.944, val_loss=0.348, val_accuracy=0.891, val_f1_score=0.891]\n",
      "Epoch 63:  99%|█████████▉| 252/255 [01:37<00:01,  2.58it/s, loss=0.15, v_num=4, train_loss=0.227, train_accuracy=0.944, train_f1_score=0.944, val_loss=0.348, val_accuracy=0.891, val_f1_score=0.891]\n",
      "Epoch 63: 100%|█████████▉| 254/255 [01:37<00:00,  2.60it/s, loss=0.15, v_num=4, train_loss=0.227, train_accuracy=0.944, train_f1_score=0.944, val_loss=0.348, val_accuracy=0.891, val_f1_score=0.891]\n",
      "Epoch 63: 100%|██████████| 255/255 [01:38<00:00,  2.58it/s, loss=0.15, v_num=4, train_loss=0.227, train_accuracy=0.944, train_f1_score=0.944, val_loss=0.350, val_accuracy=0.897, val_f1_score=0.897]\n",
      "Epoch 63: 100%|██████████| 255/255 [01:38<00:00,  2.58it/s, loss=0.15, v_num=4, train_loss=0.227, train_accuracy=0.944, train_f1_score=0.944, val_loss=0.350, val_accuracy=0.897, val_f1_score=0.897]"
     ]
    },
    {
     "name": "stderr",
     "output_type": "stream",
     "text": [
      "Epoch 63, global step 14463: val_loss was not in top 2\n"
     ]
    },
    {
     "name": "stdout",
     "output_type": "stream",
     "text": [
      "Epoch 64:  89%|████████▊ | 226/255 [01:27<00:11,  2.58it/s, loss=0.0893, v_num=4, train_loss=0.0662, train_accuracy=0.944, train_f1_score=0.944, val_loss=0.350, val_accuracy=0.897, val_f1_score=0.897]\n",
      "Validating: 0it [00:00, ?it/s]\u001b[A\n",
      "Validating:   0%|          | 0/29 [00:00<?, ?it/s]\u001b[A\n",
      "Epoch 64:  89%|████████▉ | 228/255 [01:35<00:11,  2.39it/s, loss=0.0893, v_num=4, train_loss=0.0662, train_accuracy=0.944, train_f1_score=0.944, val_loss=0.350, val_accuracy=0.897, val_f1_score=0.897]\n",
      "Epoch 64:  90%|█████████ | 230/255 [01:35<00:10,  2.40it/s, loss=0.0893, v_num=4, train_loss=0.0662, train_accuracy=0.944, train_f1_score=0.944, val_loss=0.350, val_accuracy=0.897, val_f1_score=0.897]\n",
      "Epoch 64:  91%|█████████ | 232/255 [01:35<00:09,  2.42it/s, loss=0.0893, v_num=4, train_loss=0.0662, train_accuracy=0.944, train_f1_score=0.944, val_loss=0.350, val_accuracy=0.897, val_f1_score=0.897]\n",
      "Epoch 64:  92%|█████████▏| 234/255 [01:35<00:08,  2.44it/s, loss=0.0893, v_num=4, train_loss=0.0662, train_accuracy=0.944, train_f1_score=0.944, val_loss=0.350, val_accuracy=0.897, val_f1_score=0.897]\n",
      "Epoch 64:  93%|█████████▎| 236/255 [01:36<00:07,  2.45it/s, loss=0.0893, v_num=4, train_loss=0.0662, train_accuracy=0.944, train_f1_score=0.944, val_loss=0.350, val_accuracy=0.897, val_f1_score=0.897]\n",
      "Epoch 64:  93%|█████████▎| 238/255 [01:36<00:06,  2.47it/s, loss=0.0893, v_num=4, train_loss=0.0662, train_accuracy=0.944, train_f1_score=0.944, val_loss=0.350, val_accuracy=0.897, val_f1_score=0.897]\n",
      "Epoch 64:  94%|█████████▍| 240/255 [01:36<00:06,  2.49it/s, loss=0.0893, v_num=4, train_loss=0.0662, train_accuracy=0.944, train_f1_score=0.944, val_loss=0.350, val_accuracy=0.897, val_f1_score=0.897]\n",
      "Epoch 64:  95%|█████████▍| 242/255 [01:36<00:05,  2.50it/s, loss=0.0893, v_num=4, train_loss=0.0662, train_accuracy=0.944, train_f1_score=0.944, val_loss=0.350, val_accuracy=0.897, val_f1_score=0.897]\n",
      "Epoch 64:  96%|█████████▌| 244/255 [01:36<00:04,  2.52it/s, loss=0.0893, v_num=4, train_loss=0.0662, train_accuracy=0.944, train_f1_score=0.944, val_loss=0.350, val_accuracy=0.897, val_f1_score=0.897]\n",
      "Epoch 64:  96%|█████████▋| 246/255 [01:37<00:03,  2.53it/s, loss=0.0893, v_num=4, train_loss=0.0662, train_accuracy=0.944, train_f1_score=0.944, val_loss=0.350, val_accuracy=0.897, val_f1_score=0.897]\n",
      "Epoch 64:  97%|█████████▋| 248/255 [01:37<00:02,  2.55it/s, loss=0.0893, v_num=4, train_loss=0.0662, train_accuracy=0.944, train_f1_score=0.944, val_loss=0.350, val_accuracy=0.897, val_f1_score=0.897]\n",
      "Epoch 64:  98%|█████████▊| 250/255 [01:37<00:01,  2.57it/s, loss=0.0893, v_num=4, train_loss=0.0662, train_accuracy=0.944, train_f1_score=0.944, val_loss=0.350, val_accuracy=0.897, val_f1_score=0.897]\n",
      "Epoch 64:  99%|█████████▉| 252/255 [01:37<00:01,  2.58it/s, loss=0.0893, v_num=4, train_loss=0.0662, train_accuracy=0.944, train_f1_score=0.944, val_loss=0.350, val_accuracy=0.897, val_f1_score=0.897]\n",
      "Epoch 64: 100%|█████████▉| 254/255 [01:37<00:00,  2.60it/s, loss=0.0893, v_num=4, train_loss=0.0662, train_accuracy=0.944, train_f1_score=0.944, val_loss=0.350, val_accuracy=0.897, val_f1_score=0.897]\n",
      "Epoch 64: 100%|██████████| 255/255 [01:38<00:00,  2.58it/s, loss=0.0893, v_num=4, train_loss=0.0662, train_accuracy=0.944, train_f1_score=0.944, val_loss=0.317, val_accuracy=0.905, val_f1_score=0.905]\n",
      "Epoch 64: 100%|██████████| 255/255 [01:38<00:00,  2.58it/s, loss=0.0893, v_num=4, train_loss=0.0662, train_accuracy=0.944, train_f1_score=0.944, val_loss=0.317, val_accuracy=0.905, val_f1_score=0.905]"
     ]
    },
    {
     "name": "stderr",
     "output_type": "stream",
     "text": [
      "Epoch 64, global step 14689: val_loss was not in top 2\n"
     ]
    },
    {
     "name": "stdout",
     "output_type": "stream",
     "text": [
      "Epoch 65:  89%|████████▊ | 226/255 [01:27<00:11,  2.60it/s, loss=0.123, v_num=4, train_loss=0.0245, train_accuracy=1.000, train_f1_score=1.000, val_loss=0.317, val_accuracy=0.905, val_f1_score=0.905] \n",
      "Validating: 0it [00:00, ?it/s]\u001b[A\n",
      "Validating:   0%|          | 0/29 [00:00<?, ?it/s]\u001b[A\n",
      "Epoch 65:  89%|████████▉ | 228/255 [01:34<00:11,  2.40it/s, loss=0.123, v_num=4, train_loss=0.0245, train_accuracy=1.000, train_f1_score=1.000, val_loss=0.317, val_accuracy=0.905, val_f1_score=0.905]\n",
      "Epoch 65:  90%|█████████ | 230/255 [01:35<00:10,  2.42it/s, loss=0.123, v_num=4, train_loss=0.0245, train_accuracy=1.000, train_f1_score=1.000, val_loss=0.317, val_accuracy=0.905, val_f1_score=0.905]\n",
      "Epoch 65:  91%|█████████ | 232/255 [01:35<00:09,  2.43it/s, loss=0.123, v_num=4, train_loss=0.0245, train_accuracy=1.000, train_f1_score=1.000, val_loss=0.317, val_accuracy=0.905, val_f1_score=0.905]\n",
      "Epoch 65:  92%|█████████▏| 234/255 [01:35<00:08,  2.45it/s, loss=0.123, v_num=4, train_loss=0.0245, train_accuracy=1.000, train_f1_score=1.000, val_loss=0.317, val_accuracy=0.905, val_f1_score=0.905]\n",
      "Epoch 65:  93%|█████████▎| 236/255 [01:35<00:07,  2.47it/s, loss=0.123, v_num=4, train_loss=0.0245, train_accuracy=1.000, train_f1_score=1.000, val_loss=0.317, val_accuracy=0.905, val_f1_score=0.905]\n",
      "Epoch 65:  93%|█████████▎| 238/255 [01:35<00:06,  2.48it/s, loss=0.123, v_num=4, train_loss=0.0245, train_accuracy=1.000, train_f1_score=1.000, val_loss=0.317, val_accuracy=0.905, val_f1_score=0.905]\n",
      "Epoch 65:  94%|█████████▍| 240/255 [01:36<00:06,  2.50it/s, loss=0.123, v_num=4, train_loss=0.0245, train_accuracy=1.000, train_f1_score=1.000, val_loss=0.317, val_accuracy=0.905, val_f1_score=0.905]\n",
      "Epoch 65:  95%|█████████▍| 242/255 [01:36<00:05,  2.52it/s, loss=0.123, v_num=4, train_loss=0.0245, train_accuracy=1.000, train_f1_score=1.000, val_loss=0.317, val_accuracy=0.905, val_f1_score=0.905]\n",
      "Epoch 65:  96%|█████████▌| 244/255 [01:36<00:04,  2.53it/s, loss=0.123, v_num=4, train_loss=0.0245, train_accuracy=1.000, train_f1_score=1.000, val_loss=0.317, val_accuracy=0.905, val_f1_score=0.905]\n",
      "Epoch 65:  96%|█████████▋| 246/255 [01:36<00:03,  2.55it/s, loss=0.123, v_num=4, train_loss=0.0245, train_accuracy=1.000, train_f1_score=1.000, val_loss=0.317, val_accuracy=0.905, val_f1_score=0.905]\n",
      "Epoch 65:  97%|█████████▋| 248/255 [01:36<00:02,  2.56it/s, loss=0.123, v_num=4, train_loss=0.0245, train_accuracy=1.000, train_f1_score=1.000, val_loss=0.317, val_accuracy=0.905, val_f1_score=0.905]\n",
      "Epoch 65:  98%|█████████▊| 250/255 [01:36<00:01,  2.58it/s, loss=0.123, v_num=4, train_loss=0.0245, train_accuracy=1.000, train_f1_score=1.000, val_loss=0.317, val_accuracy=0.905, val_f1_score=0.905]\n",
      "Epoch 65:  99%|█████████▉| 252/255 [01:37<00:01,  2.60it/s, loss=0.123, v_num=4, train_loss=0.0245, train_accuracy=1.000, train_f1_score=1.000, val_loss=0.317, val_accuracy=0.905, val_f1_score=0.905]\n",
      "Epoch 65: 100%|█████████▉| 254/255 [01:37<00:00,  2.61it/s, loss=0.123, v_num=4, train_loss=0.0245, train_accuracy=1.000, train_f1_score=1.000, val_loss=0.317, val_accuracy=0.905, val_f1_score=0.905]\n",
      "Epoch 65: 100%|██████████| 255/255 [01:38<00:00,  2.59it/s, loss=0.123, v_num=4, train_loss=0.0245, train_accuracy=1.000, train_f1_score=1.000, val_loss=0.304, val_accuracy=0.901, val_f1_score=0.901]\n",
      "Epoch 65: 100%|██████████| 255/255 [01:38<00:00,  2.59it/s, loss=0.123, v_num=4, train_loss=0.0245, train_accuracy=1.000, train_f1_score=1.000, val_loss=0.304, val_accuracy=0.901, val_f1_score=0.901]"
     ]
    },
    {
     "name": "stderr",
     "output_type": "stream",
     "text": [
      "Epoch 65, global step 14915: val_loss was not in top 2\n"
     ]
    },
    {
     "name": "stdout",
     "output_type": "stream",
     "text": [
      "Epoch 66:  89%|████████▊ | 226/255 [01:27<00:11,  2.59it/s, loss=0.114, v_num=4, train_loss=0.372, train_accuracy=0.833, train_f1_score=0.833, val_loss=0.304, val_accuracy=0.901, val_f1_score=0.901]  \n",
      "Validating: 0it [00:00, ?it/s]\u001b[A\n",
      "Validating:   0%|          | 0/29 [00:00<?, ?it/s]\u001b[A\n",
      "Epoch 66:  89%|████████▉ | 228/255 [01:34<00:11,  2.40it/s, loss=0.114, v_num=4, train_loss=0.372, train_accuracy=0.833, train_f1_score=0.833, val_loss=0.304, val_accuracy=0.901, val_f1_score=0.901]\n",
      "Epoch 66:  90%|█████████ | 230/255 [01:35<00:10,  2.42it/s, loss=0.114, v_num=4, train_loss=0.372, train_accuracy=0.833, train_f1_score=0.833, val_loss=0.304, val_accuracy=0.901, val_f1_score=0.901]\n",
      "Epoch 66:  91%|█████████ | 232/255 [01:35<00:09,  2.43it/s, loss=0.114, v_num=4, train_loss=0.372, train_accuracy=0.833, train_f1_score=0.833, val_loss=0.304, val_accuracy=0.901, val_f1_score=0.901]\n",
      "Epoch 66:  92%|█████████▏| 234/255 [01:35<00:08,  2.45it/s, loss=0.114, v_num=4, train_loss=0.372, train_accuracy=0.833, train_f1_score=0.833, val_loss=0.304, val_accuracy=0.901, val_f1_score=0.901]\n",
      "Epoch 66:  93%|█████████▎| 236/255 [01:35<00:07,  2.47it/s, loss=0.114, v_num=4, train_loss=0.372, train_accuracy=0.833, train_f1_score=0.833, val_loss=0.304, val_accuracy=0.901, val_f1_score=0.901]\n",
      "Epoch 66:  93%|█████████▎| 238/255 [01:35<00:06,  2.48it/s, loss=0.114, v_num=4, train_loss=0.372, train_accuracy=0.833, train_f1_score=0.833, val_loss=0.304, val_accuracy=0.901, val_f1_score=0.901]\n",
      "Epoch 66:  94%|█████████▍| 240/255 [01:36<00:06,  2.50it/s, loss=0.114, v_num=4, train_loss=0.372, train_accuracy=0.833, train_f1_score=0.833, val_loss=0.304, val_accuracy=0.901, val_f1_score=0.901]\n",
      "Epoch 66:  95%|█████████▍| 242/255 [01:36<00:05,  2.52it/s, loss=0.114, v_num=4, train_loss=0.372, train_accuracy=0.833, train_f1_score=0.833, val_loss=0.304, val_accuracy=0.901, val_f1_score=0.901]\n",
      "Epoch 66:  96%|█████████▌| 244/255 [01:36<00:04,  2.53it/s, loss=0.114, v_num=4, train_loss=0.372, train_accuracy=0.833, train_f1_score=0.833, val_loss=0.304, val_accuracy=0.901, val_f1_score=0.901]\n",
      "Epoch 66:  96%|█████████▋| 246/255 [01:36<00:03,  2.55it/s, loss=0.114, v_num=4, train_loss=0.372, train_accuracy=0.833, train_f1_score=0.833, val_loss=0.304, val_accuracy=0.901, val_f1_score=0.901]\n",
      "Epoch 66:  97%|█████████▋| 248/255 [01:36<00:02,  2.56it/s, loss=0.114, v_num=4, train_loss=0.372, train_accuracy=0.833, train_f1_score=0.833, val_loss=0.304, val_accuracy=0.901, val_f1_score=0.901]\n",
      "Epoch 66:  98%|█████████▊| 250/255 [01:36<00:01,  2.58it/s, loss=0.114, v_num=4, train_loss=0.372, train_accuracy=0.833, train_f1_score=0.833, val_loss=0.304, val_accuracy=0.901, val_f1_score=0.901]\n",
      "Epoch 66:  99%|█████████▉| 252/255 [01:37<00:01,  2.60it/s, loss=0.114, v_num=4, train_loss=0.372, train_accuracy=0.833, train_f1_score=0.833, val_loss=0.304, val_accuracy=0.901, val_f1_score=0.901]\n",
      "Epoch 66: 100%|█████████▉| 254/255 [01:37<00:00,  2.61it/s, loss=0.114, v_num=4, train_loss=0.372, train_accuracy=0.833, train_f1_score=0.833, val_loss=0.304, val_accuracy=0.901, val_f1_score=0.901]\n",
      "Epoch 66: 100%|██████████| 255/255 [01:38<00:00,  2.59it/s, loss=0.114, v_num=4, train_loss=0.372, train_accuracy=0.833, train_f1_score=0.833, val_loss=0.320, val_accuracy=0.904, val_f1_score=0.904]\n",
      "Epoch 66: 100%|██████████| 255/255 [01:38<00:00,  2.59it/s, loss=0.114, v_num=4, train_loss=0.372, train_accuracy=0.833, train_f1_score=0.833, val_loss=0.320, val_accuracy=0.904, val_f1_score=0.904]"
     ]
    },
    {
     "name": "stderr",
     "output_type": "stream",
     "text": [
      "Epoch 66, global step 15141: val_loss was not in top 2\n"
     ]
    },
    {
     "name": "stdout",
     "output_type": "stream",
     "text": [
      "Epoch 67:  89%|████████▊ | 226/255 [01:27<00:11,  2.59it/s, loss=0.116, v_num=4, train_loss=0.257, train_accuracy=0.889, train_f1_score=0.889, val_loss=0.320, val_accuracy=0.904, val_f1_score=0.904]  \n",
      "Validating: 0it [00:00, ?it/s]\u001b[A\n",
      "Validating:   0%|          | 0/29 [00:00<?, ?it/s]\u001b[A\n",
      "Epoch 67:  89%|████████▉ | 228/255 [01:34<00:11,  2.40it/s, loss=0.116, v_num=4, train_loss=0.257, train_accuracy=0.889, train_f1_score=0.889, val_loss=0.320, val_accuracy=0.904, val_f1_score=0.904]\n",
      "Epoch 67:  90%|█████████ | 230/255 [01:35<00:10,  2.42it/s, loss=0.116, v_num=4, train_loss=0.257, train_accuracy=0.889, train_f1_score=0.889, val_loss=0.320, val_accuracy=0.904, val_f1_score=0.904]\n",
      "Epoch 67:  91%|█████████ | 232/255 [01:35<00:09,  2.43it/s, loss=0.116, v_num=4, train_loss=0.257, train_accuracy=0.889, train_f1_score=0.889, val_loss=0.320, val_accuracy=0.904, val_f1_score=0.904]\n",
      "Epoch 67:  92%|█████████▏| 234/255 [01:35<00:08,  2.45it/s, loss=0.116, v_num=4, train_loss=0.257, train_accuracy=0.889, train_f1_score=0.889, val_loss=0.320, val_accuracy=0.904, val_f1_score=0.904]\n",
      "Epoch 67:  93%|█████████▎| 236/255 [01:35<00:07,  2.47it/s, loss=0.116, v_num=4, train_loss=0.257, train_accuracy=0.889, train_f1_score=0.889, val_loss=0.320, val_accuracy=0.904, val_f1_score=0.904]\n",
      "Epoch 67:  93%|█████████▎| 238/255 [01:35<00:06,  2.48it/s, loss=0.116, v_num=4, train_loss=0.257, train_accuracy=0.889, train_f1_score=0.889, val_loss=0.320, val_accuracy=0.904, val_f1_score=0.904]\n",
      "Epoch 67:  94%|█████████▍| 240/255 [01:36<00:06,  2.50it/s, loss=0.116, v_num=4, train_loss=0.257, train_accuracy=0.889, train_f1_score=0.889, val_loss=0.320, val_accuracy=0.904, val_f1_score=0.904]\n",
      "Epoch 67:  95%|█████████▍| 242/255 [01:36<00:05,  2.52it/s, loss=0.116, v_num=4, train_loss=0.257, train_accuracy=0.889, train_f1_score=0.889, val_loss=0.320, val_accuracy=0.904, val_f1_score=0.904]\n",
      "Epoch 67:  96%|█████████▌| 244/255 [01:36<00:04,  2.53it/s, loss=0.116, v_num=4, train_loss=0.257, train_accuracy=0.889, train_f1_score=0.889, val_loss=0.320, val_accuracy=0.904, val_f1_score=0.904]\n",
      "Epoch 67:  96%|█████████▋| 246/255 [01:36<00:03,  2.55it/s, loss=0.116, v_num=4, train_loss=0.257, train_accuracy=0.889, train_f1_score=0.889, val_loss=0.320, val_accuracy=0.904, val_f1_score=0.904]\n",
      "Epoch 67:  97%|█████████▋| 248/255 [01:36<00:02,  2.56it/s, loss=0.116, v_num=4, train_loss=0.257, train_accuracy=0.889, train_f1_score=0.889, val_loss=0.320, val_accuracy=0.904, val_f1_score=0.904]\n",
      "Epoch 67:  98%|█████████▊| 250/255 [01:36<00:01,  2.58it/s, loss=0.116, v_num=4, train_loss=0.257, train_accuracy=0.889, train_f1_score=0.889, val_loss=0.320, val_accuracy=0.904, val_f1_score=0.904]\n",
      "Epoch 67:  99%|█████████▉| 252/255 [01:37<00:01,  2.59it/s, loss=0.116, v_num=4, train_loss=0.257, train_accuracy=0.889, train_f1_score=0.889, val_loss=0.320, val_accuracy=0.904, val_f1_score=0.904]\n",
      "Epoch 67: 100%|█████████▉| 254/255 [01:37<00:00,  2.61it/s, loss=0.116, v_num=4, train_loss=0.257, train_accuracy=0.889, train_f1_score=0.889, val_loss=0.320, val_accuracy=0.904, val_f1_score=0.904]\n",
      "Epoch 67: 100%|██████████| 255/255 [01:38<00:00,  2.59it/s, loss=0.116, v_num=4, train_loss=0.257, train_accuracy=0.889, train_f1_score=0.889, val_loss=0.325, val_accuracy=0.903, val_f1_score=0.903]\n",
      "Epoch 67: 100%|██████████| 255/255 [01:38<00:00,  2.59it/s, loss=0.116, v_num=4, train_loss=0.257, train_accuracy=0.889, train_f1_score=0.889, val_loss=0.325, val_accuracy=0.903, val_f1_score=0.903]"
     ]
    },
    {
     "name": "stderr",
     "output_type": "stream",
     "text": [
      "Epoch 67, global step 15367: val_loss was not in top 2\n"
     ]
    },
    {
     "name": "stdout",
     "output_type": "stream",
     "text": [
      "Epoch 68:  89%|████████▊ | 226/255 [01:27<00:11,  2.59it/s, loss=0.141, v_num=4, train_loss=0.0363, train_accuracy=1.000, train_f1_score=1.000, val_loss=0.325, val_accuracy=0.903, val_f1_score=0.903]\n",
      "Validating: 0it [00:00, ?it/s]\u001b[A\n",
      "Validating:   0%|          | 0/29 [00:00<?, ?it/s]\u001b[A\n",
      "Epoch 68:  89%|████████▉ | 228/255 [01:34<00:11,  2.40it/s, loss=0.141, v_num=4, train_loss=0.0363, train_accuracy=1.000, train_f1_score=1.000, val_loss=0.325, val_accuracy=0.903, val_f1_score=0.903]\n",
      "Epoch 68:  90%|█████████ | 230/255 [01:35<00:10,  2.42it/s, loss=0.141, v_num=4, train_loss=0.0363, train_accuracy=1.000, train_f1_score=1.000, val_loss=0.325, val_accuracy=0.903, val_f1_score=0.903]\n",
      "Validating:  14%|█▍        | 4/29 [00:08<00:31,  1.27s/it]\u001b[A\n",
      "Epoch 68:  91%|█████████ | 232/255 [01:35<00:09,  2.44it/s, loss=0.141, v_num=4, train_loss=0.0363, train_accuracy=1.000, train_f1_score=1.000, val_loss=0.325, val_accuracy=0.903, val_f1_score=0.903]\n",
      "Epoch 68:  92%|█████████▏| 234/255 [01:35<00:08,  2.45it/s, loss=0.141, v_num=4, train_loss=0.0363, train_accuracy=1.000, train_f1_score=1.000, val_loss=0.325, val_accuracy=0.903, val_f1_score=0.903]\n",
      "Epoch 68:  93%|█████████▎| 236/255 [01:35<00:07,  2.47it/s, loss=0.141, v_num=4, train_loss=0.0363, train_accuracy=1.000, train_f1_score=1.000, val_loss=0.325, val_accuracy=0.903, val_f1_score=0.903]\n",
      "Epoch 68:  93%|█████████▎| 238/255 [01:35<00:06,  2.49it/s, loss=0.141, v_num=4, train_loss=0.0363, train_accuracy=1.000, train_f1_score=1.000, val_loss=0.325, val_accuracy=0.903, val_f1_score=0.903]\n",
      "Epoch 68:  94%|█████████▍| 240/255 [01:35<00:05,  2.50it/s, loss=0.141, v_num=4, train_loss=0.0363, train_accuracy=1.000, train_f1_score=1.000, val_loss=0.325, val_accuracy=0.903, val_f1_score=0.903]\n",
      "Epoch 68:  95%|█████████▍| 242/255 [01:36<00:05,  2.52it/s, loss=0.141, v_num=4, train_loss=0.0363, train_accuracy=1.000, train_f1_score=1.000, val_loss=0.325, val_accuracy=0.903, val_f1_score=0.903]\n",
      "Epoch 68:  96%|█████████▌| 244/255 [01:36<00:04,  2.53it/s, loss=0.141, v_num=4, train_loss=0.0363, train_accuracy=1.000, train_f1_score=1.000, val_loss=0.325, val_accuracy=0.903, val_f1_score=0.903]\n",
      "Epoch 68:  96%|█████████▋| 246/255 [01:36<00:03,  2.55it/s, loss=0.141, v_num=4, train_loss=0.0363, train_accuracy=1.000, train_f1_score=1.000, val_loss=0.325, val_accuracy=0.903, val_f1_score=0.903]\n",
      "Epoch 68:  97%|█████████▋| 248/255 [01:36<00:02,  2.57it/s, loss=0.141, v_num=4, train_loss=0.0363, train_accuracy=1.000, train_f1_score=1.000, val_loss=0.325, val_accuracy=0.903, val_f1_score=0.903]\n",
      "Epoch 68:  98%|█████████▊| 250/255 [01:36<00:01,  2.58it/s, loss=0.141, v_num=4, train_loss=0.0363, train_accuracy=1.000, train_f1_score=1.000, val_loss=0.325, val_accuracy=0.903, val_f1_score=0.903]\n",
      "Epoch 68:  99%|█████████▉| 252/255 [01:37<00:01,  2.60it/s, loss=0.141, v_num=4, train_loss=0.0363, train_accuracy=1.000, train_f1_score=1.000, val_loss=0.325, val_accuracy=0.903, val_f1_score=0.903]\n",
      "Epoch 68: 100%|█████████▉| 254/255 [01:37<00:00,  2.61it/s, loss=0.141, v_num=4, train_loss=0.0363, train_accuracy=1.000, train_f1_score=1.000, val_loss=0.325, val_accuracy=0.903, val_f1_score=0.903]\n",
      "Epoch 68: 100%|██████████| 255/255 [01:38<00:00,  2.59it/s, loss=0.141, v_num=4, train_loss=0.0363, train_accuracy=1.000, train_f1_score=1.000, val_loss=0.321, val_accuracy=0.895, val_f1_score=0.895]\n",
      "Epoch 68: 100%|██████████| 255/255 [01:38<00:00,  2.59it/s, loss=0.141, v_num=4, train_loss=0.0363, train_accuracy=1.000, train_f1_score=1.000, val_loss=0.321, val_accuracy=0.895, val_f1_score=0.895]"
     ]
    },
    {
     "name": "stderr",
     "output_type": "stream",
     "text": [
      "Epoch 68, global step 15593: val_loss was not in top 2\n"
     ]
    },
    {
     "name": "stdout",
     "output_type": "stream",
     "text": [
      "Epoch 69:  89%|████████▊ | 226/255 [01:27<00:11,  2.59it/s, loss=0.0927, v_num=4, train_loss=0.0407, train_accuracy=1.000, train_f1_score=1.000, val_loss=0.321, val_accuracy=0.895, val_f1_score=0.895]\n",
      "Validating: 0it [00:00, ?it/s]\u001b[A\n",
      "Validating:   0%|          | 0/29 [00:00<?, ?it/s]\u001b[A\n",
      "Epoch 69:  89%|████████▉ | 228/255 [01:34<00:11,  2.40it/s, loss=0.0927, v_num=4, train_loss=0.0407, train_accuracy=1.000, train_f1_score=1.000, val_loss=0.321, val_accuracy=0.895, val_f1_score=0.895]\n",
      "Epoch 69:  90%|█████████ | 230/255 [01:35<00:10,  2.42it/s, loss=0.0927, v_num=4, train_loss=0.0407, train_accuracy=1.000, train_f1_score=1.000, val_loss=0.321, val_accuracy=0.895, val_f1_score=0.895]\n",
      "Epoch 69:  91%|█████████ | 232/255 [01:35<00:09,  2.43it/s, loss=0.0927, v_num=4, train_loss=0.0407, train_accuracy=1.000, train_f1_score=1.000, val_loss=0.321, val_accuracy=0.895, val_f1_score=0.895]\n",
      "Epoch 69:  92%|█████████▏| 234/255 [01:35<00:08,  2.45it/s, loss=0.0927, v_num=4, train_loss=0.0407, train_accuracy=1.000, train_f1_score=1.000, val_loss=0.321, val_accuracy=0.895, val_f1_score=0.895]\n",
      "Epoch 69:  93%|█████████▎| 236/255 [01:35<00:07,  2.47it/s, loss=0.0927, v_num=4, train_loss=0.0407, train_accuracy=1.000, train_f1_score=1.000, val_loss=0.321, val_accuracy=0.895, val_f1_score=0.895]\n",
      "Epoch 69:  93%|█████████▎| 238/255 [01:35<00:06,  2.48it/s, loss=0.0927, v_num=4, train_loss=0.0407, train_accuracy=1.000, train_f1_score=1.000, val_loss=0.321, val_accuracy=0.895, val_f1_score=0.895]\n",
      "Epoch 69:  94%|█████████▍| 240/255 [01:35<00:05,  2.50it/s, loss=0.0927, v_num=4, train_loss=0.0407, train_accuracy=1.000, train_f1_score=1.000, val_loss=0.321, val_accuracy=0.895, val_f1_score=0.895]\n",
      "Epoch 69:  95%|█████████▍| 242/255 [01:36<00:05,  2.52it/s, loss=0.0927, v_num=4, train_loss=0.0407, train_accuracy=1.000, train_f1_score=1.000, val_loss=0.321, val_accuracy=0.895, val_f1_score=0.895]\n",
      "Epoch 69:  96%|█████████▌| 244/255 [01:36<00:04,  2.53it/s, loss=0.0927, v_num=4, train_loss=0.0407, train_accuracy=1.000, train_f1_score=1.000, val_loss=0.321, val_accuracy=0.895, val_f1_score=0.895]\n",
      "Epoch 69:  96%|█████████▋| 246/255 [01:36<00:03,  2.55it/s, loss=0.0927, v_num=4, train_loss=0.0407, train_accuracy=1.000, train_f1_score=1.000, val_loss=0.321, val_accuracy=0.895, val_f1_score=0.895]\n",
      "Epoch 69:  97%|█████████▋| 248/255 [01:36<00:02,  2.56it/s, loss=0.0927, v_num=4, train_loss=0.0407, train_accuracy=1.000, train_f1_score=1.000, val_loss=0.321, val_accuracy=0.895, val_f1_score=0.895]\n",
      "Epoch 69:  98%|█████████▊| 250/255 [01:36<00:01,  2.58it/s, loss=0.0927, v_num=4, train_loss=0.0407, train_accuracy=1.000, train_f1_score=1.000, val_loss=0.321, val_accuracy=0.895, val_f1_score=0.895]\n",
      "Epoch 69:  99%|█████████▉| 252/255 [01:37<00:01,  2.60it/s, loss=0.0927, v_num=4, train_loss=0.0407, train_accuracy=1.000, train_f1_score=1.000, val_loss=0.321, val_accuracy=0.895, val_f1_score=0.895]\n",
      "Epoch 69: 100%|█████████▉| 254/255 [01:37<00:00,  2.61it/s, loss=0.0927, v_num=4, train_loss=0.0407, train_accuracy=1.000, train_f1_score=1.000, val_loss=0.321, val_accuracy=0.895, val_f1_score=0.895]\n",
      "Epoch 69: 100%|██████████| 255/255 [01:38<00:00,  2.59it/s, loss=0.0927, v_num=4, train_loss=0.0407, train_accuracy=1.000, train_f1_score=1.000, val_loss=0.342, val_accuracy=0.895, val_f1_score=0.895]\n",
      "Epoch 69: 100%|██████████| 255/255 [01:38<00:00,  2.59it/s, loss=0.0927, v_num=4, train_loss=0.0407, train_accuracy=1.000, train_f1_score=1.000, val_loss=0.342, val_accuracy=0.895, val_f1_score=0.895]"
     ]
    },
    {
     "name": "stderr",
     "output_type": "stream",
     "text": [
      "Epoch 69, global step 15819: val_loss was not in top 2\n"
     ]
    },
    {
     "name": "stdout",
     "output_type": "stream",
     "text": [
      "Epoch 70:  89%|████████▊ | 226/255 [01:26<00:11,  2.60it/s, loss=0.0835, v_num=4, train_loss=0.0693, train_accuracy=1.000, train_f1_score=1.000, val_loss=0.342, val_accuracy=0.895, val_f1_score=0.895] \n",
      "Validating: 0it [00:00, ?it/s]\u001b[A\n",
      "Validating:   0%|          | 0/29 [00:00<?, ?it/s]\u001b[A\n",
      "Epoch 70:  89%|████████▉ | 228/255 [01:34<00:11,  2.40it/s, loss=0.0835, v_num=4, train_loss=0.0693, train_accuracy=1.000, train_f1_score=1.000, val_loss=0.342, val_accuracy=0.895, val_f1_score=0.895]\n",
      "Epoch 70:  90%|█████████ | 230/255 [01:35<00:10,  2.42it/s, loss=0.0835, v_num=4, train_loss=0.0693, train_accuracy=1.000, train_f1_score=1.000, val_loss=0.342, val_accuracy=0.895, val_f1_score=0.895]\n",
      "Epoch 70:  91%|█████████ | 232/255 [01:35<00:09,  2.44it/s, loss=0.0835, v_num=4, train_loss=0.0693, train_accuracy=1.000, train_f1_score=1.000, val_loss=0.342, val_accuracy=0.895, val_f1_score=0.895]\n",
      "Epoch 70:  92%|█████████▏| 234/255 [01:35<00:08,  2.45it/s, loss=0.0835, v_num=4, train_loss=0.0693, train_accuracy=1.000, train_f1_score=1.000, val_loss=0.342, val_accuracy=0.895, val_f1_score=0.895]\n",
      "Epoch 70:  93%|█████████▎| 236/255 [01:35<00:07,  2.47it/s, loss=0.0835, v_num=4, train_loss=0.0693, train_accuracy=1.000, train_f1_score=1.000, val_loss=0.342, val_accuracy=0.895, val_f1_score=0.895]\n",
      "Epoch 70:  93%|█████████▎| 238/255 [01:35<00:06,  2.49it/s, loss=0.0835, v_num=4, train_loss=0.0693, train_accuracy=1.000, train_f1_score=1.000, val_loss=0.342, val_accuracy=0.895, val_f1_score=0.895]\n",
      "Epoch 70:  94%|█████████▍| 240/255 [01:35<00:05,  2.50it/s, loss=0.0835, v_num=4, train_loss=0.0693, train_accuracy=1.000, train_f1_score=1.000, val_loss=0.342, val_accuracy=0.895, val_f1_score=0.895]\n",
      "Epoch 70:  95%|█████████▍| 242/255 [01:36<00:05,  2.52it/s, loss=0.0835, v_num=4, train_loss=0.0693, train_accuracy=1.000, train_f1_score=1.000, val_loss=0.342, val_accuracy=0.895, val_f1_score=0.895]\n",
      "Epoch 70:  96%|█████████▌| 244/255 [01:36<00:04,  2.53it/s, loss=0.0835, v_num=4, train_loss=0.0693, train_accuracy=1.000, train_f1_score=1.000, val_loss=0.342, val_accuracy=0.895, val_f1_score=0.895]\n",
      "Epoch 70:  96%|█████████▋| 246/255 [01:36<00:03,  2.55it/s, loss=0.0835, v_num=4, train_loss=0.0693, train_accuracy=1.000, train_f1_score=1.000, val_loss=0.342, val_accuracy=0.895, val_f1_score=0.895]\n",
      "Epoch 70:  97%|█████████▋| 248/255 [01:36<00:02,  2.57it/s, loss=0.0835, v_num=4, train_loss=0.0693, train_accuracy=1.000, train_f1_score=1.000, val_loss=0.342, val_accuracy=0.895, val_f1_score=0.895]\n",
      "Epoch 70:  98%|█████████▊| 250/255 [01:36<00:01,  2.58it/s, loss=0.0835, v_num=4, train_loss=0.0693, train_accuracy=1.000, train_f1_score=1.000, val_loss=0.342, val_accuracy=0.895, val_f1_score=0.895]\n",
      "Epoch 70:  99%|█████████▉| 252/255 [01:37<00:01,  2.60it/s, loss=0.0835, v_num=4, train_loss=0.0693, train_accuracy=1.000, train_f1_score=1.000, val_loss=0.342, val_accuracy=0.895, val_f1_score=0.895]\n",
      "Epoch 70: 100%|█████████▉| 254/255 [01:37<00:00,  2.61it/s, loss=0.0835, v_num=4, train_loss=0.0693, train_accuracy=1.000, train_f1_score=1.000, val_loss=0.342, val_accuracy=0.895, val_f1_score=0.895]\n",
      "Epoch 70: 100%|██████████| 255/255 [01:38<00:00,  2.59it/s, loss=0.0835, v_num=4, train_loss=0.0693, train_accuracy=1.000, train_f1_score=1.000, val_loss=0.331, val_accuracy=0.908, val_f1_score=0.908]\n",
      "Epoch 70: 100%|██████████| 255/255 [01:38<00:00,  2.59it/s, loss=0.0835, v_num=4, train_loss=0.0693, train_accuracy=1.000, train_f1_score=1.000, val_loss=0.331, val_accuracy=0.908, val_f1_score=0.908]"
     ]
    },
    {
     "name": "stderr",
     "output_type": "stream",
     "text": [
      "Epoch 70, global step 16045: val_loss was not in top 2\n"
     ]
    },
    {
     "name": "stdout",
     "output_type": "stream",
     "text": [
      "Epoch 71:  89%|████████▊ | 226/255 [01:27<00:11,  2.60it/s, loss=0.0721, v_num=4, train_loss=0.0256, train_accuracy=1.000, train_f1_score=1.000, val_loss=0.331, val_accuracy=0.908, val_f1_score=0.908] \n",
      "Validating: 0it [00:00, ?it/s]\u001b[A\n",
      "Validating:   0%|          | 0/29 [00:00<?, ?it/s]\u001b[A\n",
      "Epoch 71:  89%|████████▉ | 228/255 [01:34<00:11,  2.41it/s, loss=0.0721, v_num=4, train_loss=0.0256, train_accuracy=1.000, train_f1_score=1.000, val_loss=0.331, val_accuracy=0.908, val_f1_score=0.908]\n",
      "Validating:   7%|▋         | 2/29 [00:07<01:27,  3.24s/it]\u001b[A\n",
      "Epoch 71:  90%|█████████ | 230/255 [01:35<00:10,  2.42it/s, loss=0.0721, v_num=4, train_loss=0.0256, train_accuracy=1.000, train_f1_score=1.000, val_loss=0.331, val_accuracy=0.908, val_f1_score=0.908]\n",
      "Epoch 71:  91%|█████████ | 232/255 [01:35<00:09,  2.44it/s, loss=0.0721, v_num=4, train_loss=0.0256, train_accuracy=1.000, train_f1_score=1.000, val_loss=0.331, val_accuracy=0.908, val_f1_score=0.908]\n",
      "Epoch 71:  92%|█████████▏| 234/255 [01:35<00:08,  2.45it/s, loss=0.0721, v_num=4, train_loss=0.0256, train_accuracy=1.000, train_f1_score=1.000, val_loss=0.331, val_accuracy=0.908, val_f1_score=0.908]\n",
      "Epoch 71:  93%|█████████▎| 236/255 [01:35<00:07,  2.47it/s, loss=0.0721, v_num=4, train_loss=0.0256, train_accuracy=1.000, train_f1_score=1.000, val_loss=0.331, val_accuracy=0.908, val_f1_score=0.908]\n",
      "Epoch 71:  93%|█████████▎| 238/255 [01:35<00:06,  2.49it/s, loss=0.0721, v_num=4, train_loss=0.0256, train_accuracy=1.000, train_f1_score=1.000, val_loss=0.331, val_accuracy=0.908, val_f1_score=0.908]\n",
      "Epoch 71:  94%|█████████▍| 240/255 [01:35<00:05,  2.50it/s, loss=0.0721, v_num=4, train_loss=0.0256, train_accuracy=1.000, train_f1_score=1.000, val_loss=0.331, val_accuracy=0.908, val_f1_score=0.908]\n",
      "Epoch 71:  95%|█████████▍| 242/255 [01:36<00:05,  2.52it/s, loss=0.0721, v_num=4, train_loss=0.0256, train_accuracy=1.000, train_f1_score=1.000, val_loss=0.331, val_accuracy=0.908, val_f1_score=0.908]\n",
      "Epoch 71:  96%|█████████▌| 244/255 [01:36<00:04,  2.54it/s, loss=0.0721, v_num=4, train_loss=0.0256, train_accuracy=1.000, train_f1_score=1.000, val_loss=0.331, val_accuracy=0.908, val_f1_score=0.908]\n",
      "Epoch 71:  96%|█████████▋| 246/255 [01:36<00:03,  2.55it/s, loss=0.0721, v_num=4, train_loss=0.0256, train_accuracy=1.000, train_f1_score=1.000, val_loss=0.331, val_accuracy=0.908, val_f1_score=0.908]\n",
      "Epoch 71:  97%|█████████▋| 248/255 [01:36<00:02,  2.57it/s, loss=0.0721, v_num=4, train_loss=0.0256, train_accuracy=1.000, train_f1_score=1.000, val_loss=0.331, val_accuracy=0.908, val_f1_score=0.908]\n",
      "Epoch 71:  98%|█████████▊| 250/255 [01:36<00:01,  2.58it/s, loss=0.0721, v_num=4, train_loss=0.0256, train_accuracy=1.000, train_f1_score=1.000, val_loss=0.331, val_accuracy=0.908, val_f1_score=0.908]\n",
      "Epoch 71:  99%|█████████▉| 252/255 [01:36<00:01,  2.60it/s, loss=0.0721, v_num=4, train_loss=0.0256, train_accuracy=1.000, train_f1_score=1.000, val_loss=0.331, val_accuracy=0.908, val_f1_score=0.908]\n",
      "Epoch 71: 100%|█████████▉| 254/255 [01:37<00:00,  2.61it/s, loss=0.0721, v_num=4, train_loss=0.0256, train_accuracy=1.000, train_f1_score=1.000, val_loss=0.331, val_accuracy=0.908, val_f1_score=0.908]\n",
      "Epoch 71: 100%|██████████| 255/255 [01:38<00:00,  2.59it/s, loss=0.0721, v_num=4, train_loss=0.0256, train_accuracy=1.000, train_f1_score=1.000, val_loss=0.314, val_accuracy=0.896, val_f1_score=0.896]\n",
      "Epoch 71: 100%|██████████| 255/255 [01:38<00:00,  2.59it/s, loss=0.0721, v_num=4, train_loss=0.0256, train_accuracy=1.000, train_f1_score=1.000, val_loss=0.314, val_accuracy=0.896, val_f1_score=0.896]"
     ]
    },
    {
     "name": "stderr",
     "output_type": "stream",
     "text": [
      "Epoch 71, global step 16271: val_loss was not in top 2\n"
     ]
    },
    {
     "name": "stdout",
     "output_type": "stream",
     "text": [
      "Epoch 72:  89%|████████▊ | 226/255 [01:26<00:11,  2.60it/s, loss=0.0971, v_num=4, train_loss=0.193, train_accuracy=0.889, train_f1_score=0.889, val_loss=0.314, val_accuracy=0.896, val_f1_score=0.896]  \n",
      "Validating: 0it [00:00, ?it/s]\u001b[A\n",
      "Validating:   0%|          | 0/29 [00:00<?, ?it/s]\u001b[A\n",
      "Epoch 72:  89%|████████▉ | 228/255 [01:34<00:11,  2.41it/s, loss=0.0971, v_num=4, train_loss=0.193, train_accuracy=0.889, train_f1_score=0.889, val_loss=0.314, val_accuracy=0.896, val_f1_score=0.896]\n",
      "Validating:   7%|▋         | 2/29 [00:07<01:27,  3.24s/it]\u001b[A\n",
      "Epoch 72:  90%|█████████ | 230/255 [01:34<00:10,  2.43it/s, loss=0.0971, v_num=4, train_loss=0.193, train_accuracy=0.889, train_f1_score=0.889, val_loss=0.314, val_accuracy=0.896, val_f1_score=0.896]\n",
      "Epoch 72:  91%|█████████ | 232/255 [01:35<00:09,  2.44it/s, loss=0.0971, v_num=4, train_loss=0.193, train_accuracy=0.889, train_f1_score=0.889, val_loss=0.314, val_accuracy=0.896, val_f1_score=0.896]\n",
      "Epoch 72:  92%|█████████▏| 234/255 [01:35<00:08,  2.46it/s, loss=0.0971, v_num=4, train_loss=0.193, train_accuracy=0.889, train_f1_score=0.889, val_loss=0.314, val_accuracy=0.896, val_f1_score=0.896]\n",
      "Epoch 72:  93%|█████████▎| 236/255 [01:35<00:07,  2.47it/s, loss=0.0971, v_num=4, train_loss=0.193, train_accuracy=0.889, train_f1_score=0.889, val_loss=0.314, val_accuracy=0.896, val_f1_score=0.896]\n",
      "Epoch 72:  93%|█████████▎| 238/255 [01:35<00:06,  2.49it/s, loss=0.0971, v_num=4, train_loss=0.193, train_accuracy=0.889, train_f1_score=0.889, val_loss=0.314, val_accuracy=0.896, val_f1_score=0.896]\n",
      "Epoch 72:  94%|█████████▍| 240/255 [01:35<00:05,  2.51it/s, loss=0.0971, v_num=4, train_loss=0.193, train_accuracy=0.889, train_f1_score=0.889, val_loss=0.314, val_accuracy=0.896, val_f1_score=0.896]\n",
      "Epoch 72:  95%|█████████▍| 242/255 [01:35<00:05,  2.52it/s, loss=0.0971, v_num=4, train_loss=0.193, train_accuracy=0.889, train_f1_score=0.889, val_loss=0.314, val_accuracy=0.896, val_f1_score=0.896]\n",
      "Epoch 72:  96%|█████████▌| 244/255 [01:36<00:04,  2.54it/s, loss=0.0971, v_num=4, train_loss=0.193, train_accuracy=0.889, train_f1_score=0.889, val_loss=0.314, val_accuracy=0.896, val_f1_score=0.896]\n",
      "Epoch 72:  96%|█████████▋| 246/255 [01:36<00:03,  2.56it/s, loss=0.0971, v_num=4, train_loss=0.193, train_accuracy=0.889, train_f1_score=0.889, val_loss=0.314, val_accuracy=0.896, val_f1_score=0.896]\n",
      "Epoch 72:  97%|█████████▋| 248/255 [01:36<00:02,  2.57it/s, loss=0.0971, v_num=4, train_loss=0.193, train_accuracy=0.889, train_f1_score=0.889, val_loss=0.314, val_accuracy=0.896, val_f1_score=0.896]\n",
      "Epoch 72:  98%|█████████▊| 250/255 [01:36<00:01,  2.59it/s, loss=0.0971, v_num=4, train_loss=0.193, train_accuracy=0.889, train_f1_score=0.889, val_loss=0.314, val_accuracy=0.896, val_f1_score=0.896]\n",
      "Epoch 72:  99%|█████████▉| 252/255 [01:36<00:01,  2.60it/s, loss=0.0971, v_num=4, train_loss=0.193, train_accuracy=0.889, train_f1_score=0.889, val_loss=0.314, val_accuracy=0.896, val_f1_score=0.896]\n",
      "Epoch 72: 100%|█████████▉| 254/255 [01:36<00:00,  2.62it/s, loss=0.0971, v_num=4, train_loss=0.193, train_accuracy=0.889, train_f1_score=0.889, val_loss=0.314, val_accuracy=0.896, val_f1_score=0.896]\n",
      "Epoch 72: 100%|██████████| 255/255 [01:38<00:00,  2.60it/s, loss=0.0971, v_num=4, train_loss=0.193, train_accuracy=0.889, train_f1_score=0.889, val_loss=0.269, val_accuracy=0.914, val_f1_score=0.914]\n",
      "Epoch 72: 100%|██████████| 255/255 [01:38<00:00,  2.60it/s, loss=0.0971, v_num=4, train_loss=0.193, train_accuracy=0.889, train_f1_score=0.889, val_loss=0.269, val_accuracy=0.914, val_f1_score=0.914]"
     ]
    },
    {
     "name": "stderr",
     "output_type": "stream",
     "text": [
      "Epoch 72, global step 16497: val_loss reached 0.26931 (best 0.26931), saving model to \"/Workspace/code/checkpoints/best-checkpoint-corr-mi-0-v2.ckpt\" as top 2\n"
     ]
    },
    {
     "name": "stdout",
     "output_type": "stream",
     "text": [
      "Epoch 73:  89%|████████▊ | 226/255 [01:26<00:11,  2.60it/s, loss=0.0935, v_num=4, train_loss=0.0217, train_accuracy=1.000, train_f1_score=1.000, val_loss=0.269, val_accuracy=0.914, val_f1_score=0.914] \n",
      "Validating: 0it [00:00, ?it/s]\u001b[A\n",
      "Validating:   0%|          | 0/29 [00:00<?, ?it/s]\u001b[A\n",
      "Epoch 73:  89%|████████▉ | 228/255 [01:34<00:11,  2.41it/s, loss=0.0935, v_num=4, train_loss=0.0217, train_accuracy=1.000, train_f1_score=1.000, val_loss=0.269, val_accuracy=0.914, val_f1_score=0.914]\n",
      "Epoch 73:  90%|█████████ | 230/255 [01:34<00:10,  2.43it/s, loss=0.0935, v_num=4, train_loss=0.0217, train_accuracy=1.000, train_f1_score=1.000, val_loss=0.269, val_accuracy=0.914, val_f1_score=0.914]\n",
      "Validating:  14%|█▍        | 4/29 [00:07<00:31,  1.25s/it]\u001b[A\n",
      "Epoch 73:  91%|█████████ | 232/255 [01:34<00:09,  2.45it/s, loss=0.0935, v_num=4, train_loss=0.0217, train_accuracy=1.000, train_f1_score=1.000, val_loss=0.269, val_accuracy=0.914, val_f1_score=0.914]\n",
      "Epoch 73:  92%|█████████▏| 234/255 [01:35<00:08,  2.46it/s, loss=0.0935, v_num=4, train_loss=0.0217, train_accuracy=1.000, train_f1_score=1.000, val_loss=0.269, val_accuracy=0.914, val_f1_score=0.914]\n",
      "Epoch 73:  93%|█████████▎| 236/255 [01:35<00:07,  2.48it/s, loss=0.0935, v_num=4, train_loss=0.0217, train_accuracy=1.000, train_f1_score=1.000, val_loss=0.269, val_accuracy=0.914, val_f1_score=0.914]\n",
      "Epoch 73:  93%|█████████▎| 238/255 [01:35<00:06,  2.49it/s, loss=0.0935, v_num=4, train_loss=0.0217, train_accuracy=1.000, train_f1_score=1.000, val_loss=0.269, val_accuracy=0.914, val_f1_score=0.914]\n",
      "Epoch 73:  94%|█████████▍| 240/255 [01:35<00:05,  2.51it/s, loss=0.0935, v_num=4, train_loss=0.0217, train_accuracy=1.000, train_f1_score=1.000, val_loss=0.269, val_accuracy=0.914, val_f1_score=0.914]\n",
      "Epoch 73:  95%|█████████▍| 242/255 [01:35<00:05,  2.53it/s, loss=0.0935, v_num=4, train_loss=0.0217, train_accuracy=1.000, train_f1_score=1.000, val_loss=0.269, val_accuracy=0.914, val_f1_score=0.914]\n",
      "Epoch 73:  96%|█████████▌| 244/255 [01:35<00:04,  2.54it/s, loss=0.0935, v_num=4, train_loss=0.0217, train_accuracy=1.000, train_f1_score=1.000, val_loss=0.269, val_accuracy=0.914, val_f1_score=0.914]\n",
      "Epoch 73:  96%|█████████▋| 246/255 [01:36<00:03,  2.56it/s, loss=0.0935, v_num=4, train_loss=0.0217, train_accuracy=1.000, train_f1_score=1.000, val_loss=0.269, val_accuracy=0.914, val_f1_score=0.914]\n",
      "Epoch 73:  97%|█████████▋| 248/255 [01:36<00:02,  2.57it/s, loss=0.0935, v_num=4, train_loss=0.0217, train_accuracy=1.000, train_f1_score=1.000, val_loss=0.269, val_accuracy=0.914, val_f1_score=0.914]\n",
      "Epoch 73:  98%|█████████▊| 250/255 [01:36<00:01,  2.59it/s, loss=0.0935, v_num=4, train_loss=0.0217, train_accuracy=1.000, train_f1_score=1.000, val_loss=0.269, val_accuracy=0.914, val_f1_score=0.914]\n",
      "Epoch 73:  99%|█████████▉| 252/255 [01:36<00:01,  2.61it/s, loss=0.0935, v_num=4, train_loss=0.0217, train_accuracy=1.000, train_f1_score=1.000, val_loss=0.269, val_accuracy=0.914, val_f1_score=0.914]\n",
      "Epoch 73: 100%|█████████▉| 254/255 [01:36<00:00,  2.62it/s, loss=0.0935, v_num=4, train_loss=0.0217, train_accuracy=1.000, train_f1_score=1.000, val_loss=0.269, val_accuracy=0.914, val_f1_score=0.914]\n",
      "Epoch 73: 100%|██████████| 255/255 [01:37<00:00,  2.60it/s, loss=0.0935, v_num=4, train_loss=0.0217, train_accuracy=1.000, train_f1_score=1.000, val_loss=0.344, val_accuracy=0.901, val_f1_score=0.901]\n",
      "Epoch 73: 100%|██████████| 255/255 [01:38<00:00,  2.60it/s, loss=0.0935, v_num=4, train_loss=0.0217, train_accuracy=1.000, train_f1_score=1.000, val_loss=0.344, val_accuracy=0.901, val_f1_score=0.901]"
     ]
    },
    {
     "name": "stderr",
     "output_type": "stream",
     "text": [
      "Epoch 73, global step 16723: val_loss was not in top 2\n"
     ]
    },
    {
     "name": "stdout",
     "output_type": "stream",
     "text": [
      "Epoch 74:  89%|████████▊ | 226/255 [01:28<00:11,  2.56it/s, loss=0.0748, v_num=4, train_loss=0.0787, train_accuracy=0.944, train_f1_score=0.944, val_loss=0.344, val_accuracy=0.901, val_f1_score=0.901] \n",
      "Validating: 0it [00:00, ?it/s]\u001b[A\n",
      "Validating:   0%|          | 0/29 [00:00<?, ?it/s]\u001b[A\n",
      "Epoch 74:  89%|████████▉ | 228/255 [01:35<00:11,  2.38it/s, loss=0.0748, v_num=4, train_loss=0.0787, train_accuracy=0.944, train_f1_score=0.944, val_loss=0.344, val_accuracy=0.901, val_f1_score=0.901]\n",
      "Validating:   7%|▋         | 2/29 [00:07<01:26,  3.19s/it]\u001b[A\n",
      "Epoch 74:  90%|█████████ | 230/255 [01:36<00:10,  2.39it/s, loss=0.0748, v_num=4, train_loss=0.0787, train_accuracy=0.944, train_f1_score=0.944, val_loss=0.344, val_accuracy=0.901, val_f1_score=0.901]\n",
      "Epoch 74:  91%|█████████ | 232/255 [01:36<00:09,  2.41it/s, loss=0.0748, v_num=4, train_loss=0.0787, train_accuracy=0.944, train_f1_score=0.944, val_loss=0.344, val_accuracy=0.901, val_f1_score=0.901]\n",
      "Epoch 74:  92%|█████████▏| 234/255 [01:36<00:08,  2.43it/s, loss=0.0748, v_num=4, train_loss=0.0787, train_accuracy=0.944, train_f1_score=0.944, val_loss=0.344, val_accuracy=0.901, val_f1_score=0.901]\n",
      "Epoch 74:  93%|█████████▎| 236/255 [01:36<00:07,  2.44it/s, loss=0.0748, v_num=4, train_loss=0.0787, train_accuracy=0.944, train_f1_score=0.944, val_loss=0.344, val_accuracy=0.901, val_f1_score=0.901]\n",
      "Epoch 74:  93%|█████████▎| 238/255 [01:36<00:06,  2.46it/s, loss=0.0748, v_num=4, train_loss=0.0787, train_accuracy=0.944, train_f1_score=0.944, val_loss=0.344, val_accuracy=0.901, val_f1_score=0.901]\n",
      "Epoch 74:  94%|█████████▍| 240/255 [01:36<00:06,  2.48it/s, loss=0.0748, v_num=4, train_loss=0.0787, train_accuracy=0.944, train_f1_score=0.944, val_loss=0.344, val_accuracy=0.901, val_f1_score=0.901]\n",
      "Epoch 74:  95%|█████████▍| 242/255 [01:37<00:05,  2.49it/s, loss=0.0748, v_num=4, train_loss=0.0787, train_accuracy=0.944, train_f1_score=0.944, val_loss=0.344, val_accuracy=0.901, val_f1_score=0.901]\n",
      "Epoch 74:  96%|█████████▌| 244/255 [01:37<00:04,  2.51it/s, loss=0.0748, v_num=4, train_loss=0.0787, train_accuracy=0.944, train_f1_score=0.944, val_loss=0.344, val_accuracy=0.901, val_f1_score=0.901]\n",
      "Epoch 74:  96%|█████████▋| 246/255 [01:37<00:03,  2.53it/s, loss=0.0748, v_num=4, train_loss=0.0787, train_accuracy=0.944, train_f1_score=0.944, val_loss=0.344, val_accuracy=0.901, val_f1_score=0.901]\n",
      "Epoch 74:  97%|█████████▋| 248/255 [01:37<00:02,  2.54it/s, loss=0.0748, v_num=4, train_loss=0.0787, train_accuracy=0.944, train_f1_score=0.944, val_loss=0.344, val_accuracy=0.901, val_f1_score=0.901]\n",
      "Epoch 74:  98%|█████████▊| 250/255 [01:37<00:01,  2.56it/s, loss=0.0748, v_num=4, train_loss=0.0787, train_accuracy=0.944, train_f1_score=0.944, val_loss=0.344, val_accuracy=0.901, val_f1_score=0.901]\n",
      "Epoch 74:  99%|█████████▉| 252/255 [01:37<00:01,  2.58it/s, loss=0.0748, v_num=4, train_loss=0.0787, train_accuracy=0.944, train_f1_score=0.944, val_loss=0.344, val_accuracy=0.901, val_f1_score=0.901]\n",
      "Epoch 74: 100%|█████████▉| 254/255 [01:37<00:00,  2.59it/s, loss=0.0748, v_num=4, train_loss=0.0787, train_accuracy=0.944, train_f1_score=0.944, val_loss=0.344, val_accuracy=0.901, val_f1_score=0.901]\n",
      "Epoch 74: 100%|██████████| 255/255 [01:39<00:00,  2.57it/s, loss=0.0748, v_num=4, train_loss=0.0787, train_accuracy=0.944, train_f1_score=0.944, val_loss=0.356, val_accuracy=0.905, val_f1_score=0.905]\n",
      "Epoch 74: 100%|██████████| 255/255 [01:39<00:00,  2.57it/s, loss=0.0748, v_num=4, train_loss=0.0787, train_accuracy=0.944, train_f1_score=0.944, val_loss=0.356, val_accuracy=0.905, val_f1_score=0.905]"
     ]
    },
    {
     "name": "stderr",
     "output_type": "stream",
     "text": [
      "Epoch 74, global step 16949: val_loss was not in top 2\n"
     ]
    },
    {
     "name": "stdout",
     "output_type": "stream",
     "text": [
      "Epoch 75:  89%|████████▊ | 226/255 [01:27<00:11,  2.59it/s, loss=0.128, v_num=4, train_loss=0.0647, train_accuracy=1.000, train_f1_score=1.000, val_loss=0.356, val_accuracy=0.905, val_f1_score=0.905] \n",
      "Validating: 0it [00:00, ?it/s]\u001b[A\n",
      "Validating:   0%|          | 0/29 [00:00<?, ?it/s]\u001b[A\n",
      "Epoch 75:  89%|████████▉ | 228/255 [01:34<00:11,  2.40it/s, loss=0.128, v_num=4, train_loss=0.0647, train_accuracy=1.000, train_f1_score=1.000, val_loss=0.356, val_accuracy=0.905, val_f1_score=0.905]\n",
      "Epoch 75:  90%|█████████ | 230/255 [01:35<00:10,  2.42it/s, loss=0.128, v_num=4, train_loss=0.0647, train_accuracy=1.000, train_f1_score=1.000, val_loss=0.356, val_accuracy=0.905, val_f1_score=0.905]\n",
      "Epoch 75:  91%|█████████ | 232/255 [01:35<00:09,  2.44it/s, loss=0.128, v_num=4, train_loss=0.0647, train_accuracy=1.000, train_f1_score=1.000, val_loss=0.356, val_accuracy=0.905, val_f1_score=0.905]\n",
      "Epoch 75:  92%|█████████▏| 234/255 [01:35<00:08,  2.45it/s, loss=0.128, v_num=4, train_loss=0.0647, train_accuracy=1.000, train_f1_score=1.000, val_loss=0.356, val_accuracy=0.905, val_f1_score=0.905]\n",
      "Epoch 75:  93%|█████████▎| 236/255 [01:35<00:07,  2.47it/s, loss=0.128, v_num=4, train_loss=0.0647, train_accuracy=1.000, train_f1_score=1.000, val_loss=0.356, val_accuracy=0.905, val_f1_score=0.905]\n",
      "Epoch 75:  93%|█████████▎| 238/255 [01:35<00:06,  2.49it/s, loss=0.128, v_num=4, train_loss=0.0647, train_accuracy=1.000, train_f1_score=1.000, val_loss=0.356, val_accuracy=0.905, val_f1_score=0.905]\n",
      "Epoch 75:  94%|█████████▍| 240/255 [01:35<00:05,  2.50it/s, loss=0.128, v_num=4, train_loss=0.0647, train_accuracy=1.000, train_f1_score=1.000, val_loss=0.356, val_accuracy=0.905, val_f1_score=0.905]\n",
      "Epoch 75:  95%|█████████▍| 242/255 [01:36<00:05,  2.52it/s, loss=0.128, v_num=4, train_loss=0.0647, train_accuracy=1.000, train_f1_score=1.000, val_loss=0.356, val_accuracy=0.905, val_f1_score=0.905]\n",
      "Epoch 75:  96%|█████████▌| 244/255 [01:36<00:04,  2.54it/s, loss=0.128, v_num=4, train_loss=0.0647, train_accuracy=1.000, train_f1_score=1.000, val_loss=0.356, val_accuracy=0.905, val_f1_score=0.905]\n",
      "Epoch 75:  96%|█████████▋| 246/255 [01:36<00:03,  2.55it/s, loss=0.128, v_num=4, train_loss=0.0647, train_accuracy=1.000, train_f1_score=1.000, val_loss=0.356, val_accuracy=0.905, val_f1_score=0.905]\n",
      "Epoch 75:  97%|█████████▋| 248/255 [01:36<00:02,  2.57it/s, loss=0.128, v_num=4, train_loss=0.0647, train_accuracy=1.000, train_f1_score=1.000, val_loss=0.356, val_accuracy=0.905, val_f1_score=0.905]\n",
      "Epoch 75:  98%|█████████▊| 250/255 [01:36<00:01,  2.59it/s, loss=0.128, v_num=4, train_loss=0.0647, train_accuracy=1.000, train_f1_score=1.000, val_loss=0.356, val_accuracy=0.905, val_f1_score=0.905]\n",
      "Epoch 75:  99%|█████████▉| 252/255 [01:36<00:01,  2.60it/s, loss=0.128, v_num=4, train_loss=0.0647, train_accuracy=1.000, train_f1_score=1.000, val_loss=0.356, val_accuracy=0.905, val_f1_score=0.905]\n",
      "Epoch 75: 100%|█████████▉| 254/255 [01:36<00:00,  2.62it/s, loss=0.128, v_num=4, train_loss=0.0647, train_accuracy=1.000, train_f1_score=1.000, val_loss=0.356, val_accuracy=0.905, val_f1_score=0.905]\n",
      "Epoch 75: 100%|██████████| 255/255 [01:38<00:00,  2.60it/s, loss=0.128, v_num=4, train_loss=0.0647, train_accuracy=1.000, train_f1_score=1.000, val_loss=0.321, val_accuracy=0.902, val_f1_score=0.902]\n",
      "Epoch 75: 100%|██████████| 255/255 [01:38<00:00,  2.60it/s, loss=0.128, v_num=4, train_loss=0.0647, train_accuracy=1.000, train_f1_score=1.000, val_loss=0.321, val_accuracy=0.902, val_f1_score=0.902]"
     ]
    },
    {
     "name": "stderr",
     "output_type": "stream",
     "text": [
      "Epoch 75, global step 17175: val_loss was not in top 2\n"
     ]
    },
    {
     "name": "stdout",
     "output_type": "stream",
     "text": [
      "Epoch 76:  89%|████████▊ | 226/255 [01:26<00:11,  2.60it/s, loss=0.076, v_num=4, train_loss=0.0228, train_accuracy=1.000, train_f1_score=1.000, val_loss=0.321, val_accuracy=0.902, val_f1_score=0.902] \n",
      "Validating: 0it [00:00, ?it/s]\u001b[A\n",
      "Validating:   0%|          | 0/29 [00:00<?, ?it/s]\u001b[A\n",
      "Epoch 76:  89%|████████▉ | 228/255 [01:34<00:11,  2.41it/s, loss=0.076, v_num=4, train_loss=0.0228, train_accuracy=1.000, train_f1_score=1.000, val_loss=0.321, val_accuracy=0.902, val_f1_score=0.902]\n",
      "Epoch 76:  90%|█████████ | 230/255 [01:34<00:10,  2.43it/s, loss=0.076, v_num=4, train_loss=0.0228, train_accuracy=1.000, train_f1_score=1.000, val_loss=0.321, val_accuracy=0.902, val_f1_score=0.902]\n",
      "Epoch 76:  91%|█████████ | 232/255 [01:34<00:09,  2.44it/s, loss=0.076, v_num=4, train_loss=0.0228, train_accuracy=1.000, train_f1_score=1.000, val_loss=0.321, val_accuracy=0.902, val_f1_score=0.902]\n",
      "Epoch 76:  92%|█████████▏| 234/255 [01:35<00:08,  2.46it/s, loss=0.076, v_num=4, train_loss=0.0228, train_accuracy=1.000, train_f1_score=1.000, val_loss=0.321, val_accuracy=0.902, val_f1_score=0.902]\n",
      "Epoch 76:  93%|█████████▎| 236/255 [01:35<00:07,  2.48it/s, loss=0.076, v_num=4, train_loss=0.0228, train_accuracy=1.000, train_f1_score=1.000, val_loss=0.321, val_accuracy=0.902, val_f1_score=0.902]\n",
      "Epoch 76:  93%|█████████▎| 238/255 [01:35<00:06,  2.49it/s, loss=0.076, v_num=4, train_loss=0.0228, train_accuracy=1.000, train_f1_score=1.000, val_loss=0.321, val_accuracy=0.902, val_f1_score=0.902]\n",
      "Epoch 76:  94%|█████████▍| 240/255 [01:35<00:05,  2.51it/s, loss=0.076, v_num=4, train_loss=0.0228, train_accuracy=1.000, train_f1_score=1.000, val_loss=0.321, val_accuracy=0.902, val_f1_score=0.902]\n",
      "Epoch 76:  95%|█████████▍| 242/255 [01:35<00:05,  2.53it/s, loss=0.076, v_num=4, train_loss=0.0228, train_accuracy=1.000, train_f1_score=1.000, val_loss=0.321, val_accuracy=0.902, val_f1_score=0.902]\n",
      "Epoch 76:  96%|█████████▌| 244/255 [01:35<00:04,  2.54it/s, loss=0.076, v_num=4, train_loss=0.0228, train_accuracy=1.000, train_f1_score=1.000, val_loss=0.321, val_accuracy=0.902, val_f1_score=0.902]\n",
      "Epoch 76:  96%|█████████▋| 246/255 [01:36<00:03,  2.56it/s, loss=0.076, v_num=4, train_loss=0.0228, train_accuracy=1.000, train_f1_score=1.000, val_loss=0.321, val_accuracy=0.902, val_f1_score=0.902]\n",
      "Epoch 76:  97%|█████████▋| 248/255 [01:36<00:02,  2.57it/s, loss=0.076, v_num=4, train_loss=0.0228, train_accuracy=1.000, train_f1_score=1.000, val_loss=0.321, val_accuracy=0.902, val_f1_score=0.902]\n",
      "Epoch 76:  98%|█████████▊| 250/255 [01:36<00:01,  2.59it/s, loss=0.076, v_num=4, train_loss=0.0228, train_accuracy=1.000, train_f1_score=1.000, val_loss=0.321, val_accuracy=0.902, val_f1_score=0.902]\n",
      "Epoch 76:  99%|█████████▉| 252/255 [01:36<00:01,  2.61it/s, loss=0.076, v_num=4, train_loss=0.0228, train_accuracy=1.000, train_f1_score=1.000, val_loss=0.321, val_accuracy=0.902, val_f1_score=0.902]\n",
      "Epoch 76: 100%|█████████▉| 254/255 [01:36<00:00,  2.62it/s, loss=0.076, v_num=4, train_loss=0.0228, train_accuracy=1.000, train_f1_score=1.000, val_loss=0.321, val_accuracy=0.902, val_f1_score=0.902]\n",
      "Epoch 76: 100%|██████████| 255/255 [01:38<00:00,  2.60it/s, loss=0.076, v_num=4, train_loss=0.0228, train_accuracy=1.000, train_f1_score=1.000, val_loss=0.317, val_accuracy=0.908, val_f1_score=0.908]\n",
      "Epoch 76: 100%|██████████| 255/255 [01:38<00:00,  2.60it/s, loss=0.076, v_num=4, train_loss=0.0228, train_accuracy=1.000, train_f1_score=1.000, val_loss=0.317, val_accuracy=0.908, val_f1_score=0.908]"
     ]
    },
    {
     "name": "stderr",
     "output_type": "stream",
     "text": [
      "Epoch 76, global step 17401: val_loss was not in top 2\n"
     ]
    },
    {
     "name": "stdout",
     "output_type": "stream",
     "text": [
      "Epoch 77:  89%|████████▊ | 226/255 [01:26<00:11,  2.61it/s, loss=0.0754, v_num=4, train_loss=0.132, train_accuracy=0.889, train_f1_score=0.889, val_loss=0.317, val_accuracy=0.908, val_f1_score=0.908]  \n",
      "Validating: 0it [00:00, ?it/s]\u001b[A\n",
      "Validating:   0%|          | 0/29 [00:00<?, ?it/s]\u001b[A\n",
      "Epoch 77:  89%|████████▉ | 228/255 [01:34<00:11,  2.42it/s, loss=0.0754, v_num=4, train_loss=0.132, train_accuracy=0.889, train_f1_score=0.889, val_loss=0.317, val_accuracy=0.908, val_f1_score=0.908]\n",
      "Epoch 77:  90%|█████████ | 230/255 [01:34<00:10,  2.43it/s, loss=0.0754, v_num=4, train_loss=0.132, train_accuracy=0.889, train_f1_score=0.889, val_loss=0.317, val_accuracy=0.908, val_f1_score=0.908]\n",
      "Epoch 77:  91%|█████████ | 232/255 [01:34<00:09,  2.45it/s, loss=0.0754, v_num=4, train_loss=0.132, train_accuracy=0.889, train_f1_score=0.889, val_loss=0.317, val_accuracy=0.908, val_f1_score=0.908]\n",
      "Epoch 77:  92%|█████████▏| 234/255 [01:34<00:08,  2.47it/s, loss=0.0754, v_num=4, train_loss=0.132, train_accuracy=0.889, train_f1_score=0.889, val_loss=0.317, val_accuracy=0.908, val_f1_score=0.908]\n",
      "Epoch 77:  93%|█████████▎| 236/255 [01:35<00:07,  2.48it/s, loss=0.0754, v_num=4, train_loss=0.132, train_accuracy=0.889, train_f1_score=0.889, val_loss=0.317, val_accuracy=0.908, val_f1_score=0.908]\n",
      "Epoch 77:  93%|█████████▎| 238/255 [01:35<00:06,  2.50it/s, loss=0.0754, v_num=4, train_loss=0.132, train_accuracy=0.889, train_f1_score=0.889, val_loss=0.317, val_accuracy=0.908, val_f1_score=0.908]\n",
      "Epoch 77:  94%|█████████▍| 240/255 [01:35<00:05,  2.52it/s, loss=0.0754, v_num=4, train_loss=0.132, train_accuracy=0.889, train_f1_score=0.889, val_loss=0.317, val_accuracy=0.908, val_f1_score=0.908]\n",
      "Epoch 77:  95%|█████████▍| 242/255 [01:35<00:05,  2.53it/s, loss=0.0754, v_num=4, train_loss=0.132, train_accuracy=0.889, train_f1_score=0.889, val_loss=0.317, val_accuracy=0.908, val_f1_score=0.908]\n",
      "Epoch 77:  96%|█████████▌| 244/255 [01:35<00:04,  2.55it/s, loss=0.0754, v_num=4, train_loss=0.132, train_accuracy=0.889, train_f1_score=0.889, val_loss=0.317, val_accuracy=0.908, val_f1_score=0.908]\n",
      "Epoch 77:  96%|█████████▋| 246/255 [01:35<00:03,  2.57it/s, loss=0.0754, v_num=4, train_loss=0.132, train_accuracy=0.889, train_f1_score=0.889, val_loss=0.317, val_accuracy=0.908, val_f1_score=0.908]\n",
      "Epoch 77:  97%|█████████▋| 248/255 [01:36<00:02,  2.58it/s, loss=0.0754, v_num=4, train_loss=0.132, train_accuracy=0.889, train_f1_score=0.889, val_loss=0.317, val_accuracy=0.908, val_f1_score=0.908]\n",
      "Epoch 77:  98%|█████████▊| 250/255 [01:36<00:01,  2.60it/s, loss=0.0754, v_num=4, train_loss=0.132, train_accuracy=0.889, train_f1_score=0.889, val_loss=0.317, val_accuracy=0.908, val_f1_score=0.908]\n",
      "Epoch 77:  99%|█████████▉| 252/255 [01:36<00:01,  2.62it/s, loss=0.0754, v_num=4, train_loss=0.132, train_accuracy=0.889, train_f1_score=0.889, val_loss=0.317, val_accuracy=0.908, val_f1_score=0.908]\n",
      "Epoch 77: 100%|█████████▉| 254/255 [01:36<00:00,  2.63it/s, loss=0.0754, v_num=4, train_loss=0.132, train_accuracy=0.889, train_f1_score=0.889, val_loss=0.317, val_accuracy=0.908, val_f1_score=0.908]\n",
      "Epoch 77: 100%|██████████| 255/255 [01:37<00:00,  2.61it/s, loss=0.0754, v_num=4, train_loss=0.132, train_accuracy=0.889, train_f1_score=0.889, val_loss=0.305, val_accuracy=0.914, val_f1_score=0.914]\n",
      "Epoch 77: 100%|██████████| 255/255 [01:37<00:00,  2.61it/s, loss=0.0754, v_num=4, train_loss=0.132, train_accuracy=0.889, train_f1_score=0.889, val_loss=0.305, val_accuracy=0.914, val_f1_score=0.914]"
     ]
    },
    {
     "name": "stderr",
     "output_type": "stream",
     "text": [
      "Epoch 77, global step 17627: val_loss was not in top 2\n"
     ]
    },
    {
     "name": "stdout",
     "output_type": "stream",
     "text": [
      "Epoch 78:  89%|████████▊ | 226/255 [01:26<00:11,  2.61it/s, loss=0.119, v_num=4, train_loss=0.0585, train_accuracy=1.000, train_f1_score=1.000, val_loss=0.305, val_accuracy=0.914, val_f1_score=0.914] \n",
      "Validating: 0it [00:00, ?it/s]\u001b[A\n",
      "Validating:   0%|          | 0/29 [00:00<?, ?it/s]\u001b[A\n",
      "Epoch 78:  89%|████████▉ | 228/255 [01:34<00:11,  2.42it/s, loss=0.119, v_num=4, train_loss=0.0585, train_accuracy=1.000, train_f1_score=1.000, val_loss=0.305, val_accuracy=0.914, val_f1_score=0.914]\n",
      "Epoch 78:  90%|█████████ | 230/255 [01:34<00:10,  2.43it/s, loss=0.119, v_num=4, train_loss=0.0585, train_accuracy=1.000, train_f1_score=1.000, val_loss=0.305, val_accuracy=0.914, val_f1_score=0.914]\n",
      "Epoch 78:  91%|█████████ | 232/255 [01:34<00:09,  2.45it/s, loss=0.119, v_num=4, train_loss=0.0585, train_accuracy=1.000, train_f1_score=1.000, val_loss=0.305, val_accuracy=0.914, val_f1_score=0.914]\n",
      "Epoch 78:  92%|█████████▏| 234/255 [01:34<00:08,  2.47it/s, loss=0.119, v_num=4, train_loss=0.0585, train_accuracy=1.000, train_f1_score=1.000, val_loss=0.305, val_accuracy=0.914, val_f1_score=0.914]\n",
      "Epoch 78:  93%|█████████▎| 236/255 [01:34<00:07,  2.48it/s, loss=0.119, v_num=4, train_loss=0.0585, train_accuracy=1.000, train_f1_score=1.000, val_loss=0.305, val_accuracy=0.914, val_f1_score=0.914]\n",
      "Epoch 78:  93%|█████████▎| 238/255 [01:35<00:06,  2.50it/s, loss=0.119, v_num=4, train_loss=0.0585, train_accuracy=1.000, train_f1_score=1.000, val_loss=0.305, val_accuracy=0.914, val_f1_score=0.914]\n",
      "Epoch 78:  94%|█████████▍| 240/255 [01:35<00:05,  2.52it/s, loss=0.119, v_num=4, train_loss=0.0585, train_accuracy=1.000, train_f1_score=1.000, val_loss=0.305, val_accuracy=0.914, val_f1_score=0.914]\n",
      "Epoch 78:  95%|█████████▍| 242/255 [01:35<00:05,  2.53it/s, loss=0.119, v_num=4, train_loss=0.0585, train_accuracy=1.000, train_f1_score=1.000, val_loss=0.305, val_accuracy=0.914, val_f1_score=0.914]\n",
      "Epoch 78:  96%|█████████▌| 244/255 [01:35<00:04,  2.55it/s, loss=0.119, v_num=4, train_loss=0.0585, train_accuracy=1.000, train_f1_score=1.000, val_loss=0.305, val_accuracy=0.914, val_f1_score=0.914]\n",
      "Epoch 78:  96%|█████████▋| 246/255 [01:35<00:03,  2.57it/s, loss=0.119, v_num=4, train_loss=0.0585, train_accuracy=1.000, train_f1_score=1.000, val_loss=0.305, val_accuracy=0.914, val_f1_score=0.914]\n",
      "Epoch 78:  97%|█████████▋| 248/255 [01:36<00:02,  2.58it/s, loss=0.119, v_num=4, train_loss=0.0585, train_accuracy=1.000, train_f1_score=1.000, val_loss=0.305, val_accuracy=0.914, val_f1_score=0.914]\n",
      "Epoch 78:  98%|█████████▊| 250/255 [01:36<00:01,  2.60it/s, loss=0.119, v_num=4, train_loss=0.0585, train_accuracy=1.000, train_f1_score=1.000, val_loss=0.305, val_accuracy=0.914, val_f1_score=0.914]\n",
      "Epoch 78:  99%|█████████▉| 252/255 [01:36<00:01,  2.61it/s, loss=0.119, v_num=4, train_loss=0.0585, train_accuracy=1.000, train_f1_score=1.000, val_loss=0.305, val_accuracy=0.914, val_f1_score=0.914]\n",
      "Epoch 78: 100%|█████████▉| 254/255 [01:36<00:00,  2.63it/s, loss=0.119, v_num=4, train_loss=0.0585, train_accuracy=1.000, train_f1_score=1.000, val_loss=0.305, val_accuracy=0.914, val_f1_score=0.914]\n",
      "Epoch 78: 100%|██████████| 255/255 [01:37<00:00,  2.61it/s, loss=0.119, v_num=4, train_loss=0.0585, train_accuracy=1.000, train_f1_score=1.000, val_loss=0.312, val_accuracy=0.904, val_f1_score=0.904]\n",
      "Epoch 78: 100%|██████████| 255/255 [01:37<00:00,  2.61it/s, loss=0.119, v_num=4, train_loss=0.0585, train_accuracy=1.000, train_f1_score=1.000, val_loss=0.312, val_accuracy=0.904, val_f1_score=0.904]"
     ]
    },
    {
     "name": "stderr",
     "output_type": "stream",
     "text": [
      "Epoch 78, global step 17853: val_loss was not in top 2\n"
     ]
    },
    {
     "name": "stdout",
     "output_type": "stream",
     "text": [
      "Epoch 79:  89%|████████▊ | 226/255 [01:26<00:11,  2.61it/s, loss=0.103, v_num=4, train_loss=0.533, train_accuracy=0.889, train_f1_score=0.889, val_loss=0.312, val_accuracy=0.904, val_f1_score=0.904]   \n",
      "Validating: 0it [00:00, ?it/s]\u001b[A\n",
      "Validating:   0%|          | 0/29 [00:00<?, ?it/s]\u001b[A\n",
      "Epoch 79:  89%|████████▉ | 228/255 [01:34<00:11,  2.42it/s, loss=0.103, v_num=4, train_loss=0.533, train_accuracy=0.889, train_f1_score=0.889, val_loss=0.312, val_accuracy=0.904, val_f1_score=0.904]\n",
      "Epoch 79:  90%|█████████ | 230/255 [01:34<00:10,  2.43it/s, loss=0.103, v_num=4, train_loss=0.533, train_accuracy=0.889, train_f1_score=0.889, val_loss=0.312, val_accuracy=0.904, val_f1_score=0.904]\n",
      "Epoch 79:  91%|█████████ | 232/255 [01:34<00:09,  2.45it/s, loss=0.103, v_num=4, train_loss=0.533, train_accuracy=0.889, train_f1_score=0.889, val_loss=0.312, val_accuracy=0.904, val_f1_score=0.904]\n",
      "Epoch 79:  92%|█████████▏| 234/255 [01:34<00:08,  2.47it/s, loss=0.103, v_num=4, train_loss=0.533, train_accuracy=0.889, train_f1_score=0.889, val_loss=0.312, val_accuracy=0.904, val_f1_score=0.904]\n",
      "Epoch 79:  93%|█████████▎| 236/255 [01:35<00:07,  2.48it/s, loss=0.103, v_num=4, train_loss=0.533, train_accuracy=0.889, train_f1_score=0.889, val_loss=0.312, val_accuracy=0.904, val_f1_score=0.904]\n",
      "Epoch 79:  93%|█████████▎| 238/255 [01:35<00:06,  2.50it/s, loss=0.103, v_num=4, train_loss=0.533, train_accuracy=0.889, train_f1_score=0.889, val_loss=0.312, val_accuracy=0.904, val_f1_score=0.904]\n",
      "Epoch 79:  94%|█████████▍| 240/255 [01:35<00:05,  2.52it/s, loss=0.103, v_num=4, train_loss=0.533, train_accuracy=0.889, train_f1_score=0.889, val_loss=0.312, val_accuracy=0.904, val_f1_score=0.904]\n",
      "Epoch 79:  95%|█████████▍| 242/255 [01:35<00:05,  2.53it/s, loss=0.103, v_num=4, train_loss=0.533, train_accuracy=0.889, train_f1_score=0.889, val_loss=0.312, val_accuracy=0.904, val_f1_score=0.904]\n",
      "Epoch 79:  96%|█████████▌| 244/255 [01:35<00:04,  2.55it/s, loss=0.103, v_num=4, train_loss=0.533, train_accuracy=0.889, train_f1_score=0.889, val_loss=0.312, val_accuracy=0.904, val_f1_score=0.904]\n",
      "Epoch 79:  96%|█████████▋| 246/255 [01:35<00:03,  2.56it/s, loss=0.103, v_num=4, train_loss=0.533, train_accuracy=0.889, train_f1_score=0.889, val_loss=0.312, val_accuracy=0.904, val_f1_score=0.904]\n",
      "Epoch 79:  97%|█████████▋| 248/255 [01:36<00:02,  2.58it/s, loss=0.103, v_num=4, train_loss=0.533, train_accuracy=0.889, train_f1_score=0.889, val_loss=0.312, val_accuracy=0.904, val_f1_score=0.904]\n",
      "Epoch 79:  98%|█████████▊| 250/255 [01:36<00:01,  2.60it/s, loss=0.103, v_num=4, train_loss=0.533, train_accuracy=0.889, train_f1_score=0.889, val_loss=0.312, val_accuracy=0.904, val_f1_score=0.904]\n",
      "Epoch 79:  99%|█████████▉| 252/255 [01:36<00:01,  2.61it/s, loss=0.103, v_num=4, train_loss=0.533, train_accuracy=0.889, train_f1_score=0.889, val_loss=0.312, val_accuracy=0.904, val_f1_score=0.904]\n",
      "Epoch 79: 100%|█████████▉| 254/255 [01:36<00:00,  2.63it/s, loss=0.103, v_num=4, train_loss=0.533, train_accuracy=0.889, train_f1_score=0.889, val_loss=0.312, val_accuracy=0.904, val_f1_score=0.904]\n",
      "Epoch 79: 100%|██████████| 255/255 [01:37<00:00,  2.61it/s, loss=0.103, v_num=4, train_loss=0.533, train_accuracy=0.889, train_f1_score=0.889, val_loss=0.364, val_accuracy=0.907, val_f1_score=0.907]\n",
      "Epoch 79: 100%|██████████| 255/255 [01:37<00:00,  2.61it/s, loss=0.103, v_num=4, train_loss=0.533, train_accuracy=0.889, train_f1_score=0.889, val_loss=0.364, val_accuracy=0.907, val_f1_score=0.907]"
     ]
    },
    {
     "name": "stderr",
     "output_type": "stream",
     "text": [
      "Epoch 79, global step 18079: val_loss was not in top 2\n"
     ]
    },
    {
     "name": "stdout",
     "output_type": "stream",
     "text": [
      "Epoch 80:  89%|████████▊ | 226/255 [01:26<00:11,  2.61it/s, loss=0.0856, v_num=4, train_loss=0.191, train_accuracy=0.944, train_f1_score=0.944, val_loss=0.364, val_accuracy=0.907, val_f1_score=0.907]  \n",
      "Validating: 0it [00:00, ?it/s]\u001b[A\n",
      "Validating:   0%|          | 0/29 [00:00<?, ?it/s]\u001b[A\n",
      "Epoch 80:  89%|████████▉ | 228/255 [01:34<00:11,  2.42it/s, loss=0.0856, v_num=4, train_loss=0.191, train_accuracy=0.944, train_f1_score=0.944, val_loss=0.364, val_accuracy=0.907, val_f1_score=0.907]\n",
      "Epoch 80:  90%|█████████ | 230/255 [01:34<00:10,  2.43it/s, loss=0.0856, v_num=4, train_loss=0.191, train_accuracy=0.944, train_f1_score=0.944, val_loss=0.364, val_accuracy=0.907, val_f1_score=0.907]\n",
      "Epoch 80:  91%|█████████ | 232/255 [01:34<00:09,  2.45it/s, loss=0.0856, v_num=4, train_loss=0.191, train_accuracy=0.944, train_f1_score=0.944, val_loss=0.364, val_accuracy=0.907, val_f1_score=0.907]\n",
      "Epoch 80:  92%|█████████▏| 234/255 [01:34<00:08,  2.47it/s, loss=0.0856, v_num=4, train_loss=0.191, train_accuracy=0.944, train_f1_score=0.944, val_loss=0.364, val_accuracy=0.907, val_f1_score=0.907]\n",
      "Epoch 80:  93%|█████████▎| 236/255 [01:35<00:07,  2.48it/s, loss=0.0856, v_num=4, train_loss=0.191, train_accuracy=0.944, train_f1_score=0.944, val_loss=0.364, val_accuracy=0.907, val_f1_score=0.907]\n",
      "Epoch 80:  93%|█████████▎| 238/255 [01:35<00:06,  2.50it/s, loss=0.0856, v_num=4, train_loss=0.191, train_accuracy=0.944, train_f1_score=0.944, val_loss=0.364, val_accuracy=0.907, val_f1_score=0.907]\n",
      "Epoch 80:  94%|█████████▍| 240/255 [01:35<00:05,  2.52it/s, loss=0.0856, v_num=4, train_loss=0.191, train_accuracy=0.944, train_f1_score=0.944, val_loss=0.364, val_accuracy=0.907, val_f1_score=0.907]\n",
      "Epoch 80:  95%|█████████▍| 242/255 [01:35<00:05,  2.53it/s, loss=0.0856, v_num=4, train_loss=0.191, train_accuracy=0.944, train_f1_score=0.944, val_loss=0.364, val_accuracy=0.907, val_f1_score=0.907]\n",
      "Epoch 80:  96%|█████████▌| 244/255 [01:35<00:04,  2.55it/s, loss=0.0856, v_num=4, train_loss=0.191, train_accuracy=0.944, train_f1_score=0.944, val_loss=0.364, val_accuracy=0.907, val_f1_score=0.907]\n",
      "Epoch 80:  96%|█████████▋| 246/255 [01:35<00:03,  2.56it/s, loss=0.0856, v_num=4, train_loss=0.191, train_accuracy=0.944, train_f1_score=0.944, val_loss=0.364, val_accuracy=0.907, val_f1_score=0.907]\n",
      "Epoch 80:  97%|█████████▋| 248/255 [01:36<00:02,  2.58it/s, loss=0.0856, v_num=4, train_loss=0.191, train_accuracy=0.944, train_f1_score=0.944, val_loss=0.364, val_accuracy=0.907, val_f1_score=0.907]\n",
      "Epoch 80:  98%|█████████▊| 250/255 [01:36<00:01,  2.60it/s, loss=0.0856, v_num=4, train_loss=0.191, train_accuracy=0.944, train_f1_score=0.944, val_loss=0.364, val_accuracy=0.907, val_f1_score=0.907]\n",
      "Epoch 80:  99%|█████████▉| 252/255 [01:36<00:01,  2.61it/s, loss=0.0856, v_num=4, train_loss=0.191, train_accuracy=0.944, train_f1_score=0.944, val_loss=0.364, val_accuracy=0.907, val_f1_score=0.907]\n",
      "Epoch 80: 100%|█████████▉| 254/255 [01:36<00:00,  2.63it/s, loss=0.0856, v_num=4, train_loss=0.191, train_accuracy=0.944, train_f1_score=0.944, val_loss=0.364, val_accuracy=0.907, val_f1_score=0.907]\n",
      "Epoch 80: 100%|██████████| 255/255 [01:37<00:00,  2.61it/s, loss=0.0856, v_num=4, train_loss=0.191, train_accuracy=0.944, train_f1_score=0.944, val_loss=0.399, val_accuracy=0.908, val_f1_score=0.908]\n",
      "Epoch 80: 100%|██████████| 255/255 [01:37<00:00,  2.61it/s, loss=0.0856, v_num=4, train_loss=0.191, train_accuracy=0.944, train_f1_score=0.944, val_loss=0.399, val_accuracy=0.908, val_f1_score=0.908]"
     ]
    },
    {
     "name": "stderr",
     "output_type": "stream",
     "text": [
      "Epoch 80, global step 18305: val_loss was not in top 2\n"
     ]
    },
    {
     "name": "stdout",
     "output_type": "stream",
     "text": [
      "Epoch 81:  89%|████████▊ | 226/255 [01:26<00:11,  2.60it/s, loss=0.0766, v_num=4, train_loss=0.0444, train_accuracy=1.000, train_f1_score=1.000, val_loss=0.399, val_accuracy=0.908, val_f1_score=0.908]\n",
      "Validating: 0it [00:00, ?it/s]\u001b[A\n",
      "Validating:   0%|          | 0/29 [00:00<?, ?it/s]\u001b[A\n",
      "Epoch 81:  89%|████████▉ | 228/255 [01:34<00:11,  2.41it/s, loss=0.0766, v_num=4, train_loss=0.0444, train_accuracy=1.000, train_f1_score=1.000, val_loss=0.399, val_accuracy=0.908, val_f1_score=0.908]\n",
      "Epoch 81:  90%|█████████ | 230/255 [01:34<00:10,  2.43it/s, loss=0.0766, v_num=4, train_loss=0.0444, train_accuracy=1.000, train_f1_score=1.000, val_loss=0.399, val_accuracy=0.908, val_f1_score=0.908]\n",
      "Epoch 81:  91%|█████████ | 232/255 [01:34<00:09,  2.45it/s, loss=0.0766, v_num=4, train_loss=0.0444, train_accuracy=1.000, train_f1_score=1.000, val_loss=0.399, val_accuracy=0.908, val_f1_score=0.908]\n",
      "Epoch 81:  92%|█████████▏| 234/255 [01:35<00:08,  2.46it/s, loss=0.0766, v_num=4, train_loss=0.0444, train_accuracy=1.000, train_f1_score=1.000, val_loss=0.399, val_accuracy=0.908, val_f1_score=0.908]\n",
      "Epoch 81:  93%|█████████▎| 236/255 [01:35<00:07,  2.48it/s, loss=0.0766, v_num=4, train_loss=0.0444, train_accuracy=1.000, train_f1_score=1.000, val_loss=0.399, val_accuracy=0.908, val_f1_score=0.908]\n",
      "Epoch 81:  93%|█████████▎| 238/255 [01:35<00:06,  2.50it/s, loss=0.0766, v_num=4, train_loss=0.0444, train_accuracy=1.000, train_f1_score=1.000, val_loss=0.399, val_accuracy=0.908, val_f1_score=0.908]\n",
      "Epoch 81:  94%|█████████▍| 240/255 [01:35<00:05,  2.51it/s, loss=0.0766, v_num=4, train_loss=0.0444, train_accuracy=1.000, train_f1_score=1.000, val_loss=0.399, val_accuracy=0.908, val_f1_score=0.908]\n",
      "Epoch 81:  95%|█████████▍| 242/255 [01:35<00:05,  2.53it/s, loss=0.0766, v_num=4, train_loss=0.0444, train_accuracy=1.000, train_f1_score=1.000, val_loss=0.399, val_accuracy=0.908, val_f1_score=0.908]\n",
      "Epoch 81:  96%|█████████▌| 244/255 [01:35<00:04,  2.54it/s, loss=0.0766, v_num=4, train_loss=0.0444, train_accuracy=1.000, train_f1_score=1.000, val_loss=0.399, val_accuracy=0.908, val_f1_score=0.908]\n",
      "Epoch 81:  96%|█████████▋| 246/255 [01:36<00:03,  2.56it/s, loss=0.0766, v_num=4, train_loss=0.0444, train_accuracy=1.000, train_f1_score=1.000, val_loss=0.399, val_accuracy=0.908, val_f1_score=0.908]\n",
      "Epoch 81:  97%|█████████▋| 248/255 [01:36<00:02,  2.58it/s, loss=0.0766, v_num=4, train_loss=0.0444, train_accuracy=1.000, train_f1_score=1.000, val_loss=0.399, val_accuracy=0.908, val_f1_score=0.908]\n",
      "Epoch 81:  98%|█████████▊| 250/255 [01:36<00:01,  2.59it/s, loss=0.0766, v_num=4, train_loss=0.0444, train_accuracy=1.000, train_f1_score=1.000, val_loss=0.399, val_accuracy=0.908, val_f1_score=0.908]\n",
      "Epoch 81:  99%|█████████▉| 252/255 [01:36<00:01,  2.61it/s, loss=0.0766, v_num=4, train_loss=0.0444, train_accuracy=1.000, train_f1_score=1.000, val_loss=0.399, val_accuracy=0.908, val_f1_score=0.908]\n",
      "Epoch 81: 100%|█████████▉| 254/255 [01:36<00:00,  2.63it/s, loss=0.0766, v_num=4, train_loss=0.0444, train_accuracy=1.000, train_f1_score=1.000, val_loss=0.399, val_accuracy=0.908, val_f1_score=0.908]\n",
      "Epoch 81: 100%|██████████| 255/255 [01:37<00:00,  2.60it/s, loss=0.0766, v_num=4, train_loss=0.0444, train_accuracy=1.000, train_f1_score=1.000, val_loss=0.287, val_accuracy=0.911, val_f1_score=0.911]\n",
      "Epoch 81: 100%|██████████| 255/255 [01:37<00:00,  2.60it/s, loss=0.0766, v_num=4, train_loss=0.0444, train_accuracy=1.000, train_f1_score=1.000, val_loss=0.287, val_accuracy=0.911, val_f1_score=0.911]"
     ]
    },
    {
     "name": "stderr",
     "output_type": "stream",
     "text": [
      "Epoch 81, global step 18531: val_loss was not in top 2\n"
     ]
    },
    {
     "name": "stdout",
     "output_type": "stream",
     "text": [
      "Epoch 82:  89%|████████▊ | 226/255 [01:26<00:11,  2.60it/s, loss=0.0945, v_num=4, train_loss=0.0384, train_accuracy=1.000, train_f1_score=1.000, val_loss=0.287, val_accuracy=0.911, val_f1_score=0.911] \n",
      "Validating: 0it [00:00, ?it/s]\u001b[A\n",
      "Validating:   0%|          | 0/29 [00:00<?, ?it/s]\u001b[A\n",
      "Epoch 82:  89%|████████▉ | 228/255 [01:34<00:11,  2.41it/s, loss=0.0945, v_num=4, train_loss=0.0384, train_accuracy=1.000, train_f1_score=1.000, val_loss=0.287, val_accuracy=0.911, val_f1_score=0.911]\n",
      "Epoch 82:  90%|█████████ | 230/255 [01:34<00:10,  2.43it/s, loss=0.0945, v_num=4, train_loss=0.0384, train_accuracy=1.000, train_f1_score=1.000, val_loss=0.287, val_accuracy=0.911, val_f1_score=0.911]\n",
      "Epoch 82:  91%|█████████ | 232/255 [01:35<00:09,  2.44it/s, loss=0.0945, v_num=4, train_loss=0.0384, train_accuracy=1.000, train_f1_score=1.000, val_loss=0.287, val_accuracy=0.911, val_f1_score=0.911]\n",
      "Epoch 82:  92%|█████████▏| 234/255 [01:35<00:08,  2.46it/s, loss=0.0945, v_num=4, train_loss=0.0384, train_accuracy=1.000, train_f1_score=1.000, val_loss=0.287, val_accuracy=0.911, val_f1_score=0.911]\n",
      "Epoch 82:  93%|█████████▎| 236/255 [01:35<00:07,  2.47it/s, loss=0.0945, v_num=4, train_loss=0.0384, train_accuracy=1.000, train_f1_score=1.000, val_loss=0.287, val_accuracy=0.911, val_f1_score=0.911]\n",
      "Epoch 82:  93%|█████████▎| 238/255 [01:35<00:06,  2.49it/s, loss=0.0945, v_num=4, train_loss=0.0384, train_accuracy=1.000, train_f1_score=1.000, val_loss=0.287, val_accuracy=0.911, val_f1_score=0.911]\n",
      "Epoch 82:  94%|█████████▍| 240/255 [01:35<00:05,  2.51it/s, loss=0.0945, v_num=4, train_loss=0.0384, train_accuracy=1.000, train_f1_score=1.000, val_loss=0.287, val_accuracy=0.911, val_f1_score=0.911]\n",
      "Epoch 82:  95%|█████████▍| 242/255 [01:35<00:05,  2.52it/s, loss=0.0945, v_num=4, train_loss=0.0384, train_accuracy=1.000, train_f1_score=1.000, val_loss=0.287, val_accuracy=0.911, val_f1_score=0.911]\n",
      "Epoch 82:  96%|█████████▌| 244/255 [01:36<00:04,  2.54it/s, loss=0.0945, v_num=4, train_loss=0.0384, train_accuracy=1.000, train_f1_score=1.000, val_loss=0.287, val_accuracy=0.911, val_f1_score=0.911]\n",
      "Epoch 82:  96%|█████████▋| 246/255 [01:36<00:03,  2.56it/s, loss=0.0945, v_num=4, train_loss=0.0384, train_accuracy=1.000, train_f1_score=1.000, val_loss=0.287, val_accuracy=0.911, val_f1_score=0.911]\n",
      "Epoch 82:  97%|█████████▋| 248/255 [01:36<00:02,  2.57it/s, loss=0.0945, v_num=4, train_loss=0.0384, train_accuracy=1.000, train_f1_score=1.000, val_loss=0.287, val_accuracy=0.911, val_f1_score=0.911]\n",
      "Epoch 82:  98%|█████████▊| 250/255 [01:36<00:01,  2.59it/s, loss=0.0945, v_num=4, train_loss=0.0384, train_accuracy=1.000, train_f1_score=1.000, val_loss=0.287, val_accuracy=0.911, val_f1_score=0.911]\n",
      "Epoch 82:  99%|█████████▉| 252/255 [01:36<00:01,  2.60it/s, loss=0.0945, v_num=4, train_loss=0.0384, train_accuracy=1.000, train_f1_score=1.000, val_loss=0.287, val_accuracy=0.911, val_f1_score=0.911]\n",
      "Epoch 82: 100%|█████████▉| 254/255 [01:36<00:00,  2.62it/s, loss=0.0945, v_num=4, train_loss=0.0384, train_accuracy=1.000, train_f1_score=1.000, val_loss=0.287, val_accuracy=0.911, val_f1_score=0.911]\n",
      "Epoch 82: 100%|██████████| 255/255 [01:38<00:00,  2.60it/s, loss=0.0945, v_num=4, train_loss=0.0384, train_accuracy=1.000, train_f1_score=1.000, val_loss=0.265, val_accuracy=0.911, val_f1_score=0.911]\n",
      "Epoch 82: 100%|██████████| 255/255 [01:38<00:00,  2.60it/s, loss=0.0945, v_num=4, train_loss=0.0384, train_accuracy=1.000, train_f1_score=1.000, val_loss=0.265, val_accuracy=0.911, val_f1_score=0.911]"
     ]
    },
    {
     "name": "stderr",
     "output_type": "stream",
     "text": [
      "Epoch 82, global step 18757: val_loss reached 0.26490 (best 0.26490), saving model to \"/Workspace/code/checkpoints/best-checkpoint-corr-mi-0-v3.ckpt\" as top 2\n"
     ]
    },
    {
     "name": "stdout",
     "output_type": "stream",
     "text": [
      "Epoch 83:  89%|████████▊ | 226/255 [01:26<00:11,  2.61it/s, loss=0.0936, v_num=4, train_loss=0.0604, train_accuracy=0.944, train_f1_score=0.944, val_loss=0.265, val_accuracy=0.911, val_f1_score=0.911]\n",
      "Validating: 0it [00:00, ?it/s]\u001b[A\n",
      "Validating:   0%|          | 0/29 [00:00<?, ?it/s]\u001b[A\n",
      "Epoch 83:  89%|████████▉ | 228/255 [01:34<00:11,  2.42it/s, loss=0.0936, v_num=4, train_loss=0.0604, train_accuracy=0.944, train_f1_score=0.944, val_loss=0.265, val_accuracy=0.911, val_f1_score=0.911]\n",
      "Epoch 83:  90%|█████████ | 230/255 [01:34<00:10,  2.44it/s, loss=0.0936, v_num=4, train_loss=0.0604, train_accuracy=0.944, train_f1_score=0.944, val_loss=0.265, val_accuracy=0.911, val_f1_score=0.911]\n",
      "Epoch 83:  91%|█████████ | 232/255 [01:34<00:09,  2.45it/s, loss=0.0936, v_num=4, train_loss=0.0604, train_accuracy=0.944, train_f1_score=0.944, val_loss=0.265, val_accuracy=0.911, val_f1_score=0.911]\n",
      "Epoch 83:  92%|█████████▏| 234/255 [01:34<00:08,  2.47it/s, loss=0.0936, v_num=4, train_loss=0.0604, train_accuracy=0.944, train_f1_score=0.944, val_loss=0.265, val_accuracy=0.911, val_f1_score=0.911]\n",
      "Epoch 83:  93%|█████████▎| 236/255 [01:34<00:07,  2.49it/s, loss=0.0936, v_num=4, train_loss=0.0604, train_accuracy=0.944, train_f1_score=0.944, val_loss=0.265, val_accuracy=0.911, val_f1_score=0.911]\n",
      "Epoch 83:  93%|█████████▎| 238/255 [01:35<00:06,  2.50it/s, loss=0.0936, v_num=4, train_loss=0.0604, train_accuracy=0.944, train_f1_score=0.944, val_loss=0.265, val_accuracy=0.911, val_f1_score=0.911]\n",
      "Epoch 83:  94%|█████████▍| 240/255 [01:35<00:05,  2.52it/s, loss=0.0936, v_num=4, train_loss=0.0604, train_accuracy=0.944, train_f1_score=0.944, val_loss=0.265, val_accuracy=0.911, val_f1_score=0.911]\n",
      "Epoch 83:  95%|█████████▍| 242/255 [01:35<00:05,  2.54it/s, loss=0.0936, v_num=4, train_loss=0.0604, train_accuracy=0.944, train_f1_score=0.944, val_loss=0.265, val_accuracy=0.911, val_f1_score=0.911]\n",
      "Epoch 83:  96%|█████████▌| 244/255 [01:35<00:04,  2.55it/s, loss=0.0936, v_num=4, train_loss=0.0604, train_accuracy=0.944, train_f1_score=0.944, val_loss=0.265, val_accuracy=0.911, val_f1_score=0.911]\n",
      "Epoch 83:  96%|█████████▋| 246/255 [01:35<00:03,  2.57it/s, loss=0.0936, v_num=4, train_loss=0.0604, train_accuracy=0.944, train_f1_score=0.944, val_loss=0.265, val_accuracy=0.911, val_f1_score=0.911]\n",
      "Epoch 83:  97%|█████████▋| 248/255 [01:35<00:02,  2.59it/s, loss=0.0936, v_num=4, train_loss=0.0604, train_accuracy=0.944, train_f1_score=0.944, val_loss=0.265, val_accuracy=0.911, val_f1_score=0.911]\n",
      "Epoch 83:  98%|█████████▊| 250/255 [01:36<00:01,  2.60it/s, loss=0.0936, v_num=4, train_loss=0.0604, train_accuracy=0.944, train_f1_score=0.944, val_loss=0.265, val_accuracy=0.911, val_f1_score=0.911]\n",
      "Epoch 83:  99%|█████████▉| 252/255 [01:36<00:01,  2.62it/s, loss=0.0936, v_num=4, train_loss=0.0604, train_accuracy=0.944, train_f1_score=0.944, val_loss=0.265, val_accuracy=0.911, val_f1_score=0.911]\n",
      "Epoch 83: 100%|█████████▉| 254/255 [01:36<00:00,  2.63it/s, loss=0.0936, v_num=4, train_loss=0.0604, train_accuracy=0.944, train_f1_score=0.944, val_loss=0.265, val_accuracy=0.911, val_f1_score=0.911]\n",
      "Epoch 83: 100%|██████████| 255/255 [01:37<00:00,  2.62it/s, loss=0.0936, v_num=4, train_loss=0.0604, train_accuracy=0.944, train_f1_score=0.944, val_loss=0.273, val_accuracy=0.916, val_f1_score=0.916]\n",
      "Epoch 83: 100%|██████████| 255/255 [01:37<00:00,  2.62it/s, loss=0.0936, v_num=4, train_loss=0.0604, train_accuracy=0.944, train_f1_score=0.944, val_loss=0.273, val_accuracy=0.916, val_f1_score=0.916]"
     ]
    },
    {
     "name": "stderr",
     "output_type": "stream",
     "text": [
      "Epoch 83, global step 18983: val_loss was not in top 2\n"
     ]
    },
    {
     "name": "stdout",
     "output_type": "stream",
     "text": [
      "Epoch 84:  89%|████████▊ | 226/255 [01:26<00:11,  2.61it/s, loss=0.074, v_num=4, train_loss=0.0719, train_accuracy=1.000, train_f1_score=1.000, val_loss=0.273, val_accuracy=0.916, val_f1_score=0.916]  \n",
      "Validating: 0it [00:00, ?it/s]\u001b[A\n",
      "Validating:   0%|          | 0/29 [00:00<?, ?it/s]\u001b[A\n",
      "Epoch 84:  89%|████████▉ | 228/255 [01:34<00:11,  2.42it/s, loss=0.074, v_num=4, train_loss=0.0719, train_accuracy=1.000, train_f1_score=1.000, val_loss=0.273, val_accuracy=0.916, val_f1_score=0.916]\n",
      "Epoch 84:  90%|█████████ | 230/255 [01:34<00:10,  2.44it/s, loss=0.074, v_num=4, train_loss=0.0719, train_accuracy=1.000, train_f1_score=1.000, val_loss=0.273, val_accuracy=0.916, val_f1_score=0.916]\n",
      "Epoch 84:  91%|█████████ | 232/255 [01:34<00:09,  2.45it/s, loss=0.074, v_num=4, train_loss=0.0719, train_accuracy=1.000, train_f1_score=1.000, val_loss=0.273, val_accuracy=0.916, val_f1_score=0.916]\n",
      "Epoch 84:  92%|█████████▏| 234/255 [01:34<00:08,  2.47it/s, loss=0.074, v_num=4, train_loss=0.0719, train_accuracy=1.000, train_f1_score=1.000, val_loss=0.273, val_accuracy=0.916, val_f1_score=0.916]\n",
      "Epoch 84:  93%|█████████▎| 236/255 [01:34<00:07,  2.49it/s, loss=0.074, v_num=4, train_loss=0.0719, train_accuracy=1.000, train_f1_score=1.000, val_loss=0.273, val_accuracy=0.916, val_f1_score=0.916]\n",
      "Epoch 84:  93%|█████████▎| 238/255 [01:35<00:06,  2.50it/s, loss=0.074, v_num=4, train_loss=0.0719, train_accuracy=1.000, train_f1_score=1.000, val_loss=0.273, val_accuracy=0.916, val_f1_score=0.916]\n",
      "Epoch 84:  94%|█████████▍| 240/255 [01:35<00:05,  2.52it/s, loss=0.074, v_num=4, train_loss=0.0719, train_accuracy=1.000, train_f1_score=1.000, val_loss=0.273, val_accuracy=0.916, val_f1_score=0.916]\n",
      "Epoch 84:  95%|█████████▍| 242/255 [01:35<00:05,  2.54it/s, loss=0.074, v_num=4, train_loss=0.0719, train_accuracy=1.000, train_f1_score=1.000, val_loss=0.273, val_accuracy=0.916, val_f1_score=0.916]\n",
      "Epoch 84:  96%|█████████▌| 244/255 [01:35<00:04,  2.55it/s, loss=0.074, v_num=4, train_loss=0.0719, train_accuracy=1.000, train_f1_score=1.000, val_loss=0.273, val_accuracy=0.916, val_f1_score=0.916]\n",
      "Epoch 84:  96%|█████████▋| 246/255 [01:35<00:03,  2.57it/s, loss=0.074, v_num=4, train_loss=0.0719, train_accuracy=1.000, train_f1_score=1.000, val_loss=0.273, val_accuracy=0.916, val_f1_score=0.916]\n",
      "Epoch 84:  97%|█████████▋| 248/255 [01:35<00:02,  2.58it/s, loss=0.074, v_num=4, train_loss=0.0719, train_accuracy=1.000, train_f1_score=1.000, val_loss=0.273, val_accuracy=0.916, val_f1_score=0.916]\n",
      "Epoch 84:  98%|█████████▊| 250/255 [01:36<00:01,  2.60it/s, loss=0.074, v_num=4, train_loss=0.0719, train_accuracy=1.000, train_f1_score=1.000, val_loss=0.273, val_accuracy=0.916, val_f1_score=0.916]\n",
      "Epoch 84:  99%|█████████▉| 252/255 [01:36<00:01,  2.62it/s, loss=0.074, v_num=4, train_loss=0.0719, train_accuracy=1.000, train_f1_score=1.000, val_loss=0.273, val_accuracy=0.916, val_f1_score=0.916]\n",
      "Epoch 84: 100%|█████████▉| 254/255 [01:36<00:00,  2.63it/s, loss=0.074, v_num=4, train_loss=0.0719, train_accuracy=1.000, train_f1_score=1.000, val_loss=0.273, val_accuracy=0.916, val_f1_score=0.916]\n",
      "Epoch 84: 100%|██████████| 255/255 [01:37<00:00,  2.61it/s, loss=0.074, v_num=4, train_loss=0.0719, train_accuracy=1.000, train_f1_score=1.000, val_loss=0.330, val_accuracy=0.899, val_f1_score=0.899]\n",
      "Epoch 84: 100%|██████████| 255/255 [01:37<00:00,  2.61it/s, loss=0.074, v_num=4, train_loss=0.0719, train_accuracy=1.000, train_f1_score=1.000, val_loss=0.330, val_accuracy=0.899, val_f1_score=0.899]"
     ]
    },
    {
     "name": "stderr",
     "output_type": "stream",
     "text": [
      "Epoch 84, global step 19209: val_loss was not in top 2\n"
     ]
    },
    {
     "name": "stdout",
     "output_type": "stream",
     "text": [
      "Epoch 85:  89%|████████▊ | 226/255 [01:26<00:11,  2.61it/s, loss=0.0439, v_num=4, train_loss=0.0781, train_accuracy=0.944, train_f1_score=0.944, val_loss=0.330, val_accuracy=0.899, val_f1_score=0.899] \n",
      "Validating: 0it [00:00, ?it/s]\u001b[A\n",
      "Validating:   0%|          | 0/29 [00:00<?, ?it/s]\u001b[A\n",
      "Epoch 85:  89%|████████▉ | 228/255 [01:34<00:11,  2.42it/s, loss=0.0439, v_num=4, train_loss=0.0781, train_accuracy=0.944, train_f1_score=0.944, val_loss=0.330, val_accuracy=0.899, val_f1_score=0.899]\n",
      "Epoch 85:  90%|█████████ | 230/255 [01:34<00:10,  2.44it/s, loss=0.0439, v_num=4, train_loss=0.0781, train_accuracy=0.944, train_f1_score=0.944, val_loss=0.330, val_accuracy=0.899, val_f1_score=0.899]\n",
      "Epoch 85:  91%|█████████ | 232/255 [01:34<00:09,  2.45it/s, loss=0.0439, v_num=4, train_loss=0.0781, train_accuracy=0.944, train_f1_score=0.944, val_loss=0.330, val_accuracy=0.899, val_f1_score=0.899]\n",
      "Epoch 85:  92%|█████████▏| 234/255 [01:34<00:08,  2.47it/s, loss=0.0439, v_num=4, train_loss=0.0781, train_accuracy=0.944, train_f1_score=0.944, val_loss=0.330, val_accuracy=0.899, val_f1_score=0.899]\n",
      "Epoch 85:  93%|█████████▎| 236/255 [01:34<00:07,  2.49it/s, loss=0.0439, v_num=4, train_loss=0.0781, train_accuracy=0.944, train_f1_score=0.944, val_loss=0.330, val_accuracy=0.899, val_f1_score=0.899]\n",
      "Epoch 85:  93%|█████████▎| 238/255 [01:35<00:06,  2.50it/s, loss=0.0439, v_num=4, train_loss=0.0781, train_accuracy=0.944, train_f1_score=0.944, val_loss=0.330, val_accuracy=0.899, val_f1_score=0.899]\n",
      "Epoch 85:  94%|█████████▍| 240/255 [01:35<00:05,  2.52it/s, loss=0.0439, v_num=4, train_loss=0.0781, train_accuracy=0.944, train_f1_score=0.944, val_loss=0.330, val_accuracy=0.899, val_f1_score=0.899]\n",
      "Epoch 85:  95%|█████████▍| 242/255 [01:35<00:05,  2.53it/s, loss=0.0439, v_num=4, train_loss=0.0781, train_accuracy=0.944, train_f1_score=0.944, val_loss=0.330, val_accuracy=0.899, val_f1_score=0.899]\n",
      "Epoch 85:  96%|█████████▌| 244/255 [01:35<00:04,  2.55it/s, loss=0.0439, v_num=4, train_loss=0.0781, train_accuracy=0.944, train_f1_score=0.944, val_loss=0.330, val_accuracy=0.899, val_f1_score=0.899]\n",
      "Epoch 85:  96%|█████████▋| 246/255 [01:35<00:03,  2.57it/s, loss=0.0439, v_num=4, train_loss=0.0781, train_accuracy=0.944, train_f1_score=0.944, val_loss=0.330, val_accuracy=0.899, val_f1_score=0.899]\n",
      "Epoch 85:  97%|█████████▋| 248/255 [01:36<00:02,  2.58it/s, loss=0.0439, v_num=4, train_loss=0.0781, train_accuracy=0.944, train_f1_score=0.944, val_loss=0.330, val_accuracy=0.899, val_f1_score=0.899]\n",
      "Epoch 85:  98%|█████████▊| 250/255 [01:36<00:01,  2.60it/s, loss=0.0439, v_num=4, train_loss=0.0781, train_accuracy=0.944, train_f1_score=0.944, val_loss=0.330, val_accuracy=0.899, val_f1_score=0.899]\n",
      "Epoch 85:  99%|█████████▉| 252/255 [01:36<00:01,  2.61it/s, loss=0.0439, v_num=4, train_loss=0.0781, train_accuracy=0.944, train_f1_score=0.944, val_loss=0.330, val_accuracy=0.899, val_f1_score=0.899]\n",
      "Epoch 85: 100%|█████████▉| 254/255 [01:36<00:00,  2.63it/s, loss=0.0439, v_num=4, train_loss=0.0781, train_accuracy=0.944, train_f1_score=0.944, val_loss=0.330, val_accuracy=0.899, val_f1_score=0.899]\n",
      "Epoch 85: 100%|██████████| 255/255 [01:37<00:00,  2.61it/s, loss=0.0439, v_num=4, train_loss=0.0781, train_accuracy=0.944, train_f1_score=0.944, val_loss=0.306, val_accuracy=0.918, val_f1_score=0.918]\n",
      "Epoch 85: 100%|██████████| 255/255 [01:37<00:00,  2.61it/s, loss=0.0439, v_num=4, train_loss=0.0781, train_accuracy=0.944, train_f1_score=0.944, val_loss=0.306, val_accuracy=0.918, val_f1_score=0.918]"
     ]
    },
    {
     "name": "stderr",
     "output_type": "stream",
     "text": [
      "Epoch 85, global step 19435: val_loss was not in top 2\n"
     ]
    },
    {
     "name": "stdout",
     "output_type": "stream",
     "text": [
      "Epoch 86:  89%|████████▊ | 226/255 [01:26<00:11,  2.61it/s, loss=0.073, v_num=4, train_loss=0.050, train_accuracy=0.944, train_f1_score=0.944, val_loss=0.306, val_accuracy=0.918, val_f1_score=0.918]   \n",
      "Validating: 0it [00:00, ?it/s]\u001b[A\n",
      "Validating:   0%|          | 0/29 [00:00<?, ?it/s]\u001b[A\n",
      "Epoch 86:  89%|████████▉ | 228/255 [01:34<00:11,  2.42it/s, loss=0.073, v_num=4, train_loss=0.050, train_accuracy=0.944, train_f1_score=0.944, val_loss=0.306, val_accuracy=0.918, val_f1_score=0.918]\n",
      "Epoch 86:  90%|█████████ | 230/255 [01:34<00:10,  2.44it/s, loss=0.073, v_num=4, train_loss=0.050, train_accuracy=0.944, train_f1_score=0.944, val_loss=0.306, val_accuracy=0.918, val_f1_score=0.918]\n",
      "Epoch 86:  91%|█████████ | 232/255 [01:34<00:09,  2.45it/s, loss=0.073, v_num=4, train_loss=0.050, train_accuracy=0.944, train_f1_score=0.944, val_loss=0.306, val_accuracy=0.918, val_f1_score=0.918]\n",
      "Epoch 86:  92%|█████████▏| 234/255 [01:34<00:08,  2.47it/s, loss=0.073, v_num=4, train_loss=0.050, train_accuracy=0.944, train_f1_score=0.944, val_loss=0.306, val_accuracy=0.918, val_f1_score=0.918]\n",
      "Epoch 86:  93%|█████████▎| 236/255 [01:34<00:07,  2.48it/s, loss=0.073, v_num=4, train_loss=0.050, train_accuracy=0.944, train_f1_score=0.944, val_loss=0.306, val_accuracy=0.918, val_f1_score=0.918]\n",
      "Epoch 86:  93%|█████████▎| 238/255 [01:35<00:06,  2.50it/s, loss=0.073, v_num=4, train_loss=0.050, train_accuracy=0.944, train_f1_score=0.944, val_loss=0.306, val_accuracy=0.918, val_f1_score=0.918]\n",
      "Epoch 86:  94%|█████████▍| 240/255 [01:35<00:05,  2.52it/s, loss=0.073, v_num=4, train_loss=0.050, train_accuracy=0.944, train_f1_score=0.944, val_loss=0.306, val_accuracy=0.918, val_f1_score=0.918]\n",
      "Epoch 86:  95%|█████████▍| 242/255 [01:35<00:05,  2.53it/s, loss=0.073, v_num=4, train_loss=0.050, train_accuracy=0.944, train_f1_score=0.944, val_loss=0.306, val_accuracy=0.918, val_f1_score=0.918]\n",
      "Epoch 86:  96%|█████████▌| 244/255 [01:35<00:04,  2.55it/s, loss=0.073, v_num=4, train_loss=0.050, train_accuracy=0.944, train_f1_score=0.944, val_loss=0.306, val_accuracy=0.918, val_f1_score=0.918]\n",
      "Epoch 86:  96%|█████████▋| 246/255 [01:35<00:03,  2.57it/s, loss=0.073, v_num=4, train_loss=0.050, train_accuracy=0.944, train_f1_score=0.944, val_loss=0.306, val_accuracy=0.918, val_f1_score=0.918]\n",
      "Epoch 86:  97%|█████████▋| 248/255 [01:36<00:02,  2.58it/s, loss=0.073, v_num=4, train_loss=0.050, train_accuracy=0.944, train_f1_score=0.944, val_loss=0.306, val_accuracy=0.918, val_f1_score=0.918]\n",
      "Epoch 86:  98%|█████████▊| 250/255 [01:36<00:01,  2.60it/s, loss=0.073, v_num=4, train_loss=0.050, train_accuracy=0.944, train_f1_score=0.944, val_loss=0.306, val_accuracy=0.918, val_f1_score=0.918]\n",
      "Epoch 86:  99%|█████████▉| 252/255 [01:36<00:01,  2.62it/s, loss=0.073, v_num=4, train_loss=0.050, train_accuracy=0.944, train_f1_score=0.944, val_loss=0.306, val_accuracy=0.918, val_f1_score=0.918]\n",
      "Epoch 86: 100%|█████████▉| 254/255 [01:36<00:00,  2.63it/s, loss=0.073, v_num=4, train_loss=0.050, train_accuracy=0.944, train_f1_score=0.944, val_loss=0.306, val_accuracy=0.918, val_f1_score=0.918]\n",
      "Epoch 86: 100%|██████████| 255/255 [01:37<00:00,  2.61it/s, loss=0.073, v_num=4, train_loss=0.050, train_accuracy=0.944, train_f1_score=0.944, val_loss=0.294, val_accuracy=0.919, val_f1_score=0.919]\n",
      "Epoch 86: 100%|██████████| 255/255 [01:37<00:00,  2.61it/s, loss=0.073, v_num=4, train_loss=0.050, train_accuracy=0.944, train_f1_score=0.944, val_loss=0.294, val_accuracy=0.919, val_f1_score=0.919]"
     ]
    },
    {
     "name": "stderr",
     "output_type": "stream",
     "text": [
      "Epoch 86, global step 19661: val_loss was not in top 2\n"
     ]
    },
    {
     "name": "stdout",
     "output_type": "stream",
     "text": [
      "Epoch 87:  89%|████████▊ | 226/255 [01:26<00:11,  2.60it/s, loss=0.0602, v_num=4, train_loss=0.00192, train_accuracy=1.000, train_f1_score=1.000, val_loss=0.294, val_accuracy=0.919, val_f1_score=0.919]\n",
      "Validating: 0it [00:00, ?it/s]\u001b[A\n",
      "Validating:   0%|          | 0/29 [00:00<?, ?it/s]\u001b[A\n",
      "Epoch 87:  89%|████████▉ | 228/255 [01:34<00:11,  2.41it/s, loss=0.0602, v_num=4, train_loss=0.00192, train_accuracy=1.000, train_f1_score=1.000, val_loss=0.294, val_accuracy=0.919, val_f1_score=0.919]\n",
      "Epoch 87:  90%|█████████ | 230/255 [01:34<00:10,  2.42it/s, loss=0.0602, v_num=4, train_loss=0.00192, train_accuracy=1.000, train_f1_score=1.000, val_loss=0.294, val_accuracy=0.919, val_f1_score=0.919]\n",
      "Epoch 87:  91%|█████████ | 232/255 [01:35<00:09,  2.44it/s, loss=0.0602, v_num=4, train_loss=0.00192, train_accuracy=1.000, train_f1_score=1.000, val_loss=0.294, val_accuracy=0.919, val_f1_score=0.919]\n",
      "Epoch 87:  92%|█████████▏| 234/255 [01:35<00:08,  2.46it/s, loss=0.0602, v_num=4, train_loss=0.00192, train_accuracy=1.000, train_f1_score=1.000, val_loss=0.294, val_accuracy=0.919, val_f1_score=0.919]\n",
      "Epoch 87:  93%|█████████▎| 236/255 [01:35<00:07,  2.47it/s, loss=0.0602, v_num=4, train_loss=0.00192, train_accuracy=1.000, train_f1_score=1.000, val_loss=0.294, val_accuracy=0.919, val_f1_score=0.919]\n",
      "Epoch 87:  93%|█████████▎| 238/255 [01:35<00:06,  2.49it/s, loss=0.0602, v_num=4, train_loss=0.00192, train_accuracy=1.000, train_f1_score=1.000, val_loss=0.294, val_accuracy=0.919, val_f1_score=0.919]\n",
      "Epoch 87:  94%|█████████▍| 240/255 [01:35<00:05,  2.50it/s, loss=0.0602, v_num=4, train_loss=0.00192, train_accuracy=1.000, train_f1_score=1.000, val_loss=0.294, val_accuracy=0.919, val_f1_score=0.919]\n",
      "Epoch 87:  95%|█████████▍| 242/255 [01:35<00:05,  2.52it/s, loss=0.0602, v_num=4, train_loss=0.00192, train_accuracy=1.000, train_f1_score=1.000, val_loss=0.294, val_accuracy=0.919, val_f1_score=0.919]\n",
      "Epoch 87:  96%|█████████▌| 244/255 [01:36<00:04,  2.54it/s, loss=0.0602, v_num=4, train_loss=0.00192, train_accuracy=1.000, train_f1_score=1.000, val_loss=0.294, val_accuracy=0.919, val_f1_score=0.919]\n",
      "Epoch 87:  96%|█████████▋| 246/255 [01:36<00:03,  2.55it/s, loss=0.0602, v_num=4, train_loss=0.00192, train_accuracy=1.000, train_f1_score=1.000, val_loss=0.294, val_accuracy=0.919, val_f1_score=0.919]\n",
      "Epoch 87:  97%|█████████▋| 248/255 [01:36<00:02,  2.57it/s, loss=0.0602, v_num=4, train_loss=0.00192, train_accuracy=1.000, train_f1_score=1.000, val_loss=0.294, val_accuracy=0.919, val_f1_score=0.919]\n",
      "Epoch 87:  98%|█████████▊| 250/255 [01:36<00:01,  2.59it/s, loss=0.0602, v_num=4, train_loss=0.00192, train_accuracy=1.000, train_f1_score=1.000, val_loss=0.294, val_accuracy=0.919, val_f1_score=0.919]\n",
      "Epoch 87:  99%|█████████▉| 252/255 [01:36<00:01,  2.60it/s, loss=0.0602, v_num=4, train_loss=0.00192, train_accuracy=1.000, train_f1_score=1.000, val_loss=0.294, val_accuracy=0.919, val_f1_score=0.919]\n",
      "Epoch 87: 100%|█████████▉| 254/255 [01:37<00:00,  2.62it/s, loss=0.0602, v_num=4, train_loss=0.00192, train_accuracy=1.000, train_f1_score=1.000, val_loss=0.294, val_accuracy=0.919, val_f1_score=0.919]\n",
      "Epoch 87: 100%|██████████| 255/255 [01:38<00:00,  2.60it/s, loss=0.0602, v_num=4, train_loss=0.00192, train_accuracy=1.000, train_f1_score=1.000, val_loss=0.326, val_accuracy=0.914, val_f1_score=0.914]\n",
      "Epoch 87: 100%|██████████| 255/255 [01:38<00:00,  2.60it/s, loss=0.0602, v_num=4, train_loss=0.00192, train_accuracy=1.000, train_f1_score=1.000, val_loss=0.326, val_accuracy=0.914, val_f1_score=0.914]"
     ]
    },
    {
     "name": "stderr",
     "output_type": "stream",
     "text": [
      "Epoch 87, global step 19887: val_loss was not in top 2\n"
     ]
    },
    {
     "name": "stdout",
     "output_type": "stream",
     "text": [
      "Epoch 88:  89%|████████▊ | 226/255 [01:27<00:11,  2.59it/s, loss=0.0536, v_num=4, train_loss=0.0153, train_accuracy=1.000, train_f1_score=1.000, val_loss=0.326, val_accuracy=0.914, val_f1_score=0.914] \n",
      "Validating: 0it [00:00, ?it/s]\u001b[A\n",
      "Validating:   0%|          | 0/29 [00:00<?, ?it/s]\u001b[A\n",
      "Epoch 88:  89%|████████▉ | 228/255 [01:35<00:11,  2.40it/s, loss=0.0536, v_num=4, train_loss=0.0153, train_accuracy=1.000, train_f1_score=1.000, val_loss=0.326, val_accuracy=0.914, val_f1_score=0.914]\n",
      "Epoch 88:  90%|█████████ | 230/255 [01:35<00:10,  2.41it/s, loss=0.0536, v_num=4, train_loss=0.0153, train_accuracy=1.000, train_f1_score=1.000, val_loss=0.326, val_accuracy=0.914, val_f1_score=0.914]\n",
      "Epoch 88:  91%|█████████ | 232/255 [01:35<00:09,  2.43it/s, loss=0.0536, v_num=4, train_loss=0.0153, train_accuracy=1.000, train_f1_score=1.000, val_loss=0.326, val_accuracy=0.914, val_f1_score=0.914]\n",
      "Epoch 88:  92%|█████████▏| 234/255 [01:35<00:08,  2.45it/s, loss=0.0536, v_num=4, train_loss=0.0153, train_accuracy=1.000, train_f1_score=1.000, val_loss=0.326, val_accuracy=0.914, val_f1_score=0.914]\n",
      "Epoch 88:  93%|█████████▎| 236/255 [01:35<00:07,  2.46it/s, loss=0.0536, v_num=4, train_loss=0.0153, train_accuracy=1.000, train_f1_score=1.000, val_loss=0.326, val_accuracy=0.914, val_f1_score=0.914]\n",
      "Epoch 88:  93%|█████████▎| 238/255 [01:35<00:06,  2.48it/s, loss=0.0536, v_num=4, train_loss=0.0153, train_accuracy=1.000, train_f1_score=1.000, val_loss=0.326, val_accuracy=0.914, val_f1_score=0.914]\n",
      "Epoch 88:  94%|█████████▍| 240/255 [01:36<00:06,  2.50it/s, loss=0.0536, v_num=4, train_loss=0.0153, train_accuracy=1.000, train_f1_score=1.000, val_loss=0.326, val_accuracy=0.914, val_f1_score=0.914]\n",
      "Epoch 88:  95%|█████████▍| 242/255 [01:36<00:05,  2.51it/s, loss=0.0536, v_num=4, train_loss=0.0153, train_accuracy=1.000, train_f1_score=1.000, val_loss=0.326, val_accuracy=0.914, val_f1_score=0.914]\n",
      "Epoch 88:  96%|█████████▌| 244/255 [01:36<00:04,  2.53it/s, loss=0.0536, v_num=4, train_loss=0.0153, train_accuracy=1.000, train_f1_score=1.000, val_loss=0.326, val_accuracy=0.914, val_f1_score=0.914]\n",
      "Epoch 88:  96%|█████████▋| 246/255 [01:36<00:03,  2.55it/s, loss=0.0536, v_num=4, train_loss=0.0153, train_accuracy=1.000, train_f1_score=1.000, val_loss=0.326, val_accuracy=0.914, val_f1_score=0.914]\n",
      "Epoch 88:  97%|█████████▋| 248/255 [01:36<00:02,  2.56it/s, loss=0.0536, v_num=4, train_loss=0.0153, train_accuracy=1.000, train_f1_score=1.000, val_loss=0.326, val_accuracy=0.914, val_f1_score=0.914]\n",
      "Epoch 88:  98%|█████████▊| 250/255 [01:36<00:01,  2.58it/s, loss=0.0536, v_num=4, train_loss=0.0153, train_accuracy=1.000, train_f1_score=1.000, val_loss=0.326, val_accuracy=0.914, val_f1_score=0.914]\n",
      "Epoch 88:  99%|█████████▉| 252/255 [01:37<00:01,  2.59it/s, loss=0.0536, v_num=4, train_loss=0.0153, train_accuracy=1.000, train_f1_score=1.000, val_loss=0.326, val_accuracy=0.914, val_f1_score=0.914]\n",
      "Epoch 88: 100%|█████████▉| 254/255 [01:37<00:00,  2.61it/s, loss=0.0536, v_num=4, train_loss=0.0153, train_accuracy=1.000, train_f1_score=1.000, val_loss=0.326, val_accuracy=0.914, val_f1_score=0.914]\n",
      "Epoch 88: 100%|██████████| 255/255 [01:38<00:00,  2.59it/s, loss=0.0536, v_num=4, train_loss=0.0153, train_accuracy=1.000, train_f1_score=1.000, val_loss=0.311, val_accuracy=0.916, val_f1_score=0.916]\n",
      "Epoch 88: 100%|██████████| 255/255 [01:38<00:00,  2.59it/s, loss=0.0536, v_num=4, train_loss=0.0153, train_accuracy=1.000, train_f1_score=1.000, val_loss=0.311, val_accuracy=0.916, val_f1_score=0.916]"
     ]
    },
    {
     "name": "stderr",
     "output_type": "stream",
     "text": [
      "Epoch 88, global step 20113: val_loss was not in top 2\n"
     ]
    },
    {
     "name": "stdout",
     "output_type": "stream",
     "text": [
      "Epoch 89:  89%|████████▊ | 226/255 [01:27<00:11,  2.59it/s, loss=0.0448, v_num=4, train_loss=0.0242, train_accuracy=1.000, train_f1_score=1.000, val_loss=0.311, val_accuracy=0.916, val_f1_score=0.916] \n",
      "Validating: 0it [00:00, ?it/s]\u001b[A\n",
      "Validating:   0%|          | 0/29 [00:00<?, ?it/s]\u001b[A\n",
      "Epoch 89:  89%|████████▉ | 228/255 [01:34<00:11,  2.40it/s, loss=0.0448, v_num=4, train_loss=0.0242, train_accuracy=1.000, train_f1_score=1.000, val_loss=0.311, val_accuracy=0.916, val_f1_score=0.916]\n",
      "Epoch 89:  90%|█████████ | 230/255 [01:35<00:10,  2.42it/s, loss=0.0448, v_num=4, train_loss=0.0242, train_accuracy=1.000, train_f1_score=1.000, val_loss=0.311, val_accuracy=0.916, val_f1_score=0.916]\n",
      "Epoch 89:  91%|█████████ | 232/255 [01:35<00:09,  2.43it/s, loss=0.0448, v_num=4, train_loss=0.0242, train_accuracy=1.000, train_f1_score=1.000, val_loss=0.311, val_accuracy=0.916, val_f1_score=0.916]\n",
      "Epoch 89:  92%|█████████▏| 234/255 [01:35<00:08,  2.45it/s, loss=0.0448, v_num=4, train_loss=0.0242, train_accuracy=1.000, train_f1_score=1.000, val_loss=0.311, val_accuracy=0.916, val_f1_score=0.916]\n",
      "Epoch 89:  93%|█████████▎| 236/255 [01:35<00:07,  2.47it/s, loss=0.0448, v_num=4, train_loss=0.0242, train_accuracy=1.000, train_f1_score=1.000, val_loss=0.311, val_accuracy=0.916, val_f1_score=0.916]\n",
      "Epoch 89:  93%|█████████▎| 238/255 [01:35<00:06,  2.48it/s, loss=0.0448, v_num=4, train_loss=0.0242, train_accuracy=1.000, train_f1_score=1.000, val_loss=0.311, val_accuracy=0.916, val_f1_score=0.916]\n",
      "Epoch 89:  94%|█████████▍| 240/255 [01:36<00:06,  2.50it/s, loss=0.0448, v_num=4, train_loss=0.0242, train_accuracy=1.000, train_f1_score=1.000, val_loss=0.311, val_accuracy=0.916, val_f1_score=0.916]\n",
      "Epoch 89:  95%|█████████▍| 242/255 [01:36<00:05,  2.51it/s, loss=0.0448, v_num=4, train_loss=0.0242, train_accuracy=1.000, train_f1_score=1.000, val_loss=0.311, val_accuracy=0.916, val_f1_score=0.916]\n",
      "Epoch 89:  96%|█████████▌| 244/255 [01:36<00:04,  2.53it/s, loss=0.0448, v_num=4, train_loss=0.0242, train_accuracy=1.000, train_f1_score=1.000, val_loss=0.311, val_accuracy=0.916, val_f1_score=0.916]\n",
      "Epoch 89:  96%|█████████▋| 246/255 [01:36<00:03,  2.55it/s, loss=0.0448, v_num=4, train_loss=0.0242, train_accuracy=1.000, train_f1_score=1.000, val_loss=0.311, val_accuracy=0.916, val_f1_score=0.916]\n",
      "Epoch 89:  97%|█████████▋| 248/255 [01:36<00:02,  2.56it/s, loss=0.0448, v_num=4, train_loss=0.0242, train_accuracy=1.000, train_f1_score=1.000, val_loss=0.311, val_accuracy=0.916, val_f1_score=0.916]\n",
      "Epoch 89:  98%|█████████▊| 250/255 [01:36<00:01,  2.58it/s, loss=0.0448, v_num=4, train_loss=0.0242, train_accuracy=1.000, train_f1_score=1.000, val_loss=0.311, val_accuracy=0.916, val_f1_score=0.916]\n",
      "Epoch 89:  99%|█████████▉| 252/255 [01:37<00:01,  2.59it/s, loss=0.0448, v_num=4, train_loss=0.0242, train_accuracy=1.000, train_f1_score=1.000, val_loss=0.311, val_accuracy=0.916, val_f1_score=0.916]\n",
      "Epoch 89: 100%|█████████▉| 254/255 [01:37<00:00,  2.61it/s, loss=0.0448, v_num=4, train_loss=0.0242, train_accuracy=1.000, train_f1_score=1.000, val_loss=0.311, val_accuracy=0.916, val_f1_score=0.916]\n",
      "Epoch 89: 100%|██████████| 255/255 [01:38<00:00,  2.59it/s, loss=0.0448, v_num=4, train_loss=0.0242, train_accuracy=1.000, train_f1_score=1.000, val_loss=0.319, val_accuracy=0.911, val_f1_score=0.911]\n",
      "Epoch 89: 100%|██████████| 255/255 [01:38<00:00,  2.59it/s, loss=0.0448, v_num=4, train_loss=0.0242, train_accuracy=1.000, train_f1_score=1.000, val_loss=0.319, val_accuracy=0.911, val_f1_score=0.911]"
     ]
    },
    {
     "name": "stderr",
     "output_type": "stream",
     "text": [
      "Epoch 89, global step 20339: val_loss was not in top 2\n"
     ]
    },
    {
     "name": "stdout",
     "output_type": "stream",
     "text": [
      "Epoch 90:  89%|████████▊ | 226/255 [01:26<00:11,  2.60it/s, loss=0.0368, v_num=4, train_loss=0.0652, train_accuracy=0.944, train_f1_score=0.944, val_loss=0.319, val_accuracy=0.911, val_f1_score=0.911] \n",
      "Validating: 0it [00:00, ?it/s]\u001b[A\n",
      "Validating:   0%|          | 0/29 [00:00<?, ?it/s]\u001b[A\n",
      "Epoch 90:  89%|████████▉ | 228/255 [01:34<00:11,  2.41it/s, loss=0.0368, v_num=4, train_loss=0.0652, train_accuracy=0.944, train_f1_score=0.944, val_loss=0.319, val_accuracy=0.911, val_f1_score=0.911]\n",
      "Epoch 90:  90%|█████████ | 230/255 [01:34<00:10,  2.42it/s, loss=0.0368, v_num=4, train_loss=0.0652, train_accuracy=0.944, train_f1_score=0.944, val_loss=0.319, val_accuracy=0.911, val_f1_score=0.911]\n",
      "Epoch 90:  91%|█████████ | 232/255 [01:35<00:09,  2.44it/s, loss=0.0368, v_num=4, train_loss=0.0652, train_accuracy=0.944, train_f1_score=0.944, val_loss=0.319, val_accuracy=0.911, val_f1_score=0.911]\n",
      "Epoch 90:  92%|█████████▏| 234/255 [01:35<00:08,  2.46it/s, loss=0.0368, v_num=4, train_loss=0.0652, train_accuracy=0.944, train_f1_score=0.944, val_loss=0.319, val_accuracy=0.911, val_f1_score=0.911]\n",
      "Epoch 90:  93%|█████████▎| 236/255 [01:35<00:07,  2.47it/s, loss=0.0368, v_num=4, train_loss=0.0652, train_accuracy=0.944, train_f1_score=0.944, val_loss=0.319, val_accuracy=0.911, val_f1_score=0.911]\n",
      "Epoch 90:  93%|█████████▎| 238/255 [01:35<00:06,  2.49it/s, loss=0.0368, v_num=4, train_loss=0.0652, train_accuracy=0.944, train_f1_score=0.944, val_loss=0.319, val_accuracy=0.911, val_f1_score=0.911]\n",
      "Epoch 90:  94%|█████████▍| 240/255 [01:35<00:05,  2.51it/s, loss=0.0368, v_num=4, train_loss=0.0652, train_accuracy=0.944, train_f1_score=0.944, val_loss=0.319, val_accuracy=0.911, val_f1_score=0.911]\n",
      "Epoch 90:  95%|█████████▍| 242/255 [01:35<00:05,  2.52it/s, loss=0.0368, v_num=4, train_loss=0.0652, train_accuracy=0.944, train_f1_score=0.944, val_loss=0.319, val_accuracy=0.911, val_f1_score=0.911]\n",
      "Epoch 90:  96%|█████████▌| 244/255 [01:36<00:04,  2.54it/s, loss=0.0368, v_num=4, train_loss=0.0652, train_accuracy=0.944, train_f1_score=0.944, val_loss=0.319, val_accuracy=0.911, val_f1_score=0.911]\n",
      "Epoch 90:  96%|█████████▋| 246/255 [01:36<00:03,  2.55it/s, loss=0.0368, v_num=4, train_loss=0.0652, train_accuracy=0.944, train_f1_score=0.944, val_loss=0.319, val_accuracy=0.911, val_f1_score=0.911]\n",
      "Epoch 90:  97%|█████████▋| 248/255 [01:36<00:02,  2.57it/s, loss=0.0368, v_num=4, train_loss=0.0652, train_accuracy=0.944, train_f1_score=0.944, val_loss=0.319, val_accuracy=0.911, val_f1_score=0.911]\n",
      "Epoch 90:  98%|█████████▊| 250/255 [01:36<00:01,  2.59it/s, loss=0.0368, v_num=4, train_loss=0.0652, train_accuracy=0.944, train_f1_score=0.944, val_loss=0.319, val_accuracy=0.911, val_f1_score=0.911]\n",
      "Epoch 90:  99%|█████████▉| 252/255 [01:36<00:01,  2.60it/s, loss=0.0368, v_num=4, train_loss=0.0652, train_accuracy=0.944, train_f1_score=0.944, val_loss=0.319, val_accuracy=0.911, val_f1_score=0.911]\n",
      "Epoch 90: 100%|█████████▉| 254/255 [01:36<00:00,  2.62it/s, loss=0.0368, v_num=4, train_loss=0.0652, train_accuracy=0.944, train_f1_score=0.944, val_loss=0.319, val_accuracy=0.911, val_f1_score=0.911]\n",
      "Epoch 90: 100%|██████████| 255/255 [01:38<00:00,  2.60it/s, loss=0.0368, v_num=4, train_loss=0.0652, train_accuracy=0.944, train_f1_score=0.944, val_loss=0.300, val_accuracy=0.913, val_f1_score=0.913]\n",
      "Epoch 90: 100%|██████████| 255/255 [01:38<00:00,  2.60it/s, loss=0.0368, v_num=4, train_loss=0.0652, train_accuracy=0.944, train_f1_score=0.944, val_loss=0.300, val_accuracy=0.913, val_f1_score=0.913]"
     ]
    },
    {
     "name": "stderr",
     "output_type": "stream",
     "text": [
      "Epoch 90, global step 20565: val_loss was not in top 2\n"
     ]
    },
    {
     "name": "stdout",
     "output_type": "stream",
     "text": [
      "Epoch 91:  89%|████████▊ | 226/255 [01:26<00:11,  2.61it/s, loss=0.0423, v_num=4, train_loss=0.0819, train_accuracy=1.000, train_f1_score=1.000, val_loss=0.300, val_accuracy=0.913, val_f1_score=0.913] \n",
      "Validating: 0it [00:00, ?it/s]\u001b[A\n",
      "Validating:   0%|          | 0/29 [00:00<?, ?it/s]\u001b[A\n",
      "Epoch 91:  89%|████████▉ | 228/255 [01:34<00:11,  2.42it/s, loss=0.0423, v_num=4, train_loss=0.0819, train_accuracy=1.000, train_f1_score=1.000, val_loss=0.300, val_accuracy=0.913, val_f1_score=0.913]\n",
      "Epoch 91:  90%|█████████ | 230/255 [01:34<00:10,  2.43it/s, loss=0.0423, v_num=4, train_loss=0.0819, train_accuracy=1.000, train_f1_score=1.000, val_loss=0.300, val_accuracy=0.913, val_f1_score=0.913]\n",
      "Epoch 91:  91%|█████████ | 232/255 [01:34<00:09,  2.45it/s, loss=0.0423, v_num=4, train_loss=0.0819, train_accuracy=1.000, train_f1_score=1.000, val_loss=0.300, val_accuracy=0.913, val_f1_score=0.913]\n",
      "Epoch 91:  92%|█████████▏| 234/255 [01:34<00:08,  2.47it/s, loss=0.0423, v_num=4, train_loss=0.0819, train_accuracy=1.000, train_f1_score=1.000, val_loss=0.300, val_accuracy=0.913, val_f1_score=0.913]\n",
      "Epoch 91:  93%|█████████▎| 236/255 [01:35<00:07,  2.48it/s, loss=0.0423, v_num=4, train_loss=0.0819, train_accuracy=1.000, train_f1_score=1.000, val_loss=0.300, val_accuracy=0.913, val_f1_score=0.913]\n",
      "Epoch 91:  93%|█████████▎| 238/255 [01:35<00:06,  2.50it/s, loss=0.0423, v_num=4, train_loss=0.0819, train_accuracy=1.000, train_f1_score=1.000, val_loss=0.300, val_accuracy=0.913, val_f1_score=0.913]\n",
      "Epoch 91:  94%|█████████▍| 240/255 [01:35<00:05,  2.51it/s, loss=0.0423, v_num=4, train_loss=0.0819, train_accuracy=1.000, train_f1_score=1.000, val_loss=0.300, val_accuracy=0.913, val_f1_score=0.913]\n",
      "Epoch 91:  95%|█████████▍| 242/255 [01:35<00:05,  2.53it/s, loss=0.0423, v_num=4, train_loss=0.0819, train_accuracy=1.000, train_f1_score=1.000, val_loss=0.300, val_accuracy=0.913, val_f1_score=0.913]\n",
      "Epoch 91:  96%|█████████▌| 244/255 [01:35<00:04,  2.55it/s, loss=0.0423, v_num=4, train_loss=0.0819, train_accuracy=1.000, train_f1_score=1.000, val_loss=0.300, val_accuracy=0.913, val_f1_score=0.913]\n",
      "Epoch 91:  96%|█████████▋| 246/255 [01:35<00:03,  2.56it/s, loss=0.0423, v_num=4, train_loss=0.0819, train_accuracy=1.000, train_f1_score=1.000, val_loss=0.300, val_accuracy=0.913, val_f1_score=0.913]\n",
      "Epoch 91:  97%|█████████▋| 248/255 [01:36<00:02,  2.58it/s, loss=0.0423, v_num=4, train_loss=0.0819, train_accuracy=1.000, train_f1_score=1.000, val_loss=0.300, val_accuracy=0.913, val_f1_score=0.913]\n",
      "Epoch 91:  98%|█████████▊| 250/255 [01:36<00:01,  2.60it/s, loss=0.0423, v_num=4, train_loss=0.0819, train_accuracy=1.000, train_f1_score=1.000, val_loss=0.300, val_accuracy=0.913, val_f1_score=0.913]\n",
      "Epoch 91:  99%|█████████▉| 252/255 [01:36<00:01,  2.61it/s, loss=0.0423, v_num=4, train_loss=0.0819, train_accuracy=1.000, train_f1_score=1.000, val_loss=0.300, val_accuracy=0.913, val_f1_score=0.913]\n",
      "Epoch 91: 100%|█████████▉| 254/255 [01:36<00:00,  2.63it/s, loss=0.0423, v_num=4, train_loss=0.0819, train_accuracy=1.000, train_f1_score=1.000, val_loss=0.300, val_accuracy=0.913, val_f1_score=0.913]\n",
      "Epoch 91: 100%|██████████| 255/255 [01:37<00:00,  2.60it/s, loss=0.0423, v_num=4, train_loss=0.0819, train_accuracy=1.000, train_f1_score=1.000, val_loss=0.321, val_accuracy=0.910, val_f1_score=0.910]\n",
      "Epoch 91: 100%|██████████| 255/255 [01:37<00:00,  2.60it/s, loss=0.0423, v_num=4, train_loss=0.0819, train_accuracy=1.000, train_f1_score=1.000, val_loss=0.321, val_accuracy=0.910, val_f1_score=0.910]"
     ]
    },
    {
     "name": "stderr",
     "output_type": "stream",
     "text": [
      "Epoch 91, global step 20791: val_loss was not in top 2\n"
     ]
    },
    {
     "name": "stdout",
     "output_type": "stream",
     "text": [
      "Epoch 92:  89%|████████▊ | 226/255 [01:26<00:11,  2.61it/s, loss=0.033, v_num=4, train_loss=0.00797, train_accuracy=1.000, train_f1_score=1.000, val_loss=0.321, val_accuracy=0.910, val_f1_score=0.910] \n",
      "Validating: 0it [00:00, ?it/s]\u001b[A\n",
      "Validating:   0%|          | 0/29 [00:00<?, ?it/s]\u001b[A\n",
      "Epoch 92:  89%|████████▉ | 228/255 [01:34<00:11,  2.41it/s, loss=0.033, v_num=4, train_loss=0.00797, train_accuracy=1.000, train_f1_score=1.000, val_loss=0.321, val_accuracy=0.910, val_f1_score=0.910]\n",
      "Epoch 92:  90%|█████████ | 230/255 [01:34<00:10,  2.43it/s, loss=0.033, v_num=4, train_loss=0.00797, train_accuracy=1.000, train_f1_score=1.000, val_loss=0.321, val_accuracy=0.910, val_f1_score=0.910]\n",
      "Epoch 92:  91%|█████████ | 232/255 [01:34<00:09,  2.45it/s, loss=0.033, v_num=4, train_loss=0.00797, train_accuracy=1.000, train_f1_score=1.000, val_loss=0.321, val_accuracy=0.910, val_f1_score=0.910]\n",
      "Epoch 92:  92%|█████████▏| 234/255 [01:34<00:08,  2.46it/s, loss=0.033, v_num=4, train_loss=0.00797, train_accuracy=1.000, train_f1_score=1.000, val_loss=0.321, val_accuracy=0.910, val_f1_score=0.910]\n",
      "Epoch 92:  93%|█████████▎| 236/255 [01:35<00:07,  2.48it/s, loss=0.033, v_num=4, train_loss=0.00797, train_accuracy=1.000, train_f1_score=1.000, val_loss=0.321, val_accuracy=0.910, val_f1_score=0.910]\n",
      "Epoch 92:  93%|█████████▎| 238/255 [01:35<00:06,  2.50it/s, loss=0.033, v_num=4, train_loss=0.00797, train_accuracy=1.000, train_f1_score=1.000, val_loss=0.321, val_accuracy=0.910, val_f1_score=0.910]\n",
      "Epoch 92:  94%|█████████▍| 240/255 [01:35<00:05,  2.51it/s, loss=0.033, v_num=4, train_loss=0.00797, train_accuracy=1.000, train_f1_score=1.000, val_loss=0.321, val_accuracy=0.910, val_f1_score=0.910]\n",
      "Epoch 92:  95%|█████████▍| 242/255 [01:35<00:05,  2.53it/s, loss=0.033, v_num=4, train_loss=0.00797, train_accuracy=1.000, train_f1_score=1.000, val_loss=0.321, val_accuracy=0.910, val_f1_score=0.910]\n",
      "Epoch 92:  96%|█████████▌| 244/255 [01:35<00:04,  2.55it/s, loss=0.033, v_num=4, train_loss=0.00797, train_accuracy=1.000, train_f1_score=1.000, val_loss=0.321, val_accuracy=0.910, val_f1_score=0.910]\n",
      "Epoch 92:  96%|█████████▋| 246/255 [01:36<00:03,  2.56it/s, loss=0.033, v_num=4, train_loss=0.00797, train_accuracy=1.000, train_f1_score=1.000, val_loss=0.321, val_accuracy=0.910, val_f1_score=0.910]\n",
      "Epoch 92:  97%|█████████▋| 248/255 [01:36<00:02,  2.58it/s, loss=0.033, v_num=4, train_loss=0.00797, train_accuracy=1.000, train_f1_score=1.000, val_loss=0.321, val_accuracy=0.910, val_f1_score=0.910]\n",
      "Epoch 92:  98%|█████████▊| 250/255 [01:36<00:01,  2.59it/s, loss=0.033, v_num=4, train_loss=0.00797, train_accuracy=1.000, train_f1_score=1.000, val_loss=0.321, val_accuracy=0.910, val_f1_score=0.910]\n",
      "Epoch 92:  99%|█████████▉| 252/255 [01:36<00:01,  2.61it/s, loss=0.033, v_num=4, train_loss=0.00797, train_accuracy=1.000, train_f1_score=1.000, val_loss=0.321, val_accuracy=0.910, val_f1_score=0.910]\n",
      "Epoch 92: 100%|█████████▉| 254/255 [01:36<00:00,  2.63it/s, loss=0.033, v_num=4, train_loss=0.00797, train_accuracy=1.000, train_f1_score=1.000, val_loss=0.321, val_accuracy=0.910, val_f1_score=0.910]\n",
      "Epoch 92: 100%|██████████| 255/255 [01:37<00:00,  2.60it/s, loss=0.033, v_num=4, train_loss=0.00797, train_accuracy=1.000, train_f1_score=1.000, val_loss=0.294, val_accuracy=0.913, val_f1_score=0.913]\n",
      "Epoch 92: 100%|██████████| 255/255 [01:37<00:00,  2.60it/s, loss=0.033, v_num=4, train_loss=0.00797, train_accuracy=1.000, train_f1_score=1.000, val_loss=0.294, val_accuracy=0.913, val_f1_score=0.913]"
     ]
    },
    {
     "name": "stderr",
     "output_type": "stream",
     "text": [
      "Epoch 92, global step 21017: val_loss was not in top 2\n"
     ]
    },
    {
     "name": "stdout",
     "output_type": "stream",
     "text": [
      "Epoch 93:  89%|████████▊ | 226/255 [01:26<00:11,  2.61it/s, loss=0.0816, v_num=4, train_loss=0.0018, train_accuracy=1.000, train_f1_score=1.000, val_loss=0.294, val_accuracy=0.913, val_f1_score=0.913] \n",
      "Validating: 0it [00:00, ?it/s]\u001b[A\n",
      "Validating:   0%|          | 0/29 [00:00<?, ?it/s]\u001b[A\n",
      "Epoch 93:  89%|████████▉ | 228/255 [01:34<00:11,  2.42it/s, loss=0.0816, v_num=4, train_loss=0.0018, train_accuracy=1.000, train_f1_score=1.000, val_loss=0.294, val_accuracy=0.913, val_f1_score=0.913]\n",
      "Epoch 93:  90%|█████████ | 230/255 [01:34<00:10,  2.43it/s, loss=0.0816, v_num=4, train_loss=0.0018, train_accuracy=1.000, train_f1_score=1.000, val_loss=0.294, val_accuracy=0.913, val_f1_score=0.913]\n",
      "Epoch 93:  91%|█████████ | 232/255 [01:34<00:09,  2.45it/s, loss=0.0816, v_num=4, train_loss=0.0018, train_accuracy=1.000, train_f1_score=1.000, val_loss=0.294, val_accuracy=0.913, val_f1_score=0.913]\n",
      "Epoch 93:  92%|█████████▏| 234/255 [01:34<00:08,  2.47it/s, loss=0.0816, v_num=4, train_loss=0.0018, train_accuracy=1.000, train_f1_score=1.000, val_loss=0.294, val_accuracy=0.913, val_f1_score=0.913]\n",
      "Epoch 93:  93%|█████████▎| 236/255 [01:35<00:07,  2.48it/s, loss=0.0816, v_num=4, train_loss=0.0018, train_accuracy=1.000, train_f1_score=1.000, val_loss=0.294, val_accuracy=0.913, val_f1_score=0.913]\n",
      "Epoch 93:  93%|█████████▎| 238/255 [01:35<00:06,  2.50it/s, loss=0.0816, v_num=4, train_loss=0.0018, train_accuracy=1.000, train_f1_score=1.000, val_loss=0.294, val_accuracy=0.913, val_f1_score=0.913]\n",
      "Epoch 93:  94%|█████████▍| 240/255 [01:35<00:05,  2.51it/s, loss=0.0816, v_num=4, train_loss=0.0018, train_accuracy=1.000, train_f1_score=1.000, val_loss=0.294, val_accuracy=0.913, val_f1_score=0.913]\n",
      "Epoch 93:  95%|█████████▍| 242/255 [01:35<00:05,  2.53it/s, loss=0.0816, v_num=4, train_loss=0.0018, train_accuracy=1.000, train_f1_score=1.000, val_loss=0.294, val_accuracy=0.913, val_f1_score=0.913]\n",
      "Epoch 93:  96%|█████████▌| 244/255 [01:35<00:04,  2.55it/s, loss=0.0816, v_num=4, train_loss=0.0018, train_accuracy=1.000, train_f1_score=1.000, val_loss=0.294, val_accuracy=0.913, val_f1_score=0.913]\n",
      "Epoch 93:  96%|█████████▋| 246/255 [01:35<00:03,  2.56it/s, loss=0.0816, v_num=4, train_loss=0.0018, train_accuracy=1.000, train_f1_score=1.000, val_loss=0.294, val_accuracy=0.913, val_f1_score=0.913]\n",
      "Epoch 93:  97%|█████████▋| 248/255 [01:36<00:02,  2.58it/s, loss=0.0816, v_num=4, train_loss=0.0018, train_accuracy=1.000, train_f1_score=1.000, val_loss=0.294, val_accuracy=0.913, val_f1_score=0.913]\n",
      "Epoch 93:  98%|█████████▊| 250/255 [01:36<00:01,  2.59it/s, loss=0.0816, v_num=4, train_loss=0.0018, train_accuracy=1.000, train_f1_score=1.000, val_loss=0.294, val_accuracy=0.913, val_f1_score=0.913]\n",
      "Epoch 93:  99%|█████████▉| 252/255 [01:36<00:01,  2.61it/s, loss=0.0816, v_num=4, train_loss=0.0018, train_accuracy=1.000, train_f1_score=1.000, val_loss=0.294, val_accuracy=0.913, val_f1_score=0.913]\n",
      "Epoch 93: 100%|█████████▉| 254/255 [01:36<00:00,  2.63it/s, loss=0.0816, v_num=4, train_loss=0.0018, train_accuracy=1.000, train_f1_score=1.000, val_loss=0.294, val_accuracy=0.913, val_f1_score=0.913]\n",
      "Epoch 93: 100%|██████████| 255/255 [01:37<00:00,  2.61it/s, loss=0.0816, v_num=4, train_loss=0.0018, train_accuracy=1.000, train_f1_score=1.000, val_loss=0.326, val_accuracy=0.908, val_f1_score=0.908]\n",
      "Epoch 93: 100%|██████████| 255/255 [01:37<00:00,  2.61it/s, loss=0.0816, v_num=4, train_loss=0.0018, train_accuracy=1.000, train_f1_score=1.000, val_loss=0.326, val_accuracy=0.908, val_f1_score=0.908]"
     ]
    },
    {
     "name": "stderr",
     "output_type": "stream",
     "text": [
      "Epoch 93, global step 21243: val_loss was not in top 2\n"
     ]
    },
    {
     "name": "stdout",
     "output_type": "stream",
     "text": [
      "Epoch 94:  89%|████████▊ | 226/255 [01:26<00:11,  2.60it/s, loss=0.042, v_num=4, train_loss=0.0286, train_accuracy=1.000, train_f1_score=1.000, val_loss=0.326, val_accuracy=0.908, val_f1_score=0.908]  \n",
      "Validating: 0it [00:00, ?it/s]\u001b[A\n",
      "Validating:   0%|          | 0/29 [00:00<?, ?it/s]\u001b[A\n",
      "Epoch 94:  89%|████████▉ | 228/255 [01:34<00:11,  2.41it/s, loss=0.042, v_num=4, train_loss=0.0286, train_accuracy=1.000, train_f1_score=1.000, val_loss=0.326, val_accuracy=0.908, val_f1_score=0.908]\n",
      "Epoch 94:  90%|█████████ | 230/255 [01:34<00:10,  2.43it/s, loss=0.042, v_num=4, train_loss=0.0286, train_accuracy=1.000, train_f1_score=1.000, val_loss=0.326, val_accuracy=0.908, val_f1_score=0.908]\n",
      "Epoch 94:  91%|█████████ | 232/255 [01:34<00:09,  2.45it/s, loss=0.042, v_num=4, train_loss=0.0286, train_accuracy=1.000, train_f1_score=1.000, val_loss=0.326, val_accuracy=0.908, val_f1_score=0.908]\n",
      "Epoch 94:  92%|█████████▏| 234/255 [01:35<00:08,  2.46it/s, loss=0.042, v_num=4, train_loss=0.0286, train_accuracy=1.000, train_f1_score=1.000, val_loss=0.326, val_accuracy=0.908, val_f1_score=0.908]\n",
      "Epoch 94:  93%|█████████▎| 236/255 [01:35<00:07,  2.48it/s, loss=0.042, v_num=4, train_loss=0.0286, train_accuracy=1.000, train_f1_score=1.000, val_loss=0.326, val_accuracy=0.908, val_f1_score=0.908]\n",
      "Epoch 94:  93%|█████████▎| 238/255 [01:35<00:06,  2.50it/s, loss=0.042, v_num=4, train_loss=0.0286, train_accuracy=1.000, train_f1_score=1.000, val_loss=0.326, val_accuracy=0.908, val_f1_score=0.908]\n",
      "Epoch 94:  94%|█████████▍| 240/255 [01:35<00:05,  2.51it/s, loss=0.042, v_num=4, train_loss=0.0286, train_accuracy=1.000, train_f1_score=1.000, val_loss=0.326, val_accuracy=0.908, val_f1_score=0.908]\n",
      "Epoch 94:  95%|█████████▍| 242/255 [01:35<00:05,  2.53it/s, loss=0.042, v_num=4, train_loss=0.0286, train_accuracy=1.000, train_f1_score=1.000, val_loss=0.326, val_accuracy=0.908, val_f1_score=0.908]\n",
      "Epoch 94:  96%|█████████▌| 244/255 [01:35<00:04,  2.54it/s, loss=0.042, v_num=4, train_loss=0.0286, train_accuracy=1.000, train_f1_score=1.000, val_loss=0.326, val_accuracy=0.908, val_f1_score=0.908]\n",
      "Epoch 94:  96%|█████████▋| 246/255 [01:36<00:03,  2.56it/s, loss=0.042, v_num=4, train_loss=0.0286, train_accuracy=1.000, train_f1_score=1.000, val_loss=0.326, val_accuracy=0.908, val_f1_score=0.908]\n",
      "Epoch 94:  97%|█████████▋| 248/255 [01:36<00:02,  2.58it/s, loss=0.042, v_num=4, train_loss=0.0286, train_accuracy=1.000, train_f1_score=1.000, val_loss=0.326, val_accuracy=0.908, val_f1_score=0.908]\n",
      "Epoch 94:  98%|█████████▊| 250/255 [01:36<00:01,  2.59it/s, loss=0.042, v_num=4, train_loss=0.0286, train_accuracy=1.000, train_f1_score=1.000, val_loss=0.326, val_accuracy=0.908, val_f1_score=0.908]\n",
      "Epoch 94:  99%|█████████▉| 252/255 [01:36<00:01,  2.61it/s, loss=0.042, v_num=4, train_loss=0.0286, train_accuracy=1.000, train_f1_score=1.000, val_loss=0.326, val_accuracy=0.908, val_f1_score=0.908]\n",
      "Epoch 94: 100%|█████████▉| 254/255 [01:36<00:00,  2.62it/s, loss=0.042, v_num=4, train_loss=0.0286, train_accuracy=1.000, train_f1_score=1.000, val_loss=0.326, val_accuracy=0.908, val_f1_score=0.908]\n",
      "Epoch 94: 100%|██████████| 255/255 [01:37<00:00,  2.60it/s, loss=0.042, v_num=4, train_loss=0.0286, train_accuracy=1.000, train_f1_score=1.000, val_loss=0.315, val_accuracy=0.915, val_f1_score=0.915]\n",
      "Epoch 94: 100%|██████████| 255/255 [01:37<00:00,  2.60it/s, loss=0.042, v_num=4, train_loss=0.0286, train_accuracy=1.000, train_f1_score=1.000, val_loss=0.315, val_accuracy=0.915, val_f1_score=0.915]"
     ]
    },
    {
     "name": "stderr",
     "output_type": "stream",
     "text": [
      "Epoch 94, global step 21469: val_loss was not in top 2\n"
     ]
    },
    {
     "name": "stdout",
     "output_type": "stream",
     "text": [
      "Epoch 95:  89%|████████▊ | 226/255 [01:26<00:11,  2.61it/s, loss=0.0858, v_num=4, train_loss=0.386, train_accuracy=0.944, train_f1_score=0.944, val_loss=0.315, val_accuracy=0.915, val_f1_score=0.915]  \n",
      "Validating: 0it [00:00, ?it/s]\u001b[A\n",
      "Validating:   0%|          | 0/29 [00:00<?, ?it/s]\u001b[A\n",
      "Epoch 95:  89%|████████▉ | 228/255 [01:34<00:11,  2.41it/s, loss=0.0858, v_num=4, train_loss=0.386, train_accuracy=0.944, train_f1_score=0.944, val_loss=0.315, val_accuracy=0.915, val_f1_score=0.915]\n",
      "Epoch 95:  90%|█████████ | 230/255 [01:34<00:10,  2.43it/s, loss=0.0858, v_num=4, train_loss=0.386, train_accuracy=0.944, train_f1_score=0.944, val_loss=0.315, val_accuracy=0.915, val_f1_score=0.915]\n",
      "Epoch 95:  91%|█████████ | 232/255 [01:34<00:09,  2.45it/s, loss=0.0858, v_num=4, train_loss=0.386, train_accuracy=0.944, train_f1_score=0.944, val_loss=0.315, val_accuracy=0.915, val_f1_score=0.915]\n",
      "Epoch 95:  92%|█████████▏| 234/255 [01:35<00:08,  2.46it/s, loss=0.0858, v_num=4, train_loss=0.386, train_accuracy=0.944, train_f1_score=0.944, val_loss=0.315, val_accuracy=0.915, val_f1_score=0.915]\n",
      "Epoch 95:  93%|█████████▎| 236/255 [01:35<00:07,  2.48it/s, loss=0.0858, v_num=4, train_loss=0.386, train_accuracy=0.944, train_f1_score=0.944, val_loss=0.315, val_accuracy=0.915, val_f1_score=0.915]\n",
      "Epoch 95:  93%|█████████▎| 238/255 [01:35<00:06,  2.50it/s, loss=0.0858, v_num=4, train_loss=0.386, train_accuracy=0.944, train_f1_score=0.944, val_loss=0.315, val_accuracy=0.915, val_f1_score=0.915]\n",
      "Epoch 95:  94%|█████████▍| 240/255 [01:35<00:05,  2.51it/s, loss=0.0858, v_num=4, train_loss=0.386, train_accuracy=0.944, train_f1_score=0.944, val_loss=0.315, val_accuracy=0.915, val_f1_score=0.915]\n",
      "Epoch 95:  95%|█████████▍| 242/255 [01:35<00:05,  2.53it/s, loss=0.0858, v_num=4, train_loss=0.386, train_accuracy=0.944, train_f1_score=0.944, val_loss=0.315, val_accuracy=0.915, val_f1_score=0.915]\n",
      "Epoch 95:  96%|█████████▌| 244/255 [01:35<00:04,  2.54it/s, loss=0.0858, v_num=4, train_loss=0.386, train_accuracy=0.944, train_f1_score=0.944, val_loss=0.315, val_accuracy=0.915, val_f1_score=0.915]\n",
      "Epoch 95:  96%|█████████▋| 246/255 [01:36<00:03,  2.56it/s, loss=0.0858, v_num=4, train_loss=0.386, train_accuracy=0.944, train_f1_score=0.944, val_loss=0.315, val_accuracy=0.915, val_f1_score=0.915]\n",
      "Epoch 95:  97%|█████████▋| 248/255 [01:36<00:02,  2.58it/s, loss=0.0858, v_num=4, train_loss=0.386, train_accuracy=0.944, train_f1_score=0.944, val_loss=0.315, val_accuracy=0.915, val_f1_score=0.915]\n",
      "Epoch 95:  98%|█████████▊| 250/255 [01:36<00:01,  2.59it/s, loss=0.0858, v_num=4, train_loss=0.386, train_accuracy=0.944, train_f1_score=0.944, val_loss=0.315, val_accuracy=0.915, val_f1_score=0.915]\n",
      "Epoch 95:  99%|█████████▉| 252/255 [01:36<00:01,  2.61it/s, loss=0.0858, v_num=4, train_loss=0.386, train_accuracy=0.944, train_f1_score=0.944, val_loss=0.315, val_accuracy=0.915, val_f1_score=0.915]\n",
      "Epoch 95: 100%|█████████▉| 254/255 [01:36<00:00,  2.62it/s, loss=0.0858, v_num=4, train_loss=0.386, train_accuracy=0.944, train_f1_score=0.944, val_loss=0.315, val_accuracy=0.915, val_f1_score=0.915]\n",
      "Epoch 95: 100%|██████████| 255/255 [01:37<00:00,  2.60it/s, loss=0.0858, v_num=4, train_loss=0.386, train_accuracy=0.944, train_f1_score=0.944, val_loss=0.367, val_accuracy=0.909, val_f1_score=0.909]\n",
      "Epoch 95: 100%|██████████| 255/255 [01:37<00:00,  2.60it/s, loss=0.0858, v_num=4, train_loss=0.386, train_accuracy=0.944, train_f1_score=0.944, val_loss=0.367, val_accuracy=0.909, val_f1_score=0.909]"
     ]
    },
    {
     "name": "stderr",
     "output_type": "stream",
     "text": [
      "Epoch 95, global step 21695: val_loss was not in top 2\n"
     ]
    },
    {
     "name": "stdout",
     "output_type": "stream",
     "text": [
      "Epoch 96:  89%|████████▊ | 226/255 [01:26<00:11,  2.61it/s, loss=0.07, v_num=4, train_loss=0.00383, train_accuracy=1.000, train_f1_score=1.000, val_loss=0.367, val_accuracy=0.909, val_f1_score=0.909]  \n",
      "Validating: 0it [00:00, ?it/s]\u001b[A\n",
      "Validating:   0%|          | 0/29 [00:00<?, ?it/s]\u001b[A\n",
      "Epoch 96:  89%|████████▉ | 228/255 [01:34<00:11,  2.41it/s, loss=0.07, v_num=4, train_loss=0.00383, train_accuracy=1.000, train_f1_score=1.000, val_loss=0.367, val_accuracy=0.909, val_f1_score=0.909]\n",
      "Epoch 96:  90%|█████████ | 230/255 [01:34<00:10,  2.43it/s, loss=0.07, v_num=4, train_loss=0.00383, train_accuracy=1.000, train_f1_score=1.000, val_loss=0.367, val_accuracy=0.909, val_f1_score=0.909]\n",
      "Epoch 96:  91%|█████████ | 232/255 [01:34<00:09,  2.45it/s, loss=0.07, v_num=4, train_loss=0.00383, train_accuracy=1.000, train_f1_score=1.000, val_loss=0.367, val_accuracy=0.909, val_f1_score=0.909]\n",
      "Epoch 96:  92%|█████████▏| 234/255 [01:35<00:08,  2.46it/s, loss=0.07, v_num=4, train_loss=0.00383, train_accuracy=1.000, train_f1_score=1.000, val_loss=0.367, val_accuracy=0.909, val_f1_score=0.909]\n",
      "Epoch 96:  93%|█████████▎| 236/255 [01:35<00:07,  2.48it/s, loss=0.07, v_num=4, train_loss=0.00383, train_accuracy=1.000, train_f1_score=1.000, val_loss=0.367, val_accuracy=0.909, val_f1_score=0.909]\n",
      "Epoch 96:  93%|█████████▎| 238/255 [01:35<00:06,  2.50it/s, loss=0.07, v_num=4, train_loss=0.00383, train_accuracy=1.000, train_f1_score=1.000, val_loss=0.367, val_accuracy=0.909, val_f1_score=0.909]\n",
      "Epoch 96:  94%|█████████▍| 240/255 [01:35<00:05,  2.51it/s, loss=0.07, v_num=4, train_loss=0.00383, train_accuracy=1.000, train_f1_score=1.000, val_loss=0.367, val_accuracy=0.909, val_f1_score=0.909]\n",
      "Epoch 96:  95%|█████████▍| 242/255 [01:35<00:05,  2.53it/s, loss=0.07, v_num=4, train_loss=0.00383, train_accuracy=1.000, train_f1_score=1.000, val_loss=0.367, val_accuracy=0.909, val_f1_score=0.909]\n",
      "Epoch 96:  96%|█████████▌| 244/255 [01:35<00:04,  2.54it/s, loss=0.07, v_num=4, train_loss=0.00383, train_accuracy=1.000, train_f1_score=1.000, val_loss=0.367, val_accuracy=0.909, val_f1_score=0.909]\n",
      "Epoch 96:  96%|█████████▋| 246/255 [01:36<00:03,  2.56it/s, loss=0.07, v_num=4, train_loss=0.00383, train_accuracy=1.000, train_f1_score=1.000, val_loss=0.367, val_accuracy=0.909, val_f1_score=0.909]\n",
      "Epoch 96:  97%|█████████▋| 248/255 [01:36<00:02,  2.58it/s, loss=0.07, v_num=4, train_loss=0.00383, train_accuracy=1.000, train_f1_score=1.000, val_loss=0.367, val_accuracy=0.909, val_f1_score=0.909]\n",
      "Epoch 96:  98%|█████████▊| 250/255 [01:36<00:01,  2.59it/s, loss=0.07, v_num=4, train_loss=0.00383, train_accuracy=1.000, train_f1_score=1.000, val_loss=0.367, val_accuracy=0.909, val_f1_score=0.909]\n",
      "Epoch 96:  99%|█████████▉| 252/255 [01:36<00:01,  2.61it/s, loss=0.07, v_num=4, train_loss=0.00383, train_accuracy=1.000, train_f1_score=1.000, val_loss=0.367, val_accuracy=0.909, val_f1_score=0.909]\n",
      "Epoch 96: 100%|█████████▉| 254/255 [01:36<00:00,  2.62it/s, loss=0.07, v_num=4, train_loss=0.00383, train_accuracy=1.000, train_f1_score=1.000, val_loss=0.367, val_accuracy=0.909, val_f1_score=0.909]\n",
      "Epoch 96: 100%|██████████| 255/255 [01:37<00:00,  2.60it/s, loss=0.07, v_num=4, train_loss=0.00383, train_accuracy=1.000, train_f1_score=1.000, val_loss=0.312, val_accuracy=0.917, val_f1_score=0.917]\n",
      "Epoch 96: 100%|██████████| 255/255 [01:37<00:00,  2.60it/s, loss=0.07, v_num=4, train_loss=0.00383, train_accuracy=1.000, train_f1_score=1.000, val_loss=0.312, val_accuracy=0.917, val_f1_score=0.917]"
     ]
    },
    {
     "name": "stderr",
     "output_type": "stream",
     "text": [
      "Epoch 96, global step 21921: val_loss was not in top 2\n"
     ]
    },
    {
     "name": "stdout",
     "output_type": "stream",
     "text": [
      "Epoch 97:  89%|████████▊ | 226/255 [01:26<00:11,  2.61it/s, loss=0.0707, v_num=4, train_loss=0.165, train_accuracy=0.944, train_f1_score=0.944, val_loss=0.312, val_accuracy=0.917, val_f1_score=0.917]  \n",
      "Validating: 0it [00:00, ?it/s]\u001b[A\n",
      "Validating:   0%|          | 0/29 [00:00<?, ?it/s]\u001b[A\n",
      "Epoch 97:  89%|████████▉ | 228/255 [01:34<00:11,  2.42it/s, loss=0.0707, v_num=4, train_loss=0.165, train_accuracy=0.944, train_f1_score=0.944, val_loss=0.312, val_accuracy=0.917, val_f1_score=0.917]\n",
      "Epoch 97:  90%|█████████ | 230/255 [01:34<00:10,  2.43it/s, loss=0.0707, v_num=4, train_loss=0.165, train_accuracy=0.944, train_f1_score=0.944, val_loss=0.312, val_accuracy=0.917, val_f1_score=0.917]\n",
      "Epoch 97:  91%|█████████ | 232/255 [01:34<00:09,  2.45it/s, loss=0.0707, v_num=4, train_loss=0.165, train_accuracy=0.944, train_f1_score=0.944, val_loss=0.312, val_accuracy=0.917, val_f1_score=0.917]\n",
      "Epoch 97:  92%|█████████▏| 234/255 [01:34<00:08,  2.47it/s, loss=0.0707, v_num=4, train_loss=0.165, train_accuracy=0.944, train_f1_score=0.944, val_loss=0.312, val_accuracy=0.917, val_f1_score=0.917]\n",
      "Epoch 97:  93%|█████████▎| 236/255 [01:35<00:07,  2.48it/s, loss=0.0707, v_num=4, train_loss=0.165, train_accuracy=0.944, train_f1_score=0.944, val_loss=0.312, val_accuracy=0.917, val_f1_score=0.917]\n",
      "Epoch 97:  93%|█████████▎| 238/255 [01:35<00:06,  2.50it/s, loss=0.0707, v_num=4, train_loss=0.165, train_accuracy=0.944, train_f1_score=0.944, val_loss=0.312, val_accuracy=0.917, val_f1_score=0.917]\n",
      "Epoch 97:  94%|█████████▍| 240/255 [01:35<00:05,  2.51it/s, loss=0.0707, v_num=4, train_loss=0.165, train_accuracy=0.944, train_f1_score=0.944, val_loss=0.312, val_accuracy=0.917, val_f1_score=0.917]\n",
      "Epoch 97:  95%|█████████▍| 242/255 [01:35<00:05,  2.53it/s, loss=0.0707, v_num=4, train_loss=0.165, train_accuracy=0.944, train_f1_score=0.944, val_loss=0.312, val_accuracy=0.917, val_f1_score=0.917]\n",
      "Epoch 97:  96%|█████████▌| 244/255 [01:35<00:04,  2.55it/s, loss=0.0707, v_num=4, train_loss=0.165, train_accuracy=0.944, train_f1_score=0.944, val_loss=0.312, val_accuracy=0.917, val_f1_score=0.917]\n",
      "Epoch 97:  96%|█████████▋| 246/255 [01:35<00:03,  2.56it/s, loss=0.0707, v_num=4, train_loss=0.165, train_accuracy=0.944, train_f1_score=0.944, val_loss=0.312, val_accuracy=0.917, val_f1_score=0.917]\n",
      "Epoch 97:  97%|█████████▋| 248/255 [01:36<00:02,  2.58it/s, loss=0.0707, v_num=4, train_loss=0.165, train_accuracy=0.944, train_f1_score=0.944, val_loss=0.312, val_accuracy=0.917, val_f1_score=0.917]\n",
      "Epoch 97:  98%|█████████▊| 250/255 [01:36<00:01,  2.60it/s, loss=0.0707, v_num=4, train_loss=0.165, train_accuracy=0.944, train_f1_score=0.944, val_loss=0.312, val_accuracy=0.917, val_f1_score=0.917]\n",
      "Epoch 97:  99%|█████████▉| 252/255 [01:36<00:01,  2.61it/s, loss=0.0707, v_num=4, train_loss=0.165, train_accuracy=0.944, train_f1_score=0.944, val_loss=0.312, val_accuracy=0.917, val_f1_score=0.917]\n",
      "Epoch 97: 100%|█████████▉| 254/255 [01:36<00:00,  2.63it/s, loss=0.0707, v_num=4, train_loss=0.165, train_accuracy=0.944, train_f1_score=0.944, val_loss=0.312, val_accuracy=0.917, val_f1_score=0.917]\n",
      "Epoch 97: 100%|██████████| 255/255 [01:37<00:00,  2.61it/s, loss=0.0707, v_num=4, train_loss=0.165, train_accuracy=0.944, train_f1_score=0.944, val_loss=0.283, val_accuracy=0.914, val_f1_score=0.914]\n",
      "Epoch 97: 100%|██████████| 255/255 [01:37<00:00,  2.61it/s, loss=0.0707, v_num=4, train_loss=0.165, train_accuracy=0.944, train_f1_score=0.944, val_loss=0.283, val_accuracy=0.914, val_f1_score=0.914]"
     ]
    },
    {
     "name": "stderr",
     "output_type": "stream",
     "text": [
      "Epoch 97, global step 22147: val_loss was not in top 2\n"
     ]
    },
    {
     "name": "stdout",
     "output_type": "stream",
     "text": [
      "Epoch 98:  89%|████████▊ | 226/255 [01:26<00:11,  2.61it/s, loss=0.0464, v_num=4, train_loss=0.0052, train_accuracy=1.000, train_f1_score=1.000, val_loss=0.283, val_accuracy=0.914, val_f1_score=0.914] \n",
      "Validating: 0it [00:00, ?it/s]\u001b[A\n",
      "Validating:   0%|          | 0/29 [00:00<?, ?it/s]\u001b[A\n",
      "Epoch 98:  89%|████████▉ | 228/255 [01:34<00:11,  2.42it/s, loss=0.0464, v_num=4, train_loss=0.0052, train_accuracy=1.000, train_f1_score=1.000, val_loss=0.283, val_accuracy=0.914, val_f1_score=0.914]\n",
      "Validating:   7%|▋         | 2/29 [00:07<01:27,  3.23s/it]\u001b[A\n",
      "Epoch 98:  90%|█████████ | 230/255 [01:34<00:10,  2.43it/s, loss=0.0464, v_num=4, train_loss=0.0052, train_accuracy=1.000, train_f1_score=1.000, val_loss=0.283, val_accuracy=0.914, val_f1_score=0.914]\n",
      "Epoch 98:  91%|█████████ | 232/255 [01:34<00:09,  2.45it/s, loss=0.0464, v_num=4, train_loss=0.0052, train_accuracy=1.000, train_f1_score=1.000, val_loss=0.283, val_accuracy=0.914, val_f1_score=0.914]\n",
      "Epoch 98:  92%|█████████▏| 234/255 [01:34<00:08,  2.46it/s, loss=0.0464, v_num=4, train_loss=0.0052, train_accuracy=1.000, train_f1_score=1.000, val_loss=0.283, val_accuracy=0.914, val_f1_score=0.914]\n",
      "Epoch 98:  93%|█████████▎| 236/255 [01:35<00:07,  2.48it/s, loss=0.0464, v_num=4, train_loss=0.0052, train_accuracy=1.000, train_f1_score=1.000, val_loss=0.283, val_accuracy=0.914, val_f1_score=0.914]\n",
      "Epoch 98:  93%|█████████▎| 238/255 [01:35<00:06,  2.50it/s, loss=0.0464, v_num=4, train_loss=0.0052, train_accuracy=1.000, train_f1_score=1.000, val_loss=0.283, val_accuracy=0.914, val_f1_score=0.914]\n",
      "Epoch 98:  94%|█████████▍| 240/255 [01:35<00:05,  2.51it/s, loss=0.0464, v_num=4, train_loss=0.0052, train_accuracy=1.000, train_f1_score=1.000, val_loss=0.283, val_accuracy=0.914, val_f1_score=0.914]\n",
      "Epoch 98:  95%|█████████▍| 242/255 [01:35<00:05,  2.53it/s, loss=0.0464, v_num=4, train_loss=0.0052, train_accuracy=1.000, train_f1_score=1.000, val_loss=0.283, val_accuracy=0.914, val_f1_score=0.914]\n",
      "Epoch 98:  96%|█████████▌| 244/255 [01:35<00:04,  2.54it/s, loss=0.0464, v_num=4, train_loss=0.0052, train_accuracy=1.000, train_f1_score=1.000, val_loss=0.283, val_accuracy=0.914, val_f1_score=0.914]\n",
      "Epoch 98:  96%|█████████▋| 246/255 [01:36<00:03,  2.56it/s, loss=0.0464, v_num=4, train_loss=0.0052, train_accuracy=1.000, train_f1_score=1.000, val_loss=0.283, val_accuracy=0.914, val_f1_score=0.914]\n",
      "Epoch 98:  97%|█████████▋| 248/255 [01:36<00:02,  2.58it/s, loss=0.0464, v_num=4, train_loss=0.0052, train_accuracy=1.000, train_f1_score=1.000, val_loss=0.283, val_accuracy=0.914, val_f1_score=0.914]\n",
      "Epoch 98:  98%|█████████▊| 250/255 [01:36<00:01,  2.59it/s, loss=0.0464, v_num=4, train_loss=0.0052, train_accuracy=1.000, train_f1_score=1.000, val_loss=0.283, val_accuracy=0.914, val_f1_score=0.914]\n",
      "Epoch 98:  99%|█████████▉| 252/255 [01:36<00:01,  2.61it/s, loss=0.0464, v_num=4, train_loss=0.0052, train_accuracy=1.000, train_f1_score=1.000, val_loss=0.283, val_accuracy=0.914, val_f1_score=0.914]\n",
      "Epoch 98: 100%|█████████▉| 254/255 [01:36<00:00,  2.63it/s, loss=0.0464, v_num=4, train_loss=0.0052, train_accuracy=1.000, train_f1_score=1.000, val_loss=0.283, val_accuracy=0.914, val_f1_score=0.914]\n",
      "Epoch 98: 100%|██████████| 255/255 [01:37<00:00,  2.61it/s, loss=0.0464, v_num=4, train_loss=0.0052, train_accuracy=1.000, train_f1_score=1.000, val_loss=0.377, val_accuracy=0.903, val_f1_score=0.903]\n",
      "Epoch 98: 100%|██████████| 255/255 [01:37<00:00,  2.61it/s, loss=0.0464, v_num=4, train_loss=0.0052, train_accuracy=1.000, train_f1_score=1.000, val_loss=0.377, val_accuracy=0.903, val_f1_score=0.903]"
     ]
    },
    {
     "name": "stderr",
     "output_type": "stream",
     "text": [
      "Epoch 98, global step 22373: val_loss was not in top 2\n"
     ]
    },
    {
     "name": "stdout",
     "output_type": "stream",
     "text": [
      "Epoch 99:  89%|████████▊ | 226/255 [01:26<00:11,  2.61it/s, loss=0.0685, v_num=4, train_loss=0.0755, train_accuracy=0.944, train_f1_score=0.944, val_loss=0.377, val_accuracy=0.903, val_f1_score=0.903] \n",
      "Validating: 0it [00:00, ?it/s]\u001b[A\n",
      "Validating:   0%|          | 0/29 [00:00<?, ?it/s]\u001b[A\n",
      "Epoch 99:  89%|████████▉ | 228/255 [01:34<00:11,  2.42it/s, loss=0.0685, v_num=4, train_loss=0.0755, train_accuracy=0.944, train_f1_score=0.944, val_loss=0.377, val_accuracy=0.903, val_f1_score=0.903]\n",
      "Epoch 99:  90%|█████████ | 230/255 [01:34<00:10,  2.44it/s, loss=0.0685, v_num=4, train_loss=0.0755, train_accuracy=0.944, train_f1_score=0.944, val_loss=0.377, val_accuracy=0.903, val_f1_score=0.903]\n",
      "Epoch 99:  91%|█████████ | 232/255 [01:34<00:09,  2.45it/s, loss=0.0685, v_num=4, train_loss=0.0755, train_accuracy=0.944, train_f1_score=0.944, val_loss=0.377, val_accuracy=0.903, val_f1_score=0.903]\n",
      "Epoch 99:  92%|█████████▏| 234/255 [01:34<00:08,  2.47it/s, loss=0.0685, v_num=4, train_loss=0.0755, train_accuracy=0.944, train_f1_score=0.944, val_loss=0.377, val_accuracy=0.903, val_f1_score=0.903]\n",
      "Epoch 99:  93%|█████████▎| 236/255 [01:34<00:07,  2.49it/s, loss=0.0685, v_num=4, train_loss=0.0755, train_accuracy=0.944, train_f1_score=0.944, val_loss=0.377, val_accuracy=0.903, val_f1_score=0.903]\n",
      "Epoch 99:  93%|█████████▎| 238/255 [01:35<00:06,  2.50it/s, loss=0.0685, v_num=4, train_loss=0.0755, train_accuracy=0.944, train_f1_score=0.944, val_loss=0.377, val_accuracy=0.903, val_f1_score=0.903]\n",
      "Epoch 99:  94%|█████████▍| 240/255 [01:35<00:05,  2.52it/s, loss=0.0685, v_num=4, train_loss=0.0755, train_accuracy=0.944, train_f1_score=0.944, val_loss=0.377, val_accuracy=0.903, val_f1_score=0.903]\n",
      "Epoch 99:  95%|█████████▍| 242/255 [01:35<00:05,  2.54it/s, loss=0.0685, v_num=4, train_loss=0.0755, train_accuracy=0.944, train_f1_score=0.944, val_loss=0.377, val_accuracy=0.903, val_f1_score=0.903]\n",
      "Epoch 99:  96%|█████████▌| 244/255 [01:35<00:04,  2.55it/s, loss=0.0685, v_num=4, train_loss=0.0755, train_accuracy=0.944, train_f1_score=0.944, val_loss=0.377, val_accuracy=0.903, val_f1_score=0.903]\n",
      "Epoch 99:  96%|█████████▋| 246/255 [01:35<00:03,  2.57it/s, loss=0.0685, v_num=4, train_loss=0.0755, train_accuracy=0.944, train_f1_score=0.944, val_loss=0.377, val_accuracy=0.903, val_f1_score=0.903]\n",
      "Epoch 99:  97%|█████████▋| 248/255 [01:35<00:02,  2.58it/s, loss=0.0685, v_num=4, train_loss=0.0755, train_accuracy=0.944, train_f1_score=0.944, val_loss=0.377, val_accuracy=0.903, val_f1_score=0.903]\n",
      "Epoch 99:  98%|█████████▊| 250/255 [01:36<00:01,  2.60it/s, loss=0.0685, v_num=4, train_loss=0.0755, train_accuracy=0.944, train_f1_score=0.944, val_loss=0.377, val_accuracy=0.903, val_f1_score=0.903]\n",
      "Epoch 99:  99%|█████████▉| 252/255 [01:36<00:01,  2.62it/s, loss=0.0685, v_num=4, train_loss=0.0755, train_accuracy=0.944, train_f1_score=0.944, val_loss=0.377, val_accuracy=0.903, val_f1_score=0.903]\n",
      "Epoch 99: 100%|█████████▉| 254/255 [01:36<00:00,  2.63it/s, loss=0.0685, v_num=4, train_loss=0.0755, train_accuracy=0.944, train_f1_score=0.944, val_loss=0.377, val_accuracy=0.903, val_f1_score=0.903]\n",
      "Epoch 99: 100%|██████████| 255/255 [01:37<00:00,  2.61it/s, loss=0.0685, v_num=4, train_loss=0.0755, train_accuracy=0.944, train_f1_score=0.944, val_loss=0.345, val_accuracy=0.913, val_f1_score=0.913]\n",
      "Epoch 99: 100%|██████████| 255/255 [01:37<00:00,  2.61it/s, loss=0.0685, v_num=4, train_loss=0.0755, train_accuracy=0.944, train_f1_score=0.944, val_loss=0.345, val_accuracy=0.913, val_f1_score=0.913]"
     ]
    },
    {
     "name": "stderr",
     "output_type": "stream",
     "text": [
      "Epoch 99, global step 22599: val_loss was not in top 2\n"
     ]
    },
    {
     "name": "stdout",
     "output_type": "stream",
     "text": [
      "Epoch 100:  89%|████████▊ | 226/255 [01:27<00:11,  2.59it/s, loss=0.0407, v_num=4, train_loss=0.0484, train_accuracy=1.000, train_f1_score=1.000, val_loss=0.345, val_accuracy=0.913, val_f1_score=0.913] \n",
      "Validating: 0it [00:00, ?it/s]\u001b[A\n",
      "Validating:   0%|          | 0/29 [00:00<?, ?it/s]\u001b[A\n",
      "Epoch 100:  89%|████████▉ | 228/255 [01:34<00:11,  2.40it/s, loss=0.0407, v_num=4, train_loss=0.0484, train_accuracy=1.000, train_f1_score=1.000, val_loss=0.345, val_accuracy=0.913, val_f1_score=0.913]\n",
      "Epoch 100:  90%|█████████ | 230/255 [01:35<00:10,  2.42it/s, loss=0.0407, v_num=4, train_loss=0.0484, train_accuracy=1.000, train_f1_score=1.000, val_loss=0.345, val_accuracy=0.913, val_f1_score=0.913]\n",
      "Epoch 100:  91%|█████████ | 232/255 [01:35<00:09,  2.43it/s, loss=0.0407, v_num=4, train_loss=0.0484, train_accuracy=1.000, train_f1_score=1.000, val_loss=0.345, val_accuracy=0.913, val_f1_score=0.913]\n",
      "Epoch 100:  92%|█████████▏| 234/255 [01:35<00:08,  2.45it/s, loss=0.0407, v_num=4, train_loss=0.0484, train_accuracy=1.000, train_f1_score=1.000, val_loss=0.345, val_accuracy=0.913, val_f1_score=0.913]\n",
      "Epoch 100:  93%|█████████▎| 236/255 [01:35<00:07,  2.47it/s, loss=0.0407, v_num=4, train_loss=0.0484, train_accuracy=1.000, train_f1_score=1.000, val_loss=0.345, val_accuracy=0.913, val_f1_score=0.913]\n",
      "Epoch 100:  93%|█████████▎| 238/255 [01:35<00:06,  2.48it/s, loss=0.0407, v_num=4, train_loss=0.0484, train_accuracy=1.000, train_f1_score=1.000, val_loss=0.345, val_accuracy=0.913, val_f1_score=0.913]\n",
      "Epoch 100:  94%|█████████▍| 240/255 [01:36<00:06,  2.50it/s, loss=0.0407, v_num=4, train_loss=0.0484, train_accuracy=1.000, train_f1_score=1.000, val_loss=0.345, val_accuracy=0.913, val_f1_score=0.913]\n",
      "Epoch 100:  95%|█████████▍| 242/255 [01:36<00:05,  2.52it/s, loss=0.0407, v_num=4, train_loss=0.0484, train_accuracy=1.000, train_f1_score=1.000, val_loss=0.345, val_accuracy=0.913, val_f1_score=0.913]\n",
      "Epoch 100:  96%|█████████▌| 244/255 [01:36<00:04,  2.53it/s, loss=0.0407, v_num=4, train_loss=0.0484, train_accuracy=1.000, train_f1_score=1.000, val_loss=0.345, val_accuracy=0.913, val_f1_score=0.913]\n",
      "Epoch 100:  96%|█████████▋| 246/255 [01:36<00:03,  2.55it/s, loss=0.0407, v_num=4, train_loss=0.0484, train_accuracy=1.000, train_f1_score=1.000, val_loss=0.345, val_accuracy=0.913, val_f1_score=0.913]\n",
      "Epoch 100:  97%|█████████▋| 248/255 [01:36<00:02,  2.57it/s, loss=0.0407, v_num=4, train_loss=0.0484, train_accuracy=1.000, train_f1_score=1.000, val_loss=0.345, val_accuracy=0.913, val_f1_score=0.913]\n",
      "Epoch 100:  98%|█████████▊| 250/255 [01:36<00:01,  2.58it/s, loss=0.0407, v_num=4, train_loss=0.0484, train_accuracy=1.000, train_f1_score=1.000, val_loss=0.345, val_accuracy=0.913, val_f1_score=0.913]\n",
      "Epoch 100:  99%|█████████▉| 252/255 [01:36<00:01,  2.60it/s, loss=0.0407, v_num=4, train_loss=0.0484, train_accuracy=1.000, train_f1_score=1.000, val_loss=0.345, val_accuracy=0.913, val_f1_score=0.913]\n",
      "Epoch 100: 100%|█████████▉| 254/255 [01:37<00:00,  2.62it/s, loss=0.0407, v_num=4, train_loss=0.0484, train_accuracy=1.000, train_f1_score=1.000, val_loss=0.345, val_accuracy=0.913, val_f1_score=0.913]\n",
      "Epoch 100: 100%|██████████| 255/255 [01:38<00:00,  2.59it/s, loss=0.0407, v_num=4, train_loss=0.0484, train_accuracy=1.000, train_f1_score=1.000, val_loss=0.347, val_accuracy=0.920, val_f1_score=0.920]\n",
      "Epoch 100: 100%|██████████| 255/255 [01:38<00:00,  2.59it/s, loss=0.0407, v_num=4, train_loss=0.0484, train_accuracy=1.000, train_f1_score=1.000, val_loss=0.347, val_accuracy=0.920, val_f1_score=0.920]"
     ]
    },
    {
     "name": "stderr",
     "output_type": "stream",
     "text": [
      "Epoch 100, global step 22825: val_loss was not in top 2\n"
     ]
    },
    {
     "name": "stdout",
     "output_type": "stream",
     "text": [
      "Epoch 101:  89%|████████▊ | 226/255 [01:27<00:11,  2.58it/s, loss=0.026, v_num=4, train_loss=0.00427, train_accuracy=1.000, train_f1_score=1.000, val_loss=0.347, val_accuracy=0.920, val_f1_score=0.920] \n",
      "Validating: 0it [00:00, ?it/s]\u001b[A\n",
      "Validating:   0%|          | 0/29 [00:00<?, ?it/s]\u001b[A\n",
      "Epoch 101:  89%|████████▉ | 228/255 [01:35<00:11,  2.39it/s, loss=0.026, v_num=4, train_loss=0.00427, train_accuracy=1.000, train_f1_score=1.000, val_loss=0.347, val_accuracy=0.920, val_f1_score=0.920]\n",
      "Epoch 101:  90%|█████████ | 230/255 [01:35<00:10,  2.41it/s, loss=0.026, v_num=4, train_loss=0.00427, train_accuracy=1.000, train_f1_score=1.000, val_loss=0.347, val_accuracy=0.920, val_f1_score=0.920]\n",
      "Epoch 101:  91%|█████████ | 232/255 [01:35<00:09,  2.42it/s, loss=0.026, v_num=4, train_loss=0.00427, train_accuracy=1.000, train_f1_score=1.000, val_loss=0.347, val_accuracy=0.920, val_f1_score=0.920]\n",
      "Epoch 101:  92%|█████████▏| 234/255 [01:35<00:08,  2.44it/s, loss=0.026, v_num=4, train_loss=0.00427, train_accuracy=1.000, train_f1_score=1.000, val_loss=0.347, val_accuracy=0.920, val_f1_score=0.920]\n",
      "Epoch 101:  93%|█████████▎| 236/255 [01:36<00:07,  2.46it/s, loss=0.026, v_num=4, train_loss=0.00427, train_accuracy=1.000, train_f1_score=1.000, val_loss=0.347, val_accuracy=0.920, val_f1_score=0.920]\n",
      "Epoch 101:  93%|█████████▎| 238/255 [01:36<00:06,  2.47it/s, loss=0.026, v_num=4, train_loss=0.00427, train_accuracy=1.000, train_f1_score=1.000, val_loss=0.347, val_accuracy=0.920, val_f1_score=0.920]\n",
      "Epoch 101:  94%|█████████▍| 240/255 [01:36<00:06,  2.49it/s, loss=0.026, v_num=4, train_loss=0.00427, train_accuracy=1.000, train_f1_score=1.000, val_loss=0.347, val_accuracy=0.920, val_f1_score=0.920]\n",
      "Epoch 101:  95%|█████████▍| 242/255 [01:36<00:05,  2.51it/s, loss=0.026, v_num=4, train_loss=0.00427, train_accuracy=1.000, train_f1_score=1.000, val_loss=0.347, val_accuracy=0.920, val_f1_score=0.920]\n",
      "Epoch 101:  96%|█████████▌| 244/255 [01:36<00:04,  2.52it/s, loss=0.026, v_num=4, train_loss=0.00427, train_accuracy=1.000, train_f1_score=1.000, val_loss=0.347, val_accuracy=0.920, val_f1_score=0.920]\n",
      "Epoch 101:  96%|█████████▋| 246/255 [01:36<00:03,  2.54it/s, loss=0.026, v_num=4, train_loss=0.00427, train_accuracy=1.000, train_f1_score=1.000, val_loss=0.347, val_accuracy=0.920, val_f1_score=0.920]\n",
      "Epoch 101:  97%|█████████▋| 248/255 [01:37<00:02,  2.56it/s, loss=0.026, v_num=4, train_loss=0.00427, train_accuracy=1.000, train_f1_score=1.000, val_loss=0.347, val_accuracy=0.920, val_f1_score=0.920]\n",
      "Epoch 101:  98%|█████████▊| 250/255 [01:37<00:01,  2.57it/s, loss=0.026, v_num=4, train_loss=0.00427, train_accuracy=1.000, train_f1_score=1.000, val_loss=0.347, val_accuracy=0.920, val_f1_score=0.920]\n",
      "Epoch 101:  99%|█████████▉| 252/255 [01:37<00:01,  2.59it/s, loss=0.026, v_num=4, train_loss=0.00427, train_accuracy=1.000, train_f1_score=1.000, val_loss=0.347, val_accuracy=0.920, val_f1_score=0.920]\n",
      "Epoch 101: 100%|█████████▉| 254/255 [01:37<00:00,  2.61it/s, loss=0.026, v_num=4, train_loss=0.00427, train_accuracy=1.000, train_f1_score=1.000, val_loss=0.347, val_accuracy=0.920, val_f1_score=0.920]\n",
      "Epoch 101: 100%|██████████| 255/255 [01:38<00:00,  2.59it/s, loss=0.026, v_num=4, train_loss=0.00427, train_accuracy=1.000, train_f1_score=1.000, val_loss=0.309, val_accuracy=0.917, val_f1_score=0.917]\n",
      "Epoch 101: 100%|██████████| 255/255 [01:38<00:00,  2.59it/s, loss=0.026, v_num=4, train_loss=0.00427, train_accuracy=1.000, train_f1_score=1.000, val_loss=0.309, val_accuracy=0.917, val_f1_score=0.917]"
     ]
    },
    {
     "name": "stderr",
     "output_type": "stream",
     "text": [
      "Epoch 101, global step 23051: val_loss was not in top 2\n"
     ]
    },
    {
     "name": "stdout",
     "output_type": "stream",
     "text": [
      "Epoch 102:  89%|████████▊ | 226/255 [01:27<00:11,  2.59it/s, loss=0.0657, v_num=4, train_loss=0.127, train_accuracy=0.889, train_f1_score=0.889, val_loss=0.309, val_accuracy=0.917, val_f1_score=0.917]  \n",
      "Validating: 0it [00:00, ?it/s]\u001b[A\n",
      "Validating:   0%|          | 0/29 [00:00<?, ?it/s]\u001b[A\n",
      "Epoch 102:  89%|████████▉ | 228/255 [01:35<00:11,  2.40it/s, loss=0.0657, v_num=4, train_loss=0.127, train_accuracy=0.889, train_f1_score=0.889, val_loss=0.309, val_accuracy=0.917, val_f1_score=0.917]\n",
      "Epoch 102:  90%|█████████ | 230/255 [01:35<00:10,  2.41it/s, loss=0.0657, v_num=4, train_loss=0.127, train_accuracy=0.889, train_f1_score=0.889, val_loss=0.309, val_accuracy=0.917, val_f1_score=0.917]\n",
      "Epoch 102:  91%|█████████ | 232/255 [01:35<00:09,  2.43it/s, loss=0.0657, v_num=4, train_loss=0.127, train_accuracy=0.889, train_f1_score=0.889, val_loss=0.309, val_accuracy=0.917, val_f1_score=0.917]\n",
      "Epoch 102:  92%|█████████▏| 234/255 [01:35<00:08,  2.45it/s, loss=0.0657, v_num=4, train_loss=0.127, train_accuracy=0.889, train_f1_score=0.889, val_loss=0.309, val_accuracy=0.917, val_f1_score=0.917]\n",
      "Epoch 102:  93%|█████████▎| 236/255 [01:35<00:07,  2.46it/s, loss=0.0657, v_num=4, train_loss=0.127, train_accuracy=0.889, train_f1_score=0.889, val_loss=0.309, val_accuracy=0.917, val_f1_score=0.917]\n",
      "Epoch 102:  93%|█████████▎| 238/255 [01:35<00:06,  2.48it/s, loss=0.0657, v_num=4, train_loss=0.127, train_accuracy=0.889, train_f1_score=0.889, val_loss=0.309, val_accuracy=0.917, val_f1_score=0.917]\n",
      "Epoch 102:  94%|█████████▍| 240/255 [01:36<00:06,  2.50it/s, loss=0.0657, v_num=4, train_loss=0.127, train_accuracy=0.889, train_f1_score=0.889, val_loss=0.309, val_accuracy=0.917, val_f1_score=0.917]\n",
      "Epoch 102:  95%|█████████▍| 242/255 [01:36<00:05,  2.51it/s, loss=0.0657, v_num=4, train_loss=0.127, train_accuracy=0.889, train_f1_score=0.889, val_loss=0.309, val_accuracy=0.917, val_f1_score=0.917]\n",
      "Epoch 102:  96%|█████████▌| 244/255 [01:36<00:04,  2.53it/s, loss=0.0657, v_num=4, train_loss=0.127, train_accuracy=0.889, train_f1_score=0.889, val_loss=0.309, val_accuracy=0.917, val_f1_score=0.917]\n",
      "Epoch 102:  96%|█████████▋| 246/255 [01:36<00:03,  2.54it/s, loss=0.0657, v_num=4, train_loss=0.127, train_accuracy=0.889, train_f1_score=0.889, val_loss=0.309, val_accuracy=0.917, val_f1_score=0.917]\n",
      "Epoch 102:  97%|█████████▋| 248/255 [01:36<00:02,  2.56it/s, loss=0.0657, v_num=4, train_loss=0.127, train_accuracy=0.889, train_f1_score=0.889, val_loss=0.309, val_accuracy=0.917, val_f1_score=0.917]\n",
      "Epoch 102:  98%|█████████▊| 250/255 [01:36<00:01,  2.58it/s, loss=0.0657, v_num=4, train_loss=0.127, train_accuracy=0.889, train_f1_score=0.889, val_loss=0.309, val_accuracy=0.917, val_f1_score=0.917]\n",
      "Epoch 102:  99%|█████████▉| 252/255 [01:37<00:01,  2.59it/s, loss=0.0657, v_num=4, train_loss=0.127, train_accuracy=0.889, train_f1_score=0.889, val_loss=0.309, val_accuracy=0.917, val_f1_score=0.917]\n",
      "Epoch 102: 100%|█████████▉| 254/255 [01:37<00:00,  2.61it/s, loss=0.0657, v_num=4, train_loss=0.127, train_accuracy=0.889, train_f1_score=0.889, val_loss=0.309, val_accuracy=0.917, val_f1_score=0.917]\n",
      "Epoch 102: 100%|██████████| 255/255 [01:38<00:00,  2.59it/s, loss=0.0657, v_num=4, train_loss=0.127, train_accuracy=0.889, train_f1_score=0.889, val_loss=0.297, val_accuracy=0.918, val_f1_score=0.918]\n",
      "Epoch 102: 100%|██████████| 255/255 [01:38<00:00,  2.59it/s, loss=0.0657, v_num=4, train_loss=0.127, train_accuracy=0.889, train_f1_score=0.889, val_loss=0.297, val_accuracy=0.918, val_f1_score=0.918]"
     ]
    },
    {
     "name": "stderr",
     "output_type": "stream",
     "text": [
      "Epoch 102, global step 23277: val_loss was not in top 2\n"
     ]
    },
    {
     "name": "stdout",
     "output_type": "stream",
     "text": [
      "Epoch 103:  89%|████████▊ | 226/255 [01:26<00:11,  2.60it/s, loss=0.0358, v_num=4, train_loss=0.00194, train_accuracy=1.000, train_f1_score=1.000, val_loss=0.297, val_accuracy=0.918, val_f1_score=0.918]\n",
      "Validating: 0it [00:00, ?it/s]\u001b[A\n",
      "Validating:   0%|          | 0/29 [00:00<?, ?it/s]\u001b[A\n",
      "Epoch 103:  89%|████████▉ | 228/255 [01:34<00:11,  2.41it/s, loss=0.0358, v_num=4, train_loss=0.00194, train_accuracy=1.000, train_f1_score=1.000, val_loss=0.297, val_accuracy=0.918, val_f1_score=0.918]\n",
      "Epoch 103:  90%|█████████ | 230/255 [01:34<00:10,  2.43it/s, loss=0.0358, v_num=4, train_loss=0.00194, train_accuracy=1.000, train_f1_score=1.000, val_loss=0.297, val_accuracy=0.918, val_f1_score=0.918]\n",
      "Epoch 103:  91%|█████████ | 232/255 [01:34<00:09,  2.45it/s, loss=0.0358, v_num=4, train_loss=0.00194, train_accuracy=1.000, train_f1_score=1.000, val_loss=0.297, val_accuracy=0.918, val_f1_score=0.918]\n",
      "Epoch 103:  92%|█████████▏| 234/255 [01:34<00:08,  2.46it/s, loss=0.0358, v_num=4, train_loss=0.00194, train_accuracy=1.000, train_f1_score=1.000, val_loss=0.297, val_accuracy=0.918, val_f1_score=0.918]\n",
      "Epoch 103:  93%|█████████▎| 236/255 [01:35<00:07,  2.48it/s, loss=0.0358, v_num=4, train_loss=0.00194, train_accuracy=1.000, train_f1_score=1.000, val_loss=0.297, val_accuracy=0.918, val_f1_score=0.918]\n",
      "Epoch 103:  93%|█████████▎| 238/255 [01:35<00:06,  2.50it/s, loss=0.0358, v_num=4, train_loss=0.00194, train_accuracy=1.000, train_f1_score=1.000, val_loss=0.297, val_accuracy=0.918, val_f1_score=0.918]\n",
      "Epoch 103:  94%|█████████▍| 240/255 [01:35<00:05,  2.51it/s, loss=0.0358, v_num=4, train_loss=0.00194, train_accuracy=1.000, train_f1_score=1.000, val_loss=0.297, val_accuracy=0.918, val_f1_score=0.918]\n",
      "Epoch 103:  95%|█████████▍| 242/255 [01:35<00:05,  2.53it/s, loss=0.0358, v_num=4, train_loss=0.00194, train_accuracy=1.000, train_f1_score=1.000, val_loss=0.297, val_accuracy=0.918, val_f1_score=0.918]\n",
      "Epoch 103:  96%|█████████▌| 244/255 [01:35<00:04,  2.55it/s, loss=0.0358, v_num=4, train_loss=0.00194, train_accuracy=1.000, train_f1_score=1.000, val_loss=0.297, val_accuracy=0.918, val_f1_score=0.918]\n",
      "Epoch 103:  96%|█████████▋| 246/255 [01:36<00:03,  2.56it/s, loss=0.0358, v_num=4, train_loss=0.00194, train_accuracy=1.000, train_f1_score=1.000, val_loss=0.297, val_accuracy=0.918, val_f1_score=0.918]\n",
      "Epoch 103:  97%|█████████▋| 248/255 [01:36<00:02,  2.58it/s, loss=0.0358, v_num=4, train_loss=0.00194, train_accuracy=1.000, train_f1_score=1.000, val_loss=0.297, val_accuracy=0.918, val_f1_score=0.918]\n",
      "Epoch 103:  98%|█████████▊| 250/255 [01:36<00:01,  2.59it/s, loss=0.0358, v_num=4, train_loss=0.00194, train_accuracy=1.000, train_f1_score=1.000, val_loss=0.297, val_accuracy=0.918, val_f1_score=0.918]\n",
      "Epoch 103:  99%|█████████▉| 252/255 [01:36<00:01,  2.61it/s, loss=0.0358, v_num=4, train_loss=0.00194, train_accuracy=1.000, train_f1_score=1.000, val_loss=0.297, val_accuracy=0.918, val_f1_score=0.918]\n",
      "Epoch 103: 100%|█████████▉| 254/255 [01:36<00:00,  2.63it/s, loss=0.0358, v_num=4, train_loss=0.00194, train_accuracy=1.000, train_f1_score=1.000, val_loss=0.297, val_accuracy=0.918, val_f1_score=0.918]\n",
      "Epoch 103: 100%|██████████| 255/255 [01:37<00:00,  2.60it/s, loss=0.0358, v_num=4, train_loss=0.00194, train_accuracy=1.000, train_f1_score=1.000, val_loss=0.327, val_accuracy=0.918, val_f1_score=0.918]\n",
      "Epoch 103: 100%|██████████| 255/255 [01:37<00:00,  2.60it/s, loss=0.0358, v_num=4, train_loss=0.00194, train_accuracy=1.000, train_f1_score=1.000, val_loss=0.327, val_accuracy=0.918, val_f1_score=0.918]"
     ]
    },
    {
     "name": "stderr",
     "output_type": "stream",
     "text": [
      "Epoch 103, global step 23503: val_loss was not in top 2\n"
     ]
    },
    {
     "name": "stdout",
     "output_type": "stream",
     "text": [
      "Epoch 104:  89%|████████▊ | 226/255 [01:26<00:11,  2.61it/s, loss=0.0213, v_num=4, train_loss=0.00342, train_accuracy=1.000, train_f1_score=1.000, val_loss=0.327, val_accuracy=0.918, val_f1_score=0.918]\n",
      "Validating: 0it [00:00, ?it/s]\u001b[A\n",
      "Validating:   0%|          | 0/29 [00:00<?, ?it/s]\u001b[A\n",
      "Epoch 104:  89%|████████▉ | 228/255 [01:34<00:11,  2.42it/s, loss=0.0213, v_num=4, train_loss=0.00342, train_accuracy=1.000, train_f1_score=1.000, val_loss=0.327, val_accuracy=0.918, val_f1_score=0.918]\n",
      "Validating:   7%|▋         | 2/29 [00:07<01:26,  3.20s/it]\u001b[A\n",
      "Epoch 104:  90%|█████████ | 230/255 [01:34<00:10,  2.43it/s, loss=0.0213, v_num=4, train_loss=0.00342, train_accuracy=1.000, train_f1_score=1.000, val_loss=0.327, val_accuracy=0.918, val_f1_score=0.918]\n",
      "Epoch 104:  91%|█████████ | 232/255 [01:34<00:09,  2.45it/s, loss=0.0213, v_num=4, train_loss=0.00342, train_accuracy=1.000, train_f1_score=1.000, val_loss=0.327, val_accuracy=0.918, val_f1_score=0.918]\n",
      "Epoch 104:  92%|█████████▏| 234/255 [01:34<00:08,  2.47it/s, loss=0.0213, v_num=4, train_loss=0.00342, train_accuracy=1.000, train_f1_score=1.000, val_loss=0.327, val_accuracy=0.918, val_f1_score=0.918]\n",
      "Epoch 104:  93%|█████████▎| 236/255 [01:34<00:07,  2.48it/s, loss=0.0213, v_num=4, train_loss=0.00342, train_accuracy=1.000, train_f1_score=1.000, val_loss=0.327, val_accuracy=0.918, val_f1_score=0.918]\n",
      "Epoch 104:  93%|█████████▎| 238/255 [01:35<00:06,  2.50it/s, loss=0.0213, v_num=4, train_loss=0.00342, train_accuracy=1.000, train_f1_score=1.000, val_loss=0.327, val_accuracy=0.918, val_f1_score=0.918]\n",
      "Epoch 104:  94%|█████████▍| 240/255 [01:35<00:05,  2.52it/s, loss=0.0213, v_num=4, train_loss=0.00342, train_accuracy=1.000, train_f1_score=1.000, val_loss=0.327, val_accuracy=0.918, val_f1_score=0.918]\n",
      "Epoch 104:  95%|█████████▍| 242/255 [01:35<00:05,  2.53it/s, loss=0.0213, v_num=4, train_loss=0.00342, train_accuracy=1.000, train_f1_score=1.000, val_loss=0.327, val_accuracy=0.918, val_f1_score=0.918]\n",
      "Epoch 104:  96%|█████████▌| 244/255 [01:35<00:04,  2.55it/s, loss=0.0213, v_num=4, train_loss=0.00342, train_accuracy=1.000, train_f1_score=1.000, val_loss=0.327, val_accuracy=0.918, val_f1_score=0.918]\n",
      "Epoch 104:  96%|█████████▋| 246/255 [01:35<00:03,  2.57it/s, loss=0.0213, v_num=4, train_loss=0.00342, train_accuracy=1.000, train_f1_score=1.000, val_loss=0.327, val_accuracy=0.918, val_f1_score=0.918]\n",
      "Epoch 104:  97%|█████████▋| 248/255 [01:36<00:02,  2.58it/s, loss=0.0213, v_num=4, train_loss=0.00342, train_accuracy=1.000, train_f1_score=1.000, val_loss=0.327, val_accuracy=0.918, val_f1_score=0.918]\n",
      "Epoch 104:  98%|█████████▊| 250/255 [01:36<00:01,  2.60it/s, loss=0.0213, v_num=4, train_loss=0.00342, train_accuracy=1.000, train_f1_score=1.000, val_loss=0.327, val_accuracy=0.918, val_f1_score=0.918]\n",
      "Epoch 104:  99%|█████████▉| 252/255 [01:36<00:01,  2.61it/s, loss=0.0213, v_num=4, train_loss=0.00342, train_accuracy=1.000, train_f1_score=1.000, val_loss=0.327, val_accuracy=0.918, val_f1_score=0.918]\n",
      "Epoch 104: 100%|█████████▉| 254/255 [01:36<00:00,  2.63it/s, loss=0.0213, v_num=4, train_loss=0.00342, train_accuracy=1.000, train_f1_score=1.000, val_loss=0.327, val_accuracy=0.918, val_f1_score=0.918]\n",
      "Epoch 104: 100%|██████████| 255/255 [01:37<00:00,  2.61it/s, loss=0.0213, v_num=4, train_loss=0.00342, train_accuracy=1.000, train_f1_score=1.000, val_loss=0.309, val_accuracy=0.924, val_f1_score=0.924]\n",
      "Epoch 104: 100%|██████████| 255/255 [01:37<00:00,  2.61it/s, loss=0.0213, v_num=4, train_loss=0.00342, train_accuracy=1.000, train_f1_score=1.000, val_loss=0.309, val_accuracy=0.924, val_f1_score=0.924]"
     ]
    },
    {
     "name": "stderr",
     "output_type": "stream",
     "text": [
      "Epoch 104, global step 23729: val_loss was not in top 2\n"
     ]
    },
    {
     "name": "stdout",
     "output_type": "stream",
     "text": [
      "Epoch 105:  89%|████████▊ | 226/255 [01:26<00:11,  2.60it/s, loss=0.0791, v_num=4, train_loss=0.0107, train_accuracy=1.000, train_f1_score=1.000, val_loss=0.309, val_accuracy=0.924, val_f1_score=0.924] \n",
      "Validating: 0it [00:00, ?it/s]\u001b[A\n",
      "Validating:   0%|          | 0/29 [00:00<?, ?it/s]\u001b[A\n",
      "Epoch 105:  89%|████████▉ | 228/255 [01:34<00:11,  2.41it/s, loss=0.0791, v_num=4, train_loss=0.0107, train_accuracy=1.000, train_f1_score=1.000, val_loss=0.309, val_accuracy=0.924, val_f1_score=0.924]\n",
      "Epoch 105:  90%|█████████ | 230/255 [01:34<00:10,  2.42it/s, loss=0.0791, v_num=4, train_loss=0.0107, train_accuracy=1.000, train_f1_score=1.000, val_loss=0.309, val_accuracy=0.924, val_f1_score=0.924]\n",
      "Epoch 105:  91%|█████████ | 232/255 [01:35<00:09,  2.44it/s, loss=0.0791, v_num=4, train_loss=0.0107, train_accuracy=1.000, train_f1_score=1.000, val_loss=0.309, val_accuracy=0.924, val_f1_score=0.924]\n",
      "Epoch 105:  92%|█████████▏| 234/255 [01:35<00:08,  2.46it/s, loss=0.0791, v_num=4, train_loss=0.0107, train_accuracy=1.000, train_f1_score=1.000, val_loss=0.309, val_accuracy=0.924, val_f1_score=0.924]\n",
      "Epoch 105:  93%|█████████▎| 236/255 [01:35<00:07,  2.47it/s, loss=0.0791, v_num=4, train_loss=0.0107, train_accuracy=1.000, train_f1_score=1.000, val_loss=0.309, val_accuracy=0.924, val_f1_score=0.924]\n",
      "Epoch 105:  93%|█████████▎| 238/255 [01:35<00:06,  2.49it/s, loss=0.0791, v_num=4, train_loss=0.0107, train_accuracy=1.000, train_f1_score=1.000, val_loss=0.309, val_accuracy=0.924, val_f1_score=0.924]\n",
      "Epoch 105:  94%|█████████▍| 240/255 [01:35<00:05,  2.50it/s, loss=0.0791, v_num=4, train_loss=0.0107, train_accuracy=1.000, train_f1_score=1.000, val_loss=0.309, val_accuracy=0.924, val_f1_score=0.924]\n",
      "Epoch 105:  95%|█████████▍| 242/255 [01:36<00:05,  2.52it/s, loss=0.0791, v_num=4, train_loss=0.0107, train_accuracy=1.000, train_f1_score=1.000, val_loss=0.309, val_accuracy=0.924, val_f1_score=0.924]\n",
      "Epoch 105:  96%|█████████▌| 244/255 [01:36<00:04,  2.54it/s, loss=0.0791, v_num=4, train_loss=0.0107, train_accuracy=1.000, train_f1_score=1.000, val_loss=0.309, val_accuracy=0.924, val_f1_score=0.924]\n",
      "Epoch 105:  96%|█████████▋| 246/255 [01:36<00:03,  2.55it/s, loss=0.0791, v_num=4, train_loss=0.0107, train_accuracy=1.000, train_f1_score=1.000, val_loss=0.309, val_accuracy=0.924, val_f1_score=0.924]\n",
      "Epoch 105:  97%|█████████▋| 248/255 [01:36<00:02,  2.57it/s, loss=0.0791, v_num=4, train_loss=0.0107, train_accuracy=1.000, train_f1_score=1.000, val_loss=0.309, val_accuracy=0.924, val_f1_score=0.924]\n",
      "Epoch 105:  98%|█████████▊| 250/255 [01:36<00:01,  2.58it/s, loss=0.0791, v_num=4, train_loss=0.0107, train_accuracy=1.000, train_f1_score=1.000, val_loss=0.309, val_accuracy=0.924, val_f1_score=0.924]\n",
      "Epoch 105:  99%|█████████▉| 252/255 [01:36<00:01,  2.60it/s, loss=0.0791, v_num=4, train_loss=0.0107, train_accuracy=1.000, train_f1_score=1.000, val_loss=0.309, val_accuracy=0.924, val_f1_score=0.924]\n",
      "Epoch 105: 100%|█████████▉| 254/255 [01:37<00:00,  2.62it/s, loss=0.0791, v_num=4, train_loss=0.0107, train_accuracy=1.000, train_f1_score=1.000, val_loss=0.309, val_accuracy=0.924, val_f1_score=0.924]\n",
      "Epoch 105: 100%|██████████| 255/255 [01:38<00:00,  2.60it/s, loss=0.0791, v_num=4, train_loss=0.0107, train_accuracy=1.000, train_f1_score=1.000, val_loss=0.389, val_accuracy=0.913, val_f1_score=0.913]\n",
      "Epoch 105: 100%|██████████| 255/255 [01:38<00:00,  2.60it/s, loss=0.0791, v_num=4, train_loss=0.0107, train_accuracy=1.000, train_f1_score=1.000, val_loss=0.389, val_accuracy=0.913, val_f1_score=0.913]"
     ]
    },
    {
     "name": "stderr",
     "output_type": "stream",
     "text": [
      "Epoch 105, global step 23955: val_loss was not in top 2\n"
     ]
    },
    {
     "name": "stdout",
     "output_type": "stream",
     "text": [
      "Epoch 106:  89%|████████▊ | 226/255 [01:26<00:11,  2.60it/s, loss=0.0214, v_num=4, train_loss=0.00469, train_accuracy=1.000, train_f1_score=1.000, val_loss=0.389, val_accuracy=0.913, val_f1_score=0.913]\n",
      "Validating: 0it [00:00, ?it/s]\u001b[A\n",
      "Validating:   0%|          | 0/29 [00:00<?, ?it/s]\u001b[A\n",
      "Epoch 106:  89%|████████▉ | 228/255 [01:34<00:11,  2.41it/s, loss=0.0214, v_num=4, train_loss=0.00469, train_accuracy=1.000, train_f1_score=1.000, val_loss=0.389, val_accuracy=0.913, val_f1_score=0.913]\n",
      "Epoch 106:  90%|█████████ | 230/255 [01:34<00:10,  2.43it/s, loss=0.0214, v_num=4, train_loss=0.00469, train_accuracy=1.000, train_f1_score=1.000, val_loss=0.389, val_accuracy=0.913, val_f1_score=0.913]\n",
      "Epoch 106:  91%|█████████ | 232/255 [01:34<00:09,  2.44it/s, loss=0.0214, v_num=4, train_loss=0.00469, train_accuracy=1.000, train_f1_score=1.000, val_loss=0.389, val_accuracy=0.913, val_f1_score=0.913]\n",
      "Epoch 106:  92%|█████████▏| 234/255 [01:35<00:08,  2.46it/s, loss=0.0214, v_num=4, train_loss=0.00469, train_accuracy=1.000, train_f1_score=1.000, val_loss=0.389, val_accuracy=0.913, val_f1_score=0.913]\n",
      "Epoch 106:  93%|█████████▎| 236/255 [01:35<00:07,  2.48it/s, loss=0.0214, v_num=4, train_loss=0.00469, train_accuracy=1.000, train_f1_score=1.000, val_loss=0.389, val_accuracy=0.913, val_f1_score=0.913]\n",
      "Epoch 106:  93%|█████████▎| 238/255 [01:35<00:06,  2.49it/s, loss=0.0214, v_num=4, train_loss=0.00469, train_accuracy=1.000, train_f1_score=1.000, val_loss=0.389, val_accuracy=0.913, val_f1_score=0.913]\n",
      "Epoch 106:  94%|█████████▍| 240/255 [01:35<00:05,  2.51it/s, loss=0.0214, v_num=4, train_loss=0.00469, train_accuracy=1.000, train_f1_score=1.000, val_loss=0.389, val_accuracy=0.913, val_f1_score=0.913]\n",
      "Epoch 106:  95%|█████████▍| 242/255 [01:35<00:05,  2.52it/s, loss=0.0214, v_num=4, train_loss=0.00469, train_accuracy=1.000, train_f1_score=1.000, val_loss=0.389, val_accuracy=0.913, val_f1_score=0.913]\n",
      "Epoch 106:  96%|█████████▌| 244/255 [01:36<00:04,  2.54it/s, loss=0.0214, v_num=4, train_loss=0.00469, train_accuracy=1.000, train_f1_score=1.000, val_loss=0.389, val_accuracy=0.913, val_f1_score=0.913]\n",
      "Epoch 106:  96%|█████████▋| 246/255 [01:36<00:03,  2.56it/s, loss=0.0214, v_num=4, train_loss=0.00469, train_accuracy=1.000, train_f1_score=1.000, val_loss=0.389, val_accuracy=0.913, val_f1_score=0.913]\n",
      "Epoch 106:  97%|█████████▋| 248/255 [01:36<00:02,  2.57it/s, loss=0.0214, v_num=4, train_loss=0.00469, train_accuracy=1.000, train_f1_score=1.000, val_loss=0.389, val_accuracy=0.913, val_f1_score=0.913]\n",
      "Epoch 106:  98%|█████████▊| 250/255 [01:36<00:01,  2.59it/s, loss=0.0214, v_num=4, train_loss=0.00469, train_accuracy=1.000, train_f1_score=1.000, val_loss=0.389, val_accuracy=0.913, val_f1_score=0.913]\n",
      "Epoch 106:  99%|█████████▉| 252/255 [01:36<00:01,  2.60it/s, loss=0.0214, v_num=4, train_loss=0.00469, train_accuracy=1.000, train_f1_score=1.000, val_loss=0.389, val_accuracy=0.913, val_f1_score=0.913]\n",
      "Epoch 106: 100%|█████████▉| 254/255 [01:36<00:00,  2.62it/s, loss=0.0214, v_num=4, train_loss=0.00469, train_accuracy=1.000, train_f1_score=1.000, val_loss=0.389, val_accuracy=0.913, val_f1_score=0.913]\n",
      "Epoch 106: 100%|██████████| 255/255 [01:38<00:00,  2.60it/s, loss=0.0214, v_num=4, train_loss=0.00469, train_accuracy=1.000, train_f1_score=1.000, val_loss=0.312, val_accuracy=0.923, val_f1_score=0.923]\n",
      "Epoch 106: 100%|██████████| 255/255 [01:38<00:00,  2.60it/s, loss=0.0214, v_num=4, train_loss=0.00469, train_accuracy=1.000, train_f1_score=1.000, val_loss=0.312, val_accuracy=0.923, val_f1_score=0.923]"
     ]
    },
    {
     "name": "stderr",
     "output_type": "stream",
     "text": [
      "Epoch 106, global step 24181: val_loss was not in top 2\n"
     ]
    },
    {
     "name": "stdout",
     "output_type": "stream",
     "text": [
      "Epoch 107:  89%|████████▊ | 226/255 [01:26<00:11,  2.60it/s, loss=0.0754, v_num=4, train_loss=0.533, train_accuracy=0.944, train_f1_score=0.944, val_loss=0.312, val_accuracy=0.923, val_f1_score=0.923]  \n",
      "Validating: 0it [00:00, ?it/s]\u001b[A\n",
      "Validating:   0%|          | 0/29 [00:00<?, ?it/s]\u001b[A\n",
      "Epoch 107:  89%|████████▉ | 228/255 [01:34<00:11,  2.41it/s, loss=0.0754, v_num=4, train_loss=0.533, train_accuracy=0.944, train_f1_score=0.944, val_loss=0.312, val_accuracy=0.923, val_f1_score=0.923]\n",
      "Epoch 107:  90%|█████████ | 230/255 [01:34<00:10,  2.43it/s, loss=0.0754, v_num=4, train_loss=0.533, train_accuracy=0.944, train_f1_score=0.944, val_loss=0.312, val_accuracy=0.923, val_f1_score=0.923]\n",
      "Epoch 107:  91%|█████████ | 232/255 [01:34<00:09,  2.44it/s, loss=0.0754, v_num=4, train_loss=0.533, train_accuracy=0.944, train_f1_score=0.944, val_loss=0.312, val_accuracy=0.923, val_f1_score=0.923]\n",
      "Epoch 107:  92%|█████████▏| 234/255 [01:35<00:08,  2.46it/s, loss=0.0754, v_num=4, train_loss=0.533, train_accuracy=0.944, train_f1_score=0.944, val_loss=0.312, val_accuracy=0.923, val_f1_score=0.923]\n",
      "Epoch 107:  93%|█████████▎| 236/255 [01:35<00:07,  2.48it/s, loss=0.0754, v_num=4, train_loss=0.533, train_accuracy=0.944, train_f1_score=0.944, val_loss=0.312, val_accuracy=0.923, val_f1_score=0.923]\n",
      "Epoch 107:  93%|█████████▎| 238/255 [01:35<00:06,  2.49it/s, loss=0.0754, v_num=4, train_loss=0.533, train_accuracy=0.944, train_f1_score=0.944, val_loss=0.312, val_accuracy=0.923, val_f1_score=0.923]\n",
      "Epoch 107:  94%|█████████▍| 240/255 [01:35<00:05,  2.51it/s, loss=0.0754, v_num=4, train_loss=0.533, train_accuracy=0.944, train_f1_score=0.944, val_loss=0.312, val_accuracy=0.923, val_f1_score=0.923]\n",
      "Epoch 107:  95%|█████████▍| 242/255 [01:35<00:05,  2.52it/s, loss=0.0754, v_num=4, train_loss=0.533, train_accuracy=0.944, train_f1_score=0.944, val_loss=0.312, val_accuracy=0.923, val_f1_score=0.923]\n",
      "Epoch 107:  96%|█████████▌| 244/255 [01:36<00:04,  2.54it/s, loss=0.0754, v_num=4, train_loss=0.533, train_accuracy=0.944, train_f1_score=0.944, val_loss=0.312, val_accuracy=0.923, val_f1_score=0.923]\n",
      "Epoch 107:  96%|█████████▋| 246/255 [01:36<00:03,  2.56it/s, loss=0.0754, v_num=4, train_loss=0.533, train_accuracy=0.944, train_f1_score=0.944, val_loss=0.312, val_accuracy=0.923, val_f1_score=0.923]\n",
      "Epoch 107:  97%|█████████▋| 248/255 [01:36<00:02,  2.57it/s, loss=0.0754, v_num=4, train_loss=0.533, train_accuracy=0.944, train_f1_score=0.944, val_loss=0.312, val_accuracy=0.923, val_f1_score=0.923]\n",
      "Epoch 107:  98%|█████████▊| 250/255 [01:36<00:01,  2.59it/s, loss=0.0754, v_num=4, train_loss=0.533, train_accuracy=0.944, train_f1_score=0.944, val_loss=0.312, val_accuracy=0.923, val_f1_score=0.923]\n",
      "Epoch 107:  99%|█████████▉| 252/255 [01:36<00:01,  2.61it/s, loss=0.0754, v_num=4, train_loss=0.533, train_accuracy=0.944, train_f1_score=0.944, val_loss=0.312, val_accuracy=0.923, val_f1_score=0.923]\n",
      "Epoch 107: 100%|█████████▉| 254/255 [01:36<00:00,  2.62it/s, loss=0.0754, v_num=4, train_loss=0.533, train_accuracy=0.944, train_f1_score=0.944, val_loss=0.312, val_accuracy=0.923, val_f1_score=0.923]\n",
      "Epoch 107: 100%|██████████| 255/255 [01:38<00:00,  2.60it/s, loss=0.0754, v_num=4, train_loss=0.533, train_accuracy=0.944, train_f1_score=0.944, val_loss=0.443, val_accuracy=0.909, val_f1_score=0.909]\n",
      "Epoch 107: 100%|██████████| 255/255 [01:38<00:00,  2.60it/s, loss=0.0754, v_num=4, train_loss=0.533, train_accuracy=0.944, train_f1_score=0.944, val_loss=0.443, val_accuracy=0.909, val_f1_score=0.909]"
     ]
    },
    {
     "name": "stderr",
     "output_type": "stream",
     "text": [
      "Epoch 107, global step 24407: val_loss was not in top 2\n"
     ]
    },
    {
     "name": "stdout",
     "output_type": "stream",
     "text": [
      "Epoch 108:  89%|████████▊ | 226/255 [01:26<00:11,  2.61it/s, loss=0.0127, v_num=4, train_loss=0.0035, train_accuracy=1.000, train_f1_score=1.000, val_loss=0.443, val_accuracy=0.909, val_f1_score=0.909]  \n",
      "Validating: 0it [00:00, ?it/s]\u001b[A\n",
      "Validating:   0%|          | 0/29 [00:00<?, ?it/s]\u001b[A\n",
      "Epoch 108:  89%|████████▉ | 228/255 [01:34<00:11,  2.41it/s, loss=0.0127, v_num=4, train_loss=0.0035, train_accuracy=1.000, train_f1_score=1.000, val_loss=0.443, val_accuracy=0.909, val_f1_score=0.909]\n",
      "Epoch 108:  90%|█████████ | 230/255 [01:34<00:10,  2.43it/s, loss=0.0127, v_num=4, train_loss=0.0035, train_accuracy=1.000, train_f1_score=1.000, val_loss=0.443, val_accuracy=0.909, val_f1_score=0.909]\n",
      "Epoch 108:  91%|█████████ | 232/255 [01:34<00:09,  2.45it/s, loss=0.0127, v_num=4, train_loss=0.0035, train_accuracy=1.000, train_f1_score=1.000, val_loss=0.443, val_accuracy=0.909, val_f1_score=0.909]\n",
      "Epoch 108:  92%|█████████▏| 234/255 [01:34<00:08,  2.46it/s, loss=0.0127, v_num=4, train_loss=0.0035, train_accuracy=1.000, train_f1_score=1.000, val_loss=0.443, val_accuracy=0.909, val_f1_score=0.909]\n",
      "Epoch 108:  93%|█████████▎| 236/255 [01:35<00:07,  2.48it/s, loss=0.0127, v_num=4, train_loss=0.0035, train_accuracy=1.000, train_f1_score=1.000, val_loss=0.443, val_accuracy=0.909, val_f1_score=0.909]\n",
      "Epoch 108:  93%|█████████▎| 238/255 [01:35<00:06,  2.50it/s, loss=0.0127, v_num=4, train_loss=0.0035, train_accuracy=1.000, train_f1_score=1.000, val_loss=0.443, val_accuracy=0.909, val_f1_score=0.909]\n",
      "Epoch 108:  94%|█████████▍| 240/255 [01:35<00:05,  2.51it/s, loss=0.0127, v_num=4, train_loss=0.0035, train_accuracy=1.000, train_f1_score=1.000, val_loss=0.443, val_accuracy=0.909, val_f1_score=0.909]\n",
      "Epoch 108:  95%|█████████▍| 242/255 [01:35<00:05,  2.53it/s, loss=0.0127, v_num=4, train_loss=0.0035, train_accuracy=1.000, train_f1_score=1.000, val_loss=0.443, val_accuracy=0.909, val_f1_score=0.909]\n",
      "Epoch 108:  96%|█████████▌| 244/255 [01:35<00:04,  2.54it/s, loss=0.0127, v_num=4, train_loss=0.0035, train_accuracy=1.000, train_f1_score=1.000, val_loss=0.443, val_accuracy=0.909, val_f1_score=0.909]\n",
      "Epoch 108:  96%|█████████▋| 246/255 [01:36<00:03,  2.56it/s, loss=0.0127, v_num=4, train_loss=0.0035, train_accuracy=1.000, train_f1_score=1.000, val_loss=0.443, val_accuracy=0.909, val_f1_score=0.909]\n",
      "Epoch 108:  97%|█████████▋| 248/255 [01:36<00:02,  2.58it/s, loss=0.0127, v_num=4, train_loss=0.0035, train_accuracy=1.000, train_f1_score=1.000, val_loss=0.443, val_accuracy=0.909, val_f1_score=0.909]\n",
      "Epoch 108:  98%|█████████▊| 250/255 [01:36<00:01,  2.59it/s, loss=0.0127, v_num=4, train_loss=0.0035, train_accuracy=1.000, train_f1_score=1.000, val_loss=0.443, val_accuracy=0.909, val_f1_score=0.909]\n",
      "Epoch 108:  99%|█████████▉| 252/255 [01:36<00:01,  2.61it/s, loss=0.0127, v_num=4, train_loss=0.0035, train_accuracy=1.000, train_f1_score=1.000, val_loss=0.443, val_accuracy=0.909, val_f1_score=0.909]\n",
      "Epoch 108: 100%|█████████▉| 254/255 [01:36<00:00,  2.63it/s, loss=0.0127, v_num=4, train_loss=0.0035, train_accuracy=1.000, train_f1_score=1.000, val_loss=0.443, val_accuracy=0.909, val_f1_score=0.909]\n",
      "Epoch 108: 100%|██████████| 255/255 [01:37<00:00,  2.60it/s, loss=0.0127, v_num=4, train_loss=0.0035, train_accuracy=1.000, train_f1_score=1.000, val_loss=0.340, val_accuracy=0.913, val_f1_score=0.913]\n",
      "Epoch 108: 100%|██████████| 255/255 [01:37<00:00,  2.60it/s, loss=0.0127, v_num=4, train_loss=0.0035, train_accuracy=1.000, train_f1_score=1.000, val_loss=0.340, val_accuracy=0.913, val_f1_score=0.913]"
     ]
    },
    {
     "name": "stderr",
     "output_type": "stream",
     "text": [
      "Epoch 108, global step 24633: val_loss was not in top 2\n"
     ]
    },
    {
     "name": "stdout",
     "output_type": "stream",
     "text": [
      "Epoch 109:  89%|████████▊ | 226/255 [01:26<00:11,  2.61it/s, loss=0.0249, v_num=4, train_loss=0.0276, train_accuracy=1.000, train_f1_score=1.000, val_loss=0.340, val_accuracy=0.913, val_f1_score=0.913]  \n",
      "Validating: 0it [00:00, ?it/s]\u001b[A\n",
      "Validating:   0%|          | 0/29 [00:00<?, ?it/s]\u001b[A\n",
      "Epoch 109:  89%|████████▉ | 228/255 [01:34<00:11,  2.41it/s, loss=0.0249, v_num=4, train_loss=0.0276, train_accuracy=1.000, train_f1_score=1.000, val_loss=0.340, val_accuracy=0.913, val_f1_score=0.913]\n",
      "Epoch 109:  90%|█████████ | 230/255 [01:34<00:10,  2.43it/s, loss=0.0249, v_num=4, train_loss=0.0276, train_accuracy=1.000, train_f1_score=1.000, val_loss=0.340, val_accuracy=0.913, val_f1_score=0.913]\n",
      "Epoch 109:  91%|█████████ | 232/255 [01:34<00:09,  2.44it/s, loss=0.0249, v_num=4, train_loss=0.0276, train_accuracy=1.000, train_f1_score=1.000, val_loss=0.340, val_accuracy=0.913, val_f1_score=0.913]\n",
      "Epoch 109:  92%|█████████▏| 234/255 [01:35<00:08,  2.46it/s, loss=0.0249, v_num=4, train_loss=0.0276, train_accuracy=1.000, train_f1_score=1.000, val_loss=0.340, val_accuracy=0.913, val_f1_score=0.913]\n",
      "Epoch 109:  93%|█████████▎| 236/255 [01:35<00:07,  2.48it/s, loss=0.0249, v_num=4, train_loss=0.0276, train_accuracy=1.000, train_f1_score=1.000, val_loss=0.340, val_accuracy=0.913, val_f1_score=0.913]\n",
      "Epoch 109:  93%|█████████▎| 238/255 [01:35<00:06,  2.49it/s, loss=0.0249, v_num=4, train_loss=0.0276, train_accuracy=1.000, train_f1_score=1.000, val_loss=0.340, val_accuracy=0.913, val_f1_score=0.913]\n",
      "Epoch 109:  94%|█████████▍| 240/255 [01:35<00:05,  2.51it/s, loss=0.0249, v_num=4, train_loss=0.0276, train_accuracy=1.000, train_f1_score=1.000, val_loss=0.340, val_accuracy=0.913, val_f1_score=0.913]\n",
      "Epoch 109:  95%|█████████▍| 242/255 [01:35<00:05,  2.53it/s, loss=0.0249, v_num=4, train_loss=0.0276, train_accuracy=1.000, train_f1_score=1.000, val_loss=0.340, val_accuracy=0.913, val_f1_score=0.913]\n",
      "Epoch 109:  96%|█████████▌| 244/255 [01:35<00:04,  2.54it/s, loss=0.0249, v_num=4, train_loss=0.0276, train_accuracy=1.000, train_f1_score=1.000, val_loss=0.340, val_accuracy=0.913, val_f1_score=0.913]\n",
      "Epoch 109:  96%|█████████▋| 246/255 [01:36<00:03,  2.56it/s, loss=0.0249, v_num=4, train_loss=0.0276, train_accuracy=1.000, train_f1_score=1.000, val_loss=0.340, val_accuracy=0.913, val_f1_score=0.913]\n",
      "Epoch 109:  97%|█████████▋| 248/255 [01:36<00:02,  2.57it/s, loss=0.0249, v_num=4, train_loss=0.0276, train_accuracy=1.000, train_f1_score=1.000, val_loss=0.340, val_accuracy=0.913, val_f1_score=0.913]\n",
      "Epoch 109:  98%|█████████▊| 250/255 [01:36<00:01,  2.59it/s, loss=0.0249, v_num=4, train_loss=0.0276, train_accuracy=1.000, train_f1_score=1.000, val_loss=0.340, val_accuracy=0.913, val_f1_score=0.913]\n",
      "Epoch 109:  99%|█████████▉| 252/255 [01:36<00:01,  2.61it/s, loss=0.0249, v_num=4, train_loss=0.0276, train_accuracy=1.000, train_f1_score=1.000, val_loss=0.340, val_accuracy=0.913, val_f1_score=0.913]\n",
      "Epoch 109: 100%|█████████▉| 254/255 [01:36<00:00,  2.62it/s, loss=0.0249, v_num=4, train_loss=0.0276, train_accuracy=1.000, train_f1_score=1.000, val_loss=0.340, val_accuracy=0.913, val_f1_score=0.913]\n",
      "Epoch 109: 100%|██████████| 255/255 [01:37<00:00,  2.60it/s, loss=0.0249, v_num=4, train_loss=0.0276, train_accuracy=1.000, train_f1_score=1.000, val_loss=0.329, val_accuracy=0.921, val_f1_score=0.921]\n",
      "Epoch 109: 100%|██████████| 255/255 [01:37<00:00,  2.60it/s, loss=0.0249, v_num=4, train_loss=0.0276, train_accuracy=1.000, train_f1_score=1.000, val_loss=0.329, val_accuracy=0.921, val_f1_score=0.921]"
     ]
    },
    {
     "name": "stderr",
     "output_type": "stream",
     "text": [
      "Epoch 109, global step 24859: val_loss was not in top 2\n"
     ]
    },
    {
     "name": "stdout",
     "output_type": "stream",
     "text": [
      "Epoch 110:  89%|████████▊ | 226/255 [01:26<00:11,  2.61it/s, loss=0.0244, v_num=4, train_loss=0.000721, train_accuracy=1.000, train_f1_score=1.000, val_loss=0.329, val_accuracy=0.921, val_f1_score=0.921]\n",
      "Validating: 0it [00:00, ?it/s]\u001b[A\n",
      "Validating:   0%|          | 0/29 [00:00<?, ?it/s]\u001b[A\n",
      "Epoch 110:  89%|████████▉ | 228/255 [01:34<00:11,  2.40it/s, loss=0.0244, v_num=4, train_loss=0.000721, train_accuracy=1.000, train_f1_score=1.000, val_loss=0.329, val_accuracy=0.921, val_f1_score=0.921]\n",
      "Epoch 110:  90%|█████████ | 230/255 [01:35<00:10,  2.42it/s, loss=0.0244, v_num=4, train_loss=0.000721, train_accuracy=1.000, train_f1_score=1.000, val_loss=0.329, val_accuracy=0.921, val_f1_score=0.921]\n",
      "Validating:  14%|█▍        | 4/29 [00:08<00:33,  1.32s/it]\u001b[A\n",
      "Epoch 110:  91%|█████████ | 232/255 [01:35<00:09,  2.44it/s, loss=0.0244, v_num=4, train_loss=0.000721, train_accuracy=1.000, train_f1_score=1.000, val_loss=0.329, val_accuracy=0.921, val_f1_score=0.921]\n",
      "Epoch 110:  92%|█████████▏| 234/255 [01:35<00:08,  2.45it/s, loss=0.0244, v_num=4, train_loss=0.000721, train_accuracy=1.000, train_f1_score=1.000, val_loss=0.329, val_accuracy=0.921, val_f1_score=0.921]\n",
      "Epoch 110:  93%|█████████▎| 236/255 [01:35<00:07,  2.47it/s, loss=0.0244, v_num=4, train_loss=0.000721, train_accuracy=1.000, train_f1_score=1.000, val_loss=0.329, val_accuracy=0.921, val_f1_score=0.921]\n",
      "Epoch 110:  93%|█████████▎| 238/255 [01:35<00:06,  2.49it/s, loss=0.0244, v_num=4, train_loss=0.000721, train_accuracy=1.000, train_f1_score=1.000, val_loss=0.329, val_accuracy=0.921, val_f1_score=0.921]\n",
      "Epoch 110:  94%|█████████▍| 240/255 [01:35<00:05,  2.50it/s, loss=0.0244, v_num=4, train_loss=0.000721, train_accuracy=1.000, train_f1_score=1.000, val_loss=0.329, val_accuracy=0.921, val_f1_score=0.921]\n",
      "Epoch 110:  95%|█████████▍| 242/255 [01:36<00:05,  2.52it/s, loss=0.0244, v_num=4, train_loss=0.000721, train_accuracy=1.000, train_f1_score=1.000, val_loss=0.329, val_accuracy=0.921, val_f1_score=0.921]\n",
      "Epoch 110:  96%|█████████▌| 244/255 [01:36<00:04,  2.53it/s, loss=0.0244, v_num=4, train_loss=0.000721, train_accuracy=1.000, train_f1_score=1.000, val_loss=0.329, val_accuracy=0.921, val_f1_score=0.921]\n",
      "Epoch 110:  96%|█████████▋| 246/255 [01:36<00:03,  2.55it/s, loss=0.0244, v_num=4, train_loss=0.000721, train_accuracy=1.000, train_f1_score=1.000, val_loss=0.329, val_accuracy=0.921, val_f1_score=0.921]\n",
      "Epoch 110:  97%|█████████▋| 248/255 [01:36<00:02,  2.57it/s, loss=0.0244, v_num=4, train_loss=0.000721, train_accuracy=1.000, train_f1_score=1.000, val_loss=0.329, val_accuracy=0.921, val_f1_score=0.921]\n",
      "Epoch 110:  98%|█████████▊| 250/255 [01:36<00:01,  2.58it/s, loss=0.0244, v_num=4, train_loss=0.000721, train_accuracy=1.000, train_f1_score=1.000, val_loss=0.329, val_accuracy=0.921, val_f1_score=0.921]\n",
      "Epoch 110:  99%|█████████▉| 252/255 [01:37<00:01,  2.60it/s, loss=0.0244, v_num=4, train_loss=0.000721, train_accuracy=1.000, train_f1_score=1.000, val_loss=0.329, val_accuracy=0.921, val_f1_score=0.921]\n",
      "Epoch 110: 100%|█████████▉| 254/255 [01:37<00:00,  2.61it/s, loss=0.0244, v_num=4, train_loss=0.000721, train_accuracy=1.000, train_f1_score=1.000, val_loss=0.329, val_accuracy=0.921, val_f1_score=0.921]\n",
      "Epoch 110: 100%|██████████| 255/255 [01:38<00:00,  2.59it/s, loss=0.0244, v_num=4, train_loss=0.000721, train_accuracy=1.000, train_f1_score=1.000, val_loss=0.374, val_accuracy=0.920, val_f1_score=0.920]\n",
      "Epoch 110: 100%|██████████| 255/255 [01:38<00:00,  2.59it/s, loss=0.0244, v_num=4, train_loss=0.000721, train_accuracy=1.000, train_f1_score=1.000, val_loss=0.374, val_accuracy=0.920, val_f1_score=0.920]"
     ]
    },
    {
     "name": "stderr",
     "output_type": "stream",
     "text": [
      "Epoch 110, global step 25085: val_loss was not in top 2\n"
     ]
    },
    {
     "name": "stdout",
     "output_type": "stream",
     "text": [
      "Epoch 111:  89%|████████▊ | 226/255 [01:27<00:11,  2.60it/s, loss=0.0429, v_num=4, train_loss=0.00301, train_accuracy=1.000, train_f1_score=1.000, val_loss=0.374, val_accuracy=0.920, val_f1_score=0.920] \n",
      "Validating: 0it [00:00, ?it/s]\u001b[A\n",
      "Validating:   0%|          | 0/29 [00:00<?, ?it/s]\u001b[A\n",
      "Epoch 111:  89%|████████▉ | 228/255 [01:34<00:11,  2.40it/s, loss=0.0429, v_num=4, train_loss=0.00301, train_accuracy=1.000, train_f1_score=1.000, val_loss=0.374, val_accuracy=0.920, val_f1_score=0.920]\n",
      "Epoch 111:  90%|█████████ | 230/255 [01:35<00:10,  2.42it/s, loss=0.0429, v_num=4, train_loss=0.00301, train_accuracy=1.000, train_f1_score=1.000, val_loss=0.374, val_accuracy=0.920, val_f1_score=0.920]\n",
      "Epoch 111:  91%|█████████ | 232/255 [01:35<00:09,  2.43it/s, loss=0.0429, v_num=4, train_loss=0.00301, train_accuracy=1.000, train_f1_score=1.000, val_loss=0.374, val_accuracy=0.920, val_f1_score=0.920]\n",
      "Epoch 111:  92%|█████████▏| 234/255 [01:35<00:08,  2.45it/s, loss=0.0429, v_num=4, train_loss=0.00301, train_accuracy=1.000, train_f1_score=1.000, val_loss=0.374, val_accuracy=0.920, val_f1_score=0.920]\n",
      "Epoch 111:  93%|█████████▎| 236/255 [01:35<00:07,  2.47it/s, loss=0.0429, v_num=4, train_loss=0.00301, train_accuracy=1.000, train_f1_score=1.000, val_loss=0.374, val_accuracy=0.920, val_f1_score=0.920]\n",
      "Epoch 111:  93%|█████████▎| 238/255 [01:35<00:06,  2.48it/s, loss=0.0429, v_num=4, train_loss=0.00301, train_accuracy=1.000, train_f1_score=1.000, val_loss=0.374, val_accuracy=0.920, val_f1_score=0.920]\n",
      "Epoch 111:  94%|█████████▍| 240/255 [01:35<00:05,  2.50it/s, loss=0.0429, v_num=4, train_loss=0.00301, train_accuracy=1.000, train_f1_score=1.000, val_loss=0.374, val_accuracy=0.920, val_f1_score=0.920]\n",
      "Epoch 111:  95%|█████████▍| 242/255 [01:36<00:05,  2.52it/s, loss=0.0429, v_num=4, train_loss=0.00301, train_accuracy=1.000, train_f1_score=1.000, val_loss=0.374, val_accuracy=0.920, val_f1_score=0.920]\n",
      "Epoch 111:  96%|█████████▌| 244/255 [01:36<00:04,  2.53it/s, loss=0.0429, v_num=4, train_loss=0.00301, train_accuracy=1.000, train_f1_score=1.000, val_loss=0.374, val_accuracy=0.920, val_f1_score=0.920]\n",
      "Epoch 111:  96%|█████████▋| 246/255 [01:36<00:03,  2.55it/s, loss=0.0429, v_num=4, train_loss=0.00301, train_accuracy=1.000, train_f1_score=1.000, val_loss=0.374, val_accuracy=0.920, val_f1_score=0.920]\n",
      "Epoch 111:  97%|█████████▋| 248/255 [01:36<00:02,  2.57it/s, loss=0.0429, v_num=4, train_loss=0.00301, train_accuracy=1.000, train_f1_score=1.000, val_loss=0.374, val_accuracy=0.920, val_f1_score=0.920]\n",
      "Epoch 111:  98%|█████████▊| 250/255 [01:36<00:01,  2.58it/s, loss=0.0429, v_num=4, train_loss=0.00301, train_accuracy=1.000, train_f1_score=1.000, val_loss=0.374, val_accuracy=0.920, val_f1_score=0.920]\n",
      "Epoch 111:  99%|█████████▉| 252/255 [01:37<00:01,  2.60it/s, loss=0.0429, v_num=4, train_loss=0.00301, train_accuracy=1.000, train_f1_score=1.000, val_loss=0.374, val_accuracy=0.920, val_f1_score=0.920]\n",
      "Epoch 111: 100%|█████████▉| 254/255 [01:37<00:00,  2.61it/s, loss=0.0429, v_num=4, train_loss=0.00301, train_accuracy=1.000, train_f1_score=1.000, val_loss=0.374, val_accuracy=0.920, val_f1_score=0.920]\n",
      "Epoch 111: 100%|██████████| 255/255 [01:38<00:00,  2.59it/s, loss=0.0429, v_num=4, train_loss=0.00301, train_accuracy=1.000, train_f1_score=1.000, val_loss=0.378, val_accuracy=0.911, val_f1_score=0.911]\n",
      "Epoch 111: 100%|██████████| 255/255 [01:38<00:00,  2.59it/s, loss=0.0429, v_num=4, train_loss=0.00301, train_accuracy=1.000, train_f1_score=1.000, val_loss=0.378, val_accuracy=0.911, val_f1_score=0.911]"
     ]
    },
    {
     "name": "stderr",
     "output_type": "stream",
     "text": [
      "Epoch 111, global step 25311: val_loss was not in top 2\n"
     ]
    },
    {
     "name": "stdout",
     "output_type": "stream",
     "text": [
      "Epoch 112:  89%|████████▊ | 226/255 [01:26<00:11,  2.61it/s, loss=0.0186, v_num=4, train_loss=0.0044, train_accuracy=1.000, train_f1_score=1.000, val_loss=0.378, val_accuracy=0.911, val_f1_score=0.911] \n",
      "Validating: 0it [00:00, ?it/s]\u001b[A\n",
      "Validating:   0%|          | 0/29 [00:00<?, ?it/s]\u001b[A\n",
      "Epoch 112:  89%|████████▉ | 228/255 [01:34<00:11,  2.42it/s, loss=0.0186, v_num=4, train_loss=0.0044, train_accuracy=1.000, train_f1_score=1.000, val_loss=0.378, val_accuracy=0.911, val_f1_score=0.911]\n",
      "Epoch 112:  90%|█████████ | 230/255 [01:34<00:10,  2.43it/s, loss=0.0186, v_num=4, train_loss=0.0044, train_accuracy=1.000, train_f1_score=1.000, val_loss=0.378, val_accuracy=0.911, val_f1_score=0.911]\n",
      "Epoch 112:  91%|█████████ | 232/255 [01:34<00:09,  2.45it/s, loss=0.0186, v_num=4, train_loss=0.0044, train_accuracy=1.000, train_f1_score=1.000, val_loss=0.378, val_accuracy=0.911, val_f1_score=0.911]\n",
      "Epoch 112:  92%|█████████▏| 234/255 [01:34<00:08,  2.47it/s, loss=0.0186, v_num=4, train_loss=0.0044, train_accuracy=1.000, train_f1_score=1.000, val_loss=0.378, val_accuracy=0.911, val_f1_score=0.911]\n",
      "Epoch 112:  93%|█████████▎| 236/255 [01:35<00:07,  2.48it/s, loss=0.0186, v_num=4, train_loss=0.0044, train_accuracy=1.000, train_f1_score=1.000, val_loss=0.378, val_accuracy=0.911, val_f1_score=0.911]\n",
      "Epoch 112:  93%|█████████▎| 238/255 [01:35<00:06,  2.50it/s, loss=0.0186, v_num=4, train_loss=0.0044, train_accuracy=1.000, train_f1_score=1.000, val_loss=0.378, val_accuracy=0.911, val_f1_score=0.911]\n",
      "Epoch 112:  94%|█████████▍| 240/255 [01:35<00:05,  2.51it/s, loss=0.0186, v_num=4, train_loss=0.0044, train_accuracy=1.000, train_f1_score=1.000, val_loss=0.378, val_accuracy=0.911, val_f1_score=0.911]\n",
      "Epoch 112:  95%|█████████▍| 242/255 [01:35<00:05,  2.53it/s, loss=0.0186, v_num=4, train_loss=0.0044, train_accuracy=1.000, train_f1_score=1.000, val_loss=0.378, val_accuracy=0.911, val_f1_score=0.911]\n",
      "Epoch 112:  96%|█████████▌| 244/255 [01:35<00:04,  2.55it/s, loss=0.0186, v_num=4, train_loss=0.0044, train_accuracy=1.000, train_f1_score=1.000, val_loss=0.378, val_accuracy=0.911, val_f1_score=0.911]\n",
      "Epoch 112:  96%|█████████▋| 246/255 [01:35<00:03,  2.56it/s, loss=0.0186, v_num=4, train_loss=0.0044, train_accuracy=1.000, train_f1_score=1.000, val_loss=0.378, val_accuracy=0.911, val_f1_score=0.911]\n",
      "Epoch 112:  97%|█████████▋| 248/255 [01:36<00:02,  2.58it/s, loss=0.0186, v_num=4, train_loss=0.0044, train_accuracy=1.000, train_f1_score=1.000, val_loss=0.378, val_accuracy=0.911, val_f1_score=0.911]\n",
      "Epoch 112:  98%|█████████▊| 250/255 [01:36<00:01,  2.60it/s, loss=0.0186, v_num=4, train_loss=0.0044, train_accuracy=1.000, train_f1_score=1.000, val_loss=0.378, val_accuracy=0.911, val_f1_score=0.911]\n",
      "Epoch 112:  99%|█████████▉| 252/255 [01:36<00:01,  2.61it/s, loss=0.0186, v_num=4, train_loss=0.0044, train_accuracy=1.000, train_f1_score=1.000, val_loss=0.378, val_accuracy=0.911, val_f1_score=0.911]\n",
      "Epoch 112: 100%|█████████▉| 254/255 [01:36<00:00,  2.63it/s, loss=0.0186, v_num=4, train_loss=0.0044, train_accuracy=1.000, train_f1_score=1.000, val_loss=0.378, val_accuracy=0.911, val_f1_score=0.911]\n",
      "Epoch 112: 100%|██████████| 255/255 [01:37<00:00,  2.61it/s, loss=0.0186, v_num=4, train_loss=0.0044, train_accuracy=1.000, train_f1_score=1.000, val_loss=0.366, val_accuracy=0.917, val_f1_score=0.917]\n",
      "Epoch 112: 100%|██████████| 255/255 [01:37<00:00,  2.61it/s, loss=0.0186, v_num=4, train_loss=0.0044, train_accuracy=1.000, train_f1_score=1.000, val_loss=0.366, val_accuracy=0.917, val_f1_score=0.917]"
     ]
    },
    {
     "name": "stderr",
     "output_type": "stream",
     "text": [
      "Epoch 112, global step 25537: val_loss was not in top 2\n"
     ]
    },
    {
     "name": "stdout",
     "output_type": "stream",
     "text": [
      "Epoch 113:  89%|████████▊ | 226/255 [01:26<00:11,  2.60it/s, loss=0.0318, v_num=4, train_loss=0.00187, train_accuracy=1.000, train_f1_score=1.000, val_loss=0.366, val_accuracy=0.917, val_f1_score=0.917] \n",
      "Validating: 0it [00:00, ?it/s]\u001b[A\n",
      "Validating:   0%|          | 0/29 [00:00<?, ?it/s]\u001b[A\n",
      "Epoch 113:  89%|████████▉ | 228/255 [01:34<00:11,  2.41it/s, loss=0.0318, v_num=4, train_loss=0.00187, train_accuracy=1.000, train_f1_score=1.000, val_loss=0.366, val_accuracy=0.917, val_f1_score=0.917]\n",
      "Epoch 113:  90%|█████████ | 230/255 [01:34<00:10,  2.42it/s, loss=0.0318, v_num=4, train_loss=0.00187, train_accuracy=1.000, train_f1_score=1.000, val_loss=0.366, val_accuracy=0.917, val_f1_score=0.917]\n",
      "Epoch 113:  91%|█████████ | 232/255 [01:35<00:09,  2.44it/s, loss=0.0318, v_num=4, train_loss=0.00187, train_accuracy=1.000, train_f1_score=1.000, val_loss=0.366, val_accuracy=0.917, val_f1_score=0.917]\n",
      "Epoch 113:  92%|█████████▏| 234/255 [01:35<00:08,  2.46it/s, loss=0.0318, v_num=4, train_loss=0.00187, train_accuracy=1.000, train_f1_score=1.000, val_loss=0.366, val_accuracy=0.917, val_f1_score=0.917]\n",
      "Epoch 113:  93%|█████████▎| 236/255 [01:35<00:07,  2.47it/s, loss=0.0318, v_num=4, train_loss=0.00187, train_accuracy=1.000, train_f1_score=1.000, val_loss=0.366, val_accuracy=0.917, val_f1_score=0.917]\n",
      "Epoch 113:  93%|█████████▎| 238/255 [01:35<00:06,  2.49it/s, loss=0.0318, v_num=4, train_loss=0.00187, train_accuracy=1.000, train_f1_score=1.000, val_loss=0.366, val_accuracy=0.917, val_f1_score=0.917]\n",
      "Epoch 113:  94%|█████████▍| 240/255 [01:35<00:05,  2.51it/s, loss=0.0318, v_num=4, train_loss=0.00187, train_accuracy=1.000, train_f1_score=1.000, val_loss=0.366, val_accuracy=0.917, val_f1_score=0.917]\n",
      "Epoch 113:  95%|█████████▍| 242/255 [01:35<00:05,  2.52it/s, loss=0.0318, v_num=4, train_loss=0.00187, train_accuracy=1.000, train_f1_score=1.000, val_loss=0.366, val_accuracy=0.917, val_f1_score=0.917]\n",
      "Epoch 113:  96%|█████████▌| 244/255 [01:36<00:04,  2.54it/s, loss=0.0318, v_num=4, train_loss=0.00187, train_accuracy=1.000, train_f1_score=1.000, val_loss=0.366, val_accuracy=0.917, val_f1_score=0.917]\n",
      "Epoch 113:  96%|█████████▋| 246/255 [01:36<00:03,  2.56it/s, loss=0.0318, v_num=4, train_loss=0.00187, train_accuracy=1.000, train_f1_score=1.000, val_loss=0.366, val_accuracy=0.917, val_f1_score=0.917]\n",
      "Epoch 113:  97%|█████████▋| 248/255 [01:36<00:02,  2.57it/s, loss=0.0318, v_num=4, train_loss=0.00187, train_accuracy=1.000, train_f1_score=1.000, val_loss=0.366, val_accuracy=0.917, val_f1_score=0.917]\n",
      "Epoch 113:  98%|█████████▊| 250/255 [01:36<00:01,  2.59it/s, loss=0.0318, v_num=4, train_loss=0.00187, train_accuracy=1.000, train_f1_score=1.000, val_loss=0.366, val_accuracy=0.917, val_f1_score=0.917]\n",
      "Epoch 113:  99%|█████████▉| 252/255 [01:36<00:01,  2.61it/s, loss=0.0318, v_num=4, train_loss=0.00187, train_accuracy=1.000, train_f1_score=1.000, val_loss=0.366, val_accuracy=0.917, val_f1_score=0.917]\n",
      "Epoch 113: 100%|█████████▉| 254/255 [01:36<00:00,  2.62it/s, loss=0.0318, v_num=4, train_loss=0.00187, train_accuracy=1.000, train_f1_score=1.000, val_loss=0.366, val_accuracy=0.917, val_f1_score=0.917]\n",
      "Epoch 113: 100%|██████████| 255/255 [01:37<00:00,  2.60it/s, loss=0.0318, v_num=4, train_loss=0.00187, train_accuracy=1.000, train_f1_score=1.000, val_loss=0.347, val_accuracy=0.918, val_f1_score=0.918]\n",
      "Epoch 113: 100%|██████████| 255/255 [01:37<00:00,  2.60it/s, loss=0.0318, v_num=4, train_loss=0.00187, train_accuracy=1.000, train_f1_score=1.000, val_loss=0.347, val_accuracy=0.918, val_f1_score=0.918]"
     ]
    },
    {
     "name": "stderr",
     "output_type": "stream",
     "text": [
      "Epoch 113, global step 25763: val_loss was not in top 2\n"
     ]
    },
    {
     "name": "stdout",
     "output_type": "stream",
     "text": [
      "Epoch 114:  89%|████████▊ | 226/255 [01:27<00:11,  2.59it/s, loss=0.0554, v_num=4, train_loss=0.00424, train_accuracy=1.000, train_f1_score=1.000, val_loss=0.347, val_accuracy=0.918, val_f1_score=0.918]\n",
      "Validating: 0it [00:00, ?it/s]\u001b[A\n",
      "Validating:   0%|          | 0/29 [00:00<?, ?it/s]\u001b[A\n",
      "Epoch 114:  89%|████████▉ | 228/255 [01:35<00:11,  2.40it/s, loss=0.0554, v_num=4, train_loss=0.00424, train_accuracy=1.000, train_f1_score=1.000, val_loss=0.347, val_accuracy=0.918, val_f1_score=0.918]\n",
      "Epoch 114:  90%|█████████ | 230/255 [01:35<00:10,  2.41it/s, loss=0.0554, v_num=4, train_loss=0.00424, train_accuracy=1.000, train_f1_score=1.000, val_loss=0.347, val_accuracy=0.918, val_f1_score=0.918]\n",
      "Epoch 114:  91%|█████████ | 232/255 [01:35<00:09,  2.43it/s, loss=0.0554, v_num=4, train_loss=0.00424, train_accuracy=1.000, train_f1_score=1.000, val_loss=0.347, val_accuracy=0.918, val_f1_score=0.918]\n",
      "Epoch 114:  92%|█████████▏| 234/255 [01:35<00:08,  2.45it/s, loss=0.0554, v_num=4, train_loss=0.00424, train_accuracy=1.000, train_f1_score=1.000, val_loss=0.347, val_accuracy=0.918, val_f1_score=0.918]\n",
      "Epoch 114:  93%|█████████▎| 236/255 [01:35<00:07,  2.47it/s, loss=0.0554, v_num=4, train_loss=0.00424, train_accuracy=1.000, train_f1_score=1.000, val_loss=0.347, val_accuracy=0.918, val_f1_score=0.918]\n",
      "Epoch 114:  93%|█████████▎| 238/255 [01:35<00:06,  2.48it/s, loss=0.0554, v_num=4, train_loss=0.00424, train_accuracy=1.000, train_f1_score=1.000, val_loss=0.347, val_accuracy=0.918, val_f1_score=0.918]\n",
      "Epoch 114:  94%|█████████▍| 240/255 [01:36<00:06,  2.50it/s, loss=0.0554, v_num=4, train_loss=0.00424, train_accuracy=1.000, train_f1_score=1.000, val_loss=0.347, val_accuracy=0.918, val_f1_score=0.918]\n",
      "Epoch 114:  95%|█████████▍| 242/255 [01:36<00:05,  2.52it/s, loss=0.0554, v_num=4, train_loss=0.00424, train_accuracy=1.000, train_f1_score=1.000, val_loss=0.347, val_accuracy=0.918, val_f1_score=0.918]\n",
      "Epoch 114:  96%|█████████▌| 244/255 [01:36<00:04,  2.53it/s, loss=0.0554, v_num=4, train_loss=0.00424, train_accuracy=1.000, train_f1_score=1.000, val_loss=0.347, val_accuracy=0.918, val_f1_score=0.918]\n",
      "Epoch 114:  96%|█████████▋| 246/255 [01:36<00:03,  2.55it/s, loss=0.0554, v_num=4, train_loss=0.00424, train_accuracy=1.000, train_f1_score=1.000, val_loss=0.347, val_accuracy=0.918, val_f1_score=0.918]\n",
      "Epoch 114:  97%|█████████▋| 248/255 [01:36<00:02,  2.57it/s, loss=0.0554, v_num=4, train_loss=0.00424, train_accuracy=1.000, train_f1_score=1.000, val_loss=0.347, val_accuracy=0.918, val_f1_score=0.918]\n",
      "Epoch 114:  98%|█████████▊| 250/255 [01:36<00:01,  2.58it/s, loss=0.0554, v_num=4, train_loss=0.00424, train_accuracy=1.000, train_f1_score=1.000, val_loss=0.347, val_accuracy=0.918, val_f1_score=0.918]\n",
      "Epoch 114:  99%|█████████▉| 252/255 [01:36<00:01,  2.60it/s, loss=0.0554, v_num=4, train_loss=0.00424, train_accuracy=1.000, train_f1_score=1.000, val_loss=0.347, val_accuracy=0.918, val_f1_score=0.918]\n",
      "Epoch 114: 100%|█████████▉| 254/255 [01:37<00:00,  2.62it/s, loss=0.0554, v_num=4, train_loss=0.00424, train_accuracy=1.000, train_f1_score=1.000, val_loss=0.347, val_accuracy=0.918, val_f1_score=0.918]\n",
      "Epoch 114: 100%|██████████| 255/255 [01:38<00:00,  2.59it/s, loss=0.0554, v_num=4, train_loss=0.00424, train_accuracy=1.000, train_f1_score=1.000, val_loss=0.312, val_accuracy=0.925, val_f1_score=0.925]\n",
      "Epoch 114: 100%|██████████| 255/255 [01:38<00:00,  2.59it/s, loss=0.0554, v_num=4, train_loss=0.00424, train_accuracy=1.000, train_f1_score=1.000, val_loss=0.312, val_accuracy=0.925, val_f1_score=0.925]"
     ]
    },
    {
     "name": "stderr",
     "output_type": "stream",
     "text": [
      "Epoch 114, global step 25989: val_loss was not in top 2\n"
     ]
    },
    {
     "name": "stdout",
     "output_type": "stream",
     "text": [
      "Epoch 115:  89%|████████▊ | 226/255 [01:26<00:11,  2.60it/s, loss=0.021, v_num=4, train_loss=0.0142, train_accuracy=1.000, train_f1_score=1.000, val_loss=0.312, val_accuracy=0.925, val_f1_score=0.925]   \n",
      "Validating: 0it [00:00, ?it/s]\u001b[A\n",
      "Validating:   0%|          | 0/29 [00:00<?, ?it/s]\u001b[A\n",
      "Epoch 115:  89%|████████▉ | 228/255 [01:35<00:11,  2.40it/s, loss=0.021, v_num=4, train_loss=0.0142, train_accuracy=1.000, train_f1_score=1.000, val_loss=0.312, val_accuracy=0.925, val_f1_score=0.925]\n",
      "Epoch 115:  90%|█████████ | 230/255 [01:35<00:10,  2.42it/s, loss=0.021, v_num=4, train_loss=0.0142, train_accuracy=1.000, train_f1_score=1.000, val_loss=0.312, val_accuracy=0.925, val_f1_score=0.925]\n",
      "Validating:  14%|█▍        | 4/29 [00:08<00:32,  1.31s/it]\u001b[A\n",
      "Epoch 115:  91%|█████████ | 232/255 [01:35<00:09,  2.43it/s, loss=0.021, v_num=4, train_loss=0.0142, train_accuracy=1.000, train_f1_score=1.000, val_loss=0.312, val_accuracy=0.925, val_f1_score=0.925]\n",
      "Epoch 115:  92%|█████████▏| 234/255 [01:35<00:08,  2.45it/s, loss=0.021, v_num=4, train_loss=0.0142, train_accuracy=1.000, train_f1_score=1.000, val_loss=0.312, val_accuracy=0.925, val_f1_score=0.925]\n",
      "Epoch 115:  93%|█████████▎| 236/255 [01:35<00:07,  2.46it/s, loss=0.021, v_num=4, train_loss=0.0142, train_accuracy=1.000, train_f1_score=1.000, val_loss=0.312, val_accuracy=0.925, val_f1_score=0.925]\n",
      "Epoch 115:  93%|█████████▎| 238/255 [01:35<00:06,  2.48it/s, loss=0.021, v_num=4, train_loss=0.0142, train_accuracy=1.000, train_f1_score=1.000, val_loss=0.312, val_accuracy=0.925, val_f1_score=0.925]\n",
      "Epoch 115:  94%|█████████▍| 240/255 [01:36<00:06,  2.50it/s, loss=0.021, v_num=4, train_loss=0.0142, train_accuracy=1.000, train_f1_score=1.000, val_loss=0.312, val_accuracy=0.925, val_f1_score=0.925]\n",
      "Epoch 115:  95%|█████████▍| 242/255 [01:36<00:05,  2.51it/s, loss=0.021, v_num=4, train_loss=0.0142, train_accuracy=1.000, train_f1_score=1.000, val_loss=0.312, val_accuracy=0.925, val_f1_score=0.925]\n",
      "Epoch 115:  96%|█████████▌| 244/255 [01:36<00:04,  2.53it/s, loss=0.021, v_num=4, train_loss=0.0142, train_accuracy=1.000, train_f1_score=1.000, val_loss=0.312, val_accuracy=0.925, val_f1_score=0.925]\n",
      "Epoch 115:  96%|█████████▋| 246/255 [01:36<00:03,  2.55it/s, loss=0.021, v_num=4, train_loss=0.0142, train_accuracy=1.000, train_f1_score=1.000, val_loss=0.312, val_accuracy=0.925, val_f1_score=0.925]\n",
      "Epoch 115:  97%|█████████▋| 248/255 [01:36<00:02,  2.56it/s, loss=0.021, v_num=4, train_loss=0.0142, train_accuracy=1.000, train_f1_score=1.000, val_loss=0.312, val_accuracy=0.925, val_f1_score=0.925]\n",
      "Epoch 115:  98%|█████████▊| 250/255 [01:37<00:01,  2.58it/s, loss=0.021, v_num=4, train_loss=0.0142, train_accuracy=1.000, train_f1_score=1.000, val_loss=0.312, val_accuracy=0.925, val_f1_score=0.925]\n",
      "Epoch 115:  99%|█████████▉| 252/255 [01:37<00:01,  2.59it/s, loss=0.021, v_num=4, train_loss=0.0142, train_accuracy=1.000, train_f1_score=1.000, val_loss=0.312, val_accuracy=0.925, val_f1_score=0.925]\n",
      "Epoch 115: 100%|█████████▉| 254/255 [01:37<00:00,  2.61it/s, loss=0.021, v_num=4, train_loss=0.0142, train_accuracy=1.000, train_f1_score=1.000, val_loss=0.312, val_accuracy=0.925, val_f1_score=0.925]\n",
      "Epoch 115: 100%|██████████| 255/255 [01:38<00:00,  2.59it/s, loss=0.021, v_num=4, train_loss=0.0142, train_accuracy=1.000, train_f1_score=1.000, val_loss=0.308, val_accuracy=0.930, val_f1_score=0.930]\n",
      "Epoch 115: 100%|██████████| 255/255 [01:38<00:00,  2.59it/s, loss=0.021, v_num=4, train_loss=0.0142, train_accuracy=1.000, train_f1_score=1.000, val_loss=0.308, val_accuracy=0.930, val_f1_score=0.930]"
     ]
    },
    {
     "name": "stderr",
     "output_type": "stream",
     "text": [
      "Epoch 115, global step 26215: val_loss was not in top 2\n"
     ]
    },
    {
     "name": "stdout",
     "output_type": "stream",
     "text": [
      "Epoch 116:  89%|████████▊ | 226/255 [01:26<00:11,  2.61it/s, loss=0.0448, v_num=4, train_loss=0.00197, train_accuracy=1.000, train_f1_score=1.000, val_loss=0.308, val_accuracy=0.930, val_f1_score=0.930]\n",
      "Validating: 0it [00:00, ?it/s]\u001b[A\n",
      "Validating:   0%|          | 0/29 [00:00<?, ?it/s]\u001b[A\n",
      "Epoch 116:  89%|████████▉ | 228/255 [01:34<00:11,  2.41it/s, loss=0.0448, v_num=4, train_loss=0.00197, train_accuracy=1.000, train_f1_score=1.000, val_loss=0.308, val_accuracy=0.930, val_f1_score=0.930]\n",
      "Epoch 116:  90%|█████████ | 230/255 [01:34<00:10,  2.43it/s, loss=0.0448, v_num=4, train_loss=0.00197, train_accuracy=1.000, train_f1_score=1.000, val_loss=0.308, val_accuracy=0.930, val_f1_score=0.930]\n",
      "Epoch 116:  91%|█████████ | 232/255 [01:34<00:09,  2.45it/s, loss=0.0448, v_num=4, train_loss=0.00197, train_accuracy=1.000, train_f1_score=1.000, val_loss=0.308, val_accuracy=0.930, val_f1_score=0.930]\n",
      "Epoch 116:  92%|█████████▏| 234/255 [01:35<00:08,  2.46it/s, loss=0.0448, v_num=4, train_loss=0.00197, train_accuracy=1.000, train_f1_score=1.000, val_loss=0.308, val_accuracy=0.930, val_f1_score=0.930]\n",
      "Epoch 116:  93%|█████████▎| 236/255 [01:35<00:07,  2.48it/s, loss=0.0448, v_num=4, train_loss=0.00197, train_accuracy=1.000, train_f1_score=1.000, val_loss=0.308, val_accuracy=0.930, val_f1_score=0.930]\n",
      "Epoch 116:  93%|█████████▎| 238/255 [01:35<00:06,  2.50it/s, loss=0.0448, v_num=4, train_loss=0.00197, train_accuracy=1.000, train_f1_score=1.000, val_loss=0.308, val_accuracy=0.930, val_f1_score=0.930]\n",
      "Epoch 116:  94%|█████████▍| 240/255 [01:35<00:05,  2.51it/s, loss=0.0448, v_num=4, train_loss=0.00197, train_accuracy=1.000, train_f1_score=1.000, val_loss=0.308, val_accuracy=0.930, val_f1_score=0.930]\n",
      "Epoch 116:  95%|█████████▍| 242/255 [01:35<00:05,  2.53it/s, loss=0.0448, v_num=4, train_loss=0.00197, train_accuracy=1.000, train_f1_score=1.000, val_loss=0.308, val_accuracy=0.930, val_f1_score=0.930]\n",
      "Epoch 116:  96%|█████████▌| 244/255 [01:35<00:04,  2.55it/s, loss=0.0448, v_num=4, train_loss=0.00197, train_accuracy=1.000, train_f1_score=1.000, val_loss=0.308, val_accuracy=0.930, val_f1_score=0.930]\n",
      "Epoch 116:  96%|█████████▋| 246/255 [01:36<00:03,  2.56it/s, loss=0.0448, v_num=4, train_loss=0.00197, train_accuracy=1.000, train_f1_score=1.000, val_loss=0.308, val_accuracy=0.930, val_f1_score=0.930]\n",
      "Epoch 116:  97%|█████████▋| 248/255 [01:36<00:02,  2.58it/s, loss=0.0448, v_num=4, train_loss=0.00197, train_accuracy=1.000, train_f1_score=1.000, val_loss=0.308, val_accuracy=0.930, val_f1_score=0.930]\n",
      "Epoch 116:  98%|█████████▊| 250/255 [01:36<00:01,  2.59it/s, loss=0.0448, v_num=4, train_loss=0.00197, train_accuracy=1.000, train_f1_score=1.000, val_loss=0.308, val_accuracy=0.930, val_f1_score=0.930]\n",
      "Epoch 116:  99%|█████████▉| 252/255 [01:36<00:01,  2.61it/s, loss=0.0448, v_num=4, train_loss=0.00197, train_accuracy=1.000, train_f1_score=1.000, val_loss=0.308, val_accuracy=0.930, val_f1_score=0.930]\n",
      "Epoch 116: 100%|█████████▉| 254/255 [01:36<00:00,  2.63it/s, loss=0.0448, v_num=4, train_loss=0.00197, train_accuracy=1.000, train_f1_score=1.000, val_loss=0.308, val_accuracy=0.930, val_f1_score=0.930]\n",
      "Epoch 116: 100%|██████████| 255/255 [01:37<00:00,  2.61it/s, loss=0.0448, v_num=4, train_loss=0.00197, train_accuracy=1.000, train_f1_score=1.000, val_loss=0.306, val_accuracy=0.930, val_f1_score=0.930]\n",
      "Epoch 116: 100%|██████████| 255/255 [01:37<00:00,  2.61it/s, loss=0.0448, v_num=4, train_loss=0.00197, train_accuracy=1.000, train_f1_score=1.000, val_loss=0.306, val_accuracy=0.930, val_f1_score=0.930]"
     ]
    },
    {
     "name": "stderr",
     "output_type": "stream",
     "text": [
      "Epoch 116, global step 26441: val_loss was not in top 2\n"
     ]
    },
    {
     "name": "stdout",
     "output_type": "stream",
     "text": [
      "Epoch 117:  89%|████████▊ | 226/255 [01:26<00:11,  2.61it/s, loss=0.0598, v_num=4, train_loss=0.0138, train_accuracy=1.000, train_f1_score=1.000, val_loss=0.306, val_accuracy=0.930, val_f1_score=0.930] \n",
      "Validating: 0it [00:00, ?it/s]\u001b[A\n",
      "Validating:   0%|          | 0/29 [00:00<?, ?it/s]\u001b[A\n",
      "Epoch 117:  89%|████████▉ | 228/255 [01:34<00:11,  2.42it/s, loss=0.0598, v_num=4, train_loss=0.0138, train_accuracy=1.000, train_f1_score=1.000, val_loss=0.306, val_accuracy=0.930, val_f1_score=0.930]\n",
      "Epoch 117:  90%|█████████ | 230/255 [01:34<00:10,  2.43it/s, loss=0.0598, v_num=4, train_loss=0.0138, train_accuracy=1.000, train_f1_score=1.000, val_loss=0.306, val_accuracy=0.930, val_f1_score=0.930]\n",
      "Epoch 117:  91%|█████████ | 232/255 [01:34<00:09,  2.45it/s, loss=0.0598, v_num=4, train_loss=0.0138, train_accuracy=1.000, train_f1_score=1.000, val_loss=0.306, val_accuracy=0.930, val_f1_score=0.930]\n",
      "Epoch 117:  92%|█████████▏| 234/255 [01:34<00:08,  2.46it/s, loss=0.0598, v_num=4, train_loss=0.0138, train_accuracy=1.000, train_f1_score=1.000, val_loss=0.306, val_accuracy=0.930, val_f1_score=0.930]\n",
      "Epoch 117:  93%|█████████▎| 236/255 [01:35<00:07,  2.48it/s, loss=0.0598, v_num=4, train_loss=0.0138, train_accuracy=1.000, train_f1_score=1.000, val_loss=0.306, val_accuracy=0.930, val_f1_score=0.930]\n",
      "Epoch 117:  93%|█████████▎| 238/255 [01:35<00:06,  2.50it/s, loss=0.0598, v_num=4, train_loss=0.0138, train_accuracy=1.000, train_f1_score=1.000, val_loss=0.306, val_accuracy=0.930, val_f1_score=0.930]\n",
      "Epoch 117:  94%|█████████▍| 240/255 [01:35<00:05,  2.51it/s, loss=0.0598, v_num=4, train_loss=0.0138, train_accuracy=1.000, train_f1_score=1.000, val_loss=0.306, val_accuracy=0.930, val_f1_score=0.930]\n",
      "Epoch 117:  95%|█████████▍| 242/255 [01:35<00:05,  2.53it/s, loss=0.0598, v_num=4, train_loss=0.0138, train_accuracy=1.000, train_f1_score=1.000, val_loss=0.306, val_accuracy=0.930, val_f1_score=0.930]\n",
      "Epoch 117:  96%|█████████▌| 244/255 [01:35<00:04,  2.55it/s, loss=0.0598, v_num=4, train_loss=0.0138, train_accuracy=1.000, train_f1_score=1.000, val_loss=0.306, val_accuracy=0.930, val_f1_score=0.930]\n",
      "Epoch 117:  96%|█████████▋| 246/255 [01:36<00:03,  2.56it/s, loss=0.0598, v_num=4, train_loss=0.0138, train_accuracy=1.000, train_f1_score=1.000, val_loss=0.306, val_accuracy=0.930, val_f1_score=0.930]\n",
      "Epoch 117:  97%|█████████▋| 248/255 [01:36<00:02,  2.58it/s, loss=0.0598, v_num=4, train_loss=0.0138, train_accuracy=1.000, train_f1_score=1.000, val_loss=0.306, val_accuracy=0.930, val_f1_score=0.930]\n",
      "Epoch 117:  98%|█████████▊| 250/255 [01:36<00:01,  2.59it/s, loss=0.0598, v_num=4, train_loss=0.0138, train_accuracy=1.000, train_f1_score=1.000, val_loss=0.306, val_accuracy=0.930, val_f1_score=0.930]\n",
      "Epoch 117:  99%|█████████▉| 252/255 [01:36<00:01,  2.61it/s, loss=0.0598, v_num=4, train_loss=0.0138, train_accuracy=1.000, train_f1_score=1.000, val_loss=0.306, val_accuracy=0.930, val_f1_score=0.930]\n",
      "Epoch 117: 100%|█████████▉| 254/255 [01:36<00:00,  2.63it/s, loss=0.0598, v_num=4, train_loss=0.0138, train_accuracy=1.000, train_f1_score=1.000, val_loss=0.306, val_accuracy=0.930, val_f1_score=0.930]\n",
      "Epoch 117: 100%|██████████| 255/255 [01:37<00:00,  2.60it/s, loss=0.0598, v_num=4, train_loss=0.0138, train_accuracy=1.000, train_f1_score=1.000, val_loss=0.358, val_accuracy=0.921, val_f1_score=0.921]\n",
      "Epoch 117: 100%|██████████| 255/255 [01:37<00:00,  2.60it/s, loss=0.0598, v_num=4, train_loss=0.0138, train_accuracy=1.000, train_f1_score=1.000, val_loss=0.358, val_accuracy=0.921, val_f1_score=0.921]"
     ]
    },
    {
     "name": "stderr",
     "output_type": "stream",
     "text": [
      "Epoch 117, global step 26667: val_loss was not in top 2\n"
     ]
    },
    {
     "name": "stdout",
     "output_type": "stream",
     "text": [
      "Epoch 118:  89%|████████▊ | 226/255 [01:26<00:11,  2.60it/s, loss=0.0618, v_num=4, train_loss=0.0244, train_accuracy=1.000, train_f1_score=1.000, val_loss=0.358, val_accuracy=0.921, val_f1_score=0.921] \n",
      "Validating: 0it [00:00, ?it/s]\u001b[A\n",
      "Validating:   0%|          | 0/29 [00:00<?, ?it/s]\u001b[A\n",
      "Epoch 118:  89%|████████▉ | 228/255 [01:34<00:11,  2.41it/s, loss=0.0618, v_num=4, train_loss=0.0244, train_accuracy=1.000, train_f1_score=1.000, val_loss=0.358, val_accuracy=0.921, val_f1_score=0.921]\n",
      "Epoch 118:  90%|█████████ | 230/255 [01:34<00:10,  2.43it/s, loss=0.0618, v_num=4, train_loss=0.0244, train_accuracy=1.000, train_f1_score=1.000, val_loss=0.358, val_accuracy=0.921, val_f1_score=0.921]\n",
      "Epoch 118:  91%|█████████ | 232/255 [01:34<00:09,  2.44it/s, loss=0.0618, v_num=4, train_loss=0.0244, train_accuracy=1.000, train_f1_score=1.000, val_loss=0.358, val_accuracy=0.921, val_f1_score=0.921]\n",
      "Epoch 118:  92%|█████████▏| 234/255 [01:35<00:08,  2.46it/s, loss=0.0618, v_num=4, train_loss=0.0244, train_accuracy=1.000, train_f1_score=1.000, val_loss=0.358, val_accuracy=0.921, val_f1_score=0.921]\n",
      "Epoch 118:  93%|█████████▎| 236/255 [01:35<00:07,  2.48it/s, loss=0.0618, v_num=4, train_loss=0.0244, train_accuracy=1.000, train_f1_score=1.000, val_loss=0.358, val_accuracy=0.921, val_f1_score=0.921]\n",
      "Epoch 118:  93%|█████████▎| 238/255 [01:35<00:06,  2.49it/s, loss=0.0618, v_num=4, train_loss=0.0244, train_accuracy=1.000, train_f1_score=1.000, val_loss=0.358, val_accuracy=0.921, val_f1_score=0.921]\n",
      "Epoch 118:  94%|█████████▍| 240/255 [01:35<00:05,  2.51it/s, loss=0.0618, v_num=4, train_loss=0.0244, train_accuracy=1.000, train_f1_score=1.000, val_loss=0.358, val_accuracy=0.921, val_f1_score=0.921]\n",
      "Epoch 118:  95%|█████████▍| 242/255 [01:35<00:05,  2.52it/s, loss=0.0618, v_num=4, train_loss=0.0244, train_accuracy=1.000, train_f1_score=1.000, val_loss=0.358, val_accuracy=0.921, val_f1_score=0.921]\n",
      "Epoch 118:  96%|█████████▌| 244/255 [01:36<00:04,  2.54it/s, loss=0.0618, v_num=4, train_loss=0.0244, train_accuracy=1.000, train_f1_score=1.000, val_loss=0.358, val_accuracy=0.921, val_f1_score=0.921]\n",
      "Epoch 118:  96%|█████████▋| 246/255 [01:36<00:03,  2.56it/s, loss=0.0618, v_num=4, train_loss=0.0244, train_accuracy=1.000, train_f1_score=1.000, val_loss=0.358, val_accuracy=0.921, val_f1_score=0.921]\n",
      "Epoch 118:  97%|█████████▋| 248/255 [01:36<00:02,  2.57it/s, loss=0.0618, v_num=4, train_loss=0.0244, train_accuracy=1.000, train_f1_score=1.000, val_loss=0.358, val_accuracy=0.921, val_f1_score=0.921]\n",
      "Epoch 118:  98%|█████████▊| 250/255 [01:36<00:01,  2.59it/s, loss=0.0618, v_num=4, train_loss=0.0244, train_accuracy=1.000, train_f1_score=1.000, val_loss=0.358, val_accuracy=0.921, val_f1_score=0.921]\n",
      "Epoch 118:  99%|█████████▉| 252/255 [01:36<00:01,  2.61it/s, loss=0.0618, v_num=4, train_loss=0.0244, train_accuracy=1.000, train_f1_score=1.000, val_loss=0.358, val_accuracy=0.921, val_f1_score=0.921]\n",
      "Epoch 118: 100%|█████████▉| 254/255 [01:36<00:00,  2.62it/s, loss=0.0618, v_num=4, train_loss=0.0244, train_accuracy=1.000, train_f1_score=1.000, val_loss=0.358, val_accuracy=0.921, val_f1_score=0.921]\n",
      "Epoch 118: 100%|██████████| 255/255 [01:38<00:00,  2.60it/s, loss=0.0618, v_num=4, train_loss=0.0244, train_accuracy=1.000, train_f1_score=1.000, val_loss=0.334, val_accuracy=0.924, val_f1_score=0.924]\n",
      "Epoch 118: 100%|██████████| 255/255 [01:38<00:00,  2.60it/s, loss=0.0618, v_num=4, train_loss=0.0244, train_accuracy=1.000, train_f1_score=1.000, val_loss=0.334, val_accuracy=0.924, val_f1_score=0.924]"
     ]
    },
    {
     "name": "stderr",
     "output_type": "stream",
     "text": [
      "Epoch 118, global step 26893: val_loss was not in top 2\n"
     ]
    },
    {
     "name": "stdout",
     "output_type": "stream",
     "text": [
      "Epoch 119:  89%|████████▊ | 226/255 [01:26<00:11,  2.60it/s, loss=0.0504, v_num=4, train_loss=0.266, train_accuracy=0.944, train_f1_score=0.944, val_loss=0.334, val_accuracy=0.924, val_f1_score=0.924]  \n",
      "Validating: 0it [00:00, ?it/s]\u001b[A\n",
      "Validating:   0%|          | 0/29 [00:00<?, ?it/s]\u001b[A\n",
      "Epoch 119:  89%|████████▉ | 228/255 [01:34<00:11,  2.41it/s, loss=0.0504, v_num=4, train_loss=0.266, train_accuracy=0.944, train_f1_score=0.944, val_loss=0.334, val_accuracy=0.924, val_f1_score=0.924]\n",
      "Epoch 119:  90%|█████████ | 230/255 [01:34<00:10,  2.42it/s, loss=0.0504, v_num=4, train_loss=0.266, train_accuracy=0.944, train_f1_score=0.944, val_loss=0.334, val_accuracy=0.924, val_f1_score=0.924]\n",
      "Epoch 119:  91%|█████████ | 232/255 [01:35<00:09,  2.44it/s, loss=0.0504, v_num=4, train_loss=0.266, train_accuracy=0.944, train_f1_score=0.944, val_loss=0.334, val_accuracy=0.924, val_f1_score=0.924]\n",
      "Epoch 119:  92%|█████████▏| 234/255 [01:35<00:08,  2.46it/s, loss=0.0504, v_num=4, train_loss=0.266, train_accuracy=0.944, train_f1_score=0.944, val_loss=0.334, val_accuracy=0.924, val_f1_score=0.924]\n",
      "Epoch 119:  93%|█████████▎| 236/255 [01:35<00:07,  2.47it/s, loss=0.0504, v_num=4, train_loss=0.266, train_accuracy=0.944, train_f1_score=0.944, val_loss=0.334, val_accuracy=0.924, val_f1_score=0.924]\n",
      "Epoch 119:  93%|█████████▎| 238/255 [01:35<00:06,  2.49it/s, loss=0.0504, v_num=4, train_loss=0.266, train_accuracy=0.944, train_f1_score=0.944, val_loss=0.334, val_accuracy=0.924, val_f1_score=0.924]\n",
      "Epoch 119:  94%|█████████▍| 240/255 [01:35<00:05,  2.51it/s, loss=0.0504, v_num=4, train_loss=0.266, train_accuracy=0.944, train_f1_score=0.944, val_loss=0.334, val_accuracy=0.924, val_f1_score=0.924]\n",
      "Epoch 119:  95%|█████████▍| 242/255 [01:35<00:05,  2.52it/s, loss=0.0504, v_num=4, train_loss=0.266, train_accuracy=0.944, train_f1_score=0.944, val_loss=0.334, val_accuracy=0.924, val_f1_score=0.924]\n",
      "Epoch 119:  96%|█████████▌| 244/255 [01:36<00:04,  2.54it/s, loss=0.0504, v_num=4, train_loss=0.266, train_accuracy=0.944, train_f1_score=0.944, val_loss=0.334, val_accuracy=0.924, val_f1_score=0.924]\n",
      "Epoch 119:  96%|█████████▋| 246/255 [01:36<00:03,  2.56it/s, loss=0.0504, v_num=4, train_loss=0.266, train_accuracy=0.944, train_f1_score=0.944, val_loss=0.334, val_accuracy=0.924, val_f1_score=0.924]\n",
      "Epoch 119:  97%|█████████▋| 248/255 [01:36<00:02,  2.57it/s, loss=0.0504, v_num=4, train_loss=0.266, train_accuracy=0.944, train_f1_score=0.944, val_loss=0.334, val_accuracy=0.924, val_f1_score=0.924]\n",
      "Epoch 119:  98%|█████████▊| 250/255 [01:36<00:01,  2.59it/s, loss=0.0504, v_num=4, train_loss=0.266, train_accuracy=0.944, train_f1_score=0.944, val_loss=0.334, val_accuracy=0.924, val_f1_score=0.924]\n",
      "Epoch 119:  99%|█████████▉| 252/255 [01:36<00:01,  2.60it/s, loss=0.0504, v_num=4, train_loss=0.266, train_accuracy=0.944, train_f1_score=0.944, val_loss=0.334, val_accuracy=0.924, val_f1_score=0.924]\n",
      "Epoch 119: 100%|█████████▉| 254/255 [01:36<00:00,  2.62it/s, loss=0.0504, v_num=4, train_loss=0.266, train_accuracy=0.944, train_f1_score=0.944, val_loss=0.334, val_accuracy=0.924, val_f1_score=0.924]\n",
      "Epoch 119: 100%|██████████| 255/255 [01:38<00:00,  2.60it/s, loss=0.0504, v_num=4, train_loss=0.266, train_accuracy=0.944, train_f1_score=0.944, val_loss=0.354, val_accuracy=0.918, val_f1_score=0.918]\n",
      "Epoch 119: 100%|██████████| 255/255 [01:38<00:00,  2.60it/s, loss=0.0504, v_num=4, train_loss=0.266, train_accuracy=0.944, train_f1_score=0.944, val_loss=0.354, val_accuracy=0.918, val_f1_score=0.918]"
     ]
    },
    {
     "name": "stderr",
     "output_type": "stream",
     "text": [
      "Epoch 119, global step 27119: val_loss was not in top 2\n"
     ]
    },
    {
     "name": "stdout",
     "output_type": "stream",
     "text": [
      "Epoch 120:  89%|████████▊ | 226/255 [01:27<00:11,  2.59it/s, loss=0.0345, v_num=4, train_loss=0.0112, train_accuracy=1.000, train_f1_score=1.000, val_loss=0.354, val_accuracy=0.918, val_f1_score=0.918] \n",
      "Validating: 0it [00:00, ?it/s]\u001b[A\n",
      "Validating:   0%|          | 0/29 [00:00<?, ?it/s]\u001b[A\n",
      "Epoch 120:  89%|████████▉ | 228/255 [01:34<00:11,  2.40it/s, loss=0.0345, v_num=4, train_loss=0.0112, train_accuracy=1.000, train_f1_score=1.000, val_loss=0.354, val_accuracy=0.918, val_f1_score=0.918]\n",
      "Epoch 120:  90%|█████████ | 230/255 [01:35<00:10,  2.42it/s, loss=0.0345, v_num=4, train_loss=0.0112, train_accuracy=1.000, train_f1_score=1.000, val_loss=0.354, val_accuracy=0.918, val_f1_score=0.918]\n",
      "Epoch 120:  91%|█████████ | 232/255 [01:35<00:09,  2.43it/s, loss=0.0345, v_num=4, train_loss=0.0112, train_accuracy=1.000, train_f1_score=1.000, val_loss=0.354, val_accuracy=0.918, val_f1_score=0.918]\n",
      "Epoch 120:  92%|█████████▏| 234/255 [01:35<00:08,  2.45it/s, loss=0.0345, v_num=4, train_loss=0.0112, train_accuracy=1.000, train_f1_score=1.000, val_loss=0.354, val_accuracy=0.918, val_f1_score=0.918]\n",
      "Epoch 120:  93%|█████████▎| 236/255 [01:35<00:07,  2.47it/s, loss=0.0345, v_num=4, train_loss=0.0112, train_accuracy=1.000, train_f1_score=1.000, val_loss=0.354, val_accuracy=0.918, val_f1_score=0.918]\n",
      "Epoch 120:  93%|█████████▎| 238/255 [01:35<00:06,  2.48it/s, loss=0.0345, v_num=4, train_loss=0.0112, train_accuracy=1.000, train_f1_score=1.000, val_loss=0.354, val_accuracy=0.918, val_f1_score=0.918]\n",
      "Epoch 120:  94%|█████████▍| 240/255 [01:35<00:05,  2.50it/s, loss=0.0345, v_num=4, train_loss=0.0112, train_accuracy=1.000, train_f1_score=1.000, val_loss=0.354, val_accuracy=0.918, val_f1_score=0.918]\n",
      "Epoch 120:  95%|█████████▍| 242/255 [01:36<00:05,  2.52it/s, loss=0.0345, v_num=4, train_loss=0.0112, train_accuracy=1.000, train_f1_score=1.000, val_loss=0.354, val_accuracy=0.918, val_f1_score=0.918]\n",
      "Epoch 120:  96%|█████████▌| 244/255 [01:36<00:04,  2.53it/s, loss=0.0345, v_num=4, train_loss=0.0112, train_accuracy=1.000, train_f1_score=1.000, val_loss=0.354, val_accuracy=0.918, val_f1_score=0.918]\n",
      "Epoch 120:  96%|█████████▋| 246/255 [01:36<00:03,  2.55it/s, loss=0.0345, v_num=4, train_loss=0.0112, train_accuracy=1.000, train_f1_score=1.000, val_loss=0.354, val_accuracy=0.918, val_f1_score=0.918]\n",
      "Epoch 120:  97%|█████████▋| 248/255 [01:36<00:02,  2.57it/s, loss=0.0345, v_num=4, train_loss=0.0112, train_accuracy=1.000, train_f1_score=1.000, val_loss=0.354, val_accuracy=0.918, val_f1_score=0.918]\n",
      "Epoch 120:  98%|█████████▊| 250/255 [01:36<00:01,  2.58it/s, loss=0.0345, v_num=4, train_loss=0.0112, train_accuracy=1.000, train_f1_score=1.000, val_loss=0.354, val_accuracy=0.918, val_f1_score=0.918]\n",
      "Epoch 120:  99%|█████████▉| 252/255 [01:37<00:01,  2.60it/s, loss=0.0345, v_num=4, train_loss=0.0112, train_accuracy=1.000, train_f1_score=1.000, val_loss=0.354, val_accuracy=0.918, val_f1_score=0.918]\n",
      "Epoch 120: 100%|█████████▉| 254/255 [01:37<00:00,  2.61it/s, loss=0.0345, v_num=4, train_loss=0.0112, train_accuracy=1.000, train_f1_score=1.000, val_loss=0.354, val_accuracy=0.918, val_f1_score=0.918]\n",
      "Epoch 120: 100%|██████████| 255/255 [01:38<00:00,  2.59it/s, loss=0.0345, v_num=4, train_loss=0.0112, train_accuracy=1.000, train_f1_score=1.000, val_loss=0.295, val_accuracy=0.923, val_f1_score=0.923]\n",
      "Epoch 120: 100%|██████████| 255/255 [01:38<00:00,  2.59it/s, loss=0.0345, v_num=4, train_loss=0.0112, train_accuracy=1.000, train_f1_score=1.000, val_loss=0.295, val_accuracy=0.923, val_f1_score=0.923]"
     ]
    },
    {
     "name": "stderr",
     "output_type": "stream",
     "text": [
      "Epoch 120, global step 27345: val_loss was not in top 2\n"
     ]
    },
    {
     "name": "stdout",
     "output_type": "stream",
     "text": [
      "Epoch 121:  89%|████████▊ | 226/255 [01:26<00:11,  2.60it/s, loss=0.022, v_num=4, train_loss=0.00652, train_accuracy=1.000, train_f1_score=1.000, val_loss=0.295, val_accuracy=0.923, val_f1_score=0.923] \n",
      "Validating: 0it [00:00, ?it/s]\u001b[A\n",
      "Validating:   0%|          | 0/29 [00:00<?, ?it/s]\u001b[A\n",
      "Epoch 121:  89%|████████▉ | 228/255 [01:34<00:11,  2.41it/s, loss=0.022, v_num=4, train_loss=0.00652, train_accuracy=1.000, train_f1_score=1.000, val_loss=0.295, val_accuracy=0.923, val_f1_score=0.923]\n",
      "Epoch 121:  90%|█████████ | 230/255 [01:34<00:10,  2.42it/s, loss=0.022, v_num=4, train_loss=0.00652, train_accuracy=1.000, train_f1_score=1.000, val_loss=0.295, val_accuracy=0.923, val_f1_score=0.923]\n",
      "Epoch 121:  91%|█████████ | 232/255 [01:35<00:09,  2.44it/s, loss=0.022, v_num=4, train_loss=0.00652, train_accuracy=1.000, train_f1_score=1.000, val_loss=0.295, val_accuracy=0.923, val_f1_score=0.923]\n",
      "Validating:  21%|██        | 6/29 [00:08<00:17,  1.32it/s]\u001b[A\n",
      "Epoch 121:  92%|█████████▏| 234/255 [01:35<00:08,  2.46it/s, loss=0.022, v_num=4, train_loss=0.00652, train_accuracy=1.000, train_f1_score=1.000, val_loss=0.295, val_accuracy=0.923, val_f1_score=0.923]\n",
      "Epoch 121:  93%|█████████▎| 236/255 [01:35<00:07,  2.47it/s, loss=0.022, v_num=4, train_loss=0.00652, train_accuracy=1.000, train_f1_score=1.000, val_loss=0.295, val_accuracy=0.923, val_f1_score=0.923]\n",
      "Epoch 121:  93%|█████████▎| 238/255 [01:35<00:06,  2.49it/s, loss=0.022, v_num=4, train_loss=0.00652, train_accuracy=1.000, train_f1_score=1.000, val_loss=0.295, val_accuracy=0.923, val_f1_score=0.923]\n",
      "Epoch 121:  94%|█████████▍| 240/255 [01:35<00:05,  2.50it/s, loss=0.022, v_num=4, train_loss=0.00652, train_accuracy=1.000, train_f1_score=1.000, val_loss=0.295, val_accuracy=0.923, val_f1_score=0.923]\n",
      "Epoch 121:  95%|█████████▍| 242/255 [01:36<00:05,  2.52it/s, loss=0.022, v_num=4, train_loss=0.00652, train_accuracy=1.000, train_f1_score=1.000, val_loss=0.295, val_accuracy=0.923, val_f1_score=0.923]\n",
      "Epoch 121:  96%|█████████▌| 244/255 [01:36<00:04,  2.54it/s, loss=0.022, v_num=4, train_loss=0.00652, train_accuracy=1.000, train_f1_score=1.000, val_loss=0.295, val_accuracy=0.923, val_f1_score=0.923]\n",
      "Epoch 121:  96%|█████████▋| 246/255 [01:36<00:03,  2.55it/s, loss=0.022, v_num=4, train_loss=0.00652, train_accuracy=1.000, train_f1_score=1.000, val_loss=0.295, val_accuracy=0.923, val_f1_score=0.923]\n",
      "Epoch 121:  97%|█████████▋| 248/255 [01:36<00:02,  2.57it/s, loss=0.022, v_num=4, train_loss=0.00652, train_accuracy=1.000, train_f1_score=1.000, val_loss=0.295, val_accuracy=0.923, val_f1_score=0.923]\n",
      "Epoch 121:  98%|█████████▊| 250/255 [01:36<00:01,  2.58it/s, loss=0.022, v_num=4, train_loss=0.00652, train_accuracy=1.000, train_f1_score=1.000, val_loss=0.295, val_accuracy=0.923, val_f1_score=0.923]\n",
      "Epoch 121:  99%|█████████▉| 252/255 [01:36<00:01,  2.60it/s, loss=0.022, v_num=4, train_loss=0.00652, train_accuracy=1.000, train_f1_score=1.000, val_loss=0.295, val_accuracy=0.923, val_f1_score=0.923]\n",
      "Epoch 121: 100%|█████████▉| 254/255 [01:37<00:00,  2.62it/s, loss=0.022, v_num=4, train_loss=0.00652, train_accuracy=1.000, train_f1_score=1.000, val_loss=0.295, val_accuracy=0.923, val_f1_score=0.923]\n",
      "Epoch 121: 100%|██████████| 255/255 [01:38<00:00,  2.60it/s, loss=0.022, v_num=4, train_loss=0.00652, train_accuracy=1.000, train_f1_score=1.000, val_loss=0.275, val_accuracy=0.928, val_f1_score=0.928]\n",
      "Epoch 121: 100%|██████████| 255/255 [01:38<00:00,  2.60it/s, loss=0.022, v_num=4, train_loss=0.00652, train_accuracy=1.000, train_f1_score=1.000, val_loss=0.275, val_accuracy=0.928, val_f1_score=0.928]"
     ]
    },
    {
     "name": "stderr",
     "output_type": "stream",
     "text": [
      "Epoch 121, global step 27571: val_loss was not in top 2\n"
     ]
    },
    {
     "name": "stdout",
     "output_type": "stream",
     "text": [
      "Epoch 122:  89%|████████▊ | 226/255 [01:26<00:11,  2.60it/s, loss=0.00966, v_num=4, train_loss=0.0313, train_accuracy=1.000, train_f1_score=1.000, val_loss=0.275, val_accuracy=0.928, val_f1_score=0.928] \n",
      "Validating: 0it [00:00, ?it/s]\u001b[A\n",
      "Validating:   0%|          | 0/29 [00:00<?, ?it/s]\u001b[A\n",
      "Epoch 122:  89%|████████▉ | 228/255 [01:34<00:11,  2.41it/s, loss=0.00966, v_num=4, train_loss=0.0313, train_accuracy=1.000, train_f1_score=1.000, val_loss=0.275, val_accuracy=0.928, val_f1_score=0.928]\n",
      "Epoch 122:  90%|█████████ | 230/255 [01:34<00:10,  2.42it/s, loss=0.00966, v_num=4, train_loss=0.0313, train_accuracy=1.000, train_f1_score=1.000, val_loss=0.275, val_accuracy=0.928, val_f1_score=0.928]\n",
      "Epoch 122:  91%|█████████ | 232/255 [01:35<00:09,  2.44it/s, loss=0.00966, v_num=4, train_loss=0.0313, train_accuracy=1.000, train_f1_score=1.000, val_loss=0.275, val_accuracy=0.928, val_f1_score=0.928]\n",
      "Epoch 122:  92%|█████████▏| 234/255 [01:35<00:08,  2.46it/s, loss=0.00966, v_num=4, train_loss=0.0313, train_accuracy=1.000, train_f1_score=1.000, val_loss=0.275, val_accuracy=0.928, val_f1_score=0.928]\n",
      "Epoch 122:  93%|█████████▎| 236/255 [01:35<00:07,  2.47it/s, loss=0.00966, v_num=4, train_loss=0.0313, train_accuracy=1.000, train_f1_score=1.000, val_loss=0.275, val_accuracy=0.928, val_f1_score=0.928]\n",
      "Epoch 122:  93%|█████████▎| 238/255 [01:35<00:06,  2.49it/s, loss=0.00966, v_num=4, train_loss=0.0313, train_accuracy=1.000, train_f1_score=1.000, val_loss=0.275, val_accuracy=0.928, val_f1_score=0.928]\n",
      "Epoch 122:  94%|█████████▍| 240/255 [01:35<00:05,  2.51it/s, loss=0.00966, v_num=4, train_loss=0.0313, train_accuracy=1.000, train_f1_score=1.000, val_loss=0.275, val_accuracy=0.928, val_f1_score=0.928]\n",
      "Epoch 122:  95%|█████████▍| 242/255 [01:35<00:05,  2.52it/s, loss=0.00966, v_num=4, train_loss=0.0313, train_accuracy=1.000, train_f1_score=1.000, val_loss=0.275, val_accuracy=0.928, val_f1_score=0.928]\n",
      "Epoch 122:  96%|█████████▌| 244/255 [01:36<00:04,  2.54it/s, loss=0.00966, v_num=4, train_loss=0.0313, train_accuracy=1.000, train_f1_score=1.000, val_loss=0.275, val_accuracy=0.928, val_f1_score=0.928]\n",
      "Epoch 122:  96%|█████████▋| 246/255 [01:36<00:03,  2.55it/s, loss=0.00966, v_num=4, train_loss=0.0313, train_accuracy=1.000, train_f1_score=1.000, val_loss=0.275, val_accuracy=0.928, val_f1_score=0.928]\n",
      "Epoch 122:  97%|█████████▋| 248/255 [01:36<00:02,  2.57it/s, loss=0.00966, v_num=4, train_loss=0.0313, train_accuracy=1.000, train_f1_score=1.000, val_loss=0.275, val_accuracy=0.928, val_f1_score=0.928]\n",
      "Epoch 122:  98%|█████████▊| 250/255 [01:36<00:01,  2.59it/s, loss=0.00966, v_num=4, train_loss=0.0313, train_accuracy=1.000, train_f1_score=1.000, val_loss=0.275, val_accuracy=0.928, val_f1_score=0.928]\n",
      "Epoch 122:  99%|█████████▉| 252/255 [01:36<00:01,  2.60it/s, loss=0.00966, v_num=4, train_loss=0.0313, train_accuracy=1.000, train_f1_score=1.000, val_loss=0.275, val_accuracy=0.928, val_f1_score=0.928]\n",
      "Epoch 122: 100%|█████████▉| 254/255 [01:37<00:00,  2.62it/s, loss=0.00966, v_num=4, train_loss=0.0313, train_accuracy=1.000, train_f1_score=1.000, val_loss=0.275, val_accuracy=0.928, val_f1_score=0.928]\n",
      "Epoch 122: 100%|██████████| 255/255 [01:38<00:00,  2.60it/s, loss=0.00966, v_num=4, train_loss=0.0313, train_accuracy=1.000, train_f1_score=1.000, val_loss=0.279, val_accuracy=0.930, val_f1_score=0.930]\n",
      "Epoch 122: 100%|██████████| 255/255 [01:38<00:00,  2.60it/s, loss=0.00966, v_num=4, train_loss=0.0313, train_accuracy=1.000, train_f1_score=1.000, val_loss=0.279, val_accuracy=0.930, val_f1_score=0.930]"
     ]
    },
    {
     "name": "stderr",
     "output_type": "stream",
     "text": [
      "Epoch 122, global step 27797: val_loss was not in top 2\n"
     ]
    },
    {
     "name": "stdout",
     "output_type": "stream",
     "text": [
      "Epoch 123:  89%|████████▊ | 226/255 [01:26<00:11,  2.60it/s, loss=0.0254, v_num=4, train_loss=0.0397, train_accuracy=0.944, train_f1_score=0.944, val_loss=0.279, val_accuracy=0.930, val_f1_score=0.930]   \n",
      "Validating: 0it [00:00, ?it/s]\u001b[A\n",
      "Validating:   0%|          | 0/29 [00:00<?, ?it/s]\u001b[A\n",
      "Epoch 123:  89%|████████▉ | 228/255 [01:34<00:11,  2.41it/s, loss=0.0254, v_num=4, train_loss=0.0397, train_accuracy=0.944, train_f1_score=0.944, val_loss=0.279, val_accuracy=0.930, val_f1_score=0.930]\n",
      "Epoch 123:  90%|█████████ | 230/255 [01:34<00:10,  2.42it/s, loss=0.0254, v_num=4, train_loss=0.0397, train_accuracy=0.944, train_f1_score=0.944, val_loss=0.279, val_accuracy=0.930, val_f1_score=0.930]\n",
      "Epoch 123:  91%|█████████ | 232/255 [01:35<00:09,  2.44it/s, loss=0.0254, v_num=4, train_loss=0.0397, train_accuracy=0.944, train_f1_score=0.944, val_loss=0.279, val_accuracy=0.930, val_f1_score=0.930]\n",
      "Epoch 123:  92%|█████████▏| 234/255 [01:35<00:08,  2.46it/s, loss=0.0254, v_num=4, train_loss=0.0397, train_accuracy=0.944, train_f1_score=0.944, val_loss=0.279, val_accuracy=0.930, val_f1_score=0.930]\n",
      "Epoch 123:  93%|█████████▎| 236/255 [01:35<00:07,  2.47it/s, loss=0.0254, v_num=4, train_loss=0.0397, train_accuracy=0.944, train_f1_score=0.944, val_loss=0.279, val_accuracy=0.930, val_f1_score=0.930]\n",
      "Epoch 123:  93%|█████████▎| 238/255 [01:35<00:06,  2.49it/s, loss=0.0254, v_num=4, train_loss=0.0397, train_accuracy=0.944, train_f1_score=0.944, val_loss=0.279, val_accuracy=0.930, val_f1_score=0.930]\n",
      "Epoch 123:  94%|█████████▍| 240/255 [01:35<00:05,  2.50it/s, loss=0.0254, v_num=4, train_loss=0.0397, train_accuracy=0.944, train_f1_score=0.944, val_loss=0.279, val_accuracy=0.930, val_f1_score=0.930]\n",
      "Epoch 123:  95%|█████████▍| 242/255 [01:36<00:05,  2.52it/s, loss=0.0254, v_num=4, train_loss=0.0397, train_accuracy=0.944, train_f1_score=0.944, val_loss=0.279, val_accuracy=0.930, val_f1_score=0.930]\n",
      "Epoch 123:  96%|█████████▌| 244/255 [01:36<00:04,  2.54it/s, loss=0.0254, v_num=4, train_loss=0.0397, train_accuracy=0.944, train_f1_score=0.944, val_loss=0.279, val_accuracy=0.930, val_f1_score=0.930]\n",
      "Epoch 123:  96%|█████████▋| 246/255 [01:36<00:03,  2.55it/s, loss=0.0254, v_num=4, train_loss=0.0397, train_accuracy=0.944, train_f1_score=0.944, val_loss=0.279, val_accuracy=0.930, val_f1_score=0.930]\n",
      "Epoch 123:  97%|█████████▋| 248/255 [01:36<00:02,  2.57it/s, loss=0.0254, v_num=4, train_loss=0.0397, train_accuracy=0.944, train_f1_score=0.944, val_loss=0.279, val_accuracy=0.930, val_f1_score=0.930]\n",
      "Epoch 123:  98%|█████████▊| 250/255 [01:36<00:01,  2.59it/s, loss=0.0254, v_num=4, train_loss=0.0397, train_accuracy=0.944, train_f1_score=0.944, val_loss=0.279, val_accuracy=0.930, val_f1_score=0.930]\n",
      "Epoch 123:  99%|█████████▉| 252/255 [01:36<00:01,  2.60it/s, loss=0.0254, v_num=4, train_loss=0.0397, train_accuracy=0.944, train_f1_score=0.944, val_loss=0.279, val_accuracy=0.930, val_f1_score=0.930]\n",
      "Epoch 123: 100%|█████████▉| 254/255 [01:37<00:00,  2.62it/s, loss=0.0254, v_num=4, train_loss=0.0397, train_accuracy=0.944, train_f1_score=0.944, val_loss=0.279, val_accuracy=0.930, val_f1_score=0.930]\n",
      "Epoch 123: 100%|██████████| 255/255 [01:38<00:00,  2.60it/s, loss=0.0254, v_num=4, train_loss=0.0397, train_accuracy=0.944, train_f1_score=0.944, val_loss=0.323, val_accuracy=0.923, val_f1_score=0.923]\n",
      "Epoch 123: 100%|██████████| 255/255 [01:38<00:00,  2.60it/s, loss=0.0254, v_num=4, train_loss=0.0397, train_accuracy=0.944, train_f1_score=0.944, val_loss=0.323, val_accuracy=0.923, val_f1_score=0.923]"
     ]
    },
    {
     "name": "stderr",
     "output_type": "stream",
     "text": [
      "Epoch 123, global step 28023: val_loss was not in top 2\n"
     ]
    },
    {
     "name": "stdout",
     "output_type": "stream",
     "text": [
      "Epoch 124:  89%|████████▊ | 226/255 [01:26<00:11,  2.60it/s, loss=0.024, v_num=4, train_loss=0.00118, train_accuracy=1.000, train_f1_score=1.000, val_loss=0.323, val_accuracy=0.923, val_f1_score=0.923]  \n",
      "Validating: 0it [00:00, ?it/s]\u001b[A\n",
      "Validating:   0%|          | 0/29 [00:00<?, ?it/s]\u001b[A\n",
      "Epoch 124:  89%|████████▉ | 228/255 [01:34<00:11,  2.41it/s, loss=0.024, v_num=4, train_loss=0.00118, train_accuracy=1.000, train_f1_score=1.000, val_loss=0.323, val_accuracy=0.923, val_f1_score=0.923]\n",
      "Epoch 124:  90%|█████████ | 230/255 [01:34<00:10,  2.43it/s, loss=0.024, v_num=4, train_loss=0.00118, train_accuracy=1.000, train_f1_score=1.000, val_loss=0.323, val_accuracy=0.923, val_f1_score=0.923]\n",
      "Epoch 124:  91%|█████████ | 232/255 [01:35<00:09,  2.44it/s, loss=0.024, v_num=4, train_loss=0.00118, train_accuracy=1.000, train_f1_score=1.000, val_loss=0.323, val_accuracy=0.923, val_f1_score=0.923]\n",
      "Epoch 124:  92%|█████████▏| 234/255 [01:35<00:08,  2.46it/s, loss=0.024, v_num=4, train_loss=0.00118, train_accuracy=1.000, train_f1_score=1.000, val_loss=0.323, val_accuracy=0.923, val_f1_score=0.923]\n",
      "Epoch 124:  93%|█████████▎| 236/255 [01:35<00:07,  2.48it/s, loss=0.024, v_num=4, train_loss=0.00118, train_accuracy=1.000, train_f1_score=1.000, val_loss=0.323, val_accuracy=0.923, val_f1_score=0.923]\n",
      "Epoch 124:  93%|█████████▎| 238/255 [01:35<00:06,  2.49it/s, loss=0.024, v_num=4, train_loss=0.00118, train_accuracy=1.000, train_f1_score=1.000, val_loss=0.323, val_accuracy=0.923, val_f1_score=0.923]\n",
      "Epoch 124:  94%|█████████▍| 240/255 [01:35<00:05,  2.51it/s, loss=0.024, v_num=4, train_loss=0.00118, train_accuracy=1.000, train_f1_score=1.000, val_loss=0.323, val_accuracy=0.923, val_f1_score=0.923]\n",
      "Epoch 124:  95%|█████████▍| 242/255 [01:35<00:05,  2.52it/s, loss=0.024, v_num=4, train_loss=0.00118, train_accuracy=1.000, train_f1_score=1.000, val_loss=0.323, val_accuracy=0.923, val_f1_score=0.923]\n",
      "Epoch 124:  96%|█████████▌| 244/255 [01:36<00:04,  2.54it/s, loss=0.024, v_num=4, train_loss=0.00118, train_accuracy=1.000, train_f1_score=1.000, val_loss=0.323, val_accuracy=0.923, val_f1_score=0.923]\n",
      "Epoch 124:  96%|█████████▋| 246/255 [01:36<00:03,  2.56it/s, loss=0.024, v_num=4, train_loss=0.00118, train_accuracy=1.000, train_f1_score=1.000, val_loss=0.323, val_accuracy=0.923, val_f1_score=0.923]\n",
      "Epoch 124:  97%|█████████▋| 248/255 [01:36<00:02,  2.57it/s, loss=0.024, v_num=4, train_loss=0.00118, train_accuracy=1.000, train_f1_score=1.000, val_loss=0.323, val_accuracy=0.923, val_f1_score=0.923]\n",
      "Epoch 124:  98%|█████████▊| 250/255 [01:36<00:01,  2.59it/s, loss=0.024, v_num=4, train_loss=0.00118, train_accuracy=1.000, train_f1_score=1.000, val_loss=0.323, val_accuracy=0.923, val_f1_score=0.923]\n",
      "Epoch 124:  99%|█████████▉| 252/255 [01:36<00:01,  2.61it/s, loss=0.024, v_num=4, train_loss=0.00118, train_accuracy=1.000, train_f1_score=1.000, val_loss=0.323, val_accuracy=0.923, val_f1_score=0.923]\n",
      "Epoch 124: 100%|█████████▉| 254/255 [01:36<00:00,  2.62it/s, loss=0.024, v_num=4, train_loss=0.00118, train_accuracy=1.000, train_f1_score=1.000, val_loss=0.323, val_accuracy=0.923, val_f1_score=0.923]\n",
      "Epoch 124: 100%|██████████| 255/255 [01:38<00:00,  2.60it/s, loss=0.024, v_num=4, train_loss=0.00118, train_accuracy=1.000, train_f1_score=1.000, val_loss=0.293, val_accuracy=0.933, val_f1_score=0.933]\n",
      "Epoch 124: 100%|██████████| 255/255 [01:38<00:00,  2.60it/s, loss=0.024, v_num=4, train_loss=0.00118, train_accuracy=1.000, train_f1_score=1.000, val_loss=0.293, val_accuracy=0.933, val_f1_score=0.933]"
     ]
    },
    {
     "name": "stderr",
     "output_type": "stream",
     "text": [
      "Epoch 124, global step 28249: val_loss was not in top 2\n"
     ]
    },
    {
     "name": "stdout",
     "output_type": "stream",
     "text": [
      "Epoch 125:  89%|████████▊ | 226/255 [01:26<00:11,  2.61it/s, loss=0.024, v_num=4, train_loss=0.0582, train_accuracy=0.944, train_f1_score=0.944, val_loss=0.293, val_accuracy=0.933, val_f1_score=0.933]  \n",
      "Validating: 0it [00:00, ?it/s]\u001b[A\n",
      "Validating:   0%|          | 0/29 [00:00<?, ?it/s]\u001b[A\n",
      "Epoch 125:  89%|████████▉ | 228/255 [01:34<00:11,  2.41it/s, loss=0.024, v_num=4, train_loss=0.0582, train_accuracy=0.944, train_f1_score=0.944, val_loss=0.293, val_accuracy=0.933, val_f1_score=0.933]\n",
      "Epoch 125:  90%|█████████ | 230/255 [01:34<00:10,  2.43it/s, loss=0.024, v_num=4, train_loss=0.0582, train_accuracy=0.944, train_f1_score=0.944, val_loss=0.293, val_accuracy=0.933, val_f1_score=0.933]\n",
      "Epoch 125:  91%|█████████ | 232/255 [01:34<00:09,  2.44it/s, loss=0.024, v_num=4, train_loss=0.0582, train_accuracy=0.944, train_f1_score=0.944, val_loss=0.293, val_accuracy=0.933, val_f1_score=0.933]\n",
      "Epoch 125:  92%|█████████▏| 234/255 [01:35<00:08,  2.46it/s, loss=0.024, v_num=4, train_loss=0.0582, train_accuracy=0.944, train_f1_score=0.944, val_loss=0.293, val_accuracy=0.933, val_f1_score=0.933]\n",
      "Epoch 125:  93%|█████████▎| 236/255 [01:35<00:07,  2.48it/s, loss=0.024, v_num=4, train_loss=0.0582, train_accuracy=0.944, train_f1_score=0.944, val_loss=0.293, val_accuracy=0.933, val_f1_score=0.933]\n",
      "Epoch 125:  93%|█████████▎| 238/255 [01:35<00:06,  2.49it/s, loss=0.024, v_num=4, train_loss=0.0582, train_accuracy=0.944, train_f1_score=0.944, val_loss=0.293, val_accuracy=0.933, val_f1_score=0.933]\n",
      "Epoch 125:  94%|█████████▍| 240/255 [01:35<00:05,  2.51it/s, loss=0.024, v_num=4, train_loss=0.0582, train_accuracy=0.944, train_f1_score=0.944, val_loss=0.293, val_accuracy=0.933, val_f1_score=0.933]\n",
      "Epoch 125:  95%|█████████▍| 242/255 [01:35<00:05,  2.53it/s, loss=0.024, v_num=4, train_loss=0.0582, train_accuracy=0.944, train_f1_score=0.944, val_loss=0.293, val_accuracy=0.933, val_f1_score=0.933]\n",
      "Epoch 125:  96%|█████████▌| 244/255 [01:36<00:04,  2.54it/s, loss=0.024, v_num=4, train_loss=0.0582, train_accuracy=0.944, train_f1_score=0.944, val_loss=0.293, val_accuracy=0.933, val_f1_score=0.933]\n",
      "Epoch 125:  96%|█████████▋| 246/255 [01:36<00:03,  2.56it/s, loss=0.024, v_num=4, train_loss=0.0582, train_accuracy=0.944, train_f1_score=0.944, val_loss=0.293, val_accuracy=0.933, val_f1_score=0.933]\n",
      "Epoch 125:  97%|█████████▋| 248/255 [01:36<00:02,  2.57it/s, loss=0.024, v_num=4, train_loss=0.0582, train_accuracy=0.944, train_f1_score=0.944, val_loss=0.293, val_accuracy=0.933, val_f1_score=0.933]\n",
      "Epoch 125:  98%|█████████▊| 250/255 [01:36<00:01,  2.59it/s, loss=0.024, v_num=4, train_loss=0.0582, train_accuracy=0.944, train_f1_score=0.944, val_loss=0.293, val_accuracy=0.933, val_f1_score=0.933]\n",
      "Epoch 125:  99%|█████████▉| 252/255 [01:36<00:01,  2.61it/s, loss=0.024, v_num=4, train_loss=0.0582, train_accuracy=0.944, train_f1_score=0.944, val_loss=0.293, val_accuracy=0.933, val_f1_score=0.933]\n",
      "Epoch 125: 100%|█████████▉| 254/255 [01:36<00:00,  2.62it/s, loss=0.024, v_num=4, train_loss=0.0582, train_accuracy=0.944, train_f1_score=0.944, val_loss=0.293, val_accuracy=0.933, val_f1_score=0.933]\n",
      "Epoch 125: 100%|██████████| 255/255 [01:38<00:00,  2.60it/s, loss=0.024, v_num=4, train_loss=0.0582, train_accuracy=0.944, train_f1_score=0.944, val_loss=0.250, val_accuracy=0.929, val_f1_score=0.929]\n",
      "Epoch 125: 100%|██████████| 255/255 [01:38<00:00,  2.60it/s, loss=0.024, v_num=4, train_loss=0.0582, train_accuracy=0.944, train_f1_score=0.944, val_loss=0.250, val_accuracy=0.929, val_f1_score=0.929]"
     ]
    },
    {
     "name": "stderr",
     "output_type": "stream",
     "text": [
      "Epoch 125, global step 28475: val_loss reached 0.24981 (best 0.24981), saving model to \"/Workspace/code/checkpoints/best-checkpoint-corr-mi-0-v2.ckpt\" as top 2\n"
     ]
    },
    {
     "name": "stdout",
     "output_type": "stream",
     "text": [
      "Epoch 126:  89%|████████▊ | 226/255 [01:26<00:11,  2.60it/s, loss=0.0425, v_num=4, train_loss=0.00188, train_accuracy=1.000, train_f1_score=1.000, val_loss=0.250, val_accuracy=0.929, val_f1_score=0.929] \n",
      "Validating: 0it [00:00, ?it/s]\u001b[A\n",
      "Validating:   0%|          | 0/29 [00:00<?, ?it/s]\u001b[A\n",
      "Epoch 126:  89%|████████▉ | 228/255 [01:34<00:11,  2.40it/s, loss=0.0425, v_num=4, train_loss=0.00188, train_accuracy=1.000, train_f1_score=1.000, val_loss=0.250, val_accuracy=0.929, val_f1_score=0.929]\n",
      "Epoch 126:  90%|█████████ | 230/255 [01:35<00:10,  2.42it/s, loss=0.0425, v_num=4, train_loss=0.00188, train_accuracy=1.000, train_f1_score=1.000, val_loss=0.250, val_accuracy=0.929, val_f1_score=0.929]\n",
      "Epoch 126:  91%|█████████ | 232/255 [01:35<00:09,  2.44it/s, loss=0.0425, v_num=4, train_loss=0.00188, train_accuracy=1.000, train_f1_score=1.000, val_loss=0.250, val_accuracy=0.929, val_f1_score=0.929]\n",
      "Epoch 126:  92%|█████████▏| 234/255 [01:35<00:08,  2.45it/s, loss=0.0425, v_num=4, train_loss=0.00188, train_accuracy=1.000, train_f1_score=1.000, val_loss=0.250, val_accuracy=0.929, val_f1_score=0.929]\n",
      "Epoch 126:  93%|█████████▎| 236/255 [01:35<00:07,  2.47it/s, loss=0.0425, v_num=4, train_loss=0.00188, train_accuracy=1.000, train_f1_score=1.000, val_loss=0.250, val_accuracy=0.929, val_f1_score=0.929]\n",
      "Epoch 126:  93%|█████████▎| 238/255 [01:35<00:06,  2.49it/s, loss=0.0425, v_num=4, train_loss=0.00188, train_accuracy=1.000, train_f1_score=1.000, val_loss=0.250, val_accuracy=0.929, val_f1_score=0.929]\n",
      "Epoch 126:  94%|█████████▍| 240/255 [01:35<00:05,  2.50it/s, loss=0.0425, v_num=4, train_loss=0.00188, train_accuracy=1.000, train_f1_score=1.000, val_loss=0.250, val_accuracy=0.929, val_f1_score=0.929]\n",
      "Epoch 126:  95%|█████████▍| 242/255 [01:36<00:05,  2.52it/s, loss=0.0425, v_num=4, train_loss=0.00188, train_accuracy=1.000, train_f1_score=1.000, val_loss=0.250, val_accuracy=0.929, val_f1_score=0.929]\n",
      "Epoch 126:  96%|█████████▌| 244/255 [01:36<00:04,  2.54it/s, loss=0.0425, v_num=4, train_loss=0.00188, train_accuracy=1.000, train_f1_score=1.000, val_loss=0.250, val_accuracy=0.929, val_f1_score=0.929]\n",
      "Epoch 126:  96%|█████████▋| 246/255 [01:36<00:03,  2.55it/s, loss=0.0425, v_num=4, train_loss=0.00188, train_accuracy=1.000, train_f1_score=1.000, val_loss=0.250, val_accuracy=0.929, val_f1_score=0.929]\n",
      "Epoch 126:  97%|█████████▋| 248/255 [01:36<00:02,  2.57it/s, loss=0.0425, v_num=4, train_loss=0.00188, train_accuracy=1.000, train_f1_score=1.000, val_loss=0.250, val_accuracy=0.929, val_f1_score=0.929]\n",
      "Epoch 126:  98%|█████████▊| 250/255 [01:36<00:01,  2.58it/s, loss=0.0425, v_num=4, train_loss=0.00188, train_accuracy=1.000, train_f1_score=1.000, val_loss=0.250, val_accuracy=0.929, val_f1_score=0.929]\n",
      "Epoch 126:  99%|█████████▉| 252/255 [01:36<00:01,  2.60it/s, loss=0.0425, v_num=4, train_loss=0.00188, train_accuracy=1.000, train_f1_score=1.000, val_loss=0.250, val_accuracy=0.929, val_f1_score=0.929]\n",
      "Epoch 126: 100%|█████████▉| 254/255 [01:37<00:00,  2.62it/s, loss=0.0425, v_num=4, train_loss=0.00188, train_accuracy=1.000, train_f1_score=1.000, val_loss=0.250, val_accuracy=0.929, val_f1_score=0.929]\n",
      "Epoch 126: 100%|██████████| 255/255 [01:38<00:00,  2.59it/s, loss=0.0425, v_num=4, train_loss=0.00188, train_accuracy=1.000, train_f1_score=1.000, val_loss=0.308, val_accuracy=0.929, val_f1_score=0.929]\n",
      "Epoch 126: 100%|██████████| 255/255 [01:38<00:00,  2.59it/s, loss=0.0425, v_num=4, train_loss=0.00188, train_accuracy=1.000, train_f1_score=1.000, val_loss=0.308, val_accuracy=0.929, val_f1_score=0.929]"
     ]
    },
    {
     "name": "stderr",
     "output_type": "stream",
     "text": [
      "Epoch 126, global step 28701: val_loss was not in top 2\n"
     ]
    },
    {
     "name": "stdout",
     "output_type": "stream",
     "text": [
      "Epoch 127:  89%|████████▊ | 226/255 [01:27<00:11,  2.59it/s, loss=0.0265, v_num=4, train_loss=0.00441, train_accuracy=1.000, train_f1_score=1.000, val_loss=0.308, val_accuracy=0.929, val_f1_score=0.929]\n",
      "Validating: 0it [00:00, ?it/s]\u001b[A\n",
      "Validating:   0%|          | 0/29 [00:00<?, ?it/s]\u001b[A\n",
      "Epoch 127:  89%|████████▉ | 228/255 [01:35<00:11,  2.40it/s, loss=0.0265, v_num=4, train_loss=0.00441, train_accuracy=1.000, train_f1_score=1.000, val_loss=0.308, val_accuracy=0.929, val_f1_score=0.929]\n",
      "Epoch 127:  90%|█████████ | 230/255 [01:35<00:10,  2.42it/s, loss=0.0265, v_num=4, train_loss=0.00441, train_accuracy=1.000, train_f1_score=1.000, val_loss=0.308, val_accuracy=0.929, val_f1_score=0.929]\n",
      "Epoch 127:  91%|█████████ | 232/255 [01:35<00:09,  2.43it/s, loss=0.0265, v_num=4, train_loss=0.00441, train_accuracy=1.000, train_f1_score=1.000, val_loss=0.308, val_accuracy=0.929, val_f1_score=0.929]\n",
      "Epoch 127:  92%|█████████▏| 234/255 [01:35<00:08,  2.45it/s, loss=0.0265, v_num=4, train_loss=0.00441, train_accuracy=1.000, train_f1_score=1.000, val_loss=0.308, val_accuracy=0.929, val_f1_score=0.929]\n",
      "Epoch 127:  93%|█████████▎| 236/255 [01:35<00:07,  2.46it/s, loss=0.0265, v_num=4, train_loss=0.00441, train_accuracy=1.000, train_f1_score=1.000, val_loss=0.308, val_accuracy=0.929, val_f1_score=0.929]\n",
      "Epoch 127:  93%|█████████▎| 238/255 [01:35<00:06,  2.48it/s, loss=0.0265, v_num=4, train_loss=0.00441, train_accuracy=1.000, train_f1_score=1.000, val_loss=0.308, val_accuracy=0.929, val_f1_score=0.929]\n",
      "Epoch 127:  94%|█████████▍| 240/255 [01:36<00:06,  2.50it/s, loss=0.0265, v_num=4, train_loss=0.00441, train_accuracy=1.000, train_f1_score=1.000, val_loss=0.308, val_accuracy=0.929, val_f1_score=0.929]\n",
      "Epoch 127:  95%|█████████▍| 242/255 [01:36<00:05,  2.51it/s, loss=0.0265, v_num=4, train_loss=0.00441, train_accuracy=1.000, train_f1_score=1.000, val_loss=0.308, val_accuracy=0.929, val_f1_score=0.929]\n",
      "Epoch 127:  96%|█████████▌| 244/255 [01:36<00:04,  2.53it/s, loss=0.0265, v_num=4, train_loss=0.00441, train_accuracy=1.000, train_f1_score=1.000, val_loss=0.308, val_accuracy=0.929, val_f1_score=0.929]\n",
      "Epoch 127:  96%|█████████▋| 246/255 [01:36<00:03,  2.55it/s, loss=0.0265, v_num=4, train_loss=0.00441, train_accuracy=1.000, train_f1_score=1.000, val_loss=0.308, val_accuracy=0.929, val_f1_score=0.929]\n",
      "Epoch 127:  97%|█████████▋| 248/255 [01:36<00:02,  2.56it/s, loss=0.0265, v_num=4, train_loss=0.00441, train_accuracy=1.000, train_f1_score=1.000, val_loss=0.308, val_accuracy=0.929, val_f1_score=0.929]\n",
      "Epoch 127:  98%|█████████▊| 250/255 [01:36<00:01,  2.58it/s, loss=0.0265, v_num=4, train_loss=0.00441, train_accuracy=1.000, train_f1_score=1.000, val_loss=0.308, val_accuracy=0.929, val_f1_score=0.929]\n",
      "Epoch 127:  99%|█████████▉| 252/255 [01:37<00:01,  2.59it/s, loss=0.0265, v_num=4, train_loss=0.00441, train_accuracy=1.000, train_f1_score=1.000, val_loss=0.308, val_accuracy=0.929, val_f1_score=0.929]\n",
      "Epoch 127: 100%|█████████▉| 254/255 [01:37<00:00,  2.61it/s, loss=0.0265, v_num=4, train_loss=0.00441, train_accuracy=1.000, train_f1_score=1.000, val_loss=0.308, val_accuracy=0.929, val_f1_score=0.929]\n",
      "Epoch 127: 100%|██████████| 255/255 [01:38<00:00,  2.58it/s, loss=0.0265, v_num=4, train_loss=0.00441, train_accuracy=1.000, train_f1_score=1.000, val_loss=0.284, val_accuracy=0.931, val_f1_score=0.931]\n",
      "Epoch 127: 100%|██████████| 255/255 [01:38<00:00,  2.58it/s, loss=0.0265, v_num=4, train_loss=0.00441, train_accuracy=1.000, train_f1_score=1.000, val_loss=0.284, val_accuracy=0.931, val_f1_score=0.931]"
     ]
    },
    {
     "name": "stderr",
     "output_type": "stream",
     "text": [
      "Epoch 127, global step 28927: val_loss was not in top 2\n"
     ]
    },
    {
     "name": "stdout",
     "output_type": "stream",
     "text": [
      "Epoch 128:  89%|████████▊ | 226/255 [01:27<00:11,  2.59it/s, loss=0.0315, v_num=4, train_loss=0.00104, train_accuracy=1.000, train_f1_score=1.000, val_loss=0.284, val_accuracy=0.931, val_f1_score=0.931] \n",
      "Validating: 0it [00:00, ?it/s]\u001b[A\n",
      "Validating:   0%|          | 0/29 [00:00<?, ?it/s]\u001b[A\n",
      "Epoch 128:  89%|████████▉ | 228/255 [01:34<00:11,  2.40it/s, loss=0.0315, v_num=4, train_loss=0.00104, train_accuracy=1.000, train_f1_score=1.000, val_loss=0.284, val_accuracy=0.931, val_f1_score=0.931]\n",
      "Epoch 128:  90%|█████████ | 230/255 [01:35<00:10,  2.42it/s, loss=0.0315, v_num=4, train_loss=0.00104, train_accuracy=1.000, train_f1_score=1.000, val_loss=0.284, val_accuracy=0.931, val_f1_score=0.931]\n",
      "Epoch 128:  91%|█████████ | 232/255 [01:35<00:09,  2.44it/s, loss=0.0315, v_num=4, train_loss=0.00104, train_accuracy=1.000, train_f1_score=1.000, val_loss=0.284, val_accuracy=0.931, val_f1_score=0.931]\n",
      "Epoch 128:  92%|█████████▏| 234/255 [01:35<00:08,  2.45it/s, loss=0.0315, v_num=4, train_loss=0.00104, train_accuracy=1.000, train_f1_score=1.000, val_loss=0.284, val_accuracy=0.931, val_f1_score=0.931]\n",
      "Epoch 128:  93%|█████████▎| 236/255 [01:35<00:07,  2.47it/s, loss=0.0315, v_num=4, train_loss=0.00104, train_accuracy=1.000, train_f1_score=1.000, val_loss=0.284, val_accuracy=0.931, val_f1_score=0.931]\n",
      "Epoch 128:  93%|█████████▎| 238/255 [01:35<00:06,  2.49it/s, loss=0.0315, v_num=4, train_loss=0.00104, train_accuracy=1.000, train_f1_score=1.000, val_loss=0.284, val_accuracy=0.931, val_f1_score=0.931]\n",
      "Epoch 128:  94%|█████████▍| 240/255 [01:35<00:05,  2.50it/s, loss=0.0315, v_num=4, train_loss=0.00104, train_accuracy=1.000, train_f1_score=1.000, val_loss=0.284, val_accuracy=0.931, val_f1_score=0.931]\n",
      "Epoch 128:  95%|█████████▍| 242/255 [01:36<00:05,  2.52it/s, loss=0.0315, v_num=4, train_loss=0.00104, train_accuracy=1.000, train_f1_score=1.000, val_loss=0.284, val_accuracy=0.931, val_f1_score=0.931]\n",
      "Epoch 128:  96%|█████████▌| 244/255 [01:36<00:04,  2.53it/s, loss=0.0315, v_num=4, train_loss=0.00104, train_accuracy=1.000, train_f1_score=1.000, val_loss=0.284, val_accuracy=0.931, val_f1_score=0.931]\n",
      "Epoch 128:  96%|█████████▋| 246/255 [01:36<00:03,  2.55it/s, loss=0.0315, v_num=4, train_loss=0.00104, train_accuracy=1.000, train_f1_score=1.000, val_loss=0.284, val_accuracy=0.931, val_f1_score=0.931]\n",
      "Epoch 128:  97%|█████████▋| 248/255 [01:36<00:02,  2.57it/s, loss=0.0315, v_num=4, train_loss=0.00104, train_accuracy=1.000, train_f1_score=1.000, val_loss=0.284, val_accuracy=0.931, val_f1_score=0.931]\n",
      "Epoch 128:  98%|█████████▊| 250/255 [01:36<00:01,  2.58it/s, loss=0.0315, v_num=4, train_loss=0.00104, train_accuracy=1.000, train_f1_score=1.000, val_loss=0.284, val_accuracy=0.931, val_f1_score=0.931]\n",
      "Epoch 128:  99%|█████████▉| 252/255 [01:36<00:01,  2.60it/s, loss=0.0315, v_num=4, train_loss=0.00104, train_accuracy=1.000, train_f1_score=1.000, val_loss=0.284, val_accuracy=0.931, val_f1_score=0.931]\n",
      "Epoch 128: 100%|█████████▉| 254/255 [01:37<00:00,  2.61it/s, loss=0.0315, v_num=4, train_loss=0.00104, train_accuracy=1.000, train_f1_score=1.000, val_loss=0.284, val_accuracy=0.931, val_f1_score=0.931]\n",
      "Epoch 128: 100%|██████████| 255/255 [01:38<00:00,  2.59it/s, loss=0.0315, v_num=4, train_loss=0.00104, train_accuracy=1.000, train_f1_score=1.000, val_loss=0.301, val_accuracy=0.932, val_f1_score=0.932]\n",
      "Epoch 128: 100%|██████████| 255/255 [01:38<00:00,  2.59it/s, loss=0.0315, v_num=4, train_loss=0.00104, train_accuracy=1.000, train_f1_score=1.000, val_loss=0.301, val_accuracy=0.932, val_f1_score=0.932]"
     ]
    },
    {
     "name": "stderr",
     "output_type": "stream",
     "text": [
      "Epoch 128, global step 29153: val_loss was not in top 2\n"
     ]
    },
    {
     "name": "stdout",
     "output_type": "stream",
     "text": [
      "Epoch 129:  89%|████████▊ | 226/255 [01:26<00:11,  2.60it/s, loss=0.0138, v_num=4, train_loss=0.000992, train_accuracy=1.000, train_f1_score=1.000, val_loss=0.301, val_accuracy=0.932, val_f1_score=0.932]\n",
      "Validating: 0it [00:00, ?it/s]\u001b[A\n",
      "Validating:   0%|          | 0/29 [00:00<?, ?it/s]\u001b[A\n",
      "Epoch 129:  89%|████████▉ | 228/255 [01:34<00:11,  2.42it/s, loss=0.0138, v_num=4, train_loss=0.000992, train_accuracy=1.000, train_f1_score=1.000, val_loss=0.301, val_accuracy=0.932, val_f1_score=0.932]\n",
      "Epoch 129:  90%|█████████ | 230/255 [01:34<00:10,  2.43it/s, loss=0.0138, v_num=4, train_loss=0.000992, train_accuracy=1.000, train_f1_score=1.000, val_loss=0.301, val_accuracy=0.932, val_f1_score=0.932]\n",
      "Epoch 129:  91%|█████████ | 232/255 [01:34<00:09,  2.45it/s, loss=0.0138, v_num=4, train_loss=0.000992, train_accuracy=1.000, train_f1_score=1.000, val_loss=0.301, val_accuracy=0.932, val_f1_score=0.932]\n",
      "Epoch 129:  92%|█████████▏| 234/255 [01:34<00:08,  2.47it/s, loss=0.0138, v_num=4, train_loss=0.000992, train_accuracy=1.000, train_f1_score=1.000, val_loss=0.301, val_accuracy=0.932, val_f1_score=0.932]\n",
      "Epoch 129:  93%|█████████▎| 236/255 [01:34<00:07,  2.49it/s, loss=0.0138, v_num=4, train_loss=0.000992, train_accuracy=1.000, train_f1_score=1.000, val_loss=0.301, val_accuracy=0.932, val_f1_score=0.932]\n",
      "Epoch 129:  93%|█████████▎| 238/255 [01:35<00:06,  2.50it/s, loss=0.0138, v_num=4, train_loss=0.000992, train_accuracy=1.000, train_f1_score=1.000, val_loss=0.301, val_accuracy=0.932, val_f1_score=0.932]\n",
      "Epoch 129:  94%|█████████▍| 240/255 [01:35<00:05,  2.52it/s, loss=0.0138, v_num=4, train_loss=0.000992, train_accuracy=1.000, train_f1_score=1.000, val_loss=0.301, val_accuracy=0.932, val_f1_score=0.932]\n",
      "Epoch 129:  95%|█████████▍| 242/255 [01:35<00:05,  2.54it/s, loss=0.0138, v_num=4, train_loss=0.000992, train_accuracy=1.000, train_f1_score=1.000, val_loss=0.301, val_accuracy=0.932, val_f1_score=0.932]\n",
      "Epoch 129:  96%|█████████▌| 244/255 [01:35<00:04,  2.55it/s, loss=0.0138, v_num=4, train_loss=0.000992, train_accuracy=1.000, train_f1_score=1.000, val_loss=0.301, val_accuracy=0.932, val_f1_score=0.932]\n",
      "Epoch 129:  96%|█████████▋| 246/255 [01:35<00:03,  2.57it/s, loss=0.0138, v_num=4, train_loss=0.000992, train_accuracy=1.000, train_f1_score=1.000, val_loss=0.301, val_accuracy=0.932, val_f1_score=0.932]\n",
      "Epoch 129:  97%|█████████▋| 248/255 [01:35<00:02,  2.58it/s, loss=0.0138, v_num=4, train_loss=0.000992, train_accuracy=1.000, train_f1_score=1.000, val_loss=0.301, val_accuracy=0.932, val_f1_score=0.932]\n",
      "Epoch 129:  98%|█████████▊| 250/255 [01:36<00:01,  2.60it/s, loss=0.0138, v_num=4, train_loss=0.000992, train_accuracy=1.000, train_f1_score=1.000, val_loss=0.301, val_accuracy=0.932, val_f1_score=0.932]\n",
      "Epoch 129:  99%|█████████▉| 252/255 [01:36<00:01,  2.62it/s, loss=0.0138, v_num=4, train_loss=0.000992, train_accuracy=1.000, train_f1_score=1.000, val_loss=0.301, val_accuracy=0.932, val_f1_score=0.932]\n",
      "Epoch 129: 100%|█████████▉| 254/255 [01:36<00:00,  2.63it/s, loss=0.0138, v_num=4, train_loss=0.000992, train_accuracy=1.000, train_f1_score=1.000, val_loss=0.301, val_accuracy=0.932, val_f1_score=0.932]\n",
      "Epoch 129: 100%|██████████| 255/255 [01:37<00:00,  2.61it/s, loss=0.0138, v_num=4, train_loss=0.000992, train_accuracy=1.000, train_f1_score=1.000, val_loss=0.287, val_accuracy=0.925, val_f1_score=0.925]\n",
      "Epoch 129: 100%|██████████| 255/255 [01:37<00:00,  2.61it/s, loss=0.0138, v_num=4, train_loss=0.000992, train_accuracy=1.000, train_f1_score=1.000, val_loss=0.287, val_accuracy=0.925, val_f1_score=0.925]"
     ]
    },
    {
     "name": "stderr",
     "output_type": "stream",
     "text": [
      "Epoch 129, global step 29379: val_loss was not in top 2\n"
     ]
    },
    {
     "name": "stdout",
     "output_type": "stream",
     "text": [
      "Epoch 130:  89%|████████▊ | 226/255 [01:26<00:11,  2.61it/s, loss=0.0445, v_num=4, train_loss=0.0334, train_accuracy=1.000, train_f1_score=1.000, val_loss=0.287, val_accuracy=0.925, val_f1_score=0.925]  \n",
      "Validating: 0it [00:00, ?it/s]\u001b[A\n",
      "Validating:   0%|          | 0/29 [00:00<?, ?it/s]\u001b[A\n",
      "Epoch 130:  89%|████████▉ | 228/255 [01:34<00:11,  2.43it/s, loss=0.0445, v_num=4, train_loss=0.0334, train_accuracy=1.000, train_f1_score=1.000, val_loss=0.287, val_accuracy=0.925, val_f1_score=0.925]\n",
      "Epoch 130:  90%|█████████ | 230/255 [01:34<00:10,  2.44it/s, loss=0.0445, v_num=4, train_loss=0.0334, train_accuracy=1.000, train_f1_score=1.000, val_loss=0.287, val_accuracy=0.925, val_f1_score=0.925]\n",
      "Epoch 130:  91%|█████████ | 232/255 [01:34<00:09,  2.46it/s, loss=0.0445, v_num=4, train_loss=0.0334, train_accuracy=1.000, train_f1_score=1.000, val_loss=0.287, val_accuracy=0.925, val_f1_score=0.925]\n",
      "Epoch 130:  92%|█████████▏| 234/255 [01:34<00:08,  2.47it/s, loss=0.0445, v_num=4, train_loss=0.0334, train_accuracy=1.000, train_f1_score=1.000, val_loss=0.287, val_accuracy=0.925, val_f1_score=0.925]\n",
      "Epoch 130:  93%|█████████▎| 236/255 [01:34<00:07,  2.49it/s, loss=0.0445, v_num=4, train_loss=0.0334, train_accuracy=1.000, train_f1_score=1.000, val_loss=0.287, val_accuracy=0.925, val_f1_score=0.925]\n",
      "Epoch 130:  93%|█████████▎| 238/255 [01:34<00:06,  2.51it/s, loss=0.0445, v_num=4, train_loss=0.0334, train_accuracy=1.000, train_f1_score=1.000, val_loss=0.287, val_accuracy=0.925, val_f1_score=0.925]\n",
      "Epoch 130:  94%|█████████▍| 240/255 [01:35<00:05,  2.52it/s, loss=0.0445, v_num=4, train_loss=0.0334, train_accuracy=1.000, train_f1_score=1.000, val_loss=0.287, val_accuracy=0.925, val_f1_score=0.925]\n",
      "Epoch 130:  95%|█████████▍| 242/255 [01:35<00:05,  2.54it/s, loss=0.0445, v_num=4, train_loss=0.0334, train_accuracy=1.000, train_f1_score=1.000, val_loss=0.287, val_accuracy=0.925, val_f1_score=0.925]\n",
      "Epoch 130:  96%|█████████▌| 244/255 [01:35<00:04,  2.56it/s, loss=0.0445, v_num=4, train_loss=0.0334, train_accuracy=1.000, train_f1_score=1.000, val_loss=0.287, val_accuracy=0.925, val_f1_score=0.925]\n",
      "Epoch 130:  96%|█████████▋| 246/255 [01:35<00:03,  2.57it/s, loss=0.0445, v_num=4, train_loss=0.0334, train_accuracy=1.000, train_f1_score=1.000, val_loss=0.287, val_accuracy=0.925, val_f1_score=0.925]\n",
      "Epoch 130:  97%|█████████▋| 248/255 [01:35<00:02,  2.59it/s, loss=0.0445, v_num=4, train_loss=0.0334, train_accuracy=1.000, train_f1_score=1.000, val_loss=0.287, val_accuracy=0.925, val_f1_score=0.925]\n",
      "Epoch 130:  98%|█████████▊| 250/255 [01:35<00:01,  2.60it/s, loss=0.0445, v_num=4, train_loss=0.0334, train_accuracy=1.000, train_f1_score=1.000, val_loss=0.287, val_accuracy=0.925, val_f1_score=0.925]\n",
      "Epoch 130:  99%|█████████▉| 252/255 [01:36<00:01,  2.62it/s, loss=0.0445, v_num=4, train_loss=0.0334, train_accuracy=1.000, train_f1_score=1.000, val_loss=0.287, val_accuracy=0.925, val_f1_score=0.925]\n",
      "Epoch 130: 100%|█████████▉| 254/255 [01:36<00:00,  2.64it/s, loss=0.0445, v_num=4, train_loss=0.0334, train_accuracy=1.000, train_f1_score=1.000, val_loss=0.287, val_accuracy=0.925, val_f1_score=0.925]\n",
      "Epoch 130: 100%|██████████| 255/255 [01:37<00:00,  2.61it/s, loss=0.0445, v_num=4, train_loss=0.0334, train_accuracy=1.000, train_f1_score=1.000, val_loss=0.318, val_accuracy=0.925, val_f1_score=0.925]\n",
      "Epoch 130: 100%|██████████| 255/255 [01:37<00:00,  2.61it/s, loss=0.0445, v_num=4, train_loss=0.0334, train_accuracy=1.000, train_f1_score=1.000, val_loss=0.318, val_accuracy=0.925, val_f1_score=0.925]"
     ]
    },
    {
     "name": "stderr",
     "output_type": "stream",
     "text": [
      "Epoch 130, global step 29605: val_loss was not in top 2\n"
     ]
    },
    {
     "name": "stdout",
     "output_type": "stream",
     "text": [
      "Epoch 131:  89%|████████▊ | 226/255 [01:26<00:11,  2.60it/s, loss=0.082, v_num=4, train_loss=0.0117, train_accuracy=1.000, train_f1_score=1.000, val_loss=0.318, val_accuracy=0.925, val_f1_score=0.925]   \n",
      "Validating: 0it [00:00, ?it/s]\u001b[A\n",
      "Validating:   0%|          | 0/29 [00:00<?, ?it/s]\u001b[A\n",
      "Epoch 131:  89%|████████▉ | 228/255 [01:34<00:11,  2.41it/s, loss=0.082, v_num=4, train_loss=0.0117, train_accuracy=1.000, train_f1_score=1.000, val_loss=0.318, val_accuracy=0.925, val_f1_score=0.925]\n",
      "Epoch 131:  90%|█████████ | 230/255 [01:34<00:10,  2.43it/s, loss=0.082, v_num=4, train_loss=0.0117, train_accuracy=1.000, train_f1_score=1.000, val_loss=0.318, val_accuracy=0.925, val_f1_score=0.925]\n",
      "Epoch 131:  91%|█████████ | 232/255 [01:34<00:09,  2.45it/s, loss=0.082, v_num=4, train_loss=0.0117, train_accuracy=1.000, train_f1_score=1.000, val_loss=0.318, val_accuracy=0.925, val_f1_score=0.925]\n",
      "Epoch 131:  92%|█████████▏| 234/255 [01:34<00:08,  2.46it/s, loss=0.082, v_num=4, train_loss=0.0117, train_accuracy=1.000, train_f1_score=1.000, val_loss=0.318, val_accuracy=0.925, val_f1_score=0.925]\n",
      "Epoch 131:  93%|█████████▎| 236/255 [01:35<00:07,  2.48it/s, loss=0.082, v_num=4, train_loss=0.0117, train_accuracy=1.000, train_f1_score=1.000, val_loss=0.318, val_accuracy=0.925, val_f1_score=0.925]\n",
      "Epoch 131:  93%|█████████▎| 238/255 [01:35<00:06,  2.50it/s, loss=0.082, v_num=4, train_loss=0.0117, train_accuracy=1.000, train_f1_score=1.000, val_loss=0.318, val_accuracy=0.925, val_f1_score=0.925]\n",
      "Epoch 131:  94%|█████████▍| 240/255 [01:35<00:05,  2.51it/s, loss=0.082, v_num=4, train_loss=0.0117, train_accuracy=1.000, train_f1_score=1.000, val_loss=0.318, val_accuracy=0.925, val_f1_score=0.925]\n",
      "Epoch 131:  95%|█████████▍| 242/255 [01:35<00:05,  2.53it/s, loss=0.082, v_num=4, train_loss=0.0117, train_accuracy=1.000, train_f1_score=1.000, val_loss=0.318, val_accuracy=0.925, val_f1_score=0.925]\n",
      "Epoch 131:  96%|█████████▌| 244/255 [01:35<00:04,  2.55it/s, loss=0.082, v_num=4, train_loss=0.0117, train_accuracy=1.000, train_f1_score=1.000, val_loss=0.318, val_accuracy=0.925, val_f1_score=0.925]\n",
      "Epoch 131:  96%|█████████▋| 246/255 [01:36<00:03,  2.56it/s, loss=0.082, v_num=4, train_loss=0.0117, train_accuracy=1.000, train_f1_score=1.000, val_loss=0.318, val_accuracy=0.925, val_f1_score=0.925]\n",
      "Epoch 131:  97%|█████████▋| 248/255 [01:36<00:02,  2.58it/s, loss=0.082, v_num=4, train_loss=0.0117, train_accuracy=1.000, train_f1_score=1.000, val_loss=0.318, val_accuracy=0.925, val_f1_score=0.925]\n",
      "Epoch 131:  98%|█████████▊| 250/255 [01:36<00:01,  2.59it/s, loss=0.082, v_num=4, train_loss=0.0117, train_accuracy=1.000, train_f1_score=1.000, val_loss=0.318, val_accuracy=0.925, val_f1_score=0.925]\n",
      "Epoch 131:  99%|█████████▉| 252/255 [01:36<00:01,  2.61it/s, loss=0.082, v_num=4, train_loss=0.0117, train_accuracy=1.000, train_f1_score=1.000, val_loss=0.318, val_accuracy=0.925, val_f1_score=0.925]\n",
      "Epoch 131: 100%|█████████▉| 254/255 [01:36<00:00,  2.63it/s, loss=0.082, v_num=4, train_loss=0.0117, train_accuracy=1.000, train_f1_score=1.000, val_loss=0.318, val_accuracy=0.925, val_f1_score=0.925]\n",
      "Epoch 131: 100%|██████████| 255/255 [01:37<00:00,  2.61it/s, loss=0.082, v_num=4, train_loss=0.0117, train_accuracy=1.000, train_f1_score=1.000, val_loss=0.468, val_accuracy=0.891, val_f1_score=0.891]\n",
      "Epoch 131: 100%|██████████| 255/255 [01:37<00:00,  2.61it/s, loss=0.082, v_num=4, train_loss=0.0117, train_accuracy=1.000, train_f1_score=1.000, val_loss=0.468, val_accuracy=0.891, val_f1_score=0.891]"
     ]
    },
    {
     "name": "stderr",
     "output_type": "stream",
     "text": [
      "Epoch 131, global step 29831: val_loss was not in top 2\n"
     ]
    },
    {
     "name": "stdout",
     "output_type": "stream",
     "text": [
      "Epoch 132:  89%|████████▊ | 226/255 [01:26<00:11,  2.60it/s, loss=0.0282, v_num=4, train_loss=0.00895, train_accuracy=1.000, train_f1_score=1.000, val_loss=0.468, val_accuracy=0.891, val_f1_score=0.891]\n",
      "Validating: 0it [00:00, ?it/s]\u001b[A\n",
      "Validating:   0%|          | 0/29 [00:00<?, ?it/s]\u001b[A\n",
      "Epoch 132:  89%|████████▉ | 228/255 [01:34<00:11,  2.41it/s, loss=0.0282, v_num=4, train_loss=0.00895, train_accuracy=1.000, train_f1_score=1.000, val_loss=0.468, val_accuracy=0.891, val_f1_score=0.891]\n",
      "Epoch 132:  90%|█████████ | 230/255 [01:34<00:10,  2.43it/s, loss=0.0282, v_num=4, train_loss=0.00895, train_accuracy=1.000, train_f1_score=1.000, val_loss=0.468, val_accuracy=0.891, val_f1_score=0.891]\n",
      "Epoch 132:  91%|█████████ | 232/255 [01:34<00:09,  2.44it/s, loss=0.0282, v_num=4, train_loss=0.00895, train_accuracy=1.000, train_f1_score=1.000, val_loss=0.468, val_accuracy=0.891, val_f1_score=0.891]\n",
      "Validating:  21%|██        | 6/29 [00:08<00:16,  1.41it/s]\u001b[A\n",
      "Epoch 132:  92%|█████████▏| 234/255 [01:35<00:08,  2.46it/s, loss=0.0282, v_num=4, train_loss=0.00895, train_accuracy=1.000, train_f1_score=1.000, val_loss=0.468, val_accuracy=0.891, val_f1_score=0.891]\n",
      "Epoch 132:  93%|█████████▎| 236/255 [01:35<00:07,  2.48it/s, loss=0.0282, v_num=4, train_loss=0.00895, train_accuracy=1.000, train_f1_score=1.000, val_loss=0.468, val_accuracy=0.891, val_f1_score=0.891]\n",
      "Epoch 132:  93%|█████████▎| 238/255 [01:35<00:06,  2.49it/s, loss=0.0282, v_num=4, train_loss=0.00895, train_accuracy=1.000, train_f1_score=1.000, val_loss=0.468, val_accuracy=0.891, val_f1_score=0.891]\n",
      "Epoch 132:  94%|█████████▍| 240/255 [01:35<00:05,  2.51it/s, loss=0.0282, v_num=4, train_loss=0.00895, train_accuracy=1.000, train_f1_score=1.000, val_loss=0.468, val_accuracy=0.891, val_f1_score=0.891]\n",
      "Epoch 132:  95%|█████████▍| 242/255 [01:35<00:05,  2.52it/s, loss=0.0282, v_num=4, train_loss=0.00895, train_accuracy=1.000, train_f1_score=1.000, val_loss=0.468, val_accuracy=0.891, val_f1_score=0.891]\n",
      "Epoch 132:  96%|█████████▌| 244/255 [01:36<00:04,  2.54it/s, loss=0.0282, v_num=4, train_loss=0.00895, train_accuracy=1.000, train_f1_score=1.000, val_loss=0.468, val_accuracy=0.891, val_f1_score=0.891]\n",
      "Epoch 132:  96%|█████████▋| 246/255 [01:36<00:03,  2.56it/s, loss=0.0282, v_num=4, train_loss=0.00895, train_accuracy=1.000, train_f1_score=1.000, val_loss=0.468, val_accuracy=0.891, val_f1_score=0.891]\n",
      "Epoch 132:  97%|█████████▋| 248/255 [01:36<00:02,  2.57it/s, loss=0.0282, v_num=4, train_loss=0.00895, train_accuracy=1.000, train_f1_score=1.000, val_loss=0.468, val_accuracy=0.891, val_f1_score=0.891]\n",
      "Epoch 132:  98%|█████████▊| 250/255 [01:36<00:01,  2.59it/s, loss=0.0282, v_num=4, train_loss=0.00895, train_accuracy=1.000, train_f1_score=1.000, val_loss=0.468, val_accuracy=0.891, val_f1_score=0.891]\n",
      "Epoch 132:  99%|█████████▉| 252/255 [01:36<00:01,  2.61it/s, loss=0.0282, v_num=4, train_loss=0.00895, train_accuracy=1.000, train_f1_score=1.000, val_loss=0.468, val_accuracy=0.891, val_f1_score=0.891]\n",
      "Epoch 132: 100%|█████████▉| 254/255 [01:36<00:00,  2.62it/s, loss=0.0282, v_num=4, train_loss=0.00895, train_accuracy=1.000, train_f1_score=1.000, val_loss=0.468, val_accuracy=0.891, val_f1_score=0.891]\n",
      "Epoch 132: 100%|██████████| 255/255 [01:37<00:00,  2.60it/s, loss=0.0282, v_num=4, train_loss=0.00895, train_accuracy=1.000, train_f1_score=1.000, val_loss=0.258, val_accuracy=0.936, val_f1_score=0.936]\n",
      "Epoch 132: 100%|██████████| 255/255 [01:37<00:00,  2.60it/s, loss=0.0282, v_num=4, train_loss=0.00895, train_accuracy=1.000, train_f1_score=1.000, val_loss=0.258, val_accuracy=0.936, val_f1_score=0.936]"
     ]
    },
    {
     "name": "stderr",
     "output_type": "stream",
     "text": [
      "Epoch 132, global step 30057: val_loss reached 0.25823 (best 0.24981), saving model to \"/Workspace/code/checkpoints/best-checkpoint-corr-mi-0-v3.ckpt\" as top 2\n"
     ]
    },
    {
     "name": "stdout",
     "output_type": "stream",
     "text": [
      "Epoch 133:  89%|████████▊ | 226/255 [01:26<00:11,  2.60it/s, loss=0.18, v_num=4, train_loss=0.163, train_accuracy=0.944, train_f1_score=0.944, val_loss=0.258, val_accuracy=0.936, val_f1_score=0.936]    \n",
      "Validating: 0it [00:00, ?it/s]\u001b[A\n",
      "Validating:   0%|          | 0/29 [00:00<?, ?it/s]\u001b[A\n",
      "Epoch 133:  89%|████████▉ | 228/255 [01:34<00:11,  2.41it/s, loss=0.18, v_num=4, train_loss=0.163, train_accuracy=0.944, train_f1_score=0.944, val_loss=0.258, val_accuracy=0.936, val_f1_score=0.936]\n",
      "Epoch 133:  90%|█████████ | 230/255 [01:34<00:10,  2.43it/s, loss=0.18, v_num=4, train_loss=0.163, train_accuracy=0.944, train_f1_score=0.944, val_loss=0.258, val_accuracy=0.936, val_f1_score=0.936]\n",
      "Epoch 133:  91%|█████████ | 232/255 [01:34<00:09,  2.44it/s, loss=0.18, v_num=4, train_loss=0.163, train_accuracy=0.944, train_f1_score=0.944, val_loss=0.258, val_accuracy=0.936, val_f1_score=0.936]\n",
      "Epoch 133:  92%|█████████▏| 234/255 [01:35<00:08,  2.46it/s, loss=0.18, v_num=4, train_loss=0.163, train_accuracy=0.944, train_f1_score=0.944, val_loss=0.258, val_accuracy=0.936, val_f1_score=0.936]\n",
      "Epoch 133:  93%|█████████▎| 236/255 [01:35<00:07,  2.48it/s, loss=0.18, v_num=4, train_loss=0.163, train_accuracy=0.944, train_f1_score=0.944, val_loss=0.258, val_accuracy=0.936, val_f1_score=0.936]\n",
      "Epoch 133:  93%|█████████▎| 238/255 [01:35<00:06,  2.49it/s, loss=0.18, v_num=4, train_loss=0.163, train_accuracy=0.944, train_f1_score=0.944, val_loss=0.258, val_accuracy=0.936, val_f1_score=0.936]\n",
      "Epoch 133:  94%|█████████▍| 240/255 [01:35<00:05,  2.51it/s, loss=0.18, v_num=4, train_loss=0.163, train_accuracy=0.944, train_f1_score=0.944, val_loss=0.258, val_accuracy=0.936, val_f1_score=0.936]\n",
      "Epoch 133:  95%|█████████▍| 242/255 [01:35<00:05,  2.53it/s, loss=0.18, v_num=4, train_loss=0.163, train_accuracy=0.944, train_f1_score=0.944, val_loss=0.258, val_accuracy=0.936, val_f1_score=0.936]\n",
      "Epoch 133:  96%|█████████▌| 244/255 [01:35<00:04,  2.54it/s, loss=0.18, v_num=4, train_loss=0.163, train_accuracy=0.944, train_f1_score=0.944, val_loss=0.258, val_accuracy=0.936, val_f1_score=0.936]\n",
      "Epoch 133:  96%|█████████▋| 246/255 [01:36<00:03,  2.56it/s, loss=0.18, v_num=4, train_loss=0.163, train_accuracy=0.944, train_f1_score=0.944, val_loss=0.258, val_accuracy=0.936, val_f1_score=0.936]\n",
      "Epoch 133:  97%|█████████▋| 248/255 [01:36<00:02,  2.57it/s, loss=0.18, v_num=4, train_loss=0.163, train_accuracy=0.944, train_f1_score=0.944, val_loss=0.258, val_accuracy=0.936, val_f1_score=0.936]\n",
      "Epoch 133:  98%|█████████▊| 250/255 [01:36<00:01,  2.59it/s, loss=0.18, v_num=4, train_loss=0.163, train_accuracy=0.944, train_f1_score=0.944, val_loss=0.258, val_accuracy=0.936, val_f1_score=0.936]\n",
      "Epoch 133:  99%|█████████▉| 252/255 [01:36<00:01,  2.61it/s, loss=0.18, v_num=4, train_loss=0.163, train_accuracy=0.944, train_f1_score=0.944, val_loss=0.258, val_accuracy=0.936, val_f1_score=0.936]\n",
      "Epoch 133: 100%|█████████▉| 254/255 [01:36<00:00,  2.62it/s, loss=0.18, v_num=4, train_loss=0.163, train_accuracy=0.944, train_f1_score=0.944, val_loss=0.258, val_accuracy=0.936, val_f1_score=0.936]\n",
      "Epoch 133: 100%|██████████| 255/255 [01:38<00:00,  2.60it/s, loss=0.18, v_num=4, train_loss=0.163, train_accuracy=0.944, train_f1_score=0.944, val_loss=0.409, val_accuracy=0.904, val_f1_score=0.904]\n",
      "Epoch 133: 100%|██████████| 255/255 [01:38<00:00,  2.60it/s, loss=0.18, v_num=4, train_loss=0.163, train_accuracy=0.944, train_f1_score=0.944, val_loss=0.409, val_accuracy=0.904, val_f1_score=0.904]"
     ]
    },
    {
     "name": "stderr",
     "output_type": "stream",
     "text": [
      "Epoch 133, global step 30283: val_loss was not in top 2\n"
     ]
    },
    {
     "name": "stdout",
     "output_type": "stream",
     "text": [
      "Epoch 134:  89%|████████▊ | 226/255 [01:26<00:11,  2.61it/s, loss=0.063, v_num=4, train_loss=0.0134, train_accuracy=1.000, train_f1_score=1.000, val_loss=0.409, val_accuracy=0.904, val_f1_score=0.904]  \n",
      "Validating: 0it [00:00, ?it/s]\u001b[A\n",
      "Validating:   0%|          | 0/29 [00:00<?, ?it/s]\u001b[A\n",
      "Epoch 134:  89%|████████▉ | 228/255 [01:34<00:11,  2.42it/s, loss=0.063, v_num=4, train_loss=0.0134, train_accuracy=1.000, train_f1_score=1.000, val_loss=0.409, val_accuracy=0.904, val_f1_score=0.904]\n",
      "Epoch 134:  90%|█████████ | 230/255 [01:34<00:10,  2.43it/s, loss=0.063, v_num=4, train_loss=0.0134, train_accuracy=1.000, train_f1_score=1.000, val_loss=0.409, val_accuracy=0.904, val_f1_score=0.904]\n",
      "Epoch 134:  91%|█████████ | 232/255 [01:34<00:09,  2.45it/s, loss=0.063, v_num=4, train_loss=0.0134, train_accuracy=1.000, train_f1_score=1.000, val_loss=0.409, val_accuracy=0.904, val_f1_score=0.904]\n",
      "Epoch 134:  92%|█████████▏| 234/255 [01:34<00:08,  2.47it/s, loss=0.063, v_num=4, train_loss=0.0134, train_accuracy=1.000, train_f1_score=1.000, val_loss=0.409, val_accuracy=0.904, val_f1_score=0.904]\n",
      "Epoch 134:  93%|█████████▎| 236/255 [01:35<00:07,  2.48it/s, loss=0.063, v_num=4, train_loss=0.0134, train_accuracy=1.000, train_f1_score=1.000, val_loss=0.409, val_accuracy=0.904, val_f1_score=0.904]\n",
      "Epoch 134:  93%|█████████▎| 238/255 [01:35<00:06,  2.50it/s, loss=0.063, v_num=4, train_loss=0.0134, train_accuracy=1.000, train_f1_score=1.000, val_loss=0.409, val_accuracy=0.904, val_f1_score=0.904]\n",
      "Epoch 134:  94%|█████████▍| 240/255 [01:35<00:05,  2.52it/s, loss=0.063, v_num=4, train_loss=0.0134, train_accuracy=1.000, train_f1_score=1.000, val_loss=0.409, val_accuracy=0.904, val_f1_score=0.904]\n",
      "Epoch 134:  95%|█████████▍| 242/255 [01:35<00:05,  2.53it/s, loss=0.063, v_num=4, train_loss=0.0134, train_accuracy=1.000, train_f1_score=1.000, val_loss=0.409, val_accuracy=0.904, val_f1_score=0.904]\n",
      "Epoch 134:  96%|█████████▌| 244/255 [01:35<00:04,  2.55it/s, loss=0.063, v_num=4, train_loss=0.0134, train_accuracy=1.000, train_f1_score=1.000, val_loss=0.409, val_accuracy=0.904, val_f1_score=0.904]\n",
      "Epoch 134:  96%|█████████▋| 246/255 [01:35<00:03,  2.56it/s, loss=0.063, v_num=4, train_loss=0.0134, train_accuracy=1.000, train_f1_score=1.000, val_loss=0.409, val_accuracy=0.904, val_f1_score=0.904]\n",
      "Epoch 134:  97%|█████████▋| 248/255 [01:36<00:02,  2.58it/s, loss=0.063, v_num=4, train_loss=0.0134, train_accuracy=1.000, train_f1_score=1.000, val_loss=0.409, val_accuracy=0.904, val_f1_score=0.904]\n",
      "Epoch 134:  98%|█████████▊| 250/255 [01:36<00:01,  2.60it/s, loss=0.063, v_num=4, train_loss=0.0134, train_accuracy=1.000, train_f1_score=1.000, val_loss=0.409, val_accuracy=0.904, val_f1_score=0.904]\n",
      "Epoch 134:  99%|█████████▉| 252/255 [01:36<00:01,  2.61it/s, loss=0.063, v_num=4, train_loss=0.0134, train_accuracy=1.000, train_f1_score=1.000, val_loss=0.409, val_accuracy=0.904, val_f1_score=0.904]\n",
      "Epoch 134: 100%|█████████▉| 254/255 [01:36<00:00,  2.63it/s, loss=0.063, v_num=4, train_loss=0.0134, train_accuracy=1.000, train_f1_score=1.000, val_loss=0.409, val_accuracy=0.904, val_f1_score=0.904]\n",
      "Epoch 134: 100%|██████████| 255/255 [01:37<00:00,  2.61it/s, loss=0.063, v_num=4, train_loss=0.0134, train_accuracy=1.000, train_f1_score=1.000, val_loss=0.294, val_accuracy=0.923, val_f1_score=0.923]\n",
      "Epoch 134: 100%|██████████| 255/255 [01:37<00:00,  2.61it/s, loss=0.063, v_num=4, train_loss=0.0134, train_accuracy=1.000, train_f1_score=1.000, val_loss=0.294, val_accuracy=0.923, val_f1_score=0.923]"
     ]
    },
    {
     "name": "stderr",
     "output_type": "stream",
     "text": [
      "Epoch 134, global step 30509: val_loss was not in top 2\n"
     ]
    },
    {
     "name": "stdout",
     "output_type": "stream",
     "text": [
      "Epoch 135:  89%|████████▊ | 226/255 [01:26<00:11,  2.60it/s, loss=0.0566, v_num=4, train_loss=0.00495, train_accuracy=1.000, train_f1_score=1.000, val_loss=0.294, val_accuracy=0.923, val_f1_score=0.923]\n",
      "Validating: 0it [00:00, ?it/s]\u001b[A\n",
      "Validating:   0%|          | 0/29 [00:00<?, ?it/s]\u001b[A\n",
      "Epoch 135:  89%|████████▉ | 228/255 [01:34<00:11,  2.41it/s, loss=0.0566, v_num=4, train_loss=0.00495, train_accuracy=1.000, train_f1_score=1.000, val_loss=0.294, val_accuracy=0.923, val_f1_score=0.923]\n",
      "Epoch 135:  90%|█████████ | 230/255 [01:34<00:10,  2.42it/s, loss=0.0566, v_num=4, train_loss=0.00495, train_accuracy=1.000, train_f1_score=1.000, val_loss=0.294, val_accuracy=0.923, val_f1_score=0.923]\n",
      "Epoch 135:  91%|█████████ | 232/255 [01:35<00:09,  2.44it/s, loss=0.0566, v_num=4, train_loss=0.00495, train_accuracy=1.000, train_f1_score=1.000, val_loss=0.294, val_accuracy=0.923, val_f1_score=0.923]\n",
      "Epoch 135:  92%|█████████▏| 234/255 [01:35<00:08,  2.46it/s, loss=0.0566, v_num=4, train_loss=0.00495, train_accuracy=1.000, train_f1_score=1.000, val_loss=0.294, val_accuracy=0.923, val_f1_score=0.923]\n",
      "Epoch 135:  93%|█████████▎| 236/255 [01:35<00:07,  2.47it/s, loss=0.0566, v_num=4, train_loss=0.00495, train_accuracy=1.000, train_f1_score=1.000, val_loss=0.294, val_accuracy=0.923, val_f1_score=0.923]\n",
      "Epoch 135:  93%|█████████▎| 238/255 [01:35<00:06,  2.49it/s, loss=0.0566, v_num=4, train_loss=0.00495, train_accuracy=1.000, train_f1_score=1.000, val_loss=0.294, val_accuracy=0.923, val_f1_score=0.923]\n",
      "Epoch 135:  94%|█████████▍| 240/255 [01:35<00:05,  2.51it/s, loss=0.0566, v_num=4, train_loss=0.00495, train_accuracy=1.000, train_f1_score=1.000, val_loss=0.294, val_accuracy=0.923, val_f1_score=0.923]\n",
      "Epoch 135:  95%|█████████▍| 242/255 [01:35<00:05,  2.52it/s, loss=0.0566, v_num=4, train_loss=0.00495, train_accuracy=1.000, train_f1_score=1.000, val_loss=0.294, val_accuracy=0.923, val_f1_score=0.923]\n",
      "Epoch 135:  96%|█████████▌| 244/255 [01:36<00:04,  2.54it/s, loss=0.0566, v_num=4, train_loss=0.00495, train_accuracy=1.000, train_f1_score=1.000, val_loss=0.294, val_accuracy=0.923, val_f1_score=0.923]\n",
      "Epoch 135:  96%|█████████▋| 246/255 [01:36<00:03,  2.55it/s, loss=0.0566, v_num=4, train_loss=0.00495, train_accuracy=1.000, train_f1_score=1.000, val_loss=0.294, val_accuracy=0.923, val_f1_score=0.923]\n",
      "Epoch 135:  97%|█████████▋| 248/255 [01:36<00:02,  2.57it/s, loss=0.0566, v_num=4, train_loss=0.00495, train_accuracy=1.000, train_f1_score=1.000, val_loss=0.294, val_accuracy=0.923, val_f1_score=0.923]\n",
      "Epoch 135:  98%|█████████▊| 250/255 [01:36<00:01,  2.59it/s, loss=0.0566, v_num=4, train_loss=0.00495, train_accuracy=1.000, train_f1_score=1.000, val_loss=0.294, val_accuracy=0.923, val_f1_score=0.923]\n",
      "Epoch 135:  99%|█████████▉| 252/255 [01:36<00:01,  2.60it/s, loss=0.0566, v_num=4, train_loss=0.00495, train_accuracy=1.000, train_f1_score=1.000, val_loss=0.294, val_accuracy=0.923, val_f1_score=0.923]\n",
      "Epoch 135: 100%|█████████▉| 254/255 [01:36<00:00,  2.62it/s, loss=0.0566, v_num=4, train_loss=0.00495, train_accuracy=1.000, train_f1_score=1.000, val_loss=0.294, val_accuracy=0.923, val_f1_score=0.923]\n",
      "Epoch 135: 100%|██████████| 255/255 [01:38<00:00,  2.60it/s, loss=0.0566, v_num=4, train_loss=0.00495, train_accuracy=1.000, train_f1_score=1.000, val_loss=0.261, val_accuracy=0.924, val_f1_score=0.924]\n",
      "Epoch 135: 100%|██████████| 255/255 [01:38<00:00,  2.60it/s, loss=0.0566, v_num=4, train_loss=0.00495, train_accuracy=1.000, train_f1_score=1.000, val_loss=0.261, val_accuracy=0.924, val_f1_score=0.924]"
     ]
    },
    {
     "name": "stderr",
     "output_type": "stream",
     "text": [
      "Epoch 135, global step 30735: val_loss was not in top 2\n"
     ]
    },
    {
     "name": "stdout",
     "output_type": "stream",
     "text": [
      "Epoch 136:  89%|████████▊ | 226/255 [01:26<00:11,  2.60it/s, loss=0.04, v_num=4, train_loss=0.032, train_accuracy=1.000, train_f1_score=1.000, val_loss=0.261, val_accuracy=0.924, val_f1_score=0.924]    \n",
      "Validating: 0it [00:00, ?it/s]\u001b[A\n",
      "Validating:   0%|          | 0/29 [00:00<?, ?it/s]\u001b[A\n",
      "Epoch 136:  89%|████████▉ | 228/255 [01:34<00:11,  2.41it/s, loss=0.04, v_num=4, train_loss=0.032, train_accuracy=1.000, train_f1_score=1.000, val_loss=0.261, val_accuracy=0.924, val_f1_score=0.924]\n",
      "Epoch 136:  90%|█████████ | 230/255 [01:34<00:10,  2.43it/s, loss=0.04, v_num=4, train_loss=0.032, train_accuracy=1.000, train_f1_score=1.000, val_loss=0.261, val_accuracy=0.924, val_f1_score=0.924]\n",
      "Epoch 136:  91%|█████████ | 232/255 [01:34<00:09,  2.44it/s, loss=0.04, v_num=4, train_loss=0.032, train_accuracy=1.000, train_f1_score=1.000, val_loss=0.261, val_accuracy=0.924, val_f1_score=0.924]\n",
      "Epoch 136:  92%|█████████▏| 234/255 [01:35<00:08,  2.46it/s, loss=0.04, v_num=4, train_loss=0.032, train_accuracy=1.000, train_f1_score=1.000, val_loss=0.261, val_accuracy=0.924, val_f1_score=0.924]\n",
      "Epoch 136:  93%|█████████▎| 236/255 [01:35<00:07,  2.48it/s, loss=0.04, v_num=4, train_loss=0.032, train_accuracy=1.000, train_f1_score=1.000, val_loss=0.261, val_accuracy=0.924, val_f1_score=0.924]\n",
      "Epoch 136:  93%|█████████▎| 238/255 [01:35<00:06,  2.49it/s, loss=0.04, v_num=4, train_loss=0.032, train_accuracy=1.000, train_f1_score=1.000, val_loss=0.261, val_accuracy=0.924, val_f1_score=0.924]\n",
      "Epoch 136:  94%|█████████▍| 240/255 [01:35<00:05,  2.51it/s, loss=0.04, v_num=4, train_loss=0.032, train_accuracy=1.000, train_f1_score=1.000, val_loss=0.261, val_accuracy=0.924, val_f1_score=0.924]\n",
      "Epoch 136:  95%|█████████▍| 242/255 [01:35<00:05,  2.53it/s, loss=0.04, v_num=4, train_loss=0.032, train_accuracy=1.000, train_f1_score=1.000, val_loss=0.261, val_accuracy=0.924, val_f1_score=0.924]\n",
      "Epoch 136:  96%|█████████▌| 244/255 [01:35<00:04,  2.54it/s, loss=0.04, v_num=4, train_loss=0.032, train_accuracy=1.000, train_f1_score=1.000, val_loss=0.261, val_accuracy=0.924, val_f1_score=0.924]\n",
      "Epoch 136:  96%|█████████▋| 246/255 [01:36<00:03,  2.56it/s, loss=0.04, v_num=4, train_loss=0.032, train_accuracy=1.000, train_f1_score=1.000, val_loss=0.261, val_accuracy=0.924, val_f1_score=0.924]\n",
      "Epoch 136:  97%|█████████▋| 248/255 [01:36<00:02,  2.57it/s, loss=0.04, v_num=4, train_loss=0.032, train_accuracy=1.000, train_f1_score=1.000, val_loss=0.261, val_accuracy=0.924, val_f1_score=0.924]\n",
      "Epoch 136:  98%|█████████▊| 250/255 [01:36<00:01,  2.59it/s, loss=0.04, v_num=4, train_loss=0.032, train_accuracy=1.000, train_f1_score=1.000, val_loss=0.261, val_accuracy=0.924, val_f1_score=0.924]\n",
      "Epoch 136:  99%|█████████▉| 252/255 [01:36<00:01,  2.61it/s, loss=0.04, v_num=4, train_loss=0.032, train_accuracy=1.000, train_f1_score=1.000, val_loss=0.261, val_accuracy=0.924, val_f1_score=0.924]\n",
      "Epoch 136: 100%|█████████▉| 254/255 [01:36<00:00,  2.62it/s, loss=0.04, v_num=4, train_loss=0.032, train_accuracy=1.000, train_f1_score=1.000, val_loss=0.261, val_accuracy=0.924, val_f1_score=0.924]\n",
      "Epoch 136: 100%|██████████| 255/255 [01:38<00:00,  2.60it/s, loss=0.04, v_num=4, train_loss=0.032, train_accuracy=1.000, train_f1_score=1.000, val_loss=0.268, val_accuracy=0.930, val_f1_score=0.930]\n",
      "Epoch 136: 100%|██████████| 255/255 [01:38<00:00,  2.60it/s, loss=0.04, v_num=4, train_loss=0.032, train_accuracy=1.000, train_f1_score=1.000, val_loss=0.268, val_accuracy=0.930, val_f1_score=0.930]"
     ]
    },
    {
     "name": "stderr",
     "output_type": "stream",
     "text": [
      "Epoch 136, global step 30961: val_loss was not in top 2\n"
     ]
    },
    {
     "name": "stdout",
     "output_type": "stream",
     "text": [
      "Epoch 137:  89%|████████▊ | 226/255 [01:26<00:11,  2.60it/s, loss=0.014, v_num=4, train_loss=0.00165, train_accuracy=1.000, train_f1_score=1.000, val_loss=0.268, val_accuracy=0.930, val_f1_score=0.930] \n",
      "Validating: 0it [00:00, ?it/s]\u001b[A\n",
      "Validating:   0%|          | 0/29 [00:00<?, ?it/s]\u001b[A\n",
      "Epoch 137:  89%|████████▉ | 228/255 [01:35<00:11,  2.39it/s, loss=0.014, v_num=4, train_loss=0.00165, train_accuracy=1.000, train_f1_score=1.000, val_loss=0.268, val_accuracy=0.930, val_f1_score=0.930]\n",
      "Epoch 137:  90%|█████████ | 230/255 [01:35<00:10,  2.41it/s, loss=0.014, v_num=4, train_loss=0.00165, train_accuracy=1.000, train_f1_score=1.000, val_loss=0.268, val_accuracy=0.930, val_f1_score=0.930]\n",
      "Epoch 137:  91%|█████████ | 232/255 [01:35<00:09,  2.43it/s, loss=0.014, v_num=4, train_loss=0.00165, train_accuracy=1.000, train_f1_score=1.000, val_loss=0.268, val_accuracy=0.930, val_f1_score=0.930]\n",
      "Epoch 137:  92%|█████████▏| 234/255 [01:35<00:08,  2.44it/s, loss=0.014, v_num=4, train_loss=0.00165, train_accuracy=1.000, train_f1_score=1.000, val_loss=0.268, val_accuracy=0.930, val_f1_score=0.930]\n",
      "Epoch 137:  93%|█████████▎| 236/255 [01:35<00:07,  2.46it/s, loss=0.014, v_num=4, train_loss=0.00165, train_accuracy=1.000, train_f1_score=1.000, val_loss=0.268, val_accuracy=0.930, val_f1_score=0.930]\n",
      "Epoch 137:  93%|█████████▎| 238/255 [01:36<00:06,  2.47it/s, loss=0.014, v_num=4, train_loss=0.00165, train_accuracy=1.000, train_f1_score=1.000, val_loss=0.268, val_accuracy=0.930, val_f1_score=0.930]\n",
      "Epoch 137:  94%|█████████▍| 240/255 [01:36<00:06,  2.49it/s, loss=0.014, v_num=4, train_loss=0.00165, train_accuracy=1.000, train_f1_score=1.000, val_loss=0.268, val_accuracy=0.930, val_f1_score=0.930]\n",
      "Epoch 137:  95%|█████████▍| 242/255 [01:36<00:05,  2.51it/s, loss=0.014, v_num=4, train_loss=0.00165, train_accuracy=1.000, train_f1_score=1.000, val_loss=0.268, val_accuracy=0.930, val_f1_score=0.930]\n",
      "Epoch 137:  96%|█████████▌| 244/255 [01:36<00:04,  2.52it/s, loss=0.014, v_num=4, train_loss=0.00165, train_accuracy=1.000, train_f1_score=1.000, val_loss=0.268, val_accuracy=0.930, val_f1_score=0.930]\n",
      "Epoch 137:  96%|█████████▋| 246/255 [01:36<00:03,  2.54it/s, loss=0.014, v_num=4, train_loss=0.00165, train_accuracy=1.000, train_f1_score=1.000, val_loss=0.268, val_accuracy=0.930, val_f1_score=0.930]\n",
      "Epoch 137:  97%|█████████▋| 248/255 [01:37<00:02,  2.56it/s, loss=0.014, v_num=4, train_loss=0.00165, train_accuracy=1.000, train_f1_score=1.000, val_loss=0.268, val_accuracy=0.930, val_f1_score=0.930]\n",
      "Epoch 137:  98%|█████████▊| 250/255 [01:37<00:01,  2.57it/s, loss=0.014, v_num=4, train_loss=0.00165, train_accuracy=1.000, train_f1_score=1.000, val_loss=0.268, val_accuracy=0.930, val_f1_score=0.930]\n",
      "Epoch 137:  99%|█████████▉| 252/255 [01:37<00:01,  2.59it/s, loss=0.014, v_num=4, train_loss=0.00165, train_accuracy=1.000, train_f1_score=1.000, val_loss=0.268, val_accuracy=0.930, val_f1_score=0.930]\n",
      "Epoch 137: 100%|█████████▉| 254/255 [01:37<00:00,  2.60it/s, loss=0.014, v_num=4, train_loss=0.00165, train_accuracy=1.000, train_f1_score=1.000, val_loss=0.268, val_accuracy=0.930, val_f1_score=0.930]\n",
      "Epoch 137: 100%|██████████| 255/255 [01:38<00:00,  2.58it/s, loss=0.014, v_num=4, train_loss=0.00165, train_accuracy=1.000, train_f1_score=1.000, val_loss=0.279, val_accuracy=0.927, val_f1_score=0.927]\n",
      "Epoch 137: 100%|██████████| 255/255 [01:38<00:00,  2.58it/s, loss=0.014, v_num=4, train_loss=0.00165, train_accuracy=1.000, train_f1_score=1.000, val_loss=0.279, val_accuracy=0.927, val_f1_score=0.927]"
     ]
    },
    {
     "name": "stderr",
     "output_type": "stream",
     "text": [
      "Epoch 137, global step 31187: val_loss was not in top 2\n"
     ]
    },
    {
     "name": "stdout",
     "output_type": "stream",
     "text": [
      "Epoch 138:  89%|████████▊ | 226/255 [01:26<00:11,  2.60it/s, loss=0.0298, v_num=4, train_loss=0.0017, train_accuracy=1.000, train_f1_score=1.000, val_loss=0.279, val_accuracy=0.927, val_f1_score=0.927]  \n",
      "Validating: 0it [00:00, ?it/s]\u001b[A\n",
      "Validating:   0%|          | 0/29 [00:00<?, ?it/s]\u001b[A\n",
      "Epoch 138:  89%|████████▉ | 228/255 [01:34<00:11,  2.41it/s, loss=0.0298, v_num=4, train_loss=0.0017, train_accuracy=1.000, train_f1_score=1.000, val_loss=0.279, val_accuracy=0.927, val_f1_score=0.927]\n",
      "Epoch 138:  90%|█████████ | 230/255 [01:34<00:10,  2.43it/s, loss=0.0298, v_num=4, train_loss=0.0017, train_accuracy=1.000, train_f1_score=1.000, val_loss=0.279, val_accuracy=0.927, val_f1_score=0.927]\n",
      "Validating:  14%|█▍        | 4/29 [00:07<00:31,  1.25s/it]\u001b[A\n",
      "Epoch 138:  91%|█████████ | 232/255 [01:34<00:09,  2.45it/s, loss=0.0298, v_num=4, train_loss=0.0017, train_accuracy=1.000, train_f1_score=1.000, val_loss=0.279, val_accuracy=0.927, val_f1_score=0.927]\n",
      "Epoch 138:  92%|█████████▏| 234/255 [01:35<00:08,  2.46it/s, loss=0.0298, v_num=4, train_loss=0.0017, train_accuracy=1.000, train_f1_score=1.000, val_loss=0.279, val_accuracy=0.927, val_f1_score=0.927]\n",
      "Epoch 138:  93%|█████████▎| 236/255 [01:35<00:07,  2.48it/s, loss=0.0298, v_num=4, train_loss=0.0017, train_accuracy=1.000, train_f1_score=1.000, val_loss=0.279, val_accuracy=0.927, val_f1_score=0.927]\n",
      "Epoch 138:  93%|█████████▎| 238/255 [01:35<00:06,  2.50it/s, loss=0.0298, v_num=4, train_loss=0.0017, train_accuracy=1.000, train_f1_score=1.000, val_loss=0.279, val_accuracy=0.927, val_f1_score=0.927]\n",
      "Epoch 138:  94%|█████████▍| 240/255 [01:35<00:05,  2.51it/s, loss=0.0298, v_num=4, train_loss=0.0017, train_accuracy=1.000, train_f1_score=1.000, val_loss=0.279, val_accuracy=0.927, val_f1_score=0.927]\n",
      "Epoch 138:  95%|█████████▍| 242/255 [01:35<00:05,  2.53it/s, loss=0.0298, v_num=4, train_loss=0.0017, train_accuracy=1.000, train_f1_score=1.000, val_loss=0.279, val_accuracy=0.927, val_f1_score=0.927]\n",
      "Epoch 138:  96%|█████████▌| 244/255 [01:35<00:04,  2.54it/s, loss=0.0298, v_num=4, train_loss=0.0017, train_accuracy=1.000, train_f1_score=1.000, val_loss=0.279, val_accuracy=0.927, val_f1_score=0.927]\n",
      "Epoch 138:  96%|█████████▋| 246/255 [01:36<00:03,  2.56it/s, loss=0.0298, v_num=4, train_loss=0.0017, train_accuracy=1.000, train_f1_score=1.000, val_loss=0.279, val_accuracy=0.927, val_f1_score=0.927]\n",
      "Epoch 138:  97%|█████████▋| 248/255 [01:36<00:02,  2.58it/s, loss=0.0298, v_num=4, train_loss=0.0017, train_accuracy=1.000, train_f1_score=1.000, val_loss=0.279, val_accuracy=0.927, val_f1_score=0.927]\n",
      "Epoch 138:  98%|█████████▊| 250/255 [01:36<00:01,  2.59it/s, loss=0.0298, v_num=4, train_loss=0.0017, train_accuracy=1.000, train_f1_score=1.000, val_loss=0.279, val_accuracy=0.927, val_f1_score=0.927]\n",
      "Epoch 138:  99%|█████████▉| 252/255 [01:36<00:01,  2.61it/s, loss=0.0298, v_num=4, train_loss=0.0017, train_accuracy=1.000, train_f1_score=1.000, val_loss=0.279, val_accuracy=0.927, val_f1_score=0.927]\n",
      "Epoch 138: 100%|█████████▉| 254/255 [01:36<00:00,  2.62it/s, loss=0.0298, v_num=4, train_loss=0.0017, train_accuracy=1.000, train_f1_score=1.000, val_loss=0.279, val_accuracy=0.927, val_f1_score=0.927]\n",
      "Epoch 138: 100%|██████████| 255/255 [01:37<00:00,  2.60it/s, loss=0.0298, v_num=4, train_loss=0.0017, train_accuracy=1.000, train_f1_score=1.000, val_loss=0.329, val_accuracy=0.928, val_f1_score=0.928]\n",
      "Epoch 138: 100%|██████████| 255/255 [01:37<00:00,  2.60it/s, loss=0.0298, v_num=4, train_loss=0.0017, train_accuracy=1.000, train_f1_score=1.000, val_loss=0.329, val_accuracy=0.928, val_f1_score=0.928]"
     ]
    },
    {
     "name": "stderr",
     "output_type": "stream",
     "text": [
      "Epoch 138, global step 31413: val_loss was not in top 2\n"
     ]
    },
    {
     "name": "stdout",
     "output_type": "stream",
     "text": [
      "Epoch 139:  89%|████████▊ | 226/255 [01:26<00:11,  2.60it/s, loss=0.0137, v_num=4, train_loss=0.00164, train_accuracy=1.000, train_f1_score=1.000, val_loss=0.329, val_accuracy=0.928, val_f1_score=0.928]\n",
      "Validating: 0it [00:00, ?it/s]\u001b[A\n",
      "Validating:   0%|          | 0/29 [00:00<?, ?it/s]\u001b[A\n",
      "Epoch 139:  89%|████████▉ | 228/255 [01:34<00:11,  2.41it/s, loss=0.0137, v_num=4, train_loss=0.00164, train_accuracy=1.000, train_f1_score=1.000, val_loss=0.329, val_accuracy=0.928, val_f1_score=0.928]\n",
      "Epoch 139:  90%|█████████ | 230/255 [01:34<00:10,  2.43it/s, loss=0.0137, v_num=4, train_loss=0.00164, train_accuracy=1.000, train_f1_score=1.000, val_loss=0.329, val_accuracy=0.928, val_f1_score=0.928]\n",
      "Epoch 139:  91%|█████████ | 232/255 [01:34<00:09,  2.44it/s, loss=0.0137, v_num=4, train_loss=0.00164, train_accuracy=1.000, train_f1_score=1.000, val_loss=0.329, val_accuracy=0.928, val_f1_score=0.928]\n",
      "Epoch 139:  92%|█████████▏| 234/255 [01:35<00:08,  2.46it/s, loss=0.0137, v_num=4, train_loss=0.00164, train_accuracy=1.000, train_f1_score=1.000, val_loss=0.329, val_accuracy=0.928, val_f1_score=0.928]\n",
      "Epoch 139:  93%|█████████▎| 236/255 [01:35<00:07,  2.48it/s, loss=0.0137, v_num=4, train_loss=0.00164, train_accuracy=1.000, train_f1_score=1.000, val_loss=0.329, val_accuracy=0.928, val_f1_score=0.928]\n",
      "Epoch 139:  93%|█████████▎| 238/255 [01:35<00:06,  2.49it/s, loss=0.0137, v_num=4, train_loss=0.00164, train_accuracy=1.000, train_f1_score=1.000, val_loss=0.329, val_accuracy=0.928, val_f1_score=0.928]\n",
      "Epoch 139:  94%|█████████▍| 240/255 [01:35<00:05,  2.51it/s, loss=0.0137, v_num=4, train_loss=0.00164, train_accuracy=1.000, train_f1_score=1.000, val_loss=0.329, val_accuracy=0.928, val_f1_score=0.928]\n",
      "Epoch 139:  95%|█████████▍| 242/255 [01:35<00:05,  2.52it/s, loss=0.0137, v_num=4, train_loss=0.00164, train_accuracy=1.000, train_f1_score=1.000, val_loss=0.329, val_accuracy=0.928, val_f1_score=0.928]\n",
      "Epoch 139:  96%|█████████▌| 244/255 [01:36<00:04,  2.54it/s, loss=0.0137, v_num=4, train_loss=0.00164, train_accuracy=1.000, train_f1_score=1.000, val_loss=0.329, val_accuracy=0.928, val_f1_score=0.928]\n",
      "Epoch 139:  96%|█████████▋| 246/255 [01:36<00:03,  2.56it/s, loss=0.0137, v_num=4, train_loss=0.00164, train_accuracy=1.000, train_f1_score=1.000, val_loss=0.329, val_accuracy=0.928, val_f1_score=0.928]\n",
      "Epoch 139:  97%|█████████▋| 248/255 [01:36<00:02,  2.57it/s, loss=0.0137, v_num=4, train_loss=0.00164, train_accuracy=1.000, train_f1_score=1.000, val_loss=0.329, val_accuracy=0.928, val_f1_score=0.928]\n",
      "Epoch 139:  98%|█████████▊| 250/255 [01:36<00:01,  2.59it/s, loss=0.0137, v_num=4, train_loss=0.00164, train_accuracy=1.000, train_f1_score=1.000, val_loss=0.329, val_accuracy=0.928, val_f1_score=0.928]\n",
      "Epoch 139:  99%|█████████▉| 252/255 [01:36<00:01,  2.61it/s, loss=0.0137, v_num=4, train_loss=0.00164, train_accuracy=1.000, train_f1_score=1.000, val_loss=0.329, val_accuracy=0.928, val_f1_score=0.928]\n",
      "Epoch 139: 100%|█████████▉| 254/255 [01:36<00:00,  2.62it/s, loss=0.0137, v_num=4, train_loss=0.00164, train_accuracy=1.000, train_f1_score=1.000, val_loss=0.329, val_accuracy=0.928, val_f1_score=0.928]\n",
      "Epoch 139: 100%|██████████| 255/255 [01:38<00:00,  2.60it/s, loss=0.0137, v_num=4, train_loss=0.00164, train_accuracy=1.000, train_f1_score=1.000, val_loss=0.287, val_accuracy=0.933, val_f1_score=0.933]\n",
      "Epoch 139: 100%|██████████| 255/255 [01:38<00:00,  2.60it/s, loss=0.0137, v_num=4, train_loss=0.00164, train_accuracy=1.000, train_f1_score=1.000, val_loss=0.287, val_accuracy=0.933, val_f1_score=0.933]"
     ]
    },
    {
     "name": "stderr",
     "output_type": "stream",
     "text": [
      "Epoch 139, global step 31639: val_loss was not in top 2\n"
     ]
    },
    {
     "name": "stdout",
     "output_type": "stream",
     "text": [
      "Epoch 140:  89%|████████▊ | 226/255 [01:27<00:11,  2.59it/s, loss=0.0415, v_num=4, train_loss=0.220, train_accuracy=0.944, train_f1_score=0.944, val_loss=0.287, val_accuracy=0.933, val_f1_score=0.933]   \n",
      "Validating: 0it [00:00, ?it/s]\u001b[A\n",
      "Validating:   0%|          | 0/29 [00:00<?, ?it/s]\u001b[A\n",
      "Epoch 140:  89%|████████▉ | 228/255 [01:35<00:11,  2.40it/s, loss=0.0415, v_num=4, train_loss=0.220, train_accuracy=0.944, train_f1_score=0.944, val_loss=0.287, val_accuracy=0.933, val_f1_score=0.933]\n",
      "Epoch 140:  90%|█████████ | 230/255 [01:35<00:10,  2.42it/s, loss=0.0415, v_num=4, train_loss=0.220, train_accuracy=0.944, train_f1_score=0.944, val_loss=0.287, val_accuracy=0.933, val_f1_score=0.933]\n",
      "Epoch 140:  91%|█████████ | 232/255 [01:35<00:09,  2.43it/s, loss=0.0415, v_num=4, train_loss=0.220, train_accuracy=0.944, train_f1_score=0.944, val_loss=0.287, val_accuracy=0.933, val_f1_score=0.933]\n",
      "Epoch 140:  92%|█████████▏| 234/255 [01:35<00:08,  2.45it/s, loss=0.0415, v_num=4, train_loss=0.220, train_accuracy=0.944, train_f1_score=0.944, val_loss=0.287, val_accuracy=0.933, val_f1_score=0.933]\n",
      "Epoch 140:  93%|█████████▎| 236/255 [01:35<00:07,  2.46it/s, loss=0.0415, v_num=4, train_loss=0.220, train_accuracy=0.944, train_f1_score=0.944, val_loss=0.287, val_accuracy=0.933, val_f1_score=0.933]\n",
      "Epoch 140:  93%|█████████▎| 238/255 [01:35<00:06,  2.48it/s, loss=0.0415, v_num=4, train_loss=0.220, train_accuracy=0.944, train_f1_score=0.944, val_loss=0.287, val_accuracy=0.933, val_f1_score=0.933]\n",
      "Epoch 140:  94%|█████████▍| 240/255 [01:36<00:06,  2.50it/s, loss=0.0415, v_num=4, train_loss=0.220, train_accuracy=0.944, train_f1_score=0.944, val_loss=0.287, val_accuracy=0.933, val_f1_score=0.933]\n",
      "Epoch 140:  95%|█████████▍| 242/255 [01:36<00:05,  2.51it/s, loss=0.0415, v_num=4, train_loss=0.220, train_accuracy=0.944, train_f1_score=0.944, val_loss=0.287, val_accuracy=0.933, val_f1_score=0.933]\n",
      "Epoch 140:  96%|█████████▌| 244/255 [01:36<00:04,  2.53it/s, loss=0.0415, v_num=4, train_loss=0.220, train_accuracy=0.944, train_f1_score=0.944, val_loss=0.287, val_accuracy=0.933, val_f1_score=0.933]\n",
      "Epoch 140:  96%|█████████▋| 246/255 [01:36<00:03,  2.54it/s, loss=0.0415, v_num=4, train_loss=0.220, train_accuracy=0.944, train_f1_score=0.944, val_loss=0.287, val_accuracy=0.933, val_f1_score=0.933]\n",
      "Epoch 140:  97%|█████████▋| 248/255 [01:36<00:02,  2.56it/s, loss=0.0415, v_num=4, train_loss=0.220, train_accuracy=0.944, train_f1_score=0.944, val_loss=0.287, val_accuracy=0.933, val_f1_score=0.933]\n",
      "Epoch 140:  98%|█████████▊| 250/255 [01:37<00:01,  2.58it/s, loss=0.0415, v_num=4, train_loss=0.220, train_accuracy=0.944, train_f1_score=0.944, val_loss=0.287, val_accuracy=0.933, val_f1_score=0.933]\n",
      "Epoch 140:  99%|█████████▉| 252/255 [01:37<00:01,  2.59it/s, loss=0.0415, v_num=4, train_loss=0.220, train_accuracy=0.944, train_f1_score=0.944, val_loss=0.287, val_accuracy=0.933, val_f1_score=0.933]\n",
      "Epoch 140: 100%|█████████▉| 254/255 [01:37<00:00,  2.61it/s, loss=0.0415, v_num=4, train_loss=0.220, train_accuracy=0.944, train_f1_score=0.944, val_loss=0.287, val_accuracy=0.933, val_f1_score=0.933]\n",
      "Epoch 140: 100%|██████████| 255/255 [01:38<00:00,  2.59it/s, loss=0.0415, v_num=4, train_loss=0.220, train_accuracy=0.944, train_f1_score=0.944, val_loss=0.307, val_accuracy=0.923, val_f1_score=0.923]\n",
      "Epoch 140: 100%|██████████| 255/255 [01:38<00:00,  2.59it/s, loss=0.0415, v_num=4, train_loss=0.220, train_accuracy=0.944, train_f1_score=0.944, val_loss=0.307, val_accuracy=0.923, val_f1_score=0.923]"
     ]
    },
    {
     "name": "stderr",
     "output_type": "stream",
     "text": [
      "Epoch 140, global step 31865: val_loss was not in top 2\n"
     ]
    },
    {
     "name": "stdout",
     "output_type": "stream",
     "text": [
      "Epoch 141:  89%|████████▊ | 226/255 [01:27<00:11,  2.59it/s, loss=0.0125, v_num=4, train_loss=0.000439, train_accuracy=1.000, train_f1_score=1.000, val_loss=0.307, val_accuracy=0.923, val_f1_score=0.923]\n",
      "Validating: 0it [00:00, ?it/s]\u001b[A\n",
      "Validating:   0%|          | 0/29 [00:00<?, ?it/s]\u001b[A\n",
      "Epoch 141:  89%|████████▉ | 228/255 [01:35<00:11,  2.40it/s, loss=0.0125, v_num=4, train_loss=0.000439, train_accuracy=1.000, train_f1_score=1.000, val_loss=0.307, val_accuracy=0.923, val_f1_score=0.923]\n",
      "Validating:   7%|▋         | 2/29 [00:07<01:29,  3.30s/it]\u001b[A\n",
      "Epoch 141:  90%|█████████ | 230/255 [01:35<00:10,  2.41it/s, loss=0.0125, v_num=4, train_loss=0.000439, train_accuracy=1.000, train_f1_score=1.000, val_loss=0.307, val_accuracy=0.923, val_f1_score=0.923]\n",
      "Epoch 141:  91%|█████████ | 232/255 [01:35<00:09,  2.43it/s, loss=0.0125, v_num=4, train_loss=0.000439, train_accuracy=1.000, train_f1_score=1.000, val_loss=0.307, val_accuracy=0.923, val_f1_score=0.923]\n",
      "Epoch 141:  92%|█████████▏| 234/255 [01:35<00:08,  2.45it/s, loss=0.0125, v_num=4, train_loss=0.000439, train_accuracy=1.000, train_f1_score=1.000, val_loss=0.307, val_accuracy=0.923, val_f1_score=0.923]\n",
      "Epoch 141:  93%|█████████▎| 236/255 [01:35<00:07,  2.46it/s, loss=0.0125, v_num=4, train_loss=0.000439, train_accuracy=1.000, train_f1_score=1.000, val_loss=0.307, val_accuracy=0.923, val_f1_score=0.923]\n",
      "Epoch 141:  93%|█████████▎| 238/255 [01:36<00:06,  2.48it/s, loss=0.0125, v_num=4, train_loss=0.000439, train_accuracy=1.000, train_f1_score=1.000, val_loss=0.307, val_accuracy=0.923, val_f1_score=0.923]\n",
      "Epoch 141:  94%|█████████▍| 240/255 [01:36<00:06,  2.50it/s, loss=0.0125, v_num=4, train_loss=0.000439, train_accuracy=1.000, train_f1_score=1.000, val_loss=0.307, val_accuracy=0.923, val_f1_score=0.923]\n",
      "Epoch 141:  95%|█████████▍| 242/255 [01:36<00:05,  2.51it/s, loss=0.0125, v_num=4, train_loss=0.000439, train_accuracy=1.000, train_f1_score=1.000, val_loss=0.307, val_accuracy=0.923, val_f1_score=0.923]\n",
      "Epoch 141:  96%|█████████▌| 244/255 [01:36<00:04,  2.53it/s, loss=0.0125, v_num=4, train_loss=0.000439, train_accuracy=1.000, train_f1_score=1.000, val_loss=0.307, val_accuracy=0.923, val_f1_score=0.923]\n",
      "Epoch 141:  96%|█████████▋| 246/255 [01:36<00:03,  2.54it/s, loss=0.0125, v_num=4, train_loss=0.000439, train_accuracy=1.000, train_f1_score=1.000, val_loss=0.307, val_accuracy=0.923, val_f1_score=0.923]\n",
      "Epoch 141:  97%|█████████▋| 248/255 [01:36<00:02,  2.56it/s, loss=0.0125, v_num=4, train_loss=0.000439, train_accuracy=1.000, train_f1_score=1.000, val_loss=0.307, val_accuracy=0.923, val_f1_score=0.923]\n",
      "Epoch 141:  98%|█████████▊| 250/255 [01:37<00:01,  2.58it/s, loss=0.0125, v_num=4, train_loss=0.000439, train_accuracy=1.000, train_f1_score=1.000, val_loss=0.307, val_accuracy=0.923, val_f1_score=0.923]\n",
      "Epoch 141:  99%|█████████▉| 252/255 [01:37<00:01,  2.59it/s, loss=0.0125, v_num=4, train_loss=0.000439, train_accuracy=1.000, train_f1_score=1.000, val_loss=0.307, val_accuracy=0.923, val_f1_score=0.923]\n",
      "Epoch 141: 100%|█████████▉| 254/255 [01:37<00:00,  2.61it/s, loss=0.0125, v_num=4, train_loss=0.000439, train_accuracy=1.000, train_f1_score=1.000, val_loss=0.307, val_accuracy=0.923, val_f1_score=0.923]\n",
      "Epoch 141: 100%|██████████| 255/255 [01:38<00:00,  2.59it/s, loss=0.0125, v_num=4, train_loss=0.000439, train_accuracy=1.000, train_f1_score=1.000, val_loss=0.308, val_accuracy=0.930, val_f1_score=0.930]\n",
      "Epoch 141: 100%|██████████| 255/255 [01:38<00:00,  2.58it/s, loss=0.0125, v_num=4, train_loss=0.000439, train_accuracy=1.000, train_f1_score=1.000, val_loss=0.308, val_accuracy=0.930, val_f1_score=0.930]"
     ]
    },
    {
     "name": "stderr",
     "output_type": "stream",
     "text": [
      "Epoch 141, global step 32091: val_loss was not in top 2\n"
     ]
    },
    {
     "name": "stdout",
     "output_type": "stream",
     "text": [
      "Epoch 142:  89%|████████▊ | 226/255 [01:26<00:11,  2.61it/s, loss=0.0285, v_num=4, train_loss=0.0269, train_accuracy=1.000, train_f1_score=1.000, val_loss=0.308, val_accuracy=0.930, val_f1_score=0.930]  \n",
      "Validating: 0it [00:00, ?it/s]\u001b[A\n",
      "Validating:   0%|          | 0/29 [00:00<?, ?it/s]\u001b[A\n",
      "Epoch 142:  89%|████████▉ | 228/255 [01:34<00:11,  2.41it/s, loss=0.0285, v_num=4, train_loss=0.0269, train_accuracy=1.000, train_f1_score=1.000, val_loss=0.308, val_accuracy=0.930, val_f1_score=0.930]\n",
      "Epoch 142:  90%|█████████ | 230/255 [01:34<00:10,  2.43it/s, loss=0.0285, v_num=4, train_loss=0.0269, train_accuracy=1.000, train_f1_score=1.000, val_loss=0.308, val_accuracy=0.930, val_f1_score=0.930]\n",
      "Epoch 142:  91%|█████████ | 232/255 [01:34<00:09,  2.45it/s, loss=0.0285, v_num=4, train_loss=0.0269, train_accuracy=1.000, train_f1_score=1.000, val_loss=0.308, val_accuracy=0.930, val_f1_score=0.930]\n",
      "Epoch 142:  92%|█████████▏| 234/255 [01:35<00:08,  2.46it/s, loss=0.0285, v_num=4, train_loss=0.0269, train_accuracy=1.000, train_f1_score=1.000, val_loss=0.308, val_accuracy=0.930, val_f1_score=0.930]\n",
      "Epoch 142:  93%|█████████▎| 236/255 [01:35<00:07,  2.48it/s, loss=0.0285, v_num=4, train_loss=0.0269, train_accuracy=1.000, train_f1_score=1.000, val_loss=0.308, val_accuracy=0.930, val_f1_score=0.930]\n",
      "Epoch 142:  93%|█████████▎| 238/255 [01:35<00:06,  2.50it/s, loss=0.0285, v_num=4, train_loss=0.0269, train_accuracy=1.000, train_f1_score=1.000, val_loss=0.308, val_accuracy=0.930, val_f1_score=0.930]\n",
      "Epoch 142:  94%|█████████▍| 240/255 [01:35<00:05,  2.51it/s, loss=0.0285, v_num=4, train_loss=0.0269, train_accuracy=1.000, train_f1_score=1.000, val_loss=0.308, val_accuracy=0.930, val_f1_score=0.930]\n",
      "Epoch 142:  95%|█████████▍| 242/255 [01:35<00:05,  2.53it/s, loss=0.0285, v_num=4, train_loss=0.0269, train_accuracy=1.000, train_f1_score=1.000, val_loss=0.308, val_accuracy=0.930, val_f1_score=0.930]\n",
      "Epoch 142:  96%|█████████▌| 244/255 [01:35<00:04,  2.55it/s, loss=0.0285, v_num=4, train_loss=0.0269, train_accuracy=1.000, train_f1_score=1.000, val_loss=0.308, val_accuracy=0.930, val_f1_score=0.930]\n",
      "Epoch 142:  96%|█████████▋| 246/255 [01:36<00:03,  2.56it/s, loss=0.0285, v_num=4, train_loss=0.0269, train_accuracy=1.000, train_f1_score=1.000, val_loss=0.308, val_accuracy=0.930, val_f1_score=0.930]\n",
      "Epoch 142:  97%|█████████▋| 248/255 [01:36<00:02,  2.58it/s, loss=0.0285, v_num=4, train_loss=0.0269, train_accuracy=1.000, train_f1_score=1.000, val_loss=0.308, val_accuracy=0.930, val_f1_score=0.930]\n",
      "Epoch 142:  98%|█████████▊| 250/255 [01:36<00:01,  2.59it/s, loss=0.0285, v_num=4, train_loss=0.0269, train_accuracy=1.000, train_f1_score=1.000, val_loss=0.308, val_accuracy=0.930, val_f1_score=0.930]\n",
      "Epoch 142:  99%|█████████▉| 252/255 [01:36<00:01,  2.61it/s, loss=0.0285, v_num=4, train_loss=0.0269, train_accuracy=1.000, train_f1_score=1.000, val_loss=0.308, val_accuracy=0.930, val_f1_score=0.930]\n",
      "Epoch 142: 100%|█████████▉| 254/255 [01:36<00:00,  2.63it/s, loss=0.0285, v_num=4, train_loss=0.0269, train_accuracy=1.000, train_f1_score=1.000, val_loss=0.308, val_accuracy=0.930, val_f1_score=0.930]\n",
      "Epoch 142: 100%|██████████| 255/255 [01:37<00:00,  2.61it/s, loss=0.0285, v_num=4, train_loss=0.0269, train_accuracy=1.000, train_f1_score=1.000, val_loss=0.266, val_accuracy=0.933, val_f1_score=0.933]\n",
      "Epoch 142: 100%|██████████| 255/255 [01:37<00:00,  2.61it/s, loss=0.0285, v_num=4, train_loss=0.0269, train_accuracy=1.000, train_f1_score=1.000, val_loss=0.266, val_accuracy=0.933, val_f1_score=0.933]"
     ]
    },
    {
     "name": "stderr",
     "output_type": "stream",
     "text": [
      "Epoch 142, global step 32317: val_loss was not in top 2\n"
     ]
    },
    {
     "name": "stdout",
     "output_type": "stream",
     "text": [
      "Epoch 143:  89%|████████▊ | 226/255 [01:26<00:11,  2.60it/s, loss=0.0214, v_num=4, train_loss=0.00961, train_accuracy=1.000, train_f1_score=1.000, val_loss=0.266, val_accuracy=0.933, val_f1_score=0.933] \n",
      "Validating: 0it [00:00, ?it/s]\u001b[A\n",
      "Validating:   0%|          | 0/29 [00:00<?, ?it/s]\u001b[A\n",
      "Epoch 143:  89%|████████▉ | 228/255 [01:34<00:11,  2.42it/s, loss=0.0214, v_num=4, train_loss=0.00961, train_accuracy=1.000, train_f1_score=1.000, val_loss=0.266, val_accuracy=0.933, val_f1_score=0.933]\n",
      "Validating:   7%|▋         | 2/29 [00:07<01:26,  3.19s/it]\u001b[A\n",
      "Epoch 143:  90%|█████████ | 230/255 [01:34<00:10,  2.43it/s, loss=0.0214, v_num=4, train_loss=0.00961, train_accuracy=1.000, train_f1_score=1.000, val_loss=0.266, val_accuracy=0.933, val_f1_score=0.933]\n",
      "Epoch 143:  91%|█████████ | 232/255 [01:34<00:09,  2.45it/s, loss=0.0214, v_num=4, train_loss=0.00961, train_accuracy=1.000, train_f1_score=1.000, val_loss=0.266, val_accuracy=0.933, val_f1_score=0.933]\n",
      "Epoch 143:  92%|█████████▏| 234/255 [01:34<00:08,  2.46it/s, loss=0.0214, v_num=4, train_loss=0.00961, train_accuracy=1.000, train_f1_score=1.000, val_loss=0.266, val_accuracy=0.933, val_f1_score=0.933]\n",
      "Epoch 143:  93%|█████████▎| 236/255 [01:35<00:07,  2.48it/s, loss=0.0214, v_num=4, train_loss=0.00961, train_accuracy=1.000, train_f1_score=1.000, val_loss=0.266, val_accuracy=0.933, val_f1_score=0.933]\n",
      "Epoch 143:  93%|█████████▎| 238/255 [01:35<00:06,  2.50it/s, loss=0.0214, v_num=4, train_loss=0.00961, train_accuracy=1.000, train_f1_score=1.000, val_loss=0.266, val_accuracy=0.933, val_f1_score=0.933]\n",
      "Epoch 143:  94%|█████████▍| 240/255 [01:35<00:05,  2.51it/s, loss=0.0214, v_num=4, train_loss=0.00961, train_accuracy=1.000, train_f1_score=1.000, val_loss=0.266, val_accuracy=0.933, val_f1_score=0.933]\n",
      "Epoch 143:  95%|█████████▍| 242/255 [01:35<00:05,  2.53it/s, loss=0.0214, v_num=4, train_loss=0.00961, train_accuracy=1.000, train_f1_score=1.000, val_loss=0.266, val_accuracy=0.933, val_f1_score=0.933]\n",
      "Epoch 143:  96%|█████████▌| 244/255 [01:35<00:04,  2.55it/s, loss=0.0214, v_num=4, train_loss=0.00961, train_accuracy=1.000, train_f1_score=1.000, val_loss=0.266, val_accuracy=0.933, val_f1_score=0.933]\n",
      "Epoch 143:  96%|█████████▋| 246/255 [01:36<00:03,  2.56it/s, loss=0.0214, v_num=4, train_loss=0.00961, train_accuracy=1.000, train_f1_score=1.000, val_loss=0.266, val_accuracy=0.933, val_f1_score=0.933]\n",
      "Epoch 143:  97%|█████████▋| 248/255 [01:36<00:02,  2.58it/s, loss=0.0214, v_num=4, train_loss=0.00961, train_accuracy=1.000, train_f1_score=1.000, val_loss=0.266, val_accuracy=0.933, val_f1_score=0.933]\n",
      "Epoch 143:  98%|█████████▊| 250/255 [01:36<00:01,  2.59it/s, loss=0.0214, v_num=4, train_loss=0.00961, train_accuracy=1.000, train_f1_score=1.000, val_loss=0.266, val_accuracy=0.933, val_f1_score=0.933]\n",
      "Epoch 143:  99%|█████████▉| 252/255 [01:36<00:01,  2.61it/s, loss=0.0214, v_num=4, train_loss=0.00961, train_accuracy=1.000, train_f1_score=1.000, val_loss=0.266, val_accuracy=0.933, val_f1_score=0.933]\n",
      "Epoch 143: 100%|█████████▉| 254/255 [01:36<00:00,  2.63it/s, loss=0.0214, v_num=4, train_loss=0.00961, train_accuracy=1.000, train_f1_score=1.000, val_loss=0.266, val_accuracy=0.933, val_f1_score=0.933]\n",
      "Epoch 143: 100%|██████████| 255/255 [01:37<00:00,  2.60it/s, loss=0.0214, v_num=4, train_loss=0.00961, train_accuracy=1.000, train_f1_score=1.000, val_loss=0.302, val_accuracy=0.928, val_f1_score=0.928]\n",
      "Epoch 143: 100%|██████████| 255/255 [01:37<00:00,  2.60it/s, loss=0.0214, v_num=4, train_loss=0.00961, train_accuracy=1.000, train_f1_score=1.000, val_loss=0.302, val_accuracy=0.928, val_f1_score=0.928]"
     ]
    },
    {
     "name": "stderr",
     "output_type": "stream",
     "text": [
      "Epoch 143, global step 32543: val_loss was not in top 2\n"
     ]
    },
    {
     "name": "stdout",
     "output_type": "stream",
     "text": [
      "Epoch 144:  89%|████████▊ | 226/255 [01:26<00:11,  2.61it/s, loss=0.00775, v_num=4, train_loss=0.00249, train_accuracy=1.000, train_f1_score=1.000, val_loss=0.302, val_accuracy=0.928, val_f1_score=0.928]\n",
      "Validating: 0it [00:00, ?it/s]\u001b[A\n",
      "Validating:   0%|          | 0/29 [00:00<?, ?it/s]\u001b[A\n",
      "Epoch 144:  89%|████████▉ | 228/255 [01:34<00:11,  2.42it/s, loss=0.00775, v_num=4, train_loss=0.00249, train_accuracy=1.000, train_f1_score=1.000, val_loss=0.302, val_accuracy=0.928, val_f1_score=0.928]\n",
      "Epoch 144:  90%|█████████ | 230/255 [01:34<00:10,  2.43it/s, loss=0.00775, v_num=4, train_loss=0.00249, train_accuracy=1.000, train_f1_score=1.000, val_loss=0.302, val_accuracy=0.928, val_f1_score=0.928]\n",
      "Epoch 144:  91%|█████████ | 232/255 [01:34<00:09,  2.45it/s, loss=0.00775, v_num=4, train_loss=0.00249, train_accuracy=1.000, train_f1_score=1.000, val_loss=0.302, val_accuracy=0.928, val_f1_score=0.928]\n",
      "Epoch 144:  92%|█████████▏| 234/255 [01:34<00:08,  2.47it/s, loss=0.00775, v_num=4, train_loss=0.00249, train_accuracy=1.000, train_f1_score=1.000, val_loss=0.302, val_accuracy=0.928, val_f1_score=0.928]\n",
      "Epoch 144:  93%|█████████▎| 236/255 [01:35<00:07,  2.48it/s, loss=0.00775, v_num=4, train_loss=0.00249, train_accuracy=1.000, train_f1_score=1.000, val_loss=0.302, val_accuracy=0.928, val_f1_score=0.928]\n",
      "Epoch 144:  93%|█████████▎| 238/255 [01:35<00:06,  2.50it/s, loss=0.00775, v_num=4, train_loss=0.00249, train_accuracy=1.000, train_f1_score=1.000, val_loss=0.302, val_accuracy=0.928, val_f1_score=0.928]\n",
      "Epoch 144:  94%|█████████▍| 240/255 [01:35<00:05,  2.51it/s, loss=0.00775, v_num=4, train_loss=0.00249, train_accuracy=1.000, train_f1_score=1.000, val_loss=0.302, val_accuracy=0.928, val_f1_score=0.928]\n",
      "Epoch 144:  95%|█████████▍| 242/255 [01:35<00:05,  2.53it/s, loss=0.00775, v_num=4, train_loss=0.00249, train_accuracy=1.000, train_f1_score=1.000, val_loss=0.302, val_accuracy=0.928, val_f1_score=0.928]\n",
      "Epoch 144:  96%|█████████▌| 244/255 [01:35<00:04,  2.55it/s, loss=0.00775, v_num=4, train_loss=0.00249, train_accuracy=1.000, train_f1_score=1.000, val_loss=0.302, val_accuracy=0.928, val_f1_score=0.928]\n",
      "Epoch 144:  96%|█████████▋| 246/255 [01:35<00:03,  2.56it/s, loss=0.00775, v_num=4, train_loss=0.00249, train_accuracy=1.000, train_f1_score=1.000, val_loss=0.302, val_accuracy=0.928, val_f1_score=0.928]\n",
      "Epoch 144:  97%|█████████▋| 248/255 [01:36<00:02,  2.58it/s, loss=0.00775, v_num=4, train_loss=0.00249, train_accuracy=1.000, train_f1_score=1.000, val_loss=0.302, val_accuracy=0.928, val_f1_score=0.928]\n",
      "Epoch 144:  98%|█████████▊| 250/255 [01:36<00:01,  2.60it/s, loss=0.00775, v_num=4, train_loss=0.00249, train_accuracy=1.000, train_f1_score=1.000, val_loss=0.302, val_accuracy=0.928, val_f1_score=0.928]\n",
      "Epoch 144:  99%|█████████▉| 252/255 [01:36<00:01,  2.61it/s, loss=0.00775, v_num=4, train_loss=0.00249, train_accuracy=1.000, train_f1_score=1.000, val_loss=0.302, val_accuracy=0.928, val_f1_score=0.928]\n",
      "Epoch 144: 100%|█████████▉| 254/255 [01:36<00:00,  2.63it/s, loss=0.00775, v_num=4, train_loss=0.00249, train_accuracy=1.000, train_f1_score=1.000, val_loss=0.302, val_accuracy=0.928, val_f1_score=0.928]\n",
      "Epoch 144: 100%|██████████| 255/255 [01:37<00:00,  2.61it/s, loss=0.00775, v_num=4, train_loss=0.00249, train_accuracy=1.000, train_f1_score=1.000, val_loss=0.269, val_accuracy=0.935, val_f1_score=0.935]\n",
      "Epoch 144: 100%|██████████| 255/255 [01:37<00:00,  2.61it/s, loss=0.00775, v_num=4, train_loss=0.00249, train_accuracy=1.000, train_f1_score=1.000, val_loss=0.269, val_accuracy=0.935, val_f1_score=0.935]"
     ]
    },
    {
     "name": "stderr",
     "output_type": "stream",
     "text": [
      "Epoch 144, global step 32769: val_loss was not in top 2\n"
     ]
    },
    {
     "name": "stdout",
     "output_type": "stream",
     "text": [
      "Epoch 145:  89%|████████▊ | 226/255 [01:26<00:11,  2.61it/s, loss=0.0227, v_num=4, train_loss=0.00872, train_accuracy=1.000, train_f1_score=1.000, val_loss=0.269, val_accuracy=0.935, val_f1_score=0.935] \n",
      "Validating: 0it [00:00, ?it/s]\u001b[A\n",
      "Validating:   0%|          | 0/29 [00:00<?, ?it/s]\u001b[A\n",
      "Epoch 145:  89%|████████▉ | 228/255 [01:34<00:11,  2.41it/s, loss=0.0227, v_num=4, train_loss=0.00872, train_accuracy=1.000, train_f1_score=1.000, val_loss=0.269, val_accuracy=0.935, val_f1_score=0.935]\n",
      "Epoch 145:  90%|█████████ | 230/255 [01:34<00:10,  2.43it/s, loss=0.0227, v_num=4, train_loss=0.00872, train_accuracy=1.000, train_f1_score=1.000, val_loss=0.269, val_accuracy=0.935, val_f1_score=0.935]\n",
      "Epoch 145:  91%|█████████ | 232/255 [01:34<00:09,  2.44it/s, loss=0.0227, v_num=4, train_loss=0.00872, train_accuracy=1.000, train_f1_score=1.000, val_loss=0.269, val_accuracy=0.935, val_f1_score=0.935]\n",
      "Epoch 145:  92%|█████████▏| 234/255 [01:35<00:08,  2.46it/s, loss=0.0227, v_num=4, train_loss=0.00872, train_accuracy=1.000, train_f1_score=1.000, val_loss=0.269, val_accuracy=0.935, val_f1_score=0.935]\n",
      "Epoch 145:  93%|█████████▎| 236/255 [01:35<00:07,  2.48it/s, loss=0.0227, v_num=4, train_loss=0.00872, train_accuracy=1.000, train_f1_score=1.000, val_loss=0.269, val_accuracy=0.935, val_f1_score=0.935]\n",
      "Epoch 145:  93%|█████████▎| 238/255 [01:35<00:06,  2.49it/s, loss=0.0227, v_num=4, train_loss=0.00872, train_accuracy=1.000, train_f1_score=1.000, val_loss=0.269, val_accuracy=0.935, val_f1_score=0.935]\n",
      "Epoch 145:  94%|█████████▍| 240/255 [01:35<00:05,  2.51it/s, loss=0.0227, v_num=4, train_loss=0.00872, train_accuracy=1.000, train_f1_score=1.000, val_loss=0.269, val_accuracy=0.935, val_f1_score=0.935]\n",
      "Epoch 145:  95%|█████████▍| 242/255 [01:35<00:05,  2.53it/s, loss=0.0227, v_num=4, train_loss=0.00872, train_accuracy=1.000, train_f1_score=1.000, val_loss=0.269, val_accuracy=0.935, val_f1_score=0.935]\n",
      "Epoch 145:  96%|█████████▌| 244/255 [01:36<00:04,  2.54it/s, loss=0.0227, v_num=4, train_loss=0.00872, train_accuracy=1.000, train_f1_score=1.000, val_loss=0.269, val_accuracy=0.935, val_f1_score=0.935]\n",
      "Epoch 145:  96%|█████████▋| 246/255 [01:36<00:03,  2.56it/s, loss=0.0227, v_num=4, train_loss=0.00872, train_accuracy=1.000, train_f1_score=1.000, val_loss=0.269, val_accuracy=0.935, val_f1_score=0.935]\n",
      "Epoch 145:  97%|█████████▋| 248/255 [01:36<00:02,  2.57it/s, loss=0.0227, v_num=4, train_loss=0.00872, train_accuracy=1.000, train_f1_score=1.000, val_loss=0.269, val_accuracy=0.935, val_f1_score=0.935]\n",
      "Epoch 145:  98%|█████████▊| 250/255 [01:36<00:01,  2.59it/s, loss=0.0227, v_num=4, train_loss=0.00872, train_accuracy=1.000, train_f1_score=1.000, val_loss=0.269, val_accuracy=0.935, val_f1_score=0.935]\n",
      "Epoch 145:  99%|█████████▉| 252/255 [01:36<00:01,  2.61it/s, loss=0.0227, v_num=4, train_loss=0.00872, train_accuracy=1.000, train_f1_score=1.000, val_loss=0.269, val_accuracy=0.935, val_f1_score=0.935]\n",
      "Epoch 145: 100%|█████████▉| 254/255 [01:36<00:00,  2.62it/s, loss=0.0227, v_num=4, train_loss=0.00872, train_accuracy=1.000, train_f1_score=1.000, val_loss=0.269, val_accuracy=0.935, val_f1_score=0.935]\n",
      "Epoch 145: 100%|██████████| 255/255 [01:38<00:00,  2.60it/s, loss=0.0227, v_num=4, train_loss=0.00872, train_accuracy=1.000, train_f1_score=1.000, val_loss=0.245, val_accuracy=0.938, val_f1_score=0.938]\n",
      "Epoch 145: 100%|██████████| 255/255 [01:38<00:00,  2.60it/s, loss=0.0227, v_num=4, train_loss=0.00872, train_accuracy=1.000, train_f1_score=1.000, val_loss=0.245, val_accuracy=0.938, val_f1_score=0.938]"
     ]
    },
    {
     "name": "stderr",
     "output_type": "stream",
     "text": [
      "Epoch 145, global step 32995: val_loss reached 0.24510 (best 0.24510), saving model to \"/Workspace/code/checkpoints/best-checkpoint-corr-mi-0-v3.ckpt\" as top 2\n"
     ]
    },
    {
     "name": "stdout",
     "output_type": "stream",
     "text": [
      "Epoch 146:  89%|████████▊ | 226/255 [01:26<00:11,  2.60it/s, loss=0.192, v_num=4, train_loss=0.0184, train_accuracy=1.000, train_f1_score=1.000, val_loss=0.245, val_accuracy=0.938, val_f1_score=0.938]  \n",
      "Validating: 0it [00:00, ?it/s]\u001b[A\n",
      "Validating:   0%|          | 0/29 [00:00<?, ?it/s]\u001b[A\n",
      "Epoch 146:  89%|████████▉ | 228/255 [01:34<00:11,  2.41it/s, loss=0.192, v_num=4, train_loss=0.0184, train_accuracy=1.000, train_f1_score=1.000, val_loss=0.245, val_accuracy=0.938, val_f1_score=0.938]\n",
      "Epoch 146:  90%|█████████ | 230/255 [01:34<00:10,  2.42it/s, loss=0.192, v_num=4, train_loss=0.0184, train_accuracy=1.000, train_f1_score=1.000, val_loss=0.245, val_accuracy=0.938, val_f1_score=0.938]\n",
      "Epoch 146:  91%|█████████ | 232/255 [01:35<00:09,  2.44it/s, loss=0.192, v_num=4, train_loss=0.0184, train_accuracy=1.000, train_f1_score=1.000, val_loss=0.245, val_accuracy=0.938, val_f1_score=0.938]\n",
      "Epoch 146:  92%|█████████▏| 234/255 [01:35<00:08,  2.46it/s, loss=0.192, v_num=4, train_loss=0.0184, train_accuracy=1.000, train_f1_score=1.000, val_loss=0.245, val_accuracy=0.938, val_f1_score=0.938]\n",
      "Epoch 146:  93%|█████████▎| 236/255 [01:35<00:07,  2.47it/s, loss=0.192, v_num=4, train_loss=0.0184, train_accuracy=1.000, train_f1_score=1.000, val_loss=0.245, val_accuracy=0.938, val_f1_score=0.938]\n",
      "Epoch 146:  93%|█████████▎| 238/255 [01:35<00:06,  2.49it/s, loss=0.192, v_num=4, train_loss=0.0184, train_accuracy=1.000, train_f1_score=1.000, val_loss=0.245, val_accuracy=0.938, val_f1_score=0.938]\n",
      "Epoch 146:  94%|█████████▍| 240/255 [01:35<00:05,  2.51it/s, loss=0.192, v_num=4, train_loss=0.0184, train_accuracy=1.000, train_f1_score=1.000, val_loss=0.245, val_accuracy=0.938, val_f1_score=0.938]\n",
      "Epoch 146:  95%|█████████▍| 242/255 [01:35<00:05,  2.52it/s, loss=0.192, v_num=4, train_loss=0.0184, train_accuracy=1.000, train_f1_score=1.000, val_loss=0.245, val_accuracy=0.938, val_f1_score=0.938]\n",
      "Epoch 146:  96%|█████████▌| 244/255 [01:36<00:04,  2.54it/s, loss=0.192, v_num=4, train_loss=0.0184, train_accuracy=1.000, train_f1_score=1.000, val_loss=0.245, val_accuracy=0.938, val_f1_score=0.938]\n",
      "Epoch 146:  96%|█████████▋| 246/255 [01:36<00:03,  2.56it/s, loss=0.192, v_num=4, train_loss=0.0184, train_accuracy=1.000, train_f1_score=1.000, val_loss=0.245, val_accuracy=0.938, val_f1_score=0.938]\n",
      "Epoch 146:  97%|█████████▋| 248/255 [01:36<00:02,  2.57it/s, loss=0.192, v_num=4, train_loss=0.0184, train_accuracy=1.000, train_f1_score=1.000, val_loss=0.245, val_accuracy=0.938, val_f1_score=0.938]\n",
      "Epoch 146:  98%|█████████▊| 250/255 [01:36<00:01,  2.59it/s, loss=0.192, v_num=4, train_loss=0.0184, train_accuracy=1.000, train_f1_score=1.000, val_loss=0.245, val_accuracy=0.938, val_f1_score=0.938]\n",
      "Epoch 146:  99%|█████████▉| 252/255 [01:36<00:01,  2.60it/s, loss=0.192, v_num=4, train_loss=0.0184, train_accuracy=1.000, train_f1_score=1.000, val_loss=0.245, val_accuracy=0.938, val_f1_score=0.938]\n",
      "Epoch 146: 100%|█████████▉| 254/255 [01:36<00:00,  2.62it/s, loss=0.192, v_num=4, train_loss=0.0184, train_accuracy=1.000, train_f1_score=1.000, val_loss=0.245, val_accuracy=0.938, val_f1_score=0.938]\n",
      "Epoch 146: 100%|██████████| 255/255 [01:38<00:00,  2.60it/s, loss=0.192, v_num=4, train_loss=0.0184, train_accuracy=1.000, train_f1_score=1.000, val_loss=0.325, val_accuracy=0.884, val_f1_score=0.884]\n",
      "Epoch 146: 100%|██████████| 255/255 [01:38<00:00,  2.60it/s, loss=0.192, v_num=4, train_loss=0.0184, train_accuracy=1.000, train_f1_score=1.000, val_loss=0.325, val_accuracy=0.884, val_f1_score=0.884]"
     ]
    },
    {
     "name": "stderr",
     "output_type": "stream",
     "text": [
      "Epoch 146, global step 33221: val_loss was not in top 2\n"
     ]
    },
    {
     "name": "stdout",
     "output_type": "stream",
     "text": [
      "Epoch 147:  89%|████████▊ | 226/255 [01:26<00:11,  2.60it/s, loss=0.0607, v_num=4, train_loss=0.0372, train_accuracy=1.000, train_f1_score=1.000, val_loss=0.325, val_accuracy=0.884, val_f1_score=0.884]\n",
      "Validating: 0it [00:00, ?it/s]\u001b[A\n",
      "Validating:   0%|          | 0/29 [00:00<?, ?it/s]\u001b[A\n",
      "Epoch 147:  89%|████████▉ | 228/255 [01:34<00:11,  2.41it/s, loss=0.0607, v_num=4, train_loss=0.0372, train_accuracy=1.000, train_f1_score=1.000, val_loss=0.325, val_accuracy=0.884, val_f1_score=0.884]\n",
      "Epoch 147:  90%|█████████ | 230/255 [01:34<00:10,  2.42it/s, loss=0.0607, v_num=4, train_loss=0.0372, train_accuracy=1.000, train_f1_score=1.000, val_loss=0.325, val_accuracy=0.884, val_f1_score=0.884]\n",
      "Epoch 147:  91%|█████████ | 232/255 [01:35<00:09,  2.44it/s, loss=0.0607, v_num=4, train_loss=0.0372, train_accuracy=1.000, train_f1_score=1.000, val_loss=0.325, val_accuracy=0.884, val_f1_score=0.884]\n",
      "Epoch 147:  92%|█████████▏| 234/255 [01:35<00:08,  2.46it/s, loss=0.0607, v_num=4, train_loss=0.0372, train_accuracy=1.000, train_f1_score=1.000, val_loss=0.325, val_accuracy=0.884, val_f1_score=0.884]\n",
      "Epoch 147:  93%|█████████▎| 236/255 [01:35<00:07,  2.47it/s, loss=0.0607, v_num=4, train_loss=0.0372, train_accuracy=1.000, train_f1_score=1.000, val_loss=0.325, val_accuracy=0.884, val_f1_score=0.884]\n",
      "Epoch 147:  93%|█████████▎| 238/255 [01:35<00:06,  2.49it/s, loss=0.0607, v_num=4, train_loss=0.0372, train_accuracy=1.000, train_f1_score=1.000, val_loss=0.325, val_accuracy=0.884, val_f1_score=0.884]\n",
      "Epoch 147:  94%|█████████▍| 240/255 [01:35<00:05,  2.51it/s, loss=0.0607, v_num=4, train_loss=0.0372, train_accuracy=1.000, train_f1_score=1.000, val_loss=0.325, val_accuracy=0.884, val_f1_score=0.884]\n",
      "Epoch 147:  95%|█████████▍| 242/255 [01:35<00:05,  2.52it/s, loss=0.0607, v_num=4, train_loss=0.0372, train_accuracy=1.000, train_f1_score=1.000, val_loss=0.325, val_accuracy=0.884, val_f1_score=0.884]\n",
      "Epoch 147:  96%|█████████▌| 244/255 [01:36<00:04,  2.54it/s, loss=0.0607, v_num=4, train_loss=0.0372, train_accuracy=1.000, train_f1_score=1.000, val_loss=0.325, val_accuracy=0.884, val_f1_score=0.884]\n",
      "Epoch 147:  96%|█████████▋| 246/255 [01:36<00:03,  2.55it/s, loss=0.0607, v_num=4, train_loss=0.0372, train_accuracy=1.000, train_f1_score=1.000, val_loss=0.325, val_accuracy=0.884, val_f1_score=0.884]\n",
      "Epoch 147:  97%|█████████▋| 248/255 [01:36<00:02,  2.57it/s, loss=0.0607, v_num=4, train_loss=0.0372, train_accuracy=1.000, train_f1_score=1.000, val_loss=0.325, val_accuracy=0.884, val_f1_score=0.884]\n",
      "Epoch 147:  98%|█████████▊| 250/255 [01:36<00:01,  2.59it/s, loss=0.0607, v_num=4, train_loss=0.0372, train_accuracy=1.000, train_f1_score=1.000, val_loss=0.325, val_accuracy=0.884, val_f1_score=0.884]\n",
      "Epoch 147:  99%|█████████▉| 252/255 [01:36<00:01,  2.60it/s, loss=0.0607, v_num=4, train_loss=0.0372, train_accuracy=1.000, train_f1_score=1.000, val_loss=0.325, val_accuracy=0.884, val_f1_score=0.884]\n",
      "Epoch 147: 100%|█████████▉| 254/255 [01:37<00:00,  2.62it/s, loss=0.0607, v_num=4, train_loss=0.0372, train_accuracy=1.000, train_f1_score=1.000, val_loss=0.325, val_accuracy=0.884, val_f1_score=0.884]\n",
      "Epoch 147: 100%|██████████| 255/255 [01:38<00:00,  2.60it/s, loss=0.0607, v_num=4, train_loss=0.0372, train_accuracy=1.000, train_f1_score=1.000, val_loss=0.252, val_accuracy=0.916, val_f1_score=0.916]\n",
      "Epoch 147: 100%|██████████| 255/255 [01:38<00:00,  2.60it/s, loss=0.0607, v_num=4, train_loss=0.0372, train_accuracy=1.000, train_f1_score=1.000, val_loss=0.252, val_accuracy=0.916, val_f1_score=0.916]"
     ]
    },
    {
     "name": "stderr",
     "output_type": "stream",
     "text": [
      "Epoch 147, global step 33447: val_loss was not in top 2\n"
     ]
    },
    {
     "name": "stdout",
     "output_type": "stream",
     "text": [
      "Epoch 148:  89%|████████▊ | 226/255 [01:27<00:11,  2.60it/s, loss=0.0414, v_num=4, train_loss=0.260, train_accuracy=0.889, train_f1_score=0.889, val_loss=0.252, val_accuracy=0.916, val_f1_score=0.916]  \n",
      "Validating: 0it [00:00, ?it/s]\u001b[A\n",
      "Validating:   0%|          | 0/29 [00:00<?, ?it/s]\u001b[A\n",
      "Epoch 148:  89%|████████▉ | 228/255 [01:34<00:11,  2.40it/s, loss=0.0414, v_num=4, train_loss=0.260, train_accuracy=0.889, train_f1_score=0.889, val_loss=0.252, val_accuracy=0.916, val_f1_score=0.916]\n",
      "Epoch 148:  90%|█████████ | 230/255 [01:35<00:10,  2.42it/s, loss=0.0414, v_num=4, train_loss=0.260, train_accuracy=0.889, train_f1_score=0.889, val_loss=0.252, val_accuracy=0.916, val_f1_score=0.916]\n",
      "Epoch 148:  91%|█████████ | 232/255 [01:35<00:09,  2.44it/s, loss=0.0414, v_num=4, train_loss=0.260, train_accuracy=0.889, train_f1_score=0.889, val_loss=0.252, val_accuracy=0.916, val_f1_score=0.916]\n",
      "Epoch 148:  92%|█████████▏| 234/255 [01:35<00:08,  2.45it/s, loss=0.0414, v_num=4, train_loss=0.260, train_accuracy=0.889, train_f1_score=0.889, val_loss=0.252, val_accuracy=0.916, val_f1_score=0.916]\n",
      "Epoch 148:  93%|█████████▎| 236/255 [01:35<00:07,  2.47it/s, loss=0.0414, v_num=4, train_loss=0.260, train_accuracy=0.889, train_f1_score=0.889, val_loss=0.252, val_accuracy=0.916, val_f1_score=0.916]\n",
      "Epoch 148:  93%|█████████▎| 238/255 [01:35<00:06,  2.49it/s, loss=0.0414, v_num=4, train_loss=0.260, train_accuracy=0.889, train_f1_score=0.889, val_loss=0.252, val_accuracy=0.916, val_f1_score=0.916]\n",
      "Epoch 148:  94%|█████████▍| 240/255 [01:35<00:05,  2.50it/s, loss=0.0414, v_num=4, train_loss=0.260, train_accuracy=0.889, train_f1_score=0.889, val_loss=0.252, val_accuracy=0.916, val_f1_score=0.916]\n",
      "Epoch 148:  95%|█████████▍| 242/255 [01:36<00:05,  2.52it/s, loss=0.0414, v_num=4, train_loss=0.260, train_accuracy=0.889, train_f1_score=0.889, val_loss=0.252, val_accuracy=0.916, val_f1_score=0.916]\n",
      "Epoch 148:  96%|█████████▌| 244/255 [01:36<00:04,  2.53it/s, loss=0.0414, v_num=4, train_loss=0.260, train_accuracy=0.889, train_f1_score=0.889, val_loss=0.252, val_accuracy=0.916, val_f1_score=0.916]\n",
      "Epoch 148:  96%|█████████▋| 246/255 [01:36<00:03,  2.55it/s, loss=0.0414, v_num=4, train_loss=0.260, train_accuracy=0.889, train_f1_score=0.889, val_loss=0.252, val_accuracy=0.916, val_f1_score=0.916]\n",
      "Epoch 148:  97%|█████████▋| 248/255 [01:36<00:02,  2.57it/s, loss=0.0414, v_num=4, train_loss=0.260, train_accuracy=0.889, train_f1_score=0.889, val_loss=0.252, val_accuracy=0.916, val_f1_score=0.916]\n",
      "Epoch 148:  98%|█████████▊| 250/255 [01:36<00:01,  2.58it/s, loss=0.0414, v_num=4, train_loss=0.260, train_accuracy=0.889, train_f1_score=0.889, val_loss=0.252, val_accuracy=0.916, val_f1_score=0.916]\n",
      "Epoch 148:  99%|█████████▉| 252/255 [01:37<00:01,  2.60it/s, loss=0.0414, v_num=4, train_loss=0.260, train_accuracy=0.889, train_f1_score=0.889, val_loss=0.252, val_accuracy=0.916, val_f1_score=0.916]\n",
      "Epoch 148: 100%|█████████▉| 254/255 [01:37<00:00,  2.61it/s, loss=0.0414, v_num=4, train_loss=0.260, train_accuracy=0.889, train_f1_score=0.889, val_loss=0.252, val_accuracy=0.916, val_f1_score=0.916]\n",
      "Epoch 148: 100%|██████████| 255/255 [01:38<00:00,  2.59it/s, loss=0.0414, v_num=4, train_loss=0.260, train_accuracy=0.889, train_f1_score=0.889, val_loss=0.283, val_accuracy=0.923, val_f1_score=0.923]\n",
      "Epoch 148: 100%|██████████| 255/255 [01:38<00:00,  2.59it/s, loss=0.0414, v_num=4, train_loss=0.260, train_accuracy=0.889, train_f1_score=0.889, val_loss=0.283, val_accuracy=0.923, val_f1_score=0.923]"
     ]
    },
    {
     "name": "stderr",
     "output_type": "stream",
     "text": [
      "Epoch 148, global step 33673: val_loss was not in top 2\n"
     ]
    },
    {
     "name": "stdout",
     "output_type": "stream",
     "text": [
      "Epoch 149:  89%|████████▊ | 226/255 [01:26<00:11,  2.61it/s, loss=0.0415, v_num=4, train_loss=0.0299, train_accuracy=1.000, train_f1_score=1.000, val_loss=0.283, val_accuracy=0.923, val_f1_score=0.923] \n",
      "Validating: 0it [00:00, ?it/s]\u001b[A\n",
      "Validating:   0%|          | 0/29 [00:00<?, ?it/s]\u001b[A\n",
      "Epoch 149:  89%|████████▉ | 228/255 [01:34<00:11,  2.42it/s, loss=0.0415, v_num=4, train_loss=0.0299, train_accuracy=1.000, train_f1_score=1.000, val_loss=0.283, val_accuracy=0.923, val_f1_score=0.923]\n",
      "Epoch 149:  90%|█████████ | 230/255 [01:34<00:10,  2.43it/s, loss=0.0415, v_num=4, train_loss=0.0299, train_accuracy=1.000, train_f1_score=1.000, val_loss=0.283, val_accuracy=0.923, val_f1_score=0.923]\n",
      "Epoch 149:  91%|█████████ | 232/255 [01:34<00:09,  2.45it/s, loss=0.0415, v_num=4, train_loss=0.0299, train_accuracy=1.000, train_f1_score=1.000, val_loss=0.283, val_accuracy=0.923, val_f1_score=0.923]\n",
      "Epoch 149:  92%|█████████▏| 234/255 [01:34<00:08,  2.46it/s, loss=0.0415, v_num=4, train_loss=0.0299, train_accuracy=1.000, train_f1_score=1.000, val_loss=0.283, val_accuracy=0.923, val_f1_score=0.923]\n",
      "Epoch 149:  93%|█████████▎| 236/255 [01:35<00:07,  2.48it/s, loss=0.0415, v_num=4, train_loss=0.0299, train_accuracy=1.000, train_f1_score=1.000, val_loss=0.283, val_accuracy=0.923, val_f1_score=0.923]\n",
      "Epoch 149:  93%|█████████▎| 238/255 [01:35<00:06,  2.50it/s, loss=0.0415, v_num=4, train_loss=0.0299, train_accuracy=1.000, train_f1_score=1.000, val_loss=0.283, val_accuracy=0.923, val_f1_score=0.923]\n",
      "Epoch 149:  94%|█████████▍| 240/255 [01:35<00:05,  2.51it/s, loss=0.0415, v_num=4, train_loss=0.0299, train_accuracy=1.000, train_f1_score=1.000, val_loss=0.283, val_accuracy=0.923, val_f1_score=0.923]\n",
      "Epoch 149:  95%|█████████▍| 242/255 [01:35<00:05,  2.53it/s, loss=0.0415, v_num=4, train_loss=0.0299, train_accuracy=1.000, train_f1_score=1.000, val_loss=0.283, val_accuracy=0.923, val_f1_score=0.923]\n",
      "Epoch 149:  96%|█████████▌| 244/255 [01:35<00:04,  2.55it/s, loss=0.0415, v_num=4, train_loss=0.0299, train_accuracy=1.000, train_f1_score=1.000, val_loss=0.283, val_accuracy=0.923, val_f1_score=0.923]\n",
      "Epoch 149:  96%|█████████▋| 246/255 [01:35<00:03,  2.56it/s, loss=0.0415, v_num=4, train_loss=0.0299, train_accuracy=1.000, train_f1_score=1.000, val_loss=0.283, val_accuracy=0.923, val_f1_score=0.923]\n",
      "Epoch 149:  97%|█████████▋| 248/255 [01:36<00:02,  2.58it/s, loss=0.0415, v_num=4, train_loss=0.0299, train_accuracy=1.000, train_f1_score=1.000, val_loss=0.283, val_accuracy=0.923, val_f1_score=0.923]\n",
      "Epoch 149:  98%|█████████▊| 250/255 [01:36<00:01,  2.60it/s, loss=0.0415, v_num=4, train_loss=0.0299, train_accuracy=1.000, train_f1_score=1.000, val_loss=0.283, val_accuracy=0.923, val_f1_score=0.923]\n",
      "Epoch 149:  99%|█████████▉| 252/255 [01:36<00:01,  2.61it/s, loss=0.0415, v_num=4, train_loss=0.0299, train_accuracy=1.000, train_f1_score=1.000, val_loss=0.283, val_accuracy=0.923, val_f1_score=0.923]\n",
      "Epoch 149: 100%|█████████▉| 254/255 [01:36<00:00,  2.63it/s, loss=0.0415, v_num=4, train_loss=0.0299, train_accuracy=1.000, train_f1_score=1.000, val_loss=0.283, val_accuracy=0.923, val_f1_score=0.923]\n",
      "Epoch 149: 100%|██████████| 255/255 [01:37<00:00,  2.61it/s, loss=0.0415, v_num=4, train_loss=0.0299, train_accuracy=1.000, train_f1_score=1.000, val_loss=0.233, val_accuracy=0.929, val_f1_score=0.929]\n",
      "Epoch 149: 100%|██████████| 255/255 [01:37<00:00,  2.61it/s, loss=0.0415, v_num=4, train_loss=0.0299, train_accuracy=1.000, train_f1_score=1.000, val_loss=0.233, val_accuracy=0.929, val_f1_score=0.929]"
     ]
    },
    {
     "name": "stderr",
     "output_type": "stream",
     "text": [
      "Epoch 149, global step 33899: val_loss reached 0.23288 (best 0.23288), saving model to \"/Workspace/code/checkpoints/best-checkpoint-corr-mi-0-v2.ckpt\" as top 2\n"
     ]
    },
    {
     "name": "stdout",
     "output_type": "stream",
     "text": [
      "Epoch 150:  89%|████████▊ | 226/255 [01:26<00:11,  2.60it/s, loss=0.0441, v_num=4, train_loss=0.00181, train_accuracy=1.000, train_f1_score=1.000, val_loss=0.233, val_accuracy=0.929, val_f1_score=0.929] \n",
      "Validating: 0it [00:00, ?it/s]\u001b[A\n",
      "Validating:   0%|          | 0/29 [00:00<?, ?it/s]\u001b[A\n",
      "Epoch 150:  89%|████████▉ | 228/255 [01:34<00:11,  2.41it/s, loss=0.0441, v_num=4, train_loss=0.00181, train_accuracy=1.000, train_f1_score=1.000, val_loss=0.233, val_accuracy=0.929, val_f1_score=0.929]\n",
      "Epoch 150:  90%|█████████ | 230/255 [01:34<00:10,  2.43it/s, loss=0.0441, v_num=4, train_loss=0.00181, train_accuracy=1.000, train_f1_score=1.000, val_loss=0.233, val_accuracy=0.929, val_f1_score=0.929]\n",
      "Epoch 150:  91%|█████████ | 232/255 [01:34<00:09,  2.44it/s, loss=0.0441, v_num=4, train_loss=0.00181, train_accuracy=1.000, train_f1_score=1.000, val_loss=0.233, val_accuracy=0.929, val_f1_score=0.929]\n",
      "Epoch 150:  92%|█████████▏| 234/255 [01:35<00:08,  2.46it/s, loss=0.0441, v_num=4, train_loss=0.00181, train_accuracy=1.000, train_f1_score=1.000, val_loss=0.233, val_accuracy=0.929, val_f1_score=0.929]\n",
      "Epoch 150:  93%|█████████▎| 236/255 [01:35<00:07,  2.48it/s, loss=0.0441, v_num=4, train_loss=0.00181, train_accuracy=1.000, train_f1_score=1.000, val_loss=0.233, val_accuracy=0.929, val_f1_score=0.929]\n",
      "Epoch 150:  93%|█████████▎| 238/255 [01:35<00:06,  2.49it/s, loss=0.0441, v_num=4, train_loss=0.00181, train_accuracy=1.000, train_f1_score=1.000, val_loss=0.233, val_accuracy=0.929, val_f1_score=0.929]\n",
      "Epoch 150:  94%|█████████▍| 240/255 [01:35<00:05,  2.51it/s, loss=0.0441, v_num=4, train_loss=0.00181, train_accuracy=1.000, train_f1_score=1.000, val_loss=0.233, val_accuracy=0.929, val_f1_score=0.929]\n",
      "Epoch 150:  95%|█████████▍| 242/255 [01:35<00:05,  2.52it/s, loss=0.0441, v_num=4, train_loss=0.00181, train_accuracy=1.000, train_f1_score=1.000, val_loss=0.233, val_accuracy=0.929, val_f1_score=0.929]\n",
      "Epoch 150:  96%|█████████▌| 244/255 [01:36<00:04,  2.54it/s, loss=0.0441, v_num=4, train_loss=0.00181, train_accuracy=1.000, train_f1_score=1.000, val_loss=0.233, val_accuracy=0.929, val_f1_score=0.929]\n",
      "Epoch 150:  96%|█████████▋| 246/255 [01:36<00:03,  2.56it/s, loss=0.0441, v_num=4, train_loss=0.00181, train_accuracy=1.000, train_f1_score=1.000, val_loss=0.233, val_accuracy=0.929, val_f1_score=0.929]\n",
      "Epoch 150:  97%|█████████▋| 248/255 [01:36<00:02,  2.57it/s, loss=0.0441, v_num=4, train_loss=0.00181, train_accuracy=1.000, train_f1_score=1.000, val_loss=0.233, val_accuracy=0.929, val_f1_score=0.929]\n",
      "Epoch 150:  98%|█████████▊| 250/255 [01:36<00:01,  2.59it/s, loss=0.0441, v_num=4, train_loss=0.00181, train_accuracy=1.000, train_f1_score=1.000, val_loss=0.233, val_accuracy=0.929, val_f1_score=0.929]\n",
      "Epoch 150:  99%|█████████▉| 252/255 [01:36<00:01,  2.60it/s, loss=0.0441, v_num=4, train_loss=0.00181, train_accuracy=1.000, train_f1_score=1.000, val_loss=0.233, val_accuracy=0.929, val_f1_score=0.929]\n",
      "Epoch 150: 100%|█████████▉| 254/255 [01:36<00:00,  2.62it/s, loss=0.0441, v_num=4, train_loss=0.00181, train_accuracy=1.000, train_f1_score=1.000, val_loss=0.233, val_accuracy=0.929, val_f1_score=0.929]\n",
      "Epoch 150: 100%|██████████| 255/255 [01:38<00:00,  2.60it/s, loss=0.0441, v_num=4, train_loss=0.00181, train_accuracy=1.000, train_f1_score=1.000, val_loss=0.293, val_accuracy=0.927, val_f1_score=0.927]\n",
      "Epoch 150: 100%|██████████| 255/255 [01:38<00:00,  2.60it/s, loss=0.0441, v_num=4, train_loss=0.00181, train_accuracy=1.000, train_f1_score=1.000, val_loss=0.293, val_accuracy=0.927, val_f1_score=0.927]"
     ]
    },
    {
     "name": "stderr",
     "output_type": "stream",
     "text": [
      "Epoch 150, global step 34125: val_loss was not in top 2\n"
     ]
    },
    {
     "name": "stdout",
     "output_type": "stream",
     "text": [
      "Epoch 151:  89%|████████▊ | 226/255 [01:26<00:11,  2.60it/s, loss=0.0307, v_num=4, train_loss=0.0021, train_accuracy=1.000, train_f1_score=1.000, val_loss=0.293, val_accuracy=0.927, val_f1_score=0.927] \n",
      "Validating: 0it [00:00, ?it/s]\u001b[A\n",
      "Validating:   0%|          | 0/29 [00:00<?, ?it/s]\u001b[A\n",
      "Epoch 151:  89%|████████▉ | 228/255 [01:34<00:11,  2.41it/s, loss=0.0307, v_num=4, train_loss=0.0021, train_accuracy=1.000, train_f1_score=1.000, val_loss=0.293, val_accuracy=0.927, val_f1_score=0.927]\n",
      "Epoch 151:  90%|█████████ | 230/255 [01:34<00:10,  2.43it/s, loss=0.0307, v_num=4, train_loss=0.0021, train_accuracy=1.000, train_f1_score=1.000, val_loss=0.293, val_accuracy=0.927, val_f1_score=0.927]\n",
      "Epoch 151:  91%|█████████ | 232/255 [01:35<00:09,  2.44it/s, loss=0.0307, v_num=4, train_loss=0.0021, train_accuracy=1.000, train_f1_score=1.000, val_loss=0.293, val_accuracy=0.927, val_f1_score=0.927]\n",
      "Epoch 151:  92%|█████████▏| 234/255 [01:35<00:08,  2.46it/s, loss=0.0307, v_num=4, train_loss=0.0021, train_accuracy=1.000, train_f1_score=1.000, val_loss=0.293, val_accuracy=0.927, val_f1_score=0.927]\n",
      "Epoch 151:  93%|█████████▎| 236/255 [01:35<00:07,  2.47it/s, loss=0.0307, v_num=4, train_loss=0.0021, train_accuracy=1.000, train_f1_score=1.000, val_loss=0.293, val_accuracy=0.927, val_f1_score=0.927]\n",
      "Epoch 151:  93%|█████████▎| 238/255 [01:35<00:06,  2.49it/s, loss=0.0307, v_num=4, train_loss=0.0021, train_accuracy=1.000, train_f1_score=1.000, val_loss=0.293, val_accuracy=0.927, val_f1_score=0.927]\n",
      "Epoch 151:  94%|█████████▍| 240/255 [01:35<00:05,  2.51it/s, loss=0.0307, v_num=4, train_loss=0.0021, train_accuracy=1.000, train_f1_score=1.000, val_loss=0.293, val_accuracy=0.927, val_f1_score=0.927]\n",
      "Epoch 151:  95%|█████████▍| 242/255 [01:35<00:05,  2.52it/s, loss=0.0307, v_num=4, train_loss=0.0021, train_accuracy=1.000, train_f1_score=1.000, val_loss=0.293, val_accuracy=0.927, val_f1_score=0.927]\n",
      "Epoch 151:  96%|█████████▌| 244/255 [01:36<00:04,  2.54it/s, loss=0.0307, v_num=4, train_loss=0.0021, train_accuracy=1.000, train_f1_score=1.000, val_loss=0.293, val_accuracy=0.927, val_f1_score=0.927]\n",
      "Epoch 151:  96%|█████████▋| 246/255 [01:36<00:03,  2.56it/s, loss=0.0307, v_num=4, train_loss=0.0021, train_accuracy=1.000, train_f1_score=1.000, val_loss=0.293, val_accuracy=0.927, val_f1_score=0.927]\n",
      "Epoch 151:  97%|█████████▋| 248/255 [01:36<00:02,  2.57it/s, loss=0.0307, v_num=4, train_loss=0.0021, train_accuracy=1.000, train_f1_score=1.000, val_loss=0.293, val_accuracy=0.927, val_f1_score=0.927]\n",
      "Epoch 151:  98%|█████████▊| 250/255 [01:36<00:01,  2.59it/s, loss=0.0307, v_num=4, train_loss=0.0021, train_accuracy=1.000, train_f1_score=1.000, val_loss=0.293, val_accuracy=0.927, val_f1_score=0.927]\n",
      "Epoch 151:  99%|█████████▉| 252/255 [01:36<00:01,  2.61it/s, loss=0.0307, v_num=4, train_loss=0.0021, train_accuracy=1.000, train_f1_score=1.000, val_loss=0.293, val_accuracy=0.927, val_f1_score=0.927]\n",
      "Epoch 151: 100%|█████████▉| 254/255 [01:36<00:00,  2.62it/s, loss=0.0307, v_num=4, train_loss=0.0021, train_accuracy=1.000, train_f1_score=1.000, val_loss=0.293, val_accuracy=0.927, val_f1_score=0.927]\n",
      "Epoch 151: 100%|██████████| 255/255 [01:38<00:00,  2.60it/s, loss=0.0307, v_num=4, train_loss=0.0021, train_accuracy=1.000, train_f1_score=1.000, val_loss=0.303, val_accuracy=0.926, val_f1_score=0.926]\n",
      "Epoch 151: 100%|██████████| 255/255 [01:38<00:00,  2.60it/s, loss=0.0307, v_num=4, train_loss=0.0021, train_accuracy=1.000, train_f1_score=1.000, val_loss=0.303, val_accuracy=0.926, val_f1_score=0.926]"
     ]
    },
    {
     "name": "stderr",
     "output_type": "stream",
     "text": [
      "Epoch 151, global step 34351: val_loss was not in top 2\n"
     ]
    },
    {
     "name": "stdout",
     "output_type": "stream",
     "text": [
      "Epoch 152:  89%|████████▊ | 226/255 [01:26<00:11,  2.61it/s, loss=0.0528, v_num=4, train_loss=0.00548, train_accuracy=1.000, train_f1_score=1.000, val_loss=0.303, val_accuracy=0.926, val_f1_score=0.926]\n",
      "Validating: 0it [00:00, ?it/s]\u001b[A\n",
      "Validating:   0%|          | 0/29 [00:00<?, ?it/s]\u001b[A\n",
      "Epoch 152:  89%|████████▉ | 228/255 [01:34<00:11,  2.42it/s, loss=0.0528, v_num=4, train_loss=0.00548, train_accuracy=1.000, train_f1_score=1.000, val_loss=0.303, val_accuracy=0.926, val_f1_score=0.926]\n",
      "Epoch 152:  90%|█████████ | 230/255 [01:34<00:10,  2.43it/s, loss=0.0528, v_num=4, train_loss=0.00548, train_accuracy=1.000, train_f1_score=1.000, val_loss=0.303, val_accuracy=0.926, val_f1_score=0.926]\n",
      "Epoch 152:  91%|█████████ | 232/255 [01:34<00:09,  2.45it/s, loss=0.0528, v_num=4, train_loss=0.00548, train_accuracy=1.000, train_f1_score=1.000, val_loss=0.303, val_accuracy=0.926, val_f1_score=0.926]\n",
      "Epoch 152:  92%|█████████▏| 234/255 [01:34<00:08,  2.47it/s, loss=0.0528, v_num=4, train_loss=0.00548, train_accuracy=1.000, train_f1_score=1.000, val_loss=0.303, val_accuracy=0.926, val_f1_score=0.926]\n",
      "Epoch 152:  93%|█████████▎| 236/255 [01:35<00:07,  2.48it/s, loss=0.0528, v_num=4, train_loss=0.00548, train_accuracy=1.000, train_f1_score=1.000, val_loss=0.303, val_accuracy=0.926, val_f1_score=0.926]\n",
      "Epoch 152:  93%|█████████▎| 238/255 [01:35<00:06,  2.50it/s, loss=0.0528, v_num=4, train_loss=0.00548, train_accuracy=1.000, train_f1_score=1.000, val_loss=0.303, val_accuracy=0.926, val_f1_score=0.926]\n",
      "Epoch 152:  94%|█████████▍| 240/255 [01:35<00:05,  2.52it/s, loss=0.0528, v_num=4, train_loss=0.00548, train_accuracy=1.000, train_f1_score=1.000, val_loss=0.303, val_accuracy=0.926, val_f1_score=0.926]\n",
      "Epoch 152:  95%|█████████▍| 242/255 [01:35<00:05,  2.53it/s, loss=0.0528, v_num=4, train_loss=0.00548, train_accuracy=1.000, train_f1_score=1.000, val_loss=0.303, val_accuracy=0.926, val_f1_score=0.926]\n",
      "Epoch 152:  96%|█████████▌| 244/255 [01:35<00:04,  2.55it/s, loss=0.0528, v_num=4, train_loss=0.00548, train_accuracy=1.000, train_f1_score=1.000, val_loss=0.303, val_accuracy=0.926, val_f1_score=0.926]\n",
      "Epoch 152:  96%|█████████▋| 246/255 [01:35<00:03,  2.57it/s, loss=0.0528, v_num=4, train_loss=0.00548, train_accuracy=1.000, train_f1_score=1.000, val_loss=0.303, val_accuracy=0.926, val_f1_score=0.926]\n",
      "Epoch 152:  97%|█████████▋| 248/255 [01:36<00:02,  2.58it/s, loss=0.0528, v_num=4, train_loss=0.00548, train_accuracy=1.000, train_f1_score=1.000, val_loss=0.303, val_accuracy=0.926, val_f1_score=0.926]\n",
      "Epoch 152:  98%|█████████▊| 250/255 [01:36<00:01,  2.60it/s, loss=0.0528, v_num=4, train_loss=0.00548, train_accuracy=1.000, train_f1_score=1.000, val_loss=0.303, val_accuracy=0.926, val_f1_score=0.926]\n",
      "Epoch 152:  99%|█████████▉| 252/255 [01:36<00:01,  2.61it/s, loss=0.0528, v_num=4, train_loss=0.00548, train_accuracy=1.000, train_f1_score=1.000, val_loss=0.303, val_accuracy=0.926, val_f1_score=0.926]\n",
      "Epoch 152: 100%|█████████▉| 254/255 [01:36<00:00,  2.63it/s, loss=0.0528, v_num=4, train_loss=0.00548, train_accuracy=1.000, train_f1_score=1.000, val_loss=0.303, val_accuracy=0.926, val_f1_score=0.926]\n",
      "Epoch 152: 100%|██████████| 255/255 [01:37<00:00,  2.61it/s, loss=0.0528, v_num=4, train_loss=0.00548, train_accuracy=1.000, train_f1_score=1.000, val_loss=0.241, val_accuracy=0.930, val_f1_score=0.930]\n",
      "Epoch 152: 100%|██████████| 255/255 [01:37<00:00,  2.61it/s, loss=0.0528, v_num=4, train_loss=0.00548, train_accuracy=1.000, train_f1_score=1.000, val_loss=0.241, val_accuracy=0.930, val_f1_score=0.930]"
     ]
    },
    {
     "name": "stderr",
     "output_type": "stream",
     "text": [
      "Epoch 152, global step 34577: val_loss reached 0.24091 (best 0.23288), saving model to \"/Workspace/code/checkpoints/best-checkpoint-corr-mi-0-v3.ckpt\" as top 2\n"
     ]
    },
    {
     "name": "stdout",
     "output_type": "stream",
     "text": [
      "Epoch 153:  89%|████████▊ | 226/255 [01:27<00:11,  2.59it/s, loss=0.0273, v_num=4, train_loss=0.00252, train_accuracy=1.000, train_f1_score=1.000, val_loss=0.241, val_accuracy=0.930, val_f1_score=0.930]\n",
      "Validating: 0it [00:00, ?it/s]\u001b[A\n",
      "Validating:   0%|          | 0/29 [00:00<?, ?it/s]\u001b[A\n",
      "Epoch 153:  89%|████████▉ | 228/255 [01:35<00:11,  2.39it/s, loss=0.0273, v_num=4, train_loss=0.00252, train_accuracy=1.000, train_f1_score=1.000, val_loss=0.241, val_accuracy=0.930, val_f1_score=0.930]\n",
      "Epoch 153:  90%|█████████ | 230/255 [01:35<00:10,  2.41it/s, loss=0.0273, v_num=4, train_loss=0.00252, train_accuracy=1.000, train_f1_score=1.000, val_loss=0.241, val_accuracy=0.930, val_f1_score=0.930]\n",
      "Epoch 153:  91%|█████████ | 232/255 [01:35<00:09,  2.43it/s, loss=0.0273, v_num=4, train_loss=0.00252, train_accuracy=1.000, train_f1_score=1.000, val_loss=0.241, val_accuracy=0.930, val_f1_score=0.930]\n",
      "Epoch 153:  92%|█████████▏| 234/255 [01:35<00:08,  2.44it/s, loss=0.0273, v_num=4, train_loss=0.00252, train_accuracy=1.000, train_f1_score=1.000, val_loss=0.241, val_accuracy=0.930, val_f1_score=0.930]\n",
      "Epoch 153:  93%|█████████▎| 236/255 [01:35<00:07,  2.46it/s, loss=0.0273, v_num=4, train_loss=0.00252, train_accuracy=1.000, train_f1_score=1.000, val_loss=0.241, val_accuracy=0.930, val_f1_score=0.930]\n",
      "Epoch 153:  93%|█████████▎| 238/255 [01:36<00:06,  2.48it/s, loss=0.0273, v_num=4, train_loss=0.00252, train_accuracy=1.000, train_f1_score=1.000, val_loss=0.241, val_accuracy=0.930, val_f1_score=0.930]\n",
      "Epoch 153:  94%|█████████▍| 240/255 [01:36<00:06,  2.49it/s, loss=0.0273, v_num=4, train_loss=0.00252, train_accuracy=1.000, train_f1_score=1.000, val_loss=0.241, val_accuracy=0.930, val_f1_score=0.930]\n",
      "Epoch 153:  95%|█████████▍| 242/255 [01:36<00:05,  2.51it/s, loss=0.0273, v_num=4, train_loss=0.00252, train_accuracy=1.000, train_f1_score=1.000, val_loss=0.241, val_accuracy=0.930, val_f1_score=0.930]\n",
      "Epoch 153:  96%|█████████▌| 244/255 [01:36<00:04,  2.53it/s, loss=0.0273, v_num=4, train_loss=0.00252, train_accuracy=1.000, train_f1_score=1.000, val_loss=0.241, val_accuracy=0.930, val_f1_score=0.930]\n",
      "Epoch 153:  96%|█████████▋| 246/255 [01:36<00:03,  2.54it/s, loss=0.0273, v_num=4, train_loss=0.00252, train_accuracy=1.000, train_f1_score=1.000, val_loss=0.241, val_accuracy=0.930, val_f1_score=0.930]\n",
      "Epoch 153:  97%|█████████▋| 248/255 [01:36<00:02,  2.56it/s, loss=0.0273, v_num=4, train_loss=0.00252, train_accuracy=1.000, train_f1_score=1.000, val_loss=0.241, val_accuracy=0.930, val_f1_score=0.930]\n",
      "Epoch 153:  98%|█████████▊| 250/255 [01:37<00:01,  2.58it/s, loss=0.0273, v_num=4, train_loss=0.00252, train_accuracy=1.000, train_f1_score=1.000, val_loss=0.241, val_accuracy=0.930, val_f1_score=0.930]\n",
      "Epoch 153:  99%|█████████▉| 252/255 [01:37<00:01,  2.59it/s, loss=0.0273, v_num=4, train_loss=0.00252, train_accuracy=1.000, train_f1_score=1.000, val_loss=0.241, val_accuracy=0.930, val_f1_score=0.930]\n",
      "Epoch 153: 100%|█████████▉| 254/255 [01:37<00:00,  2.61it/s, loss=0.0273, v_num=4, train_loss=0.00252, train_accuracy=1.000, train_f1_score=1.000, val_loss=0.241, val_accuracy=0.930, val_f1_score=0.930]\n",
      "Epoch 153: 100%|██████████| 255/255 [01:38<00:00,  2.59it/s, loss=0.0273, v_num=4, train_loss=0.00252, train_accuracy=1.000, train_f1_score=1.000, val_loss=0.236, val_accuracy=0.920, val_f1_score=0.920]\n",
      "Epoch 153: 100%|██████████| 255/255 [01:38<00:00,  2.59it/s, loss=0.0273, v_num=4, train_loss=0.00252, train_accuracy=1.000, train_f1_score=1.000, val_loss=0.236, val_accuracy=0.920, val_f1_score=0.920]"
     ]
    },
    {
     "name": "stderr",
     "output_type": "stream",
     "text": [
      "Epoch 153, global step 34803: val_loss reached 0.23569 (best 0.23288), saving model to \"/Workspace/code/checkpoints/best-checkpoint-corr-mi-0-v3.ckpt\" as top 2\n"
     ]
    },
    {
     "name": "stdout",
     "output_type": "stream",
     "text": [
      "Epoch 154:  89%|████████▊ | 226/255 [01:27<00:11,  2.58it/s, loss=0.0399, v_num=4, train_loss=0.0267, train_accuracy=1.000, train_f1_score=1.000, val_loss=0.236, val_accuracy=0.920, val_f1_score=0.920] \n",
      "Validating: 0it [00:00, ?it/s]\u001b[A\n",
      "Validating:   0%|          | 0/29 [00:00<?, ?it/s]\u001b[A\n",
      "Epoch 154:  89%|████████▉ | 228/255 [01:35<00:11,  2.39it/s, loss=0.0399, v_num=4, train_loss=0.0267, train_accuracy=1.000, train_f1_score=1.000, val_loss=0.236, val_accuracy=0.920, val_f1_score=0.920]\n",
      "Epoch 154:  90%|█████████ | 230/255 [01:35<00:10,  2.41it/s, loss=0.0399, v_num=4, train_loss=0.0267, train_accuracy=1.000, train_f1_score=1.000, val_loss=0.236, val_accuracy=0.920, val_f1_score=0.920]\n",
      "Epoch 154:  91%|█████████ | 232/255 [01:35<00:09,  2.42it/s, loss=0.0399, v_num=4, train_loss=0.0267, train_accuracy=1.000, train_f1_score=1.000, val_loss=0.236, val_accuracy=0.920, val_f1_score=0.920]\n",
      "Epoch 154:  92%|█████████▏| 234/255 [01:35<00:08,  2.44it/s, loss=0.0399, v_num=4, train_loss=0.0267, train_accuracy=1.000, train_f1_score=1.000, val_loss=0.236, val_accuracy=0.920, val_f1_score=0.920]\n",
      "Epoch 154:  93%|█████████▎| 236/255 [01:36<00:07,  2.46it/s, loss=0.0399, v_num=4, train_loss=0.0267, train_accuracy=1.000, train_f1_score=1.000, val_loss=0.236, val_accuracy=0.920, val_f1_score=0.920]\n",
      "Epoch 154:  93%|█████████▎| 238/255 [01:36<00:06,  2.47it/s, loss=0.0399, v_num=4, train_loss=0.0267, train_accuracy=1.000, train_f1_score=1.000, val_loss=0.236, val_accuracy=0.920, val_f1_score=0.920]\n",
      "Epoch 154:  94%|█████████▍| 240/255 [01:36<00:06,  2.49it/s, loss=0.0399, v_num=4, train_loss=0.0267, train_accuracy=1.000, train_f1_score=1.000, val_loss=0.236, val_accuracy=0.920, val_f1_score=0.920]\n",
      "Epoch 154:  95%|█████████▍| 242/255 [01:36<00:05,  2.51it/s, loss=0.0399, v_num=4, train_loss=0.0267, train_accuracy=1.000, train_f1_score=1.000, val_loss=0.236, val_accuracy=0.920, val_f1_score=0.920]\n",
      "Epoch 154:  96%|█████████▌| 244/255 [01:36<00:04,  2.52it/s, loss=0.0399, v_num=4, train_loss=0.0267, train_accuracy=1.000, train_f1_score=1.000, val_loss=0.236, val_accuracy=0.920, val_f1_score=0.920]\n",
      "Epoch 154:  96%|█████████▋| 246/255 [01:36<00:03,  2.54it/s, loss=0.0399, v_num=4, train_loss=0.0267, train_accuracy=1.000, train_f1_score=1.000, val_loss=0.236, val_accuracy=0.920, val_f1_score=0.920]\n",
      "Epoch 154:  97%|█████████▋| 248/255 [01:37<00:02,  2.56it/s, loss=0.0399, v_num=4, train_loss=0.0267, train_accuracy=1.000, train_f1_score=1.000, val_loss=0.236, val_accuracy=0.920, val_f1_score=0.920]\n",
      "Epoch 154:  98%|█████████▊| 250/255 [01:37<00:01,  2.57it/s, loss=0.0399, v_num=4, train_loss=0.0267, train_accuracy=1.000, train_f1_score=1.000, val_loss=0.236, val_accuracy=0.920, val_f1_score=0.920]\n",
      "Epoch 154:  99%|█████████▉| 252/255 [01:37<00:01,  2.59it/s, loss=0.0399, v_num=4, train_loss=0.0267, train_accuracy=1.000, train_f1_score=1.000, val_loss=0.236, val_accuracy=0.920, val_f1_score=0.920]\n",
      "Epoch 154: 100%|█████████▉| 254/255 [01:37<00:00,  2.60it/s, loss=0.0399, v_num=4, train_loss=0.0267, train_accuracy=1.000, train_f1_score=1.000, val_loss=0.236, val_accuracy=0.920, val_f1_score=0.920]\n",
      "Epoch 154: 100%|██████████| 255/255 [01:38<00:00,  2.58it/s, loss=0.0399, v_num=4, train_loss=0.0267, train_accuracy=1.000, train_f1_score=1.000, val_loss=0.205, val_accuracy=0.932, val_f1_score=0.932]\n",
      "Epoch 154: 100%|██████████| 255/255 [01:38<00:00,  2.58it/s, loss=0.0399, v_num=4, train_loss=0.0267, train_accuracy=1.000, train_f1_score=1.000, val_loss=0.205, val_accuracy=0.932, val_f1_score=0.932]"
     ]
    },
    {
     "name": "stderr",
     "output_type": "stream",
     "text": [
      "Epoch 154, global step 35029: val_loss reached 0.20454 (best 0.20454), saving model to \"/Workspace/code/checkpoints/best-checkpoint-corr-mi-0-v3.ckpt\" as top 2\n"
     ]
    },
    {
     "name": "stdout",
     "output_type": "stream",
     "text": [
      "Epoch 155:  89%|████████▊ | 226/255 [01:26<00:11,  2.61it/s, loss=0.0205, v_num=4, train_loss=0.0676, train_accuracy=0.944, train_f1_score=0.944, val_loss=0.205, val_accuracy=0.932, val_f1_score=0.932] \n",
      "Validating: 0it [00:00, ?it/s]\u001b[A\n",
      "Validating:   0%|          | 0/29 [00:00<?, ?it/s]\u001b[A"
     ]
    },
    {
     "ename": "OSError",
     "evalue": "[Errno 12] Cannot allocate memory",
     "output_type": "error",
     "traceback": [
      "\u001b[0;31m---------------------------------------------------------------------------\u001b[0m",
      "\u001b[0;31mOSError\u001b[0m                                   Traceback (most recent call last)",
      "\u001b[0;32m<ipython-input-15-b29eb60de385>\u001b[0m in \u001b[0;36m<module>\u001b[0;34m\u001b[0m\n\u001b[1;32m     67\u001b[0m         \u001b[0mtrainer\u001b[0m\u001b[0;34m.\u001b[0m\u001b[0mfit\u001b[0m\u001b[0;34m(\u001b[0m\u001b[0mmodel\u001b[0m\u001b[0;34m,\u001b[0m \u001b[0mdata_module\u001b[0m\u001b[0;34m,\u001b[0m \u001b[0mckpt_path\u001b[0m\u001b[0;34m=\u001b[0m\u001b[0;34m\"/Workspace/code/checkpoints/best-checkpoint-corr-mi-0-v3.ckpt\"\u001b[0m\u001b[0;34m)\u001b[0m\u001b[0;34m\u001b[0m\u001b[0;34m\u001b[0m\u001b[0m\n\u001b[1;32m     68\u001b[0m     \u001b[0;32melse\u001b[0m\u001b[0;34m:\u001b[0m\u001b[0;34m\u001b[0m\u001b[0;34m\u001b[0m\u001b[0m\n\u001b[0;32m---> 69\u001b[0;31m         \u001b[0mtrainer\u001b[0m\u001b[0;34m.\u001b[0m\u001b[0mfit\u001b[0m\u001b[0;34m(\u001b[0m\u001b[0mmodel\u001b[0m\u001b[0;34m,\u001b[0m \u001b[0mdata_module\u001b[0m\u001b[0;34m)\u001b[0m\u001b[0;34m\u001b[0m\u001b[0;34m\u001b[0m\u001b[0m\n\u001b[0m\u001b[1;32m     70\u001b[0m     \u001b[0mtrainer\u001b[0m\u001b[0;34m.\u001b[0m\u001b[0mtest\u001b[0m\u001b[0;34m(\u001b[0m\u001b[0mmodel\u001b[0m\u001b[0;34m,\u001b[0m \u001b[0mdata_module\u001b[0m\u001b[0;34m)\u001b[0m\u001b[0;34m\u001b[0m\u001b[0;34m\u001b[0m\u001b[0m\n\u001b[1;32m     71\u001b[0m \u001b[0;34m\u001b[0m\u001b[0m\n",
      "\u001b[0;32m/usr/local/lib/python3.6/dist-packages/pytorch_lightning/trainer/trainer.py\u001b[0m in \u001b[0;36mfit\u001b[0;34m(self, model, train_dataloaders, val_dataloaders, datamodule, train_dataloader, ckpt_path)\u001b[0m\n\u001b[1;32m    739\u001b[0m             \u001b[0mtrain_dataloaders\u001b[0m \u001b[0;34m=\u001b[0m \u001b[0mtrain_dataloader\u001b[0m\u001b[0;34m\u001b[0m\u001b[0;34m\u001b[0m\u001b[0m\n\u001b[1;32m    740\u001b[0m         self._call_and_handle_interrupt(\n\u001b[0;32m--> 741\u001b[0;31m             \u001b[0mself\u001b[0m\u001b[0;34m.\u001b[0m\u001b[0m_fit_impl\u001b[0m\u001b[0;34m,\u001b[0m \u001b[0mmodel\u001b[0m\u001b[0;34m,\u001b[0m \u001b[0mtrain_dataloaders\u001b[0m\u001b[0;34m,\u001b[0m \u001b[0mval_dataloaders\u001b[0m\u001b[0;34m,\u001b[0m \u001b[0mdatamodule\u001b[0m\u001b[0;34m,\u001b[0m \u001b[0mckpt_path\u001b[0m\u001b[0;34m\u001b[0m\u001b[0;34m\u001b[0m\u001b[0m\n\u001b[0m\u001b[1;32m    742\u001b[0m         )\n\u001b[1;32m    743\u001b[0m \u001b[0;34m\u001b[0m\u001b[0m\n",
      "\u001b[0;32m/usr/local/lib/python3.6/dist-packages/pytorch_lightning/trainer/trainer.py\u001b[0m in \u001b[0;36m_call_and_handle_interrupt\u001b[0;34m(self, trainer_fn, *args, **kwargs)\u001b[0m\n\u001b[1;32m    683\u001b[0m         \"\"\"\n\u001b[1;32m    684\u001b[0m         \u001b[0;32mtry\u001b[0m\u001b[0;34m:\u001b[0m\u001b[0;34m\u001b[0m\u001b[0;34m\u001b[0m\u001b[0m\n\u001b[0;32m--> 685\u001b[0;31m             \u001b[0;32mreturn\u001b[0m \u001b[0mtrainer_fn\u001b[0m\u001b[0;34m(\u001b[0m\u001b[0;34m*\u001b[0m\u001b[0margs\u001b[0m\u001b[0;34m,\u001b[0m \u001b[0;34m**\u001b[0m\u001b[0mkwargs\u001b[0m\u001b[0;34m)\u001b[0m\u001b[0;34m\u001b[0m\u001b[0;34m\u001b[0m\u001b[0m\n\u001b[0m\u001b[1;32m    686\u001b[0m         \u001b[0;31m# TODO: treat KeyboardInterrupt as BaseException (delete the code below) in v1.7\u001b[0m\u001b[0;34m\u001b[0m\u001b[0;34m\u001b[0m\u001b[0;34m\u001b[0m\u001b[0m\n\u001b[1;32m    687\u001b[0m         \u001b[0;32mexcept\u001b[0m \u001b[0mKeyboardInterrupt\u001b[0m \u001b[0;32mas\u001b[0m \u001b[0mexception\u001b[0m\u001b[0;34m:\u001b[0m\u001b[0;34m\u001b[0m\u001b[0;34m\u001b[0m\u001b[0m\n",
      "\u001b[0;32m/usr/local/lib/python3.6/dist-packages/pytorch_lightning/trainer/trainer.py\u001b[0m in \u001b[0;36m_fit_impl\u001b[0;34m(self, model, train_dataloaders, val_dataloaders, datamodule, ckpt_path)\u001b[0m\n\u001b[1;32m    775\u001b[0m         \u001b[0;31m# TODO: ckpt_path only in v1.7\u001b[0m\u001b[0;34m\u001b[0m\u001b[0;34m\u001b[0m\u001b[0;34m\u001b[0m\u001b[0m\n\u001b[1;32m    776\u001b[0m         \u001b[0mckpt_path\u001b[0m \u001b[0;34m=\u001b[0m \u001b[0mckpt_path\u001b[0m \u001b[0;32mor\u001b[0m \u001b[0mself\u001b[0m\u001b[0;34m.\u001b[0m\u001b[0mresume_from_checkpoint\u001b[0m\u001b[0;34m\u001b[0m\u001b[0;34m\u001b[0m\u001b[0m\n\u001b[0;32m--> 777\u001b[0;31m         \u001b[0mself\u001b[0m\u001b[0;34m.\u001b[0m\u001b[0m_run\u001b[0m\u001b[0;34m(\u001b[0m\u001b[0mmodel\u001b[0m\u001b[0;34m,\u001b[0m \u001b[0mckpt_path\u001b[0m\u001b[0;34m=\u001b[0m\u001b[0mckpt_path\u001b[0m\u001b[0;34m)\u001b[0m\u001b[0;34m\u001b[0m\u001b[0;34m\u001b[0m\u001b[0m\n\u001b[0m\u001b[1;32m    778\u001b[0m \u001b[0;34m\u001b[0m\u001b[0m\n\u001b[1;32m    779\u001b[0m         \u001b[0;32massert\u001b[0m \u001b[0mself\u001b[0m\u001b[0;34m.\u001b[0m\u001b[0mstate\u001b[0m\u001b[0;34m.\u001b[0m\u001b[0mstopped\u001b[0m\u001b[0;34m\u001b[0m\u001b[0;34m\u001b[0m\u001b[0m\n",
      "\u001b[0;32m/usr/local/lib/python3.6/dist-packages/pytorch_lightning/trainer/trainer.py\u001b[0m in \u001b[0;36m_run\u001b[0;34m(self, model, ckpt_path)\u001b[0m\n\u001b[1;32m   1197\u001b[0m \u001b[0;34m\u001b[0m\u001b[0m\n\u001b[1;32m   1198\u001b[0m         \u001b[0;31m# dispatch `start_training` or `start_evaluating` or `start_predicting`\u001b[0m\u001b[0;34m\u001b[0m\u001b[0;34m\u001b[0m\u001b[0;34m\u001b[0m\u001b[0m\n\u001b[0;32m-> 1199\u001b[0;31m         \u001b[0mself\u001b[0m\u001b[0;34m.\u001b[0m\u001b[0m_dispatch\u001b[0m\u001b[0;34m(\u001b[0m\u001b[0;34m)\u001b[0m\u001b[0;34m\u001b[0m\u001b[0;34m\u001b[0m\u001b[0m\n\u001b[0m\u001b[1;32m   1200\u001b[0m \u001b[0;34m\u001b[0m\u001b[0m\n\u001b[1;32m   1201\u001b[0m         \u001b[0;31m# plugin will finalized fitting (e.g. ddp_spawn will load trained model)\u001b[0m\u001b[0;34m\u001b[0m\u001b[0;34m\u001b[0m\u001b[0;34m\u001b[0m\u001b[0m\n",
      "\u001b[0;32m/usr/local/lib/python3.6/dist-packages/pytorch_lightning/trainer/trainer.py\u001b[0m in \u001b[0;36m_dispatch\u001b[0;34m(self)\u001b[0m\n\u001b[1;32m   1277\u001b[0m             \u001b[0mself\u001b[0m\u001b[0;34m.\u001b[0m\u001b[0mtraining_type_plugin\u001b[0m\u001b[0;34m.\u001b[0m\u001b[0mstart_predicting\u001b[0m\u001b[0;34m(\u001b[0m\u001b[0mself\u001b[0m\u001b[0;34m)\u001b[0m\u001b[0;34m\u001b[0m\u001b[0;34m\u001b[0m\u001b[0m\n\u001b[1;32m   1278\u001b[0m         \u001b[0;32melse\u001b[0m\u001b[0;34m:\u001b[0m\u001b[0;34m\u001b[0m\u001b[0;34m\u001b[0m\u001b[0m\n\u001b[0;32m-> 1279\u001b[0;31m             \u001b[0mself\u001b[0m\u001b[0;34m.\u001b[0m\u001b[0mtraining_type_plugin\u001b[0m\u001b[0;34m.\u001b[0m\u001b[0mstart_training\u001b[0m\u001b[0;34m(\u001b[0m\u001b[0mself\u001b[0m\u001b[0;34m)\u001b[0m\u001b[0;34m\u001b[0m\u001b[0;34m\u001b[0m\u001b[0m\n\u001b[0m\u001b[1;32m   1280\u001b[0m \u001b[0;34m\u001b[0m\u001b[0m\n\u001b[1;32m   1281\u001b[0m     \u001b[0;32mdef\u001b[0m \u001b[0mrun_stage\u001b[0m\u001b[0;34m(\u001b[0m\u001b[0mself\u001b[0m\u001b[0;34m)\u001b[0m\u001b[0;34m:\u001b[0m\u001b[0;34m\u001b[0m\u001b[0;34m\u001b[0m\u001b[0m\n",
      "\u001b[0;32m/usr/local/lib/python3.6/dist-packages/pytorch_lightning/plugins/training_type/training_type_plugin.py\u001b[0m in \u001b[0;36mstart_training\u001b[0;34m(self, trainer)\u001b[0m\n\u001b[1;32m    200\u001b[0m     \u001b[0;32mdef\u001b[0m \u001b[0mstart_training\u001b[0m\u001b[0;34m(\u001b[0m\u001b[0mself\u001b[0m\u001b[0;34m,\u001b[0m \u001b[0mtrainer\u001b[0m\u001b[0;34m:\u001b[0m \u001b[0;34m\"pl.Trainer\"\u001b[0m\u001b[0;34m)\u001b[0m \u001b[0;34m->\u001b[0m \u001b[0;32mNone\u001b[0m\u001b[0;34m:\u001b[0m\u001b[0;34m\u001b[0m\u001b[0;34m\u001b[0m\u001b[0m\n\u001b[1;32m    201\u001b[0m         \u001b[0;31m# double dispatch to initiate the training loop\u001b[0m\u001b[0;34m\u001b[0m\u001b[0;34m\u001b[0m\u001b[0;34m\u001b[0m\u001b[0m\n\u001b[0;32m--> 202\u001b[0;31m         \u001b[0mself\u001b[0m\u001b[0;34m.\u001b[0m\u001b[0m_results\u001b[0m \u001b[0;34m=\u001b[0m \u001b[0mtrainer\u001b[0m\u001b[0;34m.\u001b[0m\u001b[0mrun_stage\u001b[0m\u001b[0;34m(\u001b[0m\u001b[0;34m)\u001b[0m\u001b[0;34m\u001b[0m\u001b[0;34m\u001b[0m\u001b[0m\n\u001b[0m\u001b[1;32m    203\u001b[0m \u001b[0;34m\u001b[0m\u001b[0m\n\u001b[1;32m    204\u001b[0m     \u001b[0;32mdef\u001b[0m \u001b[0mstart_evaluating\u001b[0m\u001b[0;34m(\u001b[0m\u001b[0mself\u001b[0m\u001b[0;34m,\u001b[0m \u001b[0mtrainer\u001b[0m\u001b[0;34m:\u001b[0m \u001b[0;34m\"pl.Trainer\"\u001b[0m\u001b[0;34m)\u001b[0m \u001b[0;34m->\u001b[0m \u001b[0;32mNone\u001b[0m\u001b[0;34m:\u001b[0m\u001b[0;34m\u001b[0m\u001b[0;34m\u001b[0m\u001b[0m\n",
      "\u001b[0;32m/usr/local/lib/python3.6/dist-packages/pytorch_lightning/trainer/trainer.py\u001b[0m in \u001b[0;36mrun_stage\u001b[0;34m(self)\u001b[0m\n\u001b[1;32m   1287\u001b[0m         \u001b[0;32mif\u001b[0m \u001b[0mself\u001b[0m\u001b[0;34m.\u001b[0m\u001b[0mpredicting\u001b[0m\u001b[0;34m:\u001b[0m\u001b[0;34m\u001b[0m\u001b[0;34m\u001b[0m\u001b[0m\n\u001b[1;32m   1288\u001b[0m             \u001b[0;32mreturn\u001b[0m \u001b[0mself\u001b[0m\u001b[0;34m.\u001b[0m\u001b[0m_run_predict\u001b[0m\u001b[0;34m(\u001b[0m\u001b[0;34m)\u001b[0m\u001b[0;34m\u001b[0m\u001b[0;34m\u001b[0m\u001b[0m\n\u001b[0;32m-> 1289\u001b[0;31m         \u001b[0;32mreturn\u001b[0m \u001b[0mself\u001b[0m\u001b[0;34m.\u001b[0m\u001b[0m_run_train\u001b[0m\u001b[0;34m(\u001b[0m\u001b[0;34m)\u001b[0m\u001b[0;34m\u001b[0m\u001b[0;34m\u001b[0m\u001b[0m\n\u001b[0m\u001b[1;32m   1290\u001b[0m \u001b[0;34m\u001b[0m\u001b[0m\n\u001b[1;32m   1291\u001b[0m     \u001b[0;32mdef\u001b[0m \u001b[0m_pre_training_routine\u001b[0m\u001b[0;34m(\u001b[0m\u001b[0mself\u001b[0m\u001b[0;34m)\u001b[0m\u001b[0;34m:\u001b[0m\u001b[0;34m\u001b[0m\u001b[0;34m\u001b[0m\u001b[0m\n",
      "\u001b[0;32m/usr/local/lib/python3.6/dist-packages/pytorch_lightning/trainer/trainer.py\u001b[0m in \u001b[0;36m_run_train\u001b[0;34m(self)\u001b[0m\n\u001b[1;32m   1317\u001b[0m         \u001b[0mself\u001b[0m\u001b[0;34m.\u001b[0m\u001b[0mfit_loop\u001b[0m\u001b[0;34m.\u001b[0m\u001b[0mtrainer\u001b[0m \u001b[0;34m=\u001b[0m \u001b[0mself\u001b[0m\u001b[0;34m\u001b[0m\u001b[0;34m\u001b[0m\u001b[0m\n\u001b[1;32m   1318\u001b[0m         \u001b[0;32mwith\u001b[0m \u001b[0mtorch\u001b[0m\u001b[0;34m.\u001b[0m\u001b[0mautograd\u001b[0m\u001b[0;34m.\u001b[0m\u001b[0mset_detect_anomaly\u001b[0m\u001b[0;34m(\u001b[0m\u001b[0mself\u001b[0m\u001b[0;34m.\u001b[0m\u001b[0m_detect_anomaly\u001b[0m\u001b[0;34m)\u001b[0m\u001b[0;34m:\u001b[0m\u001b[0;34m\u001b[0m\u001b[0;34m\u001b[0m\u001b[0m\n\u001b[0;32m-> 1319\u001b[0;31m             \u001b[0mself\u001b[0m\u001b[0;34m.\u001b[0m\u001b[0mfit_loop\u001b[0m\u001b[0;34m.\u001b[0m\u001b[0mrun\u001b[0m\u001b[0;34m(\u001b[0m\u001b[0;34m)\u001b[0m\u001b[0;34m\u001b[0m\u001b[0;34m\u001b[0m\u001b[0m\n\u001b[0m\u001b[1;32m   1320\u001b[0m \u001b[0;34m\u001b[0m\u001b[0m\n\u001b[1;32m   1321\u001b[0m     \u001b[0;32mdef\u001b[0m \u001b[0m_run_evaluate\u001b[0m\u001b[0;34m(\u001b[0m\u001b[0mself\u001b[0m\u001b[0;34m)\u001b[0m \u001b[0;34m->\u001b[0m \u001b[0m_EVALUATE_OUTPUT\u001b[0m\u001b[0;34m:\u001b[0m\u001b[0;34m\u001b[0m\u001b[0;34m\u001b[0m\u001b[0m\n",
      "\u001b[0;32m/usr/local/lib/python3.6/dist-packages/pytorch_lightning/loops/base.py\u001b[0m in \u001b[0;36mrun\u001b[0;34m(self, *args, **kwargs)\u001b[0m\n\u001b[1;32m    143\u001b[0m             \u001b[0;32mtry\u001b[0m\u001b[0;34m:\u001b[0m\u001b[0;34m\u001b[0m\u001b[0;34m\u001b[0m\u001b[0m\n\u001b[1;32m    144\u001b[0m                 \u001b[0mself\u001b[0m\u001b[0;34m.\u001b[0m\u001b[0mon_advance_start\u001b[0m\u001b[0;34m(\u001b[0m\u001b[0;34m*\u001b[0m\u001b[0margs\u001b[0m\u001b[0;34m,\u001b[0m \u001b[0;34m**\u001b[0m\u001b[0mkwargs\u001b[0m\u001b[0;34m)\u001b[0m\u001b[0;34m\u001b[0m\u001b[0;34m\u001b[0m\u001b[0m\n\u001b[0;32m--> 145\u001b[0;31m                 \u001b[0mself\u001b[0m\u001b[0;34m.\u001b[0m\u001b[0madvance\u001b[0m\u001b[0;34m(\u001b[0m\u001b[0;34m*\u001b[0m\u001b[0margs\u001b[0m\u001b[0;34m,\u001b[0m \u001b[0;34m**\u001b[0m\u001b[0mkwargs\u001b[0m\u001b[0;34m)\u001b[0m\u001b[0;34m\u001b[0m\u001b[0;34m\u001b[0m\u001b[0m\n\u001b[0m\u001b[1;32m    146\u001b[0m                 \u001b[0mself\u001b[0m\u001b[0;34m.\u001b[0m\u001b[0mon_advance_end\u001b[0m\u001b[0;34m(\u001b[0m\u001b[0;34m)\u001b[0m\u001b[0;34m\u001b[0m\u001b[0;34m\u001b[0m\u001b[0m\n\u001b[1;32m    147\u001b[0m                 \u001b[0mself\u001b[0m\u001b[0;34m.\u001b[0m\u001b[0mrestarting\u001b[0m \u001b[0;34m=\u001b[0m \u001b[0;32mFalse\u001b[0m\u001b[0;34m\u001b[0m\u001b[0;34m\u001b[0m\u001b[0m\n",
      "\u001b[0;32m/usr/local/lib/python3.6/dist-packages/pytorch_lightning/loops/fit_loop.py\u001b[0m in \u001b[0;36madvance\u001b[0;34m(self)\u001b[0m\n\u001b[1;32m    232\u001b[0m \u001b[0;34m\u001b[0m\u001b[0m\n\u001b[1;32m    233\u001b[0m         \u001b[0;32mwith\u001b[0m \u001b[0mself\u001b[0m\u001b[0;34m.\u001b[0m\u001b[0mtrainer\u001b[0m\u001b[0;34m.\u001b[0m\u001b[0mprofiler\u001b[0m\u001b[0;34m.\u001b[0m\u001b[0mprofile\u001b[0m\u001b[0;34m(\u001b[0m\u001b[0;34m\"run_training_epoch\"\u001b[0m\u001b[0;34m)\u001b[0m\u001b[0;34m:\u001b[0m\u001b[0;34m\u001b[0m\u001b[0;34m\u001b[0m\u001b[0m\n\u001b[0;32m--> 234\u001b[0;31m             \u001b[0mself\u001b[0m\u001b[0;34m.\u001b[0m\u001b[0mepoch_loop\u001b[0m\u001b[0;34m.\u001b[0m\u001b[0mrun\u001b[0m\u001b[0;34m(\u001b[0m\u001b[0mdata_fetcher\u001b[0m\u001b[0;34m)\u001b[0m\u001b[0;34m\u001b[0m\u001b[0;34m\u001b[0m\u001b[0m\n\u001b[0m\u001b[1;32m    235\u001b[0m \u001b[0;34m\u001b[0m\u001b[0m\n\u001b[1;32m    236\u001b[0m             \u001b[0;31m# the global step is manually decreased here due to backwards compatibility with existing loggers\u001b[0m\u001b[0;34m\u001b[0m\u001b[0;34m\u001b[0m\u001b[0;34m\u001b[0m\u001b[0m\n",
      "\u001b[0;32m/usr/local/lib/python3.6/dist-packages/pytorch_lightning/loops/base.py\u001b[0m in \u001b[0;36mrun\u001b[0;34m(self, *args, **kwargs)\u001b[0m\n\u001b[1;32m    144\u001b[0m                 \u001b[0mself\u001b[0m\u001b[0;34m.\u001b[0m\u001b[0mon_advance_start\u001b[0m\u001b[0;34m(\u001b[0m\u001b[0;34m*\u001b[0m\u001b[0margs\u001b[0m\u001b[0;34m,\u001b[0m \u001b[0;34m**\u001b[0m\u001b[0mkwargs\u001b[0m\u001b[0;34m)\u001b[0m\u001b[0;34m\u001b[0m\u001b[0;34m\u001b[0m\u001b[0m\n\u001b[1;32m    145\u001b[0m                 \u001b[0mself\u001b[0m\u001b[0;34m.\u001b[0m\u001b[0madvance\u001b[0m\u001b[0;34m(\u001b[0m\u001b[0;34m*\u001b[0m\u001b[0margs\u001b[0m\u001b[0;34m,\u001b[0m \u001b[0;34m**\u001b[0m\u001b[0mkwargs\u001b[0m\u001b[0;34m)\u001b[0m\u001b[0;34m\u001b[0m\u001b[0;34m\u001b[0m\u001b[0m\n\u001b[0;32m--> 146\u001b[0;31m                 \u001b[0mself\u001b[0m\u001b[0;34m.\u001b[0m\u001b[0mon_advance_end\u001b[0m\u001b[0;34m(\u001b[0m\u001b[0;34m)\u001b[0m\u001b[0;34m\u001b[0m\u001b[0;34m\u001b[0m\u001b[0m\n\u001b[0m\u001b[1;32m    147\u001b[0m                 \u001b[0mself\u001b[0m\u001b[0;34m.\u001b[0m\u001b[0mrestarting\u001b[0m \u001b[0;34m=\u001b[0m \u001b[0;32mFalse\u001b[0m\u001b[0;34m\u001b[0m\u001b[0;34m\u001b[0m\u001b[0m\n\u001b[1;32m    148\u001b[0m             \u001b[0;32mexcept\u001b[0m \u001b[0mStopIteration\u001b[0m\u001b[0;34m:\u001b[0m\u001b[0;34m\u001b[0m\u001b[0;34m\u001b[0m\u001b[0m\n",
      "\u001b[0;32m/usr/local/lib/python3.6/dist-packages/pytorch_lightning/loops/epoch/training_epoch_loop.py\u001b[0m in \u001b[0;36mon_advance_end\u001b[0;34m(self)\u001b[0m\n\u001b[1;32m    240\u001b[0m         \u001b[0;32mif\u001b[0m \u001b[0mshould_check_val\u001b[0m\u001b[0;34m:\u001b[0m\u001b[0;34m\u001b[0m\u001b[0;34m\u001b[0m\u001b[0m\n\u001b[1;32m    241\u001b[0m             \u001b[0mself\u001b[0m\u001b[0;34m.\u001b[0m\u001b[0mtrainer\u001b[0m\u001b[0;34m.\u001b[0m\u001b[0mvalidating\u001b[0m \u001b[0;34m=\u001b[0m \u001b[0;32mTrue\u001b[0m\u001b[0;34m\u001b[0m\u001b[0;34m\u001b[0m\u001b[0m\n\u001b[0;32m--> 242\u001b[0;31m             \u001b[0mself\u001b[0m\u001b[0;34m.\u001b[0m\u001b[0m_run_validation\u001b[0m\u001b[0;34m(\u001b[0m\u001b[0;34m)\u001b[0m\u001b[0;34m\u001b[0m\u001b[0;34m\u001b[0m\u001b[0m\n\u001b[0m\u001b[1;32m    243\u001b[0m             \u001b[0mself\u001b[0m\u001b[0;34m.\u001b[0m\u001b[0mtrainer\u001b[0m\u001b[0;34m.\u001b[0m\u001b[0mtraining\u001b[0m \u001b[0;34m=\u001b[0m \u001b[0;32mTrue\u001b[0m\u001b[0;34m\u001b[0m\u001b[0;34m\u001b[0m\u001b[0m\n\u001b[1;32m    244\u001b[0m \u001b[0;34m\u001b[0m\u001b[0m\n",
      "\u001b[0;32m/usr/local/lib/python3.6/dist-packages/pytorch_lightning/loops/epoch/training_epoch_loop.py\u001b[0m in \u001b[0;36m_run_validation\u001b[0;34m(self)\u001b[0m\n\u001b[1;32m    335\u001b[0m \u001b[0;34m\u001b[0m\u001b[0m\n\u001b[1;32m    336\u001b[0m         \u001b[0;32mwith\u001b[0m \u001b[0mtorch\u001b[0m\u001b[0;34m.\u001b[0m\u001b[0mno_grad\u001b[0m\u001b[0;34m(\u001b[0m\u001b[0;34m)\u001b[0m\u001b[0;34m:\u001b[0m\u001b[0;34m\u001b[0m\u001b[0;34m\u001b[0m\u001b[0m\n\u001b[0;32m--> 337\u001b[0;31m             \u001b[0mself\u001b[0m\u001b[0;34m.\u001b[0m\u001b[0mval_loop\u001b[0m\u001b[0;34m.\u001b[0m\u001b[0mrun\u001b[0m\u001b[0;34m(\u001b[0m\u001b[0;34m)\u001b[0m\u001b[0;34m\u001b[0m\u001b[0;34m\u001b[0m\u001b[0m\n\u001b[0m\u001b[1;32m    338\u001b[0m \u001b[0;34m\u001b[0m\u001b[0m\n\u001b[1;32m    339\u001b[0m     \u001b[0;32mdef\u001b[0m \u001b[0m_accumulated_batches_reached\u001b[0m\u001b[0;34m(\u001b[0m\u001b[0mself\u001b[0m\u001b[0;34m)\u001b[0m \u001b[0;34m->\u001b[0m \u001b[0mbool\u001b[0m\u001b[0;34m:\u001b[0m\u001b[0;34m\u001b[0m\u001b[0;34m\u001b[0m\u001b[0m\n",
      "\u001b[0;32m/usr/local/lib/python3.6/dist-packages/pytorch_lightning/loops/base.py\u001b[0m in \u001b[0;36mrun\u001b[0;34m(self, *args, **kwargs)\u001b[0m\n\u001b[1;32m    143\u001b[0m             \u001b[0;32mtry\u001b[0m\u001b[0;34m:\u001b[0m\u001b[0;34m\u001b[0m\u001b[0;34m\u001b[0m\u001b[0m\n\u001b[1;32m    144\u001b[0m                 \u001b[0mself\u001b[0m\u001b[0;34m.\u001b[0m\u001b[0mon_advance_start\u001b[0m\u001b[0;34m(\u001b[0m\u001b[0;34m*\u001b[0m\u001b[0margs\u001b[0m\u001b[0;34m,\u001b[0m \u001b[0;34m**\u001b[0m\u001b[0mkwargs\u001b[0m\u001b[0;34m)\u001b[0m\u001b[0;34m\u001b[0m\u001b[0;34m\u001b[0m\u001b[0m\n\u001b[0;32m--> 145\u001b[0;31m                 \u001b[0mself\u001b[0m\u001b[0;34m.\u001b[0m\u001b[0madvance\u001b[0m\u001b[0;34m(\u001b[0m\u001b[0;34m*\u001b[0m\u001b[0margs\u001b[0m\u001b[0;34m,\u001b[0m \u001b[0;34m**\u001b[0m\u001b[0mkwargs\u001b[0m\u001b[0;34m)\u001b[0m\u001b[0;34m\u001b[0m\u001b[0;34m\u001b[0m\u001b[0m\n\u001b[0m\u001b[1;32m    146\u001b[0m                 \u001b[0mself\u001b[0m\u001b[0;34m.\u001b[0m\u001b[0mon_advance_end\u001b[0m\u001b[0;34m(\u001b[0m\u001b[0;34m)\u001b[0m\u001b[0;34m\u001b[0m\u001b[0;34m\u001b[0m\u001b[0m\n\u001b[1;32m    147\u001b[0m                 \u001b[0mself\u001b[0m\u001b[0;34m.\u001b[0m\u001b[0mrestarting\u001b[0m \u001b[0;34m=\u001b[0m \u001b[0;32mFalse\u001b[0m\u001b[0;34m\u001b[0m\u001b[0;34m\u001b[0m\u001b[0m\n",
      "\u001b[0;32m/usr/local/lib/python3.6/dist-packages/pytorch_lightning/loops/dataloader/evaluation_loop.py\u001b[0m in \u001b[0;36madvance\u001b[0;34m(self, *args, **kwargs)\u001b[0m\n\u001b[1;32m    108\u001b[0m         \u001b[0mdl_max_batches\u001b[0m \u001b[0;34m=\u001b[0m \u001b[0mself\u001b[0m\u001b[0;34m.\u001b[0m\u001b[0m_max_batches\u001b[0m\u001b[0;34m[\u001b[0m\u001b[0mdataloader_idx\u001b[0m\u001b[0;34m]\u001b[0m\u001b[0;34m\u001b[0m\u001b[0;34m\u001b[0m\u001b[0m\n\u001b[1;32m    109\u001b[0m \u001b[0;34m\u001b[0m\u001b[0m\n\u001b[0;32m--> 110\u001b[0;31m         \u001b[0mdl_outputs\u001b[0m \u001b[0;34m=\u001b[0m \u001b[0mself\u001b[0m\u001b[0;34m.\u001b[0m\u001b[0mepoch_loop\u001b[0m\u001b[0;34m.\u001b[0m\u001b[0mrun\u001b[0m\u001b[0;34m(\u001b[0m\u001b[0mdataloader\u001b[0m\u001b[0;34m,\u001b[0m \u001b[0mdataloader_idx\u001b[0m\u001b[0;34m,\u001b[0m \u001b[0mdl_max_batches\u001b[0m\u001b[0;34m,\u001b[0m \u001b[0mself\u001b[0m\u001b[0;34m.\u001b[0m\u001b[0mnum_dataloaders\u001b[0m\u001b[0;34m)\u001b[0m\u001b[0;34m\u001b[0m\u001b[0;34m\u001b[0m\u001b[0m\n\u001b[0m\u001b[1;32m    111\u001b[0m \u001b[0;34m\u001b[0m\u001b[0m\n\u001b[1;32m    112\u001b[0m         \u001b[0;31m# store batch level output per dataloader\u001b[0m\u001b[0;34m\u001b[0m\u001b[0;34m\u001b[0m\u001b[0;34m\u001b[0m\u001b[0m\n",
      "\u001b[0;32m/usr/local/lib/python3.6/dist-packages/pytorch_lightning/loops/base.py\u001b[0m in \u001b[0;36mrun\u001b[0;34m(self, *args, **kwargs)\u001b[0m\n\u001b[1;32m    138\u001b[0m         \u001b[0mself\u001b[0m\u001b[0;34m.\u001b[0m\u001b[0mreset\u001b[0m\u001b[0;34m(\u001b[0m\u001b[0;34m)\u001b[0m\u001b[0;34m\u001b[0m\u001b[0;34m\u001b[0m\u001b[0m\n\u001b[1;32m    139\u001b[0m \u001b[0;34m\u001b[0m\u001b[0m\n\u001b[0;32m--> 140\u001b[0;31m         \u001b[0mself\u001b[0m\u001b[0;34m.\u001b[0m\u001b[0mon_run_start\u001b[0m\u001b[0;34m(\u001b[0m\u001b[0;34m*\u001b[0m\u001b[0margs\u001b[0m\u001b[0;34m,\u001b[0m \u001b[0;34m**\u001b[0m\u001b[0mkwargs\u001b[0m\u001b[0;34m)\u001b[0m\u001b[0;34m\u001b[0m\u001b[0;34m\u001b[0m\u001b[0m\n\u001b[0m\u001b[1;32m    141\u001b[0m \u001b[0;34m\u001b[0m\u001b[0m\n\u001b[1;32m    142\u001b[0m         \u001b[0;32mwhile\u001b[0m \u001b[0;32mnot\u001b[0m \u001b[0mself\u001b[0m\u001b[0;34m.\u001b[0m\u001b[0mdone\u001b[0m\u001b[0;34m:\u001b[0m\u001b[0;34m\u001b[0m\u001b[0;34m\u001b[0m\u001b[0m\n",
      "\u001b[0;32m/usr/local/lib/python3.6/dist-packages/pytorch_lightning/loops/epoch/evaluation_epoch_loop.py\u001b[0m in \u001b[0;36mon_run_start\u001b[0;34m(self, data_fetcher, dataloader_idx, dl_max_batches, num_dataloaders)\u001b[0m\n\u001b[1;32m     84\u001b[0m \u001b[0;34m\u001b[0m\u001b[0m\n\u001b[1;32m     85\u001b[0m         \u001b[0mself\u001b[0m\u001b[0;34m.\u001b[0m\u001b[0m_reload_dataloader_state_dict\u001b[0m\u001b[0;34m(\u001b[0m\u001b[0mdata_fetcher\u001b[0m\u001b[0;34m)\u001b[0m\u001b[0;34m\u001b[0m\u001b[0;34m\u001b[0m\u001b[0m\n\u001b[0;32m---> 86\u001b[0;31m         \u001b[0mself\u001b[0m\u001b[0;34m.\u001b[0m\u001b[0m_dataloader_iter\u001b[0m \u001b[0;34m=\u001b[0m \u001b[0m_update_dataloader_iter\u001b[0m\u001b[0;34m(\u001b[0m\u001b[0mdata_fetcher\u001b[0m\u001b[0;34m,\u001b[0m \u001b[0mself\u001b[0m\u001b[0;34m.\u001b[0m\u001b[0mbatch_progress\u001b[0m\u001b[0;34m.\u001b[0m\u001b[0mcurrent\u001b[0m\u001b[0;34m.\u001b[0m\u001b[0mready\u001b[0m\u001b[0;34m)\u001b[0m\u001b[0;34m\u001b[0m\u001b[0;34m\u001b[0m\u001b[0m\n\u001b[0m\u001b[1;32m     87\u001b[0m \u001b[0;34m\u001b[0m\u001b[0m\n\u001b[1;32m     88\u001b[0m     def advance(\n",
      "\u001b[0;32m/usr/local/lib/python3.6/dist-packages/pytorch_lightning/loops/utilities.py\u001b[0m in \u001b[0;36m_update_dataloader_iter\u001b[0;34m(data_fetcher, batch_idx)\u001b[0m\n\u001b[1;32m    119\u001b[0m     \u001b[0;32mif\u001b[0m \u001b[0;32mnot\u001b[0m \u001b[0misinstance\u001b[0m\u001b[0;34m(\u001b[0m\u001b[0mdata_fetcher\u001b[0m\u001b[0;34m,\u001b[0m \u001b[0mDataLoaderIterDataFetcher\u001b[0m\u001b[0;34m)\u001b[0m\u001b[0;34m:\u001b[0m\u001b[0;34m\u001b[0m\u001b[0;34m\u001b[0m\u001b[0m\n\u001b[1;32m    120\u001b[0m         \u001b[0;31m# restore iteration\u001b[0m\u001b[0;34m\u001b[0m\u001b[0;34m\u001b[0m\u001b[0;34m\u001b[0m\u001b[0m\n\u001b[0;32m--> 121\u001b[0;31m         \u001b[0mdataloader_iter\u001b[0m \u001b[0;34m=\u001b[0m \u001b[0menumerate\u001b[0m\u001b[0;34m(\u001b[0m\u001b[0mdata_fetcher\u001b[0m\u001b[0;34m,\u001b[0m \u001b[0mbatch_idx\u001b[0m\u001b[0;34m)\u001b[0m\u001b[0;34m\u001b[0m\u001b[0;34m\u001b[0m\u001b[0m\n\u001b[0m\u001b[1;32m    122\u001b[0m     \u001b[0;32melse\u001b[0m\u001b[0;34m:\u001b[0m\u001b[0;34m\u001b[0m\u001b[0;34m\u001b[0m\u001b[0m\n\u001b[1;32m    123\u001b[0m         \u001b[0mdataloader_iter\u001b[0m \u001b[0;34m=\u001b[0m \u001b[0miter\u001b[0m\u001b[0;34m(\u001b[0m\u001b[0mdata_fetcher\u001b[0m\u001b[0;34m)\u001b[0m\u001b[0;34m\u001b[0m\u001b[0;34m\u001b[0m\u001b[0m\n",
      "\u001b[0;32m/usr/local/lib/python3.6/dist-packages/pytorch_lightning/utilities/fetching.py\u001b[0m in \u001b[0;36m__iter__\u001b[0;34m(self)\u001b[0m\n\u001b[1;32m    195\u001b[0m             \u001b[0;32mraise\u001b[0m \u001b[0mMisconfigurationException\u001b[0m\u001b[0;34m(\u001b[0m\u001b[0;34m\"The iterate hasn't been provided. HINT: Did you call setup function ?.\"\u001b[0m\u001b[0;34m)\u001b[0m\u001b[0;34m\u001b[0m\u001b[0;34m\u001b[0m\u001b[0m\n\u001b[1;32m    196\u001b[0m         \u001b[0mself\u001b[0m\u001b[0;34m.\u001b[0m\u001b[0mreset\u001b[0m\u001b[0;34m(\u001b[0m\u001b[0;34m)\u001b[0m\u001b[0;34m\u001b[0m\u001b[0;34m\u001b[0m\u001b[0m\n\u001b[0;32m--> 197\u001b[0;31m         \u001b[0mself\u001b[0m\u001b[0;34m.\u001b[0m\u001b[0mdataloader_iter\u001b[0m \u001b[0;34m=\u001b[0m \u001b[0miter\u001b[0m\u001b[0;34m(\u001b[0m\u001b[0mself\u001b[0m\u001b[0;34m.\u001b[0m\u001b[0mdataloader\u001b[0m\u001b[0;34m)\u001b[0m\u001b[0;34m\u001b[0m\u001b[0;34m\u001b[0m\u001b[0m\n\u001b[0m\u001b[1;32m    198\u001b[0m         \u001b[0mself\u001b[0m\u001b[0;34m.\u001b[0m\u001b[0m_apply_patch\u001b[0m\u001b[0;34m(\u001b[0m\u001b[0;34m)\u001b[0m\u001b[0;34m\u001b[0m\u001b[0;34m\u001b[0m\u001b[0m\n\u001b[1;32m    199\u001b[0m         \u001b[0mself\u001b[0m\u001b[0;34m.\u001b[0m\u001b[0mprefetching\u001b[0m\u001b[0;34m(\u001b[0m\u001b[0mself\u001b[0m\u001b[0;34m.\u001b[0m\u001b[0mprefetch_batches\u001b[0m\u001b[0;34m)\u001b[0m\u001b[0;34m\u001b[0m\u001b[0;34m\u001b[0m\u001b[0m\n",
      "\u001b[0;32m/usr/local/lib/python3.6/dist-packages/torch/utils/data/dataloader.py\u001b[0m in \u001b[0;36m__iter__\u001b[0;34m(self)\u001b[0m\n\u001b[1;32m    357\u001b[0m             \u001b[0;32mreturn\u001b[0m \u001b[0mself\u001b[0m\u001b[0;34m.\u001b[0m\u001b[0m_iterator\u001b[0m\u001b[0;34m\u001b[0m\u001b[0;34m\u001b[0m\u001b[0m\n\u001b[1;32m    358\u001b[0m         \u001b[0;32melse\u001b[0m\u001b[0;34m:\u001b[0m\u001b[0;34m\u001b[0m\u001b[0;34m\u001b[0m\u001b[0m\n\u001b[0;32m--> 359\u001b[0;31m             \u001b[0;32mreturn\u001b[0m \u001b[0mself\u001b[0m\u001b[0;34m.\u001b[0m\u001b[0m_get_iterator\u001b[0m\u001b[0;34m(\u001b[0m\u001b[0;34m)\u001b[0m\u001b[0;34m\u001b[0m\u001b[0;34m\u001b[0m\u001b[0m\n\u001b[0m\u001b[1;32m    360\u001b[0m \u001b[0;34m\u001b[0m\u001b[0m\n\u001b[1;32m    361\u001b[0m     \u001b[0;34m@\u001b[0m\u001b[0mproperty\u001b[0m\u001b[0;34m\u001b[0m\u001b[0;34m\u001b[0m\u001b[0m\n",
      "\u001b[0;32m/usr/local/lib/python3.6/dist-packages/torch/utils/data/dataloader.py\u001b[0m in \u001b[0;36m_get_iterator\u001b[0;34m(self)\u001b[0m\n\u001b[1;32m    303\u001b[0m         \u001b[0;32melse\u001b[0m\u001b[0;34m:\u001b[0m\u001b[0;34m\u001b[0m\u001b[0;34m\u001b[0m\u001b[0m\n\u001b[1;32m    304\u001b[0m             \u001b[0mself\u001b[0m\u001b[0;34m.\u001b[0m\u001b[0mcheck_worker_number_rationality\u001b[0m\u001b[0;34m(\u001b[0m\u001b[0;34m)\u001b[0m\u001b[0;34m\u001b[0m\u001b[0;34m\u001b[0m\u001b[0m\n\u001b[0;32m--> 305\u001b[0;31m             \u001b[0;32mreturn\u001b[0m \u001b[0m_MultiProcessingDataLoaderIter\u001b[0m\u001b[0;34m(\u001b[0m\u001b[0mself\u001b[0m\u001b[0;34m)\u001b[0m\u001b[0;34m\u001b[0m\u001b[0;34m\u001b[0m\u001b[0m\n\u001b[0m\u001b[1;32m    306\u001b[0m \u001b[0;34m\u001b[0m\u001b[0m\n\u001b[1;32m    307\u001b[0m     \u001b[0;34m@\u001b[0m\u001b[0mproperty\u001b[0m\u001b[0;34m\u001b[0m\u001b[0;34m\u001b[0m\u001b[0m\n",
      "\u001b[0;32m/usr/local/lib/python3.6/dist-packages/torch/utils/data/dataloader.py\u001b[0m in \u001b[0;36m__init__\u001b[0;34m(self, loader)\u001b[0m\n\u001b[1;32m    916\u001b[0m             \u001b[0;31m#     before it starts, and __del__ tries to join but will get:\u001b[0m\u001b[0;34m\u001b[0m\u001b[0;34m\u001b[0m\u001b[0;34m\u001b[0m\u001b[0m\n\u001b[1;32m    917\u001b[0m             \u001b[0;31m#     AssertionError: can only join a started process.\u001b[0m\u001b[0;34m\u001b[0m\u001b[0;34m\u001b[0m\u001b[0;34m\u001b[0m\u001b[0m\n\u001b[0;32m--> 918\u001b[0;31m             \u001b[0mw\u001b[0m\u001b[0;34m.\u001b[0m\u001b[0mstart\u001b[0m\u001b[0;34m(\u001b[0m\u001b[0;34m)\u001b[0m\u001b[0;34m\u001b[0m\u001b[0;34m\u001b[0m\u001b[0m\n\u001b[0m\u001b[1;32m    919\u001b[0m             \u001b[0mself\u001b[0m\u001b[0;34m.\u001b[0m\u001b[0m_index_queues\u001b[0m\u001b[0;34m.\u001b[0m\u001b[0mappend\u001b[0m\u001b[0;34m(\u001b[0m\u001b[0mindex_queue\u001b[0m\u001b[0;34m)\u001b[0m\u001b[0;34m\u001b[0m\u001b[0;34m\u001b[0m\u001b[0m\n\u001b[1;32m    920\u001b[0m             \u001b[0mself\u001b[0m\u001b[0;34m.\u001b[0m\u001b[0m_workers\u001b[0m\u001b[0;34m.\u001b[0m\u001b[0mappend\u001b[0m\u001b[0;34m(\u001b[0m\u001b[0mw\u001b[0m\u001b[0;34m)\u001b[0m\u001b[0;34m\u001b[0m\u001b[0;34m\u001b[0m\u001b[0m\n",
      "\u001b[0;32m/usr/lib/python3.6/multiprocessing/process.py\u001b[0m in \u001b[0;36mstart\u001b[0;34m(self)\u001b[0m\n\u001b[1;32m    103\u001b[0m                \u001b[0;34m'daemonic processes are not allowed to have children'\u001b[0m\u001b[0;34m\u001b[0m\u001b[0;34m\u001b[0m\u001b[0m\n\u001b[1;32m    104\u001b[0m         \u001b[0m_cleanup\u001b[0m\u001b[0;34m(\u001b[0m\u001b[0;34m)\u001b[0m\u001b[0;34m\u001b[0m\u001b[0;34m\u001b[0m\u001b[0m\n\u001b[0;32m--> 105\u001b[0;31m         \u001b[0mself\u001b[0m\u001b[0;34m.\u001b[0m\u001b[0m_popen\u001b[0m \u001b[0;34m=\u001b[0m \u001b[0mself\u001b[0m\u001b[0;34m.\u001b[0m\u001b[0m_Popen\u001b[0m\u001b[0;34m(\u001b[0m\u001b[0mself\u001b[0m\u001b[0;34m)\u001b[0m\u001b[0;34m\u001b[0m\u001b[0;34m\u001b[0m\u001b[0m\n\u001b[0m\u001b[1;32m    106\u001b[0m         \u001b[0mself\u001b[0m\u001b[0;34m.\u001b[0m\u001b[0m_sentinel\u001b[0m \u001b[0;34m=\u001b[0m \u001b[0mself\u001b[0m\u001b[0;34m.\u001b[0m\u001b[0m_popen\u001b[0m\u001b[0;34m.\u001b[0m\u001b[0msentinel\u001b[0m\u001b[0;34m\u001b[0m\u001b[0;34m\u001b[0m\u001b[0m\n\u001b[1;32m    107\u001b[0m         \u001b[0;31m# Avoid a refcycle if the target function holds an indirect\u001b[0m\u001b[0;34m\u001b[0m\u001b[0;34m\u001b[0m\u001b[0;34m\u001b[0m\u001b[0m\n",
      "\u001b[0;32m/usr/lib/python3.6/multiprocessing/context.py\u001b[0m in \u001b[0;36m_Popen\u001b[0;34m(process_obj)\u001b[0m\n\u001b[1;32m    221\u001b[0m     \u001b[0;34m@\u001b[0m\u001b[0mstaticmethod\u001b[0m\u001b[0;34m\u001b[0m\u001b[0;34m\u001b[0m\u001b[0m\n\u001b[1;32m    222\u001b[0m     \u001b[0;32mdef\u001b[0m \u001b[0m_Popen\u001b[0m\u001b[0;34m(\u001b[0m\u001b[0mprocess_obj\u001b[0m\u001b[0;34m)\u001b[0m\u001b[0;34m:\u001b[0m\u001b[0;34m\u001b[0m\u001b[0;34m\u001b[0m\u001b[0m\n\u001b[0;32m--> 223\u001b[0;31m         \u001b[0;32mreturn\u001b[0m \u001b[0m_default_context\u001b[0m\u001b[0;34m.\u001b[0m\u001b[0mget_context\u001b[0m\u001b[0;34m(\u001b[0m\u001b[0;34m)\u001b[0m\u001b[0;34m.\u001b[0m\u001b[0mProcess\u001b[0m\u001b[0;34m.\u001b[0m\u001b[0m_Popen\u001b[0m\u001b[0;34m(\u001b[0m\u001b[0mprocess_obj\u001b[0m\u001b[0;34m)\u001b[0m\u001b[0;34m\u001b[0m\u001b[0;34m\u001b[0m\u001b[0m\n\u001b[0m\u001b[1;32m    224\u001b[0m \u001b[0;34m\u001b[0m\u001b[0m\n\u001b[1;32m    225\u001b[0m \u001b[0;32mclass\u001b[0m \u001b[0mDefaultContext\u001b[0m\u001b[0;34m(\u001b[0m\u001b[0mBaseContext\u001b[0m\u001b[0;34m)\u001b[0m\u001b[0;34m:\u001b[0m\u001b[0;34m\u001b[0m\u001b[0;34m\u001b[0m\u001b[0m\n",
      "\u001b[0;32m/usr/lib/python3.6/multiprocessing/context.py\u001b[0m in \u001b[0;36m_Popen\u001b[0;34m(process_obj)\u001b[0m\n\u001b[1;32m    275\u001b[0m         \u001b[0;32mdef\u001b[0m \u001b[0m_Popen\u001b[0m\u001b[0;34m(\u001b[0m\u001b[0mprocess_obj\u001b[0m\u001b[0;34m)\u001b[0m\u001b[0;34m:\u001b[0m\u001b[0;34m\u001b[0m\u001b[0;34m\u001b[0m\u001b[0m\n\u001b[1;32m    276\u001b[0m             \u001b[0;32mfrom\u001b[0m \u001b[0;34m.\u001b[0m\u001b[0mpopen_fork\u001b[0m \u001b[0;32mimport\u001b[0m \u001b[0mPopen\u001b[0m\u001b[0;34m\u001b[0m\u001b[0;34m\u001b[0m\u001b[0m\n\u001b[0;32m--> 277\u001b[0;31m             \u001b[0;32mreturn\u001b[0m \u001b[0mPopen\u001b[0m\u001b[0;34m(\u001b[0m\u001b[0mprocess_obj\u001b[0m\u001b[0;34m)\u001b[0m\u001b[0;34m\u001b[0m\u001b[0;34m\u001b[0m\u001b[0m\n\u001b[0m\u001b[1;32m    278\u001b[0m \u001b[0;34m\u001b[0m\u001b[0m\n\u001b[1;32m    279\u001b[0m     \u001b[0;32mclass\u001b[0m \u001b[0mSpawnProcess\u001b[0m\u001b[0;34m(\u001b[0m\u001b[0mprocess\u001b[0m\u001b[0;34m.\u001b[0m\u001b[0mBaseProcess\u001b[0m\u001b[0;34m)\u001b[0m\u001b[0;34m:\u001b[0m\u001b[0;34m\u001b[0m\u001b[0;34m\u001b[0m\u001b[0m\n",
      "\u001b[0;32m/usr/lib/python3.6/multiprocessing/popen_fork.py\u001b[0m in \u001b[0;36m__init__\u001b[0;34m(self, process_obj)\u001b[0m\n\u001b[1;32m     17\u001b[0m         \u001b[0mutil\u001b[0m\u001b[0;34m.\u001b[0m\u001b[0m_flush_std_streams\u001b[0m\u001b[0;34m(\u001b[0m\u001b[0;34m)\u001b[0m\u001b[0;34m\u001b[0m\u001b[0;34m\u001b[0m\u001b[0m\n\u001b[1;32m     18\u001b[0m         \u001b[0mself\u001b[0m\u001b[0;34m.\u001b[0m\u001b[0mreturncode\u001b[0m \u001b[0;34m=\u001b[0m \u001b[0;32mNone\u001b[0m\u001b[0;34m\u001b[0m\u001b[0;34m\u001b[0m\u001b[0m\n\u001b[0;32m---> 19\u001b[0;31m         \u001b[0mself\u001b[0m\u001b[0;34m.\u001b[0m\u001b[0m_launch\u001b[0m\u001b[0;34m(\u001b[0m\u001b[0mprocess_obj\u001b[0m\u001b[0;34m)\u001b[0m\u001b[0;34m\u001b[0m\u001b[0;34m\u001b[0m\u001b[0m\n\u001b[0m\u001b[1;32m     20\u001b[0m \u001b[0;34m\u001b[0m\u001b[0m\n\u001b[1;32m     21\u001b[0m     \u001b[0;32mdef\u001b[0m \u001b[0mduplicate_for_child\u001b[0m\u001b[0;34m(\u001b[0m\u001b[0mself\u001b[0m\u001b[0;34m,\u001b[0m \u001b[0mfd\u001b[0m\u001b[0;34m)\u001b[0m\u001b[0;34m:\u001b[0m\u001b[0;34m\u001b[0m\u001b[0;34m\u001b[0m\u001b[0m\n",
      "\u001b[0;32m/usr/lib/python3.6/multiprocessing/popen_fork.py\u001b[0m in \u001b[0;36m_launch\u001b[0;34m(self, process_obj)\u001b[0m\n\u001b[1;32m     64\u001b[0m         \u001b[0mcode\u001b[0m \u001b[0;34m=\u001b[0m \u001b[0;36m1\u001b[0m\u001b[0;34m\u001b[0m\u001b[0;34m\u001b[0m\u001b[0m\n\u001b[1;32m     65\u001b[0m         \u001b[0mparent_r\u001b[0m\u001b[0;34m,\u001b[0m \u001b[0mchild_w\u001b[0m \u001b[0;34m=\u001b[0m \u001b[0mos\u001b[0m\u001b[0;34m.\u001b[0m\u001b[0mpipe\u001b[0m\u001b[0;34m(\u001b[0m\u001b[0;34m)\u001b[0m\u001b[0;34m\u001b[0m\u001b[0;34m\u001b[0m\u001b[0m\n\u001b[0;32m---> 66\u001b[0;31m         \u001b[0mself\u001b[0m\u001b[0;34m.\u001b[0m\u001b[0mpid\u001b[0m \u001b[0;34m=\u001b[0m \u001b[0mos\u001b[0m\u001b[0;34m.\u001b[0m\u001b[0mfork\u001b[0m\u001b[0;34m(\u001b[0m\u001b[0;34m)\u001b[0m\u001b[0;34m\u001b[0m\u001b[0;34m\u001b[0m\u001b[0m\n\u001b[0m\u001b[1;32m     67\u001b[0m         \u001b[0;32mif\u001b[0m \u001b[0mself\u001b[0m\u001b[0;34m.\u001b[0m\u001b[0mpid\u001b[0m \u001b[0;34m==\u001b[0m \u001b[0;36m0\u001b[0m\u001b[0;34m:\u001b[0m\u001b[0;34m\u001b[0m\u001b[0;34m\u001b[0m\u001b[0m\n\u001b[1;32m     68\u001b[0m             \u001b[0;32mtry\u001b[0m\u001b[0;34m:\u001b[0m\u001b[0;34m\u001b[0m\u001b[0;34m\u001b[0m\u001b[0m\n",
      "\u001b[0;31mOSError\u001b[0m: [Errno 12] Cannot allocate memory"
     ]
    },
    {
     "name": "stdout",
     "output_type": "stream",
     "text": [
      "\r",
      "Epoch 155:  89%|████████▉ | 227/255 [01:37<00:12,  2.33it/s, loss=0.0205, v_num=4, train_loss=0.0676, train_accuracy=0.944, train_f1_score=0.944, val_loss=0.205, val_accuracy=0.932, val_f1_score=0.932]"
     ]
    }
   ],
   "source": [
    "n = 0\n",
    "FEATURE_COLUMNS = ORG_FEATURE_COLUMNS[n:]\n",
    "\n",
    "while(n < 40):\n",
    "    print(\"------------------ Round: \" + str(n) + \" ------------------\")\n",
    "    print(FEATURE_COLUMNS)\n",
    "    print(\"Len:\", len(FEATURE_COLUMNS))\n",
    "    \n",
    "    label_encoder = LabelEncoder()\n",
    "    encoded_labels = label_encoder.fit_transform(X_train.state)\n",
    "\n",
    "    label_encoder.classes_\n",
    "\n",
    "    X_train['label'] = encoded_labels\n",
    "\n",
    "    # Prepare data ###########################################\n",
    "    sequences = [] \n",
    "\n",
    "    for name, group in g:\n",
    "        sequence_features = group[FEATURE_COLUMNS]\n",
    "        label = group.label.iloc[0]\n",
    "\n",
    "        # print((sequence_features, label))\n",
    "        sequences.append((sequence_features, label))\n",
    "\n",
    "    # Setting up train, test, val gruop #######################\n",
    "    train_sequences, test_sequences = train_test_split(sequences, test_size=0.2)\n",
    "    val_sequences, test_sequences = train_test_split(test_sequences, test_size=0.5)\n",
    "\n",
    "\n",
    "    # Setting up data module ##################################\n",
    "    data_module = DrowsyDataModule(\n",
    "        train_sequences, val_sequences, test_sequences, BATCH_SIZE\n",
    "    )\n",
    "\n",
    "    model = DrowsyPredictor(\n",
    "        n_features=len(FEATURE_COLUMNS), \n",
    "        n_classes=len(label_encoder.classes_)\n",
    "    )\n",
    "\n",
    "    # Check points and logger #################################\n",
    "    checkpoint_callback = ModelCheckpoint(\n",
    "        dirpath=\"checkpoints\",\n",
    "        filename=\"best-checkpoint-corr-mi-\" + str(n),\n",
    "        save_top_k=2,\n",
    "        verbose=True,\n",
    "        monitor=\"val_loss\",\n",
    "        mode=\"min\"\n",
    "    )\n",
    "\n",
    "    logger = TensorBoardLogger(\"lightning_logs\", name=\"Drowsy_MI\" + str(n))\n",
    "\n",
    "    trainer = pl.Trainer(\n",
    "        logger=logger,\n",
    "        callbacks=[checkpoint_callback],\n",
    "        max_epochs=N_EPOCHS,\n",
    "        gpus=[2],\n",
    "#         gpus=1, \n",
    "#         auto_select_gpus=True,\n",
    "        auto_lr_find=True, \n",
    "        # check_val_every_n_epoch=10\n",
    "        # refresh_rate=20,\n",
    "    )\n",
    "    \n",
    "    # Training start\n",
    "    if (n == 44):\n",
    "        trainer.fit(model, data_module, ckpt_path=\"/Workspace/code/checkpoints/best-checkpoint-corr-mi-0-v3.ckpt\")\n",
    "    else:\n",
    "        trainer.fit(model, data_module)\n",
    "    trainer.test(model, data_module)\n",
    "    \n",
    "    FEATURE_COLUMNS.pop(0)\n",
    "    n = n + 1"
   ]
  },
  {
   "cell_type": "code",
   "execution_count": null,
   "id": "76acf7fd",
   "metadata": {},
   "outputs": [],
   "source": []
  },
  {
   "cell_type": "markdown",
   "id": "62e61f6f",
   "metadata": {},
   "source": [
    "## Load Checkpoint "
   ]
  },
  {
   "cell_type": "code",
   "execution_count": null,
   "id": "677d3cab",
   "metadata": {},
   "outputs": [],
   "source": [
    "# best-checkpoint-corr-3-v1.ckptn\n",
    "# trainer.fit(model, data_module, ckpt_path=\"/Workspace/code/checkpoints/best-checkpoint-corr-3-v1.ckpt\")"
   ]
  }
 ],
 "metadata": {
  "kernelspec": {
   "display_name": "Python 3",
   "language": "python",
   "name": "python3"
  },
  "language_info": {
   "codemirror_mode": {
    "name": "ipython",
    "version": 3
   },
   "file_extension": ".py",
   "mimetype": "text/x-python",
   "name": "python",
   "nbconvert_exporter": "python",
   "pygments_lexer": "ipython3",
   "version": "3.6.9"
  }
 },
 "nbformat": 4,
 "nbformat_minor": 5
}
