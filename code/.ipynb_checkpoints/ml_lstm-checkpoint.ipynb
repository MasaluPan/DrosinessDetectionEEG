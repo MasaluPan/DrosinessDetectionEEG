{
 "cells": [
  {
   "cell_type": "code",
   "execution_count": 7,
   "id": "e0a87cd7",
   "metadata": {
    "scrolled": true
   },
   "outputs": [
    {
     "data": {
      "text/plain": [
       "0"
      ]
     },
     "execution_count": 7,
     "metadata": {},
     "output_type": "execute_result"
    }
   ],
   "source": [
    "import os\n",
    "import pandas as pd\n",
    "import numpy as np\n",
    "import dataframe as df\n",
    "from sklearn.preprocessing import LabelEncoder\n",
    "from sklearn.model_selection import train_test_split\n",
    "from sklearn.metrics import classification_report, confusion_matrix\n",
    "import matplotlib.pyplot as plt\n",
    "\n",
    "import torch\n",
    "from torch import nn, optim\n",
    "from torch.nn import functional as F\n",
    "from torch.utils.data import Dataset, DataLoader\n",
    "\n",
    "import torchmetrics\n",
    "from torchmetrics.functional import accuracy\n",
    "\n",
    "import pytorch_lightning as pl\n",
    "from pytorch_lightning.loggers import TensorBoardLogger\n",
    "from pytorch_lightning.callbacks import ModelCheckpoint\n",
    "\n",
    "device = torch.device(\"cuda\" if torch.cuda.is_available() else \"cpu\")\n",
    "print(device)"
   ]
  },
  {
   "cell_type": "code",
   "execution_count": null,
   "id": "c2cb93b4",
   "metadata": {},
   "outputs": [],
   "source": [
    "X_train = pd.read_csv('../data2.csv')"
   ]
  },
  {
   "cell_type": "code",
   "execution_count": null,
   "id": "8392f779",
   "metadata": {},
   "outputs": [],
   "source": []
  },
  {
   "cell_type": "code",
   "execution_count": 3,
   "id": "ce4109e7",
   "metadata": {},
   "outputs": [
    {
     "data": {
      "text/html": [
       "<div>\n",
       "<style scoped>\n",
       "    .dataframe tbody tr th:only-of-type {\n",
       "        vertical-align: middle;\n",
       "    }\n",
       "\n",
       "    .dataframe tbody tr th {\n",
       "        vertical-align: top;\n",
       "    }\n",
       "\n",
       "    .dataframe thead th {\n",
       "        text-align: right;\n",
       "    }\n",
       "</style>\n",
       "<table border=\"1\" class=\"dataframe\">\n",
       "  <thead>\n",
       "    <tr style=\"text-align: right;\">\n",
       "      <th></th>\n",
       "      <th>time</th>\n",
       "      <th>id</th>\n",
       "      <th>group</th>\n",
       "      <th>state</th>\n",
       "      <th>HEOL</th>\n",
       "      <th>HEOR</th>\n",
       "      <th>FP1</th>\n",
       "      <th>FP2</th>\n",
       "      <th>VEOU</th>\n",
       "      <th>VEOL</th>\n",
       "      <th>...</th>\n",
       "      <th>P4</th>\n",
       "      <th>T6</th>\n",
       "      <th>A2</th>\n",
       "      <th>O1</th>\n",
       "      <th>OZ</th>\n",
       "      <th>O2</th>\n",
       "      <th>FT9</th>\n",
       "      <th>FT10</th>\n",
       "      <th>PO1</th>\n",
       "      <th>PO2</th>\n",
       "    </tr>\n",
       "  </thead>\n",
       "  <tbody>\n",
       "    <tr>\n",
       "      <th>0</th>\n",
       "      <td>0</td>\n",
       "      <td>0</td>\n",
       "      <td>0</td>\n",
       "      <td>Fatigue</td>\n",
       "      <td>1.215492e-13</td>\n",
       "      <td>-4.869703e-17</td>\n",
       "      <td>-6.140989e-14</td>\n",
       "      <td>2.598510e-17</td>\n",
       "      <td>-1.160435e-13</td>\n",
       "      <td>-3.167843e-17</td>\n",
       "      <td>...</td>\n",
       "      <td>1.651714e-13</td>\n",
       "      <td>-3.307430e-17</td>\n",
       "      <td>3.455894e-13</td>\n",
       "      <td>-6.391263e-17</td>\n",
       "      <td>8.724439e-14</td>\n",
       "      <td>-3.155565e-17</td>\n",
       "      <td>-7.326835e-14</td>\n",
       "      <td>-3.155565e-17</td>\n",
       "      <td>4.404571e-14</td>\n",
       "      <td>-2.665396e-17</td>\n",
       "    </tr>\n",
       "    <tr>\n",
       "      <th>1</th>\n",
       "      <td>1</td>\n",
       "      <td>1</td>\n",
       "      <td>0</td>\n",
       "      <td>Fatigue</td>\n",
       "      <td>-7.831237e+01</td>\n",
       "      <td>-1.362717e-02</td>\n",
       "      <td>-5.690807e+01</td>\n",
       "      <td>-4.192949e-02</td>\n",
       "      <td>3.212726e+02</td>\n",
       "      <td>-1.397650e-02</td>\n",
       "      <td>...</td>\n",
       "      <td>-2.646920e+02</td>\n",
       "      <td>-6.988248e-03</td>\n",
       "      <td>-2.281396e+02</td>\n",
       "      <td>4.192949e-02</td>\n",
       "      <td>-5.818660e+01</td>\n",
       "      <td>3.494124e-02</td>\n",
       "      <td>1.040445e+02</td>\n",
       "      <td>3.494124e-02</td>\n",
       "      <td>-3.291532e+01</td>\n",
       "      <td>2.795299e-02</td>\n",
       "    </tr>\n",
       "    <tr>\n",
       "      <th>2</th>\n",
       "      <td>2</td>\n",
       "      <td>2</td>\n",
       "      <td>0</td>\n",
       "      <td>Fatigue</td>\n",
       "      <td>-1.533161e+02</td>\n",
       "      <td>-2.671759e-02</td>\n",
       "      <td>-1.114424e+02</td>\n",
       "      <td>-8.209756e-02</td>\n",
       "      <td>6.290321e+02</td>\n",
       "      <td>-2.736585e-02</td>\n",
       "      <td>...</td>\n",
       "      <td>-5.183021e+02</td>\n",
       "      <td>-1.368293e-02</td>\n",
       "      <td>-4.459774e+02</td>\n",
       "      <td>8.209756e-02</td>\n",
       "      <td>-1.138533e+02</td>\n",
       "      <td>6.841464e-02</td>\n",
       "      <td>2.037677e+02</td>\n",
       "      <td>6.841464e-02</td>\n",
       "      <td>-6.439023e+01</td>\n",
       "      <td>5.473171e-02</td>\n",
       "    </tr>\n",
       "    <tr>\n",
       "      <th>3</th>\n",
       "      <td>3</td>\n",
       "      <td>3</td>\n",
       "      <td>0</td>\n",
       "      <td>Fatigue</td>\n",
       "      <td>-2.219502e+02</td>\n",
       "      <td>-3.877185e-02</td>\n",
       "      <td>-1.614074e+02</td>\n",
       "      <td>-1.188756e-01</td>\n",
       "      <td>9.107824e+02</td>\n",
       "      <td>-3.962519e-02</td>\n",
       "      <td>...</td>\n",
       "      <td>-7.505852e+02</td>\n",
       "      <td>-1.981260e-02</td>\n",
       "      <td>-6.440388e+02</td>\n",
       "      <td>1.188756e-01</td>\n",
       "      <td>-1.646722e+02</td>\n",
       "      <td>9.906298e-02</td>\n",
       "      <td>2.951723e+02</td>\n",
       "      <td>9.906298e-02</td>\n",
       "      <td>-9.309419e+01</td>\n",
       "      <td>7.925038e-02</td>\n",
       "    </tr>\n",
       "    <tr>\n",
       "      <th>4</th>\n",
       "      <td>4</td>\n",
       "      <td>4</td>\n",
       "      <td>0</td>\n",
       "      <td>Fatigue</td>\n",
       "      <td>-2.816333e+02</td>\n",
       "      <td>-4.936209e-02</td>\n",
       "      <td>-2.049461e+02</td>\n",
       "      <td>-1.508884e-01</td>\n",
       "      <td>1.155975e+03</td>\n",
       "      <td>-5.029612e-02</td>\n",
       "      <td>...</td>\n",
       "      <td>-9.528851e+02</td>\n",
       "      <td>-2.514806e-02</td>\n",
       "      <td>-8.144362e+02</td>\n",
       "      <td>1.508884e-01</td>\n",
       "      <td>-2.086840e+02</td>\n",
       "      <td>1.257403e-01</td>\n",
       "      <td>3.748789e+02</td>\n",
       "      <td>1.257403e-01</td>\n",
       "      <td>-1.179092e+02</td>\n",
       "      <td>1.005922e-01</td>\n",
       "    </tr>\n",
       "  </tbody>\n",
       "</table>\n",
       "<p>5 rows × 44 columns</p>\n",
       "</div>"
      ],
      "text/plain": [
       "   time  id  group    state          HEOL          HEOR           FP1  \\\n",
       "0     0   0      0  Fatigue  1.215492e-13 -4.869703e-17 -6.140989e-14   \n",
       "1     1   1      0  Fatigue -7.831237e+01 -1.362717e-02 -5.690807e+01   \n",
       "2     2   2      0  Fatigue -1.533161e+02 -2.671759e-02 -1.114424e+02   \n",
       "3     3   3      0  Fatigue -2.219502e+02 -3.877185e-02 -1.614074e+02   \n",
       "4     4   4      0  Fatigue -2.816333e+02 -4.936209e-02 -2.049461e+02   \n",
       "\n",
       "            FP2          VEOU          VEOL  ...            P4            T6  \\\n",
       "0  2.598510e-17 -1.160435e-13 -3.167843e-17  ...  1.651714e-13 -3.307430e-17   \n",
       "1 -4.192949e-02  3.212726e+02 -1.397650e-02  ... -2.646920e+02 -6.988248e-03   \n",
       "2 -8.209756e-02  6.290321e+02 -2.736585e-02  ... -5.183021e+02 -1.368293e-02   \n",
       "3 -1.188756e-01  9.107824e+02 -3.962519e-02  ... -7.505852e+02 -1.981260e-02   \n",
       "4 -1.508884e-01  1.155975e+03 -5.029612e-02  ... -9.528851e+02 -2.514806e-02   \n",
       "\n",
       "             A2            O1            OZ            O2           FT9  \\\n",
       "0  3.455894e-13 -6.391263e-17  8.724439e-14 -3.155565e-17 -7.326835e-14   \n",
       "1 -2.281396e+02  4.192949e-02 -5.818660e+01  3.494124e-02  1.040445e+02   \n",
       "2 -4.459774e+02  8.209756e-02 -1.138533e+02  6.841464e-02  2.037677e+02   \n",
       "3 -6.440388e+02  1.188756e-01 -1.646722e+02  9.906298e-02  2.951723e+02   \n",
       "4 -8.144362e+02  1.508884e-01 -2.086840e+02  1.257403e-01  3.748789e+02   \n",
       "\n",
       "           FT10           PO1           PO2  \n",
       "0 -3.155565e-17  4.404571e-14 -2.665396e-17  \n",
       "1  3.494124e-02 -3.291532e+01  2.795299e-02  \n",
       "2  6.841464e-02 -6.439023e+01  5.473171e-02  \n",
       "3  9.906298e-02 -9.309419e+01  7.925038e-02  \n",
       "4  1.257403e-01 -1.179092e+02  1.005922e-01  \n",
       "\n",
       "[5 rows x 44 columns]"
      ]
     },
     "execution_count": 3,
     "metadata": {},
     "output_type": "execute_result"
    }
   ],
   "source": [
    "X_train.head()"
   ]
  },
  {
   "cell_type": "code",
   "execution_count": 4,
   "id": "fad46a00",
   "metadata": {},
   "outputs": [
    {
     "data": {
      "text/plain": [
       "array(['Fatigue', 'Normal'], dtype=object)"
      ]
     },
     "execution_count": 4,
     "metadata": {},
     "output_type": "execute_result"
    }
   ],
   "source": [
    "label_encoder = LabelEncoder()\n",
    "encoded_labels = label_encoder.fit_transform(X_train.state)\n",
    "\n",
    "label_encoder.classes_"
   ]
  },
  {
   "cell_type": "code",
   "execution_count": 5,
   "id": "89b89a17",
   "metadata": {},
   "outputs": [
    {
     "data": {
      "text/html": [
       "<div>\n",
       "<style scoped>\n",
       "    .dataframe tbody tr th:only-of-type {\n",
       "        vertical-align: middle;\n",
       "    }\n",
       "\n",
       "    .dataframe tbody tr th {\n",
       "        vertical-align: top;\n",
       "    }\n",
       "\n",
       "    .dataframe thead th {\n",
       "        text-align: right;\n",
       "    }\n",
       "</style>\n",
       "<table border=\"1\" class=\"dataframe\">\n",
       "  <thead>\n",
       "    <tr style=\"text-align: right;\">\n",
       "      <th></th>\n",
       "      <th>time</th>\n",
       "      <th>id</th>\n",
       "      <th>group</th>\n",
       "      <th>state</th>\n",
       "      <th>HEOL</th>\n",
       "      <th>HEOR</th>\n",
       "      <th>FP1</th>\n",
       "      <th>FP2</th>\n",
       "      <th>VEOU</th>\n",
       "      <th>VEOL</th>\n",
       "      <th>...</th>\n",
       "      <th>T6</th>\n",
       "      <th>A2</th>\n",
       "      <th>O1</th>\n",
       "      <th>OZ</th>\n",
       "      <th>O2</th>\n",
       "      <th>FT9</th>\n",
       "      <th>FT10</th>\n",
       "      <th>PO1</th>\n",
       "      <th>PO2</th>\n",
       "      <th>label</th>\n",
       "    </tr>\n",
       "  </thead>\n",
       "  <tbody>\n",
       "    <tr>\n",
       "      <th>0</th>\n",
       "      <td>0</td>\n",
       "      <td>0</td>\n",
       "      <td>0</td>\n",
       "      <td>Fatigue</td>\n",
       "      <td>1.215492e-13</td>\n",
       "      <td>-4.869703e-17</td>\n",
       "      <td>-6.140989e-14</td>\n",
       "      <td>2.598510e-17</td>\n",
       "      <td>-1.160435e-13</td>\n",
       "      <td>-3.167843e-17</td>\n",
       "      <td>...</td>\n",
       "      <td>-3.307430e-17</td>\n",
       "      <td>3.455894e-13</td>\n",
       "      <td>-6.391263e-17</td>\n",
       "      <td>8.724439e-14</td>\n",
       "      <td>-3.155565e-17</td>\n",
       "      <td>-7.326835e-14</td>\n",
       "      <td>-3.155565e-17</td>\n",
       "      <td>4.404571e-14</td>\n",
       "      <td>-2.665396e-17</td>\n",
       "      <td>0</td>\n",
       "    </tr>\n",
       "    <tr>\n",
       "      <th>1</th>\n",
       "      <td>1</td>\n",
       "      <td>1</td>\n",
       "      <td>0</td>\n",
       "      <td>Fatigue</td>\n",
       "      <td>-7.831237e+01</td>\n",
       "      <td>-1.362717e-02</td>\n",
       "      <td>-5.690807e+01</td>\n",
       "      <td>-4.192949e-02</td>\n",
       "      <td>3.212726e+02</td>\n",
       "      <td>-1.397650e-02</td>\n",
       "      <td>...</td>\n",
       "      <td>-6.988248e-03</td>\n",
       "      <td>-2.281396e+02</td>\n",
       "      <td>4.192949e-02</td>\n",
       "      <td>-5.818660e+01</td>\n",
       "      <td>3.494124e-02</td>\n",
       "      <td>1.040445e+02</td>\n",
       "      <td>3.494124e-02</td>\n",
       "      <td>-3.291532e+01</td>\n",
       "      <td>2.795299e-02</td>\n",
       "      <td>0</td>\n",
       "    </tr>\n",
       "    <tr>\n",
       "      <th>2</th>\n",
       "      <td>2</td>\n",
       "      <td>2</td>\n",
       "      <td>0</td>\n",
       "      <td>Fatigue</td>\n",
       "      <td>-1.533161e+02</td>\n",
       "      <td>-2.671759e-02</td>\n",
       "      <td>-1.114424e+02</td>\n",
       "      <td>-8.209756e-02</td>\n",
       "      <td>6.290321e+02</td>\n",
       "      <td>-2.736585e-02</td>\n",
       "      <td>...</td>\n",
       "      <td>-1.368293e-02</td>\n",
       "      <td>-4.459774e+02</td>\n",
       "      <td>8.209756e-02</td>\n",
       "      <td>-1.138533e+02</td>\n",
       "      <td>6.841464e-02</td>\n",
       "      <td>2.037677e+02</td>\n",
       "      <td>6.841464e-02</td>\n",
       "      <td>-6.439023e+01</td>\n",
       "      <td>5.473171e-02</td>\n",
       "      <td>0</td>\n",
       "    </tr>\n",
       "    <tr>\n",
       "      <th>3</th>\n",
       "      <td>3</td>\n",
       "      <td>3</td>\n",
       "      <td>0</td>\n",
       "      <td>Fatigue</td>\n",
       "      <td>-2.219502e+02</td>\n",
       "      <td>-3.877185e-02</td>\n",
       "      <td>-1.614074e+02</td>\n",
       "      <td>-1.188756e-01</td>\n",
       "      <td>9.107824e+02</td>\n",
       "      <td>-3.962519e-02</td>\n",
       "      <td>...</td>\n",
       "      <td>-1.981260e-02</td>\n",
       "      <td>-6.440388e+02</td>\n",
       "      <td>1.188756e-01</td>\n",
       "      <td>-1.646722e+02</td>\n",
       "      <td>9.906298e-02</td>\n",
       "      <td>2.951723e+02</td>\n",
       "      <td>9.906298e-02</td>\n",
       "      <td>-9.309419e+01</td>\n",
       "      <td>7.925038e-02</td>\n",
       "      <td>0</td>\n",
       "    </tr>\n",
       "    <tr>\n",
       "      <th>4</th>\n",
       "      <td>4</td>\n",
       "      <td>4</td>\n",
       "      <td>0</td>\n",
       "      <td>Fatigue</td>\n",
       "      <td>-2.816333e+02</td>\n",
       "      <td>-4.936209e-02</td>\n",
       "      <td>-2.049461e+02</td>\n",
       "      <td>-1.508884e-01</td>\n",
       "      <td>1.155975e+03</td>\n",
       "      <td>-5.029612e-02</td>\n",
       "      <td>...</td>\n",
       "      <td>-2.514806e-02</td>\n",
       "      <td>-8.144362e+02</td>\n",
       "      <td>1.508884e-01</td>\n",
       "      <td>-2.086840e+02</td>\n",
       "      <td>1.257403e-01</td>\n",
       "      <td>3.748789e+02</td>\n",
       "      <td>1.257403e-01</td>\n",
       "      <td>-1.179092e+02</td>\n",
       "      <td>1.005922e-01</td>\n",
       "      <td>0</td>\n",
       "    </tr>\n",
       "  </tbody>\n",
       "</table>\n",
       "<p>5 rows × 45 columns</p>\n",
       "</div>"
      ],
      "text/plain": [
       "   time  id  group    state          HEOL          HEOR           FP1  \\\n",
       "0     0   0      0  Fatigue  1.215492e-13 -4.869703e-17 -6.140989e-14   \n",
       "1     1   1      0  Fatigue -7.831237e+01 -1.362717e-02 -5.690807e+01   \n",
       "2     2   2      0  Fatigue -1.533161e+02 -2.671759e-02 -1.114424e+02   \n",
       "3     3   3      0  Fatigue -2.219502e+02 -3.877185e-02 -1.614074e+02   \n",
       "4     4   4      0  Fatigue -2.816333e+02 -4.936209e-02 -2.049461e+02   \n",
       "\n",
       "            FP2          VEOU          VEOL  ...            T6            A2  \\\n",
       "0  2.598510e-17 -1.160435e-13 -3.167843e-17  ... -3.307430e-17  3.455894e-13   \n",
       "1 -4.192949e-02  3.212726e+02 -1.397650e-02  ... -6.988248e-03 -2.281396e+02   \n",
       "2 -8.209756e-02  6.290321e+02 -2.736585e-02  ... -1.368293e-02 -4.459774e+02   \n",
       "3 -1.188756e-01  9.107824e+02 -3.962519e-02  ... -1.981260e-02 -6.440388e+02   \n",
       "4 -1.508884e-01  1.155975e+03 -5.029612e-02  ... -2.514806e-02 -8.144362e+02   \n",
       "\n",
       "             O1            OZ            O2           FT9          FT10  \\\n",
       "0 -6.391263e-17  8.724439e-14 -3.155565e-17 -7.326835e-14 -3.155565e-17   \n",
       "1  4.192949e-02 -5.818660e+01  3.494124e-02  1.040445e+02  3.494124e-02   \n",
       "2  8.209756e-02 -1.138533e+02  6.841464e-02  2.037677e+02  6.841464e-02   \n",
       "3  1.188756e-01 -1.646722e+02  9.906298e-02  2.951723e+02  9.906298e-02   \n",
       "4  1.508884e-01 -2.086840e+02  1.257403e-01  3.748789e+02  1.257403e-01   \n",
       "\n",
       "            PO1           PO2  label  \n",
       "0  4.404571e-14 -2.665396e-17      0  \n",
       "1 -3.291532e+01  2.795299e-02      0  \n",
       "2 -6.439023e+01  5.473171e-02      0  \n",
       "3 -9.309419e+01  7.925038e-02      0  \n",
       "4 -1.179092e+02  1.005922e-01      0  \n",
       "\n",
       "[5 rows x 45 columns]"
      ]
     },
     "execution_count": 5,
     "metadata": {},
     "output_type": "execute_result"
    }
   ],
   "source": [
    "X_train['label'] = encoded_labels\n",
    "X_train.head()"
   ]
  },
  {
   "cell_type": "code",
   "execution_count": 6,
   "id": "b23af97c",
   "metadata": {},
   "outputs": [],
   "source": [
    "FEATURE_COLUMNS = X_train.columns.tolist()[4:-2]"
   ]
  },
  {
   "cell_type": "code",
   "execution_count": 7,
   "id": "5c942ac5",
   "metadata": {},
   "outputs": [],
   "source": [
    "g = X_train.groupby(\"group\")"
   ]
  },
  {
   "cell_type": "code",
   "execution_count": 8,
   "id": "67cdb8f4",
   "metadata": {
    "scrolled": true
   },
   "outputs": [],
   "source": [
    "sequences = [] \n",
    "\n",
    "for name, group in g:\n",
    "    sequence_features = group[FEATURE_COLUMNS]\n",
    "    label = group.label.iloc[0]\n",
    "    \n",
    "#     print((sequence_features, label))\n",
    "    sequences.append((sequence_features, label))"
   ]
  },
  {
   "cell_type": "code",
   "execution_count": 9,
   "id": "746633bb",
   "metadata": {
    "scrolled": true
   },
   "outputs": [
    {
     "data": {
      "text/plain": [
       "(              HEOL          HEOR           FP1           FP2          VEOU  \\\n",
       " 0     1.215492e-13 -4.869703e-17 -6.140989e-14  2.598510e-17 -1.160435e-13   \n",
       " 1    -7.831237e+01 -1.362717e-02 -5.690807e+01 -4.192949e-02  3.212726e+02   \n",
       " 2    -1.533161e+02 -2.671759e-02 -1.114424e+02 -8.209756e-02  6.290321e+02   \n",
       " 3    -2.219502e+02 -3.877185e-02 -1.614074e+02 -1.188756e-01  9.107824e+02   \n",
       " 4    -2.816333e+02 -4.936209e-02 -2.049461e+02 -1.508884e-01  1.155975e+03   \n",
       " ...            ...           ...           ...           ...           ...   \n",
       " 1019  9.189533e+00  2.849707e-03  1.783298e+01  6.329993e-03 -4.930598e+01   \n",
       " 1020  7.436606e+00  2.869100e-03  1.661349e+01  6.348566e-03 -5.123579e+01   \n",
       " 1021  5.528420e+00  2.921818e-03  1.508811e+01  6.324462e-03 -5.286875e+01   \n",
       " 1022  3.726376e+00  3.024905e-03  1.349644e+01  6.342777e-03 -5.465339e+01   \n",
       " 1023  1.962049e+00  3.137497e-03  1.184765e+01  6.318416e-03 -5.574251e+01   \n",
       " \n",
       "               VEOL            F7            F3            FZ            F4  \\\n",
       " 0    -3.167843e-17  1.355253e-13 -2.035640e-17  3.379661e-13 -4.681325e-17   \n",
       " 1    -1.397650e-02 -6.518266e+02  1.397650e-02 -3.288373e+02 -2.096474e-02   \n",
       " 2    -2.736585e-02 -1.275366e+03  2.736585e-02 -6.437979e+02 -4.104878e-02   \n",
       " 3    -3.962519e-02 -1.844515e+03  3.962519e-02 -9.320548e+02 -5.943779e-02   \n",
       " 4    -5.029612e-02 -2.337333e+03  5.029612e-02 -1.182787e+03 -7.544418e-02   \n",
       " ...            ...           ...           ...           ...           ...   \n",
       " 1019  2.109998e-03 -1.321346e+02 -2.109998e-03  3.938245e+01  3.164996e-03   \n",
       " 1020  2.116189e-03 -1.275779e+02 -2.116189e-03  4.078032e+01  3.174283e-03   \n",
       " 1021  2.108154e-03 -1.129890e+02 -2.108154e-03  4.190866e+01  3.162231e-03   \n",
       " 1022  2.114259e-03 -9.071429e+01 -2.114259e-03  4.350266e+01  3.171389e-03   \n",
       " 1023  2.106139e-03 -6.294774e+01 -2.106139e-03  4.493993e+01  3.159208e-03   \n",
       " \n",
       "       ...            PZ            P4            T6            A2  \\\n",
       " 0     ... -3.307430e-17  1.651714e-13 -3.307430e-17  3.455894e-13   \n",
       " 1     ... -6.988248e-03 -2.646920e+02 -6.988248e-03 -2.281396e+02   \n",
       " 2     ... -1.368293e-02 -5.183021e+02 -1.368293e-02 -4.459774e+02   \n",
       " 3     ... -1.981260e-02 -7.505852e+02 -1.981260e-02 -6.440388e+02   \n",
       " 4     ... -2.514806e-02 -9.528851e+02 -2.514806e-02 -8.144362e+02   \n",
       " ...   ...           ...           ...           ...           ...   \n",
       " 1019  ...  1.054999e-03  3.630563e+01  1.054999e-03  4.464208e+01   \n",
       " 1020  ...  1.058094e-03  3.611363e+01  1.058094e-03  4.317930e+01   \n",
       " 1021  ...  1.054077e-03  3.609012e+01  1.054077e-03  4.172697e+01   \n",
       " 1022  ...  1.057130e-03  3.677028e+01  1.057130e-03  4.085701e+01   \n",
       " 1023  ...  1.053069e-03  3.752225e+01  1.053069e-03  4.019580e+01   \n",
       " \n",
       "                 O1            OZ            O2           FT9          FT10  \\\n",
       " 0    -6.391263e-17  8.724439e-14 -3.155565e-17 -7.326835e-14 -3.155565e-17   \n",
       " 1     4.192949e-02 -5.818660e+01  3.494124e-02  1.040445e+02  3.494124e-02   \n",
       " 2     8.209756e-02 -1.138533e+02  6.841464e-02  2.037677e+02  6.841464e-02   \n",
       " 3     1.188756e-01 -1.646722e+02  9.906298e-02  2.951723e+02  9.906298e-02   \n",
       " 4     1.508884e-01 -2.086840e+02  1.257403e-01  3.748789e+02  1.257403e-01   \n",
       " ...            ...           ...           ...           ...           ...   \n",
       " 1019 -6.329993e-03  8.108575e+00 -5.274994e-03 -1.735507e+01 -5.274994e-03   \n",
       " 1020 -6.348566e-03  7.472130e+00 -5.290472e-03 -1.805120e+01 -5.290472e-03   \n",
       " 1021 -6.324462e-03  6.859015e+00 -5.270385e-03 -1.852913e+01 -5.270385e-03   \n",
       " 1022 -6.342777e-03  6.416380e+00 -5.285648e-03 -1.894467e+01 -5.285648e-03   \n",
       " 1023 -6.318416e-03  6.051498e+00 -5.265347e-03 -1.904496e+01 -5.265347e-03   \n",
       " \n",
       "                PO1  \n",
       " 0     4.404571e-14  \n",
       " 1    -3.291532e+01  \n",
       " 2    -6.439023e+01  \n",
       " 3    -9.309419e+01  \n",
       " 4    -1.179092e+02  \n",
       " ...            ...  \n",
       " 1019  2.724295e+00  \n",
       " 1020  1.816629e+00  \n",
       " 1021  1.085397e+00  \n",
       " 1022  7.074757e-01  \n",
       " 1023  7.091612e-01  \n",
       " \n",
       " [1024 rows x 39 columns],\n",
       " 0)"
      ]
     },
     "execution_count": 9,
     "metadata": {},
     "output_type": "execute_result"
    }
   ],
   "source": [
    "sequences[0]"
   ]
  },
  {
   "cell_type": "code",
   "execution_count": 10,
   "id": "71c5ebdb",
   "metadata": {},
   "outputs": [],
   "source": [
    "train_sequences, test_sequences = train_test_split(sequences, test_size=0.2)\n",
    "val_sequences, test_sequences = train_test_split(test_sequences, test_size=0.5)"
   ]
  },
  {
   "cell_type": "code",
   "execution_count": 11,
   "id": "62f30b4d",
   "metadata": {},
   "outputs": [
    {
     "data": {
      "text/plain": [
       "(11268, 1409, 1409)"
      ]
     },
     "execution_count": 11,
     "metadata": {},
     "output_type": "execute_result"
    }
   ],
   "source": [
    "len(train_sequences), len(val_sequences), len(test_sequences)"
   ]
  },
  {
   "cell_type": "markdown",
   "id": "a3b1798a",
   "metadata": {},
   "source": [
    "## Data Set"
   ]
  },
  {
   "cell_type": "code",
   "execution_count": 12,
   "id": "d4d4405c",
   "metadata": {},
   "outputs": [],
   "source": [
    "class DrowsyDataset(Dataset):\n",
    "    \n",
    "    def __init__(self, sequences):\n",
    "        self.sequences = sequences\n",
    "        \n",
    "    def __len__(self):\n",
    "        return len(self.sequences)\n",
    "    \n",
    "    def __getitem__(self, idx):\n",
    "        sequence, label = self.sequences[idx]\n",
    "        return dict(\n",
    "            sequence=torch.Tensor(sequence.to_numpy()),\n",
    "            label=torch.tensor(label).long()\n",
    "        )"
   ]
  },
  {
   "cell_type": "code",
   "execution_count": 13,
   "id": "70941905",
   "metadata": {},
   "outputs": [],
   "source": [
    "class DrowsyDataModule(pl.LightningDataModule):\n",
    "    \n",
    "    def __init__(self, train_sequences, val_sequences, test_sequences, batch_size):\n",
    "        super().__init__()\n",
    "        self.train_sequences = train_sequences\n",
    "        self.val_sequences = val_sequences\n",
    "        self.test_sequences = test_sequences\n",
    "        self.batch_size = batch_size\n",
    "\n",
    "    def setup(self, stage=None):\n",
    "        self.train_dataset = DrowsyDataset(self.train_sequences)\n",
    "        self.val_dataset = DrowsyDataset(self.val_sequences)\n",
    "        self.test_dataset = DrowsyDataset(self.test_sequences)\n",
    "        \n",
    "    def train_dataloader(self):\n",
    "        return DataLoader(\n",
    "            self.train_dataset,\n",
    "            batch_size=self.batch_size,\n",
    "            shuffle=True,\n",
    "            num_workers=os.cpu_count()\n",
    "        )\n",
    "    \n",
    "    def val_dataloader(self):\n",
    "        return DataLoader(\n",
    "            self.val_dataset,\n",
    "            batch_size=self.batch_size,\n",
    "            shuffle=False,\n",
    "            num_workers=os.cpu_count()\n",
    "        )\n",
    "    \n",
    "    def test_dataloader(self):\n",
    "        return DataLoader(\n",
    "            self.test_dataset,\n",
    "            batch_size=self.batch_size,\n",
    "            shuffle=False,\n",
    "            num_workers=os.cpu_count()\n",
    "        ) "
   ]
  },
  {
   "cell_type": "code",
   "execution_count": 14,
   "id": "d86f3c09",
   "metadata": {},
   "outputs": [],
   "source": [
    "N_EPOCHS = 100\n",
    "BATCH_SIZE = 50\n",
    "\n",
    "data_module = DrowsyDataModule(train_sequences, val_sequences, test_sequences, BATCH_SIZE)"
   ]
  },
  {
   "cell_type": "markdown",
   "id": "7f9f4ca6",
   "metadata": {},
   "source": [
    "## Models"
   ]
  },
  {
   "cell_type": "code",
   "execution_count": 15,
   "id": "a6273291",
   "metadata": {},
   "outputs": [],
   "source": [
    "class DrowsyModel(nn.Module):\n",
    "    \n",
    "    def __init__(self, n_features, n_classes, n_hidden=256, n_layers=3):\n",
    "        super().__init__()\n",
    "        \n",
    "        self.n_hidden = n_hidden\n",
    "        \n",
    "        self.lstm = nn.LSTM(\n",
    "            input_size=n_features,\n",
    "            hidden_size=n_hidden,\n",
    "            num_layers=n_layers,\n",
    "            batch_first=True,\n",
    "            dropout=0.75\n",
    "        )\n",
    "        \n",
    "        self.classifier = nn.Linear(n_hidden, n_classes)\n",
    "        \n",
    "    def forward(self, x):\n",
    "        self.lstm.flatten_parameters()\n",
    "        _, (hidden, _) = self.lstm(x)\n",
    "        \n",
    "        out = hidden[-1]\n",
    "        return self.classifier(out)"
   ]
  },
  {
   "cell_type": "code",
   "execution_count": 16,
   "id": "d3ea7024",
   "metadata": {},
   "outputs": [],
   "source": [
    "class DrowsyPredictor(pl.LightningModule):\n",
    "    \n",
    "    def __init__(self, n_features: int, n_classes: int):\n",
    "        super().__init__()\n",
    "        self.model = DrowsyModel(n_features, n_classes)\n",
    "        self.criterion = nn.CrossEntropyLoss()\n",
    "        \n",
    "    def forward(self, x, label=None):\n",
    "        output = self.model(x)\n",
    "        loss = 0\n",
    "        if label is not None:\n",
    "            loss = self.criterion(output, label)\n",
    "        return loss, output\n",
    "        \n",
    "    def training_step(self, batch, batch_idx):\n",
    "        sequences = batch[\"sequence\"]\n",
    "        labels = batch[\"label\"]\n",
    "        loss, outputs = self(sequences, labels)\n",
    "        predictions = torch.argmax(outputs, dim=1)\n",
    "        step_accuracy = accuracy(predictions, labels)\n",
    "        \n",
    "        self.log(\"train_loss\", loss, prog_bar=True, logger=True)\n",
    "        self.log(\"train_accuracy\", step_accuracy, prog_bar=True, logger=True)\n",
    "        \n",
    "        return {\"loss\": loss, \"accuracy\": step_accuracy}\n",
    "    \n",
    "    def validation_step(self, batch, batch_idx):\n",
    "        sequences = batch[\"sequence\"]\n",
    "        labels = batch[\"label\"]\n",
    "        loss, outputs = self(sequences, labels)\n",
    "        predictions = torch.argmax(outputs, dim=1)\n",
    "        step_accuracy = accuracy(predictions, labels)\n",
    "        \n",
    "        self.log(\"val_loss\", loss, prog_bar=True, logger=True)\n",
    "        self.log(\"val_accuracy\", step_accuracy, prog_bar=True, logger=True)\n",
    "        \n",
    "        return {\"loss\": loss, \"accuracy\": step_accuracy}\n",
    "    \n",
    "    def test_step(self, batch, batch_idx):\n",
    "        sequences = batch[\"sequence\"]\n",
    "        labels = batch[\"label\"]\n",
    "        loss, outputs = self(sequences, labels)\n",
    "        predictions = torch.argmax(outputs, dim=1)\n",
    "        step_accuracy = accuracy(predictions, labels)\n",
    "        \n",
    "        self.log(\"test_loss\", loss, prog_bar=True, logger=True)\n",
    "        self.log(\"test_accuracy\", step_accuracy, prog_bar=True, logger=True)\n",
    "        \n",
    "        return {\"loss\": loss, \"accuracy\": step_accuracy}\n",
    "    \n",
    "    def configure_optimizers(self):\n",
    "        return optim.Adam(self.parameters(), lr=0.0001)"
   ]
  },
  {
   "cell_type": "code",
   "execution_count": 17,
   "id": "1aa70f21",
   "metadata": {},
   "outputs": [],
   "source": [
    "model = DrowsyPredictor(\n",
    "    n_features=len(FEATURE_COLUMNS), \n",
    "    n_classes=len(label_encoder.classes_)\n",
    ")"
   ]
  },
  {
   "cell_type": "code",
   "execution_count": 18,
   "id": "ba49f096",
   "metadata": {},
   "outputs": [
    {
     "data": {
      "text/html": [
       "\n",
       "      <iframe id=\"tensorboard-frame-2ae085f9ad82d866\" width=\"100%\" height=\"800\" frameborder=\"0\">\n",
       "      </iframe>\n",
       "      <script>\n",
       "        (function() {\n",
       "          const frame = document.getElementById(\"tensorboard-frame-2ae085f9ad82d866\");\n",
       "          const url = new URL(\"/\", window.location);\n",
       "          const port = 8888;\n",
       "          if (port) {\n",
       "            url.port = port;\n",
       "          }\n",
       "          frame.src = url;\n",
       "        })();\n",
       "      </script>\n",
       "    "
      ],
      "text/plain": [
       "<IPython.core.display.HTML object>"
      ]
     },
     "metadata": {},
     "output_type": "display_data"
    }
   ],
   "source": [
    "%load_ext tensorboard\n",
    "%tensorboard --logdir ./lightning_logs --port=8888"
   ]
  },
  {
   "cell_type": "code",
   "execution_count": 19,
   "id": "d8c37852",
   "metadata": {},
   "outputs": [
    {
     "name": "stderr",
     "output_type": "stream",
     "text": [
      "GPU available: True, used: True\n",
      "TPU available: False, using: 0 TPU cores\n",
      "IPU available: False, using: 0 IPUs\n"
     ]
    }
   ],
   "source": [
    "checkpoint_callback = ModelCheckpoint(\n",
    "    dirpath=\"checkpoints\",\n",
    "    filename=\"best-checkpoint40x80\",\n",
    "    save_top_k=1,\n",
    "    verbose=True,\n",
    "    monitor=\"val_loss\",\n",
    "    mode=\"min\"\n",
    ")\n",
    "\n",
    "logger = TensorBoardLogger(\"lightning_logs\", name=\"Drowsy\")\n",
    "\n",
    "trainer = pl.Trainer(\n",
    "    logger=logger,\n",
    "    callbacks=[checkpoint_callback],\n",
    "    max_epochs=N_EPOCHS,\n",
    "    gpus=[0],\n",
    "#     progress_bar_refresh_rate=20\n",
    ")"
   ]
  },
  {
   "cell_type": "markdown",
   "id": "5e873477",
   "metadata": {},
   "source": [
    "## Training "
   ]
  },
  {
   "cell_type": "code",
   "execution_count": 20,
   "id": "334f7007",
   "metadata": {
    "scrolled": true
   },
   "outputs": [
    {
     "name": "stderr",
     "output_type": "stream",
     "text": [
      "LOCAL_RANK: 0 - CUDA_VISIBLE_DEVICES: [0,1]\n",
      "\n",
      "  | Name      | Type             | Params\n",
      "-----------------------------------------------\n",
      "0 | model     | DrowsyModel      | 1.4 M \n",
      "1 | criterion | CrossEntropyLoss | 0     \n",
      "-----------------------------------------------\n",
      "1.4 M     Trainable params\n",
      "0         Non-trainable params\n",
      "1.4 M     Total params\n",
      "5.429     Total estimated model params size (MB)\n",
      "/usr/local/lib/python3.6/dist-packages/pytorch_lightning/callbacks/model_checkpoint.py:623: UserWarning: Checkpoint directory /Workspace/code/checkpoints exists and is not empty.\n",
      "  rank_zero_warn(f\"Checkpoint directory {dirpath} exists and is not empty.\")\n"
     ]
    },
    {
     "name": "stdout",
     "output_type": "stream",
     "text": [
      "Epoch 0:  89%|████████▊ | 141/159 [00:59<00:07,  2.38it/s, loss=0.651, v_num=15, train_loss=0.651, train_accuracy=0.603]\n",
      "Validating: 0it [00:00, ?it/s]\u001b[A\n",
      "Validating:   0%|          | 0/18 [00:00<?, ?it/s]\u001b[A\n",
      "Epoch 0:  90%|████████▉ | 143/159 [01:01<00:06,  2.32it/s, loss=0.651, v_num=15, train_loss=0.651, train_accuracy=0.603]\n",
      "Epoch 0:  91%|█████████ | 145/159 [01:01<00:05,  2.34it/s, loss=0.651, v_num=15, train_loss=0.651, train_accuracy=0.603]\n",
      "Epoch 0:  92%|█████████▏| 147/159 [01:02<00:05,  2.37it/s, loss=0.651, v_num=15, train_loss=0.651, train_accuracy=0.603]\n",
      "Epoch 0:  94%|█████████▎| 149/159 [01:02<00:04,  2.39it/s, loss=0.651, v_num=15, train_loss=0.651, train_accuracy=0.603]\n",
      "Epoch 0:  95%|█████████▍| 151/159 [01:02<00:03,  2.42it/s, loss=0.651, v_num=15, train_loss=0.651, train_accuracy=0.603]\n",
      "Epoch 0:  96%|█████████▌| 153/159 [01:02<00:02,  2.44it/s, loss=0.651, v_num=15, train_loss=0.651, train_accuracy=0.603]\n",
      "Epoch 0:  97%|█████████▋| 155/159 [01:02<00:01,  2.47it/s, loss=0.651, v_num=15, train_loss=0.651, train_accuracy=0.603]\n",
      "Epoch 0:  99%|█████████▊| 157/159 [01:03<00:00,  2.49it/s, loss=0.651, v_num=15, train_loss=0.651, train_accuracy=0.603]\n",
      "Epoch 0: 100%|██████████| 159/159 [01:03<00:00,  2.51it/s, loss=0.651, v_num=15, train_loss=0.651, train_accuracy=0.603]\n",
      "Epoch 0: 100%|██████████| 159/159 [01:03<00:00,  2.50it/s, loss=0.651, v_num=15, train_loss=0.651, train_accuracy=0.603, val_loss=0.649, val_accuracy=0.595]\n",
      "                                                           \u001b[A"
     ]
    },
    {
     "name": "stderr",
     "output_type": "stream",
     "text": [
      "Epoch 0, global step 140: val_loss reached 0.64902 (best 0.64902), saving model to \"/Workspace/code/checkpoints/best-checkpoint40x80.ckpt\" as top 1\n"
     ]
    },
    {
     "name": "stdout",
     "output_type": "stream",
     "text": [
      "Epoch 1:  89%|████████▉ | 142/159 [00:59<00:07,  2.37it/s, loss=0.549, v_num=15, train_loss=0.551, train_accuracy=0.735, val_loss=0.649, val_accuracy=0.595]\n",
      "Validating: 0it [00:00, ?it/s]\u001b[A\n",
      "Validating:   0%|          | 0/18 [00:00<?, ?it/s]\u001b[A\n",
      "Epoch 1:  91%|█████████ | 144/159 [01:02<00:06,  2.30it/s, loss=0.549, v_num=15, train_loss=0.551, train_accuracy=0.735, val_loss=0.649, val_accuracy=0.595]\n",
      "Validating:  17%|█▋        | 3/18 [00:02<00:11,  1.32it/s]\u001b[A\n",
      "Epoch 1:  92%|█████████▏| 146/159 [01:02<00:05,  2.32it/s, loss=0.549, v_num=15, train_loss=0.551, train_accuracy=0.735, val_loss=0.649, val_accuracy=0.595]\n",
      "Epoch 1:  93%|█████████▎| 148/159 [01:02<00:04,  2.35it/s, loss=0.549, v_num=15, train_loss=0.551, train_accuracy=0.735, val_loss=0.649, val_accuracy=0.595]\n",
      "Epoch 1:  94%|█████████▍| 150/159 [01:03<00:03,  2.38it/s, loss=0.549, v_num=15, train_loss=0.551, train_accuracy=0.735, val_loss=0.649, val_accuracy=0.595]\n",
      "Epoch 1:  96%|█████████▌| 152/159 [01:03<00:02,  2.40it/s, loss=0.549, v_num=15, train_loss=0.551, train_accuracy=0.735, val_loss=0.649, val_accuracy=0.595]\n",
      "Epoch 1:  97%|█████████▋| 154/159 [01:03<00:02,  2.42it/s, loss=0.549, v_num=15, train_loss=0.551, train_accuracy=0.735, val_loss=0.649, val_accuracy=0.595]\n",
      "Epoch 1:  98%|█████████▊| 156/159 [01:03<00:01,  2.45it/s, loss=0.549, v_num=15, train_loss=0.551, train_accuracy=0.735, val_loss=0.649, val_accuracy=0.595]\n",
      "Epoch 1:  99%|█████████▉| 158/159 [01:03<00:00,  2.47it/s, loss=0.549, v_num=15, train_loss=0.551, train_accuracy=0.735, val_loss=0.649, val_accuracy=0.595]\n",
      "Epoch 1: 100%|██████████| 159/159 [01:04<00:00,  2.47it/s, loss=0.549, v_num=15, train_loss=0.551, train_accuracy=0.735, val_loss=0.624, val_accuracy=0.699]\n",
      "                                                           \u001b[A"
     ]
    },
    {
     "name": "stderr",
     "output_type": "stream",
     "text": [
      "Epoch 1, global step 281: val_loss reached 0.62376 (best 0.62376), saving model to \"/Workspace/code/checkpoints/best-checkpoint40x80.ckpt\" as top 1\n"
     ]
    },
    {
     "name": "stdout",
     "output_type": "stream",
     "text": [
      "Epoch 2:  89%|████████▉ | 142/159 [00:59<00:07,  2.37it/s, loss=0.568, v_num=15, train_loss=0.469, train_accuracy=0.779, val_loss=0.624, val_accuracy=0.699]\n",
      "Validating: 0it [00:00, ?it/s]\u001b[A\n",
      "Validating:   0%|          | 0/18 [00:00<?, ?it/s]\u001b[A\n",
      "Epoch 2:  91%|█████████ | 144/159 [01:02<00:06,  2.30it/s, loss=0.568, v_num=15, train_loss=0.469, train_accuracy=0.779, val_loss=0.624, val_accuracy=0.699]\n",
      "Epoch 2:  92%|█████████▏| 146/159 [01:02<00:05,  2.32it/s, loss=0.568, v_num=15, train_loss=0.469, train_accuracy=0.779, val_loss=0.624, val_accuracy=0.699]\n",
      "Epoch 2:  93%|█████████▎| 148/159 [01:03<00:04,  2.35it/s, loss=0.568, v_num=15, train_loss=0.469, train_accuracy=0.779, val_loss=0.624, val_accuracy=0.699]\n",
      "Epoch 2:  94%|█████████▍| 150/159 [01:03<00:03,  2.37it/s, loss=0.568, v_num=15, train_loss=0.469, train_accuracy=0.779, val_loss=0.624, val_accuracy=0.699]\n",
      "Epoch 2:  96%|█████████▌| 152/159 [01:03<00:02,  2.40it/s, loss=0.568, v_num=15, train_loss=0.469, train_accuracy=0.779, val_loss=0.624, val_accuracy=0.699]\n",
      "Epoch 2:  97%|█████████▋| 154/159 [01:03<00:02,  2.42it/s, loss=0.568, v_num=15, train_loss=0.469, train_accuracy=0.779, val_loss=0.624, val_accuracy=0.699]\n",
      "Epoch 2:  98%|█████████▊| 156/159 [01:03<00:01,  2.45it/s, loss=0.568, v_num=15, train_loss=0.469, train_accuracy=0.779, val_loss=0.624, val_accuracy=0.699]\n",
      "Epoch 2:  99%|█████████▉| 158/159 [01:03<00:00,  2.47it/s, loss=0.568, v_num=15, train_loss=0.469, train_accuracy=0.779, val_loss=0.624, val_accuracy=0.699]\n",
      "Epoch 2: 100%|██████████| 159/159 [01:04<00:00,  2.47it/s, loss=0.568, v_num=15, train_loss=0.469, train_accuracy=0.779, val_loss=0.546, val_accuracy=0.744]\n",
      "                                                           \u001b[A"
     ]
    },
    {
     "name": "stderr",
     "output_type": "stream",
     "text": [
      "Epoch 2, global step 422: val_loss reached 0.54608 (best 0.54608), saving model to \"/Workspace/code/checkpoints/best-checkpoint40x80.ckpt\" as top 1\n"
     ]
    },
    {
     "name": "stdout",
     "output_type": "stream",
     "text": [
      "Epoch 3:  89%|████████▉ | 142/159 [00:59<00:07,  2.37it/s, loss=0.575, v_num=15, train_loss=0.669, train_accuracy=0.647, val_loss=0.546, val_accuracy=0.744]\n",
      "Validating: 0it [00:00, ?it/s]\u001b[A\n",
      "Validating:   0%|          | 0/18 [00:00<?, ?it/s]\u001b[A\n",
      "Epoch 3:  91%|█████████ | 144/159 [01:02<00:06,  2.29it/s, loss=0.575, v_num=15, train_loss=0.669, train_accuracy=0.647, val_loss=0.546, val_accuracy=0.744]\n",
      "Epoch 3:  92%|█████████▏| 146/159 [01:03<00:05,  2.32it/s, loss=0.575, v_num=15, train_loss=0.669, train_accuracy=0.647, val_loss=0.546, val_accuracy=0.744]\n",
      "Epoch 3:  93%|█████████▎| 148/159 [01:03<00:04,  2.34it/s, loss=0.575, v_num=15, train_loss=0.669, train_accuracy=0.647, val_loss=0.546, val_accuracy=0.744]\n",
      "Epoch 3:  94%|█████████▍| 150/159 [01:03<00:03,  2.37it/s, loss=0.575, v_num=15, train_loss=0.669, train_accuracy=0.647, val_loss=0.546, val_accuracy=0.744]\n",
      "Epoch 3:  96%|█████████▌| 152/159 [01:03<00:02,  2.39it/s, loss=0.575, v_num=15, train_loss=0.669, train_accuracy=0.647, val_loss=0.546, val_accuracy=0.744]\n",
      "Epoch 3:  97%|█████████▋| 154/159 [01:03<00:02,  2.42it/s, loss=0.575, v_num=15, train_loss=0.669, train_accuracy=0.647, val_loss=0.546, val_accuracy=0.744]\n",
      "Epoch 3:  98%|█████████▊| 156/159 [01:03<00:01,  2.44it/s, loss=0.575, v_num=15, train_loss=0.669, train_accuracy=0.647, val_loss=0.546, val_accuracy=0.744]\n",
      "Epoch 3:  99%|█████████▉| 158/159 [01:04<00:00,  2.46it/s, loss=0.575, v_num=15, train_loss=0.669, train_accuracy=0.647, val_loss=0.546, val_accuracy=0.744]\n",
      "Epoch 3: 100%|██████████| 159/159 [01:04<00:00,  2.46it/s, loss=0.575, v_num=15, train_loss=0.669, train_accuracy=0.647, val_loss=0.641, val_accuracy=0.649]\n",
      "                                                           \u001b[A"
     ]
    },
    {
     "name": "stderr",
     "output_type": "stream",
     "text": [
      "Epoch 3, global step 563: val_loss was not in top 1\n"
     ]
    },
    {
     "name": "stdout",
     "output_type": "stream",
     "text": [
      "Epoch 4:  89%|████████▉ | 142/159 [00:59<00:07,  2.37it/s, loss=0.507, v_num=15, train_loss=0.431, train_accuracy=0.824, val_loss=0.641, val_accuracy=0.649]\n",
      "Validating: 0it [00:00, ?it/s]\u001b[A\n",
      "Validating:   0%|          | 0/18 [00:00<?, ?it/s]\u001b[A\n",
      "Validating:   6%|▌         | 1/18 [00:02<00:45,  2.70s/it]\u001b[A\n",
      "Epoch 4:  91%|█████████ | 144/159 [01:02<00:06,  2.29it/s, loss=0.507, v_num=15, train_loss=0.431, train_accuracy=0.824, val_loss=0.641, val_accuracy=0.649]\n",
      "Epoch 4:  92%|█████████▏| 146/159 [01:02<00:05,  2.32it/s, loss=0.507, v_num=15, train_loss=0.431, train_accuracy=0.824, val_loss=0.641, val_accuracy=0.649]\n",
      "Epoch 4:  93%|█████████▎| 148/159 [01:03<00:04,  2.34it/s, loss=0.507, v_num=15, train_loss=0.431, train_accuracy=0.824, val_loss=0.641, val_accuracy=0.649]\n",
      "Epoch 4:  94%|█████████▍| 150/159 [01:03<00:03,  2.37it/s, loss=0.507, v_num=15, train_loss=0.431, train_accuracy=0.824, val_loss=0.641, val_accuracy=0.649]\n",
      "Epoch 4:  96%|█████████▌| 152/159 [01:03<00:02,  2.39it/s, loss=0.507, v_num=15, train_loss=0.431, train_accuracy=0.824, val_loss=0.641, val_accuracy=0.649]\n",
      "Epoch 4:  97%|█████████▋| 154/159 [01:03<00:02,  2.42it/s, loss=0.507, v_num=15, train_loss=0.431, train_accuracy=0.824, val_loss=0.641, val_accuracy=0.649]\n",
      "Epoch 4:  98%|█████████▊| 156/159 [01:03<00:01,  2.44it/s, loss=0.507, v_num=15, train_loss=0.431, train_accuracy=0.824, val_loss=0.641, val_accuracy=0.649]\n",
      "Epoch 4:  99%|█████████▉| 158/159 [01:04<00:00,  2.47it/s, loss=0.507, v_num=15, train_loss=0.431, train_accuracy=0.824, val_loss=0.641, val_accuracy=0.649]\n",
      "Epoch 4: 100%|██████████| 159/159 [01:04<00:00,  2.46it/s, loss=0.507, v_num=15, train_loss=0.431, train_accuracy=0.824, val_loss=0.529, val_accuracy=0.756]\n",
      "                                                           \u001b[A"
     ]
    },
    {
     "name": "stderr",
     "output_type": "stream",
     "text": [
      "Epoch 4, global step 704: val_loss reached 0.52917 (best 0.52917), saving model to \"/Workspace/code/checkpoints/best-checkpoint40x80.ckpt\" as top 1\n"
     ]
    },
    {
     "name": "stdout",
     "output_type": "stream",
     "text": [
      "Epoch 5:  89%|████████▉ | 142/159 [01:00<00:07,  2.36it/s, loss=0.474, v_num=15, train_loss=0.474, train_accuracy=0.779, val_loss=0.529, val_accuracy=0.756]\n",
      "Validating: 0it [00:00, ?it/s]\u001b[A\n",
      "Validating:   0%|          | 0/18 [00:00<?, ?it/s]\u001b[A\n",
      "Epoch 5:  91%|█████████ | 144/159 [01:02<00:06,  2.29it/s, loss=0.474, v_num=15, train_loss=0.474, train_accuracy=0.779, val_loss=0.529, val_accuracy=0.756]\n",
      "Epoch 5:  92%|█████████▏| 146/159 [01:03<00:05,  2.31it/s, loss=0.474, v_num=15, train_loss=0.474, train_accuracy=0.779, val_loss=0.529, val_accuracy=0.756]\n",
      "Epoch 5:  93%|█████████▎| 148/159 [01:03<00:04,  2.34it/s, loss=0.474, v_num=15, train_loss=0.474, train_accuracy=0.779, val_loss=0.529, val_accuracy=0.756]\n",
      "Epoch 5:  94%|█████████▍| 150/159 [01:03<00:03,  2.36it/s, loss=0.474, v_num=15, train_loss=0.474, train_accuracy=0.779, val_loss=0.529, val_accuracy=0.756]\n",
      "Epoch 5:  96%|█████████▌| 152/159 [01:03<00:02,  2.39it/s, loss=0.474, v_num=15, train_loss=0.474, train_accuracy=0.779, val_loss=0.529, val_accuracy=0.756]\n",
      "Epoch 5:  97%|█████████▋| 154/159 [01:03<00:02,  2.41it/s, loss=0.474, v_num=15, train_loss=0.474, train_accuracy=0.779, val_loss=0.529, val_accuracy=0.756]\n",
      "Epoch 5:  98%|█████████▊| 156/159 [01:03<00:01,  2.44it/s, loss=0.474, v_num=15, train_loss=0.474, train_accuracy=0.779, val_loss=0.529, val_accuracy=0.756]\n",
      "Epoch 5:  99%|█████████▉| 158/159 [01:04<00:00,  2.46it/s, loss=0.474, v_num=15, train_loss=0.474, train_accuracy=0.779, val_loss=0.529, val_accuracy=0.756]\n",
      "Epoch 5: 100%|██████████| 159/159 [01:04<00:00,  2.46it/s, loss=0.474, v_num=15, train_loss=0.474, train_accuracy=0.779, val_loss=0.481, val_accuracy=0.786]\n",
      "                                                           \u001b[A"
     ]
    },
    {
     "name": "stderr",
     "output_type": "stream",
     "text": [
      "Epoch 5, global step 845: val_loss reached 0.48116 (best 0.48116), saving model to \"/Workspace/code/checkpoints/best-checkpoint40x80.ckpt\" as top 1\n"
     ]
    },
    {
     "name": "stdout",
     "output_type": "stream",
     "text": [
      "Epoch 6:  89%|████████▉ | 142/159 [01:00<00:07,  2.36it/s, loss=0.422, v_num=15, train_loss=0.337, train_accuracy=0.853, val_loss=0.481, val_accuracy=0.786]\n",
      "Validating: 0it [00:00, ?it/s]\u001b[A\n",
      "Validating:   0%|          | 0/18 [00:00<?, ?it/s]\u001b[A\n",
      "Epoch 6:  91%|█████████ | 144/159 [01:03<00:06,  2.28it/s, loss=0.422, v_num=15, train_loss=0.337, train_accuracy=0.853, val_loss=0.481, val_accuracy=0.786]\n",
      "Epoch 6:  92%|█████████▏| 146/159 [01:03<00:05,  2.31it/s, loss=0.422, v_num=15, train_loss=0.337, train_accuracy=0.853, val_loss=0.481, val_accuracy=0.786]\n",
      "Epoch 6:  93%|█████████▎| 148/159 [01:03<00:04,  2.33it/s, loss=0.422, v_num=15, train_loss=0.337, train_accuracy=0.853, val_loss=0.481, val_accuracy=0.786]\n",
      "Epoch 6:  94%|█████████▍| 150/159 [01:03<00:03,  2.36it/s, loss=0.422, v_num=15, train_loss=0.337, train_accuracy=0.853, val_loss=0.481, val_accuracy=0.786]\n",
      "Epoch 6:  96%|█████████▌| 152/159 [01:03<00:02,  2.38it/s, loss=0.422, v_num=15, train_loss=0.337, train_accuracy=0.853, val_loss=0.481, val_accuracy=0.786]\n",
      "Epoch 6:  97%|█████████▋| 154/159 [01:03<00:02,  2.41it/s, loss=0.422, v_num=15, train_loss=0.337, train_accuracy=0.853, val_loss=0.481, val_accuracy=0.786]\n",
      "Epoch 6:  98%|█████████▊| 156/159 [01:04<00:01,  2.43it/s, loss=0.422, v_num=15, train_loss=0.337, train_accuracy=0.853, val_loss=0.481, val_accuracy=0.786]\n",
      "Epoch 6:  99%|█████████▉| 158/159 [01:04<00:00,  2.46it/s, loss=0.422, v_num=15, train_loss=0.337, train_accuracy=0.853, val_loss=0.481, val_accuracy=0.786]\n",
      "Epoch 6: 100%|██████████| 159/159 [01:04<00:00,  2.45it/s, loss=0.422, v_num=15, train_loss=0.337, train_accuracy=0.853, val_loss=0.508, val_accuracy=0.781]\n",
      "                                                           \u001b[A"
     ]
    },
    {
     "name": "stderr",
     "output_type": "stream",
     "text": [
      "Epoch 6, global step 986: val_loss was not in top 1\n"
     ]
    },
    {
     "name": "stdout",
     "output_type": "stream",
     "text": [
      "Epoch 7:  89%|████████▉ | 142/159 [01:00<00:07,  2.36it/s, loss=0.578, v_num=15, train_loss=0.634, train_accuracy=0.706, val_loss=0.508, val_accuracy=0.781]\n",
      "Validating: 0it [00:00, ?it/s]\u001b[A\n",
      "Validating:   0%|          | 0/18 [00:00<?, ?it/s]\u001b[A\n",
      "Epoch 7:  91%|█████████ | 144/159 [01:02<00:06,  2.29it/s, loss=0.578, v_num=15, train_loss=0.634, train_accuracy=0.706, val_loss=0.508, val_accuracy=0.781]\n",
      "Validating:  17%|█▋        | 3/18 [00:02<00:11,  1.29it/s]\u001b[A\n",
      "Epoch 7:  92%|█████████▏| 146/159 [01:03<00:05,  2.31it/s, loss=0.578, v_num=15, train_loss=0.634, train_accuracy=0.706, val_loss=0.508, val_accuracy=0.781]\n",
      "Epoch 7:  93%|█████████▎| 148/159 [01:03<00:04,  2.34it/s, loss=0.578, v_num=15, train_loss=0.634, train_accuracy=0.706, val_loss=0.508, val_accuracy=0.781]\n",
      "Epoch 7:  94%|█████████▍| 150/159 [01:03<00:03,  2.36it/s, loss=0.578, v_num=15, train_loss=0.634, train_accuracy=0.706, val_loss=0.508, val_accuracy=0.781]\n",
      "Epoch 7:  96%|█████████▌| 152/159 [01:03<00:02,  2.39it/s, loss=0.578, v_num=15, train_loss=0.634, train_accuracy=0.706, val_loss=0.508, val_accuracy=0.781]\n",
      "Epoch 7:  97%|█████████▋| 154/159 [01:03<00:02,  2.41it/s, loss=0.578, v_num=15, train_loss=0.634, train_accuracy=0.706, val_loss=0.508, val_accuracy=0.781]\n",
      "Epoch 7:  98%|█████████▊| 156/159 [01:04<00:01,  2.44it/s, loss=0.578, v_num=15, train_loss=0.634, train_accuracy=0.706, val_loss=0.508, val_accuracy=0.781]\n",
      "Epoch 7:  99%|█████████▉| 158/159 [01:04<00:00,  2.46it/s, loss=0.578, v_num=15, train_loss=0.634, train_accuracy=0.706, val_loss=0.508, val_accuracy=0.781]\n",
      "Epoch 7: 100%|██████████| 159/159 [01:04<00:00,  2.46it/s, loss=0.578, v_num=15, train_loss=0.634, train_accuracy=0.706, val_loss=0.634, val_accuracy=0.742]\n",
      "                                                           \u001b[A"
     ]
    },
    {
     "name": "stderr",
     "output_type": "stream",
     "text": [
      "Epoch 7, global step 1127: val_loss was not in top 1\n"
     ]
    },
    {
     "name": "stdout",
     "output_type": "stream",
     "text": [
      "Epoch 8:  89%|████████▉ | 142/159 [01:00<00:07,  2.36it/s, loss=0.405, v_num=15, train_loss=0.527, train_accuracy=0.750, val_loss=0.634, val_accuracy=0.742]\n",
      "Validating: 0it [00:00, ?it/s]\u001b[A\n",
      "Validating:   0%|          | 0/18 [00:00<?, ?it/s]\u001b[A\n",
      "Epoch 8:  91%|█████████ | 144/159 [01:02<00:06,  2.29it/s, loss=0.405, v_num=15, train_loss=0.527, train_accuracy=0.750, val_loss=0.634, val_accuracy=0.742]\n",
      "Epoch 8:  92%|█████████▏| 146/159 [01:03<00:05,  2.31it/s, loss=0.405, v_num=15, train_loss=0.527, train_accuracy=0.750, val_loss=0.634, val_accuracy=0.742]\n",
      "Epoch 8:  93%|█████████▎| 148/159 [01:03<00:04,  2.34it/s, loss=0.405, v_num=15, train_loss=0.527, train_accuracy=0.750, val_loss=0.634, val_accuracy=0.742]\n",
      "Epoch 8:  94%|█████████▍| 150/159 [01:03<00:03,  2.36it/s, loss=0.405, v_num=15, train_loss=0.527, train_accuracy=0.750, val_loss=0.634, val_accuracy=0.742]\n",
      "Epoch 8:  96%|█████████▌| 152/159 [01:03<00:02,  2.39it/s, loss=0.405, v_num=15, train_loss=0.527, train_accuracy=0.750, val_loss=0.634, val_accuracy=0.742]\n",
      "Epoch 8:  97%|█████████▋| 154/159 [01:03<00:02,  2.41it/s, loss=0.405, v_num=15, train_loss=0.527, train_accuracy=0.750, val_loss=0.634, val_accuracy=0.742]\n",
      "Epoch 8:  98%|█████████▊| 156/159 [01:04<00:01,  2.44it/s, loss=0.405, v_num=15, train_loss=0.527, train_accuracy=0.750, val_loss=0.634, val_accuracy=0.742]\n",
      "Epoch 8:  99%|█████████▉| 158/159 [01:04<00:00,  2.46it/s, loss=0.405, v_num=15, train_loss=0.527, train_accuracy=0.750, val_loss=0.634, val_accuracy=0.742]\n",
      "Epoch 8: 100%|██████████| 159/159 [01:04<00:00,  2.46it/s, loss=0.405, v_num=15, train_loss=0.527, train_accuracy=0.750, val_loss=0.461, val_accuracy=0.789]\n",
      "                                                           \u001b[A"
     ]
    },
    {
     "name": "stderr",
     "output_type": "stream",
     "text": [
      "Epoch 8, global step 1268: val_loss reached 0.46085 (best 0.46085), saving model to \"/Workspace/code/checkpoints/best-checkpoint40x80.ckpt\" as top 1\n"
     ]
    },
    {
     "name": "stdout",
     "output_type": "stream",
     "text": [
      "Epoch 9:  89%|████████▉ | 142/159 [01:00<00:07,  2.36it/s, loss=0.491, v_num=15, train_loss=0.432, train_accuracy=0.765, val_loss=0.461, val_accuracy=0.789]\n",
      "Validating: 0it [00:00, ?it/s]\u001b[A\n",
      "Validating:   0%|          | 0/18 [00:00<?, ?it/s]\u001b[A\n",
      "Epoch 9:  91%|█████████ | 144/159 [01:03<00:06,  2.28it/s, loss=0.491, v_num=15, train_loss=0.432, train_accuracy=0.765, val_loss=0.461, val_accuracy=0.789]\n",
      "Epoch 9:  92%|█████████▏| 146/159 [01:03<00:05,  2.31it/s, loss=0.491, v_num=15, train_loss=0.432, train_accuracy=0.765, val_loss=0.461, val_accuracy=0.789]\n",
      "Epoch 9:  93%|█████████▎| 148/159 [01:03<00:04,  2.33it/s, loss=0.491, v_num=15, train_loss=0.432, train_accuracy=0.765, val_loss=0.461, val_accuracy=0.789]\n",
      "Epoch 9:  94%|█████████▍| 150/159 [01:03<00:03,  2.36it/s, loss=0.491, v_num=15, train_loss=0.432, train_accuracy=0.765, val_loss=0.461, val_accuracy=0.789]\n",
      "Epoch 9:  96%|█████████▌| 152/159 [01:03<00:02,  2.38it/s, loss=0.491, v_num=15, train_loss=0.432, train_accuracy=0.765, val_loss=0.461, val_accuracy=0.789]\n",
      "Epoch 9:  97%|█████████▋| 154/159 [01:04<00:02,  2.40it/s, loss=0.491, v_num=15, train_loss=0.432, train_accuracy=0.765, val_loss=0.461, val_accuracy=0.789]\n",
      "Epoch 9:  98%|█████████▊| 156/159 [01:04<00:01,  2.43it/s, loss=0.491, v_num=15, train_loss=0.432, train_accuracy=0.765, val_loss=0.461, val_accuracy=0.789]\n",
      "Epoch 9:  99%|█████████▉| 158/159 [01:04<00:00,  2.45it/s, loss=0.491, v_num=15, train_loss=0.432, train_accuracy=0.765, val_loss=0.461, val_accuracy=0.789]\n",
      "Epoch 9: 100%|██████████| 159/159 [01:04<00:00,  2.45it/s, loss=0.491, v_num=15, train_loss=0.432, train_accuracy=0.765, val_loss=0.518, val_accuracy=0.737]\n",
      "                                                           \u001b[A"
     ]
    },
    {
     "name": "stderr",
     "output_type": "stream",
     "text": [
      "Epoch 9, global step 1409: val_loss was not in top 1\n"
     ]
    },
    {
     "name": "stdout",
     "output_type": "stream",
     "text": [
      "Epoch 10:  89%|████████▉ | 142/159 [01:00<00:07,  2.36it/s, loss=0.366, v_num=15, train_loss=0.398, train_accuracy=0.853, val_loss=0.518, val_accuracy=0.737]\n",
      "Validating: 0it [00:00, ?it/s]\u001b[A\n",
      "Validating:   0%|          | 0/18 [00:00<?, ?it/s]\u001b[A\n",
      "Validating:   6%|▌         | 1/18 [00:02<00:46,  2.76s/it]\u001b[A\n",
      "Epoch 10:  91%|█████████ | 144/159 [01:03<00:06,  2.28it/s, loss=0.366, v_num=15, train_loss=0.398, train_accuracy=0.853, val_loss=0.518, val_accuracy=0.737]\n",
      "Epoch 10:  92%|█████████▏| 146/159 [01:03<00:05,  2.31it/s, loss=0.366, v_num=15, train_loss=0.398, train_accuracy=0.853, val_loss=0.518, val_accuracy=0.737]\n",
      "Epoch 10:  93%|█████████▎| 148/159 [01:03<00:04,  2.33it/s, loss=0.366, v_num=15, train_loss=0.398, train_accuracy=0.853, val_loss=0.518, val_accuracy=0.737]\n",
      "Epoch 10:  94%|█████████▍| 150/159 [01:03<00:03,  2.36it/s, loss=0.366, v_num=15, train_loss=0.398, train_accuracy=0.853, val_loss=0.518, val_accuracy=0.737]\n",
      "Epoch 10:  96%|█████████▌| 152/159 [01:03<00:02,  2.38it/s, loss=0.366, v_num=15, train_loss=0.398, train_accuracy=0.853, val_loss=0.518, val_accuracy=0.737]\n",
      "Epoch 10:  97%|█████████▋| 154/159 [01:04<00:02,  2.41it/s, loss=0.366, v_num=15, train_loss=0.398, train_accuracy=0.853, val_loss=0.518, val_accuracy=0.737]\n",
      "Epoch 10:  98%|█████████▊| 156/159 [01:04<00:01,  2.43it/s, loss=0.366, v_num=15, train_loss=0.398, train_accuracy=0.853, val_loss=0.518, val_accuracy=0.737]\n",
      "Epoch 10:  99%|█████████▉| 158/159 [01:04<00:00,  2.45it/s, loss=0.366, v_num=15, train_loss=0.398, train_accuracy=0.853, val_loss=0.518, val_accuracy=0.737]\n",
      "Epoch 10: 100%|██████████| 159/159 [01:04<00:00,  2.45it/s, loss=0.366, v_num=15, train_loss=0.398, train_accuracy=0.853, val_loss=0.453, val_accuracy=0.806]\n",
      "                                                           \u001b[A"
     ]
    },
    {
     "name": "stderr",
     "output_type": "stream",
     "text": [
      "Epoch 10, global step 1550: val_loss reached 0.45324 (best 0.45324), saving model to \"/Workspace/code/checkpoints/best-checkpoint40x80.ckpt\" as top 1\n"
     ]
    },
    {
     "name": "stdout",
     "output_type": "stream",
     "text": [
      "Epoch 11:  89%|████████▉ | 142/159 [01:00<00:07,  2.35it/s, loss=0.336, v_num=15, train_loss=0.278, train_accuracy=0.882, val_loss=0.453, val_accuracy=0.806]\n",
      "Validating: 0it [00:00, ?it/s]\u001b[A\n",
      "Validating:   0%|          | 0/18 [00:00<?, ?it/s]\u001b[A\n",
      "Validating:   6%|▌         | 1/18 [00:02<00:47,  2.77s/it]\u001b[A\n",
      "Epoch 11:  91%|█████████ | 144/159 [01:03<00:06,  2.28it/s, loss=0.336, v_num=15, train_loss=0.278, train_accuracy=0.882, val_loss=0.453, val_accuracy=0.806]\n",
      "Epoch 11:  92%|█████████▏| 146/159 [01:03<00:05,  2.30it/s, loss=0.336, v_num=15, train_loss=0.278, train_accuracy=0.882, val_loss=0.453, val_accuracy=0.806]\n",
      "Epoch 11:  93%|█████████▎| 148/159 [01:03<00:04,  2.33it/s, loss=0.336, v_num=15, train_loss=0.278, train_accuracy=0.882, val_loss=0.453, val_accuracy=0.806]\n",
      "Epoch 11:  94%|█████████▍| 150/159 [01:03<00:03,  2.35it/s, loss=0.336, v_num=15, train_loss=0.278, train_accuracy=0.882, val_loss=0.453, val_accuracy=0.806]\n",
      "Epoch 11:  96%|█████████▌| 152/159 [01:04<00:02,  2.37it/s, loss=0.336, v_num=15, train_loss=0.278, train_accuracy=0.882, val_loss=0.453, val_accuracy=0.806]\n",
      "Epoch 11:  97%|█████████▋| 154/159 [01:04<00:02,  2.40it/s, loss=0.336, v_num=15, train_loss=0.278, train_accuracy=0.882, val_loss=0.453, val_accuracy=0.806]\n",
      "Epoch 11:  98%|█████████▊| 156/159 [01:04<00:01,  2.42it/s, loss=0.336, v_num=15, train_loss=0.278, train_accuracy=0.882, val_loss=0.453, val_accuracy=0.806]\n",
      "Epoch 11:  99%|█████████▉| 158/159 [01:04<00:00,  2.45it/s, loss=0.336, v_num=15, train_loss=0.278, train_accuracy=0.882, val_loss=0.453, val_accuracy=0.806]\n",
      "Epoch 11: 100%|██████████| 159/159 [01:05<00:00,  2.44it/s, loss=0.336, v_num=15, train_loss=0.278, train_accuracy=0.882, val_loss=0.432, val_accuracy=0.823]\n",
      "                                                           \u001b[A"
     ]
    },
    {
     "name": "stderr",
     "output_type": "stream",
     "text": [
      "Epoch 11, global step 1691: val_loss reached 0.43211 (best 0.43211), saving model to \"/Workspace/code/checkpoints/best-checkpoint40x80.ckpt\" as top 1\n"
     ]
    },
    {
     "name": "stdout",
     "output_type": "stream",
     "text": [
      "Epoch 12:  89%|████████▉ | 142/159 [01:00<00:07,  2.37it/s, loss=0.355, v_num=15, train_loss=0.351, train_accuracy=0.853, val_loss=0.432, val_accuracy=0.823]\n",
      "Validating: 0it [00:00, ?it/s]\u001b[A\n",
      "Validating:   0%|          | 0/18 [00:00<?, ?it/s]\u001b[A\n",
      "Epoch 12:  91%|█████████ | 144/159 [01:02<00:06,  2.29it/s, loss=0.355, v_num=15, train_loss=0.351, train_accuracy=0.853, val_loss=0.432, val_accuracy=0.823]\n",
      "Epoch 12:  92%|█████████▏| 146/159 [01:03<00:05,  2.32it/s, loss=0.355, v_num=15, train_loss=0.351, train_accuracy=0.853, val_loss=0.432, val_accuracy=0.823]\n",
      "Epoch 12:  93%|█████████▎| 148/159 [01:03<00:04,  2.34it/s, loss=0.355, v_num=15, train_loss=0.351, train_accuracy=0.853, val_loss=0.432, val_accuracy=0.823]\n",
      "Epoch 12:  94%|█████████▍| 150/159 [01:03<00:03,  2.37it/s, loss=0.355, v_num=15, train_loss=0.351, train_accuracy=0.853, val_loss=0.432, val_accuracy=0.823]\n",
      "Epoch 12:  96%|█████████▌| 152/159 [01:03<00:02,  2.39it/s, loss=0.355, v_num=15, train_loss=0.351, train_accuracy=0.853, val_loss=0.432, val_accuracy=0.823]\n",
      "Epoch 12:  97%|█████████▋| 154/159 [01:03<00:02,  2.41it/s, loss=0.355, v_num=15, train_loss=0.351, train_accuracy=0.853, val_loss=0.432, val_accuracy=0.823]\n",
      "Epoch 12:  98%|█████████▊| 156/159 [01:03<00:01,  2.44it/s, loss=0.355, v_num=15, train_loss=0.351, train_accuracy=0.853, val_loss=0.432, val_accuracy=0.823]\n",
      "Epoch 12:  99%|█████████▉| 158/159 [01:04<00:00,  2.46it/s, loss=0.355, v_num=15, train_loss=0.351, train_accuracy=0.853, val_loss=0.432, val_accuracy=0.823]\n",
      "Epoch 12: 100%|██████████| 159/159 [01:04<00:00,  2.46it/s, loss=0.355, v_num=15, train_loss=0.351, train_accuracy=0.853, val_loss=0.432, val_accuracy=0.811]\n",
      "                                                           \u001b[A"
     ]
    },
    {
     "name": "stderr",
     "output_type": "stream",
     "text": [
      "Epoch 12, global step 1832: val_loss reached 0.43174 (best 0.43174), saving model to \"/Workspace/code/checkpoints/best-checkpoint40x80.ckpt\" as top 1\n"
     ]
    },
    {
     "name": "stdout",
     "output_type": "stream",
     "text": [
      "Epoch 13:  89%|████████▉ | 142/159 [01:00<00:07,  2.35it/s, loss=0.379, v_num=15, train_loss=0.416, train_accuracy=0.794, val_loss=0.432, val_accuracy=0.811]\n",
      "Validating: 0it [00:00, ?it/s]\u001b[A\n",
      "Validating:   0%|          | 0/18 [00:00<?, ?it/s]\u001b[A\n",
      "Validating:   6%|▌         | 1/18 [00:02<00:46,  2.75s/it]\u001b[A\n",
      "Epoch 13:  91%|█████████ | 144/159 [01:03<00:06,  2.27it/s, loss=0.379, v_num=15, train_loss=0.416, train_accuracy=0.794, val_loss=0.432, val_accuracy=0.811]\n",
      "Epoch 13:  92%|█████████▏| 146/159 [01:03<00:05,  2.30it/s, loss=0.379, v_num=15, train_loss=0.416, train_accuracy=0.794, val_loss=0.432, val_accuracy=0.811]\n",
      "Epoch 13:  93%|█████████▎| 148/159 [01:03<00:04,  2.32it/s, loss=0.379, v_num=15, train_loss=0.416, train_accuracy=0.794, val_loss=0.432, val_accuracy=0.811]\n",
      "Epoch 13:  94%|█████████▍| 150/159 [01:03<00:03,  2.35it/s, loss=0.379, v_num=15, train_loss=0.416, train_accuracy=0.794, val_loss=0.432, val_accuracy=0.811]\n",
      "Epoch 13:  96%|█████████▌| 152/159 [01:04<00:02,  2.37it/s, loss=0.379, v_num=15, train_loss=0.416, train_accuracy=0.794, val_loss=0.432, val_accuracy=0.811]\n",
      "Epoch 13:  97%|█████████▋| 154/159 [01:04<00:02,  2.39it/s, loss=0.379, v_num=15, train_loss=0.416, train_accuracy=0.794, val_loss=0.432, val_accuracy=0.811]\n",
      "Epoch 13:  98%|█████████▊| 156/159 [01:04<00:01,  2.42it/s, loss=0.379, v_num=15, train_loss=0.416, train_accuracy=0.794, val_loss=0.432, val_accuracy=0.811]\n",
      "Epoch 13:  99%|█████████▉| 158/159 [01:04<00:00,  2.44it/s, loss=0.379, v_num=15, train_loss=0.416, train_accuracy=0.794, val_loss=0.432, val_accuracy=0.811]\n",
      "Epoch 13: 100%|██████████| 159/159 [01:05<00:00,  2.44it/s, loss=0.379, v_num=15, train_loss=0.416, train_accuracy=0.794, val_loss=0.400, val_accuracy=0.817]\n",
      "                                                           \u001b[A"
     ]
    },
    {
     "name": "stderr",
     "output_type": "stream",
     "text": [
      "Epoch 13, global step 1973: val_loss reached 0.39972 (best 0.39972), saving model to \"/Workspace/code/checkpoints/best-checkpoint40x80.ckpt\" as top 1\n"
     ]
    },
    {
     "name": "stdout",
     "output_type": "stream",
     "text": [
      "Epoch 14:  89%|████████▉ | 142/159 [01:00<00:07,  2.35it/s, loss=0.339, v_num=15, train_loss=0.335, train_accuracy=0.912, val_loss=0.400, val_accuracy=0.817]\n",
      "Validating: 0it [00:00, ?it/s]\u001b[A\n",
      "Validating:   0%|          | 0/18 [00:00<?, ?it/s]\u001b[A\n",
      "Validating:   6%|▌         | 1/18 [00:02<00:47,  2.82s/it]\u001b[A\n",
      "Epoch 14:  91%|█████████ | 144/159 [01:03<00:06,  2.28it/s, loss=0.339, v_num=15, train_loss=0.335, train_accuracy=0.912, val_loss=0.400, val_accuracy=0.817]\n",
      "Epoch 14:  92%|█████████▏| 146/159 [01:03<00:05,  2.30it/s, loss=0.339, v_num=15, train_loss=0.335, train_accuracy=0.912, val_loss=0.400, val_accuracy=0.817]\n",
      "Epoch 14:  93%|█████████▎| 148/159 [01:03<00:04,  2.33it/s, loss=0.339, v_num=15, train_loss=0.335, train_accuracy=0.912, val_loss=0.400, val_accuracy=0.817]\n",
      "Epoch 14:  94%|█████████▍| 150/159 [01:03<00:03,  2.35it/s, loss=0.339, v_num=15, train_loss=0.335, train_accuracy=0.912, val_loss=0.400, val_accuracy=0.817]\n",
      "Epoch 14:  96%|█████████▌| 152/159 [01:03<00:02,  2.38it/s, loss=0.339, v_num=15, train_loss=0.335, train_accuracy=0.912, val_loss=0.400, val_accuracy=0.817]\n",
      "Epoch 14:  97%|█████████▋| 154/159 [01:04<00:02,  2.40it/s, loss=0.339, v_num=15, train_loss=0.335, train_accuracy=0.912, val_loss=0.400, val_accuracy=0.817]\n",
      "Epoch 14:  98%|█████████▊| 156/159 [01:04<00:01,  2.42it/s, loss=0.339, v_num=15, train_loss=0.335, train_accuracy=0.912, val_loss=0.400, val_accuracy=0.817]\n",
      "Epoch 14:  99%|█████████▉| 158/159 [01:04<00:00,  2.45it/s, loss=0.339, v_num=15, train_loss=0.335, train_accuracy=0.912, val_loss=0.400, val_accuracy=0.817]\n",
      "Epoch 14: 100%|██████████| 159/159 [01:05<00:00,  2.44it/s, loss=0.339, v_num=15, train_loss=0.335, train_accuracy=0.912, val_loss=0.409, val_accuracy=0.835]\n",
      "                                                           \u001b[A"
     ]
    },
    {
     "name": "stderr",
     "output_type": "stream",
     "text": [
      "Epoch 14, global step 2114: val_loss was not in top 1\n"
     ]
    },
    {
     "name": "stdout",
     "output_type": "stream",
     "text": [
      "Epoch 15:  89%|████████▉ | 142/159 [01:00<00:07,  2.36it/s, loss=0.278, v_num=15, train_loss=0.245, train_accuracy=0.868, val_loss=0.409, val_accuracy=0.835]\n",
      "Validating: 0it [00:00, ?it/s]\u001b[A\n",
      "Validating:   0%|          | 0/18 [00:00<?, ?it/s]\u001b[A\n",
      "Validating:   6%|▌         | 1/18 [00:02<00:47,  2.80s/it]\u001b[A\n",
      "Epoch 15:  91%|█████████ | 144/159 [01:03<00:06,  2.28it/s, loss=0.278, v_num=15, train_loss=0.245, train_accuracy=0.868, val_loss=0.409, val_accuracy=0.835]\n",
      "Epoch 15:  92%|█████████▏| 146/159 [01:03<00:05,  2.31it/s, loss=0.278, v_num=15, train_loss=0.245, train_accuracy=0.868, val_loss=0.409, val_accuracy=0.835]\n",
      "Epoch 15:  93%|█████████▎| 148/159 [01:03<00:04,  2.33it/s, loss=0.278, v_num=15, train_loss=0.245, train_accuracy=0.868, val_loss=0.409, val_accuracy=0.835]\n",
      "Epoch 15:  94%|█████████▍| 150/159 [01:03<00:03,  2.36it/s, loss=0.278, v_num=15, train_loss=0.245, train_accuracy=0.868, val_loss=0.409, val_accuracy=0.835]\n",
      "Epoch 15:  96%|█████████▌| 152/159 [01:03<00:02,  2.38it/s, loss=0.278, v_num=15, train_loss=0.245, train_accuracy=0.868, val_loss=0.409, val_accuracy=0.835]\n",
      "Epoch 15:  97%|█████████▋| 154/159 [01:04<00:02,  2.40it/s, loss=0.278, v_num=15, train_loss=0.245, train_accuracy=0.868, val_loss=0.409, val_accuracy=0.835]\n",
      "Epoch 15:  98%|█████████▊| 156/159 [01:04<00:01,  2.43it/s, loss=0.278, v_num=15, train_loss=0.245, train_accuracy=0.868, val_loss=0.409, val_accuracy=0.835]\n",
      "Epoch 15:  99%|█████████▉| 158/159 [01:04<00:00,  2.45it/s, loss=0.278, v_num=15, train_loss=0.245, train_accuracy=0.868, val_loss=0.409, val_accuracy=0.835]\n",
      "Epoch 15: 100%|██████████| 159/159 [01:04<00:00,  2.45it/s, loss=0.278, v_num=15, train_loss=0.245, train_accuracy=0.868, val_loss=0.523, val_accuracy=0.822]\n",
      "                                                           \u001b[A"
     ]
    },
    {
     "name": "stderr",
     "output_type": "stream",
     "text": [
      "Epoch 15, global step 2255: val_loss was not in top 1\n"
     ]
    },
    {
     "name": "stdout",
     "output_type": "stream",
     "text": [
      "Epoch 16:  89%|████████▉ | 142/159 [01:00<00:07,  2.35it/s, loss=0.291, v_num=15, train_loss=0.306, train_accuracy=0.853, val_loss=0.523, val_accuracy=0.822] \n",
      "Validating: 0it [00:00, ?it/s]\u001b[A\n",
      "Validating:   0%|          | 0/18 [00:00<?, ?it/s]\u001b[A\n",
      "Epoch 16:  91%|█████████ | 144/159 [01:03<00:06,  2.27it/s, loss=0.291, v_num=15, train_loss=0.306, train_accuracy=0.853, val_loss=0.523, val_accuracy=0.822]\n",
      "Epoch 16:  92%|█████████▏| 146/159 [01:03<00:05,  2.30it/s, loss=0.291, v_num=15, train_loss=0.306, train_accuracy=0.853, val_loss=0.523, val_accuracy=0.822]\n",
      "Epoch 16:  93%|█████████▎| 148/159 [01:03<00:04,  2.32it/s, loss=0.291, v_num=15, train_loss=0.306, train_accuracy=0.853, val_loss=0.523, val_accuracy=0.822]\n",
      "Epoch 16:  94%|█████████▍| 150/159 [01:03<00:03,  2.35it/s, loss=0.291, v_num=15, train_loss=0.306, train_accuracy=0.853, val_loss=0.523, val_accuracy=0.822]\n",
      "Epoch 16:  96%|█████████▌| 152/159 [01:04<00:02,  2.37it/s, loss=0.291, v_num=15, train_loss=0.306, train_accuracy=0.853, val_loss=0.523, val_accuracy=0.822]\n",
      "Epoch 16:  97%|█████████▋| 154/159 [01:04<00:02,  2.40it/s, loss=0.291, v_num=15, train_loss=0.306, train_accuracy=0.853, val_loss=0.523, val_accuracy=0.822]\n",
      "Epoch 16:  98%|█████████▊| 156/159 [01:04<00:01,  2.42it/s, loss=0.291, v_num=15, train_loss=0.306, train_accuracy=0.853, val_loss=0.523, val_accuracy=0.822]\n",
      "Epoch 16:  99%|█████████▉| 158/159 [01:04<00:00,  2.44it/s, loss=0.291, v_num=15, train_loss=0.306, train_accuracy=0.853, val_loss=0.523, val_accuracy=0.822]\n",
      "Epoch 16: 100%|██████████| 159/159 [01:05<00:00,  2.44it/s, loss=0.291, v_num=15, train_loss=0.306, train_accuracy=0.853, val_loss=0.375, val_accuracy=0.852]\n",
      "                                                           \u001b[A"
     ]
    },
    {
     "name": "stderr",
     "output_type": "stream",
     "text": [
      "Epoch 16, global step 2396: val_loss reached 0.37473 (best 0.37473), saving model to \"/Workspace/code/checkpoints/best-checkpoint40x80.ckpt\" as top 1\n"
     ]
    },
    {
     "name": "stdout",
     "output_type": "stream",
     "text": [
      "Epoch 17:  89%|████████▉ | 142/159 [01:00<00:07,  2.36it/s, loss=0.272, v_num=15, train_loss=0.389, train_accuracy=0.809, val_loss=0.375, val_accuracy=0.852]\n",
      "Validating: 0it [00:00, ?it/s]\u001b[A\n",
      "Validating:   0%|          | 0/18 [00:00<?, ?it/s]\u001b[A\n",
      "Epoch 17:  91%|█████████ | 144/159 [01:02<00:06,  2.29it/s, loss=0.272, v_num=15, train_loss=0.389, train_accuracy=0.809, val_loss=0.375, val_accuracy=0.852]\n",
      "Epoch 17:  92%|█████████▏| 146/159 [01:03<00:05,  2.31it/s, loss=0.272, v_num=15, train_loss=0.389, train_accuracy=0.809, val_loss=0.375, val_accuracy=0.852]\n",
      "Epoch 17:  93%|█████████▎| 148/159 [01:03<00:04,  2.34it/s, loss=0.272, v_num=15, train_loss=0.389, train_accuracy=0.809, val_loss=0.375, val_accuracy=0.852]\n",
      "Epoch 17:  94%|█████████▍| 150/159 [01:03<00:03,  2.36it/s, loss=0.272, v_num=15, train_loss=0.389, train_accuracy=0.809, val_loss=0.375, val_accuracy=0.852]\n",
      "Epoch 17:  96%|█████████▌| 152/159 [01:03<00:02,  2.38it/s, loss=0.272, v_num=15, train_loss=0.389, train_accuracy=0.809, val_loss=0.375, val_accuracy=0.852]\n",
      "Epoch 17:  97%|█████████▋| 154/159 [01:03<00:02,  2.41it/s, loss=0.272, v_num=15, train_loss=0.389, train_accuracy=0.809, val_loss=0.375, val_accuracy=0.852]\n",
      "Epoch 17:  98%|█████████▊| 156/159 [01:04<00:01,  2.43it/s, loss=0.272, v_num=15, train_loss=0.389, train_accuracy=0.809, val_loss=0.375, val_accuracy=0.852]\n",
      "Epoch 17:  99%|█████████▉| 158/159 [01:04<00:00,  2.46it/s, loss=0.272, v_num=15, train_loss=0.389, train_accuracy=0.809, val_loss=0.375, val_accuracy=0.852]\n",
      "Epoch 17: 100%|██████████| 159/159 [01:04<00:00,  2.45it/s, loss=0.272, v_num=15, train_loss=0.389, train_accuracy=0.809, val_loss=0.393, val_accuracy=0.843]\n",
      "                                                           \u001b[A"
     ]
    },
    {
     "name": "stderr",
     "output_type": "stream",
     "text": [
      "Epoch 17, global step 2537: val_loss was not in top 1\n"
     ]
    },
    {
     "name": "stdout",
     "output_type": "stream",
     "text": [
      "Epoch 18:  89%|████████▉ | 142/159 [01:00<00:07,  2.37it/s, loss=0.291, v_num=15, train_loss=0.285, train_accuracy=0.868, val_loss=0.393, val_accuracy=0.843]\n",
      "Validating: 0it [00:00, ?it/s]\u001b[A\n",
      "Validating:   0%|          | 0/18 [00:00<?, ?it/s]\u001b[A\n",
      "Epoch 18:  91%|█████████ | 144/159 [01:02<00:06,  2.29it/s, loss=0.291, v_num=15, train_loss=0.285, train_accuracy=0.868, val_loss=0.393, val_accuracy=0.843]\n",
      "Epoch 18:  92%|█████████▏| 146/159 [01:03<00:05,  2.31it/s, loss=0.291, v_num=15, train_loss=0.285, train_accuracy=0.868, val_loss=0.393, val_accuracy=0.843]\n",
      "Epoch 18:  93%|█████████▎| 148/159 [01:03<00:04,  2.34it/s, loss=0.291, v_num=15, train_loss=0.285, train_accuracy=0.868, val_loss=0.393, val_accuracy=0.843]\n",
      "Epoch 18:  94%|█████████▍| 150/159 [01:03<00:03,  2.36it/s, loss=0.291, v_num=15, train_loss=0.285, train_accuracy=0.868, val_loss=0.393, val_accuracy=0.843]\n",
      "Epoch 18:  96%|█████████▌| 152/159 [01:03<00:02,  2.39it/s, loss=0.291, v_num=15, train_loss=0.285, train_accuracy=0.868, val_loss=0.393, val_accuracy=0.843]\n",
      "Epoch 18:  97%|█████████▋| 154/159 [01:03<00:02,  2.41it/s, loss=0.291, v_num=15, train_loss=0.285, train_accuracy=0.868, val_loss=0.393, val_accuracy=0.843]\n",
      "Epoch 18:  98%|█████████▊| 156/159 [01:03<00:01,  2.44it/s, loss=0.291, v_num=15, train_loss=0.285, train_accuracy=0.868, val_loss=0.393, val_accuracy=0.843]\n",
      "Epoch 18:  99%|█████████▉| 158/159 [01:04<00:00,  2.46it/s, loss=0.291, v_num=15, train_loss=0.285, train_accuracy=0.868, val_loss=0.393, val_accuracy=0.843]\n",
      "Epoch 18: 100%|██████████| 159/159 [01:04<00:00,  2.46it/s, loss=0.291, v_num=15, train_loss=0.285, train_accuracy=0.868, val_loss=0.376, val_accuracy=0.847]\n",
      "                                                           \u001b[A"
     ]
    },
    {
     "name": "stderr",
     "output_type": "stream",
     "text": [
      "Epoch 18, global step 2678: val_loss was not in top 1\n"
     ]
    },
    {
     "name": "stdout",
     "output_type": "stream",
     "text": [
      "Epoch 19:  89%|████████▉ | 142/159 [01:00<00:07,  2.35it/s, loss=0.612, v_num=15, train_loss=0.551, train_accuracy=0.647, val_loss=0.376, val_accuracy=0.847]\n",
      "Validating: 0it [00:00, ?it/s]\u001b[A\n",
      "Validating:   0%|          | 0/18 [00:00<?, ?it/s]\u001b[A\n",
      "Validating:   6%|▌         | 1/18 [00:02<00:46,  2.75s/it]\u001b[A\n",
      "Epoch 19:  91%|█████████ | 144/159 [01:03<00:06,  2.27it/s, loss=0.612, v_num=15, train_loss=0.551, train_accuracy=0.647, val_loss=0.376, val_accuracy=0.847]\n",
      "Epoch 19:  92%|█████████▏| 146/159 [01:03<00:05,  2.30it/s, loss=0.612, v_num=15, train_loss=0.551, train_accuracy=0.647, val_loss=0.376, val_accuracy=0.847]\n",
      "Epoch 19:  93%|█████████▎| 148/159 [01:03<00:04,  2.32it/s, loss=0.612, v_num=15, train_loss=0.551, train_accuracy=0.647, val_loss=0.376, val_accuracy=0.847]\n",
      "Epoch 19:  94%|█████████▍| 150/159 [01:03<00:03,  2.35it/s, loss=0.612, v_num=15, train_loss=0.551, train_accuracy=0.647, val_loss=0.376, val_accuracy=0.847]\n",
      "Epoch 19:  96%|█████████▌| 152/159 [01:04<00:02,  2.37it/s, loss=0.612, v_num=15, train_loss=0.551, train_accuracy=0.647, val_loss=0.376, val_accuracy=0.847]\n",
      "Epoch 19:  97%|█████████▋| 154/159 [01:04<00:02,  2.40it/s, loss=0.612, v_num=15, train_loss=0.551, train_accuracy=0.647, val_loss=0.376, val_accuracy=0.847]\n",
      "Epoch 19:  98%|█████████▊| 156/159 [01:04<00:01,  2.42it/s, loss=0.612, v_num=15, train_loss=0.551, train_accuracy=0.647, val_loss=0.376, val_accuracy=0.847]\n",
      "Epoch 19:  99%|█████████▉| 158/159 [01:04<00:00,  2.44it/s, loss=0.612, v_num=15, train_loss=0.551, train_accuracy=0.647, val_loss=0.376, val_accuracy=0.847]\n",
      "Epoch 19: 100%|██████████| 159/159 [01:05<00:00,  2.44it/s, loss=0.612, v_num=15, train_loss=0.551, train_accuracy=0.647, val_loss=0.582, val_accuracy=0.680]\n",
      "                                                           \u001b[A"
     ]
    },
    {
     "name": "stderr",
     "output_type": "stream",
     "text": [
      "Epoch 19, global step 2819: val_loss was not in top 1\n"
     ]
    },
    {
     "name": "stdout",
     "output_type": "stream",
     "text": [
      "Epoch 20:  89%|████████▉ | 142/159 [01:00<00:07,  2.35it/s, loss=0.426, v_num=15, train_loss=0.402, train_accuracy=0.853, val_loss=0.582, val_accuracy=0.680]\n",
      "Validating: 0it [00:00, ?it/s]\u001b[A\n",
      "Validating:   0%|          | 0/18 [00:00<?, ?it/s]\u001b[A\n",
      "Validating:   6%|▌         | 1/18 [00:02<00:47,  2.78s/it]\u001b[A\n",
      "Epoch 20:  91%|█████████ | 144/159 [01:03<00:06,  2.27it/s, loss=0.426, v_num=15, train_loss=0.402, train_accuracy=0.853, val_loss=0.582, val_accuracy=0.680]\n",
      "Epoch 20:  92%|█████████▏| 146/159 [01:03<00:05,  2.30it/s, loss=0.426, v_num=15, train_loss=0.402, train_accuracy=0.853, val_loss=0.582, val_accuracy=0.680]\n",
      "Epoch 20:  93%|█████████▎| 148/159 [01:03<00:04,  2.32it/s, loss=0.426, v_num=15, train_loss=0.402, train_accuracy=0.853, val_loss=0.582, val_accuracy=0.680]\n",
      "Epoch 20:  94%|█████████▍| 150/159 [01:03<00:03,  2.34it/s, loss=0.426, v_num=15, train_loss=0.402, train_accuracy=0.853, val_loss=0.582, val_accuracy=0.680]\n",
      "Epoch 20:  96%|█████████▌| 152/159 [01:04<00:02,  2.37it/s, loss=0.426, v_num=15, train_loss=0.402, train_accuracy=0.853, val_loss=0.582, val_accuracy=0.680]\n",
      "Epoch 20:  97%|█████████▋| 154/159 [01:04<00:02,  2.39it/s, loss=0.426, v_num=15, train_loss=0.402, train_accuracy=0.853, val_loss=0.582, val_accuracy=0.680]\n",
      "Epoch 20:  98%|█████████▊| 156/159 [01:04<00:01,  2.42it/s, loss=0.426, v_num=15, train_loss=0.402, train_accuracy=0.853, val_loss=0.582, val_accuracy=0.680]\n",
      "Epoch 20:  99%|█████████▉| 158/159 [01:04<00:00,  2.44it/s, loss=0.426, v_num=15, train_loss=0.402, train_accuracy=0.853, val_loss=0.582, val_accuracy=0.680]\n",
      "Epoch 20: 100%|██████████| 159/159 [01:05<00:00,  2.44it/s, loss=0.426, v_num=15, train_loss=0.402, train_accuracy=0.853, val_loss=0.480, val_accuracy=0.784]\n",
      "                                                           \u001b[A"
     ]
    },
    {
     "name": "stderr",
     "output_type": "stream",
     "text": [
      "Epoch 20, global step 2960: val_loss was not in top 1\n"
     ]
    },
    {
     "name": "stdout",
     "output_type": "stream",
     "text": [
      "Epoch 21:  89%|████████▉ | 142/159 [01:00<00:07,  2.35it/s, loss=0.327, v_num=15, train_loss=0.441, train_accuracy=0.794, val_loss=0.480, val_accuracy=0.784]\n",
      "Validating: 0it [00:00, ?it/s]\u001b[A\n",
      "Validating:   0%|          | 0/18 [00:00<?, ?it/s]\u001b[A\n",
      "Epoch 21:  91%|█████████ | 144/159 [01:03<00:06,  2.28it/s, loss=0.327, v_num=15, train_loss=0.441, train_accuracy=0.794, val_loss=0.480, val_accuracy=0.784]\n",
      "Epoch 21:  92%|█████████▏| 146/159 [01:03<00:05,  2.30it/s, loss=0.327, v_num=15, train_loss=0.441, train_accuracy=0.794, val_loss=0.480, val_accuracy=0.784]\n",
      "Validating:  28%|██▊       | 5/18 [00:03<00:05,  2.31it/s]\u001b[A\n",
      "Epoch 21:  93%|█████████▎| 148/159 [01:03<00:04,  2.32it/s, loss=0.327, v_num=15, train_loss=0.441, train_accuracy=0.794, val_loss=0.480, val_accuracy=0.784]\n",
      "Epoch 21:  94%|█████████▍| 150/159 [01:03<00:03,  2.35it/s, loss=0.327, v_num=15, train_loss=0.441, train_accuracy=0.794, val_loss=0.480, val_accuracy=0.784]\n",
      "Epoch 21:  96%|█████████▌| 152/159 [01:04<00:02,  2.37it/s, loss=0.327, v_num=15, train_loss=0.441, train_accuracy=0.794, val_loss=0.480, val_accuracy=0.784]\n",
      "Epoch 21:  97%|█████████▋| 154/159 [01:04<00:02,  2.40it/s, loss=0.327, v_num=15, train_loss=0.441, train_accuracy=0.794, val_loss=0.480, val_accuracy=0.784]\n",
      "Epoch 21:  98%|█████████▊| 156/159 [01:04<00:01,  2.42it/s, loss=0.327, v_num=15, train_loss=0.441, train_accuracy=0.794, val_loss=0.480, val_accuracy=0.784]\n",
      "Epoch 21:  99%|█████████▉| 158/159 [01:04<00:00,  2.45it/s, loss=0.327, v_num=15, train_loss=0.441, train_accuracy=0.794, val_loss=0.480, val_accuracy=0.784]\n",
      "Epoch 21: 100%|██████████| 159/159 [01:05<00:00,  2.44it/s, loss=0.327, v_num=15, train_loss=0.441, train_accuracy=0.794, val_loss=0.413, val_accuracy=0.833]\n",
      "                                                           \u001b[A"
     ]
    },
    {
     "name": "stderr",
     "output_type": "stream",
     "text": [
      "Epoch 21, global step 3101: val_loss was not in top 1\n"
     ]
    },
    {
     "name": "stdout",
     "output_type": "stream",
     "text": [
      "Epoch 22:  89%|████████▉ | 142/159 [01:00<00:07,  2.36it/s, loss=0.27, v_num=15, train_loss=0.247, train_accuracy=0.897, val_loss=0.413, val_accuracy=0.833] \n",
      "Validating: 0it [00:00, ?it/s]\u001b[A\n",
      "Validating:   0%|          | 0/18 [00:00<?, ?it/s]\u001b[A\n",
      "Validating:   6%|▌         | 1/18 [00:02<00:46,  2.73s/it]\u001b[A\n",
      "Epoch 22:  91%|█████████ | 144/159 [01:03<00:06,  2.28it/s, loss=0.27, v_num=15, train_loss=0.247, train_accuracy=0.897, val_loss=0.413, val_accuracy=0.833]\n",
      "Epoch 22:  92%|█████████▏| 146/159 [01:03<00:05,  2.31it/s, loss=0.27, v_num=15, train_loss=0.247, train_accuracy=0.897, val_loss=0.413, val_accuracy=0.833]\n",
      "Epoch 22:  93%|█████████▎| 148/159 [01:03<00:04,  2.33it/s, loss=0.27, v_num=15, train_loss=0.247, train_accuracy=0.897, val_loss=0.413, val_accuracy=0.833]\n",
      "Epoch 22:  94%|█████████▍| 150/159 [01:03<00:03,  2.36it/s, loss=0.27, v_num=15, train_loss=0.247, train_accuracy=0.897, val_loss=0.413, val_accuracy=0.833]\n",
      "Epoch 22:  96%|█████████▌| 152/159 [01:03<00:02,  2.38it/s, loss=0.27, v_num=15, train_loss=0.247, train_accuracy=0.897, val_loss=0.413, val_accuracy=0.833]\n",
      "Epoch 22:  97%|█████████▋| 154/159 [01:04<00:02,  2.40it/s, loss=0.27, v_num=15, train_loss=0.247, train_accuracy=0.897, val_loss=0.413, val_accuracy=0.833]\n",
      "Epoch 22:  98%|█████████▊| 156/159 [01:04<00:01,  2.43it/s, loss=0.27, v_num=15, train_loss=0.247, train_accuracy=0.897, val_loss=0.413, val_accuracy=0.833]\n",
      "Epoch 22:  99%|█████████▉| 158/159 [01:04<00:00,  2.45it/s, loss=0.27, v_num=15, train_loss=0.247, train_accuracy=0.897, val_loss=0.413, val_accuracy=0.833]\n",
      "Epoch 22: 100%|██████████| 159/159 [01:04<00:00,  2.45it/s, loss=0.27, v_num=15, train_loss=0.247, train_accuracy=0.897, val_loss=0.439, val_accuracy=0.828]\n",
      "                                                           \u001b[A"
     ]
    },
    {
     "name": "stderr",
     "output_type": "stream",
     "text": [
      "Epoch 22, global step 3242: val_loss was not in top 1\n"
     ]
    },
    {
     "name": "stdout",
     "output_type": "stream",
     "text": [
      "Epoch 23:  89%|████████▉ | 142/159 [01:00<00:07,  2.35it/s, loss=0.277, v_num=15, train_loss=0.247, train_accuracy=0.868, val_loss=0.439, val_accuracy=0.828]\n",
      "Validating: 0it [00:00, ?it/s]\u001b[A\n",
      "Validating:   0%|          | 0/18 [00:00<?, ?it/s]\u001b[A\n",
      "Validating:   6%|▌         | 1/18 [00:02<00:46,  2.74s/it]\u001b[A\n",
      "Epoch 23:  91%|█████████ | 144/159 [01:03<00:06,  2.27it/s, loss=0.277, v_num=15, train_loss=0.247, train_accuracy=0.868, val_loss=0.439, val_accuracy=0.828]\n",
      "Epoch 23:  92%|█████████▏| 146/159 [01:03<00:05,  2.30it/s, loss=0.277, v_num=15, train_loss=0.247, train_accuracy=0.868, val_loss=0.439, val_accuracy=0.828]\n",
      "Epoch 23:  93%|█████████▎| 148/159 [01:03<00:04,  2.32it/s, loss=0.277, v_num=15, train_loss=0.247, train_accuracy=0.868, val_loss=0.439, val_accuracy=0.828]\n",
      "Epoch 23:  94%|█████████▍| 150/159 [01:03<00:03,  2.35it/s, loss=0.277, v_num=15, train_loss=0.247, train_accuracy=0.868, val_loss=0.439, val_accuracy=0.828]\n",
      "Epoch 23:  96%|█████████▌| 152/159 [01:04<00:02,  2.37it/s, loss=0.277, v_num=15, train_loss=0.247, train_accuracy=0.868, val_loss=0.439, val_accuracy=0.828]\n",
      "Epoch 23:  97%|█████████▋| 154/159 [01:04<00:02,  2.39it/s, loss=0.277, v_num=15, train_loss=0.247, train_accuracy=0.868, val_loss=0.439, val_accuracy=0.828]\n",
      "Epoch 23:  98%|█████████▊| 156/159 [01:04<00:01,  2.42it/s, loss=0.277, v_num=15, train_loss=0.247, train_accuracy=0.868, val_loss=0.439, val_accuracy=0.828]\n",
      "Epoch 23:  99%|█████████▉| 158/159 [01:04<00:00,  2.44it/s, loss=0.277, v_num=15, train_loss=0.247, train_accuracy=0.868, val_loss=0.439, val_accuracy=0.828]\n",
      "Epoch 23: 100%|██████████| 159/159 [01:05<00:00,  2.44it/s, loss=0.277, v_num=15, train_loss=0.247, train_accuracy=0.868, val_loss=0.387, val_accuracy=0.858]\n",
      "                                                           \u001b[A"
     ]
    },
    {
     "name": "stderr",
     "output_type": "stream",
     "text": [
      "Epoch 23, global step 3383: val_loss was not in top 1\n"
     ]
    },
    {
     "name": "stdout",
     "output_type": "stream",
     "text": [
      "Epoch 24:  89%|████████▉ | 142/159 [01:00<00:07,  2.35it/s, loss=0.254, v_num=15, train_loss=0.186, train_accuracy=0.912, val_loss=0.387, val_accuracy=0.858]\n",
      "Validating: 0it [00:00, ?it/s]\u001b[A\n",
      "Validating:   0%|          | 0/18 [00:00<?, ?it/s]\u001b[A\n",
      "Validating:   6%|▌         | 1/18 [00:02<00:46,  2.73s/it]\u001b[A\n",
      "Epoch 24:  91%|█████████ | 144/159 [01:03<00:06,  2.28it/s, loss=0.254, v_num=15, train_loss=0.186, train_accuracy=0.912, val_loss=0.387, val_accuracy=0.858]\n",
      "Epoch 24:  92%|█████████▏| 146/159 [01:03<00:05,  2.30it/s, loss=0.254, v_num=15, train_loss=0.186, train_accuracy=0.912, val_loss=0.387, val_accuracy=0.858]\n",
      "Epoch 24:  93%|█████████▎| 148/159 [01:03<00:04,  2.33it/s, loss=0.254, v_num=15, train_loss=0.186, train_accuracy=0.912, val_loss=0.387, val_accuracy=0.858]\n",
      "Epoch 24:  94%|█████████▍| 150/159 [01:03<00:03,  2.35it/s, loss=0.254, v_num=15, train_loss=0.186, train_accuracy=0.912, val_loss=0.387, val_accuracy=0.858]\n",
      "Epoch 24:  96%|█████████▌| 152/159 [01:03<00:02,  2.38it/s, loss=0.254, v_num=15, train_loss=0.186, train_accuracy=0.912, val_loss=0.387, val_accuracy=0.858]\n",
      "Epoch 24:  97%|█████████▋| 154/159 [01:04<00:02,  2.40it/s, loss=0.254, v_num=15, train_loss=0.186, train_accuracy=0.912, val_loss=0.387, val_accuracy=0.858]\n",
      "Epoch 24:  98%|█████████▊| 156/159 [01:04<00:01,  2.42it/s, loss=0.254, v_num=15, train_loss=0.186, train_accuracy=0.912, val_loss=0.387, val_accuracy=0.858]\n",
      "Epoch 24:  99%|█████████▉| 158/159 [01:04<00:00,  2.45it/s, loss=0.254, v_num=15, train_loss=0.186, train_accuracy=0.912, val_loss=0.387, val_accuracy=0.858]\n",
      "Epoch 24: 100%|██████████| 159/159 [01:05<00:00,  2.44it/s, loss=0.254, v_num=15, train_loss=0.186, train_accuracy=0.912, val_loss=0.465, val_accuracy=0.811]\n",
      "                                                           \u001b[A"
     ]
    },
    {
     "name": "stderr",
     "output_type": "stream",
     "text": [
      "Epoch 24, global step 3524: val_loss was not in top 1\n"
     ]
    },
    {
     "name": "stdout",
     "output_type": "stream",
     "text": [
      "Epoch 25:  89%|████████▉ | 142/159 [01:00<00:07,  2.36it/s, loss=0.271, v_num=15, train_loss=0.181, train_accuracy=0.956, val_loss=0.465, val_accuracy=0.811]\n",
      "Validating: 0it [00:00, ?it/s]\u001b[A\n",
      "Validating:   0%|          | 0/18 [00:00<?, ?it/s]\u001b[A\n",
      "Validating:   6%|▌         | 1/18 [00:02<00:47,  2.80s/it]\u001b[A\n",
      "Epoch 25:  91%|█████████ | 144/159 [01:03<00:06,  2.28it/s, loss=0.271, v_num=15, train_loss=0.181, train_accuracy=0.956, val_loss=0.465, val_accuracy=0.811]\n",
      "Epoch 25:  92%|█████████▏| 146/159 [01:03<00:05,  2.31it/s, loss=0.271, v_num=15, train_loss=0.181, train_accuracy=0.956, val_loss=0.465, val_accuracy=0.811]\n",
      "Epoch 25:  93%|█████████▎| 148/159 [01:03<00:04,  2.33it/s, loss=0.271, v_num=15, train_loss=0.181, train_accuracy=0.956, val_loss=0.465, val_accuracy=0.811]\n",
      "Epoch 25:  94%|█████████▍| 150/159 [01:03<00:03,  2.36it/s, loss=0.271, v_num=15, train_loss=0.181, train_accuracy=0.956, val_loss=0.465, val_accuracy=0.811]\n",
      "Epoch 25:  96%|█████████▌| 152/159 [01:03<00:02,  2.38it/s, loss=0.271, v_num=15, train_loss=0.181, train_accuracy=0.956, val_loss=0.465, val_accuracy=0.811]\n",
      "Epoch 25:  97%|█████████▋| 154/159 [01:04<00:02,  2.40it/s, loss=0.271, v_num=15, train_loss=0.181, train_accuracy=0.956, val_loss=0.465, val_accuracy=0.811]\n",
      "Epoch 25:  98%|█████████▊| 156/159 [01:04<00:01,  2.43it/s, loss=0.271, v_num=15, train_loss=0.181, train_accuracy=0.956, val_loss=0.465, val_accuracy=0.811]\n",
      "Epoch 25:  99%|█████████▉| 158/159 [01:04<00:00,  2.45it/s, loss=0.271, v_num=15, train_loss=0.181, train_accuracy=0.956, val_loss=0.465, val_accuracy=0.811]\n",
      "Epoch 25: 100%|██████████| 159/159 [01:04<00:00,  2.45it/s, loss=0.271, v_num=15, train_loss=0.181, train_accuracy=0.956, val_loss=0.410, val_accuracy=0.828]\n",
      "                                                           \u001b[A"
     ]
    },
    {
     "name": "stderr",
     "output_type": "stream",
     "text": [
      "Epoch 25, global step 3665: val_loss was not in top 1\n"
     ]
    },
    {
     "name": "stdout",
     "output_type": "stream",
     "text": [
      "Epoch 26:  89%|████████▉ | 142/159 [01:00<00:07,  2.35it/s, loss=0.25, v_num=15, train_loss=0.227, train_accuracy=0.926, val_loss=0.410, val_accuracy=0.828] \n",
      "Validating: 0it [00:00, ?it/s]\u001b[A\n",
      "Validating:   0%|          | 0/18 [00:00<?, ?it/s]\u001b[A\n",
      "Validating:   6%|▌         | 1/18 [00:02<00:46,  2.75s/it]\u001b[A\n",
      "Epoch 26:  91%|█████████ | 144/159 [01:03<00:06,  2.28it/s, loss=0.25, v_num=15, train_loss=0.227, train_accuracy=0.926, val_loss=0.410, val_accuracy=0.828]\n",
      "Epoch 26:  92%|█████████▏| 146/159 [01:03<00:05,  2.30it/s, loss=0.25, v_num=15, train_loss=0.227, train_accuracy=0.926, val_loss=0.410, val_accuracy=0.828]\n",
      "Epoch 26:  93%|█████████▎| 148/159 [01:03<00:04,  2.33it/s, loss=0.25, v_num=15, train_loss=0.227, train_accuracy=0.926, val_loss=0.410, val_accuracy=0.828]\n",
      "Epoch 26:  94%|█████████▍| 150/159 [01:03<00:03,  2.35it/s, loss=0.25, v_num=15, train_loss=0.227, train_accuracy=0.926, val_loss=0.410, val_accuracy=0.828]\n",
      "Epoch 26:  96%|█████████▌| 152/159 [01:03<00:02,  2.38it/s, loss=0.25, v_num=15, train_loss=0.227, train_accuracy=0.926, val_loss=0.410, val_accuracy=0.828]\n",
      "Epoch 26:  97%|█████████▋| 154/159 [01:04<00:02,  2.40it/s, loss=0.25, v_num=15, train_loss=0.227, train_accuracy=0.926, val_loss=0.410, val_accuracy=0.828]\n",
      "Epoch 26:  98%|█████████▊| 156/159 [01:04<00:01,  2.42it/s, loss=0.25, v_num=15, train_loss=0.227, train_accuracy=0.926, val_loss=0.410, val_accuracy=0.828]\n",
      "Epoch 26:  99%|█████████▉| 158/159 [01:04<00:00,  2.45it/s, loss=0.25, v_num=15, train_loss=0.227, train_accuracy=0.926, val_loss=0.410, val_accuracy=0.828]\n",
      "Epoch 26: 100%|██████████| 159/159 [01:05<00:00,  2.44it/s, loss=0.25, v_num=15, train_loss=0.227, train_accuracy=0.926, val_loss=0.377, val_accuracy=0.836]\n",
      "                                                           \u001b[A"
     ]
    },
    {
     "name": "stderr",
     "output_type": "stream",
     "text": [
      "Epoch 26, global step 3806: val_loss was not in top 1\n"
     ]
    },
    {
     "name": "stdout",
     "output_type": "stream",
     "text": [
      "Epoch 27:  89%|████████▉ | 142/159 [01:00<00:07,  2.34it/s, loss=0.251, v_num=15, train_loss=0.325, train_accuracy=0.882, val_loss=0.377, val_accuracy=0.836]\n",
      "Validating: 0it [00:00, ?it/s]\u001b[A\n",
      "Validating:   0%|          | 0/18 [00:00<?, ?it/s]\u001b[A\n",
      "Epoch 27:  91%|█████████ | 144/159 [01:03<00:06,  2.27it/s, loss=0.251, v_num=15, train_loss=0.325, train_accuracy=0.882, val_loss=0.377, val_accuracy=0.836]\n",
      "Epoch 27:  92%|█████████▏| 146/159 [01:03<00:05,  2.29it/s, loss=0.251, v_num=15, train_loss=0.325, train_accuracy=0.882, val_loss=0.377, val_accuracy=0.836]\n",
      "Epoch 27:  93%|█████████▎| 148/159 [01:03<00:04,  2.32it/s, loss=0.251, v_num=15, train_loss=0.325, train_accuracy=0.882, val_loss=0.377, val_accuracy=0.836]\n",
      "Epoch 27:  94%|█████████▍| 150/159 [01:04<00:03,  2.34it/s, loss=0.251, v_num=15, train_loss=0.325, train_accuracy=0.882, val_loss=0.377, val_accuracy=0.836]\n",
      "Epoch 27:  96%|█████████▌| 152/159 [01:04<00:02,  2.37it/s, loss=0.251, v_num=15, train_loss=0.325, train_accuracy=0.882, val_loss=0.377, val_accuracy=0.836]\n",
      "Epoch 27:  97%|█████████▋| 154/159 [01:04<00:02,  2.39it/s, loss=0.251, v_num=15, train_loss=0.325, train_accuracy=0.882, val_loss=0.377, val_accuracy=0.836]\n",
      "Epoch 27:  98%|█████████▊| 156/159 [01:04<00:01,  2.41it/s, loss=0.251, v_num=15, train_loss=0.325, train_accuracy=0.882, val_loss=0.377, val_accuracy=0.836]\n",
      "Epoch 27:  99%|█████████▉| 158/159 [01:04<00:00,  2.44it/s, loss=0.251, v_num=15, train_loss=0.325, train_accuracy=0.882, val_loss=0.377, val_accuracy=0.836]\n",
      "Epoch 27: 100%|██████████| 159/159 [01:05<00:00,  2.43it/s, loss=0.251, v_num=15, train_loss=0.325, train_accuracy=0.882, val_loss=0.433, val_accuracy=0.851]\n",
      "                                                           \u001b[A"
     ]
    },
    {
     "name": "stderr",
     "output_type": "stream",
     "text": [
      "Epoch 27, global step 3947: val_loss was not in top 1\n"
     ]
    },
    {
     "name": "stdout",
     "output_type": "stream",
     "text": [
      "Epoch 28:  89%|████████▉ | 142/159 [01:00<00:07,  2.35it/s, loss=0.261, v_num=15, train_loss=0.153, train_accuracy=0.926, val_loss=0.433, val_accuracy=0.851]\n",
      "Validating: 0it [00:00, ?it/s]\u001b[A\n",
      "Validating:   0%|          | 0/18 [00:00<?, ?it/s]\u001b[A\n",
      "Validating:   6%|▌         | 1/18 [00:02<00:47,  2.78s/it]\u001b[A\n",
      "Epoch 28:  91%|█████████ | 144/159 [01:03<00:06,  2.27it/s, loss=0.261, v_num=15, train_loss=0.153, train_accuracy=0.926, val_loss=0.433, val_accuracy=0.851]\n",
      "Epoch 28:  92%|█████████▏| 146/159 [01:03<00:05,  2.30it/s, loss=0.261, v_num=15, train_loss=0.153, train_accuracy=0.926, val_loss=0.433, val_accuracy=0.851]\n",
      "Epoch 28:  93%|█████████▎| 148/159 [01:03<00:04,  2.32it/s, loss=0.261, v_num=15, train_loss=0.153, train_accuracy=0.926, val_loss=0.433, val_accuracy=0.851]\n",
      "Epoch 28:  94%|█████████▍| 150/159 [01:03<00:03,  2.35it/s, loss=0.261, v_num=15, train_loss=0.153, train_accuracy=0.926, val_loss=0.433, val_accuracy=0.851]\n",
      "Epoch 28:  96%|█████████▌| 152/159 [01:04<00:02,  2.37it/s, loss=0.261, v_num=15, train_loss=0.153, train_accuracy=0.926, val_loss=0.433, val_accuracy=0.851]\n",
      "Epoch 28:  97%|█████████▋| 154/159 [01:04<00:02,  2.40it/s, loss=0.261, v_num=15, train_loss=0.153, train_accuracy=0.926, val_loss=0.433, val_accuracy=0.851]\n",
      "Epoch 28:  98%|█████████▊| 156/159 [01:04<00:01,  2.42it/s, loss=0.261, v_num=15, train_loss=0.153, train_accuracy=0.926, val_loss=0.433, val_accuracy=0.851]\n",
      "Epoch 28:  99%|█████████▉| 158/159 [01:04<00:00,  2.44it/s, loss=0.261, v_num=15, train_loss=0.153, train_accuracy=0.926, val_loss=0.433, val_accuracy=0.851]\n",
      "Epoch 28: 100%|██████████| 159/159 [01:05<00:00,  2.44it/s, loss=0.261, v_num=15, train_loss=0.153, train_accuracy=0.926, val_loss=0.376, val_accuracy=0.861]\n",
      "                                                           \u001b[A"
     ]
    },
    {
     "name": "stderr",
     "output_type": "stream",
     "text": [
      "Epoch 28, global step 4088: val_loss was not in top 1\n"
     ]
    },
    {
     "name": "stdout",
     "output_type": "stream",
     "text": [
      "Epoch 29:  89%|████████▉ | 142/159 [01:00<00:07,  2.36it/s, loss=0.257, v_num=15, train_loss=0.281, train_accuracy=0.868, val_loss=0.376, val_accuracy=0.861]\n",
      "Validating: 0it [00:00, ?it/s]\u001b[A\n",
      "Validating:   0%|          | 0/18 [00:00<?, ?it/s]\u001b[A\n",
      "Epoch 29:  91%|█████████ | 144/159 [01:03<00:06,  2.28it/s, loss=0.257, v_num=15, train_loss=0.281, train_accuracy=0.868, val_loss=0.376, val_accuracy=0.861]\n",
      "Epoch 29:  92%|█████████▏| 146/159 [01:03<00:05,  2.31it/s, loss=0.257, v_num=15, train_loss=0.281, train_accuracy=0.868, val_loss=0.376, val_accuracy=0.861]\n",
      "Epoch 29:  93%|█████████▎| 148/159 [01:03<00:04,  2.33it/s, loss=0.257, v_num=15, train_loss=0.281, train_accuracy=0.868, val_loss=0.376, val_accuracy=0.861]\n",
      "Epoch 29:  94%|█████████▍| 150/159 [01:03<00:03,  2.35it/s, loss=0.257, v_num=15, train_loss=0.281, train_accuracy=0.868, val_loss=0.376, val_accuracy=0.861]\n",
      "Epoch 29:  96%|█████████▌| 152/159 [01:03<00:02,  2.38it/s, loss=0.257, v_num=15, train_loss=0.281, train_accuracy=0.868, val_loss=0.376, val_accuracy=0.861]\n",
      "Epoch 29:  97%|█████████▋| 154/159 [01:04<00:02,  2.40it/s, loss=0.257, v_num=15, train_loss=0.281, train_accuracy=0.868, val_loss=0.376, val_accuracy=0.861]\n",
      "Epoch 29:  98%|█████████▊| 156/159 [01:04<00:01,  2.43it/s, loss=0.257, v_num=15, train_loss=0.281, train_accuracy=0.868, val_loss=0.376, val_accuracy=0.861]\n",
      "Epoch 29:  99%|█████████▉| 158/159 [01:04<00:00,  2.45it/s, loss=0.257, v_num=15, train_loss=0.281, train_accuracy=0.868, val_loss=0.376, val_accuracy=0.861]\n",
      "Epoch 29: 100%|██████████| 159/159 [01:04<00:00,  2.45it/s, loss=0.257, v_num=15, train_loss=0.281, train_accuracy=0.868, val_loss=0.390, val_accuracy=0.857]\n",
      "                                                           \u001b[A"
     ]
    },
    {
     "name": "stderr",
     "output_type": "stream",
     "text": [
      "Epoch 29, global step 4229: val_loss was not in top 1\n"
     ]
    },
    {
     "name": "stdout",
     "output_type": "stream",
     "text": [
      "Epoch 30:  89%|████████▉ | 142/159 [01:00<00:07,  2.35it/s, loss=0.373, v_num=15, train_loss=0.293, train_accuracy=0.868, val_loss=0.390, val_accuracy=0.857]\n",
      "Validating: 0it [00:00, ?it/s]\u001b[A\n",
      "Validating:   0%|          | 0/18 [00:00<?, ?it/s]\u001b[A\n",
      "Validating:   6%|▌         | 1/18 [00:02<00:46,  2.75s/it]\u001b[A\n",
      "Epoch 30:  91%|█████████ | 144/159 [01:03<00:06,  2.28it/s, loss=0.373, v_num=15, train_loss=0.293, train_accuracy=0.868, val_loss=0.390, val_accuracy=0.857]\n",
      "Epoch 30:  92%|█████████▏| 146/159 [01:03<00:05,  2.30it/s, loss=0.373, v_num=15, train_loss=0.293, train_accuracy=0.868, val_loss=0.390, val_accuracy=0.857]\n",
      "Epoch 30:  93%|█████████▎| 148/159 [01:03<00:04,  2.32it/s, loss=0.373, v_num=15, train_loss=0.293, train_accuracy=0.868, val_loss=0.390, val_accuracy=0.857]\n",
      "Epoch 30:  94%|█████████▍| 150/159 [01:03<00:03,  2.35it/s, loss=0.373, v_num=15, train_loss=0.293, train_accuracy=0.868, val_loss=0.390, val_accuracy=0.857]\n",
      "Epoch 30:  96%|█████████▌| 152/159 [01:04<00:02,  2.37it/s, loss=0.373, v_num=15, train_loss=0.293, train_accuracy=0.868, val_loss=0.390, val_accuracy=0.857]\n",
      "Epoch 30:  97%|█████████▋| 154/159 [01:04<00:02,  2.40it/s, loss=0.373, v_num=15, train_loss=0.293, train_accuracy=0.868, val_loss=0.390, val_accuracy=0.857]\n",
      "Epoch 30:  98%|█████████▊| 156/159 [01:04<00:01,  2.42it/s, loss=0.373, v_num=15, train_loss=0.293, train_accuracy=0.868, val_loss=0.390, val_accuracy=0.857]\n",
      "Epoch 30:  99%|█████████▉| 158/159 [01:04<00:00,  2.45it/s, loss=0.373, v_num=15, train_loss=0.293, train_accuracy=0.868, val_loss=0.390, val_accuracy=0.857]\n",
      "Epoch 30: 100%|██████████| 159/159 [01:05<00:00,  2.44it/s, loss=0.373, v_num=15, train_loss=0.293, train_accuracy=0.868, val_loss=0.489, val_accuracy=0.804]\n",
      "                                                           \u001b[A"
     ]
    },
    {
     "name": "stderr",
     "output_type": "stream",
     "text": [
      "Epoch 30, global step 4370: val_loss was not in top 1\n"
     ]
    },
    {
     "name": "stdout",
     "output_type": "stream",
     "text": [
      "Epoch 31:  89%|████████▉ | 142/159 [01:00<00:07,  2.35it/s, loss=0.252, v_num=15, train_loss=0.192, train_accuracy=0.912, val_loss=0.489, val_accuracy=0.804]\n",
      "Validating: 0it [00:00, ?it/s]\u001b[A\n",
      "Validating:   0%|          | 0/18 [00:00<?, ?it/s]\u001b[A\n",
      "Validating:   6%|▌         | 1/18 [00:02<00:47,  2.81s/it]\u001b[A\n",
      "Epoch 31:  91%|█████████ | 144/159 [01:03<00:06,  2.27it/s, loss=0.252, v_num=15, train_loss=0.192, train_accuracy=0.912, val_loss=0.489, val_accuracy=0.804]\n",
      "Epoch 31:  92%|█████████▏| 146/159 [01:03<00:05,  2.30it/s, loss=0.252, v_num=15, train_loss=0.192, train_accuracy=0.912, val_loss=0.489, val_accuracy=0.804]\n",
      "Epoch 31:  93%|█████████▎| 148/159 [01:03<00:04,  2.32it/s, loss=0.252, v_num=15, train_loss=0.192, train_accuracy=0.912, val_loss=0.489, val_accuracy=0.804]\n",
      "Epoch 31:  94%|█████████▍| 150/159 [01:03<00:03,  2.35it/s, loss=0.252, v_num=15, train_loss=0.192, train_accuracy=0.912, val_loss=0.489, val_accuracy=0.804]\n",
      "Epoch 31:  96%|█████████▌| 152/159 [01:04<00:02,  2.37it/s, loss=0.252, v_num=15, train_loss=0.192, train_accuracy=0.912, val_loss=0.489, val_accuracy=0.804]\n",
      "Epoch 31:  97%|█████████▋| 154/159 [01:04<00:02,  2.40it/s, loss=0.252, v_num=15, train_loss=0.192, train_accuracy=0.912, val_loss=0.489, val_accuracy=0.804]\n",
      "Epoch 31:  98%|█████████▊| 156/159 [01:04<00:01,  2.42it/s, loss=0.252, v_num=15, train_loss=0.192, train_accuracy=0.912, val_loss=0.489, val_accuracy=0.804]\n",
      "Epoch 31:  99%|█████████▉| 158/159 [01:04<00:00,  2.44it/s, loss=0.252, v_num=15, train_loss=0.192, train_accuracy=0.912, val_loss=0.489, val_accuracy=0.804]\n",
      "Epoch 31: 100%|██████████| 159/159 [01:05<00:00,  2.44it/s, loss=0.252, v_num=15, train_loss=0.192, train_accuracy=0.912, val_loss=0.408, val_accuracy=0.849]\n",
      "                                                           \u001b[A"
     ]
    },
    {
     "name": "stderr",
     "output_type": "stream",
     "text": [
      "Epoch 31, global step 4511: val_loss was not in top 1\n"
     ]
    },
    {
     "name": "stdout",
     "output_type": "stream",
     "text": [
      "Epoch 32:  89%|████████▉ | 142/159 [01:00<00:07,  2.35it/s, loss=0.302, v_num=15, train_loss=0.349, train_accuracy=0.868, val_loss=0.408, val_accuracy=0.849]\n",
      "Validating: 0it [00:00, ?it/s]\u001b[A\n",
      "Validating:   0%|          | 0/18 [00:00<?, ?it/s]\u001b[A\n",
      "Validating:   6%|▌         | 1/18 [00:02<00:47,  2.77s/it]\u001b[A\n",
      "Epoch 32:  91%|█████████ | 144/159 [01:03<00:06,  2.27it/s, loss=0.302, v_num=15, train_loss=0.349, train_accuracy=0.868, val_loss=0.408, val_accuracy=0.849]\n",
      "Validating:  17%|█▋        | 3/18 [00:02<00:10,  1.42it/s]\u001b[A\n",
      "Epoch 32:  92%|█████████▏| 146/159 [01:03<00:05,  2.30it/s, loss=0.302, v_num=15, train_loss=0.349, train_accuracy=0.868, val_loss=0.408, val_accuracy=0.849]\n",
      "Epoch 32:  93%|█████████▎| 148/159 [01:03<00:04,  2.32it/s, loss=0.302, v_num=15, train_loss=0.349, train_accuracy=0.868, val_loss=0.408, val_accuracy=0.849]\n",
      "Epoch 32:  94%|█████████▍| 150/159 [01:03<00:03,  2.34it/s, loss=0.302, v_num=15, train_loss=0.349, train_accuracy=0.868, val_loss=0.408, val_accuracy=0.849]\n",
      "Epoch 32:  96%|█████████▌| 152/159 [01:04<00:02,  2.37it/s, loss=0.302, v_num=15, train_loss=0.349, train_accuracy=0.868, val_loss=0.408, val_accuracy=0.849]\n",
      "Epoch 32:  97%|█████████▋| 154/159 [01:04<00:02,  2.39it/s, loss=0.302, v_num=15, train_loss=0.349, train_accuracy=0.868, val_loss=0.408, val_accuracy=0.849]\n",
      "Epoch 32:  98%|█████████▊| 156/159 [01:04<00:01,  2.42it/s, loss=0.302, v_num=15, train_loss=0.349, train_accuracy=0.868, val_loss=0.408, val_accuracy=0.849]\n",
      "Epoch 32:  99%|█████████▉| 158/159 [01:04<00:00,  2.44it/s, loss=0.302, v_num=15, train_loss=0.349, train_accuracy=0.868, val_loss=0.408, val_accuracy=0.849]\n",
      "Epoch 32: 100%|██████████| 159/159 [01:05<00:00,  2.44it/s, loss=0.302, v_num=15, train_loss=0.349, train_accuracy=0.868, val_loss=0.447, val_accuracy=0.827]\n",
      "                                                           \u001b[A"
     ]
    },
    {
     "name": "stderr",
     "output_type": "stream",
     "text": [
      "Epoch 32, global step 4652: val_loss was not in top 1\n"
     ]
    },
    {
     "name": "stdout",
     "output_type": "stream",
     "text": [
      "Epoch 33:  89%|████████▉ | 142/159 [01:00<00:07,  2.35it/s, loss=0.282, v_num=15, train_loss=0.307, train_accuracy=0.853, val_loss=0.447, val_accuracy=0.827]\n",
      "Validating: 0it [00:00, ?it/s]\u001b[A\n",
      "Validating:   0%|          | 0/18 [00:00<?, ?it/s]\u001b[A\n",
      "Validating:   6%|▌         | 1/18 [00:02<00:47,  2.80s/it]\u001b[A\n",
      "Epoch 33:  91%|█████████ | 144/159 [01:03<00:06,  2.28it/s, loss=0.282, v_num=15, train_loss=0.307, train_accuracy=0.853, val_loss=0.447, val_accuracy=0.827]\n",
      "Epoch 33:  92%|█████████▏| 146/159 [01:03<00:05,  2.30it/s, loss=0.282, v_num=15, train_loss=0.307, train_accuracy=0.853, val_loss=0.447, val_accuracy=0.827]\n",
      "Epoch 33:  93%|█████████▎| 148/159 [01:03<00:04,  2.33it/s, loss=0.282, v_num=15, train_loss=0.307, train_accuracy=0.853, val_loss=0.447, val_accuracy=0.827]\n",
      "Epoch 33:  94%|█████████▍| 150/159 [01:03<00:03,  2.35it/s, loss=0.282, v_num=15, train_loss=0.307, train_accuracy=0.853, val_loss=0.447, val_accuracy=0.827]\n",
      "Epoch 33:  96%|█████████▌| 152/159 [01:03<00:02,  2.38it/s, loss=0.282, v_num=15, train_loss=0.307, train_accuracy=0.853, val_loss=0.447, val_accuracy=0.827]\n",
      "Epoch 33:  97%|█████████▋| 154/159 [01:04<00:02,  2.40it/s, loss=0.282, v_num=15, train_loss=0.307, train_accuracy=0.853, val_loss=0.447, val_accuracy=0.827]\n",
      "Epoch 33:  98%|█████████▊| 156/159 [01:04<00:01,  2.42it/s, loss=0.282, v_num=15, train_loss=0.307, train_accuracy=0.853, val_loss=0.447, val_accuracy=0.827]\n",
      "Epoch 33:  99%|█████████▉| 158/159 [01:04<00:00,  2.45it/s, loss=0.282, v_num=15, train_loss=0.307, train_accuracy=0.853, val_loss=0.447, val_accuracy=0.827]\n",
      "Epoch 33: 100%|██████████| 159/159 [01:05<00:00,  2.44it/s, loss=0.282, v_num=15, train_loss=0.307, train_accuracy=0.853, val_loss=0.590, val_accuracy=0.820]\n",
      "                                                           \u001b[A"
     ]
    },
    {
     "name": "stderr",
     "output_type": "stream",
     "text": [
      "Epoch 33, global step 4793: val_loss was not in top 1\n"
     ]
    },
    {
     "name": "stdout",
     "output_type": "stream",
     "text": [
      "Epoch 34:  89%|████████▉ | 142/159 [01:00<00:07,  2.35it/s, loss=0.202, v_num=15, train_loss=0.194, train_accuracy=0.912, val_loss=0.590, val_accuracy=0.820]\n",
      "Validating: 0it [00:00, ?it/s]\u001b[A\n",
      "Validating:   0%|          | 0/18 [00:00<?, ?it/s]\u001b[A\n",
      "Validating:   6%|▌         | 1/18 [00:02<00:47,  2.78s/it]\u001b[A\n",
      "Epoch 34:  91%|█████████ | 144/159 [01:03<00:06,  2.28it/s, loss=0.202, v_num=15, train_loss=0.194, train_accuracy=0.912, val_loss=0.590, val_accuracy=0.820]\n",
      "Epoch 34:  92%|█████████▏| 146/159 [01:03<00:05,  2.30it/s, loss=0.202, v_num=15, train_loss=0.194, train_accuracy=0.912, val_loss=0.590, val_accuracy=0.820]\n",
      "Epoch 34:  93%|█████████▎| 148/159 [01:03<00:04,  2.33it/s, loss=0.202, v_num=15, train_loss=0.194, train_accuracy=0.912, val_loss=0.590, val_accuracy=0.820]\n",
      "Epoch 34:  94%|█████████▍| 150/159 [01:03<00:03,  2.35it/s, loss=0.202, v_num=15, train_loss=0.194, train_accuracy=0.912, val_loss=0.590, val_accuracy=0.820]\n",
      "Epoch 34:  96%|█████████▌| 152/159 [01:04<00:02,  2.37it/s, loss=0.202, v_num=15, train_loss=0.194, train_accuracy=0.912, val_loss=0.590, val_accuracy=0.820]\n",
      "Epoch 34:  97%|█████████▋| 154/159 [01:04<00:02,  2.40it/s, loss=0.202, v_num=15, train_loss=0.194, train_accuracy=0.912, val_loss=0.590, val_accuracy=0.820]\n",
      "Epoch 34:  98%|█████████▊| 156/159 [01:04<00:01,  2.42it/s, loss=0.202, v_num=15, train_loss=0.194, train_accuracy=0.912, val_loss=0.590, val_accuracy=0.820]\n",
      "Epoch 34:  99%|█████████▉| 158/159 [01:04<00:00,  2.45it/s, loss=0.202, v_num=15, train_loss=0.194, train_accuracy=0.912, val_loss=0.590, val_accuracy=0.820]\n",
      "Epoch 34: 100%|██████████| 159/159 [01:05<00:00,  2.44it/s, loss=0.202, v_num=15, train_loss=0.194, train_accuracy=0.912, val_loss=0.449, val_accuracy=0.855]\n",
      "                                                           \u001b[A"
     ]
    },
    {
     "name": "stderr",
     "output_type": "stream",
     "text": [
      "Epoch 34, global step 4934: val_loss was not in top 1\n"
     ]
    },
    {
     "name": "stdout",
     "output_type": "stream",
     "text": [
      "Epoch 35:  89%|████████▉ | 142/159 [01:00<00:07,  2.34it/s, loss=0.199, v_num=15, train_loss=0.175, train_accuracy=0.926, val_loss=0.449, val_accuracy=0.855]\n",
      "Validating: 0it [00:00, ?it/s]\u001b[A\n",
      "Validating:   0%|          | 0/18 [00:00<?, ?it/s]\u001b[A\n",
      "Validating:   6%|▌         | 1/18 [00:02<00:47,  2.81s/it]\u001b[A\n",
      "Epoch 35:  91%|█████████ | 144/159 [01:03<00:06,  2.27it/s, loss=0.199, v_num=15, train_loss=0.175, train_accuracy=0.926, val_loss=0.449, val_accuracy=0.855]\n",
      "Epoch 35:  92%|█████████▏| 146/159 [01:03<00:05,  2.29it/s, loss=0.199, v_num=15, train_loss=0.175, train_accuracy=0.926, val_loss=0.449, val_accuracy=0.855]\n",
      "Epoch 35:  93%|█████████▎| 148/159 [01:03<00:04,  2.32it/s, loss=0.199, v_num=15, train_loss=0.175, train_accuracy=0.926, val_loss=0.449, val_accuracy=0.855]\n",
      "Epoch 35:  94%|█████████▍| 150/159 [01:04<00:03,  2.34it/s, loss=0.199, v_num=15, train_loss=0.175, train_accuracy=0.926, val_loss=0.449, val_accuracy=0.855]\n",
      "Epoch 35:  96%|█████████▌| 152/159 [01:04<00:02,  2.37it/s, loss=0.199, v_num=15, train_loss=0.175, train_accuracy=0.926, val_loss=0.449, val_accuracy=0.855]\n",
      "Epoch 35:  97%|█████████▋| 154/159 [01:04<00:02,  2.39it/s, loss=0.199, v_num=15, train_loss=0.175, train_accuracy=0.926, val_loss=0.449, val_accuracy=0.855]\n",
      "Epoch 35:  98%|█████████▊| 156/159 [01:04<00:01,  2.41it/s, loss=0.199, v_num=15, train_loss=0.175, train_accuracy=0.926, val_loss=0.449, val_accuracy=0.855]\n",
      "Epoch 35:  99%|█████████▉| 158/159 [01:04<00:00,  2.44it/s, loss=0.199, v_num=15, train_loss=0.175, train_accuracy=0.926, val_loss=0.449, val_accuracy=0.855]\n",
      "Epoch 35: 100%|██████████| 159/159 [01:05<00:00,  2.43it/s, loss=0.199, v_num=15, train_loss=0.175, train_accuracy=0.926, val_loss=0.481, val_accuracy=0.850]\n",
      "                                                           \u001b[A"
     ]
    },
    {
     "name": "stderr",
     "output_type": "stream",
     "text": [
      "Epoch 35, global step 5075: val_loss was not in top 1\n"
     ]
    },
    {
     "name": "stdout",
     "output_type": "stream",
     "text": [
      "Epoch 36:  89%|████████▉ | 142/159 [01:00<00:07,  2.35it/s, loss=0.207, v_num=15, train_loss=0.288, train_accuracy=0.897, val_loss=0.481, val_accuracy=0.850] \n",
      "Validating: 0it [00:00, ?it/s]\u001b[A\n",
      "Validating:   0%|          | 0/18 [00:00<?, ?it/s]\u001b[A\n",
      "Epoch 36:  91%|█████████ | 144/159 [01:03<00:06,  2.28it/s, loss=0.207, v_num=15, train_loss=0.288, train_accuracy=0.897, val_loss=0.481, val_accuracy=0.850]\n",
      "Epoch 36:  92%|█████████▏| 146/159 [01:03<00:05,  2.30it/s, loss=0.207, v_num=15, train_loss=0.288, train_accuracy=0.897, val_loss=0.481, val_accuracy=0.850]\n",
      "Epoch 36:  93%|█████████▎| 148/159 [01:03<00:04,  2.33it/s, loss=0.207, v_num=15, train_loss=0.288, train_accuracy=0.897, val_loss=0.481, val_accuracy=0.850]\n",
      "Epoch 36:  94%|█████████▍| 150/159 [01:03<00:03,  2.35it/s, loss=0.207, v_num=15, train_loss=0.288, train_accuracy=0.897, val_loss=0.481, val_accuracy=0.850]\n",
      "Epoch 36:  96%|█████████▌| 152/159 [01:03<00:02,  2.38it/s, loss=0.207, v_num=15, train_loss=0.288, train_accuracy=0.897, val_loss=0.481, val_accuracy=0.850]\n",
      "Epoch 36:  97%|█████████▋| 154/159 [01:04<00:02,  2.40it/s, loss=0.207, v_num=15, train_loss=0.288, train_accuracy=0.897, val_loss=0.481, val_accuracy=0.850]\n",
      "Epoch 36:  98%|█████████▊| 156/159 [01:04<00:01,  2.42it/s, loss=0.207, v_num=15, train_loss=0.288, train_accuracy=0.897, val_loss=0.481, val_accuracy=0.850]\n",
      "Epoch 36:  99%|█████████▉| 158/159 [01:04<00:00,  2.45it/s, loss=0.207, v_num=15, train_loss=0.288, train_accuracy=0.897, val_loss=0.481, val_accuracy=0.850]\n",
      "Epoch 36: 100%|██████████| 159/159 [01:05<00:00,  2.44it/s, loss=0.207, v_num=15, train_loss=0.288, train_accuracy=0.897, val_loss=0.522, val_accuracy=0.855]\n",
      "                                                           \u001b[A"
     ]
    },
    {
     "name": "stderr",
     "output_type": "stream",
     "text": [
      "Epoch 36, global step 5216: val_loss was not in top 1\n"
     ]
    },
    {
     "name": "stdout",
     "output_type": "stream",
     "text": [
      "Epoch 37:  89%|████████▉ | 142/159 [01:00<00:07,  2.35it/s, loss=0.187, v_num=15, train_loss=0.169, train_accuracy=0.926, val_loss=0.522, val_accuracy=0.855] \n",
      "Validating: 0it [00:00, ?it/s]\u001b[A\n",
      "Validating:   0%|          | 0/18 [00:00<?, ?it/s]\u001b[A\n",
      "Validating:   6%|▌         | 1/18 [00:02<00:48,  2.87s/it]\u001b[A\n",
      "Epoch 37:  91%|█████████ | 144/159 [01:03<00:06,  2.27it/s, loss=0.187, v_num=15, train_loss=0.169, train_accuracy=0.926, val_loss=0.522, val_accuracy=0.855]\n",
      "Epoch 37:  92%|█████████▏| 146/159 [01:03<00:05,  2.29it/s, loss=0.187, v_num=15, train_loss=0.169, train_accuracy=0.926, val_loss=0.522, val_accuracy=0.855]\n",
      "Epoch 37:  93%|█████████▎| 148/159 [01:03<00:04,  2.32it/s, loss=0.187, v_num=15, train_loss=0.169, train_accuracy=0.926, val_loss=0.522, val_accuracy=0.855]\n",
      "Epoch 37:  94%|█████████▍| 150/159 [01:04<00:03,  2.34it/s, loss=0.187, v_num=15, train_loss=0.169, train_accuracy=0.926, val_loss=0.522, val_accuracy=0.855]\n",
      "Epoch 37:  96%|█████████▌| 152/159 [01:04<00:02,  2.37it/s, loss=0.187, v_num=15, train_loss=0.169, train_accuracy=0.926, val_loss=0.522, val_accuracy=0.855]\n",
      "Epoch 37:  97%|█████████▋| 154/159 [01:04<00:02,  2.39it/s, loss=0.187, v_num=15, train_loss=0.169, train_accuracy=0.926, val_loss=0.522, val_accuracy=0.855]\n",
      "Epoch 37:  98%|█████████▊| 156/159 [01:04<00:01,  2.42it/s, loss=0.187, v_num=15, train_loss=0.169, train_accuracy=0.926, val_loss=0.522, val_accuracy=0.855]\n",
      "Epoch 37:  99%|█████████▉| 158/159 [01:04<00:00,  2.44it/s, loss=0.187, v_num=15, train_loss=0.169, train_accuracy=0.926, val_loss=0.522, val_accuracy=0.855]\n",
      "Epoch 37: 100%|██████████| 159/159 [01:05<00:00,  2.43it/s, loss=0.187, v_num=15, train_loss=0.169, train_accuracy=0.926, val_loss=0.512, val_accuracy=0.866]\n",
      "                                                           \u001b[A"
     ]
    },
    {
     "name": "stderr",
     "output_type": "stream",
     "text": [
      "Epoch 37, global step 5357: val_loss was not in top 1\n"
     ]
    },
    {
     "name": "stdout",
     "output_type": "stream",
     "text": [
      "Epoch 38:  89%|████████▉ | 142/159 [01:00<00:07,  2.35it/s, loss=0.194, v_num=15, train_loss=0.163, train_accuracy=0.956, val_loss=0.512, val_accuracy=0.866]\n",
      "Validating: 0it [00:00, ?it/s]\u001b[A\n",
      "Validating:   0%|          | 0/18 [00:00<?, ?it/s]\u001b[A\n",
      "Validating:   6%|▌         | 1/18 [00:02<00:49,  2.89s/it]\u001b[A\n",
      "Epoch 38:  91%|█████████ | 144/159 [01:03<00:06,  2.27it/s, loss=0.194, v_num=15, train_loss=0.163, train_accuracy=0.956, val_loss=0.512, val_accuracy=0.866]\n",
      "Epoch 38:  92%|█████████▏| 146/159 [01:03<00:05,  2.30it/s, loss=0.194, v_num=15, train_loss=0.163, train_accuracy=0.956, val_loss=0.512, val_accuracy=0.866]\n",
      "Epoch 38:  93%|█████████▎| 148/159 [01:03<00:04,  2.32it/s, loss=0.194, v_num=15, train_loss=0.163, train_accuracy=0.956, val_loss=0.512, val_accuracy=0.866]\n",
      "Epoch 38:  94%|█████████▍| 150/159 [01:03<00:03,  2.35it/s, loss=0.194, v_num=15, train_loss=0.163, train_accuracy=0.956, val_loss=0.512, val_accuracy=0.866]\n",
      "Epoch 38:  96%|█████████▌| 152/159 [01:04<00:02,  2.37it/s, loss=0.194, v_num=15, train_loss=0.163, train_accuracy=0.956, val_loss=0.512, val_accuracy=0.866]\n",
      "Epoch 38:  97%|█████████▋| 154/159 [01:04<00:02,  2.40it/s, loss=0.194, v_num=15, train_loss=0.163, train_accuracy=0.956, val_loss=0.512, val_accuracy=0.866]\n",
      "Epoch 38:  98%|█████████▊| 156/159 [01:04<00:01,  2.42it/s, loss=0.194, v_num=15, train_loss=0.163, train_accuracy=0.956, val_loss=0.512, val_accuracy=0.866]\n",
      "Epoch 38:  99%|█████████▉| 158/159 [01:04<00:00,  2.45it/s, loss=0.194, v_num=15, train_loss=0.163, train_accuracy=0.956, val_loss=0.512, val_accuracy=0.866]\n",
      "Epoch 38: 100%|██████████| 159/159 [01:05<00:00,  2.44it/s, loss=0.194, v_num=15, train_loss=0.163, train_accuracy=0.956, val_loss=0.494, val_accuracy=0.875]\n",
      "                                                           \u001b[A"
     ]
    },
    {
     "name": "stderr",
     "output_type": "stream",
     "text": [
      "Epoch 38, global step 5498: val_loss was not in top 1\n"
     ]
    },
    {
     "name": "stdout",
     "output_type": "stream",
     "text": [
      "Epoch 39:  89%|████████▉ | 142/159 [01:00<00:07,  2.34it/s, loss=0.178, v_num=15, train_loss=0.179, train_accuracy=0.956, val_loss=0.494, val_accuracy=0.875] \n",
      "Validating: 0it [00:00, ?it/s]\u001b[A\n",
      "Validating:   0%|          | 0/18 [00:00<?, ?it/s]\u001b[A\n",
      "Epoch 39:  91%|█████████ | 144/159 [01:03<00:06,  2.27it/s, loss=0.178, v_num=15, train_loss=0.179, train_accuracy=0.956, val_loss=0.494, val_accuracy=0.875]\n",
      "Epoch 39:  92%|█████████▏| 146/159 [01:03<00:05,  2.29it/s, loss=0.178, v_num=15, train_loss=0.179, train_accuracy=0.956, val_loss=0.494, val_accuracy=0.875]\n",
      "Epoch 39:  93%|█████████▎| 148/159 [01:03<00:04,  2.31it/s, loss=0.178, v_num=15, train_loss=0.179, train_accuracy=0.956, val_loss=0.494, val_accuracy=0.875]\n",
      "Epoch 39:  94%|█████████▍| 150/159 [01:04<00:03,  2.34it/s, loss=0.178, v_num=15, train_loss=0.179, train_accuracy=0.956, val_loss=0.494, val_accuracy=0.875]\n",
      "Epoch 39:  96%|█████████▌| 152/159 [01:04<00:02,  2.36it/s, loss=0.178, v_num=15, train_loss=0.179, train_accuracy=0.956, val_loss=0.494, val_accuracy=0.875]\n",
      "Epoch 39:  97%|█████████▋| 154/159 [01:04<00:02,  2.39it/s, loss=0.178, v_num=15, train_loss=0.179, train_accuracy=0.956, val_loss=0.494, val_accuracy=0.875]\n",
      "Epoch 39:  98%|█████████▊| 156/159 [01:04<00:01,  2.41it/s, loss=0.178, v_num=15, train_loss=0.179, train_accuracy=0.956, val_loss=0.494, val_accuracy=0.875]\n",
      "Epoch 39:  99%|█████████▉| 158/159 [01:04<00:00,  2.44it/s, loss=0.178, v_num=15, train_loss=0.179, train_accuracy=0.956, val_loss=0.494, val_accuracy=0.875]\n",
      "Epoch 39: 100%|██████████| 159/159 [01:05<00:00,  2.43it/s, loss=0.178, v_num=15, train_loss=0.179, train_accuracy=0.956, val_loss=0.483, val_accuracy=0.875]\n",
      "                                                           \u001b[A"
     ]
    },
    {
     "name": "stderr",
     "output_type": "stream",
     "text": [
      "Epoch 39, global step 5639: val_loss was not in top 1\n"
     ]
    },
    {
     "name": "stdout",
     "output_type": "stream",
     "text": [
      "Epoch 39: 100%|██████████| 159/159 [01:05<00:00,  2.43it/s, loss=0.178, v_num=15, train_loss=0.179, train_accuracy=0.956, val_loss=0.483, val_accuracy=0.875]\n"
     ]
    }
   ],
   "source": [
    "trainer.fit(model, data_module)"
   ]
  },
  {
   "cell_type": "code",
   "execution_count": 21,
   "id": "eb9626cc",
   "metadata": {},
   "outputs": [
    {
     "name": "stderr",
     "output_type": "stream",
     "text": [
      "LOCAL_RANK: 0 - CUDA_VISIBLE_DEVICES: [0,1]\n"
     ]
    },
    {
     "name": "stdout",
     "output_type": "stream",
     "text": [
      "Testing: 100%|██████████| 18/18 [00:04<00:00,  6.16it/s]--------------------------------------------------------------------------------\n",
      "DATALOADER:0 TEST RESULTS\n",
      "{'test_accuracy': 0.8573456406593323, 'test_loss': 0.5254844427108765}\n",
      "--------------------------------------------------------------------------------\n",
      "Testing: 100%|██████████| 18/18 [00:04<00:00,  3.84it/s]\n"
     ]
    },
    {
     "data": {
      "text/plain": [
       "[{'test_loss': 0.5254844427108765, 'test_accuracy': 0.8573456406593323}]"
      ]
     },
     "execution_count": 21,
     "metadata": {},
     "output_type": "execute_result"
    }
   ],
   "source": [
    "trainer.test(model, data_module)"
   ]
  },
  {
   "cell_type": "markdown",
   "id": "0e2dbedc",
   "metadata": {},
   "source": [
    "## Train from check point"
   ]
  },
  {
   "cell_type": "code",
   "execution_count": 22,
   "id": "d15a6381",
   "metadata": {},
   "outputs": [],
   "source": [
    "# trainer.fit(model, data_module, ckpt_path=\"/home/masalu/checkpoints/best-checkpoint.ckpt\")"
   ]
  },
  {
   "cell_type": "markdown",
   "id": "20e301d8",
   "metadata": {},
   "source": [
    "## Predictions"
   ]
  },
  {
   "cell_type": "code",
   "execution_count": 23,
   "id": "bf6f6b8d",
   "metadata": {},
   "outputs": [],
   "source": [
    "trained_model = DrowsyPredictor.load_from_checkpoint(\n",
    "    trainer.checkpoint_callback.best_model_path,\n",
    "    n_features=len(FEATURE_COLUMNS),\n",
    "    n_classes=len(label_encoder.classes_)\n",
    ")\n",
    "\n",
    "trained_model.freeze()"
   ]
  },
  {
   "cell_type": "code",
   "execution_count": 24,
   "id": "676cfb3d",
   "metadata": {},
   "outputs": [
    {
     "name": "stderr",
     "output_type": "stream",
     "text": [
      "100%|██████████| 1409/1409 [05:04<00:00,  4.63it/s]\n"
     ]
    }
   ],
   "source": [
    "from tqdm import tqdm\n",
    "\n",
    "test_dataset = DrowsyDataset(test_sequences)\n",
    "\n",
    "predictions = []\n",
    "labels = [] \n",
    "\n",
    "for item in tqdm(test_dataset):\n",
    "    sequence = item[\"sequence\"]\n",
    "    label = item[\"label\"]\n",
    "    \n",
    "    _, output = trained_model(sequence.unsqueeze(dim=0))\n",
    "    prediciton = torch.argmax(output, dim=1)\n",
    "    predictions.append(prediciton.item())\n",
    "    labels.append(label.item())"
   ]
  },
  {
   "cell_type": "code",
   "execution_count": 25,
   "id": "44689308",
   "metadata": {},
   "outputs": [
    {
     "name": "stdout",
     "output_type": "stream",
     "text": [
      "              precision    recall  f1-score   support\n",
      "\n",
      "     Fatigue       0.85      0.82      0.83       698\n",
      "      Normal       0.83      0.85      0.84       711\n",
      "\n",
      "    accuracy                           0.84      1409\n",
      "   macro avg       0.84      0.84      0.84      1409\n",
      "weighted avg       0.84      0.84      0.84      1409\n",
      "\n"
     ]
    }
   ],
   "source": [
    "print(\n",
    "    classification_report(labels, predictions, target_names=label_encoder.classes_)\n",
    ")"
   ]
  },
  {
   "cell_type": "code",
   "execution_count": 26,
   "id": "f79f7617",
   "metadata": {},
   "outputs": [],
   "source": [
    "import seaborn as sns\n",
    "def show_confusion_matrix(confusion_matrix):\n",
    "    hmap = sns.heatmap(confusion_matrix, annot=True, fmt=\"d\", cmap=\"Blues\")\n",
    "    hmap.yaxis.set_ticklabels(hmap.yaxis.get_ticklabels(), rotation=0, ha=\"right\")\n",
    "    hmap.xaxis.set_ticklabels(hmap.xaxis.get_ticklabels(), rotation=30, ha=\"right\")\n",
    "    plt.ylabel(\"True Drowsy\")\n",
    "    plt.xlabel(\"Predicted Drowsy\")"
   ]
  },
  {
   "cell_type": "code",
   "execution_count": 27,
   "id": "0dead215",
   "metadata": {},
   "outputs": [],
   "source": [
    "cm = confusion_matrix(labels, predictions)\n",
    "df_cm = pd.DataFrame(\n",
    "    cm, index=label_encoder.classes_, columns=label_encoder.classes_\n",
    ")"
   ]
  },
  {
   "cell_type": "code",
   "execution_count": 28,
   "id": "dc3facf0",
   "metadata": {},
   "outputs": [
    {
     "data": {
      "image/png": "[encoded data removed]",
      "text/plain": [
       "<Figure size 432x288 with 2 Axes>"
      ]
     },
     "metadata": {
      "needs_background": "light"
     },
     "output_type": "display_data"
    }
   ],
   "source": [
    "show_confusion_matrix(df_cm)"
   ]
  },
  {
   "cell_type": "code",
   "execution_count": null,
   "id": "c4af5808",
   "metadata": {},
   "outputs": [],
   "source": []
  }
 ],
 "metadata": {
  "kernelspec": {
   "display_name": "Python 3",
   "language": "python",
   "name": "python3"
  },
  "language_info": {
   "codemirror_mode": {
    "name": "ipython",
    "version": 3
   },
   "file_extension": ".py",
   "mimetype": "text/x-python",
   "name": "python",
   "nbconvert_exporter": "python",
   "pygments_lexer": "ipython3",
   "version": "3.6.9"
  }
 },
 "nbformat": 4,
 "nbformat_minor": 5
}
