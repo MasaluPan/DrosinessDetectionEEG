{
 "cells": [
  {
   "cell_type": "code",
   "execution_count": 1,
   "id": "73ee408b",
   "metadata": {},
   "outputs": [
    {
     "name": "stderr",
     "output_type": "stream",
     "text": [
      "/usr/local/lib/python3.6/dist-packages/tqdm/auto.py:22: TqdmWarning: IProgress not found. Please update jupyter and ipywidgets. See https://ipywidgets.readthedocs.io/en/stable/user_install.html\n",
      "  from .autonotebook import tqdm as notebook_tqdm\n"
     ]
    },
    {
     "name": "stdout",
     "output_type": "stream",
     "text": [
      "cuda\n"
     ]
    }
   ],
   "source": [
    "import os\n",
    "import pandas as pd\n",
    "import numpy as np\n",
    "from sklearn.preprocessing import LabelEncoder\n",
    "from sklearn.model_selection import train_test_split\n",
    "from sklearn.metrics import classification_report, confusion_matrix\n",
    "import matplotlib.pyplot as plt\n",
    "\n",
    "import torch\n",
    "from torch import nn, optim\n",
    "from torch.nn import functional as F\n",
    "from torch.utils.data import Dataset, DataLoader\n",
    "\n",
    "import torchmetrics\n",
    "from torchmetrics.functional import accuracy\n",
    "\n",
    "import pytorch_lightning as pl\n",
    "from pytorch_lightning.loggers import TensorBoardLogger\n",
    "from pytorch_lightning.callbacks import ModelCheckpoint\n",
    "\n",
    "device = torch.device(\"cuda\" if torch.cuda.is_available() else \"cpu\")\n",
    "print(device)"
   ]
  },
  {
   "cell_type": "markdown",
   "id": "dba0665e",
   "metadata": {},
   "source": [
    "## Model Setup "
   ]
  },
  {
   "cell_type": "code",
   "execution_count": 2,
   "id": "c1703e27",
   "metadata": {},
   "outputs": [
    {
     "name": "stderr",
     "output_type": "stream",
     "text": [
      "Global seed set to 42\n"
     ]
    }
   ],
   "source": [
    "pl.seed_everything(42, workers=True)\n",
    "\n",
    "class DrowsyDataset(Dataset):\n",
    "    \n",
    "    def __init__(self, sequences):\n",
    "        self.sequences = sequences\n",
    "        \n",
    "    def __len__(self):\n",
    "        return len(self.sequences)\n",
    "    \n",
    "    def __getitem__(self, idx):\n",
    "        sequence, label = self.sequences[idx]\n",
    "        return dict(\n",
    "            sequence=torch.Tensor(sequence.to_numpy()),\n",
    "            label=torch.tensor(label).long()\n",
    "        )\n",
    "    \n",
    "class DrowsyDataModule(pl.LightningDataModule):\n",
    "    \n",
    "    def __init__(self, train_sequences, val_sequences, test_sequences, batch_size):\n",
    "        super().__init__()\n",
    "        self.train_sequences = train_sequences\n",
    "        self.val_sequences = val_sequences\n",
    "        self.test_sequences = test_sequences\n",
    "        self.batch_size = batch_size\n",
    "\n",
    "    def setup(self, stage=None):\n",
    "        self.train_dataset = DrowsyDataset(self.train_sequences)\n",
    "        self.val_dataset = DrowsyDataset(self.val_sequences)\n",
    "        self.test_dataset = DrowsyDataset(self.test_sequences)\n",
    "        \n",
    "    def train_dataloader(self):\n",
    "        return DataLoader(\n",
    "            self.train_dataset,\n",
    "            batch_size=self.batch_size,\n",
    "            shuffle=True,\n",
    "            num_workers=os.cpu_count()\n",
    "        )\n",
    "    \n",
    "    def val_dataloader(self):\n",
    "        return DataLoader(\n",
    "            self.val_dataset,\n",
    "            batch_size=self.batch_size,\n",
    "            shuffle=False,\n",
    "            num_workers=os.cpu_count()\n",
    "        )\n",
    "    \n",
    "    def test_dataloader(self):\n",
    "        return DataLoader(\n",
    "            self.test_dataset,\n",
    "            batch_size=self.batch_size,\n",
    "            shuffle=False,\n",
    "            num_workers=os.cpu_count()\n",
    "        ) \n",
    "\n",
    "class DrowsyModel(nn.Module):\n",
    "    \n",
    "    def __init__(self, n_features, n_classes, n_hidden=256, n_layers=3):\n",
    "        super().__init__()\n",
    "        \n",
    "        self.n_hidden = n_hidden\n",
    "        \n",
    "        self.lstm = nn.LSTM(\n",
    "            input_size=n_features,\n",
    "            hidden_size=n_hidden,\n",
    "            num_layers=n_layers,\n",
    "            batch_first=True,\n",
    "            dropout=0.75\n",
    "        )\n",
    "        \n",
    "        self.classifier = nn.Linear(n_hidden, n_classes)\n",
    "        \n",
    "    def forward(self, x):\n",
    "        self.lstm.flatten_parameters()\n",
    "        _, (hidden, _) = self.lstm(x)\n",
    "        \n",
    "        out = hidden[-1]\n",
    "        return self.classifier(out)\n",
    "    \n",
    "class DrowsyPredictor(pl.LightningModule):\n",
    "    \n",
    "    def __init__(self, n_features: int, n_classes: int):\n",
    "        super().__init__()\n",
    "        self.model = DrowsyModel(n_features, n_classes)\n",
    "        self.criterion = nn.CrossEntropyLoss()\n",
    "        \n",
    "    def forward(self, x, label=None):\n",
    "        output = self.model(x)\n",
    "        loss = 0\n",
    "        if label is not None:\n",
    "            loss = self.criterion(output, label)\n",
    "        return loss, output\n",
    "        \n",
    "    def training_step(self, batch, batch_idx):\n",
    "        sequences = batch[\"sequence\"]\n",
    "        labels = batch[\"label\"]\n",
    "        loss, outputs = self(sequences, labels)\n",
    "        predictions = torch.argmax(outputs, dim=1)\n",
    "        step_accuracy = accuracy(predictions, labels)\n",
    "        \n",
    "        self.log(\"train_loss\", loss, prog_bar=True, logger=True)\n",
    "        self.log(\"train_accuracy\", step_accuracy, prog_bar=True, logger=True)\n",
    "        \n",
    "        return {\"loss\": loss, \"accuracy\": step_accuracy}\n",
    "    \n",
    "    def validation_step(self, batch, batch_idx):\n",
    "        sequences = batch[\"sequence\"]\n",
    "        labels = batch[\"label\"]\n",
    "        loss, outputs = self(sequences, labels)\n",
    "        predictions = torch.argmax(outputs, dim=1)\n",
    "        step_accuracy = accuracy(predictions, labels)\n",
    "        \n",
    "        self.log(\"val_loss\", loss, prog_bar=True, logger=True)\n",
    "        self.log(\"val_accuracy\", step_accuracy, prog_bar=True, logger=True)\n",
    "        \n",
    "        return {\"loss\": loss, \"accuracy\": step_accuracy}\n",
    "    \n",
    "    def test_step(self, batch, batch_idx):\n",
    "        sequences = batch[\"sequence\"]\n",
    "        labels = batch[\"label\"]\n",
    "        loss, outputs = self(sequences, labels)\n",
    "        predictions = torch.argmax(outputs, dim=1)\n",
    "        step_accuracy = accuracy(predictions, labels)\n",
    "        \n",
    "        self.log(\"test_loss\", loss, prog_bar=True, logger=True)\n",
    "        self.log(\"test_accuracy\", step_accuracy, prog_bar=True, logger=True)\n",
    "        \n",
    "        return {\"loss\": loss, \"accuracy\": step_accuracy}\n",
    "    \n",
    "    def configure_optimizers(self):\n",
    "        return optim.Adam(self.parameters(), lr=0.0001)"
   ]
  },
  {
   "cell_type": "markdown",
   "id": "ad2dc18a",
   "metadata": {},
   "source": [
    "## 參數設置"
   ]
  },
  {
   "cell_type": "code",
   "execution_count": null,
   "id": "6907a100",
   "metadata": {},
   "outputs": [],
   "source": []
  },
  {
   "cell_type": "code",
   "execution_count": 3,
   "id": "4a725d49",
   "metadata": {},
   "outputs": [
    {
     "data": {
      "text/plain": [
       "ERROR: Failed to launch TensorBoard (exited with -6).\n",
       "Contents of stderr:\n",
       "2022-03-08 08:41:33.916283: I tensorflow/stream_executor/platform/default/dso_loader.cc:48] Successfully opened dynamic library libcudart.so.10.1\n",
       "E0308 08:42:11.963188 140516159272768 program.py:312] TensorBoard could not bind to port 8888, it was already in use\n",
       "ERROR: TensorBoard could not bind to port 8888, it was already in use\n",
       "terminate called without an active exception\n",
       "Fatal Python error: Aborted\n",
       "\n",
       "Current thread 0x00007fcc006cc700 (most recent call first):\n",
       "  File \"/usr/local/lib/python3.6/dist-packages/tensorflow/python/lib/io/file_io.py\", line 700 in list_directory_v2\n",
       "  File \"/usr/local/lib/python3.6/dist-packages/tensorboard/backend/event_processing/io_wrapper.py\", line 89 in ListDirectoryAbsolute\n",
       "  File \"/usr/local/lib/python3.6/dist-packages/tensorboard/backend/event_processing/directory_watcher.py\", line 212 in _GetNextPath\n",
       "  File \"/usr/local/lib/python3.6/dist-packages/tensorboard/backend/event_processing/directory_watcher.py\", line 175 in _InitializeLoader\n",
       "  File \"/usr/local/lib/python3.6/dist-packages/tensorboard/backend/event_processing/directory_watcher.py\", line 112 in _LoadInternal\n",
       "  File \"/usr/local/lib/python3.6/dist-packages/tensorboard/backend/event_processing/directory_watcher.py\", line 90 in Load\n",
       "  File \"/usr/local/lib/python3.6/dist-packages/tensorboard/backend/event_processing/plugin_event_accumulator.py\", line 181 in Reload\n",
       "  File \"/usr/local/lib/python3.6/dist-packages/tensorboard/backend/event_processing/plugin_event_multiplexer.py\", line 237 in Worker\n",
       "  File \"/usr/local/lib/python3.6/dist-packages/tensorboard/backend/event_processing/plugin_event_multiplexer.py\", line 259 in Reload\n",
       "  File \"/usr/local/lib/python3.6/dist-packages/tensorboard/backend/event_processing/data_ingester.py\", line 104 in _reload\n",
       "  File \"/usr/lib/python3.6/threading.py\", line 864 in run\n",
       "  File \"/usr/lib/python3.6/threading.py\", line 916 in _bootstrap_inner\n",
       "  File \"/usr/lib/python3.6/threading.py\", line 884 in _bootstrap\n",
       "\n",
       "Thread 0x00007fcc77c23740 (most recent call first):"
      ]
     },
     "metadata": {},
     "output_type": "display_data"
    }
   ],
   "source": [
    "%load_ext tensorboard\n",
    "%reload_ext tensorboard\n",
    "%tensorboard --logdir ./lightning_logs --host 0.0.0.0 --port=8888"
   ]
  },
  {
   "cell_type": "code",
   "execution_count": 4,
   "id": "fbedfd71",
   "metadata": {},
   "outputs": [],
   "source": [
    "X_train = pd.read_csv('../data2.csv')"
   ]
  },
  {
   "cell_type": "code",
   "execution_count": 5,
   "id": "d89bca4d",
   "metadata": {},
   "outputs": [],
   "source": [
    "N_EPOCHS = 200\n",
    "BATCH_SIZE = 50\n",
    "\n",
    "# randomed \n",
    "ORG_FEATURE_COLUMNS = ['HEOR', 'T5', 'VEOL', 'VEOU', 'F8', 'FZ', 'F7', 'TP8', 'FC3', 'T4', 'HEOL', 'FT10', 'O2', 'FC4', 'FCZ', 'CP3', 'FP2', 'TP7', 'C3', 'F3', 'PZ', 'F4', 'O1', 'FT7', 'CP4', 'FP1', 'C4', 'T6', 'FT8', 'CZ', 'PO1', 'OZ', 'A2', 'A1', 'T3', 'P4', 'P3', 'FT9', 'CPZ', 'PO2']\n",
    "# ['HEOR', 'T5', 'VEOL', 'VEOU', 'F8', 'FZ', 'F7', 'TP8', 'FC3', 'T4', 'HEOL', 'FT10', 'O2', 'FC4', 'FCZ', 'CP3', 'FP2', 'TP7', 'C3', 'F3', 'PZ', 'F4', 'O1', 'FT7', 'CP4', 'FP1', 'C4', 'T6', 'FT8', 'CZ', 'PO1', 'OZ', 'A2', 'A1', 'T3', 'P4', 'P3', 'FT9', 'CPZ', 'PO2']\n",
    "g = X_train.groupby(\"group\")"
   ]
  },
  {
   "cell_type": "code",
   "execution_count": 6,
   "id": "a227ece2",
   "metadata": {},
   "outputs": [],
   "source": [
    "# import random\n",
    "# ORG_FEATURE_COLUMNS = ['TP8', 'FP2', 'FCZ', 'FT10', 'O2', 'O1', 'FT7', 'F4', 'TP7', 'C3', 'C4', 'F3', 'FT8', 'T6', 'HEOR', 'T5', 'VEOL', 'F7', 'FZ', 'VEOU', 'A1', 'P3', 'PZ', 'CP3', 'P4', 'CPZ', 'A2', 'HEOL', 'CP4', 'FT9', 'F8', 'OZ', 'CZ', 'FC4', 'FC3', 'FP1', 'PO1', 'T3', 'T4', 'PO2']\n",
    "# random.shuffle(ORG_FEATURE_COLUMNS)\n",
    "# print(ORG_FEATURE_COLUMNS)"
   ]
  },
  {
   "cell_type": "markdown",
   "id": "90c9ac6d",
   "metadata": {},
   "source": [
    "## Main"
   ]
  },
  {
   "cell_type": "code",
   "execution_count": null,
   "id": "484d3379",
   "metadata": {},
   "outputs": [
    {
     "name": "stdout",
     "output_type": "stream",
     "text": [
      "------------------ Round: 17 ------------------\n",
      "['TP7', 'C3', 'F3', 'PZ', 'F4', 'O1', 'FT7', 'CP4', 'FP1', 'C4', 'T6', 'FT8', 'CZ', 'PO1', 'OZ', 'A2', 'A1', 'T3', 'P4', 'P3', 'FT9', 'CPZ', 'PO2']\n",
      "Len: 23\n"
     ]
    },
    {
     "name": "stderr",
     "output_type": "stream",
     "text": [
      "GPU available: True, used: True\n",
      "TPU available: False, using: 0 TPU cores\n",
      "IPU available: False, using: 0 IPUs\n",
      "Restoring states from the checkpoint path at /Workspace/code/checkpoints/best-checkpoint-corr-mi-17.ckpt\n",
      "LOCAL_RANK: 0 - CUDA_VISIBLE_DEVICES: [0,1,2]\n",
      "/usr/local/lib/python3.6/dist-packages/pytorch_lightning/trainer/connectors/checkpoint_connector.py:251: UserWarning: You're resuming from a checkpoint that ended mid-epoch. Training will start from the beginning of the next epoch. This can cause unreliable results if further training is done, consider using an end of epoch checkpoint.\n",
      "  \"You're resuming from a checkpoint that ended mid-epoch.\"\n",
      "Restored all states from the checkpoint file at /Workspace/code/checkpoints/best-checkpoint-corr-mi-17.ckpt\n",
      "\n",
      "  | Name      | Type             | Params\n",
      "-----------------------------------------------\n",
      "0 | model     | DrowsyModel      | 1.3 M \n",
      "1 | criterion | CrossEntropyLoss | 0     \n",
      "-----------------------------------------------\n",
      "1.3 M     Trainable params\n",
      "0         Non-trainable params\n",
      "1.3 M     Total params\n",
      "5.364     Total estimated model params size (MB)\n",
      "/usr/local/lib/python3.6/dist-packages/pytorch_lightning/callbacks/model_checkpoint.py:631: UserWarning: Checkpoint directory /Workspace/code/checkpoints exists and is not empty.\n",
      "  rank_zero_warn(f\"Checkpoint directory {dirpath} exists and is not empty.\")\n"
     ]
    },
    {
     "name": "stdout",
     "output_type": "stream",
     "text": [
      "                                                                      "
     ]
    },
    {
     "name": "stderr",
     "output_type": "stream",
     "text": [
      "Global seed set to 42\n"
     ]
    },
    {
     "name": "stdout",
     "output_type": "stream",
     "text": [
      "Epoch 199:  89%|████████▊ | 226/255 [01:17<00:09,  2.92it/s, loss=0.0423, v_num=5, train_loss=0.00486, train_accuracy=1.000]\n",
      "Validating: 0it [00:00, ?it/s]\u001b[A\n",
      "Validating:   0%|          | 0/29 [00:00<?, ?it/s]\u001b[A\n",
      "Epoch 199:  89%|████████▉ | 228/255 [01:19<00:09,  2.88it/s, loss=0.0423, v_num=5, train_loss=0.00486, train_accuracy=1.000]\n",
      "Epoch 199:  90%|█████████ | 230/255 [01:19<00:08,  2.90it/s, loss=0.0423, v_num=5, train_loss=0.00486, train_accuracy=1.000]\n",
      "Epoch 199:  91%|█████████ | 232/255 [01:19<00:07,  2.92it/s, loss=0.0423, v_num=5, train_loss=0.00486, train_accuracy=1.000]\n",
      "Epoch 199:  92%|█████████▏| 234/255 [01:19<00:07,  2.94it/s, loss=0.0423, v_num=5, train_loss=0.00486, train_accuracy=1.000]\n",
      "Epoch 199:  93%|█████████▎| 236/255 [01:19<00:06,  2.96it/s, loss=0.0423, v_num=5, train_loss=0.00486, train_accuracy=1.000]\n",
      "Epoch 199:  93%|█████████▎| 238/255 [01:19<00:05,  2.98it/s, loss=0.0423, v_num=5, train_loss=0.00486, train_accuracy=1.000]\n",
      "Epoch 199:  94%|█████████▍| 240/255 [01:20<00:05,  3.00it/s, loss=0.0423, v_num=5, train_loss=0.00486, train_accuracy=1.000]\n",
      "Epoch 199:  95%|█████████▍| 242/255 [01:20<00:04,  3.02it/s, loss=0.0423, v_num=5, train_loss=0.00486, train_accuracy=1.000]\n",
      "Epoch 199:  96%|█████████▌| 244/255 [01:20<00:03,  3.04it/s, loss=0.0423, v_num=5, train_loss=0.00486, train_accuracy=1.000]\n",
      "Epoch 199:  96%|█████████▋| 246/255 [01:20<00:02,  3.06it/s, loss=0.0423, v_num=5, train_loss=0.00486, train_accuracy=1.000]\n",
      "Epoch 199:  97%|█████████▋| 248/255 [01:20<00:02,  3.08it/s, loss=0.0423, v_num=5, train_loss=0.00486, train_accuracy=1.000]\n",
      "Epoch 199:  98%|█████████▊| 250/255 [01:20<00:01,  3.09it/s, loss=0.0423, v_num=5, train_loss=0.00486, train_accuracy=1.000]\n",
      "Epoch 199:  99%|█████████▉| 252/255 [01:20<00:00,  3.11it/s, loss=0.0423, v_num=5, train_loss=0.00486, train_accuracy=1.000]\n",
      "Epoch 199: 100%|█████████▉| 254/255 [01:21<00:00,  3.13it/s, loss=0.0423, v_num=5, train_loss=0.00486, train_accuracy=1.000]\n",
      "Epoch 199: 100%|██████████| 255/255 [01:21<00:00,  3.13it/s, loss=0.0423, v_num=5, train_loss=0.00486, train_accuracy=1.000, val_loss=0.157, val_accuracy=0.945]\n",
      "Epoch 199: 100%|██████████| 255/255 [01:21<00:00,  3.13it/s, loss=0.0423, v_num=5, train_loss=0.00486, train_accuracy=1.000, val_loss=0.157, val_accuracy=0.945]"
     ]
    },
    {
     "name": "stderr",
     "output_type": "stream",
     "text": [
      "Epoch 199, global step 45199: val_loss was not in top 2\n"
     ]
    },
    {
     "name": "stdout",
     "output_type": "stream",
     "text": [
      "Epoch 199: 100%|██████████| 255/255 [01:21<00:00,  3.13it/s, loss=0.0423, v_num=5, train_loss=0.00486, train_accuracy=1.000, val_loss=0.157, val_accuracy=0.945]\n"
     ]
    },
    {
     "name": "stderr",
     "output_type": "stream",
     "text": [
      "LOCAL_RANK: 0 - CUDA_VISIBLE_DEVICES: [0,1,2]\n"
     ]
    },
    {
     "name": "stdout",
     "output_type": "stream",
     "text": [
      "Testing: 100%|██████████| 29/29 [00:03<00:00,  8.66it/s]--------------------------------------------------------------------------------\n",
      "DATALOADER:0 TEST RESULTS\n",
      "{'test_accuracy': 0.9503193497657776, 'test_loss': 0.1399056315422058}\n",
      "--------------------------------------------------------------------------------\n",
      "Testing: 100%|██████████| 29/29 [00:04<00:00,  7.25it/s]\n",
      "------------------ Round: 18 ------------------\n",
      "['C3', 'F3', 'PZ', 'F4', 'O1', 'FT7', 'CP4', 'FP1', 'C4', 'T6', 'FT8', 'CZ', 'PO1', 'OZ', 'A2', 'A1', 'T3', 'P4', 'P3', 'FT9', 'CPZ', 'PO2']\n",
      "Len: 22\n"
     ]
    },
    {
     "name": "stderr",
     "output_type": "stream",
     "text": [
      "GPU available: True, used: True\n",
      "TPU available: False, using: 0 TPU cores\n",
      "IPU available: False, using: 0 IPUs\n",
      "LOCAL_RANK: 0 - CUDA_VISIBLE_DEVICES: [0,1,2]\n",
      "\n",
      "  | Name      | Type             | Params\n",
      "-----------------------------------------------\n",
      "0 | model     | DrowsyModel      | 1.3 M \n",
      "1 | criterion | CrossEntropyLoss | 0     \n",
      "-----------------------------------------------\n",
      "1.3 M     Trainable params\n",
      "0         Non-trainable params\n",
      "1.3 M     Total params\n",
      "5.360     Total estimated model params size (MB)\n",
      "/usr/local/lib/python3.6/dist-packages/pytorch_lightning/callbacks/model_checkpoint.py:631: UserWarning: Checkpoint directory /Workspace/code/checkpoints exists and is not empty.\n",
      "  rank_zero_warn(f\"Checkpoint directory {dirpath} exists and is not empty.\")\n"
     ]
    },
    {
     "name": "stdout",
     "output_type": "stream",
     "text": [
      "                                                                      "
     ]
    },
    {
     "name": "stderr",
     "output_type": "stream",
     "text": [
      "Global seed set to 42\n"
     ]
    },
    {
     "name": "stdout",
     "output_type": "stream",
     "text": [
      "Epoch 0:  89%|████████▊ | 226/255 [01:16<00:09,  2.96it/s, loss=0.648, v_num=3, train_loss=0.525, train_accuracy=0.833]\n",
      "Validating: 0it [00:00, ?it/s]\u001b[A\n",
      "Validating:   0%|          | 0/29 [00:00<?, ?it/s]\u001b[A\n",
      "Epoch 0:  89%|████████▉ | 228/255 [01:19<00:09,  2.85it/s, loss=0.648, v_num=3, train_loss=0.525, train_accuracy=0.833]\n",
      "Epoch 0:  90%|█████████ | 230/255 [01:20<00:08,  2.87it/s, loss=0.648, v_num=3, train_loss=0.525, train_accuracy=0.833]\n",
      "Epoch 0:  91%|█████████ | 232/255 [01:20<00:07,  2.89it/s, loss=0.648, v_num=3, train_loss=0.525, train_accuracy=0.833]\n",
      "Epoch 0:  92%|█████████▏| 234/255 [01:20<00:07,  2.91it/s, loss=0.648, v_num=3, train_loss=0.525, train_accuracy=0.833]\n",
      "Epoch 0:  93%|█████████▎| 236/255 [01:20<00:06,  2.93it/s, loss=0.648, v_num=3, train_loss=0.525, train_accuracy=0.833]\n",
      "Epoch 0:  93%|█████████▎| 238/255 [01:20<00:05,  2.95it/s, loss=0.648, v_num=3, train_loss=0.525, train_accuracy=0.833]\n",
      "Epoch 0:  94%|█████████▍| 240/255 [01:20<00:05,  2.97it/s, loss=0.648, v_num=3, train_loss=0.525, train_accuracy=0.833]\n",
      "Epoch 0:  95%|█████████▍| 242/255 [01:20<00:04,  2.99it/s, loss=0.648, v_num=3, train_loss=0.525, train_accuracy=0.833]\n",
      "Epoch 0:  96%|█████████▌| 244/255 [01:21<00:03,  3.01it/s, loss=0.648, v_num=3, train_loss=0.525, train_accuracy=0.833]\n",
      "Epoch 0:  96%|█████████▋| 246/255 [01:21<00:02,  3.03it/s, loss=0.648, v_num=3, train_loss=0.525, train_accuracy=0.833]\n",
      "Epoch 0:  97%|█████████▋| 248/255 [01:21<00:02,  3.05it/s, loss=0.648, v_num=3, train_loss=0.525, train_accuracy=0.833]\n",
      "Epoch 0:  98%|█████████▊| 250/255 [01:21<00:01,  3.07it/s, loss=0.648, v_num=3, train_loss=0.525, train_accuracy=0.833]\n",
      "Epoch 0:  99%|█████████▉| 252/255 [01:21<00:00,  3.09it/s, loss=0.648, v_num=3, train_loss=0.525, train_accuracy=0.833]\n",
      "Epoch 0: 100%|█████████▉| 254/255 [01:21<00:00,  3.11it/s, loss=0.648, v_num=3, train_loss=0.525, train_accuracy=0.833]\n",
      "Epoch 0: 100%|██████████| 255/255 [01:22<00:00,  3.09it/s, loss=0.648, v_num=3, train_loss=0.525, train_accuracy=0.833, val_loss=0.684, val_accuracy=0.597]\n",
      "Epoch 0: 100%|██████████| 255/255 [01:22<00:00,  3.09it/s, loss=0.648, v_num=3, train_loss=0.525, train_accuracy=0.833, val_loss=0.684, val_accuracy=0.597]"
     ]
    },
    {
     "name": "stderr",
     "output_type": "stream",
     "text": [
      "Epoch 0, global step 225: val_loss reached 0.68401 (best 0.68401), saving model to \"/Workspace/code/checkpoints/best-checkpoint-corr-mi-18-v6.ckpt\" as top 2\n"
     ]
    },
    {
     "name": "stdout",
     "output_type": "stream",
     "text": [
      "Epoch 1:  89%|████████▊ | 226/255 [01:16<00:09,  2.96it/s, loss=0.658, v_num=3, train_loss=0.648, train_accuracy=0.667, val_loss=0.684, val_accuracy=0.597]\n",
      "Validating: 0it [00:00, ?it/s]\u001b[A\n",
      "Validating:   0%|          | 0/29 [00:00<?, ?it/s]\u001b[A\n",
      "Epoch 1:  89%|████████▉ | 228/255 [01:20<00:09,  2.84it/s, loss=0.658, v_num=3, train_loss=0.648, train_accuracy=0.667, val_loss=0.684, val_accuracy=0.597]\n",
      "Epoch 1:  90%|█████████ | 230/255 [01:20<00:08,  2.86it/s, loss=0.658, v_num=3, train_loss=0.648, train_accuracy=0.667, val_loss=0.684, val_accuracy=0.597]\n",
      "Epoch 1:  91%|█████████ | 232/255 [01:20<00:07,  2.88it/s, loss=0.658, v_num=3, train_loss=0.648, train_accuracy=0.667, val_loss=0.684, val_accuracy=0.597]\n",
      "Epoch 1:  92%|█████████▏| 234/255 [01:20<00:07,  2.90it/s, loss=0.658, v_num=3, train_loss=0.648, train_accuracy=0.667, val_loss=0.684, val_accuracy=0.597]\n",
      "Epoch 1:  93%|█████████▎| 236/255 [01:20<00:06,  2.92it/s, loss=0.658, v_num=3, train_loss=0.648, train_accuracy=0.667, val_loss=0.684, val_accuracy=0.597]\n",
      "Epoch 1:  93%|█████████▎| 238/255 [01:21<00:05,  2.94it/s, loss=0.658, v_num=3, train_loss=0.648, train_accuracy=0.667, val_loss=0.684, val_accuracy=0.597]\n",
      "Epoch 1:  94%|█████████▍| 240/255 [01:21<00:05,  2.96it/s, loss=0.658, v_num=3, train_loss=0.648, train_accuracy=0.667, val_loss=0.684, val_accuracy=0.597]\n",
      "Epoch 1:  95%|█████████▍| 242/255 [01:21<00:04,  2.98it/s, loss=0.658, v_num=3, train_loss=0.648, train_accuracy=0.667, val_loss=0.684, val_accuracy=0.597]\n",
      "Epoch 1:  96%|█████████▌| 244/255 [01:21<00:03,  3.00it/s, loss=0.658, v_num=3, train_loss=0.648, train_accuracy=0.667, val_loss=0.684, val_accuracy=0.597]\n",
      "Epoch 1:  96%|█████████▋| 246/255 [01:21<00:02,  3.02it/s, loss=0.658, v_num=3, train_loss=0.648, train_accuracy=0.667, val_loss=0.684, val_accuracy=0.597]\n",
      "Epoch 1:  97%|█████████▋| 248/255 [01:21<00:02,  3.03it/s, loss=0.658, v_num=3, train_loss=0.648, train_accuracy=0.667, val_loss=0.684, val_accuracy=0.597]\n",
      "Epoch 1:  98%|█████████▊| 250/255 [01:21<00:01,  3.05it/s, loss=0.658, v_num=3, train_loss=0.648, train_accuracy=0.667, val_loss=0.684, val_accuracy=0.597]\n",
      "Epoch 1:  99%|█████████▉| 252/255 [01:22<00:00,  3.07it/s, loss=0.658, v_num=3, train_loss=0.648, train_accuracy=0.667, val_loss=0.684, val_accuracy=0.597]\n",
      "Epoch 1: 100%|█████████▉| 254/255 [01:22<00:00,  3.09it/s, loss=0.658, v_num=3, train_loss=0.648, train_accuracy=0.667, val_loss=0.684, val_accuracy=0.597]\n",
      "Epoch 1: 100%|██████████| 255/255 [01:22<00:00,  3.07it/s, loss=0.658, v_num=3, train_loss=0.648, train_accuracy=0.667, val_loss=0.675, val_accuracy=0.591]\n",
      "Epoch 1: 100%|██████████| 255/255 [01:22<00:00,  3.07it/s, loss=0.658, v_num=3, train_loss=0.648, train_accuracy=0.667, val_loss=0.675, val_accuracy=0.591]"
     ]
    },
    {
     "name": "stderr",
     "output_type": "stream",
     "text": [
      "Epoch 1, global step 451: val_loss reached 0.67526 (best 0.67526), saving model to \"/Workspace/code/checkpoints/best-checkpoint-corr-mi-18-v7.ckpt\" as top 2\n"
     ]
    },
    {
     "name": "stdout",
     "output_type": "stream",
     "text": [
      "Epoch 2:  89%|████████▊ | 226/255 [01:16<00:09,  2.94it/s, loss=0.585, v_num=3, train_loss=0.576, train_accuracy=0.667, val_loss=0.675, val_accuracy=0.591]\n",
      "Validating: 0it [00:00, ?it/s]\u001b[A\n",
      "Validating:   0%|          | 0/29 [00:00<?, ?it/s]\u001b[A\n",
      "Epoch 2:  89%|████████▉ | 228/255 [01:20<00:09,  2.82it/s, loss=0.585, v_num=3, train_loss=0.576, train_accuracy=0.667, val_loss=0.675, val_accuracy=0.591]\n",
      "Epoch 2:  90%|█████████ | 230/255 [01:20<00:08,  2.84it/s, loss=0.585, v_num=3, train_loss=0.576, train_accuracy=0.667, val_loss=0.675, val_accuracy=0.591]\n",
      "Epoch 2:  91%|█████████ | 232/255 [01:21<00:08,  2.86it/s, loss=0.585, v_num=3, train_loss=0.576, train_accuracy=0.667, val_loss=0.675, val_accuracy=0.591]\n",
      "Epoch 2:  92%|█████████▏| 234/255 [01:21<00:07,  2.88it/s, loss=0.585, v_num=3, train_loss=0.576, train_accuracy=0.667, val_loss=0.675, val_accuracy=0.591]\n",
      "Epoch 2:  93%|█████████▎| 236/255 [01:21<00:06,  2.90it/s, loss=0.585, v_num=3, train_loss=0.576, train_accuracy=0.667, val_loss=0.675, val_accuracy=0.591]\n",
      "Epoch 2:  93%|█████████▎| 238/255 [01:21<00:05,  2.92it/s, loss=0.585, v_num=3, train_loss=0.576, train_accuracy=0.667, val_loss=0.675, val_accuracy=0.591]\n",
      "Epoch 2:  94%|█████████▍| 240/255 [01:21<00:05,  2.94it/s, loss=0.585, v_num=3, train_loss=0.576, train_accuracy=0.667, val_loss=0.675, val_accuracy=0.591]\n",
      "Epoch 2:  95%|█████████▍| 242/255 [01:21<00:04,  2.96it/s, loss=0.585, v_num=3, train_loss=0.576, train_accuracy=0.667, val_loss=0.675, val_accuracy=0.591]\n",
      "Epoch 2:  96%|█████████▌| 244/255 [01:21<00:03,  2.98it/s, loss=0.585, v_num=3, train_loss=0.576, train_accuracy=0.667, val_loss=0.675, val_accuracy=0.591]\n",
      "Epoch 2:  96%|█████████▋| 246/255 [01:22<00:03,  2.99it/s, loss=0.585, v_num=3, train_loss=0.576, train_accuracy=0.667, val_loss=0.675, val_accuracy=0.591]\n",
      "Epoch 2:  97%|█████████▋| 248/255 [01:22<00:02,  3.01it/s, loss=0.585, v_num=3, train_loss=0.576, train_accuracy=0.667, val_loss=0.675, val_accuracy=0.591]\n",
      "Epoch 2:  98%|█████████▊| 250/255 [01:22<00:01,  3.03it/s, loss=0.585, v_num=3, train_loss=0.576, train_accuracy=0.667, val_loss=0.675, val_accuracy=0.591]\n",
      "Epoch 2:  99%|█████████▉| 252/255 [01:22<00:00,  3.05it/s, loss=0.585, v_num=3, train_loss=0.576, train_accuracy=0.667, val_loss=0.675, val_accuracy=0.591]\n",
      "Epoch 2: 100%|█████████▉| 254/255 [01:22<00:00,  3.07it/s, loss=0.585, v_num=3, train_loss=0.576, train_accuracy=0.667, val_loss=0.675, val_accuracy=0.591]\n",
      "Epoch 2: 100%|██████████| 255/255 [01:23<00:00,  3.06it/s, loss=0.585, v_num=3, train_loss=0.576, train_accuracy=0.667, val_loss=0.602, val_accuracy=0.694]\n",
      "Epoch 2: 100%|██████████| 255/255 [01:23<00:00,  3.06it/s, loss=0.585, v_num=3, train_loss=0.576, train_accuracy=0.667, val_loss=0.602, val_accuracy=0.694]"
     ]
    },
    {
     "name": "stderr",
     "output_type": "stream",
     "text": [
      "Epoch 2, global step 677: val_loss reached 0.60173 (best 0.60173), saving model to \"/Workspace/code/checkpoints/best-checkpoint-corr-mi-18-v6.ckpt\" as top 2\n"
     ]
    },
    {
     "name": "stdout",
     "output_type": "stream",
     "text": [
      "Epoch 3:  89%|████████▊ | 226/255 [01:16<00:09,  2.95it/s, loss=0.818, v_num=3, train_loss=1.140, train_accuracy=0.333, val_loss=0.602, val_accuracy=0.694]\n",
      "Validating: 0it [00:00, ?it/s]\u001b[A\n",
      "Validating:   0%|          | 0/29 [00:00<?, ?it/s]\u001b[A\n",
      "Epoch 3:  89%|████████▉ | 228/255 [01:20<00:09,  2.85it/s, loss=0.818, v_num=3, train_loss=1.140, train_accuracy=0.333, val_loss=0.602, val_accuracy=0.694]\n",
      "Epoch 3:  90%|█████████ | 230/255 [01:20<00:08,  2.87it/s, loss=0.818, v_num=3, train_loss=1.140, train_accuracy=0.333, val_loss=0.602, val_accuracy=0.694]\n",
      "Epoch 3:  91%|█████████ | 232/255 [01:20<00:07,  2.89it/s, loss=0.818, v_num=3, train_loss=1.140, train_accuracy=0.333, val_loss=0.602, val_accuracy=0.694]\n",
      "Epoch 3:  92%|█████████▏| 234/255 [01:20<00:07,  2.91it/s, loss=0.818, v_num=3, train_loss=1.140, train_accuracy=0.333, val_loss=0.602, val_accuracy=0.694]\n",
      "Epoch 3:  93%|█████████▎| 236/255 [01:20<00:06,  2.93it/s, loss=0.818, v_num=3, train_loss=1.140, train_accuracy=0.333, val_loss=0.602, val_accuracy=0.694]\n",
      "Epoch 3:  93%|█████████▎| 238/255 [01:20<00:05,  2.95it/s, loss=0.818, v_num=3, train_loss=1.140, train_accuracy=0.333, val_loss=0.602, val_accuracy=0.694]\n",
      "Epoch 3:  94%|█████████▍| 240/255 [01:20<00:05,  2.97it/s, loss=0.818, v_num=3, train_loss=1.140, train_accuracy=0.333, val_loss=0.602, val_accuracy=0.694]\n",
      "Epoch 3:  95%|█████████▍| 242/255 [01:21<00:04,  2.98it/s, loss=0.818, v_num=3, train_loss=1.140, train_accuracy=0.333, val_loss=0.602, val_accuracy=0.694]\n",
      "Epoch 3:  96%|█████████▌| 244/255 [01:21<00:03,  3.00it/s, loss=0.818, v_num=3, train_loss=1.140, train_accuracy=0.333, val_loss=0.602, val_accuracy=0.694]\n",
      "Epoch 3:  96%|█████████▋| 246/255 [01:21<00:02,  3.02it/s, loss=0.818, v_num=3, train_loss=1.140, train_accuracy=0.333, val_loss=0.602, val_accuracy=0.694]\n",
      "Epoch 3:  97%|█████████▋| 248/255 [01:21<00:02,  3.04it/s, loss=0.818, v_num=3, train_loss=1.140, train_accuracy=0.333, val_loss=0.602, val_accuracy=0.694]\n",
      "Epoch 3:  98%|█████████▊| 250/255 [01:21<00:01,  3.06it/s, loss=0.818, v_num=3, train_loss=1.140, train_accuracy=0.333, val_loss=0.602, val_accuracy=0.694]\n",
      "Epoch 3:  99%|█████████▉| 252/255 [01:21<00:00,  3.08it/s, loss=0.818, v_num=3, train_loss=1.140, train_accuracy=0.333, val_loss=0.602, val_accuracy=0.694]\n",
      "Epoch 3: 100%|█████████▉| 254/255 [01:21<00:00,  3.10it/s, loss=0.818, v_num=3, train_loss=1.140, train_accuracy=0.333, val_loss=0.602, val_accuracy=0.694]\n",
      "Epoch 3: 100%|██████████| 255/255 [01:22<00:00,  3.09it/s, loss=0.818, v_num=3, train_loss=1.140, train_accuracy=0.333, val_loss=0.869, val_accuracy=0.551]\n",
      "Epoch 3: 100%|██████████| 255/255 [01:22<00:00,  3.09it/s, loss=0.818, v_num=3, train_loss=1.140, train_accuracy=0.333, val_loss=0.869, val_accuracy=0.551]"
     ]
    },
    {
     "name": "stderr",
     "output_type": "stream",
     "text": [
      "Epoch 3, global step 903: val_loss was not in top 2\n"
     ]
    },
    {
     "name": "stdout",
     "output_type": "stream",
     "text": [
      "Epoch 4:  89%|████████▊ | 226/255 [01:16<00:09,  2.97it/s, loss=0.604, v_num=3, train_loss=0.574, train_accuracy=0.667, val_loss=0.869, val_accuracy=0.551]\n",
      "Validating: 0it [00:00, ?it/s]\u001b[A\n",
      "Validating:   0%|          | 0/29 [00:00<?, ?it/s]\u001b[A\n",
      "Epoch 4:  89%|████████▉ | 228/255 [01:19<00:09,  2.86it/s, loss=0.604, v_num=3, train_loss=0.574, train_accuracy=0.667, val_loss=0.869, val_accuracy=0.551]\n",
      "Epoch 4:  90%|█████████ | 230/255 [01:19<00:08,  2.88it/s, loss=0.604, v_num=3, train_loss=0.574, train_accuracy=0.667, val_loss=0.869, val_accuracy=0.551]\n",
      "Epoch 4:  91%|█████████ | 232/255 [01:20<00:07,  2.90it/s, loss=0.604, v_num=3, train_loss=0.574, train_accuracy=0.667, val_loss=0.869, val_accuracy=0.551]\n",
      "Epoch 4:  92%|█████████▏| 234/255 [01:20<00:07,  2.92it/s, loss=0.604, v_num=3, train_loss=0.574, train_accuracy=0.667, val_loss=0.869, val_accuracy=0.551]\n",
      "Epoch 4:  93%|█████████▎| 236/255 [01:20<00:06,  2.94it/s, loss=0.604, v_num=3, train_loss=0.574, train_accuracy=0.667, val_loss=0.869, val_accuracy=0.551]\n",
      "Epoch 4:  93%|█████████▎| 238/255 [01:20<00:05,  2.95it/s, loss=0.604, v_num=3, train_loss=0.574, train_accuracy=0.667, val_loss=0.869, val_accuracy=0.551]\n",
      "Epoch 4:  94%|█████████▍| 240/255 [01:20<00:05,  2.97it/s, loss=0.604, v_num=3, train_loss=0.574, train_accuracy=0.667, val_loss=0.869, val_accuracy=0.551]\n",
      "Epoch 4:  95%|█████████▍| 242/255 [01:20<00:04,  2.99it/s, loss=0.604, v_num=3, train_loss=0.574, train_accuracy=0.667, val_loss=0.869, val_accuracy=0.551]\n",
      "Epoch 4:  96%|█████████▌| 244/255 [01:20<00:03,  3.01it/s, loss=0.604, v_num=3, train_loss=0.574, train_accuracy=0.667, val_loss=0.869, val_accuracy=0.551]\n",
      "Epoch 4:  96%|█████████▋| 246/255 [01:21<00:02,  3.03it/s, loss=0.604, v_num=3, train_loss=0.574, train_accuracy=0.667, val_loss=0.869, val_accuracy=0.551]\n",
      "Epoch 4:  97%|█████████▋| 248/255 [01:21<00:02,  3.05it/s, loss=0.604, v_num=3, train_loss=0.574, train_accuracy=0.667, val_loss=0.869, val_accuracy=0.551]\n",
      "Epoch 4:  98%|█████████▊| 250/255 [01:21<00:01,  3.07it/s, loss=0.604, v_num=3, train_loss=0.574, train_accuracy=0.667, val_loss=0.869, val_accuracy=0.551]\n",
      "Epoch 4:  99%|█████████▉| 252/255 [01:21<00:00,  3.09it/s, loss=0.604, v_num=3, train_loss=0.574, train_accuracy=0.667, val_loss=0.869, val_accuracy=0.551]\n",
      "Epoch 4: 100%|█████████▉| 254/255 [01:21<00:00,  3.11it/s, loss=0.604, v_num=3, train_loss=0.574, train_accuracy=0.667, val_loss=0.869, val_accuracy=0.551]\n",
      "Epoch 4: 100%|██████████| 255/255 [01:22<00:00,  3.09it/s, loss=0.604, v_num=3, train_loss=0.574, train_accuracy=0.667, val_loss=0.616, val_accuracy=0.674]\n",
      "Epoch 4: 100%|██████████| 255/255 [01:22<00:00,  3.09it/s, loss=0.604, v_num=3, train_loss=0.574, train_accuracy=0.667, val_loss=0.616, val_accuracy=0.674]"
     ]
    },
    {
     "name": "stderr",
     "output_type": "stream",
     "text": [
      "Epoch 4, global step 1129: val_loss reached 0.61628 (best 0.60173), saving model to \"/Workspace/code/checkpoints/best-checkpoint-corr-mi-18-v7.ckpt\" as top 2\n"
     ]
    },
    {
     "name": "stdout",
     "output_type": "stream",
     "text": [
      "Epoch 5:  89%|████████▊ | 226/255 [01:16<00:09,  2.94it/s, loss=0.518, v_num=3, train_loss=0.465, train_accuracy=0.778, val_loss=0.616, val_accuracy=0.674]\n",
      "Validating: 0it [00:00, ?it/s]\u001b[A\n",
      "Validating:   0%|          | 0/29 [00:00<?, ?it/s]\u001b[A\n",
      "Epoch 5:  89%|████████▉ | 228/255 [01:20<00:09,  2.83it/s, loss=0.518, v_num=3, train_loss=0.465, train_accuracy=0.778, val_loss=0.616, val_accuracy=0.674]\n",
      "Epoch 5:  90%|█████████ | 230/255 [01:20<00:08,  2.85it/s, loss=0.518, v_num=3, train_loss=0.465, train_accuracy=0.778, val_loss=0.616, val_accuracy=0.674]\n",
      "Epoch 5:  91%|█████████ | 232/255 [01:20<00:08,  2.87it/s, loss=0.518, v_num=3, train_loss=0.465, train_accuracy=0.778, val_loss=0.616, val_accuracy=0.674]\n",
      "Epoch 5:  92%|█████████▏| 234/255 [01:20<00:07,  2.89it/s, loss=0.518, v_num=3, train_loss=0.465, train_accuracy=0.778, val_loss=0.616, val_accuracy=0.674]\n",
      "Epoch 5:  93%|█████████▎| 236/255 [01:21<00:06,  2.91it/s, loss=0.518, v_num=3, train_loss=0.465, train_accuracy=0.778, val_loss=0.616, val_accuracy=0.674]\n",
      "Epoch 5:  93%|█████████▎| 238/255 [01:21<00:05,  2.93it/s, loss=0.518, v_num=3, train_loss=0.465, train_accuracy=0.778, val_loss=0.616, val_accuracy=0.674]\n",
      "Epoch 5:  94%|█████████▍| 240/255 [01:21<00:05,  2.95it/s, loss=0.518, v_num=3, train_loss=0.465, train_accuracy=0.778, val_loss=0.616, val_accuracy=0.674]\n",
      "Epoch 5:  95%|█████████▍| 242/255 [01:21<00:04,  2.97it/s, loss=0.518, v_num=3, train_loss=0.465, train_accuracy=0.778, val_loss=0.616, val_accuracy=0.674]\n",
      "Epoch 5:  96%|█████████▌| 244/255 [01:21<00:03,  2.99it/s, loss=0.518, v_num=3, train_loss=0.465, train_accuracy=0.778, val_loss=0.616, val_accuracy=0.674]\n",
      "Epoch 5:  96%|█████████▋| 246/255 [01:21<00:02,  3.01it/s, loss=0.518, v_num=3, train_loss=0.465, train_accuracy=0.778, val_loss=0.616, val_accuracy=0.674]\n",
      "Epoch 5:  97%|█████████▋| 248/255 [01:21<00:02,  3.02it/s, loss=0.518, v_num=3, train_loss=0.465, train_accuracy=0.778, val_loss=0.616, val_accuracy=0.674]\n",
      "Epoch 5:  98%|█████████▊| 250/255 [01:22<00:01,  3.04it/s, loss=0.518, v_num=3, train_loss=0.465, train_accuracy=0.778, val_loss=0.616, val_accuracy=0.674]\n",
      "Epoch 5:  99%|█████████▉| 252/255 [01:22<00:00,  3.06it/s, loss=0.518, v_num=3, train_loss=0.465, train_accuracy=0.778, val_loss=0.616, val_accuracy=0.674]\n",
      "Epoch 5: 100%|█████████▉| 254/255 [01:22<00:00,  3.08it/s, loss=0.518, v_num=3, train_loss=0.465, train_accuracy=0.778, val_loss=0.616, val_accuracy=0.674]\n",
      "Epoch 5: 100%|██████████| 255/255 [01:23<00:00,  3.07it/s, loss=0.518, v_num=3, train_loss=0.465, train_accuracy=0.778, val_loss=0.520, val_accuracy=0.765]\n",
      "Epoch 5: 100%|██████████| 255/255 [01:23<00:00,  3.07it/s, loss=0.518, v_num=3, train_loss=0.465, train_accuracy=0.778, val_loss=0.520, val_accuracy=0.765]"
     ]
    },
    {
     "name": "stderr",
     "output_type": "stream",
     "text": [
      "Epoch 5, global step 1355: val_loss reached 0.51963 (best 0.51963), saving model to \"/Workspace/code/checkpoints/best-checkpoint-corr-mi-18-v7.ckpt\" as top 2\n"
     ]
    },
    {
     "name": "stdout",
     "output_type": "stream",
     "text": [
      "Epoch 6:  89%|████████▊ | 226/255 [01:19<00:10,  2.84it/s, loss=0.456, v_num=3, train_loss=0.180, train_accuracy=1.000, val_loss=0.520, val_accuracy=0.765]\n",
      "Validating: 0it [00:00, ?it/s]\u001b[A\n",
      "Validating:   0%|          | 0/29 [00:00<?, ?it/s]\u001b[A\n",
      "Epoch 6:  89%|████████▉ | 228/255 [01:23<00:09,  2.74it/s, loss=0.456, v_num=3, train_loss=0.180, train_accuracy=1.000, val_loss=0.520, val_accuracy=0.765]\n",
      "Epoch 6:  90%|█████████ | 230/255 [01:23<00:09,  2.76it/s, loss=0.456, v_num=3, train_loss=0.180, train_accuracy=1.000, val_loss=0.520, val_accuracy=0.765]\n",
      "Epoch 6:  91%|█████████ | 232/255 [01:23<00:08,  2.78it/s, loss=0.456, v_num=3, train_loss=0.180, train_accuracy=1.000, val_loss=0.520, val_accuracy=0.765]\n",
      "Epoch 6:  92%|█████████▏| 234/255 [01:23<00:07,  2.80it/s, loss=0.456, v_num=3, train_loss=0.180, train_accuracy=1.000, val_loss=0.520, val_accuracy=0.765]\n",
      "Epoch 6:  93%|█████████▎| 236/255 [01:23<00:06,  2.82it/s, loss=0.456, v_num=3, train_loss=0.180, train_accuracy=1.000, val_loss=0.520, val_accuracy=0.765]\n",
      "Epoch 6:  93%|█████████▎| 238/255 [01:23<00:05,  2.84it/s, loss=0.456, v_num=3, train_loss=0.180, train_accuracy=1.000, val_loss=0.520, val_accuracy=0.765]\n",
      "Epoch 6:  94%|█████████▍| 240/255 [01:24<00:05,  2.86it/s, loss=0.456, v_num=3, train_loss=0.180, train_accuracy=1.000, val_loss=0.520, val_accuracy=0.765]\n",
      "Epoch 6:  95%|█████████▍| 242/255 [01:24<00:04,  2.87it/s, loss=0.456, v_num=3, train_loss=0.180, train_accuracy=1.000, val_loss=0.520, val_accuracy=0.765]\n",
      "Epoch 6:  96%|█████████▌| 244/255 [01:24<00:03,  2.89it/s, loss=0.456, v_num=3, train_loss=0.180, train_accuracy=1.000, val_loss=0.520, val_accuracy=0.765]\n",
      "Epoch 6:  96%|█████████▋| 246/255 [01:24<00:03,  2.91it/s, loss=0.456, v_num=3, train_loss=0.180, train_accuracy=1.000, val_loss=0.520, val_accuracy=0.765]\n",
      "Epoch 6:  97%|█████████▋| 248/255 [01:24<00:02,  2.93it/s, loss=0.456, v_num=3, train_loss=0.180, train_accuracy=1.000, val_loss=0.520, val_accuracy=0.765]\n",
      "Epoch 6:  98%|█████████▊| 250/255 [01:24<00:01,  2.95it/s, loss=0.456, v_num=3, train_loss=0.180, train_accuracy=1.000, val_loss=0.520, val_accuracy=0.765]\n",
      "Epoch 6:  99%|█████████▉| 252/255 [01:24<00:01,  2.97it/s, loss=0.456, v_num=3, train_loss=0.180, train_accuracy=1.000, val_loss=0.520, val_accuracy=0.765]\n",
      "Epoch 6: 100%|█████████▉| 254/255 [01:25<00:00,  2.99it/s, loss=0.456, v_num=3, train_loss=0.180, train_accuracy=1.000, val_loss=0.520, val_accuracy=0.765]\n",
      "Epoch 6: 100%|██████████| 255/255 [01:25<00:00,  2.98it/s, loss=0.456, v_num=3, train_loss=0.180, train_accuracy=1.000, val_loss=0.554, val_accuracy=0.741]\n",
      "Epoch 6: 100%|██████████| 255/255 [01:25<00:00,  2.98it/s, loss=0.456, v_num=3, train_loss=0.180, train_accuracy=1.000, val_loss=0.554, val_accuracy=0.741]"
     ]
    },
    {
     "name": "stderr",
     "output_type": "stream",
     "text": [
      "Epoch 6, global step 1581: val_loss reached 0.55370 (best 0.51963), saving model to \"/Workspace/code/checkpoints/best-checkpoint-corr-mi-18-v6.ckpt\" as top 2\n"
     ]
    },
    {
     "name": "stdout",
     "output_type": "stream",
     "text": [
      "Epoch 7:  89%|████████▊ | 226/255 [01:19<00:10,  2.84it/s, loss=0.503, v_num=3, train_loss=0.687, train_accuracy=0.611, val_loss=0.554, val_accuracy=0.741]\n",
      "Validating: 0it [00:00, ?it/s]\u001b[A\n",
      "Validating:   0%|          | 0/29 [00:00<?, ?it/s]\u001b[A\n",
      "Epoch 7:  89%|████████▉ | 228/255 [01:23<00:09,  2.74it/s, loss=0.503, v_num=3, train_loss=0.687, train_accuracy=0.611, val_loss=0.554, val_accuracy=0.741]\n",
      "Epoch 7:  90%|█████████ | 230/255 [01:23<00:09,  2.76it/s, loss=0.503, v_num=3, train_loss=0.687, train_accuracy=0.611, val_loss=0.554, val_accuracy=0.741]\n",
      "Epoch 7:  91%|█████████ | 232/255 [01:23<00:08,  2.78it/s, loss=0.503, v_num=3, train_loss=0.687, train_accuracy=0.611, val_loss=0.554, val_accuracy=0.741]\n",
      "Epoch 7:  92%|█████████▏| 234/255 [01:23<00:07,  2.80it/s, loss=0.503, v_num=3, train_loss=0.687, train_accuracy=0.611, val_loss=0.554, val_accuracy=0.741]\n",
      "Epoch 7:  93%|█████████▎| 236/255 [01:23<00:06,  2.82it/s, loss=0.503, v_num=3, train_loss=0.687, train_accuracy=0.611, val_loss=0.554, val_accuracy=0.741]\n",
      "Epoch 7:  93%|█████████▎| 238/255 [01:23<00:05,  2.84it/s, loss=0.503, v_num=3, train_loss=0.687, train_accuracy=0.611, val_loss=0.554, val_accuracy=0.741]\n",
      "Epoch 7:  94%|█████████▍| 240/255 [01:23<00:05,  2.86it/s, loss=0.503, v_num=3, train_loss=0.687, train_accuracy=0.611, val_loss=0.554, val_accuracy=0.741]\n",
      "Epoch 7:  95%|█████████▍| 242/255 [01:24<00:04,  2.88it/s, loss=0.503, v_num=3, train_loss=0.687, train_accuracy=0.611, val_loss=0.554, val_accuracy=0.741]\n",
      "Epoch 7:  96%|█████████▌| 244/255 [01:24<00:03,  2.90it/s, loss=0.503, v_num=3, train_loss=0.687, train_accuracy=0.611, val_loss=0.554, val_accuracy=0.741]\n",
      "Epoch 7:  96%|█████████▋| 246/255 [01:24<00:03,  2.91it/s, loss=0.503, v_num=3, train_loss=0.687, train_accuracy=0.611, val_loss=0.554, val_accuracy=0.741]\n",
      "Epoch 7:  97%|█████████▋| 248/255 [01:24<00:02,  2.93it/s, loss=0.503, v_num=3, train_loss=0.687, train_accuracy=0.611, val_loss=0.554, val_accuracy=0.741]\n",
      "Epoch 7:  98%|█████████▊| 250/255 [01:24<00:01,  2.95it/s, loss=0.503, v_num=3, train_loss=0.687, train_accuracy=0.611, val_loss=0.554, val_accuracy=0.741]\n",
      "Epoch 7:  99%|█████████▉| 252/255 [01:24<00:01,  2.97it/s, loss=0.503, v_num=3, train_loss=0.687, train_accuracy=0.611, val_loss=0.554, val_accuracy=0.741]\n",
      "Epoch 7: 100%|█████████▉| 254/255 [01:25<00:00,  2.99it/s, loss=0.503, v_num=3, train_loss=0.687, train_accuracy=0.611, val_loss=0.554, val_accuracy=0.741]\n",
      "Epoch 7: 100%|██████████| 255/255 [01:25<00:00,  2.97it/s, loss=0.503, v_num=3, train_loss=0.687, train_accuracy=0.611, val_loss=0.552, val_accuracy=0.702]\n",
      "Epoch 7: 100%|██████████| 255/255 [01:25<00:00,  2.97it/s, loss=0.503, v_num=3, train_loss=0.687, train_accuracy=0.611, val_loss=0.552, val_accuracy=0.702]"
     ]
    },
    {
     "name": "stderr",
     "output_type": "stream",
     "text": [
      "Epoch 7, global step 1807: val_loss reached 0.55181 (best 0.51963), saving model to \"/Workspace/code/checkpoints/best-checkpoint-corr-mi-18-v6.ckpt\" as top 2\n"
     ]
    },
    {
     "name": "stdout",
     "output_type": "stream",
     "text": [
      "Epoch 8:  89%|████████▊ | 226/255 [01:17<00:09,  2.92it/s, loss=0.456, v_num=3, train_loss=0.375, train_accuracy=0.833, val_loss=0.552, val_accuracy=0.702]\n",
      "Validating: 0it [00:00, ?it/s]\u001b[A\n",
      "Validating:   0%|          | 0/29 [00:00<?, ?it/s]\u001b[A\n",
      "Epoch 8:  89%|████████▉ | 228/255 [01:21<00:09,  2.81it/s, loss=0.456, v_num=3, train_loss=0.375, train_accuracy=0.833, val_loss=0.552, val_accuracy=0.702]\n",
      "Epoch 8:  90%|█████████ | 230/255 [01:21<00:08,  2.83it/s, loss=0.456, v_num=3, train_loss=0.375, train_accuracy=0.833, val_loss=0.552, val_accuracy=0.702]\n",
      "Epoch 8:  91%|█████████ | 232/255 [01:21<00:08,  2.85it/s, loss=0.456, v_num=3, train_loss=0.375, train_accuracy=0.833, val_loss=0.552, val_accuracy=0.702]\n",
      "Epoch 8:  92%|█████████▏| 234/255 [01:21<00:07,  2.87it/s, loss=0.456, v_num=3, train_loss=0.375, train_accuracy=0.833, val_loss=0.552, val_accuracy=0.702]\n",
      "Epoch 8:  93%|█████████▎| 236/255 [01:21<00:06,  2.89it/s, loss=0.456, v_num=3, train_loss=0.375, train_accuracy=0.833, val_loss=0.552, val_accuracy=0.702]\n",
      "Epoch 8:  93%|█████████▎| 238/255 [01:21<00:05,  2.91it/s, loss=0.456, v_num=3, train_loss=0.375, train_accuracy=0.833, val_loss=0.552, val_accuracy=0.702]\n",
      "Epoch 8:  94%|█████████▍| 240/255 [01:22<00:05,  2.93it/s, loss=0.456, v_num=3, train_loss=0.375, train_accuracy=0.833, val_loss=0.552, val_accuracy=0.702]\n",
      "Epoch 8:  95%|█████████▍| 242/255 [01:22<00:04,  2.95it/s, loss=0.456, v_num=3, train_loss=0.375, train_accuracy=0.833, val_loss=0.552, val_accuracy=0.702]\n",
      "Epoch 8:  96%|█████████▌| 244/255 [01:22<00:03,  2.96it/s, loss=0.456, v_num=3, train_loss=0.375, train_accuracy=0.833, val_loss=0.552, val_accuracy=0.702]\n",
      "Epoch 8:  96%|█████████▋| 246/255 [01:22<00:03,  2.98it/s, loss=0.456, v_num=3, train_loss=0.375, train_accuracy=0.833, val_loss=0.552, val_accuracy=0.702]\n",
      "Epoch 8:  97%|█████████▋| 248/255 [01:22<00:02,  3.00it/s, loss=0.456, v_num=3, train_loss=0.375, train_accuracy=0.833, val_loss=0.552, val_accuracy=0.702]\n",
      "Epoch 8:  98%|█████████▊| 250/255 [01:22<00:01,  3.02it/s, loss=0.456, v_num=3, train_loss=0.375, train_accuracy=0.833, val_loss=0.552, val_accuracy=0.702]\n",
      "Epoch 8:  99%|█████████▉| 252/255 [01:22<00:00,  3.04it/s, loss=0.456, v_num=3, train_loss=0.375, train_accuracy=0.833, val_loss=0.552, val_accuracy=0.702]\n",
      "Epoch 8: 100%|█████████▉| 254/255 [01:23<00:00,  3.06it/s, loss=0.456, v_num=3, train_loss=0.375, train_accuracy=0.833, val_loss=0.552, val_accuracy=0.702]\n",
      "Epoch 8: 100%|██████████| 255/255 [01:23<00:00,  3.05it/s, loss=0.456, v_num=3, train_loss=0.375, train_accuracy=0.833, val_loss=0.479, val_accuracy=0.781]\n",
      "Epoch 8: 100%|██████████| 255/255 [01:23<00:00,  3.05it/s, loss=0.456, v_num=3, train_loss=0.375, train_accuracy=0.833, val_loss=0.479, val_accuracy=0.781]"
     ]
    },
    {
     "name": "stderr",
     "output_type": "stream",
     "text": [
      "Epoch 8, global step 2033: val_loss reached 0.47892 (best 0.47892), saving model to \"/Workspace/code/checkpoints/best-checkpoint-corr-mi-18-v6.ckpt\" as top 2\n"
     ]
    },
    {
     "name": "stdout",
     "output_type": "stream",
     "text": [
      "Epoch 9:  89%|████████▊ | 226/255 [01:18<00:10,  2.87it/s, loss=0.502, v_num=3, train_loss=0.586, train_accuracy=0.778, val_loss=0.479, val_accuracy=0.781]\n",
      "Validating: 0it [00:00, ?it/s]\u001b[A\n",
      "Validating:   0%|          | 0/29 [00:00<?, ?it/s]\u001b[A\n",
      "Epoch 9:  89%|████████▉ | 228/255 [01:22<00:09,  2.77it/s, loss=0.502, v_num=3, train_loss=0.586, train_accuracy=0.778, val_loss=0.479, val_accuracy=0.781]\n",
      "Epoch 9:  90%|█████████ | 230/255 [01:22<00:08,  2.79it/s, loss=0.502, v_num=3, train_loss=0.586, train_accuracy=0.778, val_loss=0.479, val_accuracy=0.781]\n",
      "Epoch 9:  91%|█████████ | 232/255 [01:22<00:08,  2.81it/s, loss=0.502, v_num=3, train_loss=0.586, train_accuracy=0.778, val_loss=0.479, val_accuracy=0.781]\n",
      "Epoch 9:  92%|█████████▏| 234/255 [01:22<00:07,  2.83it/s, loss=0.502, v_num=3, train_loss=0.586, train_accuracy=0.778, val_loss=0.479, val_accuracy=0.781]\n",
      "Epoch 9:  93%|█████████▎| 236/255 [01:22<00:06,  2.85it/s, loss=0.502, v_num=3, train_loss=0.586, train_accuracy=0.778, val_loss=0.479, val_accuracy=0.781]\n",
      "Epoch 9:  93%|█████████▎| 238/255 [01:22<00:05,  2.87it/s, loss=0.502, v_num=3, train_loss=0.586, train_accuracy=0.778, val_loss=0.479, val_accuracy=0.781]\n",
      "Epoch 9:  94%|█████████▍| 240/255 [01:23<00:05,  2.89it/s, loss=0.502, v_num=3, train_loss=0.586, train_accuracy=0.778, val_loss=0.479, val_accuracy=0.781]\n",
      "Epoch 9:  95%|█████████▍| 242/255 [01:23<00:04,  2.91it/s, loss=0.502, v_num=3, train_loss=0.586, train_accuracy=0.778, val_loss=0.479, val_accuracy=0.781]\n",
      "Epoch 9:  96%|█████████▌| 244/255 [01:23<00:03,  2.92it/s, loss=0.502, v_num=3, train_loss=0.586, train_accuracy=0.778, val_loss=0.479, val_accuracy=0.781]\n",
      "Epoch 9:  96%|█████████▋| 246/255 [01:23<00:03,  2.94it/s, loss=0.502, v_num=3, train_loss=0.586, train_accuracy=0.778, val_loss=0.479, val_accuracy=0.781]\n",
      "Epoch 9:  97%|█████████▋| 248/255 [01:23<00:02,  2.96it/s, loss=0.502, v_num=3, train_loss=0.586, train_accuracy=0.778, val_loss=0.479, val_accuracy=0.781]\n",
      "Epoch 9:  98%|█████████▊| 250/255 [01:23<00:01,  2.98it/s, loss=0.502, v_num=3, train_loss=0.586, train_accuracy=0.778, val_loss=0.479, val_accuracy=0.781]\n",
      "Epoch 9:  99%|█████████▉| 252/255 [01:24<00:01,  3.00it/s, loss=0.502, v_num=3, train_loss=0.586, train_accuracy=0.778, val_loss=0.479, val_accuracy=0.781]\n",
      "Epoch 9: 100%|█████████▉| 254/255 [01:24<00:00,  3.02it/s, loss=0.502, v_num=3, train_loss=0.586, train_accuracy=0.778, val_loss=0.479, val_accuracy=0.781]\n",
      "Epoch 9: 100%|██████████| 255/255 [01:24<00:00,  3.01it/s, loss=0.502, v_num=3, train_loss=0.586, train_accuracy=0.778, val_loss=0.455, val_accuracy=0.793]\n",
      "Epoch 9: 100%|██████████| 255/255 [01:24<00:00,  3.01it/s, loss=0.502, v_num=3, train_loss=0.586, train_accuracy=0.778, val_loss=0.455, val_accuracy=0.793]"
     ]
    },
    {
     "name": "stderr",
     "output_type": "stream",
     "text": [
      "Epoch 9, global step 2259: val_loss reached 0.45462 (best 0.45462), saving model to \"/Workspace/code/checkpoints/best-checkpoint-corr-mi-18-v7.ckpt\" as top 2\n"
     ]
    },
    {
     "name": "stdout",
     "output_type": "stream",
     "text": [
      "Epoch 10:  89%|████████▊ | 226/255 [01:18<00:10,  2.89it/s, loss=0.329, v_num=3, train_loss=0.319, train_accuracy=0.833, val_loss=0.455, val_accuracy=0.793]\n",
      "Validating: 0it [00:00, ?it/s]\u001b[A\n",
      "Validating:   0%|          | 0/29 [00:00<?, ?it/s]\u001b[A\n",
      "Epoch 10:  89%|████████▉ | 228/255 [01:21<00:09,  2.79it/s, loss=0.329, v_num=3, train_loss=0.319, train_accuracy=0.833, val_loss=0.455, val_accuracy=0.793]\n",
      "Epoch 10:  90%|█████████ | 230/255 [01:21<00:08,  2.81it/s, loss=0.329, v_num=3, train_loss=0.319, train_accuracy=0.833, val_loss=0.455, val_accuracy=0.793]\n",
      "Epoch 10:  91%|█████████ | 232/255 [01:22<00:08,  2.83it/s, loss=0.329, v_num=3, train_loss=0.319, train_accuracy=0.833, val_loss=0.455, val_accuracy=0.793]\n",
      "Epoch 10:  92%|█████████▏| 234/255 [01:22<00:07,  2.84it/s, loss=0.329, v_num=3, train_loss=0.319, train_accuracy=0.833, val_loss=0.455, val_accuracy=0.793]\n",
      "Epoch 10:  93%|█████████▎| 236/255 [01:22<00:06,  2.86it/s, loss=0.329, v_num=3, train_loss=0.319, train_accuracy=0.833, val_loss=0.455, val_accuracy=0.793]\n",
      "Epoch 10:  93%|█████████▎| 238/255 [01:22<00:05,  2.88it/s, loss=0.329, v_num=3, train_loss=0.319, train_accuracy=0.833, val_loss=0.455, val_accuracy=0.793]\n",
      "Epoch 10:  94%|█████████▍| 240/255 [01:22<00:05,  2.90it/s, loss=0.329, v_num=3, train_loss=0.319, train_accuracy=0.833, val_loss=0.455, val_accuracy=0.793]\n",
      "Epoch 10:  95%|█████████▍| 242/255 [01:22<00:04,  2.92it/s, loss=0.329, v_num=3, train_loss=0.319, train_accuracy=0.833, val_loss=0.455, val_accuracy=0.793]\n",
      "Epoch 10:  96%|█████████▌| 244/255 [01:23<00:03,  2.94it/s, loss=0.329, v_num=3, train_loss=0.319, train_accuracy=0.833, val_loss=0.455, val_accuracy=0.793]\n",
      "Epoch 10:  96%|█████████▋| 246/255 [01:23<00:03,  2.96it/s, loss=0.329, v_num=3, train_loss=0.319, train_accuracy=0.833, val_loss=0.455, val_accuracy=0.793]\n",
      "Epoch 10:  97%|█████████▋| 248/255 [01:23<00:02,  2.98it/s, loss=0.329, v_num=3, train_loss=0.319, train_accuracy=0.833, val_loss=0.455, val_accuracy=0.793]\n",
      "Epoch 10:  98%|█████████▊| 250/255 [01:23<00:01,  3.00it/s, loss=0.329, v_num=3, train_loss=0.319, train_accuracy=0.833, val_loss=0.455, val_accuracy=0.793]\n",
      "Epoch 10:  99%|█████████▉| 252/255 [01:23<00:00,  3.01it/s, loss=0.329, v_num=3, train_loss=0.319, train_accuracy=0.833, val_loss=0.455, val_accuracy=0.793]\n",
      "Epoch 10: 100%|█████████▉| 254/255 [01:23<00:00,  3.03it/s, loss=0.329, v_num=3, train_loss=0.319, train_accuracy=0.833, val_loss=0.455, val_accuracy=0.793]\n",
      "Epoch 10: 100%|██████████| 255/255 [01:24<00:00,  3.02it/s, loss=0.329, v_num=3, train_loss=0.319, train_accuracy=0.833, val_loss=0.407, val_accuracy=0.835]\n",
      "Epoch 10: 100%|██████████| 255/255 [01:24<00:00,  3.02it/s, loss=0.329, v_num=3, train_loss=0.319, train_accuracy=0.833, val_loss=0.407, val_accuracy=0.835]"
     ]
    },
    {
     "name": "stderr",
     "output_type": "stream",
     "text": [
      "Epoch 10, global step 2485: val_loss reached 0.40675 (best 0.40675), saving model to \"/Workspace/code/checkpoints/best-checkpoint-corr-mi-18-v6.ckpt\" as top 2\n"
     ]
    },
    {
     "name": "stdout",
     "output_type": "stream",
     "text": [
      "Epoch 11:  89%|████████▊ | 226/255 [01:20<00:10,  2.81it/s, loss=0.518, v_num=3, train_loss=0.507, train_accuracy=0.722, val_loss=0.407, val_accuracy=0.835]\n",
      "Validating: 0it [00:00, ?it/s]\u001b[A\n",
      "Validating:   0%|          | 0/29 [00:00<?, ?it/s]\u001b[A\n",
      "Epoch 11:  89%|████████▉ | 228/255 [01:24<00:10,  2.68it/s, loss=0.518, v_num=3, train_loss=0.507, train_accuracy=0.722, val_loss=0.407, val_accuracy=0.835]\n",
      "Epoch 11:  90%|█████████ | 230/255 [01:25<00:09,  2.70it/s, loss=0.518, v_num=3, train_loss=0.507, train_accuracy=0.722, val_loss=0.407, val_accuracy=0.835]\n",
      "Epoch 11:  91%|█████████ | 232/255 [01:25<00:08,  2.72it/s, loss=0.518, v_num=3, train_loss=0.507, train_accuracy=0.722, val_loss=0.407, val_accuracy=0.835]\n",
      "Epoch 11:  92%|█████████▏| 234/255 [01:25<00:07,  2.74it/s, loss=0.518, v_num=3, train_loss=0.507, train_accuracy=0.722, val_loss=0.407, val_accuracy=0.835]\n",
      "Epoch 11:  93%|█████████▎| 236/255 [01:25<00:06,  2.75it/s, loss=0.518, v_num=3, train_loss=0.507, train_accuracy=0.722, val_loss=0.407, val_accuracy=0.835]\n",
      "Epoch 11:  93%|█████████▎| 238/255 [01:25<00:06,  2.77it/s, loss=0.518, v_num=3, train_loss=0.507, train_accuracy=0.722, val_loss=0.407, val_accuracy=0.835]\n",
      "Epoch 11:  94%|█████████▍| 240/255 [01:26<00:05,  2.79it/s, loss=0.518, v_num=3, train_loss=0.507, train_accuracy=0.722, val_loss=0.407, val_accuracy=0.835]\n",
      "Epoch 11:  95%|█████████▍| 242/255 [01:26<00:04,  2.81it/s, loss=0.518, v_num=3, train_loss=0.507, train_accuracy=0.722, val_loss=0.407, val_accuracy=0.835]\n",
      "Epoch 11:  96%|█████████▌| 244/255 [01:26<00:03,  2.83it/s, loss=0.518, v_num=3, train_loss=0.507, train_accuracy=0.722, val_loss=0.407, val_accuracy=0.835]\n",
      "Epoch 11:  96%|█████████▋| 246/255 [01:26<00:03,  2.84it/s, loss=0.518, v_num=3, train_loss=0.507, train_accuracy=0.722, val_loss=0.407, val_accuracy=0.835]\n",
      "Epoch 11:  97%|█████████▋| 248/255 [01:26<00:02,  2.86it/s, loss=0.518, v_num=3, train_loss=0.507, train_accuracy=0.722, val_loss=0.407, val_accuracy=0.835]\n",
      "Epoch 11:  98%|█████████▊| 250/255 [01:26<00:01,  2.88it/s, loss=0.518, v_num=3, train_loss=0.507, train_accuracy=0.722, val_loss=0.407, val_accuracy=0.835]\n",
      "Epoch 11:  99%|█████████▉| 252/255 [01:27<00:01,  2.90it/s, loss=0.518, v_num=3, train_loss=0.507, train_accuracy=0.722, val_loss=0.407, val_accuracy=0.835]\n",
      "Epoch 11: 100%|█████████▉| 254/255 [01:27<00:00,  2.91it/s, loss=0.518, v_num=3, train_loss=0.507, train_accuracy=0.722, val_loss=0.407, val_accuracy=0.835]\n",
      "Epoch 11: 100%|██████████| 255/255 [01:28<00:00,  2.90it/s, loss=0.518, v_num=3, train_loss=0.507, train_accuracy=0.722, val_loss=0.614, val_accuracy=0.732]\n",
      "Epoch 11: 100%|██████████| 255/255 [01:28<00:00,  2.90it/s, loss=0.518, v_num=3, train_loss=0.507, train_accuracy=0.722, val_loss=0.614, val_accuracy=0.732]"
     ]
    },
    {
     "name": "stderr",
     "output_type": "stream",
     "text": [
      "Epoch 11, global step 2711: val_loss was not in top 2\n"
     ]
    },
    {
     "name": "stdout",
     "output_type": "stream",
     "text": [
      "Epoch 12:  89%|████████▊ | 226/255 [01:22<00:10,  2.75it/s, loss=0.435, v_num=3, train_loss=0.349, train_accuracy=0.889, val_loss=0.614, val_accuracy=0.732]\n",
      "Validating: 0it [00:00, ?it/s]\u001b[A\n",
      "Validating:   0%|          | 0/29 [00:00<?, ?it/s]\u001b[A\n",
      "Epoch 12:  89%|████████▉ | 228/255 [01:26<00:10,  2.62it/s, loss=0.435, v_num=3, train_loss=0.349, train_accuracy=0.889, val_loss=0.614, val_accuracy=0.732]\n",
      "Epoch 12:  90%|█████████ | 230/255 [01:27<00:09,  2.64it/s, loss=0.435, v_num=3, train_loss=0.349, train_accuracy=0.889, val_loss=0.614, val_accuracy=0.732]\n",
      "Epoch 12:  91%|█████████ | 232/255 [01:27<00:08,  2.66it/s, loss=0.435, v_num=3, train_loss=0.349, train_accuracy=0.889, val_loss=0.614, val_accuracy=0.732]\n",
      "Epoch 12:  92%|█████████▏| 234/255 [01:27<00:07,  2.68it/s, loss=0.435, v_num=3, train_loss=0.349, train_accuracy=0.889, val_loss=0.614, val_accuracy=0.732]\n",
      "Epoch 12:  93%|█████████▎| 236/255 [01:27<00:07,  2.69it/s, loss=0.435, v_num=3, train_loss=0.349, train_accuracy=0.889, val_loss=0.614, val_accuracy=0.732]\n",
      "Epoch 12:  93%|█████████▎| 238/255 [01:27<00:06,  2.71it/s, loss=0.435, v_num=3, train_loss=0.349, train_accuracy=0.889, val_loss=0.614, val_accuracy=0.732]\n",
      "Epoch 12:  94%|█████████▍| 240/255 [01:27<00:05,  2.73it/s, loss=0.435, v_num=3, train_loss=0.349, train_accuracy=0.889, val_loss=0.614, val_accuracy=0.732]\n",
      "Epoch 12:  95%|█████████▍| 242/255 [01:28<00:04,  2.75it/s, loss=0.435, v_num=3, train_loss=0.349, train_accuracy=0.889, val_loss=0.614, val_accuracy=0.732]\n",
      "Epoch 12:  96%|█████████▌| 244/255 [01:28<00:03,  2.77it/s, loss=0.435, v_num=3, train_loss=0.349, train_accuracy=0.889, val_loss=0.614, val_accuracy=0.732]\n",
      "Epoch 12:  96%|█████████▋| 246/255 [01:28<00:03,  2.78it/s, loss=0.435, v_num=3, train_loss=0.349, train_accuracy=0.889, val_loss=0.614, val_accuracy=0.732]\n",
      "Epoch 12:  97%|█████████▋| 248/255 [01:28<00:02,  2.80it/s, loss=0.435, v_num=3, train_loss=0.349, train_accuracy=0.889, val_loss=0.614, val_accuracy=0.732]\n",
      "Epoch 12:  98%|█████████▊| 250/255 [01:28<00:01,  2.82it/s, loss=0.435, v_num=3, train_loss=0.349, train_accuracy=0.889, val_loss=0.614, val_accuracy=0.732]\n",
      "Epoch 12:  99%|█████████▉| 252/255 [01:28<00:01,  2.84it/s, loss=0.435, v_num=3, train_loss=0.349, train_accuracy=0.889, val_loss=0.614, val_accuracy=0.732]\n",
      "Epoch 12: 100%|█████████▉| 254/255 [01:29<00:00,  2.85it/s, loss=0.435, v_num=3, train_loss=0.349, train_accuracy=0.889, val_loss=0.614, val_accuracy=0.732]\n",
      "Epoch 12: 100%|██████████| 255/255 [01:29<00:00,  2.84it/s, loss=0.435, v_num=3, train_loss=0.349, train_accuracy=0.889, val_loss=0.484, val_accuracy=0.797]\n",
      "Epoch 12: 100%|██████████| 255/255 [01:29<00:00,  2.84it/s, loss=0.435, v_num=3, train_loss=0.349, train_accuracy=0.889, val_loss=0.484, val_accuracy=0.797]"
     ]
    },
    {
     "name": "stderr",
     "output_type": "stream",
     "text": [
      "Epoch 12, global step 2937: val_loss was not in top 2\n"
     ]
    },
    {
     "name": "stdout",
     "output_type": "stream",
     "text": [
      "Epoch 13:  89%|████████▊ | 226/255 [01:23<00:10,  2.72it/s, loss=0.355, v_num=3, train_loss=0.435, train_accuracy=0.778, val_loss=0.484, val_accuracy=0.797]\n",
      "Validating: 0it [00:00, ?it/s]\u001b[A\n",
      "Validating:   0%|          | 0/29 [00:00<?, ?it/s]\u001b[A\n",
      "Epoch 13:  89%|████████▉ | 228/255 [01:28<00:10,  2.59it/s, loss=0.355, v_num=3, train_loss=0.435, train_accuracy=0.778, val_loss=0.484, val_accuracy=0.797]\n",
      "Epoch 13:  90%|█████████ | 230/255 [01:28<00:09,  2.60it/s, loss=0.355, v_num=3, train_loss=0.435, train_accuracy=0.778, val_loss=0.484, val_accuracy=0.797]\n",
      "Epoch 13:  91%|█████████ | 232/255 [01:28<00:08,  2.62it/s, loss=0.355, v_num=3, train_loss=0.435, train_accuracy=0.778, val_loss=0.484, val_accuracy=0.797]\n",
      "Epoch 13:  92%|█████████▏| 234/255 [01:28<00:07,  2.64it/s, loss=0.355, v_num=3, train_loss=0.435, train_accuracy=0.778, val_loss=0.484, val_accuracy=0.797]\n",
      "Epoch 13:  93%|█████████▎| 236/255 [01:28<00:07,  2.66it/s, loss=0.355, v_num=3, train_loss=0.435, train_accuracy=0.778, val_loss=0.484, val_accuracy=0.797]\n",
      "Epoch 13:  93%|█████████▎| 238/255 [01:28<00:06,  2.67it/s, loss=0.355, v_num=3, train_loss=0.435, train_accuracy=0.778, val_loss=0.484, val_accuracy=0.797]\n",
      "Epoch 13:  94%|█████████▍| 240/255 [01:29<00:05,  2.69it/s, loss=0.355, v_num=3, train_loss=0.435, train_accuracy=0.778, val_loss=0.484, val_accuracy=0.797]\n",
      "Epoch 13:  95%|█████████▍| 242/255 [01:29<00:04,  2.71it/s, loss=0.355, v_num=3, train_loss=0.435, train_accuracy=0.778, val_loss=0.484, val_accuracy=0.797]\n",
      "Epoch 13:  96%|█████████▌| 244/255 [01:29<00:04,  2.73it/s, loss=0.355, v_num=3, train_loss=0.435, train_accuracy=0.778, val_loss=0.484, val_accuracy=0.797]\n",
      "Epoch 13:  96%|█████████▋| 246/255 [01:29<00:03,  2.74it/s, loss=0.355, v_num=3, train_loss=0.435, train_accuracy=0.778, val_loss=0.484, val_accuracy=0.797]\n",
      "Epoch 13:  97%|█████████▋| 248/255 [01:29<00:02,  2.76it/s, loss=0.355, v_num=3, train_loss=0.435, train_accuracy=0.778, val_loss=0.484, val_accuracy=0.797]\n",
      "Epoch 13:  98%|█████████▊| 250/255 [01:29<00:01,  2.78it/s, loss=0.355, v_num=3, train_loss=0.435, train_accuracy=0.778, val_loss=0.484, val_accuracy=0.797]\n",
      "Epoch 13:  99%|█████████▉| 252/255 [01:30<00:01,  2.80it/s, loss=0.355, v_num=3, train_loss=0.435, train_accuracy=0.778, val_loss=0.484, val_accuracy=0.797]\n",
      "Epoch 13: 100%|█████████▉| 254/255 [01:30<00:00,  2.81it/s, loss=0.355, v_num=3, train_loss=0.435, train_accuracy=0.778, val_loss=0.484, val_accuracy=0.797]\n",
      "Epoch 13: 100%|██████████| 255/255 [01:31<00:00,  2.80it/s, loss=0.355, v_num=3, train_loss=0.435, train_accuracy=0.778, val_loss=0.393, val_accuracy=0.852]\n",
      "Epoch 13: 100%|██████████| 255/255 [01:31<00:00,  2.80it/s, loss=0.355, v_num=3, train_loss=0.435, train_accuracy=0.778, val_loss=0.393, val_accuracy=0.852]"
     ]
    },
    {
     "name": "stderr",
     "output_type": "stream",
     "text": [
      "Epoch 13, global step 3163: val_loss reached 0.39304 (best 0.39304), saving model to \"/Workspace/code/checkpoints/best-checkpoint-corr-mi-18-v7.ckpt\" as top 2\n"
     ]
    },
    {
     "name": "stdout",
     "output_type": "stream",
     "text": [
      "Epoch 14:  89%|████████▊ | 226/255 [01:23<00:10,  2.70it/s, loss=0.572, v_num=3, train_loss=0.495, train_accuracy=0.833, val_loss=0.393, val_accuracy=0.852]\n",
      "Validating: 0it [00:00, ?it/s]\u001b[A\n",
      "Validating:   0%|          | 0/29 [00:00<?, ?it/s]\u001b[A\n",
      "Epoch 14:  89%|████████▉ | 228/255 [01:28<00:10,  2.58it/s, loss=0.572, v_num=3, train_loss=0.495, train_accuracy=0.833, val_loss=0.393, val_accuracy=0.852]\n",
      "Epoch 14:  90%|█████████ | 230/255 [01:28<00:09,  2.59it/s, loss=0.572, v_num=3, train_loss=0.495, train_accuracy=0.833, val_loss=0.393, val_accuracy=0.852]\n",
      "Epoch 14:  91%|█████████ | 232/255 [01:28<00:08,  2.61it/s, loss=0.572, v_num=3, train_loss=0.495, train_accuracy=0.833, val_loss=0.393, val_accuracy=0.852]\n",
      "Epoch 14:  92%|█████████▏| 234/255 [01:28<00:07,  2.63it/s, loss=0.572, v_num=3, train_loss=0.495, train_accuracy=0.833, val_loss=0.393, val_accuracy=0.852]\n",
      "Epoch 14:  93%|█████████▎| 236/255 [01:29<00:07,  2.65it/s, loss=0.572, v_num=3, train_loss=0.495, train_accuracy=0.833, val_loss=0.393, val_accuracy=0.852]\n",
      "Epoch 14:  93%|█████████▎| 238/255 [01:29<00:06,  2.67it/s, loss=0.572, v_num=3, train_loss=0.495, train_accuracy=0.833, val_loss=0.393, val_accuracy=0.852]\n",
      "Epoch 14:  94%|█████████▍| 240/255 [01:29<00:05,  2.68it/s, loss=0.572, v_num=3, train_loss=0.495, train_accuracy=0.833, val_loss=0.393, val_accuracy=0.852]\n",
      "Epoch 14:  95%|█████████▍| 242/255 [01:29<00:04,  2.70it/s, loss=0.572, v_num=3, train_loss=0.495, train_accuracy=0.833, val_loss=0.393, val_accuracy=0.852]\n",
      "Epoch 14:  96%|█████████▌| 244/255 [01:29<00:04,  2.72it/s, loss=0.572, v_num=3, train_loss=0.495, train_accuracy=0.833, val_loss=0.393, val_accuracy=0.852]\n",
      "Epoch 14:  96%|█████████▋| 246/255 [01:29<00:03,  2.74it/s, loss=0.572, v_num=3, train_loss=0.495, train_accuracy=0.833, val_loss=0.393, val_accuracy=0.852]\n",
      "Epoch 14:  97%|█████████▋| 248/255 [01:30<00:02,  2.75it/s, loss=0.572, v_num=3, train_loss=0.495, train_accuracy=0.833, val_loss=0.393, val_accuracy=0.852]\n",
      "Epoch 14:  98%|█████████▊| 250/255 [01:30<00:01,  2.77it/s, loss=0.572, v_num=3, train_loss=0.495, train_accuracy=0.833, val_loss=0.393, val_accuracy=0.852]\n",
      "Epoch 14:  99%|█████████▉| 252/255 [01:30<00:01,  2.79it/s, loss=0.572, v_num=3, train_loss=0.495, train_accuracy=0.833, val_loss=0.393, val_accuracy=0.852]\n",
      "Epoch 14: 100%|█████████▉| 254/255 [01:30<00:00,  2.80it/s, loss=0.572, v_num=3, train_loss=0.495, train_accuracy=0.833, val_loss=0.393, val_accuracy=0.852]\n",
      "Epoch 14: 100%|██████████| 255/255 [01:31<00:00,  2.79it/s, loss=0.572, v_num=3, train_loss=0.495, train_accuracy=0.833, val_loss=0.598, val_accuracy=0.721]\n",
      "Epoch 14: 100%|██████████| 255/255 [01:31<00:00,  2.79it/s, loss=0.572, v_num=3, train_loss=0.495, train_accuracy=0.833, val_loss=0.598, val_accuracy=0.721]"
     ]
    },
    {
     "name": "stderr",
     "output_type": "stream",
     "text": [
      "Epoch 14, global step 3389: val_loss was not in top 2\n"
     ]
    },
    {
     "name": "stdout",
     "output_type": "stream",
     "text": [
      "Epoch 15:  89%|████████▊ | 226/255 [01:23<00:10,  2.71it/s, loss=0.519, v_num=3, train_loss=0.487, train_accuracy=0.833, val_loss=0.598, val_accuracy=0.721]\n",
      "Validating: 0it [00:00, ?it/s]\u001b[A\n",
      "Validating:   0%|          | 0/29 [00:00<?, ?it/s]\u001b[A\n",
      "Epoch 15:  89%|████████▉ | 228/255 [01:28<00:10,  2.58it/s, loss=0.519, v_num=3, train_loss=0.487, train_accuracy=0.833, val_loss=0.598, val_accuracy=0.721]\n",
      "Epoch 15:  90%|█████████ | 230/255 [01:28<00:09,  2.60it/s, loss=0.519, v_num=3, train_loss=0.487, train_accuracy=0.833, val_loss=0.598, val_accuracy=0.721]\n",
      "Epoch 15:  91%|█████████ | 232/255 [01:28<00:08,  2.61it/s, loss=0.519, v_num=3, train_loss=0.487, train_accuracy=0.833, val_loss=0.598, val_accuracy=0.721]\n",
      "Epoch 15:  92%|█████████▏| 234/255 [01:28<00:07,  2.63it/s, loss=0.519, v_num=3, train_loss=0.487, train_accuracy=0.833, val_loss=0.598, val_accuracy=0.721]\n",
      "Epoch 15:  93%|█████████▎| 236/255 [01:29<00:07,  2.65it/s, loss=0.519, v_num=3, train_loss=0.487, train_accuracy=0.833, val_loss=0.598, val_accuracy=0.721]\n",
      "Epoch 15:  93%|█████████▎| 238/255 [01:29<00:06,  2.67it/s, loss=0.519, v_num=3, train_loss=0.487, train_accuracy=0.833, val_loss=0.598, val_accuracy=0.721]\n",
      "Epoch 15:  94%|█████████▍| 240/255 [01:29<00:05,  2.68it/s, loss=0.519, v_num=3, train_loss=0.487, train_accuracy=0.833, val_loss=0.598, val_accuracy=0.721]\n",
      "Epoch 15:  95%|█████████▍| 242/255 [01:29<00:04,  2.70it/s, loss=0.519, v_num=3, train_loss=0.487, train_accuracy=0.833, val_loss=0.598, val_accuracy=0.721]\n",
      "Epoch 15:  96%|█████████▌| 244/255 [01:29<00:04,  2.72it/s, loss=0.519, v_num=3, train_loss=0.487, train_accuracy=0.833, val_loss=0.598, val_accuracy=0.721]\n",
      "Epoch 15:  96%|█████████▋| 246/255 [01:29<00:03,  2.74it/s, loss=0.519, v_num=3, train_loss=0.487, train_accuracy=0.833, val_loss=0.598, val_accuracy=0.721]\n",
      "Epoch 15:  97%|█████████▋| 248/255 [01:30<00:02,  2.75it/s, loss=0.519, v_num=3, train_loss=0.487, train_accuracy=0.833, val_loss=0.598, val_accuracy=0.721]\n",
      "Epoch 15:  98%|█████████▊| 250/255 [01:30<00:01,  2.77it/s, loss=0.519, v_num=3, train_loss=0.487, train_accuracy=0.833, val_loss=0.598, val_accuracy=0.721]\n",
      "Epoch 15:  99%|█████████▉| 252/255 [01:30<00:01,  2.79it/s, loss=0.519, v_num=3, train_loss=0.487, train_accuracy=0.833, val_loss=0.598, val_accuracy=0.721]\n",
      "Epoch 15: 100%|█████████▉| 254/255 [01:30<00:00,  2.81it/s, loss=0.519, v_num=3, train_loss=0.487, train_accuracy=0.833, val_loss=0.598, val_accuracy=0.721]\n",
      "Epoch 15: 100%|██████████| 255/255 [01:31<00:00,  2.79it/s, loss=0.519, v_num=3, train_loss=0.487, train_accuracy=0.833, val_loss=0.555, val_accuracy=0.773]\n",
      "Epoch 15: 100%|██████████| 255/255 [01:31<00:00,  2.79it/s, loss=0.519, v_num=3, train_loss=0.487, train_accuracy=0.833, val_loss=0.555, val_accuracy=0.773]"
     ]
    },
    {
     "name": "stderr",
     "output_type": "stream",
     "text": [
      "Epoch 15, global step 3615: val_loss was not in top 2\n"
     ]
    },
    {
     "name": "stdout",
     "output_type": "stream",
     "text": [
      "Epoch 16:  89%|████████▊ | 226/255 [01:20<00:10,  2.82it/s, loss=0.469, v_num=3, train_loss=0.415, train_accuracy=0.833, val_loss=0.555, val_accuracy=0.773]\n",
      "Validating: 0it [00:00, ?it/s]\u001b[A\n",
      "Validating:   0%|          | 0/29 [00:00<?, ?it/s]\u001b[A\n",
      "Epoch 16:  89%|████████▉ | 228/255 [01:23<00:09,  2.72it/s, loss=0.469, v_num=3, train_loss=0.415, train_accuracy=0.833, val_loss=0.555, val_accuracy=0.773]\n",
      "Epoch 16:  90%|█████████ | 230/255 [01:23<00:09,  2.74it/s, loss=0.469, v_num=3, train_loss=0.415, train_accuracy=0.833, val_loss=0.555, val_accuracy=0.773]\n",
      "Epoch 16:  91%|█████████ | 232/255 [01:24<00:08,  2.76it/s, loss=0.469, v_num=3, train_loss=0.415, train_accuracy=0.833, val_loss=0.555, val_accuracy=0.773]\n",
      "Epoch 16:  92%|█████████▏| 234/255 [01:24<00:07,  2.78it/s, loss=0.469, v_num=3, train_loss=0.415, train_accuracy=0.833, val_loss=0.555, val_accuracy=0.773]\n",
      "Epoch 16:  93%|█████████▎| 236/255 [01:24<00:06,  2.80it/s, loss=0.469, v_num=3, train_loss=0.415, train_accuracy=0.833, val_loss=0.555, val_accuracy=0.773]\n",
      "Epoch 16:  93%|█████████▎| 238/255 [01:24<00:06,  2.81it/s, loss=0.469, v_num=3, train_loss=0.415, train_accuracy=0.833, val_loss=0.555, val_accuracy=0.773]\n",
      "Epoch 16:  94%|█████████▍| 240/255 [01:24<00:05,  2.83it/s, loss=0.469, v_num=3, train_loss=0.415, train_accuracy=0.833, val_loss=0.555, val_accuracy=0.773]\n",
      "Epoch 16:  95%|█████████▍| 242/255 [01:24<00:04,  2.85it/s, loss=0.469, v_num=3, train_loss=0.415, train_accuracy=0.833, val_loss=0.555, val_accuracy=0.773]\n",
      "Epoch 16:  96%|█████████▌| 244/255 [01:24<00:03,  2.87it/s, loss=0.469, v_num=3, train_loss=0.415, train_accuracy=0.833, val_loss=0.555, val_accuracy=0.773]\n",
      "Epoch 16:  96%|█████████▋| 246/255 [01:25<00:03,  2.89it/s, loss=0.469, v_num=3, train_loss=0.415, train_accuracy=0.833, val_loss=0.555, val_accuracy=0.773]\n",
      "Epoch 16:  97%|█████████▋| 248/255 [01:25<00:02,  2.91it/s, loss=0.469, v_num=3, train_loss=0.415, train_accuracy=0.833, val_loss=0.555, val_accuracy=0.773]\n",
      "Epoch 16:  98%|█████████▊| 250/255 [01:25<00:01,  2.93it/s, loss=0.469, v_num=3, train_loss=0.415, train_accuracy=0.833, val_loss=0.555, val_accuracy=0.773]\n",
      "Epoch 16:  99%|█████████▉| 252/255 [01:25<00:01,  2.95it/s, loss=0.469, v_num=3, train_loss=0.415, train_accuracy=0.833, val_loss=0.555, val_accuracy=0.773]\n",
      "Epoch 16: 100%|█████████▉| 254/255 [01:25<00:00,  2.96it/s, loss=0.469, v_num=3, train_loss=0.415, train_accuracy=0.833, val_loss=0.555, val_accuracy=0.773]\n",
      "Epoch 16: 100%|██████████| 255/255 [01:26<00:00,  2.95it/s, loss=0.469, v_num=3, train_loss=0.415, train_accuracy=0.833, val_loss=0.513, val_accuracy=0.791]\n",
      "Epoch 16: 100%|██████████| 255/255 [01:26<00:00,  2.95it/s, loss=0.469, v_num=3, train_loss=0.415, train_accuracy=0.833, val_loss=0.513, val_accuracy=0.791]"
     ]
    },
    {
     "name": "stderr",
     "output_type": "stream",
     "text": [
      "Epoch 16, global step 3841: val_loss was not in top 2\n"
     ]
    },
    {
     "name": "stdout",
     "output_type": "stream",
     "text": [
      "Epoch 17:  89%|████████▊ | 226/255 [01:17<00:09,  2.91it/s, loss=0.402, v_num=3, train_loss=0.360, train_accuracy=0.889, val_loss=0.513, val_accuracy=0.791]\n",
      "Validating: 0it [00:00, ?it/s]\u001b[A\n",
      "Validating:   0%|          | 0/29 [00:00<?, ?it/s]\u001b[A\n",
      "Epoch 17:  89%|████████▉ | 228/255 [01:21<00:09,  2.80it/s, loss=0.402, v_num=3, train_loss=0.360, train_accuracy=0.889, val_loss=0.513, val_accuracy=0.791]\n",
      "Epoch 17:  90%|█████████ | 230/255 [01:21<00:08,  2.82it/s, loss=0.402, v_num=3, train_loss=0.360, train_accuracy=0.889, val_loss=0.513, val_accuracy=0.791]\n",
      "Epoch 17:  91%|█████████ | 232/255 [01:21<00:08,  2.84it/s, loss=0.402, v_num=3, train_loss=0.360, train_accuracy=0.889, val_loss=0.513, val_accuracy=0.791]\n",
      "Epoch 17:  92%|█████████▏| 234/255 [01:21<00:07,  2.86it/s, loss=0.402, v_num=3, train_loss=0.360, train_accuracy=0.889, val_loss=0.513, val_accuracy=0.791]\n",
      "Epoch 17:  93%|█████████▎| 236/255 [01:21<00:06,  2.88it/s, loss=0.402, v_num=3, train_loss=0.360, train_accuracy=0.889, val_loss=0.513, val_accuracy=0.791]\n",
      "Epoch 17:  93%|█████████▎| 238/255 [01:22<00:05,  2.90it/s, loss=0.402, v_num=3, train_loss=0.360, train_accuracy=0.889, val_loss=0.513, val_accuracy=0.791]\n",
      "Epoch 17:  94%|█████████▍| 240/255 [01:22<00:05,  2.92it/s, loss=0.402, v_num=3, train_loss=0.360, train_accuracy=0.889, val_loss=0.513, val_accuracy=0.791]\n",
      "Epoch 17:  95%|█████████▍| 242/255 [01:22<00:04,  2.94it/s, loss=0.402, v_num=3, train_loss=0.360, train_accuracy=0.889, val_loss=0.513, val_accuracy=0.791]\n",
      "Epoch 17:  96%|█████████▌| 244/255 [01:22<00:03,  2.96it/s, loss=0.402, v_num=3, train_loss=0.360, train_accuracy=0.889, val_loss=0.513, val_accuracy=0.791]\n",
      "Epoch 17:  96%|█████████▋| 246/255 [01:22<00:03,  2.98it/s, loss=0.402, v_num=3, train_loss=0.360, train_accuracy=0.889, val_loss=0.513, val_accuracy=0.791]\n",
      "Epoch 17:  97%|█████████▋| 248/255 [01:22<00:02,  2.99it/s, loss=0.402, v_num=3, train_loss=0.360, train_accuracy=0.889, val_loss=0.513, val_accuracy=0.791]\n",
      "Epoch 17:  98%|█████████▊| 250/255 [01:22<00:01,  3.01it/s, loss=0.402, v_num=3, train_loss=0.360, train_accuracy=0.889, val_loss=0.513, val_accuracy=0.791]\n",
      "Epoch 17:  99%|█████████▉| 252/255 [01:23<00:00,  3.03it/s, loss=0.402, v_num=3, train_loss=0.360, train_accuracy=0.889, val_loss=0.513, val_accuracy=0.791]\n",
      "Epoch 17: 100%|█████████▉| 254/255 [01:23<00:00,  3.05it/s, loss=0.402, v_num=3, train_loss=0.360, train_accuracy=0.889, val_loss=0.513, val_accuracy=0.791]\n",
      "Epoch 17: 100%|██████████| 255/255 [01:23<00:00,  3.04it/s, loss=0.402, v_num=3, train_loss=0.360, train_accuracy=0.889, val_loss=0.453, val_accuracy=0.820]\n",
      "Epoch 17: 100%|██████████| 255/255 [01:23<00:00,  3.04it/s, loss=0.402, v_num=3, train_loss=0.360, train_accuracy=0.889, val_loss=0.453, val_accuracy=0.820]"
     ]
    },
    {
     "name": "stderr",
     "output_type": "stream",
     "text": [
      "Epoch 17, global step 4067: val_loss was not in top 2\n"
     ]
    },
    {
     "name": "stdout",
     "output_type": "stream",
     "text": [
      "Epoch 18:  89%|████████▊ | 226/255 [01:17<00:09,  2.91it/s, loss=0.336, v_num=3, train_loss=0.212, train_accuracy=0.889, val_loss=0.453, val_accuracy=0.820]\n",
      "Validating: 0it [00:00, ?it/s]\u001b[A\n",
      "Validating:   0%|          | 0/29 [00:00<?, ?it/s]\u001b[A\n",
      "Epoch 18:  89%|████████▉ | 228/255 [01:21<00:09,  2.80it/s, loss=0.336, v_num=3, train_loss=0.212, train_accuracy=0.889, val_loss=0.453, val_accuracy=0.820]\n",
      "Epoch 18:  90%|█████████ | 230/255 [01:21<00:08,  2.82it/s, loss=0.336, v_num=3, train_loss=0.212, train_accuracy=0.889, val_loss=0.453, val_accuracy=0.820]\n",
      "Epoch 18:  91%|█████████ | 232/255 [01:21<00:08,  2.84it/s, loss=0.336, v_num=3, train_loss=0.212, train_accuracy=0.889, val_loss=0.453, val_accuracy=0.820]\n",
      "Epoch 18:  92%|█████████▏| 234/255 [01:21<00:07,  2.86it/s, loss=0.336, v_num=3, train_loss=0.212, train_accuracy=0.889, val_loss=0.453, val_accuracy=0.820]\n",
      "Epoch 18:  93%|█████████▎| 236/255 [01:21<00:06,  2.88it/s, loss=0.336, v_num=3, train_loss=0.212, train_accuracy=0.889, val_loss=0.453, val_accuracy=0.820]\n",
      "Epoch 18:  93%|█████████▎| 238/255 [01:22<00:05,  2.90it/s, loss=0.336, v_num=3, train_loss=0.212, train_accuracy=0.889, val_loss=0.453, val_accuracy=0.820]\n",
      "Epoch 18:  94%|█████████▍| 240/255 [01:22<00:05,  2.92it/s, loss=0.336, v_num=3, train_loss=0.212, train_accuracy=0.889, val_loss=0.453, val_accuracy=0.820]\n",
      "Epoch 18:  95%|█████████▍| 242/255 [01:22<00:04,  2.94it/s, loss=0.336, v_num=3, train_loss=0.212, train_accuracy=0.889, val_loss=0.453, val_accuracy=0.820]\n",
      "Epoch 18:  96%|█████████▌| 244/255 [01:22<00:03,  2.96it/s, loss=0.336, v_num=3, train_loss=0.212, train_accuracy=0.889, val_loss=0.453, val_accuracy=0.820]\n",
      "Epoch 18:  96%|█████████▋| 246/255 [01:22<00:03,  2.98it/s, loss=0.336, v_num=3, train_loss=0.212, train_accuracy=0.889, val_loss=0.453, val_accuracy=0.820]\n",
      "Epoch 18:  97%|█████████▋| 248/255 [01:22<00:02,  3.00it/s, loss=0.336, v_num=3, train_loss=0.212, train_accuracy=0.889, val_loss=0.453, val_accuracy=0.820]\n",
      "Epoch 18:  98%|█████████▊| 250/255 [01:22<00:01,  3.01it/s, loss=0.336, v_num=3, train_loss=0.212, train_accuracy=0.889, val_loss=0.453, val_accuracy=0.820]\n",
      "Epoch 18:  99%|█████████▉| 252/255 [01:23<00:00,  3.03it/s, loss=0.336, v_num=3, train_loss=0.212, train_accuracy=0.889, val_loss=0.453, val_accuracy=0.820]\n",
      "Epoch 18: 100%|█████████▉| 254/255 [01:23<00:00,  3.05it/s, loss=0.336, v_num=3, train_loss=0.212, train_accuracy=0.889, val_loss=0.453, val_accuracy=0.820]\n",
      "Epoch 18: 100%|██████████| 255/255 [01:23<00:00,  3.04it/s, loss=0.336, v_num=3, train_loss=0.212, train_accuracy=0.889, val_loss=0.378, val_accuracy=0.846]\n",
      "Epoch 18: 100%|██████████| 255/255 [01:23<00:00,  3.04it/s, loss=0.336, v_num=3, train_loss=0.212, train_accuracy=0.889, val_loss=0.378, val_accuracy=0.846]"
     ]
    },
    {
     "name": "stderr",
     "output_type": "stream",
     "text": [
      "Epoch 18, global step 4293: val_loss reached 0.37766 (best 0.37766), saving model to \"/Workspace/code/checkpoints/best-checkpoint-corr-mi-18-v6.ckpt\" as top 2\n"
     ]
    },
    {
     "name": "stdout",
     "output_type": "stream",
     "text": [
      "Epoch 19:  89%|████████▊ | 226/255 [01:17<00:09,  2.91it/s, loss=0.585, v_num=3, train_loss=0.618, train_accuracy=0.722, val_loss=0.378, val_accuracy=0.846]\n",
      "Validating: 0it [00:00, ?it/s]\u001b[A\n",
      "Validating:   0%|          | 0/29 [00:00<?, ?it/s]\u001b[A\n",
      "Epoch 19:  89%|████████▉ | 228/255 [01:21<00:09,  2.80it/s, loss=0.585, v_num=3, train_loss=0.618, train_accuracy=0.722, val_loss=0.378, val_accuracy=0.846]\n",
      "Epoch 19:  90%|█████████ | 230/255 [01:21<00:08,  2.82it/s, loss=0.585, v_num=3, train_loss=0.618, train_accuracy=0.722, val_loss=0.378, val_accuracy=0.846]\n",
      "Epoch 19:  91%|█████████ | 232/255 [01:21<00:08,  2.84it/s, loss=0.585, v_num=3, train_loss=0.618, train_accuracy=0.722, val_loss=0.378, val_accuracy=0.846]\n",
      "Epoch 19:  92%|█████████▏| 234/255 [01:21<00:07,  2.86it/s, loss=0.585, v_num=3, train_loss=0.618, train_accuracy=0.722, val_loss=0.378, val_accuracy=0.846]\n",
      "Epoch 19:  93%|█████████▎| 236/255 [01:21<00:06,  2.88it/s, loss=0.585, v_num=3, train_loss=0.618, train_accuracy=0.722, val_loss=0.378, val_accuracy=0.846]\n",
      "Epoch 19:  93%|█████████▎| 238/255 [01:22<00:05,  2.90it/s, loss=0.585, v_num=3, train_loss=0.618, train_accuracy=0.722, val_loss=0.378, val_accuracy=0.846]\n",
      "Epoch 19:  94%|█████████▍| 240/255 [01:22<00:05,  2.92it/s, loss=0.585, v_num=3, train_loss=0.618, train_accuracy=0.722, val_loss=0.378, val_accuracy=0.846]\n",
      "Epoch 19:  95%|█████████▍| 242/255 [01:22<00:04,  2.94it/s, loss=0.585, v_num=3, train_loss=0.618, train_accuracy=0.722, val_loss=0.378, val_accuracy=0.846]\n",
      "Epoch 19:  96%|█████████▌| 244/255 [01:22<00:03,  2.96it/s, loss=0.585, v_num=3, train_loss=0.618, train_accuracy=0.722, val_loss=0.378, val_accuracy=0.846]\n",
      "Epoch 19:  96%|█████████▋| 246/255 [01:22<00:03,  2.98it/s, loss=0.585, v_num=3, train_loss=0.618, train_accuracy=0.722, val_loss=0.378, val_accuracy=0.846]\n",
      "Epoch 19:  97%|█████████▋| 248/255 [01:22<00:02,  2.99it/s, loss=0.585, v_num=3, train_loss=0.618, train_accuracy=0.722, val_loss=0.378, val_accuracy=0.846]\n",
      "Epoch 19:  98%|█████████▊| 250/255 [01:22<00:01,  3.01it/s, loss=0.585, v_num=3, train_loss=0.618, train_accuracy=0.722, val_loss=0.378, val_accuracy=0.846]\n",
      "Epoch 19:  99%|█████████▉| 252/255 [01:23<00:00,  3.03it/s, loss=0.585, v_num=3, train_loss=0.618, train_accuracy=0.722, val_loss=0.378, val_accuracy=0.846]\n",
      "Epoch 19: 100%|█████████▉| 254/255 [01:23<00:00,  3.05it/s, loss=0.585, v_num=3, train_loss=0.618, train_accuracy=0.722, val_loss=0.378, val_accuracy=0.846]\n",
      "Epoch 19: 100%|██████████| 255/255 [01:23<00:00,  3.04it/s, loss=0.585, v_num=3, train_loss=0.618, train_accuracy=0.722, val_loss=0.423, val_accuracy=0.819]\n",
      "Epoch 19: 100%|██████████| 255/255 [01:23<00:00,  3.04it/s, loss=0.585, v_num=3, train_loss=0.618, train_accuracy=0.722, val_loss=0.423, val_accuracy=0.819]"
     ]
    },
    {
     "name": "stderr",
     "output_type": "stream",
     "text": [
      "Epoch 19, global step 4519: val_loss was not in top 2\n"
     ]
    },
    {
     "name": "stdout",
     "output_type": "stream",
     "text": [
      "Epoch 20:  89%|████████▊ | 226/255 [01:17<00:09,  2.91it/s, loss=0.289, v_num=3, train_loss=0.331, train_accuracy=0.889, val_loss=0.423, val_accuracy=0.819]\n",
      "Validating: 0it [00:00, ?it/s]\u001b[A\n",
      "Validating:   0%|          | 0/29 [00:00<?, ?it/s]\u001b[A\n",
      "Epoch 20:  89%|████████▉ | 228/255 [01:21<00:09,  2.80it/s, loss=0.289, v_num=3, train_loss=0.331, train_accuracy=0.889, val_loss=0.423, val_accuracy=0.819]\n",
      "Epoch 20:  90%|█████████ | 230/255 [01:21<00:08,  2.82it/s, loss=0.289, v_num=3, train_loss=0.331, train_accuracy=0.889, val_loss=0.423, val_accuracy=0.819]\n",
      "Epoch 20:  91%|█████████ | 232/255 [01:21<00:08,  2.84it/s, loss=0.289, v_num=3, train_loss=0.331, train_accuracy=0.889, val_loss=0.423, val_accuracy=0.819]\n",
      "Epoch 20:  92%|█████████▏| 234/255 [01:21<00:07,  2.86it/s, loss=0.289, v_num=3, train_loss=0.331, train_accuracy=0.889, val_loss=0.423, val_accuracy=0.819]\n",
      "Epoch 20:  93%|█████████▎| 236/255 [01:22<00:06,  2.88it/s, loss=0.289, v_num=3, train_loss=0.331, train_accuracy=0.889, val_loss=0.423, val_accuracy=0.819]\n",
      "Epoch 20:  93%|█████████▎| 238/255 [01:22<00:05,  2.90it/s, loss=0.289, v_num=3, train_loss=0.331, train_accuracy=0.889, val_loss=0.423, val_accuracy=0.819]\n",
      "Epoch 20:  94%|█████████▍| 240/255 [01:22<00:05,  2.91it/s, loss=0.289, v_num=3, train_loss=0.331, train_accuracy=0.889, val_loss=0.423, val_accuracy=0.819]\n",
      "Epoch 20:  95%|█████████▍| 242/255 [01:22<00:04,  2.93it/s, loss=0.289, v_num=3, train_loss=0.331, train_accuracy=0.889, val_loss=0.423, val_accuracy=0.819]\n",
      "Epoch 20:  96%|█████████▌| 244/255 [01:22<00:03,  2.95it/s, loss=0.289, v_num=3, train_loss=0.331, train_accuracy=0.889, val_loss=0.423, val_accuracy=0.819]\n",
      "Epoch 20:  96%|█████████▋| 246/255 [01:22<00:03,  2.97it/s, loss=0.289, v_num=3, train_loss=0.331, train_accuracy=0.889, val_loss=0.423, val_accuracy=0.819]\n",
      "Epoch 20:  97%|█████████▋| 248/255 [01:22<00:02,  2.99it/s, loss=0.289, v_num=3, train_loss=0.331, train_accuracy=0.889, val_loss=0.423, val_accuracy=0.819]\n",
      "Epoch 20:  98%|█████████▊| 250/255 [01:23<00:01,  3.01it/s, loss=0.289, v_num=3, train_loss=0.331, train_accuracy=0.889, val_loss=0.423, val_accuracy=0.819]\n",
      "Epoch 20:  99%|█████████▉| 252/255 [01:23<00:00,  3.03it/s, loss=0.289, v_num=3, train_loss=0.331, train_accuracy=0.889, val_loss=0.423, val_accuracy=0.819]\n",
      "Epoch 20: 100%|█████████▉| 254/255 [01:23<00:00,  3.05it/s, loss=0.289, v_num=3, train_loss=0.331, train_accuracy=0.889, val_loss=0.423, val_accuracy=0.819]\n",
      "Epoch 20: 100%|██████████| 255/255 [01:24<00:00,  3.03it/s, loss=0.289, v_num=3, train_loss=0.331, train_accuracy=0.889, val_loss=0.331, val_accuracy=0.868]\n",
      "Epoch 20: 100%|██████████| 255/255 [01:24<00:00,  3.03it/s, loss=0.289, v_num=3, train_loss=0.331, train_accuracy=0.889, val_loss=0.331, val_accuracy=0.868]"
     ]
    },
    {
     "name": "stderr",
     "output_type": "stream",
     "text": [
      "Epoch 20, global step 4745: val_loss reached 0.33121 (best 0.33121), saving model to \"/Workspace/code/checkpoints/best-checkpoint-corr-mi-18-v7.ckpt\" as top 2\n"
     ]
    },
    {
     "name": "stdout",
     "output_type": "stream",
     "text": [
      "Epoch 21:  89%|████████▊ | 226/255 [01:18<00:10,  2.88it/s, loss=0.293, v_num=3, train_loss=0.276, train_accuracy=0.889, val_loss=0.331, val_accuracy=0.868]\n",
      "Validating: 0it [00:00, ?it/s]\u001b[A\n",
      "Validating:   0%|          | 0/29 [00:00<?, ?it/s]\u001b[A\n",
      "Epoch 21:  89%|████████▉ | 228/255 [01:22<00:09,  2.78it/s, loss=0.293, v_num=3, train_loss=0.276, train_accuracy=0.889, val_loss=0.331, val_accuracy=0.868]\n",
      "Epoch 21:  90%|█████████ | 230/255 [01:22<00:08,  2.80it/s, loss=0.293, v_num=3, train_loss=0.276, train_accuracy=0.889, val_loss=0.331, val_accuracy=0.868]\n",
      "Epoch 21:  91%|█████████ | 232/255 [01:22<00:08,  2.81it/s, loss=0.293, v_num=3, train_loss=0.276, train_accuracy=0.889, val_loss=0.331, val_accuracy=0.868]\n",
      "Epoch 21:  92%|█████████▏| 234/255 [01:22<00:07,  2.83it/s, loss=0.293, v_num=3, train_loss=0.276, train_accuracy=0.889, val_loss=0.331, val_accuracy=0.868]\n",
      "Epoch 21:  93%|█████████▎| 236/255 [01:22<00:06,  2.85it/s, loss=0.293, v_num=3, train_loss=0.276, train_accuracy=0.889, val_loss=0.331, val_accuracy=0.868]\n",
      "Epoch 21:  93%|█████████▎| 238/255 [01:22<00:05,  2.87it/s, loss=0.293, v_num=3, train_loss=0.276, train_accuracy=0.889, val_loss=0.331, val_accuracy=0.868]\n",
      "Epoch 21:  94%|█████████▍| 240/255 [01:23<00:05,  2.89it/s, loss=0.293, v_num=3, train_loss=0.276, train_accuracy=0.889, val_loss=0.331, val_accuracy=0.868]\n",
      "Epoch 21:  95%|█████████▍| 242/255 [01:23<00:04,  2.91it/s, loss=0.293, v_num=3, train_loss=0.276, train_accuracy=0.889, val_loss=0.331, val_accuracy=0.868]\n",
      "Epoch 21:  96%|█████████▌| 244/255 [01:23<00:03,  2.93it/s, loss=0.293, v_num=3, train_loss=0.276, train_accuracy=0.889, val_loss=0.331, val_accuracy=0.868]\n",
      "Epoch 21:  96%|█████████▋| 246/255 [01:23<00:03,  2.94it/s, loss=0.293, v_num=3, train_loss=0.276, train_accuracy=0.889, val_loss=0.331, val_accuracy=0.868]\n",
      "Epoch 21:  97%|█████████▋| 248/255 [01:23<00:02,  2.96it/s, loss=0.293, v_num=3, train_loss=0.276, train_accuracy=0.889, val_loss=0.331, val_accuracy=0.868]\n",
      "Epoch 21:  98%|█████████▊| 250/255 [01:23<00:01,  2.98it/s, loss=0.293, v_num=3, train_loss=0.276, train_accuracy=0.889, val_loss=0.331, val_accuracy=0.868]\n",
      "Epoch 21:  99%|█████████▉| 252/255 [01:23<00:00,  3.00it/s, loss=0.293, v_num=3, train_loss=0.276, train_accuracy=0.889, val_loss=0.331, val_accuracy=0.868]\n",
      "Epoch 21: 100%|█████████▉| 254/255 [01:24<00:00,  3.02it/s, loss=0.293, v_num=3, train_loss=0.276, train_accuracy=0.889, val_loss=0.331, val_accuracy=0.868]\n",
      "Epoch 21: 100%|██████████| 255/255 [01:24<00:00,  3.01it/s, loss=0.293, v_num=3, train_loss=0.276, train_accuracy=0.889, val_loss=0.301, val_accuracy=0.879]\n",
      "Epoch 21: 100%|██████████| 255/255 [01:24<00:00,  3.01it/s, loss=0.293, v_num=3, train_loss=0.276, train_accuracy=0.889, val_loss=0.301, val_accuracy=0.879]"
     ]
    },
    {
     "name": "stderr",
     "output_type": "stream",
     "text": [
      "Epoch 21, global step 4971: val_loss reached 0.30052 (best 0.30052), saving model to \"/Workspace/code/checkpoints/best-checkpoint-corr-mi-18-v6.ckpt\" as top 2\n"
     ]
    },
    {
     "name": "stdout",
     "output_type": "stream",
     "text": [
      "Epoch 22:  89%|████████▊ | 226/255 [01:18<00:10,  2.87it/s, loss=0.25, v_num=3, train_loss=0.144, train_accuracy=0.889, val_loss=0.301, val_accuracy=0.879] \n",
      "Validating: 0it [00:00, ?it/s]\u001b[A\n",
      "Validating:   0%|          | 0/29 [00:00<?, ?it/s]\u001b[A\n",
      "Epoch 22:  89%|████████▉ | 228/255 [01:22<00:09,  2.77it/s, loss=0.25, v_num=3, train_loss=0.144, train_accuracy=0.889, val_loss=0.301, val_accuracy=0.879]\n",
      "Epoch 22:  90%|█████████ | 230/255 [01:22<00:08,  2.79it/s, loss=0.25, v_num=3, train_loss=0.144, train_accuracy=0.889, val_loss=0.301, val_accuracy=0.879]\n",
      "Epoch 22:  91%|█████████ | 232/255 [01:22<00:08,  2.81it/s, loss=0.25, v_num=3, train_loss=0.144, train_accuracy=0.889, val_loss=0.301, val_accuracy=0.879]\n",
      "Epoch 22:  92%|█████████▏| 234/255 [01:22<00:07,  2.82it/s, loss=0.25, v_num=3, train_loss=0.144, train_accuracy=0.889, val_loss=0.301, val_accuracy=0.879]\n",
      "Epoch 22:  93%|█████████▎| 236/255 [01:22<00:06,  2.84it/s, loss=0.25, v_num=3, train_loss=0.144, train_accuracy=0.889, val_loss=0.301, val_accuracy=0.879]\n",
      "Epoch 22:  93%|█████████▎| 238/255 [01:23<00:05,  2.86it/s, loss=0.25, v_num=3, train_loss=0.144, train_accuracy=0.889, val_loss=0.301, val_accuracy=0.879]\n",
      "Epoch 22:  94%|█████████▍| 240/255 [01:23<00:05,  2.88it/s, loss=0.25, v_num=3, train_loss=0.144, train_accuracy=0.889, val_loss=0.301, val_accuracy=0.879]\n",
      "Epoch 22:  95%|█████████▍| 242/255 [01:23<00:04,  2.90it/s, loss=0.25, v_num=3, train_loss=0.144, train_accuracy=0.889, val_loss=0.301, val_accuracy=0.879]\n",
      "Epoch 22:  96%|█████████▌| 244/255 [01:23<00:03,  2.92it/s, loss=0.25, v_num=3, train_loss=0.144, train_accuracy=0.889, val_loss=0.301, val_accuracy=0.879]\n",
      "Epoch 22:  96%|█████████▋| 246/255 [01:23<00:03,  2.94it/s, loss=0.25, v_num=3, train_loss=0.144, train_accuracy=0.889, val_loss=0.301, val_accuracy=0.879]\n",
      "Epoch 22:  97%|█████████▋| 248/255 [01:23<00:02,  2.96it/s, loss=0.25, v_num=3, train_loss=0.144, train_accuracy=0.889, val_loss=0.301, val_accuracy=0.879]\n",
      "Epoch 22:  98%|█████████▊| 250/255 [01:24<00:01,  2.98it/s, loss=0.25, v_num=3, train_loss=0.144, train_accuracy=0.889, val_loss=0.301, val_accuracy=0.879]\n",
      "Epoch 22:  99%|█████████▉| 252/255 [01:24<00:01,  2.99it/s, loss=0.25, v_num=3, train_loss=0.144, train_accuracy=0.889, val_loss=0.301, val_accuracy=0.879]\n",
      "Epoch 22: 100%|█████████▉| 254/255 [01:24<00:00,  3.01it/s, loss=0.25, v_num=3, train_loss=0.144, train_accuracy=0.889, val_loss=0.301, val_accuracy=0.879]\n",
      "Epoch 22: 100%|██████████| 255/255 [01:25<00:00,  3.00it/s, loss=0.25, v_num=3, train_loss=0.144, train_accuracy=0.889, val_loss=0.304, val_accuracy=0.886]\n",
      "Epoch 22: 100%|██████████| 255/255 [01:25<00:00,  3.00it/s, loss=0.25, v_num=3, train_loss=0.144, train_accuracy=0.889, val_loss=0.304, val_accuracy=0.886]"
     ]
    },
    {
     "name": "stderr",
     "output_type": "stream",
     "text": [
      "Epoch 22, global step 5197: val_loss reached 0.30382 (best 0.30052), saving model to \"/Workspace/code/checkpoints/best-checkpoint-corr-mi-18-v7.ckpt\" as top 2\n"
     ]
    },
    {
     "name": "stdout",
     "output_type": "stream",
     "text": [
      "Epoch 23:  89%|████████▊ | 226/255 [01:17<00:09,  2.90it/s, loss=0.289, v_num=3, train_loss=0.343, train_accuracy=0.889, val_loss=0.304, val_accuracy=0.886]\n",
      "Validating: 0it [00:00, ?it/s]\u001b[A\n",
      "Validating:   0%|          | 0/29 [00:00<?, ?it/s]\u001b[A\n",
      "Epoch 23:  89%|████████▉ | 228/255 [01:21<00:09,  2.80it/s, loss=0.289, v_num=3, train_loss=0.343, train_accuracy=0.889, val_loss=0.304, val_accuracy=0.886]\n",
      "Epoch 23:  90%|█████████ | 230/255 [01:21<00:08,  2.82it/s, loss=0.289, v_num=3, train_loss=0.343, train_accuracy=0.889, val_loss=0.304, val_accuracy=0.886]\n",
      "Epoch 23:  91%|█████████ | 232/255 [01:21<00:08,  2.84it/s, loss=0.289, v_num=3, train_loss=0.343, train_accuracy=0.889, val_loss=0.304, val_accuracy=0.886]\n",
      "Epoch 23:  92%|█████████▏| 234/255 [01:21<00:07,  2.86it/s, loss=0.289, v_num=3, train_loss=0.343, train_accuracy=0.889, val_loss=0.304, val_accuracy=0.886]\n",
      "Epoch 23:  93%|█████████▎| 236/255 [01:22<00:06,  2.88it/s, loss=0.289, v_num=3, train_loss=0.343, train_accuracy=0.889, val_loss=0.304, val_accuracy=0.886]\n",
      "Epoch 23:  93%|█████████▎| 238/255 [01:22<00:05,  2.90it/s, loss=0.289, v_num=3, train_loss=0.343, train_accuracy=0.889, val_loss=0.304, val_accuracy=0.886]\n",
      "Epoch 23:  94%|█████████▍| 240/255 [01:22<00:05,  2.91it/s, loss=0.289, v_num=3, train_loss=0.343, train_accuracy=0.889, val_loss=0.304, val_accuracy=0.886]\n",
      "Epoch 23:  95%|█████████▍| 242/255 [01:22<00:04,  2.93it/s, loss=0.289, v_num=3, train_loss=0.343, train_accuracy=0.889, val_loss=0.304, val_accuracy=0.886]\n",
      "Epoch 23:  96%|█████████▌| 244/255 [01:22<00:03,  2.95it/s, loss=0.289, v_num=3, train_loss=0.343, train_accuracy=0.889, val_loss=0.304, val_accuracy=0.886]\n",
      "Epoch 23:  96%|█████████▋| 246/255 [01:22<00:03,  2.97it/s, loss=0.289, v_num=3, train_loss=0.343, train_accuracy=0.889, val_loss=0.304, val_accuracy=0.886]\n",
      "Epoch 23:  97%|█████████▋| 248/255 [01:22<00:02,  2.99it/s, loss=0.289, v_num=3, train_loss=0.343, train_accuracy=0.889, val_loss=0.304, val_accuracy=0.886]\n",
      "Epoch 23:  98%|█████████▊| 250/255 [01:23<00:01,  3.01it/s, loss=0.289, v_num=3, train_loss=0.343, train_accuracy=0.889, val_loss=0.304, val_accuracy=0.886]\n",
      "Epoch 23:  99%|█████████▉| 252/255 [01:23<00:00,  3.03it/s, loss=0.289, v_num=3, train_loss=0.343, train_accuracy=0.889, val_loss=0.304, val_accuracy=0.886]\n",
      "Epoch 23: 100%|█████████▉| 254/255 [01:23<00:00,  3.05it/s, loss=0.289, v_num=3, train_loss=0.343, train_accuracy=0.889, val_loss=0.304, val_accuracy=0.886]\n",
      "Epoch 23: 100%|██████████| 255/255 [01:24<00:00,  3.03it/s, loss=0.289, v_num=3, train_loss=0.343, train_accuracy=0.889, val_loss=0.296, val_accuracy=0.870]\n",
      "Epoch 23: 100%|██████████| 255/255 [01:24<00:00,  3.03it/s, loss=0.289, v_num=3, train_loss=0.343, train_accuracy=0.889, val_loss=0.296, val_accuracy=0.870]"
     ]
    },
    {
     "name": "stderr",
     "output_type": "stream",
     "text": [
      "Epoch 23, global step 5423: val_loss reached 0.29574 (best 0.29574), saving model to \"/Workspace/code/checkpoints/best-checkpoint-corr-mi-18-v7.ckpt\" as top 2\n"
     ]
    },
    {
     "name": "stdout",
     "output_type": "stream",
     "text": [
      "Epoch 24:  89%|████████▊ | 226/255 [01:17<00:10,  2.90it/s, loss=0.245, v_num=3, train_loss=0.301, train_accuracy=0.833, val_loss=0.296, val_accuracy=0.870]\n",
      "Validating: 0it [00:00, ?it/s]\u001b[A\n",
      "Validating:   0%|          | 0/29 [00:00<?, ?it/s]\u001b[A\n",
      "Epoch 24:  89%|████████▉ | 228/255 [01:21<00:09,  2.80it/s, loss=0.245, v_num=3, train_loss=0.301, train_accuracy=0.833, val_loss=0.296, val_accuracy=0.870]\n",
      "Epoch 24:  90%|█████████ | 230/255 [01:21<00:08,  2.81it/s, loss=0.245, v_num=3, train_loss=0.301, train_accuracy=0.833, val_loss=0.296, val_accuracy=0.870]\n",
      "Epoch 24:  91%|█████████ | 232/255 [01:21<00:08,  2.83it/s, loss=0.245, v_num=3, train_loss=0.301, train_accuracy=0.833, val_loss=0.296, val_accuracy=0.870]\n",
      "Epoch 24:  92%|█████████▏| 234/255 [01:22<00:07,  2.85it/s, loss=0.245, v_num=3, train_loss=0.301, train_accuracy=0.833, val_loss=0.296, val_accuracy=0.870]\n",
      "Epoch 24:  93%|█████████▎| 236/255 [01:22<00:06,  2.87it/s, loss=0.245, v_num=3, train_loss=0.301, train_accuracy=0.833, val_loss=0.296, val_accuracy=0.870]\n",
      "Epoch 24:  93%|█████████▎| 238/255 [01:22<00:05,  2.89it/s, loss=0.245, v_num=3, train_loss=0.301, train_accuracy=0.833, val_loss=0.296, val_accuracy=0.870]\n",
      "Epoch 24:  94%|█████████▍| 240/255 [01:22<00:05,  2.91it/s, loss=0.245, v_num=3, train_loss=0.301, train_accuracy=0.833, val_loss=0.296, val_accuracy=0.870]\n",
      "Epoch 24:  95%|█████████▍| 242/255 [01:22<00:04,  2.93it/s, loss=0.245, v_num=3, train_loss=0.301, train_accuracy=0.833, val_loss=0.296, val_accuracy=0.870]\n",
      "Epoch 24:  96%|█████████▌| 244/255 [01:22<00:03,  2.95it/s, loss=0.245, v_num=3, train_loss=0.301, train_accuracy=0.833, val_loss=0.296, val_accuracy=0.870]\n",
      "Epoch 24:  96%|█████████▋| 246/255 [01:22<00:03,  2.97it/s, loss=0.245, v_num=3, train_loss=0.301, train_accuracy=0.833, val_loss=0.296, val_accuracy=0.870]\n",
      "Epoch 24:  97%|█████████▋| 248/255 [01:23<00:02,  2.98it/s, loss=0.245, v_num=3, train_loss=0.301, train_accuracy=0.833, val_loss=0.296, val_accuracy=0.870]\n",
      "Epoch 24:  98%|█████████▊| 250/255 [01:23<00:01,  3.00it/s, loss=0.245, v_num=3, train_loss=0.301, train_accuracy=0.833, val_loss=0.296, val_accuracy=0.870]\n",
      "Epoch 24:  99%|█████████▉| 252/255 [01:23<00:00,  3.02it/s, loss=0.245, v_num=3, train_loss=0.301, train_accuracy=0.833, val_loss=0.296, val_accuracy=0.870]\n",
      "Epoch 24: 100%|█████████▉| 254/255 [01:23<00:00,  3.04it/s, loss=0.245, v_num=3, train_loss=0.301, train_accuracy=0.833, val_loss=0.296, val_accuracy=0.870]\n",
      "Epoch 24: 100%|██████████| 255/255 [01:24<00:00,  3.03it/s, loss=0.245, v_num=3, train_loss=0.301, train_accuracy=0.833, val_loss=0.279, val_accuracy=0.889]\n",
      "Epoch 24: 100%|██████████| 255/255 [01:24<00:00,  3.03it/s, loss=0.245, v_num=3, train_loss=0.301, train_accuracy=0.833, val_loss=0.279, val_accuracy=0.889]"
     ]
    },
    {
     "name": "stderr",
     "output_type": "stream",
     "text": [
      "Epoch 24, global step 5649: val_loss reached 0.27864 (best 0.27864), saving model to \"/Workspace/code/checkpoints/best-checkpoint-corr-mi-18-v6.ckpt\" as top 2\n"
     ]
    },
    {
     "name": "stdout",
     "output_type": "stream",
     "text": [
      "Epoch 25:  89%|████████▊ | 226/255 [01:18<00:10,  2.90it/s, loss=0.301, v_num=3, train_loss=0.325, train_accuracy=0.722, val_loss=0.279, val_accuracy=0.889] \n",
      "Validating: 0it [00:00, ?it/s]\u001b[A\n",
      "Validating:   0%|          | 0/29 [00:00<?, ?it/s]\u001b[A\n",
      "Epoch 25:  89%|████████▉ | 228/255 [01:21<00:09,  2.79it/s, loss=0.301, v_num=3, train_loss=0.325, train_accuracy=0.722, val_loss=0.279, val_accuracy=0.889]\n",
      "Epoch 25:  90%|█████████ | 230/255 [01:21<00:08,  2.81it/s, loss=0.301, v_num=3, train_loss=0.325, train_accuracy=0.722, val_loss=0.279, val_accuracy=0.889]\n",
      "Epoch 25:  91%|█████████ | 232/255 [01:21<00:08,  2.83it/s, loss=0.301, v_num=3, train_loss=0.325, train_accuracy=0.722, val_loss=0.279, val_accuracy=0.889]\n",
      "Epoch 25:  92%|█████████▏| 234/255 [01:22<00:07,  2.85it/s, loss=0.301, v_num=3, train_loss=0.325, train_accuracy=0.722, val_loss=0.279, val_accuracy=0.889]\n",
      "Epoch 25:  93%|█████████▎| 236/255 [01:22<00:06,  2.87it/s, loss=0.301, v_num=3, train_loss=0.325, train_accuracy=0.722, val_loss=0.279, val_accuracy=0.889]\n",
      "Epoch 25:  93%|█████████▎| 238/255 [01:22<00:05,  2.89it/s, loss=0.301, v_num=3, train_loss=0.325, train_accuracy=0.722, val_loss=0.279, val_accuracy=0.889]\n",
      "Epoch 25:  94%|█████████▍| 240/255 [01:22<00:05,  2.91it/s, loss=0.301, v_num=3, train_loss=0.325, train_accuracy=0.722, val_loss=0.279, val_accuracy=0.889]\n",
      "Epoch 25:  95%|█████████▍| 242/255 [01:22<00:04,  2.92it/s, loss=0.301, v_num=3, train_loss=0.325, train_accuracy=0.722, val_loss=0.279, val_accuracy=0.889]\n",
      "Epoch 25:  96%|█████████▌| 244/255 [01:22<00:03,  2.94it/s, loss=0.301, v_num=3, train_loss=0.325, train_accuracy=0.722, val_loss=0.279, val_accuracy=0.889]\n",
      "Epoch 25:  96%|█████████▋| 246/255 [01:23<00:03,  2.96it/s, loss=0.301, v_num=3, train_loss=0.325, train_accuracy=0.722, val_loss=0.279, val_accuracy=0.889]\n",
      "Epoch 25:  97%|█████████▋| 248/255 [01:23<00:02,  2.98it/s, loss=0.301, v_num=3, train_loss=0.325, train_accuracy=0.722, val_loss=0.279, val_accuracy=0.889]\n",
      "Epoch 25:  98%|█████████▊| 250/255 [01:23<00:01,  3.00it/s, loss=0.301, v_num=3, train_loss=0.325, train_accuracy=0.722, val_loss=0.279, val_accuracy=0.889]\n",
      "Epoch 25:  99%|█████████▉| 252/255 [01:23<00:00,  3.02it/s, loss=0.301, v_num=3, train_loss=0.325, train_accuracy=0.722, val_loss=0.279, val_accuracy=0.889]\n",
      "Epoch 25: 100%|█████████▉| 254/255 [01:23<00:00,  3.04it/s, loss=0.301, v_num=3, train_loss=0.325, train_accuracy=0.722, val_loss=0.279, val_accuracy=0.889]\n",
      "Epoch 25: 100%|██████████| 255/255 [01:24<00:00,  3.03it/s, loss=0.301, v_num=3, train_loss=0.325, train_accuracy=0.722, val_loss=0.309, val_accuracy=0.862]\n",
      "Epoch 25: 100%|██████████| 255/255 [01:24<00:00,  3.03it/s, loss=0.301, v_num=3, train_loss=0.325, train_accuracy=0.722, val_loss=0.309, val_accuracy=0.862]"
     ]
    },
    {
     "name": "stderr",
     "output_type": "stream",
     "text": [
      "Epoch 25, global step 5875: val_loss was not in top 2\n"
     ]
    },
    {
     "name": "stdout",
     "output_type": "stream",
     "text": [
      "Epoch 26:  89%|████████▊ | 226/255 [01:17<00:09,  2.91it/s, loss=0.768, v_num=3, train_loss=0.407, train_accuracy=0.778, val_loss=0.309, val_accuracy=0.862]\n",
      "Validating: 0it [00:00, ?it/s]\u001b[A\n",
      "Validating:   0%|          | 0/29 [00:00<?, ?it/s]\u001b[A\n",
      "Epoch 26:  89%|████████▉ | 228/255 [01:21<00:09,  2.80it/s, loss=0.768, v_num=3, train_loss=0.407, train_accuracy=0.778, val_loss=0.309, val_accuracy=0.862]\n",
      "Epoch 26:  90%|█████████ | 230/255 [01:21<00:08,  2.82it/s, loss=0.768, v_num=3, train_loss=0.407, train_accuracy=0.778, val_loss=0.309, val_accuracy=0.862]\n",
      "Epoch 26:  91%|█████████ | 232/255 [01:21<00:08,  2.84it/s, loss=0.768, v_num=3, train_loss=0.407, train_accuracy=0.778, val_loss=0.309, val_accuracy=0.862]\n",
      "Epoch 26:  92%|█████████▏| 234/255 [01:21<00:07,  2.86it/s, loss=0.768, v_num=3, train_loss=0.407, train_accuracy=0.778, val_loss=0.309, val_accuracy=0.862]\n",
      "Epoch 26:  93%|█████████▎| 236/255 [01:22<00:06,  2.88it/s, loss=0.768, v_num=3, train_loss=0.407, train_accuracy=0.778, val_loss=0.309, val_accuracy=0.862]\n",
      "Epoch 26:  93%|█████████▎| 238/255 [01:22<00:05,  2.90it/s, loss=0.768, v_num=3, train_loss=0.407, train_accuracy=0.778, val_loss=0.309, val_accuracy=0.862]\n",
      "Epoch 26:  94%|█████████▍| 240/255 [01:22<00:05,  2.92it/s, loss=0.768, v_num=3, train_loss=0.407, train_accuracy=0.778, val_loss=0.309, val_accuracy=0.862]\n",
      "Epoch 26:  95%|█████████▍| 242/255 [01:22<00:04,  2.94it/s, loss=0.768, v_num=3, train_loss=0.407, train_accuracy=0.778, val_loss=0.309, val_accuracy=0.862]\n",
      "Epoch 26:  96%|█████████▌| 244/255 [01:22<00:03,  2.95it/s, loss=0.768, v_num=3, train_loss=0.407, train_accuracy=0.778, val_loss=0.309, val_accuracy=0.862]\n",
      "Epoch 26:  96%|█████████▋| 246/255 [01:22<00:03,  2.97it/s, loss=0.768, v_num=3, train_loss=0.407, train_accuracy=0.778, val_loss=0.309, val_accuracy=0.862]\n",
      "Epoch 26:  97%|█████████▋| 248/255 [01:22<00:02,  2.99it/s, loss=0.768, v_num=3, train_loss=0.407, train_accuracy=0.778, val_loss=0.309, val_accuracy=0.862]\n",
      "Epoch 26:  98%|█████████▊| 250/255 [01:23<00:01,  3.01it/s, loss=0.768, v_num=3, train_loss=0.407, train_accuracy=0.778, val_loss=0.309, val_accuracy=0.862]\n",
      "Epoch 26:  99%|█████████▉| 252/255 [01:23<00:00,  3.03it/s, loss=0.768, v_num=3, train_loss=0.407, train_accuracy=0.778, val_loss=0.309, val_accuracy=0.862]\n",
      "Epoch 26: 100%|█████████▉| 254/255 [01:23<00:00,  3.05it/s, loss=0.768, v_num=3, train_loss=0.407, train_accuracy=0.778, val_loss=0.309, val_accuracy=0.862]\n",
      "Epoch 26: 100%|██████████| 255/255 [01:24<00:00,  3.03it/s, loss=0.768, v_num=3, train_loss=0.407, train_accuracy=0.778, val_loss=0.539, val_accuracy=0.732]\n",
      "Epoch 26: 100%|██████████| 255/255 [01:24<00:00,  3.03it/s, loss=0.768, v_num=3, train_loss=0.407, train_accuracy=0.778, val_loss=0.539, val_accuracy=0.732]"
     ]
    },
    {
     "name": "stderr",
     "output_type": "stream",
     "text": [
      "Epoch 26, global step 6101: val_loss was not in top 2\n"
     ]
    },
    {
     "name": "stdout",
     "output_type": "stream",
     "text": [
      "Epoch 27:  89%|████████▊ | 226/255 [01:17<00:09,  2.90it/s, loss=0.262, v_num=3, train_loss=0.389, train_accuracy=0.778, val_loss=0.539, val_accuracy=0.732] \n",
      "Validating: 0it [00:00, ?it/s]\u001b[A\n",
      "Validating:   0%|          | 0/29 [00:00<?, ?it/s]\u001b[A\n",
      "Epoch 27:  89%|████████▉ | 228/255 [01:21<00:09,  2.80it/s, loss=0.262, v_num=3, train_loss=0.389, train_accuracy=0.778, val_loss=0.539, val_accuracy=0.732]\n",
      "Epoch 27:  90%|█████████ | 230/255 [01:21<00:08,  2.82it/s, loss=0.262, v_num=3, train_loss=0.389, train_accuracy=0.778, val_loss=0.539, val_accuracy=0.732]\n",
      "Epoch 27:  91%|█████████ | 232/255 [01:21<00:08,  2.84it/s, loss=0.262, v_num=3, train_loss=0.389, train_accuracy=0.778, val_loss=0.539, val_accuracy=0.732]\n",
      "Epoch 27:  92%|█████████▏| 234/255 [01:21<00:07,  2.86it/s, loss=0.262, v_num=3, train_loss=0.389, train_accuracy=0.778, val_loss=0.539, val_accuracy=0.732]\n",
      "Epoch 27:  93%|█████████▎| 236/255 [01:22<00:06,  2.87it/s, loss=0.262, v_num=3, train_loss=0.389, train_accuracy=0.778, val_loss=0.539, val_accuracy=0.732]\n",
      "Epoch 27:  93%|█████████▎| 238/255 [01:22<00:05,  2.89it/s, loss=0.262, v_num=3, train_loss=0.389, train_accuracy=0.778, val_loss=0.539, val_accuracy=0.732]\n",
      "Epoch 27:  94%|█████████▍| 240/255 [01:22<00:05,  2.91it/s, loss=0.262, v_num=3, train_loss=0.389, train_accuracy=0.778, val_loss=0.539, val_accuracy=0.732]\n",
      "Epoch 27:  95%|█████████▍| 242/255 [01:22<00:04,  2.93it/s, loss=0.262, v_num=3, train_loss=0.389, train_accuracy=0.778, val_loss=0.539, val_accuracy=0.732]\n",
      "Epoch 27:  96%|█████████▌| 244/255 [01:22<00:03,  2.95it/s, loss=0.262, v_num=3, train_loss=0.389, train_accuracy=0.778, val_loss=0.539, val_accuracy=0.732]\n",
      "Epoch 27:  96%|█████████▋| 246/255 [01:22<00:03,  2.97it/s, loss=0.262, v_num=3, train_loss=0.389, train_accuracy=0.778, val_loss=0.539, val_accuracy=0.732]\n",
      "Epoch 27:  97%|█████████▋| 248/255 [01:22<00:02,  2.99it/s, loss=0.262, v_num=3, train_loss=0.389, train_accuracy=0.778, val_loss=0.539, val_accuracy=0.732]\n",
      "Epoch 27:  98%|█████████▊| 250/255 [01:23<00:01,  3.01it/s, loss=0.262, v_num=3, train_loss=0.389, train_accuracy=0.778, val_loss=0.539, val_accuracy=0.732]\n",
      "Epoch 27:  99%|█████████▉| 252/255 [01:23<00:00,  3.03it/s, loss=0.262, v_num=3, train_loss=0.389, train_accuracy=0.778, val_loss=0.539, val_accuracy=0.732]\n",
      "Epoch 27: 100%|█████████▉| 254/255 [01:23<00:00,  3.04it/s, loss=0.262, v_num=3, train_loss=0.389, train_accuracy=0.778, val_loss=0.539, val_accuracy=0.732]\n",
      "Epoch 27: 100%|██████████| 255/255 [01:24<00:00,  3.03it/s, loss=0.262, v_num=3, train_loss=0.389, train_accuracy=0.778, val_loss=0.273, val_accuracy=0.894]\n",
      "Epoch 27: 100%|██████████| 255/255 [01:24<00:00,  3.03it/s, loss=0.262, v_num=3, train_loss=0.389, train_accuracy=0.778, val_loss=0.273, val_accuracy=0.894]"
     ]
    },
    {
     "name": "stderr",
     "output_type": "stream",
     "text": [
      "Epoch 27, global step 6327: val_loss reached 0.27257 (best 0.27257), saving model to \"/Workspace/code/checkpoints/best-checkpoint-corr-mi-18-v7.ckpt\" as top 2\n"
     ]
    },
    {
     "name": "stdout",
     "output_type": "stream",
     "text": [
      "Epoch 28:  89%|████████▊ | 226/255 [01:17<00:10,  2.90it/s, loss=0.219, v_num=3, train_loss=0.428, train_accuracy=0.722, val_loss=0.273, val_accuracy=0.894]\n",
      "Validating: 0it [00:00, ?it/s]\u001b[A\n",
      "Validating:   0%|          | 0/29 [00:00<?, ?it/s]\u001b[A\n",
      "Epoch 28:  89%|████████▉ | 228/255 [01:21<00:09,  2.79it/s, loss=0.219, v_num=3, train_loss=0.428, train_accuracy=0.722, val_loss=0.273, val_accuracy=0.894]\n",
      "Epoch 28:  90%|█████████ | 230/255 [01:21<00:08,  2.81it/s, loss=0.219, v_num=3, train_loss=0.428, train_accuracy=0.722, val_loss=0.273, val_accuracy=0.894]\n",
      "Epoch 28:  91%|█████████ | 232/255 [01:21<00:08,  2.83it/s, loss=0.219, v_num=3, train_loss=0.428, train_accuracy=0.722, val_loss=0.273, val_accuracy=0.894]\n",
      "Epoch 28:  92%|█████████▏| 234/255 [01:22<00:07,  2.85it/s, loss=0.219, v_num=3, train_loss=0.428, train_accuracy=0.722, val_loss=0.273, val_accuracy=0.894]\n",
      "Epoch 28:  93%|█████████▎| 236/255 [01:22<00:06,  2.87it/s, loss=0.219, v_num=3, train_loss=0.428, train_accuracy=0.722, val_loss=0.273, val_accuracy=0.894]\n",
      "Epoch 28:  93%|█████████▎| 238/255 [01:22<00:05,  2.89it/s, loss=0.219, v_num=3, train_loss=0.428, train_accuracy=0.722, val_loss=0.273, val_accuracy=0.894]\n",
      "Epoch 28:  94%|█████████▍| 240/255 [01:22<00:05,  2.91it/s, loss=0.219, v_num=3, train_loss=0.428, train_accuracy=0.722, val_loss=0.273, val_accuracy=0.894]\n",
      "Epoch 28:  95%|█████████▍| 242/255 [01:22<00:04,  2.93it/s, loss=0.219, v_num=3, train_loss=0.428, train_accuracy=0.722, val_loss=0.273, val_accuracy=0.894]\n",
      "Epoch 28:  96%|█████████▌| 244/255 [01:22<00:03,  2.95it/s, loss=0.219, v_num=3, train_loss=0.428, train_accuracy=0.722, val_loss=0.273, val_accuracy=0.894]\n",
      "Epoch 28:  96%|█████████▋| 246/255 [01:22<00:03,  2.97it/s, loss=0.219, v_num=3, train_loss=0.428, train_accuracy=0.722, val_loss=0.273, val_accuracy=0.894]\n",
      "Epoch 28:  97%|█████████▋| 248/255 [01:23<00:02,  2.98it/s, loss=0.219, v_num=3, train_loss=0.428, train_accuracy=0.722, val_loss=0.273, val_accuracy=0.894]\n",
      "Epoch 28:  98%|█████████▊| 250/255 [01:23<00:01,  3.00it/s, loss=0.219, v_num=3, train_loss=0.428, train_accuracy=0.722, val_loss=0.273, val_accuracy=0.894]\n",
      "Epoch 28:  99%|█████████▉| 252/255 [01:23<00:00,  3.02it/s, loss=0.219, v_num=3, train_loss=0.428, train_accuracy=0.722, val_loss=0.273, val_accuracy=0.894]\n",
      "Epoch 28: 100%|█████████▉| 254/255 [01:23<00:00,  3.04it/s, loss=0.219, v_num=3, train_loss=0.428, train_accuracy=0.722, val_loss=0.273, val_accuracy=0.894]\n",
      "Epoch 28: 100%|██████████| 255/255 [01:24<00:00,  3.03it/s, loss=0.219, v_num=3, train_loss=0.428, train_accuracy=0.722, val_loss=0.290, val_accuracy=0.879]\n",
      "Epoch 28: 100%|██████████| 255/255 [01:24<00:00,  3.03it/s, loss=0.219, v_num=3, train_loss=0.428, train_accuracy=0.722, val_loss=0.290, val_accuracy=0.879]"
     ]
    },
    {
     "name": "stderr",
     "output_type": "stream",
     "text": [
      "Epoch 28, global step 6553: val_loss was not in top 2\n"
     ]
    },
    {
     "name": "stdout",
     "output_type": "stream",
     "text": [
      "Epoch 29:  89%|████████▊ | 226/255 [01:17<00:09,  2.91it/s, loss=0.23, v_num=3, train_loss=0.0999, train_accuracy=0.944, val_loss=0.290, val_accuracy=0.879] \n",
      "Validating: 0it [00:00, ?it/s]\u001b[A\n",
      "Validating:   0%|          | 0/29 [00:00<?, ?it/s]\u001b[A\n",
      "Epoch 29:  89%|████████▉ | 228/255 [01:21<00:09,  2.80it/s, loss=0.23, v_num=3, train_loss=0.0999, train_accuracy=0.944, val_loss=0.290, val_accuracy=0.879]\n",
      "Epoch 29:  90%|█████████ | 230/255 [01:21<00:08,  2.82it/s, loss=0.23, v_num=3, train_loss=0.0999, train_accuracy=0.944, val_loss=0.290, val_accuracy=0.879]\n",
      "Epoch 29:  91%|█████████ | 232/255 [01:21<00:08,  2.84it/s, loss=0.23, v_num=3, train_loss=0.0999, train_accuracy=0.944, val_loss=0.290, val_accuracy=0.879]\n",
      "Epoch 29:  92%|█████████▏| 234/255 [01:21<00:07,  2.86it/s, loss=0.23, v_num=3, train_loss=0.0999, train_accuracy=0.944, val_loss=0.290, val_accuracy=0.879]\n",
      "Epoch 29:  93%|█████████▎| 236/255 [01:22<00:06,  2.88it/s, loss=0.23, v_num=3, train_loss=0.0999, train_accuracy=0.944, val_loss=0.290, val_accuracy=0.879]\n",
      "Epoch 29:  93%|█████████▎| 238/255 [01:22<00:05,  2.90it/s, loss=0.23, v_num=3, train_loss=0.0999, train_accuracy=0.944, val_loss=0.290, val_accuracy=0.879]\n",
      "Epoch 29:  94%|█████████▍| 240/255 [01:22<00:05,  2.92it/s, loss=0.23, v_num=3, train_loss=0.0999, train_accuracy=0.944, val_loss=0.290, val_accuracy=0.879]\n",
      "Epoch 29:  95%|█████████▍| 242/255 [01:22<00:04,  2.93it/s, loss=0.23, v_num=3, train_loss=0.0999, train_accuracy=0.944, val_loss=0.290, val_accuracy=0.879]\n",
      "Epoch 29:  96%|█████████▌| 244/255 [01:22<00:03,  2.95it/s, loss=0.23, v_num=3, train_loss=0.0999, train_accuracy=0.944, val_loss=0.290, val_accuracy=0.879]\n",
      "Epoch 29:  96%|█████████▋| 246/255 [01:22<00:03,  2.97it/s, loss=0.23, v_num=3, train_loss=0.0999, train_accuracy=0.944, val_loss=0.290, val_accuracy=0.879]\n",
      "Epoch 29:  97%|█████████▋| 248/255 [01:22<00:02,  2.99it/s, loss=0.23, v_num=3, train_loss=0.0999, train_accuracy=0.944, val_loss=0.290, val_accuracy=0.879]\n",
      "Epoch 29:  98%|█████████▊| 250/255 [01:23<00:01,  3.01it/s, loss=0.23, v_num=3, train_loss=0.0999, train_accuracy=0.944, val_loss=0.290, val_accuracy=0.879]\n",
      "Epoch 29:  99%|█████████▉| 252/255 [01:23<00:00,  3.03it/s, loss=0.23, v_num=3, train_loss=0.0999, train_accuracy=0.944, val_loss=0.290, val_accuracy=0.879]\n",
      "Epoch 29: 100%|█████████▉| 254/255 [01:23<00:00,  3.05it/s, loss=0.23, v_num=3, train_loss=0.0999, train_accuracy=0.944, val_loss=0.290, val_accuracy=0.879]\n",
      "Epoch 29: 100%|██████████| 255/255 [01:24<00:00,  3.03it/s, loss=0.23, v_num=3, train_loss=0.0999, train_accuracy=0.944, val_loss=0.264, val_accuracy=0.889]\n",
      "Epoch 29: 100%|██████████| 255/255 [01:24<00:00,  3.03it/s, loss=0.23, v_num=3, train_loss=0.0999, train_accuracy=0.944, val_loss=0.264, val_accuracy=0.889]"
     ]
    },
    {
     "name": "stderr",
     "output_type": "stream",
     "text": [
      "Epoch 29, global step 6779: val_loss reached 0.26353 (best 0.26353), saving model to \"/Workspace/code/checkpoints/best-checkpoint-corr-mi-18-v6.ckpt\" as top 2\n"
     ]
    },
    {
     "name": "stdout",
     "output_type": "stream",
     "text": [
      "Epoch 30:  89%|████████▊ | 226/255 [01:17<00:09,  2.90it/s, loss=0.208, v_num=3, train_loss=0.143, train_accuracy=0.944, val_loss=0.264, val_accuracy=0.889] \n",
      "Validating: 0it [00:00, ?it/s]\u001b[A\n",
      "Validating:   0%|          | 0/29 [00:00<?, ?it/s]\u001b[A\n",
      "Epoch 30:  89%|████████▉ | 228/255 [01:21<00:09,  2.80it/s, loss=0.208, v_num=3, train_loss=0.143, train_accuracy=0.944, val_loss=0.264, val_accuracy=0.889]\n",
      "Epoch 30:  90%|█████████ | 230/255 [01:21<00:08,  2.82it/s, loss=0.208, v_num=3, train_loss=0.143, train_accuracy=0.944, val_loss=0.264, val_accuracy=0.889]\n",
      "Epoch 30:  91%|█████████ | 232/255 [01:21<00:08,  2.84it/s, loss=0.208, v_num=3, train_loss=0.143, train_accuracy=0.944, val_loss=0.264, val_accuracy=0.889]\n",
      "Epoch 30:  92%|█████████▏| 234/255 [01:21<00:07,  2.86it/s, loss=0.208, v_num=3, train_loss=0.143, train_accuracy=0.944, val_loss=0.264, val_accuracy=0.889]\n",
      "Epoch 30:  93%|█████████▎| 236/255 [01:22<00:06,  2.88it/s, loss=0.208, v_num=3, train_loss=0.143, train_accuracy=0.944, val_loss=0.264, val_accuracy=0.889]\n",
      "Epoch 30:  93%|█████████▎| 238/255 [01:22<00:05,  2.89it/s, loss=0.208, v_num=3, train_loss=0.143, train_accuracy=0.944, val_loss=0.264, val_accuracy=0.889]\n",
      "Epoch 30:  94%|█████████▍| 240/255 [01:22<00:05,  2.91it/s, loss=0.208, v_num=3, train_loss=0.143, train_accuracy=0.944, val_loss=0.264, val_accuracy=0.889]\n",
      "Epoch 30:  95%|█████████▍| 242/255 [01:22<00:04,  2.93it/s, loss=0.208, v_num=3, train_loss=0.143, train_accuracy=0.944, val_loss=0.264, val_accuracy=0.889]\n",
      "Epoch 30:  96%|█████████▌| 244/255 [01:22<00:03,  2.95it/s, loss=0.208, v_num=3, train_loss=0.143, train_accuracy=0.944, val_loss=0.264, val_accuracy=0.889]\n",
      "Epoch 30:  96%|█████████▋| 246/255 [01:22<00:03,  2.97it/s, loss=0.208, v_num=3, train_loss=0.143, train_accuracy=0.944, val_loss=0.264, val_accuracy=0.889]\n",
      "Epoch 30:  97%|█████████▋| 248/255 [01:22<00:02,  2.99it/s, loss=0.208, v_num=3, train_loss=0.143, train_accuracy=0.944, val_loss=0.264, val_accuracy=0.889]\n",
      "Epoch 30:  98%|█████████▊| 250/255 [01:23<00:01,  3.01it/s, loss=0.208, v_num=3, train_loss=0.143, train_accuracy=0.944, val_loss=0.264, val_accuracy=0.889]\n",
      "Epoch 30:  99%|█████████▉| 252/255 [01:23<00:00,  3.03it/s, loss=0.208, v_num=3, train_loss=0.143, train_accuracy=0.944, val_loss=0.264, val_accuracy=0.889]\n",
      "Epoch 30: 100%|█████████▉| 254/255 [01:23<00:00,  3.05it/s, loss=0.208, v_num=3, train_loss=0.143, train_accuracy=0.944, val_loss=0.264, val_accuracy=0.889]\n",
      "Epoch 30: 100%|██████████| 255/255 [01:24<00:00,  3.03it/s, loss=0.208, v_num=3, train_loss=0.143, train_accuracy=0.944, val_loss=0.249, val_accuracy=0.896]\n",
      "Epoch 30: 100%|██████████| 255/255 [01:24<00:00,  3.03it/s, loss=0.208, v_num=3, train_loss=0.143, train_accuracy=0.944, val_loss=0.249, val_accuracy=0.896]"
     ]
    },
    {
     "name": "stderr",
     "output_type": "stream",
     "text": [
      "Epoch 30, global step 7005: val_loss reached 0.24873 (best 0.24873), saving model to \"/Workspace/code/checkpoints/best-checkpoint-corr-mi-18-v7.ckpt\" as top 2\n"
     ]
    },
    {
     "name": "stdout",
     "output_type": "stream",
     "text": [
      "Epoch 31:  89%|████████▊ | 226/255 [01:17<00:09,  2.90it/s, loss=0.189, v_num=3, train_loss=0.130, train_accuracy=0.944, val_loss=0.249, val_accuracy=0.896] \n",
      "Validating: 0it [00:00, ?it/s]\u001b[A\n",
      "Validating:   0%|          | 0/29 [00:00<?, ?it/s]\u001b[A\n",
      "Epoch 31:  89%|████████▉ | 228/255 [01:21<00:09,  2.80it/s, loss=0.189, v_num=3, train_loss=0.130, train_accuracy=0.944, val_loss=0.249, val_accuracy=0.896]\n",
      "Epoch 31:  90%|█████████ | 230/255 [01:21<00:08,  2.82it/s, loss=0.189, v_num=3, train_loss=0.130, train_accuracy=0.944, val_loss=0.249, val_accuracy=0.896]\n",
      "Epoch 31:  91%|█████████ | 232/255 [01:21<00:08,  2.84it/s, loss=0.189, v_num=3, train_loss=0.130, train_accuracy=0.944, val_loss=0.249, val_accuracy=0.896]\n",
      "Epoch 31:  92%|█████████▏| 234/255 [01:21<00:07,  2.86it/s, loss=0.189, v_num=3, train_loss=0.130, train_accuracy=0.944, val_loss=0.249, val_accuracy=0.896]\n",
      "Epoch 31:  93%|█████████▎| 236/255 [01:22<00:06,  2.88it/s, loss=0.189, v_num=3, train_loss=0.130, train_accuracy=0.944, val_loss=0.249, val_accuracy=0.896]\n",
      "Epoch 31:  93%|█████████▎| 238/255 [01:22<00:05,  2.89it/s, loss=0.189, v_num=3, train_loss=0.130, train_accuracy=0.944, val_loss=0.249, val_accuracy=0.896]\n",
      "Epoch 31:  94%|█████████▍| 240/255 [01:22<00:05,  2.91it/s, loss=0.189, v_num=3, train_loss=0.130, train_accuracy=0.944, val_loss=0.249, val_accuracy=0.896]\n",
      "Epoch 31:  95%|█████████▍| 242/255 [01:22<00:04,  2.93it/s, loss=0.189, v_num=3, train_loss=0.130, train_accuracy=0.944, val_loss=0.249, val_accuracy=0.896]\n",
      "Epoch 31:  96%|█████████▌| 244/255 [01:22<00:03,  2.95it/s, loss=0.189, v_num=3, train_loss=0.130, train_accuracy=0.944, val_loss=0.249, val_accuracy=0.896]\n",
      "Epoch 31:  96%|█████████▋| 246/255 [01:22<00:03,  2.97it/s, loss=0.189, v_num=3, train_loss=0.130, train_accuracy=0.944, val_loss=0.249, val_accuracy=0.896]\n",
      "Epoch 31:  97%|█████████▋| 248/255 [01:22<00:02,  2.99it/s, loss=0.189, v_num=3, train_loss=0.130, train_accuracy=0.944, val_loss=0.249, val_accuracy=0.896]\n",
      "Epoch 31:  98%|█████████▊| 250/255 [01:23<00:01,  3.01it/s, loss=0.189, v_num=3, train_loss=0.130, train_accuracy=0.944, val_loss=0.249, val_accuracy=0.896]\n",
      "Epoch 31:  99%|█████████▉| 252/255 [01:23<00:00,  3.03it/s, loss=0.189, v_num=3, train_loss=0.130, train_accuracy=0.944, val_loss=0.249, val_accuracy=0.896]\n",
      "Epoch 31: 100%|█████████▉| 254/255 [01:23<00:00,  3.05it/s, loss=0.189, v_num=3, train_loss=0.130, train_accuracy=0.944, val_loss=0.249, val_accuracy=0.896]\n",
      "Epoch 31: 100%|██████████| 255/255 [01:24<00:00,  3.03it/s, loss=0.189, v_num=3, train_loss=0.130, train_accuracy=0.944, val_loss=0.257, val_accuracy=0.887]\n",
      "Epoch 31: 100%|██████████| 255/255 [01:24<00:00,  3.03it/s, loss=0.189, v_num=3, train_loss=0.130, train_accuracy=0.944, val_loss=0.257, val_accuracy=0.887]"
     ]
    },
    {
     "name": "stderr",
     "output_type": "stream",
     "text": [
      "Epoch 31, global step 7231: val_loss reached 0.25708 (best 0.24873), saving model to \"/Workspace/code/checkpoints/best-checkpoint-corr-mi-18-v6.ckpt\" as top 2\n"
     ]
    },
    {
     "name": "stdout",
     "output_type": "stream",
     "text": [
      "Epoch 32:  89%|████████▊ | 226/255 [01:17<00:09,  2.90it/s, loss=0.192, v_num=3, train_loss=0.142, train_accuracy=0.944, val_loss=0.257, val_accuracy=0.887] \n",
      "Validating: 0it [00:00, ?it/s]\u001b[A\n",
      "Validating:   0%|          | 0/29 [00:00<?, ?it/s]\u001b[A\n",
      "Epoch 32:  89%|████████▉ | 228/255 [01:21<00:09,  2.80it/s, loss=0.192, v_num=3, train_loss=0.142, train_accuracy=0.944, val_loss=0.257, val_accuracy=0.887]\n",
      "Epoch 32:  90%|█████████ | 230/255 [01:21<00:08,  2.82it/s, loss=0.192, v_num=3, train_loss=0.142, train_accuracy=0.944, val_loss=0.257, val_accuracy=0.887]\n",
      "Epoch 32:  91%|█████████ | 232/255 [01:21<00:08,  2.84it/s, loss=0.192, v_num=3, train_loss=0.142, train_accuracy=0.944, val_loss=0.257, val_accuracy=0.887]\n",
      "Epoch 32:  92%|█████████▏| 234/255 [01:21<00:07,  2.85it/s, loss=0.192, v_num=3, train_loss=0.142, train_accuracy=0.944, val_loss=0.257, val_accuracy=0.887]\n",
      "Epoch 32:  93%|█████████▎| 236/255 [01:22<00:06,  2.87it/s, loss=0.192, v_num=3, train_loss=0.142, train_accuracy=0.944, val_loss=0.257, val_accuracy=0.887]\n",
      "Epoch 32:  93%|█████████▎| 238/255 [01:22<00:05,  2.89it/s, loss=0.192, v_num=3, train_loss=0.142, train_accuracy=0.944, val_loss=0.257, val_accuracy=0.887]\n",
      "Epoch 32:  94%|█████████▍| 240/255 [01:22<00:05,  2.91it/s, loss=0.192, v_num=3, train_loss=0.142, train_accuracy=0.944, val_loss=0.257, val_accuracy=0.887]\n",
      "Epoch 32:  95%|█████████▍| 242/255 [01:22<00:04,  2.93it/s, loss=0.192, v_num=3, train_loss=0.142, train_accuracy=0.944, val_loss=0.257, val_accuracy=0.887]\n",
      "Epoch 32:  96%|█████████▌| 244/255 [01:22<00:03,  2.95it/s, loss=0.192, v_num=3, train_loss=0.142, train_accuracy=0.944, val_loss=0.257, val_accuracy=0.887]\n",
      "Epoch 32:  96%|█████████▋| 246/255 [01:22<00:03,  2.97it/s, loss=0.192, v_num=3, train_loss=0.142, train_accuracy=0.944, val_loss=0.257, val_accuracy=0.887]\n",
      "Epoch 32:  97%|█████████▋| 248/255 [01:23<00:02,  2.99it/s, loss=0.192, v_num=3, train_loss=0.142, train_accuracy=0.944, val_loss=0.257, val_accuracy=0.887]\n",
      "Epoch 32:  98%|█████████▊| 250/255 [01:23<00:01,  3.01it/s, loss=0.192, v_num=3, train_loss=0.142, train_accuracy=0.944, val_loss=0.257, val_accuracy=0.887]\n",
      "Epoch 32:  99%|█████████▉| 252/255 [01:23<00:00,  3.02it/s, loss=0.192, v_num=3, train_loss=0.142, train_accuracy=0.944, val_loss=0.257, val_accuracy=0.887]\n",
      "Epoch 32: 100%|█████████▉| 254/255 [01:23<00:00,  3.04it/s, loss=0.192, v_num=3, train_loss=0.142, train_accuracy=0.944, val_loss=0.257, val_accuracy=0.887]\n",
      "Epoch 32: 100%|██████████| 255/255 [01:24<00:00,  3.03it/s, loss=0.192, v_num=3, train_loss=0.142, train_accuracy=0.944, val_loss=0.232, val_accuracy=0.906]\n",
      "Epoch 32: 100%|██████████| 255/255 [01:24<00:00,  3.03it/s, loss=0.192, v_num=3, train_loss=0.142, train_accuracy=0.944, val_loss=0.232, val_accuracy=0.906]"
     ]
    },
    {
     "name": "stderr",
     "output_type": "stream",
     "text": [
      "Epoch 32, global step 7457: val_loss reached 0.23154 (best 0.23154), saving model to \"/Workspace/code/checkpoints/best-checkpoint-corr-mi-18-v6.ckpt\" as top 2\n"
     ]
    },
    {
     "name": "stdout",
     "output_type": "stream",
     "text": [
      "Epoch 33:  89%|████████▊ | 226/255 [01:17<00:10,  2.90it/s, loss=0.2, v_num=3, train_loss=0.413, train_accuracy=0.944, val_loss=0.232, val_accuracy=0.906]   \n",
      "Validating: 0it [00:00, ?it/s]\u001b[A\n",
      "Validating:   0%|          | 0/29 [00:00<?, ?it/s]\u001b[A\n",
      "Epoch 33:  89%|████████▉ | 228/255 [01:21<00:09,  2.79it/s, loss=0.2, v_num=3, train_loss=0.413, train_accuracy=0.944, val_loss=0.232, val_accuracy=0.906]\n",
      "Epoch 33:  90%|█████████ | 230/255 [01:21<00:08,  2.81it/s, loss=0.2, v_num=3, train_loss=0.413, train_accuracy=0.944, val_loss=0.232, val_accuracy=0.906]\n",
      "Epoch 33:  91%|█████████ | 232/255 [01:21<00:08,  2.83it/s, loss=0.2, v_num=3, train_loss=0.413, train_accuracy=0.944, val_loss=0.232, val_accuracy=0.906]\n",
      "Epoch 33:  92%|█████████▏| 234/255 [01:22<00:07,  2.85it/s, loss=0.2, v_num=3, train_loss=0.413, train_accuracy=0.944, val_loss=0.232, val_accuracy=0.906]\n",
      "Epoch 33:  93%|█████████▎| 236/255 [01:22<00:06,  2.87it/s, loss=0.2, v_num=3, train_loss=0.413, train_accuracy=0.944, val_loss=0.232, val_accuracy=0.906]\n",
      "Epoch 33:  93%|█████████▎| 238/255 [01:22<00:05,  2.89it/s, loss=0.2, v_num=3, train_loss=0.413, train_accuracy=0.944, val_loss=0.232, val_accuracy=0.906]\n",
      "Epoch 33:  94%|█████████▍| 240/255 [01:22<00:05,  2.91it/s, loss=0.2, v_num=3, train_loss=0.413, train_accuracy=0.944, val_loss=0.232, val_accuracy=0.906]\n",
      "Epoch 33:  95%|█████████▍| 242/255 [01:22<00:04,  2.93it/s, loss=0.2, v_num=3, train_loss=0.413, train_accuracy=0.944, val_loss=0.232, val_accuracy=0.906]\n",
      "Epoch 33:  96%|█████████▌| 244/255 [01:22<00:03,  2.95it/s, loss=0.2, v_num=3, train_loss=0.413, train_accuracy=0.944, val_loss=0.232, val_accuracy=0.906]\n",
      "Epoch 33:  96%|█████████▋| 246/255 [01:22<00:03,  2.97it/s, loss=0.2, v_num=3, train_loss=0.413, train_accuracy=0.944, val_loss=0.232, val_accuracy=0.906]\n",
      "Epoch 33:  97%|█████████▋| 248/255 [01:23<00:02,  2.99it/s, loss=0.2, v_num=3, train_loss=0.413, train_accuracy=0.944, val_loss=0.232, val_accuracy=0.906]\n",
      "Epoch 33:  98%|█████████▊| 250/255 [01:23<00:01,  3.00it/s, loss=0.2, v_num=3, train_loss=0.413, train_accuracy=0.944, val_loss=0.232, val_accuracy=0.906]\n",
      "Epoch 33:  99%|█████████▉| 252/255 [01:23<00:00,  3.02it/s, loss=0.2, v_num=3, train_loss=0.413, train_accuracy=0.944, val_loss=0.232, val_accuracy=0.906]\n",
      "Epoch 33: 100%|█████████▉| 254/255 [01:23<00:00,  3.04it/s, loss=0.2, v_num=3, train_loss=0.413, train_accuracy=0.944, val_loss=0.232, val_accuracy=0.906]\n",
      "Epoch 33: 100%|██████████| 255/255 [01:24<00:00,  3.03it/s, loss=0.2, v_num=3, train_loss=0.413, train_accuracy=0.944, val_loss=0.256, val_accuracy=0.896]\n",
      "Epoch 33: 100%|██████████| 255/255 [01:24<00:00,  3.03it/s, loss=0.2, v_num=3, train_loss=0.413, train_accuracy=0.944, val_loss=0.256, val_accuracy=0.896]"
     ]
    },
    {
     "name": "stderr",
     "output_type": "stream",
     "text": [
      "Epoch 33, global step 7683: val_loss was not in top 2\n"
     ]
    },
    {
     "name": "stdout",
     "output_type": "stream",
     "text": [
      "Epoch 34:  89%|████████▊ | 226/255 [01:17<00:09,  2.90it/s, loss=0.213, v_num=3, train_loss=0.167, train_accuracy=0.889, val_loss=0.256, val_accuracy=0.896] \n",
      "Validating: 0it [00:00, ?it/s]\u001b[A\n",
      "Validating:   0%|          | 0/29 [00:00<?, ?it/s]\u001b[A\n",
      "Epoch 34:  89%|████████▉ | 228/255 [01:21<00:09,  2.79it/s, loss=0.213, v_num=3, train_loss=0.167, train_accuracy=0.889, val_loss=0.256, val_accuracy=0.896]\n",
      "Epoch 34:  90%|█████████ | 230/255 [01:21<00:08,  2.81it/s, loss=0.213, v_num=3, train_loss=0.167, train_accuracy=0.889, val_loss=0.256, val_accuracy=0.896]\n",
      "Epoch 34:  91%|█████████ | 232/255 [01:21<00:08,  2.83it/s, loss=0.213, v_num=3, train_loss=0.167, train_accuracy=0.889, val_loss=0.256, val_accuracy=0.896]\n",
      "Epoch 34:  92%|█████████▏| 234/255 [01:22<00:07,  2.85it/s, loss=0.213, v_num=3, train_loss=0.167, train_accuracy=0.889, val_loss=0.256, val_accuracy=0.896]\n",
      "Epoch 34:  93%|█████████▎| 236/255 [01:22<00:06,  2.87it/s, loss=0.213, v_num=3, train_loss=0.167, train_accuracy=0.889, val_loss=0.256, val_accuracy=0.896]\n",
      "Epoch 34:  93%|█████████▎| 238/255 [01:22<00:05,  2.89it/s, loss=0.213, v_num=3, train_loss=0.167, train_accuracy=0.889, val_loss=0.256, val_accuracy=0.896]\n",
      "Epoch 34:  94%|█████████▍| 240/255 [01:22<00:05,  2.91it/s, loss=0.213, v_num=3, train_loss=0.167, train_accuracy=0.889, val_loss=0.256, val_accuracy=0.896]\n",
      "Epoch 34:  95%|█████████▍| 242/255 [01:22<00:04,  2.93it/s, loss=0.213, v_num=3, train_loss=0.167, train_accuracy=0.889, val_loss=0.256, val_accuracy=0.896]\n",
      "Epoch 34:  96%|█████████▌| 244/255 [01:22<00:03,  2.94it/s, loss=0.213, v_num=3, train_loss=0.167, train_accuracy=0.889, val_loss=0.256, val_accuracy=0.896]\n",
      "Epoch 34:  96%|█████████▋| 246/255 [01:23<00:03,  2.96it/s, loss=0.213, v_num=3, train_loss=0.167, train_accuracy=0.889, val_loss=0.256, val_accuracy=0.896]\n",
      "Epoch 34:  97%|█████████▋| 248/255 [01:23<00:02,  2.98it/s, loss=0.213, v_num=3, train_loss=0.167, train_accuracy=0.889, val_loss=0.256, val_accuracy=0.896]\n",
      "Epoch 34:  98%|█████████▊| 250/255 [01:23<00:01,  3.00it/s, loss=0.213, v_num=3, train_loss=0.167, train_accuracy=0.889, val_loss=0.256, val_accuracy=0.896]\n",
      "Epoch 34:  99%|█████████▉| 252/255 [01:23<00:00,  3.02it/s, loss=0.213, v_num=3, train_loss=0.167, train_accuracy=0.889, val_loss=0.256, val_accuracy=0.896]\n",
      "Epoch 34: 100%|█████████▉| 254/255 [01:23<00:00,  3.04it/s, loss=0.213, v_num=3, train_loss=0.167, train_accuracy=0.889, val_loss=0.256, val_accuracy=0.896]\n",
      "Epoch 34: 100%|██████████| 255/255 [01:24<00:00,  3.02it/s, loss=0.213, v_num=3, train_loss=0.167, train_accuracy=0.889, val_loss=0.232, val_accuracy=0.901]\n",
      "Epoch 34: 100%|██████████| 255/255 [01:24<00:00,  3.02it/s, loss=0.213, v_num=3, train_loss=0.167, train_accuracy=0.889, val_loss=0.232, val_accuracy=0.901]"
     ]
    },
    {
     "name": "stderr",
     "output_type": "stream",
     "text": [
      "Epoch 34, global step 7909: val_loss reached 0.23225 (best 0.23154), saving model to \"/Workspace/code/checkpoints/best-checkpoint-corr-mi-18-v7.ckpt\" as top 2\n"
     ]
    },
    {
     "name": "stdout",
     "output_type": "stream",
     "text": [
      "Epoch 35:  89%|████████▊ | 226/255 [01:17<00:09,  2.90it/s, loss=0.216, v_num=3, train_loss=0.365, train_accuracy=0.889, val_loss=0.232, val_accuracy=0.901] \n",
      "Validating: 0it [00:00, ?it/s]\u001b[A\n",
      "Validating:   0%|          | 0/29 [00:00<?, ?it/s]\u001b[A\n",
      "Epoch 35:  89%|████████▉ | 228/255 [01:21<00:09,  2.79it/s, loss=0.216, v_num=3, train_loss=0.365, train_accuracy=0.889, val_loss=0.232, val_accuracy=0.901]\n",
      "Epoch 35:  90%|█████████ | 230/255 [01:21<00:08,  2.81it/s, loss=0.216, v_num=3, train_loss=0.365, train_accuracy=0.889, val_loss=0.232, val_accuracy=0.901]\n",
      "Epoch 35:  91%|█████████ | 232/255 [01:21<00:08,  2.83it/s, loss=0.216, v_num=3, train_loss=0.365, train_accuracy=0.889, val_loss=0.232, val_accuracy=0.901]\n",
      "Epoch 35:  92%|█████████▏| 234/255 [01:22<00:07,  2.85it/s, loss=0.216, v_num=3, train_loss=0.365, train_accuracy=0.889, val_loss=0.232, val_accuracy=0.901]\n",
      "Epoch 35:  93%|█████████▎| 236/255 [01:22<00:06,  2.87it/s, loss=0.216, v_num=3, train_loss=0.365, train_accuracy=0.889, val_loss=0.232, val_accuracy=0.901]\n",
      "Epoch 35:  93%|█████████▎| 238/255 [01:22<00:05,  2.89it/s, loss=0.216, v_num=3, train_loss=0.365, train_accuracy=0.889, val_loss=0.232, val_accuracy=0.901]\n",
      "Epoch 35:  94%|█████████▍| 240/255 [01:22<00:05,  2.91it/s, loss=0.216, v_num=3, train_loss=0.365, train_accuracy=0.889, val_loss=0.232, val_accuracy=0.901]\n",
      "Epoch 35:  95%|█████████▍| 242/255 [01:22<00:04,  2.93it/s, loss=0.216, v_num=3, train_loss=0.365, train_accuracy=0.889, val_loss=0.232, val_accuracy=0.901]\n",
      "Epoch 35:  96%|█████████▌| 244/255 [01:22<00:03,  2.95it/s, loss=0.216, v_num=3, train_loss=0.365, train_accuracy=0.889, val_loss=0.232, val_accuracy=0.901]\n",
      "Epoch 35:  96%|█████████▋| 246/255 [01:22<00:03,  2.96it/s, loss=0.216, v_num=3, train_loss=0.365, train_accuracy=0.889, val_loss=0.232, val_accuracy=0.901]\n",
      "Epoch 35:  97%|█████████▋| 248/255 [01:23<00:02,  2.98it/s, loss=0.216, v_num=3, train_loss=0.365, train_accuracy=0.889, val_loss=0.232, val_accuracy=0.901]\n",
      "Epoch 35:  98%|█████████▊| 250/255 [01:23<00:01,  3.00it/s, loss=0.216, v_num=3, train_loss=0.365, train_accuracy=0.889, val_loss=0.232, val_accuracy=0.901]\n",
      "Epoch 35:  99%|█████████▉| 252/255 [01:23<00:00,  3.02it/s, loss=0.216, v_num=3, train_loss=0.365, train_accuracy=0.889, val_loss=0.232, val_accuracy=0.901]\n",
      "Epoch 35: 100%|█████████▉| 254/255 [01:23<00:00,  3.04it/s, loss=0.216, v_num=3, train_loss=0.365, train_accuracy=0.889, val_loss=0.232, val_accuracy=0.901]\n",
      "Epoch 35: 100%|██████████| 255/255 [01:24<00:00,  3.03it/s, loss=0.216, v_num=3, train_loss=0.365, train_accuracy=0.889, val_loss=0.253, val_accuracy=0.898]\n",
      "Epoch 35: 100%|██████████| 255/255 [01:24<00:00,  3.03it/s, loss=0.216, v_num=3, train_loss=0.365, train_accuracy=0.889, val_loss=0.253, val_accuracy=0.898]"
     ]
    },
    {
     "name": "stderr",
     "output_type": "stream",
     "text": [
      "Epoch 35, global step 8135: val_loss was not in top 2\n"
     ]
    },
    {
     "name": "stdout",
     "output_type": "stream",
     "text": [
      "Epoch 36:  89%|████████▊ | 226/255 [01:17<00:09,  2.91it/s, loss=0.197, v_num=3, train_loss=0.0626, train_accuracy=1.000, val_loss=0.253, val_accuracy=0.898]\n",
      "Validating: 0it [00:00, ?it/s]\u001b[A\n",
      "Validating:   0%|          | 0/29 [00:00<?, ?it/s]\u001b[A\n",
      "Epoch 36:  89%|████████▉ | 228/255 [01:21<00:09,  2.80it/s, loss=0.197, v_num=3, train_loss=0.0626, train_accuracy=1.000, val_loss=0.253, val_accuracy=0.898]\n",
      "Epoch 36:  90%|█████████ | 230/255 [01:21<00:08,  2.82it/s, loss=0.197, v_num=3, train_loss=0.0626, train_accuracy=1.000, val_loss=0.253, val_accuracy=0.898]\n",
      "Epoch 36:  91%|█████████ | 232/255 [01:21<00:08,  2.84it/s, loss=0.197, v_num=3, train_loss=0.0626, train_accuracy=1.000, val_loss=0.253, val_accuracy=0.898]\n",
      "Epoch 36:  92%|█████████▏| 234/255 [01:21<00:07,  2.86it/s, loss=0.197, v_num=3, train_loss=0.0626, train_accuracy=1.000, val_loss=0.253, val_accuracy=0.898]\n",
      "Epoch 36:  93%|█████████▎| 236/255 [01:22<00:06,  2.88it/s, loss=0.197, v_num=3, train_loss=0.0626, train_accuracy=1.000, val_loss=0.253, val_accuracy=0.898]\n",
      "Epoch 36:  93%|█████████▎| 238/255 [01:22<00:05,  2.89it/s, loss=0.197, v_num=3, train_loss=0.0626, train_accuracy=1.000, val_loss=0.253, val_accuracy=0.898]\n",
      "Epoch 36:  94%|█████████▍| 240/255 [01:22<00:05,  2.91it/s, loss=0.197, v_num=3, train_loss=0.0626, train_accuracy=1.000, val_loss=0.253, val_accuracy=0.898]\n",
      "Epoch 36:  95%|█████████▍| 242/255 [01:22<00:04,  2.93it/s, loss=0.197, v_num=3, train_loss=0.0626, train_accuracy=1.000, val_loss=0.253, val_accuracy=0.898]\n",
      "Epoch 36:  96%|█████████▌| 244/255 [01:22<00:03,  2.95it/s, loss=0.197, v_num=3, train_loss=0.0626, train_accuracy=1.000, val_loss=0.253, val_accuracy=0.898]\n",
      "Epoch 36:  96%|█████████▋| 246/255 [01:22<00:03,  2.97it/s, loss=0.197, v_num=3, train_loss=0.0626, train_accuracy=1.000, val_loss=0.253, val_accuracy=0.898]\n",
      "Epoch 36:  97%|█████████▋| 248/255 [01:22<00:02,  2.99it/s, loss=0.197, v_num=3, train_loss=0.0626, train_accuracy=1.000, val_loss=0.253, val_accuracy=0.898]\n",
      "Epoch 36:  98%|█████████▊| 250/255 [01:23<00:01,  3.01it/s, loss=0.197, v_num=3, train_loss=0.0626, train_accuracy=1.000, val_loss=0.253, val_accuracy=0.898]\n",
      "Epoch 36:  99%|█████████▉| 252/255 [01:23<00:00,  3.03it/s, loss=0.197, v_num=3, train_loss=0.0626, train_accuracy=1.000, val_loss=0.253, val_accuracy=0.898]\n",
      "Epoch 36: 100%|█████████▉| 254/255 [01:23<00:00,  3.05it/s, loss=0.197, v_num=3, train_loss=0.0626, train_accuracy=1.000, val_loss=0.253, val_accuracy=0.898]\n",
      "Epoch 36: 100%|██████████| 255/255 [01:24<00:00,  3.03it/s, loss=0.197, v_num=3, train_loss=0.0626, train_accuracy=1.000, val_loss=0.240, val_accuracy=0.898]\n",
      "Epoch 36: 100%|██████████| 255/255 [01:24<00:00,  3.03it/s, loss=0.197, v_num=3, train_loss=0.0626, train_accuracy=1.000, val_loss=0.240, val_accuracy=0.898]"
     ]
    },
    {
     "name": "stderr",
     "output_type": "stream",
     "text": [
      "Epoch 36, global step 8361: val_loss was not in top 2\n"
     ]
    },
    {
     "name": "stdout",
     "output_type": "stream",
     "text": [
      "Epoch 37:  89%|████████▊ | 226/255 [01:17<00:09,  2.90it/s, loss=0.213, v_num=3, train_loss=0.138, train_accuracy=0.944, val_loss=0.240, val_accuracy=0.898] \n",
      "Validating: 0it [00:00, ?it/s]\u001b[A\n",
      "Validating:   0%|          | 0/29 [00:00<?, ?it/s]\u001b[A\n",
      "Epoch 37:  89%|████████▉ | 228/255 [01:21<00:09,  2.79it/s, loss=0.213, v_num=3, train_loss=0.138, train_accuracy=0.944, val_loss=0.240, val_accuracy=0.898]\n",
      "Epoch 37:  90%|█████████ | 230/255 [01:21<00:08,  2.81it/s, loss=0.213, v_num=3, train_loss=0.138, train_accuracy=0.944, val_loss=0.240, val_accuracy=0.898]\n",
      "Epoch 37:  91%|█████████ | 232/255 [01:21<00:08,  2.83it/s, loss=0.213, v_num=3, train_loss=0.138, train_accuracy=0.944, val_loss=0.240, val_accuracy=0.898]\n",
      "Epoch 37:  92%|█████████▏| 234/255 [01:22<00:07,  2.85it/s, loss=0.213, v_num=3, train_loss=0.138, train_accuracy=0.944, val_loss=0.240, val_accuracy=0.898]\n",
      "Epoch 37:  93%|█████████▎| 236/255 [01:22<00:06,  2.87it/s, loss=0.213, v_num=3, train_loss=0.138, train_accuracy=0.944, val_loss=0.240, val_accuracy=0.898]\n",
      "Epoch 37:  93%|█████████▎| 238/255 [01:22<00:05,  2.89it/s, loss=0.213, v_num=3, train_loss=0.138, train_accuracy=0.944, val_loss=0.240, val_accuracy=0.898]\n",
      "Epoch 37:  94%|█████████▍| 240/255 [01:22<00:05,  2.91it/s, loss=0.213, v_num=3, train_loss=0.138, train_accuracy=0.944, val_loss=0.240, val_accuracy=0.898]\n",
      "Epoch 37:  95%|█████████▍| 242/255 [01:22<00:04,  2.93it/s, loss=0.213, v_num=3, train_loss=0.138, train_accuracy=0.944, val_loss=0.240, val_accuracy=0.898]\n",
      "Epoch 37:  96%|█████████▌| 244/255 [01:22<00:03,  2.95it/s, loss=0.213, v_num=3, train_loss=0.138, train_accuracy=0.944, val_loss=0.240, val_accuracy=0.898]\n",
      "Epoch 37:  96%|█████████▋| 246/255 [01:22<00:03,  2.97it/s, loss=0.213, v_num=3, train_loss=0.138, train_accuracy=0.944, val_loss=0.240, val_accuracy=0.898]\n",
      "Epoch 37:  97%|█████████▋| 248/255 [01:23<00:02,  2.98it/s, loss=0.213, v_num=3, train_loss=0.138, train_accuracy=0.944, val_loss=0.240, val_accuracy=0.898]\n",
      "Epoch 37:  98%|█████████▊| 250/255 [01:23<00:01,  3.00it/s, loss=0.213, v_num=3, train_loss=0.138, train_accuracy=0.944, val_loss=0.240, val_accuracy=0.898]\n",
      "Epoch 37:  99%|█████████▉| 252/255 [01:23<00:00,  3.02it/s, loss=0.213, v_num=3, train_loss=0.138, train_accuracy=0.944, val_loss=0.240, val_accuracy=0.898]\n",
      "Epoch 37: 100%|█████████▉| 254/255 [01:23<00:00,  3.04it/s, loss=0.213, v_num=3, train_loss=0.138, train_accuracy=0.944, val_loss=0.240, val_accuracy=0.898]\n",
      "Epoch 37: 100%|██████████| 255/255 [01:24<00:00,  3.03it/s, loss=0.213, v_num=3, train_loss=0.138, train_accuracy=0.944, val_loss=0.217, val_accuracy=0.906]\n",
      "Epoch 37: 100%|██████████| 255/255 [01:24<00:00,  3.03it/s, loss=0.213, v_num=3, train_loss=0.138, train_accuracy=0.944, val_loss=0.217, val_accuracy=0.906]"
     ]
    },
    {
     "name": "stderr",
     "output_type": "stream",
     "text": [
      "Epoch 37, global step 8587: val_loss reached 0.21685 (best 0.21685), saving model to \"/Workspace/code/checkpoints/best-checkpoint-corr-mi-18-v7.ckpt\" as top 2\n"
     ]
    },
    {
     "name": "stdout",
     "output_type": "stream",
     "text": [
      "Epoch 38:  89%|████████▊ | 226/255 [01:17<00:09,  2.90it/s, loss=0.177, v_num=3, train_loss=0.0985, train_accuracy=1.000, val_loss=0.217, val_accuracy=0.906]\n",
      "Validating: 0it [00:00, ?it/s]\u001b[A\n",
      "Validating:   0%|          | 0/29 [00:00<?, ?it/s]\u001b[A\n",
      "Epoch 38:  89%|████████▉ | 228/255 [01:21<00:09,  2.80it/s, loss=0.177, v_num=3, train_loss=0.0985, train_accuracy=1.000, val_loss=0.217, val_accuracy=0.906]\n",
      "Epoch 38:  90%|█████████ | 230/255 [01:21<00:08,  2.81it/s, loss=0.177, v_num=3, train_loss=0.0985, train_accuracy=1.000, val_loss=0.217, val_accuracy=0.906]\n",
      "Epoch 38:  91%|█████████ | 232/255 [01:21<00:08,  2.83it/s, loss=0.177, v_num=3, train_loss=0.0985, train_accuracy=1.000, val_loss=0.217, val_accuracy=0.906]\n",
      "Epoch 38:  92%|█████████▏| 234/255 [01:22<00:07,  2.85it/s, loss=0.177, v_num=3, train_loss=0.0985, train_accuracy=1.000, val_loss=0.217, val_accuracy=0.906]\n",
      "Epoch 38:  93%|█████████▎| 236/255 [01:22<00:06,  2.87it/s, loss=0.177, v_num=3, train_loss=0.0985, train_accuracy=1.000, val_loss=0.217, val_accuracy=0.906]\n",
      "Epoch 38:  93%|█████████▎| 238/255 [01:22<00:05,  2.89it/s, loss=0.177, v_num=3, train_loss=0.0985, train_accuracy=1.000, val_loss=0.217, val_accuracy=0.906]\n",
      "Epoch 38:  94%|█████████▍| 240/255 [01:22<00:05,  2.91it/s, loss=0.177, v_num=3, train_loss=0.0985, train_accuracy=1.000, val_loss=0.217, val_accuracy=0.906]\n",
      "Epoch 38:  95%|█████████▍| 242/255 [01:22<00:04,  2.93it/s, loss=0.177, v_num=3, train_loss=0.0985, train_accuracy=1.000, val_loss=0.217, val_accuracy=0.906]\n",
      "Epoch 38:  96%|█████████▌| 244/255 [01:22<00:03,  2.95it/s, loss=0.177, v_num=3, train_loss=0.0985, train_accuracy=1.000, val_loss=0.217, val_accuracy=0.906]\n",
      "Epoch 38:  96%|█████████▋| 246/255 [01:22<00:03,  2.97it/s, loss=0.177, v_num=3, train_loss=0.0985, train_accuracy=1.000, val_loss=0.217, val_accuracy=0.906]\n",
      "Epoch 38:  97%|█████████▋| 248/255 [01:23<00:02,  2.99it/s, loss=0.177, v_num=3, train_loss=0.0985, train_accuracy=1.000, val_loss=0.217, val_accuracy=0.906]\n",
      "Epoch 38:  98%|█████████▊| 250/255 [01:23<00:01,  3.00it/s, loss=0.177, v_num=3, train_loss=0.0985, train_accuracy=1.000, val_loss=0.217, val_accuracy=0.906]\n",
      "Epoch 38:  99%|█████████▉| 252/255 [01:23<00:00,  3.02it/s, loss=0.177, v_num=3, train_loss=0.0985, train_accuracy=1.000, val_loss=0.217, val_accuracy=0.906]\n",
      "Epoch 38: 100%|█████████▉| 254/255 [01:23<00:00,  3.04it/s, loss=0.177, v_num=3, train_loss=0.0985, train_accuracy=1.000, val_loss=0.217, val_accuracy=0.906]\n",
      "Epoch 38: 100%|██████████| 255/255 [01:24<00:00,  3.03it/s, loss=0.177, v_num=3, train_loss=0.0985, train_accuracy=1.000, val_loss=0.243, val_accuracy=0.904]\n",
      "Epoch 38: 100%|██████████| 255/255 [01:24<00:00,  3.03it/s, loss=0.177, v_num=3, train_loss=0.0985, train_accuracy=1.000, val_loss=0.243, val_accuracy=0.904]"
     ]
    },
    {
     "name": "stderr",
     "output_type": "stream",
     "text": [
      "Epoch 38, global step 8813: val_loss was not in top 2\n"
     ]
    },
    {
     "name": "stdout",
     "output_type": "stream",
     "text": [
      "Epoch 39:  89%|████████▊ | 226/255 [01:17<00:09,  2.90it/s, loss=0.168, v_num=3, train_loss=0.113, train_accuracy=0.944, val_loss=0.243, val_accuracy=0.904] \n",
      "Validating: 0it [00:00, ?it/s]\u001b[A\n",
      "Validating:   0%|          | 0/29 [00:00<?, ?it/s]\u001b[A\n",
      "Epoch 39:  89%|████████▉ | 228/255 [01:21<00:09,  2.80it/s, loss=0.168, v_num=3, train_loss=0.113, train_accuracy=0.944, val_loss=0.243, val_accuracy=0.904]\n",
      "Epoch 39:  90%|█████████ | 230/255 [01:21<00:08,  2.81it/s, loss=0.168, v_num=3, train_loss=0.113, train_accuracy=0.944, val_loss=0.243, val_accuracy=0.904]\n",
      "Epoch 39:  91%|█████████ | 232/255 [01:21<00:08,  2.83it/s, loss=0.168, v_num=3, train_loss=0.113, train_accuracy=0.944, val_loss=0.243, val_accuracy=0.904]\n",
      "Epoch 39:  92%|█████████▏| 234/255 [01:22<00:07,  2.85it/s, loss=0.168, v_num=3, train_loss=0.113, train_accuracy=0.944, val_loss=0.243, val_accuracy=0.904]\n",
      "Epoch 39:  93%|█████████▎| 236/255 [01:22<00:06,  2.87it/s, loss=0.168, v_num=3, train_loss=0.113, train_accuracy=0.944, val_loss=0.243, val_accuracy=0.904]\n",
      "Epoch 39:  93%|█████████▎| 238/255 [01:22<00:05,  2.89it/s, loss=0.168, v_num=3, train_loss=0.113, train_accuracy=0.944, val_loss=0.243, val_accuracy=0.904]\n",
      "Epoch 39:  94%|█████████▍| 240/255 [01:22<00:05,  2.91it/s, loss=0.168, v_num=3, train_loss=0.113, train_accuracy=0.944, val_loss=0.243, val_accuracy=0.904]\n",
      "Epoch 39:  95%|█████████▍| 242/255 [01:22<00:04,  2.93it/s, loss=0.168, v_num=3, train_loss=0.113, train_accuracy=0.944, val_loss=0.243, val_accuracy=0.904]\n",
      "Epoch 39:  96%|█████████▌| 244/255 [01:22<00:03,  2.95it/s, loss=0.168, v_num=3, train_loss=0.113, train_accuracy=0.944, val_loss=0.243, val_accuracy=0.904]\n",
      "Epoch 39:  96%|█████████▋| 246/255 [01:22<00:03,  2.97it/s, loss=0.168, v_num=3, train_loss=0.113, train_accuracy=0.944, val_loss=0.243, val_accuracy=0.904]\n",
      "Epoch 39:  97%|█████████▋| 248/255 [01:23<00:02,  2.99it/s, loss=0.168, v_num=3, train_loss=0.113, train_accuracy=0.944, val_loss=0.243, val_accuracy=0.904]\n",
      "Epoch 39:  98%|█████████▊| 250/255 [01:23<00:01,  3.00it/s, loss=0.168, v_num=3, train_loss=0.113, train_accuracy=0.944, val_loss=0.243, val_accuracy=0.904]\n",
      "Epoch 39:  99%|█████████▉| 252/255 [01:23<00:00,  3.02it/s, loss=0.168, v_num=3, train_loss=0.113, train_accuracy=0.944, val_loss=0.243, val_accuracy=0.904]\n",
      "Epoch 39: 100%|█████████▉| 254/255 [01:23<00:00,  3.04it/s, loss=0.168, v_num=3, train_loss=0.113, train_accuracy=0.944, val_loss=0.243, val_accuracy=0.904]\n",
      "Epoch 39: 100%|██████████| 255/255 [01:24<00:00,  3.02it/s, loss=0.168, v_num=3, train_loss=0.113, train_accuracy=0.944, val_loss=0.265, val_accuracy=0.900]\n",
      "Epoch 39: 100%|██████████| 255/255 [01:24<00:00,  3.02it/s, loss=0.168, v_num=3, train_loss=0.113, train_accuracy=0.944, val_loss=0.265, val_accuracy=0.900]"
     ]
    },
    {
     "name": "stderr",
     "output_type": "stream",
     "text": [
      "Epoch 39, global step 9039: val_loss was not in top 2\n"
     ]
    },
    {
     "name": "stdout",
     "output_type": "stream",
     "text": [
      "Epoch 40:  89%|████████▊ | 226/255 [01:17<00:09,  2.90it/s, loss=0.21, v_num=3, train_loss=0.286, train_accuracy=0.889, val_loss=0.265, val_accuracy=0.900]  \n",
      "Validating: 0it [00:00, ?it/s]\u001b[A\n",
      "Validating:   0%|          | 0/29 [00:00<?, ?it/s]\u001b[A\n",
      "Epoch 40:  89%|████████▉ | 228/255 [01:21<00:09,  2.80it/s, loss=0.21, v_num=3, train_loss=0.286, train_accuracy=0.889, val_loss=0.265, val_accuracy=0.900]\n",
      "Epoch 40:  90%|█████████ | 230/255 [01:21<00:08,  2.81it/s, loss=0.21, v_num=3, train_loss=0.286, train_accuracy=0.889, val_loss=0.265, val_accuracy=0.900]\n",
      "Epoch 40:  91%|█████████ | 232/255 [01:21<00:08,  2.83it/s, loss=0.21, v_num=3, train_loss=0.286, train_accuracy=0.889, val_loss=0.265, val_accuracy=0.900]\n",
      "Epoch 40:  92%|█████████▏| 234/255 [01:22<00:07,  2.85it/s, loss=0.21, v_num=3, train_loss=0.286, train_accuracy=0.889, val_loss=0.265, val_accuracy=0.900]\n",
      "Epoch 40:  93%|█████████▎| 236/255 [01:22<00:06,  2.87it/s, loss=0.21, v_num=3, train_loss=0.286, train_accuracy=0.889, val_loss=0.265, val_accuracy=0.900]\n",
      "Epoch 40:  93%|█████████▎| 238/255 [01:22<00:05,  2.89it/s, loss=0.21, v_num=3, train_loss=0.286, train_accuracy=0.889, val_loss=0.265, val_accuracy=0.900]\n",
      "Epoch 40:  94%|█████████▍| 240/255 [01:22<00:05,  2.91it/s, loss=0.21, v_num=3, train_loss=0.286, train_accuracy=0.889, val_loss=0.265, val_accuracy=0.900]\n",
      "Epoch 40:  95%|█████████▍| 242/255 [01:22<00:04,  2.93it/s, loss=0.21, v_num=3, train_loss=0.286, train_accuracy=0.889, val_loss=0.265, val_accuracy=0.900]\n",
      "Epoch 40:  96%|█████████▌| 244/255 [01:22<00:03,  2.95it/s, loss=0.21, v_num=3, train_loss=0.286, train_accuracy=0.889, val_loss=0.265, val_accuracy=0.900]\n",
      "Epoch 40:  96%|█████████▋| 246/255 [01:22<00:03,  2.97it/s, loss=0.21, v_num=3, train_loss=0.286, train_accuracy=0.889, val_loss=0.265, val_accuracy=0.900]\n",
      "Epoch 40:  97%|█████████▋| 248/255 [01:23<00:02,  2.99it/s, loss=0.21, v_num=3, train_loss=0.286, train_accuracy=0.889, val_loss=0.265, val_accuracy=0.900]\n",
      "Epoch 40:  98%|█████████▊| 250/255 [01:23<00:01,  3.00it/s, loss=0.21, v_num=3, train_loss=0.286, train_accuracy=0.889, val_loss=0.265, val_accuracy=0.900]\n",
      "Epoch 40:  99%|█████████▉| 252/255 [01:23<00:00,  3.02it/s, loss=0.21, v_num=3, train_loss=0.286, train_accuracy=0.889, val_loss=0.265, val_accuracy=0.900]\n",
      "Epoch 40: 100%|█████████▉| 254/255 [01:23<00:00,  3.04it/s, loss=0.21, v_num=3, train_loss=0.286, train_accuracy=0.889, val_loss=0.265, val_accuracy=0.900]\n",
      "Epoch 40: 100%|██████████| 255/255 [01:24<00:00,  3.03it/s, loss=0.21, v_num=3, train_loss=0.286, train_accuracy=0.889, val_loss=0.233, val_accuracy=0.905]\n",
      "Epoch 40: 100%|██████████| 255/255 [01:24<00:00,  3.03it/s, loss=0.21, v_num=3, train_loss=0.286, train_accuracy=0.889, val_loss=0.233, val_accuracy=0.905]"
     ]
    },
    {
     "name": "stderr",
     "output_type": "stream",
     "text": [
      "Epoch 40, global step 9265: val_loss was not in top 2\n"
     ]
    },
    {
     "name": "stdout",
     "output_type": "stream",
     "text": [
      "Epoch 41:  89%|████████▊ | 226/255 [01:17<00:09,  2.90it/s, loss=0.248, v_num=3, train_loss=0.422, train_accuracy=0.722, val_loss=0.233, val_accuracy=0.905] \n",
      "Validating: 0it [00:00, ?it/s]\u001b[A\n",
      "Validating:   0%|          | 0/29 [00:00<?, ?it/s]\u001b[A\n",
      "Epoch 41:  89%|████████▉ | 228/255 [01:21<00:09,  2.79it/s, loss=0.248, v_num=3, train_loss=0.422, train_accuracy=0.722, val_loss=0.233, val_accuracy=0.905]\n",
      "Epoch 41:  90%|█████████ | 230/255 [01:21<00:08,  2.81it/s, loss=0.248, v_num=3, train_loss=0.422, train_accuracy=0.722, val_loss=0.233, val_accuracy=0.905]\n",
      "Epoch 41:  91%|█████████ | 232/255 [01:21<00:08,  2.83it/s, loss=0.248, v_num=3, train_loss=0.422, train_accuracy=0.722, val_loss=0.233, val_accuracy=0.905]\n",
      "Epoch 41:  92%|█████████▏| 234/255 [01:22<00:07,  2.85it/s, loss=0.248, v_num=3, train_loss=0.422, train_accuracy=0.722, val_loss=0.233, val_accuracy=0.905]\n",
      "Epoch 41:  93%|█████████▎| 236/255 [01:22<00:06,  2.87it/s, loss=0.248, v_num=3, train_loss=0.422, train_accuracy=0.722, val_loss=0.233, val_accuracy=0.905]\n",
      "Epoch 41:  93%|█████████▎| 238/255 [01:22<00:05,  2.89it/s, loss=0.248, v_num=3, train_loss=0.422, train_accuracy=0.722, val_loss=0.233, val_accuracy=0.905]\n",
      "Epoch 41:  94%|█████████▍| 240/255 [01:22<00:05,  2.91it/s, loss=0.248, v_num=3, train_loss=0.422, train_accuracy=0.722, val_loss=0.233, val_accuracy=0.905]\n",
      "Epoch 41:  95%|█████████▍| 242/255 [01:22<00:04,  2.93it/s, loss=0.248, v_num=3, train_loss=0.422, train_accuracy=0.722, val_loss=0.233, val_accuracy=0.905]\n",
      "Epoch 41:  96%|█████████▌| 244/255 [01:22<00:03,  2.94it/s, loss=0.248, v_num=3, train_loss=0.422, train_accuracy=0.722, val_loss=0.233, val_accuracy=0.905]\n",
      "Epoch 41:  96%|█████████▋| 246/255 [01:23<00:03,  2.96it/s, loss=0.248, v_num=3, train_loss=0.422, train_accuracy=0.722, val_loss=0.233, val_accuracy=0.905]\n",
      "Epoch 41:  97%|█████████▋| 248/255 [01:23<00:02,  2.98it/s, loss=0.248, v_num=3, train_loss=0.422, train_accuracy=0.722, val_loss=0.233, val_accuracy=0.905]\n",
      "Epoch 41:  98%|█████████▊| 250/255 [01:23<00:01,  3.00it/s, loss=0.248, v_num=3, train_loss=0.422, train_accuracy=0.722, val_loss=0.233, val_accuracy=0.905]\n",
      "Epoch 41:  99%|█████████▉| 252/255 [01:23<00:00,  3.02it/s, loss=0.248, v_num=3, train_loss=0.422, train_accuracy=0.722, val_loss=0.233, val_accuracy=0.905]\n",
      "Epoch 41: 100%|█████████▉| 254/255 [01:23<00:00,  3.04it/s, loss=0.248, v_num=3, train_loss=0.422, train_accuracy=0.722, val_loss=0.233, val_accuracy=0.905]\n",
      "Epoch 41: 100%|██████████| 255/255 [01:24<00:00,  3.03it/s, loss=0.248, v_num=3, train_loss=0.422, train_accuracy=0.722, val_loss=0.261, val_accuracy=0.881]\n",
      "Epoch 41: 100%|██████████| 255/255 [01:24<00:00,  3.03it/s, loss=0.248, v_num=3, train_loss=0.422, train_accuracy=0.722, val_loss=0.261, val_accuracy=0.881]"
     ]
    },
    {
     "name": "stderr",
     "output_type": "stream",
     "text": [
      "Epoch 41, global step 9491: val_loss was not in top 2\n"
     ]
    },
    {
     "name": "stdout",
     "output_type": "stream",
     "text": [
      "Epoch 42:  89%|████████▊ | 226/255 [01:17<00:09,  2.90it/s, loss=0.201, v_num=3, train_loss=0.0613, train_accuracy=0.944, val_loss=0.261, val_accuracy=0.881]\n",
      "Validating: 0it [00:00, ?it/s]\u001b[A\n",
      "Validating:   0%|          | 0/29 [00:00<?, ?it/s]\u001b[A\n",
      "Epoch 42:  89%|████████▉ | 228/255 [01:21<00:09,  2.79it/s, loss=0.201, v_num=3, train_loss=0.0613, train_accuracy=0.944, val_loss=0.261, val_accuracy=0.881]\n",
      "Epoch 42:  90%|█████████ | 230/255 [01:21<00:08,  2.81it/s, loss=0.201, v_num=3, train_loss=0.0613, train_accuracy=0.944, val_loss=0.261, val_accuracy=0.881]\n",
      "Epoch 42:  91%|█████████ | 232/255 [01:21<00:08,  2.83it/s, loss=0.201, v_num=3, train_loss=0.0613, train_accuracy=0.944, val_loss=0.261, val_accuracy=0.881]\n",
      "Epoch 42:  92%|█████████▏| 234/255 [01:22<00:07,  2.85it/s, loss=0.201, v_num=3, train_loss=0.0613, train_accuracy=0.944, val_loss=0.261, val_accuracy=0.881]\n",
      "Epoch 42:  93%|█████████▎| 236/255 [01:22<00:06,  2.87it/s, loss=0.201, v_num=3, train_loss=0.0613, train_accuracy=0.944, val_loss=0.261, val_accuracy=0.881]\n",
      "Epoch 42:  93%|█████████▎| 238/255 [01:22<00:05,  2.89it/s, loss=0.201, v_num=3, train_loss=0.0613, train_accuracy=0.944, val_loss=0.261, val_accuracy=0.881]\n",
      "Epoch 42:  94%|█████████▍| 240/255 [01:22<00:05,  2.91it/s, loss=0.201, v_num=3, train_loss=0.0613, train_accuracy=0.944, val_loss=0.261, val_accuracy=0.881]\n",
      "Epoch 42:  95%|█████████▍| 242/255 [01:22<00:04,  2.93it/s, loss=0.201, v_num=3, train_loss=0.0613, train_accuracy=0.944, val_loss=0.261, val_accuracy=0.881]\n",
      "Epoch 42:  96%|█████████▌| 244/255 [01:22<00:03,  2.95it/s, loss=0.201, v_num=3, train_loss=0.0613, train_accuracy=0.944, val_loss=0.261, val_accuracy=0.881]\n",
      "Epoch 42:  96%|█████████▋| 246/255 [01:22<00:03,  2.97it/s, loss=0.201, v_num=3, train_loss=0.0613, train_accuracy=0.944, val_loss=0.261, val_accuracy=0.881]\n",
      "Epoch 42:  97%|█████████▋| 248/255 [01:23<00:02,  2.98it/s, loss=0.201, v_num=3, train_loss=0.0613, train_accuracy=0.944, val_loss=0.261, val_accuracy=0.881]\n",
      "Epoch 42:  98%|█████████▊| 250/255 [01:23<00:01,  3.00it/s, loss=0.201, v_num=3, train_loss=0.0613, train_accuracy=0.944, val_loss=0.261, val_accuracy=0.881]\n",
      "Epoch 42:  99%|█████████▉| 252/255 [01:23<00:00,  3.02it/s, loss=0.201, v_num=3, train_loss=0.0613, train_accuracy=0.944, val_loss=0.261, val_accuracy=0.881]\n",
      "Epoch 42: 100%|█████████▉| 254/255 [01:23<00:00,  3.04it/s, loss=0.201, v_num=3, train_loss=0.0613, train_accuracy=0.944, val_loss=0.261, val_accuracy=0.881]\n",
      "Epoch 42: 100%|██████████| 255/255 [01:24<00:00,  3.03it/s, loss=0.201, v_num=3, train_loss=0.0613, train_accuracy=0.944, val_loss=0.243, val_accuracy=0.908]\n",
      "Epoch 42: 100%|██████████| 255/255 [01:24<00:00,  3.03it/s, loss=0.201, v_num=3, train_loss=0.0613, train_accuracy=0.944, val_loss=0.243, val_accuracy=0.908]"
     ]
    },
    {
     "name": "stderr",
     "output_type": "stream",
     "text": [
      "Epoch 42, global step 9717: val_loss was not in top 2\n"
     ]
    },
    {
     "name": "stdout",
     "output_type": "stream",
     "text": [
      "Epoch 43:  89%|████████▊ | 226/255 [01:17<00:10,  2.90it/s, loss=0.182, v_num=3, train_loss=0.157, train_accuracy=0.944, val_loss=0.243, val_accuracy=0.908] \n",
      "Validating: 0it [00:00, ?it/s]\u001b[A\n",
      "Validating:   0%|          | 0/29 [00:00<?, ?it/s]\u001b[A\n",
      "Epoch 43:  89%|████████▉ | 228/255 [01:21<00:09,  2.79it/s, loss=0.182, v_num=3, train_loss=0.157, train_accuracy=0.944, val_loss=0.243, val_accuracy=0.908]\n",
      "Epoch 43:  90%|█████████ | 230/255 [01:21<00:08,  2.81it/s, loss=0.182, v_num=3, train_loss=0.157, train_accuracy=0.944, val_loss=0.243, val_accuracy=0.908]\n",
      "Epoch 43:  91%|█████████ | 232/255 [01:22<00:08,  2.83it/s, loss=0.182, v_num=3, train_loss=0.157, train_accuracy=0.944, val_loss=0.243, val_accuracy=0.908]\n",
      "Epoch 43:  92%|█████████▏| 234/255 [01:22<00:07,  2.85it/s, loss=0.182, v_num=3, train_loss=0.157, train_accuracy=0.944, val_loss=0.243, val_accuracy=0.908]\n",
      "Epoch 43:  93%|█████████▎| 236/255 [01:22<00:06,  2.87it/s, loss=0.182, v_num=3, train_loss=0.157, train_accuracy=0.944, val_loss=0.243, val_accuracy=0.908]\n",
      "Epoch 43:  93%|█████████▎| 238/255 [01:22<00:05,  2.88it/s, loss=0.182, v_num=3, train_loss=0.157, train_accuracy=0.944, val_loss=0.243, val_accuracy=0.908]\n",
      "Epoch 43:  94%|█████████▍| 240/255 [01:22<00:05,  2.90it/s, loss=0.182, v_num=3, train_loss=0.157, train_accuracy=0.944, val_loss=0.243, val_accuracy=0.908]\n",
      "Epoch 43:  95%|█████████▍| 242/255 [01:22<00:04,  2.92it/s, loss=0.182, v_num=3, train_loss=0.157, train_accuracy=0.944, val_loss=0.243, val_accuracy=0.908]\n",
      "Epoch 43:  96%|█████████▌| 244/255 [01:22<00:03,  2.94it/s, loss=0.182, v_num=3, train_loss=0.157, train_accuracy=0.944, val_loss=0.243, val_accuracy=0.908]\n",
      "Epoch 43:  96%|█████████▋| 246/255 [01:23<00:03,  2.96it/s, loss=0.182, v_num=3, train_loss=0.157, train_accuracy=0.944, val_loss=0.243, val_accuracy=0.908]\n",
      "Epoch 43:  97%|█████████▋| 248/255 [01:23<00:02,  2.98it/s, loss=0.182, v_num=3, train_loss=0.157, train_accuracy=0.944, val_loss=0.243, val_accuracy=0.908]\n",
      "Epoch 43:  98%|█████████▊| 250/255 [01:23<00:01,  3.00it/s, loss=0.182, v_num=3, train_loss=0.157, train_accuracy=0.944, val_loss=0.243, val_accuracy=0.908]\n",
      "Epoch 43:  99%|█████████▉| 252/255 [01:23<00:00,  3.02it/s, loss=0.182, v_num=3, train_loss=0.157, train_accuracy=0.944, val_loss=0.243, val_accuracy=0.908]\n",
      "Epoch 43: 100%|█████████▉| 254/255 [01:23<00:00,  3.04it/s, loss=0.182, v_num=3, train_loss=0.157, train_accuracy=0.944, val_loss=0.243, val_accuracy=0.908]\n",
      "Epoch 43: 100%|██████████| 255/255 [01:24<00:00,  3.02it/s, loss=0.182, v_num=3, train_loss=0.157, train_accuracy=0.944, val_loss=0.231, val_accuracy=0.903]\n",
      "Epoch 43: 100%|██████████| 255/255 [01:24<00:00,  3.02it/s, loss=0.182, v_num=3, train_loss=0.157, train_accuracy=0.944, val_loss=0.231, val_accuracy=0.903]"
     ]
    },
    {
     "name": "stderr",
     "output_type": "stream",
     "text": [
      "Epoch 43, global step 9943: val_loss reached 0.23095 (best 0.21685), saving model to \"/Workspace/code/checkpoints/best-checkpoint-corr-mi-18-v6.ckpt\" as top 2\n"
     ]
    },
    {
     "name": "stdout",
     "output_type": "stream",
     "text": [
      "Epoch 44:  89%|████████▊ | 226/255 [01:17<00:10,  2.90it/s, loss=0.169, v_num=3, train_loss=0.049, train_accuracy=1.000, val_loss=0.231, val_accuracy=0.903] \n",
      "Validating: 0it [00:00, ?it/s]\u001b[A\n",
      "Validating:   0%|          | 0/29 [00:00<?, ?it/s]\u001b[A\n",
      "Epoch 44:  89%|████████▉ | 228/255 [01:21<00:09,  2.79it/s, loss=0.169, v_num=3, train_loss=0.049, train_accuracy=1.000, val_loss=0.231, val_accuracy=0.903]\n",
      "Epoch 44:  90%|█████████ | 230/255 [01:21<00:08,  2.81it/s, loss=0.169, v_num=3, train_loss=0.049, train_accuracy=1.000, val_loss=0.231, val_accuracy=0.903]\n",
      "Epoch 44:  91%|█████████ | 232/255 [01:21<00:08,  2.83it/s, loss=0.169, v_num=3, train_loss=0.049, train_accuracy=1.000, val_loss=0.231, val_accuracy=0.903]\n",
      "Epoch 44:  92%|█████████▏| 234/255 [01:22<00:07,  2.85it/s, loss=0.169, v_num=3, train_loss=0.049, train_accuracy=1.000, val_loss=0.231, val_accuracy=0.903]\n",
      "Epoch 44:  93%|█████████▎| 236/255 [01:22<00:06,  2.87it/s, loss=0.169, v_num=3, train_loss=0.049, train_accuracy=1.000, val_loss=0.231, val_accuracy=0.903]\n",
      "Epoch 44:  93%|█████████▎| 238/255 [01:22<00:05,  2.89it/s, loss=0.169, v_num=3, train_loss=0.049, train_accuracy=1.000, val_loss=0.231, val_accuracy=0.903]\n",
      "Epoch 44:  94%|█████████▍| 240/255 [01:22<00:05,  2.91it/s, loss=0.169, v_num=3, train_loss=0.049, train_accuracy=1.000, val_loss=0.231, val_accuracy=0.903]\n",
      "Epoch 44:  95%|█████████▍| 242/255 [01:22<00:04,  2.93it/s, loss=0.169, v_num=3, train_loss=0.049, train_accuracy=1.000, val_loss=0.231, val_accuracy=0.903]\n",
      "Epoch 44:  96%|█████████▌| 244/255 [01:22<00:03,  2.95it/s, loss=0.169, v_num=3, train_loss=0.049, train_accuracy=1.000, val_loss=0.231, val_accuracy=0.903]\n",
      "Epoch 44:  96%|█████████▋| 246/255 [01:22<00:03,  2.96it/s, loss=0.169, v_num=3, train_loss=0.049, train_accuracy=1.000, val_loss=0.231, val_accuracy=0.903]\n",
      "Epoch 44:  97%|█████████▋| 248/255 [01:23<00:02,  2.98it/s, loss=0.169, v_num=3, train_loss=0.049, train_accuracy=1.000, val_loss=0.231, val_accuracy=0.903]\n",
      "Epoch 44:  98%|█████████▊| 250/255 [01:23<00:01,  3.00it/s, loss=0.169, v_num=3, train_loss=0.049, train_accuracy=1.000, val_loss=0.231, val_accuracy=0.903]\n",
      "Epoch 44:  99%|█████████▉| 252/255 [01:23<00:00,  3.02it/s, loss=0.169, v_num=3, train_loss=0.049, train_accuracy=1.000, val_loss=0.231, val_accuracy=0.903]\n",
      "Epoch 44: 100%|█████████▉| 254/255 [01:23<00:00,  3.04it/s, loss=0.169, v_num=3, train_loss=0.049, train_accuracy=1.000, val_loss=0.231, val_accuracy=0.903]\n",
      "Epoch 44: 100%|██████████| 255/255 [01:24<00:00,  3.03it/s, loss=0.169, v_num=3, train_loss=0.049, train_accuracy=1.000, val_loss=0.215, val_accuracy=0.908]\n",
      "Epoch 44: 100%|██████████| 255/255 [01:24<00:00,  3.03it/s, loss=0.169, v_num=3, train_loss=0.049, train_accuracy=1.000, val_loss=0.215, val_accuracy=0.908]"
     ]
    },
    {
     "name": "stderr",
     "output_type": "stream",
     "text": [
      "Epoch 44, global step 10169: val_loss reached 0.21531 (best 0.21531), saving model to \"/Workspace/code/checkpoints/best-checkpoint-corr-mi-18-v6.ckpt\" as top 2\n"
     ]
    },
    {
     "name": "stdout",
     "output_type": "stream",
     "text": [
      "Epoch 45:  89%|████████▊ | 226/255 [01:17<00:10,  2.90it/s, loss=0.143, v_num=3, train_loss=0.182, train_accuracy=0.944, val_loss=0.215, val_accuracy=0.908] \n",
      "Validating: 0it [00:00, ?it/s]\u001b[A\n",
      "Validating:   0%|          | 0/29 [00:00<?, ?it/s]\u001b[A\n",
      "Epoch 45:  89%|████████▉ | 228/255 [01:21<00:09,  2.79it/s, loss=0.143, v_num=3, train_loss=0.182, train_accuracy=0.944, val_loss=0.215, val_accuracy=0.908]\n",
      "Epoch 45:  90%|█████████ | 230/255 [01:21<00:08,  2.81it/s, loss=0.143, v_num=3, train_loss=0.182, train_accuracy=0.944, val_loss=0.215, val_accuracy=0.908]\n",
      "Epoch 45:  91%|█████████ | 232/255 [01:21<00:08,  2.83it/s, loss=0.143, v_num=3, train_loss=0.182, train_accuracy=0.944, val_loss=0.215, val_accuracy=0.908]\n",
      "Epoch 45:  92%|█████████▏| 234/255 [01:22<00:07,  2.85it/s, loss=0.143, v_num=3, train_loss=0.182, train_accuracy=0.944, val_loss=0.215, val_accuracy=0.908]\n",
      "Epoch 45:  93%|█████████▎| 236/255 [01:22<00:06,  2.87it/s, loss=0.143, v_num=3, train_loss=0.182, train_accuracy=0.944, val_loss=0.215, val_accuracy=0.908]\n",
      "Epoch 45:  93%|█████████▎| 238/255 [01:22<00:05,  2.89it/s, loss=0.143, v_num=3, train_loss=0.182, train_accuracy=0.944, val_loss=0.215, val_accuracy=0.908]\n",
      "Epoch 45:  94%|█████████▍| 240/255 [01:22<00:05,  2.91it/s, loss=0.143, v_num=3, train_loss=0.182, train_accuracy=0.944, val_loss=0.215, val_accuracy=0.908]\n",
      "Epoch 45:  95%|█████████▍| 242/255 [01:22<00:04,  2.93it/s, loss=0.143, v_num=3, train_loss=0.182, train_accuracy=0.944, val_loss=0.215, val_accuracy=0.908]\n",
      "Epoch 45:  96%|█████████▌| 244/255 [01:22<00:03,  2.94it/s, loss=0.143, v_num=3, train_loss=0.182, train_accuracy=0.944, val_loss=0.215, val_accuracy=0.908]\n",
      "Epoch 45:  96%|█████████▋| 246/255 [01:23<00:03,  2.96it/s, loss=0.143, v_num=3, train_loss=0.182, train_accuracy=0.944, val_loss=0.215, val_accuracy=0.908]\n",
      "Epoch 45:  97%|█████████▋| 248/255 [01:23<00:02,  2.98it/s, loss=0.143, v_num=3, train_loss=0.182, train_accuracy=0.944, val_loss=0.215, val_accuracy=0.908]\n",
      "Epoch 45:  98%|█████████▊| 250/255 [01:23<00:01,  3.00it/s, loss=0.143, v_num=3, train_loss=0.182, train_accuracy=0.944, val_loss=0.215, val_accuracy=0.908]\n",
      "Epoch 45:  99%|█████████▉| 252/255 [01:23<00:00,  3.02it/s, loss=0.143, v_num=3, train_loss=0.182, train_accuracy=0.944, val_loss=0.215, val_accuracy=0.908]\n",
      "Epoch 45: 100%|█████████▉| 254/255 [01:23<00:00,  3.04it/s, loss=0.143, v_num=3, train_loss=0.182, train_accuracy=0.944, val_loss=0.215, val_accuracy=0.908]\n",
      "Epoch 45: 100%|██████████| 255/255 [01:24<00:00,  3.02it/s, loss=0.143, v_num=3, train_loss=0.182, train_accuracy=0.944, val_loss=0.226, val_accuracy=0.916]\n",
      "Epoch 45: 100%|██████████| 255/255 [01:24<00:00,  3.02it/s, loss=0.143, v_num=3, train_loss=0.182, train_accuracy=0.944, val_loss=0.226, val_accuracy=0.916]"
     ]
    },
    {
     "name": "stderr",
     "output_type": "stream",
     "text": [
      "Epoch 45, global step 10395: val_loss was not in top 2\n"
     ]
    },
    {
     "name": "stdout",
     "output_type": "stream",
     "text": [
      "Epoch 46:  89%|████████▊ | 226/255 [01:17<00:09,  2.90it/s, loss=0.148, v_num=3, train_loss=0.112, train_accuracy=0.944, val_loss=0.226, val_accuracy=0.916] \n",
      "Validating: 0it [00:00, ?it/s]\u001b[A\n",
      "Validating:   0%|          | 0/29 [00:00<?, ?it/s]\u001b[A\n",
      "Epoch 46:  89%|████████▉ | 228/255 [01:21<00:09,  2.79it/s, loss=0.148, v_num=3, train_loss=0.112, train_accuracy=0.944, val_loss=0.226, val_accuracy=0.916]\n",
      "Epoch 46:  90%|█████████ | 230/255 [01:21<00:08,  2.81it/s, loss=0.148, v_num=3, train_loss=0.112, train_accuracy=0.944, val_loss=0.226, val_accuracy=0.916]\n",
      "Epoch 46:  91%|█████████ | 232/255 [01:21<00:08,  2.83it/s, loss=0.148, v_num=3, train_loss=0.112, train_accuracy=0.944, val_loss=0.226, val_accuracy=0.916]\n",
      "Epoch 46:  92%|█████████▏| 234/255 [01:22<00:07,  2.85it/s, loss=0.148, v_num=3, train_loss=0.112, train_accuracy=0.944, val_loss=0.226, val_accuracy=0.916]\n",
      "Epoch 46:  93%|█████████▎| 236/255 [01:22<00:06,  2.87it/s, loss=0.148, v_num=3, train_loss=0.112, train_accuracy=0.944, val_loss=0.226, val_accuracy=0.916]\n",
      "Epoch 46:  93%|█████████▎| 238/255 [01:22<00:05,  2.89it/s, loss=0.148, v_num=3, train_loss=0.112, train_accuracy=0.944, val_loss=0.226, val_accuracy=0.916]\n",
      "Epoch 46:  94%|█████████▍| 240/255 [01:22<00:05,  2.91it/s, loss=0.148, v_num=3, train_loss=0.112, train_accuracy=0.944, val_loss=0.226, val_accuracy=0.916]\n",
      "Epoch 46:  95%|█████████▍| 242/255 [01:22<00:04,  2.93it/s, loss=0.148, v_num=3, train_loss=0.112, train_accuracy=0.944, val_loss=0.226, val_accuracy=0.916]\n",
      "Epoch 46:  96%|█████████▌| 244/255 [01:22<00:03,  2.95it/s, loss=0.148, v_num=3, train_loss=0.112, train_accuracy=0.944, val_loss=0.226, val_accuracy=0.916]\n",
      "Epoch 46:  96%|█████████▋| 246/255 [01:22<00:03,  2.97it/s, loss=0.148, v_num=3, train_loss=0.112, train_accuracy=0.944, val_loss=0.226, val_accuracy=0.916]\n",
      "Epoch 46:  97%|█████████▋| 248/255 [01:23<00:02,  2.98it/s, loss=0.148, v_num=3, train_loss=0.112, train_accuracy=0.944, val_loss=0.226, val_accuracy=0.916]\n",
      "Epoch 46:  98%|█████████▊| 250/255 [01:23<00:01,  3.00it/s, loss=0.148, v_num=3, train_loss=0.112, train_accuracy=0.944, val_loss=0.226, val_accuracy=0.916]\n",
      "Epoch 46:  99%|█████████▉| 252/255 [01:23<00:00,  3.02it/s, loss=0.148, v_num=3, train_loss=0.112, train_accuracy=0.944, val_loss=0.226, val_accuracy=0.916]\n",
      "Epoch 46: 100%|█████████▉| 254/255 [01:23<00:00,  3.04it/s, loss=0.148, v_num=3, train_loss=0.112, train_accuracy=0.944, val_loss=0.226, val_accuracy=0.916]\n",
      "Epoch 46: 100%|██████████| 255/255 [01:24<00:00,  3.02it/s, loss=0.148, v_num=3, train_loss=0.112, train_accuracy=0.944, val_loss=0.214, val_accuracy=0.917]\n",
      "Epoch 46: 100%|██████████| 255/255 [01:24<00:00,  3.02it/s, loss=0.148, v_num=3, train_loss=0.112, train_accuracy=0.944, val_loss=0.214, val_accuracy=0.917]"
     ]
    },
    {
     "name": "stderr",
     "output_type": "stream",
     "text": [
      "Epoch 46, global step 10621: val_loss reached 0.21358 (best 0.21358), saving model to \"/Workspace/code/checkpoints/best-checkpoint-corr-mi-18-v7.ckpt\" as top 2\n"
     ]
    },
    {
     "name": "stdout",
     "output_type": "stream",
     "text": [
      "Epoch 47:  89%|████████▊ | 226/255 [01:17<00:10,  2.90it/s, loss=0.167, v_num=3, train_loss=0.055, train_accuracy=1.000, val_loss=0.214, val_accuracy=0.917] \n",
      "Validating: 0it [00:00, ?it/s]\u001b[A\n",
      "Validating:   0%|          | 0/29 [00:00<?, ?it/s]\u001b[A\n",
      "Epoch 47:  89%|████████▉ | 228/255 [01:21<00:09,  2.79it/s, loss=0.167, v_num=3, train_loss=0.055, train_accuracy=1.000, val_loss=0.214, val_accuracy=0.917]\n",
      "Epoch 47:  90%|█████████ | 230/255 [01:21<00:08,  2.81it/s, loss=0.167, v_num=3, train_loss=0.055, train_accuracy=1.000, val_loss=0.214, val_accuracy=0.917]\n",
      "Epoch 47:  91%|█████████ | 232/255 [01:22<00:08,  2.83it/s, loss=0.167, v_num=3, train_loss=0.055, train_accuracy=1.000, val_loss=0.214, val_accuracy=0.917]\n",
      "Epoch 47:  92%|█████████▏| 234/255 [01:22<00:07,  2.85it/s, loss=0.167, v_num=3, train_loss=0.055, train_accuracy=1.000, val_loss=0.214, val_accuracy=0.917]\n",
      "Epoch 47:  93%|█████████▎| 236/255 [01:22<00:06,  2.87it/s, loss=0.167, v_num=3, train_loss=0.055, train_accuracy=1.000, val_loss=0.214, val_accuracy=0.917]\n",
      "Epoch 47:  93%|█████████▎| 238/255 [01:22<00:05,  2.89it/s, loss=0.167, v_num=3, train_loss=0.055, train_accuracy=1.000, val_loss=0.214, val_accuracy=0.917]\n",
      "Epoch 47:  94%|█████████▍| 240/255 [01:22<00:05,  2.91it/s, loss=0.167, v_num=3, train_loss=0.055, train_accuracy=1.000, val_loss=0.214, val_accuracy=0.917]\n",
      "Epoch 47:  95%|█████████▍| 242/255 [01:22<00:04,  2.92it/s, loss=0.167, v_num=3, train_loss=0.055, train_accuracy=1.000, val_loss=0.214, val_accuracy=0.917]\n",
      "Epoch 47:  96%|█████████▌| 244/255 [01:22<00:03,  2.94it/s, loss=0.167, v_num=3, train_loss=0.055, train_accuracy=1.000, val_loss=0.214, val_accuracy=0.917]\n",
      "Epoch 47:  96%|█████████▋| 246/255 [01:23<00:03,  2.96it/s, loss=0.167, v_num=3, train_loss=0.055, train_accuracy=1.000, val_loss=0.214, val_accuracy=0.917]\n",
      "Epoch 47:  97%|█████████▋| 248/255 [01:23<00:02,  2.98it/s, loss=0.167, v_num=3, train_loss=0.055, train_accuracy=1.000, val_loss=0.214, val_accuracy=0.917]\n",
      "Epoch 47:  98%|█████████▊| 250/255 [01:23<00:01,  3.00it/s, loss=0.167, v_num=3, train_loss=0.055, train_accuracy=1.000, val_loss=0.214, val_accuracy=0.917]\n",
      "Epoch 47:  99%|█████████▉| 252/255 [01:23<00:00,  3.02it/s, loss=0.167, v_num=3, train_loss=0.055, train_accuracy=1.000, val_loss=0.214, val_accuracy=0.917]\n",
      "Epoch 47: 100%|█████████▉| 254/255 [01:23<00:00,  3.04it/s, loss=0.167, v_num=3, train_loss=0.055, train_accuracy=1.000, val_loss=0.214, val_accuracy=0.917]\n",
      "Epoch 47: 100%|██████████| 255/255 [01:24<00:00,  3.02it/s, loss=0.167, v_num=3, train_loss=0.055, train_accuracy=1.000, val_loss=0.233, val_accuracy=0.911]\n",
      "Epoch 47: 100%|██████████| 255/255 [01:24<00:00,  3.02it/s, loss=0.167, v_num=3, train_loss=0.055, train_accuracy=1.000, val_loss=0.233, val_accuracy=0.911]"
     ]
    },
    {
     "name": "stderr",
     "output_type": "stream",
     "text": [
      "Epoch 47, global step 10847: val_loss was not in top 2\n"
     ]
    },
    {
     "name": "stdout",
     "output_type": "stream",
     "text": [
      "Epoch 48:  89%|████████▊ | 226/255 [01:17<00:09,  2.90it/s, loss=0.187, v_num=3, train_loss=0.237, train_accuracy=0.889, val_loss=0.233, val_accuracy=0.911] \n",
      "Validating: 0it [00:00, ?it/s]\u001b[A\n",
      "Validating:   0%|          | 0/29 [00:00<?, ?it/s]\u001b[A\n",
      "Epoch 48:  89%|████████▉ | 228/255 [01:21<00:09,  2.79it/s, loss=0.187, v_num=3, train_loss=0.237, train_accuracy=0.889, val_loss=0.233, val_accuracy=0.911]\n",
      "Epoch 48:  90%|█████████ | 230/255 [01:21<00:08,  2.81it/s, loss=0.187, v_num=3, train_loss=0.237, train_accuracy=0.889, val_loss=0.233, val_accuracy=0.911]\n",
      "Epoch 48:  91%|█████████ | 232/255 [01:21<00:08,  2.83it/s, loss=0.187, v_num=3, train_loss=0.237, train_accuracy=0.889, val_loss=0.233, val_accuracy=0.911]\n",
      "Epoch 48:  92%|█████████▏| 234/255 [01:22<00:07,  2.85it/s, loss=0.187, v_num=3, train_loss=0.237, train_accuracy=0.889, val_loss=0.233, val_accuracy=0.911]\n",
      "Epoch 48:  93%|█████████▎| 236/255 [01:22<00:06,  2.87it/s, loss=0.187, v_num=3, train_loss=0.237, train_accuracy=0.889, val_loss=0.233, val_accuracy=0.911]\n",
      "Epoch 48:  93%|█████████▎| 238/255 [01:22<00:05,  2.89it/s, loss=0.187, v_num=3, train_loss=0.237, train_accuracy=0.889, val_loss=0.233, val_accuracy=0.911]\n",
      "Epoch 48:  94%|█████████▍| 240/255 [01:22<00:05,  2.91it/s, loss=0.187, v_num=3, train_loss=0.237, train_accuracy=0.889, val_loss=0.233, val_accuracy=0.911]\n",
      "Epoch 48:  95%|█████████▍| 242/255 [01:22<00:04,  2.93it/s, loss=0.187, v_num=3, train_loss=0.237, train_accuracy=0.889, val_loss=0.233, val_accuracy=0.911]\n",
      "Epoch 48:  96%|█████████▌| 244/255 [01:22<00:03,  2.95it/s, loss=0.187, v_num=3, train_loss=0.237, train_accuracy=0.889, val_loss=0.233, val_accuracy=0.911]\n",
      "Epoch 48:  96%|█████████▋| 246/255 [01:22<00:03,  2.97it/s, loss=0.187, v_num=3, train_loss=0.237, train_accuracy=0.889, val_loss=0.233, val_accuracy=0.911]\n",
      "Epoch 48:  97%|█████████▋| 248/255 [01:23<00:02,  2.98it/s, loss=0.187, v_num=3, train_loss=0.237, train_accuracy=0.889, val_loss=0.233, val_accuracy=0.911]\n",
      "Epoch 48:  98%|█████████▊| 250/255 [01:23<00:01,  3.00it/s, loss=0.187, v_num=3, train_loss=0.237, train_accuracy=0.889, val_loss=0.233, val_accuracy=0.911]\n",
      "Epoch 48:  99%|█████████▉| 252/255 [01:23<00:00,  3.02it/s, loss=0.187, v_num=3, train_loss=0.237, train_accuracy=0.889, val_loss=0.233, val_accuracy=0.911]\n",
      "Epoch 48: 100%|█████████▉| 254/255 [01:23<00:00,  3.04it/s, loss=0.187, v_num=3, train_loss=0.237, train_accuracy=0.889, val_loss=0.233, val_accuracy=0.911]\n",
      "Epoch 48: 100%|██████████| 255/255 [01:24<00:00,  3.03it/s, loss=0.187, v_num=3, train_loss=0.237, train_accuracy=0.889, val_loss=0.211, val_accuracy=0.912]\n",
      "Epoch 48: 100%|██████████| 255/255 [01:24<00:00,  3.03it/s, loss=0.187, v_num=3, train_loss=0.237, train_accuracy=0.889, val_loss=0.211, val_accuracy=0.912]"
     ]
    },
    {
     "name": "stderr",
     "output_type": "stream",
     "text": [
      "Epoch 48, global step 11073: val_loss reached 0.21098 (best 0.21098), saving model to \"/Workspace/code/checkpoints/best-checkpoint-corr-mi-18-v6.ckpt\" as top 2\n"
     ]
    },
    {
     "name": "stdout",
     "output_type": "stream",
     "text": [
      "Epoch 49:  89%|████████▊ | 226/255 [01:17<00:09,  2.90it/s, loss=0.158, v_num=3, train_loss=0.344, train_accuracy=0.889, val_loss=0.211, val_accuracy=0.912] \n",
      "Validating: 0it [00:00, ?it/s]\u001b[A\n",
      "Validating:   0%|          | 0/29 [00:00<?, ?it/s]\u001b[A\n",
      "Epoch 49:  89%|████████▉ | 228/255 [01:21<00:09,  2.79it/s, loss=0.158, v_num=3, train_loss=0.344, train_accuracy=0.889, val_loss=0.211, val_accuracy=0.912]\n",
      "Epoch 49:  90%|█████████ | 230/255 [01:21<00:08,  2.81it/s, loss=0.158, v_num=3, train_loss=0.344, train_accuracy=0.889, val_loss=0.211, val_accuracy=0.912]\n",
      "Epoch 49:  91%|█████████ | 232/255 [01:21<00:08,  2.83it/s, loss=0.158, v_num=3, train_loss=0.344, train_accuracy=0.889, val_loss=0.211, val_accuracy=0.912]\n",
      "Epoch 49:  92%|█████████▏| 234/255 [01:22<00:07,  2.85it/s, loss=0.158, v_num=3, train_loss=0.344, train_accuracy=0.889, val_loss=0.211, val_accuracy=0.912]\n",
      "Epoch 49:  93%|█████████▎| 236/255 [01:22<00:06,  2.87it/s, loss=0.158, v_num=3, train_loss=0.344, train_accuracy=0.889, val_loss=0.211, val_accuracy=0.912]\n",
      "Epoch 49:  93%|█████████▎| 238/255 [01:22<00:05,  2.89it/s, loss=0.158, v_num=3, train_loss=0.344, train_accuracy=0.889, val_loss=0.211, val_accuracy=0.912]\n",
      "Epoch 49:  94%|█████████▍| 240/255 [01:22<00:05,  2.91it/s, loss=0.158, v_num=3, train_loss=0.344, train_accuracy=0.889, val_loss=0.211, val_accuracy=0.912]\n",
      "Epoch 49:  95%|█████████▍| 242/255 [01:22<00:04,  2.93it/s, loss=0.158, v_num=3, train_loss=0.344, train_accuracy=0.889, val_loss=0.211, val_accuracy=0.912]\n",
      "Epoch 49:  96%|█████████▌| 244/255 [01:22<00:03,  2.95it/s, loss=0.158, v_num=3, train_loss=0.344, train_accuracy=0.889, val_loss=0.211, val_accuracy=0.912]\n",
      "Epoch 49:  96%|█████████▋| 246/255 [01:22<00:03,  2.96it/s, loss=0.158, v_num=3, train_loss=0.344, train_accuracy=0.889, val_loss=0.211, val_accuracy=0.912]\n",
      "Epoch 49:  97%|█████████▋| 248/255 [01:23<00:02,  2.98it/s, loss=0.158, v_num=3, train_loss=0.344, train_accuracy=0.889, val_loss=0.211, val_accuracy=0.912]\n",
      "Epoch 49:  98%|█████████▊| 250/255 [01:23<00:01,  3.00it/s, loss=0.158, v_num=3, train_loss=0.344, train_accuracy=0.889, val_loss=0.211, val_accuracy=0.912]\n",
      "Epoch 49:  99%|█████████▉| 252/255 [01:23<00:00,  3.02it/s, loss=0.158, v_num=3, train_loss=0.344, train_accuracy=0.889, val_loss=0.211, val_accuracy=0.912]\n",
      "Epoch 49: 100%|█████████▉| 254/255 [01:23<00:00,  3.04it/s, loss=0.158, v_num=3, train_loss=0.344, train_accuracy=0.889, val_loss=0.211, val_accuracy=0.912]\n",
      "Epoch 49: 100%|██████████| 255/255 [01:24<00:00,  3.03it/s, loss=0.158, v_num=3, train_loss=0.344, train_accuracy=0.889, val_loss=0.209, val_accuracy=0.923]\n",
      "Epoch 49: 100%|██████████| 255/255 [01:24<00:00,  3.03it/s, loss=0.158, v_num=3, train_loss=0.344, train_accuracy=0.889, val_loss=0.209, val_accuracy=0.923]"
     ]
    },
    {
     "name": "stderr",
     "output_type": "stream",
     "text": [
      "Epoch 49, global step 11299: val_loss reached 0.20939 (best 0.20939), saving model to \"/Workspace/code/checkpoints/best-checkpoint-corr-mi-18-v7.ckpt\" as top 2\n"
     ]
    },
    {
     "name": "stdout",
     "output_type": "stream",
     "text": [
      "Epoch 50:  89%|████████▊ | 226/255 [01:17<00:09,  2.90it/s, loss=0.144, v_num=3, train_loss=0.0461, train_accuracy=1.000, val_loss=0.209, val_accuracy=0.923]\n",
      "Validating: 0it [00:00, ?it/s]\u001b[A\n",
      "Validating:   0%|          | 0/29 [00:00<?, ?it/s]\u001b[A\n",
      "Epoch 50:  89%|████████▉ | 228/255 [01:21<00:09,  2.79it/s, loss=0.144, v_num=3, train_loss=0.0461, train_accuracy=1.000, val_loss=0.209, val_accuracy=0.923]\n",
      "Epoch 50:  90%|█████████ | 230/255 [01:21<00:08,  2.81it/s, loss=0.144, v_num=3, train_loss=0.0461, train_accuracy=1.000, val_loss=0.209, val_accuracy=0.923]\n",
      "Epoch 50:  91%|█████████ | 232/255 [01:21<00:08,  2.83it/s, loss=0.144, v_num=3, train_loss=0.0461, train_accuracy=1.000, val_loss=0.209, val_accuracy=0.923]\n",
      "Epoch 50:  92%|█████████▏| 234/255 [01:22<00:07,  2.85it/s, loss=0.144, v_num=3, train_loss=0.0461, train_accuracy=1.000, val_loss=0.209, val_accuracy=0.923]\n",
      "Epoch 50:  93%|█████████▎| 236/255 [01:22<00:06,  2.87it/s, loss=0.144, v_num=3, train_loss=0.0461, train_accuracy=1.000, val_loss=0.209, val_accuracy=0.923]\n",
      "Epoch 50:  93%|█████████▎| 238/255 [01:22<00:05,  2.89it/s, loss=0.144, v_num=3, train_loss=0.0461, train_accuracy=1.000, val_loss=0.209, val_accuracy=0.923]\n",
      "Epoch 50:  94%|█████████▍| 240/255 [01:22<00:05,  2.91it/s, loss=0.144, v_num=3, train_loss=0.0461, train_accuracy=1.000, val_loss=0.209, val_accuracy=0.923]\n",
      "Epoch 50:  95%|█████████▍| 242/255 [01:22<00:04,  2.93it/s, loss=0.144, v_num=3, train_loss=0.0461, train_accuracy=1.000, val_loss=0.209, val_accuracy=0.923]\n",
      "Epoch 50:  96%|█████████▌| 244/255 [01:22<00:03,  2.95it/s, loss=0.144, v_num=3, train_loss=0.0461, train_accuracy=1.000, val_loss=0.209, val_accuracy=0.923]\n",
      "Epoch 50:  96%|█████████▋| 246/255 [01:22<00:03,  2.97it/s, loss=0.144, v_num=3, train_loss=0.0461, train_accuracy=1.000, val_loss=0.209, val_accuracy=0.923]\n",
      "Epoch 50:  97%|█████████▋| 248/255 [01:23<00:02,  2.98it/s, loss=0.144, v_num=3, train_loss=0.0461, train_accuracy=1.000, val_loss=0.209, val_accuracy=0.923]\n",
      "Epoch 50:  98%|█████████▊| 250/255 [01:23<00:01,  3.00it/s, loss=0.144, v_num=3, train_loss=0.0461, train_accuracy=1.000, val_loss=0.209, val_accuracy=0.923]\n",
      "Epoch 50:  99%|█████████▉| 252/255 [01:23<00:00,  3.02it/s, loss=0.144, v_num=3, train_loss=0.0461, train_accuracy=1.000, val_loss=0.209, val_accuracy=0.923]\n",
      "Epoch 50: 100%|█████████▉| 254/255 [01:23<00:00,  3.04it/s, loss=0.144, v_num=3, train_loss=0.0461, train_accuracy=1.000, val_loss=0.209, val_accuracy=0.923]\n",
      "Epoch 50: 100%|██████████| 255/255 [01:24<00:00,  3.03it/s, loss=0.144, v_num=3, train_loss=0.0461, train_accuracy=1.000, val_loss=0.252, val_accuracy=0.908]\n",
      "Epoch 50: 100%|██████████| 255/255 [01:24<00:00,  3.03it/s, loss=0.144, v_num=3, train_loss=0.0461, train_accuracy=1.000, val_loss=0.252, val_accuracy=0.908]"
     ]
    },
    {
     "name": "stderr",
     "output_type": "stream",
     "text": [
      "Epoch 50, global step 11525: val_loss was not in top 2\n"
     ]
    },
    {
     "name": "stdout",
     "output_type": "stream",
     "text": [
      "Epoch 51:  89%|████████▊ | 226/255 [01:17<00:10,  2.90it/s, loss=0.136, v_num=3, train_loss=0.390, train_accuracy=0.778, val_loss=0.252, val_accuracy=0.908] \n",
      "Validating: 0it [00:00, ?it/s]\u001b[A\n",
      "Validating:   0%|          | 0/29 [00:00<?, ?it/s]\u001b[A\n",
      "Epoch 51:  89%|████████▉ | 228/255 [01:21<00:09,  2.79it/s, loss=0.136, v_num=3, train_loss=0.390, train_accuracy=0.778, val_loss=0.252, val_accuracy=0.908]\n",
      "Epoch 51:  90%|█████████ | 230/255 [01:21<00:08,  2.81it/s, loss=0.136, v_num=3, train_loss=0.390, train_accuracy=0.778, val_loss=0.252, val_accuracy=0.908]\n",
      "Epoch 51:  91%|█████████ | 232/255 [01:21<00:08,  2.83it/s, loss=0.136, v_num=3, train_loss=0.390, train_accuracy=0.778, val_loss=0.252, val_accuracy=0.908]\n",
      "Epoch 51:  92%|█████████▏| 234/255 [01:22<00:07,  2.85it/s, loss=0.136, v_num=3, train_loss=0.390, train_accuracy=0.778, val_loss=0.252, val_accuracy=0.908]\n",
      "Epoch 51:  93%|█████████▎| 236/255 [01:22<00:06,  2.87it/s, loss=0.136, v_num=3, train_loss=0.390, train_accuracy=0.778, val_loss=0.252, val_accuracy=0.908]\n",
      "Epoch 51:  93%|█████████▎| 238/255 [01:22<00:05,  2.89it/s, loss=0.136, v_num=3, train_loss=0.390, train_accuracy=0.778, val_loss=0.252, val_accuracy=0.908]\n",
      "Epoch 51:  94%|█████████▍| 240/255 [01:22<00:05,  2.91it/s, loss=0.136, v_num=3, train_loss=0.390, train_accuracy=0.778, val_loss=0.252, val_accuracy=0.908]\n",
      "Epoch 51:  95%|█████████▍| 242/255 [01:22<00:04,  2.93it/s, loss=0.136, v_num=3, train_loss=0.390, train_accuracy=0.778, val_loss=0.252, val_accuracy=0.908]\n",
      "Epoch 51:  96%|█████████▌| 244/255 [01:22<00:03,  2.95it/s, loss=0.136, v_num=3, train_loss=0.390, train_accuracy=0.778, val_loss=0.252, val_accuracy=0.908]\n",
      "Epoch 51:  96%|█████████▋| 246/255 [01:22<00:03,  2.97it/s, loss=0.136, v_num=3, train_loss=0.390, train_accuracy=0.778, val_loss=0.252, val_accuracy=0.908]\n",
      "Epoch 51:  97%|█████████▋| 248/255 [01:23<00:02,  2.98it/s, loss=0.136, v_num=3, train_loss=0.390, train_accuracy=0.778, val_loss=0.252, val_accuracy=0.908]\n",
      "Epoch 51:  98%|█████████▊| 250/255 [01:23<00:01,  3.00it/s, loss=0.136, v_num=3, train_loss=0.390, train_accuracy=0.778, val_loss=0.252, val_accuracy=0.908]\n",
      "Epoch 51:  99%|█████████▉| 252/255 [01:23<00:00,  3.02it/s, loss=0.136, v_num=3, train_loss=0.390, train_accuracy=0.778, val_loss=0.252, val_accuracy=0.908]\n",
      "Epoch 51: 100%|█████████▉| 254/255 [01:23<00:00,  3.04it/s, loss=0.136, v_num=3, train_loss=0.390, train_accuracy=0.778, val_loss=0.252, val_accuracy=0.908]\n",
      "Epoch 51: 100%|██████████| 255/255 [01:24<00:00,  3.03it/s, loss=0.136, v_num=3, train_loss=0.390, train_accuracy=0.778, val_loss=0.204, val_accuracy=0.918]\n",
      "Epoch 51: 100%|██████████| 255/255 [01:24<00:00,  3.03it/s, loss=0.136, v_num=3, train_loss=0.390, train_accuracy=0.778, val_loss=0.204, val_accuracy=0.918]"
     ]
    },
    {
     "name": "stderr",
     "output_type": "stream",
     "text": [
      "Epoch 51, global step 11751: val_loss reached 0.20442 (best 0.20442), saving model to \"/Workspace/code/checkpoints/best-checkpoint-corr-mi-18-v6.ckpt\" as top 2\n"
     ]
    },
    {
     "name": "stdout",
     "output_type": "stream",
     "text": [
      "Epoch 52:  89%|████████▊ | 226/255 [01:17<00:10,  2.90it/s, loss=0.137, v_num=3, train_loss=0.246, train_accuracy=0.889, val_loss=0.204, val_accuracy=0.918] \n",
      "Validating: 0it [00:00, ?it/s]\u001b[A\n",
      "Validating:   0%|          | 0/29 [00:00<?, ?it/s]\u001b[A\n",
      "Epoch 52:  89%|████████▉ | 228/255 [01:21<00:09,  2.79it/s, loss=0.137, v_num=3, train_loss=0.246, train_accuracy=0.889, val_loss=0.204, val_accuracy=0.918]\n",
      "Epoch 52:  90%|█████████ | 230/255 [01:21<00:08,  2.81it/s, loss=0.137, v_num=3, train_loss=0.246, train_accuracy=0.889, val_loss=0.204, val_accuracy=0.918]\n",
      "Epoch 52:  91%|█████████ | 232/255 [01:22<00:08,  2.83it/s, loss=0.137, v_num=3, train_loss=0.246, train_accuracy=0.889, val_loss=0.204, val_accuracy=0.918]\n",
      "Epoch 52:  92%|█████████▏| 234/255 [01:22<00:07,  2.85it/s, loss=0.137, v_num=3, train_loss=0.246, train_accuracy=0.889, val_loss=0.204, val_accuracy=0.918]\n",
      "Epoch 52:  93%|█████████▎| 236/255 [01:22<00:06,  2.87it/s, loss=0.137, v_num=3, train_loss=0.246, train_accuracy=0.889, val_loss=0.204, val_accuracy=0.918]\n",
      "Epoch 52:  93%|█████████▎| 238/255 [01:22<00:05,  2.89it/s, loss=0.137, v_num=3, train_loss=0.246, train_accuracy=0.889, val_loss=0.204, val_accuracy=0.918]\n",
      "Epoch 52:  94%|█████████▍| 240/255 [01:22<00:05,  2.90it/s, loss=0.137, v_num=3, train_loss=0.246, train_accuracy=0.889, val_loss=0.204, val_accuracy=0.918]\n",
      "Epoch 52:  95%|█████████▍| 242/255 [01:22<00:04,  2.92it/s, loss=0.137, v_num=3, train_loss=0.246, train_accuracy=0.889, val_loss=0.204, val_accuracy=0.918]\n",
      "Epoch 52:  96%|█████████▌| 244/255 [01:22<00:03,  2.94it/s, loss=0.137, v_num=3, train_loss=0.246, train_accuracy=0.889, val_loss=0.204, val_accuracy=0.918]\n",
      "Epoch 52:  96%|█████████▋| 246/255 [01:23<00:03,  2.96it/s, loss=0.137, v_num=3, train_loss=0.246, train_accuracy=0.889, val_loss=0.204, val_accuracy=0.918]\n",
      "Epoch 52:  97%|█████████▋| 248/255 [01:23<00:02,  2.98it/s, loss=0.137, v_num=3, train_loss=0.246, train_accuracy=0.889, val_loss=0.204, val_accuracy=0.918]\n",
      "Epoch 52:  98%|█████████▊| 250/255 [01:23<00:01,  3.00it/s, loss=0.137, v_num=3, train_loss=0.246, train_accuracy=0.889, val_loss=0.204, val_accuracy=0.918]\n",
      "Epoch 52:  99%|█████████▉| 252/255 [01:23<00:00,  3.02it/s, loss=0.137, v_num=3, train_loss=0.246, train_accuracy=0.889, val_loss=0.204, val_accuracy=0.918]\n",
      "Epoch 52: 100%|█████████▉| 254/255 [01:23<00:00,  3.04it/s, loss=0.137, v_num=3, train_loss=0.246, train_accuracy=0.889, val_loss=0.204, val_accuracy=0.918]\n",
      "Epoch 52: 100%|██████████| 255/255 [01:24<00:00,  3.02it/s, loss=0.137, v_num=3, train_loss=0.246, train_accuracy=0.889, val_loss=0.221, val_accuracy=0.922]\n",
      "Epoch 52: 100%|██████████| 255/255 [01:24<00:00,  3.02it/s, loss=0.137, v_num=3, train_loss=0.246, train_accuracy=0.889, val_loss=0.221, val_accuracy=0.922]"
     ]
    },
    {
     "name": "stderr",
     "output_type": "stream",
     "text": [
      "Epoch 52, global step 11977: val_loss was not in top 2\n"
     ]
    },
    {
     "name": "stdout",
     "output_type": "stream",
     "text": [
      "Epoch 53:  89%|████████▊ | 226/255 [01:17<00:10,  2.90it/s, loss=0.162, v_num=3, train_loss=0.157, train_accuracy=0.944, val_loss=0.221, val_accuracy=0.922] \n",
      "Validating: 0it [00:00, ?it/s]\u001b[A\n",
      "Validating:   0%|          | 0/29 [00:00<?, ?it/s]\u001b[A\n",
      "Epoch 53:  89%|████████▉ | 228/255 [01:21<00:09,  2.79it/s, loss=0.162, v_num=3, train_loss=0.157, train_accuracy=0.944, val_loss=0.221, val_accuracy=0.922]\n",
      "Epoch 53:  90%|█████████ | 230/255 [01:21<00:08,  2.81it/s, loss=0.162, v_num=3, train_loss=0.157, train_accuracy=0.944, val_loss=0.221, val_accuracy=0.922]\n",
      "Epoch 53:  91%|█████████ | 232/255 [01:21<00:08,  2.83it/s, loss=0.162, v_num=3, train_loss=0.157, train_accuracy=0.944, val_loss=0.221, val_accuracy=0.922]\n",
      "Epoch 53:  92%|█████████▏| 234/255 [01:22<00:07,  2.85it/s, loss=0.162, v_num=3, train_loss=0.157, train_accuracy=0.944, val_loss=0.221, val_accuracy=0.922]\n",
      "Epoch 53:  93%|█████████▎| 236/255 [01:22<00:06,  2.87it/s, loss=0.162, v_num=3, train_loss=0.157, train_accuracy=0.944, val_loss=0.221, val_accuracy=0.922]\n",
      "Epoch 53:  93%|█████████▎| 238/255 [01:22<00:05,  2.89it/s, loss=0.162, v_num=3, train_loss=0.157, train_accuracy=0.944, val_loss=0.221, val_accuracy=0.922]\n",
      "Epoch 53:  94%|█████████▍| 240/255 [01:22<00:05,  2.91it/s, loss=0.162, v_num=3, train_loss=0.157, train_accuracy=0.944, val_loss=0.221, val_accuracy=0.922]\n",
      "Epoch 53:  95%|█████████▍| 242/255 [01:22<00:04,  2.93it/s, loss=0.162, v_num=3, train_loss=0.157, train_accuracy=0.944, val_loss=0.221, val_accuracy=0.922]\n",
      "Epoch 53:  96%|█████████▌| 244/255 [01:22<00:03,  2.94it/s, loss=0.162, v_num=3, train_loss=0.157, train_accuracy=0.944, val_loss=0.221, val_accuracy=0.922]\n",
      "Epoch 53:  96%|█████████▋| 246/255 [01:23<00:03,  2.96it/s, loss=0.162, v_num=3, train_loss=0.157, train_accuracy=0.944, val_loss=0.221, val_accuracy=0.922]\n",
      "Epoch 53:  97%|█████████▋| 248/255 [01:23<00:02,  2.98it/s, loss=0.162, v_num=3, train_loss=0.157, train_accuracy=0.944, val_loss=0.221, val_accuracy=0.922]\n",
      "Epoch 53:  98%|█████████▊| 250/255 [01:23<00:01,  3.00it/s, loss=0.162, v_num=3, train_loss=0.157, train_accuracy=0.944, val_loss=0.221, val_accuracy=0.922]\n",
      "Epoch 53:  99%|█████████▉| 252/255 [01:23<00:00,  3.02it/s, loss=0.162, v_num=3, train_loss=0.157, train_accuracy=0.944, val_loss=0.221, val_accuracy=0.922]\n",
      "Epoch 53: 100%|█████████▉| 254/255 [01:23<00:00,  3.04it/s, loss=0.162, v_num=3, train_loss=0.157, train_accuracy=0.944, val_loss=0.221, val_accuracy=0.922]\n",
      "Epoch 53: 100%|██████████| 255/255 [01:24<00:00,  3.03it/s, loss=0.162, v_num=3, train_loss=0.157, train_accuracy=0.944, val_loss=0.187, val_accuracy=0.926]\n",
      "Epoch 53: 100%|██████████| 255/255 [01:24<00:00,  3.03it/s, loss=0.162, v_num=3, train_loss=0.157, train_accuracy=0.944, val_loss=0.187, val_accuracy=0.926]"
     ]
    },
    {
     "name": "stderr",
     "output_type": "stream",
     "text": [
      "Epoch 53, global step 12203: val_loss reached 0.18717 (best 0.18717), saving model to \"/Workspace/code/checkpoints/best-checkpoint-corr-mi-18-v7.ckpt\" as top 2\n"
     ]
    },
    {
     "name": "stdout",
     "output_type": "stream",
     "text": [
      "Epoch 54:  89%|████████▊ | 226/255 [01:17<00:10,  2.90it/s, loss=0.29, v_num=3, train_loss=0.249, train_accuracy=0.944, val_loss=0.187, val_accuracy=0.926]  \n",
      "Validating: 0it [00:00, ?it/s]\u001b[A\n",
      "Validating:   0%|          | 0/29 [00:00<?, ?it/s]\u001b[A\n",
      "Epoch 54:  89%|████████▉ | 228/255 [01:21<00:09,  2.79it/s, loss=0.29, v_num=3, train_loss=0.249, train_accuracy=0.944, val_loss=0.187, val_accuracy=0.926]\n",
      "Epoch 54:  90%|█████████ | 230/255 [01:21<00:08,  2.81it/s, loss=0.29, v_num=3, train_loss=0.249, train_accuracy=0.944, val_loss=0.187, val_accuracy=0.926]\n",
      "Epoch 54:  91%|█████████ | 232/255 [01:21<00:08,  2.83it/s, loss=0.29, v_num=3, train_loss=0.249, train_accuracy=0.944, val_loss=0.187, val_accuracy=0.926]\n",
      "Epoch 54:  92%|█████████▏| 234/255 [01:22<00:07,  2.85it/s, loss=0.29, v_num=3, train_loss=0.249, train_accuracy=0.944, val_loss=0.187, val_accuracy=0.926]\n",
      "Epoch 54:  93%|█████████▎| 236/255 [01:22<00:06,  2.87it/s, loss=0.29, v_num=3, train_loss=0.249, train_accuracy=0.944, val_loss=0.187, val_accuracy=0.926]\n",
      "Epoch 54:  93%|█████████▎| 238/255 [01:22<00:05,  2.89it/s, loss=0.29, v_num=3, train_loss=0.249, train_accuracy=0.944, val_loss=0.187, val_accuracy=0.926]\n",
      "Epoch 54:  94%|█████████▍| 240/255 [01:22<00:05,  2.91it/s, loss=0.29, v_num=3, train_loss=0.249, train_accuracy=0.944, val_loss=0.187, val_accuracy=0.926]\n",
      "Epoch 54:  95%|█████████▍| 242/255 [01:22<00:04,  2.93it/s, loss=0.29, v_num=3, train_loss=0.249, train_accuracy=0.944, val_loss=0.187, val_accuracy=0.926]\n",
      "Epoch 54:  96%|█████████▌| 244/255 [01:22<00:03,  2.95it/s, loss=0.29, v_num=3, train_loss=0.249, train_accuracy=0.944, val_loss=0.187, val_accuracy=0.926]\n",
      "Epoch 54:  96%|█████████▋| 246/255 [01:22<00:03,  2.96it/s, loss=0.29, v_num=3, train_loss=0.249, train_accuracy=0.944, val_loss=0.187, val_accuracy=0.926]\n",
      "Epoch 54:  97%|█████████▋| 248/255 [01:23<00:02,  2.98it/s, loss=0.29, v_num=3, train_loss=0.249, train_accuracy=0.944, val_loss=0.187, val_accuracy=0.926]\n",
      "Epoch 54:  98%|█████████▊| 250/255 [01:23<00:01,  3.00it/s, loss=0.29, v_num=3, train_loss=0.249, train_accuracy=0.944, val_loss=0.187, val_accuracy=0.926]\n",
      "Epoch 54:  99%|█████████▉| 252/255 [01:23<00:00,  3.02it/s, loss=0.29, v_num=3, train_loss=0.249, train_accuracy=0.944, val_loss=0.187, val_accuracy=0.926]\n",
      "Epoch 54: 100%|█████████▉| 254/255 [01:23<00:00,  3.04it/s, loss=0.29, v_num=3, train_loss=0.249, train_accuracy=0.944, val_loss=0.187, val_accuracy=0.926]\n",
      "Epoch 54: 100%|██████████| 255/255 [01:24<00:00,  3.03it/s, loss=0.29, v_num=3, train_loss=0.249, train_accuracy=0.944, val_loss=0.317, val_accuracy=0.860]\n",
      "Epoch 54: 100%|██████████| 255/255 [01:24<00:00,  3.03it/s, loss=0.29, v_num=3, train_loss=0.249, train_accuracy=0.944, val_loss=0.317, val_accuracy=0.860]"
     ]
    },
    {
     "name": "stderr",
     "output_type": "stream",
     "text": [
      "Epoch 54, global step 12429: val_loss was not in top 2\n"
     ]
    },
    {
     "name": "stdout",
     "output_type": "stream",
     "text": [
      "Epoch 55:  89%|████████▊ | 226/255 [01:17<00:09,  2.90it/s, loss=0.195, v_num=3, train_loss=0.218, train_accuracy=0.889, val_loss=0.317, val_accuracy=0.860]\n",
      "Validating: 0it [00:00, ?it/s]\u001b[A\n",
      "Validating:   0%|          | 0/29 [00:00<?, ?it/s]\u001b[A\n",
      "Epoch 55:  89%|████████▉ | 228/255 [01:21<00:09,  2.80it/s, loss=0.195, v_num=3, train_loss=0.218, train_accuracy=0.889, val_loss=0.317, val_accuracy=0.860]\n",
      "Epoch 55:  90%|█████████ | 230/255 [01:21<00:08,  2.82it/s, loss=0.195, v_num=3, train_loss=0.218, train_accuracy=0.889, val_loss=0.317, val_accuracy=0.860]\n",
      "Epoch 55:  91%|█████████ | 232/255 [01:21<00:08,  2.83it/s, loss=0.195, v_num=3, train_loss=0.218, train_accuracy=0.889, val_loss=0.317, val_accuracy=0.860]\n",
      "Epoch 55:  92%|█████████▏| 234/255 [01:21<00:07,  2.85it/s, loss=0.195, v_num=3, train_loss=0.218, train_accuracy=0.889, val_loss=0.317, val_accuracy=0.860]\n",
      "Epoch 55:  93%|█████████▎| 236/255 [01:22<00:06,  2.87it/s, loss=0.195, v_num=3, train_loss=0.218, train_accuracy=0.889, val_loss=0.317, val_accuracy=0.860]\n",
      "Epoch 55:  93%|█████████▎| 238/255 [01:22<00:05,  2.89it/s, loss=0.195, v_num=3, train_loss=0.218, train_accuracy=0.889, val_loss=0.317, val_accuracy=0.860]\n",
      "Epoch 55:  94%|█████████▍| 240/255 [01:22<00:05,  2.91it/s, loss=0.195, v_num=3, train_loss=0.218, train_accuracy=0.889, val_loss=0.317, val_accuracy=0.860]\n",
      "Epoch 55:  95%|█████████▍| 242/255 [01:22<00:04,  2.93it/s, loss=0.195, v_num=3, train_loss=0.218, train_accuracy=0.889, val_loss=0.317, val_accuracy=0.860]\n",
      "Epoch 55:  96%|█████████▌| 244/255 [01:22<00:03,  2.95it/s, loss=0.195, v_num=3, train_loss=0.218, train_accuracy=0.889, val_loss=0.317, val_accuracy=0.860]\n",
      "Epoch 55:  96%|█████████▋| 246/255 [01:22<00:03,  2.97it/s, loss=0.195, v_num=3, train_loss=0.218, train_accuracy=0.889, val_loss=0.317, val_accuracy=0.860]\n",
      "Epoch 55:  97%|█████████▋| 248/255 [01:23<00:02,  2.99it/s, loss=0.195, v_num=3, train_loss=0.218, train_accuracy=0.889, val_loss=0.317, val_accuracy=0.860]\n",
      "Epoch 55:  98%|█████████▊| 250/255 [01:23<00:01,  3.01it/s, loss=0.195, v_num=3, train_loss=0.218, train_accuracy=0.889, val_loss=0.317, val_accuracy=0.860]\n",
      "Epoch 55:  99%|█████████▉| 252/255 [01:23<00:00,  3.02it/s, loss=0.195, v_num=3, train_loss=0.218, train_accuracy=0.889, val_loss=0.317, val_accuracy=0.860]\n",
      "Epoch 55: 100%|█████████▉| 254/255 [01:23<00:00,  3.04it/s, loss=0.195, v_num=3, train_loss=0.218, train_accuracy=0.889, val_loss=0.317, val_accuracy=0.860]\n",
      "Epoch 55: 100%|██████████| 255/255 [01:24<00:00,  3.03it/s, loss=0.195, v_num=3, train_loss=0.218, train_accuracy=0.889, val_loss=0.230, val_accuracy=0.896]\n",
      "Epoch 55: 100%|██████████| 255/255 [01:24<00:00,  3.03it/s, loss=0.195, v_num=3, train_loss=0.218, train_accuracy=0.889, val_loss=0.230, val_accuracy=0.896]"
     ]
    },
    {
     "name": "stderr",
     "output_type": "stream",
     "text": [
      "Epoch 55, global step 12655: val_loss was not in top 2\n"
     ]
    },
    {
     "name": "stdout",
     "output_type": "stream",
     "text": [
      "Epoch 56:  89%|████████▊ | 226/255 [01:17<00:10,  2.90it/s, loss=0.178, v_num=3, train_loss=0.0437, train_accuracy=1.000, val_loss=0.230, val_accuracy=0.896]\n",
      "Validating: 0it [00:00, ?it/s]\u001b[A\n",
      "Validating:   0%|          | 0/29 [00:00<?, ?it/s]\u001b[A\n",
      "Epoch 56:  89%|████████▉ | 228/255 [01:21<00:09,  2.79it/s, loss=0.178, v_num=3, train_loss=0.0437, train_accuracy=1.000, val_loss=0.230, val_accuracy=0.896]\n",
      "Epoch 56:  90%|█████████ | 230/255 [01:21<00:08,  2.81it/s, loss=0.178, v_num=3, train_loss=0.0437, train_accuracy=1.000, val_loss=0.230, val_accuracy=0.896]\n",
      "Epoch 56:  91%|█████████ | 232/255 [01:21<00:08,  2.83it/s, loss=0.178, v_num=3, train_loss=0.0437, train_accuracy=1.000, val_loss=0.230, val_accuracy=0.896]\n",
      "Epoch 56:  92%|█████████▏| 234/255 [01:22<00:07,  2.85it/s, loss=0.178, v_num=3, train_loss=0.0437, train_accuracy=1.000, val_loss=0.230, val_accuracy=0.896]\n",
      "Epoch 56:  93%|█████████▎| 236/255 [01:22<00:06,  2.87it/s, loss=0.178, v_num=3, train_loss=0.0437, train_accuracy=1.000, val_loss=0.230, val_accuracy=0.896]\n",
      "Epoch 56:  93%|█████████▎| 238/255 [01:22<00:05,  2.89it/s, loss=0.178, v_num=3, train_loss=0.0437, train_accuracy=1.000, val_loss=0.230, val_accuracy=0.896]\n",
      "Epoch 56:  94%|█████████▍| 240/255 [01:22<00:05,  2.91it/s, loss=0.178, v_num=3, train_loss=0.0437, train_accuracy=1.000, val_loss=0.230, val_accuracy=0.896]\n",
      "Epoch 56:  95%|█████████▍| 242/255 [01:22<00:04,  2.93it/s, loss=0.178, v_num=3, train_loss=0.0437, train_accuracy=1.000, val_loss=0.230, val_accuracy=0.896]\n",
      "Epoch 56:  96%|█████████▌| 244/255 [01:22<00:03,  2.95it/s, loss=0.178, v_num=3, train_loss=0.0437, train_accuracy=1.000, val_loss=0.230, val_accuracy=0.896]\n",
      "Epoch 56:  96%|█████████▋| 246/255 [01:22<00:03,  2.97it/s, loss=0.178, v_num=3, train_loss=0.0437, train_accuracy=1.000, val_loss=0.230, val_accuracy=0.896]\n",
      "Epoch 56:  97%|█████████▋| 248/255 [01:23<00:02,  2.98it/s, loss=0.178, v_num=3, train_loss=0.0437, train_accuracy=1.000, val_loss=0.230, val_accuracy=0.896]\n",
      "Epoch 56:  98%|█████████▊| 250/255 [01:23<00:01,  3.00it/s, loss=0.178, v_num=3, train_loss=0.0437, train_accuracy=1.000, val_loss=0.230, val_accuracy=0.896]\n",
      "Epoch 56:  99%|█████████▉| 252/255 [01:23<00:00,  3.02it/s, loss=0.178, v_num=3, train_loss=0.0437, train_accuracy=1.000, val_loss=0.230, val_accuracy=0.896]\n",
      "Epoch 56: 100%|█████████▉| 254/255 [01:23<00:00,  3.04it/s, loss=0.178, v_num=3, train_loss=0.0437, train_accuracy=1.000, val_loss=0.230, val_accuracy=0.896]\n",
      "Epoch 56: 100%|██████████| 255/255 [01:24<00:00,  3.02it/s, loss=0.178, v_num=3, train_loss=0.0437, train_accuracy=1.000, val_loss=0.228, val_accuracy=0.910]\n",
      "Epoch 56: 100%|██████████| 255/255 [01:24<00:00,  3.02it/s, loss=0.178, v_num=3, train_loss=0.0437, train_accuracy=1.000, val_loss=0.228, val_accuracy=0.910]"
     ]
    },
    {
     "name": "stderr",
     "output_type": "stream",
     "text": [
      "Epoch 56, global step 12881: val_loss was not in top 2\n"
     ]
    },
    {
     "name": "stdout",
     "output_type": "stream",
     "text": [
      "Epoch 57:  89%|████████▊ | 226/255 [01:17<00:10,  2.90it/s, loss=0.142, v_num=3, train_loss=0.236, train_accuracy=0.944, val_loss=0.228, val_accuracy=0.910] \n",
      "Validating: 0it [00:00, ?it/s]\u001b[A\n",
      "Validating:   0%|          | 0/29 [00:00<?, ?it/s]\u001b[A\n",
      "Epoch 57:  89%|████████▉ | 228/255 [01:21<00:09,  2.79it/s, loss=0.142, v_num=3, train_loss=0.236, train_accuracy=0.944, val_loss=0.228, val_accuracy=0.910]\n",
      "Epoch 57:  90%|█████████ | 230/255 [01:21<00:08,  2.81it/s, loss=0.142, v_num=3, train_loss=0.236, train_accuracy=0.944, val_loss=0.228, val_accuracy=0.910]\n",
      "Epoch 57:  91%|█████████ | 232/255 [01:21<00:08,  2.83it/s, loss=0.142, v_num=3, train_loss=0.236, train_accuracy=0.944, val_loss=0.228, val_accuracy=0.910]\n",
      "Epoch 57:  92%|█████████▏| 234/255 [01:22<00:07,  2.85it/s, loss=0.142, v_num=3, train_loss=0.236, train_accuracy=0.944, val_loss=0.228, val_accuracy=0.910]\n",
      "Epoch 57:  93%|█████████▎| 236/255 [01:22<00:06,  2.87it/s, loss=0.142, v_num=3, train_loss=0.236, train_accuracy=0.944, val_loss=0.228, val_accuracy=0.910]\n",
      "Epoch 57:  93%|█████████▎| 238/255 [01:22<00:05,  2.89it/s, loss=0.142, v_num=3, train_loss=0.236, train_accuracy=0.944, val_loss=0.228, val_accuracy=0.910]\n",
      "Epoch 57:  94%|█████████▍| 240/255 [01:22<00:05,  2.91it/s, loss=0.142, v_num=3, train_loss=0.236, train_accuracy=0.944, val_loss=0.228, val_accuracy=0.910]\n",
      "Epoch 57:  95%|█████████▍| 242/255 [01:22<00:04,  2.93it/s, loss=0.142, v_num=3, train_loss=0.236, train_accuracy=0.944, val_loss=0.228, val_accuracy=0.910]\n",
      "Epoch 57:  96%|█████████▌| 244/255 [01:22<00:03,  2.95it/s, loss=0.142, v_num=3, train_loss=0.236, train_accuracy=0.944, val_loss=0.228, val_accuracy=0.910]\n",
      "Epoch 57:  96%|█████████▋| 246/255 [01:22<00:03,  2.97it/s, loss=0.142, v_num=3, train_loss=0.236, train_accuracy=0.944, val_loss=0.228, val_accuracy=0.910]\n",
      "Epoch 57:  97%|█████████▋| 248/255 [01:23<00:02,  2.98it/s, loss=0.142, v_num=3, train_loss=0.236, train_accuracy=0.944, val_loss=0.228, val_accuracy=0.910]\n",
      "Epoch 57:  98%|█████████▊| 250/255 [01:23<00:01,  3.00it/s, loss=0.142, v_num=3, train_loss=0.236, train_accuracy=0.944, val_loss=0.228, val_accuracy=0.910]\n",
      "Epoch 57:  99%|█████████▉| 252/255 [01:23<00:00,  3.02it/s, loss=0.142, v_num=3, train_loss=0.236, train_accuracy=0.944, val_loss=0.228, val_accuracy=0.910]\n",
      "Epoch 57: 100%|█████████▉| 254/255 [01:23<00:00,  3.04it/s, loss=0.142, v_num=3, train_loss=0.236, train_accuracy=0.944, val_loss=0.228, val_accuracy=0.910]\n",
      "Epoch 57: 100%|██████████| 255/255 [01:24<00:00,  3.03it/s, loss=0.142, v_num=3, train_loss=0.236, train_accuracy=0.944, val_loss=0.210, val_accuracy=0.921]\n",
      "Epoch 57: 100%|██████████| 255/255 [01:24<00:00,  3.03it/s, loss=0.142, v_num=3, train_loss=0.236, train_accuracy=0.944, val_loss=0.210, val_accuracy=0.921]"
     ]
    },
    {
     "name": "stderr",
     "output_type": "stream",
     "text": [
      "Epoch 57, global step 13107: val_loss was not in top 2\n"
     ]
    },
    {
     "name": "stdout",
     "output_type": "stream",
     "text": [
      "Epoch 58:  89%|████████▊ | 226/255 [01:17<00:10,  2.90it/s, loss=0.109, v_num=3, train_loss=0.0669, train_accuracy=1.000, val_loss=0.210, val_accuracy=0.921]\n",
      "Validating: 0it [00:00, ?it/s]\u001b[A\n",
      "Validating:   0%|          | 0/29 [00:00<?, ?it/s]\u001b[A\n",
      "Epoch 58:  89%|████████▉ | 228/255 [01:21<00:09,  2.79it/s, loss=0.109, v_num=3, train_loss=0.0669, train_accuracy=1.000, val_loss=0.210, val_accuracy=0.921]\n",
      "Epoch 58:  90%|█████████ | 230/255 [01:21<00:08,  2.81it/s, loss=0.109, v_num=3, train_loss=0.0669, train_accuracy=1.000, val_loss=0.210, val_accuracy=0.921]\n",
      "Epoch 58:  91%|█████████ | 232/255 [01:22<00:08,  2.83it/s, loss=0.109, v_num=3, train_loss=0.0669, train_accuracy=1.000, val_loss=0.210, val_accuracy=0.921]\n",
      "Epoch 58:  92%|█████████▏| 234/255 [01:22<00:07,  2.85it/s, loss=0.109, v_num=3, train_loss=0.0669, train_accuracy=1.000, val_loss=0.210, val_accuracy=0.921]\n",
      "Epoch 58:  93%|█████████▎| 236/255 [01:22<00:06,  2.87it/s, loss=0.109, v_num=3, train_loss=0.0669, train_accuracy=1.000, val_loss=0.210, val_accuracy=0.921]\n",
      "Epoch 58:  93%|█████████▎| 238/255 [01:22<00:05,  2.89it/s, loss=0.109, v_num=3, train_loss=0.0669, train_accuracy=1.000, val_loss=0.210, val_accuracy=0.921]\n",
      "Epoch 58:  94%|█████████▍| 240/255 [01:22<00:05,  2.91it/s, loss=0.109, v_num=3, train_loss=0.0669, train_accuracy=1.000, val_loss=0.210, val_accuracy=0.921]\n",
      "Epoch 58:  95%|█████████▍| 242/255 [01:22<00:04,  2.92it/s, loss=0.109, v_num=3, train_loss=0.0669, train_accuracy=1.000, val_loss=0.210, val_accuracy=0.921]\n",
      "Epoch 58:  96%|█████████▌| 244/255 [01:22<00:03,  2.94it/s, loss=0.109, v_num=3, train_loss=0.0669, train_accuracy=1.000, val_loss=0.210, val_accuracy=0.921]\n",
      "Epoch 58:  96%|█████████▋| 246/255 [01:23<00:03,  2.96it/s, loss=0.109, v_num=3, train_loss=0.0669, train_accuracy=1.000, val_loss=0.210, val_accuracy=0.921]\n",
      "Epoch 58:  97%|█████████▋| 248/255 [01:23<00:02,  2.98it/s, loss=0.109, v_num=3, train_loss=0.0669, train_accuracy=1.000, val_loss=0.210, val_accuracy=0.921]\n",
      "Epoch 58:  98%|█████████▊| 250/255 [01:23<00:01,  3.00it/s, loss=0.109, v_num=3, train_loss=0.0669, train_accuracy=1.000, val_loss=0.210, val_accuracy=0.921]\n",
      "Epoch 58:  99%|█████████▉| 252/255 [01:23<00:00,  3.02it/s, loss=0.109, v_num=3, train_loss=0.0669, train_accuracy=1.000, val_loss=0.210, val_accuracy=0.921]\n",
      "Epoch 58: 100%|█████████▉| 254/255 [01:23<00:00,  3.04it/s, loss=0.109, v_num=3, train_loss=0.0669, train_accuracy=1.000, val_loss=0.210, val_accuracy=0.921]\n",
      "Epoch 58: 100%|██████████| 255/255 [01:24<00:00,  3.02it/s, loss=0.109, v_num=3, train_loss=0.0669, train_accuracy=1.000, val_loss=0.206, val_accuracy=0.925]\n",
      "Epoch 58: 100%|██████████| 255/255 [01:24<00:00,  3.02it/s, loss=0.109, v_num=3, train_loss=0.0669, train_accuracy=1.000, val_loss=0.206, val_accuracy=0.925]"
     ]
    },
    {
     "name": "stderr",
     "output_type": "stream",
     "text": [
      "Epoch 58, global step 13333: val_loss was not in top 2\n"
     ]
    },
    {
     "name": "stdout",
     "output_type": "stream",
     "text": [
      "Epoch 59:  89%|████████▊ | 226/255 [01:17<00:10,  2.90it/s, loss=0.154, v_num=3, train_loss=0.0233, train_accuracy=1.000, val_loss=0.206, val_accuracy=0.925]\n",
      "Validating: 0it [00:00, ?it/s]\u001b[A\n",
      "Validating:   0%|          | 0/29 [00:00<?, ?it/s]\u001b[A\n",
      "Epoch 59:  89%|████████▉ | 228/255 [01:21<00:09,  2.79it/s, loss=0.154, v_num=3, train_loss=0.0233, train_accuracy=1.000, val_loss=0.206, val_accuracy=0.925]\n",
      "Epoch 59:  90%|█████████ | 230/255 [01:21<00:08,  2.81it/s, loss=0.154, v_num=3, train_loss=0.0233, train_accuracy=1.000, val_loss=0.206, val_accuracy=0.925]\n",
      "Epoch 59:  91%|█████████ | 232/255 [01:21<00:08,  2.83it/s, loss=0.154, v_num=3, train_loss=0.0233, train_accuracy=1.000, val_loss=0.206, val_accuracy=0.925]\n",
      "Epoch 59:  92%|█████████▏| 234/255 [01:22<00:07,  2.85it/s, loss=0.154, v_num=3, train_loss=0.0233, train_accuracy=1.000, val_loss=0.206, val_accuracy=0.925]\n",
      "Epoch 59:  93%|█████████▎| 236/255 [01:22<00:06,  2.87it/s, loss=0.154, v_num=3, train_loss=0.0233, train_accuracy=1.000, val_loss=0.206, val_accuracy=0.925]\n",
      "Epoch 59:  93%|█████████▎| 238/255 [01:22<00:05,  2.89it/s, loss=0.154, v_num=3, train_loss=0.0233, train_accuracy=1.000, val_loss=0.206, val_accuracy=0.925]\n",
      "Epoch 59:  94%|█████████▍| 240/255 [01:22<00:05,  2.91it/s, loss=0.154, v_num=3, train_loss=0.0233, train_accuracy=1.000, val_loss=0.206, val_accuracy=0.925]\n",
      "Epoch 59:  95%|█████████▍| 242/255 [01:22<00:04,  2.93it/s, loss=0.154, v_num=3, train_loss=0.0233, train_accuracy=1.000, val_loss=0.206, val_accuracy=0.925]\n",
      "Epoch 59:  96%|█████████▌| 244/255 [01:22<00:03,  2.94it/s, loss=0.154, v_num=3, train_loss=0.0233, train_accuracy=1.000, val_loss=0.206, val_accuracy=0.925]\n",
      "Epoch 59:  96%|█████████▋| 246/255 [01:23<00:03,  2.96it/s, loss=0.154, v_num=3, train_loss=0.0233, train_accuracy=1.000, val_loss=0.206, val_accuracy=0.925]\n",
      "Epoch 59:  97%|█████████▋| 248/255 [01:23<00:02,  2.98it/s, loss=0.154, v_num=3, train_loss=0.0233, train_accuracy=1.000, val_loss=0.206, val_accuracy=0.925]\n",
      "Epoch 59:  98%|█████████▊| 250/255 [01:23<00:01,  3.00it/s, loss=0.154, v_num=3, train_loss=0.0233, train_accuracy=1.000, val_loss=0.206, val_accuracy=0.925]\n",
      "Epoch 59:  99%|█████████▉| 252/255 [01:23<00:00,  3.02it/s, loss=0.154, v_num=3, train_loss=0.0233, train_accuracy=1.000, val_loss=0.206, val_accuracy=0.925]\n",
      "Epoch 59: 100%|█████████▉| 254/255 [01:23<00:00,  3.04it/s, loss=0.154, v_num=3, train_loss=0.0233, train_accuracy=1.000, val_loss=0.206, val_accuracy=0.925]\n",
      "Epoch 59: 100%|██████████| 255/255 [01:24<00:00,  3.02it/s, loss=0.154, v_num=3, train_loss=0.0233, train_accuracy=1.000, val_loss=0.198, val_accuracy=0.916]\n",
      "Epoch 59: 100%|██████████| 255/255 [01:24<00:00,  3.02it/s, loss=0.154, v_num=3, train_loss=0.0233, train_accuracy=1.000, val_loss=0.198, val_accuracy=0.916]"
     ]
    },
    {
     "name": "stderr",
     "output_type": "stream",
     "text": [
      "Epoch 59, global step 13559: val_loss reached 0.19847 (best 0.18717), saving model to \"/Workspace/code/checkpoints/best-checkpoint-corr-mi-18-v6.ckpt\" as top 2\n"
     ]
    },
    {
     "name": "stdout",
     "output_type": "stream",
     "text": [
      "Epoch 60:  89%|████████▊ | 226/255 [01:17<00:10,  2.90it/s, loss=0.322, v_num=3, train_loss=0.363, train_accuracy=0.722, val_loss=0.198, val_accuracy=0.916] \n",
      "Validating: 0it [00:00, ?it/s]\u001b[A\n",
      "Validating:   0%|          | 0/29 [00:00<?, ?it/s]\u001b[A\n",
      "Epoch 60:  89%|████████▉ | 228/255 [01:21<00:09,  2.79it/s, loss=0.322, v_num=3, train_loss=0.363, train_accuracy=0.722, val_loss=0.198, val_accuracy=0.916]\n",
      "Epoch 60:  90%|█████████ | 230/255 [01:21<00:08,  2.81it/s, loss=0.322, v_num=3, train_loss=0.363, train_accuracy=0.722, val_loss=0.198, val_accuracy=0.916]\n",
      "Epoch 60:  91%|█████████ | 232/255 [01:22<00:08,  2.83it/s, loss=0.322, v_num=3, train_loss=0.363, train_accuracy=0.722, val_loss=0.198, val_accuracy=0.916]\n",
      "Epoch 60:  92%|█████████▏| 234/255 [01:22<00:07,  2.84it/s, loss=0.322, v_num=3, train_loss=0.363, train_accuracy=0.722, val_loss=0.198, val_accuracy=0.916]\n",
      "Epoch 60:  93%|█████████▎| 236/255 [01:22<00:06,  2.86it/s, loss=0.322, v_num=3, train_loss=0.363, train_accuracy=0.722, val_loss=0.198, val_accuracy=0.916]\n",
      "Epoch 60:  93%|█████████▎| 238/255 [01:22<00:05,  2.88it/s, loss=0.322, v_num=3, train_loss=0.363, train_accuracy=0.722, val_loss=0.198, val_accuracy=0.916]\n",
      "Epoch 60:  94%|█████████▍| 240/255 [01:22<00:05,  2.90it/s, loss=0.322, v_num=3, train_loss=0.363, train_accuracy=0.722, val_loss=0.198, val_accuracy=0.916]\n",
      "Epoch 60:  95%|█████████▍| 242/255 [01:22<00:04,  2.92it/s, loss=0.322, v_num=3, train_loss=0.363, train_accuracy=0.722, val_loss=0.198, val_accuracy=0.916]\n",
      "Epoch 60:  96%|█████████▌| 244/255 [01:23<00:03,  2.94it/s, loss=0.322, v_num=3, train_loss=0.363, train_accuracy=0.722, val_loss=0.198, val_accuracy=0.916]\n",
      "Epoch 60:  96%|█████████▋| 246/255 [01:23<00:03,  2.96it/s, loss=0.322, v_num=3, train_loss=0.363, train_accuracy=0.722, val_loss=0.198, val_accuracy=0.916]\n",
      "Epoch 60:  97%|█████████▋| 248/255 [01:23<00:02,  2.98it/s, loss=0.322, v_num=3, train_loss=0.363, train_accuracy=0.722, val_loss=0.198, val_accuracy=0.916]\n",
      "Epoch 60:  98%|█████████▊| 250/255 [01:23<00:01,  3.00it/s, loss=0.322, v_num=3, train_loss=0.363, train_accuracy=0.722, val_loss=0.198, val_accuracy=0.916]\n",
      "Epoch 60:  99%|█████████▉| 252/255 [01:23<00:00,  3.01it/s, loss=0.322, v_num=3, train_loss=0.363, train_accuracy=0.722, val_loss=0.198, val_accuracy=0.916]\n",
      "Epoch 60: 100%|█████████▉| 254/255 [01:23<00:00,  3.03it/s, loss=0.322, v_num=3, train_loss=0.363, train_accuracy=0.722, val_loss=0.198, val_accuracy=0.916]\n",
      "Epoch 60: 100%|██████████| 255/255 [01:24<00:00,  3.02it/s, loss=0.322, v_num=3, train_loss=0.363, train_accuracy=0.722, val_loss=0.254, val_accuracy=0.889]\n",
      "Epoch 60: 100%|██████████| 255/255 [01:24<00:00,  3.02it/s, loss=0.322, v_num=3, train_loss=0.363, train_accuracy=0.722, val_loss=0.254, val_accuracy=0.889]"
     ]
    },
    {
     "name": "stderr",
     "output_type": "stream",
     "text": [
      "Epoch 60, global step 13785: val_loss was not in top 2\n"
     ]
    },
    {
     "name": "stdout",
     "output_type": "stream",
     "text": [
      "Epoch 61:  89%|████████▊ | 226/255 [01:17<00:09,  2.90it/s, loss=0.162, v_num=3, train_loss=0.165, train_accuracy=0.944, val_loss=0.254, val_accuracy=0.889] \n",
      "Validating: 0it [00:00, ?it/s]\u001b[A\n",
      "Validating:   0%|          | 0/29 [00:00<?, ?it/s]\u001b[A\n",
      "Epoch 61:  89%|████████▉ | 228/255 [01:21<00:09,  2.79it/s, loss=0.162, v_num=3, train_loss=0.165, train_accuracy=0.944, val_loss=0.254, val_accuracy=0.889]\n",
      "Epoch 61:  90%|█████████ | 230/255 [01:21<00:08,  2.81it/s, loss=0.162, v_num=3, train_loss=0.165, train_accuracy=0.944, val_loss=0.254, val_accuracy=0.889]\n",
      "Epoch 61:  91%|█████████ | 232/255 [01:21<00:08,  2.83it/s, loss=0.162, v_num=3, train_loss=0.165, train_accuracy=0.944, val_loss=0.254, val_accuracy=0.889]\n",
      "Epoch 61:  92%|█████████▏| 234/255 [01:22<00:07,  2.85it/s, loss=0.162, v_num=3, train_loss=0.165, train_accuracy=0.944, val_loss=0.254, val_accuracy=0.889]\n",
      "Epoch 61:  93%|█████████▎| 236/255 [01:22<00:06,  2.87it/s, loss=0.162, v_num=3, train_loss=0.165, train_accuracy=0.944, val_loss=0.254, val_accuracy=0.889]\n",
      "Epoch 61:  93%|█████████▎| 238/255 [01:22<00:05,  2.89it/s, loss=0.162, v_num=3, train_loss=0.165, train_accuracy=0.944, val_loss=0.254, val_accuracy=0.889]\n",
      "Epoch 61:  94%|█████████▍| 240/255 [01:22<00:05,  2.91it/s, loss=0.162, v_num=3, train_loss=0.165, train_accuracy=0.944, val_loss=0.254, val_accuracy=0.889]\n",
      "Epoch 61:  95%|█████████▍| 242/255 [01:22<00:04,  2.93it/s, loss=0.162, v_num=3, train_loss=0.165, train_accuracy=0.944, val_loss=0.254, val_accuracy=0.889]\n",
      "Epoch 61:  96%|█████████▌| 244/255 [01:22<00:03,  2.95it/s, loss=0.162, v_num=3, train_loss=0.165, train_accuracy=0.944, val_loss=0.254, val_accuracy=0.889]\n",
      "Epoch 61:  96%|█████████▋| 246/255 [01:22<00:03,  2.97it/s, loss=0.162, v_num=3, train_loss=0.165, train_accuracy=0.944, val_loss=0.254, val_accuracy=0.889]\n",
      "Epoch 61:  97%|█████████▋| 248/255 [01:23<00:02,  2.98it/s, loss=0.162, v_num=3, train_loss=0.165, train_accuracy=0.944, val_loss=0.254, val_accuracy=0.889]\n",
      "Epoch 61:  98%|█████████▊| 250/255 [01:23<00:01,  3.00it/s, loss=0.162, v_num=3, train_loss=0.165, train_accuracy=0.944, val_loss=0.254, val_accuracy=0.889]\n",
      "Epoch 61:  99%|█████████▉| 252/255 [01:23<00:00,  3.02it/s, loss=0.162, v_num=3, train_loss=0.165, train_accuracy=0.944, val_loss=0.254, val_accuracy=0.889]\n",
      "Epoch 61: 100%|█████████▉| 254/255 [01:23<00:00,  3.04it/s, loss=0.162, v_num=3, train_loss=0.165, train_accuracy=0.944, val_loss=0.254, val_accuracy=0.889]\n",
      "Epoch 61: 100%|██████████| 255/255 [01:24<00:00,  3.03it/s, loss=0.162, v_num=3, train_loss=0.165, train_accuracy=0.944, val_loss=0.193, val_accuracy=0.923]\n",
      "Epoch 61: 100%|██████████| 255/255 [01:24<00:00,  3.03it/s, loss=0.162, v_num=3, train_loss=0.165, train_accuracy=0.944, val_loss=0.193, val_accuracy=0.923]"
     ]
    },
    {
     "name": "stderr",
     "output_type": "stream",
     "text": [
      "Epoch 61, global step 14011: val_loss reached 0.19291 (best 0.18717), saving model to \"/Workspace/code/checkpoints/best-checkpoint-corr-mi-18-v6.ckpt\" as top 2\n"
     ]
    },
    {
     "name": "stdout",
     "output_type": "stream",
     "text": [
      "Epoch 62:  89%|████████▊ | 226/255 [01:17<00:09,  2.90it/s, loss=0.162, v_num=3, train_loss=0.234, train_accuracy=0.833, val_loss=0.193, val_accuracy=0.923] \n",
      "Validating: 0it [00:00, ?it/s]\u001b[A\n",
      "Validating:   0%|          | 0/29 [00:00<?, ?it/s]\u001b[A\n",
      "Epoch 62:  89%|████████▉ | 228/255 [01:21<00:09,  2.80it/s, loss=0.162, v_num=3, train_loss=0.234, train_accuracy=0.833, val_loss=0.193, val_accuracy=0.923]\n",
      "Epoch 62:  90%|█████████ | 230/255 [01:21<00:08,  2.82it/s, loss=0.162, v_num=3, train_loss=0.234, train_accuracy=0.833, val_loss=0.193, val_accuracy=0.923]\n",
      "Epoch 62:  91%|█████████ | 232/255 [01:21<00:08,  2.83it/s, loss=0.162, v_num=3, train_loss=0.234, train_accuracy=0.833, val_loss=0.193, val_accuracy=0.923]\n",
      "Epoch 62:  92%|█████████▏| 234/255 [01:22<00:07,  2.85it/s, loss=0.162, v_num=3, train_loss=0.234, train_accuracy=0.833, val_loss=0.193, val_accuracy=0.923]\n",
      "Epoch 62:  93%|█████████▎| 236/255 [01:22<00:06,  2.87it/s, loss=0.162, v_num=3, train_loss=0.234, train_accuracy=0.833, val_loss=0.193, val_accuracy=0.923]\n",
      "Epoch 62:  93%|█████████▎| 238/255 [01:22<00:05,  2.89it/s, loss=0.162, v_num=3, train_loss=0.234, train_accuracy=0.833, val_loss=0.193, val_accuracy=0.923]\n",
      "Epoch 62:  94%|█████████▍| 240/255 [01:22<00:05,  2.91it/s, loss=0.162, v_num=3, train_loss=0.234, train_accuracy=0.833, val_loss=0.193, val_accuracy=0.923]\n",
      "Epoch 62:  95%|█████████▍| 242/255 [01:22<00:04,  2.93it/s, loss=0.162, v_num=3, train_loss=0.234, train_accuracy=0.833, val_loss=0.193, val_accuracy=0.923]\n",
      "Epoch 62:  96%|█████████▌| 244/255 [01:22<00:03,  2.95it/s, loss=0.162, v_num=3, train_loss=0.234, train_accuracy=0.833, val_loss=0.193, val_accuracy=0.923]\n",
      "Epoch 62:  96%|█████████▋| 246/255 [01:22<00:03,  2.97it/s, loss=0.162, v_num=3, train_loss=0.234, train_accuracy=0.833, val_loss=0.193, val_accuracy=0.923]\n",
      "Epoch 62:  97%|█████████▋| 248/255 [01:23<00:02,  2.99it/s, loss=0.162, v_num=3, train_loss=0.234, train_accuracy=0.833, val_loss=0.193, val_accuracy=0.923]\n",
      "Epoch 62:  98%|█████████▊| 250/255 [01:23<00:01,  3.00it/s, loss=0.162, v_num=3, train_loss=0.234, train_accuracy=0.833, val_loss=0.193, val_accuracy=0.923]\n",
      "Epoch 62:  99%|█████████▉| 252/255 [01:23<00:00,  3.02it/s, loss=0.162, v_num=3, train_loss=0.234, train_accuracy=0.833, val_loss=0.193, val_accuracy=0.923]\n",
      "Epoch 62: 100%|█████████▉| 254/255 [01:23<00:00,  3.04it/s, loss=0.162, v_num=3, train_loss=0.234, train_accuracy=0.833, val_loss=0.193, val_accuracy=0.923]\n",
      "Epoch 62: 100%|██████████| 255/255 [01:24<00:00,  3.03it/s, loss=0.162, v_num=3, train_loss=0.234, train_accuracy=0.833, val_loss=0.183, val_accuracy=0.929]\n",
      "Epoch 62: 100%|██████████| 255/255 [01:24<00:00,  3.03it/s, loss=0.162, v_num=3, train_loss=0.234, train_accuracy=0.833, val_loss=0.183, val_accuracy=0.929]"
     ]
    },
    {
     "name": "stderr",
     "output_type": "stream",
     "text": [
      "Epoch 62, global step 14237: val_loss reached 0.18279 (best 0.18279), saving model to \"/Workspace/code/checkpoints/best-checkpoint-corr-mi-18-v6.ckpt\" as top 2\n"
     ]
    },
    {
     "name": "stdout",
     "output_type": "stream",
     "text": [
      "Epoch 63:  89%|████████▊ | 226/255 [01:17<00:10,  2.90it/s, loss=0.182, v_num=3, train_loss=0.343, train_accuracy=0.889, val_loss=0.183, val_accuracy=0.929] \n",
      "Validating: 0it [00:00, ?it/s]\u001b[A\n",
      "Validating:   0%|          | 0/29 [00:00<?, ?it/s]\u001b[A\n",
      "Epoch 63:  89%|████████▉ | 228/255 [01:21<00:09,  2.79it/s, loss=0.182, v_num=3, train_loss=0.343, train_accuracy=0.889, val_loss=0.183, val_accuracy=0.929]\n",
      "Epoch 63:  90%|█████████ | 230/255 [01:21<00:08,  2.81it/s, loss=0.182, v_num=3, train_loss=0.343, train_accuracy=0.889, val_loss=0.183, val_accuracy=0.929]\n",
      "Epoch 63:  91%|█████████ | 232/255 [01:21<00:08,  2.83it/s, loss=0.182, v_num=3, train_loss=0.343, train_accuracy=0.889, val_loss=0.183, val_accuracy=0.929]\n",
      "Epoch 63:  92%|█████████▏| 234/255 [01:22<00:07,  2.85it/s, loss=0.182, v_num=3, train_loss=0.343, train_accuracy=0.889, val_loss=0.183, val_accuracy=0.929]\n",
      "Epoch 63:  93%|█████████▎| 236/255 [01:22<00:06,  2.87it/s, loss=0.182, v_num=3, train_loss=0.343, train_accuracy=0.889, val_loss=0.183, val_accuracy=0.929]\n",
      "Epoch 63:  93%|█████████▎| 238/255 [01:22<00:05,  2.89it/s, loss=0.182, v_num=3, train_loss=0.343, train_accuracy=0.889, val_loss=0.183, val_accuracy=0.929]\n",
      "Epoch 63:  94%|█████████▍| 240/255 [01:22<00:05,  2.91it/s, loss=0.182, v_num=3, train_loss=0.343, train_accuracy=0.889, val_loss=0.183, val_accuracy=0.929]\n",
      "Epoch 63:  95%|█████████▍| 242/255 [01:22<00:04,  2.93it/s, loss=0.182, v_num=3, train_loss=0.343, train_accuracy=0.889, val_loss=0.183, val_accuracy=0.929]\n",
      "Epoch 63:  96%|█████████▌| 244/255 [01:22<00:03,  2.94it/s, loss=0.182, v_num=3, train_loss=0.343, train_accuracy=0.889, val_loss=0.183, val_accuracy=0.929]\n",
      "Epoch 63:  96%|█████████▋| 246/255 [01:23<00:03,  2.96it/s, loss=0.182, v_num=3, train_loss=0.343, train_accuracy=0.889, val_loss=0.183, val_accuracy=0.929]\n",
      "Epoch 63:  97%|█████████▋| 248/255 [01:23<00:02,  2.98it/s, loss=0.182, v_num=3, train_loss=0.343, train_accuracy=0.889, val_loss=0.183, val_accuracy=0.929]\n",
      "Epoch 63:  98%|█████████▊| 250/255 [01:23<00:01,  3.00it/s, loss=0.182, v_num=3, train_loss=0.343, train_accuracy=0.889, val_loss=0.183, val_accuracy=0.929]\n",
      "Epoch 63:  99%|█████████▉| 252/255 [01:23<00:00,  3.02it/s, loss=0.182, v_num=3, train_loss=0.343, train_accuracy=0.889, val_loss=0.183, val_accuracy=0.929]\n",
      "Epoch 63: 100%|█████████▉| 254/255 [01:23<00:00,  3.04it/s, loss=0.182, v_num=3, train_loss=0.343, train_accuracy=0.889, val_loss=0.183, val_accuracy=0.929]\n",
      "Epoch 63: 100%|██████████| 255/255 [01:24<00:00,  3.02it/s, loss=0.182, v_num=3, train_loss=0.343, train_accuracy=0.889, val_loss=0.216, val_accuracy=0.921]\n",
      "Epoch 63: 100%|██████████| 255/255 [01:24<00:00,  3.02it/s, loss=0.182, v_num=3, train_loss=0.343, train_accuracy=0.889, val_loss=0.216, val_accuracy=0.921]"
     ]
    },
    {
     "name": "stderr",
     "output_type": "stream",
     "text": [
      "Epoch 63, global step 14463: val_loss was not in top 2\n"
     ]
    },
    {
     "name": "stdout",
     "output_type": "stream",
     "text": [
      "Epoch 64:  89%|████████▊ | 226/255 [01:18<00:10,  2.90it/s, loss=0.139, v_num=3, train_loss=0.130, train_accuracy=0.944, val_loss=0.216, val_accuracy=0.921] \n",
      "Validating: 0it [00:00, ?it/s]\u001b[A\n",
      "Validating:   0%|          | 0/29 [00:00<?, ?it/s]\u001b[A\n",
      "Epoch 64:  89%|████████▉ | 228/255 [01:21<00:09,  2.79it/s, loss=0.139, v_num=3, train_loss=0.130, train_accuracy=0.944, val_loss=0.216, val_accuracy=0.921]\n",
      "Epoch 64:  90%|█████████ | 230/255 [01:21<00:08,  2.81it/s, loss=0.139, v_num=3, train_loss=0.130, train_accuracy=0.944, val_loss=0.216, val_accuracy=0.921]\n",
      "Epoch 64:  91%|█████████ | 232/255 [01:22<00:08,  2.83it/s, loss=0.139, v_num=3, train_loss=0.130, train_accuracy=0.944, val_loss=0.216, val_accuracy=0.921]\n",
      "Epoch 64:  92%|█████████▏| 234/255 [01:22<00:07,  2.85it/s, loss=0.139, v_num=3, train_loss=0.130, train_accuracy=0.944, val_loss=0.216, val_accuracy=0.921]\n",
      "Epoch 64:  93%|█████████▎| 236/255 [01:22<00:06,  2.87it/s, loss=0.139, v_num=3, train_loss=0.130, train_accuracy=0.944, val_loss=0.216, val_accuracy=0.921]\n",
      "Epoch 64:  93%|█████████▎| 238/255 [01:22<00:05,  2.89it/s, loss=0.139, v_num=3, train_loss=0.130, train_accuracy=0.944, val_loss=0.216, val_accuracy=0.921]\n",
      "Epoch 64:  94%|█████████▍| 240/255 [01:22<00:05,  2.90it/s, loss=0.139, v_num=3, train_loss=0.130, train_accuracy=0.944, val_loss=0.216, val_accuracy=0.921]\n",
      "Epoch 64:  95%|█████████▍| 242/255 [01:22<00:04,  2.92it/s, loss=0.139, v_num=3, train_loss=0.130, train_accuracy=0.944, val_loss=0.216, val_accuracy=0.921]\n",
      "Epoch 64:  96%|█████████▌| 244/255 [01:22<00:03,  2.94it/s, loss=0.139, v_num=3, train_loss=0.130, train_accuracy=0.944, val_loss=0.216, val_accuracy=0.921]\n",
      "Epoch 64:  96%|█████████▋| 246/255 [01:23<00:03,  2.96it/s, loss=0.139, v_num=3, train_loss=0.130, train_accuracy=0.944, val_loss=0.216, val_accuracy=0.921]\n",
      "Epoch 64:  97%|█████████▋| 248/255 [01:23<00:02,  2.98it/s, loss=0.139, v_num=3, train_loss=0.130, train_accuracy=0.944, val_loss=0.216, val_accuracy=0.921]\n",
      "Epoch 64:  98%|█████████▊| 250/255 [01:23<00:01,  3.00it/s, loss=0.139, v_num=3, train_loss=0.130, train_accuracy=0.944, val_loss=0.216, val_accuracy=0.921]\n",
      "Epoch 64:  99%|█████████▉| 252/255 [01:23<00:00,  3.02it/s, loss=0.139, v_num=3, train_loss=0.130, train_accuracy=0.944, val_loss=0.216, val_accuracy=0.921]\n",
      "Epoch 64: 100%|█████████▉| 254/255 [01:23<00:00,  3.04it/s, loss=0.139, v_num=3, train_loss=0.130, train_accuracy=0.944, val_loss=0.216, val_accuracy=0.921]\n",
      "Epoch 64: 100%|██████████| 255/255 [01:24<00:00,  3.02it/s, loss=0.139, v_num=3, train_loss=0.130, train_accuracy=0.944, val_loss=0.196, val_accuracy=0.917]\n",
      "Epoch 64: 100%|██████████| 255/255 [01:24<00:00,  3.02it/s, loss=0.139, v_num=3, train_loss=0.130, train_accuracy=0.944, val_loss=0.196, val_accuracy=0.917]"
     ]
    },
    {
     "name": "stderr",
     "output_type": "stream",
     "text": [
      "Epoch 64, global step 14689: val_loss was not in top 2\n"
     ]
    },
    {
     "name": "stdout",
     "output_type": "stream",
     "text": [
      "Epoch 65:  89%|████████▊ | 226/255 [01:18<00:10,  2.89it/s, loss=0.137, v_num=3, train_loss=0.0275, train_accuracy=1.000, val_loss=0.196, val_accuracy=0.917] \n",
      "Validating: 0it [00:00, ?it/s]\u001b[A\n",
      "Validating:   0%|          | 0/29 [00:00<?, ?it/s]\u001b[A\n",
      "Epoch 65:  89%|████████▉ | 228/255 [01:21<00:09,  2.79it/s, loss=0.137, v_num=3, train_loss=0.0275, train_accuracy=1.000, val_loss=0.196, val_accuracy=0.917]\n",
      "Epoch 65:  90%|█████████ | 230/255 [01:21<00:08,  2.80it/s, loss=0.137, v_num=3, train_loss=0.0275, train_accuracy=1.000, val_loss=0.196, val_accuracy=0.917]\n",
      "Epoch 65:  91%|█████████ | 232/255 [01:22<00:08,  2.82it/s, loss=0.137, v_num=3, train_loss=0.0275, train_accuracy=1.000, val_loss=0.196, val_accuracy=0.917]\n",
      "Epoch 65:  92%|█████████▏| 234/255 [01:22<00:07,  2.84it/s, loss=0.137, v_num=3, train_loss=0.0275, train_accuracy=1.000, val_loss=0.196, val_accuracy=0.917]\n",
      "Epoch 65:  93%|█████████▎| 236/255 [01:22<00:06,  2.86it/s, loss=0.137, v_num=3, train_loss=0.0275, train_accuracy=1.000, val_loss=0.196, val_accuracy=0.917]\n",
      "Epoch 65:  93%|█████████▎| 238/255 [01:22<00:05,  2.88it/s, loss=0.137, v_num=3, train_loss=0.0275, train_accuracy=1.000, val_loss=0.196, val_accuracy=0.917]\n",
      "Epoch 65:  94%|█████████▍| 240/255 [01:22<00:05,  2.90it/s, loss=0.137, v_num=3, train_loss=0.0275, train_accuracy=1.000, val_loss=0.196, val_accuracy=0.917]\n",
      "Epoch 65:  95%|█████████▍| 242/255 [01:22<00:04,  2.92it/s, loss=0.137, v_num=3, train_loss=0.0275, train_accuracy=1.000, val_loss=0.196, val_accuracy=0.917]\n",
      "Epoch 65:  96%|█████████▌| 244/255 [01:23<00:03,  2.94it/s, loss=0.137, v_num=3, train_loss=0.0275, train_accuracy=1.000, val_loss=0.196, val_accuracy=0.917]\n",
      "Epoch 65:  96%|█████████▋| 246/255 [01:23<00:03,  2.96it/s, loss=0.137, v_num=3, train_loss=0.0275, train_accuracy=1.000, val_loss=0.196, val_accuracy=0.917]\n",
      "Epoch 65:  97%|█████████▋| 248/255 [01:23<00:02,  2.98it/s, loss=0.137, v_num=3, train_loss=0.0275, train_accuracy=1.000, val_loss=0.196, val_accuracy=0.917]\n",
      "Epoch 65:  98%|█████████▊| 250/255 [01:23<00:01,  2.99it/s, loss=0.137, v_num=3, train_loss=0.0275, train_accuracy=1.000, val_loss=0.196, val_accuracy=0.917]\n",
      "Epoch 65:  99%|█████████▉| 252/255 [01:23<00:00,  3.01it/s, loss=0.137, v_num=3, train_loss=0.0275, train_accuracy=1.000, val_loss=0.196, val_accuracy=0.917]\n",
      "Epoch 65: 100%|█████████▉| 254/255 [01:23<00:00,  3.03it/s, loss=0.137, v_num=3, train_loss=0.0275, train_accuracy=1.000, val_loss=0.196, val_accuracy=0.917]\n",
      "Epoch 65: 100%|██████████| 255/255 [01:24<00:00,  3.02it/s, loss=0.137, v_num=3, train_loss=0.0275, train_accuracy=1.000, val_loss=0.200, val_accuracy=0.925]\n",
      "Epoch 65: 100%|██████████| 255/255 [01:24<00:00,  3.02it/s, loss=0.137, v_num=3, train_loss=0.0275, train_accuracy=1.000, val_loss=0.200, val_accuracy=0.925]"
     ]
    },
    {
     "name": "stderr",
     "output_type": "stream",
     "text": [
      "Epoch 65, global step 14915: val_loss was not in top 2\n"
     ]
    },
    {
     "name": "stdout",
     "output_type": "stream",
     "text": [
      "Epoch 66:  89%|████████▊ | 226/255 [01:17<00:10,  2.90it/s, loss=0.146, v_num=3, train_loss=0.134, train_accuracy=0.833, val_loss=0.200, val_accuracy=0.925] \n",
      "Validating: 0it [00:00, ?it/s]\u001b[A\n",
      "Validating:   0%|          | 0/29 [00:00<?, ?it/s]\u001b[A\n",
      "Epoch 66:  89%|████████▉ | 228/255 [01:21<00:09,  2.79it/s, loss=0.146, v_num=3, train_loss=0.134, train_accuracy=0.833, val_loss=0.200, val_accuracy=0.925]\n",
      "Epoch 66:  90%|█████████ | 230/255 [01:21<00:08,  2.81it/s, loss=0.146, v_num=3, train_loss=0.134, train_accuracy=0.833, val_loss=0.200, val_accuracy=0.925]\n",
      "Epoch 66:  91%|█████████ | 232/255 [01:21<00:08,  2.83it/s, loss=0.146, v_num=3, train_loss=0.134, train_accuracy=0.833, val_loss=0.200, val_accuracy=0.925]\n",
      "Epoch 66:  92%|█████████▏| 234/255 [01:22<00:07,  2.85it/s, loss=0.146, v_num=3, train_loss=0.134, train_accuracy=0.833, val_loss=0.200, val_accuracy=0.925]\n",
      "Epoch 66:  93%|█████████▎| 236/255 [01:22<00:06,  2.87it/s, loss=0.146, v_num=3, train_loss=0.134, train_accuracy=0.833, val_loss=0.200, val_accuracy=0.925]\n",
      "Epoch 66:  93%|█████████▎| 238/255 [01:22<00:05,  2.89it/s, loss=0.146, v_num=3, train_loss=0.134, train_accuracy=0.833, val_loss=0.200, val_accuracy=0.925]\n",
      "Epoch 66:  94%|█████████▍| 240/255 [01:22<00:05,  2.91it/s, loss=0.146, v_num=3, train_loss=0.134, train_accuracy=0.833, val_loss=0.200, val_accuracy=0.925]\n",
      "Epoch 66:  95%|█████████▍| 242/255 [01:22<00:04,  2.93it/s, loss=0.146, v_num=3, train_loss=0.134, train_accuracy=0.833, val_loss=0.200, val_accuracy=0.925]\n",
      "Epoch 66:  96%|█████████▌| 244/255 [01:22<00:03,  2.94it/s, loss=0.146, v_num=3, train_loss=0.134, train_accuracy=0.833, val_loss=0.200, val_accuracy=0.925]\n",
      "Epoch 66:  96%|█████████▋| 246/255 [01:23<00:03,  2.96it/s, loss=0.146, v_num=3, train_loss=0.134, train_accuracy=0.833, val_loss=0.200, val_accuracy=0.925]\n",
      "Epoch 66:  97%|█████████▋| 248/255 [01:23<00:02,  2.98it/s, loss=0.146, v_num=3, train_loss=0.134, train_accuracy=0.833, val_loss=0.200, val_accuracy=0.925]\n",
      "Epoch 66:  98%|█████████▊| 250/255 [01:23<00:01,  3.00it/s, loss=0.146, v_num=3, train_loss=0.134, train_accuracy=0.833, val_loss=0.200, val_accuracy=0.925]\n",
      "Epoch 66:  99%|█████████▉| 252/255 [01:23<00:00,  3.02it/s, loss=0.146, v_num=3, train_loss=0.134, train_accuracy=0.833, val_loss=0.200, val_accuracy=0.925]\n",
      "Epoch 66: 100%|█████████▉| 254/255 [01:23<00:00,  3.04it/s, loss=0.146, v_num=3, train_loss=0.134, train_accuracy=0.833, val_loss=0.200, val_accuracy=0.925]\n",
      "Epoch 66: 100%|██████████| 255/255 [01:24<00:00,  3.02it/s, loss=0.146, v_num=3, train_loss=0.134, train_accuracy=0.833, val_loss=0.183, val_accuracy=0.923]\n",
      "Epoch 66: 100%|██████████| 255/255 [01:24<00:00,  3.02it/s, loss=0.146, v_num=3, train_loss=0.134, train_accuracy=0.833, val_loss=0.183, val_accuracy=0.923]"
     ]
    },
    {
     "name": "stderr",
     "output_type": "stream",
     "text": [
      "Epoch 66, global step 15141: val_loss reached 0.18342 (best 0.18279), saving model to \"/Workspace/code/checkpoints/best-checkpoint-corr-mi-18-v7.ckpt\" as top 2\n"
     ]
    },
    {
     "name": "stdout",
     "output_type": "stream",
     "text": [
      "Epoch 67:  89%|████████▊ | 226/255 [01:18<00:10,  2.89it/s, loss=0.135, v_num=3, train_loss=0.431, train_accuracy=0.778, val_loss=0.183, val_accuracy=0.923] \n",
      "Validating: 0it [00:00, ?it/s]\u001b[A\n",
      "Validating:   0%|          | 0/29 [00:00<?, ?it/s]\u001b[A\n",
      "Epoch 67:  89%|████████▉ | 228/255 [01:21<00:09,  2.78it/s, loss=0.135, v_num=3, train_loss=0.431, train_accuracy=0.778, val_loss=0.183, val_accuracy=0.923]\n",
      "Epoch 67:  90%|█████████ | 230/255 [01:22<00:08,  2.80it/s, loss=0.135, v_num=3, train_loss=0.431, train_accuracy=0.778, val_loss=0.183, val_accuracy=0.923]\n",
      "Epoch 67:  91%|█████████ | 232/255 [01:22<00:08,  2.82it/s, loss=0.135, v_num=3, train_loss=0.431, train_accuracy=0.778, val_loss=0.183, val_accuracy=0.923]\n",
      "Epoch 67:  92%|█████████▏| 234/255 [01:22<00:07,  2.84it/s, loss=0.135, v_num=3, train_loss=0.431, train_accuracy=0.778, val_loss=0.183, val_accuracy=0.923]\n",
      "Epoch 67:  93%|█████████▎| 236/255 [01:22<00:06,  2.86it/s, loss=0.135, v_num=3, train_loss=0.431, train_accuracy=0.778, val_loss=0.183, val_accuracy=0.923]\n",
      "Epoch 67:  93%|█████████▎| 238/255 [01:22<00:05,  2.88it/s, loss=0.135, v_num=3, train_loss=0.431, train_accuracy=0.778, val_loss=0.183, val_accuracy=0.923]\n",
      "Epoch 67:  94%|█████████▍| 240/255 [01:22<00:05,  2.90it/s, loss=0.135, v_num=3, train_loss=0.431, train_accuracy=0.778, val_loss=0.183, val_accuracy=0.923]\n",
      "Epoch 67:  95%|█████████▍| 242/255 [01:22<00:04,  2.92it/s, loss=0.135, v_num=3, train_loss=0.431, train_accuracy=0.778, val_loss=0.183, val_accuracy=0.923]\n",
      "Epoch 67:  96%|█████████▌| 244/255 [01:23<00:03,  2.94it/s, loss=0.135, v_num=3, train_loss=0.431, train_accuracy=0.778, val_loss=0.183, val_accuracy=0.923]\n",
      "Epoch 67:  96%|█████████▋| 246/255 [01:23<00:03,  2.95it/s, loss=0.135, v_num=3, train_loss=0.431, train_accuracy=0.778, val_loss=0.183, val_accuracy=0.923]\n",
      "Epoch 67:  97%|█████████▋| 248/255 [01:23<00:02,  2.97it/s, loss=0.135, v_num=3, train_loss=0.431, train_accuracy=0.778, val_loss=0.183, val_accuracy=0.923]\n",
      "Epoch 67:  98%|█████████▊| 250/255 [01:23<00:01,  2.99it/s, loss=0.135, v_num=3, train_loss=0.431, train_accuracy=0.778, val_loss=0.183, val_accuracy=0.923]\n",
      "Epoch 67:  99%|█████████▉| 252/255 [01:23<00:00,  3.01it/s, loss=0.135, v_num=3, train_loss=0.431, train_accuracy=0.778, val_loss=0.183, val_accuracy=0.923]\n",
      "Epoch 67: 100%|█████████▉| 254/255 [01:23<00:00,  3.03it/s, loss=0.135, v_num=3, train_loss=0.431, train_accuracy=0.778, val_loss=0.183, val_accuracy=0.923]\n",
      "Epoch 67: 100%|██████████| 255/255 [01:24<00:00,  3.02it/s, loss=0.135, v_num=3, train_loss=0.431, train_accuracy=0.778, val_loss=0.180, val_accuracy=0.925]\n",
      "Epoch 67: 100%|██████████| 255/255 [01:24<00:00,  3.02it/s, loss=0.135, v_num=3, train_loss=0.431, train_accuracy=0.778, val_loss=0.180, val_accuracy=0.925]"
     ]
    },
    {
     "name": "stderr",
     "output_type": "stream",
     "text": [
      "Epoch 67, global step 15367: val_loss reached 0.18049 (best 0.18049), saving model to \"/Workspace/code/checkpoints/best-checkpoint-corr-mi-18-v7.ckpt\" as top 2\n"
     ]
    },
    {
     "name": "stdout",
     "output_type": "stream",
     "text": [
      "Epoch 68:  89%|████████▊ | 226/255 [01:17<00:10,  2.90it/s, loss=0.118, v_num=3, train_loss=0.188, train_accuracy=0.889, val_loss=0.180, val_accuracy=0.925]  \n",
      "Validating: 0it [00:00, ?it/s]\u001b[A\n",
      "Validating:   0%|          | 0/29 [00:00<?, ?it/s]\u001b[A\n",
      "Epoch 68:  89%|████████▉ | 228/255 [01:21<00:09,  2.79it/s, loss=0.118, v_num=3, train_loss=0.188, train_accuracy=0.889, val_loss=0.180, val_accuracy=0.925]\n",
      "Epoch 68:  90%|█████████ | 230/255 [01:21<00:08,  2.81it/s, loss=0.118, v_num=3, train_loss=0.188, train_accuracy=0.889, val_loss=0.180, val_accuracy=0.925]\n",
      "Epoch 68:  91%|█████████ | 232/255 [01:21<00:08,  2.83it/s, loss=0.118, v_num=3, train_loss=0.188, train_accuracy=0.889, val_loss=0.180, val_accuracy=0.925]\n",
      "Epoch 68:  92%|█████████▏| 234/255 [01:22<00:07,  2.85it/s, loss=0.118, v_num=3, train_loss=0.188, train_accuracy=0.889, val_loss=0.180, val_accuracy=0.925]\n",
      "Epoch 68:  93%|█████████▎| 236/255 [01:22<00:06,  2.87it/s, loss=0.118, v_num=3, train_loss=0.188, train_accuracy=0.889, val_loss=0.180, val_accuracy=0.925]\n",
      "Epoch 68:  93%|█████████▎| 238/255 [01:22<00:05,  2.89it/s, loss=0.118, v_num=3, train_loss=0.188, train_accuracy=0.889, val_loss=0.180, val_accuracy=0.925]\n",
      "Epoch 68:  94%|█████████▍| 240/255 [01:22<00:05,  2.91it/s, loss=0.118, v_num=3, train_loss=0.188, train_accuracy=0.889, val_loss=0.180, val_accuracy=0.925]\n",
      "Epoch 68:  95%|█████████▍| 242/255 [01:22<00:04,  2.92it/s, loss=0.118, v_num=3, train_loss=0.188, train_accuracy=0.889, val_loss=0.180, val_accuracy=0.925]\n",
      "Epoch 68:  96%|█████████▌| 244/255 [01:22<00:03,  2.94it/s, loss=0.118, v_num=3, train_loss=0.188, train_accuracy=0.889, val_loss=0.180, val_accuracy=0.925]\n",
      "Epoch 68:  96%|█████████▋| 246/255 [01:23<00:03,  2.96it/s, loss=0.118, v_num=3, train_loss=0.188, train_accuracy=0.889, val_loss=0.180, val_accuracy=0.925]\n",
      "Epoch 68:  97%|█████████▋| 248/255 [01:23<00:02,  2.98it/s, loss=0.118, v_num=3, train_loss=0.188, train_accuracy=0.889, val_loss=0.180, val_accuracy=0.925]\n",
      "Epoch 68:  98%|█████████▊| 250/255 [01:23<00:01,  3.00it/s, loss=0.118, v_num=3, train_loss=0.188, train_accuracy=0.889, val_loss=0.180, val_accuracy=0.925]\n",
      "Epoch 68:  99%|█████████▉| 252/255 [01:23<00:00,  3.02it/s, loss=0.118, v_num=3, train_loss=0.188, train_accuracy=0.889, val_loss=0.180, val_accuracy=0.925]\n",
      "Epoch 68: 100%|█████████▉| 254/255 [01:23<00:00,  3.04it/s, loss=0.118, v_num=3, train_loss=0.188, train_accuracy=0.889, val_loss=0.180, val_accuracy=0.925]\n",
      "Epoch 68: 100%|██████████| 255/255 [01:24<00:00,  3.02it/s, loss=0.118, v_num=3, train_loss=0.188, train_accuracy=0.889, val_loss=0.180, val_accuracy=0.925]\n",
      "Epoch 68: 100%|██████████| 255/255 [01:24<00:00,  3.02it/s, loss=0.118, v_num=3, train_loss=0.188, train_accuracy=0.889, val_loss=0.180, val_accuracy=0.925]"
     ]
    },
    {
     "name": "stderr",
     "output_type": "stream",
     "text": [
      "Epoch 68, global step 15593: val_loss reached 0.17997 (best 0.17997), saving model to \"/Workspace/code/checkpoints/best-checkpoint-corr-mi-18-v6.ckpt\" as top 2\n"
     ]
    },
    {
     "name": "stdout",
     "output_type": "stream",
     "text": [
      "Epoch 69:  89%|████████▊ | 226/255 [01:18<00:10,  2.90it/s, loss=0.13, v_num=3, train_loss=0.133, train_accuracy=0.944, val_loss=0.180, val_accuracy=0.925]  \n",
      "Validating: 0it [00:00, ?it/s]\u001b[A\n",
      "Validating:   0%|          | 0/29 [00:00<?, ?it/s]\u001b[A\n",
      "Epoch 69:  89%|████████▉ | 228/255 [01:21<00:09,  2.79it/s, loss=0.13, v_num=3, train_loss=0.133, train_accuracy=0.944, val_loss=0.180, val_accuracy=0.925]\n",
      "Epoch 69:  90%|█████████ | 230/255 [01:21<00:08,  2.81it/s, loss=0.13, v_num=3, train_loss=0.133, train_accuracy=0.944, val_loss=0.180, val_accuracy=0.925]\n",
      "Epoch 69:  91%|█████████ | 232/255 [01:22<00:08,  2.83it/s, loss=0.13, v_num=3, train_loss=0.133, train_accuracy=0.944, val_loss=0.180, val_accuracy=0.925]\n",
      "Epoch 69:  92%|█████████▏| 234/255 [01:22<00:07,  2.85it/s, loss=0.13, v_num=3, train_loss=0.133, train_accuracy=0.944, val_loss=0.180, val_accuracy=0.925]\n",
      "Epoch 69:  93%|█████████▎| 236/255 [01:22<00:06,  2.87it/s, loss=0.13, v_num=3, train_loss=0.133, train_accuracy=0.944, val_loss=0.180, val_accuracy=0.925]\n",
      "Epoch 69:  93%|█████████▎| 238/255 [01:22<00:05,  2.89it/s, loss=0.13, v_num=3, train_loss=0.133, train_accuracy=0.944, val_loss=0.180, val_accuracy=0.925]\n",
      "Epoch 69:  94%|█████████▍| 240/255 [01:22<00:05,  2.91it/s, loss=0.13, v_num=3, train_loss=0.133, train_accuracy=0.944, val_loss=0.180, val_accuracy=0.925]\n",
      "Epoch 69:  95%|█████████▍| 242/255 [01:22<00:04,  2.93it/s, loss=0.13, v_num=3, train_loss=0.133, train_accuracy=0.944, val_loss=0.180, val_accuracy=0.925]\n",
      "Epoch 69:  96%|█████████▌| 244/255 [01:22<00:03,  2.94it/s, loss=0.13, v_num=3, train_loss=0.133, train_accuracy=0.944, val_loss=0.180, val_accuracy=0.925]\n",
      "Epoch 69:  96%|█████████▋| 246/255 [01:23<00:03,  2.96it/s, loss=0.13, v_num=3, train_loss=0.133, train_accuracy=0.944, val_loss=0.180, val_accuracy=0.925]\n",
      "Epoch 69:  97%|█████████▋| 248/255 [01:23<00:02,  2.98it/s, loss=0.13, v_num=3, train_loss=0.133, train_accuracy=0.944, val_loss=0.180, val_accuracy=0.925]\n",
      "Epoch 69:  98%|█████████▊| 250/255 [01:23<00:01,  3.00it/s, loss=0.13, v_num=3, train_loss=0.133, train_accuracy=0.944, val_loss=0.180, val_accuracy=0.925]\n",
      "Epoch 69:  99%|█████████▉| 252/255 [01:23<00:00,  3.02it/s, loss=0.13, v_num=3, train_loss=0.133, train_accuracy=0.944, val_loss=0.180, val_accuracy=0.925]\n",
      "Epoch 69: 100%|█████████▉| 254/255 [01:23<00:00,  3.04it/s, loss=0.13, v_num=3, train_loss=0.133, train_accuracy=0.944, val_loss=0.180, val_accuracy=0.925]\n",
      "Epoch 69: 100%|██████████| 255/255 [01:24<00:00,  3.03it/s, loss=0.13, v_num=3, train_loss=0.133, train_accuracy=0.944, val_loss=0.169, val_accuracy=0.928]\n",
      "Epoch 69: 100%|██████████| 255/255 [01:24<00:00,  3.03it/s, loss=0.13, v_num=3, train_loss=0.133, train_accuracy=0.944, val_loss=0.169, val_accuracy=0.928]"
     ]
    },
    {
     "name": "stderr",
     "output_type": "stream",
     "text": [
      "Epoch 69, global step 15819: val_loss reached 0.16945 (best 0.16945), saving model to \"/Workspace/code/checkpoints/best-checkpoint-corr-mi-18-v7.ckpt\" as top 2\n"
     ]
    },
    {
     "name": "stdout",
     "output_type": "stream",
     "text": [
      "Epoch 70:  89%|████████▊ | 226/255 [01:18<00:10,  2.90it/s, loss=0.0987, v_num=3, train_loss=0.143, train_accuracy=0.944, val_loss=0.169, val_accuracy=0.928] \n",
      "Validating: 0it [00:00, ?it/s]\u001b[A\n",
      "Validating:   0%|          | 0/29 [00:00<?, ?it/s]\u001b[A\n",
      "Epoch 70:  89%|████████▉ | 228/255 [01:21<00:09,  2.79it/s, loss=0.0987, v_num=3, train_loss=0.143, train_accuracy=0.944, val_loss=0.169, val_accuracy=0.928]\n",
      "Epoch 70:  90%|█████████ | 230/255 [01:21<00:08,  2.81it/s, loss=0.0987, v_num=3, train_loss=0.143, train_accuracy=0.944, val_loss=0.169, val_accuracy=0.928]\n",
      "Epoch 70:  91%|█████████ | 232/255 [01:22<00:08,  2.83it/s, loss=0.0987, v_num=3, train_loss=0.143, train_accuracy=0.944, val_loss=0.169, val_accuracy=0.928]\n",
      "Epoch 70:  92%|█████████▏| 234/255 [01:22<00:07,  2.85it/s, loss=0.0987, v_num=3, train_loss=0.143, train_accuracy=0.944, val_loss=0.169, val_accuracy=0.928]\n",
      "Epoch 70:  93%|█████████▎| 236/255 [01:22<00:06,  2.87it/s, loss=0.0987, v_num=3, train_loss=0.143, train_accuracy=0.944, val_loss=0.169, val_accuracy=0.928]\n",
      "Epoch 70:  93%|█████████▎| 238/255 [01:22<00:05,  2.89it/s, loss=0.0987, v_num=3, train_loss=0.143, train_accuracy=0.944, val_loss=0.169, val_accuracy=0.928]\n",
      "Epoch 70:  94%|█████████▍| 240/255 [01:22<00:05,  2.90it/s, loss=0.0987, v_num=3, train_loss=0.143, train_accuracy=0.944, val_loss=0.169, val_accuracy=0.928]\n",
      "Epoch 70:  95%|█████████▍| 242/255 [01:22<00:04,  2.92it/s, loss=0.0987, v_num=3, train_loss=0.143, train_accuracy=0.944, val_loss=0.169, val_accuracy=0.928]\n",
      "Epoch 70:  96%|█████████▌| 244/255 [01:22<00:03,  2.94it/s, loss=0.0987, v_num=3, train_loss=0.143, train_accuracy=0.944, val_loss=0.169, val_accuracy=0.928]\n",
      "Epoch 70:  96%|█████████▋| 246/255 [01:23<00:03,  2.96it/s, loss=0.0987, v_num=3, train_loss=0.143, train_accuracy=0.944, val_loss=0.169, val_accuracy=0.928]\n",
      "Epoch 70:  97%|█████████▋| 248/255 [01:23<00:02,  2.98it/s, loss=0.0987, v_num=3, train_loss=0.143, train_accuracy=0.944, val_loss=0.169, val_accuracy=0.928]\n",
      "Epoch 70:  98%|█████████▊| 250/255 [01:23<00:01,  3.00it/s, loss=0.0987, v_num=3, train_loss=0.143, train_accuracy=0.944, val_loss=0.169, val_accuracy=0.928]\n",
      "Epoch 70:  99%|█████████▉| 252/255 [01:23<00:00,  3.02it/s, loss=0.0987, v_num=3, train_loss=0.143, train_accuracy=0.944, val_loss=0.169, val_accuracy=0.928]\n",
      "Epoch 70: 100%|█████████▉| 254/255 [01:23<00:00,  3.04it/s, loss=0.0987, v_num=3, train_loss=0.143, train_accuracy=0.944, val_loss=0.169, val_accuracy=0.928]\n",
      "Epoch 70: 100%|██████████| 255/255 [01:24<00:00,  3.02it/s, loss=0.0987, v_num=3, train_loss=0.143, train_accuracy=0.944, val_loss=0.163, val_accuracy=0.928]\n",
      "Epoch 70: 100%|██████████| 255/255 [01:24<00:00,  3.02it/s, loss=0.0987, v_num=3, train_loss=0.143, train_accuracy=0.944, val_loss=0.163, val_accuracy=0.928]"
     ]
    },
    {
     "name": "stderr",
     "output_type": "stream",
     "text": [
      "Epoch 70, global step 16045: val_loss reached 0.16260 (best 0.16260), saving model to \"/Workspace/code/checkpoints/best-checkpoint-corr-mi-18-v6.ckpt\" as top 2\n"
     ]
    },
    {
     "name": "stdout",
     "output_type": "stream",
     "text": [
      "Epoch 71:  89%|████████▊ | 226/255 [01:17<00:09,  2.92it/s, loss=0.127, v_num=3, train_loss=0.251, train_accuracy=0.889, val_loss=0.163, val_accuracy=0.928]   \n",
      "Validating: 0it [00:00, ?it/s]\u001b[A\n",
      "Validating:   0%|          | 0/29 [00:00<?, ?it/s]\u001b[A\n",
      "Epoch 71:  89%|████████▉ | 228/255 [01:21<00:09,  2.81it/s, loss=0.127, v_num=3, train_loss=0.251, train_accuracy=0.889, val_loss=0.163, val_accuracy=0.928]\n",
      "Epoch 71:  90%|█████████ | 230/255 [01:21<00:08,  2.83it/s, loss=0.127, v_num=3, train_loss=0.251, train_accuracy=0.889, val_loss=0.163, val_accuracy=0.928]\n",
      "Epoch 71:  91%|█████████ | 232/255 [01:21<00:08,  2.85it/s, loss=0.127, v_num=3, train_loss=0.251, train_accuracy=0.889, val_loss=0.163, val_accuracy=0.928]\n",
      "Epoch 71:  92%|█████████▏| 234/255 [01:21<00:07,  2.87it/s, loss=0.127, v_num=3, train_loss=0.251, train_accuracy=0.889, val_loss=0.163, val_accuracy=0.928]\n",
      "Epoch 71:  93%|█████████▎| 236/255 [01:21<00:06,  2.89it/s, loss=0.127, v_num=3, train_loss=0.251, train_accuracy=0.889, val_loss=0.163, val_accuracy=0.928]\n",
      "Epoch 71:  93%|█████████▎| 238/255 [01:21<00:05,  2.91it/s, loss=0.127, v_num=3, train_loss=0.251, train_accuracy=0.889, val_loss=0.163, val_accuracy=0.928]\n",
      "Epoch 71:  94%|█████████▍| 240/255 [01:21<00:05,  2.93it/s, loss=0.127, v_num=3, train_loss=0.251, train_accuracy=0.889, val_loss=0.163, val_accuracy=0.928]\n",
      "Epoch 71:  95%|█████████▍| 242/255 [01:22<00:04,  2.95it/s, loss=0.127, v_num=3, train_loss=0.251, train_accuracy=0.889, val_loss=0.163, val_accuracy=0.928]\n",
      "Epoch 71:  96%|█████████▌| 244/255 [01:22<00:03,  2.97it/s, loss=0.127, v_num=3, train_loss=0.251, train_accuracy=0.889, val_loss=0.163, val_accuracy=0.928]\n",
      "Epoch 71:  96%|█████████▋| 246/255 [01:22<00:03,  2.99it/s, loss=0.127, v_num=3, train_loss=0.251, train_accuracy=0.889, val_loss=0.163, val_accuracy=0.928]\n",
      "Epoch 71:  97%|█████████▋| 248/255 [01:22<00:02,  3.00it/s, loss=0.127, v_num=3, train_loss=0.251, train_accuracy=0.889, val_loss=0.163, val_accuracy=0.928]\n",
      "Epoch 71:  98%|█████████▊| 250/255 [01:22<00:01,  3.02it/s, loss=0.127, v_num=3, train_loss=0.251, train_accuracy=0.889, val_loss=0.163, val_accuracy=0.928]\n",
      "Epoch 71:  99%|█████████▉| 252/255 [01:22<00:00,  3.04it/s, loss=0.127, v_num=3, train_loss=0.251, train_accuracy=0.889, val_loss=0.163, val_accuracy=0.928]\n",
      "Epoch 71: 100%|█████████▉| 254/255 [01:23<00:00,  3.06it/s, loss=0.127, v_num=3, train_loss=0.251, train_accuracy=0.889, val_loss=0.163, val_accuracy=0.928]\n",
      "Epoch 71: 100%|██████████| 255/255 [01:23<00:00,  3.04it/s, loss=0.127, v_num=3, train_loss=0.251, train_accuracy=0.889, val_loss=0.170, val_accuracy=0.932]\n",
      "Epoch 71: 100%|██████████| 255/255 [01:23<00:00,  3.04it/s, loss=0.127, v_num=3, train_loss=0.251, train_accuracy=0.889, val_loss=0.170, val_accuracy=0.932]"
     ]
    },
    {
     "name": "stderr",
     "output_type": "stream",
     "text": [
      "Epoch 71, global step 16271: val_loss was not in top 2\n"
     ]
    },
    {
     "name": "stdout",
     "output_type": "stream",
     "text": [
      "Epoch 72:  89%|████████▊ | 226/255 [01:17<00:09,  2.91it/s, loss=0.178, v_num=3, train_loss=0.295, train_accuracy=0.889, val_loss=0.170, val_accuracy=0.932]  \n",
      "Validating: 0it [00:00, ?it/s]\u001b[A\n",
      "Validating:   0%|          | 0/29 [00:00<?, ?it/s]\u001b[A\n",
      "Epoch 72:  89%|████████▉ | 228/255 [01:21<00:09,  2.80it/s, loss=0.178, v_num=3, train_loss=0.295, train_accuracy=0.889, val_loss=0.170, val_accuracy=0.932]\n",
      "Epoch 72:  90%|█████████ | 230/255 [01:21<00:08,  2.82it/s, loss=0.178, v_num=3, train_loss=0.295, train_accuracy=0.889, val_loss=0.170, val_accuracy=0.932]\n",
      "Epoch 72:  91%|█████████ | 232/255 [01:21<00:08,  2.84it/s, loss=0.178, v_num=3, train_loss=0.295, train_accuracy=0.889, val_loss=0.170, val_accuracy=0.932]\n",
      "Epoch 72:  92%|█████████▏| 234/255 [01:21<00:07,  2.86it/s, loss=0.178, v_num=3, train_loss=0.295, train_accuracy=0.889, val_loss=0.170, val_accuracy=0.932]\n",
      "Epoch 72:  93%|█████████▎| 236/255 [01:22<00:06,  2.88it/s, loss=0.178, v_num=3, train_loss=0.295, train_accuracy=0.889, val_loss=0.170, val_accuracy=0.932]\n",
      "Epoch 72:  93%|█████████▎| 238/255 [01:22<00:05,  2.89it/s, loss=0.178, v_num=3, train_loss=0.295, train_accuracy=0.889, val_loss=0.170, val_accuracy=0.932]\n",
      "Epoch 72:  94%|█████████▍| 240/255 [01:22<00:05,  2.91it/s, loss=0.178, v_num=3, train_loss=0.295, train_accuracy=0.889, val_loss=0.170, val_accuracy=0.932]\n",
      "Epoch 72:  95%|█████████▍| 242/255 [01:22<00:04,  2.93it/s, loss=0.178, v_num=3, train_loss=0.295, train_accuracy=0.889, val_loss=0.170, val_accuracy=0.932]\n",
      "Epoch 72:  96%|█████████▌| 244/255 [01:22<00:03,  2.95it/s, loss=0.178, v_num=3, train_loss=0.295, train_accuracy=0.889, val_loss=0.170, val_accuracy=0.932]\n",
      "Epoch 72:  96%|█████████▋| 246/255 [01:22<00:03,  2.97it/s, loss=0.178, v_num=3, train_loss=0.295, train_accuracy=0.889, val_loss=0.170, val_accuracy=0.932]\n",
      "Epoch 72:  97%|█████████▋| 248/255 [01:22<00:02,  2.99it/s, loss=0.178, v_num=3, train_loss=0.295, train_accuracy=0.889, val_loss=0.170, val_accuracy=0.932]\n",
      "Epoch 72:  98%|█████████▊| 250/255 [01:23<00:01,  3.01it/s, loss=0.178, v_num=3, train_loss=0.295, train_accuracy=0.889, val_loss=0.170, val_accuracy=0.932]\n",
      "Epoch 72:  99%|█████████▉| 252/255 [01:23<00:00,  3.03it/s, loss=0.178, v_num=3, train_loss=0.295, train_accuracy=0.889, val_loss=0.170, val_accuracy=0.932]\n",
      "Epoch 72: 100%|█████████▉| 254/255 [01:23<00:00,  3.05it/s, loss=0.178, v_num=3, train_loss=0.295, train_accuracy=0.889, val_loss=0.170, val_accuracy=0.932]\n",
      "Epoch 72: 100%|██████████| 255/255 [01:24<00:00,  3.03it/s, loss=0.178, v_num=3, train_loss=0.295, train_accuracy=0.889, val_loss=0.266, val_accuracy=0.900]\n",
      "Epoch 72: 100%|██████████| 255/255 [01:24<00:00,  3.03it/s, loss=0.178, v_num=3, train_loss=0.295, train_accuracy=0.889, val_loss=0.266, val_accuracy=0.900]"
     ]
    },
    {
     "name": "stderr",
     "output_type": "stream",
     "text": [
      "Epoch 72, global step 16497: val_loss was not in top 2\n"
     ]
    },
    {
     "name": "stdout",
     "output_type": "stream",
     "text": [
      "Epoch 73:  89%|████████▊ | 226/255 [01:18<00:10,  2.89it/s, loss=0.0872, v_num=3, train_loss=0.0395, train_accuracy=1.000, val_loss=0.266, val_accuracy=0.900]\n",
      "Validating: 0it [00:00, ?it/s]\u001b[A\n",
      "Validating:   0%|          | 0/29 [00:00<?, ?it/s]\u001b[A\n",
      "Epoch 73:  89%|████████▉ | 228/255 [01:22<00:09,  2.78it/s, loss=0.0872, v_num=3, train_loss=0.0395, train_accuracy=1.000, val_loss=0.266, val_accuracy=0.900]\n",
      "Epoch 73:  90%|█████████ | 230/255 [01:22<00:08,  2.80it/s, loss=0.0872, v_num=3, train_loss=0.0395, train_accuracy=1.000, val_loss=0.266, val_accuracy=0.900]\n",
      "Epoch 73:  91%|█████████ | 232/255 [01:22<00:08,  2.82it/s, loss=0.0872, v_num=3, train_loss=0.0395, train_accuracy=1.000, val_loss=0.266, val_accuracy=0.900]\n",
      "Epoch 73:  92%|█████████▏| 234/255 [01:22<00:07,  2.84it/s, loss=0.0872, v_num=3, train_loss=0.0395, train_accuracy=1.000, val_loss=0.266, val_accuracy=0.900]\n",
      "Epoch 73:  93%|█████████▎| 236/255 [01:22<00:06,  2.85it/s, loss=0.0872, v_num=3, train_loss=0.0395, train_accuracy=1.000, val_loss=0.266, val_accuracy=0.900]\n",
      "Epoch 73:  93%|█████████▎| 238/255 [01:22<00:05,  2.87it/s, loss=0.0872, v_num=3, train_loss=0.0395, train_accuracy=1.000, val_loss=0.266, val_accuracy=0.900]\n",
      "Epoch 73:  94%|█████████▍| 240/255 [01:22<00:05,  2.89it/s, loss=0.0872, v_num=3, train_loss=0.0395, train_accuracy=1.000, val_loss=0.266, val_accuracy=0.900]\n",
      "Epoch 73:  95%|█████████▍| 242/255 [01:23<00:04,  2.91it/s, loss=0.0872, v_num=3, train_loss=0.0395, train_accuracy=1.000, val_loss=0.266, val_accuracy=0.900]\n",
      "Epoch 73:  96%|█████████▌| 244/255 [01:23<00:03,  2.93it/s, loss=0.0872, v_num=3, train_loss=0.0395, train_accuracy=1.000, val_loss=0.266, val_accuracy=0.900]\n",
      "Epoch 73:  96%|█████████▋| 246/255 [01:23<00:03,  2.95it/s, loss=0.0872, v_num=3, train_loss=0.0395, train_accuracy=1.000, val_loss=0.266, val_accuracy=0.900]\n",
      "Epoch 73:  97%|█████████▋| 248/255 [01:23<00:02,  2.97it/s, loss=0.0872, v_num=3, train_loss=0.0395, train_accuracy=1.000, val_loss=0.266, val_accuracy=0.900]\n",
      "Epoch 73:  98%|█████████▊| 250/255 [01:23<00:01,  2.99it/s, loss=0.0872, v_num=3, train_loss=0.0395, train_accuracy=1.000, val_loss=0.266, val_accuracy=0.900]\n",
      "Epoch 73:  99%|█████████▉| 252/255 [01:23<00:00,  3.00it/s, loss=0.0872, v_num=3, train_loss=0.0395, train_accuracy=1.000, val_loss=0.266, val_accuracy=0.900]\n",
      "Epoch 73: 100%|█████████▉| 254/255 [01:24<00:00,  3.02it/s, loss=0.0872, v_num=3, train_loss=0.0395, train_accuracy=1.000, val_loss=0.266, val_accuracy=0.900]\n",
      "Epoch 73: 100%|██████████| 255/255 [01:24<00:00,  3.01it/s, loss=0.0872, v_num=3, train_loss=0.0395, train_accuracy=1.000, val_loss=0.184, val_accuracy=0.934]\n",
      "Epoch 73: 100%|██████████| 255/255 [01:24<00:00,  3.01it/s, loss=0.0872, v_num=3, train_loss=0.0395, train_accuracy=1.000, val_loss=0.184, val_accuracy=0.934]"
     ]
    },
    {
     "name": "stderr",
     "output_type": "stream",
     "text": [
      "Epoch 73, global step 16723: val_loss was not in top 2\n"
     ]
    },
    {
     "name": "stdout",
     "output_type": "stream",
     "text": [
      "Epoch 74:  89%|████████▊ | 226/255 [01:18<00:10,  2.88it/s, loss=0.11, v_num=3, train_loss=0.105, train_accuracy=0.944, val_loss=0.184, val_accuracy=0.934]   \n",
      "Validating: 0it [00:00, ?it/s]\u001b[A\n",
      "Validating:   0%|          | 0/29 [00:00<?, ?it/s]\u001b[A\n",
      "Epoch 74:  89%|████████▉ | 228/255 [01:22<00:09,  2.78it/s, loss=0.11, v_num=3, train_loss=0.105, train_accuracy=0.944, val_loss=0.184, val_accuracy=0.934]\n",
      "Epoch 74:  90%|█████████ | 230/255 [01:22<00:08,  2.80it/s, loss=0.11, v_num=3, train_loss=0.105, train_accuracy=0.944, val_loss=0.184, val_accuracy=0.934]\n",
      "Epoch 74:  91%|█████████ | 232/255 [01:22<00:08,  2.81it/s, loss=0.11, v_num=3, train_loss=0.105, train_accuracy=0.944, val_loss=0.184, val_accuracy=0.934]\n",
      "Epoch 74:  92%|█████████▏| 234/255 [01:22<00:07,  2.83it/s, loss=0.11, v_num=3, train_loss=0.105, train_accuracy=0.944, val_loss=0.184, val_accuracy=0.934]\n",
      "Epoch 74:  93%|█████████▎| 236/255 [01:22<00:06,  2.85it/s, loss=0.11, v_num=3, train_loss=0.105, train_accuracy=0.944, val_loss=0.184, val_accuracy=0.934]\n",
      "Epoch 74:  93%|█████████▎| 238/255 [01:22<00:05,  2.87it/s, loss=0.11, v_num=3, train_loss=0.105, train_accuracy=0.944, val_loss=0.184, val_accuracy=0.934]\n",
      "Epoch 74:  94%|█████████▍| 240/255 [01:23<00:05,  2.89it/s, loss=0.11, v_num=3, train_loss=0.105, train_accuracy=0.944, val_loss=0.184, val_accuracy=0.934]\n",
      "Epoch 74:  95%|█████████▍| 242/255 [01:23<00:04,  2.91it/s, loss=0.11, v_num=3, train_loss=0.105, train_accuracy=0.944, val_loss=0.184, val_accuracy=0.934]\n",
      "Epoch 74:  96%|█████████▌| 244/255 [01:23<00:03,  2.93it/s, loss=0.11, v_num=3, train_loss=0.105, train_accuracy=0.944, val_loss=0.184, val_accuracy=0.934]\n",
      "Epoch 74:  96%|█████████▋| 246/255 [01:23<00:03,  2.95it/s, loss=0.11, v_num=3, train_loss=0.105, train_accuracy=0.944, val_loss=0.184, val_accuracy=0.934]\n",
      "Epoch 74:  97%|█████████▋| 248/255 [01:23<00:02,  2.96it/s, loss=0.11, v_num=3, train_loss=0.105, train_accuracy=0.944, val_loss=0.184, val_accuracy=0.934]\n",
      "Epoch 74:  98%|█████████▊| 250/255 [01:23<00:01,  2.98it/s, loss=0.11, v_num=3, train_loss=0.105, train_accuracy=0.944, val_loss=0.184, val_accuracy=0.934]\n",
      "Epoch 74:  99%|█████████▉| 252/255 [01:23<00:00,  3.00it/s, loss=0.11, v_num=3, train_loss=0.105, train_accuracy=0.944, val_loss=0.184, val_accuracy=0.934]\n",
      "Epoch 74: 100%|█████████▉| 254/255 [01:24<00:00,  3.02it/s, loss=0.11, v_num=3, train_loss=0.105, train_accuracy=0.944, val_loss=0.184, val_accuracy=0.934]\n",
      "Epoch 74: 100%|██████████| 255/255 [01:24<00:00,  3.01it/s, loss=0.11, v_num=3, train_loss=0.105, train_accuracy=0.944, val_loss=0.186, val_accuracy=0.938]\n",
      "Epoch 74: 100%|██████████| 255/255 [01:24<00:00,  3.01it/s, loss=0.11, v_num=3, train_loss=0.105, train_accuracy=0.944, val_loss=0.186, val_accuracy=0.938]"
     ]
    },
    {
     "name": "stderr",
     "output_type": "stream",
     "text": [
      "Epoch 74, global step 16949: val_loss was not in top 2\n"
     ]
    },
    {
     "name": "stdout",
     "output_type": "stream",
     "text": [
      "Epoch 75:  89%|████████▊ | 226/255 [01:18<00:10,  2.89it/s, loss=0.0901, v_num=3, train_loss=0.0212, train_accuracy=1.000, val_loss=0.186, val_accuracy=0.938]\n",
      "Validating: 0it [00:00, ?it/s]\u001b[A\n",
      "Validating:   0%|          | 0/29 [00:00<?, ?it/s]\u001b[A\n",
      "Epoch 75:  89%|████████▉ | 228/255 [01:22<00:09,  2.78it/s, loss=0.0901, v_num=3, train_loss=0.0212, train_accuracy=1.000, val_loss=0.186, val_accuracy=0.938]\n",
      "Epoch 75:  90%|█████████ | 230/255 [01:22<00:08,  2.80it/s, loss=0.0901, v_num=3, train_loss=0.0212, train_accuracy=1.000, val_loss=0.186, val_accuracy=0.938]\n",
      "Epoch 75:  91%|█████████ | 232/255 [01:22<00:08,  2.82it/s, loss=0.0901, v_num=3, train_loss=0.0212, train_accuracy=1.000, val_loss=0.186, val_accuracy=0.938]\n",
      "Epoch 75:  92%|█████████▏| 234/255 [01:22<00:07,  2.84it/s, loss=0.0901, v_num=3, train_loss=0.0212, train_accuracy=1.000, val_loss=0.186, val_accuracy=0.938]\n",
      "Epoch 75:  93%|█████████▎| 236/255 [01:22<00:06,  2.85it/s, loss=0.0901, v_num=3, train_loss=0.0212, train_accuracy=1.000, val_loss=0.186, val_accuracy=0.938]\n",
      "Epoch 75:  93%|█████████▎| 238/255 [01:22<00:05,  2.87it/s, loss=0.0901, v_num=3, train_loss=0.0212, train_accuracy=1.000, val_loss=0.186, val_accuracy=0.938]\n",
      "Epoch 75:  94%|█████████▍| 240/255 [01:22<00:05,  2.89it/s, loss=0.0901, v_num=3, train_loss=0.0212, train_accuracy=1.000, val_loss=0.186, val_accuracy=0.938]\n",
      "Epoch 75:  95%|█████████▍| 242/255 [01:23<00:04,  2.91it/s, loss=0.0901, v_num=3, train_loss=0.0212, train_accuracy=1.000, val_loss=0.186, val_accuracy=0.938]\n",
      "Epoch 75:  96%|█████████▌| 244/255 [01:23<00:03,  2.93it/s, loss=0.0901, v_num=3, train_loss=0.0212, train_accuracy=1.000, val_loss=0.186, val_accuracy=0.938]\n",
      "Epoch 75:  96%|█████████▋| 246/255 [01:23<00:03,  2.95it/s, loss=0.0901, v_num=3, train_loss=0.0212, train_accuracy=1.000, val_loss=0.186, val_accuracy=0.938]\n",
      "Epoch 75:  97%|█████████▋| 248/255 [01:23<00:02,  2.97it/s, loss=0.0901, v_num=3, train_loss=0.0212, train_accuracy=1.000, val_loss=0.186, val_accuracy=0.938]\n",
      "Epoch 75:  98%|█████████▊| 250/255 [01:23<00:01,  2.99it/s, loss=0.0901, v_num=3, train_loss=0.0212, train_accuracy=1.000, val_loss=0.186, val_accuracy=0.938]\n",
      "Epoch 75:  99%|█████████▉| 252/255 [01:23<00:00,  3.00it/s, loss=0.0901, v_num=3, train_loss=0.0212, train_accuracy=1.000, val_loss=0.186, val_accuracy=0.938]\n",
      "Epoch 75: 100%|█████████▉| 254/255 [01:24<00:00,  3.02it/s, loss=0.0901, v_num=3, train_loss=0.0212, train_accuracy=1.000, val_loss=0.186, val_accuracy=0.938]\n",
      "Epoch 75: 100%|██████████| 255/255 [01:24<00:00,  3.01it/s, loss=0.0901, v_num=3, train_loss=0.0212, train_accuracy=1.000, val_loss=0.181, val_accuracy=0.933]\n",
      "Epoch 75: 100%|██████████| 255/255 [01:24<00:00,  3.01it/s, loss=0.0901, v_num=3, train_loss=0.0212, train_accuracy=1.000, val_loss=0.181, val_accuracy=0.933]"
     ]
    },
    {
     "name": "stderr",
     "output_type": "stream",
     "text": [
      "Epoch 75, global step 17175: val_loss was not in top 2\n"
     ]
    },
    {
     "name": "stdout",
     "output_type": "stream",
     "text": [
      "Epoch 76:  54%|█████▎    | 137/255 [01:34<01:21,  1.45it/s, loss=0.145, v_num=3, train_loss=0.490, train_accuracy=0.860, val_loss=0.181, val_accuracy=0.933]  "
     ]
    }
   ],
   "source": [
    "n = 18\n",
    "FEATURE_COLUMNS = ORG_FEATURE_COLUMNS[n:]\n",
    "\n",
    "while(n < 20):\n",
    "    print(\"------------------ Round: \" + str(n) + \" ------------------\")\n",
    "    print(FEATURE_COLUMNS)\n",
    "    print(\"Len:\", len(FEATURE_COLUMNS))\n",
    "    \n",
    "    label_encoder = LabelEncoder()\n",
    "    encoded_labels = label_encoder.fit_transform(X_train.state)\n",
    "\n",
    "    label_encoder.classes_\n",
    "\n",
    "    X_train['label'] = encoded_labels\n",
    "\n",
    "    # Prepare data ###########################################\n",
    "    sequences = [] \n",
    "\n",
    "    for name, group in g:\n",
    "        sequence_features = group[FEATURE_COLUMNS]\n",
    "        label = group.label.iloc[0]\n",
    "\n",
    "        # print((sequence_features, label))\n",
    "        sequences.append((sequence_features, label))\n",
    "\n",
    "    # Setting up train, test, val gruop #######################\n",
    "    train_sequences, test_sequences = train_test_split(sequences, test_size=0.2)\n",
    "    val_sequences, test_sequences = train_test_split(test_sequences, test_size=0.5)\n",
    "\n",
    "\n",
    "    # Setting up data module ##################################\n",
    "    data_module = DrowsyDataModule(\n",
    "        train_sequences, val_sequences, test_sequences, BATCH_SIZE\n",
    "    )\n",
    "\n",
    "    model = DrowsyPredictor(\n",
    "        n_features=len(FEATURE_COLUMNS), \n",
    "        n_classes=len(label_encoder.classes_)\n",
    "    )\n",
    "\n",
    "    # Check points and logger #################################\n",
    "    checkpoint_callback = ModelCheckpoint(\n",
    "        dirpath=\"checkpoints\",\n",
    "        filename=\"best-checkpoint-corr-mi-\" + str(n),\n",
    "        save_top_k=2,\n",
    "        verbose=True,\n",
    "        monitor=\"val_loss\",\n",
    "        mode=\"min\"\n",
    "    )\n",
    "\n",
    "    logger = TensorBoardLogger(\"lightning_logs\", name=\"Drowsy_MI\" + str(n))\n",
    "\n",
    "    trainer = pl.Trainer(\n",
    "        logger=logger,\n",
    "        callbacks=[checkpoint_callback],\n",
    "        max_epochs=N_EPOCHS,\n",
    "        gpus=[0],\n",
    "#         gpus=1, \n",
    "#         auto_select_gpus=True,\n",
    "        auto_lr_find=True, \n",
    "        # check_val_every_n_epoch=10\n",
    "        # refresh_rate=20,\n",
    "    )\n",
    "    \n",
    "    # Training start\n",
    "    if (n == 18):\n",
    "        trainer.fit(model, data_module, ckpt_path=\"/Workspace/code/checkpoints/best-checkpoint-corr-mi-18-v6.ckpt\")\n",
    "    else:\n",
    "        trainer.fit(model, data_module)\n",
    "    trainer.test(model, data_module)\n",
    "    \n",
    "    FEATURE_COLUMNS.pop(0)\n",
    "    n = n + 1"
   ]
  },
  {
   "cell_type": "code",
   "execution_count": null,
   "id": "76acf7fd",
   "metadata": {},
   "outputs": [],
   "source": []
  },
  {
   "cell_type": "markdown",
   "id": "62e61f6f",
   "metadata": {},
   "source": [
    "## Load Checkpoint "
   ]
  },
  {
   "cell_type": "code",
   "execution_count": null,
   "id": "677d3cab",
   "metadata": {},
   "outputs": [],
   "source": [
    "# best-checkpoint-corr-3-v1.ckptn\n",
    "# trainer.fit(model, data_module, ckpt_path=\"/Workspace/code/checkpoints/best-checkpoint-corr-3-v1.ckpt\")"
   ]
  },
  {
   "cell_type": "code",
   "execution_count": null,
   "id": "e4d00609",
   "metadata": {},
   "outputs": [],
   "source": []
  },
  {
   "cell_type": "code",
   "execution_count": null,
   "id": "14cf4b17",
   "metadata": {},
   "outputs": [],
   "source": []
  },
  {
   "cell_type": "code",
   "execution_count": null,
   "id": "ea0f525d",
   "metadata": {},
   "outputs": [],
   "source": []
  },
  {
   "cell_type": "code",
   "execution_count": null,
   "id": "354c327e",
   "metadata": {},
   "outputs": [],
   "source": []
  },
  {
   "cell_type": "code",
   "execution_count": null,
   "id": "847c5f74",
   "metadata": {},
   "outputs": [],
   "source": []
  },
  {
   "cell_type": "code",
   "execution_count": null,
   "id": "398ffa26",
   "metadata": {},
   "outputs": [],
   "source": []
  },
  {
   "cell_type": "code",
   "execution_count": null,
   "id": "1e5a7a38",
   "metadata": {},
   "outputs": [],
   "source": []
  },
  {
   "cell_type": "code",
   "execution_count": null,
   "id": "b72c2794",
   "metadata": {},
   "outputs": [],
   "source": []
  },
  {
   "cell_type": "code",
   "execution_count": null,
   "id": "1e6adbbe",
   "metadata": {},
   "outputs": [],
   "source": []
  },
  {
   "cell_type": "code",
   "execution_count": null,
   "id": "8f5d8cf0",
   "metadata": {},
   "outputs": [],
   "source": []
  },
  {
   "cell_type": "code",
   "execution_count": null,
   "id": "bade2030",
   "metadata": {},
   "outputs": [],
   "source": []
  },
  {
   "cell_type": "code",
   "execution_count": null,
   "id": "80e73fe7",
   "metadata": {},
   "outputs": [],
   "source": []
  },
  {
   "cell_type": "code",
   "execution_count": null,
   "id": "e22a2da5",
   "metadata": {},
   "outputs": [],
   "source": []
  },
  {
   "cell_type": "code",
   "execution_count": null,
   "id": "df3a8d19",
   "metadata": {},
   "outputs": [],
   "source": []
  },
  {
   "cell_type": "code",
   "execution_count": null,
   "id": "11d2d458",
   "metadata": {},
   "outputs": [],
   "source": []
  },
  {
   "cell_type": "code",
   "execution_count": null,
   "id": "0682d865",
   "metadata": {},
   "outputs": [],
   "source": []
  },
  {
   "cell_type": "code",
   "execution_count": null,
   "id": "afc53290",
   "metadata": {},
   "outputs": [],
   "source": []
  },
  {
   "cell_type": "code",
   "execution_count": null,
   "id": "66ea78d0",
   "metadata": {},
   "outputs": [],
   "source": []
  },
  {
   "cell_type": "code",
   "execution_count": null,
   "id": "95cad8f1",
   "metadata": {},
   "outputs": [],
   "source": []
  },
  {
   "cell_type": "code",
   "execution_count": null,
   "id": "e43a3bd7",
   "metadata": {},
   "outputs": [],
   "source": []
  },
  {
   "cell_type": "code",
   "execution_count": null,
   "id": "08a5d673",
   "metadata": {},
   "outputs": [],
   "source": []
  },
  {
   "cell_type": "code",
   "execution_count": null,
   "id": "6511a9cb",
   "metadata": {},
   "outputs": [],
   "source": []
  },
  {
   "cell_type": "code",
   "execution_count": null,
   "id": "8d88c8e4",
   "metadata": {},
   "outputs": [],
   "source": []
  },
  {
   "cell_type": "code",
   "execution_count": null,
   "id": "894663dc",
   "metadata": {},
   "outputs": [],
   "source": []
  },
  {
   "cell_type": "code",
   "execution_count": null,
   "id": "9feb878a",
   "metadata": {},
   "outputs": [],
   "source": []
  },
  {
   "cell_type": "code",
   "execution_count": null,
   "id": "9f1c7069",
   "metadata": {},
   "outputs": [],
   "source": []
  },
  {
   "cell_type": "code",
   "execution_count": null,
   "id": "2491029d",
   "metadata": {},
   "outputs": [],
   "source": []
  },
  {
   "cell_type": "code",
   "execution_count": null,
   "id": "7077e4bb",
   "metadata": {},
   "outputs": [],
   "source": []
  },
  {
   "cell_type": "code",
   "execution_count": null,
   "id": "16fcf854",
   "metadata": {},
   "outputs": [],
   "source": []
  },
  {
   "cell_type": "code",
   "execution_count": null,
   "id": "29d8b65d",
   "metadata": {},
   "outputs": [],
   "source": []
  },
  {
   "cell_type": "code",
   "execution_count": null,
   "id": "7bc1ac11",
   "metadata": {},
   "outputs": [],
   "source": []
  },
  {
   "cell_type": "code",
   "execution_count": null,
   "id": "26b0fb2e",
   "metadata": {},
   "outputs": [],
   "source": []
  },
  {
   "cell_type": "code",
   "execution_count": null,
   "id": "7e7c3de4",
   "metadata": {},
   "outputs": [],
   "source": []
  },
  {
   "cell_type": "code",
   "execution_count": null,
   "id": "7ccd004d",
   "metadata": {},
   "outputs": [],
   "source": []
  },
  {
   "cell_type": "code",
   "execution_count": null,
   "id": "cfe60491",
   "metadata": {},
   "outputs": [],
   "source": []
  },
  {
   "cell_type": "code",
   "execution_count": null,
   "id": "b1b6f309",
   "metadata": {},
   "outputs": [],
   "source": []
  },
  {
   "cell_type": "code",
   "execution_count": null,
   "id": "9c5baffb",
   "metadata": {},
   "outputs": [],
   "source": []
  },
  {
   "cell_type": "code",
   "execution_count": null,
   "id": "28dc0a31",
   "metadata": {},
   "outputs": [],
   "source": []
  },
  {
   "cell_type": "code",
   "execution_count": null,
   "id": "d9871e44",
   "metadata": {},
   "outputs": [],
   "source": []
  },
  {
   "cell_type": "code",
   "execution_count": null,
   "id": "e6b9eb19",
   "metadata": {},
   "outputs": [],
   "source": []
  },
  {
   "cell_type": "code",
   "execution_count": null,
   "id": "53d44003",
   "metadata": {},
   "outputs": [],
   "source": []
  },
  {
   "cell_type": "code",
   "execution_count": null,
   "id": "6719a8c7",
   "metadata": {},
   "outputs": [],
   "source": []
  },
  {
   "cell_type": "code",
   "execution_count": null,
   "id": "b5ec8561",
   "metadata": {},
   "outputs": [],
   "source": []
  },
  {
   "cell_type": "code",
   "execution_count": null,
   "id": "b378dc01",
   "metadata": {},
   "outputs": [],
   "source": []
  },
  {
   "cell_type": "code",
   "execution_count": null,
   "id": "0d90a015",
   "metadata": {},
   "outputs": [],
   "source": []
  },
  {
   "cell_type": "code",
   "execution_count": null,
   "id": "15984669",
   "metadata": {},
   "outputs": [],
   "source": []
  },
  {
   "cell_type": "code",
   "execution_count": null,
   "id": "b45b2312",
   "metadata": {},
   "outputs": [],
   "source": []
  },
  {
   "cell_type": "code",
   "execution_count": null,
   "id": "f67a5768",
   "metadata": {},
   "outputs": [],
   "source": []
  },
  {
   "cell_type": "code",
   "execution_count": null,
   "id": "98475244",
   "metadata": {},
   "outputs": [],
   "source": []
  },
  {
   "cell_type": "code",
   "execution_count": null,
   "id": "25c5f77e",
   "metadata": {},
   "outputs": [],
   "source": []
  },
  {
   "cell_type": "code",
   "execution_count": null,
   "id": "63aa4aa5",
   "metadata": {},
   "outputs": [],
   "source": []
  },
  {
   "cell_type": "code",
   "execution_count": null,
   "id": "554505e5",
   "metadata": {},
   "outputs": [],
   "source": []
  },
  {
   "cell_type": "code",
   "execution_count": null,
   "id": "a8ddbef3",
   "metadata": {},
   "outputs": [],
   "source": []
  },
  {
   "cell_type": "code",
   "execution_count": null,
   "id": "beb46b61",
   "metadata": {},
   "outputs": [],
   "source": []
  },
  {
   "cell_type": "code",
   "execution_count": null,
   "id": "4c0f8a7c",
   "metadata": {},
   "outputs": [],
   "source": []
  },
  {
   "cell_type": "code",
   "execution_count": null,
   "id": "392c94a0",
   "metadata": {},
   "outputs": [],
   "source": []
  },
  {
   "cell_type": "code",
   "execution_count": null,
   "id": "e573a78a",
   "metadata": {},
   "outputs": [],
   "source": []
  },
  {
   "cell_type": "code",
   "execution_count": null,
   "id": "e039bccf",
   "metadata": {},
   "outputs": [],
   "source": []
  },
  {
   "cell_type": "code",
   "execution_count": null,
   "id": "a86baae8",
   "metadata": {},
   "outputs": [],
   "source": []
  },
  {
   "cell_type": "code",
   "execution_count": null,
   "id": "1f6a57b2",
   "metadata": {},
   "outputs": [],
   "source": []
  },
  {
   "cell_type": "code",
   "execution_count": null,
   "id": "e4b4cdb6",
   "metadata": {},
   "outputs": [],
   "source": []
  },
  {
   "cell_type": "code",
   "execution_count": null,
   "id": "e11a62f0",
   "metadata": {},
   "outputs": [],
   "source": []
  },
  {
   "cell_type": "code",
   "execution_count": null,
   "id": "70110ebe",
   "metadata": {},
   "outputs": [],
   "source": []
  },
  {
   "cell_type": "code",
   "execution_count": null,
   "id": "c62eac3e",
   "metadata": {},
   "outputs": [],
   "source": []
  },
  {
   "cell_type": "code",
   "execution_count": null,
   "id": "d01a97d2",
   "metadata": {},
   "outputs": [],
   "source": []
  },
  {
   "cell_type": "code",
   "execution_count": null,
   "id": "37fdb617",
   "metadata": {},
   "outputs": [],
   "source": []
  },
  {
   "cell_type": "code",
   "execution_count": null,
   "id": "43cfec87",
   "metadata": {},
   "outputs": [],
   "source": []
  },
  {
   "cell_type": "code",
   "execution_count": null,
   "id": "07e94f6e",
   "metadata": {},
   "outputs": [],
   "source": []
  },
  {
   "cell_type": "code",
   "execution_count": null,
   "id": "f89cf7e9",
   "metadata": {},
   "outputs": [],
   "source": []
  },
  {
   "cell_type": "code",
   "execution_count": null,
   "id": "7e1e5a22",
   "metadata": {},
   "outputs": [],
   "source": []
  },
  {
   "cell_type": "code",
   "execution_count": null,
   "id": "ce0397e8",
   "metadata": {},
   "outputs": [],
   "source": []
  },
  {
   "cell_type": "code",
   "execution_count": null,
   "id": "f2cd1e4c",
   "metadata": {},
   "outputs": [],
   "source": []
  },
  {
   "cell_type": "code",
   "execution_count": null,
   "id": "4fc9b4de",
   "metadata": {},
   "outputs": [],
   "source": []
  },
  {
   "cell_type": "code",
   "execution_count": null,
   "id": "ec2423d7",
   "metadata": {},
   "outputs": [],
   "source": []
  },
  {
   "cell_type": "code",
   "execution_count": null,
   "id": "ac691233",
   "metadata": {},
   "outputs": [],
   "source": []
  },
  {
   "cell_type": "code",
   "execution_count": null,
   "id": "b02bc7ec",
   "metadata": {},
   "outputs": [],
   "source": []
  },
  {
   "cell_type": "code",
   "execution_count": null,
   "id": "58296816",
   "metadata": {},
   "outputs": [],
   "source": []
  },
  {
   "cell_type": "code",
   "execution_count": null,
   "id": "99cf72cf",
   "metadata": {},
   "outputs": [],
   "source": []
  },
  {
   "cell_type": "code",
   "execution_count": null,
   "id": "1dea6871",
   "metadata": {},
   "outputs": [],
   "source": []
  },
  {
   "cell_type": "code",
   "execution_count": null,
   "id": "08775780",
   "metadata": {},
   "outputs": [],
   "source": []
  },
  {
   "cell_type": "code",
   "execution_count": null,
   "id": "01934293",
   "metadata": {},
   "outputs": [],
   "source": []
  },
  {
   "cell_type": "code",
   "execution_count": null,
   "id": "964b9918",
   "metadata": {},
   "outputs": [],
   "source": []
  },
  {
   "cell_type": "code",
   "execution_count": null,
   "id": "7ec8f0ca",
   "metadata": {},
   "outputs": [],
   "source": []
  },
  {
   "cell_type": "code",
   "execution_count": null,
   "id": "dae031d2",
   "metadata": {},
   "outputs": [],
   "source": []
  },
  {
   "cell_type": "code",
   "execution_count": null,
   "id": "83db5f7a",
   "metadata": {},
   "outputs": [],
   "source": []
  },
  {
   "cell_type": "code",
   "execution_count": null,
   "id": "3b43bd41",
   "metadata": {},
   "outputs": [],
   "source": []
  },
  {
   "cell_type": "code",
   "execution_count": null,
   "id": "1e036a0c",
   "metadata": {},
   "outputs": [],
   "source": []
  },
  {
   "cell_type": "code",
   "execution_count": null,
   "id": "a182d726",
   "metadata": {},
   "outputs": [],
   "source": []
  },
  {
   "cell_type": "code",
   "execution_count": null,
   "id": "b9c2c131",
   "metadata": {},
   "outputs": [],
   "source": []
  },
  {
   "cell_type": "code",
   "execution_count": null,
   "id": "33d4da6e",
   "metadata": {},
   "outputs": [],
   "source": []
  },
  {
   "cell_type": "code",
   "execution_count": null,
   "id": "fdc6e90e",
   "metadata": {},
   "outputs": [],
   "source": []
  },
  {
   "cell_type": "code",
   "execution_count": null,
   "id": "d64cd26b",
   "metadata": {},
   "outputs": [],
   "source": []
  },
  {
   "cell_type": "code",
   "execution_count": null,
   "id": "22bce505",
   "metadata": {},
   "outputs": [],
   "source": []
  },
  {
   "cell_type": "code",
   "execution_count": null,
   "id": "4bf9de32",
   "metadata": {},
   "outputs": [],
   "source": []
  },
  {
   "cell_type": "code",
   "execution_count": null,
   "id": "78f74a95",
   "metadata": {},
   "outputs": [],
   "source": []
  },
  {
   "cell_type": "code",
   "execution_count": null,
   "id": "7583ec36",
   "metadata": {},
   "outputs": [],
   "source": []
  },
  {
   "cell_type": "code",
   "execution_count": null,
   "id": "4f3b0158",
   "metadata": {},
   "outputs": [],
   "source": []
  },
  {
   "cell_type": "code",
   "execution_count": null,
   "id": "3d3f9201",
   "metadata": {},
   "outputs": [],
   "source": []
  },
  {
   "cell_type": "code",
   "execution_count": null,
   "id": "7bb6bc83",
   "metadata": {},
   "outputs": [],
   "source": []
  },
  {
   "cell_type": "code",
   "execution_count": null,
   "id": "b86c2743",
   "metadata": {},
   "outputs": [],
   "source": []
  },
  {
   "cell_type": "code",
   "execution_count": null,
   "id": "61f0bfac",
   "metadata": {},
   "outputs": [],
   "source": []
  },
  {
   "cell_type": "code",
   "execution_count": null,
   "id": "c372d4f0",
   "metadata": {},
   "outputs": [],
   "source": []
  },
  {
   "cell_type": "code",
   "execution_count": null,
   "id": "020e0213",
   "metadata": {},
   "outputs": [],
   "source": []
  },
  {
   "cell_type": "code",
   "execution_count": null,
   "id": "ccbf96bc",
   "metadata": {},
   "outputs": [],
   "source": []
  },
  {
   "cell_type": "code",
   "execution_count": null,
   "id": "4c6f247b",
   "metadata": {},
   "outputs": [],
   "source": []
  },
  {
   "cell_type": "code",
   "execution_count": null,
   "id": "f08c1e3a",
   "metadata": {},
   "outputs": [],
   "source": []
  },
  {
   "cell_type": "code",
   "execution_count": null,
   "id": "c3d01197",
   "metadata": {},
   "outputs": [],
   "source": []
  },
  {
   "cell_type": "code",
   "execution_count": null,
   "id": "3f67ae7b",
   "metadata": {},
   "outputs": [],
   "source": []
  },
  {
   "cell_type": "code",
   "execution_count": null,
   "id": "222e47d6",
   "metadata": {},
   "outputs": [],
   "source": []
  },
  {
   "cell_type": "code",
   "execution_count": null,
   "id": "384557d0",
   "metadata": {},
   "outputs": [],
   "source": []
  },
  {
   "cell_type": "code",
   "execution_count": null,
   "id": "69b1e0a1",
   "metadata": {},
   "outputs": [],
   "source": []
  },
  {
   "cell_type": "code",
   "execution_count": null,
   "id": "a58b46ce",
   "metadata": {},
   "outputs": [],
   "source": []
  },
  {
   "cell_type": "code",
   "execution_count": null,
   "id": "0fa532e6",
   "metadata": {},
   "outputs": [],
   "source": []
  },
  {
   "cell_type": "code",
   "execution_count": null,
   "id": "15f33530",
   "metadata": {},
   "outputs": [],
   "source": []
  },
  {
   "cell_type": "code",
   "execution_count": null,
   "id": "7f8bdfdb",
   "metadata": {},
   "outputs": [],
   "source": []
  },
  {
   "cell_type": "code",
   "execution_count": null,
   "id": "82fc31a8",
   "metadata": {},
   "outputs": [],
   "source": []
  },
  {
   "cell_type": "code",
   "execution_count": null,
   "id": "fa9f71f4",
   "metadata": {},
   "outputs": [],
   "source": []
  },
  {
   "cell_type": "code",
   "execution_count": null,
   "id": "5c547a7a",
   "metadata": {},
   "outputs": [],
   "source": []
  },
  {
   "cell_type": "code",
   "execution_count": null,
   "id": "5005af6e",
   "metadata": {},
   "outputs": [],
   "source": []
  },
  {
   "cell_type": "code",
   "execution_count": null,
   "id": "4f82c941",
   "metadata": {},
   "outputs": [],
   "source": []
  }
 ],
 "metadata": {
  "kernelspec": {
   "display_name": "Python 3",
   "language": "python",
   "name": "python3"
  },
  "language_info": {
   "codemirror_mode": {
    "name": "ipython",
    "version": 3
   },
   "file_extension": ".py",
   "mimetype": "text/x-python",
   "name": "python",
   "nbconvert_exporter": "python",
   "pygments_lexer": "ipython3",
   "version": "3.6.9"
  }
 },
 "nbformat": 4,
 "nbformat_minor": 5
}
