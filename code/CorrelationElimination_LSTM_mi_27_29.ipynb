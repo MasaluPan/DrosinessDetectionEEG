{
 "cells": [
  {
   "cell_type": "code",
   "execution_count": 1,
   "id": "73ee408b",
   "metadata": {},
   "outputs": [
    {
     "name": "stderr",
     "output_type": "stream",
     "text": [
      "/usr/local/lib/python3.6/dist-packages/tqdm/auto.py:22: TqdmWarning: IProgress not found. Please update jupyter and ipywidgets. See https://ipywidgets.readthedocs.io/en/stable/user_install.html\n",
      "  from .autonotebook import tqdm as notebook_tqdm\n"
     ]
    },
    {
     "name": "stdout",
     "output_type": "stream",
     "text": [
      "cuda\n"
     ]
    }
   ],
   "source": [
    "import os\n",
    "import pandas as pd\n",
    "import numpy as np\n",
    "from sklearn.preprocessing import LabelEncoder\n",
    "from sklearn.model_selection import train_test_split\n",
    "from sklearn.metrics import classification_report, confusion_matrix\n",
    "import matplotlib.pyplot as plt\n",
    "\n",
    "import torch\n",
    "from torch import nn, optim\n",
    "from torch.nn import functional as F\n",
    "from torch.utils.data import Dataset, DataLoader\n",
    "\n",
    "import torchmetrics\n",
    "from torchmetrics.functional import accuracy\n",
    "\n",
    "import pytorch_lightning as pl\n",
    "from pytorch_lightning.loggers import TensorBoardLogger\n",
    "from pytorch_lightning.callbacks import ModelCheckpoint\n",
    "\n",
    "device = torch.device(\"cuda\" if torch.cuda.is_available() else \"cpu\")\n",
    "print(device)"
   ]
  },
  {
   "cell_type": "markdown",
   "id": "dba0665e",
   "metadata": {},
   "source": [
    "## Model Setup "
   ]
  },
  {
   "cell_type": "code",
   "execution_count": 2,
   "id": "c1703e27",
   "metadata": {},
   "outputs": [
    {
     "name": "stderr",
     "output_type": "stream",
     "text": [
      "Global seed set to 42\n"
     ]
    }
   ],
   "source": [
    "pl.seed_everything(42, workers=True)\n",
    "\n",
    "class DrowsyDataset(Dataset):\n",
    "    \n",
    "    def __init__(self, sequences):\n",
    "        self.sequences = sequences\n",
    "        \n",
    "    def __len__(self):\n",
    "        return len(self.sequences)\n",
    "    \n",
    "    def __getitem__(self, idx):\n",
    "        sequence, label = self.sequences[idx]\n",
    "        return dict(\n",
    "            sequence=torch.Tensor(sequence.to_numpy()),\n",
    "            label=torch.tensor(label).long()\n",
    "        )\n",
    "    \n",
    "class DrowsyDataModule(pl.LightningDataModule):\n",
    "    \n",
    "    def __init__(self, train_sequences, val_sequences, test_sequences, batch_size):\n",
    "        super().__init__()\n",
    "        self.train_sequences = train_sequences\n",
    "        self.val_sequences = val_sequences\n",
    "        self.test_sequences = test_sequences\n",
    "        self.batch_size = batch_size\n",
    "\n",
    "    def setup(self, stage=None):\n",
    "        self.train_dataset = DrowsyDataset(self.train_sequences)\n",
    "        self.val_dataset = DrowsyDataset(self.val_sequences)\n",
    "        self.test_dataset = DrowsyDataset(self.test_sequences)\n",
    "        \n",
    "    def train_dataloader(self):\n",
    "        return DataLoader(\n",
    "            self.train_dataset,\n",
    "            batch_size=self.batch_size,\n",
    "            shuffle=True,\n",
    "            num_workers=os.cpu_count()\n",
    "        )\n",
    "    \n",
    "    def val_dataloader(self):\n",
    "        return DataLoader(\n",
    "            self.val_dataset,\n",
    "            batch_size=self.batch_size,\n",
    "            shuffle=False,\n",
    "            num_workers=os.cpu_count()\n",
    "        )\n",
    "    \n",
    "    def test_dataloader(self):\n",
    "        return DataLoader(\n",
    "            self.test_dataset,\n",
    "            batch_size=self.batch_size,\n",
    "            shuffle=False,\n",
    "            num_workers=os.cpu_count()\n",
    "        ) \n",
    "\n",
    "class DrowsyModel(nn.Module):\n",
    "    \n",
    "    def __init__(self, n_features, n_classes, n_hidden=256, n_layers=3):\n",
    "        super().__init__()\n",
    "        \n",
    "        self.n_hidden = n_hidden\n",
    "        \n",
    "        self.lstm = nn.LSTM(\n",
    "            input_size=n_features,\n",
    "            hidden_size=n_hidden,\n",
    "            num_layers=n_layers,\n",
    "            batch_first=True,\n",
    "            dropout=0.75\n",
    "        )\n",
    "        \n",
    "        self.classifier = nn.Linear(n_hidden, n_classes)\n",
    "        \n",
    "    def forward(self, x):\n",
    "        self.lstm.flatten_parameters()\n",
    "        _, (hidden, _) = self.lstm(x)\n",
    "        \n",
    "        out = hidden[-1]\n",
    "        return self.classifier(out)\n",
    "    \n",
    "class DrowsyPredictor(pl.LightningModule):\n",
    "    \n",
    "    def __init__(self, n_features: int, n_classes: int):\n",
    "        super().__init__()\n",
    "        self.model = DrowsyModel(n_features, n_classes)\n",
    "        self.criterion = nn.CrossEntropyLoss()\n",
    "        \n",
    "    def forward(self, x, label=None):\n",
    "        output = self.model(x)\n",
    "        loss = 0\n",
    "        if label is not None:\n",
    "            loss = self.criterion(output, label)\n",
    "        return loss, output\n",
    "        \n",
    "    def training_step(self, batch, batch_idx):\n",
    "        sequences = batch[\"sequence\"]\n",
    "        labels = batch[\"label\"]\n",
    "        loss, outputs = self(sequences, labels)\n",
    "        predictions = torch.argmax(outputs, dim=1)\n",
    "        step_accuracy = accuracy(predictions, labels)\n",
    "        \n",
    "        self.log(\"train_loss\", loss, prog_bar=True, logger=True)\n",
    "        self.log(\"train_accuracy\", step_accuracy, prog_bar=True, logger=True)\n",
    "        \n",
    "        return {\"loss\": loss, \"accuracy\": step_accuracy}\n",
    "    \n",
    "    def validation_step(self, batch, batch_idx):\n",
    "        sequences = batch[\"sequence\"]\n",
    "        labels = batch[\"label\"]\n",
    "        loss, outputs = self(sequences, labels)\n",
    "        predictions = torch.argmax(outputs, dim=1)\n",
    "        step_accuracy = accuracy(predictions, labels)\n",
    "        \n",
    "        self.log(\"val_loss\", loss, prog_bar=True, logger=True)\n",
    "        self.log(\"val_accuracy\", step_accuracy, prog_bar=True, logger=True)\n",
    "        \n",
    "        return {\"loss\": loss, \"accuracy\": step_accuracy}\n",
    "    \n",
    "    def test_step(self, batch, batch_idx):\n",
    "        sequences = batch[\"sequence\"]\n",
    "        labels = batch[\"label\"]\n",
    "        loss, outputs = self(sequences, labels)\n",
    "        predictions = torch.argmax(outputs, dim=1)\n",
    "        step_accuracy = accuracy(predictions, labels)\n",
    "        \n",
    "        self.log(\"test_loss\", loss, prog_bar=True, logger=True)\n",
    "        self.log(\"test_accuracy\", step_accuracy, prog_bar=True, logger=True)\n",
    "        \n",
    "        return {\"loss\": loss, \"accuracy\": step_accuracy}\n",
    "    \n",
    "    def configure_optimizers(self):\n",
    "        return optim.Adam(self.parameters(), lr=0.0001)"
   ]
  },
  {
   "cell_type": "markdown",
   "id": "ad2dc18a",
   "metadata": {},
   "source": [
    "## 參數設置"
   ]
  },
  {
   "cell_type": "code",
   "execution_count": null,
   "id": "6907a100",
   "metadata": {},
   "outputs": [],
   "source": []
  },
  {
   "cell_type": "code",
   "execution_count": 3,
   "id": "4a725d49",
   "metadata": {},
   "outputs": [
    {
     "data": {
      "text/plain": [
       "Reusing TensorBoard on port 8888 (pid 699), started 21:57:45 ago. (Use '!kill 699' to kill it.)"
      ]
     },
     "metadata": {},
     "output_type": "display_data"
    },
    {
     "data": {
      "text/html": [
       "\n",
       "      <iframe id=\"tensorboard-frame-1c80317fa3b1799d\" width=\"100%\" height=\"800\" frameborder=\"0\">\n",
       "      </iframe>\n",
       "      <script>\n",
       "        (function() {\n",
       "          const frame = document.getElementById(\"tensorboard-frame-1c80317fa3b1799d\");\n",
       "          const url = new URL(\"/\", window.location);\n",
       "          const port = 8888;\n",
       "          if (port) {\n",
       "            url.port = port;\n",
       "          }\n",
       "          frame.src = url;\n",
       "        })();\n",
       "      </script>\n",
       "    "
      ],
      "text/plain": [
       "<IPython.core.display.HTML object>"
      ]
     },
     "metadata": {},
     "output_type": "display_data"
    }
   ],
   "source": [
    "%load_ext tensorboard\n",
    "%reload_ext tensorboard\n",
    "%tensorboard --logdir ./lightning_logs --host 0.0.0.0 --port=8888"
   ]
  },
  {
   "cell_type": "code",
   "execution_count": 4,
   "id": "fbedfd71",
   "metadata": {},
   "outputs": [],
   "source": [
    "X_train = pd.read_csv('../data2.csv')"
   ]
  },
  {
   "cell_type": "code",
   "execution_count": 5,
   "id": "d89bca4d",
   "metadata": {},
   "outputs": [],
   "source": [
    "N_EPOCHS = 200\n",
    "BATCH_SIZE = 50\n",
    "\n",
    "# randomed \n",
    "ORG_FEATURE_COLUMNS = ['HEOR', 'T5', 'VEOL', 'VEOU', 'F8', 'FZ', 'F7', 'TP8', 'FC3', 'T4', 'HEOL', 'FT10', 'O2', 'FC4', 'FCZ', 'CP3', 'FP2', 'TP7', 'C3', 'F3', 'PZ', 'F4', 'O1', 'FT7', 'CP4', 'FP1', 'C4', 'T6', 'FT8', 'CZ', 'PO1', 'OZ', 'A2', 'A1', 'T3', 'P4', 'P3', 'FT9', 'CPZ', 'PO2']\n",
    "# ['HEOR', 'T5', 'VEOL', 'VEOU', 'F8', 'FZ', 'F7', 'TP8', 'FC3', 'T4', 'HEOL', 'FT10', 'O2', 'FC4', 'FCZ', 'CP3', 'FP2', 'TP7', 'C3', 'F3', 'PZ', 'F4', 'O1', 'FT7', 'CP4', 'FP1', 'C4', 'T6', 'FT8', 'CZ', 'PO1', 'OZ', 'A2', 'A1', 'T3', 'P4', 'P3', 'FT9', 'CPZ', 'PO2']\n",
    "g = X_train.groupby(\"group\")"
   ]
  },
  {
   "cell_type": "code",
   "execution_count": 6,
   "id": "a227ece2",
   "metadata": {},
   "outputs": [],
   "source": [
    "# import random\n",
    "# ORG_FEATURE_COLUMNS = ['TP8', 'FP2', 'FCZ', 'FT10', 'O2', 'O1', 'FT7', 'F4', 'TP7', 'C3', 'C4', 'F3', 'FT8', 'T6', 'HEOR', 'T5', 'VEOL', 'F7', 'FZ', 'VEOU', 'A1', 'P3', 'PZ', 'CP3', 'P4', 'CPZ', 'A2', 'HEOL', 'CP4', 'FT9', 'F8', 'OZ', 'CZ', 'FC4', 'FC3', 'FP1', 'PO1', 'T3', 'T4', 'PO2']\n",
    "# random.shuffle(ORG_FEATURE_COLUMNS)\n",
    "# print(ORG_FEATURE_COLUMNS)"
   ]
  },
  {
   "cell_type": "markdown",
   "id": "90c9ac6d",
   "metadata": {},
   "source": [
    "## Main"
   ]
  },
  {
   "cell_type": "code",
   "execution_count": null,
   "id": "484d3379",
   "metadata": {},
   "outputs": [
    {
     "name": "stdout",
     "output_type": "stream",
     "text": [
      "------------------ Round: 27 ------------------\n",
      "['T6', 'FT8', 'CZ', 'PO1', 'OZ', 'A2', 'A1', 'T3', 'P4', 'P3', 'FT9', 'CPZ', 'PO2']\n",
      "Len: 13\n"
     ]
    },
    {
     "name": "stderr",
     "output_type": "stream",
     "text": [
      "GPU available: True, used: True\n",
      "TPU available: False, using: 0 TPU cores\n",
      "IPU available: False, using: 0 IPUs\n",
      "Restoring states from the checkpoint path at /Workspace/code/checkpoints/best-checkpoint-corr-mi-27-v3.ckpt\n",
      "LOCAL_RANK: 0 - CUDA_VISIBLE_DEVICES: [0,1,2]\n",
      "/usr/local/lib/python3.6/dist-packages/pytorch_lightning/trainer/connectors/checkpoint_connector.py:251: UserWarning: You're resuming from a checkpoint that ended mid-epoch. Training will start from the beginning of the next epoch. This can cause unreliable results if further training is done, consider using an end of epoch checkpoint.\n",
      "  \"You're resuming from a checkpoint that ended mid-epoch.\"\n",
      "Restored all states from the checkpoint file at /Workspace/code/checkpoints/best-checkpoint-corr-mi-27-v3.ckpt\n",
      "\n",
      "  | Name      | Type             | Params\n",
      "-----------------------------------------------\n",
      "0 | model     | DrowsyModel      | 1.3 M \n",
      "1 | criterion | CrossEntropyLoss | 0     \n",
      "-----------------------------------------------\n",
      "1.3 M     Trainable params\n",
      "0         Non-trainable params\n",
      "1.3 M     Total params\n",
      "5.323     Total estimated model params size (MB)\n",
      "/usr/local/lib/python3.6/dist-packages/pytorch_lightning/callbacks/model_checkpoint.py:631: UserWarning: Checkpoint directory /Workspace/code/checkpoints exists and is not empty.\n",
      "  rank_zero_warn(f\"Checkpoint directory {dirpath} exists and is not empty.\")\n"
     ]
    },
    {
     "name": "stdout",
     "output_type": "stream",
     "text": [
      "                                                                      "
     ]
    },
    {
     "name": "stderr",
     "output_type": "stream",
     "text": [
      "Global seed set to 42\n"
     ]
    },
    {
     "name": "stdout",
     "output_type": "stream",
     "text": [
      "Epoch 55:  89%|████████▊ | 226/255 [01:19<00:10,  2.84it/s, loss=0.259, v_num=2, train_loss=0.167, train_accuracy=0.944]\n",
      "Validating: 0it [00:00, ?it/s]\u001b[A\n",
      "Validating:   0%|          | 0/29 [00:00<?, ?it/s]\u001b[A\n",
      "Epoch 55:  89%|████████▉ | 228/255 [01:20<00:09,  2.82it/s, loss=0.259, v_num=2, train_loss=0.167, train_accuracy=0.944]\n",
      "Epoch 55:  90%|█████████ | 230/255 [01:21<00:08,  2.84it/s, loss=0.259, v_num=2, train_loss=0.167, train_accuracy=0.944]\n",
      "Epoch 55:  91%|█████████ | 232/255 [01:21<00:08,  2.86it/s, loss=0.259, v_num=2, train_loss=0.167, train_accuracy=0.944]\n",
      "Epoch 55:  92%|█████████▏| 234/255 [01:21<00:07,  2.88it/s, loss=0.259, v_num=2, train_loss=0.167, train_accuracy=0.944]\n",
      "Epoch 55:  93%|█████████▎| 236/255 [01:21<00:06,  2.89it/s, loss=0.259, v_num=2, train_loss=0.167, train_accuracy=0.944]\n",
      "Epoch 55:  93%|█████████▎| 238/255 [01:21<00:05,  2.91it/s, loss=0.259, v_num=2, train_loss=0.167, train_accuracy=0.944]\n",
      "Epoch 55:  94%|█████████▍| 240/255 [01:21<00:05,  2.93it/s, loss=0.259, v_num=2, train_loss=0.167, train_accuracy=0.944]\n",
      "Epoch 55:  95%|█████████▍| 242/255 [01:22<00:04,  2.95it/s, loss=0.259, v_num=2, train_loss=0.167, train_accuracy=0.944]\n",
      "Epoch 55:  96%|█████████▌| 244/255 [01:22<00:03,  2.97it/s, loss=0.259, v_num=2, train_loss=0.167, train_accuracy=0.944]\n",
      "Epoch 55:  96%|█████████▋| 246/255 [01:22<00:03,  2.99it/s, loss=0.259, v_num=2, train_loss=0.167, train_accuracy=0.944]\n",
      "Epoch 55:  97%|█████████▋| 248/255 [01:22<00:02,  3.01it/s, loss=0.259, v_num=2, train_loss=0.167, train_accuracy=0.944]\n",
      "Epoch 55:  98%|█████████▊| 250/255 [01:22<00:01,  3.03it/s, loss=0.259, v_num=2, train_loss=0.167, train_accuracy=0.944]\n",
      "Epoch 55:  99%|█████████▉| 252/255 [01:22<00:00,  3.05it/s, loss=0.259, v_num=2, train_loss=0.167, train_accuracy=0.944]\n",
      "Epoch 55: 100%|█████████▉| 254/255 [01:22<00:00,  3.06it/s, loss=0.259, v_num=2, train_loss=0.167, train_accuracy=0.944]\n",
      "Epoch 55: 100%|██████████| 255/255 [01:23<00:00,  3.06it/s, loss=0.259, v_num=2, train_loss=0.167, train_accuracy=0.944, val_loss=0.248, val_accuracy=0.891]\n",
      "Epoch 55: 100%|██████████| 255/255 [01:23<00:00,  3.06it/s, loss=0.259, v_num=2, train_loss=0.167, train_accuracy=0.944, val_loss=0.248, val_accuracy=0.891]"
     ]
    },
    {
     "name": "stderr",
     "output_type": "stream",
     "text": [
      "Epoch 55, global step 12655: val_loss reached 0.24829 (best 0.23616), saving model to \"/Workspace/code/checkpoints/best-checkpoint-corr-mi-27-v2.ckpt\" as top 2\n"
     ]
    },
    {
     "name": "stdout",
     "output_type": "stream",
     "text": [
      "Epoch 56:  89%|████████▊ | 226/255 [01:16<00:09,  2.96it/s, loss=0.263, v_num=2, train_loss=0.196, train_accuracy=0.944, val_loss=0.248, val_accuracy=0.891] \n",
      "Validating: 0it [00:00, ?it/s]\u001b[A\n",
      "Validating:   0%|          | 0/29 [00:00<?, ?it/s]\u001b[A\n",
      "Epoch 56:  89%|████████▉ | 228/255 [01:17<00:09,  2.93it/s, loss=0.263, v_num=2, train_loss=0.196, train_accuracy=0.944, val_loss=0.248, val_accuracy=0.891]\n",
      "Epoch 56:  90%|█████████ | 230/255 [01:18<00:08,  2.95it/s, loss=0.263, v_num=2, train_loss=0.196, train_accuracy=0.944, val_loss=0.248, val_accuracy=0.891]\n",
      "Epoch 56:  91%|█████████ | 232/255 [01:18<00:07,  2.97it/s, loss=0.263, v_num=2, train_loss=0.196, train_accuracy=0.944, val_loss=0.248, val_accuracy=0.891]\n",
      "Epoch 56:  92%|█████████▏| 234/255 [01:18<00:07,  2.99it/s, loss=0.263, v_num=2, train_loss=0.196, train_accuracy=0.944, val_loss=0.248, val_accuracy=0.891]\n",
      "Epoch 56:  93%|█████████▎| 236/255 [01:18<00:06,  3.01it/s, loss=0.263, v_num=2, train_loss=0.196, train_accuracy=0.944, val_loss=0.248, val_accuracy=0.891]\n",
      "Epoch 56:  93%|█████████▎| 238/255 [01:18<00:05,  3.02it/s, loss=0.263, v_num=2, train_loss=0.196, train_accuracy=0.944, val_loss=0.248, val_accuracy=0.891]\n",
      "Epoch 56:  94%|█████████▍| 240/255 [01:18<00:04,  3.04it/s, loss=0.263, v_num=2, train_loss=0.196, train_accuracy=0.944, val_loss=0.248, val_accuracy=0.891]\n",
      "Epoch 56:  95%|█████████▍| 242/255 [01:18<00:04,  3.06it/s, loss=0.263, v_num=2, train_loss=0.196, train_accuracy=0.944, val_loss=0.248, val_accuracy=0.891]\n",
      "Epoch 56:  96%|█████████▌| 244/255 [01:19<00:03,  3.08it/s, loss=0.263, v_num=2, train_loss=0.196, train_accuracy=0.944, val_loss=0.248, val_accuracy=0.891]\n",
      "Epoch 56:  96%|█████████▋| 246/255 [01:19<00:02,  3.10it/s, loss=0.263, v_num=2, train_loss=0.196, train_accuracy=0.944, val_loss=0.248, val_accuracy=0.891]\n",
      "Epoch 56:  97%|█████████▋| 248/255 [01:19<00:02,  3.12it/s, loss=0.263, v_num=2, train_loss=0.196, train_accuracy=0.944, val_loss=0.248, val_accuracy=0.891]\n",
      "Epoch 56:  98%|█████████▊| 250/255 [01:19<00:01,  3.14it/s, loss=0.263, v_num=2, train_loss=0.196, train_accuracy=0.944, val_loss=0.248, val_accuracy=0.891]\n",
      "Epoch 56:  99%|█████████▉| 252/255 [01:19<00:00,  3.16it/s, loss=0.263, v_num=2, train_loss=0.196, train_accuracy=0.944, val_loss=0.248, val_accuracy=0.891]\n",
      "Epoch 56: 100%|█████████▉| 254/255 [01:19<00:00,  3.18it/s, loss=0.263, v_num=2, train_loss=0.196, train_accuracy=0.944, val_loss=0.248, val_accuracy=0.891]\n",
      "Epoch 56: 100%|██████████| 255/255 [01:20<00:00,  3.18it/s, loss=0.263, v_num=2, train_loss=0.196, train_accuracy=0.944, val_loss=0.289, val_accuracy=0.866]\n",
      "Epoch 56: 100%|██████████| 255/255 [01:20<00:00,  3.18it/s, loss=0.263, v_num=2, train_loss=0.196, train_accuracy=0.944, val_loss=0.289, val_accuracy=0.866]"
     ]
    },
    {
     "name": "stderr",
     "output_type": "stream",
     "text": [
      "Epoch 56, global step 12881: val_loss was not in top 2\n"
     ]
    },
    {
     "name": "stdout",
     "output_type": "stream",
     "text": [
      "Epoch 57:  89%|████████▊ | 226/255 [01:16<00:09,  2.95it/s, loss=0.202, v_num=2, train_loss=0.207, train_accuracy=0.833, val_loss=0.289, val_accuracy=0.866]\n",
      "Validating: 0it [00:00, ?it/s]\u001b[A\n",
      "Validating:   0%|          | 0/29 [00:00<?, ?it/s]\u001b[A\n",
      "Epoch 57:  89%|████████▉ | 228/255 [01:18<00:09,  2.92it/s, loss=0.202, v_num=2, train_loss=0.207, train_accuracy=0.833, val_loss=0.289, val_accuracy=0.866]\n",
      "Epoch 57:  90%|█████████ | 230/255 [01:18<00:08,  2.93it/s, loss=0.202, v_num=2, train_loss=0.207, train_accuracy=0.833, val_loss=0.289, val_accuracy=0.866]\n",
      "Epoch 57:  91%|█████████ | 232/255 [01:18<00:07,  2.95it/s, loss=0.202, v_num=2, train_loss=0.207, train_accuracy=0.833, val_loss=0.289, val_accuracy=0.866]\n",
      "Epoch 57:  92%|█████████▏| 234/255 [01:18<00:07,  2.97it/s, loss=0.202, v_num=2, train_loss=0.207, train_accuracy=0.833, val_loss=0.289, val_accuracy=0.866]\n",
      "Epoch 57:  93%|█████████▎| 236/255 [01:18<00:06,  2.99it/s, loss=0.202, v_num=2, train_loss=0.207, train_accuracy=0.833, val_loss=0.289, val_accuracy=0.866]\n",
      "Epoch 57:  93%|█████████▎| 238/255 [01:19<00:05,  3.01it/s, loss=0.202, v_num=2, train_loss=0.207, train_accuracy=0.833, val_loss=0.289, val_accuracy=0.866]\n",
      "Epoch 57:  94%|█████████▍| 240/255 [01:19<00:04,  3.03it/s, loss=0.202, v_num=2, train_loss=0.207, train_accuracy=0.833, val_loss=0.289, val_accuracy=0.866]\n",
      "Epoch 57:  95%|█████████▍| 242/255 [01:19<00:04,  3.05it/s, loss=0.202, v_num=2, train_loss=0.207, train_accuracy=0.833, val_loss=0.289, val_accuracy=0.866]\n",
      "Epoch 57:  96%|█████████▌| 244/255 [01:19<00:03,  3.07it/s, loss=0.202, v_num=2, train_loss=0.207, train_accuracy=0.833, val_loss=0.289, val_accuracy=0.866]\n",
      "Epoch 57:  96%|█████████▋| 246/255 [01:19<00:02,  3.09it/s, loss=0.202, v_num=2, train_loss=0.207, train_accuracy=0.833, val_loss=0.289, val_accuracy=0.866]\n",
      "Epoch 57:  97%|█████████▋| 248/255 [01:19<00:02,  3.11it/s, loss=0.202, v_num=2, train_loss=0.207, train_accuracy=0.833, val_loss=0.289, val_accuracy=0.866]\n",
      "Epoch 57:  98%|█████████▊| 250/255 [01:19<00:01,  3.13it/s, loss=0.202, v_num=2, train_loss=0.207, train_accuracy=0.833, val_loss=0.289, val_accuracy=0.866]\n",
      "Epoch 57:  99%|█████████▉| 252/255 [01:20<00:00,  3.15it/s, loss=0.202, v_num=2, train_loss=0.207, train_accuracy=0.833, val_loss=0.289, val_accuracy=0.866]\n",
      "Epoch 57: 100%|█████████▉| 254/255 [01:20<00:00,  3.17it/s, loss=0.202, v_num=2, train_loss=0.207, train_accuracy=0.833, val_loss=0.289, val_accuracy=0.866]\n",
      "Epoch 57: 100%|██████████| 255/255 [01:20<00:00,  3.17it/s, loss=0.202, v_num=2, train_loss=0.207, train_accuracy=0.833, val_loss=0.243, val_accuracy=0.881]\n",
      "Epoch 57: 100%|██████████| 255/255 [01:20<00:00,  3.17it/s, loss=0.202, v_num=2, train_loss=0.207, train_accuracy=0.833, val_loss=0.243, val_accuracy=0.881]"
     ]
    },
    {
     "name": "stderr",
     "output_type": "stream",
     "text": [
      "Epoch 57, global step 13107: val_loss reached 0.24303 (best 0.23616), saving model to \"/Workspace/code/checkpoints/best-checkpoint-corr-mi-27-v2.ckpt\" as top 2\n"
     ]
    },
    {
     "name": "stdout",
     "output_type": "stream",
     "text": [
      "Epoch 58:  89%|████████▊ | 226/255 [01:16<00:09,  2.95it/s, loss=0.205, v_num=2, train_loss=0.159, train_accuracy=0.889, val_loss=0.243, val_accuracy=0.881] \n",
      "Validating: 0it [00:00, ?it/s]\u001b[A\n",
      "Validating:   0%|          | 0/29 [00:00<?, ?it/s]\u001b[A\n",
      "Epoch 58:  89%|████████▉ | 228/255 [01:18<00:09,  2.91it/s, loss=0.205, v_num=2, train_loss=0.159, train_accuracy=0.889, val_loss=0.243, val_accuracy=0.881]\n",
      "Epoch 58:  90%|█████████ | 230/255 [01:18<00:08,  2.93it/s, loss=0.205, v_num=2, train_loss=0.159, train_accuracy=0.889, val_loss=0.243, val_accuracy=0.881]\n",
      "Epoch 58:  91%|█████████ | 232/255 [01:18<00:07,  2.95it/s, loss=0.205, v_num=2, train_loss=0.159, train_accuracy=0.889, val_loss=0.243, val_accuracy=0.881]\n",
      "Epoch 58:  92%|█████████▏| 234/255 [01:18<00:07,  2.97it/s, loss=0.205, v_num=2, train_loss=0.159, train_accuracy=0.889, val_loss=0.243, val_accuracy=0.881]\n",
      "Epoch 58:  93%|█████████▎| 236/255 [01:18<00:06,  2.99it/s, loss=0.205, v_num=2, train_loss=0.159, train_accuracy=0.889, val_loss=0.243, val_accuracy=0.881]\n",
      "Epoch 58:  93%|█████████▎| 238/255 [01:19<00:05,  3.01it/s, loss=0.205, v_num=2, train_loss=0.159, train_accuracy=0.889, val_loss=0.243, val_accuracy=0.881]\n",
      "Epoch 58:  94%|█████████▍| 240/255 [01:19<00:04,  3.03it/s, loss=0.205, v_num=2, train_loss=0.159, train_accuracy=0.889, val_loss=0.243, val_accuracy=0.881]\n",
      "Epoch 58:  95%|█████████▍| 242/255 [01:19<00:04,  3.05it/s, loss=0.205, v_num=2, train_loss=0.159, train_accuracy=0.889, val_loss=0.243, val_accuracy=0.881]\n",
      "Epoch 58:  96%|█████████▌| 244/255 [01:19<00:03,  3.07it/s, loss=0.205, v_num=2, train_loss=0.159, train_accuracy=0.889, val_loss=0.243, val_accuracy=0.881]\n",
      "Epoch 58:  96%|█████████▋| 246/255 [01:19<00:02,  3.09it/s, loss=0.205, v_num=2, train_loss=0.159, train_accuracy=0.889, val_loss=0.243, val_accuracy=0.881]\n",
      "Epoch 58:  97%|█████████▋| 248/255 [01:19<00:02,  3.11it/s, loss=0.205, v_num=2, train_loss=0.159, train_accuracy=0.889, val_loss=0.243, val_accuracy=0.881]\n",
      "Epoch 58:  98%|█████████▊| 250/255 [01:19<00:01,  3.13it/s, loss=0.205, v_num=2, train_loss=0.159, train_accuracy=0.889, val_loss=0.243, val_accuracy=0.881]\n",
      "Epoch 58:  99%|█████████▉| 252/255 [01:20<00:00,  3.15it/s, loss=0.205, v_num=2, train_loss=0.159, train_accuracy=0.889, val_loss=0.243, val_accuracy=0.881]\n",
      "Epoch 58: 100%|█████████▉| 254/255 [01:20<00:00,  3.17it/s, loss=0.205, v_num=2, train_loss=0.159, train_accuracy=0.889, val_loss=0.243, val_accuracy=0.881]\n",
      "Epoch 58: 100%|██████████| 255/255 [01:20<00:00,  3.16it/s, loss=0.205, v_num=2, train_loss=0.159, train_accuracy=0.889, val_loss=0.227, val_accuracy=0.899]\n",
      "Epoch 58: 100%|██████████| 255/255 [01:20<00:00,  3.16it/s, loss=0.205, v_num=2, train_loss=0.159, train_accuracy=0.889, val_loss=0.227, val_accuracy=0.899]"
     ]
    },
    {
     "name": "stderr",
     "output_type": "stream",
     "text": [
      "Epoch 58, global step 13333: val_loss reached 0.22739 (best 0.22739), saving model to \"/Workspace/code/checkpoints/best-checkpoint-corr-mi-27-v2.ckpt\" as top 2\n"
     ]
    },
    {
     "name": "stdout",
     "output_type": "stream",
     "text": [
      "Epoch 59:  89%|████████▊ | 226/255 [01:16<00:09,  2.95it/s, loss=0.35, v_num=2, train_loss=0.256, train_accuracy=0.944, val_loss=0.227, val_accuracy=0.899]  \n",
      "Validating: 0it [00:00, ?it/s]\u001b[A\n",
      "Validating:   0%|          | 0/29 [00:00<?, ?it/s]\u001b[A\n",
      "Epoch 59:  89%|████████▉ | 228/255 [01:18<00:09,  2.91it/s, loss=0.35, v_num=2, train_loss=0.256, train_accuracy=0.944, val_loss=0.227, val_accuracy=0.899]\n",
      "Epoch 59:  90%|█████████ | 230/255 [01:18<00:08,  2.93it/s, loss=0.35, v_num=2, train_loss=0.256, train_accuracy=0.944, val_loss=0.227, val_accuracy=0.899]\n",
      "Epoch 59:  91%|█████████ | 232/255 [01:18<00:07,  2.95it/s, loss=0.35, v_num=2, train_loss=0.256, train_accuracy=0.944, val_loss=0.227, val_accuracy=0.899]\n",
      "Epoch 59:  92%|█████████▏| 234/255 [01:18<00:07,  2.97it/s, loss=0.35, v_num=2, train_loss=0.256, train_accuracy=0.944, val_loss=0.227, val_accuracy=0.899]\n",
      "Epoch 59:  93%|█████████▎| 236/255 [01:18<00:06,  2.99it/s, loss=0.35, v_num=2, train_loss=0.256, train_accuracy=0.944, val_loss=0.227, val_accuracy=0.899]\n",
      "Epoch 59:  93%|█████████▎| 238/255 [01:19<00:05,  3.01it/s, loss=0.35, v_num=2, train_loss=0.256, train_accuracy=0.944, val_loss=0.227, val_accuracy=0.899]\n",
      "Epoch 59:  94%|█████████▍| 240/255 [01:19<00:04,  3.03it/s, loss=0.35, v_num=2, train_loss=0.256, train_accuracy=0.944, val_loss=0.227, val_accuracy=0.899]\n",
      "Epoch 59:  95%|█████████▍| 242/255 [01:19<00:04,  3.05it/s, loss=0.35, v_num=2, train_loss=0.256, train_accuracy=0.944, val_loss=0.227, val_accuracy=0.899]\n",
      "Epoch 59:  96%|█████████▌| 244/255 [01:19<00:03,  3.07it/s, loss=0.35, v_num=2, train_loss=0.256, train_accuracy=0.944, val_loss=0.227, val_accuracy=0.899]\n",
      "Epoch 59:  96%|█████████▋| 246/255 [01:19<00:02,  3.09it/s, loss=0.35, v_num=2, train_loss=0.256, train_accuracy=0.944, val_loss=0.227, val_accuracy=0.899]\n",
      "Epoch 59:  97%|█████████▋| 248/255 [01:19<00:02,  3.11it/s, loss=0.35, v_num=2, train_loss=0.256, train_accuracy=0.944, val_loss=0.227, val_accuracy=0.899]\n",
      "Epoch 59:  98%|█████████▊| 250/255 [01:20<00:01,  3.12it/s, loss=0.35, v_num=2, train_loss=0.256, train_accuracy=0.944, val_loss=0.227, val_accuracy=0.899]\n",
      "Epoch 59:  99%|█████████▉| 252/255 [01:20<00:00,  3.14it/s, loss=0.35, v_num=2, train_loss=0.256, train_accuracy=0.944, val_loss=0.227, val_accuracy=0.899]\n",
      "Epoch 59: 100%|█████████▉| 254/255 [01:20<00:00,  3.16it/s, loss=0.35, v_num=2, train_loss=0.256, train_accuracy=0.944, val_loss=0.227, val_accuracy=0.899]\n",
      "Epoch 59: 100%|██████████| 255/255 [01:20<00:00,  3.16it/s, loss=0.35, v_num=2, train_loss=0.256, train_accuracy=0.944, val_loss=0.371, val_accuracy=0.830]\n",
      "Epoch 59: 100%|██████████| 255/255 [01:20<00:00,  3.16it/s, loss=0.35, v_num=2, train_loss=0.256, train_accuracy=0.944, val_loss=0.371, val_accuracy=0.830]"
     ]
    },
    {
     "name": "stderr",
     "output_type": "stream",
     "text": [
      "Epoch 59, global step 13559: val_loss was not in top 2\n"
     ]
    },
    {
     "name": "stdout",
     "output_type": "stream",
     "text": [
      "Epoch 60:  89%|████████▊ | 226/255 [01:16<00:09,  2.95it/s, loss=0.228, v_num=2, train_loss=0.120, train_accuracy=0.944, val_loss=0.371, val_accuracy=0.830] \n",
      "Validating: 0it [00:00, ?it/s]\u001b[A\n",
      "Validating:   0%|          | 0/29 [00:00<?, ?it/s]\u001b[A\n",
      "Epoch 60:  89%|████████▉ | 228/255 [01:18<00:09,  2.92it/s, loss=0.228, v_num=2, train_loss=0.120, train_accuracy=0.944, val_loss=0.371, val_accuracy=0.830]\n",
      "Epoch 60:  90%|█████████ | 230/255 [01:18<00:08,  2.93it/s, loss=0.228, v_num=2, train_loss=0.120, train_accuracy=0.944, val_loss=0.371, val_accuracy=0.830]\n",
      "Epoch 60:  91%|█████████ | 232/255 [01:18<00:07,  2.95it/s, loss=0.228, v_num=2, train_loss=0.120, train_accuracy=0.944, val_loss=0.371, val_accuracy=0.830]\n",
      "Epoch 60:  92%|█████████▏| 234/255 [01:18<00:07,  2.97it/s, loss=0.228, v_num=2, train_loss=0.120, train_accuracy=0.944, val_loss=0.371, val_accuracy=0.830]\n",
      "Epoch 60:  93%|█████████▎| 236/255 [01:18<00:06,  2.99it/s, loss=0.228, v_num=2, train_loss=0.120, train_accuracy=0.944, val_loss=0.371, val_accuracy=0.830]\n",
      "Epoch 60:  93%|█████████▎| 238/255 [01:18<00:05,  3.01it/s, loss=0.228, v_num=2, train_loss=0.120, train_accuracy=0.944, val_loss=0.371, val_accuracy=0.830]\n",
      "Epoch 60:  94%|█████████▍| 240/255 [01:19<00:04,  3.03it/s, loss=0.228, v_num=2, train_loss=0.120, train_accuracy=0.944, val_loss=0.371, val_accuracy=0.830]\n",
      "Epoch 60:  95%|█████████▍| 242/255 [01:19<00:04,  3.05it/s, loss=0.228, v_num=2, train_loss=0.120, train_accuracy=0.944, val_loss=0.371, val_accuracy=0.830]\n",
      "Epoch 60:  96%|█████████▌| 244/255 [01:19<00:03,  3.07it/s, loss=0.228, v_num=2, train_loss=0.120, train_accuracy=0.944, val_loss=0.371, val_accuracy=0.830]\n",
      "Epoch 60:  96%|█████████▋| 246/255 [01:19<00:02,  3.09it/s, loss=0.228, v_num=2, train_loss=0.120, train_accuracy=0.944, val_loss=0.371, val_accuracy=0.830]\n",
      "Epoch 60:  97%|█████████▋| 248/255 [01:19<00:02,  3.11it/s, loss=0.228, v_num=2, train_loss=0.120, train_accuracy=0.944, val_loss=0.371, val_accuracy=0.830]\n",
      "Epoch 60:  98%|█████████▊| 250/255 [01:19<00:01,  3.13it/s, loss=0.228, v_num=2, train_loss=0.120, train_accuracy=0.944, val_loss=0.371, val_accuracy=0.830]\n",
      "Epoch 60:  99%|█████████▉| 252/255 [01:20<00:00,  3.15it/s, loss=0.228, v_num=2, train_loss=0.120, train_accuracy=0.944, val_loss=0.371, val_accuracy=0.830]\n",
      "Epoch 60: 100%|█████████▉| 254/255 [01:20<00:00,  3.17it/s, loss=0.228, v_num=2, train_loss=0.120, train_accuracy=0.944, val_loss=0.371, val_accuracy=0.830]\n",
      "Epoch 60: 100%|██████████| 255/255 [01:20<00:00,  3.17it/s, loss=0.228, v_num=2, train_loss=0.120, train_accuracy=0.944, val_loss=0.239, val_accuracy=0.891]\n",
      "Epoch 60: 100%|██████████| 255/255 [01:20<00:00,  3.17it/s, loss=0.228, v_num=2, train_loss=0.120, train_accuracy=0.944, val_loss=0.239, val_accuracy=0.891]"
     ]
    },
    {
     "name": "stderr",
     "output_type": "stream",
     "text": [
      "Epoch 60, global step 13785: val_loss was not in top 2\n"
     ]
    },
    {
     "name": "stdout",
     "output_type": "stream",
     "text": [
      "Epoch 61:  89%|████████▊ | 226/255 [01:16<00:09,  2.94it/s, loss=0.244, v_num=2, train_loss=0.249, train_accuracy=0.889, val_loss=0.239, val_accuracy=0.891]\n",
      "Validating: 0it [00:00, ?it/s]\u001b[A\n",
      "Validating:   0%|          | 0/29 [00:00<?, ?it/s]\u001b[A\n",
      "Epoch 61:  89%|████████▉ | 228/255 [01:18<00:09,  2.90it/s, loss=0.244, v_num=2, train_loss=0.249, train_accuracy=0.889, val_loss=0.239, val_accuracy=0.891]\n",
      "Epoch 61:  90%|█████████ | 230/255 [01:18<00:08,  2.92it/s, loss=0.244, v_num=2, train_loss=0.249, train_accuracy=0.889, val_loss=0.239, val_accuracy=0.891]\n",
      "Epoch 61:  91%|█████████ | 232/255 [01:18<00:07,  2.94it/s, loss=0.244, v_num=2, train_loss=0.249, train_accuracy=0.889, val_loss=0.239, val_accuracy=0.891]\n",
      "Epoch 61:  92%|█████████▏| 234/255 [01:19<00:07,  2.96it/s, loss=0.244, v_num=2, train_loss=0.249, train_accuracy=0.889, val_loss=0.239, val_accuracy=0.891]\n",
      "Epoch 61:  93%|█████████▎| 236/255 [01:19<00:06,  2.98it/s, loss=0.244, v_num=2, train_loss=0.249, train_accuracy=0.889, val_loss=0.239, val_accuracy=0.891]\n",
      "Epoch 61:  93%|█████████▎| 238/255 [01:19<00:05,  3.00it/s, loss=0.244, v_num=2, train_loss=0.249, train_accuracy=0.889, val_loss=0.239, val_accuracy=0.891]\n",
      "Epoch 61:  94%|█████████▍| 240/255 [01:19<00:04,  3.02it/s, loss=0.244, v_num=2, train_loss=0.249, train_accuracy=0.889, val_loss=0.239, val_accuracy=0.891]\n",
      "Epoch 61:  95%|█████████▍| 242/255 [01:19<00:04,  3.04it/s, loss=0.244, v_num=2, train_loss=0.249, train_accuracy=0.889, val_loss=0.239, val_accuracy=0.891]\n",
      "Epoch 61:  96%|█████████▌| 244/255 [01:19<00:03,  3.06it/s, loss=0.244, v_num=2, train_loss=0.249, train_accuracy=0.889, val_loss=0.239, val_accuracy=0.891]\n",
      "Epoch 61:  96%|█████████▋| 246/255 [01:20<00:02,  3.07it/s, loss=0.244, v_num=2, train_loss=0.249, train_accuracy=0.889, val_loss=0.239, val_accuracy=0.891]\n",
      "Epoch 61:  97%|█████████▋| 248/255 [01:20<00:02,  3.09it/s, loss=0.244, v_num=2, train_loss=0.249, train_accuracy=0.889, val_loss=0.239, val_accuracy=0.891]\n",
      "Epoch 61:  98%|█████████▊| 250/255 [01:20<00:01,  3.11it/s, loss=0.244, v_num=2, train_loss=0.249, train_accuracy=0.889, val_loss=0.239, val_accuracy=0.891]\n",
      "Epoch 61:  99%|█████████▉| 252/255 [01:20<00:00,  3.13it/s, loss=0.244, v_num=2, train_loss=0.249, train_accuracy=0.889, val_loss=0.239, val_accuracy=0.891]\n",
      "Epoch 61: 100%|█████████▉| 254/255 [01:20<00:00,  3.15it/s, loss=0.244, v_num=2, train_loss=0.249, train_accuracy=0.889, val_loss=0.239, val_accuracy=0.891]\n",
      "Epoch 61: 100%|██████████| 255/255 [01:20<00:00,  3.15it/s, loss=0.244, v_num=2, train_loss=0.249, train_accuracy=0.889, val_loss=0.221, val_accuracy=0.896]\n",
      "Epoch 61: 100%|██████████| 255/255 [01:20<00:00,  3.15it/s, loss=0.244, v_num=2, train_loss=0.249, train_accuracy=0.889, val_loss=0.221, val_accuracy=0.896]"
     ]
    },
    {
     "name": "stderr",
     "output_type": "stream",
     "text": [
      "Epoch 61, global step 14011: val_loss reached 0.22083 (best 0.22083), saving model to \"/Workspace/code/checkpoints/best-checkpoint-corr-mi-27-v3.ckpt\" as top 2\n"
     ]
    },
    {
     "name": "stdout",
     "output_type": "stream",
     "text": [
      "Epoch 62:  89%|████████▊ | 226/255 [01:16<00:09,  2.94it/s, loss=0.232, v_num=2, train_loss=0.534, train_accuracy=0.722, val_loss=0.221, val_accuracy=0.896] \n",
      "Validating: 0it [00:00, ?it/s]\u001b[A\n",
      "Validating:   0%|          | 0/29 [00:00<?, ?it/s]\u001b[A\n",
      "Epoch 62:  89%|████████▉ | 228/255 [01:18<00:09,  2.90it/s, loss=0.232, v_num=2, train_loss=0.534, train_accuracy=0.722, val_loss=0.221, val_accuracy=0.896]\n",
      "Epoch 62:  90%|█████████ | 230/255 [01:18<00:08,  2.92it/s, loss=0.232, v_num=2, train_loss=0.534, train_accuracy=0.722, val_loss=0.221, val_accuracy=0.896]\n",
      "Epoch 62:  91%|█████████ | 232/255 [01:18<00:07,  2.94it/s, loss=0.232, v_num=2, train_loss=0.534, train_accuracy=0.722, val_loss=0.221, val_accuracy=0.896]\n",
      "Epoch 62:  92%|█████████▏| 234/255 [01:19<00:07,  2.96it/s, loss=0.232, v_num=2, train_loss=0.534, train_accuracy=0.722, val_loss=0.221, val_accuracy=0.896]\n",
      "Epoch 62:  93%|█████████▎| 236/255 [01:19<00:06,  2.98it/s, loss=0.232, v_num=2, train_loss=0.534, train_accuracy=0.722, val_loss=0.221, val_accuracy=0.896]\n",
      "Epoch 62:  93%|█████████▎| 238/255 [01:19<00:05,  3.00it/s, loss=0.232, v_num=2, train_loss=0.534, train_accuracy=0.722, val_loss=0.221, val_accuracy=0.896]\n",
      "Epoch 62:  94%|█████████▍| 240/255 [01:19<00:04,  3.02it/s, loss=0.232, v_num=2, train_loss=0.534, train_accuracy=0.722, val_loss=0.221, val_accuracy=0.896]\n",
      "Epoch 62:  95%|█████████▍| 242/255 [01:19<00:04,  3.04it/s, loss=0.232, v_num=2, train_loss=0.534, train_accuracy=0.722, val_loss=0.221, val_accuracy=0.896]\n",
      "Epoch 62:  96%|█████████▌| 244/255 [01:19<00:03,  3.05it/s, loss=0.232, v_num=2, train_loss=0.534, train_accuracy=0.722, val_loss=0.221, val_accuracy=0.896]\n",
      "Epoch 62:  96%|█████████▋| 246/255 [01:20<00:02,  3.07it/s, loss=0.232, v_num=2, train_loss=0.534, train_accuracy=0.722, val_loss=0.221, val_accuracy=0.896]\n",
      "Epoch 62:  97%|█████████▋| 248/255 [01:20<00:02,  3.09it/s, loss=0.232, v_num=2, train_loss=0.534, train_accuracy=0.722, val_loss=0.221, val_accuracy=0.896]\n",
      "Epoch 62:  98%|█████████▊| 250/255 [01:20<00:01,  3.11it/s, loss=0.232, v_num=2, train_loss=0.534, train_accuracy=0.722, val_loss=0.221, val_accuracy=0.896]\n",
      "Epoch 62:  99%|█████████▉| 252/255 [01:20<00:00,  3.13it/s, loss=0.232, v_num=2, train_loss=0.534, train_accuracy=0.722, val_loss=0.221, val_accuracy=0.896]\n",
      "Epoch 62: 100%|█████████▉| 254/255 [01:20<00:00,  3.15it/s, loss=0.232, v_num=2, train_loss=0.534, train_accuracy=0.722, val_loss=0.221, val_accuracy=0.896]\n",
      "Epoch 62: 100%|██████████| 255/255 [01:21<00:00,  3.15it/s, loss=0.232, v_num=2, train_loss=0.534, train_accuracy=0.722, val_loss=0.266, val_accuracy=0.879]\n",
      "Epoch 62: 100%|██████████| 255/255 [01:21<00:00,  3.15it/s, loss=0.232, v_num=2, train_loss=0.534, train_accuracy=0.722, val_loss=0.266, val_accuracy=0.879]"
     ]
    },
    {
     "name": "stderr",
     "output_type": "stream",
     "text": [
      "Epoch 62, global step 14237: val_loss was not in top 2\n"
     ]
    },
    {
     "name": "stdout",
     "output_type": "stream",
     "text": [
      "Epoch 63:  89%|████████▊ | 226/255 [01:16<00:09,  2.94it/s, loss=0.218, v_num=2, train_loss=0.202, train_accuracy=0.944, val_loss=0.266, val_accuracy=0.879] \n",
      "Validating: 0it [00:00, ?it/s]\u001b[A\n",
      "Validating:   0%|          | 0/29 [00:00<?, ?it/s]\u001b[A\n",
      "Epoch 63:  89%|████████▉ | 228/255 [01:18<00:09,  2.90it/s, loss=0.218, v_num=2, train_loss=0.202, train_accuracy=0.944, val_loss=0.266, val_accuracy=0.879]\n",
      "Epoch 63:  90%|█████████ | 230/255 [01:18<00:08,  2.92it/s, loss=0.218, v_num=2, train_loss=0.202, train_accuracy=0.944, val_loss=0.266, val_accuracy=0.879]\n",
      "Epoch 63:  91%|█████████ | 232/255 [01:18<00:07,  2.94it/s, loss=0.218, v_num=2, train_loss=0.202, train_accuracy=0.944, val_loss=0.266, val_accuracy=0.879]\n",
      "Epoch 63:  92%|█████████▏| 234/255 [01:19<00:07,  2.96it/s, loss=0.218, v_num=2, train_loss=0.202, train_accuracy=0.944, val_loss=0.266, val_accuracy=0.879]\n",
      "Epoch 63:  93%|█████████▎| 236/255 [01:19<00:06,  2.98it/s, loss=0.218, v_num=2, train_loss=0.202, train_accuracy=0.944, val_loss=0.266, val_accuracy=0.879]\n",
      "Epoch 63:  93%|█████████▎| 238/255 [01:19<00:05,  3.00it/s, loss=0.218, v_num=2, train_loss=0.202, train_accuracy=0.944, val_loss=0.266, val_accuracy=0.879]\n",
      "Epoch 63:  94%|█████████▍| 240/255 [01:19<00:04,  3.02it/s, loss=0.218, v_num=2, train_loss=0.202, train_accuracy=0.944, val_loss=0.266, val_accuracy=0.879]\n",
      "Epoch 63:  95%|█████████▍| 242/255 [01:19<00:04,  3.04it/s, loss=0.218, v_num=2, train_loss=0.202, train_accuracy=0.944, val_loss=0.266, val_accuracy=0.879]\n",
      "Epoch 63:  96%|█████████▌| 244/255 [01:19<00:03,  3.05it/s, loss=0.218, v_num=2, train_loss=0.202, train_accuracy=0.944, val_loss=0.266, val_accuracy=0.879]\n",
      "Epoch 63:  96%|█████████▋| 246/255 [01:20<00:02,  3.07it/s, loss=0.218, v_num=2, train_loss=0.202, train_accuracy=0.944, val_loss=0.266, val_accuracy=0.879]\n",
      "Epoch 63:  97%|█████████▋| 248/255 [01:20<00:02,  3.09it/s, loss=0.218, v_num=2, train_loss=0.202, train_accuracy=0.944, val_loss=0.266, val_accuracy=0.879]\n",
      "Epoch 63:  98%|█████████▊| 250/255 [01:20<00:01,  3.11it/s, loss=0.218, v_num=2, train_loss=0.202, train_accuracy=0.944, val_loss=0.266, val_accuracy=0.879]\n",
      "Epoch 63:  99%|█████████▉| 252/255 [01:20<00:00,  3.13it/s, loss=0.218, v_num=2, train_loss=0.202, train_accuracy=0.944, val_loss=0.266, val_accuracy=0.879]\n",
      "Epoch 63: 100%|█████████▉| 254/255 [01:20<00:00,  3.15it/s, loss=0.218, v_num=2, train_loss=0.202, train_accuracy=0.944, val_loss=0.266, val_accuracy=0.879]\n",
      "Epoch 63: 100%|██████████| 255/255 [01:21<00:00,  3.15it/s, loss=0.218, v_num=2, train_loss=0.202, train_accuracy=0.944, val_loss=0.230, val_accuracy=0.893]\n",
      "Epoch 63: 100%|██████████| 255/255 [01:21<00:00,  3.15it/s, loss=0.218, v_num=2, train_loss=0.202, train_accuracy=0.944, val_loss=0.230, val_accuracy=0.893]"
     ]
    },
    {
     "name": "stderr",
     "output_type": "stream",
     "text": [
      "Epoch 63, global step 14463: val_loss was not in top 2\n"
     ]
    },
    {
     "name": "stdout",
     "output_type": "stream",
     "text": [
      "Epoch 64:  89%|████████▊ | 226/255 [01:16<00:09,  2.94it/s, loss=0.228, v_num=2, train_loss=0.290, train_accuracy=0.778, val_loss=0.230, val_accuracy=0.893] \n",
      "Validating: 0it [00:00, ?it/s]\u001b[A\n",
      "Validating:   0%|          | 0/29 [00:00<?, ?it/s]\u001b[A\n",
      "Epoch 64:  89%|████████▉ | 228/255 [01:18<00:09,  2.90it/s, loss=0.228, v_num=2, train_loss=0.290, train_accuracy=0.778, val_loss=0.230, val_accuracy=0.893]\n",
      "Epoch 64:  90%|█████████ | 230/255 [01:18<00:08,  2.92it/s, loss=0.228, v_num=2, train_loss=0.290, train_accuracy=0.778, val_loss=0.230, val_accuracy=0.893]\n",
      "Epoch 64:  91%|█████████ | 232/255 [01:18<00:07,  2.94it/s, loss=0.228, v_num=2, train_loss=0.290, train_accuracy=0.778, val_loss=0.230, val_accuracy=0.893]\n",
      "Epoch 64:  92%|█████████▏| 234/255 [01:19<00:07,  2.96it/s, loss=0.228, v_num=2, train_loss=0.290, train_accuracy=0.778, val_loss=0.230, val_accuracy=0.893]\n",
      "Epoch 64:  93%|█████████▎| 236/255 [01:19<00:06,  2.98it/s, loss=0.228, v_num=2, train_loss=0.290, train_accuracy=0.778, val_loss=0.230, val_accuracy=0.893]\n",
      "Epoch 64:  93%|█████████▎| 238/255 [01:19<00:05,  3.00it/s, loss=0.228, v_num=2, train_loss=0.290, train_accuracy=0.778, val_loss=0.230, val_accuracy=0.893]\n",
      "Epoch 64:  94%|█████████▍| 240/255 [01:19<00:04,  3.02it/s, loss=0.228, v_num=2, train_loss=0.290, train_accuracy=0.778, val_loss=0.230, val_accuracy=0.893]\n",
      "Epoch 64:  95%|█████████▍| 242/255 [01:19<00:04,  3.04it/s, loss=0.228, v_num=2, train_loss=0.290, train_accuracy=0.778, val_loss=0.230, val_accuracy=0.893]\n",
      "Epoch 64:  96%|█████████▌| 244/255 [01:19<00:03,  3.06it/s, loss=0.228, v_num=2, train_loss=0.290, train_accuracy=0.778, val_loss=0.230, val_accuracy=0.893]\n",
      "Epoch 64:  96%|█████████▋| 246/255 [01:20<00:02,  3.07it/s, loss=0.228, v_num=2, train_loss=0.290, train_accuracy=0.778, val_loss=0.230, val_accuracy=0.893]\n",
      "Epoch 64:  97%|█████████▋| 248/255 [01:20<00:02,  3.09it/s, loss=0.228, v_num=2, train_loss=0.290, train_accuracy=0.778, val_loss=0.230, val_accuracy=0.893]\n",
      "Epoch 64:  98%|█████████▊| 250/255 [01:20<00:01,  3.11it/s, loss=0.228, v_num=2, train_loss=0.290, train_accuracy=0.778, val_loss=0.230, val_accuracy=0.893]\n",
      "Epoch 64:  99%|█████████▉| 252/255 [01:20<00:00,  3.13it/s, loss=0.228, v_num=2, train_loss=0.290, train_accuracy=0.778, val_loss=0.230, val_accuracy=0.893]\n",
      "Epoch 64: 100%|█████████▉| 254/255 [01:20<00:00,  3.15it/s, loss=0.228, v_num=2, train_loss=0.290, train_accuracy=0.778, val_loss=0.230, val_accuracy=0.893]\n",
      "Epoch 64: 100%|██████████| 255/255 [01:20<00:00,  3.15it/s, loss=0.228, v_num=2, train_loss=0.290, train_accuracy=0.778, val_loss=0.223, val_accuracy=0.890]\n",
      "Epoch 64: 100%|██████████| 255/255 [01:21<00:00,  3.15it/s, loss=0.228, v_num=2, train_loss=0.290, train_accuracy=0.778, val_loss=0.223, val_accuracy=0.890]"
     ]
    },
    {
     "name": "stderr",
     "output_type": "stream",
     "text": [
      "Epoch 64, global step 14689: val_loss reached 0.22349 (best 0.22083), saving model to \"/Workspace/code/checkpoints/best-checkpoint-corr-mi-27-v2.ckpt\" as top 2\n"
     ]
    },
    {
     "name": "stdout",
     "output_type": "stream",
     "text": [
      "Epoch 65:  89%|████████▊ | 226/255 [01:17<00:09,  2.93it/s, loss=0.197, v_num=2, train_loss=0.0498, train_accuracy=1.000, val_loss=0.223, val_accuracy=0.890]\n",
      "Validating: 0it [00:00, ?it/s]\u001b[A\n",
      "Validating:   0%|          | 0/29 [00:00<?, ?it/s]\u001b[A\n",
      "Epoch 65:  89%|████████▉ | 228/255 [01:18<00:09,  2.90it/s, loss=0.197, v_num=2, train_loss=0.0498, train_accuracy=1.000, val_loss=0.223, val_accuracy=0.890]\n",
      "Epoch 65:  90%|█████████ | 230/255 [01:18<00:08,  2.92it/s, loss=0.197, v_num=2, train_loss=0.0498, train_accuracy=1.000, val_loss=0.223, val_accuracy=0.890]\n",
      "Epoch 65:  91%|█████████ | 232/255 [01:19<00:07,  2.94it/s, loss=0.197, v_num=2, train_loss=0.0498, train_accuracy=1.000, val_loss=0.223, val_accuracy=0.890]\n",
      "Epoch 65:  92%|█████████▏| 234/255 [01:19<00:07,  2.95it/s, loss=0.197, v_num=2, train_loss=0.0498, train_accuracy=1.000, val_loss=0.223, val_accuracy=0.890]\n",
      "Epoch 65:  93%|█████████▎| 236/255 [01:19<00:06,  2.97it/s, loss=0.197, v_num=2, train_loss=0.0498, train_accuracy=1.000, val_loss=0.223, val_accuracy=0.890]\n",
      "Epoch 65:  93%|█████████▎| 238/255 [01:19<00:05,  2.99it/s, loss=0.197, v_num=2, train_loss=0.0498, train_accuracy=1.000, val_loss=0.223, val_accuracy=0.890]\n",
      "Epoch 65:  94%|█████████▍| 240/255 [01:19<00:04,  3.01it/s, loss=0.197, v_num=2, train_loss=0.0498, train_accuracy=1.000, val_loss=0.223, val_accuracy=0.890]\n",
      "Epoch 65:  95%|█████████▍| 242/255 [01:19<00:04,  3.03it/s, loss=0.197, v_num=2, train_loss=0.0498, train_accuracy=1.000, val_loss=0.223, val_accuracy=0.890]\n",
      "Epoch 65:  96%|█████████▌| 244/255 [01:19<00:03,  3.05it/s, loss=0.197, v_num=2, train_loss=0.0498, train_accuracy=1.000, val_loss=0.223, val_accuracy=0.890]\n",
      "Epoch 65:  96%|█████████▋| 246/255 [01:20<00:02,  3.07it/s, loss=0.197, v_num=2, train_loss=0.0498, train_accuracy=1.000, val_loss=0.223, val_accuracy=0.890]\n",
      "Epoch 65:  97%|█████████▋| 248/255 [01:20<00:02,  3.09it/s, loss=0.197, v_num=2, train_loss=0.0498, train_accuracy=1.000, val_loss=0.223, val_accuracy=0.890]\n",
      "Epoch 65:  98%|█████████▊| 250/255 [01:20<00:01,  3.11it/s, loss=0.197, v_num=2, train_loss=0.0498, train_accuracy=1.000, val_loss=0.223, val_accuracy=0.890]\n",
      "Epoch 65:  99%|█████████▉| 252/255 [01:20<00:00,  3.13it/s, loss=0.197, v_num=2, train_loss=0.0498, train_accuracy=1.000, val_loss=0.223, val_accuracy=0.890]\n",
      "Epoch 65: 100%|█████████▉| 254/255 [01:20<00:00,  3.15it/s, loss=0.197, v_num=2, train_loss=0.0498, train_accuracy=1.000, val_loss=0.223, val_accuracy=0.890]\n",
      "Epoch 65: 100%|██████████| 255/255 [01:21<00:00,  3.15it/s, loss=0.197, v_num=2, train_loss=0.0498, train_accuracy=1.000, val_loss=0.219, val_accuracy=0.891]\n",
      "Epoch 65: 100%|██████████| 255/255 [01:21<00:00,  3.15it/s, loss=0.197, v_num=2, train_loss=0.0498, train_accuracy=1.000, val_loss=0.219, val_accuracy=0.891]"
     ]
    },
    {
     "name": "stderr",
     "output_type": "stream",
     "text": [
      "Epoch 65, global step 14915: val_loss reached 0.21872 (best 0.21872), saving model to \"/Workspace/code/checkpoints/best-checkpoint-corr-mi-27-v2.ckpt\" as top 2\n"
     ]
    },
    {
     "name": "stdout",
     "output_type": "stream",
     "text": [
      "Epoch 66:  89%|████████▊ | 226/255 [01:16<00:09,  2.94it/s, loss=0.218, v_num=2, train_loss=0.211, train_accuracy=0.833, val_loss=0.219, val_accuracy=0.891] \n",
      "Validating: 0it [00:00, ?it/s]\u001b[A\n",
      "Validating:   0%|          | 0/29 [00:00<?, ?it/s]\u001b[A\n",
      "Epoch 66:  89%|████████▉ | 228/255 [01:18<00:09,  2.90it/s, loss=0.218, v_num=2, train_loss=0.211, train_accuracy=0.833, val_loss=0.219, val_accuracy=0.891]\n",
      "Epoch 66:  90%|█████████ | 230/255 [01:18<00:08,  2.92it/s, loss=0.218, v_num=2, train_loss=0.211, train_accuracy=0.833, val_loss=0.219, val_accuracy=0.891]\n",
      "Epoch 66:  91%|█████████ | 232/255 [01:18<00:07,  2.94it/s, loss=0.218, v_num=2, train_loss=0.211, train_accuracy=0.833, val_loss=0.219, val_accuracy=0.891]\n",
      "Epoch 66:  92%|█████████▏| 234/255 [01:19<00:07,  2.96it/s, loss=0.218, v_num=2, train_loss=0.211, train_accuracy=0.833, val_loss=0.219, val_accuracy=0.891]\n",
      "Epoch 66:  93%|█████████▎| 236/255 [01:19<00:06,  2.98it/s, loss=0.218, v_num=2, train_loss=0.211, train_accuracy=0.833, val_loss=0.219, val_accuracy=0.891]\n",
      "Epoch 66:  93%|█████████▎| 238/255 [01:19<00:05,  3.00it/s, loss=0.218, v_num=2, train_loss=0.211, train_accuracy=0.833, val_loss=0.219, val_accuracy=0.891]\n",
      "Epoch 66:  94%|█████████▍| 240/255 [01:19<00:04,  3.02it/s, loss=0.218, v_num=2, train_loss=0.211, train_accuracy=0.833, val_loss=0.219, val_accuracy=0.891]\n",
      "Epoch 66:  95%|█████████▍| 242/255 [01:19<00:04,  3.04it/s, loss=0.218, v_num=2, train_loss=0.211, train_accuracy=0.833, val_loss=0.219, val_accuracy=0.891]\n",
      "Epoch 66:  96%|█████████▌| 244/255 [01:19<00:03,  3.05it/s, loss=0.218, v_num=2, train_loss=0.211, train_accuracy=0.833, val_loss=0.219, val_accuracy=0.891]\n",
      "Epoch 66:  96%|█████████▋| 246/255 [01:20<00:02,  3.07it/s, loss=0.218, v_num=2, train_loss=0.211, train_accuracy=0.833, val_loss=0.219, val_accuracy=0.891]\n",
      "Epoch 66:  97%|█████████▋| 248/255 [01:20<00:02,  3.09it/s, loss=0.218, v_num=2, train_loss=0.211, train_accuracy=0.833, val_loss=0.219, val_accuracy=0.891]\n",
      "Epoch 66:  98%|█████████▊| 250/255 [01:20<00:01,  3.11it/s, loss=0.218, v_num=2, train_loss=0.211, train_accuracy=0.833, val_loss=0.219, val_accuracy=0.891]\n",
      "Epoch 66:  99%|█████████▉| 252/255 [01:20<00:00,  3.13it/s, loss=0.218, v_num=2, train_loss=0.211, train_accuracy=0.833, val_loss=0.219, val_accuracy=0.891]\n",
      "Epoch 66: 100%|█████████▉| 254/255 [01:20<00:00,  3.15it/s, loss=0.218, v_num=2, train_loss=0.211, train_accuracy=0.833, val_loss=0.219, val_accuracy=0.891]\n",
      "Epoch 66: 100%|██████████| 255/255 [01:21<00:00,  3.15it/s, loss=0.218, v_num=2, train_loss=0.211, train_accuracy=0.833, val_loss=0.211, val_accuracy=0.896]\n",
      "Epoch 66: 100%|██████████| 255/255 [01:21<00:00,  3.15it/s, loss=0.218, v_num=2, train_loss=0.211, train_accuracy=0.833, val_loss=0.211, val_accuracy=0.896]"
     ]
    },
    {
     "name": "stderr",
     "output_type": "stream",
     "text": [
      "Epoch 66, global step 15141: val_loss reached 0.21057 (best 0.21057), saving model to \"/Workspace/code/checkpoints/best-checkpoint-corr-mi-27-v3.ckpt\" as top 2\n"
     ]
    },
    {
     "name": "stdout",
     "output_type": "stream",
     "text": [
      "Epoch 67:  89%|████████▊ | 226/255 [01:16<00:09,  2.94it/s, loss=0.239, v_num=2, train_loss=0.450, train_accuracy=0.889, val_loss=0.211, val_accuracy=0.896] \n",
      "Validating: 0it [00:00, ?it/s]\u001b[A\n",
      "Validating:   0%|          | 0/29 [00:00<?, ?it/s]\u001b[A\n",
      "Epoch 67:  89%|████████▉ | 228/255 [01:18<00:09,  2.90it/s, loss=0.239, v_num=2, train_loss=0.450, train_accuracy=0.889, val_loss=0.211, val_accuracy=0.896]\n",
      "Epoch 67:  90%|█████████ | 230/255 [01:18<00:08,  2.92it/s, loss=0.239, v_num=2, train_loss=0.450, train_accuracy=0.889, val_loss=0.211, val_accuracy=0.896]\n",
      "Epoch 67:  91%|█████████ | 232/255 [01:18<00:07,  2.94it/s, loss=0.239, v_num=2, train_loss=0.450, train_accuracy=0.889, val_loss=0.211, val_accuracy=0.896]\n",
      "Epoch 67:  92%|█████████▏| 234/255 [01:19<00:07,  2.96it/s, loss=0.239, v_num=2, train_loss=0.450, train_accuracy=0.889, val_loss=0.211, val_accuracy=0.896]\n",
      "Epoch 67:  93%|█████████▎| 236/255 [01:19<00:06,  2.98it/s, loss=0.239, v_num=2, train_loss=0.450, train_accuracy=0.889, val_loss=0.211, val_accuracy=0.896]\n",
      "Epoch 67:  93%|█████████▎| 238/255 [01:19<00:05,  3.00it/s, loss=0.239, v_num=2, train_loss=0.450, train_accuracy=0.889, val_loss=0.211, val_accuracy=0.896]\n",
      "Epoch 67:  94%|█████████▍| 240/255 [01:19<00:04,  3.02it/s, loss=0.239, v_num=2, train_loss=0.450, train_accuracy=0.889, val_loss=0.211, val_accuracy=0.896]\n",
      "Epoch 67:  95%|█████████▍| 242/255 [01:19<00:04,  3.04it/s, loss=0.239, v_num=2, train_loss=0.450, train_accuracy=0.889, val_loss=0.211, val_accuracy=0.896]\n",
      "Epoch 67:  96%|█████████▌| 244/255 [01:19<00:03,  3.06it/s, loss=0.239, v_num=2, train_loss=0.450, train_accuracy=0.889, val_loss=0.211, val_accuracy=0.896]\n",
      "Epoch 67:  96%|█████████▋| 246/255 [01:20<00:02,  3.07it/s, loss=0.239, v_num=2, train_loss=0.450, train_accuracy=0.889, val_loss=0.211, val_accuracy=0.896]\n",
      "Epoch 67:  97%|█████████▋| 248/255 [01:20<00:02,  3.09it/s, loss=0.239, v_num=2, train_loss=0.450, train_accuracy=0.889, val_loss=0.211, val_accuracy=0.896]\n",
      "Epoch 67:  98%|█████████▊| 250/255 [01:20<00:01,  3.11it/s, loss=0.239, v_num=2, train_loss=0.450, train_accuracy=0.889, val_loss=0.211, val_accuracy=0.896]\n",
      "Epoch 67:  99%|█████████▉| 252/255 [01:20<00:00,  3.13it/s, loss=0.239, v_num=2, train_loss=0.450, train_accuracy=0.889, val_loss=0.211, val_accuracy=0.896]\n",
      "Epoch 67: 100%|█████████▉| 254/255 [01:20<00:00,  3.15it/s, loss=0.239, v_num=2, train_loss=0.450, train_accuracy=0.889, val_loss=0.211, val_accuracy=0.896]\n",
      "Epoch 67: 100%|██████████| 255/255 [01:20<00:00,  3.15it/s, loss=0.239, v_num=2, train_loss=0.450, train_accuracy=0.889, val_loss=0.220, val_accuracy=0.893]\n",
      "Epoch 67: 100%|██████████| 255/255 [01:20<00:00,  3.15it/s, loss=0.239, v_num=2, train_loss=0.450, train_accuracy=0.889, val_loss=0.220, val_accuracy=0.893]"
     ]
    },
    {
     "name": "stderr",
     "output_type": "stream",
     "text": [
      "Epoch 67, global step 15367: val_loss was not in top 2\n"
     ]
    },
    {
     "name": "stdout",
     "output_type": "stream",
     "text": [
      "Epoch 68:  89%|████████▊ | 226/255 [01:16<00:09,  2.94it/s, loss=0.252, v_num=2, train_loss=0.350, train_accuracy=0.889, val_loss=0.220, val_accuracy=0.893] \n",
      "Validating: 0it [00:00, ?it/s]\u001b[A\n",
      "Validating:   0%|          | 0/29 [00:00<?, ?it/s]\u001b[A\n",
      "Epoch 68:  89%|████████▉ | 228/255 [01:18<00:09,  2.90it/s, loss=0.252, v_num=2, train_loss=0.350, train_accuracy=0.889, val_loss=0.220, val_accuracy=0.893]\n",
      "Epoch 68:  90%|█████████ | 230/255 [01:18<00:08,  2.92it/s, loss=0.252, v_num=2, train_loss=0.350, train_accuracy=0.889, val_loss=0.220, val_accuracy=0.893]\n",
      "Epoch 68:  91%|█████████ | 232/255 [01:18<00:07,  2.94it/s, loss=0.252, v_num=2, train_loss=0.350, train_accuracy=0.889, val_loss=0.220, val_accuracy=0.893]\n",
      "Epoch 68:  92%|█████████▏| 234/255 [01:19<00:07,  2.96it/s, loss=0.252, v_num=2, train_loss=0.350, train_accuracy=0.889, val_loss=0.220, val_accuracy=0.893]\n",
      "Epoch 68:  93%|█████████▎| 236/255 [01:19<00:06,  2.98it/s, loss=0.252, v_num=2, train_loss=0.350, train_accuracy=0.889, val_loss=0.220, val_accuracy=0.893]\n",
      "Epoch 68:  93%|█████████▎| 238/255 [01:19<00:05,  3.00it/s, loss=0.252, v_num=2, train_loss=0.350, train_accuracy=0.889, val_loss=0.220, val_accuracy=0.893]\n",
      "Epoch 68:  94%|█████████▍| 240/255 [01:19<00:04,  3.02it/s, loss=0.252, v_num=2, train_loss=0.350, train_accuracy=0.889, val_loss=0.220, val_accuracy=0.893]\n",
      "Epoch 68:  95%|█████████▍| 242/255 [01:19<00:04,  3.04it/s, loss=0.252, v_num=2, train_loss=0.350, train_accuracy=0.889, val_loss=0.220, val_accuracy=0.893]\n",
      "Epoch 68:  96%|█████████▌| 244/255 [01:19<00:03,  3.06it/s, loss=0.252, v_num=2, train_loss=0.350, train_accuracy=0.889, val_loss=0.220, val_accuracy=0.893]\n",
      "Epoch 68:  96%|█████████▋| 246/255 [01:19<00:02,  3.08it/s, loss=0.252, v_num=2, train_loss=0.350, train_accuracy=0.889, val_loss=0.220, val_accuracy=0.893]\n",
      "Epoch 68:  97%|█████████▋| 248/255 [01:20<00:02,  3.10it/s, loss=0.252, v_num=2, train_loss=0.350, train_accuracy=0.889, val_loss=0.220, val_accuracy=0.893]\n",
      "Epoch 68:  98%|█████████▊| 250/255 [01:20<00:01,  3.12it/s, loss=0.252, v_num=2, train_loss=0.350, train_accuracy=0.889, val_loss=0.220, val_accuracy=0.893]\n",
      "Epoch 68:  99%|█████████▉| 252/255 [01:20<00:00,  3.14it/s, loss=0.252, v_num=2, train_loss=0.350, train_accuracy=0.889, val_loss=0.220, val_accuracy=0.893]\n",
      "Epoch 68: 100%|█████████▉| 254/255 [01:20<00:00,  3.15it/s, loss=0.252, v_num=2, train_loss=0.350, train_accuracy=0.889, val_loss=0.220, val_accuracy=0.893]\n",
      "Epoch 68: 100%|██████████| 255/255 [01:20<00:00,  3.15it/s, loss=0.252, v_num=2, train_loss=0.350, train_accuracy=0.889, val_loss=0.271, val_accuracy=0.881]\n",
      "Epoch 68: 100%|██████████| 255/255 [01:20<00:00,  3.15it/s, loss=0.252, v_num=2, train_loss=0.350, train_accuracy=0.889, val_loss=0.271, val_accuracy=0.881]"
     ]
    },
    {
     "name": "stderr",
     "output_type": "stream",
     "text": [
      "Epoch 68, global step 15593: val_loss was not in top 2\n"
     ]
    },
    {
     "name": "stdout",
     "output_type": "stream",
     "text": [
      "Epoch 69:  89%|████████▊ | 226/255 [01:16<00:09,  2.94it/s, loss=0.172, v_num=2, train_loss=0.0986, train_accuracy=0.944, val_loss=0.271, val_accuracy=0.881]\n",
      "Validating: 0it [00:00, ?it/s]\u001b[A\n",
      "Validating:   0%|          | 0/29 [00:00<?, ?it/s]\u001b[A\n",
      "Epoch 69:  89%|████████▉ | 228/255 [01:18<00:09,  2.90it/s, loss=0.172, v_num=2, train_loss=0.0986, train_accuracy=0.944, val_loss=0.271, val_accuracy=0.881]\n",
      "Epoch 69:  90%|█████████ | 230/255 [01:18<00:08,  2.92it/s, loss=0.172, v_num=2, train_loss=0.0986, train_accuracy=0.944, val_loss=0.271, val_accuracy=0.881]\n",
      "Epoch 69:  91%|█████████ | 232/255 [01:18<00:07,  2.94it/s, loss=0.172, v_num=2, train_loss=0.0986, train_accuracy=0.944, val_loss=0.271, val_accuracy=0.881]\n",
      "Epoch 69:  92%|█████████▏| 234/255 [01:19<00:07,  2.96it/s, loss=0.172, v_num=2, train_loss=0.0986, train_accuracy=0.944, val_loss=0.271, val_accuracy=0.881]\n",
      "Epoch 69:  93%|█████████▎| 236/255 [01:19<00:06,  2.98it/s, loss=0.172, v_num=2, train_loss=0.0986, train_accuracy=0.944, val_loss=0.271, val_accuracy=0.881]\n",
      "Epoch 69:  93%|█████████▎| 238/255 [01:19<00:05,  3.00it/s, loss=0.172, v_num=2, train_loss=0.0986, train_accuracy=0.944, val_loss=0.271, val_accuracy=0.881]\n",
      "Epoch 69:  94%|█████████▍| 240/255 [01:19<00:04,  3.02it/s, loss=0.172, v_num=2, train_loss=0.0986, train_accuracy=0.944, val_loss=0.271, val_accuracy=0.881]\n",
      "Epoch 69:  95%|█████████▍| 242/255 [01:19<00:04,  3.04it/s, loss=0.172, v_num=2, train_loss=0.0986, train_accuracy=0.944, val_loss=0.271, val_accuracy=0.881]\n",
      "Epoch 69:  96%|█████████▌| 244/255 [01:19<00:03,  3.06it/s, loss=0.172, v_num=2, train_loss=0.0986, train_accuracy=0.944, val_loss=0.271, val_accuracy=0.881]\n",
      "Epoch 69:  96%|█████████▋| 246/255 [01:19<00:02,  3.08it/s, loss=0.172, v_num=2, train_loss=0.0986, train_accuracy=0.944, val_loss=0.271, val_accuracy=0.881]\n",
      "Epoch 69:  97%|█████████▋| 248/255 [01:20<00:02,  3.10it/s, loss=0.172, v_num=2, train_loss=0.0986, train_accuracy=0.944, val_loss=0.271, val_accuracy=0.881]\n",
      "Epoch 69:  98%|█████████▊| 250/255 [01:20<00:01,  3.11it/s, loss=0.172, v_num=2, train_loss=0.0986, train_accuracy=0.944, val_loss=0.271, val_accuracy=0.881]\n",
      "Epoch 69:  99%|█████████▉| 252/255 [01:20<00:00,  3.13it/s, loss=0.172, v_num=2, train_loss=0.0986, train_accuracy=0.944, val_loss=0.271, val_accuracy=0.881]\n",
      "Epoch 69: 100%|█████████▉| 254/255 [01:20<00:00,  3.15it/s, loss=0.172, v_num=2, train_loss=0.0986, train_accuracy=0.944, val_loss=0.271, val_accuracy=0.881]\n",
      "Epoch 69: 100%|██████████| 255/255 [01:20<00:00,  3.15it/s, loss=0.172, v_num=2, train_loss=0.0986, train_accuracy=0.944, val_loss=0.216, val_accuracy=0.896]\n",
      "Epoch 69: 100%|██████████| 255/255 [01:20<00:00,  3.15it/s, loss=0.172, v_num=2, train_loss=0.0986, train_accuracy=0.944, val_loss=0.216, val_accuracy=0.896]"
     ]
    },
    {
     "name": "stderr",
     "output_type": "stream",
     "text": [
      "Epoch 69, global step 15819: val_loss reached 0.21612 (best 0.21057), saving model to \"/Workspace/code/checkpoints/best-checkpoint-corr-mi-27-v2.ckpt\" as top 2\n"
     ]
    },
    {
     "name": "stdout",
     "output_type": "stream",
     "text": [
      "Epoch 70:  89%|████████▊ | 226/255 [01:16<00:09,  2.94it/s, loss=0.184, v_num=2, train_loss=0.121, train_accuracy=0.944, val_loss=0.216, val_accuracy=0.896] \n",
      "Validating: 0it [00:00, ?it/s]\u001b[A\n",
      "Validating:   0%|          | 0/29 [00:00<?, ?it/s]\u001b[A\n",
      "Epoch 70:  89%|████████▉ | 228/255 [01:18<00:09,  2.90it/s, loss=0.184, v_num=2, train_loss=0.121, train_accuracy=0.944, val_loss=0.216, val_accuracy=0.896]\n",
      "Epoch 70:  90%|█████████ | 230/255 [01:18<00:08,  2.92it/s, loss=0.184, v_num=2, train_loss=0.121, train_accuracy=0.944, val_loss=0.216, val_accuracy=0.896]\n",
      "Epoch 70:  91%|█████████ | 232/255 [01:18<00:07,  2.94it/s, loss=0.184, v_num=2, train_loss=0.121, train_accuracy=0.944, val_loss=0.216, val_accuracy=0.896]\n",
      "Epoch 70:  92%|█████████▏| 234/255 [01:19<00:07,  2.96it/s, loss=0.184, v_num=2, train_loss=0.121, train_accuracy=0.944, val_loss=0.216, val_accuracy=0.896]\n",
      "Epoch 70:  93%|█████████▎| 236/255 [01:19<00:06,  2.98it/s, loss=0.184, v_num=2, train_loss=0.121, train_accuracy=0.944, val_loss=0.216, val_accuracy=0.896]\n",
      "Epoch 70:  93%|█████████▎| 238/255 [01:19<00:05,  3.00it/s, loss=0.184, v_num=2, train_loss=0.121, train_accuracy=0.944, val_loss=0.216, val_accuracy=0.896]\n",
      "Epoch 70:  94%|█████████▍| 240/255 [01:19<00:04,  3.02it/s, loss=0.184, v_num=2, train_loss=0.121, train_accuracy=0.944, val_loss=0.216, val_accuracy=0.896]\n",
      "Epoch 70:  95%|█████████▍| 242/255 [01:19<00:04,  3.04it/s, loss=0.184, v_num=2, train_loss=0.121, train_accuracy=0.944, val_loss=0.216, val_accuracy=0.896]\n",
      "Epoch 70:  96%|█████████▌| 244/255 [01:19<00:03,  3.06it/s, loss=0.184, v_num=2, train_loss=0.121, train_accuracy=0.944, val_loss=0.216, val_accuracy=0.896]\n",
      "Epoch 70:  96%|█████████▋| 246/255 [01:19<00:02,  3.08it/s, loss=0.184, v_num=2, train_loss=0.121, train_accuracy=0.944, val_loss=0.216, val_accuracy=0.896]\n",
      "Epoch 70:  97%|█████████▋| 248/255 [01:20<00:02,  3.09it/s, loss=0.184, v_num=2, train_loss=0.121, train_accuracy=0.944, val_loss=0.216, val_accuracy=0.896]\n",
      "Epoch 70:  98%|█████████▊| 250/255 [01:20<00:01,  3.11it/s, loss=0.184, v_num=2, train_loss=0.121, train_accuracy=0.944, val_loss=0.216, val_accuracy=0.896]\n",
      "Epoch 70:  99%|█████████▉| 252/255 [01:20<00:00,  3.13it/s, loss=0.184, v_num=2, train_loss=0.121, train_accuracy=0.944, val_loss=0.216, val_accuracy=0.896]\n",
      "Epoch 70: 100%|█████████▉| 254/255 [01:20<00:00,  3.15it/s, loss=0.184, v_num=2, train_loss=0.121, train_accuracy=0.944, val_loss=0.216, val_accuracy=0.896]\n",
      "Epoch 70: 100%|██████████| 255/255 [01:20<00:00,  3.15it/s, loss=0.184, v_num=2, train_loss=0.121, train_accuracy=0.944, val_loss=0.209, val_accuracy=0.899]\n",
      "Epoch 70: 100%|██████████| 255/255 [01:20<00:00,  3.15it/s, loss=0.184, v_num=2, train_loss=0.121, train_accuracy=0.944, val_loss=0.209, val_accuracy=0.899]"
     ]
    },
    {
     "name": "stderr",
     "output_type": "stream",
     "text": [
      "Epoch 70, global step 16045: val_loss reached 0.20870 (best 0.20870), saving model to \"/Workspace/code/checkpoints/best-checkpoint-corr-mi-27-v2.ckpt\" as top 2\n"
     ]
    },
    {
     "name": "stdout",
     "output_type": "stream",
     "text": [
      "Epoch 71:  89%|████████▊ | 226/255 [01:16<00:09,  2.94it/s, loss=0.164, v_num=2, train_loss=0.251, train_accuracy=0.889, val_loss=0.209, val_accuracy=0.899] \n",
      "Validating: 0it [00:00, ?it/s]\u001b[A\n",
      "Validating:   0%|          | 0/29 [00:00<?, ?it/s]\u001b[A\n",
      "Epoch 71:  89%|████████▉ | 228/255 [01:18<00:09,  2.90it/s, loss=0.164, v_num=2, train_loss=0.251, train_accuracy=0.889, val_loss=0.209, val_accuracy=0.899]\n",
      "Epoch 71:  90%|█████████ | 230/255 [01:18<00:08,  2.92it/s, loss=0.164, v_num=2, train_loss=0.251, train_accuracy=0.889, val_loss=0.209, val_accuracy=0.899]\n",
      "Epoch 71:  91%|█████████ | 232/255 [01:18<00:07,  2.94it/s, loss=0.164, v_num=2, train_loss=0.251, train_accuracy=0.889, val_loss=0.209, val_accuracy=0.899]\n",
      "Epoch 71:  92%|█████████▏| 234/255 [01:19<00:07,  2.96it/s, loss=0.164, v_num=2, train_loss=0.251, train_accuracy=0.889, val_loss=0.209, val_accuracy=0.899]\n",
      "Epoch 71:  93%|█████████▎| 236/255 [01:19<00:06,  2.98it/s, loss=0.164, v_num=2, train_loss=0.251, train_accuracy=0.889, val_loss=0.209, val_accuracy=0.899]\n",
      "Epoch 71:  93%|█████████▎| 238/255 [01:19<00:05,  2.99it/s, loss=0.164, v_num=2, train_loss=0.251, train_accuracy=0.889, val_loss=0.209, val_accuracy=0.899]\n",
      "Epoch 71:  94%|█████████▍| 240/255 [01:19<00:04,  3.01it/s, loss=0.164, v_num=2, train_loss=0.251, train_accuracy=0.889, val_loss=0.209, val_accuracy=0.899]\n",
      "Epoch 71:  95%|█████████▍| 242/255 [01:19<00:04,  3.03it/s, loss=0.164, v_num=2, train_loss=0.251, train_accuracy=0.889, val_loss=0.209, val_accuracy=0.899]\n",
      "Epoch 71:  96%|█████████▌| 244/255 [01:19<00:03,  3.05it/s, loss=0.164, v_num=2, train_loss=0.251, train_accuracy=0.889, val_loss=0.209, val_accuracy=0.899]\n",
      "Epoch 71:  96%|█████████▋| 246/255 [01:20<00:02,  3.07it/s, loss=0.164, v_num=2, train_loss=0.251, train_accuracy=0.889, val_loss=0.209, val_accuracy=0.899]\n",
      "Epoch 71:  97%|█████████▋| 248/255 [01:20<00:02,  3.09it/s, loss=0.164, v_num=2, train_loss=0.251, train_accuracy=0.889, val_loss=0.209, val_accuracy=0.899]\n",
      "Epoch 71:  98%|█████████▊| 250/255 [01:20<00:01,  3.11it/s, loss=0.164, v_num=2, train_loss=0.251, train_accuracy=0.889, val_loss=0.209, val_accuracy=0.899]\n",
      "Epoch 71:  99%|█████████▉| 252/255 [01:20<00:00,  3.13it/s, loss=0.164, v_num=2, train_loss=0.251, train_accuracy=0.889, val_loss=0.209, val_accuracy=0.899]\n",
      "Epoch 71: 100%|█████████▉| 254/255 [01:20<00:00,  3.15it/s, loss=0.164, v_num=2, train_loss=0.251, train_accuracy=0.889, val_loss=0.209, val_accuracy=0.899]\n",
      "Epoch 71: 100%|██████████| 255/255 [01:21<00:00,  3.15it/s, loss=0.164, v_num=2, train_loss=0.251, train_accuracy=0.889, val_loss=0.202, val_accuracy=0.903]\n",
      "Epoch 71: 100%|██████████| 255/255 [01:21<00:00,  3.15it/s, loss=0.164, v_num=2, train_loss=0.251, train_accuracy=0.889, val_loss=0.202, val_accuracy=0.903]"
     ]
    },
    {
     "name": "stderr",
     "output_type": "stream",
     "text": [
      "Epoch 71, global step 16271: val_loss reached 0.20150 (best 0.20150), saving model to \"/Workspace/code/checkpoints/best-checkpoint-corr-mi-27-v3.ckpt\" as top 2\n"
     ]
    },
    {
     "name": "stdout",
     "output_type": "stream",
     "text": [
      "Epoch 72:  89%|████████▊ | 226/255 [01:16<00:09,  2.94it/s, loss=0.176, v_num=2, train_loss=0.0413, train_accuracy=1.000, val_loss=0.202, val_accuracy=0.903]\n",
      "Validating: 0it [00:00, ?it/s]\u001b[A\n",
      "Validating:   0%|          | 0/29 [00:00<?, ?it/s]\u001b[A\n",
      "Epoch 72:  89%|████████▉ | 228/255 [01:18<00:09,  2.90it/s, loss=0.176, v_num=2, train_loss=0.0413, train_accuracy=1.000, val_loss=0.202, val_accuracy=0.903]\n",
      "Epoch 72:  90%|█████████ | 230/255 [01:18<00:08,  2.92it/s, loss=0.176, v_num=2, train_loss=0.0413, train_accuracy=1.000, val_loss=0.202, val_accuracy=0.903]\n",
      "Epoch 72:  91%|█████████ | 232/255 [01:18<00:07,  2.94it/s, loss=0.176, v_num=2, train_loss=0.0413, train_accuracy=1.000, val_loss=0.202, val_accuracy=0.903]\n",
      "Epoch 72:  92%|█████████▏| 234/255 [01:19<00:07,  2.96it/s, loss=0.176, v_num=2, train_loss=0.0413, train_accuracy=1.000, val_loss=0.202, val_accuracy=0.903]\n",
      "Epoch 72:  93%|█████████▎| 236/255 [01:19<00:06,  2.98it/s, loss=0.176, v_num=2, train_loss=0.0413, train_accuracy=1.000, val_loss=0.202, val_accuracy=0.903]\n",
      "Epoch 72:  93%|█████████▎| 238/255 [01:19<00:05,  3.00it/s, loss=0.176, v_num=2, train_loss=0.0413, train_accuracy=1.000, val_loss=0.202, val_accuracy=0.903]\n",
      "Epoch 72:  94%|█████████▍| 240/255 [01:19<00:04,  3.01it/s, loss=0.176, v_num=2, train_loss=0.0413, train_accuracy=1.000, val_loss=0.202, val_accuracy=0.903]\n",
      "Epoch 72:  95%|█████████▍| 242/255 [01:19<00:04,  3.03it/s, loss=0.176, v_num=2, train_loss=0.0413, train_accuracy=1.000, val_loss=0.202, val_accuracy=0.903]\n",
      "Epoch 72:  96%|█████████▌| 244/255 [01:19<00:03,  3.05it/s, loss=0.176, v_num=2, train_loss=0.0413, train_accuracy=1.000, val_loss=0.202, val_accuracy=0.903]\n",
      "Epoch 72:  96%|█████████▋| 246/255 [01:20<00:02,  3.07it/s, loss=0.176, v_num=2, train_loss=0.0413, train_accuracy=1.000, val_loss=0.202, val_accuracy=0.903]\n",
      "Epoch 72:  97%|█████████▋| 248/255 [01:20<00:02,  3.09it/s, loss=0.176, v_num=2, train_loss=0.0413, train_accuracy=1.000, val_loss=0.202, val_accuracy=0.903]\n",
      "Epoch 72:  98%|█████████▊| 250/255 [01:20<00:01,  3.11it/s, loss=0.176, v_num=2, train_loss=0.0413, train_accuracy=1.000, val_loss=0.202, val_accuracy=0.903]\n",
      "Epoch 72:  99%|█████████▉| 252/255 [01:20<00:00,  3.13it/s, loss=0.176, v_num=2, train_loss=0.0413, train_accuracy=1.000, val_loss=0.202, val_accuracy=0.903]\n",
      "Epoch 72: 100%|█████████▉| 254/255 [01:20<00:00,  3.15it/s, loss=0.176, v_num=2, train_loss=0.0413, train_accuracy=1.000, val_loss=0.202, val_accuracy=0.903]\n",
      "Epoch 72: 100%|██████████| 255/255 [01:21<00:00,  3.15it/s, loss=0.176, v_num=2, train_loss=0.0413, train_accuracy=1.000, val_loss=0.207, val_accuracy=0.901]\n",
      "Epoch 72: 100%|██████████| 255/255 [01:21<00:00,  3.14it/s, loss=0.176, v_num=2, train_loss=0.0413, train_accuracy=1.000, val_loss=0.207, val_accuracy=0.901]"
     ]
    },
    {
     "name": "stderr",
     "output_type": "stream",
     "text": [
      "Epoch 72, global step 16497: val_loss reached 0.20663 (best 0.20150), saving model to \"/Workspace/code/checkpoints/best-checkpoint-corr-mi-27-v2.ckpt\" as top 2\n"
     ]
    },
    {
     "name": "stdout",
     "output_type": "stream",
     "text": [
      "Epoch 73:  89%|████████▊ | 226/255 [01:16<00:09,  2.94it/s, loss=0.198, v_num=2, train_loss=0.0839, train_accuracy=0.944, val_loss=0.207, val_accuracy=0.901]\n",
      "Validating: 0it [00:00, ?it/s]\u001b[A\n",
      "Validating:   0%|          | 0/29 [00:00<?, ?it/s]\u001b[A\n",
      "Epoch 73:  89%|████████▉ | 228/255 [01:18<00:09,  2.90it/s, loss=0.198, v_num=2, train_loss=0.0839, train_accuracy=0.944, val_loss=0.207, val_accuracy=0.901]\n",
      "Epoch 73:  90%|█████████ | 230/255 [01:18<00:08,  2.92it/s, loss=0.198, v_num=2, train_loss=0.0839, train_accuracy=0.944, val_loss=0.207, val_accuracy=0.901]\n",
      "Epoch 73:  91%|█████████ | 232/255 [01:18<00:07,  2.94it/s, loss=0.198, v_num=2, train_loss=0.0839, train_accuracy=0.944, val_loss=0.207, val_accuracy=0.901]\n",
      "Epoch 73:  92%|█████████▏| 234/255 [01:19<00:07,  2.96it/s, loss=0.198, v_num=2, train_loss=0.0839, train_accuracy=0.944, val_loss=0.207, val_accuracy=0.901]\n",
      "Epoch 73:  93%|█████████▎| 236/255 [01:19<00:06,  2.98it/s, loss=0.198, v_num=2, train_loss=0.0839, train_accuracy=0.944, val_loss=0.207, val_accuracy=0.901]\n",
      "Epoch 73:  93%|█████████▎| 238/255 [01:19<00:05,  3.00it/s, loss=0.198, v_num=2, train_loss=0.0839, train_accuracy=0.944, val_loss=0.207, val_accuracy=0.901]\n",
      "Epoch 73:  94%|█████████▍| 240/255 [01:19<00:04,  3.01it/s, loss=0.198, v_num=2, train_loss=0.0839, train_accuracy=0.944, val_loss=0.207, val_accuracy=0.901]\n",
      "Epoch 73:  95%|█████████▍| 242/255 [01:19<00:04,  3.03it/s, loss=0.198, v_num=2, train_loss=0.0839, train_accuracy=0.944, val_loss=0.207, val_accuracy=0.901]\n",
      "Epoch 73:  96%|█████████▌| 244/255 [01:19<00:03,  3.05it/s, loss=0.198, v_num=2, train_loss=0.0839, train_accuracy=0.944, val_loss=0.207, val_accuracy=0.901]\n",
      "Epoch 73:  96%|█████████▋| 246/255 [01:20<00:02,  3.07it/s, loss=0.198, v_num=2, train_loss=0.0839, train_accuracy=0.944, val_loss=0.207, val_accuracy=0.901]\n",
      "Epoch 73:  97%|█████████▋| 248/255 [01:20<00:02,  3.09it/s, loss=0.198, v_num=2, train_loss=0.0839, train_accuracy=0.944, val_loss=0.207, val_accuracy=0.901]\n",
      "Epoch 73:  98%|█████████▊| 250/255 [01:20<00:01,  3.11it/s, loss=0.198, v_num=2, train_loss=0.0839, train_accuracy=0.944, val_loss=0.207, val_accuracy=0.901]\n",
      "Epoch 73:  99%|█████████▉| 252/255 [01:20<00:00,  3.13it/s, loss=0.198, v_num=2, train_loss=0.0839, train_accuracy=0.944, val_loss=0.207, val_accuracy=0.901]\n",
      "Epoch 73: 100%|█████████▉| 254/255 [01:20<00:00,  3.15it/s, loss=0.198, v_num=2, train_loss=0.0839, train_accuracy=0.944, val_loss=0.207, val_accuracy=0.901]\n",
      "Epoch 73: 100%|██████████| 255/255 [01:21<00:00,  3.15it/s, loss=0.198, v_num=2, train_loss=0.0839, train_accuracy=0.944, val_loss=0.212, val_accuracy=0.893]\n",
      "Epoch 73: 100%|██████████| 255/255 [01:21<00:00,  3.15it/s, loss=0.198, v_num=2, train_loss=0.0839, train_accuracy=0.944, val_loss=0.212, val_accuracy=0.893]"
     ]
    },
    {
     "name": "stderr",
     "output_type": "stream",
     "text": [
      "Epoch 73, global step 16723: val_loss was not in top 2\n"
     ]
    },
    {
     "name": "stdout",
     "output_type": "stream",
     "text": [
      "Epoch 74:  89%|████████▊ | 226/255 [01:16<00:09,  2.94it/s, loss=0.208, v_num=2, train_loss=0.155, train_accuracy=1.000, val_loss=0.212, val_accuracy=0.893] \n",
      "Validating: 0it [00:00, ?it/s]\u001b[A\n",
      "Validating:   0%|          | 0/29 [00:00<?, ?it/s]\u001b[A\n",
      "Epoch 74:  89%|████████▉ | 228/255 [01:18<00:09,  2.90it/s, loss=0.208, v_num=2, train_loss=0.155, train_accuracy=1.000, val_loss=0.212, val_accuracy=0.893]\n",
      "Epoch 74:  90%|█████████ | 230/255 [01:18<00:08,  2.92it/s, loss=0.208, v_num=2, train_loss=0.155, train_accuracy=1.000, val_loss=0.212, val_accuracy=0.893]\n",
      "Epoch 74:  91%|█████████ | 232/255 [01:18<00:07,  2.94it/s, loss=0.208, v_num=2, train_loss=0.155, train_accuracy=1.000, val_loss=0.212, val_accuracy=0.893]\n",
      "Epoch 74:  92%|█████████▏| 234/255 [01:19<00:07,  2.96it/s, loss=0.208, v_num=2, train_loss=0.155, train_accuracy=1.000, val_loss=0.212, val_accuracy=0.893]\n",
      "Epoch 74:  93%|█████████▎| 236/255 [01:19<00:06,  2.98it/s, loss=0.208, v_num=2, train_loss=0.155, train_accuracy=1.000, val_loss=0.212, val_accuracy=0.893]\n",
      "Epoch 74:  93%|█████████▎| 238/255 [01:19<00:05,  3.00it/s, loss=0.208, v_num=2, train_loss=0.155, train_accuracy=1.000, val_loss=0.212, val_accuracy=0.893]\n",
      "Epoch 74:  94%|█████████▍| 240/255 [01:19<00:04,  3.02it/s, loss=0.208, v_num=2, train_loss=0.155, train_accuracy=1.000, val_loss=0.212, val_accuracy=0.893]\n",
      "Epoch 74:  95%|█████████▍| 242/255 [01:19<00:04,  3.04it/s, loss=0.208, v_num=2, train_loss=0.155, train_accuracy=1.000, val_loss=0.212, val_accuracy=0.893]\n",
      "Epoch 74:  96%|█████████▌| 244/255 [01:19<00:03,  3.06it/s, loss=0.208, v_num=2, train_loss=0.155, train_accuracy=1.000, val_loss=0.212, val_accuracy=0.893]\n",
      "Epoch 74:  96%|█████████▋| 246/255 [01:19<00:02,  3.08it/s, loss=0.208, v_num=2, train_loss=0.155, train_accuracy=1.000, val_loss=0.212, val_accuracy=0.893]\n",
      "Epoch 74:  97%|█████████▋| 248/255 [01:20<00:02,  3.09it/s, loss=0.208, v_num=2, train_loss=0.155, train_accuracy=1.000, val_loss=0.212, val_accuracy=0.893]\n",
      "Epoch 74:  98%|█████████▊| 250/255 [01:20<00:01,  3.11it/s, loss=0.208, v_num=2, train_loss=0.155, train_accuracy=1.000, val_loss=0.212, val_accuracy=0.893]\n",
      "Epoch 74:  99%|█████████▉| 252/255 [01:20<00:00,  3.13it/s, loss=0.208, v_num=2, train_loss=0.155, train_accuracy=1.000, val_loss=0.212, val_accuracy=0.893]\n",
      "Epoch 74: 100%|█████████▉| 254/255 [01:20<00:00,  3.15it/s, loss=0.208, v_num=2, train_loss=0.155, train_accuracy=1.000, val_loss=0.212, val_accuracy=0.893]\n",
      "Epoch 74: 100%|██████████| 255/255 [01:20<00:00,  3.15it/s, loss=0.208, v_num=2, train_loss=0.155, train_accuracy=1.000, val_loss=0.212, val_accuracy=0.897]\n",
      "Epoch 74: 100%|██████████| 255/255 [01:20<00:00,  3.15it/s, loss=0.208, v_num=2, train_loss=0.155, train_accuracy=1.000, val_loss=0.212, val_accuracy=0.897]"
     ]
    },
    {
     "name": "stderr",
     "output_type": "stream",
     "text": [
      "Epoch 74, global step 16949: val_loss was not in top 2\n"
     ]
    },
    {
     "name": "stdout",
     "output_type": "stream",
     "text": [
      "Epoch 75:  89%|████████▊ | 226/255 [01:16<00:09,  2.94it/s, loss=0.2, v_num=2, train_loss=0.268, train_accuracy=0.944, val_loss=0.212, val_accuracy=0.897]   \n",
      "Validating: 0it [00:00, ?it/s]\u001b[A\n",
      "Validating:   0%|          | 0/29 [00:00<?, ?it/s]\u001b[A\n",
      "Epoch 75:  89%|████████▉ | 228/255 [01:18<00:09,  2.90it/s, loss=0.2, v_num=2, train_loss=0.268, train_accuracy=0.944, val_loss=0.212, val_accuracy=0.897]\n",
      "Epoch 75:  90%|█████████ | 230/255 [01:18<00:08,  2.92it/s, loss=0.2, v_num=2, train_loss=0.268, train_accuracy=0.944, val_loss=0.212, val_accuracy=0.897]\n",
      "Epoch 75:  91%|█████████ | 232/255 [01:18<00:07,  2.94it/s, loss=0.2, v_num=2, train_loss=0.268, train_accuracy=0.944, val_loss=0.212, val_accuracy=0.897]\n",
      "Epoch 75:  92%|█████████▏| 234/255 [01:18<00:07,  2.96it/s, loss=0.2, v_num=2, train_loss=0.268, train_accuracy=0.944, val_loss=0.212, val_accuracy=0.897]\n",
      "Epoch 75:  93%|█████████▎| 236/255 [01:19<00:06,  2.98it/s, loss=0.2, v_num=2, train_loss=0.268, train_accuracy=0.944, val_loss=0.212, val_accuracy=0.897]\n",
      "Epoch 75:  93%|█████████▎| 238/255 [01:19<00:05,  3.00it/s, loss=0.2, v_num=2, train_loss=0.268, train_accuracy=0.944, val_loss=0.212, val_accuracy=0.897]\n",
      "Epoch 75:  94%|█████████▍| 240/255 [01:19<00:04,  3.02it/s, loss=0.2, v_num=2, train_loss=0.268, train_accuracy=0.944, val_loss=0.212, val_accuracy=0.897]\n",
      "Epoch 75:  95%|█████████▍| 242/255 [01:19<00:04,  3.04it/s, loss=0.2, v_num=2, train_loss=0.268, train_accuracy=0.944, val_loss=0.212, val_accuracy=0.897]\n",
      "Epoch 75:  96%|█████████▌| 244/255 [01:19<00:03,  3.06it/s, loss=0.2, v_num=2, train_loss=0.268, train_accuracy=0.944, val_loss=0.212, val_accuracy=0.897]\n",
      "Epoch 75:  96%|█████████▋| 246/255 [01:19<00:02,  3.08it/s, loss=0.2, v_num=2, train_loss=0.268, train_accuracy=0.944, val_loss=0.212, val_accuracy=0.897]\n",
      "Epoch 75:  97%|█████████▋| 248/255 [01:20<00:02,  3.10it/s, loss=0.2, v_num=2, train_loss=0.268, train_accuracy=0.944, val_loss=0.212, val_accuracy=0.897]\n",
      "Epoch 75:  98%|█████████▊| 250/255 [01:20<00:01,  3.12it/s, loss=0.2, v_num=2, train_loss=0.268, train_accuracy=0.944, val_loss=0.212, val_accuracy=0.897]\n",
      "Epoch 75:  99%|█████████▉| 252/255 [01:20<00:00,  3.13it/s, loss=0.2, v_num=2, train_loss=0.268, train_accuracy=0.944, val_loss=0.212, val_accuracy=0.897]\n",
      "Epoch 75: 100%|█████████▉| 254/255 [01:20<00:00,  3.15it/s, loss=0.2, v_num=2, train_loss=0.268, train_accuracy=0.944, val_loss=0.212, val_accuracy=0.897]\n",
      "Epoch 75: 100%|██████████| 255/255 [01:20<00:00,  3.15it/s, loss=0.2, v_num=2, train_loss=0.268, train_accuracy=0.944, val_loss=0.209, val_accuracy=0.900]\n",
      "Epoch 75: 100%|██████████| 255/255 [01:20<00:00,  3.15it/s, loss=0.2, v_num=2, train_loss=0.268, train_accuracy=0.944, val_loss=0.209, val_accuracy=0.900]"
     ]
    },
    {
     "name": "stderr",
     "output_type": "stream",
     "text": [
      "Epoch 75, global step 17175: val_loss was not in top 2\n"
     ]
    },
    {
     "name": "stdout",
     "output_type": "stream",
     "text": [
      "Epoch 76:  89%|████████▊ | 226/255 [01:17<00:09,  2.93it/s, loss=0.228, v_num=2, train_loss=0.450, train_accuracy=0.778, val_loss=0.209, val_accuracy=0.900] \n",
      "Validating: 0it [00:00, ?it/s]\u001b[A\n",
      "Validating:   0%|          | 0/29 [00:00<?, ?it/s]\u001b[A\n",
      "Epoch 76:  89%|████████▉ | 228/255 [01:18<00:09,  2.90it/s, loss=0.228, v_num=2, train_loss=0.450, train_accuracy=0.778, val_loss=0.209, val_accuracy=0.900]\n",
      "Epoch 76:  90%|█████████ | 230/255 [01:18<00:08,  2.92it/s, loss=0.228, v_num=2, train_loss=0.450, train_accuracy=0.778, val_loss=0.209, val_accuracy=0.900]\n",
      "Epoch 76:  91%|█████████ | 232/255 [01:19<00:07,  2.94it/s, loss=0.228, v_num=2, train_loss=0.450, train_accuracy=0.778, val_loss=0.209, val_accuracy=0.900]\n",
      "Epoch 76:  92%|█████████▏| 234/255 [01:19<00:07,  2.96it/s, loss=0.228, v_num=2, train_loss=0.450, train_accuracy=0.778, val_loss=0.209, val_accuracy=0.900]\n",
      "Epoch 76:  93%|█████████▎| 236/255 [01:19<00:06,  2.97it/s, loss=0.228, v_num=2, train_loss=0.450, train_accuracy=0.778, val_loss=0.209, val_accuracy=0.900]\n",
      "Epoch 76:  93%|█████████▎| 238/255 [01:19<00:05,  2.99it/s, loss=0.228, v_num=2, train_loss=0.450, train_accuracy=0.778, val_loss=0.209, val_accuracy=0.900]\n",
      "Epoch 76:  94%|█████████▍| 240/255 [01:19<00:04,  3.01it/s, loss=0.228, v_num=2, train_loss=0.450, train_accuracy=0.778, val_loss=0.209, val_accuracy=0.900]\n",
      "Epoch 76:  95%|█████████▍| 242/255 [01:19<00:04,  3.03it/s, loss=0.228, v_num=2, train_loss=0.450, train_accuracy=0.778, val_loss=0.209, val_accuracy=0.900]\n",
      "Epoch 76:  96%|█████████▌| 244/255 [01:19<00:03,  3.05it/s, loss=0.228, v_num=2, train_loss=0.450, train_accuracy=0.778, val_loss=0.209, val_accuracy=0.900]\n",
      "Epoch 76:  96%|█████████▋| 246/255 [01:20<00:02,  3.07it/s, loss=0.228, v_num=2, train_loss=0.450, train_accuracy=0.778, val_loss=0.209, val_accuracy=0.900]\n",
      "Epoch 76:  97%|█████████▋| 248/255 [01:20<00:02,  3.09it/s, loss=0.228, v_num=2, train_loss=0.450, train_accuracy=0.778, val_loss=0.209, val_accuracy=0.900]\n",
      "Epoch 76:  98%|█████████▊| 250/255 [01:20<00:01,  3.11it/s, loss=0.228, v_num=2, train_loss=0.450, train_accuracy=0.778, val_loss=0.209, val_accuracy=0.900]\n",
      "Epoch 76:  99%|█████████▉| 252/255 [01:20<00:00,  3.13it/s, loss=0.228, v_num=2, train_loss=0.450, train_accuracy=0.778, val_loss=0.209, val_accuracy=0.900]\n",
      "Epoch 76: 100%|█████████▉| 254/255 [01:20<00:00,  3.15it/s, loss=0.228, v_num=2, train_loss=0.450, train_accuracy=0.778, val_loss=0.209, val_accuracy=0.900]\n",
      "Epoch 76: 100%|██████████| 255/255 [01:21<00:00,  3.14it/s, loss=0.228, v_num=2, train_loss=0.450, train_accuracy=0.778, val_loss=0.285, val_accuracy=0.874]\n",
      "Epoch 76: 100%|██████████| 255/255 [01:21<00:00,  3.14it/s, loss=0.228, v_num=2, train_loss=0.450, train_accuracy=0.778, val_loss=0.285, val_accuracy=0.874]"
     ]
    },
    {
     "name": "stderr",
     "output_type": "stream",
     "text": [
      "Epoch 76, global step 17401: val_loss was not in top 2\n"
     ]
    },
    {
     "name": "stdout",
     "output_type": "stream",
     "text": [
      "Epoch 77:  89%|████████▊ | 226/255 [01:17<00:09,  2.93it/s, loss=0.179, v_num=2, train_loss=0.192, train_accuracy=0.889, val_loss=0.285, val_accuracy=0.874] \n",
      "Validating: 0it [00:00, ?it/s]\u001b[A\n",
      "Validating:   0%|          | 0/29 [00:00<?, ?it/s]\u001b[A\n",
      "Epoch 77:  89%|████████▉ | 228/255 [01:18<00:09,  2.90it/s, loss=0.179, v_num=2, train_loss=0.192, train_accuracy=0.889, val_loss=0.285, val_accuracy=0.874]\n",
      "Epoch 77:  90%|█████████ | 230/255 [01:18<00:08,  2.92it/s, loss=0.179, v_num=2, train_loss=0.192, train_accuracy=0.889, val_loss=0.285, val_accuracy=0.874]\n",
      "Epoch 77:  91%|█████████ | 232/255 [01:19<00:07,  2.94it/s, loss=0.179, v_num=2, train_loss=0.192, train_accuracy=0.889, val_loss=0.285, val_accuracy=0.874]\n",
      "Epoch 77:  92%|█████████▏| 234/255 [01:19<00:07,  2.96it/s, loss=0.179, v_num=2, train_loss=0.192, train_accuracy=0.889, val_loss=0.285, val_accuracy=0.874]\n",
      "Epoch 77:  93%|█████████▎| 236/255 [01:19<00:06,  2.97it/s, loss=0.179, v_num=2, train_loss=0.192, train_accuracy=0.889, val_loss=0.285, val_accuracy=0.874]\n",
      "Epoch 77:  93%|█████████▎| 238/255 [01:19<00:05,  2.99it/s, loss=0.179, v_num=2, train_loss=0.192, train_accuracy=0.889, val_loss=0.285, val_accuracy=0.874]\n",
      "Epoch 77:  94%|█████████▍| 240/255 [01:19<00:04,  3.01it/s, loss=0.179, v_num=2, train_loss=0.192, train_accuracy=0.889, val_loss=0.285, val_accuracy=0.874]\n",
      "Epoch 77:  95%|█████████▍| 242/255 [01:19<00:04,  3.03it/s, loss=0.179, v_num=2, train_loss=0.192, train_accuracy=0.889, val_loss=0.285, val_accuracy=0.874]\n",
      "Epoch 77:  96%|█████████▌| 244/255 [01:20<00:03,  3.05it/s, loss=0.179, v_num=2, train_loss=0.192, train_accuracy=0.889, val_loss=0.285, val_accuracy=0.874]\n",
      "Epoch 77:  96%|█████████▋| 246/255 [01:20<00:02,  3.07it/s, loss=0.179, v_num=2, train_loss=0.192, train_accuracy=0.889, val_loss=0.285, val_accuracy=0.874]\n",
      "Epoch 77:  97%|█████████▋| 248/255 [01:20<00:02,  3.09it/s, loss=0.179, v_num=2, train_loss=0.192, train_accuracy=0.889, val_loss=0.285, val_accuracy=0.874]\n",
      "Epoch 77:  98%|█████████▊| 250/255 [01:20<00:01,  3.11it/s, loss=0.179, v_num=2, train_loss=0.192, train_accuracy=0.889, val_loss=0.285, val_accuracy=0.874]\n",
      "Epoch 77:  99%|█████████▉| 252/255 [01:20<00:00,  3.13it/s, loss=0.179, v_num=2, train_loss=0.192, train_accuracy=0.889, val_loss=0.285, val_accuracy=0.874]\n",
      "Epoch 77: 100%|█████████▉| 254/255 [01:20<00:00,  3.14it/s, loss=0.179, v_num=2, train_loss=0.192, train_accuracy=0.889, val_loss=0.285, val_accuracy=0.874]\n",
      "Epoch 77: 100%|██████████| 255/255 [01:21<00:00,  3.14it/s, loss=0.179, v_num=2, train_loss=0.192, train_accuracy=0.889, val_loss=0.202, val_accuracy=0.903]\n",
      "Epoch 77: 100%|██████████| 255/255 [01:21<00:00,  3.14it/s, loss=0.179, v_num=2, train_loss=0.192, train_accuracy=0.889, val_loss=0.202, val_accuracy=0.903]"
     ]
    },
    {
     "name": "stderr",
     "output_type": "stream",
     "text": [
      "Epoch 77, global step 17627: val_loss reached 0.20212 (best 0.20150), saving model to \"/Workspace/code/checkpoints/best-checkpoint-corr-mi-27-v2.ckpt\" as top 2\n"
     ]
    },
    {
     "name": "stdout",
     "output_type": "stream",
     "text": [
      "Epoch 78:  89%|████████▊ | 226/255 [01:17<00:09,  2.93it/s, loss=0.189, v_num=2, train_loss=0.240, train_accuracy=0.833, val_loss=0.202, val_accuracy=0.903] \n",
      "Validating: 0it [00:00, ?it/s]\u001b[A\n",
      "Validating:   0%|          | 0/29 [00:00<?, ?it/s]\u001b[A\n",
      "Epoch 78:  89%|████████▉ | 228/255 [01:18<00:09,  2.90it/s, loss=0.189, v_num=2, train_loss=0.240, train_accuracy=0.833, val_loss=0.202, val_accuracy=0.903]\n",
      "Epoch 78:  90%|█████████ | 230/255 [01:18<00:08,  2.92it/s, loss=0.189, v_num=2, train_loss=0.240, train_accuracy=0.833, val_loss=0.202, val_accuracy=0.903]\n",
      "Epoch 78:  91%|█████████ | 232/255 [01:19<00:07,  2.94it/s, loss=0.189, v_num=2, train_loss=0.240, train_accuracy=0.833, val_loss=0.202, val_accuracy=0.903]\n",
      "Epoch 78:  92%|█████████▏| 234/255 [01:19<00:07,  2.96it/s, loss=0.189, v_num=2, train_loss=0.240, train_accuracy=0.833, val_loss=0.202, val_accuracy=0.903]\n",
      "Epoch 78:  93%|█████████▎| 236/255 [01:19<00:06,  2.97it/s, loss=0.189, v_num=2, train_loss=0.240, train_accuracy=0.833, val_loss=0.202, val_accuracy=0.903]\n",
      "Epoch 78:  93%|█████████▎| 238/255 [01:19<00:05,  2.99it/s, loss=0.189, v_num=2, train_loss=0.240, train_accuracy=0.833, val_loss=0.202, val_accuracy=0.903]\n",
      "Epoch 78:  94%|█████████▍| 240/255 [01:19<00:04,  3.01it/s, loss=0.189, v_num=2, train_loss=0.240, train_accuracy=0.833, val_loss=0.202, val_accuracy=0.903]\n",
      "Epoch 78:  95%|█████████▍| 242/255 [01:19<00:04,  3.03it/s, loss=0.189, v_num=2, train_loss=0.240, train_accuracy=0.833, val_loss=0.202, val_accuracy=0.903]\n",
      "Epoch 78:  96%|█████████▌| 244/255 [01:19<00:03,  3.05it/s, loss=0.189, v_num=2, train_loss=0.240, train_accuracy=0.833, val_loss=0.202, val_accuracy=0.903]\n",
      "Epoch 78:  96%|█████████▋| 246/255 [01:20<00:02,  3.07it/s, loss=0.189, v_num=2, train_loss=0.240, train_accuracy=0.833, val_loss=0.202, val_accuracy=0.903]\n",
      "Epoch 78:  97%|█████████▋| 248/255 [01:20<00:02,  3.09it/s, loss=0.189, v_num=2, train_loss=0.240, train_accuracy=0.833, val_loss=0.202, val_accuracy=0.903]\n",
      "Epoch 78:  98%|█████████▊| 250/255 [01:20<00:01,  3.11it/s, loss=0.189, v_num=2, train_loss=0.240, train_accuracy=0.833, val_loss=0.202, val_accuracy=0.903]\n",
      "Epoch 78:  99%|█████████▉| 252/255 [01:20<00:00,  3.13it/s, loss=0.189, v_num=2, train_loss=0.240, train_accuracy=0.833, val_loss=0.202, val_accuracy=0.903]\n",
      "Epoch 78: 100%|█████████▉| 254/255 [01:20<00:00,  3.15it/s, loss=0.189, v_num=2, train_loss=0.240, train_accuracy=0.833, val_loss=0.202, val_accuracy=0.903]\n",
      "Epoch 78: 100%|██████████| 255/255 [01:21<00:00,  3.15it/s, loss=0.189, v_num=2, train_loss=0.240, train_accuracy=0.833, val_loss=0.228, val_accuracy=0.894]\n",
      "Epoch 78: 100%|██████████| 255/255 [01:21<00:00,  3.15it/s, loss=0.189, v_num=2, train_loss=0.240, train_accuracy=0.833, val_loss=0.228, val_accuracy=0.894]"
     ]
    },
    {
     "name": "stderr",
     "output_type": "stream",
     "text": [
      "Epoch 78, global step 17853: val_loss was not in top 2\n"
     ]
    },
    {
     "name": "stdout",
     "output_type": "stream",
     "text": [
      "Epoch 79:  89%|████████▊ | 226/255 [01:16<00:09,  2.94it/s, loss=0.307, v_num=2, train_loss=0.351, train_accuracy=0.889, val_loss=0.228, val_accuracy=0.894] \n",
      "Validating: 0it [00:00, ?it/s]\u001b[A\n",
      "Validating:   0%|          | 0/29 [00:00<?, ?it/s]\u001b[A\n",
      "Epoch 79:  89%|████████▉ | 228/255 [01:18<00:09,  2.90it/s, loss=0.307, v_num=2, train_loss=0.351, train_accuracy=0.889, val_loss=0.228, val_accuracy=0.894]\n",
      "Epoch 79:  90%|█████████ | 230/255 [01:18<00:08,  2.92it/s, loss=0.307, v_num=2, train_loss=0.351, train_accuracy=0.889, val_loss=0.228, val_accuracy=0.894]\n",
      "Epoch 79:  91%|█████████ | 232/255 [01:18<00:07,  2.94it/s, loss=0.307, v_num=2, train_loss=0.351, train_accuracy=0.889, val_loss=0.228, val_accuracy=0.894]\n",
      "Epoch 79:  92%|█████████▏| 234/255 [01:19<00:07,  2.96it/s, loss=0.307, v_num=2, train_loss=0.351, train_accuracy=0.889, val_loss=0.228, val_accuracy=0.894]\n",
      "Epoch 79:  93%|█████████▎| 236/255 [01:19<00:06,  2.98it/s, loss=0.307, v_num=2, train_loss=0.351, train_accuracy=0.889, val_loss=0.228, val_accuracy=0.894]\n",
      "Epoch 79:  93%|█████████▎| 238/255 [01:19<00:05,  3.00it/s, loss=0.307, v_num=2, train_loss=0.351, train_accuracy=0.889, val_loss=0.228, val_accuracy=0.894]\n",
      "Epoch 79:  94%|█████████▍| 240/255 [01:19<00:04,  3.02it/s, loss=0.307, v_num=2, train_loss=0.351, train_accuracy=0.889, val_loss=0.228, val_accuracy=0.894]\n",
      "Epoch 79:  95%|█████████▍| 242/255 [01:19<00:04,  3.04it/s, loss=0.307, v_num=2, train_loss=0.351, train_accuracy=0.889, val_loss=0.228, val_accuracy=0.894]\n",
      "Epoch 79:  96%|█████████▌| 244/255 [01:19<00:03,  3.06it/s, loss=0.307, v_num=2, train_loss=0.351, train_accuracy=0.889, val_loss=0.228, val_accuracy=0.894]\n",
      "Epoch 79:  96%|█████████▋| 246/255 [01:20<00:02,  3.07it/s, loss=0.307, v_num=2, train_loss=0.351, train_accuracy=0.889, val_loss=0.228, val_accuracy=0.894]\n",
      "Epoch 79:  97%|█████████▋| 248/255 [01:20<00:02,  3.09it/s, loss=0.307, v_num=2, train_loss=0.351, train_accuracy=0.889, val_loss=0.228, val_accuracy=0.894]\n",
      "Epoch 79:  98%|█████████▊| 250/255 [01:20<00:01,  3.11it/s, loss=0.307, v_num=2, train_loss=0.351, train_accuracy=0.889, val_loss=0.228, val_accuracy=0.894]\n",
      "Epoch 79:  99%|█████████▉| 252/255 [01:20<00:00,  3.13it/s, loss=0.307, v_num=2, train_loss=0.351, train_accuracy=0.889, val_loss=0.228, val_accuracy=0.894]\n",
      "Epoch 79: 100%|█████████▉| 254/255 [01:20<00:00,  3.15it/s, loss=0.307, v_num=2, train_loss=0.351, train_accuracy=0.889, val_loss=0.228, val_accuracy=0.894]\n",
      "Epoch 79: 100%|██████████| 255/255 [01:20<00:00,  3.15it/s, loss=0.307, v_num=2, train_loss=0.351, train_accuracy=0.889, val_loss=0.284, val_accuracy=0.872]\n",
      "Epoch 79: 100%|██████████| 255/255 [01:20<00:00,  3.15it/s, loss=0.307, v_num=2, train_loss=0.351, train_accuracy=0.889, val_loss=0.284, val_accuracy=0.872]"
     ]
    },
    {
     "name": "stderr",
     "output_type": "stream",
     "text": [
      "Epoch 79, global step 18079: val_loss was not in top 2\n"
     ]
    },
    {
     "name": "stdout",
     "output_type": "stream",
     "text": [
      "Epoch 80:  89%|████████▊ | 226/255 [01:17<00:09,  2.93it/s, loss=0.196, v_num=2, train_loss=0.0866, train_accuracy=1.000, val_loss=0.284, val_accuracy=0.872]\n",
      "Validating: 0it [00:00, ?it/s]\u001b[A\n",
      "Validating:   0%|          | 0/29 [00:00<?, ?it/s]\u001b[A\n",
      "Epoch 80:  89%|████████▉ | 228/255 [01:18<00:09,  2.90it/s, loss=0.196, v_num=2, train_loss=0.0866, train_accuracy=1.000, val_loss=0.284, val_accuracy=0.872]\n",
      "Epoch 80:  90%|█████████ | 230/255 [01:18<00:08,  2.92it/s, loss=0.196, v_num=2, train_loss=0.0866, train_accuracy=1.000, val_loss=0.284, val_accuracy=0.872]\n",
      "Epoch 80:  91%|█████████ | 232/255 [01:19<00:07,  2.94it/s, loss=0.196, v_num=2, train_loss=0.0866, train_accuracy=1.000, val_loss=0.284, val_accuracy=0.872]\n",
      "Epoch 80:  92%|█████████▏| 234/255 [01:19<00:07,  2.96it/s, loss=0.196, v_num=2, train_loss=0.0866, train_accuracy=1.000, val_loss=0.284, val_accuracy=0.872]\n",
      "Epoch 80:  93%|█████████▎| 236/255 [01:19<00:06,  2.97it/s, loss=0.196, v_num=2, train_loss=0.0866, train_accuracy=1.000, val_loss=0.284, val_accuracy=0.872]\n",
      "Epoch 80:  93%|█████████▎| 238/255 [01:19<00:05,  2.99it/s, loss=0.196, v_num=2, train_loss=0.0866, train_accuracy=1.000, val_loss=0.284, val_accuracy=0.872]\n",
      "Epoch 80:  94%|█████████▍| 240/255 [01:19<00:04,  3.01it/s, loss=0.196, v_num=2, train_loss=0.0866, train_accuracy=1.000, val_loss=0.284, val_accuracy=0.872]\n",
      "Epoch 80:  95%|█████████▍| 242/255 [01:19<00:04,  3.03it/s, loss=0.196, v_num=2, train_loss=0.0866, train_accuracy=1.000, val_loss=0.284, val_accuracy=0.872]\n",
      "Epoch 80:  96%|█████████▌| 244/255 [01:19<00:03,  3.05it/s, loss=0.196, v_num=2, train_loss=0.0866, train_accuracy=1.000, val_loss=0.284, val_accuracy=0.872]\n",
      "Epoch 80:  96%|█████████▋| 246/255 [01:20<00:02,  3.07it/s, loss=0.196, v_num=2, train_loss=0.0866, train_accuracy=1.000, val_loss=0.284, val_accuracy=0.872]\n",
      "Epoch 80:  97%|█████████▋| 248/255 [01:20<00:02,  3.09it/s, loss=0.196, v_num=2, train_loss=0.0866, train_accuracy=1.000, val_loss=0.284, val_accuracy=0.872]\n",
      "Epoch 80:  98%|█████████▊| 250/255 [01:20<00:01,  3.11it/s, loss=0.196, v_num=2, train_loss=0.0866, train_accuracy=1.000, val_loss=0.284, val_accuracy=0.872]\n",
      "Epoch 80:  99%|█████████▉| 252/255 [01:20<00:00,  3.13it/s, loss=0.196, v_num=2, train_loss=0.0866, train_accuracy=1.000, val_loss=0.284, val_accuracy=0.872]\n",
      "Epoch 80: 100%|█████████▉| 254/255 [01:20<00:00,  3.15it/s, loss=0.196, v_num=2, train_loss=0.0866, train_accuracy=1.000, val_loss=0.284, val_accuracy=0.872]\n",
      "Epoch 80: 100%|██████████| 255/255 [01:21<00:00,  3.14it/s, loss=0.196, v_num=2, train_loss=0.0866, train_accuracy=1.000, val_loss=0.226, val_accuracy=0.891]\n",
      "Epoch 80: 100%|██████████| 255/255 [01:21<00:00,  3.14it/s, loss=0.196, v_num=2, train_loss=0.0866, train_accuracy=1.000, val_loss=0.226, val_accuracy=0.891]"
     ]
    },
    {
     "name": "stderr",
     "output_type": "stream",
     "text": [
      "Epoch 80, global step 18305: val_loss was not in top 2\n"
     ]
    },
    {
     "name": "stdout",
     "output_type": "stream",
     "text": [
      "Epoch 81:  89%|████████▊ | 226/255 [01:16<00:09,  2.95it/s, loss=0.189, v_num=2, train_loss=0.147, train_accuracy=0.944, val_loss=0.226, val_accuracy=0.891] \n",
      "Validating: 0it [00:00, ?it/s]\u001b[A\n",
      "Validating:   0%|          | 0/29 [00:00<?, ?it/s]\u001b[A\n",
      "Epoch 81:  89%|████████▉ | 228/255 [01:18<00:09,  2.91it/s, loss=0.189, v_num=2, train_loss=0.147, train_accuracy=0.944, val_loss=0.226, val_accuracy=0.891]\n",
      "Epoch 81:  90%|█████████ | 230/255 [01:18<00:08,  2.93it/s, loss=0.189, v_num=2, train_loss=0.147, train_accuracy=0.944, val_loss=0.226, val_accuracy=0.891]\n",
      "Epoch 81:  91%|█████████ | 232/255 [01:18<00:07,  2.95it/s, loss=0.189, v_num=2, train_loss=0.147, train_accuracy=0.944, val_loss=0.226, val_accuracy=0.891]\n",
      "Epoch 81:  92%|█████████▏| 234/255 [01:18<00:07,  2.97it/s, loss=0.189, v_num=2, train_loss=0.147, train_accuracy=0.944, val_loss=0.226, val_accuracy=0.891]\n",
      "Epoch 81:  93%|█████████▎| 236/255 [01:19<00:06,  2.99it/s, loss=0.189, v_num=2, train_loss=0.147, train_accuracy=0.944, val_loss=0.226, val_accuracy=0.891]\n",
      "Epoch 81:  93%|█████████▎| 238/255 [01:19<00:05,  3.00it/s, loss=0.189, v_num=2, train_loss=0.147, train_accuracy=0.944, val_loss=0.226, val_accuracy=0.891]\n",
      "Epoch 81:  94%|█████████▍| 240/255 [01:19<00:04,  3.02it/s, loss=0.189, v_num=2, train_loss=0.147, train_accuracy=0.944, val_loss=0.226, val_accuracy=0.891]\n",
      "Epoch 81:  95%|█████████▍| 242/255 [01:19<00:04,  3.04it/s, loss=0.189, v_num=2, train_loss=0.147, train_accuracy=0.944, val_loss=0.226, val_accuracy=0.891]\n",
      "Epoch 81:  96%|█████████▌| 244/255 [01:19<00:03,  3.06it/s, loss=0.189, v_num=2, train_loss=0.147, train_accuracy=0.944, val_loss=0.226, val_accuracy=0.891]\n",
      "Epoch 81:  96%|█████████▋| 246/255 [01:19<00:02,  3.08it/s, loss=0.189, v_num=2, train_loss=0.147, train_accuracy=0.944, val_loss=0.226, val_accuracy=0.891]\n",
      "Epoch 81:  97%|█████████▋| 248/255 [01:19<00:02,  3.10it/s, loss=0.189, v_num=2, train_loss=0.147, train_accuracy=0.944, val_loss=0.226, val_accuracy=0.891]\n",
      "Epoch 81:  98%|█████████▊| 250/255 [01:20<00:01,  3.12it/s, loss=0.189, v_num=2, train_loss=0.147, train_accuracy=0.944, val_loss=0.226, val_accuracy=0.891]\n",
      "Epoch 81:  99%|█████████▉| 252/255 [01:20<00:00,  3.14it/s, loss=0.189, v_num=2, train_loss=0.147, train_accuracy=0.944, val_loss=0.226, val_accuracy=0.891]\n",
      "Epoch 81: 100%|█████████▉| 254/255 [01:20<00:00,  3.16it/s, loss=0.189, v_num=2, train_loss=0.147, train_accuracy=0.944, val_loss=0.226, val_accuracy=0.891]\n",
      "Epoch 81: 100%|██████████| 255/255 [01:20<00:00,  3.16it/s, loss=0.189, v_num=2, train_loss=0.147, train_accuracy=0.944, val_loss=0.212, val_accuracy=0.900]\n",
      "Epoch 81: 100%|██████████| 255/255 [01:20<00:00,  3.16it/s, loss=0.189, v_num=2, train_loss=0.147, train_accuracy=0.944, val_loss=0.212, val_accuracy=0.900]"
     ]
    },
    {
     "name": "stderr",
     "output_type": "stream",
     "text": [
      "Epoch 81, global step 18531: val_loss was not in top 2\n"
     ]
    },
    {
     "name": "stdout",
     "output_type": "stream",
     "text": [
      "Epoch 82:  89%|████████▊ | 226/255 [01:16<00:09,  2.94it/s, loss=0.185, v_num=2, train_loss=0.329, train_accuracy=0.833, val_loss=0.212, val_accuracy=0.900] \n",
      "Validating: 0it [00:00, ?it/s]\u001b[A\n",
      "Validating:   0%|          | 0/29 [00:00<?, ?it/s]\u001b[A\n",
      "Epoch 82:  89%|████████▉ | 228/255 [01:18<00:09,  2.90it/s, loss=0.185, v_num=2, train_loss=0.329, train_accuracy=0.833, val_loss=0.212, val_accuracy=0.900]\n",
      "Epoch 82:  90%|█████████ | 230/255 [01:18<00:08,  2.92it/s, loss=0.185, v_num=2, train_loss=0.329, train_accuracy=0.833, val_loss=0.212, val_accuracy=0.900]\n",
      "Epoch 82:  91%|█████████ | 232/255 [01:18<00:07,  2.94it/s, loss=0.185, v_num=2, train_loss=0.329, train_accuracy=0.833, val_loss=0.212, val_accuracy=0.900]\n",
      "Epoch 82:  92%|█████████▏| 234/255 [01:19<00:07,  2.96it/s, loss=0.185, v_num=2, train_loss=0.329, train_accuracy=0.833, val_loss=0.212, val_accuracy=0.900]\n",
      "Epoch 82:  93%|█████████▎| 236/255 [01:19<00:06,  2.98it/s, loss=0.185, v_num=2, train_loss=0.329, train_accuracy=0.833, val_loss=0.212, val_accuracy=0.900]\n",
      "Epoch 82:  93%|█████████▎| 238/255 [01:19<00:05,  3.00it/s, loss=0.185, v_num=2, train_loss=0.329, train_accuracy=0.833, val_loss=0.212, val_accuracy=0.900]\n",
      "Epoch 82:  94%|█████████▍| 240/255 [01:19<00:04,  3.02it/s, loss=0.185, v_num=2, train_loss=0.329, train_accuracy=0.833, val_loss=0.212, val_accuracy=0.900]\n",
      "Epoch 82:  95%|█████████▍| 242/255 [01:19<00:04,  3.03it/s, loss=0.185, v_num=2, train_loss=0.329, train_accuracy=0.833, val_loss=0.212, val_accuracy=0.900]\n",
      "Epoch 82:  96%|█████████▌| 244/255 [01:19<00:03,  3.05it/s, loss=0.185, v_num=2, train_loss=0.329, train_accuracy=0.833, val_loss=0.212, val_accuracy=0.900]\n",
      "Epoch 82:  96%|█████████▋| 246/255 [01:20<00:02,  3.07it/s, loss=0.185, v_num=2, train_loss=0.329, train_accuracy=0.833, val_loss=0.212, val_accuracy=0.900]\n",
      "Epoch 82:  97%|█████████▋| 248/255 [01:20<00:02,  3.09it/s, loss=0.185, v_num=2, train_loss=0.329, train_accuracy=0.833, val_loss=0.212, val_accuracy=0.900]\n",
      "Epoch 82:  98%|█████████▊| 250/255 [01:20<00:01,  3.11it/s, loss=0.185, v_num=2, train_loss=0.329, train_accuracy=0.833, val_loss=0.212, val_accuracy=0.900]\n",
      "Epoch 82:  99%|█████████▉| 252/255 [01:20<00:00,  3.13it/s, loss=0.185, v_num=2, train_loss=0.329, train_accuracy=0.833, val_loss=0.212, val_accuracy=0.900]\n",
      "Epoch 82: 100%|█████████▉| 254/255 [01:20<00:00,  3.15it/s, loss=0.185, v_num=2, train_loss=0.329, train_accuracy=0.833, val_loss=0.212, val_accuracy=0.900]\n",
      "Epoch 82: 100%|██████████| 255/255 [01:21<00:00,  3.15it/s, loss=0.185, v_num=2, train_loss=0.329, train_accuracy=0.833, val_loss=0.210, val_accuracy=0.900]\n",
      "Epoch 82: 100%|██████████| 255/255 [01:21<00:00,  3.15it/s, loss=0.185, v_num=2, train_loss=0.329, train_accuracy=0.833, val_loss=0.210, val_accuracy=0.900]"
     ]
    },
    {
     "name": "stderr",
     "output_type": "stream",
     "text": [
      "Epoch 82, global step 18757: val_loss was not in top 2\n"
     ]
    },
    {
     "name": "stdout",
     "output_type": "stream",
     "text": [
      "Epoch 83:  89%|████████▊ | 226/255 [01:16<00:09,  2.94it/s, loss=0.187, v_num=2, train_loss=0.176, train_accuracy=0.889, val_loss=0.210, val_accuracy=0.900] \n",
      "Validating: 0it [00:00, ?it/s]\u001b[A\n",
      "Validating:   0%|          | 0/29 [00:00<?, ?it/s]\u001b[A\n",
      "Epoch 83:  89%|████████▉ | 228/255 [01:18<00:09,  2.90it/s, loss=0.187, v_num=2, train_loss=0.176, train_accuracy=0.889, val_loss=0.210, val_accuracy=0.900]\n",
      "Epoch 83:  90%|█████████ | 230/255 [01:18<00:08,  2.92it/s, loss=0.187, v_num=2, train_loss=0.176, train_accuracy=0.889, val_loss=0.210, val_accuracy=0.900]\n",
      "Epoch 83:  91%|█████████ | 232/255 [01:19<00:07,  2.94it/s, loss=0.187, v_num=2, train_loss=0.176, train_accuracy=0.889, val_loss=0.210, val_accuracy=0.900]\n",
      "Epoch 83:  92%|█████████▏| 234/255 [01:19<00:07,  2.96it/s, loss=0.187, v_num=2, train_loss=0.176, train_accuracy=0.889, val_loss=0.210, val_accuracy=0.900]\n",
      "Epoch 83:  93%|█████████▎| 236/255 [01:19<00:06,  2.97it/s, loss=0.187, v_num=2, train_loss=0.176, train_accuracy=0.889, val_loss=0.210, val_accuracy=0.900]\n",
      "Epoch 83:  93%|█████████▎| 238/255 [01:19<00:05,  2.99it/s, loss=0.187, v_num=2, train_loss=0.176, train_accuracy=0.889, val_loss=0.210, val_accuracy=0.900]\n",
      "Epoch 83:  94%|█████████▍| 240/255 [01:19<00:04,  3.01it/s, loss=0.187, v_num=2, train_loss=0.176, train_accuracy=0.889, val_loss=0.210, val_accuracy=0.900]\n",
      "Epoch 83:  95%|█████████▍| 242/255 [01:19<00:04,  3.03it/s, loss=0.187, v_num=2, train_loss=0.176, train_accuracy=0.889, val_loss=0.210, val_accuracy=0.900]\n",
      "Epoch 83:  96%|█████████▌| 244/255 [01:19<00:03,  3.05it/s, loss=0.187, v_num=2, train_loss=0.176, train_accuracy=0.889, val_loss=0.210, val_accuracy=0.900]\n",
      "Epoch 83:  96%|█████████▋| 246/255 [01:20<00:02,  3.07it/s, loss=0.187, v_num=2, train_loss=0.176, train_accuracy=0.889, val_loss=0.210, val_accuracy=0.900]\n",
      "Epoch 83:  97%|█████████▋| 248/255 [01:20<00:02,  3.09it/s, loss=0.187, v_num=2, train_loss=0.176, train_accuracy=0.889, val_loss=0.210, val_accuracy=0.900]\n",
      "Epoch 83:  98%|█████████▊| 250/255 [01:20<00:01,  3.11it/s, loss=0.187, v_num=2, train_loss=0.176, train_accuracy=0.889, val_loss=0.210, val_accuracy=0.900]\n",
      "Epoch 83:  99%|█████████▉| 252/255 [01:20<00:00,  3.13it/s, loss=0.187, v_num=2, train_loss=0.176, train_accuracy=0.889, val_loss=0.210, val_accuracy=0.900]\n",
      "Epoch 83: 100%|█████████▉| 254/255 [01:20<00:00,  3.15it/s, loss=0.187, v_num=2, train_loss=0.176, train_accuracy=0.889, val_loss=0.210, val_accuracy=0.900]\n",
      "Epoch 83: 100%|██████████| 255/255 [01:21<00:00,  3.15it/s, loss=0.187, v_num=2, train_loss=0.176, train_accuracy=0.889, val_loss=0.200, val_accuracy=0.906]\n",
      "Epoch 83: 100%|██████████| 255/255 [01:21<00:00,  3.14it/s, loss=0.187, v_num=2, train_loss=0.176, train_accuracy=0.889, val_loss=0.200, val_accuracy=0.906]"
     ]
    },
    {
     "name": "stderr",
     "output_type": "stream",
     "text": [
      "Epoch 83, global step 18983: val_loss reached 0.20018 (best 0.20018), saving model to \"/Workspace/code/checkpoints/best-checkpoint-corr-mi-27-v2.ckpt\" as top 2\n"
     ]
    },
    {
     "name": "stdout",
     "output_type": "stream",
     "text": [
      "Epoch 84:  89%|████████▊ | 226/255 [01:17<00:09,  2.93it/s, loss=0.174, v_num=2, train_loss=0.017, train_accuracy=1.000, val_loss=0.200, val_accuracy=0.906] \n",
      "Validating: 0it [00:00, ?it/s]\u001b[A\n",
      "Validating:   0%|          | 0/29 [00:00<?, ?it/s]\u001b[A\n",
      "Epoch 84:  89%|████████▉ | 228/255 [01:18<00:09,  2.90it/s, loss=0.174, v_num=2, train_loss=0.017, train_accuracy=1.000, val_loss=0.200, val_accuracy=0.906]\n",
      "Epoch 84:  90%|█████████ | 230/255 [01:18<00:08,  2.92it/s, loss=0.174, v_num=2, train_loss=0.017, train_accuracy=1.000, val_loss=0.200, val_accuracy=0.906]\n",
      "Epoch 84:  91%|█████████ | 232/255 [01:19<00:07,  2.94it/s, loss=0.174, v_num=2, train_loss=0.017, train_accuracy=1.000, val_loss=0.200, val_accuracy=0.906]\n",
      "Epoch 84:  92%|█████████▏| 234/255 [01:19<00:07,  2.95it/s, loss=0.174, v_num=2, train_loss=0.017, train_accuracy=1.000, val_loss=0.200, val_accuracy=0.906]\n",
      "Epoch 84:  93%|█████████▎| 236/255 [01:19<00:06,  2.97it/s, loss=0.174, v_num=2, train_loss=0.017, train_accuracy=1.000, val_loss=0.200, val_accuracy=0.906]\n",
      "Epoch 84:  93%|█████████▎| 238/255 [01:19<00:05,  2.99it/s, loss=0.174, v_num=2, train_loss=0.017, train_accuracy=1.000, val_loss=0.200, val_accuracy=0.906]\n",
      "Epoch 84:  94%|█████████▍| 240/255 [01:19<00:04,  3.01it/s, loss=0.174, v_num=2, train_loss=0.017, train_accuracy=1.000, val_loss=0.200, val_accuracy=0.906]\n",
      "Epoch 84:  95%|█████████▍| 242/255 [01:19<00:04,  3.03it/s, loss=0.174, v_num=2, train_loss=0.017, train_accuracy=1.000, val_loss=0.200, val_accuracy=0.906]\n",
      "Epoch 84:  96%|█████████▌| 244/255 [01:19<00:03,  3.05it/s, loss=0.174, v_num=2, train_loss=0.017, train_accuracy=1.000, val_loss=0.200, val_accuracy=0.906]\n",
      "Epoch 84:  96%|█████████▋| 246/255 [01:20<00:02,  3.07it/s, loss=0.174, v_num=2, train_loss=0.017, train_accuracy=1.000, val_loss=0.200, val_accuracy=0.906]\n",
      "Epoch 84:  97%|█████████▋| 248/255 [01:20<00:02,  3.09it/s, loss=0.174, v_num=2, train_loss=0.017, train_accuracy=1.000, val_loss=0.200, val_accuracy=0.906]\n",
      "Epoch 84:  98%|█████████▊| 250/255 [01:20<00:01,  3.11it/s, loss=0.174, v_num=2, train_loss=0.017, train_accuracy=1.000, val_loss=0.200, val_accuracy=0.906]\n",
      "Epoch 84:  99%|█████████▉| 252/255 [01:20<00:00,  3.13it/s, loss=0.174, v_num=2, train_loss=0.017, train_accuracy=1.000, val_loss=0.200, val_accuracy=0.906]\n",
      "Epoch 84: 100%|█████████▉| 254/255 [01:20<00:00,  3.15it/s, loss=0.174, v_num=2, train_loss=0.017, train_accuracy=1.000, val_loss=0.200, val_accuracy=0.906]\n",
      "Epoch 84: 100%|██████████| 255/255 [01:21<00:00,  3.15it/s, loss=0.174, v_num=2, train_loss=0.017, train_accuracy=1.000, val_loss=0.191, val_accuracy=0.913]\n",
      "Epoch 84: 100%|██████████| 255/255 [01:21<00:00,  3.15it/s, loss=0.174, v_num=2, train_loss=0.017, train_accuracy=1.000, val_loss=0.191, val_accuracy=0.913]"
     ]
    },
    {
     "name": "stderr",
     "output_type": "stream",
     "text": [
      "Epoch 84, global step 19209: val_loss reached 0.19102 (best 0.19102), saving model to \"/Workspace/code/checkpoints/best-checkpoint-corr-mi-27-v3.ckpt\" as top 2\n"
     ]
    },
    {
     "name": "stdout",
     "output_type": "stream",
     "text": [
      "Epoch 85:  89%|████████▊ | 226/255 [01:17<00:09,  2.93it/s, loss=0.154, v_num=2, train_loss=0.0382, train_accuracy=1.000, val_loss=0.191, val_accuracy=0.913]\n",
      "Validating: 0it [00:00, ?it/s]\u001b[A\n",
      "Validating:   0%|          | 0/29 [00:00<?, ?it/s]\u001b[A\n",
      "Epoch 85:  89%|████████▉ | 228/255 [01:18<00:09,  2.90it/s, loss=0.154, v_num=2, train_loss=0.0382, train_accuracy=1.000, val_loss=0.191, val_accuracy=0.913]\n",
      "Epoch 85:  90%|█████████ | 230/255 [01:18<00:08,  2.92it/s, loss=0.154, v_num=2, train_loss=0.0382, train_accuracy=1.000, val_loss=0.191, val_accuracy=0.913]\n",
      "Epoch 85:  91%|█████████ | 232/255 [01:19<00:07,  2.94it/s, loss=0.154, v_num=2, train_loss=0.0382, train_accuracy=1.000, val_loss=0.191, val_accuracy=0.913]\n",
      "Epoch 85:  92%|█████████▏| 234/255 [01:19<00:07,  2.95it/s, loss=0.154, v_num=2, train_loss=0.0382, train_accuracy=1.000, val_loss=0.191, val_accuracy=0.913]\n",
      "Epoch 85:  93%|█████████▎| 236/255 [01:19<00:06,  2.97it/s, loss=0.154, v_num=2, train_loss=0.0382, train_accuracy=1.000, val_loss=0.191, val_accuracy=0.913]\n",
      "Epoch 85:  93%|█████████▎| 238/255 [01:19<00:05,  2.99it/s, loss=0.154, v_num=2, train_loss=0.0382, train_accuracy=1.000, val_loss=0.191, val_accuracy=0.913]\n",
      "Epoch 85:  94%|█████████▍| 240/255 [01:19<00:04,  3.01it/s, loss=0.154, v_num=2, train_loss=0.0382, train_accuracy=1.000, val_loss=0.191, val_accuracy=0.913]\n",
      "Epoch 85:  95%|█████████▍| 242/255 [01:19<00:04,  3.03it/s, loss=0.154, v_num=2, train_loss=0.0382, train_accuracy=1.000, val_loss=0.191, val_accuracy=0.913]\n",
      "Epoch 85:  96%|█████████▌| 244/255 [01:19<00:03,  3.05it/s, loss=0.154, v_num=2, train_loss=0.0382, train_accuracy=1.000, val_loss=0.191, val_accuracy=0.913]\n",
      "Epoch 85:  96%|█████████▋| 246/255 [01:20<00:02,  3.07it/s, loss=0.154, v_num=2, train_loss=0.0382, train_accuracy=1.000, val_loss=0.191, val_accuracy=0.913]\n",
      "Epoch 85:  97%|█████████▋| 248/255 [01:20<00:02,  3.09it/s, loss=0.154, v_num=2, train_loss=0.0382, train_accuracy=1.000, val_loss=0.191, val_accuracy=0.913]\n",
      "Epoch 85:  98%|█████████▊| 250/255 [01:20<00:01,  3.11it/s, loss=0.154, v_num=2, train_loss=0.0382, train_accuracy=1.000, val_loss=0.191, val_accuracy=0.913]\n",
      "Epoch 85:  99%|█████████▉| 252/255 [01:20<00:00,  3.13it/s, loss=0.154, v_num=2, train_loss=0.0382, train_accuracy=1.000, val_loss=0.191, val_accuracy=0.913]\n",
      "Epoch 85: 100%|█████████▉| 254/255 [01:20<00:00,  3.15it/s, loss=0.154, v_num=2, train_loss=0.0382, train_accuracy=1.000, val_loss=0.191, val_accuracy=0.913]\n",
      "Epoch 85: 100%|██████████| 255/255 [01:21<00:00,  3.15it/s, loss=0.154, v_num=2, train_loss=0.0382, train_accuracy=1.000, val_loss=0.218, val_accuracy=0.902]\n",
      "Epoch 85: 100%|██████████| 255/255 [01:21<00:00,  3.15it/s, loss=0.154, v_num=2, train_loss=0.0382, train_accuracy=1.000, val_loss=0.218, val_accuracy=0.902]"
     ]
    },
    {
     "name": "stderr",
     "output_type": "stream",
     "text": [
      "Epoch 85, global step 19435: val_loss was not in top 2\n"
     ]
    },
    {
     "name": "stdout",
     "output_type": "stream",
     "text": [
      "Epoch 86:  89%|████████▊ | 226/255 [01:16<00:09,  2.94it/s, loss=0.204, v_num=2, train_loss=0.200, train_accuracy=0.944, val_loss=0.218, val_accuracy=0.902] \n",
      "Validating: 0it [00:00, ?it/s]\u001b[A\n",
      "Validating:   0%|          | 0/29 [00:00<?, ?it/s]\u001b[A\n",
      "Epoch 86:  89%|████████▉ | 228/255 [01:18<00:09,  2.90it/s, loss=0.204, v_num=2, train_loss=0.200, train_accuracy=0.944, val_loss=0.218, val_accuracy=0.902]\n",
      "Epoch 86:  90%|█████████ | 230/255 [01:18<00:08,  2.92it/s, loss=0.204, v_num=2, train_loss=0.200, train_accuracy=0.944, val_loss=0.218, val_accuracy=0.902]\n",
      "Epoch 86:  91%|█████████ | 232/255 [01:19<00:07,  2.94it/s, loss=0.204, v_num=2, train_loss=0.200, train_accuracy=0.944, val_loss=0.218, val_accuracy=0.902]\n",
      "Epoch 86:  92%|█████████▏| 234/255 [01:19<00:07,  2.96it/s, loss=0.204, v_num=2, train_loss=0.200, train_accuracy=0.944, val_loss=0.218, val_accuracy=0.902]\n",
      "Epoch 86:  93%|█████████▎| 236/255 [01:19<00:06,  2.98it/s, loss=0.204, v_num=2, train_loss=0.200, train_accuracy=0.944, val_loss=0.218, val_accuracy=0.902]\n",
      "Epoch 86:  93%|█████████▎| 238/255 [01:19<00:05,  3.00it/s, loss=0.204, v_num=2, train_loss=0.200, train_accuracy=0.944, val_loss=0.218, val_accuracy=0.902]\n",
      "Epoch 86:  94%|█████████▍| 240/255 [01:19<00:04,  3.01it/s, loss=0.204, v_num=2, train_loss=0.200, train_accuracy=0.944, val_loss=0.218, val_accuracy=0.902]\n",
      "Epoch 86:  95%|█████████▍| 242/255 [01:19<00:04,  3.03it/s, loss=0.204, v_num=2, train_loss=0.200, train_accuracy=0.944, val_loss=0.218, val_accuracy=0.902]\n",
      "Epoch 86:  96%|█████████▌| 244/255 [01:19<00:03,  3.05it/s, loss=0.204, v_num=2, train_loss=0.200, train_accuracy=0.944, val_loss=0.218, val_accuracy=0.902]\n",
      "Epoch 86:  96%|█████████▋| 246/255 [01:20<00:02,  3.07it/s, loss=0.204, v_num=2, train_loss=0.200, train_accuracy=0.944, val_loss=0.218, val_accuracy=0.902]\n",
      "Epoch 86:  97%|█████████▋| 248/255 [01:20<00:02,  3.09it/s, loss=0.204, v_num=2, train_loss=0.200, train_accuracy=0.944, val_loss=0.218, val_accuracy=0.902]\n",
      "Epoch 86:  98%|█████████▊| 250/255 [01:20<00:01,  3.11it/s, loss=0.204, v_num=2, train_loss=0.200, train_accuracy=0.944, val_loss=0.218, val_accuracy=0.902]\n",
      "Epoch 86:  99%|█████████▉| 252/255 [01:20<00:00,  3.13it/s, loss=0.204, v_num=2, train_loss=0.200, train_accuracy=0.944, val_loss=0.218, val_accuracy=0.902]\n",
      "Epoch 86: 100%|█████████▉| 254/255 [01:20<00:00,  3.15it/s, loss=0.204, v_num=2, train_loss=0.200, train_accuracy=0.944, val_loss=0.218, val_accuracy=0.902]\n",
      "Epoch 86: 100%|██████████| 255/255 [01:21<00:00,  3.15it/s, loss=0.204, v_num=2, train_loss=0.200, train_accuracy=0.944, val_loss=0.193, val_accuracy=0.904]\n",
      "Epoch 86: 100%|██████████| 255/255 [01:21<00:00,  3.15it/s, loss=0.204, v_num=2, train_loss=0.200, train_accuracy=0.944, val_loss=0.193, val_accuracy=0.904]"
     ]
    },
    {
     "name": "stderr",
     "output_type": "stream",
     "text": [
      "Epoch 86, global step 19661: val_loss reached 0.19313 (best 0.19102), saving model to \"/Workspace/code/checkpoints/best-checkpoint-corr-mi-27-v2.ckpt\" as top 2\n"
     ]
    },
    {
     "name": "stdout",
     "output_type": "stream",
     "text": [
      "Epoch 87:  89%|████████▊ | 226/255 [01:16<00:09,  2.94it/s, loss=0.168, v_num=2, train_loss=0.148, train_accuracy=0.944, val_loss=0.193, val_accuracy=0.904] \n",
      "Validating: 0it [00:00, ?it/s]\u001b[A\n",
      "Validating:   0%|          | 0/29 [00:00<?, ?it/s]\u001b[A\n",
      "Epoch 87:  89%|████████▉ | 228/255 [01:18<00:09,  2.90it/s, loss=0.168, v_num=2, train_loss=0.148, train_accuracy=0.944, val_loss=0.193, val_accuracy=0.904]\n",
      "Epoch 87:  90%|█████████ | 230/255 [01:18<00:08,  2.92it/s, loss=0.168, v_num=2, train_loss=0.148, train_accuracy=0.944, val_loss=0.193, val_accuracy=0.904]\n",
      "Epoch 87:  91%|█████████ | 232/255 [01:18<00:07,  2.94it/s, loss=0.168, v_num=2, train_loss=0.148, train_accuracy=0.944, val_loss=0.193, val_accuracy=0.904]\n",
      "Epoch 87:  92%|█████████▏| 234/255 [01:19<00:07,  2.96it/s, loss=0.168, v_num=2, train_loss=0.148, train_accuracy=0.944, val_loss=0.193, val_accuracy=0.904]\n",
      "Epoch 87:  93%|█████████▎| 236/255 [01:19<00:06,  2.98it/s, loss=0.168, v_num=2, train_loss=0.148, train_accuracy=0.944, val_loss=0.193, val_accuracy=0.904]\n",
      "Epoch 87:  93%|█████████▎| 238/255 [01:19<00:05,  3.00it/s, loss=0.168, v_num=2, train_loss=0.148, train_accuracy=0.944, val_loss=0.193, val_accuracy=0.904]\n",
      "Epoch 87:  94%|█████████▍| 240/255 [01:19<00:04,  3.02it/s, loss=0.168, v_num=2, train_loss=0.148, train_accuracy=0.944, val_loss=0.193, val_accuracy=0.904]\n",
      "Epoch 87:  95%|█████████▍| 242/255 [01:19<00:04,  3.04it/s, loss=0.168, v_num=2, train_loss=0.148, train_accuracy=0.944, val_loss=0.193, val_accuracy=0.904]\n",
      "Epoch 87:  96%|█████████▌| 244/255 [01:19<00:03,  3.06it/s, loss=0.168, v_num=2, train_loss=0.148, train_accuracy=0.944, val_loss=0.193, val_accuracy=0.904]\n",
      "Epoch 87:  96%|█████████▋| 246/255 [01:19<00:02,  3.08it/s, loss=0.168, v_num=2, train_loss=0.148, train_accuracy=0.944, val_loss=0.193, val_accuracy=0.904]\n",
      "Epoch 87:  97%|█████████▋| 248/255 [01:20<00:02,  3.10it/s, loss=0.168, v_num=2, train_loss=0.148, train_accuracy=0.944, val_loss=0.193, val_accuracy=0.904]\n",
      "Epoch 87:  98%|█████████▊| 250/255 [01:20<00:01,  3.12it/s, loss=0.168, v_num=2, train_loss=0.148, train_accuracy=0.944, val_loss=0.193, val_accuracy=0.904]\n",
      "Epoch 87:  99%|█████████▉| 252/255 [01:20<00:00,  3.13it/s, loss=0.168, v_num=2, train_loss=0.148, train_accuracy=0.944, val_loss=0.193, val_accuracy=0.904]\n",
      "Epoch 87: 100%|█████████▉| 254/255 [01:20<00:00,  3.15it/s, loss=0.168, v_num=2, train_loss=0.148, train_accuracy=0.944, val_loss=0.193, val_accuracy=0.904]\n",
      "Epoch 87: 100%|██████████| 255/255 [01:20<00:00,  3.15it/s, loss=0.168, v_num=2, train_loss=0.148, train_accuracy=0.944, val_loss=0.219, val_accuracy=0.903]\n",
      "Epoch 87: 100%|██████████| 255/255 [01:20<00:00,  3.15it/s, loss=0.168, v_num=2, train_loss=0.148, train_accuracy=0.944, val_loss=0.219, val_accuracy=0.903]"
     ]
    },
    {
     "name": "stderr",
     "output_type": "stream",
     "text": [
      "Epoch 87, global step 19887: val_loss was not in top 2\n"
     ]
    },
    {
     "name": "stdout",
     "output_type": "stream",
     "text": [
      "Epoch 88:  89%|████████▊ | 226/255 [01:16<00:09,  2.94it/s, loss=0.179, v_num=2, train_loss=0.290, train_accuracy=0.889, val_loss=0.219, val_accuracy=0.903] \n",
      "Validating: 0it [00:00, ?it/s]\u001b[A\n",
      "Validating:   0%|          | 0/29 [00:00<?, ?it/s]\u001b[A\n",
      "Epoch 88:  89%|████████▉ | 228/255 [01:18<00:09,  2.90it/s, loss=0.179, v_num=2, train_loss=0.290, train_accuracy=0.889, val_loss=0.219, val_accuracy=0.903]\n",
      "Epoch 88:  90%|█████████ | 230/255 [01:18<00:08,  2.92it/s, loss=0.179, v_num=2, train_loss=0.290, train_accuracy=0.889, val_loss=0.219, val_accuracy=0.903]\n",
      "Epoch 88:  91%|█████████ | 232/255 [01:18<00:07,  2.94it/s, loss=0.179, v_num=2, train_loss=0.290, train_accuracy=0.889, val_loss=0.219, val_accuracy=0.903]\n",
      "Epoch 88:  92%|█████████▏| 234/255 [01:19<00:07,  2.96it/s, loss=0.179, v_num=2, train_loss=0.290, train_accuracy=0.889, val_loss=0.219, val_accuracy=0.903]\n",
      "Epoch 88:  93%|█████████▎| 236/255 [01:19<00:06,  2.98it/s, loss=0.179, v_num=2, train_loss=0.290, train_accuracy=0.889, val_loss=0.219, val_accuracy=0.903]\n",
      "Epoch 88:  93%|█████████▎| 238/255 [01:19<00:05,  3.00it/s, loss=0.179, v_num=2, train_loss=0.290, train_accuracy=0.889, val_loss=0.219, val_accuracy=0.903]\n",
      "Epoch 88:  94%|█████████▍| 240/255 [01:19<00:04,  3.02it/s, loss=0.179, v_num=2, train_loss=0.290, train_accuracy=0.889, val_loss=0.219, val_accuracy=0.903]\n",
      "Epoch 88:  95%|█████████▍| 242/255 [01:19<00:04,  3.04it/s, loss=0.179, v_num=2, train_loss=0.290, train_accuracy=0.889, val_loss=0.219, val_accuracy=0.903]\n",
      "Epoch 88:  96%|█████████▌| 244/255 [01:19<00:03,  3.06it/s, loss=0.179, v_num=2, train_loss=0.290, train_accuracy=0.889, val_loss=0.219, val_accuracy=0.903]\n",
      "Epoch 88:  96%|█████████▋| 246/255 [01:19<00:02,  3.08it/s, loss=0.179, v_num=2, train_loss=0.290, train_accuracy=0.889, val_loss=0.219, val_accuracy=0.903]\n",
      "Epoch 88:  97%|█████████▋| 248/255 [01:20<00:02,  3.09it/s, loss=0.179, v_num=2, train_loss=0.290, train_accuracy=0.889, val_loss=0.219, val_accuracy=0.903]\n",
      "Epoch 88:  98%|█████████▊| 250/255 [01:20<00:01,  3.11it/s, loss=0.179, v_num=2, train_loss=0.290, train_accuracy=0.889, val_loss=0.219, val_accuracy=0.903]\n",
      "Epoch 88:  99%|█████████▉| 252/255 [01:20<00:00,  3.13it/s, loss=0.179, v_num=2, train_loss=0.290, train_accuracy=0.889, val_loss=0.219, val_accuracy=0.903]\n",
      "Epoch 88: 100%|█████████▉| 254/255 [01:20<00:00,  3.15it/s, loss=0.179, v_num=2, train_loss=0.290, train_accuracy=0.889, val_loss=0.219, val_accuracy=0.903]\n",
      "Epoch 88: 100%|██████████| 255/255 [01:20<00:00,  3.15it/s, loss=0.179, v_num=2, train_loss=0.290, train_accuracy=0.889, val_loss=0.191, val_accuracy=0.913]\n",
      "Epoch 88: 100%|██████████| 255/255 [01:20<00:00,  3.15it/s, loss=0.179, v_num=2, train_loss=0.290, train_accuracy=0.889, val_loss=0.191, val_accuracy=0.913]"
     ]
    },
    {
     "name": "stderr",
     "output_type": "stream",
     "text": [
      "Epoch 88, global step 20113: val_loss reached 0.19114 (best 0.19102), saving model to \"/Workspace/code/checkpoints/best-checkpoint-corr-mi-27-v2.ckpt\" as top 2\n"
     ]
    },
    {
     "name": "stdout",
     "output_type": "stream",
     "text": [
      "Epoch 89:  89%|████████▊ | 226/255 [01:16<00:09,  2.94it/s, loss=0.176, v_num=2, train_loss=0.0639, train_accuracy=1.000, val_loss=0.191, val_accuracy=0.913]\n",
      "Validating: 0it [00:00, ?it/s]\u001b[A\n",
      "Validating:   0%|          | 0/29 [00:00<?, ?it/s]\u001b[A\n",
      "Epoch 89:  89%|████████▉ | 228/255 [01:18<00:09,  2.90it/s, loss=0.176, v_num=2, train_loss=0.0639, train_accuracy=1.000, val_loss=0.191, val_accuracy=0.913]\n",
      "Epoch 89:  90%|█████████ | 230/255 [01:18<00:08,  2.92it/s, loss=0.176, v_num=2, train_loss=0.0639, train_accuracy=1.000, val_loss=0.191, val_accuracy=0.913]\n",
      "Epoch 89:  91%|█████████ | 232/255 [01:18<00:07,  2.94it/s, loss=0.176, v_num=2, train_loss=0.0639, train_accuracy=1.000, val_loss=0.191, val_accuracy=0.913]\n",
      "Epoch 89:  92%|█████████▏| 234/255 [01:19<00:07,  2.96it/s, loss=0.176, v_num=2, train_loss=0.0639, train_accuracy=1.000, val_loss=0.191, val_accuracy=0.913]\n",
      "Epoch 89:  93%|█████████▎| 236/255 [01:19<00:06,  2.98it/s, loss=0.176, v_num=2, train_loss=0.0639, train_accuracy=1.000, val_loss=0.191, val_accuracy=0.913]\n",
      "Epoch 89:  93%|█████████▎| 238/255 [01:19<00:05,  3.00it/s, loss=0.176, v_num=2, train_loss=0.0639, train_accuracy=1.000, val_loss=0.191, val_accuracy=0.913]\n",
      "Epoch 89:  94%|█████████▍| 240/255 [01:19<00:04,  3.02it/s, loss=0.176, v_num=2, train_loss=0.0639, train_accuracy=1.000, val_loss=0.191, val_accuracy=0.913]\n",
      "Epoch 89:  95%|█████████▍| 242/255 [01:19<00:04,  3.04it/s, loss=0.176, v_num=2, train_loss=0.0639, train_accuracy=1.000, val_loss=0.191, val_accuracy=0.913]\n",
      "Epoch 89:  96%|█████████▌| 244/255 [01:19<00:03,  3.06it/s, loss=0.176, v_num=2, train_loss=0.0639, train_accuracy=1.000, val_loss=0.191, val_accuracy=0.913]\n",
      "Epoch 89:  96%|█████████▋| 246/255 [01:19<00:02,  3.08it/s, loss=0.176, v_num=2, train_loss=0.0639, train_accuracy=1.000, val_loss=0.191, val_accuracy=0.913]\n",
      "Epoch 89:  97%|█████████▋| 248/255 [01:20<00:02,  3.10it/s, loss=0.176, v_num=2, train_loss=0.0639, train_accuracy=1.000, val_loss=0.191, val_accuracy=0.913]\n",
      "Epoch 89:  98%|█████████▊| 250/255 [01:20<00:01,  3.12it/s, loss=0.176, v_num=2, train_loss=0.0639, train_accuracy=1.000, val_loss=0.191, val_accuracy=0.913]\n",
      "Epoch 89:  99%|█████████▉| 252/255 [01:20<00:00,  3.13it/s, loss=0.176, v_num=2, train_loss=0.0639, train_accuracy=1.000, val_loss=0.191, val_accuracy=0.913]\n",
      "Epoch 89: 100%|█████████▉| 254/255 [01:20<00:00,  3.15it/s, loss=0.176, v_num=2, train_loss=0.0639, train_accuracy=1.000, val_loss=0.191, val_accuracy=0.913]\n",
      "Epoch 89: 100%|██████████| 255/255 [01:20<00:00,  3.15it/s, loss=0.176, v_num=2, train_loss=0.0639, train_accuracy=1.000, val_loss=0.203, val_accuracy=0.908]\n",
      "Epoch 89: 100%|██████████| 255/255 [01:20<00:00,  3.15it/s, loss=0.176, v_num=2, train_loss=0.0639, train_accuracy=1.000, val_loss=0.203, val_accuracy=0.908]"
     ]
    },
    {
     "name": "stderr",
     "output_type": "stream",
     "text": [
      "Epoch 89, global step 20339: val_loss was not in top 2\n"
     ]
    },
    {
     "name": "stdout",
     "output_type": "stream",
     "text": [
      "Epoch 90:  89%|████████▊ | 226/255 [01:17<00:09,  2.93it/s, loss=0.184, v_num=2, train_loss=0.157, train_accuracy=0.889, val_loss=0.203, val_accuracy=0.908] \n",
      "Validating: 0it [00:00, ?it/s]\u001b[A\n",
      "Validating:   0%|          | 0/29 [00:00<?, ?it/s]\u001b[A\n",
      "Epoch 90:  89%|████████▉ | 228/255 [01:18<00:09,  2.90it/s, loss=0.184, v_num=2, train_loss=0.157, train_accuracy=0.889, val_loss=0.203, val_accuracy=0.908]\n",
      "Epoch 90:  90%|█████████ | 230/255 [01:18<00:08,  2.92it/s, loss=0.184, v_num=2, train_loss=0.157, train_accuracy=0.889, val_loss=0.203, val_accuracy=0.908]\n",
      "Epoch 90:  91%|█████████ | 232/255 [01:19<00:07,  2.93it/s, loss=0.184, v_num=2, train_loss=0.157, train_accuracy=0.889, val_loss=0.203, val_accuracy=0.908]\n",
      "Epoch 90:  92%|█████████▏| 234/255 [01:19<00:07,  2.95it/s, loss=0.184, v_num=2, train_loss=0.157, train_accuracy=0.889, val_loss=0.203, val_accuracy=0.908]\n",
      "Epoch 90:  93%|█████████▎| 236/255 [01:19<00:06,  2.97it/s, loss=0.184, v_num=2, train_loss=0.157, train_accuracy=0.889, val_loss=0.203, val_accuracy=0.908]\n",
      "Epoch 90:  93%|█████████▎| 238/255 [01:19<00:05,  2.99it/s, loss=0.184, v_num=2, train_loss=0.157, train_accuracy=0.889, val_loss=0.203, val_accuracy=0.908]\n",
      "Epoch 90:  94%|█████████▍| 240/255 [01:19<00:04,  3.01it/s, loss=0.184, v_num=2, train_loss=0.157, train_accuracy=0.889, val_loss=0.203, val_accuracy=0.908]\n",
      "Epoch 90:  95%|█████████▍| 242/255 [01:19<00:04,  3.03it/s, loss=0.184, v_num=2, train_loss=0.157, train_accuracy=0.889, val_loss=0.203, val_accuracy=0.908]\n",
      "Epoch 90:  96%|█████████▌| 244/255 [01:20<00:03,  3.05it/s, loss=0.184, v_num=2, train_loss=0.157, train_accuracy=0.889, val_loss=0.203, val_accuracy=0.908]\n",
      "Epoch 90:  96%|█████████▋| 246/255 [01:20<00:02,  3.07it/s, loss=0.184, v_num=2, train_loss=0.157, train_accuracy=0.889, val_loss=0.203, val_accuracy=0.908]\n",
      "Epoch 90:  97%|█████████▋| 248/255 [01:20<00:02,  3.09it/s, loss=0.184, v_num=2, train_loss=0.157, train_accuracy=0.889, val_loss=0.203, val_accuracy=0.908]\n",
      "Epoch 90:  98%|█████████▊| 250/255 [01:20<00:01,  3.11it/s, loss=0.184, v_num=2, train_loss=0.157, train_accuracy=0.889, val_loss=0.203, val_accuracy=0.908]\n",
      "Epoch 90:  99%|█████████▉| 252/255 [01:20<00:00,  3.13it/s, loss=0.184, v_num=2, train_loss=0.157, train_accuracy=0.889, val_loss=0.203, val_accuracy=0.908]\n",
      "Epoch 90: 100%|█████████▉| 254/255 [01:20<00:00,  3.15it/s, loss=0.184, v_num=2, train_loss=0.157, train_accuracy=0.889, val_loss=0.203, val_accuracy=0.908]\n",
      "Epoch 90: 100%|██████████| 255/255 [01:21<00:00,  3.14it/s, loss=0.184, v_num=2, train_loss=0.157, train_accuracy=0.889, val_loss=0.218, val_accuracy=0.903]\n",
      "Epoch 90: 100%|██████████| 255/255 [01:21<00:00,  3.14it/s, loss=0.184, v_num=2, train_loss=0.157, train_accuracy=0.889, val_loss=0.218, val_accuracy=0.903]"
     ]
    },
    {
     "name": "stderr",
     "output_type": "stream",
     "text": [
      "Epoch 90, global step 20565: val_loss was not in top 2\n"
     ]
    },
    {
     "name": "stdout",
     "output_type": "stream",
     "text": [
      "Epoch 91:  89%|████████▊ | 226/255 [01:17<00:09,  2.93it/s, loss=0.171, v_num=2, train_loss=0.0352, train_accuracy=1.000, val_loss=0.218, val_accuracy=0.903]\n",
      "Validating: 0it [00:00, ?it/s]\u001b[A\n",
      "Validating:   0%|          | 0/29 [00:00<?, ?it/s]\u001b[A\n",
      "Epoch 91:  89%|████████▉ | 228/255 [01:18<00:09,  2.89it/s, loss=0.171, v_num=2, train_loss=0.0352, train_accuracy=1.000, val_loss=0.218, val_accuracy=0.903]\n",
      "Epoch 91:  90%|█████████ | 230/255 [01:18<00:08,  2.91it/s, loss=0.171, v_num=2, train_loss=0.0352, train_accuracy=1.000, val_loss=0.218, val_accuracy=0.903]\n",
      "Epoch 91:  91%|█████████ | 232/255 [01:19<00:07,  2.93it/s, loss=0.171, v_num=2, train_loss=0.0352, train_accuracy=1.000, val_loss=0.218, val_accuracy=0.903]\n",
      "Epoch 91:  92%|█████████▏| 234/255 [01:19<00:07,  2.95it/s, loss=0.171, v_num=2, train_loss=0.0352, train_accuracy=1.000, val_loss=0.218, val_accuracy=0.903]\n",
      "Epoch 91:  93%|█████████▎| 236/255 [01:19<00:06,  2.97it/s, loss=0.171, v_num=2, train_loss=0.0352, train_accuracy=1.000, val_loss=0.218, val_accuracy=0.903]\n",
      "Epoch 91:  93%|█████████▎| 238/255 [01:19<00:05,  2.99it/s, loss=0.171, v_num=2, train_loss=0.0352, train_accuracy=1.000, val_loss=0.218, val_accuracy=0.903]\n",
      "Epoch 91:  94%|█████████▍| 240/255 [01:19<00:04,  3.01it/s, loss=0.171, v_num=2, train_loss=0.0352, train_accuracy=1.000, val_loss=0.218, val_accuracy=0.903]\n",
      "Epoch 91:  95%|█████████▍| 242/255 [01:19<00:04,  3.03it/s, loss=0.171, v_num=2, train_loss=0.0352, train_accuracy=1.000, val_loss=0.218, val_accuracy=0.903]\n",
      "Epoch 91:  96%|█████████▌| 244/255 [01:20<00:03,  3.05it/s, loss=0.171, v_num=2, train_loss=0.0352, train_accuracy=1.000, val_loss=0.218, val_accuracy=0.903]\n",
      "Epoch 91:  96%|█████████▋| 246/255 [01:20<00:02,  3.07it/s, loss=0.171, v_num=2, train_loss=0.0352, train_accuracy=1.000, val_loss=0.218, val_accuracy=0.903]\n",
      "Epoch 91:  97%|█████████▋| 248/255 [01:20<00:02,  3.09it/s, loss=0.171, v_num=2, train_loss=0.0352, train_accuracy=1.000, val_loss=0.218, val_accuracy=0.903]\n",
      "Epoch 91:  98%|█████████▊| 250/255 [01:20<00:01,  3.11it/s, loss=0.171, v_num=2, train_loss=0.0352, train_accuracy=1.000, val_loss=0.218, val_accuracy=0.903]\n",
      "Epoch 91:  99%|█████████▉| 252/255 [01:20<00:00,  3.13it/s, loss=0.171, v_num=2, train_loss=0.0352, train_accuracy=1.000, val_loss=0.218, val_accuracy=0.903]\n",
      "Epoch 91: 100%|█████████▉| 254/255 [01:20<00:00,  3.14it/s, loss=0.171, v_num=2, train_loss=0.0352, train_accuracy=1.000, val_loss=0.218, val_accuracy=0.903]\n",
      "Epoch 91: 100%|██████████| 255/255 [01:21<00:00,  3.14it/s, loss=0.171, v_num=2, train_loss=0.0352, train_accuracy=1.000, val_loss=0.198, val_accuracy=0.913]\n",
      "Epoch 91: 100%|██████████| 255/255 [01:21<00:00,  3.14it/s, loss=0.171, v_num=2, train_loss=0.0352, train_accuracy=1.000, val_loss=0.198, val_accuracy=0.913]"
     ]
    },
    {
     "name": "stderr",
     "output_type": "stream",
     "text": [
      "Epoch 91, global step 20791: val_loss was not in top 2\n"
     ]
    },
    {
     "name": "stdout",
     "output_type": "stream",
     "text": [
      "Epoch 92:  89%|████████▊ | 226/255 [01:16<00:09,  2.94it/s, loss=0.192, v_num=2, train_loss=0.138, train_accuracy=0.944, val_loss=0.198, val_accuracy=0.913] \n",
      "Validating: 0it [00:00, ?it/s]\u001b[A\n",
      "Validating:   0%|          | 0/29 [00:00<?, ?it/s]\u001b[A\n",
      "Epoch 92:  89%|████████▉ | 228/255 [01:18<00:09,  2.90it/s, loss=0.192, v_num=2, train_loss=0.138, train_accuracy=0.944, val_loss=0.198, val_accuracy=0.913]\n",
      "Epoch 92:  90%|█████████ | 230/255 [01:18<00:08,  2.92it/s, loss=0.192, v_num=2, train_loss=0.138, train_accuracy=0.944, val_loss=0.198, val_accuracy=0.913]\n",
      "Epoch 92:  91%|█████████ | 232/255 [01:18<00:07,  2.94it/s, loss=0.192, v_num=2, train_loss=0.138, train_accuracy=0.944, val_loss=0.198, val_accuracy=0.913]\n",
      "Epoch 92:  92%|█████████▏| 234/255 [01:19<00:07,  2.96it/s, loss=0.192, v_num=2, train_loss=0.138, train_accuracy=0.944, val_loss=0.198, val_accuracy=0.913]\n",
      "Epoch 92:  93%|█████████▎| 236/255 [01:19<00:06,  2.98it/s, loss=0.192, v_num=2, train_loss=0.138, train_accuracy=0.944, val_loss=0.198, val_accuracy=0.913]\n",
      "Epoch 92:  93%|█████████▎| 238/255 [01:19<00:05,  3.00it/s, loss=0.192, v_num=2, train_loss=0.138, train_accuracy=0.944, val_loss=0.198, val_accuracy=0.913]\n",
      "Epoch 92:  94%|█████████▍| 240/255 [01:19<00:04,  3.01it/s, loss=0.192, v_num=2, train_loss=0.138, train_accuracy=0.944, val_loss=0.198, val_accuracy=0.913]\n",
      "Epoch 92:  95%|█████████▍| 242/255 [01:19<00:04,  3.03it/s, loss=0.192, v_num=2, train_loss=0.138, train_accuracy=0.944, val_loss=0.198, val_accuracy=0.913]\n",
      "Epoch 92:  96%|█████████▌| 244/255 [01:19<00:03,  3.05it/s, loss=0.192, v_num=2, train_loss=0.138, train_accuracy=0.944, val_loss=0.198, val_accuracy=0.913]\n",
      "Epoch 92:  96%|█████████▋| 246/255 [01:20<00:02,  3.07it/s, loss=0.192, v_num=2, train_loss=0.138, train_accuracy=0.944, val_loss=0.198, val_accuracy=0.913]\n",
      "Epoch 92:  97%|█████████▋| 248/255 [01:20<00:02,  3.09it/s, loss=0.192, v_num=2, train_loss=0.138, train_accuracy=0.944, val_loss=0.198, val_accuracy=0.913]\n",
      "Epoch 92:  98%|█████████▊| 250/255 [01:20<00:01,  3.11it/s, loss=0.192, v_num=2, train_loss=0.138, train_accuracy=0.944, val_loss=0.198, val_accuracy=0.913]\n",
      "Epoch 92:  99%|█████████▉| 252/255 [01:20<00:00,  3.13it/s, loss=0.192, v_num=2, train_loss=0.138, train_accuracy=0.944, val_loss=0.198, val_accuracy=0.913]\n",
      "Epoch 92: 100%|█████████▉| 254/255 [01:20<00:00,  3.15it/s, loss=0.192, v_num=2, train_loss=0.138, train_accuracy=0.944, val_loss=0.198, val_accuracy=0.913]\n",
      "Epoch 92: 100%|██████████| 255/255 [01:21<00:00,  3.15it/s, loss=0.192, v_num=2, train_loss=0.138, train_accuracy=0.944, val_loss=0.233, val_accuracy=0.908]\n",
      "Epoch 92: 100%|██████████| 255/255 [01:21<00:00,  3.15it/s, loss=0.192, v_num=2, train_loss=0.138, train_accuracy=0.944, val_loss=0.233, val_accuracy=0.908]"
     ]
    },
    {
     "name": "stderr",
     "output_type": "stream",
     "text": [
      "Epoch 92, global step 21017: val_loss was not in top 2\n"
     ]
    },
    {
     "name": "stdout",
     "output_type": "stream",
     "text": [
      "Epoch 93:  89%|████████▊ | 226/255 [01:17<00:09,  2.93it/s, loss=0.178, v_num=2, train_loss=0.0663, train_accuracy=1.000, val_loss=0.233, val_accuracy=0.908]\n",
      "Validating: 0it [00:00, ?it/s]\u001b[A\n",
      "Validating:   0%|          | 0/29 [00:00<?, ?it/s]\u001b[A\n",
      "Epoch 93:  89%|████████▉ | 228/255 [01:18<00:09,  2.90it/s, loss=0.178, v_num=2, train_loss=0.0663, train_accuracy=1.000, val_loss=0.233, val_accuracy=0.908]\n",
      "Epoch 93:  90%|█████████ | 230/255 [01:18<00:08,  2.91it/s, loss=0.178, v_num=2, train_loss=0.0663, train_accuracy=1.000, val_loss=0.233, val_accuracy=0.908]\n",
      "Epoch 93:  91%|█████████ | 232/255 [01:19<00:07,  2.93it/s, loss=0.178, v_num=2, train_loss=0.0663, train_accuracy=1.000, val_loss=0.233, val_accuracy=0.908]\n",
      "Epoch 93:  92%|█████████▏| 234/255 [01:19<00:07,  2.95it/s, loss=0.178, v_num=2, train_loss=0.0663, train_accuracy=1.000, val_loss=0.233, val_accuracy=0.908]\n",
      "Epoch 93:  93%|█████████▎| 236/255 [01:19<00:06,  2.97it/s, loss=0.178, v_num=2, train_loss=0.0663, train_accuracy=1.000, val_loss=0.233, val_accuracy=0.908]\n",
      "Epoch 93:  93%|█████████▎| 238/255 [01:19<00:05,  2.99it/s, loss=0.178, v_num=2, train_loss=0.0663, train_accuracy=1.000, val_loss=0.233, val_accuracy=0.908]\n",
      "Epoch 93:  94%|█████████▍| 240/255 [01:19<00:04,  3.01it/s, loss=0.178, v_num=2, train_loss=0.0663, train_accuracy=1.000, val_loss=0.233, val_accuracy=0.908]\n",
      "Epoch 93:  95%|█████████▍| 242/255 [01:19<00:04,  3.03it/s, loss=0.178, v_num=2, train_loss=0.0663, train_accuracy=1.000, val_loss=0.233, val_accuracy=0.908]\n",
      "Epoch 93:  96%|█████████▌| 244/255 [01:20<00:03,  3.05it/s, loss=0.178, v_num=2, train_loss=0.0663, train_accuracy=1.000, val_loss=0.233, val_accuracy=0.908]\n",
      "Epoch 93:  96%|█████████▋| 246/255 [01:20<00:02,  3.07it/s, loss=0.178, v_num=2, train_loss=0.0663, train_accuracy=1.000, val_loss=0.233, val_accuracy=0.908]\n",
      "Epoch 93:  97%|█████████▋| 248/255 [01:20<00:02,  3.09it/s, loss=0.178, v_num=2, train_loss=0.0663, train_accuracy=1.000, val_loss=0.233, val_accuracy=0.908]\n",
      "Epoch 93:  98%|█████████▊| 250/255 [01:20<00:01,  3.11it/s, loss=0.178, v_num=2, train_loss=0.0663, train_accuracy=1.000, val_loss=0.233, val_accuracy=0.908]\n",
      "Epoch 93:  99%|█████████▉| 252/255 [01:20<00:00,  3.13it/s, loss=0.178, v_num=2, train_loss=0.0663, train_accuracy=1.000, val_loss=0.233, val_accuracy=0.908]\n",
      "Epoch 93: 100%|█████████▉| 254/255 [01:20<00:00,  3.14it/s, loss=0.178, v_num=2, train_loss=0.0663, train_accuracy=1.000, val_loss=0.233, val_accuracy=0.908]\n",
      "Epoch 93: 100%|██████████| 255/255 [01:21<00:00,  3.14it/s, loss=0.178, v_num=2, train_loss=0.0663, train_accuracy=1.000, val_loss=0.197, val_accuracy=0.913]\n",
      "Epoch 93: 100%|██████████| 255/255 [01:21<00:00,  3.14it/s, loss=0.178, v_num=2, train_loss=0.0663, train_accuracy=1.000, val_loss=0.197, val_accuracy=0.913]"
     ]
    },
    {
     "name": "stderr",
     "output_type": "stream",
     "text": [
      "Epoch 93, global step 21243: val_loss was not in top 2\n"
     ]
    },
    {
     "name": "stdout",
     "output_type": "stream",
     "text": [
      "Epoch 94:  89%|████████▊ | 226/255 [01:16<00:09,  2.94it/s, loss=0.172, v_num=2, train_loss=0.0909, train_accuracy=0.944, val_loss=0.197, val_accuracy=0.913]\n",
      "Validating: 0it [00:00, ?it/s]\u001b[A\n",
      "Validating:   0%|          | 0/29 [00:00<?, ?it/s]\u001b[A\n",
      "Epoch 94:  89%|████████▉ | 228/255 [01:18<00:09,  2.90it/s, loss=0.172, v_num=2, train_loss=0.0909, train_accuracy=0.944, val_loss=0.197, val_accuracy=0.913]\n",
      "Epoch 94:  90%|█████████ | 230/255 [01:18<00:08,  2.92it/s, loss=0.172, v_num=2, train_loss=0.0909, train_accuracy=0.944, val_loss=0.197, val_accuracy=0.913]\n",
      "Epoch 94:  91%|█████████ | 232/255 [01:18<00:07,  2.94it/s, loss=0.172, v_num=2, train_loss=0.0909, train_accuracy=0.944, val_loss=0.197, val_accuracy=0.913]\n",
      "Epoch 94:  92%|█████████▏| 234/255 [01:19<00:07,  2.96it/s, loss=0.172, v_num=2, train_loss=0.0909, train_accuracy=0.944, val_loss=0.197, val_accuracy=0.913]\n",
      "Epoch 94:  93%|█████████▎| 236/255 [01:19<00:06,  2.98it/s, loss=0.172, v_num=2, train_loss=0.0909, train_accuracy=0.944, val_loss=0.197, val_accuracy=0.913]\n",
      "Epoch 94:  93%|█████████▎| 238/255 [01:19<00:05,  2.99it/s, loss=0.172, v_num=2, train_loss=0.0909, train_accuracy=0.944, val_loss=0.197, val_accuracy=0.913]\n",
      "Epoch 94:  94%|█████████▍| 240/255 [01:19<00:04,  3.01it/s, loss=0.172, v_num=2, train_loss=0.0909, train_accuracy=0.944, val_loss=0.197, val_accuracy=0.913]\n",
      "Epoch 94:  95%|█████████▍| 242/255 [01:19<00:04,  3.03it/s, loss=0.172, v_num=2, train_loss=0.0909, train_accuracy=0.944, val_loss=0.197, val_accuracy=0.913]\n",
      "Epoch 94:  96%|█████████▌| 244/255 [01:19<00:03,  3.05it/s, loss=0.172, v_num=2, train_loss=0.0909, train_accuracy=0.944, val_loss=0.197, val_accuracy=0.913]\n",
      "Epoch 94:  96%|█████████▋| 246/255 [01:20<00:02,  3.07it/s, loss=0.172, v_num=2, train_loss=0.0909, train_accuracy=0.944, val_loss=0.197, val_accuracy=0.913]\n",
      "Epoch 94:  97%|█████████▋| 248/255 [01:20<00:02,  3.09it/s, loss=0.172, v_num=2, train_loss=0.0909, train_accuracy=0.944, val_loss=0.197, val_accuracy=0.913]\n",
      "Epoch 94:  98%|█████████▊| 250/255 [01:20<00:01,  3.11it/s, loss=0.172, v_num=2, train_loss=0.0909, train_accuracy=0.944, val_loss=0.197, val_accuracy=0.913]\n",
      "Epoch 94:  99%|█████████▉| 252/255 [01:20<00:00,  3.13it/s, loss=0.172, v_num=2, train_loss=0.0909, train_accuracy=0.944, val_loss=0.197, val_accuracy=0.913]\n",
      "Epoch 94: 100%|█████████▉| 254/255 [01:20<00:00,  3.15it/s, loss=0.172, v_num=2, train_loss=0.0909, train_accuracy=0.944, val_loss=0.197, val_accuracy=0.913]\n",
      "Epoch 94: 100%|██████████| 255/255 [01:21<00:00,  3.15it/s, loss=0.172, v_num=2, train_loss=0.0909, train_accuracy=0.944, val_loss=0.215, val_accuracy=0.910]\n",
      "Epoch 94: 100%|██████████| 255/255 [01:21<00:00,  3.15it/s, loss=0.172, v_num=2, train_loss=0.0909, train_accuracy=0.944, val_loss=0.215, val_accuracy=0.910]"
     ]
    },
    {
     "name": "stderr",
     "output_type": "stream",
     "text": [
      "Epoch 94, global step 21469: val_loss was not in top 2\n"
     ]
    },
    {
     "name": "stdout",
     "output_type": "stream",
     "text": [
      "Epoch 95:  89%|████████▊ | 226/255 [01:16<00:09,  2.94it/s, loss=0.138, v_num=2, train_loss=0.0493, train_accuracy=0.944, val_loss=0.215, val_accuracy=0.910]\n",
      "Validating: 0it [00:00, ?it/s]\u001b[A\n",
      "Validating:   0%|          | 0/29 [00:00<?, ?it/s]\u001b[A\n",
      "Epoch 95:  89%|████████▉ | 228/255 [01:18<00:09,  2.90it/s, loss=0.138, v_num=2, train_loss=0.0493, train_accuracy=0.944, val_loss=0.215, val_accuracy=0.910]\n",
      "Epoch 95:  90%|█████████ | 230/255 [01:18<00:08,  2.92it/s, loss=0.138, v_num=2, train_loss=0.0493, train_accuracy=0.944, val_loss=0.215, val_accuracy=0.910]\n",
      "Epoch 95:  91%|█████████ | 232/255 [01:18<00:07,  2.94it/s, loss=0.138, v_num=2, train_loss=0.0493, train_accuracy=0.944, val_loss=0.215, val_accuracy=0.910]\n",
      "Epoch 95:  92%|█████████▏| 234/255 [01:19<00:07,  2.96it/s, loss=0.138, v_num=2, train_loss=0.0493, train_accuracy=0.944, val_loss=0.215, val_accuracy=0.910]\n",
      "Epoch 95:  93%|█████████▎| 236/255 [01:19<00:06,  2.98it/s, loss=0.138, v_num=2, train_loss=0.0493, train_accuracy=0.944, val_loss=0.215, val_accuracy=0.910]\n",
      "Epoch 95:  93%|█████████▎| 238/255 [01:19<00:05,  3.00it/s, loss=0.138, v_num=2, train_loss=0.0493, train_accuracy=0.944, val_loss=0.215, val_accuracy=0.910]\n",
      "Epoch 95:  94%|█████████▍| 240/255 [01:19<00:04,  3.02it/s, loss=0.138, v_num=2, train_loss=0.0493, train_accuracy=0.944, val_loss=0.215, val_accuracy=0.910]\n",
      "Epoch 95:  95%|█████████▍| 242/255 [01:19<00:04,  3.04it/s, loss=0.138, v_num=2, train_loss=0.0493, train_accuracy=0.944, val_loss=0.215, val_accuracy=0.910]\n",
      "Epoch 95:  96%|█████████▌| 244/255 [01:19<00:03,  3.06it/s, loss=0.138, v_num=2, train_loss=0.0493, train_accuracy=0.944, val_loss=0.215, val_accuracy=0.910]\n",
      "Epoch 95:  96%|█████████▋| 246/255 [01:19<00:02,  3.08it/s, loss=0.138, v_num=2, train_loss=0.0493, train_accuracy=0.944, val_loss=0.215, val_accuracy=0.910]\n",
      "Epoch 95:  97%|█████████▋| 248/255 [01:20<00:02,  3.10it/s, loss=0.138, v_num=2, train_loss=0.0493, train_accuracy=0.944, val_loss=0.215, val_accuracy=0.910]\n",
      "Epoch 95:  98%|█████████▊| 250/255 [01:20<00:01,  3.11it/s, loss=0.138, v_num=2, train_loss=0.0493, train_accuracy=0.944, val_loss=0.215, val_accuracy=0.910]\n",
      "Epoch 95:  99%|█████████▉| 252/255 [01:20<00:00,  3.13it/s, loss=0.138, v_num=2, train_loss=0.0493, train_accuracy=0.944, val_loss=0.215, val_accuracy=0.910]\n",
      "Epoch 95: 100%|█████████▉| 254/255 [01:20<00:00,  3.15it/s, loss=0.138, v_num=2, train_loss=0.0493, train_accuracy=0.944, val_loss=0.215, val_accuracy=0.910]\n",
      "Epoch 95: 100%|██████████| 255/255 [01:20<00:00,  3.15it/s, loss=0.138, v_num=2, train_loss=0.0493, train_accuracy=0.944, val_loss=0.197, val_accuracy=0.907]\n",
      "Epoch 95: 100%|██████████| 255/255 [01:20<00:00,  3.15it/s, loss=0.138, v_num=2, train_loss=0.0493, train_accuracy=0.944, val_loss=0.197, val_accuracy=0.907]"
     ]
    },
    {
     "name": "stderr",
     "output_type": "stream",
     "text": [
      "Epoch 95, global step 21695: val_loss was not in top 2\n"
     ]
    },
    {
     "name": "stdout",
     "output_type": "stream",
     "text": [
      "Epoch 96:  89%|████████▊ | 226/255 [01:16<00:09,  2.94it/s, loss=0.179, v_num=2, train_loss=0.210, train_accuracy=0.889, val_loss=0.197, val_accuracy=0.907] \n",
      "Validating: 0it [00:00, ?it/s]\u001b[A\n",
      "Validating:   0%|          | 0/29 [00:00<?, ?it/s]\u001b[A\n",
      "Epoch 96:  89%|████████▉ | 228/255 [01:18<00:09,  2.90it/s, loss=0.179, v_num=2, train_loss=0.210, train_accuracy=0.889, val_loss=0.197, val_accuracy=0.907]\n",
      "Epoch 96:  90%|█████████ | 230/255 [01:18<00:08,  2.92it/s, loss=0.179, v_num=2, train_loss=0.210, train_accuracy=0.889, val_loss=0.197, val_accuracy=0.907]\n",
      "Epoch 96:  91%|█████████ | 232/255 [01:18<00:07,  2.94it/s, loss=0.179, v_num=2, train_loss=0.210, train_accuracy=0.889, val_loss=0.197, val_accuracy=0.907]\n",
      "Epoch 96:  92%|█████████▏| 234/255 [01:19<00:07,  2.96it/s, loss=0.179, v_num=2, train_loss=0.210, train_accuracy=0.889, val_loss=0.197, val_accuracy=0.907]\n",
      "Epoch 96:  93%|█████████▎| 236/255 [01:19<00:06,  2.98it/s, loss=0.179, v_num=2, train_loss=0.210, train_accuracy=0.889, val_loss=0.197, val_accuracy=0.907]\n",
      "Epoch 96:  93%|█████████▎| 238/255 [01:19<00:05,  3.00it/s, loss=0.179, v_num=2, train_loss=0.210, train_accuracy=0.889, val_loss=0.197, val_accuracy=0.907]\n",
      "Epoch 96:  94%|█████████▍| 240/255 [01:19<00:04,  3.02it/s, loss=0.179, v_num=2, train_loss=0.210, train_accuracy=0.889, val_loss=0.197, val_accuracy=0.907]\n",
      "Epoch 96:  95%|█████████▍| 242/255 [01:19<00:04,  3.04it/s, loss=0.179, v_num=2, train_loss=0.210, train_accuracy=0.889, val_loss=0.197, val_accuracy=0.907]\n",
      "Epoch 96:  96%|█████████▌| 244/255 [01:19<00:03,  3.06it/s, loss=0.179, v_num=2, train_loss=0.210, train_accuracy=0.889, val_loss=0.197, val_accuracy=0.907]\n",
      "Epoch 96:  96%|█████████▋| 246/255 [01:19<00:02,  3.08it/s, loss=0.179, v_num=2, train_loss=0.210, train_accuracy=0.889, val_loss=0.197, val_accuracy=0.907]\n",
      "Epoch 96:  97%|█████████▋| 248/255 [01:20<00:02,  3.10it/s, loss=0.179, v_num=2, train_loss=0.210, train_accuracy=0.889, val_loss=0.197, val_accuracy=0.907]\n",
      "Epoch 96:  98%|█████████▊| 250/255 [01:20<00:01,  3.11it/s, loss=0.179, v_num=2, train_loss=0.210, train_accuracy=0.889, val_loss=0.197, val_accuracy=0.907]\n",
      "Epoch 96:  99%|█████████▉| 252/255 [01:20<00:00,  3.13it/s, loss=0.179, v_num=2, train_loss=0.210, train_accuracy=0.889, val_loss=0.197, val_accuracy=0.907]\n",
      "Epoch 96: 100%|█████████▉| 254/255 [01:20<00:00,  3.15it/s, loss=0.179, v_num=2, train_loss=0.210, train_accuracy=0.889, val_loss=0.197, val_accuracy=0.907]\n",
      "Epoch 96: 100%|██████████| 255/255 [01:20<00:00,  3.15it/s, loss=0.179, v_num=2, train_loss=0.210, train_accuracy=0.889, val_loss=0.252, val_accuracy=0.885]\n",
      "Epoch 96: 100%|██████████| 255/255 [01:20<00:00,  3.15it/s, loss=0.179, v_num=2, train_loss=0.210, train_accuracy=0.889, val_loss=0.252, val_accuracy=0.885]"
     ]
    },
    {
     "name": "stderr",
     "output_type": "stream",
     "text": [
      "Epoch 96, global step 21921: val_loss was not in top 2\n"
     ]
    },
    {
     "name": "stdout",
     "output_type": "stream",
     "text": [
      "Epoch 97:  89%|████████▊ | 226/255 [01:16<00:09,  2.94it/s, loss=0.165, v_num=2, train_loss=0.0954, train_accuracy=0.944, val_loss=0.252, val_accuracy=0.885]\n",
      "Validating: 0it [00:00, ?it/s]\u001b[A\n",
      "Validating:   0%|          | 0/29 [00:00<?, ?it/s]\u001b[A\n",
      "Epoch 97:  89%|████████▉ | 228/255 [01:18<00:09,  2.90it/s, loss=0.165, v_num=2, train_loss=0.0954, train_accuracy=0.944, val_loss=0.252, val_accuracy=0.885]\n",
      "Epoch 97:  90%|█████████ | 230/255 [01:18<00:08,  2.92it/s, loss=0.165, v_num=2, train_loss=0.0954, train_accuracy=0.944, val_loss=0.252, val_accuracy=0.885]\n",
      "Epoch 97:  91%|█████████ | 232/255 [01:18<00:07,  2.94it/s, loss=0.165, v_num=2, train_loss=0.0954, train_accuracy=0.944, val_loss=0.252, val_accuracy=0.885]\n",
      "Epoch 97:  92%|█████████▏| 234/255 [01:19<00:07,  2.96it/s, loss=0.165, v_num=2, train_loss=0.0954, train_accuracy=0.944, val_loss=0.252, val_accuracy=0.885]\n",
      "Epoch 97:  93%|█████████▎| 236/255 [01:19<00:06,  2.98it/s, loss=0.165, v_num=2, train_loss=0.0954, train_accuracy=0.944, val_loss=0.252, val_accuracy=0.885]\n",
      "Epoch 97:  93%|█████████▎| 238/255 [01:19<00:05,  3.00it/s, loss=0.165, v_num=2, train_loss=0.0954, train_accuracy=0.944, val_loss=0.252, val_accuracy=0.885]\n",
      "Epoch 97:  94%|█████████▍| 240/255 [01:19<00:04,  3.02it/s, loss=0.165, v_num=2, train_loss=0.0954, train_accuracy=0.944, val_loss=0.252, val_accuracy=0.885]\n",
      "Epoch 97:  95%|█████████▍| 242/255 [01:19<00:04,  3.04it/s, loss=0.165, v_num=2, train_loss=0.0954, train_accuracy=0.944, val_loss=0.252, val_accuracy=0.885]\n",
      "Epoch 97:  96%|█████████▌| 244/255 [01:19<00:03,  3.06it/s, loss=0.165, v_num=2, train_loss=0.0954, train_accuracy=0.944, val_loss=0.252, val_accuracy=0.885]\n",
      "Epoch 97:  96%|█████████▋| 246/255 [01:19<00:02,  3.08it/s, loss=0.165, v_num=2, train_loss=0.0954, train_accuracy=0.944, val_loss=0.252, val_accuracy=0.885]\n",
      "Epoch 97:  97%|█████████▋| 248/255 [01:20<00:02,  3.10it/s, loss=0.165, v_num=2, train_loss=0.0954, train_accuracy=0.944, val_loss=0.252, val_accuracy=0.885]\n",
      "Epoch 97:  98%|█████████▊| 250/255 [01:20<00:01,  3.12it/s, loss=0.165, v_num=2, train_loss=0.0954, train_accuracy=0.944, val_loss=0.252, val_accuracy=0.885]\n",
      "Epoch 97:  99%|█████████▉| 252/255 [01:20<00:00,  3.13it/s, loss=0.165, v_num=2, train_loss=0.0954, train_accuracy=0.944, val_loss=0.252, val_accuracy=0.885]\n",
      "Epoch 97: 100%|█████████▉| 254/255 [01:20<00:00,  3.15it/s, loss=0.165, v_num=2, train_loss=0.0954, train_accuracy=0.944, val_loss=0.252, val_accuracy=0.885]\n",
      "Epoch 97: 100%|██████████| 255/255 [01:20<00:00,  3.15it/s, loss=0.165, v_num=2, train_loss=0.0954, train_accuracy=0.944, val_loss=0.197, val_accuracy=0.908]\n",
      "Epoch 97: 100%|██████████| 255/255 [01:20<00:00,  3.15it/s, loss=0.165, v_num=2, train_loss=0.0954, train_accuracy=0.944, val_loss=0.197, val_accuracy=0.908]"
     ]
    },
    {
     "name": "stderr",
     "output_type": "stream",
     "text": [
      "Epoch 97, global step 22147: val_loss was not in top 2\n"
     ]
    },
    {
     "name": "stdout",
     "output_type": "stream",
     "text": [
      "Epoch 98:  89%|████████▊ | 226/255 [01:16<00:09,  2.94it/s, loss=0.148, v_num=2, train_loss=0.180, train_accuracy=0.833, val_loss=0.197, val_accuracy=0.908] \n",
      "Validating: 0it [00:00, ?it/s]\u001b[A\n",
      "Validating:   0%|          | 0/29 [00:00<?, ?it/s]\u001b[A\n",
      "Epoch 98:  89%|████████▉ | 228/255 [01:18<00:09,  2.90it/s, loss=0.148, v_num=2, train_loss=0.180, train_accuracy=0.833, val_loss=0.197, val_accuracy=0.908]\n",
      "Epoch 98:  90%|█████████ | 230/255 [01:18<00:08,  2.92it/s, loss=0.148, v_num=2, train_loss=0.180, train_accuracy=0.833, val_loss=0.197, val_accuracy=0.908]\n",
      "Epoch 98:  91%|█████████ | 232/255 [01:18<00:07,  2.94it/s, loss=0.148, v_num=2, train_loss=0.180, train_accuracy=0.833, val_loss=0.197, val_accuracy=0.908]\n",
      "Epoch 98:  92%|█████████▏| 234/255 [01:19<00:07,  2.96it/s, loss=0.148, v_num=2, train_loss=0.180, train_accuracy=0.833, val_loss=0.197, val_accuracy=0.908]\n",
      "Epoch 98:  93%|█████████▎| 236/255 [01:19<00:06,  2.98it/s, loss=0.148, v_num=2, train_loss=0.180, train_accuracy=0.833, val_loss=0.197, val_accuracy=0.908]\n",
      "Epoch 98:  93%|█████████▎| 238/255 [01:19<00:05,  3.00it/s, loss=0.148, v_num=2, train_loss=0.180, train_accuracy=0.833, val_loss=0.197, val_accuracy=0.908]\n",
      "Epoch 98:  94%|█████████▍| 240/255 [01:19<00:04,  3.02it/s, loss=0.148, v_num=2, train_loss=0.180, train_accuracy=0.833, val_loss=0.197, val_accuracy=0.908]\n",
      "Epoch 98:  95%|█████████▍| 242/255 [01:19<00:04,  3.04it/s, loss=0.148, v_num=2, train_loss=0.180, train_accuracy=0.833, val_loss=0.197, val_accuracy=0.908]\n",
      "Epoch 98:  96%|█████████▌| 244/255 [01:19<00:03,  3.06it/s, loss=0.148, v_num=2, train_loss=0.180, train_accuracy=0.833, val_loss=0.197, val_accuracy=0.908]\n",
      "Epoch 98:  96%|█████████▋| 246/255 [01:20<00:02,  3.07it/s, loss=0.148, v_num=2, train_loss=0.180, train_accuracy=0.833, val_loss=0.197, val_accuracy=0.908]\n",
      "Epoch 98:  97%|█████████▋| 248/255 [01:20<00:02,  3.09it/s, loss=0.148, v_num=2, train_loss=0.180, train_accuracy=0.833, val_loss=0.197, val_accuracy=0.908]\n",
      "Epoch 98:  98%|█████████▊| 250/255 [01:20<00:01,  3.11it/s, loss=0.148, v_num=2, train_loss=0.180, train_accuracy=0.833, val_loss=0.197, val_accuracy=0.908]\n",
      "Epoch 98:  99%|█████████▉| 252/255 [01:20<00:00,  3.13it/s, loss=0.148, v_num=2, train_loss=0.180, train_accuracy=0.833, val_loss=0.197, val_accuracy=0.908]\n",
      "Epoch 98: 100%|█████████▉| 254/255 [01:20<00:00,  3.15it/s, loss=0.148, v_num=2, train_loss=0.180, train_accuracy=0.833, val_loss=0.197, val_accuracy=0.908]\n",
      "Epoch 98: 100%|██████████| 255/255 [01:20<00:00,  3.15it/s, loss=0.148, v_num=2, train_loss=0.180, train_accuracy=0.833, val_loss=0.200, val_accuracy=0.917]\n",
      "Epoch 98: 100%|██████████| 255/255 [01:20<00:00,  3.15it/s, loss=0.148, v_num=2, train_loss=0.180, train_accuracy=0.833, val_loss=0.200, val_accuracy=0.917]"
     ]
    },
    {
     "name": "stderr",
     "output_type": "stream",
     "text": [
      "Epoch 98, global step 22373: val_loss was not in top 2\n"
     ]
    },
    {
     "name": "stdout",
     "output_type": "stream",
     "text": [
      "Epoch 99:  89%|████████▊ | 226/255 [01:16<00:09,  2.94it/s, loss=0.169, v_num=2, train_loss=0.125, train_accuracy=0.944, val_loss=0.200, val_accuracy=0.917] \n",
      "Validating: 0it [00:00, ?it/s]\u001b[A\n",
      "Validating:   0%|          | 0/29 [00:00<?, ?it/s]\u001b[A\n",
      "Epoch 99:  89%|████████▉ | 228/255 [01:18<00:09,  2.90it/s, loss=0.169, v_num=2, train_loss=0.125, train_accuracy=0.944, val_loss=0.200, val_accuracy=0.917]\n",
      "Epoch 99:  90%|█████████ | 230/255 [01:18<00:08,  2.92it/s, loss=0.169, v_num=2, train_loss=0.125, train_accuracy=0.944, val_loss=0.200, val_accuracy=0.917]\n",
      "Epoch 99:  91%|█████████ | 232/255 [01:18<00:07,  2.94it/s, loss=0.169, v_num=2, train_loss=0.125, train_accuracy=0.944, val_loss=0.200, val_accuracy=0.917]\n",
      "Epoch 99:  92%|█████████▏| 234/255 [01:19<00:07,  2.96it/s, loss=0.169, v_num=2, train_loss=0.125, train_accuracy=0.944, val_loss=0.200, val_accuracy=0.917]\n",
      "Epoch 99:  93%|█████████▎| 236/255 [01:19<00:06,  2.98it/s, loss=0.169, v_num=2, train_loss=0.125, train_accuracy=0.944, val_loss=0.200, val_accuracy=0.917]\n",
      "Epoch 99:  93%|█████████▎| 238/255 [01:19<00:05,  3.00it/s, loss=0.169, v_num=2, train_loss=0.125, train_accuracy=0.944, val_loss=0.200, val_accuracy=0.917]\n",
      "Epoch 99:  94%|█████████▍| 240/255 [01:19<00:04,  3.02it/s, loss=0.169, v_num=2, train_loss=0.125, train_accuracy=0.944, val_loss=0.200, val_accuracy=0.917]\n",
      "Epoch 99:  95%|█████████▍| 242/255 [01:19<00:04,  3.03it/s, loss=0.169, v_num=2, train_loss=0.125, train_accuracy=0.944, val_loss=0.200, val_accuracy=0.917]\n",
      "Epoch 99:  96%|█████████▌| 244/255 [01:19<00:03,  3.05it/s, loss=0.169, v_num=2, train_loss=0.125, train_accuracy=0.944, val_loss=0.200, val_accuracy=0.917]\n",
      "Epoch 99:  96%|█████████▋| 246/255 [01:20<00:02,  3.07it/s, loss=0.169, v_num=2, train_loss=0.125, train_accuracy=0.944, val_loss=0.200, val_accuracy=0.917]\n",
      "Epoch 99:  97%|█████████▋| 248/255 [01:20<00:02,  3.09it/s, loss=0.169, v_num=2, train_loss=0.125, train_accuracy=0.944, val_loss=0.200, val_accuracy=0.917]\n",
      "Epoch 99:  98%|█████████▊| 250/255 [01:20<00:01,  3.11it/s, loss=0.169, v_num=2, train_loss=0.125, train_accuracy=0.944, val_loss=0.200, val_accuracy=0.917]\n",
      "Epoch 99:  99%|█████████▉| 252/255 [01:20<00:00,  3.13it/s, loss=0.169, v_num=2, train_loss=0.125, train_accuracy=0.944, val_loss=0.200, val_accuracy=0.917]\n",
      "Epoch 99: 100%|█████████▉| 254/255 [01:20<00:00,  3.15it/s, loss=0.169, v_num=2, train_loss=0.125, train_accuracy=0.944, val_loss=0.200, val_accuracy=0.917]\n",
      "Epoch 99: 100%|██████████| 255/255 [01:20<00:00,  3.15it/s, loss=0.169, v_num=2, train_loss=0.125, train_accuracy=0.944, val_loss=0.188, val_accuracy=0.913]\n",
      "Epoch 99: 100%|██████████| 255/255 [01:21<00:00,  3.15it/s, loss=0.169, v_num=2, train_loss=0.125, train_accuracy=0.944, val_loss=0.188, val_accuracy=0.913]"
     ]
    },
    {
     "name": "stderr",
     "output_type": "stream",
     "text": [
      "Epoch 99, global step 22599: val_loss reached 0.18795 (best 0.18795), saving model to \"/Workspace/code/checkpoints/best-checkpoint-corr-mi-27-v2.ckpt\" as top 2\n"
     ]
    },
    {
     "name": "stdout",
     "output_type": "stream",
     "text": [
      "Epoch 100:  89%|████████▊ | 226/255 [01:16<00:09,  2.94it/s, loss=0.127, v_num=2, train_loss=0.0852, train_accuracy=0.944, val_loss=0.188, val_accuracy=0.913]\n",
      "Validating: 0it [00:00, ?it/s]\u001b[A\n",
      "Validating:   0%|          | 0/29 [00:00<?, ?it/s]\u001b[A\n",
      "Epoch 100:  89%|████████▉ | 228/255 [01:18<00:09,  2.90it/s, loss=0.127, v_num=2, train_loss=0.0852, train_accuracy=0.944, val_loss=0.188, val_accuracy=0.913]\n",
      "Epoch 100:  90%|█████████ | 230/255 [01:18<00:08,  2.92it/s, loss=0.127, v_num=2, train_loss=0.0852, train_accuracy=0.944, val_loss=0.188, val_accuracy=0.913]\n",
      "Epoch 100:  91%|█████████ | 232/255 [01:18<00:07,  2.94it/s, loss=0.127, v_num=2, train_loss=0.0852, train_accuracy=0.944, val_loss=0.188, val_accuracy=0.913]\n",
      "Epoch 100:  92%|█████████▏| 234/255 [01:19<00:07,  2.96it/s, loss=0.127, v_num=2, train_loss=0.0852, train_accuracy=0.944, val_loss=0.188, val_accuracy=0.913]\n",
      "Epoch 100:  93%|█████████▎| 236/255 [01:19<00:06,  2.98it/s, loss=0.127, v_num=2, train_loss=0.0852, train_accuracy=0.944, val_loss=0.188, val_accuracy=0.913]\n",
      "Epoch 100:  93%|█████████▎| 238/255 [01:19<00:05,  3.00it/s, loss=0.127, v_num=2, train_loss=0.0852, train_accuracy=0.944, val_loss=0.188, val_accuracy=0.913]\n",
      "Epoch 100:  94%|█████████▍| 240/255 [01:19<00:04,  3.02it/s, loss=0.127, v_num=2, train_loss=0.0852, train_accuracy=0.944, val_loss=0.188, val_accuracy=0.913]\n",
      "Epoch 100:  95%|█████████▍| 242/255 [01:19<00:04,  3.04it/s, loss=0.127, v_num=2, train_loss=0.0852, train_accuracy=0.944, val_loss=0.188, val_accuracy=0.913]\n",
      "Epoch 100:  96%|█████████▌| 244/255 [01:19<00:03,  3.05it/s, loss=0.127, v_num=2, train_loss=0.0852, train_accuracy=0.944, val_loss=0.188, val_accuracy=0.913]\n",
      "Epoch 100:  96%|█████████▋| 246/255 [01:20<00:02,  3.07it/s, loss=0.127, v_num=2, train_loss=0.0852, train_accuracy=0.944, val_loss=0.188, val_accuracy=0.913]\n",
      "Epoch 100:  97%|█████████▋| 248/255 [01:20<00:02,  3.09it/s, loss=0.127, v_num=2, train_loss=0.0852, train_accuracy=0.944, val_loss=0.188, val_accuracy=0.913]\n",
      "Epoch 100:  98%|█████████▊| 250/255 [01:20<00:01,  3.11it/s, loss=0.127, v_num=2, train_loss=0.0852, train_accuracy=0.944, val_loss=0.188, val_accuracy=0.913]\n",
      "Epoch 100:  99%|█████████▉| 252/255 [01:20<00:00,  3.13it/s, loss=0.127, v_num=2, train_loss=0.0852, train_accuracy=0.944, val_loss=0.188, val_accuracy=0.913]\n",
      "Epoch 100: 100%|█████████▉| 254/255 [01:20<00:00,  3.15it/s, loss=0.127, v_num=2, train_loss=0.0852, train_accuracy=0.944, val_loss=0.188, val_accuracy=0.913]\n",
      "Epoch 100: 100%|██████████| 255/255 [01:20<00:00,  3.15it/s, loss=0.127, v_num=2, train_loss=0.0852, train_accuracy=0.944, val_loss=0.163, val_accuracy=0.916]\n",
      "Epoch 100: 100%|██████████| 255/255 [01:21<00:00,  3.15it/s, loss=0.127, v_num=2, train_loss=0.0852, train_accuracy=0.944, val_loss=0.163, val_accuracy=0.916]"
     ]
    },
    {
     "name": "stderr",
     "output_type": "stream",
     "text": [
      "Epoch 100, global step 22825: val_loss reached 0.16257 (best 0.16257), saving model to \"/Workspace/code/checkpoints/best-checkpoint-corr-mi-27-v3.ckpt\" as top 2\n"
     ]
    },
    {
     "name": "stdout",
     "output_type": "stream",
     "text": [
      "Epoch 101:  89%|████████▊ | 226/255 [02:05<00:16,  1.79it/s, loss=0.135, v_num=2, train_loss=0.164, train_accuracy=0.889, val_loss=0.163, val_accuracy=0.916] \n",
      "Validating: 0it [00:00, ?it/s]\u001b[A\n",
      "Validating:   0%|          | 0/29 [00:00<?, ?it/s]\u001b[A\n",
      "Epoch 101:  89%|████████▉ | 228/255 [02:07<00:15,  1.79it/s, loss=0.135, v_num=2, train_loss=0.164, train_accuracy=0.889, val_loss=0.163, val_accuracy=0.916]\n",
      "Validating:   7%|▋         | 2/29 [00:01<00:23,  1.17it/s]\u001b[A\n",
      "Epoch 101:  90%|█████████ | 230/255 [02:08<00:13,  1.80it/s, loss=0.135, v_num=2, train_loss=0.164, train_accuracy=0.889, val_loss=0.163, val_accuracy=0.916]\n",
      "Validating:  14%|█▍        | 4/29 [00:02<00:10,  2.42it/s]\u001b[A\n",
      "Epoch 101:  91%|█████████ | 232/255 [02:08<00:12,  1.81it/s, loss=0.135, v_num=2, train_loss=0.164, train_accuracy=0.889, val_loss=0.163, val_accuracy=0.916]\n",
      "Validating:  21%|██        | 6/29 [00:02<00:06,  3.45it/s]\u001b[A\n",
      "Epoch 101:  92%|█████████▏| 234/255 [02:08<00:11,  1.82it/s, loss=0.135, v_num=2, train_loss=0.164, train_accuracy=0.889, val_loss=0.163, val_accuracy=0.916]\n",
      "Validating:  28%|██▊       | 8/29 [00:03<00:04,  4.26it/s]\u001b[A\n",
      "Epoch 101:  93%|█████████▎| 236/255 [02:09<00:10,  1.83it/s, loss=0.135, v_num=2, train_loss=0.164, train_accuracy=0.889, val_loss=0.163, val_accuracy=0.916]\n",
      "Validating:  34%|███▍      | 10/29 [00:03<00:03,  4.79it/s]\u001b[A\n",
      "Epoch 101:  93%|█████████▎| 238/255 [02:09<00:09,  1.84it/s, loss=0.135, v_num=2, train_loss=0.164, train_accuracy=0.889, val_loss=0.163, val_accuracy=0.916]\n",
      "Validating:  41%|████▏     | 12/29 [00:03<00:03,  5.11it/s]\u001b[A\n",
      "Epoch 101:  94%|█████████▍| 240/255 [02:10<00:08,  1.85it/s, loss=0.135, v_num=2, train_loss=0.164, train_accuracy=0.889, val_loss=0.163, val_accuracy=0.916]\n",
      "Validating:  48%|████▊     | 14/29 [00:04<00:02,  5.25it/s]\u001b[A\n",
      "Epoch 101:  95%|█████████▍| 242/255 [02:10<00:07,  1.86it/s, loss=0.135, v_num=2, train_loss=0.164, train_accuracy=0.889, val_loss=0.163, val_accuracy=0.916]\n",
      "Validating:  55%|█████▌    | 16/29 [00:04<00:02,  5.35it/s]\u001b[A\n",
      "Epoch 101:  96%|█████████▌| 244/255 [02:10<00:05,  1.87it/s, loss=0.135, v_num=2, train_loss=0.164, train_accuracy=0.889, val_loss=0.163, val_accuracy=0.916]\n",
      "Validating:  62%|██████▏   | 18/29 [00:05<00:02,  5.34it/s]\u001b[A\n",
      "Epoch 101:  96%|█████████▋| 246/255 [02:11<00:04,  1.88it/s, loss=0.135, v_num=2, train_loss=0.164, train_accuracy=0.889, val_loss=0.163, val_accuracy=0.916]\n",
      "Validating:  69%|██████▉   | 20/29 [00:05<00:01,  5.40it/s]\u001b[A\n",
      "Epoch 101:  97%|█████████▋| 248/255 [02:11<00:03,  1.89it/s, loss=0.135, v_num=2, train_loss=0.164, train_accuracy=0.889, val_loss=0.163, val_accuracy=0.916]\n",
      "Validating:  76%|███████▌  | 22/29 [00:05<00:01,  5.33it/s]\u001b[A\n",
      "Epoch 101:  98%|█████████▊| 250/255 [02:11<00:02,  1.90it/s, loss=0.135, v_num=2, train_loss=0.164, train_accuracy=0.889, val_loss=0.163, val_accuracy=0.916]\n",
      "Validating:  83%|████████▎ | 24/29 [00:06<00:00,  5.33it/s]\u001b[A\n",
      "Epoch 101:  99%|█████████▉| 252/255 [02:12<00:01,  1.91it/s, loss=0.135, v_num=2, train_loss=0.164, train_accuracy=0.889, val_loss=0.163, val_accuracy=0.916]\n",
      "Validating:  90%|████████▉ | 26/29 [00:06<00:00,  5.40it/s]\u001b[A\n",
      "Epoch 101: 100%|█████████▉| 254/255 [02:12<00:00,  1.92it/s, loss=0.135, v_num=2, train_loss=0.164, train_accuracy=0.889, val_loss=0.163, val_accuracy=0.916]\n",
      "Validating:  97%|█████████▋| 28/29 [00:06<00:00,  5.40it/s]\u001b[A\n",
      "Epoch 101: 100%|██████████| 255/255 [02:13<00:00,  1.91it/s, loss=0.135, v_num=2, train_loss=0.164, train_accuracy=0.889, val_loss=0.170, val_accuracy=0.913]\n",
      "Epoch 101: 100%|██████████| 255/255 [02:13<00:00,  1.91it/s, loss=0.135, v_num=2, train_loss=0.164, train_accuracy=0.889, val_loss=0.170, val_accuracy=0.913]"
     ]
    },
    {
     "name": "stderr",
     "output_type": "stream",
     "text": [
      "Epoch 101, global step 23051: val_loss reached 0.17023 (best 0.16257), saving model to \"/Workspace/code/checkpoints/best-checkpoint-corr-mi-27-v2.ckpt\" as top 2\n"
     ]
    },
    {
     "name": "stdout",
     "output_type": "stream",
     "text": [
      "Epoch 102:  89%|████████▊ | 226/255 [02:41<00:20,  1.40it/s, loss=0.135, v_num=2, train_loss=0.078, train_accuracy=0.944, val_loss=0.170, val_accuracy=0.913] \n",
      "Validating: 0it [00:00, ?it/s]\u001b[A\n",
      "Validating:   0%|          | 0/29 [00:00<?, ?it/s]\u001b[A\n",
      "Epoch 102:  89%|████████▉ | 228/255 [02:43<00:19,  1.40it/s, loss=0.135, v_num=2, train_loss=0.078, train_accuracy=0.944, val_loss=0.170, val_accuracy=0.913]\n",
      "Validating:   7%|▋         | 2/29 [00:01<00:22,  1.18it/s]\u001b[A\n",
      "Epoch 102:  90%|█████████ | 230/255 [02:43<00:17,  1.40it/s, loss=0.135, v_num=2, train_loss=0.078, train_accuracy=0.944, val_loss=0.170, val_accuracy=0.913]\n",
      "Validating:  14%|█▍        | 4/29 [00:02<00:10,  2.40it/s]\u001b[A\n",
      "Epoch 102:  91%|█████████ | 232/255 [02:44<00:16,  1.41it/s, loss=0.135, v_num=2, train_loss=0.078, train_accuracy=0.944, val_loss=0.170, val_accuracy=0.913]\n",
      "Validating:  21%|██        | 6/29 [00:02<00:06,  3.50it/s]\u001b[A\n",
      "Epoch 102:  92%|█████████▏| 234/255 [02:44<00:14,  1.42it/s, loss=0.135, v_num=2, train_loss=0.078, train_accuracy=0.944, val_loss=0.170, val_accuracy=0.913]\n",
      "Validating:  28%|██▊       | 8/29 [00:03<00:04,  4.24it/s]\u001b[A\n",
      "Epoch 102:  93%|█████████▎| 236/255 [02:44<00:13,  1.43it/s, loss=0.135, v_num=2, train_loss=0.078, train_accuracy=0.944, val_loss=0.170, val_accuracy=0.913]\n",
      "Validating:  34%|███▍      | 10/29 [00:03<00:03,  4.81it/s]\u001b[A\n",
      "Epoch 102:  93%|█████████▎| 238/255 [02:45<00:11,  1.44it/s, loss=0.135, v_num=2, train_loss=0.078, train_accuracy=0.944, val_loss=0.170, val_accuracy=0.913]\n",
      "Validating:  41%|████▏     | 12/29 [00:03<00:03,  5.07it/s]\u001b[A\n",
      "Epoch 102:  94%|█████████▍| 240/255 [02:45<00:10,  1.45it/s, loss=0.135, v_num=2, train_loss=0.078, train_accuracy=0.944, val_loss=0.170, val_accuracy=0.913]\n",
      "Validating:  48%|████▊     | 14/29 [00:04<00:02,  5.24it/s]\u001b[A\n",
      "Epoch 102:  95%|█████████▍| 242/255 [02:46<00:08,  1.46it/s, loss=0.135, v_num=2, train_loss=0.078, train_accuracy=0.944, val_loss=0.170, val_accuracy=0.913]\n",
      "Validating:  55%|█████▌    | 16/29 [00:04<00:02,  5.32it/s]\u001b[A\n",
      "Epoch 102:  96%|█████████▌| 244/255 [02:46<00:07,  1.47it/s, loss=0.135, v_num=2, train_loss=0.078, train_accuracy=0.944, val_loss=0.170, val_accuracy=0.913]\n",
      "Validating:  62%|██████▏   | 18/29 [00:04<00:02,  5.40it/s]\u001b[A\n",
      "Epoch 102:  96%|█████████▋| 246/255 [02:46<00:06,  1.47it/s, loss=0.135, v_num=2, train_loss=0.078, train_accuracy=0.944, val_loss=0.170, val_accuracy=0.913]\n",
      "Validating:  69%|██████▉   | 20/29 [00:05<00:01,  5.43it/s]\u001b[A\n",
      "Epoch 102:  97%|█████████▋| 248/255 [02:47<00:04,  1.48it/s, loss=0.135, v_num=2, train_loss=0.078, train_accuracy=0.944, val_loss=0.170, val_accuracy=0.913]\n",
      "Validating:  76%|███████▌  | 22/29 [00:05<00:01,  5.46it/s]\u001b[A\n",
      "Epoch 102:  98%|█████████▊| 250/255 [02:47<00:03,  1.49it/s, loss=0.135, v_num=2, train_loss=0.078, train_accuracy=0.944, val_loss=0.170, val_accuracy=0.913]\n",
      "Validating:  83%|████████▎ | 24/29 [00:06<00:00,  5.42it/s]\u001b[A\n",
      "Epoch 102:  99%|█████████▉| 252/255 [02:47<00:01,  1.50it/s, loss=0.135, v_num=2, train_loss=0.078, train_accuracy=0.944, val_loss=0.170, val_accuracy=0.913]\n",
      "Validating:  90%|████████▉ | 26/29 [00:06<00:00,  5.42it/s]\u001b[A\n",
      "Epoch 102: 100%|█████████▉| 254/255 [02:48<00:00,  1.51it/s, loss=0.135, v_num=2, train_loss=0.078, train_accuracy=0.944, val_loss=0.170, val_accuracy=0.913]\n",
      "Validating:  97%|█████████▋| 28/29 [00:06<00:00,  5.41it/s]\u001b[A\n",
      "Epoch 102: 100%|██████████| 255/255 [02:48<00:00,  1.51it/s, loss=0.135, v_num=2, train_loss=0.078, train_accuracy=0.944, val_loss=0.168, val_accuracy=0.919]\n",
      "Epoch 102: 100%|██████████| 255/255 [02:48<00:00,  1.51it/s, loss=0.135, v_num=2, train_loss=0.078, train_accuracy=0.944, val_loss=0.168, val_accuracy=0.919]"
     ]
    },
    {
     "name": "stderr",
     "output_type": "stream",
     "text": [
      "Epoch 102, global step 23277: val_loss reached 0.16773 (best 0.16257), saving model to \"/Workspace/code/checkpoints/best-checkpoint-corr-mi-27-v2.ckpt\" as top 2\n"
     ]
    },
    {
     "name": "stdout",
     "output_type": "stream",
     "text": [
      "Epoch 103:  89%|████████▊ | 226/255 [02:41<00:20,  1.40it/s, loss=0.134, v_num=2, train_loss=0.371, train_accuracy=0.778, val_loss=0.168, val_accuracy=0.919] \n",
      "Validating: 0it [00:00, ?it/s]\u001b[A\n",
      "Validating:   0%|          | 0/29 [00:00<?, ?it/s]\u001b[A\n",
      "Epoch 103:  89%|████████▉ | 228/255 [02:43<00:19,  1.40it/s, loss=0.134, v_num=2, train_loss=0.371, train_accuracy=0.778, val_loss=0.168, val_accuracy=0.919]\n",
      "Validating:   7%|▋         | 2/29 [00:01<00:22,  1.17it/s]\u001b[A\n",
      "Epoch 103:  90%|█████████ | 230/255 [02:43<00:17,  1.41it/s, loss=0.134, v_num=2, train_loss=0.371, train_accuracy=0.778, val_loss=0.168, val_accuracy=0.919]\n",
      "Validating:  14%|█▍        | 4/29 [00:02<00:10,  2.46it/s]\u001b[A\n",
      "Epoch 103:  91%|█████████ | 232/255 [02:43<00:16,  1.42it/s, loss=0.134, v_num=2, train_loss=0.371, train_accuracy=0.778, val_loss=0.168, val_accuracy=0.919]\n",
      "Validating:  21%|██        | 6/29 [00:02<00:06,  3.55it/s]\u001b[A\n",
      "Epoch 103:  92%|█████████▏| 234/255 [02:44<00:14,  1.42it/s, loss=0.134, v_num=2, train_loss=0.371, train_accuracy=0.778, val_loss=0.168, val_accuracy=0.919]\n",
      "Validating:  28%|██▊       | 8/29 [00:03<00:04,  4.33it/s]\u001b[A\n",
      "Epoch 103:  93%|█████████▎| 236/255 [02:44<00:13,  1.43it/s, loss=0.134, v_num=2, train_loss=0.371, train_accuracy=0.778, val_loss=0.168, val_accuracy=0.919]\n",
      "Validating:  34%|███▍      | 10/29 [00:03<00:03,  4.85it/s]\u001b[A\n",
      "Epoch 103:  93%|█████████▎| 238/255 [02:45<00:11,  1.44it/s, loss=0.134, v_num=2, train_loss=0.371, train_accuracy=0.778, val_loss=0.168, val_accuracy=0.919]\n",
      "Validating:  41%|████▏     | 12/29 [00:03<00:03,  5.06it/s]\u001b[A\n",
      "Epoch 103:  94%|█████████▍| 240/255 [02:45<00:10,  1.45it/s, loss=0.134, v_num=2, train_loss=0.371, train_accuracy=0.778, val_loss=0.168, val_accuracy=0.919]\n",
      "Validating:  48%|████▊     | 14/29 [00:04<00:02,  5.19it/s]\u001b[A\n",
      "Epoch 103:  95%|█████████▍| 242/255 [02:45<00:08,  1.46it/s, loss=0.134, v_num=2, train_loss=0.371, train_accuracy=0.778, val_loss=0.168, val_accuracy=0.919]\n",
      "Validating:  55%|█████▌    | 16/29 [00:04<00:02,  5.30it/s]\u001b[A\n",
      "Epoch 103:  96%|█████████▌| 244/255 [02:46<00:07,  1.47it/s, loss=0.134, v_num=2, train_loss=0.371, train_accuracy=0.778, val_loss=0.168, val_accuracy=0.919]\n",
      "Validating:  62%|██████▏   | 18/29 [00:04<00:02,  5.38it/s]\u001b[A\n",
      "Epoch 103:  96%|█████████▋| 246/255 [02:46<00:06,  1.48it/s, loss=0.134, v_num=2, train_loss=0.371, train_accuracy=0.778, val_loss=0.168, val_accuracy=0.919]\n",
      "Validating:  69%|██████▉   | 20/29 [00:05<00:01,  5.30it/s]\u001b[A\n",
      "Epoch 103:  97%|█████████▋| 248/255 [02:46<00:04,  1.49it/s, loss=0.134, v_num=2, train_loss=0.371, train_accuracy=0.778, val_loss=0.168, val_accuracy=0.919]\n",
      "Validating:  76%|███████▌  | 22/29 [00:05<00:01,  5.38it/s]\u001b[A\n",
      "Epoch 103:  98%|█████████▊| 250/255 [02:47<00:03,  1.49it/s, loss=0.134, v_num=2, train_loss=0.371, train_accuracy=0.778, val_loss=0.168, val_accuracy=0.919]\n",
      "Validating:  83%|████████▎ | 24/29 [00:06<00:00,  5.41it/s]\u001b[A\n",
      "Epoch 103:  99%|█████████▉| 252/255 [02:47<00:01,  1.50it/s, loss=0.134, v_num=2, train_loss=0.371, train_accuracy=0.778, val_loss=0.168, val_accuracy=0.919]\n",
      "Validating:  90%|████████▉ | 26/29 [00:06<00:00,  5.41it/s]\u001b[A\n",
      "Epoch 103: 100%|█████████▉| 254/255 [02:48<00:00,  1.51it/s, loss=0.134, v_num=2, train_loss=0.371, train_accuracy=0.778, val_loss=0.168, val_accuracy=0.919]\n",
      "Validating:  97%|█████████▋| 28/29 [00:06<00:00,  5.41it/s]\u001b[A\n",
      "Epoch 103: 100%|██████████| 255/255 [02:48<00:00,  1.51it/s, loss=0.134, v_num=2, train_loss=0.371, train_accuracy=0.778, val_loss=0.172, val_accuracy=0.918]\n",
      "Epoch 103: 100%|██████████| 255/255 [02:48<00:00,  1.51it/s, loss=0.134, v_num=2, train_loss=0.371, train_accuracy=0.778, val_loss=0.172, val_accuracy=0.918]"
     ]
    },
    {
     "name": "stderr",
     "output_type": "stream",
     "text": [
      "Epoch 103, global step 23503: val_loss was not in top 2\n"
     ]
    },
    {
     "name": "stdout",
     "output_type": "stream",
     "text": [
      "Epoch 104:  89%|████████▊ | 226/255 [02:40<00:20,  1.41it/s, loss=0.144, v_num=2, train_loss=0.0439, train_accuracy=1.000, val_loss=0.172, val_accuracy=0.918]\n",
      "Validating: 0it [00:00, ?it/s]\u001b[A\n",
      "Validating:   0%|          | 0/29 [00:00<?, ?it/s]\u001b[A\n",
      "Epoch 104:  89%|████████▉ | 228/255 [02:42<00:19,  1.41it/s, loss=0.144, v_num=2, train_loss=0.0439, train_accuracy=1.000, val_loss=0.172, val_accuracy=0.918]\n",
      "Validating:   7%|▋         | 2/29 [00:01<00:23,  1.17it/s]\u001b[A\n",
      "Epoch 104:  90%|█████████ | 230/255 [02:42<00:17,  1.41it/s, loss=0.144, v_num=2, train_loss=0.0439, train_accuracy=1.000, val_loss=0.172, val_accuracy=0.918]\n",
      "Validating:  14%|█▍        | 4/29 [00:02<00:10,  2.41it/s]\u001b[A\n",
      "Epoch 104:  91%|█████████ | 232/255 [02:42<00:16,  1.42it/s, loss=0.144, v_num=2, train_loss=0.0439, train_accuracy=1.000, val_loss=0.172, val_accuracy=0.918]\n",
      "Validating:  21%|██        | 6/29 [00:02<00:06,  3.55it/s]\u001b[A\n",
      "Epoch 104:  92%|█████████▏| 234/255 [02:43<00:14,  1.43it/s, loss=0.144, v_num=2, train_loss=0.0439, train_accuracy=1.000, val_loss=0.172, val_accuracy=0.918]\n",
      "Validating:  28%|██▊       | 8/29 [00:03<00:04,  4.32it/s]\u001b[A\n",
      "Epoch 104:  93%|█████████▎| 236/255 [02:43<00:13,  1.44it/s, loss=0.144, v_num=2, train_loss=0.0439, train_accuracy=1.000, val_loss=0.172, val_accuracy=0.918]\n",
      "Validating:  34%|███▍      | 10/29 [00:03<00:03,  4.84it/s]\u001b[A\n",
      "Epoch 104:  93%|█████████▎| 238/255 [02:44<00:11,  1.45it/s, loss=0.144, v_num=2, train_loss=0.0439, train_accuracy=1.000, val_loss=0.172, val_accuracy=0.918]\n",
      "Validating:  41%|████▏     | 12/29 [00:03<00:03,  5.12it/s]\u001b[A\n",
      "Epoch 104:  94%|█████████▍| 240/255 [02:44<00:10,  1.46it/s, loss=0.144, v_num=2, train_loss=0.0439, train_accuracy=1.000, val_loss=0.172, val_accuracy=0.918]\n",
      "Validating:  48%|████▊     | 14/29 [00:04<00:02,  5.15it/s]\u001b[A\n",
      "Epoch 104:  95%|█████████▍| 242/255 [02:44<00:08,  1.47it/s, loss=0.144, v_num=2, train_loss=0.0439, train_accuracy=1.000, val_loss=0.172, val_accuracy=0.918]\n",
      "Validating:  55%|█████▌    | 16/29 [00:04<00:02,  5.30it/s]\u001b[A\n",
      "Epoch 104:  96%|█████████▌| 244/255 [02:45<00:07,  1.48it/s, loss=0.144, v_num=2, train_loss=0.0439, train_accuracy=1.000, val_loss=0.172, val_accuracy=0.918]\n",
      "Validating:  62%|██████▏   | 18/29 [00:04<00:02,  5.36it/s]\u001b[A\n",
      "Epoch 104:  96%|█████████▋| 246/255 [02:45<00:06,  1.49it/s, loss=0.144, v_num=2, train_loss=0.0439, train_accuracy=1.000, val_loss=0.172, val_accuracy=0.918]\n",
      "Validating:  69%|██████▉   | 20/29 [00:05<00:01,  5.40it/s]\u001b[A\n",
      "Epoch 104:  97%|█████████▋| 248/255 [02:45<00:04,  1.49it/s, loss=0.144, v_num=2, train_loss=0.0439, train_accuracy=1.000, val_loss=0.172, val_accuracy=0.918]\n",
      "Validating:  76%|███████▌  | 22/29 [00:05<00:01,  5.37it/s]\u001b[A\n",
      "Epoch 104:  98%|█████████▊| 250/255 [02:46<00:03,  1.50it/s, loss=0.144, v_num=2, train_loss=0.0439, train_accuracy=1.000, val_loss=0.172, val_accuracy=0.918]\n",
      "Validating:  83%|████████▎ | 24/29 [00:06<00:00,  5.38it/s]\u001b[A\n",
      "Epoch 104:  99%|█████████▉| 252/255 [02:46<00:01,  1.51it/s, loss=0.144, v_num=2, train_loss=0.0439, train_accuracy=1.000, val_loss=0.172, val_accuracy=0.918]\n",
      "Validating:  90%|████████▉ | 26/29 [00:06<00:00,  5.24it/s]\u001b[A\n",
      "Epoch 104: 100%|█████████▉| 254/255 [02:47<00:00,  1.52it/s, loss=0.144, v_num=2, train_loss=0.0439, train_accuracy=1.000, val_loss=0.172, val_accuracy=0.918]\n",
      "Validating:  97%|█████████▋| 28/29 [00:06<00:00,  5.32it/s]\u001b[A\n",
      "Epoch 104: 100%|██████████| 255/255 [02:47<00:00,  1.52it/s, loss=0.144, v_num=2, train_loss=0.0439, train_accuracy=1.000, val_loss=0.172, val_accuracy=0.922]\n",
      "Epoch 104: 100%|██████████| 255/255 [02:47<00:00,  1.52it/s, loss=0.144, v_num=2, train_loss=0.0439, train_accuracy=1.000, val_loss=0.172, val_accuracy=0.922]"
     ]
    },
    {
     "name": "stderr",
     "output_type": "stream",
     "text": [
      "Epoch 104, global step 23729: val_loss was not in top 2\n"
     ]
    },
    {
     "name": "stdout",
     "output_type": "stream",
     "text": [
      "Epoch 105:  89%|████████▊ | 226/255 [02:41<00:20,  1.40it/s, loss=0.113, v_num=2, train_loss=0.0597, train_accuracy=1.000, val_loss=0.172, val_accuracy=0.922]\n",
      "Validating: 0it [00:00, ?it/s]\u001b[A\n",
      "Validating:   0%|          | 0/29 [00:00<?, ?it/s]\u001b[A\n",
      "Epoch 105:  89%|████████▉ | 228/255 [02:43<00:19,  1.40it/s, loss=0.113, v_num=2, train_loss=0.0597, train_accuracy=1.000, val_loss=0.172, val_accuracy=0.922]\n",
      "Validating:   7%|▋         | 2/29 [00:01<00:22,  1.17it/s]\u001b[A\n",
      "Epoch 105:  90%|█████████ | 230/255 [02:43<00:17,  1.41it/s, loss=0.113, v_num=2, train_loss=0.0597, train_accuracy=1.000, val_loss=0.172, val_accuracy=0.922]\n",
      "Validating:  14%|█▍        | 4/29 [00:02<00:10,  2.41it/s]\u001b[A\n",
      "Epoch 105:  91%|█████████ | 232/255 [02:43<00:16,  1.42it/s, loss=0.113, v_num=2, train_loss=0.0597, train_accuracy=1.000, val_loss=0.172, val_accuracy=0.922]\n",
      "Validating:  21%|██        | 6/29 [00:02<00:06,  3.45it/s]\u001b[A\n",
      "Epoch 105:  92%|█████████▏| 234/255 [02:44<00:14,  1.42it/s, loss=0.113, v_num=2, train_loss=0.0597, train_accuracy=1.000, val_loss=0.172, val_accuracy=0.922]\n",
      "Validating:  28%|██▊       | 8/29 [00:03<00:04,  4.24it/s]\u001b[A\n",
      "Epoch 105:  93%|█████████▎| 236/255 [02:44<00:13,  1.43it/s, loss=0.113, v_num=2, train_loss=0.0597, train_accuracy=1.000, val_loss=0.172, val_accuracy=0.922]\n",
      "Validating:  34%|███▍      | 10/29 [00:03<00:04,  4.68it/s]\u001b[A\n",
      "Epoch 105:  93%|█████████▎| 238/255 [02:45<00:11,  1.44it/s, loss=0.113, v_num=2, train_loss=0.0597, train_accuracy=1.000, val_loss=0.172, val_accuracy=0.922]\n",
      "Validating:  41%|████▏     | 12/29 [00:03<00:03,  5.05it/s]\u001b[A\n",
      "Epoch 105:  94%|█████████▍| 240/255 [02:45<00:10,  1.45it/s, loss=0.113, v_num=2, train_loss=0.0597, train_accuracy=1.000, val_loss=0.172, val_accuracy=0.922]\n",
      "Validating:  48%|████▊     | 14/29 [00:04<00:02,  5.18it/s]\u001b[A\n",
      "Epoch 105:  95%|█████████▍| 242/255 [02:45<00:08,  1.46it/s, loss=0.113, v_num=2, train_loss=0.0597, train_accuracy=1.000, val_loss=0.172, val_accuracy=0.922]\n",
      "Validating:  55%|█████▌    | 16/29 [00:04<00:02,  5.30it/s]\u001b[A\n",
      "Epoch 105:  96%|█████████▌| 244/255 [02:46<00:07,  1.47it/s, loss=0.113, v_num=2, train_loss=0.0597, train_accuracy=1.000, val_loss=0.172, val_accuracy=0.922]\n",
      "Validating:  62%|██████▏   | 18/29 [00:05<00:02,  5.35it/s]\u001b[A\n",
      "Epoch 105:  96%|█████████▋| 246/255 [02:46<00:06,  1.48it/s, loss=0.113, v_num=2, train_loss=0.0597, train_accuracy=1.000, val_loss=0.172, val_accuracy=0.922]\n",
      "Validating:  69%|██████▉   | 20/29 [00:05<00:01,  5.38it/s]\u001b[A\n",
      "Epoch 105:  97%|█████████▋| 248/255 [02:46<00:04,  1.49it/s, loss=0.113, v_num=2, train_loss=0.0597, train_accuracy=1.000, val_loss=0.172, val_accuracy=0.922]\n",
      "Validating:  76%|███████▌  | 22/29 [00:05<00:01,  5.41it/s]\u001b[A\n",
      "Epoch 105:  98%|█████████▊| 250/255 [02:47<00:03,  1.49it/s, loss=0.113, v_num=2, train_loss=0.0597, train_accuracy=1.000, val_loss=0.172, val_accuracy=0.922]\n",
      "Validating:  83%|████████▎ | 24/29 [00:06<00:00,  5.30it/s]\u001b[A\n",
      "Epoch 105:  99%|█████████▉| 252/255 [02:47<00:01,  1.50it/s, loss=0.113, v_num=2, train_loss=0.0597, train_accuracy=1.000, val_loss=0.172, val_accuracy=0.922]\n",
      "Validating:  90%|████████▉ | 26/29 [00:06<00:00,  5.30it/s]\u001b[A\n",
      "Epoch 105: 100%|█████████▉| 254/255 [02:48<00:00,  1.51it/s, loss=0.113, v_num=2, train_loss=0.0597, train_accuracy=1.000, val_loss=0.172, val_accuracy=0.922]\n",
      "Validating:  97%|█████████▋| 28/29 [00:06<00:00,  5.29it/s]\u001b[A\n",
      "Epoch 105: 100%|██████████| 255/255 [02:48<00:00,  1.51it/s, loss=0.113, v_num=2, train_loss=0.0597, train_accuracy=1.000, val_loss=0.170, val_accuracy=0.928]\n",
      "Epoch 105: 100%|██████████| 255/255 [02:48<00:00,  1.51it/s, loss=0.113, v_num=2, train_loss=0.0597, train_accuracy=1.000, val_loss=0.170, val_accuracy=0.928]"
     ]
    },
    {
     "name": "stderr",
     "output_type": "stream",
     "text": [
      "Epoch 105, global step 23955: val_loss was not in top 2\n"
     ]
    },
    {
     "name": "stdout",
     "output_type": "stream",
     "text": [
      "Epoch 106:  89%|████████▊ | 226/255 [02:41<00:20,  1.40it/s, loss=0.139, v_num=2, train_loss=0.186, train_accuracy=0.944, val_loss=0.170, val_accuracy=0.928] \n",
      "Validating: 0it [00:00, ?it/s]\u001b[A\n",
      "Validating:   0%|          | 0/29 [00:00<?, ?it/s]\u001b[A\n",
      "Epoch 106:  89%|████████▉ | 228/255 [02:43<00:19,  1.40it/s, loss=0.139, v_num=2, train_loss=0.186, train_accuracy=0.944, val_loss=0.170, val_accuracy=0.928]\n",
      "Validating:   7%|▋         | 2/29 [00:01<00:22,  1.18it/s]\u001b[A\n",
      "Epoch 106:  90%|█████████ | 230/255 [02:43<00:17,  1.41it/s, loss=0.139, v_num=2, train_loss=0.186, train_accuracy=0.944, val_loss=0.170, val_accuracy=0.928]\n",
      "Validating:  14%|█▍        | 4/29 [00:02<00:10,  2.46it/s]\u001b[A\n",
      "Epoch 106:  91%|█████████ | 232/255 [02:44<00:16,  1.41it/s, loss=0.139, v_num=2, train_loss=0.186, train_accuracy=0.944, val_loss=0.170, val_accuracy=0.928]\n",
      "Validating:  21%|██        | 6/29 [00:02<00:06,  3.62it/s]\u001b[A\n",
      "Epoch 106:  92%|█████████▏| 234/255 [02:44<00:14,  1.42it/s, loss=0.139, v_num=2, train_loss=0.186, train_accuracy=0.944, val_loss=0.170, val_accuracy=0.928]\n",
      "Validating:  28%|██▊       | 8/29 [00:03<00:04,  4.40it/s]\u001b[A\n",
      "Epoch 106:  93%|█████████▎| 236/255 [02:44<00:13,  1.43it/s, loss=0.139, v_num=2, train_loss=0.186, train_accuracy=0.944, val_loss=0.170, val_accuracy=0.928]\n",
      "Validating:  34%|███▍      | 10/29 [00:03<00:03,  4.83it/s]\u001b[A\n",
      "Epoch 106:  93%|█████████▎| 238/255 [02:45<00:11,  1.44it/s, loss=0.139, v_num=2, train_loss=0.186, train_accuracy=0.944, val_loss=0.170, val_accuracy=0.928]\n",
      "Validating:  41%|████▏     | 12/29 [00:03<00:03,  5.13it/s]\u001b[A\n",
      "Epoch 106:  94%|█████████▍| 240/255 [02:45<00:10,  1.45it/s, loss=0.139, v_num=2, train_loss=0.186, train_accuracy=0.944, val_loss=0.170, val_accuracy=0.928]\n",
      "Validating:  48%|████▊     | 14/29 [00:04<00:02,  5.23it/s]\u001b[A\n",
      "Epoch 106:  95%|█████████▍| 242/255 [02:45<00:08,  1.46it/s, loss=0.139, v_num=2, train_loss=0.186, train_accuracy=0.944, val_loss=0.170, val_accuracy=0.928]\n",
      "Validating:  55%|█████▌    | 16/29 [00:04<00:02,  5.32it/s]\u001b[A\n",
      "Epoch 106:  96%|█████████▌| 244/255 [02:46<00:07,  1.47it/s, loss=0.139, v_num=2, train_loss=0.186, train_accuracy=0.944, val_loss=0.170, val_accuracy=0.928]\n",
      "Validating:  62%|██████▏   | 18/29 [00:04<00:02,  5.40it/s]\u001b[A\n",
      "Epoch 106:  96%|█████████▋| 246/255 [02:46<00:06,  1.48it/s, loss=0.139, v_num=2, train_loss=0.186, train_accuracy=0.944, val_loss=0.170, val_accuracy=0.928]\n",
      "Validating:  69%|██████▉   | 20/29 [00:05<00:01,  5.40it/s]\u001b[A\n",
      "Epoch 106:  97%|█████████▋| 248/255 [02:47<00:04,  1.48it/s, loss=0.139, v_num=2, train_loss=0.186, train_accuracy=0.944, val_loss=0.170, val_accuracy=0.928]\n",
      "Validating:  76%|███████▌  | 22/29 [00:05<00:01,  5.36it/s]\u001b[A\n",
      "Epoch 106:  98%|█████████▊| 250/255 [02:47<00:03,  1.49it/s, loss=0.139, v_num=2, train_loss=0.186, train_accuracy=0.944, val_loss=0.170, val_accuracy=0.928]\n",
      "Validating:  83%|████████▎ | 24/29 [00:06<00:00,  5.40it/s]\u001b[A\n",
      "Epoch 106:  99%|█████████▉| 252/255 [02:47<00:01,  1.50it/s, loss=0.139, v_num=2, train_loss=0.186, train_accuracy=0.944, val_loss=0.170, val_accuracy=0.928]\n",
      "Validating:  90%|████████▉ | 26/29 [00:06<00:00,  5.44it/s]\u001b[A\n",
      "Epoch 106: 100%|█████████▉| 254/255 [02:48<00:00,  1.51it/s, loss=0.139, v_num=2, train_loss=0.186, train_accuracy=0.944, val_loss=0.170, val_accuracy=0.928]\n",
      "Validating:  97%|█████████▋| 28/29 [00:06<00:00,  5.42it/s]\u001b[A\n",
      "Epoch 106: 100%|██████████| 255/255 [02:48<00:00,  1.51it/s, loss=0.139, v_num=2, train_loss=0.186, train_accuracy=0.944, val_loss=0.166, val_accuracy=0.930]\n",
      "Epoch 106: 100%|██████████| 255/255 [02:48<00:00,  1.51it/s, loss=0.139, v_num=2, train_loss=0.186, train_accuracy=0.944, val_loss=0.166, val_accuracy=0.930]"
     ]
    },
    {
     "name": "stderr",
     "output_type": "stream",
     "text": [
      "Epoch 106, global step 24181: val_loss reached 0.16565 (best 0.16257), saving model to \"/Workspace/code/checkpoints/best-checkpoint-corr-mi-27-v2.ckpt\" as top 2\n"
     ]
    },
    {
     "name": "stdout",
     "output_type": "stream",
     "text": [
      "Epoch 107:  89%|████████▊ | 226/255 [02:41<00:20,  1.40it/s, loss=0.121, v_num=2, train_loss=0.0475, train_accuracy=0.944, val_loss=0.166, val_accuracy=0.930]\n",
      "Validating: 0it [00:00, ?it/s]\u001b[A\n",
      "Validating:   0%|          | 0/29 [00:00<?, ?it/s]\u001b[A\n",
      "Epoch 107:  89%|████████▉ | 228/255 [02:43<00:19,  1.40it/s, loss=0.121, v_num=2, train_loss=0.0475, train_accuracy=0.944, val_loss=0.166, val_accuracy=0.930]\n",
      "Validating:   7%|▋         | 2/29 [00:01<00:22,  1.18it/s]\u001b[A\n",
      "Epoch 107:  90%|█████████ | 230/255 [02:43<00:17,  1.40it/s, loss=0.121, v_num=2, train_loss=0.0475, train_accuracy=0.944, val_loss=0.166, val_accuracy=0.930]\n",
      "Validating:  14%|█▍        | 4/29 [00:02<00:10,  2.47it/s]\u001b[A\n",
      "Epoch 107:  91%|█████████ | 232/255 [02:44<00:16,  1.41it/s, loss=0.121, v_num=2, train_loss=0.0475, train_accuracy=0.944, val_loss=0.166, val_accuracy=0.930]\n",
      "Validating:  21%|██        | 6/29 [00:02<00:06,  3.49it/s]\u001b[A\n",
      "Epoch 107:  92%|█████████▏| 234/255 [02:44<00:14,  1.42it/s, loss=0.121, v_num=2, train_loss=0.0475, train_accuracy=0.944, val_loss=0.166, val_accuracy=0.930]\n",
      "Validating:  28%|██▊       | 8/29 [00:03<00:04,  4.27it/s]\u001b[A\n",
      "Epoch 107:  93%|█████████▎| 236/255 [02:44<00:13,  1.43it/s, loss=0.121, v_num=2, train_loss=0.0475, train_accuracy=0.944, val_loss=0.166, val_accuracy=0.930]\n",
      "Validating:  34%|███▍      | 10/29 [00:03<00:03,  4.76it/s]\u001b[A\n",
      "Epoch 107:  93%|█████████▎| 238/255 [02:45<00:11,  1.44it/s, loss=0.121, v_num=2, train_loss=0.0475, train_accuracy=0.944, val_loss=0.166, val_accuracy=0.930]\n",
      "Validating:  41%|████▏     | 12/29 [00:03<00:03,  5.08it/s]\u001b[A\n",
      "Epoch 107:  94%|█████████▍| 240/255 [02:45<00:10,  1.45it/s, loss=0.121, v_num=2, train_loss=0.0475, train_accuracy=0.944, val_loss=0.166, val_accuracy=0.930]\n",
      "Validating:  48%|████▊     | 14/29 [00:04<00:02,  5.27it/s]\u001b[A\n",
      "Epoch 107:  95%|█████████▍| 242/255 [02:45<00:08,  1.46it/s, loss=0.121, v_num=2, train_loss=0.0475, train_accuracy=0.944, val_loss=0.166, val_accuracy=0.930]\n",
      "Validating:  55%|█████▌    | 16/29 [00:04<00:02,  5.33it/s]\u001b[A\n",
      "Epoch 107:  96%|█████████▌| 244/255 [02:46<00:07,  1.47it/s, loss=0.121, v_num=2, train_loss=0.0475, train_accuracy=0.944, val_loss=0.166, val_accuracy=0.930]\n",
      "Validating:  62%|██████▏   | 18/29 [00:04<00:02,  5.35it/s]\u001b[A\n",
      "Epoch 107:  96%|█████████▋| 246/255 [02:46<00:06,  1.48it/s, loss=0.121, v_num=2, train_loss=0.0475, train_accuracy=0.944, val_loss=0.166, val_accuracy=0.930]\n",
      "Validating:  69%|██████▉   | 20/29 [00:05<00:01,  5.42it/s]\u001b[A\n",
      "Epoch 107:  97%|█████████▋| 248/255 [02:47<00:04,  1.48it/s, loss=0.121, v_num=2, train_loss=0.0475, train_accuracy=0.944, val_loss=0.166, val_accuracy=0.930]\n",
      "Validating:  76%|███████▌  | 22/29 [00:05<00:01,  5.41it/s]\u001b[A\n",
      "Epoch 107:  98%|█████████▊| 250/255 [02:47<00:03,  1.49it/s, loss=0.121, v_num=2, train_loss=0.0475, train_accuracy=0.944, val_loss=0.166, val_accuracy=0.930]\n",
      "Validating:  83%|████████▎ | 24/29 [00:06<00:00,  5.41it/s]\u001b[A\n",
      "Epoch 107:  99%|█████████▉| 252/255 [02:47<00:01,  1.50it/s, loss=0.121, v_num=2, train_loss=0.0475, train_accuracy=0.944, val_loss=0.166, val_accuracy=0.930]\n",
      "Validating:  90%|████████▉ | 26/29 [00:06<00:00,  5.43it/s]\u001b[A\n",
      "Epoch 107: 100%|█████████▉| 254/255 [02:48<00:00,  1.51it/s, loss=0.121, v_num=2, train_loss=0.0475, train_accuracy=0.944, val_loss=0.166, val_accuracy=0.930]\n",
      "Validating:  97%|█████████▋| 28/29 [00:06<00:00,  5.41it/s]\u001b[A\n",
      "Epoch 107: 100%|██████████| 255/255 [02:48<00:00,  1.51it/s, loss=0.121, v_num=2, train_loss=0.0475, train_accuracy=0.944, val_loss=0.209, val_accuracy=0.913]\n",
      "Epoch 107: 100%|██████████| 255/255 [02:48<00:00,  1.51it/s, loss=0.121, v_num=2, train_loss=0.0475, train_accuracy=0.944, val_loss=0.209, val_accuracy=0.913]"
     ]
    },
    {
     "name": "stderr",
     "output_type": "stream",
     "text": [
      "Epoch 107, global step 24407: val_loss was not in top 2\n"
     ]
    },
    {
     "name": "stdout",
     "output_type": "stream",
     "text": [
      "Epoch 108:  89%|████████▊ | 226/255 [02:41<00:20,  1.40it/s, loss=0.128, v_num=2, train_loss=0.137, train_accuracy=0.944, val_loss=0.209, val_accuracy=0.913] \n",
      "Validating: 0it [00:00, ?it/s]\u001b[A\n",
      "Validating:   0%|          | 0/29 [00:00<?, ?it/s]\u001b[A\n",
      "Epoch 108:  89%|████████▉ | 228/255 [02:43<00:19,  1.40it/s, loss=0.128, v_num=2, train_loss=0.137, train_accuracy=0.944, val_loss=0.209, val_accuracy=0.913]\n",
      "Validating:   7%|▋         | 2/29 [00:01<00:23,  1.17it/s]\u001b[A\n",
      "Epoch 108:  90%|█████████ | 230/255 [02:43<00:17,  1.40it/s, loss=0.128, v_num=2, train_loss=0.137, train_accuracy=0.944, val_loss=0.209, val_accuracy=0.913]\n",
      "Validating:  14%|█▍        | 4/29 [00:02<00:10,  2.48it/s]\u001b[A\n",
      "Epoch 108:  91%|█████████ | 232/255 [02:44<00:16,  1.41it/s, loss=0.128, v_num=2, train_loss=0.137, train_accuracy=0.944, val_loss=0.209, val_accuracy=0.913]\n",
      "Validating:  21%|██        | 6/29 [00:02<00:06,  3.62it/s]\u001b[A\n",
      "Epoch 108:  92%|█████████▏| 234/255 [02:44<00:14,  1.42it/s, loss=0.128, v_num=2, train_loss=0.137, train_accuracy=0.944, val_loss=0.209, val_accuracy=0.913]\n",
      "Validating:  28%|██▊       | 8/29 [00:03<00:04,  4.39it/s]\u001b[A\n",
      "Epoch 108:  93%|█████████▎| 236/255 [02:44<00:13,  1.43it/s, loss=0.128, v_num=2, train_loss=0.137, train_accuracy=0.944, val_loss=0.209, val_accuracy=0.913]\n",
      "Validating:  34%|███▍      | 10/29 [00:03<00:03,  4.87it/s]\u001b[A\n",
      "Epoch 108:  93%|█████████▎| 238/255 [02:45<00:11,  1.44it/s, loss=0.128, v_num=2, train_loss=0.137, train_accuracy=0.944, val_loss=0.209, val_accuracy=0.913]\n",
      "Validating:  41%|████▏     | 12/29 [00:03<00:03,  5.11it/s]\u001b[A\n",
      "Epoch 108:  94%|█████████▍| 240/255 [02:45<00:10,  1.45it/s, loss=0.128, v_num=2, train_loss=0.137, train_accuracy=0.944, val_loss=0.209, val_accuracy=0.913]\n",
      "Validating:  48%|████▊     | 14/29 [00:04<00:02,  5.28it/s]\u001b[A\n",
      "Epoch 108:  95%|█████████▍| 242/255 [02:45<00:08,  1.46it/s, loss=0.128, v_num=2, train_loss=0.137, train_accuracy=0.944, val_loss=0.209, val_accuracy=0.913]\n",
      "Validating:  55%|█████▌    | 16/29 [00:04<00:02,  5.35it/s]\u001b[A\n",
      "Epoch 108:  96%|█████████▌| 244/255 [02:46<00:07,  1.47it/s, loss=0.128, v_num=2, train_loss=0.137, train_accuracy=0.944, val_loss=0.209, val_accuracy=0.913]\n",
      "Validating:  62%|██████▏   | 18/29 [00:04<00:02,  5.38it/s]\u001b[A\n",
      "Epoch 108:  96%|█████████▋| 246/255 [02:46<00:06,  1.48it/s, loss=0.128, v_num=2, train_loss=0.137, train_accuracy=0.944, val_loss=0.209, val_accuracy=0.913]\n",
      "Validating:  69%|██████▉   | 20/29 [00:05<00:01,  5.39it/s]\u001b[A\n",
      "Epoch 108:  97%|█████████▋| 248/255 [02:47<00:04,  1.48it/s, loss=0.128, v_num=2, train_loss=0.137, train_accuracy=0.944, val_loss=0.209, val_accuracy=0.913]\n",
      "Validating:  76%|███████▌  | 22/29 [00:05<00:01,  5.37it/s]\u001b[A\n",
      "Epoch 108:  98%|█████████▊| 250/255 [02:47<00:03,  1.49it/s, loss=0.128, v_num=2, train_loss=0.137, train_accuracy=0.944, val_loss=0.209, val_accuracy=0.913]\n",
      "Validating:  83%|████████▎ | 24/29 [00:06<00:00,  5.39it/s]\u001b[A\n",
      "Epoch 108:  99%|█████████▉| 252/255 [02:47<00:01,  1.50it/s, loss=0.128, v_num=2, train_loss=0.137, train_accuracy=0.944, val_loss=0.209, val_accuracy=0.913]\n",
      "Validating:  90%|████████▉ | 26/29 [00:06<00:00,  5.42it/s]\u001b[A\n",
      "Epoch 108: 100%|█████████▉| 254/255 [02:48<00:00,  1.51it/s, loss=0.128, v_num=2, train_loss=0.137, train_accuracy=0.944, val_loss=0.209, val_accuracy=0.913]\n",
      "Validating:  97%|█████████▋| 28/29 [00:06<00:00,  5.38it/s]\u001b[A\n",
      "Epoch 108: 100%|██████████| 255/255 [02:48<00:00,  1.51it/s, loss=0.128, v_num=2, train_loss=0.137, train_accuracy=0.944, val_loss=0.172, val_accuracy=0.925]\n",
      "Epoch 108: 100%|██████████| 255/255 [02:48<00:00,  1.51it/s, loss=0.128, v_num=2, train_loss=0.137, train_accuracy=0.944, val_loss=0.172, val_accuracy=0.925]"
     ]
    },
    {
     "name": "stderr",
     "output_type": "stream",
     "text": [
      "Epoch 108, global step 24633: val_loss was not in top 2\n"
     ]
    },
    {
     "name": "stdout",
     "output_type": "stream",
     "text": [
      "Epoch 109:  89%|████████▊ | 226/255 [02:41<00:20,  1.40it/s, loss=0.142, v_num=2, train_loss=0.138, train_accuracy=0.889, val_loss=0.172, val_accuracy=0.925] \n",
      "Validating: 0it [00:00, ?it/s]\u001b[A\n",
      "Validating:   0%|          | 0/29 [00:00<?, ?it/s]\u001b[A\n",
      "Epoch 109:  89%|████████▉ | 228/255 [02:43<00:19,  1.40it/s, loss=0.142, v_num=2, train_loss=0.138, train_accuracy=0.889, val_loss=0.172, val_accuracy=0.925]\n",
      "Validating:   7%|▋         | 2/29 [00:01<00:23,  1.17it/s]\u001b[A\n",
      "Epoch 109:  90%|█████████ | 230/255 [02:43<00:17,  1.41it/s, loss=0.142, v_num=2, train_loss=0.138, train_accuracy=0.889, val_loss=0.172, val_accuracy=0.925]\n",
      "Validating:  14%|█▍        | 4/29 [00:02<00:10,  2.47it/s]\u001b[A\n",
      "Epoch 109:  91%|█████████ | 232/255 [02:43<00:16,  1.42it/s, loss=0.142, v_num=2, train_loss=0.138, train_accuracy=0.889, val_loss=0.172, val_accuracy=0.925]\n",
      "Validating:  21%|██        | 6/29 [00:02<00:06,  3.59it/s]\u001b[A\n",
      "Epoch 109:  92%|█████████▏| 234/255 [02:44<00:14,  1.42it/s, loss=0.142, v_num=2, train_loss=0.138, train_accuracy=0.889, val_loss=0.172, val_accuracy=0.925]\n",
      "Validating:  28%|██▊       | 8/29 [00:03<00:04,  4.31it/s]\u001b[A\n",
      "Epoch 109:  93%|█████████▎| 236/255 [02:44<00:13,  1.43it/s, loss=0.142, v_num=2, train_loss=0.138, train_accuracy=0.889, val_loss=0.172, val_accuracy=0.925]\n",
      "Validating:  34%|███▍      | 10/29 [00:03<00:03,  4.84it/s]\u001b[A\n",
      "Epoch 109:  93%|█████████▎| 238/255 [02:45<00:11,  1.44it/s, loss=0.142, v_num=2, train_loss=0.138, train_accuracy=0.889, val_loss=0.172, val_accuracy=0.925]\n",
      "Validating:  41%|████▏     | 12/29 [00:03<00:03,  5.13it/s]\u001b[A\n",
      "Epoch 109:  94%|█████████▍| 240/255 [02:45<00:10,  1.45it/s, loss=0.142, v_num=2, train_loss=0.138, train_accuracy=0.889, val_loss=0.172, val_accuracy=0.925]\n",
      "Validating:  48%|████▊     | 14/29 [00:04<00:02,  5.26it/s]\u001b[A\n",
      "Epoch 109:  95%|█████████▍| 242/255 [02:45<00:08,  1.46it/s, loss=0.142, v_num=2, train_loss=0.138, train_accuracy=0.889, val_loss=0.172, val_accuracy=0.925]\n",
      "Validating:  55%|█████▌    | 16/29 [00:04<00:02,  5.36it/s]\u001b[A\n",
      "Epoch 109:  96%|█████████▌| 244/255 [02:46<00:07,  1.47it/s, loss=0.142, v_num=2, train_loss=0.138, train_accuracy=0.889, val_loss=0.172, val_accuracy=0.925]\n",
      "Validating:  62%|██████▏   | 18/29 [00:04<00:02,  5.34it/s]\u001b[A\n",
      "Epoch 109:  96%|█████████▋| 246/255 [02:46<00:06,  1.48it/s, loss=0.142, v_num=2, train_loss=0.138, train_accuracy=0.889, val_loss=0.172, val_accuracy=0.925]\n",
      "Validating:  69%|██████▉   | 20/29 [00:05<00:01,  5.19it/s]\u001b[A\n",
      "Epoch 109:  97%|█████████▋| 248/255 [02:46<00:04,  1.49it/s, loss=0.142, v_num=2, train_loss=0.138, train_accuracy=0.889, val_loss=0.172, val_accuracy=0.925]\n",
      "Validating:  76%|███████▌  | 22/29 [00:05<00:01,  5.31it/s]\u001b[A\n",
      "Epoch 109:  98%|█████████▊| 250/255 [02:47<00:03,  1.49it/s, loss=0.142, v_num=2, train_loss=0.138, train_accuracy=0.889, val_loss=0.172, val_accuracy=0.925]\n",
      "Validating:  83%|████████▎ | 24/29 [00:06<00:00,  5.42it/s]\u001b[A\n",
      "Epoch 109:  99%|█████████▉| 252/255 [02:47<00:01,  1.50it/s, loss=0.142, v_num=2, train_loss=0.138, train_accuracy=0.889, val_loss=0.172, val_accuracy=0.925]\n",
      "Validating:  90%|████████▉ | 26/29 [00:06<00:00,  5.41it/s]\u001b[A\n",
      "Epoch 109: 100%|█████████▉| 254/255 [02:47<00:00,  1.51it/s, loss=0.142, v_num=2, train_loss=0.138, train_accuracy=0.889, val_loss=0.172, val_accuracy=0.925]\n",
      "Validating:  97%|█████████▋| 28/29 [00:06<00:00,  5.35it/s]\u001b[A\n",
      "Epoch 109: 100%|██████████| 255/255 [02:48<00:00,  1.51it/s, loss=0.142, v_num=2, train_loss=0.138, train_accuracy=0.889, val_loss=0.181, val_accuracy=0.918]\n",
      "Epoch 109: 100%|██████████| 255/255 [02:48<00:00,  1.51it/s, loss=0.142, v_num=2, train_loss=0.138, train_accuracy=0.889, val_loss=0.181, val_accuracy=0.918]"
     ]
    },
    {
     "name": "stderr",
     "output_type": "stream",
     "text": [
      "Epoch 109, global step 24859: val_loss was not in top 2\n"
     ]
    },
    {
     "name": "stdout",
     "output_type": "stream",
     "text": [
      "Epoch 110:  89%|████████▊ | 226/255 [02:41<00:20,  1.40it/s, loss=0.104, v_num=2, train_loss=0.0712, train_accuracy=0.944, val_loss=0.181, val_accuracy=0.918] \n",
      "Validating: 0it [00:00, ?it/s]\u001b[A\n",
      "Validating:   0%|          | 0/29 [00:00<?, ?it/s]\u001b[A\n",
      "Epoch 110:  89%|████████▉ | 228/255 [02:43<00:19,  1.40it/s, loss=0.104, v_num=2, train_loss=0.0712, train_accuracy=0.944, val_loss=0.181, val_accuracy=0.918]\n",
      "Validating:   7%|▋         | 2/29 [00:01<00:22,  1.17it/s]\u001b[A\n",
      "Epoch 110:  90%|█████████ | 230/255 [02:43<00:17,  1.41it/s, loss=0.104, v_num=2, train_loss=0.0712, train_accuracy=0.944, val_loss=0.181, val_accuracy=0.918]\n",
      "Validating:  14%|█▍        | 4/29 [00:02<00:10,  2.46it/s]\u001b[A\n",
      "Epoch 110:  91%|█████████ | 232/255 [02:43<00:16,  1.42it/s, loss=0.104, v_num=2, train_loss=0.0712, train_accuracy=0.944, val_loss=0.181, val_accuracy=0.918]\n",
      "Validating:  21%|██        | 6/29 [00:02<00:06,  3.58it/s]\u001b[A\n",
      "Epoch 110:  92%|█████████▏| 234/255 [02:44<00:14,  1.43it/s, loss=0.104, v_num=2, train_loss=0.0712, train_accuracy=0.944, val_loss=0.181, val_accuracy=0.918]\n",
      "Validating:  28%|██▊       | 8/29 [00:03<00:04,  4.30it/s]\u001b[A\n",
      "Epoch 110:  93%|█████████▎| 236/255 [02:44<00:13,  1.43it/s, loss=0.104, v_num=2, train_loss=0.0712, train_accuracy=0.944, val_loss=0.181, val_accuracy=0.918]\n",
      "Validating:  34%|███▍      | 10/29 [00:03<00:03,  4.81it/s]\u001b[A\n",
      "Epoch 110:  93%|█████████▎| 238/255 [02:44<00:11,  1.44it/s, loss=0.104, v_num=2, train_loss=0.0712, train_accuracy=0.944, val_loss=0.181, val_accuracy=0.918]\n",
      "Validating:  41%|████▏     | 12/29 [00:03<00:03,  5.10it/s]\u001b[A\n",
      "Epoch 110:  94%|█████████▍| 240/255 [02:45<00:10,  1.45it/s, loss=0.104, v_num=2, train_loss=0.0712, train_accuracy=0.944, val_loss=0.181, val_accuracy=0.918]\n",
      "Validating:  48%|████▊     | 14/29 [00:04<00:02,  5.29it/s]\u001b[A\n",
      "Epoch 110:  95%|█████████▍| 242/255 [02:45<00:08,  1.46it/s, loss=0.104, v_num=2, train_loss=0.0712, train_accuracy=0.944, val_loss=0.181, val_accuracy=0.918]\n",
      "Validating:  55%|█████▌    | 16/29 [00:04<00:02,  5.34it/s]\u001b[A\n",
      "Epoch 110:  96%|█████████▌| 244/255 [02:46<00:07,  1.47it/s, loss=0.104, v_num=2, train_loss=0.0712, train_accuracy=0.944, val_loss=0.181, val_accuracy=0.918]\n",
      "Validating:  62%|██████▏   | 18/29 [00:04<00:02,  5.38it/s]\u001b[A\n",
      "Epoch 110:  96%|█████████▋| 246/255 [02:46<00:06,  1.48it/s, loss=0.104, v_num=2, train_loss=0.0712, train_accuracy=0.944, val_loss=0.181, val_accuracy=0.918]\n",
      "Validating:  69%|██████▉   | 20/29 [00:05<00:01,  5.36it/s]\u001b[A\n",
      "Epoch 110:  97%|█████████▋| 248/255 [02:46<00:04,  1.49it/s, loss=0.104, v_num=2, train_loss=0.0712, train_accuracy=0.944, val_loss=0.181, val_accuracy=0.918]\n",
      "Validating:  76%|███████▌  | 22/29 [00:05<00:01,  5.34it/s]\u001b[A\n",
      "Epoch 110:  98%|█████████▊| 250/255 [02:47<00:03,  1.50it/s, loss=0.104, v_num=2, train_loss=0.0712, train_accuracy=0.944, val_loss=0.181, val_accuracy=0.918]\n",
      "Validating:  83%|████████▎ | 24/29 [00:06<00:00,  5.38it/s]\u001b[A\n",
      "Epoch 110:  99%|█████████▉| 252/255 [02:47<00:01,  1.50it/s, loss=0.104, v_num=2, train_loss=0.0712, train_accuracy=0.944, val_loss=0.181, val_accuracy=0.918]\n",
      "Validating:  90%|████████▉ | 26/29 [00:06<00:00,  5.38it/s]\u001b[A\n",
      "Epoch 110: 100%|█████████▉| 254/255 [02:47<00:00,  1.51it/s, loss=0.104, v_num=2, train_loss=0.0712, train_accuracy=0.944, val_loss=0.181, val_accuracy=0.918]\n",
      "Validating:  97%|█████████▋| 28/29 [00:06<00:00,  5.35it/s]\u001b[A\n",
      "Epoch 110: 100%|██████████| 255/255 [02:48<00:00,  1.51it/s, loss=0.104, v_num=2, train_loss=0.0712, train_accuracy=0.944, val_loss=0.157, val_accuracy=0.923]\n",
      "Epoch 110: 100%|██████████| 255/255 [02:48<00:00,  1.51it/s, loss=0.104, v_num=2, train_loss=0.0712, train_accuracy=0.944, val_loss=0.157, val_accuracy=0.923]"
     ]
    },
    {
     "name": "stderr",
     "output_type": "stream",
     "text": [
      "Epoch 110, global step 25085: val_loss reached 0.15705 (best 0.15705), saving model to \"/Workspace/code/checkpoints/best-checkpoint-corr-mi-27-v2.ckpt\" as top 2\n"
     ]
    },
    {
     "name": "stdout",
     "output_type": "stream",
     "text": [
      "Epoch 111:  89%|████████▊ | 226/255 [02:41<00:20,  1.40it/s, loss=0.111, v_num=2, train_loss=0.110, train_accuracy=0.944, val_loss=0.157, val_accuracy=0.923]  \n",
      "Validating: 0it [00:00, ?it/s]\u001b[A\n",
      "Validating:   0%|          | 0/29 [00:00<?, ?it/s]\u001b[A\n",
      "Epoch 111:  89%|████████▉ | 228/255 [02:42<00:19,  1.40it/s, loss=0.111, v_num=2, train_loss=0.110, train_accuracy=0.944, val_loss=0.157, val_accuracy=0.923]\n",
      "Validating:   7%|▋         | 2/29 [00:01<00:22,  1.17it/s]\u001b[A\n",
      "Epoch 111:  90%|█████████ | 230/255 [02:43<00:17,  1.41it/s, loss=0.111, v_num=2, train_loss=0.110, train_accuracy=0.944, val_loss=0.157, val_accuracy=0.923]\n",
      "Validating:  14%|█▍        | 4/29 [00:02<00:10,  2.48it/s]\u001b[A\n",
      "Epoch 111:  91%|█████████ | 232/255 [02:43<00:16,  1.42it/s, loss=0.111, v_num=2, train_loss=0.110, train_accuracy=0.944, val_loss=0.157, val_accuracy=0.923]\n",
      "Validating:  21%|██        | 6/29 [00:02<00:06,  3.62it/s]\u001b[A\n",
      "Epoch 111:  92%|█████████▏| 234/255 [02:44<00:14,  1.43it/s, loss=0.111, v_num=2, train_loss=0.110, train_accuracy=0.944, val_loss=0.157, val_accuracy=0.923]\n",
      "Validating:  28%|██▊       | 8/29 [00:03<00:04,  4.40it/s]\u001b[A\n",
      "Epoch 111:  93%|█████████▎| 236/255 [02:44<00:13,  1.44it/s, loss=0.111, v_num=2, train_loss=0.110, train_accuracy=0.944, val_loss=0.157, val_accuracy=0.923]\n",
      "Validating:  34%|███▍      | 10/29 [00:03<00:03,  4.88it/s]\u001b[A\n",
      "Epoch 111:  93%|█████████▎| 238/255 [02:44<00:11,  1.44it/s, loss=0.111, v_num=2, train_loss=0.110, train_accuracy=0.944, val_loss=0.157, val_accuracy=0.923]\n",
      "Validating:  41%|████▏     | 12/29 [00:03<00:03,  5.12it/s]\u001b[A\n",
      "Epoch 111:  94%|█████████▍| 240/255 [02:45<00:10,  1.45it/s, loss=0.111, v_num=2, train_loss=0.110, train_accuracy=0.944, val_loss=0.157, val_accuracy=0.923]\n",
      "Validating:  48%|████▊     | 14/29 [00:04<00:02,  5.28it/s]\u001b[A\n",
      "Epoch 111:  95%|█████████▍| 242/255 [02:45<00:08,  1.46it/s, loss=0.111, v_num=2, train_loss=0.110, train_accuracy=0.944, val_loss=0.157, val_accuracy=0.923]\n",
      "Validating:  55%|█████▌    | 16/29 [00:04<00:02,  5.30it/s]\u001b[A\n",
      "Epoch 111:  96%|█████████▌| 244/255 [02:45<00:07,  1.47it/s, loss=0.111, v_num=2, train_loss=0.110, train_accuracy=0.944, val_loss=0.157, val_accuracy=0.923]\n",
      "Validating:  62%|██████▏   | 18/29 [00:04<00:02,  5.34it/s]\u001b[A\n",
      "Epoch 111:  96%|█████████▋| 246/255 [02:46<00:06,  1.48it/s, loss=0.111, v_num=2, train_loss=0.110, train_accuracy=0.944, val_loss=0.157, val_accuracy=0.923]\n",
      "Validating:  69%|██████▉   | 20/29 [00:05<00:01,  5.39it/s]\u001b[A\n",
      "Epoch 111:  97%|█████████▋| 248/255 [02:46<00:04,  1.49it/s, loss=0.111, v_num=2, train_loss=0.110, train_accuracy=0.944, val_loss=0.157, val_accuracy=0.923]\n",
      "Validating:  76%|███████▌  | 22/29 [00:05<00:01,  5.43it/s]\u001b[A\n",
      "Epoch 111:  98%|█████████▊| 250/255 [02:46<00:03,  1.50it/s, loss=0.111, v_num=2, train_loss=0.110, train_accuracy=0.944, val_loss=0.157, val_accuracy=0.923]\n",
      "Validating:  83%|████████▎ | 24/29 [00:06<00:00,  5.45it/s]\u001b[A\n",
      "Epoch 111:  99%|█████████▉| 252/255 [02:47<00:01,  1.51it/s, loss=0.111, v_num=2, train_loss=0.110, train_accuracy=0.944, val_loss=0.157, val_accuracy=0.923]\n",
      "Validating:  90%|████████▉ | 26/29 [00:06<00:00,  5.30it/s]\u001b[A\n",
      "Epoch 111: 100%|█████████▉| 254/255 [02:47<00:00,  1.51it/s, loss=0.111, v_num=2, train_loss=0.110, train_accuracy=0.944, val_loss=0.157, val_accuracy=0.923]\n",
      "Validating:  97%|█████████▋| 28/29 [00:06<00:00,  5.32it/s]\u001b[A\n",
      "Epoch 111: 100%|██████████| 255/255 [02:48<00:00,  1.52it/s, loss=0.111, v_num=2, train_loss=0.110, train_accuracy=0.944, val_loss=0.165, val_accuracy=0.938]\n",
      "Epoch 111: 100%|██████████| 255/255 [02:48<00:00,  1.52it/s, loss=0.111, v_num=2, train_loss=0.110, train_accuracy=0.944, val_loss=0.165, val_accuracy=0.938]"
     ]
    },
    {
     "name": "stderr",
     "output_type": "stream",
     "text": [
      "Epoch 111, global step 25311: val_loss was not in top 2\n"
     ]
    },
    {
     "name": "stdout",
     "output_type": "stream",
     "text": [
      "Epoch 112:  89%|████████▊ | 226/255 [02:41<00:20,  1.40it/s, loss=0.112, v_num=2, train_loss=0.0189, train_accuracy=1.000, val_loss=0.165, val_accuracy=0.938] \n",
      "Validating: 0it [00:00, ?it/s]\u001b[A\n",
      "Validating:   0%|          | 0/29 [00:00<?, ?it/s]\u001b[A\n",
      "Epoch 112:  89%|████████▉ | 228/255 [02:43<00:19,  1.40it/s, loss=0.112, v_num=2, train_loss=0.0189, train_accuracy=1.000, val_loss=0.165, val_accuracy=0.938]\n",
      "Validating:   7%|▋         | 2/29 [00:01<00:22,  1.18it/s]\u001b[A\n",
      "Epoch 112:  90%|█████████ | 230/255 [02:43<00:17,  1.40it/s, loss=0.112, v_num=2, train_loss=0.0189, train_accuracy=1.000, val_loss=0.165, val_accuracy=0.938]\n",
      "Validating:  14%|█▍        | 4/29 [00:02<00:10,  2.49it/s]\u001b[A\n",
      "Epoch 112:  91%|█████████ | 232/255 [02:44<00:16,  1.41it/s, loss=0.112, v_num=2, train_loss=0.0189, train_accuracy=1.000, val_loss=0.165, val_accuracy=0.938]\n",
      "Validating:  21%|██        | 6/29 [00:02<00:06,  3.61it/s]\u001b[A\n",
      "Epoch 112:  92%|█████████▏| 234/255 [02:44<00:14,  1.42it/s, loss=0.112, v_num=2, train_loss=0.0189, train_accuracy=1.000, val_loss=0.165, val_accuracy=0.938]\n",
      "Validating:  28%|██▊       | 8/29 [00:03<00:04,  4.41it/s]\u001b[A\n",
      "Epoch 112:  93%|█████████▎| 236/255 [02:44<00:13,  1.43it/s, loss=0.112, v_num=2, train_loss=0.0189, train_accuracy=1.000, val_loss=0.165, val_accuracy=0.938]\n",
      "Validating:  34%|███▍      | 10/29 [00:03<00:03,  4.85it/s]\u001b[A\n",
      "Epoch 112:  93%|█████████▎| 238/255 [02:45<00:11,  1.44it/s, loss=0.112, v_num=2, train_loss=0.0189, train_accuracy=1.000, val_loss=0.165, val_accuracy=0.938]\n",
      "Validating:  41%|████▏     | 12/29 [00:03<00:03,  5.03it/s]\u001b[A\n",
      "Epoch 112:  94%|█████████▍| 240/255 [02:45<00:10,  1.45it/s, loss=0.112, v_num=2, train_loss=0.0189, train_accuracy=1.000, val_loss=0.165, val_accuracy=0.938]\n",
      "Validating:  48%|████▊     | 14/29 [00:04<00:02,  5.25it/s]\u001b[A\n",
      "Epoch 112:  95%|█████████▍| 242/255 [02:45<00:08,  1.46it/s, loss=0.112, v_num=2, train_loss=0.0189, train_accuracy=1.000, val_loss=0.165, val_accuracy=0.938]\n",
      "Validating:  55%|█████▌    | 16/29 [00:04<00:02,  5.34it/s]\u001b[A\n",
      "Epoch 112:  96%|█████████▌| 244/255 [02:46<00:07,  1.47it/s, loss=0.112, v_num=2, train_loss=0.0189, train_accuracy=1.000, val_loss=0.165, val_accuracy=0.938]\n",
      "Validating:  62%|██████▏   | 18/29 [00:04<00:02,  5.39it/s]\u001b[A\n",
      "Epoch 112:  96%|█████████▋| 246/255 [02:46<00:06,  1.48it/s, loss=0.112, v_num=2, train_loss=0.0189, train_accuracy=1.000, val_loss=0.165, val_accuracy=0.938]\n",
      "Validating:  69%|██████▉   | 20/29 [00:05<00:01,  5.40it/s]\u001b[A\n",
      "Epoch 112:  97%|█████████▋| 248/255 [02:47<00:04,  1.48it/s, loss=0.112, v_num=2, train_loss=0.0189, train_accuracy=1.000, val_loss=0.165, val_accuracy=0.938]\n",
      "Validating:  76%|███████▌  | 22/29 [00:05<00:01,  5.23it/s]\u001b[A\n",
      "Epoch 112:  98%|█████████▊| 250/255 [02:47<00:03,  1.49it/s, loss=0.112, v_num=2, train_loss=0.0189, train_accuracy=1.000, val_loss=0.165, val_accuracy=0.938]\n",
      "Validating:  83%|████████▎ | 24/29 [00:06<00:00,  5.30it/s]\u001b[A\n",
      "Epoch 112:  99%|█████████▉| 252/255 [02:47<00:01,  1.50it/s, loss=0.112, v_num=2, train_loss=0.0189, train_accuracy=1.000, val_loss=0.165, val_accuracy=0.938]\n",
      "Validating:  90%|████████▉ | 26/29 [00:06<00:00,  5.24it/s]\u001b[A\n",
      "Epoch 112: 100%|█████████▉| 254/255 [02:48<00:00,  1.51it/s, loss=0.112, v_num=2, train_loss=0.0189, train_accuracy=1.000, val_loss=0.165, val_accuracy=0.938]\n",
      "Validating:  97%|█████████▋| 28/29 [00:06<00:00,  5.31it/s]\u001b[A\n",
      "Epoch 112: 100%|██████████| 255/255 [02:48<00:00,  1.51it/s, loss=0.112, v_num=2, train_loss=0.0189, train_accuracy=1.000, val_loss=0.162, val_accuracy=0.938]\n",
      "Epoch 112: 100%|██████████| 255/255 [02:48<00:00,  1.51it/s, loss=0.112, v_num=2, train_loss=0.0189, train_accuracy=1.000, val_loss=0.162, val_accuracy=0.938]"
     ]
    },
    {
     "name": "stderr",
     "output_type": "stream",
     "text": [
      "Epoch 112, global step 25537: val_loss reached 0.16178 (best 0.15705), saving model to \"/Workspace/code/checkpoints/best-checkpoint-corr-mi-27-v3.ckpt\" as top 2\n"
     ]
    },
    {
     "name": "stdout",
     "output_type": "stream",
     "text": [
      "Epoch 113:  89%|████████▊ | 226/255 [02:41<00:20,  1.40it/s, loss=0.168, v_num=2, train_loss=0.0427, train_accuracy=1.000, val_loss=0.162, val_accuracy=0.938] \n",
      "Validating: 0it [00:00, ?it/s]\u001b[A\n",
      "Validating:   0%|          | 0/29 [00:00<?, ?it/s]\u001b[A\n",
      "Epoch 113:  89%|████████▉ | 228/255 [02:43<00:19,  1.40it/s, loss=0.168, v_num=2, train_loss=0.0427, train_accuracy=1.000, val_loss=0.162, val_accuracy=0.938]\n",
      "Validating:   7%|▋         | 2/29 [00:01<00:22,  1.19it/s]\u001b[A\n",
      "Epoch 113:  90%|█████████ | 230/255 [02:43<00:17,  1.40it/s, loss=0.168, v_num=2, train_loss=0.0427, train_accuracy=1.000, val_loss=0.162, val_accuracy=0.938]\n",
      "Validating:  14%|█▍        | 4/29 [00:02<00:10,  2.43it/s]\u001b[A\n",
      "Epoch 113:  91%|█████████ | 232/255 [02:44<00:16,  1.41it/s, loss=0.168, v_num=2, train_loss=0.0427, train_accuracy=1.000, val_loss=0.162, val_accuracy=0.938]\n",
      "Validating:  21%|██        | 6/29 [00:02<00:06,  3.43it/s]\u001b[A\n",
      "Epoch 113:  92%|█████████▏| 234/255 [02:44<00:14,  1.42it/s, loss=0.168, v_num=2, train_loss=0.0427, train_accuracy=1.000, val_loss=0.162, val_accuracy=0.938]\n",
      "Validating:  28%|██▊       | 8/29 [00:03<00:04,  4.30it/s]\u001b[A\n",
      "Epoch 113:  93%|█████████▎| 236/255 [02:44<00:13,  1.43it/s, loss=0.168, v_num=2, train_loss=0.0427, train_accuracy=1.000, val_loss=0.162, val_accuracy=0.938]\n",
      "Validating:  34%|███▍      | 10/29 [00:03<00:03,  4.83it/s]\u001b[A\n",
      "Epoch 113:  93%|█████████▎| 238/255 [02:45<00:11,  1.44it/s, loss=0.168, v_num=2, train_loss=0.0427, train_accuracy=1.000, val_loss=0.162, val_accuracy=0.938]\n",
      "Validating:  41%|████▏     | 12/29 [00:03<00:03,  5.11it/s]\u001b[A\n",
      "Epoch 113:  94%|█████████▍| 240/255 [02:45<00:10,  1.45it/s, loss=0.168, v_num=2, train_loss=0.0427, train_accuracy=1.000, val_loss=0.162, val_accuracy=0.938]\n",
      "Validating:  48%|████▊     | 14/29 [00:04<00:02,  5.28it/s]\u001b[A\n",
      "Epoch 113:  95%|█████████▍| 242/255 [02:45<00:08,  1.46it/s, loss=0.168, v_num=2, train_loss=0.0427, train_accuracy=1.000, val_loss=0.162, val_accuracy=0.938]\n",
      "Validating:  55%|█████▌    | 16/29 [00:04<00:02,  5.36it/s]\u001b[A\n",
      "Epoch 113:  96%|█████████▌| 244/255 [02:46<00:07,  1.47it/s, loss=0.168, v_num=2, train_loss=0.0427, train_accuracy=1.000, val_loss=0.162, val_accuracy=0.938]\n",
      "Validating:  62%|██████▏   | 18/29 [00:04<00:02,  5.32it/s]\u001b[A\n",
      "Epoch 113:  96%|█████████▋| 246/255 [02:46<00:06,  1.48it/s, loss=0.168, v_num=2, train_loss=0.0427, train_accuracy=1.000, val_loss=0.162, val_accuracy=0.938]\n",
      "Validating:  69%|██████▉   | 20/29 [00:05<00:01,  5.41it/s]\u001b[A\n",
      "Epoch 113:  97%|█████████▋| 248/255 [02:47<00:04,  1.48it/s, loss=0.168, v_num=2, train_loss=0.0427, train_accuracy=1.000, val_loss=0.162, val_accuracy=0.938]\n",
      "Validating:  76%|███████▌  | 22/29 [00:05<00:01,  5.43it/s]\u001b[A\n",
      "Epoch 113:  98%|█████████▊| 250/255 [02:47<00:03,  1.49it/s, loss=0.168, v_num=2, train_loss=0.0427, train_accuracy=1.000, val_loss=0.162, val_accuracy=0.938]\n",
      "Validating:  83%|████████▎ | 24/29 [00:06<00:00,  5.48it/s]\u001b[A\n",
      "Epoch 113:  99%|█████████▉| 252/255 [02:47<00:01,  1.50it/s, loss=0.168, v_num=2, train_loss=0.0427, train_accuracy=1.000, val_loss=0.162, val_accuracy=0.938]\n",
      "Validating:  90%|████████▉ | 26/29 [00:06<00:00,  5.43it/s]\u001b[A\n",
      "Epoch 113: 100%|█████████▉| 254/255 [02:48<00:00,  1.51it/s, loss=0.168, v_num=2, train_loss=0.0427, train_accuracy=1.000, val_loss=0.162, val_accuracy=0.938]\n",
      "Validating:  97%|█████████▋| 28/29 [00:06<00:00,  5.29it/s]\u001b[A\n",
      "Epoch 113: 100%|██████████| 255/255 [02:48<00:00,  1.51it/s, loss=0.168, v_num=2, train_loss=0.0427, train_accuracy=1.000, val_loss=0.193, val_accuracy=0.928]\n",
      "Epoch 113: 100%|██████████| 255/255 [02:48<00:00,  1.51it/s, loss=0.168, v_num=2, train_loss=0.0427, train_accuracy=1.000, val_loss=0.193, val_accuracy=0.928]"
     ]
    },
    {
     "name": "stderr",
     "output_type": "stream",
     "text": [
      "Epoch 113, global step 25763: val_loss was not in top 2\n"
     ]
    },
    {
     "name": "stdout",
     "output_type": "stream",
     "text": [
      "Epoch 114:  89%|████████▊ | 226/255 [02:41<00:20,  1.40it/s, loss=0.152, v_num=2, train_loss=0.208, train_accuracy=0.944, val_loss=0.193, val_accuracy=0.928]  \n",
      "Validating: 0it [00:00, ?it/s]\u001b[A\n",
      "Validating:   0%|          | 0/29 [00:00<?, ?it/s]\u001b[A\n",
      "Epoch 114:  89%|████████▉ | 228/255 [02:43<00:19,  1.40it/s, loss=0.152, v_num=2, train_loss=0.208, train_accuracy=0.944, val_loss=0.193, val_accuracy=0.928]\n",
      "Validating:   7%|▋         | 2/29 [00:01<00:22,  1.19it/s]\u001b[A\n",
      "Epoch 114:  90%|█████████ | 230/255 [02:43<00:17,  1.41it/s, loss=0.152, v_num=2, train_loss=0.208, train_accuracy=0.944, val_loss=0.193, val_accuracy=0.928]\n",
      "Validating:  14%|█▍        | 4/29 [00:02<00:10,  2.40it/s]\u001b[A\n",
      "Epoch 114:  91%|█████████ | 232/255 [02:43<00:16,  1.42it/s, loss=0.152, v_num=2, train_loss=0.208, train_accuracy=0.944, val_loss=0.193, val_accuracy=0.928]\n",
      "Validating:  21%|██        | 6/29 [00:02<00:06,  3.52it/s]\u001b[A\n",
      "Epoch 114:  92%|█████████▏| 234/255 [02:44<00:14,  1.42it/s, loss=0.152, v_num=2, train_loss=0.208, train_accuracy=0.944, val_loss=0.193, val_accuracy=0.928]\n",
      "Validating:  28%|██▊       | 8/29 [00:03<00:04,  4.36it/s]\u001b[A\n",
      "Epoch 114:  93%|█████████▎| 236/255 [02:44<00:13,  1.43it/s, loss=0.152, v_num=2, train_loss=0.208, train_accuracy=0.944, val_loss=0.193, val_accuracy=0.928]\n",
      "Validating:  34%|███▍      | 10/29 [00:03<00:03,  4.83it/s]\u001b[A\n",
      "Epoch 114:  93%|█████████▎| 238/255 [02:45<00:11,  1.44it/s, loss=0.152, v_num=2, train_loss=0.208, train_accuracy=0.944, val_loss=0.193, val_accuracy=0.928]\n",
      "Validating:  41%|████▏     | 12/29 [00:03<00:03,  5.14it/s]\u001b[A\n",
      "Epoch 114:  94%|█████████▍| 240/255 [02:45<00:10,  1.45it/s, loss=0.152, v_num=2, train_loss=0.208, train_accuracy=0.944, val_loss=0.193, val_accuracy=0.928]\n",
      "Validating:  48%|████▊     | 14/29 [00:04<00:02,  5.30it/s]\u001b[A\n",
      "Epoch 114:  95%|█████████▍| 242/255 [02:45<00:08,  1.46it/s, loss=0.152, v_num=2, train_loss=0.208, train_accuracy=0.944, val_loss=0.193, val_accuracy=0.928]\n",
      "Validating:  55%|█████▌    | 16/29 [00:04<00:02,  5.32it/s]\u001b[A\n",
      "Epoch 114:  96%|█████████▌| 244/255 [02:46<00:07,  1.47it/s, loss=0.152, v_num=2, train_loss=0.208, train_accuracy=0.944, val_loss=0.193, val_accuracy=0.928]\n",
      "Validating:  62%|██████▏   | 18/29 [00:04<00:02,  5.37it/s]\u001b[A\n",
      "Epoch 114:  96%|█████████▋| 246/255 [02:46<00:06,  1.48it/s, loss=0.152, v_num=2, train_loss=0.208, train_accuracy=0.944, val_loss=0.193, val_accuracy=0.928]\n",
      "Validating:  69%|██████▉   | 20/29 [00:05<00:01,  5.39it/s]\u001b[A\n",
      "Epoch 114:  97%|█████████▋| 248/255 [02:46<00:04,  1.49it/s, loss=0.152, v_num=2, train_loss=0.208, train_accuracy=0.944, val_loss=0.193, val_accuracy=0.928]\n",
      "Validating:  76%|███████▌  | 22/29 [00:05<00:01,  5.42it/s]\u001b[A\n",
      "Epoch 114:  98%|█████████▊| 250/255 [02:47<00:03,  1.49it/s, loss=0.152, v_num=2, train_loss=0.208, train_accuracy=0.944, val_loss=0.193, val_accuracy=0.928]\n",
      "Validating:  83%|████████▎ | 24/29 [00:06<00:00,  5.43it/s]\u001b[A\n",
      "Epoch 114:  99%|█████████▉| 252/255 [02:47<00:01,  1.50it/s, loss=0.152, v_num=2, train_loss=0.208, train_accuracy=0.944, val_loss=0.193, val_accuracy=0.928]\n",
      "Validating:  90%|████████▉ | 26/29 [00:06<00:00,  5.40it/s]\u001b[A\n",
      "Epoch 114: 100%|█████████▉| 254/255 [02:48<00:00,  1.51it/s, loss=0.152, v_num=2, train_loss=0.208, train_accuracy=0.944, val_loss=0.193, val_accuracy=0.928]\n",
      "Validating:  97%|█████████▋| 28/29 [00:06<00:00,  5.35it/s]\u001b[A\n",
      "Epoch 114: 100%|██████████| 255/255 [02:48<00:00,  1.51it/s, loss=0.152, v_num=2, train_loss=0.208, train_accuracy=0.944, val_loss=0.164, val_accuracy=0.929]\n",
      "Epoch 114: 100%|██████████| 255/255 [02:48<00:00,  1.51it/s, loss=0.152, v_num=2, train_loss=0.208, train_accuracy=0.944, val_loss=0.164, val_accuracy=0.929]"
     ]
    },
    {
     "name": "stderr",
     "output_type": "stream",
     "text": [
      "Epoch 114, global step 25989: val_loss was not in top 2\n"
     ]
    },
    {
     "name": "stdout",
     "output_type": "stream",
     "text": [
      "Epoch 115:  89%|████████▊ | 226/255 [02:41<00:20,  1.40it/s, loss=0.104, v_num=2, train_loss=0.119, train_accuracy=0.889, val_loss=0.164, val_accuracy=0.929]  \n",
      "Validating: 0it [00:00, ?it/s]\u001b[A\n",
      "Validating:   0%|          | 0/29 [00:00<?, ?it/s]\u001b[A\n",
      "Epoch 115:  89%|████████▉ | 228/255 [02:43<00:19,  1.40it/s, loss=0.104, v_num=2, train_loss=0.119, train_accuracy=0.889, val_loss=0.164, val_accuracy=0.929]\n",
      "Validating:   7%|▋         | 2/29 [00:01<00:22,  1.18it/s]\u001b[A\n",
      "Epoch 115:  90%|█████████ | 230/255 [02:43<00:17,  1.41it/s, loss=0.104, v_num=2, train_loss=0.119, train_accuracy=0.889, val_loss=0.164, val_accuracy=0.929]\n",
      "Validating:  14%|█▍        | 4/29 [00:02<00:10,  2.43it/s]\u001b[A\n",
      "Epoch 115:  91%|█████████ | 232/255 [02:43<00:16,  1.42it/s, loss=0.104, v_num=2, train_loss=0.119, train_accuracy=0.889, val_loss=0.164, val_accuracy=0.929]\n",
      "Validating:  21%|██        | 6/29 [00:02<00:06,  3.53it/s]\u001b[A\n",
      "Epoch 115:  92%|█████████▏| 234/255 [02:44<00:14,  1.43it/s, loss=0.104, v_num=2, train_loss=0.119, train_accuracy=0.889, val_loss=0.164, val_accuracy=0.929]\n",
      "Validating:  28%|██▊       | 8/29 [00:03<00:04,  4.37it/s]\u001b[A\n",
      "Epoch 115:  93%|█████████▎| 236/255 [02:44<00:13,  1.43it/s, loss=0.104, v_num=2, train_loss=0.119, train_accuracy=0.889, val_loss=0.164, val_accuracy=0.929]\n",
      "Validating:  34%|███▍      | 10/29 [00:03<00:03,  4.86it/s]\u001b[A\n",
      "Epoch 115:  93%|█████████▎| 238/255 [02:44<00:11,  1.44it/s, loss=0.104, v_num=2, train_loss=0.119, train_accuracy=0.889, val_loss=0.164, val_accuracy=0.929]\n",
      "Validating:  41%|████▏     | 12/29 [00:03<00:03,  5.13it/s]\u001b[A\n",
      "Epoch 115:  94%|█████████▍| 240/255 [02:45<00:10,  1.45it/s, loss=0.104, v_num=2, train_loss=0.119, train_accuracy=0.889, val_loss=0.164, val_accuracy=0.929]\n",
      "Validating:  48%|████▊     | 14/29 [00:04<00:02,  5.27it/s]\u001b[A\n",
      "Epoch 115:  95%|█████████▍| 242/255 [02:45<00:08,  1.46it/s, loss=0.104, v_num=2, train_loss=0.119, train_accuracy=0.889, val_loss=0.164, val_accuracy=0.929]\n",
      "Validating:  55%|█████▌    | 16/29 [00:04<00:02,  5.36it/s]\u001b[A\n",
      "Epoch 115:  96%|█████████▌| 244/255 [02:46<00:07,  1.47it/s, loss=0.104, v_num=2, train_loss=0.119, train_accuracy=0.889, val_loss=0.164, val_accuracy=0.929]\n",
      "Validating:  62%|██████▏   | 18/29 [00:04<00:02,  5.39it/s]\u001b[A\n",
      "Epoch 115:  96%|█████████▋| 246/255 [02:46<00:06,  1.48it/s, loss=0.104, v_num=2, train_loss=0.119, train_accuracy=0.889, val_loss=0.164, val_accuracy=0.929]\n",
      "Validating:  69%|██████▉   | 20/29 [00:05<00:01,  5.35it/s]\u001b[A\n",
      "Epoch 115:  97%|█████████▋| 248/255 [02:46<00:04,  1.49it/s, loss=0.104, v_num=2, train_loss=0.119, train_accuracy=0.889, val_loss=0.164, val_accuracy=0.929]\n",
      "Validating:  76%|███████▌  | 22/29 [00:05<00:01,  5.33it/s]\u001b[A\n",
      "Epoch 115:  98%|█████████▊| 250/255 [02:47<00:03,  1.50it/s, loss=0.104, v_num=2, train_loss=0.119, train_accuracy=0.889, val_loss=0.164, val_accuracy=0.929]\n",
      "Validating:  83%|████████▎ | 24/29 [00:06<00:00,  5.36it/s]\u001b[A\n",
      "Epoch 115:  99%|█████████▉| 252/255 [02:47<00:01,  1.50it/s, loss=0.104, v_num=2, train_loss=0.119, train_accuracy=0.889, val_loss=0.164, val_accuracy=0.929]\n",
      "Validating:  90%|████████▉ | 26/29 [00:06<00:00,  5.37it/s]\u001b[A\n",
      "Epoch 115: 100%|█████████▉| 254/255 [02:47<00:00,  1.51it/s, loss=0.104, v_num=2, train_loss=0.119, train_accuracy=0.889, val_loss=0.164, val_accuracy=0.929]\n",
      "Validating:  97%|█████████▋| 28/29 [00:06<00:00,  5.37it/s]\u001b[A\n",
      "Epoch 115: 100%|██████████| 255/255 [02:48<00:00,  1.51it/s, loss=0.104, v_num=2, train_loss=0.119, train_accuracy=0.889, val_loss=0.152, val_accuracy=0.933]\n",
      "Epoch 115: 100%|██████████| 255/255 [02:48<00:00,  1.51it/s, loss=0.104, v_num=2, train_loss=0.119, train_accuracy=0.889, val_loss=0.152, val_accuracy=0.933]"
     ]
    },
    {
     "name": "stderr",
     "output_type": "stream",
     "text": [
      "Epoch 115, global step 26215: val_loss reached 0.15245 (best 0.15245), saving model to \"/Workspace/code/checkpoints/best-checkpoint-corr-mi-27-v3.ckpt\" as top 2\n"
     ]
    },
    {
     "name": "stdout",
     "output_type": "stream",
     "text": [
      "Epoch 116:  89%|████████▊ | 226/255 [02:41<00:20,  1.40it/s, loss=0.0968, v_num=2, train_loss=0.123, train_accuracy=0.944, val_loss=0.152, val_accuracy=0.933] \n",
      "Validating: 0it [00:00, ?it/s]\u001b[A\n",
      "Validating:   0%|          | 0/29 [00:00<?, ?it/s]\u001b[A\n",
      "Epoch 116:  89%|████████▉ | 228/255 [02:43<00:19,  1.40it/s, loss=0.0968, v_num=2, train_loss=0.123, train_accuracy=0.944, val_loss=0.152, val_accuracy=0.933]\n",
      "Validating:   7%|▋         | 2/29 [00:01<00:23,  1.17it/s]\u001b[A\n",
      "Epoch 116:  90%|█████████ | 230/255 [02:43<00:17,  1.41it/s, loss=0.0968, v_num=2, train_loss=0.123, train_accuracy=0.944, val_loss=0.152, val_accuracy=0.933]\n",
      "Validating:  14%|█▍        | 4/29 [00:02<00:10,  2.43it/s]\u001b[A\n",
      "Epoch 116:  91%|█████████ | 232/255 [02:43<00:16,  1.41it/s, loss=0.0968, v_num=2, train_loss=0.123, train_accuracy=0.944, val_loss=0.152, val_accuracy=0.933]\n",
      "Validating:  21%|██        | 6/29 [00:02<00:06,  3.49it/s]\u001b[A\n",
      "Epoch 116:  92%|█████████▏| 234/255 [02:44<00:14,  1.42it/s, loss=0.0968, v_num=2, train_loss=0.123, train_accuracy=0.944, val_loss=0.152, val_accuracy=0.933]\n",
      "Validating:  28%|██▊       | 8/29 [00:03<00:04,  4.32it/s]\u001b[A\n",
      "Epoch 116:  93%|█████████▎| 236/255 [02:44<00:13,  1.43it/s, loss=0.0968, v_num=2, train_loss=0.123, train_accuracy=0.944, val_loss=0.152, val_accuracy=0.933]\n",
      "Validating:  34%|███▍      | 10/29 [00:03<00:03,  4.81it/s]\u001b[A\n",
      "Epoch 116:  93%|█████████▎| 238/255 [02:45<00:11,  1.44it/s, loss=0.0968, v_num=2, train_loss=0.123, train_accuracy=0.944, val_loss=0.152, val_accuracy=0.933]\n",
      "Validating:  41%|████▏     | 12/29 [00:03<00:03,  5.03it/s]\u001b[A\n",
      "Epoch 116:  94%|█████████▍| 240/255 [02:45<00:10,  1.45it/s, loss=0.0968, v_num=2, train_loss=0.123, train_accuracy=0.944, val_loss=0.152, val_accuracy=0.933]\n",
      "Validating:  48%|████▊     | 14/29 [00:04<00:02,  5.05it/s]\u001b[A\n",
      "Epoch 116:  95%|█████████▍| 242/255 [02:45<00:08,  1.46it/s, loss=0.0968, v_num=2, train_loss=0.123, train_accuracy=0.944, val_loss=0.152, val_accuracy=0.933]\n",
      "Validating:  55%|█████▌    | 16/29 [00:04<00:02,  5.25it/s]\u001b[A\n",
      "Epoch 116:  96%|█████████▌| 244/255 [02:46<00:07,  1.47it/s, loss=0.0968, v_num=2, train_loss=0.123, train_accuracy=0.944, val_loss=0.152, val_accuracy=0.933]\n",
      "Validating:  62%|██████▏   | 18/29 [00:05<00:02,  5.37it/s]\u001b[A\n",
      "Epoch 116:  96%|█████████▋| 246/255 [02:46<00:06,  1.48it/s, loss=0.0968, v_num=2, train_loss=0.123, train_accuracy=0.944, val_loss=0.152, val_accuracy=0.933]\n",
      "Validating:  69%|██████▉   | 20/29 [00:05<00:01,  5.37it/s]\u001b[A\n",
      "Epoch 116:  97%|█████████▋| 248/255 [02:46<00:04,  1.49it/s, loss=0.0968, v_num=2, train_loss=0.123, train_accuracy=0.944, val_loss=0.152, val_accuracy=0.933]\n",
      "Validating:  76%|███████▌  | 22/29 [00:05<00:01,  5.36it/s]\u001b[A\n",
      "Epoch 116:  98%|█████████▊| 250/255 [02:47<00:03,  1.49it/s, loss=0.0968, v_num=2, train_loss=0.123, train_accuracy=0.944, val_loss=0.152, val_accuracy=0.933]\n",
      "Validating:  83%|████████▎ | 24/29 [00:06<00:00,  5.37it/s]\u001b[A\n",
      "Epoch 116:  99%|█████████▉| 252/255 [02:47<00:01,  1.50it/s, loss=0.0968, v_num=2, train_loss=0.123, train_accuracy=0.944, val_loss=0.152, val_accuracy=0.933]\n",
      "Validating:  90%|████████▉ | 26/29 [00:06<00:00,  5.40it/s]\u001b[A\n",
      "Epoch 116: 100%|█████████▉| 254/255 [02:48<00:00,  1.51it/s, loss=0.0968, v_num=2, train_loss=0.123, train_accuracy=0.944, val_loss=0.152, val_accuracy=0.933]\n",
      "Validating:  97%|█████████▋| 28/29 [00:06<00:00,  5.36it/s]\u001b[A\n",
      "Epoch 116: 100%|██████████| 255/255 [02:48<00:00,  1.51it/s, loss=0.0968, v_num=2, train_loss=0.123, train_accuracy=0.944, val_loss=0.181, val_accuracy=0.927]\n",
      "Epoch 116: 100%|██████████| 255/255 [02:48<00:00,  1.51it/s, loss=0.0968, v_num=2, train_loss=0.123, train_accuracy=0.944, val_loss=0.181, val_accuracy=0.927]"
     ]
    },
    {
     "name": "stderr",
     "output_type": "stream",
     "text": [
      "Epoch 116, global step 26441: val_loss was not in top 2\n"
     ]
    },
    {
     "name": "stdout",
     "output_type": "stream",
     "text": [
      "Epoch 117:  89%|████████▊ | 226/255 [02:41<00:20,  1.40it/s, loss=0.109, v_num=2, train_loss=0.0633, train_accuracy=1.000, val_loss=0.181, val_accuracy=0.927] \n",
      "Validating: 0it [00:00, ?it/s]\u001b[A\n",
      "Validating:   0%|          | 0/29 [00:00<?, ?it/s]\u001b[A\n",
      "Epoch 117:  89%|████████▉ | 228/255 [02:43<00:19,  1.40it/s, loss=0.109, v_num=2, train_loss=0.0633, train_accuracy=1.000, val_loss=0.181, val_accuracy=0.927]\n",
      "Validating:   7%|▋         | 2/29 [00:01<00:22,  1.19it/s]\u001b[A\n",
      "Epoch 117:  90%|█████████ | 230/255 [02:43<00:17,  1.41it/s, loss=0.109, v_num=2, train_loss=0.0633, train_accuracy=1.000, val_loss=0.181, val_accuracy=0.927]\n",
      "Validating:  14%|█▍        | 4/29 [00:02<00:10,  2.49it/s]\u001b[A\n",
      "Epoch 117:  91%|█████████ | 232/255 [02:43<00:16,  1.42it/s, loss=0.109, v_num=2, train_loss=0.0633, train_accuracy=1.000, val_loss=0.181, val_accuracy=0.927]\n",
      "Validating:  21%|██        | 6/29 [00:02<00:06,  3.62it/s]\u001b[A\n",
      "Epoch 117:  92%|█████████▏| 234/255 [02:44<00:14,  1.42it/s, loss=0.109, v_num=2, train_loss=0.0633, train_accuracy=1.000, val_loss=0.181, val_accuracy=0.927]\n",
      "Validating:  28%|██▊       | 8/29 [00:03<00:04,  4.34it/s]\u001b[A\n",
      "Epoch 117:  93%|█████████▎| 236/255 [02:44<00:13,  1.43it/s, loss=0.109, v_num=2, train_loss=0.0633, train_accuracy=1.000, val_loss=0.181, val_accuracy=0.927]\n",
      "Validating:  34%|███▍      | 10/29 [00:03<00:03,  4.89it/s]\u001b[A\n",
      "Epoch 117:  93%|█████████▎| 238/255 [02:44<00:11,  1.44it/s, loss=0.109, v_num=2, train_loss=0.0633, train_accuracy=1.000, val_loss=0.181, val_accuracy=0.927]\n",
      "Validating:  41%|████▏     | 12/29 [00:03<00:03,  5.15it/s]\u001b[A\n",
      "Epoch 117:  94%|█████████▍| 240/255 [02:45<00:10,  1.45it/s, loss=0.109, v_num=2, train_loss=0.0633, train_accuracy=1.000, val_loss=0.181, val_accuracy=0.927]\n",
      "Validating:  48%|████▊     | 14/29 [00:04<00:02,  5.30it/s]\u001b[A\n",
      "Epoch 117:  95%|█████████▍| 242/255 [02:45<00:08,  1.46it/s, loss=0.109, v_num=2, train_loss=0.0633, train_accuracy=1.000, val_loss=0.181, val_accuracy=0.927]\n",
      "Validating:  55%|█████▌    | 16/29 [00:04<00:02,  5.36it/s]\u001b[A\n",
      "Epoch 117:  96%|█████████▌| 244/255 [02:46<00:07,  1.47it/s, loss=0.109, v_num=2, train_loss=0.0633, train_accuracy=1.000, val_loss=0.181, val_accuracy=0.927]\n",
      "Validating:  62%|██████▏   | 18/29 [00:04<00:02,  5.41it/s]\u001b[A\n",
      "Epoch 117:  96%|█████████▋| 246/255 [02:46<00:06,  1.48it/s, loss=0.109, v_num=2, train_loss=0.0633, train_accuracy=1.000, val_loss=0.181, val_accuracy=0.927]\n",
      "Validating:  69%|██████▉   | 20/29 [00:05<00:01,  5.39it/s]\u001b[A\n",
      "Epoch 117:  97%|█████████▋| 248/255 [02:46<00:04,  1.49it/s, loss=0.109, v_num=2, train_loss=0.0633, train_accuracy=1.000, val_loss=0.181, val_accuracy=0.927]\n",
      "Validating:  76%|███████▌  | 22/29 [00:05<00:01,  5.43it/s]\u001b[A\n",
      "Epoch 117:  98%|█████████▊| 250/255 [02:47<00:03,  1.50it/s, loss=0.109, v_num=2, train_loss=0.0633, train_accuracy=1.000, val_loss=0.181, val_accuracy=0.927]\n",
      "Validating:  83%|████████▎ | 24/29 [00:06<00:00,  5.40it/s]\u001b[A\n",
      "Epoch 117:  99%|█████████▉| 252/255 [02:47<00:01,  1.50it/s, loss=0.109, v_num=2, train_loss=0.0633, train_accuracy=1.000, val_loss=0.181, val_accuracy=0.927]\n",
      "Validating:  90%|████████▉ | 26/29 [00:06<00:00,  5.39it/s]\u001b[A\n",
      "Epoch 117: 100%|█████████▉| 254/255 [02:47<00:00,  1.51it/s, loss=0.109, v_num=2, train_loss=0.0633, train_accuracy=1.000, val_loss=0.181, val_accuracy=0.927]\n",
      "Validating:  97%|█████████▋| 28/29 [00:06<00:00,  5.35it/s]\u001b[A\n",
      "Epoch 117: 100%|██████████| 255/255 [02:48<00:00,  1.51it/s, loss=0.109, v_num=2, train_loss=0.0633, train_accuracy=1.000, val_loss=0.148, val_accuracy=0.938]\n",
      "Epoch 117: 100%|██████████| 255/255 [02:48<00:00,  1.51it/s, loss=0.109, v_num=2, train_loss=0.0633, train_accuracy=1.000, val_loss=0.148, val_accuracy=0.938]"
     ]
    },
    {
     "name": "stderr",
     "output_type": "stream",
     "text": [
      "Epoch 117, global step 26667: val_loss reached 0.14831 (best 0.14831), saving model to \"/Workspace/code/checkpoints/best-checkpoint-corr-mi-27-v2.ckpt\" as top 2\n"
     ]
    },
    {
     "name": "stdout",
     "output_type": "stream",
     "text": [
      "Epoch 118:  89%|████████▊ | 226/255 [02:41<00:20,  1.40it/s, loss=0.111, v_num=2, train_loss=0.171, train_accuracy=0.944, val_loss=0.148, val_accuracy=0.938]  \n",
      "Validating: 0it [00:00, ?it/s]\u001b[A\n",
      "Validating:   0%|          | 0/29 [00:00<?, ?it/s]\u001b[A\n",
      "Epoch 118:  89%|████████▉ | 228/255 [02:43<00:19,  1.40it/s, loss=0.111, v_num=2, train_loss=0.171, train_accuracy=0.944, val_loss=0.148, val_accuracy=0.938]\n",
      "Validating:   7%|▋         | 2/29 [00:01<00:22,  1.18it/s]\u001b[A\n",
      "Epoch 118:  90%|█████████ | 230/255 [02:43<00:17,  1.40it/s, loss=0.111, v_num=2, train_loss=0.171, train_accuracy=0.944, val_loss=0.148, val_accuracy=0.938]\n",
      "Validating:  14%|█▍        | 4/29 [00:02<00:10,  2.49it/s]\u001b[A\n",
      "Epoch 118:  91%|█████████ | 232/255 [02:44<00:16,  1.41it/s, loss=0.111, v_num=2, train_loss=0.171, train_accuracy=0.944, val_loss=0.148, val_accuracy=0.938]\n",
      "Validating:  21%|██        | 6/29 [00:02<00:06,  3.63it/s]\u001b[A\n",
      "Epoch 118:  92%|█████████▏| 234/255 [02:44<00:14,  1.42it/s, loss=0.111, v_num=2, train_loss=0.171, train_accuracy=0.944, val_loss=0.148, val_accuracy=0.938]\n",
      "Validating:  28%|██▊       | 8/29 [00:03<00:04,  4.40it/s]\u001b[A\n",
      "Epoch 118:  93%|█████████▎| 236/255 [02:44<00:13,  1.43it/s, loss=0.111, v_num=2, train_loss=0.171, train_accuracy=0.944, val_loss=0.148, val_accuracy=0.938]\n",
      "Validating:  34%|███▍      | 10/29 [00:03<00:03,  4.79it/s]\u001b[A\n",
      "Epoch 118:  93%|█████████▎| 238/255 [02:45<00:11,  1.44it/s, loss=0.111, v_num=2, train_loss=0.171, train_accuracy=0.944, val_loss=0.148, val_accuracy=0.938]\n",
      "Validating:  41%|████▏     | 12/29 [00:03<00:03,  5.09it/s]\u001b[A\n",
      "Epoch 118:  94%|█████████▍| 240/255 [02:45<00:10,  1.45it/s, loss=0.111, v_num=2, train_loss=0.171, train_accuracy=0.944, val_loss=0.148, val_accuracy=0.938]\n",
      "Validating:  48%|████▊     | 14/29 [00:04<00:02,  5.16it/s]\u001b[A\n",
      "Epoch 118:  95%|█████████▍| 242/255 [02:45<00:08,  1.46it/s, loss=0.111, v_num=2, train_loss=0.171, train_accuracy=0.944, val_loss=0.148, val_accuracy=0.938]\n",
      "Validating:  55%|█████▌    | 16/29 [00:04<00:02,  5.30it/s]\u001b[A\n",
      "Epoch 118:  96%|█████████▌| 244/255 [02:46<00:07,  1.47it/s, loss=0.111, v_num=2, train_loss=0.171, train_accuracy=0.944, val_loss=0.148, val_accuracy=0.938]\n",
      "Validating:  62%|██████▏   | 18/29 [00:04<00:02,  5.34it/s]\u001b[A\n",
      "Epoch 118:  96%|█████████▋| 246/255 [02:46<00:06,  1.48it/s, loss=0.111, v_num=2, train_loss=0.171, train_accuracy=0.944, val_loss=0.148, val_accuracy=0.938]\n",
      "Validating:  69%|██████▉   | 20/29 [00:05<00:01,  5.39it/s]\u001b[A\n",
      "Epoch 118:  97%|█████████▋| 248/255 [02:47<00:04,  1.48it/s, loss=0.111, v_num=2, train_loss=0.171, train_accuracy=0.944, val_loss=0.148, val_accuracy=0.938]\n",
      "Validating:  76%|███████▌  | 22/29 [00:05<00:01,  5.41it/s]\u001b[A\n",
      "Epoch 118:  98%|█████████▊| 250/255 [02:47<00:03,  1.49it/s, loss=0.111, v_num=2, train_loss=0.171, train_accuracy=0.944, val_loss=0.148, val_accuracy=0.938]\n",
      "Validating:  83%|████████▎ | 24/29 [00:06<00:00,  5.42it/s]\u001b[A\n",
      "Epoch 118:  99%|█████████▉| 252/255 [02:47<00:01,  1.50it/s, loss=0.111, v_num=2, train_loss=0.171, train_accuracy=0.944, val_loss=0.148, val_accuracy=0.938]\n",
      "Validating:  90%|████████▉ | 26/29 [00:06<00:00,  5.25it/s]\u001b[A\n",
      "Epoch 118: 100%|█████████▉| 254/255 [02:48<00:00,  1.51it/s, loss=0.111, v_num=2, train_loss=0.171, train_accuracy=0.944, val_loss=0.148, val_accuracy=0.938]\n",
      "Validating:  97%|█████████▋| 28/29 [00:06<00:00,  5.33it/s]\u001b[A\n",
      "Epoch 118: 100%|██████████| 255/255 [02:48<00:00,  1.51it/s, loss=0.111, v_num=2, train_loss=0.171, train_accuracy=0.944, val_loss=0.170, val_accuracy=0.927]\n",
      "Epoch 118: 100%|██████████| 255/255 [02:48<00:00,  1.51it/s, loss=0.111, v_num=2, train_loss=0.171, train_accuracy=0.944, val_loss=0.170, val_accuracy=0.927]"
     ]
    },
    {
     "name": "stderr",
     "output_type": "stream",
     "text": [
      "Epoch 118, global step 26893: val_loss was not in top 2\n"
     ]
    },
    {
     "name": "stdout",
     "output_type": "stream",
     "text": [
      "Epoch 119:  89%|████████▊ | 226/255 [02:41<00:20,  1.40it/s, loss=0.0939, v_num=2, train_loss=0.0417, train_accuracy=1.000, val_loss=0.170, val_accuracy=0.927]\n",
      "Validating: 0it [00:00, ?it/s]\u001b[A\n",
      "Validating:   0%|          | 0/29 [00:00<?, ?it/s]\u001b[A\n",
      "Epoch 119:  89%|████████▉ | 228/255 [02:43<00:19,  1.39it/s, loss=0.0939, v_num=2, train_loss=0.0417, train_accuracy=1.000, val_loss=0.170, val_accuracy=0.927]\n",
      "Validating:   7%|▋         | 2/29 [00:01<00:23,  1.17it/s]\u001b[A\n",
      "Epoch 119:  90%|█████████ | 230/255 [02:43<00:17,  1.40it/s, loss=0.0939, v_num=2, train_loss=0.0417, train_accuracy=1.000, val_loss=0.170, val_accuracy=0.927]\n",
      "Validating:  14%|█▍        | 4/29 [00:02<00:10,  2.44it/s]\u001b[A\n",
      "Epoch 119:  91%|█████████ | 232/255 [02:44<00:16,  1.41it/s, loss=0.0939, v_num=2, train_loss=0.0417, train_accuracy=1.000, val_loss=0.170, val_accuracy=0.927]\n",
      "Validating:  21%|██        | 6/29 [00:02<00:06,  3.47it/s]\u001b[A\n",
      "Epoch 119:  92%|█████████▏| 234/255 [02:44<00:14,  1.42it/s, loss=0.0939, v_num=2, train_loss=0.0417, train_accuracy=1.000, val_loss=0.170, val_accuracy=0.927]\n",
      "Validating:  28%|██▊       | 8/29 [00:03<00:04,  4.23it/s]\u001b[A\n",
      "Epoch 119:  93%|█████████▎| 236/255 [02:45<00:13,  1.43it/s, loss=0.0939, v_num=2, train_loss=0.0417, train_accuracy=1.000, val_loss=0.170, val_accuracy=0.927]\n",
      "Validating:  34%|███▍      | 10/29 [00:03<00:03,  4.76it/s]\u001b[A\n",
      "Epoch 119:  93%|█████████▎| 238/255 [02:45<00:11,  1.44it/s, loss=0.0939, v_num=2, train_loss=0.0417, train_accuracy=1.000, val_loss=0.170, val_accuracy=0.927]\n",
      "Validating:  41%|████▏     | 12/29 [00:03<00:03,  5.00it/s]\u001b[A\n",
      "Epoch 119:  94%|█████████▍| 240/255 [02:45<00:10,  1.45it/s, loss=0.0939, v_num=2, train_loss=0.0417, train_accuracy=1.000, val_loss=0.170, val_accuracy=0.927]\n",
      "Validating:  48%|████▊     | 14/29 [00:04<00:02,  5.23it/s]\u001b[A\n",
      "Epoch 119:  95%|█████████▍| 242/255 [02:46<00:08,  1.46it/s, loss=0.0939, v_num=2, train_loss=0.0417, train_accuracy=1.000, val_loss=0.170, val_accuracy=0.927]\n",
      "Validating:  55%|█████▌    | 16/29 [00:04<00:02,  5.36it/s]\u001b[A\n",
      "Epoch 119:  96%|█████████▌| 244/255 [02:46<00:07,  1.47it/s, loss=0.0939, v_num=2, train_loss=0.0417, train_accuracy=1.000, val_loss=0.170, val_accuracy=0.927]\n",
      "Validating:  62%|██████▏   | 18/29 [00:05<00:02,  5.38it/s]\u001b[A\n",
      "Epoch 119:  96%|█████████▋| 246/255 [02:46<00:06,  1.47it/s, loss=0.0939, v_num=2, train_loss=0.0417, train_accuracy=1.000, val_loss=0.170, val_accuracy=0.927]\n",
      "Validating:  69%|██████▉   | 20/29 [00:05<00:01,  5.36it/s]\u001b[A\n",
      "Epoch 119:  97%|█████████▋| 248/255 [02:47<00:04,  1.48it/s, loss=0.0939, v_num=2, train_loss=0.0417, train_accuracy=1.000, val_loss=0.170, val_accuracy=0.927]\n",
      "Validating:  76%|███████▌  | 22/29 [00:05<00:01,  5.39it/s]\u001b[A\n",
      "Epoch 119:  98%|█████████▊| 250/255 [02:47<00:03,  1.49it/s, loss=0.0939, v_num=2, train_loss=0.0417, train_accuracy=1.000, val_loss=0.170, val_accuracy=0.927]\n",
      "Validating:  83%|████████▎ | 24/29 [00:06<00:00,  5.41it/s]\u001b[A\n",
      "Epoch 119:  99%|█████████▉| 252/255 [02:47<00:01,  1.50it/s, loss=0.0939, v_num=2, train_loss=0.0417, train_accuracy=1.000, val_loss=0.170, val_accuracy=0.927]\n",
      "Validating:  90%|████████▉ | 26/29 [00:06<00:00,  5.41it/s]\u001b[A\n",
      "Epoch 119: 100%|█████████▉| 254/255 [02:48<00:00,  1.51it/s, loss=0.0939, v_num=2, train_loss=0.0417, train_accuracy=1.000, val_loss=0.170, val_accuracy=0.927]\n",
      "Validating:  97%|█████████▋| 28/29 [00:06<00:00,  5.39it/s]\u001b[A\n",
      "Epoch 119: 100%|██████████| 255/255 [02:48<00:00,  1.51it/s, loss=0.0939, v_num=2, train_loss=0.0417, train_accuracy=1.000, val_loss=0.162, val_accuracy=0.935]\n",
      "Epoch 119: 100%|██████████| 255/255 [02:48<00:00,  1.51it/s, loss=0.0939, v_num=2, train_loss=0.0417, train_accuracy=1.000, val_loss=0.162, val_accuracy=0.935]"
     ]
    },
    {
     "name": "stderr",
     "output_type": "stream",
     "text": [
      "Epoch 119, global step 27119: val_loss was not in top 2\n"
     ]
    },
    {
     "name": "stdout",
     "output_type": "stream",
     "text": [
      "Epoch 120:  23%|██▎       | 58/255 [00:42<02:24,  1.36it/s, loss=0.107, v_num=2, train_loss=0.118, train_accuracy=0.940, val_loss=0.162, val_accuracy=0.935]   "
     ]
    }
   ],
   "source": [
    "n = 27\n",
    "FEATURE_COLUMNS = ORG_FEATURE_COLUMNS[n:]\n",
    "\n",
    "while(n < 30):\n",
    "    print(\"------------------ Round: \" + str(n) + \" ------------------\")\n",
    "    print(FEATURE_COLUMNS)\n",
    "    print(\"Len:\", len(FEATURE_COLUMNS))\n",
    "    \n",
    "    label_encoder = LabelEncoder()\n",
    "    encoded_labels = label_encoder.fit_transform(X_train.state)\n",
    "\n",
    "    label_encoder.classes_\n",
    "\n",
    "    X_train['label'] = encoded_labels\n",
    "\n",
    "    # Prepare data ###########################################\n",
    "    sequences = [] \n",
    "\n",
    "    for name, group in g:\n",
    "        sequence_features = group[FEATURE_COLUMNS]\n",
    "        label = group.label.iloc[0]\n",
    "\n",
    "        # print((sequence_features, label))\n",
    "        sequences.append((sequence_features, label))\n",
    "\n",
    "    # Setting up train, test, val gruop #######################\n",
    "    train_sequences, test_sequences = train_test_split(sequences, test_size=0.2)\n",
    "    val_sequences, test_sequences = train_test_split(test_sequences, test_size=0.5)\n",
    "\n",
    "\n",
    "    # Setting up data module ##################################\n",
    "    data_module = DrowsyDataModule(\n",
    "        train_sequences, val_sequences, test_sequences, BATCH_SIZE\n",
    "    )\n",
    "\n",
    "    model = DrowsyPredictor(\n",
    "        n_features=len(FEATURE_COLUMNS), \n",
    "        n_classes=len(label_encoder.classes_)\n",
    "    )\n",
    "\n",
    "    # Check points and logger #################################\n",
    "    checkpoint_callback = ModelCheckpoint(\n",
    "        dirpath=\"checkpoints\",\n",
    "        filename=\"best-checkpoint-corr-mi-\" + str(n),\n",
    "        save_top_k=2,\n",
    "        verbose=True,\n",
    "        monitor=\"val_loss\",\n",
    "        mode=\"min\"\n",
    "    )\n",
    "\n",
    "    logger = TensorBoardLogger(\"lightning_logs\", name=\"Drowsy_MI\" + str(n))\n",
    "\n",
    "    trainer = pl.Trainer(\n",
    "        logger=logger,\n",
    "        callbacks=[checkpoint_callback],\n",
    "        max_epochs=N_EPOCHS,\n",
    "        gpus=[2],\n",
    "#         gpus=1, \n",
    "#         auto_select_gpus=True,\n",
    "        auto_lr_find=True, \n",
    "        # check_val_every_n_epoch=10\n",
    "        # refresh_rate=20,\n",
    "    )\n",
    "    \n",
    "    # Training start\n",
    "    if (n == 27):\n",
    "        trainer.fit(model, data_module, ckpt_path=\"/Workspace/code/checkpoints/best-checkpoint-corr-mi-27-v3.ckpt\")\n",
    "    else:\n",
    "        trainer.fit(model, data_module)\n",
    "    trainer.test(model, data_module)\n",
    "    \n",
    "    FEATURE_COLUMNS.pop(0)\n",
    "    n = n + 1"
   ]
  },
  {
   "cell_type": "code",
   "execution_count": null,
   "id": "76acf7fd",
   "metadata": {},
   "outputs": [],
   "source": []
  },
  {
   "cell_type": "markdown",
   "id": "62e61f6f",
   "metadata": {},
   "source": [
    "## Load Checkpoint "
   ]
  },
  {
   "cell_type": "code",
   "execution_count": null,
   "id": "677d3cab",
   "metadata": {},
   "outputs": [],
   "source": [
    "# best-checkpoint-corr-3-v1.ckptn\n",
    "# trainer.fit(model, data_module, ckpt_path=\"/Workspace/code/checkpoints/best-checkpoint-corr-3-v1.ckpt\")"
   ]
  }
 ],
 "metadata": {
  "kernelspec": {
   "display_name": "Python 3",
   "language": "python",
   "name": "python3"
  },
  "language_info": {
   "codemirror_mode": {
    "name": "ipython",
    "version": 3
   },
   "file_extension": ".py",
   "mimetype": "text/x-python",
   "name": "python",
   "nbconvert_exporter": "python",
   "pygments_lexer": "ipython3",
   "version": "3.6.9"
  }
 },
 "nbformat": 4,
 "nbformat_minor": 5
}
