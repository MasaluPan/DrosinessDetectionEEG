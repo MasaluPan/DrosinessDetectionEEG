{
 "cells": [
  {
   "cell_type": "code",
   "execution_count": 1,
   "id": "73ee408b",
   "metadata": {},
   "outputs": [
    {
     "name": "stderr",
     "output_type": "stream",
     "text": [
      "/usr/local/lib/python3.6/dist-packages/tqdm/auto.py:22: TqdmWarning: IProgress not found. Please update jupyter and ipywidgets. See https://ipywidgets.readthedocs.io/en/stable/user_install.html\n",
      "  from .autonotebook import tqdm as notebook_tqdm\n"
     ]
    },
    {
     "name": "stdout",
     "output_type": "stream",
     "text": [
      "cuda\n"
     ]
    }
   ],
   "source": [
    "import os\n",
    "import pandas as pd\n",
    "import numpy as np\n",
    "from sklearn.preprocessing import LabelEncoder\n",
    "from sklearn.model_selection import train_test_split\n",
    "from sklearn.metrics import classification_report, confusion_matrix\n",
    "import matplotlib.pyplot as plt\n",
    "\n",
    "import torch\n",
    "from torch import nn, optim\n",
    "from torch.nn import functional as F\n",
    "from torch.utils.data import Dataset, DataLoader\n",
    "\n",
    "import torchmetrics\n",
    "from torchmetrics.functional import accuracy\n",
    "\n",
    "import pytorch_lightning as pl\n",
    "from pytorch_lightning.loggers import TensorBoardLogger\n",
    "from pytorch_lightning.callbacks import ModelCheckpoint\n",
    "\n",
    "device = torch.device(\"cuda\" if torch.cuda.is_available() else \"cpu\")\n",
    "print(device)"
   ]
  },
  {
   "cell_type": "markdown",
   "id": "dba0665e",
   "metadata": {},
   "source": [
    "## Model Setup "
   ]
  },
  {
   "cell_type": "code",
   "execution_count": 2,
   "id": "c1703e27",
   "metadata": {},
   "outputs": [
    {
     "name": "stderr",
     "output_type": "stream",
     "text": [
      "Global seed set to 42\n"
     ]
    }
   ],
   "source": [
    "pl.seed_everything(42, workers=True)\n",
    "\n",
    "class DrowsyDataset(Dataset):\n",
    "    \n",
    "    def __init__(self, sequences):\n",
    "        self.sequences = sequences\n",
    "        \n",
    "    def __len__(self):\n",
    "        return len(self.sequences)\n",
    "    \n",
    "    def __getitem__(self, idx):\n",
    "        sequence, label = self.sequences[idx]\n",
    "        return dict(\n",
    "            sequence=torch.Tensor(sequence.to_numpy()),\n",
    "            label=torch.tensor(label).long()\n",
    "        )\n",
    "    \n",
    "class DrowsyDataModule(pl.LightningDataModule):\n",
    "    \n",
    "    def __init__(self, train_sequences, val_sequences, test_sequences, batch_size):\n",
    "        super().__init__()\n",
    "        self.train_sequences = train_sequences\n",
    "        self.val_sequences = val_sequences\n",
    "        self.test_sequences = test_sequences\n",
    "        self.batch_size = batch_size\n",
    "\n",
    "    def setup(self, stage=None):\n",
    "        self.train_dataset = DrowsyDataset(self.train_sequences)\n",
    "        self.val_dataset = DrowsyDataset(self.val_sequences)\n",
    "        self.test_dataset = DrowsyDataset(self.test_sequences)\n",
    "        \n",
    "    def train_dataloader(self):\n",
    "        return DataLoader(\n",
    "            self.train_dataset,\n",
    "            batch_size=self.batch_size,\n",
    "            shuffle=True,\n",
    "            num_workers=os.cpu_count()\n",
    "        )\n",
    "    \n",
    "    def val_dataloader(self):\n",
    "        return DataLoader(\n",
    "            self.val_dataset,\n",
    "            batch_size=self.batch_size,\n",
    "            shuffle=False,\n",
    "            num_workers=os.cpu_count()\n",
    "        )\n",
    "    \n",
    "    def test_dataloader(self):\n",
    "        return DataLoader(\n",
    "            self.test_dataset,\n",
    "            batch_size=self.batch_size,\n",
    "            shuffle=False,\n",
    "            num_workers=os.cpu_count()\n",
    "        ) \n",
    "\n",
    "class DrowsyModel(nn.Module):\n",
    "    \n",
    "    def __init__(self, n_features, n_classes, n_hidden=256, n_layers=3):\n",
    "        super().__init__()\n",
    "        \n",
    "        self.n_hidden = n_hidden\n",
    "        \n",
    "        self.lstm = nn.LSTM(\n",
    "            input_size=n_features,\n",
    "            hidden_size=n_hidden,\n",
    "            num_layers=n_layers,\n",
    "            batch_first=True,\n",
    "            dropout=0.75\n",
    "        )\n",
    "        \n",
    "        self.classifier = nn.Linear(n_hidden, n_classes)\n",
    "        \n",
    "    def forward(self, x):\n",
    "        self.lstm.flatten_parameters()\n",
    "        _, (hidden, _) = self.lstm(x)\n",
    "        \n",
    "        out = hidden[-1]\n",
    "        return self.classifier(out)\n",
    "    \n",
    "class DrowsyPredictor(pl.LightningModule):\n",
    "    \n",
    "    def __init__(self, n_features: int, n_classes: int):\n",
    "        super().__init__()\n",
    "        self.model = DrowsyModel(n_features, n_classes)\n",
    "        self.criterion = nn.CrossEntropyLoss()\n",
    "        \n",
    "    def forward(self, x, label=None):\n",
    "        output = self.model(x)\n",
    "        loss = 0\n",
    "        if label is not None:\n",
    "            loss = self.criterion(output, label)\n",
    "        return loss, output\n",
    "        \n",
    "    def training_step(self, batch, batch_idx):\n",
    "        sequences = batch[\"sequence\"]\n",
    "        labels = batch[\"label\"]\n",
    "        loss, outputs = self(sequences, labels)\n",
    "        predictions = torch.argmax(outputs, dim=1)\n",
    "        step_accuracy = accuracy(predictions, labels)\n",
    "        \n",
    "        self.log(\"train_loss\", loss, prog_bar=True, logger=True)\n",
    "        self.log(\"train_accuracy\", step_accuracy, prog_bar=True, logger=True)\n",
    "        \n",
    "        return {\"loss\": loss, \"accuracy\": step_accuracy}\n",
    "    \n",
    "    def validation_step(self, batch, batch_idx):\n",
    "        sequences = batch[\"sequence\"]\n",
    "        labels = batch[\"label\"]\n",
    "        loss, outputs = self(sequences, labels)\n",
    "        predictions = torch.argmax(outputs, dim=1)\n",
    "        step_accuracy = accuracy(predictions, labels)\n",
    "        \n",
    "        self.log(\"val_loss\", loss, prog_bar=True, logger=True)\n",
    "        self.log(\"val_accuracy\", step_accuracy, prog_bar=True, logger=True)\n",
    "        \n",
    "        return {\"loss\": loss, \"accuracy\": step_accuracy}\n",
    "    \n",
    "    def test_step(self, batch, batch_idx):\n",
    "        sequences = batch[\"sequence\"]\n",
    "        labels = batch[\"label\"]\n",
    "        loss, outputs = self(sequences, labels)\n",
    "        predictions = torch.argmax(outputs, dim=1)\n",
    "        step_accuracy = accuracy(predictions, labels)\n",
    "        \n",
    "        self.log(\"test_loss\", loss, prog_bar=True, logger=True)\n",
    "        self.log(\"test_accuracy\", step_accuracy, prog_bar=True, logger=True)\n",
    "        \n",
    "        return {\"loss\": loss, \"accuracy\": step_accuracy}\n",
    "    \n",
    "    def configure_optimizers(self):\n",
    "        return optim.Adam(self.parameters(), lr=0.0001)"
   ]
  },
  {
   "cell_type": "markdown",
   "id": "ad2dc18a",
   "metadata": {},
   "source": [
    "## 參數設置"
   ]
  },
  {
   "cell_type": "code",
   "execution_count": null,
   "id": "6907a100",
   "metadata": {},
   "outputs": [],
   "source": []
  },
  {
   "cell_type": "code",
   "execution_count": 3,
   "id": "4a725d49",
   "metadata": {},
   "outputs": [
    {
     "data": {
      "text/plain": [
       "ERROR: Failed to launch TensorBoard (exited with -6).\n",
       "Contents of stderr:\n",
       "2022-03-08 08:41:33.916283: I tensorflow/stream_executor/platform/default/dso_loader.cc:48] Successfully opened dynamic library libcudart.so.10.1\n",
       "E0308 08:42:11.963188 140516159272768 program.py:312] TensorBoard could not bind to port 8888, it was already in use\n",
       "ERROR: TensorBoard could not bind to port 8888, it was already in use\n",
       "terminate called without an active exception\n",
       "Fatal Python error: Aborted\n",
       "\n",
       "Current thread 0x00007fcc006cc700 (most recent call first):\n",
       "  File \"/usr/local/lib/python3.6/dist-packages/tensorflow/python/lib/io/file_io.py\", line 700 in list_directory_v2\n",
       "  File \"/usr/local/lib/python3.6/dist-packages/tensorboard/backend/event_processing/io_wrapper.py\", line 89 in ListDirectoryAbsolute\n",
       "  File \"/usr/local/lib/python3.6/dist-packages/tensorboard/backend/event_processing/directory_watcher.py\", line 212 in _GetNextPath\n",
       "  File \"/usr/local/lib/python3.6/dist-packages/tensorboard/backend/event_processing/directory_watcher.py\", line 175 in _InitializeLoader\n",
       "  File \"/usr/local/lib/python3.6/dist-packages/tensorboard/backend/event_processing/directory_watcher.py\", line 112 in _LoadInternal\n",
       "  File \"/usr/local/lib/python3.6/dist-packages/tensorboard/backend/event_processing/directory_watcher.py\", line 90 in Load\n",
       "  File \"/usr/local/lib/python3.6/dist-packages/tensorboard/backend/event_processing/plugin_event_accumulator.py\", line 181 in Reload\n",
       "  File \"/usr/local/lib/python3.6/dist-packages/tensorboard/backend/event_processing/plugin_event_multiplexer.py\", line 237 in Worker\n",
       "  File \"/usr/local/lib/python3.6/dist-packages/tensorboard/backend/event_processing/plugin_event_multiplexer.py\", line 259 in Reload\n",
       "  File \"/usr/local/lib/python3.6/dist-packages/tensorboard/backend/event_processing/data_ingester.py\", line 104 in _reload\n",
       "  File \"/usr/lib/python3.6/threading.py\", line 864 in run\n",
       "  File \"/usr/lib/python3.6/threading.py\", line 916 in _bootstrap_inner\n",
       "  File \"/usr/lib/python3.6/threading.py\", line 884 in _bootstrap\n",
       "\n",
       "Thread 0x00007fcc77c23740 (most recent call first):"
      ]
     },
     "metadata": {},
     "output_type": "display_data"
    }
   ],
   "source": [
    "%load_ext tensorboard\n",
    "%reload_ext tensorboard\n",
    "%tensorboard --logdir ./lightning_logs --host 0.0.0.0 --port=8888"
   ]
  },
  {
   "cell_type": "code",
   "execution_count": 4,
   "id": "fbedfd71",
   "metadata": {},
   "outputs": [],
   "source": [
    "X_train = pd.read_csv('../data2.csv')"
   ]
  },
  {
   "cell_type": "code",
   "execution_count": 5,
   "id": "d89bca4d",
   "metadata": {},
   "outputs": [],
   "source": [
    "N_EPOCHS = 200\n",
    "BATCH_SIZE = 50\n",
    "\n",
    "# randomed \n",
    "ORG_FEATURE_COLUMNS = ['HEOR', 'T5', 'VEOL', 'VEOU', 'F8', 'FZ', 'F7', 'TP8', 'FC3', 'T4', 'HEOL', 'FT10', 'O2', 'FC4', 'FCZ', 'CP3', 'FP2', 'TP7', 'C3', 'F3', 'PZ', 'F4', 'O1', 'FT7', 'CP4', 'FP1', 'C4', 'T6', 'FT8', 'CZ', 'PO1', 'OZ', 'A2', 'A1', 'T3', 'P4', 'P3', 'FT9', 'CPZ', 'PO2']\n",
    "# ['HEOR', 'T5', 'VEOL', 'VEOU', 'F8', 'FZ', 'F7', 'TP8', 'FC3', 'T4', 'HEOL', 'FT10', 'O2', 'FC4', 'FCZ', 'CP3', 'FP2', 'TP7', 'C3', 'F3', 'PZ', 'F4', 'O1', 'FT7', 'CP4', 'FP1', 'C4', 'T6', 'FT8', 'CZ', 'PO1', 'OZ', 'A2', 'A1', 'T3', 'P4', 'P3', 'FT9', 'CPZ', 'PO2']\n",
    "g = X_train.groupby(\"group\")"
   ]
  },
  {
   "cell_type": "code",
   "execution_count": 6,
   "id": "a227ece2",
   "metadata": {},
   "outputs": [],
   "source": [
    "# import random\n",
    "# ORG_FEATURE_COLUMNS = ['TP8', 'FP2', 'FCZ', 'FT10', 'O2', 'O1', 'FT7', 'F4', 'TP7', 'C3', 'C4', 'F3', 'FT8', 'T6', 'HEOR', 'T5', 'VEOL', 'F7', 'FZ', 'VEOU', 'A1', 'P3', 'PZ', 'CP3', 'P4', 'CPZ', 'A2', 'HEOL', 'CP4', 'FT9', 'F8', 'OZ', 'CZ', 'FC4', 'FC3', 'FP1', 'PO1', 'T3', 'T4', 'PO2']\n",
    "# random.shuffle(ORG_FEATURE_COLUMNS)\n",
    "# print(ORG_FEATURE_COLUMNS)"
   ]
  },
  {
   "cell_type": "markdown",
   "id": "90c9ac6d",
   "metadata": {},
   "source": [
    "## Main"
   ]
  },
  {
   "cell_type": "code",
   "execution_count": null,
   "id": "484d3379",
   "metadata": {},
   "outputs": [
    {
     "name": "stdout",
     "output_type": "stream",
     "text": [
      "------------------ Round: 17 ------------------\n",
      "['TP7', 'C3', 'F3', 'PZ', 'F4', 'O1', 'FT7', 'CP4', 'FP1', 'C4', 'T6', 'FT8', 'CZ', 'PO1', 'OZ', 'A2', 'A1', 'T3', 'P4', 'P3', 'FT9', 'CPZ', 'PO2']\n",
      "Len: 23\n"
     ]
    },
    {
     "name": "stderr",
     "output_type": "stream",
     "text": [
      "GPU available: True, used: True\n",
      "TPU available: False, using: 0 TPU cores\n",
      "IPU available: False, using: 0 IPUs\n",
      "Restoring states from the checkpoint path at /Workspace/code/checkpoints/best-checkpoint-corr-mi-17.ckpt\n",
      "LOCAL_RANK: 0 - CUDA_VISIBLE_DEVICES: [0,1,2]\n",
      "/usr/local/lib/python3.6/dist-packages/pytorch_lightning/trainer/connectors/checkpoint_connector.py:251: UserWarning: You're resuming from a checkpoint that ended mid-epoch. Training will start from the beginning of the next epoch. This can cause unreliable results if further training is done, consider using an end of epoch checkpoint.\n",
      "  \"You're resuming from a checkpoint that ended mid-epoch.\"\n",
      "Restored all states from the checkpoint file at /Workspace/code/checkpoints/best-checkpoint-corr-mi-17.ckpt\n",
      "\n",
      "  | Name      | Type             | Params\n",
      "-----------------------------------------------\n",
      "0 | model     | DrowsyModel      | 1.3 M \n",
      "1 | criterion | CrossEntropyLoss | 0     \n",
      "-----------------------------------------------\n",
      "1.3 M     Trainable params\n",
      "0         Non-trainable params\n",
      "1.3 M     Total params\n",
      "5.364     Total estimated model params size (MB)\n",
      "/usr/local/lib/python3.6/dist-packages/pytorch_lightning/callbacks/model_checkpoint.py:631: UserWarning: Checkpoint directory /Workspace/code/checkpoints exists and is not empty.\n",
      "  rank_zero_warn(f\"Checkpoint directory {dirpath} exists and is not empty.\")\n"
     ]
    },
    {
     "name": "stdout",
     "output_type": "stream",
     "text": [
      "                                                                      "
     ]
    },
    {
     "name": "stderr",
     "output_type": "stream",
     "text": [
      "Global seed set to 42\n"
     ]
    },
    {
     "name": "stdout",
     "output_type": "stream",
     "text": [
      "Epoch 199:  89%|████████▊ | 226/255 [01:17<00:09,  2.92it/s, loss=0.0423, v_num=5, train_loss=0.00486, train_accuracy=1.000]\n",
      "Validating: 0it [00:00, ?it/s]\u001b[A\n",
      "Validating:   0%|          | 0/29 [00:00<?, ?it/s]\u001b[A\n",
      "Epoch 199:  89%|████████▉ | 228/255 [01:19<00:09,  2.88it/s, loss=0.0423, v_num=5, train_loss=0.00486, train_accuracy=1.000]\n",
      "Epoch 199:  90%|█████████ | 230/255 [01:19<00:08,  2.90it/s, loss=0.0423, v_num=5, train_loss=0.00486, train_accuracy=1.000]\n",
      "Epoch 199:  91%|█████████ | 232/255 [01:19<00:07,  2.92it/s, loss=0.0423, v_num=5, train_loss=0.00486, train_accuracy=1.000]\n",
      "Epoch 199:  92%|█████████▏| 234/255 [01:19<00:07,  2.94it/s, loss=0.0423, v_num=5, train_loss=0.00486, train_accuracy=1.000]\n",
      "Epoch 199:  93%|█████████▎| 236/255 [01:19<00:06,  2.96it/s, loss=0.0423, v_num=5, train_loss=0.00486, train_accuracy=1.000]\n",
      "Epoch 199:  93%|█████████▎| 238/255 [01:19<00:05,  2.98it/s, loss=0.0423, v_num=5, train_loss=0.00486, train_accuracy=1.000]\n",
      "Epoch 199:  94%|█████████▍| 240/255 [01:20<00:05,  3.00it/s, loss=0.0423, v_num=5, train_loss=0.00486, train_accuracy=1.000]\n",
      "Epoch 199:  95%|█████████▍| 242/255 [01:20<00:04,  3.02it/s, loss=0.0423, v_num=5, train_loss=0.00486, train_accuracy=1.000]\n",
      "Epoch 199:  96%|█████████▌| 244/255 [01:20<00:03,  3.04it/s, loss=0.0423, v_num=5, train_loss=0.00486, train_accuracy=1.000]\n",
      "Epoch 199:  96%|█████████▋| 246/255 [01:20<00:02,  3.06it/s, loss=0.0423, v_num=5, train_loss=0.00486, train_accuracy=1.000]\n",
      "Epoch 199:  97%|█████████▋| 248/255 [01:20<00:02,  3.08it/s, loss=0.0423, v_num=5, train_loss=0.00486, train_accuracy=1.000]\n",
      "Epoch 199:  98%|█████████▊| 250/255 [01:20<00:01,  3.09it/s, loss=0.0423, v_num=5, train_loss=0.00486, train_accuracy=1.000]\n",
      "Epoch 199:  99%|█████████▉| 252/255 [01:20<00:00,  3.11it/s, loss=0.0423, v_num=5, train_loss=0.00486, train_accuracy=1.000]\n",
      "Epoch 199: 100%|█████████▉| 254/255 [01:21<00:00,  3.13it/s, loss=0.0423, v_num=5, train_loss=0.00486, train_accuracy=1.000]\n",
      "Epoch 199: 100%|██████████| 255/255 [01:21<00:00,  3.13it/s, loss=0.0423, v_num=5, train_loss=0.00486, train_accuracy=1.000, val_loss=0.157, val_accuracy=0.945]\n",
      "Epoch 199: 100%|██████████| 255/255 [01:21<00:00,  3.13it/s, loss=0.0423, v_num=5, train_loss=0.00486, train_accuracy=1.000, val_loss=0.157, val_accuracy=0.945]"
     ]
    },
    {
     "name": "stderr",
     "output_type": "stream",
     "text": [
      "Epoch 199, global step 45199: val_loss was not in top 2\n"
     ]
    },
    {
     "name": "stdout",
     "output_type": "stream",
     "text": [
      "Epoch 199: 100%|██████████| 255/255 [01:21<00:00,  3.13it/s, loss=0.0423, v_num=5, train_loss=0.00486, train_accuracy=1.000, val_loss=0.157, val_accuracy=0.945]\n"
     ]
    },
    {
     "name": "stderr",
     "output_type": "stream",
     "text": [
      "LOCAL_RANK: 0 - CUDA_VISIBLE_DEVICES: [0,1,2]\n"
     ]
    },
    {
     "name": "stdout",
     "output_type": "stream",
     "text": [
      "Testing: 100%|██████████| 29/29 [00:03<00:00,  8.66it/s]--------------------------------------------------------------------------------\n",
      "DATALOADER:0 TEST RESULTS\n",
      "{'test_accuracy': 0.9503193497657776, 'test_loss': 0.1399056315422058}\n",
      "--------------------------------------------------------------------------------\n",
      "Testing: 100%|██████████| 29/29 [00:04<00:00,  7.25it/s]\n",
      "------------------ Round: 18 ------------------\n",
      "['C3', 'F3', 'PZ', 'F4', 'O1', 'FT7', 'CP4', 'FP1', 'C4', 'T6', 'FT8', 'CZ', 'PO1', 'OZ', 'A2', 'A1', 'T3', 'P4', 'P3', 'FT9', 'CPZ', 'PO2']\n",
      "Len: 22\n"
     ]
    },
    {
     "name": "stderr",
     "output_type": "stream",
     "text": [
      "GPU available: True, used: True\n",
      "TPU available: False, using: 0 TPU cores\n",
      "IPU available: False, using: 0 IPUs\n",
      "LOCAL_RANK: 0 - CUDA_VISIBLE_DEVICES: [0,1,2]\n",
      "\n",
      "  | Name      | Type             | Params\n",
      "-----------------------------------------------\n",
      "0 | model     | DrowsyModel      | 1.3 M \n",
      "1 | criterion | CrossEntropyLoss | 0     \n",
      "-----------------------------------------------\n",
      "1.3 M     Trainable params\n",
      "0         Non-trainable params\n",
      "1.3 M     Total params\n",
      "5.360     Total estimated model params size (MB)\n",
      "/usr/local/lib/python3.6/dist-packages/pytorch_lightning/callbacks/model_checkpoint.py:631: UserWarning: Checkpoint directory /Workspace/code/checkpoints exists and is not empty.\n",
      "  rank_zero_warn(f\"Checkpoint directory {dirpath} exists and is not empty.\")\n"
     ]
    },
    {
     "name": "stdout",
     "output_type": "stream",
     "text": [
      "                                                                      "
     ]
    },
    {
     "name": "stderr",
     "output_type": "stream",
     "text": [
      "Global seed set to 42\n"
     ]
    },
    {
     "name": "stdout",
     "output_type": "stream",
     "text": [
      "Epoch 0:  89%|████████▊ | 226/255 [01:16<00:09,  2.96it/s, loss=0.648, v_num=3, train_loss=0.525, train_accuracy=0.833]\n",
      "Validating: 0it [00:00, ?it/s]\u001b[A\n",
      "Validating:   0%|          | 0/29 [00:00<?, ?it/s]\u001b[A\n",
      "Epoch 0:  89%|████████▉ | 228/255 [01:19<00:09,  2.85it/s, loss=0.648, v_num=3, train_loss=0.525, train_accuracy=0.833]\n",
      "Epoch 0:  90%|█████████ | 230/255 [01:20<00:08,  2.87it/s, loss=0.648, v_num=3, train_loss=0.525, train_accuracy=0.833]\n",
      "Epoch 0:  91%|█████████ | 232/255 [01:20<00:07,  2.89it/s, loss=0.648, v_num=3, train_loss=0.525, train_accuracy=0.833]\n",
      "Epoch 0:  92%|█████████▏| 234/255 [01:20<00:07,  2.91it/s, loss=0.648, v_num=3, train_loss=0.525, train_accuracy=0.833]\n",
      "Epoch 0:  93%|█████████▎| 236/255 [01:20<00:06,  2.93it/s, loss=0.648, v_num=3, train_loss=0.525, train_accuracy=0.833]\n",
      "Epoch 0:  93%|█████████▎| 238/255 [01:20<00:05,  2.95it/s, loss=0.648, v_num=3, train_loss=0.525, train_accuracy=0.833]\n",
      "Epoch 0:  94%|█████████▍| 240/255 [01:20<00:05,  2.97it/s, loss=0.648, v_num=3, train_loss=0.525, train_accuracy=0.833]\n",
      "Epoch 0:  95%|█████████▍| 242/255 [01:20<00:04,  2.99it/s, loss=0.648, v_num=3, train_loss=0.525, train_accuracy=0.833]\n",
      "Epoch 0:  96%|█████████▌| 244/255 [01:21<00:03,  3.01it/s, loss=0.648, v_num=3, train_loss=0.525, train_accuracy=0.833]\n",
      "Epoch 0:  96%|█████████▋| 246/255 [01:21<00:02,  3.03it/s, loss=0.648, v_num=3, train_loss=0.525, train_accuracy=0.833]\n",
      "Epoch 0:  97%|█████████▋| 248/255 [01:21<00:02,  3.05it/s, loss=0.648, v_num=3, train_loss=0.525, train_accuracy=0.833]\n",
      "Epoch 0:  98%|█████████▊| 250/255 [01:21<00:01,  3.07it/s, loss=0.648, v_num=3, train_loss=0.525, train_accuracy=0.833]\n",
      "Epoch 0:  99%|█████████▉| 252/255 [01:21<00:00,  3.09it/s, loss=0.648, v_num=3, train_loss=0.525, train_accuracy=0.833]\n",
      "Epoch 0: 100%|█████████▉| 254/255 [01:21<00:00,  3.11it/s, loss=0.648, v_num=3, train_loss=0.525, train_accuracy=0.833]\n",
      "Epoch 0: 100%|██████████| 255/255 [01:22<00:00,  3.09it/s, loss=0.648, v_num=3, train_loss=0.525, train_accuracy=0.833, val_loss=0.684, val_accuracy=0.597]\n",
      "Epoch 0: 100%|██████████| 255/255 [01:22<00:00,  3.09it/s, loss=0.648, v_num=3, train_loss=0.525, train_accuracy=0.833, val_loss=0.684, val_accuracy=0.597]"
     ]
    },
    {
     "name": "stderr",
     "output_type": "stream",
     "text": [
      "Epoch 0, global step 225: val_loss reached 0.68401 (best 0.68401), saving model to \"/Workspace/code/checkpoints/best-checkpoint-corr-mi-18-v6.ckpt\" as top 2\n"
     ]
    },
    {
     "name": "stdout",
     "output_type": "stream",
     "text": [
      "Epoch 1:  89%|████████▊ | 226/255 [01:16<00:09,  2.96it/s, loss=0.658, v_num=3, train_loss=0.648, train_accuracy=0.667, val_loss=0.684, val_accuracy=0.597]\n",
      "Validating: 0it [00:00, ?it/s]\u001b[A\n",
      "Validating:   0%|          | 0/29 [00:00<?, ?it/s]\u001b[A\n",
      "Epoch 1:  89%|████████▉ | 228/255 [01:20<00:09,  2.84it/s, loss=0.658, v_num=3, train_loss=0.648, train_accuracy=0.667, val_loss=0.684, val_accuracy=0.597]\n",
      "Epoch 1:  90%|█████████ | 230/255 [01:20<00:08,  2.86it/s, loss=0.658, v_num=3, train_loss=0.648, train_accuracy=0.667, val_loss=0.684, val_accuracy=0.597]\n",
      "Epoch 1:  91%|█████████ | 232/255 [01:20<00:07,  2.88it/s, loss=0.658, v_num=3, train_loss=0.648, train_accuracy=0.667, val_loss=0.684, val_accuracy=0.597]\n",
      "Epoch 1:  92%|█████████▏| 234/255 [01:20<00:07,  2.90it/s, loss=0.658, v_num=3, train_loss=0.648, train_accuracy=0.667, val_loss=0.684, val_accuracy=0.597]\n",
      "Epoch 1:  93%|█████████▎| 236/255 [01:20<00:06,  2.92it/s, loss=0.658, v_num=3, train_loss=0.648, train_accuracy=0.667, val_loss=0.684, val_accuracy=0.597]\n",
      "Epoch 1:  93%|█████████▎| 238/255 [01:21<00:05,  2.94it/s, loss=0.658, v_num=3, train_loss=0.648, train_accuracy=0.667, val_loss=0.684, val_accuracy=0.597]\n",
      "Epoch 1:  94%|█████████▍| 240/255 [01:21<00:05,  2.96it/s, loss=0.658, v_num=3, train_loss=0.648, train_accuracy=0.667, val_loss=0.684, val_accuracy=0.597]\n",
      "Epoch 1:  95%|█████████▍| 242/255 [01:21<00:04,  2.98it/s, loss=0.658, v_num=3, train_loss=0.648, train_accuracy=0.667, val_loss=0.684, val_accuracy=0.597]\n",
      "Epoch 1:  96%|█████████▌| 244/255 [01:21<00:03,  3.00it/s, loss=0.658, v_num=3, train_loss=0.648, train_accuracy=0.667, val_loss=0.684, val_accuracy=0.597]\n",
      "Epoch 1:  96%|█████████▋| 246/255 [01:21<00:02,  3.02it/s, loss=0.658, v_num=3, train_loss=0.648, train_accuracy=0.667, val_loss=0.684, val_accuracy=0.597]\n",
      "Epoch 1:  97%|█████████▋| 248/255 [01:21<00:02,  3.03it/s, loss=0.658, v_num=3, train_loss=0.648, train_accuracy=0.667, val_loss=0.684, val_accuracy=0.597]\n",
      "Epoch 1:  98%|█████████▊| 250/255 [01:21<00:01,  3.05it/s, loss=0.658, v_num=3, train_loss=0.648, train_accuracy=0.667, val_loss=0.684, val_accuracy=0.597]\n",
      "Epoch 1:  99%|█████████▉| 252/255 [01:22<00:00,  3.07it/s, loss=0.658, v_num=3, train_loss=0.648, train_accuracy=0.667, val_loss=0.684, val_accuracy=0.597]\n",
      "Epoch 1: 100%|█████████▉| 254/255 [01:22<00:00,  3.09it/s, loss=0.658, v_num=3, train_loss=0.648, train_accuracy=0.667, val_loss=0.684, val_accuracy=0.597]\n",
      "Epoch 1: 100%|██████████| 255/255 [01:22<00:00,  3.07it/s, loss=0.658, v_num=3, train_loss=0.648, train_accuracy=0.667, val_loss=0.675, val_accuracy=0.591]\n",
      "Epoch 1: 100%|██████████| 255/255 [01:22<00:00,  3.07it/s, loss=0.658, v_num=3, train_loss=0.648, train_accuracy=0.667, val_loss=0.675, val_accuracy=0.591]"
     ]
    },
    {
     "name": "stderr",
     "output_type": "stream",
     "text": [
      "Epoch 1, global step 451: val_loss reached 0.67526 (best 0.67526), saving model to \"/Workspace/code/checkpoints/best-checkpoint-corr-mi-18-v7.ckpt\" as top 2\n"
     ]
    },
    {
     "name": "stdout",
     "output_type": "stream",
     "text": [
      "Epoch 2:  89%|████████▊ | 226/255 [01:16<00:09,  2.94it/s, loss=0.585, v_num=3, train_loss=0.576, train_accuracy=0.667, val_loss=0.675, val_accuracy=0.591]\n",
      "Validating: 0it [00:00, ?it/s]\u001b[A\n",
      "Validating:   0%|          | 0/29 [00:00<?, ?it/s]\u001b[A\n",
      "Epoch 2:  89%|████████▉ | 228/255 [01:20<00:09,  2.82it/s, loss=0.585, v_num=3, train_loss=0.576, train_accuracy=0.667, val_loss=0.675, val_accuracy=0.591]\n",
      "Epoch 2:  90%|█████████ | 230/255 [01:20<00:08,  2.84it/s, loss=0.585, v_num=3, train_loss=0.576, train_accuracy=0.667, val_loss=0.675, val_accuracy=0.591]\n",
      "Epoch 2:  91%|█████████ | 232/255 [01:21<00:08,  2.86it/s, loss=0.585, v_num=3, train_loss=0.576, train_accuracy=0.667, val_loss=0.675, val_accuracy=0.591]\n",
      "Epoch 2:  92%|█████████▏| 234/255 [01:21<00:07,  2.88it/s, loss=0.585, v_num=3, train_loss=0.576, train_accuracy=0.667, val_loss=0.675, val_accuracy=0.591]\n",
      "Epoch 2:  93%|█████████▎| 236/255 [01:21<00:06,  2.90it/s, loss=0.585, v_num=3, train_loss=0.576, train_accuracy=0.667, val_loss=0.675, val_accuracy=0.591]\n",
      "Epoch 2:  93%|█████████▎| 238/255 [01:21<00:05,  2.92it/s, loss=0.585, v_num=3, train_loss=0.576, train_accuracy=0.667, val_loss=0.675, val_accuracy=0.591]\n",
      "Epoch 2:  94%|█████████▍| 240/255 [01:21<00:05,  2.94it/s, loss=0.585, v_num=3, train_loss=0.576, train_accuracy=0.667, val_loss=0.675, val_accuracy=0.591]\n",
      "Epoch 2:  95%|█████████▍| 242/255 [01:21<00:04,  2.96it/s, loss=0.585, v_num=3, train_loss=0.576, train_accuracy=0.667, val_loss=0.675, val_accuracy=0.591]\n",
      "Epoch 2:  96%|█████████▌| 244/255 [01:21<00:03,  2.98it/s, loss=0.585, v_num=3, train_loss=0.576, train_accuracy=0.667, val_loss=0.675, val_accuracy=0.591]\n",
      "Epoch 2:  96%|█████████▋| 246/255 [01:22<00:03,  2.99it/s, loss=0.585, v_num=3, train_loss=0.576, train_accuracy=0.667, val_loss=0.675, val_accuracy=0.591]\n",
      "Epoch 2:  97%|█████████▋| 248/255 [01:22<00:02,  3.01it/s, loss=0.585, v_num=3, train_loss=0.576, train_accuracy=0.667, val_loss=0.675, val_accuracy=0.591]\n",
      "Epoch 2:  98%|█████████▊| 250/255 [01:22<00:01,  3.03it/s, loss=0.585, v_num=3, train_loss=0.576, train_accuracy=0.667, val_loss=0.675, val_accuracy=0.591]\n",
      "Epoch 2:  99%|█████████▉| 252/255 [01:22<00:00,  3.05it/s, loss=0.585, v_num=3, train_loss=0.576, train_accuracy=0.667, val_loss=0.675, val_accuracy=0.591]\n",
      "Epoch 2: 100%|█████████▉| 254/255 [01:22<00:00,  3.07it/s, loss=0.585, v_num=3, train_loss=0.576, train_accuracy=0.667, val_loss=0.675, val_accuracy=0.591]\n",
      "Epoch 2: 100%|██████████| 255/255 [01:23<00:00,  3.06it/s, loss=0.585, v_num=3, train_loss=0.576, train_accuracy=0.667, val_loss=0.602, val_accuracy=0.694]\n",
      "Epoch 2: 100%|██████████| 255/255 [01:23<00:00,  3.06it/s, loss=0.585, v_num=3, train_loss=0.576, train_accuracy=0.667, val_loss=0.602, val_accuracy=0.694]"
     ]
    },
    {
     "name": "stderr",
     "output_type": "stream",
     "text": [
      "Epoch 2, global step 677: val_loss reached 0.60173 (best 0.60173), saving model to \"/Workspace/code/checkpoints/best-checkpoint-corr-mi-18-v6.ckpt\" as top 2\n"
     ]
    },
    {
     "name": "stdout",
     "output_type": "stream",
     "text": [
      "Epoch 3:  89%|████████▊ | 226/255 [01:16<00:09,  2.95it/s, loss=0.818, v_num=3, train_loss=1.140, train_accuracy=0.333, val_loss=0.602, val_accuracy=0.694]\n",
      "Validating: 0it [00:00, ?it/s]\u001b[A\n",
      "Validating:   0%|          | 0/29 [00:00<?, ?it/s]\u001b[A\n",
      "Epoch 3:  89%|████████▉ | 228/255 [01:20<00:09,  2.85it/s, loss=0.818, v_num=3, train_loss=1.140, train_accuracy=0.333, val_loss=0.602, val_accuracy=0.694]\n",
      "Epoch 3:  90%|█████████ | 230/255 [01:20<00:08,  2.87it/s, loss=0.818, v_num=3, train_loss=1.140, train_accuracy=0.333, val_loss=0.602, val_accuracy=0.694]\n",
      "Epoch 3:  91%|█████████ | 232/255 [01:20<00:07,  2.89it/s, loss=0.818, v_num=3, train_loss=1.140, train_accuracy=0.333, val_loss=0.602, val_accuracy=0.694]\n",
      "Epoch 3:  92%|█████████▏| 234/255 [01:20<00:07,  2.91it/s, loss=0.818, v_num=3, train_loss=1.140, train_accuracy=0.333, val_loss=0.602, val_accuracy=0.694]\n",
      "Epoch 3:  93%|█████████▎| 236/255 [01:20<00:06,  2.93it/s, loss=0.818, v_num=3, train_loss=1.140, train_accuracy=0.333, val_loss=0.602, val_accuracy=0.694]\n",
      "Epoch 3:  93%|█████████▎| 238/255 [01:20<00:05,  2.95it/s, loss=0.818, v_num=3, train_loss=1.140, train_accuracy=0.333, val_loss=0.602, val_accuracy=0.694]\n",
      "Epoch 3:  94%|█████████▍| 240/255 [01:20<00:05,  2.97it/s, loss=0.818, v_num=3, train_loss=1.140, train_accuracy=0.333, val_loss=0.602, val_accuracy=0.694]\n",
      "Epoch 3:  95%|█████████▍| 242/255 [01:21<00:04,  2.98it/s, loss=0.818, v_num=3, train_loss=1.140, train_accuracy=0.333, val_loss=0.602, val_accuracy=0.694]\n",
      "Epoch 3:  96%|█████████▌| 244/255 [01:21<00:03,  3.00it/s, loss=0.818, v_num=3, train_loss=1.140, train_accuracy=0.333, val_loss=0.602, val_accuracy=0.694]\n",
      "Epoch 3:  96%|█████████▋| 246/255 [01:21<00:02,  3.02it/s, loss=0.818, v_num=3, train_loss=1.140, train_accuracy=0.333, val_loss=0.602, val_accuracy=0.694]\n",
      "Epoch 3:  97%|█████████▋| 248/255 [01:21<00:02,  3.04it/s, loss=0.818, v_num=3, train_loss=1.140, train_accuracy=0.333, val_loss=0.602, val_accuracy=0.694]\n",
      "Epoch 3:  98%|█████████▊| 250/255 [01:21<00:01,  3.06it/s, loss=0.818, v_num=3, train_loss=1.140, train_accuracy=0.333, val_loss=0.602, val_accuracy=0.694]\n",
      "Epoch 3:  99%|█████████▉| 252/255 [01:21<00:00,  3.08it/s, loss=0.818, v_num=3, train_loss=1.140, train_accuracy=0.333, val_loss=0.602, val_accuracy=0.694]\n",
      "Epoch 3: 100%|█████████▉| 254/255 [01:21<00:00,  3.10it/s, loss=0.818, v_num=3, train_loss=1.140, train_accuracy=0.333, val_loss=0.602, val_accuracy=0.694]\n",
      "Epoch 3: 100%|██████████| 255/255 [01:22<00:00,  3.09it/s, loss=0.818, v_num=3, train_loss=1.140, train_accuracy=0.333, val_loss=0.869, val_accuracy=0.551]\n",
      "Epoch 3: 100%|██████████| 255/255 [01:22<00:00,  3.09it/s, loss=0.818, v_num=3, train_loss=1.140, train_accuracy=0.333, val_loss=0.869, val_accuracy=0.551]"
     ]
    },
    {
     "name": "stderr",
     "output_type": "stream",
     "text": [
      "Epoch 3, global step 903: val_loss was not in top 2\n"
     ]
    },
    {
     "name": "stdout",
     "output_type": "stream",
     "text": [
      "Epoch 4:  89%|████████▊ | 226/255 [01:16<00:09,  2.97it/s, loss=0.604, v_num=3, train_loss=0.574, train_accuracy=0.667, val_loss=0.869, val_accuracy=0.551]\n",
      "Validating: 0it [00:00, ?it/s]\u001b[A\n",
      "Validating:   0%|          | 0/29 [00:00<?, ?it/s]\u001b[A\n",
      "Epoch 4:  89%|████████▉ | 228/255 [01:19<00:09,  2.86it/s, loss=0.604, v_num=3, train_loss=0.574, train_accuracy=0.667, val_loss=0.869, val_accuracy=0.551]\n",
      "Epoch 4:  90%|█████████ | 230/255 [01:19<00:08,  2.88it/s, loss=0.604, v_num=3, train_loss=0.574, train_accuracy=0.667, val_loss=0.869, val_accuracy=0.551]\n",
      "Epoch 4:  91%|█████████ | 232/255 [01:20<00:07,  2.90it/s, loss=0.604, v_num=3, train_loss=0.574, train_accuracy=0.667, val_loss=0.869, val_accuracy=0.551]\n",
      "Epoch 4:  92%|█████████▏| 234/255 [01:20<00:07,  2.92it/s, loss=0.604, v_num=3, train_loss=0.574, train_accuracy=0.667, val_loss=0.869, val_accuracy=0.551]\n",
      "Epoch 4:  93%|█████████▎| 236/255 [01:20<00:06,  2.94it/s, loss=0.604, v_num=3, train_loss=0.574, train_accuracy=0.667, val_loss=0.869, val_accuracy=0.551]\n",
      "Epoch 4:  93%|█████████▎| 238/255 [01:20<00:05,  2.95it/s, loss=0.604, v_num=3, train_loss=0.574, train_accuracy=0.667, val_loss=0.869, val_accuracy=0.551]\n",
      "Epoch 4:  94%|█████████▍| 240/255 [01:20<00:05,  2.97it/s, loss=0.604, v_num=3, train_loss=0.574, train_accuracy=0.667, val_loss=0.869, val_accuracy=0.551]\n",
      "Epoch 4:  95%|█████████▍| 242/255 [01:20<00:04,  2.99it/s, loss=0.604, v_num=3, train_loss=0.574, train_accuracy=0.667, val_loss=0.869, val_accuracy=0.551]\n",
      "Epoch 4:  96%|█████████▌| 244/255 [01:20<00:03,  3.01it/s, loss=0.604, v_num=3, train_loss=0.574, train_accuracy=0.667, val_loss=0.869, val_accuracy=0.551]\n",
      "Epoch 4:  96%|█████████▋| 246/255 [01:21<00:02,  3.03it/s, loss=0.604, v_num=3, train_loss=0.574, train_accuracy=0.667, val_loss=0.869, val_accuracy=0.551]\n",
      "Epoch 4:  97%|█████████▋| 248/255 [01:21<00:02,  3.05it/s, loss=0.604, v_num=3, train_loss=0.574, train_accuracy=0.667, val_loss=0.869, val_accuracy=0.551]\n",
      "Epoch 4:  98%|█████████▊| 250/255 [01:21<00:01,  3.07it/s, loss=0.604, v_num=3, train_loss=0.574, train_accuracy=0.667, val_loss=0.869, val_accuracy=0.551]\n",
      "Epoch 4:  99%|█████████▉| 252/255 [01:21<00:00,  3.09it/s, loss=0.604, v_num=3, train_loss=0.574, train_accuracy=0.667, val_loss=0.869, val_accuracy=0.551]\n",
      "Epoch 4: 100%|█████████▉| 254/255 [01:21<00:00,  3.11it/s, loss=0.604, v_num=3, train_loss=0.574, train_accuracy=0.667, val_loss=0.869, val_accuracy=0.551]\n",
      "Epoch 4: 100%|██████████| 255/255 [01:22<00:00,  3.09it/s, loss=0.604, v_num=3, train_loss=0.574, train_accuracy=0.667, val_loss=0.616, val_accuracy=0.674]\n",
      "Epoch 4: 100%|██████████| 255/255 [01:22<00:00,  3.09it/s, loss=0.604, v_num=3, train_loss=0.574, train_accuracy=0.667, val_loss=0.616, val_accuracy=0.674]"
     ]
    },
    {
     "name": "stderr",
     "output_type": "stream",
     "text": [
      "Epoch 4, global step 1129: val_loss reached 0.61628 (best 0.60173), saving model to \"/Workspace/code/checkpoints/best-checkpoint-corr-mi-18-v7.ckpt\" as top 2\n"
     ]
    },
    {
     "name": "stdout",
     "output_type": "stream",
     "text": [
      "Epoch 5:  89%|████████▊ | 226/255 [01:16<00:09,  2.94it/s, loss=0.518, v_num=3, train_loss=0.465, train_accuracy=0.778, val_loss=0.616, val_accuracy=0.674]\n",
      "Validating: 0it [00:00, ?it/s]\u001b[A\n",
      "Validating:   0%|          | 0/29 [00:00<?, ?it/s]\u001b[A\n",
      "Epoch 5:  89%|████████▉ | 228/255 [01:20<00:09,  2.83it/s, loss=0.518, v_num=3, train_loss=0.465, train_accuracy=0.778, val_loss=0.616, val_accuracy=0.674]\n",
      "Epoch 5:  90%|█████████ | 230/255 [01:20<00:08,  2.85it/s, loss=0.518, v_num=3, train_loss=0.465, train_accuracy=0.778, val_loss=0.616, val_accuracy=0.674]\n",
      "Epoch 5:  91%|█████████ | 232/255 [01:20<00:08,  2.87it/s, loss=0.518, v_num=3, train_loss=0.465, train_accuracy=0.778, val_loss=0.616, val_accuracy=0.674]\n",
      "Epoch 5:  92%|█████████▏| 234/255 [01:20<00:07,  2.89it/s, loss=0.518, v_num=3, train_loss=0.465, train_accuracy=0.778, val_loss=0.616, val_accuracy=0.674]\n",
      "Epoch 5:  93%|█████████▎| 236/255 [01:21<00:06,  2.91it/s, loss=0.518, v_num=3, train_loss=0.465, train_accuracy=0.778, val_loss=0.616, val_accuracy=0.674]\n",
      "Epoch 5:  93%|█████████▎| 238/255 [01:21<00:05,  2.93it/s, loss=0.518, v_num=3, train_loss=0.465, train_accuracy=0.778, val_loss=0.616, val_accuracy=0.674]\n",
      "Epoch 5:  94%|█████████▍| 240/255 [01:21<00:05,  2.95it/s, loss=0.518, v_num=3, train_loss=0.465, train_accuracy=0.778, val_loss=0.616, val_accuracy=0.674]\n",
      "Epoch 5:  95%|█████████▍| 242/255 [01:21<00:04,  2.97it/s, loss=0.518, v_num=3, train_loss=0.465, train_accuracy=0.778, val_loss=0.616, val_accuracy=0.674]\n",
      "Epoch 5:  96%|█████████▌| 244/255 [01:21<00:03,  2.99it/s, loss=0.518, v_num=3, train_loss=0.465, train_accuracy=0.778, val_loss=0.616, val_accuracy=0.674]\n",
      "Epoch 5:  96%|█████████▋| 246/255 [01:21<00:02,  3.01it/s, loss=0.518, v_num=3, train_loss=0.465, train_accuracy=0.778, val_loss=0.616, val_accuracy=0.674]\n",
      "Epoch 5:  97%|█████████▋| 248/255 [01:21<00:02,  3.02it/s, loss=0.518, v_num=3, train_loss=0.465, train_accuracy=0.778, val_loss=0.616, val_accuracy=0.674]\n",
      "Epoch 5:  98%|█████████▊| 250/255 [01:22<00:01,  3.04it/s, loss=0.518, v_num=3, train_loss=0.465, train_accuracy=0.778, val_loss=0.616, val_accuracy=0.674]\n",
      "Epoch 5:  99%|█████████▉| 252/255 [01:22<00:00,  3.06it/s, loss=0.518, v_num=3, train_loss=0.465, train_accuracy=0.778, val_loss=0.616, val_accuracy=0.674]\n",
      "Epoch 5: 100%|█████████▉| 254/255 [01:22<00:00,  3.08it/s, loss=0.518, v_num=3, train_loss=0.465, train_accuracy=0.778, val_loss=0.616, val_accuracy=0.674]\n",
      "Epoch 5: 100%|██████████| 255/255 [01:23<00:00,  3.07it/s, loss=0.518, v_num=3, train_loss=0.465, train_accuracy=0.778, val_loss=0.520, val_accuracy=0.765]\n",
      "Epoch 5: 100%|██████████| 255/255 [01:23<00:00,  3.07it/s, loss=0.518, v_num=3, train_loss=0.465, train_accuracy=0.778, val_loss=0.520, val_accuracy=0.765]"
     ]
    },
    {
     "name": "stderr",
     "output_type": "stream",
     "text": [
      "Epoch 5, global step 1355: val_loss reached 0.51963 (best 0.51963), saving model to \"/Workspace/code/checkpoints/best-checkpoint-corr-mi-18-v7.ckpt\" as top 2\n"
     ]
    },
    {
     "name": "stdout",
     "output_type": "stream",
     "text": [
      "Epoch 6:  89%|████████▊ | 226/255 [01:19<00:10,  2.84it/s, loss=0.456, v_num=3, train_loss=0.180, train_accuracy=1.000, val_loss=0.520, val_accuracy=0.765]\n",
      "Validating: 0it [00:00, ?it/s]\u001b[A\n",
      "Validating:   0%|          | 0/29 [00:00<?, ?it/s]\u001b[A\n",
      "Epoch 6:  89%|████████▉ | 228/255 [01:23<00:09,  2.74it/s, loss=0.456, v_num=3, train_loss=0.180, train_accuracy=1.000, val_loss=0.520, val_accuracy=0.765]\n",
      "Epoch 6:  90%|█████████ | 230/255 [01:23<00:09,  2.76it/s, loss=0.456, v_num=3, train_loss=0.180, train_accuracy=1.000, val_loss=0.520, val_accuracy=0.765]\n",
      "Epoch 6:  91%|█████████ | 232/255 [01:23<00:08,  2.78it/s, loss=0.456, v_num=3, train_loss=0.180, train_accuracy=1.000, val_loss=0.520, val_accuracy=0.765]\n",
      "Epoch 6:  92%|█████████▏| 234/255 [01:23<00:07,  2.80it/s, loss=0.456, v_num=3, train_loss=0.180, train_accuracy=1.000, val_loss=0.520, val_accuracy=0.765]\n",
      "Epoch 6:  93%|█████████▎| 236/255 [01:23<00:06,  2.82it/s, loss=0.456, v_num=3, train_loss=0.180, train_accuracy=1.000, val_loss=0.520, val_accuracy=0.765]\n",
      "Epoch 6:  93%|█████████▎| 238/255 [01:23<00:05,  2.84it/s, loss=0.456, v_num=3, train_loss=0.180, train_accuracy=1.000, val_loss=0.520, val_accuracy=0.765]\n",
      "Epoch 6:  94%|█████████▍| 240/255 [01:24<00:05,  2.86it/s, loss=0.456, v_num=3, train_loss=0.180, train_accuracy=1.000, val_loss=0.520, val_accuracy=0.765]\n",
      "Epoch 6:  95%|█████████▍| 242/255 [01:24<00:04,  2.87it/s, loss=0.456, v_num=3, train_loss=0.180, train_accuracy=1.000, val_loss=0.520, val_accuracy=0.765]\n",
      "Epoch 6:  96%|█████████▌| 244/255 [01:24<00:03,  2.89it/s, loss=0.456, v_num=3, train_loss=0.180, train_accuracy=1.000, val_loss=0.520, val_accuracy=0.765]\n",
      "Epoch 6:  96%|█████████▋| 246/255 [01:24<00:03,  2.91it/s, loss=0.456, v_num=3, train_loss=0.180, train_accuracy=1.000, val_loss=0.520, val_accuracy=0.765]\n",
      "Epoch 6:  97%|█████████▋| 248/255 [01:24<00:02,  2.93it/s, loss=0.456, v_num=3, train_loss=0.180, train_accuracy=1.000, val_loss=0.520, val_accuracy=0.765]\n",
      "Epoch 6:  98%|█████████▊| 250/255 [01:24<00:01,  2.95it/s, loss=0.456, v_num=3, train_loss=0.180, train_accuracy=1.000, val_loss=0.520, val_accuracy=0.765]\n",
      "Epoch 6:  99%|█████████▉| 252/255 [01:24<00:01,  2.97it/s, loss=0.456, v_num=3, train_loss=0.180, train_accuracy=1.000, val_loss=0.520, val_accuracy=0.765]\n",
      "Epoch 6: 100%|█████████▉| 254/255 [01:25<00:00,  2.99it/s, loss=0.456, v_num=3, train_loss=0.180, train_accuracy=1.000, val_loss=0.520, val_accuracy=0.765]\n",
      "Epoch 6: 100%|██████████| 255/255 [01:25<00:00,  2.98it/s, loss=0.456, v_num=3, train_loss=0.180, train_accuracy=1.000, val_loss=0.554, val_accuracy=0.741]\n",
      "Epoch 6: 100%|██████████| 255/255 [01:25<00:00,  2.98it/s, loss=0.456, v_num=3, train_loss=0.180, train_accuracy=1.000, val_loss=0.554, val_accuracy=0.741]"
     ]
    },
    {
     "name": "stderr",
     "output_type": "stream",
     "text": [
      "Epoch 6, global step 1581: val_loss reached 0.55370 (best 0.51963), saving model to \"/Workspace/code/checkpoints/best-checkpoint-corr-mi-18-v6.ckpt\" as top 2\n"
     ]
    },
    {
     "name": "stdout",
     "output_type": "stream",
     "text": [
      "Epoch 7:  89%|████████▊ | 226/255 [01:19<00:10,  2.84it/s, loss=0.503, v_num=3, train_loss=0.687, train_accuracy=0.611, val_loss=0.554, val_accuracy=0.741]\n",
      "Validating: 0it [00:00, ?it/s]\u001b[A\n",
      "Validating:   0%|          | 0/29 [00:00<?, ?it/s]\u001b[A\n",
      "Epoch 7:  89%|████████▉ | 228/255 [01:23<00:09,  2.74it/s, loss=0.503, v_num=3, train_loss=0.687, train_accuracy=0.611, val_loss=0.554, val_accuracy=0.741]\n",
      "Epoch 7:  90%|█████████ | 230/255 [01:23<00:09,  2.76it/s, loss=0.503, v_num=3, train_loss=0.687, train_accuracy=0.611, val_loss=0.554, val_accuracy=0.741]\n",
      "Epoch 7:  91%|█████████ | 232/255 [01:23<00:08,  2.78it/s, loss=0.503, v_num=3, train_loss=0.687, train_accuracy=0.611, val_loss=0.554, val_accuracy=0.741]\n",
      "Epoch 7:  92%|█████████▏| 234/255 [01:23<00:07,  2.80it/s, loss=0.503, v_num=3, train_loss=0.687, train_accuracy=0.611, val_loss=0.554, val_accuracy=0.741]\n",
      "Epoch 7:  93%|█████████▎| 236/255 [01:23<00:06,  2.82it/s, loss=0.503, v_num=3, train_loss=0.687, train_accuracy=0.611, val_loss=0.554, val_accuracy=0.741]\n",
      "Epoch 7:  93%|█████████▎| 238/255 [01:23<00:05,  2.84it/s, loss=0.503, v_num=3, train_loss=0.687, train_accuracy=0.611, val_loss=0.554, val_accuracy=0.741]\n",
      "Epoch 7:  94%|█████████▍| 240/255 [01:23<00:05,  2.86it/s, loss=0.503, v_num=3, train_loss=0.687, train_accuracy=0.611, val_loss=0.554, val_accuracy=0.741]\n",
      "Epoch 7:  95%|█████████▍| 242/255 [01:24<00:04,  2.88it/s, loss=0.503, v_num=3, train_loss=0.687, train_accuracy=0.611, val_loss=0.554, val_accuracy=0.741]\n",
      "Epoch 7:  96%|█████████▌| 244/255 [01:24<00:03,  2.90it/s, loss=0.503, v_num=3, train_loss=0.687, train_accuracy=0.611, val_loss=0.554, val_accuracy=0.741]\n",
      "Epoch 7:  96%|█████████▋| 246/255 [01:24<00:03,  2.91it/s, loss=0.503, v_num=3, train_loss=0.687, train_accuracy=0.611, val_loss=0.554, val_accuracy=0.741]\n",
      "Epoch 7:  97%|█████████▋| 248/255 [01:24<00:02,  2.93it/s, loss=0.503, v_num=3, train_loss=0.687, train_accuracy=0.611, val_loss=0.554, val_accuracy=0.741]\n",
      "Epoch 7:  98%|█████████▊| 250/255 [01:24<00:01,  2.95it/s, loss=0.503, v_num=3, train_loss=0.687, train_accuracy=0.611, val_loss=0.554, val_accuracy=0.741]\n",
      "Epoch 7:  99%|█████████▉| 252/255 [01:24<00:01,  2.97it/s, loss=0.503, v_num=3, train_loss=0.687, train_accuracy=0.611, val_loss=0.554, val_accuracy=0.741]\n",
      "Epoch 7: 100%|█████████▉| 254/255 [01:25<00:00,  2.99it/s, loss=0.503, v_num=3, train_loss=0.687, train_accuracy=0.611, val_loss=0.554, val_accuracy=0.741]\n",
      "Epoch 7: 100%|██████████| 255/255 [01:25<00:00,  2.97it/s, loss=0.503, v_num=3, train_loss=0.687, train_accuracy=0.611, val_loss=0.552, val_accuracy=0.702]\n",
      "Epoch 7: 100%|██████████| 255/255 [01:25<00:00,  2.97it/s, loss=0.503, v_num=3, train_loss=0.687, train_accuracy=0.611, val_loss=0.552, val_accuracy=0.702]"
     ]
    },
    {
     "name": "stderr",
     "output_type": "stream",
     "text": [
      "Epoch 7, global step 1807: val_loss reached 0.55181 (best 0.51963), saving model to \"/Workspace/code/checkpoints/best-checkpoint-corr-mi-18-v6.ckpt\" as top 2\n"
     ]
    },
    {
     "name": "stdout",
     "output_type": "stream",
     "text": [
      "Epoch 8:  89%|████████▊ | 226/255 [01:17<00:09,  2.92it/s, loss=0.456, v_num=3, train_loss=0.375, train_accuracy=0.833, val_loss=0.552, val_accuracy=0.702]\n",
      "Validating: 0it [00:00, ?it/s]\u001b[A\n",
      "Validating:   0%|          | 0/29 [00:00<?, ?it/s]\u001b[A\n",
      "Epoch 8:  89%|████████▉ | 228/255 [01:21<00:09,  2.81it/s, loss=0.456, v_num=3, train_loss=0.375, train_accuracy=0.833, val_loss=0.552, val_accuracy=0.702]\n",
      "Epoch 8:  90%|█████████ | 230/255 [01:21<00:08,  2.83it/s, loss=0.456, v_num=3, train_loss=0.375, train_accuracy=0.833, val_loss=0.552, val_accuracy=0.702]\n",
      "Epoch 8:  91%|█████████ | 232/255 [01:21<00:08,  2.85it/s, loss=0.456, v_num=3, train_loss=0.375, train_accuracy=0.833, val_loss=0.552, val_accuracy=0.702]\n",
      "Epoch 8:  92%|█████████▏| 234/255 [01:21<00:07,  2.87it/s, loss=0.456, v_num=3, train_loss=0.375, train_accuracy=0.833, val_loss=0.552, val_accuracy=0.702]\n",
      "Epoch 8:  93%|█████████▎| 236/255 [01:21<00:06,  2.89it/s, loss=0.456, v_num=3, train_loss=0.375, train_accuracy=0.833, val_loss=0.552, val_accuracy=0.702]\n",
      "Epoch 8:  93%|█████████▎| 238/255 [01:21<00:05,  2.91it/s, loss=0.456, v_num=3, train_loss=0.375, train_accuracy=0.833, val_loss=0.552, val_accuracy=0.702]\n",
      "Epoch 8:  94%|█████████▍| 240/255 [01:22<00:05,  2.93it/s, loss=0.456, v_num=3, train_loss=0.375, train_accuracy=0.833, val_loss=0.552, val_accuracy=0.702]\n",
      "Epoch 8:  95%|█████████▍| 242/255 [01:22<00:04,  2.95it/s, loss=0.456, v_num=3, train_loss=0.375, train_accuracy=0.833, val_loss=0.552, val_accuracy=0.702]\n",
      "Epoch 8:  96%|█████████▌| 244/255 [01:22<00:03,  2.96it/s, loss=0.456, v_num=3, train_loss=0.375, train_accuracy=0.833, val_loss=0.552, val_accuracy=0.702]\n",
      "Epoch 8:  96%|█████████▋| 246/255 [01:22<00:03,  2.98it/s, loss=0.456, v_num=3, train_loss=0.375, train_accuracy=0.833, val_loss=0.552, val_accuracy=0.702]\n",
      "Epoch 8:  97%|█████████▋| 248/255 [01:22<00:02,  3.00it/s, loss=0.456, v_num=3, train_loss=0.375, train_accuracy=0.833, val_loss=0.552, val_accuracy=0.702]\n",
      "Epoch 8:  98%|█████████▊| 250/255 [01:22<00:01,  3.02it/s, loss=0.456, v_num=3, train_loss=0.375, train_accuracy=0.833, val_loss=0.552, val_accuracy=0.702]\n",
      "Epoch 8:  99%|█████████▉| 252/255 [01:22<00:00,  3.04it/s, loss=0.456, v_num=3, train_loss=0.375, train_accuracy=0.833, val_loss=0.552, val_accuracy=0.702]\n",
      "Epoch 8: 100%|█████████▉| 254/255 [01:23<00:00,  3.06it/s, loss=0.456, v_num=3, train_loss=0.375, train_accuracy=0.833, val_loss=0.552, val_accuracy=0.702]\n",
      "Epoch 8: 100%|██████████| 255/255 [01:23<00:00,  3.05it/s, loss=0.456, v_num=3, train_loss=0.375, train_accuracy=0.833, val_loss=0.479, val_accuracy=0.781]\n",
      "Epoch 8: 100%|██████████| 255/255 [01:23<00:00,  3.05it/s, loss=0.456, v_num=3, train_loss=0.375, train_accuracy=0.833, val_loss=0.479, val_accuracy=0.781]"
     ]
    },
    {
     "name": "stderr",
     "output_type": "stream",
     "text": [
      "Epoch 8, global step 2033: val_loss reached 0.47892 (best 0.47892), saving model to \"/Workspace/code/checkpoints/best-checkpoint-corr-mi-18-v6.ckpt\" as top 2\n"
     ]
    },
    {
     "name": "stdout",
     "output_type": "stream",
     "text": [
      "Epoch 9:  89%|████████▊ | 226/255 [01:18<00:10,  2.87it/s, loss=0.502, v_num=3, train_loss=0.586, train_accuracy=0.778, val_loss=0.479, val_accuracy=0.781]\n",
      "Validating: 0it [00:00, ?it/s]\u001b[A\n",
      "Validating:   0%|          | 0/29 [00:00<?, ?it/s]\u001b[A\n",
      "Epoch 9:  89%|████████▉ | 228/255 [01:22<00:09,  2.77it/s, loss=0.502, v_num=3, train_loss=0.586, train_accuracy=0.778, val_loss=0.479, val_accuracy=0.781]\n",
      "Epoch 9:  90%|█████████ | 230/255 [01:22<00:08,  2.79it/s, loss=0.502, v_num=3, train_loss=0.586, train_accuracy=0.778, val_loss=0.479, val_accuracy=0.781]\n",
      "Epoch 9:  91%|█████████ | 232/255 [01:22<00:08,  2.81it/s, loss=0.502, v_num=3, train_loss=0.586, train_accuracy=0.778, val_loss=0.479, val_accuracy=0.781]\n",
      "Epoch 9:  92%|█████████▏| 234/255 [01:22<00:07,  2.83it/s, loss=0.502, v_num=3, train_loss=0.586, train_accuracy=0.778, val_loss=0.479, val_accuracy=0.781]\n",
      "Epoch 9:  93%|█████████▎| 236/255 [01:22<00:06,  2.85it/s, loss=0.502, v_num=3, train_loss=0.586, train_accuracy=0.778, val_loss=0.479, val_accuracy=0.781]\n",
      "Epoch 9:  93%|█████████▎| 238/255 [01:22<00:05,  2.87it/s, loss=0.502, v_num=3, train_loss=0.586, train_accuracy=0.778, val_loss=0.479, val_accuracy=0.781]\n",
      "Epoch 9:  94%|█████████▍| 240/255 [01:23<00:05,  2.89it/s, loss=0.502, v_num=3, train_loss=0.586, train_accuracy=0.778, val_loss=0.479, val_accuracy=0.781]\n",
      "Epoch 9:  95%|█████████▍| 242/255 [01:23<00:04,  2.91it/s, loss=0.502, v_num=3, train_loss=0.586, train_accuracy=0.778, val_loss=0.479, val_accuracy=0.781]\n",
      "Epoch 9:  96%|█████████▌| 244/255 [01:23<00:03,  2.92it/s, loss=0.502, v_num=3, train_loss=0.586, train_accuracy=0.778, val_loss=0.479, val_accuracy=0.781]\n",
      "Epoch 9:  96%|█████████▋| 246/255 [01:23<00:03,  2.94it/s, loss=0.502, v_num=3, train_loss=0.586, train_accuracy=0.778, val_loss=0.479, val_accuracy=0.781]\n",
      "Epoch 9:  97%|█████████▋| 248/255 [01:23<00:02,  2.96it/s, loss=0.502, v_num=3, train_loss=0.586, train_accuracy=0.778, val_loss=0.479, val_accuracy=0.781]\n",
      "Epoch 9:  98%|█████████▊| 250/255 [01:23<00:01,  2.98it/s, loss=0.502, v_num=3, train_loss=0.586, train_accuracy=0.778, val_loss=0.479, val_accuracy=0.781]\n",
      "Epoch 9:  99%|█████████▉| 252/255 [01:24<00:01,  3.00it/s, loss=0.502, v_num=3, train_loss=0.586, train_accuracy=0.778, val_loss=0.479, val_accuracy=0.781]\n",
      "Epoch 9: 100%|█████████▉| 254/255 [01:24<00:00,  3.02it/s, loss=0.502, v_num=3, train_loss=0.586, train_accuracy=0.778, val_loss=0.479, val_accuracy=0.781]\n",
      "Epoch 9: 100%|██████████| 255/255 [01:24<00:00,  3.01it/s, loss=0.502, v_num=3, train_loss=0.586, train_accuracy=0.778, val_loss=0.455, val_accuracy=0.793]\n",
      "Epoch 9: 100%|██████████| 255/255 [01:24<00:00,  3.01it/s, loss=0.502, v_num=3, train_loss=0.586, train_accuracy=0.778, val_loss=0.455, val_accuracy=0.793]"
     ]
    },
    {
     "name": "stderr",
     "output_type": "stream",
     "text": [
      "Epoch 9, global step 2259: val_loss reached 0.45462 (best 0.45462), saving model to \"/Workspace/code/checkpoints/best-checkpoint-corr-mi-18-v7.ckpt\" as top 2\n"
     ]
    },
    {
     "name": "stdout",
     "output_type": "stream",
     "text": [
      "Epoch 10:  89%|████████▊ | 226/255 [01:18<00:10,  2.89it/s, loss=0.329, v_num=3, train_loss=0.319, train_accuracy=0.833, val_loss=0.455, val_accuracy=0.793]\n",
      "Validating: 0it [00:00, ?it/s]\u001b[A\n",
      "Validating:   0%|          | 0/29 [00:00<?, ?it/s]\u001b[A\n",
      "Epoch 10:  89%|████████▉ | 228/255 [01:21<00:09,  2.79it/s, loss=0.329, v_num=3, train_loss=0.319, train_accuracy=0.833, val_loss=0.455, val_accuracy=0.793]\n",
      "Epoch 10:  90%|█████████ | 230/255 [01:21<00:08,  2.81it/s, loss=0.329, v_num=3, train_loss=0.319, train_accuracy=0.833, val_loss=0.455, val_accuracy=0.793]\n",
      "Epoch 10:  91%|█████████ | 232/255 [01:22<00:08,  2.83it/s, loss=0.329, v_num=3, train_loss=0.319, train_accuracy=0.833, val_loss=0.455, val_accuracy=0.793]\n",
      "Epoch 10:  92%|█████████▏| 234/255 [01:22<00:07,  2.84it/s, loss=0.329, v_num=3, train_loss=0.319, train_accuracy=0.833, val_loss=0.455, val_accuracy=0.793]\n",
      "Epoch 10:  93%|█████████▎| 236/255 [01:22<00:06,  2.86it/s, loss=0.329, v_num=3, train_loss=0.319, train_accuracy=0.833, val_loss=0.455, val_accuracy=0.793]\n",
      "Epoch 10:  93%|█████████▎| 238/255 [01:22<00:05,  2.88it/s, loss=0.329, v_num=3, train_loss=0.319, train_accuracy=0.833, val_loss=0.455, val_accuracy=0.793]\n",
      "Epoch 10:  94%|█████████▍| 240/255 [01:22<00:05,  2.90it/s, loss=0.329, v_num=3, train_loss=0.319, train_accuracy=0.833, val_loss=0.455, val_accuracy=0.793]\n",
      "Epoch 10:  95%|█████████▍| 242/255 [01:22<00:04,  2.92it/s, loss=0.329, v_num=3, train_loss=0.319, train_accuracy=0.833, val_loss=0.455, val_accuracy=0.793]\n",
      "Epoch 10:  96%|█████████▌| 244/255 [01:23<00:03,  2.94it/s, loss=0.329, v_num=3, train_loss=0.319, train_accuracy=0.833, val_loss=0.455, val_accuracy=0.793]\n",
      "Epoch 10:  96%|█████████▋| 246/255 [01:23<00:03,  2.96it/s, loss=0.329, v_num=3, train_loss=0.319, train_accuracy=0.833, val_loss=0.455, val_accuracy=0.793]\n",
      "Epoch 10:  97%|█████████▋| 248/255 [01:23<00:02,  2.98it/s, loss=0.329, v_num=3, train_loss=0.319, train_accuracy=0.833, val_loss=0.455, val_accuracy=0.793]\n",
      "Epoch 10:  98%|█████████▊| 250/255 [01:23<00:01,  3.00it/s, loss=0.329, v_num=3, train_loss=0.319, train_accuracy=0.833, val_loss=0.455, val_accuracy=0.793]\n",
      "Epoch 10:  99%|█████████▉| 252/255 [01:23<00:00,  3.01it/s, loss=0.329, v_num=3, train_loss=0.319, train_accuracy=0.833, val_loss=0.455, val_accuracy=0.793]\n",
      "Epoch 10: 100%|█████████▉| 254/255 [01:23<00:00,  3.03it/s, loss=0.329, v_num=3, train_loss=0.319, train_accuracy=0.833, val_loss=0.455, val_accuracy=0.793]\n",
      "Epoch 10: 100%|██████████| 255/255 [01:24<00:00,  3.02it/s, loss=0.329, v_num=3, train_loss=0.319, train_accuracy=0.833, val_loss=0.407, val_accuracy=0.835]\n",
      "Epoch 10: 100%|██████████| 255/255 [01:24<00:00,  3.02it/s, loss=0.329, v_num=3, train_loss=0.319, train_accuracy=0.833, val_loss=0.407, val_accuracy=0.835]"
     ]
    },
    {
     "name": "stderr",
     "output_type": "stream",
     "text": [
      "Epoch 10, global step 2485: val_loss reached 0.40675 (best 0.40675), saving model to \"/Workspace/code/checkpoints/best-checkpoint-corr-mi-18-v6.ckpt\" as top 2\n"
     ]
    },
    {
     "name": "stdout",
     "output_type": "stream",
     "text": [
      "Epoch 11:  89%|████████▊ | 226/255 [01:20<00:10,  2.81it/s, loss=0.518, v_num=3, train_loss=0.507, train_accuracy=0.722, val_loss=0.407, val_accuracy=0.835]\n",
      "Validating: 0it [00:00, ?it/s]\u001b[A\n",
      "Validating:   0%|          | 0/29 [00:00<?, ?it/s]\u001b[A\n",
      "Epoch 11:  89%|████████▉ | 228/255 [01:24<00:10,  2.68it/s, loss=0.518, v_num=3, train_loss=0.507, train_accuracy=0.722, val_loss=0.407, val_accuracy=0.835]\n",
      "Epoch 11:  90%|█████████ | 230/255 [01:25<00:09,  2.70it/s, loss=0.518, v_num=3, train_loss=0.507, train_accuracy=0.722, val_loss=0.407, val_accuracy=0.835]\n",
      "Epoch 11:  91%|█████████ | 232/255 [01:25<00:08,  2.72it/s, loss=0.518, v_num=3, train_loss=0.507, train_accuracy=0.722, val_loss=0.407, val_accuracy=0.835]\n",
      "Epoch 11:  92%|█████████▏| 234/255 [01:25<00:07,  2.74it/s, loss=0.518, v_num=3, train_loss=0.507, train_accuracy=0.722, val_loss=0.407, val_accuracy=0.835]\n",
      "Epoch 11:  93%|█████████▎| 236/255 [01:25<00:06,  2.75it/s, loss=0.518, v_num=3, train_loss=0.507, train_accuracy=0.722, val_loss=0.407, val_accuracy=0.835]\n",
      "Epoch 11:  93%|█████████▎| 238/255 [01:25<00:06,  2.77it/s, loss=0.518, v_num=3, train_loss=0.507, train_accuracy=0.722, val_loss=0.407, val_accuracy=0.835]\n",
      "Epoch 11:  94%|█████████▍| 240/255 [01:26<00:05,  2.79it/s, loss=0.518, v_num=3, train_loss=0.507, train_accuracy=0.722, val_loss=0.407, val_accuracy=0.835]\n",
      "Epoch 11:  95%|█████████▍| 242/255 [01:26<00:04,  2.81it/s, loss=0.518, v_num=3, train_loss=0.507, train_accuracy=0.722, val_loss=0.407, val_accuracy=0.835]\n",
      "Epoch 11:  96%|█████████▌| 244/255 [01:26<00:03,  2.83it/s, loss=0.518, v_num=3, train_loss=0.507, train_accuracy=0.722, val_loss=0.407, val_accuracy=0.835]\n",
      "Epoch 11:  96%|█████████▋| 246/255 [01:26<00:03,  2.84it/s, loss=0.518, v_num=3, train_loss=0.507, train_accuracy=0.722, val_loss=0.407, val_accuracy=0.835]\n",
      "Epoch 11:  97%|█████████▋| 248/255 [01:26<00:02,  2.86it/s, loss=0.518, v_num=3, train_loss=0.507, train_accuracy=0.722, val_loss=0.407, val_accuracy=0.835]\n",
      "Epoch 11:  98%|█████████▊| 250/255 [01:26<00:01,  2.88it/s, loss=0.518, v_num=3, train_loss=0.507, train_accuracy=0.722, val_loss=0.407, val_accuracy=0.835]\n",
      "Epoch 11:  99%|█████████▉| 252/255 [01:27<00:01,  2.90it/s, loss=0.518, v_num=3, train_loss=0.507, train_accuracy=0.722, val_loss=0.407, val_accuracy=0.835]\n",
      "Epoch 11: 100%|█████████▉| 254/255 [01:27<00:00,  2.91it/s, loss=0.518, v_num=3, train_loss=0.507, train_accuracy=0.722, val_loss=0.407, val_accuracy=0.835]\n",
      "Epoch 11: 100%|██████████| 255/255 [01:28<00:00,  2.90it/s, loss=0.518, v_num=3, train_loss=0.507, train_accuracy=0.722, val_loss=0.614, val_accuracy=0.732]\n",
      "Epoch 11: 100%|██████████| 255/255 [01:28<00:00,  2.90it/s, loss=0.518, v_num=3, train_loss=0.507, train_accuracy=0.722, val_loss=0.614, val_accuracy=0.732]"
     ]
    },
    {
     "name": "stderr",
     "output_type": "stream",
     "text": [
      "Epoch 11, global step 2711: val_loss was not in top 2\n"
     ]
    },
    {
     "name": "stdout",
     "output_type": "stream",
     "text": [
      "Epoch 12:  89%|████████▊ | 226/255 [01:22<00:10,  2.75it/s, loss=0.435, v_num=3, train_loss=0.349, train_accuracy=0.889, val_loss=0.614, val_accuracy=0.732]\n",
      "Validating: 0it [00:00, ?it/s]\u001b[A\n",
      "Validating:   0%|          | 0/29 [00:00<?, ?it/s]\u001b[A\n",
      "Epoch 12:  89%|████████▉ | 228/255 [01:26<00:10,  2.62it/s, loss=0.435, v_num=3, train_loss=0.349, train_accuracy=0.889, val_loss=0.614, val_accuracy=0.732]\n",
      "Epoch 12:  90%|█████████ | 230/255 [01:27<00:09,  2.64it/s, loss=0.435, v_num=3, train_loss=0.349, train_accuracy=0.889, val_loss=0.614, val_accuracy=0.732]\n",
      "Epoch 12:  91%|█████████ | 232/255 [01:27<00:08,  2.66it/s, loss=0.435, v_num=3, train_loss=0.349, train_accuracy=0.889, val_loss=0.614, val_accuracy=0.732]\n",
      "Epoch 12:  92%|█████████▏| 234/255 [01:27<00:07,  2.68it/s, loss=0.435, v_num=3, train_loss=0.349, train_accuracy=0.889, val_loss=0.614, val_accuracy=0.732]\n",
      "Epoch 12:  93%|█████████▎| 236/255 [01:27<00:07,  2.69it/s, loss=0.435, v_num=3, train_loss=0.349, train_accuracy=0.889, val_loss=0.614, val_accuracy=0.732]\n",
      "Epoch 12:  93%|█████████▎| 238/255 [01:27<00:06,  2.71it/s, loss=0.435, v_num=3, train_loss=0.349, train_accuracy=0.889, val_loss=0.614, val_accuracy=0.732]\n",
      "Epoch 12:  94%|█████████▍| 240/255 [01:27<00:05,  2.73it/s, loss=0.435, v_num=3, train_loss=0.349, train_accuracy=0.889, val_loss=0.614, val_accuracy=0.732]\n",
      "Epoch 12:  95%|█████████▍| 242/255 [01:28<00:04,  2.75it/s, loss=0.435, v_num=3, train_loss=0.349, train_accuracy=0.889, val_loss=0.614, val_accuracy=0.732]\n",
      "Epoch 12:  96%|█████████▌| 244/255 [01:28<00:03,  2.77it/s, loss=0.435, v_num=3, train_loss=0.349, train_accuracy=0.889, val_loss=0.614, val_accuracy=0.732]\n",
      "Epoch 12:  96%|█████████▋| 246/255 [01:28<00:03,  2.78it/s, loss=0.435, v_num=3, train_loss=0.349, train_accuracy=0.889, val_loss=0.614, val_accuracy=0.732]\n",
      "Epoch 12:  97%|█████████▋| 248/255 [01:28<00:02,  2.80it/s, loss=0.435, v_num=3, train_loss=0.349, train_accuracy=0.889, val_loss=0.614, val_accuracy=0.732]\n",
      "Epoch 12:  98%|█████████▊| 250/255 [01:28<00:01,  2.82it/s, loss=0.435, v_num=3, train_loss=0.349, train_accuracy=0.889, val_loss=0.614, val_accuracy=0.732]\n",
      "Epoch 12:  99%|█████████▉| 252/255 [01:28<00:01,  2.84it/s, loss=0.435, v_num=3, train_loss=0.349, train_accuracy=0.889, val_loss=0.614, val_accuracy=0.732]\n",
      "Epoch 12: 100%|█████████▉| 254/255 [01:29<00:00,  2.85it/s, loss=0.435, v_num=3, train_loss=0.349, train_accuracy=0.889, val_loss=0.614, val_accuracy=0.732]\n",
      "Epoch 12: 100%|██████████| 255/255 [01:29<00:00,  2.84it/s, loss=0.435, v_num=3, train_loss=0.349, train_accuracy=0.889, val_loss=0.484, val_accuracy=0.797]\n",
      "Epoch 12: 100%|██████████| 255/255 [01:29<00:00,  2.84it/s, loss=0.435, v_num=3, train_loss=0.349, train_accuracy=0.889, val_loss=0.484, val_accuracy=0.797]"
     ]
    },
    {
     "name": "stderr",
     "output_type": "stream",
     "text": [
      "Epoch 12, global step 2937: val_loss was not in top 2\n"
     ]
    },
    {
     "name": "stdout",
     "output_type": "stream",
     "text": [
      "Epoch 13:  89%|████████▊ | 226/255 [01:23<00:10,  2.72it/s, loss=0.355, v_num=3, train_loss=0.435, train_accuracy=0.778, val_loss=0.484, val_accuracy=0.797]\n",
      "Validating: 0it [00:00, ?it/s]\u001b[A\n",
      "Validating:   0%|          | 0/29 [00:00<?, ?it/s]\u001b[A\n",
      "Epoch 13:  89%|████████▉ | 228/255 [01:28<00:10,  2.59it/s, loss=0.355, v_num=3, train_loss=0.435, train_accuracy=0.778, val_loss=0.484, val_accuracy=0.797]\n",
      "Epoch 13:  90%|█████████ | 230/255 [01:28<00:09,  2.60it/s, loss=0.355, v_num=3, train_loss=0.435, train_accuracy=0.778, val_loss=0.484, val_accuracy=0.797]\n",
      "Epoch 13:  91%|█████████ | 232/255 [01:28<00:08,  2.62it/s, loss=0.355, v_num=3, train_loss=0.435, train_accuracy=0.778, val_loss=0.484, val_accuracy=0.797]\n",
      "Epoch 13:  92%|█████████▏| 234/255 [01:28<00:07,  2.64it/s, loss=0.355, v_num=3, train_loss=0.435, train_accuracy=0.778, val_loss=0.484, val_accuracy=0.797]\n",
      "Epoch 13:  93%|█████████▎| 236/255 [01:28<00:07,  2.66it/s, loss=0.355, v_num=3, train_loss=0.435, train_accuracy=0.778, val_loss=0.484, val_accuracy=0.797]\n",
      "Epoch 13:  93%|█████████▎| 238/255 [01:28<00:06,  2.67it/s, loss=0.355, v_num=3, train_loss=0.435, train_accuracy=0.778, val_loss=0.484, val_accuracy=0.797]\n",
      "Epoch 13:  94%|█████████▍| 240/255 [01:29<00:05,  2.69it/s, loss=0.355, v_num=3, train_loss=0.435, train_accuracy=0.778, val_loss=0.484, val_accuracy=0.797]\n",
      "Epoch 13:  95%|█████████▍| 242/255 [01:29<00:04,  2.71it/s, loss=0.355, v_num=3, train_loss=0.435, train_accuracy=0.778, val_loss=0.484, val_accuracy=0.797]\n",
      "Epoch 13:  96%|█████████▌| 244/255 [01:29<00:04,  2.73it/s, loss=0.355, v_num=3, train_loss=0.435, train_accuracy=0.778, val_loss=0.484, val_accuracy=0.797]\n",
      "Epoch 13:  96%|█████████▋| 246/255 [01:29<00:03,  2.74it/s, loss=0.355, v_num=3, train_loss=0.435, train_accuracy=0.778, val_loss=0.484, val_accuracy=0.797]\n",
      "Epoch 13:  97%|█████████▋| 248/255 [01:29<00:02,  2.76it/s, loss=0.355, v_num=3, train_loss=0.435, train_accuracy=0.778, val_loss=0.484, val_accuracy=0.797]\n",
      "Epoch 13:  98%|█████████▊| 250/255 [01:29<00:01,  2.78it/s, loss=0.355, v_num=3, train_loss=0.435, train_accuracy=0.778, val_loss=0.484, val_accuracy=0.797]\n",
      "Epoch 13:  99%|█████████▉| 252/255 [01:30<00:01,  2.80it/s, loss=0.355, v_num=3, train_loss=0.435, train_accuracy=0.778, val_loss=0.484, val_accuracy=0.797]\n",
      "Epoch 13: 100%|█████████▉| 254/255 [01:30<00:00,  2.81it/s, loss=0.355, v_num=3, train_loss=0.435, train_accuracy=0.778, val_loss=0.484, val_accuracy=0.797]\n",
      "Epoch 13: 100%|██████████| 255/255 [01:31<00:00,  2.80it/s, loss=0.355, v_num=3, train_loss=0.435, train_accuracy=0.778, val_loss=0.393, val_accuracy=0.852]\n",
      "Epoch 13: 100%|██████████| 255/255 [01:31<00:00,  2.80it/s, loss=0.355, v_num=3, train_loss=0.435, train_accuracy=0.778, val_loss=0.393, val_accuracy=0.852]"
     ]
    },
    {
     "name": "stderr",
     "output_type": "stream",
     "text": [
      "Epoch 13, global step 3163: val_loss reached 0.39304 (best 0.39304), saving model to \"/Workspace/code/checkpoints/best-checkpoint-corr-mi-18-v7.ckpt\" as top 2\n"
     ]
    },
    {
     "name": "stdout",
     "output_type": "stream",
     "text": [
      "Epoch 14:  89%|████████▊ | 226/255 [01:23<00:10,  2.70it/s, loss=0.572, v_num=3, train_loss=0.495, train_accuracy=0.833, val_loss=0.393, val_accuracy=0.852]\n",
      "Validating: 0it [00:00, ?it/s]\u001b[A\n",
      "Validating:   0%|          | 0/29 [00:00<?, ?it/s]\u001b[A\n",
      "Epoch 14:  89%|████████▉ | 228/255 [01:28<00:10,  2.58it/s, loss=0.572, v_num=3, train_loss=0.495, train_accuracy=0.833, val_loss=0.393, val_accuracy=0.852]\n",
      "Epoch 14:  90%|█████████ | 230/255 [01:28<00:09,  2.59it/s, loss=0.572, v_num=3, train_loss=0.495, train_accuracy=0.833, val_loss=0.393, val_accuracy=0.852]\n",
      "Epoch 14:  91%|█████████ | 232/255 [01:28<00:08,  2.61it/s, loss=0.572, v_num=3, train_loss=0.495, train_accuracy=0.833, val_loss=0.393, val_accuracy=0.852]\n",
      "Epoch 14:  92%|█████████▏| 234/255 [01:28<00:07,  2.63it/s, loss=0.572, v_num=3, train_loss=0.495, train_accuracy=0.833, val_loss=0.393, val_accuracy=0.852]\n",
      "Epoch 14:  93%|█████████▎| 236/255 [01:29<00:07,  2.65it/s, loss=0.572, v_num=3, train_loss=0.495, train_accuracy=0.833, val_loss=0.393, val_accuracy=0.852]\n",
      "Epoch 14:  93%|█████████▎| 238/255 [01:29<00:06,  2.67it/s, loss=0.572, v_num=3, train_loss=0.495, train_accuracy=0.833, val_loss=0.393, val_accuracy=0.852]\n",
      "Epoch 14:  94%|█████████▍| 240/255 [01:29<00:05,  2.68it/s, loss=0.572, v_num=3, train_loss=0.495, train_accuracy=0.833, val_loss=0.393, val_accuracy=0.852]\n",
      "Epoch 14:  95%|█████████▍| 242/255 [01:29<00:04,  2.70it/s, loss=0.572, v_num=3, train_loss=0.495, train_accuracy=0.833, val_loss=0.393, val_accuracy=0.852]\n",
      "Epoch 14:  96%|█████████▌| 244/255 [01:29<00:04,  2.72it/s, loss=0.572, v_num=3, train_loss=0.495, train_accuracy=0.833, val_loss=0.393, val_accuracy=0.852]\n",
      "Epoch 14:  96%|█████████▋| 246/255 [01:29<00:03,  2.74it/s, loss=0.572, v_num=3, train_loss=0.495, train_accuracy=0.833, val_loss=0.393, val_accuracy=0.852]\n",
      "Epoch 14:  97%|█████████▋| 248/255 [01:30<00:02,  2.75it/s, loss=0.572, v_num=3, train_loss=0.495, train_accuracy=0.833, val_loss=0.393, val_accuracy=0.852]\n",
      "Epoch 14:  98%|█████████▊| 250/255 [01:30<00:01,  2.77it/s, loss=0.572, v_num=3, train_loss=0.495, train_accuracy=0.833, val_loss=0.393, val_accuracy=0.852]\n",
      "Epoch 14:  99%|█████████▉| 252/255 [01:30<00:01,  2.79it/s, loss=0.572, v_num=3, train_loss=0.495, train_accuracy=0.833, val_loss=0.393, val_accuracy=0.852]\n",
      "Epoch 14: 100%|█████████▉| 254/255 [01:30<00:00,  2.80it/s, loss=0.572, v_num=3, train_loss=0.495, train_accuracy=0.833, val_loss=0.393, val_accuracy=0.852]\n",
      "Epoch 14: 100%|██████████| 255/255 [01:31<00:00,  2.79it/s, loss=0.572, v_num=3, train_loss=0.495, train_accuracy=0.833, val_loss=0.598, val_accuracy=0.721]\n",
      "Epoch 14: 100%|██████████| 255/255 [01:31<00:00,  2.79it/s, loss=0.572, v_num=3, train_loss=0.495, train_accuracy=0.833, val_loss=0.598, val_accuracy=0.721]"
     ]
    },
    {
     "name": "stderr",
     "output_type": "stream",
     "text": [
      "Epoch 14, global step 3389: val_loss was not in top 2\n"
     ]
    },
    {
     "name": "stdout",
     "output_type": "stream",
     "text": [
      "Epoch 15:  89%|████████▊ | 226/255 [01:23<00:10,  2.71it/s, loss=0.519, v_num=3, train_loss=0.487, train_accuracy=0.833, val_loss=0.598, val_accuracy=0.721]\n",
      "Validating: 0it [00:00, ?it/s]\u001b[A\n",
      "Validating:   0%|          | 0/29 [00:00<?, ?it/s]\u001b[A\n",
      "Epoch 15:  89%|████████▉ | 228/255 [01:28<00:10,  2.58it/s, loss=0.519, v_num=3, train_loss=0.487, train_accuracy=0.833, val_loss=0.598, val_accuracy=0.721]\n",
      "Epoch 15:  90%|█████████ | 230/255 [01:28<00:09,  2.60it/s, loss=0.519, v_num=3, train_loss=0.487, train_accuracy=0.833, val_loss=0.598, val_accuracy=0.721]\n",
      "Epoch 15:  91%|█████████ | 232/255 [01:28<00:08,  2.61it/s, loss=0.519, v_num=3, train_loss=0.487, train_accuracy=0.833, val_loss=0.598, val_accuracy=0.721]\n",
      "Epoch 15:  92%|█████████▏| 234/255 [01:28<00:07,  2.63it/s, loss=0.519, v_num=3, train_loss=0.487, train_accuracy=0.833, val_loss=0.598, val_accuracy=0.721]\n",
      "Epoch 15:  93%|█████████▎| 236/255 [01:29<00:07,  2.65it/s, loss=0.519, v_num=3, train_loss=0.487, train_accuracy=0.833, val_loss=0.598, val_accuracy=0.721]\n",
      "Epoch 15:  93%|█████████▎| 238/255 [01:29<00:06,  2.67it/s, loss=0.519, v_num=3, train_loss=0.487, train_accuracy=0.833, val_loss=0.598, val_accuracy=0.721]\n",
      "Epoch 15:  94%|█████████▍| 240/255 [01:29<00:05,  2.68it/s, loss=0.519, v_num=3, train_loss=0.487, train_accuracy=0.833, val_loss=0.598, val_accuracy=0.721]\n",
      "Epoch 15:  95%|█████████▍| 242/255 [01:29<00:04,  2.70it/s, loss=0.519, v_num=3, train_loss=0.487, train_accuracy=0.833, val_loss=0.598, val_accuracy=0.721]\n",
      "Epoch 15:  96%|█████████▌| 244/255 [01:29<00:04,  2.72it/s, loss=0.519, v_num=3, train_loss=0.487, train_accuracy=0.833, val_loss=0.598, val_accuracy=0.721]\n",
      "Epoch 15:  96%|█████████▋| 246/255 [01:29<00:03,  2.74it/s, loss=0.519, v_num=3, train_loss=0.487, train_accuracy=0.833, val_loss=0.598, val_accuracy=0.721]\n",
      "Epoch 15:  97%|█████████▋| 248/255 [01:30<00:02,  2.75it/s, loss=0.519, v_num=3, train_loss=0.487, train_accuracy=0.833, val_loss=0.598, val_accuracy=0.721]\n",
      "Epoch 15:  98%|█████████▊| 250/255 [01:30<00:01,  2.77it/s, loss=0.519, v_num=3, train_loss=0.487, train_accuracy=0.833, val_loss=0.598, val_accuracy=0.721]\n",
      "Epoch 15:  99%|█████████▉| 252/255 [01:30<00:01,  2.79it/s, loss=0.519, v_num=3, train_loss=0.487, train_accuracy=0.833, val_loss=0.598, val_accuracy=0.721]\n",
      "Epoch 15: 100%|█████████▉| 254/255 [01:30<00:00,  2.81it/s, loss=0.519, v_num=3, train_loss=0.487, train_accuracy=0.833, val_loss=0.598, val_accuracy=0.721]\n",
      "Epoch 15: 100%|██████████| 255/255 [01:31<00:00,  2.79it/s, loss=0.519, v_num=3, train_loss=0.487, train_accuracy=0.833, val_loss=0.555, val_accuracy=0.773]\n",
      "Epoch 15: 100%|██████████| 255/255 [01:31<00:00,  2.79it/s, loss=0.519, v_num=3, train_loss=0.487, train_accuracy=0.833, val_loss=0.555, val_accuracy=0.773]"
     ]
    },
    {
     "name": "stderr",
     "output_type": "stream",
     "text": [
      "Epoch 15, global step 3615: val_loss was not in top 2\n"
     ]
    },
    {
     "name": "stdout",
     "output_type": "stream",
     "text": [
      "Epoch 16:  89%|████████▊ | 226/255 [01:20<00:10,  2.82it/s, loss=0.469, v_num=3, train_loss=0.415, train_accuracy=0.833, val_loss=0.555, val_accuracy=0.773]\n",
      "Validating: 0it [00:00, ?it/s]\u001b[A\n",
      "Validating:   0%|          | 0/29 [00:00<?, ?it/s]\u001b[A\n",
      "Epoch 16:  89%|████████▉ | 228/255 [01:23<00:09,  2.72it/s, loss=0.469, v_num=3, train_loss=0.415, train_accuracy=0.833, val_loss=0.555, val_accuracy=0.773]\n",
      "Epoch 16:  90%|█████████ | 230/255 [01:23<00:09,  2.74it/s, loss=0.469, v_num=3, train_loss=0.415, train_accuracy=0.833, val_loss=0.555, val_accuracy=0.773]\n",
      "Epoch 16:  91%|█████████ | 232/255 [01:24<00:08,  2.76it/s, loss=0.469, v_num=3, train_loss=0.415, train_accuracy=0.833, val_loss=0.555, val_accuracy=0.773]\n",
      "Epoch 16:  92%|█████████▏| 234/255 [01:24<00:07,  2.78it/s, loss=0.469, v_num=3, train_loss=0.415, train_accuracy=0.833, val_loss=0.555, val_accuracy=0.773]\n",
      "Epoch 16:  93%|█████████▎| 236/255 [01:24<00:06,  2.80it/s, loss=0.469, v_num=3, train_loss=0.415, train_accuracy=0.833, val_loss=0.555, val_accuracy=0.773]\n",
      "Epoch 16:  93%|█████████▎| 238/255 [01:24<00:06,  2.81it/s, loss=0.469, v_num=3, train_loss=0.415, train_accuracy=0.833, val_loss=0.555, val_accuracy=0.773]\n",
      "Epoch 16:  94%|█████████▍| 240/255 [01:24<00:05,  2.83it/s, loss=0.469, v_num=3, train_loss=0.415, train_accuracy=0.833, val_loss=0.555, val_accuracy=0.773]\n",
      "Epoch 16:  95%|█████████▍| 242/255 [01:24<00:04,  2.85it/s, loss=0.469, v_num=3, train_loss=0.415, train_accuracy=0.833, val_loss=0.555, val_accuracy=0.773]\n",
      "Epoch 16:  96%|█████████▌| 244/255 [01:24<00:03,  2.87it/s, loss=0.469, v_num=3, train_loss=0.415, train_accuracy=0.833, val_loss=0.555, val_accuracy=0.773]\n",
      "Epoch 16:  96%|█████████▋| 246/255 [01:25<00:03,  2.89it/s, loss=0.469, v_num=3, train_loss=0.415, train_accuracy=0.833, val_loss=0.555, val_accuracy=0.773]\n",
      "Epoch 16:  97%|█████████▋| 248/255 [01:25<00:02,  2.91it/s, loss=0.469, v_num=3, train_loss=0.415, train_accuracy=0.833, val_loss=0.555, val_accuracy=0.773]\n",
      "Epoch 16:  98%|█████████▊| 250/255 [01:25<00:01,  2.93it/s, loss=0.469, v_num=3, train_loss=0.415, train_accuracy=0.833, val_loss=0.555, val_accuracy=0.773]\n",
      "Epoch 16:  99%|█████████▉| 252/255 [01:25<00:01,  2.95it/s, loss=0.469, v_num=3, train_loss=0.415, train_accuracy=0.833, val_loss=0.555, val_accuracy=0.773]\n",
      "Epoch 16: 100%|█████████▉| 254/255 [01:25<00:00,  2.96it/s, loss=0.469, v_num=3, train_loss=0.415, train_accuracy=0.833, val_loss=0.555, val_accuracy=0.773]\n",
      "Epoch 16: 100%|██████████| 255/255 [01:26<00:00,  2.95it/s, loss=0.469, v_num=3, train_loss=0.415, train_accuracy=0.833, val_loss=0.513, val_accuracy=0.791]\n",
      "Epoch 16: 100%|██████████| 255/255 [01:26<00:00,  2.95it/s, loss=0.469, v_num=3, train_loss=0.415, train_accuracy=0.833, val_loss=0.513, val_accuracy=0.791]"
     ]
    },
    {
     "name": "stderr",
     "output_type": "stream",
     "text": [
      "Epoch 16, global step 3841: val_loss was not in top 2\n"
     ]
    },
    {
     "name": "stdout",
     "output_type": "stream",
     "text": [
      "Epoch 17:  89%|████████▊ | 226/255 [01:17<00:09,  2.91it/s, loss=0.402, v_num=3, train_loss=0.360, train_accuracy=0.889, val_loss=0.513, val_accuracy=0.791]\n",
      "Validating: 0it [00:00, ?it/s]\u001b[A\n",
      "Validating:   0%|          | 0/29 [00:00<?, ?it/s]\u001b[A\n",
      "Epoch 17:  89%|████████▉ | 228/255 [01:21<00:09,  2.80it/s, loss=0.402, v_num=3, train_loss=0.360, train_accuracy=0.889, val_loss=0.513, val_accuracy=0.791]\n",
      "Epoch 17:  90%|█████████ | 230/255 [01:21<00:08,  2.82it/s, loss=0.402, v_num=3, train_loss=0.360, train_accuracy=0.889, val_loss=0.513, val_accuracy=0.791]\n",
      "Epoch 17:  91%|█████████ | 232/255 [01:21<00:08,  2.84it/s, loss=0.402, v_num=3, train_loss=0.360, train_accuracy=0.889, val_loss=0.513, val_accuracy=0.791]\n",
      "Epoch 17:  92%|█████████▏| 234/255 [01:21<00:07,  2.86it/s, loss=0.402, v_num=3, train_loss=0.360, train_accuracy=0.889, val_loss=0.513, val_accuracy=0.791]\n",
      "Epoch 17:  93%|█████████▎| 236/255 [01:21<00:06,  2.88it/s, loss=0.402, v_num=3, train_loss=0.360, train_accuracy=0.889, val_loss=0.513, val_accuracy=0.791]\n",
      "Epoch 17:  93%|█████████▎| 238/255 [01:22<00:05,  2.90it/s, loss=0.402, v_num=3, train_loss=0.360, train_accuracy=0.889, val_loss=0.513, val_accuracy=0.791]\n",
      "Epoch 17:  94%|█████████▍| 240/255 [01:22<00:05,  2.92it/s, loss=0.402, v_num=3, train_loss=0.360, train_accuracy=0.889, val_loss=0.513, val_accuracy=0.791]\n",
      "Epoch 17:  95%|█████████▍| 242/255 [01:22<00:04,  2.94it/s, loss=0.402, v_num=3, train_loss=0.360, train_accuracy=0.889, val_loss=0.513, val_accuracy=0.791]\n",
      "Epoch 17:  96%|█████████▌| 244/255 [01:22<00:03,  2.96it/s, loss=0.402, v_num=3, train_loss=0.360, train_accuracy=0.889, val_loss=0.513, val_accuracy=0.791]\n",
      "Epoch 17:  96%|█████████▋| 246/255 [01:22<00:03,  2.98it/s, loss=0.402, v_num=3, train_loss=0.360, train_accuracy=0.889, val_loss=0.513, val_accuracy=0.791]\n",
      "Epoch 17:  97%|█████████▋| 248/255 [01:22<00:02,  2.99it/s, loss=0.402, v_num=3, train_loss=0.360, train_accuracy=0.889, val_loss=0.513, val_accuracy=0.791]\n",
      "Epoch 17:  98%|█████████▊| 250/255 [01:22<00:01,  3.01it/s, loss=0.402, v_num=3, train_loss=0.360, train_accuracy=0.889, val_loss=0.513, val_accuracy=0.791]\n",
      "Epoch 17:  99%|█████████▉| 252/255 [01:23<00:00,  3.03it/s, loss=0.402, v_num=3, train_loss=0.360, train_accuracy=0.889, val_loss=0.513, val_accuracy=0.791]\n",
      "Epoch 17: 100%|█████████▉| 254/255 [01:23<00:00,  3.05it/s, loss=0.402, v_num=3, train_loss=0.360, train_accuracy=0.889, val_loss=0.513, val_accuracy=0.791]\n",
      "Epoch 17: 100%|██████████| 255/255 [01:23<00:00,  3.04it/s, loss=0.402, v_num=3, train_loss=0.360, train_accuracy=0.889, val_loss=0.453, val_accuracy=0.820]\n",
      "Epoch 17: 100%|██████████| 255/255 [01:23<00:00,  3.04it/s, loss=0.402, v_num=3, train_loss=0.360, train_accuracy=0.889, val_loss=0.453, val_accuracy=0.820]"
     ]
    },
    {
     "name": "stderr",
     "output_type": "stream",
     "text": [
      "Epoch 17, global step 4067: val_loss was not in top 2\n"
     ]
    },
    {
     "name": "stdout",
     "output_type": "stream",
     "text": [
      "Epoch 18:  89%|████████▊ | 226/255 [01:17<00:09,  2.91it/s, loss=0.336, v_num=3, train_loss=0.212, train_accuracy=0.889, val_loss=0.453, val_accuracy=0.820]\n",
      "Validating: 0it [00:00, ?it/s]\u001b[A\n",
      "Validating:   0%|          | 0/29 [00:00<?, ?it/s]\u001b[A\n",
      "Epoch 18:  89%|████████▉ | 228/255 [01:21<00:09,  2.80it/s, loss=0.336, v_num=3, train_loss=0.212, train_accuracy=0.889, val_loss=0.453, val_accuracy=0.820]\n",
      "Epoch 18:  90%|█████████ | 230/255 [01:21<00:08,  2.82it/s, loss=0.336, v_num=3, train_loss=0.212, train_accuracy=0.889, val_loss=0.453, val_accuracy=0.820]\n",
      "Epoch 18:  91%|█████████ | 232/255 [01:21<00:08,  2.84it/s, loss=0.336, v_num=3, train_loss=0.212, train_accuracy=0.889, val_loss=0.453, val_accuracy=0.820]\n",
      "Epoch 18:  92%|█████████▏| 234/255 [01:21<00:07,  2.86it/s, loss=0.336, v_num=3, train_loss=0.212, train_accuracy=0.889, val_loss=0.453, val_accuracy=0.820]\n",
      "Epoch 18:  93%|█████████▎| 236/255 [01:21<00:06,  2.88it/s, loss=0.336, v_num=3, train_loss=0.212, train_accuracy=0.889, val_loss=0.453, val_accuracy=0.820]\n",
      "Epoch 18:  93%|█████████▎| 238/255 [01:22<00:05,  2.90it/s, loss=0.336, v_num=3, train_loss=0.212, train_accuracy=0.889, val_loss=0.453, val_accuracy=0.820]\n",
      "Epoch 18:  94%|█████████▍| 240/255 [01:22<00:05,  2.92it/s, loss=0.336, v_num=3, train_loss=0.212, train_accuracy=0.889, val_loss=0.453, val_accuracy=0.820]\n",
      "Epoch 18:  95%|█████████▍| 242/255 [01:22<00:04,  2.94it/s, loss=0.336, v_num=3, train_loss=0.212, train_accuracy=0.889, val_loss=0.453, val_accuracy=0.820]\n",
      "Epoch 18:  96%|█████████▌| 244/255 [01:22<00:03,  2.96it/s, loss=0.336, v_num=3, train_loss=0.212, train_accuracy=0.889, val_loss=0.453, val_accuracy=0.820]\n",
      "Epoch 18:  96%|█████████▋| 246/255 [01:22<00:03,  2.98it/s, loss=0.336, v_num=3, train_loss=0.212, train_accuracy=0.889, val_loss=0.453, val_accuracy=0.820]\n",
      "Epoch 18:  97%|█████████▋| 248/255 [01:22<00:02,  3.00it/s, loss=0.336, v_num=3, train_loss=0.212, train_accuracy=0.889, val_loss=0.453, val_accuracy=0.820]\n",
      "Epoch 18:  98%|█████████▊| 250/255 [01:22<00:01,  3.01it/s, loss=0.336, v_num=3, train_loss=0.212, train_accuracy=0.889, val_loss=0.453, val_accuracy=0.820]\n",
      "Epoch 18:  99%|█████████▉| 252/255 [01:23<00:00,  3.03it/s, loss=0.336, v_num=3, train_loss=0.212, train_accuracy=0.889, val_loss=0.453, val_accuracy=0.820]\n",
      "Epoch 18: 100%|█████████▉| 254/255 [01:23<00:00,  3.05it/s, loss=0.336, v_num=3, train_loss=0.212, train_accuracy=0.889, val_loss=0.453, val_accuracy=0.820]\n",
      "Epoch 18: 100%|██████████| 255/255 [01:23<00:00,  3.04it/s, loss=0.336, v_num=3, train_loss=0.212, train_accuracy=0.889, val_loss=0.378, val_accuracy=0.846]\n",
      "Epoch 18: 100%|██████████| 255/255 [01:23<00:00,  3.04it/s, loss=0.336, v_num=3, train_loss=0.212, train_accuracy=0.889, val_loss=0.378, val_accuracy=0.846]"
     ]
    },
    {
     "name": "stderr",
     "output_type": "stream",
     "text": [
      "Epoch 18, global step 4293: val_loss reached 0.37766 (best 0.37766), saving model to \"/Workspace/code/checkpoints/best-checkpoint-corr-mi-18-v6.ckpt\" as top 2\n"
     ]
    },
    {
     "name": "stdout",
     "output_type": "stream",
     "text": [
      "Epoch 19:  89%|████████▊ | 226/255 [01:17<00:09,  2.91it/s, loss=0.585, v_num=3, train_loss=0.618, train_accuracy=0.722, val_loss=0.378, val_accuracy=0.846]\n",
      "Validating: 0it [00:00, ?it/s]\u001b[A\n",
      "Validating:   0%|          | 0/29 [00:00<?, ?it/s]\u001b[A\n",
      "Epoch 19:  89%|████████▉ | 228/255 [01:21<00:09,  2.80it/s, loss=0.585, v_num=3, train_loss=0.618, train_accuracy=0.722, val_loss=0.378, val_accuracy=0.846]\n",
      "Epoch 19:  90%|█████████ | 230/255 [01:21<00:08,  2.82it/s, loss=0.585, v_num=3, train_loss=0.618, train_accuracy=0.722, val_loss=0.378, val_accuracy=0.846]\n",
      "Epoch 19:  91%|█████████ | 232/255 [01:21<00:08,  2.84it/s, loss=0.585, v_num=3, train_loss=0.618, train_accuracy=0.722, val_loss=0.378, val_accuracy=0.846]\n",
      "Epoch 19:  92%|█████████▏| 234/255 [01:21<00:07,  2.86it/s, loss=0.585, v_num=3, train_loss=0.618, train_accuracy=0.722, val_loss=0.378, val_accuracy=0.846]\n",
      "Epoch 19:  93%|█████████▎| 236/255 [01:21<00:06,  2.88it/s, loss=0.585, v_num=3, train_loss=0.618, train_accuracy=0.722, val_loss=0.378, val_accuracy=0.846]\n",
      "Epoch 19:  93%|█████████▎| 238/255 [01:22<00:05,  2.90it/s, loss=0.585, v_num=3, train_loss=0.618, train_accuracy=0.722, val_loss=0.378, val_accuracy=0.846]\n",
      "Epoch 19:  94%|█████████▍| 240/255 [01:22<00:05,  2.92it/s, loss=0.585, v_num=3, train_loss=0.618, train_accuracy=0.722, val_loss=0.378, val_accuracy=0.846]\n",
      "Epoch 19:  95%|█████████▍| 242/255 [01:22<00:04,  2.94it/s, loss=0.585, v_num=3, train_loss=0.618, train_accuracy=0.722, val_loss=0.378, val_accuracy=0.846]\n",
      "Epoch 19:  96%|█████████▌| 244/255 [01:22<00:03,  2.96it/s, loss=0.585, v_num=3, train_loss=0.618, train_accuracy=0.722, val_loss=0.378, val_accuracy=0.846]\n",
      "Epoch 19:  96%|█████████▋| 246/255 [01:22<00:03,  2.98it/s, loss=0.585, v_num=3, train_loss=0.618, train_accuracy=0.722, val_loss=0.378, val_accuracy=0.846]\n",
      "Epoch 19:  97%|█████████▋| 248/255 [01:22<00:02,  2.99it/s, loss=0.585, v_num=3, train_loss=0.618, train_accuracy=0.722, val_loss=0.378, val_accuracy=0.846]\n",
      "Epoch 19:  98%|█████████▊| 250/255 [01:22<00:01,  3.01it/s, loss=0.585, v_num=3, train_loss=0.618, train_accuracy=0.722, val_loss=0.378, val_accuracy=0.846]\n",
      "Epoch 19:  99%|█████████▉| 252/255 [01:23<00:00,  3.03it/s, loss=0.585, v_num=3, train_loss=0.618, train_accuracy=0.722, val_loss=0.378, val_accuracy=0.846]\n",
      "Epoch 19: 100%|█████████▉| 254/255 [01:23<00:00,  3.05it/s, loss=0.585, v_num=3, train_loss=0.618, train_accuracy=0.722, val_loss=0.378, val_accuracy=0.846]\n",
      "Epoch 19: 100%|██████████| 255/255 [01:23<00:00,  3.04it/s, loss=0.585, v_num=3, train_loss=0.618, train_accuracy=0.722, val_loss=0.423, val_accuracy=0.819]\n",
      "Epoch 19: 100%|██████████| 255/255 [01:23<00:00,  3.04it/s, loss=0.585, v_num=3, train_loss=0.618, train_accuracy=0.722, val_loss=0.423, val_accuracy=0.819]"
     ]
    },
    {
     "name": "stderr",
     "output_type": "stream",
     "text": [
      "Epoch 19, global step 4519: val_loss was not in top 2\n"
     ]
    },
    {
     "name": "stdout",
     "output_type": "stream",
     "text": [
      "Epoch 20:  89%|████████▊ | 226/255 [01:17<00:09,  2.91it/s, loss=0.289, v_num=3, train_loss=0.331, train_accuracy=0.889, val_loss=0.423, val_accuracy=0.819]\n",
      "Validating: 0it [00:00, ?it/s]\u001b[A\n",
      "Validating:   0%|          | 0/29 [00:00<?, ?it/s]\u001b[A\n",
      "Epoch 20:  89%|████████▉ | 228/255 [01:21<00:09,  2.80it/s, loss=0.289, v_num=3, train_loss=0.331, train_accuracy=0.889, val_loss=0.423, val_accuracy=0.819]\n",
      "Epoch 20:  90%|█████████ | 230/255 [01:21<00:08,  2.82it/s, loss=0.289, v_num=3, train_loss=0.331, train_accuracy=0.889, val_loss=0.423, val_accuracy=0.819]\n",
      "Epoch 20:  91%|█████████ | 232/255 [01:21<00:08,  2.84it/s, loss=0.289, v_num=3, train_loss=0.331, train_accuracy=0.889, val_loss=0.423, val_accuracy=0.819]\n",
      "Epoch 20:  92%|█████████▏| 234/255 [01:21<00:07,  2.86it/s, loss=0.289, v_num=3, train_loss=0.331, train_accuracy=0.889, val_loss=0.423, val_accuracy=0.819]\n",
      "Epoch 20:  93%|█████████▎| 236/255 [01:22<00:06,  2.88it/s, loss=0.289, v_num=3, train_loss=0.331, train_accuracy=0.889, val_loss=0.423, val_accuracy=0.819]\n",
      "Epoch 20:  93%|█████████▎| 238/255 [01:22<00:05,  2.90it/s, loss=0.289, v_num=3, train_loss=0.331, train_accuracy=0.889, val_loss=0.423, val_accuracy=0.819]\n",
      "Epoch 20:  94%|█████████▍| 240/255 [01:22<00:05,  2.91it/s, loss=0.289, v_num=3, train_loss=0.331, train_accuracy=0.889, val_loss=0.423, val_accuracy=0.819]\n",
      "Epoch 20:  95%|█████████▍| 242/255 [01:22<00:04,  2.93it/s, loss=0.289, v_num=3, train_loss=0.331, train_accuracy=0.889, val_loss=0.423, val_accuracy=0.819]\n",
      "Epoch 20:  96%|█████████▌| 244/255 [01:22<00:03,  2.95it/s, loss=0.289, v_num=3, train_loss=0.331, train_accuracy=0.889, val_loss=0.423, val_accuracy=0.819]\n",
      "Epoch 20:  96%|█████████▋| 246/255 [01:22<00:03,  2.97it/s, loss=0.289, v_num=3, train_loss=0.331, train_accuracy=0.889, val_loss=0.423, val_accuracy=0.819]\n",
      "Epoch 20:  97%|█████████▋| 248/255 [01:22<00:02,  2.99it/s, loss=0.289, v_num=3, train_loss=0.331, train_accuracy=0.889, val_loss=0.423, val_accuracy=0.819]\n",
      "Epoch 20:  98%|█████████▊| 250/255 [01:23<00:01,  3.01it/s, loss=0.289, v_num=3, train_loss=0.331, train_accuracy=0.889, val_loss=0.423, val_accuracy=0.819]\n",
      "Epoch 20:  99%|█████████▉| 252/255 [01:23<00:00,  3.03it/s, loss=0.289, v_num=3, train_loss=0.331, train_accuracy=0.889, val_loss=0.423, val_accuracy=0.819]\n",
      "Epoch 20: 100%|█████████▉| 254/255 [01:23<00:00,  3.05it/s, loss=0.289, v_num=3, train_loss=0.331, train_accuracy=0.889, val_loss=0.423, val_accuracy=0.819]\n",
      "Epoch 20: 100%|██████████| 255/255 [01:24<00:00,  3.03it/s, loss=0.289, v_num=3, train_loss=0.331, train_accuracy=0.889, val_loss=0.331, val_accuracy=0.868]\n",
      "Epoch 20: 100%|██████████| 255/255 [01:24<00:00,  3.03it/s, loss=0.289, v_num=3, train_loss=0.331, train_accuracy=0.889, val_loss=0.331, val_accuracy=0.868]"
     ]
    },
    {
     "name": "stderr",
     "output_type": "stream",
     "text": [
      "Epoch 20, global step 4745: val_loss reached 0.33121 (best 0.33121), saving model to \"/Workspace/code/checkpoints/best-checkpoint-corr-mi-18-v7.ckpt\" as top 2\n"
     ]
    },
    {
     "name": "stdout",
     "output_type": "stream",
     "text": [
      "Epoch 21:  89%|████████▊ | 226/255 [01:18<00:10,  2.88it/s, loss=0.293, v_num=3, train_loss=0.276, train_accuracy=0.889, val_loss=0.331, val_accuracy=0.868]\n",
      "Validating: 0it [00:00, ?it/s]\u001b[A\n",
      "Validating:   0%|          | 0/29 [00:00<?, ?it/s]\u001b[A\n",
      "Epoch 21:  89%|████████▉ | 228/255 [01:22<00:09,  2.78it/s, loss=0.293, v_num=3, train_loss=0.276, train_accuracy=0.889, val_loss=0.331, val_accuracy=0.868]\n",
      "Epoch 21:  90%|█████████ | 230/255 [01:22<00:08,  2.80it/s, loss=0.293, v_num=3, train_loss=0.276, train_accuracy=0.889, val_loss=0.331, val_accuracy=0.868]\n",
      "Epoch 21:  91%|█████████ | 232/255 [01:22<00:08,  2.81it/s, loss=0.293, v_num=3, train_loss=0.276, train_accuracy=0.889, val_loss=0.331, val_accuracy=0.868]\n",
      "Epoch 21:  92%|█████████▏| 234/255 [01:22<00:07,  2.83it/s, loss=0.293, v_num=3, train_loss=0.276, train_accuracy=0.889, val_loss=0.331, val_accuracy=0.868]\n",
      "Epoch 21:  93%|█████████▎| 236/255 [01:22<00:06,  2.85it/s, loss=0.293, v_num=3, train_loss=0.276, train_accuracy=0.889, val_loss=0.331, val_accuracy=0.868]\n",
      "Epoch 21:  93%|█████████▎| 238/255 [01:22<00:05,  2.87it/s, loss=0.293, v_num=3, train_loss=0.276, train_accuracy=0.889, val_loss=0.331, val_accuracy=0.868]\n",
      "Epoch 21:  94%|█████████▍| 240/255 [01:23<00:05,  2.89it/s, loss=0.293, v_num=3, train_loss=0.276, train_accuracy=0.889, val_loss=0.331, val_accuracy=0.868]\n",
      "Epoch 21:  95%|█████████▍| 242/255 [01:23<00:04,  2.91it/s, loss=0.293, v_num=3, train_loss=0.276, train_accuracy=0.889, val_loss=0.331, val_accuracy=0.868]\n",
      "Epoch 21:  96%|█████████▌| 244/255 [01:23<00:03,  2.93it/s, loss=0.293, v_num=3, train_loss=0.276, train_accuracy=0.889, val_loss=0.331, val_accuracy=0.868]\n",
      "Epoch 21:  96%|█████████▋| 246/255 [01:23<00:03,  2.94it/s, loss=0.293, v_num=3, train_loss=0.276, train_accuracy=0.889, val_loss=0.331, val_accuracy=0.868]\n",
      "Epoch 21:  97%|█████████▋| 248/255 [01:23<00:02,  2.96it/s, loss=0.293, v_num=3, train_loss=0.276, train_accuracy=0.889, val_loss=0.331, val_accuracy=0.868]\n",
      "Epoch 21:  98%|█████████▊| 250/255 [01:23<00:01,  2.98it/s, loss=0.293, v_num=3, train_loss=0.276, train_accuracy=0.889, val_loss=0.331, val_accuracy=0.868]\n",
      "Epoch 21:  99%|█████████▉| 252/255 [01:23<00:00,  3.00it/s, loss=0.293, v_num=3, train_loss=0.276, train_accuracy=0.889, val_loss=0.331, val_accuracy=0.868]\n",
      "Epoch 21: 100%|█████████▉| 254/255 [01:24<00:00,  3.02it/s, loss=0.293, v_num=3, train_loss=0.276, train_accuracy=0.889, val_loss=0.331, val_accuracy=0.868]\n",
      "Epoch 21: 100%|██████████| 255/255 [01:24<00:00,  3.01it/s, loss=0.293, v_num=3, train_loss=0.276, train_accuracy=0.889, val_loss=0.301, val_accuracy=0.879]\n",
      "Epoch 21: 100%|██████████| 255/255 [01:24<00:00,  3.01it/s, loss=0.293, v_num=3, train_loss=0.276, train_accuracy=0.889, val_loss=0.301, val_accuracy=0.879]"
     ]
    },
    {
     "name": "stderr",
     "output_type": "stream",
     "text": [
      "Epoch 21, global step 4971: val_loss reached 0.30052 (best 0.30052), saving model to \"/Workspace/code/checkpoints/best-checkpoint-corr-mi-18-v6.ckpt\" as top 2\n"
     ]
    },
    {
     "name": "stdout",
     "output_type": "stream",
     "text": [
      "Epoch 22:  89%|████████▊ | 226/255 [01:18<00:10,  2.87it/s, loss=0.25, v_num=3, train_loss=0.144, train_accuracy=0.889, val_loss=0.301, val_accuracy=0.879] \n",
      "Validating: 0it [00:00, ?it/s]\u001b[A\n",
      "Validating:   0%|          | 0/29 [00:00<?, ?it/s]\u001b[A\n",
      "Epoch 22:  89%|████████▉ | 228/255 [01:22<00:09,  2.77it/s, loss=0.25, v_num=3, train_loss=0.144, train_accuracy=0.889, val_loss=0.301, val_accuracy=0.879]\n",
      "Epoch 22:  90%|█████████ | 230/255 [01:22<00:08,  2.79it/s, loss=0.25, v_num=3, train_loss=0.144, train_accuracy=0.889, val_loss=0.301, val_accuracy=0.879]\n",
      "Epoch 22:  91%|█████████ | 232/255 [01:22<00:08,  2.81it/s, loss=0.25, v_num=3, train_loss=0.144, train_accuracy=0.889, val_loss=0.301, val_accuracy=0.879]\n",
      "Epoch 22:  92%|█████████▏| 234/255 [01:22<00:07,  2.82it/s, loss=0.25, v_num=3, train_loss=0.144, train_accuracy=0.889, val_loss=0.301, val_accuracy=0.879]\n",
      "Epoch 22:  93%|█████████▎| 236/255 [01:22<00:06,  2.84it/s, loss=0.25, v_num=3, train_loss=0.144, train_accuracy=0.889, val_loss=0.301, val_accuracy=0.879]\n",
      "Epoch 22:  93%|█████████▎| 238/255 [01:23<00:05,  2.86it/s, loss=0.25, v_num=3, train_loss=0.144, train_accuracy=0.889, val_loss=0.301, val_accuracy=0.879]\n",
      "Epoch 22:  94%|█████████▍| 240/255 [01:23<00:05,  2.88it/s, loss=0.25, v_num=3, train_loss=0.144, train_accuracy=0.889, val_loss=0.301, val_accuracy=0.879]\n",
      "Epoch 22:  95%|█████████▍| 242/255 [01:23<00:04,  2.90it/s, loss=0.25, v_num=3, train_loss=0.144, train_accuracy=0.889, val_loss=0.301, val_accuracy=0.879]\n",
      "Epoch 22:  96%|█████████▌| 244/255 [01:23<00:03,  2.92it/s, loss=0.25, v_num=3, train_loss=0.144, train_accuracy=0.889, val_loss=0.301, val_accuracy=0.879]\n",
      "Epoch 22:  96%|█████████▋| 246/255 [01:23<00:03,  2.94it/s, loss=0.25, v_num=3, train_loss=0.144, train_accuracy=0.889, val_loss=0.301, val_accuracy=0.879]\n",
      "Epoch 22:  97%|█████████▋| 248/255 [01:23<00:02,  2.96it/s, loss=0.25, v_num=3, train_loss=0.144, train_accuracy=0.889, val_loss=0.301, val_accuracy=0.879]\n",
      "Epoch 22:  98%|█████████▊| 250/255 [01:24<00:01,  2.98it/s, loss=0.25, v_num=3, train_loss=0.144, train_accuracy=0.889, val_loss=0.301, val_accuracy=0.879]\n",
      "Epoch 22:  99%|█████████▉| 252/255 [01:24<00:01,  2.99it/s, loss=0.25, v_num=3, train_loss=0.144, train_accuracy=0.889, val_loss=0.301, val_accuracy=0.879]\n",
      "Epoch 22: 100%|█████████▉| 254/255 [01:24<00:00,  3.01it/s, loss=0.25, v_num=3, train_loss=0.144, train_accuracy=0.889, val_loss=0.301, val_accuracy=0.879]\n",
      "Epoch 22: 100%|██████████| 255/255 [01:25<00:00,  3.00it/s, loss=0.25, v_num=3, train_loss=0.144, train_accuracy=0.889, val_loss=0.304, val_accuracy=0.886]\n",
      "Epoch 22: 100%|██████████| 255/255 [01:25<00:00,  3.00it/s, loss=0.25, v_num=3, train_loss=0.144, train_accuracy=0.889, val_loss=0.304, val_accuracy=0.886]"
     ]
    },
    {
     "name": "stderr",
     "output_type": "stream",
     "text": [
      "Epoch 22, global step 5197: val_loss reached 0.30382 (best 0.30052), saving model to \"/Workspace/code/checkpoints/best-checkpoint-corr-mi-18-v7.ckpt\" as top 2\n"
     ]
    },
    {
     "name": "stdout",
     "output_type": "stream",
     "text": [
      "Epoch 23:  89%|████████▊ | 226/255 [01:17<00:09,  2.90it/s, loss=0.289, v_num=3, train_loss=0.343, train_accuracy=0.889, val_loss=0.304, val_accuracy=0.886]\n",
      "Validating: 0it [00:00, ?it/s]\u001b[A\n",
      "Validating:   0%|          | 0/29 [00:00<?, ?it/s]\u001b[A\n",
      "Epoch 23:  89%|████████▉ | 228/255 [01:21<00:09,  2.80it/s, loss=0.289, v_num=3, train_loss=0.343, train_accuracy=0.889, val_loss=0.304, val_accuracy=0.886]\n",
      "Epoch 23:  90%|█████████ | 230/255 [01:21<00:08,  2.82it/s, loss=0.289, v_num=3, train_loss=0.343, train_accuracy=0.889, val_loss=0.304, val_accuracy=0.886]\n",
      "Epoch 23:  91%|█████████ | 232/255 [01:21<00:08,  2.84it/s, loss=0.289, v_num=3, train_loss=0.343, train_accuracy=0.889, val_loss=0.304, val_accuracy=0.886]\n",
      "Epoch 23:  92%|█████████▏| 234/255 [01:21<00:07,  2.86it/s, loss=0.289, v_num=3, train_loss=0.343, train_accuracy=0.889, val_loss=0.304, val_accuracy=0.886]\n",
      "Epoch 23:  93%|█████████▎| 236/255 [01:22<00:06,  2.88it/s, loss=0.289, v_num=3, train_loss=0.343, train_accuracy=0.889, val_loss=0.304, val_accuracy=0.886]\n",
      "Epoch 23:  93%|█████████▎| 238/255 [01:22<00:05,  2.90it/s, loss=0.289, v_num=3, train_loss=0.343, train_accuracy=0.889, val_loss=0.304, val_accuracy=0.886]\n",
      "Epoch 23:  94%|█████████▍| 240/255 [01:22<00:05,  2.91it/s, loss=0.289, v_num=3, train_loss=0.343, train_accuracy=0.889, val_loss=0.304, val_accuracy=0.886]\n",
      "Epoch 23:  95%|█████████▍| 242/255 [01:22<00:04,  2.93it/s, loss=0.289, v_num=3, train_loss=0.343, train_accuracy=0.889, val_loss=0.304, val_accuracy=0.886]\n",
      "Epoch 23:  96%|█████████▌| 244/255 [01:22<00:03,  2.95it/s, loss=0.289, v_num=3, train_loss=0.343, train_accuracy=0.889, val_loss=0.304, val_accuracy=0.886]\n",
      "Epoch 23:  96%|█████████▋| 246/255 [01:22<00:03,  2.97it/s, loss=0.289, v_num=3, train_loss=0.343, train_accuracy=0.889, val_loss=0.304, val_accuracy=0.886]\n",
      "Epoch 23:  97%|█████████▋| 248/255 [01:22<00:02,  2.99it/s, loss=0.289, v_num=3, train_loss=0.343, train_accuracy=0.889, val_loss=0.304, val_accuracy=0.886]\n",
      "Epoch 23:  98%|█████████▊| 250/255 [01:23<00:01,  3.01it/s, loss=0.289, v_num=3, train_loss=0.343, train_accuracy=0.889, val_loss=0.304, val_accuracy=0.886]\n",
      "Epoch 23:  99%|█████████▉| 252/255 [01:23<00:00,  3.03it/s, loss=0.289, v_num=3, train_loss=0.343, train_accuracy=0.889, val_loss=0.304, val_accuracy=0.886]\n",
      "Epoch 23: 100%|█████████▉| 254/255 [01:23<00:00,  3.05it/s, loss=0.289, v_num=3, train_loss=0.343, train_accuracy=0.889, val_loss=0.304, val_accuracy=0.886]\n",
      "Epoch 23: 100%|██████████| 255/255 [01:24<00:00,  3.03it/s, loss=0.289, v_num=3, train_loss=0.343, train_accuracy=0.889, val_loss=0.296, val_accuracy=0.870]\n",
      "Epoch 23: 100%|██████████| 255/255 [01:24<00:00,  3.03it/s, loss=0.289, v_num=3, train_loss=0.343, train_accuracy=0.889, val_loss=0.296, val_accuracy=0.870]"
     ]
    },
    {
     "name": "stderr",
     "output_type": "stream",
     "text": [
      "Epoch 23, global step 5423: val_loss reached 0.29574 (best 0.29574), saving model to \"/Workspace/code/checkpoints/best-checkpoint-corr-mi-18-v7.ckpt\" as top 2\n"
     ]
    },
    {
     "name": "stdout",
     "output_type": "stream",
     "text": [
      "Epoch 24:  89%|████████▊ | 226/255 [01:17<00:10,  2.90it/s, loss=0.245, v_num=3, train_loss=0.301, train_accuracy=0.833, val_loss=0.296, val_accuracy=0.870]\n",
      "Validating: 0it [00:00, ?it/s]\u001b[A\n",
      "Validating:   0%|          | 0/29 [00:00<?, ?it/s]\u001b[A\n",
      "Epoch 24:  89%|████████▉ | 228/255 [01:21<00:09,  2.80it/s, loss=0.245, v_num=3, train_loss=0.301, train_accuracy=0.833, val_loss=0.296, val_accuracy=0.870]\n",
      "Epoch 24:  90%|█████████ | 230/255 [01:21<00:08,  2.81it/s, loss=0.245, v_num=3, train_loss=0.301, train_accuracy=0.833, val_loss=0.296, val_accuracy=0.870]\n",
      "Epoch 24:  91%|█████████ | 232/255 [01:21<00:08,  2.83it/s, loss=0.245, v_num=3, train_loss=0.301, train_accuracy=0.833, val_loss=0.296, val_accuracy=0.870]\n",
      "Epoch 24:  92%|█████████▏| 234/255 [01:22<00:07,  2.85it/s, loss=0.245, v_num=3, train_loss=0.301, train_accuracy=0.833, val_loss=0.296, val_accuracy=0.870]\n",
      "Epoch 24:  93%|█████████▎| 236/255 [01:22<00:06,  2.87it/s, loss=0.245, v_num=3, train_loss=0.301, train_accuracy=0.833, val_loss=0.296, val_accuracy=0.870]\n",
      "Epoch 24:  93%|█████████▎| 238/255 [01:22<00:05,  2.89it/s, loss=0.245, v_num=3, train_loss=0.301, train_accuracy=0.833, val_loss=0.296, val_accuracy=0.870]\n",
      "Epoch 24:  94%|█████████▍| 240/255 [01:22<00:05,  2.91it/s, loss=0.245, v_num=3, train_loss=0.301, train_accuracy=0.833, val_loss=0.296, val_accuracy=0.870]\n",
      "Epoch 24:  95%|█████████▍| 242/255 [01:22<00:04,  2.93it/s, loss=0.245, v_num=3, train_loss=0.301, train_accuracy=0.833, val_loss=0.296, val_accuracy=0.870]\n",
      "Epoch 24:  96%|█████████▌| 244/255 [01:22<00:03,  2.95it/s, loss=0.245, v_num=3, train_loss=0.301, train_accuracy=0.833, val_loss=0.296, val_accuracy=0.870]\n",
      "Epoch 24:  96%|█████████▋| 246/255 [01:22<00:03,  2.97it/s, loss=0.245, v_num=3, train_loss=0.301, train_accuracy=0.833, val_loss=0.296, val_accuracy=0.870]\n",
      "Epoch 24:  97%|█████████▋| 248/255 [01:23<00:02,  2.98it/s, loss=0.245, v_num=3, train_loss=0.301, train_accuracy=0.833, val_loss=0.296, val_accuracy=0.870]\n",
      "Epoch 24:  98%|█████████▊| 250/255 [01:23<00:01,  3.00it/s, loss=0.245, v_num=3, train_loss=0.301, train_accuracy=0.833, val_loss=0.296, val_accuracy=0.870]\n",
      "Epoch 24:  99%|█████████▉| 252/255 [01:23<00:00,  3.02it/s, loss=0.245, v_num=3, train_loss=0.301, train_accuracy=0.833, val_loss=0.296, val_accuracy=0.870]\n",
      "Epoch 24: 100%|█████████▉| 254/255 [01:23<00:00,  3.04it/s, loss=0.245, v_num=3, train_loss=0.301, train_accuracy=0.833, val_loss=0.296, val_accuracy=0.870]\n",
      "Epoch 24: 100%|██████████| 255/255 [01:24<00:00,  3.03it/s, loss=0.245, v_num=3, train_loss=0.301, train_accuracy=0.833, val_loss=0.279, val_accuracy=0.889]\n",
      "Epoch 24: 100%|██████████| 255/255 [01:24<00:00,  3.03it/s, loss=0.245, v_num=3, train_loss=0.301, train_accuracy=0.833, val_loss=0.279, val_accuracy=0.889]"
     ]
    },
    {
     "name": "stderr",
     "output_type": "stream",
     "text": [
      "Epoch 24, global step 5649: val_loss reached 0.27864 (best 0.27864), saving model to \"/Workspace/code/checkpoints/best-checkpoint-corr-mi-18-v6.ckpt\" as top 2\n"
     ]
    },
    {
     "name": "stdout",
     "output_type": "stream",
     "text": [
      "Epoch 25:  89%|████████▊ | 226/255 [01:18<00:10,  2.90it/s, loss=0.301, v_num=3, train_loss=0.325, train_accuracy=0.722, val_loss=0.279, val_accuracy=0.889] \n",
      "Validating: 0it [00:00, ?it/s]\u001b[A\n",
      "Validating:   0%|          | 0/29 [00:00<?, ?it/s]\u001b[A\n",
      "Epoch 25:  89%|████████▉ | 228/255 [01:21<00:09,  2.79it/s, loss=0.301, v_num=3, train_loss=0.325, train_accuracy=0.722, val_loss=0.279, val_accuracy=0.889]\n",
      "Epoch 25:  90%|█████████ | 230/255 [01:21<00:08,  2.81it/s, loss=0.301, v_num=3, train_loss=0.325, train_accuracy=0.722, val_loss=0.279, val_accuracy=0.889]\n",
      "Epoch 25:  91%|█████████ | 232/255 [01:21<00:08,  2.83it/s, loss=0.301, v_num=3, train_loss=0.325, train_accuracy=0.722, val_loss=0.279, val_accuracy=0.889]\n",
      "Epoch 25:  92%|█████████▏| 234/255 [01:22<00:07,  2.85it/s, loss=0.301, v_num=3, train_loss=0.325, train_accuracy=0.722, val_loss=0.279, val_accuracy=0.889]\n",
      "Epoch 25:  93%|█████████▎| 236/255 [01:22<00:06,  2.87it/s, loss=0.301, v_num=3, train_loss=0.325, train_accuracy=0.722, val_loss=0.279, val_accuracy=0.889]\n",
      "Epoch 25:  93%|█████████▎| 238/255 [01:22<00:05,  2.89it/s, loss=0.301, v_num=3, train_loss=0.325, train_accuracy=0.722, val_loss=0.279, val_accuracy=0.889]\n",
      "Epoch 25:  94%|█████████▍| 240/255 [01:22<00:05,  2.91it/s, loss=0.301, v_num=3, train_loss=0.325, train_accuracy=0.722, val_loss=0.279, val_accuracy=0.889]\n",
      "Epoch 25:  95%|█████████▍| 242/255 [01:22<00:04,  2.92it/s, loss=0.301, v_num=3, train_loss=0.325, train_accuracy=0.722, val_loss=0.279, val_accuracy=0.889]\n",
      "Epoch 25:  96%|█████████▌| 244/255 [01:22<00:03,  2.94it/s, loss=0.301, v_num=3, train_loss=0.325, train_accuracy=0.722, val_loss=0.279, val_accuracy=0.889]\n",
      "Epoch 25:  96%|█████████▋| 246/255 [01:23<00:03,  2.96it/s, loss=0.301, v_num=3, train_loss=0.325, train_accuracy=0.722, val_loss=0.279, val_accuracy=0.889]\n",
      "Epoch 25:  97%|█████████▋| 248/255 [01:23<00:02,  2.98it/s, loss=0.301, v_num=3, train_loss=0.325, train_accuracy=0.722, val_loss=0.279, val_accuracy=0.889]\n",
      "Epoch 25:  98%|█████████▊| 250/255 [01:23<00:01,  3.00it/s, loss=0.301, v_num=3, train_loss=0.325, train_accuracy=0.722, val_loss=0.279, val_accuracy=0.889]\n",
      "Epoch 25:  99%|█████████▉| 252/255 [01:23<00:00,  3.02it/s, loss=0.301, v_num=3, train_loss=0.325, train_accuracy=0.722, val_loss=0.279, val_accuracy=0.889]\n",
      "Epoch 25: 100%|█████████▉| 254/255 [01:23<00:00,  3.04it/s, loss=0.301, v_num=3, train_loss=0.325, train_accuracy=0.722, val_loss=0.279, val_accuracy=0.889]\n",
      "Epoch 25: 100%|██████████| 255/255 [01:24<00:00,  3.03it/s, loss=0.301, v_num=3, train_loss=0.325, train_accuracy=0.722, val_loss=0.309, val_accuracy=0.862]\n",
      "Epoch 25: 100%|██████████| 255/255 [01:24<00:00,  3.03it/s, loss=0.301, v_num=3, train_loss=0.325, train_accuracy=0.722, val_loss=0.309, val_accuracy=0.862]"
     ]
    },
    {
     "name": "stderr",
     "output_type": "stream",
     "text": [
      "Epoch 25, global step 5875: val_loss was not in top 2\n"
     ]
    },
    {
     "name": "stdout",
     "output_type": "stream",
     "text": [
      "Epoch 26:  89%|████████▊ | 226/255 [01:17<00:09,  2.91it/s, loss=0.768, v_num=3, train_loss=0.407, train_accuracy=0.778, val_loss=0.309, val_accuracy=0.862]\n",
      "Validating: 0it [00:00, ?it/s]\u001b[A\n",
      "Validating:   0%|          | 0/29 [00:00<?, ?it/s]\u001b[A\n",
      "Epoch 26:  89%|████████▉ | 228/255 [01:21<00:09,  2.80it/s, loss=0.768, v_num=3, train_loss=0.407, train_accuracy=0.778, val_loss=0.309, val_accuracy=0.862]\n",
      "Epoch 26:  90%|█████████ | 230/255 [01:21<00:08,  2.82it/s, loss=0.768, v_num=3, train_loss=0.407, train_accuracy=0.778, val_loss=0.309, val_accuracy=0.862]\n",
      "Epoch 26:  91%|█████████ | 232/255 [01:21<00:08,  2.84it/s, loss=0.768, v_num=3, train_loss=0.407, train_accuracy=0.778, val_loss=0.309, val_accuracy=0.862]\n",
      "Epoch 26:  92%|█████████▏| 234/255 [01:21<00:07,  2.86it/s, loss=0.768, v_num=3, train_loss=0.407, train_accuracy=0.778, val_loss=0.309, val_accuracy=0.862]\n",
      "Epoch 26:  93%|█████████▎| 236/255 [01:22<00:06,  2.88it/s, loss=0.768, v_num=3, train_loss=0.407, train_accuracy=0.778, val_loss=0.309, val_accuracy=0.862]\n",
      "Epoch 26:  93%|█████████▎| 238/255 [01:22<00:05,  2.90it/s, loss=0.768, v_num=3, train_loss=0.407, train_accuracy=0.778, val_loss=0.309, val_accuracy=0.862]\n",
      "Epoch 26:  94%|█████████▍| 240/255 [01:22<00:05,  2.92it/s, loss=0.768, v_num=3, train_loss=0.407, train_accuracy=0.778, val_loss=0.309, val_accuracy=0.862]\n",
      "Epoch 26:  95%|█████████▍| 242/255 [01:22<00:04,  2.94it/s, loss=0.768, v_num=3, train_loss=0.407, train_accuracy=0.778, val_loss=0.309, val_accuracy=0.862]\n",
      "Epoch 26:  96%|█████████▌| 244/255 [01:22<00:03,  2.95it/s, loss=0.768, v_num=3, train_loss=0.407, train_accuracy=0.778, val_loss=0.309, val_accuracy=0.862]\n",
      "Epoch 26:  96%|█████████▋| 246/255 [01:22<00:03,  2.97it/s, loss=0.768, v_num=3, train_loss=0.407, train_accuracy=0.778, val_loss=0.309, val_accuracy=0.862]\n",
      "Epoch 26:  97%|█████████▋| 248/255 [01:22<00:02,  2.99it/s, loss=0.768, v_num=3, train_loss=0.407, train_accuracy=0.778, val_loss=0.309, val_accuracy=0.862]\n",
      "Epoch 26:  98%|█████████▊| 250/255 [01:23<00:01,  3.01it/s, loss=0.768, v_num=3, train_loss=0.407, train_accuracy=0.778, val_loss=0.309, val_accuracy=0.862]\n",
      "Epoch 26:  99%|█████████▉| 252/255 [01:23<00:00,  3.03it/s, loss=0.768, v_num=3, train_loss=0.407, train_accuracy=0.778, val_loss=0.309, val_accuracy=0.862]\n",
      "Epoch 26: 100%|█████████▉| 254/255 [01:23<00:00,  3.05it/s, loss=0.768, v_num=3, train_loss=0.407, train_accuracy=0.778, val_loss=0.309, val_accuracy=0.862]\n",
      "Epoch 26: 100%|██████████| 255/255 [01:24<00:00,  3.03it/s, loss=0.768, v_num=3, train_loss=0.407, train_accuracy=0.778, val_loss=0.539, val_accuracy=0.732]\n",
      "Epoch 26: 100%|██████████| 255/255 [01:24<00:00,  3.03it/s, loss=0.768, v_num=3, train_loss=0.407, train_accuracy=0.778, val_loss=0.539, val_accuracy=0.732]"
     ]
    },
    {
     "name": "stderr",
     "output_type": "stream",
     "text": [
      "Epoch 26, global step 6101: val_loss was not in top 2\n"
     ]
    },
    {
     "name": "stdout",
     "output_type": "stream",
     "text": [
      "Epoch 27:  89%|████████▊ | 226/255 [01:17<00:09,  2.90it/s, loss=0.262, v_num=3, train_loss=0.389, train_accuracy=0.778, val_loss=0.539, val_accuracy=0.732] \n",
      "Validating: 0it [00:00, ?it/s]\u001b[A\n",
      "Validating:   0%|          | 0/29 [00:00<?, ?it/s]\u001b[A\n",
      "Epoch 27:  89%|████████▉ | 228/255 [01:21<00:09,  2.80it/s, loss=0.262, v_num=3, train_loss=0.389, train_accuracy=0.778, val_loss=0.539, val_accuracy=0.732]\n",
      "Epoch 27:  90%|█████████ | 230/255 [01:21<00:08,  2.82it/s, loss=0.262, v_num=3, train_loss=0.389, train_accuracy=0.778, val_loss=0.539, val_accuracy=0.732]\n",
      "Epoch 27:  91%|█████████ | 232/255 [01:21<00:08,  2.84it/s, loss=0.262, v_num=3, train_loss=0.389, train_accuracy=0.778, val_loss=0.539, val_accuracy=0.732]\n",
      "Epoch 27:  92%|█████████▏| 234/255 [01:21<00:07,  2.86it/s, loss=0.262, v_num=3, train_loss=0.389, train_accuracy=0.778, val_loss=0.539, val_accuracy=0.732]\n",
      "Epoch 27:  93%|█████████▎| 236/255 [01:22<00:06,  2.87it/s, loss=0.262, v_num=3, train_loss=0.389, train_accuracy=0.778, val_loss=0.539, val_accuracy=0.732]\n",
      "Epoch 27:  93%|█████████▎| 238/255 [01:22<00:05,  2.89it/s, loss=0.262, v_num=3, train_loss=0.389, train_accuracy=0.778, val_loss=0.539, val_accuracy=0.732]\n",
      "Epoch 27:  94%|█████████▍| 240/255 [01:22<00:05,  2.91it/s, loss=0.262, v_num=3, train_loss=0.389, train_accuracy=0.778, val_loss=0.539, val_accuracy=0.732]\n",
      "Epoch 27:  95%|█████████▍| 242/255 [01:22<00:04,  2.93it/s, loss=0.262, v_num=3, train_loss=0.389, train_accuracy=0.778, val_loss=0.539, val_accuracy=0.732]\n",
      "Epoch 27:  96%|█████████▌| 244/255 [01:22<00:03,  2.95it/s, loss=0.262, v_num=3, train_loss=0.389, train_accuracy=0.778, val_loss=0.539, val_accuracy=0.732]\n",
      "Epoch 27:  96%|█████████▋| 246/255 [01:22<00:03,  2.97it/s, loss=0.262, v_num=3, train_loss=0.389, train_accuracy=0.778, val_loss=0.539, val_accuracy=0.732]\n",
      "Epoch 27:  97%|█████████▋| 248/255 [01:22<00:02,  2.99it/s, loss=0.262, v_num=3, train_loss=0.389, train_accuracy=0.778, val_loss=0.539, val_accuracy=0.732]\n",
      "Epoch 27:  98%|█████████▊| 250/255 [01:23<00:01,  3.01it/s, loss=0.262, v_num=3, train_loss=0.389, train_accuracy=0.778, val_loss=0.539, val_accuracy=0.732]\n",
      "Epoch 27:  99%|█████████▉| 252/255 [01:23<00:00,  3.03it/s, loss=0.262, v_num=3, train_loss=0.389, train_accuracy=0.778, val_loss=0.539, val_accuracy=0.732]\n",
      "Epoch 27: 100%|█████████▉| 254/255 [01:23<00:00,  3.04it/s, loss=0.262, v_num=3, train_loss=0.389, train_accuracy=0.778, val_loss=0.539, val_accuracy=0.732]\n",
      "Epoch 27: 100%|██████████| 255/255 [01:24<00:00,  3.03it/s, loss=0.262, v_num=3, train_loss=0.389, train_accuracy=0.778, val_loss=0.273, val_accuracy=0.894]\n",
      "Epoch 27: 100%|██████████| 255/255 [01:24<00:00,  3.03it/s, loss=0.262, v_num=3, train_loss=0.389, train_accuracy=0.778, val_loss=0.273, val_accuracy=0.894]"
     ]
    },
    {
     "name": "stderr",
     "output_type": "stream",
     "text": [
      "Epoch 27, global step 6327: val_loss reached 0.27257 (best 0.27257), saving model to \"/Workspace/code/checkpoints/best-checkpoint-corr-mi-18-v7.ckpt\" as top 2\n"
     ]
    },
    {
     "name": "stdout",
     "output_type": "stream",
     "text": [
      "Epoch 28:  89%|████████▊ | 226/255 [01:17<00:10,  2.90it/s, loss=0.219, v_num=3, train_loss=0.428, train_accuracy=0.722, val_loss=0.273, val_accuracy=0.894]\n",
      "Validating: 0it [00:00, ?it/s]\u001b[A\n",
      "Validating:   0%|          | 0/29 [00:00<?, ?it/s]\u001b[A\n",
      "Epoch 28:  89%|████████▉ | 228/255 [01:21<00:09,  2.79it/s, loss=0.219, v_num=3, train_loss=0.428, train_accuracy=0.722, val_loss=0.273, val_accuracy=0.894]\n",
      "Epoch 28:  90%|█████████ | 230/255 [01:21<00:08,  2.81it/s, loss=0.219, v_num=3, train_loss=0.428, train_accuracy=0.722, val_loss=0.273, val_accuracy=0.894]\n",
      "Epoch 28:  91%|█████████ | 232/255 [01:21<00:08,  2.83it/s, loss=0.219, v_num=3, train_loss=0.428, train_accuracy=0.722, val_loss=0.273, val_accuracy=0.894]\n",
      "Epoch 28:  92%|█████████▏| 234/255 [01:22<00:07,  2.85it/s, loss=0.219, v_num=3, train_loss=0.428, train_accuracy=0.722, val_loss=0.273, val_accuracy=0.894]\n",
      "Epoch 28:  93%|█████████▎| 236/255 [01:22<00:06,  2.87it/s, loss=0.219, v_num=3, train_loss=0.428, train_accuracy=0.722, val_loss=0.273, val_accuracy=0.894]\n",
      "Epoch 28:  93%|█████████▎| 238/255 [01:22<00:05,  2.89it/s, loss=0.219, v_num=3, train_loss=0.428, train_accuracy=0.722, val_loss=0.273, val_accuracy=0.894]\n",
      "Epoch 28:  94%|█████████▍| 240/255 [01:22<00:05,  2.91it/s, loss=0.219, v_num=3, train_loss=0.428, train_accuracy=0.722, val_loss=0.273, val_accuracy=0.894]\n",
      "Epoch 28:  95%|█████████▍| 242/255 [01:22<00:04,  2.93it/s, loss=0.219, v_num=3, train_loss=0.428, train_accuracy=0.722, val_loss=0.273, val_accuracy=0.894]\n",
      "Epoch 28:  96%|█████████▌| 244/255 [01:22<00:03,  2.95it/s, loss=0.219, v_num=3, train_loss=0.428, train_accuracy=0.722, val_loss=0.273, val_accuracy=0.894]\n",
      "Epoch 28:  96%|█████████▋| 246/255 [01:22<00:03,  2.97it/s, loss=0.219, v_num=3, train_loss=0.428, train_accuracy=0.722, val_loss=0.273, val_accuracy=0.894]\n",
      "Epoch 28:  97%|█████████▋| 248/255 [01:23<00:02,  2.98it/s, loss=0.219, v_num=3, train_loss=0.428, train_accuracy=0.722, val_loss=0.273, val_accuracy=0.894]\n",
      "Epoch 28:  98%|█████████▊| 250/255 [01:23<00:01,  3.00it/s, loss=0.219, v_num=3, train_loss=0.428, train_accuracy=0.722, val_loss=0.273, val_accuracy=0.894]\n",
      "Epoch 28:  99%|█████████▉| 252/255 [01:23<00:00,  3.02it/s, loss=0.219, v_num=3, train_loss=0.428, train_accuracy=0.722, val_loss=0.273, val_accuracy=0.894]\n",
      "Epoch 28: 100%|█████████▉| 254/255 [01:23<00:00,  3.04it/s, loss=0.219, v_num=3, train_loss=0.428, train_accuracy=0.722, val_loss=0.273, val_accuracy=0.894]\n",
      "Epoch 28: 100%|██████████| 255/255 [01:24<00:00,  3.03it/s, loss=0.219, v_num=3, train_loss=0.428, train_accuracy=0.722, val_loss=0.290, val_accuracy=0.879]\n",
      "Epoch 28: 100%|██████████| 255/255 [01:24<00:00,  3.03it/s, loss=0.219, v_num=3, train_loss=0.428, train_accuracy=0.722, val_loss=0.290, val_accuracy=0.879]"
     ]
    },
    {
     "name": "stderr",
     "output_type": "stream",
     "text": [
      "Epoch 28, global step 6553: val_loss was not in top 2\n"
     ]
    },
    {
     "name": "stdout",
     "output_type": "stream",
     "text": [
      "Epoch 29:  89%|████████▊ | 226/255 [01:17<00:09,  2.91it/s, loss=0.23, v_num=3, train_loss=0.0999, train_accuracy=0.944, val_loss=0.290, val_accuracy=0.879] \n",
      "Validating: 0it [00:00, ?it/s]\u001b[A\n",
      "Validating:   0%|          | 0/29 [00:00<?, ?it/s]\u001b[A\n",
      "Epoch 29:  89%|████████▉ | 228/255 [01:21<00:09,  2.80it/s, loss=0.23, v_num=3, train_loss=0.0999, train_accuracy=0.944, val_loss=0.290, val_accuracy=0.879]\n",
      "Epoch 29:  90%|█████████ | 230/255 [01:21<00:08,  2.82it/s, loss=0.23, v_num=3, train_loss=0.0999, train_accuracy=0.944, val_loss=0.290, val_accuracy=0.879]\n",
      "Epoch 29:  91%|█████████ | 232/255 [01:21<00:08,  2.84it/s, loss=0.23, v_num=3, train_loss=0.0999, train_accuracy=0.944, val_loss=0.290, val_accuracy=0.879]\n",
      "Epoch 29:  92%|█████████▏| 234/255 [01:21<00:07,  2.86it/s, loss=0.23, v_num=3, train_loss=0.0999, train_accuracy=0.944, val_loss=0.290, val_accuracy=0.879]\n",
      "Epoch 29:  93%|█████████▎| 236/255 [01:22<00:06,  2.88it/s, loss=0.23, v_num=3, train_loss=0.0999, train_accuracy=0.944, val_loss=0.290, val_accuracy=0.879]\n",
      "Epoch 29:  93%|█████████▎| 238/255 [01:22<00:05,  2.90it/s, loss=0.23, v_num=3, train_loss=0.0999, train_accuracy=0.944, val_loss=0.290, val_accuracy=0.879]\n",
      "Epoch 29:  94%|█████████▍| 240/255 [01:22<00:05,  2.92it/s, loss=0.23, v_num=3, train_loss=0.0999, train_accuracy=0.944, val_loss=0.290, val_accuracy=0.879]\n",
      "Epoch 29:  95%|█████████▍| 242/255 [01:22<00:04,  2.93it/s, loss=0.23, v_num=3, train_loss=0.0999, train_accuracy=0.944, val_loss=0.290, val_accuracy=0.879]\n",
      "Epoch 29:  96%|█████████▌| 244/255 [01:22<00:03,  2.95it/s, loss=0.23, v_num=3, train_loss=0.0999, train_accuracy=0.944, val_loss=0.290, val_accuracy=0.879]\n",
      "Epoch 29:  96%|█████████▋| 246/255 [01:22<00:03,  2.97it/s, loss=0.23, v_num=3, train_loss=0.0999, train_accuracy=0.944, val_loss=0.290, val_accuracy=0.879]\n",
      "Epoch 29:  97%|█████████▋| 248/255 [01:22<00:02,  2.99it/s, loss=0.23, v_num=3, train_loss=0.0999, train_accuracy=0.944, val_loss=0.290, val_accuracy=0.879]\n",
      "Epoch 29:  98%|█████████▊| 250/255 [01:23<00:01,  3.01it/s, loss=0.23, v_num=3, train_loss=0.0999, train_accuracy=0.944, val_loss=0.290, val_accuracy=0.879]\n",
      "Epoch 29:  99%|█████████▉| 252/255 [01:23<00:00,  3.03it/s, loss=0.23, v_num=3, train_loss=0.0999, train_accuracy=0.944, val_loss=0.290, val_accuracy=0.879]\n",
      "Epoch 29: 100%|█████████▉| 254/255 [01:23<00:00,  3.05it/s, loss=0.23, v_num=3, train_loss=0.0999, train_accuracy=0.944, val_loss=0.290, val_accuracy=0.879]\n",
      "Epoch 29: 100%|██████████| 255/255 [01:24<00:00,  3.03it/s, loss=0.23, v_num=3, train_loss=0.0999, train_accuracy=0.944, val_loss=0.264, val_accuracy=0.889]\n",
      "Epoch 29: 100%|██████████| 255/255 [01:24<00:00,  3.03it/s, loss=0.23, v_num=3, train_loss=0.0999, train_accuracy=0.944, val_loss=0.264, val_accuracy=0.889]"
     ]
    },
    {
     "name": "stderr",
     "output_type": "stream",
     "text": [
      "Epoch 29, global step 6779: val_loss reached 0.26353 (best 0.26353), saving model to \"/Workspace/code/checkpoints/best-checkpoint-corr-mi-18-v6.ckpt\" as top 2\n"
     ]
    },
    {
     "name": "stdout",
     "output_type": "stream",
     "text": [
      "Epoch 30:  89%|████████▊ | 226/255 [01:17<00:09,  2.90it/s, loss=0.208, v_num=3, train_loss=0.143, train_accuracy=0.944, val_loss=0.264, val_accuracy=0.889] \n",
      "Validating: 0it [00:00, ?it/s]\u001b[A\n",
      "Validating:   0%|          | 0/29 [00:00<?, ?it/s]\u001b[A\n",
      "Epoch 30:  89%|████████▉ | 228/255 [01:21<00:09,  2.80it/s, loss=0.208, v_num=3, train_loss=0.143, train_accuracy=0.944, val_loss=0.264, val_accuracy=0.889]\n",
      "Epoch 30:  90%|█████████ | 230/255 [01:21<00:08,  2.82it/s, loss=0.208, v_num=3, train_loss=0.143, train_accuracy=0.944, val_loss=0.264, val_accuracy=0.889]\n",
      "Epoch 30:  91%|█████████ | 232/255 [01:21<00:08,  2.84it/s, loss=0.208, v_num=3, train_loss=0.143, train_accuracy=0.944, val_loss=0.264, val_accuracy=0.889]\n",
      "Epoch 30:  92%|█████████▏| 234/255 [01:21<00:07,  2.86it/s, loss=0.208, v_num=3, train_loss=0.143, train_accuracy=0.944, val_loss=0.264, val_accuracy=0.889]\n",
      "Epoch 30:  93%|█████████▎| 236/255 [01:22<00:06,  2.88it/s, loss=0.208, v_num=3, train_loss=0.143, train_accuracy=0.944, val_loss=0.264, val_accuracy=0.889]\n",
      "Epoch 30:  93%|█████████▎| 238/255 [01:22<00:05,  2.89it/s, loss=0.208, v_num=3, train_loss=0.143, train_accuracy=0.944, val_loss=0.264, val_accuracy=0.889]\n",
      "Epoch 30:  94%|█████████▍| 240/255 [01:22<00:05,  2.91it/s, loss=0.208, v_num=3, train_loss=0.143, train_accuracy=0.944, val_loss=0.264, val_accuracy=0.889]\n",
      "Epoch 30:  95%|█████████▍| 242/255 [01:22<00:04,  2.93it/s, loss=0.208, v_num=3, train_loss=0.143, train_accuracy=0.944, val_loss=0.264, val_accuracy=0.889]\n",
      "Epoch 30:  96%|█████████▌| 244/255 [01:22<00:03,  2.95it/s, loss=0.208, v_num=3, train_loss=0.143, train_accuracy=0.944, val_loss=0.264, val_accuracy=0.889]\n",
      "Epoch 30:  96%|█████████▋| 246/255 [01:22<00:03,  2.97it/s, loss=0.208, v_num=3, train_loss=0.143, train_accuracy=0.944, val_loss=0.264, val_accuracy=0.889]\n",
      "Epoch 30:  97%|█████████▋| 248/255 [01:22<00:02,  2.99it/s, loss=0.208, v_num=3, train_loss=0.143, train_accuracy=0.944, val_loss=0.264, val_accuracy=0.889]\n",
      "Epoch 30:  98%|█████████▊| 250/255 [01:23<00:01,  3.01it/s, loss=0.208, v_num=3, train_loss=0.143, train_accuracy=0.944, val_loss=0.264, val_accuracy=0.889]\n",
      "Epoch 30:  99%|█████████▉| 252/255 [01:23<00:00,  3.03it/s, loss=0.208, v_num=3, train_loss=0.143, train_accuracy=0.944, val_loss=0.264, val_accuracy=0.889]\n",
      "Epoch 30: 100%|█████████▉| 254/255 [01:23<00:00,  3.05it/s, loss=0.208, v_num=3, train_loss=0.143, train_accuracy=0.944, val_loss=0.264, val_accuracy=0.889]\n",
      "Epoch 30: 100%|██████████| 255/255 [01:24<00:00,  3.03it/s, loss=0.208, v_num=3, train_loss=0.143, train_accuracy=0.944, val_loss=0.249, val_accuracy=0.896]\n",
      "Epoch 30: 100%|██████████| 255/255 [01:24<00:00,  3.03it/s, loss=0.208, v_num=3, train_loss=0.143, train_accuracy=0.944, val_loss=0.249, val_accuracy=0.896]"
     ]
    },
    {
     "name": "stderr",
     "output_type": "stream",
     "text": [
      "Epoch 30, global step 7005: val_loss reached 0.24873 (best 0.24873), saving model to \"/Workspace/code/checkpoints/best-checkpoint-corr-mi-18-v7.ckpt\" as top 2\n"
     ]
    },
    {
     "name": "stdout",
     "output_type": "stream",
     "text": [
      "Epoch 31:  89%|████████▊ | 226/255 [01:17<00:09,  2.90it/s, loss=0.189, v_num=3, train_loss=0.130, train_accuracy=0.944, val_loss=0.249, val_accuracy=0.896] \n",
      "Validating: 0it [00:00, ?it/s]\u001b[A\n",
      "Validating:   0%|          | 0/29 [00:00<?, ?it/s]\u001b[A\n",
      "Epoch 31:  89%|████████▉ | 228/255 [01:21<00:09,  2.80it/s, loss=0.189, v_num=3, train_loss=0.130, train_accuracy=0.944, val_loss=0.249, val_accuracy=0.896]\n",
      "Epoch 31:  90%|█████████ | 230/255 [01:21<00:08,  2.82it/s, loss=0.189, v_num=3, train_loss=0.130, train_accuracy=0.944, val_loss=0.249, val_accuracy=0.896]\n",
      "Epoch 31:  91%|█████████ | 232/255 [01:21<00:08,  2.84it/s, loss=0.189, v_num=3, train_loss=0.130, train_accuracy=0.944, val_loss=0.249, val_accuracy=0.896]\n",
      "Epoch 31:  92%|█████████▏| 234/255 [01:21<00:07,  2.86it/s, loss=0.189, v_num=3, train_loss=0.130, train_accuracy=0.944, val_loss=0.249, val_accuracy=0.896]\n",
      "Epoch 31:  93%|█████████▎| 236/255 [01:22<00:06,  2.88it/s, loss=0.189, v_num=3, train_loss=0.130, train_accuracy=0.944, val_loss=0.249, val_accuracy=0.896]\n",
      "Epoch 31:  93%|█████████▎| 238/255 [01:22<00:05,  2.89it/s, loss=0.189, v_num=3, train_loss=0.130, train_accuracy=0.944, val_loss=0.249, val_accuracy=0.896]\n",
      "Epoch 31:  94%|█████████▍| 240/255 [01:22<00:05,  2.91it/s, loss=0.189, v_num=3, train_loss=0.130, train_accuracy=0.944, val_loss=0.249, val_accuracy=0.896]\n",
      "Epoch 31:  95%|█████████▍| 242/255 [01:22<00:04,  2.93it/s, loss=0.189, v_num=3, train_loss=0.130, train_accuracy=0.944, val_loss=0.249, val_accuracy=0.896]\n",
      "Epoch 31:  96%|█████████▌| 244/255 [01:22<00:03,  2.95it/s, loss=0.189, v_num=3, train_loss=0.130, train_accuracy=0.944, val_loss=0.249, val_accuracy=0.896]\n",
      "Epoch 31:  96%|█████████▋| 246/255 [01:22<00:03,  2.97it/s, loss=0.189, v_num=3, train_loss=0.130, train_accuracy=0.944, val_loss=0.249, val_accuracy=0.896]\n",
      "Epoch 31:  97%|█████████▋| 248/255 [01:22<00:02,  2.99it/s, loss=0.189, v_num=3, train_loss=0.130, train_accuracy=0.944, val_loss=0.249, val_accuracy=0.896]\n",
      "Epoch 31:  98%|█████████▊| 250/255 [01:23<00:01,  3.01it/s, loss=0.189, v_num=3, train_loss=0.130, train_accuracy=0.944, val_loss=0.249, val_accuracy=0.896]\n",
      "Epoch 31:  99%|█████████▉| 252/255 [01:23<00:00,  3.03it/s, loss=0.189, v_num=3, train_loss=0.130, train_accuracy=0.944, val_loss=0.249, val_accuracy=0.896]\n",
      "Epoch 31: 100%|█████████▉| 254/255 [01:23<00:00,  3.05it/s, loss=0.189, v_num=3, train_loss=0.130, train_accuracy=0.944, val_loss=0.249, val_accuracy=0.896]\n",
      "Epoch 31: 100%|██████████| 255/255 [01:24<00:00,  3.03it/s, loss=0.189, v_num=3, train_loss=0.130, train_accuracy=0.944, val_loss=0.257, val_accuracy=0.887]\n",
      "Epoch 31: 100%|██████████| 255/255 [01:24<00:00,  3.03it/s, loss=0.189, v_num=3, train_loss=0.130, train_accuracy=0.944, val_loss=0.257, val_accuracy=0.887]"
     ]
    },
    {
     "name": "stderr",
     "output_type": "stream",
     "text": [
      "Epoch 31, global step 7231: val_loss reached 0.25708 (best 0.24873), saving model to \"/Workspace/code/checkpoints/best-checkpoint-corr-mi-18-v6.ckpt\" as top 2\n"
     ]
    },
    {
     "name": "stdout",
     "output_type": "stream",
     "text": [
      "Epoch 32:  89%|████████▊ | 226/255 [01:17<00:09,  2.90it/s, loss=0.192, v_num=3, train_loss=0.142, train_accuracy=0.944, val_loss=0.257, val_accuracy=0.887] \n",
      "Validating: 0it [00:00, ?it/s]\u001b[A\n",
      "Validating:   0%|          | 0/29 [00:00<?, ?it/s]\u001b[A\n",
      "Epoch 32:  89%|████████▉ | 228/255 [01:21<00:09,  2.80it/s, loss=0.192, v_num=3, train_loss=0.142, train_accuracy=0.944, val_loss=0.257, val_accuracy=0.887]\n",
      "Epoch 32:  90%|█████████ | 230/255 [01:21<00:08,  2.82it/s, loss=0.192, v_num=3, train_loss=0.142, train_accuracy=0.944, val_loss=0.257, val_accuracy=0.887]\n",
      "Epoch 32:  91%|█████████ | 232/255 [01:21<00:08,  2.84it/s, loss=0.192, v_num=3, train_loss=0.142, train_accuracy=0.944, val_loss=0.257, val_accuracy=0.887]\n",
      "Epoch 32:  92%|█████████▏| 234/255 [01:21<00:07,  2.85it/s, loss=0.192, v_num=3, train_loss=0.142, train_accuracy=0.944, val_loss=0.257, val_accuracy=0.887]\n",
      "Epoch 32:  93%|█████████▎| 236/255 [01:22<00:06,  2.87it/s, loss=0.192, v_num=3, train_loss=0.142, train_accuracy=0.944, val_loss=0.257, val_accuracy=0.887]\n",
      "Epoch 32:  93%|█████████▎| 238/255 [01:22<00:05,  2.89it/s, loss=0.192, v_num=3, train_loss=0.142, train_accuracy=0.944, val_loss=0.257, val_accuracy=0.887]\n",
      "Epoch 32:  94%|█████████▍| 240/255 [01:22<00:05,  2.91it/s, loss=0.192, v_num=3, train_loss=0.142, train_accuracy=0.944, val_loss=0.257, val_accuracy=0.887]\n",
      "Epoch 32:  95%|█████████▍| 242/255 [01:22<00:04,  2.93it/s, loss=0.192, v_num=3, train_loss=0.142, train_accuracy=0.944, val_loss=0.257, val_accuracy=0.887]\n",
      "Epoch 32:  96%|█████████▌| 244/255 [01:22<00:03,  2.95it/s, loss=0.192, v_num=3, train_loss=0.142, train_accuracy=0.944, val_loss=0.257, val_accuracy=0.887]\n",
      "Epoch 32:  96%|█████████▋| 246/255 [01:22<00:03,  2.97it/s, loss=0.192, v_num=3, train_loss=0.142, train_accuracy=0.944, val_loss=0.257, val_accuracy=0.887]\n",
      "Epoch 32:  97%|█████████▋| 248/255 [01:23<00:02,  2.99it/s, loss=0.192, v_num=3, train_loss=0.142, train_accuracy=0.944, val_loss=0.257, val_accuracy=0.887]\n",
      "Epoch 32:  98%|█████████▊| 250/255 [01:23<00:01,  3.01it/s, loss=0.192, v_num=3, train_loss=0.142, train_accuracy=0.944, val_loss=0.257, val_accuracy=0.887]\n",
      "Epoch 32:  99%|█████████▉| 252/255 [01:23<00:00,  3.02it/s, loss=0.192, v_num=3, train_loss=0.142, train_accuracy=0.944, val_loss=0.257, val_accuracy=0.887]\n",
      "Epoch 32: 100%|█████████▉| 254/255 [01:23<00:00,  3.04it/s, loss=0.192, v_num=3, train_loss=0.142, train_accuracy=0.944, val_loss=0.257, val_accuracy=0.887]\n",
      "Epoch 32: 100%|██████████| 255/255 [01:24<00:00,  3.03it/s, loss=0.192, v_num=3, train_loss=0.142, train_accuracy=0.944, val_loss=0.232, val_accuracy=0.906]\n",
      "Epoch 32: 100%|██████████| 255/255 [01:24<00:00,  3.03it/s, loss=0.192, v_num=3, train_loss=0.142, train_accuracy=0.944, val_loss=0.232, val_accuracy=0.906]"
     ]
    },
    {
     "name": "stderr",
     "output_type": "stream",
     "text": [
      "Epoch 32, global step 7457: val_loss reached 0.23154 (best 0.23154), saving model to \"/Workspace/code/checkpoints/best-checkpoint-corr-mi-18-v6.ckpt\" as top 2\n"
     ]
    },
    {
     "name": "stdout",
     "output_type": "stream",
     "text": [
      "Epoch 33:  89%|████████▊ | 226/255 [01:17<00:10,  2.90it/s, loss=0.2, v_num=3, train_loss=0.413, train_accuracy=0.944, val_loss=0.232, val_accuracy=0.906]   \n",
      "Validating: 0it [00:00, ?it/s]\u001b[A\n",
      "Validating:   0%|          | 0/29 [00:00<?, ?it/s]\u001b[A\n",
      "Epoch 33:  89%|████████▉ | 228/255 [01:21<00:09,  2.79it/s, loss=0.2, v_num=3, train_loss=0.413, train_accuracy=0.944, val_loss=0.232, val_accuracy=0.906]\n",
      "Epoch 33:  90%|█████████ | 230/255 [01:21<00:08,  2.81it/s, loss=0.2, v_num=3, train_loss=0.413, train_accuracy=0.944, val_loss=0.232, val_accuracy=0.906]\n",
      "Epoch 33:  91%|█████████ | 232/255 [01:21<00:08,  2.83it/s, loss=0.2, v_num=3, train_loss=0.413, train_accuracy=0.944, val_loss=0.232, val_accuracy=0.906]\n",
      "Epoch 33:  92%|█████████▏| 234/255 [01:22<00:07,  2.85it/s, loss=0.2, v_num=3, train_loss=0.413, train_accuracy=0.944, val_loss=0.232, val_accuracy=0.906]\n",
      "Epoch 33:  93%|█████████▎| 236/255 [01:22<00:06,  2.87it/s, loss=0.2, v_num=3, train_loss=0.413, train_accuracy=0.944, val_loss=0.232, val_accuracy=0.906]\n",
      "Epoch 33:  93%|█████████▎| 238/255 [01:22<00:05,  2.89it/s, loss=0.2, v_num=3, train_loss=0.413, train_accuracy=0.944, val_loss=0.232, val_accuracy=0.906]\n",
      "Epoch 33:  94%|█████████▍| 240/255 [01:22<00:05,  2.91it/s, loss=0.2, v_num=3, train_loss=0.413, train_accuracy=0.944, val_loss=0.232, val_accuracy=0.906]\n",
      "Epoch 33:  95%|█████████▍| 242/255 [01:22<00:04,  2.93it/s, loss=0.2, v_num=3, train_loss=0.413, train_accuracy=0.944, val_loss=0.232, val_accuracy=0.906]\n",
      "Epoch 33:  96%|█████████▌| 244/255 [01:22<00:03,  2.95it/s, loss=0.2, v_num=3, train_loss=0.413, train_accuracy=0.944, val_loss=0.232, val_accuracy=0.906]\n",
      "Epoch 33:  96%|█████████▋| 246/255 [01:22<00:03,  2.97it/s, loss=0.2, v_num=3, train_loss=0.413, train_accuracy=0.944, val_loss=0.232, val_accuracy=0.906]\n",
      "Epoch 33:  97%|█████████▋| 248/255 [01:23<00:02,  2.99it/s, loss=0.2, v_num=3, train_loss=0.413, train_accuracy=0.944, val_loss=0.232, val_accuracy=0.906]\n",
      "Epoch 33:  98%|█████████▊| 250/255 [01:23<00:01,  3.00it/s, loss=0.2, v_num=3, train_loss=0.413, train_accuracy=0.944, val_loss=0.232, val_accuracy=0.906]\n",
      "Epoch 33:  99%|█████████▉| 252/255 [01:23<00:00,  3.02it/s, loss=0.2, v_num=3, train_loss=0.413, train_accuracy=0.944, val_loss=0.232, val_accuracy=0.906]\n",
      "Epoch 33: 100%|█████████▉| 254/255 [01:23<00:00,  3.04it/s, loss=0.2, v_num=3, train_loss=0.413, train_accuracy=0.944, val_loss=0.232, val_accuracy=0.906]\n",
      "Epoch 33: 100%|██████████| 255/255 [01:24<00:00,  3.03it/s, loss=0.2, v_num=3, train_loss=0.413, train_accuracy=0.944, val_loss=0.256, val_accuracy=0.896]\n",
      "Epoch 33: 100%|██████████| 255/255 [01:24<00:00,  3.03it/s, loss=0.2, v_num=3, train_loss=0.413, train_accuracy=0.944, val_loss=0.256, val_accuracy=0.896]"
     ]
    },
    {
     "name": "stderr",
     "output_type": "stream",
     "text": [
      "Epoch 33, global step 7683: val_loss was not in top 2\n"
     ]
    },
    {
     "name": "stdout",
     "output_type": "stream",
     "text": [
      "Epoch 34:  89%|████████▊ | 226/255 [01:17<00:09,  2.90it/s, loss=0.213, v_num=3, train_loss=0.167, train_accuracy=0.889, val_loss=0.256, val_accuracy=0.896] \n",
      "Validating: 0it [00:00, ?it/s]\u001b[A\n",
      "Validating:   0%|          | 0/29 [00:00<?, ?it/s]\u001b[A\n",
      "Epoch 34:  89%|████████▉ | 228/255 [01:21<00:09,  2.79it/s, loss=0.213, v_num=3, train_loss=0.167, train_accuracy=0.889, val_loss=0.256, val_accuracy=0.896]\n",
      "Epoch 34:  90%|█████████ | 230/255 [01:21<00:08,  2.81it/s, loss=0.213, v_num=3, train_loss=0.167, train_accuracy=0.889, val_loss=0.256, val_accuracy=0.896]\n",
      "Epoch 34:  91%|█████████ | 232/255 [01:21<00:08,  2.83it/s, loss=0.213, v_num=3, train_loss=0.167, train_accuracy=0.889, val_loss=0.256, val_accuracy=0.896]\n",
      "Epoch 34:  92%|█████████▏| 234/255 [01:22<00:07,  2.85it/s, loss=0.213, v_num=3, train_loss=0.167, train_accuracy=0.889, val_loss=0.256, val_accuracy=0.896]\n",
      "Epoch 34:  93%|█████████▎| 236/255 [01:22<00:06,  2.87it/s, loss=0.213, v_num=3, train_loss=0.167, train_accuracy=0.889, val_loss=0.256, val_accuracy=0.896]\n",
      "Epoch 34:  93%|█████████▎| 238/255 [01:22<00:05,  2.89it/s, loss=0.213, v_num=3, train_loss=0.167, train_accuracy=0.889, val_loss=0.256, val_accuracy=0.896]\n",
      "Epoch 34:  94%|█████████▍| 240/255 [01:22<00:05,  2.91it/s, loss=0.213, v_num=3, train_loss=0.167, train_accuracy=0.889, val_loss=0.256, val_accuracy=0.896]\n",
      "Epoch 34:  95%|█████████▍| 242/255 [01:22<00:04,  2.93it/s, loss=0.213, v_num=3, train_loss=0.167, train_accuracy=0.889, val_loss=0.256, val_accuracy=0.896]\n",
      "Epoch 34:  96%|█████████▌| 244/255 [01:22<00:03,  2.94it/s, loss=0.213, v_num=3, train_loss=0.167, train_accuracy=0.889, val_loss=0.256, val_accuracy=0.896]\n",
      "Epoch 34:  96%|█████████▋| 246/255 [01:23<00:03,  2.96it/s, loss=0.213, v_num=3, train_loss=0.167, train_accuracy=0.889, val_loss=0.256, val_accuracy=0.896]\n",
      "Epoch 34:  97%|█████████▋| 248/255 [01:23<00:02,  2.98it/s, loss=0.213, v_num=3, train_loss=0.167, train_accuracy=0.889, val_loss=0.256, val_accuracy=0.896]\n",
      "Epoch 34:  98%|█████████▊| 250/255 [01:23<00:01,  3.00it/s, loss=0.213, v_num=3, train_loss=0.167, train_accuracy=0.889, val_loss=0.256, val_accuracy=0.896]\n",
      "Epoch 34:  99%|█████████▉| 252/255 [01:23<00:00,  3.02it/s, loss=0.213, v_num=3, train_loss=0.167, train_accuracy=0.889, val_loss=0.256, val_accuracy=0.896]\n",
      "Epoch 34: 100%|█████████▉| 254/255 [01:23<00:00,  3.04it/s, loss=0.213, v_num=3, train_loss=0.167, train_accuracy=0.889, val_loss=0.256, val_accuracy=0.896]\n",
      "Epoch 34: 100%|██████████| 255/255 [01:24<00:00,  3.02it/s, loss=0.213, v_num=3, train_loss=0.167, train_accuracy=0.889, val_loss=0.232, val_accuracy=0.901]\n",
      "Epoch 34: 100%|██████████| 255/255 [01:24<00:00,  3.02it/s, loss=0.213, v_num=3, train_loss=0.167, train_accuracy=0.889, val_loss=0.232, val_accuracy=0.901]"
     ]
    },
    {
     "name": "stderr",
     "output_type": "stream",
     "text": [
      "Epoch 34, global step 7909: val_loss reached 0.23225 (best 0.23154), saving model to \"/Workspace/code/checkpoints/best-checkpoint-corr-mi-18-v7.ckpt\" as top 2\n"
     ]
    },
    {
     "name": "stdout",
     "output_type": "stream",
     "text": [
      "Epoch 35:  89%|████████▊ | 226/255 [01:17<00:09,  2.90it/s, loss=0.216, v_num=3, train_loss=0.365, train_accuracy=0.889, val_loss=0.232, val_accuracy=0.901] \n",
      "Validating: 0it [00:00, ?it/s]\u001b[A\n",
      "Validating:   0%|          | 0/29 [00:00<?, ?it/s]\u001b[A\n",
      "Epoch 35:  89%|████████▉ | 228/255 [01:21<00:09,  2.79it/s, loss=0.216, v_num=3, train_loss=0.365, train_accuracy=0.889, val_loss=0.232, val_accuracy=0.901]\n",
      "Epoch 35:  90%|█████████ | 230/255 [01:21<00:08,  2.81it/s, loss=0.216, v_num=3, train_loss=0.365, train_accuracy=0.889, val_loss=0.232, val_accuracy=0.901]\n",
      "Epoch 35:  91%|█████████ | 232/255 [01:21<00:08,  2.83it/s, loss=0.216, v_num=3, train_loss=0.365, train_accuracy=0.889, val_loss=0.232, val_accuracy=0.901]\n",
      "Epoch 35:  92%|█████████▏| 234/255 [01:22<00:07,  2.85it/s, loss=0.216, v_num=3, train_loss=0.365, train_accuracy=0.889, val_loss=0.232, val_accuracy=0.901]\n",
      "Epoch 35:  93%|█████████▎| 236/255 [01:22<00:06,  2.87it/s, loss=0.216, v_num=3, train_loss=0.365, train_accuracy=0.889, val_loss=0.232, val_accuracy=0.901]\n",
      "Epoch 35:  93%|█████████▎| 238/255 [01:22<00:05,  2.89it/s, loss=0.216, v_num=3, train_loss=0.365, train_accuracy=0.889, val_loss=0.232, val_accuracy=0.901]\n",
      "Epoch 35:  94%|█████████▍| 240/255 [01:22<00:05,  2.91it/s, loss=0.216, v_num=3, train_loss=0.365, train_accuracy=0.889, val_loss=0.232, val_accuracy=0.901]\n",
      "Epoch 35:  95%|█████████▍| 242/255 [01:22<00:04,  2.93it/s, loss=0.216, v_num=3, train_loss=0.365, train_accuracy=0.889, val_loss=0.232, val_accuracy=0.901]\n",
      "Epoch 35:  96%|█████████▌| 244/255 [01:22<00:03,  2.95it/s, loss=0.216, v_num=3, train_loss=0.365, train_accuracy=0.889, val_loss=0.232, val_accuracy=0.901]\n",
      "Epoch 35:  96%|█████████▋| 246/255 [01:22<00:03,  2.96it/s, loss=0.216, v_num=3, train_loss=0.365, train_accuracy=0.889, val_loss=0.232, val_accuracy=0.901]\n",
      "Epoch 35:  97%|█████████▋| 248/255 [01:23<00:02,  2.98it/s, loss=0.216, v_num=3, train_loss=0.365, train_accuracy=0.889, val_loss=0.232, val_accuracy=0.901]\n",
      "Epoch 35:  98%|█████████▊| 250/255 [01:23<00:01,  3.00it/s, loss=0.216, v_num=3, train_loss=0.365, train_accuracy=0.889, val_loss=0.232, val_accuracy=0.901]\n",
      "Epoch 35:  99%|█████████▉| 252/255 [01:23<00:00,  3.02it/s, loss=0.216, v_num=3, train_loss=0.365, train_accuracy=0.889, val_loss=0.232, val_accuracy=0.901]\n",
      "Epoch 35: 100%|█████████▉| 254/255 [01:23<00:00,  3.04it/s, loss=0.216, v_num=3, train_loss=0.365, train_accuracy=0.889, val_loss=0.232, val_accuracy=0.901]\n",
      "Epoch 35: 100%|██████████| 255/255 [01:24<00:00,  3.03it/s, loss=0.216, v_num=3, train_loss=0.365, train_accuracy=0.889, val_loss=0.253, val_accuracy=0.898]\n",
      "Epoch 35: 100%|██████████| 255/255 [01:24<00:00,  3.03it/s, loss=0.216, v_num=3, train_loss=0.365, train_accuracy=0.889, val_loss=0.253, val_accuracy=0.898]"
     ]
    },
    {
     "name": "stderr",
     "output_type": "stream",
     "text": [
      "Epoch 35, global step 8135: val_loss was not in top 2\n"
     ]
    },
    {
     "name": "stdout",
     "output_type": "stream",
     "text": [
      "Epoch 36:  89%|████████▊ | 226/255 [01:17<00:09,  2.91it/s, loss=0.197, v_num=3, train_loss=0.0626, train_accuracy=1.000, val_loss=0.253, val_accuracy=0.898]\n",
      "Validating: 0it [00:00, ?it/s]\u001b[A\n",
      "Validating:   0%|          | 0/29 [00:00<?, ?it/s]\u001b[A\n",
      "Epoch 36:  89%|████████▉ | 228/255 [01:21<00:09,  2.80it/s, loss=0.197, v_num=3, train_loss=0.0626, train_accuracy=1.000, val_loss=0.253, val_accuracy=0.898]\n",
      "Epoch 36:  90%|█████████ | 230/255 [01:21<00:08,  2.82it/s, loss=0.197, v_num=3, train_loss=0.0626, train_accuracy=1.000, val_loss=0.253, val_accuracy=0.898]\n",
      "Epoch 36:  91%|█████████ | 232/255 [01:21<00:08,  2.84it/s, loss=0.197, v_num=3, train_loss=0.0626, train_accuracy=1.000, val_loss=0.253, val_accuracy=0.898]\n",
      "Epoch 36:  92%|█████████▏| 234/255 [01:21<00:07,  2.86it/s, loss=0.197, v_num=3, train_loss=0.0626, train_accuracy=1.000, val_loss=0.253, val_accuracy=0.898]\n",
      "Epoch 36:  93%|█████████▎| 236/255 [01:22<00:06,  2.88it/s, loss=0.197, v_num=3, train_loss=0.0626, train_accuracy=1.000, val_loss=0.253, val_accuracy=0.898]\n",
      "Epoch 36:  93%|█████████▎| 238/255 [01:22<00:05,  2.89it/s, loss=0.197, v_num=3, train_loss=0.0626, train_accuracy=1.000, val_loss=0.253, val_accuracy=0.898]\n",
      "Epoch 36:  94%|█████████▍| 240/255 [01:22<00:05,  2.91it/s, loss=0.197, v_num=3, train_loss=0.0626, train_accuracy=1.000, val_loss=0.253, val_accuracy=0.898]\n",
      "Epoch 36:  95%|█████████▍| 242/255 [01:22<00:04,  2.93it/s, loss=0.197, v_num=3, train_loss=0.0626, train_accuracy=1.000, val_loss=0.253, val_accuracy=0.898]\n",
      "Epoch 36:  96%|█████████▌| 244/255 [01:22<00:03,  2.95it/s, loss=0.197, v_num=3, train_loss=0.0626, train_accuracy=1.000, val_loss=0.253, val_accuracy=0.898]\n",
      "Epoch 36:  96%|█████████▋| 246/255 [01:22<00:03,  2.97it/s, loss=0.197, v_num=3, train_loss=0.0626, train_accuracy=1.000, val_loss=0.253, val_accuracy=0.898]\n",
      "Epoch 36:  97%|█████████▋| 248/255 [01:22<00:02,  2.99it/s, loss=0.197, v_num=3, train_loss=0.0626, train_accuracy=1.000, val_loss=0.253, val_accuracy=0.898]\n",
      "Epoch 36:  98%|█████████▊| 250/255 [01:23<00:01,  3.01it/s, loss=0.197, v_num=3, train_loss=0.0626, train_accuracy=1.000, val_loss=0.253, val_accuracy=0.898]\n",
      "Epoch 36:  99%|█████████▉| 252/255 [01:23<00:00,  3.03it/s, loss=0.197, v_num=3, train_loss=0.0626, train_accuracy=1.000, val_loss=0.253, val_accuracy=0.898]\n",
      "Epoch 36: 100%|█████████▉| 254/255 [01:23<00:00,  3.05it/s, loss=0.197, v_num=3, train_loss=0.0626, train_accuracy=1.000, val_loss=0.253, val_accuracy=0.898]\n",
      "Epoch 36: 100%|██████████| 255/255 [01:24<00:00,  3.03it/s, loss=0.197, v_num=3, train_loss=0.0626, train_accuracy=1.000, val_loss=0.240, val_accuracy=0.898]\n",
      "Epoch 36: 100%|██████████| 255/255 [01:24<00:00,  3.03it/s, loss=0.197, v_num=3, train_loss=0.0626, train_accuracy=1.000, val_loss=0.240, val_accuracy=0.898]"
     ]
    },
    {
     "name": "stderr",
     "output_type": "stream",
     "text": [
      "Epoch 36, global step 8361: val_loss was not in top 2\n"
     ]
    },
    {
     "name": "stdout",
     "output_type": "stream",
     "text": [
      "Epoch 37:  89%|████████▊ | 226/255 [01:17<00:09,  2.90it/s, loss=0.213, v_num=3, train_loss=0.138, train_accuracy=0.944, val_loss=0.240, val_accuracy=0.898] \n",
      "Validating: 0it [00:00, ?it/s]\u001b[A\n",
      "Validating:   0%|          | 0/29 [00:00<?, ?it/s]\u001b[A\n",
      "Epoch 37:  89%|████████▉ | 228/255 [01:21<00:09,  2.79it/s, loss=0.213, v_num=3, train_loss=0.138, train_accuracy=0.944, val_loss=0.240, val_accuracy=0.898]\n",
      "Epoch 37:  90%|█████████ | 230/255 [01:21<00:08,  2.81it/s, loss=0.213, v_num=3, train_loss=0.138, train_accuracy=0.944, val_loss=0.240, val_accuracy=0.898]\n",
      "Epoch 37:  91%|█████████ | 232/255 [01:21<00:08,  2.83it/s, loss=0.213, v_num=3, train_loss=0.138, train_accuracy=0.944, val_loss=0.240, val_accuracy=0.898]\n",
      "Epoch 37:  92%|█████████▏| 234/255 [01:22<00:07,  2.85it/s, loss=0.213, v_num=3, train_loss=0.138, train_accuracy=0.944, val_loss=0.240, val_accuracy=0.898]\n",
      "Epoch 37:  93%|█████████▎| 236/255 [01:22<00:06,  2.87it/s, loss=0.213, v_num=3, train_loss=0.138, train_accuracy=0.944, val_loss=0.240, val_accuracy=0.898]\n",
      "Epoch 37:  93%|█████████▎| 238/255 [01:22<00:05,  2.89it/s, loss=0.213, v_num=3, train_loss=0.138, train_accuracy=0.944, val_loss=0.240, val_accuracy=0.898]\n",
      "Epoch 37:  94%|█████████▍| 240/255 [01:22<00:05,  2.91it/s, loss=0.213, v_num=3, train_loss=0.138, train_accuracy=0.944, val_loss=0.240, val_accuracy=0.898]\n",
      "Epoch 37:  95%|█████████▍| 242/255 [01:22<00:04,  2.93it/s, loss=0.213, v_num=3, train_loss=0.138, train_accuracy=0.944, val_loss=0.240, val_accuracy=0.898]\n",
      "Epoch 37:  96%|█████████▌| 244/255 [01:22<00:03,  2.95it/s, loss=0.213, v_num=3, train_loss=0.138, train_accuracy=0.944, val_loss=0.240, val_accuracy=0.898]\n",
      "Epoch 37:  96%|█████████▋| 246/255 [01:22<00:03,  2.97it/s, loss=0.213, v_num=3, train_loss=0.138, train_accuracy=0.944, val_loss=0.240, val_accuracy=0.898]\n",
      "Epoch 37:  97%|█████████▋| 248/255 [01:23<00:02,  2.98it/s, loss=0.213, v_num=3, train_loss=0.138, train_accuracy=0.944, val_loss=0.240, val_accuracy=0.898]\n",
      "Epoch 37:  98%|█████████▊| 250/255 [01:23<00:01,  3.00it/s, loss=0.213, v_num=3, train_loss=0.138, train_accuracy=0.944, val_loss=0.240, val_accuracy=0.898]\n",
      "Epoch 37:  99%|█████████▉| 252/255 [01:23<00:00,  3.02it/s, loss=0.213, v_num=3, train_loss=0.138, train_accuracy=0.944, val_loss=0.240, val_accuracy=0.898]\n",
      "Epoch 37: 100%|█████████▉| 254/255 [01:23<00:00,  3.04it/s, loss=0.213, v_num=3, train_loss=0.138, train_accuracy=0.944, val_loss=0.240, val_accuracy=0.898]\n",
      "Epoch 37: 100%|██████████| 255/255 [01:24<00:00,  3.03it/s, loss=0.213, v_num=3, train_loss=0.138, train_accuracy=0.944, val_loss=0.217, val_accuracy=0.906]\n",
      "Epoch 37: 100%|██████████| 255/255 [01:24<00:00,  3.03it/s, loss=0.213, v_num=3, train_loss=0.138, train_accuracy=0.944, val_loss=0.217, val_accuracy=0.906]"
     ]
    },
    {
     "name": "stderr",
     "output_type": "stream",
     "text": [
      "Epoch 37, global step 8587: val_loss reached 0.21685 (best 0.21685), saving model to \"/Workspace/code/checkpoints/best-checkpoint-corr-mi-18-v7.ckpt\" as top 2\n"
     ]
    },
    {
     "name": "stdout",
     "output_type": "stream",
     "text": [
      "Epoch 38:  89%|████████▊ | 226/255 [01:17<00:09,  2.90it/s, loss=0.177, v_num=3, train_loss=0.0985, train_accuracy=1.000, val_loss=0.217, val_accuracy=0.906]\n",
      "Validating: 0it [00:00, ?it/s]\u001b[A\n",
      "Validating:   0%|          | 0/29 [00:00<?, ?it/s]\u001b[A\n",
      "Epoch 38:  89%|████████▉ | 228/255 [01:21<00:09,  2.80it/s, loss=0.177, v_num=3, train_loss=0.0985, train_accuracy=1.000, val_loss=0.217, val_accuracy=0.906]\n",
      "Epoch 38:  90%|█████████ | 230/255 [01:21<00:08,  2.81it/s, loss=0.177, v_num=3, train_loss=0.0985, train_accuracy=1.000, val_loss=0.217, val_accuracy=0.906]\n",
      "Epoch 38:  91%|█████████ | 232/255 [01:21<00:08,  2.83it/s, loss=0.177, v_num=3, train_loss=0.0985, train_accuracy=1.000, val_loss=0.217, val_accuracy=0.906]\n",
      "Epoch 38:  92%|█████████▏| 234/255 [01:22<00:07,  2.85it/s, loss=0.177, v_num=3, train_loss=0.0985, train_accuracy=1.000, val_loss=0.217, val_accuracy=0.906]\n",
      "Epoch 38:  93%|█████████▎| 236/255 [01:22<00:06,  2.87it/s, loss=0.177, v_num=3, train_loss=0.0985, train_accuracy=1.000, val_loss=0.217, val_accuracy=0.906]\n",
      "Epoch 38:  93%|█████████▎| 238/255 [01:22<00:05,  2.89it/s, loss=0.177, v_num=3, train_loss=0.0985, train_accuracy=1.000, val_loss=0.217, val_accuracy=0.906]\n",
      "Epoch 38:  94%|█████████▍| 240/255 [01:22<00:05,  2.91it/s, loss=0.177, v_num=3, train_loss=0.0985, train_accuracy=1.000, val_loss=0.217, val_accuracy=0.906]\n",
      "Epoch 38:  95%|█████████▍| 242/255 [01:22<00:04,  2.93it/s, loss=0.177, v_num=3, train_loss=0.0985, train_accuracy=1.000, val_loss=0.217, val_accuracy=0.906]\n",
      "Epoch 38:  96%|█████████▌| 244/255 [01:22<00:03,  2.95it/s, loss=0.177, v_num=3, train_loss=0.0985, train_accuracy=1.000, val_loss=0.217, val_accuracy=0.906]\n",
      "Epoch 38:  96%|█████████▋| 246/255 [01:22<00:03,  2.97it/s, loss=0.177, v_num=3, train_loss=0.0985, train_accuracy=1.000, val_loss=0.217, val_accuracy=0.906]\n",
      "Epoch 38:  97%|█████████▋| 248/255 [01:23<00:02,  2.99it/s, loss=0.177, v_num=3, train_loss=0.0985, train_accuracy=1.000, val_loss=0.217, val_accuracy=0.906]\n",
      "Epoch 38:  98%|█████████▊| 250/255 [01:23<00:01,  3.00it/s, loss=0.177, v_num=3, train_loss=0.0985, train_accuracy=1.000, val_loss=0.217, val_accuracy=0.906]\n",
      "Epoch 38:  99%|█████████▉| 252/255 [01:23<00:00,  3.02it/s, loss=0.177, v_num=3, train_loss=0.0985, train_accuracy=1.000, val_loss=0.217, val_accuracy=0.906]\n",
      "Epoch 38: 100%|█████████▉| 254/255 [01:23<00:00,  3.04it/s, loss=0.177, v_num=3, train_loss=0.0985, train_accuracy=1.000, val_loss=0.217, val_accuracy=0.906]\n",
      "Epoch 38: 100%|██████████| 255/255 [01:24<00:00,  3.03it/s, loss=0.177, v_num=3, train_loss=0.0985, train_accuracy=1.000, val_loss=0.243, val_accuracy=0.904]\n",
      "Epoch 38: 100%|██████████| 255/255 [01:24<00:00,  3.03it/s, loss=0.177, v_num=3, train_loss=0.0985, train_accuracy=1.000, val_loss=0.243, val_accuracy=0.904]"
     ]
    },
    {
     "name": "stderr",
     "output_type": "stream",
     "text": [
      "Epoch 38, global step 8813: val_loss was not in top 2\n"
     ]
    },
    {
     "name": "stdout",
     "output_type": "stream",
     "text": [
      "Epoch 39:  89%|████████▊ | 226/255 [01:17<00:09,  2.90it/s, loss=0.168, v_num=3, train_loss=0.113, train_accuracy=0.944, val_loss=0.243, val_accuracy=0.904] \n",
      "Validating: 0it [00:00, ?it/s]\u001b[A\n",
      "Validating:   0%|          | 0/29 [00:00<?, ?it/s]\u001b[A\n",
      "Epoch 39:  89%|████████▉ | 228/255 [01:21<00:09,  2.80it/s, loss=0.168, v_num=3, train_loss=0.113, train_accuracy=0.944, val_loss=0.243, val_accuracy=0.904]\n",
      "Epoch 39:  90%|█████████ | 230/255 [01:21<00:08,  2.81it/s, loss=0.168, v_num=3, train_loss=0.113, train_accuracy=0.944, val_loss=0.243, val_accuracy=0.904]\n",
      "Epoch 39:  91%|█████████ | 232/255 [01:21<00:08,  2.83it/s, loss=0.168, v_num=3, train_loss=0.113, train_accuracy=0.944, val_loss=0.243, val_accuracy=0.904]\n",
      "Epoch 39:  92%|█████████▏| 234/255 [01:22<00:07,  2.85it/s, loss=0.168, v_num=3, train_loss=0.113, train_accuracy=0.944, val_loss=0.243, val_accuracy=0.904]\n",
      "Epoch 39:  93%|█████████▎| 236/255 [01:22<00:06,  2.87it/s, loss=0.168, v_num=3, train_loss=0.113, train_accuracy=0.944, val_loss=0.243, val_accuracy=0.904]\n",
      "Epoch 39:  93%|█████████▎| 238/255 [01:22<00:05,  2.89it/s, loss=0.168, v_num=3, train_loss=0.113, train_accuracy=0.944, val_loss=0.243, val_accuracy=0.904]\n",
      "Epoch 39:  94%|█████████▍| 240/255 [01:22<00:05,  2.91it/s, loss=0.168, v_num=3, train_loss=0.113, train_accuracy=0.944, val_loss=0.243, val_accuracy=0.904]\n",
      "Epoch 39:  95%|█████████▍| 242/255 [01:22<00:04,  2.93it/s, loss=0.168, v_num=3, train_loss=0.113, train_accuracy=0.944, val_loss=0.243, val_accuracy=0.904]\n",
      "Epoch 39:  96%|█████████▌| 244/255 [01:22<00:03,  2.95it/s, loss=0.168, v_num=3, train_loss=0.113, train_accuracy=0.944, val_loss=0.243, val_accuracy=0.904]\n",
      "Epoch 39:  96%|█████████▋| 246/255 [01:22<00:03,  2.97it/s, loss=0.168, v_num=3, train_loss=0.113, train_accuracy=0.944, val_loss=0.243, val_accuracy=0.904]\n",
      "Epoch 39:  97%|█████████▋| 248/255 [01:23<00:02,  2.99it/s, loss=0.168, v_num=3, train_loss=0.113, train_accuracy=0.944, val_loss=0.243, val_accuracy=0.904]\n",
      "Epoch 39:  98%|█████████▊| 250/255 [01:23<00:01,  3.00it/s, loss=0.168, v_num=3, train_loss=0.113, train_accuracy=0.944, val_loss=0.243, val_accuracy=0.904]\n",
      "Epoch 39:  99%|█████████▉| 252/255 [01:23<00:00,  3.02it/s, loss=0.168, v_num=3, train_loss=0.113, train_accuracy=0.944, val_loss=0.243, val_accuracy=0.904]\n",
      "Epoch 39: 100%|█████████▉| 254/255 [01:23<00:00,  3.04it/s, loss=0.168, v_num=3, train_loss=0.113, train_accuracy=0.944, val_loss=0.243, val_accuracy=0.904]\n",
      "Epoch 39: 100%|██████████| 255/255 [01:24<00:00,  3.02it/s, loss=0.168, v_num=3, train_loss=0.113, train_accuracy=0.944, val_loss=0.265, val_accuracy=0.900]\n",
      "Epoch 39: 100%|██████████| 255/255 [01:24<00:00,  3.02it/s, loss=0.168, v_num=3, train_loss=0.113, train_accuracy=0.944, val_loss=0.265, val_accuracy=0.900]"
     ]
    },
    {
     "name": "stderr",
     "output_type": "stream",
     "text": [
      "Epoch 39, global step 9039: val_loss was not in top 2\n"
     ]
    },
    {
     "name": "stdout",
     "output_type": "stream",
     "text": [
      "Epoch 40:  89%|████████▊ | 226/255 [01:17<00:09,  2.90it/s, loss=0.21, v_num=3, train_loss=0.286, train_accuracy=0.889, val_loss=0.265, val_accuracy=0.900]  \n",
      "Validating: 0it [00:00, ?it/s]\u001b[A\n",
      "Validating:   0%|          | 0/29 [00:00<?, ?it/s]\u001b[A\n",
      "Epoch 40:  89%|████████▉ | 228/255 [01:21<00:09,  2.80it/s, loss=0.21, v_num=3, train_loss=0.286, train_accuracy=0.889, val_loss=0.265, val_accuracy=0.900]\n",
      "Epoch 40:  90%|█████████ | 230/255 [01:21<00:08,  2.81it/s, loss=0.21, v_num=3, train_loss=0.286, train_accuracy=0.889, val_loss=0.265, val_accuracy=0.900]\n",
      "Epoch 40:  91%|█████████ | 232/255 [01:21<00:08,  2.83it/s, loss=0.21, v_num=3, train_loss=0.286, train_accuracy=0.889, val_loss=0.265, val_accuracy=0.900]\n",
      "Epoch 40:  92%|█████████▏| 234/255 [01:22<00:07,  2.85it/s, loss=0.21, v_num=3, train_loss=0.286, train_accuracy=0.889, val_loss=0.265, val_accuracy=0.900]\n",
      "Epoch 40:  93%|█████████▎| 236/255 [01:22<00:06,  2.87it/s, loss=0.21, v_num=3, train_loss=0.286, train_accuracy=0.889, val_loss=0.265, val_accuracy=0.900]\n",
      "Epoch 40:  93%|█████████▎| 238/255 [01:22<00:05,  2.89it/s, loss=0.21, v_num=3, train_loss=0.286, train_accuracy=0.889, val_loss=0.265, val_accuracy=0.900]\n",
      "Epoch 40:  94%|█████████▍| 240/255 [01:22<00:05,  2.91it/s, loss=0.21, v_num=3, train_loss=0.286, train_accuracy=0.889, val_loss=0.265, val_accuracy=0.900]\n",
      "Epoch 40:  95%|█████████▍| 242/255 [01:22<00:04,  2.93it/s, loss=0.21, v_num=3, train_loss=0.286, train_accuracy=0.889, val_loss=0.265, val_accuracy=0.900]\n",
      "Epoch 40:  96%|█████████▌| 244/255 [01:22<00:03,  2.95it/s, loss=0.21, v_num=3, train_loss=0.286, train_accuracy=0.889, val_loss=0.265, val_accuracy=0.900]\n",
      "Epoch 40:  96%|█████████▋| 246/255 [01:22<00:03,  2.97it/s, loss=0.21, v_num=3, train_loss=0.286, train_accuracy=0.889, val_loss=0.265, val_accuracy=0.900]\n",
      "Epoch 40:  97%|█████████▋| 248/255 [01:23<00:02,  2.99it/s, loss=0.21, v_num=3, train_loss=0.286, train_accuracy=0.889, val_loss=0.265, val_accuracy=0.900]\n",
      "Epoch 40:  98%|█████████▊| 250/255 [01:23<00:01,  3.00it/s, loss=0.21, v_num=3, train_loss=0.286, train_accuracy=0.889, val_loss=0.265, val_accuracy=0.900]\n",
      "Epoch 40:  99%|█████████▉| 252/255 [01:23<00:00,  3.02it/s, loss=0.21, v_num=3, train_loss=0.286, train_accuracy=0.889, val_loss=0.265, val_accuracy=0.900]\n",
      "Epoch 40: 100%|█████████▉| 254/255 [01:23<00:00,  3.04it/s, loss=0.21, v_num=3, train_loss=0.286, train_accuracy=0.889, val_loss=0.265, val_accuracy=0.900]\n",
      "Epoch 40: 100%|██████████| 255/255 [01:24<00:00,  3.03it/s, loss=0.21, v_num=3, train_loss=0.286, train_accuracy=0.889, val_loss=0.233, val_accuracy=0.905]\n",
      "Epoch 40: 100%|██████████| 255/255 [01:24<00:00,  3.03it/s, loss=0.21, v_num=3, train_loss=0.286, train_accuracy=0.889, val_loss=0.233, val_accuracy=0.905]"
     ]
    },
    {
     "name": "stderr",
     "output_type": "stream",
     "text": [
      "Epoch 40, global step 9265: val_loss was not in top 2\n"
     ]
    },
    {
     "name": "stdout",
     "output_type": "stream",
     "text": [
      "Epoch 41:  89%|████████▊ | 226/255 [01:17<00:09,  2.90it/s, loss=0.248, v_num=3, train_loss=0.422, train_accuracy=0.722, val_loss=0.233, val_accuracy=0.905] \n",
      "Validating: 0it [00:00, ?it/s]\u001b[A\n",
      "Validating:   0%|          | 0/29 [00:00<?, ?it/s]\u001b[A\n",
      "Epoch 41:  89%|████████▉ | 228/255 [01:21<00:09,  2.79it/s, loss=0.248, v_num=3, train_loss=0.422, train_accuracy=0.722, val_loss=0.233, val_accuracy=0.905]\n",
      "Epoch 41:  90%|█████████ | 230/255 [01:21<00:08,  2.81it/s, loss=0.248, v_num=3, train_loss=0.422, train_accuracy=0.722, val_loss=0.233, val_accuracy=0.905]\n",
      "Epoch 41:  91%|█████████ | 232/255 [01:21<00:08,  2.83it/s, loss=0.248, v_num=3, train_loss=0.422, train_accuracy=0.722, val_loss=0.233, val_accuracy=0.905]\n",
      "Epoch 41:  92%|█████████▏| 234/255 [01:22<00:07,  2.85it/s, loss=0.248, v_num=3, train_loss=0.422, train_accuracy=0.722, val_loss=0.233, val_accuracy=0.905]\n",
      "Epoch 41:  93%|█████████▎| 236/255 [01:22<00:06,  2.87it/s, loss=0.248, v_num=3, train_loss=0.422, train_accuracy=0.722, val_loss=0.233, val_accuracy=0.905]\n",
      "Epoch 41:  93%|█████████▎| 238/255 [01:22<00:05,  2.89it/s, loss=0.248, v_num=3, train_loss=0.422, train_accuracy=0.722, val_loss=0.233, val_accuracy=0.905]\n",
      "Epoch 41:  94%|█████████▍| 240/255 [01:22<00:05,  2.91it/s, loss=0.248, v_num=3, train_loss=0.422, train_accuracy=0.722, val_loss=0.233, val_accuracy=0.905]\n",
      "Epoch 41:  95%|█████████▍| 242/255 [01:22<00:04,  2.93it/s, loss=0.248, v_num=3, train_loss=0.422, train_accuracy=0.722, val_loss=0.233, val_accuracy=0.905]\n",
      "Epoch 41:  96%|█████████▌| 244/255 [01:22<00:03,  2.94it/s, loss=0.248, v_num=3, train_loss=0.422, train_accuracy=0.722, val_loss=0.233, val_accuracy=0.905]\n",
      "Epoch 41:  96%|█████████▋| 246/255 [01:23<00:03,  2.96it/s, loss=0.248, v_num=3, train_loss=0.422, train_accuracy=0.722, val_loss=0.233, val_accuracy=0.905]\n",
      "Epoch 41:  97%|█████████▋| 248/255 [01:23<00:02,  2.98it/s, loss=0.248, v_num=3, train_loss=0.422, train_accuracy=0.722, val_loss=0.233, val_accuracy=0.905]\n",
      "Epoch 41:  98%|█████████▊| 250/255 [01:23<00:01,  3.00it/s, loss=0.248, v_num=3, train_loss=0.422, train_accuracy=0.722, val_loss=0.233, val_accuracy=0.905]\n",
      "Epoch 41:  99%|█████████▉| 252/255 [01:23<00:00,  3.02it/s, loss=0.248, v_num=3, train_loss=0.422, train_accuracy=0.722, val_loss=0.233, val_accuracy=0.905]\n",
      "Epoch 41: 100%|█████████▉| 254/255 [01:23<00:00,  3.04it/s, loss=0.248, v_num=3, train_loss=0.422, train_accuracy=0.722, val_loss=0.233, val_accuracy=0.905]\n",
      "Epoch 41: 100%|██████████| 255/255 [01:24<00:00,  3.03it/s, loss=0.248, v_num=3, train_loss=0.422, train_accuracy=0.722, val_loss=0.261, val_accuracy=0.881]\n",
      "Epoch 41: 100%|██████████| 255/255 [01:24<00:00,  3.03it/s, loss=0.248, v_num=3, train_loss=0.422, train_accuracy=0.722, val_loss=0.261, val_accuracy=0.881]"
     ]
    },
    {
     "name": "stderr",
     "output_type": "stream",
     "text": [
      "Epoch 41, global step 9491: val_loss was not in top 2\n"
     ]
    },
    {
     "name": "stdout",
     "output_type": "stream",
     "text": [
      "Epoch 42:  89%|████████▊ | 226/255 [01:17<00:09,  2.90it/s, loss=0.201, v_num=3, train_loss=0.0613, train_accuracy=0.944, val_loss=0.261, val_accuracy=0.881]\n",
      "Validating: 0it [00:00, ?it/s]\u001b[A\n",
      "Validating:   0%|          | 0/29 [00:00<?, ?it/s]\u001b[A\n",
      "Epoch 42:  89%|████████▉ | 228/255 [01:21<00:09,  2.79it/s, loss=0.201, v_num=3, train_loss=0.0613, train_accuracy=0.944, val_loss=0.261, val_accuracy=0.881]\n",
      "Epoch 42:  90%|█████████ | 230/255 [01:21<00:08,  2.81it/s, loss=0.201, v_num=3, train_loss=0.0613, train_accuracy=0.944, val_loss=0.261, val_accuracy=0.881]\n",
      "Epoch 42:  91%|█████████ | 232/255 [01:21<00:08,  2.83it/s, loss=0.201, v_num=3, train_loss=0.0613, train_accuracy=0.944, val_loss=0.261, val_accuracy=0.881]\n",
      "Epoch 42:  92%|█████████▏| 234/255 [01:22<00:07,  2.85it/s, loss=0.201, v_num=3, train_loss=0.0613, train_accuracy=0.944, val_loss=0.261, val_accuracy=0.881]\n",
      "Epoch 42:  93%|█████████▎| 236/255 [01:22<00:06,  2.87it/s, loss=0.201, v_num=3, train_loss=0.0613, train_accuracy=0.944, val_loss=0.261, val_accuracy=0.881]\n",
      "Epoch 42:  93%|█████████▎| 238/255 [01:22<00:05,  2.89it/s, loss=0.201, v_num=3, train_loss=0.0613, train_accuracy=0.944, val_loss=0.261, val_accuracy=0.881]\n",
      "Epoch 42:  94%|█████████▍| 240/255 [01:22<00:05,  2.91it/s, loss=0.201, v_num=3, train_loss=0.0613, train_accuracy=0.944, val_loss=0.261, val_accuracy=0.881]\n",
      "Epoch 42:  95%|█████████▍| 242/255 [01:22<00:04,  2.93it/s, loss=0.201, v_num=3, train_loss=0.0613, train_accuracy=0.944, val_loss=0.261, val_accuracy=0.881]\n",
      "Epoch 42:  96%|█████████▌| 244/255 [01:22<00:03,  2.95it/s, loss=0.201, v_num=3, train_loss=0.0613, train_accuracy=0.944, val_loss=0.261, val_accuracy=0.881]\n",
      "Epoch 42:  96%|█████████▋| 246/255 [01:22<00:03,  2.97it/s, loss=0.201, v_num=3, train_loss=0.0613, train_accuracy=0.944, val_loss=0.261, val_accuracy=0.881]\n",
      "Epoch 42:  97%|█████████▋| 248/255 [01:23<00:02,  2.98it/s, loss=0.201, v_num=3, train_loss=0.0613, train_accuracy=0.944, val_loss=0.261, val_accuracy=0.881]\n",
      "Epoch 42:  98%|█████████▊| 250/255 [01:23<00:01,  3.00it/s, loss=0.201, v_num=3, train_loss=0.0613, train_accuracy=0.944, val_loss=0.261, val_accuracy=0.881]\n",
      "Epoch 42:  99%|█████████▉| 252/255 [01:23<00:00,  3.02it/s, loss=0.201, v_num=3, train_loss=0.0613, train_accuracy=0.944, val_loss=0.261, val_accuracy=0.881]\n",
      "Epoch 42: 100%|█████████▉| 254/255 [01:23<00:00,  3.04it/s, loss=0.201, v_num=3, train_loss=0.0613, train_accuracy=0.944, val_loss=0.261, val_accuracy=0.881]\n",
      "Epoch 42: 100%|██████████| 255/255 [01:24<00:00,  3.03it/s, loss=0.201, v_num=3, train_loss=0.0613, train_accuracy=0.944, val_loss=0.243, val_accuracy=0.908]\n",
      "Epoch 42: 100%|██████████| 255/255 [01:24<00:00,  3.03it/s, loss=0.201, v_num=3, train_loss=0.0613, train_accuracy=0.944, val_loss=0.243, val_accuracy=0.908]"
     ]
    },
    {
     "name": "stderr",
     "output_type": "stream",
     "text": [
      "Epoch 42, global step 9717: val_loss was not in top 2\n"
     ]
    },
    {
     "name": "stdout",
     "output_type": "stream",
     "text": [
      "Epoch 43:  89%|████████▊ | 226/255 [01:17<00:10,  2.90it/s, loss=0.182, v_num=3, train_loss=0.157, train_accuracy=0.944, val_loss=0.243, val_accuracy=0.908] \n",
      "Validating: 0it [00:00, ?it/s]\u001b[A\n",
      "Validating:   0%|          | 0/29 [00:00<?, ?it/s]\u001b[A\n",
      "Epoch 43:  89%|████████▉ | 228/255 [01:21<00:09,  2.79it/s, loss=0.182, v_num=3, train_loss=0.157, train_accuracy=0.944, val_loss=0.243, val_accuracy=0.908]\n",
      "Epoch 43:  90%|█████████ | 230/255 [01:21<00:08,  2.81it/s, loss=0.182, v_num=3, train_loss=0.157, train_accuracy=0.944, val_loss=0.243, val_accuracy=0.908]\n",
      "Epoch 43:  91%|█████████ | 232/255 [01:22<00:08,  2.83it/s, loss=0.182, v_num=3, train_loss=0.157, train_accuracy=0.944, val_loss=0.243, val_accuracy=0.908]\n",
      "Epoch 43:  92%|█████████▏| 234/255 [01:22<00:07,  2.85it/s, loss=0.182, v_num=3, train_loss=0.157, train_accuracy=0.944, val_loss=0.243, val_accuracy=0.908]\n",
      "Epoch 43:  93%|█████████▎| 236/255 [01:22<00:06,  2.87it/s, loss=0.182, v_num=3, train_loss=0.157, train_accuracy=0.944, val_loss=0.243, val_accuracy=0.908]\n",
      "Epoch 43:  93%|█████████▎| 238/255 [01:22<00:05,  2.88it/s, loss=0.182, v_num=3, train_loss=0.157, train_accuracy=0.944, val_loss=0.243, val_accuracy=0.908]\n",
      "Epoch 43:  94%|█████████▍| 240/255 [01:22<00:05,  2.90it/s, loss=0.182, v_num=3, train_loss=0.157, train_accuracy=0.944, val_loss=0.243, val_accuracy=0.908]\n",
      "Epoch 43:  95%|█████████▍| 242/255 [01:22<00:04,  2.92it/s, loss=0.182, v_num=3, train_loss=0.157, train_accuracy=0.944, val_loss=0.243, val_accuracy=0.908]\n",
      "Epoch 43:  96%|█████████▌| 244/255 [01:22<00:03,  2.94it/s, loss=0.182, v_num=3, train_loss=0.157, train_accuracy=0.944, val_loss=0.243, val_accuracy=0.908]\n",
      "Epoch 43:  96%|█████████▋| 246/255 [01:23<00:03,  2.96it/s, loss=0.182, v_num=3, train_loss=0.157, train_accuracy=0.944, val_loss=0.243, val_accuracy=0.908]\n",
      "Epoch 43:  97%|█████████▋| 248/255 [01:23<00:02,  2.98it/s, loss=0.182, v_num=3, train_loss=0.157, train_accuracy=0.944, val_loss=0.243, val_accuracy=0.908]\n",
      "Epoch 43:  98%|█████████▊| 250/255 [01:23<00:01,  3.00it/s, loss=0.182, v_num=3, train_loss=0.157, train_accuracy=0.944, val_loss=0.243, val_accuracy=0.908]\n",
      "Epoch 43:  99%|█████████▉| 252/255 [01:23<00:00,  3.02it/s, loss=0.182, v_num=3, train_loss=0.157, train_accuracy=0.944, val_loss=0.243, val_accuracy=0.908]\n",
      "Epoch 43: 100%|█████████▉| 254/255 [01:23<00:00,  3.04it/s, loss=0.182, v_num=3, train_loss=0.157, train_accuracy=0.944, val_loss=0.243, val_accuracy=0.908]\n",
      "Epoch 43: 100%|██████████| 255/255 [01:24<00:00,  3.02it/s, loss=0.182, v_num=3, train_loss=0.157, train_accuracy=0.944, val_loss=0.231, val_accuracy=0.903]\n",
      "Epoch 43: 100%|██████████| 255/255 [01:24<00:00,  3.02it/s, loss=0.182, v_num=3, train_loss=0.157, train_accuracy=0.944, val_loss=0.231, val_accuracy=0.903]"
     ]
    },
    {
     "name": "stderr",
     "output_type": "stream",
     "text": [
      "Epoch 43, global step 9943: val_loss reached 0.23095 (best 0.21685), saving model to \"/Workspace/code/checkpoints/best-checkpoint-corr-mi-18-v6.ckpt\" as top 2\n"
     ]
    },
    {
     "name": "stdout",
     "output_type": "stream",
     "text": [
      "Epoch 44:  89%|████████▊ | 226/255 [01:17<00:10,  2.90it/s, loss=0.169, v_num=3, train_loss=0.049, train_accuracy=1.000, val_loss=0.231, val_accuracy=0.903] \n",
      "Validating: 0it [00:00, ?it/s]\u001b[A\n",
      "Validating:   0%|          | 0/29 [00:00<?, ?it/s]\u001b[A\n",
      "Epoch 44:  89%|████████▉ | 228/255 [01:21<00:09,  2.79it/s, loss=0.169, v_num=3, train_loss=0.049, train_accuracy=1.000, val_loss=0.231, val_accuracy=0.903]\n",
      "Epoch 44:  90%|█████████ | 230/255 [01:21<00:08,  2.81it/s, loss=0.169, v_num=3, train_loss=0.049, train_accuracy=1.000, val_loss=0.231, val_accuracy=0.903]\n",
      "Epoch 44:  91%|█████████ | 232/255 [01:21<00:08,  2.83it/s, loss=0.169, v_num=3, train_loss=0.049, train_accuracy=1.000, val_loss=0.231, val_accuracy=0.903]\n",
      "Epoch 44:  92%|█████████▏| 234/255 [01:22<00:07,  2.85it/s, loss=0.169, v_num=3, train_loss=0.049, train_accuracy=1.000, val_loss=0.231, val_accuracy=0.903]\n",
      "Epoch 44:  93%|█████████▎| 236/255 [01:22<00:06,  2.87it/s, loss=0.169, v_num=3, train_loss=0.049, train_accuracy=1.000, val_loss=0.231, val_accuracy=0.903]\n",
      "Epoch 44:  93%|█████████▎| 238/255 [01:22<00:05,  2.89it/s, loss=0.169, v_num=3, train_loss=0.049, train_accuracy=1.000, val_loss=0.231, val_accuracy=0.903]\n",
      "Epoch 44:  94%|█████████▍| 240/255 [01:22<00:05,  2.91it/s, loss=0.169, v_num=3, train_loss=0.049, train_accuracy=1.000, val_loss=0.231, val_accuracy=0.903]\n",
      "Epoch 44:  95%|█████████▍| 242/255 [01:22<00:04,  2.93it/s, loss=0.169, v_num=3, train_loss=0.049, train_accuracy=1.000, val_loss=0.231, val_accuracy=0.903]\n",
      "Epoch 44:  96%|█████████▌| 244/255 [01:22<00:03,  2.95it/s, loss=0.169, v_num=3, train_loss=0.049, train_accuracy=1.000, val_loss=0.231, val_accuracy=0.903]\n",
      "Epoch 44:  96%|█████████▋| 246/255 [01:22<00:03,  2.96it/s, loss=0.169, v_num=3, train_loss=0.049, train_accuracy=1.000, val_loss=0.231, val_accuracy=0.903]\n",
      "Epoch 44:  97%|█████████▋| 248/255 [01:23<00:02,  2.98it/s, loss=0.169, v_num=3, train_loss=0.049, train_accuracy=1.000, val_loss=0.231, val_accuracy=0.903]\n",
      "Epoch 44:  98%|█████████▊| 250/255 [01:23<00:01,  3.00it/s, loss=0.169, v_num=3, train_loss=0.049, train_accuracy=1.000, val_loss=0.231, val_accuracy=0.903]\n",
      "Epoch 44:  99%|█████████▉| 252/255 [01:23<00:00,  3.02it/s, loss=0.169, v_num=3, train_loss=0.049, train_accuracy=1.000, val_loss=0.231, val_accuracy=0.903]\n",
      "Epoch 44: 100%|█████████▉| 254/255 [01:23<00:00,  3.04it/s, loss=0.169, v_num=3, train_loss=0.049, train_accuracy=1.000, val_loss=0.231, val_accuracy=0.903]\n",
      "Epoch 44: 100%|██████████| 255/255 [01:24<00:00,  3.03it/s, loss=0.169, v_num=3, train_loss=0.049, train_accuracy=1.000, val_loss=0.215, val_accuracy=0.908]\n",
      "Epoch 44: 100%|██████████| 255/255 [01:24<00:00,  3.03it/s, loss=0.169, v_num=3, train_loss=0.049, train_accuracy=1.000, val_loss=0.215, val_accuracy=0.908]"
     ]
    },
    {
     "name": "stderr",
     "output_type": "stream",
     "text": [
      "Epoch 44, global step 10169: val_loss reached 0.21531 (best 0.21531), saving model to \"/Workspace/code/checkpoints/best-checkpoint-corr-mi-18-v6.ckpt\" as top 2\n"
     ]
    },
    {
     "name": "stdout",
     "output_type": "stream",
     "text": [
      "Epoch 45:  89%|████████▊ | 226/255 [01:17<00:10,  2.90it/s, loss=0.143, v_num=3, train_loss=0.182, train_accuracy=0.944, val_loss=0.215, val_accuracy=0.908] \n",
      "Validating: 0it [00:00, ?it/s]\u001b[A\n",
      "Validating:   0%|          | 0/29 [00:00<?, ?it/s]\u001b[A\n",
      "Epoch 45:  89%|████████▉ | 228/255 [01:21<00:09,  2.79it/s, loss=0.143, v_num=3, train_loss=0.182, train_accuracy=0.944, val_loss=0.215, val_accuracy=0.908]\n",
      "Epoch 45:  90%|█████████ | 230/255 [01:21<00:08,  2.81it/s, loss=0.143, v_num=3, train_loss=0.182, train_accuracy=0.944, val_loss=0.215, val_accuracy=0.908]\n",
      "Epoch 45:  91%|█████████ | 232/255 [01:21<00:08,  2.83it/s, loss=0.143, v_num=3, train_loss=0.182, train_accuracy=0.944, val_loss=0.215, val_accuracy=0.908]\n",
      "Epoch 45:  92%|█████████▏| 234/255 [01:22<00:07,  2.85it/s, loss=0.143, v_num=3, train_loss=0.182, train_accuracy=0.944, val_loss=0.215, val_accuracy=0.908]\n",
      "Epoch 45:  93%|█████████▎| 236/255 [01:22<00:06,  2.87it/s, loss=0.143, v_num=3, train_loss=0.182, train_accuracy=0.944, val_loss=0.215, val_accuracy=0.908]\n",
      "Epoch 45:  93%|█████████▎| 238/255 [01:22<00:05,  2.89it/s, loss=0.143, v_num=3, train_loss=0.182, train_accuracy=0.944, val_loss=0.215, val_accuracy=0.908]\n",
      "Epoch 45:  94%|█████████▍| 240/255 [01:22<00:05,  2.91it/s, loss=0.143, v_num=3, train_loss=0.182, train_accuracy=0.944, val_loss=0.215, val_accuracy=0.908]\n",
      "Epoch 45:  95%|█████████▍| 242/255 [01:22<00:04,  2.93it/s, loss=0.143, v_num=3, train_loss=0.182, train_accuracy=0.944, val_loss=0.215, val_accuracy=0.908]\n",
      "Epoch 45:  96%|█████████▌| 244/255 [01:22<00:03,  2.94it/s, loss=0.143, v_num=3, train_loss=0.182, train_accuracy=0.944, val_loss=0.215, val_accuracy=0.908]\n",
      "Epoch 45:  96%|█████████▋| 246/255 [01:23<00:03,  2.96it/s, loss=0.143, v_num=3, train_loss=0.182, train_accuracy=0.944, val_loss=0.215, val_accuracy=0.908]\n",
      "Epoch 45:  97%|█████████▋| 248/255 [01:23<00:02,  2.98it/s, loss=0.143, v_num=3, train_loss=0.182, train_accuracy=0.944, val_loss=0.215, val_accuracy=0.908]\n",
      "Epoch 45:  98%|█████████▊| 250/255 [01:23<00:01,  3.00it/s, loss=0.143, v_num=3, train_loss=0.182, train_accuracy=0.944, val_loss=0.215, val_accuracy=0.908]\n",
      "Epoch 45:  99%|█████████▉| 252/255 [01:23<00:00,  3.02it/s, loss=0.143, v_num=3, train_loss=0.182, train_accuracy=0.944, val_loss=0.215, val_accuracy=0.908]\n",
      "Epoch 45: 100%|█████████▉| 254/255 [01:23<00:00,  3.04it/s, loss=0.143, v_num=3, train_loss=0.182, train_accuracy=0.944, val_loss=0.215, val_accuracy=0.908]\n",
      "Epoch 45: 100%|██████████| 255/255 [01:24<00:00,  3.02it/s, loss=0.143, v_num=3, train_loss=0.182, train_accuracy=0.944, val_loss=0.226, val_accuracy=0.916]\n",
      "Epoch 45: 100%|██████████| 255/255 [01:24<00:00,  3.02it/s, loss=0.143, v_num=3, train_loss=0.182, train_accuracy=0.944, val_loss=0.226, val_accuracy=0.916]"
     ]
    },
    {
     "name": "stderr",
     "output_type": "stream",
     "text": [
      "Epoch 45, global step 10395: val_loss was not in top 2\n"
     ]
    },
    {
     "name": "stdout",
     "output_type": "stream",
     "text": [
      "Epoch 46:  89%|████████▊ | 226/255 [01:17<00:09,  2.90it/s, loss=0.148, v_num=3, train_loss=0.112, train_accuracy=0.944, val_loss=0.226, val_accuracy=0.916] \n",
      "Validating: 0it [00:00, ?it/s]\u001b[A\n",
      "Validating:   0%|          | 0/29 [00:00<?, ?it/s]\u001b[A\n",
      "Epoch 46:  89%|████████▉ | 228/255 [01:21<00:09,  2.79it/s, loss=0.148, v_num=3, train_loss=0.112, train_accuracy=0.944, val_loss=0.226, val_accuracy=0.916]\n",
      "Epoch 46:  90%|█████████ | 230/255 [01:21<00:08,  2.81it/s, loss=0.148, v_num=3, train_loss=0.112, train_accuracy=0.944, val_loss=0.226, val_accuracy=0.916]\n",
      "Epoch 46:  91%|█████████ | 232/255 [01:21<00:08,  2.83it/s, loss=0.148, v_num=3, train_loss=0.112, train_accuracy=0.944, val_loss=0.226, val_accuracy=0.916]\n",
      "Epoch 46:  92%|█████████▏| 234/255 [01:22<00:07,  2.85it/s, loss=0.148, v_num=3, train_loss=0.112, train_accuracy=0.944, val_loss=0.226, val_accuracy=0.916]\n",
      "Epoch 46:  93%|█████████▎| 236/255 [01:22<00:06,  2.87it/s, loss=0.148, v_num=3, train_loss=0.112, train_accuracy=0.944, val_loss=0.226, val_accuracy=0.916]\n",
      "Epoch 46:  93%|█████████▎| 238/255 [01:22<00:05,  2.89it/s, loss=0.148, v_num=3, train_loss=0.112, train_accuracy=0.944, val_loss=0.226, val_accuracy=0.916]\n",
      "Epoch 46:  94%|█████████▍| 240/255 [01:22<00:05,  2.91it/s, loss=0.148, v_num=3, train_loss=0.112, train_accuracy=0.944, val_loss=0.226, val_accuracy=0.916]\n",
      "Epoch 46:  95%|█████████▍| 242/255 [01:22<00:04,  2.93it/s, loss=0.148, v_num=3, train_loss=0.112, train_accuracy=0.944, val_loss=0.226, val_accuracy=0.916]\n",
      "Epoch 46:  96%|█████████▌| 244/255 [01:22<00:03,  2.95it/s, loss=0.148, v_num=3, train_loss=0.112, train_accuracy=0.944, val_loss=0.226, val_accuracy=0.916]\n",
      "Epoch 46:  96%|█████████▋| 246/255 [01:22<00:03,  2.97it/s, loss=0.148, v_num=3, train_loss=0.112, train_accuracy=0.944, val_loss=0.226, val_accuracy=0.916]\n",
      "Epoch 46:  97%|█████████▋| 248/255 [01:23<00:02,  2.98it/s, loss=0.148, v_num=3, train_loss=0.112, train_accuracy=0.944, val_loss=0.226, val_accuracy=0.916]\n",
      "Epoch 46:  98%|█████████▊| 250/255 [01:23<00:01,  3.00it/s, loss=0.148, v_num=3, train_loss=0.112, train_accuracy=0.944, val_loss=0.226, val_accuracy=0.916]\n",
      "Epoch 46:  99%|█████████▉| 252/255 [01:23<00:00,  3.02it/s, loss=0.148, v_num=3, train_loss=0.112, train_accuracy=0.944, val_loss=0.226, val_accuracy=0.916]\n",
      "Epoch 46: 100%|█████████▉| 254/255 [01:23<00:00,  3.04it/s, loss=0.148, v_num=3, train_loss=0.112, train_accuracy=0.944, val_loss=0.226, val_accuracy=0.916]\n",
      "Epoch 46: 100%|██████████| 255/255 [01:24<00:00,  3.02it/s, loss=0.148, v_num=3, train_loss=0.112, train_accuracy=0.944, val_loss=0.214, val_accuracy=0.917]\n",
      "Epoch 46: 100%|██████████| 255/255 [01:24<00:00,  3.02it/s, loss=0.148, v_num=3, train_loss=0.112, train_accuracy=0.944, val_loss=0.214, val_accuracy=0.917]"
     ]
    },
    {
     "name": "stderr",
     "output_type": "stream",
     "text": [
      "Epoch 46, global step 10621: val_loss reached 0.21358 (best 0.21358), saving model to \"/Workspace/code/checkpoints/best-checkpoint-corr-mi-18-v7.ckpt\" as top 2\n"
     ]
    },
    {
     "name": "stdout",
     "output_type": "stream",
     "text": [
      "Epoch 47:  89%|████████▊ | 226/255 [01:17<00:10,  2.90it/s, loss=0.167, v_num=3, train_loss=0.055, train_accuracy=1.000, val_loss=0.214, val_accuracy=0.917] \n",
      "Validating: 0it [00:00, ?it/s]\u001b[A\n",
      "Validating:   0%|          | 0/29 [00:00<?, ?it/s]\u001b[A\n",
      "Epoch 47:  89%|████████▉ | 228/255 [01:21<00:09,  2.79it/s, loss=0.167, v_num=3, train_loss=0.055, train_accuracy=1.000, val_loss=0.214, val_accuracy=0.917]\n",
      "Epoch 47:  90%|█████████ | 230/255 [01:21<00:08,  2.81it/s, loss=0.167, v_num=3, train_loss=0.055, train_accuracy=1.000, val_loss=0.214, val_accuracy=0.917]\n",
      "Epoch 47:  91%|█████████ | 232/255 [01:22<00:08,  2.83it/s, loss=0.167, v_num=3, train_loss=0.055, train_accuracy=1.000, val_loss=0.214, val_accuracy=0.917]\n",
      "Epoch 47:  92%|█████████▏| 234/255 [01:22<00:07,  2.85it/s, loss=0.167, v_num=3, train_loss=0.055, train_accuracy=1.000, val_loss=0.214, val_accuracy=0.917]\n",
      "Epoch 47:  93%|█████████▎| 236/255 [01:22<00:06,  2.87it/s, loss=0.167, v_num=3, train_loss=0.055, train_accuracy=1.000, val_loss=0.214, val_accuracy=0.917]\n",
      "Epoch 47:  93%|█████████▎| 238/255 [01:22<00:05,  2.89it/s, loss=0.167, v_num=3, train_loss=0.055, train_accuracy=1.000, val_loss=0.214, val_accuracy=0.917]\n",
      "Epoch 47:  94%|█████████▍| 240/255 [01:22<00:05,  2.91it/s, loss=0.167, v_num=3, train_loss=0.055, train_accuracy=1.000, val_loss=0.214, val_accuracy=0.917]\n",
      "Epoch 47:  95%|█████████▍| 242/255 [01:22<00:04,  2.92it/s, loss=0.167, v_num=3, train_loss=0.055, train_accuracy=1.000, val_loss=0.214, val_accuracy=0.917]\n",
      "Epoch 47:  96%|█████████▌| 244/255 [01:22<00:03,  2.94it/s, loss=0.167, v_num=3, train_loss=0.055, train_accuracy=1.000, val_loss=0.214, val_accuracy=0.917]\n",
      "Epoch 47:  96%|█████████▋| 246/255 [01:23<00:03,  2.96it/s, loss=0.167, v_num=3, train_loss=0.055, train_accuracy=1.000, val_loss=0.214, val_accuracy=0.917]\n",
      "Epoch 47:  97%|█████████▋| 248/255 [01:23<00:02,  2.98it/s, loss=0.167, v_num=3, train_loss=0.055, train_accuracy=1.000, val_loss=0.214, val_accuracy=0.917]\n",
      "Epoch 47:  98%|█████████▊| 250/255 [01:23<00:01,  3.00it/s, loss=0.167, v_num=3, train_loss=0.055, train_accuracy=1.000, val_loss=0.214, val_accuracy=0.917]\n",
      "Epoch 47:  99%|█████████▉| 252/255 [01:23<00:00,  3.02it/s, loss=0.167, v_num=3, train_loss=0.055, train_accuracy=1.000, val_loss=0.214, val_accuracy=0.917]\n",
      "Epoch 47: 100%|█████████▉| 254/255 [01:23<00:00,  3.04it/s, loss=0.167, v_num=3, train_loss=0.055, train_accuracy=1.000, val_loss=0.214, val_accuracy=0.917]\n",
      "Epoch 47: 100%|██████████| 255/255 [01:24<00:00,  3.02it/s, loss=0.167, v_num=3, train_loss=0.055, train_accuracy=1.000, val_loss=0.233, val_accuracy=0.911]\n",
      "Epoch 47: 100%|██████████| 255/255 [01:24<00:00,  3.02it/s, loss=0.167, v_num=3, train_loss=0.055, train_accuracy=1.000, val_loss=0.233, val_accuracy=0.911]"
     ]
    },
    {
     "name": "stderr",
     "output_type": "stream",
     "text": [
      "Epoch 47, global step 10847: val_loss was not in top 2\n"
     ]
    },
    {
     "name": "stdout",
     "output_type": "stream",
     "text": [
      "Epoch 48:  89%|████████▊ | 226/255 [01:17<00:09,  2.90it/s, loss=0.187, v_num=3, train_loss=0.237, train_accuracy=0.889, val_loss=0.233, val_accuracy=0.911] \n",
      "Validating: 0it [00:00, ?it/s]\u001b[A\n",
      "Validating:   0%|          | 0/29 [00:00<?, ?it/s]\u001b[A\n",
      "Epoch 48:  89%|████████▉ | 228/255 [01:21<00:09,  2.79it/s, loss=0.187, v_num=3, train_loss=0.237, train_accuracy=0.889, val_loss=0.233, val_accuracy=0.911]\n",
      "Epoch 48:  90%|█████████ | 230/255 [01:21<00:08,  2.81it/s, loss=0.187, v_num=3, train_loss=0.237, train_accuracy=0.889, val_loss=0.233, val_accuracy=0.911]\n",
      "Epoch 48:  91%|█████████ | 232/255 [01:21<00:08,  2.83it/s, loss=0.187, v_num=3, train_loss=0.237, train_accuracy=0.889, val_loss=0.233, val_accuracy=0.911]\n",
      "Epoch 48:  92%|█████████▏| 234/255 [01:22<00:07,  2.85it/s, loss=0.187, v_num=3, train_loss=0.237, train_accuracy=0.889, val_loss=0.233, val_accuracy=0.911]\n",
      "Epoch 48:  93%|█████████▎| 236/255 [01:22<00:06,  2.87it/s, loss=0.187, v_num=3, train_loss=0.237, train_accuracy=0.889, val_loss=0.233, val_accuracy=0.911]\n",
      "Epoch 48:  93%|█████████▎| 238/255 [01:22<00:05,  2.89it/s, loss=0.187, v_num=3, train_loss=0.237, train_accuracy=0.889, val_loss=0.233, val_accuracy=0.911]\n",
      "Epoch 48:  94%|█████████▍| 240/255 [01:22<00:05,  2.91it/s, loss=0.187, v_num=3, train_loss=0.237, train_accuracy=0.889, val_loss=0.233, val_accuracy=0.911]\n",
      "Epoch 48:  95%|█████████▍| 242/255 [01:22<00:04,  2.93it/s, loss=0.187, v_num=3, train_loss=0.237, train_accuracy=0.889, val_loss=0.233, val_accuracy=0.911]\n",
      "Epoch 48:  96%|█████████▌| 244/255 [01:22<00:03,  2.95it/s, loss=0.187, v_num=3, train_loss=0.237, train_accuracy=0.889, val_loss=0.233, val_accuracy=0.911]\n",
      "Epoch 48:  96%|█████████▋| 246/255 [01:22<00:03,  2.97it/s, loss=0.187, v_num=3, train_loss=0.237, train_accuracy=0.889, val_loss=0.233, val_accuracy=0.911]\n",
      "Epoch 48:  97%|█████████▋| 248/255 [01:23<00:02,  2.98it/s, loss=0.187, v_num=3, train_loss=0.237, train_accuracy=0.889, val_loss=0.233, val_accuracy=0.911]\n",
      "Epoch 48:  98%|█████████▊| 250/255 [01:23<00:01,  3.00it/s, loss=0.187, v_num=3, train_loss=0.237, train_accuracy=0.889, val_loss=0.233, val_accuracy=0.911]\n",
      "Epoch 48:  99%|█████████▉| 252/255 [01:23<00:00,  3.02it/s, loss=0.187, v_num=3, train_loss=0.237, train_accuracy=0.889, val_loss=0.233, val_accuracy=0.911]\n",
      "Epoch 48: 100%|█████████▉| 254/255 [01:23<00:00,  3.04it/s, loss=0.187, v_num=3, train_loss=0.237, train_accuracy=0.889, val_loss=0.233, val_accuracy=0.911]\n",
      "Epoch 48: 100%|██████████| 255/255 [01:24<00:00,  3.03it/s, loss=0.187, v_num=3, train_loss=0.237, train_accuracy=0.889, val_loss=0.211, val_accuracy=0.912]\n",
      "Epoch 48: 100%|██████████| 255/255 [01:24<00:00,  3.03it/s, loss=0.187, v_num=3, train_loss=0.237, train_accuracy=0.889, val_loss=0.211, val_accuracy=0.912]"
     ]
    },
    {
     "name": "stderr",
     "output_type": "stream",
     "text": [
      "Epoch 48, global step 11073: val_loss reached 0.21098 (best 0.21098), saving model to \"/Workspace/code/checkpoints/best-checkpoint-corr-mi-18-v6.ckpt\" as top 2\n"
     ]
    },
    {
     "name": "stdout",
     "output_type": "stream",
     "text": [
      "Epoch 49:  89%|████████▊ | 226/255 [01:17<00:09,  2.90it/s, loss=0.158, v_num=3, train_loss=0.344, train_accuracy=0.889, val_loss=0.211, val_accuracy=0.912] \n",
      "Validating: 0it [00:00, ?it/s]\u001b[A\n",
      "Validating:   0%|          | 0/29 [00:00<?, ?it/s]\u001b[A\n",
      "Epoch 49:  89%|████████▉ | 228/255 [01:21<00:09,  2.79it/s, loss=0.158, v_num=3, train_loss=0.344, train_accuracy=0.889, val_loss=0.211, val_accuracy=0.912]\n",
      "Epoch 49:  90%|█████████ | 230/255 [01:21<00:08,  2.81it/s, loss=0.158, v_num=3, train_loss=0.344, train_accuracy=0.889, val_loss=0.211, val_accuracy=0.912]\n",
      "Epoch 49:  91%|█████████ | 232/255 [01:21<00:08,  2.83it/s, loss=0.158, v_num=3, train_loss=0.344, train_accuracy=0.889, val_loss=0.211, val_accuracy=0.912]\n",
      "Epoch 49:  92%|█████████▏| 234/255 [01:22<00:07,  2.85it/s, loss=0.158, v_num=3, train_loss=0.344, train_accuracy=0.889, val_loss=0.211, val_accuracy=0.912]\n",
      "Epoch 49:  93%|█████████▎| 236/255 [01:22<00:06,  2.87it/s, loss=0.158, v_num=3, train_loss=0.344, train_accuracy=0.889, val_loss=0.211, val_accuracy=0.912]\n",
      "Epoch 49:  93%|█████████▎| 238/255 [01:22<00:05,  2.89it/s, loss=0.158, v_num=3, train_loss=0.344, train_accuracy=0.889, val_loss=0.211, val_accuracy=0.912]\n",
      "Epoch 49:  94%|█████████▍| 240/255 [01:22<00:05,  2.91it/s, loss=0.158, v_num=3, train_loss=0.344, train_accuracy=0.889, val_loss=0.211, val_accuracy=0.912]\n",
      "Epoch 49:  95%|█████████▍| 242/255 [01:22<00:04,  2.93it/s, loss=0.158, v_num=3, train_loss=0.344, train_accuracy=0.889, val_loss=0.211, val_accuracy=0.912]\n",
      "Epoch 49:  96%|█████████▌| 244/255 [01:22<00:03,  2.95it/s, loss=0.158, v_num=3, train_loss=0.344, train_accuracy=0.889, val_loss=0.211, val_accuracy=0.912]\n",
      "Epoch 49:  96%|█████████▋| 246/255 [01:22<00:03,  2.96it/s, loss=0.158, v_num=3, train_loss=0.344, train_accuracy=0.889, val_loss=0.211, val_accuracy=0.912]\n",
      "Epoch 49:  97%|█████████▋| 248/255 [01:23<00:02,  2.98it/s, loss=0.158, v_num=3, train_loss=0.344, train_accuracy=0.889, val_loss=0.211, val_accuracy=0.912]\n",
      "Epoch 49:  98%|█████████▊| 250/255 [01:23<00:01,  3.00it/s, loss=0.158, v_num=3, train_loss=0.344, train_accuracy=0.889, val_loss=0.211, val_accuracy=0.912]\n",
      "Epoch 49:  99%|█████████▉| 252/255 [01:23<00:00,  3.02it/s, loss=0.158, v_num=3, train_loss=0.344, train_accuracy=0.889, val_loss=0.211, val_accuracy=0.912]\n",
      "Epoch 49: 100%|█████████▉| 254/255 [01:23<00:00,  3.04it/s, loss=0.158, v_num=3, train_loss=0.344, train_accuracy=0.889, val_loss=0.211, val_accuracy=0.912]\n",
      "Epoch 49: 100%|██████████| 255/255 [01:24<00:00,  3.03it/s, loss=0.158, v_num=3, train_loss=0.344, train_accuracy=0.889, val_loss=0.209, val_accuracy=0.923]\n",
      "Epoch 49: 100%|██████████| 255/255 [01:24<00:00,  3.03it/s, loss=0.158, v_num=3, train_loss=0.344, train_accuracy=0.889, val_loss=0.209, val_accuracy=0.923]"
     ]
    },
    {
     "name": "stderr",
     "output_type": "stream",
     "text": [
      "Epoch 49, global step 11299: val_loss reached 0.20939 (best 0.20939), saving model to \"/Workspace/code/checkpoints/best-checkpoint-corr-mi-18-v7.ckpt\" as top 2\n"
     ]
    },
    {
     "name": "stdout",
     "output_type": "stream",
     "text": [
      "Epoch 50:  89%|████████▊ | 226/255 [01:17<00:09,  2.90it/s, loss=0.144, v_num=3, train_loss=0.0461, train_accuracy=1.000, val_loss=0.209, val_accuracy=0.923]\n",
      "Validating: 0it [00:00, ?it/s]\u001b[A\n",
      "Validating:   0%|          | 0/29 [00:00<?, ?it/s]\u001b[A\n",
      "Epoch 50:  89%|████████▉ | 228/255 [01:21<00:09,  2.79it/s, loss=0.144, v_num=3, train_loss=0.0461, train_accuracy=1.000, val_loss=0.209, val_accuracy=0.923]\n",
      "Epoch 50:  90%|█████████ | 230/255 [01:21<00:08,  2.81it/s, loss=0.144, v_num=3, train_loss=0.0461, train_accuracy=1.000, val_loss=0.209, val_accuracy=0.923]\n",
      "Epoch 50:  91%|█████████ | 232/255 [01:21<00:08,  2.83it/s, loss=0.144, v_num=3, train_loss=0.0461, train_accuracy=1.000, val_loss=0.209, val_accuracy=0.923]\n",
      "Epoch 50:  92%|█████████▏| 234/255 [01:22<00:07,  2.85it/s, loss=0.144, v_num=3, train_loss=0.0461, train_accuracy=1.000, val_loss=0.209, val_accuracy=0.923]\n",
      "Epoch 50:  93%|█████████▎| 236/255 [01:22<00:06,  2.87it/s, loss=0.144, v_num=3, train_loss=0.0461, train_accuracy=1.000, val_loss=0.209, val_accuracy=0.923]\n",
      "Epoch 50:  93%|█████████▎| 238/255 [01:22<00:05,  2.89it/s, loss=0.144, v_num=3, train_loss=0.0461, train_accuracy=1.000, val_loss=0.209, val_accuracy=0.923]\n",
      "Epoch 50:  94%|█████████▍| 240/255 [01:22<00:05,  2.91it/s, loss=0.144, v_num=3, train_loss=0.0461, train_accuracy=1.000, val_loss=0.209, val_accuracy=0.923]\n",
      "Epoch 50:  95%|█████████▍| 242/255 [01:22<00:04,  2.93it/s, loss=0.144, v_num=3, train_loss=0.0461, train_accuracy=1.000, val_loss=0.209, val_accuracy=0.923]\n",
      "Epoch 50:  96%|█████████▌| 244/255 [01:22<00:03,  2.95it/s, loss=0.144, v_num=3, train_loss=0.0461, train_accuracy=1.000, val_loss=0.209, val_accuracy=0.923]\n",
      "Epoch 50:  96%|█████████▋| 246/255 [01:22<00:03,  2.97it/s, loss=0.144, v_num=3, train_loss=0.0461, train_accuracy=1.000, val_loss=0.209, val_accuracy=0.923]\n",
      "Epoch 50:  97%|█████████▋| 248/255 [01:23<00:02,  2.98it/s, loss=0.144, v_num=3, train_loss=0.0461, train_accuracy=1.000, val_loss=0.209, val_accuracy=0.923]\n",
      "Epoch 50:  98%|█████████▊| 250/255 [01:23<00:01,  3.00it/s, loss=0.144, v_num=3, train_loss=0.0461, train_accuracy=1.000, val_loss=0.209, val_accuracy=0.923]\n",
      "Epoch 50:  99%|█████████▉| 252/255 [01:23<00:00,  3.02it/s, loss=0.144, v_num=3, train_loss=0.0461, train_accuracy=1.000, val_loss=0.209, val_accuracy=0.923]\n",
      "Epoch 50: 100%|█████████▉| 254/255 [01:23<00:00,  3.04it/s, loss=0.144, v_num=3, train_loss=0.0461, train_accuracy=1.000, val_loss=0.209, val_accuracy=0.923]\n",
      "Epoch 50: 100%|██████████| 255/255 [01:24<00:00,  3.03it/s, loss=0.144, v_num=3, train_loss=0.0461, train_accuracy=1.000, val_loss=0.252, val_accuracy=0.908]\n",
      "Epoch 50: 100%|██████████| 255/255 [01:24<00:00,  3.03it/s, loss=0.144, v_num=3, train_loss=0.0461, train_accuracy=1.000, val_loss=0.252, val_accuracy=0.908]"
     ]
    },
    {
     "name": "stderr",
     "output_type": "stream",
     "text": [
      "Epoch 50, global step 11525: val_loss was not in top 2\n"
     ]
    },
    {
     "name": "stdout",
     "output_type": "stream",
     "text": [
      "Epoch 51:  89%|████████▊ | 226/255 [01:17<00:10,  2.90it/s, loss=0.136, v_num=3, train_loss=0.390, train_accuracy=0.778, val_loss=0.252, val_accuracy=0.908] \n",
      "Validating: 0it [00:00, ?it/s]\u001b[A\n",
      "Validating:   0%|          | 0/29 [00:00<?, ?it/s]\u001b[A\n",
      "Epoch 51:  89%|████████▉ | 228/255 [01:21<00:09,  2.79it/s, loss=0.136, v_num=3, train_loss=0.390, train_accuracy=0.778, val_loss=0.252, val_accuracy=0.908]\n",
      "Epoch 51:  90%|█████████ | 230/255 [01:21<00:08,  2.81it/s, loss=0.136, v_num=3, train_loss=0.390, train_accuracy=0.778, val_loss=0.252, val_accuracy=0.908]\n",
      "Epoch 51:  91%|█████████ | 232/255 [01:21<00:08,  2.83it/s, loss=0.136, v_num=3, train_loss=0.390, train_accuracy=0.778, val_loss=0.252, val_accuracy=0.908]\n",
      "Epoch 51:  92%|█████████▏| 234/255 [01:22<00:07,  2.85it/s, loss=0.136, v_num=3, train_loss=0.390, train_accuracy=0.778, val_loss=0.252, val_accuracy=0.908]\n",
      "Epoch 51:  93%|█████████▎| 236/255 [01:22<00:06,  2.87it/s, loss=0.136, v_num=3, train_loss=0.390, train_accuracy=0.778, val_loss=0.252, val_accuracy=0.908]\n",
      "Epoch 51:  93%|█████████▎| 238/255 [01:22<00:05,  2.89it/s, loss=0.136, v_num=3, train_loss=0.390, train_accuracy=0.778, val_loss=0.252, val_accuracy=0.908]\n",
      "Epoch 51:  94%|█████████▍| 240/255 [01:22<00:05,  2.91it/s, loss=0.136, v_num=3, train_loss=0.390, train_accuracy=0.778, val_loss=0.252, val_accuracy=0.908]\n",
      "Epoch 51:  95%|█████████▍| 242/255 [01:22<00:04,  2.93it/s, loss=0.136, v_num=3, train_loss=0.390, train_accuracy=0.778, val_loss=0.252, val_accuracy=0.908]\n",
      "Epoch 51:  96%|█████████▌| 244/255 [01:22<00:03,  2.95it/s, loss=0.136, v_num=3, train_loss=0.390, train_accuracy=0.778, val_loss=0.252, val_accuracy=0.908]\n",
      "Epoch 51:  96%|█████████▋| 246/255 [01:22<00:03,  2.97it/s, loss=0.136, v_num=3, train_loss=0.390, train_accuracy=0.778, val_loss=0.252, val_accuracy=0.908]\n",
      "Epoch 51:  97%|█████████▋| 248/255 [01:23<00:02,  2.98it/s, loss=0.136, v_num=3, train_loss=0.390, train_accuracy=0.778, val_loss=0.252, val_accuracy=0.908]\n",
      "Epoch 51:  98%|█████████▊| 250/255 [01:23<00:01,  3.00it/s, loss=0.136, v_num=3, train_loss=0.390, train_accuracy=0.778, val_loss=0.252, val_accuracy=0.908]\n",
      "Epoch 51:  99%|█████████▉| 252/255 [01:23<00:00,  3.02it/s, loss=0.136, v_num=3, train_loss=0.390, train_accuracy=0.778, val_loss=0.252, val_accuracy=0.908]\n",
      "Epoch 51: 100%|█████████▉| 254/255 [01:23<00:00,  3.04it/s, loss=0.136, v_num=3, train_loss=0.390, train_accuracy=0.778, val_loss=0.252, val_accuracy=0.908]\n",
      "Epoch 51: 100%|██████████| 255/255 [01:24<00:00,  3.03it/s, loss=0.136, v_num=3, train_loss=0.390, train_accuracy=0.778, val_loss=0.204, val_accuracy=0.918]\n",
      "Epoch 51: 100%|██████████| 255/255 [01:24<00:00,  3.03it/s, loss=0.136, v_num=3, train_loss=0.390, train_accuracy=0.778, val_loss=0.204, val_accuracy=0.918]"
     ]
    },
    {
     "name": "stderr",
     "output_type": "stream",
     "text": [
      "Epoch 51, global step 11751: val_loss reached 0.20442 (best 0.20442), saving model to \"/Workspace/code/checkpoints/best-checkpoint-corr-mi-18-v6.ckpt\" as top 2\n"
     ]
    },
    {
     "name": "stdout",
     "output_type": "stream",
     "text": [
      "Epoch 52:  89%|████████▊ | 226/255 [01:17<00:10,  2.90it/s, loss=0.137, v_num=3, train_loss=0.246, train_accuracy=0.889, val_loss=0.204, val_accuracy=0.918] \n",
      "Validating: 0it [00:00, ?it/s]\u001b[A\n",
      "Validating:   0%|          | 0/29 [00:00<?, ?it/s]\u001b[A\n",
      "Epoch 52:  89%|████████▉ | 228/255 [01:21<00:09,  2.79it/s, loss=0.137, v_num=3, train_loss=0.246, train_accuracy=0.889, val_loss=0.204, val_accuracy=0.918]\n",
      "Epoch 52:  90%|█████████ | 230/255 [01:21<00:08,  2.81it/s, loss=0.137, v_num=3, train_loss=0.246, train_accuracy=0.889, val_loss=0.204, val_accuracy=0.918]\n",
      "Epoch 52:  91%|█████████ | 232/255 [01:22<00:08,  2.83it/s, loss=0.137, v_num=3, train_loss=0.246, train_accuracy=0.889, val_loss=0.204, val_accuracy=0.918]\n",
      "Epoch 52:  92%|█████████▏| 234/255 [01:22<00:07,  2.85it/s, loss=0.137, v_num=3, train_loss=0.246, train_accuracy=0.889, val_loss=0.204, val_accuracy=0.918]\n",
      "Epoch 52:  93%|█████████▎| 236/255 [01:22<00:06,  2.87it/s, loss=0.137, v_num=3, train_loss=0.246, train_accuracy=0.889, val_loss=0.204, val_accuracy=0.918]\n",
      "Epoch 52:  93%|█████████▎| 238/255 [01:22<00:05,  2.89it/s, loss=0.137, v_num=3, train_loss=0.246, train_accuracy=0.889, val_loss=0.204, val_accuracy=0.918]\n",
      "Epoch 52:  94%|█████████▍| 240/255 [01:22<00:05,  2.90it/s, loss=0.137, v_num=3, train_loss=0.246, train_accuracy=0.889, val_loss=0.204, val_accuracy=0.918]\n",
      "Epoch 52:  95%|█████████▍| 242/255 [01:22<00:04,  2.92it/s, loss=0.137, v_num=3, train_loss=0.246, train_accuracy=0.889, val_loss=0.204, val_accuracy=0.918]\n",
      "Epoch 52:  96%|█████████▌| 244/255 [01:22<00:03,  2.94it/s, loss=0.137, v_num=3, train_loss=0.246, train_accuracy=0.889, val_loss=0.204, val_accuracy=0.918]\n",
      "Epoch 52:  96%|█████████▋| 246/255 [01:23<00:03,  2.96it/s, loss=0.137, v_num=3, train_loss=0.246, train_accuracy=0.889, val_loss=0.204, val_accuracy=0.918]\n",
      "Epoch 52:  97%|█████████▋| 248/255 [01:23<00:02,  2.98it/s, loss=0.137, v_num=3, train_loss=0.246, train_accuracy=0.889, val_loss=0.204, val_accuracy=0.918]\n",
      "Epoch 52:  98%|█████████▊| 250/255 [01:23<00:01,  3.00it/s, loss=0.137, v_num=3, train_loss=0.246, train_accuracy=0.889, val_loss=0.204, val_accuracy=0.918]\n",
      "Epoch 52:  99%|█████████▉| 252/255 [01:23<00:00,  3.02it/s, loss=0.137, v_num=3, train_loss=0.246, train_accuracy=0.889, val_loss=0.204, val_accuracy=0.918]\n",
      "Epoch 52: 100%|█████████▉| 254/255 [01:23<00:00,  3.04it/s, loss=0.137, v_num=3, train_loss=0.246, train_accuracy=0.889, val_loss=0.204, val_accuracy=0.918]\n",
      "Epoch 52: 100%|██████████| 255/255 [01:24<00:00,  3.02it/s, loss=0.137, v_num=3, train_loss=0.246, train_accuracy=0.889, val_loss=0.221, val_accuracy=0.922]\n",
      "Epoch 52: 100%|██████████| 255/255 [01:24<00:00,  3.02it/s, loss=0.137, v_num=3, train_loss=0.246, train_accuracy=0.889, val_loss=0.221, val_accuracy=0.922]"
     ]
    },
    {
     "name": "stderr",
     "output_type": "stream",
     "text": [
      "Epoch 52, global step 11977: val_loss was not in top 2\n"
     ]
    },
    {
     "name": "stdout",
     "output_type": "stream",
     "text": [
      "Epoch 53:  89%|████████▊ | 226/255 [01:17<00:10,  2.90it/s, loss=0.162, v_num=3, train_loss=0.157, train_accuracy=0.944, val_loss=0.221, val_accuracy=0.922] \n",
      "Validating: 0it [00:00, ?it/s]\u001b[A\n",
      "Validating:   0%|          | 0/29 [00:00<?, ?it/s]\u001b[A\n",
      "Epoch 53:  89%|████████▉ | 228/255 [01:21<00:09,  2.79it/s, loss=0.162, v_num=3, train_loss=0.157, train_accuracy=0.944, val_loss=0.221, val_accuracy=0.922]\n",
      "Epoch 53:  90%|█████████ | 230/255 [01:21<00:08,  2.81it/s, loss=0.162, v_num=3, train_loss=0.157, train_accuracy=0.944, val_loss=0.221, val_accuracy=0.922]\n",
      "Epoch 53:  91%|█████████ | 232/255 [01:21<00:08,  2.83it/s, loss=0.162, v_num=3, train_loss=0.157, train_accuracy=0.944, val_loss=0.221, val_accuracy=0.922]\n",
      "Epoch 53:  92%|█████████▏| 234/255 [01:22<00:07,  2.85it/s, loss=0.162, v_num=3, train_loss=0.157, train_accuracy=0.944, val_loss=0.221, val_accuracy=0.922]\n",
      "Epoch 53:  93%|█████████▎| 236/255 [01:22<00:06,  2.87it/s, loss=0.162, v_num=3, train_loss=0.157, train_accuracy=0.944, val_loss=0.221, val_accuracy=0.922]\n",
      "Epoch 53:  93%|█████████▎| 238/255 [01:22<00:05,  2.89it/s, loss=0.162, v_num=3, train_loss=0.157, train_accuracy=0.944, val_loss=0.221, val_accuracy=0.922]\n",
      "Epoch 53:  94%|█████████▍| 240/255 [01:22<00:05,  2.91it/s, loss=0.162, v_num=3, train_loss=0.157, train_accuracy=0.944, val_loss=0.221, val_accuracy=0.922]\n",
      "Epoch 53:  95%|█████████▍| 242/255 [01:22<00:04,  2.93it/s, loss=0.162, v_num=3, train_loss=0.157, train_accuracy=0.944, val_loss=0.221, val_accuracy=0.922]\n",
      "Epoch 53:  96%|█████████▌| 244/255 [01:22<00:03,  2.94it/s, loss=0.162, v_num=3, train_loss=0.157, train_accuracy=0.944, val_loss=0.221, val_accuracy=0.922]\n",
      "Epoch 53:  96%|█████████▋| 246/255 [01:23<00:03,  2.96it/s, loss=0.162, v_num=3, train_loss=0.157, train_accuracy=0.944, val_loss=0.221, val_accuracy=0.922]\n",
      "Epoch 53:  97%|█████████▋| 248/255 [01:23<00:02,  2.98it/s, loss=0.162, v_num=3, train_loss=0.157, train_accuracy=0.944, val_loss=0.221, val_accuracy=0.922]\n",
      "Epoch 53:  98%|█████████▊| 250/255 [01:23<00:01,  3.00it/s, loss=0.162, v_num=3, train_loss=0.157, train_accuracy=0.944, val_loss=0.221, val_accuracy=0.922]\n",
      "Epoch 53:  99%|█████████▉| 252/255 [01:23<00:00,  3.02it/s, loss=0.162, v_num=3, train_loss=0.157, train_accuracy=0.944, val_loss=0.221, val_accuracy=0.922]\n",
      "Epoch 53: 100%|█████████▉| 254/255 [01:23<00:00,  3.04it/s, loss=0.162, v_num=3, train_loss=0.157, train_accuracy=0.944, val_loss=0.221, val_accuracy=0.922]\n",
      "Epoch 53: 100%|██████████| 255/255 [01:24<00:00,  3.03it/s, loss=0.162, v_num=3, train_loss=0.157, train_accuracy=0.944, val_loss=0.187, val_accuracy=0.926]\n",
      "Epoch 53: 100%|██████████| 255/255 [01:24<00:00,  3.03it/s, loss=0.162, v_num=3, train_loss=0.157, train_accuracy=0.944, val_loss=0.187, val_accuracy=0.926]"
     ]
    },
    {
     "name": "stderr",
     "output_type": "stream",
     "text": [
      "Epoch 53, global step 12203: val_loss reached 0.18717 (best 0.18717), saving model to \"/Workspace/code/checkpoints/best-checkpoint-corr-mi-18-v7.ckpt\" as top 2\n"
     ]
    },
    {
     "name": "stdout",
     "output_type": "stream",
     "text": [
      "Epoch 54:  89%|████████▊ | 226/255 [01:17<00:10,  2.90it/s, loss=0.29, v_num=3, train_loss=0.249, train_accuracy=0.944, val_loss=0.187, val_accuracy=0.926]  \n",
      "Validating: 0it [00:00, ?it/s]\u001b[A\n",
      "Validating:   0%|          | 0/29 [00:00<?, ?it/s]\u001b[A\n",
      "Epoch 54:  89%|████████▉ | 228/255 [01:21<00:09,  2.79it/s, loss=0.29, v_num=3, train_loss=0.249, train_accuracy=0.944, val_loss=0.187, val_accuracy=0.926]\n",
      "Epoch 54:  90%|█████████ | 230/255 [01:21<00:08,  2.81it/s, loss=0.29, v_num=3, train_loss=0.249, train_accuracy=0.944, val_loss=0.187, val_accuracy=0.926]\n",
      "Epoch 54:  91%|█████████ | 232/255 [01:21<00:08,  2.83it/s, loss=0.29, v_num=3, train_loss=0.249, train_accuracy=0.944, val_loss=0.187, val_accuracy=0.926]\n",
      "Epoch 54:  92%|█████████▏| 234/255 [01:22<00:07,  2.85it/s, loss=0.29, v_num=3, train_loss=0.249, train_accuracy=0.944, val_loss=0.187, val_accuracy=0.926]\n",
      "Epoch 54:  93%|█████████▎| 236/255 [01:22<00:06,  2.87it/s, loss=0.29, v_num=3, train_loss=0.249, train_accuracy=0.944, val_loss=0.187, val_accuracy=0.926]\n",
      "Epoch 54:  93%|█████████▎| 238/255 [01:22<00:05,  2.89it/s, loss=0.29, v_num=3, train_loss=0.249, train_accuracy=0.944, val_loss=0.187, val_accuracy=0.926]\n",
      "Epoch 54:  94%|█████████▍| 240/255 [01:22<00:05,  2.91it/s, loss=0.29, v_num=3, train_loss=0.249, train_accuracy=0.944, val_loss=0.187, val_accuracy=0.926]\n",
      "Epoch 54:  95%|█████████▍| 242/255 [01:22<00:04,  2.93it/s, loss=0.29, v_num=3, train_loss=0.249, train_accuracy=0.944, val_loss=0.187, val_accuracy=0.926]\n",
      "Epoch 54:  96%|█████████▌| 244/255 [01:22<00:03,  2.95it/s, loss=0.29, v_num=3, train_loss=0.249, train_accuracy=0.944, val_loss=0.187, val_accuracy=0.926]\n",
      "Epoch 54:  96%|█████████▋| 246/255 [01:22<00:03,  2.96it/s, loss=0.29, v_num=3, train_loss=0.249, train_accuracy=0.944, val_loss=0.187, val_accuracy=0.926]\n",
      "Epoch 54:  97%|█████████▋| 248/255 [01:23<00:02,  2.98it/s, loss=0.29, v_num=3, train_loss=0.249, train_accuracy=0.944, val_loss=0.187, val_accuracy=0.926]\n",
      "Epoch 54:  98%|█████████▊| 250/255 [01:23<00:01,  3.00it/s, loss=0.29, v_num=3, train_loss=0.249, train_accuracy=0.944, val_loss=0.187, val_accuracy=0.926]\n",
      "Epoch 54:  99%|█████████▉| 252/255 [01:23<00:00,  3.02it/s, loss=0.29, v_num=3, train_loss=0.249, train_accuracy=0.944, val_loss=0.187, val_accuracy=0.926]\n",
      "Epoch 54: 100%|█████████▉| 254/255 [01:23<00:00,  3.04it/s, loss=0.29, v_num=3, train_loss=0.249, train_accuracy=0.944, val_loss=0.187, val_accuracy=0.926]\n",
      "Epoch 54: 100%|██████████| 255/255 [01:24<00:00,  3.03it/s, loss=0.29, v_num=3, train_loss=0.249, train_accuracy=0.944, val_loss=0.317, val_accuracy=0.860]\n",
      "Epoch 54: 100%|██████████| 255/255 [01:24<00:00,  3.03it/s, loss=0.29, v_num=3, train_loss=0.249, train_accuracy=0.944, val_loss=0.317, val_accuracy=0.860]"
     ]
    },
    {
     "name": "stderr",
     "output_type": "stream",
     "text": [
      "Epoch 54, global step 12429: val_loss was not in top 2\n"
     ]
    },
    {
     "name": "stdout",
     "output_type": "stream",
     "text": [
      "Epoch 55:  89%|████████▊ | 226/255 [01:17<00:09,  2.90it/s, loss=0.195, v_num=3, train_loss=0.218, train_accuracy=0.889, val_loss=0.317, val_accuracy=0.860]\n",
      "Validating: 0it [00:00, ?it/s]\u001b[A\n",
      "Validating:   0%|          | 0/29 [00:00<?, ?it/s]\u001b[A\n",
      "Epoch 55:  89%|████████▉ | 228/255 [01:21<00:09,  2.80it/s, loss=0.195, v_num=3, train_loss=0.218, train_accuracy=0.889, val_loss=0.317, val_accuracy=0.860]\n",
      "Epoch 55:  90%|█████████ | 230/255 [01:21<00:08,  2.82it/s, loss=0.195, v_num=3, train_loss=0.218, train_accuracy=0.889, val_loss=0.317, val_accuracy=0.860]\n",
      "Epoch 55:  91%|█████████ | 232/255 [01:21<00:08,  2.83it/s, loss=0.195, v_num=3, train_loss=0.218, train_accuracy=0.889, val_loss=0.317, val_accuracy=0.860]\n",
      "Epoch 55:  92%|█████████▏| 234/255 [01:21<00:07,  2.85it/s, loss=0.195, v_num=3, train_loss=0.218, train_accuracy=0.889, val_loss=0.317, val_accuracy=0.860]\n",
      "Epoch 55:  93%|█████████▎| 236/255 [01:22<00:06,  2.87it/s, loss=0.195, v_num=3, train_loss=0.218, train_accuracy=0.889, val_loss=0.317, val_accuracy=0.860]\n",
      "Epoch 55:  93%|█████████▎| 238/255 [01:22<00:05,  2.89it/s, loss=0.195, v_num=3, train_loss=0.218, train_accuracy=0.889, val_loss=0.317, val_accuracy=0.860]\n",
      "Epoch 55:  94%|█████████▍| 240/255 [01:22<00:05,  2.91it/s, loss=0.195, v_num=3, train_loss=0.218, train_accuracy=0.889, val_loss=0.317, val_accuracy=0.860]\n",
      "Epoch 55:  95%|█████████▍| 242/255 [01:22<00:04,  2.93it/s, loss=0.195, v_num=3, train_loss=0.218, train_accuracy=0.889, val_loss=0.317, val_accuracy=0.860]\n",
      "Epoch 55:  96%|█████████▌| 244/255 [01:22<00:03,  2.95it/s, loss=0.195, v_num=3, train_loss=0.218, train_accuracy=0.889, val_loss=0.317, val_accuracy=0.860]\n",
      "Epoch 55:  96%|█████████▋| 246/255 [01:22<00:03,  2.97it/s, loss=0.195, v_num=3, train_loss=0.218, train_accuracy=0.889, val_loss=0.317, val_accuracy=0.860]\n",
      "Epoch 55:  97%|█████████▋| 248/255 [01:23<00:02,  2.99it/s, loss=0.195, v_num=3, train_loss=0.218, train_accuracy=0.889, val_loss=0.317, val_accuracy=0.860]\n",
      "Epoch 55:  98%|█████████▊| 250/255 [01:23<00:01,  3.01it/s, loss=0.195, v_num=3, train_loss=0.218, train_accuracy=0.889, val_loss=0.317, val_accuracy=0.860]\n",
      "Epoch 55:  99%|█████████▉| 252/255 [01:23<00:00,  3.02it/s, loss=0.195, v_num=3, train_loss=0.218, train_accuracy=0.889, val_loss=0.317, val_accuracy=0.860]\n",
      "Epoch 55: 100%|█████████▉| 254/255 [01:23<00:00,  3.04it/s, loss=0.195, v_num=3, train_loss=0.218, train_accuracy=0.889, val_loss=0.317, val_accuracy=0.860]\n",
      "Epoch 55: 100%|██████████| 255/255 [01:24<00:00,  3.03it/s, loss=0.195, v_num=3, train_loss=0.218, train_accuracy=0.889, val_loss=0.230, val_accuracy=0.896]\n",
      "Epoch 55: 100%|██████████| 255/255 [01:24<00:00,  3.03it/s, loss=0.195, v_num=3, train_loss=0.218, train_accuracy=0.889, val_loss=0.230, val_accuracy=0.896]"
     ]
    },
    {
     "name": "stderr",
     "output_type": "stream",
     "text": [
      "Epoch 55, global step 12655: val_loss was not in top 2\n"
     ]
    },
    {
     "name": "stdout",
     "output_type": "stream",
     "text": [
      "Epoch 56:  89%|████████▊ | 226/255 [01:17<00:10,  2.90it/s, loss=0.178, v_num=3, train_loss=0.0437, train_accuracy=1.000, val_loss=0.230, val_accuracy=0.896]\n",
      "Validating: 0it [00:00, ?it/s]\u001b[A\n",
      "Validating:   0%|          | 0/29 [00:00<?, ?it/s]\u001b[A\n",
      "Epoch 56:  89%|████████▉ | 228/255 [01:21<00:09,  2.79it/s, loss=0.178, v_num=3, train_loss=0.0437, train_accuracy=1.000, val_loss=0.230, val_accuracy=0.896]\n",
      "Epoch 56:  90%|█████████ | 230/255 [01:21<00:08,  2.81it/s, loss=0.178, v_num=3, train_loss=0.0437, train_accuracy=1.000, val_loss=0.230, val_accuracy=0.896]\n",
      "Epoch 56:  91%|█████████ | 232/255 [01:21<00:08,  2.83it/s, loss=0.178, v_num=3, train_loss=0.0437, train_accuracy=1.000, val_loss=0.230, val_accuracy=0.896]\n",
      "Epoch 56:  92%|█████████▏| 234/255 [01:22<00:07,  2.85it/s, loss=0.178, v_num=3, train_loss=0.0437, train_accuracy=1.000, val_loss=0.230, val_accuracy=0.896]\n",
      "Epoch 56:  93%|█████████▎| 236/255 [01:22<00:06,  2.87it/s, loss=0.178, v_num=3, train_loss=0.0437, train_accuracy=1.000, val_loss=0.230, val_accuracy=0.896]\n",
      "Epoch 56:  93%|█████████▎| 238/255 [01:22<00:05,  2.89it/s, loss=0.178, v_num=3, train_loss=0.0437, train_accuracy=1.000, val_loss=0.230, val_accuracy=0.896]\n",
      "Epoch 56:  94%|█████████▍| 240/255 [01:22<00:05,  2.91it/s, loss=0.178, v_num=3, train_loss=0.0437, train_accuracy=1.000, val_loss=0.230, val_accuracy=0.896]\n",
      "Epoch 56:  95%|█████████▍| 242/255 [01:22<00:04,  2.93it/s, loss=0.178, v_num=3, train_loss=0.0437, train_accuracy=1.000, val_loss=0.230, val_accuracy=0.896]\n",
      "Epoch 56:  96%|█████████▌| 244/255 [01:22<00:03,  2.95it/s, loss=0.178, v_num=3, train_loss=0.0437, train_accuracy=1.000, val_loss=0.230, val_accuracy=0.896]\n",
      "Epoch 56:  96%|█████████▋| 246/255 [01:22<00:03,  2.97it/s, loss=0.178, v_num=3, train_loss=0.0437, train_accuracy=1.000, val_loss=0.230, val_accuracy=0.896]\n",
      "Epoch 56:  97%|█████████▋| 248/255 [01:23<00:02,  2.98it/s, loss=0.178, v_num=3, train_loss=0.0437, train_accuracy=1.000, val_loss=0.230, val_accuracy=0.896]\n",
      "Epoch 56:  98%|█████████▊| 250/255 [01:23<00:01,  3.00it/s, loss=0.178, v_num=3, train_loss=0.0437, train_accuracy=1.000, val_loss=0.230, val_accuracy=0.896]\n",
      "Epoch 56:  99%|█████████▉| 252/255 [01:23<00:00,  3.02it/s, loss=0.178, v_num=3, train_loss=0.0437, train_accuracy=1.000, val_loss=0.230, val_accuracy=0.896]\n",
      "Epoch 56: 100%|█████████▉| 254/255 [01:23<00:00,  3.04it/s, loss=0.178, v_num=3, train_loss=0.0437, train_accuracy=1.000, val_loss=0.230, val_accuracy=0.896]\n",
      "Epoch 56: 100%|██████████| 255/255 [01:24<00:00,  3.02it/s, loss=0.178, v_num=3, train_loss=0.0437, train_accuracy=1.000, val_loss=0.228, val_accuracy=0.910]\n",
      "Epoch 56: 100%|██████████| 255/255 [01:24<00:00,  3.02it/s, loss=0.178, v_num=3, train_loss=0.0437, train_accuracy=1.000, val_loss=0.228, val_accuracy=0.910]"
     ]
    },
    {
     "name": "stderr",
     "output_type": "stream",
     "text": [
      "Epoch 56, global step 12881: val_loss was not in top 2\n"
     ]
    },
    {
     "name": "stdout",
     "output_type": "stream",
     "text": [
      "Epoch 57:  89%|████████▊ | 226/255 [01:17<00:10,  2.90it/s, loss=0.142, v_num=3, train_loss=0.236, train_accuracy=0.944, val_loss=0.228, val_accuracy=0.910] \n",
      "Validating: 0it [00:00, ?it/s]\u001b[A\n",
      "Validating:   0%|          | 0/29 [00:00<?, ?it/s]\u001b[A\n",
      "Epoch 57:  89%|████████▉ | 228/255 [01:21<00:09,  2.79it/s, loss=0.142, v_num=3, train_loss=0.236, train_accuracy=0.944, val_loss=0.228, val_accuracy=0.910]\n",
      "Epoch 57:  90%|█████████ | 230/255 [01:21<00:08,  2.81it/s, loss=0.142, v_num=3, train_loss=0.236, train_accuracy=0.944, val_loss=0.228, val_accuracy=0.910]\n",
      "Epoch 57:  91%|█████████ | 232/255 [01:21<00:08,  2.83it/s, loss=0.142, v_num=3, train_loss=0.236, train_accuracy=0.944, val_loss=0.228, val_accuracy=0.910]\n",
      "Epoch 57:  92%|█████████▏| 234/255 [01:22<00:07,  2.85it/s, loss=0.142, v_num=3, train_loss=0.236, train_accuracy=0.944, val_loss=0.228, val_accuracy=0.910]\n",
      "Epoch 57:  93%|█████████▎| 236/255 [01:22<00:06,  2.87it/s, loss=0.142, v_num=3, train_loss=0.236, train_accuracy=0.944, val_loss=0.228, val_accuracy=0.910]\n",
      "Epoch 57:  93%|█████████▎| 238/255 [01:22<00:05,  2.89it/s, loss=0.142, v_num=3, train_loss=0.236, train_accuracy=0.944, val_loss=0.228, val_accuracy=0.910]\n",
      "Epoch 57:  94%|█████████▍| 240/255 [01:22<00:05,  2.91it/s, loss=0.142, v_num=3, train_loss=0.236, train_accuracy=0.944, val_loss=0.228, val_accuracy=0.910]\n",
      "Epoch 57:  95%|█████████▍| 242/255 [01:22<00:04,  2.93it/s, loss=0.142, v_num=3, train_loss=0.236, train_accuracy=0.944, val_loss=0.228, val_accuracy=0.910]\n",
      "Epoch 57:  96%|█████████▌| 244/255 [01:22<00:03,  2.95it/s, loss=0.142, v_num=3, train_loss=0.236, train_accuracy=0.944, val_loss=0.228, val_accuracy=0.910]\n",
      "Epoch 57:  96%|█████████▋| 246/255 [01:22<00:03,  2.97it/s, loss=0.142, v_num=3, train_loss=0.236, train_accuracy=0.944, val_loss=0.228, val_accuracy=0.910]\n",
      "Epoch 57:  97%|█████████▋| 248/255 [01:23<00:02,  2.98it/s, loss=0.142, v_num=3, train_loss=0.236, train_accuracy=0.944, val_loss=0.228, val_accuracy=0.910]\n",
      "Epoch 57:  98%|█████████▊| 250/255 [01:23<00:01,  3.00it/s, loss=0.142, v_num=3, train_loss=0.236, train_accuracy=0.944, val_loss=0.228, val_accuracy=0.910]\n",
      "Epoch 57:  99%|█████████▉| 252/255 [01:23<00:00,  3.02it/s, loss=0.142, v_num=3, train_loss=0.236, train_accuracy=0.944, val_loss=0.228, val_accuracy=0.910]\n",
      "Epoch 57: 100%|█████████▉| 254/255 [01:23<00:00,  3.04it/s, loss=0.142, v_num=3, train_loss=0.236, train_accuracy=0.944, val_loss=0.228, val_accuracy=0.910]\n",
      "Epoch 57: 100%|██████████| 255/255 [01:24<00:00,  3.03it/s, loss=0.142, v_num=3, train_loss=0.236, train_accuracy=0.944, val_loss=0.210, val_accuracy=0.921]\n",
      "Epoch 57: 100%|██████████| 255/255 [01:24<00:00,  3.03it/s, loss=0.142, v_num=3, train_loss=0.236, train_accuracy=0.944, val_loss=0.210, val_accuracy=0.921]"
     ]
    },
    {
     "name": "stderr",
     "output_type": "stream",
     "text": [
      "Epoch 57, global step 13107: val_loss was not in top 2\n"
     ]
    },
    {
     "name": "stdout",
     "output_type": "stream",
     "text": [
      "Epoch 58:  89%|████████▊ | 226/255 [01:17<00:10,  2.90it/s, loss=0.109, v_num=3, train_loss=0.0669, train_accuracy=1.000, val_loss=0.210, val_accuracy=0.921]\n",
      "Validating: 0it [00:00, ?it/s]\u001b[A\n",
      "Validating:   0%|          | 0/29 [00:00<?, ?it/s]\u001b[A\n",
      "Epoch 58:  89%|████████▉ | 228/255 [01:21<00:09,  2.79it/s, loss=0.109, v_num=3, train_loss=0.0669, train_accuracy=1.000, val_loss=0.210, val_accuracy=0.921]\n",
      "Epoch 58:  90%|█████████ | 230/255 [01:21<00:08,  2.81it/s, loss=0.109, v_num=3, train_loss=0.0669, train_accuracy=1.000, val_loss=0.210, val_accuracy=0.921]\n",
      "Epoch 58:  91%|█████████ | 232/255 [01:22<00:08,  2.83it/s, loss=0.109, v_num=3, train_loss=0.0669, train_accuracy=1.000, val_loss=0.210, val_accuracy=0.921]\n",
      "Epoch 58:  92%|█████████▏| 234/255 [01:22<00:07,  2.85it/s, loss=0.109, v_num=3, train_loss=0.0669, train_accuracy=1.000, val_loss=0.210, val_accuracy=0.921]\n",
      "Epoch 58:  93%|█████████▎| 236/255 [01:22<00:06,  2.87it/s, loss=0.109, v_num=3, train_loss=0.0669, train_accuracy=1.000, val_loss=0.210, val_accuracy=0.921]\n",
      "Epoch 58:  93%|█████████▎| 238/255 [01:22<00:05,  2.89it/s, loss=0.109, v_num=3, train_loss=0.0669, train_accuracy=1.000, val_loss=0.210, val_accuracy=0.921]\n",
      "Epoch 58:  94%|█████████▍| 240/255 [01:22<00:05,  2.91it/s, loss=0.109, v_num=3, train_loss=0.0669, train_accuracy=1.000, val_loss=0.210, val_accuracy=0.921]\n",
      "Epoch 58:  95%|█████████▍| 242/255 [01:22<00:04,  2.92it/s, loss=0.109, v_num=3, train_loss=0.0669, train_accuracy=1.000, val_loss=0.210, val_accuracy=0.921]\n",
      "Epoch 58:  96%|█████████▌| 244/255 [01:22<00:03,  2.94it/s, loss=0.109, v_num=3, train_loss=0.0669, train_accuracy=1.000, val_loss=0.210, val_accuracy=0.921]\n",
      "Epoch 58:  96%|█████████▋| 246/255 [01:23<00:03,  2.96it/s, loss=0.109, v_num=3, train_loss=0.0669, train_accuracy=1.000, val_loss=0.210, val_accuracy=0.921]\n",
      "Epoch 58:  97%|█████████▋| 248/255 [01:23<00:02,  2.98it/s, loss=0.109, v_num=3, train_loss=0.0669, train_accuracy=1.000, val_loss=0.210, val_accuracy=0.921]\n",
      "Epoch 58:  98%|█████████▊| 250/255 [01:23<00:01,  3.00it/s, loss=0.109, v_num=3, train_loss=0.0669, train_accuracy=1.000, val_loss=0.210, val_accuracy=0.921]\n",
      "Epoch 58:  99%|█████████▉| 252/255 [01:23<00:00,  3.02it/s, loss=0.109, v_num=3, train_loss=0.0669, train_accuracy=1.000, val_loss=0.210, val_accuracy=0.921]\n",
      "Epoch 58: 100%|█████████▉| 254/255 [01:23<00:00,  3.04it/s, loss=0.109, v_num=3, train_loss=0.0669, train_accuracy=1.000, val_loss=0.210, val_accuracy=0.921]\n",
      "Epoch 58: 100%|██████████| 255/255 [01:24<00:00,  3.02it/s, loss=0.109, v_num=3, train_loss=0.0669, train_accuracy=1.000, val_loss=0.206, val_accuracy=0.925]\n",
      "Epoch 58: 100%|██████████| 255/255 [01:24<00:00,  3.02it/s, loss=0.109, v_num=3, train_loss=0.0669, train_accuracy=1.000, val_loss=0.206, val_accuracy=0.925]"
     ]
    },
    {
     "name": "stderr",
     "output_type": "stream",
     "text": [
      "Epoch 58, global step 13333: val_loss was not in top 2\n"
     ]
    },
    {
     "name": "stdout",
     "output_type": "stream",
     "text": [
      "Epoch 59:  89%|████████▊ | 226/255 [01:17<00:10,  2.90it/s, loss=0.154, v_num=3, train_loss=0.0233, train_accuracy=1.000, val_loss=0.206, val_accuracy=0.925]\n",
      "Validating: 0it [00:00, ?it/s]\u001b[A\n",
      "Validating:   0%|          | 0/29 [00:00<?, ?it/s]\u001b[A\n",
      "Epoch 59:  89%|████████▉ | 228/255 [01:21<00:09,  2.79it/s, loss=0.154, v_num=3, train_loss=0.0233, train_accuracy=1.000, val_loss=0.206, val_accuracy=0.925]\n",
      "Epoch 59:  90%|█████████ | 230/255 [01:21<00:08,  2.81it/s, loss=0.154, v_num=3, train_loss=0.0233, train_accuracy=1.000, val_loss=0.206, val_accuracy=0.925]\n",
      "Epoch 59:  91%|█████████ | 232/255 [01:21<00:08,  2.83it/s, loss=0.154, v_num=3, train_loss=0.0233, train_accuracy=1.000, val_loss=0.206, val_accuracy=0.925]\n",
      "Epoch 59:  92%|█████████▏| 234/255 [01:22<00:07,  2.85it/s, loss=0.154, v_num=3, train_loss=0.0233, train_accuracy=1.000, val_loss=0.206, val_accuracy=0.925]\n",
      "Epoch 59:  93%|█████████▎| 236/255 [01:22<00:06,  2.87it/s, loss=0.154, v_num=3, train_loss=0.0233, train_accuracy=1.000, val_loss=0.206, val_accuracy=0.925]\n",
      "Epoch 59:  93%|█████████▎| 238/255 [01:22<00:05,  2.89it/s, loss=0.154, v_num=3, train_loss=0.0233, train_accuracy=1.000, val_loss=0.206, val_accuracy=0.925]\n",
      "Epoch 59:  94%|█████████▍| 240/255 [01:22<00:05,  2.91it/s, loss=0.154, v_num=3, train_loss=0.0233, train_accuracy=1.000, val_loss=0.206, val_accuracy=0.925]\n",
      "Epoch 59:  95%|█████████▍| 242/255 [01:22<00:04,  2.93it/s, loss=0.154, v_num=3, train_loss=0.0233, train_accuracy=1.000, val_loss=0.206, val_accuracy=0.925]\n",
      "Epoch 59:  96%|█████████▌| 244/255 [01:22<00:03,  2.94it/s, loss=0.154, v_num=3, train_loss=0.0233, train_accuracy=1.000, val_loss=0.206, val_accuracy=0.925]\n",
      "Epoch 59:  96%|█████████▋| 246/255 [01:23<00:03,  2.96it/s, loss=0.154, v_num=3, train_loss=0.0233, train_accuracy=1.000, val_loss=0.206, val_accuracy=0.925]\n",
      "Epoch 59:  97%|█████████▋| 248/255 [01:23<00:02,  2.98it/s, loss=0.154, v_num=3, train_loss=0.0233, train_accuracy=1.000, val_loss=0.206, val_accuracy=0.925]\n",
      "Epoch 59:  98%|█████████▊| 250/255 [01:23<00:01,  3.00it/s, loss=0.154, v_num=3, train_loss=0.0233, train_accuracy=1.000, val_loss=0.206, val_accuracy=0.925]\n",
      "Epoch 59:  99%|█████████▉| 252/255 [01:23<00:00,  3.02it/s, loss=0.154, v_num=3, train_loss=0.0233, train_accuracy=1.000, val_loss=0.206, val_accuracy=0.925]\n",
      "Epoch 59: 100%|█████████▉| 254/255 [01:23<00:00,  3.04it/s, loss=0.154, v_num=3, train_loss=0.0233, train_accuracy=1.000, val_loss=0.206, val_accuracy=0.925]\n",
      "Epoch 59: 100%|██████████| 255/255 [01:24<00:00,  3.02it/s, loss=0.154, v_num=3, train_loss=0.0233, train_accuracy=1.000, val_loss=0.198, val_accuracy=0.916]\n",
      "Epoch 59: 100%|██████████| 255/255 [01:24<00:00,  3.02it/s, loss=0.154, v_num=3, train_loss=0.0233, train_accuracy=1.000, val_loss=0.198, val_accuracy=0.916]"
     ]
    },
    {
     "name": "stderr",
     "output_type": "stream",
     "text": [
      "Epoch 59, global step 13559: val_loss reached 0.19847 (best 0.18717), saving model to \"/Workspace/code/checkpoints/best-checkpoint-corr-mi-18-v6.ckpt\" as top 2\n"
     ]
    },
    {
     "name": "stdout",
     "output_type": "stream",
     "text": [
      "Epoch 60:  89%|████████▊ | 226/255 [01:17<00:10,  2.90it/s, loss=0.322, v_num=3, train_loss=0.363, train_accuracy=0.722, val_loss=0.198, val_accuracy=0.916] \n",
      "Validating: 0it [00:00, ?it/s]\u001b[A\n",
      "Validating:   0%|          | 0/29 [00:00<?, ?it/s]\u001b[A\n",
      "Epoch 60:  89%|████████▉ | 228/255 [01:21<00:09,  2.79it/s, loss=0.322, v_num=3, train_loss=0.363, train_accuracy=0.722, val_loss=0.198, val_accuracy=0.916]\n",
      "Epoch 60:  90%|█████████ | 230/255 [01:21<00:08,  2.81it/s, loss=0.322, v_num=3, train_loss=0.363, train_accuracy=0.722, val_loss=0.198, val_accuracy=0.916]\n",
      "Epoch 60:  91%|█████████ | 232/255 [01:22<00:08,  2.83it/s, loss=0.322, v_num=3, train_loss=0.363, train_accuracy=0.722, val_loss=0.198, val_accuracy=0.916]\n",
      "Epoch 60:  92%|█████████▏| 234/255 [01:22<00:07,  2.84it/s, loss=0.322, v_num=3, train_loss=0.363, train_accuracy=0.722, val_loss=0.198, val_accuracy=0.916]\n",
      "Epoch 60:  93%|█████████▎| 236/255 [01:22<00:06,  2.86it/s, loss=0.322, v_num=3, train_loss=0.363, train_accuracy=0.722, val_loss=0.198, val_accuracy=0.916]\n",
      "Epoch 60:  93%|█████████▎| 238/255 [01:22<00:05,  2.88it/s, loss=0.322, v_num=3, train_loss=0.363, train_accuracy=0.722, val_loss=0.198, val_accuracy=0.916]\n",
      "Epoch 60:  94%|█████████▍| 240/255 [01:22<00:05,  2.90it/s, loss=0.322, v_num=3, train_loss=0.363, train_accuracy=0.722, val_loss=0.198, val_accuracy=0.916]\n",
      "Epoch 60:  95%|█████████▍| 242/255 [01:22<00:04,  2.92it/s, loss=0.322, v_num=3, train_loss=0.363, train_accuracy=0.722, val_loss=0.198, val_accuracy=0.916]\n",
      "Epoch 60:  96%|█████████▌| 244/255 [01:23<00:03,  2.94it/s, loss=0.322, v_num=3, train_loss=0.363, train_accuracy=0.722, val_loss=0.198, val_accuracy=0.916]\n",
      "Epoch 60:  96%|█████████▋| 246/255 [01:23<00:03,  2.96it/s, loss=0.322, v_num=3, train_loss=0.363, train_accuracy=0.722, val_loss=0.198, val_accuracy=0.916]\n",
      "Epoch 60:  97%|█████████▋| 248/255 [01:23<00:02,  2.98it/s, loss=0.322, v_num=3, train_loss=0.363, train_accuracy=0.722, val_loss=0.198, val_accuracy=0.916]\n",
      "Epoch 60:  98%|█████████▊| 250/255 [01:23<00:01,  3.00it/s, loss=0.322, v_num=3, train_loss=0.363, train_accuracy=0.722, val_loss=0.198, val_accuracy=0.916]\n",
      "Epoch 60:  99%|█████████▉| 252/255 [01:23<00:00,  3.01it/s, loss=0.322, v_num=3, train_loss=0.363, train_accuracy=0.722, val_loss=0.198, val_accuracy=0.916]\n",
      "Epoch 60: 100%|█████████▉| 254/255 [01:23<00:00,  3.03it/s, loss=0.322, v_num=3, train_loss=0.363, train_accuracy=0.722, val_loss=0.198, val_accuracy=0.916]\n",
      "Epoch 60: 100%|██████████| 255/255 [01:24<00:00,  3.02it/s, loss=0.322, v_num=3, train_loss=0.363, train_accuracy=0.722, val_loss=0.254, val_accuracy=0.889]\n",
      "Epoch 60: 100%|██████████| 255/255 [01:24<00:00,  3.02it/s, loss=0.322, v_num=3, train_loss=0.363, train_accuracy=0.722, val_loss=0.254, val_accuracy=0.889]"
     ]
    },
    {
     "name": "stderr",
     "output_type": "stream",
     "text": [
      "Epoch 60, global step 13785: val_loss was not in top 2\n"
     ]
    },
    {
     "name": "stdout",
     "output_type": "stream",
     "text": [
      "Epoch 61:  89%|████████▊ | 226/255 [01:17<00:09,  2.90it/s, loss=0.162, v_num=3, train_loss=0.165, train_accuracy=0.944, val_loss=0.254, val_accuracy=0.889] \n",
      "Validating: 0it [00:00, ?it/s]\u001b[A\n",
      "Validating:   0%|          | 0/29 [00:00<?, ?it/s]\u001b[A\n",
      "Epoch 61:  89%|████████▉ | 228/255 [01:21<00:09,  2.79it/s, loss=0.162, v_num=3, train_loss=0.165, train_accuracy=0.944, val_loss=0.254, val_accuracy=0.889]\n",
      "Epoch 61:  90%|█████████ | 230/255 [01:21<00:08,  2.81it/s, loss=0.162, v_num=3, train_loss=0.165, train_accuracy=0.944, val_loss=0.254, val_accuracy=0.889]\n",
      "Epoch 61:  91%|█████████ | 232/255 [01:21<00:08,  2.83it/s, loss=0.162, v_num=3, train_loss=0.165, train_accuracy=0.944, val_loss=0.254, val_accuracy=0.889]\n",
      "Epoch 61:  92%|█████████▏| 234/255 [01:22<00:07,  2.85it/s, loss=0.162, v_num=3, train_loss=0.165, train_accuracy=0.944, val_loss=0.254, val_accuracy=0.889]\n",
      "Epoch 61:  93%|█████████▎| 236/255 [01:22<00:06,  2.87it/s, loss=0.162, v_num=3, train_loss=0.165, train_accuracy=0.944, val_loss=0.254, val_accuracy=0.889]\n",
      "Epoch 61:  93%|█████████▎| 238/255 [01:22<00:05,  2.89it/s, loss=0.162, v_num=3, train_loss=0.165, train_accuracy=0.944, val_loss=0.254, val_accuracy=0.889]\n",
      "Epoch 61:  94%|█████████▍| 240/255 [01:22<00:05,  2.91it/s, loss=0.162, v_num=3, train_loss=0.165, train_accuracy=0.944, val_loss=0.254, val_accuracy=0.889]\n",
      "Epoch 61:  95%|█████████▍| 242/255 [01:22<00:04,  2.93it/s, loss=0.162, v_num=3, train_loss=0.165, train_accuracy=0.944, val_loss=0.254, val_accuracy=0.889]\n",
      "Epoch 61:  96%|█████████▌| 244/255 [01:22<00:03,  2.95it/s, loss=0.162, v_num=3, train_loss=0.165, train_accuracy=0.944, val_loss=0.254, val_accuracy=0.889]\n",
      "Epoch 61:  96%|█████████▋| 246/255 [01:22<00:03,  2.97it/s, loss=0.162, v_num=3, train_loss=0.165, train_accuracy=0.944, val_loss=0.254, val_accuracy=0.889]\n",
      "Epoch 61:  97%|█████████▋| 248/255 [01:23<00:02,  2.98it/s, loss=0.162, v_num=3, train_loss=0.165, train_accuracy=0.944, val_loss=0.254, val_accuracy=0.889]\n",
      "Epoch 61:  98%|█████████▊| 250/255 [01:23<00:01,  3.00it/s, loss=0.162, v_num=3, train_loss=0.165, train_accuracy=0.944, val_loss=0.254, val_accuracy=0.889]\n",
      "Epoch 61:  99%|█████████▉| 252/255 [01:23<00:00,  3.02it/s, loss=0.162, v_num=3, train_loss=0.165, train_accuracy=0.944, val_loss=0.254, val_accuracy=0.889]\n",
      "Epoch 61: 100%|█████████▉| 254/255 [01:23<00:00,  3.04it/s, loss=0.162, v_num=3, train_loss=0.165, train_accuracy=0.944, val_loss=0.254, val_accuracy=0.889]\n",
      "Epoch 61: 100%|██████████| 255/255 [01:24<00:00,  3.03it/s, loss=0.162, v_num=3, train_loss=0.165, train_accuracy=0.944, val_loss=0.193, val_accuracy=0.923]\n",
      "Epoch 61: 100%|██████████| 255/255 [01:24<00:00,  3.03it/s, loss=0.162, v_num=3, train_loss=0.165, train_accuracy=0.944, val_loss=0.193, val_accuracy=0.923]"
     ]
    },
    {
     "name": "stderr",
     "output_type": "stream",
     "text": [
      "Epoch 61, global step 14011: val_loss reached 0.19291 (best 0.18717), saving model to \"/Workspace/code/checkpoints/best-checkpoint-corr-mi-18-v6.ckpt\" as top 2\n"
     ]
    },
    {
     "name": "stdout",
     "output_type": "stream",
     "text": [
      "Epoch 62:  89%|████████▊ | 226/255 [01:17<00:09,  2.90it/s, loss=0.162, v_num=3, train_loss=0.234, train_accuracy=0.833, val_loss=0.193, val_accuracy=0.923] \n",
      "Validating: 0it [00:00, ?it/s]\u001b[A\n",
      "Validating:   0%|          | 0/29 [00:00<?, ?it/s]\u001b[A\n",
      "Epoch 62:  89%|████████▉ | 228/255 [01:21<00:09,  2.80it/s, loss=0.162, v_num=3, train_loss=0.234, train_accuracy=0.833, val_loss=0.193, val_accuracy=0.923]\n",
      "Epoch 62:  90%|█████████ | 230/255 [01:21<00:08,  2.82it/s, loss=0.162, v_num=3, train_loss=0.234, train_accuracy=0.833, val_loss=0.193, val_accuracy=0.923]\n",
      "Epoch 62:  91%|█████████ | 232/255 [01:21<00:08,  2.83it/s, loss=0.162, v_num=3, train_loss=0.234, train_accuracy=0.833, val_loss=0.193, val_accuracy=0.923]\n",
      "Epoch 62:  92%|█████████▏| 234/255 [01:22<00:07,  2.85it/s, loss=0.162, v_num=3, train_loss=0.234, train_accuracy=0.833, val_loss=0.193, val_accuracy=0.923]\n",
      "Epoch 62:  93%|█████████▎| 236/255 [01:22<00:06,  2.87it/s, loss=0.162, v_num=3, train_loss=0.234, train_accuracy=0.833, val_loss=0.193, val_accuracy=0.923]\n",
      "Epoch 62:  93%|█████████▎| 238/255 [01:22<00:05,  2.89it/s, loss=0.162, v_num=3, train_loss=0.234, train_accuracy=0.833, val_loss=0.193, val_accuracy=0.923]\n",
      "Epoch 62:  94%|█████████▍| 240/255 [01:22<00:05,  2.91it/s, loss=0.162, v_num=3, train_loss=0.234, train_accuracy=0.833, val_loss=0.193, val_accuracy=0.923]\n",
      "Epoch 62:  95%|█████████▍| 242/255 [01:22<00:04,  2.93it/s, loss=0.162, v_num=3, train_loss=0.234, train_accuracy=0.833, val_loss=0.193, val_accuracy=0.923]\n",
      "Epoch 62:  96%|█████████▌| 244/255 [01:22<00:03,  2.95it/s, loss=0.162, v_num=3, train_loss=0.234, train_accuracy=0.833, val_loss=0.193, val_accuracy=0.923]\n",
      "Epoch 62:  96%|█████████▋| 246/255 [01:22<00:03,  2.97it/s, loss=0.162, v_num=3, train_loss=0.234, train_accuracy=0.833, val_loss=0.193, val_accuracy=0.923]\n",
      "Epoch 62:  97%|█████████▋| 248/255 [01:23<00:02,  2.99it/s, loss=0.162, v_num=3, train_loss=0.234, train_accuracy=0.833, val_loss=0.193, val_accuracy=0.923]\n",
      "Epoch 62:  98%|█████████▊| 250/255 [01:23<00:01,  3.00it/s, loss=0.162, v_num=3, train_loss=0.234, train_accuracy=0.833, val_loss=0.193, val_accuracy=0.923]\n",
      "Epoch 62:  99%|█████████▉| 252/255 [01:23<00:00,  3.02it/s, loss=0.162, v_num=3, train_loss=0.234, train_accuracy=0.833, val_loss=0.193, val_accuracy=0.923]\n",
      "Epoch 62: 100%|█████████▉| 254/255 [01:23<00:00,  3.04it/s, loss=0.162, v_num=3, train_loss=0.234, train_accuracy=0.833, val_loss=0.193, val_accuracy=0.923]\n",
      "Epoch 62: 100%|██████████| 255/255 [01:24<00:00,  3.03it/s, loss=0.162, v_num=3, train_loss=0.234, train_accuracy=0.833, val_loss=0.183, val_accuracy=0.929]\n",
      "Epoch 62: 100%|██████████| 255/255 [01:24<00:00,  3.03it/s, loss=0.162, v_num=3, train_loss=0.234, train_accuracy=0.833, val_loss=0.183, val_accuracy=0.929]"
     ]
    },
    {
     "name": "stderr",
     "output_type": "stream",
     "text": [
      "Epoch 62, global step 14237: val_loss reached 0.18279 (best 0.18279), saving model to \"/Workspace/code/checkpoints/best-checkpoint-corr-mi-18-v6.ckpt\" as top 2\n"
     ]
    },
    {
     "name": "stdout",
     "output_type": "stream",
     "text": [
      "Epoch 63:  89%|████████▊ | 226/255 [01:17<00:10,  2.90it/s, loss=0.182, v_num=3, train_loss=0.343, train_accuracy=0.889, val_loss=0.183, val_accuracy=0.929] \n",
      "Validating: 0it [00:00, ?it/s]\u001b[A\n",
      "Validating:   0%|          | 0/29 [00:00<?, ?it/s]\u001b[A\n",
      "Epoch 63:  89%|████████▉ | 228/255 [01:21<00:09,  2.79it/s, loss=0.182, v_num=3, train_loss=0.343, train_accuracy=0.889, val_loss=0.183, val_accuracy=0.929]\n",
      "Epoch 63:  90%|█████████ | 230/255 [01:21<00:08,  2.81it/s, loss=0.182, v_num=3, train_loss=0.343, train_accuracy=0.889, val_loss=0.183, val_accuracy=0.929]\n",
      "Epoch 63:  91%|█████████ | 232/255 [01:21<00:08,  2.83it/s, loss=0.182, v_num=3, train_loss=0.343, train_accuracy=0.889, val_loss=0.183, val_accuracy=0.929]\n",
      "Epoch 63:  92%|█████████▏| 234/255 [01:22<00:07,  2.85it/s, loss=0.182, v_num=3, train_loss=0.343, train_accuracy=0.889, val_loss=0.183, val_accuracy=0.929]\n",
      "Epoch 63:  93%|█████████▎| 236/255 [01:22<00:06,  2.87it/s, loss=0.182, v_num=3, train_loss=0.343, train_accuracy=0.889, val_loss=0.183, val_accuracy=0.929]\n",
      "Epoch 63:  93%|█████████▎| 238/255 [01:22<00:05,  2.89it/s, loss=0.182, v_num=3, train_loss=0.343, train_accuracy=0.889, val_loss=0.183, val_accuracy=0.929]\n",
      "Epoch 63:  94%|█████████▍| 240/255 [01:22<00:05,  2.91it/s, loss=0.182, v_num=3, train_loss=0.343, train_accuracy=0.889, val_loss=0.183, val_accuracy=0.929]\n",
      "Epoch 63:  95%|█████████▍| 242/255 [01:22<00:04,  2.93it/s, loss=0.182, v_num=3, train_loss=0.343, train_accuracy=0.889, val_loss=0.183, val_accuracy=0.929]\n",
      "Epoch 63:  96%|█████████▌| 244/255 [01:22<00:03,  2.94it/s, loss=0.182, v_num=3, train_loss=0.343, train_accuracy=0.889, val_loss=0.183, val_accuracy=0.929]\n",
      "Epoch 63:  96%|█████████▋| 246/255 [01:23<00:03,  2.96it/s, loss=0.182, v_num=3, train_loss=0.343, train_accuracy=0.889, val_loss=0.183, val_accuracy=0.929]\n",
      "Epoch 63:  97%|█████████▋| 248/255 [01:23<00:02,  2.98it/s, loss=0.182, v_num=3, train_loss=0.343, train_accuracy=0.889, val_loss=0.183, val_accuracy=0.929]\n",
      "Epoch 63:  98%|█████████▊| 250/255 [01:23<00:01,  3.00it/s, loss=0.182, v_num=3, train_loss=0.343, train_accuracy=0.889, val_loss=0.183, val_accuracy=0.929]\n",
      "Epoch 63:  99%|█████████▉| 252/255 [01:23<00:00,  3.02it/s, loss=0.182, v_num=3, train_loss=0.343, train_accuracy=0.889, val_loss=0.183, val_accuracy=0.929]\n",
      "Epoch 63: 100%|█████████▉| 254/255 [01:23<00:00,  3.04it/s, loss=0.182, v_num=3, train_loss=0.343, train_accuracy=0.889, val_loss=0.183, val_accuracy=0.929]\n",
      "Epoch 63: 100%|██████████| 255/255 [01:24<00:00,  3.02it/s, loss=0.182, v_num=3, train_loss=0.343, train_accuracy=0.889, val_loss=0.216, val_accuracy=0.921]\n",
      "Epoch 63: 100%|██████████| 255/255 [01:24<00:00,  3.02it/s, loss=0.182, v_num=3, train_loss=0.343, train_accuracy=0.889, val_loss=0.216, val_accuracy=0.921]"
     ]
    },
    {
     "name": "stderr",
     "output_type": "stream",
     "text": [
      "Epoch 63, global step 14463: val_loss was not in top 2\n"
     ]
    },
    {
     "name": "stdout",
     "output_type": "stream",
     "text": [
      "Epoch 64:  89%|████████▊ | 226/255 [01:18<00:10,  2.90it/s, loss=0.139, v_num=3, train_loss=0.130, train_accuracy=0.944, val_loss=0.216, val_accuracy=0.921] \n",
      "Validating: 0it [00:00, ?it/s]\u001b[A\n",
      "Validating:   0%|          | 0/29 [00:00<?, ?it/s]\u001b[A\n",
      "Epoch 64:  89%|████████▉ | 228/255 [01:21<00:09,  2.79it/s, loss=0.139, v_num=3, train_loss=0.130, train_accuracy=0.944, val_loss=0.216, val_accuracy=0.921]\n",
      "Epoch 64:  90%|█████████ | 230/255 [01:21<00:08,  2.81it/s, loss=0.139, v_num=3, train_loss=0.130, train_accuracy=0.944, val_loss=0.216, val_accuracy=0.921]\n",
      "Epoch 64:  91%|█████████ | 232/255 [01:22<00:08,  2.83it/s, loss=0.139, v_num=3, train_loss=0.130, train_accuracy=0.944, val_loss=0.216, val_accuracy=0.921]\n",
      "Epoch 64:  92%|█████████▏| 234/255 [01:22<00:07,  2.85it/s, loss=0.139, v_num=3, train_loss=0.130, train_accuracy=0.944, val_loss=0.216, val_accuracy=0.921]\n",
      "Epoch 64:  93%|█████████▎| 236/255 [01:22<00:06,  2.87it/s, loss=0.139, v_num=3, train_loss=0.130, train_accuracy=0.944, val_loss=0.216, val_accuracy=0.921]\n",
      "Epoch 64:  93%|█████████▎| 238/255 [01:22<00:05,  2.89it/s, loss=0.139, v_num=3, train_loss=0.130, train_accuracy=0.944, val_loss=0.216, val_accuracy=0.921]\n",
      "Epoch 64:  94%|█████████▍| 240/255 [01:22<00:05,  2.90it/s, loss=0.139, v_num=3, train_loss=0.130, train_accuracy=0.944, val_loss=0.216, val_accuracy=0.921]\n",
      "Epoch 64:  95%|█████████▍| 242/255 [01:22<00:04,  2.92it/s, loss=0.139, v_num=3, train_loss=0.130, train_accuracy=0.944, val_loss=0.216, val_accuracy=0.921]\n",
      "Epoch 64:  96%|█████████▌| 244/255 [01:22<00:03,  2.94it/s, loss=0.139, v_num=3, train_loss=0.130, train_accuracy=0.944, val_loss=0.216, val_accuracy=0.921]\n",
      "Epoch 64:  96%|█████████▋| 246/255 [01:23<00:03,  2.96it/s, loss=0.139, v_num=3, train_loss=0.130, train_accuracy=0.944, val_loss=0.216, val_accuracy=0.921]\n",
      "Epoch 64:  97%|█████████▋| 248/255 [01:23<00:02,  2.98it/s, loss=0.139, v_num=3, train_loss=0.130, train_accuracy=0.944, val_loss=0.216, val_accuracy=0.921]\n",
      "Epoch 64:  98%|█████████▊| 250/255 [01:23<00:01,  3.00it/s, loss=0.139, v_num=3, train_loss=0.130, train_accuracy=0.944, val_loss=0.216, val_accuracy=0.921]\n",
      "Epoch 64:  99%|█████████▉| 252/255 [01:23<00:00,  3.02it/s, loss=0.139, v_num=3, train_loss=0.130, train_accuracy=0.944, val_loss=0.216, val_accuracy=0.921]\n",
      "Epoch 64: 100%|█████████▉| 254/255 [01:23<00:00,  3.04it/s, loss=0.139, v_num=3, train_loss=0.130, train_accuracy=0.944, val_loss=0.216, val_accuracy=0.921]\n",
      "Epoch 64: 100%|██████████| 255/255 [01:24<00:00,  3.02it/s, loss=0.139, v_num=3, train_loss=0.130, train_accuracy=0.944, val_loss=0.196, val_accuracy=0.917]\n",
      "Epoch 64: 100%|██████████| 255/255 [01:24<00:00,  3.02it/s, loss=0.139, v_num=3, train_loss=0.130, train_accuracy=0.944, val_loss=0.196, val_accuracy=0.917]"
     ]
    },
    {
     "name": "stderr",
     "output_type": "stream",
     "text": [
      "Epoch 64, global step 14689: val_loss was not in top 2\n"
     ]
    },
    {
     "name": "stdout",
     "output_type": "stream",
     "text": [
      "Epoch 65:  89%|████████▊ | 226/255 [01:18<00:10,  2.89it/s, loss=0.137, v_num=3, train_loss=0.0275, train_accuracy=1.000, val_loss=0.196, val_accuracy=0.917] \n",
      "Validating: 0it [00:00, ?it/s]\u001b[A\n",
      "Validating:   0%|          | 0/29 [00:00<?, ?it/s]\u001b[A\n",
      "Epoch 65:  89%|████████▉ | 228/255 [01:21<00:09,  2.79it/s, loss=0.137, v_num=3, train_loss=0.0275, train_accuracy=1.000, val_loss=0.196, val_accuracy=0.917]\n",
      "Epoch 65:  90%|█████████ | 230/255 [01:21<00:08,  2.80it/s, loss=0.137, v_num=3, train_loss=0.0275, train_accuracy=1.000, val_loss=0.196, val_accuracy=0.917]\n",
      "Epoch 65:  91%|█████████ | 232/255 [01:22<00:08,  2.82it/s, loss=0.137, v_num=3, train_loss=0.0275, train_accuracy=1.000, val_loss=0.196, val_accuracy=0.917]\n",
      "Epoch 65:  92%|█████████▏| 234/255 [01:22<00:07,  2.84it/s, loss=0.137, v_num=3, train_loss=0.0275, train_accuracy=1.000, val_loss=0.196, val_accuracy=0.917]\n",
      "Epoch 65:  93%|█████████▎| 236/255 [01:22<00:06,  2.86it/s, loss=0.137, v_num=3, train_loss=0.0275, train_accuracy=1.000, val_loss=0.196, val_accuracy=0.917]\n",
      "Epoch 65:  93%|█████████▎| 238/255 [01:22<00:05,  2.88it/s, loss=0.137, v_num=3, train_loss=0.0275, train_accuracy=1.000, val_loss=0.196, val_accuracy=0.917]\n",
      "Epoch 65:  94%|█████████▍| 240/255 [01:22<00:05,  2.90it/s, loss=0.137, v_num=3, train_loss=0.0275, train_accuracy=1.000, val_loss=0.196, val_accuracy=0.917]\n",
      "Epoch 65:  95%|█████████▍| 242/255 [01:22<00:04,  2.92it/s, loss=0.137, v_num=3, train_loss=0.0275, train_accuracy=1.000, val_loss=0.196, val_accuracy=0.917]\n",
      "Epoch 65:  96%|█████████▌| 244/255 [01:23<00:03,  2.94it/s, loss=0.137, v_num=3, train_loss=0.0275, train_accuracy=1.000, val_loss=0.196, val_accuracy=0.917]\n",
      "Epoch 65:  96%|█████████▋| 246/255 [01:23<00:03,  2.96it/s, loss=0.137, v_num=3, train_loss=0.0275, train_accuracy=1.000, val_loss=0.196, val_accuracy=0.917]\n",
      "Epoch 65:  97%|█████████▋| 248/255 [01:23<00:02,  2.98it/s, loss=0.137, v_num=3, train_loss=0.0275, train_accuracy=1.000, val_loss=0.196, val_accuracy=0.917]\n",
      "Epoch 65:  98%|█████████▊| 250/255 [01:23<00:01,  2.99it/s, loss=0.137, v_num=3, train_loss=0.0275, train_accuracy=1.000, val_loss=0.196, val_accuracy=0.917]\n",
      "Epoch 65:  99%|█████████▉| 252/255 [01:23<00:00,  3.01it/s, loss=0.137, v_num=3, train_loss=0.0275, train_accuracy=1.000, val_loss=0.196, val_accuracy=0.917]\n",
      "Epoch 65: 100%|█████████▉| 254/255 [01:23<00:00,  3.03it/s, loss=0.137, v_num=3, train_loss=0.0275, train_accuracy=1.000, val_loss=0.196, val_accuracy=0.917]\n",
      "Epoch 65: 100%|██████████| 255/255 [01:24<00:00,  3.02it/s, loss=0.137, v_num=3, train_loss=0.0275, train_accuracy=1.000, val_loss=0.200, val_accuracy=0.925]\n",
      "Epoch 65: 100%|██████████| 255/255 [01:24<00:00,  3.02it/s, loss=0.137, v_num=3, train_loss=0.0275, train_accuracy=1.000, val_loss=0.200, val_accuracy=0.925]"
     ]
    },
    {
     "name": "stderr",
     "output_type": "stream",
     "text": [
      "Epoch 65, global step 14915: val_loss was not in top 2\n"
     ]
    },
    {
     "name": "stdout",
     "output_type": "stream",
     "text": [
      "Epoch 66:  89%|████████▊ | 226/255 [01:17<00:10,  2.90it/s, loss=0.146, v_num=3, train_loss=0.134, train_accuracy=0.833, val_loss=0.200, val_accuracy=0.925] \n",
      "Validating: 0it [00:00, ?it/s]\u001b[A\n",
      "Validating:   0%|          | 0/29 [00:00<?, ?it/s]\u001b[A\n",
      "Epoch 66:  89%|████████▉ | 228/255 [01:21<00:09,  2.79it/s, loss=0.146, v_num=3, train_loss=0.134, train_accuracy=0.833, val_loss=0.200, val_accuracy=0.925]\n",
      "Epoch 66:  90%|█████████ | 230/255 [01:21<00:08,  2.81it/s, loss=0.146, v_num=3, train_loss=0.134, train_accuracy=0.833, val_loss=0.200, val_accuracy=0.925]\n",
      "Epoch 66:  91%|█████████ | 232/255 [01:21<00:08,  2.83it/s, loss=0.146, v_num=3, train_loss=0.134, train_accuracy=0.833, val_loss=0.200, val_accuracy=0.925]\n",
      "Epoch 66:  92%|█████████▏| 234/255 [01:22<00:07,  2.85it/s, loss=0.146, v_num=3, train_loss=0.134, train_accuracy=0.833, val_loss=0.200, val_accuracy=0.925]\n",
      "Epoch 66:  93%|█████████▎| 236/255 [01:22<00:06,  2.87it/s, loss=0.146, v_num=3, train_loss=0.134, train_accuracy=0.833, val_loss=0.200, val_accuracy=0.925]\n",
      "Epoch 66:  93%|█████████▎| 238/255 [01:22<00:05,  2.89it/s, loss=0.146, v_num=3, train_loss=0.134, train_accuracy=0.833, val_loss=0.200, val_accuracy=0.925]\n",
      "Epoch 66:  94%|█████████▍| 240/255 [01:22<00:05,  2.91it/s, loss=0.146, v_num=3, train_loss=0.134, train_accuracy=0.833, val_loss=0.200, val_accuracy=0.925]\n",
      "Epoch 66:  95%|█████████▍| 242/255 [01:22<00:04,  2.93it/s, loss=0.146, v_num=3, train_loss=0.134, train_accuracy=0.833, val_loss=0.200, val_accuracy=0.925]\n",
      "Epoch 66:  96%|█████████▌| 244/255 [01:22<00:03,  2.94it/s, loss=0.146, v_num=3, train_loss=0.134, train_accuracy=0.833, val_loss=0.200, val_accuracy=0.925]\n",
      "Epoch 66:  96%|█████████▋| 246/255 [01:23<00:03,  2.96it/s, loss=0.146, v_num=3, train_loss=0.134, train_accuracy=0.833, val_loss=0.200, val_accuracy=0.925]\n",
      "Epoch 66:  97%|█████████▋| 248/255 [01:23<00:02,  2.98it/s, loss=0.146, v_num=3, train_loss=0.134, train_accuracy=0.833, val_loss=0.200, val_accuracy=0.925]\n",
      "Epoch 66:  98%|█████████▊| 250/255 [01:23<00:01,  3.00it/s, loss=0.146, v_num=3, train_loss=0.134, train_accuracy=0.833, val_loss=0.200, val_accuracy=0.925]\n",
      "Epoch 66:  99%|█████████▉| 252/255 [01:23<00:00,  3.02it/s, loss=0.146, v_num=3, train_loss=0.134, train_accuracy=0.833, val_loss=0.200, val_accuracy=0.925]\n",
      "Epoch 66: 100%|█████████▉| 254/255 [01:23<00:00,  3.04it/s, loss=0.146, v_num=3, train_loss=0.134, train_accuracy=0.833, val_loss=0.200, val_accuracy=0.925]\n",
      "Epoch 66: 100%|██████████| 255/255 [01:24<00:00,  3.02it/s, loss=0.146, v_num=3, train_loss=0.134, train_accuracy=0.833, val_loss=0.183, val_accuracy=0.923]\n",
      "Epoch 66: 100%|██████████| 255/255 [01:24<00:00,  3.02it/s, loss=0.146, v_num=3, train_loss=0.134, train_accuracy=0.833, val_loss=0.183, val_accuracy=0.923]"
     ]
    },
    {
     "name": "stderr",
     "output_type": "stream",
     "text": [
      "Epoch 66, global step 15141: val_loss reached 0.18342 (best 0.18279), saving model to \"/Workspace/code/checkpoints/best-checkpoint-corr-mi-18-v7.ckpt\" as top 2\n"
     ]
    },
    {
     "name": "stdout",
     "output_type": "stream",
     "text": [
      "Epoch 67:  89%|████████▊ | 226/255 [01:18<00:10,  2.89it/s, loss=0.135, v_num=3, train_loss=0.431, train_accuracy=0.778, val_loss=0.183, val_accuracy=0.923] \n",
      "Validating: 0it [00:00, ?it/s]\u001b[A\n",
      "Validating:   0%|          | 0/29 [00:00<?, ?it/s]\u001b[A\n",
      "Epoch 67:  89%|████████▉ | 228/255 [01:21<00:09,  2.78it/s, loss=0.135, v_num=3, train_loss=0.431, train_accuracy=0.778, val_loss=0.183, val_accuracy=0.923]\n",
      "Epoch 67:  90%|█████████ | 230/255 [01:22<00:08,  2.80it/s, loss=0.135, v_num=3, train_loss=0.431, train_accuracy=0.778, val_loss=0.183, val_accuracy=0.923]\n",
      "Epoch 67:  91%|█████████ | 232/255 [01:22<00:08,  2.82it/s, loss=0.135, v_num=3, train_loss=0.431, train_accuracy=0.778, val_loss=0.183, val_accuracy=0.923]\n",
      "Epoch 67:  92%|█████████▏| 234/255 [01:22<00:07,  2.84it/s, loss=0.135, v_num=3, train_loss=0.431, train_accuracy=0.778, val_loss=0.183, val_accuracy=0.923]\n",
      "Epoch 67:  93%|█████████▎| 236/255 [01:22<00:06,  2.86it/s, loss=0.135, v_num=3, train_loss=0.431, train_accuracy=0.778, val_loss=0.183, val_accuracy=0.923]\n",
      "Epoch 67:  93%|█████████▎| 238/255 [01:22<00:05,  2.88it/s, loss=0.135, v_num=3, train_loss=0.431, train_accuracy=0.778, val_loss=0.183, val_accuracy=0.923]\n",
      "Epoch 67:  94%|█████████▍| 240/255 [01:22<00:05,  2.90it/s, loss=0.135, v_num=3, train_loss=0.431, train_accuracy=0.778, val_loss=0.183, val_accuracy=0.923]\n",
      "Epoch 67:  95%|█████████▍| 242/255 [01:22<00:04,  2.92it/s, loss=0.135, v_num=3, train_loss=0.431, train_accuracy=0.778, val_loss=0.183, val_accuracy=0.923]\n",
      "Epoch 67:  96%|█████████▌| 244/255 [01:23<00:03,  2.94it/s, loss=0.135, v_num=3, train_loss=0.431, train_accuracy=0.778, val_loss=0.183, val_accuracy=0.923]\n",
      "Epoch 67:  96%|█████████▋| 246/255 [01:23<00:03,  2.95it/s, loss=0.135, v_num=3, train_loss=0.431, train_accuracy=0.778, val_loss=0.183, val_accuracy=0.923]\n",
      "Epoch 67:  97%|█████████▋| 248/255 [01:23<00:02,  2.97it/s, loss=0.135, v_num=3, train_loss=0.431, train_accuracy=0.778, val_loss=0.183, val_accuracy=0.923]\n",
      "Epoch 67:  98%|█████████▊| 250/255 [01:23<00:01,  2.99it/s, loss=0.135, v_num=3, train_loss=0.431, train_accuracy=0.778, val_loss=0.183, val_accuracy=0.923]\n",
      "Epoch 67:  99%|█████████▉| 252/255 [01:23<00:00,  3.01it/s, loss=0.135, v_num=3, train_loss=0.431, train_accuracy=0.778, val_loss=0.183, val_accuracy=0.923]\n",
      "Epoch 67: 100%|█████████▉| 254/255 [01:23<00:00,  3.03it/s, loss=0.135, v_num=3, train_loss=0.431, train_accuracy=0.778, val_loss=0.183, val_accuracy=0.923]\n",
      "Epoch 67: 100%|██████████| 255/255 [01:24<00:00,  3.02it/s, loss=0.135, v_num=3, train_loss=0.431, train_accuracy=0.778, val_loss=0.180, val_accuracy=0.925]\n",
      "Epoch 67: 100%|██████████| 255/255 [01:24<00:00,  3.02it/s, loss=0.135, v_num=3, train_loss=0.431, train_accuracy=0.778, val_loss=0.180, val_accuracy=0.925]"
     ]
    },
    {
     "name": "stderr",
     "output_type": "stream",
     "text": [
      "Epoch 67, global step 15367: val_loss reached 0.18049 (best 0.18049), saving model to \"/Workspace/code/checkpoints/best-checkpoint-corr-mi-18-v7.ckpt\" as top 2\n"
     ]
    },
    {
     "name": "stdout",
     "output_type": "stream",
     "text": [
      "Epoch 68:  89%|████████▊ | 226/255 [01:17<00:10,  2.90it/s, loss=0.118, v_num=3, train_loss=0.188, train_accuracy=0.889, val_loss=0.180, val_accuracy=0.925]  \n",
      "Validating: 0it [00:00, ?it/s]\u001b[A\n",
      "Validating:   0%|          | 0/29 [00:00<?, ?it/s]\u001b[A\n",
      "Epoch 68:  89%|████████▉ | 228/255 [01:21<00:09,  2.79it/s, loss=0.118, v_num=3, train_loss=0.188, train_accuracy=0.889, val_loss=0.180, val_accuracy=0.925]\n",
      "Epoch 68:  90%|█████████ | 230/255 [01:21<00:08,  2.81it/s, loss=0.118, v_num=3, train_loss=0.188, train_accuracy=0.889, val_loss=0.180, val_accuracy=0.925]\n",
      "Epoch 68:  91%|█████████ | 232/255 [01:21<00:08,  2.83it/s, loss=0.118, v_num=3, train_loss=0.188, train_accuracy=0.889, val_loss=0.180, val_accuracy=0.925]\n",
      "Epoch 68:  92%|█████████▏| 234/255 [01:22<00:07,  2.85it/s, loss=0.118, v_num=3, train_loss=0.188, train_accuracy=0.889, val_loss=0.180, val_accuracy=0.925]\n",
      "Epoch 68:  93%|█████████▎| 236/255 [01:22<00:06,  2.87it/s, loss=0.118, v_num=3, train_loss=0.188, train_accuracy=0.889, val_loss=0.180, val_accuracy=0.925]\n",
      "Epoch 68:  93%|█████████▎| 238/255 [01:22<00:05,  2.89it/s, loss=0.118, v_num=3, train_loss=0.188, train_accuracy=0.889, val_loss=0.180, val_accuracy=0.925]\n",
      "Epoch 68:  94%|█████████▍| 240/255 [01:22<00:05,  2.91it/s, loss=0.118, v_num=3, train_loss=0.188, train_accuracy=0.889, val_loss=0.180, val_accuracy=0.925]\n",
      "Epoch 68:  95%|█████████▍| 242/255 [01:22<00:04,  2.92it/s, loss=0.118, v_num=3, train_loss=0.188, train_accuracy=0.889, val_loss=0.180, val_accuracy=0.925]\n",
      "Epoch 68:  96%|█████████▌| 244/255 [01:22<00:03,  2.94it/s, loss=0.118, v_num=3, train_loss=0.188, train_accuracy=0.889, val_loss=0.180, val_accuracy=0.925]\n",
      "Epoch 68:  96%|█████████▋| 246/255 [01:23<00:03,  2.96it/s, loss=0.118, v_num=3, train_loss=0.188, train_accuracy=0.889, val_loss=0.180, val_accuracy=0.925]\n",
      "Epoch 68:  97%|█████████▋| 248/255 [01:23<00:02,  2.98it/s, loss=0.118, v_num=3, train_loss=0.188, train_accuracy=0.889, val_loss=0.180, val_accuracy=0.925]\n",
      "Epoch 68:  98%|█████████▊| 250/255 [01:23<00:01,  3.00it/s, loss=0.118, v_num=3, train_loss=0.188, train_accuracy=0.889, val_loss=0.180, val_accuracy=0.925]\n",
      "Epoch 68:  99%|█████████▉| 252/255 [01:23<00:00,  3.02it/s, loss=0.118, v_num=3, train_loss=0.188, train_accuracy=0.889, val_loss=0.180, val_accuracy=0.925]\n",
      "Epoch 68: 100%|█████████▉| 254/255 [01:23<00:00,  3.04it/s, loss=0.118, v_num=3, train_loss=0.188, train_accuracy=0.889, val_loss=0.180, val_accuracy=0.925]\n",
      "Epoch 68: 100%|██████████| 255/255 [01:24<00:00,  3.02it/s, loss=0.118, v_num=3, train_loss=0.188, train_accuracy=0.889, val_loss=0.180, val_accuracy=0.925]\n",
      "Epoch 68: 100%|██████████| 255/255 [01:24<00:00,  3.02it/s, loss=0.118, v_num=3, train_loss=0.188, train_accuracy=0.889, val_loss=0.180, val_accuracy=0.925]"
     ]
    },
    {
     "name": "stderr",
     "output_type": "stream",
     "text": [
      "Epoch 68, global step 15593: val_loss reached 0.17997 (best 0.17997), saving model to \"/Workspace/code/checkpoints/best-checkpoint-corr-mi-18-v6.ckpt\" as top 2\n"
     ]
    },
    {
     "name": "stdout",
     "output_type": "stream",
     "text": [
      "Epoch 69:  89%|████████▊ | 226/255 [01:18<00:10,  2.90it/s, loss=0.13, v_num=3, train_loss=0.133, train_accuracy=0.944, val_loss=0.180, val_accuracy=0.925]  \n",
      "Validating: 0it [00:00, ?it/s]\u001b[A\n",
      "Validating:   0%|          | 0/29 [00:00<?, ?it/s]\u001b[A\n",
      "Epoch 69:  89%|████████▉ | 228/255 [01:21<00:09,  2.79it/s, loss=0.13, v_num=3, train_loss=0.133, train_accuracy=0.944, val_loss=0.180, val_accuracy=0.925]\n",
      "Epoch 69:  90%|█████████ | 230/255 [01:21<00:08,  2.81it/s, loss=0.13, v_num=3, train_loss=0.133, train_accuracy=0.944, val_loss=0.180, val_accuracy=0.925]\n",
      "Epoch 69:  91%|█████████ | 232/255 [01:22<00:08,  2.83it/s, loss=0.13, v_num=3, train_loss=0.133, train_accuracy=0.944, val_loss=0.180, val_accuracy=0.925]\n",
      "Epoch 69:  92%|█████████▏| 234/255 [01:22<00:07,  2.85it/s, loss=0.13, v_num=3, train_loss=0.133, train_accuracy=0.944, val_loss=0.180, val_accuracy=0.925]\n",
      "Epoch 69:  93%|█████████▎| 236/255 [01:22<00:06,  2.87it/s, loss=0.13, v_num=3, train_loss=0.133, train_accuracy=0.944, val_loss=0.180, val_accuracy=0.925]\n",
      "Epoch 69:  93%|█████████▎| 238/255 [01:22<00:05,  2.89it/s, loss=0.13, v_num=3, train_loss=0.133, train_accuracy=0.944, val_loss=0.180, val_accuracy=0.925]\n",
      "Epoch 69:  94%|█████████▍| 240/255 [01:22<00:05,  2.91it/s, loss=0.13, v_num=3, train_loss=0.133, train_accuracy=0.944, val_loss=0.180, val_accuracy=0.925]\n",
      "Epoch 69:  95%|█████████▍| 242/255 [01:22<00:04,  2.93it/s, loss=0.13, v_num=3, train_loss=0.133, train_accuracy=0.944, val_loss=0.180, val_accuracy=0.925]\n",
      "Epoch 69:  96%|█████████▌| 244/255 [01:22<00:03,  2.94it/s, loss=0.13, v_num=3, train_loss=0.133, train_accuracy=0.944, val_loss=0.180, val_accuracy=0.925]\n",
      "Epoch 69:  96%|█████████▋| 246/255 [01:23<00:03,  2.96it/s, loss=0.13, v_num=3, train_loss=0.133, train_accuracy=0.944, val_loss=0.180, val_accuracy=0.925]\n",
      "Epoch 69:  97%|█████████▋| 248/255 [01:23<00:02,  2.98it/s, loss=0.13, v_num=3, train_loss=0.133, train_accuracy=0.944, val_loss=0.180, val_accuracy=0.925]\n",
      "Epoch 69:  98%|█████████▊| 250/255 [01:23<00:01,  3.00it/s, loss=0.13, v_num=3, train_loss=0.133, train_accuracy=0.944, val_loss=0.180, val_accuracy=0.925]\n",
      "Epoch 69:  99%|█████████▉| 252/255 [01:23<00:00,  3.02it/s, loss=0.13, v_num=3, train_loss=0.133, train_accuracy=0.944, val_loss=0.180, val_accuracy=0.925]\n",
      "Epoch 69: 100%|█████████▉| 254/255 [01:23<00:00,  3.04it/s, loss=0.13, v_num=3, train_loss=0.133, train_accuracy=0.944, val_loss=0.180, val_accuracy=0.925]\n",
      "Epoch 69: 100%|██████████| 255/255 [01:24<00:00,  3.03it/s, loss=0.13, v_num=3, train_loss=0.133, train_accuracy=0.944, val_loss=0.169, val_accuracy=0.928]\n",
      "Epoch 69: 100%|██████████| 255/255 [01:24<00:00,  3.03it/s, loss=0.13, v_num=3, train_loss=0.133, train_accuracy=0.944, val_loss=0.169, val_accuracy=0.928]"
     ]
    },
    {
     "name": "stderr",
     "output_type": "stream",
     "text": [
      "Epoch 69, global step 15819: val_loss reached 0.16945 (best 0.16945), saving model to \"/Workspace/code/checkpoints/best-checkpoint-corr-mi-18-v7.ckpt\" as top 2\n"
     ]
    },
    {
     "name": "stdout",
     "output_type": "stream",
     "text": [
      "Epoch 70:  89%|████████▊ | 226/255 [01:18<00:10,  2.90it/s, loss=0.0987, v_num=3, train_loss=0.143, train_accuracy=0.944, val_loss=0.169, val_accuracy=0.928] \n",
      "Validating: 0it [00:00, ?it/s]\u001b[A\n",
      "Validating:   0%|          | 0/29 [00:00<?, ?it/s]\u001b[A\n",
      "Epoch 70:  89%|████████▉ | 228/255 [01:21<00:09,  2.79it/s, loss=0.0987, v_num=3, train_loss=0.143, train_accuracy=0.944, val_loss=0.169, val_accuracy=0.928]\n",
      "Epoch 70:  90%|█████████ | 230/255 [01:21<00:08,  2.81it/s, loss=0.0987, v_num=3, train_loss=0.143, train_accuracy=0.944, val_loss=0.169, val_accuracy=0.928]\n",
      "Epoch 70:  91%|█████████ | 232/255 [01:22<00:08,  2.83it/s, loss=0.0987, v_num=3, train_loss=0.143, train_accuracy=0.944, val_loss=0.169, val_accuracy=0.928]\n",
      "Epoch 70:  92%|█████████▏| 234/255 [01:22<00:07,  2.85it/s, loss=0.0987, v_num=3, train_loss=0.143, train_accuracy=0.944, val_loss=0.169, val_accuracy=0.928]\n",
      "Epoch 70:  93%|█████████▎| 236/255 [01:22<00:06,  2.87it/s, loss=0.0987, v_num=3, train_loss=0.143, train_accuracy=0.944, val_loss=0.169, val_accuracy=0.928]\n",
      "Epoch 70:  93%|█████████▎| 238/255 [01:22<00:05,  2.89it/s, loss=0.0987, v_num=3, train_loss=0.143, train_accuracy=0.944, val_loss=0.169, val_accuracy=0.928]\n",
      "Epoch 70:  94%|█████████▍| 240/255 [01:22<00:05,  2.90it/s, loss=0.0987, v_num=3, train_loss=0.143, train_accuracy=0.944, val_loss=0.169, val_accuracy=0.928]\n",
      "Epoch 70:  95%|█████████▍| 242/255 [01:22<00:04,  2.92it/s, loss=0.0987, v_num=3, train_loss=0.143, train_accuracy=0.944, val_loss=0.169, val_accuracy=0.928]\n",
      "Epoch 70:  96%|█████████▌| 244/255 [01:22<00:03,  2.94it/s, loss=0.0987, v_num=3, train_loss=0.143, train_accuracy=0.944, val_loss=0.169, val_accuracy=0.928]\n",
      "Epoch 70:  96%|█████████▋| 246/255 [01:23<00:03,  2.96it/s, loss=0.0987, v_num=3, train_loss=0.143, train_accuracy=0.944, val_loss=0.169, val_accuracy=0.928]\n",
      "Epoch 70:  97%|█████████▋| 248/255 [01:23<00:02,  2.98it/s, loss=0.0987, v_num=3, train_loss=0.143, train_accuracy=0.944, val_loss=0.169, val_accuracy=0.928]\n",
      "Epoch 70:  98%|█████████▊| 250/255 [01:23<00:01,  3.00it/s, loss=0.0987, v_num=3, train_loss=0.143, train_accuracy=0.944, val_loss=0.169, val_accuracy=0.928]\n",
      "Epoch 70:  99%|█████████▉| 252/255 [01:23<00:00,  3.02it/s, loss=0.0987, v_num=3, train_loss=0.143, train_accuracy=0.944, val_loss=0.169, val_accuracy=0.928]\n",
      "Epoch 70: 100%|█████████▉| 254/255 [01:23<00:00,  3.04it/s, loss=0.0987, v_num=3, train_loss=0.143, train_accuracy=0.944, val_loss=0.169, val_accuracy=0.928]\n",
      "Epoch 70: 100%|██████████| 255/255 [01:24<00:00,  3.02it/s, loss=0.0987, v_num=3, train_loss=0.143, train_accuracy=0.944, val_loss=0.163, val_accuracy=0.928]\n",
      "Epoch 70: 100%|██████████| 255/255 [01:24<00:00,  3.02it/s, loss=0.0987, v_num=3, train_loss=0.143, train_accuracy=0.944, val_loss=0.163, val_accuracy=0.928]"
     ]
    },
    {
     "name": "stderr",
     "output_type": "stream",
     "text": [
      "Epoch 70, global step 16045: val_loss reached 0.16260 (best 0.16260), saving model to \"/Workspace/code/checkpoints/best-checkpoint-corr-mi-18-v6.ckpt\" as top 2\n"
     ]
    },
    {
     "name": "stdout",
     "output_type": "stream",
     "text": [
      "Epoch 71:  89%|████████▊ | 226/255 [01:17<00:09,  2.92it/s, loss=0.127, v_num=3, train_loss=0.251, train_accuracy=0.889, val_loss=0.163, val_accuracy=0.928]   \n",
      "Validating: 0it [00:00, ?it/s]\u001b[A\n",
      "Validating:   0%|          | 0/29 [00:00<?, ?it/s]\u001b[A\n",
      "Epoch 71:  89%|████████▉ | 228/255 [01:21<00:09,  2.81it/s, loss=0.127, v_num=3, train_loss=0.251, train_accuracy=0.889, val_loss=0.163, val_accuracy=0.928]\n",
      "Epoch 71:  90%|█████████ | 230/255 [01:21<00:08,  2.83it/s, loss=0.127, v_num=3, train_loss=0.251, train_accuracy=0.889, val_loss=0.163, val_accuracy=0.928]\n",
      "Epoch 71:  91%|█████████ | 232/255 [01:21<00:08,  2.85it/s, loss=0.127, v_num=3, train_loss=0.251, train_accuracy=0.889, val_loss=0.163, val_accuracy=0.928]\n",
      "Epoch 71:  92%|█████████▏| 234/255 [01:21<00:07,  2.87it/s, loss=0.127, v_num=3, train_loss=0.251, train_accuracy=0.889, val_loss=0.163, val_accuracy=0.928]\n",
      "Epoch 71:  93%|█████████▎| 236/255 [01:21<00:06,  2.89it/s, loss=0.127, v_num=3, train_loss=0.251, train_accuracy=0.889, val_loss=0.163, val_accuracy=0.928]\n",
      "Epoch 71:  93%|█████████▎| 238/255 [01:21<00:05,  2.91it/s, loss=0.127, v_num=3, train_loss=0.251, train_accuracy=0.889, val_loss=0.163, val_accuracy=0.928]\n",
      "Epoch 71:  94%|█████████▍| 240/255 [01:21<00:05,  2.93it/s, loss=0.127, v_num=3, train_loss=0.251, train_accuracy=0.889, val_loss=0.163, val_accuracy=0.928]\n",
      "Epoch 71:  95%|█████████▍| 242/255 [01:22<00:04,  2.95it/s, loss=0.127, v_num=3, train_loss=0.251, train_accuracy=0.889, val_loss=0.163, val_accuracy=0.928]\n",
      "Epoch 71:  96%|█████████▌| 244/255 [01:22<00:03,  2.97it/s, loss=0.127, v_num=3, train_loss=0.251, train_accuracy=0.889, val_loss=0.163, val_accuracy=0.928]\n",
      "Epoch 71:  96%|█████████▋| 246/255 [01:22<00:03,  2.99it/s, loss=0.127, v_num=3, train_loss=0.251, train_accuracy=0.889, val_loss=0.163, val_accuracy=0.928]\n",
      "Epoch 71:  97%|█████████▋| 248/255 [01:22<00:02,  3.00it/s, loss=0.127, v_num=3, train_loss=0.251, train_accuracy=0.889, val_loss=0.163, val_accuracy=0.928]\n",
      "Epoch 71:  98%|█████████▊| 250/255 [01:22<00:01,  3.02it/s, loss=0.127, v_num=3, train_loss=0.251, train_accuracy=0.889, val_loss=0.163, val_accuracy=0.928]\n",
      "Epoch 71:  99%|█████████▉| 252/255 [01:22<00:00,  3.04it/s, loss=0.127, v_num=3, train_loss=0.251, train_accuracy=0.889, val_loss=0.163, val_accuracy=0.928]\n",
      "Epoch 71: 100%|█████████▉| 254/255 [01:23<00:00,  3.06it/s, loss=0.127, v_num=3, train_loss=0.251, train_accuracy=0.889, val_loss=0.163, val_accuracy=0.928]\n",
      "Epoch 71: 100%|██████████| 255/255 [01:23<00:00,  3.04it/s, loss=0.127, v_num=3, train_loss=0.251, train_accuracy=0.889, val_loss=0.170, val_accuracy=0.932]\n",
      "Epoch 71: 100%|██████████| 255/255 [01:23<00:00,  3.04it/s, loss=0.127, v_num=3, train_loss=0.251, train_accuracy=0.889, val_loss=0.170, val_accuracy=0.932]"
     ]
    },
    {
     "name": "stderr",
     "output_type": "stream",
     "text": [
      "Epoch 71, global step 16271: val_loss was not in top 2\n"
     ]
    },
    {
     "name": "stdout",
     "output_type": "stream",
     "text": [
      "Epoch 72:  89%|████████▊ | 226/255 [01:17<00:09,  2.91it/s, loss=0.178, v_num=3, train_loss=0.295, train_accuracy=0.889, val_loss=0.170, val_accuracy=0.932]  \n",
      "Validating: 0it [00:00, ?it/s]\u001b[A\n",
      "Validating:   0%|          | 0/29 [00:00<?, ?it/s]\u001b[A\n",
      "Epoch 72:  89%|████████▉ | 228/255 [01:21<00:09,  2.80it/s, loss=0.178, v_num=3, train_loss=0.295, train_accuracy=0.889, val_loss=0.170, val_accuracy=0.932]\n",
      "Epoch 72:  90%|█████████ | 230/255 [01:21<00:08,  2.82it/s, loss=0.178, v_num=3, train_loss=0.295, train_accuracy=0.889, val_loss=0.170, val_accuracy=0.932]\n",
      "Epoch 72:  91%|█████████ | 232/255 [01:21<00:08,  2.84it/s, loss=0.178, v_num=3, train_loss=0.295, train_accuracy=0.889, val_loss=0.170, val_accuracy=0.932]\n",
      "Epoch 72:  92%|█████████▏| 234/255 [01:21<00:07,  2.86it/s, loss=0.178, v_num=3, train_loss=0.295, train_accuracy=0.889, val_loss=0.170, val_accuracy=0.932]\n",
      "Epoch 72:  93%|█████████▎| 236/255 [01:22<00:06,  2.88it/s, loss=0.178, v_num=3, train_loss=0.295, train_accuracy=0.889, val_loss=0.170, val_accuracy=0.932]\n",
      "Epoch 72:  93%|█████████▎| 238/255 [01:22<00:05,  2.89it/s, loss=0.178, v_num=3, train_loss=0.295, train_accuracy=0.889, val_loss=0.170, val_accuracy=0.932]\n",
      "Epoch 72:  94%|█████████▍| 240/255 [01:22<00:05,  2.91it/s, loss=0.178, v_num=3, train_loss=0.295, train_accuracy=0.889, val_loss=0.170, val_accuracy=0.932]\n",
      "Epoch 72:  95%|█████████▍| 242/255 [01:22<00:04,  2.93it/s, loss=0.178, v_num=3, train_loss=0.295, train_accuracy=0.889, val_loss=0.170, val_accuracy=0.932]\n",
      "Epoch 72:  96%|█████████▌| 244/255 [01:22<00:03,  2.95it/s, loss=0.178, v_num=3, train_loss=0.295, train_accuracy=0.889, val_loss=0.170, val_accuracy=0.932]\n",
      "Epoch 72:  96%|█████████▋| 246/255 [01:22<00:03,  2.97it/s, loss=0.178, v_num=3, train_loss=0.295, train_accuracy=0.889, val_loss=0.170, val_accuracy=0.932]\n",
      "Epoch 72:  97%|█████████▋| 248/255 [01:22<00:02,  2.99it/s, loss=0.178, v_num=3, train_loss=0.295, train_accuracy=0.889, val_loss=0.170, val_accuracy=0.932]\n",
      "Epoch 72:  98%|█████████▊| 250/255 [01:23<00:01,  3.01it/s, loss=0.178, v_num=3, train_loss=0.295, train_accuracy=0.889, val_loss=0.170, val_accuracy=0.932]\n",
      "Epoch 72:  99%|█████████▉| 252/255 [01:23<00:00,  3.03it/s, loss=0.178, v_num=3, train_loss=0.295, train_accuracy=0.889, val_loss=0.170, val_accuracy=0.932]\n",
      "Epoch 72: 100%|█████████▉| 254/255 [01:23<00:00,  3.05it/s, loss=0.178, v_num=3, train_loss=0.295, train_accuracy=0.889, val_loss=0.170, val_accuracy=0.932]\n",
      "Epoch 72: 100%|██████████| 255/255 [01:24<00:00,  3.03it/s, loss=0.178, v_num=3, train_loss=0.295, train_accuracy=0.889, val_loss=0.266, val_accuracy=0.900]\n",
      "Epoch 72: 100%|██████████| 255/255 [01:24<00:00,  3.03it/s, loss=0.178, v_num=3, train_loss=0.295, train_accuracy=0.889, val_loss=0.266, val_accuracy=0.900]"
     ]
    },
    {
     "name": "stderr",
     "output_type": "stream",
     "text": [
      "Epoch 72, global step 16497: val_loss was not in top 2\n"
     ]
    },
    {
     "name": "stdout",
     "output_type": "stream",
     "text": [
      "Epoch 73:  89%|████████▊ | 226/255 [01:18<00:10,  2.89it/s, loss=0.0872, v_num=3, train_loss=0.0395, train_accuracy=1.000, val_loss=0.266, val_accuracy=0.900]\n",
      "Validating: 0it [00:00, ?it/s]\u001b[A\n",
      "Validating:   0%|          | 0/29 [00:00<?, ?it/s]\u001b[A\n",
      "Epoch 73:  89%|████████▉ | 228/255 [01:22<00:09,  2.78it/s, loss=0.0872, v_num=3, train_loss=0.0395, train_accuracy=1.000, val_loss=0.266, val_accuracy=0.900]\n",
      "Epoch 73:  90%|█████████ | 230/255 [01:22<00:08,  2.80it/s, loss=0.0872, v_num=3, train_loss=0.0395, train_accuracy=1.000, val_loss=0.266, val_accuracy=0.900]\n",
      "Epoch 73:  91%|█████████ | 232/255 [01:22<00:08,  2.82it/s, loss=0.0872, v_num=3, train_loss=0.0395, train_accuracy=1.000, val_loss=0.266, val_accuracy=0.900]\n",
      "Epoch 73:  92%|█████████▏| 234/255 [01:22<00:07,  2.84it/s, loss=0.0872, v_num=3, train_loss=0.0395, train_accuracy=1.000, val_loss=0.266, val_accuracy=0.900]\n",
      "Epoch 73:  93%|█████████▎| 236/255 [01:22<00:06,  2.85it/s, loss=0.0872, v_num=3, train_loss=0.0395, train_accuracy=1.000, val_loss=0.266, val_accuracy=0.900]\n",
      "Epoch 73:  93%|█████████▎| 238/255 [01:22<00:05,  2.87it/s, loss=0.0872, v_num=3, train_loss=0.0395, train_accuracy=1.000, val_loss=0.266, val_accuracy=0.900]\n",
      "Epoch 73:  94%|█████████▍| 240/255 [01:22<00:05,  2.89it/s, loss=0.0872, v_num=3, train_loss=0.0395, train_accuracy=1.000, val_loss=0.266, val_accuracy=0.900]\n",
      "Epoch 73:  95%|█████████▍| 242/255 [01:23<00:04,  2.91it/s, loss=0.0872, v_num=3, train_loss=0.0395, train_accuracy=1.000, val_loss=0.266, val_accuracy=0.900]\n",
      "Epoch 73:  96%|█████████▌| 244/255 [01:23<00:03,  2.93it/s, loss=0.0872, v_num=3, train_loss=0.0395, train_accuracy=1.000, val_loss=0.266, val_accuracy=0.900]\n",
      "Epoch 73:  96%|█████████▋| 246/255 [01:23<00:03,  2.95it/s, loss=0.0872, v_num=3, train_loss=0.0395, train_accuracy=1.000, val_loss=0.266, val_accuracy=0.900]\n",
      "Epoch 73:  97%|█████████▋| 248/255 [01:23<00:02,  2.97it/s, loss=0.0872, v_num=3, train_loss=0.0395, train_accuracy=1.000, val_loss=0.266, val_accuracy=0.900]\n",
      "Epoch 73:  98%|█████████▊| 250/255 [01:23<00:01,  2.99it/s, loss=0.0872, v_num=3, train_loss=0.0395, train_accuracy=1.000, val_loss=0.266, val_accuracy=0.900]\n",
      "Epoch 73:  99%|█████████▉| 252/255 [01:23<00:00,  3.00it/s, loss=0.0872, v_num=3, train_loss=0.0395, train_accuracy=1.000, val_loss=0.266, val_accuracy=0.900]\n",
      "Epoch 73: 100%|█████████▉| 254/255 [01:24<00:00,  3.02it/s, loss=0.0872, v_num=3, train_loss=0.0395, train_accuracy=1.000, val_loss=0.266, val_accuracy=0.900]\n",
      "Epoch 73: 100%|██████████| 255/255 [01:24<00:00,  3.01it/s, loss=0.0872, v_num=3, train_loss=0.0395, train_accuracy=1.000, val_loss=0.184, val_accuracy=0.934]\n",
      "Epoch 73: 100%|██████████| 255/255 [01:24<00:00,  3.01it/s, loss=0.0872, v_num=3, train_loss=0.0395, train_accuracy=1.000, val_loss=0.184, val_accuracy=0.934]"
     ]
    },
    {
     "name": "stderr",
     "output_type": "stream",
     "text": [
      "Epoch 73, global step 16723: val_loss was not in top 2\n"
     ]
    },
    {
     "name": "stdout",
     "output_type": "stream",
     "text": [
      "Epoch 74:  89%|████████▊ | 226/255 [01:18<00:10,  2.88it/s, loss=0.11, v_num=3, train_loss=0.105, train_accuracy=0.944, val_loss=0.184, val_accuracy=0.934]   \n",
      "Validating: 0it [00:00, ?it/s]\u001b[A\n",
      "Validating:   0%|          | 0/29 [00:00<?, ?it/s]\u001b[A\n",
      "Epoch 74:  89%|████████▉ | 228/255 [01:22<00:09,  2.78it/s, loss=0.11, v_num=3, train_loss=0.105, train_accuracy=0.944, val_loss=0.184, val_accuracy=0.934]\n",
      "Epoch 74:  90%|█████████ | 230/255 [01:22<00:08,  2.80it/s, loss=0.11, v_num=3, train_loss=0.105, train_accuracy=0.944, val_loss=0.184, val_accuracy=0.934]\n",
      "Epoch 74:  91%|█████████ | 232/255 [01:22<00:08,  2.81it/s, loss=0.11, v_num=3, train_loss=0.105, train_accuracy=0.944, val_loss=0.184, val_accuracy=0.934]\n",
      "Epoch 74:  92%|█████████▏| 234/255 [01:22<00:07,  2.83it/s, loss=0.11, v_num=3, train_loss=0.105, train_accuracy=0.944, val_loss=0.184, val_accuracy=0.934]\n",
      "Epoch 74:  93%|█████████▎| 236/255 [01:22<00:06,  2.85it/s, loss=0.11, v_num=3, train_loss=0.105, train_accuracy=0.944, val_loss=0.184, val_accuracy=0.934]\n",
      "Epoch 74:  93%|█████████▎| 238/255 [01:22<00:05,  2.87it/s, loss=0.11, v_num=3, train_loss=0.105, train_accuracy=0.944, val_loss=0.184, val_accuracy=0.934]\n",
      "Epoch 74:  94%|█████████▍| 240/255 [01:23<00:05,  2.89it/s, loss=0.11, v_num=3, train_loss=0.105, train_accuracy=0.944, val_loss=0.184, val_accuracy=0.934]\n",
      "Epoch 74:  95%|█████████▍| 242/255 [01:23<00:04,  2.91it/s, loss=0.11, v_num=3, train_loss=0.105, train_accuracy=0.944, val_loss=0.184, val_accuracy=0.934]\n",
      "Epoch 74:  96%|█████████▌| 244/255 [01:23<00:03,  2.93it/s, loss=0.11, v_num=3, train_loss=0.105, train_accuracy=0.944, val_loss=0.184, val_accuracy=0.934]\n",
      "Epoch 74:  96%|█████████▋| 246/255 [01:23<00:03,  2.95it/s, loss=0.11, v_num=3, train_loss=0.105, train_accuracy=0.944, val_loss=0.184, val_accuracy=0.934]\n",
      "Epoch 74:  97%|█████████▋| 248/255 [01:23<00:02,  2.96it/s, loss=0.11, v_num=3, train_loss=0.105, train_accuracy=0.944, val_loss=0.184, val_accuracy=0.934]\n",
      "Epoch 74:  98%|█████████▊| 250/255 [01:23<00:01,  2.98it/s, loss=0.11, v_num=3, train_loss=0.105, train_accuracy=0.944, val_loss=0.184, val_accuracy=0.934]\n",
      "Epoch 74:  99%|█████████▉| 252/255 [01:23<00:00,  3.00it/s, loss=0.11, v_num=3, train_loss=0.105, train_accuracy=0.944, val_loss=0.184, val_accuracy=0.934]\n",
      "Epoch 74: 100%|█████████▉| 254/255 [01:24<00:00,  3.02it/s, loss=0.11, v_num=3, train_loss=0.105, train_accuracy=0.944, val_loss=0.184, val_accuracy=0.934]\n",
      "Epoch 74: 100%|██████████| 255/255 [01:24<00:00,  3.01it/s, loss=0.11, v_num=3, train_loss=0.105, train_accuracy=0.944, val_loss=0.186, val_accuracy=0.938]\n",
      "Epoch 74: 100%|██████████| 255/255 [01:24<00:00,  3.01it/s, loss=0.11, v_num=3, train_loss=0.105, train_accuracy=0.944, val_loss=0.186, val_accuracy=0.938]"
     ]
    },
    {
     "name": "stderr",
     "output_type": "stream",
     "text": [
      "Epoch 74, global step 16949: val_loss was not in top 2\n"
     ]
    },
    {
     "name": "stdout",
     "output_type": "stream",
     "text": [
      "Epoch 75:  89%|████████▊ | 226/255 [01:18<00:10,  2.89it/s, loss=0.0901, v_num=3, train_loss=0.0212, train_accuracy=1.000, val_loss=0.186, val_accuracy=0.938]\n",
      "Validating: 0it [00:00, ?it/s]\u001b[A\n",
      "Validating:   0%|          | 0/29 [00:00<?, ?it/s]\u001b[A\n",
      "Epoch 75:  89%|████████▉ | 228/255 [01:22<00:09,  2.78it/s, loss=0.0901, v_num=3, train_loss=0.0212, train_accuracy=1.000, val_loss=0.186, val_accuracy=0.938]\n",
      "Epoch 75:  90%|█████████ | 230/255 [01:22<00:08,  2.80it/s, loss=0.0901, v_num=3, train_loss=0.0212, train_accuracy=1.000, val_loss=0.186, val_accuracy=0.938]\n",
      "Epoch 75:  91%|█████████ | 232/255 [01:22<00:08,  2.82it/s, loss=0.0901, v_num=3, train_loss=0.0212, train_accuracy=1.000, val_loss=0.186, val_accuracy=0.938]\n",
      "Epoch 75:  92%|█████████▏| 234/255 [01:22<00:07,  2.84it/s, loss=0.0901, v_num=3, train_loss=0.0212, train_accuracy=1.000, val_loss=0.186, val_accuracy=0.938]\n",
      "Epoch 75:  93%|█████████▎| 236/255 [01:22<00:06,  2.85it/s, loss=0.0901, v_num=3, train_loss=0.0212, train_accuracy=1.000, val_loss=0.186, val_accuracy=0.938]\n",
      "Epoch 75:  93%|█████████▎| 238/255 [01:22<00:05,  2.87it/s, loss=0.0901, v_num=3, train_loss=0.0212, train_accuracy=1.000, val_loss=0.186, val_accuracy=0.938]\n",
      "Epoch 75:  94%|█████████▍| 240/255 [01:22<00:05,  2.89it/s, loss=0.0901, v_num=3, train_loss=0.0212, train_accuracy=1.000, val_loss=0.186, val_accuracy=0.938]\n",
      "Epoch 75:  95%|█████████▍| 242/255 [01:23<00:04,  2.91it/s, loss=0.0901, v_num=3, train_loss=0.0212, train_accuracy=1.000, val_loss=0.186, val_accuracy=0.938]\n",
      "Epoch 75:  96%|█████████▌| 244/255 [01:23<00:03,  2.93it/s, loss=0.0901, v_num=3, train_loss=0.0212, train_accuracy=1.000, val_loss=0.186, val_accuracy=0.938]\n",
      "Epoch 75:  96%|█████████▋| 246/255 [01:23<00:03,  2.95it/s, loss=0.0901, v_num=3, train_loss=0.0212, train_accuracy=1.000, val_loss=0.186, val_accuracy=0.938]\n",
      "Epoch 75:  97%|█████████▋| 248/255 [01:23<00:02,  2.97it/s, loss=0.0901, v_num=3, train_loss=0.0212, train_accuracy=1.000, val_loss=0.186, val_accuracy=0.938]\n",
      "Epoch 75:  98%|█████████▊| 250/255 [01:23<00:01,  2.99it/s, loss=0.0901, v_num=3, train_loss=0.0212, train_accuracy=1.000, val_loss=0.186, val_accuracy=0.938]\n",
      "Epoch 75:  99%|█████████▉| 252/255 [01:23<00:00,  3.00it/s, loss=0.0901, v_num=3, train_loss=0.0212, train_accuracy=1.000, val_loss=0.186, val_accuracy=0.938]\n",
      "Epoch 75: 100%|█████████▉| 254/255 [01:24<00:00,  3.02it/s, loss=0.0901, v_num=3, train_loss=0.0212, train_accuracy=1.000, val_loss=0.186, val_accuracy=0.938]\n",
      "Epoch 75: 100%|██████████| 255/255 [01:24<00:00,  3.01it/s, loss=0.0901, v_num=3, train_loss=0.0212, train_accuracy=1.000, val_loss=0.181, val_accuracy=0.933]\n",
      "Epoch 75: 100%|██████████| 255/255 [01:24<00:00,  3.01it/s, loss=0.0901, v_num=3, train_loss=0.0212, train_accuracy=1.000, val_loss=0.181, val_accuracy=0.933]"
     ]
    },
    {
     "name": "stderr",
     "output_type": "stream",
     "text": [
      "Epoch 75, global step 17175: val_loss was not in top 2\n"
     ]
    },
    {
     "name": "stdout",
     "output_type": "stream",
     "text": [
      "Epoch 76:  89%|████████▊ | 226/255 [02:36<00:20,  1.44it/s, loss=0.0961, v_num=3, train_loss=0.331, train_accuracy=0.833, val_loss=0.181, val_accuracy=0.933] \n",
      "Validating: 0it [00:00, ?it/s]\u001b[A\n",
      "Validating:   0%|          | 0/29 [00:00<?, ?it/s]\u001b[A\n",
      "Epoch 76:  89%|████████▉ | 228/255 [02:40<00:19,  1.42it/s, loss=0.0961, v_num=3, train_loss=0.331, train_accuracy=0.833, val_loss=0.181, val_accuracy=0.933]\n",
      "Validating:   7%|▋         | 2/29 [00:04<00:45,  1.69s/it]\u001b[A\n",
      "Epoch 76:  90%|█████████ | 230/255 [02:41<00:17,  1.43it/s, loss=0.0961, v_num=3, train_loss=0.331, train_accuracy=0.833, val_loss=0.181, val_accuracy=0.933]\n",
      "Validating:  14%|█▍        | 4/29 [00:04<00:16,  1.47it/s]\u001b[A\n",
      "Epoch 76:  91%|█████████ | 232/255 [02:41<00:16,  1.44it/s, loss=0.0961, v_num=3, train_loss=0.331, train_accuracy=0.833, val_loss=0.181, val_accuracy=0.933]\n",
      "Validating:  21%|██        | 6/29 [00:04<00:08,  2.56it/s]\u001b[A\n",
      "Epoch 76:  92%|█████████▏| 234/255 [02:41<00:14,  1.45it/s, loss=0.0961, v_num=3, train_loss=0.331, train_accuracy=0.833, val_loss=0.181, val_accuracy=0.933]\n",
      "Validating:  28%|██▊       | 8/29 [00:05<00:05,  3.54it/s]\u001b[A\n",
      "Epoch 76:  93%|█████████▎| 236/255 [02:42<00:13,  1.46it/s, loss=0.0961, v_num=3, train_loss=0.331, train_accuracy=0.833, val_loss=0.181, val_accuracy=0.933]\n",
      "Validating:  34%|███▍      | 10/29 [00:05<00:04,  4.28it/s]\u001b[A\n",
      "Epoch 76:  93%|█████████▎| 238/255 [02:42<00:11,  1.46it/s, loss=0.0961, v_num=3, train_loss=0.331, train_accuracy=0.833, val_loss=0.181, val_accuracy=0.933]\n",
      "Validating:  41%|████▏     | 12/29 [00:05<00:03,  4.77it/s]\u001b[A\n",
      "Epoch 76:  94%|█████████▍| 240/255 [02:42<00:10,  1.47it/s, loss=0.0961, v_num=3, train_loss=0.331, train_accuracy=0.833, val_loss=0.181, val_accuracy=0.933]\n",
      "Validating:  48%|████▊     | 14/29 [00:06<00:02,  5.13it/s]\u001b[A\n",
      "Epoch 76:  95%|█████████▍| 242/255 [02:43<00:08,  1.48it/s, loss=0.0961, v_num=3, train_loss=0.331, train_accuracy=0.833, val_loss=0.181, val_accuracy=0.933]\n",
      "Validating:  55%|█████▌    | 16/29 [00:06<00:02,  5.29it/s]\u001b[A\n",
      "Epoch 76:  96%|█████████▌| 244/255 [02:43<00:07,  1.49it/s, loss=0.0961, v_num=3, train_loss=0.331, train_accuracy=0.833, val_loss=0.181, val_accuracy=0.933]\n",
      "Validating:  62%|██████▏   | 18/29 [00:06<00:02,  5.46it/s]\u001b[A\n",
      "Epoch 76:  96%|█████████▋| 246/255 [02:43<00:05,  1.50it/s, loss=0.0961, v_num=3, train_loss=0.331, train_accuracy=0.833, val_loss=0.181, val_accuracy=0.933]\n",
      "Validating:  69%|██████▉   | 20/29 [00:07<00:01,  5.46it/s]\u001b[A\n",
      "Epoch 76:  97%|█████████▋| 248/255 [02:44<00:04,  1.51it/s, loss=0.0961, v_num=3, train_loss=0.331, train_accuracy=0.833, val_loss=0.181, val_accuracy=0.933]\n",
      "Validating:  76%|███████▌  | 22/29 [00:07<00:01,  5.43it/s]\u001b[A\n",
      "Epoch 76:  98%|█████████▊| 250/255 [02:44<00:03,  1.52it/s, loss=0.0961, v_num=3, train_loss=0.331, train_accuracy=0.833, val_loss=0.181, val_accuracy=0.933]\n",
      "Validating:  83%|████████▎ | 24/29 [00:08<00:00,  5.30it/s]\u001b[A\n",
      "Epoch 76:  99%|█████████▉| 252/255 [02:45<00:01,  1.53it/s, loss=0.0961, v_num=3, train_loss=0.331, train_accuracy=0.833, val_loss=0.181, val_accuracy=0.933]\n",
      "Validating:  90%|████████▉ | 26/29 [00:08<00:00,  5.37it/s]\u001b[A\n",
      "Epoch 76: 100%|█████████▉| 254/255 [02:45<00:00,  1.53it/s, loss=0.0961, v_num=3, train_loss=0.331, train_accuracy=0.833, val_loss=0.181, val_accuracy=0.933]\n",
      "Validating:  97%|█████████▋| 28/29 [00:08<00:00,  5.43it/s]\u001b[A\n",
      "Epoch 76: 100%|██████████| 255/255 [02:46<00:00,  1.53it/s, loss=0.0961, v_num=3, train_loss=0.331, train_accuracy=0.833, val_loss=0.180, val_accuracy=0.938]\n",
      "Epoch 76: 100%|██████████| 255/255 [02:46<00:00,  1.53it/s, loss=0.0961, v_num=3, train_loss=0.331, train_accuracy=0.833, val_loss=0.180, val_accuracy=0.938]"
     ]
    },
    {
     "name": "stderr",
     "output_type": "stream",
     "text": [
      "Epoch 76, global step 17401: val_loss was not in top 2\n"
     ]
    },
    {
     "name": "stdout",
     "output_type": "stream",
     "text": [
      "Epoch 77:  89%|████████▊ | 226/255 [02:40<00:20,  1.41it/s, loss=0.0935, v_num=3, train_loss=0.108, train_accuracy=0.944, val_loss=0.180, val_accuracy=0.938] \n",
      "Validating: 0it [00:00, ?it/s]\u001b[A\n",
      "Validating:   0%|          | 0/29 [00:00<?, ?it/s]\u001b[A\n",
      "Epoch 77:  89%|████████▉ | 228/255 [02:44<00:19,  1.39it/s, loss=0.0935, v_num=3, train_loss=0.108, train_accuracy=0.944, val_loss=0.180, val_accuracy=0.938]\n",
      "Validating:   7%|▋         | 2/29 [00:04<00:45,  1.69s/it]\u001b[A\n",
      "Epoch 77:  90%|█████████ | 230/255 [02:44<00:17,  1.40it/s, loss=0.0935, v_num=3, train_loss=0.108, train_accuracy=0.944, val_loss=0.180, val_accuracy=0.938]\n",
      "Validating:  14%|█▍        | 4/29 [00:04<00:17,  1.46it/s]\u001b[A\n",
      "Epoch 77:  91%|█████████ | 232/255 [02:45<00:16,  1.40it/s, loss=0.0935, v_num=3, train_loss=0.108, train_accuracy=0.944, val_loss=0.180, val_accuracy=0.938]\n",
      "Validating:  21%|██        | 6/29 [00:04<00:09,  2.54it/s]\u001b[A\n",
      "Epoch 77:  92%|█████████▏| 234/255 [02:45<00:14,  1.41it/s, loss=0.0935, v_num=3, train_loss=0.108, train_accuracy=0.944, val_loss=0.180, val_accuracy=0.938]\n",
      "Validating:  28%|██▊       | 8/29 [00:05<00:05,  3.53it/s]\u001b[A\n",
      "Epoch 77:  93%|█████████▎| 236/255 [02:45<00:13,  1.42it/s, loss=0.0935, v_num=3, train_loss=0.108, train_accuracy=0.944, val_loss=0.180, val_accuracy=0.938]\n",
      "Validating:  34%|███▍      | 10/29 [00:05<00:04,  4.32it/s]\u001b[A\n",
      "Epoch 77:  93%|█████████▎| 238/255 [02:46<00:11,  1.43it/s, loss=0.0935, v_num=3, train_loss=0.108, train_accuracy=0.944, val_loss=0.180, val_accuracy=0.938]\n",
      "Validating:  41%|████▏     | 12/29 [00:05<00:03,  4.81it/s]\u001b[A\n",
      "Epoch 77:  94%|█████████▍| 240/255 [02:46<00:10,  1.44it/s, loss=0.0935, v_num=3, train_loss=0.108, train_accuracy=0.944, val_loss=0.180, val_accuracy=0.938]\n",
      "Validating:  48%|████▊     | 14/29 [00:06<00:02,  5.08it/s]\u001b[A\n",
      "Epoch 77:  95%|█████████▍| 242/255 [02:47<00:08,  1.45it/s, loss=0.0935, v_num=3, train_loss=0.108, train_accuracy=0.944, val_loss=0.180, val_accuracy=0.938]\n",
      "Validating:  55%|█████▌    | 16/29 [00:06<00:02,  5.25it/s]\u001b[A\n",
      "Epoch 77:  96%|█████████▌| 244/255 [02:47<00:07,  1.46it/s, loss=0.0935, v_num=3, train_loss=0.108, train_accuracy=0.944, val_loss=0.180, val_accuracy=0.938]\n",
      "Validating:  62%|██████▏   | 18/29 [00:06<00:02,  5.30it/s]\u001b[A\n",
      "Epoch 77:  96%|█████████▋| 246/255 [02:47<00:06,  1.47it/s, loss=0.0935, v_num=3, train_loss=0.108, train_accuracy=0.944, val_loss=0.180, val_accuracy=0.938]\n",
      "Validating:  69%|██████▉   | 20/29 [00:07<00:01,  5.26it/s]\u001b[A\n",
      "Epoch 77:  97%|█████████▋| 248/255 [02:48<00:04,  1.47it/s, loss=0.0935, v_num=3, train_loss=0.108, train_accuracy=0.944, val_loss=0.180, val_accuracy=0.938]\n",
      "Validating:  76%|███████▌  | 22/29 [00:07<00:01,  5.34it/s]\u001b[A\n",
      "Epoch 77:  98%|█████████▊| 250/255 [02:48<00:03,  1.48it/s, loss=0.0935, v_num=3, train_loss=0.108, train_accuracy=0.944, val_loss=0.180, val_accuracy=0.938]\n",
      "Validating:  83%|████████▎ | 24/29 [00:08<00:00,  5.35it/s]\u001b[A\n",
      "Epoch 77:  99%|█████████▉| 252/255 [02:48<00:02,  1.49it/s, loss=0.0935, v_num=3, train_loss=0.108, train_accuracy=0.944, val_loss=0.180, val_accuracy=0.938]\n",
      "Validating:  90%|████████▉ | 26/29 [00:08<00:00,  5.36it/s]\u001b[A\n",
      "Epoch 77: 100%|█████████▉| 254/255 [02:49<00:00,  1.50it/s, loss=0.0935, v_num=3, train_loss=0.108, train_accuracy=0.944, val_loss=0.180, val_accuracy=0.938]\n",
      "Validating:  97%|█████████▋| 28/29 [00:08<00:00,  5.33it/s]\u001b[A\n",
      "Epoch 77: 100%|██████████| 255/255 [02:50<00:00,  1.50it/s, loss=0.0935, v_num=3, train_loss=0.108, train_accuracy=0.944, val_loss=0.159, val_accuracy=0.935]\n",
      "Epoch 77: 100%|██████████| 255/255 [02:50<00:00,  1.50it/s, loss=0.0935, v_num=3, train_loss=0.108, train_accuracy=0.944, val_loss=0.159, val_accuracy=0.935]"
     ]
    },
    {
     "name": "stderr",
     "output_type": "stream",
     "text": [
      "Epoch 77, global step 17627: val_loss reached 0.15857 (best 0.15857), saving model to \"/Workspace/code/checkpoints/best-checkpoint-corr-mi-18-v7.ckpt\" as top 2\n"
     ]
    },
    {
     "name": "stdout",
     "output_type": "stream",
     "text": [
      "Epoch 78:  89%|████████▊ | 226/255 [02:40<00:20,  1.41it/s, loss=0.0768, v_num=3, train_loss=0.079, train_accuracy=0.944, val_loss=0.159, val_accuracy=0.935] \n",
      "Validating: 0it [00:00, ?it/s]\u001b[A\n",
      "Validating:   0%|          | 0/29 [00:00<?, ?it/s]\u001b[A\n",
      "Epoch 78:  89%|████████▉ | 228/255 [02:44<00:19,  1.38it/s, loss=0.0768, v_num=3, train_loss=0.079, train_accuracy=0.944, val_loss=0.159, val_accuracy=0.935]\n",
      "Validating:   7%|▋         | 2/29 [00:04<00:45,  1.70s/it]\u001b[A\n",
      "Epoch 78:  90%|█████████ | 230/255 [02:45<00:17,  1.39it/s, loss=0.0768, v_num=3, train_loss=0.079, train_accuracy=0.944, val_loss=0.159, val_accuracy=0.935]\n",
      "Validating:  14%|█▍        | 4/29 [00:04<00:17,  1.45it/s]\u001b[A\n",
      "Epoch 78:  91%|█████████ | 232/255 [02:45<00:16,  1.40it/s, loss=0.0768, v_num=3, train_loss=0.079, train_accuracy=0.944, val_loss=0.159, val_accuracy=0.935]\n",
      "Validating:  21%|██        | 6/29 [00:04<00:09,  2.52it/s]\u001b[A\n",
      "Epoch 78:  92%|█████████▏| 234/255 [02:45<00:14,  1.41it/s, loss=0.0768, v_num=3, train_loss=0.079, train_accuracy=0.944, val_loss=0.159, val_accuracy=0.935]\n",
      "Validating:  28%|██▊       | 8/29 [00:05<00:06,  3.49it/s]\u001b[A\n",
      "Epoch 78:  93%|█████████▎| 236/255 [02:46<00:13,  1.42it/s, loss=0.0768, v_num=3, train_loss=0.079, train_accuracy=0.944, val_loss=0.159, val_accuracy=0.935]\n",
      "Validating:  34%|███▍      | 10/29 [00:05<00:04,  4.34it/s]\u001b[A\n",
      "Epoch 78:  93%|█████████▎| 238/255 [02:46<00:11,  1.43it/s, loss=0.0768, v_num=3, train_loss=0.079, train_accuracy=0.944, val_loss=0.159, val_accuracy=0.935]\n",
      "Validating:  41%|████▏     | 12/29 [00:05<00:03,  4.82it/s]\u001b[A\n",
      "Epoch 78:  94%|█████████▍| 240/255 [02:46<00:10,  1.44it/s, loss=0.0768, v_num=3, train_loss=0.079, train_accuracy=0.944, val_loss=0.159, val_accuracy=0.935]\n",
      "Validating:  48%|████▊     | 14/29 [00:06<00:02,  5.14it/s]\u001b[A\n",
      "Epoch 78:  95%|█████████▍| 242/255 [02:47<00:08,  1.45it/s, loss=0.0768, v_num=3, train_loss=0.079, train_accuracy=0.944, val_loss=0.159, val_accuracy=0.935]\n",
      "Validating:  55%|█████▌    | 16/29 [00:06<00:02,  5.25it/s]\u001b[A\n",
      "Epoch 78:  96%|█████████▌| 244/255 [02:47<00:07,  1.46it/s, loss=0.0768, v_num=3, train_loss=0.079, train_accuracy=0.944, val_loss=0.159, val_accuracy=0.935]\n",
      "Validating:  62%|██████▏   | 18/29 [00:07<00:02,  5.36it/s]\u001b[A\n",
      "Epoch 78:  96%|█████████▋| 246/255 [02:48<00:06,  1.46it/s, loss=0.0768, v_num=3, train_loss=0.079, train_accuracy=0.944, val_loss=0.159, val_accuracy=0.935]\n",
      "Validating:  69%|██████▉   | 20/29 [00:07<00:01,  5.29it/s]\u001b[A\n",
      "Epoch 78:  97%|█████████▋| 248/255 [02:48<00:04,  1.47it/s, loss=0.0768, v_num=3, train_loss=0.079, train_accuracy=0.944, val_loss=0.159, val_accuracy=0.935]\n",
      "Validating:  76%|███████▌  | 22/29 [00:07<00:01,  5.34it/s]\u001b[A\n",
      "Epoch 78:  98%|█████████▊| 250/255 [02:48<00:03,  1.48it/s, loss=0.0768, v_num=3, train_loss=0.079, train_accuracy=0.944, val_loss=0.159, val_accuracy=0.935]\n",
      "Validating:  83%|████████▎ | 24/29 [00:08<00:00,  5.40it/s]\u001b[A\n",
      "Epoch 78:  99%|█████████▉| 252/255 [02:49<00:02,  1.49it/s, loss=0.0768, v_num=3, train_loss=0.079, train_accuracy=0.944, val_loss=0.159, val_accuracy=0.935]\n",
      "Validating:  90%|████████▉ | 26/29 [00:08<00:00,  5.41it/s]\u001b[A\n",
      "Epoch 78: 100%|█████████▉| 254/255 [02:49<00:00,  1.50it/s, loss=0.0768, v_num=3, train_loss=0.079, train_accuracy=0.944, val_loss=0.159, val_accuracy=0.935]\n",
      "Validating:  97%|█████████▋| 28/29 [00:08<00:00,  5.39it/s]\u001b[A\n",
      "Epoch 78: 100%|██████████| 255/255 [02:50<00:00,  1.50it/s, loss=0.0768, v_num=3, train_loss=0.079, train_accuracy=0.944, val_loss=0.168, val_accuracy=0.933]\n",
      "Epoch 78: 100%|██████████| 255/255 [02:50<00:00,  1.50it/s, loss=0.0768, v_num=3, train_loss=0.079, train_accuracy=0.944, val_loss=0.168, val_accuracy=0.933]"
     ]
    },
    {
     "name": "stderr",
     "output_type": "stream",
     "text": [
      "Epoch 78, global step 17853: val_loss was not in top 2\n"
     ]
    },
    {
     "name": "stdout",
     "output_type": "stream",
     "text": [
      "Epoch 79:  89%|████████▊ | 226/255 [02:40<00:20,  1.41it/s, loss=0.0822, v_num=3, train_loss=0.0747, train_accuracy=1.000, val_loss=0.168, val_accuracy=0.933]\n",
      "Validating: 0it [00:00, ?it/s]\u001b[A\n",
      "Validating:   0%|          | 0/29 [00:00<?, ?it/s]\u001b[A\n",
      "Epoch 79:  89%|████████▉ | 228/255 [02:44<00:19,  1.39it/s, loss=0.0822, v_num=3, train_loss=0.0747, train_accuracy=1.000, val_loss=0.168, val_accuracy=0.933]\n",
      "Validating:   7%|▋         | 2/29 [00:04<00:45,  1.69s/it]\u001b[A\n",
      "Epoch 79:  90%|█████████ | 230/255 [02:44<00:17,  1.39it/s, loss=0.0822, v_num=3, train_loss=0.0747, train_accuracy=1.000, val_loss=0.168, val_accuracy=0.933]\n",
      "Validating:  14%|█▍        | 4/29 [00:04<00:17,  1.46it/s]\u001b[A\n",
      "Epoch 79:  91%|█████████ | 232/255 [02:45<00:16,  1.40it/s, loss=0.0822, v_num=3, train_loss=0.0747, train_accuracy=1.000, val_loss=0.168, val_accuracy=0.933]\n",
      "Validating:  21%|██        | 6/29 [00:04<00:09,  2.54it/s]\u001b[A\n",
      "Epoch 79:  92%|█████████▏| 234/255 [02:45<00:14,  1.41it/s, loss=0.0822, v_num=3, train_loss=0.0747, train_accuracy=1.000, val_loss=0.168, val_accuracy=0.933]\n",
      "Validating:  28%|██▊       | 8/29 [00:05<00:05,  3.51it/s]\u001b[A\n",
      "Epoch 79:  93%|█████████▎| 236/255 [02:46<00:13,  1.42it/s, loss=0.0822, v_num=3, train_loss=0.0747, train_accuracy=1.000, val_loss=0.168, val_accuracy=0.933]\n",
      "Validating:  34%|███▍      | 10/29 [00:05<00:04,  4.31it/s]\u001b[A\n",
      "Epoch 79:  93%|█████████▎| 238/255 [02:46<00:11,  1.43it/s, loss=0.0822, v_num=3, train_loss=0.0747, train_accuracy=1.000, val_loss=0.168, val_accuracy=0.933]\n",
      "Validating:  41%|████▏     | 12/29 [00:05<00:03,  4.77it/s]\u001b[A\n",
      "Epoch 79:  94%|█████████▍| 240/255 [02:46<00:10,  1.44it/s, loss=0.0822, v_num=3, train_loss=0.0747, train_accuracy=1.000, val_loss=0.168, val_accuracy=0.933]\n",
      "Validating:  48%|████▊     | 14/29 [00:06<00:02,  5.12it/s]\u001b[A\n",
      "Epoch 79:  95%|█████████▍| 242/255 [02:47<00:08,  1.45it/s, loss=0.0822, v_num=3, train_loss=0.0747, train_accuracy=1.000, val_loss=0.168, val_accuracy=0.933]\n",
      "Validating:  55%|█████▌    | 16/29 [00:06<00:02,  5.29it/s]\u001b[A\n",
      "Epoch 79:  96%|█████████▌| 244/255 [02:47<00:07,  1.46it/s, loss=0.0822, v_num=3, train_loss=0.0747, train_accuracy=1.000, val_loss=0.168, val_accuracy=0.933]\n",
      "Validating:  62%|██████▏   | 18/29 [00:06<00:02,  5.41it/s]\u001b[A\n",
      "Epoch 79:  96%|█████████▋| 246/255 [02:47<00:06,  1.47it/s, loss=0.0822, v_num=3, train_loss=0.0747, train_accuracy=1.000, val_loss=0.168, val_accuracy=0.933]\n",
      "Validating:  69%|██████▉   | 20/29 [00:07<00:01,  5.47it/s]\u001b[A\n",
      "Epoch 79:  97%|█████████▋| 248/255 [02:48<00:04,  1.47it/s, loss=0.0822, v_num=3, train_loss=0.0747, train_accuracy=1.000, val_loss=0.168, val_accuracy=0.933]\n",
      "Validating:  76%|███████▌  | 22/29 [00:07<00:01,  5.37it/s]\u001b[A\n",
      "Epoch 79:  98%|█████████▊| 250/255 [02:48<00:03,  1.48it/s, loss=0.0822, v_num=3, train_loss=0.0747, train_accuracy=1.000, val_loss=0.168, val_accuracy=0.933]\n",
      "Validating:  83%|████████▎ | 24/29 [00:08<00:00,  5.39it/s]\u001b[A\n",
      "Epoch 79:  99%|█████████▉| 252/255 [02:48<00:02,  1.49it/s, loss=0.0822, v_num=3, train_loss=0.0747, train_accuracy=1.000, val_loss=0.168, val_accuracy=0.933]\n",
      "Validating:  90%|████████▉ | 26/29 [00:08<00:00,  5.34it/s]\u001b[A\n",
      "Epoch 79: 100%|█████████▉| 254/255 [02:49<00:00,  1.50it/s, loss=0.0822, v_num=3, train_loss=0.0747, train_accuracy=1.000, val_loss=0.168, val_accuracy=0.933]\n",
      "Validating:  97%|█████████▋| 28/29 [00:08<00:00,  5.30it/s]\u001b[A\n",
      "Epoch 79: 100%|██████████| 255/255 [02:50<00:00,  1.50it/s, loss=0.0822, v_num=3, train_loss=0.0747, train_accuracy=1.000, val_loss=0.168, val_accuracy=0.942]\n",
      "Epoch 79: 100%|██████████| 255/255 [02:50<00:00,  1.50it/s, loss=0.0822, v_num=3, train_loss=0.0747, train_accuracy=1.000, val_loss=0.168, val_accuracy=0.942]"
     ]
    },
    {
     "name": "stderr",
     "output_type": "stream",
     "text": [
      "Epoch 79, global step 18079: val_loss was not in top 2\n"
     ]
    },
    {
     "name": "stdout",
     "output_type": "stream",
     "text": [
      "Epoch 80:  89%|████████▊ | 226/255 [02:39<00:20,  1.42it/s, loss=0.107, v_num=3, train_loss=0.146, train_accuracy=0.889, val_loss=0.168, val_accuracy=0.942]   \n",
      "Validating: 0it [00:00, ?it/s]\u001b[A\n",
      "Validating:   0%|          | 0/29 [00:00<?, ?it/s]\u001b[A\n",
      "Epoch 80:  89%|████████▉ | 228/255 [02:43<00:19,  1.40it/s, loss=0.107, v_num=3, train_loss=0.146, train_accuracy=0.889, val_loss=0.168, val_accuracy=0.942]\n",
      "Validating:   7%|▋         | 2/29 [00:04<00:45,  1.70s/it]\u001b[A\n",
      "Epoch 80:  90%|█████████ | 230/255 [02:43<00:17,  1.40it/s, loss=0.107, v_num=3, train_loss=0.146, train_accuracy=0.889, val_loss=0.168, val_accuracy=0.942]\n",
      "Validating:  14%|█▍        | 4/29 [00:04<00:17,  1.46it/s]\u001b[A\n",
      "Epoch 80:  91%|█████████ | 232/255 [02:44<00:16,  1.41it/s, loss=0.107, v_num=3, train_loss=0.146, train_accuracy=0.889, val_loss=0.168, val_accuracy=0.942]\n",
      "Validating:  21%|██        | 6/29 [00:04<00:09,  2.50it/s]\u001b[A\n",
      "Epoch 80:  92%|█████████▏| 234/255 [02:44<00:14,  1.42it/s, loss=0.107, v_num=3, train_loss=0.146, train_accuracy=0.889, val_loss=0.168, val_accuracy=0.942]\n",
      "Validating:  28%|██▊       | 8/29 [00:05<00:05,  3.53it/s]\u001b[A\n",
      "Epoch 80:  93%|█████████▎| 236/255 [02:44<00:13,  1.43it/s, loss=0.107, v_num=3, train_loss=0.146, train_accuracy=0.889, val_loss=0.168, val_accuracy=0.942]\n",
      "Validating:  34%|███▍      | 10/29 [00:05<00:04,  4.30it/s]\u001b[A\n",
      "Epoch 80:  93%|█████████▎| 238/255 [02:45<00:11,  1.44it/s, loss=0.107, v_num=3, train_loss=0.146, train_accuracy=0.889, val_loss=0.168, val_accuracy=0.942]\n",
      "Validating:  41%|████▏     | 12/29 [00:05<00:03,  4.78it/s]\u001b[A\n",
      "Epoch 80:  94%|█████████▍| 240/255 [02:45<00:10,  1.45it/s, loss=0.107, v_num=3, train_loss=0.146, train_accuracy=0.889, val_loss=0.168, val_accuracy=0.942]\n",
      "Validating:  48%|████▊     | 14/29 [00:06<00:02,  5.11it/s]\u001b[A\n",
      "Epoch 80:  95%|█████████▍| 242/255 [02:46<00:08,  1.46it/s, loss=0.107, v_num=3, train_loss=0.146, train_accuracy=0.889, val_loss=0.168, val_accuracy=0.942]\n",
      "Validating:  55%|█████▌    | 16/29 [00:06<00:02,  5.31it/s]\u001b[A\n",
      "Epoch 80:  96%|█████████▌| 244/255 [02:46<00:07,  1.47it/s, loss=0.107, v_num=3, train_loss=0.146, train_accuracy=0.889, val_loss=0.168, val_accuracy=0.942]\n",
      "Validating:  62%|██████▏   | 18/29 [00:07<00:02,  5.34it/s]\u001b[A\n",
      "Epoch 80:  96%|█████████▋| 246/255 [02:46<00:06,  1.47it/s, loss=0.107, v_num=3, train_loss=0.146, train_accuracy=0.889, val_loss=0.168, val_accuracy=0.942]\n",
      "Validating:  69%|██████▉   | 20/29 [00:07<00:01,  5.35it/s]\u001b[A\n",
      "Epoch 80:  97%|█████████▋| 248/255 [02:47<00:04,  1.48it/s, loss=0.107, v_num=3, train_loss=0.146, train_accuracy=0.889, val_loss=0.168, val_accuracy=0.942]\n",
      "Validating:  76%|███████▌  | 22/29 [00:07<00:01,  5.48it/s]\u001b[A\n",
      "Epoch 80:  98%|█████████▊| 250/255 [02:47<00:03,  1.49it/s, loss=0.107, v_num=3, train_loss=0.146, train_accuracy=0.889, val_loss=0.168, val_accuracy=0.942]\n",
      "Validating:  83%|████████▎ | 24/29 [00:08<00:00,  5.52it/s]\u001b[A\n",
      "Epoch 80:  99%|█████████▉| 252/255 [02:47<00:01,  1.50it/s, loss=0.107, v_num=3, train_loss=0.146, train_accuracy=0.889, val_loss=0.168, val_accuracy=0.942]\n",
      "Validating:  90%|████████▉ | 26/29 [00:08<00:00,  5.47it/s]\u001b[A\n",
      "Epoch 80: 100%|█████████▉| 254/255 [02:48<00:00,  1.51it/s, loss=0.107, v_num=3, train_loss=0.146, train_accuracy=0.889, val_loss=0.168, val_accuracy=0.942]\n",
      "Validating:  97%|█████████▋| 28/29 [00:08<00:00,  5.44it/s]\u001b[A\n",
      "Epoch 80: 100%|██████████| 255/255 [02:49<00:00,  1.51it/s, loss=0.107, v_num=3, train_loss=0.146, train_accuracy=0.889, val_loss=0.172, val_accuracy=0.939]\n",
      "Epoch 80: 100%|██████████| 255/255 [02:49<00:00,  1.51it/s, loss=0.107, v_num=3, train_loss=0.146, train_accuracy=0.889, val_loss=0.172, val_accuracy=0.939]"
     ]
    },
    {
     "name": "stderr",
     "output_type": "stream",
     "text": [
      "Epoch 80, global step 18305: val_loss was not in top 2\n"
     ]
    },
    {
     "name": "stdout",
     "output_type": "stream",
     "text": [
      "Epoch 81:  89%|████████▊ | 226/255 [02:40<00:20,  1.41it/s, loss=0.104, v_num=3, train_loss=0.271, train_accuracy=0.944, val_loss=0.172, val_accuracy=0.939]  \n",
      "Validating: 0it [00:00, ?it/s]\u001b[A\n",
      "Validating:   0%|          | 0/29 [00:00<?, ?it/s]\u001b[A\n",
      "Epoch 81:  89%|████████▉ | 228/255 [02:44<00:19,  1.39it/s, loss=0.104, v_num=3, train_loss=0.271, train_accuracy=0.944, val_loss=0.172, val_accuracy=0.939]\n",
      "Validating:   7%|▋         | 2/29 [00:04<00:45,  1.70s/it]\u001b[A\n",
      "Epoch 81:  90%|█████████ | 230/255 [02:44<00:17,  1.40it/s, loss=0.104, v_num=3, train_loss=0.271, train_accuracy=0.944, val_loss=0.172, val_accuracy=0.939]\n",
      "Validating:  14%|█▍        | 4/29 [00:04<00:17,  1.46it/s]\u001b[A\n",
      "Epoch 81:  91%|█████████ | 232/255 [02:45<00:16,  1.41it/s, loss=0.104, v_num=3, train_loss=0.271, train_accuracy=0.944, val_loss=0.172, val_accuracy=0.939]\n",
      "Validating:  21%|██        | 6/29 [00:04<00:09,  2.51it/s]\u001b[A\n",
      "Epoch 81:  92%|█████████▏| 234/255 [02:45<00:14,  1.41it/s, loss=0.104, v_num=3, train_loss=0.271, train_accuracy=0.944, val_loss=0.172, val_accuracy=0.939]\n",
      "Validating:  28%|██▊       | 8/29 [00:05<00:05,  3.56it/s]\u001b[A\n",
      "Epoch 81:  93%|█████████▎| 236/255 [02:45<00:13,  1.42it/s, loss=0.104, v_num=3, train_loss=0.271, train_accuracy=0.944, val_loss=0.172, val_accuracy=0.939]\n",
      "Validating:  34%|███▍      | 10/29 [00:05<00:04,  4.38it/s]\u001b[A\n",
      "Epoch 81:  93%|█████████▎| 238/255 [02:46<00:11,  1.43it/s, loss=0.104, v_num=3, train_loss=0.271, train_accuracy=0.944, val_loss=0.172, val_accuracy=0.939]\n",
      "Validating:  41%|████▏     | 12/29 [00:05<00:03,  4.89it/s]\u001b[A\n",
      "Epoch 81:  94%|█████████▍| 240/255 [02:46<00:10,  1.44it/s, loss=0.104, v_num=3, train_loss=0.271, train_accuracy=0.944, val_loss=0.172, val_accuracy=0.939]\n",
      "Validating:  48%|████▊     | 14/29 [00:06<00:02,  5.16it/s]\u001b[A\n",
      "Epoch 81:  95%|█████████▍| 242/255 [02:46<00:08,  1.45it/s, loss=0.104, v_num=3, train_loss=0.271, train_accuracy=0.944, val_loss=0.172, val_accuracy=0.939]\n",
      "Validating:  55%|█████▌    | 16/29 [00:06<00:02,  5.19it/s]\u001b[A\n",
      "Epoch 81:  96%|█████████▌| 244/255 [02:47<00:07,  1.46it/s, loss=0.104, v_num=3, train_loss=0.271, train_accuracy=0.944, val_loss=0.172, val_accuracy=0.939]\n",
      "Validating:  62%|██████▏   | 18/29 [00:07<00:02,  5.21it/s]\u001b[A\n",
      "Epoch 81:  96%|█████████▋| 246/255 [02:47<00:06,  1.47it/s, loss=0.104, v_num=3, train_loss=0.271, train_accuracy=0.944, val_loss=0.172, val_accuracy=0.939]\n",
      "Validating:  69%|██████▉   | 20/29 [00:07<00:01,  5.30it/s]\u001b[A\n",
      "Epoch 81:  97%|█████████▋| 248/255 [02:48<00:04,  1.48it/s, loss=0.104, v_num=3, train_loss=0.271, train_accuracy=0.944, val_loss=0.172, val_accuracy=0.939]\n",
      "Validating:  76%|███████▌  | 22/29 [00:07<00:01,  5.36it/s]\u001b[A\n",
      "Epoch 81:  98%|█████████▊| 250/255 [02:48<00:03,  1.48it/s, loss=0.104, v_num=3, train_loss=0.271, train_accuracy=0.944, val_loss=0.172, val_accuracy=0.939]\n",
      "Validating:  83%|████████▎ | 24/29 [00:08<00:00,  5.43it/s]\u001b[A\n",
      "Epoch 81:  99%|█████████▉| 252/255 [02:48<00:02,  1.49it/s, loss=0.104, v_num=3, train_loss=0.271, train_accuracy=0.944, val_loss=0.172, val_accuracy=0.939]\n",
      "Validating:  90%|████████▉ | 26/29 [00:08<00:00,  5.35it/s]\u001b[A\n",
      "Epoch 81: 100%|█████████▉| 254/255 [02:49<00:00,  1.50it/s, loss=0.104, v_num=3, train_loss=0.271, train_accuracy=0.944, val_loss=0.172, val_accuracy=0.939]\n",
      "Validating:  97%|█████████▋| 28/29 [00:08<00:00,  5.37it/s]\u001b[A\n",
      "Epoch 81: 100%|██████████| 255/255 [02:50<00:00,  1.50it/s, loss=0.104, v_num=3, train_loss=0.271, train_accuracy=0.944, val_loss=0.215, val_accuracy=0.931]\n",
      "Epoch 81: 100%|██████████| 255/255 [02:50<00:00,  1.50it/s, loss=0.104, v_num=3, train_loss=0.271, train_accuracy=0.944, val_loss=0.215, val_accuracy=0.931]"
     ]
    },
    {
     "name": "stderr",
     "output_type": "stream",
     "text": [
      "Epoch 81, global step 18531: val_loss was not in top 2\n"
     ]
    },
    {
     "name": "stdout",
     "output_type": "stream",
     "text": [
      "Epoch 82:  89%|████████▊ | 226/255 [02:40<00:20,  1.41it/s, loss=0.134, v_num=3, train_loss=0.338, train_accuracy=0.833, val_loss=0.215, val_accuracy=0.931]  \n",
      "Validating: 0it [00:00, ?it/s]\u001b[A\n",
      "Validating:   0%|          | 0/29 [00:00<?, ?it/s]\u001b[A\n",
      "Epoch 82:  89%|████████▉ | 228/255 [02:44<00:19,  1.39it/s, loss=0.134, v_num=3, train_loss=0.338, train_accuracy=0.833, val_loss=0.215, val_accuracy=0.931]\n",
      "Validating:   7%|▋         | 2/29 [00:04<00:45,  1.70s/it]\u001b[A\n",
      "Epoch 82:  90%|█████████ | 230/255 [02:44<00:17,  1.39it/s, loss=0.134, v_num=3, train_loss=0.338, train_accuracy=0.833, val_loss=0.215, val_accuracy=0.931]\n",
      "Validating:  14%|█▍        | 4/29 [00:04<00:17,  1.44it/s]\u001b[A\n",
      "Epoch 82:  91%|█████████ | 232/255 [02:45<00:16,  1.40it/s, loss=0.134, v_num=3, train_loss=0.338, train_accuracy=0.833, val_loss=0.215, val_accuracy=0.931]\n",
      "Validating:  21%|██        | 6/29 [00:04<00:09,  2.51it/s]\u001b[A\n",
      "Epoch 82:  92%|█████████▏| 234/255 [02:45<00:14,  1.41it/s, loss=0.134, v_num=3, train_loss=0.338, train_accuracy=0.833, val_loss=0.215, val_accuracy=0.931]\n",
      "Validating:  28%|██▊       | 8/29 [00:05<00:05,  3.52it/s]\u001b[A\n",
      "Epoch 82:  93%|█████████▎| 236/255 [02:46<00:13,  1.42it/s, loss=0.134, v_num=3, train_loss=0.338, train_accuracy=0.833, val_loss=0.215, val_accuracy=0.931]\n",
      "Validating:  34%|███▍      | 10/29 [00:05<00:04,  4.31it/s]\u001b[A\n",
      "Epoch 82:  93%|█████████▎| 238/255 [02:46<00:11,  1.43it/s, loss=0.134, v_num=3, train_loss=0.338, train_accuracy=0.833, val_loss=0.215, val_accuracy=0.931]\n",
      "Validating:  41%|████▏     | 12/29 [00:05<00:03,  4.80it/s]\u001b[A\n",
      "Epoch 82:  94%|█████████▍| 240/255 [02:46<00:10,  1.44it/s, loss=0.134, v_num=3, train_loss=0.338, train_accuracy=0.833, val_loss=0.215, val_accuracy=0.931]\n",
      "Validating:  48%|████▊     | 14/29 [00:06<00:02,  5.10it/s]\u001b[A\n",
      "Epoch 82:  95%|█████████▍| 242/255 [02:47<00:08,  1.45it/s, loss=0.134, v_num=3, train_loss=0.338, train_accuracy=0.833, val_loss=0.215, val_accuracy=0.931]\n",
      "Validating:  55%|█████▌    | 16/29 [00:06<00:02,  5.26it/s]\u001b[A\n",
      "Epoch 82:  96%|█████████▌| 244/255 [02:47<00:07,  1.46it/s, loss=0.134, v_num=3, train_loss=0.338, train_accuracy=0.833, val_loss=0.215, val_accuracy=0.931]\n",
      "Validating:  62%|██████▏   | 18/29 [00:07<00:02,  5.32it/s]\u001b[A\n",
      "Epoch 82:  96%|█████████▋| 246/255 [02:47<00:06,  1.46it/s, loss=0.134, v_num=3, train_loss=0.338, train_accuracy=0.833, val_loss=0.215, val_accuracy=0.931]\n",
      "Validating:  69%|██████▉   | 20/29 [00:07<00:01,  5.31it/s]\u001b[A\n",
      "Epoch 82:  97%|█████████▋| 248/255 [02:48<00:04,  1.47it/s, loss=0.134, v_num=3, train_loss=0.338, train_accuracy=0.833, val_loss=0.215, val_accuracy=0.931]\n",
      "Validating:  76%|███████▌  | 22/29 [00:07<00:01,  5.38it/s]\u001b[A\n",
      "Epoch 82:  98%|█████████▊| 250/255 [02:48<00:03,  1.48it/s, loss=0.134, v_num=3, train_loss=0.338, train_accuracy=0.833, val_loss=0.215, val_accuracy=0.931]\n",
      "Validating:  83%|████████▎ | 24/29 [00:08<00:00,  5.44it/s]\u001b[A\n",
      "Epoch 82:  99%|█████████▉| 252/255 [02:49<00:02,  1.49it/s, loss=0.134, v_num=3, train_loss=0.338, train_accuracy=0.833, val_loss=0.215, val_accuracy=0.931]\n",
      "Validating:  90%|████████▉ | 26/29 [00:08<00:00,  5.40it/s]\u001b[A\n",
      "Epoch 82: 100%|█████████▉| 254/255 [02:49<00:00,  1.50it/s, loss=0.134, v_num=3, train_loss=0.338, train_accuracy=0.833, val_loss=0.215, val_accuracy=0.931]\n",
      "Validating:  97%|█████████▋| 28/29 [00:08<00:00,  5.40it/s]\u001b[A\n",
      "Epoch 82: 100%|██████████| 255/255 [02:50<00:00,  1.50it/s, loss=0.134, v_num=3, train_loss=0.338, train_accuracy=0.833, val_loss=0.176, val_accuracy=0.935]\n",
      "Epoch 82: 100%|██████████| 255/255 [02:50<00:00,  1.50it/s, loss=0.134, v_num=3, train_loss=0.338, train_accuracy=0.833, val_loss=0.176, val_accuracy=0.935]"
     ]
    },
    {
     "name": "stderr",
     "output_type": "stream",
     "text": [
      "Epoch 82, global step 18757: val_loss was not in top 2\n"
     ]
    },
    {
     "name": "stdout",
     "output_type": "stream",
     "text": [
      "Epoch 83:  89%|████████▊ | 226/255 [02:40<00:20,  1.41it/s, loss=0.0926, v_num=3, train_loss=0.0281, train_accuracy=1.000, val_loss=0.176, val_accuracy=0.935]\n",
      "Validating: 0it [00:00, ?it/s]\u001b[A\n",
      "Validating:   0%|          | 0/29 [00:00<?, ?it/s]\u001b[A\n",
      "Epoch 83:  89%|████████▉ | 228/255 [02:44<00:19,  1.39it/s, loss=0.0926, v_num=3, train_loss=0.0281, train_accuracy=1.000, val_loss=0.176, val_accuracy=0.935]\n",
      "Validating:   7%|▋         | 2/29 [00:04<00:46,  1.70s/it]\u001b[A\n",
      "Epoch 83:  90%|█████████ | 230/255 [02:44<00:17,  1.40it/s, loss=0.0926, v_num=3, train_loss=0.0281, train_accuracy=1.000, val_loss=0.176, val_accuracy=0.935]\n",
      "Validating:  14%|█▍        | 4/29 [00:04<00:17,  1.46it/s]\u001b[A\n",
      "Epoch 83:  91%|█████████ | 232/255 [02:45<00:16,  1.40it/s, loss=0.0926, v_num=3, train_loss=0.0281, train_accuracy=1.000, val_loss=0.176, val_accuracy=0.935]\n",
      "Validating:  21%|██        | 6/29 [00:04<00:09,  2.52it/s]\u001b[A\n",
      "Epoch 83:  92%|█████████▏| 234/255 [02:45<00:14,  1.41it/s, loss=0.0926, v_num=3, train_loss=0.0281, train_accuracy=1.000, val_loss=0.176, val_accuracy=0.935]\n",
      "Validating:  28%|██▊       | 8/29 [00:05<00:05,  3.55it/s]\u001b[A\n",
      "Epoch 83:  93%|█████████▎| 236/255 [02:45<00:13,  1.42it/s, loss=0.0926, v_num=3, train_loss=0.0281, train_accuracy=1.000, val_loss=0.176, val_accuracy=0.935]\n",
      "Validating:  34%|███▍      | 10/29 [00:05<00:04,  4.35it/s]\u001b[A\n",
      "Epoch 83:  93%|█████████▎| 238/255 [02:46<00:11,  1.43it/s, loss=0.0926, v_num=3, train_loss=0.0281, train_accuracy=1.000, val_loss=0.176, val_accuracy=0.935]\n",
      "Validating:  41%|████▏     | 12/29 [00:05<00:03,  4.86it/s]\u001b[A\n",
      "Epoch 83:  94%|█████████▍| 240/255 [02:46<00:10,  1.44it/s, loss=0.0926, v_num=3, train_loss=0.0281, train_accuracy=1.000, val_loss=0.176, val_accuracy=0.935]\n",
      "Validating:  48%|████▊     | 14/29 [00:06<00:02,  5.18it/s]\u001b[A\n",
      "Epoch 83:  95%|█████████▍| 242/255 [02:46<00:08,  1.45it/s, loss=0.0926, v_num=3, train_loss=0.0281, train_accuracy=1.000, val_loss=0.176, val_accuracy=0.935]\n",
      "Validating:  55%|█████▌    | 16/29 [00:06<00:02,  5.27it/s]\u001b[A\n",
      "Epoch 83:  96%|█████████▌| 244/255 [02:47<00:07,  1.46it/s, loss=0.0926, v_num=3, train_loss=0.0281, train_accuracy=1.000, val_loss=0.176, val_accuracy=0.935]\n",
      "Validating:  62%|██████▏   | 18/29 [00:07<00:02,  5.20it/s]\u001b[A\n",
      "Epoch 83:  96%|█████████▋| 246/255 [02:47<00:06,  1.47it/s, loss=0.0926, v_num=3, train_loss=0.0281, train_accuracy=1.000, val_loss=0.176, val_accuracy=0.935]\n",
      "Validating:  69%|██████▉   | 20/29 [00:07<00:01,  5.29it/s]\u001b[A\n",
      "Epoch 83:  97%|█████████▋| 248/255 [02:48<00:04,  1.48it/s, loss=0.0926, v_num=3, train_loss=0.0281, train_accuracy=1.000, val_loss=0.176, val_accuracy=0.935]\n",
      "Validating:  76%|███████▌  | 22/29 [00:07<00:01,  5.36it/s]\u001b[A\n",
      "Epoch 83:  98%|█████████▊| 250/255 [02:48<00:03,  1.48it/s, loss=0.0926, v_num=3, train_loss=0.0281, train_accuracy=1.000, val_loss=0.176, val_accuracy=0.935]\n",
      "Validating:  83%|████████▎ | 24/29 [00:08<00:00,  5.39it/s]\u001b[A\n",
      "Epoch 83:  99%|█████████▉| 252/255 [02:48<00:02,  1.49it/s, loss=0.0926, v_num=3, train_loss=0.0281, train_accuracy=1.000, val_loss=0.176, val_accuracy=0.935]\n",
      "Validating:  90%|████████▉ | 26/29 [00:08<00:00,  5.38it/s]\u001b[A\n",
      "Epoch 83: 100%|█████████▉| 254/255 [02:49<00:00,  1.50it/s, loss=0.0926, v_num=3, train_loss=0.0281, train_accuracy=1.000, val_loss=0.176, val_accuracy=0.935]\n",
      "Validating:  97%|█████████▋| 28/29 [00:08<00:00,  5.39it/s]\u001b[A\n",
      "Epoch 83: 100%|██████████| 255/255 [02:50<00:00,  1.50it/s, loss=0.0926, v_num=3, train_loss=0.0281, train_accuracy=1.000, val_loss=0.169, val_accuracy=0.935]\n",
      "Epoch 83: 100%|██████████| 255/255 [02:50<00:00,  1.50it/s, loss=0.0926, v_num=3, train_loss=0.0281, train_accuracy=1.000, val_loss=0.169, val_accuracy=0.935]"
     ]
    },
    {
     "name": "stderr",
     "output_type": "stream",
     "text": [
      "Epoch 83, global step 18983: val_loss was not in top 2\n"
     ]
    },
    {
     "name": "stdout",
     "output_type": "stream",
     "text": [
      "Epoch 84:  89%|████████▊ | 226/255 [02:40<00:20,  1.41it/s, loss=0.0753, v_num=3, train_loss=0.0278, train_accuracy=1.000, val_loss=0.169, val_accuracy=0.935]\n",
      "Validating: 0it [00:00, ?it/s]\u001b[A\n",
      "Validating:   0%|          | 0/29 [00:00<?, ?it/s]\u001b[A\n",
      "Epoch 84:  89%|████████▉ | 228/255 [02:44<00:19,  1.38it/s, loss=0.0753, v_num=3, train_loss=0.0278, train_accuracy=1.000, val_loss=0.169, val_accuracy=0.935]\n",
      "Validating:   7%|▋         | 2/29 [00:04<00:45,  1.69s/it]\u001b[A\n",
      "Epoch 84:  90%|█████████ | 230/255 [02:45<00:17,  1.39it/s, loss=0.0753, v_num=3, train_loss=0.0278, train_accuracy=1.000, val_loss=0.169, val_accuracy=0.935]\n",
      "Validating:  14%|█▍        | 4/29 [00:04<00:17,  1.45it/s]\u001b[A\n",
      "Epoch 84:  91%|█████████ | 232/255 [02:45<00:16,  1.40it/s, loss=0.0753, v_num=3, train_loss=0.0278, train_accuracy=1.000, val_loss=0.169, val_accuracy=0.935]\n",
      "Validating:  21%|██        | 6/29 [00:04<00:09,  2.48it/s]\u001b[A\n",
      "Epoch 84:  92%|█████████▏| 234/255 [02:45<00:14,  1.41it/s, loss=0.0753, v_num=3, train_loss=0.0278, train_accuracy=1.000, val_loss=0.169, val_accuracy=0.935]\n",
      "Validating:  28%|██▊       | 8/29 [00:05<00:05,  3.55it/s]\u001b[A\n",
      "Epoch 84:  93%|█████████▎| 236/255 [02:46<00:13,  1.42it/s, loss=0.0753, v_num=3, train_loss=0.0278, train_accuracy=1.000, val_loss=0.169, val_accuracy=0.935]\n",
      "Validating:  34%|███▍      | 10/29 [00:05<00:04,  4.36it/s]\u001b[A\n",
      "Epoch 84:  93%|█████████▎| 238/255 [02:46<00:11,  1.43it/s, loss=0.0753, v_num=3, train_loss=0.0278, train_accuracy=1.000, val_loss=0.169, val_accuracy=0.935]\n",
      "Validating:  41%|████▏     | 12/29 [00:05<00:03,  4.84it/s]\u001b[A\n",
      "Epoch 84:  94%|█████████▍| 240/255 [02:46<00:10,  1.44it/s, loss=0.0753, v_num=3, train_loss=0.0278, train_accuracy=1.000, val_loss=0.169, val_accuracy=0.935]\n",
      "Validating:  48%|████▊     | 14/29 [00:06<00:02,  5.11it/s]\u001b[A\n",
      "Epoch 84:  95%|█████████▍| 242/255 [02:47<00:08,  1.45it/s, loss=0.0753, v_num=3, train_loss=0.0278, train_accuracy=1.000, val_loss=0.169, val_accuracy=0.935]\n",
      "Validating:  55%|█████▌    | 16/29 [00:06<00:02,  5.19it/s]\u001b[A\n",
      "Epoch 84:  96%|█████████▌| 244/255 [02:47<00:07,  1.46it/s, loss=0.0753, v_num=3, train_loss=0.0278, train_accuracy=1.000, val_loss=0.169, val_accuracy=0.935]\n",
      "Validating:  62%|██████▏   | 18/29 [00:07<00:02,  5.31it/s]\u001b[A\n",
      "Epoch 84:  96%|█████████▋| 246/255 [02:48<00:06,  1.46it/s, loss=0.0753, v_num=3, train_loss=0.0278, train_accuracy=1.000, val_loss=0.169, val_accuracy=0.935]\n",
      "Validating:  69%|██████▉   | 20/29 [00:07<00:01,  5.40it/s]\u001b[A\n",
      "Epoch 84:  97%|█████████▋| 248/255 [02:48<00:04,  1.47it/s, loss=0.0753, v_num=3, train_loss=0.0278, train_accuracy=1.000, val_loss=0.169, val_accuracy=0.935]\n",
      "Validating:  76%|███████▌  | 22/29 [00:07<00:01,  5.47it/s]\u001b[A\n",
      "Epoch 84:  98%|█████████▊| 250/255 [02:48<00:03,  1.48it/s, loss=0.0753, v_num=3, train_loss=0.0278, train_accuracy=1.000, val_loss=0.169, val_accuracy=0.935]\n",
      "Validating:  83%|████████▎ | 24/29 [00:08<00:00,  5.48it/s]\u001b[A\n",
      "Epoch 84:  99%|█████████▉| 252/255 [02:49<00:02,  1.49it/s, loss=0.0753, v_num=3, train_loss=0.0278, train_accuracy=1.000, val_loss=0.169, val_accuracy=0.935]\n",
      "Validating:  90%|████████▉ | 26/29 [00:08<00:00,  5.40it/s]\u001b[A\n",
      "Epoch 84: 100%|█████████▉| 254/255 [02:49<00:00,  1.50it/s, loss=0.0753, v_num=3, train_loss=0.0278, train_accuracy=1.000, val_loss=0.169, val_accuracy=0.935]\n",
      "Validating:  97%|█████████▋| 28/29 [00:08<00:00,  5.35it/s]\u001b[A\n",
      "Epoch 84: 100%|██████████| 255/255 [02:50<00:00,  1.50it/s, loss=0.0753, v_num=3, train_loss=0.0278, train_accuracy=1.000, val_loss=0.176, val_accuracy=0.940]\n",
      "Epoch 84: 100%|██████████| 255/255 [02:50<00:00,  1.50it/s, loss=0.0753, v_num=3, train_loss=0.0278, train_accuracy=1.000, val_loss=0.176, val_accuracy=0.940]"
     ]
    },
    {
     "name": "stderr",
     "output_type": "stream",
     "text": [
      "Epoch 84, global step 19209: val_loss was not in top 2\n"
     ]
    },
    {
     "name": "stdout",
     "output_type": "stream",
     "text": [
      "Epoch 85:  89%|████████▊ | 226/255 [02:40<00:20,  1.41it/s, loss=0.0857, v_num=3, train_loss=0.0448, train_accuracy=1.000, val_loss=0.176, val_accuracy=0.940]\n",
      "Validating: 0it [00:00, ?it/s]\u001b[A\n",
      "Validating:   0%|          | 0/29 [00:00<?, ?it/s]\u001b[A\n",
      "Epoch 85:  89%|████████▉ | 228/255 [02:44<00:19,  1.39it/s, loss=0.0857, v_num=3, train_loss=0.0448, train_accuracy=1.000, val_loss=0.176, val_accuracy=0.940]\n",
      "Validating:   7%|▋         | 2/29 [00:04<00:45,  1.69s/it]\u001b[A\n",
      "Epoch 85:  90%|█████████ | 230/255 [02:44<00:17,  1.40it/s, loss=0.0857, v_num=3, train_loss=0.0448, train_accuracy=1.000, val_loss=0.176, val_accuracy=0.940]\n",
      "Validating:  14%|█▍        | 4/29 [00:04<00:17,  1.45it/s]\u001b[A\n",
      "Epoch 85:  91%|█████████ | 232/255 [02:44<00:16,  1.41it/s, loss=0.0857, v_num=3, train_loss=0.0448, train_accuracy=1.000, val_loss=0.176, val_accuracy=0.940]\n",
      "Validating:  21%|██        | 6/29 [00:04<00:09,  2.52it/s]\u001b[A\n",
      "Epoch 85:  92%|█████████▏| 234/255 [02:45<00:14,  1.42it/s, loss=0.0857, v_num=3, train_loss=0.0448, train_accuracy=1.000, val_loss=0.176, val_accuracy=0.940]\n",
      "Validating:  28%|██▊       | 8/29 [00:05<00:06,  3.48it/s]\u001b[A\n",
      "Epoch 85:  93%|█████████▎| 236/255 [02:45<00:13,  1.42it/s, loss=0.0857, v_num=3, train_loss=0.0448, train_accuracy=1.000, val_loss=0.176, val_accuracy=0.940]\n",
      "Validating:  34%|███▍      | 10/29 [00:05<00:04,  4.31it/s]\u001b[A\n",
      "Epoch 85:  93%|█████████▎| 238/255 [02:46<00:11,  1.43it/s, loss=0.0857, v_num=3, train_loss=0.0448, train_accuracy=1.000, val_loss=0.176, val_accuracy=0.940]\n",
      "Validating:  41%|████▏     | 12/29 [00:05<00:03,  4.82it/s]\u001b[A\n",
      "Epoch 85:  94%|█████████▍| 240/255 [02:46<00:10,  1.44it/s, loss=0.0857, v_num=3, train_loss=0.0448, train_accuracy=1.000, val_loss=0.176, val_accuracy=0.940]\n",
      "Validating:  48%|████▊     | 14/29 [00:06<00:02,  5.11it/s]\u001b[A\n",
      "Epoch 85:  95%|█████████▍| 242/255 [02:46<00:08,  1.45it/s, loss=0.0857, v_num=3, train_loss=0.0448, train_accuracy=1.000, val_loss=0.176, val_accuracy=0.940]\n",
      "Validating:  55%|█████▌    | 16/29 [00:06<00:02,  5.28it/s]\u001b[A\n",
      "Epoch 85:  96%|█████████▌| 244/255 [02:47<00:07,  1.46it/s, loss=0.0857, v_num=3, train_loss=0.0448, train_accuracy=1.000, val_loss=0.176, val_accuracy=0.940]\n",
      "Validating:  62%|██████▏   | 18/29 [00:07<00:02,  5.33it/s]\u001b[A\n",
      "Epoch 85:  96%|█████████▋| 246/255 [02:47<00:06,  1.47it/s, loss=0.0857, v_num=3, train_loss=0.0448, train_accuracy=1.000, val_loss=0.176, val_accuracy=0.940]\n",
      "Validating:  69%|██████▉   | 20/29 [00:07<00:01,  5.33it/s]\u001b[A\n",
      "Epoch 85:  97%|█████████▋| 248/255 [02:47<00:04,  1.48it/s, loss=0.0857, v_num=3, train_loss=0.0448, train_accuracy=1.000, val_loss=0.176, val_accuracy=0.940]\n",
      "Validating:  76%|███████▌  | 22/29 [00:07<00:01,  5.43it/s]\u001b[A\n",
      "Epoch 85:  98%|█████████▊| 250/255 [02:48<00:03,  1.49it/s, loss=0.0857, v_num=3, train_loss=0.0448, train_accuracy=1.000, val_loss=0.176, val_accuracy=0.940]\n",
      "Validating:  83%|████████▎ | 24/29 [00:08<00:00,  5.33it/s]\u001b[A\n",
      "Epoch 85:  99%|█████████▉| 252/255 [02:48<00:02,  1.49it/s, loss=0.0857, v_num=3, train_loss=0.0448, train_accuracy=1.000, val_loss=0.176, val_accuracy=0.940]\n",
      "Validating:  90%|████████▉ | 26/29 [00:08<00:00,  5.36it/s]\u001b[A\n",
      "Epoch 85: 100%|█████████▉| 254/255 [02:49<00:00,  1.50it/s, loss=0.0857, v_num=3, train_loss=0.0448, train_accuracy=1.000, val_loss=0.176, val_accuracy=0.940]\n",
      "Validating:  97%|█████████▋| 28/29 [00:08<00:00,  5.27it/s]\u001b[A\n",
      "Epoch 85: 100%|██████████| 255/255 [02:50<00:00,  1.50it/s, loss=0.0857, v_num=3, train_loss=0.0448, train_accuracy=1.000, val_loss=0.175, val_accuracy=0.940]\n",
      "Epoch 85: 100%|██████████| 255/255 [02:50<00:00,  1.50it/s, loss=0.0857, v_num=3, train_loss=0.0448, train_accuracy=1.000, val_loss=0.175, val_accuracy=0.940]"
     ]
    },
    {
     "name": "stderr",
     "output_type": "stream",
     "text": [
      "Epoch 85, global step 19435: val_loss was not in top 2\n"
     ]
    },
    {
     "name": "stdout",
     "output_type": "stream",
     "text": [
      "Epoch 86:  89%|████████▊ | 226/255 [02:40<00:20,  1.41it/s, loss=0.0947, v_num=3, train_loss=0.0984, train_accuracy=0.944, val_loss=0.175, val_accuracy=0.940] \n",
      "Validating: 0it [00:00, ?it/s]\u001b[A\n",
      "Validating:   0%|          | 0/29 [00:00<?, ?it/s]\u001b[A\n",
      "Epoch 86:  89%|████████▉ | 228/255 [02:44<00:19,  1.39it/s, loss=0.0947, v_num=3, train_loss=0.0984, train_accuracy=0.944, val_loss=0.175, val_accuracy=0.940]\n",
      "Validating:   7%|▋         | 2/29 [00:04<00:45,  1.69s/it]\u001b[A\n",
      "Epoch 86:  90%|█████████ | 230/255 [02:44<00:17,  1.40it/s, loss=0.0947, v_num=3, train_loss=0.0984, train_accuracy=0.944, val_loss=0.175, val_accuracy=0.940]\n",
      "Validating:  14%|█▍        | 4/29 [00:04<00:17,  1.46it/s]\u001b[A\n",
      "Epoch 86:  91%|█████████ | 232/255 [02:45<00:16,  1.40it/s, loss=0.0947, v_num=3, train_loss=0.0984, train_accuracy=0.944, val_loss=0.175, val_accuracy=0.940]\n",
      "Validating:  21%|██        | 6/29 [00:04<00:09,  2.52it/s]\u001b[A\n",
      "Epoch 86:  92%|█████████▏| 234/255 [02:45<00:14,  1.41it/s, loss=0.0947, v_num=3, train_loss=0.0984, train_accuracy=0.944, val_loss=0.175, val_accuracy=0.940]\n",
      "Validating:  28%|██▊       | 8/29 [00:05<00:05,  3.54it/s]\u001b[A\n",
      "Epoch 86:  93%|█████████▎| 236/255 [02:45<00:13,  1.42it/s, loss=0.0947, v_num=3, train_loss=0.0984, train_accuracy=0.944, val_loss=0.175, val_accuracy=0.940]\n",
      "Validating:  34%|███▍      | 10/29 [00:05<00:04,  4.33it/s]\u001b[A\n",
      "Epoch 86:  93%|█████████▎| 238/255 [02:46<00:11,  1.43it/s, loss=0.0947, v_num=3, train_loss=0.0984, train_accuracy=0.944, val_loss=0.175, val_accuracy=0.940]\n",
      "Validating:  41%|████▏     | 12/29 [00:05<00:03,  4.82it/s]\u001b[A\n",
      "Epoch 86:  94%|█████████▍| 240/255 [02:46<00:10,  1.44it/s, loss=0.0947, v_num=3, train_loss=0.0984, train_accuracy=0.944, val_loss=0.175, val_accuracy=0.940]\n",
      "Validating:  48%|████▊     | 14/29 [00:06<00:02,  5.12it/s]\u001b[A\n",
      "Epoch 86:  95%|█████████▍| 242/255 [02:47<00:08,  1.45it/s, loss=0.0947, v_num=3, train_loss=0.0984, train_accuracy=0.944, val_loss=0.175, val_accuracy=0.940]\n",
      "Validating:  55%|█████▌    | 16/29 [00:06<00:02,  5.34it/s]\u001b[A\n",
      "Epoch 86:  96%|█████████▌| 244/255 [02:47<00:07,  1.46it/s, loss=0.0947, v_num=3, train_loss=0.0984, train_accuracy=0.944, val_loss=0.175, val_accuracy=0.940]\n",
      "Validating:  62%|██████▏   | 18/29 [00:06<00:02,  5.37it/s]\u001b[A\n",
      "Epoch 86:  96%|█████████▋| 246/255 [02:47<00:06,  1.47it/s, loss=0.0947, v_num=3, train_loss=0.0984, train_accuracy=0.944, val_loss=0.175, val_accuracy=0.940]\n",
      "Validating:  69%|██████▉   | 20/29 [00:07<00:01,  5.40it/s]\u001b[A\n",
      "Epoch 86:  97%|█████████▋| 248/255 [02:48<00:04,  1.47it/s, loss=0.0947, v_num=3, train_loss=0.0984, train_accuracy=0.944, val_loss=0.175, val_accuracy=0.940]\n",
      "Validating:  76%|███████▌  | 22/29 [00:07<00:01,  5.43it/s]\u001b[A\n",
      "Epoch 86:  98%|█████████▊| 250/255 [02:48<00:03,  1.48it/s, loss=0.0947, v_num=3, train_loss=0.0984, train_accuracy=0.944, val_loss=0.175, val_accuracy=0.940]\n",
      "Validating:  83%|████████▎ | 24/29 [00:08<00:00,  5.48it/s]\u001b[A\n",
      "Epoch 86:  99%|█████████▉| 252/255 [02:48<00:02,  1.49it/s, loss=0.0947, v_num=3, train_loss=0.0984, train_accuracy=0.944, val_loss=0.175, val_accuracy=0.940]\n",
      "Validating:  90%|████████▉ | 26/29 [00:08<00:00,  5.44it/s]\u001b[A\n",
      "Epoch 86: 100%|█████████▉| 254/255 [02:49<00:00,  1.50it/s, loss=0.0947, v_num=3, train_loss=0.0984, train_accuracy=0.944, val_loss=0.175, val_accuracy=0.940]\n",
      "Validating:  97%|█████████▋| 28/29 [00:08<00:00,  5.36it/s]\u001b[A\n",
      "Epoch 86: 100%|██████████| 255/255 [02:50<00:00,  1.50it/s, loss=0.0947, v_num=3, train_loss=0.0984, train_accuracy=0.944, val_loss=0.179, val_accuracy=0.935]\n",
      "Epoch 86: 100%|██████████| 255/255 [02:50<00:00,  1.50it/s, loss=0.0947, v_num=3, train_loss=0.0984, train_accuracy=0.944, val_loss=0.179, val_accuracy=0.935]"
     ]
    },
    {
     "name": "stderr",
     "output_type": "stream",
     "text": [
      "Epoch 86, global step 19661: val_loss was not in top 2\n"
     ]
    },
    {
     "name": "stdout",
     "output_type": "stream",
     "text": [
      "Epoch 87:  89%|████████▊ | 226/255 [02:40<00:20,  1.41it/s, loss=0.0711, v_num=3, train_loss=0.0669, train_accuracy=0.944, val_loss=0.179, val_accuracy=0.935]\n",
      "Validating: 0it [00:00, ?it/s]\u001b[A\n",
      "Validating:   0%|          | 0/29 [00:00<?, ?it/s]\u001b[A\n",
      "Epoch 87:  89%|████████▉ | 228/255 [02:44<00:19,  1.39it/s, loss=0.0711, v_num=3, train_loss=0.0669, train_accuracy=0.944, val_loss=0.179, val_accuracy=0.935]\n",
      "Validating:   7%|▋         | 2/29 [00:04<00:45,  1.69s/it]\u001b[A\n",
      "Epoch 87:  90%|█████████ | 230/255 [02:44<00:17,  1.39it/s, loss=0.0711, v_num=3, train_loss=0.0669, train_accuracy=0.944, val_loss=0.179, val_accuracy=0.935]\n",
      "Validating:  14%|█▍        | 4/29 [00:04<00:17,  1.45it/s]\u001b[A\n",
      "Epoch 87:  91%|█████████ | 232/255 [02:45<00:16,  1.40it/s, loss=0.0711, v_num=3, train_loss=0.0669, train_accuracy=0.944, val_loss=0.179, val_accuracy=0.935]\n",
      "Validating:  21%|██        | 6/29 [00:04<00:09,  2.52it/s]\u001b[A\n",
      "Epoch 87:  92%|█████████▏| 234/255 [02:45<00:14,  1.41it/s, loss=0.0711, v_num=3, train_loss=0.0669, train_accuracy=0.944, val_loss=0.179, val_accuracy=0.935]\n",
      "Validating:  28%|██▊       | 8/29 [00:05<00:05,  3.55it/s]\u001b[A\n",
      "Epoch 87:  93%|█████████▎| 236/255 [02:46<00:13,  1.42it/s, loss=0.0711, v_num=3, train_loss=0.0669, train_accuracy=0.944, val_loss=0.179, val_accuracy=0.935]\n",
      "Validating:  34%|███▍      | 10/29 [00:05<00:04,  4.21it/s]\u001b[A\n",
      "Epoch 87:  93%|█████████▎| 238/255 [02:46<00:11,  1.43it/s, loss=0.0711, v_num=3, train_loss=0.0669, train_accuracy=0.944, val_loss=0.179, val_accuracy=0.935]\n",
      "Validating:  41%|████▏     | 12/29 [00:05<00:03,  4.75it/s]\u001b[A\n",
      "Epoch 87:  94%|█████████▍| 240/255 [02:46<00:10,  1.44it/s, loss=0.0711, v_num=3, train_loss=0.0669, train_accuracy=0.944, val_loss=0.179, val_accuracy=0.935]\n",
      "Validating:  48%|████▊     | 14/29 [00:06<00:02,  5.08it/s]\u001b[A\n",
      "Epoch 87:  95%|█████████▍| 242/255 [02:47<00:08,  1.45it/s, loss=0.0711, v_num=3, train_loss=0.0669, train_accuracy=0.944, val_loss=0.179, val_accuracy=0.935]\n",
      "Validating:  55%|█████▌    | 16/29 [00:06<00:02,  5.21it/s]\u001b[A\n",
      "Epoch 87:  96%|█████████▌| 244/255 [02:47<00:07,  1.46it/s, loss=0.0711, v_num=3, train_loss=0.0669, train_accuracy=0.944, val_loss=0.179, val_accuracy=0.935]\n",
      "Validating:  62%|██████▏   | 18/29 [00:07<00:02,  5.31it/s]\u001b[A\n",
      "Epoch 87:  96%|█████████▋| 246/255 [02:47<00:06,  1.47it/s, loss=0.0711, v_num=3, train_loss=0.0669, train_accuracy=0.944, val_loss=0.179, val_accuracy=0.935]\n",
      "Validating:  69%|██████▉   | 20/29 [00:07<00:01,  5.30it/s]\u001b[A\n",
      "Epoch 87:  97%|█████████▋| 248/255 [02:48<00:04,  1.47it/s, loss=0.0711, v_num=3, train_loss=0.0669, train_accuracy=0.944, val_loss=0.179, val_accuracy=0.935]\n",
      "Validating:  76%|███████▌  | 22/29 [00:07<00:01,  5.32it/s]\u001b[A\n",
      "Epoch 87:  98%|█████████▊| 250/255 [02:48<00:03,  1.48it/s, loss=0.0711, v_num=3, train_loss=0.0669, train_accuracy=0.944, val_loss=0.179, val_accuracy=0.935]\n",
      "Validating:  83%|████████▎ | 24/29 [00:08<00:00,  5.41it/s]\u001b[A\n",
      "Epoch 87:  99%|█████████▉| 252/255 [02:48<00:02,  1.49it/s, loss=0.0711, v_num=3, train_loss=0.0669, train_accuracy=0.944, val_loss=0.179, val_accuracy=0.935]\n",
      "Validating:  90%|████████▉ | 26/29 [00:08<00:00,  5.45it/s]\u001b[A\n",
      "Epoch 87: 100%|█████████▉| 254/255 [02:49<00:00,  1.50it/s, loss=0.0711, v_num=3, train_loss=0.0669, train_accuracy=0.944, val_loss=0.179, val_accuracy=0.935]\n",
      "Validating:  97%|█████████▋| 28/29 [00:08<00:00,  5.42it/s]\u001b[A\n",
      "Epoch 87: 100%|██████████| 255/255 [02:50<00:00,  1.50it/s, loss=0.0711, v_num=3, train_loss=0.0669, train_accuracy=0.944, val_loss=0.168, val_accuracy=0.943]\n",
      "Epoch 87: 100%|██████████| 255/255 [02:50<00:00,  1.50it/s, loss=0.0711, v_num=3, train_loss=0.0669, train_accuracy=0.944, val_loss=0.168, val_accuracy=0.943]"
     ]
    },
    {
     "name": "stderr",
     "output_type": "stream",
     "text": [
      "Epoch 87, global step 19887: val_loss was not in top 2\n"
     ]
    },
    {
     "name": "stdout",
     "output_type": "stream",
     "text": [
      "Epoch 88:  89%|████████▊ | 226/255 [02:40<00:20,  1.41it/s, loss=0.087, v_num=3, train_loss=0.0143, train_accuracy=1.000, val_loss=0.168, val_accuracy=0.943]  \n",
      "Validating: 0it [00:00, ?it/s]\u001b[A\n",
      "Validating:   0%|          | 0/29 [00:00<?, ?it/s]\u001b[A\n",
      "Epoch 88:  89%|████████▉ | 228/255 [02:44<00:19,  1.39it/s, loss=0.087, v_num=3, train_loss=0.0143, train_accuracy=1.000, val_loss=0.168, val_accuracy=0.943]\n",
      "Validating:   7%|▋         | 2/29 [00:04<00:45,  1.69s/it]\u001b[A\n",
      "Epoch 88:  90%|█████████ | 230/255 [02:44<00:17,  1.40it/s, loss=0.087, v_num=3, train_loss=0.0143, train_accuracy=1.000, val_loss=0.168, val_accuracy=0.943]\n",
      "Validating:  14%|█▍        | 4/29 [00:04<00:17,  1.47it/s]\u001b[A\n",
      "Epoch 88:  91%|█████████ | 232/255 [02:45<00:16,  1.41it/s, loss=0.087, v_num=3, train_loss=0.0143, train_accuracy=1.000, val_loss=0.168, val_accuracy=0.943]\n",
      "Validating:  21%|██        | 6/29 [00:04<00:09,  2.54it/s]\u001b[A\n",
      "Epoch 88:  92%|█████████▏| 234/255 [02:45<00:14,  1.41it/s, loss=0.087, v_num=3, train_loss=0.0143, train_accuracy=1.000, val_loss=0.168, val_accuracy=0.943]\n",
      "Validating:  28%|██▊       | 8/29 [00:05<00:05,  3.55it/s]\u001b[A\n",
      "Epoch 88:  93%|█████████▎| 236/255 [02:45<00:13,  1.42it/s, loss=0.087, v_num=3, train_loss=0.0143, train_accuracy=1.000, val_loss=0.168, val_accuracy=0.943]\n",
      "Validating:  34%|███▍      | 10/29 [00:05<00:04,  4.28it/s]\u001b[A\n",
      "Epoch 88:  93%|█████████▎| 238/255 [02:46<00:11,  1.43it/s, loss=0.087, v_num=3, train_loss=0.0143, train_accuracy=1.000, val_loss=0.168, val_accuracy=0.943]\n",
      "Validating:  41%|████▏     | 12/29 [00:05<00:03,  4.79it/s]\u001b[A\n",
      "Epoch 88:  94%|█████████▍| 240/255 [02:46<00:10,  1.44it/s, loss=0.087, v_num=3, train_loss=0.0143, train_accuracy=1.000, val_loss=0.168, val_accuracy=0.943]\n",
      "Validating:  48%|████▊     | 14/29 [00:06<00:02,  5.02it/s]\u001b[A\n",
      "Epoch 88:  95%|█████████▍| 242/255 [02:46<00:08,  1.45it/s, loss=0.087, v_num=3, train_loss=0.0143, train_accuracy=1.000, val_loss=0.168, val_accuracy=0.943]\n",
      "Validating:  55%|█████▌    | 16/29 [00:06<00:02,  5.12it/s]\u001b[A\n",
      "Epoch 88:  96%|█████████▌| 244/255 [02:47<00:07,  1.46it/s, loss=0.087, v_num=3, train_loss=0.0143, train_accuracy=1.000, val_loss=0.168, val_accuracy=0.943]\n",
      "Validating:  62%|██████▏   | 18/29 [00:07<00:02,  5.32it/s]\u001b[A\n",
      "Epoch 88:  96%|█████████▋| 246/255 [02:47<00:06,  1.47it/s, loss=0.087, v_num=3, train_loss=0.0143, train_accuracy=1.000, val_loss=0.168, val_accuracy=0.943]\n",
      "Validating:  69%|██████▉   | 20/29 [00:07<00:01,  5.41it/s]\u001b[A\n",
      "Epoch 88:  97%|█████████▋| 248/255 [02:48<00:04,  1.48it/s, loss=0.087, v_num=3, train_loss=0.0143, train_accuracy=1.000, val_loss=0.168, val_accuracy=0.943]\n",
      "Validating:  76%|███████▌  | 22/29 [00:07<00:01,  5.46it/s]\u001b[A\n",
      "Epoch 88:  98%|█████████▊| 250/255 [02:48<00:03,  1.48it/s, loss=0.087, v_num=3, train_loss=0.0143, train_accuracy=1.000, val_loss=0.168, val_accuracy=0.943]\n",
      "Validating:  83%|████████▎ | 24/29 [00:08<00:00,  5.42it/s]\u001b[A\n",
      "Epoch 88:  99%|█████████▉| 252/255 [02:48<00:02,  1.49it/s, loss=0.087, v_num=3, train_loss=0.0143, train_accuracy=1.000, val_loss=0.168, val_accuracy=0.943]\n",
      "Validating:  90%|████████▉ | 26/29 [00:08<00:00,  5.40it/s]\u001b[A\n",
      "Epoch 88: 100%|█████████▉| 254/255 [02:49<00:00,  1.50it/s, loss=0.087, v_num=3, train_loss=0.0143, train_accuracy=1.000, val_loss=0.168, val_accuracy=0.943]\n",
      "Validating:  97%|█████████▋| 28/29 [00:08<00:00,  5.38it/s]\u001b[A\n",
      "Epoch 88: 100%|██████████| 255/255 [02:50<00:00,  1.50it/s, loss=0.087, v_num=3, train_loss=0.0143, train_accuracy=1.000, val_loss=0.175, val_accuracy=0.943]\n",
      "Epoch 88: 100%|██████████| 255/255 [02:50<00:00,  1.50it/s, loss=0.087, v_num=3, train_loss=0.0143, train_accuracy=1.000, val_loss=0.175, val_accuracy=0.943]"
     ]
    },
    {
     "name": "stderr",
     "output_type": "stream",
     "text": [
      "Epoch 88, global step 20113: val_loss was not in top 2\n"
     ]
    },
    {
     "name": "stdout",
     "output_type": "stream",
     "text": [
      "Epoch 89:  89%|████████▊ | 226/255 [02:40<00:20,  1.41it/s, loss=0.0736, v_num=3, train_loss=0.304, train_accuracy=0.889, val_loss=0.175, val_accuracy=0.943]  \n",
      "Validating: 0it [00:00, ?it/s]\u001b[A\n",
      "Validating:   0%|          | 0/29 [00:00<?, ?it/s]\u001b[A\n",
      "Epoch 89:  89%|████████▉ | 228/255 [02:44<00:19,  1.39it/s, loss=0.0736, v_num=3, train_loss=0.304, train_accuracy=0.889, val_loss=0.175, val_accuracy=0.943]\n",
      "Validating:   7%|▋         | 2/29 [00:04<00:45,  1.70s/it]\u001b[A\n",
      "Epoch 89:  90%|█████████ | 230/255 [02:44<00:17,  1.40it/s, loss=0.0736, v_num=3, train_loss=0.304, train_accuracy=0.889, val_loss=0.175, val_accuracy=0.943]\n",
      "Validating:  14%|█▍        | 4/29 [00:04<00:17,  1.46it/s]\u001b[A\n",
      "Epoch 89:  91%|█████████ | 232/255 [02:45<00:16,  1.40it/s, loss=0.0736, v_num=3, train_loss=0.304, train_accuracy=0.889, val_loss=0.175, val_accuracy=0.943]\n",
      "Validating:  21%|██        | 6/29 [00:04<00:09,  2.53it/s]\u001b[A\n",
      "Epoch 89:  92%|█████████▏| 234/255 [02:45<00:14,  1.41it/s, loss=0.0736, v_num=3, train_loss=0.304, train_accuracy=0.889, val_loss=0.175, val_accuracy=0.943]\n",
      "Validating:  28%|██▊       | 8/29 [00:05<00:06,  3.49it/s]\u001b[A\n",
      "Epoch 89:  93%|█████████▎| 236/255 [02:45<00:13,  1.42it/s, loss=0.0736, v_num=3, train_loss=0.304, train_accuracy=0.889, val_loss=0.175, val_accuracy=0.943]\n",
      "Validating:  34%|███▍      | 10/29 [00:05<00:04,  4.31it/s]\u001b[A\n",
      "Epoch 89:  93%|█████████▎| 238/255 [02:46<00:11,  1.43it/s, loss=0.0736, v_num=3, train_loss=0.304, train_accuracy=0.889, val_loss=0.175, val_accuracy=0.943]\n",
      "Validating:  41%|████▏     | 12/29 [00:05<00:03,  4.89it/s]\u001b[A\n",
      "Epoch 89:  94%|█████████▍| 240/255 [02:46<00:10,  1.44it/s, loss=0.0736, v_num=3, train_loss=0.304, train_accuracy=0.889, val_loss=0.175, val_accuracy=0.943]\n",
      "Validating:  48%|████▊     | 14/29 [00:06<00:02,  5.14it/s]\u001b[A\n",
      "Epoch 89:  95%|█████████▍| 242/255 [02:46<00:08,  1.45it/s, loss=0.0736, v_num=3, train_loss=0.304, train_accuracy=0.889, val_loss=0.175, val_accuracy=0.943]\n",
      "Validating:  55%|█████▌    | 16/29 [00:06<00:02,  5.25it/s]\u001b[A\n",
      "Epoch 89:  96%|█████████▌| 244/255 [02:47<00:07,  1.46it/s, loss=0.0736, v_num=3, train_loss=0.304, train_accuracy=0.889, val_loss=0.175, val_accuracy=0.943]\n",
      "Validating:  62%|██████▏   | 18/29 [00:07<00:02,  5.35it/s]\u001b[A\n",
      "Epoch 89:  96%|█████████▋| 246/255 [02:47<00:06,  1.47it/s, loss=0.0736, v_num=3, train_loss=0.304, train_accuracy=0.889, val_loss=0.175, val_accuracy=0.943]\n",
      "Validating:  69%|██████▉   | 20/29 [00:07<00:01,  5.34it/s]\u001b[A\n",
      "Epoch 89:  97%|█████████▋| 248/255 [02:48<00:04,  1.48it/s, loss=0.0736, v_num=3, train_loss=0.304, train_accuracy=0.889, val_loss=0.175, val_accuracy=0.943]\n",
      "Validating:  76%|███████▌  | 22/29 [00:07<00:01,  5.27it/s]\u001b[A\n",
      "Epoch 89:  98%|█████████▊| 250/255 [02:48<00:03,  1.48it/s, loss=0.0736, v_num=3, train_loss=0.304, train_accuracy=0.889, val_loss=0.175, val_accuracy=0.943]\n",
      "Validating:  83%|████████▎ | 24/29 [00:08<00:00,  5.43it/s]\u001b[A\n",
      "Epoch 89:  99%|█████████▉| 252/255 [02:48<00:02,  1.49it/s, loss=0.0736, v_num=3, train_loss=0.304, train_accuracy=0.889, val_loss=0.175, val_accuracy=0.943]\n",
      "Validating:  90%|████████▉ | 26/29 [00:08<00:00,  5.38it/s]\u001b[A\n",
      "Epoch 89: 100%|█████████▉| 254/255 [02:49<00:00,  1.50it/s, loss=0.0736, v_num=3, train_loss=0.304, train_accuracy=0.889, val_loss=0.175, val_accuracy=0.943]\n",
      "Validating:  97%|█████████▋| 28/29 [00:08<00:00,  5.32it/s]\u001b[A\n",
      "Epoch 89: 100%|██████████| 255/255 [02:50<00:00,  1.50it/s, loss=0.0736, v_num=3, train_loss=0.304, train_accuracy=0.889, val_loss=0.159, val_accuracy=0.950]\n",
      "Epoch 89: 100%|██████████| 255/255 [02:50<00:00,  1.50it/s, loss=0.0736, v_num=3, train_loss=0.304, train_accuracy=0.889, val_loss=0.159, val_accuracy=0.950]"
     ]
    },
    {
     "name": "stderr",
     "output_type": "stream",
     "text": [
      "Epoch 89, global step 20339: val_loss reached 0.15881 (best 0.15857), saving model to \"/Workspace/code/checkpoints/best-checkpoint-corr-mi-18-v6.ckpt\" as top 2\n"
     ]
    },
    {
     "name": "stdout",
     "output_type": "stream",
     "text": [
      "Epoch 90:  89%|████████▊ | 226/255 [02:38<00:20,  1.43it/s, loss=0.0694, v_num=3, train_loss=0.0253, train_accuracy=1.000, val_loss=0.159, val_accuracy=0.950] \n",
      "Validating: 0it [00:00, ?it/s]\u001b[A\n",
      "Validating:   0%|          | 0/29 [00:00<?, ?it/s]\u001b[A\n",
      "Epoch 90:  89%|████████▉ | 228/255 [02:42<00:19,  1.41it/s, loss=0.0694, v_num=3, train_loss=0.0253, train_accuracy=1.000, val_loss=0.159, val_accuracy=0.950]\n",
      "Validating:   7%|▋         | 2/29 [00:04<00:45,  1.70s/it]\u001b[A\n",
      "Epoch 90:  90%|█████████ | 230/255 [02:42<00:17,  1.41it/s, loss=0.0694, v_num=3, train_loss=0.0253, train_accuracy=1.000, val_loss=0.159, val_accuracy=0.950]\n",
      "Validating:  14%|█▍        | 4/29 [00:04<00:17,  1.44it/s]\u001b[A\n",
      "Epoch 90:  91%|█████████ | 232/255 [02:43<00:16,  1.42it/s, loss=0.0694, v_num=3, train_loss=0.0253, train_accuracy=1.000, val_loss=0.159, val_accuracy=0.950]\n",
      "Validating:  21%|██        | 6/29 [00:04<00:09,  2.51it/s]\u001b[A\n",
      "Epoch 90:  92%|█████████▏| 234/255 [02:43<00:14,  1.43it/s, loss=0.0694, v_num=3, train_loss=0.0253, train_accuracy=1.000, val_loss=0.159, val_accuracy=0.950]\n",
      "Validating:  28%|██▊       | 8/29 [00:05<00:05,  3.53it/s]\u001b[A\n",
      "Epoch 90:  93%|█████████▎| 236/255 [02:43<00:13,  1.44it/s, loss=0.0694, v_num=3, train_loss=0.0253, train_accuracy=1.000, val_loss=0.159, val_accuracy=0.950]\n",
      "Validating:  34%|███▍      | 10/29 [00:05<00:04,  4.27it/s]\u001b[A\n",
      "Epoch 90:  93%|█████████▎| 238/255 [02:44<00:11,  1.45it/s, loss=0.0694, v_num=3, train_loss=0.0253, train_accuracy=1.000, val_loss=0.159, val_accuracy=0.950]\n",
      "Validating:  41%|████▏     | 12/29 [00:05<00:03,  4.77it/s]\u001b[A\n",
      "Epoch 90:  94%|█████████▍| 240/255 [02:44<00:10,  1.46it/s, loss=0.0694, v_num=3, train_loss=0.0253, train_accuracy=1.000, val_loss=0.159, val_accuracy=0.950]\n",
      "Validating:  48%|████▊     | 14/29 [00:06<00:02,  5.10it/s]\u001b[A\n",
      "Epoch 90:  95%|█████████▍| 242/255 [02:44<00:08,  1.47it/s, loss=0.0694, v_num=3, train_loss=0.0253, train_accuracy=1.000, val_loss=0.159, val_accuracy=0.950]\n",
      "Validating:  55%|█████▌    | 16/29 [00:06<00:02,  5.22it/s]\u001b[A\n",
      "Epoch 90:  96%|█████████▌| 244/255 [02:45<00:07,  1.48it/s, loss=0.0694, v_num=3, train_loss=0.0253, train_accuracy=1.000, val_loss=0.159, val_accuracy=0.950]\n",
      "Validating:  62%|██████▏   | 18/29 [00:07<00:02,  5.36it/s]\u001b[A\n",
      "Epoch 90:  96%|█████████▋| 246/255 [02:45<00:06,  1.49it/s, loss=0.0694, v_num=3, train_loss=0.0253, train_accuracy=1.000, val_loss=0.159, val_accuracy=0.950]\n",
      "Validating:  69%|██████▉   | 20/29 [00:07<00:01,  5.41it/s]\u001b[A\n",
      "Epoch 90:  97%|█████████▋| 248/255 [02:45<00:04,  1.49it/s, loss=0.0694, v_num=3, train_loss=0.0253, train_accuracy=1.000, val_loss=0.159, val_accuracy=0.950]\n",
      "Validating:  76%|███████▌  | 22/29 [00:07<00:01,  5.27it/s]\u001b[A\n",
      "Epoch 90:  98%|█████████▊| 250/255 [02:46<00:03,  1.50it/s, loss=0.0694, v_num=3, train_loss=0.0253, train_accuracy=1.000, val_loss=0.159, val_accuracy=0.950]\n",
      "Validating:  83%|████████▎ | 24/29 [00:08<00:00,  5.36it/s]\u001b[A\n",
      "Epoch 90:  99%|█████████▉| 252/255 [02:46<00:01,  1.51it/s, loss=0.0694, v_num=3, train_loss=0.0253, train_accuracy=1.000, val_loss=0.159, val_accuracy=0.950]\n",
      "Validating:  90%|████████▉ | 26/29 [00:08<00:00,  5.38it/s]\u001b[A\n",
      "Epoch 90: 100%|█████████▉| 254/255 [02:47<00:00,  1.52it/s, loss=0.0694, v_num=3, train_loss=0.0253, train_accuracy=1.000, val_loss=0.159, val_accuracy=0.950]\n",
      "Validating:  97%|█████████▋| 28/29 [00:08<00:00,  5.32it/s]\u001b[A\n",
      "Epoch 90: 100%|██████████| 255/255 [02:48<00:00,  1.52it/s, loss=0.0694, v_num=3, train_loss=0.0253, train_accuracy=1.000, val_loss=0.164, val_accuracy=0.952]\n",
      "Epoch 90: 100%|██████████| 255/255 [02:48<00:00,  1.52it/s, loss=0.0694, v_num=3, train_loss=0.0253, train_accuracy=1.000, val_loss=0.164, val_accuracy=0.952]"
     ]
    },
    {
     "name": "stderr",
     "output_type": "stream",
     "text": [
      "Epoch 90, global step 20565: val_loss was not in top 2\n"
     ]
    },
    {
     "name": "stdout",
     "output_type": "stream",
     "text": [
      "Epoch 91:  89%|████████▊ | 226/255 [02:40<00:20,  1.41it/s, loss=0.0687, v_num=3, train_loss=0.180, train_accuracy=0.944, val_loss=0.164, val_accuracy=0.952]  \n",
      "Validating: 0it [00:00, ?it/s]\u001b[A\n",
      "Validating:   0%|          | 0/29 [00:00<?, ?it/s]\u001b[A\n",
      "Epoch 91:  89%|████████▉ | 228/255 [02:44<00:19,  1.38it/s, loss=0.0687, v_num=3, train_loss=0.180, train_accuracy=0.944, val_loss=0.164, val_accuracy=0.952]\n",
      "Validating:   7%|▋         | 2/29 [00:04<00:45,  1.70s/it]\u001b[A\n",
      "Epoch 91:  90%|█████████ | 230/255 [02:45<00:17,  1.39it/s, loss=0.0687, v_num=3, train_loss=0.180, train_accuracy=0.944, val_loss=0.164, val_accuracy=0.952]\n",
      "Validating:  14%|█▍        | 4/29 [00:04<00:17,  1.46it/s]\u001b[A\n",
      "Epoch 91:  91%|█████████ | 232/255 [02:45<00:16,  1.40it/s, loss=0.0687, v_num=3, train_loss=0.180, train_accuracy=0.944, val_loss=0.164, val_accuracy=0.952]\n",
      "Validating:  21%|██        | 6/29 [00:04<00:09,  2.52it/s]\u001b[A\n",
      "Epoch 91:  92%|█████████▏| 234/255 [02:45<00:14,  1.41it/s, loss=0.0687, v_num=3, train_loss=0.180, train_accuracy=0.944, val_loss=0.164, val_accuracy=0.952]\n",
      "Validating:  28%|██▊       | 8/29 [00:05<00:06,  3.49it/s]\u001b[A\n",
      "Epoch 91:  93%|█████████▎| 236/255 [02:46<00:13,  1.42it/s, loss=0.0687, v_num=3, train_loss=0.180, train_accuracy=0.944, val_loss=0.164, val_accuracy=0.952]\n",
      "Validating:  34%|███▍      | 10/29 [00:05<00:04,  4.21it/s]\u001b[A\n",
      "Epoch 91:  93%|█████████▎| 238/255 [02:46<00:11,  1.43it/s, loss=0.0687, v_num=3, train_loss=0.180, train_accuracy=0.944, val_loss=0.164, val_accuracy=0.952]\n",
      "Validating:  41%|████▏     | 12/29 [00:05<00:03,  4.76it/s]\u001b[A\n",
      "Epoch 91:  94%|█████████▍| 240/255 [02:46<00:10,  1.44it/s, loss=0.0687, v_num=3, train_loss=0.180, train_accuracy=0.944, val_loss=0.164, val_accuracy=0.952]\n",
      "Validating:  48%|████▊     | 14/29 [00:06<00:02,  5.12it/s]\u001b[A\n",
      "Epoch 91:  95%|█████████▍| 242/255 [02:47<00:08,  1.45it/s, loss=0.0687, v_num=3, train_loss=0.180, train_accuracy=0.944, val_loss=0.164, val_accuracy=0.952]\n",
      "Validating:  55%|█████▌    | 16/29 [00:06<00:02,  5.27it/s]\u001b[A\n",
      "Epoch 91:  96%|█████████▌| 244/255 [02:47<00:07,  1.45it/s, loss=0.0687, v_num=3, train_loss=0.180, train_accuracy=0.944, val_loss=0.164, val_accuracy=0.952]\n",
      "Validating:  62%|██████▏   | 18/29 [00:07<00:02,  5.29it/s]\u001b[A\n",
      "Epoch 91:  96%|█████████▋| 246/255 [02:48<00:06,  1.46it/s, loss=0.0687, v_num=3, train_loss=0.180, train_accuracy=0.944, val_loss=0.164, val_accuracy=0.952]\n",
      "Validating:  69%|██████▉   | 20/29 [00:07<00:01,  5.29it/s]\u001b[A\n",
      "Epoch 91:  97%|█████████▋| 248/255 [02:48<00:04,  1.47it/s, loss=0.0687, v_num=3, train_loss=0.180, train_accuracy=0.944, val_loss=0.164, val_accuracy=0.952]\n",
      "Validating:  76%|███████▌  | 22/29 [00:07<00:01,  5.31it/s]\u001b[A\n",
      "Epoch 91:  98%|█████████▊| 250/255 [02:48<00:03,  1.48it/s, loss=0.0687, v_num=3, train_loss=0.180, train_accuracy=0.944, val_loss=0.164, val_accuracy=0.952]\n",
      "Validating:  83%|████████▎ | 24/29 [00:08<00:00,  5.34it/s]\u001b[A\n",
      "Epoch 91:  99%|█████████▉| 252/255 [02:49<00:02,  1.49it/s, loss=0.0687, v_num=3, train_loss=0.180, train_accuracy=0.944, val_loss=0.164, val_accuracy=0.952]\n",
      "Validating:  90%|████████▉ | 26/29 [00:08<00:00,  5.41it/s]\u001b[A\n",
      "Epoch 91: 100%|█████████▉| 254/255 [02:49<00:00,  1.50it/s, loss=0.0687, v_num=3, train_loss=0.180, train_accuracy=0.944, val_loss=0.164, val_accuracy=0.952]\n",
      "Validating:  97%|█████████▋| 28/29 [00:08<00:00,  5.39it/s]\u001b[A\n",
      "Epoch 91: 100%|██████████| 255/255 [02:50<00:00,  1.50it/s, loss=0.0687, v_num=3, train_loss=0.180, train_accuracy=0.944, val_loss=0.152, val_accuracy=0.950]\n",
      "Epoch 91: 100%|██████████| 255/255 [02:50<00:00,  1.50it/s, loss=0.0687, v_num=3, train_loss=0.180, train_accuracy=0.944, val_loss=0.152, val_accuracy=0.950]"
     ]
    },
    {
     "name": "stderr",
     "output_type": "stream",
     "text": [
      "Epoch 91, global step 20791: val_loss reached 0.15182 (best 0.15182), saving model to \"/Workspace/code/checkpoints/best-checkpoint-corr-mi-18-v6.ckpt\" as top 2\n"
     ]
    },
    {
     "name": "stdout",
     "output_type": "stream",
     "text": [
      "Epoch 92:  89%|████████▊ | 226/255 [02:40<00:20,  1.40it/s, loss=0.155, v_num=3, train_loss=0.0189, train_accuracy=1.000, val_loss=0.152, val_accuracy=0.950] \n",
      "Validating: 0it [00:00, ?it/s]\u001b[A\n",
      "Validating:   0%|          | 0/29 [00:00<?, ?it/s]\u001b[A\n",
      "Epoch 92:  89%|████████▉ | 228/255 [02:44<00:19,  1.38it/s, loss=0.155, v_num=3, train_loss=0.0189, train_accuracy=1.000, val_loss=0.152, val_accuracy=0.950]\n",
      "Validating:   7%|▋         | 2/29 [00:04<00:45,  1.69s/it]\u001b[A\n",
      "Epoch 92:  90%|█████████ | 230/255 [02:45<00:17,  1.39it/s, loss=0.155, v_num=3, train_loss=0.0189, train_accuracy=1.000, val_loss=0.152, val_accuracy=0.950]\n",
      "Validating:  14%|█▍        | 4/29 [00:04<00:17,  1.47it/s]\u001b[A\n",
      "Epoch 92:  91%|█████████ | 232/255 [02:45<00:16,  1.40it/s, loss=0.155, v_num=3, train_loss=0.0189, train_accuracy=1.000, val_loss=0.152, val_accuracy=0.950]\n",
      "Validating:  21%|██        | 6/29 [00:04<00:09,  2.52it/s]\u001b[A\n",
      "Epoch 92:  92%|█████████▏| 234/255 [02:45<00:14,  1.41it/s, loss=0.155, v_num=3, train_loss=0.0189, train_accuracy=1.000, val_loss=0.152, val_accuracy=0.950]\n",
      "Validating:  28%|██▊       | 8/29 [00:05<00:05,  3.55it/s]\u001b[A\n",
      "Epoch 92:  93%|█████████▎| 236/255 [02:46<00:13,  1.42it/s, loss=0.155, v_num=3, train_loss=0.0189, train_accuracy=1.000, val_loss=0.152, val_accuracy=0.950]\n",
      "Validating:  34%|███▍      | 10/29 [00:05<00:04,  4.30it/s]\u001b[A\n",
      "Epoch 92:  93%|█████████▎| 238/255 [02:46<00:11,  1.43it/s, loss=0.155, v_num=3, train_loss=0.0189, train_accuracy=1.000, val_loss=0.152, val_accuracy=0.950]\n",
      "Validating:  41%|████▏     | 12/29 [00:05<00:03,  4.79it/s]\u001b[A\n",
      "Epoch 92:  94%|█████████▍| 240/255 [02:47<00:10,  1.44it/s, loss=0.155, v_num=3, train_loss=0.0189, train_accuracy=1.000, val_loss=0.152, val_accuracy=0.950]\n",
      "Validating:  48%|████▊     | 14/29 [00:06<00:02,  5.14it/s]\u001b[A\n",
      "Epoch 92:  95%|█████████▍| 242/255 [02:47<00:08,  1.45it/s, loss=0.155, v_num=3, train_loss=0.0189, train_accuracy=1.000, val_loss=0.152, val_accuracy=0.950]\n",
      "Validating:  55%|█████▌    | 16/29 [00:06<00:02,  5.33it/s]\u001b[A\n",
      "Epoch 92:  96%|█████████▌| 244/255 [02:47<00:07,  1.45it/s, loss=0.155, v_num=3, train_loss=0.0189, train_accuracy=1.000, val_loss=0.152, val_accuracy=0.950]\n",
      "Validating:  62%|██████▏   | 18/29 [00:06<00:02,  5.31it/s]\u001b[A\n",
      "Epoch 92:  96%|█████████▋| 246/255 [02:48<00:06,  1.46it/s, loss=0.155, v_num=3, train_loss=0.0189, train_accuracy=1.000, val_loss=0.152, val_accuracy=0.950]\n",
      "Validating:  69%|██████▉   | 20/29 [00:07<00:01,  5.44it/s]\u001b[A\n",
      "Epoch 92:  97%|█████████▋| 248/255 [02:48<00:04,  1.47it/s, loss=0.155, v_num=3, train_loss=0.0189, train_accuracy=1.000, val_loss=0.152, val_accuracy=0.950]\n",
      "Validating:  76%|███████▌  | 22/29 [00:07<00:01,  5.47it/s]\u001b[A\n",
      "Epoch 92:  98%|█████████▊| 250/255 [02:48<00:03,  1.48it/s, loss=0.155, v_num=3, train_loss=0.0189, train_accuracy=1.000, val_loss=0.152, val_accuracy=0.950]\n",
      "Validating:  83%|████████▎ | 24/29 [00:08<00:00,  5.47it/s]\u001b[A\n",
      "Epoch 92:  99%|█████████▉| 252/255 [02:49<00:02,  1.49it/s, loss=0.155, v_num=3, train_loss=0.0189, train_accuracy=1.000, val_loss=0.152, val_accuracy=0.950]\n",
      "Validating:  90%|████████▉ | 26/29 [00:08<00:00,  5.43it/s]\u001b[A\n",
      "Epoch 92: 100%|█████████▉| 254/255 [02:49<00:00,  1.50it/s, loss=0.155, v_num=3, train_loss=0.0189, train_accuracy=1.000, val_loss=0.152, val_accuracy=0.950]\n",
      "Validating:  97%|█████████▋| 28/29 [00:08<00:00,  5.41it/s]\u001b[A\n",
      "Epoch 92: 100%|██████████| 255/255 [02:50<00:00,  1.50it/s, loss=0.155, v_num=3, train_loss=0.0189, train_accuracy=1.000, val_loss=0.241, val_accuracy=0.924]\n",
      "Epoch 92: 100%|██████████| 255/255 [02:50<00:00,  1.50it/s, loss=0.155, v_num=3, train_loss=0.0189, train_accuracy=1.000, val_loss=0.241, val_accuracy=0.924]"
     ]
    },
    {
     "name": "stderr",
     "output_type": "stream",
     "text": [
      "Epoch 92, global step 21017: val_loss was not in top 2\n"
     ]
    },
    {
     "name": "stdout",
     "output_type": "stream",
     "text": [
      "Epoch 93:  89%|████████▊ | 226/255 [02:40<00:20,  1.41it/s, loss=0.0934, v_num=3, train_loss=0.0736, train_accuracy=1.000, val_loss=0.241, val_accuracy=0.924]\n",
      "Validating: 0it [00:00, ?it/s]\u001b[A\n",
      "Validating:   0%|          | 0/29 [00:00<?, ?it/s]\u001b[A\n",
      "Epoch 93:  89%|████████▉ | 228/255 [02:44<00:19,  1.38it/s, loss=0.0934, v_num=3, train_loss=0.0736, train_accuracy=1.000, val_loss=0.241, val_accuracy=0.924]\n",
      "Validating:   7%|▋         | 2/29 [00:04<00:46,  1.71s/it]\u001b[A\n",
      "Epoch 93:  90%|█████████ | 230/255 [02:45<00:17,  1.39it/s, loss=0.0934, v_num=3, train_loss=0.0736, train_accuracy=1.000, val_loss=0.241, val_accuracy=0.924]\n",
      "Validating:  14%|█▍        | 4/29 [00:04<00:17,  1.46it/s]\u001b[A\n",
      "Epoch 93:  91%|█████████ | 232/255 [02:45<00:16,  1.40it/s, loss=0.0934, v_num=3, train_loss=0.0736, train_accuracy=1.000, val_loss=0.241, val_accuracy=0.924]\n",
      "Validating:  21%|██        | 6/29 [00:04<00:09,  2.51it/s]\u001b[A\n",
      "Epoch 93:  92%|█████████▏| 234/255 [02:45<00:14,  1.41it/s, loss=0.0934, v_num=3, train_loss=0.0736, train_accuracy=1.000, val_loss=0.241, val_accuracy=0.924]\n",
      "Validating:  28%|██▊       | 8/29 [00:05<00:05,  3.56it/s]\u001b[A\n",
      "Epoch 93:  93%|█████████▎| 236/255 [02:46<00:13,  1.42it/s, loss=0.0934, v_num=3, train_loss=0.0736, train_accuracy=1.000, val_loss=0.241, val_accuracy=0.924]\n",
      "Validating:  34%|███▍      | 10/29 [00:05<00:04,  4.32it/s]\u001b[A\n",
      "Epoch 93:  93%|█████████▎| 238/255 [02:46<00:11,  1.43it/s, loss=0.0934, v_num=3, train_loss=0.0736, train_accuracy=1.000, val_loss=0.241, val_accuracy=0.924]\n",
      "Validating:  41%|████▏     | 12/29 [00:05<00:03,  4.83it/s]\u001b[A\n",
      "Epoch 93:  94%|█████████▍| 240/255 [02:46<00:10,  1.44it/s, loss=0.0934, v_num=3, train_loss=0.0736, train_accuracy=1.000, val_loss=0.241, val_accuracy=0.924]\n",
      "Validating:  48%|████▊     | 14/29 [00:06<00:02,  5.14it/s]\u001b[A\n",
      "Epoch 93:  95%|█████████▍| 242/255 [02:47<00:08,  1.45it/s, loss=0.0934, v_num=3, train_loss=0.0736, train_accuracy=1.000, val_loss=0.241, val_accuracy=0.924]\n",
      "Validating:  55%|█████▌    | 16/29 [00:06<00:02,  5.32it/s]\u001b[A\n",
      "Epoch 93:  96%|█████████▌| 244/255 [02:47<00:07,  1.46it/s, loss=0.0934, v_num=3, train_loss=0.0736, train_accuracy=1.000, val_loss=0.241, val_accuracy=0.924]\n",
      "Validating:  62%|██████▏   | 18/29 [00:07<00:02,  5.29it/s]\u001b[A\n",
      "Epoch 93:  96%|█████████▋| 246/255 [02:48<00:06,  1.46it/s, loss=0.0934, v_num=3, train_loss=0.0736, train_accuracy=1.000, val_loss=0.241, val_accuracy=0.924]\n",
      "Validating:  69%|██████▉   | 20/29 [00:07<00:01,  5.38it/s]\u001b[A\n",
      "Epoch 93:  97%|█████████▋| 248/255 [02:48<00:04,  1.47it/s, loss=0.0934, v_num=3, train_loss=0.0736, train_accuracy=1.000, val_loss=0.241, val_accuracy=0.924]\n",
      "Validating:  76%|███████▌  | 22/29 [00:07<00:01,  5.39it/s]\u001b[A\n",
      "Epoch 93:  98%|█████████▊| 250/255 [02:48<00:03,  1.48it/s, loss=0.0934, v_num=3, train_loss=0.0736, train_accuracy=1.000, val_loss=0.241, val_accuracy=0.924]\n",
      "Validating:  83%|████████▎ | 24/29 [00:08<00:00,  5.47it/s]\u001b[A\n",
      "Epoch 93:  99%|█████████▉| 252/255 [02:49<00:02,  1.49it/s, loss=0.0934, v_num=3, train_loss=0.0736, train_accuracy=1.000, val_loss=0.241, val_accuracy=0.924]\n",
      "Validating:  90%|████████▉ | 26/29 [00:08<00:00,  5.40it/s]\u001b[A\n",
      "Epoch 93: 100%|█████████▉| 254/255 [02:49<00:00,  1.50it/s, loss=0.0934, v_num=3, train_loss=0.0736, train_accuracy=1.000, val_loss=0.241, val_accuracy=0.924]\n",
      "Validating:  97%|█████████▋| 28/29 [00:08<00:00,  5.38it/s]\u001b[A\n",
      "Epoch 93: 100%|██████████| 255/255 [02:50<00:00,  1.50it/s, loss=0.0934, v_num=3, train_loss=0.0736, train_accuracy=1.000, val_loss=0.151, val_accuracy=0.944]\n",
      "Epoch 93: 100%|██████████| 255/255 [02:50<00:00,  1.50it/s, loss=0.0934, v_num=3, train_loss=0.0736, train_accuracy=1.000, val_loss=0.151, val_accuracy=0.944]"
     ]
    },
    {
     "name": "stderr",
     "output_type": "stream",
     "text": [
      "Epoch 93, global step 21243: val_loss reached 0.15053 (best 0.15053), saving model to \"/Workspace/code/checkpoints/best-checkpoint-corr-mi-18-v7.ckpt\" as top 2\n"
     ]
    },
    {
     "name": "stdout",
     "output_type": "stream",
     "text": [
      "Epoch 94:  89%|████████▊ | 226/255 [02:40<00:20,  1.41it/s, loss=0.0756, v_num=3, train_loss=0.120, train_accuracy=0.944, val_loss=0.151, val_accuracy=0.944]  \n",
      "Validating: 0it [00:00, ?it/s]\u001b[A\n",
      "Validating:   0%|          | 0/29 [00:00<?, ?it/s]\u001b[A\n",
      "Epoch 94:  89%|████████▉ | 228/255 [02:44<00:19,  1.38it/s, loss=0.0756, v_num=3, train_loss=0.120, train_accuracy=0.944, val_loss=0.151, val_accuracy=0.944]\n",
      "Validating:   7%|▋         | 2/29 [00:04<00:46,  1.72s/it]\u001b[A\n",
      "Epoch 94:  90%|█████████ | 230/255 [02:45<00:17,  1.39it/s, loss=0.0756, v_num=3, train_loss=0.120, train_accuracy=0.944, val_loss=0.151, val_accuracy=0.944]\n",
      "Validating:  14%|█▍        | 4/29 [00:04<00:17,  1.44it/s]\u001b[A\n",
      "Epoch 94:  91%|█████████ | 232/255 [02:45<00:16,  1.40it/s, loss=0.0756, v_num=3, train_loss=0.120, train_accuracy=0.944, val_loss=0.151, val_accuracy=0.944]\n",
      "Validating:  21%|██        | 6/29 [00:04<00:09,  2.52it/s]\u001b[A\n",
      "Epoch 94:  92%|█████████▏| 234/255 [02:45<00:14,  1.41it/s, loss=0.0756, v_num=3, train_loss=0.120, train_accuracy=0.944, val_loss=0.151, val_accuracy=0.944]\n",
      "Validating:  28%|██▊       | 8/29 [00:05<00:05,  3.54it/s]\u001b[A\n",
      "Epoch 94:  93%|█████████▎| 236/255 [02:46<00:13,  1.42it/s, loss=0.0756, v_num=3, train_loss=0.120, train_accuracy=0.944, val_loss=0.151, val_accuracy=0.944]\n",
      "Validating:  34%|███▍      | 10/29 [00:05<00:04,  4.34it/s]\u001b[A\n",
      "Epoch 94:  93%|█████████▎| 238/255 [02:46<00:11,  1.43it/s, loss=0.0756, v_num=3, train_loss=0.120, train_accuracy=0.944, val_loss=0.151, val_accuracy=0.944]\n",
      "Validating:  41%|████▏     | 12/29 [00:05<00:03,  4.85it/s]\u001b[A\n",
      "Epoch 94:  94%|█████████▍| 240/255 [02:46<00:10,  1.44it/s, loss=0.0756, v_num=3, train_loss=0.120, train_accuracy=0.944, val_loss=0.151, val_accuracy=0.944]\n",
      "Validating:  48%|████▊     | 14/29 [00:06<00:02,  5.17it/s]\u001b[A\n",
      "Epoch 94:  95%|█████████▍| 242/255 [02:47<00:08,  1.45it/s, loss=0.0756, v_num=3, train_loss=0.120, train_accuracy=0.944, val_loss=0.151, val_accuracy=0.944]\n",
      "Validating:  55%|█████▌    | 16/29 [00:06<00:02,  5.30it/s]\u001b[A\n",
      "Epoch 94:  96%|█████████▌| 244/255 [02:47<00:07,  1.46it/s, loss=0.0756, v_num=3, train_loss=0.120, train_accuracy=0.944, val_loss=0.151, val_accuracy=0.944]\n",
      "Validating:  62%|██████▏   | 18/29 [00:07<00:02,  5.41it/s]\u001b[A\n",
      "Epoch 94:  96%|█████████▋| 246/255 [02:48<00:06,  1.46it/s, loss=0.0756, v_num=3, train_loss=0.120, train_accuracy=0.944, val_loss=0.151, val_accuracy=0.944]\n",
      "Validating:  69%|██████▉   | 20/29 [00:07<00:01,  5.30it/s]\u001b[A\n",
      "Epoch 94:  97%|█████████▋| 248/255 [02:48<00:04,  1.47it/s, loss=0.0756, v_num=3, train_loss=0.120, train_accuracy=0.944, val_loss=0.151, val_accuracy=0.944]\n",
      "Validating:  76%|███████▌  | 22/29 [00:07<00:01,  5.43it/s]\u001b[A\n",
      "Epoch 94:  98%|█████████▊| 250/255 [02:48<00:03,  1.48it/s, loss=0.0756, v_num=3, train_loss=0.120, train_accuracy=0.944, val_loss=0.151, val_accuracy=0.944]\n",
      "Validating:  83%|████████▎ | 24/29 [00:08<00:00,  5.44it/s]\u001b[A\n",
      "Epoch 94:  99%|█████████▉| 252/255 [02:49<00:02,  1.49it/s, loss=0.0756, v_num=3, train_loss=0.120, train_accuracy=0.944, val_loss=0.151, val_accuracy=0.944]\n",
      "Validating:  90%|████████▉ | 26/29 [00:08<00:00,  5.35it/s]\u001b[A\n",
      "Epoch 94: 100%|█████████▉| 254/255 [02:49<00:00,  1.50it/s, loss=0.0756, v_num=3, train_loss=0.120, train_accuracy=0.944, val_loss=0.151, val_accuracy=0.944]\n",
      "Validating:  97%|█████████▋| 28/29 [00:08<00:00,  5.33it/s]\u001b[A\n",
      "Epoch 94: 100%|██████████| 255/255 [02:50<00:00,  1.50it/s, loss=0.0756, v_num=3, train_loss=0.120, train_accuracy=0.944, val_loss=0.162, val_accuracy=0.947]\n",
      "Epoch 94: 100%|██████████| 255/255 [02:50<00:00,  1.50it/s, loss=0.0756, v_num=3, train_loss=0.120, train_accuracy=0.944, val_loss=0.162, val_accuracy=0.947]"
     ]
    },
    {
     "name": "stderr",
     "output_type": "stream",
     "text": [
      "Epoch 94, global step 21469: val_loss was not in top 2\n"
     ]
    },
    {
     "name": "stdout",
     "output_type": "stream",
     "text": [
      "Epoch 95:  89%|████████▊ | 226/255 [02:40<00:20,  1.41it/s, loss=0.0439, v_num=3, train_loss=0.0104, train_accuracy=1.000, val_loss=0.162, val_accuracy=0.947] \n",
      "Validating: 0it [00:00, ?it/s]\u001b[A\n",
      "Validating:   0%|          | 0/29 [00:00<?, ?it/s]\u001b[A\n",
      "Epoch 95:  89%|████████▉ | 228/255 [02:44<00:19,  1.38it/s, loss=0.0439, v_num=3, train_loss=0.0104, train_accuracy=1.000, val_loss=0.162, val_accuracy=0.947]\n",
      "Validating:   7%|▋         | 2/29 [00:04<00:46,  1.72s/it]\u001b[A\n",
      "Epoch 95:  90%|█████████ | 230/255 [02:45<00:17,  1.39it/s, loss=0.0439, v_num=3, train_loss=0.0104, train_accuracy=1.000, val_loss=0.162, val_accuracy=0.947]\n",
      "Validating:  14%|█▍        | 4/29 [00:04<00:17,  1.44it/s]\u001b[A\n",
      "Epoch 95:  91%|█████████ | 232/255 [02:45<00:16,  1.40it/s, loss=0.0439, v_num=3, train_loss=0.0104, train_accuracy=1.000, val_loss=0.162, val_accuracy=0.947]\n",
      "Validating:  21%|██        | 6/29 [00:04<00:09,  2.51it/s]\u001b[A\n",
      "Epoch 95:  92%|█████████▏| 234/255 [02:45<00:14,  1.41it/s, loss=0.0439, v_num=3, train_loss=0.0104, train_accuracy=1.000, val_loss=0.162, val_accuracy=0.947]\n",
      "Validating:  28%|██▊       | 8/29 [00:05<00:06,  3.45it/s]\u001b[A\n",
      "Epoch 95:  93%|█████████▎| 236/255 [02:46<00:13,  1.42it/s, loss=0.0439, v_num=3, train_loss=0.0104, train_accuracy=1.000, val_loss=0.162, val_accuracy=0.947]\n",
      "Validating:  34%|███▍      | 10/29 [00:05<00:04,  4.25it/s]\u001b[A\n",
      "Epoch 95:  93%|█████████▎| 238/255 [02:46<00:11,  1.43it/s, loss=0.0439, v_num=3, train_loss=0.0104, train_accuracy=1.000, val_loss=0.162, val_accuracy=0.947]\n",
      "Validating:  41%|████▏     | 12/29 [00:05<00:03,  4.76it/s]\u001b[A\n",
      "Epoch 95:  94%|█████████▍| 240/255 [02:46<00:10,  1.44it/s, loss=0.0439, v_num=3, train_loss=0.0104, train_accuracy=1.000, val_loss=0.162, val_accuracy=0.947]\n",
      "Validating:  48%|████▊     | 14/29 [00:06<00:02,  5.10it/s]\u001b[A\n",
      "Epoch 95:  95%|█████████▍| 242/255 [02:47<00:08,  1.45it/s, loss=0.0439, v_num=3, train_loss=0.0104, train_accuracy=1.000, val_loss=0.162, val_accuracy=0.947]\n",
      "Validating:  55%|█████▌    | 16/29 [00:06<00:02,  5.34it/s]\u001b[A\n",
      "Epoch 95:  96%|█████████▌| 244/255 [02:47<00:07,  1.46it/s, loss=0.0439, v_num=3, train_loss=0.0104, train_accuracy=1.000, val_loss=0.162, val_accuracy=0.947]\n",
      "Validating:  62%|██████▏   | 18/29 [00:07<00:02,  5.36it/s]\u001b[A\n",
      "Epoch 95:  96%|█████████▋| 246/255 [02:48<00:06,  1.46it/s, loss=0.0439, v_num=3, train_loss=0.0104, train_accuracy=1.000, val_loss=0.162, val_accuracy=0.947]\n",
      "Validating:  69%|██████▉   | 20/29 [00:07<00:01,  5.39it/s]\u001b[A\n",
      "Epoch 95:  97%|█████████▋| 248/255 [02:48<00:04,  1.47it/s, loss=0.0439, v_num=3, train_loss=0.0104, train_accuracy=1.000, val_loss=0.162, val_accuracy=0.947]\n",
      "Validating:  76%|███████▌  | 22/29 [00:07<00:01,  5.42it/s]\u001b[A\n",
      "Epoch 95:  98%|█████████▊| 250/255 [02:48<00:03,  1.48it/s, loss=0.0439, v_num=3, train_loss=0.0104, train_accuracy=1.000, val_loss=0.162, val_accuracy=0.947]\n",
      "Validating:  83%|████████▎ | 24/29 [00:08<00:00,  5.38it/s]\u001b[A\n",
      "Epoch 95:  99%|█████████▉| 252/255 [02:49<00:02,  1.49it/s, loss=0.0439, v_num=3, train_loss=0.0104, train_accuracy=1.000, val_loss=0.162, val_accuracy=0.947]\n",
      "Validating:  90%|████████▉ | 26/29 [00:08<00:00,  5.39it/s]\u001b[A\n",
      "Epoch 95: 100%|█████████▉| 254/255 [02:49<00:00,  1.50it/s, loss=0.0439, v_num=3, train_loss=0.0104, train_accuracy=1.000, val_loss=0.162, val_accuracy=0.947]\n",
      "Validating:  97%|█████████▋| 28/29 [00:08<00:00,  5.33it/s]\u001b[A\n",
      "Epoch 95: 100%|██████████| 255/255 [02:50<00:00,  1.50it/s, loss=0.0439, v_num=3, train_loss=0.0104, train_accuracy=1.000, val_loss=0.142, val_accuracy=0.950]\n",
      "Epoch 95: 100%|██████████| 255/255 [02:50<00:00,  1.50it/s, loss=0.0439, v_num=3, train_loss=0.0104, train_accuracy=1.000, val_loss=0.142, val_accuracy=0.950]"
     ]
    },
    {
     "name": "stderr",
     "output_type": "stream",
     "text": [
      "Epoch 95, global step 21695: val_loss reached 0.14222 (best 0.14222), saving model to \"/Workspace/code/checkpoints/best-checkpoint-corr-mi-18-v6.ckpt\" as top 2\n"
     ]
    },
    {
     "name": "stdout",
     "output_type": "stream",
     "text": [
      "Epoch 96:  89%|████████▊ | 226/255 [02:40<00:20,  1.40it/s, loss=0.0744, v_num=3, train_loss=0.017, train_accuracy=1.000, val_loss=0.142, val_accuracy=0.950]  \n",
      "Validating: 0it [00:00, ?it/s]\u001b[A\n",
      "Validating:   0%|          | 0/29 [00:00<?, ?it/s]\u001b[A\n",
      "Epoch 96:  89%|████████▉ | 228/255 [02:44<00:19,  1.38it/s, loss=0.0744, v_num=3, train_loss=0.017, train_accuracy=1.000, val_loss=0.142, val_accuracy=0.950]\n",
      "Validating:   7%|▋         | 2/29 [00:04<00:45,  1.70s/it]\u001b[A\n",
      "Epoch 96:  90%|█████████ | 230/255 [02:45<00:17,  1.39it/s, loss=0.0744, v_num=3, train_loss=0.017, train_accuracy=1.000, val_loss=0.142, val_accuracy=0.950]\n",
      "Validating:  14%|█▍        | 4/29 [00:04<00:16,  1.47it/s]\u001b[A\n",
      "Epoch 96:  91%|█████████ | 232/255 [02:45<00:16,  1.40it/s, loss=0.0744, v_num=3, train_loss=0.017, train_accuracy=1.000, val_loss=0.142, val_accuracy=0.950]\n",
      "Validating:  21%|██        | 6/29 [00:04<00:09,  2.55it/s]\u001b[A\n",
      "Epoch 96:  92%|█████████▏| 234/255 [02:45<00:14,  1.41it/s, loss=0.0744, v_num=3, train_loss=0.017, train_accuracy=1.000, val_loss=0.142, val_accuracy=0.950]\n",
      "Validating:  28%|██▊       | 8/29 [00:05<00:05,  3.58it/s]\u001b[A\n",
      "Epoch 96:  93%|█████████▎| 236/255 [02:46<00:13,  1.42it/s, loss=0.0744, v_num=3, train_loss=0.017, train_accuracy=1.000, val_loss=0.142, val_accuracy=0.950]\n",
      "Validating:  34%|███▍      | 10/29 [00:05<00:04,  4.32it/s]\u001b[A\n",
      "Epoch 96:  93%|█████████▎| 238/255 [02:46<00:11,  1.43it/s, loss=0.0744, v_num=3, train_loss=0.017, train_accuracy=1.000, val_loss=0.142, val_accuracy=0.950]\n",
      "Validating:  41%|████▏     | 12/29 [00:05<00:03,  4.87it/s]\u001b[A\n",
      "Epoch 96:  94%|█████████▍| 240/255 [02:46<00:10,  1.44it/s, loss=0.0744, v_num=3, train_loss=0.017, train_accuracy=1.000, val_loss=0.142, val_accuracy=0.950]\n",
      "Validating:  48%|████▊     | 14/29 [00:06<00:02,  5.20it/s]\u001b[A\n",
      "Epoch 96:  95%|█████████▍| 242/255 [02:47<00:08,  1.45it/s, loss=0.0744, v_num=3, train_loss=0.017, train_accuracy=1.000, val_loss=0.142, val_accuracy=0.950]\n",
      "Validating:  55%|█████▌    | 16/29 [00:06<00:02,  5.33it/s]\u001b[A\n",
      "Epoch 96:  96%|█████████▌| 244/255 [02:47<00:07,  1.46it/s, loss=0.0744, v_num=3, train_loss=0.017, train_accuracy=1.000, val_loss=0.142, val_accuracy=0.950]\n",
      "Validating:  62%|██████▏   | 18/29 [00:06<00:02,  5.40it/s]\u001b[A\n",
      "Epoch 96:  96%|█████████▋| 246/255 [02:48<00:06,  1.46it/s, loss=0.0744, v_num=3, train_loss=0.017, train_accuracy=1.000, val_loss=0.142, val_accuracy=0.950]\n",
      "Validating:  69%|██████▉   | 20/29 [00:07<00:01,  5.30it/s]\u001b[A\n",
      "Epoch 96:  97%|█████████▋| 248/255 [02:48<00:04,  1.47it/s, loss=0.0744, v_num=3, train_loss=0.017, train_accuracy=1.000, val_loss=0.142, val_accuracy=0.950]\n",
      "Validating:  76%|███████▌  | 22/29 [00:07<00:01,  5.40it/s]\u001b[A\n",
      "Epoch 96:  98%|█████████▊| 250/255 [02:48<00:03,  1.48it/s, loss=0.0744, v_num=3, train_loss=0.017, train_accuracy=1.000, val_loss=0.142, val_accuracy=0.950]\n",
      "Validating:  83%|████████▎ | 24/29 [00:08<00:00,  5.41it/s]\u001b[A\n",
      "Epoch 96:  99%|█████████▉| 252/255 [02:49<00:02,  1.49it/s, loss=0.0744, v_num=3, train_loss=0.017, train_accuracy=1.000, val_loss=0.142, val_accuracy=0.950]\n",
      "Validating:  90%|████████▉ | 26/29 [00:08<00:00,  5.01it/s]\u001b[A\n",
      "Epoch 96: 100%|█████████▉| 254/255 [02:49<00:00,  1.50it/s, loss=0.0744, v_num=3, train_loss=0.017, train_accuracy=1.000, val_loss=0.142, val_accuracy=0.950]\n",
      "Validating:  97%|█████████▋| 28/29 [00:08<00:00,  5.18it/s]\u001b[A\n",
      "Epoch 96: 100%|██████████| 255/255 [02:50<00:00,  1.50it/s, loss=0.0744, v_num=3, train_loss=0.017, train_accuracy=1.000, val_loss=0.226, val_accuracy=0.933]\n",
      "Epoch 96: 100%|██████████| 255/255 [02:50<00:00,  1.50it/s, loss=0.0744, v_num=3, train_loss=0.017, train_accuracy=1.000, val_loss=0.226, val_accuracy=0.933]"
     ]
    },
    {
     "name": "stderr",
     "output_type": "stream",
     "text": [
      "Epoch 96, global step 21921: val_loss was not in top 2\n"
     ]
    },
    {
     "name": "stdout",
     "output_type": "stream",
     "text": [
      "Epoch 97:  89%|████████▊ | 226/255 [02:40<00:20,  1.41it/s, loss=0.19, v_num=3, train_loss=0.121, train_accuracy=0.944, val_loss=0.226, val_accuracy=0.933]  \n",
      "Validating: 0it [00:00, ?it/s]\u001b[A\n",
      "Validating:   0%|          | 0/29 [00:00<?, ?it/s]\u001b[A\n",
      "Epoch 97:  89%|████████▉ | 228/255 [02:44<00:19,  1.39it/s, loss=0.19, v_num=3, train_loss=0.121, train_accuracy=0.944, val_loss=0.226, val_accuracy=0.933]\n",
      "Validating:   7%|▋         | 2/29 [00:04<00:46,  1.71s/it]\u001b[A\n",
      "Epoch 97:  90%|█████████ | 230/255 [02:44<00:17,  1.39it/s, loss=0.19, v_num=3, train_loss=0.121, train_accuracy=0.944, val_loss=0.226, val_accuracy=0.933]\n",
      "Validating:  14%|█▍        | 4/29 [00:04<00:17,  1.46it/s]\u001b[A\n",
      "Epoch 97:  91%|█████████ | 232/255 [02:45<00:16,  1.40it/s, loss=0.19, v_num=3, train_loss=0.121, train_accuracy=0.944, val_loss=0.226, val_accuracy=0.933]\n",
      "Validating:  21%|██        | 6/29 [00:04<00:09,  2.43it/s]\u001b[A\n",
      "Epoch 97:  92%|█████████▏| 234/255 [02:45<00:14,  1.41it/s, loss=0.19, v_num=3, train_loss=0.121, train_accuracy=0.944, val_loss=0.226, val_accuracy=0.933]\n",
      "Validating:  28%|██▊       | 8/29 [00:05<00:06,  3.36it/s]\u001b[A\n",
      "Epoch 97:  93%|█████████▎| 236/255 [02:46<00:13,  1.42it/s, loss=0.19, v_num=3, train_loss=0.121, train_accuracy=0.944, val_loss=0.226, val_accuracy=0.933]\n",
      "Validating:  34%|███▍      | 10/29 [00:05<00:04,  4.18it/s]\u001b[A\n",
      "Epoch 97:  93%|█████████▎| 238/255 [02:46<00:11,  1.43it/s, loss=0.19, v_num=3, train_loss=0.121, train_accuracy=0.944, val_loss=0.226, val_accuracy=0.933]\n",
      "Validating:  41%|████▏     | 12/29 [00:06<00:03,  4.72it/s]\u001b[A\n",
      "Epoch 97:  94%|█████████▍| 240/255 [02:46<00:10,  1.44it/s, loss=0.19, v_num=3, train_loss=0.121, train_accuracy=0.944, val_loss=0.226, val_accuracy=0.933]\n",
      "Validating:  48%|████▊     | 14/29 [00:06<00:02,  5.07it/s]\u001b[A\n",
      "Epoch 97:  95%|█████████▍| 242/255 [02:47<00:08,  1.45it/s, loss=0.19, v_num=3, train_loss=0.121, train_accuracy=0.944, val_loss=0.226, val_accuracy=0.933]\n",
      "Validating:  55%|█████▌    | 16/29 [00:06<00:02,  5.32it/s]\u001b[A\n",
      "Epoch 97:  96%|█████████▌| 244/255 [02:47<00:07,  1.46it/s, loss=0.19, v_num=3, train_loss=0.121, train_accuracy=0.944, val_loss=0.226, val_accuracy=0.933]\n",
      "Validating:  62%|██████▏   | 18/29 [00:07<00:02,  5.40it/s]\u001b[A\n",
      "Epoch 97:  96%|█████████▋| 246/255 [02:47<00:06,  1.46it/s, loss=0.19, v_num=3, train_loss=0.121, train_accuracy=0.944, val_loss=0.226, val_accuracy=0.933]\n",
      "Validating:  69%|██████▉   | 20/29 [00:07<00:01,  5.43it/s]\u001b[A\n",
      "Epoch 97:  97%|█████████▋| 248/255 [02:48<00:04,  1.47it/s, loss=0.19, v_num=3, train_loss=0.121, train_accuracy=0.944, val_loss=0.226, val_accuracy=0.933]\n",
      "Validating:  76%|███████▌  | 22/29 [00:07<00:01,  5.46it/s]\u001b[A\n",
      "Epoch 97:  98%|█████████▊| 250/255 [02:48<00:03,  1.48it/s, loss=0.19, v_num=3, train_loss=0.121, train_accuracy=0.944, val_loss=0.226, val_accuracy=0.933]\n",
      "Validating:  83%|████████▎ | 24/29 [00:08<00:00,  5.42it/s]\u001b[A\n",
      "Epoch 97:  99%|█████████▉| 252/255 [02:49<00:02,  1.49it/s, loss=0.19, v_num=3, train_loss=0.121, train_accuracy=0.944, val_loss=0.226, val_accuracy=0.933]\n",
      "Validating:  90%|████████▉ | 26/29 [00:08<00:00,  5.25it/s]\u001b[A\n",
      "Epoch 97: 100%|█████████▉| 254/255 [02:49<00:00,  1.50it/s, loss=0.19, v_num=3, train_loss=0.121, train_accuracy=0.944, val_loss=0.226, val_accuracy=0.933]\n",
      "Validating:  97%|█████████▋| 28/29 [00:08<00:00,  5.32it/s]\u001b[A\n",
      "Epoch 97: 100%|██████████| 255/255 [02:50<00:00,  1.50it/s, loss=0.19, v_num=3, train_loss=0.121, train_accuracy=0.944, val_loss=0.234, val_accuracy=0.906]\n",
      "Epoch 97: 100%|██████████| 255/255 [02:50<00:00,  1.50it/s, loss=0.19, v_num=3, train_loss=0.121, train_accuracy=0.944, val_loss=0.234, val_accuracy=0.906]"
     ]
    },
    {
     "name": "stderr",
     "output_type": "stream",
     "text": [
      "Epoch 97, global step 22147: val_loss was not in top 2\n"
     ]
    },
    {
     "name": "stdout",
     "output_type": "stream",
     "text": [
      "Epoch 98:  89%|████████▊ | 226/255 [02:40<00:20,  1.41it/s, loss=0.149, v_num=3, train_loss=0.137, train_accuracy=0.833, val_loss=0.234, val_accuracy=0.906] \n",
      "Validating: 0it [00:00, ?it/s]\u001b[A\n",
      "Validating:   0%|          | 0/29 [00:00<?, ?it/s]\u001b[A\n",
      "Epoch 98:  89%|████████▉ | 228/255 [02:44<00:19,  1.38it/s, loss=0.149, v_num=3, train_loss=0.137, train_accuracy=0.833, val_loss=0.234, val_accuracy=0.906]\n",
      "Validating:   7%|▋         | 2/29 [00:04<00:47,  1.78s/it]\u001b[A\n",
      "Epoch 98:  90%|█████████ | 230/255 [02:45<00:17,  1.39it/s, loss=0.149, v_num=3, train_loss=0.137, train_accuracy=0.833, val_loss=0.234, val_accuracy=0.906]\n",
      "Validating:  14%|█▍        | 4/29 [00:04<00:17,  1.40it/s]\u001b[A\n",
      "Epoch 98:  91%|█████████ | 232/255 [02:45<00:16,  1.40it/s, loss=0.149, v_num=3, train_loss=0.137, train_accuracy=0.833, val_loss=0.234, val_accuracy=0.906]\n",
      "Validating:  21%|██        | 6/29 [00:04<00:09,  2.44it/s]\u001b[A\n",
      "Epoch 98:  92%|█████████▏| 234/255 [02:45<00:14,  1.41it/s, loss=0.149, v_num=3, train_loss=0.137, train_accuracy=0.833, val_loss=0.234, val_accuracy=0.906]\n",
      "Validating:  28%|██▊       | 8/29 [00:05<00:06,  3.41it/s]\u001b[A\n",
      "Epoch 98:  93%|█████████▎| 236/255 [02:46<00:13,  1.42it/s, loss=0.149, v_num=3, train_loss=0.137, train_accuracy=0.833, val_loss=0.234, val_accuracy=0.906]\n",
      "Validating:  34%|███▍      | 10/29 [00:05<00:04,  4.24it/s]\u001b[A\n",
      "Epoch 98:  93%|█████████▎| 238/255 [02:46<00:11,  1.43it/s, loss=0.149, v_num=3, train_loss=0.137, train_accuracy=0.833, val_loss=0.234, val_accuracy=0.906]\n",
      "Validating:  41%|████▏     | 12/29 [00:06<00:03,  4.80it/s]\u001b[A\n",
      "Epoch 98:  94%|█████████▍| 240/255 [02:46<00:10,  1.44it/s, loss=0.149, v_num=3, train_loss=0.137, train_accuracy=0.833, val_loss=0.234, val_accuracy=0.906]\n",
      "Validating:  48%|████▊     | 14/29 [00:06<00:02,  5.09it/s]\u001b[A\n",
      "Epoch 98:  95%|█████████▍| 242/255 [02:47<00:08,  1.45it/s, loss=0.149, v_num=3, train_loss=0.137, train_accuracy=0.833, val_loss=0.234, val_accuracy=0.906]\n",
      "Validating:  55%|█████▌    | 16/29 [00:06<00:02,  5.28it/s]\u001b[A\n",
      "Epoch 98:  96%|█████████▌| 244/255 [02:47<00:07,  1.46it/s, loss=0.149, v_num=3, train_loss=0.137, train_accuracy=0.833, val_loss=0.234, val_accuracy=0.906]\n",
      "Validating:  62%|██████▏   | 18/29 [00:07<00:02,  5.40it/s]\u001b[A\n",
      "Epoch 98:  96%|█████████▋| 246/255 [02:48<00:06,  1.46it/s, loss=0.149, v_num=3, train_loss=0.137, train_accuracy=0.833, val_loss=0.234, val_accuracy=0.906]\n",
      "Validating:  69%|██████▉   | 20/29 [00:07<00:01,  5.42it/s]\u001b[A\n",
      "Epoch 98:  97%|█████████▋| 248/255 [02:48<00:04,  1.47it/s, loss=0.149, v_num=3, train_loss=0.137, train_accuracy=0.833, val_loss=0.234, val_accuracy=0.906]\n",
      "Validating:  76%|███████▌  | 22/29 [00:07<00:01,  5.47it/s]\u001b[A\n",
      "Epoch 98:  98%|█████████▊| 250/255 [02:48<00:03,  1.48it/s, loss=0.149, v_num=3, train_loss=0.137, train_accuracy=0.833, val_loss=0.234, val_accuracy=0.906]\n",
      "Validating:  83%|████████▎ | 24/29 [00:08<00:00,  5.49it/s]\u001b[A\n",
      "Epoch 98:  99%|█████████▉| 252/255 [02:49<00:02,  1.49it/s, loss=0.149, v_num=3, train_loss=0.137, train_accuracy=0.833, val_loss=0.234, val_accuracy=0.906]\n",
      "Validating:  90%|████████▉ | 26/29 [00:08<00:00,  5.48it/s]\u001b[A\n",
      "Epoch 98: 100%|█████████▉| 254/255 [02:49<00:00,  1.50it/s, loss=0.149, v_num=3, train_loss=0.137, train_accuracy=0.833, val_loss=0.234, val_accuracy=0.906]\n",
      "Validating:  97%|█████████▋| 28/29 [00:09<00:00,  5.38it/s]\u001b[A\n",
      "Epoch 98: 100%|██████████| 255/255 [02:50<00:00,  1.50it/s, loss=0.149, v_num=3, train_loss=0.137, train_accuracy=0.833, val_loss=0.184, val_accuracy=0.938]\n",
      "Epoch 98: 100%|██████████| 255/255 [02:50<00:00,  1.50it/s, loss=0.149, v_num=3, train_loss=0.137, train_accuracy=0.833, val_loss=0.184, val_accuracy=0.938]"
     ]
    },
    {
     "name": "stderr",
     "output_type": "stream",
     "text": [
      "Epoch 98, global step 22373: val_loss was not in top 2\n"
     ]
    },
    {
     "name": "stdout",
     "output_type": "stream",
     "text": [
      "Epoch 99:  89%|████████▊ | 226/255 [02:39<00:20,  1.42it/s, loss=0.109, v_num=3, train_loss=0.165, train_accuracy=0.944, val_loss=0.184, val_accuracy=0.938]  \n",
      "Validating: 0it [00:00, ?it/s]\u001b[A\n",
      "Validating:   0%|          | 0/29 [00:00<?, ?it/s]\u001b[A\n",
      "Epoch 99:  89%|████████▉ | 228/255 [02:43<00:19,  1.40it/s, loss=0.109, v_num=3, train_loss=0.165, train_accuracy=0.944, val_loss=0.184, val_accuracy=0.938]\n",
      "Validating:   7%|▋         | 2/29 [00:04<00:46,  1.71s/it]\u001b[A\n",
      "Epoch 99:  90%|█████████ | 230/255 [02:43<00:17,  1.40it/s, loss=0.109, v_num=3, train_loss=0.165, train_accuracy=0.944, val_loss=0.184, val_accuracy=0.938]\n",
      "Validating:  14%|█▍        | 4/29 [00:04<00:17,  1.45it/s]\u001b[A\n",
      "Epoch 99:  91%|█████████ | 232/255 [02:44<00:16,  1.41it/s, loss=0.109, v_num=3, train_loss=0.165, train_accuracy=0.944, val_loss=0.184, val_accuracy=0.938]\n",
      "Validating:  21%|██        | 6/29 [00:04<00:09,  2.46it/s]\u001b[A\n",
      "Epoch 99:  92%|█████████▏| 234/255 [02:44<00:14,  1.42it/s, loss=0.109, v_num=3, train_loss=0.165, train_accuracy=0.944, val_loss=0.184, val_accuracy=0.938]\n",
      "Validating:  28%|██▊       | 8/29 [00:05<00:06,  3.48it/s]\u001b[A\n",
      "Epoch 99:  93%|█████████▎| 236/255 [02:44<00:13,  1.43it/s, loss=0.109, v_num=3, train_loss=0.165, train_accuracy=0.944, val_loss=0.184, val_accuracy=0.938]\n",
      "Validating:  34%|███▍      | 10/29 [00:05<00:04,  4.26it/s]\u001b[A\n",
      "Epoch 99:  93%|█████████▎| 238/255 [02:45<00:11,  1.44it/s, loss=0.109, v_num=3, train_loss=0.165, train_accuracy=0.944, val_loss=0.184, val_accuracy=0.938]\n",
      "Validating:  41%|████▏     | 12/29 [00:05<00:03,  4.75it/s]\u001b[A\n",
      "Epoch 99:  94%|█████████▍| 240/255 [02:45<00:10,  1.45it/s, loss=0.109, v_num=3, train_loss=0.165, train_accuracy=0.944, val_loss=0.184, val_accuracy=0.938]\n",
      "Validating:  48%|████▊     | 14/29 [00:06<00:02,  5.10it/s]\u001b[A\n",
      "Epoch 99:  95%|█████████▍| 242/255 [02:46<00:08,  1.46it/s, loss=0.109, v_num=3, train_loss=0.165, train_accuracy=0.944, val_loss=0.184, val_accuracy=0.938]\n",
      "Validating:  55%|█████▌    | 16/29 [00:06<00:02,  4.77it/s]\u001b[A\n",
      "Epoch 99:  96%|█████████▌| 244/255 [02:46<00:07,  1.47it/s, loss=0.109, v_num=3, train_loss=0.165, train_accuracy=0.944, val_loss=0.184, val_accuracy=0.938]\n",
      "Validating:  62%|██████▏   | 18/29 [00:07<00:02,  5.00it/s]\u001b[A\n",
      "Epoch 99:  96%|█████████▋| 246/255 [02:46<00:06,  1.47it/s, loss=0.109, v_num=3, train_loss=0.165, train_accuracy=0.944, val_loss=0.184, val_accuracy=0.938]\n",
      "Validating:  69%|██████▉   | 20/29 [00:07<00:01,  5.24it/s]\u001b[A\n",
      "Epoch 99:  97%|█████████▋| 248/255 [02:47<00:04,  1.48it/s, loss=0.109, v_num=3, train_loss=0.165, train_accuracy=0.944, val_loss=0.184, val_accuracy=0.938]\n",
      "Validating:  76%|███████▌  | 22/29 [00:07<00:01,  5.35it/s]\u001b[A\n",
      "Epoch 99:  98%|█████████▊| 250/255 [02:47<00:03,  1.49it/s, loss=0.109, v_num=3, train_loss=0.165, train_accuracy=0.944, val_loss=0.184, val_accuracy=0.938]\n",
      "Validating:  83%|████████▎ | 24/29 [00:08<00:00,  5.43it/s]\u001b[A\n",
      "Epoch 99:  99%|█████████▉| 252/255 [02:47<00:01,  1.50it/s, loss=0.109, v_num=3, train_loss=0.165, train_accuracy=0.944, val_loss=0.184, val_accuracy=0.938]\n",
      "Validating:  90%|████████▉ | 26/29 [00:08<00:00,  5.46it/s]\u001b[A\n",
      "Epoch 99: 100%|█████████▉| 254/255 [02:48<00:00,  1.51it/s, loss=0.109, v_num=3, train_loss=0.165, train_accuracy=0.944, val_loss=0.184, val_accuracy=0.938]\n",
      "Validating:  97%|█████████▋| 28/29 [00:08<00:00,  5.41it/s]\u001b[A\n",
      "Epoch 99: 100%|██████████| 255/255 [02:49<00:00,  1.51it/s, loss=0.109, v_num=3, train_loss=0.165, train_accuracy=0.944, val_loss=0.174, val_accuracy=0.943]\n",
      "Epoch 99: 100%|██████████| 255/255 [02:49<00:00,  1.51it/s, loss=0.109, v_num=3, train_loss=0.165, train_accuracy=0.944, val_loss=0.174, val_accuracy=0.943]"
     ]
    },
    {
     "name": "stderr",
     "output_type": "stream",
     "text": [
      "Epoch 99, global step 22599: val_loss was not in top 2\n"
     ]
    },
    {
     "name": "stdout",
     "output_type": "stream",
     "text": [
      "Epoch 100:  89%|████████▊ | 226/255 [02:40<00:20,  1.41it/s, loss=0.0939, v_num=3, train_loss=0.0261, train_accuracy=1.000, val_loss=0.174, val_accuracy=0.943]\n",
      "Validating: 0it [00:00, ?it/s]\u001b[A\n",
      "Validating:   0%|          | 0/29 [00:00<?, ?it/s]\u001b[A\n",
      "Epoch 100:  89%|████████▉ | 228/255 [02:44<00:19,  1.39it/s, loss=0.0939, v_num=3, train_loss=0.0261, train_accuracy=1.000, val_loss=0.174, val_accuracy=0.943]\n",
      "Validating:   7%|▋         | 2/29 [00:04<00:47,  1.77s/it]\u001b[A\n",
      "Epoch 100:  90%|█████████ | 230/255 [02:44<00:17,  1.39it/s, loss=0.0939, v_num=3, train_loss=0.0261, train_accuracy=1.000, val_loss=0.174, val_accuracy=0.943]\n",
      "Validating:  14%|█▍        | 4/29 [00:04<00:17,  1.42it/s]\u001b[A\n",
      "Epoch 100:  91%|█████████ | 232/255 [02:45<00:16,  1.40it/s, loss=0.0939, v_num=3, train_loss=0.0261, train_accuracy=1.000, val_loss=0.174, val_accuracy=0.943]\n",
      "Validating:  21%|██        | 6/29 [00:04<00:09,  2.48it/s]\u001b[A\n",
      "Epoch 100:  92%|█████████▏| 234/255 [02:45<00:14,  1.41it/s, loss=0.0939, v_num=3, train_loss=0.0261, train_accuracy=1.000, val_loss=0.174, val_accuracy=0.943]\n",
      "Validating:  28%|██▊       | 8/29 [00:05<00:05,  3.52it/s]\u001b[A\n",
      "Epoch 100:  93%|█████████▎| 236/255 [02:46<00:13,  1.42it/s, loss=0.0939, v_num=3, train_loss=0.0261, train_accuracy=1.000, val_loss=0.174, val_accuracy=0.943]\n",
      "Validating:  34%|███▍      | 10/29 [00:05<00:04,  4.34it/s]\u001b[A\n",
      "Epoch 100:  93%|█████████▎| 238/255 [02:46<00:11,  1.43it/s, loss=0.0939, v_num=3, train_loss=0.0261, train_accuracy=1.000, val_loss=0.174, val_accuracy=0.943]\n",
      "Validating:  41%|████▏     | 12/29 [00:06<00:03,  4.83it/s]\u001b[A\n",
      "Epoch 100:  94%|█████████▍| 240/255 [02:46<00:10,  1.44it/s, loss=0.0939, v_num=3, train_loss=0.0261, train_accuracy=1.000, val_loss=0.174, val_accuracy=0.943]\n",
      "Validating:  48%|████▊     | 14/29 [00:06<00:02,  5.06it/s]\u001b[A\n",
      "Epoch 100:  95%|█████████▍| 242/255 [02:47<00:08,  1.45it/s, loss=0.0939, v_num=3, train_loss=0.0261, train_accuracy=1.000, val_loss=0.174, val_accuracy=0.943]\n",
      "Validating:  55%|█████▌    | 16/29 [00:06<00:02,  5.32it/s]\u001b[A\n",
      "Epoch 100:  96%|█████████▌| 244/255 [02:47<00:07,  1.46it/s, loss=0.0939, v_num=3, train_loss=0.0261, train_accuracy=1.000, val_loss=0.174, val_accuracy=0.943]\n",
      "Validating:  62%|██████▏   | 18/29 [00:07<00:02,  5.41it/s]\u001b[A\n",
      "Epoch 100:  96%|█████████▋| 246/255 [02:47<00:06,  1.47it/s, loss=0.0939, v_num=3, train_loss=0.0261, train_accuracy=1.000, val_loss=0.174, val_accuracy=0.943]\n",
      "Validating:  69%|██████▉   | 20/29 [00:07<00:01,  5.28it/s]\u001b[A\n",
      "Epoch 100:  97%|█████████▋| 248/255 [02:48<00:04,  1.47it/s, loss=0.0939, v_num=3, train_loss=0.0261, train_accuracy=1.000, val_loss=0.174, val_accuracy=0.943]\n",
      "Validating:  76%|███████▌  | 22/29 [00:07<00:01,  5.44it/s]\u001b[A\n",
      "Epoch 100:  98%|█████████▊| 250/255 [02:48<00:03,  1.48it/s, loss=0.0939, v_num=3, train_loss=0.0261, train_accuracy=1.000, val_loss=0.174, val_accuracy=0.943]\n",
      "Validating:  83%|████████▎ | 24/29 [00:08<00:00,  5.47it/s]\u001b[A\n",
      "Epoch 100:  99%|█████████▉| 252/255 [02:49<00:02,  1.49it/s, loss=0.0939, v_num=3, train_loss=0.0261, train_accuracy=1.000, val_loss=0.174, val_accuracy=0.943]\n",
      "Validating:  90%|████████▉ | 26/29 [00:08<00:00,  5.39it/s]\u001b[A\n",
      "Epoch 100: 100%|█████████▉| 254/255 [02:49<00:00,  1.50it/s, loss=0.0939, v_num=3, train_loss=0.0261, train_accuracy=1.000, val_loss=0.174, val_accuracy=0.943]\n",
      "Validating:  97%|█████████▋| 28/29 [00:09<00:00,  5.42it/s]\u001b[A\n",
      "Epoch 100: 100%|██████████| 255/255 [02:50<00:00,  1.50it/s, loss=0.0939, v_num=3, train_loss=0.0261, train_accuracy=1.000, val_loss=0.186, val_accuracy=0.942]\n",
      "Epoch 100: 100%|██████████| 255/255 [02:50<00:00,  1.50it/s, loss=0.0939, v_num=3, train_loss=0.0261, train_accuracy=1.000, val_loss=0.186, val_accuracy=0.942]"
     ]
    },
    {
     "name": "stderr",
     "output_type": "stream",
     "text": [
      "Epoch 100, global step 22825: val_loss was not in top 2\n"
     ]
    },
    {
     "name": "stdout",
     "output_type": "stream",
     "text": [
      "Epoch 101:  89%|████████▊ | 226/255 [02:40<00:20,  1.41it/s, loss=0.115, v_num=3, train_loss=0.149, train_accuracy=0.944, val_loss=0.186, val_accuracy=0.942]  \n",
      "Validating: 0it [00:00, ?it/s]\u001b[A\n",
      "Validating:   0%|          | 0/29 [00:00<?, ?it/s]\u001b[A\n",
      "Epoch 101:  89%|████████▉ | 228/255 [02:44<00:19,  1.39it/s, loss=0.115, v_num=3, train_loss=0.149, train_accuracy=0.944, val_loss=0.186, val_accuracy=0.942]\n",
      "Validating:   7%|▋         | 2/29 [00:04<00:46,  1.73s/it]\u001b[A\n",
      "Epoch 101:  90%|█████████ | 230/255 [02:45<00:17,  1.39it/s, loss=0.115, v_num=3, train_loss=0.149, train_accuracy=0.944, val_loss=0.186, val_accuracy=0.942]\n",
      "Validating:  14%|█▍        | 4/29 [00:04<00:17,  1.43it/s]\u001b[A\n",
      "Epoch 101:  91%|█████████ | 232/255 [02:45<00:16,  1.40it/s, loss=0.115, v_num=3, train_loss=0.149, train_accuracy=0.944, val_loss=0.186, val_accuracy=0.942]\n",
      "Validating:  21%|██        | 6/29 [00:04<00:09,  2.49it/s]\u001b[A\n",
      "Epoch 101:  92%|█████████▏| 234/255 [02:45<00:14,  1.41it/s, loss=0.115, v_num=3, train_loss=0.149, train_accuracy=0.944, val_loss=0.186, val_accuracy=0.942]\n",
      "Validating:  28%|██▊       | 8/29 [00:05<00:06,  3.49it/s]\u001b[A\n",
      "Epoch 101:  93%|█████████▎| 236/255 [02:46<00:13,  1.42it/s, loss=0.115, v_num=3, train_loss=0.149, train_accuracy=0.944, val_loss=0.186, val_accuracy=0.942]\n",
      "Validating:  34%|███▍      | 10/29 [00:05<00:04,  4.27it/s]\u001b[A\n",
      "Epoch 101:  93%|█████████▎| 238/255 [02:46<00:11,  1.43it/s, loss=0.115, v_num=3, train_loss=0.149, train_accuracy=0.944, val_loss=0.186, val_accuracy=0.942]\n",
      "Validating:  41%|████▏     | 12/29 [00:05<00:03,  4.83it/s]\u001b[A\n",
      "Epoch 101:  94%|█████████▍| 240/255 [02:46<00:10,  1.44it/s, loss=0.115, v_num=3, train_loss=0.149, train_accuracy=0.944, val_loss=0.186, val_accuracy=0.942]\n",
      "Validating:  48%|████▊     | 14/29 [00:06<00:02,  5.12it/s]\u001b[A\n",
      "Epoch 101:  95%|█████████▍| 242/255 [02:47<00:08,  1.45it/s, loss=0.115, v_num=3, train_loss=0.149, train_accuracy=0.944, val_loss=0.186, val_accuracy=0.942]\n",
      "Validating:  55%|█████▌    | 16/29 [00:06<00:02,  5.27it/s]\u001b[A\n",
      "Epoch 101:  96%|█████████▌| 244/255 [02:47<00:07,  1.46it/s, loss=0.115, v_num=3, train_loss=0.149, train_accuracy=0.944, val_loss=0.186, val_accuracy=0.942]\n",
      "Validating:  62%|██████▏   | 18/29 [00:07<00:02,  5.37it/s]\u001b[A\n",
      "Epoch 101:  96%|█████████▋| 246/255 [02:47<00:06,  1.46it/s, loss=0.115, v_num=3, train_loss=0.149, train_accuracy=0.944, val_loss=0.186, val_accuracy=0.942]\n",
      "Validating:  69%|██████▉   | 20/29 [00:07<00:01,  5.36it/s]\u001b[A\n",
      "Epoch 101:  97%|█████████▋| 248/255 [02:48<00:04,  1.47it/s, loss=0.115, v_num=3, train_loss=0.149, train_accuracy=0.944, val_loss=0.186, val_accuracy=0.942]\n",
      "Validating:  76%|███████▌  | 22/29 [00:07<00:01,  5.37it/s]\u001b[A\n",
      "Epoch 101:  98%|█████████▊| 250/255 [02:48<00:03,  1.48it/s, loss=0.115, v_num=3, train_loss=0.149, train_accuracy=0.944, val_loss=0.186, val_accuracy=0.942]\n",
      "Validating:  83%|████████▎ | 24/29 [00:08<00:00,  5.46it/s]\u001b[A\n",
      "Epoch 101:  99%|█████████▉| 252/255 [02:49<00:02,  1.49it/s, loss=0.115, v_num=3, train_loss=0.149, train_accuracy=0.944, val_loss=0.186, val_accuracy=0.942]\n",
      "Validating:  90%|████████▉ | 26/29 [00:08<00:00,  5.38it/s]\u001b[A\n",
      "Epoch 101: 100%|█████████▉| 254/255 [02:49<00:00,  1.50it/s, loss=0.115, v_num=3, train_loss=0.149, train_accuracy=0.944, val_loss=0.186, val_accuracy=0.942]\n",
      "Validating:  97%|█████████▋| 28/29 [00:08<00:00,  5.41it/s]\u001b[A\n",
      "Epoch 101: 100%|██████████| 255/255 [02:50<00:00,  1.50it/s, loss=0.115, v_num=3, train_loss=0.149, train_accuracy=0.944, val_loss=0.198, val_accuracy=0.928]\n",
      "Epoch 101: 100%|██████████| 255/255 [02:50<00:00,  1.50it/s, loss=0.115, v_num=3, train_loss=0.149, train_accuracy=0.944, val_loss=0.198, val_accuracy=0.928]"
     ]
    },
    {
     "name": "stderr",
     "output_type": "stream",
     "text": [
      "Epoch 101, global step 23051: val_loss was not in top 2\n"
     ]
    },
    {
     "name": "stdout",
     "output_type": "stream",
     "text": [
      "Epoch 102:  89%|████████▊ | 226/255 [02:40<00:20,  1.41it/s, loss=0.0925, v_num=3, train_loss=0.0727, train_accuracy=0.944, val_loss=0.198, val_accuracy=0.928]\n",
      "Validating: 0it [00:00, ?it/s]\u001b[A\n",
      "Validating:   0%|          | 0/29 [00:00<?, ?it/s]\u001b[A\n",
      "Epoch 102:  89%|████████▉ | 228/255 [02:44<00:19,  1.39it/s, loss=0.0925, v_num=3, train_loss=0.0727, train_accuracy=0.944, val_loss=0.198, val_accuracy=0.928]\n",
      "Validating:   7%|▋         | 2/29 [00:04<00:45,  1.70s/it]\u001b[A\n",
      "Epoch 102:  90%|█████████ | 230/255 [02:44<00:17,  1.39it/s, loss=0.0925, v_num=3, train_loss=0.0727, train_accuracy=0.944, val_loss=0.198, val_accuracy=0.928]\n",
      "Validating:  14%|█▍        | 4/29 [00:04<00:17,  1.44it/s]\u001b[A\n",
      "Epoch 102:  91%|█████████ | 232/255 [02:45<00:16,  1.40it/s, loss=0.0925, v_num=3, train_loss=0.0727, train_accuracy=0.944, val_loss=0.198, val_accuracy=0.928]\n",
      "Validating:  21%|██        | 6/29 [00:04<00:09,  2.51it/s]\u001b[A\n",
      "Epoch 102:  92%|█████████▏| 234/255 [02:45<00:14,  1.41it/s, loss=0.0925, v_num=3, train_loss=0.0727, train_accuracy=0.944, val_loss=0.198, val_accuracy=0.928]\n",
      "Validating:  28%|██▊       | 8/29 [00:05<00:05,  3.52it/s]\u001b[A\n",
      "Epoch 102:  93%|█████████▎| 236/255 [02:46<00:13,  1.42it/s, loss=0.0925, v_num=3, train_loss=0.0727, train_accuracy=0.944, val_loss=0.198, val_accuracy=0.928]\n",
      "Validating:  34%|███▍      | 10/29 [00:05<00:04,  4.28it/s]\u001b[A\n",
      "Epoch 102:  93%|█████████▎| 238/255 [02:46<00:11,  1.43it/s, loss=0.0925, v_num=3, train_loss=0.0727, train_accuracy=0.944, val_loss=0.198, val_accuracy=0.928]\n",
      "Validating:  41%|████▏     | 12/29 [00:05<00:03,  4.76it/s]\u001b[A\n",
      "Epoch 102:  94%|█████████▍| 240/255 [02:46<00:10,  1.44it/s, loss=0.0925, v_num=3, train_loss=0.0727, train_accuracy=0.944, val_loss=0.198, val_accuracy=0.928]\n",
      "Validating:  48%|████▊     | 14/29 [00:06<00:02,  5.15it/s]\u001b[A\n",
      "Epoch 102:  95%|█████████▍| 242/255 [02:47<00:08,  1.45it/s, loss=0.0925, v_num=3, train_loss=0.0727, train_accuracy=0.944, val_loss=0.198, val_accuracy=0.928]\n",
      "Validating:  55%|█████▌    | 16/29 [00:06<00:02,  5.23it/s]\u001b[A\n",
      "Epoch 102:  96%|█████████▌| 244/255 [02:47<00:07,  1.46it/s, loss=0.0925, v_num=3, train_loss=0.0727, train_accuracy=0.944, val_loss=0.198, val_accuracy=0.928]\n",
      "Validating:  62%|██████▏   | 18/29 [00:07<00:02,  5.35it/s]\u001b[A\n",
      "Epoch 102:  96%|█████████▋| 246/255 [02:47<00:06,  1.46it/s, loss=0.0925, v_num=3, train_loss=0.0727, train_accuracy=0.944, val_loss=0.198, val_accuracy=0.928]\n",
      "Validating:  69%|██████▉   | 20/29 [00:07<00:01,  5.40it/s]\u001b[A\n",
      "Epoch 102:  97%|█████████▋| 248/255 [02:48<00:04,  1.47it/s, loss=0.0925, v_num=3, train_loss=0.0727, train_accuracy=0.944, val_loss=0.198, val_accuracy=0.928]\n",
      "Validating:  76%|███████▌  | 22/29 [00:07<00:01,  5.41it/s]\u001b[A\n",
      "Epoch 102:  98%|█████████▊| 250/255 [02:48<00:03,  1.48it/s, loss=0.0925, v_num=3, train_loss=0.0727, train_accuracy=0.944, val_loss=0.198, val_accuracy=0.928]\n",
      "Validating:  83%|████████▎ | 24/29 [00:08<00:00,  5.38it/s]\u001b[A\n",
      "Epoch 102:  99%|█████████▉| 252/255 [02:49<00:02,  1.49it/s, loss=0.0925, v_num=3, train_loss=0.0727, train_accuracy=0.944, val_loss=0.198, val_accuracy=0.928]\n",
      "Validating:  90%|████████▉ | 26/29 [00:08<00:00,  5.41it/s]\u001b[A\n",
      "Epoch 102: 100%|█████████▉| 254/255 [02:49<00:00,  1.50it/s, loss=0.0925, v_num=3, train_loss=0.0727, train_accuracy=0.944, val_loss=0.198, val_accuracy=0.928]\n",
      "Validating:  97%|█████████▋| 28/29 [00:08<00:00,  5.35it/s]\u001b[A\n",
      "Epoch 102: 100%|██████████| 255/255 [02:50<00:00,  1.50it/s, loss=0.0925, v_num=3, train_loss=0.0727, train_accuracy=0.944, val_loss=0.165, val_accuracy=0.947]\n",
      "Epoch 102: 100%|██████████| 255/255 [02:50<00:00,  1.50it/s, loss=0.0925, v_num=3, train_loss=0.0727, train_accuracy=0.944, val_loss=0.165, val_accuracy=0.947]"
     ]
    },
    {
     "name": "stderr",
     "output_type": "stream",
     "text": [
      "Epoch 102, global step 23277: val_loss was not in top 2\n"
     ]
    },
    {
     "name": "stdout",
     "output_type": "stream",
     "text": [
      "Epoch 103:  89%|████████▊ | 226/255 [02:39<00:20,  1.41it/s, loss=0.124, v_num=3, train_loss=0.0833, train_accuracy=1.000, val_loss=0.165, val_accuracy=0.947] \n",
      "Validating: 0it [00:00, ?it/s]\u001b[A\n",
      "Validating:   0%|          | 0/29 [00:00<?, ?it/s]\u001b[A\n",
      "Epoch 103:  89%|████████▉ | 228/255 [02:43<00:19,  1.39it/s, loss=0.124, v_num=3, train_loss=0.0833, train_accuracy=1.000, val_loss=0.165, val_accuracy=0.947]\n",
      "Validating:   7%|▋         | 2/29 [00:04<00:45,  1.68s/it]\u001b[A\n",
      "Epoch 103:  90%|█████████ | 230/255 [02:44<00:17,  1.40it/s, loss=0.124, v_num=3, train_loss=0.0833, train_accuracy=1.000, val_loss=0.165, val_accuracy=0.947]\n",
      "Validating:  14%|█▍        | 4/29 [00:04<00:17,  1.47it/s]\u001b[A\n",
      "Epoch 103:  91%|█████████ | 232/255 [02:44<00:16,  1.41it/s, loss=0.124, v_num=3, train_loss=0.0833, train_accuracy=1.000, val_loss=0.165, val_accuracy=0.947]\n",
      "Validating:  21%|██        | 6/29 [00:04<00:08,  2.56it/s]\u001b[A\n",
      "Epoch 103:  92%|█████████▏| 234/255 [02:44<00:14,  1.42it/s, loss=0.124, v_num=3, train_loss=0.0833, train_accuracy=1.000, val_loss=0.165, val_accuracy=0.947]\n",
      "Validating:  28%|██▊       | 8/29 [00:05<00:05,  3.61it/s]\u001b[A\n",
      "Epoch 103:  93%|█████████▎| 236/255 [02:45<00:13,  1.43it/s, loss=0.124, v_num=3, train_loss=0.0833, train_accuracy=1.000, val_loss=0.165, val_accuracy=0.947]\n",
      "Validating:  34%|███▍      | 10/29 [00:05<00:04,  4.34it/s]\u001b[A\n",
      "Epoch 103:  93%|█████████▎| 238/255 [02:45<00:11,  1.44it/s, loss=0.124, v_num=3, train_loss=0.0833, train_accuracy=1.000, val_loss=0.165, val_accuracy=0.947]\n",
      "Validating:  41%|████▏     | 12/29 [00:05<00:03,  4.90it/s]\u001b[A\n",
      "Epoch 103:  94%|█████████▍| 240/255 [02:45<00:10,  1.45it/s, loss=0.124, v_num=3, train_loss=0.0833, train_accuracy=1.000, val_loss=0.165, val_accuracy=0.947]\n",
      "Validating:  48%|████▊     | 14/29 [00:06<00:02,  5.24it/s]\u001b[A\n",
      "Epoch 103:  95%|█████████▍| 242/255 [02:46<00:08,  1.46it/s, loss=0.124, v_num=3, train_loss=0.0833, train_accuracy=1.000, val_loss=0.165, val_accuracy=0.947]\n",
      "Validating:  55%|█████▌    | 16/29 [00:06<00:02,  5.33it/s]\u001b[A\n",
      "Epoch 103:  96%|█████████▌| 244/255 [02:46<00:07,  1.46it/s, loss=0.124, v_num=3, train_loss=0.0833, train_accuracy=1.000, val_loss=0.165, val_accuracy=0.947]\n",
      "Validating:  62%|██████▏   | 18/29 [00:06<00:02,  5.49it/s]\u001b[A\n",
      "Epoch 103:  96%|█████████▋| 246/255 [02:46<00:06,  1.47it/s, loss=0.124, v_num=3, train_loss=0.0833, train_accuracy=1.000, val_loss=0.165, val_accuracy=0.947]\n",
      "Validating:  69%|██████▉   | 20/29 [00:07<00:01,  5.57it/s]\u001b[A\n",
      "Epoch 103:  97%|█████████▋| 248/255 [02:47<00:04,  1.48it/s, loss=0.124, v_num=3, train_loss=0.0833, train_accuracy=1.000, val_loss=0.165, val_accuracy=0.947]\n",
      "Validating:  76%|███████▌  | 22/29 [00:07<00:01,  5.63it/s]\u001b[A\n",
      "Epoch 103:  98%|█████████▊| 250/255 [02:47<00:03,  1.49it/s, loss=0.124, v_num=3, train_loss=0.0833, train_accuracy=1.000, val_loss=0.165, val_accuracy=0.947]\n",
      "Validating:  83%|████████▎ | 24/29 [00:07<00:00,  5.61it/s]\u001b[A\n",
      "Epoch 103:  99%|█████████▉| 252/255 [02:47<00:01,  1.50it/s, loss=0.124, v_num=3, train_loss=0.0833, train_accuracy=1.000, val_loss=0.165, val_accuracy=0.947]\n",
      "Validating:  90%|████████▉ | 26/29 [00:08<00:00,  5.62it/s]\u001b[A\n",
      "Epoch 103: 100%|█████████▉| 254/255 [02:48<00:00,  1.51it/s, loss=0.124, v_num=3, train_loss=0.0833, train_accuracy=1.000, val_loss=0.165, val_accuracy=0.947]\n",
      "Validating:  97%|█████████▋| 28/29 [00:08<00:00,  5.55it/s]\u001b[A\n",
      "Epoch 103: 100%|██████████| 255/255 [02:49<00:00,  1.51it/s, loss=0.124, v_num=3, train_loss=0.0833, train_accuracy=1.000, val_loss=0.238, val_accuracy=0.932]\n",
      "Epoch 103: 100%|██████████| 255/255 [02:49<00:00,  1.51it/s, loss=0.124, v_num=3, train_loss=0.0833, train_accuracy=1.000, val_loss=0.238, val_accuracy=0.932]"
     ]
    },
    {
     "name": "stderr",
     "output_type": "stream",
     "text": [
      "Epoch 103, global step 23503: val_loss was not in top 2\n"
     ]
    },
    {
     "name": "stdout",
     "output_type": "stream",
     "text": [
      "Epoch 104:  89%|████████▊ | 226/255 [02:38<00:20,  1.43it/s, loss=0.106, v_num=3, train_loss=0.122, train_accuracy=0.944, val_loss=0.238, val_accuracy=0.932]  \n",
      "Validating: 0it [00:00, ?it/s]\u001b[A\n",
      "Validating:   0%|          | 0/29 [00:00<?, ?it/s]\u001b[A\n",
      "Epoch 104:  89%|████████▉ | 228/255 [02:41<00:19,  1.41it/s, loss=0.106, v_num=3, train_loss=0.122, train_accuracy=0.944, val_loss=0.238, val_accuracy=0.932]\n",
      "Validating:   7%|▋         | 2/29 [00:04<00:45,  1.68s/it]\u001b[A\n",
      "Epoch 104:  90%|█████████ | 230/255 [02:42<00:17,  1.42it/s, loss=0.106, v_num=3, train_loss=0.122, train_accuracy=0.944, val_loss=0.238, val_accuracy=0.932]\n",
      "Validating:  14%|█▍        | 4/29 [00:04<00:16,  1.48it/s]\u001b[A\n",
      "Epoch 104:  91%|█████████ | 232/255 [02:42<00:16,  1.43it/s, loss=0.106, v_num=3, train_loss=0.122, train_accuracy=0.944, val_loss=0.238, val_accuracy=0.932]\n",
      "Validating:  21%|██        | 6/29 [00:04<00:08,  2.58it/s]\u001b[A\n",
      "Epoch 104:  92%|█████████▏| 234/255 [02:43<00:14,  1.44it/s, loss=0.106, v_num=3, train_loss=0.122, train_accuracy=0.944, val_loss=0.238, val_accuracy=0.932]\n",
      "Validating:  28%|██▊       | 8/29 [00:05<00:05,  3.66it/s]\u001b[A\n",
      "Epoch 104:  93%|█████████▎| 236/255 [02:43<00:13,  1.44it/s, loss=0.106, v_num=3, train_loss=0.122, train_accuracy=0.944, val_loss=0.238, val_accuracy=0.932]\n",
      "Validating:  34%|███▍      | 10/29 [00:05<00:04,  4.42it/s]\u001b[A\n",
      "Epoch 104:  93%|█████████▎| 238/255 [02:43<00:11,  1.45it/s, loss=0.106, v_num=3, train_loss=0.122, train_accuracy=0.944, val_loss=0.238, val_accuracy=0.932]\n",
      "Validating:  41%|████▏     | 12/29 [00:05<00:03,  4.91it/s]\u001b[A\n",
      "Epoch 104:  94%|█████████▍| 240/255 [02:44<00:10,  1.46it/s, loss=0.106, v_num=3, train_loss=0.122, train_accuracy=0.944, val_loss=0.238, val_accuracy=0.932]\n",
      "Validating:  48%|████▊     | 14/29 [00:06<00:02,  5.26it/s]\u001b[A\n",
      "Epoch 104:  95%|█████████▍| 242/255 [02:44<00:08,  1.47it/s, loss=0.106, v_num=3, train_loss=0.122, train_accuracy=0.944, val_loss=0.238, val_accuracy=0.932]\n",
      "Validating:  55%|█████▌    | 16/29 [00:06<00:02,  5.46it/s]\u001b[A\n",
      "Epoch 104:  96%|█████████▌| 244/255 [02:44<00:07,  1.48it/s, loss=0.106, v_num=3, train_loss=0.122, train_accuracy=0.944, val_loss=0.238, val_accuracy=0.932]\n",
      "Validating:  62%|██████▏   | 18/29 [00:06<00:01,  5.59it/s]\u001b[A\n",
      "Epoch 104:  96%|█████████▋| 246/255 [02:45<00:06,  1.49it/s, loss=0.106, v_num=3, train_loss=0.122, train_accuracy=0.944, val_loss=0.238, val_accuracy=0.932]\n",
      "Validating:  69%|██████▉   | 20/29 [00:07<00:01,  5.64it/s]\u001b[A\n",
      "Epoch 104:  97%|█████████▋| 248/255 [02:45<00:04,  1.50it/s, loss=0.106, v_num=3, train_loss=0.122, train_accuracy=0.944, val_loss=0.238, val_accuracy=0.932]\n",
      "Validating:  76%|███████▌  | 22/29 [00:07<00:01,  5.67it/s]\u001b[A\n",
      "Epoch 104:  98%|█████████▊| 250/255 [02:45<00:03,  1.51it/s, loss=0.106, v_num=3, train_loss=0.122, train_accuracy=0.944, val_loss=0.238, val_accuracy=0.932]\n",
      "Validating:  83%|████████▎ | 24/29 [00:07<00:00,  5.61it/s]\u001b[A\n",
      "Epoch 104:  99%|█████████▉| 252/255 [02:46<00:01,  1.52it/s, loss=0.106, v_num=3, train_loss=0.122, train_accuracy=0.944, val_loss=0.238, val_accuracy=0.932]\n",
      "Validating:  90%|████████▉ | 26/29 [00:08<00:00,  5.60it/s]\u001b[A\n",
      "Epoch 104: 100%|█████████▉| 254/255 [02:46<00:00,  1.52it/s, loss=0.106, v_num=3, train_loss=0.122, train_accuracy=0.944, val_loss=0.238, val_accuracy=0.932]\n",
      "Validating:  97%|█████████▋| 28/29 [00:08<00:00,  5.56it/s]\u001b[A\n",
      "Epoch 104: 100%|██████████| 255/255 [02:47<00:00,  1.52it/s, loss=0.106, v_num=3, train_loss=0.122, train_accuracy=0.944, val_loss=0.174, val_accuracy=0.939]\n",
      "Epoch 104: 100%|██████████| 255/255 [02:47<00:00,  1.52it/s, loss=0.106, v_num=3, train_loss=0.122, train_accuracy=0.944, val_loss=0.174, val_accuracy=0.939]"
     ]
    },
    {
     "name": "stderr",
     "output_type": "stream",
     "text": [
      "Epoch 104, global step 23729: val_loss was not in top 2\n"
     ]
    },
    {
     "name": "stdout",
     "output_type": "stream",
     "text": [
      "Epoch 105:  89%|████████▊ | 226/255 [02:38<00:20,  1.43it/s, loss=0.0752, v_num=3, train_loss=0.068, train_accuracy=0.944, val_loss=0.174, val_accuracy=0.939]  \n",
      "Validating: 0it [00:00, ?it/s]\u001b[A\n",
      "Validating:   0%|          | 0/29 [00:00<?, ?it/s]\u001b[A\n",
      "Epoch 105:  89%|████████▉ | 228/255 [02:41<00:19,  1.41it/s, loss=0.0752, v_num=3, train_loss=0.068, train_accuracy=0.944, val_loss=0.174, val_accuracy=0.939]\n",
      "Validating:   7%|▋         | 2/29 [00:04<00:45,  1.68s/it]\u001b[A\n",
      "Epoch 105:  90%|█████████ | 230/255 [02:42<00:17,  1.42it/s, loss=0.0752, v_num=3, train_loss=0.068, train_accuracy=0.944, val_loss=0.174, val_accuracy=0.939]\n",
      "Validating:  14%|█▍        | 4/29 [00:04<00:16,  1.47it/s]\u001b[A\n",
      "Epoch 105:  91%|█████████ | 232/255 [02:42<00:16,  1.43it/s, loss=0.0752, v_num=3, train_loss=0.068, train_accuracy=0.944, val_loss=0.174, val_accuracy=0.939]\n",
      "Validating:  21%|██        | 6/29 [00:04<00:09,  2.55it/s]\u001b[A\n",
      "Epoch 105:  92%|█████████▏| 234/255 [02:43<00:14,  1.44it/s, loss=0.0752, v_num=3, train_loss=0.068, train_accuracy=0.944, val_loss=0.174, val_accuracy=0.939]\n",
      "Validating:  28%|██▊       | 8/29 [00:05<00:05,  3.57it/s]\u001b[A\n",
      "Epoch 105:  93%|█████████▎| 236/255 [02:43<00:13,  1.44it/s, loss=0.0752, v_num=3, train_loss=0.068, train_accuracy=0.944, val_loss=0.174, val_accuracy=0.939]\n",
      "Validating:  34%|███▍      | 10/29 [00:05<00:04,  4.47it/s]\u001b[A\n",
      "Epoch 105:  93%|█████████▎| 238/255 [02:43<00:11,  1.45it/s, loss=0.0752, v_num=3, train_loss=0.068, train_accuracy=0.944, val_loss=0.174, val_accuracy=0.939]\n",
      "Validating:  41%|████▏     | 12/29 [00:05<00:03,  5.02it/s]\u001b[A\n",
      "Epoch 105:  94%|█████████▍| 240/255 [02:44<00:10,  1.46it/s, loss=0.0752, v_num=3, train_loss=0.068, train_accuracy=0.944, val_loss=0.174, val_accuracy=0.939]\n",
      "Validating:  48%|████▊     | 14/29 [00:06<00:02,  5.30it/s]\u001b[A\n",
      "Epoch 105:  95%|█████████▍| 242/255 [02:44<00:08,  1.47it/s, loss=0.0752, v_num=3, train_loss=0.068, train_accuracy=0.944, val_loss=0.174, val_accuracy=0.939]\n",
      "Validating:  55%|█████▌    | 16/29 [00:06<00:02,  5.41it/s]\u001b[A\n",
      "Epoch 105:  96%|█████████▌| 244/255 [02:44<00:07,  1.48it/s, loss=0.0752, v_num=3, train_loss=0.068, train_accuracy=0.944, val_loss=0.174, val_accuracy=0.939]\n",
      "Validating:  62%|██████▏   | 18/29 [00:06<00:01,  5.53it/s]\u001b[A\n",
      "Epoch 105:  96%|█████████▋| 246/255 [02:45<00:06,  1.49it/s, loss=0.0752, v_num=3, train_loss=0.068, train_accuracy=0.944, val_loss=0.174, val_accuracy=0.939]\n",
      "Validating:  69%|██████▉   | 20/29 [00:07<00:01,  5.60it/s]\u001b[A\n",
      "Epoch 105:  97%|█████████▋| 248/255 [02:45<00:04,  1.50it/s, loss=0.0752, v_num=3, train_loss=0.068, train_accuracy=0.944, val_loss=0.174, val_accuracy=0.939]\n",
      "Validating:  76%|███████▌  | 22/29 [00:07<00:01,  5.62it/s]\u001b[A\n",
      "Epoch 105:  98%|█████████▊| 250/255 [02:45<00:03,  1.51it/s, loss=0.0752, v_num=3, train_loss=0.068, train_accuracy=0.944, val_loss=0.174, val_accuracy=0.939]\n",
      "Validating:  83%|████████▎ | 24/29 [00:07<00:00,  5.65it/s]\u001b[A\n",
      "Epoch 105:  99%|█████████▉| 252/255 [02:46<00:01,  1.52it/s, loss=0.0752, v_num=3, train_loss=0.068, train_accuracy=0.944, val_loss=0.174, val_accuracy=0.939]\n",
      "Validating:  90%|████████▉ | 26/29 [00:08<00:00,  5.57it/s]\u001b[A\n",
      "Epoch 105: 100%|█████████▉| 254/255 [02:46<00:00,  1.52it/s, loss=0.0752, v_num=3, train_loss=0.068, train_accuracy=0.944, val_loss=0.174, val_accuracy=0.939]\n",
      "Validating:  97%|█████████▋| 28/29 [00:08<00:00,  5.55it/s]\u001b[A\n",
      "Epoch 105: 100%|██████████| 255/255 [02:47<00:00,  1.52it/s, loss=0.0752, v_num=3, train_loss=0.068, train_accuracy=0.944, val_loss=0.162, val_accuracy=0.952]\n",
      "Epoch 105: 100%|██████████| 255/255 [02:47<00:00,  1.52it/s, loss=0.0752, v_num=3, train_loss=0.068, train_accuracy=0.944, val_loss=0.162, val_accuracy=0.952]"
     ]
    },
    {
     "name": "stderr",
     "output_type": "stream",
     "text": [
      "Epoch 105, global step 23955: val_loss was not in top 2\n"
     ]
    },
    {
     "name": "stdout",
     "output_type": "stream",
     "text": [
      "Epoch 106:  89%|████████▊ | 226/255 [02:38<00:20,  1.43it/s, loss=0.0771, v_num=3, train_loss=0.0237, train_accuracy=1.000, val_loss=0.162, val_accuracy=0.952]\n",
      "Validating: 0it [00:00, ?it/s]\u001b[A\n",
      "Validating:   0%|          | 0/29 [00:00<?, ?it/s]\u001b[A\n",
      "Epoch 106:  89%|████████▉ | 228/255 [02:42<00:19,  1.41it/s, loss=0.0771, v_num=3, train_loss=0.0237, train_accuracy=1.000, val_loss=0.162, val_accuracy=0.952]\n",
      "Validating:   7%|▋         | 2/29 [00:03<00:44,  1.66s/it]\u001b[A\n",
      "Epoch 106:  90%|█████████ | 230/255 [02:42<00:17,  1.42it/s, loss=0.0771, v_num=3, train_loss=0.0237, train_accuracy=1.000, val_loss=0.162, val_accuracy=0.952]\n",
      "Validating:  14%|█▍        | 4/29 [00:04<00:16,  1.49it/s]\u001b[A\n",
      "Epoch 106:  91%|█████████ | 232/255 [02:42<00:16,  1.42it/s, loss=0.0771, v_num=3, train_loss=0.0237, train_accuracy=1.000, val_loss=0.162, val_accuracy=0.952]\n",
      "Validating:  21%|██        | 6/29 [00:04<00:09,  2.55it/s]\u001b[A\n",
      "Epoch 106:  92%|█████████▏| 234/255 [02:43<00:14,  1.43it/s, loss=0.0771, v_num=3, train_loss=0.0237, train_accuracy=1.000, val_loss=0.162, val_accuracy=0.952]\n",
      "Validating:  28%|██▊       | 8/29 [00:05<00:05,  3.59it/s]\u001b[A\n",
      "Epoch 106:  93%|█████████▎| 236/255 [02:43<00:13,  1.44it/s, loss=0.0771, v_num=3, train_loss=0.0237, train_accuracy=1.000, val_loss=0.162, val_accuracy=0.952]\n",
      "Validating:  34%|███▍      | 10/29 [00:05<00:04,  4.46it/s]\u001b[A\n",
      "Epoch 106:  93%|█████████▎| 238/255 [02:43<00:11,  1.45it/s, loss=0.0771, v_num=3, train_loss=0.0237, train_accuracy=1.000, val_loss=0.162, val_accuracy=0.952]\n",
      "Validating:  41%|████▏     | 12/29 [00:05<00:03,  4.99it/s]\u001b[A\n",
      "Epoch 106:  94%|█████████▍| 240/255 [02:44<00:10,  1.46it/s, loss=0.0771, v_num=3, train_loss=0.0237, train_accuracy=1.000, val_loss=0.162, val_accuracy=0.952]\n",
      "Validating:  48%|████▊     | 14/29 [00:06<00:02,  5.25it/s]\u001b[A\n",
      "Epoch 106:  95%|█████████▍| 242/255 [02:44<00:08,  1.47it/s, loss=0.0771, v_num=3, train_loss=0.0237, train_accuracy=1.000, val_loss=0.162, val_accuracy=0.952]\n",
      "Validating:  55%|█████▌    | 16/29 [00:06<00:02,  5.50it/s]\u001b[A\n",
      "Epoch 106:  96%|█████████▌| 244/255 [02:44<00:07,  1.48it/s, loss=0.0771, v_num=3, train_loss=0.0237, train_accuracy=1.000, val_loss=0.162, val_accuracy=0.952]\n",
      "Validating:  62%|██████▏   | 18/29 [00:06<00:01,  5.51it/s]\u001b[A\n",
      "Epoch 106:  96%|█████████▋| 246/255 [02:45<00:06,  1.49it/s, loss=0.0771, v_num=3, train_loss=0.0237, train_accuracy=1.000, val_loss=0.162, val_accuracy=0.952]\n",
      "Validating:  69%|██████▉   | 20/29 [00:07<00:01,  5.59it/s]\u001b[A\n",
      "Epoch 106:  97%|█████████▋| 248/255 [02:45<00:04,  1.50it/s, loss=0.0771, v_num=3, train_loss=0.0237, train_accuracy=1.000, val_loss=0.162, val_accuracy=0.952]\n",
      "Validating:  76%|███████▌  | 22/29 [00:07<00:01,  5.57it/s]\u001b[A\n",
      "Epoch 106:  98%|█████████▊| 250/255 [02:46<00:03,  1.51it/s, loss=0.0771, v_num=3, train_loss=0.0237, train_accuracy=1.000, val_loss=0.162, val_accuracy=0.952]\n",
      "Validating:  83%|████████▎ | 24/29 [00:07<00:00,  5.67it/s]\u001b[A\n",
      "Epoch 106:  99%|█████████▉| 252/255 [02:46<00:01,  1.51it/s, loss=0.0771, v_num=3, train_loss=0.0237, train_accuracy=1.000, val_loss=0.162, val_accuracy=0.952]\n",
      "Validating:  90%|████████▉ | 26/29 [00:08<00:00,  5.68it/s]\u001b[A\n",
      "Epoch 106: 100%|█████████▉| 254/255 [02:46<00:00,  1.52it/s, loss=0.0771, v_num=3, train_loss=0.0237, train_accuracy=1.000, val_loss=0.162, val_accuracy=0.952]\n",
      "Validating:  97%|█████████▋| 28/29 [00:08<00:00,  5.67it/s]\u001b[A\n",
      "Epoch 106: 100%|██████████| 255/255 [02:47<00:00,  1.52it/s, loss=0.0771, v_num=3, train_loss=0.0237, train_accuracy=1.000, val_loss=0.179, val_accuracy=0.950]\n",
      "Epoch 106: 100%|██████████| 255/255 [02:47<00:00,  1.52it/s, loss=0.0771, v_num=3, train_loss=0.0237, train_accuracy=1.000, val_loss=0.179, val_accuracy=0.950]"
     ]
    },
    {
     "name": "stderr",
     "output_type": "stream",
     "text": [
      "Epoch 106, global step 24181: val_loss was not in top 2\n"
     ]
    },
    {
     "name": "stdout",
     "output_type": "stream",
     "text": [
      "Epoch 107:  89%|████████▊ | 226/255 [02:37<00:20,  1.43it/s, loss=0.0729, v_num=3, train_loss=0.198, train_accuracy=0.889, val_loss=0.179, val_accuracy=0.950]  \n",
      "Validating: 0it [00:00, ?it/s]\u001b[A\n",
      "Validating:   0%|          | 0/29 [00:00<?, ?it/s]\u001b[A\n",
      "Epoch 107:  89%|████████▉ | 228/255 [02:41<00:19,  1.41it/s, loss=0.0729, v_num=3, train_loss=0.198, train_accuracy=0.889, val_loss=0.179, val_accuracy=0.950]\n",
      "Validating:   7%|▋         | 2/29 [00:03<00:44,  1.65s/it]\u001b[A\n",
      "Epoch 107:  90%|█████████ | 230/255 [02:42<00:17,  1.42it/s, loss=0.0729, v_num=3, train_loss=0.198, train_accuracy=0.889, val_loss=0.179, val_accuracy=0.950]\n",
      "Validating:  14%|█▍        | 4/29 [00:04<00:16,  1.50it/s]\u001b[A\n",
      "Epoch 107:  91%|█████████ | 232/255 [02:42<00:16,  1.43it/s, loss=0.0729, v_num=3, train_loss=0.198, train_accuracy=0.889, val_loss=0.179, val_accuracy=0.950]\n",
      "Validating:  21%|██        | 6/29 [00:04<00:08,  2.61it/s]\u001b[A\n",
      "Epoch 107:  92%|█████████▏| 234/255 [02:42<00:14,  1.44it/s, loss=0.0729, v_num=3, train_loss=0.198, train_accuracy=0.889, val_loss=0.179, val_accuracy=0.950]\n",
      "Validating:  28%|██▊       | 8/29 [00:05<00:05,  3.69it/s]\u001b[A\n",
      "Epoch 107:  93%|█████████▎| 236/255 [02:43<00:13,  1.45it/s, loss=0.0729, v_num=3, train_loss=0.198, train_accuracy=0.889, val_loss=0.179, val_accuracy=0.950]\n",
      "Validating:  34%|███▍      | 10/29 [00:05<00:04,  4.42it/s]\u001b[A\n",
      "Epoch 107:  93%|█████████▎| 238/255 [02:43<00:11,  1.46it/s, loss=0.0729, v_num=3, train_loss=0.198, train_accuracy=0.889, val_loss=0.179, val_accuracy=0.950]\n",
      "Validating:  41%|████▏     | 12/29 [00:05<00:03,  4.94it/s]\u001b[A\n",
      "Epoch 107:  94%|█████████▍| 240/255 [02:43<00:10,  1.46it/s, loss=0.0729, v_num=3, train_loss=0.198, train_accuracy=0.889, val_loss=0.179, val_accuracy=0.950]\n",
      "Validating:  48%|████▊     | 14/29 [00:06<00:02,  5.33it/s]\u001b[A\n",
      "Epoch 107:  95%|█████████▍| 242/255 [02:44<00:08,  1.47it/s, loss=0.0729, v_num=3, train_loss=0.198, train_accuracy=0.889, val_loss=0.179, val_accuracy=0.950]\n",
      "Validating:  55%|█████▌    | 16/29 [00:06<00:02,  5.34it/s]\u001b[A\n",
      "Epoch 107:  96%|█████████▌| 244/255 [02:44<00:07,  1.48it/s, loss=0.0729, v_num=3, train_loss=0.198, train_accuracy=0.889, val_loss=0.179, val_accuracy=0.950]\n",
      "Validating:  62%|██████▏   | 18/29 [00:06<00:02,  5.49it/s]\u001b[A\n",
      "Epoch 107:  96%|█████████▋| 246/255 [02:44<00:06,  1.49it/s, loss=0.0729, v_num=3, train_loss=0.198, train_accuracy=0.889, val_loss=0.179, val_accuracy=0.950]\n",
      "Validating:  69%|██████▉   | 20/29 [00:07<00:01,  5.59it/s]\u001b[A\n",
      "Epoch 107:  97%|█████████▋| 248/255 [02:45<00:04,  1.50it/s, loss=0.0729, v_num=3, train_loss=0.198, train_accuracy=0.889, val_loss=0.179, val_accuracy=0.950]\n",
      "Validating:  76%|███████▌  | 22/29 [00:07<00:01,  5.54it/s]\u001b[A\n",
      "Epoch 107:  98%|█████████▊| 250/255 [02:45<00:03,  1.51it/s, loss=0.0729, v_num=3, train_loss=0.198, train_accuracy=0.889, val_loss=0.179, val_accuracy=0.950]\n",
      "Validating:  83%|████████▎ | 24/29 [00:07<00:00,  5.49it/s]\u001b[A\n",
      "Epoch 107:  99%|█████████▉| 252/255 [02:46<00:01,  1.52it/s, loss=0.0729, v_num=3, train_loss=0.198, train_accuracy=0.889, val_loss=0.179, val_accuracy=0.950]\n",
      "Validating:  90%|████████▉ | 26/29 [00:08<00:00,  5.52it/s]\u001b[A\n",
      "Epoch 107: 100%|█████████▉| 254/255 [02:46<00:00,  1.53it/s, loss=0.0729, v_num=3, train_loss=0.198, train_accuracy=0.889, val_loss=0.179, val_accuracy=0.950]\n",
      "Validating:  97%|█████████▋| 28/29 [00:08<00:00,  5.42it/s]\u001b[A\n",
      "Epoch 107: 100%|██████████| 255/255 [02:47<00:00,  1.52it/s, loss=0.0729, v_num=3, train_loss=0.198, train_accuracy=0.889, val_loss=0.175, val_accuracy=0.947]\n",
      "Epoch 107: 100%|██████████| 255/255 [02:47<00:00,  1.52it/s, loss=0.0729, v_num=3, train_loss=0.198, train_accuracy=0.889, val_loss=0.175, val_accuracy=0.947]"
     ]
    },
    {
     "name": "stderr",
     "output_type": "stream",
     "text": [
      "Epoch 107, global step 24407: val_loss was not in top 2\n"
     ]
    },
    {
     "name": "stdout",
     "output_type": "stream",
     "text": [
      "Epoch 108:  89%|████████▊ | 226/255 [02:36<00:20,  1.44it/s, loss=0.0833, v_num=3, train_loss=0.130, train_accuracy=0.944, val_loss=0.175, val_accuracy=0.947]  \n",
      "Validating: 0it [00:00, ?it/s]\u001b[A\n",
      "Validating:   0%|          | 0/29 [00:00<?, ?it/s]\u001b[A\n",
      "Epoch 108:  89%|████████▉ | 228/255 [02:40<00:19,  1.42it/s, loss=0.0833, v_num=3, train_loss=0.130, train_accuracy=0.944, val_loss=0.175, val_accuracy=0.947]\n",
      "Validating:   7%|▋         | 2/29 [00:03<00:44,  1.64s/it]\u001b[A\n",
      "Epoch 108:  90%|█████████ | 230/255 [02:41<00:17,  1.43it/s, loss=0.0833, v_num=3, train_loss=0.130, train_accuracy=0.944, val_loss=0.175, val_accuracy=0.947]\n",
      "Validating:  14%|█▍        | 4/29 [00:04<00:16,  1.52it/s]\u001b[A\n",
      "Epoch 108:  91%|█████████ | 232/255 [02:41<00:16,  1.44it/s, loss=0.0833, v_num=3, train_loss=0.130, train_accuracy=0.944, val_loss=0.175, val_accuracy=0.947]\n",
      "Validating:  21%|██        | 6/29 [00:04<00:08,  2.58it/s]\u001b[A\n",
      "Epoch 108:  92%|█████████▏| 234/255 [02:41<00:14,  1.45it/s, loss=0.0833, v_num=3, train_loss=0.130, train_accuracy=0.944, val_loss=0.175, val_accuracy=0.947]\n",
      "Validating:  28%|██▊       | 8/29 [00:04<00:05,  3.67it/s]\u001b[A\n",
      "Epoch 108:  93%|█████████▎| 236/255 [02:42<00:13,  1.46it/s, loss=0.0833, v_num=3, train_loss=0.130, train_accuracy=0.944, val_loss=0.175, val_accuracy=0.947]\n",
      "Validating:  34%|███▍      | 10/29 [00:05<00:04,  4.52it/s]\u001b[A\n",
      "Epoch 108:  93%|█████████▎| 238/255 [02:42<00:11,  1.46it/s, loss=0.0833, v_num=3, train_loss=0.130, train_accuracy=0.944, val_loss=0.175, val_accuracy=0.947]\n",
      "Validating:  41%|████▏     | 12/29 [00:05<00:03,  4.92it/s]\u001b[A\n",
      "Epoch 108:  94%|█████████▍| 240/255 [02:42<00:10,  1.47it/s, loss=0.0833, v_num=3, train_loss=0.130, train_accuracy=0.944, val_loss=0.175, val_accuracy=0.947]\n",
      "Validating:  48%|████▊     | 14/29 [00:06<00:02,  5.30it/s]\u001b[A\n",
      "Epoch 108:  95%|█████████▍| 242/255 [02:43<00:08,  1.48it/s, loss=0.0833, v_num=3, train_loss=0.130, train_accuracy=0.944, val_loss=0.175, val_accuracy=0.947]\n",
      "Validating:  55%|█████▌    | 16/29 [00:06<00:02,  5.46it/s]\u001b[A\n",
      "Epoch 108:  96%|█████████▌| 244/255 [02:43<00:07,  1.49it/s, loss=0.0833, v_num=3, train_loss=0.130, train_accuracy=0.944, val_loss=0.175, val_accuracy=0.947]\n",
      "Validating:  62%|██████▏   | 18/29 [00:06<00:02,  5.42it/s]\u001b[A\n",
      "Epoch 108:  96%|█████████▋| 246/255 [02:43<00:05,  1.50it/s, loss=0.0833, v_num=3, train_loss=0.130, train_accuracy=0.944, val_loss=0.175, val_accuracy=0.947]\n",
      "Validating:  69%|██████▉   | 20/29 [00:07<00:01,  5.48it/s]\u001b[A\n",
      "Epoch 108:  97%|█████████▋| 248/255 [02:44<00:04,  1.51it/s, loss=0.0833, v_num=3, train_loss=0.130, train_accuracy=0.944, val_loss=0.175, val_accuracy=0.947]\n",
      "Validating:  76%|███████▌  | 22/29 [00:07<00:01,  5.55it/s]\u001b[A\n",
      "Epoch 108:  98%|█████████▊| 250/255 [02:44<00:03,  1.52it/s, loss=0.0833, v_num=3, train_loss=0.130, train_accuracy=0.944, val_loss=0.175, val_accuracy=0.947]\n",
      "Validating:  83%|████████▎ | 24/29 [00:07<00:00,  5.53it/s]\u001b[A\n",
      "Epoch 108:  99%|█████████▉| 252/255 [02:45<00:01,  1.53it/s, loss=0.0833, v_num=3, train_loss=0.130, train_accuracy=0.944, val_loss=0.175, val_accuracy=0.947]\n",
      "Validating:  90%|████████▉ | 26/29 [00:08<00:00,  5.56it/s]\u001b[A\n",
      "Epoch 108: 100%|█████████▉| 254/255 [02:45<00:00,  1.54it/s, loss=0.0833, v_num=3, train_loss=0.130, train_accuracy=0.944, val_loss=0.175, val_accuracy=0.947]\n",
      "Validating:  97%|█████████▋| 28/29 [00:08<00:00,  5.52it/s]\u001b[A\n",
      "Epoch 108: 100%|██████████| 255/255 [02:46<00:00,  1.53it/s, loss=0.0833, v_num=3, train_loss=0.130, train_accuracy=0.944, val_loss=0.176, val_accuracy=0.950]\n",
      "Epoch 108: 100%|██████████| 255/255 [02:46<00:00,  1.53it/s, loss=0.0833, v_num=3, train_loss=0.130, train_accuracy=0.944, val_loss=0.176, val_accuracy=0.950]"
     ]
    },
    {
     "name": "stderr",
     "output_type": "stream",
     "text": [
      "Epoch 108, global step 24633: val_loss was not in top 2\n"
     ]
    },
    {
     "name": "stdout",
     "output_type": "stream",
     "text": [
      "Epoch 109:  89%|████████▊ | 226/255 [02:38<00:20,  1.43it/s, loss=0.0904, v_num=3, train_loss=0.144, train_accuracy=0.889, val_loss=0.176, val_accuracy=0.950]  \n",
      "Validating: 0it [00:00, ?it/s]\u001b[A\n",
      "Validating:   0%|          | 0/29 [00:00<?, ?it/s]\u001b[A\n",
      "Epoch 109:  89%|████████▉ | 228/255 [02:41<00:19,  1.41it/s, loss=0.0904, v_num=3, train_loss=0.144, train_accuracy=0.889, val_loss=0.176, val_accuracy=0.950]\n",
      "Validating:   7%|▋         | 2/29 [00:04<00:45,  1.69s/it]\u001b[A\n",
      "Epoch 109:  90%|█████████ | 230/255 [02:42<00:17,  1.42it/s, loss=0.0904, v_num=3, train_loss=0.144, train_accuracy=0.889, val_loss=0.176, val_accuracy=0.950]\n",
      "Validating:  14%|█▍        | 4/29 [00:04<00:17,  1.47it/s]\u001b[A\n",
      "Epoch 109:  91%|█████████ | 232/255 [02:42<00:16,  1.43it/s, loss=0.0904, v_num=3, train_loss=0.144, train_accuracy=0.889, val_loss=0.176, val_accuracy=0.950]\n",
      "Validating:  21%|██        | 6/29 [00:04<00:09,  2.52it/s]\u001b[A\n",
      "Epoch 109:  92%|█████████▏| 234/255 [02:43<00:14,  1.43it/s, loss=0.0904, v_num=3, train_loss=0.144, train_accuracy=0.889, val_loss=0.176, val_accuracy=0.950]\n",
      "Validating:  28%|██▊       | 8/29 [00:05<00:05,  3.60it/s]\u001b[A\n",
      "Epoch 109:  93%|█████████▎| 236/255 [02:43<00:13,  1.44it/s, loss=0.0904, v_num=3, train_loss=0.144, train_accuracy=0.889, val_loss=0.176, val_accuracy=0.950]\n",
      "Validating:  34%|███▍      | 10/29 [00:05<00:04,  4.47it/s]\u001b[A\n",
      "Epoch 109:  93%|█████████▎| 238/255 [02:43<00:11,  1.45it/s, loss=0.0904, v_num=3, train_loss=0.144, train_accuracy=0.889, val_loss=0.176, val_accuracy=0.950]\n",
      "Validating:  41%|████▏     | 12/29 [00:05<00:03,  4.90it/s]\u001b[A\n",
      "Epoch 109:  94%|█████████▍| 240/255 [02:44<00:10,  1.46it/s, loss=0.0904, v_num=3, train_loss=0.144, train_accuracy=0.889, val_loss=0.176, val_accuracy=0.950]\n",
      "Validating:  48%|████▊     | 14/29 [00:06<00:02,  5.20it/s]\u001b[A\n",
      "Epoch 109:  95%|█████████▍| 242/255 [02:44<00:08,  1.47it/s, loss=0.0904, v_num=3, train_loss=0.144, train_accuracy=0.889, val_loss=0.176, val_accuracy=0.950]\n",
      "Validating:  55%|█████▌    | 16/29 [00:06<00:02,  5.37it/s]\u001b[A\n",
      "Epoch 109:  96%|█████████▌| 244/255 [02:44<00:07,  1.48it/s, loss=0.0904, v_num=3, train_loss=0.144, train_accuracy=0.889, val_loss=0.176, val_accuracy=0.950]\n",
      "Validating:  62%|██████▏   | 18/29 [00:06<00:02,  5.45it/s]\u001b[A\n",
      "Epoch 109:  96%|█████████▋| 246/255 [02:45<00:06,  1.49it/s, loss=0.0904, v_num=3, train_loss=0.144, train_accuracy=0.889, val_loss=0.176, val_accuracy=0.950]\n",
      "Validating:  69%|██████▉   | 20/29 [00:07<00:01,  5.54it/s]\u001b[A\n",
      "Epoch 109:  97%|█████████▋| 248/255 [02:45<00:04,  1.50it/s, loss=0.0904, v_num=3, train_loss=0.144, train_accuracy=0.889, val_loss=0.176, val_accuracy=0.950]\n",
      "Validating:  76%|███████▌  | 22/29 [00:07<00:01,  5.56it/s]\u001b[A\n",
      "Epoch 109:  98%|█████████▊| 250/255 [02:45<00:03,  1.51it/s, loss=0.0904, v_num=3, train_loss=0.144, train_accuracy=0.889, val_loss=0.176, val_accuracy=0.950]\n",
      "Validating:  83%|████████▎ | 24/29 [00:08<00:00,  5.53it/s]\u001b[A\n",
      "Epoch 109:  99%|█████████▉| 252/255 [02:46<00:01,  1.52it/s, loss=0.0904, v_num=3, train_loss=0.144, train_accuracy=0.889, val_loss=0.176, val_accuracy=0.950]\n",
      "Validating:  90%|████████▉ | 26/29 [00:08<00:00,  5.55it/s]\u001b[A\n",
      "Epoch 109: 100%|█████████▉| 254/255 [02:46<00:00,  1.52it/s, loss=0.0904, v_num=3, train_loss=0.144, train_accuracy=0.889, val_loss=0.176, val_accuracy=0.950]\n",
      "Validating:  97%|█████████▋| 28/29 [00:08<00:00,  5.54it/s]\u001b[A\n",
      "Epoch 109: 100%|██████████| 255/255 [02:47<00:00,  1.52it/s, loss=0.0904, v_num=3, train_loss=0.144, train_accuracy=0.889, val_loss=0.188, val_accuracy=0.942]\n",
      "Epoch 109: 100%|██████████| 255/255 [02:47<00:00,  1.52it/s, loss=0.0904, v_num=3, train_loss=0.144, train_accuracy=0.889, val_loss=0.188, val_accuracy=0.942]"
     ]
    },
    {
     "name": "stderr",
     "output_type": "stream",
     "text": [
      "Epoch 109, global step 24859: val_loss was not in top 2\n"
     ]
    },
    {
     "name": "stdout",
     "output_type": "stream",
     "text": [
      "Epoch 110:  89%|████████▊ | 226/255 [02:38<00:20,  1.43it/s, loss=0.0777, v_num=3, train_loss=0.0684, train_accuracy=0.944, val_loss=0.188, val_accuracy=0.942] \n",
      "Validating: 0it [00:00, ?it/s]\u001b[A\n",
      "Validating:   0%|          | 0/29 [00:00<?, ?it/s]\u001b[A\n",
      "Epoch 110:  89%|████████▉ | 228/255 [02:42<00:19,  1.41it/s, loss=0.0777, v_num=3, train_loss=0.0684, train_accuracy=0.944, val_loss=0.188, val_accuracy=0.942]\n",
      "Validating:   7%|▋         | 2/29 [00:03<00:45,  1.68s/it]\u001b[A\n",
      "Epoch 110:  90%|█████████ | 230/255 [02:42<00:17,  1.41it/s, loss=0.0777, v_num=3, train_loss=0.0684, train_accuracy=0.944, val_loss=0.188, val_accuracy=0.942]\n",
      "Validating:  14%|█▍        | 4/29 [00:04<00:16,  1.49it/s]\u001b[A\n",
      "Epoch 110:  91%|█████████ | 232/255 [02:42<00:16,  1.42it/s, loss=0.0777, v_num=3, train_loss=0.0684, train_accuracy=0.944, val_loss=0.188, val_accuracy=0.942]\n",
      "Validating:  21%|██        | 6/29 [00:04<00:08,  2.58it/s]\u001b[A\n",
      "Epoch 110:  92%|█████████▏| 234/255 [02:43<00:14,  1.43it/s, loss=0.0777, v_num=3, train_loss=0.0684, train_accuracy=0.944, val_loss=0.188, val_accuracy=0.942]\n",
      "Validating:  28%|██▊       | 8/29 [00:05<00:05,  3.63it/s]\u001b[A\n",
      "Epoch 110:  93%|█████████▎| 236/255 [02:43<00:13,  1.44it/s, loss=0.0777, v_num=3, train_loss=0.0684, train_accuracy=0.944, val_loss=0.188, val_accuracy=0.942]\n",
      "Validating:  34%|███▍      | 10/29 [00:05<00:04,  4.44it/s]\u001b[A\n",
      "Epoch 110:  93%|█████████▎| 238/255 [02:44<00:11,  1.45it/s, loss=0.0777, v_num=3, train_loss=0.0684, train_accuracy=0.944, val_loss=0.188, val_accuracy=0.942]\n",
      "Validating:  41%|████▏     | 12/29 [00:05<00:03,  5.01it/s]\u001b[A\n",
      "Epoch 110:  94%|█████████▍| 240/255 [02:44<00:10,  1.46it/s, loss=0.0777, v_num=3, train_loss=0.0684, train_accuracy=0.944, val_loss=0.188, val_accuracy=0.942]\n",
      "Validating:  48%|████▊     | 14/29 [00:06<00:02,  5.33it/s]\u001b[A\n",
      "Epoch 110:  95%|█████████▍| 242/255 [02:44<00:08,  1.47it/s, loss=0.0777, v_num=3, train_loss=0.0684, train_accuracy=0.944, val_loss=0.188, val_accuracy=0.942]\n",
      "Validating:  55%|█████▌    | 16/29 [00:06<00:02,  5.50it/s]\u001b[A\n",
      "Epoch 110:  96%|█████████▌| 244/255 [02:45<00:07,  1.48it/s, loss=0.0777, v_num=3, train_loss=0.0684, train_accuracy=0.944, val_loss=0.188, val_accuracy=0.942]\n",
      "Validating:  62%|██████▏   | 18/29 [00:06<00:01,  5.58it/s]\u001b[A\n",
      "Epoch 110:  96%|█████████▋| 246/255 [02:45<00:06,  1.49it/s, loss=0.0777, v_num=3, train_loss=0.0684, train_accuracy=0.944, val_loss=0.188, val_accuracy=0.942]\n",
      "Validating:  69%|██████▉   | 20/29 [00:07<00:01,  5.57it/s]\u001b[A\n",
      "Epoch 110:  97%|█████████▋| 248/255 [02:45<00:04,  1.50it/s, loss=0.0777, v_num=3, train_loss=0.0684, train_accuracy=0.944, val_loss=0.188, val_accuracy=0.942]\n",
      "Validating:  76%|███████▌  | 22/29 [00:07<00:01,  5.66it/s]\u001b[A\n",
      "Epoch 110:  98%|█████████▊| 250/255 [02:46<00:03,  1.50it/s, loss=0.0777, v_num=3, train_loss=0.0684, train_accuracy=0.944, val_loss=0.188, val_accuracy=0.942]\n",
      "Validating:  83%|████████▎ | 24/29 [00:07<00:00,  5.62it/s]\u001b[A\n",
      "Epoch 110:  99%|█████████▉| 252/255 [02:46<00:01,  1.51it/s, loss=0.0777, v_num=3, train_loss=0.0684, train_accuracy=0.944, val_loss=0.188, val_accuracy=0.942]\n",
      "Validating:  90%|████████▉ | 26/29 [00:08<00:00,  5.49it/s]\u001b[A\n",
      "Epoch 110: 100%|█████████▉| 254/255 [02:46<00:00,  1.52it/s, loss=0.0777, v_num=3, train_loss=0.0684, train_accuracy=0.944, val_loss=0.188, val_accuracy=0.942]\n",
      "Validating:  97%|█████████▋| 28/29 [00:08<00:00,  5.51it/s]\u001b[A\n",
      "Epoch 110: 100%|██████████| 255/255 [02:47<00:00,  1.52it/s, loss=0.0777, v_num=3, train_loss=0.0684, train_accuracy=0.944, val_loss=0.207, val_accuracy=0.943]\n",
      "Epoch 110: 100%|██████████| 255/255 [02:47<00:00,  1.52it/s, loss=0.0777, v_num=3, train_loss=0.0684, train_accuracy=0.944, val_loss=0.207, val_accuracy=0.943]"
     ]
    },
    {
     "name": "stderr",
     "output_type": "stream",
     "text": [
      "Epoch 110, global step 25085: val_loss was not in top 2\n"
     ]
    },
    {
     "name": "stdout",
     "output_type": "stream",
     "text": [
      "Epoch 111:  89%|████████▊ | 226/255 [02:37<00:20,  1.43it/s, loss=0.0613, v_num=3, train_loss=0.0538, train_accuracy=1.000, val_loss=0.207, val_accuracy=0.943] \n",
      "Validating: 0it [00:00, ?it/s]\u001b[A\n",
      "Validating:   0%|          | 0/29 [00:00<?, ?it/s]\u001b[A\n",
      "Epoch 111:  89%|████████▉ | 228/255 [02:41<00:19,  1.41it/s, loss=0.0613, v_num=3, train_loss=0.0538, train_accuracy=1.000, val_loss=0.207, val_accuracy=0.943]\n",
      "Validating:   7%|▋         | 2/29 [00:03<00:45,  1.68s/it]\u001b[A\n",
      "Epoch 111:  90%|█████████ | 230/255 [02:42<00:17,  1.42it/s, loss=0.0613, v_num=3, train_loss=0.0538, train_accuracy=1.000, val_loss=0.207, val_accuracy=0.943]\n",
      "Validating:  14%|█▍        | 4/29 [00:04<00:16,  1.48it/s]\u001b[A\n",
      "Epoch 111:  91%|█████████ | 232/255 [02:42<00:16,  1.43it/s, loss=0.0613, v_num=3, train_loss=0.0538, train_accuracy=1.000, val_loss=0.207, val_accuracy=0.943]\n",
      "Validating:  21%|██        | 6/29 [00:04<00:08,  2.60it/s]\u001b[A\n",
      "Epoch 111:  92%|█████████▏| 234/255 [02:42<00:14,  1.44it/s, loss=0.0613, v_num=3, train_loss=0.0538, train_accuracy=1.000, val_loss=0.207, val_accuracy=0.943]\n",
      "Validating:  28%|██▊       | 8/29 [00:05<00:05,  3.65it/s]\u001b[A\n",
      "Epoch 111:  93%|█████████▎| 236/255 [02:43<00:13,  1.45it/s, loss=0.0613, v_num=3, train_loss=0.0538, train_accuracy=1.000, val_loss=0.207, val_accuracy=0.943]\n",
      "Validating:  34%|███▍      | 10/29 [00:05<00:04,  4.46it/s]\u001b[A\n",
      "Epoch 111:  93%|█████████▎| 238/255 [02:43<00:11,  1.46it/s, loss=0.0613, v_num=3, train_loss=0.0538, train_accuracy=1.000, val_loss=0.207, val_accuracy=0.943]\n",
      "Validating:  41%|████▏     | 12/29 [00:05<00:03,  4.99it/s]\u001b[A\n",
      "Epoch 111:  94%|█████████▍| 240/255 [02:43<00:10,  1.46it/s, loss=0.0613, v_num=3, train_loss=0.0538, train_accuracy=1.000, val_loss=0.207, val_accuracy=0.943]\n",
      "Validating:  48%|████▊     | 14/29 [00:06<00:02,  5.31it/s]\u001b[A\n",
      "Epoch 111:  95%|█████████▍| 242/255 [02:44<00:08,  1.47it/s, loss=0.0613, v_num=3, train_loss=0.0538, train_accuracy=1.000, val_loss=0.207, val_accuracy=0.943]\n",
      "Validating:  55%|█████▌    | 16/29 [00:06<00:02,  5.53it/s]\u001b[A\n",
      "Epoch 111:  96%|█████████▌| 244/255 [02:44<00:07,  1.48it/s, loss=0.0613, v_num=3, train_loss=0.0538, train_accuracy=1.000, val_loss=0.207, val_accuracy=0.943]\n",
      "Validating:  62%|██████▏   | 18/29 [00:06<00:01,  5.59it/s]\u001b[A\n",
      "Epoch 111:  96%|█████████▋| 246/255 [02:44<00:06,  1.49it/s, loss=0.0613, v_num=3, train_loss=0.0538, train_accuracy=1.000, val_loss=0.207, val_accuracy=0.943]\n",
      "Validating:  69%|██████▉   | 20/29 [00:07<00:01,  5.61it/s]\u001b[A\n",
      "Epoch 111:  97%|█████████▋| 248/255 [02:45<00:04,  1.50it/s, loss=0.0613, v_num=3, train_loss=0.0538, train_accuracy=1.000, val_loss=0.207, val_accuracy=0.943]\n",
      "Validating:  76%|███████▌  | 22/29 [00:07<00:01,  5.62it/s]\u001b[A\n",
      "Epoch 111:  98%|█████████▊| 250/255 [02:45<00:03,  1.51it/s, loss=0.0613, v_num=3, train_loss=0.0538, train_accuracy=1.000, val_loss=0.207, val_accuracy=0.943]\n",
      "Validating:  83%|████████▎ | 24/29 [00:07<00:00,  5.60it/s]\u001b[A\n",
      "Epoch 111:  99%|█████████▉| 252/255 [02:45<00:01,  1.52it/s, loss=0.0613, v_num=3, train_loss=0.0538, train_accuracy=1.000, val_loss=0.207, val_accuracy=0.943]\n",
      "Validating:  90%|████████▉ | 26/29 [00:08<00:00,  5.58it/s]\u001b[A\n",
      "Epoch 111: 100%|█████████▉| 254/255 [02:46<00:00,  1.53it/s, loss=0.0613, v_num=3, train_loss=0.0538, train_accuracy=1.000, val_loss=0.207, val_accuracy=0.943]\n",
      "Validating:  97%|█████████▋| 28/29 [00:08<00:00,  5.56it/s]\u001b[A\n",
      "Epoch 111: 100%|██████████| 255/255 [02:47<00:00,  1.52it/s, loss=0.0613, v_num=3, train_loss=0.0538, train_accuracy=1.000, val_loss=0.163, val_accuracy=0.955]\n",
      "Epoch 111: 100%|██████████| 255/255 [02:47<00:00,  1.52it/s, loss=0.0613, v_num=3, train_loss=0.0538, train_accuracy=1.000, val_loss=0.163, val_accuracy=0.955]"
     ]
    },
    {
     "name": "stderr",
     "output_type": "stream",
     "text": [
      "Epoch 111, global step 25311: val_loss was not in top 2\n"
     ]
    },
    {
     "name": "stdout",
     "output_type": "stream",
     "text": [
      "Epoch 112:  89%|████████▊ | 226/255 [02:37<00:20,  1.43it/s, loss=0.0558, v_num=3, train_loss=0.0334, train_accuracy=1.000, val_loss=0.163, val_accuracy=0.955] \n",
      "Validating: 0it [00:00, ?it/s]\u001b[A\n",
      "Validating:   0%|          | 0/29 [00:00<?, ?it/s]\u001b[A\n",
      "Epoch 112:  89%|████████▉ | 228/255 [02:41<00:19,  1.41it/s, loss=0.0558, v_num=3, train_loss=0.0334, train_accuracy=1.000, val_loss=0.163, val_accuracy=0.955]\n",
      "Validating:   7%|▋         | 2/29 [00:04<00:46,  1.71s/it]\u001b[A\n",
      "Epoch 112:  90%|█████████ | 230/255 [02:42<00:17,  1.42it/s, loss=0.0558, v_num=3, train_loss=0.0334, train_accuracy=1.000, val_loss=0.163, val_accuracy=0.955]\n",
      "Validating:  14%|█▍        | 4/29 [00:04<00:17,  1.46it/s]\u001b[A\n",
      "Epoch 112:  91%|█████████ | 232/255 [02:42<00:16,  1.43it/s, loss=0.0558, v_num=3, train_loss=0.0334, train_accuracy=1.000, val_loss=0.163, val_accuracy=0.955]\n",
      "Validating:  21%|██        | 6/29 [00:04<00:08,  2.56it/s]\u001b[A\n",
      "Epoch 112:  92%|█████████▏| 234/255 [02:42<00:14,  1.44it/s, loss=0.0558, v_num=3, train_loss=0.0334, train_accuracy=1.000, val_loss=0.163, val_accuracy=0.955]\n",
      "Validating:  28%|██▊       | 8/29 [00:05<00:05,  3.63it/s]\u001b[A\n",
      "Epoch 112:  93%|█████████▎| 236/255 [02:43<00:13,  1.45it/s, loss=0.0558, v_num=3, train_loss=0.0334, train_accuracy=1.000, val_loss=0.163, val_accuracy=0.955]\n",
      "Validating:  34%|███▍      | 10/29 [00:05<00:04,  4.39it/s]\u001b[A\n",
      "Epoch 112:  93%|█████████▎| 238/255 [02:43<00:11,  1.45it/s, loss=0.0558, v_num=3, train_loss=0.0334, train_accuracy=1.000, val_loss=0.163, val_accuracy=0.955]\n",
      "Validating:  41%|████▏     | 12/29 [00:05<00:03,  4.97it/s]\u001b[A\n",
      "Epoch 112:  94%|█████████▍| 240/255 [02:44<00:10,  1.46it/s, loss=0.0558, v_num=3, train_loss=0.0334, train_accuracy=1.000, val_loss=0.163, val_accuracy=0.955]\n",
      "Validating:  48%|████▊     | 14/29 [00:06<00:02,  5.21it/s]\u001b[A\n",
      "Epoch 112:  95%|█████████▍| 242/255 [02:44<00:08,  1.47it/s, loss=0.0558, v_num=3, train_loss=0.0334, train_accuracy=1.000, val_loss=0.163, val_accuracy=0.955]\n",
      "Validating:  55%|█████▌    | 16/29 [00:06<00:02,  5.44it/s]\u001b[A\n",
      "Epoch 112:  96%|█████████▌| 244/255 [02:44<00:07,  1.48it/s, loss=0.0558, v_num=3, train_loss=0.0334, train_accuracy=1.000, val_loss=0.163, val_accuracy=0.955]\n",
      "Validating:  62%|██████▏   | 18/29 [00:06<00:01,  5.58it/s]\u001b[A\n",
      "Epoch 112:  96%|█████████▋| 246/255 [02:45<00:06,  1.49it/s, loss=0.0558, v_num=3, train_loss=0.0334, train_accuracy=1.000, val_loss=0.163, val_accuracy=0.955]\n",
      "Validating:  69%|██████▉   | 20/29 [00:07<00:01,  5.63it/s]\u001b[A\n",
      "Epoch 112:  97%|█████████▋| 248/255 [02:45<00:04,  1.50it/s, loss=0.0558, v_num=3, train_loss=0.0334, train_accuracy=1.000, val_loss=0.163, val_accuracy=0.955]\n",
      "Validating:  76%|███████▌  | 22/29 [00:07<00:01,  5.68it/s]\u001b[A\n",
      "Epoch 112:  98%|█████████▊| 250/255 [02:45<00:03,  1.51it/s, loss=0.0558, v_num=3, train_loss=0.0334, train_accuracy=1.000, val_loss=0.163, val_accuracy=0.955]\n",
      "Validating:  83%|████████▎ | 24/29 [00:07<00:00,  5.62it/s]\u001b[A\n",
      "Epoch 112:  99%|█████████▉| 252/255 [02:46<00:01,  1.52it/s, loss=0.0558, v_num=3, train_loss=0.0334, train_accuracy=1.000, val_loss=0.163, val_accuracy=0.955]\n",
      "Validating:  90%|████████▉ | 26/29 [00:08<00:00,  5.60it/s]\u001b[A\n",
      "Epoch 112: 100%|█████████▉| 254/255 [02:46<00:00,  1.53it/s, loss=0.0558, v_num=3, train_loss=0.0334, train_accuracy=1.000, val_loss=0.163, val_accuracy=0.955]\n",
      "Validating:  97%|█████████▋| 28/29 [00:08<00:00,  5.61it/s]\u001b[A\n",
      "Epoch 112: 100%|██████████| 255/255 [02:47<00:00,  1.52it/s, loss=0.0558, v_num=3, train_loss=0.0334, train_accuracy=1.000, val_loss=0.170, val_accuracy=0.955]\n",
      "Epoch 112: 100%|██████████| 255/255 [02:47<00:00,  1.52it/s, loss=0.0558, v_num=3, train_loss=0.0334, train_accuracy=1.000, val_loss=0.170, val_accuracy=0.955]"
     ]
    },
    {
     "name": "stderr",
     "output_type": "stream",
     "text": [
      "Epoch 112, global step 25537: val_loss was not in top 2\n"
     ]
    },
    {
     "name": "stdout",
     "output_type": "stream",
     "text": [
      "Epoch 113:  89%|████████▊ | 226/255 [02:37<00:20,  1.43it/s, loss=0.0687, v_num=3, train_loss=0.0325, train_accuracy=1.000, val_loss=0.170, val_accuracy=0.955] \n",
      "Validating: 0it [00:00, ?it/s]\u001b[A\n",
      "Validating:   0%|          | 0/29 [00:00<?, ?it/s]\u001b[A\n",
      "Epoch 113:  89%|████████▉ | 228/255 [02:41<00:19,  1.41it/s, loss=0.0687, v_num=3, train_loss=0.0325, train_accuracy=1.000, val_loss=0.170, val_accuracy=0.955]\n",
      "Validating:   7%|▋         | 2/29 [00:04<00:45,  1.69s/it]\u001b[A\n",
      "Epoch 113:  90%|█████████ | 230/255 [02:42<00:17,  1.42it/s, loss=0.0687, v_num=3, train_loss=0.0325, train_accuracy=1.000, val_loss=0.170, val_accuracy=0.955]\n",
      "Validating:  14%|█▍        | 4/29 [00:04<00:16,  1.48it/s]\u001b[A\n",
      "Epoch 113:  91%|█████████ | 232/255 [02:42<00:16,  1.43it/s, loss=0.0687, v_num=3, train_loss=0.0325, train_accuracy=1.000, val_loss=0.170, val_accuracy=0.955]\n",
      "Validating:  21%|██        | 6/29 [00:04<00:09,  2.55it/s]\u001b[A\n",
      "Epoch 113:  92%|█████████▏| 234/255 [02:42<00:14,  1.44it/s, loss=0.0687, v_num=3, train_loss=0.0325, train_accuracy=1.000, val_loss=0.170, val_accuracy=0.955]\n",
      "Validating:  28%|██▊       | 8/29 [00:05<00:05,  3.53it/s]\u001b[A\n",
      "Epoch 113:  93%|█████████▎| 236/255 [02:43<00:13,  1.45it/s, loss=0.0687, v_num=3, train_loss=0.0325, train_accuracy=1.000, val_loss=0.170, val_accuracy=0.955]\n",
      "Validating:  34%|███▍      | 10/29 [00:05<00:04,  4.40it/s]\u001b[A\n",
      "Epoch 113:  93%|█████████▎| 238/255 [02:43<00:11,  1.46it/s, loss=0.0687, v_num=3, train_loss=0.0325, train_accuracy=1.000, val_loss=0.170, val_accuracy=0.955]\n",
      "Validating:  41%|████▏     | 12/29 [00:05<00:03,  4.95it/s]\u001b[A\n",
      "Epoch 113:  94%|█████████▍| 240/255 [02:43<00:10,  1.46it/s, loss=0.0687, v_num=3, train_loss=0.0325, train_accuracy=1.000, val_loss=0.170, val_accuracy=0.955]\n",
      "Validating:  48%|████▊     | 14/29 [00:06<00:02,  5.27it/s]\u001b[A\n",
      "Epoch 113:  95%|█████████▍| 242/255 [02:44<00:08,  1.47it/s, loss=0.0687, v_num=3, train_loss=0.0325, train_accuracy=1.000, val_loss=0.170, val_accuracy=0.955]\n",
      "Validating:  55%|█████▌    | 16/29 [00:06<00:02,  5.46it/s]\u001b[A\n",
      "Epoch 113:  96%|█████████▌| 244/255 [02:44<00:07,  1.48it/s, loss=0.0687, v_num=3, train_loss=0.0325, train_accuracy=1.000, val_loss=0.170, val_accuracy=0.955]\n",
      "Validating:  62%|██████▏   | 18/29 [00:06<00:01,  5.56it/s]\u001b[A\n",
      "Epoch 113:  96%|█████████▋| 246/255 [02:44<00:06,  1.49it/s, loss=0.0687, v_num=3, train_loss=0.0325, train_accuracy=1.000, val_loss=0.170, val_accuracy=0.955]\n",
      "Validating:  69%|██████▉   | 20/29 [00:07<00:01,  5.59it/s]\u001b[A\n",
      "Epoch 113:  97%|█████████▋| 248/255 [02:45<00:04,  1.50it/s, loss=0.0687, v_num=3, train_loss=0.0325, train_accuracy=1.000, val_loss=0.170, val_accuracy=0.955]\n",
      "Validating:  76%|███████▌  | 22/29 [00:07<00:01,  5.65it/s]\u001b[A\n",
      "Epoch 113:  98%|█████████▊| 250/255 [02:45<00:03,  1.51it/s, loss=0.0687, v_num=3, train_loss=0.0325, train_accuracy=1.000, val_loss=0.170, val_accuracy=0.955]\n",
      "Validating:  83%|████████▎ | 24/29 [00:07<00:00,  5.68it/s]\u001b[A\n",
      "Epoch 113:  99%|█████████▉| 252/255 [02:45<00:01,  1.52it/s, loss=0.0687, v_num=3, train_loss=0.0325, train_accuracy=1.000, val_loss=0.170, val_accuracy=0.955]\n",
      "Validating:  90%|████████▉ | 26/29 [00:08<00:00,  5.63it/s]\u001b[A\n",
      "Epoch 113: 100%|█████████▉| 254/255 [02:46<00:00,  1.53it/s, loss=0.0687, v_num=3, train_loss=0.0325, train_accuracy=1.000, val_loss=0.170, val_accuracy=0.955]\n",
      "Validating:  97%|█████████▋| 28/29 [00:08<00:00,  5.61it/s]\u001b[A\n",
      "Epoch 113: 100%|██████████| 255/255 [02:47<00:00,  1.52it/s, loss=0.0687, v_num=3, train_loss=0.0325, train_accuracy=1.000, val_loss=0.174, val_accuracy=0.948]\n",
      "Epoch 113: 100%|██████████| 255/255 [02:47<00:00,  1.52it/s, loss=0.0687, v_num=3, train_loss=0.0325, train_accuracy=1.000, val_loss=0.174, val_accuracy=0.948]"
     ]
    },
    {
     "name": "stderr",
     "output_type": "stream",
     "text": [
      "Epoch 113, global step 25763: val_loss was not in top 2\n"
     ]
    },
    {
     "name": "stdout",
     "output_type": "stream",
     "text": [
      "Epoch 114:  89%|████████▊ | 226/255 [02:38<00:20,  1.43it/s, loss=0.0543, v_num=3, train_loss=0.0183, train_accuracy=1.000, val_loss=0.174, val_accuracy=0.948] \n",
      "Validating: 0it [00:00, ?it/s]\u001b[A\n",
      "Validating:   0%|          | 0/29 [00:00<?, ?it/s]\u001b[A\n",
      "Epoch 114:  89%|████████▉ | 228/255 [02:42<00:19,  1.41it/s, loss=0.0543, v_num=3, train_loss=0.0183, train_accuracy=1.000, val_loss=0.174, val_accuracy=0.948]\n",
      "Validating:   7%|▋         | 2/29 [00:03<00:44,  1.65s/it]\u001b[A\n",
      "Epoch 114:  90%|█████████ | 230/255 [02:42<00:17,  1.42it/s, loss=0.0543, v_num=3, train_loss=0.0183, train_accuracy=1.000, val_loss=0.174, val_accuracy=0.948]\n",
      "Validating:  14%|█▍        | 4/29 [00:04<00:16,  1.50it/s]\u001b[A\n",
      "Epoch 114:  91%|█████████ | 232/255 [02:42<00:16,  1.43it/s, loss=0.0543, v_num=3, train_loss=0.0183, train_accuracy=1.000, val_loss=0.174, val_accuracy=0.948]\n",
      "Validating:  21%|██        | 6/29 [00:04<00:08,  2.57it/s]\u001b[A\n",
      "Epoch 114:  92%|█████████▏| 234/255 [02:43<00:14,  1.43it/s, loss=0.0543, v_num=3, train_loss=0.0183, train_accuracy=1.000, val_loss=0.174, val_accuracy=0.948]\n",
      "Validating:  28%|██▊       | 8/29 [00:05<00:05,  3.67it/s]\u001b[A\n",
      "Epoch 114:  93%|█████████▎| 236/255 [02:43<00:13,  1.44it/s, loss=0.0543, v_num=3, train_loss=0.0183, train_accuracy=1.000, val_loss=0.174, val_accuracy=0.948]\n",
      "Validating:  34%|███▍      | 10/29 [00:05<00:04,  4.41it/s]\u001b[A\n",
      "Epoch 114:  93%|█████████▎| 238/255 [02:43<00:11,  1.45it/s, loss=0.0543, v_num=3, train_loss=0.0183, train_accuracy=1.000, val_loss=0.174, val_accuracy=0.948]\n",
      "Validating:  41%|████▏     | 12/29 [00:05<00:03,  4.99it/s]\u001b[A\n",
      "Epoch 114:  94%|█████████▍| 240/255 [02:44<00:10,  1.46it/s, loss=0.0543, v_num=3, train_loss=0.0183, train_accuracy=1.000, val_loss=0.174, val_accuracy=0.948]\n",
      "Validating:  48%|████▊     | 14/29 [00:06<00:02,  5.31it/s]\u001b[A\n",
      "Epoch 114:  95%|█████████▍| 242/255 [02:44<00:08,  1.47it/s, loss=0.0543, v_num=3, train_loss=0.0183, train_accuracy=1.000, val_loss=0.174, val_accuracy=0.948]\n",
      "Validating:  55%|█████▌    | 16/29 [00:06<00:02,  5.44it/s]\u001b[A\n",
      "Epoch 114:  96%|█████████▌| 244/255 [02:44<00:07,  1.48it/s, loss=0.0543, v_num=3, train_loss=0.0183, train_accuracy=1.000, val_loss=0.174, val_accuracy=0.948]\n",
      "Validating:  62%|██████▏   | 18/29 [00:06<00:01,  5.56it/s]\u001b[A\n",
      "Epoch 114:  96%|█████████▋| 246/255 [02:45<00:06,  1.49it/s, loss=0.0543, v_num=3, train_loss=0.0183, train_accuracy=1.000, val_loss=0.174, val_accuracy=0.948]\n",
      "Validating:  69%|██████▉   | 20/29 [00:07<00:01,  5.58it/s]\u001b[A\n",
      "Epoch 114:  97%|█████████▋| 248/255 [02:45<00:04,  1.50it/s, loss=0.0543, v_num=3, train_loss=0.0183, train_accuracy=1.000, val_loss=0.174, val_accuracy=0.948]\n",
      "Validating:  76%|███████▌  | 22/29 [00:07<00:01,  5.63it/s]\u001b[A\n",
      "Epoch 114:  98%|█████████▊| 250/255 [02:45<00:03,  1.51it/s, loss=0.0543, v_num=3, train_loss=0.0183, train_accuracy=1.000, val_loss=0.174, val_accuracy=0.948]\n",
      "Validating:  83%|████████▎ | 24/29 [00:07<00:00,  5.60it/s]\u001b[A\n",
      "Epoch 114:  99%|█████████▉| 252/255 [02:46<00:01,  1.52it/s, loss=0.0543, v_num=3, train_loss=0.0183, train_accuracy=1.000, val_loss=0.174, val_accuracy=0.948]\n",
      "Validating:  90%|████████▉ | 26/29 [00:08<00:00,  5.63it/s]\u001b[A\n",
      "Epoch 114: 100%|█████████▉| 254/255 [02:46<00:00,  1.52it/s, loss=0.0543, v_num=3, train_loss=0.0183, train_accuracy=1.000, val_loss=0.174, val_accuracy=0.948]\n",
      "Validating:  97%|█████████▋| 28/29 [00:08<00:00,  5.57it/s]\u001b[A\n",
      "Epoch 114: 100%|██████████| 255/255 [02:47<00:00,  1.52it/s, loss=0.0543, v_num=3, train_loss=0.0183, train_accuracy=1.000, val_loss=0.172, val_accuracy=0.950]\n",
      "Epoch 114: 100%|██████████| 255/255 [02:47<00:00,  1.52it/s, loss=0.0543, v_num=3, train_loss=0.0183, train_accuracy=1.000, val_loss=0.172, val_accuracy=0.950]"
     ]
    },
    {
     "name": "stderr",
     "output_type": "stream",
     "text": [
      "Epoch 114, global step 25989: val_loss was not in top 2\n"
     ]
    },
    {
     "name": "stdout",
     "output_type": "stream",
     "text": [
      "Epoch 115:  89%|████████▊ | 226/255 [02:38<00:20,  1.43it/s, loss=0.0423, v_num=3, train_loss=0.0471, train_accuracy=1.000, val_loss=0.172, val_accuracy=0.950] \n",
      "Validating: 0it [00:00, ?it/s]\u001b[A\n",
      "Validating:   0%|          | 0/29 [00:00<?, ?it/s]\u001b[A\n",
      "Epoch 115:  89%|████████▉ | 228/255 [02:41<00:19,  1.41it/s, loss=0.0423, v_num=3, train_loss=0.0471, train_accuracy=1.000, val_loss=0.172, val_accuracy=0.950]\n",
      "Validating:   7%|▋         | 2/29 [00:03<00:44,  1.66s/it]\u001b[A\n",
      "Epoch 115:  90%|█████████ | 230/255 [02:42<00:17,  1.42it/s, loss=0.0423, v_num=3, train_loss=0.0471, train_accuracy=1.000, val_loss=0.172, val_accuracy=0.950]\n",
      "Validating:  14%|█▍        | 4/29 [00:04<00:16,  1.49it/s]\u001b[A\n",
      "Epoch 115:  91%|█████████ | 232/255 [02:42<00:16,  1.43it/s, loss=0.0423, v_num=3, train_loss=0.0471, train_accuracy=1.000, val_loss=0.172, val_accuracy=0.950]\n",
      "Validating:  21%|██        | 6/29 [00:04<00:09,  2.55it/s]\u001b[A\n",
      "Epoch 115:  92%|█████████▏| 234/255 [02:43<00:14,  1.44it/s, loss=0.0423, v_num=3, train_loss=0.0471, train_accuracy=1.000, val_loss=0.172, val_accuracy=0.950]\n",
      "Validating:  28%|██▊       | 8/29 [00:05<00:05,  3.65it/s]\u001b[A\n",
      "Epoch 115:  93%|█████████▎| 236/255 [02:43<00:13,  1.44it/s, loss=0.0423, v_num=3, train_loss=0.0471, train_accuracy=1.000, val_loss=0.172, val_accuracy=0.950]\n",
      "Validating:  34%|███▍      | 10/29 [00:05<00:04,  4.45it/s]\u001b[A\n",
      "Epoch 115:  93%|█████████▎| 238/255 [02:43<00:11,  1.45it/s, loss=0.0423, v_num=3, train_loss=0.0471, train_accuracy=1.000, val_loss=0.172, val_accuracy=0.950]\n",
      "Validating:  41%|████▏     | 12/29 [00:05<00:03,  5.00it/s]\u001b[A\n",
      "Epoch 115:  94%|█████████▍| 240/255 [02:44<00:10,  1.46it/s, loss=0.0423, v_num=3, train_loss=0.0471, train_accuracy=1.000, val_loss=0.172, val_accuracy=0.950]\n",
      "Validating:  48%|████▊     | 14/29 [00:06<00:02,  5.29it/s]\u001b[A\n",
      "Epoch 115:  95%|█████████▍| 242/255 [02:44<00:08,  1.47it/s, loss=0.0423, v_num=3, train_loss=0.0471, train_accuracy=1.000, val_loss=0.172, val_accuracy=0.950]\n",
      "Validating:  55%|█████▌    | 16/29 [00:06<00:02,  5.48it/s]\u001b[A\n",
      "Epoch 115:  96%|█████████▌| 244/255 [02:44<00:07,  1.48it/s, loss=0.0423, v_num=3, train_loss=0.0471, train_accuracy=1.000, val_loss=0.172, val_accuracy=0.950]\n",
      "Validating:  62%|██████▏   | 18/29 [00:06<00:01,  5.55it/s]\u001b[A\n",
      "Epoch 115:  96%|█████████▋| 246/255 [02:45<00:06,  1.49it/s, loss=0.0423, v_num=3, train_loss=0.0471, train_accuracy=1.000, val_loss=0.172, val_accuracy=0.950]\n",
      "Validating:  69%|██████▉   | 20/29 [00:07<00:01,  5.61it/s]\u001b[A\n",
      "Epoch 115:  97%|█████████▋| 248/255 [02:45<00:04,  1.50it/s, loss=0.0423, v_num=3, train_loss=0.0471, train_accuracy=1.000, val_loss=0.172, val_accuracy=0.950]\n",
      "Validating:  76%|███████▌  | 22/29 [00:07<00:01,  5.59it/s]\u001b[A\n",
      "Epoch 115:  98%|█████████▊| 250/255 [02:45<00:03,  1.51it/s, loss=0.0423, v_num=3, train_loss=0.0471, train_accuracy=1.000, val_loss=0.172, val_accuracy=0.950]\n",
      "Validating:  83%|████████▎ | 24/29 [00:07<00:00,  5.62it/s]\u001b[A\n",
      "Epoch 115:  99%|█████████▉| 252/255 [02:46<00:01,  1.52it/s, loss=0.0423, v_num=3, train_loss=0.0471, train_accuracy=1.000, val_loss=0.172, val_accuracy=0.950]\n",
      "Validating:  90%|████████▉ | 26/29 [00:08<00:00,  5.62it/s]\u001b[A\n",
      "Epoch 115: 100%|█████████▉| 254/255 [02:46<00:00,  1.52it/s, loss=0.0423, v_num=3, train_loss=0.0471, train_accuracy=1.000, val_loss=0.172, val_accuracy=0.950]\n",
      "Validating:  97%|█████████▋| 28/29 [00:08<00:00,  5.58it/s]\u001b[A\n",
      "Epoch 115: 100%|██████████| 255/255 [02:47<00:00,  1.52it/s, loss=0.0423, v_num=3, train_loss=0.0471, train_accuracy=1.000, val_loss=0.241, val_accuracy=0.937]\n",
      "Epoch 115: 100%|██████████| 255/255 [02:47<00:00,  1.52it/s, loss=0.0423, v_num=3, train_loss=0.0471, train_accuracy=1.000, val_loss=0.241, val_accuracy=0.937]"
     ]
    },
    {
     "name": "stderr",
     "output_type": "stream",
     "text": [
      "Epoch 115, global step 26215: val_loss was not in top 2\n"
     ]
    },
    {
     "name": "stdout",
     "output_type": "stream",
     "text": [
      "Epoch 116:  89%|████████▊ | 226/255 [02:37<00:20,  1.43it/s, loss=0.0668, v_num=3, train_loss=0.00728, train_accuracy=1.000, val_loss=0.241, val_accuracy=0.937]\n",
      "Validating: 0it [00:00, ?it/s]\u001b[A\n",
      "Validating:   0%|          | 0/29 [00:00<?, ?it/s]\u001b[A\n",
      "Epoch 116:  89%|████████▉ | 228/255 [02:41<00:19,  1.41it/s, loss=0.0668, v_num=3, train_loss=0.00728, train_accuracy=1.000, val_loss=0.241, val_accuracy=0.937]\n",
      "Validating:   7%|▋         | 2/29 [00:03<00:44,  1.66s/it]\u001b[A\n",
      "Epoch 116:  90%|█████████ | 230/255 [02:42<00:17,  1.42it/s, loss=0.0668, v_num=3, train_loss=0.00728, train_accuracy=1.000, val_loss=0.241, val_accuracy=0.937]\n",
      "Validating:  14%|█▍        | 4/29 [00:04<00:16,  1.49it/s]\u001b[A\n",
      "Epoch 116:  91%|█████████ | 232/255 [02:42<00:16,  1.43it/s, loss=0.0668, v_num=3, train_loss=0.00728, train_accuracy=1.000, val_loss=0.241, val_accuracy=0.937]\n",
      "Validating:  21%|██        | 6/29 [00:04<00:08,  2.59it/s]\u001b[A\n",
      "Epoch 116:  92%|█████████▏| 234/255 [02:42<00:14,  1.44it/s, loss=0.0668, v_num=3, train_loss=0.00728, train_accuracy=1.000, val_loss=0.241, val_accuracy=0.937]\n",
      "Validating:  28%|██▊       | 8/29 [00:05<00:05,  3.67it/s]\u001b[A\n",
      "Epoch 116:  93%|█████████▎| 236/255 [02:43<00:13,  1.45it/s, loss=0.0668, v_num=3, train_loss=0.00728, train_accuracy=1.000, val_loss=0.241, val_accuracy=0.937]\n",
      "Validating:  34%|███▍      | 10/29 [00:05<00:04,  4.49it/s]\u001b[A\n",
      "Epoch 116:  93%|█████████▎| 238/255 [02:43<00:11,  1.46it/s, loss=0.0668, v_num=3, train_loss=0.00728, train_accuracy=1.000, val_loss=0.241, val_accuracy=0.937]\n",
      "Validating:  41%|████▏     | 12/29 [00:05<00:03,  5.03it/s]\u001b[A\n",
      "Epoch 116:  94%|█████████▍| 240/255 [02:43<00:10,  1.47it/s, loss=0.0668, v_num=3, train_loss=0.00728, train_accuracy=1.000, val_loss=0.241, val_accuracy=0.937]\n",
      "Validating:  48%|████▊     | 14/29 [00:06<00:02,  5.33it/s]\u001b[A\n",
      "Epoch 116:  95%|█████████▍| 242/255 [02:44<00:08,  1.47it/s, loss=0.0668, v_num=3, train_loss=0.00728, train_accuracy=1.000, val_loss=0.241, val_accuracy=0.937]\n",
      "Validating:  55%|█████▌    | 16/29 [00:06<00:02,  5.40it/s]\u001b[A\n",
      "Epoch 116:  96%|█████████▌| 244/255 [02:44<00:07,  1.48it/s, loss=0.0668, v_num=3, train_loss=0.00728, train_accuracy=1.000, val_loss=0.241, val_accuracy=0.937]\n",
      "Validating:  62%|██████▏   | 18/29 [00:06<00:01,  5.53it/s]\u001b[A\n",
      "Epoch 116:  96%|█████████▋| 246/255 [02:44<00:06,  1.49it/s, loss=0.0668, v_num=3, train_loss=0.00728, train_accuracy=1.000, val_loss=0.241, val_accuracy=0.937]\n",
      "Validating:  69%|██████▉   | 20/29 [00:07<00:01,  5.64it/s]\u001b[A\n",
      "Epoch 116:  97%|█████████▋| 248/255 [02:45<00:04,  1.50it/s, loss=0.0668, v_num=3, train_loss=0.00728, train_accuracy=1.000, val_loss=0.241, val_accuracy=0.937]\n",
      "Validating:  76%|███████▌  | 22/29 [00:07<00:01,  5.69it/s]\u001b[A\n",
      "Epoch 116:  98%|█████████▊| 250/255 [02:45<00:03,  1.51it/s, loss=0.0668, v_num=3, train_loss=0.00728, train_accuracy=1.000, val_loss=0.241, val_accuracy=0.937]\n",
      "Validating:  83%|████████▎ | 24/29 [00:07<00:00,  5.71it/s]\u001b[A\n",
      "Epoch 116:  99%|█████████▉| 252/255 [02:45<00:01,  1.52it/s, loss=0.0668, v_num=3, train_loss=0.00728, train_accuracy=1.000, val_loss=0.241, val_accuracy=0.937]\n",
      "Validating:  90%|████████▉ | 26/29 [00:08<00:00,  5.67it/s]\u001b[A\n",
      "Epoch 116: 100%|█████████▉| 254/255 [02:46<00:00,  1.53it/s, loss=0.0668, v_num=3, train_loss=0.00728, train_accuracy=1.000, val_loss=0.241, val_accuracy=0.937]\n",
      "Validating:  97%|█████████▋| 28/29 [00:08<00:00,  5.61it/s]\u001b[A\n",
      "Epoch 116: 100%|██████████| 255/255 [02:47<00:00,  1.53it/s, loss=0.0668, v_num=3, train_loss=0.00728, train_accuracy=1.000, val_loss=0.221, val_accuracy=0.939]\n",
      "Epoch 116: 100%|██████████| 255/255 [02:47<00:00,  1.53it/s, loss=0.0668, v_num=3, train_loss=0.00728, train_accuracy=1.000, val_loss=0.221, val_accuracy=0.939]"
     ]
    },
    {
     "name": "stderr",
     "output_type": "stream",
     "text": [
      "Epoch 116, global step 26441: val_loss was not in top 2\n"
     ]
    },
    {
     "name": "stdout",
     "output_type": "stream",
     "text": [
      "Epoch 117:  89%|████████▊ | 226/255 [02:37<00:20,  1.43it/s, loss=0.0505, v_num=3, train_loss=0.00377, train_accuracy=1.000, val_loss=0.221, val_accuracy=0.939]\n",
      "Validating: 0it [00:00, ?it/s]\u001b[A\n",
      "Validating:   0%|          | 0/29 [00:00<?, ?it/s]\u001b[A\n",
      "Epoch 117:  89%|████████▉ | 228/255 [02:41<00:19,  1.41it/s, loss=0.0505, v_num=3, train_loss=0.00377, train_accuracy=1.000, val_loss=0.221, val_accuracy=0.939]\n",
      "Validating:   7%|▋         | 2/29 [00:03<00:44,  1.67s/it]\u001b[A\n",
      "Epoch 117:  90%|█████████ | 230/255 [02:41<00:17,  1.42it/s, loss=0.0505, v_num=3, train_loss=0.00377, train_accuracy=1.000, val_loss=0.221, val_accuracy=0.939]\n",
      "Validating:  14%|█▍        | 4/29 [00:04<00:16,  1.50it/s]\u001b[A\n",
      "Epoch 117:  91%|█████████ | 232/255 [02:42<00:16,  1.43it/s, loss=0.0505, v_num=3, train_loss=0.00377, train_accuracy=1.000, val_loss=0.221, val_accuracy=0.939]\n",
      "Validating:  21%|██        | 6/29 [00:04<00:08,  2.60it/s]\u001b[A\n",
      "Epoch 117:  92%|█████████▏| 234/255 [02:42<00:14,  1.44it/s, loss=0.0505, v_num=3, train_loss=0.00377, train_accuracy=1.000, val_loss=0.221, val_accuracy=0.939]\n",
      "Validating:  28%|██▊       | 8/29 [00:05<00:05,  3.65it/s]\u001b[A\n",
      "Epoch 117:  93%|█████████▎| 236/255 [02:43<00:13,  1.45it/s, loss=0.0505, v_num=3, train_loss=0.00377, train_accuracy=1.000, val_loss=0.221, val_accuracy=0.939]\n",
      "Validating:  34%|███▍      | 10/29 [00:05<00:04,  4.49it/s]\u001b[A\n",
      "Epoch 117:  93%|█████████▎| 238/255 [02:43<00:11,  1.46it/s, loss=0.0505, v_num=3, train_loss=0.00377, train_accuracy=1.000, val_loss=0.221, val_accuracy=0.939]\n",
      "Validating:  41%|████▏     | 12/29 [00:05<00:03,  4.96it/s]\u001b[A\n",
      "Epoch 117:  94%|█████████▍| 240/255 [02:43<00:10,  1.47it/s, loss=0.0505, v_num=3, train_loss=0.00377, train_accuracy=1.000, val_loss=0.221, val_accuracy=0.939]\n",
      "Validating:  48%|████▊     | 14/29 [00:06<00:02,  5.29it/s]\u001b[A\n",
      "Epoch 117:  95%|█████████▍| 242/255 [02:44<00:08,  1.47it/s, loss=0.0505, v_num=3, train_loss=0.00377, train_accuracy=1.000, val_loss=0.221, val_accuracy=0.939]\n",
      "Validating:  55%|█████▌    | 16/29 [00:06<00:02,  5.44it/s]\u001b[A\n",
      "Epoch 117:  96%|█████████▌| 244/255 [02:44<00:07,  1.48it/s, loss=0.0505, v_num=3, train_loss=0.00377, train_accuracy=1.000, val_loss=0.221, val_accuracy=0.939]\n",
      "Validating:  62%|██████▏   | 18/29 [00:06<00:02,  5.47it/s]\u001b[A\n",
      "Epoch 117:  96%|█████████▋| 246/255 [02:44<00:06,  1.49it/s, loss=0.0505, v_num=3, train_loss=0.00377, train_accuracy=1.000, val_loss=0.221, val_accuracy=0.939]\n",
      "Validating:  69%|██████▉   | 20/29 [00:07<00:01,  5.57it/s]\u001b[A\n",
      "Epoch 117:  97%|█████████▋| 248/255 [02:45<00:04,  1.50it/s, loss=0.0505, v_num=3, train_loss=0.00377, train_accuracy=1.000, val_loss=0.221, val_accuracy=0.939]\n",
      "Validating:  76%|███████▌  | 22/29 [00:07<00:01,  5.51it/s]\u001b[A\n",
      "Epoch 117:  98%|█████████▊| 250/255 [02:45<00:03,  1.51it/s, loss=0.0505, v_num=3, train_loss=0.00377, train_accuracy=1.000, val_loss=0.221, val_accuracy=0.939]\n",
      "Validating:  83%|████████▎ | 24/29 [00:07<00:00,  5.59it/s]\u001b[A\n",
      "Epoch 117:  99%|█████████▉| 252/255 [02:45<00:01,  1.52it/s, loss=0.0505, v_num=3, train_loss=0.00377, train_accuracy=1.000, val_loss=0.221, val_accuracy=0.939]\n",
      "Validating:  90%|████████▉ | 26/29 [00:08<00:00,  5.58it/s]\u001b[A\n",
      "Epoch 117: 100%|█████████▉| 254/255 [02:46<00:00,  1.53it/s, loss=0.0505, v_num=3, train_loss=0.00377, train_accuracy=1.000, val_loss=0.221, val_accuracy=0.939]\n",
      "Validating:  97%|█████████▋| 28/29 [00:08<00:00,  5.57it/s]\u001b[A\n",
      "Epoch 117: 100%|██████████| 255/255 [02:47<00:00,  1.53it/s, loss=0.0505, v_num=3, train_loss=0.00377, train_accuracy=1.000, val_loss=0.199, val_accuracy=0.941]\n",
      "Epoch 117: 100%|██████████| 255/255 [02:47<00:00,  1.53it/s, loss=0.0505, v_num=3, train_loss=0.00377, train_accuracy=1.000, val_loss=0.199, val_accuracy=0.941]"
     ]
    },
    {
     "name": "stderr",
     "output_type": "stream",
     "text": [
      "Epoch 117, global step 26667: val_loss was not in top 2\n"
     ]
    },
    {
     "name": "stdout",
     "output_type": "stream",
     "text": [
      "Epoch 118:  89%|████████▊ | 226/255 [02:38<00:20,  1.43it/s, loss=0.0585, v_num=3, train_loss=0.101, train_accuracy=0.944, val_loss=0.199, val_accuracy=0.941]  \n",
      "Validating: 0it [00:00, ?it/s]\u001b[A\n",
      "Validating:   0%|          | 0/29 [00:00<?, ?it/s]\u001b[A\n",
      "Epoch 118:  89%|████████▉ | 228/255 [02:41<00:19,  1.41it/s, loss=0.0585, v_num=3, train_loss=0.101, train_accuracy=0.944, val_loss=0.199, val_accuracy=0.941]\n",
      "Validating:   7%|▋         | 2/29 [00:03<00:44,  1.66s/it]\u001b[A\n",
      "Epoch 118:  90%|█████████ | 230/255 [02:42<00:17,  1.42it/s, loss=0.0585, v_num=3, train_loss=0.101, train_accuracy=0.944, val_loss=0.199, val_accuracy=0.941]\n",
      "Validating:  14%|█▍        | 4/29 [00:04<00:16,  1.50it/s]\u001b[A\n",
      "Epoch 118:  91%|█████████ | 232/255 [02:42<00:16,  1.43it/s, loss=0.0585, v_num=3, train_loss=0.101, train_accuracy=0.944, val_loss=0.199, val_accuracy=0.941]\n",
      "Validating:  21%|██        | 6/29 [00:04<00:08,  2.58it/s]\u001b[A\n",
      "Epoch 118:  92%|█████████▏| 234/255 [02:43<00:14,  1.44it/s, loss=0.0585, v_num=3, train_loss=0.101, train_accuracy=0.944, val_loss=0.199, val_accuracy=0.941]\n",
      "Validating:  28%|██▊       | 8/29 [00:05<00:05,  3.65it/s]\u001b[A\n",
      "Epoch 118:  93%|█████████▎| 236/255 [02:43<00:13,  1.44it/s, loss=0.0585, v_num=3, train_loss=0.101, train_accuracy=0.944, val_loss=0.199, val_accuracy=0.941]\n",
      "Validating:  34%|███▍      | 10/29 [00:05<00:04,  4.46it/s]\u001b[A\n",
      "Epoch 118:  93%|█████████▎| 238/255 [02:43<00:11,  1.45it/s, loss=0.0585, v_num=3, train_loss=0.101, train_accuracy=0.944, val_loss=0.199, val_accuracy=0.941]\n",
      "Validating:  41%|████▏     | 12/29 [00:05<00:03,  4.93it/s]\u001b[A\n",
      "Epoch 118:  94%|█████████▍| 240/255 [02:44<00:10,  1.46it/s, loss=0.0585, v_num=3, train_loss=0.101, train_accuracy=0.944, val_loss=0.199, val_accuracy=0.941]\n",
      "Validating:  48%|████▊     | 14/29 [00:06<00:02,  5.30it/s]\u001b[A\n",
      "Epoch 118:  95%|█████████▍| 242/255 [02:44<00:08,  1.47it/s, loss=0.0585, v_num=3, train_loss=0.101, train_accuracy=0.944, val_loss=0.199, val_accuracy=0.941]\n",
      "Validating:  55%|█████▌    | 16/29 [00:06<00:02,  5.46it/s]\u001b[A\n",
      "Epoch 118:  96%|█████████▌| 244/255 [02:44<00:07,  1.48it/s, loss=0.0585, v_num=3, train_loss=0.101, train_accuracy=0.944, val_loss=0.199, val_accuracy=0.941]\n",
      "Validating:  62%|██████▏   | 18/29 [00:06<00:01,  5.59it/s]\u001b[A\n",
      "Epoch 118:  96%|█████████▋| 246/255 [02:45<00:06,  1.49it/s, loss=0.0585, v_num=3, train_loss=0.101, train_accuracy=0.944, val_loss=0.199, val_accuracy=0.941]\n",
      "Validating:  69%|██████▉   | 20/29 [00:07<00:01,  5.60it/s]\u001b[A\n",
      "Epoch 118:  97%|█████████▋| 248/255 [02:45<00:04,  1.50it/s, loss=0.0585, v_num=3, train_loss=0.101, train_accuracy=0.944, val_loss=0.199, val_accuracy=0.941]\n",
      "Validating:  76%|███████▌  | 22/29 [00:07<00:01,  5.66it/s]\u001b[A\n",
      "Epoch 118:  98%|█████████▊| 250/255 [02:45<00:03,  1.51it/s, loss=0.0585, v_num=3, train_loss=0.101, train_accuracy=0.944, val_loss=0.199, val_accuracy=0.941]\n",
      "Validating:  83%|████████▎ | 24/29 [00:07<00:00,  5.62it/s]\u001b[A\n",
      "Epoch 118:  99%|█████████▉| 252/255 [02:46<00:01,  1.52it/s, loss=0.0585, v_num=3, train_loss=0.101, train_accuracy=0.944, val_loss=0.199, val_accuracy=0.941]\n",
      "Validating:  90%|████████▉ | 26/29 [00:08<00:00,  5.60it/s]\u001b[A\n",
      "Epoch 118: 100%|█████████▉| 254/255 [02:46<00:00,  1.52it/s, loss=0.0585, v_num=3, train_loss=0.101, train_accuracy=0.944, val_loss=0.199, val_accuracy=0.941]\n",
      "Validating:  97%|█████████▋| 28/29 [00:08<00:00,  5.57it/s]\u001b[A\n",
      "Epoch 118: 100%|██████████| 255/255 [02:47<00:00,  1.52it/s, loss=0.0585, v_num=3, train_loss=0.101, train_accuracy=0.944, val_loss=0.184, val_accuracy=0.943]\n",
      "Epoch 118: 100%|██████████| 255/255 [02:47<00:00,  1.52it/s, loss=0.0585, v_num=3, train_loss=0.101, train_accuracy=0.944, val_loss=0.184, val_accuracy=0.943]"
     ]
    },
    {
     "name": "stderr",
     "output_type": "stream",
     "text": [
      "Epoch 118, global step 26893: val_loss was not in top 2\n"
     ]
    },
    {
     "name": "stdout",
     "output_type": "stream",
     "text": [
      "Epoch 119:  89%|████████▊ | 226/255 [02:37<00:20,  1.43it/s, loss=0.113, v_num=3, train_loss=0.121, train_accuracy=0.944, val_loss=0.184, val_accuracy=0.943]  \n",
      "Validating: 0it [00:00, ?it/s]\u001b[A\n",
      "Validating:   0%|          | 0/29 [00:00<?, ?it/s]\u001b[A\n",
      "Epoch 119:  89%|████████▉ | 228/255 [02:41<00:19,  1.41it/s, loss=0.113, v_num=3, train_loss=0.121, train_accuracy=0.944, val_loss=0.184, val_accuracy=0.943]\n",
      "Validating:   7%|▋         | 2/29 [00:03<00:44,  1.66s/it]\u001b[A\n",
      "Epoch 119:  90%|█████████ | 230/255 [02:42<00:17,  1.42it/s, loss=0.113, v_num=3, train_loss=0.121, train_accuracy=0.944, val_loss=0.184, val_accuracy=0.943]\n",
      "Validating:  14%|█▍        | 4/29 [00:04<00:16,  1.50it/s]\u001b[A\n",
      "Epoch 119:  91%|█████████ | 232/255 [02:42<00:16,  1.43it/s, loss=0.113, v_num=3, train_loss=0.121, train_accuracy=0.944, val_loss=0.184, val_accuracy=0.943]\n",
      "Validating:  21%|██        | 6/29 [00:04<00:08,  2.58it/s]\u001b[A\n",
      "Epoch 119:  92%|█████████▏| 234/255 [02:42<00:14,  1.44it/s, loss=0.113, v_num=3, train_loss=0.121, train_accuracy=0.944, val_loss=0.184, val_accuracy=0.943]\n",
      "Validating:  28%|██▊       | 8/29 [00:05<00:05,  3.66it/s]\u001b[A\n",
      "Epoch 119:  93%|█████████▎| 236/255 [02:43<00:13,  1.45it/s, loss=0.113, v_num=3, train_loss=0.121, train_accuracy=0.944, val_loss=0.184, val_accuracy=0.943]\n",
      "Validating:  34%|███▍      | 10/29 [00:05<00:04,  4.44it/s]\u001b[A\n",
      "Epoch 119:  93%|█████████▎| 238/255 [02:43<00:11,  1.46it/s, loss=0.113, v_num=3, train_loss=0.121, train_accuracy=0.944, val_loss=0.184, val_accuracy=0.943]\n",
      "Validating:  41%|████▏     | 12/29 [00:05<00:03,  5.02it/s]\u001b[A\n",
      "Epoch 119:  94%|█████████▍| 240/255 [02:43<00:10,  1.46it/s, loss=0.113, v_num=3, train_loss=0.121, train_accuracy=0.944, val_loss=0.184, val_accuracy=0.943]\n",
      "Validating:  48%|████▊     | 14/29 [00:06<00:02,  5.35it/s]\u001b[A\n",
      "Epoch 119:  95%|█████████▍| 242/255 [02:44<00:08,  1.47it/s, loss=0.113, v_num=3, train_loss=0.121, train_accuracy=0.944, val_loss=0.184, val_accuracy=0.943]\n",
      "Validating:  55%|█████▌    | 16/29 [00:06<00:02,  5.49it/s]\u001b[A\n",
      "Epoch 119:  96%|█████████▌| 244/255 [02:44<00:07,  1.48it/s, loss=0.113, v_num=3, train_loss=0.121, train_accuracy=0.944, val_loss=0.184, val_accuracy=0.943]\n",
      "Validating:  62%|██████▏   | 18/29 [00:06<00:01,  5.53it/s]\u001b[A\n",
      "Epoch 119:  96%|█████████▋| 246/255 [02:44<00:06,  1.49it/s, loss=0.113, v_num=3, train_loss=0.121, train_accuracy=0.944, val_loss=0.184, val_accuracy=0.943]\n",
      "Validating:  69%|██████▉   | 20/29 [00:07<00:01,  5.58it/s]\u001b[A\n",
      "Epoch 119:  97%|█████████▋| 248/255 [02:45<00:04,  1.50it/s, loss=0.113, v_num=3, train_loss=0.121, train_accuracy=0.944, val_loss=0.184, val_accuracy=0.943]\n",
      "Validating:  76%|███████▌  | 22/29 [00:07<00:01,  5.64it/s]\u001b[A\n",
      "Epoch 119:  98%|█████████▊| 250/255 [02:45<00:03,  1.51it/s, loss=0.113, v_num=3, train_loss=0.121, train_accuracy=0.944, val_loss=0.184, val_accuracy=0.943]\n",
      "Validating:  83%|████████▎ | 24/29 [00:07<00:00,  5.57it/s]\u001b[A\n",
      "Epoch 119:  99%|█████████▉| 252/255 [02:45<00:01,  1.52it/s, loss=0.113, v_num=3, train_loss=0.121, train_accuracy=0.944, val_loss=0.184, val_accuracy=0.943]\n",
      "Validating:  90%|████████▉ | 26/29 [00:08<00:00,  5.65it/s]\u001b[A\n",
      "Epoch 119: 100%|█████████▉| 254/255 [02:46<00:00,  1.53it/s, loss=0.113, v_num=3, train_loss=0.121, train_accuracy=0.944, val_loss=0.184, val_accuracy=0.943]\n",
      "Validating:  97%|█████████▋| 28/29 [00:08<00:00,  5.66it/s]\u001b[A\n",
      "Epoch 119: 100%|██████████| 255/255 [02:47<00:00,  1.53it/s, loss=0.113, v_num=3, train_loss=0.121, train_accuracy=0.944, val_loss=0.176, val_accuracy=0.935]\n",
      "Epoch 119: 100%|██████████| 255/255 [02:47<00:00,  1.53it/s, loss=0.113, v_num=3, train_loss=0.121, train_accuracy=0.944, val_loss=0.176, val_accuracy=0.935]"
     ]
    },
    {
     "name": "stderr",
     "output_type": "stream",
     "text": [
      "Epoch 119, global step 27119: val_loss was not in top 2\n"
     ]
    },
    {
     "name": "stdout",
     "output_type": "stream",
     "text": [
      "Epoch 120:  89%|████████▊ | 226/255 [02:37<00:20,  1.43it/s, loss=0.139, v_num=3, train_loss=0.0696, train_accuracy=1.000, val_loss=0.176, val_accuracy=0.935]  \n",
      "Validating: 0it [00:00, ?it/s]\u001b[A\n",
      "Validating:   0%|          | 0/29 [00:00<?, ?it/s]\u001b[A\n",
      "Epoch 120:  89%|████████▉ | 228/255 [02:41<00:19,  1.41it/s, loss=0.139, v_num=3, train_loss=0.0696, train_accuracy=1.000, val_loss=0.176, val_accuracy=0.935]\n",
      "Validating:   7%|▋         | 2/29 [00:03<00:44,  1.66s/it]\u001b[A\n",
      "Epoch 120:  90%|█████████ | 230/255 [02:41<00:17,  1.42it/s, loss=0.139, v_num=3, train_loss=0.0696, train_accuracy=1.000, val_loss=0.176, val_accuracy=0.935]\n",
      "Validating:  14%|█▍        | 4/29 [00:04<00:16,  1.50it/s]\u001b[A\n",
      "Epoch 120:  91%|█████████ | 232/255 [02:42<00:16,  1.43it/s, loss=0.139, v_num=3, train_loss=0.0696, train_accuracy=1.000, val_loss=0.176, val_accuracy=0.935]\n",
      "Validating:  21%|██        | 6/29 [00:04<00:08,  2.62it/s]\u001b[A\n",
      "Epoch 120:  92%|█████████▏| 234/255 [02:42<00:14,  1.44it/s, loss=0.139, v_num=3, train_loss=0.0696, train_accuracy=1.000, val_loss=0.176, val_accuracy=0.935]\n",
      "Validating:  28%|██▊       | 8/29 [00:05<00:05,  3.64it/s]\u001b[A\n",
      "Epoch 120:  93%|█████████▎| 236/255 [02:42<00:13,  1.45it/s, loss=0.139, v_num=3, train_loss=0.0696, train_accuracy=1.000, val_loss=0.176, val_accuracy=0.935]\n",
      "Validating:  34%|███▍      | 10/29 [00:05<00:04,  4.45it/s]\u001b[A\n",
      "Epoch 120:  93%|█████████▎| 238/255 [02:43<00:11,  1.46it/s, loss=0.139, v_num=3, train_loss=0.0696, train_accuracy=1.000, val_loss=0.176, val_accuracy=0.935]\n",
      "Validating:  41%|████▏     | 12/29 [00:05<00:03,  4.89it/s]\u001b[A\n",
      "Epoch 120:  94%|█████████▍| 240/255 [02:43<00:10,  1.47it/s, loss=0.139, v_num=3, train_loss=0.0696, train_accuracy=1.000, val_loss=0.176, val_accuracy=0.935]\n",
      "Validating:  48%|████▊     | 14/29 [00:06<00:02,  5.28it/s]\u001b[A\n",
      "Epoch 120:  95%|█████████▍| 242/255 [02:43<00:08,  1.48it/s, loss=0.139, v_num=3, train_loss=0.0696, train_accuracy=1.000, val_loss=0.176, val_accuracy=0.935]\n",
      "Validating:  55%|█████▌    | 16/29 [00:06<00:02,  5.44it/s]\u001b[A\n",
      "Epoch 120:  96%|█████████▌| 244/255 [02:44<00:07,  1.48it/s, loss=0.139, v_num=3, train_loss=0.0696, train_accuracy=1.000, val_loss=0.176, val_accuracy=0.935]\n",
      "Validating:  62%|██████▏   | 18/29 [00:06<00:01,  5.52it/s]\u001b[A\n",
      "Epoch 120:  96%|█████████▋| 246/255 [02:44<00:06,  1.49it/s, loss=0.139, v_num=3, train_loss=0.0696, train_accuracy=1.000, val_loss=0.176, val_accuracy=0.935]\n",
      "Validating:  69%|██████▉   | 20/29 [00:07<00:01,  5.60it/s]\u001b[A\n",
      "Epoch 120:  97%|█████████▋| 248/255 [02:45<00:04,  1.50it/s, loss=0.139, v_num=3, train_loss=0.0696, train_accuracy=1.000, val_loss=0.176, val_accuracy=0.935]\n",
      "Validating:  76%|███████▌  | 22/29 [00:07<00:01,  5.65it/s]\u001b[A\n",
      "Epoch 120:  98%|█████████▊| 250/255 [02:45<00:03,  1.51it/s, loss=0.139, v_num=3, train_loss=0.0696, train_accuracy=1.000, val_loss=0.176, val_accuracy=0.935]\n",
      "Validating:  83%|████████▎ | 24/29 [00:07<00:00,  5.61it/s]\u001b[A\n",
      "Epoch 120:  99%|█████████▉| 252/255 [02:45<00:01,  1.52it/s, loss=0.139, v_num=3, train_loss=0.0696, train_accuracy=1.000, val_loss=0.176, val_accuracy=0.935]\n",
      "Validating:  90%|████████▉ | 26/29 [00:08<00:00,  5.60it/s]\u001b[A\n",
      "Epoch 120: 100%|█████████▉| 254/255 [02:46<00:00,  1.53it/s, loss=0.139, v_num=3, train_loss=0.0696, train_accuracy=1.000, val_loss=0.176, val_accuracy=0.935]\n",
      "Validating:  97%|█████████▋| 28/29 [00:08<00:00,  5.59it/s]\u001b[A\n",
      "Epoch 120: 100%|██████████| 255/255 [02:46<00:00,  1.53it/s, loss=0.139, v_num=3, train_loss=0.0696, train_accuracy=1.000, val_loss=0.189, val_accuracy=0.930]\n",
      "Epoch 120: 100%|██████████| 255/255 [02:46<00:00,  1.53it/s, loss=0.139, v_num=3, train_loss=0.0696, train_accuracy=1.000, val_loss=0.189, val_accuracy=0.930]"
     ]
    },
    {
     "name": "stderr",
     "output_type": "stream",
     "text": [
      "Epoch 120, global step 27345: val_loss was not in top 2\n"
     ]
    },
    {
     "name": "stdout",
     "output_type": "stream",
     "text": [
      "Epoch 121:  89%|████████▊ | 226/255 [02:37<00:20,  1.43it/s, loss=0.0881, v_num=3, train_loss=0.0918, train_accuracy=0.944, val_loss=0.189, val_accuracy=0.930]\n",
      "Validating: 0it [00:00, ?it/s]\u001b[A\n",
      "Validating:   0%|          | 0/29 [00:00<?, ?it/s]\u001b[A\n",
      "Epoch 121:  89%|████████▉ | 228/255 [02:41<00:19,  1.41it/s, loss=0.0881, v_num=3, train_loss=0.0918, train_accuracy=0.944, val_loss=0.189, val_accuracy=0.930]\n",
      "Validating:   7%|▋         | 2/29 [00:03<00:45,  1.67s/it]\u001b[A\n",
      "Epoch 121:  90%|█████████ | 230/255 [02:41<00:17,  1.42it/s, loss=0.0881, v_num=3, train_loss=0.0918, train_accuracy=0.944, val_loss=0.189, val_accuracy=0.930]\n",
      "Validating:  14%|█▍        | 4/29 [00:04<00:16,  1.49it/s]\u001b[A\n",
      "Epoch 121:  91%|█████████ | 232/255 [02:42<00:16,  1.43it/s, loss=0.0881, v_num=3, train_loss=0.0918, train_accuracy=0.944, val_loss=0.189, val_accuracy=0.930]\n",
      "Validating:  21%|██        | 6/29 [00:04<00:08,  2.57it/s]\u001b[A\n",
      "Epoch 121:  92%|█████████▏| 234/255 [02:42<00:14,  1.44it/s, loss=0.0881, v_num=3, train_loss=0.0918, train_accuracy=0.944, val_loss=0.189, val_accuracy=0.930]\n",
      "Validating:  28%|██▊       | 8/29 [00:05<00:05,  3.62it/s]\u001b[A\n",
      "Epoch 121:  93%|█████████▎| 236/255 [02:43<00:13,  1.45it/s, loss=0.0881, v_num=3, train_loss=0.0918, train_accuracy=0.944, val_loss=0.189, val_accuracy=0.930]\n",
      "Validating:  34%|███▍      | 10/29 [00:05<00:04,  4.47it/s]\u001b[A\n",
      "Epoch 121:  93%|█████████▎| 238/255 [02:43<00:11,  1.46it/s, loss=0.0881, v_num=3, train_loss=0.0918, train_accuracy=0.944, val_loss=0.189, val_accuracy=0.930]\n",
      "Validating:  41%|████▏     | 12/29 [00:05<00:03,  5.06it/s]\u001b[A\n",
      "Epoch 121:  94%|█████████▍| 240/255 [02:43<00:10,  1.47it/s, loss=0.0881, v_num=3, train_loss=0.0918, train_accuracy=0.944, val_loss=0.189, val_accuracy=0.930]\n",
      "Validating:  48%|████▊     | 14/29 [00:06<00:02,  5.32it/s]\u001b[A\n",
      "Epoch 121:  95%|█████████▍| 242/255 [02:44<00:08,  1.47it/s, loss=0.0881, v_num=3, train_loss=0.0918, train_accuracy=0.944, val_loss=0.189, val_accuracy=0.930]\n",
      "Validating:  55%|█████▌    | 16/29 [00:06<00:02,  5.50it/s]\u001b[A\n",
      "Epoch 121:  96%|█████████▌| 244/255 [02:44<00:07,  1.48it/s, loss=0.0881, v_num=3, train_loss=0.0918, train_accuracy=0.944, val_loss=0.189, val_accuracy=0.930]\n",
      "Validating:  62%|██████▏   | 18/29 [00:06<00:01,  5.50it/s]\u001b[A\n",
      "Epoch 121:  96%|█████████▋| 246/255 [02:44<00:06,  1.49it/s, loss=0.0881, v_num=3, train_loss=0.0918, train_accuracy=0.944, val_loss=0.189, val_accuracy=0.930]\n",
      "Validating:  69%|██████▉   | 20/29 [00:07<00:01,  5.54it/s]\u001b[A\n",
      "Epoch 121:  97%|█████████▋| 248/255 [02:45<00:04,  1.50it/s, loss=0.0881, v_num=3, train_loss=0.0918, train_accuracy=0.944, val_loss=0.189, val_accuracy=0.930]\n",
      "Validating:  76%|███████▌  | 22/29 [00:07<00:01,  5.60it/s]\u001b[A\n",
      "Epoch 121:  98%|█████████▊| 250/255 [02:45<00:03,  1.51it/s, loss=0.0881, v_num=3, train_loss=0.0918, train_accuracy=0.944, val_loss=0.189, val_accuracy=0.930]\n",
      "Validating:  83%|████████▎ | 24/29 [00:07<00:00,  5.60it/s]\u001b[A\n",
      "Epoch 121:  99%|█████████▉| 252/255 [02:45<00:01,  1.52it/s, loss=0.0881, v_num=3, train_loss=0.0918, train_accuracy=0.944, val_loss=0.189, val_accuracy=0.930]\n",
      "Validating:  90%|████████▉ | 26/29 [00:08<00:00,  5.59it/s]\u001b[A\n",
      "Epoch 121: 100%|█████████▉| 254/255 [02:46<00:00,  1.53it/s, loss=0.0881, v_num=3, train_loss=0.0918, train_accuracy=0.944, val_loss=0.189, val_accuracy=0.930]\n",
      "Validating:  97%|█████████▋| 28/29 [00:08<00:00,  5.62it/s]\u001b[A\n",
      "Epoch 121: 100%|██████████| 255/255 [02:47<00:00,  1.53it/s, loss=0.0881, v_num=3, train_loss=0.0918, train_accuracy=0.944, val_loss=0.160, val_accuracy=0.940]\n",
      "Epoch 121: 100%|██████████| 255/255 [02:47<00:00,  1.53it/s, loss=0.0881, v_num=3, train_loss=0.0918, train_accuracy=0.944, val_loss=0.160, val_accuracy=0.940]"
     ]
    },
    {
     "name": "stderr",
     "output_type": "stream",
     "text": [
      "Epoch 121, global step 27571: val_loss was not in top 2\n"
     ]
    },
    {
     "name": "stdout",
     "output_type": "stream",
     "text": [
      "Epoch 122:  89%|████████▊ | 226/255 [02:38<00:20,  1.43it/s, loss=0.0612, v_num=3, train_loss=0.0443, train_accuracy=1.000, val_loss=0.160, val_accuracy=0.940] \n",
      "Validating: 0it [00:00, ?it/s]\u001b[A\n",
      "Validating:   0%|          | 0/29 [00:00<?, ?it/s]\u001b[A\n",
      "Epoch 122:  89%|████████▉ | 228/255 [02:41<00:19,  1.41it/s, loss=0.0612, v_num=3, train_loss=0.0443, train_accuracy=1.000, val_loss=0.160, val_accuracy=0.940]\n",
      "Validating:   7%|▋         | 2/29 [00:04<00:45,  1.69s/it]\u001b[A\n",
      "Epoch 122:  90%|█████████ | 230/255 [02:42<00:17,  1.42it/s, loss=0.0612, v_num=3, train_loss=0.0443, train_accuracy=1.000, val_loss=0.160, val_accuracy=0.940]\n",
      "Validating:  14%|█▍        | 4/29 [00:04<00:16,  1.47it/s]\u001b[A\n",
      "Epoch 122:  91%|█████████ | 232/255 [02:42<00:16,  1.43it/s, loss=0.0612, v_num=3, train_loss=0.0443, train_accuracy=1.000, val_loss=0.160, val_accuracy=0.940]\n",
      "Validating:  21%|██        | 6/29 [00:04<00:08,  2.56it/s]\u001b[A\n",
      "Epoch 122:  92%|█████████▏| 234/255 [02:43<00:14,  1.44it/s, loss=0.0612, v_num=3, train_loss=0.0443, train_accuracy=1.000, val_loss=0.160, val_accuracy=0.940]\n",
      "Validating:  28%|██▊       | 8/29 [00:05<00:05,  3.57it/s]\u001b[A\n",
      "Epoch 122:  93%|█████████▎| 236/255 [02:43<00:13,  1.44it/s, loss=0.0612, v_num=3, train_loss=0.0443, train_accuracy=1.000, val_loss=0.160, val_accuracy=0.940]\n",
      "Validating:  34%|███▍      | 10/29 [00:05<00:04,  4.44it/s]\u001b[A\n",
      "Epoch 122:  93%|█████████▎| 238/255 [02:43<00:11,  1.45it/s, loss=0.0612, v_num=3, train_loss=0.0443, train_accuracy=1.000, val_loss=0.160, val_accuracy=0.940]\n",
      "Validating:  41%|████▏     | 12/29 [00:05<00:03,  5.00it/s]\u001b[A\n",
      "Epoch 122:  94%|█████████▍| 240/255 [02:44<00:10,  1.46it/s, loss=0.0612, v_num=3, train_loss=0.0443, train_accuracy=1.000, val_loss=0.160, val_accuracy=0.940]\n",
      "Validating:  48%|████▊     | 14/29 [00:06<00:02,  5.29it/s]\u001b[A\n",
      "Epoch 122:  95%|█████████▍| 242/255 [02:44<00:08,  1.47it/s, loss=0.0612, v_num=3, train_loss=0.0443, train_accuracy=1.000, val_loss=0.160, val_accuracy=0.940]\n",
      "Validating:  55%|█████▌    | 16/29 [00:06<00:02,  5.45it/s]\u001b[A\n",
      "Epoch 122:  96%|█████████▌| 244/255 [02:44<00:07,  1.48it/s, loss=0.0612, v_num=3, train_loss=0.0443, train_accuracy=1.000, val_loss=0.160, val_accuracy=0.940]\n",
      "Validating:  62%|██████▏   | 18/29 [00:06<00:01,  5.52it/s]\u001b[A\n",
      "Epoch 122:  96%|█████████▋| 246/255 [02:45<00:06,  1.49it/s, loss=0.0612, v_num=3, train_loss=0.0443, train_accuracy=1.000, val_loss=0.160, val_accuracy=0.940]\n",
      "Validating:  69%|██████▉   | 20/29 [00:07<00:01,  5.56it/s]\u001b[A\n",
      "Epoch 122:  97%|█████████▋| 248/255 [02:45<00:04,  1.50it/s, loss=0.0612, v_num=3, train_loss=0.0443, train_accuracy=1.000, val_loss=0.160, val_accuracy=0.940]\n",
      "Validating:  76%|███████▌  | 22/29 [00:07<00:01,  5.63it/s]\u001b[A\n",
      "Epoch 122:  98%|█████████▊| 250/255 [02:45<00:03,  1.51it/s, loss=0.0612, v_num=3, train_loss=0.0443, train_accuracy=1.000, val_loss=0.160, val_accuracy=0.940]\n",
      "Validating:  83%|████████▎ | 24/29 [00:07<00:00,  5.65it/s]\u001b[A\n",
      "Epoch 122:  99%|█████████▉| 252/255 [02:46<00:01,  1.52it/s, loss=0.0612, v_num=3, train_loss=0.0443, train_accuracy=1.000, val_loss=0.160, val_accuracy=0.940]\n",
      "Validating:  90%|████████▉ | 26/29 [00:08<00:00,  5.62it/s]\u001b[A\n",
      "Epoch 122: 100%|█████████▉| 254/255 [02:46<00:00,  1.52it/s, loss=0.0612, v_num=3, train_loss=0.0443, train_accuracy=1.000, val_loss=0.160, val_accuracy=0.940]\n",
      "Validating:  97%|█████████▋| 28/29 [00:08<00:00,  5.61it/s]\u001b[A\n",
      "Epoch 122: 100%|██████████| 255/255 [02:47<00:00,  1.52it/s, loss=0.0612, v_num=3, train_loss=0.0443, train_accuracy=1.000, val_loss=0.162, val_accuracy=0.945]\n",
      "Epoch 122: 100%|██████████| 255/255 [02:47<00:00,  1.52it/s, loss=0.0612, v_num=3, train_loss=0.0443, train_accuracy=1.000, val_loss=0.162, val_accuracy=0.945]"
     ]
    },
    {
     "name": "stderr",
     "output_type": "stream",
     "text": [
      "Epoch 122, global step 27797: val_loss was not in top 2\n"
     ]
    },
    {
     "name": "stdout",
     "output_type": "stream",
     "text": [
      "Epoch 123:  89%|████████▊ | 226/255 [02:37<00:20,  1.43it/s, loss=0.0661, v_num=3, train_loss=0.0229, train_accuracy=1.000, val_loss=0.162, val_accuracy=0.945] \n",
      "Validating: 0it [00:00, ?it/s]\u001b[A\n",
      "Validating:   0%|          | 0/29 [00:00<?, ?it/s]\u001b[A\n",
      "Epoch 123:  89%|████████▉ | 228/255 [02:41<00:19,  1.41it/s, loss=0.0661, v_num=3, train_loss=0.0229, train_accuracy=1.000, val_loss=0.162, val_accuracy=0.945]\n",
      "Validating:   7%|▋         | 2/29 [00:03<00:44,  1.65s/it]\u001b[A\n",
      "Epoch 123:  90%|█████████ | 230/255 [02:42<00:17,  1.42it/s, loss=0.0661, v_num=3, train_loss=0.0229, train_accuracy=1.000, val_loss=0.162, val_accuracy=0.945]\n",
      "Validating:  14%|█▍        | 4/29 [00:04<00:16,  1.49it/s]\u001b[A\n",
      "Epoch 123:  91%|█████████ | 232/255 [02:42<00:16,  1.43it/s, loss=0.0661, v_num=3, train_loss=0.0229, train_accuracy=1.000, val_loss=0.162, val_accuracy=0.945]\n",
      "Validating:  21%|██        | 6/29 [00:04<00:08,  2.58it/s]\u001b[A\n",
      "Epoch 123:  92%|█████████▏| 234/255 [02:42<00:14,  1.44it/s, loss=0.0661, v_num=3, train_loss=0.0229, train_accuracy=1.000, val_loss=0.162, val_accuracy=0.945]\n",
      "Validating:  28%|██▊       | 8/29 [00:05<00:05,  3.66it/s]\u001b[A\n",
      "Epoch 123:  93%|█████████▎| 236/255 [02:43<00:13,  1.45it/s, loss=0.0661, v_num=3, train_loss=0.0229, train_accuracy=1.000, val_loss=0.162, val_accuracy=0.945]\n",
      "Validating:  34%|███▍      | 10/29 [00:05<00:04,  4.41it/s]\u001b[A\n",
      "Epoch 123:  93%|█████████▎| 238/255 [02:43<00:11,  1.46it/s, loss=0.0661, v_num=3, train_loss=0.0229, train_accuracy=1.000, val_loss=0.162, val_accuracy=0.945]\n",
      "Validating:  41%|████▏     | 12/29 [00:05<00:03,  4.96it/s]\u001b[A\n",
      "Epoch 123:  94%|█████████▍| 240/255 [02:43<00:10,  1.46it/s, loss=0.0661, v_num=3, train_loss=0.0229, train_accuracy=1.000, val_loss=0.162, val_accuracy=0.945]\n",
      "Validating:  48%|████▊     | 14/29 [00:06<00:02,  5.31it/s]\u001b[A\n",
      "Epoch 123:  95%|█████████▍| 242/255 [02:44<00:08,  1.47it/s, loss=0.0661, v_num=3, train_loss=0.0229, train_accuracy=1.000, val_loss=0.162, val_accuracy=0.945]\n",
      "Validating:  55%|█████▌    | 16/29 [00:06<00:02,  5.51it/s]\u001b[A\n",
      "Epoch 123:  96%|█████████▌| 244/255 [02:44<00:07,  1.48it/s, loss=0.0661, v_num=3, train_loss=0.0229, train_accuracy=1.000, val_loss=0.162, val_accuracy=0.945]\n",
      "Validating:  62%|██████▏   | 18/29 [00:06<00:01,  5.56it/s]\u001b[A\n",
      "Epoch 123:  96%|█████████▋| 246/255 [02:44<00:06,  1.49it/s, loss=0.0661, v_num=3, train_loss=0.0229, train_accuracy=1.000, val_loss=0.162, val_accuracy=0.945]\n",
      "Validating:  69%|██████▉   | 20/29 [00:07<00:01,  5.62it/s]\u001b[A\n",
      "Epoch 123:  97%|█████████▋| 248/255 [02:45<00:04,  1.50it/s, loss=0.0661, v_num=3, train_loss=0.0229, train_accuracy=1.000, val_loss=0.162, val_accuracy=0.945]\n",
      "Validating:  76%|███████▌  | 22/29 [00:07<00:01,  5.43it/s]\u001b[A\n",
      "Epoch 123:  98%|█████████▊| 250/255 [02:45<00:03,  1.51it/s, loss=0.0661, v_num=3, train_loss=0.0229, train_accuracy=1.000, val_loss=0.162, val_accuracy=0.945]\n",
      "Validating:  83%|████████▎ | 24/29 [00:07<00:00,  5.50it/s]\u001b[A\n",
      "Epoch 123:  99%|█████████▉| 252/255 [02:46<00:01,  1.52it/s, loss=0.0661, v_num=3, train_loss=0.0229, train_accuracy=1.000, val_loss=0.162, val_accuracy=0.945]\n",
      "Validating:  90%|████████▉ | 26/29 [00:08<00:00,  5.56it/s]\u001b[A\n",
      "Epoch 123: 100%|█████████▉| 254/255 [02:46<00:00,  1.53it/s, loss=0.0661, v_num=3, train_loss=0.0229, train_accuracy=1.000, val_loss=0.162, val_accuracy=0.945]\n",
      "Validating:  97%|█████████▋| 28/29 [00:08<00:00,  5.61it/s]\u001b[A\n",
      "Epoch 123: 100%|██████████| 255/255 [02:47<00:00,  1.52it/s, loss=0.0661, v_num=3, train_loss=0.0229, train_accuracy=1.000, val_loss=0.177, val_accuracy=0.943]\n",
      "Epoch 123: 100%|██████████| 255/255 [02:47<00:00,  1.52it/s, loss=0.0661, v_num=3, train_loss=0.0229, train_accuracy=1.000, val_loss=0.177, val_accuracy=0.943]"
     ]
    },
    {
     "name": "stderr",
     "output_type": "stream",
     "text": [
      "Epoch 123, global step 28023: val_loss was not in top 2\n"
     ]
    },
    {
     "name": "stdout",
     "output_type": "stream",
     "text": [
      "Epoch 124:  89%|████████▊ | 226/255 [02:37<00:20,  1.43it/s, loss=0.0668, v_num=3, train_loss=0.019, train_accuracy=1.000, val_loss=0.177, val_accuracy=0.943]  \n",
      "Validating: 0it [00:00, ?it/s]\u001b[A\n",
      "Validating:   0%|          | 0/29 [00:00<?, ?it/s]\u001b[A\n",
      "Epoch 124:  89%|████████▉ | 228/255 [02:41<00:19,  1.41it/s, loss=0.0668, v_num=3, train_loss=0.019, train_accuracy=1.000, val_loss=0.177, val_accuracy=0.943]\n",
      "Validating:   7%|▋         | 2/29 [00:04<00:46,  1.70s/it]\u001b[A\n",
      "Epoch 124:  90%|█████████ | 230/255 [02:42<00:17,  1.42it/s, loss=0.0668, v_num=3, train_loss=0.019, train_accuracy=1.000, val_loss=0.177, val_accuracy=0.943]\n",
      "Validating:  14%|█▍        | 4/29 [00:04<00:17,  1.46it/s]\u001b[A\n",
      "Epoch 124:  91%|█████████ | 232/255 [02:42<00:16,  1.43it/s, loss=0.0668, v_num=3, train_loss=0.019, train_accuracy=1.000, val_loss=0.177, val_accuracy=0.943]\n",
      "Validating:  21%|██        | 6/29 [00:04<00:09,  2.54it/s]\u001b[A\n",
      "Epoch 124:  92%|█████████▏| 234/255 [02:42<00:14,  1.44it/s, loss=0.0668, v_num=3, train_loss=0.019, train_accuracy=1.000, val_loss=0.177, val_accuracy=0.943]\n",
      "Validating:  28%|██▊       | 8/29 [00:05<00:05,  3.57it/s]\u001b[A\n",
      "Epoch 124:  93%|█████████▎| 236/255 [02:43<00:13,  1.45it/s, loss=0.0668, v_num=3, train_loss=0.019, train_accuracy=1.000, val_loss=0.177, val_accuracy=0.943]\n",
      "Validating:  34%|███▍      | 10/29 [00:05<00:04,  4.45it/s]\u001b[A\n",
      "Epoch 124:  93%|█████████▎| 238/255 [02:43<00:11,  1.46it/s, loss=0.0668, v_num=3, train_loss=0.019, train_accuracy=1.000, val_loss=0.177, val_accuracy=0.943]\n",
      "Validating:  41%|████▏     | 12/29 [00:05<00:03,  4.97it/s]\u001b[A\n",
      "Epoch 124:  94%|█████████▍| 240/255 [02:43<00:10,  1.46it/s, loss=0.0668, v_num=3, train_loss=0.019, train_accuracy=1.000, val_loss=0.177, val_accuracy=0.943]\n",
      "Validating:  48%|████▊     | 14/29 [00:06<00:02,  5.30it/s]\u001b[A\n",
      "Epoch 124:  95%|█████████▍| 242/255 [02:44<00:08,  1.47it/s, loss=0.0668, v_num=3, train_loss=0.019, train_accuracy=1.000, val_loss=0.177, val_accuracy=0.943]\n",
      "Validating:  55%|█████▌    | 16/29 [00:06<00:02,  5.52it/s]\u001b[A\n",
      "Epoch 124:  96%|█████████▌| 244/255 [02:44<00:07,  1.48it/s, loss=0.0668, v_num=3, train_loss=0.019, train_accuracy=1.000, val_loss=0.177, val_accuracy=0.943]\n",
      "Validating:  62%|██████▏   | 18/29 [00:06<00:01,  5.56it/s]\u001b[A\n",
      "Epoch 124:  96%|█████████▋| 246/255 [02:44<00:06,  1.49it/s, loss=0.0668, v_num=3, train_loss=0.019, train_accuracy=1.000, val_loss=0.177, val_accuracy=0.943]\n",
      "Validating:  69%|██████▉   | 20/29 [00:07<00:01,  5.58it/s]\u001b[A\n",
      "Epoch 124:  97%|█████████▋| 248/255 [02:45<00:04,  1.50it/s, loss=0.0668, v_num=3, train_loss=0.019, train_accuracy=1.000, val_loss=0.177, val_accuracy=0.943]\n",
      "Validating:  76%|███████▌  | 22/29 [00:07<00:01,  5.68it/s]\u001b[A\n",
      "Epoch 124:  98%|█████████▊| 250/255 [02:45<00:03,  1.51it/s, loss=0.0668, v_num=3, train_loss=0.019, train_accuracy=1.000, val_loss=0.177, val_accuracy=0.943]\n",
      "Validating:  83%|████████▎ | 24/29 [00:07<00:00,  5.65it/s]\u001b[A\n",
      "Epoch 124:  99%|█████████▉| 252/255 [02:46<00:01,  1.52it/s, loss=0.0668, v_num=3, train_loss=0.019, train_accuracy=1.000, val_loss=0.177, val_accuracy=0.943]\n",
      "Validating:  90%|████████▉ | 26/29 [00:08<00:00,  5.67it/s]\u001b[A\n",
      "Epoch 124: 100%|█████████▉| 254/255 [02:46<00:00,  1.53it/s, loss=0.0668, v_num=3, train_loss=0.019, train_accuracy=1.000, val_loss=0.177, val_accuracy=0.943]\n",
      "Validating:  97%|█████████▋| 28/29 [00:08<00:00,  5.61it/s]\u001b[A\n",
      "Epoch 124: 100%|██████████| 255/255 [02:47<00:00,  1.52it/s, loss=0.0668, v_num=3, train_loss=0.019, train_accuracy=1.000, val_loss=0.184, val_accuracy=0.946]\n",
      "Epoch 124: 100%|██████████| 255/255 [02:47<00:00,  1.52it/s, loss=0.0668, v_num=3, train_loss=0.019, train_accuracy=1.000, val_loss=0.184, val_accuracy=0.946]"
     ]
    },
    {
     "name": "stderr",
     "output_type": "stream",
     "text": [
      "Epoch 124, global step 28249: val_loss was not in top 2\n"
     ]
    },
    {
     "name": "stdout",
     "output_type": "stream",
     "text": [
      "Epoch 125:  89%|████████▊ | 226/255 [02:37<00:20,  1.43it/s, loss=0.0731, v_num=3, train_loss=0.323, train_accuracy=0.944, val_loss=0.184, val_accuracy=0.946]  \n",
      "Validating: 0it [00:00, ?it/s]\u001b[A\n",
      "Validating:   0%|          | 0/29 [00:00<?, ?it/s]\u001b[A\n",
      "Epoch 125:  89%|████████▉ | 228/255 [02:41<00:19,  1.41it/s, loss=0.0731, v_num=3, train_loss=0.323, train_accuracy=0.944, val_loss=0.184, val_accuracy=0.946]\n",
      "Validating:   7%|▋         | 2/29 [00:03<00:45,  1.67s/it]\u001b[A\n",
      "Epoch 125:  90%|█████████ | 230/255 [02:41<00:17,  1.42it/s, loss=0.0731, v_num=3, train_loss=0.323, train_accuracy=0.944, val_loss=0.184, val_accuracy=0.946]\n",
      "Validating:  14%|█▍        | 4/29 [00:04<00:16,  1.49it/s]\u001b[A\n",
      "Epoch 125:  91%|█████████ | 232/255 [02:42<00:16,  1.43it/s, loss=0.0731, v_num=3, train_loss=0.323, train_accuracy=0.944, val_loss=0.184, val_accuracy=0.946]\n",
      "Validating:  21%|██        | 6/29 [00:04<00:08,  2.60it/s]\u001b[A\n",
      "Epoch 125:  92%|█████████▏| 234/255 [02:42<00:14,  1.44it/s, loss=0.0731, v_num=3, train_loss=0.323, train_accuracy=0.944, val_loss=0.184, val_accuracy=0.946]\n",
      "Validating:  28%|██▊       | 8/29 [00:05<00:05,  3.68it/s]\u001b[A\n",
      "Epoch 125:  93%|█████████▎| 236/255 [02:42<00:13,  1.45it/s, loss=0.0731, v_num=3, train_loss=0.323, train_accuracy=0.944, val_loss=0.184, val_accuracy=0.946]\n",
      "Validating:  34%|███▍      | 10/29 [00:05<00:04,  4.53it/s]\u001b[A\n",
      "Epoch 125:  93%|█████████▎| 238/255 [02:43<00:11,  1.46it/s, loss=0.0731, v_num=3, train_loss=0.323, train_accuracy=0.944, val_loss=0.184, val_accuracy=0.946]\n",
      "Validating:  41%|████▏     | 12/29 [00:05<00:03,  5.05it/s]\u001b[A\n",
      "Epoch 125:  94%|█████████▍| 240/255 [02:43<00:10,  1.47it/s, loss=0.0731, v_num=3, train_loss=0.323, train_accuracy=0.944, val_loss=0.184, val_accuracy=0.946]\n",
      "Validating:  48%|████▊     | 14/29 [00:06<00:02,  5.26it/s]\u001b[A\n",
      "Epoch 125:  95%|█████████▍| 242/255 [02:43<00:08,  1.48it/s, loss=0.0731, v_num=3, train_loss=0.323, train_accuracy=0.944, val_loss=0.184, val_accuracy=0.946]\n",
      "Validating:  55%|█████▌    | 16/29 [00:06<00:02,  5.41it/s]\u001b[A\n",
      "Epoch 125:  96%|█████████▌| 244/255 [02:44<00:07,  1.48it/s, loss=0.0731, v_num=3, train_loss=0.323, train_accuracy=0.944, val_loss=0.184, val_accuracy=0.946]\n",
      "Validating:  62%|██████▏   | 18/29 [00:06<00:01,  5.52it/s]\u001b[A\n",
      "Epoch 125:  96%|█████████▋| 246/255 [02:44<00:06,  1.49it/s, loss=0.0731, v_num=3, train_loss=0.323, train_accuracy=0.944, val_loss=0.184, val_accuracy=0.946]\n",
      "Validating:  69%|██████▉   | 20/29 [00:07<00:01,  5.61it/s]\u001b[A\n",
      "Epoch 125:  97%|█████████▋| 248/255 [02:45<00:04,  1.50it/s, loss=0.0731, v_num=3, train_loss=0.323, train_accuracy=0.944, val_loss=0.184, val_accuracy=0.946]\n",
      "Validating:  76%|███████▌  | 22/29 [00:07<00:01,  5.67it/s]\u001b[A\n",
      "Epoch 125:  98%|█████████▊| 250/255 [02:45<00:03,  1.51it/s, loss=0.0731, v_num=3, train_loss=0.323, train_accuracy=0.944, val_loss=0.184, val_accuracy=0.946]\n",
      "Validating:  83%|████████▎ | 24/29 [00:07<00:00,  5.65it/s]\u001b[A\n",
      "Epoch 125:  99%|█████████▉| 252/255 [02:45<00:01,  1.52it/s, loss=0.0731, v_num=3, train_loss=0.323, train_accuracy=0.944, val_loss=0.184, val_accuracy=0.946]\n",
      "Validating:  90%|████████▉ | 26/29 [00:08<00:00,  5.63it/s]\u001b[A\n",
      "Epoch 125: 100%|█████████▉| 254/255 [02:46<00:00,  1.53it/s, loss=0.0731, v_num=3, train_loss=0.323, train_accuracy=0.944, val_loss=0.184, val_accuracy=0.946]\n",
      "Validating:  97%|█████████▋| 28/29 [00:08<00:00,  5.61it/s]\u001b[A\n",
      "Epoch 125: 100%|██████████| 255/255 [02:47<00:00,  1.53it/s, loss=0.0731, v_num=3, train_loss=0.323, train_accuracy=0.944, val_loss=0.164, val_accuracy=0.956]\n",
      "Epoch 125: 100%|██████████| 255/255 [02:47<00:00,  1.53it/s, loss=0.0731, v_num=3, train_loss=0.323, train_accuracy=0.944, val_loss=0.164, val_accuracy=0.956]"
     ]
    },
    {
     "name": "stderr",
     "output_type": "stream",
     "text": [
      "Epoch 125, global step 28475: val_loss was not in top 2\n"
     ]
    },
    {
     "name": "stdout",
     "output_type": "stream",
     "text": [
      "Epoch 126:  89%|████████▊ | 226/255 [02:35<00:19,  1.45it/s, loss=0.0665, v_num=3, train_loss=0.165, train_accuracy=0.944, val_loss=0.164, val_accuracy=0.956]  \n",
      "Validating: 0it [00:00, ?it/s]\u001b[A\n",
      "Validating:   0%|          | 0/29 [00:00<?, ?it/s]\u001b[A\n",
      "Epoch 126:  89%|████████▉ | 228/255 [02:39<00:18,  1.43it/s, loss=0.0665, v_num=3, train_loss=0.165, train_accuracy=0.944, val_loss=0.164, val_accuracy=0.956]\n",
      "Validating:   7%|▋         | 2/29 [00:03<00:45,  1.67s/it]\u001b[A\n",
      "Epoch 126:  90%|█████████ | 230/255 [02:39<00:17,  1.44it/s, loss=0.0665, v_num=3, train_loss=0.165, train_accuracy=0.944, val_loss=0.164, val_accuracy=0.956]\n",
      "Validating:  14%|█▍        | 4/29 [00:04<00:16,  1.49it/s]\u001b[A\n",
      "Epoch 126:  91%|█████████ | 232/255 [02:40<00:15,  1.45it/s, loss=0.0665, v_num=3, train_loss=0.165, train_accuracy=0.944, val_loss=0.164, val_accuracy=0.956]\n",
      "Validating:  21%|██        | 6/29 [00:04<00:09,  2.53it/s]\u001b[A\n",
      "Epoch 126:  92%|█████████▏| 234/255 [02:40<00:14,  1.46it/s, loss=0.0665, v_num=3, train_loss=0.165, train_accuracy=0.944, val_loss=0.164, val_accuracy=0.956]\n",
      "Validating:  28%|██▊       | 8/29 [00:05<00:05,  3.61it/s]\u001b[A\n",
      "Epoch 126:  93%|█████████▎| 236/255 [02:40<00:12,  1.47it/s, loss=0.0665, v_num=3, train_loss=0.165, train_accuracy=0.944, val_loss=0.164, val_accuracy=0.956]\n",
      "Validating:  34%|███▍      | 10/29 [00:05<00:04,  4.43it/s]\u001b[A\n",
      "Epoch 126:  93%|█████████▎| 238/255 [02:41<00:11,  1.48it/s, loss=0.0665, v_num=3, train_loss=0.165, train_accuracy=0.944, val_loss=0.164, val_accuracy=0.956]\n",
      "Validating:  41%|████▏     | 12/29 [00:05<00:03,  4.97it/s]\u001b[A\n",
      "Epoch 126:  94%|█████████▍| 240/255 [02:41<00:10,  1.48it/s, loss=0.0665, v_num=3, train_loss=0.165, train_accuracy=0.944, val_loss=0.164, val_accuracy=0.956]\n",
      "Validating:  48%|████▊     | 14/29 [00:06<00:02,  5.31it/s]\u001b[A\n",
      "Epoch 126:  95%|█████████▍| 242/255 [02:41<00:08,  1.49it/s, loss=0.0665, v_num=3, train_loss=0.165, train_accuracy=0.944, val_loss=0.164, val_accuracy=0.956]\n",
      "Validating:  55%|█████▌    | 16/29 [00:06<00:02,  5.46it/s]\u001b[A\n",
      "Epoch 126:  96%|█████████▌| 244/255 [02:42<00:07,  1.50it/s, loss=0.0665, v_num=3, train_loss=0.165, train_accuracy=0.944, val_loss=0.164, val_accuracy=0.956]\n",
      "Validating:  62%|██████▏   | 18/29 [00:06<00:01,  5.50it/s]\u001b[A\n",
      "Epoch 126:  96%|█████████▋| 246/255 [02:42<00:05,  1.51it/s, loss=0.0665, v_num=3, train_loss=0.165, train_accuracy=0.944, val_loss=0.164, val_accuracy=0.956]\n",
      "Validating:  69%|██████▉   | 20/29 [00:07<00:01,  5.59it/s]\u001b[A\n",
      "Epoch 126:  97%|█████████▋| 248/255 [02:43<00:04,  1.52it/s, loss=0.0665, v_num=3, train_loss=0.165, train_accuracy=0.944, val_loss=0.164, val_accuracy=0.956]\n",
      "Validating:  76%|███████▌  | 22/29 [00:07<00:01,  5.63it/s]\u001b[A\n",
      "Epoch 126:  98%|█████████▊| 250/255 [02:43<00:03,  1.53it/s, loss=0.0665, v_num=3, train_loss=0.165, train_accuracy=0.944, val_loss=0.164, val_accuracy=0.956]\n",
      "Validating:  83%|████████▎ | 24/29 [00:07<00:00,  5.71it/s]\u001b[A\n",
      "Epoch 126:  99%|█████████▉| 252/255 [02:43<00:01,  1.54it/s, loss=0.0665, v_num=3, train_loss=0.165, train_accuracy=0.944, val_loss=0.164, val_accuracy=0.956]\n",
      "Validating:  90%|████████▉ | 26/29 [00:08<00:00,  5.64it/s]\u001b[A\n",
      "Epoch 126: 100%|█████████▉| 254/255 [02:44<00:00,  1.55it/s, loss=0.0665, v_num=3, train_loss=0.165, train_accuracy=0.944, val_loss=0.164, val_accuracy=0.956]\n",
      "Validating:  97%|█████████▋| 28/29 [00:08<00:00,  5.59it/s]\u001b[A\n",
      "Epoch 126: 100%|██████████| 255/255 [02:44<00:00,  1.55it/s, loss=0.0665, v_num=3, train_loss=0.165, train_accuracy=0.944, val_loss=0.163, val_accuracy=0.955]\n",
      "Epoch 126: 100%|██████████| 255/255 [02:44<00:00,  1.55it/s, loss=0.0665, v_num=3, train_loss=0.165, train_accuracy=0.944, val_loss=0.163, val_accuracy=0.955]"
     ]
    },
    {
     "name": "stderr",
     "output_type": "stream",
     "text": [
      "Epoch 126, global step 28701: val_loss was not in top 2\n"
     ]
    },
    {
     "name": "stdout",
     "output_type": "stream",
     "text": [
      "Epoch 127:  89%|████████▊ | 226/255 [02:37<00:20,  1.43it/s, loss=0.122, v_num=3, train_loss=0.163, train_accuracy=0.889, val_loss=0.163, val_accuracy=0.955]   \n",
      "Validating: 0it [00:00, ?it/s]\u001b[A\n",
      "Validating:   0%|          | 0/29 [00:00<?, ?it/s]\u001b[A\n",
      "Epoch 127:  89%|████████▉ | 228/255 [02:41<00:19,  1.41it/s, loss=0.122, v_num=3, train_loss=0.163, train_accuracy=0.889, val_loss=0.163, val_accuracy=0.955]\n",
      "Validating:   7%|▋         | 2/29 [00:04<00:45,  1.68s/it]\u001b[A\n",
      "Epoch 127:  90%|█████████ | 230/255 [02:42<00:17,  1.42it/s, loss=0.122, v_num=3, train_loss=0.163, train_accuracy=0.889, val_loss=0.163, val_accuracy=0.955]\n",
      "Validating:  14%|█▍        | 4/29 [00:04<00:16,  1.48it/s]\u001b[A\n",
      "Epoch 127:  91%|█████████ | 232/255 [02:42<00:16,  1.43it/s, loss=0.122, v_num=3, train_loss=0.163, train_accuracy=0.889, val_loss=0.163, val_accuracy=0.955]\n",
      "Validating:  21%|██        | 6/29 [00:04<00:08,  2.58it/s]\u001b[A\n",
      "Epoch 127:  92%|█████████▏| 234/255 [02:42<00:14,  1.44it/s, loss=0.122, v_num=3, train_loss=0.163, train_accuracy=0.889, val_loss=0.163, val_accuracy=0.955]\n",
      "Validating:  28%|██▊       | 8/29 [00:05<00:05,  3.64it/s]\u001b[A\n",
      "Epoch 127:  93%|█████████▎| 236/255 [02:43<00:13,  1.45it/s, loss=0.122, v_num=3, train_loss=0.163, train_accuracy=0.889, val_loss=0.163, val_accuracy=0.955]\n",
      "Validating:  34%|███▍      | 10/29 [00:05<00:04,  4.43it/s]\u001b[A\n",
      "Epoch 127:  93%|█████████▎| 238/255 [02:43<00:11,  1.46it/s, loss=0.122, v_num=3, train_loss=0.163, train_accuracy=0.889, val_loss=0.163, val_accuracy=0.955]\n",
      "Validating:  41%|████▏     | 12/29 [00:05<00:03,  4.95it/s]\u001b[A\n",
      "Epoch 127:  94%|█████████▍| 240/255 [02:43<00:10,  1.46it/s, loss=0.122, v_num=3, train_loss=0.163, train_accuracy=0.889, val_loss=0.163, val_accuracy=0.955]\n",
      "Validating:  48%|████▊     | 14/29 [00:06<00:02,  5.27it/s]\u001b[A\n",
      "Epoch 127:  95%|█████████▍| 242/255 [02:44<00:08,  1.47it/s, loss=0.122, v_num=3, train_loss=0.163, train_accuracy=0.889, val_loss=0.163, val_accuracy=0.955]\n",
      "Validating:  55%|█████▌    | 16/29 [00:06<00:02,  5.47it/s]\u001b[A\n",
      "Epoch 127:  96%|█████████▌| 244/255 [02:44<00:07,  1.48it/s, loss=0.122, v_num=3, train_loss=0.163, train_accuracy=0.889, val_loss=0.163, val_accuracy=0.955]\n",
      "Validating:  62%|██████▏   | 18/29 [00:06<00:01,  5.54it/s]\u001b[A\n",
      "Epoch 127:  96%|█████████▋| 246/255 [02:44<00:06,  1.49it/s, loss=0.122, v_num=3, train_loss=0.163, train_accuracy=0.889, val_loss=0.163, val_accuracy=0.955]\n",
      "Validating:  69%|██████▉   | 20/29 [00:07<00:01,  5.54it/s]\u001b[A\n",
      "Epoch 127:  97%|█████████▋| 248/255 [02:45<00:04,  1.50it/s, loss=0.122, v_num=3, train_loss=0.163, train_accuracy=0.889, val_loss=0.163, val_accuracy=0.955]\n",
      "Validating:  76%|███████▌  | 22/29 [00:07<00:01,  5.63it/s]\u001b[A\n",
      "Epoch 127:  98%|█████████▊| 250/255 [02:45<00:03,  1.51it/s, loss=0.122, v_num=3, train_loss=0.163, train_accuracy=0.889, val_loss=0.163, val_accuracy=0.955]\n",
      "Validating:  83%|████████▎ | 24/29 [00:07<00:00,  5.58it/s]\u001b[A\n",
      "Epoch 127:  99%|█████████▉| 252/255 [02:46<00:01,  1.52it/s, loss=0.122, v_num=3, train_loss=0.163, train_accuracy=0.889, val_loss=0.163, val_accuracy=0.955]\n",
      "Validating:  90%|████████▉ | 26/29 [00:08<00:00,  5.64it/s]\u001b[A\n",
      "Epoch 127: 100%|█████████▉| 254/255 [02:46<00:00,  1.53it/s, loss=0.122, v_num=3, train_loss=0.163, train_accuracy=0.889, val_loss=0.163, val_accuracy=0.955]\n",
      "Validating:  97%|█████████▋| 28/29 [00:08<00:00,  5.56it/s]\u001b[A\n",
      "Epoch 127: 100%|██████████| 255/255 [02:47<00:00,  1.52it/s, loss=0.122, v_num=3, train_loss=0.163, train_accuracy=0.889, val_loss=0.193, val_accuracy=0.931]\n",
      "Epoch 127: 100%|██████████| 255/255 [02:47<00:00,  1.52it/s, loss=0.122, v_num=3, train_loss=0.163, train_accuracy=0.889, val_loss=0.193, val_accuracy=0.931]"
     ]
    },
    {
     "name": "stderr",
     "output_type": "stream",
     "text": [
      "Epoch 127, global step 28927: val_loss was not in top 2\n"
     ]
    },
    {
     "name": "stdout",
     "output_type": "stream",
     "text": [
      "Epoch 128:  89%|████████▊ | 226/255 [02:37<00:20,  1.43it/s, loss=0.097, v_num=3, train_loss=0.115, train_accuracy=0.944, val_loss=0.193, val_accuracy=0.931]  \n",
      "Validating: 0it [00:00, ?it/s]\u001b[A\n",
      "Validating:   0%|          | 0/29 [00:00<?, ?it/s]\u001b[A\n",
      "Epoch 128:  89%|████████▉ | 228/255 [02:41<00:19,  1.41it/s, loss=0.097, v_num=3, train_loss=0.115, train_accuracy=0.944, val_loss=0.193, val_accuracy=0.931]\n",
      "Validating:   7%|▋         | 2/29 [00:03<00:44,  1.66s/it]\u001b[A\n",
      "Epoch 128:  90%|█████████ | 230/255 [02:41<00:17,  1.42it/s, loss=0.097, v_num=3, train_loss=0.115, train_accuracy=0.944, val_loss=0.193, val_accuracy=0.931]\n",
      "Validating:  14%|█▍        | 4/29 [00:04<00:16,  1.51it/s]\u001b[A\n",
      "Epoch 128:  91%|█████████ | 232/255 [02:42<00:16,  1.43it/s, loss=0.097, v_num=3, train_loss=0.115, train_accuracy=0.944, val_loss=0.193, val_accuracy=0.931]\n",
      "Validating:  21%|██        | 6/29 [00:04<00:08,  2.61it/s]\u001b[A\n",
      "Epoch 128:  92%|█████████▏| 234/255 [02:42<00:14,  1.44it/s, loss=0.097, v_num=3, train_loss=0.115, train_accuracy=0.944, val_loss=0.193, val_accuracy=0.931]\n",
      "Validating:  28%|██▊       | 8/29 [00:05<00:05,  3.61it/s]\u001b[A\n",
      "Epoch 128:  93%|█████████▎| 236/255 [02:42<00:13,  1.45it/s, loss=0.097, v_num=3, train_loss=0.115, train_accuracy=0.944, val_loss=0.193, val_accuracy=0.931]\n",
      "Validating:  34%|███▍      | 10/29 [00:05<00:04,  4.46it/s]\u001b[A\n",
      "Epoch 128:  93%|█████████▎| 238/255 [02:43<00:11,  1.46it/s, loss=0.097, v_num=3, train_loss=0.115, train_accuracy=0.944, val_loss=0.193, val_accuracy=0.931]\n",
      "Validating:  41%|████▏     | 12/29 [00:05<00:03,  5.01it/s]\u001b[A\n",
      "Epoch 128:  94%|█████████▍| 240/255 [02:43<00:10,  1.47it/s, loss=0.097, v_num=3, train_loss=0.115, train_accuracy=0.944, val_loss=0.193, val_accuracy=0.931]\n",
      "Validating:  48%|████▊     | 14/29 [00:06<00:02,  5.26it/s]\u001b[A\n",
      "Epoch 128:  95%|█████████▍| 242/255 [02:43<00:08,  1.48it/s, loss=0.097, v_num=3, train_loss=0.115, train_accuracy=0.944, val_loss=0.193, val_accuracy=0.931]\n",
      "Validating:  55%|█████▌    | 16/29 [00:06<00:02,  5.45it/s]\u001b[A\n",
      "Epoch 128:  96%|█████████▌| 244/255 [02:44<00:07,  1.48it/s, loss=0.097, v_num=3, train_loss=0.115, train_accuracy=0.944, val_loss=0.193, val_accuracy=0.931]\n",
      "Validating:  62%|██████▏   | 18/29 [00:06<00:01,  5.53it/s]\u001b[A\n",
      "Epoch 128:  96%|█████████▋| 246/255 [02:44<00:06,  1.49it/s, loss=0.097, v_num=3, train_loss=0.115, train_accuracy=0.944, val_loss=0.193, val_accuracy=0.931]\n",
      "Validating:  69%|██████▉   | 20/29 [00:07<00:01,  5.61it/s]\u001b[A\n",
      "Epoch 128:  97%|█████████▋| 248/255 [02:45<00:04,  1.50it/s, loss=0.097, v_num=3, train_loss=0.115, train_accuracy=0.944, val_loss=0.193, val_accuracy=0.931]\n",
      "Validating:  76%|███████▌  | 22/29 [00:07<00:01,  5.66it/s]\u001b[A\n",
      "Epoch 128:  98%|█████████▊| 250/255 [02:45<00:03,  1.51it/s, loss=0.097, v_num=3, train_loss=0.115, train_accuracy=0.944, val_loss=0.193, val_accuracy=0.931]\n",
      "Validating:  83%|████████▎ | 24/29 [00:07<00:00,  5.70it/s]\u001b[A\n",
      "Epoch 128:  99%|█████████▉| 252/255 [02:45<00:01,  1.52it/s, loss=0.097, v_num=3, train_loss=0.115, train_accuracy=0.944, val_loss=0.193, val_accuracy=0.931]\n",
      "Validating:  90%|████████▉ | 26/29 [00:08<00:00,  5.51it/s]\u001b[A\n",
      "Epoch 128: 100%|█████████▉| 254/255 [02:46<00:00,  1.53it/s, loss=0.097, v_num=3, train_loss=0.115, train_accuracy=0.944, val_loss=0.193, val_accuracy=0.931]\n",
      "Validating:  97%|█████████▋| 28/29 [00:08<00:00,  5.56it/s]\u001b[A\n",
      "Epoch 128: 100%|██████████| 255/255 [02:46<00:00,  1.53it/s, loss=0.097, v_num=3, train_loss=0.115, train_accuracy=0.944, val_loss=0.189, val_accuracy=0.938]\n",
      "Epoch 128: 100%|██████████| 255/255 [02:46<00:00,  1.53it/s, loss=0.097, v_num=3, train_loss=0.115, train_accuracy=0.944, val_loss=0.189, val_accuracy=0.938]"
     ]
    },
    {
     "name": "stderr",
     "output_type": "stream",
     "text": [
      "Epoch 128, global step 29153: val_loss was not in top 2\n"
     ]
    },
    {
     "name": "stdout",
     "output_type": "stream",
     "text": [
      "Epoch 129:  89%|████████▊ | 226/255 [02:37<00:20,  1.43it/s, loss=0.0728, v_num=3, train_loss=0.0215, train_accuracy=1.000, val_loss=0.189, val_accuracy=0.938] \n",
      "Validating: 0it [00:00, ?it/s]\u001b[A\n",
      "Validating:   0%|          | 0/29 [00:00<?, ?it/s]\u001b[A\n",
      "Epoch 129:  89%|████████▉ | 228/255 [02:41<00:19,  1.41it/s, loss=0.0728, v_num=3, train_loss=0.0215, train_accuracy=1.000, val_loss=0.189, val_accuracy=0.938]\n",
      "Validating:   7%|▋         | 2/29 [00:03<00:44,  1.64s/it]\u001b[A\n",
      "Epoch 129:  90%|█████████ | 230/255 [02:41<00:17,  1.42it/s, loss=0.0728, v_num=3, train_loss=0.0215, train_accuracy=1.000, val_loss=0.189, val_accuracy=0.938]\n",
      "Validating:  14%|█▍        | 4/29 [00:04<00:16,  1.50it/s]\u001b[A\n",
      "Epoch 129:  91%|█████████ | 232/255 [02:42<00:16,  1.43it/s, loss=0.0728, v_num=3, train_loss=0.0215, train_accuracy=1.000, val_loss=0.189, val_accuracy=0.938]\n",
      "Validating:  21%|██        | 6/29 [00:04<00:08,  2.58it/s]\u001b[A\n",
      "Epoch 129:  92%|█████████▏| 234/255 [02:42<00:14,  1.44it/s, loss=0.0728, v_num=3, train_loss=0.0215, train_accuracy=1.000, val_loss=0.189, val_accuracy=0.938]\n",
      "Validating:  28%|██▊       | 8/29 [00:05<00:05,  3.67it/s]\u001b[A\n",
      "Epoch 129:  93%|█████████▎| 236/255 [02:42<00:13,  1.45it/s, loss=0.0728, v_num=3, train_loss=0.0215, train_accuracy=1.000, val_loss=0.189, val_accuracy=0.938]\n",
      "Validating:  34%|███▍      | 10/29 [00:05<00:04,  4.45it/s]\u001b[A\n",
      "Epoch 129:  93%|█████████▎| 238/255 [02:43<00:11,  1.46it/s, loss=0.0728, v_num=3, train_loss=0.0215, train_accuracy=1.000, val_loss=0.189, val_accuracy=0.938]\n",
      "Validating:  41%|████▏     | 12/29 [00:05<00:03,  4.97it/s]\u001b[A\n",
      "Epoch 129:  94%|█████████▍| 240/255 [02:43<00:10,  1.47it/s, loss=0.0728, v_num=3, train_loss=0.0215, train_accuracy=1.000, val_loss=0.189, val_accuracy=0.938]\n",
      "Validating:  48%|████▊     | 14/29 [00:06<00:02,  5.28it/s]\u001b[A\n",
      "Epoch 129:  95%|█████████▍| 242/255 [02:43<00:08,  1.48it/s, loss=0.0728, v_num=3, train_loss=0.0215, train_accuracy=1.000, val_loss=0.189, val_accuracy=0.938]\n",
      "Validating:  55%|█████▌    | 16/29 [00:06<00:02,  5.37it/s]\u001b[A\n",
      "Epoch 129:  96%|█████████▌| 244/255 [02:44<00:07,  1.49it/s, loss=0.0728, v_num=3, train_loss=0.0215, train_accuracy=1.000, val_loss=0.189, val_accuracy=0.938]\n",
      "Validating:  62%|██████▏   | 18/29 [00:06<00:02,  5.48it/s]\u001b[A\n",
      "Epoch 129:  96%|█████████▋| 246/255 [02:44<00:06,  1.49it/s, loss=0.0728, v_num=3, train_loss=0.0215, train_accuracy=1.000, val_loss=0.189, val_accuracy=0.938]\n",
      "Validating:  69%|██████▉   | 20/29 [00:07<00:01,  5.57it/s]\u001b[A\n",
      "Epoch 129:  97%|█████████▋| 248/255 [02:45<00:04,  1.50it/s, loss=0.0728, v_num=3, train_loss=0.0215, train_accuracy=1.000, val_loss=0.189, val_accuracy=0.938]\n",
      "Validating:  76%|███████▌  | 22/29 [00:07<00:01,  5.62it/s]\u001b[A\n",
      "Epoch 129:  98%|█████████▊| 250/255 [02:45<00:03,  1.51it/s, loss=0.0728, v_num=3, train_loss=0.0215, train_accuracy=1.000, val_loss=0.189, val_accuracy=0.938]\n",
      "Validating:  83%|████████▎ | 24/29 [00:07<00:00,  5.60it/s]\u001b[A\n",
      "Epoch 129:  99%|█████████▉| 252/255 [02:45<00:01,  1.52it/s, loss=0.0728, v_num=3, train_loss=0.0215, train_accuracy=1.000, val_loss=0.189, val_accuracy=0.938]\n",
      "Validating:  90%|████████▉ | 26/29 [00:08<00:00,  5.60it/s]\u001b[A\n",
      "Epoch 129: 100%|█████████▉| 254/255 [02:46<00:00,  1.53it/s, loss=0.0728, v_num=3, train_loss=0.0215, train_accuracy=1.000, val_loss=0.189, val_accuracy=0.938]\n",
      "Validating:  97%|█████████▋| 28/29 [00:08<00:00,  5.60it/s]\u001b[A\n",
      "Epoch 129: 100%|██████████| 255/255 [02:46<00:00,  1.53it/s, loss=0.0728, v_num=3, train_loss=0.0215, train_accuracy=1.000, val_loss=0.195, val_accuracy=0.934]\n",
      "Epoch 129: 100%|██████████| 255/255 [02:46<00:00,  1.53it/s, loss=0.0728, v_num=3, train_loss=0.0215, train_accuracy=1.000, val_loss=0.195, val_accuracy=0.934]"
     ]
    },
    {
     "name": "stderr",
     "output_type": "stream",
     "text": [
      "Epoch 129, global step 29379: val_loss was not in top 2\n"
     ]
    },
    {
     "name": "stdout",
     "output_type": "stream",
     "text": [
      "Epoch 130:  89%|████████▊ | 226/255 [02:38<00:20,  1.43it/s, loss=0.0786, v_num=3, train_loss=0.034, train_accuracy=1.000, val_loss=0.195, val_accuracy=0.934]  \n",
      "Validating: 0it [00:00, ?it/s]\u001b[A\n",
      "Validating:   0%|          | 0/29 [00:00<?, ?it/s]\u001b[A\n",
      "Epoch 130:  89%|████████▉ | 228/255 [02:41<00:19,  1.41it/s, loss=0.0786, v_num=3, train_loss=0.034, train_accuracy=1.000, val_loss=0.195, val_accuracy=0.934]\n",
      "Validating:   7%|▋         | 2/29 [00:03<00:44,  1.64s/it]\u001b[A\n",
      "Epoch 130:  90%|█████████ | 230/255 [02:42<00:17,  1.42it/s, loss=0.0786, v_num=3, train_loss=0.034, train_accuracy=1.000, val_loss=0.195, val_accuracy=0.934]\n",
      "Validating:  14%|█▍        | 4/29 [00:04<00:16,  1.52it/s]\u001b[A\n",
      "Epoch 130:  91%|█████████ | 232/255 [02:42<00:16,  1.43it/s, loss=0.0786, v_num=3, train_loss=0.034, train_accuracy=1.000, val_loss=0.195, val_accuracy=0.934]\n",
      "Validating:  21%|██        | 6/29 [00:04<00:08,  2.59it/s]\u001b[A\n",
      "Epoch 130:  92%|█████████▏| 234/255 [02:43<00:14,  1.44it/s, loss=0.0786, v_num=3, train_loss=0.034, train_accuracy=1.000, val_loss=0.195, val_accuracy=0.934]\n",
      "Validating:  28%|██▊       | 8/29 [00:04<00:05,  3.68it/s]\u001b[A\n",
      "Epoch 130:  93%|█████████▎| 236/255 [02:43<00:13,  1.44it/s, loss=0.0786, v_num=3, train_loss=0.034, train_accuracy=1.000, val_loss=0.195, val_accuracy=0.934]\n",
      "Validating:  34%|███▍      | 10/29 [00:05<00:04,  4.50it/s]\u001b[A\n",
      "Epoch 130:  93%|█████████▎| 238/255 [02:43<00:11,  1.45it/s, loss=0.0786, v_num=3, train_loss=0.034, train_accuracy=1.000, val_loss=0.195, val_accuracy=0.934]\n",
      "Validating:  41%|████▏     | 12/29 [00:05<00:03,  5.05it/s]\u001b[A\n",
      "Epoch 130:  94%|█████████▍| 240/255 [02:44<00:10,  1.46it/s, loss=0.0786, v_num=3, train_loss=0.034, train_accuracy=1.000, val_loss=0.195, val_accuracy=0.934]\n",
      "Validating:  48%|████▊     | 14/29 [00:06<00:02,  5.32it/s]\u001b[A\n",
      "Epoch 130:  95%|█████████▍| 242/255 [02:44<00:08,  1.47it/s, loss=0.0786, v_num=3, train_loss=0.034, train_accuracy=1.000, val_loss=0.195, val_accuracy=0.934]\n",
      "Validating:  55%|█████▌    | 16/29 [00:06<00:02,  5.49it/s]\u001b[A\n",
      "Epoch 130:  96%|█████████▌| 244/255 [02:44<00:07,  1.48it/s, loss=0.0786, v_num=3, train_loss=0.034, train_accuracy=1.000, val_loss=0.195, val_accuracy=0.934]\n",
      "Validating:  62%|██████▏   | 18/29 [00:06<00:01,  5.52it/s]\u001b[A\n",
      "Epoch 130:  96%|█████████▋| 246/255 [02:45<00:06,  1.49it/s, loss=0.0786, v_num=3, train_loss=0.034, train_accuracy=1.000, val_loss=0.195, val_accuracy=0.934]\n",
      "Validating:  69%|██████▉   | 20/29 [00:07<00:01,  5.56it/s]\u001b[A\n",
      "Epoch 130:  97%|█████████▋| 248/255 [02:45<00:04,  1.50it/s, loss=0.0786, v_num=3, train_loss=0.034, train_accuracy=1.000, val_loss=0.195, val_accuracy=0.934]\n",
      "Validating:  76%|███████▌  | 22/29 [00:07<00:01,  5.65it/s]\u001b[A\n",
      "Epoch 130:  98%|█████████▊| 250/255 [02:45<00:03,  1.51it/s, loss=0.0786, v_num=3, train_loss=0.034, train_accuracy=1.000, val_loss=0.195, val_accuracy=0.934]\n",
      "Validating:  83%|████████▎ | 24/29 [00:07<00:00,  5.68it/s]\u001b[A\n",
      "Epoch 130:  99%|█████████▉| 252/255 [02:46<00:01,  1.52it/s, loss=0.0786, v_num=3, train_loss=0.034, train_accuracy=1.000, val_loss=0.195, val_accuracy=0.934]\n",
      "Validating:  90%|████████▉ | 26/29 [00:08<00:00,  5.64it/s]\u001b[A\n",
      "Epoch 130: 100%|█████████▉| 254/255 [02:46<00:00,  1.52it/s, loss=0.0786, v_num=3, train_loss=0.034, train_accuracy=1.000, val_loss=0.195, val_accuracy=0.934]\n",
      "Validating:  97%|█████████▋| 28/29 [00:08<00:00,  5.58it/s]\u001b[A\n",
      "Epoch 130: 100%|██████████| 255/255 [02:47<00:00,  1.52it/s, loss=0.0786, v_num=3, train_loss=0.034, train_accuracy=1.000, val_loss=0.154, val_accuracy=0.949]\n",
      "Epoch 130: 100%|██████████| 255/255 [02:47<00:00,  1.52it/s, loss=0.0786, v_num=3, train_loss=0.034, train_accuracy=1.000, val_loss=0.154, val_accuracy=0.949]"
     ]
    },
    {
     "name": "stderr",
     "output_type": "stream",
     "text": [
      "Epoch 130, global step 29605: val_loss was not in top 2\n"
     ]
    },
    {
     "name": "stdout",
     "output_type": "stream",
     "text": [
      "Epoch 131:  89%|████████▊ | 226/255 [02:37<00:20,  1.43it/s, loss=0.0532, v_num=3, train_loss=0.0496, train_accuracy=0.944, val_loss=0.154, val_accuracy=0.949] \n",
      "Validating: 0it [00:00, ?it/s]\u001b[A\n",
      "Validating:   0%|          | 0/29 [00:00<?, ?it/s]\u001b[A\n",
      "Epoch 131:  89%|████████▉ | 228/255 [02:41<00:19,  1.41it/s, loss=0.0532, v_num=3, train_loss=0.0496, train_accuracy=0.944, val_loss=0.154, val_accuracy=0.949]\n",
      "Validating:   7%|▋         | 2/29 [00:03<00:44,  1.65s/it]\u001b[A\n",
      "Epoch 131:  90%|█████████ | 230/255 [02:41<00:17,  1.42it/s, loss=0.0532, v_num=3, train_loss=0.0496, train_accuracy=0.944, val_loss=0.154, val_accuracy=0.949]\n",
      "Validating:  14%|█▍        | 4/29 [00:04<00:16,  1.49it/s]\u001b[A\n",
      "Epoch 131:  91%|█████████ | 232/255 [02:42<00:16,  1.43it/s, loss=0.0532, v_num=3, train_loss=0.0496, train_accuracy=0.944, val_loss=0.154, val_accuracy=0.949]\n",
      "Validating:  21%|██        | 6/29 [00:04<00:08,  2.59it/s]\u001b[A\n",
      "Epoch 131:  92%|█████████▏| 234/255 [02:42<00:14,  1.44it/s, loss=0.0532, v_num=3, train_loss=0.0496, train_accuracy=0.944, val_loss=0.154, val_accuracy=0.949]\n",
      "Validating:  28%|██▊       | 8/29 [00:05<00:05,  3.67it/s]\u001b[A\n",
      "Epoch 131:  93%|█████████▎| 236/255 [02:42<00:13,  1.45it/s, loss=0.0532, v_num=3, train_loss=0.0496, train_accuracy=0.944, val_loss=0.154, val_accuracy=0.949]\n",
      "Validating:  34%|███▍      | 10/29 [00:05<00:04,  4.49it/s]\u001b[A\n",
      "Epoch 131:  93%|█████████▎| 238/255 [02:43<00:11,  1.46it/s, loss=0.0532, v_num=3, train_loss=0.0496, train_accuracy=0.944, val_loss=0.154, val_accuracy=0.949]\n",
      "Validating:  41%|████▏     | 12/29 [00:05<00:03,  5.03it/s]\u001b[A\n",
      "Epoch 131:  94%|█████████▍| 240/255 [02:43<00:10,  1.47it/s, loss=0.0532, v_num=3, train_loss=0.0496, train_accuracy=0.944, val_loss=0.154, val_accuracy=0.949]\n",
      "Validating:  48%|████▊     | 14/29 [00:06<00:02,  5.38it/s]\u001b[A\n",
      "Epoch 131:  95%|█████████▍| 242/255 [02:44<00:08,  1.48it/s, loss=0.0532, v_num=3, train_loss=0.0496, train_accuracy=0.944, val_loss=0.154, val_accuracy=0.949]\n",
      "Validating:  55%|█████▌    | 16/29 [00:06<00:02,  5.38it/s]\u001b[A\n",
      "Epoch 131:  96%|█████████▌| 244/255 [02:44<00:07,  1.48it/s, loss=0.0532, v_num=3, train_loss=0.0496, train_accuracy=0.944, val_loss=0.154, val_accuracy=0.949]\n",
      "Validating:  62%|██████▏   | 18/29 [00:06<00:01,  5.53it/s]\u001b[A\n",
      "Epoch 131:  96%|█████████▋| 246/255 [02:44<00:06,  1.49it/s, loss=0.0532, v_num=3, train_loss=0.0496, train_accuracy=0.944, val_loss=0.154, val_accuracy=0.949]\n",
      "Validating:  69%|██████▉   | 20/29 [00:07<00:01,  5.50it/s]\u001b[A\n",
      "Epoch 131:  97%|█████████▋| 248/255 [02:45<00:04,  1.50it/s, loss=0.0532, v_num=3, train_loss=0.0496, train_accuracy=0.944, val_loss=0.154, val_accuracy=0.949]\n",
      "Validating:  76%|███████▌  | 22/29 [00:07<00:01,  5.59it/s]\u001b[A\n",
      "Epoch 131:  98%|█████████▊| 250/255 [02:45<00:03,  1.51it/s, loss=0.0532, v_num=3, train_loss=0.0496, train_accuracy=0.944, val_loss=0.154, val_accuracy=0.949]\n",
      "Validating:  83%|████████▎ | 24/29 [00:07<00:00,  5.65it/s]\u001b[A\n",
      "Epoch 131:  99%|█████████▉| 252/255 [02:45<00:01,  1.52it/s, loss=0.0532, v_num=3, train_loss=0.0496, train_accuracy=0.944, val_loss=0.154, val_accuracy=0.949]\n",
      "Validating:  90%|████████▉ | 26/29 [00:08<00:00,  5.53it/s]\u001b[A\n",
      "Epoch 131: 100%|█████████▉| 254/255 [02:46<00:00,  1.53it/s, loss=0.0532, v_num=3, train_loss=0.0496, train_accuracy=0.944, val_loss=0.154, val_accuracy=0.949]\n",
      "Validating:  97%|█████████▋| 28/29 [00:08<00:00,  5.53it/s]\u001b[A\n",
      "Epoch 131: 100%|██████████| 255/255 [02:47<00:00,  1.53it/s, loss=0.0532, v_num=3, train_loss=0.0496, train_accuracy=0.944, val_loss=0.162, val_accuracy=0.946]\n",
      "Epoch 131: 100%|██████████| 255/255 [02:47<00:00,  1.53it/s, loss=0.0532, v_num=3, train_loss=0.0496, train_accuracy=0.944, val_loss=0.162, val_accuracy=0.946]"
     ]
    },
    {
     "name": "stderr",
     "output_type": "stream",
     "text": [
      "Epoch 131, global step 29831: val_loss was not in top 2\n"
     ]
    },
    {
     "name": "stdout",
     "output_type": "stream",
     "text": [
      "Epoch 132:  89%|████████▊ | 226/255 [02:37<00:20,  1.43it/s, loss=0.0586, v_num=3, train_loss=0.0113, train_accuracy=1.000, val_loss=0.162, val_accuracy=0.946] \n",
      "Validating: 0it [00:00, ?it/s]\u001b[A\n",
      "Validating:   0%|          | 0/29 [00:00<?, ?it/s]\u001b[A\n",
      "Epoch 132:  89%|████████▉ | 228/255 [02:41<00:19,  1.41it/s, loss=0.0586, v_num=3, train_loss=0.0113, train_accuracy=1.000, val_loss=0.162, val_accuracy=0.946]\n",
      "Validating:   7%|▋         | 2/29 [00:03<00:45,  1.67s/it]\u001b[A\n",
      "Epoch 132:  90%|█████████ | 230/255 [02:42<00:17,  1.42it/s, loss=0.0586, v_num=3, train_loss=0.0113, train_accuracy=1.000, val_loss=0.162, val_accuracy=0.946]\n",
      "Validating:  14%|█▍        | 4/29 [00:04<00:16,  1.49it/s]\u001b[A\n",
      "Epoch 132:  91%|█████████ | 232/255 [02:42<00:16,  1.43it/s, loss=0.0586, v_num=3, train_loss=0.0113, train_accuracy=1.000, val_loss=0.162, val_accuracy=0.946]\n",
      "Validating:  21%|██        | 6/29 [00:04<00:08,  2.56it/s]\u001b[A\n",
      "Epoch 132:  92%|█████████▏| 234/255 [02:42<00:14,  1.44it/s, loss=0.0586, v_num=3, train_loss=0.0113, train_accuracy=1.000, val_loss=0.162, val_accuracy=0.946]\n",
      "Validating:  28%|██▊       | 8/29 [00:05<00:05,  3.63it/s]\u001b[A\n",
      "Epoch 132:  93%|█████████▎| 236/255 [02:43<00:13,  1.45it/s, loss=0.0586, v_num=3, train_loss=0.0113, train_accuracy=1.000, val_loss=0.162, val_accuracy=0.946]\n",
      "Validating:  34%|███▍      | 10/29 [00:05<00:04,  4.43it/s]\u001b[A\n",
      "Epoch 132:  93%|█████████▎| 238/255 [02:43<00:11,  1.46it/s, loss=0.0586, v_num=3, train_loss=0.0113, train_accuracy=1.000, val_loss=0.162, val_accuracy=0.946]\n",
      "Validating:  41%|████▏     | 12/29 [00:05<00:03,  4.94it/s]\u001b[A\n",
      "Epoch 132:  94%|█████████▍| 240/255 [02:43<00:10,  1.46it/s, loss=0.0586, v_num=3, train_loss=0.0113, train_accuracy=1.000, val_loss=0.162, val_accuracy=0.946]\n",
      "Validating:  48%|████▊     | 14/29 [00:06<00:02,  5.27it/s]\u001b[A\n",
      "Epoch 132:  95%|█████████▍| 242/255 [02:44<00:08,  1.47it/s, loss=0.0586, v_num=3, train_loss=0.0113, train_accuracy=1.000, val_loss=0.162, val_accuracy=0.946]\n",
      "Validating:  55%|█████▌    | 16/29 [00:06<00:02,  5.47it/s]\u001b[A\n",
      "Epoch 132:  96%|█████████▌| 244/255 [02:44<00:07,  1.48it/s, loss=0.0586, v_num=3, train_loss=0.0113, train_accuracy=1.000, val_loss=0.162, val_accuracy=0.946]\n",
      "Validating:  62%|██████▏   | 18/29 [00:06<00:01,  5.60it/s]\u001b[A\n",
      "Epoch 132:  96%|█████████▋| 246/255 [02:44<00:06,  1.49it/s, loss=0.0586, v_num=3, train_loss=0.0113, train_accuracy=1.000, val_loss=0.162, val_accuracy=0.946]\n",
      "Validating:  69%|██████▉   | 20/29 [00:07<00:01,  5.63it/s]\u001b[A\n",
      "Epoch 132:  97%|█████████▋| 248/255 [02:45<00:04,  1.50it/s, loss=0.0586, v_num=3, train_loss=0.0113, train_accuracy=1.000, val_loss=0.162, val_accuracy=0.946]\n",
      "Validating:  76%|███████▌  | 22/29 [00:07<00:01,  5.63it/s]\u001b[A\n",
      "Epoch 132:  98%|█████████▊| 250/255 [02:45<00:03,  1.51it/s, loss=0.0586, v_num=3, train_loss=0.0113, train_accuracy=1.000, val_loss=0.162, val_accuracy=0.946]\n",
      "Validating:  83%|████████▎ | 24/29 [00:07<00:00,  5.62it/s]\u001b[A\n",
      "Epoch 132:  99%|█████████▉| 252/255 [02:46<00:01,  1.52it/s, loss=0.0586, v_num=3, train_loss=0.0113, train_accuracy=1.000, val_loss=0.162, val_accuracy=0.946]\n",
      "Validating:  90%|████████▉ | 26/29 [00:08<00:00,  5.60it/s]\u001b[A\n",
      "Epoch 132: 100%|█████████▉| 254/255 [02:46<00:00,  1.53it/s, loss=0.0586, v_num=3, train_loss=0.0113, train_accuracy=1.000, val_loss=0.162, val_accuracy=0.946]\n",
      "Validating:  97%|█████████▋| 28/29 [00:08<00:00,  5.66it/s]\u001b[A\n",
      "Epoch 132: 100%|██████████| 255/255 [02:47<00:00,  1.52it/s, loss=0.0586, v_num=3, train_loss=0.0113, train_accuracy=1.000, val_loss=0.180, val_accuracy=0.942]\n",
      "Epoch 132: 100%|██████████| 255/255 [02:47<00:00,  1.52it/s, loss=0.0586, v_num=3, train_loss=0.0113, train_accuracy=1.000, val_loss=0.180, val_accuracy=0.942]"
     ]
    },
    {
     "name": "stderr",
     "output_type": "stream",
     "text": [
      "Epoch 132, global step 30057: val_loss was not in top 2\n"
     ]
    },
    {
     "name": "stdout",
     "output_type": "stream",
     "text": [
      "Epoch 133:  89%|████████▊ | 226/255 [02:37<00:20,  1.43it/s, loss=0.0328, v_num=3, train_loss=0.0477, train_accuracy=1.000, val_loss=0.180, val_accuracy=0.942] \n",
      "Validating: 0it [00:00, ?it/s]\u001b[A\n",
      "Validating:   0%|          | 0/29 [00:00<?, ?it/s]\u001b[A\n",
      "Epoch 133:  89%|████████▉ | 228/255 [02:41<00:19,  1.41it/s, loss=0.0328, v_num=3, train_loss=0.0477, train_accuracy=1.000, val_loss=0.180, val_accuracy=0.942]\n",
      "Validating:   7%|▋         | 2/29 [00:03<00:44,  1.66s/it]\u001b[A\n",
      "Epoch 133:  90%|█████████ | 230/255 [02:41<00:17,  1.42it/s, loss=0.0328, v_num=3, train_loss=0.0477, train_accuracy=1.000, val_loss=0.180, val_accuracy=0.942]\n",
      "Validating:  14%|█▍        | 4/29 [00:04<00:16,  1.50it/s]\u001b[A\n",
      "Epoch 133:  91%|█████████ | 232/255 [02:42<00:16,  1.43it/s, loss=0.0328, v_num=3, train_loss=0.0477, train_accuracy=1.000, val_loss=0.180, val_accuracy=0.942]\n",
      "Validating:  21%|██        | 6/29 [00:04<00:08,  2.57it/s]\u001b[A\n",
      "Epoch 133:  92%|█████████▏| 234/255 [02:42<00:14,  1.44it/s, loss=0.0328, v_num=3, train_loss=0.0477, train_accuracy=1.000, val_loss=0.180, val_accuracy=0.942]\n",
      "Validating:  28%|██▊       | 8/29 [00:05<00:05,  3.64it/s]\u001b[A\n",
      "Epoch 133:  93%|█████████▎| 236/255 [02:43<00:13,  1.45it/s, loss=0.0328, v_num=3, train_loss=0.0477, train_accuracy=1.000, val_loss=0.180, val_accuracy=0.942]\n",
      "Validating:  34%|███▍      | 10/29 [00:05<00:04,  4.45it/s]\u001b[A\n",
      "Epoch 133:  93%|█████████▎| 238/255 [02:43<00:11,  1.46it/s, loss=0.0328, v_num=3, train_loss=0.0477, train_accuracy=1.000, val_loss=0.180, val_accuracy=0.942]\n",
      "Validating:  41%|████▏     | 12/29 [00:05<00:03,  4.97it/s]\u001b[A\n",
      "Epoch 133:  94%|█████████▍| 240/255 [02:43<00:10,  1.47it/s, loss=0.0328, v_num=3, train_loss=0.0477, train_accuracy=1.000, val_loss=0.180, val_accuracy=0.942]\n",
      "Validating:  48%|████▊     | 14/29 [00:06<00:02,  5.31it/s]\u001b[A\n",
      "Epoch 133:  95%|█████████▍| 242/255 [02:44<00:08,  1.47it/s, loss=0.0328, v_num=3, train_loss=0.0477, train_accuracy=1.000, val_loss=0.180, val_accuracy=0.942]\n",
      "Validating:  55%|█████▌    | 16/29 [00:06<00:02,  5.46it/s]\u001b[A\n",
      "Epoch 133:  96%|█████████▌| 244/255 [02:44<00:07,  1.48it/s, loss=0.0328, v_num=3, train_loss=0.0477, train_accuracy=1.000, val_loss=0.180, val_accuracy=0.942]\n",
      "Validating:  62%|██████▏   | 18/29 [00:06<00:01,  5.54it/s]\u001b[A\n",
      "Epoch 133:  96%|█████████▋| 246/255 [02:44<00:06,  1.49it/s, loss=0.0328, v_num=3, train_loss=0.0477, train_accuracy=1.000, val_loss=0.180, val_accuracy=0.942]\n",
      "Validating:  69%|██████▉   | 20/29 [00:07<00:01,  5.60it/s]\u001b[A\n",
      "Epoch 133:  97%|█████████▋| 248/255 [02:45<00:04,  1.50it/s, loss=0.0328, v_num=3, train_loss=0.0477, train_accuracy=1.000, val_loss=0.180, val_accuracy=0.942]\n",
      "Validating:  76%|███████▌  | 22/29 [00:07<00:01,  5.59it/s]\u001b[A\n",
      "Epoch 133:  98%|█████████▊| 250/255 [02:45<00:03,  1.51it/s, loss=0.0328, v_num=3, train_loss=0.0477, train_accuracy=1.000, val_loss=0.180, val_accuracy=0.942]\n",
      "Validating:  83%|████████▎ | 24/29 [00:07<00:00,  5.62it/s]\u001b[A\n",
      "Epoch 133:  99%|█████████▉| 252/255 [02:45<00:01,  1.52it/s, loss=0.0328, v_num=3, train_loss=0.0477, train_accuracy=1.000, val_loss=0.180, val_accuracy=0.942]\n",
      "Validating:  90%|████████▉ | 26/29 [00:08<00:00,  5.66it/s]\u001b[A\n",
      "Epoch 133: 100%|█████████▉| 254/255 [02:46<00:00,  1.53it/s, loss=0.0328, v_num=3, train_loss=0.0477, train_accuracy=1.000, val_loss=0.180, val_accuracy=0.942]\n",
      "Validating:  97%|█████████▋| 28/29 [00:08<00:00,  5.62it/s]\u001b[A\n",
      "Epoch 133: 100%|██████████| 255/255 [02:47<00:00,  1.53it/s, loss=0.0328, v_num=3, train_loss=0.0477, train_accuracy=1.000, val_loss=0.176, val_accuracy=0.952]\n",
      "Epoch 133: 100%|██████████| 255/255 [02:47<00:00,  1.53it/s, loss=0.0328, v_num=3, train_loss=0.0477, train_accuracy=1.000, val_loss=0.176, val_accuracy=0.952]"
     ]
    },
    {
     "name": "stderr",
     "output_type": "stream",
     "text": [
      "Epoch 133, global step 30283: val_loss was not in top 2\n"
     ]
    },
    {
     "name": "stdout",
     "output_type": "stream",
     "text": [
      "Epoch 134:  89%|████████▊ | 226/255 [02:38<00:20,  1.43it/s, loss=0.0748, v_num=3, train_loss=0.140, train_accuracy=0.889, val_loss=0.176, val_accuracy=0.952]  \n",
      "Validating: 0it [00:00, ?it/s]\u001b[A\n",
      "Validating:   0%|          | 0/29 [00:00<?, ?it/s]\u001b[A\n",
      "Epoch 134:  89%|████████▉ | 228/255 [02:41<00:19,  1.41it/s, loss=0.0748, v_num=3, train_loss=0.140, train_accuracy=0.889, val_loss=0.176, val_accuracy=0.952]\n",
      "Validating:   7%|▋         | 2/29 [00:03<00:44,  1.66s/it]\u001b[A\n",
      "Epoch 134:  90%|█████████ | 230/255 [02:42<00:17,  1.42it/s, loss=0.0748, v_num=3, train_loss=0.140, train_accuracy=0.889, val_loss=0.176, val_accuracy=0.952]\n",
      "Validating:  14%|█▍        | 4/29 [00:04<00:16,  1.51it/s]\u001b[A\n",
      "Epoch 134:  91%|█████████ | 232/255 [02:42<00:16,  1.43it/s, loss=0.0748, v_num=3, train_loss=0.140, train_accuracy=0.889, val_loss=0.176, val_accuracy=0.952]\n",
      "Validating:  21%|██        | 6/29 [00:04<00:08,  2.61it/s]\u001b[A\n",
      "Epoch 134:  92%|█████████▏| 234/255 [02:42<00:14,  1.44it/s, loss=0.0748, v_num=3, train_loss=0.140, train_accuracy=0.889, val_loss=0.176, val_accuracy=0.952]\n",
      "Validating:  28%|██▊       | 8/29 [00:05<00:05,  3.62it/s]\u001b[A\n",
      "Epoch 134:  93%|█████████▎| 236/255 [02:43<00:13,  1.44it/s, loss=0.0748, v_num=3, train_loss=0.140, train_accuracy=0.889, val_loss=0.176, val_accuracy=0.952]\n",
      "Validating:  34%|███▍      | 10/29 [00:05<00:04,  4.43it/s]\u001b[A\n",
      "Epoch 134:  93%|█████████▎| 238/255 [02:43<00:11,  1.45it/s, loss=0.0748, v_num=3, train_loss=0.140, train_accuracy=0.889, val_loss=0.176, val_accuracy=0.952]\n",
      "Validating:  41%|████▏     | 12/29 [00:05<00:03,  4.97it/s]\u001b[A\n",
      "Epoch 134:  94%|█████████▍| 240/255 [02:44<00:10,  1.46it/s, loss=0.0748, v_num=3, train_loss=0.140, train_accuracy=0.889, val_loss=0.176, val_accuracy=0.952]\n",
      "Validating:  48%|████▊     | 14/29 [00:06<00:02,  5.31it/s]\u001b[A\n",
      "Epoch 134:  95%|█████████▍| 242/255 [02:44<00:08,  1.47it/s, loss=0.0748, v_num=3, train_loss=0.140, train_accuracy=0.889, val_loss=0.176, val_accuracy=0.952]\n",
      "Validating:  55%|█████▌    | 16/29 [00:06<00:02,  5.48it/s]\u001b[A\n",
      "Epoch 134:  96%|█████████▌| 244/255 [02:44<00:07,  1.48it/s, loss=0.0748, v_num=3, train_loss=0.140, train_accuracy=0.889, val_loss=0.176, val_accuracy=0.952]\n",
      "Validating:  62%|██████▏   | 18/29 [00:06<00:01,  5.53it/s]\u001b[A\n",
      "Epoch 134:  96%|█████████▋| 246/255 [02:45<00:06,  1.49it/s, loss=0.0748, v_num=3, train_loss=0.140, train_accuracy=0.889, val_loss=0.176, val_accuracy=0.952]\n",
      "Validating:  69%|██████▉   | 20/29 [00:07<00:01,  5.62it/s]\u001b[A\n",
      "Epoch 134:  97%|█████████▋| 248/255 [02:45<00:04,  1.50it/s, loss=0.0748, v_num=3, train_loss=0.140, train_accuracy=0.889, val_loss=0.176, val_accuracy=0.952]\n",
      "Validating:  76%|███████▌  | 22/29 [00:07<00:01,  5.61it/s]\u001b[A\n",
      "Epoch 134:  98%|█████████▊| 250/255 [02:45<00:03,  1.51it/s, loss=0.0748, v_num=3, train_loss=0.140, train_accuracy=0.889, val_loss=0.176, val_accuracy=0.952]\n",
      "Validating:  83%|████████▎ | 24/29 [00:07<00:00,  5.62it/s]\u001b[A\n",
      "Epoch 134:  99%|█████████▉| 252/255 [02:46<00:01,  1.52it/s, loss=0.0748, v_num=3, train_loss=0.140, train_accuracy=0.889, val_loss=0.176, val_accuracy=0.952]\n",
      "Validating:  90%|████████▉ | 26/29 [00:08<00:00,  5.58it/s]\u001b[A\n",
      "Epoch 134: 100%|█████████▉| 254/255 [02:46<00:00,  1.53it/s, loss=0.0748, v_num=3, train_loss=0.140, train_accuracy=0.889, val_loss=0.176, val_accuracy=0.952]\n",
      "Validating:  97%|█████████▋| 28/29 [00:08<00:00,  5.57it/s]\u001b[A\n",
      "Epoch 134: 100%|██████████| 255/255 [02:47<00:00,  1.52it/s, loss=0.0748, v_num=3, train_loss=0.140, train_accuracy=0.889, val_loss=0.172, val_accuracy=0.947]\n",
      "Epoch 134: 100%|██████████| 255/255 [02:47<00:00,  1.52it/s, loss=0.0748, v_num=3, train_loss=0.140, train_accuracy=0.889, val_loss=0.172, val_accuracy=0.947]"
     ]
    },
    {
     "name": "stderr",
     "output_type": "stream",
     "text": [
      "Epoch 134, global step 30509: val_loss was not in top 2\n"
     ]
    },
    {
     "name": "stdout",
     "output_type": "stream",
     "text": [
      "Epoch 135:  89%|████████▊ | 226/255 [02:37<00:20,  1.43it/s, loss=0.0906, v_num=3, train_loss=0.0129, train_accuracy=1.000, val_loss=0.172, val_accuracy=0.947] \n",
      "Validating: 0it [00:00, ?it/s]\u001b[A\n",
      "Validating:   0%|          | 0/29 [00:00<?, ?it/s]\u001b[A\n",
      "Epoch 135:  89%|████████▉ | 228/255 [02:41<00:19,  1.41it/s, loss=0.0906, v_num=3, train_loss=0.0129, train_accuracy=1.000, val_loss=0.172, val_accuracy=0.947]\n",
      "Validating:   7%|▋         | 2/29 [00:03<00:44,  1.66s/it]\u001b[A\n",
      "Epoch 135:  90%|█████████ | 230/255 [02:41<00:17,  1.42it/s, loss=0.0906, v_num=3, train_loss=0.0129, train_accuracy=1.000, val_loss=0.172, val_accuracy=0.947]\n",
      "Validating:  14%|█▍        | 4/29 [00:04<00:16,  1.49it/s]\u001b[A\n",
      "Epoch 135:  91%|█████████ | 232/255 [02:42<00:16,  1.43it/s, loss=0.0906, v_num=3, train_loss=0.0129, train_accuracy=1.000, val_loss=0.172, val_accuracy=0.947]\n",
      "Validating:  21%|██        | 6/29 [00:04<00:08,  2.60it/s]\u001b[A\n",
      "Epoch 135:  92%|█████████▏| 234/255 [02:42<00:14,  1.44it/s, loss=0.0906, v_num=3, train_loss=0.0129, train_accuracy=1.000, val_loss=0.172, val_accuracy=0.947]\n",
      "Validating:  28%|██▊       | 8/29 [00:05<00:05,  3.68it/s]\u001b[A\n",
      "Epoch 135:  93%|█████████▎| 236/255 [02:43<00:13,  1.45it/s, loss=0.0906, v_num=3, train_loss=0.0129, train_accuracy=1.000, val_loss=0.172, val_accuracy=0.947]\n",
      "Validating:  34%|███▍      | 10/29 [00:05<00:04,  4.48it/s]\u001b[A\n",
      "Epoch 135:  93%|█████████▎| 238/255 [02:43<00:11,  1.46it/s, loss=0.0906, v_num=3, train_loss=0.0129, train_accuracy=1.000, val_loss=0.172, val_accuracy=0.947]\n",
      "Validating:  41%|████▏     | 12/29 [00:05<00:03,  5.03it/s]\u001b[A\n",
      "Epoch 135:  94%|█████████▍| 240/255 [02:43<00:10,  1.47it/s, loss=0.0906, v_num=3, train_loss=0.0129, train_accuracy=1.000, val_loss=0.172, val_accuracy=0.947]\n",
      "Validating:  48%|████▊     | 14/29 [00:06<00:02,  5.38it/s]\u001b[A\n",
      "Epoch 135:  95%|█████████▍| 242/255 [02:44<00:08,  1.47it/s, loss=0.0906, v_num=3, train_loss=0.0129, train_accuracy=1.000, val_loss=0.172, val_accuracy=0.947]\n",
      "Validating:  55%|█████▌    | 16/29 [00:06<00:02,  5.36it/s]\u001b[A\n",
      "Epoch 135:  96%|█████████▌| 244/255 [02:44<00:07,  1.48it/s, loss=0.0906, v_num=3, train_loss=0.0129, train_accuracy=1.000, val_loss=0.172, val_accuracy=0.947]\n",
      "Validating:  62%|██████▏   | 18/29 [00:06<00:02,  5.49it/s]\u001b[A\n",
      "Epoch 135:  96%|█████████▋| 246/255 [02:44<00:06,  1.49it/s, loss=0.0906, v_num=3, train_loss=0.0129, train_accuracy=1.000, val_loss=0.172, val_accuracy=0.947]\n",
      "Validating:  69%|██████▉   | 20/29 [00:07<00:01,  5.62it/s]\u001b[A\n",
      "Epoch 135:  97%|█████████▋| 248/255 [02:45<00:04,  1.50it/s, loss=0.0906, v_num=3, train_loss=0.0129, train_accuracy=1.000, val_loss=0.172, val_accuracy=0.947]\n",
      "Validating:  76%|███████▌  | 22/29 [00:07<00:01,  5.70it/s]\u001b[A\n",
      "Epoch 135:  98%|█████████▊| 250/255 [02:45<00:03,  1.51it/s, loss=0.0906, v_num=3, train_loss=0.0129, train_accuracy=1.000, val_loss=0.172, val_accuracy=0.947]\n",
      "Validating:  83%|████████▎ | 24/29 [00:07<00:00,  5.68it/s]\u001b[A\n",
      "Epoch 135:  99%|█████████▉| 252/255 [02:45<00:01,  1.52it/s, loss=0.0906, v_num=3, train_loss=0.0129, train_accuracy=1.000, val_loss=0.172, val_accuracy=0.947]\n",
      "Validating:  90%|████████▉ | 26/29 [00:08<00:00,  5.66it/s]\u001b[A\n",
      "Epoch 135: 100%|█████████▉| 254/255 [02:46<00:00,  1.53it/s, loss=0.0906, v_num=3, train_loss=0.0129, train_accuracy=1.000, val_loss=0.172, val_accuracy=0.947]\n",
      "Validating:  97%|█████████▋| 28/29 [00:08<00:00,  5.60it/s]\u001b[A\n",
      "Epoch 135: 100%|██████████| 255/255 [02:47<00:00,  1.53it/s, loss=0.0906, v_num=3, train_loss=0.0129, train_accuracy=1.000, val_loss=0.167, val_accuracy=0.950]\n",
      "Epoch 135: 100%|██████████| 255/255 [02:47<00:00,  1.53it/s, loss=0.0906, v_num=3, train_loss=0.0129, train_accuracy=1.000, val_loss=0.167, val_accuracy=0.950]"
     ]
    },
    {
     "name": "stderr",
     "output_type": "stream",
     "text": [
      "Epoch 135, global step 30735: val_loss was not in top 2\n"
     ]
    },
    {
     "name": "stdout",
     "output_type": "stream",
     "text": [
      "Epoch 136:  89%|████████▊ | 226/255 [02:37<00:20,  1.43it/s, loss=0.0415, v_num=3, train_loss=0.00822, train_accuracy=1.000, val_loss=0.167, val_accuracy=0.950]\n",
      "Validating: 0it [00:00, ?it/s]\u001b[A\n",
      "Validating:   0%|          | 0/29 [00:00<?, ?it/s]\u001b[A\n",
      "Epoch 136:  89%|████████▉ | 228/255 [02:41<00:19,  1.41it/s, loss=0.0415, v_num=3, train_loss=0.00822, train_accuracy=1.000, val_loss=0.167, val_accuracy=0.950]\n",
      "Validating:   7%|▋         | 2/29 [00:03<00:44,  1.65s/it]\u001b[A\n",
      "Epoch 136:  90%|█████████ | 230/255 [02:41<00:17,  1.42it/s, loss=0.0415, v_num=3, train_loss=0.00822, train_accuracy=1.000, val_loss=0.167, val_accuracy=0.950]\n",
      "Validating:  14%|█▍        | 4/29 [00:04<00:16,  1.51it/s]\u001b[A\n",
      "Epoch 136:  91%|█████████ | 232/255 [02:42<00:16,  1.43it/s, loss=0.0415, v_num=3, train_loss=0.00822, train_accuracy=1.000, val_loss=0.167, val_accuracy=0.950]\n",
      "Validating:  21%|██        | 6/29 [00:04<00:08,  2.59it/s]\u001b[A\n",
      "Epoch 136:  92%|█████████▏| 234/255 [02:42<00:14,  1.44it/s, loss=0.0415, v_num=3, train_loss=0.00822, train_accuracy=1.000, val_loss=0.167, val_accuracy=0.950]\n",
      "Validating:  28%|██▊       | 8/29 [00:05<00:05,  3.65it/s]\u001b[A\n",
      "Epoch 136:  93%|█████████▎| 236/255 [02:43<00:13,  1.45it/s, loss=0.0415, v_num=3, train_loss=0.00822, train_accuracy=1.000, val_loss=0.167, val_accuracy=0.950]\n",
      "Validating:  34%|███▍      | 10/29 [00:05<00:04,  4.51it/s]\u001b[A\n",
      "Epoch 136:  93%|█████████▎| 238/255 [02:43<00:11,  1.46it/s, loss=0.0415, v_num=3, train_loss=0.00822, train_accuracy=1.000, val_loss=0.167, val_accuracy=0.950]\n",
      "Validating:  41%|████▏     | 12/29 [00:05<00:03,  5.04it/s]\u001b[A\n",
      "Epoch 136:  94%|█████████▍| 240/255 [02:43<00:10,  1.47it/s, loss=0.0415, v_num=3, train_loss=0.00822, train_accuracy=1.000, val_loss=0.167, val_accuracy=0.950]\n",
      "Validating:  48%|████▊     | 14/29 [00:06<00:02,  5.34it/s]\u001b[A\n",
      "Epoch 136:  95%|█████████▍| 242/255 [02:44<00:08,  1.47it/s, loss=0.0415, v_num=3, train_loss=0.00822, train_accuracy=1.000, val_loss=0.167, val_accuracy=0.950]\n",
      "Validating:  55%|█████▌    | 16/29 [00:06<00:02,  5.43it/s]\u001b[A\n",
      "Epoch 136:  96%|█████████▌| 244/255 [02:44<00:07,  1.48it/s, loss=0.0415, v_num=3, train_loss=0.00822, train_accuracy=1.000, val_loss=0.167, val_accuracy=0.950]\n",
      "Validating:  62%|██████▏   | 18/29 [00:06<00:01,  5.57it/s]\u001b[A\n",
      "Epoch 136:  96%|█████████▋| 246/255 [02:44<00:06,  1.49it/s, loss=0.0415, v_num=3, train_loss=0.00822, train_accuracy=1.000, val_loss=0.167, val_accuracy=0.950]\n",
      "Validating:  69%|██████▉   | 20/29 [00:07<00:01,  5.54it/s]\u001b[A\n",
      "Epoch 136:  97%|█████████▋| 248/255 [02:45<00:04,  1.50it/s, loss=0.0415, v_num=3, train_loss=0.00822, train_accuracy=1.000, val_loss=0.167, val_accuracy=0.950]\n",
      "Validating:  76%|███████▌  | 22/29 [00:07<00:01,  5.60it/s]\u001b[A\n",
      "Epoch 136:  98%|█████████▊| 250/255 [02:45<00:03,  1.51it/s, loss=0.0415, v_num=3, train_loss=0.00822, train_accuracy=1.000, val_loss=0.167, val_accuracy=0.950]\n",
      "Validating:  83%|████████▎ | 24/29 [00:07<00:00,  5.62it/s]\u001b[A\n",
      "Epoch 136:  99%|█████████▉| 252/255 [02:45<00:01,  1.52it/s, loss=0.0415, v_num=3, train_loss=0.00822, train_accuracy=1.000, val_loss=0.167, val_accuracy=0.950]\n",
      "Validating:  90%|████████▉ | 26/29 [00:08<00:00,  5.61it/s]\u001b[A\n",
      "Epoch 136: 100%|█████████▉| 254/255 [02:46<00:00,  1.53it/s, loss=0.0415, v_num=3, train_loss=0.00822, train_accuracy=1.000, val_loss=0.167, val_accuracy=0.950]\n",
      "Validating:  97%|█████████▋| 28/29 [00:08<00:00,  5.60it/s]\u001b[A\n",
      "Epoch 136: 100%|██████████| 255/255 [02:47<00:00,  1.53it/s, loss=0.0415, v_num=3, train_loss=0.00822, train_accuracy=1.000, val_loss=0.137, val_accuracy=0.957]\n",
      "Epoch 136: 100%|██████████| 255/255 [02:47<00:00,  1.53it/s, loss=0.0415, v_num=3, train_loss=0.00822, train_accuracy=1.000, val_loss=0.137, val_accuracy=0.957]"
     ]
    },
    {
     "name": "stderr",
     "output_type": "stream",
     "text": [
      "Epoch 136, global step 30961: val_loss reached 0.13744 (best 0.13744), saving model to \"/Workspace/code/checkpoints/best-checkpoint-corr-mi-18-v7.ckpt\" as top 2\n"
     ]
    },
    {
     "name": "stdout",
     "output_type": "stream",
     "text": [
      "Epoch 137:  89%|████████▊ | 226/255 [02:36<00:20,  1.44it/s, loss=0.0543, v_num=3, train_loss=0.196, train_accuracy=0.944, val_loss=0.137, val_accuracy=0.957]  \n",
      "Validating: 0it [00:00, ?it/s]\u001b[A\n",
      "Validating:   0%|          | 0/29 [00:00<?, ?it/s]\u001b[A\n",
      "Epoch 137:  89%|████████▉ | 228/255 [02:40<00:18,  1.42it/s, loss=0.0543, v_num=3, train_loss=0.196, train_accuracy=0.944, val_loss=0.137, val_accuracy=0.957]\n",
      "Validating:   7%|▋         | 2/29 [00:03<00:44,  1.64s/it]\u001b[A\n",
      "Epoch 137:  90%|█████████ | 230/255 [02:40<00:17,  1.43it/s, loss=0.0543, v_num=3, train_loss=0.196, train_accuracy=0.944, val_loss=0.137, val_accuracy=0.957]\n",
      "Validating:  14%|█▍        | 4/29 [00:04<00:16,  1.50it/s]\u001b[A\n",
      "Epoch 137:  91%|█████████ | 232/255 [02:41<00:15,  1.44it/s, loss=0.0543, v_num=3, train_loss=0.196, train_accuracy=0.944, val_loss=0.137, val_accuracy=0.957]\n",
      "Validating:  21%|██        | 6/29 [00:04<00:08,  2.60it/s]\u001b[A\n",
      "Epoch 137:  92%|█████████▏| 234/255 [02:41<00:14,  1.45it/s, loss=0.0543, v_num=3, train_loss=0.196, train_accuracy=0.944, val_loss=0.137, val_accuracy=0.957]\n",
      "Validating:  28%|██▊       | 8/29 [00:05<00:05,  3.64it/s]\u001b[A\n",
      "Epoch 137:  93%|█████████▎| 236/255 [02:41<00:13,  1.46it/s, loss=0.0543, v_num=3, train_loss=0.196, train_accuracy=0.944, val_loss=0.137, val_accuracy=0.957]\n",
      "Validating:  34%|███▍      | 10/29 [00:05<00:04,  4.48it/s]\u001b[A\n",
      "Epoch 137:  93%|█████████▎| 238/255 [02:42<00:11,  1.47it/s, loss=0.0543, v_num=3, train_loss=0.196, train_accuracy=0.944, val_loss=0.137, val_accuracy=0.957]\n",
      "Validating:  41%|████▏     | 12/29 [00:05<00:03,  5.06it/s]\u001b[A\n",
      "Epoch 137:  94%|█████████▍| 240/255 [02:42<00:10,  1.48it/s, loss=0.0543, v_num=3, train_loss=0.196, train_accuracy=0.944, val_loss=0.137, val_accuracy=0.957]\n",
      "Validating:  48%|████▊     | 14/29 [00:06<00:02,  5.39it/s]\u001b[A\n",
      "Epoch 137:  95%|█████████▍| 242/255 [02:42<00:08,  1.49it/s, loss=0.0543, v_num=3, train_loss=0.196, train_accuracy=0.944, val_loss=0.137, val_accuracy=0.957]\n",
      "Validating:  55%|█████▌    | 16/29 [00:06<00:02,  5.56it/s]\u001b[A\n",
      "Epoch 137:  96%|█████████▌| 244/255 [02:43<00:07,  1.49it/s, loss=0.0543, v_num=3, train_loss=0.196, train_accuracy=0.944, val_loss=0.137, val_accuracy=0.957]\n",
      "Validating:  62%|██████▏   | 18/29 [00:06<00:01,  5.57it/s]\u001b[A\n",
      "Epoch 137:  96%|█████████▋| 246/255 [02:43<00:05,  1.50it/s, loss=0.0543, v_num=3, train_loss=0.196, train_accuracy=0.944, val_loss=0.137, val_accuracy=0.957]\n",
      "Validating:  69%|██████▉   | 20/29 [00:07<00:01,  5.58it/s]\u001b[A\n",
      "Epoch 137:  97%|█████████▋| 248/255 [02:43<00:04,  1.51it/s, loss=0.0543, v_num=3, train_loss=0.196, train_accuracy=0.944, val_loss=0.137, val_accuracy=0.957]\n",
      "Validating:  76%|███████▌  | 22/29 [00:07<00:01,  5.67it/s]\u001b[A\n",
      "Epoch 137:  98%|█████████▊| 250/255 [02:44<00:03,  1.52it/s, loss=0.0543, v_num=3, train_loss=0.196, train_accuracy=0.944, val_loss=0.137, val_accuracy=0.957]\n",
      "Validating:  83%|████████▎ | 24/29 [00:07<00:00,  5.71it/s]\u001b[A\n",
      "Epoch 137:  99%|█████████▉| 252/255 [02:44<00:01,  1.53it/s, loss=0.0543, v_num=3, train_loss=0.196, train_accuracy=0.944, val_loss=0.137, val_accuracy=0.957]\n",
      "Validating:  90%|████████▉ | 26/29 [00:08<00:00,  5.70it/s]\u001b[A\n",
      "Epoch 137: 100%|█████████▉| 254/255 [02:45<00:00,  1.54it/s, loss=0.0543, v_num=3, train_loss=0.196, train_accuracy=0.944, val_loss=0.137, val_accuracy=0.957]\n",
      "Validating:  97%|█████████▋| 28/29 [00:08<00:00,  5.70it/s]\u001b[A\n",
      "Epoch 137: 100%|██████████| 255/255 [02:45<00:00,  1.54it/s, loss=0.0543, v_num=3, train_loss=0.196, train_accuracy=0.944, val_loss=0.162, val_accuracy=0.945]\n",
      "Epoch 137: 100%|██████████| 255/255 [02:45<00:00,  1.54it/s, loss=0.0543, v_num=3, train_loss=0.196, train_accuracy=0.944, val_loss=0.162, val_accuracy=0.945]"
     ]
    },
    {
     "name": "stderr",
     "output_type": "stream",
     "text": [
      "Epoch 137, global step 31187: val_loss was not in top 2\n"
     ]
    },
    {
     "name": "stdout",
     "output_type": "stream",
     "text": [
      "Epoch 138:  89%|████████▊ | 226/255 [02:37<00:20,  1.43it/s, loss=0.0779, v_num=3, train_loss=0.164, train_accuracy=0.944, val_loss=0.162, val_accuracy=0.945]  \n",
      "Validating: 0it [00:00, ?it/s]\u001b[A\n",
      "Validating:   0%|          | 0/29 [00:00<?, ?it/s]\u001b[A\n",
      "Epoch 138:  89%|████████▉ | 228/255 [02:41<00:19,  1.41it/s, loss=0.0779, v_num=3, train_loss=0.164, train_accuracy=0.944, val_loss=0.162, val_accuracy=0.945]\n",
      "Validating:   7%|▋         | 2/29 [00:04<00:45,  1.69s/it]\u001b[A\n",
      "Epoch 138:  90%|█████████ | 230/255 [02:41<00:17,  1.42it/s, loss=0.0779, v_num=3, train_loss=0.164, train_accuracy=0.944, val_loss=0.162, val_accuracy=0.945]\n",
      "Validating:  14%|█▍        | 4/29 [00:04<00:16,  1.48it/s]\u001b[A\n",
      "Epoch 138:  91%|█████████ | 232/255 [02:42<00:16,  1.43it/s, loss=0.0779, v_num=3, train_loss=0.164, train_accuracy=0.944, val_loss=0.162, val_accuracy=0.945]\n",
      "Validating:  21%|██        | 6/29 [00:04<00:08,  2.59it/s]\u001b[A\n",
      "Epoch 138:  92%|█████████▏| 234/255 [02:42<00:14,  1.44it/s, loss=0.0779, v_num=3, train_loss=0.164, train_accuracy=0.944, val_loss=0.162, val_accuracy=0.945]\n",
      "Validating:  28%|██▊       | 8/29 [00:05<00:05,  3.63it/s]\u001b[A\n",
      "Epoch 138:  93%|█████████▎| 236/255 [02:43<00:13,  1.45it/s, loss=0.0779, v_num=3, train_loss=0.164, train_accuracy=0.944, val_loss=0.162, val_accuracy=0.945]\n",
      "Validating:  34%|███▍      | 10/29 [00:05<00:04,  4.43it/s]\u001b[A\n",
      "Epoch 138:  93%|█████████▎| 238/255 [02:43<00:11,  1.46it/s, loss=0.0779, v_num=3, train_loss=0.164, train_accuracy=0.944, val_loss=0.162, val_accuracy=0.945]\n",
      "Validating:  41%|████▏     | 12/29 [00:05<00:03,  5.00it/s]\u001b[A\n",
      "Epoch 138:  94%|█████████▍| 240/255 [02:43<00:10,  1.47it/s, loss=0.0779, v_num=3, train_loss=0.164, train_accuracy=0.944, val_loss=0.162, val_accuracy=0.945]\n",
      "Validating:  48%|████▊     | 14/29 [00:06<00:02,  5.25it/s]\u001b[A\n",
      "Epoch 138:  95%|█████████▍| 242/255 [02:44<00:08,  1.47it/s, loss=0.0779, v_num=3, train_loss=0.164, train_accuracy=0.944, val_loss=0.162, val_accuracy=0.945]\n",
      "Validating:  55%|█████▌    | 16/29 [00:06<00:02,  5.40it/s]\u001b[A\n",
      "Epoch 138:  96%|█████████▌| 244/255 [02:44<00:07,  1.48it/s, loss=0.0779, v_num=3, train_loss=0.164, train_accuracy=0.944, val_loss=0.162, val_accuracy=0.945]\n",
      "Validating:  62%|██████▏   | 18/29 [00:06<00:02,  5.50it/s]\u001b[A\n",
      "Epoch 138:  96%|█████████▋| 246/255 [02:44<00:06,  1.49it/s, loss=0.0779, v_num=3, train_loss=0.164, train_accuracy=0.944, val_loss=0.162, val_accuracy=0.945]\n",
      "Validating:  69%|██████▉   | 20/29 [00:07<00:01,  5.58it/s]\u001b[A\n",
      "Epoch 138:  97%|█████████▋| 248/255 [02:45<00:04,  1.50it/s, loss=0.0779, v_num=3, train_loss=0.164, train_accuracy=0.944, val_loss=0.162, val_accuracy=0.945]\n",
      "Validating:  76%|███████▌  | 22/29 [00:07<00:01,  5.67it/s]\u001b[A\n",
      "Epoch 138:  98%|█████████▊| 250/255 [02:45<00:03,  1.51it/s, loss=0.0779, v_num=3, train_loss=0.164, train_accuracy=0.944, val_loss=0.162, val_accuracy=0.945]\n",
      "Validating:  83%|████████▎ | 24/29 [00:07<00:00,  5.67it/s]\u001b[A\n",
      "Epoch 138:  99%|█████████▉| 252/255 [02:45<00:01,  1.52it/s, loss=0.0779, v_num=3, train_loss=0.164, train_accuracy=0.944, val_loss=0.162, val_accuracy=0.945]\n",
      "Validating:  90%|████████▉ | 26/29 [00:08<00:00,  5.63it/s]\u001b[A\n",
      "Epoch 138: 100%|█████████▉| 254/255 [02:46<00:00,  1.53it/s, loss=0.0779, v_num=3, train_loss=0.164, train_accuracy=0.944, val_loss=0.162, val_accuracy=0.945]\n",
      "Validating:  97%|█████████▋| 28/29 [00:08<00:00,  5.62it/s]\u001b[A\n",
      "Epoch 138: 100%|██████████| 255/255 [02:47<00:00,  1.53it/s, loss=0.0779, v_num=3, train_loss=0.164, train_accuracy=0.944, val_loss=0.166, val_accuracy=0.950]\n",
      "Epoch 138: 100%|██████████| 255/255 [02:47<00:00,  1.53it/s, loss=0.0779, v_num=3, train_loss=0.164, train_accuracy=0.944, val_loss=0.166, val_accuracy=0.950]"
     ]
    },
    {
     "name": "stderr",
     "output_type": "stream",
     "text": [
      "Epoch 138, global step 31413: val_loss was not in top 2\n"
     ]
    },
    {
     "name": "stdout",
     "output_type": "stream",
     "text": [
      "Epoch 139:  89%|████████▊ | 226/255 [02:38<00:20,  1.43it/s, loss=0.0633, v_num=3, train_loss=0.0159, train_accuracy=1.000, val_loss=0.166, val_accuracy=0.950] \n",
      "Validating: 0it [00:00, ?it/s]\u001b[A\n",
      "Validating:   0%|          | 0/29 [00:00<?, ?it/s]\u001b[A\n",
      "Epoch 139:  89%|████████▉ | 228/255 [02:41<00:19,  1.41it/s, loss=0.0633, v_num=3, train_loss=0.0159, train_accuracy=1.000, val_loss=0.166, val_accuracy=0.950]\n",
      "Validating:   7%|▋         | 2/29 [00:03<00:45,  1.68s/it]\u001b[A\n",
      "Epoch 139:  90%|█████████ | 230/255 [02:42<00:17,  1.42it/s, loss=0.0633, v_num=3, train_loss=0.0159, train_accuracy=1.000, val_loss=0.166, val_accuracy=0.950]\n",
      "Validating:  14%|█▍        | 4/29 [00:04<00:16,  1.49it/s]\u001b[A\n",
      "Epoch 139:  91%|█████████ | 232/255 [02:42<00:16,  1.43it/s, loss=0.0633, v_num=3, train_loss=0.0159, train_accuracy=1.000, val_loss=0.166, val_accuracy=0.950]\n",
      "Validating:  21%|██        | 6/29 [00:04<00:08,  2.60it/s]\u001b[A\n",
      "Epoch 139:  92%|█████████▏| 234/255 [02:42<00:14,  1.44it/s, loss=0.0633, v_num=3, train_loss=0.0159, train_accuracy=1.000, val_loss=0.166, val_accuracy=0.950]\n",
      "Validating:  28%|██▊       | 8/29 [00:05<00:05,  3.65it/s]\u001b[A\n",
      "Epoch 139:  93%|█████████▎| 236/255 [02:43<00:13,  1.45it/s, loss=0.0633, v_num=3, train_loss=0.0159, train_accuracy=1.000, val_loss=0.166, val_accuracy=0.950]\n",
      "Validating:  34%|███▍      | 10/29 [00:05<00:04,  4.49it/s]\u001b[A\n",
      "Epoch 139:  93%|█████████▎| 238/255 [02:43<00:11,  1.45it/s, loss=0.0633, v_num=3, train_loss=0.0159, train_accuracy=1.000, val_loss=0.166, val_accuracy=0.950]\n",
      "Validating:  41%|████▏     | 12/29 [00:05<00:03,  5.02it/s]\u001b[A\n",
      "Epoch 139:  94%|█████████▍| 240/255 [02:43<00:10,  1.46it/s, loss=0.0633, v_num=3, train_loss=0.0159, train_accuracy=1.000, val_loss=0.166, val_accuracy=0.950]\n",
      "Validating:  48%|████▊     | 14/29 [00:06<00:02,  5.30it/s]\u001b[A\n",
      "Epoch 139:  95%|█████████▍| 242/255 [02:44<00:08,  1.47it/s, loss=0.0633, v_num=3, train_loss=0.0159, train_accuracy=1.000, val_loss=0.166, val_accuracy=0.950]\n",
      "Validating:  55%|█████▌    | 16/29 [00:06<00:02,  5.48it/s]\u001b[A\n",
      "Epoch 139:  96%|█████████▌| 244/255 [02:44<00:07,  1.48it/s, loss=0.0633, v_num=3, train_loss=0.0159, train_accuracy=1.000, val_loss=0.166, val_accuracy=0.950]\n",
      "Validating:  62%|██████▏   | 18/29 [00:06<00:01,  5.61it/s]\u001b[A\n",
      "Epoch 139:  96%|█████████▋| 246/255 [02:45<00:06,  1.49it/s, loss=0.0633, v_num=3, train_loss=0.0159, train_accuracy=1.000, val_loss=0.166, val_accuracy=0.950]\n",
      "Validating:  69%|██████▉   | 20/29 [00:07<00:01,  5.61it/s]\u001b[A\n",
      "Epoch 139:  97%|█████████▋| 248/255 [02:45<00:04,  1.50it/s, loss=0.0633, v_num=3, train_loss=0.0159, train_accuracy=1.000, val_loss=0.166, val_accuracy=0.950]\n",
      "Validating:  76%|███████▌  | 22/29 [00:07<00:01,  5.66it/s]\u001b[A\n",
      "Epoch 139:  98%|█████████▊| 250/255 [02:45<00:03,  1.51it/s, loss=0.0633, v_num=3, train_loss=0.0159, train_accuracy=1.000, val_loss=0.166, val_accuracy=0.950]\n",
      "Validating:  83%|████████▎ | 24/29 [00:07<00:00,  5.66it/s]\u001b[A\n",
      "Epoch 139:  99%|█████████▉| 252/255 [02:46<00:01,  1.52it/s, loss=0.0633, v_num=3, train_loss=0.0159, train_accuracy=1.000, val_loss=0.166, val_accuracy=0.950]\n",
      "Validating:  90%|████████▉ | 26/29 [00:08<00:00,  5.65it/s]\u001b[A\n",
      "Epoch 139: 100%|█████████▉| 254/255 [02:46<00:00,  1.53it/s, loss=0.0633, v_num=3, train_loss=0.0159, train_accuracy=1.000, val_loss=0.166, val_accuracy=0.950]\n",
      "Validating:  97%|█████████▋| 28/29 [00:08<00:00,  5.59it/s]\u001b[A\n",
      "Epoch 139: 100%|██████████| 255/255 [02:47<00:00,  1.52it/s, loss=0.0633, v_num=3, train_loss=0.0159, train_accuracy=1.000, val_loss=0.169, val_accuracy=0.955]\n",
      "Epoch 139: 100%|██████████| 255/255 [02:47<00:00,  1.52it/s, loss=0.0633, v_num=3, train_loss=0.0159, train_accuracy=1.000, val_loss=0.169, val_accuracy=0.955]"
     ]
    },
    {
     "name": "stderr",
     "output_type": "stream",
     "text": [
      "Epoch 139, global step 31639: val_loss was not in top 2\n"
     ]
    },
    {
     "name": "stdout",
     "output_type": "stream",
     "text": [
      "Epoch 140:  89%|████████▊ | 226/255 [02:35<00:19,  1.45it/s, loss=0.058, v_num=3, train_loss=0.0138, train_accuracy=1.000, val_loss=0.169, val_accuracy=0.955]  \n",
      "Validating: 0it [00:00, ?it/s]\u001b[A\n",
      "Validating:   0%|          | 0/29 [00:00<?, ?it/s]\u001b[A\n",
      "Epoch 140:  89%|████████▉ | 228/255 [02:39<00:18,  1.43it/s, loss=0.058, v_num=3, train_loss=0.0138, train_accuracy=1.000, val_loss=0.169, val_accuracy=0.955]\n",
      "Validating:   7%|▋         | 2/29 [00:03<00:45,  1.67s/it]\u001b[A\n",
      "Epoch 140:  90%|█████████ | 230/255 [02:39<00:17,  1.44it/s, loss=0.058, v_num=3, train_loss=0.0138, train_accuracy=1.000, val_loss=0.169, val_accuracy=0.955]\n",
      "Validating:  14%|█▍        | 4/29 [00:04<00:16,  1.50it/s]\u001b[A\n",
      "Epoch 140:  91%|█████████ | 232/255 [02:40<00:15,  1.45it/s, loss=0.058, v_num=3, train_loss=0.0138, train_accuracy=1.000, val_loss=0.169, val_accuracy=0.955]\n",
      "Validating:  21%|██        | 6/29 [00:04<00:08,  2.59it/s]\u001b[A\n",
      "Epoch 140:  92%|█████████▏| 234/255 [02:40<00:14,  1.46it/s, loss=0.058, v_num=3, train_loss=0.0138, train_accuracy=1.000, val_loss=0.169, val_accuracy=0.955]\n",
      "Validating:  28%|██▊       | 8/29 [00:05<00:05,  3.67it/s]\u001b[A\n",
      "Epoch 140:  93%|█████████▎| 236/255 [02:40<00:12,  1.47it/s, loss=0.058, v_num=3, train_loss=0.0138, train_accuracy=1.000, val_loss=0.169, val_accuracy=0.955]\n",
      "Validating:  34%|███▍      | 10/29 [00:05<00:04,  4.49it/s]\u001b[A\n",
      "Epoch 140:  93%|█████████▎| 238/255 [02:41<00:11,  1.48it/s, loss=0.058, v_num=3, train_loss=0.0138, train_accuracy=1.000, val_loss=0.169, val_accuracy=0.955]\n",
      "Validating:  41%|████▏     | 12/29 [00:05<00:03,  5.01it/s]\u001b[A\n",
      "Epoch 140:  94%|█████████▍| 240/255 [02:41<00:10,  1.49it/s, loss=0.058, v_num=3, train_loss=0.0138, train_accuracy=1.000, val_loss=0.169, val_accuracy=0.955]\n",
      "Validating:  48%|████▊     | 14/29 [00:06<00:02,  5.32it/s]\u001b[A\n",
      "Epoch 140:  95%|█████████▍| 242/255 [02:41<00:08,  1.49it/s, loss=0.058, v_num=3, train_loss=0.0138, train_accuracy=1.000, val_loss=0.169, val_accuracy=0.955]\n",
      "Validating:  55%|█████▌    | 16/29 [00:06<00:02,  5.53it/s]\u001b[A\n",
      "Epoch 140:  96%|█████████▌| 244/255 [02:42<00:07,  1.50it/s, loss=0.058, v_num=3, train_loss=0.0138, train_accuracy=1.000, val_loss=0.169, val_accuracy=0.955]\n",
      "Validating:  62%|██████▏   | 18/29 [00:06<00:01,  5.60it/s]\u001b[A\n",
      "Epoch 140:  96%|█████████▋| 246/255 [02:42<00:05,  1.51it/s, loss=0.058, v_num=3, train_loss=0.0138, train_accuracy=1.000, val_loss=0.169, val_accuracy=0.955]\n",
      "Validating:  69%|██████▉   | 20/29 [00:07<00:01,  5.60it/s]\u001b[A\n",
      "Epoch 140:  97%|█████████▋| 248/255 [02:42<00:04,  1.52it/s, loss=0.058, v_num=3, train_loss=0.0138, train_accuracy=1.000, val_loss=0.169, val_accuracy=0.955]\n",
      "Validating:  76%|███████▌  | 22/29 [00:07<00:01,  5.66it/s]\u001b[A\n",
      "Epoch 140:  98%|█████████▊| 250/255 [02:43<00:03,  1.53it/s, loss=0.058, v_num=3, train_loss=0.0138, train_accuracy=1.000, val_loss=0.169, val_accuracy=0.955]\n",
      "Validating:  83%|████████▎ | 24/29 [00:07<00:00,  5.60it/s]\u001b[A\n",
      "Epoch 140:  99%|█████████▉| 252/255 [02:43<00:01,  1.54it/s, loss=0.058, v_num=3, train_loss=0.0138, train_accuracy=1.000, val_loss=0.169, val_accuracy=0.955]\n",
      "Validating:  90%|████████▉ | 26/29 [00:08<00:00,  5.55it/s]\u001b[A\n",
      "Epoch 140: 100%|█████████▉| 254/255 [02:44<00:00,  1.55it/s, loss=0.058, v_num=3, train_loss=0.0138, train_accuracy=1.000, val_loss=0.169, val_accuracy=0.955]\n",
      "Validating:  97%|█████████▋| 28/29 [00:08<00:00,  5.59it/s]\u001b[A\n",
      "Epoch 140: 100%|██████████| 255/255 [02:44<00:00,  1.55it/s, loss=0.058, v_num=3, train_loss=0.0138, train_accuracy=1.000, val_loss=0.185, val_accuracy=0.943]\n",
      "Epoch 140: 100%|██████████| 255/255 [02:44<00:00,  1.55it/s, loss=0.058, v_num=3, train_loss=0.0138, train_accuracy=1.000, val_loss=0.185, val_accuracy=0.943]"
     ]
    },
    {
     "name": "stderr",
     "output_type": "stream",
     "text": [
      "Epoch 140, global step 31865: val_loss was not in top 2\n"
     ]
    },
    {
     "name": "stdout",
     "output_type": "stream",
     "text": [
      "Epoch 141:  89%|████████▊ | 226/255 [02:37<00:20,  1.43it/s, loss=0.0525, v_num=3, train_loss=0.0831, train_accuracy=0.944, val_loss=0.185, val_accuracy=0.943] \n",
      "Validating: 0it [00:00, ?it/s]\u001b[A\n",
      "Validating:   0%|          | 0/29 [00:00<?, ?it/s]\u001b[A\n",
      "Epoch 141:  89%|████████▉ | 228/255 [02:41<00:19,  1.41it/s, loss=0.0525, v_num=3, train_loss=0.0831, train_accuracy=0.944, val_loss=0.185, val_accuracy=0.943]\n",
      "Validating:   7%|▋         | 2/29 [00:04<00:45,  1.70s/it]\u001b[A\n",
      "Epoch 141:  90%|█████████ | 230/255 [02:42<00:17,  1.42it/s, loss=0.0525, v_num=3, train_loss=0.0831, train_accuracy=0.944, val_loss=0.185, val_accuracy=0.943]\n",
      "Validating:  14%|█▍        | 4/29 [00:04<00:17,  1.47it/s]\u001b[A\n",
      "Epoch 141:  91%|█████████ | 232/255 [02:42<00:16,  1.43it/s, loss=0.0525, v_num=3, train_loss=0.0831, train_accuracy=0.944, val_loss=0.185, val_accuracy=0.943]\n",
      "Validating:  21%|██        | 6/29 [00:04<00:08,  2.57it/s]\u001b[A\n",
      "Epoch 141:  92%|█████████▏| 234/255 [02:42<00:14,  1.44it/s, loss=0.0525, v_num=3, train_loss=0.0831, train_accuracy=0.944, val_loss=0.185, val_accuracy=0.943]\n",
      "Validating:  28%|██▊       | 8/29 [00:05<00:05,  3.62it/s]\u001b[A\n",
      "Epoch 141:  93%|█████████▎| 236/255 [02:43<00:13,  1.45it/s, loss=0.0525, v_num=3, train_loss=0.0831, train_accuracy=0.944, val_loss=0.185, val_accuracy=0.943]\n",
      "Validating:  34%|███▍      | 10/29 [00:05<00:04,  4.44it/s]\u001b[A\n",
      "Epoch 141:  93%|█████████▎| 238/255 [02:43<00:11,  1.46it/s, loss=0.0525, v_num=3, train_loss=0.0831, train_accuracy=0.944, val_loss=0.185, val_accuracy=0.943]\n",
      "Validating:  41%|████▏     | 12/29 [00:05<00:03,  5.03it/s]\u001b[A\n",
      "Epoch 141:  94%|█████████▍| 240/255 [02:43<00:10,  1.46it/s, loss=0.0525, v_num=3, train_loss=0.0831, train_accuracy=0.944, val_loss=0.185, val_accuracy=0.943]\n",
      "Validating:  48%|████▊     | 14/29 [00:06<00:02,  5.29it/s]\u001b[A\n",
      "Epoch 141:  95%|█████████▍| 242/255 [02:44<00:08,  1.47it/s, loss=0.0525, v_num=3, train_loss=0.0831, train_accuracy=0.944, val_loss=0.185, val_accuracy=0.943]\n",
      "Validating:  55%|█████▌    | 16/29 [00:06<00:02,  5.47it/s]\u001b[A\n",
      "Epoch 141:  96%|█████████▌| 244/255 [02:44<00:07,  1.48it/s, loss=0.0525, v_num=3, train_loss=0.0831, train_accuracy=0.944, val_loss=0.185, val_accuracy=0.943]\n",
      "Validating:  62%|██████▏   | 18/29 [00:06<00:01,  5.57it/s]\u001b[A\n",
      "Epoch 141:  96%|█████████▋| 246/255 [02:44<00:06,  1.49it/s, loss=0.0525, v_num=3, train_loss=0.0831, train_accuracy=0.944, val_loss=0.185, val_accuracy=0.943]\n",
      "Validating:  69%|██████▉   | 20/29 [00:07<00:01,  5.62it/s]\u001b[A\n",
      "Epoch 141:  97%|█████████▋| 248/255 [02:45<00:04,  1.50it/s, loss=0.0525, v_num=3, train_loss=0.0831, train_accuracy=0.944, val_loss=0.185, val_accuracy=0.943]\n",
      "Validating:  76%|███████▌  | 22/29 [00:07<00:01,  5.67it/s]\u001b[A\n",
      "Epoch 141:  98%|█████████▊| 250/255 [02:45<00:03,  1.51it/s, loss=0.0525, v_num=3, train_loss=0.0831, train_accuracy=0.944, val_loss=0.185, val_accuracy=0.943]\n",
      "Validating:  83%|████████▎ | 24/29 [00:07<00:00,  5.68it/s]\u001b[A\n",
      "Epoch 141:  99%|█████████▉| 252/255 [02:45<00:01,  1.52it/s, loss=0.0525, v_num=3, train_loss=0.0831, train_accuracy=0.944, val_loss=0.185, val_accuracy=0.943]\n",
      "Validating:  90%|████████▉ | 26/29 [00:08<00:00,  5.65it/s]\u001b[A\n",
      "Epoch 141: 100%|█████████▉| 254/255 [02:46<00:00,  1.53it/s, loss=0.0525, v_num=3, train_loss=0.0831, train_accuracy=0.944, val_loss=0.185, val_accuracy=0.943]\n",
      "Validating:  97%|█████████▋| 28/29 [00:08<00:00,  5.63it/s]\u001b[A\n",
      "Epoch 141: 100%|██████████| 255/255 [02:47<00:00,  1.53it/s, loss=0.0525, v_num=3, train_loss=0.0831, train_accuracy=0.944, val_loss=0.174, val_accuracy=0.949]\n",
      "Epoch 141: 100%|██████████| 255/255 [02:47<00:00,  1.53it/s, loss=0.0525, v_num=3, train_loss=0.0831, train_accuracy=0.944, val_loss=0.174, val_accuracy=0.949]"
     ]
    },
    {
     "name": "stderr",
     "output_type": "stream",
     "text": [
      "Epoch 141, global step 32091: val_loss was not in top 2\n"
     ]
    },
    {
     "name": "stdout",
     "output_type": "stream",
     "text": [
      "Epoch 142:  89%|████████▊ | 226/255 [02:37<00:20,  1.43it/s, loss=0.0573, v_num=3, train_loss=0.0279, train_accuracy=1.000, val_loss=0.174, val_accuracy=0.949] \n",
      "Validating: 0it [00:00, ?it/s]\u001b[A\n",
      "Validating:   0%|          | 0/29 [00:00<?, ?it/s]\u001b[A\n",
      "Epoch 142:  89%|████████▉ | 228/255 [02:41<00:19,  1.41it/s, loss=0.0573, v_num=3, train_loss=0.0279, train_accuracy=1.000, val_loss=0.174, val_accuracy=0.949]\n",
      "Validating:   7%|▋         | 2/29 [00:03<00:44,  1.65s/it]\u001b[A\n",
      "Epoch 142:  90%|█████████ | 230/255 [02:41<00:17,  1.42it/s, loss=0.0573, v_num=3, train_loss=0.0279, train_accuracy=1.000, val_loss=0.174, val_accuracy=0.949]\n",
      "Validating:  14%|█▍        | 4/29 [00:04<00:16,  1.51it/s]\u001b[A\n",
      "Epoch 142:  91%|█████████ | 232/255 [02:42<00:16,  1.43it/s, loss=0.0573, v_num=3, train_loss=0.0279, train_accuracy=1.000, val_loss=0.174, val_accuracy=0.949]\n",
      "Validating:  21%|██        | 6/29 [00:04<00:08,  2.58it/s]\u001b[A\n",
      "Epoch 142:  92%|█████████▏| 234/255 [02:42<00:14,  1.44it/s, loss=0.0573, v_num=3, train_loss=0.0279, train_accuracy=1.000, val_loss=0.174, val_accuracy=0.949]\n",
      "Validating:  28%|██▊       | 8/29 [00:05<00:05,  3.66it/s]\u001b[A\n",
      "Epoch 142:  93%|█████████▎| 236/255 [02:42<00:13,  1.45it/s, loss=0.0573, v_num=3, train_loss=0.0279, train_accuracy=1.000, val_loss=0.174, val_accuracy=0.949]\n",
      "Validating:  34%|███▍      | 10/29 [00:05<00:04,  4.47it/s]\u001b[A\n",
      "Epoch 142:  93%|█████████▎| 238/255 [02:43<00:11,  1.46it/s, loss=0.0573, v_num=3, train_loss=0.0279, train_accuracy=1.000, val_loss=0.174, val_accuracy=0.949]\n",
      "Validating:  41%|████▏     | 12/29 [00:05<00:03,  5.03it/s]\u001b[A\n",
      "Epoch 142:  94%|█████████▍| 240/255 [02:43<00:10,  1.47it/s, loss=0.0573, v_num=3, train_loss=0.0279, train_accuracy=1.000, val_loss=0.174, val_accuracy=0.949]\n",
      "Validating:  48%|████▊     | 14/29 [00:06<00:02,  5.38it/s]\u001b[A\n",
      "Epoch 142:  95%|█████████▍| 242/255 [02:43<00:08,  1.48it/s, loss=0.0573, v_num=3, train_loss=0.0279, train_accuracy=1.000, val_loss=0.174, val_accuracy=0.949]\n",
      "Validating:  55%|█████▌    | 16/29 [00:06<00:02,  5.50it/s]\u001b[A\n",
      "Epoch 142:  96%|█████████▌| 244/255 [02:44<00:07,  1.49it/s, loss=0.0573, v_num=3, train_loss=0.0279, train_accuracy=1.000, val_loss=0.174, val_accuracy=0.949]\n",
      "Validating:  62%|██████▏   | 18/29 [00:06<00:01,  5.56it/s]\u001b[A\n",
      "Epoch 142:  96%|█████████▋| 246/255 [02:44<00:06,  1.49it/s, loss=0.0573, v_num=3, train_loss=0.0279, train_accuracy=1.000, val_loss=0.174, val_accuracy=0.949]\n",
      "Validating:  69%|██████▉   | 20/29 [00:07<00:01,  5.64it/s]\u001b[A\n",
      "Epoch 142:  97%|█████████▋| 248/255 [02:44<00:04,  1.50it/s, loss=0.0573, v_num=3, train_loss=0.0279, train_accuracy=1.000, val_loss=0.174, val_accuracy=0.949]\n",
      "Validating:  76%|███████▌  | 22/29 [00:07<00:01,  5.60it/s]\u001b[A\n",
      "Epoch 142:  98%|█████████▊| 250/255 [02:45<00:03,  1.51it/s, loss=0.0573, v_num=3, train_loss=0.0279, train_accuracy=1.000, val_loss=0.174, val_accuracy=0.949]\n",
      "Validating:  83%|████████▎ | 24/29 [00:07<00:00,  5.61it/s]\u001b[A\n",
      "Epoch 142:  99%|█████████▉| 252/255 [02:45<00:01,  1.52it/s, loss=0.0573, v_num=3, train_loss=0.0279, train_accuracy=1.000, val_loss=0.174, val_accuracy=0.949]\n",
      "Validating:  90%|████████▉ | 26/29 [00:08<00:00,  5.61it/s]\u001b[A\n",
      "Epoch 142: 100%|█████████▉| 254/255 [02:46<00:00,  1.53it/s, loss=0.0573, v_num=3, train_loss=0.0279, train_accuracy=1.000, val_loss=0.174, val_accuracy=0.949]\n",
      "Validating:  97%|█████████▋| 28/29 [00:08<00:00,  5.57it/s]\u001b[A\n",
      "Epoch 142: 100%|██████████| 255/255 [02:46<00:00,  1.53it/s, loss=0.0573, v_num=3, train_loss=0.0279, train_accuracy=1.000, val_loss=0.168, val_accuracy=0.950]\n",
      "Epoch 142: 100%|██████████| 255/255 [02:46<00:00,  1.53it/s, loss=0.0573, v_num=3, train_loss=0.0279, train_accuracy=1.000, val_loss=0.168, val_accuracy=0.950]"
     ]
    },
    {
     "name": "stderr",
     "output_type": "stream",
     "text": [
      "Epoch 142, global step 32317: val_loss was not in top 2\n"
     ]
    },
    {
     "name": "stdout",
     "output_type": "stream",
     "text": [
      "Epoch 143:  89%|████████▊ | 226/255 [02:38<00:20,  1.43it/s, loss=0.046, v_num=3, train_loss=0.116, train_accuracy=0.944, val_loss=0.168, val_accuracy=0.950]   \n",
      "Validating: 0it [00:00, ?it/s]\u001b[A\n",
      "Validating:   0%|          | 0/29 [00:00<?, ?it/s]\u001b[A\n",
      "Epoch 143:  89%|████████▉ | 228/255 [02:41<00:19,  1.41it/s, loss=0.046, v_num=3, train_loss=0.116, train_accuracy=0.944, val_loss=0.168, val_accuracy=0.950]\n",
      "Validating:   7%|▋         | 2/29 [00:04<00:45,  1.68s/it]\u001b[A\n",
      "Epoch 143:  90%|█████████ | 230/255 [02:42<00:17,  1.42it/s, loss=0.046, v_num=3, train_loss=0.116, train_accuracy=0.944, val_loss=0.168, val_accuracy=0.950]\n",
      "Validating:  14%|█▍        | 4/29 [00:04<00:16,  1.49it/s]\u001b[A\n",
      "Epoch 143:  91%|█████████ | 232/255 [02:42<00:16,  1.43it/s, loss=0.046, v_num=3, train_loss=0.116, train_accuracy=0.944, val_loss=0.168, val_accuracy=0.950]\n",
      "Validating:  21%|██        | 6/29 [00:04<00:08,  2.58it/s]\u001b[A\n",
      "Epoch 143:  92%|█████████▏| 234/255 [02:43<00:14,  1.44it/s, loss=0.046, v_num=3, train_loss=0.116, train_accuracy=0.944, val_loss=0.168, val_accuracy=0.950]\n",
      "Validating:  28%|██▊       | 8/29 [00:05<00:05,  3.65it/s]\u001b[A\n",
      "Epoch 143:  93%|█████████▎| 236/255 [02:43<00:13,  1.44it/s, loss=0.046, v_num=3, train_loss=0.116, train_accuracy=0.944, val_loss=0.168, val_accuracy=0.950]\n",
      "Validating:  34%|███▍      | 10/29 [00:05<00:04,  4.45it/s]\u001b[A\n",
      "Epoch 143:  93%|█████████▎| 238/255 [02:43<00:11,  1.45it/s, loss=0.046, v_num=3, train_loss=0.116, train_accuracy=0.944, val_loss=0.168, val_accuracy=0.950]\n",
      "Validating:  41%|████▏     | 12/29 [00:05<00:03,  4.92it/s]\u001b[A\n",
      "Epoch 143:  94%|█████████▍| 240/255 [02:44<00:10,  1.46it/s, loss=0.046, v_num=3, train_loss=0.116, train_accuracy=0.944, val_loss=0.168, val_accuracy=0.950]\n",
      "Validating:  48%|████▊     | 14/29 [00:06<00:02,  5.24it/s]\u001b[A\n",
      "Epoch 143:  95%|█████████▍| 242/255 [02:44<00:08,  1.47it/s, loss=0.046, v_num=3, train_loss=0.116, train_accuracy=0.944, val_loss=0.168, val_accuracy=0.950]\n",
      "Validating:  55%|█████▌    | 16/29 [00:06<00:02,  5.46it/s]\u001b[A\n",
      "Epoch 143:  96%|█████████▌| 244/255 [02:44<00:07,  1.48it/s, loss=0.046, v_num=3, train_loss=0.116, train_accuracy=0.944, val_loss=0.168, val_accuracy=0.950]\n",
      "Validating:  62%|██████▏   | 18/29 [00:06<00:01,  5.57it/s]\u001b[A\n",
      "Epoch 143:  96%|█████████▋| 246/255 [02:45<00:06,  1.49it/s, loss=0.046, v_num=3, train_loss=0.116, train_accuracy=0.944, val_loss=0.168, val_accuracy=0.950]\n",
      "Validating:  69%|██████▉   | 20/29 [00:07<00:01,  5.61it/s]\u001b[A\n",
      "Epoch 143:  97%|█████████▋| 248/255 [02:45<00:04,  1.50it/s, loss=0.046, v_num=3, train_loss=0.116, train_accuracy=0.944, val_loss=0.168, val_accuracy=0.950]\n",
      "Validating:  76%|███████▌  | 22/29 [00:07<00:01,  5.64it/s]\u001b[A\n",
      "Epoch 143:  98%|█████████▊| 250/255 [02:45<00:03,  1.51it/s, loss=0.046, v_num=3, train_loss=0.116, train_accuracy=0.944, val_loss=0.168, val_accuracy=0.950]\n",
      "Validating:  83%|████████▎ | 24/29 [00:07<00:00,  5.58it/s]\u001b[A\n",
      "Epoch 143:  99%|█████████▉| 252/255 [02:46<00:01,  1.52it/s, loss=0.046, v_num=3, train_loss=0.116, train_accuracy=0.944, val_loss=0.168, val_accuracy=0.950]\n",
      "Validating:  90%|████████▉ | 26/29 [00:08<00:00,  5.61it/s]\u001b[A\n",
      "Epoch 143: 100%|█████████▉| 254/255 [02:46<00:00,  1.52it/s, loss=0.046, v_num=3, train_loss=0.116, train_accuracy=0.944, val_loss=0.168, val_accuracy=0.950]\n",
      "Validating:  97%|█████████▋| 28/29 [00:08<00:00,  5.59it/s]\u001b[A\n",
      "Epoch 143: 100%|██████████| 255/255 [02:47<00:00,  1.52it/s, loss=0.046, v_num=3, train_loss=0.116, train_accuracy=0.944, val_loss=0.133, val_accuracy=0.954]\n",
      "Epoch 143: 100%|██████████| 255/255 [02:47<00:00,  1.52it/s, loss=0.046, v_num=3, train_loss=0.116, train_accuracy=0.944, val_loss=0.133, val_accuracy=0.954]"
     ]
    },
    {
     "name": "stderr",
     "output_type": "stream",
     "text": [
      "Epoch 143, global step 32543: val_loss reached 0.13317 (best 0.13317), saving model to \"/Workspace/code/checkpoints/best-checkpoint-corr-mi-18-v6.ckpt\" as top 2\n"
     ]
    },
    {
     "name": "stdout",
     "output_type": "stream",
     "text": [
      "Epoch 144:  89%|████████▊ | 226/255 [02:38<00:20,  1.43it/s, loss=0.0483, v_num=3, train_loss=0.0213, train_accuracy=1.000, val_loss=0.133, val_accuracy=0.954] \n",
      "Validating: 0it [00:00, ?it/s]\u001b[A\n",
      "Validating:   0%|          | 0/29 [00:00<?, ?it/s]\u001b[A\n",
      "Epoch 144:  89%|████████▉ | 228/255 [02:41<00:19,  1.41it/s, loss=0.0483, v_num=3, train_loss=0.0213, train_accuracy=1.000, val_loss=0.133, val_accuracy=0.954]\n",
      "Validating:   7%|▋         | 2/29 [00:03<00:45,  1.67s/it]\u001b[A\n",
      "Epoch 144:  90%|█████████ | 230/255 [02:42<00:17,  1.42it/s, loss=0.0483, v_num=3, train_loss=0.0213, train_accuracy=1.000, val_loss=0.133, val_accuracy=0.954]\n",
      "Validating:  14%|█▍        | 4/29 [00:04<00:16,  1.50it/s]\u001b[A\n",
      "Epoch 144:  91%|█████████ | 232/255 [02:42<00:16,  1.43it/s, loss=0.0483, v_num=3, train_loss=0.0213, train_accuracy=1.000, val_loss=0.133, val_accuracy=0.954]\n",
      "Validating:  21%|██        | 6/29 [00:04<00:08,  2.57it/s]\u001b[A\n",
      "Epoch 144:  92%|█████████▏| 234/255 [02:43<00:14,  1.44it/s, loss=0.0483, v_num=3, train_loss=0.0213, train_accuracy=1.000, val_loss=0.133, val_accuracy=0.954]\n",
      "Validating:  28%|██▊       | 8/29 [00:05<00:05,  3.64it/s]\u001b[A\n",
      "Epoch 144:  93%|█████████▎| 236/255 [02:43<00:13,  1.44it/s, loss=0.0483, v_num=3, train_loss=0.0213, train_accuracy=1.000, val_loss=0.133, val_accuracy=0.954]\n",
      "Validating:  34%|███▍      | 10/29 [00:05<00:04,  4.45it/s]\u001b[A\n",
      "Epoch 144:  93%|█████████▎| 238/255 [02:43<00:11,  1.45it/s, loss=0.0483, v_num=3, train_loss=0.0213, train_accuracy=1.000, val_loss=0.133, val_accuracy=0.954]\n",
      "Validating:  41%|████▏     | 12/29 [00:05<00:03,  4.99it/s]\u001b[A\n",
      "Epoch 144:  94%|█████████▍| 240/255 [02:44<00:10,  1.46it/s, loss=0.0483, v_num=3, train_loss=0.0213, train_accuracy=1.000, val_loss=0.133, val_accuracy=0.954]\n",
      "Validating:  48%|████▊     | 14/29 [00:06<00:02,  5.33it/s]\u001b[A\n",
      "Epoch 144:  95%|█████████▍| 242/255 [02:44<00:08,  1.47it/s, loss=0.0483, v_num=3, train_loss=0.0213, train_accuracy=1.000, val_loss=0.133, val_accuracy=0.954]\n",
      "Validating:  55%|█████▌    | 16/29 [00:06<00:02,  5.46it/s]\u001b[A\n",
      "Epoch 144:  96%|█████████▌| 244/255 [02:44<00:07,  1.48it/s, loss=0.0483, v_num=3, train_loss=0.0213, train_accuracy=1.000, val_loss=0.133, val_accuracy=0.954]\n",
      "Validating:  62%|██████▏   | 18/29 [00:06<00:01,  5.60it/s]\u001b[A\n",
      "Epoch 144:  96%|█████████▋| 246/255 [02:45<00:06,  1.49it/s, loss=0.0483, v_num=3, train_loss=0.0213, train_accuracy=1.000, val_loss=0.133, val_accuracy=0.954]\n",
      "Validating:  69%|██████▉   | 20/29 [00:07<00:01,  5.63it/s]\u001b[A\n",
      "Epoch 144:  97%|█████████▋| 248/255 [02:45<00:04,  1.50it/s, loss=0.0483, v_num=3, train_loss=0.0213, train_accuracy=1.000, val_loss=0.133, val_accuracy=0.954]\n",
      "Validating:  76%|███████▌  | 22/29 [00:07<00:01,  5.70it/s]\u001b[A\n",
      "Epoch 144:  98%|█████████▊| 250/255 [02:45<00:03,  1.51it/s, loss=0.0483, v_num=3, train_loss=0.0213, train_accuracy=1.000, val_loss=0.133, val_accuracy=0.954]\n",
      "Validating:  83%|████████▎ | 24/29 [00:07<00:00,  5.71it/s]\u001b[A\n",
      "Epoch 144:  99%|█████████▉| 252/255 [02:46<00:01,  1.52it/s, loss=0.0483, v_num=3, train_loss=0.0213, train_accuracy=1.000, val_loss=0.133, val_accuracy=0.954]\n",
      "Validating:  90%|████████▉ | 26/29 [00:08<00:00,  5.67it/s]\u001b[A\n",
      "Epoch 144: 100%|█████████▉| 254/255 [02:46<00:00,  1.52it/s, loss=0.0483, v_num=3, train_loss=0.0213, train_accuracy=1.000, val_loss=0.133, val_accuracy=0.954]\n",
      "Validating:  97%|█████████▋| 28/29 [00:08<00:00,  5.56it/s]\u001b[A\n",
      "Epoch 144: 100%|██████████| 255/255 [02:47<00:00,  1.52it/s, loss=0.0483, v_num=3, train_loss=0.0213, train_accuracy=1.000, val_loss=0.172, val_accuracy=0.947]\n",
      "Epoch 144: 100%|██████████| 255/255 [02:47<00:00,  1.52it/s, loss=0.0483, v_num=3, train_loss=0.0213, train_accuracy=1.000, val_loss=0.172, val_accuracy=0.947]"
     ]
    },
    {
     "name": "stderr",
     "output_type": "stream",
     "text": [
      "Epoch 144, global step 32769: val_loss was not in top 2\n"
     ]
    },
    {
     "name": "stdout",
     "output_type": "stream",
     "text": [
      "Epoch 145:  89%|████████▊ | 226/255 [02:37<00:20,  1.43it/s, loss=0.0469, v_num=3, train_loss=0.0132, train_accuracy=1.000, val_loss=0.172, val_accuracy=0.947] \n",
      "Validating: 0it [00:00, ?it/s]\u001b[A\n",
      "Validating:   0%|          | 0/29 [00:00<?, ?it/s]\u001b[A\n",
      "Epoch 145:  89%|████████▉ | 228/255 [02:41<00:19,  1.41it/s, loss=0.0469, v_num=3, train_loss=0.0132, train_accuracy=1.000, val_loss=0.172, val_accuracy=0.947]\n",
      "Validating:   7%|▋         | 2/29 [00:03<00:44,  1.65s/it]\u001b[A\n",
      "Epoch 145:  90%|█████████ | 230/255 [02:41<00:17,  1.42it/s, loss=0.0469, v_num=3, train_loss=0.0132, train_accuracy=1.000, val_loss=0.172, val_accuracy=0.947]\n",
      "Validating:  14%|█▍        | 4/29 [00:04<00:16,  1.50it/s]\u001b[A\n",
      "Epoch 145:  91%|█████████ | 232/255 [02:42<00:16,  1.43it/s, loss=0.0469, v_num=3, train_loss=0.0132, train_accuracy=1.000, val_loss=0.172, val_accuracy=0.947]\n",
      "Validating:  21%|██        | 6/29 [00:04<00:08,  2.59it/s]\u001b[A\n",
      "Epoch 145:  92%|█████████▏| 234/255 [02:42<00:14,  1.44it/s, loss=0.0469, v_num=3, train_loss=0.0132, train_accuracy=1.000, val_loss=0.172, val_accuracy=0.947]\n",
      "Validating:  28%|██▊       | 8/29 [00:05<00:05,  3.67it/s]\u001b[A\n",
      "Epoch 145:  93%|█████████▎| 236/255 [02:43<00:13,  1.45it/s, loss=0.0469, v_num=3, train_loss=0.0132, train_accuracy=1.000, val_loss=0.172, val_accuracy=0.947]\n",
      "Validating:  34%|███▍      | 10/29 [00:05<00:04,  4.46it/s]\u001b[A\n",
      "Epoch 145:  93%|█████████▎| 238/255 [02:43<00:11,  1.46it/s, loss=0.0469, v_num=3, train_loss=0.0132, train_accuracy=1.000, val_loss=0.172, val_accuracy=0.947]\n",
      "Validating:  41%|████▏     | 12/29 [00:05<00:03,  5.00it/s]\u001b[A\n",
      "Epoch 145:  94%|█████████▍| 240/255 [02:43<00:10,  1.47it/s, loss=0.0469, v_num=3, train_loss=0.0132, train_accuracy=1.000, val_loss=0.172, val_accuracy=0.947]\n",
      "Validating:  48%|████▊     | 14/29 [00:06<00:02,  5.31it/s]\u001b[A\n",
      "Epoch 145:  95%|█████████▍| 242/255 [02:44<00:08,  1.47it/s, loss=0.0469, v_num=3, train_loss=0.0132, train_accuracy=1.000, val_loss=0.172, val_accuracy=0.947]\n",
      "Validating:  55%|█████▌    | 16/29 [00:06<00:02,  5.41it/s]\u001b[A\n",
      "Epoch 145:  96%|█████████▌| 244/255 [02:44<00:07,  1.48it/s, loss=0.0469, v_num=3, train_loss=0.0132, train_accuracy=1.000, val_loss=0.172, val_accuracy=0.947]\n",
      "Validating:  62%|██████▏   | 18/29 [00:06<00:01,  5.56it/s]\u001b[A\n",
      "Epoch 145:  96%|█████████▋| 246/255 [02:44<00:06,  1.49it/s, loss=0.0469, v_num=3, train_loss=0.0132, train_accuracy=1.000, val_loss=0.172, val_accuracy=0.947]\n",
      "Validating:  69%|██████▉   | 20/29 [00:07<00:01,  5.54it/s]\u001b[A\n",
      "Epoch 145:  97%|█████████▋| 248/255 [02:45<00:04,  1.50it/s, loss=0.0469, v_num=3, train_loss=0.0132, train_accuracy=1.000, val_loss=0.172, val_accuracy=0.947]\n",
      "Validating:  76%|███████▌  | 22/29 [00:07<00:01,  5.55it/s]\u001b[A\n",
      "Epoch 145:  98%|█████████▊| 250/255 [02:45<00:03,  1.51it/s, loss=0.0469, v_num=3, train_loss=0.0132, train_accuracy=1.000, val_loss=0.172, val_accuracy=0.947]\n",
      "Validating:  83%|████████▎ | 24/29 [00:07<00:00,  5.65it/s]\u001b[A\n",
      "Epoch 145:  99%|█████████▉| 252/255 [02:45<00:01,  1.52it/s, loss=0.0469, v_num=3, train_loss=0.0132, train_accuracy=1.000, val_loss=0.172, val_accuracy=0.947]\n",
      "Validating:  90%|████████▉ | 26/29 [00:08<00:00,  5.58it/s]\u001b[A\n",
      "Epoch 145: 100%|█████████▉| 254/255 [02:46<00:00,  1.53it/s, loss=0.0469, v_num=3, train_loss=0.0132, train_accuracy=1.000, val_loss=0.172, val_accuracy=0.947]\n",
      "Validating:  97%|█████████▋| 28/29 [00:08<00:00,  5.55it/s]\u001b[A\n",
      "Epoch 145: 100%|██████████| 255/255 [02:47<00:00,  1.53it/s, loss=0.0469, v_num=3, train_loss=0.0132, train_accuracy=1.000, val_loss=0.162, val_accuracy=0.949]\n",
      "Epoch 145: 100%|██████████| 255/255 [02:47<00:00,  1.53it/s, loss=0.0469, v_num=3, train_loss=0.0132, train_accuracy=1.000, val_loss=0.162, val_accuracy=0.949]"
     ]
    },
    {
     "name": "stderr",
     "output_type": "stream",
     "text": [
      "Epoch 145, global step 32995: val_loss was not in top 2\n"
     ]
    },
    {
     "name": "stdout",
     "output_type": "stream",
     "text": [
      "Epoch 146:  89%|████████▊ | 226/255 [02:37<00:20,  1.43it/s, loss=0.0436, v_num=3, train_loss=0.0103, train_accuracy=1.000, val_loss=0.162, val_accuracy=0.949] \n",
      "Validating: 0it [00:00, ?it/s]\u001b[A\n",
      "Validating:   0%|          | 0/29 [00:00<?, ?it/s]\u001b[A\n",
      "Epoch 146:  89%|████████▉ | 228/255 [02:41<00:19,  1.41it/s, loss=0.0436, v_num=3, train_loss=0.0103, train_accuracy=1.000, val_loss=0.162, val_accuracy=0.949]\n",
      "Validating:   7%|▋         | 2/29 [00:03<00:44,  1.66s/it]\u001b[A\n",
      "Epoch 146:  90%|█████████ | 230/255 [02:41<00:17,  1.42it/s, loss=0.0436, v_num=3, train_loss=0.0103, train_accuracy=1.000, val_loss=0.162, val_accuracy=0.949]\n",
      "Validating:  14%|█▍        | 4/29 [00:04<00:16,  1.50it/s]\u001b[A\n",
      "Epoch 146:  91%|█████████ | 232/255 [02:42<00:16,  1.43it/s, loss=0.0436, v_num=3, train_loss=0.0103, train_accuracy=1.000, val_loss=0.162, val_accuracy=0.949]\n",
      "Validating:  21%|██        | 6/29 [00:04<00:08,  2.59it/s]\u001b[A\n",
      "Epoch 146:  92%|█████████▏| 234/255 [02:42<00:14,  1.44it/s, loss=0.0436, v_num=3, train_loss=0.0103, train_accuracy=1.000, val_loss=0.162, val_accuracy=0.949]\n",
      "Validating:  28%|██▊       | 8/29 [00:05<00:05,  3.65it/s]\u001b[A\n",
      "Epoch 146:  93%|█████████▎| 236/255 [02:43<00:13,  1.45it/s, loss=0.0436, v_num=3, train_loss=0.0103, train_accuracy=1.000, val_loss=0.162, val_accuracy=0.949]\n",
      "Validating:  34%|███▍      | 10/29 [00:05<00:04,  4.50it/s]\u001b[A\n",
      "Epoch 146:  93%|█████████▎| 238/255 [02:43<00:11,  1.46it/s, loss=0.0436, v_num=3, train_loss=0.0103, train_accuracy=1.000, val_loss=0.162, val_accuracy=0.949]\n",
      "Validating:  41%|████▏     | 12/29 [00:05<00:03,  5.02it/s]\u001b[A\n",
      "Epoch 146:  94%|█████████▍| 240/255 [02:43<00:10,  1.47it/s, loss=0.0436, v_num=3, train_loss=0.0103, train_accuracy=1.000, val_loss=0.162, val_accuracy=0.949]\n",
      "Validating:  48%|████▊     | 14/29 [00:06<00:02,  5.18it/s]\u001b[A\n",
      "Epoch 146:  95%|█████████▍| 242/255 [02:44<00:08,  1.47it/s, loss=0.0436, v_num=3, train_loss=0.0103, train_accuracy=1.000, val_loss=0.162, val_accuracy=0.949]\n",
      "Validating:  55%|█████▌    | 16/29 [00:06<00:02,  5.40it/s]\u001b[A\n",
      "Epoch 146:  96%|█████████▌| 244/255 [02:44<00:07,  1.48it/s, loss=0.0436, v_num=3, train_loss=0.0103, train_accuracy=1.000, val_loss=0.162, val_accuracy=0.949]\n",
      "Validating:  62%|██████▏   | 18/29 [00:06<00:01,  5.54it/s]\u001b[A\n",
      "Epoch 146:  96%|█████████▋| 246/255 [02:44<00:06,  1.49it/s, loss=0.0436, v_num=3, train_loss=0.0103, train_accuracy=1.000, val_loss=0.162, val_accuracy=0.949]\n",
      "Validating:  69%|██████▉   | 20/29 [00:07<00:01,  5.59it/s]\u001b[A\n",
      "Epoch 146:  97%|█████████▋| 248/255 [02:45<00:04,  1.50it/s, loss=0.0436, v_num=3, train_loss=0.0103, train_accuracy=1.000, val_loss=0.162, val_accuracy=0.949]\n",
      "Validating:  76%|███████▌  | 22/29 [00:07<00:01,  5.65it/s]\u001b[A\n",
      "Epoch 146:  98%|█████████▊| 250/255 [02:45<00:03,  1.51it/s, loss=0.0436, v_num=3, train_loss=0.0103, train_accuracy=1.000, val_loss=0.162, val_accuracy=0.949]\n",
      "Validating:  83%|████████▎ | 24/29 [00:07<00:00,  5.68it/s]\u001b[A\n",
      "Epoch 146:  99%|█████████▉| 252/255 [02:45<00:01,  1.52it/s, loss=0.0436, v_num=3, train_loss=0.0103, train_accuracy=1.000, val_loss=0.162, val_accuracy=0.949]\n",
      "Validating:  90%|████████▉ | 26/29 [00:08<00:00,  5.66it/s]\u001b[A\n",
      "Epoch 146: 100%|█████████▉| 254/255 [02:46<00:00,  1.53it/s, loss=0.0436, v_num=3, train_loss=0.0103, train_accuracy=1.000, val_loss=0.162, val_accuracy=0.949]\n",
      "Validating:  97%|█████████▋| 28/29 [00:08<00:00,  5.65it/s]\u001b[A\n",
      "Epoch 146: 100%|██████████| 255/255 [02:47<00:00,  1.53it/s, loss=0.0436, v_num=3, train_loss=0.0103, train_accuracy=1.000, val_loss=0.147, val_accuracy=0.955]\n",
      "Epoch 146: 100%|██████████| 255/255 [02:47<00:00,  1.53it/s, loss=0.0436, v_num=3, train_loss=0.0103, train_accuracy=1.000, val_loss=0.147, val_accuracy=0.955]"
     ]
    },
    {
     "name": "stderr",
     "output_type": "stream",
     "text": [
      "Epoch 146, global step 33221: val_loss was not in top 2\n"
     ]
    },
    {
     "name": "stdout",
     "output_type": "stream",
     "text": [
      "Epoch 147:  89%|████████▊ | 226/255 [02:37<00:20,  1.43it/s, loss=0.0645, v_num=3, train_loss=0.127, train_accuracy=0.944, val_loss=0.147, val_accuracy=0.955]   \n",
      "Validating: 0it [00:00, ?it/s]\u001b[A\n",
      "Validating:   0%|          | 0/29 [00:00<?, ?it/s]\u001b[A\n",
      "Epoch 147:  89%|████████▉ | 228/255 [02:41<00:19,  1.41it/s, loss=0.0645, v_num=3, train_loss=0.127, train_accuracy=0.944, val_loss=0.147, val_accuracy=0.955]\n",
      "Validating:   7%|▋         | 2/29 [00:03<00:44,  1.66s/it]\u001b[A\n",
      "Epoch 147:  90%|█████████ | 230/255 [02:41<00:17,  1.42it/s, loss=0.0645, v_num=3, train_loss=0.127, train_accuracy=0.944, val_loss=0.147, val_accuracy=0.955]\n",
      "Validating:  14%|█▍        | 4/29 [00:04<00:16,  1.49it/s]\u001b[A\n",
      "Epoch 147:  91%|█████████ | 232/255 [02:42<00:16,  1.43it/s, loss=0.0645, v_num=3, train_loss=0.127, train_accuracy=0.944, val_loss=0.147, val_accuracy=0.955]\n",
      "Validating:  21%|██        | 6/29 [00:04<00:08,  2.60it/s]\u001b[A\n",
      "Epoch 147:  92%|█████████▏| 234/255 [02:42<00:14,  1.44it/s, loss=0.0645, v_num=3, train_loss=0.127, train_accuracy=0.944, val_loss=0.147, val_accuracy=0.955]\n",
      "Validating:  28%|██▊       | 8/29 [00:05<00:05,  3.63it/s]\u001b[A\n",
      "Epoch 147:  93%|█████████▎| 236/255 [02:42<00:13,  1.45it/s, loss=0.0645, v_num=3, train_loss=0.127, train_accuracy=0.944, val_loss=0.147, val_accuracy=0.955]\n",
      "Validating:  34%|███▍      | 10/29 [00:05<00:04,  4.44it/s]\u001b[A\n",
      "Epoch 147:  93%|█████████▎| 238/255 [02:43<00:11,  1.46it/s, loss=0.0645, v_num=3, train_loss=0.127, train_accuracy=0.944, val_loss=0.147, val_accuracy=0.955]\n",
      "Validating:  41%|████▏     | 12/29 [00:05<00:03,  4.84it/s]\u001b[A\n",
      "Epoch 147:  94%|█████████▍| 240/255 [02:43<00:10,  1.47it/s, loss=0.0645, v_num=3, train_loss=0.127, train_accuracy=0.944, val_loss=0.147, val_accuracy=0.955]\n",
      "Validating:  48%|████▊     | 14/29 [00:06<00:02,  5.28it/s]\u001b[A\n",
      "Epoch 147:  95%|█████████▍| 242/255 [02:44<00:08,  1.47it/s, loss=0.0645, v_num=3, train_loss=0.127, train_accuracy=0.944, val_loss=0.147, val_accuracy=0.955]\n",
      "Validating:  55%|█████▌    | 16/29 [00:06<00:02,  5.48it/s]\u001b[A\n",
      "Epoch 147:  96%|█████████▌| 244/255 [02:44<00:07,  1.48it/s, loss=0.0645, v_num=3, train_loss=0.127, train_accuracy=0.944, val_loss=0.147, val_accuracy=0.955]\n",
      "Validating:  62%|██████▏   | 18/29 [00:06<00:01,  5.56it/s]\u001b[A\n",
      "Epoch 147:  96%|█████████▋| 246/255 [02:44<00:06,  1.49it/s, loss=0.0645, v_num=3, train_loss=0.127, train_accuracy=0.944, val_loss=0.147, val_accuracy=0.955]\n",
      "Validating:  69%|██████▉   | 20/29 [00:07<00:01,  5.62it/s]\u001b[A\n",
      "Epoch 147:  97%|█████████▋| 248/255 [02:45<00:04,  1.50it/s, loss=0.0645, v_num=3, train_loss=0.127, train_accuracy=0.944, val_loss=0.147, val_accuracy=0.955]\n",
      "Validating:  76%|███████▌  | 22/29 [00:07<00:01,  5.59it/s]\u001b[A\n",
      "Epoch 147:  98%|█████████▊| 250/255 [02:45<00:03,  1.51it/s, loss=0.0645, v_num=3, train_loss=0.127, train_accuracy=0.944, val_loss=0.147, val_accuracy=0.955]\n",
      "Validating:  83%|████████▎ | 24/29 [00:07<00:00,  5.58it/s]\u001b[A\n",
      "Epoch 147:  99%|█████████▉| 252/255 [02:45<00:01,  1.52it/s, loss=0.0645, v_num=3, train_loss=0.127, train_accuracy=0.944, val_loss=0.147, val_accuracy=0.955]\n",
      "Validating:  90%|████████▉ | 26/29 [00:08<00:00,  5.61it/s]\u001b[A\n",
      "Epoch 147: 100%|█████████▉| 254/255 [02:46<00:00,  1.53it/s, loss=0.0645, v_num=3, train_loss=0.127, train_accuracy=0.944, val_loss=0.147, val_accuracy=0.955]\n",
      "Validating:  97%|█████████▋| 28/29 [00:08<00:00,  5.58it/s]\u001b[A\n",
      "Epoch 147: 100%|██████████| 255/255 [02:47<00:00,  1.53it/s, loss=0.0645, v_num=3, train_loss=0.127, train_accuracy=0.944, val_loss=0.173, val_accuracy=0.952]\n",
      "Epoch 147: 100%|██████████| 255/255 [02:47<00:00,  1.53it/s, loss=0.0645, v_num=3, train_loss=0.127, train_accuracy=0.944, val_loss=0.173, val_accuracy=0.952]"
     ]
    },
    {
     "name": "stderr",
     "output_type": "stream",
     "text": [
      "Epoch 147, global step 33447: val_loss was not in top 2\n"
     ]
    },
    {
     "name": "stdout",
     "output_type": "stream",
     "text": [
      "Epoch 148:  89%|████████▊ | 226/255 [02:38<00:20,  1.43it/s, loss=0.0629, v_num=3, train_loss=0.161, train_accuracy=0.889, val_loss=0.173, val_accuracy=0.952]   \n",
      "Validating: 0it [00:00, ?it/s]\u001b[A\n",
      "Validating:   0%|          | 0/29 [00:00<?, ?it/s]\u001b[A\n",
      "Epoch 148:  89%|████████▉ | 228/255 [02:41<00:19,  1.41it/s, loss=0.0629, v_num=3, train_loss=0.161, train_accuracy=0.889, val_loss=0.173, val_accuracy=0.952]\n",
      "Validating:   7%|▋         | 2/29 [00:03<00:44,  1.66s/it]\u001b[A\n",
      "Epoch 148:  90%|█████████ | 230/255 [02:42<00:17,  1.42it/s, loss=0.0629, v_num=3, train_loss=0.161, train_accuracy=0.889, val_loss=0.173, val_accuracy=0.952]\n",
      "Validating:  14%|█▍        | 4/29 [00:04<00:16,  1.50it/s]\u001b[A\n",
      "Epoch 148:  91%|█████████ | 232/255 [02:42<00:16,  1.43it/s, loss=0.0629, v_num=3, train_loss=0.161, train_accuracy=0.889, val_loss=0.173, val_accuracy=0.952]\n",
      "Validating:  21%|██        | 6/29 [00:04<00:08,  2.58it/s]\u001b[A\n",
      "Epoch 148:  92%|█████████▏| 234/255 [02:43<00:14,  1.44it/s, loss=0.0629, v_num=3, train_loss=0.161, train_accuracy=0.889, val_loss=0.173, val_accuracy=0.952]\n",
      "Validating:  28%|██▊       | 8/29 [00:05<00:05,  3.67it/s]\u001b[A\n",
      "Epoch 148:  93%|█████████▎| 236/255 [02:43<00:13,  1.44it/s, loss=0.0629, v_num=3, train_loss=0.161, train_accuracy=0.889, val_loss=0.173, val_accuracy=0.952]\n",
      "Validating:  34%|███▍      | 10/29 [00:05<00:04,  4.52it/s]\u001b[A\n",
      "Epoch 148:  93%|█████████▎| 238/255 [02:43<00:11,  1.45it/s, loss=0.0629, v_num=3, train_loss=0.161, train_accuracy=0.889, val_loss=0.173, val_accuracy=0.952]\n",
      "Validating:  41%|████▏     | 12/29 [00:05<00:03,  5.08it/s]\u001b[A\n",
      "Epoch 148:  94%|█████████▍| 240/255 [02:44<00:10,  1.46it/s, loss=0.0629, v_num=3, train_loss=0.161, train_accuracy=0.889, val_loss=0.173, val_accuracy=0.952]\n",
      "Validating:  48%|████▊     | 14/29 [00:06<00:02,  5.33it/s]\u001b[A\n",
      "Epoch 148:  95%|█████████▍| 242/255 [02:44<00:08,  1.47it/s, loss=0.0629, v_num=3, train_loss=0.161, train_accuracy=0.889, val_loss=0.173, val_accuracy=0.952]\n",
      "Validating:  55%|█████▌    | 16/29 [00:06<00:02,  5.50it/s]\u001b[A\n",
      "Epoch 148:  96%|█████████▌| 244/255 [02:44<00:07,  1.48it/s, loss=0.0629, v_num=3, train_loss=0.161, train_accuracy=0.889, val_loss=0.173, val_accuracy=0.952]\n",
      "Validating:  62%|██████▏   | 18/29 [00:06<00:01,  5.59it/s]\u001b[A\n",
      "Epoch 148:  96%|█████████▋| 246/255 [02:45<00:06,  1.49it/s, loss=0.0629, v_num=3, train_loss=0.161, train_accuracy=0.889, val_loss=0.173, val_accuracy=0.952]\n",
      "Validating:  69%|██████▉   | 20/29 [00:07<00:01,  5.62it/s]\u001b[A\n",
      "Epoch 148:  97%|█████████▋| 248/255 [02:45<00:04,  1.50it/s, loss=0.0629, v_num=3, train_loss=0.161, train_accuracy=0.889, val_loss=0.173, val_accuracy=0.952]\n",
      "Validating:  76%|███████▌  | 22/29 [00:07<00:01,  5.68it/s]\u001b[A\n",
      "Epoch 148:  98%|█████████▊| 250/255 [02:45<00:03,  1.51it/s, loss=0.0629, v_num=3, train_loss=0.161, train_accuracy=0.889, val_loss=0.173, val_accuracy=0.952]\n",
      "Validating:  83%|████████▎ | 24/29 [00:07<00:00,  5.68it/s]\u001b[A\n",
      "Epoch 148:  99%|█████████▉| 252/255 [02:46<00:01,  1.52it/s, loss=0.0629, v_num=3, train_loss=0.161, train_accuracy=0.889, val_loss=0.173, val_accuracy=0.952]\n",
      "Validating:  90%|████████▉ | 26/29 [00:08<00:00,  5.61it/s]\u001b[A\n",
      "Epoch 148: 100%|█████████▉| 254/255 [02:46<00:00,  1.52it/s, loss=0.0629, v_num=3, train_loss=0.161, train_accuracy=0.889, val_loss=0.173, val_accuracy=0.952]\n",
      "Validating:  97%|█████████▋| 28/29 [00:08<00:00,  5.58it/s]\u001b[A\n",
      "Epoch 148: 100%|██████████| 255/255 [02:47<00:00,  1.52it/s, loss=0.0629, v_num=3, train_loss=0.161, train_accuracy=0.889, val_loss=0.179, val_accuracy=0.950]\n",
      "Epoch 148: 100%|██████████| 255/255 [02:47<00:00,  1.52it/s, loss=0.0629, v_num=3, train_loss=0.161, train_accuracy=0.889, val_loss=0.179, val_accuracy=0.950]"
     ]
    },
    {
     "name": "stderr",
     "output_type": "stream",
     "text": [
      "Epoch 148, global step 33673: val_loss was not in top 2\n"
     ]
    },
    {
     "name": "stdout",
     "output_type": "stream",
     "text": [
      "Epoch 149:  89%|████████▊ | 226/255 [02:37<00:20,  1.43it/s, loss=0.0589, v_num=3, train_loss=0.00471, train_accuracy=1.000, val_loss=0.179, val_accuracy=0.950]\n",
      "Validating: 0it [00:00, ?it/s]\u001b[A\n",
      "Validating:   0%|          | 0/29 [00:00<?, ?it/s]\u001b[A\n",
      "Epoch 149:  89%|████████▉ | 228/255 [02:41<00:19,  1.41it/s, loss=0.0589, v_num=3, train_loss=0.00471, train_accuracy=1.000, val_loss=0.179, val_accuracy=0.950]\n",
      "Validating:   7%|▋         | 2/29 [00:03<00:44,  1.67s/it]\u001b[A\n",
      "Epoch 149:  90%|█████████ | 230/255 [02:42<00:17,  1.42it/s, loss=0.0589, v_num=3, train_loss=0.00471, train_accuracy=1.000, val_loss=0.179, val_accuracy=0.950]\n",
      "Validating:  14%|█▍        | 4/29 [00:04<00:16,  1.48it/s]\u001b[A\n",
      "Epoch 149:  91%|█████████ | 232/255 [02:42<00:16,  1.43it/s, loss=0.0589, v_num=3, train_loss=0.00471, train_accuracy=1.000, val_loss=0.179, val_accuracy=0.950]\n",
      "Validating:  21%|██        | 6/29 [00:04<00:08,  2.57it/s]\u001b[A\n",
      "Epoch 149:  92%|█████████▏| 234/255 [02:42<00:14,  1.44it/s, loss=0.0589, v_num=3, train_loss=0.00471, train_accuracy=1.000, val_loss=0.179, val_accuracy=0.950]\n",
      "Validating:  28%|██▊       | 8/29 [00:05<00:05,  3.63it/s]\u001b[A\n",
      "Epoch 149:  93%|█████████▎| 236/255 [02:43<00:13,  1.45it/s, loss=0.0589, v_num=3, train_loss=0.00471, train_accuracy=1.000, val_loss=0.179, val_accuracy=0.950]\n",
      "Validating:  34%|███▍      | 10/29 [00:05<00:04,  4.43it/s]\u001b[A\n",
      "Epoch 149:  93%|█████████▎| 238/255 [02:43<00:11,  1.46it/s, loss=0.0589, v_num=3, train_loss=0.00471, train_accuracy=1.000, val_loss=0.179, val_accuracy=0.950]\n",
      "Validating:  41%|████▏     | 12/29 [00:05<00:03,  5.04it/s]\u001b[A\n",
      "Epoch 149:  94%|█████████▍| 240/255 [02:43<00:10,  1.46it/s, loss=0.0589, v_num=3, train_loss=0.00471, train_accuracy=1.000, val_loss=0.179, val_accuracy=0.950]\n",
      "Validating:  48%|████▊     | 14/29 [00:06<00:02,  5.31it/s]\u001b[A\n",
      "Epoch 149:  95%|█████████▍| 242/255 [02:44<00:08,  1.47it/s, loss=0.0589, v_num=3, train_loss=0.00471, train_accuracy=1.000, val_loss=0.179, val_accuracy=0.950]\n",
      "Validating:  55%|█████▌    | 16/29 [00:06<00:02,  5.50it/s]\u001b[A\n",
      "Epoch 149:  96%|█████████▌| 244/255 [02:44<00:07,  1.48it/s, loss=0.0589, v_num=3, train_loss=0.00471, train_accuracy=1.000, val_loss=0.179, val_accuracy=0.950]\n",
      "Validating:  62%|██████▏   | 18/29 [00:06<00:01,  5.60it/s]\u001b[A\n",
      "Epoch 149:  96%|█████████▋| 246/255 [02:44<00:06,  1.49it/s, loss=0.0589, v_num=3, train_loss=0.00471, train_accuracy=1.000, val_loss=0.179, val_accuracy=0.950]\n",
      "Validating:  69%|██████▉   | 20/29 [00:07<00:01,  5.61it/s]\u001b[A\n",
      "Epoch 149:  97%|█████████▋| 248/255 [02:45<00:04,  1.50it/s, loss=0.0589, v_num=3, train_loss=0.00471, train_accuracy=1.000, val_loss=0.179, val_accuracy=0.950]\n",
      "Validating:  76%|███████▌  | 22/29 [00:07<00:01,  5.64it/s]\u001b[A\n",
      "Epoch 149:  98%|█████████▊| 250/255 [02:45<00:03,  1.51it/s, loss=0.0589, v_num=3, train_loss=0.00471, train_accuracy=1.000, val_loss=0.179, val_accuracy=0.950]\n",
      "Validating:  83%|████████▎ | 24/29 [00:07<00:00,  5.66it/s]\u001b[A\n",
      "Epoch 149:  99%|█████████▉| 252/255 [02:45<00:01,  1.52it/s, loss=0.0589, v_num=3, train_loss=0.00471, train_accuracy=1.000, val_loss=0.179, val_accuracy=0.950]\n",
      "Validating:  90%|████████▉ | 26/29 [00:08<00:00,  5.63it/s]\u001b[A\n",
      "Epoch 149: 100%|█████████▉| 254/255 [02:46<00:00,  1.53it/s, loss=0.0589, v_num=3, train_loss=0.00471, train_accuracy=1.000, val_loss=0.179, val_accuracy=0.950]\n",
      "Validating:  97%|█████████▋| 28/29 [00:08<00:00,  5.63it/s]\u001b[A\n",
      "Epoch 149: 100%|██████████| 255/255 [02:47<00:00,  1.53it/s, loss=0.0589, v_num=3, train_loss=0.00471, train_accuracy=1.000, val_loss=0.186, val_accuracy=0.947]\n",
      "Epoch 149: 100%|██████████| 255/255 [02:47<00:00,  1.52it/s, loss=0.0589, v_num=3, train_loss=0.00471, train_accuracy=1.000, val_loss=0.186, val_accuracy=0.947]"
     ]
    },
    {
     "name": "stderr",
     "output_type": "stream",
     "text": [
      "Epoch 149, global step 33899: val_loss was not in top 2\n"
     ]
    },
    {
     "name": "stdout",
     "output_type": "stream",
     "text": [
      "Epoch 150:  89%|████████▊ | 226/255 [02:37<00:20,  1.43it/s, loss=0.0583, v_num=3, train_loss=0.00155, train_accuracy=1.000, val_loss=0.186, val_accuracy=0.947]\n",
      "Validating: 0it [00:00, ?it/s]\u001b[A\n",
      "Validating:   0%|          | 0/29 [00:00<?, ?it/s]\u001b[A\n",
      "Epoch 150:  89%|████████▉ | 228/255 [02:41<00:19,  1.41it/s, loss=0.0583, v_num=3, train_loss=0.00155, train_accuracy=1.000, val_loss=0.186, val_accuracy=0.947]\n",
      "Validating:   7%|▋         | 2/29 [00:03<00:44,  1.66s/it]\u001b[A\n",
      "Epoch 150:  90%|█████████ | 230/255 [02:41<00:17,  1.42it/s, loss=0.0583, v_num=3, train_loss=0.00155, train_accuracy=1.000, val_loss=0.186, val_accuracy=0.947]\n",
      "Validating:  14%|█▍        | 4/29 [00:04<00:16,  1.50it/s]\u001b[A\n",
      "Epoch 150:  91%|█████████ | 232/255 [02:42<00:16,  1.43it/s, loss=0.0583, v_num=3, train_loss=0.00155, train_accuracy=1.000, val_loss=0.186, val_accuracy=0.947]\n",
      "Validating:  21%|██        | 6/29 [00:04<00:08,  2.59it/s]\u001b[A\n",
      "Epoch 150:  92%|█████████▏| 234/255 [02:42<00:14,  1.44it/s, loss=0.0583, v_num=3, train_loss=0.00155, train_accuracy=1.000, val_loss=0.186, val_accuracy=0.947]\n",
      "Validating:  28%|██▊       | 8/29 [00:05<00:05,  3.64it/s]\u001b[A\n",
      "Epoch 150:  93%|█████████▎| 236/255 [02:42<00:13,  1.45it/s, loss=0.0583, v_num=3, train_loss=0.00155, train_accuracy=1.000, val_loss=0.186, val_accuracy=0.947]\n",
      "Validating:  34%|███▍      | 10/29 [00:05<00:04,  4.45it/s]\u001b[A\n",
      "Epoch 150:  93%|█████████▎| 238/255 [02:43<00:11,  1.46it/s, loss=0.0583, v_num=3, train_loss=0.00155, train_accuracy=1.000, val_loss=0.186, val_accuracy=0.947]\n",
      "Validating:  41%|████▏     | 12/29 [00:05<00:03,  4.97it/s]\u001b[A\n",
      "Epoch 150:  94%|█████████▍| 240/255 [02:43<00:10,  1.47it/s, loss=0.0583, v_num=3, train_loss=0.00155, train_accuracy=1.000, val_loss=0.186, val_accuracy=0.947]\n",
      "Validating:  48%|████▊     | 14/29 [00:06<00:02,  5.27it/s]\u001b[A\n",
      "Epoch 150:  95%|█████████▍| 242/255 [02:43<00:08,  1.48it/s, loss=0.0583, v_num=3, train_loss=0.00155, train_accuracy=1.000, val_loss=0.186, val_accuracy=0.947]\n",
      "Validating:  55%|█████▌    | 16/29 [00:06<00:02,  5.44it/s]\u001b[A\n",
      "Epoch 150:  96%|█████████▌| 244/255 [02:44<00:07,  1.48it/s, loss=0.0583, v_num=3, train_loss=0.00155, train_accuracy=1.000, val_loss=0.186, val_accuracy=0.947]\n",
      "Validating:  62%|██████▏   | 18/29 [00:06<00:01,  5.56it/s]\u001b[A\n",
      "Epoch 150:  96%|█████████▋| 246/255 [02:44<00:06,  1.49it/s, loss=0.0583, v_num=3, train_loss=0.00155, train_accuracy=1.000, val_loss=0.186, val_accuracy=0.947]\n",
      "Validating:  69%|██████▉   | 20/29 [00:07<00:01,  5.60it/s]\u001b[A\n",
      "Epoch 150:  97%|█████████▋| 248/255 [02:45<00:04,  1.50it/s, loss=0.0583, v_num=3, train_loss=0.00155, train_accuracy=1.000, val_loss=0.186, val_accuracy=0.947]\n",
      "Validating:  76%|███████▌  | 22/29 [00:07<00:01,  5.62it/s]\u001b[A\n",
      "Epoch 150:  98%|█████████▊| 250/255 [02:45<00:03,  1.51it/s, loss=0.0583, v_num=3, train_loss=0.00155, train_accuracy=1.000, val_loss=0.186, val_accuracy=0.947]\n",
      "Validating:  83%|████████▎ | 24/29 [00:07<00:00,  5.68it/s]\u001b[A\n",
      "Epoch 150:  99%|█████████▉| 252/255 [02:45<00:01,  1.52it/s, loss=0.0583, v_num=3, train_loss=0.00155, train_accuracy=1.000, val_loss=0.186, val_accuracy=0.947]\n",
      "Validating:  90%|████████▉ | 26/29 [00:08<00:00,  5.66it/s]\u001b[A\n",
      "Epoch 150: 100%|█████████▉| 254/255 [02:46<00:00,  1.53it/s, loss=0.0583, v_num=3, train_loss=0.00155, train_accuracy=1.000, val_loss=0.186, val_accuracy=0.947]\n",
      "Validating:  97%|█████████▋| 28/29 [00:08<00:00,  5.70it/s]\u001b[A\n",
      "Epoch 150: 100%|██████████| 255/255 [02:46<00:00,  1.53it/s, loss=0.0583, v_num=3, train_loss=0.00155, train_accuracy=1.000, val_loss=0.194, val_accuracy=0.947]\n",
      "Epoch 150: 100%|██████████| 255/255 [02:46<00:00,  1.53it/s, loss=0.0583, v_num=3, train_loss=0.00155, train_accuracy=1.000, val_loss=0.194, val_accuracy=0.947]"
     ]
    },
    {
     "name": "stderr",
     "output_type": "stream",
     "text": [
      "Epoch 150, global step 34125: val_loss was not in top 2\n"
     ]
    },
    {
     "name": "stdout",
     "output_type": "stream",
     "text": [
      "Epoch 151:  89%|████████▊ | 226/255 [02:36<00:20,  1.44it/s, loss=0.0594, v_num=3, train_loss=0.0771, train_accuracy=1.000, val_loss=0.194, val_accuracy=0.947] \n",
      "Validating: 0it [00:00, ?it/s]\u001b[A\n",
      "Validating:   0%|          | 0/29 [00:00<?, ?it/s]\u001b[A\n",
      "Epoch 151:  89%|████████▉ | 228/255 [02:40<00:19,  1.42it/s, loss=0.0594, v_num=3, train_loss=0.0771, train_accuracy=1.000, val_loss=0.194, val_accuracy=0.947]\n",
      "Validating:   7%|▋         | 2/29 [00:03<00:44,  1.66s/it]\u001b[A\n",
      "Epoch 151:  90%|█████████ | 230/255 [02:40<00:17,  1.43it/s, loss=0.0594, v_num=3, train_loss=0.0771, train_accuracy=1.000, val_loss=0.194, val_accuracy=0.947]\n",
      "Validating:  14%|█▍        | 4/29 [00:04<00:16,  1.50it/s]\u001b[A\n",
      "Epoch 151:  91%|█████████ | 232/255 [02:41<00:15,  1.44it/s, loss=0.0594, v_num=3, train_loss=0.0771, train_accuracy=1.000, val_loss=0.194, val_accuracy=0.947]\n",
      "Validating:  21%|██        | 6/29 [00:04<00:08,  2.60it/s]\u001b[A\n",
      "Epoch 151:  92%|█████████▏| 234/255 [02:41<00:14,  1.45it/s, loss=0.0594, v_num=3, train_loss=0.0771, train_accuracy=1.000, val_loss=0.194, val_accuracy=0.947]\n",
      "Validating:  28%|██▊       | 8/29 [00:05<00:05,  3.68it/s]\u001b[A\n",
      "Epoch 151:  93%|█████████▎| 236/255 [02:41<00:13,  1.46it/s, loss=0.0594, v_num=3, train_loss=0.0771, train_accuracy=1.000, val_loss=0.194, val_accuracy=0.947]\n",
      "Validating:  34%|███▍      | 10/29 [00:05<00:04,  4.46it/s]\u001b[A\n",
      "Epoch 151:  93%|█████████▎| 238/255 [02:42<00:11,  1.47it/s, loss=0.0594, v_num=3, train_loss=0.0771, train_accuracy=1.000, val_loss=0.194, val_accuracy=0.947]\n",
      "Validating:  41%|████▏     | 12/29 [00:05<00:03,  4.97it/s]\u001b[A\n",
      "Epoch 151:  94%|█████████▍| 240/255 [02:42<00:10,  1.48it/s, loss=0.0594, v_num=3, train_loss=0.0771, train_accuracy=1.000, val_loss=0.194, val_accuracy=0.947]\n",
      "Validating:  48%|████▊     | 14/29 [00:06<00:02,  5.35it/s]\u001b[A\n",
      "Epoch 151:  95%|█████████▍| 242/255 [02:42<00:08,  1.48it/s, loss=0.0594, v_num=3, train_loss=0.0771, train_accuracy=1.000, val_loss=0.194, val_accuracy=0.947]\n",
      "Validating:  55%|█████▌    | 16/29 [00:06<00:02,  5.49it/s]\u001b[A\n",
      "Epoch 151:  96%|█████████▌| 244/255 [02:43<00:07,  1.49it/s, loss=0.0594, v_num=3, train_loss=0.0771, train_accuracy=1.000, val_loss=0.194, val_accuracy=0.947]\n",
      "Validating:  62%|██████▏   | 18/29 [00:06<00:01,  5.58it/s]\u001b[A\n",
      "Epoch 151:  96%|█████████▋| 246/255 [02:43<00:05,  1.50it/s, loss=0.0594, v_num=3, train_loss=0.0771, train_accuracy=1.000, val_loss=0.194, val_accuracy=0.947]\n",
      "Validating:  69%|██████▉   | 20/29 [00:07<00:01,  5.64it/s]\u001b[A\n",
      "Epoch 151:  97%|█████████▋| 248/255 [02:44<00:04,  1.51it/s, loss=0.0594, v_num=3, train_loss=0.0771, train_accuracy=1.000, val_loss=0.194, val_accuracy=0.947]\n",
      "Validating:  76%|███████▌  | 22/29 [00:07<00:01,  5.54it/s]\u001b[A\n",
      "Epoch 151:  98%|█████████▊| 250/255 [02:44<00:03,  1.52it/s, loss=0.0594, v_num=3, train_loss=0.0771, train_accuracy=1.000, val_loss=0.194, val_accuracy=0.947]\n",
      "Validating:  83%|████████▎ | 24/29 [00:07<00:00,  5.56it/s]\u001b[A\n",
      "Epoch 151:  99%|█████████▉| 252/255 [02:44<00:01,  1.53it/s, loss=0.0594, v_num=3, train_loss=0.0771, train_accuracy=1.000, val_loss=0.194, val_accuracy=0.947]\n",
      "Validating:  90%|████████▉ | 26/29 [00:08<00:00,  5.53it/s]\u001b[A\n",
      "Epoch 151: 100%|█████████▉| 254/255 [02:45<00:00,  1.54it/s, loss=0.0594, v_num=3, train_loss=0.0771, train_accuracy=1.000, val_loss=0.194, val_accuracy=0.947]\n",
      "Validating:  97%|█████████▋| 28/29 [00:08<00:00,  5.55it/s]\u001b[A\n",
      "Epoch 151: 100%|██████████| 255/255 [02:45<00:00,  1.54it/s, loss=0.0594, v_num=3, train_loss=0.0771, train_accuracy=1.000, val_loss=0.183, val_accuracy=0.939]\n",
      "Epoch 151: 100%|██████████| 255/255 [02:45<00:00,  1.54it/s, loss=0.0594, v_num=3, train_loss=0.0771, train_accuracy=1.000, val_loss=0.183, val_accuracy=0.939]"
     ]
    },
    {
     "name": "stderr",
     "output_type": "stream",
     "text": [
      "Epoch 151, global step 34351: val_loss was not in top 2\n"
     ]
    },
    {
     "name": "stdout",
     "output_type": "stream",
     "text": [
      "Epoch 152:  89%|████████▊ | 226/255 [02:38<00:20,  1.43it/s, loss=0.0405, v_num=3, train_loss=0.00404, train_accuracy=1.000, val_loss=0.183, val_accuracy=0.939]\n",
      "Validating: 0it [00:00, ?it/s]\u001b[A\n",
      "Validating:   0%|          | 0/29 [00:00<?, ?it/s]\u001b[A\n",
      "Epoch 152:  89%|████████▉ | 228/255 [02:41<00:19,  1.41it/s, loss=0.0405, v_num=3, train_loss=0.00404, train_accuracy=1.000, val_loss=0.183, val_accuracy=0.939]\n",
      "Validating:   7%|▋         | 2/29 [00:03<00:45,  1.68s/it]\u001b[A\n",
      "Epoch 152:  90%|█████████ | 230/255 [02:42<00:17,  1.42it/s, loss=0.0405, v_num=3, train_loss=0.00404, train_accuracy=1.000, val_loss=0.183, val_accuracy=0.939]\n",
      "Validating:  14%|█▍        | 4/29 [00:04<00:16,  1.49it/s]\u001b[A\n",
      "Epoch 152:  91%|█████████ | 232/255 [02:42<00:16,  1.43it/s, loss=0.0405, v_num=3, train_loss=0.00404, train_accuracy=1.000, val_loss=0.183, val_accuracy=0.939]\n",
      "Validating:  21%|██        | 6/29 [00:04<00:08,  2.57it/s]\u001b[A\n",
      "Epoch 152:  92%|█████████▏| 234/255 [02:43<00:14,  1.44it/s, loss=0.0405, v_num=3, train_loss=0.00404, train_accuracy=1.000, val_loss=0.183, val_accuracy=0.939]\n",
      "Validating:  28%|██▊       | 8/29 [00:05<00:05,  3.66it/s]\u001b[A\n",
      "Epoch 152:  93%|█████████▎| 236/255 [02:43<00:13,  1.44it/s, loss=0.0405, v_num=3, train_loss=0.00404, train_accuracy=1.000, val_loss=0.183, val_accuracy=0.939]\n",
      "Validating:  34%|███▍      | 10/29 [00:05<00:04,  4.50it/s]\u001b[A\n",
      "Epoch 152:  93%|█████████▎| 238/255 [02:43<00:11,  1.45it/s, loss=0.0405, v_num=3, train_loss=0.00404, train_accuracy=1.000, val_loss=0.183, val_accuracy=0.939]\n",
      "Validating:  41%|████▏     | 12/29 [00:05<00:03,  5.03it/s]\u001b[A\n",
      "Epoch 152:  94%|█████████▍| 240/255 [02:44<00:10,  1.46it/s, loss=0.0405, v_num=3, train_loss=0.00404, train_accuracy=1.000, val_loss=0.183, val_accuracy=0.939]\n",
      "Validating:  48%|████▊     | 14/29 [00:06<00:02,  5.34it/s]\u001b[A\n",
      "Epoch 152:  95%|█████████▍| 242/255 [02:44<00:08,  1.47it/s, loss=0.0405, v_num=3, train_loss=0.00404, train_accuracy=1.000, val_loss=0.183, val_accuracy=0.939]\n",
      "Validating:  55%|█████▌    | 16/29 [00:06<00:02,  5.48it/s]\u001b[A\n",
      "Epoch 152:  96%|█████████▌| 244/255 [02:44<00:07,  1.48it/s, loss=0.0405, v_num=3, train_loss=0.00404, train_accuracy=1.000, val_loss=0.183, val_accuracy=0.939]\n",
      "Validating:  62%|██████▏   | 18/29 [00:06<00:01,  5.65it/s]\u001b[A\n",
      "Epoch 152:  96%|█████████▋| 246/255 [02:45<00:06,  1.49it/s, loss=0.0405, v_num=3, train_loss=0.00404, train_accuracy=1.000, val_loss=0.183, val_accuracy=0.939]\n",
      "Validating:  69%|██████▉   | 20/29 [00:07<00:01,  5.62it/s]\u001b[A\n",
      "Epoch 152:  97%|█████████▋| 248/255 [02:45<00:04,  1.50it/s, loss=0.0405, v_num=3, train_loss=0.00404, train_accuracy=1.000, val_loss=0.183, val_accuracy=0.939]\n",
      "Validating:  76%|███████▌  | 22/29 [00:07<00:01,  5.62it/s]\u001b[A\n",
      "Epoch 152:  98%|█████████▊| 250/255 [02:45<00:03,  1.51it/s, loss=0.0405, v_num=3, train_loss=0.00404, train_accuracy=1.000, val_loss=0.183, val_accuracy=0.939]\n",
      "Validating:  83%|████████▎ | 24/29 [00:07<00:00,  5.59it/s]\u001b[A\n",
      "Epoch 152:  99%|█████████▉| 252/255 [02:46<00:01,  1.52it/s, loss=0.0405, v_num=3, train_loss=0.00404, train_accuracy=1.000, val_loss=0.183, val_accuracy=0.939]\n",
      "Validating:  90%|████████▉ | 26/29 [00:08<00:00,  5.60it/s]\u001b[A\n",
      "Epoch 152: 100%|█████████▉| 254/255 [02:46<00:00,  1.52it/s, loss=0.0405, v_num=3, train_loss=0.00404, train_accuracy=1.000, val_loss=0.183, val_accuracy=0.939]\n",
      "Validating:  97%|█████████▋| 28/29 [00:08<00:00,  5.60it/s]\u001b[A\n",
      "Epoch 152: 100%|██████████| 255/255 [02:47<00:00,  1.52it/s, loss=0.0405, v_num=3, train_loss=0.00404, train_accuracy=1.000, val_loss=0.149, val_accuracy=0.952]\n",
      "Epoch 152: 100%|██████████| 255/255 [02:47<00:00,  1.52it/s, loss=0.0405, v_num=3, train_loss=0.00404, train_accuracy=1.000, val_loss=0.149, val_accuracy=0.952]"
     ]
    },
    {
     "name": "stderr",
     "output_type": "stream",
     "text": [
      "Epoch 152, global step 34577: val_loss was not in top 2\n"
     ]
    },
    {
     "name": "stdout",
     "output_type": "stream",
     "text": [
      "Epoch 153:  89%|████████▊ | 226/255 [02:37<00:20,  1.43it/s, loss=0.0439, v_num=3, train_loss=0.0108, train_accuracy=1.000, val_loss=0.149, val_accuracy=0.952] \n",
      "Validating: 0it [00:00, ?it/s]\u001b[A\n",
      "Validating:   0%|          | 0/29 [00:00<?, ?it/s]\u001b[A\n",
      "Epoch 153:  89%|████████▉ | 228/255 [02:41<00:19,  1.41it/s, loss=0.0439, v_num=3, train_loss=0.0108, train_accuracy=1.000, val_loss=0.149, val_accuracy=0.952]\n",
      "Validating:   7%|▋         | 2/29 [00:04<00:45,  1.69s/it]\u001b[A\n",
      "Epoch 153:  90%|█████████ | 230/255 [02:42<00:17,  1.42it/s, loss=0.0439, v_num=3, train_loss=0.0108, train_accuracy=1.000, val_loss=0.149, val_accuracy=0.952]\n",
      "Validating:  14%|█▍        | 4/29 [00:04<00:17,  1.46it/s]\u001b[A\n",
      "Epoch 153:  91%|█████████ | 232/255 [02:42<00:16,  1.43it/s, loss=0.0439, v_num=3, train_loss=0.0108, train_accuracy=1.000, val_loss=0.149, val_accuracy=0.952]\n",
      "Validating:  21%|██        | 6/29 [00:04<00:08,  2.56it/s]\u001b[A\n",
      "Epoch 153:  92%|█████████▏| 234/255 [02:42<00:14,  1.44it/s, loss=0.0439, v_num=3, train_loss=0.0108, train_accuracy=1.000, val_loss=0.149, val_accuracy=0.952]\n",
      "Validating:  28%|██▊       | 8/29 [00:05<00:05,  3.62it/s]\u001b[A\n",
      "Epoch 153:  93%|█████████▎| 236/255 [02:43<00:13,  1.45it/s, loss=0.0439, v_num=3, train_loss=0.0108, train_accuracy=1.000, val_loss=0.149, val_accuracy=0.952]\n",
      "Validating:  34%|███▍      | 10/29 [00:05<00:04,  4.47it/s]\u001b[A\n",
      "Epoch 153:  93%|█████████▎| 238/255 [02:43<00:11,  1.46it/s, loss=0.0439, v_num=3, train_loss=0.0108, train_accuracy=1.000, val_loss=0.149, val_accuracy=0.952]\n",
      "Validating:  41%|████▏     | 12/29 [00:05<00:03,  5.02it/s]\u001b[A\n",
      "Epoch 153:  94%|█████████▍| 240/255 [02:44<00:10,  1.46it/s, loss=0.0439, v_num=3, train_loss=0.0108, train_accuracy=1.000, val_loss=0.149, val_accuracy=0.952]\n",
      "Validating:  48%|████▊     | 14/29 [00:06<00:03,  4.77it/s]\u001b[A\n",
      "Epoch 153:  95%|█████████▍| 242/255 [02:44<00:08,  1.47it/s, loss=0.0439, v_num=3, train_loss=0.0108, train_accuracy=1.000, val_loss=0.149, val_accuracy=0.952]\n",
      "Validating:  55%|█████▌    | 16/29 [00:06<00:02,  5.12it/s]\u001b[A\n",
      "Epoch 153:  96%|█████████▌| 244/255 [02:44<00:07,  1.48it/s, loss=0.0439, v_num=3, train_loss=0.0108, train_accuracy=1.000, val_loss=0.149, val_accuracy=0.952]\n",
      "Validating:  62%|██████▏   | 18/29 [00:06<00:02,  5.40it/s]\u001b[A\n",
      "Epoch 153:  96%|█████████▋| 246/255 [02:45<00:06,  1.49it/s, loss=0.0439, v_num=3, train_loss=0.0108, train_accuracy=1.000, val_loss=0.149, val_accuracy=0.952]\n",
      "Validating:  69%|██████▉   | 20/29 [00:07<00:01,  5.50it/s]\u001b[A\n",
      "Epoch 153:  97%|█████████▋| 248/255 [02:45<00:04,  1.50it/s, loss=0.0439, v_num=3, train_loss=0.0108, train_accuracy=1.000, val_loss=0.149, val_accuracy=0.952]\n",
      "Validating:  76%|███████▌  | 22/29 [00:07<00:01,  5.62it/s]\u001b[A\n",
      "Epoch 153:  98%|█████████▊| 250/255 [02:45<00:03,  1.51it/s, loss=0.0439, v_num=3, train_loss=0.0108, train_accuracy=1.000, val_loss=0.149, val_accuracy=0.952]\n",
      "Validating:  83%|████████▎ | 24/29 [00:08<00:00,  5.62it/s]\u001b[A\n",
      "Epoch 153:  99%|█████████▉| 252/255 [02:46<00:01,  1.52it/s, loss=0.0439, v_num=3, train_loss=0.0108, train_accuracy=1.000, val_loss=0.149, val_accuracy=0.952]\n",
      "Validating:  90%|████████▉ | 26/29 [00:08<00:00,  5.60it/s]\u001b[A\n",
      "Epoch 153: 100%|█████████▉| 254/255 [02:46<00:00,  1.53it/s, loss=0.0439, v_num=3, train_loss=0.0108, train_accuracy=1.000, val_loss=0.149, val_accuracy=0.952]\n",
      "Validating:  97%|█████████▋| 28/29 [00:08<00:00,  5.58it/s]\u001b[A\n",
      "Epoch 153: 100%|██████████| 255/255 [02:47<00:00,  1.52it/s, loss=0.0439, v_num=3, train_loss=0.0108, train_accuracy=1.000, val_loss=0.178, val_accuracy=0.952]\n",
      "Epoch 153: 100%|██████████| 255/255 [02:47<00:00,  1.52it/s, loss=0.0439, v_num=3, train_loss=0.0108, train_accuracy=1.000, val_loss=0.178, val_accuracy=0.952]"
     ]
    },
    {
     "name": "stderr",
     "output_type": "stream",
     "text": [
      "Epoch 153, global step 34803: val_loss was not in top 2\n"
     ]
    },
    {
     "name": "stdout",
     "output_type": "stream",
     "text": [
      "Epoch 154:  89%|████████▊ | 226/255 [02:37<00:20,  1.43it/s, loss=0.0649, v_num=3, train_loss=0.183, train_accuracy=0.889, val_loss=0.178, val_accuracy=0.952]  \n",
      "Validating: 0it [00:00, ?it/s]\u001b[A\n",
      "Validating:   0%|          | 0/29 [00:00<?, ?it/s]\u001b[A\n",
      "Epoch 154:  89%|████████▉ | 228/255 [02:41<00:19,  1.41it/s, loss=0.0649, v_num=3, train_loss=0.183, train_accuracy=0.889, val_loss=0.178, val_accuracy=0.952]\n",
      "Validating:   7%|▋         | 2/29 [00:04<00:47,  1.75s/it]\u001b[A\n",
      "Epoch 154:  90%|█████████ | 230/255 [02:41<00:17,  1.42it/s, loss=0.0649, v_num=3, train_loss=0.183, train_accuracy=0.889, val_loss=0.178, val_accuracy=0.952]\n",
      "Validating:  14%|█▍        | 4/29 [00:04<00:17,  1.44it/s]\u001b[A\n",
      "Epoch 154:  91%|█████████ | 232/255 [02:42<00:16,  1.43it/s, loss=0.0649, v_num=3, train_loss=0.183, train_accuracy=0.889, val_loss=0.178, val_accuracy=0.952]\n",
      "Validating:  21%|██        | 6/29 [00:04<00:09,  2.53it/s]\u001b[A\n",
      "Epoch 154:  92%|█████████▏| 234/255 [02:42<00:14,  1.44it/s, loss=0.0649, v_num=3, train_loss=0.183, train_accuracy=0.889, val_loss=0.178, val_accuracy=0.952]\n",
      "Validating:  28%|██▊       | 8/29 [00:05<00:05,  3.56it/s]\u001b[A\n",
      "Epoch 154:  93%|█████████▎| 236/255 [02:42<00:13,  1.45it/s, loss=0.0649, v_num=3, train_loss=0.183, train_accuracy=0.889, val_loss=0.178, val_accuracy=0.952]\n",
      "Validating:  34%|███▍      | 10/29 [00:05<00:04,  4.35it/s]\u001b[A\n",
      "Epoch 154:  93%|█████████▎| 238/255 [02:43<00:11,  1.46it/s, loss=0.0649, v_num=3, train_loss=0.183, train_accuracy=0.889, val_loss=0.178, val_accuracy=0.952]\n",
      "Validating:  41%|████▏     | 12/29 [00:05<00:03,  4.90it/s]\u001b[A\n",
      "Epoch 154:  94%|█████████▍| 240/255 [02:43<00:10,  1.47it/s, loss=0.0649, v_num=3, train_loss=0.183, train_accuracy=0.889, val_loss=0.178, val_accuracy=0.952]\n",
      "Validating:  48%|████▊     | 14/29 [00:06<00:02,  5.27it/s]\u001b[A\n",
      "Epoch 154:  95%|█████████▍| 242/255 [02:44<00:08,  1.48it/s, loss=0.0649, v_num=3, train_loss=0.183, train_accuracy=0.889, val_loss=0.178, val_accuracy=0.952]\n",
      "Validating:  55%|█████▌    | 16/29 [00:06<00:02,  5.46it/s]\u001b[A\n",
      "Epoch 154:  96%|█████████▌| 244/255 [02:44<00:07,  1.48it/s, loss=0.0649, v_num=3, train_loss=0.183, train_accuracy=0.889, val_loss=0.178, val_accuracy=0.952]\n",
      "Validating:  62%|██████▏   | 18/29 [00:07<00:01,  5.56it/s]\u001b[A\n",
      "Epoch 154:  96%|█████████▋| 246/255 [02:44<00:06,  1.49it/s, loss=0.0649, v_num=3, train_loss=0.183, train_accuracy=0.889, val_loss=0.178, val_accuracy=0.952]\n",
      "Validating:  69%|██████▉   | 20/29 [00:07<00:01,  5.61it/s]\u001b[A\n",
      "Epoch 154:  97%|█████████▋| 248/255 [02:45<00:04,  1.50it/s, loss=0.0649, v_num=3, train_loss=0.183, train_accuracy=0.889, val_loss=0.178, val_accuracy=0.952]\n",
      "Validating:  76%|███████▌  | 22/29 [00:07<00:01,  5.60it/s]\u001b[A\n",
      "Epoch 154:  98%|█████████▊| 250/255 [02:45<00:03,  1.51it/s, loss=0.0649, v_num=3, train_loss=0.183, train_accuracy=0.889, val_loss=0.178, val_accuracy=0.952]\n",
      "Validating:  83%|████████▎ | 24/29 [00:08<00:00,  5.60it/s]\u001b[A\n",
      "Epoch 154:  99%|█████████▉| 252/255 [02:45<00:01,  1.52it/s, loss=0.0649, v_num=3, train_loss=0.183, train_accuracy=0.889, val_loss=0.178, val_accuracy=0.952]\n",
      "Validating:  90%|████████▉ | 26/29 [00:08<00:00,  5.60it/s]\u001b[A\n",
      "Epoch 154: 100%|█████████▉| 254/255 [02:46<00:00,  1.53it/s, loss=0.0649, v_num=3, train_loss=0.183, train_accuracy=0.889, val_loss=0.178, val_accuracy=0.952]\n",
      "Validating:  97%|█████████▋| 28/29 [00:08<00:00,  5.60it/s]\u001b[A\n",
      "Epoch 154: 100%|██████████| 255/255 [02:47<00:00,  1.53it/s, loss=0.0649, v_num=3, train_loss=0.183, train_accuracy=0.889, val_loss=0.144, val_accuracy=0.957]\n",
      "Epoch 154: 100%|██████████| 255/255 [02:47<00:00,  1.53it/s, loss=0.0649, v_num=3, train_loss=0.183, train_accuracy=0.889, val_loss=0.144, val_accuracy=0.957]"
     ]
    },
    {
     "name": "stderr",
     "output_type": "stream",
     "text": [
      "Epoch 154, global step 35029: val_loss was not in top 2\n"
     ]
    },
    {
     "name": "stdout",
     "output_type": "stream",
     "text": [
      "Epoch 155:  89%|████████▊ | 226/255 [02:37<00:20,  1.43it/s, loss=0.0464, v_num=3, train_loss=0.244, train_accuracy=0.944, val_loss=0.144, val_accuracy=0.957]  \n",
      "Validating: 0it [00:00, ?it/s]\u001b[A\n",
      "Validating:   0%|          | 0/29 [00:00<?, ?it/s]\u001b[A\n",
      "Epoch 155:  89%|████████▉ | 228/255 [02:41<00:19,  1.41it/s, loss=0.0464, v_num=3, train_loss=0.244, train_accuracy=0.944, val_loss=0.144, val_accuracy=0.957]\n",
      "Validating:   7%|▋         | 2/29 [00:04<00:47,  1.76s/it]\u001b[A\n",
      "Epoch 155:  90%|█████████ | 230/255 [02:42<00:17,  1.42it/s, loss=0.0464, v_num=3, train_loss=0.244, train_accuracy=0.944, val_loss=0.144, val_accuracy=0.957]\n",
      "Validating:  14%|█▍        | 4/29 [00:04<00:17,  1.43it/s]\u001b[A\n",
      "Epoch 155:  91%|█████████ | 232/255 [02:42<00:16,  1.43it/s, loss=0.0464, v_num=3, train_loss=0.244, train_accuracy=0.944, val_loss=0.144, val_accuracy=0.957]\n",
      "Validating:  21%|██        | 6/29 [00:04<00:09,  2.52it/s]\u001b[A\n",
      "Epoch 155:  92%|█████████▏| 234/255 [02:42<00:14,  1.44it/s, loss=0.0464, v_num=3, train_loss=0.244, train_accuracy=0.944, val_loss=0.144, val_accuracy=0.957]\n",
      "Validating:  28%|██▊       | 8/29 [00:05<00:05,  3.54it/s]\u001b[A\n",
      "Epoch 155:  93%|█████████▎| 236/255 [02:43<00:13,  1.45it/s, loss=0.0464, v_num=3, train_loss=0.244, train_accuracy=0.944, val_loss=0.144, val_accuracy=0.957]\n",
      "Validating:  34%|███▍      | 10/29 [00:05<00:04,  4.40it/s]\u001b[A\n",
      "Epoch 155:  93%|█████████▎| 238/255 [02:43<00:11,  1.46it/s, loss=0.0464, v_num=3, train_loss=0.244, train_accuracy=0.944, val_loss=0.144, val_accuracy=0.957]\n",
      "Validating:  41%|████▏     | 12/29 [00:05<00:03,  4.95it/s]\u001b[A\n",
      "Epoch 155:  94%|█████████▍| 240/255 [02:43<00:10,  1.46it/s, loss=0.0464, v_num=3, train_loss=0.244, train_accuracy=0.944, val_loss=0.144, val_accuracy=0.957]\n",
      "Validating:  48%|████▊     | 14/29 [00:06<00:02,  5.27it/s]\u001b[A\n",
      "Epoch 155:  95%|█████████▍| 242/255 [02:44<00:08,  1.47it/s, loss=0.0464, v_num=3, train_loss=0.244, train_accuracy=0.944, val_loss=0.144, val_accuracy=0.957]\n",
      "Validating:  55%|█████▌    | 16/29 [00:06<00:02,  5.44it/s]\u001b[A\n",
      "Epoch 155:  96%|█████████▌| 244/255 [02:44<00:07,  1.48it/s, loss=0.0464, v_num=3, train_loss=0.244, train_accuracy=0.944, val_loss=0.144, val_accuracy=0.957]\n",
      "Validating:  62%|██████▏   | 18/29 [00:07<00:01,  5.54it/s]\u001b[A\n",
      "Epoch 155:  96%|█████████▋| 246/255 [02:44<00:06,  1.49it/s, loss=0.0464, v_num=3, train_loss=0.244, train_accuracy=0.944, val_loss=0.144, val_accuracy=0.957]\n",
      "Validating:  69%|██████▉   | 20/29 [00:07<00:01,  5.57it/s]\u001b[A\n",
      "Epoch 155:  97%|█████████▋| 248/255 [02:45<00:04,  1.50it/s, loss=0.0464, v_num=3, train_loss=0.244, train_accuracy=0.944, val_loss=0.144, val_accuracy=0.957]\n",
      "Validating:  76%|███████▌  | 22/29 [00:07<00:01,  5.65it/s]\u001b[A\n",
      "Epoch 155:  98%|█████████▊| 250/255 [02:45<00:03,  1.51it/s, loss=0.0464, v_num=3, train_loss=0.244, train_accuracy=0.944, val_loss=0.144, val_accuracy=0.957]\n",
      "Validating:  83%|████████▎ | 24/29 [00:08<00:00,  5.66it/s]\u001b[A\n",
      "Epoch 155:  99%|█████████▉| 252/255 [02:46<00:01,  1.52it/s, loss=0.0464, v_num=3, train_loss=0.244, train_accuracy=0.944, val_loss=0.144, val_accuracy=0.957]\n",
      "Validating:  90%|████████▉ | 26/29 [00:08<00:00,  5.64it/s]\u001b[A\n",
      "Epoch 155: 100%|█████████▉| 254/255 [02:46<00:00,  1.53it/s, loss=0.0464, v_num=3, train_loss=0.244, train_accuracy=0.944, val_loss=0.144, val_accuracy=0.957]\n",
      "Validating:  97%|█████████▋| 28/29 [00:08<00:00,  5.60it/s]\u001b[A\n",
      "Epoch 155: 100%|██████████| 255/255 [02:47<00:00,  1.52it/s, loss=0.0464, v_num=3, train_loss=0.244, train_accuracy=0.944, val_loss=0.165, val_accuracy=0.954]\n",
      "Epoch 155: 100%|██████████| 255/255 [02:47<00:00,  1.52it/s, loss=0.0464, v_num=3, train_loss=0.244, train_accuracy=0.944, val_loss=0.165, val_accuracy=0.954]"
     ]
    },
    {
     "name": "stderr",
     "output_type": "stream",
     "text": [
      "Epoch 155, global step 35255: val_loss was not in top 2\n"
     ]
    },
    {
     "name": "stdout",
     "output_type": "stream",
     "text": [
      "Epoch 156:  89%|████████▊ | 226/255 [02:38<00:20,  1.43it/s, loss=0.135, v_num=3, train_loss=0.131, train_accuracy=0.944, val_loss=0.165, val_accuracy=0.954]   \n",
      "Validating: 0it [00:00, ?it/s]\u001b[A\n",
      "Validating:   0%|          | 0/29 [00:00<?, ?it/s]\u001b[A\n",
      "Epoch 156:  89%|████████▉ | 228/255 [02:42<00:19,  1.41it/s, loss=0.135, v_num=3, train_loss=0.131, train_accuracy=0.944, val_loss=0.165, val_accuracy=0.954]\n",
      "Validating:   7%|▋         | 2/29 [00:04<00:45,  1.70s/it]\u001b[A\n",
      "Epoch 156:  90%|█████████ | 230/255 [02:42<00:17,  1.42it/s, loss=0.135, v_num=3, train_loss=0.131, train_accuracy=0.944, val_loss=0.165, val_accuracy=0.954]\n",
      "Validating:  14%|█▍        | 4/29 [00:04<00:17,  1.47it/s]\u001b[A\n",
      "Epoch 156:  91%|█████████ | 232/255 [02:42<00:16,  1.42it/s, loss=0.135, v_num=3, train_loss=0.131, train_accuracy=0.944, val_loss=0.165, val_accuracy=0.954]\n",
      "Validating:  21%|██        | 6/29 [00:04<00:08,  2.57it/s]\u001b[A\n",
      "Epoch 156:  92%|█████████▏| 234/255 [02:43<00:14,  1.43it/s, loss=0.135, v_num=3, train_loss=0.131, train_accuracy=0.944, val_loss=0.165, val_accuracy=0.954]\n",
      "Validating:  28%|██▊       | 8/29 [00:05<00:05,  3.61it/s]\u001b[A\n",
      "Epoch 156:  93%|█████████▎| 236/255 [02:43<00:13,  1.44it/s, loss=0.135, v_num=3, train_loss=0.131, train_accuracy=0.944, val_loss=0.165, val_accuracy=0.954]\n",
      "Validating:  34%|███▍      | 10/29 [00:05<00:04,  4.42it/s]\u001b[A\n",
      "Epoch 156:  93%|█████████▎| 238/255 [02:43<00:11,  1.45it/s, loss=0.135, v_num=3, train_loss=0.131, train_accuracy=0.944, val_loss=0.165, val_accuracy=0.954]\n",
      "Validating:  41%|████▏     | 12/29 [00:05<00:03,  4.99it/s]\u001b[A\n",
      "Epoch 156:  94%|█████████▍| 240/255 [02:44<00:10,  1.46it/s, loss=0.135, v_num=3, train_loss=0.131, train_accuracy=0.944, val_loss=0.165, val_accuracy=0.954]\n",
      "Validating:  48%|████▊     | 14/29 [00:06<00:02,  5.32it/s]\u001b[A\n",
      "Epoch 156:  95%|█████████▍| 242/255 [02:44<00:08,  1.47it/s, loss=0.135, v_num=3, train_loss=0.131, train_accuracy=0.944, val_loss=0.165, val_accuracy=0.954]\n",
      "Validating:  55%|█████▌    | 16/29 [00:06<00:02,  5.50it/s]\u001b[A\n",
      "Epoch 156:  96%|█████████▌| 244/255 [02:44<00:07,  1.48it/s, loss=0.135, v_num=3, train_loss=0.131, train_accuracy=0.944, val_loss=0.165, val_accuracy=0.954]\n",
      "Validating:  62%|██████▏   | 18/29 [00:06<00:01,  5.60it/s]\u001b[A\n",
      "Epoch 156:  96%|█████████▋| 246/255 [02:45<00:06,  1.49it/s, loss=0.135, v_num=3, train_loss=0.131, train_accuracy=0.944, val_loss=0.165, val_accuracy=0.954]\n",
      "Validating:  69%|██████▉   | 20/29 [00:07<00:01,  5.40it/s]\u001b[A\n",
      "Epoch 156:  97%|█████████▋| 248/255 [02:45<00:04,  1.50it/s, loss=0.135, v_num=3, train_loss=0.131, train_accuracy=0.944, val_loss=0.165, val_accuracy=0.954]\n",
      "Validating:  76%|███████▌  | 22/29 [00:07<00:01,  5.49it/s]\u001b[A\n",
      "Epoch 156:  98%|█████████▊| 250/255 [02:46<00:03,  1.51it/s, loss=0.135, v_num=3, train_loss=0.131, train_accuracy=0.944, val_loss=0.165, val_accuracy=0.954]\n",
      "Validating:  83%|████████▎ | 24/29 [00:07<00:00,  5.57it/s]\u001b[A\n",
      "Epoch 156:  99%|█████████▉| 252/255 [02:46<00:01,  1.51it/s, loss=0.135, v_num=3, train_loss=0.131, train_accuracy=0.944, val_loss=0.165, val_accuracy=0.954]\n",
      "Validating:  90%|████████▉ | 26/29 [00:08<00:00,  5.58it/s]\u001b[A\n",
      "Epoch 156: 100%|█████████▉| 254/255 [02:46<00:00,  1.52it/s, loss=0.135, v_num=3, train_loss=0.131, train_accuracy=0.944, val_loss=0.165, val_accuracy=0.954]\n",
      "Validating:  97%|█████████▋| 28/29 [00:08<00:00,  5.60it/s]\u001b[A\n",
      "Epoch 156: 100%|██████████| 255/255 [02:47<00:00,  1.52it/s, loss=0.135, v_num=3, train_loss=0.131, train_accuracy=0.944, val_loss=0.247, val_accuracy=0.918]\n",
      "Epoch 156: 100%|██████████| 255/255 [02:47<00:00,  1.52it/s, loss=0.135, v_num=3, train_loss=0.131, train_accuracy=0.944, val_loss=0.247, val_accuracy=0.918]"
     ]
    },
    {
     "name": "stderr",
     "output_type": "stream",
     "text": [
      "Epoch 156, global step 35481: val_loss was not in top 2\n"
     ]
    },
    {
     "name": "stdout",
     "output_type": "stream",
     "text": [
      "Epoch 157:  89%|████████▊ | 226/255 [02:37<00:20,  1.43it/s, loss=0.0449, v_num=3, train_loss=0.00503, train_accuracy=1.000, val_loss=0.247, val_accuracy=0.918]\n",
      "Validating: 0it [00:00, ?it/s]\u001b[A\n",
      "Validating:   0%|          | 0/29 [00:00<?, ?it/s]\u001b[A\n",
      "Epoch 157:  89%|████████▉ | 228/255 [02:41<00:19,  1.41it/s, loss=0.0449, v_num=3, train_loss=0.00503, train_accuracy=1.000, val_loss=0.247, val_accuracy=0.918]\n",
      "Validating:   7%|▋         | 2/29 [00:03<00:44,  1.67s/it]\u001b[A\n",
      "Epoch 157:  90%|█████████ | 230/255 [02:41<00:17,  1.42it/s, loss=0.0449, v_num=3, train_loss=0.00503, train_accuracy=1.000, val_loss=0.247, val_accuracy=0.918]\n",
      "Validating:  14%|█▍        | 4/29 [00:04<00:16,  1.50it/s]\u001b[A\n",
      "Epoch 157:  91%|█████████ | 232/255 [02:42<00:16,  1.43it/s, loss=0.0449, v_num=3, train_loss=0.00503, train_accuracy=1.000, val_loss=0.247, val_accuracy=0.918]\n",
      "Validating:  21%|██        | 6/29 [00:04<00:09,  2.48it/s]\u001b[A\n",
      "Epoch 157:  92%|█████████▏| 234/255 [02:42<00:14,  1.44it/s, loss=0.0449, v_num=3, train_loss=0.00503, train_accuracy=1.000, val_loss=0.247, val_accuracy=0.918]\n",
      "Validating:  28%|██▊       | 8/29 [00:05<00:05,  3.54it/s]\u001b[A\n",
      "Epoch 157:  93%|█████████▎| 236/255 [02:43<00:13,  1.45it/s, loss=0.0449, v_num=3, train_loss=0.00503, train_accuracy=1.000, val_loss=0.247, val_accuracy=0.918]\n",
      "Validating:  34%|███▍      | 10/29 [00:05<00:04,  4.33it/s]\u001b[A\n",
      "Epoch 157:  93%|█████████▎| 238/255 [02:43<00:11,  1.46it/s, loss=0.0449, v_num=3, train_loss=0.00503, train_accuracy=1.000, val_loss=0.247, val_accuracy=0.918]\n",
      "Validating:  41%|████▏     | 12/29 [00:05<00:03,  4.91it/s]\u001b[A\n",
      "Epoch 157:  94%|█████████▍| 240/255 [02:43<00:10,  1.46it/s, loss=0.0449, v_num=3, train_loss=0.00503, train_accuracy=1.000, val_loss=0.247, val_accuracy=0.918]\n",
      "Validating:  48%|████▊     | 14/29 [00:06<00:02,  5.26it/s]\u001b[A\n",
      "Epoch 157:  95%|█████████▍| 242/255 [02:44<00:08,  1.47it/s, loss=0.0449, v_num=3, train_loss=0.00503, train_accuracy=1.000, val_loss=0.247, val_accuracy=0.918]\n",
      "Validating:  55%|█████▌    | 16/29 [00:06<00:02,  5.40it/s]\u001b[A\n",
      "Epoch 157:  96%|█████████▌| 244/255 [02:44<00:07,  1.48it/s, loss=0.0449, v_num=3, train_loss=0.00503, train_accuracy=1.000, val_loss=0.247, val_accuracy=0.918]\n",
      "Validating:  62%|██████▏   | 18/29 [00:06<00:01,  5.53it/s]\u001b[A\n",
      "Epoch 157:  96%|█████████▋| 246/255 [02:44<00:06,  1.49it/s, loss=0.0449, v_num=3, train_loss=0.00503, train_accuracy=1.000, val_loss=0.247, val_accuracy=0.918]\n",
      "Validating:  69%|██████▉   | 20/29 [00:07<00:01,  5.60it/s]\u001b[A\n",
      "Epoch 157:  97%|█████████▋| 248/255 [02:45<00:04,  1.50it/s, loss=0.0449, v_num=3, train_loss=0.00503, train_accuracy=1.000, val_loss=0.247, val_accuracy=0.918]\n",
      "Validating:  76%|███████▌  | 22/29 [00:07<00:01,  5.58it/s]\u001b[A\n",
      "Epoch 157:  98%|█████████▊| 250/255 [02:45<00:03,  1.51it/s, loss=0.0449, v_num=3, train_loss=0.00503, train_accuracy=1.000, val_loss=0.247, val_accuracy=0.918]\n",
      "Validating:  83%|████████▎ | 24/29 [00:07<00:00,  5.60it/s]\u001b[A\n",
      "Epoch 157:  99%|█████████▉| 252/255 [02:45<00:01,  1.52it/s, loss=0.0449, v_num=3, train_loss=0.00503, train_accuracy=1.000, val_loss=0.247, val_accuracy=0.918]\n",
      "Validating:  90%|████████▉ | 26/29 [00:08<00:00,  5.48it/s]\u001b[A\n",
      "Epoch 157: 100%|█████████▉| 254/255 [02:46<00:00,  1.53it/s, loss=0.0449, v_num=3, train_loss=0.00503, train_accuracy=1.000, val_loss=0.247, val_accuracy=0.918]\n",
      "Validating:  97%|█████████▋| 28/29 [00:08<00:00,  5.48it/s]\u001b[A\n",
      "Epoch 157: 100%|██████████| 255/255 [02:47<00:00,  1.52it/s, loss=0.0449, v_num=3, train_loss=0.00503, train_accuracy=1.000, val_loss=0.157, val_accuracy=0.948]\n",
      "Epoch 157: 100%|██████████| 255/255 [02:47<00:00,  1.52it/s, loss=0.0449, v_num=3, train_loss=0.00503, train_accuracy=1.000, val_loss=0.157, val_accuracy=0.948]"
     ]
    },
    {
     "name": "stderr",
     "output_type": "stream",
     "text": [
      "Epoch 157, global step 35707: val_loss was not in top 2\n"
     ]
    },
    {
     "name": "stdout",
     "output_type": "stream",
     "text": [
      "Epoch 158:  89%|████████▊ | 226/255 [02:38<00:20,  1.43it/s, loss=0.0235, v_num=3, train_loss=0.00335, train_accuracy=1.000, val_loss=0.157, val_accuracy=0.948]\n",
      "Validating: 0it [00:00, ?it/s]\u001b[A\n",
      "Validating:   0%|          | 0/29 [00:00<?, ?it/s]\u001b[A\n",
      "Epoch 158:  89%|████████▉ | 228/255 [02:41<00:19,  1.41it/s, loss=0.0235, v_num=3, train_loss=0.00335, train_accuracy=1.000, val_loss=0.157, val_accuracy=0.948]\n",
      "Validating:   7%|▋         | 2/29 [00:04<00:46,  1.72s/it]\u001b[A\n",
      "Epoch 158:  90%|█████████ | 230/255 [02:42<00:17,  1.42it/s, loss=0.0235, v_num=3, train_loss=0.00335, train_accuracy=1.000, val_loss=0.157, val_accuracy=0.948]\n",
      "Validating:  14%|█▍        | 4/29 [00:04<00:17,  1.45it/s]\u001b[A\n",
      "Epoch 158:  91%|█████████ | 232/255 [02:42<00:16,  1.43it/s, loss=0.0235, v_num=3, train_loss=0.00335, train_accuracy=1.000, val_loss=0.157, val_accuracy=0.948]\n",
      "Validating:  21%|██        | 6/29 [00:04<00:09,  2.53it/s]\u001b[A\n",
      "Epoch 158:  92%|█████████▏| 234/255 [02:43<00:14,  1.44it/s, loss=0.0235, v_num=3, train_loss=0.00335, train_accuracy=1.000, val_loss=0.157, val_accuracy=0.948]\n",
      "Validating:  28%|██▊       | 8/29 [00:05<00:05,  3.56it/s]\u001b[A\n",
      "Epoch 158:  93%|█████████▎| 236/255 [02:43<00:13,  1.44it/s, loss=0.0235, v_num=3, train_loss=0.00335, train_accuracy=1.000, val_loss=0.157, val_accuracy=0.948]\n",
      "Validating:  34%|███▍      | 10/29 [00:05<00:04,  4.39it/s]\u001b[A\n",
      "Epoch 158:  93%|█████████▎| 238/255 [02:43<00:11,  1.45it/s, loss=0.0235, v_num=3, train_loss=0.00335, train_accuracy=1.000, val_loss=0.157, val_accuracy=0.948]\n",
      "Validating:  41%|████▏     | 12/29 [00:05<00:03,  4.97it/s]\u001b[A\n",
      "Epoch 158:  94%|█████████▍| 240/255 [02:44<00:10,  1.46it/s, loss=0.0235, v_num=3, train_loss=0.00335, train_accuracy=1.000, val_loss=0.157, val_accuracy=0.948]\n",
      "Validating:  48%|████▊     | 14/29 [00:06<00:02,  5.33it/s]\u001b[A\n",
      "Epoch 158:  95%|█████████▍| 242/255 [02:44<00:08,  1.47it/s, loss=0.0235, v_num=3, train_loss=0.00335, train_accuracy=1.000, val_loss=0.157, val_accuracy=0.948]\n",
      "Validating:  55%|█████▌    | 16/29 [00:06<00:02,  5.52it/s]\u001b[A\n",
      "Epoch 158:  96%|█████████▌| 244/255 [02:44<00:07,  1.48it/s, loss=0.0235, v_num=3, train_loss=0.00335, train_accuracy=1.000, val_loss=0.157, val_accuracy=0.948]\n",
      "Validating:  62%|██████▏   | 18/29 [00:06<00:01,  5.59it/s]\u001b[A\n",
      "Epoch 158:  96%|█████████▋| 246/255 [02:45<00:06,  1.49it/s, loss=0.0235, v_num=3, train_loss=0.00335, train_accuracy=1.000, val_loss=0.157, val_accuracy=0.948]\n",
      "Validating:  69%|██████▉   | 20/29 [00:07<00:01,  5.57it/s]\u001b[A\n",
      "Epoch 158:  97%|█████████▋| 248/255 [02:45<00:04,  1.50it/s, loss=0.0235, v_num=3, train_loss=0.00335, train_accuracy=1.000, val_loss=0.157, val_accuracy=0.948]\n",
      "Validating:  76%|███████▌  | 22/29 [00:07<00:01,  5.61it/s]\u001b[A\n",
      "Epoch 158:  98%|█████████▊| 250/255 [02:45<00:03,  1.51it/s, loss=0.0235, v_num=3, train_loss=0.00335, train_accuracy=1.000, val_loss=0.157, val_accuracy=0.948]\n",
      "Validating:  83%|████████▎ | 24/29 [00:08<00:00,  5.65it/s]\u001b[A\n",
      "Epoch 158:  99%|█████████▉| 252/255 [02:46<00:01,  1.52it/s, loss=0.0235, v_num=3, train_loss=0.00335, train_accuracy=1.000, val_loss=0.157, val_accuracy=0.948]\n",
      "Validating:  90%|████████▉ | 26/29 [00:08<00:00,  5.65it/s]\u001b[A\n",
      "Epoch 158: 100%|█████████▉| 254/255 [02:46<00:00,  1.52it/s, loss=0.0235, v_num=3, train_loss=0.00335, train_accuracy=1.000, val_loss=0.157, val_accuracy=0.948]\n",
      "Validating:  97%|█████████▋| 28/29 [00:08<00:00,  5.65it/s]\u001b[A\n",
      "Epoch 158: 100%|██████████| 255/255 [02:47<00:00,  1.52it/s, loss=0.0235, v_num=3, train_loss=0.00335, train_accuracy=1.000, val_loss=0.151, val_accuracy=0.959]\n",
      "Epoch 158: 100%|██████████| 255/255 [02:47<00:00,  1.52it/s, loss=0.0235, v_num=3, train_loss=0.00335, train_accuracy=1.000, val_loss=0.151, val_accuracy=0.959]"
     ]
    },
    {
     "name": "stderr",
     "output_type": "stream",
     "text": [
      "Epoch 158, global step 35933: val_loss was not in top 2\n"
     ]
    },
    {
     "name": "stdout",
     "output_type": "stream",
     "text": [
      "Epoch 159:  89%|████████▊ | 226/255 [02:37<00:20,  1.43it/s, loss=0.0421, v_num=3, train_loss=0.0391, train_accuracy=1.000, val_loss=0.151, val_accuracy=0.959] \n",
      "Validating: 0it [00:00, ?it/s]\u001b[A\n",
      "Validating:   0%|          | 0/29 [00:00<?, ?it/s]\u001b[A\n",
      "Epoch 159:  89%|████████▉ | 228/255 [02:41<00:19,  1.41it/s, loss=0.0421, v_num=3, train_loss=0.0391, train_accuracy=1.000, val_loss=0.151, val_accuracy=0.959]\n",
      "Validating:   7%|▋         | 2/29 [00:04<00:46,  1.72s/it]\u001b[A\n",
      "Epoch 159:  90%|█████████ | 230/255 [02:42<00:17,  1.42it/s, loss=0.0421, v_num=3, train_loss=0.0391, train_accuracy=1.000, val_loss=0.151, val_accuracy=0.959]\n",
      "Validating:  14%|█▍        | 4/29 [00:04<00:17,  1.45it/s]\u001b[A\n",
      "Epoch 159:  91%|█████████ | 232/255 [02:42<00:16,  1.43it/s, loss=0.0421, v_num=3, train_loss=0.0391, train_accuracy=1.000, val_loss=0.151, val_accuracy=0.959]\n",
      "Validating:  21%|██        | 6/29 [00:04<00:09,  2.52it/s]\u001b[A\n",
      "Epoch 159:  92%|█████████▏| 234/255 [02:42<00:14,  1.44it/s, loss=0.0421, v_num=3, train_loss=0.0391, train_accuracy=1.000, val_loss=0.151, val_accuracy=0.959]\n",
      "Validating:  28%|██▊       | 8/29 [00:05<00:05,  3.58it/s]\u001b[A\n",
      "Epoch 159:  93%|█████████▎| 236/255 [02:43<00:13,  1.45it/s, loss=0.0421, v_num=3, train_loss=0.0391, train_accuracy=1.000, val_loss=0.151, val_accuracy=0.959]\n",
      "Validating:  34%|███▍      | 10/29 [00:05<00:04,  4.43it/s]\u001b[A\n",
      "Epoch 159:  93%|█████████▎| 238/255 [02:43<00:11,  1.46it/s, loss=0.0421, v_num=3, train_loss=0.0391, train_accuracy=1.000, val_loss=0.151, val_accuracy=0.959]\n",
      "Validating:  41%|████▏     | 12/29 [00:05<00:03,  4.98it/s]\u001b[A\n",
      "Epoch 159:  94%|█████████▍| 240/255 [02:43<00:10,  1.46it/s, loss=0.0421, v_num=3, train_loss=0.0391, train_accuracy=1.000, val_loss=0.151, val_accuracy=0.959]\n",
      "Validating:  48%|████▊     | 14/29 [00:06<00:02,  5.35it/s]\u001b[A\n",
      "Epoch 159:  95%|█████████▍| 242/255 [02:44<00:08,  1.47it/s, loss=0.0421, v_num=3, train_loss=0.0391, train_accuracy=1.000, val_loss=0.151, val_accuracy=0.959]\n",
      "Validating:  55%|█████▌    | 16/29 [00:06<00:02,  5.52it/s]\u001b[A\n",
      "Epoch 159:  96%|█████████▌| 244/255 [02:44<00:07,  1.48it/s, loss=0.0421, v_num=3, train_loss=0.0391, train_accuracy=1.000, val_loss=0.151, val_accuracy=0.959]\n",
      "Validating:  62%|██████▏   | 18/29 [00:06<00:01,  5.60it/s]\u001b[A\n",
      "Epoch 159:  96%|█████████▋| 246/255 [02:44<00:06,  1.49it/s, loss=0.0421, v_num=3, train_loss=0.0391, train_accuracy=1.000, val_loss=0.151, val_accuracy=0.959]\n",
      "Validating:  69%|██████▉   | 20/29 [00:07<00:01,  5.67it/s]\u001b[A\n",
      "Epoch 159:  97%|█████████▋| 248/255 [02:45<00:04,  1.50it/s, loss=0.0421, v_num=3, train_loss=0.0391, train_accuracy=1.000, val_loss=0.151, val_accuracy=0.959]\n",
      "Validating:  76%|███████▌  | 22/29 [00:07<00:01,  5.64it/s]\u001b[A\n",
      "Epoch 159:  98%|█████████▊| 250/255 [02:45<00:03,  1.51it/s, loss=0.0421, v_num=3, train_loss=0.0391, train_accuracy=1.000, val_loss=0.151, val_accuracy=0.959]\n",
      "Validating:  83%|████████▎ | 24/29 [00:08<00:00,  5.68it/s]\u001b[A\n",
      "Epoch 159:  99%|█████████▉| 252/255 [02:45<00:01,  1.52it/s, loss=0.0421, v_num=3, train_loss=0.0391, train_accuracy=1.000, val_loss=0.151, val_accuracy=0.959]\n",
      "Validating:  90%|████████▉ | 26/29 [00:08<00:00,  5.63it/s]\u001b[A\n",
      "Epoch 159: 100%|█████████▉| 254/255 [02:46<00:00,  1.53it/s, loss=0.0421, v_num=3, train_loss=0.0391, train_accuracy=1.000, val_loss=0.151, val_accuracy=0.959]\n",
      "Validating:  97%|█████████▋| 28/29 [00:08<00:00,  5.63it/s]\u001b[A\n",
      "Epoch 159: 100%|██████████| 255/255 [02:47<00:00,  1.52it/s, loss=0.0421, v_num=3, train_loss=0.0391, train_accuracy=1.000, val_loss=0.154, val_accuracy=0.955]\n",
      "Epoch 159: 100%|██████████| 255/255 [02:47<00:00,  1.52it/s, loss=0.0421, v_num=3, train_loss=0.0391, train_accuracy=1.000, val_loss=0.154, val_accuracy=0.955]"
     ]
    },
    {
     "name": "stderr",
     "output_type": "stream",
     "text": [
      "Epoch 159, global step 36159: val_loss was not in top 2\n"
     ]
    },
    {
     "name": "stdout",
     "output_type": "stream",
     "text": [
      "Epoch 160:  89%|████████▊ | 226/255 [02:38<00:20,  1.43it/s, loss=0.0546, v_num=3, train_loss=0.251, train_accuracy=0.944, val_loss=0.154, val_accuracy=0.955]  \n",
      "Validating: 0it [00:00, ?it/s]\u001b[A\n",
      "Validating:   0%|          | 0/29 [00:00<?, ?it/s]\u001b[A\n",
      "Epoch 160:  89%|████████▉ | 228/255 [02:42<00:19,  1.41it/s, loss=0.0546, v_num=3, train_loss=0.251, train_accuracy=0.944, val_loss=0.154, val_accuracy=0.955]\n",
      "Validating:   7%|▋         | 2/29 [00:03<00:45,  1.67s/it]\u001b[A\n",
      "Epoch 160:  90%|█████████ | 230/255 [02:42<00:17,  1.42it/s, loss=0.0546, v_num=3, train_loss=0.251, train_accuracy=0.944, val_loss=0.154, val_accuracy=0.955]\n",
      "Validating:  14%|█▍        | 4/29 [00:04<00:16,  1.49it/s]\u001b[A\n",
      "Epoch 160:  91%|█████████ | 232/255 [02:42<00:16,  1.43it/s, loss=0.0546, v_num=3, train_loss=0.251, train_accuracy=0.944, val_loss=0.154, val_accuracy=0.955]\n",
      "Validating:  21%|██        | 6/29 [00:04<00:08,  2.59it/s]\u001b[A\n",
      "Epoch 160:  92%|█████████▏| 234/255 [02:43<00:14,  1.43it/s, loss=0.0546, v_num=3, train_loss=0.251, train_accuracy=0.944, val_loss=0.154, val_accuracy=0.955]\n",
      "Validating:  28%|██▊       | 8/29 [00:05<00:05,  3.60it/s]\u001b[A\n",
      "Epoch 160:  93%|█████████▎| 236/255 [02:43<00:13,  1.44it/s, loss=0.0546, v_num=3, train_loss=0.251, train_accuracy=0.944, val_loss=0.154, val_accuracy=0.955]\n",
      "Validating:  34%|███▍      | 10/29 [00:05<00:04,  4.45it/s]\u001b[A\n",
      "Epoch 160:  93%|█████████▎| 238/255 [02:43<00:11,  1.45it/s, loss=0.0546, v_num=3, train_loss=0.251, train_accuracy=0.944, val_loss=0.154, val_accuracy=0.955]\n",
      "Validating:  41%|████▏     | 12/29 [00:05<00:03,  4.99it/s]\u001b[A\n",
      "Epoch 160:  94%|█████████▍| 240/255 [02:44<00:10,  1.46it/s, loss=0.0546, v_num=3, train_loss=0.251, train_accuracy=0.944, val_loss=0.154, val_accuracy=0.955]\n",
      "Validating:  48%|████▊     | 14/29 [00:06<00:02,  5.30it/s]\u001b[A\n",
      "Epoch 160:  95%|█████████▍| 242/255 [02:44<00:08,  1.47it/s, loss=0.0546, v_num=3, train_loss=0.251, train_accuracy=0.944, val_loss=0.154, val_accuracy=0.955]\n",
      "Validating:  55%|█████▌    | 16/29 [00:06<00:02,  5.48it/s]\u001b[A\n",
      "Epoch 160:  96%|█████████▌| 244/255 [02:44<00:07,  1.48it/s, loss=0.0546, v_num=3, train_loss=0.251, train_accuracy=0.944, val_loss=0.154, val_accuracy=0.955]\n",
      "Validating:  62%|██████▏   | 18/29 [00:06<00:01,  5.63it/s]\u001b[A\n",
      "Epoch 160:  96%|█████████▋| 246/255 [02:45<00:06,  1.49it/s, loss=0.0546, v_num=3, train_loss=0.251, train_accuracy=0.944, val_loss=0.154, val_accuracy=0.955]\n",
      "Validating:  69%|██████▉   | 20/29 [00:07<00:01,  5.54it/s]\u001b[A\n",
      "Epoch 160:  97%|█████████▋| 248/255 [02:45<00:04,  1.50it/s, loss=0.0546, v_num=3, train_loss=0.251, train_accuracy=0.944, val_loss=0.154, val_accuracy=0.955]\n",
      "Validating:  76%|███████▌  | 22/29 [00:07<00:01,  5.58it/s]\u001b[A\n",
      "Epoch 160:  98%|█████████▊| 250/255 [02:45<00:03,  1.51it/s, loss=0.0546, v_num=3, train_loss=0.251, train_accuracy=0.944, val_loss=0.154, val_accuracy=0.955]\n",
      "Validating:  83%|████████▎ | 24/29 [00:07<00:00,  5.48it/s]\u001b[A\n",
      "Epoch 160:  99%|█████████▉| 252/255 [02:46<00:01,  1.52it/s, loss=0.0546, v_num=3, train_loss=0.251, train_accuracy=0.944, val_loss=0.154, val_accuracy=0.955]\n",
      "Validating:  90%|████████▉ | 26/29 [00:08<00:00,  5.48it/s]\u001b[A\n",
      "Epoch 160: 100%|█████████▉| 254/255 [02:46<00:00,  1.52it/s, loss=0.0546, v_num=3, train_loss=0.251, train_accuracy=0.944, val_loss=0.154, val_accuracy=0.955]\n",
      "Validating:  97%|█████████▋| 28/29 [00:08<00:00,  5.52it/s]\u001b[A\n",
      "Epoch 160: 100%|██████████| 255/255 [02:47<00:00,  1.52it/s, loss=0.0546, v_num=3, train_loss=0.251, train_accuracy=0.944, val_loss=0.182, val_accuracy=0.943]\n",
      "Epoch 160: 100%|██████████| 255/255 [02:47<00:00,  1.52it/s, loss=0.0546, v_num=3, train_loss=0.251, train_accuracy=0.944, val_loss=0.182, val_accuracy=0.943]"
     ]
    },
    {
     "name": "stderr",
     "output_type": "stream",
     "text": [
      "Epoch 160, global step 36385: val_loss was not in top 2\n"
     ]
    },
    {
     "name": "stdout",
     "output_type": "stream",
     "text": [
      "Epoch 161:  89%|████████▊ | 226/255 [02:37<00:20,  1.43it/s, loss=0.0379, v_num=3, train_loss=0.00657, train_accuracy=1.000, val_loss=0.182, val_accuracy=0.943]\n",
      "Validating: 0it [00:00, ?it/s]\u001b[A\n",
      "Validating:   0%|          | 0/29 [00:00<?, ?it/s]\u001b[A\n",
      "Epoch 161:  89%|████████▉ | 228/255 [02:41<00:19,  1.41it/s, loss=0.0379, v_num=3, train_loss=0.00657, train_accuracy=1.000, val_loss=0.182, val_accuracy=0.943]\n",
      "Validating:   7%|▋         | 2/29 [00:03<00:45,  1.67s/it]\u001b[A\n",
      "Epoch 161:  90%|█████████ | 230/255 [02:42<00:17,  1.42it/s, loss=0.0379, v_num=3, train_loss=0.00657, train_accuracy=1.000, val_loss=0.182, val_accuracy=0.943]\n",
      "Validating:  14%|█▍        | 4/29 [00:04<00:16,  1.49it/s]\u001b[A\n",
      "Epoch 161:  91%|█████████ | 232/255 [02:42<00:16,  1.43it/s, loss=0.0379, v_num=3, train_loss=0.00657, train_accuracy=1.000, val_loss=0.182, val_accuracy=0.943]\n",
      "Validating:  21%|██        | 6/29 [00:04<00:08,  2.58it/s]\u001b[A\n",
      "Epoch 161:  92%|█████████▏| 234/255 [02:42<00:14,  1.44it/s, loss=0.0379, v_num=3, train_loss=0.00657, train_accuracy=1.000, val_loss=0.182, val_accuracy=0.943]\n",
      "Validating:  28%|██▊       | 8/29 [00:05<00:05,  3.68it/s]\u001b[A\n",
      "Epoch 161:  93%|█████████▎| 236/255 [02:43<00:13,  1.45it/s, loss=0.0379, v_num=3, train_loss=0.00657, train_accuracy=1.000, val_loss=0.182, val_accuracy=0.943]\n",
      "Validating:  34%|███▍      | 10/29 [00:05<00:04,  4.49it/s]\u001b[A\n",
      "Epoch 161:  93%|█████████▎| 238/255 [02:43<00:11,  1.46it/s, loss=0.0379, v_num=3, train_loss=0.00657, train_accuracy=1.000, val_loss=0.182, val_accuracy=0.943]\n",
      "Validating:  41%|████▏     | 12/29 [00:05<00:03,  5.06it/s]\u001b[A\n",
      "Epoch 161:  94%|█████████▍| 240/255 [02:43<00:10,  1.46it/s, loss=0.0379, v_num=3, train_loss=0.00657, train_accuracy=1.000, val_loss=0.182, val_accuracy=0.943]\n",
      "Validating:  48%|████▊     | 14/29 [00:06<00:02,  5.33it/s]\u001b[A\n",
      "Epoch 161:  95%|█████████▍| 242/255 [02:44<00:08,  1.47it/s, loss=0.0379, v_num=3, train_loss=0.00657, train_accuracy=1.000, val_loss=0.182, val_accuracy=0.943]\n",
      "Validating:  55%|█████▌    | 16/29 [00:06<00:02,  5.48it/s]\u001b[A\n",
      "Epoch 161:  96%|█████████▌| 244/255 [02:44<00:07,  1.48it/s, loss=0.0379, v_num=3, train_loss=0.00657, train_accuracy=1.000, val_loss=0.182, val_accuracy=0.943]\n",
      "Validating:  62%|██████▏   | 18/29 [00:06<00:01,  5.60it/s]\u001b[A\n",
      "Epoch 161:  96%|█████████▋| 246/255 [02:44<00:06,  1.49it/s, loss=0.0379, v_num=3, train_loss=0.00657, train_accuracy=1.000, val_loss=0.182, val_accuracy=0.943]\n",
      "Validating:  69%|██████▉   | 20/29 [00:07<00:01,  5.61it/s]\u001b[A\n",
      "Epoch 161:  97%|█████████▋| 248/255 [02:45<00:04,  1.50it/s, loss=0.0379, v_num=3, train_loss=0.00657, train_accuracy=1.000, val_loss=0.182, val_accuracy=0.943]\n",
      "Validating:  76%|███████▌  | 22/29 [00:07<00:01,  5.54it/s]\u001b[A\n",
      "Epoch 161:  98%|█████████▊| 250/255 [02:45<00:03,  1.51it/s, loss=0.0379, v_num=3, train_loss=0.00657, train_accuracy=1.000, val_loss=0.182, val_accuracy=0.943]\n",
      "Validating:  83%|████████▎ | 24/29 [00:07<00:00,  5.54it/s]\u001b[A\n",
      "Epoch 161:  99%|█████████▉| 252/255 [02:46<00:01,  1.52it/s, loss=0.0379, v_num=3, train_loss=0.00657, train_accuracy=1.000, val_loss=0.182, val_accuracy=0.943]\n",
      "Validating:  90%|████████▉ | 26/29 [00:08<00:00,  5.53it/s]\u001b[A\n",
      "Epoch 161: 100%|█████████▉| 254/255 [02:46<00:00,  1.53it/s, loss=0.0379, v_num=3, train_loss=0.00657, train_accuracy=1.000, val_loss=0.182, val_accuracy=0.943]\n",
      "Validating:  97%|█████████▋| 28/29 [00:08<00:00,  5.51it/s]\u001b[A\n",
      "Epoch 161: 100%|██████████| 255/255 [02:47<00:00,  1.52it/s, loss=0.0379, v_num=3, train_loss=0.00657, train_accuracy=1.000, val_loss=0.156, val_accuracy=0.956]\n",
      "Epoch 161: 100%|██████████| 255/255 [02:47<00:00,  1.52it/s, loss=0.0379, v_num=3, train_loss=0.00657, train_accuracy=1.000, val_loss=0.156, val_accuracy=0.956]"
     ]
    },
    {
     "name": "stderr",
     "output_type": "stream",
     "text": [
      "Epoch 161, global step 36611: val_loss was not in top 2\n"
     ]
    },
    {
     "name": "stdout",
     "output_type": "stream",
     "text": [
      "Epoch 162:  89%|████████▊ | 226/255 [02:37<00:20,  1.43it/s, loss=0.0349, v_num=3, train_loss=0.0235, train_accuracy=1.000, val_loss=0.156, val_accuracy=0.956] \n",
      "Validating: 0it [00:00, ?it/s]\u001b[A\n",
      "Validating:   0%|          | 0/29 [00:00<?, ?it/s]\u001b[A\n",
      "Epoch 162:  89%|████████▉ | 228/255 [02:41<00:19,  1.41it/s, loss=0.0349, v_num=3, train_loss=0.0235, train_accuracy=1.000, val_loss=0.156, val_accuracy=0.956]\n",
      "Validating:   7%|▋         | 2/29 [00:03<00:44,  1.66s/it]\u001b[A\n",
      "Epoch 162:  90%|█████████ | 230/255 [02:42<00:17,  1.42it/s, loss=0.0349, v_num=3, train_loss=0.0235, train_accuracy=1.000, val_loss=0.156, val_accuracy=0.956]\n",
      "Validating:  14%|█▍        | 4/29 [00:04<00:16,  1.50it/s]\u001b[A\n",
      "Epoch 162:  91%|█████████ | 232/255 [02:42<00:16,  1.43it/s, loss=0.0349, v_num=3, train_loss=0.0235, train_accuracy=1.000, val_loss=0.156, val_accuracy=0.956]\n",
      "Validating:  21%|██        | 6/29 [00:04<00:08,  2.58it/s]\u001b[A\n",
      "Epoch 162:  92%|█████████▏| 234/255 [02:42<00:14,  1.44it/s, loss=0.0349, v_num=3, train_loss=0.0235, train_accuracy=1.000, val_loss=0.156, val_accuracy=0.956]\n",
      "Validating:  28%|██▊       | 8/29 [00:05<00:05,  3.62it/s]\u001b[A\n",
      "Epoch 162:  93%|█████████▎| 236/255 [02:43<00:13,  1.45it/s, loss=0.0349, v_num=3, train_loss=0.0235, train_accuracy=1.000, val_loss=0.156, val_accuracy=0.956]\n",
      "Validating:  34%|███▍      | 10/29 [00:05<00:04,  4.37it/s]\u001b[A\n",
      "Epoch 162:  93%|█████████▎| 238/255 [02:43<00:11,  1.45it/s, loss=0.0349, v_num=3, train_loss=0.0235, train_accuracy=1.000, val_loss=0.156, val_accuracy=0.956]\n",
      "Validating:  41%|████▏     | 12/29 [00:05<00:03,  4.94it/s]\u001b[A\n",
      "Epoch 162:  94%|█████████▍| 240/255 [02:43<00:10,  1.46it/s, loss=0.0349, v_num=3, train_loss=0.0235, train_accuracy=1.000, val_loss=0.156, val_accuracy=0.956]\n",
      "Validating:  48%|████▊     | 14/29 [00:06<00:02,  5.33it/s]\u001b[A\n",
      "Epoch 162:  95%|█████████▍| 242/255 [02:44<00:08,  1.47it/s, loss=0.0349, v_num=3, train_loss=0.0235, train_accuracy=1.000, val_loss=0.156, val_accuracy=0.956]\n",
      "Validating:  55%|█████▌    | 16/29 [00:06<00:02,  5.45it/s]\u001b[A\n",
      "Epoch 162:  96%|█████████▌| 244/255 [02:44<00:07,  1.48it/s, loss=0.0349, v_num=3, train_loss=0.0235, train_accuracy=1.000, val_loss=0.156, val_accuracy=0.956]\n",
      "Validating:  62%|██████▏   | 18/29 [00:06<00:01,  5.52it/s]\u001b[A\n",
      "Epoch 162:  96%|█████████▋| 246/255 [02:45<00:06,  1.49it/s, loss=0.0349, v_num=3, train_loss=0.0235, train_accuracy=1.000, val_loss=0.156, val_accuracy=0.956]\n",
      "Validating:  69%|██████▉   | 20/29 [00:07<00:01,  5.64it/s]\u001b[A\n",
      "Epoch 162:  97%|█████████▋| 248/255 [02:45<00:04,  1.50it/s, loss=0.0349, v_num=3, train_loss=0.0235, train_accuracy=1.000, val_loss=0.156, val_accuracy=0.956]\n",
      "Validating:  76%|███████▌  | 22/29 [00:07<00:01,  5.58it/s]\u001b[A\n",
      "Epoch 162:  98%|█████████▊| 250/255 [02:45<00:03,  1.51it/s, loss=0.0349, v_num=3, train_loss=0.0235, train_accuracy=1.000, val_loss=0.156, val_accuracy=0.956]\n",
      "Validating:  83%|████████▎ | 24/29 [00:07<00:00,  5.68it/s]\u001b[A\n",
      "Epoch 162:  99%|█████████▉| 252/255 [02:46<00:01,  1.52it/s, loss=0.0349, v_num=3, train_loss=0.0235, train_accuracy=1.000, val_loss=0.156, val_accuracy=0.956]\n",
      "Validating:  90%|████████▉ | 26/29 [00:08<00:00,  5.61it/s]\u001b[A\n",
      "Epoch 162: 100%|█████████▉| 254/255 [02:46<00:00,  1.53it/s, loss=0.0349, v_num=3, train_loss=0.0235, train_accuracy=1.000, val_loss=0.156, val_accuracy=0.956]\n",
      "Validating:  97%|█████████▋| 28/29 [00:08<00:00,  5.56it/s]\u001b[A\n",
      "Epoch 162: 100%|██████████| 255/255 [02:47<00:00,  1.52it/s, loss=0.0349, v_num=3, train_loss=0.0235, train_accuracy=1.000, val_loss=0.141, val_accuracy=0.960]\n",
      "Epoch 162: 100%|██████████| 255/255 [02:47<00:00,  1.52it/s, loss=0.0349, v_num=3, train_loss=0.0235, train_accuracy=1.000, val_loss=0.141, val_accuracy=0.960]"
     ]
    },
    {
     "name": "stderr",
     "output_type": "stream",
     "text": [
      "Epoch 162, global step 36837: val_loss was not in top 2\n"
     ]
    },
    {
     "name": "stdout",
     "output_type": "stream",
     "text": [
      "Epoch 163:  89%|████████▊ | 226/255 [02:37<00:20,  1.43it/s, loss=0.0304, v_num=3, train_loss=0.000983, train_accuracy=1.000, val_loss=0.141, val_accuracy=0.960]\n",
      "Validating: 0it [00:00, ?it/s]\u001b[A\n",
      "Validating:   0%|          | 0/29 [00:00<?, ?it/s]\u001b[A\n",
      "Epoch 163:  89%|████████▉ | 228/255 [02:41<00:19,  1.41it/s, loss=0.0304, v_num=3, train_loss=0.000983, train_accuracy=1.000, val_loss=0.141, val_accuracy=0.960]\n",
      "Validating:   7%|▋         | 2/29 [00:04<00:45,  1.69s/it]\u001b[A\n",
      "Epoch 163:  90%|█████████ | 230/255 [02:41<00:17,  1.42it/s, loss=0.0304, v_num=3, train_loss=0.000983, train_accuracy=1.000, val_loss=0.141, val_accuracy=0.960]\n",
      "Validating:  14%|█▍        | 4/29 [00:04<00:16,  1.47it/s]\u001b[A\n",
      "Epoch 163:  91%|█████████ | 232/255 [02:42<00:16,  1.43it/s, loss=0.0304, v_num=3, train_loss=0.000983, train_accuracy=1.000, val_loss=0.141, val_accuracy=0.960]\n",
      "Validating:  21%|██        | 6/29 [00:04<00:08,  2.56it/s]\u001b[A\n",
      "Epoch 163:  92%|█████████▏| 234/255 [02:42<00:14,  1.44it/s, loss=0.0304, v_num=3, train_loss=0.000983, train_accuracy=1.000, val_loss=0.141, val_accuracy=0.960]\n",
      "Validating:  28%|██▊       | 8/29 [00:05<00:05,  3.64it/s]\u001b[A\n",
      "Epoch 163:  93%|█████████▎| 236/255 [02:43<00:13,  1.45it/s, loss=0.0304, v_num=3, train_loss=0.000983, train_accuracy=1.000, val_loss=0.141, val_accuracy=0.960]\n",
      "Validating:  34%|███▍      | 10/29 [00:05<00:04,  4.45it/s]\u001b[A\n",
      "Epoch 163:  93%|█████████▎| 238/255 [02:43<00:11,  1.46it/s, loss=0.0304, v_num=3, train_loss=0.000983, train_accuracy=1.000, val_loss=0.141, val_accuracy=0.960]\n",
      "Validating:  41%|████▏     | 12/29 [00:05<00:03,  5.02it/s]\u001b[A\n",
      "Epoch 163:  94%|█████████▍| 240/255 [02:43<00:10,  1.47it/s, loss=0.0304, v_num=3, train_loss=0.000983, train_accuracy=1.000, val_loss=0.141, val_accuracy=0.960]\n",
      "Validating:  48%|████▊     | 14/29 [00:06<00:02,  5.27it/s]\u001b[A\n",
      "Epoch 163:  95%|█████████▍| 242/255 [02:44<00:08,  1.47it/s, loss=0.0304, v_num=3, train_loss=0.000983, train_accuracy=1.000, val_loss=0.141, val_accuracy=0.960]\n",
      "Validating:  55%|█████▌    | 16/29 [00:06<00:02,  5.43it/s]\u001b[A\n",
      "Epoch 163:  96%|█████████▌| 244/255 [02:44<00:07,  1.48it/s, loss=0.0304, v_num=3, train_loss=0.000983, train_accuracy=1.000, val_loss=0.141, val_accuracy=0.960]\n",
      "Validating:  62%|██████▏   | 18/29 [00:06<00:01,  5.55it/s]\u001b[A\n",
      "Epoch 163:  96%|█████████▋| 246/255 [02:44<00:06,  1.49it/s, loss=0.0304, v_num=3, train_loss=0.000983, train_accuracy=1.000, val_loss=0.141, val_accuracy=0.960]\n",
      "Validating:  69%|██████▉   | 20/29 [00:07<00:01,  5.64it/s]\u001b[A\n",
      "Epoch 163:  97%|█████████▋| 248/255 [02:45<00:04,  1.50it/s, loss=0.0304, v_num=3, train_loss=0.000983, train_accuracy=1.000, val_loss=0.141, val_accuracy=0.960]\n",
      "Validating:  76%|███████▌  | 22/29 [00:07<00:01,  5.63it/s]\u001b[A\n",
      "Epoch 163:  98%|█████████▊| 250/255 [02:45<00:03,  1.51it/s, loss=0.0304, v_num=3, train_loss=0.000983, train_accuracy=1.000, val_loss=0.141, val_accuracy=0.960]\n",
      "Validating:  83%|████████▎ | 24/29 [00:07<00:00,  5.67it/s]\u001b[A\n",
      "Epoch 163:  99%|█████████▉| 252/255 [02:45<00:01,  1.52it/s, loss=0.0304, v_num=3, train_loss=0.000983, train_accuracy=1.000, val_loss=0.141, val_accuracy=0.960]\n",
      "Validating:  90%|████████▉ | 26/29 [00:08<00:00,  5.62it/s]\u001b[A\n",
      "Epoch 163: 100%|█████████▉| 254/255 [02:46<00:00,  1.53it/s, loss=0.0304, v_num=3, train_loss=0.000983, train_accuracy=1.000, val_loss=0.141, val_accuracy=0.960]\n",
      "Validating:  97%|█████████▋| 28/29 [00:08<00:00,  5.61it/s]\u001b[A\n",
      "Epoch 163: 100%|██████████| 255/255 [02:47<00:00,  1.53it/s, loss=0.0304, v_num=3, train_loss=0.000983, train_accuracy=1.000, val_loss=0.152, val_accuracy=0.950]\n",
      "Epoch 163: 100%|██████████| 255/255 [02:47<00:00,  1.53it/s, loss=0.0304, v_num=3, train_loss=0.000983, train_accuracy=1.000, val_loss=0.152, val_accuracy=0.950]"
     ]
    },
    {
     "name": "stderr",
     "output_type": "stream",
     "text": [
      "Epoch 163, global step 37063: val_loss was not in top 2\n"
     ]
    },
    {
     "name": "stdout",
     "output_type": "stream",
     "text": [
      "Epoch 164:  89%|████████▊ | 226/255 [02:38<00:20,  1.43it/s, loss=0.0356, v_num=3, train_loss=0.0427, train_accuracy=1.000, val_loss=0.152, val_accuracy=0.950]  \n",
      "Validating: 0it [00:00, ?it/s]\u001b[A\n",
      "Validating:   0%|          | 0/29 [00:00<?, ?it/s]\u001b[A\n",
      "Epoch 164:  89%|████████▉ | 228/255 [02:41<00:19,  1.41it/s, loss=0.0356, v_num=3, train_loss=0.0427, train_accuracy=1.000, val_loss=0.152, val_accuracy=0.950]\n",
      "Validating:   7%|▋         | 2/29 [00:03<00:45,  1.67s/it]\u001b[A\n",
      "Epoch 164:  90%|█████████ | 230/255 [02:42<00:17,  1.42it/s, loss=0.0356, v_num=3, train_loss=0.0427, train_accuracy=1.000, val_loss=0.152, val_accuracy=0.950]\n",
      "Validating:  14%|█▍        | 4/29 [00:04<00:16,  1.49it/s]\u001b[A\n",
      "Epoch 164:  91%|█████████ | 232/255 [02:42<00:16,  1.43it/s, loss=0.0356, v_num=3, train_loss=0.0427, train_accuracy=1.000, val_loss=0.152, val_accuracy=0.950]\n",
      "Validating:  21%|██        | 6/29 [00:04<00:08,  2.60it/s]\u001b[A\n",
      "Epoch 164:  92%|█████████▏| 234/255 [02:43<00:14,  1.44it/s, loss=0.0356, v_num=3, train_loss=0.0427, train_accuracy=1.000, val_loss=0.152, val_accuracy=0.950]\n",
      "Validating:  28%|██▊       | 8/29 [00:05<00:05,  3.67it/s]\u001b[A\n",
      "Epoch 164:  93%|█████████▎| 236/255 [02:43<00:13,  1.44it/s, loss=0.0356, v_num=3, train_loss=0.0427, train_accuracy=1.000, val_loss=0.152, val_accuracy=0.950]\n",
      "Validating:  34%|███▍      | 10/29 [00:05<00:04,  4.49it/s]\u001b[A\n",
      "Epoch 164:  93%|█████████▎| 238/255 [02:43<00:11,  1.45it/s, loss=0.0356, v_num=3, train_loss=0.0427, train_accuracy=1.000, val_loss=0.152, val_accuracy=0.950]\n",
      "Validating:  41%|████▏     | 12/29 [00:05<00:03,  4.97it/s]\u001b[A\n",
      "Epoch 164:  94%|█████████▍| 240/255 [02:44<00:10,  1.46it/s, loss=0.0356, v_num=3, train_loss=0.0427, train_accuracy=1.000, val_loss=0.152, val_accuracy=0.950]\n",
      "Validating:  48%|████▊     | 14/29 [00:06<00:02,  5.30it/s]\u001b[A\n",
      "Epoch 164:  95%|█████████▍| 242/255 [02:44<00:08,  1.47it/s, loss=0.0356, v_num=3, train_loss=0.0427, train_accuracy=1.000, val_loss=0.152, val_accuracy=0.950]\n",
      "Validating:  55%|█████▌    | 16/29 [00:06<00:02,  5.47it/s]\u001b[A\n",
      "Epoch 164:  96%|█████████▌| 244/255 [02:44<00:07,  1.48it/s, loss=0.0356, v_num=3, train_loss=0.0427, train_accuracy=1.000, val_loss=0.152, val_accuracy=0.950]\n",
      "Validating:  62%|██████▏   | 18/29 [00:06<00:01,  5.55it/s]\u001b[A\n",
      "Epoch 164:  96%|█████████▋| 246/255 [02:45<00:06,  1.49it/s, loss=0.0356, v_num=3, train_loss=0.0427, train_accuracy=1.000, val_loss=0.152, val_accuracy=0.950]\n",
      "Validating:  69%|██████▉   | 20/29 [00:07<00:01,  5.50it/s]\u001b[A\n",
      "Epoch 164:  97%|█████████▋| 248/255 [02:45<00:04,  1.50it/s, loss=0.0356, v_num=3, train_loss=0.0427, train_accuracy=1.000, val_loss=0.152, val_accuracy=0.950]\n",
      "Validating:  76%|███████▌  | 22/29 [00:07<00:01,  5.61it/s]\u001b[A\n",
      "Epoch 164:  98%|█████████▊| 250/255 [02:45<00:03,  1.51it/s, loss=0.0356, v_num=3, train_loss=0.0427, train_accuracy=1.000, val_loss=0.152, val_accuracy=0.950]\n",
      "Validating:  83%|████████▎ | 24/29 [00:07<00:00,  5.61it/s]\u001b[A\n",
      "Epoch 164:  99%|█████████▉| 252/255 [02:46<00:01,  1.52it/s, loss=0.0356, v_num=3, train_loss=0.0427, train_accuracy=1.000, val_loss=0.152, val_accuracy=0.950]\n",
      "Validating:  90%|████████▉ | 26/29 [00:08<00:00,  5.59it/s]\u001b[A\n",
      "Epoch 164: 100%|█████████▉| 254/255 [02:46<00:00,  1.52it/s, loss=0.0356, v_num=3, train_loss=0.0427, train_accuracy=1.000, val_loss=0.152, val_accuracy=0.950]\n",
      "Validating:  97%|█████████▋| 28/29 [00:08<00:00,  5.66it/s]\u001b[A\n",
      "Epoch 164: 100%|██████████| 255/255 [02:47<00:00,  1.52it/s, loss=0.0356, v_num=3, train_loss=0.0427, train_accuracy=1.000, val_loss=0.171, val_accuracy=0.945]\n",
      "Epoch 164: 100%|██████████| 255/255 [02:47<00:00,  1.52it/s, loss=0.0356, v_num=3, train_loss=0.0427, train_accuracy=1.000, val_loss=0.171, val_accuracy=0.945]"
     ]
    },
    {
     "name": "stderr",
     "output_type": "stream",
     "text": [
      "Epoch 164, global step 37289: val_loss was not in top 2\n"
     ]
    },
    {
     "name": "stdout",
     "output_type": "stream",
     "text": [
      "Epoch 165:  89%|████████▊ | 226/255 [02:37<00:20,  1.43it/s, loss=0.0375, v_num=3, train_loss=0.0475, train_accuracy=0.944, val_loss=0.171, val_accuracy=0.945] \n",
      "Validating: 0it [00:00, ?it/s]\u001b[A\n",
      "Validating:   0%|          | 0/29 [00:00<?, ?it/s]\u001b[A\n",
      "Epoch 165:  89%|████████▉ | 228/255 [02:41<00:19,  1.41it/s, loss=0.0375, v_num=3, train_loss=0.0475, train_accuracy=0.944, val_loss=0.171, val_accuracy=0.945]\n",
      "Validating:   7%|▋         | 2/29 [00:03<00:45,  1.67s/it]\u001b[A\n",
      "Epoch 165:  90%|█████████ | 230/255 [02:42<00:17,  1.42it/s, loss=0.0375, v_num=3, train_loss=0.0475, train_accuracy=0.944, val_loss=0.171, val_accuracy=0.945]\n",
      "Validating:  14%|█▍        | 4/29 [00:04<00:16,  1.49it/s]\u001b[A\n",
      "Epoch 165:  91%|█████████ | 232/255 [02:42<00:16,  1.43it/s, loss=0.0375, v_num=3, train_loss=0.0475, train_accuracy=0.944, val_loss=0.171, val_accuracy=0.945]\n",
      "Validating:  21%|██        | 6/29 [00:04<00:08,  2.60it/s]\u001b[A\n",
      "Epoch 165:  92%|█████████▏| 234/255 [02:42<00:14,  1.44it/s, loss=0.0375, v_num=3, train_loss=0.0475, train_accuracy=0.944, val_loss=0.171, val_accuracy=0.945]\n",
      "Validating:  28%|██▊       | 8/29 [00:05<00:05,  3.67it/s]\u001b[A\n",
      "Epoch 165:  93%|█████████▎| 236/255 [02:43<00:13,  1.45it/s, loss=0.0375, v_num=3, train_loss=0.0475, train_accuracy=0.944, val_loss=0.171, val_accuracy=0.945]\n",
      "Validating:  34%|███▍      | 10/29 [00:05<00:04,  4.47it/s]\u001b[A\n",
      "Epoch 165:  93%|█████████▎| 238/255 [02:43<00:11,  1.46it/s, loss=0.0375, v_num=3, train_loss=0.0475, train_accuracy=0.944, val_loss=0.171, val_accuracy=0.945]\n",
      "Validating:  41%|████▏     | 12/29 [00:05<00:03,  4.91it/s]\u001b[A\n",
      "Epoch 165:  94%|█████████▍| 240/255 [02:43<00:10,  1.46it/s, loss=0.0375, v_num=3, train_loss=0.0475, train_accuracy=0.944, val_loss=0.171, val_accuracy=0.945]\n",
      "Validating:  48%|████▊     | 14/29 [00:06<00:02,  5.25it/s]\u001b[A\n",
      "Epoch 165:  95%|█████████▍| 242/255 [02:44<00:08,  1.47it/s, loss=0.0375, v_num=3, train_loss=0.0475, train_accuracy=0.944, val_loss=0.171, val_accuracy=0.945]\n",
      "Validating:  55%|█████▌    | 16/29 [00:06<00:02,  5.43it/s]\u001b[A\n",
      "Epoch 165:  96%|█████████▌| 244/255 [02:44<00:07,  1.48it/s, loss=0.0375, v_num=3, train_loss=0.0475, train_accuracy=0.944, val_loss=0.171, val_accuracy=0.945]\n",
      "Validating:  62%|██████▏   | 18/29 [00:06<00:01,  5.58it/s]\u001b[A\n",
      "Epoch 165:  96%|█████████▋| 246/255 [02:44<00:06,  1.49it/s, loss=0.0375, v_num=3, train_loss=0.0475, train_accuracy=0.944, val_loss=0.171, val_accuracy=0.945]\n",
      "Validating:  69%|██████▉   | 20/29 [00:07<00:01,  5.62it/s]\u001b[A\n",
      "Epoch 165:  97%|█████████▋| 248/255 [02:45<00:04,  1.50it/s, loss=0.0375, v_num=3, train_loss=0.0475, train_accuracy=0.944, val_loss=0.171, val_accuracy=0.945]\n",
      "Validating:  76%|███████▌  | 22/29 [00:07<00:01,  5.61it/s]\u001b[A\n",
      "Epoch 165:  98%|█████████▊| 250/255 [02:45<00:03,  1.51it/s, loss=0.0375, v_num=3, train_loss=0.0475, train_accuracy=0.944, val_loss=0.171, val_accuracy=0.945]\n",
      "Validating:  83%|████████▎ | 24/29 [00:07<00:00,  5.62it/s]\u001b[A\n",
      "Epoch 165:  99%|█████████▉| 252/255 [02:45<00:01,  1.52it/s, loss=0.0375, v_num=3, train_loss=0.0475, train_accuracy=0.944, val_loss=0.171, val_accuracy=0.945]\n",
      "Validating:  90%|████████▉ | 26/29 [00:08<00:00,  5.64it/s]\u001b[A\n",
      "Epoch 165: 100%|█████████▉| 254/255 [02:46<00:00,  1.53it/s, loss=0.0375, v_num=3, train_loss=0.0475, train_accuracy=0.944, val_loss=0.171, val_accuracy=0.945]\n",
      "Validating:  97%|█████████▋| 28/29 [00:08<00:00,  5.60it/s]\u001b[A\n",
      "Epoch 165: 100%|██████████| 255/255 [02:47<00:00,  1.53it/s, loss=0.0375, v_num=3, train_loss=0.0475, train_accuracy=0.944, val_loss=0.148, val_accuracy=0.957]\n",
      "Epoch 165: 100%|██████████| 255/255 [02:47<00:00,  1.53it/s, loss=0.0375, v_num=3, train_loss=0.0475, train_accuracy=0.944, val_loss=0.148, val_accuracy=0.957]"
     ]
    },
    {
     "name": "stderr",
     "output_type": "stream",
     "text": [
      "Epoch 165, global step 37515: val_loss was not in top 2\n"
     ]
    },
    {
     "name": "stdout",
     "output_type": "stream",
     "text": [
      "Epoch 166:  89%|████████▊ | 226/255 [02:37<00:20,  1.43it/s, loss=0.0505, v_num=3, train_loss=0.013, train_accuracy=1.000, val_loss=0.148, val_accuracy=0.957]  \n",
      "Validating: 0it [00:00, ?it/s]\u001b[A\n",
      "Validating:   0%|          | 0/29 [00:00<?, ?it/s]\u001b[A\n",
      "Epoch 166:  89%|████████▉ | 228/255 [02:41<00:19,  1.41it/s, loss=0.0505, v_num=3, train_loss=0.013, train_accuracy=1.000, val_loss=0.148, val_accuracy=0.957]\n",
      "Validating:   7%|▋         | 2/29 [00:03<00:44,  1.66s/it]\u001b[A\n",
      "Epoch 166:  90%|█████████ | 230/255 [02:41<00:17,  1.42it/s, loss=0.0505, v_num=3, train_loss=0.013, train_accuracy=1.000, val_loss=0.148, val_accuracy=0.957]\n",
      "Validating:  14%|█▍        | 4/29 [00:04<00:16,  1.49it/s]\u001b[A\n",
      "Epoch 166:  91%|█████████ | 232/255 [02:42<00:16,  1.43it/s, loss=0.0505, v_num=3, train_loss=0.013, train_accuracy=1.000, val_loss=0.148, val_accuracy=0.957]\n",
      "Validating:  21%|██        | 6/29 [00:04<00:08,  2.59it/s]\u001b[A\n",
      "Epoch 166:  92%|█████████▏| 234/255 [02:42<00:14,  1.44it/s, loss=0.0505, v_num=3, train_loss=0.013, train_accuracy=1.000, val_loss=0.148, val_accuracy=0.957]\n",
      "Validating:  28%|██▊       | 8/29 [00:05<00:05,  3.65it/s]\u001b[A\n",
      "Epoch 166:  93%|█████████▎| 236/255 [02:42<00:13,  1.45it/s, loss=0.0505, v_num=3, train_loss=0.013, train_accuracy=1.000, val_loss=0.148, val_accuracy=0.957]\n",
      "Validating:  34%|███▍      | 10/29 [00:05<00:04,  4.46it/s]\u001b[A\n",
      "Epoch 166:  93%|█████████▎| 238/255 [02:43<00:11,  1.46it/s, loss=0.0505, v_num=3, train_loss=0.013, train_accuracy=1.000, val_loss=0.148, val_accuracy=0.957]\n",
      "Validating:  41%|████▏     | 12/29 [00:05<00:03,  4.99it/s]\u001b[A\n",
      "Epoch 166:  94%|█████████▍| 240/255 [02:43<00:10,  1.47it/s, loss=0.0505, v_num=3, train_loss=0.013, train_accuracy=1.000, val_loss=0.148, val_accuracy=0.957]\n",
      "Validating:  48%|████▊     | 14/29 [00:06<00:02,  5.30it/s]\u001b[A\n",
      "Epoch 166:  95%|█████████▍| 242/255 [02:43<00:08,  1.48it/s, loss=0.0505, v_num=3, train_loss=0.013, train_accuracy=1.000, val_loss=0.148, val_accuracy=0.957]\n",
      "Validating:  55%|█████▌    | 16/29 [00:06<00:02,  5.47it/s]\u001b[A\n",
      "Epoch 166:  96%|█████████▌| 244/255 [02:44<00:07,  1.48it/s, loss=0.0505, v_num=3, train_loss=0.013, train_accuracy=1.000, val_loss=0.148, val_accuracy=0.957]\n",
      "Validating:  62%|██████▏   | 18/29 [00:06<00:01,  5.57it/s]\u001b[A\n",
      "Epoch 166:  96%|█████████▋| 246/255 [02:44<00:06,  1.49it/s, loss=0.0505, v_num=3, train_loss=0.013, train_accuracy=1.000, val_loss=0.148, val_accuracy=0.957]\n",
      "Validating:  69%|██████▉   | 20/29 [00:07<00:01,  5.62it/s]\u001b[A\n",
      "Epoch 166:  97%|█████████▋| 248/255 [02:45<00:04,  1.50it/s, loss=0.0505, v_num=3, train_loss=0.013, train_accuracy=1.000, val_loss=0.148, val_accuracy=0.957]\n",
      "Validating:  76%|███████▌  | 22/29 [00:07<00:01,  5.65it/s]\u001b[A\n",
      "Epoch 166:  98%|█████████▊| 250/255 [02:45<00:03,  1.51it/s, loss=0.0505, v_num=3, train_loss=0.013, train_accuracy=1.000, val_loss=0.148, val_accuracy=0.957]\n",
      "Validating:  83%|████████▎ | 24/29 [00:07<00:00,  5.64it/s]\u001b[A\n",
      "Epoch 166:  99%|█████████▉| 252/255 [02:45<00:01,  1.52it/s, loss=0.0505, v_num=3, train_loss=0.013, train_accuracy=1.000, val_loss=0.148, val_accuracy=0.957]\n",
      "Validating:  90%|████████▉ | 26/29 [00:08<00:00,  5.64it/s]\u001b[A\n",
      "Epoch 166: 100%|█████████▉| 254/255 [02:46<00:00,  1.53it/s, loss=0.0505, v_num=3, train_loss=0.013, train_accuracy=1.000, val_loss=0.148, val_accuracy=0.957]\n",
      "Validating:  97%|█████████▋| 28/29 [00:08<00:00,  5.67it/s]\u001b[A\n",
      "Epoch 166: 100%|██████████| 255/255 [02:47<00:00,  1.53it/s, loss=0.0505, v_num=3, train_loss=0.013, train_accuracy=1.000, val_loss=0.224, val_accuracy=0.945]\n",
      "Epoch 166: 100%|██████████| 255/255 [02:47<00:00,  1.53it/s, loss=0.0505, v_num=3, train_loss=0.013, train_accuracy=1.000, val_loss=0.224, val_accuracy=0.945]"
     ]
    },
    {
     "name": "stderr",
     "output_type": "stream",
     "text": [
      "Epoch 166, global step 37741: val_loss was not in top 2\n"
     ]
    },
    {
     "name": "stdout",
     "output_type": "stream",
     "text": [
      "Epoch 167:  89%|████████▊ | 226/255 [02:37<00:20,  1.43it/s, loss=0.043, v_num=3, train_loss=0.00866, train_accuracy=1.000, val_loss=0.224, val_accuracy=0.945] \n",
      "Validating: 0it [00:00, ?it/s]\u001b[A\n",
      "Validating:   0%|          | 0/29 [00:00<?, ?it/s]\u001b[A\n",
      "Epoch 167:  89%|████████▉ | 228/255 [02:41<00:19,  1.41it/s, loss=0.043, v_num=3, train_loss=0.00866, train_accuracy=1.000, val_loss=0.224, val_accuracy=0.945]\n",
      "Validating:   7%|▋         | 2/29 [00:03<00:44,  1.66s/it]\u001b[A\n",
      "Epoch 167:  90%|█████████ | 230/255 [02:41<00:17,  1.42it/s, loss=0.043, v_num=3, train_loss=0.00866, train_accuracy=1.000, val_loss=0.224, val_accuracy=0.945]\n",
      "Validating:  14%|█▍        | 4/29 [00:04<00:16,  1.50it/s]\u001b[A\n",
      "Epoch 167:  91%|█████████ | 232/255 [02:42<00:16,  1.43it/s, loss=0.043, v_num=3, train_loss=0.00866, train_accuracy=1.000, val_loss=0.224, val_accuracy=0.945]\n",
      "Validating:  21%|██        | 6/29 [00:04<00:08,  2.58it/s]\u001b[A\n",
      "Epoch 167:  92%|█████████▏| 234/255 [02:42<00:14,  1.44it/s, loss=0.043, v_num=3, train_loss=0.00866, train_accuracy=1.000, val_loss=0.224, val_accuracy=0.945]\n",
      "Validating:  28%|██▊       | 8/29 [00:05<00:05,  3.66it/s]\u001b[A\n",
      "Epoch 167:  93%|█████████▎| 236/255 [02:42<00:13,  1.45it/s, loss=0.043, v_num=3, train_loss=0.00866, train_accuracy=1.000, val_loss=0.224, val_accuracy=0.945]\n",
      "Validating:  34%|███▍      | 10/29 [00:05<00:04,  4.45it/s]\u001b[A\n",
      "Epoch 167:  93%|█████████▎| 238/255 [02:43<00:11,  1.46it/s, loss=0.043, v_num=3, train_loss=0.00866, train_accuracy=1.000, val_loss=0.224, val_accuracy=0.945]\n",
      "Validating:  41%|████▏     | 12/29 [00:05<00:03,  5.03it/s]\u001b[A\n",
      "Epoch 167:  94%|█████████▍| 240/255 [02:43<00:10,  1.47it/s, loss=0.043, v_num=3, train_loss=0.00866, train_accuracy=1.000, val_loss=0.224, val_accuracy=0.945]\n",
      "Validating:  48%|████▊     | 14/29 [00:06<00:02,  5.23it/s]\u001b[A\n",
      "Epoch 167:  95%|█████████▍| 242/255 [02:43<00:08,  1.48it/s, loss=0.043, v_num=3, train_loss=0.00866, train_accuracy=1.000, val_loss=0.224, val_accuracy=0.945]\n",
      "Validating:  55%|█████▌    | 16/29 [00:06<00:02,  5.48it/s]\u001b[A\n",
      "Epoch 167:  96%|█████████▌| 244/255 [02:44<00:07,  1.49it/s, loss=0.043, v_num=3, train_loss=0.00866, train_accuracy=1.000, val_loss=0.224, val_accuracy=0.945]\n",
      "Validating:  62%|██████▏   | 18/29 [00:06<00:01,  5.58it/s]\u001b[A\n",
      "Epoch 167:  96%|█████████▋| 246/255 [02:44<00:06,  1.49it/s, loss=0.043, v_num=3, train_loss=0.00866, train_accuracy=1.000, val_loss=0.224, val_accuracy=0.945]\n",
      "Validating:  69%|██████▉   | 20/29 [00:07<00:01,  5.66it/s]\u001b[A\n",
      "Epoch 167:  97%|█████████▋| 248/255 [02:44<00:04,  1.50it/s, loss=0.043, v_num=3, train_loss=0.00866, train_accuracy=1.000, val_loss=0.224, val_accuracy=0.945]\n",
      "Validating:  76%|███████▌  | 22/29 [00:07<00:01,  5.65it/s]\u001b[A\n",
      "Epoch 167:  98%|█████████▊| 250/255 [02:45<00:03,  1.51it/s, loss=0.043, v_num=3, train_loss=0.00866, train_accuracy=1.000, val_loss=0.224, val_accuracy=0.945]\n",
      "Validating:  83%|████████▎ | 24/29 [00:07<00:00,  5.61it/s]\u001b[A\n",
      "Epoch 167:  99%|█████████▉| 252/255 [02:45<00:01,  1.52it/s, loss=0.043, v_num=3, train_loss=0.00866, train_accuracy=1.000, val_loss=0.224, val_accuracy=0.945]\n",
      "Validating:  90%|████████▉ | 26/29 [00:08<00:00,  5.56it/s]\u001b[A\n",
      "Epoch 167: 100%|█████████▉| 254/255 [02:46<00:00,  1.53it/s, loss=0.043, v_num=3, train_loss=0.00866, train_accuracy=1.000, val_loss=0.224, val_accuracy=0.945]\n",
      "Validating:  97%|█████████▋| 28/29 [00:08<00:00,  5.54it/s]\u001b[A\n",
      "Epoch 167: 100%|██████████| 255/255 [02:46<00:00,  1.53it/s, loss=0.043, v_num=3, train_loss=0.00866, train_accuracy=1.000, val_loss=0.160, val_accuracy=0.951]\n",
      "Epoch 167: 100%|██████████| 255/255 [02:46<00:00,  1.53it/s, loss=0.043, v_num=3, train_loss=0.00866, train_accuracy=1.000, val_loss=0.160, val_accuracy=0.951]"
     ]
    },
    {
     "name": "stderr",
     "output_type": "stream",
     "text": [
      "Epoch 167, global step 37967: val_loss was not in top 2\n"
     ]
    },
    {
     "name": "stdout",
     "output_type": "stream",
     "text": [
      "Epoch 168:  89%|████████▊ | 226/255 [02:34<00:19,  1.46it/s, loss=0.0362, v_num=3, train_loss=0.00185, train_accuracy=1.000, val_loss=0.160, val_accuracy=0.951] \n",
      "Validating: 0it [00:00, ?it/s]\u001b[A\n",
      "Validating:   0%|          | 0/29 [00:00<?, ?it/s]\u001b[A\n",
      "Epoch 168:  89%|████████▉ | 228/255 [02:38<00:18,  1.44it/s, loss=0.0362, v_num=3, train_loss=0.00185, train_accuracy=1.000, val_loss=0.160, val_accuracy=0.951]\n",
      "Validating:   7%|▋         | 2/29 [00:04<00:45,  1.68s/it]\u001b[A\n",
      "Epoch 168:  90%|█████████ | 230/255 [02:39<00:17,  1.45it/s, loss=0.0362, v_num=3, train_loss=0.00185, train_accuracy=1.000, val_loss=0.160, val_accuracy=0.951]\n",
      "Validating:  14%|█▍        | 4/29 [00:04<00:17,  1.46it/s]\u001b[A\n",
      "Epoch 168:  91%|█████████ | 232/255 [02:39<00:15,  1.46it/s, loss=0.0362, v_num=3, train_loss=0.00185, train_accuracy=1.000, val_loss=0.160, val_accuracy=0.951]\n",
      "Validating:  21%|██        | 6/29 [00:04<00:09,  2.55it/s]\u001b[A\n",
      "Epoch 168:  92%|█████████▏| 234/255 [02:39<00:14,  1.46it/s, loss=0.0362, v_num=3, train_loss=0.00185, train_accuracy=1.000, val_loss=0.160, val_accuracy=0.951]\n",
      "Validating:  28%|██▊       | 8/29 [00:05<00:05,  3.64it/s]\u001b[A\n",
      "Epoch 168:  93%|█████████▎| 236/255 [02:40<00:12,  1.47it/s, loss=0.0362, v_num=3, train_loss=0.00185, train_accuracy=1.000, val_loss=0.160, val_accuracy=0.951]\n",
      "Validating:  34%|███▍      | 10/29 [00:05<00:04,  4.51it/s]\u001b[A\n",
      "Epoch 168:  93%|█████████▎| 238/255 [02:40<00:11,  1.48it/s, loss=0.0362, v_num=3, train_loss=0.00185, train_accuracy=1.000, val_loss=0.160, val_accuracy=0.951]\n",
      "Validating:  41%|████▏     | 12/29 [00:05<00:03,  5.01it/s]\u001b[A\n",
      "Epoch 168:  94%|█████████▍| 240/255 [02:40<00:10,  1.49it/s, loss=0.0362, v_num=3, train_loss=0.00185, train_accuracy=1.000, val_loss=0.160, val_accuracy=0.951]\n",
      "Validating:  48%|████▊     | 14/29 [00:06<00:02,  5.33it/s]\u001b[A\n",
      "Epoch 168:  95%|█████████▍| 242/255 [02:41<00:08,  1.50it/s, loss=0.0362, v_num=3, train_loss=0.00185, train_accuracy=1.000, val_loss=0.160, val_accuracy=0.951]\n",
      "Validating:  55%|█████▌    | 16/29 [00:06<00:02,  5.43it/s]\u001b[A\n",
      "Epoch 168:  96%|█████████▌| 244/255 [02:41<00:07,  1.51it/s, loss=0.0362, v_num=3, train_loss=0.00185, train_accuracy=1.000, val_loss=0.160, val_accuracy=0.951]\n",
      "Validating:  62%|██████▏   | 18/29 [00:06<00:01,  5.54it/s]\u001b[A\n",
      "Epoch 168:  96%|█████████▋| 246/255 [02:41<00:05,  1.52it/s, loss=0.0362, v_num=3, train_loss=0.00185, train_accuracy=1.000, val_loss=0.160, val_accuracy=0.951]\n",
      "Validating:  69%|██████▉   | 20/29 [00:07<00:01,  5.60it/s]\u001b[A\n",
      "Epoch 168:  97%|█████████▋| 248/255 [02:42<00:04,  1.53it/s, loss=0.0362, v_num=3, train_loss=0.00185, train_accuracy=1.000, val_loss=0.160, val_accuracy=0.951]\n",
      "Validating:  76%|███████▌  | 22/29 [00:07<00:01,  5.68it/s]\u001b[A\n",
      "Epoch 168:  98%|█████████▊| 250/255 [02:42<00:03,  1.54it/s, loss=0.0362, v_num=3, train_loss=0.00185, train_accuracy=1.000, val_loss=0.160, val_accuracy=0.951]\n",
      "Validating:  83%|████████▎ | 24/29 [00:07<00:00,  5.62it/s]\u001b[A\n",
      "Epoch 168:  99%|█████████▉| 252/255 [02:42<00:01,  1.55it/s, loss=0.0362, v_num=3, train_loss=0.00185, train_accuracy=1.000, val_loss=0.160, val_accuracy=0.951]\n",
      "Validating:  90%|████████▉ | 26/29 [00:08<00:00,  5.63it/s]\u001b[A\n",
      "Epoch 168: 100%|█████████▉| 254/255 [02:43<00:00,  1.56it/s, loss=0.0362, v_num=3, train_loss=0.00185, train_accuracy=1.000, val_loss=0.160, val_accuracy=0.951]\n",
      "Validating:  97%|█████████▋| 28/29 [00:08<00:00,  5.62it/s]\u001b[A\n",
      "Epoch 168: 100%|██████████| 255/255 [02:44<00:00,  1.55it/s, loss=0.0362, v_num=3, train_loss=0.00185, train_accuracy=1.000, val_loss=0.175, val_accuracy=0.956]\n",
      "Epoch 168: 100%|██████████| 255/255 [02:44<00:00,  1.55it/s, loss=0.0362, v_num=3, train_loss=0.00185, train_accuracy=1.000, val_loss=0.175, val_accuracy=0.956]"
     ]
    },
    {
     "name": "stderr",
     "output_type": "stream",
     "text": [
      "Epoch 168, global step 38193: val_loss was not in top 2\n"
     ]
    },
    {
     "name": "stdout",
     "output_type": "stream",
     "text": [
      "Epoch 169:  89%|████████▊ | 226/255 [02:37<00:20,  1.43it/s, loss=0.0425, v_num=3, train_loss=0.0097, train_accuracy=1.000, val_loss=0.175, val_accuracy=0.956] \n",
      "Validating: 0it [00:00, ?it/s]\u001b[A\n",
      "Validating:   0%|          | 0/29 [00:00<?, ?it/s]\u001b[A\n",
      "Epoch 169:  89%|████████▉ | 228/255 [02:41<00:19,  1.41it/s, loss=0.0425, v_num=3, train_loss=0.0097, train_accuracy=1.000, val_loss=0.175, val_accuracy=0.956]\n",
      "Validating:   7%|▋         | 2/29 [00:03<00:44,  1.67s/it]\u001b[A\n",
      "Epoch 169:  90%|█████████ | 230/255 [02:41<00:17,  1.42it/s, loss=0.0425, v_num=3, train_loss=0.0097, train_accuracy=1.000, val_loss=0.175, val_accuracy=0.956]\n",
      "Validating:  14%|█▍        | 4/29 [00:04<00:16,  1.50it/s]\u001b[A\n",
      "Epoch 169:  91%|█████████ | 232/255 [02:42<00:16,  1.43it/s, loss=0.0425, v_num=3, train_loss=0.0097, train_accuracy=1.000, val_loss=0.175, val_accuracy=0.956]\n",
      "Validating:  21%|██        | 6/29 [00:04<00:08,  2.57it/s]\u001b[A\n",
      "Epoch 169:  92%|█████████▏| 234/255 [02:42<00:14,  1.44it/s, loss=0.0425, v_num=3, train_loss=0.0097, train_accuracy=1.000, val_loss=0.175, val_accuracy=0.956]\n",
      "Validating:  28%|██▊       | 8/29 [00:05<00:05,  3.58it/s]\u001b[A\n",
      "Epoch 169:  93%|█████████▎| 236/255 [02:42<00:13,  1.45it/s, loss=0.0425, v_num=3, train_loss=0.0097, train_accuracy=1.000, val_loss=0.175, val_accuracy=0.956]\n",
      "Validating:  34%|███▍      | 10/29 [00:05<00:04,  4.42it/s]\u001b[A\n",
      "Epoch 169:  93%|█████████▎| 238/255 [02:43<00:11,  1.46it/s, loss=0.0425, v_num=3, train_loss=0.0097, train_accuracy=1.000, val_loss=0.175, val_accuracy=0.956]\n",
      "Validating:  41%|████▏     | 12/29 [00:05<00:03,  4.95it/s]\u001b[A\n",
      "Epoch 169:  94%|█████████▍| 240/255 [02:43<00:10,  1.47it/s, loss=0.0425, v_num=3, train_loss=0.0097, train_accuracy=1.000, val_loss=0.175, val_accuracy=0.956]\n",
      "Validating:  48%|████▊     | 14/29 [00:06<00:02,  5.27it/s]\u001b[A\n",
      "Epoch 169:  95%|█████████▍| 242/255 [02:43<00:08,  1.48it/s, loss=0.0425, v_num=3, train_loss=0.0097, train_accuracy=1.000, val_loss=0.175, val_accuracy=0.956]\n",
      "Validating:  55%|█████▌    | 16/29 [00:06<00:02,  5.46it/s]\u001b[A\n",
      "Epoch 169:  96%|█████████▌| 244/255 [02:44<00:07,  1.49it/s, loss=0.0425, v_num=3, train_loss=0.0097, train_accuracy=1.000, val_loss=0.175, val_accuracy=0.956]\n",
      "Validating:  62%|██████▏   | 18/29 [00:06<00:01,  5.51it/s]\u001b[A\n",
      "Epoch 169:  96%|█████████▋| 246/255 [02:44<00:06,  1.49it/s, loss=0.0425, v_num=3, train_loss=0.0097, train_accuracy=1.000, val_loss=0.175, val_accuracy=0.956]\n",
      "Validating:  69%|██████▉   | 20/29 [00:07<00:01,  5.55it/s]\u001b[A\n",
      "Epoch 169:  97%|█████████▋| 248/255 [02:44<00:04,  1.50it/s, loss=0.0425, v_num=3, train_loss=0.0097, train_accuracy=1.000, val_loss=0.175, val_accuracy=0.956]\n",
      "Validating:  76%|███████▌  | 22/29 [00:07<00:01,  5.61it/s]\u001b[A\n",
      "Epoch 169:  98%|█████████▊| 250/255 [02:45<00:03,  1.51it/s, loss=0.0425, v_num=3, train_loss=0.0097, train_accuracy=1.000, val_loss=0.175, val_accuracy=0.956]\n",
      "Validating:  83%|████████▎ | 24/29 [00:07<00:00,  5.59it/s]\u001b[A\n",
      "Epoch 169:  99%|█████████▉| 252/255 [02:45<00:01,  1.52it/s, loss=0.0425, v_num=3, train_loss=0.0097, train_accuracy=1.000, val_loss=0.175, val_accuracy=0.956]\n",
      "Validating:  90%|████████▉ | 26/29 [00:08<00:00,  5.57it/s]\u001b[A\n",
      "Epoch 169: 100%|█████████▉| 254/255 [02:45<00:00,  1.53it/s, loss=0.0425, v_num=3, train_loss=0.0097, train_accuracy=1.000, val_loss=0.175, val_accuracy=0.956]\n",
      "Validating:  97%|█████████▋| 28/29 [00:08<00:00,  5.57it/s]\u001b[A\n",
      "Epoch 169: 100%|██████████| 255/255 [02:46<00:00,  1.53it/s, loss=0.0425, v_num=3, train_loss=0.0097, train_accuracy=1.000, val_loss=0.152, val_accuracy=0.953]\n",
      "Epoch 169: 100%|██████████| 255/255 [02:46<00:00,  1.53it/s, loss=0.0425, v_num=3, train_loss=0.0097, train_accuracy=1.000, val_loss=0.152, val_accuracy=0.953]"
     ]
    },
    {
     "name": "stderr",
     "output_type": "stream",
     "text": [
      "Epoch 169, global step 38419: val_loss was not in top 2\n"
     ]
    },
    {
     "name": "stdout",
     "output_type": "stream",
     "text": [
      "Epoch 170:  89%|████████▊ | 226/255 [02:37<00:20,  1.43it/s, loss=0.0269, v_num=3, train_loss=0.00239, train_accuracy=1.000, val_loss=0.152, val_accuracy=0.953]\n",
      "Validating: 0it [00:00, ?it/s]\u001b[A\n",
      "Validating:   0%|          | 0/29 [00:00<?, ?it/s]\u001b[A\n",
      "Epoch 170:  89%|████████▉ | 228/255 [02:41<00:19,  1.41it/s, loss=0.0269, v_num=3, train_loss=0.00239, train_accuracy=1.000, val_loss=0.152, val_accuracy=0.953]\n",
      "Validating:   7%|▋         | 2/29 [00:03<00:45,  1.67s/it]\u001b[A\n",
      "Epoch 170:  90%|█████████ | 230/255 [02:42<00:17,  1.42it/s, loss=0.0269, v_num=3, train_loss=0.00239, train_accuracy=1.000, val_loss=0.152, val_accuracy=0.953]\n",
      "Validating:  14%|█▍        | 4/29 [00:04<00:16,  1.49it/s]\u001b[A\n",
      "Epoch 170:  91%|█████████ | 232/255 [02:42<00:16,  1.43it/s, loss=0.0269, v_num=3, train_loss=0.00239, train_accuracy=1.000, val_loss=0.152, val_accuracy=0.953]\n",
      "Validating:  21%|██        | 6/29 [00:04<00:08,  2.57it/s]\u001b[A\n",
      "Epoch 170:  92%|█████████▏| 234/255 [02:42<00:14,  1.44it/s, loss=0.0269, v_num=3, train_loss=0.00239, train_accuracy=1.000, val_loss=0.152, val_accuracy=0.953]\n",
      "Validating:  28%|██▊       | 8/29 [00:05<00:05,  3.62it/s]\u001b[A\n",
      "Epoch 170:  93%|█████████▎| 236/255 [02:43<00:13,  1.45it/s, loss=0.0269, v_num=3, train_loss=0.00239, train_accuracy=1.000, val_loss=0.152, val_accuracy=0.953]\n",
      "Validating:  34%|███▍      | 10/29 [00:05<00:04,  4.46it/s]\u001b[A\n",
      "Epoch 170:  93%|█████████▎| 238/255 [02:43<00:11,  1.46it/s, loss=0.0269, v_num=3, train_loss=0.00239, train_accuracy=1.000, val_loss=0.152, val_accuracy=0.953]\n",
      "Validating:  41%|████▏     | 12/29 [00:05<00:03,  5.01it/s]\u001b[A\n",
      "Epoch 170:  94%|█████████▍| 240/255 [02:43<00:10,  1.46it/s, loss=0.0269, v_num=3, train_loss=0.00239, train_accuracy=1.000, val_loss=0.152, val_accuracy=0.953]\n",
      "Validating:  48%|████▊     | 14/29 [00:06<00:02,  5.34it/s]\u001b[A\n",
      "Epoch 170:  95%|█████████▍| 242/255 [02:44<00:08,  1.47it/s, loss=0.0269, v_num=3, train_loss=0.00239, train_accuracy=1.000, val_loss=0.152, val_accuracy=0.953]\n",
      "Validating:  55%|█████▌    | 16/29 [00:06<00:02,  5.51it/s]\u001b[A\n",
      "Epoch 170:  96%|█████████▌| 244/255 [02:44<00:07,  1.48it/s, loss=0.0269, v_num=3, train_loss=0.00239, train_accuracy=1.000, val_loss=0.152, val_accuracy=0.953]\n",
      "Validating:  62%|██████▏   | 18/29 [00:06<00:01,  5.61it/s]\u001b[A\n",
      "Epoch 170:  96%|█████████▋| 246/255 [02:44<00:06,  1.49it/s, loss=0.0269, v_num=3, train_loss=0.00239, train_accuracy=1.000, val_loss=0.152, val_accuracy=0.953]\n",
      "Validating:  69%|██████▉   | 20/29 [00:07<00:01,  5.46it/s]\u001b[A\n",
      "Epoch 170:  97%|█████████▋| 248/255 [02:45<00:04,  1.50it/s, loss=0.0269, v_num=3, train_loss=0.00239, train_accuracy=1.000, val_loss=0.152, val_accuracy=0.953]\n",
      "Validating:  76%|███████▌  | 22/29 [00:07<00:01,  5.59it/s]\u001b[A\n",
      "Epoch 170:  98%|█████████▊| 250/255 [02:45<00:03,  1.51it/s, loss=0.0269, v_num=3, train_loss=0.00239, train_accuracy=1.000, val_loss=0.152, val_accuracy=0.953]\n",
      "Validating:  83%|████████▎ | 24/29 [00:07<00:00,  5.67it/s]\u001b[A\n",
      "Epoch 170:  99%|█████████▉| 252/255 [02:46<00:01,  1.52it/s, loss=0.0269, v_num=3, train_loss=0.00239, train_accuracy=1.000, val_loss=0.152, val_accuracy=0.953]\n",
      "Validating:  90%|████████▉ | 26/29 [00:08<00:00,  5.72it/s]\u001b[A\n",
      "Epoch 170: 100%|█████████▉| 254/255 [02:46<00:00,  1.53it/s, loss=0.0269, v_num=3, train_loss=0.00239, train_accuracy=1.000, val_loss=0.152, val_accuracy=0.953]\n",
      "Validating:  97%|█████████▋| 28/29 [00:08<00:00,  5.59it/s]\u001b[A\n",
      "Epoch 170: 100%|██████████| 255/255 [02:47<00:00,  1.52it/s, loss=0.0269, v_num=3, train_loss=0.00239, train_accuracy=1.000, val_loss=0.179, val_accuracy=0.952]\n",
      "Epoch 170: 100%|██████████| 255/255 [02:47<00:00,  1.52it/s, loss=0.0269, v_num=3, train_loss=0.00239, train_accuracy=1.000, val_loss=0.179, val_accuracy=0.952]"
     ]
    },
    {
     "name": "stderr",
     "output_type": "stream",
     "text": [
      "Epoch 170, global step 38645: val_loss was not in top 2\n"
     ]
    },
    {
     "name": "stdout",
     "output_type": "stream",
     "text": [
      "Epoch 171:  89%|████████▊ | 226/255 [02:37<00:20,  1.43it/s, loss=0.0298, v_num=3, train_loss=0.00356, train_accuracy=1.000, val_loss=0.179, val_accuracy=0.952] \n",
      "Validating: 0it [00:00, ?it/s]\u001b[A\n",
      "Validating:   0%|          | 0/29 [00:00<?, ?it/s]\u001b[A\n",
      "Epoch 171:  89%|████████▉ | 228/255 [02:41<00:19,  1.41it/s, loss=0.0298, v_num=3, train_loss=0.00356, train_accuracy=1.000, val_loss=0.179, val_accuracy=0.952]\n",
      "Validating:   7%|▋         | 2/29 [00:03<00:44,  1.66s/it]\u001b[A\n",
      "Epoch 171:  90%|█████████ | 230/255 [02:41<00:17,  1.42it/s, loss=0.0298, v_num=3, train_loss=0.00356, train_accuracy=1.000, val_loss=0.179, val_accuracy=0.952]\n",
      "Validating:  14%|█▍        | 4/29 [00:04<00:16,  1.49it/s]\u001b[A\n",
      "Epoch 171:  91%|█████████ | 232/255 [02:42<00:16,  1.43it/s, loss=0.0298, v_num=3, train_loss=0.00356, train_accuracy=1.000, val_loss=0.179, val_accuracy=0.952]\n",
      "Validating:  21%|██        | 6/29 [00:04<00:08,  2.59it/s]\u001b[A\n",
      "Epoch 171:  92%|█████████▏| 234/255 [02:42<00:14,  1.44it/s, loss=0.0298, v_num=3, train_loss=0.00356, train_accuracy=1.000, val_loss=0.179, val_accuracy=0.952]\n",
      "Validating:  28%|██▊       | 8/29 [00:05<00:05,  3.67it/s]\u001b[A\n",
      "Epoch 171:  93%|█████████▎| 236/255 [02:43<00:13,  1.45it/s, loss=0.0298, v_num=3, train_loss=0.00356, train_accuracy=1.000, val_loss=0.179, val_accuracy=0.952]\n",
      "Validating:  34%|███▍      | 10/29 [00:05<00:04,  4.52it/s]\u001b[A\n",
      "Epoch 171:  93%|█████████▎| 238/255 [02:43<00:11,  1.46it/s, loss=0.0298, v_num=3, train_loss=0.00356, train_accuracy=1.000, val_loss=0.179, val_accuracy=0.952]\n",
      "Validating:  41%|████▏     | 12/29 [00:05<00:03,  4.96it/s]\u001b[A\n",
      "Epoch 171:  94%|█████████▍| 240/255 [02:43<00:10,  1.47it/s, loss=0.0298, v_num=3, train_loss=0.00356, train_accuracy=1.000, val_loss=0.179, val_accuracy=0.952]\n",
      "Validating:  48%|████▊     | 14/29 [00:06<00:02,  5.32it/s]\u001b[A\n",
      "Epoch 171:  95%|█████████▍| 242/255 [02:44<00:08,  1.47it/s, loss=0.0298, v_num=3, train_loss=0.00356, train_accuracy=1.000, val_loss=0.179, val_accuracy=0.952]\n",
      "Validating:  55%|█████▌    | 16/29 [00:06<00:02,  5.48it/s]\u001b[A\n",
      "Epoch 171:  96%|█████████▌| 244/255 [02:44<00:07,  1.48it/s, loss=0.0298, v_num=3, train_loss=0.00356, train_accuracy=1.000, val_loss=0.179, val_accuracy=0.952]\n",
      "Validating:  62%|██████▏   | 18/29 [00:06<00:01,  5.60it/s]\u001b[A\n",
      "Epoch 171:  96%|█████████▋| 246/255 [02:44<00:06,  1.49it/s, loss=0.0298, v_num=3, train_loss=0.00356, train_accuracy=1.000, val_loss=0.179, val_accuracy=0.952]\n",
      "Validating:  69%|██████▉   | 20/29 [00:07<00:01,  5.67it/s]\u001b[A\n",
      "Epoch 171:  97%|█████████▋| 248/255 [02:45<00:04,  1.50it/s, loss=0.0298, v_num=3, train_loss=0.00356, train_accuracy=1.000, val_loss=0.179, val_accuracy=0.952]\n",
      "Validating:  76%|███████▌  | 22/29 [00:07<00:01,  5.69it/s]\u001b[A\n",
      "Epoch 171:  98%|█████████▊| 250/255 [02:45<00:03,  1.51it/s, loss=0.0298, v_num=3, train_loss=0.00356, train_accuracy=1.000, val_loss=0.179, val_accuracy=0.952]\n",
      "Validating:  83%|████████▎ | 24/29 [00:07<00:00,  5.59it/s]\u001b[A\n",
      "Epoch 171:  99%|█████████▉| 252/255 [02:45<00:01,  1.52it/s, loss=0.0298, v_num=3, train_loss=0.00356, train_accuracy=1.000, val_loss=0.179, val_accuracy=0.952]\n",
      "Validating:  90%|████████▉ | 26/29 [00:08<00:00,  5.67it/s]\u001b[A\n",
      "Epoch 171: 100%|█████████▉| 254/255 [02:46<00:00,  1.53it/s, loss=0.0298, v_num=3, train_loss=0.00356, train_accuracy=1.000, val_loss=0.179, val_accuracy=0.952]\n",
      "Validating:  97%|█████████▋| 28/29 [00:08<00:00,  5.63it/s]\u001b[A\n",
      "Epoch 171: 100%|██████████| 255/255 [02:47<00:00,  1.53it/s, loss=0.0298, v_num=3, train_loss=0.00356, train_accuracy=1.000, val_loss=0.146, val_accuracy=0.951]\n",
      "Epoch 171: 100%|██████████| 255/255 [02:47<00:00,  1.53it/s, loss=0.0298, v_num=3, train_loss=0.00356, train_accuracy=1.000, val_loss=0.146, val_accuracy=0.951]"
     ]
    },
    {
     "name": "stderr",
     "output_type": "stream",
     "text": [
      "Epoch 171, global step 38871: val_loss was not in top 2\n"
     ]
    },
    {
     "name": "stdout",
     "output_type": "stream",
     "text": [
      "Epoch 172:  89%|████████▊ | 226/255 [02:38<00:20,  1.43it/s, loss=0.0275, v_num=3, train_loss=0.000403, train_accuracy=1.000, val_loss=0.146, val_accuracy=0.951]\n",
      "Validating: 0it [00:00, ?it/s]\u001b[A\n",
      "Validating:   0%|          | 0/29 [00:00<?, ?it/s]\u001b[A\n",
      "Epoch 172:  89%|████████▉ | 228/255 [02:41<00:19,  1.41it/s, loss=0.0275, v_num=3, train_loss=0.000403, train_accuracy=1.000, val_loss=0.146, val_accuracy=0.951]\n",
      "Validating:   7%|▋         | 2/29 [00:03<00:45,  1.67s/it]\u001b[A\n",
      "Epoch 172:  90%|█████████ | 230/255 [02:42<00:17,  1.42it/s, loss=0.0275, v_num=3, train_loss=0.000403, train_accuracy=1.000, val_loss=0.146, val_accuracy=0.951]\n",
      "Validating:  14%|█▍        | 4/29 [00:04<00:16,  1.50it/s]\u001b[A\n",
      "Epoch 172:  91%|█████████ | 232/255 [02:42<00:16,  1.43it/s, loss=0.0275, v_num=3, train_loss=0.000403, train_accuracy=1.000, val_loss=0.146, val_accuracy=0.951]\n",
      "Validating:  21%|██        | 6/29 [00:04<00:08,  2.59it/s]\u001b[A\n",
      "Epoch 172:  92%|█████████▏| 234/255 [02:43<00:14,  1.44it/s, loss=0.0275, v_num=3, train_loss=0.000403, train_accuracy=1.000, val_loss=0.146, val_accuracy=0.951]\n",
      "Validating:  28%|██▊       | 8/29 [00:05<00:05,  3.63it/s]\u001b[A\n",
      "Epoch 172:  93%|█████████▎| 236/255 [02:43<00:13,  1.44it/s, loss=0.0275, v_num=3, train_loss=0.000403, train_accuracy=1.000, val_loss=0.146, val_accuracy=0.951]\n",
      "Validating:  34%|███▍      | 10/29 [00:05<00:04,  4.44it/s]\u001b[A\n",
      "Epoch 172:  93%|█████████▎| 238/255 [02:43<00:11,  1.45it/s, loss=0.0275, v_num=3, train_loss=0.000403, train_accuracy=1.000, val_loss=0.146, val_accuracy=0.951]\n",
      "Validating:  41%|████▏     | 12/29 [00:05<00:03,  4.98it/s]\u001b[A\n",
      "Epoch 172:  94%|█████████▍| 240/255 [02:44<00:10,  1.46it/s, loss=0.0275, v_num=3, train_loss=0.000403, train_accuracy=1.000, val_loss=0.146, val_accuracy=0.951]\n",
      "Validating:  48%|████▊     | 14/29 [00:06<00:02,  5.25it/s]\u001b[A\n",
      "Epoch 172:  95%|█████████▍| 242/255 [02:44<00:08,  1.47it/s, loss=0.0275, v_num=3, train_loss=0.000403, train_accuracy=1.000, val_loss=0.146, val_accuracy=0.951]\n",
      "Validating:  55%|█████▌    | 16/29 [00:06<00:02,  5.45it/s]\u001b[A\n",
      "Epoch 172:  96%|█████████▌| 244/255 [02:44<00:07,  1.48it/s, loss=0.0275, v_num=3, train_loss=0.000403, train_accuracy=1.000, val_loss=0.146, val_accuracy=0.951]\n",
      "Validating:  62%|██████▏   | 18/29 [00:06<00:02,  5.36it/s]\u001b[A\n",
      "Epoch 172:  96%|█████████▋| 246/255 [02:45<00:06,  1.49it/s, loss=0.0275, v_num=3, train_loss=0.000403, train_accuracy=1.000, val_loss=0.146, val_accuracy=0.951]\n",
      "Validating:  69%|██████▉   | 20/29 [00:07<00:01,  5.47it/s]\u001b[A\n",
      "Epoch 172:  97%|█████████▋| 248/255 [02:45<00:04,  1.50it/s, loss=0.0275, v_num=3, train_loss=0.000403, train_accuracy=1.000, val_loss=0.146, val_accuracy=0.951]\n",
      "Validating:  76%|███████▌  | 22/29 [00:07<00:01,  5.58it/s]\u001b[A\n",
      "Epoch 172:  98%|█████████▊| 250/255 [02:45<00:03,  1.51it/s, loss=0.0275, v_num=3, train_loss=0.000403, train_accuracy=1.000, val_loss=0.146, val_accuracy=0.951]\n",
      "Validating:  83%|████████▎ | 24/29 [00:07<00:00,  5.61it/s]\u001b[A\n",
      "Epoch 172:  99%|█████████▉| 252/255 [02:46<00:01,  1.52it/s, loss=0.0275, v_num=3, train_loss=0.000403, train_accuracy=1.000, val_loss=0.146, val_accuracy=0.951]\n",
      "Validating:  90%|████████▉ | 26/29 [00:08<00:00,  5.59it/s]\u001b[A\n",
      "Epoch 172: 100%|█████████▉| 254/255 [02:46<00:00,  1.52it/s, loss=0.0275, v_num=3, train_loss=0.000403, train_accuracy=1.000, val_loss=0.146, val_accuracy=0.951]\n",
      "Validating:  97%|█████████▋| 28/29 [00:08<00:00,  5.56it/s]\u001b[A\n",
      "Epoch 172: 100%|██████████| 255/255 [02:47<00:00,  1.52it/s, loss=0.0275, v_num=3, train_loss=0.000403, train_accuracy=1.000, val_loss=0.165, val_accuracy=0.961]\n",
      "Epoch 172: 100%|██████████| 255/255 [02:47<00:00,  1.52it/s, loss=0.0275, v_num=3, train_loss=0.000403, train_accuracy=1.000, val_loss=0.165, val_accuracy=0.961]"
     ]
    },
    {
     "name": "stderr",
     "output_type": "stream",
     "text": [
      "Epoch 172, global step 39097: val_loss was not in top 2\n"
     ]
    },
    {
     "name": "stdout",
     "output_type": "stream",
     "text": [
      "Epoch 173:  89%|████████▊ | 226/255 [02:37<00:20,  1.43it/s, loss=0.051, v_num=3, train_loss=0.176, train_accuracy=0.889, val_loss=0.165, val_accuracy=0.961]    \n",
      "Validating: 0it [00:00, ?it/s]\u001b[A\n",
      "Validating:   0%|          | 0/29 [00:00<?, ?it/s]\u001b[A\n",
      "Epoch 173:  89%|████████▉ | 228/255 [02:41<00:19,  1.41it/s, loss=0.051, v_num=3, train_loss=0.176, train_accuracy=0.889, val_loss=0.165, val_accuracy=0.961]\n",
      "Validating:   7%|▋         | 2/29 [00:03<00:45,  1.67s/it]\u001b[A\n",
      "Epoch 173:  90%|█████████ | 230/255 [02:42<00:17,  1.42it/s, loss=0.051, v_num=3, train_loss=0.176, train_accuracy=0.889, val_loss=0.165, val_accuracy=0.961]\n",
      "Validating:  14%|█▍        | 4/29 [00:04<00:16,  1.50it/s]\u001b[A\n",
      "Epoch 173:  91%|█████████ | 232/255 [02:42<00:16,  1.43it/s, loss=0.051, v_num=3, train_loss=0.176, train_accuracy=0.889, val_loss=0.165, val_accuracy=0.961]\n",
      "Validating:  21%|██        | 6/29 [00:04<00:08,  2.58it/s]\u001b[A\n",
      "Epoch 173:  92%|█████████▏| 234/255 [02:42<00:14,  1.44it/s, loss=0.051, v_num=3, train_loss=0.176, train_accuracy=0.889, val_loss=0.165, val_accuracy=0.961]\n",
      "Validating:  28%|██▊       | 8/29 [00:05<00:05,  3.64it/s]\u001b[A\n",
      "Epoch 173:  93%|█████████▎| 236/255 [02:43<00:13,  1.45it/s, loss=0.051, v_num=3, train_loss=0.176, train_accuracy=0.889, val_loss=0.165, val_accuracy=0.961]\n",
      "Validating:  34%|███▍      | 10/29 [00:05<00:04,  4.40it/s]\u001b[A\n",
      "Epoch 173:  93%|█████████▎| 238/255 [02:43<00:11,  1.46it/s, loss=0.051, v_num=3, train_loss=0.176, train_accuracy=0.889, val_loss=0.165, val_accuracy=0.961]\n",
      "Validating:  41%|████▏     | 12/29 [00:05<00:03,  5.02it/s]\u001b[A\n",
      "Epoch 173:  94%|█████████▍| 240/255 [02:43<00:10,  1.46it/s, loss=0.051, v_num=3, train_loss=0.176, train_accuracy=0.889, val_loss=0.165, val_accuracy=0.961]\n",
      "Validating:  48%|████▊     | 14/29 [00:06<00:02,  5.36it/s]\u001b[A\n",
      "Epoch 173:  95%|█████████▍| 242/255 [02:44<00:08,  1.47it/s, loss=0.051, v_num=3, train_loss=0.176, train_accuracy=0.889, val_loss=0.165, val_accuracy=0.961]\n",
      "Validating:  55%|█████▌    | 16/29 [00:06<00:02,  5.49it/s]\u001b[A\n",
      "Epoch 173:  96%|█████████▌| 244/255 [02:44<00:07,  1.48it/s, loss=0.051, v_num=3, train_loss=0.176, train_accuracy=0.889, val_loss=0.165, val_accuracy=0.961]\n",
      "Validating:  62%|██████▏   | 18/29 [00:06<00:01,  5.54it/s]\u001b[A\n",
      "Epoch 173:  96%|█████████▋| 246/255 [02:44<00:06,  1.49it/s, loss=0.051, v_num=3, train_loss=0.176, train_accuracy=0.889, val_loss=0.165, val_accuracy=0.961]\n",
      "Validating:  69%|██████▉   | 20/29 [00:07<00:01,  5.56it/s]\u001b[A\n",
      "Epoch 173:  97%|█████████▋| 248/255 [02:45<00:04,  1.50it/s, loss=0.051, v_num=3, train_loss=0.176, train_accuracy=0.889, val_loss=0.165, val_accuracy=0.961]\n",
      "Validating:  76%|███████▌  | 22/29 [00:07<00:01,  5.54it/s]\u001b[A\n",
      "Epoch 173:  98%|█████████▊| 250/255 [02:45<00:03,  1.51it/s, loss=0.051, v_num=3, train_loss=0.176, train_accuracy=0.889, val_loss=0.165, val_accuracy=0.961]\n",
      "Validating:  83%|████████▎ | 24/29 [00:07<00:00,  5.61it/s]\u001b[A\n",
      "Epoch 173:  99%|█████████▉| 252/255 [02:45<00:01,  1.52it/s, loss=0.051, v_num=3, train_loss=0.176, train_accuracy=0.889, val_loss=0.165, val_accuracy=0.961]\n",
      "Validating:  90%|████████▉ | 26/29 [00:08<00:00,  5.58it/s]\u001b[A\n",
      "Epoch 173: 100%|█████████▉| 254/255 [02:46<00:00,  1.53it/s, loss=0.051, v_num=3, train_loss=0.176, train_accuracy=0.889, val_loss=0.165, val_accuracy=0.961]\n",
      "Validating:  97%|█████████▋| 28/29 [00:08<00:00,  5.58it/s]\u001b[A\n",
      "Epoch 173: 100%|██████████| 255/255 [02:47<00:00,  1.52it/s, loss=0.051, v_num=3, train_loss=0.176, train_accuracy=0.889, val_loss=0.155, val_accuracy=0.950]\n",
      "Epoch 173: 100%|██████████| 255/255 [02:47<00:00,  1.52it/s, loss=0.051, v_num=3, train_loss=0.176, train_accuracy=0.889, val_loss=0.155, val_accuracy=0.950]"
     ]
    },
    {
     "name": "stderr",
     "output_type": "stream",
     "text": [
      "Epoch 173, global step 39323: val_loss was not in top 2\n"
     ]
    },
    {
     "name": "stdout",
     "output_type": "stream",
     "text": [
      "Epoch 174:  89%|████████▊ | 226/255 [02:37<00:20,  1.43it/s, loss=0.0489, v_num=3, train_loss=0.272, train_accuracy=0.944, val_loss=0.155, val_accuracy=0.950]   \n",
      "Validating: 0it [00:00, ?it/s]\u001b[A\n",
      "Validating:   0%|          | 0/29 [00:00<?, ?it/s]\u001b[A\n",
      "Epoch 174:  89%|████████▉ | 228/255 [02:41<00:19,  1.41it/s, loss=0.0489, v_num=3, train_loss=0.272, train_accuracy=0.944, val_loss=0.155, val_accuracy=0.950]\n",
      "Validating:   7%|▋         | 2/29 [00:03<00:44,  1.66s/it]\u001b[A\n",
      "Epoch 174:  90%|█████████ | 230/255 [02:41<00:17,  1.42it/s, loss=0.0489, v_num=3, train_loss=0.272, train_accuracy=0.944, val_loss=0.155, val_accuracy=0.950]\n",
      "Validating:  14%|█▍        | 4/29 [00:04<00:16,  1.49it/s]\u001b[A\n",
      "Epoch 174:  91%|█████████ | 232/255 [02:42<00:16,  1.43it/s, loss=0.0489, v_num=3, train_loss=0.272, train_accuracy=0.944, val_loss=0.155, val_accuracy=0.950]\n",
      "Validating:  21%|██        | 6/29 [00:04<00:08,  2.59it/s]\u001b[A\n",
      "Epoch 174:  92%|█████████▏| 234/255 [02:42<00:14,  1.44it/s, loss=0.0489, v_num=3, train_loss=0.272, train_accuracy=0.944, val_loss=0.155, val_accuracy=0.950]\n",
      "Validating:  28%|██▊       | 8/29 [00:05<00:05,  3.67it/s]\u001b[A\n",
      "Epoch 174:  93%|█████████▎| 236/255 [02:42<00:13,  1.45it/s, loss=0.0489, v_num=3, train_loss=0.272, train_accuracy=0.944, val_loss=0.155, val_accuracy=0.950]\n",
      "Validating:  34%|███▍      | 10/29 [00:05<00:04,  4.47it/s]\u001b[A\n",
      "Epoch 174:  93%|█████████▎| 238/255 [02:43<00:11,  1.46it/s, loss=0.0489, v_num=3, train_loss=0.272, train_accuracy=0.944, val_loss=0.155, val_accuracy=0.950]\n",
      "Validating:  41%|████▏     | 12/29 [00:05<00:03,  4.98it/s]\u001b[A\n",
      "Epoch 174:  94%|█████████▍| 240/255 [02:43<00:10,  1.47it/s, loss=0.0489, v_num=3, train_loss=0.272, train_accuracy=0.944, val_loss=0.155, val_accuracy=0.950]\n",
      "Validating:  48%|████▊     | 14/29 [00:06<00:02,  5.34it/s]\u001b[A\n",
      "Epoch 174:  95%|█████████▍| 242/255 [02:44<00:08,  1.48it/s, loss=0.0489, v_num=3, train_loss=0.272, train_accuracy=0.944, val_loss=0.155, val_accuracy=0.950]\n",
      "Validating:  55%|█████▌    | 16/29 [00:06<00:02,  5.40it/s]\u001b[A\n",
      "Epoch 174:  96%|█████████▌| 244/255 [02:44<00:07,  1.48it/s, loss=0.0489, v_num=3, train_loss=0.272, train_accuracy=0.944, val_loss=0.155, val_accuracy=0.950]\n",
      "Validating:  62%|██████▏   | 18/29 [00:06<00:01,  5.54it/s]\u001b[A\n",
      "Epoch 174:  96%|█████████▋| 246/255 [02:44<00:06,  1.49it/s, loss=0.0489, v_num=3, train_loss=0.272, train_accuracy=0.944, val_loss=0.155, val_accuracy=0.950]\n",
      "Validating:  69%|██████▉   | 20/29 [00:07<00:01,  5.59it/s]\u001b[A\n",
      "Epoch 174:  97%|█████████▋| 248/255 [02:45<00:04,  1.50it/s, loss=0.0489, v_num=3, train_loss=0.272, train_accuracy=0.944, val_loss=0.155, val_accuracy=0.950]\n",
      "Validating:  76%|███████▌  | 22/29 [00:07<00:01,  5.62it/s]\u001b[A\n",
      "Epoch 174:  98%|█████████▊| 250/255 [02:45<00:03,  1.51it/s, loss=0.0489, v_num=3, train_loss=0.272, train_accuracy=0.944, val_loss=0.155, val_accuracy=0.950]\n",
      "Validating:  83%|████████▎ | 24/29 [00:07<00:00,  5.63it/s]\u001b[A\n",
      "Epoch 174:  99%|█████████▉| 252/255 [02:45<00:01,  1.52it/s, loss=0.0489, v_num=3, train_loss=0.272, train_accuracy=0.944, val_loss=0.155, val_accuracy=0.950]\n",
      "Validating:  90%|████████▉ | 26/29 [00:08<00:00,  5.63it/s]\u001b[A\n",
      "Epoch 174: 100%|█████████▉| 254/255 [02:46<00:00,  1.53it/s, loss=0.0489, v_num=3, train_loss=0.272, train_accuracy=0.944, val_loss=0.155, val_accuracy=0.950]\n",
      "Validating:  97%|█████████▋| 28/29 [00:08<00:00,  5.62it/s]\u001b[A\n",
      "Epoch 174: 100%|██████████| 255/255 [02:47<00:00,  1.53it/s, loss=0.0489, v_num=3, train_loss=0.272, train_accuracy=0.944, val_loss=0.168, val_accuracy=0.956]\n",
      "Epoch 174: 100%|██████████| 255/255 [02:47<00:00,  1.53it/s, loss=0.0489, v_num=3, train_loss=0.272, train_accuracy=0.944, val_loss=0.168, val_accuracy=0.956]"
     ]
    },
    {
     "name": "stderr",
     "output_type": "stream",
     "text": [
      "Epoch 174, global step 39549: val_loss was not in top 2\n"
     ]
    },
    {
     "name": "stdout",
     "output_type": "stream",
     "text": [
      "Epoch 175:  89%|████████▊ | 226/255 [02:37<00:20,  1.43it/s, loss=0.0324, v_num=3, train_loss=0.0162, train_accuracy=1.000, val_loss=0.168, val_accuracy=0.956] \n",
      "Validating: 0it [00:00, ?it/s]\u001b[A\n",
      "Validating:   0%|          | 0/29 [00:00<?, ?it/s]\u001b[A\n",
      "Epoch 175:  89%|████████▉ | 228/255 [02:41<00:19,  1.41it/s, loss=0.0324, v_num=3, train_loss=0.0162, train_accuracy=1.000, val_loss=0.168, val_accuracy=0.956]\n",
      "Validating:   7%|▋         | 2/29 [00:03<00:45,  1.67s/it]\u001b[A\n",
      "Epoch 175:  90%|█████████ | 230/255 [02:42<00:17,  1.42it/s, loss=0.0324, v_num=3, train_loss=0.0162, train_accuracy=1.000, val_loss=0.168, val_accuracy=0.956]\n",
      "Validating:  14%|█▍        | 4/29 [00:04<00:16,  1.49it/s]\u001b[A\n",
      "Epoch 175:  91%|█████████ | 232/255 [02:42<00:16,  1.43it/s, loss=0.0324, v_num=3, train_loss=0.0162, train_accuracy=1.000, val_loss=0.168, val_accuracy=0.956]\n",
      "Validating:  21%|██        | 6/29 [00:04<00:08,  2.59it/s]\u001b[A\n",
      "Epoch 175:  92%|█████████▏| 234/255 [02:42<00:14,  1.44it/s, loss=0.0324, v_num=3, train_loss=0.0162, train_accuracy=1.000, val_loss=0.168, val_accuracy=0.956]\n",
      "Validating:  28%|██▊       | 8/29 [00:05<00:05,  3.62it/s]\u001b[A\n",
      "Epoch 175:  93%|█████████▎| 236/255 [02:43<00:13,  1.45it/s, loss=0.0324, v_num=3, train_loss=0.0162, train_accuracy=1.000, val_loss=0.168, val_accuracy=0.956]\n",
      "Validating:  34%|███▍      | 10/29 [00:05<00:04,  4.44it/s]\u001b[A\n",
      "Epoch 175:  93%|█████████▎| 238/255 [02:43<00:11,  1.46it/s, loss=0.0324, v_num=3, train_loss=0.0162, train_accuracy=1.000, val_loss=0.168, val_accuracy=0.956]\n",
      "Validating:  41%|████▏     | 12/29 [00:05<00:03,  5.02it/s]\u001b[A\n",
      "Epoch 175:  94%|█████████▍| 240/255 [02:43<00:10,  1.47it/s, loss=0.0324, v_num=3, train_loss=0.0162, train_accuracy=1.000, val_loss=0.168, val_accuracy=0.956]\n",
      "Validating:  48%|████▊     | 14/29 [00:06<00:02,  5.32it/s]\u001b[A\n",
      "Epoch 175:  95%|█████████▍| 242/255 [02:44<00:08,  1.47it/s, loss=0.0324, v_num=3, train_loss=0.0162, train_accuracy=1.000, val_loss=0.168, val_accuracy=0.956]\n",
      "Validating:  55%|█████▌    | 16/29 [00:06<00:02,  5.51it/s]\u001b[A\n",
      "Epoch 175:  96%|█████████▌| 244/255 [02:44<00:07,  1.48it/s, loss=0.0324, v_num=3, train_loss=0.0162, train_accuracy=1.000, val_loss=0.168, val_accuracy=0.956]\n",
      "Validating:  62%|██████▏   | 18/29 [00:06<00:01,  5.57it/s]\u001b[A\n",
      "Epoch 175:  96%|█████████▋| 246/255 [02:44<00:06,  1.49it/s, loss=0.0324, v_num=3, train_loss=0.0162, train_accuracy=1.000, val_loss=0.168, val_accuracy=0.956]\n",
      "Validating:  69%|██████▉   | 20/29 [00:07<00:01,  5.58it/s]\u001b[A\n",
      "Epoch 175:  97%|█████████▋| 248/255 [02:45<00:04,  1.50it/s, loss=0.0324, v_num=3, train_loss=0.0162, train_accuracy=1.000, val_loss=0.168, val_accuracy=0.956]\n",
      "Validating:  76%|███████▌  | 22/29 [00:07<00:01,  5.55it/s]\u001b[A\n",
      "Epoch 175:  98%|█████████▊| 250/255 [02:45<00:03,  1.51it/s, loss=0.0324, v_num=3, train_loss=0.0162, train_accuracy=1.000, val_loss=0.168, val_accuracy=0.956]\n",
      "Validating:  83%|████████▎ | 24/29 [00:07<00:00,  5.57it/s]\u001b[A\n",
      "Epoch 175:  99%|█████████▉| 252/255 [02:45<00:01,  1.52it/s, loss=0.0324, v_num=3, train_loss=0.0162, train_accuracy=1.000, val_loss=0.168, val_accuracy=0.956]\n",
      "Validating:  90%|████████▉ | 26/29 [00:08<00:00,  5.58it/s]\u001b[A\n",
      "Epoch 175: 100%|█████████▉| 254/255 [02:46<00:00,  1.53it/s, loss=0.0324, v_num=3, train_loss=0.0162, train_accuracy=1.000, val_loss=0.168, val_accuracy=0.956]\n",
      "Validating:  97%|█████████▋| 28/29 [00:08<00:00,  5.62it/s]\u001b[A\n",
      "Epoch 175: 100%|██████████| 255/255 [02:47<00:00,  1.53it/s, loss=0.0324, v_num=3, train_loss=0.0162, train_accuracy=1.000, val_loss=0.217, val_accuracy=0.945]\n",
      "Epoch 175: 100%|██████████| 255/255 [02:47<00:00,  1.53it/s, loss=0.0324, v_num=3, train_loss=0.0162, train_accuracy=1.000, val_loss=0.217, val_accuracy=0.945]"
     ]
    },
    {
     "name": "stderr",
     "output_type": "stream",
     "text": [
      "Epoch 175, global step 39775: val_loss was not in top 2\n"
     ]
    },
    {
     "name": "stdout",
     "output_type": "stream",
     "text": [
      "Epoch 176:  89%|████████▊ | 226/255 [02:38<00:20,  1.43it/s, loss=0.03, v_num=3, train_loss=0.0729, train_accuracy=0.944, val_loss=0.217, val_accuracy=0.945]   \n",
      "Validating: 0it [00:00, ?it/s]\u001b[A\n",
      "Validating:   0%|          | 0/29 [00:00<?, ?it/s]\u001b[A\n",
      "Epoch 176:  89%|████████▉ | 228/255 [02:41<00:19,  1.41it/s, loss=0.03, v_num=3, train_loss=0.0729, train_accuracy=0.944, val_loss=0.217, val_accuracy=0.945]\n",
      "Validating:   7%|▋         | 2/29 [00:03<00:45,  1.67s/it]\u001b[A\n",
      "Epoch 176:  90%|█████████ | 230/255 [02:42<00:17,  1.42it/s, loss=0.03, v_num=3, train_loss=0.0729, train_accuracy=0.944, val_loss=0.217, val_accuracy=0.945]\n",
      "Validating:  14%|█▍        | 4/29 [00:04<00:16,  1.50it/s]\u001b[A\n",
      "Epoch 176:  91%|█████████ | 232/255 [02:42<00:16,  1.43it/s, loss=0.03, v_num=3, train_loss=0.0729, train_accuracy=0.944, val_loss=0.217, val_accuracy=0.945]\n",
      "Validating:  21%|██        | 6/29 [00:04<00:08,  2.57it/s]\u001b[A\n",
      "Epoch 176:  92%|█████████▏| 234/255 [02:43<00:14,  1.44it/s, loss=0.03, v_num=3, train_loss=0.0729, train_accuracy=0.944, val_loss=0.217, val_accuracy=0.945]\n",
      "Validating:  28%|██▊       | 8/29 [00:05<00:05,  3.64it/s]\u001b[A\n",
      "Epoch 176:  93%|█████████▎| 236/255 [02:43<00:13,  1.44it/s, loss=0.03, v_num=3, train_loss=0.0729, train_accuracy=0.944, val_loss=0.217, val_accuracy=0.945]\n",
      "Validating:  34%|███▍      | 10/29 [00:05<00:04,  4.40it/s]\u001b[A\n",
      "Epoch 176:  93%|█████████▎| 238/255 [02:43<00:11,  1.45it/s, loss=0.03, v_num=3, train_loss=0.0729, train_accuracy=0.944, val_loss=0.217, val_accuracy=0.945]\n",
      "Validating:  41%|████▏     | 12/29 [00:05<00:03,  4.96it/s]\u001b[A\n",
      "Epoch 176:  94%|█████████▍| 240/255 [02:44<00:10,  1.46it/s, loss=0.03, v_num=3, train_loss=0.0729, train_accuracy=0.944, val_loss=0.217, val_accuracy=0.945]\n",
      "Validating:  48%|████▊     | 14/29 [00:06<00:02,  5.28it/s]\u001b[A\n",
      "Epoch 176:  95%|█████████▍| 242/255 [02:44<00:08,  1.47it/s, loss=0.03, v_num=3, train_loss=0.0729, train_accuracy=0.944, val_loss=0.217, val_accuracy=0.945]\n",
      "Validating:  55%|█████▌    | 16/29 [00:06<00:02,  5.48it/s]\u001b[A\n",
      "Epoch 176:  96%|█████████▌| 244/255 [02:44<00:07,  1.48it/s, loss=0.03, v_num=3, train_loss=0.0729, train_accuracy=0.944, val_loss=0.217, val_accuracy=0.945]\n",
      "Validating:  62%|██████▏   | 18/29 [00:06<00:01,  5.57it/s]\u001b[A\n",
      "Epoch 176:  96%|█████████▋| 246/255 [02:45<00:06,  1.49it/s, loss=0.03, v_num=3, train_loss=0.0729, train_accuracy=0.944, val_loss=0.217, val_accuracy=0.945]\n",
      "Validating:  69%|██████▉   | 20/29 [00:07<00:01,  5.51it/s]\u001b[A\n",
      "Epoch 176:  97%|█████████▋| 248/255 [02:45<00:04,  1.50it/s, loss=0.03, v_num=3, train_loss=0.0729, train_accuracy=0.944, val_loss=0.217, val_accuracy=0.945]\n",
      "Validating:  76%|███████▌  | 22/29 [00:07<00:01,  5.66it/s]\u001b[A\n",
      "Epoch 176:  98%|█████████▊| 250/255 [02:45<00:03,  1.51it/s, loss=0.03, v_num=3, train_loss=0.0729, train_accuracy=0.944, val_loss=0.217, val_accuracy=0.945]\n",
      "Validating:  83%|████████▎ | 24/29 [00:07<00:00,  5.61it/s]\u001b[A\n",
      "Epoch 176:  99%|█████████▉| 252/255 [02:46<00:01,  1.52it/s, loss=0.03, v_num=3, train_loss=0.0729, train_accuracy=0.944, val_loss=0.217, val_accuracy=0.945]\n",
      "Validating:  90%|████████▉ | 26/29 [00:08<00:00,  5.58it/s]\u001b[A\n",
      "Epoch 176: 100%|█████████▉| 254/255 [02:46<00:00,  1.52it/s, loss=0.03, v_num=3, train_loss=0.0729, train_accuracy=0.944, val_loss=0.217, val_accuracy=0.945]\n",
      "Validating:  97%|█████████▋| 28/29 [00:08<00:00,  5.61it/s]\u001b[A\n",
      "Epoch 176: 100%|██████████| 255/255 [02:47<00:00,  1.52it/s, loss=0.03, v_num=3, train_loss=0.0729, train_accuracy=0.944, val_loss=0.169, val_accuracy=0.952]\n",
      "Epoch 176: 100%|██████████| 255/255 [02:47<00:00,  1.52it/s, loss=0.03, v_num=3, train_loss=0.0729, train_accuracy=0.944, val_loss=0.169, val_accuracy=0.952]"
     ]
    },
    {
     "name": "stderr",
     "output_type": "stream",
     "text": [
      "Epoch 176, global step 40001: val_loss was not in top 2\n"
     ]
    },
    {
     "name": "stdout",
     "output_type": "stream",
     "text": [
      "Epoch 177:  89%|████████▊ | 226/255 [02:37<00:20,  1.43it/s, loss=0.0315, v_num=3, train_loss=0.038, train_accuracy=1.000, val_loss=0.169, val_accuracy=0.952]   \n",
      "Validating: 0it [00:00, ?it/s]\u001b[A\n",
      "Validating:   0%|          | 0/29 [00:00<?, ?it/s]\u001b[A\n",
      "Epoch 177:  89%|████████▉ | 228/255 [02:41<00:19,  1.41it/s, loss=0.0315, v_num=3, train_loss=0.038, train_accuracy=1.000, val_loss=0.169, val_accuracy=0.952]\n",
      "Validating:   7%|▋         | 2/29 [00:03<00:44,  1.66s/it]\u001b[A\n",
      "Epoch 177:  90%|█████████ | 230/255 [02:42<00:17,  1.42it/s, loss=0.0315, v_num=3, train_loss=0.038, train_accuracy=1.000, val_loss=0.169, val_accuracy=0.952]\n",
      "Validating:  14%|█▍        | 4/29 [00:04<00:16,  1.50it/s]\u001b[A\n",
      "Epoch 177:  91%|█████████ | 232/255 [02:42<00:16,  1.43it/s, loss=0.0315, v_num=3, train_loss=0.038, train_accuracy=1.000, val_loss=0.169, val_accuracy=0.952]\n",
      "Validating:  21%|██        | 6/29 [00:04<00:09,  2.55it/s]\u001b[A\n",
      "Epoch 177:  92%|█████████▏| 234/255 [02:42<00:14,  1.44it/s, loss=0.0315, v_num=3, train_loss=0.038, train_accuracy=1.000, val_loss=0.169, val_accuracy=0.952]\n",
      "Validating:  28%|██▊       | 8/29 [00:05<00:05,  3.63it/s]\u001b[A\n",
      "Epoch 177:  93%|█████████▎| 236/255 [02:43<00:13,  1.45it/s, loss=0.0315, v_num=3, train_loss=0.038, train_accuracy=1.000, val_loss=0.169, val_accuracy=0.952]\n",
      "Validating:  34%|███▍      | 10/29 [00:05<00:04,  4.42it/s]\u001b[A\n",
      "Epoch 177:  93%|█████████▎| 238/255 [02:43<00:11,  1.46it/s, loss=0.0315, v_num=3, train_loss=0.038, train_accuracy=1.000, val_loss=0.169, val_accuracy=0.952]\n",
      "Validating:  41%|████▏     | 12/29 [00:05<00:03,  5.00it/s]\u001b[A\n",
      "Epoch 177:  94%|█████████▍| 240/255 [02:43<00:10,  1.46it/s, loss=0.0315, v_num=3, train_loss=0.038, train_accuracy=1.000, val_loss=0.169, val_accuracy=0.952]\n",
      "Validating:  48%|████▊     | 14/29 [00:06<00:02,  5.31it/s]\u001b[A\n",
      "Epoch 177:  95%|█████████▍| 242/255 [02:44<00:08,  1.47it/s, loss=0.0315, v_num=3, train_loss=0.038, train_accuracy=1.000, val_loss=0.169, val_accuracy=0.952]\n",
      "Validating:  55%|█████▌    | 16/29 [00:06<00:02,  5.49it/s]\u001b[A\n",
      "Epoch 177:  96%|█████████▌| 244/255 [02:44<00:07,  1.48it/s, loss=0.0315, v_num=3, train_loss=0.038, train_accuracy=1.000, val_loss=0.169, val_accuracy=0.952]\n",
      "Validating:  62%|██████▏   | 18/29 [00:06<00:01,  5.54it/s]\u001b[A\n",
      "Epoch 177:  96%|█████████▋| 246/255 [02:44<00:06,  1.49it/s, loss=0.0315, v_num=3, train_loss=0.038, train_accuracy=1.000, val_loss=0.169, val_accuracy=0.952]\n",
      "Validating:  69%|██████▉   | 20/29 [00:07<00:01,  5.61it/s]\u001b[A\n",
      "Epoch 177:  97%|█████████▋| 248/255 [02:45<00:04,  1.50it/s, loss=0.0315, v_num=3, train_loss=0.038, train_accuracy=1.000, val_loss=0.169, val_accuracy=0.952]\n",
      "Validating:  76%|███████▌  | 22/29 [00:07<00:01,  5.40it/s]\u001b[A\n",
      "Epoch 177:  98%|█████████▊| 250/255 [02:45<00:03,  1.51it/s, loss=0.0315, v_num=3, train_loss=0.038, train_accuracy=1.000, val_loss=0.169, val_accuracy=0.952]\n",
      "Validating:  83%|████████▎ | 24/29 [00:07<00:00,  5.57it/s]\u001b[A\n",
      "Epoch 177:  99%|█████████▉| 252/255 [02:46<00:01,  1.52it/s, loss=0.0315, v_num=3, train_loss=0.038, train_accuracy=1.000, val_loss=0.169, val_accuracy=0.952]\n",
      "Validating:  90%|████████▉ | 26/29 [00:08<00:00,  5.57it/s]\u001b[A\n",
      "Epoch 177: 100%|█████████▉| 254/255 [02:46<00:00,  1.53it/s, loss=0.0315, v_num=3, train_loss=0.038, train_accuracy=1.000, val_loss=0.169, val_accuracy=0.952]\n",
      "Validating:  97%|█████████▋| 28/29 [00:08<00:00,  5.56it/s]\u001b[A\n",
      "Epoch 177: 100%|██████████| 255/255 [02:47<00:00,  1.52it/s, loss=0.0315, v_num=3, train_loss=0.038, train_accuracy=1.000, val_loss=0.161, val_accuracy=0.960]\n",
      "Epoch 177: 100%|██████████| 255/255 [02:47<00:00,  1.52it/s, loss=0.0315, v_num=3, train_loss=0.038, train_accuracy=1.000, val_loss=0.161, val_accuracy=0.960]"
     ]
    },
    {
     "name": "stderr",
     "output_type": "stream",
     "text": [
      "Epoch 177, global step 40227: val_loss was not in top 2\n"
     ]
    },
    {
     "name": "stdout",
     "output_type": "stream",
     "text": [
      "Epoch 178:  89%|████████▊ | 226/255 [02:37<00:20,  1.43it/s, loss=0.0309, v_num=3, train_loss=0.0338, train_accuracy=1.000, val_loss=0.161, val_accuracy=0.960] \n",
      "Validating: 0it [00:00, ?it/s]\u001b[A\n",
      "Validating:   0%|          | 0/29 [00:00<?, ?it/s]\u001b[A\n",
      "Epoch 178:  89%|████████▉ | 228/255 [02:41<00:19,  1.41it/s, loss=0.0309, v_num=3, train_loss=0.0338, train_accuracy=1.000, val_loss=0.161, val_accuracy=0.960]\n",
      "Validating:   7%|▋         | 2/29 [00:03<00:44,  1.66s/it]\u001b[A\n",
      "Epoch 178:  90%|█████████ | 230/255 [02:42<00:17,  1.42it/s, loss=0.0309, v_num=3, train_loss=0.0338, train_accuracy=1.000, val_loss=0.161, val_accuracy=0.960]\n",
      "Validating:  14%|█▍        | 4/29 [00:04<00:16,  1.49it/s]\u001b[A\n",
      "Epoch 178:  91%|█████████ | 232/255 [02:42<00:16,  1.43it/s, loss=0.0309, v_num=3, train_loss=0.0338, train_accuracy=1.000, val_loss=0.161, val_accuracy=0.960]\n",
      "Validating:  21%|██        | 6/29 [00:04<00:08,  2.57it/s]\u001b[A\n",
      "Epoch 178:  92%|█████████▏| 234/255 [02:42<00:14,  1.44it/s, loss=0.0309, v_num=3, train_loss=0.0338, train_accuracy=1.000, val_loss=0.161, val_accuracy=0.960]\n",
      "Validating:  28%|██▊       | 8/29 [00:05<00:05,  3.62it/s]\u001b[A\n",
      "Epoch 178:  93%|█████████▎| 236/255 [02:43<00:13,  1.45it/s, loss=0.0309, v_num=3, train_loss=0.0338, train_accuracy=1.000, val_loss=0.161, val_accuracy=0.960]\n",
      "Validating:  34%|███▍      | 10/29 [00:05<00:04,  4.39it/s]\u001b[A\n",
      "Epoch 178:  93%|█████████▎| 238/255 [02:43<00:11,  1.46it/s, loss=0.0309, v_num=3, train_loss=0.0338, train_accuracy=1.000, val_loss=0.161, val_accuracy=0.960]\n",
      "Validating:  41%|████▏     | 12/29 [00:05<00:03,  4.93it/s]\u001b[A\n",
      "Epoch 178:  94%|█████████▍| 240/255 [02:43<00:10,  1.46it/s, loss=0.0309, v_num=3, train_loss=0.0338, train_accuracy=1.000, val_loss=0.161, val_accuracy=0.960]\n",
      "Validating:  48%|████▊     | 14/29 [00:06<00:02,  5.32it/s]\u001b[A\n",
      "Epoch 178:  95%|█████████▍| 242/255 [02:44<00:08,  1.47it/s, loss=0.0309, v_num=3, train_loss=0.0338, train_accuracy=1.000, val_loss=0.161, val_accuracy=0.960]\n",
      "Validating:  55%|█████▌    | 16/29 [00:06<00:02,  5.48it/s]\u001b[A\n",
      "Epoch 178:  96%|█████████▌| 244/255 [02:44<00:07,  1.48it/s, loss=0.0309, v_num=3, train_loss=0.0338, train_accuracy=1.000, val_loss=0.161, val_accuracy=0.960]\n",
      "Validating:  62%|██████▏   | 18/29 [00:06<00:01,  5.57it/s]\u001b[A\n",
      "Epoch 178:  96%|█████████▋| 246/255 [02:44<00:06,  1.49it/s, loss=0.0309, v_num=3, train_loss=0.0338, train_accuracy=1.000, val_loss=0.161, val_accuracy=0.960]\n",
      "Validating:  69%|██████▉   | 20/29 [00:07<00:01,  5.67it/s]\u001b[A\n",
      "Epoch 178:  97%|█████████▋| 248/255 [02:45<00:04,  1.50it/s, loss=0.0309, v_num=3, train_loss=0.0338, train_accuracy=1.000, val_loss=0.161, val_accuracy=0.960]\n",
      "Validating:  76%|███████▌  | 22/29 [00:07<00:01,  5.60it/s]\u001b[A\n",
      "Epoch 178:  98%|█████████▊| 250/255 [02:45<00:03,  1.51it/s, loss=0.0309, v_num=3, train_loss=0.0338, train_accuracy=1.000, val_loss=0.161, val_accuracy=0.960]\n",
      "Validating:  83%|████████▎ | 24/29 [00:07<00:00,  5.59it/s]\u001b[A\n",
      "Epoch 178:  99%|█████████▉| 252/255 [02:45<00:01,  1.52it/s, loss=0.0309, v_num=3, train_loss=0.0338, train_accuracy=1.000, val_loss=0.161, val_accuracy=0.960]\n",
      "Validating:  90%|████████▉ | 26/29 [00:08<00:00,  5.59it/s]\u001b[A\n",
      "Epoch 178: 100%|█████████▉| 254/255 [02:46<00:00,  1.53it/s, loss=0.0309, v_num=3, train_loss=0.0338, train_accuracy=1.000, val_loss=0.161, val_accuracy=0.960]\n",
      "Validating:  97%|█████████▋| 28/29 [00:08<00:00,  5.58it/s]\u001b[A\n",
      "Epoch 178: 100%|██████████| 255/255 [02:47<00:00,  1.53it/s, loss=0.0309, v_num=3, train_loss=0.0338, train_accuracy=1.000, val_loss=0.157, val_accuracy=0.956]\n",
      "Epoch 178: 100%|██████████| 255/255 [02:47<00:00,  1.53it/s, loss=0.0309, v_num=3, train_loss=0.0338, train_accuracy=1.000, val_loss=0.157, val_accuracy=0.956]"
     ]
    },
    {
     "name": "stderr",
     "output_type": "stream",
     "text": [
      "Epoch 178, global step 40453: val_loss was not in top 2\n"
     ]
    },
    {
     "name": "stdout",
     "output_type": "stream",
     "text": [
      "Epoch 179:  89%|████████▊ | 226/255 [02:37<00:20,  1.43it/s, loss=0.0231, v_num=3, train_loss=0.000484, train_accuracy=1.000, val_loss=0.157, val_accuracy=0.956]\n",
      "Validating: 0it [00:00, ?it/s]\u001b[A\n",
      "Validating:   0%|          | 0/29 [00:00<?, ?it/s]\u001b[A\n",
      "Epoch 179:  89%|████████▉ | 228/255 [02:41<00:19,  1.41it/s, loss=0.0231, v_num=3, train_loss=0.000484, train_accuracy=1.000, val_loss=0.157, val_accuracy=0.956]\n",
      "Validating:   7%|▋         | 2/29 [00:03<00:45,  1.67s/it]\u001b[A\n",
      "Epoch 179:  90%|█████████ | 230/255 [02:42<00:17,  1.42it/s, loss=0.0231, v_num=3, train_loss=0.000484, train_accuracy=1.000, val_loss=0.157, val_accuracy=0.956]\n",
      "Validating:  14%|█▍        | 4/29 [00:04<00:16,  1.49it/s]\u001b[A\n",
      "Epoch 179:  91%|█████████ | 232/255 [02:42<00:16,  1.43it/s, loss=0.0231, v_num=3, train_loss=0.000484, train_accuracy=1.000, val_loss=0.157, val_accuracy=0.956]\n",
      "Validating:  21%|██        | 6/29 [00:04<00:08,  2.57it/s]\u001b[A\n",
      "Epoch 179:  92%|█████████▏| 234/255 [02:42<00:14,  1.44it/s, loss=0.0231, v_num=3, train_loss=0.000484, train_accuracy=1.000, val_loss=0.157, val_accuracy=0.956]\n",
      "Validating:  28%|██▊       | 8/29 [00:05<00:05,  3.59it/s]\u001b[A\n",
      "Epoch 179:  93%|█████████▎| 236/255 [02:43<00:13,  1.45it/s, loss=0.0231, v_num=3, train_loss=0.000484, train_accuracy=1.000, val_loss=0.157, val_accuracy=0.956]\n",
      "Validating:  34%|███▍      | 10/29 [00:05<00:04,  4.42it/s]\u001b[A\n",
      "Epoch 179:  93%|█████████▎| 238/255 [02:43<00:11,  1.46it/s, loss=0.0231, v_num=3, train_loss=0.000484, train_accuracy=1.000, val_loss=0.157, val_accuracy=0.956]\n",
      "Validating:  41%|████▏     | 12/29 [00:05<00:03,  4.99it/s]\u001b[A\n",
      "Epoch 179:  94%|█████████▍| 240/255 [02:43<00:10,  1.47it/s, loss=0.0231, v_num=3, train_loss=0.000484, train_accuracy=1.000, val_loss=0.157, val_accuracy=0.956]\n",
      "Validating:  48%|████▊     | 14/29 [00:06<00:02,  5.30it/s]\u001b[A\n",
      "Epoch 179:  95%|█████████▍| 242/255 [02:44<00:08,  1.47it/s, loss=0.0231, v_num=3, train_loss=0.000484, train_accuracy=1.000, val_loss=0.157, val_accuracy=0.956]\n",
      "Validating:  55%|█████▌    | 16/29 [00:06<00:02,  5.51it/s]\u001b[A\n",
      "Epoch 179:  96%|█████████▌| 244/255 [02:44<00:07,  1.48it/s, loss=0.0231, v_num=3, train_loss=0.000484, train_accuracy=1.000, val_loss=0.157, val_accuracy=0.956]\n",
      "Validating:  62%|██████▏   | 18/29 [00:06<00:01,  5.54it/s]\u001b[A\n",
      "Epoch 179:  96%|█████████▋| 246/255 [02:44<00:06,  1.49it/s, loss=0.0231, v_num=3, train_loss=0.000484, train_accuracy=1.000, val_loss=0.157, val_accuracy=0.956]\n",
      "Validating:  69%|██████▉   | 20/29 [00:07<00:01,  5.50it/s]\u001b[A\n",
      "Epoch 179:  97%|█████████▋| 248/255 [02:45<00:04,  1.50it/s, loss=0.0231, v_num=3, train_loss=0.000484, train_accuracy=1.000, val_loss=0.157, val_accuracy=0.956]\n",
      "Validating:  76%|███████▌  | 22/29 [00:07<00:01,  5.59it/s]\u001b[A\n",
      "Epoch 179:  98%|█████████▊| 250/255 [02:45<00:03,  1.51it/s, loss=0.0231, v_num=3, train_loss=0.000484, train_accuracy=1.000, val_loss=0.157, val_accuracy=0.956]\n",
      "Validating:  83%|████████▎ | 24/29 [00:07<00:00,  5.61it/s]\u001b[A\n",
      "Epoch 179:  99%|█████████▉| 252/255 [02:45<00:01,  1.52it/s, loss=0.0231, v_num=3, train_loss=0.000484, train_accuracy=1.000, val_loss=0.157, val_accuracy=0.956]\n",
      "Validating:  90%|████████▉ | 26/29 [00:08<00:00,  5.59it/s]\u001b[A\n",
      "Epoch 179: 100%|█████████▉| 254/255 [02:46<00:00,  1.53it/s, loss=0.0231, v_num=3, train_loss=0.000484, train_accuracy=1.000, val_loss=0.157, val_accuracy=0.956]\n",
      "Validating:  97%|█████████▋| 28/29 [00:08<00:00,  5.56it/s]\u001b[A\n",
      "Epoch 179: 100%|██████████| 255/255 [02:47<00:00,  1.52it/s, loss=0.0231, v_num=3, train_loss=0.000484, train_accuracy=1.000, val_loss=0.171, val_accuracy=0.962]\n",
      "Epoch 179: 100%|██████████| 255/255 [02:47<00:00,  1.52it/s, loss=0.0231, v_num=3, train_loss=0.000484, train_accuracy=1.000, val_loss=0.171, val_accuracy=0.962]"
     ]
    },
    {
     "name": "stderr",
     "output_type": "stream",
     "text": [
      "Epoch 179, global step 40679: val_loss was not in top 2\n"
     ]
    },
    {
     "name": "stdout",
     "output_type": "stream",
     "text": [
      "Epoch 180:  89%|████████▊ | 226/255 [02:38<00:20,  1.43it/s, loss=0.0557, v_num=3, train_loss=0.0016, train_accuracy=1.000, val_loss=0.171, val_accuracy=0.962]  \n",
      "Validating: 0it [00:00, ?it/s]\u001b[A\n",
      "Validating:   0%|          | 0/29 [00:00<?, ?it/s]\u001b[A\n",
      "Epoch 180:  89%|████████▉ | 228/255 [02:41<00:19,  1.41it/s, loss=0.0557, v_num=3, train_loss=0.0016, train_accuracy=1.000, val_loss=0.171, val_accuracy=0.962]\n",
      "Validating:   7%|▋         | 2/29 [00:03<00:44,  1.63s/it]\u001b[A\n",
      "Epoch 180:  90%|█████████ | 230/255 [02:42<00:17,  1.42it/s, loss=0.0557, v_num=3, train_loss=0.0016, train_accuracy=1.000, val_loss=0.171, val_accuracy=0.962]\n",
      "Validating:  14%|█▍        | 4/29 [00:04<00:16,  1.51it/s]\u001b[A\n",
      "Epoch 180:  91%|█████████ | 232/255 [02:42<00:16,  1.43it/s, loss=0.0557, v_num=3, train_loss=0.0016, train_accuracy=1.000, val_loss=0.171, val_accuracy=0.962]\n",
      "Validating:  21%|██        | 6/29 [00:04<00:08,  2.61it/s]\u001b[A\n",
      "Epoch 180:  92%|█████████▏| 234/255 [02:42<00:14,  1.44it/s, loss=0.0557, v_num=3, train_loss=0.0016, train_accuracy=1.000, val_loss=0.171, val_accuracy=0.962]\n",
      "Validating:  28%|██▊       | 8/29 [00:04<00:05,  3.67it/s]\u001b[A\n",
      "Epoch 180:  93%|█████████▎| 236/255 [02:43<00:13,  1.45it/s, loss=0.0557, v_num=3, train_loss=0.0016, train_accuracy=1.000, val_loss=0.171, val_accuracy=0.962]\n",
      "Validating:  34%|███▍      | 10/29 [00:05<00:04,  4.52it/s]\u001b[A\n",
      "Epoch 180:  93%|█████████▎| 238/255 [02:43<00:11,  1.45it/s, loss=0.0557, v_num=3, train_loss=0.0016, train_accuracy=1.000, val_loss=0.171, val_accuracy=0.962]\n",
      "Validating:  41%|████▏     | 12/29 [00:05<00:03,  5.04it/s]\u001b[A\n",
      "Epoch 180:  94%|█████████▍| 240/255 [02:43<00:10,  1.46it/s, loss=0.0557, v_num=3, train_loss=0.0016, train_accuracy=1.000, val_loss=0.171, val_accuracy=0.962]\n",
      "Validating:  48%|████▊     | 14/29 [00:06<00:02,  5.35it/s]\u001b[A\n",
      "Epoch 180:  95%|█████████▍| 242/255 [02:44<00:08,  1.47it/s, loss=0.0557, v_num=3, train_loss=0.0016, train_accuracy=1.000, val_loss=0.171, val_accuracy=0.962]\n",
      "Validating:  55%|█████▌    | 16/29 [00:06<00:02,  5.43it/s]\u001b[A\n",
      "Epoch 180:  96%|█████████▌| 244/255 [02:44<00:07,  1.48it/s, loss=0.0557, v_num=3, train_loss=0.0016, train_accuracy=1.000, val_loss=0.171, val_accuracy=0.962]\n",
      "Validating:  62%|██████▏   | 18/29 [00:06<00:01,  5.57it/s]\u001b[A\n",
      "Epoch 180:  96%|█████████▋| 246/255 [02:45<00:06,  1.49it/s, loss=0.0557, v_num=3, train_loss=0.0016, train_accuracy=1.000, val_loss=0.171, val_accuracy=0.962]\n",
      "Validating:  69%|██████▉   | 20/29 [00:07<00:01,  5.60it/s]\u001b[A\n",
      "Epoch 180:  97%|█████████▋| 248/255 [02:45<00:04,  1.50it/s, loss=0.0557, v_num=3, train_loss=0.0016, train_accuracy=1.000, val_loss=0.171, val_accuracy=0.962]\n",
      "Validating:  76%|███████▌  | 22/29 [00:07<00:01,  5.70it/s]\u001b[A\n",
      "Epoch 180:  98%|█████████▊| 250/255 [02:45<00:03,  1.51it/s, loss=0.0557, v_num=3, train_loss=0.0016, train_accuracy=1.000, val_loss=0.171, val_accuracy=0.962]\n",
      "Validating:  83%|████████▎ | 24/29 [00:07<00:00,  5.70it/s]\u001b[A\n",
      "Epoch 180:  99%|█████████▉| 252/255 [02:46<00:01,  1.52it/s, loss=0.0557, v_num=3, train_loss=0.0016, train_accuracy=1.000, val_loss=0.171, val_accuracy=0.962]\n",
      "Validating:  90%|████████▉ | 26/29 [00:08<00:00,  5.65it/s]\u001b[A\n",
      "Epoch 180: 100%|█████████▉| 254/255 [02:46<00:00,  1.53it/s, loss=0.0557, v_num=3, train_loss=0.0016, train_accuracy=1.000, val_loss=0.171, val_accuracy=0.962]\n",
      "Validating:  97%|█████████▋| 28/29 [00:08<00:00,  5.61it/s]\u001b[A\n",
      "Epoch 180: 100%|██████████| 255/255 [02:47<00:00,  1.52it/s, loss=0.0557, v_num=3, train_loss=0.0016, train_accuracy=1.000, val_loss=0.214, val_accuracy=0.952]\n",
      "Epoch 180: 100%|██████████| 255/255 [02:47<00:00,  1.52it/s, loss=0.0557, v_num=3, train_loss=0.0016, train_accuracy=1.000, val_loss=0.214, val_accuracy=0.952]"
     ]
    },
    {
     "name": "stderr",
     "output_type": "stream",
     "text": [
      "Epoch 180, global step 40905: val_loss was not in top 2\n"
     ]
    },
    {
     "name": "stdout",
     "output_type": "stream",
     "text": [
      "Epoch 181:  89%|████████▊ | 226/255 [02:36<00:20,  1.44it/s, loss=0.0235, v_num=3, train_loss=0.0025, train_accuracy=1.000, val_loss=0.214, val_accuracy=0.952] \n",
      "Validating: 0it [00:00, ?it/s]\u001b[A\n",
      "Validating:   0%|          | 0/29 [00:00<?, ?it/s]\u001b[A\n",
      "Epoch 181:  89%|████████▉ | 228/255 [02:40<00:19,  1.42it/s, loss=0.0235, v_num=3, train_loss=0.0025, train_accuracy=1.000, val_loss=0.214, val_accuracy=0.952]\n",
      "Validating:   7%|▋         | 2/29 [00:03<00:45,  1.68s/it]\u001b[A\n",
      "Epoch 181:  90%|█████████ | 230/255 [02:40<00:17,  1.43it/s, loss=0.0235, v_num=3, train_loss=0.0025, train_accuracy=1.000, val_loss=0.214, val_accuracy=0.952]\n",
      "Validating:  14%|█▍        | 4/29 [00:04<00:16,  1.49it/s]\u001b[A\n",
      "Epoch 181:  91%|█████████ | 232/255 [02:41<00:15,  1.44it/s, loss=0.0235, v_num=3, train_loss=0.0025, train_accuracy=1.000, val_loss=0.214, val_accuracy=0.952]\n",
      "Validating:  21%|██        | 6/29 [00:04<00:08,  2.60it/s]\u001b[A\n",
      "Epoch 181:  92%|█████████▏| 234/255 [02:41<00:14,  1.45it/s, loss=0.0235, v_num=3, train_loss=0.0025, train_accuracy=1.000, val_loss=0.214, val_accuracy=0.952]\n",
      "Validating:  28%|██▊       | 8/29 [00:05<00:05,  3.68it/s]\u001b[A\n",
      "Epoch 181:  93%|█████████▎| 236/255 [02:41<00:13,  1.46it/s, loss=0.0235, v_num=3, train_loss=0.0025, train_accuracy=1.000, val_loss=0.214, val_accuracy=0.952]\n",
      "Validating:  34%|███▍      | 10/29 [00:05<00:04,  4.48it/s]\u001b[A\n",
      "Epoch 181:  93%|█████████▎| 238/255 [02:42<00:11,  1.47it/s, loss=0.0235, v_num=3, train_loss=0.0025, train_accuracy=1.000, val_loss=0.214, val_accuracy=0.952]\n",
      "Validating:  41%|████▏     | 12/29 [00:05<00:03,  4.92it/s]\u001b[A\n",
      "Epoch 181:  94%|█████████▍| 240/255 [02:42<00:10,  1.48it/s, loss=0.0235, v_num=3, train_loss=0.0025, train_accuracy=1.000, val_loss=0.214, val_accuracy=0.952]\n",
      "Validating:  48%|████▊     | 14/29 [00:06<00:02,  5.26it/s]\u001b[A\n",
      "Epoch 181:  95%|█████████▍| 242/255 [02:42<00:08,  1.48it/s, loss=0.0235, v_num=3, train_loss=0.0025, train_accuracy=1.000, val_loss=0.214, val_accuracy=0.952]\n",
      "Validating:  55%|█████▌    | 16/29 [00:06<00:02,  5.42it/s]\u001b[A\n",
      "Epoch 181:  96%|█████████▌| 244/255 [02:43<00:07,  1.49it/s, loss=0.0235, v_num=3, train_loss=0.0025, train_accuracy=1.000, val_loss=0.214, val_accuracy=0.952]\n",
      "Validating:  62%|██████▏   | 18/29 [00:06<00:01,  5.52it/s]\u001b[A\n",
      "Epoch 181:  96%|█████████▋| 246/255 [02:43<00:05,  1.50it/s, loss=0.0235, v_num=3, train_loss=0.0025, train_accuracy=1.000, val_loss=0.214, val_accuracy=0.952]\n",
      "Validating:  69%|██████▉   | 20/29 [00:07<00:01,  5.61it/s]\u001b[A\n",
      "Epoch 181:  97%|█████████▋| 248/255 [02:44<00:04,  1.51it/s, loss=0.0235, v_num=3, train_loss=0.0025, train_accuracy=1.000, val_loss=0.214, val_accuracy=0.952]\n",
      "Validating:  76%|███████▌  | 22/29 [00:07<00:01,  5.65it/s]\u001b[A\n",
      "Epoch 181:  98%|█████████▊| 250/255 [02:44<00:03,  1.52it/s, loss=0.0235, v_num=3, train_loss=0.0025, train_accuracy=1.000, val_loss=0.214, val_accuracy=0.952]\n",
      "Validating:  83%|████████▎ | 24/29 [00:07<00:00,  5.59it/s]\u001b[A\n",
      "Epoch 181:  99%|█████████▉| 252/255 [02:44<00:01,  1.53it/s, loss=0.0235, v_num=3, train_loss=0.0025, train_accuracy=1.000, val_loss=0.214, val_accuracy=0.952]\n",
      "Validating:  90%|████████▉ | 26/29 [00:08<00:00,  5.59it/s]\u001b[A\n",
      "Epoch 181: 100%|█████████▉| 254/255 [02:45<00:00,  1.54it/s, loss=0.0235, v_num=3, train_loss=0.0025, train_accuracy=1.000, val_loss=0.214, val_accuracy=0.952]\n",
      "Validating:  97%|█████████▋| 28/29 [00:08<00:00,  5.58it/s]\u001b[A\n",
      "Epoch 181: 100%|██████████| 255/255 [02:45<00:00,  1.54it/s, loss=0.0235, v_num=3, train_loss=0.0025, train_accuracy=1.000, val_loss=0.216, val_accuracy=0.947]\n",
      "Epoch 181: 100%|██████████| 255/255 [02:45<00:00,  1.54it/s, loss=0.0235, v_num=3, train_loss=0.0025, train_accuracy=1.000, val_loss=0.216, val_accuracy=0.947]"
     ]
    },
    {
     "name": "stderr",
     "output_type": "stream",
     "text": [
      "Epoch 181, global step 41131: val_loss was not in top 2\n"
     ]
    },
    {
     "name": "stdout",
     "output_type": "stream",
     "text": [
      "Epoch 182:  89%|████████▊ | 226/255 [02:37<00:20,  1.43it/s, loss=0.0328, v_num=3, train_loss=0.230, train_accuracy=0.944, val_loss=0.216, val_accuracy=0.947]   \n",
      "Validating: 0it [00:00, ?it/s]\u001b[A\n",
      "Validating:   0%|          | 0/29 [00:00<?, ?it/s]\u001b[A\n",
      "Epoch 182:  89%|████████▉ | 228/255 [02:41<00:19,  1.41it/s, loss=0.0328, v_num=3, train_loss=0.230, train_accuracy=0.944, val_loss=0.216, val_accuracy=0.947]\n",
      "Validating:   7%|▋         | 2/29 [00:04<00:46,  1.72s/it]\u001b[A\n",
      "Epoch 182:  90%|█████████ | 230/255 [02:42<00:17,  1.42it/s, loss=0.0328, v_num=3, train_loss=0.230, train_accuracy=0.944, val_loss=0.216, val_accuracy=0.947]\n",
      "Validating:  14%|█▍        | 4/29 [00:04<00:17,  1.47it/s]\u001b[A\n",
      "Epoch 182:  91%|█████████ | 232/255 [02:42<00:16,  1.43it/s, loss=0.0328, v_num=3, train_loss=0.230, train_accuracy=0.944, val_loss=0.216, val_accuracy=0.947]\n",
      "Validating:  21%|██        | 6/29 [00:04<00:08,  2.56it/s]\u001b[A\n",
      "Epoch 182:  92%|█████████▏| 234/255 [02:42<00:14,  1.44it/s, loss=0.0328, v_num=3, train_loss=0.230, train_accuracy=0.944, val_loss=0.216, val_accuracy=0.947]\n",
      "Validating:  28%|██▊       | 8/29 [00:05<00:05,  3.60it/s]\u001b[A\n",
      "Epoch 182:  93%|█████████▎| 236/255 [02:43<00:13,  1.45it/s, loss=0.0328, v_num=3, train_loss=0.230, train_accuracy=0.944, val_loss=0.216, val_accuracy=0.947]\n",
      "Validating:  34%|███▍      | 10/29 [00:05<00:04,  4.40it/s]\u001b[A\n",
      "Epoch 182:  93%|█████████▎| 238/255 [02:43<00:11,  1.46it/s, loss=0.0328, v_num=3, train_loss=0.230, train_accuracy=0.944, val_loss=0.216, val_accuracy=0.947]\n",
      "Validating:  41%|████▏     | 12/29 [00:05<00:03,  4.97it/s]\u001b[A\n",
      "Epoch 182:  94%|█████████▍| 240/255 [02:43<00:10,  1.46it/s, loss=0.0328, v_num=3, train_loss=0.230, train_accuracy=0.944, val_loss=0.216, val_accuracy=0.947]\n",
      "Validating:  48%|████▊     | 14/29 [00:06<00:02,  5.31it/s]\u001b[A\n",
      "Epoch 182:  95%|█████████▍| 242/255 [02:44<00:08,  1.47it/s, loss=0.0328, v_num=3, train_loss=0.230, train_accuracy=0.944, val_loss=0.216, val_accuracy=0.947]\n",
      "Validating:  55%|█████▌    | 16/29 [00:06<00:02,  5.48it/s]\u001b[A\n",
      "Epoch 182:  96%|█████████▌| 244/255 [02:44<00:07,  1.48it/s, loss=0.0328, v_num=3, train_loss=0.230, train_accuracy=0.944, val_loss=0.216, val_accuracy=0.947]\n",
      "Validating:  62%|██████▏   | 18/29 [00:06<00:01,  5.59it/s]\u001b[A\n",
      "Epoch 182:  96%|█████████▋| 246/255 [02:44<00:06,  1.49it/s, loss=0.0328, v_num=3, train_loss=0.230, train_accuracy=0.944, val_loss=0.216, val_accuracy=0.947]\n",
      "Validating:  69%|██████▉   | 20/29 [00:07<00:01,  5.55it/s]\u001b[A\n",
      "Epoch 182:  97%|█████████▋| 248/255 [02:45<00:04,  1.50it/s, loss=0.0328, v_num=3, train_loss=0.230, train_accuracy=0.944, val_loss=0.216, val_accuracy=0.947]\n",
      "Validating:  76%|███████▌  | 22/29 [00:07<00:01,  5.61it/s]\u001b[A\n",
      "Epoch 182:  98%|█████████▊| 250/255 [02:45<00:03,  1.51it/s, loss=0.0328, v_num=3, train_loss=0.230, train_accuracy=0.944, val_loss=0.216, val_accuracy=0.947]\n",
      "Validating:  83%|████████▎ | 24/29 [00:07<00:00,  5.65it/s]\u001b[A\n",
      "Epoch 182:  99%|█████████▉| 252/255 [02:45<00:01,  1.52it/s, loss=0.0328, v_num=3, train_loss=0.230, train_accuracy=0.944, val_loss=0.216, val_accuracy=0.947]\n",
      "Validating:  90%|████████▉ | 26/29 [00:08<00:00,  5.62it/s]\u001b[A\n",
      "Epoch 182: 100%|█████████▉| 254/255 [02:46<00:00,  1.53it/s, loss=0.0328, v_num=3, train_loss=0.230, train_accuracy=0.944, val_loss=0.216, val_accuracy=0.947]\n",
      "Validating:  97%|█████████▋| 28/29 [00:08<00:00,  5.55it/s]\u001b[A\n",
      "Epoch 182: 100%|██████████| 255/255 [02:47<00:00,  1.52it/s, loss=0.0328, v_num=3, train_loss=0.230, train_accuracy=0.944, val_loss=0.188, val_accuracy=0.957]\n",
      "Epoch 182: 100%|██████████| 255/255 [02:47<00:00,  1.52it/s, loss=0.0328, v_num=3, train_loss=0.230, train_accuracy=0.944, val_loss=0.188, val_accuracy=0.957]"
     ]
    },
    {
     "name": "stderr",
     "output_type": "stream",
     "text": [
      "Epoch 182, global step 41357: val_loss was not in top 2\n"
     ]
    },
    {
     "name": "stdout",
     "output_type": "stream",
     "text": [
      "Epoch 183:  89%|████████▊ | 226/255 [02:37<00:20,  1.43it/s, loss=0.0303, v_num=3, train_loss=0.101, train_accuracy=0.889, val_loss=0.188, val_accuracy=0.957]  \n",
      "Validating: 0it [00:00, ?it/s]\u001b[A\n",
      "Validating:   0%|          | 0/29 [00:00<?, ?it/s]\u001b[A\n",
      "Epoch 183:  89%|████████▉ | 228/255 [02:41<00:19,  1.41it/s, loss=0.0303, v_num=3, train_loss=0.101, train_accuracy=0.889, val_loss=0.188, val_accuracy=0.957]\n",
      "Validating:   7%|▋         | 2/29 [00:04<00:46,  1.71s/it]\u001b[A\n",
      "Epoch 183:  90%|█████████ | 230/255 [02:42<00:17,  1.42it/s, loss=0.0303, v_num=3, train_loss=0.101, train_accuracy=0.889, val_loss=0.188, val_accuracy=0.957]\n",
      "Validating:  14%|█▍        | 4/29 [00:04<00:17,  1.45it/s]\u001b[A\n",
      "Epoch 183:  91%|█████████ | 232/255 [02:42<00:16,  1.43it/s, loss=0.0303, v_num=3, train_loss=0.101, train_accuracy=0.889, val_loss=0.188, val_accuracy=0.957]\n",
      "Validating:  21%|██        | 6/29 [00:04<00:09,  2.55it/s]\u001b[A\n",
      "Epoch 183:  92%|█████████▏| 234/255 [02:42<00:14,  1.44it/s, loss=0.0303, v_num=3, train_loss=0.101, train_accuracy=0.889, val_loss=0.188, val_accuracy=0.957]\n",
      "Validating:  28%|██▊       | 8/29 [00:05<00:05,  3.61it/s]\u001b[A\n",
      "Epoch 183:  93%|█████████▎| 236/255 [02:43<00:13,  1.45it/s, loss=0.0303, v_num=3, train_loss=0.101, train_accuracy=0.889, val_loss=0.188, val_accuracy=0.957]\n",
      "Validating:  34%|███▍      | 10/29 [00:05<00:04,  4.47it/s]\u001b[A\n",
      "Epoch 183:  93%|█████████▎| 238/255 [02:43<00:11,  1.46it/s, loss=0.0303, v_num=3, train_loss=0.101, train_accuracy=0.889, val_loss=0.188, val_accuracy=0.957]\n",
      "Validating:  41%|████▏     | 12/29 [00:05<00:03,  4.98it/s]\u001b[A\n",
      "Epoch 183:  94%|█████████▍| 240/255 [02:43<00:10,  1.46it/s, loss=0.0303, v_num=3, train_loss=0.101, train_accuracy=0.889, val_loss=0.188, val_accuracy=0.957]\n",
      "Validating:  48%|████▊     | 14/29 [00:06<00:02,  5.34it/s]\u001b[A\n",
      "Epoch 183:  95%|█████████▍| 242/255 [02:44<00:08,  1.47it/s, loss=0.0303, v_num=3, train_loss=0.101, train_accuracy=0.889, val_loss=0.188, val_accuracy=0.957]\n",
      "Validating:  55%|█████▌    | 16/29 [00:06<00:02,  5.53it/s]\u001b[A\n",
      "Epoch 183:  96%|█████████▌| 244/255 [02:44<00:07,  1.48it/s, loss=0.0303, v_num=3, train_loss=0.101, train_accuracy=0.889, val_loss=0.188, val_accuracy=0.957]\n",
      "Validating:  62%|██████▏   | 18/29 [00:06<00:01,  5.57it/s]\u001b[A\n",
      "Epoch 183:  96%|█████████▋| 246/255 [02:44<00:06,  1.49it/s, loss=0.0303, v_num=3, train_loss=0.101, train_accuracy=0.889, val_loss=0.188, val_accuracy=0.957]\n",
      "Validating:  69%|██████▉   | 20/29 [00:07<00:01,  5.54it/s]\u001b[A\n",
      "Epoch 183:  97%|█████████▋| 248/255 [02:45<00:04,  1.50it/s, loss=0.0303, v_num=3, train_loss=0.101, train_accuracy=0.889, val_loss=0.188, val_accuracy=0.957]\n",
      "Validating:  76%|███████▌  | 22/29 [00:07<00:01,  5.61it/s]\u001b[A\n",
      "Epoch 183:  98%|█████████▊| 250/255 [02:45<00:03,  1.51it/s, loss=0.0303, v_num=3, train_loss=0.101, train_accuracy=0.889, val_loss=0.188, val_accuracy=0.957]\n",
      "Validating:  83%|████████▎ | 24/29 [00:07<00:00,  5.62it/s]\u001b[A\n",
      "Epoch 183:  99%|█████████▉| 252/255 [02:46<00:01,  1.52it/s, loss=0.0303, v_num=3, train_loss=0.101, train_accuracy=0.889, val_loss=0.188, val_accuracy=0.957]\n",
      "Validating:  90%|████████▉ | 26/29 [00:08<00:00,  5.65it/s]\u001b[A\n",
      "Epoch 183: 100%|█████████▉| 254/255 [02:46<00:00,  1.53it/s, loss=0.0303, v_num=3, train_loss=0.101, train_accuracy=0.889, val_loss=0.188, val_accuracy=0.957]\n",
      "Validating:  97%|█████████▋| 28/29 [00:08<00:00,  5.62it/s]\u001b[A\n",
      "Epoch 183: 100%|██████████| 255/255 [02:47<00:00,  1.52it/s, loss=0.0303, v_num=3, train_loss=0.101, train_accuracy=0.889, val_loss=0.181, val_accuracy=0.960]\n",
      "Epoch 183: 100%|██████████| 255/255 [02:47<00:00,  1.52it/s, loss=0.0303, v_num=3, train_loss=0.101, train_accuracy=0.889, val_loss=0.181, val_accuracy=0.960]"
     ]
    },
    {
     "name": "stderr",
     "output_type": "stream",
     "text": [
      "Epoch 183, global step 41583: val_loss was not in top 2\n"
     ]
    },
    {
     "name": "stdout",
     "output_type": "stream",
     "text": [
      "Epoch 184:  89%|████████▊ | 226/255 [02:38<00:20,  1.43it/s, loss=0.0273, v_num=3, train_loss=0.0018, train_accuracy=1.000, val_loss=0.181, val_accuracy=0.960]  \n",
      "Validating: 0it [00:00, ?it/s]\u001b[A\n",
      "Validating:   0%|          | 0/29 [00:00<?, ?it/s]\u001b[A\n",
      "Epoch 184:  89%|████████▉ | 228/255 [02:41<00:19,  1.41it/s, loss=0.0273, v_num=3, train_loss=0.0018, train_accuracy=1.000, val_loss=0.181, val_accuracy=0.960]\n",
      "Validating:   7%|▋         | 2/29 [00:03<00:45,  1.67s/it]\u001b[A\n",
      "Epoch 184:  90%|█████████ | 230/255 [02:42<00:17,  1.42it/s, loss=0.0273, v_num=3, train_loss=0.0018, train_accuracy=1.000, val_loss=0.181, val_accuracy=0.960]\n",
      "Validating:  14%|█▍        | 4/29 [00:04<00:16,  1.50it/s]\u001b[A\n",
      "Epoch 184:  91%|█████████ | 232/255 [02:42<00:16,  1.43it/s, loss=0.0273, v_num=3, train_loss=0.0018, train_accuracy=1.000, val_loss=0.181, val_accuracy=0.960]\n",
      "Validating:  21%|██        | 6/29 [00:04<00:08,  2.61it/s]\u001b[A\n",
      "Epoch 184:  92%|█████████▏| 234/255 [02:42<00:14,  1.44it/s, loss=0.0273, v_num=3, train_loss=0.0018, train_accuracy=1.000, val_loss=0.181, val_accuracy=0.960]\n",
      "Validating:  28%|██▊       | 8/29 [00:05<00:05,  3.69it/s]\u001b[A\n",
      "Epoch 184:  93%|█████████▎| 236/255 [02:43<00:13,  1.45it/s, loss=0.0273, v_num=3, train_loss=0.0018, train_accuracy=1.000, val_loss=0.181, val_accuracy=0.960]\n",
      "Validating:  34%|███▍      | 10/29 [00:05<00:04,  4.51it/s]\u001b[A\n",
      "Epoch 184:  93%|█████████▎| 238/255 [02:43<00:11,  1.45it/s, loss=0.0273, v_num=3, train_loss=0.0018, train_accuracy=1.000, val_loss=0.181, val_accuracy=0.960]\n",
      "Validating:  41%|████▏     | 12/29 [00:05<00:03,  4.94it/s]\u001b[A\n",
      "Epoch 184:  94%|█████████▍| 240/255 [02:43<00:10,  1.46it/s, loss=0.0273, v_num=3, train_loss=0.0018, train_accuracy=1.000, val_loss=0.181, val_accuracy=0.960]\n",
      "Validating:  48%|████▊     | 14/29 [00:06<00:02,  5.30it/s]\u001b[A\n",
      "Epoch 184:  95%|█████████▍| 242/255 [02:44<00:08,  1.47it/s, loss=0.0273, v_num=3, train_loss=0.0018, train_accuracy=1.000, val_loss=0.181, val_accuracy=0.960]\n",
      "Validating:  55%|█████▌    | 16/29 [00:06<00:02,  5.51it/s]\u001b[A\n",
      "Epoch 184:  96%|█████████▌| 244/255 [02:44<00:07,  1.48it/s, loss=0.0273, v_num=3, train_loss=0.0018, train_accuracy=1.000, val_loss=0.181, val_accuracy=0.960]\n",
      "Validating:  62%|██████▏   | 18/29 [00:06<00:01,  5.60it/s]\u001b[A\n",
      "Epoch 184:  96%|█████████▋| 246/255 [02:44<00:06,  1.49it/s, loss=0.0273, v_num=3, train_loss=0.0018, train_accuracy=1.000, val_loss=0.181, val_accuracy=0.960]\n",
      "Validating:  69%|██████▉   | 20/29 [00:07<00:01,  5.64it/s]\u001b[A\n",
      "Epoch 184:  97%|█████████▋| 248/255 [02:45<00:04,  1.50it/s, loss=0.0273, v_num=3, train_loss=0.0018, train_accuracy=1.000, val_loss=0.181, val_accuracy=0.960]\n",
      "Validating:  76%|███████▌  | 22/29 [00:07<00:01,  5.67it/s]\u001b[A\n",
      "Epoch 184:  98%|█████████▊| 250/255 [02:45<00:03,  1.51it/s, loss=0.0273, v_num=3, train_loss=0.0018, train_accuracy=1.000, val_loss=0.181, val_accuracy=0.960]\n",
      "Validating:  83%|████████▎ | 24/29 [00:07<00:00,  5.68it/s]\u001b[A\n",
      "Epoch 184:  99%|█████████▉| 252/255 [02:46<00:01,  1.52it/s, loss=0.0273, v_num=3, train_loss=0.0018, train_accuracy=1.000, val_loss=0.181, val_accuracy=0.960]\n",
      "Validating:  90%|████████▉ | 26/29 [00:08<00:00,  5.67it/s]\u001b[A\n",
      "Epoch 184: 100%|█████████▉| 254/255 [02:46<00:00,  1.53it/s, loss=0.0273, v_num=3, train_loss=0.0018, train_accuracy=1.000, val_loss=0.181, val_accuracy=0.960]\n",
      "Validating:  97%|█████████▋| 28/29 [00:08<00:00,  5.68it/s]\u001b[A\n",
      "Epoch 184: 100%|██████████| 255/255 [02:47<00:00,  1.52it/s, loss=0.0273, v_num=3, train_loss=0.0018, train_accuracy=1.000, val_loss=0.183, val_accuracy=0.953]\n",
      "Epoch 184: 100%|██████████| 255/255 [02:47<00:00,  1.52it/s, loss=0.0273, v_num=3, train_loss=0.0018, train_accuracy=1.000, val_loss=0.183, val_accuracy=0.953]"
     ]
    },
    {
     "name": "stderr",
     "output_type": "stream",
     "text": [
      "Epoch 184, global step 41809: val_loss was not in top 2\n"
     ]
    },
    {
     "name": "stdout",
     "output_type": "stream",
     "text": [
      "Epoch 185:  89%|████████▊ | 226/255 [02:37<00:20,  1.43it/s, loss=0.0144, v_num=3, train_loss=0.00107, train_accuracy=1.000, val_loss=0.183, val_accuracy=0.953] \n",
      "Validating: 0it [00:00, ?it/s]\u001b[A\n",
      "Validating:   0%|          | 0/29 [00:00<?, ?it/s]\u001b[A\n",
      "Epoch 185:  89%|████████▉ | 228/255 [02:41<00:19,  1.41it/s, loss=0.0144, v_num=3, train_loss=0.00107, train_accuracy=1.000, val_loss=0.183, val_accuracy=0.953]\n",
      "Validating:   7%|▋         | 2/29 [00:03<00:45,  1.67s/it]\u001b[A\n",
      "Epoch 185:  90%|█████████ | 230/255 [02:42<00:17,  1.42it/s, loss=0.0144, v_num=3, train_loss=0.00107, train_accuracy=1.000, val_loss=0.183, val_accuracy=0.953]\n",
      "Validating:  14%|█▍        | 4/29 [00:04<00:17,  1.47it/s]\u001b[A\n",
      "Epoch 185:  91%|█████████ | 232/255 [02:42<00:16,  1.43it/s, loss=0.0144, v_num=3, train_loss=0.00107, train_accuracy=1.000, val_loss=0.183, val_accuracy=0.953]\n",
      "Validating:  21%|██        | 6/29 [00:04<00:08,  2.56it/s]\u001b[A\n",
      "Epoch 185:  92%|█████████▏| 234/255 [02:42<00:14,  1.44it/s, loss=0.0144, v_num=3, train_loss=0.00107, train_accuracy=1.000, val_loss=0.183, val_accuracy=0.953]\n",
      "Validating:  28%|██▊       | 8/29 [00:05<00:05,  3.67it/s]\u001b[A\n",
      "Epoch 185:  93%|█████████▎| 236/255 [02:43<00:13,  1.45it/s, loss=0.0144, v_num=3, train_loss=0.00107, train_accuracy=1.000, val_loss=0.183, val_accuracy=0.953]\n",
      "Validating:  34%|███▍      | 10/29 [00:05<00:04,  4.49it/s]\u001b[A\n",
      "Epoch 185:  93%|█████████▎| 238/255 [02:43<00:11,  1.45it/s, loss=0.0144, v_num=3, train_loss=0.00107, train_accuracy=1.000, val_loss=0.183, val_accuracy=0.953]\n",
      "Validating:  41%|████▏     | 12/29 [00:05<00:03,  5.05it/s]\u001b[A\n",
      "Epoch 185:  94%|█████████▍| 240/255 [02:43<00:10,  1.46it/s, loss=0.0144, v_num=3, train_loss=0.00107, train_accuracy=1.000, val_loss=0.183, val_accuracy=0.953]\n",
      "Validating:  48%|████▊     | 14/29 [00:06<00:02,  5.31it/s]\u001b[A\n",
      "Epoch 185:  95%|█████████▍| 242/255 [02:44<00:08,  1.47it/s, loss=0.0144, v_num=3, train_loss=0.00107, train_accuracy=1.000, val_loss=0.183, val_accuracy=0.953]\n",
      "Validating:  55%|█████▌    | 16/29 [00:06<00:02,  5.36it/s]\u001b[A\n",
      "Epoch 185:  96%|█████████▌| 244/255 [02:44<00:07,  1.48it/s, loss=0.0144, v_num=3, train_loss=0.00107, train_accuracy=1.000, val_loss=0.183, val_accuracy=0.953]\n",
      "Validating:  62%|██████▏   | 18/29 [00:06<00:01,  5.53it/s]\u001b[A\n",
      "Epoch 185:  96%|█████████▋| 246/255 [02:45<00:06,  1.49it/s, loss=0.0144, v_num=3, train_loss=0.00107, train_accuracy=1.000, val_loss=0.183, val_accuracy=0.953]\n",
      "Validating:  69%|██████▉   | 20/29 [00:07<00:01,  5.65it/s]\u001b[A\n",
      "Epoch 185:  97%|█████████▋| 248/255 [02:45<00:04,  1.50it/s, loss=0.0144, v_num=3, train_loss=0.00107, train_accuracy=1.000, val_loss=0.183, val_accuracy=0.953]\n",
      "Validating:  76%|███████▌  | 22/29 [00:07<00:01,  5.67it/s]\u001b[A\n",
      "Epoch 185:  98%|█████████▊| 250/255 [02:45<00:03,  1.51it/s, loss=0.0144, v_num=3, train_loss=0.00107, train_accuracy=1.000, val_loss=0.183, val_accuracy=0.953]\n",
      "Validating:  83%|████████▎ | 24/29 [00:07<00:00,  5.67it/s]\u001b[A\n",
      "Epoch 185:  99%|█████████▉| 252/255 [02:46<00:01,  1.52it/s, loss=0.0144, v_num=3, train_loss=0.00107, train_accuracy=1.000, val_loss=0.183, val_accuracy=0.953]\n",
      "Validating:  90%|████████▉ | 26/29 [00:08<00:00,  5.64it/s]\u001b[A\n",
      "Epoch 185: 100%|█████████▉| 254/255 [02:46<00:00,  1.53it/s, loss=0.0144, v_num=3, train_loss=0.00107, train_accuracy=1.000, val_loss=0.183, val_accuracy=0.953]\n",
      "Validating:  97%|█████████▋| 28/29 [00:08<00:00,  5.65it/s]\u001b[A\n",
      "Epoch 185: 100%|██████████| 255/255 [02:47<00:00,  1.52it/s, loss=0.0144, v_num=3, train_loss=0.00107, train_accuracy=1.000, val_loss=0.169, val_accuracy=0.960]\n",
      "Epoch 185: 100%|██████████| 255/255 [02:47<00:00,  1.52it/s, loss=0.0144, v_num=3, train_loss=0.00107, train_accuracy=1.000, val_loss=0.169, val_accuracy=0.960]"
     ]
    },
    {
     "name": "stderr",
     "output_type": "stream",
     "text": [
      "Epoch 185, global step 42035: val_loss was not in top 2\n"
     ]
    },
    {
     "name": "stdout",
     "output_type": "stream",
     "text": [
      "Epoch 186:  89%|████████▊ | 226/255 [02:37<00:20,  1.43it/s, loss=0.0226, v_num=3, train_loss=0.00171, train_accuracy=1.000, val_loss=0.169, val_accuracy=0.960]  \n",
      "Validating: 0it [00:00, ?it/s]\u001b[A\n",
      "Validating:   0%|          | 0/29 [00:00<?, ?it/s]\u001b[A\n",
      "Epoch 186:  89%|████████▉ | 228/255 [02:41<00:19,  1.41it/s, loss=0.0226, v_num=3, train_loss=0.00171, train_accuracy=1.000, val_loss=0.169, val_accuracy=0.960]\n",
      "Validating:   7%|▋         | 2/29 [00:04<00:46,  1.72s/it]\u001b[A\n",
      "Epoch 186:  90%|█████████ | 230/255 [02:42<00:17,  1.42it/s, loss=0.0226, v_num=3, train_loss=0.00171, train_accuracy=1.000, val_loss=0.169, val_accuracy=0.960]\n",
      "Validating:  14%|█▍        | 4/29 [00:04<00:17,  1.46it/s]\u001b[A\n",
      "Epoch 186:  91%|█████████ | 232/255 [02:42<00:16,  1.43it/s, loss=0.0226, v_num=3, train_loss=0.00171, train_accuracy=1.000, val_loss=0.169, val_accuracy=0.960]\n",
      "Validating:  21%|██        | 6/29 [00:04<00:09,  2.55it/s]\u001b[A\n",
      "Epoch 186:  92%|█████████▏| 234/255 [02:42<00:14,  1.44it/s, loss=0.0226, v_num=3, train_loss=0.00171, train_accuracy=1.000, val_loss=0.169, val_accuracy=0.960]\n",
      "Validating:  28%|██▊       | 8/29 [00:05<00:05,  3.59it/s]\u001b[A\n",
      "Epoch 186:  93%|█████████▎| 236/255 [02:43<00:13,  1.45it/s, loss=0.0226, v_num=3, train_loss=0.00171, train_accuracy=1.000, val_loss=0.169, val_accuracy=0.960]\n",
      "Validating:  34%|███▍      | 10/29 [00:05<00:04,  4.44it/s]\u001b[A\n",
      "Epoch 186:  93%|█████████▎| 238/255 [02:43<00:11,  1.45it/s, loss=0.0226, v_num=3, train_loss=0.00171, train_accuracy=1.000, val_loss=0.169, val_accuracy=0.960]\n",
      "Validating:  41%|████▏     | 12/29 [00:05<00:03,  4.98it/s]\u001b[A\n",
      "Epoch 186:  94%|█████████▍| 240/255 [02:44<00:10,  1.46it/s, loss=0.0226, v_num=3, train_loss=0.00171, train_accuracy=1.000, val_loss=0.169, val_accuracy=0.960]\n",
      "Validating:  48%|████▊     | 14/29 [00:06<00:02,  5.28it/s]\u001b[A\n",
      "Epoch 186:  95%|█████████▍| 242/255 [02:44<00:08,  1.47it/s, loss=0.0226, v_num=3, train_loss=0.00171, train_accuracy=1.000, val_loss=0.169, val_accuracy=0.960]\n",
      "Validating:  55%|█████▌    | 16/29 [00:06<00:02,  5.48it/s]\u001b[A\n",
      "Epoch 186:  96%|█████████▌| 244/255 [02:44<00:07,  1.48it/s, loss=0.0226, v_num=3, train_loss=0.00171, train_accuracy=1.000, val_loss=0.169, val_accuracy=0.960]\n",
      "Validating:  62%|██████▏   | 18/29 [00:06<00:01,  5.55it/s]\u001b[A\n",
      "Epoch 186:  96%|█████████▋| 246/255 [02:45<00:06,  1.49it/s, loss=0.0226, v_num=3, train_loss=0.00171, train_accuracy=1.000, val_loss=0.169, val_accuracy=0.960]\n",
      "Validating:  69%|██████▉   | 20/29 [00:07<00:01,  5.55it/s]\u001b[A\n",
      "Epoch 186:  97%|█████████▋| 248/255 [02:45<00:04,  1.50it/s, loss=0.0226, v_num=3, train_loss=0.00171, train_accuracy=1.000, val_loss=0.169, val_accuracy=0.960]\n",
      "Validating:  76%|███████▌  | 22/29 [00:07<00:01,  5.63it/s]\u001b[A\n",
      "Epoch 186:  98%|█████████▊| 250/255 [02:45<00:03,  1.51it/s, loss=0.0226, v_num=3, train_loss=0.00171, train_accuracy=1.000, val_loss=0.169, val_accuracy=0.960]\n",
      "Validating:  83%|████████▎ | 24/29 [00:08<00:00,  5.69it/s]\u001b[A\n",
      "Epoch 186:  99%|█████████▉| 252/255 [02:46<00:01,  1.52it/s, loss=0.0226, v_num=3, train_loss=0.00171, train_accuracy=1.000, val_loss=0.169, val_accuracy=0.960]\n",
      "Validating:  90%|████████▉ | 26/29 [00:08<00:00,  5.70it/s]\u001b[A\n",
      "Epoch 186: 100%|█████████▉| 254/255 [02:46<00:00,  1.53it/s, loss=0.0226, v_num=3, train_loss=0.00171, train_accuracy=1.000, val_loss=0.169, val_accuracy=0.960]\n",
      "Validating:  97%|█████████▋| 28/29 [00:08<00:00,  5.68it/s]\u001b[A\n",
      "Epoch 186: 100%|██████████| 255/255 [02:47<00:00,  1.52it/s, loss=0.0226, v_num=3, train_loss=0.00171, train_accuracy=1.000, val_loss=0.174, val_accuracy=0.960]\n",
      "Epoch 186: 100%|██████████| 255/255 [02:47<00:00,  1.52it/s, loss=0.0226, v_num=3, train_loss=0.00171, train_accuracy=1.000, val_loss=0.174, val_accuracy=0.960]"
     ]
    },
    {
     "name": "stderr",
     "output_type": "stream",
     "text": [
      "Epoch 186, global step 42261: val_loss was not in top 2\n"
     ]
    },
    {
     "name": "stdout",
     "output_type": "stream",
     "text": [
      "Epoch 187:  89%|████████▊ | 226/255 [02:37<00:20,  1.43it/s, loss=0.0711, v_num=3, train_loss=0.199, train_accuracy=0.944, val_loss=0.174, val_accuracy=0.960]    \n",
      "Validating: 0it [00:00, ?it/s]\u001b[A\n",
      "Validating:   0%|          | 0/29 [00:00<?, ?it/s]\u001b[A\n",
      "Epoch 187:  89%|████████▉ | 228/255 [02:41<00:19,  1.41it/s, loss=0.0711, v_num=3, train_loss=0.199, train_accuracy=0.944, val_loss=0.174, val_accuracy=0.960]\n",
      "Validating:   7%|▋         | 2/29 [00:04<00:45,  1.69s/it]\u001b[A\n",
      "Epoch 187:  90%|█████████ | 230/255 [02:41<00:17,  1.42it/s, loss=0.0711, v_num=3, train_loss=0.199, train_accuracy=0.944, val_loss=0.174, val_accuracy=0.960]\n",
      "Validating:  14%|█▍        | 4/29 [00:04<00:16,  1.48it/s]\u001b[A\n",
      "Epoch 187:  91%|█████████ | 232/255 [02:42<00:16,  1.43it/s, loss=0.0711, v_num=3, train_loss=0.199, train_accuracy=0.944, val_loss=0.174, val_accuracy=0.960]\n",
      "Validating:  21%|██        | 6/29 [00:04<00:08,  2.58it/s]\u001b[A\n",
      "Epoch 187:  92%|█████████▏| 234/255 [02:42<00:14,  1.44it/s, loss=0.0711, v_num=3, train_loss=0.199, train_accuracy=0.944, val_loss=0.174, val_accuracy=0.960]\n",
      "Validating:  28%|██▊       | 8/29 [00:05<00:05,  3.66it/s]\u001b[A\n",
      "Epoch 187:  93%|█████████▎| 236/255 [02:43<00:13,  1.45it/s, loss=0.0711, v_num=3, train_loss=0.199, train_accuracy=0.944, val_loss=0.174, val_accuracy=0.960]\n",
      "Validating:  34%|███▍      | 10/29 [00:05<00:04,  4.48it/s]\u001b[A\n",
      "Epoch 187:  93%|█████████▎| 238/255 [02:43<00:11,  1.46it/s, loss=0.0711, v_num=3, train_loss=0.199, train_accuracy=0.944, val_loss=0.174, val_accuracy=0.960]\n",
      "Validating:  41%|████▏     | 12/29 [00:05<00:03,  5.02it/s]\u001b[A\n",
      "Epoch 187:  94%|█████████▍| 240/255 [02:43<00:10,  1.47it/s, loss=0.0711, v_num=3, train_loss=0.199, train_accuracy=0.944, val_loss=0.174, val_accuracy=0.960]\n",
      "Validating:  48%|████▊     | 14/29 [00:06<00:02,  5.28it/s]\u001b[A\n",
      "Epoch 187:  95%|█████████▍| 242/255 [02:44<00:08,  1.47it/s, loss=0.0711, v_num=3, train_loss=0.199, train_accuracy=0.944, val_loss=0.174, val_accuracy=0.960]\n",
      "Validating:  55%|█████▌    | 16/29 [00:06<00:02,  5.48it/s]\u001b[A\n",
      "Epoch 187:  96%|█████████▌| 244/255 [02:44<00:07,  1.48it/s, loss=0.0711, v_num=3, train_loss=0.199, train_accuracy=0.944, val_loss=0.174, val_accuracy=0.960]\n",
      "Validating:  62%|██████▏   | 18/29 [00:06<00:01,  5.58it/s]\u001b[A\n",
      "Epoch 187:  96%|█████████▋| 246/255 [02:44<00:06,  1.49it/s, loss=0.0711, v_num=3, train_loss=0.199, train_accuracy=0.944, val_loss=0.174, val_accuracy=0.960]\n",
      "Validating:  69%|██████▉   | 20/29 [00:07<00:01,  5.67it/s]\u001b[A\n",
      "Epoch 187:  97%|█████████▋| 248/255 [02:45<00:04,  1.50it/s, loss=0.0711, v_num=3, train_loss=0.199, train_accuracy=0.944, val_loss=0.174, val_accuracy=0.960]\n",
      "Validating:  76%|███████▌  | 22/29 [00:07<00:01,  5.63it/s]\u001b[A\n",
      "Epoch 187:  98%|█████████▊| 250/255 [02:45<00:03,  1.51it/s, loss=0.0711, v_num=3, train_loss=0.199, train_accuracy=0.944, val_loss=0.174, val_accuracy=0.960]\n",
      "Validating:  83%|████████▎ | 24/29 [00:07<00:00,  5.67it/s]\u001b[A\n",
      "Epoch 187:  99%|█████████▉| 252/255 [02:45<00:01,  1.52it/s, loss=0.0711, v_num=3, train_loss=0.199, train_accuracy=0.944, val_loss=0.174, val_accuracy=0.960]\n",
      "Validating:  90%|████████▉ | 26/29 [00:08<00:00,  5.67it/s]\u001b[A\n",
      "Epoch 187: 100%|█████████▉| 254/255 [02:46<00:00,  1.53it/s, loss=0.0711, v_num=3, train_loss=0.199, train_accuracy=0.944, val_loss=0.174, val_accuracy=0.960]\n",
      "Validating:  97%|█████████▋| 28/29 [00:08<00:00,  5.66it/s]\u001b[A\n",
      "Epoch 187: 100%|██████████| 255/255 [02:47<00:00,  1.53it/s, loss=0.0711, v_num=3, train_loss=0.199, train_accuracy=0.944, val_loss=0.211, val_accuracy=0.950]\n",
      "Epoch 187: 100%|██████████| 255/255 [02:47<00:00,  1.53it/s, loss=0.0711, v_num=3, train_loss=0.199, train_accuracy=0.944, val_loss=0.211, val_accuracy=0.950]"
     ]
    },
    {
     "name": "stderr",
     "output_type": "stream",
     "text": [
      "Epoch 187, global step 42487: val_loss was not in top 2\n"
     ]
    },
    {
     "name": "stdout",
     "output_type": "stream",
     "text": [
      "Epoch 188:  89%|████████▊ | 226/255 [02:38<00:20,  1.43it/s, loss=0.0231, v_num=3, train_loss=0.00803, train_accuracy=1.000, val_loss=0.211, val_accuracy=0.950]\n",
      "Validating: 0it [00:00, ?it/s]\u001b[A\n",
      "Validating:   0%|          | 0/29 [00:00<?, ?it/s]\u001b[A\n",
      "Epoch 188:  89%|████████▉ | 228/255 [02:42<00:19,  1.41it/s, loss=0.0231, v_num=3, train_loss=0.00803, train_accuracy=1.000, val_loss=0.211, val_accuracy=0.950]\n",
      "Validating:   7%|▋         | 2/29 [00:04<00:47,  1.76s/it]\u001b[A\n",
      "Epoch 188:  90%|█████████ | 230/255 [02:42<00:17,  1.42it/s, loss=0.0231, v_num=3, train_loss=0.00803, train_accuracy=1.000, val_loss=0.211, val_accuracy=0.950]\n",
      "Validating:  14%|█▍        | 4/29 [00:04<00:17,  1.42it/s]\u001b[A\n",
      "Epoch 188:  91%|█████████ | 232/255 [02:42<00:16,  1.43it/s, loss=0.0231, v_num=3, train_loss=0.00803, train_accuracy=1.000, val_loss=0.211, val_accuracy=0.950]\n",
      "Validating:  21%|██        | 6/29 [00:04<00:09,  2.48it/s]\u001b[A\n",
      "Epoch 188:  92%|█████████▏| 234/255 [02:43<00:14,  1.43it/s, loss=0.0231, v_num=3, train_loss=0.00803, train_accuracy=1.000, val_loss=0.211, val_accuracy=0.950]\n",
      "Validating:  28%|██▊       | 8/29 [00:05<00:05,  3.56it/s]\u001b[A\n",
      "Epoch 188:  93%|█████████▎| 236/255 [02:43<00:13,  1.44it/s, loss=0.0231, v_num=3, train_loss=0.00803, train_accuracy=1.000, val_loss=0.211, val_accuracy=0.950]\n",
      "Validating:  34%|███▍      | 10/29 [00:05<00:04,  4.32it/s]\u001b[A\n",
      "Epoch 188:  93%|█████████▎| 238/255 [02:43<00:11,  1.45it/s, loss=0.0231, v_num=3, train_loss=0.00803, train_accuracy=1.000, val_loss=0.211, val_accuracy=0.950]\n",
      "Validating:  41%|████▏     | 12/29 [00:06<00:03,  4.96it/s]\u001b[A\n",
      "Epoch 188:  94%|█████████▍| 240/255 [02:44<00:10,  1.46it/s, loss=0.0231, v_num=3, train_loss=0.00803, train_accuracy=1.000, val_loss=0.211, val_accuracy=0.950]\n",
      "Validating:  48%|████▊     | 14/29 [00:06<00:02,  5.34it/s]\u001b[A\n",
      "Epoch 188:  95%|█████████▍| 242/255 [02:44<00:08,  1.47it/s, loss=0.0231, v_num=3, train_loss=0.00803, train_accuracy=1.000, val_loss=0.211, val_accuracy=0.950]\n",
      "Validating:  55%|█████▌    | 16/29 [00:06<00:02,  5.45it/s]\u001b[A\n",
      "Epoch 188:  96%|█████████▌| 244/255 [02:44<00:07,  1.48it/s, loss=0.0231, v_num=3, train_loss=0.00803, train_accuracy=1.000, val_loss=0.211, val_accuracy=0.950]\n",
      "Validating:  62%|██████▏   | 18/29 [00:07<00:01,  5.54it/s]\u001b[A\n",
      "Epoch 188:  96%|█████████▋| 246/255 [02:45<00:06,  1.49it/s, loss=0.0231, v_num=3, train_loss=0.00803, train_accuracy=1.000, val_loss=0.211, val_accuracy=0.950]\n",
      "Validating:  69%|██████▉   | 20/29 [00:07<00:01,  5.59it/s]\u001b[A\n",
      "Epoch 188:  97%|█████████▋| 248/255 [02:45<00:04,  1.50it/s, loss=0.0231, v_num=3, train_loss=0.00803, train_accuracy=1.000, val_loss=0.211, val_accuracy=0.950]\n",
      "Validating:  76%|███████▌  | 22/29 [00:07<00:01,  5.64it/s]\u001b[A\n",
      "Epoch 188:  98%|█████████▊| 250/255 [02:45<00:03,  1.51it/s, loss=0.0231, v_num=3, train_loss=0.00803, train_accuracy=1.000, val_loss=0.211, val_accuracy=0.950]\n",
      "Validating:  83%|████████▎ | 24/29 [00:08<00:00,  5.66it/s]\u001b[A\n",
      "Epoch 188:  99%|█████████▉| 252/255 [02:46<00:01,  1.52it/s, loss=0.0231, v_num=3, train_loss=0.00803, train_accuracy=1.000, val_loss=0.211, val_accuracy=0.950]\n",
      "Validating:  90%|████████▉ | 26/29 [00:08<00:00,  5.61it/s]\u001b[A\n",
      "Epoch 188: 100%|█████████▉| 254/255 [02:46<00:00,  1.52it/s, loss=0.0231, v_num=3, train_loss=0.00803, train_accuracy=1.000, val_loss=0.211, val_accuracy=0.950]\n",
      "Validating:  97%|█████████▋| 28/29 [00:08<00:00,  5.62it/s]\u001b[A\n",
      "Epoch 188: 100%|██████████| 255/255 [02:47<00:00,  1.52it/s, loss=0.0231, v_num=3, train_loss=0.00803, train_accuracy=1.000, val_loss=0.173, val_accuracy=0.957]\n",
      "Epoch 188: 100%|██████████| 255/255 [02:47<00:00,  1.52it/s, loss=0.0231, v_num=3, train_loss=0.00803, train_accuracy=1.000, val_loss=0.173, val_accuracy=0.957]"
     ]
    },
    {
     "name": "stderr",
     "output_type": "stream",
     "text": [
      "Epoch 188, global step 42713: val_loss was not in top 2\n"
     ]
    },
    {
     "name": "stdout",
     "output_type": "stream",
     "text": [
      "Epoch 189:  89%|████████▊ | 226/255 [02:37<00:20,  1.43it/s, loss=0.0641, v_num=3, train_loss=0.00619, train_accuracy=1.000, val_loss=0.173, val_accuracy=0.957] \n",
      "Validating: 0it [00:00, ?it/s]\u001b[A\n",
      "Validating:   0%|          | 0/29 [00:00<?, ?it/s]\u001b[A\n",
      "Epoch 189:  89%|████████▉ | 228/255 [02:41<00:19,  1.41it/s, loss=0.0641, v_num=3, train_loss=0.00619, train_accuracy=1.000, val_loss=0.173, val_accuracy=0.957]\n",
      "Validating:   7%|▋         | 2/29 [00:04<00:46,  1.71s/it]\u001b[A\n",
      "Epoch 189:  90%|█████████ | 230/255 [02:42<00:17,  1.42it/s, loss=0.0641, v_num=3, train_loss=0.00619, train_accuracy=1.000, val_loss=0.173, val_accuracy=0.957]\n",
      "Validating:  14%|█▍        | 4/29 [00:04<00:17,  1.47it/s]\u001b[A\n",
      "Epoch 189:  91%|█████████ | 232/255 [02:42<00:16,  1.43it/s, loss=0.0641, v_num=3, train_loss=0.00619, train_accuracy=1.000, val_loss=0.173, val_accuracy=0.957]\n",
      "Validating:  21%|██        | 6/29 [00:04<00:09,  2.55it/s]\u001b[A\n",
      "Epoch 189:  92%|█████████▏| 234/255 [02:42<00:14,  1.44it/s, loss=0.0641, v_num=3, train_loss=0.00619, train_accuracy=1.000, val_loss=0.173, val_accuracy=0.957]\n",
      "Validating:  28%|██▊       | 8/29 [00:05<00:05,  3.65it/s]\u001b[A\n",
      "Epoch 189:  93%|█████████▎| 236/255 [02:43<00:13,  1.45it/s, loss=0.0641, v_num=3, train_loss=0.00619, train_accuracy=1.000, val_loss=0.173, val_accuracy=0.957]\n",
      "Validating:  34%|███▍      | 10/29 [00:05<00:04,  4.41it/s]\u001b[A\n",
      "Epoch 189:  93%|█████████▎| 238/255 [02:43<00:11,  1.45it/s, loss=0.0641, v_num=3, train_loss=0.00619, train_accuracy=1.000, val_loss=0.173, val_accuracy=0.957]\n",
      "Validating:  41%|████▏     | 12/29 [00:05<00:03,  4.98it/s]\u001b[A\n",
      "Epoch 189:  94%|█████████▍| 240/255 [02:44<00:10,  1.46it/s, loss=0.0641, v_num=3, train_loss=0.00619, train_accuracy=1.000, val_loss=0.173, val_accuracy=0.957]\n",
      "Validating:  48%|████▊     | 14/29 [00:06<00:02,  5.30it/s]\u001b[A\n",
      "Epoch 189:  95%|█████████▍| 242/255 [02:44<00:08,  1.47it/s, loss=0.0641, v_num=3, train_loss=0.00619, train_accuracy=1.000, val_loss=0.173, val_accuracy=0.957]\n",
      "Validating:  55%|█████▌    | 16/29 [00:06<00:02,  5.44it/s]\u001b[A\n",
      "Epoch 189:  96%|█████████▌| 244/255 [02:44<00:07,  1.48it/s, loss=0.0641, v_num=3, train_loss=0.00619, train_accuracy=1.000, val_loss=0.173, val_accuracy=0.957]\n",
      "Validating:  62%|██████▏   | 18/29 [00:06<00:02,  5.49it/s]\u001b[A\n",
      "Epoch 189:  96%|█████████▋| 246/255 [02:45<00:06,  1.49it/s, loss=0.0641, v_num=3, train_loss=0.00619, train_accuracy=1.000, val_loss=0.173, val_accuracy=0.957]\n",
      "Validating:  69%|██████▉   | 20/29 [00:07<00:01,  5.62it/s]\u001b[A\n",
      "Epoch 189:  97%|█████████▋| 248/255 [02:45<00:04,  1.50it/s, loss=0.0641, v_num=3, train_loss=0.00619, train_accuracy=1.000, val_loss=0.173, val_accuracy=0.957]\n",
      "Validating:  76%|███████▌  | 22/29 [00:07<00:01,  5.60it/s]\u001b[A\n",
      "Epoch 189:  98%|█████████▊| 250/255 [02:45<00:03,  1.51it/s, loss=0.0641, v_num=3, train_loss=0.00619, train_accuracy=1.000, val_loss=0.173, val_accuracy=0.957]\n",
      "Validating:  83%|████████▎ | 24/29 [00:07<00:00,  5.73it/s]\u001b[A\n",
      "Epoch 189:  99%|█████████▉| 252/255 [02:46<00:01,  1.52it/s, loss=0.0641, v_num=3, train_loss=0.00619, train_accuracy=1.000, val_loss=0.173, val_accuracy=0.957]\n",
      "Validating:  90%|████████▉ | 26/29 [00:08<00:00,  5.66it/s]\u001b[A\n",
      "Epoch 189: 100%|█████████▉| 254/255 [02:46<00:00,  1.53it/s, loss=0.0641, v_num=3, train_loss=0.00619, train_accuracy=1.000, val_loss=0.173, val_accuracy=0.957]\n",
      "Validating:  97%|█████████▋| 28/29 [00:08<00:00,  5.64it/s]\u001b[A\n",
      "Epoch 189: 100%|██████████| 255/255 [02:47<00:00,  1.52it/s, loss=0.0641, v_num=3, train_loss=0.00619, train_accuracy=1.000, val_loss=0.172, val_accuracy=0.947]\n",
      "Epoch 189: 100%|██████████| 255/255 [02:47<00:00,  1.52it/s, loss=0.0641, v_num=3, train_loss=0.00619, train_accuracy=1.000, val_loss=0.172, val_accuracy=0.947]"
     ]
    },
    {
     "name": "stderr",
     "output_type": "stream",
     "text": [
      "Epoch 189, global step 42939: val_loss was not in top 2\n"
     ]
    },
    {
     "name": "stdout",
     "output_type": "stream",
     "text": [
      "Epoch 190:  89%|████████▊ | 226/255 [02:38<00:20,  1.43it/s, loss=0.0258, v_num=3, train_loss=0.0102, train_accuracy=1.000, val_loss=0.172, val_accuracy=0.947] \n",
      "Validating: 0it [00:00, ?it/s]\u001b[A\n",
      "Validating:   0%|          | 0/29 [00:00<?, ?it/s]\u001b[A\n",
      "Epoch 190:  89%|████████▉ | 228/255 [02:41<00:19,  1.41it/s, loss=0.0258, v_num=3, train_loss=0.0102, train_accuracy=1.000, val_loss=0.172, val_accuracy=0.947]\n",
      "Validating:   7%|▋         | 2/29 [00:04<00:45,  1.70s/it]\u001b[A\n",
      "Epoch 190:  90%|█████████ | 230/255 [02:42<00:17,  1.42it/s, loss=0.0258, v_num=3, train_loss=0.0102, train_accuracy=1.000, val_loss=0.172, val_accuracy=0.947]\n",
      "Validating:  14%|█▍        | 4/29 [00:04<00:16,  1.47it/s]\u001b[A\n",
      "Epoch 190:  91%|█████████ | 232/255 [02:42<00:16,  1.43it/s, loss=0.0258, v_num=3, train_loss=0.0102, train_accuracy=1.000, val_loss=0.172, val_accuracy=0.947]\n",
      "Validating:  21%|██        | 6/29 [00:04<00:09,  2.55it/s]\u001b[A\n",
      "Epoch 190:  92%|█████████▏| 234/255 [02:43<00:14,  1.44it/s, loss=0.0258, v_num=3, train_loss=0.0102, train_accuracy=1.000, val_loss=0.172, val_accuracy=0.947]\n",
      "Validating:  28%|██▊       | 8/29 [00:05<00:05,  3.61it/s]\u001b[A\n",
      "Epoch 190:  93%|█████████▎| 236/255 [02:43<00:13,  1.44it/s, loss=0.0258, v_num=3, train_loss=0.0102, train_accuracy=1.000, val_loss=0.172, val_accuracy=0.947]\n",
      "Validating:  34%|███▍      | 10/29 [00:05<00:04,  4.48it/s]\u001b[A\n",
      "Epoch 190:  93%|█████████▎| 238/255 [02:43<00:11,  1.45it/s, loss=0.0258, v_num=3, train_loss=0.0102, train_accuracy=1.000, val_loss=0.172, val_accuracy=0.947]\n",
      "Validating:  41%|████▏     | 12/29 [00:05<00:03,  4.92it/s]\u001b[A\n",
      "Epoch 190:  94%|█████████▍| 240/255 [02:44<00:10,  1.46it/s, loss=0.0258, v_num=3, train_loss=0.0102, train_accuracy=1.000, val_loss=0.172, val_accuracy=0.947]\n",
      "Validating:  48%|████▊     | 14/29 [00:06<00:02,  5.28it/s]\u001b[A\n",
      "Epoch 190:  95%|█████████▍| 242/255 [02:44<00:08,  1.47it/s, loss=0.0258, v_num=3, train_loss=0.0102, train_accuracy=1.000, val_loss=0.172, val_accuracy=0.947]\n",
      "Validating:  55%|█████▌    | 16/29 [00:06<00:02,  5.47it/s]\u001b[A\n",
      "Epoch 190:  96%|█████████▌| 244/255 [02:44<00:07,  1.48it/s, loss=0.0258, v_num=3, train_loss=0.0102, train_accuracy=1.000, val_loss=0.172, val_accuracy=0.947]\n",
      "Validating:  62%|██████▏   | 18/29 [00:06<00:01,  5.58it/s]\u001b[A\n",
      "Epoch 190:  96%|█████████▋| 246/255 [02:45<00:06,  1.49it/s, loss=0.0258, v_num=3, train_loss=0.0102, train_accuracy=1.000, val_loss=0.172, val_accuracy=0.947]\n",
      "Validating:  69%|██████▉   | 20/29 [00:07<00:01,  5.62it/s]\u001b[A\n",
      "Epoch 190:  97%|█████████▋| 248/255 [02:45<00:04,  1.50it/s, loss=0.0258, v_num=3, train_loss=0.0102, train_accuracy=1.000, val_loss=0.172, val_accuracy=0.947]\n",
      "Validating:  76%|███████▌  | 22/29 [00:07<00:01,  5.62it/s]\u001b[A\n",
      "Epoch 190:  98%|█████████▊| 250/255 [02:45<00:03,  1.51it/s, loss=0.0258, v_num=3, train_loss=0.0102, train_accuracy=1.000, val_loss=0.172, val_accuracy=0.947]\n",
      "Validating:  83%|████████▎ | 24/29 [00:07<00:00,  5.61it/s]\u001b[A\n",
      "Epoch 190:  99%|█████████▉| 252/255 [02:46<00:01,  1.52it/s, loss=0.0258, v_num=3, train_loss=0.0102, train_accuracy=1.000, val_loss=0.172, val_accuracy=0.947]\n",
      "Validating:  90%|████████▉ | 26/29 [00:08<00:00,  5.44it/s]\u001b[A\n",
      "Epoch 190: 100%|█████████▉| 254/255 [02:46<00:00,  1.52it/s, loss=0.0258, v_num=3, train_loss=0.0102, train_accuracy=1.000, val_loss=0.172, val_accuracy=0.947]\n",
      "Validating:  97%|█████████▋| 28/29 [00:08<00:00,  5.50it/s]\u001b[A\n",
      "Epoch 190: 100%|██████████| 255/255 [02:47<00:00,  1.52it/s, loss=0.0258, v_num=3, train_loss=0.0102, train_accuracy=1.000, val_loss=0.148, val_accuracy=0.960]\n",
      "Epoch 190: 100%|██████████| 255/255 [02:47<00:00,  1.52it/s, loss=0.0258, v_num=3, train_loss=0.0102, train_accuracy=1.000, val_loss=0.148, val_accuracy=0.960]"
     ]
    },
    {
     "name": "stderr",
     "output_type": "stream",
     "text": [
      "Epoch 190, global step 43165: val_loss was not in top 2\n"
     ]
    },
    {
     "name": "stdout",
     "output_type": "stream",
     "text": [
      "Epoch 191:  89%|████████▊ | 226/255 [02:38<00:20,  1.43it/s, loss=0.0349, v_num=3, train_loss=0.0106, train_accuracy=1.000, val_loss=0.148, val_accuracy=0.960] \n",
      "Validating: 0it [00:00, ?it/s]\u001b[A\n",
      "Validating:   0%|          | 0/29 [00:00<?, ?it/s]\u001b[A\n",
      "Epoch 191:  89%|████████▉ | 228/255 [02:41<00:19,  1.41it/s, loss=0.0349, v_num=3, train_loss=0.0106, train_accuracy=1.000, val_loss=0.148, val_accuracy=0.960]\n",
      "Validating:   7%|▋         | 2/29 [00:04<00:45,  1.68s/it]\u001b[A\n",
      "Epoch 191:  90%|█████████ | 230/255 [02:42<00:17,  1.42it/s, loss=0.0349, v_num=3, train_loss=0.0106, train_accuracy=1.000, val_loss=0.148, val_accuracy=0.960]\n",
      "Validating:  14%|█▍        | 4/29 [00:04<00:16,  1.49it/s]\u001b[A\n",
      "Epoch 191:  91%|█████████ | 232/255 [02:42<00:16,  1.43it/s, loss=0.0349, v_num=3, train_loss=0.0106, train_accuracy=1.000, val_loss=0.148, val_accuracy=0.960]\n",
      "Validating:  21%|██        | 6/29 [00:04<00:08,  2.59it/s]\u001b[A\n",
      "Epoch 191:  92%|█████████▏| 234/255 [02:42<00:14,  1.44it/s, loss=0.0349, v_num=3, train_loss=0.0106, train_accuracy=1.000, val_loss=0.148, val_accuracy=0.960]\n",
      "Validating:  28%|██▊       | 8/29 [00:05<00:05,  3.62it/s]\u001b[A\n",
      "Epoch 191:  93%|█████████▎| 236/255 [02:43<00:13,  1.44it/s, loss=0.0349, v_num=3, train_loss=0.0106, train_accuracy=1.000, val_loss=0.148, val_accuracy=0.960]\n",
      "Validating:  34%|███▍      | 10/29 [00:05<00:04,  4.42it/s]\u001b[A\n",
      "Epoch 191:  93%|█████████▎| 238/255 [02:43<00:11,  1.45it/s, loss=0.0349, v_num=3, train_loss=0.0106, train_accuracy=1.000, val_loss=0.148, val_accuracy=0.960]\n",
      "Validating:  41%|████▏     | 12/29 [00:05<00:03,  4.86it/s]\u001b[A\n",
      "Epoch 191:  94%|█████████▍| 240/255 [02:44<00:10,  1.46it/s, loss=0.0349, v_num=3, train_loss=0.0106, train_accuracy=1.000, val_loss=0.148, val_accuracy=0.960]\n",
      "Validating:  48%|████▊     | 14/29 [00:06<00:02,  5.27it/s]\u001b[A\n",
      "Epoch 191:  95%|█████████▍| 242/255 [02:44<00:08,  1.47it/s, loss=0.0349, v_num=3, train_loss=0.0106, train_accuracy=1.000, val_loss=0.148, val_accuracy=0.960]\n",
      "Validating:  55%|█████▌    | 16/29 [00:06<00:02,  5.50it/s]\u001b[A\n",
      "Epoch 191:  96%|█████████▌| 244/255 [02:44<00:07,  1.48it/s, loss=0.0349, v_num=3, train_loss=0.0106, train_accuracy=1.000, val_loss=0.148, val_accuracy=0.960]\n",
      "Validating:  62%|██████▏   | 18/29 [00:06<00:01,  5.58it/s]\u001b[A\n",
      "Epoch 191:  96%|█████████▋| 246/255 [02:45<00:06,  1.49it/s, loss=0.0349, v_num=3, train_loss=0.0106, train_accuracy=1.000, val_loss=0.148, val_accuracy=0.960]\n",
      "Validating:  69%|██████▉   | 20/29 [00:07<00:01,  5.59it/s]\u001b[A\n",
      "Epoch 191:  97%|█████████▋| 248/255 [02:45<00:04,  1.50it/s, loss=0.0349, v_num=3, train_loss=0.0106, train_accuracy=1.000, val_loss=0.148, val_accuracy=0.960]\n",
      "Validating:  76%|███████▌  | 22/29 [00:07<00:01,  5.57it/s]\u001b[A\n",
      "Epoch 191:  98%|█████████▊| 250/255 [02:45<00:03,  1.51it/s, loss=0.0349, v_num=3, train_loss=0.0106, train_accuracy=1.000, val_loss=0.148, val_accuracy=0.960]\n",
      "Validating:  83%|████████▎ | 24/29 [00:07<00:00,  5.64it/s]\u001b[A\n",
      "Epoch 191:  99%|█████████▉| 252/255 [02:46<00:01,  1.52it/s, loss=0.0349, v_num=3, train_loss=0.0106, train_accuracy=1.000, val_loss=0.148, val_accuracy=0.960]\n",
      "Validating:  90%|████████▉ | 26/29 [00:08<00:00,  5.62it/s]\u001b[A\n",
      "Epoch 191: 100%|█████████▉| 254/255 [02:46<00:00,  1.53it/s, loss=0.0349, v_num=3, train_loss=0.0106, train_accuracy=1.000, val_loss=0.148, val_accuracy=0.960]\n",
      "Validating:  97%|█████████▋| 28/29 [00:08<00:00,  5.62it/s]\u001b[A\n",
      "Epoch 191: 100%|██████████| 255/255 [02:47<00:00,  1.52it/s, loss=0.0349, v_num=3, train_loss=0.0106, train_accuracy=1.000, val_loss=0.184, val_accuracy=0.954]\n",
      "Epoch 191: 100%|██████████| 255/255 [02:47<00:00,  1.52it/s, loss=0.0349, v_num=3, train_loss=0.0106, train_accuracy=1.000, val_loss=0.184, val_accuracy=0.954]"
     ]
    },
    {
     "name": "stderr",
     "output_type": "stream",
     "text": [
      "Epoch 191, global step 43391: val_loss was not in top 2\n"
     ]
    },
    {
     "name": "stdout",
     "output_type": "stream",
     "text": [
      "Epoch 192:  89%|████████▊ | 226/255 [02:38<00:20,  1.43it/s, loss=0.022, v_num=3, train_loss=0.130, train_accuracy=0.944, val_loss=0.184, val_accuracy=0.954]    \n",
      "Validating: 0it [00:00, ?it/s]\u001b[A\n",
      "Validating:   0%|          | 0/29 [00:00<?, ?it/s]\u001b[A\n",
      "Epoch 192:  89%|████████▉ | 228/255 [02:41<00:19,  1.41it/s, loss=0.022, v_num=3, train_loss=0.130, train_accuracy=0.944, val_loss=0.184, val_accuracy=0.954]\n",
      "Validating:   7%|▋         | 2/29 [00:03<00:45,  1.68s/it]\u001b[A\n",
      "Epoch 192:  90%|█████████ | 230/255 [02:42<00:17,  1.42it/s, loss=0.022, v_num=3, train_loss=0.130, train_accuracy=0.944, val_loss=0.184, val_accuracy=0.954]\n",
      "Validating:  14%|█▍        | 4/29 [00:04<00:16,  1.48it/s]\u001b[A\n",
      "Epoch 192:  91%|█████████ | 232/255 [02:42<00:16,  1.43it/s, loss=0.022, v_num=3, train_loss=0.130, train_accuracy=0.944, val_loss=0.184, val_accuracy=0.954]\n",
      "Validating:  21%|██        | 6/29 [00:04<00:08,  2.56it/s]\u001b[A\n",
      "Epoch 192:  92%|█████████▏| 234/255 [02:43<00:14,  1.44it/s, loss=0.022, v_num=3, train_loss=0.130, train_accuracy=0.944, val_loss=0.184, val_accuracy=0.954]\n",
      "Validating:  28%|██▊       | 8/29 [00:05<00:05,  3.56it/s]\u001b[A\n",
      "Epoch 192:  93%|█████████▎| 236/255 [02:43<00:13,  1.44it/s, loss=0.022, v_num=3, train_loss=0.130, train_accuracy=0.944, val_loss=0.184, val_accuracy=0.954]\n",
      "Validating:  34%|███▍      | 10/29 [00:05<00:04,  4.45it/s]\u001b[A\n",
      "Epoch 192:  93%|█████████▎| 238/255 [02:43<00:11,  1.45it/s, loss=0.022, v_num=3, train_loss=0.130, train_accuracy=0.944, val_loss=0.184, val_accuracy=0.954]\n",
      "Validating:  41%|████▏     | 12/29 [00:05<00:03,  4.93it/s]\u001b[A\n",
      "Epoch 192:  94%|█████████▍| 240/255 [02:44<00:10,  1.46it/s, loss=0.022, v_num=3, train_loss=0.130, train_accuracy=0.944, val_loss=0.184, val_accuracy=0.954]\n",
      "Validating:  48%|████▊     | 14/29 [00:06<00:02,  5.31it/s]\u001b[A\n",
      "Epoch 192:  95%|█████████▍| 242/255 [02:44<00:08,  1.47it/s, loss=0.022, v_num=3, train_loss=0.130, train_accuracy=0.944, val_loss=0.184, val_accuracy=0.954]\n",
      "Validating:  55%|█████▌    | 16/29 [00:06<00:02,  5.47it/s]\u001b[A\n",
      "Epoch 192:  96%|█████████▌| 244/255 [02:44<00:07,  1.48it/s, loss=0.022, v_num=3, train_loss=0.130, train_accuracy=0.944, val_loss=0.184, val_accuracy=0.954]\n",
      "Validating:  62%|██████▏   | 18/29 [00:06<00:01,  5.57it/s]\u001b[A\n",
      "Epoch 192:  96%|█████████▋| 246/255 [02:45<00:06,  1.49it/s, loss=0.022, v_num=3, train_loss=0.130, train_accuracy=0.944, val_loss=0.184, val_accuracy=0.954]\n",
      "Validating:  69%|██████▉   | 20/29 [00:07<00:01,  5.55it/s]\u001b[A\n",
      "Epoch 192:  97%|█████████▋| 248/255 [02:45<00:04,  1.50it/s, loss=0.022, v_num=3, train_loss=0.130, train_accuracy=0.944, val_loss=0.184, val_accuracy=0.954]\n",
      "Validating:  76%|███████▌  | 22/29 [00:07<00:01,  5.61it/s]\u001b[A\n",
      "Epoch 192:  98%|█████████▊| 250/255 [02:45<00:03,  1.51it/s, loss=0.022, v_num=3, train_loss=0.130, train_accuracy=0.944, val_loss=0.184, val_accuracy=0.954]\n",
      "Validating:  83%|████████▎ | 24/29 [00:07<00:00,  5.63it/s]\u001b[A\n",
      "Epoch 192:  99%|█████████▉| 252/255 [02:46<00:01,  1.52it/s, loss=0.022, v_num=3, train_loss=0.130, train_accuracy=0.944, val_loss=0.184, val_accuracy=0.954]\n",
      "Validating:  90%|████████▉ | 26/29 [00:08<00:00,  5.66it/s]\u001b[A\n",
      "Epoch 192: 100%|█████████▉| 254/255 [02:46<00:00,  1.52it/s, loss=0.022, v_num=3, train_loss=0.130, train_accuracy=0.944, val_loss=0.184, val_accuracy=0.954]\n",
      "Validating:  97%|█████████▋| 28/29 [00:08<00:00,  5.62it/s]\u001b[A\n",
      "Epoch 192: 100%|██████████| 255/255 [02:47<00:00,  1.52it/s, loss=0.022, v_num=3, train_loss=0.130, train_accuracy=0.944, val_loss=0.147, val_accuracy=0.961]\n",
      "Epoch 192: 100%|██████████| 255/255 [02:47<00:00,  1.52it/s, loss=0.022, v_num=3, train_loss=0.130, train_accuracy=0.944, val_loss=0.147, val_accuracy=0.961]"
     ]
    },
    {
     "name": "stderr",
     "output_type": "stream",
     "text": [
      "Epoch 192, global step 43617: val_loss was not in top 2\n"
     ]
    },
    {
     "name": "stdout",
     "output_type": "stream",
     "text": [
      "Epoch 193:  89%|████████▊ | 226/255 [02:35<00:19,  1.46it/s, loss=0.0421, v_num=3, train_loss=0.000554, train_accuracy=1.000, val_loss=0.147, val_accuracy=0.961]\n",
      "Validating: 0it [00:00, ?it/s]\u001b[A\n",
      "Validating:   0%|          | 0/29 [00:00<?, ?it/s]\u001b[A\n",
      "Epoch 193:  89%|████████▉ | 228/255 [02:39<00:18,  1.43it/s, loss=0.0421, v_num=3, train_loss=0.000554, train_accuracy=1.000, val_loss=0.147, val_accuracy=0.961]\n",
      "Validating:   7%|▋         | 2/29 [00:04<00:45,  1.69s/it]\u001b[A\n",
      "Epoch 193:  90%|█████████ | 230/255 [02:39<00:17,  1.44it/s, loss=0.0421, v_num=3, train_loss=0.000554, train_accuracy=1.000, val_loss=0.147, val_accuracy=0.961]\n",
      "Validating:  14%|█▍        | 4/29 [00:04<00:16,  1.48it/s]\u001b[A\n",
      "Epoch 193:  91%|█████████ | 232/255 [02:39<00:15,  1.45it/s, loss=0.0421, v_num=3, train_loss=0.000554, train_accuracy=1.000, val_loss=0.147, val_accuracy=0.961]\n",
      "Validating:  21%|██        | 6/29 [00:04<00:08,  2.59it/s]\u001b[A\n",
      "Epoch 193:  92%|█████████▏| 234/255 [02:40<00:14,  1.46it/s, loss=0.0421, v_num=3, train_loss=0.000554, train_accuracy=1.000, val_loss=0.147, val_accuracy=0.961]\n",
      "Validating:  28%|██▊       | 8/29 [00:05<00:05,  3.66it/s]\u001b[A\n",
      "Epoch 193:  93%|█████████▎| 236/255 [02:40<00:12,  1.47it/s, loss=0.0421, v_num=3, train_loss=0.000554, train_accuracy=1.000, val_loss=0.147, val_accuracy=0.961]\n",
      "Validating:  34%|███▍      | 10/29 [00:05<00:04,  4.32it/s]\u001b[A\n",
      "Epoch 193:  93%|█████████▎| 238/255 [02:40<00:11,  1.48it/s, loss=0.0421, v_num=3, train_loss=0.000554, train_accuracy=1.000, val_loss=0.147, val_accuracy=0.961]\n",
      "Validating:  41%|████▏     | 12/29 [00:05<00:03,  4.93it/s]\u001b[A\n",
      "Epoch 193:  94%|█████████▍| 240/255 [02:41<00:10,  1.49it/s, loss=0.0421, v_num=3, train_loss=0.000554, train_accuracy=1.000, val_loss=0.147, val_accuracy=0.961]\n",
      "Validating:  48%|████▊     | 14/29 [00:06<00:02,  5.24it/s]\u001b[A\n",
      "Epoch 193:  95%|█████████▍| 242/255 [02:41<00:08,  1.50it/s, loss=0.0421, v_num=3, train_loss=0.000554, train_accuracy=1.000, val_loss=0.147, val_accuracy=0.961]\n",
      "Validating:  55%|█████▌    | 16/29 [00:06<00:02,  5.44it/s]\u001b[A\n",
      "Epoch 193:  96%|█████████▌| 244/255 [02:42<00:07,  1.51it/s, loss=0.0421, v_num=3, train_loss=0.000554, train_accuracy=1.000, val_loss=0.147, val_accuracy=0.961]\n",
      "Validating:  62%|██████▏   | 18/29 [00:06<00:02,  5.49it/s]\u001b[A\n",
      "Epoch 193:  96%|█████████▋| 246/255 [02:42<00:05,  1.51it/s, loss=0.0421, v_num=3, train_loss=0.000554, train_accuracy=1.000, val_loss=0.147, val_accuracy=0.961]\n",
      "Validating:  69%|██████▉   | 20/29 [00:07<00:01,  5.58it/s]\u001b[A\n",
      "Epoch 193:  97%|█████████▋| 248/255 [02:42<00:04,  1.52it/s, loss=0.0421, v_num=3, train_loss=0.000554, train_accuracy=1.000, val_loss=0.147, val_accuracy=0.961]\n",
      "Validating:  76%|███████▌  | 22/29 [00:07<00:01,  5.59it/s]\u001b[A\n",
      "Epoch 193:  98%|█████████▊| 250/255 [02:43<00:03,  1.53it/s, loss=0.0421, v_num=3, train_loss=0.000554, train_accuracy=1.000, val_loss=0.147, val_accuracy=0.961]\n",
      "Validating:  83%|████████▎ | 24/29 [00:07<00:00,  5.65it/s]\u001b[A\n",
      "Epoch 193:  99%|█████████▉| 252/255 [02:43<00:01,  1.54it/s, loss=0.0421, v_num=3, train_loss=0.000554, train_accuracy=1.000, val_loss=0.147, val_accuracy=0.961]\n",
      "Validating:  90%|████████▉ | 26/29 [00:08<00:00,  5.67it/s]\u001b[A\n",
      "Epoch 193: 100%|█████████▉| 254/255 [02:43<00:00,  1.55it/s, loss=0.0421, v_num=3, train_loss=0.000554, train_accuracy=1.000, val_loss=0.147, val_accuracy=0.961]\n",
      "Validating:  97%|█████████▋| 28/29 [00:08<00:00,  5.63it/s]\u001b[A\n",
      "Epoch 193: 100%|██████████| 255/255 [02:44<00:00,  1.55it/s, loss=0.0421, v_num=3, train_loss=0.000554, train_accuracy=1.000, val_loss=0.151, val_accuracy=0.958]\n",
      "Epoch 193: 100%|██████████| 255/255 [02:44<00:00,  1.55it/s, loss=0.0421, v_num=3, train_loss=0.000554, train_accuracy=1.000, val_loss=0.151, val_accuracy=0.958]"
     ]
    },
    {
     "name": "stderr",
     "output_type": "stream",
     "text": [
      "Epoch 193, global step 43843: val_loss was not in top 2\n"
     ]
    },
    {
     "name": "stdout",
     "output_type": "stream",
     "text": [
      "Epoch 194:  89%|████████▊ | 226/255 [02:37<00:20,  1.43it/s, loss=0.0261, v_num=3, train_loss=0.00264, train_accuracy=1.000, val_loss=0.151, val_accuracy=0.958] \n",
      "Validating: 0it [00:00, ?it/s]\u001b[A\n",
      "Validating:   0%|          | 0/29 [00:00<?, ?it/s]\u001b[A\n",
      "Epoch 194:  89%|████████▉ | 228/255 [02:41<00:19,  1.41it/s, loss=0.0261, v_num=3, train_loss=0.00264, train_accuracy=1.000, val_loss=0.151, val_accuracy=0.958]\n",
      "Validating:   7%|▋         | 2/29 [00:03<00:45,  1.68s/it]\u001b[A\n",
      "Epoch 194:  90%|█████████ | 230/255 [02:41<00:17,  1.42it/s, loss=0.0261, v_num=3, train_loss=0.00264, train_accuracy=1.000, val_loss=0.151, val_accuracy=0.958]\n",
      "Validating:  14%|█▍        | 4/29 [00:04<00:16,  1.48it/s]\u001b[A\n",
      "Epoch 194:  91%|█████████ | 232/255 [02:42<00:16,  1.43it/s, loss=0.0261, v_num=3, train_loss=0.00264, train_accuracy=1.000, val_loss=0.151, val_accuracy=0.958]\n",
      "Validating:  21%|██        | 6/29 [00:04<00:08,  2.59it/s]\u001b[A\n",
      "Epoch 194:  92%|█████████▏| 234/255 [02:42<00:14,  1.44it/s, loss=0.0261, v_num=3, train_loss=0.00264, train_accuracy=1.000, val_loss=0.151, val_accuracy=0.958]\n",
      "Validating:  28%|██▊       | 8/29 [00:05<00:05,  3.62it/s]\u001b[A\n",
      "Epoch 194:  93%|█████████▎| 236/255 [02:43<00:13,  1.45it/s, loss=0.0261, v_num=3, train_loss=0.00264, train_accuracy=1.000, val_loss=0.151, val_accuracy=0.958]\n",
      "Validating:  34%|███▍      | 10/29 [00:05<00:04,  4.49it/s]\u001b[A\n",
      "Epoch 194:  93%|█████████▎| 238/255 [02:43<00:11,  1.46it/s, loss=0.0261, v_num=3, train_loss=0.00264, train_accuracy=1.000, val_loss=0.151, val_accuracy=0.958]\n",
      "Validating:  41%|████▏     | 12/29 [00:05<00:03,  5.01it/s]\u001b[A\n",
      "Epoch 194:  94%|█████████▍| 240/255 [02:43<00:10,  1.47it/s, loss=0.0261, v_num=3, train_loss=0.00264, train_accuracy=1.000, val_loss=0.151, val_accuracy=0.958]\n",
      "Validating:  48%|████▊     | 14/29 [00:06<00:02,  5.33it/s]\u001b[A\n",
      "Epoch 194:  95%|█████████▍| 242/255 [02:44<00:08,  1.47it/s, loss=0.0261, v_num=3, train_loss=0.00264, train_accuracy=1.000, val_loss=0.151, val_accuracy=0.958]\n",
      "Validating:  55%|█████▌    | 16/29 [00:06<00:02,  5.48it/s]\u001b[A\n",
      "Epoch 194:  96%|█████████▌| 244/255 [02:44<00:07,  1.48it/s, loss=0.0261, v_num=3, train_loss=0.00264, train_accuracy=1.000, val_loss=0.151, val_accuracy=0.958]\n",
      "Validating:  62%|██████▏   | 18/29 [00:06<00:01,  5.55it/s]\u001b[A\n",
      "Epoch 194:  96%|█████████▋| 246/255 [02:44<00:06,  1.49it/s, loss=0.0261, v_num=3, train_loss=0.00264, train_accuracy=1.000, val_loss=0.151, val_accuracy=0.958]\n",
      "Validating:  69%|██████▉   | 20/29 [00:07<00:01,  5.52it/s]\u001b[A\n",
      "Epoch 194:  97%|█████████▋| 248/255 [02:45<00:04,  1.50it/s, loss=0.0261, v_num=3, train_loss=0.00264, train_accuracy=1.000, val_loss=0.151, val_accuracy=0.958]\n",
      "Validating:  76%|███████▌  | 22/29 [00:07<00:01,  5.58it/s]\u001b[A\n",
      "Epoch 194:  98%|█████████▊| 250/255 [02:45<00:03,  1.51it/s, loss=0.0261, v_num=3, train_loss=0.00264, train_accuracy=1.000, val_loss=0.151, val_accuracy=0.958]\n",
      "Validating:  83%|████████▎ | 24/29 [00:07<00:00,  5.60it/s]\u001b[A\n",
      "Epoch 194:  99%|█████████▉| 252/255 [02:45<00:01,  1.52it/s, loss=0.0261, v_num=3, train_loss=0.00264, train_accuracy=1.000, val_loss=0.151, val_accuracy=0.958]\n",
      "Validating:  90%|████████▉ | 26/29 [00:08<00:00,  5.61it/s]\u001b[A\n",
      "Epoch 194: 100%|█████████▉| 254/255 [02:46<00:00,  1.53it/s, loss=0.0261, v_num=3, train_loss=0.00264, train_accuracy=1.000, val_loss=0.151, val_accuracy=0.958]\n",
      "Validating:  97%|█████████▋| 28/29 [00:08<00:00,  5.60it/s]\u001b[A\n",
      "Epoch 194: 100%|██████████| 255/255 [02:47<00:00,  1.53it/s, loss=0.0261, v_num=3, train_loss=0.00264, train_accuracy=1.000, val_loss=0.146, val_accuracy=0.960]\n",
      "Epoch 194: 100%|██████████| 255/255 [02:47<00:00,  1.53it/s, loss=0.0261, v_num=3, train_loss=0.00264, train_accuracy=1.000, val_loss=0.146, val_accuracy=0.960]"
     ]
    },
    {
     "name": "stderr",
     "output_type": "stream",
     "text": [
      "Epoch 194, global step 44069: val_loss was not in top 2\n"
     ]
    },
    {
     "name": "stdout",
     "output_type": "stream",
     "text": [
      "Epoch 195:  89%|████████▊ | 226/255 [02:37<00:20,  1.43it/s, loss=0.0174, v_num=3, train_loss=0.000623, train_accuracy=1.000, val_loss=0.146, val_accuracy=0.960] \n",
      "Validating: 0it [00:00, ?it/s]\u001b[A\n",
      "Validating:   0%|          | 0/29 [00:00<?, ?it/s]\u001b[A\n",
      "Epoch 195:  89%|████████▉ | 228/255 [02:41<00:19,  1.41it/s, loss=0.0174, v_num=3, train_loss=0.000623, train_accuracy=1.000, val_loss=0.146, val_accuracy=0.960]\n",
      "Validating:   7%|▋         | 2/29 [00:03<00:44,  1.67s/it]\u001b[A\n",
      "Epoch 195:  90%|█████████ | 230/255 [02:41<00:17,  1.42it/s, loss=0.0174, v_num=3, train_loss=0.000623, train_accuracy=1.000, val_loss=0.146, val_accuracy=0.960]\n",
      "Validating:  14%|█▍        | 4/29 [00:04<00:16,  1.48it/s]\u001b[A\n",
      "Epoch 195:  91%|█████████ | 232/255 [02:42<00:16,  1.43it/s, loss=0.0174, v_num=3, train_loss=0.000623, train_accuracy=1.000, val_loss=0.146, val_accuracy=0.960]\n",
      "Validating:  21%|██        | 6/29 [00:04<00:08,  2.58it/s]\u001b[A\n",
      "Epoch 195:  92%|█████████▏| 234/255 [02:42<00:14,  1.44it/s, loss=0.0174, v_num=3, train_loss=0.000623, train_accuracy=1.000, val_loss=0.146, val_accuracy=0.960]\n",
      "Validating:  28%|██▊       | 8/29 [00:05<00:05,  3.64it/s]\u001b[A\n",
      "Epoch 195:  93%|█████████▎| 236/255 [02:42<00:13,  1.45it/s, loss=0.0174, v_num=3, train_loss=0.000623, train_accuracy=1.000, val_loss=0.146, val_accuracy=0.960]\n",
      "Validating:  34%|███▍      | 10/29 [00:05<00:04,  4.42it/s]\u001b[A\n",
      "Epoch 195:  93%|█████████▎| 238/255 [02:43<00:11,  1.46it/s, loss=0.0174, v_num=3, train_loss=0.000623, train_accuracy=1.000, val_loss=0.146, val_accuracy=0.960]\n",
      "Validating:  41%|████▏     | 12/29 [00:05<00:03,  4.99it/s]\u001b[A\n",
      "Epoch 195:  94%|█████████▍| 240/255 [02:43<00:10,  1.47it/s, loss=0.0174, v_num=3, train_loss=0.000623, train_accuracy=1.000, val_loss=0.146, val_accuracy=0.960]\n",
      "Validating:  48%|████▊     | 14/29 [00:06<00:02,  5.38it/s]\u001b[A\n",
      "Epoch 195:  95%|█████████▍| 242/255 [02:43<00:08,  1.48it/s, loss=0.0174, v_num=3, train_loss=0.000623, train_accuracy=1.000, val_loss=0.146, val_accuracy=0.960]\n",
      "Validating:  55%|█████▌    | 16/29 [00:06<00:02,  5.56it/s]\u001b[A\n",
      "Epoch 195:  96%|█████████▌| 244/255 [02:44<00:07,  1.49it/s, loss=0.0174, v_num=3, train_loss=0.000623, train_accuracy=1.000, val_loss=0.146, val_accuracy=0.960]\n",
      "Validating:  62%|██████▏   | 18/29 [00:06<00:01,  5.58it/s]\u001b[A\n",
      "Epoch 195:  96%|█████████▋| 246/255 [02:44<00:06,  1.49it/s, loss=0.0174, v_num=3, train_loss=0.000623, train_accuracy=1.000, val_loss=0.146, val_accuracy=0.960]\n",
      "Validating:  69%|██████▉   | 20/29 [00:07<00:01,  5.61it/s]\u001b[A\n",
      "Epoch 195:  97%|█████████▋| 248/255 [02:44<00:04,  1.50it/s, loss=0.0174, v_num=3, train_loss=0.000623, train_accuracy=1.000, val_loss=0.146, val_accuracy=0.960]\n",
      "Validating:  76%|███████▌  | 22/29 [00:07<00:01,  5.62it/s]\u001b[A\n",
      "Epoch 195:  98%|█████████▊| 250/255 [02:45<00:03,  1.51it/s, loss=0.0174, v_num=3, train_loss=0.000623, train_accuracy=1.000, val_loss=0.146, val_accuracy=0.960]\n",
      "Validating:  83%|████████▎ | 24/29 [00:07<00:00,  5.65it/s]\u001b[A\n",
      "Epoch 195:  99%|█████████▉| 252/255 [02:45<00:01,  1.52it/s, loss=0.0174, v_num=3, train_loss=0.000623, train_accuracy=1.000, val_loss=0.146, val_accuracy=0.960]\n",
      "Validating:  90%|████████▉ | 26/29 [00:08<00:00,  5.66it/s]\u001b[A\n",
      "Epoch 195: 100%|█████████▉| 254/255 [02:46<00:00,  1.53it/s, loss=0.0174, v_num=3, train_loss=0.000623, train_accuracy=1.000, val_loss=0.146, val_accuracy=0.960]\n",
      "Validating:  97%|█████████▋| 28/29 [00:08<00:00,  5.65it/s]\u001b[A\n",
      "Epoch 195: 100%|██████████| 255/255 [02:46<00:00,  1.53it/s, loss=0.0174, v_num=3, train_loss=0.000623, train_accuracy=1.000, val_loss=0.189, val_accuracy=0.950]\n",
      "Epoch 195: 100%|██████████| 255/255 [02:46<00:00,  1.53it/s, loss=0.0174, v_num=3, train_loss=0.000623, train_accuracy=1.000, val_loss=0.189, val_accuracy=0.950]"
     ]
    },
    {
     "name": "stderr",
     "output_type": "stream",
     "text": [
      "Epoch 195, global step 44295: val_loss was not in top 2\n"
     ]
    },
    {
     "name": "stdout",
     "output_type": "stream",
     "text": [
      "Epoch 196:  89%|████████▊ | 226/255 [02:38<00:20,  1.43it/s, loss=0.0132, v_num=3, train_loss=0.00024, train_accuracy=1.000, val_loss=0.189, val_accuracy=0.950]  \n",
      "Validating: 0it [00:00, ?it/s]\u001b[A\n",
      "Validating:   0%|          | 0/29 [00:00<?, ?it/s]\u001b[A\n",
      "Epoch 196:  89%|████████▉ | 228/255 [02:42<00:19,  1.41it/s, loss=0.0132, v_num=3, train_loss=0.00024, train_accuracy=1.000, val_loss=0.189, val_accuracy=0.950]\n",
      "Validating:   7%|▋         | 2/29 [00:04<00:47,  1.76s/it]\u001b[A\n",
      "Epoch 196:  90%|█████████ | 230/255 [02:42<00:17,  1.41it/s, loss=0.0132, v_num=3, train_loss=0.00024, train_accuracy=1.000, val_loss=0.189, val_accuracy=0.950]\n",
      "Validating:  14%|█▍        | 4/29 [00:04<00:17,  1.42it/s]\u001b[A\n",
      "Epoch 196:  91%|█████████ | 232/255 [02:42<00:16,  1.42it/s, loss=0.0132, v_num=3, train_loss=0.00024, train_accuracy=1.000, val_loss=0.189, val_accuracy=0.950]\n",
      "Validating:  21%|██        | 6/29 [00:04<00:09,  2.48it/s]\u001b[A\n",
      "Epoch 196:  92%|█████████▏| 234/255 [02:43<00:14,  1.43it/s, loss=0.0132, v_num=3, train_loss=0.00024, train_accuracy=1.000, val_loss=0.189, val_accuracy=0.950]\n",
      "Validating:  28%|██▊       | 8/29 [00:05<00:05,  3.57it/s]\u001b[A\n",
      "Epoch 196:  93%|█████████▎| 236/255 [02:43<00:13,  1.44it/s, loss=0.0132, v_num=3, train_loss=0.00024, train_accuracy=1.000, val_loss=0.189, val_accuracy=0.950]\n",
      "Validating:  34%|███▍      | 10/29 [00:05<00:04,  4.41it/s]\u001b[A\n",
      "Epoch 196:  93%|█████████▎| 238/255 [02:44<00:11,  1.45it/s, loss=0.0132, v_num=3, train_loss=0.00024, train_accuracy=1.000, val_loss=0.189, val_accuracy=0.950]\n",
      "Validating:  41%|████▏     | 12/29 [00:05<00:03,  4.98it/s]\u001b[A\n",
      "Epoch 196:  94%|█████████▍| 240/255 [02:44<00:10,  1.46it/s, loss=0.0132, v_num=3, train_loss=0.00024, train_accuracy=1.000, val_loss=0.189, val_accuracy=0.950]\n",
      "Validating:  48%|████▊     | 14/29 [00:06<00:02,  5.32it/s]\u001b[A\n",
      "Epoch 196:  95%|█████████▍| 242/255 [02:44<00:08,  1.47it/s, loss=0.0132, v_num=3, train_loss=0.00024, train_accuracy=1.000, val_loss=0.189, val_accuracy=0.950]\n",
      "Validating:  55%|█████▌    | 16/29 [00:06<00:02,  5.53it/s]\u001b[A\n",
      "Epoch 196:  96%|█████████▌| 244/255 [02:45<00:07,  1.48it/s, loss=0.0132, v_num=3, train_loss=0.00024, train_accuracy=1.000, val_loss=0.189, val_accuracy=0.950]\n",
      "Validating:  62%|██████▏   | 18/29 [00:07<00:01,  5.55it/s]\u001b[A\n",
      "Epoch 196:  96%|█████████▋| 246/255 [02:45<00:06,  1.49it/s, loss=0.0132, v_num=3, train_loss=0.00024, train_accuracy=1.000, val_loss=0.189, val_accuracy=0.950]\n",
      "Validating:  69%|██████▉   | 20/29 [00:07<00:01,  5.63it/s]\u001b[A\n",
      "Epoch 196:  97%|█████████▋| 248/255 [02:45<00:04,  1.50it/s, loss=0.0132, v_num=3, train_loss=0.00024, train_accuracy=1.000, val_loss=0.189, val_accuracy=0.950]\n",
      "Validating:  76%|███████▌  | 22/29 [00:07<00:01,  5.62it/s]\u001b[A\n",
      "Epoch 196:  98%|█████████▊| 250/255 [02:46<00:03,  1.50it/s, loss=0.0132, v_num=3, train_loss=0.00024, train_accuracy=1.000, val_loss=0.189, val_accuracy=0.950]\n",
      "Validating:  83%|████████▎ | 24/29 [00:08<00:00,  5.62it/s]\u001b[A\n",
      "Epoch 196:  99%|█████████▉| 252/255 [02:46<00:01,  1.51it/s, loss=0.0132, v_num=3, train_loss=0.00024, train_accuracy=1.000, val_loss=0.189, val_accuracy=0.950]\n",
      "Validating:  90%|████████▉ | 26/29 [00:08<00:00,  5.62it/s]\u001b[A\n",
      "Epoch 196: 100%|█████████▉| 254/255 [02:46<00:00,  1.52it/s, loss=0.0132, v_num=3, train_loss=0.00024, train_accuracy=1.000, val_loss=0.189, val_accuracy=0.950]\n",
      "Validating:  97%|█████████▋| 28/29 [00:08<00:00,  5.58it/s]\u001b[A\n",
      "Epoch 196: 100%|██████████| 255/255 [02:47<00:00,  1.52it/s, loss=0.0132, v_num=3, train_loss=0.00024, train_accuracy=1.000, val_loss=0.165, val_accuracy=0.955]\n",
      "Epoch 196: 100%|██████████| 255/255 [02:47<00:00,  1.52it/s, loss=0.0132, v_num=3, train_loss=0.00024, train_accuracy=1.000, val_loss=0.165, val_accuracy=0.955]"
     ]
    },
    {
     "name": "stderr",
     "output_type": "stream",
     "text": [
      "Epoch 196, global step 44521: val_loss was not in top 2\n"
     ]
    },
    {
     "name": "stdout",
     "output_type": "stream",
     "text": [
      "Epoch 197:  89%|████████▊ | 226/255 [02:37<00:20,  1.43it/s, loss=0.00961, v_num=3, train_loss=0.00641, train_accuracy=1.000, val_loss=0.165, val_accuracy=0.955]\n",
      "Validating: 0it [00:00, ?it/s]\u001b[A\n",
      "Validating:   0%|          | 0/29 [00:00<?, ?it/s]\u001b[A\n",
      "Epoch 197:  89%|████████▉ | 228/255 [02:41<00:19,  1.41it/s, loss=0.00961, v_num=3, train_loss=0.00641, train_accuracy=1.000, val_loss=0.165, val_accuracy=0.955]\n",
      "Validating:   7%|▋         | 2/29 [00:04<00:46,  1.72s/it]\u001b[A\n",
      "Epoch 197:  90%|█████████ | 230/255 [02:41<00:17,  1.42it/s, loss=0.00961, v_num=3, train_loss=0.00641, train_accuracy=1.000, val_loss=0.165, val_accuracy=0.955]\n",
      "Validating:  14%|█▍        | 4/29 [00:04<00:17,  1.45it/s]\u001b[A\n",
      "Epoch 197:  91%|█████████ | 232/255 [02:42<00:16,  1.43it/s, loss=0.00961, v_num=3, train_loss=0.00641, train_accuracy=1.000, val_loss=0.165, val_accuracy=0.955]\n",
      "Validating:  21%|██        | 6/29 [00:04<00:09,  2.54it/s]\u001b[A\n",
      "Epoch 197:  92%|█████████▏| 234/255 [02:42<00:14,  1.44it/s, loss=0.00961, v_num=3, train_loss=0.00641, train_accuracy=1.000, val_loss=0.165, val_accuracy=0.955]\n",
      "Validating:  28%|██▊       | 8/29 [00:05<00:05,  3.55it/s]\u001b[A\n",
      "Epoch 197:  93%|█████████▎| 236/255 [02:42<00:13,  1.45it/s, loss=0.00961, v_num=3, train_loss=0.00641, train_accuracy=1.000, val_loss=0.165, val_accuracy=0.955]\n",
      "Validating:  34%|███▍      | 10/29 [00:05<00:04,  4.45it/s]\u001b[A\n",
      "Epoch 197:  93%|█████████▎| 238/255 [02:43<00:11,  1.46it/s, loss=0.00961, v_num=3, train_loss=0.00641, train_accuracy=1.000, val_loss=0.165, val_accuracy=0.955]\n",
      "Validating:  41%|████▏     | 12/29 [00:05<00:03,  5.01it/s]\u001b[A\n",
      "Epoch 197:  94%|█████████▍| 240/255 [02:43<00:10,  1.47it/s, loss=0.00961, v_num=3, train_loss=0.00641, train_accuracy=1.000, val_loss=0.165, val_accuracy=0.955]\n",
      "Validating:  48%|████▊     | 14/29 [00:06<00:02,  5.29it/s]\u001b[A\n",
      "Epoch 197:  95%|█████████▍| 242/255 [02:43<00:08,  1.48it/s, loss=0.00961, v_num=3, train_loss=0.00641, train_accuracy=1.000, val_loss=0.165, val_accuracy=0.955]\n",
      "Validating:  55%|█████▌    | 16/29 [00:06<00:02,  5.45it/s]\u001b[A\n",
      "Epoch 197:  96%|█████████▌| 244/255 [02:44<00:07,  1.49it/s, loss=0.00961, v_num=3, train_loss=0.00641, train_accuracy=1.000, val_loss=0.165, val_accuracy=0.955]\n",
      "Validating:  62%|██████▏   | 18/29 [00:06<00:01,  5.52it/s]\u001b[A\n",
      "Epoch 197:  96%|█████████▋| 246/255 [02:44<00:06,  1.49it/s, loss=0.00961, v_num=3, train_loss=0.00641, train_accuracy=1.000, val_loss=0.165, val_accuracy=0.955]\n",
      "Validating:  69%|██████▉   | 20/29 [00:07<00:01,  5.61it/s]\u001b[A\n",
      "Epoch 197:  97%|█████████▋| 248/255 [02:45<00:04,  1.50it/s, loss=0.00961, v_num=3, train_loss=0.00641, train_accuracy=1.000, val_loss=0.165, val_accuracy=0.955]\n",
      "Validating:  76%|███████▌  | 22/29 [00:07<00:01,  5.64it/s]\u001b[A\n",
      "Epoch 197:  98%|█████████▊| 250/255 [02:45<00:03,  1.51it/s, loss=0.00961, v_num=3, train_loss=0.00641, train_accuracy=1.000, val_loss=0.165, val_accuracy=0.955]\n",
      "Validating:  83%|████████▎ | 24/29 [00:08<00:00,  5.69it/s]\u001b[A\n",
      "Epoch 197:  99%|█████████▉| 252/255 [02:45<00:01,  1.52it/s, loss=0.00961, v_num=3, train_loss=0.00641, train_accuracy=1.000, val_loss=0.165, val_accuracy=0.955]\n",
      "Validating:  90%|████████▉ | 26/29 [00:08<00:00,  5.66it/s]\u001b[A\n",
      "Epoch 197: 100%|█████████▉| 254/255 [02:46<00:00,  1.53it/s, loss=0.00961, v_num=3, train_loss=0.00641, train_accuracy=1.000, val_loss=0.165, val_accuracy=0.955]\n",
      "Validating:  97%|█████████▋| 28/29 [00:08<00:00,  5.57it/s]\u001b[A\n",
      "Epoch 197: 100%|██████████| 255/255 [02:47<00:00,  1.53it/s, loss=0.00961, v_num=3, train_loss=0.00641, train_accuracy=1.000, val_loss=0.148, val_accuracy=0.960]\n",
      "Epoch 197: 100%|██████████| 255/255 [02:47<00:00,  1.53it/s, loss=0.00961, v_num=3, train_loss=0.00641, train_accuracy=1.000, val_loss=0.148, val_accuracy=0.960]"
     ]
    },
    {
     "name": "stderr",
     "output_type": "stream",
     "text": [
      "Epoch 197, global step 44747: val_loss was not in top 2\n"
     ]
    },
    {
     "name": "stdout",
     "output_type": "stream",
     "text": [
      "Epoch 198:  89%|████████▊ | 226/255 [02:35<00:19,  1.45it/s, loss=0.124, v_num=3, train_loss=0.018, train_accuracy=1.000, val_loss=0.148, val_accuracy=0.960]    \n",
      "Validating: 0it [00:00, ?it/s]\u001b[A\n",
      "Validating:   0%|          | 0/29 [00:00<?, ?it/s]\u001b[A\n",
      "Epoch 198:  89%|████████▉ | 228/255 [02:39<00:18,  1.43it/s, loss=0.124, v_num=3, train_loss=0.018, train_accuracy=1.000, val_loss=0.148, val_accuracy=0.960]\n",
      "Validating:   7%|▋         | 2/29 [00:04<00:46,  1.71s/it]\u001b[A\n",
      "Epoch 198:  90%|█████████ | 230/255 [02:39<00:17,  1.44it/s, loss=0.124, v_num=3, train_loss=0.018, train_accuracy=1.000, val_loss=0.148, val_accuracy=0.960]\n",
      "Validating:  14%|█▍        | 4/29 [00:04<00:17,  1.46it/s]\u001b[A\n",
      "Epoch 198:  91%|█████████ | 232/255 [02:40<00:15,  1.45it/s, loss=0.124, v_num=3, train_loss=0.018, train_accuracy=1.000, val_loss=0.148, val_accuracy=0.960]\n",
      "Validating:  21%|██        | 6/29 [00:04<00:09,  2.54it/s]\u001b[A\n",
      "Epoch 198:  92%|█████████▏| 234/255 [02:40<00:14,  1.46it/s, loss=0.124, v_num=3, train_loss=0.018, train_accuracy=1.000, val_loss=0.148, val_accuracy=0.960]\n",
      "Validating:  28%|██▊       | 8/29 [00:05<00:05,  3.56it/s]\u001b[A\n",
      "Epoch 198:  93%|█████████▎| 236/255 [02:40<00:12,  1.47it/s, loss=0.124, v_num=3, train_loss=0.018, train_accuracy=1.000, val_loss=0.148, val_accuracy=0.960]\n",
      "Validating:  34%|███▍      | 10/29 [00:05<00:04,  4.43it/s]\u001b[A\n",
      "Epoch 198:  93%|█████████▎| 238/255 [02:41<00:11,  1.48it/s, loss=0.124, v_num=3, train_loss=0.018, train_accuracy=1.000, val_loss=0.148, val_accuracy=0.960]\n",
      "Validating:  41%|████▏     | 12/29 [00:05<00:03,  5.00it/s]\u001b[A\n",
      "Epoch 198:  94%|█████████▍| 240/255 [02:41<00:10,  1.49it/s, loss=0.124, v_num=3, train_loss=0.018, train_accuracy=1.000, val_loss=0.148, val_accuracy=0.960]\n",
      "Validating:  48%|████▊     | 14/29 [00:06<00:02,  5.35it/s]\u001b[A\n",
      "Epoch 198:  95%|█████████▍| 242/255 [02:41<00:08,  1.49it/s, loss=0.124, v_num=3, train_loss=0.018, train_accuracy=1.000, val_loss=0.148, val_accuracy=0.960]\n",
      "Validating:  55%|█████▌    | 16/29 [00:06<00:02,  5.49it/s]\u001b[A\n",
      "Epoch 198:  96%|█████████▌| 244/255 [02:42<00:07,  1.50it/s, loss=0.124, v_num=3, train_loss=0.018, train_accuracy=1.000, val_loss=0.148, val_accuracy=0.960]\n",
      "Validating:  62%|██████▏   | 18/29 [00:06<00:02,  5.41it/s]\u001b[A\n",
      "Epoch 198:  96%|█████████▋| 246/255 [02:42<00:05,  1.51it/s, loss=0.124, v_num=3, train_loss=0.018, train_accuracy=1.000, val_loss=0.148, val_accuracy=0.960]\n",
      "Validating:  69%|██████▉   | 20/29 [00:07<00:01,  5.50it/s]\u001b[A\n",
      "Epoch 198:  97%|█████████▋| 248/255 [02:43<00:04,  1.52it/s, loss=0.124, v_num=3, train_loss=0.018, train_accuracy=1.000, val_loss=0.148, val_accuracy=0.960]\n",
      "Validating:  76%|███████▌  | 22/29 [00:07<00:01,  5.62it/s]\u001b[A\n",
      "Epoch 198:  98%|█████████▊| 250/255 [02:43<00:03,  1.53it/s, loss=0.124, v_num=3, train_loss=0.018, train_accuracy=1.000, val_loss=0.148, val_accuracy=0.960]\n",
      "Validating:  83%|████████▎ | 24/29 [00:08<00:00,  5.62it/s]\u001b[A\n",
      "Epoch 198:  99%|█████████▉| 252/255 [02:43<00:01,  1.54it/s, loss=0.124, v_num=3, train_loss=0.018, train_accuracy=1.000, val_loss=0.148, val_accuracy=0.960]\n",
      "Validating:  90%|████████▉ | 26/29 [00:08<00:00,  5.57it/s]\u001b[A\n",
      "Epoch 198: 100%|█████████▉| 254/255 [02:44<00:00,  1.55it/s, loss=0.124, v_num=3, train_loss=0.018, train_accuracy=1.000, val_loss=0.148, val_accuracy=0.960]\n",
      "Validating:  97%|█████████▋| 28/29 [00:08<00:00,  5.58it/s]\u001b[A\n",
      "Epoch 198: 100%|██████████| 255/255 [02:44<00:00,  1.55it/s, loss=0.124, v_num=3, train_loss=0.018, train_accuracy=1.000, val_loss=0.182, val_accuracy=0.940]\n",
      "Epoch 198: 100%|██████████| 255/255 [02:45<00:00,  1.55it/s, loss=0.124, v_num=3, train_loss=0.018, train_accuracy=1.000, val_loss=0.182, val_accuracy=0.940]"
     ]
    },
    {
     "name": "stderr",
     "output_type": "stream",
     "text": [
      "Epoch 198, global step 44973: val_loss was not in top 2\n"
     ]
    },
    {
     "name": "stdout",
     "output_type": "stream",
     "text": [
      "Epoch 199:  89%|████████▊ | 226/255 [02:37<00:20,  1.43it/s, loss=0.0719, v_num=3, train_loss=0.083, train_accuracy=0.944, val_loss=0.182, val_accuracy=0.940] \n",
      "Validating: 0it [00:00, ?it/s]\u001b[A\n",
      "Validating:   0%|          | 0/29 [00:00<?, ?it/s]\u001b[A\n",
      "Epoch 199:  89%|████████▉ | 228/255 [02:41<00:19,  1.41it/s, loss=0.0719, v_num=3, train_loss=0.083, train_accuracy=0.944, val_loss=0.182, val_accuracy=0.940]\n",
      "Validating:   7%|▋         | 2/29 [00:04<00:47,  1.76s/it]\u001b[A\n",
      "Epoch 199:  90%|█████████ | 230/255 [02:42<00:17,  1.42it/s, loss=0.0719, v_num=3, train_loss=0.083, train_accuracy=0.944, val_loss=0.182, val_accuracy=0.940]\n",
      "Validating:  14%|█▍        | 4/29 [00:04<00:17,  1.42it/s]\u001b[A\n",
      "Epoch 199:  91%|█████████ | 232/255 [02:42<00:16,  1.43it/s, loss=0.0719, v_num=3, train_loss=0.083, train_accuracy=0.944, val_loss=0.182, val_accuracy=0.940]\n",
      "Validating:  21%|██        | 6/29 [00:04<00:09,  2.51it/s]\u001b[A\n",
      "Epoch 199:  92%|█████████▏| 234/255 [02:42<00:14,  1.44it/s, loss=0.0719, v_num=3, train_loss=0.083, train_accuracy=0.944, val_loss=0.182, val_accuracy=0.940]\n",
      "Validating:  28%|██▊       | 8/29 [00:05<00:05,  3.58it/s]\u001b[A\n",
      "Epoch 199:  93%|█████████▎| 236/255 [02:43<00:13,  1.45it/s, loss=0.0719, v_num=3, train_loss=0.083, train_accuracy=0.944, val_loss=0.182, val_accuracy=0.940]\n",
      "Validating:  34%|███▍      | 10/29 [00:05<00:04,  4.37it/s]\u001b[A\n",
      "Epoch 199:  93%|█████████▎| 238/255 [02:43<00:11,  1.45it/s, loss=0.0719, v_num=3, train_loss=0.083, train_accuracy=0.944, val_loss=0.182, val_accuracy=0.940]\n",
      "Validating:  41%|████▏     | 12/29 [00:06<00:03,  4.82it/s]\u001b[A\n",
      "Epoch 199:  94%|█████████▍| 240/255 [02:43<00:10,  1.46it/s, loss=0.0719, v_num=3, train_loss=0.083, train_accuracy=0.944, val_loss=0.182, val_accuracy=0.940]\n",
      "Validating:  48%|████▊     | 14/29 [00:06<00:02,  5.22it/s]\u001b[A\n",
      "Epoch 199:  95%|█████████▍| 242/255 [02:44<00:08,  1.47it/s, loss=0.0719, v_num=3, train_loss=0.083, train_accuracy=0.944, val_loss=0.182, val_accuracy=0.940]\n",
      "Validating:  55%|█████▌    | 16/29 [00:06<00:02,  5.38it/s]\u001b[A\n",
      "Epoch 199:  96%|█████████▌| 244/255 [02:44<00:07,  1.48it/s, loss=0.0719, v_num=3, train_loss=0.083, train_accuracy=0.944, val_loss=0.182, val_accuracy=0.940]\n",
      "Validating:  62%|██████▏   | 18/29 [00:07<00:02,  5.49it/s]\u001b[A\n",
      "Epoch 199:  96%|█████████▋| 246/255 [02:45<00:06,  1.49it/s, loss=0.0719, v_num=3, train_loss=0.083, train_accuracy=0.944, val_loss=0.182, val_accuracy=0.940]\n",
      "Validating:  69%|██████▉   | 20/29 [00:07<00:01,  5.57it/s]\u001b[A\n",
      "Epoch 199:  97%|█████████▋| 248/255 [02:45<00:04,  1.50it/s, loss=0.0719, v_num=3, train_loss=0.083, train_accuracy=0.944, val_loss=0.182, val_accuracy=0.940]\n",
      "Validating:  76%|███████▌  | 22/29 [00:07<00:01,  5.56it/s]\u001b[A\n",
      "Epoch 199:  98%|█████████▊| 250/255 [02:45<00:03,  1.51it/s, loss=0.0719, v_num=3, train_loss=0.083, train_accuracy=0.944, val_loss=0.182, val_accuracy=0.940]\n",
      "Validating:  83%|████████▎ | 24/29 [00:08<00:00,  5.62it/s]\u001b[A\n",
      "Epoch 199:  99%|█████████▉| 252/255 [02:46<00:01,  1.52it/s, loss=0.0719, v_num=3, train_loss=0.083, train_accuracy=0.944, val_loss=0.182, val_accuracy=0.940]\n",
      "Validating:  90%|████████▉ | 26/29 [00:08<00:00,  5.60it/s]\u001b[A\n",
      "Epoch 199: 100%|█████████▉| 254/255 [02:46<00:00,  1.53it/s, loss=0.0719, v_num=3, train_loss=0.083, train_accuracy=0.944, val_loss=0.182, val_accuracy=0.940]\n",
      "Validating:  97%|█████████▋| 28/29 [00:08<00:00,  5.62it/s]\u001b[A\n",
      "Epoch 199: 100%|██████████| 255/255 [02:47<00:00,  1.52it/s, loss=0.0719, v_num=3, train_loss=0.083, train_accuracy=0.944, val_loss=0.185, val_accuracy=0.946]\n",
      "Epoch 199: 100%|██████████| 255/255 [02:47<00:00,  1.52it/s, loss=0.0719, v_num=3, train_loss=0.083, train_accuracy=0.944, val_loss=0.185, val_accuracy=0.946]"
     ]
    },
    {
     "name": "stderr",
     "output_type": "stream",
     "text": [
      "Epoch 199, global step 45199: val_loss was not in top 2\n"
     ]
    },
    {
     "name": "stdout",
     "output_type": "stream",
     "text": [
      "Epoch 199: 100%|██████████| 255/255 [02:47<00:00,  1.52it/s, loss=0.0719, v_num=3, train_loss=0.083, train_accuracy=0.944, val_loss=0.185, val_accuracy=0.946]\n"
     ]
    },
    {
     "name": "stderr",
     "output_type": "stream",
     "text": [
      "LOCAL_RANK: 0 - CUDA_VISIBLE_DEVICES: [0,1,2]\n"
     ]
    },
    {
     "name": "stdout",
     "output_type": "stream",
     "text": [
      "Testing: 100%|██████████| 29/29 [00:09<00:00,  2.88it/s]--------------------------------------------------------------------------------\n",
      "DATALOADER:0 TEST RESULTS\n",
      "{'test_accuracy': 0.9453513026237488, 'test_loss': 0.16889792680740356}\n",
      "--------------------------------------------------------------------------------\n",
      "Testing: 100%|██████████| 29/29 [00:09<00:00,  3.10it/s]\n",
      "------------------ Round: 19 ------------------\n",
      "['F3', 'PZ', 'F4', 'O1', 'FT7', 'CP4', 'FP1', 'C4', 'T6', 'FT8', 'CZ', 'PO1', 'OZ', 'A2', 'A1', 'T3', 'P4', 'P3', 'FT9', 'CPZ', 'PO2']\n",
      "Len: 21\n"
     ]
    },
    {
     "name": "stderr",
     "output_type": "stream",
     "text": [
      "GPU available: True, used: True\n",
      "TPU available: False, using: 0 TPU cores\n",
      "IPU available: False, using: 0 IPUs\n",
      "LOCAL_RANK: 0 - CUDA_VISIBLE_DEVICES: [0,1,2]\n",
      "\n",
      "  | Name      | Type             | Params\n",
      "-----------------------------------------------\n",
      "0 | model     | DrowsyModel      | 1.3 M \n",
      "1 | criterion | CrossEntropyLoss | 0     \n",
      "-----------------------------------------------\n",
      "1.3 M     Trainable params\n",
      "0         Non-trainable params\n",
      "1.3 M     Total params\n",
      "5.356     Total estimated model params size (MB)\n"
     ]
    },
    {
     "name": "stdout",
     "output_type": "stream",
     "text": [
      "                                                                      "
     ]
    },
    {
     "name": "stderr",
     "output_type": "stream",
     "text": [
      "Global seed set to 42\n"
     ]
    },
    {
     "name": "stdout",
     "output_type": "stream",
     "text": [
      "Epoch 0:  89%|████████▊ | 226/255 [02:36<00:20,  1.44it/s, loss=0.649, v_num=2, train_loss=0.521, train_accuracy=0.833]\n",
      "Validating: 0it [00:00, ?it/s]\u001b[A\n",
      "Validating:   0%|          | 0/29 [00:00<?, ?it/s]\u001b[A\n",
      "Epoch 0:  89%|████████▉ | 228/255 [02:39<00:18,  1.43it/s, loss=0.649, v_num=2, train_loss=0.521, train_accuracy=0.833]\n",
      "Validating:   7%|▋         | 2/29 [00:02<00:31,  1.18s/it]\u001b[A\n",
      "Epoch 0:  90%|█████████ | 230/255 [02:39<00:17,  1.44it/s, loss=0.649, v_num=2, train_loss=0.521, train_accuracy=0.833]\n",
      "Validating:  14%|█▍        | 4/29 [00:03<00:12,  1.97it/s]\u001b[A\n",
      "Epoch 0:  91%|█████████ | 232/255 [02:40<00:15,  1.45it/s, loss=0.649, v_num=2, train_loss=0.521, train_accuracy=0.833]\n",
      "Validating:  21%|██        | 6/29 [00:03<00:07,  3.15it/s]\u001b[A\n",
      "Epoch 0:  92%|█████████▏| 234/255 [02:40<00:14,  1.46it/s, loss=0.649, v_num=2, train_loss=0.521, train_accuracy=0.833]\n",
      "Validating:  28%|██▊       | 8/29 [00:03<00:05,  4.15it/s]\u001b[A\n",
      "Epoch 0:  93%|█████████▎| 236/255 [02:40<00:12,  1.47it/s, loss=0.649, v_num=2, train_loss=0.521, train_accuracy=0.833]\n",
      "Validating:  34%|███▍      | 10/29 [00:04<00:03,  4.79it/s]\u001b[A\n",
      "Epoch 0:  93%|█████████▎| 238/255 [02:41<00:11,  1.48it/s, loss=0.649, v_num=2, train_loss=0.521, train_accuracy=0.833]\n",
      "Validating:  41%|████▏     | 12/29 [00:04<00:03,  5.07it/s]\u001b[A\n",
      "Epoch 0:  94%|█████████▍| 240/255 [02:41<00:10,  1.49it/s, loss=0.649, v_num=2, train_loss=0.521, train_accuracy=0.833]\n",
      "Validating:  48%|████▊     | 14/29 [00:04<00:02,  5.39it/s]\u001b[A\n",
      "Epoch 0:  95%|█████████▍| 242/255 [02:41<00:08,  1.50it/s, loss=0.649, v_num=2, train_loss=0.521, train_accuracy=0.833]\n",
      "Validating:  55%|█████▌    | 16/29 [00:05<00:02,  5.54it/s]\u001b[A\n",
      "Epoch 0:  96%|█████████▌| 244/255 [02:42<00:07,  1.50it/s, loss=0.649, v_num=2, train_loss=0.521, train_accuracy=0.833]\n",
      "Validating:  62%|██████▏   | 18/29 [00:05<00:01,  5.64it/s]\u001b[A\n",
      "Epoch 0:  96%|█████████▋| 246/255 [02:42<00:05,  1.51it/s, loss=0.649, v_num=2, train_loss=0.521, train_accuracy=0.833]\n",
      "Validating:  69%|██████▉   | 20/29 [00:05<00:01,  5.66it/s]\u001b[A\n",
      "Epoch 0:  97%|█████████▋| 248/255 [02:42<00:04,  1.52it/s, loss=0.649, v_num=2, train_loss=0.521, train_accuracy=0.833]\n",
      "Validating:  76%|███████▌  | 22/29 [00:06<00:01,  5.67it/s]\u001b[A\n",
      "Epoch 0:  98%|█████████▊| 250/255 [02:43<00:03,  1.53it/s, loss=0.649, v_num=2, train_loss=0.521, train_accuracy=0.833]\n",
      "Validating:  83%|████████▎ | 24/29 [00:06<00:00,  5.64it/s]\u001b[A\n",
      "Epoch 0:  99%|█████████▉| 252/255 [02:43<00:01,  1.54it/s, loss=0.649, v_num=2, train_loss=0.521, train_accuracy=0.833]\n",
      "Validating:  90%|████████▉ | 26/29 [00:07<00:00,  5.60it/s]\u001b[A\n",
      "Epoch 0: 100%|█████████▉| 254/255 [02:43<00:00,  1.55it/s, loss=0.649, v_num=2, train_loss=0.521, train_accuracy=0.833]\n",
      "Validating:  97%|█████████▋| 28/29 [00:07<00:00,  5.54it/s]\u001b[A\n",
      "Epoch 0: 100%|██████████| 255/255 [02:44<00:00,  1.55it/s, loss=0.649, v_num=2, train_loss=0.521, train_accuracy=0.833, val_loss=0.657, val_accuracy=0.617]\n",
      "Epoch 0: 100%|██████████| 255/255 [02:44<00:00,  1.55it/s, loss=0.649, v_num=2, train_loss=0.521, train_accuracy=0.833, val_loss=0.657, val_accuracy=0.617]"
     ]
    },
    {
     "name": "stderr",
     "output_type": "stream",
     "text": [
      "Epoch 0, global step 225: val_loss reached 0.65673 (best 0.65673), saving model to \"/Workspace/code/checkpoints/best-checkpoint-corr-mi-19-v4.ckpt\" as top 2\n"
     ]
    },
    {
     "name": "stdout",
     "output_type": "stream",
     "text": [
      "Epoch 1:  89%|████████▊ | 226/255 [02:36<00:20,  1.44it/s, loss=0.565, v_num=2, train_loss=0.587, train_accuracy=0.556, val_loss=0.657, val_accuracy=0.617]\n",
      "Validating: 0it [00:00, ?it/s]\u001b[A\n",
      "Validating:   0%|          | 0/29 [00:00<?, ?it/s]\u001b[A\n",
      "Epoch 1:  89%|████████▉ | 228/255 [02:39<00:18,  1.43it/s, loss=0.565, v_num=2, train_loss=0.587, train_accuracy=0.556, val_loss=0.657, val_accuracy=0.617]\n",
      "Validating:   7%|▋         | 2/29 [00:02<00:32,  1.19s/it]\u001b[A\n",
      "Epoch 1:  90%|█████████ | 230/255 [02:39<00:17,  1.44it/s, loss=0.565, v_num=2, train_loss=0.587, train_accuracy=0.556, val_loss=0.657, val_accuracy=0.617]\n",
      "Validating:  14%|█▍        | 4/29 [00:03<00:12,  1.97it/s]\u001b[A\n",
      "Epoch 1:  91%|█████████ | 232/255 [02:40<00:15,  1.45it/s, loss=0.565, v_num=2, train_loss=0.587, train_accuracy=0.556, val_loss=0.657, val_accuracy=0.617]\n",
      "Validating:  21%|██        | 6/29 [00:03<00:07,  3.17it/s]\u001b[A\n",
      "Epoch 1:  92%|█████████▏| 234/255 [02:40<00:14,  1.46it/s, loss=0.565, v_num=2, train_loss=0.587, train_accuracy=0.556, val_loss=0.657, val_accuracy=0.617]\n",
      "Validating:  28%|██▊       | 8/29 [00:03<00:05,  4.16it/s]\u001b[A\n",
      "Epoch 1:  93%|█████████▎| 236/255 [02:40<00:12,  1.47it/s, loss=0.565, v_num=2, train_loss=0.587, train_accuracy=0.556, val_loss=0.657, val_accuracy=0.617]\n",
      "Validating:  34%|███▍      | 10/29 [00:04<00:03,  4.79it/s]\u001b[A\n",
      "Epoch 1:  93%|█████████▎| 238/255 [02:41<00:11,  1.48it/s, loss=0.565, v_num=2, train_loss=0.587, train_accuracy=0.556, val_loss=0.657, val_accuracy=0.617]\n",
      "Validating:  41%|████▏     | 12/29 [00:04<00:03,  5.22it/s]\u001b[A\n",
      "Epoch 1:  94%|█████████▍| 240/255 [02:41<00:10,  1.48it/s, loss=0.565, v_num=2, train_loss=0.587, train_accuracy=0.556, val_loss=0.657, val_accuracy=0.617]\n",
      "Validating:  48%|████▊     | 14/29 [00:04<00:02,  5.42it/s]\u001b[A\n",
      "Epoch 1:  95%|█████████▍| 242/255 [02:42<00:08,  1.49it/s, loss=0.565, v_num=2, train_loss=0.587, train_accuracy=0.556, val_loss=0.657, val_accuracy=0.617]\n",
      "Validating:  55%|█████▌    | 16/29 [00:05<00:02,  5.56it/s]\u001b[A\n",
      "Epoch 1:  96%|█████████▌| 244/255 [02:42<00:07,  1.50it/s, loss=0.565, v_num=2, train_loss=0.587, train_accuracy=0.556, val_loss=0.657, val_accuracy=0.617]\n",
      "Validating:  62%|██████▏   | 18/29 [00:05<00:01,  5.69it/s]\u001b[A\n",
      "Epoch 1:  96%|█████████▋| 246/255 [02:42<00:05,  1.51it/s, loss=0.565, v_num=2, train_loss=0.587, train_accuracy=0.556, val_loss=0.657, val_accuracy=0.617]\n",
      "Validating:  69%|██████▉   | 20/29 [00:05<00:01,  5.71it/s]\u001b[A\n",
      "Epoch 1:  97%|█████████▋| 248/255 [02:43<00:04,  1.52it/s, loss=0.565, v_num=2, train_loss=0.587, train_accuracy=0.556, val_loss=0.657, val_accuracy=0.617]\n",
      "Validating:  76%|███████▌  | 22/29 [00:06<00:01,  5.70it/s]\u001b[A\n",
      "Epoch 1:  98%|█████████▊| 250/255 [02:43<00:03,  1.53it/s, loss=0.565, v_num=2, train_loss=0.587, train_accuracy=0.556, val_loss=0.657, val_accuracy=0.617]\n",
      "Validating:  83%|████████▎ | 24/29 [00:06<00:00,  5.71it/s]\u001b[A\n",
      "Epoch 1:  99%|█████████▉| 252/255 [02:43<00:01,  1.54it/s, loss=0.565, v_num=2, train_loss=0.587, train_accuracy=0.556, val_loss=0.657, val_accuracy=0.617]\n",
      "Validating:  90%|████████▉ | 26/29 [00:07<00:00,  5.61it/s]\u001b[A\n",
      "Epoch 1: 100%|█████████▉| 254/255 [02:44<00:00,  1.55it/s, loss=0.565, v_num=2, train_loss=0.587, train_accuracy=0.556, val_loss=0.657, val_accuracy=0.617]\n",
      "Validating:  97%|█████████▋| 28/29 [00:07<00:00,  5.60it/s]\u001b[A\n",
      "Epoch 1: 100%|██████████| 255/255 [02:44<00:00,  1.55it/s, loss=0.565, v_num=2, train_loss=0.587, train_accuracy=0.556, val_loss=0.533, val_accuracy=0.749]\n",
      "Epoch 1: 100%|██████████| 255/255 [02:44<00:00,  1.55it/s, loss=0.565, v_num=2, train_loss=0.587, train_accuracy=0.556, val_loss=0.533, val_accuracy=0.749]"
     ]
    },
    {
     "name": "stderr",
     "output_type": "stream",
     "text": [
      "Epoch 1, global step 451: val_loss reached 0.53304 (best 0.53304), saving model to \"/Workspace/code/checkpoints/best-checkpoint-corr-mi-19-v5.ckpt\" as top 2\n"
     ]
    },
    {
     "name": "stdout",
     "output_type": "stream",
     "text": [
      "Epoch 2:  89%|████████▊ | 226/255 [02:36<00:20,  1.44it/s, loss=0.598, v_num=2, train_loss=0.505, train_accuracy=0.833, val_loss=0.533, val_accuracy=0.749]\n",
      "Validating: 0it [00:00, ?it/s]\u001b[A\n",
      "Validating:   0%|          | 0/29 [00:00<?, ?it/s]\u001b[A\n",
      "Epoch 2:  89%|████████▉ | 228/255 [02:39<00:18,  1.43it/s, loss=0.598, v_num=2, train_loss=0.505, train_accuracy=0.833, val_loss=0.533, val_accuracy=0.749]\n",
      "Validating:   7%|▋         | 2/29 [00:02<00:32,  1.19s/it]\u001b[A\n",
      "Epoch 2:  90%|█████████ | 230/255 [02:39<00:17,  1.44it/s, loss=0.598, v_num=2, train_loss=0.505, train_accuracy=0.833, val_loss=0.533, val_accuracy=0.749]\n",
      "Validating:  14%|█▍        | 4/29 [00:03<00:12,  1.96it/s]\u001b[A\n",
      "Epoch 2:  91%|█████████ | 232/255 [02:40<00:15,  1.45it/s, loss=0.598, v_num=2, train_loss=0.505, train_accuracy=0.833, val_loss=0.533, val_accuracy=0.749]\n",
      "Validating:  21%|██        | 6/29 [00:03<00:07,  3.14it/s]\u001b[A\n",
      "Epoch 2:  92%|█████████▏| 234/255 [02:40<00:14,  1.46it/s, loss=0.598, v_num=2, train_loss=0.505, train_accuracy=0.833, val_loss=0.533, val_accuracy=0.749]\n",
      "Validating:  28%|██▊       | 8/29 [00:03<00:05,  4.05it/s]\u001b[A\n",
      "Epoch 2:  93%|█████████▎| 236/255 [02:40<00:12,  1.47it/s, loss=0.598, v_num=2, train_loss=0.505, train_accuracy=0.833, val_loss=0.533, val_accuracy=0.749]\n",
      "Validating:  34%|███▍      | 10/29 [00:04<00:04,  4.71it/s]\u001b[A\n",
      "Epoch 2:  93%|█████████▎| 238/255 [02:41<00:11,  1.48it/s, loss=0.598, v_num=2, train_loss=0.505, train_accuracy=0.833, val_loss=0.533, val_accuracy=0.749]\n",
      "Validating:  41%|████▏     | 12/29 [00:04<00:03,  5.17it/s]\u001b[A\n",
      "Epoch 2:  94%|█████████▍| 240/255 [02:41<00:10,  1.49it/s, loss=0.598, v_num=2, train_loss=0.505, train_accuracy=0.833, val_loss=0.533, val_accuracy=0.749]\n",
      "Validating:  48%|████▊     | 14/29 [00:04<00:02,  5.39it/s]\u001b[A\n",
      "Epoch 2:  95%|█████████▍| 242/255 [02:41<00:08,  1.50it/s, loss=0.598, v_num=2, train_loss=0.505, train_accuracy=0.833, val_loss=0.533, val_accuracy=0.749]\n",
      "Validating:  55%|█████▌    | 16/29 [00:05<00:02,  5.58it/s]\u001b[A\n",
      "Epoch 2:  96%|█████████▌| 244/255 [02:42<00:07,  1.50it/s, loss=0.598, v_num=2, train_loss=0.505, train_accuracy=0.833, val_loss=0.533, val_accuracy=0.749]\n",
      "Validating:  62%|██████▏   | 18/29 [00:05<00:01,  5.66it/s]\u001b[A\n",
      "Epoch 2:  96%|█████████▋| 246/255 [02:42<00:05,  1.51it/s, loss=0.598, v_num=2, train_loss=0.505, train_accuracy=0.833, val_loss=0.533, val_accuracy=0.749]\n",
      "Validating:  69%|██████▉   | 20/29 [00:06<00:01,  5.60it/s]\u001b[A\n",
      "Epoch 2:  97%|█████████▋| 248/255 [02:42<00:04,  1.52it/s, loss=0.598, v_num=2, train_loss=0.505, train_accuracy=0.833, val_loss=0.533, val_accuracy=0.749]\n",
      "Validating:  76%|███████▌  | 22/29 [00:06<00:01,  5.59it/s]\u001b[A\n",
      "Epoch 2:  98%|█████████▊| 250/255 [02:43<00:03,  1.53it/s, loss=0.598, v_num=2, train_loss=0.505, train_accuracy=0.833, val_loss=0.533, val_accuracy=0.749]\n",
      "Validating:  83%|████████▎ | 24/29 [00:06<00:00,  5.63it/s]\u001b[A\n",
      "Epoch 2:  99%|█████████▉| 252/255 [02:43<00:01,  1.54it/s, loss=0.598, v_num=2, train_loss=0.505, train_accuracy=0.833, val_loss=0.533, val_accuracy=0.749]\n",
      "Validating:  90%|████████▉ | 26/29 [00:07<00:00,  5.63it/s]\u001b[A\n",
      "Epoch 2: 100%|█████████▉| 254/255 [02:43<00:00,  1.55it/s, loss=0.598, v_num=2, train_loss=0.505, train_accuracy=0.833, val_loss=0.533, val_accuracy=0.749]\n",
      "Validating:  97%|█████████▋| 28/29 [00:07<00:00,  5.61it/s]\u001b[A\n",
      "Epoch 2: 100%|██████████| 255/255 [02:44<00:00,  1.55it/s, loss=0.598, v_num=2, train_loss=0.505, train_accuracy=0.833, val_loss=0.621, val_accuracy=0.661]\n",
      "Epoch 2: 100%|██████████| 255/255 [02:44<00:00,  1.55it/s, loss=0.598, v_num=2, train_loss=0.505, train_accuracy=0.833, val_loss=0.621, val_accuracy=0.661]"
     ]
    },
    {
     "name": "stderr",
     "output_type": "stream",
     "text": [
      "Epoch 2, global step 677: val_loss reached 0.62083 (best 0.53304), saving model to \"/Workspace/code/checkpoints/best-checkpoint-corr-mi-19-v4.ckpt\" as top 2\n"
     ]
    },
    {
     "name": "stdout",
     "output_type": "stream",
     "text": [
      "Epoch 3:  89%|████████▊ | 226/255 [02:36<00:20,  1.44it/s, loss=0.566, v_num=2, train_loss=0.644, train_accuracy=0.611, val_loss=0.621, val_accuracy=0.661]\n",
      "Validating: 0it [00:00, ?it/s]\u001b[A\n",
      "Validating:   0%|          | 0/29 [00:00<?, ?it/s]\u001b[A\n",
      "Epoch 3:  89%|████████▉ | 228/255 [02:39<00:18,  1.43it/s, loss=0.566, v_num=2, train_loss=0.644, train_accuracy=0.611, val_loss=0.621, val_accuracy=0.661]\n",
      "Validating:   7%|▋         | 2/29 [00:02<00:31,  1.18s/it]\u001b[A\n",
      "Epoch 3:  90%|█████████ | 230/255 [02:39<00:17,  1.44it/s, loss=0.566, v_num=2, train_loss=0.644, train_accuracy=0.611, val_loss=0.621, val_accuracy=0.661]\n",
      "Validating:  14%|█▍        | 4/29 [00:03<00:12,  1.97it/s]\u001b[A\n",
      "Epoch 3:  91%|█████████ | 232/255 [02:40<00:15,  1.45it/s, loss=0.566, v_num=2, train_loss=0.644, train_accuracy=0.611, val_loss=0.621, val_accuracy=0.661]\n",
      "Validating:  21%|██        | 6/29 [00:03<00:07,  3.12it/s]\u001b[A\n",
      "Epoch 3:  92%|█████████▏| 234/255 [02:40<00:14,  1.46it/s, loss=0.566, v_num=2, train_loss=0.644, train_accuracy=0.611, val_loss=0.621, val_accuracy=0.661]\n",
      "Validating:  28%|██▊       | 8/29 [00:03<00:05,  4.15it/s]\u001b[A\n",
      "Epoch 3:  93%|█████████▎| 236/255 [02:40<00:12,  1.47it/s, loss=0.566, v_num=2, train_loss=0.644, train_accuracy=0.611, val_loss=0.621, val_accuracy=0.661]\n",
      "Validating:  34%|███▍      | 10/29 [00:04<00:03,  4.76it/s]\u001b[A\n",
      "Epoch 3:  93%|█████████▎| 238/255 [02:41<00:11,  1.48it/s, loss=0.566, v_num=2, train_loss=0.644, train_accuracy=0.611, val_loss=0.621, val_accuracy=0.661]\n",
      "Validating:  41%|████▏     | 12/29 [00:04<00:03,  5.15it/s]\u001b[A\n",
      "Epoch 3:  94%|█████████▍| 240/255 [02:41<00:10,  1.48it/s, loss=0.566, v_num=2, train_loss=0.644, train_accuracy=0.611, val_loss=0.621, val_accuracy=0.661]\n",
      "Validating:  48%|████▊     | 14/29 [00:04<00:02,  5.40it/s]\u001b[A\n",
      "Epoch 3:  95%|█████████▍| 242/255 [02:42<00:08,  1.49it/s, loss=0.566, v_num=2, train_loss=0.644, train_accuracy=0.611, val_loss=0.621, val_accuracy=0.661]\n",
      "Validating:  55%|█████▌    | 16/29 [00:05<00:02,  5.56it/s]\u001b[A\n",
      "Epoch 3:  96%|█████████▌| 244/255 [02:42<00:07,  1.50it/s, loss=0.566, v_num=2, train_loss=0.644, train_accuracy=0.611, val_loss=0.621, val_accuracy=0.661]\n",
      "Validating:  62%|██████▏   | 18/29 [00:05<00:01,  5.61it/s]\u001b[A\n",
      "Epoch 3:  96%|█████████▋| 246/255 [02:42<00:05,  1.51it/s, loss=0.566, v_num=2, train_loss=0.644, train_accuracy=0.611, val_loss=0.621, val_accuracy=0.661]\n",
      "Validating:  69%|██████▉   | 20/29 [00:05<00:01,  5.63it/s]\u001b[A\n",
      "Epoch 3:  97%|█████████▋| 248/255 [02:43<00:04,  1.52it/s, loss=0.566, v_num=2, train_loss=0.644, train_accuracy=0.611, val_loss=0.621, val_accuracy=0.661]\n",
      "Validating:  76%|███████▌  | 22/29 [00:06<00:01,  5.62it/s]\u001b[A\n",
      "Epoch 3:  98%|█████████▊| 250/255 [02:43<00:03,  1.53it/s, loss=0.566, v_num=2, train_loss=0.644, train_accuracy=0.611, val_loss=0.621, val_accuracy=0.661]\n",
      "Validating:  83%|████████▎ | 24/29 [00:06<00:00,  5.60it/s]\u001b[A\n",
      "Epoch 3:  99%|█████████▉| 252/255 [02:43<00:01,  1.54it/s, loss=0.566, v_num=2, train_loss=0.644, train_accuracy=0.611, val_loss=0.621, val_accuracy=0.661]\n",
      "Validating:  90%|████████▉ | 26/29 [00:07<00:00,  5.59it/s]\u001b[A\n",
      "Epoch 3: 100%|█████████▉| 254/255 [02:44<00:00,  1.55it/s, loss=0.566, v_num=2, train_loss=0.644, train_accuracy=0.611, val_loss=0.621, val_accuracy=0.661]\n",
      "Validating:  97%|█████████▋| 28/29 [00:07<00:00,  5.54it/s]\u001b[A\n",
      "Epoch 3: 100%|██████████| 255/255 [02:44<00:00,  1.55it/s, loss=0.566, v_num=2, train_loss=0.644, train_accuracy=0.611, val_loss=0.576, val_accuracy=0.710]\n",
      "Epoch 3: 100%|██████████| 255/255 [02:44<00:00,  1.55it/s, loss=0.566, v_num=2, train_loss=0.644, train_accuracy=0.611, val_loss=0.576, val_accuracy=0.710]"
     ]
    },
    {
     "name": "stderr",
     "output_type": "stream",
     "text": [
      "Epoch 3, global step 903: val_loss reached 0.57551 (best 0.53304), saving model to \"/Workspace/code/checkpoints/best-checkpoint-corr-mi-19-v4.ckpt\" as top 2\n"
     ]
    },
    {
     "name": "stdout",
     "output_type": "stream",
     "text": [
      "Epoch 4:  89%|████████▊ | 226/255 [02:34<00:19,  1.46it/s, loss=0.473, v_num=2, train_loss=0.431, train_accuracy=0.722, val_loss=0.576, val_accuracy=0.710]\n",
      "Validating: 0it [00:00, ?it/s]\u001b[A\n",
      "Validating:   0%|          | 0/29 [00:00<?, ?it/s]\u001b[A\n",
      "Epoch 4:  89%|████████▉ | 228/255 [02:37<00:18,  1.45it/s, loss=0.473, v_num=2, train_loss=0.431, train_accuracy=0.722, val_loss=0.576, val_accuracy=0.710]\n",
      "Validating:   7%|▋         | 2/29 [00:02<00:33,  1.22s/it]\u001b[A\n",
      "Epoch 4:  90%|█████████ | 230/255 [02:37<00:17,  1.46it/s, loss=0.473, v_num=2, train_loss=0.431, train_accuracy=0.722, val_loss=0.576, val_accuracy=0.710]\n",
      "Validating:  14%|█▍        | 4/29 [00:03<00:13,  1.88it/s]\u001b[A\n",
      "Epoch 4:  91%|█████████ | 232/255 [02:38<00:15,  1.47it/s, loss=0.473, v_num=2, train_loss=0.431, train_accuracy=0.722, val_loss=0.576, val_accuracy=0.710]\n",
      "Validating:  21%|██        | 6/29 [00:03<00:07,  3.07it/s]\u001b[A\n",
      "Epoch 4:  92%|█████████▏| 234/255 [02:38<00:14,  1.48it/s, loss=0.473, v_num=2, train_loss=0.431, train_accuracy=0.722, val_loss=0.576, val_accuracy=0.710]\n",
      "Validating:  28%|██▊       | 8/29 [00:03<00:05,  4.10it/s]\u001b[A\n",
      "Epoch 4:  93%|█████████▎| 236/255 [02:38<00:12,  1.49it/s, loss=0.473, v_num=2, train_loss=0.431, train_accuracy=0.722, val_loss=0.576, val_accuracy=0.710]\n",
      "Validating:  34%|███▍      | 10/29 [00:04<00:03,  4.80it/s]\u001b[A\n",
      "Epoch 4:  93%|█████████▎| 238/255 [02:39<00:11,  1.50it/s, loss=0.473, v_num=2, train_loss=0.431, train_accuracy=0.722, val_loss=0.576, val_accuracy=0.710]\n",
      "Validating:  41%|████▏     | 12/29 [00:04<00:03,  5.20it/s]\u001b[A\n",
      "Epoch 4:  94%|█████████▍| 240/255 [02:39<00:09,  1.51it/s, loss=0.473, v_num=2, train_loss=0.431, train_accuracy=0.722, val_loss=0.576, val_accuracy=0.710]\n",
      "Validating:  48%|████▊     | 14/29 [00:05<00:02,  5.46it/s]\u001b[A\n",
      "Epoch 4:  95%|█████████▍| 242/255 [02:39<00:08,  1.51it/s, loss=0.473, v_num=2, train_loss=0.431, train_accuracy=0.722, val_loss=0.576, val_accuracy=0.710]\n",
      "Validating:  55%|█████▌    | 16/29 [00:05<00:02,  5.52it/s]\u001b[A\n",
      "Epoch 4:  96%|█████████▌| 244/255 [02:40<00:07,  1.52it/s, loss=0.473, v_num=2, train_loss=0.431, train_accuracy=0.722, val_loss=0.576, val_accuracy=0.710]\n",
      "Validating:  62%|██████▏   | 18/29 [00:05<00:01,  5.60it/s]\u001b[A\n",
      "Epoch 4:  96%|█████████▋| 246/255 [02:40<00:05,  1.53it/s, loss=0.473, v_num=2, train_loss=0.431, train_accuracy=0.722, val_loss=0.576, val_accuracy=0.710]\n",
      "Validating:  69%|██████▉   | 20/29 [00:06<00:01,  5.65it/s]\u001b[A\n",
      "Epoch 4:  97%|█████████▋| 248/255 [02:40<00:04,  1.54it/s, loss=0.473, v_num=2, train_loss=0.431, train_accuracy=0.722, val_loss=0.576, val_accuracy=0.710]\n",
      "Validating:  76%|███████▌  | 22/29 [00:06<00:01,  5.63it/s]\u001b[A\n",
      "Epoch 4:  98%|█████████▊| 250/255 [02:41<00:03,  1.55it/s, loss=0.473, v_num=2, train_loss=0.431, train_accuracy=0.722, val_loss=0.576, val_accuracy=0.710]\n",
      "Validating:  83%|████████▎ | 24/29 [00:06<00:00,  5.66it/s]\u001b[A\n",
      "Epoch 4:  99%|█████████▉| 252/255 [02:41<00:01,  1.56it/s, loss=0.473, v_num=2, train_loss=0.431, train_accuracy=0.722, val_loss=0.576, val_accuracy=0.710]\n",
      "Validating:  90%|████████▉ | 26/29 [00:07<00:00,  5.69it/s]\u001b[A\n",
      "Epoch 4: 100%|█████████▉| 254/255 [02:41<00:00,  1.57it/s, loss=0.473, v_num=2, train_loss=0.431, train_accuracy=0.722, val_loss=0.576, val_accuracy=0.710]\n",
      "Validating:  97%|█████████▋| 28/29 [00:07<00:00,  5.62it/s]\u001b[A\n",
      "Epoch 4: 100%|██████████| 255/255 [02:42<00:00,  1.57it/s, loss=0.473, v_num=2, train_loss=0.431, train_accuracy=0.722, val_loss=0.461, val_accuracy=0.808]\n",
      "Epoch 4: 100%|██████████| 255/255 [02:42<00:00,  1.57it/s, loss=0.473, v_num=2, train_loss=0.431, train_accuracy=0.722, val_loss=0.461, val_accuracy=0.808]"
     ]
    },
    {
     "name": "stderr",
     "output_type": "stream",
     "text": [
      "Epoch 4, global step 1129: val_loss reached 0.46112 (best 0.46112), saving model to \"/Workspace/code/checkpoints/best-checkpoint-corr-mi-19-v4.ckpt\" as top 2\n"
     ]
    },
    {
     "name": "stdout",
     "output_type": "stream",
     "text": [
      "Epoch 5:  89%|████████▊ | 226/255 [02:36<00:20,  1.44it/s, loss=0.689, v_num=2, train_loss=0.720, train_accuracy=0.444, val_loss=0.461, val_accuracy=0.808]\n",
      "Validating: 0it [00:00, ?it/s]\u001b[A\n",
      "Validating:   0%|          | 0/29 [00:00<?, ?it/s]\u001b[A\n",
      "Epoch 5:  89%|████████▉ | 228/255 [02:39<00:18,  1.43it/s, loss=0.689, v_num=2, train_loss=0.720, train_accuracy=0.444, val_loss=0.461, val_accuracy=0.808]\n",
      "Validating:   7%|▋         | 2/29 [00:02<00:31,  1.18s/it]\u001b[A\n",
      "Epoch 5:  90%|█████████ | 230/255 [02:39<00:17,  1.44it/s, loss=0.689, v_num=2, train_loss=0.720, train_accuracy=0.444, val_loss=0.461, val_accuracy=0.808]\n",
      "Validating:  14%|█▍        | 4/29 [00:03<00:12,  1.97it/s]\u001b[A\n",
      "Epoch 5:  91%|█████████ | 232/255 [02:40<00:15,  1.45it/s, loss=0.689, v_num=2, train_loss=0.720, train_accuracy=0.444, val_loss=0.461, val_accuracy=0.808]\n",
      "Validating:  21%|██        | 6/29 [00:03<00:07,  3.17it/s]\u001b[A\n",
      "Epoch 5:  92%|█████████▏| 234/255 [02:40<00:14,  1.46it/s, loss=0.689, v_num=2, train_loss=0.720, train_accuracy=0.444, val_loss=0.461, val_accuracy=0.808]\n",
      "Validating:  28%|██▊       | 8/29 [00:03<00:05,  4.17it/s]\u001b[A\n",
      "Epoch 5:  93%|█████████▎| 236/255 [02:40<00:12,  1.47it/s, loss=0.689, v_num=2, train_loss=0.720, train_accuracy=0.444, val_loss=0.461, val_accuracy=0.808]\n",
      "Validating:  34%|███▍      | 10/29 [00:04<00:03,  4.84it/s]\u001b[A\n",
      "Epoch 5:  93%|█████████▎| 238/255 [02:41<00:11,  1.48it/s, loss=0.689, v_num=2, train_loss=0.720, train_accuracy=0.444, val_loss=0.461, val_accuracy=0.808]\n",
      "Validating:  41%|████▏     | 12/29 [00:04<00:03,  5.10it/s]\u001b[A\n",
      "Epoch 5:  94%|█████████▍| 240/255 [02:41<00:10,  1.49it/s, loss=0.689, v_num=2, train_loss=0.720, train_accuracy=0.444, val_loss=0.461, val_accuracy=0.808]\n",
      "Validating:  48%|████▊     | 14/29 [00:04<00:02,  5.38it/s]\u001b[A\n",
      "Epoch 5:  95%|█████████▍| 242/255 [02:41<00:08,  1.49it/s, loss=0.689, v_num=2, train_loss=0.720, train_accuracy=0.444, val_loss=0.461, val_accuracy=0.808]\n",
      "Validating:  55%|█████▌    | 16/29 [00:05<00:02,  5.52it/s]\u001b[A\n",
      "Epoch 5:  96%|█████████▌| 244/255 [02:42<00:07,  1.50it/s, loss=0.689, v_num=2, train_loss=0.720, train_accuracy=0.444, val_loss=0.461, val_accuracy=0.808]\n",
      "Validating:  62%|██████▏   | 18/29 [00:05<00:01,  5.60it/s]\u001b[A\n",
      "Epoch 5:  96%|█████████▋| 246/255 [02:42<00:05,  1.51it/s, loss=0.689, v_num=2, train_loss=0.720, train_accuracy=0.444, val_loss=0.461, val_accuracy=0.808]\n",
      "Validating:  69%|██████▉   | 20/29 [00:05<00:01,  5.61it/s]\u001b[A\n",
      "Epoch 5:  97%|█████████▋| 248/255 [02:42<00:04,  1.52it/s, loss=0.689, v_num=2, train_loss=0.720, train_accuracy=0.444, val_loss=0.461, val_accuracy=0.808]\n",
      "Validating:  76%|███████▌  | 22/29 [00:06<00:01,  5.67it/s]\u001b[A\n",
      "Epoch 5:  98%|█████████▊| 250/255 [02:43<00:03,  1.53it/s, loss=0.689, v_num=2, train_loss=0.720, train_accuracy=0.444, val_loss=0.461, val_accuracy=0.808]\n",
      "Validating:  83%|████████▎ | 24/29 [00:06<00:00,  5.64it/s]\u001b[A\n",
      "Epoch 5:  99%|█████████▉| 252/255 [02:43<00:01,  1.54it/s, loss=0.689, v_num=2, train_loss=0.720, train_accuracy=0.444, val_loss=0.461, val_accuracy=0.808]\n",
      "Validating:  90%|████████▉ | 26/29 [00:07<00:00,  5.65it/s]\u001b[A\n",
      "Epoch 5: 100%|█████████▉| 254/255 [02:44<00:00,  1.55it/s, loss=0.689, v_num=2, train_loss=0.720, train_accuracy=0.444, val_loss=0.461, val_accuracy=0.808]\n",
      "Validating:  97%|█████████▋| 28/29 [00:07<00:00,  5.61it/s]\u001b[A\n",
      "Epoch 5: 100%|██████████| 255/255 [02:44<00:00,  1.55it/s, loss=0.689, v_num=2, train_loss=0.720, train_accuracy=0.444, val_loss=0.677, val_accuracy=0.544]\n",
      "Epoch 5: 100%|██████████| 255/255 [02:44<00:00,  1.55it/s, loss=0.689, v_num=2, train_loss=0.720, train_accuracy=0.444, val_loss=0.677, val_accuracy=0.544]"
     ]
    },
    {
     "name": "stderr",
     "output_type": "stream",
     "text": [
      "Epoch 5, global step 1355: val_loss was not in top 2\n"
     ]
    },
    {
     "name": "stdout",
     "output_type": "stream",
     "text": [
      "Epoch 6:  89%|████████▊ | 226/255 [02:36<00:20,  1.44it/s, loss=0.536, v_num=2, train_loss=0.275, train_accuracy=1.000, val_loss=0.677, val_accuracy=0.544]\n",
      "Validating: 0it [00:00, ?it/s]\u001b[A\n",
      "Validating:   0%|          | 0/29 [00:00<?, ?it/s]\u001b[A\n",
      "Epoch 6:  89%|████████▉ | 228/255 [02:39<00:18,  1.43it/s, loss=0.536, v_num=2, train_loss=0.275, train_accuracy=1.000, val_loss=0.677, val_accuracy=0.544]\n",
      "Validating:   7%|▋         | 2/29 [00:02<00:31,  1.18s/it]\u001b[A\n",
      "Epoch 6:  90%|█████████ | 230/255 [02:39<00:17,  1.44it/s, loss=0.536, v_num=2, train_loss=0.275, train_accuracy=1.000, val_loss=0.677, val_accuracy=0.544]\n",
      "Validating:  14%|█▍        | 4/29 [00:03<00:12,  1.93it/s]\u001b[A\n",
      "Epoch 6:  91%|█████████ | 232/255 [02:39<00:15,  1.45it/s, loss=0.536, v_num=2, train_loss=0.275, train_accuracy=1.000, val_loss=0.677, val_accuracy=0.544]\n",
      "Validating:  21%|██        | 6/29 [00:03<00:07,  3.12it/s]\u001b[A\n",
      "Epoch 6:  92%|█████████▏| 234/255 [02:40<00:14,  1.46it/s, loss=0.536, v_num=2, train_loss=0.275, train_accuracy=1.000, val_loss=0.677, val_accuracy=0.544]\n",
      "Validating:  28%|██▊       | 8/29 [00:03<00:05,  4.11it/s]\u001b[A\n",
      "Epoch 6:  93%|█████████▎| 236/255 [02:40<00:12,  1.47it/s, loss=0.536, v_num=2, train_loss=0.275, train_accuracy=1.000, val_loss=0.677, val_accuracy=0.544]\n",
      "Validating:  34%|███▍      | 10/29 [00:04<00:03,  4.76it/s]\u001b[A\n",
      "Epoch 6:  93%|█████████▎| 238/255 [02:41<00:11,  1.48it/s, loss=0.536, v_num=2, train_loss=0.275, train_accuracy=1.000, val_loss=0.677, val_accuracy=0.544]\n",
      "Validating:  41%|████▏     | 12/29 [00:04<00:03,  5.09it/s]\u001b[A\n",
      "Epoch 6:  94%|█████████▍| 240/255 [02:41<00:10,  1.49it/s, loss=0.536, v_num=2, train_loss=0.275, train_accuracy=1.000, val_loss=0.677, val_accuracy=0.544]\n",
      "Validating:  48%|████▊     | 14/29 [00:04<00:02,  5.46it/s]\u001b[A\n",
      "Epoch 6:  95%|█████████▍| 242/255 [02:41<00:08,  1.50it/s, loss=0.536, v_num=2, train_loss=0.275, train_accuracy=1.000, val_loss=0.677, val_accuracy=0.544]\n",
      "Validating:  55%|█████▌    | 16/29 [00:05<00:02,  5.60it/s]\u001b[A\n",
      "Epoch 6:  96%|█████████▌| 244/255 [02:42<00:07,  1.51it/s, loss=0.536, v_num=2, train_loss=0.275, train_accuracy=1.000, val_loss=0.677, val_accuracy=0.544]\n",
      "Validating:  62%|██████▏   | 18/29 [00:05<00:01,  5.66it/s]\u001b[A\n",
      "Epoch 6:  96%|█████████▋| 246/255 [02:42<00:05,  1.51it/s, loss=0.536, v_num=2, train_loss=0.275, train_accuracy=1.000, val_loss=0.677, val_accuracy=0.544]\n",
      "Validating:  69%|██████▉   | 20/29 [00:05<00:01,  5.68it/s]\u001b[A\n",
      "Epoch 6:  97%|█████████▋| 248/255 [02:42<00:04,  1.52it/s, loss=0.536, v_num=2, train_loss=0.275, train_accuracy=1.000, val_loss=0.677, val_accuracy=0.544]\n",
      "Validating:  76%|███████▌  | 22/29 [00:06<00:01,  5.65it/s]\u001b[A\n",
      "Epoch 6:  98%|█████████▊| 250/255 [02:43<00:03,  1.53it/s, loss=0.536, v_num=2, train_loss=0.275, train_accuracy=1.000, val_loss=0.677, val_accuracy=0.544]\n",
      "Validating:  83%|████████▎ | 24/29 [00:06<00:00,  5.63it/s]\u001b[A\n",
      "Epoch 6:  99%|█████████▉| 252/255 [02:43<00:01,  1.54it/s, loss=0.536, v_num=2, train_loss=0.275, train_accuracy=1.000, val_loss=0.677, val_accuracy=0.544]\n",
      "Validating:  90%|████████▉ | 26/29 [00:07<00:00,  5.66it/s]\u001b[A\n",
      "Epoch 6: 100%|█████████▉| 254/255 [02:43<00:00,  1.55it/s, loss=0.536, v_num=2, train_loss=0.275, train_accuracy=1.000, val_loss=0.677, val_accuracy=0.544]\n",
      "Validating:  97%|█████████▋| 28/29 [00:07<00:00,  5.61it/s]\u001b[A\n",
      "Epoch 6: 100%|██████████| 255/255 [02:44<00:00,  1.55it/s, loss=0.536, v_num=2, train_loss=0.275, train_accuracy=1.000, val_loss=0.562, val_accuracy=0.724]\n",
      "Epoch 6: 100%|██████████| 255/255 [02:44<00:00,  1.55it/s, loss=0.536, v_num=2, train_loss=0.275, train_accuracy=1.000, val_loss=0.562, val_accuracy=0.724]"
     ]
    },
    {
     "name": "stderr",
     "output_type": "stream",
     "text": [
      "Epoch 6, global step 1581: val_loss was not in top 2\n"
     ]
    },
    {
     "name": "stdout",
     "output_type": "stream",
     "text": [
      "Epoch 7:  89%|████████▊ | 226/255 [02:36<00:20,  1.44it/s, loss=0.632, v_num=2, train_loss=0.654, train_accuracy=0.611, val_loss=0.562, val_accuracy=0.724]\n",
      "Validating: 0it [00:00, ?it/s]\u001b[A\n",
      "Validating:   0%|          | 0/29 [00:00<?, ?it/s]\u001b[A\n",
      "Epoch 7:  89%|████████▉ | 228/255 [02:39<00:18,  1.43it/s, loss=0.632, v_num=2, train_loss=0.654, train_accuracy=0.611, val_loss=0.562, val_accuracy=0.724]\n",
      "Validating:   7%|▋         | 2/29 [00:03<00:35,  1.31s/it]\u001b[A\n",
      "Epoch 7:  90%|█████████ | 230/255 [02:39<00:17,  1.44it/s, loss=0.632, v_num=2, train_loss=0.654, train_accuracy=0.611, val_loss=0.562, val_accuracy=0.724]\n",
      "Validating:  14%|█▍        | 4/29 [00:03<00:13,  1.82it/s]\u001b[A\n",
      "Epoch 7:  91%|█████████ | 232/255 [02:40<00:15,  1.45it/s, loss=0.632, v_num=2, train_loss=0.654, train_accuracy=0.611, val_loss=0.562, val_accuracy=0.724]\n",
      "Validating:  21%|██        | 6/29 [00:03<00:07,  3.00it/s]\u001b[A\n",
      "Epoch 7:  92%|█████████▏| 234/255 [02:40<00:14,  1.46it/s, loss=0.632, v_num=2, train_loss=0.654, train_accuracy=0.611, val_loss=0.562, val_accuracy=0.724]\n",
      "Validating:  28%|██▊       | 8/29 [00:04<00:05,  3.86it/s]\u001b[A\n",
      "Epoch 7:  93%|█████████▎| 236/255 [02:40<00:12,  1.47it/s, loss=0.632, v_num=2, train_loss=0.654, train_accuracy=0.611, val_loss=0.562, val_accuracy=0.724]\n",
      "Validating:  34%|███▍      | 10/29 [00:04<00:04,  4.64it/s]\u001b[A\n",
      "Epoch 7:  93%|█████████▎| 238/255 [02:41<00:11,  1.48it/s, loss=0.632, v_num=2, train_loss=0.654, train_accuracy=0.611, val_loss=0.562, val_accuracy=0.724]\n",
      "Validating:  41%|████▏     | 12/29 [00:04<00:03,  5.13it/s]\u001b[A\n",
      "Epoch 7:  94%|█████████▍| 240/255 [02:41<00:10,  1.48it/s, loss=0.632, v_num=2, train_loss=0.654, train_accuracy=0.611, val_loss=0.562, val_accuracy=0.724]\n",
      "Validating:  48%|████▊     | 14/29 [00:05<00:02,  5.40it/s]\u001b[A\n",
      "Epoch 7:  95%|█████████▍| 242/255 [02:42<00:08,  1.49it/s, loss=0.632, v_num=2, train_loss=0.654, train_accuracy=0.611, val_loss=0.562, val_accuracy=0.724]\n",
      "Validating:  55%|█████▌    | 16/29 [00:05<00:02,  5.49it/s]\u001b[A\n",
      "Epoch 7:  96%|█████████▌| 244/255 [02:42<00:07,  1.50it/s, loss=0.632, v_num=2, train_loss=0.654, train_accuracy=0.611, val_loss=0.562, val_accuracy=0.724]\n",
      "Validating:  62%|██████▏   | 18/29 [00:05<00:01,  5.56it/s]\u001b[A\n",
      "Epoch 7:  96%|█████████▋| 246/255 [02:42<00:05,  1.51it/s, loss=0.632, v_num=2, train_loss=0.654, train_accuracy=0.611, val_loss=0.562, val_accuracy=0.724]\n",
      "Validating:  69%|██████▉   | 20/29 [00:06<00:01,  5.54it/s]\u001b[A\n",
      "Epoch 7:  97%|█████████▋| 248/255 [02:43<00:04,  1.52it/s, loss=0.632, v_num=2, train_loss=0.654, train_accuracy=0.611, val_loss=0.562, val_accuracy=0.724]\n",
      "Validating:  76%|███████▌  | 22/29 [00:06<00:01,  5.60it/s]\u001b[A\n",
      "Epoch 7:  98%|█████████▊| 250/255 [02:43<00:03,  1.53it/s, loss=0.632, v_num=2, train_loss=0.654, train_accuracy=0.611, val_loss=0.562, val_accuracy=0.724]\n",
      "Validating:  83%|████████▎ | 24/29 [00:07<00:00,  5.63it/s]\u001b[A\n",
      "Epoch 7:  99%|█████████▉| 252/255 [02:43<00:01,  1.54it/s, loss=0.632, v_num=2, train_loss=0.654, train_accuracy=0.611, val_loss=0.562, val_accuracy=0.724]\n",
      "Validating:  90%|████████▉ | 26/29 [00:07<00:00,  5.59it/s]\u001b[A\n",
      "Epoch 7: 100%|█████████▉| 254/255 [02:44<00:00,  1.55it/s, loss=0.632, v_num=2, train_loss=0.654, train_accuracy=0.611, val_loss=0.562, val_accuracy=0.724]\n",
      "Validating:  97%|█████████▋| 28/29 [00:07<00:00,  5.57it/s]\u001b[A\n",
      "Epoch 7: 100%|██████████| 255/255 [02:44<00:00,  1.55it/s, loss=0.632, v_num=2, train_loss=0.654, train_accuracy=0.611, val_loss=0.642, val_accuracy=0.642]\n",
      "Epoch 7: 100%|██████████| 255/255 [02:44<00:00,  1.55it/s, loss=0.632, v_num=2, train_loss=0.654, train_accuracy=0.611, val_loss=0.642, val_accuracy=0.642]"
     ]
    },
    {
     "name": "stderr",
     "output_type": "stream",
     "text": [
      "Epoch 7, global step 1807: val_loss was not in top 2\n"
     ]
    },
    {
     "name": "stdout",
     "output_type": "stream",
     "text": [
      "Epoch 8:  89%|████████▊ | 226/255 [02:36<00:20,  1.45it/s, loss=0.363, v_num=2, train_loss=0.260, train_accuracy=0.944, val_loss=0.642, val_accuracy=0.642]\n",
      "Validating: 0it [00:00, ?it/s]\u001b[A\n",
      "Validating:   0%|          | 0/29 [00:00<?, ?it/s]\u001b[A\n",
      "Epoch 8:  89%|████████▉ | 228/255 [02:39<00:18,  1.43it/s, loss=0.363, v_num=2, train_loss=0.260, train_accuracy=0.944, val_loss=0.642, val_accuracy=0.642]\n",
      "Validating:   7%|▋         | 2/29 [00:03<00:34,  1.28s/it]\u001b[A\n",
      "Epoch 8:  90%|█████████ | 230/255 [02:39<00:17,  1.44it/s, loss=0.363, v_num=2, train_loss=0.260, train_accuracy=0.944, val_loss=0.642, val_accuracy=0.642]\n",
      "Validating:  14%|█▍        | 4/29 [00:03<00:13,  1.85it/s]\u001b[A\n",
      "Epoch 8:  91%|█████████ | 232/255 [02:39<00:15,  1.45it/s, loss=0.363, v_num=2, train_loss=0.260, train_accuracy=0.944, val_loss=0.642, val_accuracy=0.642]\n",
      "Validating:  21%|██        | 6/29 [00:03<00:07,  2.98it/s]\u001b[A\n",
      "Epoch 8:  92%|█████████▏| 234/255 [02:40<00:14,  1.46it/s, loss=0.363, v_num=2, train_loss=0.260, train_accuracy=0.944, val_loss=0.642, val_accuracy=0.642]\n",
      "Validating:  28%|██▊       | 8/29 [00:04<00:05,  4.01it/s]\u001b[A\n",
      "Epoch 8:  93%|█████████▎| 236/255 [02:40<00:12,  1.47it/s, loss=0.363, v_num=2, train_loss=0.260, train_accuracy=0.944, val_loss=0.642, val_accuracy=0.642]\n",
      "Validating:  34%|███▍      | 10/29 [00:04<00:04,  4.72it/s]\u001b[A\n",
      "Epoch 8:  93%|█████████▎| 238/255 [02:40<00:11,  1.48it/s, loss=0.363, v_num=2, train_loss=0.260, train_accuracy=0.944, val_loss=0.642, val_accuracy=0.642]\n",
      "Validating:  41%|████▏     | 12/29 [00:04<00:03,  5.12it/s]\u001b[A\n",
      "Epoch 8:  94%|█████████▍| 240/255 [02:41<00:10,  1.49it/s, loss=0.363, v_num=2, train_loss=0.260, train_accuracy=0.944, val_loss=0.642, val_accuracy=0.642]\n",
      "Validating:  48%|████▊     | 14/29 [00:05<00:02,  5.41it/s]\u001b[A\n",
      "Epoch 8:  95%|█████████▍| 242/255 [02:41<00:08,  1.50it/s, loss=0.363, v_num=2, train_loss=0.260, train_accuracy=0.944, val_loss=0.642, val_accuracy=0.642]\n",
      "Validating:  55%|█████▌    | 16/29 [00:05<00:02,  5.51it/s]\u001b[A\n",
      "Epoch 8:  96%|█████████▌| 244/255 [02:41<00:07,  1.51it/s, loss=0.363, v_num=2, train_loss=0.260, train_accuracy=0.944, val_loss=0.642, val_accuracy=0.642]\n",
      "Validating:  62%|██████▏   | 18/29 [00:05<00:01,  5.55it/s]\u001b[A\n",
      "Epoch 8:  96%|█████████▋| 246/255 [02:42<00:05,  1.52it/s, loss=0.363, v_num=2, train_loss=0.260, train_accuracy=0.944, val_loss=0.642, val_accuracy=0.642]\n",
      "Validating:  69%|██████▉   | 20/29 [00:06<00:01,  5.60it/s]\u001b[A\n",
      "Epoch 8:  97%|█████████▋| 248/255 [02:42<00:04,  1.52it/s, loss=0.363, v_num=2, train_loss=0.260, train_accuracy=0.944, val_loss=0.642, val_accuracy=0.642]\n",
      "Validating:  76%|███████▌  | 22/29 [00:06<00:01,  5.59it/s]\u001b[A\n",
      "Epoch 8:  98%|█████████▊| 250/255 [02:43<00:03,  1.53it/s, loss=0.363, v_num=2, train_loss=0.260, train_accuracy=0.944, val_loss=0.642, val_accuracy=0.642]\n",
      "Validating:  83%|████████▎ | 24/29 [00:06<00:00,  5.58it/s]\u001b[A\n",
      "Epoch 8:  99%|█████████▉| 252/255 [02:43<00:01,  1.54it/s, loss=0.363, v_num=2, train_loss=0.260, train_accuracy=0.944, val_loss=0.642, val_accuracy=0.642]\n",
      "Validating:  90%|████████▉ | 26/29 [00:07<00:00,  5.63it/s]\u001b[A\n",
      "Epoch 8: 100%|█████████▉| 254/255 [02:43<00:00,  1.55it/s, loss=0.363, v_num=2, train_loss=0.260, train_accuracy=0.944, val_loss=0.642, val_accuracy=0.642]\n",
      "Validating:  97%|█████████▋| 28/29 [00:07<00:00,  5.62it/s]\u001b[A\n",
      "Epoch 8: 100%|██████████| 255/255 [02:44<00:00,  1.55it/s, loss=0.363, v_num=2, train_loss=0.260, train_accuracy=0.944, val_loss=0.400, val_accuracy=0.830]\n",
      "Epoch 8: 100%|██████████| 255/255 [02:44<00:00,  1.55it/s, loss=0.363, v_num=2, train_loss=0.260, train_accuracy=0.944, val_loss=0.400, val_accuracy=0.830]"
     ]
    },
    {
     "name": "stderr",
     "output_type": "stream",
     "text": [
      "Epoch 8, global step 2033: val_loss reached 0.40006 (best 0.40006), saving model to \"/Workspace/code/checkpoints/best-checkpoint-corr-mi-19-v5.ckpt\" as top 2\n"
     ]
    },
    {
     "name": "stdout",
     "output_type": "stream",
     "text": [
      "Epoch 9:  89%|████████▊ | 226/255 [02:36<00:20,  1.44it/s, loss=0.427, v_num=2, train_loss=0.440, train_accuracy=0.778, val_loss=0.400, val_accuracy=0.830]\n",
      "Validating: 0it [00:00, ?it/s]\u001b[A\n",
      "Validating:   0%|          | 0/29 [00:00<?, ?it/s]\u001b[A\n",
      "Epoch 9:  89%|████████▉ | 228/255 [02:39<00:18,  1.43it/s, loss=0.427, v_num=2, train_loss=0.440, train_accuracy=0.778, val_loss=0.400, val_accuracy=0.830]\n",
      "Validating:   7%|▋         | 2/29 [00:02<00:32,  1.21s/it]\u001b[A\n",
      "Epoch 9:  90%|█████████ | 230/255 [02:39<00:17,  1.44it/s, loss=0.427, v_num=2, train_loss=0.440, train_accuracy=0.778, val_loss=0.400, val_accuracy=0.830]\n",
      "Validating:  14%|█▍        | 4/29 [00:03<00:12,  1.94it/s]\u001b[A\n",
      "Epoch 9:  91%|█████████ | 232/255 [02:39<00:15,  1.45it/s, loss=0.427, v_num=2, train_loss=0.440, train_accuracy=0.778, val_loss=0.400, val_accuracy=0.830]\n",
      "Validating:  21%|██        | 6/29 [00:03<00:07,  3.07it/s]\u001b[A\n",
      "Epoch 9:  92%|█████████▏| 234/255 [02:40<00:14,  1.46it/s, loss=0.427, v_num=2, train_loss=0.440, train_accuracy=0.778, val_loss=0.400, val_accuracy=0.830]\n",
      "Validating:  28%|██▊       | 8/29 [00:03<00:05,  4.05it/s]\u001b[A\n",
      "Epoch 9:  93%|█████████▎| 236/255 [02:40<00:12,  1.47it/s, loss=0.427, v_num=2, train_loss=0.440, train_accuracy=0.778, val_loss=0.400, val_accuracy=0.830]\n",
      "Validating:  34%|███▍      | 10/29 [00:04<00:04,  4.75it/s]\u001b[A\n",
      "Epoch 9:  93%|█████████▎| 238/255 [02:40<00:11,  1.48it/s, loss=0.427, v_num=2, train_loss=0.440, train_accuracy=0.778, val_loss=0.400, val_accuracy=0.830]\n",
      "Validating:  41%|████▏     | 12/29 [00:04<00:03,  5.09it/s]\u001b[A\n",
      "Epoch 9:  94%|█████████▍| 240/255 [02:41<00:10,  1.49it/s, loss=0.427, v_num=2, train_loss=0.440, train_accuracy=0.778, val_loss=0.400, val_accuracy=0.830]\n",
      "Validating:  48%|████▊     | 14/29 [00:05<00:02,  5.37it/s]\u001b[A\n",
      "Epoch 9:  95%|█████████▍| 242/255 [02:41<00:08,  1.50it/s, loss=0.427, v_num=2, train_loss=0.440, train_accuracy=0.778, val_loss=0.400, val_accuracy=0.830]\n",
      "Validating:  55%|█████▌    | 16/29 [00:05<00:02,  5.48it/s]\u001b[A\n",
      "Epoch 9:  96%|█████████▌| 244/255 [02:42<00:07,  1.51it/s, loss=0.427, v_num=2, train_loss=0.440, train_accuracy=0.778, val_loss=0.400, val_accuracy=0.830]\n",
      "Validating:  62%|██████▏   | 18/29 [00:05<00:01,  5.57it/s]\u001b[A\n",
      "Epoch 9:  96%|█████████▋| 246/255 [02:42<00:05,  1.52it/s, loss=0.427, v_num=2, train_loss=0.440, train_accuracy=0.778, val_loss=0.400, val_accuracy=0.830]\n",
      "Validating:  69%|██████▉   | 20/29 [00:06<00:01,  5.58it/s]\u001b[A\n",
      "Epoch 9:  97%|█████████▋| 248/255 [02:42<00:04,  1.52it/s, loss=0.427, v_num=2, train_loss=0.440, train_accuracy=0.778, val_loss=0.400, val_accuracy=0.830]\n",
      "Validating:  76%|███████▌  | 22/29 [00:06<00:01,  5.68it/s]\u001b[A\n",
      "Epoch 9:  98%|█████████▊| 250/255 [02:43<00:03,  1.53it/s, loss=0.427, v_num=2, train_loss=0.440, train_accuracy=0.778, val_loss=0.400, val_accuracy=0.830]\n",
      "Validating:  83%|████████▎ | 24/29 [00:06<00:00,  5.63it/s]\u001b[A\n",
      "Epoch 9:  99%|█████████▉| 252/255 [02:43<00:01,  1.54it/s, loss=0.427, v_num=2, train_loss=0.440, train_accuracy=0.778, val_loss=0.400, val_accuracy=0.830]\n",
      "Validating:  90%|████████▉ | 26/29 [00:07<00:00,  5.59it/s]\u001b[A\n",
      "Epoch 9: 100%|█████████▉| 254/255 [02:43<00:00,  1.55it/s, loss=0.427, v_num=2, train_loss=0.440, train_accuracy=0.778, val_loss=0.400, val_accuracy=0.830]\n",
      "Validating:  97%|█████████▋| 28/29 [00:07<00:00,  5.57it/s]\u001b[A\n",
      "Epoch 9: 100%|██████████| 255/255 [02:44<00:00,  1.55it/s, loss=0.427, v_num=2, train_loss=0.440, train_accuracy=0.778, val_loss=0.418, val_accuracy=0.830]\n",
      "Epoch 9: 100%|██████████| 255/255 [02:44<00:00,  1.55it/s, loss=0.427, v_num=2, train_loss=0.440, train_accuracy=0.778, val_loss=0.418, val_accuracy=0.830]"
     ]
    },
    {
     "name": "stderr",
     "output_type": "stream",
     "text": [
      "Epoch 9, global step 2259: val_loss reached 0.41803 (best 0.40006), saving model to \"/Workspace/code/checkpoints/best-checkpoint-corr-mi-19-v4.ckpt\" as top 2\n"
     ]
    },
    {
     "name": "stdout",
     "output_type": "stream",
     "text": [
      "Epoch 10:  89%|████████▊ | 226/255 [02:36<00:20,  1.44it/s, loss=0.364, v_num=2, train_loss=0.396, train_accuracy=0.889, val_loss=0.418, val_accuracy=0.830]\n",
      "Validating: 0it [00:00, ?it/s]\u001b[A\n",
      "Validating:   0%|          | 0/29 [00:00<?, ?it/s]\u001b[A\n",
      "Epoch 10:  89%|████████▉ | 228/255 [02:39<00:18,  1.43it/s, loss=0.364, v_num=2, train_loss=0.396, train_accuracy=0.889, val_loss=0.418, val_accuracy=0.830]\n",
      "Validating:   7%|▋         | 2/29 [00:02<00:31,  1.18s/it]\u001b[A\n",
      "Epoch 10:  90%|█████████ | 230/255 [02:39<00:17,  1.44it/s, loss=0.364, v_num=2, train_loss=0.396, train_accuracy=0.889, val_loss=0.418, val_accuracy=0.830]\n",
      "Validating:  14%|█▍        | 4/29 [00:03<00:12,  1.97it/s]\u001b[A\n",
      "Epoch 10:  91%|█████████ | 232/255 [02:39<00:15,  1.45it/s, loss=0.364, v_num=2, train_loss=0.396, train_accuracy=0.889, val_loss=0.418, val_accuracy=0.830]\n",
      "Validating:  21%|██        | 6/29 [00:03<00:07,  3.12it/s]\u001b[A\n",
      "Epoch 10:  92%|█████████▏| 234/255 [02:40<00:14,  1.46it/s, loss=0.364, v_num=2, train_loss=0.396, train_accuracy=0.889, val_loss=0.418, val_accuracy=0.830]\n",
      "Validating:  28%|██▊       | 8/29 [00:03<00:05,  4.13it/s]\u001b[A\n",
      "Epoch 10:  93%|█████████▎| 236/255 [02:40<00:12,  1.47it/s, loss=0.364, v_num=2, train_loss=0.396, train_accuracy=0.889, val_loss=0.418, val_accuracy=0.830]\n",
      "Validating:  34%|███▍      | 10/29 [00:04<00:03,  4.82it/s]\u001b[A\n",
      "Epoch 10:  93%|█████████▎| 238/255 [02:40<00:11,  1.48it/s, loss=0.364, v_num=2, train_loss=0.396, train_accuracy=0.889, val_loss=0.418, val_accuracy=0.830]\n",
      "Validating:  41%|████▏     | 12/29 [00:04<00:03,  5.21it/s]\u001b[A\n",
      "Epoch 10:  94%|█████████▍| 240/255 [02:41<00:10,  1.49it/s, loss=0.364, v_num=2, train_loss=0.396, train_accuracy=0.889, val_loss=0.418, val_accuracy=0.830]\n",
      "Validating:  48%|████▊     | 14/29 [00:04<00:02,  5.43it/s]\u001b[A\n",
      "Epoch 10:  95%|█████████▍| 242/255 [02:41<00:08,  1.50it/s, loss=0.364, v_num=2, train_loss=0.396, train_accuracy=0.889, val_loss=0.418, val_accuracy=0.830]\n",
      "Validating:  55%|█████▌    | 16/29 [00:05<00:02,  5.55it/s]\u001b[A\n",
      "Epoch 10:  96%|█████████▌| 244/255 [02:41<00:07,  1.51it/s, loss=0.364, v_num=2, train_loss=0.396, train_accuracy=0.889, val_loss=0.418, val_accuracy=0.830]\n",
      "Validating:  62%|██████▏   | 18/29 [00:05<00:01,  5.58it/s]\u001b[A\n",
      "Epoch 10:  96%|█████████▋| 246/255 [02:42<00:05,  1.52it/s, loss=0.364, v_num=2, train_loss=0.396, train_accuracy=0.889, val_loss=0.418, val_accuracy=0.830]\n",
      "Validating:  69%|██████▉   | 20/29 [00:05<00:01,  5.63it/s]\u001b[A\n",
      "Epoch 10:  97%|█████████▋| 248/255 [02:42<00:04,  1.52it/s, loss=0.364, v_num=2, train_loss=0.396, train_accuracy=0.889, val_loss=0.418, val_accuracy=0.830]\n",
      "Validating:  76%|███████▌  | 22/29 [00:06<00:01,  5.70it/s]\u001b[A\n",
      "Epoch 10:  98%|█████████▊| 250/255 [02:42<00:03,  1.53it/s, loss=0.364, v_num=2, train_loss=0.396, train_accuracy=0.889, val_loss=0.418, val_accuracy=0.830]\n",
      "Validating:  83%|████████▎ | 24/29 [00:06<00:00,  5.71it/s]\u001b[A\n",
      "Epoch 10:  99%|█████████▉| 252/255 [02:43<00:01,  1.54it/s, loss=0.364, v_num=2, train_loss=0.396, train_accuracy=0.889, val_loss=0.418, val_accuracy=0.830]\n",
      "Validating:  90%|████████▉ | 26/29 [00:07<00:00,  5.66it/s]\u001b[A\n",
      "Epoch 10: 100%|█████████▉| 254/255 [02:43<00:00,  1.55it/s, loss=0.364, v_num=2, train_loss=0.396, train_accuracy=0.889, val_loss=0.418, val_accuracy=0.830]\n",
      "Validating:  97%|█████████▋| 28/29 [00:07<00:00,  5.58it/s]\u001b[A\n",
      "Epoch 10: 100%|██████████| 255/255 [02:44<00:00,  1.55it/s, loss=0.364, v_num=2, train_loss=0.396, train_accuracy=0.889, val_loss=0.502, val_accuracy=0.791]\n",
      "Epoch 10: 100%|██████████| 255/255 [02:44<00:00,  1.55it/s, loss=0.364, v_num=2, train_loss=0.396, train_accuracy=0.889, val_loss=0.502, val_accuracy=0.791]"
     ]
    },
    {
     "name": "stderr",
     "output_type": "stream",
     "text": [
      "Epoch 10, global step 2485: val_loss was not in top 2\n"
     ]
    },
    {
     "name": "stdout",
     "output_type": "stream",
     "text": [
      "Epoch 11:  89%|████████▊ | 226/255 [02:36<00:20,  1.44it/s, loss=0.338, v_num=2, train_loss=0.334, train_accuracy=0.833, val_loss=0.502, val_accuracy=0.791]\n",
      "Validating: 0it [00:00, ?it/s]\u001b[A\n",
      "Validating:   0%|          | 0/29 [00:00<?, ?it/s]\u001b[A\n",
      "Epoch 11:  89%|████████▉ | 228/255 [02:39<00:18,  1.43it/s, loss=0.338, v_num=2, train_loss=0.334, train_accuracy=0.833, val_loss=0.502, val_accuracy=0.791]\n",
      "Validating:   7%|▋         | 2/29 [00:02<00:33,  1.25s/it]\u001b[A\n",
      "Epoch 11:  90%|█████████ | 230/255 [02:39<00:17,  1.44it/s, loss=0.338, v_num=2, train_loss=0.334, train_accuracy=0.833, val_loss=0.502, val_accuracy=0.791]\n",
      "Validating:  14%|█▍        | 4/29 [00:03<00:13,  1.89it/s]\u001b[A\n",
      "Epoch 11:  91%|█████████ | 232/255 [02:40<00:15,  1.45it/s, loss=0.338, v_num=2, train_loss=0.334, train_accuracy=0.833, val_loss=0.502, val_accuracy=0.791]\n",
      "Validating:  21%|██        | 6/29 [00:03<00:07,  3.08it/s]\u001b[A\n",
      "Epoch 11:  92%|█████████▏| 234/255 [02:40<00:14,  1.46it/s, loss=0.338, v_num=2, train_loss=0.334, train_accuracy=0.833, val_loss=0.502, val_accuracy=0.791]\n",
      "Validating:  28%|██▊       | 8/29 [00:04<00:05,  4.11it/s]\u001b[A\n",
      "Epoch 11:  93%|█████████▎| 236/255 [02:40<00:12,  1.47it/s, loss=0.338, v_num=2, train_loss=0.334, train_accuracy=0.833, val_loss=0.502, val_accuracy=0.791]\n",
      "Validating:  34%|███▍      | 10/29 [00:04<00:03,  4.79it/s]\u001b[A\n",
      "Epoch 11:  93%|█████████▎| 238/255 [02:41<00:11,  1.48it/s, loss=0.338, v_num=2, train_loss=0.334, train_accuracy=0.833, val_loss=0.502, val_accuracy=0.791]\n",
      "Validating:  41%|████▏     | 12/29 [00:04<00:03,  5.13it/s]\u001b[A\n",
      "Epoch 11:  94%|█████████▍| 240/255 [02:41<00:10,  1.48it/s, loss=0.338, v_num=2, train_loss=0.334, train_accuracy=0.833, val_loss=0.502, val_accuracy=0.791]\n",
      "Validating:  48%|████▊     | 14/29 [00:05<00:02,  5.34it/s]\u001b[A\n",
      "Epoch 11:  95%|█████████▍| 242/255 [02:41<00:08,  1.49it/s, loss=0.338, v_num=2, train_loss=0.334, train_accuracy=0.833, val_loss=0.502, val_accuracy=0.791]\n",
      "Validating:  55%|█████▌    | 16/29 [00:05<00:02,  5.52it/s]\u001b[A\n",
      "Epoch 11:  96%|█████████▌| 244/255 [02:42<00:07,  1.50it/s, loss=0.338, v_num=2, train_loss=0.334, train_accuracy=0.833, val_loss=0.502, val_accuracy=0.791]\n",
      "Validating:  62%|██████▏   | 18/29 [00:05<00:01,  5.54it/s]\u001b[A\n",
      "Epoch 11:  96%|█████████▋| 246/255 [02:42<00:05,  1.51it/s, loss=0.338, v_num=2, train_loss=0.334, train_accuracy=0.833, val_loss=0.502, val_accuracy=0.791]\n",
      "Validating:  69%|██████▉   | 20/29 [00:06<00:01,  5.58it/s]\u001b[A\n",
      "Epoch 11:  97%|█████████▋| 248/255 [02:43<00:04,  1.52it/s, loss=0.338, v_num=2, train_loss=0.334, train_accuracy=0.833, val_loss=0.502, val_accuracy=0.791]\n",
      "Validating:  76%|███████▌  | 22/29 [00:06<00:01,  5.63it/s]\u001b[A\n",
      "Epoch 11:  98%|█████████▊| 250/255 [02:43<00:03,  1.53it/s, loss=0.338, v_num=2, train_loss=0.334, train_accuracy=0.833, val_loss=0.502, val_accuracy=0.791]\n",
      "Validating:  83%|████████▎ | 24/29 [00:06<00:00,  5.65it/s]\u001b[A\n",
      "Epoch 11:  99%|█████████▉| 252/255 [02:43<00:01,  1.54it/s, loss=0.338, v_num=2, train_loss=0.334, train_accuracy=0.833, val_loss=0.502, val_accuracy=0.791]\n",
      "Validating:  90%|████████▉ | 26/29 [00:07<00:00,  5.62it/s]\u001b[A\n",
      "Epoch 11: 100%|█████████▉| 254/255 [02:44<00:00,  1.55it/s, loss=0.338, v_num=2, train_loss=0.334, train_accuracy=0.833, val_loss=0.502, val_accuracy=0.791]\n",
      "Validating:  97%|█████████▋| 28/29 [00:07<00:00,  5.57it/s]\u001b[A\n",
      "Epoch 11: 100%|██████████| 255/255 [02:44<00:00,  1.55it/s, loss=0.338, v_num=2, train_loss=0.334, train_accuracy=0.833, val_loss=0.369, val_accuracy=0.837]\n",
      "Epoch 11: 100%|██████████| 255/255 [02:44<00:00,  1.55it/s, loss=0.338, v_num=2, train_loss=0.334, train_accuracy=0.833, val_loss=0.369, val_accuracy=0.837]"
     ]
    },
    {
     "name": "stderr",
     "output_type": "stream",
     "text": [
      "Epoch 11, global step 2711: val_loss reached 0.36880 (best 0.36880), saving model to \"/Workspace/code/checkpoints/best-checkpoint-corr-mi-19-v4.ckpt\" as top 2\n"
     ]
    },
    {
     "name": "stdout",
     "output_type": "stream",
     "text": [
      "Epoch 12:  89%|████████▊ | 226/255 [02:36<00:20,  1.44it/s, loss=0.306, v_num=2, train_loss=0.225, train_accuracy=0.944, val_loss=0.369, val_accuracy=0.837]\n",
      "Validating: 0it [00:00, ?it/s]\u001b[A\n",
      "Validating:   0%|          | 0/29 [00:00<?, ?it/s]\u001b[A\n",
      "Epoch 12:  89%|████████▉ | 228/255 [02:39<00:18,  1.43it/s, loss=0.306, v_num=2, train_loss=0.225, train_accuracy=0.944, val_loss=0.369, val_accuracy=0.837]\n",
      "Validating:   7%|▋         | 2/29 [00:02<00:31,  1.18s/it]\u001b[A\n",
      "Epoch 12:  90%|█████████ | 230/255 [02:39<00:17,  1.44it/s, loss=0.306, v_num=2, train_loss=0.225, train_accuracy=0.944, val_loss=0.369, val_accuracy=0.837]\n",
      "Validating:  14%|█▍        | 4/29 [00:03<00:12,  1.94it/s]\u001b[A\n",
      "Epoch 12:  91%|█████████ | 232/255 [02:40<00:15,  1.45it/s, loss=0.306, v_num=2, train_loss=0.225, train_accuracy=0.944, val_loss=0.369, val_accuracy=0.837]\n",
      "Validating:  21%|██        | 6/29 [00:03<00:07,  3.13it/s]\u001b[A\n",
      "Epoch 12:  92%|█████████▏| 234/255 [02:40<00:14,  1.46it/s, loss=0.306, v_num=2, train_loss=0.225, train_accuracy=0.944, val_loss=0.369, val_accuracy=0.837]\n",
      "Validating:  28%|██▊       | 8/29 [00:03<00:05,  4.17it/s]\u001b[A\n",
      "Epoch 12:  93%|█████████▎| 236/255 [02:41<00:12,  1.47it/s, loss=0.306, v_num=2, train_loss=0.225, train_accuracy=0.944, val_loss=0.369, val_accuracy=0.837]\n",
      "Validating:  34%|███▍      | 10/29 [00:04<00:03,  4.83it/s]\u001b[A\n",
      "Epoch 12:  93%|█████████▎| 238/255 [02:41<00:11,  1.47it/s, loss=0.306, v_num=2, train_loss=0.225, train_accuracy=0.944, val_loss=0.369, val_accuracy=0.837]\n",
      "Validating:  41%|████▏     | 12/29 [00:04<00:03,  5.14it/s]\u001b[A\n",
      "Epoch 12:  94%|█████████▍| 240/255 [02:41<00:10,  1.48it/s, loss=0.306, v_num=2, train_loss=0.225, train_accuracy=0.944, val_loss=0.369, val_accuracy=0.837]\n",
      "Validating:  48%|████▊     | 14/29 [00:04<00:02,  5.37it/s]\u001b[A\n",
      "Epoch 12:  95%|█████████▍| 242/255 [02:42<00:08,  1.49it/s, loss=0.306, v_num=2, train_loss=0.225, train_accuracy=0.944, val_loss=0.369, val_accuracy=0.837]\n",
      "Validating:  55%|█████▌    | 16/29 [00:05<00:02,  5.54it/s]\u001b[A\n",
      "Epoch 12:  96%|█████████▌| 244/255 [02:42<00:07,  1.50it/s, loss=0.306, v_num=2, train_loss=0.225, train_accuracy=0.944, val_loss=0.369, val_accuracy=0.837]\n",
      "Validating:  62%|██████▏   | 18/29 [00:05<00:01,  5.62it/s]\u001b[A\n",
      "Epoch 12:  96%|█████████▋| 246/255 [02:42<00:05,  1.51it/s, loss=0.306, v_num=2, train_loss=0.225, train_accuracy=0.944, val_loss=0.369, val_accuracy=0.837]\n",
      "Validating:  69%|██████▉   | 20/29 [00:06<00:01,  5.69it/s]\u001b[A\n",
      "Epoch 12:  97%|█████████▋| 248/255 [02:43<00:04,  1.52it/s, loss=0.306, v_num=2, train_loss=0.225, train_accuracy=0.944, val_loss=0.369, val_accuracy=0.837]\n",
      "Validating:  76%|███████▌  | 22/29 [00:06<00:01,  5.72it/s]\u001b[A\n",
      "Epoch 12:  98%|█████████▊| 250/255 [02:43<00:03,  1.53it/s, loss=0.306, v_num=2, train_loss=0.225, train_accuracy=0.944, val_loss=0.369, val_accuracy=0.837]\n",
      "Validating:  83%|████████▎ | 24/29 [00:06<00:00,  5.68it/s]\u001b[A\n",
      "Epoch 12:  99%|█████████▉| 252/255 [02:43<00:01,  1.54it/s, loss=0.306, v_num=2, train_loss=0.225, train_accuracy=0.944, val_loss=0.369, val_accuracy=0.837]\n",
      "Validating:  90%|████████▉ | 26/29 [00:07<00:00,  5.60it/s]\u001b[A\n",
      "Epoch 12: 100%|█████████▉| 254/255 [02:44<00:00,  1.55it/s, loss=0.306, v_num=2, train_loss=0.225, train_accuracy=0.944, val_loss=0.369, val_accuracy=0.837]\n",
      "Validating:  97%|█████████▋| 28/29 [00:07<00:00,  5.60it/s]\u001b[A\n",
      "Epoch 12: 100%|██████████| 255/255 [02:44<00:00,  1.55it/s, loss=0.306, v_num=2, train_loss=0.225, train_accuracy=0.944, val_loss=0.475, val_accuracy=0.821]\n",
      "Epoch 12: 100%|██████████| 255/255 [02:44<00:00,  1.55it/s, loss=0.306, v_num=2, train_loss=0.225, train_accuracy=0.944, val_loss=0.475, val_accuracy=0.821]"
     ]
    },
    {
     "name": "stderr",
     "output_type": "stream",
     "text": [
      "Epoch 12, global step 2937: val_loss was not in top 2\n"
     ]
    },
    {
     "name": "stdout",
     "output_type": "stream",
     "text": [
      "Epoch 13:  89%|████████▊ | 226/255 [02:36<00:20,  1.44it/s, loss=0.375, v_num=2, train_loss=0.640, train_accuracy=0.667, val_loss=0.475, val_accuracy=0.821]\n",
      "Validating: 0it [00:00, ?it/s]\u001b[A\n",
      "Validating:   0%|          | 0/29 [00:00<?, ?it/s]\u001b[A\n",
      "Epoch 13:  89%|████████▉ | 228/255 [02:39<00:18,  1.43it/s, loss=0.375, v_num=2, train_loss=0.640, train_accuracy=0.667, val_loss=0.475, val_accuracy=0.821]\n",
      "Validating:   7%|▋         | 2/29 [00:02<00:33,  1.25s/it]\u001b[A\n",
      "Epoch 13:  90%|█████████ | 230/255 [02:39<00:17,  1.44it/s, loss=0.375, v_num=2, train_loss=0.640, train_accuracy=0.667, val_loss=0.475, val_accuracy=0.821]\n",
      "Validating:  14%|█▍        | 4/29 [00:03<00:13,  1.88it/s]\u001b[A\n",
      "Epoch 13:  91%|█████████ | 232/255 [02:40<00:15,  1.45it/s, loss=0.375, v_num=2, train_loss=0.640, train_accuracy=0.667, val_loss=0.475, val_accuracy=0.821]\n",
      "Validating:  21%|██        | 6/29 [00:03<00:07,  3.00it/s]\u001b[A\n",
      "Epoch 13:  92%|█████████▏| 234/255 [02:40<00:14,  1.46it/s, loss=0.375, v_num=2, train_loss=0.640, train_accuracy=0.667, val_loss=0.475, val_accuracy=0.821]\n",
      "Validating:  28%|██▊       | 8/29 [00:04<00:05,  4.01it/s]\u001b[A\n",
      "Epoch 13:  93%|█████████▎| 236/255 [02:41<00:12,  1.47it/s, loss=0.375, v_num=2, train_loss=0.640, train_accuracy=0.667, val_loss=0.475, val_accuracy=0.821]\n",
      "Validating:  34%|███▍      | 10/29 [00:04<00:04,  4.72it/s]\u001b[A\n",
      "Epoch 13:  93%|█████████▎| 238/255 [02:41<00:11,  1.47it/s, loss=0.375, v_num=2, train_loss=0.640, train_accuracy=0.667, val_loss=0.475, val_accuracy=0.821]\n",
      "Validating:  41%|████▏     | 12/29 [00:04<00:03,  5.19it/s]\u001b[A\n",
      "Epoch 13:  94%|█████████▍| 240/255 [02:41<00:10,  1.48it/s, loss=0.375, v_num=2, train_loss=0.640, train_accuracy=0.667, val_loss=0.475, val_accuracy=0.821]\n",
      "Validating:  48%|████▊     | 14/29 [00:05<00:02,  5.41it/s]\u001b[A\n",
      "Epoch 13:  95%|█████████▍| 242/255 [02:42<00:08,  1.49it/s, loss=0.375, v_num=2, train_loss=0.640, train_accuracy=0.667, val_loss=0.475, val_accuracy=0.821]\n",
      "Validating:  55%|█████▌    | 16/29 [00:05<00:02,  5.51it/s]\u001b[A\n",
      "Epoch 13:  96%|█████████▌| 244/255 [02:42<00:07,  1.50it/s, loss=0.375, v_num=2, train_loss=0.640, train_accuracy=0.667, val_loss=0.475, val_accuracy=0.821]\n",
      "Validating:  62%|██████▏   | 18/29 [00:05<00:01,  5.61it/s]\u001b[A\n",
      "Epoch 13:  96%|█████████▋| 246/255 [02:42<00:05,  1.51it/s, loss=0.375, v_num=2, train_loss=0.640, train_accuracy=0.667, val_loss=0.475, val_accuracy=0.821]\n",
      "Validating:  69%|██████▉   | 20/29 [00:06<00:01,  5.71it/s]\u001b[A\n",
      "Epoch 13:  97%|█████████▋| 248/255 [02:43<00:04,  1.52it/s, loss=0.375, v_num=2, train_loss=0.640, train_accuracy=0.667, val_loss=0.475, val_accuracy=0.821]\n",
      "Validating:  76%|███████▌  | 22/29 [00:06<00:01,  5.73it/s]\u001b[A\n",
      "Epoch 13:  98%|█████████▊| 250/255 [02:43<00:03,  1.53it/s, loss=0.375, v_num=2, train_loss=0.640, train_accuracy=0.667, val_loss=0.475, val_accuracy=0.821]\n",
      "Validating:  83%|████████▎ | 24/29 [00:06<00:00,  5.67it/s]\u001b[A\n",
      "Epoch 13:  99%|█████████▉| 252/255 [02:43<00:01,  1.54it/s, loss=0.375, v_num=2, train_loss=0.640, train_accuracy=0.667, val_loss=0.475, val_accuracy=0.821]\n",
      "Validating:  90%|████████▉ | 26/29 [00:07<00:00,  5.63it/s]\u001b[A\n",
      "Epoch 13: 100%|█████████▉| 254/255 [02:44<00:00,  1.55it/s, loss=0.375, v_num=2, train_loss=0.640, train_accuracy=0.667, val_loss=0.475, val_accuracy=0.821]\n",
      "Validating:  97%|█████████▋| 28/29 [00:07<00:00,  5.62it/s]\u001b[A\n",
      "Epoch 13: 100%|██████████| 255/255 [02:44<00:00,  1.55it/s, loss=0.375, v_num=2, train_loss=0.640, train_accuracy=0.667, val_loss=0.366, val_accuracy=0.850]\n",
      "Epoch 13: 100%|██████████| 255/255 [02:44<00:00,  1.55it/s, loss=0.375, v_num=2, train_loss=0.640, train_accuracy=0.667, val_loss=0.366, val_accuracy=0.850]"
     ]
    },
    {
     "name": "stderr",
     "output_type": "stream",
     "text": [
      "Epoch 13, global step 3163: val_loss reached 0.36628 (best 0.36628), saving model to \"/Workspace/code/checkpoints/best-checkpoint-corr-mi-19-v5.ckpt\" as top 2\n"
     ]
    },
    {
     "name": "stdout",
     "output_type": "stream",
     "text": [
      "Epoch 14:  89%|████████▊ | 226/255 [02:36<00:20,  1.44it/s, loss=0.255, v_num=2, train_loss=0.082, train_accuracy=1.000, val_loss=0.366, val_accuracy=0.850]\n",
      "Validating: 0it [00:00, ?it/s]\u001b[A\n",
      "Validating:   0%|          | 0/29 [00:00<?, ?it/s]\u001b[A\n",
      "Epoch 14:  89%|████████▉ | 228/255 [02:39<00:18,  1.43it/s, loss=0.255, v_num=2, train_loss=0.082, train_accuracy=1.000, val_loss=0.366, val_accuracy=0.850]\n",
      "Validating:   7%|▋         | 2/29 [00:02<00:33,  1.22s/it]\u001b[A\n",
      "Epoch 14:  90%|█████████ | 230/255 [02:39<00:17,  1.44it/s, loss=0.255, v_num=2, train_loss=0.082, train_accuracy=1.000, val_loss=0.366, val_accuracy=0.850]\n",
      "Validating:  14%|█▍        | 4/29 [00:03<00:13,  1.92it/s]\u001b[A\n",
      "Epoch 14:  91%|█████████ | 232/255 [02:40<00:15,  1.45it/s, loss=0.255, v_num=2, train_loss=0.082, train_accuracy=1.000, val_loss=0.366, val_accuracy=0.850]\n",
      "Validating:  21%|██        | 6/29 [00:03<00:07,  3.11it/s]\u001b[A\n",
      "Epoch 14:  92%|█████████▏| 234/255 [02:40<00:14,  1.46it/s, loss=0.255, v_num=2, train_loss=0.082, train_accuracy=1.000, val_loss=0.366, val_accuracy=0.850]\n",
      "Validating:  28%|██▊       | 8/29 [00:03<00:05,  4.11it/s]\u001b[A\n",
      "Epoch 14:  93%|█████████▎| 236/255 [02:40<00:12,  1.47it/s, loss=0.255, v_num=2, train_loss=0.082, train_accuracy=1.000, val_loss=0.366, val_accuracy=0.850]\n",
      "Validating:  34%|███▍      | 10/29 [00:04<00:03,  4.84it/s]\u001b[A\n",
      "Epoch 14:  93%|█████████▎| 238/255 [02:41<00:11,  1.48it/s, loss=0.255, v_num=2, train_loss=0.082, train_accuracy=1.000, val_loss=0.366, val_accuracy=0.850]\n",
      "Validating:  41%|████▏     | 12/29 [00:04<00:03,  5.22it/s]\u001b[A\n",
      "Epoch 14:  94%|█████████▍| 240/255 [02:41<00:10,  1.49it/s, loss=0.255, v_num=2, train_loss=0.082, train_accuracy=1.000, val_loss=0.366, val_accuracy=0.850]\n",
      "Validating:  48%|████▊     | 14/29 [00:05<00:02,  5.37it/s]\u001b[A\n",
      "Epoch 14:  95%|█████████▍| 242/255 [02:41<00:08,  1.50it/s, loss=0.255, v_num=2, train_loss=0.082, train_accuracy=1.000, val_loss=0.366, val_accuracy=0.850]\n",
      "Validating:  55%|█████▌    | 16/29 [00:05<00:02,  5.53it/s]\u001b[A\n",
      "Epoch 14:  96%|█████████▌| 244/255 [02:42<00:07,  1.51it/s, loss=0.255, v_num=2, train_loss=0.082, train_accuracy=1.000, val_loss=0.366, val_accuracy=0.850]\n",
      "Validating:  62%|██████▏   | 18/29 [00:05<00:01,  5.58it/s]\u001b[A\n",
      "Epoch 14:  96%|█████████▋| 246/255 [02:42<00:05,  1.51it/s, loss=0.255, v_num=2, train_loss=0.082, train_accuracy=1.000, val_loss=0.366, val_accuracy=0.850]\n",
      "Validating:  69%|██████▉   | 20/29 [00:06<00:01,  5.64it/s]\u001b[A\n",
      "Epoch 14:  97%|█████████▋| 248/255 [02:42<00:04,  1.52it/s, loss=0.255, v_num=2, train_loss=0.082, train_accuracy=1.000, val_loss=0.366, val_accuracy=0.850]\n",
      "Validating:  76%|███████▌  | 22/29 [00:06<00:01,  5.66it/s]\u001b[A\n",
      "Epoch 14:  98%|█████████▊| 250/255 [02:43<00:03,  1.53it/s, loss=0.255, v_num=2, train_loss=0.082, train_accuracy=1.000, val_loss=0.366, val_accuracy=0.850]\n",
      "Validating:  83%|████████▎ | 24/29 [00:06<00:00,  5.61it/s]\u001b[A\n",
      "Epoch 14:  99%|█████████▉| 252/255 [02:43<00:01,  1.54it/s, loss=0.255, v_num=2, train_loss=0.082, train_accuracy=1.000, val_loss=0.366, val_accuracy=0.850]\n",
      "Validating:  90%|████████▉ | 26/29 [00:07<00:00,  5.60it/s]\u001b[A\n",
      "Epoch 14: 100%|█████████▉| 254/255 [02:43<00:00,  1.55it/s, loss=0.255, v_num=2, train_loss=0.082, train_accuracy=1.000, val_loss=0.366, val_accuracy=0.850]\n",
      "Validating:  97%|█████████▋| 28/29 [00:07<00:00,  5.57it/s]\u001b[A\n",
      "Epoch 14: 100%|██████████| 255/255 [02:44<00:00,  1.55it/s, loss=0.255, v_num=2, train_loss=0.082, train_accuracy=1.000, val_loss=0.297, val_accuracy=0.890]\n",
      "Epoch 14: 100%|██████████| 255/255 [02:44<00:00,  1.55it/s, loss=0.255, v_num=2, train_loss=0.082, train_accuracy=1.000, val_loss=0.297, val_accuracy=0.890]"
     ]
    },
    {
     "name": "stderr",
     "output_type": "stream",
     "text": [
      "Epoch 14, global step 3389: val_loss reached 0.29714 (best 0.29714), saving model to \"/Workspace/code/checkpoints/best-checkpoint-corr-mi-19-v4.ckpt\" as top 2\n"
     ]
    },
    {
     "name": "stdout",
     "output_type": "stream",
     "text": [
      "Epoch 15:  89%|████████▊ | 226/255 [02:36<00:20,  1.44it/s, loss=0.318, v_num=2, train_loss=0.121, train_accuracy=0.944, val_loss=0.297, val_accuracy=0.890]\n",
      "Validating: 0it [00:00, ?it/s]\u001b[A\n",
      "Validating:   0%|          | 0/29 [00:00<?, ?it/s]\u001b[A\n",
      "Epoch 15:  89%|████████▉ | 228/255 [02:39<00:18,  1.43it/s, loss=0.318, v_num=2, train_loss=0.121, train_accuracy=0.944, val_loss=0.297, val_accuracy=0.890]\n",
      "Validating:   7%|▋         | 2/29 [00:02<00:32,  1.21s/it]\u001b[A\n",
      "Epoch 15:  90%|█████████ | 230/255 [02:39<00:17,  1.44it/s, loss=0.318, v_num=2, train_loss=0.121, train_accuracy=0.944, val_loss=0.297, val_accuracy=0.890]\n",
      "Validating:  14%|█▍        | 4/29 [00:03<00:12,  1.94it/s]\u001b[A\n",
      "Epoch 15:  91%|█████████ | 232/255 [02:40<00:15,  1.45it/s, loss=0.318, v_num=2, train_loss=0.121, train_accuracy=0.944, val_loss=0.297, val_accuracy=0.890]\n",
      "Validating:  21%|██        | 6/29 [00:03<00:07,  3.14it/s]\u001b[A\n",
      "Epoch 15:  92%|█████████▏| 234/255 [02:40<00:14,  1.46it/s, loss=0.318, v_num=2, train_loss=0.121, train_accuracy=0.944, val_loss=0.297, val_accuracy=0.890]\n",
      "Validating:  28%|██▊       | 8/29 [00:03<00:05,  4.16it/s]\u001b[A\n",
      "Epoch 15:  93%|█████████▎| 236/255 [02:40<00:12,  1.47it/s, loss=0.318, v_num=2, train_loss=0.121, train_accuracy=0.944, val_loss=0.297, val_accuracy=0.890]\n",
      "Validating:  34%|███▍      | 10/29 [00:04<00:03,  4.83it/s]\u001b[A\n",
      "Epoch 15:  93%|█████████▎| 238/255 [02:41<00:11,  1.48it/s, loss=0.318, v_num=2, train_loss=0.121, train_accuracy=0.944, val_loss=0.297, val_accuracy=0.890]\n",
      "Validating:  41%|████▏     | 12/29 [00:04<00:03,  5.26it/s]\u001b[A\n",
      "Epoch 15:  94%|█████████▍| 240/255 [02:41<00:10,  1.49it/s, loss=0.318, v_num=2, train_loss=0.121, train_accuracy=0.944, val_loss=0.297, val_accuracy=0.890]\n",
      "Validating:  48%|████▊     | 14/29 [00:04<00:02,  5.45it/s]\u001b[A\n",
      "Epoch 15:  95%|█████████▍| 242/255 [02:41<00:08,  1.50it/s, loss=0.318, v_num=2, train_loss=0.121, train_accuracy=0.944, val_loss=0.297, val_accuracy=0.890]\n",
      "Validating:  55%|█████▌    | 16/29 [00:05<00:02,  5.48it/s]\u001b[A\n",
      "Epoch 15:  96%|█████████▌| 244/255 [02:42<00:07,  1.50it/s, loss=0.318, v_num=2, train_loss=0.121, train_accuracy=0.944, val_loss=0.297, val_accuracy=0.890]\n",
      "Validating:  62%|██████▏   | 18/29 [00:05<00:01,  5.57it/s]\u001b[A\n",
      "Epoch 15:  96%|█████████▋| 246/255 [02:42<00:05,  1.51it/s, loss=0.318, v_num=2, train_loss=0.121, train_accuracy=0.944, val_loss=0.297, val_accuracy=0.890]\n",
      "Validating:  69%|██████▉   | 20/29 [00:06<00:01,  5.62it/s]\u001b[A\n",
      "Epoch 15:  97%|█████████▋| 248/255 [02:42<00:04,  1.52it/s, loss=0.318, v_num=2, train_loss=0.121, train_accuracy=0.944, val_loss=0.297, val_accuracy=0.890]\n",
      "Validating:  76%|███████▌  | 22/29 [00:06<00:01,  5.70it/s]\u001b[A\n",
      "Epoch 15:  98%|█████████▊| 250/255 [02:43<00:03,  1.53it/s, loss=0.318, v_num=2, train_loss=0.121, train_accuracy=0.944, val_loss=0.297, val_accuracy=0.890]\n",
      "Validating:  83%|████████▎ | 24/29 [00:06<00:00,  5.68it/s]\u001b[A\n",
      "Epoch 15:  99%|█████████▉| 252/255 [02:43<00:01,  1.54it/s, loss=0.318, v_num=2, train_loss=0.121, train_accuracy=0.944, val_loss=0.297, val_accuracy=0.890]\n",
      "Validating:  90%|████████▉ | 26/29 [00:07<00:00,  5.65it/s]\u001b[A\n",
      "Epoch 15: 100%|█████████▉| 254/255 [02:43<00:00,  1.55it/s, loss=0.318, v_num=2, train_loss=0.121, train_accuracy=0.944, val_loss=0.297, val_accuracy=0.890]\n",
      "Validating:  97%|█████████▋| 28/29 [00:07<00:00,  5.60it/s]\u001b[A\n",
      "Epoch 15: 100%|██████████| 255/255 [02:44<00:00,  1.55it/s, loss=0.318, v_num=2, train_loss=0.121, train_accuracy=0.944, val_loss=0.280, val_accuracy=0.885]\n",
      "Epoch 15: 100%|██████████| 255/255 [02:44<00:00,  1.55it/s, loss=0.318, v_num=2, train_loss=0.121, train_accuracy=0.944, val_loss=0.280, val_accuracy=0.885]"
     ]
    },
    {
     "name": "stderr",
     "output_type": "stream",
     "text": [
      "Epoch 15, global step 3615: val_loss reached 0.28014 (best 0.28014), saving model to \"/Workspace/code/checkpoints/best-checkpoint-corr-mi-19-v5.ckpt\" as top 2\n"
     ]
    },
    {
     "name": "stdout",
     "output_type": "stream",
     "text": [
      "Epoch 16:  89%|████████▊ | 226/255 [02:36<00:20,  1.44it/s, loss=0.203, v_num=2, train_loss=0.137, train_accuracy=1.000, val_loss=0.280, val_accuracy=0.885]\n",
      "Validating: 0it [00:00, ?it/s]\u001b[A\n",
      "Validating:   0%|          | 0/29 [00:00<?, ?it/s]\u001b[A\n",
      "Epoch 16:  89%|████████▉ | 228/255 [02:39<00:18,  1.43it/s, loss=0.203, v_num=2, train_loss=0.137, train_accuracy=1.000, val_loss=0.280, val_accuracy=0.885]\n",
      "Validating:   7%|▋         | 2/29 [00:02<00:32,  1.21s/it]\u001b[A\n",
      "Epoch 16:  90%|█████████ | 230/255 [02:39<00:17,  1.44it/s, loss=0.203, v_num=2, train_loss=0.137, train_accuracy=1.000, val_loss=0.280, val_accuracy=0.885]\n",
      "Validating:  14%|█▍        | 4/29 [00:03<00:12,  1.93it/s]\u001b[A\n",
      "Epoch 16:  91%|█████████ | 232/255 [02:40<00:15,  1.45it/s, loss=0.203, v_num=2, train_loss=0.137, train_accuracy=1.000, val_loss=0.280, val_accuracy=0.885]\n",
      "Validating:  21%|██        | 6/29 [00:03<00:07,  3.09it/s]\u001b[A\n",
      "Epoch 16:  92%|█████████▏| 234/255 [02:40<00:14,  1.46it/s, loss=0.203, v_num=2, train_loss=0.137, train_accuracy=1.000, val_loss=0.280, val_accuracy=0.885]\n",
      "Validating:  28%|██▊       | 8/29 [00:03<00:05,  4.01it/s]\u001b[A\n",
      "Epoch 16:  93%|█████████▎| 236/255 [02:40<00:12,  1.47it/s, loss=0.203, v_num=2, train_loss=0.137, train_accuracy=1.000, val_loss=0.280, val_accuracy=0.885]\n",
      "Validating:  34%|███▍      | 10/29 [00:04<00:04,  4.71it/s]\u001b[A\n",
      "Epoch 16:  93%|█████████▎| 238/255 [02:41<00:11,  1.48it/s, loss=0.203, v_num=2, train_loss=0.137, train_accuracy=1.000, val_loss=0.280, val_accuracy=0.885]\n",
      "Validating:  41%|████▏     | 12/29 [00:04<00:03,  5.16it/s]\u001b[A\n",
      "Epoch 16:  94%|█████████▍| 240/255 [02:41<00:10,  1.49it/s, loss=0.203, v_num=2, train_loss=0.137, train_accuracy=1.000, val_loss=0.280, val_accuracy=0.885]\n",
      "Validating:  48%|████▊     | 14/29 [00:05<00:02,  5.44it/s]\u001b[A\n",
      "Epoch 16:  95%|█████████▍| 242/255 [02:41<00:08,  1.49it/s, loss=0.203, v_num=2, train_loss=0.137, train_accuracy=1.000, val_loss=0.280, val_accuracy=0.885]\n",
      "Validating:  55%|█████▌    | 16/29 [00:05<00:02,  5.53it/s]\u001b[A\n",
      "Epoch 16:  96%|█████████▌| 244/255 [02:42<00:07,  1.50it/s, loss=0.203, v_num=2, train_loss=0.137, train_accuracy=1.000, val_loss=0.280, val_accuracy=0.885]\n",
      "Validating:  62%|██████▏   | 18/29 [00:05<00:01,  5.57it/s]\u001b[A\n",
      "Epoch 16:  96%|█████████▋| 246/255 [02:42<00:05,  1.51it/s, loss=0.203, v_num=2, train_loss=0.137, train_accuracy=1.000, val_loss=0.280, val_accuracy=0.885]\n",
      "Validating:  69%|██████▉   | 20/29 [00:06<00:01,  5.66it/s]\u001b[A\n",
      "Epoch 16:  97%|█████████▋| 248/255 [02:42<00:04,  1.52it/s, loss=0.203, v_num=2, train_loss=0.137, train_accuracy=1.000, val_loss=0.280, val_accuracy=0.885]\n",
      "Validating:  76%|███████▌  | 22/29 [00:06<00:01,  5.67it/s]\u001b[A\n",
      "Epoch 16:  98%|█████████▊| 250/255 [02:43<00:03,  1.53it/s, loss=0.203, v_num=2, train_loss=0.137, train_accuracy=1.000, val_loss=0.280, val_accuracy=0.885]\n",
      "Validating:  83%|████████▎ | 24/29 [00:06<00:00,  5.64it/s]\u001b[A\n",
      "Epoch 16:  99%|█████████▉| 252/255 [02:43<00:01,  1.54it/s, loss=0.203, v_num=2, train_loss=0.137, train_accuracy=1.000, val_loss=0.280, val_accuracy=0.885]\n",
      "Validating:  90%|████████▉ | 26/29 [00:07<00:00,  5.60it/s]\u001b[A\n",
      "Epoch 16: 100%|█████████▉| 254/255 [02:44<00:00,  1.55it/s, loss=0.203, v_num=2, train_loss=0.137, train_accuracy=1.000, val_loss=0.280, val_accuracy=0.885]\n",
      "Validating:  97%|█████████▋| 28/29 [00:07<00:00,  5.55it/s]\u001b[A\n",
      "Epoch 16: 100%|██████████| 255/255 [02:44<00:00,  1.55it/s, loss=0.203, v_num=2, train_loss=0.137, train_accuracy=1.000, val_loss=0.269, val_accuracy=0.889]\n",
      "Epoch 16: 100%|██████████| 255/255 [02:44<00:00,  1.55it/s, loss=0.203, v_num=2, train_loss=0.137, train_accuracy=1.000, val_loss=0.269, val_accuracy=0.889]"
     ]
    },
    {
     "name": "stderr",
     "output_type": "stream",
     "text": [
      "Epoch 16, global step 3841: val_loss reached 0.26896 (best 0.26896), saving model to \"/Workspace/code/checkpoints/best-checkpoint-corr-mi-19-v4.ckpt\" as top 2\n"
     ]
    },
    {
     "name": "stdout",
     "output_type": "stream",
     "text": [
      "Epoch 17:  89%|████████▊ | 226/255 [02:36<00:20,  1.44it/s, loss=0.569, v_num=2, train_loss=0.630, train_accuracy=0.778, val_loss=0.269, val_accuracy=0.889]\n",
      "Validating: 0it [00:00, ?it/s]\u001b[A\n",
      "Validating:   0%|          | 0/29 [00:00<?, ?it/s]\u001b[A\n",
      "Epoch 17:  89%|████████▉ | 228/255 [02:39<00:18,  1.43it/s, loss=0.569, v_num=2, train_loss=0.630, train_accuracy=0.778, val_loss=0.269, val_accuracy=0.889]\n",
      "Validating:   7%|▋         | 2/29 [00:02<00:32,  1.19s/it]\u001b[A\n",
      "Epoch 17:  90%|█████████ | 230/255 [02:39<00:17,  1.44it/s, loss=0.569, v_num=2, train_loss=0.630, train_accuracy=0.778, val_loss=0.269, val_accuracy=0.889]\n",
      "Validating:  14%|█▍        | 4/29 [00:03<00:12,  1.93it/s]\u001b[A\n",
      "Epoch 17:  91%|█████████ | 232/255 [02:40<00:15,  1.45it/s, loss=0.569, v_num=2, train_loss=0.630, train_accuracy=0.778, val_loss=0.269, val_accuracy=0.889]\n",
      "Validating:  21%|██        | 6/29 [00:03<00:07,  3.10it/s]\u001b[A\n",
      "Epoch 17:  92%|█████████▏| 234/255 [02:40<00:14,  1.46it/s, loss=0.569, v_num=2, train_loss=0.630, train_accuracy=0.778, val_loss=0.269, val_accuracy=0.889]\n",
      "Validating:  28%|██▊       | 8/29 [00:03<00:05,  4.06it/s]\u001b[A\n",
      "Epoch 17:  93%|█████████▎| 236/255 [02:40<00:12,  1.47it/s, loss=0.569, v_num=2, train_loss=0.630, train_accuracy=0.778, val_loss=0.269, val_accuracy=0.889]\n",
      "Validating:  34%|███▍      | 10/29 [00:04<00:03,  4.78it/s]\u001b[A\n",
      "Epoch 17:  93%|█████████▎| 238/255 [02:41<00:11,  1.48it/s, loss=0.569, v_num=2, train_loss=0.630, train_accuracy=0.778, val_loss=0.269, val_accuracy=0.889]\n",
      "Validating:  41%|████▏     | 12/29 [00:04<00:03,  5.18it/s]\u001b[A\n",
      "Epoch 17:  94%|█████████▍| 240/255 [02:41<00:10,  1.49it/s, loss=0.569, v_num=2, train_loss=0.630, train_accuracy=0.778, val_loss=0.269, val_accuracy=0.889]\n",
      "Validating:  48%|████▊     | 14/29 [00:04<00:02,  5.37it/s]\u001b[A\n",
      "Epoch 17:  95%|█████████▍| 242/255 [02:41<00:08,  1.50it/s, loss=0.569, v_num=2, train_loss=0.630, train_accuracy=0.778, val_loss=0.269, val_accuracy=0.889]\n",
      "Validating:  55%|█████▌    | 16/29 [00:05<00:02,  5.51it/s]\u001b[A\n",
      "Epoch 17:  96%|█████████▌| 244/255 [02:42<00:07,  1.50it/s, loss=0.569, v_num=2, train_loss=0.630, train_accuracy=0.778, val_loss=0.269, val_accuracy=0.889]\n",
      "Validating:  62%|██████▏   | 18/29 [00:05<00:01,  5.61it/s]\u001b[A\n",
      "Epoch 17:  96%|█████████▋| 246/255 [02:42<00:05,  1.51it/s, loss=0.569, v_num=2, train_loss=0.630, train_accuracy=0.778, val_loss=0.269, val_accuracy=0.889]\n",
      "Validating:  69%|██████▉   | 20/29 [00:06<00:01,  5.63it/s]\u001b[A\n",
      "Epoch 17:  97%|█████████▋| 248/255 [02:42<00:04,  1.52it/s, loss=0.569, v_num=2, train_loss=0.630, train_accuracy=0.778, val_loss=0.269, val_accuracy=0.889]\n",
      "Validating:  76%|███████▌  | 22/29 [00:06<00:01,  5.67it/s]\u001b[A\n",
      "Epoch 17:  98%|█████████▊| 250/255 [02:43<00:03,  1.53it/s, loss=0.569, v_num=2, train_loss=0.630, train_accuracy=0.778, val_loss=0.269, val_accuracy=0.889]\n",
      "Validating:  83%|████████▎ | 24/29 [00:06<00:00,  5.69it/s]\u001b[A\n",
      "Epoch 17:  99%|█████████▉| 252/255 [02:43<00:01,  1.54it/s, loss=0.569, v_num=2, train_loss=0.630, train_accuracy=0.778, val_loss=0.269, val_accuracy=0.889]\n",
      "Validating:  90%|████████▉ | 26/29 [00:07<00:00,  5.62it/s]\u001b[A\n",
      "Epoch 17: 100%|█████████▉| 254/255 [02:43<00:00,  1.55it/s, loss=0.569, v_num=2, train_loss=0.630, train_accuracy=0.778, val_loss=0.269, val_accuracy=0.889]\n",
      "Validating:  97%|█████████▋| 28/29 [00:07<00:00,  5.57it/s]\u001b[A\n",
      "Epoch 17: 100%|██████████| 255/255 [02:44<00:00,  1.55it/s, loss=0.569, v_num=2, train_loss=0.630, train_accuracy=0.778, val_loss=0.623, val_accuracy=0.664]\n",
      "Epoch 17: 100%|██████████| 255/255 [02:44<00:00,  1.55it/s, loss=0.569, v_num=2, train_loss=0.630, train_accuracy=0.778, val_loss=0.623, val_accuracy=0.664]"
     ]
    },
    {
     "name": "stderr",
     "output_type": "stream",
     "text": [
      "Epoch 17, global step 4067: val_loss was not in top 2\n"
     ]
    },
    {
     "name": "stdout",
     "output_type": "stream",
     "text": [
      "Epoch 18:  89%|████████▊ | 226/255 [02:36<00:20,  1.44it/s, loss=0.424, v_num=2, train_loss=0.270, train_accuracy=0.944, val_loss=0.623, val_accuracy=0.664]\n",
      "Validating: 0it [00:00, ?it/s]\u001b[A\n",
      "Validating:   0%|          | 0/29 [00:00<?, ?it/s]\u001b[A\n",
      "Epoch 18:  89%|████████▉ | 228/255 [02:39<00:18,  1.43it/s, loss=0.424, v_num=2, train_loss=0.270, train_accuracy=0.944, val_loss=0.623, val_accuracy=0.664]\n",
      "Validating:   7%|▋         | 2/29 [00:02<00:32,  1.20s/it]\u001b[A\n",
      "Epoch 18:  90%|█████████ | 230/255 [02:39<00:17,  1.44it/s, loss=0.424, v_num=2, train_loss=0.270, train_accuracy=0.944, val_loss=0.623, val_accuracy=0.664]\n",
      "Validating:  14%|█▍        | 4/29 [00:03<00:12,  1.95it/s]\u001b[A\n",
      "Epoch 18:  91%|█████████ | 232/255 [02:39<00:15,  1.45it/s, loss=0.424, v_num=2, train_loss=0.270, train_accuracy=0.944, val_loss=0.623, val_accuracy=0.664]\n",
      "Validating:  21%|██        | 6/29 [00:03<00:07,  3.13it/s]\u001b[A\n",
      "Epoch 18:  92%|█████████▏| 234/255 [02:40<00:14,  1.46it/s, loss=0.424, v_num=2, train_loss=0.270, train_accuracy=0.944, val_loss=0.623, val_accuracy=0.664]\n",
      "Validating:  28%|██▊       | 8/29 [00:03<00:05,  4.14it/s]\u001b[A\n",
      "Epoch 18:  93%|█████████▎| 236/255 [02:40<00:12,  1.47it/s, loss=0.424, v_num=2, train_loss=0.270, train_accuracy=0.944, val_loss=0.623, val_accuracy=0.664]\n",
      "Validating:  34%|███▍      | 10/29 [00:04<00:03,  4.77it/s]\u001b[A\n",
      "Epoch 18:  93%|█████████▎| 238/255 [02:40<00:11,  1.48it/s, loss=0.424, v_num=2, train_loss=0.270, train_accuracy=0.944, val_loss=0.623, val_accuracy=0.664]\n",
      "Validating:  41%|████▏     | 12/29 [00:04<00:03,  5.18it/s]\u001b[A\n",
      "Epoch 18:  94%|█████████▍| 240/255 [02:41<00:10,  1.49it/s, loss=0.424, v_num=2, train_loss=0.270, train_accuracy=0.944, val_loss=0.623, val_accuracy=0.664]\n",
      "Validating:  48%|████▊     | 14/29 [00:04<00:02,  5.36it/s]\u001b[A\n",
      "Epoch 18:  95%|█████████▍| 242/255 [02:41<00:08,  1.50it/s, loss=0.424, v_num=2, train_loss=0.270, train_accuracy=0.944, val_loss=0.623, val_accuracy=0.664]\n",
      "Validating:  55%|█████▌    | 16/29 [00:05<00:02,  5.46it/s]\u001b[A\n",
      "Epoch 18:  96%|█████████▌| 244/255 [02:42<00:07,  1.51it/s, loss=0.424, v_num=2, train_loss=0.270, train_accuracy=0.944, val_loss=0.623, val_accuracy=0.664]\n",
      "Validating:  62%|██████▏   | 18/29 [00:05<00:01,  5.60it/s]\u001b[A\n",
      "Epoch 18:  96%|█████████▋| 246/255 [02:42<00:05,  1.51it/s, loss=0.424, v_num=2, train_loss=0.270, train_accuracy=0.944, val_loss=0.623, val_accuracy=0.664]\n",
      "Validating:  69%|██████▉   | 20/29 [00:06<00:01,  5.66it/s]\u001b[A\n",
      "Epoch 18:  97%|█████████▋| 248/255 [02:42<00:04,  1.52it/s, loss=0.424, v_num=2, train_loss=0.270, train_accuracy=0.944, val_loss=0.623, val_accuracy=0.664]\n",
      "Validating:  76%|███████▌  | 22/29 [00:06<00:01,  5.66it/s]\u001b[A\n",
      "Epoch 18:  98%|█████████▊| 250/255 [02:43<00:03,  1.53it/s, loss=0.424, v_num=2, train_loss=0.270, train_accuracy=0.944, val_loss=0.623, val_accuracy=0.664]\n",
      "Validating:  83%|████████▎ | 24/29 [00:06<00:00,  5.62it/s]\u001b[A\n",
      "Epoch 18:  99%|█████████▉| 252/255 [02:43<00:01,  1.54it/s, loss=0.424, v_num=2, train_loss=0.270, train_accuracy=0.944, val_loss=0.623, val_accuracy=0.664]\n",
      "Validating:  90%|████████▉ | 26/29 [00:07<00:00,  5.58it/s]\u001b[A\n",
      "Epoch 18: 100%|█████████▉| 254/255 [02:43<00:00,  1.55it/s, loss=0.424, v_num=2, train_loss=0.270, train_accuracy=0.944, val_loss=0.623, val_accuracy=0.664]\n",
      "Validating:  97%|█████████▋| 28/29 [00:07<00:00,  5.54it/s]\u001b[A\n",
      "Epoch 18: 100%|██████████| 255/255 [02:44<00:00,  1.55it/s, loss=0.424, v_num=2, train_loss=0.270, train_accuracy=0.944, val_loss=0.415, val_accuracy=0.806]\n",
      "Epoch 18: 100%|██████████| 255/255 [02:44<00:00,  1.55it/s, loss=0.424, v_num=2, train_loss=0.270, train_accuracy=0.944, val_loss=0.415, val_accuracy=0.806]"
     ]
    },
    {
     "name": "stderr",
     "output_type": "stream",
     "text": [
      "Epoch 18, global step 4293: val_loss was not in top 2\n"
     ]
    },
    {
     "name": "stdout",
     "output_type": "stream",
     "text": [
      "Epoch 19:  89%|████████▊ | 226/255 [02:36<00:20,  1.45it/s, loss=0.381, v_num=2, train_loss=0.446, train_accuracy=0.778, val_loss=0.415, val_accuracy=0.806]\n",
      "Validating: 0it [00:00, ?it/s]\u001b[A\n",
      "Validating:   0%|          | 0/29 [00:00<?, ?it/s]\u001b[A\n",
      "Epoch 19:  89%|████████▉ | 228/255 [02:39<00:18,  1.43it/s, loss=0.381, v_num=2, train_loss=0.446, train_accuracy=0.778, val_loss=0.415, val_accuracy=0.806]\n",
      "Validating:   7%|▋         | 2/29 [00:02<00:32,  1.21s/it]\u001b[A\n",
      "Epoch 19:  90%|█████████ | 230/255 [02:39<00:17,  1.44it/s, loss=0.381, v_num=2, train_loss=0.446, train_accuracy=0.778, val_loss=0.415, val_accuracy=0.806]\n",
      "Validating:  14%|█▍        | 4/29 [00:03<00:12,  1.94it/s]\u001b[A\n",
      "Epoch 19:  91%|█████████ | 232/255 [02:39<00:15,  1.45it/s, loss=0.381, v_num=2, train_loss=0.446, train_accuracy=0.778, val_loss=0.415, val_accuracy=0.806]\n",
      "Validating:  21%|██        | 6/29 [00:03<00:07,  3.11it/s]\u001b[A\n",
      "Epoch 19:  92%|█████████▏| 234/255 [02:40<00:14,  1.46it/s, loss=0.381, v_num=2, train_loss=0.446, train_accuracy=0.778, val_loss=0.415, val_accuracy=0.806]\n",
      "Validating:  28%|██▊       | 8/29 [00:03<00:05,  4.11it/s]\u001b[A\n",
      "Epoch 19:  93%|█████████▎| 236/255 [02:40<00:12,  1.47it/s, loss=0.381, v_num=2, train_loss=0.446, train_accuracy=0.778, val_loss=0.415, val_accuracy=0.806]\n",
      "Validating:  34%|███▍      | 10/29 [00:04<00:03,  4.80it/s]\u001b[A\n",
      "Epoch 19:  93%|█████████▎| 238/255 [02:40<00:11,  1.48it/s, loss=0.381, v_num=2, train_loss=0.446, train_accuracy=0.778, val_loss=0.415, val_accuracy=0.806]\n",
      "Validating:  41%|████▏     | 12/29 [00:04<00:03,  5.15it/s]\u001b[A\n",
      "Epoch 19:  94%|█████████▍| 240/255 [02:41<00:10,  1.49it/s, loss=0.381, v_num=2, train_loss=0.446, train_accuracy=0.778, val_loss=0.415, val_accuracy=0.806]\n",
      "Validating:  48%|████▊     | 14/29 [00:04<00:02,  5.40it/s]\u001b[A\n",
      "Epoch 19:  95%|█████████▍| 242/255 [02:41<00:08,  1.50it/s, loss=0.381, v_num=2, train_loss=0.446, train_accuracy=0.778, val_loss=0.415, val_accuracy=0.806]\n",
      "Validating:  55%|█████▌    | 16/29 [00:05<00:02,  5.55it/s]\u001b[A\n",
      "Epoch 19:  96%|█████████▌| 244/255 [02:41<00:07,  1.51it/s, loss=0.381, v_num=2, train_loss=0.446, train_accuracy=0.778, val_loss=0.415, val_accuracy=0.806]\n",
      "Validating:  62%|██████▏   | 18/29 [00:05<00:01,  5.62it/s]\u001b[A\n",
      "Epoch 19:  96%|█████████▋| 246/255 [02:42<00:05,  1.52it/s, loss=0.381, v_num=2, train_loss=0.446, train_accuracy=0.778, val_loss=0.415, val_accuracy=0.806]\n",
      "Validating:  69%|██████▉   | 20/29 [00:06<00:01,  5.62it/s]\u001b[A\n",
      "Epoch 19:  97%|█████████▋| 248/255 [02:42<00:04,  1.53it/s, loss=0.381, v_num=2, train_loss=0.446, train_accuracy=0.778, val_loss=0.415, val_accuracy=0.806]\n",
      "Validating:  76%|███████▌  | 22/29 [00:06<00:01,  5.69it/s]\u001b[A\n",
      "Epoch 19:  98%|█████████▊| 250/255 [02:42<00:03,  1.53it/s, loss=0.381, v_num=2, train_loss=0.446, train_accuracy=0.778, val_loss=0.415, val_accuracy=0.806]\n",
      "Validating:  83%|████████▎ | 24/29 [00:06<00:00,  5.60it/s]\u001b[A\n",
      "Epoch 19:  99%|█████████▉| 252/255 [02:43<00:01,  1.54it/s, loss=0.381, v_num=2, train_loss=0.446, train_accuracy=0.778, val_loss=0.415, val_accuracy=0.806]\n",
      "Validating:  90%|████████▉ | 26/29 [00:07<00:00,  5.58it/s]\u001b[A\n",
      "Epoch 19: 100%|█████████▉| 254/255 [02:43<00:00,  1.55it/s, loss=0.381, v_num=2, train_loss=0.446, train_accuracy=0.778, val_loss=0.415, val_accuracy=0.806]\n",
      "Validating:  97%|█████████▋| 28/29 [00:07<00:00,  5.63it/s]\u001b[A\n",
      "Epoch 19: 100%|██████████| 255/255 [02:44<00:00,  1.55it/s, loss=0.381, v_num=2, train_loss=0.446, train_accuracy=0.778, val_loss=0.437, val_accuracy=0.801]\n",
      "Epoch 19: 100%|██████████| 255/255 [02:44<00:00,  1.55it/s, loss=0.381, v_num=2, train_loss=0.446, train_accuracy=0.778, val_loss=0.437, val_accuracy=0.801]"
     ]
    },
    {
     "name": "stderr",
     "output_type": "stream",
     "text": [
      "Epoch 19, global step 4519: val_loss was not in top 2\n"
     ]
    },
    {
     "name": "stdout",
     "output_type": "stream",
     "text": [
      "Epoch 20:  89%|████████▊ | 226/255 [02:35<00:19,  1.45it/s, loss=0.267, v_num=2, train_loss=0.200, train_accuracy=0.944, val_loss=0.437, val_accuracy=0.801]\n",
      "Validating: 0it [00:00, ?it/s]\u001b[A\n",
      "Validating:   0%|          | 0/29 [00:00<?, ?it/s]\u001b[A\n",
      "Epoch 20:  89%|████████▉ | 228/255 [02:38<00:18,  1.44it/s, loss=0.267, v_num=2, train_loss=0.200, train_accuracy=0.944, val_loss=0.437, val_accuracy=0.801]\n",
      "Validating:   7%|▋         | 2/29 [00:02<00:32,  1.20s/it]\u001b[A\n",
      "Epoch 20:  90%|█████████ | 230/255 [02:38<00:17,  1.45it/s, loss=0.267, v_num=2, train_loss=0.200, train_accuracy=0.944, val_loss=0.437, val_accuracy=0.801]\n",
      "Validating:  14%|█▍        | 4/29 [00:03<00:12,  1.93it/s]\u001b[A\n",
      "Epoch 20:  91%|█████████ | 232/255 [02:39<00:15,  1.46it/s, loss=0.267, v_num=2, train_loss=0.200, train_accuracy=0.944, val_loss=0.437, val_accuracy=0.801]\n",
      "Validating:  21%|██        | 6/29 [00:03<00:07,  3.10it/s]\u001b[A\n",
      "Epoch 20:  92%|█████████▏| 234/255 [02:39<00:14,  1.47it/s, loss=0.267, v_num=2, train_loss=0.200, train_accuracy=0.944, val_loss=0.437, val_accuracy=0.801]\n",
      "Validating:  28%|██▊       | 8/29 [00:03<00:05,  4.04it/s]\u001b[A\n",
      "Epoch 20:  93%|█████████▎| 236/255 [02:39<00:12,  1.48it/s, loss=0.267, v_num=2, train_loss=0.200, train_accuracy=0.944, val_loss=0.437, val_accuracy=0.801]\n",
      "Validating:  34%|███▍      | 10/29 [00:04<00:04,  4.74it/s]\u001b[A\n",
      "Epoch 20:  93%|█████████▎| 238/255 [02:40<00:11,  1.49it/s, loss=0.267, v_num=2, train_loss=0.200, train_accuracy=0.944, val_loss=0.437, val_accuracy=0.801]\n",
      "Validating:  41%|████▏     | 12/29 [00:04<00:03,  5.13it/s]\u001b[A\n",
      "Epoch 20:  94%|█████████▍| 240/255 [02:40<00:10,  1.50it/s, loss=0.267, v_num=2, train_loss=0.200, train_accuracy=0.944, val_loss=0.437, val_accuracy=0.801]\n",
      "Validating:  48%|████▊     | 14/29 [00:05<00:02,  5.36it/s]\u001b[A\n",
      "Epoch 20:  95%|█████████▍| 242/255 [02:40<00:08,  1.50it/s, loss=0.267, v_num=2, train_loss=0.200, train_accuracy=0.944, val_loss=0.437, val_accuracy=0.801]\n",
      "Validating:  55%|█████▌    | 16/29 [00:05<00:02,  5.56it/s]\u001b[A\n",
      "Epoch 20:  96%|█████████▌| 244/255 [02:41<00:07,  1.51it/s, loss=0.267, v_num=2, train_loss=0.200, train_accuracy=0.944, val_loss=0.437, val_accuracy=0.801]\n",
      "Validating:  62%|██████▏   | 18/29 [00:05<00:01,  5.64it/s]\u001b[A\n",
      "Epoch 20:  96%|█████████▋| 246/255 [02:41<00:05,  1.52it/s, loss=0.267, v_num=2, train_loss=0.200, train_accuracy=0.944, val_loss=0.437, val_accuracy=0.801]\n",
      "Validating:  69%|██████▉   | 20/29 [00:06<00:01,  5.68it/s]\u001b[A\n",
      "Epoch 20:  97%|█████████▋| 248/255 [02:41<00:04,  1.53it/s, loss=0.267, v_num=2, train_loss=0.200, train_accuracy=0.944, val_loss=0.437, val_accuracy=0.801]\n",
      "Validating:  76%|███████▌  | 22/29 [00:06<00:01,  5.72it/s]\u001b[A\n",
      "Epoch 20:  98%|█████████▊| 250/255 [02:42<00:03,  1.54it/s, loss=0.267, v_num=2, train_loss=0.200, train_accuracy=0.944, val_loss=0.437, val_accuracy=0.801]\n",
      "Validating:  83%|████████▎ | 24/29 [00:06<00:00,  5.66it/s]\u001b[A\n",
      "Epoch 20:  99%|█████████▉| 252/255 [02:42<00:01,  1.55it/s, loss=0.267, v_num=2, train_loss=0.200, train_accuracy=0.944, val_loss=0.437, val_accuracy=0.801]\n",
      "Validating:  90%|████████▉ | 26/29 [00:07<00:00,  5.69it/s]\u001b[A\n",
      "Epoch 20: 100%|█████████▉| 254/255 [02:42<00:00,  1.56it/s, loss=0.267, v_num=2, train_loss=0.200, train_accuracy=0.944, val_loss=0.437, val_accuracy=0.801]\n",
      "Validating:  97%|█████████▋| 28/29 [00:07<00:00,  5.65it/s]\u001b[A\n",
      "Epoch 20: 100%|██████████| 255/255 [02:43<00:00,  1.56it/s, loss=0.267, v_num=2, train_loss=0.200, train_accuracy=0.944, val_loss=0.336, val_accuracy=0.871]\n",
      "Epoch 20: 100%|██████████| 255/255 [02:43<00:00,  1.56it/s, loss=0.267, v_num=2, train_loss=0.200, train_accuracy=0.944, val_loss=0.336, val_accuracy=0.871]"
     ]
    },
    {
     "name": "stderr",
     "output_type": "stream",
     "text": [
      "Epoch 20, global step 4745: val_loss was not in top 2\n"
     ]
    },
    {
     "name": "stdout",
     "output_type": "stream",
     "text": [
      "Epoch 21:  89%|████████▊ | 226/255 [02:36<00:20,  1.44it/s, loss=0.248, v_num=2, train_loss=0.117, train_accuracy=1.000, val_loss=0.336, val_accuracy=0.871] \n",
      "Validating: 0it [00:00, ?it/s]\u001b[A\n",
      "Validating:   0%|          | 0/29 [00:00<?, ?it/s]\u001b[A\n",
      "Epoch 21:  89%|████████▉ | 228/255 [02:39<00:18,  1.43it/s, loss=0.248, v_num=2, train_loss=0.117, train_accuracy=1.000, val_loss=0.336, val_accuracy=0.871]\n",
      "Validating:   7%|▋         | 2/29 [00:03<00:34,  1.29s/it]\u001b[A\n",
      "Epoch 21:  90%|█████████ | 230/255 [02:39<00:17,  1.44it/s, loss=0.248, v_num=2, train_loss=0.117, train_accuracy=1.000, val_loss=0.336, val_accuracy=0.871]\n",
      "Validating:  14%|█▍        | 4/29 [00:03<00:13,  1.85it/s]\u001b[A\n",
      "Epoch 21:  91%|█████████ | 232/255 [02:40<00:15,  1.45it/s, loss=0.248, v_num=2, train_loss=0.117, train_accuracy=1.000, val_loss=0.336, val_accuracy=0.871]\n",
      "Validating:  21%|██        | 6/29 [00:03<00:07,  2.97it/s]\u001b[A\n",
      "Epoch 21:  92%|█████████▏| 234/255 [02:40<00:14,  1.46it/s, loss=0.248, v_num=2, train_loss=0.117, train_accuracy=1.000, val_loss=0.336, val_accuracy=0.871]\n",
      "Validating:  28%|██▊       | 8/29 [00:04<00:05,  4.00it/s]\u001b[A\n",
      "Epoch 21:  93%|█████████▎| 236/255 [02:40<00:12,  1.47it/s, loss=0.248, v_num=2, train_loss=0.117, train_accuracy=1.000, val_loss=0.336, val_accuracy=0.871]\n",
      "Validating:  34%|███▍      | 10/29 [00:04<00:04,  4.70it/s]\u001b[A\n",
      "Epoch 21:  93%|█████████▎| 238/255 [02:41<00:11,  1.48it/s, loss=0.248, v_num=2, train_loss=0.117, train_accuracy=1.000, val_loss=0.336, val_accuracy=0.871]\n",
      "Validating:  41%|████▏     | 12/29 [00:04<00:03,  5.16it/s]\u001b[A\n",
      "Epoch 21:  94%|█████████▍| 240/255 [02:41<00:10,  1.49it/s, loss=0.248, v_num=2, train_loss=0.117, train_accuracy=1.000, val_loss=0.336, val_accuracy=0.871]\n",
      "Validating:  48%|████▊     | 14/29 [00:05<00:02,  5.32it/s]\u001b[A\n",
      "Epoch 21:  95%|█████████▍| 242/255 [02:41<00:08,  1.49it/s, loss=0.248, v_num=2, train_loss=0.117, train_accuracy=1.000, val_loss=0.336, val_accuracy=0.871]\n",
      "Validating:  55%|█████▌    | 16/29 [00:05<00:02,  5.50it/s]\u001b[A\n",
      "Epoch 21:  96%|█████████▌| 244/255 [02:42<00:07,  1.50it/s, loss=0.248, v_num=2, train_loss=0.117, train_accuracy=1.000, val_loss=0.336, val_accuracy=0.871]\n",
      "Validating:  62%|██████▏   | 18/29 [00:05<00:01,  5.57it/s]\u001b[A\n",
      "Epoch 21:  96%|█████████▋| 246/255 [02:42<00:05,  1.51it/s, loss=0.248, v_num=2, train_loss=0.117, train_accuracy=1.000, val_loss=0.336, val_accuracy=0.871]\n",
      "Validating:  69%|██████▉   | 20/29 [00:06<00:01,  5.61it/s]\u001b[A\n",
      "Epoch 21:  97%|█████████▋| 248/255 [02:43<00:04,  1.52it/s, loss=0.248, v_num=2, train_loss=0.117, train_accuracy=1.000, val_loss=0.336, val_accuracy=0.871]\n",
      "Validating:  76%|███████▌  | 22/29 [00:06<00:01,  5.68it/s]\u001b[A\n",
      "Epoch 21:  98%|█████████▊| 250/255 [02:43<00:03,  1.53it/s, loss=0.248, v_num=2, train_loss=0.117, train_accuracy=1.000, val_loss=0.336, val_accuracy=0.871]\n",
      "Validating:  83%|████████▎ | 24/29 [00:06<00:00,  5.74it/s]\u001b[A\n",
      "Epoch 21:  99%|█████████▉| 252/255 [02:43<00:01,  1.54it/s, loss=0.248, v_num=2, train_loss=0.117, train_accuracy=1.000, val_loss=0.336, val_accuracy=0.871]\n",
      "Validating:  90%|████████▉ | 26/29 [00:07<00:00,  5.67it/s]\u001b[A\n",
      "Epoch 21: 100%|█████████▉| 254/255 [02:44<00:00,  1.55it/s, loss=0.248, v_num=2, train_loss=0.117, train_accuracy=1.000, val_loss=0.336, val_accuracy=0.871]\n",
      "Validating:  97%|█████████▋| 28/29 [00:07<00:00,  5.61it/s]\u001b[A\n",
      "Epoch 21: 100%|██████████| 255/255 [02:44<00:00,  1.55it/s, loss=0.248, v_num=2, train_loss=0.117, train_accuracy=1.000, val_loss=0.274, val_accuracy=0.889]\n",
      "Epoch 21: 100%|██████████| 255/255 [02:44<00:00,  1.55it/s, loss=0.248, v_num=2, train_loss=0.117, train_accuracy=1.000, val_loss=0.274, val_accuracy=0.889]"
     ]
    },
    {
     "name": "stderr",
     "output_type": "stream",
     "text": [
      "Epoch 21, global step 4971: val_loss reached 0.27367 (best 0.26896), saving model to \"/Workspace/code/checkpoints/best-checkpoint-corr-mi-19-v5.ckpt\" as top 2\n"
     ]
    },
    {
     "name": "stdout",
     "output_type": "stream",
     "text": [
      "Epoch 22:  89%|████████▊ | 226/255 [02:36<00:20,  1.44it/s, loss=0.25, v_num=2, train_loss=0.152, train_accuracy=0.944, val_loss=0.274, val_accuracy=0.889] \n",
      "Validating: 0it [00:00, ?it/s]\u001b[A\n",
      "Validating:   0%|          | 0/29 [00:00<?, ?it/s]\u001b[A\n",
      "Epoch 22:  89%|████████▉ | 228/255 [02:39<00:18,  1.43it/s, loss=0.25, v_num=2, train_loss=0.152, train_accuracy=0.944, val_loss=0.274, val_accuracy=0.889]\n",
      "Validating:   7%|▋         | 2/29 [00:02<00:33,  1.22s/it]\u001b[A\n",
      "Epoch 22:  90%|█████████ | 230/255 [02:39<00:17,  1.44it/s, loss=0.25, v_num=2, train_loss=0.152, train_accuracy=0.944, val_loss=0.274, val_accuracy=0.889]\n",
      "Validating:  14%|█▍        | 4/29 [00:03<00:12,  1.92it/s]\u001b[A\n",
      "Epoch 22:  91%|█████████ | 232/255 [02:39<00:15,  1.45it/s, loss=0.25, v_num=2, train_loss=0.152, train_accuracy=0.944, val_loss=0.274, val_accuracy=0.889]\n",
      "Validating:  21%|██        | 6/29 [00:03<00:07,  3.11it/s]\u001b[A\n",
      "Epoch 22:  92%|█████████▏| 234/255 [02:40<00:14,  1.46it/s, loss=0.25, v_num=2, train_loss=0.152, train_accuracy=0.944, val_loss=0.274, val_accuracy=0.889]\n",
      "Validating:  28%|██▊       | 8/29 [00:03<00:05,  4.12it/s]\u001b[A\n",
      "Epoch 22:  93%|█████████▎| 236/255 [02:40<00:12,  1.47it/s, loss=0.25, v_num=2, train_loss=0.152, train_accuracy=0.944, val_loss=0.274, val_accuracy=0.889]\n",
      "Validating:  34%|███▍      | 10/29 [00:04<00:03,  4.82it/s]\u001b[A\n",
      "Epoch 22:  93%|█████████▎| 238/255 [02:41<00:11,  1.48it/s, loss=0.25, v_num=2, train_loss=0.152, train_accuracy=0.944, val_loss=0.274, val_accuracy=0.889]\n",
      "Validating:  41%|████▏     | 12/29 [00:04<00:03,  5.22it/s]\u001b[A\n",
      "Epoch 22:  94%|█████████▍| 240/255 [02:41<00:10,  1.49it/s, loss=0.25, v_num=2, train_loss=0.152, train_accuracy=0.944, val_loss=0.274, val_accuracy=0.889]\n",
      "Validating:  48%|████▊     | 14/29 [00:05<00:02,  5.42it/s]\u001b[A\n",
      "Epoch 22:  95%|█████████▍| 242/255 [02:41<00:08,  1.50it/s, loss=0.25, v_num=2, train_loss=0.152, train_accuracy=0.944, val_loss=0.274, val_accuracy=0.889]\n",
      "Validating:  55%|█████▌    | 16/29 [00:05<00:02,  5.50it/s]\u001b[A\n",
      "Epoch 22:  96%|█████████▌| 244/255 [02:42<00:07,  1.51it/s, loss=0.25, v_num=2, train_loss=0.152, train_accuracy=0.944, val_loss=0.274, val_accuracy=0.889]\n",
      "Validating:  62%|██████▏   | 18/29 [00:05<00:01,  5.57it/s]\u001b[A\n",
      "Epoch 22:  96%|█████████▋| 246/255 [02:42<00:05,  1.51it/s, loss=0.25, v_num=2, train_loss=0.152, train_accuracy=0.944, val_loss=0.274, val_accuracy=0.889]\n",
      "Validating:  69%|██████▉   | 20/29 [00:06<00:01,  5.55it/s]\u001b[A\n",
      "Epoch 22:  97%|█████████▋| 248/255 [02:42<00:04,  1.52it/s, loss=0.25, v_num=2, train_loss=0.152, train_accuracy=0.944, val_loss=0.274, val_accuracy=0.889]\n",
      "Validating:  76%|███████▌  | 22/29 [00:06<00:01,  5.63it/s]\u001b[A\n",
      "Epoch 22:  98%|█████████▊| 250/255 [02:43<00:03,  1.53it/s, loss=0.25, v_num=2, train_loss=0.152, train_accuracy=0.944, val_loss=0.274, val_accuracy=0.889]\n",
      "Validating:  83%|████████▎ | 24/29 [00:06<00:00,  5.69it/s]\u001b[A\n",
      "Epoch 22:  99%|█████████▉| 252/255 [02:43<00:01,  1.54it/s, loss=0.25, v_num=2, train_loss=0.152, train_accuracy=0.944, val_loss=0.274, val_accuracy=0.889]\n",
      "Validating:  90%|████████▉ | 26/29 [00:07<00:00,  5.71it/s]\u001b[A\n",
      "Epoch 22: 100%|█████████▉| 254/255 [02:43<00:00,  1.55it/s, loss=0.25, v_num=2, train_loss=0.152, train_accuracy=0.944, val_loss=0.274, val_accuracy=0.889]\n",
      "Validating:  97%|█████████▋| 28/29 [00:07<00:00,  5.64it/s]\u001b[A\n",
      "Epoch 22: 100%|██████████| 255/255 [02:44<00:00,  1.55it/s, loss=0.25, v_num=2, train_loss=0.152, train_accuracy=0.944, val_loss=0.293, val_accuracy=0.893]\n",
      "Epoch 22: 100%|██████████| 255/255 [02:44<00:00,  1.55it/s, loss=0.25, v_num=2, train_loss=0.152, train_accuracy=0.944, val_loss=0.293, val_accuracy=0.893]"
     ]
    },
    {
     "name": "stderr",
     "output_type": "stream",
     "text": [
      "Epoch 22, global step 5197: val_loss was not in top 2\n"
     ]
    },
    {
     "name": "stdout",
     "output_type": "stream",
     "text": [
      "Epoch 23:  89%|████████▊ | 226/255 [02:36<00:20,  1.44it/s, loss=0.281, v_num=2, train_loss=0.354, train_accuracy=0.889, val_loss=0.293, val_accuracy=0.893] \n",
      "Validating: 0it [00:00, ?it/s]\u001b[A\n",
      "Validating:   0%|          | 0/29 [00:00<?, ?it/s]\u001b[A\n",
      "Epoch 23:  89%|████████▉ | 228/255 [02:39<00:18,  1.43it/s, loss=0.281, v_num=2, train_loss=0.354, train_accuracy=0.889, val_loss=0.293, val_accuracy=0.893]\n",
      "Validating:   7%|▋         | 2/29 [00:02<00:33,  1.26s/it]\u001b[A\n",
      "Epoch 23:  90%|█████████ | 230/255 [02:39<00:17,  1.44it/s, loss=0.281, v_num=2, train_loss=0.354, train_accuracy=0.889, val_loss=0.293, val_accuracy=0.893]\n",
      "Validating:  14%|█▍        | 4/29 [00:03<00:13,  1.86it/s]\u001b[A\n",
      "Epoch 23:  91%|█████████ | 232/255 [02:39<00:15,  1.45it/s, loss=0.281, v_num=2, train_loss=0.354, train_accuracy=0.889, val_loss=0.293, val_accuracy=0.893]\n",
      "Validating:  21%|██        | 6/29 [00:03<00:07,  3.02it/s]\u001b[A\n",
      "Epoch 23:  92%|█████████▏| 234/255 [02:40<00:14,  1.46it/s, loss=0.281, v_num=2, train_loss=0.354, train_accuracy=0.889, val_loss=0.293, val_accuracy=0.893]\n",
      "Validating:  28%|██▊       | 8/29 [00:04<00:05,  4.06it/s]\u001b[A\n",
      "Epoch 23:  93%|█████████▎| 236/255 [02:40<00:12,  1.47it/s, loss=0.281, v_num=2, train_loss=0.354, train_accuracy=0.889, val_loss=0.293, val_accuracy=0.893]\n",
      "Validating:  34%|███▍      | 10/29 [00:04<00:03,  4.77it/s]\u001b[A\n",
      "Epoch 23:  93%|█████████▎| 238/255 [02:41<00:11,  1.48it/s, loss=0.281, v_num=2, train_loss=0.354, train_accuracy=0.889, val_loss=0.293, val_accuracy=0.893]\n",
      "Validating:  41%|████▏     | 12/29 [00:04<00:03,  5.22it/s]\u001b[A\n",
      "Epoch 23:  94%|█████████▍| 240/255 [02:41<00:10,  1.49it/s, loss=0.281, v_num=2, train_loss=0.354, train_accuracy=0.889, val_loss=0.293, val_accuracy=0.893]\n",
      "Validating:  48%|████▊     | 14/29 [00:05<00:02,  5.45it/s]\u001b[A\n",
      "Epoch 23:  95%|█████████▍| 242/255 [02:41<00:08,  1.50it/s, loss=0.281, v_num=2, train_loss=0.354, train_accuracy=0.889, val_loss=0.293, val_accuracy=0.893]\n",
      "Validating:  55%|█████▌    | 16/29 [00:05<00:02,  5.47it/s]\u001b[A\n",
      "Epoch 23:  96%|█████████▌| 244/255 [02:42<00:07,  1.51it/s, loss=0.281, v_num=2, train_loss=0.354, train_accuracy=0.889, val_loss=0.293, val_accuracy=0.893]\n",
      "Validating:  62%|██████▏   | 18/29 [00:05<00:01,  5.50it/s]\u001b[A\n",
      "Epoch 23:  96%|█████████▋| 246/255 [02:42<00:05,  1.51it/s, loss=0.281, v_num=2, train_loss=0.354, train_accuracy=0.889, val_loss=0.293, val_accuracy=0.893]\n",
      "Validating:  69%|██████▉   | 20/29 [00:06<00:01,  5.62it/s]\u001b[A\n",
      "Epoch 23:  97%|█████████▋| 248/255 [02:42<00:04,  1.52it/s, loss=0.281, v_num=2, train_loss=0.354, train_accuracy=0.889, val_loss=0.293, val_accuracy=0.893]\n",
      "Validating:  76%|███████▌  | 22/29 [00:06<00:01,  5.65it/s]\u001b[A\n",
      "Epoch 23:  98%|█████████▊| 250/255 [02:43<00:03,  1.53it/s, loss=0.281, v_num=2, train_loss=0.354, train_accuracy=0.889, val_loss=0.293, val_accuracy=0.893]\n",
      "Validating:  83%|████████▎ | 24/29 [00:06<00:00,  5.65it/s]\u001b[A\n",
      "Epoch 23:  99%|█████████▉| 252/255 [02:43<00:01,  1.54it/s, loss=0.281, v_num=2, train_loss=0.354, train_accuracy=0.889, val_loss=0.293, val_accuracy=0.893]\n",
      "Validating:  90%|████████▉ | 26/29 [00:07<00:00,  5.57it/s]\u001b[A\n",
      "Epoch 23: 100%|█████████▉| 254/255 [02:43<00:00,  1.55it/s, loss=0.281, v_num=2, train_loss=0.354, train_accuracy=0.889, val_loss=0.293, val_accuracy=0.893]\n",
      "Validating:  97%|█████████▋| 28/29 [00:07<00:00,  5.54it/s]\u001b[A\n",
      "Epoch 23: 100%|██████████| 255/255 [02:44<00:00,  1.55it/s, loss=0.281, v_num=2, train_loss=0.354, train_accuracy=0.889, val_loss=0.252, val_accuracy=0.886]\n",
      "Epoch 23: 100%|██████████| 255/255 [02:44<00:00,  1.55it/s, loss=0.281, v_num=2, train_loss=0.354, train_accuracy=0.889, val_loss=0.252, val_accuracy=0.886]"
     ]
    },
    {
     "name": "stderr",
     "output_type": "stream",
     "text": [
      "Epoch 23, global step 5423: val_loss reached 0.25191 (best 0.25191), saving model to \"/Workspace/code/checkpoints/best-checkpoint-corr-mi-19-v5.ckpt\" as top 2\n"
     ]
    },
    {
     "name": "stdout",
     "output_type": "stream",
     "text": [
      "Epoch 24:  89%|████████▊ | 226/255 [02:36<00:20,  1.45it/s, loss=0.211, v_num=2, train_loss=0.335, train_accuracy=0.833, val_loss=0.252, val_accuracy=0.886] \n",
      "Validating: 0it [00:00, ?it/s]\u001b[A\n",
      "Validating:   0%|          | 0/29 [00:00<?, ?it/s]\u001b[A\n",
      "Epoch 24:  89%|████████▉ | 228/255 [02:39<00:18,  1.43it/s, loss=0.211, v_num=2, train_loss=0.335, train_accuracy=0.833, val_loss=0.252, val_accuracy=0.886]\n",
      "Validating:   7%|▋         | 2/29 [00:02<00:32,  1.21s/it]\u001b[A\n",
      "Epoch 24:  90%|█████████ | 230/255 [02:39<00:17,  1.44it/s, loss=0.211, v_num=2, train_loss=0.335, train_accuracy=0.833, val_loss=0.252, val_accuracy=0.886]\n",
      "Validating:  14%|█▍        | 4/29 [00:03<00:12,  1.94it/s]\u001b[A\n",
      "Epoch 24:  91%|█████████ | 232/255 [02:39<00:15,  1.45it/s, loss=0.211, v_num=2, train_loss=0.335, train_accuracy=0.833, val_loss=0.252, val_accuracy=0.886]\n",
      "Validating:  21%|██        | 6/29 [00:03<00:07,  3.11it/s]\u001b[A\n",
      "Epoch 24:  92%|█████████▏| 234/255 [02:40<00:14,  1.46it/s, loss=0.211, v_num=2, train_loss=0.335, train_accuracy=0.833, val_loss=0.252, val_accuracy=0.886]\n",
      "Validating:  28%|██▊       | 8/29 [00:03<00:05,  4.11it/s]\u001b[A\n",
      "Epoch 24:  93%|█████████▎| 236/255 [02:40<00:12,  1.47it/s, loss=0.211, v_num=2, train_loss=0.335, train_accuracy=0.833, val_loss=0.252, val_accuracy=0.886]\n",
      "Validating:  34%|███▍      | 10/29 [00:04<00:04,  4.72it/s]\u001b[A\n",
      "Epoch 24:  93%|█████████▎| 238/255 [02:40<00:11,  1.48it/s, loss=0.211, v_num=2, train_loss=0.335, train_accuracy=0.833, val_loss=0.252, val_accuracy=0.886]\n",
      "Validating:  41%|████▏     | 12/29 [00:04<00:03,  5.13it/s]\u001b[A\n",
      "Epoch 24:  94%|█████████▍| 240/255 [02:41<00:10,  1.49it/s, loss=0.211, v_num=2, train_loss=0.335, train_accuracy=0.833, val_loss=0.252, val_accuracy=0.886]\n",
      "Validating:  48%|████▊     | 14/29 [00:04<00:02,  5.44it/s]\u001b[A\n",
      "Epoch 24:  95%|█████████▍| 242/255 [02:41<00:08,  1.50it/s, loss=0.211, v_num=2, train_loss=0.335, train_accuracy=0.833, val_loss=0.252, val_accuracy=0.886]\n",
      "Validating:  55%|█████▌    | 16/29 [00:05<00:02,  5.53it/s]\u001b[A\n",
      "Epoch 24:  96%|█████████▌| 244/255 [02:41<00:07,  1.51it/s, loss=0.211, v_num=2, train_loss=0.335, train_accuracy=0.833, val_loss=0.252, val_accuracy=0.886]\n",
      "Validating:  62%|██████▏   | 18/29 [00:05<00:01,  5.58it/s]\u001b[A\n",
      "Epoch 24:  96%|█████████▋| 246/255 [02:42<00:05,  1.52it/s, loss=0.211, v_num=2, train_loss=0.335, train_accuracy=0.833, val_loss=0.252, val_accuracy=0.886]\n",
      "Validating:  69%|██████▉   | 20/29 [00:06<00:01,  5.62it/s]\u001b[A\n",
      "Epoch 24:  97%|█████████▋| 248/255 [02:42<00:04,  1.52it/s, loss=0.211, v_num=2, train_loss=0.335, train_accuracy=0.833, val_loss=0.252, val_accuracy=0.886]\n",
      "Validating:  76%|███████▌  | 22/29 [00:06<00:01,  5.60it/s]\u001b[A\n",
      "Epoch 24:  98%|█████████▊| 250/255 [02:42<00:03,  1.53it/s, loss=0.211, v_num=2, train_loss=0.335, train_accuracy=0.833, val_loss=0.252, val_accuracy=0.886]\n",
      "Validating:  83%|████████▎ | 24/29 [00:06<00:00,  5.62it/s]\u001b[A\n",
      "Epoch 24:  99%|█████████▉| 252/255 [02:43<00:01,  1.54it/s, loss=0.211, v_num=2, train_loss=0.335, train_accuracy=0.833, val_loss=0.252, val_accuracy=0.886]\n",
      "Validating:  90%|████████▉ | 26/29 [00:07<00:00,  5.63it/s]\u001b[A\n",
      "Epoch 24: 100%|█████████▉| 254/255 [02:43<00:00,  1.55it/s, loss=0.211, v_num=2, train_loss=0.335, train_accuracy=0.833, val_loss=0.252, val_accuracy=0.886]\n",
      "Validating:  97%|█████████▋| 28/29 [00:07<00:00,  5.61it/s]\u001b[A\n",
      "Epoch 24: 100%|██████████| 255/255 [02:44<00:00,  1.55it/s, loss=0.211, v_num=2, train_loss=0.335, train_accuracy=0.833, val_loss=0.251, val_accuracy=0.898]\n",
      "Epoch 24: 100%|██████████| 255/255 [02:44<00:00,  1.55it/s, loss=0.211, v_num=2, train_loss=0.335, train_accuracy=0.833, val_loss=0.251, val_accuracy=0.898]"
     ]
    },
    {
     "name": "stderr",
     "output_type": "stream",
     "text": [
      "Epoch 24, global step 5649: val_loss reached 0.25062 (best 0.25062), saving model to \"/Workspace/code/checkpoints/best-checkpoint-corr-mi-19-v4.ckpt\" as top 2\n"
     ]
    },
    {
     "name": "stdout",
     "output_type": "stream",
     "text": [
      "Epoch 25:  89%|████████▊ | 226/255 [02:36<00:20,  1.44it/s, loss=0.166, v_num=2, train_loss=0.150, train_accuracy=0.944, val_loss=0.251, val_accuracy=0.898] \n",
      "Validating: 0it [00:00, ?it/s]\u001b[A\n",
      "Validating:   0%|          | 0/29 [00:00<?, ?it/s]\u001b[A\n",
      "Epoch 25:  89%|████████▉ | 228/255 [02:39<00:18,  1.43it/s, loss=0.166, v_num=2, train_loss=0.150, train_accuracy=0.944, val_loss=0.251, val_accuracy=0.898]\n",
      "Validating:   7%|▋         | 2/29 [00:02<00:33,  1.22s/it]\u001b[A\n",
      "Epoch 25:  90%|█████████ | 230/255 [02:39<00:17,  1.44it/s, loss=0.166, v_num=2, train_loss=0.150, train_accuracy=0.944, val_loss=0.251, val_accuracy=0.898]\n",
      "Validating:  14%|█▍        | 4/29 [00:03<00:13,  1.90it/s]\u001b[A\n",
      "Epoch 25:  91%|█████████ | 232/255 [02:39<00:15,  1.45it/s, loss=0.166, v_num=2, train_loss=0.150, train_accuracy=0.944, val_loss=0.251, val_accuracy=0.898]\n",
      "Validating:  21%|██        | 6/29 [00:03<00:07,  3.08it/s]\u001b[A\n",
      "Epoch 25:  92%|█████████▏| 234/255 [02:40<00:14,  1.46it/s, loss=0.166, v_num=2, train_loss=0.150, train_accuracy=0.944, val_loss=0.251, val_accuracy=0.898]\n",
      "Validating:  28%|██▊       | 8/29 [00:03<00:05,  4.09it/s]\u001b[A\n",
      "Epoch 25:  93%|█████████▎| 236/255 [02:40<00:12,  1.47it/s, loss=0.166, v_num=2, train_loss=0.150, train_accuracy=0.944, val_loss=0.251, val_accuracy=0.898]\n",
      "Validating:  34%|███▍      | 10/29 [00:04<00:03,  4.79it/s]\u001b[A\n",
      "Epoch 25:  93%|█████████▎| 238/255 [02:41<00:11,  1.48it/s, loss=0.166, v_num=2, train_loss=0.150, train_accuracy=0.944, val_loss=0.251, val_accuracy=0.898]\n",
      "Validating:  41%|████▏     | 12/29 [00:04<00:03,  5.14it/s]\u001b[A\n",
      "Epoch 25:  94%|█████████▍| 240/255 [02:41<00:10,  1.49it/s, loss=0.166, v_num=2, train_loss=0.150, train_accuracy=0.944, val_loss=0.251, val_accuracy=0.898]\n",
      "Validating:  48%|████▊     | 14/29 [00:05<00:02,  5.37it/s]\u001b[A\n",
      "Epoch 25:  95%|█████████▍| 242/255 [02:41<00:08,  1.50it/s, loss=0.166, v_num=2, train_loss=0.150, train_accuracy=0.944, val_loss=0.251, val_accuracy=0.898]\n",
      "Validating:  55%|█████▌    | 16/29 [00:05<00:02,  5.49it/s]\u001b[A\n",
      "Epoch 25:  96%|█████████▌| 244/255 [02:42<00:07,  1.51it/s, loss=0.166, v_num=2, train_loss=0.150, train_accuracy=0.944, val_loss=0.251, val_accuracy=0.898]\n",
      "Validating:  62%|██████▏   | 18/29 [00:05<00:01,  5.61it/s]\u001b[A\n",
      "Epoch 25:  96%|█████████▋| 246/255 [02:42<00:05,  1.51it/s, loss=0.166, v_num=2, train_loss=0.150, train_accuracy=0.944, val_loss=0.251, val_accuracy=0.898]\n",
      "Validating:  69%|██████▉   | 20/29 [00:06<00:01,  5.66it/s]\u001b[A\n",
      "Epoch 25:  97%|█████████▋| 248/255 [02:42<00:04,  1.52it/s, loss=0.166, v_num=2, train_loss=0.150, train_accuracy=0.944, val_loss=0.251, val_accuracy=0.898]\n",
      "Validating:  76%|███████▌  | 22/29 [00:06<00:01,  5.64it/s]\u001b[A\n",
      "Epoch 25:  98%|█████████▊| 250/255 [02:43<00:03,  1.53it/s, loss=0.166, v_num=2, train_loss=0.150, train_accuracy=0.944, val_loss=0.251, val_accuracy=0.898]\n",
      "Validating:  83%|████████▎ | 24/29 [00:06<00:00,  5.60it/s]\u001b[A\n",
      "Epoch 25:  99%|█████████▉| 252/255 [02:43<00:01,  1.54it/s, loss=0.166, v_num=2, train_loss=0.150, train_accuracy=0.944, val_loss=0.251, val_accuracy=0.898]\n",
      "Validating:  90%|████████▉ | 26/29 [00:07<00:00,  5.56it/s]\u001b[A\n",
      "Epoch 25: 100%|█████████▉| 254/255 [02:43<00:00,  1.55it/s, loss=0.166, v_num=2, train_loss=0.150, train_accuracy=0.944, val_loss=0.251, val_accuracy=0.898]\n",
      "Validating:  97%|█████████▋| 28/29 [00:07<00:00,  5.62it/s]\u001b[A\n",
      "Epoch 25: 100%|██████████| 255/255 [02:44<00:00,  1.55it/s, loss=0.166, v_num=2, train_loss=0.150, train_accuracy=0.944, val_loss=0.271, val_accuracy=0.880]\n",
      "Epoch 25: 100%|██████████| 255/255 [02:44<00:00,  1.55it/s, loss=0.166, v_num=2, train_loss=0.150, train_accuracy=0.944, val_loss=0.271, val_accuracy=0.880]"
     ]
    },
    {
     "name": "stderr",
     "output_type": "stream",
     "text": [
      "Epoch 25, global step 5875: val_loss was not in top 2\n"
     ]
    },
    {
     "name": "stdout",
     "output_type": "stream",
     "text": [
      "Epoch 26:  89%|████████▊ | 226/255 [02:36<00:20,  1.44it/s, loss=0.189, v_num=2, train_loss=0.145, train_accuracy=0.944, val_loss=0.271, val_accuracy=0.880] \n",
      "Validating: 0it [00:00, ?it/s]\u001b[A\n",
      "Validating:   0%|          | 0/29 [00:00<?, ?it/s]\u001b[A\n",
      "Epoch 26:  89%|████████▉ | 228/255 [02:39<00:18,  1.43it/s, loss=0.189, v_num=2, train_loss=0.145, train_accuracy=0.944, val_loss=0.271, val_accuracy=0.880]\n",
      "Validating:   7%|▋         | 2/29 [00:02<00:32,  1.21s/it]\u001b[A\n",
      "Epoch 26:  90%|█████████ | 230/255 [02:39<00:17,  1.44it/s, loss=0.189, v_num=2, train_loss=0.145, train_accuracy=0.944, val_loss=0.271, val_accuracy=0.880]\n",
      "Validating:  14%|█▍        | 4/29 [00:03<00:12,  1.93it/s]\u001b[A\n",
      "Epoch 26:  91%|█████████ | 232/255 [02:39<00:15,  1.45it/s, loss=0.189, v_num=2, train_loss=0.145, train_accuracy=0.944, val_loss=0.271, val_accuracy=0.880]\n",
      "Validating:  21%|██        | 6/29 [00:03<00:07,  3.03it/s]\u001b[A\n",
      "Epoch 26:  92%|█████████▏| 234/255 [02:40<00:14,  1.46it/s, loss=0.189, v_num=2, train_loss=0.145, train_accuracy=0.944, val_loss=0.271, val_accuracy=0.880]\n",
      "Validating:  28%|██▊       | 8/29 [00:03<00:05,  4.05it/s]\u001b[A\n",
      "Epoch 26:  93%|█████████▎| 236/255 [02:40<00:12,  1.47it/s, loss=0.189, v_num=2, train_loss=0.145, train_accuracy=0.944, val_loss=0.271, val_accuracy=0.880]\n",
      "Validating:  34%|███▍      | 10/29 [00:04<00:03,  4.76it/s]\u001b[A\n",
      "Epoch 26:  93%|█████████▎| 238/255 [02:41<00:11,  1.48it/s, loss=0.189, v_num=2, train_loss=0.145, train_accuracy=0.944, val_loss=0.271, val_accuracy=0.880]\n",
      "Validating:  41%|████▏     | 12/29 [00:04<00:03,  5.17it/s]\u001b[A\n",
      "Epoch 26:  94%|█████████▍| 240/255 [02:41<00:10,  1.49it/s, loss=0.189, v_num=2, train_loss=0.145, train_accuracy=0.944, val_loss=0.271, val_accuracy=0.880]\n",
      "Validating:  48%|████▊     | 14/29 [00:05<00:02,  5.38it/s]\u001b[A\n",
      "Epoch 26:  95%|█████████▍| 242/255 [02:41<00:08,  1.50it/s, loss=0.189, v_num=2, train_loss=0.145, train_accuracy=0.944, val_loss=0.271, val_accuracy=0.880]\n",
      "Validating:  55%|█████▌    | 16/29 [00:05<00:02,  5.55it/s]\u001b[A\n",
      "Epoch 26:  96%|█████████▌| 244/255 [02:42<00:07,  1.51it/s, loss=0.189, v_num=2, train_loss=0.145, train_accuracy=0.944, val_loss=0.271, val_accuracy=0.880]\n",
      "Validating:  62%|██████▏   | 18/29 [00:05<00:01,  5.61it/s]\u001b[A\n",
      "Epoch 26:  96%|█████████▋| 246/255 [02:42<00:05,  1.51it/s, loss=0.189, v_num=2, train_loss=0.145, train_accuracy=0.944, val_loss=0.271, val_accuracy=0.880]\n",
      "Validating:  69%|██████▉   | 20/29 [00:06<00:01,  5.61it/s]\u001b[A\n",
      "Epoch 26:  97%|█████████▋| 248/255 [02:42<00:04,  1.52it/s, loss=0.189, v_num=2, train_loss=0.145, train_accuracy=0.944, val_loss=0.271, val_accuracy=0.880]\n",
      "Validating:  76%|███████▌  | 22/29 [00:06<00:01,  5.59it/s]\u001b[A\n",
      "Epoch 26:  98%|█████████▊| 250/255 [02:43<00:03,  1.53it/s, loss=0.189, v_num=2, train_loss=0.145, train_accuracy=0.944, val_loss=0.271, val_accuracy=0.880]\n",
      "Validating:  83%|████████▎ | 24/29 [00:06<00:00,  5.63it/s]\u001b[A\n",
      "Epoch 26:  99%|█████████▉| 252/255 [02:43<00:01,  1.54it/s, loss=0.189, v_num=2, train_loss=0.145, train_accuracy=0.944, val_loss=0.271, val_accuracy=0.880]\n",
      "Validating:  90%|████████▉ | 26/29 [00:07<00:00,  5.61it/s]\u001b[A\n",
      "Epoch 26: 100%|█████████▉| 254/255 [02:43<00:00,  1.55it/s, loss=0.189, v_num=2, train_loss=0.145, train_accuracy=0.944, val_loss=0.271, val_accuracy=0.880]\n",
      "Validating:  97%|█████████▋| 28/29 [00:07<00:00,  5.54it/s]\u001b[A\n",
      "Epoch 26: 100%|██████████| 255/255 [02:44<00:00,  1.55it/s, loss=0.189, v_num=2, train_loss=0.145, train_accuracy=0.944, val_loss=0.236, val_accuracy=0.899]\n",
      "Epoch 26: 100%|██████████| 255/255 [02:44<00:00,  1.55it/s, loss=0.189, v_num=2, train_loss=0.145, train_accuracy=0.944, val_loss=0.236, val_accuracy=0.899]"
     ]
    },
    {
     "name": "stderr",
     "output_type": "stream",
     "text": [
      "Epoch 26, global step 6101: val_loss reached 0.23621 (best 0.23621), saving model to \"/Workspace/code/checkpoints/best-checkpoint-corr-mi-19-v5.ckpt\" as top 2\n"
     ]
    },
    {
     "name": "stdout",
     "output_type": "stream",
     "text": [
      "Epoch 27:  89%|████████▊ | 226/255 [02:36<00:20,  1.44it/s, loss=0.222, v_num=2, train_loss=0.295, train_accuracy=0.889, val_loss=0.236, val_accuracy=0.899]\n",
      "Validating: 0it [00:00, ?it/s]\u001b[A\n",
      "Validating:   0%|          | 0/29 [00:00<?, ?it/s]\u001b[A\n",
      "Epoch 27:  89%|████████▉ | 228/255 [02:39<00:18,  1.43it/s, loss=0.222, v_num=2, train_loss=0.295, train_accuracy=0.889, val_loss=0.236, val_accuracy=0.899]\n",
      "Validating:   7%|▋         | 2/29 [00:02<00:33,  1.25s/it]\u001b[A\n",
      "Epoch 27:  90%|█████████ | 230/255 [02:39<00:17,  1.44it/s, loss=0.222, v_num=2, train_loss=0.295, train_accuracy=0.889, val_loss=0.236, val_accuracy=0.899]\n",
      "Validating:  14%|█▍        | 4/29 [00:03<00:13,  1.88it/s]\u001b[A\n",
      "Epoch 27:  91%|█████████ | 232/255 [02:40<00:15,  1.45it/s, loss=0.222, v_num=2, train_loss=0.295, train_accuracy=0.889, val_loss=0.236, val_accuracy=0.899]\n",
      "Validating:  21%|██        | 6/29 [00:03<00:07,  3.00it/s]\u001b[A\n",
      "Epoch 27:  92%|█████████▏| 234/255 [02:40<00:14,  1.46it/s, loss=0.222, v_num=2, train_loss=0.295, train_accuracy=0.889, val_loss=0.236, val_accuracy=0.899]\n",
      "Validating:  28%|██▊       | 8/29 [00:04<00:05,  4.06it/s]\u001b[A\n",
      "Epoch 27:  93%|█████████▎| 236/255 [02:40<00:12,  1.47it/s, loss=0.222, v_num=2, train_loss=0.295, train_accuracy=0.889, val_loss=0.236, val_accuracy=0.899]\n",
      "Validating:  34%|███▍      | 10/29 [00:04<00:03,  4.80it/s]\u001b[A\n",
      "Epoch 27:  93%|█████████▎| 238/255 [02:41<00:11,  1.48it/s, loss=0.222, v_num=2, train_loss=0.295, train_accuracy=0.889, val_loss=0.236, val_accuracy=0.899]\n",
      "Validating:  41%|████▏     | 12/29 [00:04<00:03,  5.14it/s]\u001b[A\n",
      "Epoch 27:  94%|█████████▍| 240/255 [02:41<00:10,  1.48it/s, loss=0.222, v_num=2, train_loss=0.295, train_accuracy=0.889, val_loss=0.236, val_accuracy=0.899]\n",
      "Validating:  48%|████▊     | 14/29 [00:05<00:02,  5.40it/s]\u001b[A\n",
      "Epoch 27:  95%|█████████▍| 242/255 [02:41<00:08,  1.49it/s, loss=0.222, v_num=2, train_loss=0.295, train_accuracy=0.889, val_loss=0.236, val_accuracy=0.899]\n",
      "Validating:  55%|█████▌    | 16/29 [00:05<00:02,  5.54it/s]\u001b[A\n",
      "Epoch 27:  96%|█████████▌| 244/255 [02:42<00:07,  1.50it/s, loss=0.222, v_num=2, train_loss=0.295, train_accuracy=0.889, val_loss=0.236, val_accuracy=0.899]\n",
      "Validating:  62%|██████▏   | 18/29 [00:05<00:01,  5.53it/s]\u001b[A\n",
      "Epoch 27:  96%|█████████▋| 246/255 [02:42<00:05,  1.51it/s, loss=0.222, v_num=2, train_loss=0.295, train_accuracy=0.889, val_loss=0.236, val_accuracy=0.899]\n",
      "Validating:  69%|██████▉   | 20/29 [00:06<00:01,  5.63it/s]\u001b[A\n",
      "Epoch 27:  97%|█████████▋| 248/255 [02:43<00:04,  1.52it/s, loss=0.222, v_num=2, train_loss=0.295, train_accuracy=0.889, val_loss=0.236, val_accuracy=0.899]\n",
      "Validating:  76%|███████▌  | 22/29 [00:06<00:01,  5.60it/s]\u001b[A\n",
      "Epoch 27:  98%|█████████▊| 250/255 [02:43<00:03,  1.53it/s, loss=0.222, v_num=2, train_loss=0.295, train_accuracy=0.889, val_loss=0.236, val_accuracy=0.899]\n",
      "Validating:  83%|████████▎ | 24/29 [00:06<00:00,  5.60it/s]\u001b[A\n",
      "Epoch 27:  99%|█████████▉| 252/255 [02:43<00:01,  1.54it/s, loss=0.222, v_num=2, train_loss=0.295, train_accuracy=0.889, val_loss=0.236, val_accuracy=0.899]\n",
      "Validating:  90%|████████▉ | 26/29 [00:07<00:00,  5.61it/s]\u001b[A\n",
      "Epoch 27: 100%|█████████▉| 254/255 [02:44<00:00,  1.55it/s, loss=0.222, v_num=2, train_loss=0.295, train_accuracy=0.889, val_loss=0.236, val_accuracy=0.899]\n",
      "Validating:  97%|█████████▋| 28/29 [00:07<00:00,  5.66it/s]\u001b[A\n",
      "Epoch 27: 100%|██████████| 255/255 [02:44<00:00,  1.55it/s, loss=0.222, v_num=2, train_loss=0.295, train_accuracy=0.889, val_loss=0.245, val_accuracy=0.898]\n",
      "Epoch 27: 100%|██████████| 255/255 [02:44<00:00,  1.55it/s, loss=0.222, v_num=2, train_loss=0.295, train_accuracy=0.889, val_loss=0.245, val_accuracy=0.898]"
     ]
    },
    {
     "name": "stderr",
     "output_type": "stream",
     "text": [
      "Epoch 27, global step 6327: val_loss reached 0.24474 (best 0.23621), saving model to \"/Workspace/code/checkpoints/best-checkpoint-corr-mi-19-v4.ckpt\" as top 2\n"
     ]
    },
    {
     "name": "stdout",
     "output_type": "stream",
     "text": [
      "Epoch 28:  89%|████████▊ | 226/255 [02:36<00:20,  1.44it/s, loss=0.183, v_num=2, train_loss=0.363, train_accuracy=0.833, val_loss=0.245, val_accuracy=0.898] \n",
      "Validating: 0it [00:00, ?it/s]\u001b[A\n",
      "Validating:   0%|          | 0/29 [00:00<?, ?it/s]\u001b[A\n",
      "Epoch 28:  89%|████████▉ | 228/255 [02:39<00:18,  1.43it/s, loss=0.183, v_num=2, train_loss=0.363, train_accuracy=0.833, val_loss=0.245, val_accuracy=0.898]\n",
      "Validating:   7%|▋         | 2/29 [00:02<00:33,  1.23s/it]\u001b[A\n",
      "Epoch 28:  90%|█████████ | 230/255 [02:39<00:17,  1.44it/s, loss=0.183, v_num=2, train_loss=0.363, train_accuracy=0.833, val_loss=0.245, val_accuracy=0.898]\n",
      "Validating:  14%|█▍        | 4/29 [00:03<00:13,  1.91it/s]\u001b[A\n",
      "Epoch 28:  91%|█████████ | 232/255 [02:39<00:15,  1.45it/s, loss=0.183, v_num=2, train_loss=0.363, train_accuracy=0.833, val_loss=0.245, val_accuracy=0.898]\n",
      "Validating:  21%|██        | 6/29 [00:03<00:07,  3.11it/s]\u001b[A\n",
      "Epoch 28:  92%|█████████▏| 234/255 [02:40<00:14,  1.46it/s, loss=0.183, v_num=2, train_loss=0.363, train_accuracy=0.833, val_loss=0.245, val_accuracy=0.898]\n",
      "Validating:  28%|██▊       | 8/29 [00:03<00:05,  4.05it/s]\u001b[A\n",
      "Epoch 28:  93%|█████████▎| 236/255 [02:40<00:12,  1.47it/s, loss=0.183, v_num=2, train_loss=0.363, train_accuracy=0.833, val_loss=0.245, val_accuracy=0.898]\n",
      "Validating:  34%|███▍      | 10/29 [00:04<00:03,  4.82it/s]\u001b[A\n",
      "Epoch 28:  93%|█████████▎| 238/255 [02:40<00:11,  1.48it/s, loss=0.183, v_num=2, train_loss=0.363, train_accuracy=0.833, val_loss=0.245, val_accuracy=0.898]\n",
      "Validating:  41%|████▏     | 12/29 [00:04<00:03,  5.24it/s]\u001b[A\n",
      "Epoch 28:  94%|█████████▍| 240/255 [02:41<00:10,  1.49it/s, loss=0.183, v_num=2, train_loss=0.363, train_accuracy=0.833, val_loss=0.245, val_accuracy=0.898]\n",
      "Validating:  48%|████▊     | 14/29 [00:05<00:02,  5.45it/s]\u001b[A\n",
      "Epoch 28:  95%|█████████▍| 242/255 [02:41<00:08,  1.50it/s, loss=0.183, v_num=2, train_loss=0.363, train_accuracy=0.833, val_loss=0.245, val_accuracy=0.898]\n",
      "Validating:  55%|█████▌    | 16/29 [00:05<00:02,  5.50it/s]\u001b[A\n",
      "Epoch 28:  96%|█████████▌| 244/255 [02:42<00:07,  1.51it/s, loss=0.183, v_num=2, train_loss=0.363, train_accuracy=0.833, val_loss=0.245, val_accuracy=0.898]\n",
      "Validating:  62%|██████▏   | 18/29 [00:05<00:01,  5.57it/s]\u001b[A\n",
      "Epoch 28:  96%|█████████▋| 246/255 [02:42<00:05,  1.52it/s, loss=0.183, v_num=2, train_loss=0.363, train_accuracy=0.833, val_loss=0.245, val_accuracy=0.898]\n",
      "Validating:  69%|██████▉   | 20/29 [00:06<00:01,  5.66it/s]\u001b[A\n",
      "Epoch 28:  97%|█████████▋| 248/255 [02:42<00:04,  1.52it/s, loss=0.183, v_num=2, train_loss=0.363, train_accuracy=0.833, val_loss=0.245, val_accuracy=0.898]\n",
      "Validating:  76%|███████▌  | 22/29 [00:06<00:01,  5.65it/s]\u001b[A\n",
      "Epoch 28:  98%|█████████▊| 250/255 [02:43<00:03,  1.53it/s, loss=0.183, v_num=2, train_loss=0.363, train_accuracy=0.833, val_loss=0.245, val_accuracy=0.898]\n",
      "Validating:  83%|████████▎ | 24/29 [00:06<00:00,  5.65it/s]\u001b[A\n",
      "Epoch 28:  99%|█████████▉| 252/255 [02:43<00:01,  1.54it/s, loss=0.183, v_num=2, train_loss=0.363, train_accuracy=0.833, val_loss=0.245, val_accuracy=0.898]\n",
      "Validating:  90%|████████▉ | 26/29 [00:07<00:00,  5.64it/s]\u001b[A\n",
      "Epoch 28: 100%|█████████▉| 254/255 [02:43<00:00,  1.55it/s, loss=0.183, v_num=2, train_loss=0.363, train_accuracy=0.833, val_loss=0.245, val_accuracy=0.898]\n",
      "Validating:  97%|█████████▋| 28/29 [00:07<00:00,  5.61it/s]\u001b[A\n",
      "Epoch 28: 100%|██████████| 255/255 [02:44<00:00,  1.55it/s, loss=0.183, v_num=2, train_loss=0.363, train_accuracy=0.833, val_loss=0.239, val_accuracy=0.893]\n",
      "Epoch 28: 100%|██████████| 255/255 [02:44<00:00,  1.55it/s, loss=0.183, v_num=2, train_loss=0.363, train_accuracy=0.833, val_loss=0.239, val_accuracy=0.893]"
     ]
    },
    {
     "name": "stderr",
     "output_type": "stream",
     "text": [
      "Epoch 28, global step 6553: val_loss reached 0.23863 (best 0.23621), saving model to \"/Workspace/code/checkpoints/best-checkpoint-corr-mi-19-v4.ckpt\" as top 2\n"
     ]
    },
    {
     "name": "stdout",
     "output_type": "stream",
     "text": [
      "Epoch 29:  89%|████████▊ | 226/255 [02:41<00:20,  1.40it/s, loss=0.194, v_num=2, train_loss=0.160, train_accuracy=0.889, val_loss=0.239, val_accuracy=0.893] \n",
      "Validating: 0it [00:00, ?it/s]\u001b[A\n",
      "Validating:   0%|          | 0/29 [00:00<?, ?it/s]\u001b[A\n",
      "Epoch 29:  89%|████████▉ | 228/255 [02:44<00:19,  1.38it/s, loss=0.194, v_num=2, train_loss=0.160, train_accuracy=0.889, val_loss=0.239, val_accuracy=0.893]\n",
      "Validating:   7%|▋         | 2/29 [00:02<00:33,  1.24s/it]\u001b[A\n",
      "Epoch 29:  90%|█████████ | 230/255 [02:44<00:17,  1.39it/s, loss=0.194, v_num=2, train_loss=0.160, train_accuracy=0.889, val_loss=0.239, val_accuracy=0.893]\n",
      "Validating:  14%|█▍        | 4/29 [00:03<00:13,  1.88it/s]\u001b[A\n",
      "Epoch 29:  91%|█████████ | 232/255 [02:45<00:16,  1.40it/s, loss=0.194, v_num=2, train_loss=0.160, train_accuracy=0.889, val_loss=0.239, val_accuracy=0.893]\n",
      "Validating:  21%|██        | 6/29 [00:03<00:07,  3.07it/s]\u001b[A\n",
      "Epoch 29:  92%|█████████▏| 234/255 [02:45<00:14,  1.41it/s, loss=0.194, v_num=2, train_loss=0.160, train_accuracy=0.889, val_loss=0.239, val_accuracy=0.893]\n",
      "Validating:  28%|██▊       | 8/29 [00:04<00:05,  4.01it/s]\u001b[A\n",
      "Epoch 29:  93%|█████████▎| 236/255 [02:46<00:13,  1.42it/s, loss=0.194, v_num=2, train_loss=0.160, train_accuracy=0.889, val_loss=0.239, val_accuracy=0.893]\n",
      "Validating:  34%|███▍      | 10/29 [00:04<00:04,  4.74it/s]\u001b[A\n",
      "Epoch 29:  93%|█████████▎| 238/255 [02:46<00:11,  1.43it/s, loss=0.194, v_num=2, train_loss=0.160, train_accuracy=0.889, val_loss=0.239, val_accuracy=0.893]\n",
      "Validating:  41%|████▏     | 12/29 [00:04<00:03,  5.19it/s]\u001b[A\n",
      "Epoch 29:  94%|█████████▍| 240/255 [02:46<00:10,  1.44it/s, loss=0.194, v_num=2, train_loss=0.160, train_accuracy=0.889, val_loss=0.239, val_accuracy=0.893]\n",
      "Validating:  48%|████▊     | 14/29 [00:05<00:02,  5.32it/s]\u001b[A\n",
      "Epoch 29:  95%|█████████▍| 242/255 [02:47<00:08,  1.45it/s, loss=0.194, v_num=2, train_loss=0.160, train_accuracy=0.889, val_loss=0.239, val_accuracy=0.893]\n",
      "Validating:  55%|█████▌    | 16/29 [00:05<00:02,  5.49it/s]\u001b[A\n",
      "Epoch 29:  96%|█████████▌| 244/255 [02:47<00:07,  1.46it/s, loss=0.194, v_num=2, train_loss=0.160, train_accuracy=0.889, val_loss=0.239, val_accuracy=0.893]\n",
      "Validating:  62%|██████▏   | 18/29 [00:05<00:01,  5.61it/s]\u001b[A\n",
      "Epoch 29:  96%|█████████▋| 246/255 [02:47<00:06,  1.47it/s, loss=0.194, v_num=2, train_loss=0.160, train_accuracy=0.889, val_loss=0.239, val_accuracy=0.893]\n",
      "Validating:  69%|██████▉   | 20/29 [00:06<00:01,  5.62it/s]\u001b[A\n",
      "Epoch 29:  97%|█████████▋| 248/255 [02:48<00:04,  1.47it/s, loss=0.194, v_num=2, train_loss=0.160, train_accuracy=0.889, val_loss=0.239, val_accuracy=0.893]\n",
      "Validating:  76%|███████▌  | 22/29 [00:06<00:01,  5.62it/s]\u001b[A\n",
      "Epoch 29:  98%|█████████▊| 250/255 [02:48<00:03,  1.48it/s, loss=0.194, v_num=2, train_loss=0.160, train_accuracy=0.889, val_loss=0.239, val_accuracy=0.893]\n",
      "Validating:  83%|████████▎ | 24/29 [00:06<00:00,  5.62it/s]\u001b[A\n",
      "Epoch 29:  99%|█████████▉| 252/255 [02:48<00:02,  1.49it/s, loss=0.194, v_num=2, train_loss=0.160, train_accuracy=0.889, val_loss=0.239, val_accuracy=0.893]\n",
      "Validating:  90%|████████▉ | 26/29 [00:07<00:00,  5.61it/s]\u001b[A\n",
      "Epoch 29: 100%|█████████▉| 254/255 [02:49<00:00,  1.50it/s, loss=0.194, v_num=2, train_loss=0.160, train_accuracy=0.889, val_loss=0.239, val_accuracy=0.893]\n",
      "Validating:  97%|█████████▋| 28/29 [00:07<00:00,  5.59it/s]\u001b[A\n",
      "Epoch 29: 100%|██████████| 255/255 [02:50<00:00,  1.50it/s, loss=0.194, v_num=2, train_loss=0.160, train_accuracy=0.889, val_loss=0.251, val_accuracy=0.894]\n",
      "Epoch 29: 100%|██████████| 255/255 [02:50<00:00,  1.50it/s, loss=0.194, v_num=2, train_loss=0.160, train_accuracy=0.889, val_loss=0.251, val_accuracy=0.894]"
     ]
    },
    {
     "name": "stderr",
     "output_type": "stream",
     "text": [
      "Epoch 29, global step 6779: val_loss was not in top 2\n"
     ]
    },
    {
     "name": "stdout",
     "output_type": "stream",
     "text": [
      "Epoch 30:  89%|████████▊ | 226/255 [02:45<00:21,  1.36it/s, loss=0.181, v_num=2, train_loss=0.267, train_accuracy=0.889, val_loss=0.251, val_accuracy=0.894] \n",
      "Validating: 0it [00:00, ?it/s]\u001b[A\n",
      "Validating:   0%|          | 0/29 [00:00<?, ?it/s]\u001b[A\n",
      "Epoch 30:  89%|████████▉ | 228/255 [02:48<00:19,  1.35it/s, loss=0.181, v_num=2, train_loss=0.267, train_accuracy=0.889, val_loss=0.251, val_accuracy=0.894]\n",
      "Validating:   7%|▋         | 2/29 [00:03<00:34,  1.29s/it]\u001b[A\n",
      "Epoch 30:  90%|█████████ | 230/255 [02:48<00:18,  1.36it/s, loss=0.181, v_num=2, train_loss=0.267, train_accuracy=0.889, val_loss=0.251, val_accuracy=0.894]\n",
      "Validating:  14%|█▍        | 4/29 [00:03<00:13,  1.83it/s]\u001b[A\n",
      "Epoch 30:  91%|█████████ | 232/255 [02:49<00:16,  1.37it/s, loss=0.181, v_num=2, train_loss=0.267, train_accuracy=0.889, val_loss=0.251, val_accuracy=0.894]\n",
      "Validating:  21%|██        | 6/29 [00:03<00:07,  2.95it/s]\u001b[A\n",
      "Epoch 30:  92%|█████████▏| 234/255 [02:49<00:15,  1.38it/s, loss=0.181, v_num=2, train_loss=0.267, train_accuracy=0.889, val_loss=0.251, val_accuracy=0.894]\n",
      "Validating:  28%|██▊       | 8/29 [00:04<00:05,  3.96it/s]\u001b[A\n",
      "Epoch 30:  93%|█████████▎| 236/255 [02:50<00:13,  1.39it/s, loss=0.181, v_num=2, train_loss=0.267, train_accuracy=0.889, val_loss=0.251, val_accuracy=0.894]\n",
      "Validating:  34%|███▍      | 10/29 [00:04<00:04,  4.62it/s]\u001b[A\n",
      "Epoch 30:  93%|█████████▎| 238/255 [02:50<00:12,  1.40it/s, loss=0.181, v_num=2, train_loss=0.267, train_accuracy=0.889, val_loss=0.251, val_accuracy=0.894]\n",
      "Validating:  41%|████▏     | 12/29 [00:04<00:03,  4.98it/s]\u001b[A\n",
      "Epoch 30:  94%|█████████▍| 240/255 [02:50<00:10,  1.40it/s, loss=0.181, v_num=2, train_loss=0.267, train_accuracy=0.889, val_loss=0.251, val_accuracy=0.894]\n",
      "Validating:  48%|████▊     | 14/29 [00:05<00:02,  5.18it/s]\u001b[A\n",
      "Epoch 30:  95%|█████████▍| 242/255 [02:51<00:09,  1.41it/s, loss=0.181, v_num=2, train_loss=0.267, train_accuracy=0.889, val_loss=0.251, val_accuracy=0.894]\n",
      "Validating:  55%|█████▌    | 16/29 [00:05<00:02,  5.25it/s]\u001b[A\n",
      "Epoch 30:  96%|█████████▌| 244/255 [02:51<00:07,  1.42it/s, loss=0.181, v_num=2, train_loss=0.267, train_accuracy=0.889, val_loss=0.251, val_accuracy=0.894]\n",
      "Validating:  62%|██████▏   | 18/29 [00:05<00:02,  5.42it/s]\u001b[A\n",
      "Epoch 30:  96%|█████████▋| 246/255 [02:51<00:06,  1.43it/s, loss=0.181, v_num=2, train_loss=0.267, train_accuracy=0.889, val_loss=0.251, val_accuracy=0.894]\n",
      "Validating:  69%|██████▉   | 20/29 [00:06<00:01,  5.40it/s]\u001b[A\n",
      "Epoch 30:  97%|█████████▋| 248/255 [02:52<00:04,  1.44it/s, loss=0.181, v_num=2, train_loss=0.267, train_accuracy=0.889, val_loss=0.251, val_accuracy=0.894]\n",
      "Validating:  76%|███████▌  | 22/29 [00:06<00:01,  5.41it/s]\u001b[A\n",
      "Epoch 30:  98%|█████████▊| 250/255 [02:52<00:03,  1.45it/s, loss=0.181, v_num=2, train_loss=0.267, train_accuracy=0.889, val_loss=0.251, val_accuracy=0.894]\n",
      "Validating:  83%|████████▎ | 24/29 [00:07<00:00,  5.52it/s]\u001b[A\n",
      "Epoch 30:  99%|█████████▉| 252/255 [02:53<00:02,  1.46it/s, loss=0.181, v_num=2, train_loss=0.267, train_accuracy=0.889, val_loss=0.251, val_accuracy=0.894]\n",
      "Validating:  90%|████████▉ | 26/29 [00:07<00:00,  5.48it/s]\u001b[A\n",
      "Epoch 30: 100%|█████████▉| 254/255 [02:53<00:00,  1.46it/s, loss=0.181, v_num=2, train_loss=0.267, train_accuracy=0.889, val_loss=0.251, val_accuracy=0.894]\n",
      "Validating:  97%|█████████▋| 28/29 [00:07<00:00,  5.36it/s]\u001b[A\n",
      "Epoch 30: 100%|██████████| 255/255 [02:54<00:00,  1.46it/s, loss=0.181, v_num=2, train_loss=0.267, train_accuracy=0.889, val_loss=0.243, val_accuracy=0.896]\n",
      "Epoch 30: 100%|██████████| 255/255 [02:54<00:00,  1.46it/s, loss=0.181, v_num=2, train_loss=0.267, train_accuracy=0.889, val_loss=0.243, val_accuracy=0.896]"
     ]
    },
    {
     "name": "stderr",
     "output_type": "stream",
     "text": [
      "Epoch 30, global step 7005: val_loss was not in top 2\n"
     ]
    },
    {
     "name": "stdout",
     "output_type": "stream",
     "text": [
      "Epoch 31:  89%|████████▊ | 226/255 [02:38<00:20,  1.42it/s, loss=0.162, v_num=2, train_loss=0.187, train_accuracy=0.944, val_loss=0.243, val_accuracy=0.896] \n",
      "Validating: 0it [00:00, ?it/s]\u001b[A\n",
      "Validating:   0%|          | 0/29 [00:00<?, ?it/s]\u001b[A\n",
      "Epoch 31:  89%|████████▉ | 228/255 [02:41<00:19,  1.41it/s, loss=0.162, v_num=2, train_loss=0.187, train_accuracy=0.944, val_loss=0.243, val_accuracy=0.896]\n",
      "Validating:   7%|▋         | 2/29 [00:02<00:33,  1.23s/it]\u001b[A\n",
      "Epoch 31:  90%|█████████ | 230/255 [02:41<00:17,  1.42it/s, loss=0.162, v_num=2, train_loss=0.187, train_accuracy=0.944, val_loss=0.243, val_accuracy=0.896]\n",
      "Validating:  14%|█▍        | 4/29 [00:03<00:13,  1.89it/s]\u001b[A\n",
      "Epoch 31:  91%|█████████ | 232/255 [02:42<00:16,  1.43it/s, loss=0.162, v_num=2, train_loss=0.187, train_accuracy=0.944, val_loss=0.243, val_accuracy=0.896]\n",
      "Validating:  21%|██        | 6/29 [00:03<00:07,  3.05it/s]\u001b[A\n",
      "Epoch 31:  92%|█████████▏| 234/255 [02:42<00:14,  1.44it/s, loss=0.162, v_num=2, train_loss=0.187, train_accuracy=0.944, val_loss=0.243, val_accuracy=0.896]\n",
      "Validating:  28%|██▊       | 8/29 [00:03<00:04,  4.30it/s]\u001b[A\n",
      "Epoch 31:  93%|█████████▎| 236/255 [02:42<00:13,  1.45it/s, loss=0.162, v_num=2, train_loss=0.187, train_accuracy=0.944, val_loss=0.243, val_accuracy=0.896]\n",
      "Validating:  34%|███▍      | 10/29 [00:04<00:03,  4.85it/s]\u001b[A\n",
      "Epoch 31:  93%|█████████▎| 238/255 [02:43<00:11,  1.46it/s, loss=0.162, v_num=2, train_loss=0.187, train_accuracy=0.944, val_loss=0.243, val_accuracy=0.896]\n",
      "Validating:  41%|████▏     | 12/29 [00:04<00:03,  5.23it/s]\u001b[A\n",
      "Epoch 31:  94%|█████████▍| 240/255 [02:43<00:10,  1.47it/s, loss=0.162, v_num=2, train_loss=0.187, train_accuracy=0.944, val_loss=0.243, val_accuracy=0.896]\n",
      "Validating:  48%|████▊     | 14/29 [00:05<00:02,  5.48it/s]\u001b[A\n",
      "Epoch 31:  95%|█████████▍| 242/255 [02:44<00:08,  1.48it/s, loss=0.162, v_num=2, train_loss=0.187, train_accuracy=0.944, val_loss=0.243, val_accuracy=0.896]\n",
      "Validating:  55%|█████▌    | 16/29 [00:05<00:02,  5.48it/s]\u001b[A\n",
      "Epoch 31:  96%|█████████▌| 244/255 [02:44<00:07,  1.48it/s, loss=0.162, v_num=2, train_loss=0.187, train_accuracy=0.944, val_loss=0.243, val_accuracy=0.896]\n",
      "Validating:  62%|██████▏   | 18/29 [00:05<00:01,  5.57it/s]\u001b[A\n",
      "Epoch 31:  96%|█████████▋| 246/255 [02:44<00:06,  1.49it/s, loss=0.162, v_num=2, train_loss=0.187, train_accuracy=0.944, val_loss=0.243, val_accuracy=0.896]\n",
      "Validating:  69%|██████▉   | 20/29 [00:06<00:01,  5.63it/s]\u001b[A\n",
      "Epoch 31:  97%|█████████▋| 248/255 [02:45<00:04,  1.50it/s, loss=0.162, v_num=2, train_loss=0.187, train_accuracy=0.944, val_loss=0.243, val_accuracy=0.896]\n",
      "Validating:  76%|███████▌  | 22/29 [00:06<00:01,  5.62it/s]\u001b[A\n",
      "Epoch 31:  98%|█████████▊| 250/255 [02:45<00:03,  1.51it/s, loss=0.162, v_num=2, train_loss=0.187, train_accuracy=0.944, val_loss=0.243, val_accuracy=0.896]\n",
      "Validating:  83%|████████▎ | 24/29 [00:06<00:00,  5.66it/s]\u001b[A\n",
      "Epoch 31:  99%|█████████▉| 252/255 [02:45<00:01,  1.52it/s, loss=0.162, v_num=2, train_loss=0.187, train_accuracy=0.944, val_loss=0.243, val_accuracy=0.896]\n",
      "Validating:  90%|████████▉ | 26/29 [00:07<00:00,  5.63it/s]\u001b[A\n",
      "Epoch 31: 100%|█████████▉| 254/255 [02:46<00:00,  1.53it/s, loss=0.162, v_num=2, train_loss=0.187, train_accuracy=0.944, val_loss=0.243, val_accuracy=0.896]\n",
      "Validating:  97%|█████████▋| 28/29 [00:07<00:00,  5.60it/s]\u001b[A\n",
      "Epoch 31: 100%|██████████| 255/255 [02:46<00:00,  1.53it/s, loss=0.162, v_num=2, train_loss=0.187, train_accuracy=0.944, val_loss=0.232, val_accuracy=0.904]\n",
      "Epoch 31: 100%|██████████| 255/255 [02:46<00:00,  1.53it/s, loss=0.162, v_num=2, train_loss=0.187, train_accuracy=0.944, val_loss=0.232, val_accuracy=0.904]"
     ]
    },
    {
     "name": "stderr",
     "output_type": "stream",
     "text": [
      "Epoch 31, global step 7231: val_loss reached 0.23240 (best 0.23240), saving model to \"/Workspace/code/checkpoints/best-checkpoint-corr-mi-19-v4.ckpt\" as top 2\n"
     ]
    },
    {
     "name": "stdout",
     "output_type": "stream",
     "text": [
      "Epoch 32:  89%|████████▊ | 226/255 [02:36<00:20,  1.44it/s, loss=0.179, v_num=2, train_loss=0.249, train_accuracy=0.944, val_loss=0.232, val_accuracy=0.904] \n",
      "Validating: 0it [00:00, ?it/s]\u001b[A\n",
      "Validating:   0%|          | 0/29 [00:00<?, ?it/s]\u001b[A\n",
      "Epoch 32:  89%|████████▉ | 228/255 [02:39<00:18,  1.43it/s, loss=0.179, v_num=2, train_loss=0.249, train_accuracy=0.944, val_loss=0.232, val_accuracy=0.904]\n",
      "Validating:   7%|▋         | 2/29 [00:02<00:33,  1.23s/it]\u001b[A\n",
      "Epoch 32:  90%|█████████ | 230/255 [02:39<00:17,  1.44it/s, loss=0.179, v_num=2, train_loss=0.249, train_accuracy=0.944, val_loss=0.232, val_accuracy=0.904]\n",
      "Validating:  14%|█▍        | 4/29 [00:03<00:13,  1.91it/s]\u001b[A\n",
      "Epoch 32:  91%|█████████ | 232/255 [02:40<00:15,  1.45it/s, loss=0.179, v_num=2, train_loss=0.249, train_accuracy=0.944, val_loss=0.232, val_accuracy=0.904]\n",
      "Validating:  21%|██        | 6/29 [00:03<00:07,  3.06it/s]\u001b[A\n",
      "Epoch 32:  92%|█████████▏| 234/255 [02:40<00:14,  1.46it/s, loss=0.179, v_num=2, train_loss=0.249, train_accuracy=0.944, val_loss=0.232, val_accuracy=0.904]\n",
      "Validating:  28%|██▊       | 8/29 [00:03<00:05,  4.06it/s]\u001b[A\n",
      "Epoch 32:  93%|█████████▎| 236/255 [02:41<00:12,  1.47it/s, loss=0.179, v_num=2, train_loss=0.249, train_accuracy=0.944, val_loss=0.232, val_accuracy=0.904]\n",
      "Validating:  34%|███▍      | 10/29 [00:04<00:04,  4.75it/s]\u001b[A\n",
      "Epoch 32:  93%|█████████▎| 238/255 [02:41<00:11,  1.47it/s, loss=0.179, v_num=2, train_loss=0.249, train_accuracy=0.944, val_loss=0.232, val_accuracy=0.904]\n",
      "Validating:  41%|████▏     | 12/29 [00:04<00:03,  5.18it/s]\u001b[A\n",
      "Epoch 32:  94%|█████████▍| 240/255 [02:41<00:10,  1.48it/s, loss=0.179, v_num=2, train_loss=0.249, train_accuracy=0.944, val_loss=0.232, val_accuracy=0.904]\n",
      "Validating:  48%|████▊     | 14/29 [00:05<00:02,  5.33it/s]\u001b[A\n",
      "Epoch 32:  95%|█████████▍| 242/255 [02:42<00:08,  1.49it/s, loss=0.179, v_num=2, train_loss=0.249, train_accuracy=0.944, val_loss=0.232, val_accuracy=0.904]\n",
      "Validating:  55%|█████▌    | 16/29 [00:05<00:02,  5.49it/s]\u001b[A\n",
      "Epoch 32:  96%|█████████▌| 244/255 [02:42<00:07,  1.50it/s, loss=0.179, v_num=2, train_loss=0.249, train_accuracy=0.944, val_loss=0.232, val_accuracy=0.904]\n",
      "Validating:  62%|██████▏   | 18/29 [00:05<00:01,  5.55it/s]\u001b[A\n",
      "Epoch 32:  96%|█████████▋| 246/255 [02:42<00:05,  1.51it/s, loss=0.179, v_num=2, train_loss=0.249, train_accuracy=0.944, val_loss=0.232, val_accuracy=0.904]\n",
      "Validating:  69%|██████▉   | 20/29 [00:06<00:01,  5.54it/s]\u001b[A\n",
      "Epoch 32:  97%|█████████▋| 248/255 [02:43<00:04,  1.52it/s, loss=0.179, v_num=2, train_loss=0.249, train_accuracy=0.944, val_loss=0.232, val_accuracy=0.904]\n",
      "Validating:  76%|███████▌  | 22/29 [00:06<00:01,  5.63it/s]\u001b[A\n",
      "Epoch 32:  98%|█████████▊| 250/255 [02:43<00:03,  1.53it/s, loss=0.179, v_num=2, train_loss=0.249, train_accuracy=0.944, val_loss=0.232, val_accuracy=0.904]\n",
      "Validating:  83%|████████▎ | 24/29 [00:06<00:00,  5.63it/s]\u001b[A\n",
      "Epoch 32:  99%|█████████▉| 252/255 [02:43<00:01,  1.54it/s, loss=0.179, v_num=2, train_loss=0.249, train_accuracy=0.944, val_loss=0.232, val_accuracy=0.904]\n",
      "Validating:  90%|████████▉ | 26/29 [00:07<00:00,  5.67it/s]\u001b[A\n",
      "Epoch 32: 100%|█████████▉| 254/255 [02:44<00:00,  1.55it/s, loss=0.179, v_num=2, train_loss=0.249, train_accuracy=0.944, val_loss=0.232, val_accuracy=0.904]\n",
      "Validating:  97%|█████████▋| 28/29 [00:07<00:00,  5.58it/s]\u001b[A\n",
      "Epoch 32: 100%|██████████| 255/255 [02:44<00:00,  1.55it/s, loss=0.179, v_num=2, train_loss=0.249, train_accuracy=0.944, val_loss=0.236, val_accuracy=0.891]\n",
      "Epoch 32: 100%|██████████| 255/255 [02:44<00:00,  1.55it/s, loss=0.179, v_num=2, train_loss=0.249, train_accuracy=0.944, val_loss=0.236, val_accuracy=0.891]"
     ]
    },
    {
     "name": "stderr",
     "output_type": "stream",
     "text": [
      "Epoch 32, global step 7457: val_loss was not in top 2\n"
     ]
    },
    {
     "name": "stdout",
     "output_type": "stream",
     "text": [
      "Epoch 33:  89%|████████▊ | 226/255 [02:36<00:20,  1.44it/s, loss=0.19, v_num=2, train_loss=0.406, train_accuracy=0.944, val_loss=0.236, val_accuracy=0.891]  \n",
      "Validating: 0it [00:00, ?it/s]\u001b[A\n",
      "Validating:   0%|          | 0/29 [00:00<?, ?it/s]\u001b[A\n",
      "Epoch 33:  89%|████████▉ | 228/255 [02:39<00:18,  1.43it/s, loss=0.19, v_num=2, train_loss=0.406, train_accuracy=0.944, val_loss=0.236, val_accuracy=0.891]\n",
      "Validating:   7%|▋         | 2/29 [00:02<00:33,  1.22s/it]\u001b[A\n",
      "Epoch 33:  90%|█████████ | 230/255 [02:39<00:17,  1.44it/s, loss=0.19, v_num=2, train_loss=0.406, train_accuracy=0.944, val_loss=0.236, val_accuracy=0.891]\n",
      "Validating:  14%|█▍        | 4/29 [00:03<00:13,  1.90it/s]\u001b[A\n",
      "Epoch 33:  91%|█████████ | 232/255 [02:40<00:15,  1.45it/s, loss=0.19, v_num=2, train_loss=0.406, train_accuracy=0.944, val_loss=0.236, val_accuracy=0.891]\n",
      "Validating:  21%|██        | 6/29 [00:03<00:07,  3.09it/s]\u001b[A\n",
      "Epoch 33:  92%|█████████▏| 234/255 [02:40<00:14,  1.46it/s, loss=0.19, v_num=2, train_loss=0.406, train_accuracy=0.944, val_loss=0.236, val_accuracy=0.891]\n",
      "Validating:  28%|██▊       | 8/29 [00:03<00:05,  4.06it/s]\u001b[A\n",
      "Epoch 33:  93%|█████████▎| 236/255 [02:40<00:12,  1.47it/s, loss=0.19, v_num=2, train_loss=0.406, train_accuracy=0.944, val_loss=0.236, val_accuracy=0.891]\n",
      "Validating:  34%|███▍      | 10/29 [00:04<00:03,  4.78it/s]\u001b[A\n",
      "Epoch 33:  93%|█████████▎| 238/255 [02:41<00:11,  1.48it/s, loss=0.19, v_num=2, train_loss=0.406, train_accuracy=0.944, val_loss=0.236, val_accuracy=0.891]\n",
      "Validating:  41%|████▏     | 12/29 [00:04<00:03,  5.16it/s]\u001b[A\n",
      "Epoch 33:  94%|█████████▍| 240/255 [02:41<00:10,  1.48it/s, loss=0.19, v_num=2, train_loss=0.406, train_accuracy=0.944, val_loss=0.236, val_accuracy=0.891]\n",
      "Validating:  48%|████▊     | 14/29 [00:05<00:02,  5.36it/s]\u001b[A\n",
      "Epoch 33:  95%|█████████▍| 242/255 [02:42<00:08,  1.49it/s, loss=0.19, v_num=2, train_loss=0.406, train_accuracy=0.944, val_loss=0.236, val_accuracy=0.891]\n",
      "Validating:  55%|█████▌    | 16/29 [00:05<00:02,  5.47it/s]\u001b[A\n",
      "Epoch 33:  96%|█████████▌| 244/255 [02:42<00:07,  1.50it/s, loss=0.19, v_num=2, train_loss=0.406, train_accuracy=0.944, val_loss=0.236, val_accuracy=0.891]\n",
      "Validating:  62%|██████▏   | 18/29 [00:05<00:01,  5.57it/s]\u001b[A\n",
      "Epoch 33:  96%|█████████▋| 246/255 [02:42<00:05,  1.51it/s, loss=0.19, v_num=2, train_loss=0.406, train_accuracy=0.944, val_loss=0.236, val_accuracy=0.891]\n",
      "Validating:  69%|██████▉   | 20/29 [00:06<00:01,  5.66it/s]\u001b[A\n",
      "Epoch 33:  97%|█████████▋| 248/255 [02:43<00:04,  1.52it/s, loss=0.19, v_num=2, train_loss=0.406, train_accuracy=0.944, val_loss=0.236, val_accuracy=0.891]\n",
      "Validating:  76%|███████▌  | 22/29 [00:06<00:01,  5.63it/s]\u001b[A\n",
      "Epoch 33:  98%|█████████▊| 250/255 [02:43<00:03,  1.53it/s, loss=0.19, v_num=2, train_loss=0.406, train_accuracy=0.944, val_loss=0.236, val_accuracy=0.891]\n",
      "Validating:  83%|████████▎ | 24/29 [00:06<00:00,  5.68it/s]\u001b[A\n",
      "Epoch 33:  99%|█████████▉| 252/255 [02:43<00:01,  1.54it/s, loss=0.19, v_num=2, train_loss=0.406, train_accuracy=0.944, val_loss=0.236, val_accuracy=0.891]\n",
      "Validating:  90%|████████▉ | 26/29 [00:07<00:00,  5.64it/s]\u001b[A\n",
      "Epoch 33: 100%|█████████▉| 254/255 [02:44<00:00,  1.55it/s, loss=0.19, v_num=2, train_loss=0.406, train_accuracy=0.944, val_loss=0.236, val_accuracy=0.891]\n",
      "Validating:  97%|█████████▋| 28/29 [00:07<00:00,  5.59it/s]\u001b[A\n",
      "Epoch 33: 100%|██████████| 255/255 [02:44<00:00,  1.55it/s, loss=0.19, v_num=2, train_loss=0.406, train_accuracy=0.944, val_loss=0.231, val_accuracy=0.901]\n",
      "Epoch 33: 100%|██████████| 255/255 [02:44<00:00,  1.55it/s, loss=0.19, v_num=2, train_loss=0.406, train_accuracy=0.944, val_loss=0.231, val_accuracy=0.901]"
     ]
    },
    {
     "name": "stderr",
     "output_type": "stream",
     "text": [
      "Epoch 33, global step 7683: val_loss reached 0.23116 (best 0.23116), saving model to \"/Workspace/code/checkpoints/best-checkpoint-corr-mi-19-v5.ckpt\" as top 2\n"
     ]
    },
    {
     "name": "stdout",
     "output_type": "stream",
     "text": [
      "Epoch 34:  89%|████████▊ | 226/255 [02:40<00:20,  1.41it/s, loss=0.173, v_num=2, train_loss=0.150, train_accuracy=0.833, val_loss=0.231, val_accuracy=0.901] \n",
      "Validating: 0it [00:00, ?it/s]\u001b[A\n",
      "Validating:   0%|          | 0/29 [00:00<?, ?it/s]\u001b[A\n",
      "Epoch 34:  89%|████████▉ | 228/255 [02:43<00:19,  1.40it/s, loss=0.173, v_num=2, train_loss=0.150, train_accuracy=0.833, val_loss=0.231, val_accuracy=0.901]\n",
      "Validating:   7%|▋         | 2/29 [00:02<00:32,  1.21s/it]\u001b[A\n",
      "Epoch 34:  90%|█████████ | 230/255 [02:43<00:17,  1.40it/s, loss=0.173, v_num=2, train_loss=0.150, train_accuracy=0.833, val_loss=0.231, val_accuracy=0.901]\n",
      "Validating:  14%|█▍        | 4/29 [00:03<00:13,  1.90it/s]\u001b[A\n",
      "Epoch 34:  91%|█████████ | 232/255 [02:44<00:16,  1.41it/s, loss=0.173, v_num=2, train_loss=0.150, train_accuracy=0.833, val_loss=0.231, val_accuracy=0.901]\n",
      "Validating:  21%|██        | 6/29 [00:03<00:07,  3.08it/s]\u001b[A\n",
      "Epoch 34:  92%|█████████▏| 234/255 [02:44<00:14,  1.42it/s, loss=0.173, v_num=2, train_loss=0.150, train_accuracy=0.833, val_loss=0.231, val_accuracy=0.901]\n",
      "Validating:  28%|██▊       | 8/29 [00:03<00:05,  4.07it/s]\u001b[A\n",
      "Epoch 34:  93%|█████████▎| 236/255 [02:44<00:13,  1.43it/s, loss=0.173, v_num=2, train_loss=0.150, train_accuracy=0.833, val_loss=0.231, val_accuracy=0.901]\n",
      "Validating:  34%|███▍      | 10/29 [00:04<00:03,  4.77it/s]\u001b[A\n",
      "Epoch 34:  93%|█████████▎| 238/255 [02:45<00:11,  1.44it/s, loss=0.173, v_num=2, train_loss=0.150, train_accuracy=0.833, val_loss=0.231, val_accuracy=0.901]\n",
      "Validating:  41%|████▏     | 12/29 [00:04<00:03,  5.17it/s]\u001b[A\n",
      "Epoch 34:  94%|█████████▍| 240/255 [02:45<00:10,  1.45it/s, loss=0.173, v_num=2, train_loss=0.150, train_accuracy=0.833, val_loss=0.231, val_accuracy=0.901]\n",
      "Validating:  48%|████▊     | 14/29 [00:05<00:02,  5.34it/s]\u001b[A\n",
      "Epoch 34:  95%|█████████▍| 242/255 [02:45<00:08,  1.46it/s, loss=0.173, v_num=2, train_loss=0.150, train_accuracy=0.833, val_loss=0.231, val_accuracy=0.901]\n",
      "Validating:  55%|█████▌    | 16/29 [00:05<00:02,  5.50it/s]\u001b[A\n",
      "Epoch 34:  96%|█████████▌| 244/255 [02:46<00:07,  1.47it/s, loss=0.173, v_num=2, train_loss=0.150, train_accuracy=0.833, val_loss=0.231, val_accuracy=0.901]\n",
      "Validating:  62%|██████▏   | 18/29 [00:05<00:01,  5.61it/s]\u001b[A\n",
      "Epoch 34:  96%|█████████▋| 246/255 [02:46<00:06,  1.48it/s, loss=0.173, v_num=2, train_loss=0.150, train_accuracy=0.833, val_loss=0.231, val_accuracy=0.901]\n",
      "Validating:  69%|██████▉   | 20/29 [00:06<00:01,  5.52it/s]\u001b[A\n",
      "Epoch 34:  97%|█████████▋| 248/255 [02:46<00:04,  1.49it/s, loss=0.173, v_num=2, train_loss=0.150, train_accuracy=0.833, val_loss=0.231, val_accuracy=0.901]\n",
      "Validating:  76%|███████▌  | 22/29 [00:06<00:01,  5.57it/s]\u001b[A\n",
      "Epoch 34:  98%|█████████▊| 250/255 [02:47<00:03,  1.49it/s, loss=0.173, v_num=2, train_loss=0.150, train_accuracy=0.833, val_loss=0.231, val_accuracy=0.901]\n",
      "Validating:  83%|████████▎ | 24/29 [00:06<00:00,  5.64it/s]\u001b[A\n",
      "Epoch 34:  99%|█████████▉| 252/255 [02:47<00:01,  1.50it/s, loss=0.173, v_num=2, train_loss=0.150, train_accuracy=0.833, val_loss=0.231, val_accuracy=0.901]\n",
      "Validating:  90%|████████▉ | 26/29 [00:07<00:00,  5.58it/s]\u001b[A\n",
      "Epoch 34: 100%|█████████▉| 254/255 [02:48<00:00,  1.51it/s, loss=0.173, v_num=2, train_loss=0.150, train_accuracy=0.833, val_loss=0.231, val_accuracy=0.901]\n",
      "Validating:  97%|█████████▋| 28/29 [00:07<00:00,  5.58it/s]\u001b[A\n",
      "Epoch 34: 100%|██████████| 255/255 [02:48<00:00,  1.51it/s, loss=0.173, v_num=2, train_loss=0.150, train_accuracy=0.833, val_loss=0.206, val_accuracy=0.897]\n",
      "Epoch 34: 100%|██████████| 255/255 [02:48<00:00,  1.51it/s, loss=0.173, v_num=2, train_loss=0.150, train_accuracy=0.833, val_loss=0.206, val_accuracy=0.897]"
     ]
    },
    {
     "name": "stderr",
     "output_type": "stream",
     "text": [
      "Epoch 34, global step 7909: val_loss reached 0.20586 (best 0.20586), saving model to \"/Workspace/code/checkpoints/best-checkpoint-corr-mi-19-v4.ckpt\" as top 2\n"
     ]
    },
    {
     "name": "stdout",
     "output_type": "stream",
     "text": [
      "Epoch 35:  89%|████████▊ | 226/255 [02:10<00:16,  1.74it/s, loss=0.195, v_num=2, train_loss=0.307, train_accuracy=0.889, val_loss=0.206, val_accuracy=0.897] \n",
      "Validating: 0it [00:00, ?it/s]\u001b[A\n",
      "Validating:   0%|          | 0/29 [00:00<?, ?it/s]\u001b[A\n",
      "Epoch 35:  89%|████████▉ | 228/255 [02:12<00:15,  1.72it/s, loss=0.195, v_num=2, train_loss=0.307, train_accuracy=0.889, val_loss=0.206, val_accuracy=0.897]\n",
      "Epoch 35:  90%|█████████ | 230/255 [02:12<00:14,  1.73it/s, loss=0.195, v_num=2, train_loss=0.307, train_accuracy=0.889, val_loss=0.206, val_accuracy=0.897]\n",
      "Epoch 35:  91%|█████████ | 232/255 [02:12<00:13,  1.74it/s, loss=0.195, v_num=2, train_loss=0.307, train_accuracy=0.889, val_loss=0.206, val_accuracy=0.897]\n",
      "Epoch 35:  92%|█████████▏| 234/255 [02:13<00:11,  1.76it/s, loss=0.195, v_num=2, train_loss=0.307, train_accuracy=0.889, val_loss=0.206, val_accuracy=0.897]\n",
      "Epoch 35:  93%|█████████▎| 236/255 [02:13<00:10,  1.77it/s, loss=0.195, v_num=2, train_loss=0.307, train_accuracy=0.889, val_loss=0.206, val_accuracy=0.897]\n",
      "Epoch 35:  93%|█████████▎| 238/255 [02:13<00:09,  1.78it/s, loss=0.195, v_num=2, train_loss=0.307, train_accuracy=0.889, val_loss=0.206, val_accuracy=0.897]\n",
      "Epoch 35:  94%|█████████▍| 240/255 [02:13<00:08,  1.80it/s, loss=0.195, v_num=2, train_loss=0.307, train_accuracy=0.889, val_loss=0.206, val_accuracy=0.897]\n",
      "Epoch 35:  95%|█████████▍| 242/255 [02:13<00:07,  1.81it/s, loss=0.195, v_num=2, train_loss=0.307, train_accuracy=0.889, val_loss=0.206, val_accuracy=0.897]\n",
      "Epoch 35:  96%|█████████▌| 244/255 [02:13<00:06,  1.82it/s, loss=0.195, v_num=2, train_loss=0.307, train_accuracy=0.889, val_loss=0.206, val_accuracy=0.897]\n",
      "Epoch 35:  96%|█████████▋| 246/255 [02:13<00:04,  1.84it/s, loss=0.195, v_num=2, train_loss=0.307, train_accuracy=0.889, val_loss=0.206, val_accuracy=0.897]\n",
      "Epoch 35:  97%|█████████▋| 248/255 [02:14<00:03,  1.85it/s, loss=0.195, v_num=2, train_loss=0.307, train_accuracy=0.889, val_loss=0.206, val_accuracy=0.897]\n",
      "Epoch 35:  98%|█████████▊| 250/255 [02:14<00:02,  1.86it/s, loss=0.195, v_num=2, train_loss=0.307, train_accuracy=0.889, val_loss=0.206, val_accuracy=0.897]\n",
      "Epoch 35:  99%|█████████▉| 252/255 [02:14<00:01,  1.87it/s, loss=0.195, v_num=2, train_loss=0.307, train_accuracy=0.889, val_loss=0.206, val_accuracy=0.897]\n",
      "Epoch 35: 100%|█████████▉| 254/255 [02:14<00:00,  1.89it/s, loss=0.195, v_num=2, train_loss=0.307, train_accuracy=0.889, val_loss=0.206, val_accuracy=0.897]\n",
      "Epoch 35: 100%|██████████| 255/255 [02:15<00:00,  1.89it/s, loss=0.195, v_num=2, train_loss=0.307, train_accuracy=0.889, val_loss=0.217, val_accuracy=0.907]\n",
      "Epoch 35: 100%|██████████| 255/255 [02:15<00:00,  1.89it/s, loss=0.195, v_num=2, train_loss=0.307, train_accuracy=0.889, val_loss=0.217, val_accuracy=0.907]"
     ]
    },
    {
     "name": "stderr",
     "output_type": "stream",
     "text": [
      "Epoch 35, global step 8135: val_loss reached 0.21706 (best 0.20586), saving model to \"/Workspace/code/checkpoints/best-checkpoint-corr-mi-19-v5.ckpt\" as top 2\n"
     ]
    },
    {
     "name": "stdout",
     "output_type": "stream",
     "text": [
      "Epoch 36:  89%|████████▊ | 226/255 [02:02<00:15,  1.84it/s, loss=0.15, v_num=2, train_loss=0.0721, train_accuracy=1.000, val_loss=0.217, val_accuracy=0.907] \n",
      "Validating: 0it [00:00, ?it/s]\u001b[A\n",
      "Validating:   0%|          | 0/29 [00:00<?, ?it/s]\u001b[A\n",
      "Epoch 36:  89%|████████▉ | 228/255 [02:05<00:14,  1.82it/s, loss=0.15, v_num=2, train_loss=0.0721, train_accuracy=1.000, val_loss=0.217, val_accuracy=0.907]\n",
      "Validating:   7%|▋         | 2/29 [00:02<00:32,  1.20s/it]\u001b[A\n",
      "Epoch 36:  90%|█████████ | 230/255 [02:05<00:13,  1.83it/s, loss=0.15, v_num=2, train_loss=0.0721, train_accuracy=1.000, val_loss=0.217, val_accuracy=0.907]\n",
      "Validating:  14%|█▍        | 4/29 [00:03<00:12,  1.95it/s]\u001b[A\n",
      "Epoch 36:  91%|█████████ | 232/255 [02:06<00:12,  1.84it/s, loss=0.15, v_num=2, train_loss=0.0721, train_accuracy=1.000, val_loss=0.217, val_accuracy=0.907]\n",
      "Validating:  21%|██        | 6/29 [00:03<00:07,  3.13it/s]\u001b[A\n",
      "Epoch 36:  92%|█████████▏| 234/255 [02:06<00:11,  1.85it/s, loss=0.15, v_num=2, train_loss=0.0721, train_accuracy=1.000, val_loss=0.217, val_accuracy=0.907]\n",
      "Validating:  28%|██▊       | 8/29 [00:03<00:05,  4.13it/s]\u001b[A\n",
      "Epoch 36:  93%|█████████▎| 236/255 [02:06<00:10,  1.86it/s, loss=0.15, v_num=2, train_loss=0.0721, train_accuracy=1.000, val_loss=0.217, val_accuracy=0.907]\n",
      "Validating:  34%|███▍      | 10/29 [00:04<00:03,  4.84it/s]\u001b[A\n",
      "Epoch 36:  93%|█████████▎| 238/255 [02:07<00:09,  1.87it/s, loss=0.15, v_num=2, train_loss=0.0721, train_accuracy=1.000, val_loss=0.217, val_accuracy=0.907]\n",
      "Validating:  41%|████▏     | 12/29 [00:04<00:03,  5.17it/s]\u001b[A\n",
      "Epoch 36:  94%|█████████▍| 240/255 [02:07<00:07,  1.88it/s, loss=0.15, v_num=2, train_loss=0.0721, train_accuracy=1.000, val_loss=0.217, val_accuracy=0.907]\n",
      "Validating:  48%|████▊     | 14/29 [00:04<00:02,  5.50it/s]\u001b[A\n",
      "Epoch 36:  95%|█████████▍| 242/255 [02:07<00:06,  1.89it/s, loss=0.15, v_num=2, train_loss=0.0721, train_accuracy=1.000, val_loss=0.217, val_accuracy=0.907]\n",
      "Validating:  55%|█████▌    | 16/29 [00:05<00:02,  5.65it/s]\u001b[A\n",
      "Epoch 36:  96%|█████████▌| 244/255 [02:08<00:05,  1.90it/s, loss=0.15, v_num=2, train_loss=0.0721, train_accuracy=1.000, val_loss=0.217, val_accuracy=0.907]\n",
      "Validating:  62%|██████▏   | 18/29 [00:05<00:01,  5.71it/s]\u001b[A\n",
      "Epoch 36:  96%|█████████▋| 246/255 [02:08<00:04,  1.91it/s, loss=0.15, v_num=2, train_loss=0.0721, train_accuracy=1.000, val_loss=0.217, val_accuracy=0.907]\n",
      "Validating:  69%|██████▉   | 20/29 [00:06<00:01,  5.67it/s]\u001b[A\n",
      "Epoch 36:  97%|█████████▋| 248/255 [02:08<00:03,  1.92it/s, loss=0.15, v_num=2, train_loss=0.0721, train_accuracy=1.000, val_loss=0.217, val_accuracy=0.907]\n",
      "Validating:  76%|███████▌  | 22/29 [00:06<00:01,  5.78it/s]\u001b[A\n",
      "Epoch 36:  98%|█████████▊| 250/255 [02:09<00:02,  1.93it/s, loss=0.15, v_num=2, train_loss=0.0721, train_accuracy=1.000, val_loss=0.217, val_accuracy=0.907]\n",
      "Validating:  83%|████████▎ | 24/29 [00:06<00:00,  5.72it/s]\u001b[A\n",
      "Epoch 36:  99%|█████████▉| 252/255 [02:09<00:01,  1.95it/s, loss=0.15, v_num=2, train_loss=0.0721, train_accuracy=1.000, val_loss=0.217, val_accuracy=0.907]\n",
      "Validating:  90%|████████▉ | 26/29 [00:07<00:00,  5.75it/s]\u001b[A\n",
      "Epoch 36: 100%|█████████▉| 254/255 [02:09<00:00,  1.96it/s, loss=0.15, v_num=2, train_loss=0.0721, train_accuracy=1.000, val_loss=0.217, val_accuracy=0.907]\n",
      "Validating:  97%|█████████▋| 28/29 [00:07<00:00,  5.77it/s]\u001b[A\n",
      "Epoch 36: 100%|██████████| 255/255 [02:10<00:00,  1.95it/s, loss=0.15, v_num=2, train_loss=0.0721, train_accuracy=1.000, val_loss=0.227, val_accuracy=0.903]\n",
      "Epoch 36: 100%|██████████| 255/255 [02:10<00:00,  1.95it/s, loss=0.15, v_num=2, train_loss=0.0721, train_accuracy=1.000, val_loss=0.227, val_accuracy=0.903]"
     ]
    },
    {
     "name": "stderr",
     "output_type": "stream",
     "text": [
      "Epoch 36, global step 8361: val_loss was not in top 2\n"
     ]
    },
    {
     "name": "stdout",
     "output_type": "stream",
     "text": [
      "Epoch 37:   6%|▋         | 16/255 [00:13<03:17,  1.21it/s, loss=0.179, v_num=2, train_loss=0.281, train_accuracy=0.860, val_loss=0.227, val_accuracy=0.903] "
     ]
    }
   ],
   "source": [
    "n = 18\n",
    "FEATURE_COLUMNS = ORG_FEATURE_COLUMNS[n:]\n",
    "\n",
    "while(n < 20):\n",
    "    print(\"------------------ Round: \" + str(n) + \" ------------------\")\n",
    "    print(FEATURE_COLUMNS)\n",
    "    print(\"Len:\", len(FEATURE_COLUMNS))\n",
    "    \n",
    "    label_encoder = LabelEncoder()\n",
    "    encoded_labels = label_encoder.fit_transform(X_train.state)\n",
    "\n",
    "    label_encoder.classes_\n",
    "\n",
    "    X_train['label'] = encoded_labels\n",
    "\n",
    "    # Prepare data ###########################################\n",
    "    sequences = [] \n",
    "\n",
    "    for name, group in g:\n",
    "        sequence_features = group[FEATURE_COLUMNS]\n",
    "        label = group.label.iloc[0]\n",
    "\n",
    "        # print((sequence_features, label))\n",
    "        sequences.append((sequence_features, label))\n",
    "\n",
    "    # Setting up train, test, val gruop #######################\n",
    "    train_sequences, test_sequences = train_test_split(sequences, test_size=0.2)\n",
    "    val_sequences, test_sequences = train_test_split(test_sequences, test_size=0.5)\n",
    "\n",
    "\n",
    "    # Setting up data module ##################################\n",
    "    data_module = DrowsyDataModule(\n",
    "        train_sequences, val_sequences, test_sequences, BATCH_SIZE\n",
    "    )\n",
    "\n",
    "    model = DrowsyPredictor(\n",
    "        n_features=len(FEATURE_COLUMNS), \n",
    "        n_classes=len(label_encoder.classes_)\n",
    "    )\n",
    "\n",
    "    # Check points and logger #################################\n",
    "    checkpoint_callback = ModelCheckpoint(\n",
    "        dirpath=\"checkpoints\",\n",
    "        filename=\"best-checkpoint-corr-mi-\" + str(n),\n",
    "        save_top_k=2,\n",
    "        verbose=True,\n",
    "        monitor=\"val_loss\",\n",
    "        mode=\"min\"\n",
    "    )\n",
    "\n",
    "    logger = TensorBoardLogger(\"lightning_logs\", name=\"Drowsy_MI\" + str(n))\n",
    "\n",
    "    trainer = pl.Trainer(\n",
    "        logger=logger,\n",
    "        callbacks=[checkpoint_callback],\n",
    "        max_epochs=N_EPOCHS,\n",
    "        gpus=[0],\n",
    "#         gpus=1, \n",
    "#         auto_select_gpus=True,\n",
    "        auto_lr_find=True, \n",
    "        # check_val_every_n_epoch=10\n",
    "        # refresh_rate=20,\n",
    "    )\n",
    "    \n",
    "    # Training start\n",
    "    if (n == 18):\n",
    "        trainer.fit(model, data_module, ckpt_path=\"/Workspace/code/checkpoints/best-checkpoint-corr-mi-18-v6.ckpt\")\n",
    "    else:\n",
    "        trainer.fit(model, data_module)\n",
    "    trainer.test(model, data_module)\n",
    "    \n",
    "    FEATURE_COLUMNS.pop(0)\n",
    "    n = n + 1"
   ]
  },
  {
   "cell_type": "code",
   "execution_count": null,
   "id": "76acf7fd",
   "metadata": {},
   "outputs": [],
   "source": []
  },
  {
   "cell_type": "markdown",
   "id": "62e61f6f",
   "metadata": {},
   "source": [
    "## Load Checkpoint "
   ]
  },
  {
   "cell_type": "code",
   "execution_count": null,
   "id": "677d3cab",
   "metadata": {},
   "outputs": [],
   "source": [
    "# best-checkpoint-corr-3-v1.ckptn\n",
    "# trainer.fit(model, data_module, ckpt_path=\"/Workspace/code/checkpoints/best-checkpoint-corr-3-v1.ckpt\")"
   ]
  },
  {
   "cell_type": "code",
   "execution_count": null,
   "id": "e4d00609",
   "metadata": {},
   "outputs": [],
   "source": []
  },
  {
   "cell_type": "code",
   "execution_count": null,
   "id": "14cf4b17",
   "metadata": {},
   "outputs": [],
   "source": []
  },
  {
   "cell_type": "code",
   "execution_count": null,
   "id": "ea0f525d",
   "metadata": {},
   "outputs": [],
   "source": []
  },
  {
   "cell_type": "code",
   "execution_count": null,
   "id": "354c327e",
   "metadata": {},
   "outputs": [],
   "source": []
  },
  {
   "cell_type": "code",
   "execution_count": null,
   "id": "847c5f74",
   "metadata": {},
   "outputs": [],
   "source": []
  },
  {
   "cell_type": "code",
   "execution_count": null,
   "id": "398ffa26",
   "metadata": {},
   "outputs": [],
   "source": []
  },
  {
   "cell_type": "code",
   "execution_count": null,
   "id": "1e5a7a38",
   "metadata": {},
   "outputs": [],
   "source": []
  },
  {
   "cell_type": "code",
   "execution_count": null,
   "id": "b72c2794",
   "metadata": {},
   "outputs": [],
   "source": []
  },
  {
   "cell_type": "code",
   "execution_count": null,
   "id": "1e6adbbe",
   "metadata": {},
   "outputs": [],
   "source": []
  },
  {
   "cell_type": "code",
   "execution_count": null,
   "id": "8f5d8cf0",
   "metadata": {},
   "outputs": [],
   "source": []
  },
  {
   "cell_type": "code",
   "execution_count": null,
   "id": "bade2030",
   "metadata": {},
   "outputs": [],
   "source": []
  },
  {
   "cell_type": "code",
   "execution_count": null,
   "id": "80e73fe7",
   "metadata": {},
   "outputs": [],
   "source": []
  },
  {
   "cell_type": "code",
   "execution_count": null,
   "id": "e22a2da5",
   "metadata": {},
   "outputs": [],
   "source": []
  },
  {
   "cell_type": "code",
   "execution_count": null,
   "id": "df3a8d19",
   "metadata": {},
   "outputs": [],
   "source": []
  },
  {
   "cell_type": "code",
   "execution_count": null,
   "id": "11d2d458",
   "metadata": {},
   "outputs": [],
   "source": []
  },
  {
   "cell_type": "code",
   "execution_count": null,
   "id": "0682d865",
   "metadata": {},
   "outputs": [],
   "source": []
  },
  {
   "cell_type": "code",
   "execution_count": null,
   "id": "afc53290",
   "metadata": {},
   "outputs": [],
   "source": []
  },
  {
   "cell_type": "code",
   "execution_count": null,
   "id": "66ea78d0",
   "metadata": {},
   "outputs": [],
   "source": []
  },
  {
   "cell_type": "code",
   "execution_count": null,
   "id": "95cad8f1",
   "metadata": {},
   "outputs": [],
   "source": []
  },
  {
   "cell_type": "code",
   "execution_count": null,
   "id": "e43a3bd7",
   "metadata": {},
   "outputs": [],
   "source": []
  },
  {
   "cell_type": "code",
   "execution_count": null,
   "id": "08a5d673",
   "metadata": {},
   "outputs": [],
   "source": []
  },
  {
   "cell_type": "code",
   "execution_count": null,
   "id": "6511a9cb",
   "metadata": {},
   "outputs": [],
   "source": []
  },
  {
   "cell_type": "code",
   "execution_count": null,
   "id": "8d88c8e4",
   "metadata": {},
   "outputs": [],
   "source": []
  },
  {
   "cell_type": "code",
   "execution_count": null,
   "id": "894663dc",
   "metadata": {},
   "outputs": [],
   "source": []
  },
  {
   "cell_type": "code",
   "execution_count": null,
   "id": "9feb878a",
   "metadata": {},
   "outputs": [],
   "source": []
  },
  {
   "cell_type": "code",
   "execution_count": null,
   "id": "9f1c7069",
   "metadata": {},
   "outputs": [],
   "source": []
  },
  {
   "cell_type": "code",
   "execution_count": null,
   "id": "2491029d",
   "metadata": {},
   "outputs": [],
   "source": []
  },
  {
   "cell_type": "code",
   "execution_count": null,
   "id": "7077e4bb",
   "metadata": {},
   "outputs": [],
   "source": []
  },
  {
   "cell_type": "code",
   "execution_count": null,
   "id": "16fcf854",
   "metadata": {},
   "outputs": [],
   "source": []
  },
  {
   "cell_type": "code",
   "execution_count": null,
   "id": "29d8b65d",
   "metadata": {},
   "outputs": [],
   "source": []
  },
  {
   "cell_type": "code",
   "execution_count": null,
   "id": "7bc1ac11",
   "metadata": {},
   "outputs": [],
   "source": []
  },
  {
   "cell_type": "code",
   "execution_count": null,
   "id": "26b0fb2e",
   "metadata": {},
   "outputs": [],
   "source": []
  },
  {
   "cell_type": "code",
   "execution_count": null,
   "id": "7e7c3de4",
   "metadata": {},
   "outputs": [],
   "source": []
  },
  {
   "cell_type": "code",
   "execution_count": null,
   "id": "7ccd004d",
   "metadata": {},
   "outputs": [],
   "source": []
  },
  {
   "cell_type": "code",
   "execution_count": null,
   "id": "cfe60491",
   "metadata": {},
   "outputs": [],
   "source": []
  },
  {
   "cell_type": "code",
   "execution_count": null,
   "id": "b1b6f309",
   "metadata": {},
   "outputs": [],
   "source": []
  },
  {
   "cell_type": "code",
   "execution_count": null,
   "id": "9c5baffb",
   "metadata": {},
   "outputs": [],
   "source": []
  },
  {
   "cell_type": "code",
   "execution_count": null,
   "id": "28dc0a31",
   "metadata": {},
   "outputs": [],
   "source": []
  },
  {
   "cell_type": "code",
   "execution_count": null,
   "id": "d9871e44",
   "metadata": {},
   "outputs": [],
   "source": []
  },
  {
   "cell_type": "code",
   "execution_count": null,
   "id": "e6b9eb19",
   "metadata": {},
   "outputs": [],
   "source": []
  },
  {
   "cell_type": "code",
   "execution_count": null,
   "id": "53d44003",
   "metadata": {},
   "outputs": [],
   "source": []
  },
  {
   "cell_type": "code",
   "execution_count": null,
   "id": "6719a8c7",
   "metadata": {},
   "outputs": [],
   "source": []
  },
  {
   "cell_type": "code",
   "execution_count": null,
   "id": "b5ec8561",
   "metadata": {},
   "outputs": [],
   "source": []
  },
  {
   "cell_type": "code",
   "execution_count": null,
   "id": "b378dc01",
   "metadata": {},
   "outputs": [],
   "source": []
  },
  {
   "cell_type": "code",
   "execution_count": null,
   "id": "0d90a015",
   "metadata": {},
   "outputs": [],
   "source": []
  },
  {
   "cell_type": "code",
   "execution_count": null,
   "id": "15984669",
   "metadata": {},
   "outputs": [],
   "source": []
  },
  {
   "cell_type": "code",
   "execution_count": null,
   "id": "b45b2312",
   "metadata": {},
   "outputs": [],
   "source": []
  },
  {
   "cell_type": "code",
   "execution_count": null,
   "id": "f67a5768",
   "metadata": {},
   "outputs": [],
   "source": []
  },
  {
   "cell_type": "code",
   "execution_count": null,
   "id": "98475244",
   "metadata": {},
   "outputs": [],
   "source": []
  },
  {
   "cell_type": "code",
   "execution_count": null,
   "id": "25c5f77e",
   "metadata": {},
   "outputs": [],
   "source": []
  },
  {
   "cell_type": "code",
   "execution_count": null,
   "id": "63aa4aa5",
   "metadata": {},
   "outputs": [],
   "source": []
  },
  {
   "cell_type": "code",
   "execution_count": null,
   "id": "554505e5",
   "metadata": {},
   "outputs": [],
   "source": []
  },
  {
   "cell_type": "code",
   "execution_count": null,
   "id": "a8ddbef3",
   "metadata": {},
   "outputs": [],
   "source": []
  },
  {
   "cell_type": "code",
   "execution_count": null,
   "id": "beb46b61",
   "metadata": {},
   "outputs": [],
   "source": []
  },
  {
   "cell_type": "code",
   "execution_count": null,
   "id": "4c0f8a7c",
   "metadata": {},
   "outputs": [],
   "source": []
  },
  {
   "cell_type": "code",
   "execution_count": null,
   "id": "392c94a0",
   "metadata": {},
   "outputs": [],
   "source": []
  },
  {
   "cell_type": "code",
   "execution_count": null,
   "id": "e573a78a",
   "metadata": {},
   "outputs": [],
   "source": []
  },
  {
   "cell_type": "code",
   "execution_count": null,
   "id": "e039bccf",
   "metadata": {},
   "outputs": [],
   "source": []
  },
  {
   "cell_type": "code",
   "execution_count": null,
   "id": "a86baae8",
   "metadata": {},
   "outputs": [],
   "source": []
  },
  {
   "cell_type": "code",
   "execution_count": null,
   "id": "1f6a57b2",
   "metadata": {},
   "outputs": [],
   "source": []
  },
  {
   "cell_type": "code",
   "execution_count": null,
   "id": "e4b4cdb6",
   "metadata": {},
   "outputs": [],
   "source": []
  },
  {
   "cell_type": "code",
   "execution_count": null,
   "id": "e11a62f0",
   "metadata": {},
   "outputs": [],
   "source": []
  },
  {
   "cell_type": "code",
   "execution_count": null,
   "id": "70110ebe",
   "metadata": {},
   "outputs": [],
   "source": []
  },
  {
   "cell_type": "code",
   "execution_count": null,
   "id": "c62eac3e",
   "metadata": {},
   "outputs": [],
   "source": []
  },
  {
   "cell_type": "code",
   "execution_count": null,
   "id": "d01a97d2",
   "metadata": {},
   "outputs": [],
   "source": []
  },
  {
   "cell_type": "code",
   "execution_count": null,
   "id": "37fdb617",
   "metadata": {},
   "outputs": [],
   "source": []
  },
  {
   "cell_type": "code",
   "execution_count": null,
   "id": "43cfec87",
   "metadata": {},
   "outputs": [],
   "source": []
  },
  {
   "cell_type": "code",
   "execution_count": null,
   "id": "07e94f6e",
   "metadata": {},
   "outputs": [],
   "source": []
  },
  {
   "cell_type": "code",
   "execution_count": null,
   "id": "f89cf7e9",
   "metadata": {},
   "outputs": [],
   "source": []
  },
  {
   "cell_type": "code",
   "execution_count": null,
   "id": "7e1e5a22",
   "metadata": {},
   "outputs": [],
   "source": []
  },
  {
   "cell_type": "code",
   "execution_count": null,
   "id": "ce0397e8",
   "metadata": {},
   "outputs": [],
   "source": []
  },
  {
   "cell_type": "code",
   "execution_count": null,
   "id": "f2cd1e4c",
   "metadata": {},
   "outputs": [],
   "source": []
  },
  {
   "cell_type": "code",
   "execution_count": null,
   "id": "4fc9b4de",
   "metadata": {},
   "outputs": [],
   "source": []
  },
  {
   "cell_type": "code",
   "execution_count": null,
   "id": "ec2423d7",
   "metadata": {},
   "outputs": [],
   "source": []
  },
  {
   "cell_type": "code",
   "execution_count": null,
   "id": "ac691233",
   "metadata": {},
   "outputs": [],
   "source": []
  },
  {
   "cell_type": "code",
   "execution_count": null,
   "id": "b02bc7ec",
   "metadata": {},
   "outputs": [],
   "source": []
  },
  {
   "cell_type": "code",
   "execution_count": null,
   "id": "58296816",
   "metadata": {},
   "outputs": [],
   "source": []
  },
  {
   "cell_type": "code",
   "execution_count": null,
   "id": "99cf72cf",
   "metadata": {},
   "outputs": [],
   "source": []
  },
  {
   "cell_type": "code",
   "execution_count": null,
   "id": "1dea6871",
   "metadata": {},
   "outputs": [],
   "source": []
  },
  {
   "cell_type": "code",
   "execution_count": null,
   "id": "08775780",
   "metadata": {},
   "outputs": [],
   "source": []
  },
  {
   "cell_type": "code",
   "execution_count": null,
   "id": "01934293",
   "metadata": {},
   "outputs": [],
   "source": []
  },
  {
   "cell_type": "code",
   "execution_count": null,
   "id": "964b9918",
   "metadata": {},
   "outputs": [],
   "source": []
  },
  {
   "cell_type": "code",
   "execution_count": null,
   "id": "7ec8f0ca",
   "metadata": {},
   "outputs": [],
   "source": []
  },
  {
   "cell_type": "code",
   "execution_count": null,
   "id": "dae031d2",
   "metadata": {},
   "outputs": [],
   "source": []
  },
  {
   "cell_type": "code",
   "execution_count": null,
   "id": "83db5f7a",
   "metadata": {},
   "outputs": [],
   "source": []
  },
  {
   "cell_type": "code",
   "execution_count": null,
   "id": "3b43bd41",
   "metadata": {},
   "outputs": [],
   "source": []
  },
  {
   "cell_type": "code",
   "execution_count": null,
   "id": "1e036a0c",
   "metadata": {},
   "outputs": [],
   "source": []
  },
  {
   "cell_type": "code",
   "execution_count": null,
   "id": "a182d726",
   "metadata": {},
   "outputs": [],
   "source": []
  },
  {
   "cell_type": "code",
   "execution_count": null,
   "id": "b9c2c131",
   "metadata": {},
   "outputs": [],
   "source": []
  },
  {
   "cell_type": "code",
   "execution_count": null,
   "id": "33d4da6e",
   "metadata": {},
   "outputs": [],
   "source": []
  },
  {
   "cell_type": "code",
   "execution_count": null,
   "id": "fdc6e90e",
   "metadata": {},
   "outputs": [],
   "source": []
  },
  {
   "cell_type": "code",
   "execution_count": null,
   "id": "d64cd26b",
   "metadata": {},
   "outputs": [],
   "source": []
  },
  {
   "cell_type": "code",
   "execution_count": null,
   "id": "22bce505",
   "metadata": {},
   "outputs": [],
   "source": []
  },
  {
   "cell_type": "code",
   "execution_count": null,
   "id": "4bf9de32",
   "metadata": {},
   "outputs": [],
   "source": []
  },
  {
   "cell_type": "code",
   "execution_count": null,
   "id": "78f74a95",
   "metadata": {},
   "outputs": [],
   "source": []
  },
  {
   "cell_type": "code",
   "execution_count": null,
   "id": "7583ec36",
   "metadata": {},
   "outputs": [],
   "source": []
  },
  {
   "cell_type": "code",
   "execution_count": null,
   "id": "4f3b0158",
   "metadata": {},
   "outputs": [],
   "source": []
  },
  {
   "cell_type": "code",
   "execution_count": null,
   "id": "3d3f9201",
   "metadata": {},
   "outputs": [],
   "source": []
  },
  {
   "cell_type": "code",
   "execution_count": null,
   "id": "7bb6bc83",
   "metadata": {},
   "outputs": [],
   "source": []
  },
  {
   "cell_type": "code",
   "execution_count": null,
   "id": "b86c2743",
   "metadata": {},
   "outputs": [],
   "source": []
  },
  {
   "cell_type": "code",
   "execution_count": null,
   "id": "61f0bfac",
   "metadata": {},
   "outputs": [],
   "source": []
  },
  {
   "cell_type": "code",
   "execution_count": null,
   "id": "c372d4f0",
   "metadata": {},
   "outputs": [],
   "source": []
  },
  {
   "cell_type": "code",
   "execution_count": null,
   "id": "020e0213",
   "metadata": {},
   "outputs": [],
   "source": []
  },
  {
   "cell_type": "code",
   "execution_count": null,
   "id": "ccbf96bc",
   "metadata": {},
   "outputs": [],
   "source": []
  },
  {
   "cell_type": "code",
   "execution_count": null,
   "id": "4c6f247b",
   "metadata": {},
   "outputs": [],
   "source": []
  },
  {
   "cell_type": "code",
   "execution_count": null,
   "id": "f08c1e3a",
   "metadata": {},
   "outputs": [],
   "source": []
  },
  {
   "cell_type": "code",
   "execution_count": null,
   "id": "c3d01197",
   "metadata": {},
   "outputs": [],
   "source": []
  },
  {
   "cell_type": "code",
   "execution_count": null,
   "id": "3f67ae7b",
   "metadata": {},
   "outputs": [],
   "source": []
  },
  {
   "cell_type": "code",
   "execution_count": null,
   "id": "222e47d6",
   "metadata": {},
   "outputs": [],
   "source": []
  },
  {
   "cell_type": "code",
   "execution_count": null,
   "id": "384557d0",
   "metadata": {},
   "outputs": [],
   "source": []
  },
  {
   "cell_type": "code",
   "execution_count": null,
   "id": "69b1e0a1",
   "metadata": {},
   "outputs": [],
   "source": []
  },
  {
   "cell_type": "code",
   "execution_count": null,
   "id": "a58b46ce",
   "metadata": {},
   "outputs": [],
   "source": []
  },
  {
   "cell_type": "code",
   "execution_count": null,
   "id": "0fa532e6",
   "metadata": {},
   "outputs": [],
   "source": []
  },
  {
   "cell_type": "code",
   "execution_count": null,
   "id": "15f33530",
   "metadata": {},
   "outputs": [],
   "source": []
  },
  {
   "cell_type": "code",
   "execution_count": null,
   "id": "7f8bdfdb",
   "metadata": {},
   "outputs": [],
   "source": []
  },
  {
   "cell_type": "code",
   "execution_count": null,
   "id": "82fc31a8",
   "metadata": {},
   "outputs": [],
   "source": []
  },
  {
   "cell_type": "code",
   "execution_count": null,
   "id": "fa9f71f4",
   "metadata": {},
   "outputs": [],
   "source": []
  },
  {
   "cell_type": "code",
   "execution_count": null,
   "id": "5c547a7a",
   "metadata": {},
   "outputs": [],
   "source": []
  },
  {
   "cell_type": "code",
   "execution_count": null,
   "id": "5005af6e",
   "metadata": {},
   "outputs": [],
   "source": []
  },
  {
   "cell_type": "code",
   "execution_count": null,
   "id": "4f82c941",
   "metadata": {},
   "outputs": [],
   "source": []
  }
 ],
 "metadata": {
  "kernelspec": {
   "display_name": "Python 3",
   "language": "python",
   "name": "python3"
  },
  "language_info": {
   "codemirror_mode": {
    "name": "ipython",
    "version": 3
   },
   "file_extension": ".py",
   "mimetype": "text/x-python",
   "name": "python",
   "nbconvert_exporter": "python",
   "pygments_lexer": "ipython3",
   "version": "3.6.9"
  }
 },
 "nbformat": 4,
 "nbformat_minor": 5
}
