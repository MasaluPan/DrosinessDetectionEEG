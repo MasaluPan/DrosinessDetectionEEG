{
 "cells": [
  {
   "cell_type": "code",
   "execution_count": 1,
   "id": "e0a87cd7",
   "metadata": {
    "scrolled": true
   },
   "outputs": [
    {
     "name": "stdout",
     "output_type": "stream",
     "text": [
      "cuda\n"
     ]
    }
   ],
   "source": [
    "import os\n",
    "import pandas as pd\n",
    "import numpy as np\n",
    "import dataframe as df\n",
    "from sklearn.preprocessing import LabelEncoder\n",
    "from sklearn.model_selection import train_test_split\n",
    "from sklearn.metrics import classification_report, confusion_matrix\n",
    "import matplotlib.pyplot as plt\n",
    "\n",
    "import torch\n",
    "from torch import nn, optim\n",
    "from torch.nn import functional as F\n",
    "from torch.utils.data import Dataset, DataLoader\n",
    "\n",
    "import torchmetrics\n",
    "from torchmetrics.functional import accuracy\n",
    "\n",
    "import pytorch_lightning as pl\n",
    "from pytorch_lightning.loggers import TensorBoardLogger\n",
    "from pytorch_lightning.callbacks import ModelCheckpoint\n",
    "\n",
    "device = torch.device(\"cuda\" if torch.cuda.is_available() else \"cpu\")\n",
    "print(device)"
   ]
  },
  {
   "cell_type": "code",
   "execution_count": 2,
   "id": "c2cb93b4",
   "metadata": {},
   "outputs": [],
   "source": [
    "X_train = pd.read_csv('../data2.csv')"
   ]
  },
  {
   "cell_type": "code",
   "execution_count": 3,
   "id": "ce4109e7",
   "metadata": {},
   "outputs": [
    {
     "data": {
      "text/html": [
       "<div>\n",
       "<style scoped>\n",
       "    .dataframe tbody tr th:only-of-type {\n",
       "        vertical-align: middle;\n",
       "    }\n",
       "\n",
       "    .dataframe tbody tr th {\n",
       "        vertical-align: top;\n",
       "    }\n",
       "\n",
       "    .dataframe thead th {\n",
       "        text-align: right;\n",
       "    }\n",
       "</style>\n",
       "<table border=\"1\" class=\"dataframe\">\n",
       "  <thead>\n",
       "    <tr style=\"text-align: right;\">\n",
       "      <th></th>\n",
       "      <th>time</th>\n",
       "      <th>id</th>\n",
       "      <th>group</th>\n",
       "      <th>state</th>\n",
       "      <th>HEOL</th>\n",
       "      <th>HEOR</th>\n",
       "      <th>FP1</th>\n",
       "      <th>FP2</th>\n",
       "      <th>VEOU</th>\n",
       "      <th>VEOL</th>\n",
       "      <th>...</th>\n",
       "      <th>P4</th>\n",
       "      <th>T6</th>\n",
       "      <th>A2</th>\n",
       "      <th>O1</th>\n",
       "      <th>OZ</th>\n",
       "      <th>O2</th>\n",
       "      <th>FT9</th>\n",
       "      <th>FT10</th>\n",
       "      <th>PO1</th>\n",
       "      <th>PO2</th>\n",
       "    </tr>\n",
       "  </thead>\n",
       "  <tbody>\n",
       "    <tr>\n",
       "      <th>0</th>\n",
       "      <td>0</td>\n",
       "      <td>0</td>\n",
       "      <td>0</td>\n",
       "      <td>Fatigue</td>\n",
       "      <td>1.215492e-13</td>\n",
       "      <td>-4.869703e-17</td>\n",
       "      <td>-6.140989e-14</td>\n",
       "      <td>2.598510e-17</td>\n",
       "      <td>-1.160435e-13</td>\n",
       "      <td>-3.167843e-17</td>\n",
       "      <td>...</td>\n",
       "      <td>1.651714e-13</td>\n",
       "      <td>-3.307430e-17</td>\n",
       "      <td>3.455894e-13</td>\n",
       "      <td>-6.391263e-17</td>\n",
       "      <td>8.724439e-14</td>\n",
       "      <td>-3.155565e-17</td>\n",
       "      <td>-7.326835e-14</td>\n",
       "      <td>-3.155565e-17</td>\n",
       "      <td>4.404571e-14</td>\n",
       "      <td>-2.665396e-17</td>\n",
       "    </tr>\n",
       "    <tr>\n",
       "      <th>1</th>\n",
       "      <td>1</td>\n",
       "      <td>1</td>\n",
       "      <td>0</td>\n",
       "      <td>Fatigue</td>\n",
       "      <td>-7.831237e+01</td>\n",
       "      <td>-1.362717e-02</td>\n",
       "      <td>-5.690807e+01</td>\n",
       "      <td>-4.192949e-02</td>\n",
       "      <td>3.212726e+02</td>\n",
       "      <td>-1.397650e-02</td>\n",
       "      <td>...</td>\n",
       "      <td>-2.646920e+02</td>\n",
       "      <td>-6.988248e-03</td>\n",
       "      <td>-2.281396e+02</td>\n",
       "      <td>4.192949e-02</td>\n",
       "      <td>-5.818660e+01</td>\n",
       "      <td>3.494124e-02</td>\n",
       "      <td>1.040445e+02</td>\n",
       "      <td>3.494124e-02</td>\n",
       "      <td>-3.291532e+01</td>\n",
       "      <td>2.795299e-02</td>\n",
       "    </tr>\n",
       "    <tr>\n",
       "      <th>2</th>\n",
       "      <td>2</td>\n",
       "      <td>2</td>\n",
       "      <td>0</td>\n",
       "      <td>Fatigue</td>\n",
       "      <td>-1.533161e+02</td>\n",
       "      <td>-2.671759e-02</td>\n",
       "      <td>-1.114424e+02</td>\n",
       "      <td>-8.209756e-02</td>\n",
       "      <td>6.290321e+02</td>\n",
       "      <td>-2.736585e-02</td>\n",
       "      <td>...</td>\n",
       "      <td>-5.183021e+02</td>\n",
       "      <td>-1.368293e-02</td>\n",
       "      <td>-4.459774e+02</td>\n",
       "      <td>8.209756e-02</td>\n",
       "      <td>-1.138533e+02</td>\n",
       "      <td>6.841464e-02</td>\n",
       "      <td>2.037677e+02</td>\n",
       "      <td>6.841464e-02</td>\n",
       "      <td>-6.439023e+01</td>\n",
       "      <td>5.473171e-02</td>\n",
       "    </tr>\n",
       "    <tr>\n",
       "      <th>3</th>\n",
       "      <td>3</td>\n",
       "      <td>3</td>\n",
       "      <td>0</td>\n",
       "      <td>Fatigue</td>\n",
       "      <td>-2.219502e+02</td>\n",
       "      <td>-3.877185e-02</td>\n",
       "      <td>-1.614074e+02</td>\n",
       "      <td>-1.188756e-01</td>\n",
       "      <td>9.107824e+02</td>\n",
       "      <td>-3.962519e-02</td>\n",
       "      <td>...</td>\n",
       "      <td>-7.505852e+02</td>\n",
       "      <td>-1.981260e-02</td>\n",
       "      <td>-6.440388e+02</td>\n",
       "      <td>1.188756e-01</td>\n",
       "      <td>-1.646722e+02</td>\n",
       "      <td>9.906298e-02</td>\n",
       "      <td>2.951723e+02</td>\n",
       "      <td>9.906298e-02</td>\n",
       "      <td>-9.309419e+01</td>\n",
       "      <td>7.925038e-02</td>\n",
       "    </tr>\n",
       "    <tr>\n",
       "      <th>4</th>\n",
       "      <td>4</td>\n",
       "      <td>4</td>\n",
       "      <td>0</td>\n",
       "      <td>Fatigue</td>\n",
       "      <td>-2.816333e+02</td>\n",
       "      <td>-4.936209e-02</td>\n",
       "      <td>-2.049461e+02</td>\n",
       "      <td>-1.508884e-01</td>\n",
       "      <td>1.155975e+03</td>\n",
       "      <td>-5.029612e-02</td>\n",
       "      <td>...</td>\n",
       "      <td>-9.528851e+02</td>\n",
       "      <td>-2.514806e-02</td>\n",
       "      <td>-8.144362e+02</td>\n",
       "      <td>1.508884e-01</td>\n",
       "      <td>-2.086840e+02</td>\n",
       "      <td>1.257403e-01</td>\n",
       "      <td>3.748789e+02</td>\n",
       "      <td>1.257403e-01</td>\n",
       "      <td>-1.179092e+02</td>\n",
       "      <td>1.005922e-01</td>\n",
       "    </tr>\n",
       "  </tbody>\n",
       "</table>\n",
       "<p>5 rows × 44 columns</p>\n",
       "</div>"
      ],
      "text/plain": [
       "   time  id  group    state          HEOL          HEOR           FP1  \\\n",
       "0     0   0      0  Fatigue  1.215492e-13 -4.869703e-17 -6.140989e-14   \n",
       "1     1   1      0  Fatigue -7.831237e+01 -1.362717e-02 -5.690807e+01   \n",
       "2     2   2      0  Fatigue -1.533161e+02 -2.671759e-02 -1.114424e+02   \n",
       "3     3   3      0  Fatigue -2.219502e+02 -3.877185e-02 -1.614074e+02   \n",
       "4     4   4      0  Fatigue -2.816333e+02 -4.936209e-02 -2.049461e+02   \n",
       "\n",
       "            FP2          VEOU          VEOL  ...            P4            T6  \\\n",
       "0  2.598510e-17 -1.160435e-13 -3.167843e-17  ...  1.651714e-13 -3.307430e-17   \n",
       "1 -4.192949e-02  3.212726e+02 -1.397650e-02  ... -2.646920e+02 -6.988248e-03   \n",
       "2 -8.209756e-02  6.290321e+02 -2.736585e-02  ... -5.183021e+02 -1.368293e-02   \n",
       "3 -1.188756e-01  9.107824e+02 -3.962519e-02  ... -7.505852e+02 -1.981260e-02   \n",
       "4 -1.508884e-01  1.155975e+03 -5.029612e-02  ... -9.528851e+02 -2.514806e-02   \n",
       "\n",
       "             A2            O1            OZ            O2           FT9  \\\n",
       "0  3.455894e-13 -6.391263e-17  8.724439e-14 -3.155565e-17 -7.326835e-14   \n",
       "1 -2.281396e+02  4.192949e-02 -5.818660e+01  3.494124e-02  1.040445e+02   \n",
       "2 -4.459774e+02  8.209756e-02 -1.138533e+02  6.841464e-02  2.037677e+02   \n",
       "3 -6.440388e+02  1.188756e-01 -1.646722e+02  9.906298e-02  2.951723e+02   \n",
       "4 -8.144362e+02  1.508884e-01 -2.086840e+02  1.257403e-01  3.748789e+02   \n",
       "\n",
       "           FT10           PO1           PO2  \n",
       "0 -3.155565e-17  4.404571e-14 -2.665396e-17  \n",
       "1  3.494124e-02 -3.291532e+01  2.795299e-02  \n",
       "2  6.841464e-02 -6.439023e+01  5.473171e-02  \n",
       "3  9.906298e-02 -9.309419e+01  7.925038e-02  \n",
       "4  1.257403e-01 -1.179092e+02  1.005922e-01  \n",
       "\n",
       "[5 rows x 44 columns]"
      ]
     },
     "execution_count": 3,
     "metadata": {},
     "output_type": "execute_result"
    }
   ],
   "source": [
    "X_train.head()"
   ]
  },
  {
   "cell_type": "code",
   "execution_count": 4,
   "id": "fad46a00",
   "metadata": {},
   "outputs": [
    {
     "data": {
      "text/plain": [
       "array(['Fatigue', 'Normal'], dtype=object)"
      ]
     },
     "execution_count": 4,
     "metadata": {},
     "output_type": "execute_result"
    }
   ],
   "source": [
    "label_encoder = LabelEncoder()\n",
    "encoded_labels = label_encoder.fit_transform(X_train.state)\n",
    "\n",
    "label_encoder.classes_"
   ]
  },
  {
   "cell_type": "code",
   "execution_count": 5,
   "id": "89b89a17",
   "metadata": {},
   "outputs": [
    {
     "data": {
      "text/html": [
       "<div>\n",
       "<style scoped>\n",
       "    .dataframe tbody tr th:only-of-type {\n",
       "        vertical-align: middle;\n",
       "    }\n",
       "\n",
       "    .dataframe tbody tr th {\n",
       "        vertical-align: top;\n",
       "    }\n",
       "\n",
       "    .dataframe thead th {\n",
       "        text-align: right;\n",
       "    }\n",
       "</style>\n",
       "<table border=\"1\" class=\"dataframe\">\n",
       "  <thead>\n",
       "    <tr style=\"text-align: right;\">\n",
       "      <th></th>\n",
       "      <th>time</th>\n",
       "      <th>id</th>\n",
       "      <th>group</th>\n",
       "      <th>state</th>\n",
       "      <th>HEOL</th>\n",
       "      <th>HEOR</th>\n",
       "      <th>FP1</th>\n",
       "      <th>FP2</th>\n",
       "      <th>VEOU</th>\n",
       "      <th>VEOL</th>\n",
       "      <th>...</th>\n",
       "      <th>T6</th>\n",
       "      <th>A2</th>\n",
       "      <th>O1</th>\n",
       "      <th>OZ</th>\n",
       "      <th>O2</th>\n",
       "      <th>FT9</th>\n",
       "      <th>FT10</th>\n",
       "      <th>PO1</th>\n",
       "      <th>PO2</th>\n",
       "      <th>label</th>\n",
       "    </tr>\n",
       "  </thead>\n",
       "  <tbody>\n",
       "    <tr>\n",
       "      <th>0</th>\n",
       "      <td>0</td>\n",
       "      <td>0</td>\n",
       "      <td>0</td>\n",
       "      <td>Fatigue</td>\n",
       "      <td>1.215492e-13</td>\n",
       "      <td>-4.869703e-17</td>\n",
       "      <td>-6.140989e-14</td>\n",
       "      <td>2.598510e-17</td>\n",
       "      <td>-1.160435e-13</td>\n",
       "      <td>-3.167843e-17</td>\n",
       "      <td>...</td>\n",
       "      <td>-3.307430e-17</td>\n",
       "      <td>3.455894e-13</td>\n",
       "      <td>-6.391263e-17</td>\n",
       "      <td>8.724439e-14</td>\n",
       "      <td>-3.155565e-17</td>\n",
       "      <td>-7.326835e-14</td>\n",
       "      <td>-3.155565e-17</td>\n",
       "      <td>4.404571e-14</td>\n",
       "      <td>-2.665396e-17</td>\n",
       "      <td>0</td>\n",
       "    </tr>\n",
       "    <tr>\n",
       "      <th>1</th>\n",
       "      <td>1</td>\n",
       "      <td>1</td>\n",
       "      <td>0</td>\n",
       "      <td>Fatigue</td>\n",
       "      <td>-7.831237e+01</td>\n",
       "      <td>-1.362717e-02</td>\n",
       "      <td>-5.690807e+01</td>\n",
       "      <td>-4.192949e-02</td>\n",
       "      <td>3.212726e+02</td>\n",
       "      <td>-1.397650e-02</td>\n",
       "      <td>...</td>\n",
       "      <td>-6.988248e-03</td>\n",
       "      <td>-2.281396e+02</td>\n",
       "      <td>4.192949e-02</td>\n",
       "      <td>-5.818660e+01</td>\n",
       "      <td>3.494124e-02</td>\n",
       "      <td>1.040445e+02</td>\n",
       "      <td>3.494124e-02</td>\n",
       "      <td>-3.291532e+01</td>\n",
       "      <td>2.795299e-02</td>\n",
       "      <td>0</td>\n",
       "    </tr>\n",
       "    <tr>\n",
       "      <th>2</th>\n",
       "      <td>2</td>\n",
       "      <td>2</td>\n",
       "      <td>0</td>\n",
       "      <td>Fatigue</td>\n",
       "      <td>-1.533161e+02</td>\n",
       "      <td>-2.671759e-02</td>\n",
       "      <td>-1.114424e+02</td>\n",
       "      <td>-8.209756e-02</td>\n",
       "      <td>6.290321e+02</td>\n",
       "      <td>-2.736585e-02</td>\n",
       "      <td>...</td>\n",
       "      <td>-1.368293e-02</td>\n",
       "      <td>-4.459774e+02</td>\n",
       "      <td>8.209756e-02</td>\n",
       "      <td>-1.138533e+02</td>\n",
       "      <td>6.841464e-02</td>\n",
       "      <td>2.037677e+02</td>\n",
       "      <td>6.841464e-02</td>\n",
       "      <td>-6.439023e+01</td>\n",
       "      <td>5.473171e-02</td>\n",
       "      <td>0</td>\n",
       "    </tr>\n",
       "    <tr>\n",
       "      <th>3</th>\n",
       "      <td>3</td>\n",
       "      <td>3</td>\n",
       "      <td>0</td>\n",
       "      <td>Fatigue</td>\n",
       "      <td>-2.219502e+02</td>\n",
       "      <td>-3.877185e-02</td>\n",
       "      <td>-1.614074e+02</td>\n",
       "      <td>-1.188756e-01</td>\n",
       "      <td>9.107824e+02</td>\n",
       "      <td>-3.962519e-02</td>\n",
       "      <td>...</td>\n",
       "      <td>-1.981260e-02</td>\n",
       "      <td>-6.440388e+02</td>\n",
       "      <td>1.188756e-01</td>\n",
       "      <td>-1.646722e+02</td>\n",
       "      <td>9.906298e-02</td>\n",
       "      <td>2.951723e+02</td>\n",
       "      <td>9.906298e-02</td>\n",
       "      <td>-9.309419e+01</td>\n",
       "      <td>7.925038e-02</td>\n",
       "      <td>0</td>\n",
       "    </tr>\n",
       "    <tr>\n",
       "      <th>4</th>\n",
       "      <td>4</td>\n",
       "      <td>4</td>\n",
       "      <td>0</td>\n",
       "      <td>Fatigue</td>\n",
       "      <td>-2.816333e+02</td>\n",
       "      <td>-4.936209e-02</td>\n",
       "      <td>-2.049461e+02</td>\n",
       "      <td>-1.508884e-01</td>\n",
       "      <td>1.155975e+03</td>\n",
       "      <td>-5.029612e-02</td>\n",
       "      <td>...</td>\n",
       "      <td>-2.514806e-02</td>\n",
       "      <td>-8.144362e+02</td>\n",
       "      <td>1.508884e-01</td>\n",
       "      <td>-2.086840e+02</td>\n",
       "      <td>1.257403e-01</td>\n",
       "      <td>3.748789e+02</td>\n",
       "      <td>1.257403e-01</td>\n",
       "      <td>-1.179092e+02</td>\n",
       "      <td>1.005922e-01</td>\n",
       "      <td>0</td>\n",
       "    </tr>\n",
       "  </tbody>\n",
       "</table>\n",
       "<p>5 rows × 45 columns</p>\n",
       "</div>"
      ],
      "text/plain": [
       "   time  id  group    state          HEOL          HEOR           FP1  \\\n",
       "0     0   0      0  Fatigue  1.215492e-13 -4.869703e-17 -6.140989e-14   \n",
       "1     1   1      0  Fatigue -7.831237e+01 -1.362717e-02 -5.690807e+01   \n",
       "2     2   2      0  Fatigue -1.533161e+02 -2.671759e-02 -1.114424e+02   \n",
       "3     3   3      0  Fatigue -2.219502e+02 -3.877185e-02 -1.614074e+02   \n",
       "4     4   4      0  Fatigue -2.816333e+02 -4.936209e-02 -2.049461e+02   \n",
       "\n",
       "            FP2          VEOU          VEOL  ...            T6            A2  \\\n",
       "0  2.598510e-17 -1.160435e-13 -3.167843e-17  ... -3.307430e-17  3.455894e-13   \n",
       "1 -4.192949e-02  3.212726e+02 -1.397650e-02  ... -6.988248e-03 -2.281396e+02   \n",
       "2 -8.209756e-02  6.290321e+02 -2.736585e-02  ... -1.368293e-02 -4.459774e+02   \n",
       "3 -1.188756e-01  9.107824e+02 -3.962519e-02  ... -1.981260e-02 -6.440388e+02   \n",
       "4 -1.508884e-01  1.155975e+03 -5.029612e-02  ... -2.514806e-02 -8.144362e+02   \n",
       "\n",
       "             O1            OZ            O2           FT9          FT10  \\\n",
       "0 -6.391263e-17  8.724439e-14 -3.155565e-17 -7.326835e-14 -3.155565e-17   \n",
       "1  4.192949e-02 -5.818660e+01  3.494124e-02  1.040445e+02  3.494124e-02   \n",
       "2  8.209756e-02 -1.138533e+02  6.841464e-02  2.037677e+02  6.841464e-02   \n",
       "3  1.188756e-01 -1.646722e+02  9.906298e-02  2.951723e+02  9.906298e-02   \n",
       "4  1.508884e-01 -2.086840e+02  1.257403e-01  3.748789e+02  1.257403e-01   \n",
       "\n",
       "            PO1           PO2  label  \n",
       "0  4.404571e-14 -2.665396e-17      0  \n",
       "1 -3.291532e+01  2.795299e-02      0  \n",
       "2 -6.439023e+01  5.473171e-02      0  \n",
       "3 -9.309419e+01  7.925038e-02      0  \n",
       "4 -1.179092e+02  1.005922e-01      0  \n",
       "\n",
       "[5 rows x 45 columns]"
      ]
     },
     "execution_count": 5,
     "metadata": {},
     "output_type": "execute_result"
    }
   ],
   "source": [
    "X_train['label'] = encoded_labels\n",
    "X_train.head()"
   ]
  },
  {
   "cell_type": "code",
   "execution_count": 6,
   "id": "b23af97c",
   "metadata": {},
   "outputs": [],
   "source": [
    "FEATURE_COLUMNS = X_train.columns.tolist()[4:-2]"
   ]
  },
  {
   "cell_type": "code",
   "execution_count": 7,
   "id": "5c942ac5",
   "metadata": {},
   "outputs": [],
   "source": [
    "g = X_train.groupby(\"group\")"
   ]
  },
  {
   "cell_type": "code",
   "execution_count": 8,
   "id": "67cdb8f4",
   "metadata": {
    "scrolled": true
   },
   "outputs": [],
   "source": [
    "sequences = [] \n",
    "\n",
    "for name, group in g:\n",
    "    sequence_features = group[FEATURE_COLUMNS]\n",
    "    label = group.label.iloc[0]\n",
    "    \n",
    "#     print((sequence_features, label))\n",
    "    sequences.append((sequence_features, label))"
   ]
  },
  {
   "cell_type": "code",
   "execution_count": 9,
   "id": "746633bb",
   "metadata": {
    "scrolled": true
   },
   "outputs": [
    {
     "data": {
      "text/plain": [
       "(              HEOL          HEOR           FP1           FP2          VEOU  \\\n",
       " 0     1.215492e-13 -4.869703e-17 -6.140989e-14  2.598510e-17 -1.160435e-13   \n",
       " 1    -7.831237e+01 -1.362717e-02 -5.690807e+01 -4.192949e-02  3.212726e+02   \n",
       " 2    -1.533161e+02 -2.671759e-02 -1.114424e+02 -8.209756e-02  6.290321e+02   \n",
       " 3    -2.219502e+02 -3.877185e-02 -1.614074e+02 -1.188756e-01  9.107824e+02   \n",
       " 4    -2.816333e+02 -4.936209e-02 -2.049461e+02 -1.508884e-01  1.155975e+03   \n",
       " ...            ...           ...           ...           ...           ...   \n",
       " 1019  9.189533e+00  2.849707e-03  1.783298e+01  6.329993e-03 -4.930598e+01   \n",
       " 1020  7.436606e+00  2.869100e-03  1.661349e+01  6.348566e-03 -5.123579e+01   \n",
       " 1021  5.528420e+00  2.921818e-03  1.508811e+01  6.324462e-03 -5.286875e+01   \n",
       " 1022  3.726376e+00  3.024905e-03  1.349644e+01  6.342777e-03 -5.465339e+01   \n",
       " 1023  1.962049e+00  3.137497e-03  1.184765e+01  6.318416e-03 -5.574251e+01   \n",
       " \n",
       "               VEOL            F7            F3            FZ            F4  \\\n",
       " 0    -3.167843e-17  1.355253e-13 -2.035640e-17  3.379661e-13 -4.681325e-17   \n",
       " 1    -1.397650e-02 -6.518266e+02  1.397650e-02 -3.288373e+02 -2.096474e-02   \n",
       " 2    -2.736585e-02 -1.275366e+03  2.736585e-02 -6.437979e+02 -4.104878e-02   \n",
       " 3    -3.962519e-02 -1.844515e+03  3.962519e-02 -9.320548e+02 -5.943779e-02   \n",
       " 4    -5.029612e-02 -2.337333e+03  5.029612e-02 -1.182787e+03 -7.544418e-02   \n",
       " ...            ...           ...           ...           ...           ...   \n",
       " 1019  2.109998e-03 -1.321346e+02 -2.109998e-03  3.938245e+01  3.164996e-03   \n",
       " 1020  2.116189e-03 -1.275779e+02 -2.116189e-03  4.078032e+01  3.174283e-03   \n",
       " 1021  2.108154e-03 -1.129890e+02 -2.108154e-03  4.190866e+01  3.162231e-03   \n",
       " 1022  2.114259e-03 -9.071429e+01 -2.114259e-03  4.350266e+01  3.171389e-03   \n",
       " 1023  2.106139e-03 -6.294774e+01 -2.106139e-03  4.493993e+01  3.159208e-03   \n",
       " \n",
       "       ...            PZ            P4            T6            A2  \\\n",
       " 0     ... -3.307430e-17  1.651714e-13 -3.307430e-17  3.455894e-13   \n",
       " 1     ... -6.988248e-03 -2.646920e+02 -6.988248e-03 -2.281396e+02   \n",
       " 2     ... -1.368293e-02 -5.183021e+02 -1.368293e-02 -4.459774e+02   \n",
       " 3     ... -1.981260e-02 -7.505852e+02 -1.981260e-02 -6.440388e+02   \n",
       " 4     ... -2.514806e-02 -9.528851e+02 -2.514806e-02 -8.144362e+02   \n",
       " ...   ...           ...           ...           ...           ...   \n",
       " 1019  ...  1.054999e-03  3.630563e+01  1.054999e-03  4.464208e+01   \n",
       " 1020  ...  1.058094e-03  3.611363e+01  1.058094e-03  4.317930e+01   \n",
       " 1021  ...  1.054077e-03  3.609012e+01  1.054077e-03  4.172697e+01   \n",
       " 1022  ...  1.057130e-03  3.677028e+01  1.057130e-03  4.085701e+01   \n",
       " 1023  ...  1.053069e-03  3.752225e+01  1.053069e-03  4.019580e+01   \n",
       " \n",
       "                 O1            OZ            O2           FT9          FT10  \\\n",
       " 0    -6.391263e-17  8.724439e-14 -3.155565e-17 -7.326835e-14 -3.155565e-17   \n",
       " 1     4.192949e-02 -5.818660e+01  3.494124e-02  1.040445e+02  3.494124e-02   \n",
       " 2     8.209756e-02 -1.138533e+02  6.841464e-02  2.037677e+02  6.841464e-02   \n",
       " 3     1.188756e-01 -1.646722e+02  9.906298e-02  2.951723e+02  9.906298e-02   \n",
       " 4     1.508884e-01 -2.086840e+02  1.257403e-01  3.748789e+02  1.257403e-01   \n",
       " ...            ...           ...           ...           ...           ...   \n",
       " 1019 -6.329993e-03  8.108575e+00 -5.274994e-03 -1.735507e+01 -5.274994e-03   \n",
       " 1020 -6.348566e-03  7.472130e+00 -5.290472e-03 -1.805120e+01 -5.290472e-03   \n",
       " 1021 -6.324462e-03  6.859015e+00 -5.270385e-03 -1.852913e+01 -5.270385e-03   \n",
       " 1022 -6.342777e-03  6.416380e+00 -5.285648e-03 -1.894467e+01 -5.285648e-03   \n",
       " 1023 -6.318416e-03  6.051498e+00 -5.265347e-03 -1.904496e+01 -5.265347e-03   \n",
       " \n",
       "                PO1  \n",
       " 0     4.404571e-14  \n",
       " 1    -3.291532e+01  \n",
       " 2    -6.439023e+01  \n",
       " 3    -9.309419e+01  \n",
       " 4    -1.179092e+02  \n",
       " ...            ...  \n",
       " 1019  2.724295e+00  \n",
       " 1020  1.816629e+00  \n",
       " 1021  1.085397e+00  \n",
       " 1022  7.074757e-01  \n",
       " 1023  7.091612e-01  \n",
       " \n",
       " [1024 rows x 39 columns],\n",
       " 0)"
      ]
     },
     "execution_count": 9,
     "metadata": {},
     "output_type": "execute_result"
    }
   ],
   "source": [
    "sequences[0]"
   ]
  },
  {
   "cell_type": "code",
   "execution_count": 10,
   "id": "71c5ebdb",
   "metadata": {},
   "outputs": [],
   "source": [
    "train_sequences, test_sequences = train_test_split(sequences, test_size=0.2)\n",
    "val_sequences, test_sequences = train_test_split(test_sequences, test_size=0.5)"
   ]
  },
  {
   "cell_type": "code",
   "execution_count": 11,
   "id": "62f30b4d",
   "metadata": {},
   "outputs": [
    {
     "data": {
      "text/plain": [
       "(11268, 1409, 1409)"
      ]
     },
     "execution_count": 11,
     "metadata": {},
     "output_type": "execute_result"
    }
   ],
   "source": [
    "len(train_sequences), len(val_sequences), len(test_sequences)"
   ]
  },
  {
   "cell_type": "markdown",
   "id": "a3b1798a",
   "metadata": {},
   "source": [
    "## Data Set"
   ]
  },
  {
   "cell_type": "code",
   "execution_count": 12,
   "id": "d4d4405c",
   "metadata": {},
   "outputs": [],
   "source": [
    "class DrowsyDataset(Dataset):\n",
    "    \n",
    "    def __init__(self, sequences):\n",
    "        self.sequences = sequences\n",
    "        \n",
    "    def __len__(self):\n",
    "        return len(self.sequences)\n",
    "    \n",
    "    def __getitem__(self, idx):\n",
    "        sequence, label = self.sequences[idx]\n",
    "        return dict(\n",
    "            sequence=torch.Tensor(sequence.to_numpy()),\n",
    "            label=torch.tensor(label).long()\n",
    "        )"
   ]
  },
  {
   "cell_type": "code",
   "execution_count": 13,
   "id": "70941905",
   "metadata": {},
   "outputs": [],
   "source": [
    "class DrowsyDataModule(pl.LightningDataModule):\n",
    "    \n",
    "    def __init__(self, train_sequences, val_sequences, test_sequences, batch_size):\n",
    "        super().__init__()\n",
    "        self.train_sequences = train_sequences\n",
    "        self.val_sequences = val_sequences\n",
    "        self.test_sequences = test_sequences\n",
    "        self.batch_size = batch_size\n",
    "\n",
    "    def setup(self, stage=None):\n",
    "        self.train_dataset = DrowsyDataset(self.train_sequences)\n",
    "        self.val_dataset = DrowsyDataset(self.val_sequences)\n",
    "        self.test_dataset = DrowsyDataset(self.test_sequences)\n",
    "        \n",
    "    def train_dataloader(self):\n",
    "        return DataLoader(\n",
    "            self.train_dataset,\n",
    "            batch_size=self.batch_size,\n",
    "            shuffle=True,\n",
    "            num_workers=os.cpu_count()\n",
    "        )\n",
    "    \n",
    "    def val_dataloader(self):\n",
    "        return DataLoader(\n",
    "            self.val_dataset,\n",
    "            batch_size=self.batch_size,\n",
    "            shuffle=False,\n",
    "            num_workers=os.cpu_count()\n",
    "        )\n",
    "    \n",
    "    def test_dataloader(self):\n",
    "        return DataLoader(\n",
    "            self.test_dataset,\n",
    "            batch_size=self.batch_size,\n",
    "            shuffle=False,\n",
    "            num_workers=os.cpu_count()\n",
    "        ) "
   ]
  },
  {
   "cell_type": "code",
   "execution_count": 14,
   "id": "d86f3c09",
   "metadata": {},
   "outputs": [],
   "source": [
    "N_EPOCHS = 250\n",
    "BATCH_SIZE = 200\n",
    "\n",
    "data_module = DrowsyDataModule(train_sequences, val_sequences, test_sequences, BATCH_SIZE)"
   ]
  },
  {
   "cell_type": "markdown",
   "id": "7f9f4ca6",
   "metadata": {},
   "source": [
    "## Models"
   ]
  },
  {
   "cell_type": "code",
   "execution_count": 15,
   "id": "a6273291",
   "metadata": {},
   "outputs": [],
   "source": [
    "class DrowsyModel(nn.Module):\n",
    "    \n",
    "    def __init__(self, n_features, n_classes, n_hidden=256, n_layers=3):\n",
    "        super().__init__()\n",
    "        \n",
    "        self.n_hidden = n_hidden\n",
    "        \n",
    "        self.lstm = nn.LSTM(\n",
    "            input_size=n_features,\n",
    "            hidden_size=n_hidden,\n",
    "            num_layers=n_layers,\n",
    "            batch_first=True,\n",
    "            dropout=0.75\n",
    "        )\n",
    "        \n",
    "        self.classifier = nn.Linear(n_hidden, n_classes)\n",
    "        \n",
    "    def forward(self, x):\n",
    "        self.lstm.flatten_parameters()\n",
    "        _, (hidden, _) = self.lstm(x)\n",
    "        \n",
    "        out = hidden[-1]\n",
    "        return self.classifier(out)"
   ]
  },
  {
   "cell_type": "code",
   "execution_count": 16,
   "id": "d3ea7024",
   "metadata": {},
   "outputs": [],
   "source": [
    "class DrowsyPredictor(pl.LightningModule):\n",
    "    \n",
    "    def __init__(self, n_features: int, n_classes: int):\n",
    "        super().__init__()\n",
    "        self.model = DrowsyModel(n_features, n_classes)\n",
    "        self.criterion = nn.CrossEntropyLoss()\n",
    "        \n",
    "    def forward(self, x, label=None):\n",
    "        output = self.model(x)\n",
    "        loss = 0\n",
    "        if label is not None:\n",
    "            loss = self.criterion(output, label)\n",
    "        return loss, output\n",
    "        \n",
    "    def training_step(self, batch, batch_idx):\n",
    "        sequences = batch[\"sequence\"]\n",
    "        labels = batch[\"label\"]\n",
    "        loss, outputs = self(sequences, labels)\n",
    "        predictions = torch.argmax(outputs, dim=1)\n",
    "        step_accuracy = accuracy(predictions, labels)\n",
    "        \n",
    "        self.log(\"train_loss\", loss, prog_bar=True, logger=True)\n",
    "        self.log(\"train_accuracy\", step_accuracy, prog_bar=True, logger=True)\n",
    "        \n",
    "        return {\"loss\": loss, \"accuracy\": step_accuracy}\n",
    "    \n",
    "    def validation_step(self, batch, batch_idx):\n",
    "        sequences = batch[\"sequence\"]\n",
    "        labels = batch[\"label\"]\n",
    "        loss, outputs = self(sequences, labels)\n",
    "        predictions = torch.argmax(outputs, dim=1)\n",
    "        step_accuracy = accuracy(predictions, labels)\n",
    "        \n",
    "        self.log(\"val_loss\", loss, prog_bar=True, logger=True)\n",
    "        self.log(\"val_accuracy\", step_accuracy, prog_bar=True, logger=True)\n",
    "        \n",
    "        return {\"loss\": loss, \"accuracy\": step_accuracy}\n",
    "    \n",
    "    def test_step(self, batch, batch_idx):\n",
    "        sequences = batch[\"sequence\"]\n",
    "        labels = batch[\"label\"]\n",
    "        loss, outputs = self(sequences, labels)\n",
    "        predictions = torch.argmax(outputs, dim=1)\n",
    "        step_accuracy = accuracy(predictions, labels)\n",
    "        \n",
    "        self.log(\"test_loss\", loss, prog_bar=True, logger=True)\n",
    "        self.log(\"test_accuracy\", step_accuracy, prog_bar=True, logger=True)\n",
    "        \n",
    "        return {\"loss\": loss, \"accuracy\": step_accuracy}\n",
    "    \n",
    "    def configure_optimizers(self):\n",
    "        return optim.Adam(self.parameters(), lr=0.0001)"
   ]
  },
  {
   "cell_type": "code",
   "execution_count": 17,
   "id": "1aa70f21",
   "metadata": {},
   "outputs": [],
   "source": [
    "model = DrowsyPredictor(\n",
    "    n_features=len(FEATURE_COLUMNS), \n",
    "    n_classes=len(label_encoder.classes_)\n",
    ")"
   ]
  },
  {
   "cell_type": "code",
   "execution_count": 18,
   "id": "ba49f096",
   "metadata": {},
   "outputs": [
    {
     "data": {
      "text/html": [
       "\n",
       "      <iframe id=\"tensorboard-frame-49daba4cf2440e71\" width=\"100%\" height=\"800\" frameborder=\"0\">\n",
       "      </iframe>\n",
       "      <script>\n",
       "        (function() {\n",
       "          const frame = document.getElementById(\"tensorboard-frame-49daba4cf2440e71\");\n",
       "          const url = new URL(\"/\", window.location);\n",
       "          const port = 8888;\n",
       "          if (port) {\n",
       "            url.port = port;\n",
       "          }\n",
       "          frame.src = url;\n",
       "        })();\n",
       "      </script>\n",
       "    "
      ],
      "text/plain": [
       "<IPython.core.display.HTML object>"
      ]
     },
     "metadata": {},
     "output_type": "display_data"
    }
   ],
   "source": [
    "%load_ext tensorboard\n",
    "%tensorboard --logdir ./lightning_logs --port=8888"
   ]
  },
  {
   "cell_type": "code",
   "execution_count": 19,
   "id": "d8c37852",
   "metadata": {},
   "outputs": [
    {
     "name": "stderr",
     "output_type": "stream",
     "text": [
      "GPU available: True, used: True\n",
      "TPU available: False, using: 0 TPU cores\n",
      "IPU available: False, using: 0 IPUs\n"
     ]
    }
   ],
   "source": [
    "checkpoint_callback = ModelCheckpoint(\n",
    "    dirpath=\"checkpoints\",\n",
    "    filename=\"best-checkpoint250x250\",\n",
    "    save_top_k=1,\n",
    "    verbose=True,\n",
    "    monitor=\"val_loss\",\n",
    "    mode=\"min\"\n",
    ")\n",
    "\n",
    "logger = TensorBoardLogger(\"lightning_logs\", name=\"Drowsy\")\n",
    "\n",
    "trainer = pl.Trainer(\n",
    "    logger=logger,\n",
    "    callbacks=[checkpoint_callback],\n",
    "    max_epochs=N_EPOCHS,\n",
    "    gpus=[0],\n",
    "#     progress_bar_refresh_rate=20\n",
    ")"
   ]
  },
  {
   "cell_type": "markdown",
   "id": "5e873477",
   "metadata": {},
   "source": [
    "## Training "
   ]
  },
  {
   "cell_type": "code",
   "execution_count": 20,
   "id": "334f7007",
   "metadata": {
    "scrolled": true
   },
   "outputs": [
    {
     "name": "stderr",
     "output_type": "stream",
     "text": [
      "LOCAL_RANK: 0 - CUDA_VISIBLE_DEVICES: [0,1]\n",
      "\n",
      "  | Name      | Type             | Params\n",
      "-----------------------------------------------\n",
      "0 | model     | DrowsyModel      | 1.4 M \n",
      "1 | criterion | CrossEntropyLoss | 0     \n",
      "-----------------------------------------------\n",
      "1.4 M     Trainable params\n",
      "0         Non-trainable params\n",
      "1.4 M     Total params\n",
      "5.429     Total estimated model params size (MB)\n",
      "/usr/local/lib/python3.6/dist-packages/pytorch_lightning/callbacks/model_checkpoint.py:623: UserWarning: Checkpoint directory /Workspace/code/checkpoints exists and is not empty.\n",
      "  rank_zero_warn(f\"Checkpoint directory {dirpath} exists and is not empty.\")\n"
     ]
    },
    {
     "name": "stdout",
     "output_type": "stream",
     "text": [
      "Epoch 0:  88%|████████▊ | 57/65 [00:42<00:05,  1.35it/s, loss=0.686, v_num=13, train_loss=0.686, train_accuracy=0.515]\n",
      "Validating: 0it [00:00, ?it/s]\u001b[A\n",
      "Validating:   0%|          | 0/8 [00:00<?, ?it/s]\u001b[A\n",
      "Epoch 0:  91%|█████████ | 59/65 [00:45<00:04,  1.30it/s, loss=0.686, v_num=13, train_loss=0.686, train_accuracy=0.515]\n",
      "Validating:  25%|██▌       | 2/8 [00:03<00:08,  1.37s/it]\u001b[A\n",
      "Epoch 0:  94%|█████████▍| 61/65 [00:45<00:02,  1.33it/s, loss=0.686, v_num=13, train_loss=0.686, train_accuracy=0.515]\n",
      "Validating:  50%|█████     | 4/8 [00:03<00:02,  1.80it/s]\u001b[A\n",
      "Epoch 0:  97%|█████████▋| 63/65 [00:46<00:01,  1.37it/s, loss=0.686, v_num=13, train_loss=0.686, train_accuracy=0.515]\n",
      "Validating:  75%|███████▌  | 6/8 [00:03<00:00,  3.06it/s]\u001b[A\n",
      "Epoch 0: 100%|██████████| 65/65 [00:46<00:00,  1.40it/s, loss=0.686, v_num=13, train_loss=0.686, train_accuracy=0.515]\n",
      "Epoch 0: 100%|██████████| 65/65 [00:46<00:00,  1.39it/s, loss=0.686, v_num=13, train_loss=0.686, train_accuracy=0.515, val_loss=0.684, val_accuracy=0.569]\n",
      "                                                         \u001b[A"
     ]
    },
    {
     "name": "stderr",
     "output_type": "stream",
     "text": [
      "Epoch 0, global step 56: val_loss reached 0.68369 (best 0.68369), saving model to \"/Workspace/code/checkpoints/best-checkpoint250x250-v4.ckpt\" as top 1\n"
     ]
    },
    {
     "name": "stdout",
     "output_type": "stream",
     "text": [
      "Epoch 1:  89%|████████▉ | 58/65 [00:42<00:05,  1.37it/s, loss=0.629, v_num=13, train_loss=0.624, train_accuracy=0.676, val_loss=0.684, val_accuracy=0.569]\n",
      "Validating: 0it [00:00, ?it/s]\u001b[A\n",
      "Validating:   0%|          | 0/8 [00:00<?, ?it/s]\u001b[A\n",
      "Validating:  12%|█▎        | 1/8 [00:03<00:23,  3.35s/it]\u001b[A\n",
      "Epoch 1:  92%|█████████▏| 60/65 [00:45<00:03,  1.31it/s, loss=0.629, v_num=13, train_loss=0.624, train_accuracy=0.676, val_loss=0.684, val_accuracy=0.569]\n",
      "Validating:  38%|███▊      | 3/8 [00:03<00:04,  1.14it/s]\u001b[A\n",
      "Epoch 1:  95%|█████████▌| 62/65 [00:46<00:02,  1.34it/s, loss=0.629, v_num=13, train_loss=0.624, train_accuracy=0.676, val_loss=0.684, val_accuracy=0.569]\n",
      "Validating:  62%|██████▎   | 5/8 [00:04<00:01,  2.28it/s]\u001b[A\n",
      "Epoch 1:  98%|█████████▊| 64/65 [00:46<00:00,  1.37it/s, loss=0.629, v_num=13, train_loss=0.624, train_accuracy=0.676, val_loss=0.684, val_accuracy=0.569]\n",
      "Validating:  88%|████████▊ | 7/8 [00:04<00:00,  3.50it/s]\u001b[A\n",
      "Epoch 1: 100%|██████████| 65/65 [00:47<00:00,  1.38it/s, loss=0.629, v_num=13, train_loss=0.624, train_accuracy=0.676, val_loss=0.643, val_accuracy=0.639]\n",
      "                                                         \u001b[A"
     ]
    },
    {
     "name": "stderr",
     "output_type": "stream",
     "text": [
      "Epoch 1, global step 113: val_loss reached 0.64324 (best 0.64324), saving model to \"/Workspace/code/checkpoints/best-checkpoint250x250-v4.ckpt\" as top 1\n"
     ]
    },
    {
     "name": "stdout",
     "output_type": "stream",
     "text": [
      "Epoch 2:  89%|████████▉ | 58/65 [00:42<00:05,  1.36it/s, loss=0.535, v_num=13, train_loss=0.458, train_accuracy=0.809, val_loss=0.643, val_accuracy=0.639]\n",
      "Validating: 0it [00:00, ?it/s]\u001b[A\n",
      "Validating:   0%|          | 0/8 [00:00<?, ?it/s]\u001b[A\n",
      "Validating:  12%|█▎        | 1/8 [00:03<00:23,  3.38s/it]\u001b[A\n",
      "Epoch 2:  92%|█████████▏| 60/65 [00:46<00:03,  1.30it/s, loss=0.535, v_num=13, train_loss=0.458, train_accuracy=0.809, val_loss=0.643, val_accuracy=0.639]\n",
      "Validating:  38%|███▊      | 3/8 [00:03<00:04,  1.14it/s]\u001b[A\n",
      "Epoch 2:  95%|█████████▌| 62/65 [00:46<00:02,  1.33it/s, loss=0.535, v_num=13, train_loss=0.458, train_accuracy=0.809, val_loss=0.643, val_accuracy=0.639]\n",
      "Validating:  62%|██████▎   | 5/8 [00:04<00:01,  2.27it/s]\u001b[A\n",
      "Epoch 2:  98%|█████████▊| 64/65 [00:46<00:00,  1.37it/s, loss=0.535, v_num=13, train_loss=0.458, train_accuracy=0.809, val_loss=0.643, val_accuracy=0.639]\n",
      "Validating:  88%|████████▊ | 7/8 [00:04<00:00,  3.51it/s]\u001b[A\n",
      "Epoch 2: 100%|██████████| 65/65 [00:47<00:00,  1.37it/s, loss=0.535, v_num=13, train_loss=0.458, train_accuracy=0.809, val_loss=0.566, val_accuracy=0.720]\n",
      "                                                         \u001b[A"
     ]
    },
    {
     "name": "stderr",
     "output_type": "stream",
     "text": [
      "Epoch 2, global step 170: val_loss reached 0.56614 (best 0.56614), saving model to \"/Workspace/code/checkpoints/best-checkpoint250x250-v4.ckpt\" as top 1\n"
     ]
    },
    {
     "name": "stdout",
     "output_type": "stream",
     "text": [
      "Epoch 3:  89%|████████▉ | 58/65 [00:42<00:05,  1.36it/s, loss=0.584, v_num=13, train_loss=0.582, train_accuracy=0.662, val_loss=0.566, val_accuracy=0.720]\n",
      "Validating: 0it [00:00, ?it/s]\u001b[A\n",
      "Validating:   0%|          | 0/8 [00:00<?, ?it/s]\u001b[A\n",
      "Validating:  12%|█▎        | 1/8 [00:03<00:24,  3.54s/it]\u001b[A\n",
      "Epoch 3:  92%|█████████▏| 60/65 [00:46<00:03,  1.29it/s, loss=0.584, v_num=13, train_loss=0.582, train_accuracy=0.662, val_loss=0.566, val_accuracy=0.720]\n",
      "Validating:  38%|███▊      | 3/8 [00:03<00:04,  1.09it/s]\u001b[A\n",
      "Epoch 3:  95%|█████████▌| 62/65 [00:46<00:02,  1.33it/s, loss=0.584, v_num=13, train_loss=0.582, train_accuracy=0.662, val_loss=0.566, val_accuracy=0.720]\n",
      "Validating:  62%|██████▎   | 5/8 [00:04<00:01,  2.20it/s]\u001b[A\n",
      "Epoch 3:  98%|█████████▊| 64/65 [00:47<00:00,  1.36it/s, loss=0.584, v_num=13, train_loss=0.582, train_accuracy=0.662, val_loss=0.566, val_accuracy=0.720]\n",
      "Validating:  88%|████████▊ | 7/8 [00:04<00:00,  3.44it/s]\u001b[A\n",
      "Epoch 3: 100%|██████████| 65/65 [00:47<00:00,  1.37it/s, loss=0.584, v_num=13, train_loss=0.582, train_accuracy=0.662, val_loss=0.602, val_accuracy=0.676]\n",
      "                                                         \u001b[A"
     ]
    },
    {
     "name": "stderr",
     "output_type": "stream",
     "text": [
      "Epoch 3, global step 227: val_loss was not in top 1\n"
     ]
    },
    {
     "name": "stdout",
     "output_type": "stream",
     "text": [
      "Epoch 4:  89%|████████▉ | 58/65 [00:42<00:05,  1.35it/s, loss=0.491, v_num=13, train_loss=0.504, train_accuracy=0.750, val_loss=0.602, val_accuracy=0.676]\n",
      "Validating: 0it [00:00, ?it/s]\u001b[A\n",
      "Validating:   0%|          | 0/8 [00:00<?, ?it/s]\u001b[A\n",
      "Validating:  12%|█▎        | 1/8 [00:03<00:24,  3.52s/it]\u001b[A\n",
      "Epoch 4:  92%|█████████▏| 60/65 [00:46<00:03,  1.29it/s, loss=0.491, v_num=13, train_loss=0.504, train_accuracy=0.750, val_loss=0.602, val_accuracy=0.676]\n",
      "Validating:  38%|███▊      | 3/8 [00:03<00:04,  1.09it/s]\u001b[A\n",
      "Epoch 4:  95%|█████████▌| 62/65 [00:46<00:02,  1.32it/s, loss=0.491, v_num=13, train_loss=0.504, train_accuracy=0.750, val_loss=0.602, val_accuracy=0.676]\n",
      "Validating:  62%|██████▎   | 5/8 [00:04<00:01,  2.20it/s]\u001b[A\n",
      "Epoch 4:  98%|█████████▊| 64/65 [00:47<00:00,  1.36it/s, loss=0.491, v_num=13, train_loss=0.504, train_accuracy=0.750, val_loss=0.602, val_accuracy=0.676]\n",
      "Validating:  88%|████████▊ | 7/8 [00:04<00:00,  3.44it/s]\u001b[A\n",
      "Epoch 4: 100%|██████████| 65/65 [00:47<00:00,  1.36it/s, loss=0.491, v_num=13, train_loss=0.504, train_accuracy=0.750, val_loss=0.528, val_accuracy=0.752]\n",
      "                                                         \u001b[A"
     ]
    },
    {
     "name": "stderr",
     "output_type": "stream",
     "text": [
      "Epoch 4, global step 284: val_loss reached 0.52824 (best 0.52824), saving model to \"/Workspace/code/checkpoints/best-checkpoint250x250-v4.ckpt\" as top 1\n"
     ]
    },
    {
     "name": "stdout",
     "output_type": "stream",
     "text": [
      "Epoch 5:  89%|████████▉ | 58/65 [00:42<00:05,  1.35it/s, loss=0.478, v_num=13, train_loss=0.514, train_accuracy=0.794, val_loss=0.528, val_accuracy=0.752]\n",
      "Validating: 0it [00:00, ?it/s]\u001b[A\n",
      "Validating:   0%|          | 0/8 [00:00<?, ?it/s]\u001b[A\n",
      "Validating:  12%|█▎        | 1/8 [00:03<00:24,  3.49s/it]\u001b[A\n",
      "Epoch 5:  92%|█████████▏| 60/65 [00:46<00:03,  1.29it/s, loss=0.478, v_num=13, train_loss=0.514, train_accuracy=0.794, val_loss=0.528, val_accuracy=0.752]\n",
      "Validating:  38%|███▊      | 3/8 [00:03<00:04,  1.10it/s]\u001b[A\n",
      "Epoch 5:  95%|█████████▌| 62/65 [00:46<00:02,  1.32it/s, loss=0.478, v_num=13, train_loss=0.514, train_accuracy=0.794, val_loss=0.528, val_accuracy=0.752]\n",
      "Validating:  62%|██████▎   | 5/8 [00:04<00:01,  2.22it/s]\u001b[A\n",
      "Epoch 5:  98%|█████████▊| 64/65 [00:47<00:00,  1.36it/s, loss=0.478, v_num=13, train_loss=0.514, train_accuracy=0.794, val_loss=0.528, val_accuracy=0.752]\n",
      "Validating:  88%|████████▊ | 7/8 [00:04<00:00,  3.47it/s]\u001b[A\n",
      "Epoch 5: 100%|██████████| 65/65 [00:47<00:00,  1.36it/s, loss=0.478, v_num=13, train_loss=0.514, train_accuracy=0.794, val_loss=0.452, val_accuracy=0.800]\n",
      "                                                         \u001b[A"
     ]
    },
    {
     "name": "stderr",
     "output_type": "stream",
     "text": [
      "Epoch 5, global step 341: val_loss reached 0.45216 (best 0.45216), saving model to \"/Workspace/code/checkpoints/best-checkpoint250x250-v4.ckpt\" as top 1\n"
     ]
    },
    {
     "name": "stdout",
     "output_type": "stream",
     "text": [
      "Epoch 6:  89%|████████▉ | 58/65 [00:42<00:05,  1.35it/s, loss=0.514, v_num=13, train_loss=0.560, train_accuracy=0.721, val_loss=0.452, val_accuracy=0.800]\n",
      "Validating: 0it [00:00, ?it/s]\u001b[A\n",
      "Validating:   0%|          | 0/8 [00:00<?, ?it/s]\u001b[A\n",
      "Validating:  12%|█▎        | 1/8 [00:03<00:24,  3.49s/it]\u001b[A\n",
      "Epoch 6:  92%|█████████▏| 60/65 [00:46<00:03,  1.29it/s, loss=0.514, v_num=13, train_loss=0.560, train_accuracy=0.721, val_loss=0.452, val_accuracy=0.800]\n",
      "Validating:  38%|███▊      | 3/8 [00:03<00:04,  1.10it/s]\u001b[A\n",
      "Epoch 6:  95%|█████████▌| 62/65 [00:46<00:02,  1.32it/s, loss=0.514, v_num=13, train_loss=0.560, train_accuracy=0.721, val_loss=0.452, val_accuracy=0.800]\n",
      "Validating:  62%|██████▎   | 5/8 [00:04<00:01,  2.21it/s]\u001b[A\n",
      "Epoch 6:  98%|█████████▊| 64/65 [00:47<00:00,  1.36it/s, loss=0.514, v_num=13, train_loss=0.560, train_accuracy=0.721, val_loss=0.452, val_accuracy=0.800]\n",
      "Validating:  88%|████████▊ | 7/8 [00:04<00:00,  3.45it/s]\u001b[A\n",
      "Epoch 6: 100%|██████████| 65/65 [00:47<00:00,  1.36it/s, loss=0.514, v_num=13, train_loss=0.560, train_accuracy=0.721, val_loss=0.699, val_accuracy=0.659]\n",
      "                                                         \u001b[A"
     ]
    },
    {
     "name": "stderr",
     "output_type": "stream",
     "text": [
      "Epoch 6, global step 398: val_loss was not in top 1\n"
     ]
    },
    {
     "name": "stdout",
     "output_type": "stream",
     "text": [
      "Epoch 7:  89%|████████▉ | 58/65 [00:43<00:05,  1.34it/s, loss=0.579, v_num=13, train_loss=0.562, train_accuracy=0.676, val_loss=0.699, val_accuracy=0.659]\n",
      "Validating: 0it [00:00, ?it/s]\u001b[A\n",
      "Validating:   0%|          | 0/8 [00:00<?, ?it/s]\u001b[A\n",
      "Validating:  12%|█▎        | 1/8 [00:03<00:24,  3.49s/it]\u001b[A\n",
      "Epoch 7:  92%|█████████▏| 60/65 [00:46<00:03,  1.28it/s, loss=0.579, v_num=13, train_loss=0.562, train_accuracy=0.676, val_loss=0.699, val_accuracy=0.659]\n",
      "Validating:  38%|███▊      | 3/8 [00:03<00:04,  1.10it/s]\u001b[A\n",
      "Epoch 7:  95%|█████████▌| 62/65 [00:47<00:02,  1.31it/s, loss=0.579, v_num=13, train_loss=0.562, train_accuracy=0.676, val_loss=0.699, val_accuracy=0.659]\n",
      "Validating:  62%|██████▎   | 5/8 [00:04<00:01,  2.20it/s]\u001b[A\n",
      "Epoch 7:  98%|█████████▊| 64/65 [00:47<00:00,  1.35it/s, loss=0.579, v_num=13, train_loss=0.562, train_accuracy=0.676, val_loss=0.699, val_accuracy=0.659]\n",
      "Validating:  88%|████████▊ | 7/8 [00:04<00:00,  3.43it/s]\u001b[A\n",
      "Epoch 7: 100%|██████████| 65/65 [00:48<00:00,  1.35it/s, loss=0.579, v_num=13, train_loss=0.562, train_accuracy=0.676, val_loss=0.591, val_accuracy=0.688]\n",
      "                                                         \u001b[A"
     ]
    },
    {
     "name": "stderr",
     "output_type": "stream",
     "text": [
      "Epoch 7, global step 455: val_loss was not in top 1\n"
     ]
    },
    {
     "name": "stdout",
     "output_type": "stream",
     "text": [
      "Epoch 8:  89%|████████▉ | 58/65 [00:42<00:05,  1.35it/s, loss=0.493, v_num=13, train_loss=0.560, train_accuracy=0.706, val_loss=0.591, val_accuracy=0.688]\n",
      "Validating: 0it [00:00, ?it/s]\u001b[A\n",
      "Validating:   0%|          | 0/8 [00:00<?, ?it/s]\u001b[A\n",
      "Validating:  12%|█▎        | 1/8 [00:03<00:25,  3.65s/it]\u001b[A\n",
      "Epoch 8:  92%|█████████▏| 60/65 [00:46<00:03,  1.29it/s, loss=0.493, v_num=13, train_loss=0.560, train_accuracy=0.706, val_loss=0.591, val_accuracy=0.688]\n",
      "Validating:  38%|███▊      | 3/8 [00:03<00:04,  1.06it/s]\u001b[A\n",
      "Epoch 8:  95%|█████████▌| 62/65 [00:46<00:02,  1.32it/s, loss=0.493, v_num=13, train_loss=0.560, train_accuracy=0.706, val_loss=0.591, val_accuracy=0.688]\n",
      "Validating:  62%|██████▎   | 5/8 [00:04<00:01,  2.15it/s]\u001b[A\n",
      "Epoch 8:  98%|█████████▊| 64/65 [00:47<00:00,  1.35it/s, loss=0.493, v_num=13, train_loss=0.560, train_accuracy=0.706, val_loss=0.591, val_accuracy=0.688]\n",
      "Validating:  88%|████████▊ | 7/8 [00:04<00:00,  3.38it/s]\u001b[A\n",
      "Epoch 8: 100%|██████████| 65/65 [00:47<00:00,  1.36it/s, loss=0.493, v_num=13, train_loss=0.560, train_accuracy=0.706, val_loss=0.521, val_accuracy=0.755]\n",
      "                                                         \u001b[A"
     ]
    },
    {
     "name": "stderr",
     "output_type": "stream",
     "text": [
      "Epoch 8, global step 512: val_loss was not in top 1\n"
     ]
    },
    {
     "name": "stdout",
     "output_type": "stream",
     "text": [
      "Epoch 9:  89%|████████▉ | 58/65 [00:43<00:05,  1.35it/s, loss=0.408, v_num=13, train_loss=0.473, train_accuracy=0.794, val_loss=0.521, val_accuracy=0.755]\n",
      "Validating: 0it [00:00, ?it/s]\u001b[A\n",
      "Validating:   0%|          | 0/8 [00:00<?, ?it/s]\u001b[A\n",
      "Validating:  12%|█▎        | 1/8 [00:03<00:25,  3.62s/it]\u001b[A\n",
      "Epoch 9:  92%|█████████▏| 60/65 [00:46<00:03,  1.28it/s, loss=0.408, v_num=13, train_loss=0.473, train_accuracy=0.794, val_loss=0.521, val_accuracy=0.755]\n",
      "Validating:  38%|███▊      | 3/8 [00:03<00:04,  1.07it/s]\u001b[A\n",
      "Epoch 9:  95%|█████████▌| 62/65 [00:47<00:02,  1.31it/s, loss=0.408, v_num=13, train_loss=0.473, train_accuracy=0.794, val_loss=0.521, val_accuracy=0.755]\n",
      "Validating:  62%|██████▎   | 5/8 [00:04<00:01,  2.16it/s]\u001b[A\n",
      "Epoch 9:  98%|█████████▊| 64/65 [00:47<00:00,  1.35it/s, loss=0.408, v_num=13, train_loss=0.473, train_accuracy=0.794, val_loss=0.521, val_accuracy=0.755]\n",
      "Validating:  88%|████████▊ | 7/8 [00:04<00:00,  3.38it/s]\u001b[A\n",
      "Epoch 9: 100%|██████████| 65/65 [00:48<00:00,  1.35it/s, loss=0.408, v_num=13, train_loss=0.473, train_accuracy=0.794, val_loss=0.465, val_accuracy=0.806]\n",
      "                                                         \u001b[A"
     ]
    },
    {
     "name": "stderr",
     "output_type": "stream",
     "text": [
      "Epoch 9, global step 569: val_loss was not in top 1\n"
     ]
    },
    {
     "name": "stdout",
     "output_type": "stream",
     "text": [
      "Epoch 10:  89%|████████▉ | 58/65 [00:42<00:05,  1.35it/s, loss=0.462, v_num=13, train_loss=0.484, train_accuracy=0.794, val_loss=0.465, val_accuracy=0.806]\n",
      "Validating: 0it [00:00, ?it/s]\u001b[A\n",
      "Validating:   0%|          | 0/8 [00:00<?, ?it/s]\u001b[A\n",
      "Validating:  12%|█▎        | 1/8 [00:03<00:24,  3.48s/it]\u001b[A\n",
      "Epoch 10:  92%|█████████▏| 60/65 [00:46<00:03,  1.29it/s, loss=0.462, v_num=13, train_loss=0.484, train_accuracy=0.794, val_loss=0.465, val_accuracy=0.806]\n",
      "Validating:  38%|███▊      | 3/8 [00:03<00:04,  1.11it/s]\u001b[A\n",
      "Epoch 10:  95%|█████████▌| 62/65 [00:46<00:02,  1.32it/s, loss=0.462, v_num=13, train_loss=0.484, train_accuracy=0.794, val_loss=0.465, val_accuracy=0.806]\n",
      "Validating:  62%|██████▎   | 5/8 [00:04<00:01,  2.23it/s]\u001b[A\n",
      "Epoch 10:  98%|█████████▊| 64/65 [00:47<00:00,  1.35it/s, loss=0.462, v_num=13, train_loss=0.484, train_accuracy=0.794, val_loss=0.465, val_accuracy=0.806]\n",
      "Validating:  88%|████████▊ | 7/8 [00:04<00:00,  3.46it/s]\u001b[A\n",
      "Epoch 10: 100%|██████████| 65/65 [00:47<00:00,  1.36it/s, loss=0.462, v_num=13, train_loss=0.484, train_accuracy=0.794, val_loss=0.477, val_accuracy=0.779]\n",
      "                                                         \u001b[A"
     ]
    },
    {
     "name": "stderr",
     "output_type": "stream",
     "text": [
      "Epoch 10, global step 626: val_loss was not in top 1\n"
     ]
    },
    {
     "name": "stdout",
     "output_type": "stream",
     "text": [
      "Epoch 11:  89%|████████▉ | 58/65 [00:43<00:05,  1.34it/s, loss=0.506, v_num=13, train_loss=1.180, train_accuracy=0.588, val_loss=0.477, val_accuracy=0.779]\n",
      "Validating: 0it [00:00, ?it/s]\u001b[A\n",
      "Validating:   0%|          | 0/8 [00:00<?, ?it/s]\u001b[A\n",
      "Validating:  12%|█▎        | 1/8 [00:03<00:25,  3.57s/it]\u001b[A\n",
      "Epoch 11:  92%|█████████▏| 60/65 [00:46<00:03,  1.28it/s, loss=0.506, v_num=13, train_loss=1.180, train_accuracy=0.588, val_loss=0.477, val_accuracy=0.779]\n",
      "Validating:  38%|███▊      | 3/8 [00:03<00:04,  1.08it/s]\u001b[A\n",
      "Epoch 11:  95%|█████████▌| 62/65 [00:47<00:02,  1.31it/s, loss=0.506, v_num=13, train_loss=1.180, train_accuracy=0.588, val_loss=0.477, val_accuracy=0.779]\n",
      "Validating:  62%|██████▎   | 5/8 [00:04<00:01,  2.19it/s]\u001b[A\n",
      "Epoch 11:  98%|█████████▊| 64/65 [00:47<00:00,  1.34it/s, loss=0.506, v_num=13, train_loss=1.180, train_accuracy=0.588, val_loss=0.477, val_accuracy=0.779]\n",
      "Validating:  88%|████████▊ | 7/8 [00:04<00:00,  3.40it/s]\u001b[A\n",
      "Epoch 11: 100%|██████████| 65/65 [00:48<00:00,  1.35it/s, loss=0.506, v_num=13, train_loss=1.180, train_accuracy=0.588, val_loss=1.070, val_accuracy=0.621]\n",
      "                                                         \u001b[A"
     ]
    },
    {
     "name": "stderr",
     "output_type": "stream",
     "text": [
      "Epoch 11, global step 683: val_loss was not in top 1\n"
     ]
    },
    {
     "name": "stdout",
     "output_type": "stream",
     "text": [
      "Epoch 12:  89%|████████▉ | 58/65 [00:42<00:05,  1.35it/s, loss=0.603, v_num=13, train_loss=0.552, train_accuracy=0.794, val_loss=1.070, val_accuracy=0.621]\n",
      "Validating: 0it [00:00, ?it/s]\u001b[A\n",
      "Validating:   0%|          | 0/8 [00:00<?, ?it/s]\u001b[A\n",
      "Validating:  12%|█▎        | 1/8 [00:03<00:24,  3.57s/it]\u001b[A\n",
      "Epoch 12:  92%|█████████▏| 60/65 [00:46<00:03,  1.28it/s, loss=0.603, v_num=13, train_loss=0.552, train_accuracy=0.794, val_loss=1.070, val_accuracy=0.621]\n",
      "Validating:  38%|███▊      | 3/8 [00:03<00:04,  1.08it/s]\u001b[A\n",
      "Epoch 12:  95%|█████████▌| 62/65 [00:47<00:02,  1.32it/s, loss=0.603, v_num=13, train_loss=0.552, train_accuracy=0.794, val_loss=1.070, val_accuracy=0.621]\n",
      "Validating:  62%|██████▎   | 5/8 [00:04<00:01,  2.20it/s]\u001b[A\n",
      "Epoch 12:  98%|█████████▊| 64/65 [00:47<00:00,  1.35it/s, loss=0.603, v_num=13, train_loss=0.552, train_accuracy=0.794, val_loss=1.070, val_accuracy=0.621]\n",
      "Validating:  88%|████████▊ | 7/8 [00:04<00:00,  3.43it/s]\u001b[A\n",
      "Epoch 12: 100%|██████████| 65/65 [00:47<00:00,  1.36it/s, loss=0.603, v_num=13, train_loss=0.552, train_accuracy=0.794, val_loss=0.621, val_accuracy=0.665]\n",
      "                                                         \u001b[A"
     ]
    },
    {
     "name": "stderr",
     "output_type": "stream",
     "text": [
      "Epoch 12, global step 740: val_loss was not in top 1\n"
     ]
    },
    {
     "name": "stdout",
     "output_type": "stream",
     "text": [
      "Epoch 13:  89%|████████▉ | 58/65 [00:43<00:05,  1.34it/s, loss=0.493, v_num=13, train_loss=0.528, train_accuracy=0.750, val_loss=0.621, val_accuracy=0.665]\n",
      "Validating: 0it [00:00, ?it/s]\u001b[A\n",
      "Validating:   0%|          | 0/8 [00:00<?, ?it/s]\u001b[A\n",
      "Validating:  12%|█▎        | 1/8 [00:03<00:25,  3.63s/it]\u001b[A\n",
      "Epoch 13:  92%|█████████▏| 60/65 [00:46<00:03,  1.28it/s, loss=0.493, v_num=13, train_loss=0.528, train_accuracy=0.750, val_loss=0.621, val_accuracy=0.665]\n",
      "Validating:  38%|███▊      | 3/8 [00:03<00:04,  1.07it/s]\u001b[A\n",
      "Epoch 13:  95%|█████████▌| 62/65 [00:47<00:02,  1.31it/s, loss=0.493, v_num=13, train_loss=0.528, train_accuracy=0.750, val_loss=0.621, val_accuracy=0.665]\n",
      "Validating:  62%|██████▎   | 5/8 [00:04<00:01,  2.17it/s]\u001b[A\n",
      "Epoch 13:  98%|█████████▊| 64/65 [00:47<00:00,  1.34it/s, loss=0.493, v_num=13, train_loss=0.528, train_accuracy=0.750, val_loss=0.621, val_accuracy=0.665]\n",
      "Validating:  88%|████████▊ | 7/8 [00:04<00:00,  3.41it/s]\u001b[A\n",
      "Epoch 13: 100%|██████████| 65/65 [00:48<00:00,  1.35it/s, loss=0.493, v_num=13, train_loss=0.528, train_accuracy=0.750, val_loss=0.544, val_accuracy=0.742]\n",
      "                                                         \u001b[A"
     ]
    },
    {
     "name": "stderr",
     "output_type": "stream",
     "text": [
      "Epoch 13, global step 797: val_loss was not in top 1\n"
     ]
    },
    {
     "name": "stdout",
     "output_type": "stream",
     "text": [
      "Epoch 14:  89%|████████▉ | 58/65 [00:43<00:05,  1.35it/s, loss=0.441, v_num=13, train_loss=0.412, train_accuracy=0.853, val_loss=0.544, val_accuracy=0.742]\n",
      "Validating: 0it [00:00, ?it/s]\u001b[A\n",
      "Validating:   0%|          | 0/8 [00:00<?, ?it/s]\u001b[A\n",
      "Validating:  12%|█▎        | 1/8 [00:03<00:24,  3.54s/it]\u001b[A\n",
      "Epoch 14:  92%|█████████▏| 60/65 [00:46<00:03,  1.28it/s, loss=0.441, v_num=13, train_loss=0.412, train_accuracy=0.853, val_loss=0.544, val_accuracy=0.742]\n",
      "Validating:  38%|███▊      | 3/8 [00:03<00:04,  1.09it/s]\u001b[A\n",
      "Epoch 14:  95%|█████████▌| 62/65 [00:47<00:02,  1.32it/s, loss=0.441, v_num=13, train_loss=0.412, train_accuracy=0.853, val_loss=0.544, val_accuracy=0.742]\n",
      "Validating:  62%|██████▎   | 5/8 [00:04<00:01,  2.20it/s]\u001b[A\n",
      "Epoch 14:  98%|█████████▊| 64/65 [00:47<00:00,  1.35it/s, loss=0.441, v_num=13, train_loss=0.412, train_accuracy=0.853, val_loss=0.544, val_accuracy=0.742]\n",
      "Validating:  88%|████████▊ | 7/8 [00:04<00:00,  3.43it/s]\u001b[A\n",
      "Epoch 14: 100%|██████████| 65/65 [00:48<00:00,  1.35it/s, loss=0.441, v_num=13, train_loss=0.412, train_accuracy=0.853, val_loss=0.530, val_accuracy=0.770]\n",
      "                                                         \u001b[A"
     ]
    },
    {
     "name": "stderr",
     "output_type": "stream",
     "text": [
      "Epoch 14, global step 854: val_loss was not in top 1\n"
     ]
    },
    {
     "name": "stdout",
     "output_type": "stream",
     "text": [
      "Epoch 15:  89%|████████▉ | 58/65 [00:43<00:05,  1.35it/s, loss=0.391, v_num=13, train_loss=0.454, train_accuracy=0.735, val_loss=0.530, val_accuracy=0.770]\n",
      "Validating: 0it [00:00, ?it/s]\u001b[A\n",
      "Validating:   0%|          | 0/8 [00:00<?, ?it/s]\u001b[A\n",
      "Validating:  12%|█▎        | 1/8 [00:03<00:26,  3.72s/it]\u001b[A\n",
      "Epoch 15:  92%|█████████▏| 60/65 [00:46<00:03,  1.28it/s, loss=0.391, v_num=13, train_loss=0.454, train_accuracy=0.735, val_loss=0.530, val_accuracy=0.770]\n",
      "Validating:  38%|███▊      | 3/8 [00:04<00:04,  1.04it/s]\u001b[A\n",
      "Epoch 15:  95%|█████████▌| 62/65 [00:47<00:02,  1.31it/s, loss=0.391, v_num=13, train_loss=0.454, train_accuracy=0.735, val_loss=0.530, val_accuracy=0.770]\n",
      "Validating:  62%|██████▎   | 5/8 [00:04<00:01,  2.11it/s]\u001b[A\n",
      "Epoch 15:  98%|█████████▊| 64/65 [00:47<00:00,  1.34it/s, loss=0.391, v_num=13, train_loss=0.454, train_accuracy=0.735, val_loss=0.530, val_accuracy=0.770]\n",
      "Validating:  88%|████████▊ | 7/8 [00:04<00:00,  3.31it/s]\u001b[A\n",
      "Epoch 15: 100%|██████████| 65/65 [00:48<00:00,  1.35it/s, loss=0.391, v_num=13, train_loss=0.454, train_accuracy=0.735, val_loss=0.450, val_accuracy=0.802]\n",
      "                                                         \u001b[A"
     ]
    },
    {
     "name": "stderr",
     "output_type": "stream",
     "text": [
      "Epoch 15, global step 911: val_loss reached 0.44981 (best 0.44981), saving model to \"/Workspace/code/checkpoints/best-checkpoint250x250-v4.ckpt\" as top 1\n"
     ]
    },
    {
     "name": "stdout",
     "output_type": "stream",
     "text": [
      "Epoch 16:  89%|████████▉ | 58/65 [00:43<00:05,  1.34it/s, loss=0.396, v_num=13, train_loss=0.386, train_accuracy=0.838, val_loss=0.450, val_accuracy=0.802]\n",
      "Validating: 0it [00:00, ?it/s]\u001b[A\n",
      "Validating:   0%|          | 0/8 [00:00<?, ?it/s]\u001b[A\n",
      "Validating:  12%|█▎        | 1/8 [00:03<00:26,  3.72s/it]\u001b[A\n",
      "Epoch 16:  92%|█████████▏| 60/65 [00:47<00:03,  1.27it/s, loss=0.396, v_num=13, train_loss=0.386, train_accuracy=0.838, val_loss=0.450, val_accuracy=0.802]\n",
      "Validating:  38%|███▊      | 3/8 [00:04<00:04,  1.04it/s]\u001b[A\n",
      "Epoch 16:  95%|█████████▌| 62/65 [00:47<00:02,  1.30it/s, loss=0.396, v_num=13, train_loss=0.386, train_accuracy=0.838, val_loss=0.450, val_accuracy=0.802]\n",
      "Validating:  62%|██████▎   | 5/8 [00:04<00:01,  2.13it/s]\u001b[A\n",
      "Epoch 16:  98%|█████████▊| 64/65 [00:47<00:00,  1.34it/s, loss=0.396, v_num=13, train_loss=0.386, train_accuracy=0.838, val_loss=0.450, val_accuracy=0.802]\n",
      "Validating:  88%|████████▊ | 7/8 [00:04<00:00,  3.36it/s]\u001b[A\n",
      "Epoch 16: 100%|██████████| 65/65 [00:48<00:00,  1.34it/s, loss=0.396, v_num=13, train_loss=0.386, train_accuracy=0.838, val_loss=0.440, val_accuracy=0.818]\n",
      "                                                         \u001b[A"
     ]
    },
    {
     "name": "stderr",
     "output_type": "stream",
     "text": [
      "Epoch 16, global step 968: val_loss reached 0.44042 (best 0.44042), saving model to \"/Workspace/code/checkpoints/best-checkpoint250x250-v4.ckpt\" as top 1\n"
     ]
    },
    {
     "name": "stdout",
     "output_type": "stream",
     "text": [
      "Epoch 17:  89%|████████▉ | 58/65 [00:43<00:05,  1.34it/s, loss=0.366, v_num=13, train_loss=0.313, train_accuracy=0.897, val_loss=0.440, val_accuracy=0.818]\n",
      "Validating: 0it [00:00, ?it/s]\u001b[A\n",
      "Validating:   0%|          | 0/8 [00:00<?, ?it/s]\u001b[A\n",
      "Validating:  12%|█▎        | 1/8 [00:03<00:25,  3.69s/it]\u001b[A\n",
      "Epoch 17:  92%|█████████▏| 60/65 [00:47<00:03,  1.27it/s, loss=0.366, v_num=13, train_loss=0.313, train_accuracy=0.897, val_loss=0.440, val_accuracy=0.818]\n",
      "Validating:  38%|███▊      | 3/8 [00:04<00:04,  1.05it/s]\u001b[A\n",
      "Epoch 17:  95%|█████████▌| 62/65 [00:47<00:02,  1.30it/s, loss=0.366, v_num=13, train_loss=0.313, train_accuracy=0.897, val_loss=0.440, val_accuracy=0.818]\n",
      "Validating:  62%|██████▎   | 5/8 [00:04<00:01,  2.13it/s]\u001b[A\n",
      "Epoch 17:  98%|█████████▊| 64/65 [00:47<00:00,  1.33it/s, loss=0.366, v_num=13, train_loss=0.313, train_accuracy=0.897, val_loss=0.440, val_accuracy=0.818]\n",
      "Validating:  88%|████████▊ | 7/8 [00:04<00:00,  3.36it/s]\u001b[A\n",
      "Epoch 17: 100%|██████████| 65/65 [00:48<00:00,  1.34it/s, loss=0.366, v_num=13, train_loss=0.313, train_accuracy=0.897, val_loss=0.413, val_accuracy=0.828]\n",
      "                                                         \u001b[A"
     ]
    },
    {
     "name": "stderr",
     "output_type": "stream",
     "text": [
      "Epoch 17, global step 1025: val_loss reached 0.41258 (best 0.41258), saving model to \"/Workspace/code/checkpoints/best-checkpoint250x250-v4.ckpt\" as top 1\n"
     ]
    },
    {
     "name": "stdout",
     "output_type": "stream",
     "text": [
      "Epoch 18:  89%|████████▉ | 58/65 [00:43<00:05,  1.34it/s, loss=0.355, v_num=13, train_loss=0.341, train_accuracy=0.824, val_loss=0.413, val_accuracy=0.828]\n",
      "Validating: 0it [00:00, ?it/s]\u001b[A\n",
      "Validating:   0%|          | 0/8 [00:00<?, ?it/s]\u001b[A\n",
      "Validating:  12%|█▎        | 1/8 [00:03<00:25,  3.67s/it]\u001b[A\n",
      "Epoch 18:  92%|█████████▏| 60/65 [00:47<00:03,  1.27it/s, loss=0.355, v_num=13, train_loss=0.341, train_accuracy=0.824, val_loss=0.413, val_accuracy=0.828]\n",
      "Validating:  38%|███▊      | 3/8 [00:04<00:04,  1.05it/s]\u001b[A\n",
      "Epoch 18:  95%|█████████▌| 62/65 [00:47<00:02,  1.31it/s, loss=0.355, v_num=13, train_loss=0.341, train_accuracy=0.824, val_loss=0.413, val_accuracy=0.828]\n",
      "Validating:  62%|██████▎   | 5/8 [00:04<00:01,  2.15it/s]\u001b[A\n",
      "Epoch 18:  98%|█████████▊| 64/65 [00:47<00:00,  1.34it/s, loss=0.355, v_num=13, train_loss=0.341, train_accuracy=0.824, val_loss=0.413, val_accuracy=0.828]\n",
      "Validating:  88%|████████▊ | 7/8 [00:04<00:00,  3.37it/s]\u001b[A\n",
      "Epoch 18: 100%|██████████| 65/65 [00:48<00:00,  1.34it/s, loss=0.355, v_num=13, train_loss=0.341, train_accuracy=0.824, val_loss=0.411, val_accuracy=0.830]\n",
      "                                                         \u001b[A"
     ]
    },
    {
     "name": "stderr",
     "output_type": "stream",
     "text": [
      "Epoch 18, global step 1082: val_loss reached 0.41110 (best 0.41110), saving model to \"/Workspace/code/checkpoints/best-checkpoint250x250-v4.ckpt\" as top 1\n"
     ]
    },
    {
     "name": "stdout",
     "output_type": "stream",
     "text": [
      "Epoch 19:  89%|████████▉ | 58/65 [00:43<00:05,  1.34it/s, loss=0.658, v_num=13, train_loss=0.658, train_accuracy=0.618, val_loss=0.411, val_accuracy=0.830]\n",
      "Validating: 0it [00:00, ?it/s]\u001b[A\n",
      "Validating:   0%|          | 0/8 [00:00<?, ?it/s]\u001b[A\n",
      "Validating:  12%|█▎        | 1/8 [00:03<00:26,  3.82s/it]\u001b[A\n",
      "Epoch 19:  92%|█████████▏| 60/65 [00:47<00:03,  1.27it/s, loss=0.658, v_num=13, train_loss=0.658, train_accuracy=0.618, val_loss=0.411, val_accuracy=0.830]\n",
      "Validating:  38%|███▊      | 3/8 [00:04<00:04,  1.02it/s]\u001b[A\n",
      "Epoch 19:  95%|█████████▌| 62/65 [00:47<00:02,  1.30it/s, loss=0.658, v_num=13, train_loss=0.658, train_accuracy=0.618, val_loss=0.411, val_accuracy=0.830]\n",
      "Validating:  62%|██████▎   | 5/8 [00:04<00:01,  2.09it/s]\u001b[A\n",
      "Epoch 19:  98%|█████████▊| 64/65 [00:47<00:00,  1.33it/s, loss=0.658, v_num=13, train_loss=0.658, train_accuracy=0.618, val_loss=0.411, val_accuracy=0.830]\n",
      "Validating:  88%|████████▊ | 7/8 [00:04<00:00,  3.32it/s]\u001b[A\n",
      "Epoch 19: 100%|██████████| 65/65 [00:48<00:00,  1.34it/s, loss=0.658, v_num=13, train_loss=0.658, train_accuracy=0.618, val_loss=0.661, val_accuracy=0.622]\n",
      "                                                         \u001b[A"
     ]
    },
    {
     "name": "stderr",
     "output_type": "stream",
     "text": [
      "Epoch 19, global step 1139: val_loss was not in top 1\n"
     ]
    },
    {
     "name": "stdout",
     "output_type": "stream",
     "text": [
      "Epoch 20:  89%|████████▉ | 58/65 [00:43<00:05,  1.34it/s, loss=0.616, v_num=13, train_loss=0.608, train_accuracy=0.662, val_loss=0.661, val_accuracy=0.622]\n",
      "Validating: 0it [00:00, ?it/s]\u001b[A\n",
      "Validating:   0%|          | 0/8 [00:00<?, ?it/s]\u001b[A\n",
      "Validating:  12%|█▎        | 1/8 [00:03<00:24,  3.53s/it]\u001b[A\n",
      "Epoch 20:  92%|█████████▏| 60/65 [00:46<00:03,  1.28it/s, loss=0.616, v_num=13, train_loss=0.608, train_accuracy=0.662, val_loss=0.661, val_accuracy=0.622]\n",
      "Validating:  38%|███▊      | 3/8 [00:03<00:04,  1.09it/s]\u001b[A\n",
      "Epoch 20:  95%|█████████▌| 62/65 [00:47<00:02,  1.31it/s, loss=0.616, v_num=13, train_loss=0.608, train_accuracy=0.662, val_loss=0.661, val_accuracy=0.622]\n",
      "Validating:  62%|██████▎   | 5/8 [00:04<00:01,  2.20it/s]\u001b[A\n",
      "Epoch 20:  98%|█████████▊| 64/65 [00:47<00:00,  1.34it/s, loss=0.616, v_num=13, train_loss=0.608, train_accuracy=0.662, val_loss=0.661, val_accuracy=0.622]\n",
      "Validating:  88%|████████▊ | 7/8 [00:04<00:00,  3.43it/s]\u001b[A\n",
      "Epoch 20: 100%|██████████| 65/65 [00:48<00:00,  1.35it/s, loss=0.616, v_num=13, train_loss=0.608, train_accuracy=0.662, val_loss=0.635, val_accuracy=0.637]\n",
      "                                                         \u001b[A"
     ]
    },
    {
     "name": "stderr",
     "output_type": "stream",
     "text": [
      "Epoch 20, global step 1196: val_loss was not in top 1\n"
     ]
    },
    {
     "name": "stdout",
     "output_type": "stream",
     "text": [
      "Epoch 21:  89%|████████▉ | 58/65 [00:43<00:05,  1.35it/s, loss=0.586, v_num=13, train_loss=0.553, train_accuracy=0.750, val_loss=0.635, val_accuracy=0.637]\n",
      "Validating: 0it [00:00, ?it/s]\u001b[A\n",
      "Validating:   0%|          | 0/8 [00:00<?, ?it/s]\u001b[A\n",
      "Validating:  12%|█▎        | 1/8 [00:03<00:26,  3.73s/it]\u001b[A\n",
      "Epoch 21:  92%|█████████▏| 60/65 [00:46<00:03,  1.28it/s, loss=0.586, v_num=13, train_loss=0.553, train_accuracy=0.750, val_loss=0.635, val_accuracy=0.637]\n",
      "Validating:  38%|███▊      | 3/8 [00:04<00:04,  1.04it/s]\u001b[A\n",
      "Epoch 21:  95%|█████████▌| 62/65 [00:47<00:02,  1.31it/s, loss=0.586, v_num=13, train_loss=0.553, train_accuracy=0.750, val_loss=0.635, val_accuracy=0.637]\n",
      "Validating:  62%|██████▎   | 5/8 [00:04<00:01,  2.12it/s]\u001b[A\n",
      "Epoch 21:  98%|█████████▊| 64/65 [00:47<00:00,  1.34it/s, loss=0.586, v_num=13, train_loss=0.553, train_accuracy=0.750, val_loss=0.635, val_accuracy=0.637]\n",
      "Validating:  88%|████████▊ | 7/8 [00:04<00:00,  3.35it/s]\u001b[A\n",
      "Epoch 21: 100%|██████████| 65/65 [00:48<00:00,  1.35it/s, loss=0.586, v_num=13, train_loss=0.553, train_accuracy=0.750, val_loss=0.608, val_accuracy=0.658]\n",
      "                                                         \u001b[A"
     ]
    },
    {
     "name": "stderr",
     "output_type": "stream",
     "text": [
      "Epoch 21, global step 1253: val_loss was not in top 1\n"
     ]
    },
    {
     "name": "stdout",
     "output_type": "stream",
     "text": [
      "Epoch 22:  89%|████████▉ | 58/65 [00:43<00:05,  1.34it/s, loss=0.548, v_num=13, train_loss=0.479, train_accuracy=0.779, val_loss=0.608, val_accuracy=0.658]\n",
      "Validating: 0it [00:00, ?it/s]\u001b[A\n",
      "Validating:   0%|          | 0/8 [00:00<?, ?it/s]\u001b[A\n",
      "Validating:  12%|█▎        | 1/8 [00:03<00:24,  3.55s/it]\u001b[A\n",
      "Epoch 22:  92%|█████████▏| 60/65 [00:46<00:03,  1.28it/s, loss=0.548, v_num=13, train_loss=0.479, train_accuracy=0.779, val_loss=0.608, val_accuracy=0.658]\n",
      "Validating:  38%|███▊      | 3/8 [00:03<00:04,  1.09it/s]\u001b[A\n",
      "Epoch 22:  95%|█████████▌| 62/65 [00:47<00:02,  1.31it/s, loss=0.548, v_num=13, train_loss=0.479, train_accuracy=0.779, val_loss=0.608, val_accuracy=0.658]\n",
      "Validating:  62%|██████▎   | 5/8 [00:04<00:01,  2.19it/s]\u001b[A\n",
      "Epoch 22:  98%|█████████▊| 64/65 [00:47<00:00,  1.34it/s, loss=0.548, v_num=13, train_loss=0.479, train_accuracy=0.779, val_loss=0.608, val_accuracy=0.658]\n",
      "Validating:  88%|████████▊ | 7/8 [00:04<00:00,  3.44it/s]\u001b[A\n",
      "Epoch 22: 100%|██████████| 65/65 [00:48<00:00,  1.35it/s, loss=0.548, v_num=13, train_loss=0.479, train_accuracy=0.779, val_loss=0.576, val_accuracy=0.688]\n",
      "                                                         \u001b[A"
     ]
    },
    {
     "name": "stderr",
     "output_type": "stream",
     "text": [
      "Epoch 22, global step 1310: val_loss was not in top 1\n"
     ]
    },
    {
     "name": "stdout",
     "output_type": "stream",
     "text": [
      "Epoch 23:  89%|████████▉ | 58/65 [00:43<00:05,  1.33it/s, loss=0.494, v_num=13, train_loss=0.600, train_accuracy=0.676, val_loss=0.576, val_accuracy=0.688]\n",
      "Validating: 0it [00:00, ?it/s]\u001b[A\n",
      "Validating:   0%|          | 0/8 [00:00<?, ?it/s]\u001b[A\n",
      "Validating:  12%|█▎        | 1/8 [00:03<00:25,  3.61s/it]\u001b[A\n",
      "Epoch 23:  92%|█████████▏| 60/65 [00:47<00:03,  1.27it/s, loss=0.494, v_num=13, train_loss=0.600, train_accuracy=0.676, val_loss=0.576, val_accuracy=0.688]\n",
      "Validating:  38%|███▊      | 3/8 [00:03<00:04,  1.06it/s]\u001b[A\n",
      "Epoch 23:  95%|█████████▌| 62/65 [00:47<00:02,  1.30it/s, loss=0.494, v_num=13, train_loss=0.600, train_accuracy=0.676, val_loss=0.576, val_accuracy=0.688]\n",
      "Validating:  62%|██████▎   | 5/8 [00:04<00:01,  2.16it/s]\u001b[A\n",
      "Epoch 23:  98%|█████████▊| 64/65 [00:47<00:00,  1.34it/s, loss=0.494, v_num=13, train_loss=0.600, train_accuracy=0.676, val_loss=0.576, val_accuracy=0.688]\n",
      "Validating:  88%|████████▊ | 7/8 [00:04<00:00,  3.39it/s]\u001b[A\n",
      "Epoch 23: 100%|██████████| 65/65 [00:48<00:00,  1.34it/s, loss=0.494, v_num=13, train_loss=0.600, train_accuracy=0.676, val_loss=0.533, val_accuracy=0.723]\n",
      "                                                         \u001b[A"
     ]
    },
    {
     "name": "stderr",
     "output_type": "stream",
     "text": [
      "Epoch 23, global step 1367: val_loss was not in top 1\n"
     ]
    },
    {
     "name": "stdout",
     "output_type": "stream",
     "text": [
      "Epoch 24:  89%|████████▉ | 58/65 [00:43<00:05,  1.34it/s, loss=0.43, v_num=13, train_loss=0.436, train_accuracy=0.809, val_loss=0.533, val_accuracy=0.723] \n",
      "Validating: 0it [00:00, ?it/s]\u001b[A\n",
      "Validating:   0%|          | 0/8 [00:00<?, ?it/s]\u001b[A\n",
      "Validating:  12%|█▎        | 1/8 [00:03<00:25,  3.66s/it]\u001b[A\n",
      "Epoch 24:  92%|█████████▏| 60/65 [00:47<00:03,  1.27it/s, loss=0.43, v_num=13, train_loss=0.436, train_accuracy=0.809, val_loss=0.533, val_accuracy=0.723]\n",
      "Validating:  38%|███▊      | 3/8 [00:03<00:04,  1.06it/s]\u001b[A\n",
      "Epoch 24:  95%|█████████▌| 62/65 [00:47<00:02,  1.30it/s, loss=0.43, v_num=13, train_loss=0.436, train_accuracy=0.809, val_loss=0.533, val_accuracy=0.723]\n",
      "Validating:  62%|██████▎   | 5/8 [00:04<00:01,  2.16it/s]\u001b[A\n",
      "Epoch 24:  98%|█████████▊| 64/65 [00:47<00:00,  1.34it/s, loss=0.43, v_num=13, train_loss=0.436, train_accuracy=0.809, val_loss=0.533, val_accuracy=0.723]\n",
      "Validating:  88%|████████▊ | 7/8 [00:04<00:00,  3.40it/s]\u001b[A\n",
      "Epoch 24: 100%|██████████| 65/65 [00:48<00:00,  1.34it/s, loss=0.43, v_num=13, train_loss=0.436, train_accuracy=0.809, val_loss=0.477, val_accuracy=0.776]\n",
      "                                                         \u001b[A"
     ]
    },
    {
     "name": "stderr",
     "output_type": "stream",
     "text": [
      "Epoch 24, global step 1424: val_loss was not in top 1\n"
     ]
    },
    {
     "name": "stdout",
     "output_type": "stream",
     "text": [
      "Epoch 25:  89%|████████▉ | 58/65 [00:43<00:05,  1.34it/s, loss=0.383, v_num=13, train_loss=0.363, train_accuracy=0.868, val_loss=0.477, val_accuracy=0.776]\n",
      "Validating: 0it [00:00, ?it/s]\u001b[A\n",
      "Validating:   0%|          | 0/8 [00:00<?, ?it/s]\u001b[A\n",
      "Validating:  12%|█▎        | 1/8 [00:03<00:25,  3.63s/it]\u001b[A\n",
      "Epoch 25:  92%|█████████▏| 60/65 [00:47<00:03,  1.27it/s, loss=0.383, v_num=13, train_loss=0.363, train_accuracy=0.868, val_loss=0.477, val_accuracy=0.776]\n",
      "Validating:  38%|███▊      | 3/8 [00:03<00:04,  1.06it/s]\u001b[A\n",
      "Epoch 25:  95%|█████████▌| 62/65 [00:47<00:02,  1.31it/s, loss=0.383, v_num=13, train_loss=0.363, train_accuracy=0.868, val_loss=0.477, val_accuracy=0.776]\n",
      "Validating:  62%|██████▎   | 5/8 [00:04<00:01,  2.16it/s]\u001b[A\n",
      "Epoch 25:  98%|█████████▊| 64/65 [00:47<00:00,  1.34it/s, loss=0.383, v_num=13, train_loss=0.363, train_accuracy=0.868, val_loss=0.477, val_accuracy=0.776]\n",
      "Validating:  88%|████████▊ | 7/8 [00:04<00:00,  3.39it/s]\u001b[A\n",
      "Epoch 25: 100%|██████████| 65/65 [00:48<00:00,  1.34it/s, loss=0.383, v_num=13, train_loss=0.363, train_accuracy=0.868, val_loss=0.457, val_accuracy=0.812]\n",
      "                                                         \u001b[A"
     ]
    },
    {
     "name": "stderr",
     "output_type": "stream",
     "text": [
      "Epoch 25, global step 1481: val_loss was not in top 1\n"
     ]
    },
    {
     "name": "stdout",
     "output_type": "stream",
     "text": [
      "Epoch 26:  89%|████████▉ | 58/65 [00:43<00:05,  1.34it/s, loss=0.389, v_num=13, train_loss=0.400, train_accuracy=0.794, val_loss=0.457, val_accuracy=0.812]\n",
      "Validating: 0it [00:00, ?it/s]\u001b[A\n",
      "Validating:   0%|          | 0/8 [00:00<?, ?it/s]\u001b[A\n",
      "Validating:  12%|█▎        | 1/8 [00:03<00:25,  3.58s/it]\u001b[A\n",
      "Epoch 26:  92%|█████████▏| 60/65 [00:47<00:03,  1.27it/s, loss=0.389, v_num=13, train_loss=0.400, train_accuracy=0.794, val_loss=0.457, val_accuracy=0.812]\n",
      "Validating:  38%|███▊      | 3/8 [00:03<00:04,  1.08it/s]\u001b[A\n",
      "Epoch 26:  95%|█████████▌| 62/65 [00:47<00:02,  1.31it/s, loss=0.389, v_num=13, train_loss=0.400, train_accuracy=0.794, val_loss=0.457, val_accuracy=0.812]\n",
      "Validating:  62%|██████▎   | 5/8 [00:04<00:01,  2.18it/s]\u001b[A\n",
      "Epoch 26:  98%|█████████▊| 64/65 [00:47<00:00,  1.34it/s, loss=0.389, v_num=13, train_loss=0.400, train_accuracy=0.794, val_loss=0.457, val_accuracy=0.812]\n",
      "Validating:  88%|████████▊ | 7/8 [00:04<00:00,  3.42it/s]\u001b[A\n",
      "Epoch 26: 100%|██████████| 65/65 [00:48<00:00,  1.34it/s, loss=0.389, v_num=13, train_loss=0.400, train_accuracy=0.794, val_loss=0.490, val_accuracy=0.796]\n",
      "                                                         \u001b[A"
     ]
    },
    {
     "name": "stderr",
     "output_type": "stream",
     "text": [
      "Epoch 26, global step 1538: val_loss was not in top 1\n"
     ]
    },
    {
     "name": "stdout",
     "output_type": "stream",
     "text": [
      "Epoch 27:  89%|████████▉ | 58/65 [00:43<00:05,  1.34it/s, loss=0.529, v_num=13, train_loss=0.580, train_accuracy=0.735, val_loss=0.490, val_accuracy=0.796]\n",
      "Validating: 0it [00:00, ?it/s]\u001b[A\n",
      "Validating:   0%|          | 0/8 [00:00<?, ?it/s]\u001b[A\n",
      "Validating:  12%|█▎        | 1/8 [00:03<00:26,  3.79s/it]\u001b[A\n",
      "Epoch 27:  92%|█████████▏| 60/65 [00:47<00:03,  1.27it/s, loss=0.529, v_num=13, train_loss=0.580, train_accuracy=0.735, val_loss=0.490, val_accuracy=0.796]\n",
      "Validating:  38%|███▊      | 3/8 [00:04<00:04,  1.03it/s]\u001b[A\n",
      "Epoch 27:  95%|█████████▌| 62/65 [00:47<00:02,  1.30it/s, loss=0.529, v_num=13, train_loss=0.580, train_accuracy=0.735, val_loss=0.490, val_accuracy=0.796]\n",
      "Validating:  62%|██████▎   | 5/8 [00:04<00:01,  2.10it/s]\u001b[A\n",
      "Epoch 27:  98%|█████████▊| 64/65 [00:47<00:00,  1.34it/s, loss=0.529, v_num=13, train_loss=0.580, train_accuracy=0.735, val_loss=0.490, val_accuracy=0.796]\n",
      "Validating:  88%|████████▊ | 7/8 [00:04<00:00,  3.32it/s]\u001b[A\n",
      "Epoch 27: 100%|██████████| 65/65 [00:48<00:00,  1.34it/s, loss=0.529, v_num=13, train_loss=0.580, train_accuracy=0.735, val_loss=0.577, val_accuracy=0.754]\n",
      "                                                         \u001b[A"
     ]
    },
    {
     "name": "stderr",
     "output_type": "stream",
     "text": [
      "Epoch 27, global step 1595: val_loss was not in top 1\n"
     ]
    },
    {
     "name": "stdout",
     "output_type": "stream",
     "text": [
      "Epoch 28:  89%|████████▉ | 58/65 [00:43<00:05,  1.34it/s, loss=0.381, v_num=13, train_loss=0.276, train_accuracy=0.897, val_loss=0.577, val_accuracy=0.754]\n",
      "Validating: 0it [00:00, ?it/s]\u001b[A\n",
      "Validating:   0%|          | 0/8 [00:00<?, ?it/s]\u001b[A\n",
      "Validating:  12%|█▎        | 1/8 [00:03<00:25,  3.65s/it]\u001b[A\n",
      "Epoch 28:  92%|█████████▏| 60/65 [00:47<00:03,  1.27it/s, loss=0.381, v_num=13, train_loss=0.276, train_accuracy=0.897, val_loss=0.577, val_accuracy=0.754]\n",
      "Validating:  38%|███▊      | 3/8 [00:03<00:04,  1.06it/s]\u001b[A\n",
      "Epoch 28:  95%|█████████▌| 62/65 [00:47<00:02,  1.30it/s, loss=0.381, v_num=13, train_loss=0.276, train_accuracy=0.897, val_loss=0.577, val_accuracy=0.754]\n",
      "Validating:  62%|██████▎   | 5/8 [00:04<00:01,  2.15it/s]\u001b[A\n",
      "Epoch 28:  98%|█████████▊| 64/65 [00:47<00:00,  1.34it/s, loss=0.381, v_num=13, train_loss=0.276, train_accuracy=0.897, val_loss=0.577, val_accuracy=0.754]\n",
      "Validating:  88%|████████▊ | 7/8 [00:04<00:00,  3.39it/s]\u001b[A\n",
      "Epoch 28: 100%|██████████| 65/65 [00:48<00:00,  1.34it/s, loss=0.381, v_num=13, train_loss=0.276, train_accuracy=0.897, val_loss=0.447, val_accuracy=0.811]\n",
      "                                                         \u001b[A"
     ]
    },
    {
     "name": "stderr",
     "output_type": "stream",
     "text": [
      "Epoch 28, global step 1652: val_loss was not in top 1\n"
     ]
    },
    {
     "name": "stdout",
     "output_type": "stream",
     "text": [
      "Epoch 29:  89%|████████▉ | 58/65 [00:43<00:05,  1.34it/s, loss=0.328, v_num=13, train_loss=0.371, train_accuracy=0.853, val_loss=0.447, val_accuracy=0.811]\n",
      "Validating: 0it [00:00, ?it/s]\u001b[A\n",
      "Validating:   0%|          | 0/8 [00:00<?, ?it/s]\u001b[A\n",
      "Validating:  12%|█▎        | 1/8 [00:04<00:28,  4.05s/it]\u001b[A\n",
      "Epoch 29:  92%|█████████▏| 60/65 [00:47<00:03,  1.26it/s, loss=0.328, v_num=13, train_loss=0.371, train_accuracy=0.853, val_loss=0.447, val_accuracy=0.811]\n",
      "Validating:  38%|███▊      | 3/8 [00:04<00:05,  1.03s/it]\u001b[A\n",
      "Epoch 29:  95%|█████████▌| 62/65 [00:47<00:02,  1.29it/s, loss=0.328, v_num=13, train_loss=0.371, train_accuracy=0.853, val_loss=0.447, val_accuracy=0.811]\n",
      "Validating:  62%|██████▎   | 5/8 [00:04<00:01,  2.00it/s]\u001b[A\n",
      "Epoch 29:  98%|█████████▊| 64/65 [00:48<00:00,  1.33it/s, loss=0.328, v_num=13, train_loss=0.371, train_accuracy=0.853, val_loss=0.447, val_accuracy=0.811]\n",
      "Validating:  88%|████████▊ | 7/8 [00:05<00:00,  3.20it/s]\u001b[A\n",
      "Epoch 29: 100%|██████████| 65/65 [00:48<00:00,  1.33it/s, loss=0.328, v_num=13, train_loss=0.371, train_accuracy=0.853, val_loss=0.430, val_accuracy=0.833]\n",
      "                                                         \u001b[A"
     ]
    },
    {
     "name": "stderr",
     "output_type": "stream",
     "text": [
      "Epoch 29, global step 1709: val_loss was not in top 1\n"
     ]
    },
    {
     "name": "stdout",
     "output_type": "stream",
     "text": [
      "Epoch 30:  89%|████████▉ | 58/65 [00:43<00:05,  1.33it/s, loss=0.347, v_num=13, train_loss=0.341, train_accuracy=0.853, val_loss=0.430, val_accuracy=0.833]\n",
      "Validating: 0it [00:00, ?it/s]\u001b[A\n",
      "Validating:   0%|          | 0/8 [00:00<?, ?it/s]\u001b[A\n",
      "Validating:  12%|█▎        | 1/8 [00:03<00:25,  3.62s/it]\u001b[A\n",
      "Epoch 30:  92%|█████████▏| 60/65 [00:47<00:03,  1.27it/s, loss=0.347, v_num=13, train_loss=0.341, train_accuracy=0.853, val_loss=0.430, val_accuracy=0.833]\n",
      "Validating:  38%|███▊      | 3/8 [00:03<00:04,  1.07it/s]\u001b[A\n",
      "Epoch 30:  95%|█████████▌| 62/65 [00:47<00:02,  1.30it/s, loss=0.347, v_num=13, train_loss=0.341, train_accuracy=0.853, val_loss=0.430, val_accuracy=0.833]\n",
      "Validating:  62%|██████▎   | 5/8 [00:04<00:01,  2.17it/s]\u001b[A\n",
      "Epoch 30:  98%|█████████▊| 64/65 [00:47<00:00,  1.33it/s, loss=0.347, v_num=13, train_loss=0.341, train_accuracy=0.853, val_loss=0.430, val_accuracy=0.833]\n",
      "Validating:  88%|████████▊ | 7/8 [00:04<00:00,  3.40it/s]\u001b[A\n",
      "Epoch 30: 100%|██████████| 65/65 [00:48<00:00,  1.34it/s, loss=0.347, v_num=13, train_loss=0.341, train_accuracy=0.853, val_loss=0.405, val_accuracy=0.846]\n",
      "                                                         \u001b[A"
     ]
    },
    {
     "name": "stderr",
     "output_type": "stream",
     "text": [
      "Epoch 30, global step 1766: val_loss reached 0.40456 (best 0.40456), saving model to \"/Workspace/code/checkpoints/best-checkpoint250x250-v4.ckpt\" as top 1\n"
     ]
    },
    {
     "name": "stdout",
     "output_type": "stream",
     "text": [
      "Epoch 31:  89%|████████▉ | 58/65 [00:43<00:05,  1.33it/s, loss=0.328, v_num=13, train_loss=0.312, train_accuracy=0.838, val_loss=0.405, val_accuracy=0.846]\n",
      "Validating: 0it [00:00, ?it/s]\u001b[A\n",
      "Validating:   0%|          | 0/8 [00:00<?, ?it/s]\u001b[A\n",
      "Validating:  12%|█▎        | 1/8 [00:03<00:25,  3.62s/it]\u001b[A\n",
      "Epoch 31:  92%|█████████▏| 60/65 [00:47<00:03,  1.27it/s, loss=0.328, v_num=13, train_loss=0.312, train_accuracy=0.838, val_loss=0.405, val_accuracy=0.846]\n",
      "Validating:  38%|███▊      | 3/8 [00:03<00:04,  1.06it/s]\u001b[A\n",
      "Epoch 31:  95%|█████████▌| 62/65 [00:47<00:02,  1.30it/s, loss=0.328, v_num=13, train_loss=0.312, train_accuracy=0.838, val_loss=0.405, val_accuracy=0.846]\n",
      "Validating:  62%|██████▎   | 5/8 [00:04<00:01,  2.16it/s]\u001b[A\n",
      "Epoch 31:  98%|█████████▊| 64/65 [00:48<00:00,  1.33it/s, loss=0.328, v_num=13, train_loss=0.312, train_accuracy=0.838, val_loss=0.405, val_accuracy=0.846]\n",
      "Validating:  88%|████████▊ | 7/8 [00:04<00:00,  3.40it/s]\u001b[A\n",
      "Epoch 31: 100%|██████████| 65/65 [00:48<00:00,  1.34it/s, loss=0.328, v_num=13, train_loss=0.312, train_accuracy=0.838, val_loss=0.430, val_accuracy=0.837]\n",
      "                                                         \u001b[A"
     ]
    },
    {
     "name": "stderr",
     "output_type": "stream",
     "text": [
      "Epoch 31, global step 1823: val_loss was not in top 1\n"
     ]
    },
    {
     "name": "stdout",
     "output_type": "stream",
     "text": [
      "Epoch 32:  89%|████████▉ | 58/65 [00:43<00:05,  1.34it/s, loss=0.351, v_num=13, train_loss=0.426, train_accuracy=0.809, val_loss=0.430, val_accuracy=0.837]\n",
      "Validating: 0it [00:00, ?it/s]\u001b[A\n",
      "Validating:   0%|          | 0/8 [00:00<?, ?it/s]\u001b[A\n",
      "Validating:  12%|█▎        | 1/8 [00:03<00:24,  3.53s/it]\u001b[A\n",
      "Epoch 32:  92%|█████████▏| 60/65 [00:47<00:03,  1.27it/s, loss=0.351, v_num=13, train_loss=0.426, train_accuracy=0.809, val_loss=0.430, val_accuracy=0.837]\n",
      "Validating:  38%|███▊      | 3/8 [00:03<00:04,  1.09it/s]\u001b[A\n",
      "Epoch 32:  95%|█████████▌| 62/65 [00:47<00:02,  1.31it/s, loss=0.351, v_num=13, train_loss=0.426, train_accuracy=0.809, val_loss=0.430, val_accuracy=0.837]\n",
      "Validating:  62%|██████▎   | 5/8 [00:04<00:01,  2.20it/s]\u001b[A\n",
      "Epoch 32:  98%|█████████▊| 64/65 [00:47<00:00,  1.34it/s, loss=0.351, v_num=13, train_loss=0.426, train_accuracy=0.809, val_loss=0.430, val_accuracy=0.837]\n",
      "Validating:  88%|████████▊ | 7/8 [00:04<00:00,  3.43it/s]\u001b[A\n",
      "Epoch 32: 100%|██████████| 65/65 [00:48<00:00,  1.34it/s, loss=0.351, v_num=13, train_loss=0.426, train_accuracy=0.809, val_loss=0.464, val_accuracy=0.808]\n",
      "                                                         \u001b[A"
     ]
    },
    {
     "name": "stderr",
     "output_type": "stream",
     "text": [
      "Epoch 32, global step 1880: val_loss was not in top 1\n"
     ]
    },
    {
     "name": "stdout",
     "output_type": "stream",
     "text": [
      "Epoch 33:  89%|████████▉ | 58/65 [00:43<00:05,  1.34it/s, loss=0.328, v_num=13, train_loss=0.288, train_accuracy=0.868, val_loss=0.464, val_accuracy=0.808]\n",
      "Validating: 0it [00:00, ?it/s]\u001b[A\n",
      "Validating:   0%|          | 0/8 [00:00<?, ?it/s]\u001b[A\n",
      "Validating:  12%|█▎        | 1/8 [00:03<00:25,  3.59s/it]\u001b[A\n",
      "Epoch 33:  92%|█████████▏| 60/65 [00:47<00:03,  1.27it/s, loss=0.328, v_num=13, train_loss=0.288, train_accuracy=0.868, val_loss=0.464, val_accuracy=0.808]\n",
      "Validating:  38%|███▊      | 3/8 [00:03<00:04,  1.07it/s]\u001b[A\n",
      "Epoch 33:  95%|█████████▌| 62/65 [00:47<00:02,  1.31it/s, loss=0.328, v_num=13, train_loss=0.288, train_accuracy=0.868, val_loss=0.464, val_accuracy=0.808]\n",
      "Validating:  62%|██████▎   | 5/8 [00:04<00:01,  2.17it/s]\u001b[A\n",
      "Epoch 33:  98%|█████████▊| 64/65 [00:47<00:00,  1.34it/s, loss=0.328, v_num=13, train_loss=0.288, train_accuracy=0.868, val_loss=0.464, val_accuracy=0.808]\n",
      "Validating:  88%|████████▊ | 7/8 [00:04<00:00,  3.41it/s]\u001b[A\n",
      "Epoch 33: 100%|██████████| 65/65 [00:48<00:00,  1.34it/s, loss=0.328, v_num=13, train_loss=0.288, train_accuracy=0.868, val_loss=0.429, val_accuracy=0.835]\n",
      "                                                         \u001b[A"
     ]
    },
    {
     "name": "stderr",
     "output_type": "stream",
     "text": [
      "Epoch 33, global step 1937: val_loss was not in top 1\n"
     ]
    },
    {
     "name": "stdout",
     "output_type": "stream",
     "text": [
      "Epoch 34:  89%|████████▉ | 58/65 [00:43<00:05,  1.33it/s, loss=0.323, v_num=13, train_loss=0.377, train_accuracy=0.882, val_loss=0.429, val_accuracy=0.835]\n",
      "Validating: 0it [00:00, ?it/s]\u001b[A\n",
      "Validating:   0%|          | 0/8 [00:00<?, ?it/s]\u001b[A\n",
      "Validating:  12%|█▎        | 1/8 [00:03<00:25,  3.67s/it]\u001b[A\n",
      "Epoch 34:  92%|█████████▏| 60/65 [00:47<00:03,  1.27it/s, loss=0.323, v_num=13, train_loss=0.377, train_accuracy=0.882, val_loss=0.429, val_accuracy=0.835]\n",
      "Validating:  38%|███▊      | 3/8 [00:03<00:04,  1.05it/s]\u001b[A\n",
      "Epoch 34:  95%|█████████▌| 62/65 [00:47<00:02,  1.30it/s, loss=0.323, v_num=13, train_loss=0.377, train_accuracy=0.882, val_loss=0.429, val_accuracy=0.835]\n",
      "Validating:  62%|██████▎   | 5/8 [00:04<00:01,  2.15it/s]\u001b[A\n",
      "Epoch 34:  98%|█████████▊| 64/65 [00:47<00:00,  1.33it/s, loss=0.323, v_num=13, train_loss=0.377, train_accuracy=0.882, val_loss=0.429, val_accuracy=0.835]\n",
      "Validating:  88%|████████▊ | 7/8 [00:04<00:00,  3.38it/s]\u001b[A\n",
      "Epoch 34: 100%|██████████| 65/65 [00:48<00:00,  1.34it/s, loss=0.323, v_num=13, train_loss=0.377, train_accuracy=0.882, val_loss=0.512, val_accuracy=0.796]\n",
      "                                                         \u001b[A"
     ]
    },
    {
     "name": "stderr",
     "output_type": "stream",
     "text": [
      "Epoch 34, global step 1994: val_loss was not in top 1\n"
     ]
    },
    {
     "name": "stdout",
     "output_type": "stream",
     "text": [
      "Epoch 35:  89%|████████▉ | 58/65 [00:43<00:05,  1.34it/s, loss=0.332, v_num=13, train_loss=0.373, train_accuracy=0.809, val_loss=0.512, val_accuracy=0.796]\n",
      "Validating: 0it [00:00, ?it/s]\u001b[A\n",
      "Validating:   0%|          | 0/8 [00:00<?, ?it/s]\u001b[A\n",
      "Validating:  12%|█▎        | 1/8 [00:03<00:25,  3.68s/it]\u001b[A\n",
      "Epoch 35:  92%|█████████▏| 60/65 [00:47<00:03,  1.27it/s, loss=0.332, v_num=13, train_loss=0.373, train_accuracy=0.809, val_loss=0.512, val_accuracy=0.796]\n",
      "Validating:  38%|███▊      | 3/8 [00:04<00:04,  1.05it/s]\u001b[A\n",
      "Epoch 35:  95%|█████████▌| 62/65 [00:47<00:02,  1.31it/s, loss=0.332, v_num=13, train_loss=0.373, train_accuracy=0.809, val_loss=0.512, val_accuracy=0.796]\n",
      "Validating:  62%|██████▎   | 5/8 [00:04<00:01,  2.12it/s]\u001b[A\n",
      "Epoch 35:  98%|█████████▊| 64/65 [00:47<00:00,  1.34it/s, loss=0.332, v_num=13, train_loss=0.373, train_accuracy=0.809, val_loss=0.512, val_accuracy=0.796]\n",
      "Validating:  88%|████████▊ | 7/8 [00:04<00:00,  3.34it/s]\u001b[A\n",
      "Epoch 35: 100%|██████████| 65/65 [00:48<00:00,  1.34it/s, loss=0.332, v_num=13, train_loss=0.373, train_accuracy=0.809, val_loss=0.472, val_accuracy=0.822]\n",
      "                                                         \u001b[A"
     ]
    },
    {
     "name": "stderr",
     "output_type": "stream",
     "text": [
      "Epoch 35, global step 2051: val_loss was not in top 1\n"
     ]
    },
    {
     "name": "stdout",
     "output_type": "stream",
     "text": [
      "Epoch 36:  89%|████████▉ | 58/65 [00:43<00:05,  1.33it/s, loss=0.302, v_num=13, train_loss=0.356, train_accuracy=0.853, val_loss=0.472, val_accuracy=0.822]\n",
      "Validating: 0it [00:00, ?it/s]\u001b[A\n",
      "Validating:   0%|          | 0/8 [00:00<?, ?it/s]\u001b[A\n",
      "Validating:  12%|█▎        | 1/8 [00:03<00:26,  3.82s/it]\u001b[A\n",
      "Epoch 36:  92%|█████████▏| 60/65 [00:47<00:03,  1.26it/s, loss=0.302, v_num=13, train_loss=0.356, train_accuracy=0.853, val_loss=0.472, val_accuracy=0.822]\n",
      "Validating:  38%|███▊      | 3/8 [00:04<00:04,  1.02it/s]\u001b[A\n",
      "Epoch 36:  95%|█████████▌| 62/65 [00:47<00:02,  1.30it/s, loss=0.302, v_num=13, train_loss=0.356, train_accuracy=0.853, val_loss=0.472, val_accuracy=0.822]\n",
      "Validating:  62%|██████▎   | 5/8 [00:04<00:01,  2.08it/s]\u001b[A\n",
      "Epoch 36:  98%|█████████▊| 64/65 [00:48<00:00,  1.33it/s, loss=0.302, v_num=13, train_loss=0.356, train_accuracy=0.853, val_loss=0.472, val_accuracy=0.822]\n",
      "Validating:  88%|████████▊ | 7/8 [00:04<00:00,  3.29it/s]\u001b[A\n",
      "Epoch 36: 100%|██████████| 65/65 [00:48<00:00,  1.33it/s, loss=0.302, v_num=13, train_loss=0.356, train_accuracy=0.853, val_loss=0.389, val_accuracy=0.858]\n",
      "                                                         \u001b[A"
     ]
    },
    {
     "name": "stderr",
     "output_type": "stream",
     "text": [
      "Epoch 36, global step 2108: val_loss reached 0.38926 (best 0.38926), saving model to \"/Workspace/code/checkpoints/best-checkpoint250x250-v4.ckpt\" as top 1\n"
     ]
    },
    {
     "name": "stdout",
     "output_type": "stream",
     "text": [
      "Epoch 37:  89%|████████▉ | 58/65 [00:43<00:05,  1.33it/s, loss=0.279, v_num=13, train_loss=0.260, train_accuracy=0.897, val_loss=0.389, val_accuracy=0.858]\n",
      "Validating: 0it [00:00, ?it/s]\u001b[A\n",
      "Validating:   0%|          | 0/8 [00:00<?, ?it/s]\u001b[A\n",
      "Validating:  12%|█▎        | 1/8 [00:03<00:25,  3.66s/it]\u001b[A\n",
      "Epoch 37:  92%|█████████▏| 60/65 [00:47<00:03,  1.27it/s, loss=0.279, v_num=13, train_loss=0.260, train_accuracy=0.897, val_loss=0.389, val_accuracy=0.858]\n",
      "Validating:  38%|███▊      | 3/8 [00:03<00:04,  1.06it/s]\u001b[A\n",
      "Epoch 37:  95%|█████████▌| 62/65 [00:47<00:02,  1.30it/s, loss=0.279, v_num=13, train_loss=0.260, train_accuracy=0.897, val_loss=0.389, val_accuracy=0.858]\n",
      "Validating:  62%|██████▎   | 5/8 [00:04<00:01,  2.15it/s]\u001b[A\n",
      "Epoch 37:  98%|█████████▊| 64/65 [00:48<00:00,  1.33it/s, loss=0.279, v_num=13, train_loss=0.260, train_accuracy=0.897, val_loss=0.389, val_accuracy=0.858]\n",
      "Validating:  88%|████████▊ | 7/8 [00:04<00:00,  3.38it/s]\u001b[A\n",
      "Epoch 37: 100%|██████████| 65/65 [00:48<00:00,  1.34it/s, loss=0.279, v_num=13, train_loss=0.260, train_accuracy=0.897, val_loss=0.392, val_accuracy=0.850]\n",
      "                                                         \u001b[A"
     ]
    },
    {
     "name": "stderr",
     "output_type": "stream",
     "text": [
      "Epoch 37, global step 2165: val_loss was not in top 1\n"
     ]
    },
    {
     "name": "stdout",
     "output_type": "stream",
     "text": [
      "Epoch 38:  89%|████████▉ | 58/65 [00:43<00:05,  1.33it/s, loss=0.313, v_num=13, train_loss=0.331, train_accuracy=0.882, val_loss=0.392, val_accuracy=0.850]\n",
      "Validating: 0it [00:00, ?it/s]\u001b[A\n",
      "Validating:   0%|          | 0/8 [00:00<?, ?it/s]\u001b[A\n",
      "Validating:  12%|█▎        | 1/8 [00:03<00:25,  3.64s/it]\u001b[A\n",
      "Epoch 38:  92%|█████████▏| 60/65 [00:47<00:03,  1.27it/s, loss=0.313, v_num=13, train_loss=0.331, train_accuracy=0.882, val_loss=0.392, val_accuracy=0.850]\n",
      "Validating:  38%|███▊      | 3/8 [00:03<00:04,  1.06it/s]\u001b[A\n",
      "Epoch 38:  95%|█████████▌| 62/65 [00:47<00:02,  1.30it/s, loss=0.313, v_num=13, train_loss=0.331, train_accuracy=0.882, val_loss=0.392, val_accuracy=0.850]\n",
      "Validating:  62%|██████▎   | 5/8 [00:04<00:01,  2.15it/s]\u001b[A\n",
      "Epoch 38:  98%|█████████▊| 64/65 [00:47<00:00,  1.34it/s, loss=0.313, v_num=13, train_loss=0.331, train_accuracy=0.882, val_loss=0.392, val_accuracy=0.850]\n",
      "Validating:  88%|████████▊ | 7/8 [00:04<00:00,  3.35it/s]\u001b[A\n",
      "Epoch 38: 100%|██████████| 65/65 [00:48<00:00,  1.34it/s, loss=0.313, v_num=13, train_loss=0.331, train_accuracy=0.882, val_loss=0.649, val_accuracy=0.790]\n",
      "                                                         \u001b[A"
     ]
    },
    {
     "name": "stderr",
     "output_type": "stream",
     "text": [
      "Epoch 38, global step 2222: val_loss was not in top 1\n"
     ]
    },
    {
     "name": "stdout",
     "output_type": "stream",
     "text": [
      "Epoch 39:  89%|████████▉ | 58/65 [00:43<00:05,  1.33it/s, loss=0.36, v_num=13, train_loss=0.369, train_accuracy=0.838, val_loss=0.649, val_accuracy=0.790] \n",
      "Validating: 0it [00:00, ?it/s]\u001b[A\n",
      "Validating:   0%|          | 0/8 [00:00<?, ?it/s]\u001b[A\n",
      "Validating:  12%|█▎        | 1/8 [00:03<00:25,  3.61s/it]\u001b[A\n",
      "Epoch 39:  92%|█████████▏| 60/65 [00:47<00:03,  1.27it/s, loss=0.36, v_num=13, train_loss=0.369, train_accuracy=0.838, val_loss=0.649, val_accuracy=0.790]\n",
      "Validating:  38%|███▊      | 3/8 [00:03<00:04,  1.07it/s]\u001b[A\n",
      "Epoch 39:  95%|█████████▌| 62/65 [00:47<00:02,  1.30it/s, loss=0.36, v_num=13, train_loss=0.369, train_accuracy=0.838, val_loss=0.649, val_accuracy=0.790]\n",
      "Validating:  62%|██████▎   | 5/8 [00:04<00:01,  2.16it/s]\u001b[A\n",
      "Epoch 39:  98%|█████████▊| 64/65 [00:47<00:00,  1.34it/s, loss=0.36, v_num=13, train_loss=0.369, train_accuracy=0.838, val_loss=0.649, val_accuracy=0.790]\n",
      "Validating:  88%|████████▊ | 7/8 [00:04<00:00,  3.39it/s]\u001b[A\n",
      "Epoch 39: 100%|██████████| 65/65 [00:48<00:00,  1.34it/s, loss=0.36, v_num=13, train_loss=0.369, train_accuracy=0.838, val_loss=0.403, val_accuracy=0.830]\n",
      "                                                         \u001b[A"
     ]
    },
    {
     "name": "stderr",
     "output_type": "stream",
     "text": [
      "Epoch 39, global step 2279: val_loss was not in top 1\n"
     ]
    },
    {
     "name": "stdout",
     "output_type": "stream",
     "text": [
      "Epoch 40:  89%|████████▉ | 58/65 [00:43<00:05,  1.34it/s, loss=0.326, v_num=13, train_loss=0.247, train_accuracy=0.912, val_loss=0.403, val_accuracy=0.830]\n",
      "Validating: 0it [00:00, ?it/s]\u001b[A\n",
      "Validating:   0%|          | 0/8 [00:00<?, ?it/s]\u001b[A\n",
      "Validating:  12%|█▎        | 1/8 [00:03<00:25,  3.59s/it]\u001b[A\n",
      "Epoch 40:  92%|█████████▏| 60/65 [00:47<00:03,  1.27it/s, loss=0.326, v_num=13, train_loss=0.247, train_accuracy=0.912, val_loss=0.403, val_accuracy=0.830]\n",
      "Validating:  38%|███▊      | 3/8 [00:03<00:04,  1.07it/s]\u001b[A\n",
      "Epoch 40:  95%|█████████▌| 62/65 [00:47<00:02,  1.31it/s, loss=0.326, v_num=13, train_loss=0.247, train_accuracy=0.912, val_loss=0.403, val_accuracy=0.830]\n",
      "Validating:  62%|██████▎   | 5/8 [00:04<00:01,  2.17it/s]\u001b[A\n",
      "Epoch 40:  98%|█████████▊| 64/65 [00:47<00:00,  1.34it/s, loss=0.326, v_num=13, train_loss=0.247, train_accuracy=0.912, val_loss=0.403, val_accuracy=0.830]\n",
      "Validating:  88%|████████▊ | 7/8 [00:04<00:00,  3.40it/s]\u001b[A\n",
      "Epoch 40: 100%|██████████| 65/65 [00:48<00:00,  1.34it/s, loss=0.326, v_num=13, train_loss=0.247, train_accuracy=0.912, val_loss=0.403, val_accuracy=0.837]\n",
      "                                                         \u001b[A"
     ]
    },
    {
     "name": "stderr",
     "output_type": "stream",
     "text": [
      "Epoch 40, global step 2336: val_loss was not in top 1\n"
     ]
    },
    {
     "name": "stdout",
     "output_type": "stream",
     "text": [
      "Epoch 41:  89%|████████▉ | 58/65 [00:43<00:05,  1.33it/s, loss=0.477, v_num=13, train_loss=0.501, train_accuracy=0.794, val_loss=0.403, val_accuracy=0.837]\n",
      "Validating: 0it [00:00, ?it/s]\u001b[A\n",
      "Validating:   0%|          | 0/8 [00:00<?, ?it/s]\u001b[A\n",
      "Validating:  12%|█▎        | 1/8 [00:03<00:25,  3.59s/it]\u001b[A\n",
      "Epoch 41:  92%|█████████▏| 60/65 [00:47<00:03,  1.26it/s, loss=0.477, v_num=13, train_loss=0.501, train_accuracy=0.794, val_loss=0.403, val_accuracy=0.837]\n",
      "Validating:  38%|███▊      | 3/8 [00:03<00:04,  1.08it/s]\u001b[A\n",
      "Epoch 41:  95%|█████████▌| 62/65 [00:47<00:02,  1.30it/s, loss=0.477, v_num=13, train_loss=0.501, train_accuracy=0.794, val_loss=0.403, val_accuracy=0.837]\n",
      "Validating:  62%|██████▎   | 5/8 [00:04<00:01,  2.17it/s]\u001b[A\n",
      "Epoch 41:  98%|█████████▊| 64/65 [00:48<00:00,  1.33it/s, loss=0.477, v_num=13, train_loss=0.501, train_accuracy=0.794, val_loss=0.403, val_accuracy=0.837]\n",
      "Validating:  88%|████████▊ | 7/8 [00:04<00:00,  3.38it/s]\u001b[A\n",
      "Epoch 41: 100%|██████████| 65/65 [00:48<00:00,  1.33it/s, loss=0.477, v_num=13, train_loss=0.501, train_accuracy=0.794, val_loss=0.533, val_accuracy=0.757]\n",
      "                                                         \u001b[A"
     ]
    },
    {
     "name": "stderr",
     "output_type": "stream",
     "text": [
      "Epoch 41, global step 2393: val_loss was not in top 1\n"
     ]
    },
    {
     "name": "stdout",
     "output_type": "stream",
     "text": [
      "Epoch 42:  89%|████████▉ | 58/65 [00:43<00:05,  1.34it/s, loss=0.366, v_num=13, train_loss=0.377, train_accuracy=0.838, val_loss=0.533, val_accuracy=0.757]\n",
      "Validating: 0it [00:00, ?it/s]\u001b[A\n",
      "Validating:   0%|          | 0/8 [00:00<?, ?it/s]\u001b[A\n",
      "Validating:  12%|█▎        | 1/8 [00:03<00:27,  3.88s/it]\u001b[A\n",
      "Epoch 42:  92%|█████████▏| 60/65 [00:47<00:03,  1.27it/s, loss=0.366, v_num=13, train_loss=0.377, train_accuracy=0.838, val_loss=0.533, val_accuracy=0.757]\n",
      "Validating:  38%|███▊      | 3/8 [00:04<00:04,  1.01it/s]\u001b[A\n",
      "Epoch 42:  95%|█████████▌| 62/65 [00:47<00:02,  1.30it/s, loss=0.366, v_num=13, train_loss=0.377, train_accuracy=0.838, val_loss=0.533, val_accuracy=0.757]\n",
      "Validating:  62%|██████▎   | 5/8 [00:04<00:01,  2.07it/s]\u001b[A\n",
      "Epoch 42:  98%|█████████▊| 64/65 [00:48<00:00,  1.33it/s, loss=0.366, v_num=13, train_loss=0.377, train_accuracy=0.838, val_loss=0.533, val_accuracy=0.757]\n",
      "Validating:  88%|████████▊ | 7/8 [00:04<00:00,  3.28it/s]\u001b[A\n",
      "Epoch 42: 100%|██████████| 65/65 [00:48<00:00,  1.34it/s, loss=0.366, v_num=13, train_loss=0.377, train_accuracy=0.838, val_loss=0.430, val_accuracy=0.809]\n",
      "                                                         \u001b[A"
     ]
    },
    {
     "name": "stderr",
     "output_type": "stream",
     "text": [
      "Epoch 42, global step 2450: val_loss was not in top 1\n"
     ]
    },
    {
     "name": "stdout",
     "output_type": "stream",
     "text": [
      "Epoch 43:  89%|████████▉ | 58/65 [00:43<00:05,  1.33it/s, loss=0.322, v_num=13, train_loss=0.318, train_accuracy=0.853, val_loss=0.430, val_accuracy=0.809]\n",
      "Validating: 0it [00:00, ?it/s]\u001b[A\n",
      "Validating:   0%|          | 0/8 [00:00<?, ?it/s]\u001b[A\n",
      "Validating:  12%|█▎        | 1/8 [00:03<00:26,  3.83s/it]\u001b[A\n",
      "Epoch 43:  92%|█████████▏| 60/65 [00:47<00:03,  1.26it/s, loss=0.322, v_num=13, train_loss=0.318, train_accuracy=0.853, val_loss=0.430, val_accuracy=0.809]\n",
      "Validating:  38%|███▊      | 3/8 [00:04<00:04,  1.02it/s]\u001b[A\n",
      "Epoch 43:  95%|█████████▌| 62/65 [00:47<00:02,  1.30it/s, loss=0.322, v_num=13, train_loss=0.318, train_accuracy=0.853, val_loss=0.430, val_accuracy=0.809]\n",
      "Validating:  62%|██████▎   | 5/8 [00:04<00:01,  2.08it/s]\u001b[A\n",
      "Epoch 43:  98%|█████████▊| 64/65 [00:48<00:00,  1.33it/s, loss=0.322, v_num=13, train_loss=0.318, train_accuracy=0.853, val_loss=0.430, val_accuracy=0.809]\n",
      "Validating:  88%|████████▊ | 7/8 [00:04<00:00,  3.29it/s]\u001b[A\n",
      "Epoch 43: 100%|██████████| 65/65 [00:48<00:00,  1.33it/s, loss=0.322, v_num=13, train_loss=0.318, train_accuracy=0.853, val_loss=0.413, val_accuracy=0.832]\n",
      "                                                         \u001b[A"
     ]
    },
    {
     "name": "stderr",
     "output_type": "stream",
     "text": [
      "Epoch 43, global step 2507: val_loss was not in top 1\n"
     ]
    },
    {
     "name": "stdout",
     "output_type": "stream",
     "text": [
      "Epoch 44:  89%|████████▉ | 58/65 [00:43<00:05,  1.33it/s, loss=0.294, v_num=13, train_loss=0.273, train_accuracy=0.897, val_loss=0.413, val_accuracy=0.832]\n",
      "Validating: 0it [00:00, ?it/s]\u001b[A\n",
      "Validating:   0%|          | 0/8 [00:00<?, ?it/s]\u001b[A\n",
      "Validating:  12%|█▎        | 1/8 [00:03<00:25,  3.69s/it]\u001b[A\n",
      "Epoch 44:  92%|█████████▏| 60/65 [00:47<00:03,  1.27it/s, loss=0.294, v_num=13, train_loss=0.273, train_accuracy=0.897, val_loss=0.413, val_accuracy=0.832]\n",
      "Validating:  38%|███▊      | 3/8 [00:04<00:04,  1.05it/s]\u001b[A\n",
      "Epoch 44:  95%|█████████▌| 62/65 [00:47<00:02,  1.30it/s, loss=0.294, v_num=13, train_loss=0.273, train_accuracy=0.897, val_loss=0.413, val_accuracy=0.832]\n",
      "Validating:  62%|██████▎   | 5/8 [00:04<00:01,  2.14it/s]\u001b[A\n",
      "Epoch 44:  98%|█████████▊| 64/65 [00:48<00:00,  1.33it/s, loss=0.294, v_num=13, train_loss=0.273, train_accuracy=0.897, val_loss=0.413, val_accuracy=0.832]\n",
      "Validating:  88%|████████▊ | 7/8 [00:04<00:00,  3.35it/s]\u001b[A\n",
      "Epoch 44: 100%|██████████| 65/65 [00:48<00:00,  1.33it/s, loss=0.294, v_num=13, train_loss=0.273, train_accuracy=0.897, val_loss=0.416, val_accuracy=0.833]\n",
      "                                                         \u001b[A"
     ]
    },
    {
     "name": "stderr",
     "output_type": "stream",
     "text": [
      "Epoch 44, global step 2564: val_loss was not in top 1\n"
     ]
    },
    {
     "name": "stdout",
     "output_type": "stream",
     "text": [
      "Epoch 45:  89%|████████▉ | 58/65 [00:43<00:05,  1.33it/s, loss=0.284, v_num=13, train_loss=0.297, train_accuracy=0.853, val_loss=0.416, val_accuracy=0.833]\n",
      "Validating: 0it [00:00, ?it/s]\u001b[A\n",
      "Validating:   0%|          | 0/8 [00:00<?, ?it/s]\u001b[A\n",
      "Validating:  12%|█▎        | 1/8 [00:03<00:26,  3.72s/it]\u001b[A\n",
      "Epoch 45:  92%|█████████▏| 60/65 [00:47<00:03,  1.27it/s, loss=0.284, v_num=13, train_loss=0.297, train_accuracy=0.853, val_loss=0.416, val_accuracy=0.833]\n",
      "Validating:  38%|███▊      | 3/8 [00:04<00:04,  1.04it/s]\u001b[A\n",
      "Epoch 45:  95%|█████████▌| 62/65 [00:47<00:02,  1.30it/s, loss=0.284, v_num=13, train_loss=0.297, train_accuracy=0.853, val_loss=0.416, val_accuracy=0.833]\n",
      "Validating:  62%|██████▎   | 5/8 [00:04<00:01,  2.11it/s]\u001b[A\n",
      "Epoch 45:  98%|█████████▊| 64/65 [00:48<00:00,  1.33it/s, loss=0.284, v_num=13, train_loss=0.297, train_accuracy=0.853, val_loss=0.416, val_accuracy=0.833]\n",
      "Validating:  88%|████████▊ | 7/8 [00:04<00:00,  3.32it/s]\u001b[A\n",
      "Epoch 45: 100%|██████████| 65/65 [00:48<00:00,  1.34it/s, loss=0.284, v_num=13, train_loss=0.297, train_accuracy=0.853, val_loss=0.398, val_accuracy=0.845]\n",
      "                                                         \u001b[A"
     ]
    },
    {
     "name": "stderr",
     "output_type": "stream",
     "text": [
      "Epoch 45, global step 2621: val_loss was not in top 1\n"
     ]
    },
    {
     "name": "stdout",
     "output_type": "stream",
     "text": [
      "Epoch 46:  89%|████████▉ | 58/65 [00:43<00:05,  1.33it/s, loss=0.261, v_num=13, train_loss=0.097, train_accuracy=1.000, val_loss=0.398, val_accuracy=0.845]\n",
      "Validating: 0it [00:00, ?it/s]\u001b[A\n",
      "Validating:   0%|          | 0/8 [00:00<?, ?it/s]\u001b[A\n",
      "Validating:  12%|█▎        | 1/8 [00:03<00:26,  3.73s/it]\u001b[A\n",
      "Epoch 46:  92%|█████████▏| 60/65 [00:47<00:03,  1.26it/s, loss=0.261, v_num=13, train_loss=0.097, train_accuracy=1.000, val_loss=0.398, val_accuracy=0.845]\n",
      "Validating:  38%|███▊      | 3/8 [00:04<00:04,  1.04it/s]\u001b[A\n",
      "Epoch 46:  95%|█████████▌| 62/65 [00:47<00:02,  1.30it/s, loss=0.261, v_num=13, train_loss=0.097, train_accuracy=1.000, val_loss=0.398, val_accuracy=0.845]\n",
      "Validating:  62%|██████▎   | 5/8 [00:04<00:01,  2.13it/s]\u001b[A\n",
      "Epoch 46:  98%|█████████▊| 64/65 [00:48<00:00,  1.33it/s, loss=0.261, v_num=13, train_loss=0.097, train_accuracy=1.000, val_loss=0.398, val_accuracy=0.845]\n",
      "Validating:  88%|████████▊ | 7/8 [00:04<00:00,  3.35it/s]\u001b[A\n",
      "Epoch 46: 100%|██████████| 65/65 [00:48<00:00,  1.33it/s, loss=0.261, v_num=13, train_loss=0.097, train_accuracy=1.000, val_loss=0.409, val_accuracy=0.853]\n",
      "                                                         \u001b[A"
     ]
    },
    {
     "name": "stderr",
     "output_type": "stream",
     "text": [
      "Epoch 46, global step 2678: val_loss was not in top 1\n"
     ]
    },
    {
     "name": "stdout",
     "output_type": "stream",
     "text": [
      "Epoch 47:  89%|████████▉ | 58/65 [00:43<00:05,  1.34it/s, loss=0.27, v_num=13, train_loss=0.194, train_accuracy=0.912, val_loss=0.409, val_accuracy=0.853] \n",
      "Validating: 0it [00:00, ?it/s]\u001b[A\n",
      "Validating:   0%|          | 0/8 [00:00<?, ?it/s]\u001b[A\n",
      "Validating:  12%|█▎        | 1/8 [00:03<00:25,  3.62s/it]\u001b[A\n",
      "Epoch 47:  92%|█████████▏| 60/65 [00:47<00:03,  1.27it/s, loss=0.27, v_num=13, train_loss=0.194, train_accuracy=0.912, val_loss=0.409, val_accuracy=0.853]\n",
      "Validating:  38%|███▊      | 3/8 [00:03<00:04,  1.07it/s]\u001b[A\n",
      "Epoch 47:  95%|█████████▌| 62/65 [00:47<00:02,  1.31it/s, loss=0.27, v_num=13, train_loss=0.194, train_accuracy=0.912, val_loss=0.409, val_accuracy=0.853]\n",
      "Validating:  62%|██████▎   | 5/8 [00:04<00:01,  2.15it/s]\u001b[A\n",
      "Epoch 47:  98%|█████████▊| 64/65 [00:47<00:00,  1.34it/s, loss=0.27, v_num=13, train_loss=0.194, train_accuracy=0.912, val_loss=0.409, val_accuracy=0.853]\n",
      "Validating:  88%|████████▊ | 7/8 [00:04<00:00,  3.36it/s]\u001b[A\n",
      "Epoch 47: 100%|██████████| 65/65 [00:48<00:00,  1.34it/s, loss=0.27, v_num=13, train_loss=0.194, train_accuracy=0.912, val_loss=0.438, val_accuracy=0.847]\n",
      "                                                         \u001b[A"
     ]
    },
    {
     "name": "stderr",
     "output_type": "stream",
     "text": [
      "Epoch 47, global step 2735: val_loss was not in top 1\n"
     ]
    },
    {
     "name": "stdout",
     "output_type": "stream",
     "text": [
      "Epoch 48:  89%|████████▉ | 58/65 [00:43<00:05,  1.33it/s, loss=0.27, v_num=13, train_loss=0.180, train_accuracy=0.941, val_loss=0.438, val_accuracy=0.847] \n",
      "Validating: 0it [00:00, ?it/s]\u001b[A\n",
      "Validating:   0%|          | 0/8 [00:00<?, ?it/s]\u001b[A\n",
      "Validating:  12%|█▎        | 1/8 [00:03<00:26,  3.71s/it]\u001b[A\n",
      "Epoch 48:  92%|█████████▏| 60/65 [00:47<00:03,  1.27it/s, loss=0.27, v_num=13, train_loss=0.180, train_accuracy=0.941, val_loss=0.438, val_accuracy=0.847]\n",
      "Validating:  38%|███▊      | 3/8 [00:04<00:04,  1.05it/s]\u001b[A\n",
      "Epoch 48:  95%|█████████▌| 62/65 [00:47<00:02,  1.30it/s, loss=0.27, v_num=13, train_loss=0.180, train_accuracy=0.941, val_loss=0.438, val_accuracy=0.847]\n",
      "Validating:  62%|██████▎   | 5/8 [00:04<00:01,  2.13it/s]\u001b[A\n",
      "Epoch 48:  98%|█████████▊| 64/65 [00:48<00:00,  1.33it/s, loss=0.27, v_num=13, train_loss=0.180, train_accuracy=0.941, val_loss=0.438, val_accuracy=0.847]\n",
      "Validating:  88%|████████▊ | 7/8 [00:04<00:00,  3.35it/s]\u001b[A\n",
      "Epoch 48: 100%|██████████| 65/65 [00:48<00:00,  1.34it/s, loss=0.27, v_num=13, train_loss=0.180, train_accuracy=0.941, val_loss=0.400, val_accuracy=0.850]\n",
      "                                                         \u001b[A"
     ]
    },
    {
     "name": "stderr",
     "output_type": "stream",
     "text": [
      "Epoch 48, global step 2792: val_loss was not in top 1\n"
     ]
    },
    {
     "name": "stdout",
     "output_type": "stream",
     "text": [
      "Epoch 49:  89%|████████▉ | 58/65 [00:43<00:05,  1.33it/s, loss=0.248, v_num=13, train_loss=0.225, train_accuracy=0.897, val_loss=0.400, val_accuracy=0.850]\n",
      "Validating: 0it [00:00, ?it/s]\u001b[A\n",
      "Validating:   0%|          | 0/8 [00:00<?, ?it/s]\u001b[A\n",
      "Validating:  12%|█▎        | 1/8 [00:03<00:25,  3.62s/it]\u001b[A\n",
      "Epoch 49:  92%|█████████▏| 60/65 [00:47<00:03,  1.27it/s, loss=0.248, v_num=13, train_loss=0.225, train_accuracy=0.897, val_loss=0.400, val_accuracy=0.850]\n",
      "Validating:  38%|███▊      | 3/8 [00:03<00:04,  1.07it/s]\u001b[A\n",
      "Epoch 49:  95%|█████████▌| 62/65 [00:47<00:02,  1.30it/s, loss=0.248, v_num=13, train_loss=0.225, train_accuracy=0.897, val_loss=0.400, val_accuracy=0.850]\n",
      "Validating:  62%|██████▎   | 5/8 [00:04<00:01,  2.17it/s]\u001b[A\n",
      "Epoch 49:  98%|█████████▊| 64/65 [00:47<00:00,  1.33it/s, loss=0.248, v_num=13, train_loss=0.225, train_accuracy=0.897, val_loss=0.400, val_accuracy=0.850]\n",
      "Validating:  88%|████████▊ | 7/8 [00:04<00:00,  3.40it/s]\u001b[A\n",
      "Epoch 49: 100%|██████████| 65/65 [00:48<00:00,  1.34it/s, loss=0.248, v_num=13, train_loss=0.225, train_accuracy=0.897, val_loss=0.401, val_accuracy=0.848]\n",
      "                                                         \u001b[A"
     ]
    },
    {
     "name": "stderr",
     "output_type": "stream",
     "text": [
      "Epoch 49, global step 2849: val_loss was not in top 1\n"
     ]
    },
    {
     "name": "stdout",
     "output_type": "stream",
     "text": [
      "Epoch 50:  89%|████████▉ | 58/65 [00:43<00:05,  1.34it/s, loss=0.254, v_num=13, train_loss=0.236, train_accuracy=0.912, val_loss=0.401, val_accuracy=0.848]\n",
      "Validating: 0it [00:00, ?it/s]\u001b[A\n",
      "Validating:   0%|          | 0/8 [00:00<?, ?it/s]\u001b[A\n",
      "Validating:  12%|█▎        | 1/8 [00:03<00:26,  3.72s/it]\u001b[A\n",
      "Epoch 50:  92%|█████████▏| 60/65 [00:47<00:03,  1.27it/s, loss=0.254, v_num=13, train_loss=0.236, train_accuracy=0.912, val_loss=0.401, val_accuracy=0.848]\n",
      "Validating:  38%|███▊      | 3/8 [00:04<00:04,  1.04it/s]\u001b[A\n",
      "Epoch 50:  95%|█████████▌| 62/65 [00:47<00:02,  1.30it/s, loss=0.254, v_num=13, train_loss=0.236, train_accuracy=0.912, val_loss=0.401, val_accuracy=0.848]\n",
      "Validating:  62%|██████▎   | 5/8 [00:04<00:01,  2.11it/s]\u001b[A\n",
      "Epoch 50:  98%|█████████▊| 64/65 [00:47<00:00,  1.34it/s, loss=0.254, v_num=13, train_loss=0.236, train_accuracy=0.912, val_loss=0.401, val_accuracy=0.848]\n",
      "Validating:  88%|████████▊ | 7/8 [00:04<00:00,  3.34it/s]\u001b[A\n",
      "Epoch 50: 100%|██████████| 65/65 [00:48<00:00,  1.34it/s, loss=0.254, v_num=13, train_loss=0.236, train_accuracy=0.912, val_loss=0.378, val_accuracy=0.858]\n",
      "                                                         \u001b[A"
     ]
    },
    {
     "name": "stderr",
     "output_type": "stream",
     "text": [
      "Epoch 50, global step 2906: val_loss reached 0.37787 (best 0.37787), saving model to \"/Workspace/code/checkpoints/best-checkpoint250x250-v4.ckpt\" as top 1\n"
     ]
    },
    {
     "name": "stdout",
     "output_type": "stream",
     "text": [
      "Epoch 51:  89%|████████▉ | 58/65 [00:43<00:05,  1.34it/s, loss=0.255, v_num=13, train_loss=0.244, train_accuracy=0.926, val_loss=0.378, val_accuracy=0.858]\n",
      "Validating: 0it [00:00, ?it/s]\u001b[A\n",
      "Validating:   0%|          | 0/8 [00:00<?, ?it/s]\u001b[A\n",
      "Validating:  12%|█▎        | 1/8 [00:03<00:25,  3.69s/it]\u001b[A\n",
      "Epoch 51:  92%|█████████▏| 60/65 [00:47<00:03,  1.27it/s, loss=0.255, v_num=13, train_loss=0.244, train_accuracy=0.926, val_loss=0.378, val_accuracy=0.858]\n",
      "Validating:  38%|███▊      | 3/8 [00:04<00:04,  1.05it/s]\u001b[A\n",
      "Epoch 51:  95%|█████████▌| 62/65 [00:47<00:02,  1.31it/s, loss=0.255, v_num=13, train_loss=0.244, train_accuracy=0.926, val_loss=0.378, val_accuracy=0.858]\n",
      "Validating:  62%|██████▎   | 5/8 [00:04<00:01,  2.14it/s]\u001b[A\n",
      "Epoch 51:  98%|█████████▊| 64/65 [00:47<00:00,  1.34it/s, loss=0.255, v_num=13, train_loss=0.244, train_accuracy=0.926, val_loss=0.378, val_accuracy=0.858]\n",
      "Validating:  88%|████████▊ | 7/8 [00:04<00:00,  3.37it/s]\u001b[A\n",
      "Epoch 51: 100%|██████████| 65/65 [00:48<00:00,  1.34it/s, loss=0.255, v_num=13, train_loss=0.244, train_accuracy=0.926, val_loss=0.366, val_accuracy=0.856]\n",
      "                                                         \u001b[A"
     ]
    },
    {
     "name": "stderr",
     "output_type": "stream",
     "text": [
      "Epoch 51, global step 2963: val_loss reached 0.36564 (best 0.36564), saving model to \"/Workspace/code/checkpoints/best-checkpoint250x250-v4.ckpt\" as top 1\n"
     ]
    },
    {
     "name": "stdout",
     "output_type": "stream",
     "text": [
      "Epoch 52:  89%|████████▉ | 58/65 [00:43<00:05,  1.34it/s, loss=0.284, v_num=13, train_loss=0.356, train_accuracy=0.838, val_loss=0.366, val_accuracy=0.856]\n",
      "Validating: 0it [00:00, ?it/s]\u001b[A\n",
      "Validating:   0%|          | 0/8 [00:00<?, ?it/s]\u001b[A\n",
      "Validating:  12%|█▎        | 1/8 [00:03<00:25,  3.69s/it]\u001b[A\n",
      "Epoch 52:  92%|█████████▏| 60/65 [00:47<00:03,  1.27it/s, loss=0.284, v_num=13, train_loss=0.356, train_accuracy=0.838, val_loss=0.366, val_accuracy=0.856]\n",
      "Validating:  38%|███▊      | 3/8 [00:04<00:04,  1.05it/s]\u001b[A\n",
      "Epoch 52:  95%|█████████▌| 62/65 [00:47<00:02,  1.30it/s, loss=0.284, v_num=13, train_loss=0.356, train_accuracy=0.838, val_loss=0.366, val_accuracy=0.856]\n",
      "Validating:  62%|██████▎   | 5/8 [00:04<00:01,  2.14it/s]\u001b[A\n",
      "Epoch 52:  98%|█████████▊| 64/65 [00:47<00:00,  1.34it/s, loss=0.284, v_num=13, train_loss=0.356, train_accuracy=0.838, val_loss=0.366, val_accuracy=0.856]\n",
      "Validating:  88%|████████▊ | 7/8 [00:04<00:00,  3.35it/s]\u001b[A\n",
      "Epoch 52: 100%|██████████| 65/65 [00:48<00:00,  1.34it/s, loss=0.284, v_num=13, train_loss=0.356, train_accuracy=0.838, val_loss=0.470, val_accuracy=0.820]\n",
      "                                                         \u001b[A"
     ]
    },
    {
     "name": "stderr",
     "output_type": "stream",
     "text": [
      "Epoch 52, global step 3020: val_loss was not in top 1\n"
     ]
    },
    {
     "name": "stdout",
     "output_type": "stream",
     "text": [
      "Epoch 53:  89%|████████▉ | 58/65 [00:43<00:05,  1.34it/s, loss=0.259, v_num=13, train_loss=0.292, train_accuracy=0.882, val_loss=0.470, val_accuracy=0.820]\n",
      "Validating: 0it [00:00, ?it/s]\u001b[A\n",
      "Validating:   0%|          | 0/8 [00:00<?, ?it/s]\u001b[A\n",
      "Validating:  12%|█▎        | 1/8 [00:03<00:25,  3.69s/it]\u001b[A\n",
      "Epoch 53:  92%|█████████▏| 60/65 [00:47<00:03,  1.27it/s, loss=0.259, v_num=13, train_loss=0.292, train_accuracy=0.882, val_loss=0.470, val_accuracy=0.820]\n",
      "Validating:  38%|███▊      | 3/8 [00:04<00:04,  1.05it/s]\u001b[A\n",
      "Epoch 53:  95%|█████████▌| 62/65 [00:47<00:02,  1.30it/s, loss=0.259, v_num=13, train_loss=0.292, train_accuracy=0.882, val_loss=0.470, val_accuracy=0.820]\n",
      "Validating:  62%|██████▎   | 5/8 [00:04<00:01,  2.14it/s]\u001b[A\n",
      "Epoch 53:  98%|█████████▊| 64/65 [00:47<00:00,  1.34it/s, loss=0.259, v_num=13, train_loss=0.292, train_accuracy=0.882, val_loss=0.470, val_accuracy=0.820]\n",
      "Validating:  88%|████████▊ | 7/8 [00:04<00:00,  3.38it/s]\u001b[A\n",
      "Epoch 53: 100%|██████████| 65/65 [00:48<00:00,  1.34it/s, loss=0.259, v_num=13, train_loss=0.292, train_accuracy=0.882, val_loss=0.388, val_accuracy=0.854]\n",
      "                                                         \u001b[A"
     ]
    },
    {
     "name": "stderr",
     "output_type": "stream",
     "text": [
      "Epoch 53, global step 3077: val_loss was not in top 1\n"
     ]
    },
    {
     "name": "stdout",
     "output_type": "stream",
     "text": [
      "Epoch 54:  89%|████████▉ | 58/65 [00:43<00:05,  1.34it/s, loss=0.349, v_num=13, train_loss=0.303, train_accuracy=0.882, val_loss=0.388, val_accuracy=0.854]\n",
      "Validating: 0it [00:00, ?it/s]\u001b[A\n",
      "Validating:   0%|          | 0/8 [00:00<?, ?it/s]\u001b[A\n",
      "Validating:  12%|█▎        | 1/8 [00:03<00:25,  3.59s/it]\u001b[A\n",
      "Epoch 54:  92%|█████████▏| 60/65 [00:47<00:03,  1.27it/s, loss=0.349, v_num=13, train_loss=0.303, train_accuracy=0.882, val_loss=0.388, val_accuracy=0.854]\n",
      "Validating:  38%|███▊      | 3/8 [00:03<00:04,  1.08it/s]\u001b[A\n",
      "Epoch 54:  95%|█████████▌| 62/65 [00:47<00:02,  1.31it/s, loss=0.349, v_num=13, train_loss=0.303, train_accuracy=0.882, val_loss=0.388, val_accuracy=0.854]\n",
      "Validating:  62%|██████▎   | 5/8 [00:04<00:01,  2.17it/s]\u001b[A\n",
      "Epoch 54:  98%|█████████▊| 64/65 [00:47<00:00,  1.34it/s, loss=0.349, v_num=13, train_loss=0.303, train_accuracy=0.882, val_loss=0.388, val_accuracy=0.854]\n",
      "Validating:  88%|████████▊ | 7/8 [00:04<00:00,  3.41it/s]\u001b[A\n",
      "Epoch 54: 100%|██████████| 65/65 [00:48<00:00,  1.34it/s, loss=0.349, v_num=13, train_loss=0.303, train_accuracy=0.882, val_loss=0.476, val_accuracy=0.814]\n",
      "                                                         \u001b[A"
     ]
    },
    {
     "name": "stderr",
     "output_type": "stream",
     "text": [
      "Epoch 54, global step 3134: val_loss was not in top 1\n"
     ]
    },
    {
     "name": "stdout",
     "output_type": "stream",
     "text": [
      "Epoch 55:  89%|████████▉ | 58/65 [00:43<00:05,  1.33it/s, loss=0.323, v_num=13, train_loss=0.383, train_accuracy=0.809, val_loss=0.476, val_accuracy=0.814]\n",
      "Validating: 0it [00:00, ?it/s]\u001b[A\n",
      "Validating:   0%|          | 0/8 [00:00<?, ?it/s]\u001b[A\n",
      "Validating:  12%|█▎        | 1/8 [00:03<00:25,  3.71s/it]\u001b[A\n",
      "Epoch 55:  92%|█████████▏| 60/65 [00:47<00:03,  1.26it/s, loss=0.323, v_num=13, train_loss=0.383, train_accuracy=0.809, val_loss=0.476, val_accuracy=0.814]\n",
      "Validating:  38%|███▊      | 3/8 [00:04<00:04,  1.02it/s]\u001b[A\n",
      "Epoch 55:  95%|█████████▌| 62/65 [00:47<00:02,  1.30it/s, loss=0.323, v_num=13, train_loss=0.383, train_accuracy=0.809, val_loss=0.476, val_accuracy=0.814]\n",
      "Validating:  62%|██████▎   | 5/8 [00:04<00:01,  2.08it/s]\u001b[A\n",
      "Epoch 55:  98%|█████████▊| 64/65 [00:48<00:00,  1.33it/s, loss=0.323, v_num=13, train_loss=0.383, train_accuracy=0.809, val_loss=0.476, val_accuracy=0.814]\n",
      "Validating:  88%|████████▊ | 7/8 [00:04<00:00,  3.30it/s]\u001b[A\n",
      "Epoch 55: 100%|██████████| 65/65 [00:48<00:00,  1.33it/s, loss=0.323, v_num=13, train_loss=0.383, train_accuracy=0.809, val_loss=0.408, val_accuracy=0.833]\n",
      "                                                         \u001b[A"
     ]
    },
    {
     "name": "stderr",
     "output_type": "stream",
     "text": [
      "Epoch 55, global step 3191: val_loss was not in top 1\n"
     ]
    },
    {
     "name": "stdout",
     "output_type": "stream",
     "text": [
      "Epoch 56:  89%|████████▉ | 58/65 [00:43<00:05,  1.33it/s, loss=0.285, v_num=13, train_loss=0.324, train_accuracy=0.882, val_loss=0.408, val_accuracy=0.833]\n",
      "Validating: 0it [00:00, ?it/s]\u001b[A\n",
      "Validating:   0%|          | 0/8 [00:00<?, ?it/s]\u001b[A\n",
      "Validating:  12%|█▎        | 1/8 [00:03<00:25,  3.68s/it]\u001b[A\n",
      "Epoch 56:  92%|█████████▏| 60/65 [00:47<00:03,  1.27it/s, loss=0.285, v_num=13, train_loss=0.324, train_accuracy=0.882, val_loss=0.408, val_accuracy=0.833]\n",
      "Validating:  38%|███▊      | 3/8 [00:04<00:04,  1.05it/s]\u001b[A\n",
      "Epoch 56:  95%|█████████▌| 62/65 [00:47<00:02,  1.30it/s, loss=0.285, v_num=13, train_loss=0.324, train_accuracy=0.882, val_loss=0.408, val_accuracy=0.833]\n",
      "Validating:  62%|██████▎   | 5/8 [00:04<00:01,  2.14it/s]\u001b[A\n",
      "Epoch 56:  98%|█████████▊| 64/65 [00:47<00:00,  1.33it/s, loss=0.285, v_num=13, train_loss=0.324, train_accuracy=0.882, val_loss=0.408, val_accuracy=0.833]\n",
      "Validating:  88%|████████▊ | 7/8 [00:04<00:00,  3.37it/s]\u001b[A\n",
      "Epoch 56: 100%|██████████| 65/65 [00:48<00:00,  1.34it/s, loss=0.285, v_num=13, train_loss=0.324, train_accuracy=0.882, val_loss=0.467, val_accuracy=0.834]\n",
      "                                                         \u001b[A"
     ]
    },
    {
     "name": "stderr",
     "output_type": "stream",
     "text": [
      "Epoch 56, global step 3248: val_loss was not in top 1\n"
     ]
    },
    {
     "name": "stdout",
     "output_type": "stream",
     "text": [
      "Epoch 57:  89%|████████▉ | 58/65 [00:43<00:05,  1.33it/s, loss=0.302, v_num=13, train_loss=0.364, train_accuracy=0.853, val_loss=0.467, val_accuracy=0.834]\n",
      "Validating: 0it [00:00, ?it/s]\u001b[A\n",
      "Validating:   0%|          | 0/8 [00:00<?, ?it/s]\u001b[A\n",
      "Validating:  12%|█▎        | 1/8 [00:03<00:25,  3.71s/it]\u001b[A\n",
      "Epoch 57:  92%|█████████▏| 60/65 [00:47<00:03,  1.27it/s, loss=0.302, v_num=13, train_loss=0.364, train_accuracy=0.853, val_loss=0.467, val_accuracy=0.834]\n",
      "Validating:  38%|███▊      | 3/8 [00:04<00:04,  1.04it/s]\u001b[A\n",
      "Epoch 57:  95%|█████████▌| 62/65 [00:47<00:02,  1.30it/s, loss=0.302, v_num=13, train_loss=0.364, train_accuracy=0.853, val_loss=0.467, val_accuracy=0.834]\n",
      "Validating:  62%|██████▎   | 5/8 [00:04<00:01,  2.12it/s]\u001b[A\n",
      "Epoch 57:  98%|█████████▊| 64/65 [00:47<00:00,  1.33it/s, loss=0.302, v_num=13, train_loss=0.364, train_accuracy=0.853, val_loss=0.467, val_accuracy=0.834]\n",
      "Validating:  88%|████████▊ | 7/8 [00:04<00:00,  3.33it/s]\u001b[A\n",
      "Epoch 57: 100%|██████████| 65/65 [00:48<00:00,  1.34it/s, loss=0.302, v_num=13, train_loss=0.364, train_accuracy=0.853, val_loss=0.857, val_accuracy=0.722]\n",
      "                                                         \u001b[A"
     ]
    },
    {
     "name": "stderr",
     "output_type": "stream",
     "text": [
      "Epoch 57, global step 3305: val_loss was not in top 1\n"
     ]
    },
    {
     "name": "stdout",
     "output_type": "stream",
     "text": [
      "Epoch 58:  89%|████████▉ | 58/65 [00:43<00:05,  1.34it/s, loss=0.266, v_num=13, train_loss=0.196, train_accuracy=0.897, val_loss=0.857, val_accuracy=0.722]\n",
      "Validating: 0it [00:00, ?it/s]\u001b[A\n",
      "Validating:   0%|          | 0/8 [00:00<?, ?it/s]\u001b[A\n",
      "Validating:  12%|█▎        | 1/8 [00:03<00:26,  3.72s/it]\u001b[A\n",
      "Epoch 58:  92%|█████████▏| 60/65 [00:47<00:03,  1.27it/s, loss=0.266, v_num=13, train_loss=0.196, train_accuracy=0.897, val_loss=0.857, val_accuracy=0.722]\n",
      "Validating:  38%|███▊      | 3/8 [00:04<00:04,  1.04it/s]\u001b[A\n",
      "Epoch 58:  95%|█████████▌| 62/65 [00:47<00:02,  1.31it/s, loss=0.266, v_num=13, train_loss=0.196, train_accuracy=0.897, val_loss=0.857, val_accuracy=0.722]\n",
      "Validating:  62%|██████▎   | 5/8 [00:04<00:01,  2.12it/s]\u001b[A\n",
      "Epoch 58:  98%|█████████▊| 64/65 [00:47<00:00,  1.34it/s, loss=0.266, v_num=13, train_loss=0.196, train_accuracy=0.897, val_loss=0.857, val_accuracy=0.722]\n",
      "Validating:  88%|████████▊ | 7/8 [00:04<00:00,  3.35it/s]\u001b[A\n",
      "Epoch 58: 100%|██████████| 65/65 [00:48<00:00,  1.34it/s, loss=0.266, v_num=13, train_loss=0.196, train_accuracy=0.897, val_loss=0.512, val_accuracy=0.819]\n",
      "                                                         \u001b[A"
     ]
    },
    {
     "name": "stderr",
     "output_type": "stream",
     "text": [
      "Epoch 58, global step 3362: val_loss was not in top 1\n"
     ]
    },
    {
     "name": "stdout",
     "output_type": "stream",
     "text": [
      "Epoch 59:  89%|████████▉ | 58/65 [00:43<00:05,  1.33it/s, loss=0.246, v_num=13, train_loss=0.221, train_accuracy=0.941, val_loss=0.512, val_accuracy=0.819]\n",
      "Validating: 0it [00:00, ?it/s]\u001b[A\n",
      "Validating:   0%|          | 0/8 [00:00<?, ?it/s]\u001b[A\n",
      "Validating:  12%|█▎        | 1/8 [00:03<00:25,  3.68s/it]\u001b[A\n",
      "Epoch 59:  92%|█████████▏| 60/65 [00:47<00:03,  1.27it/s, loss=0.246, v_num=13, train_loss=0.221, train_accuracy=0.941, val_loss=0.512, val_accuracy=0.819]\n",
      "Validating:  38%|███▊      | 3/8 [00:04<00:04,  1.05it/s]\u001b[A\n",
      "Epoch 59:  95%|█████████▌| 62/65 [00:47<00:02,  1.30it/s, loss=0.246, v_num=13, train_loss=0.221, train_accuracy=0.941, val_loss=0.512, val_accuracy=0.819]\n",
      "Validating:  62%|██████▎   | 5/8 [00:04<00:01,  2.14it/s]\u001b[A\n",
      "Epoch 59:  98%|█████████▊| 64/65 [00:47<00:00,  1.33it/s, loss=0.246, v_num=13, train_loss=0.221, train_accuracy=0.941, val_loss=0.512, val_accuracy=0.819]\n",
      "Validating:  88%|████████▊ | 7/8 [00:04<00:00,  3.38it/s]\u001b[A\n",
      "Epoch 59: 100%|██████████| 65/65 [00:48<00:00,  1.34it/s, loss=0.246, v_num=13, train_loss=0.221, train_accuracy=0.941, val_loss=0.533, val_accuracy=0.819]\n",
      "                                                         \u001b[A"
     ]
    },
    {
     "name": "stderr",
     "output_type": "stream",
     "text": [
      "Epoch 59, global step 3419: val_loss was not in top 1\n"
     ]
    },
    {
     "name": "stdout",
     "output_type": "stream",
     "text": [
      "Epoch 60:  89%|████████▉ | 58/65 [00:43<00:05,  1.33it/s, loss=0.237, v_num=13, train_loss=0.184, train_accuracy=0.926, val_loss=0.533, val_accuracy=0.819]\n",
      "Validating: 0it [00:00, ?it/s]\u001b[A\n",
      "Validating:   0%|          | 0/8 [00:00<?, ?it/s]\u001b[A\n",
      "Validating:  12%|█▎        | 1/8 [00:03<00:25,  3.68s/it]\u001b[A\n",
      "Epoch 60:  92%|█████████▏| 60/65 [00:47<00:03,  1.27it/s, loss=0.237, v_num=13, train_loss=0.184, train_accuracy=0.926, val_loss=0.533, val_accuracy=0.819]\n",
      "Validating:  38%|███▊      | 3/8 [00:04<00:04,  1.04it/s]\u001b[A\n",
      "Epoch 60:  95%|█████████▌| 62/65 [00:47<00:02,  1.30it/s, loss=0.237, v_num=13, train_loss=0.184, train_accuracy=0.926, val_loss=0.533, val_accuracy=0.819]\n",
      "Validating:  62%|██████▎   | 5/8 [00:04<00:01,  2.13it/s]\u001b[A\n",
      "Epoch 60:  98%|█████████▊| 64/65 [00:48<00:00,  1.33it/s, loss=0.237, v_num=13, train_loss=0.184, train_accuracy=0.926, val_loss=0.533, val_accuracy=0.819]\n",
      "Validating:  88%|████████▊ | 7/8 [00:04<00:00,  3.36it/s]\u001b[A\n",
      "Epoch 60: 100%|██████████| 65/65 [00:48<00:00,  1.34it/s, loss=0.237, v_num=13, train_loss=0.184, train_accuracy=0.926, val_loss=0.460, val_accuracy=0.833]\n",
      "                                                         \u001b[A"
     ]
    },
    {
     "name": "stderr",
     "output_type": "stream",
     "text": [
      "Epoch 60, global step 3476: val_loss was not in top 1\n"
     ]
    },
    {
     "name": "stdout",
     "output_type": "stream",
     "text": [
      "Epoch 61:  89%|████████▉ | 58/65 [00:43<00:05,  1.33it/s, loss=0.222, v_num=13, train_loss=0.200, train_accuracy=0.912, val_loss=0.460, val_accuracy=0.833]\n",
      "Validating: 0it [00:00, ?it/s]\u001b[A\n",
      "Validating:   0%|          | 0/8 [00:00<?, ?it/s]\u001b[A\n",
      "Validating:  12%|█▎        | 1/8 [00:03<00:26,  3.73s/it]\u001b[A\n",
      "Epoch 61:  92%|█████████▏| 60/65 [00:47<00:03,  1.27it/s, loss=0.222, v_num=13, train_loss=0.200, train_accuracy=0.912, val_loss=0.460, val_accuracy=0.833]\n",
      "Validating:  38%|███▊      | 3/8 [00:04<00:04,  1.03it/s]\u001b[A\n",
      "Epoch 61:  95%|█████████▌| 62/65 [00:47<00:02,  1.30it/s, loss=0.222, v_num=13, train_loss=0.200, train_accuracy=0.912, val_loss=0.460, val_accuracy=0.833]\n",
      "Validating:  62%|██████▎   | 5/8 [00:04<00:01,  2.11it/s]\u001b[A\n",
      "Epoch 61:  98%|█████████▊| 64/65 [00:48<00:00,  1.33it/s, loss=0.222, v_num=13, train_loss=0.200, train_accuracy=0.912, val_loss=0.460, val_accuracy=0.833]\n",
      "Validating:  88%|████████▊ | 7/8 [00:04<00:00,  3.32it/s]\u001b[A\n",
      "Epoch 61: 100%|██████████| 65/65 [00:48<00:00,  1.34it/s, loss=0.222, v_num=13, train_loss=0.200, train_accuracy=0.912, val_loss=0.645, val_accuracy=0.802]\n",
      "                                                         \u001b[A"
     ]
    },
    {
     "name": "stderr",
     "output_type": "stream",
     "text": [
      "Epoch 61, global step 3533: val_loss was not in top 1\n"
     ]
    },
    {
     "name": "stdout",
     "output_type": "stream",
     "text": [
      "Epoch 62:  89%|████████▉ | 58/65 [00:43<00:05,  1.33it/s, loss=0.252, v_num=13, train_loss=0.144, train_accuracy=1.000, val_loss=0.645, val_accuracy=0.802]\n",
      "Validating: 0it [00:00, ?it/s]\u001b[A\n",
      "Validating:   0%|          | 0/8 [00:00<?, ?it/s]\u001b[A\n",
      "Validating:  12%|█▎        | 1/8 [00:03<00:26,  3.73s/it]\u001b[A\n",
      "Epoch 62:  92%|█████████▏| 60/65 [00:47<00:03,  1.26it/s, loss=0.252, v_num=13, train_loss=0.144, train_accuracy=1.000, val_loss=0.645, val_accuracy=0.802]\n",
      "Validating:  38%|███▊      | 3/8 [00:04<00:04,  1.01it/s]\u001b[A\n",
      "Epoch 62:  95%|█████████▌| 62/65 [00:47<00:02,  1.30it/s, loss=0.252, v_num=13, train_loss=0.144, train_accuracy=1.000, val_loss=0.645, val_accuracy=0.802]\n",
      "Validating:  62%|██████▎   | 5/8 [00:04<00:01,  2.07it/s]\u001b[A\n",
      "Epoch 62:  98%|█████████▊| 64/65 [00:48<00:00,  1.33it/s, loss=0.252, v_num=13, train_loss=0.144, train_accuracy=1.000, val_loss=0.645, val_accuracy=0.802]\n",
      "Validating:  88%|████████▊ | 7/8 [00:04<00:00,  3.29it/s]\u001b[A\n",
      "Epoch 62: 100%|██████████| 65/65 [00:48<00:00,  1.33it/s, loss=0.252, v_num=13, train_loss=0.144, train_accuracy=1.000, val_loss=0.402, val_accuracy=0.854]\n",
      "                                                         \u001b[A"
     ]
    },
    {
     "name": "stderr",
     "output_type": "stream",
     "text": [
      "Epoch 62, global step 3590: val_loss was not in top 1\n"
     ]
    },
    {
     "name": "stdout",
     "output_type": "stream",
     "text": [
      "Epoch 63:  89%|████████▉ | 58/65 [00:43<00:05,  1.32it/s, loss=0.235, v_num=13, train_loss=0.146, train_accuracy=0.941, val_loss=0.402, val_accuracy=0.854]\n",
      "Validating: 0it [00:00, ?it/s]\u001b[A\n",
      "Validating:   0%|          | 0/8 [00:00<?, ?it/s]\u001b[A\n",
      "Validating:  12%|█▎        | 1/8 [00:03<00:26,  3.77s/it]\u001b[A\n",
      "Epoch 63:  92%|█████████▏| 60/65 [00:47<00:03,  1.26it/s, loss=0.235, v_num=13, train_loss=0.146, train_accuracy=0.941, val_loss=0.402, val_accuracy=0.854]\n",
      "Validating:  38%|███▊      | 3/8 [00:04<00:04,  1.03it/s]\u001b[A\n",
      "Epoch 63:  95%|█████████▌| 62/65 [00:48<00:02,  1.29it/s, loss=0.235, v_num=13, train_loss=0.146, train_accuracy=0.941, val_loss=0.402, val_accuracy=0.854]\n",
      "Validating:  62%|██████▎   | 5/8 [00:04<00:01,  2.10it/s]\u001b[A\n",
      "Epoch 63:  98%|█████████▊| 64/65 [00:48<00:00,  1.32it/s, loss=0.235, v_num=13, train_loss=0.146, train_accuracy=0.941, val_loss=0.402, val_accuracy=0.854]\n",
      "Validating:  88%|████████▊ | 7/8 [00:04<00:00,  3.27it/s]\u001b[A\n",
      "Epoch 63: 100%|██████████| 65/65 [00:49<00:00,  1.32it/s, loss=0.235, v_num=13, train_loss=0.146, train_accuracy=0.941, val_loss=0.450, val_accuracy=0.842]\n",
      "                                                         \u001b[A"
     ]
    },
    {
     "name": "stderr",
     "output_type": "stream",
     "text": [
      "Epoch 63, global step 3647: val_loss was not in top 1\n"
     ]
    },
    {
     "name": "stdout",
     "output_type": "stream",
     "text": [
      "Epoch 64:  89%|████████▉ | 58/65 [00:43<00:05,  1.33it/s, loss=0.231, v_num=13, train_loss=0.243, train_accuracy=0.897, val_loss=0.450, val_accuracy=0.842]\n",
      "Validating: 0it [00:00, ?it/s]\u001b[A\n",
      "Validating:   0%|          | 0/8 [00:00<?, ?it/s]\u001b[A\n",
      "Validating:  12%|█▎        | 1/8 [00:03<00:25,  3.68s/it]\u001b[A\n",
      "Epoch 64:  92%|█████████▏| 60/65 [00:47<00:03,  1.26it/s, loss=0.231, v_num=13, train_loss=0.243, train_accuracy=0.897, val_loss=0.450, val_accuracy=0.842]\n",
      "Validating:  38%|███▊      | 3/8 [00:04<00:04,  1.05it/s]\u001b[A\n",
      "Epoch 64:  95%|█████████▌| 62/65 [00:47<00:02,  1.30it/s, loss=0.231, v_num=13, train_loss=0.243, train_accuracy=0.897, val_loss=0.450, val_accuracy=0.842]\n",
      "Validating:  62%|██████▎   | 5/8 [00:04<00:01,  2.14it/s]\u001b[A\n",
      "Epoch 64:  98%|█████████▊| 64/65 [00:48<00:00,  1.33it/s, loss=0.231, v_num=13, train_loss=0.243, train_accuracy=0.897, val_loss=0.450, val_accuracy=0.842]\n",
      "Validating:  88%|████████▊ | 7/8 [00:04<00:00,  3.38it/s]\u001b[A\n",
      "Epoch 64: 100%|██████████| 65/65 [00:48<00:00,  1.33it/s, loss=0.231, v_num=13, train_loss=0.243, train_accuracy=0.897, val_loss=0.436, val_accuracy=0.852]\n",
      "                                                         \u001b[A"
     ]
    },
    {
     "name": "stderr",
     "output_type": "stream",
     "text": [
      "Epoch 64, global step 3704: val_loss was not in top 1\n"
     ]
    },
    {
     "name": "stdout",
     "output_type": "stream",
     "text": [
      "Epoch 65:  89%|████████▉ | 58/65 [00:43<00:05,  1.33it/s, loss=0.227, v_num=13, train_loss=0.216, train_accuracy=0.912, val_loss=0.436, val_accuracy=0.852]\n",
      "Validating: 0it [00:00, ?it/s]\u001b[A\n",
      "Validating:   0%|          | 0/8 [00:00<?, ?it/s]\u001b[A\n",
      "Validating:  12%|█▎        | 1/8 [00:03<00:26,  3.72s/it]\u001b[A\n",
      "Epoch 65:  92%|█████████▏| 60/65 [00:47<00:03,  1.26it/s, loss=0.227, v_num=13, train_loss=0.216, train_accuracy=0.912, val_loss=0.436, val_accuracy=0.852]\n",
      "Validating:  38%|███▊      | 3/8 [00:04<00:04,  1.04it/s]\u001b[A\n",
      "Epoch 65:  95%|█████████▌| 62/65 [00:47<00:02,  1.30it/s, loss=0.227, v_num=13, train_loss=0.216, train_accuracy=0.912, val_loss=0.436, val_accuracy=0.852]\n",
      "Validating:  62%|██████▎   | 5/8 [00:04<00:01,  2.12it/s]\u001b[A\n",
      "Epoch 65:  98%|█████████▊| 64/65 [00:48<00:00,  1.33it/s, loss=0.227, v_num=13, train_loss=0.216, train_accuracy=0.912, val_loss=0.436, val_accuracy=0.852]\n",
      "Validating:  88%|████████▊ | 7/8 [00:04<00:00,  3.33it/s]\u001b[A\n",
      "Epoch 65: 100%|██████████| 65/65 [00:48<00:00,  1.33it/s, loss=0.227, v_num=13, train_loss=0.216, train_accuracy=0.912, val_loss=0.676, val_accuracy=0.810]\n",
      "                                                         \u001b[A"
     ]
    },
    {
     "name": "stderr",
     "output_type": "stream",
     "text": [
      "Epoch 65, global step 3761: val_loss was not in top 1\n"
     ]
    },
    {
     "name": "stdout",
     "output_type": "stream",
     "text": [
      "Epoch 66:  89%|████████▉ | 58/65 [00:43<00:05,  1.33it/s, loss=0.225, v_num=13, train_loss=0.334, train_accuracy=0.853, val_loss=0.676, val_accuracy=0.810]\n",
      "Validating: 0it [00:00, ?it/s]\u001b[A\n",
      "Validating:   0%|          | 0/8 [00:00<?, ?it/s]\u001b[A\n",
      "Validating:  12%|█▎        | 1/8 [00:03<00:25,  3.70s/it]\u001b[A\n",
      "Epoch 66:  92%|█████████▏| 60/65 [00:47<00:03,  1.26it/s, loss=0.225, v_num=13, train_loss=0.334, train_accuracy=0.853, val_loss=0.676, val_accuracy=0.810]\n",
      "Validating:  38%|███▊      | 3/8 [00:04<00:04,  1.02it/s]\u001b[A\n",
      "Epoch 66:  95%|█████████▌| 62/65 [00:47<00:02,  1.29it/s, loss=0.225, v_num=13, train_loss=0.334, train_accuracy=0.853, val_loss=0.676, val_accuracy=0.810]\n",
      "Validating:  62%|██████▎   | 5/8 [00:04<00:01,  2.08it/s]\u001b[A\n",
      "Epoch 66:  98%|█████████▊| 64/65 [00:48<00:00,  1.33it/s, loss=0.225, v_num=13, train_loss=0.334, train_accuracy=0.853, val_loss=0.676, val_accuracy=0.810]\n",
      "Validating:  88%|████████▊ | 7/8 [00:04<00:00,  3.29it/s]\u001b[A\n",
      "Epoch 66: 100%|██████████| 65/65 [00:48<00:00,  1.33it/s, loss=0.225, v_num=13, train_loss=0.334, train_accuracy=0.853, val_loss=0.547, val_accuracy=0.836]\n",
      "                                                         \u001b[A"
     ]
    },
    {
     "name": "stderr",
     "output_type": "stream",
     "text": [
      "Epoch 66, global step 3818: val_loss was not in top 1\n"
     ]
    },
    {
     "name": "stdout",
     "output_type": "stream",
     "text": [
      "Epoch 67:  89%|████████▉ | 58/65 [00:43<00:05,  1.32it/s, loss=0.247, v_num=13, train_loss=0.237, train_accuracy=0.853, val_loss=0.547, val_accuracy=0.836]\n",
      "Validating: 0it [00:00, ?it/s]\u001b[A\n",
      "Validating:   0%|          | 0/8 [00:00<?, ?it/s]\u001b[A\n",
      "Validating:  12%|█▎        | 1/8 [00:03<00:26,  3.75s/it]\u001b[A\n",
      "Epoch 67:  92%|█████████▏| 60/65 [00:47<00:03,  1.25it/s, loss=0.247, v_num=13, train_loss=0.237, train_accuracy=0.853, val_loss=0.547, val_accuracy=0.836]\n",
      "Validating:  38%|███▊      | 3/8 [00:04<00:04,  1.04it/s]\u001b[A\n",
      "Epoch 67:  95%|█████████▌| 62/65 [00:48<00:02,  1.29it/s, loss=0.247, v_num=13, train_loss=0.237, train_accuracy=0.853, val_loss=0.547, val_accuracy=0.836]\n",
      "Validating:  62%|██████▎   | 5/8 [00:04<00:01,  2.13it/s]\u001b[A\n",
      "Epoch 67:  98%|█████████▊| 64/65 [00:48<00:00,  1.32it/s, loss=0.247, v_num=13, train_loss=0.237, train_accuracy=0.853, val_loss=0.547, val_accuracy=0.836]\n",
      "Validating:  88%|████████▊ | 7/8 [00:04<00:00,  3.33it/s]\u001b[A\n",
      "Epoch 67: 100%|██████████| 65/65 [00:49<00:00,  1.32it/s, loss=0.247, v_num=13, train_loss=0.237, train_accuracy=0.853, val_loss=0.616, val_accuracy=0.803]\n",
      "                                                         \u001b[A"
     ]
    },
    {
     "name": "stderr",
     "output_type": "stream",
     "text": [
      "Epoch 67, global step 3875: val_loss was not in top 1\n"
     ]
    },
    {
     "name": "stdout",
     "output_type": "stream",
     "text": [
      "Epoch 70:  89%|████████▉ | 58/65 [00:43<00:05,  1.33it/s, loss=0.22, v_num=13, train_loss=0.224, train_accuracy=0.926, val_loss=0.400, val_accuracy=0.835] \n",
      "Validating: 0it [00:00, ?it/s]\u001b[A\n",
      "Validating:   0%|          | 0/8 [00:00<?, ?it/s]\u001b[A\n",
      "Validating:  12%|█▎        | 1/8 [00:03<00:25,  3.66s/it]\u001b[A\n",
      "Epoch 70:  92%|█████████▏| 60/65 [00:47<00:03,  1.26it/s, loss=0.22, v_num=13, train_loss=0.224, train_accuracy=0.926, val_loss=0.400, val_accuracy=0.835]\n",
      "Validating:  38%|███▊      | 3/8 [00:03<00:04,  1.05it/s]\u001b[A\n",
      "Epoch 70:  95%|█████████▌| 62/65 [00:47<00:02,  1.30it/s, loss=0.22, v_num=13, train_loss=0.224, train_accuracy=0.926, val_loss=0.400, val_accuracy=0.835]\n",
      "Validating:  62%|██████▎   | 5/8 [00:04<00:01,  2.14it/s]\u001b[A\n",
      "Epoch 70:  98%|█████████▊| 64/65 [00:48<00:00,  1.33it/s, loss=0.22, v_num=13, train_loss=0.224, train_accuracy=0.926, val_loss=0.400, val_accuracy=0.835]\n",
      "Validating:  88%|████████▊ | 7/8 [00:04<00:00,  3.37it/s]\u001b[A\n",
      "Epoch 70: 100%|██████████| 65/65 [00:48<00:00,  1.33it/s, loss=0.22, v_num=13, train_loss=0.224, train_accuracy=0.926, val_loss=0.367, val_accuracy=0.855]\n",
      "                                                         \u001b[A"
     ]
    },
    {
     "name": "stderr",
     "output_type": "stream",
     "text": [
      "Epoch 70, global step 4046: val_loss was not in top 1\n"
     ]
    },
    {
     "name": "stdout",
     "output_type": "stream",
     "text": [
      "Epoch 71:  89%|████████▉ | 58/65 [00:43<00:05,  1.33it/s, loss=0.232, v_num=13, train_loss=0.147, train_accuracy=0.941, val_loss=0.367, val_accuracy=0.855]\n",
      "Validating: 0it [00:00, ?it/s]\u001b[A\n",
      "Validating:   0%|          | 0/8 [00:00<?, ?it/s]\u001b[A\n",
      "Validating:  12%|█▎        | 1/8 [00:03<00:25,  3.69s/it]\u001b[A\n",
      "Epoch 71:  92%|█████████▏| 60/65 [00:47<00:03,  1.26it/s, loss=0.232, v_num=13, train_loss=0.147, train_accuracy=0.941, val_loss=0.367, val_accuracy=0.855]\n",
      "Validating:  38%|███▊      | 3/8 [00:04<00:04,  1.05it/s]\u001b[A\n",
      "Epoch 71:  95%|█████████▌| 62/65 [00:47<00:02,  1.29it/s, loss=0.232, v_num=13, train_loss=0.147, train_accuracy=0.941, val_loss=0.367, val_accuracy=0.855]\n",
      "Validating:  62%|██████▎   | 5/8 [00:04<00:01,  2.15it/s]\u001b[A\n",
      "Epoch 71:  98%|█████████▊| 64/65 [00:48<00:00,  1.33it/s, loss=0.232, v_num=13, train_loss=0.147, train_accuracy=0.941, val_loss=0.367, val_accuracy=0.855]\n",
      "Validating:  88%|████████▊ | 7/8 [00:04<00:00,  3.38it/s]\u001b[A\n",
      "Epoch 71: 100%|██████████| 65/65 [00:48<00:00,  1.33it/s, loss=0.232, v_num=13, train_loss=0.147, train_accuracy=0.941, val_loss=0.401, val_accuracy=0.853]\n",
      "                                                         \u001b[A"
     ]
    },
    {
     "name": "stderr",
     "output_type": "stream",
     "text": [
      "Epoch 71, global step 4103: val_loss was not in top 1\n"
     ]
    },
    {
     "name": "stdout",
     "output_type": "stream",
     "text": [
      "Epoch 72:  89%|████████▉ | 58/65 [00:43<00:05,  1.33it/s, loss=0.269, v_num=13, train_loss=0.203, train_accuracy=0.853, val_loss=0.401, val_accuracy=0.853]\n",
      "Validating: 0it [00:00, ?it/s]\u001b[A\n",
      "Validating:   0%|          | 0/8 [00:00<?, ?it/s]\u001b[A\n",
      "Validating:  12%|█▎        | 1/8 [00:03<00:26,  3.74s/it]\u001b[A\n",
      "Epoch 72:  92%|█████████▏| 60/65 [00:47<00:03,  1.26it/s, loss=0.269, v_num=13, train_loss=0.203, train_accuracy=0.853, val_loss=0.401, val_accuracy=0.853]\n",
      "Validating:  38%|███▊      | 3/8 [00:04<00:04,  1.03it/s]\u001b[A\n",
      "Epoch 72:  95%|█████████▌| 62/65 [00:47<00:02,  1.30it/s, loss=0.269, v_num=13, train_loss=0.203, train_accuracy=0.853, val_loss=0.401, val_accuracy=0.853]\n",
      "Validating:  62%|██████▎   | 5/8 [00:04<00:01,  2.11it/s]\u001b[A\n",
      "Epoch 72:  98%|█████████▊| 64/65 [00:48<00:00,  1.33it/s, loss=0.269, v_num=13, train_loss=0.203, train_accuracy=0.853, val_loss=0.401, val_accuracy=0.853]\n",
      "Validating:  88%|████████▊ | 7/8 [00:04<00:00,  3.33it/s]\u001b[A\n",
      "Epoch 72: 100%|██████████| 65/65 [00:48<00:00,  1.33it/s, loss=0.269, v_num=13, train_loss=0.203, train_accuracy=0.853, val_loss=0.566, val_accuracy=0.813]\n",
      "                                                         \u001b[A"
     ]
    },
    {
     "name": "stderr",
     "output_type": "stream",
     "text": [
      "Epoch 72, global step 4160: val_loss was not in top 1\n"
     ]
    },
    {
     "name": "stdout",
     "output_type": "stream",
     "text": [
      "Epoch 73:  89%|████████▉ | 58/65 [00:43<00:05,  1.33it/s, loss=0.204, v_num=13, train_loss=0.229, train_accuracy=0.912, val_loss=0.566, val_accuracy=0.813]\n",
      "Validating: 0it [00:00, ?it/s]\u001b[A\n",
      "Validating:   0%|          | 0/8 [00:00<?, ?it/s]\u001b[A\n",
      "Validating:  12%|█▎        | 1/8 [00:03<00:26,  3.82s/it]\u001b[A\n",
      "Epoch 73:  92%|█████████▏| 60/65 [00:47<00:03,  1.26it/s, loss=0.204, v_num=13, train_loss=0.229, train_accuracy=0.912, val_loss=0.566, val_accuracy=0.813]\n",
      "Validating:  38%|███▊      | 3/8 [00:04<00:04,  1.02it/s]\u001b[A\n",
      "Epoch 73:  95%|█████████▌| 62/65 [00:48<00:02,  1.29it/s, loss=0.204, v_num=13, train_loss=0.229, train_accuracy=0.912, val_loss=0.566, val_accuracy=0.813]\n",
      "Validating:  62%|██████▎   | 5/8 [00:04<00:01,  2.08it/s]\u001b[A\n",
      "Epoch 73:  98%|█████████▊| 64/65 [00:48<00:00,  1.32it/s, loss=0.204, v_num=13, train_loss=0.229, train_accuracy=0.912, val_loss=0.566, val_accuracy=0.813]\n",
      "Validating:  88%|████████▊ | 7/8 [00:04<00:00,  3.28it/s]\u001b[A\n",
      "Epoch 73: 100%|██████████| 65/65 [00:48<00:00,  1.33it/s, loss=0.204, v_num=13, train_loss=0.229, train_accuracy=0.912, val_loss=0.489, val_accuracy=0.840]\n",
      "                                                         \u001b[A"
     ]
    },
    {
     "name": "stderr",
     "output_type": "stream",
     "text": [
      "Epoch 73, global step 4217: val_loss was not in top 1\n"
     ]
    },
    {
     "name": "stdout",
     "output_type": "stream",
     "text": [
      "Epoch 74:  89%|████████▉ | 58/65 [00:43<00:05,  1.33it/s, loss=0.203, v_num=13, train_loss=0.290, train_accuracy=0.897, val_loss=0.489, val_accuracy=0.840]\n",
      "Validating: 0it [00:00, ?it/s]\u001b[A\n",
      "Validating:   0%|          | 0/8 [00:00<?, ?it/s]\u001b[A\n",
      "Validating:  12%|█▎        | 1/8 [00:03<00:25,  3.68s/it]\u001b[A\n",
      "Epoch 74:  92%|█████████▏| 60/65 [00:47<00:03,  1.27it/s, loss=0.203, v_num=13, train_loss=0.290, train_accuracy=0.897, val_loss=0.489, val_accuracy=0.840]\n",
      "Validating:  38%|███▊      | 3/8 [00:04<00:04,  1.04it/s]\u001b[A\n",
      "Epoch 74:  95%|█████████▌| 62/65 [00:47<00:02,  1.30it/s, loss=0.203, v_num=13, train_loss=0.290, train_accuracy=0.897, val_loss=0.489, val_accuracy=0.840]\n",
      "Validating:  62%|██████▎   | 5/8 [00:04<00:01,  2.13it/s]\u001b[A\n",
      "Epoch 74:  98%|█████████▊| 64/65 [00:48<00:00,  1.33it/s, loss=0.203, v_num=13, train_loss=0.290, train_accuracy=0.897, val_loss=0.489, val_accuracy=0.840]\n",
      "Validating:  88%|████████▊ | 7/8 [00:04<00:00,  3.35it/s]\u001b[A\n",
      "Epoch 74: 100%|██████████| 65/65 [00:48<00:00,  1.34it/s, loss=0.203, v_num=13, train_loss=0.290, train_accuracy=0.897, val_loss=0.414, val_accuracy=0.869]\n",
      "                                                         \u001b[A"
     ]
    },
    {
     "name": "stderr",
     "output_type": "stream",
     "text": [
      "Epoch 74, global step 4274: val_loss was not in top 1\n"
     ]
    },
    {
     "name": "stdout",
     "output_type": "stream",
     "text": [
      "Epoch 75:  89%|████████▉ | 58/65 [00:43<00:05,  1.33it/s, loss=0.233, v_num=13, train_loss=0.173, train_accuracy=0.912, val_loss=0.414, val_accuracy=0.869]\n",
      "Validating: 0it [00:00, ?it/s]\u001b[A\n",
      "Validating:   0%|          | 0/8 [00:00<?, ?it/s]\u001b[A\n",
      "Validating:  12%|█▎        | 1/8 [00:03<00:25,  3.65s/it]\u001b[A\n",
      "Epoch 75:  92%|█████████▏| 60/65 [00:47<00:03,  1.26it/s, loss=0.233, v_num=13, train_loss=0.173, train_accuracy=0.912, val_loss=0.414, val_accuracy=0.869]\n",
      "Validating:  38%|███▊      | 3/8 [00:03<00:04,  1.06it/s]\u001b[A\n",
      "Epoch 75:  95%|█████████▌| 62/65 [00:47<00:02,  1.30it/s, loss=0.233, v_num=13, train_loss=0.173, train_accuracy=0.912, val_loss=0.414, val_accuracy=0.869]\n",
      "Validating:  62%|██████▎   | 5/8 [00:04<00:01,  2.16it/s]\u001b[A\n",
      "Epoch 75:  98%|█████████▊| 64/65 [00:48<00:00,  1.33it/s, loss=0.233, v_num=13, train_loss=0.173, train_accuracy=0.912, val_loss=0.414, val_accuracy=0.869]\n",
      "Validating:  88%|████████▊ | 7/8 [00:04<00:00,  3.38it/s]\u001b[A\n",
      "Epoch 75: 100%|██████████| 65/65 [00:48<00:00,  1.33it/s, loss=0.233, v_num=13, train_loss=0.173, train_accuracy=0.912, val_loss=0.451, val_accuracy=0.861]\n",
      "                                                         \u001b[A"
     ]
    },
    {
     "name": "stderr",
     "output_type": "stream",
     "text": [
      "Epoch 75, global step 4331: val_loss was not in top 1\n"
     ]
    },
    {
     "name": "stdout",
     "output_type": "stream",
     "text": [
      "Epoch 76:  89%|████████▉ | 58/65 [00:43<00:05,  1.34it/s, loss=0.194, v_num=13, train_loss=0.219, train_accuracy=0.882, val_loss=0.451, val_accuracy=0.861]\n",
      "Validating: 0it [00:00, ?it/s]\u001b[A\n",
      "Validating:   0%|          | 0/8 [00:00<?, ?it/s]\u001b[A\n",
      "Validating:  12%|█▎        | 1/8 [00:03<00:25,  3.65s/it]\u001b[A\n",
      "Epoch 76:  92%|█████████▏| 60/65 [00:47<00:03,  1.27it/s, loss=0.194, v_num=13, train_loss=0.219, train_accuracy=0.882, val_loss=0.451, val_accuracy=0.861]\n",
      "Validating:  38%|███▊      | 3/8 [00:03<00:04,  1.06it/s]\u001b[A\n",
      "Epoch 76:  95%|█████████▌| 62/65 [00:47<00:02,  1.30it/s, loss=0.194, v_num=13, train_loss=0.219, train_accuracy=0.882, val_loss=0.451, val_accuracy=0.861]\n",
      "Validating:  62%|██████▎   | 5/8 [00:04<00:01,  2.14it/s]\u001b[A\n",
      "Epoch 76:  98%|█████████▊| 64/65 [00:47<00:00,  1.34it/s, loss=0.194, v_num=13, train_loss=0.219, train_accuracy=0.882, val_loss=0.451, val_accuracy=0.861]\n",
      "Validating:  88%|████████▊ | 7/8 [00:04<00:00,  3.35it/s]\u001b[A\n",
      "Epoch 76: 100%|██████████| 65/65 [00:48<00:00,  1.34it/s, loss=0.194, v_num=13, train_loss=0.219, train_accuracy=0.882, val_loss=0.458, val_accuracy=0.858]\n",
      "                                                         \u001b[A"
     ]
    },
    {
     "name": "stderr",
     "output_type": "stream",
     "text": [
      "Epoch 76, global step 4388: val_loss was not in top 1\n"
     ]
    },
    {
     "name": "stdout",
     "output_type": "stream",
     "text": [
      "Epoch 77:  89%|████████▉ | 58/65 [00:43<00:05,  1.33it/s, loss=0.22, v_num=13, train_loss=0.297, train_accuracy=0.868, val_loss=0.458, val_accuracy=0.858] \n",
      "Validating: 0it [00:00, ?it/s]\u001b[A\n",
      "Validating:   0%|          | 0/8 [00:00<?, ?it/s]\u001b[A\n",
      "Validating:  12%|█▎        | 1/8 [00:03<00:27,  3.99s/it]\u001b[A\n",
      "Epoch 77:  92%|█████████▏| 60/65 [00:47<00:03,  1.26it/s, loss=0.22, v_num=13, train_loss=0.297, train_accuracy=0.868, val_loss=0.458, val_accuracy=0.858]\n",
      "Validating:  38%|███▊      | 3/8 [00:04<00:05,  1.02s/it]\u001b[A\n",
      "Epoch 77:  95%|█████████▌| 62/65 [00:48<00:02,  1.29it/s, loss=0.22, v_num=13, train_loss=0.297, train_accuracy=0.868, val_loss=0.458, val_accuracy=0.858]\n",
      "Validating:  62%|██████▎   | 5/8 [00:04<00:01,  2.02it/s]\u001b[A\n",
      "Epoch 77:  98%|█████████▊| 64/65 [00:48<00:00,  1.32it/s, loss=0.22, v_num=13, train_loss=0.297, train_accuracy=0.868, val_loss=0.458, val_accuracy=0.858]\n",
      "Validating:  88%|████████▊ | 7/8 [00:04<00:00,  3.25it/s]\u001b[A\n",
      "Epoch 77: 100%|██████████| 65/65 [00:49<00:00,  1.33it/s, loss=0.22, v_num=13, train_loss=0.297, train_accuracy=0.868, val_loss=0.424, val_accuracy=0.849]\n",
      "                                                         \u001b[A"
     ]
    },
    {
     "name": "stderr",
     "output_type": "stream",
     "text": [
      "Epoch 77, global step 4445: val_loss was not in top 1\n"
     ]
    },
    {
     "name": "stdout",
     "output_type": "stream",
     "text": [
      "Epoch 78:  89%|████████▉ | 58/65 [00:43<00:05,  1.33it/s, loss=0.208, v_num=13, train_loss=0.208, train_accuracy=0.926, val_loss=0.424, val_accuracy=0.849]\n",
      "Validating: 0it [00:00, ?it/s]\u001b[A\n",
      "Validating:   0%|          | 0/8 [00:00<?, ?it/s]\u001b[A\n",
      "Validating:  12%|█▎        | 1/8 [00:03<00:25,  3.70s/it]\u001b[A\n",
      "Epoch 78:  92%|█████████▏| 60/65 [00:47<00:03,  1.27it/s, loss=0.208, v_num=13, train_loss=0.208, train_accuracy=0.926, val_loss=0.424, val_accuracy=0.849]\n",
      "Validating:  38%|███▊      | 3/8 [00:04<00:04,  1.04it/s]\u001b[A\n",
      "Epoch 78:  95%|█████████▌| 62/65 [00:47<00:02,  1.30it/s, loss=0.208, v_num=13, train_loss=0.208, train_accuracy=0.926, val_loss=0.424, val_accuracy=0.849]\n",
      "Validating:  62%|██████▎   | 5/8 [00:04<00:01,  2.13it/s]\u001b[A\n",
      "Epoch 78:  98%|█████████▊| 64/65 [00:47<00:00,  1.33it/s, loss=0.208, v_num=13, train_loss=0.208, train_accuracy=0.926, val_loss=0.424, val_accuracy=0.849]\n",
      "Validating:  88%|████████▊ | 7/8 [00:04<00:00,  3.35it/s]\u001b[A\n",
      "Epoch 78: 100%|██████████| 65/65 [00:48<00:00,  1.34it/s, loss=0.208, v_num=13, train_loss=0.208, train_accuracy=0.926, val_loss=0.491, val_accuracy=0.842]\n",
      "                                                         \u001b[A"
     ]
    },
    {
     "name": "stderr",
     "output_type": "stream",
     "text": [
      "Epoch 78, global step 4502: val_loss was not in top 1\n"
     ]
    },
    {
     "name": "stdout",
     "output_type": "stream",
     "text": [
      "Epoch 79:  89%|████████▉ | 58/65 [00:43<00:05,  1.33it/s, loss=0.184, v_num=13, train_loss=0.203, train_accuracy=0.912, val_loss=0.491, val_accuracy=0.842]\n",
      "Validating: 0it [00:00, ?it/s]\u001b[A\n",
      "Validating:   0%|          | 0/8 [00:00<?, ?it/s]\u001b[A\n",
      "Validating:  12%|█▎        | 1/8 [00:03<00:26,  3.81s/it]\u001b[A\n",
      "Epoch 79:  92%|█████████▏| 60/65 [00:47<00:03,  1.26it/s, loss=0.184, v_num=13, train_loss=0.203, train_accuracy=0.912, val_loss=0.491, val_accuracy=0.842]\n",
      "Validating:  38%|███▊      | 3/8 [00:04<00:04,  1.02it/s]\u001b[A\n",
      "Epoch 79:  95%|█████████▌| 62/65 [00:47<00:02,  1.29it/s, loss=0.184, v_num=13, train_loss=0.203, train_accuracy=0.912, val_loss=0.491, val_accuracy=0.842]\n",
      "Validating:  62%|██████▎   | 5/8 [00:04<00:01,  2.09it/s]\u001b[A\n",
      "Epoch 79:  98%|█████████▊| 64/65 [00:48<00:00,  1.33it/s, loss=0.184, v_num=13, train_loss=0.203, train_accuracy=0.912, val_loss=0.491, val_accuracy=0.842]\n",
      "Validating:  88%|████████▊ | 7/8 [00:04<00:00,  3.30it/s]\u001b[A\n",
      "Epoch 79: 100%|██████████| 65/65 [00:48<00:00,  1.33it/s, loss=0.184, v_num=13, train_loss=0.203, train_accuracy=0.912, val_loss=0.403, val_accuracy=0.875]\n",
      "                                                         \u001b[A"
     ]
    },
    {
     "name": "stderr",
     "output_type": "stream",
     "text": [
      "Epoch 79, global step 4559: val_loss was not in top 1\n"
     ]
    },
    {
     "name": "stdout",
     "output_type": "stream",
     "text": [
      "Epoch 80:  89%|████████▉ | 58/65 [00:43<00:05,  1.33it/s, loss=0.182, v_num=13, train_loss=0.249, train_accuracy=0.882, val_loss=0.403, val_accuracy=0.875]\n",
      "Validating: 0it [00:00, ?it/s]\u001b[A\n",
      "Validating:   0%|          | 0/8 [00:00<?, ?it/s]\u001b[A\n",
      "Validating:  12%|█▎        | 1/8 [00:03<00:25,  3.70s/it]\u001b[A\n",
      "Epoch 80:  92%|█████████▏| 60/65 [00:47<00:03,  1.27it/s, loss=0.182, v_num=13, train_loss=0.249, train_accuracy=0.882, val_loss=0.403, val_accuracy=0.875]\n",
      "Validating:  38%|███▊      | 3/8 [00:04<00:04,  1.05it/s]\u001b[A\n",
      "Epoch 80:  95%|█████████▌| 62/65 [00:47<00:02,  1.30it/s, loss=0.182, v_num=13, train_loss=0.249, train_accuracy=0.882, val_loss=0.403, val_accuracy=0.875]\n",
      "Validating:  62%|██████▎   | 5/8 [00:04<00:01,  2.13it/s]\u001b[A\n",
      "Epoch 80:  98%|█████████▊| 64/65 [00:48<00:00,  1.33it/s, loss=0.182, v_num=13, train_loss=0.249, train_accuracy=0.882, val_loss=0.403, val_accuracy=0.875]\n",
      "Validating:  88%|████████▊ | 7/8 [00:04<00:00,  3.36it/s]\u001b[A\n",
      "Epoch 80: 100%|██████████| 65/65 [00:48<00:00,  1.33it/s, loss=0.182, v_num=13, train_loss=0.249, train_accuracy=0.882, val_loss=0.374, val_accuracy=0.880]\n",
      "                                                         \u001b[A"
     ]
    },
    {
     "name": "stderr",
     "output_type": "stream",
     "text": [
      "Epoch 80, global step 4616: val_loss was not in top 1\n"
     ]
    },
    {
     "name": "stdout",
     "output_type": "stream",
     "text": [
      "Epoch 81:  89%|████████▉ | 58/65 [00:43<00:05,  1.33it/s, loss=0.179, v_num=13, train_loss=0.259, train_accuracy=0.882, val_loss=0.374, val_accuracy=0.880]\n",
      "Validating: 0it [00:00, ?it/s]\u001b[A\n",
      "Validating:   0%|          | 0/8 [00:00<?, ?it/s]\u001b[A\n",
      "Validating:  12%|█▎        | 1/8 [00:03<00:26,  3.75s/it]\u001b[A\n",
      "Epoch 81:  92%|█████████▏| 60/65 [00:47<00:03,  1.26it/s, loss=0.179, v_num=13, train_loss=0.259, train_accuracy=0.882, val_loss=0.374, val_accuracy=0.880]\n",
      "Validating:  38%|███▊      | 3/8 [00:04<00:04,  1.04it/s]\u001b[A\n",
      "Epoch 81:  95%|█████████▌| 62/65 [00:47<00:02,  1.30it/s, loss=0.179, v_num=13, train_loss=0.259, train_accuracy=0.882, val_loss=0.374, val_accuracy=0.880]\n",
      "Validating:  62%|██████▎   | 5/8 [00:04<00:01,  2.11it/s]\u001b[A\n",
      "Epoch 81:  98%|█████████▊| 64/65 [00:48<00:00,  1.33it/s, loss=0.179, v_num=13, train_loss=0.259, train_accuracy=0.882, val_loss=0.374, val_accuracy=0.880]\n",
      "Validating:  88%|████████▊ | 7/8 [00:04<00:00,  3.32it/s]\u001b[A\n",
      "Epoch 81: 100%|██████████| 65/65 [00:48<00:00,  1.33it/s, loss=0.179, v_num=13, train_loss=0.259, train_accuracy=0.882, val_loss=0.718, val_accuracy=0.798]\n",
      "                                                         \u001b[A"
     ]
    },
    {
     "name": "stderr",
     "output_type": "stream",
     "text": [
      "Epoch 81, global step 4673: val_loss was not in top 1\n"
     ]
    },
    {
     "name": "stdout",
     "output_type": "stream",
     "text": [
      "Epoch 82:  89%|████████▉ | 58/65 [00:43<00:05,  1.33it/s, loss=0.17, v_num=13, train_loss=0.136, train_accuracy=0.941, val_loss=0.718, val_accuracy=0.798] \n",
      "Validating: 0it [00:00, ?it/s]\u001b[A\n",
      "Validating:   0%|          | 0/8 [00:00<?, ?it/s]\u001b[A\n",
      "Validating:  12%|█▎        | 1/8 [00:03<00:27,  3.89s/it]\u001b[A\n",
      "Epoch 82:  92%|█████████▏| 60/65 [00:47<00:03,  1.26it/s, loss=0.17, v_num=13, train_loss=0.136, train_accuracy=0.941, val_loss=0.718, val_accuracy=0.798]\n",
      "Validating:  38%|███▊      | 3/8 [00:04<00:04,  1.00it/s]\u001b[A\n",
      "Epoch 82:  95%|█████████▌| 62/65 [00:47<00:02,  1.29it/s, loss=0.17, v_num=13, train_loss=0.136, train_accuracy=0.941, val_loss=0.718, val_accuracy=0.798]\n",
      "Validating:  62%|██████▎   | 5/8 [00:04<00:01,  2.05it/s]\u001b[A\n",
      "Epoch 82:  98%|█████████▊| 64/65 [00:48<00:00,  1.33it/s, loss=0.17, v_num=13, train_loss=0.136, train_accuracy=0.941, val_loss=0.718, val_accuracy=0.798]\n",
      "Validating:  88%|████████▊ | 7/8 [00:04<00:00,  3.27it/s]\u001b[A\n",
      "Epoch 82: 100%|██████████| 65/65 [00:48<00:00,  1.33it/s, loss=0.17, v_num=13, train_loss=0.136, train_accuracy=0.941, val_loss=0.397, val_accuracy=0.882]\n",
      "                                                         \u001b[A"
     ]
    },
    {
     "name": "stderr",
     "output_type": "stream",
     "text": [
      "Epoch 82, global step 4730: val_loss was not in top 1\n"
     ]
    },
    {
     "name": "stdout",
     "output_type": "stream",
     "text": [
      "Epoch 83:  89%|████████▉ | 58/65 [00:43<00:05,  1.33it/s, loss=0.169, v_num=13, train_loss=0.177, train_accuracy=0.926, val_loss=0.397, val_accuracy=0.882]\n",
      "Validating: 0it [00:00, ?it/s]\u001b[A\n",
      "Validating:   0%|          | 0/8 [00:00<?, ?it/s]\u001b[A\n",
      "Validating:  12%|█▎        | 1/8 [00:03<00:25,  3.71s/it]\u001b[A\n",
      "Epoch 83:  92%|█████████▏| 60/65 [00:47<00:03,  1.26it/s, loss=0.169, v_num=13, train_loss=0.177, train_accuracy=0.926, val_loss=0.397, val_accuracy=0.882]\n",
      "Validating:  38%|███▊      | 3/8 [00:04<00:04,  1.05it/s]\u001b[A\n",
      "Epoch 83:  95%|█████████▌| 62/65 [00:47<00:02,  1.30it/s, loss=0.169, v_num=13, train_loss=0.177, train_accuracy=0.926, val_loss=0.397, val_accuracy=0.882]\n",
      "Validating:  62%|██████▎   | 5/8 [00:04<00:01,  2.13it/s]\u001b[A\n",
      "Epoch 83:  98%|█████████▊| 64/65 [00:48<00:00,  1.33it/s, loss=0.169, v_num=13, train_loss=0.177, train_accuracy=0.926, val_loss=0.397, val_accuracy=0.882]\n",
      "Validating:  88%|████████▊ | 7/8 [00:04<00:00,  3.34it/s]\u001b[A\n",
      "Epoch 83: 100%|██████████| 65/65 [00:48<00:00,  1.33it/s, loss=0.169, v_num=13, train_loss=0.177, train_accuracy=0.926, val_loss=0.408, val_accuracy=0.867]\n",
      "                                                         \u001b[A"
     ]
    },
    {
     "name": "stderr",
     "output_type": "stream",
     "text": [
      "Epoch 83, global step 4787: val_loss was not in top 1\n"
     ]
    },
    {
     "name": "stdout",
     "output_type": "stream",
     "text": [
      "Epoch 84:  89%|████████▉ | 58/65 [00:43<00:05,  1.33it/s, loss=0.174, v_num=13, train_loss=0.205, train_accuracy=0.868, val_loss=0.408, val_accuracy=0.867]\n",
      "Validating: 0it [00:00, ?it/s]\u001b[A\n",
      "Validating:   0%|          | 0/8 [00:00<?, ?it/s]\u001b[A\n",
      "Validating:  12%|█▎        | 1/8 [00:03<00:25,  3.71s/it]\u001b[A\n",
      "Epoch 84:  92%|█████████▏| 60/65 [00:47<00:03,  1.27it/s, loss=0.174, v_num=13, train_loss=0.205, train_accuracy=0.868, val_loss=0.408, val_accuracy=0.867]\n",
      "Validating:  38%|███▊      | 3/8 [00:04<00:04,  1.04it/s]\u001b[A\n",
      "Epoch 84:  95%|█████████▌| 62/65 [00:47<00:02,  1.30it/s, loss=0.174, v_num=13, train_loss=0.205, train_accuracy=0.868, val_loss=0.408, val_accuracy=0.867]\n",
      "Validating:  62%|██████▎   | 5/8 [00:04<00:01,  2.12it/s]\u001b[A\n",
      "Epoch 84:  98%|█████████▊| 64/65 [00:48<00:00,  1.33it/s, loss=0.174, v_num=13, train_loss=0.205, train_accuracy=0.868, val_loss=0.408, val_accuracy=0.867]\n",
      "Validating:  88%|████████▊ | 7/8 [00:04<00:00,  3.32it/s]\u001b[A\n",
      "Epoch 84: 100%|██████████| 65/65 [00:48<00:00,  1.34it/s, loss=0.174, v_num=13, train_loss=0.205, train_accuracy=0.868, val_loss=0.438, val_accuracy=0.872]\n",
      "                                                         \u001b[A"
     ]
    },
    {
     "name": "stderr",
     "output_type": "stream",
     "text": [
      "Epoch 84, global step 4844: val_loss was not in top 1\n"
     ]
    },
    {
     "name": "stdout",
     "output_type": "stream",
     "text": [
      "Epoch 85:  89%|████████▉ | 58/65 [00:43<00:05,  1.33it/s, loss=0.157, v_num=13, train_loss=0.187, train_accuracy=0.926, val_loss=0.438, val_accuracy=0.872] \n",
      "Validating: 0it [00:00, ?it/s]\u001b[A\n",
      "Validating:   0%|          | 0/8 [00:00<?, ?it/s]\u001b[A\n",
      "Validating:  12%|█▎        | 1/8 [00:03<00:26,  3.78s/it]\u001b[A\n",
      "Epoch 85:  92%|█████████▏| 60/65 [00:47<00:03,  1.26it/s, loss=0.157, v_num=13, train_loss=0.187, train_accuracy=0.926, val_loss=0.438, val_accuracy=0.872]\n",
      "Validating:  38%|███▊      | 3/8 [00:04<00:04,  1.03it/s]\u001b[A\n",
      "Epoch 85:  95%|█████████▌| 62/65 [00:47<00:02,  1.29it/s, loss=0.157, v_num=13, train_loss=0.187, train_accuracy=0.926, val_loss=0.438, val_accuracy=0.872]\n",
      "Validating:  62%|██████▎   | 5/8 [00:04<00:01,  2.11it/s]\u001b[A\n",
      "Epoch 85:  98%|█████████▊| 64/65 [00:48<00:00,  1.33it/s, loss=0.157, v_num=13, train_loss=0.187, train_accuracy=0.926, val_loss=0.438, val_accuracy=0.872]\n",
      "Validating:  88%|████████▊ | 7/8 [00:04<00:00,  3.31it/s]\u001b[A\n",
      "Epoch 85: 100%|██████████| 65/65 [00:48<00:00,  1.33it/s, loss=0.157, v_num=13, train_loss=0.187, train_accuracy=0.926, val_loss=0.379, val_accuracy=0.889]\n",
      "                                                         \u001b[A"
     ]
    },
    {
     "name": "stderr",
     "output_type": "stream",
     "text": [
      "Epoch 85, global step 4901: val_loss was not in top 1\n"
     ]
    },
    {
     "name": "stdout",
     "output_type": "stream",
     "text": [
      "Epoch 86:  89%|████████▉ | 58/65 [00:43<00:05,  1.33it/s, loss=0.157, v_num=13, train_loss=0.128, train_accuracy=0.941, val_loss=0.379, val_accuracy=0.889]\n",
      "Validating: 0it [00:00, ?it/s]\u001b[A\n",
      "Validating:   0%|          | 0/8 [00:00<?, ?it/s]\u001b[A\n",
      "Validating:  12%|█▎        | 1/8 [00:03<00:27,  3.90s/it]\u001b[A\n",
      "Epoch 86:  92%|█████████▏| 60/65 [00:47<00:03,  1.26it/s, loss=0.157, v_num=13, train_loss=0.128, train_accuracy=0.941, val_loss=0.379, val_accuracy=0.889]\n",
      "Validating:  38%|███▊      | 3/8 [00:04<00:05,  1.00s/it]\u001b[A\n",
      "Epoch 86:  95%|█████████▌| 62/65 [00:47<00:02,  1.29it/s, loss=0.157, v_num=13, train_loss=0.128, train_accuracy=0.941, val_loss=0.379, val_accuracy=0.889]\n",
      "Validating:  62%|██████▎   | 5/8 [00:04<00:01,  2.04it/s]\u001b[A\n",
      "Epoch 86:  98%|█████████▊| 64/65 [00:48<00:00,  1.33it/s, loss=0.157, v_num=13, train_loss=0.128, train_accuracy=0.941, val_loss=0.379, val_accuracy=0.889]\n",
      "Validating:  88%|████████▊ | 7/8 [00:04<00:00,  3.25it/s]\u001b[A\n",
      "Epoch 86: 100%|██████████| 65/65 [00:48<00:00,  1.33it/s, loss=0.157, v_num=13, train_loss=0.128, train_accuracy=0.941, val_loss=0.351, val_accuracy=0.886]\n",
      "                                                         \u001b[A"
     ]
    },
    {
     "name": "stderr",
     "output_type": "stream",
     "text": [
      "Epoch 86, global step 4958: val_loss reached 0.35101 (best 0.35101), saving model to \"/Workspace/code/checkpoints/best-checkpoint250x250-v4.ckpt\" as top 1\n"
     ]
    },
    {
     "name": "stdout",
     "output_type": "stream",
     "text": [
      "Epoch 87:  89%|████████▉ | 58/65 [00:43<00:05,  1.33it/s, loss=0.181, v_num=13, train_loss=0.129, train_accuracy=0.941, val_loss=0.351, val_accuracy=0.886]\n",
      "Validating: 0it [00:00, ?it/s]\u001b[A\n",
      "Validating:   0%|          | 0/8 [00:00<?, ?it/s]\u001b[A\n",
      "Validating:  12%|█▎        | 1/8 [00:03<00:27,  3.89s/it]\u001b[A\n",
      "Epoch 87:  92%|█████████▏| 60/65 [00:47<00:03,  1.25it/s, loss=0.181, v_num=13, train_loss=0.129, train_accuracy=0.941, val_loss=0.351, val_accuracy=0.886]\n",
      "Validating:  38%|███▊      | 3/8 [00:04<00:04,  1.01it/s]\u001b[A\n",
      "Epoch 87:  95%|█████████▌| 62/65 [00:48<00:02,  1.29it/s, loss=0.181, v_num=13, train_loss=0.129, train_accuracy=0.941, val_loss=0.351, val_accuracy=0.886]\n",
      "Validating:  62%|██████▎   | 5/8 [00:04<00:01,  2.07it/s]\u001b[A\n",
      "Epoch 87:  98%|█████████▊| 64/65 [00:48<00:00,  1.32it/s, loss=0.181, v_num=13, train_loss=0.129, train_accuracy=0.941, val_loss=0.351, val_accuracy=0.886]\n",
      "Validating:  88%|████████▊ | 7/8 [00:04<00:00,  3.30it/s]\u001b[A\n",
      "Epoch 87: 100%|██████████| 65/65 [00:49<00:00,  1.32it/s, loss=0.181, v_num=13, train_loss=0.129, train_accuracy=0.941, val_loss=0.402, val_accuracy=0.877]\n",
      "                                                         \u001b[A"
     ]
    },
    {
     "name": "stderr",
     "output_type": "stream",
     "text": [
      "Epoch 87, global step 5015: val_loss was not in top 1\n"
     ]
    },
    {
     "name": "stdout",
     "output_type": "stream",
     "text": [
      "Epoch 88:  89%|████████▉ | 58/65 [00:43<00:05,  1.33it/s, loss=0.171, v_num=13, train_loss=0.151, train_accuracy=0.926, val_loss=0.402, val_accuracy=0.877] \n",
      "Validating: 0it [00:00, ?it/s]\u001b[A\n",
      "Validating:   0%|          | 0/8 [00:00<?, ?it/s]\u001b[A\n",
      "Validating:  12%|█▎        | 1/8 [00:03<00:27,  3.89s/it]\u001b[A\n",
      "Epoch 88:  92%|█████████▏| 60/65 [00:47<00:03,  1.26it/s, loss=0.171, v_num=13, train_loss=0.151, train_accuracy=0.926, val_loss=0.402, val_accuracy=0.877]\n",
      "Validating:  38%|███▊      | 3/8 [00:04<00:04,  1.00it/s]\u001b[A\n",
      "Epoch 88:  95%|█████████▌| 62/65 [00:47<00:02,  1.30it/s, loss=0.171, v_num=13, train_loss=0.151, train_accuracy=0.926, val_loss=0.402, val_accuracy=0.877]\n",
      "Validating:  62%|██████▎   | 5/8 [00:04<00:01,  2.06it/s]\u001b[A\n",
      "Epoch 88:  98%|█████████▊| 64/65 [00:48<00:00,  1.33it/s, loss=0.171, v_num=13, train_loss=0.151, train_accuracy=0.926, val_loss=0.402, val_accuracy=0.877]\n",
      "Validating:  88%|████████▊ | 7/8 [00:04<00:00,  3.26it/s]\u001b[A\n",
      "Epoch 88: 100%|██████████| 65/65 [00:48<00:00,  1.33it/s, loss=0.171, v_num=13, train_loss=0.151, train_accuracy=0.926, val_loss=0.394, val_accuracy=0.887]\n",
      "                                                         \u001b[A"
     ]
    },
    {
     "name": "stderr",
     "output_type": "stream",
     "text": [
      "Epoch 88, global step 5072: val_loss was not in top 1\n"
     ]
    },
    {
     "name": "stdout",
     "output_type": "stream",
     "text": [
      "Epoch 89:  89%|████████▉ | 58/65 [00:43<00:05,  1.33it/s, loss=0.162, v_num=13, train_loss=0.123, train_accuracy=0.941, val_loss=0.394, val_accuracy=0.887] \n",
      "Validating: 0it [00:00, ?it/s]\u001b[A\n",
      "Validating:   0%|          | 0/8 [00:00<?, ?it/s]\u001b[A\n",
      "Validating:  12%|█▎        | 1/8 [00:03<00:26,  3.85s/it]\u001b[A\n",
      "Epoch 89:  92%|█████████▏| 60/65 [00:47<00:03,  1.26it/s, loss=0.162, v_num=13, train_loss=0.123, train_accuracy=0.941, val_loss=0.394, val_accuracy=0.887]\n",
      "Validating:  38%|███▊      | 3/8 [00:04<00:04,  1.01it/s]\u001b[A\n",
      "Epoch 89:  95%|█████████▌| 62/65 [00:47<00:02,  1.29it/s, loss=0.162, v_num=13, train_loss=0.123, train_accuracy=0.941, val_loss=0.394, val_accuracy=0.887]\n",
      "Validating:  62%|██████▎   | 5/8 [00:04<00:01,  2.07it/s]\u001b[A\n",
      "Epoch 89:  98%|█████████▊| 64/65 [00:48<00:00,  1.33it/s, loss=0.162, v_num=13, train_loss=0.123, train_accuracy=0.941, val_loss=0.394, val_accuracy=0.887]\n",
      "Validating:  88%|████████▊ | 7/8 [00:04<00:00,  3.29it/s]\u001b[A\n",
      "Epoch 89: 100%|██████████| 65/65 [00:48<00:00,  1.33it/s, loss=0.162, v_num=13, train_loss=0.123, train_accuracy=0.941, val_loss=0.369, val_accuracy=0.887]\n",
      "                                                         \u001b[A"
     ]
    },
    {
     "name": "stderr",
     "output_type": "stream",
     "text": [
      "Epoch 89, global step 5129: val_loss was not in top 1\n"
     ]
    },
    {
     "name": "stdout",
     "output_type": "stream",
     "text": [
      "Epoch 90:  89%|████████▉ | 58/65 [00:43<00:05,  1.32it/s, loss=0.142, v_num=13, train_loss=0.153, train_accuracy=0.941, val_loss=0.369, val_accuracy=0.887] \n",
      "Validating: 0it [00:00, ?it/s]\u001b[A\n",
      "Validating:   0%|          | 0/8 [00:00<?, ?it/s]\u001b[A\n",
      "Validating:  12%|█▎        | 1/8 [00:03<00:27,  3.89s/it]\u001b[A\n",
      "Epoch 90:  92%|█████████▏| 60/65 [00:47<00:03,  1.25it/s, loss=0.142, v_num=13, train_loss=0.153, train_accuracy=0.941, val_loss=0.369, val_accuracy=0.887]\n",
      "Validating:  38%|███▊      | 3/8 [00:04<00:04,  1.00it/s]\u001b[A\n",
      "Epoch 90:  95%|█████████▌| 62/65 [00:48<00:02,  1.29it/s, loss=0.142, v_num=13, train_loss=0.153, train_accuracy=0.941, val_loss=0.369, val_accuracy=0.887]\n",
      "Validating:  62%|██████▎   | 5/8 [00:04<00:01,  2.06it/s]\u001b[A\n",
      "Epoch 90:  98%|█████████▊| 64/65 [00:48<00:00,  1.32it/s, loss=0.142, v_num=13, train_loss=0.153, train_accuracy=0.941, val_loss=0.369, val_accuracy=0.887]\n",
      "Validating:  88%|████████▊ | 7/8 [00:04<00:00,  3.28it/s]\u001b[A\n",
      "Epoch 90: 100%|██████████| 65/65 [00:49<00:00,  1.32it/s, loss=0.142, v_num=13, train_loss=0.153, train_accuracy=0.941, val_loss=0.378, val_accuracy=0.884]\n",
      "                                                         \u001b[A"
     ]
    },
    {
     "name": "stderr",
     "output_type": "stream",
     "text": [
      "Epoch 90, global step 5186: val_loss was not in top 1\n"
     ]
    },
    {
     "name": "stdout",
     "output_type": "stream",
     "text": [
      "Epoch 91:  89%|████████▉ | 58/65 [00:43<00:05,  1.33it/s, loss=0.16, v_num=13, train_loss=0.105, train_accuracy=0.941, val_loss=0.378, val_accuracy=0.884]  \n",
      "Validating: 0it [00:00, ?it/s]\u001b[A\n",
      "Validating:   0%|          | 0/8 [00:00<?, ?it/s]\u001b[A\n",
      "Validating:  12%|█▎        | 1/8 [00:03<00:26,  3.82s/it]\u001b[A\n",
      "Epoch 91:  92%|█████████▏| 60/65 [00:47<00:03,  1.26it/s, loss=0.16, v_num=13, train_loss=0.105, train_accuracy=0.941, val_loss=0.378, val_accuracy=0.884]\n",
      "Validating:  38%|███▊      | 3/8 [00:04<00:04,  1.02it/s]\u001b[A\n",
      "Epoch 91:  95%|█████████▌| 62/65 [00:47<00:02,  1.29it/s, loss=0.16, v_num=13, train_loss=0.105, train_accuracy=0.941, val_loss=0.378, val_accuracy=0.884]\n",
      "Validating:  62%|██████▎   | 5/8 [00:04<00:01,  2.09it/s]\u001b[A\n",
      "Epoch 91:  98%|█████████▊| 64/65 [00:48<00:00,  1.33it/s, loss=0.16, v_num=13, train_loss=0.105, train_accuracy=0.941, val_loss=0.378, val_accuracy=0.884]\n",
      "Validating:  88%|████████▊ | 7/8 [00:04<00:00,  3.31it/s]\u001b[A\n",
      "Epoch 91: 100%|██████████| 65/65 [00:48<00:00,  1.33it/s, loss=0.16, v_num=13, train_loss=0.105, train_accuracy=0.941, val_loss=0.416, val_accuracy=0.881]\n",
      "                                                         \u001b[A"
     ]
    },
    {
     "name": "stderr",
     "output_type": "stream",
     "text": [
      "Epoch 91, global step 5243: val_loss was not in top 1\n"
     ]
    },
    {
     "name": "stdout",
     "output_type": "stream",
     "text": [
      "Epoch 92:  89%|████████▉ | 58/65 [00:43<00:05,  1.33it/s, loss=0.131, v_num=13, train_loss=0.094, train_accuracy=0.971, val_loss=0.416, val_accuracy=0.881] \n",
      "Validating: 0it [00:00, ?it/s]\u001b[A\n",
      "Validating:   0%|          | 0/8 [00:00<?, ?it/s]\u001b[A\n",
      "Validating:  12%|█▎        | 1/8 [00:03<00:27,  3.87s/it]\u001b[A\n",
      "Epoch 92:  92%|█████████▏| 60/65 [00:47<00:03,  1.26it/s, loss=0.131, v_num=13, train_loss=0.094, train_accuracy=0.971, val_loss=0.416, val_accuracy=0.881]\n",
      "Validating:  38%|███▊      | 3/8 [00:04<00:04,  1.01it/s]\u001b[A\n",
      "Epoch 92:  95%|█████████▌| 62/65 [00:48<00:02,  1.29it/s, loss=0.131, v_num=13, train_loss=0.094, train_accuracy=0.971, val_loss=0.416, val_accuracy=0.881]\n",
      "Validating:  62%|██████▎   | 5/8 [00:04<00:01,  2.07it/s]\u001b[A\n",
      "Epoch 92:  98%|█████████▊| 64/65 [00:48<00:00,  1.32it/s, loss=0.131, v_num=13, train_loss=0.094, train_accuracy=0.971, val_loss=0.416, val_accuracy=0.881]\n",
      "Validating:  88%|████████▊ | 7/8 [00:04<00:00,  3.28it/s]\u001b[A\n",
      "Epoch 92: 100%|██████████| 65/65 [00:49<00:00,  1.33it/s, loss=0.131, v_num=13, train_loss=0.094, train_accuracy=0.971, val_loss=0.375, val_accuracy=0.897]\n",
      "                                                         \u001b[A"
     ]
    },
    {
     "name": "stderr",
     "output_type": "stream",
     "text": [
      "Epoch 92, global step 5300: val_loss was not in top 1\n"
     ]
    },
    {
     "name": "stdout",
     "output_type": "stream",
     "text": [
      "Epoch 93:  89%|████████▉ | 58/65 [00:43<00:05,  1.33it/s, loss=0.138, v_num=13, train_loss=0.113, train_accuracy=0.926, val_loss=0.375, val_accuracy=0.897] \n",
      "Validating: 0it [00:00, ?it/s]\u001b[A\n",
      "Validating:   0%|          | 0/8 [00:00<?, ?it/s]\u001b[A\n",
      "Validating:  12%|█▎        | 1/8 [00:03<00:26,  3.85s/it]\u001b[A\n",
      "Epoch 93:  92%|█████████▏| 60/65 [00:47<00:03,  1.26it/s, loss=0.138, v_num=13, train_loss=0.113, train_accuracy=0.926, val_loss=0.375, val_accuracy=0.897]\n",
      "Validating:  38%|███▊      | 3/8 [00:04<00:04,  1.01it/s]\u001b[A\n",
      "Epoch 93:  95%|█████████▌| 62/65 [00:47<00:02,  1.29it/s, loss=0.138, v_num=13, train_loss=0.113, train_accuracy=0.926, val_loss=0.375, val_accuracy=0.897]\n",
      "Validating:  62%|██████▎   | 5/8 [00:04<00:01,  2.07it/s]\u001b[A\n",
      "Epoch 93:  98%|█████████▊| 64/65 [00:48<00:00,  1.33it/s, loss=0.138, v_num=13, train_loss=0.113, train_accuracy=0.926, val_loss=0.375, val_accuracy=0.897]\n",
      "Validating:  88%|████████▊ | 7/8 [00:04<00:00,  3.29it/s]\u001b[A\n",
      "Epoch 93: 100%|██████████| 65/65 [00:48<00:00,  1.33it/s, loss=0.138, v_num=13, train_loss=0.113, train_accuracy=0.926, val_loss=0.416, val_accuracy=0.893]\n",
      "                                                         \u001b[A"
     ]
    },
    {
     "name": "stderr",
     "output_type": "stream",
     "text": [
      "Epoch 93, global step 5357: val_loss was not in top 1\n"
     ]
    },
    {
     "name": "stdout",
     "output_type": "stream",
     "text": [
      "Epoch 94:  89%|████████▉ | 58/65 [00:43<00:05,  1.32it/s, loss=0.147, v_num=13, train_loss=0.137, train_accuracy=0.956, val_loss=0.416, val_accuracy=0.893] \n",
      "Validating: 0it [00:00, ?it/s]\u001b[A\n",
      "Validating:   0%|          | 0/8 [00:00<?, ?it/s]\u001b[A\n",
      "Validating:  12%|█▎        | 1/8 [00:03<00:26,  3.76s/it]\u001b[A\n",
      "Epoch 94:  92%|█████████▏| 60/65 [00:47<00:03,  1.25it/s, loss=0.147, v_num=13, train_loss=0.137, train_accuracy=0.956, val_loss=0.416, val_accuracy=0.893]\n",
      "Validating:  38%|███▊      | 3/8 [00:04<00:04,  1.03it/s]\u001b[A\n",
      "Epoch 94:  95%|█████████▌| 62/65 [00:48<00:02,  1.29it/s, loss=0.147, v_num=13, train_loss=0.137, train_accuracy=0.956, val_loss=0.416, val_accuracy=0.893]\n",
      "Validating:  62%|██████▎   | 5/8 [00:04<00:01,  2.11it/s]\u001b[A\n",
      "Epoch 94:  98%|█████████▊| 64/65 [00:48<00:00,  1.32it/s, loss=0.147, v_num=13, train_loss=0.137, train_accuracy=0.956, val_loss=0.416, val_accuracy=0.893]\n",
      "Validating:  88%|████████▊ | 7/8 [00:04<00:00,  3.30it/s]\u001b[A\n",
      "Epoch 94: 100%|██████████| 65/65 [00:49<00:00,  1.32it/s, loss=0.147, v_num=13, train_loss=0.137, train_accuracy=0.956, val_loss=0.360, val_accuracy=0.897]\n",
      "                                                         \u001b[A"
     ]
    },
    {
     "name": "stderr",
     "output_type": "stream",
     "text": [
      "Epoch 94, global step 5414: val_loss was not in top 1\n"
     ]
    },
    {
     "name": "stdout",
     "output_type": "stream",
     "text": [
      "Epoch 95:  89%|████████▉ | 58/65 [00:43<00:05,  1.33it/s, loss=0.152, v_num=13, train_loss=0.121, train_accuracy=0.956, val_loss=0.360, val_accuracy=0.897] \n",
      "Validating: 0it [00:00, ?it/s]\u001b[A\n",
      "Validating:   0%|          | 0/8 [00:00<?, ?it/s]\u001b[A\n",
      "Validating:  12%|█▎        | 1/8 [00:03<00:25,  3.70s/it]\u001b[A\n",
      "Epoch 95:  92%|█████████▏| 60/65 [00:47<00:03,  1.26it/s, loss=0.152, v_num=13, train_loss=0.121, train_accuracy=0.956, val_loss=0.360, val_accuracy=0.897]\n",
      "Validating:  38%|███▊      | 3/8 [00:04<00:04,  1.04it/s]\u001b[A\n",
      "Epoch 95:  95%|█████████▌| 62/65 [00:47<00:02,  1.29it/s, loss=0.152, v_num=13, train_loss=0.121, train_accuracy=0.956, val_loss=0.360, val_accuracy=0.897]\n",
      "Validating:  62%|██████▎   | 5/8 [00:04<00:01,  2.12it/s]\u001b[A\n",
      "Epoch 95:  98%|█████████▊| 64/65 [00:48<00:00,  1.33it/s, loss=0.152, v_num=13, train_loss=0.121, train_accuracy=0.956, val_loss=0.360, val_accuracy=0.897]\n",
      "Validating:  88%|████████▊ | 7/8 [00:04<00:00,  3.35it/s]\u001b[A\n",
      "Epoch 95: 100%|██████████| 65/65 [00:48<00:00,  1.33it/s, loss=0.152, v_num=13, train_loss=0.121, train_accuracy=0.956, val_loss=0.376, val_accuracy=0.896]\n",
      "                                                         \u001b[A"
     ]
    },
    {
     "name": "stderr",
     "output_type": "stream",
     "text": [
      "Epoch 95, global step 5471: val_loss was not in top 1\n"
     ]
    },
    {
     "name": "stdout",
     "output_type": "stream",
     "text": [
      "Epoch 96:  89%|████████▉ | 58/65 [00:43<00:05,  1.33it/s, loss=0.136, v_num=13, train_loss=0.119, train_accuracy=0.971, val_loss=0.376, val_accuracy=0.896] \n",
      "Validating: 0it [00:00, ?it/s]\u001b[A\n",
      "Validating:   0%|          | 0/8 [00:00<?, ?it/s]\u001b[A\n",
      "Validating:  12%|█▎        | 1/8 [00:03<00:27,  3.91s/it]\u001b[A\n",
      "Epoch 96:  92%|█████████▏| 60/65 [00:47<00:03,  1.26it/s, loss=0.136, v_num=13, train_loss=0.119, train_accuracy=0.971, val_loss=0.376, val_accuracy=0.896]\n",
      "Validating:  38%|███▊      | 3/8 [00:04<00:05,  1.00s/it]\u001b[A\n",
      "Epoch 96:  95%|█████████▌| 62/65 [00:48<00:02,  1.29it/s, loss=0.136, v_num=13, train_loss=0.119, train_accuracy=0.971, val_loss=0.376, val_accuracy=0.896]\n",
      "Validating:  62%|██████▎   | 5/8 [00:04<00:01,  2.05it/s]\u001b[A\n",
      "Epoch 96:  98%|█████████▊| 64/65 [00:48<00:00,  1.32it/s, loss=0.136, v_num=13, train_loss=0.119, train_accuracy=0.971, val_loss=0.376, val_accuracy=0.896]\n",
      "Validating:  88%|████████▊ | 7/8 [00:04<00:00,  3.25it/s]\u001b[A\n",
      "Epoch 96: 100%|██████████| 65/65 [00:48<00:00,  1.33it/s, loss=0.136, v_num=13, train_loss=0.119, train_accuracy=0.971, val_loss=0.390, val_accuracy=0.901]\n",
      "                                                         \u001b[A"
     ]
    },
    {
     "name": "stderr",
     "output_type": "stream",
     "text": [
      "Epoch 96, global step 5528: val_loss was not in top 1\n"
     ]
    },
    {
     "name": "stdout",
     "output_type": "stream",
     "text": [
      "Epoch 97:  89%|████████▉ | 58/65 [00:43<00:05,  1.33it/s, loss=0.132, v_num=13, train_loss=0.155, train_accuracy=0.941, val_loss=0.390, val_accuracy=0.901] \n",
      "Validating: 0it [00:00, ?it/s]\u001b[A\n",
      "Validating:   0%|          | 0/8 [00:00<?, ?it/s]\u001b[A\n",
      "Validating:  12%|█▎        | 1/8 [00:03<00:26,  3.85s/it]\u001b[A\n",
      "Epoch 97:  92%|█████████▏| 60/65 [00:47<00:03,  1.26it/s, loss=0.132, v_num=13, train_loss=0.155, train_accuracy=0.941, val_loss=0.390, val_accuracy=0.901]\n",
      "Validating:  38%|███▊      | 3/8 [00:04<00:04,  1.01it/s]\u001b[A\n",
      "Epoch 97:  95%|█████████▌| 62/65 [00:47<00:02,  1.29it/s, loss=0.132, v_num=13, train_loss=0.155, train_accuracy=0.941, val_loss=0.390, val_accuracy=0.901]\n",
      "Validating:  62%|██████▎   | 5/8 [00:04<00:01,  2.07it/s]\u001b[A\n",
      "Epoch 97:  98%|█████████▊| 64/65 [00:48<00:00,  1.33it/s, loss=0.132, v_num=13, train_loss=0.155, train_accuracy=0.941, val_loss=0.390, val_accuracy=0.901]\n",
      "Validating:  88%|████████▊ | 7/8 [00:04<00:00,  3.30it/s]\u001b[A\n",
      "Epoch 97: 100%|██████████| 65/65 [00:48<00:00,  1.33it/s, loss=0.132, v_num=13, train_loss=0.155, train_accuracy=0.941, val_loss=0.438, val_accuracy=0.887]\n",
      "                                                         \u001b[A"
     ]
    },
    {
     "name": "stderr",
     "output_type": "stream",
     "text": [
      "Epoch 97, global step 5585: val_loss was not in top 1\n"
     ]
    },
    {
     "name": "stdout",
     "output_type": "stream",
     "text": [
      "Epoch 98:  89%|████████▉ | 58/65 [00:43<00:05,  1.33it/s, loss=0.137, v_num=13, train_loss=0.130, train_accuracy=0.941, val_loss=0.438, val_accuracy=0.887] \n",
      "Validating: 0it [00:00, ?it/s]\u001b[A\n",
      "Validating:   0%|          | 0/8 [00:00<?, ?it/s]\u001b[A\n",
      "Validating:  12%|█▎        | 1/8 [00:03<00:26,  3.83s/it]\u001b[A\n",
      "Epoch 98:  92%|█████████▏| 60/65 [00:47<00:03,  1.26it/s, loss=0.137, v_num=13, train_loss=0.130, train_accuracy=0.941, val_loss=0.438, val_accuracy=0.887]\n",
      "Validating:  38%|███▊      | 3/8 [00:04<00:04,  1.01it/s]\u001b[A\n",
      "Epoch 98:  95%|█████████▌| 62/65 [00:48<00:02,  1.29it/s, loss=0.137, v_num=13, train_loss=0.130, train_accuracy=0.941, val_loss=0.438, val_accuracy=0.887]\n",
      "Validating:  62%|██████▎   | 5/8 [00:04<00:01,  2.08it/s]\u001b[A\n",
      "Epoch 98:  98%|█████████▊| 64/65 [00:48<00:00,  1.32it/s, loss=0.137, v_num=13, train_loss=0.130, train_accuracy=0.941, val_loss=0.438, val_accuracy=0.887]\n",
      "Validating:  88%|████████▊ | 7/8 [00:04<00:00,  3.29it/s]\u001b[A\n",
      "Epoch 98: 100%|██████████| 65/65 [00:49<00:00,  1.33it/s, loss=0.137, v_num=13, train_loss=0.130, train_accuracy=0.941, val_loss=0.394, val_accuracy=0.891]\n",
      "                                                         \u001b[A"
     ]
    },
    {
     "name": "stderr",
     "output_type": "stream",
     "text": [
      "Epoch 98, global step 5642: val_loss was not in top 1\n"
     ]
    },
    {
     "name": "stdout",
     "output_type": "stream",
     "text": [
      "Epoch 99:  89%|████████▉ | 58/65 [00:43<00:05,  1.33it/s, loss=0.154, v_num=13, train_loss=0.235, train_accuracy=0.897, val_loss=0.394, val_accuracy=0.891] \n",
      "Validating: 0it [00:00, ?it/s]\u001b[A\n",
      "Validating:   0%|          | 0/8 [00:00<?, ?it/s]\u001b[A\n",
      "Validating:  12%|█▎        | 1/8 [00:03<00:26,  3.81s/it]\u001b[A\n",
      "Epoch 99:  92%|█████████▏| 60/65 [00:47<00:03,  1.26it/s, loss=0.154, v_num=13, train_loss=0.235, train_accuracy=0.897, val_loss=0.394, val_accuracy=0.891]\n",
      "Validating:  38%|███▊      | 3/8 [00:04<00:04,  1.02it/s]\u001b[A\n",
      "Epoch 99:  95%|█████████▌| 62/65 [00:47<00:02,  1.29it/s, loss=0.154, v_num=13, train_loss=0.235, train_accuracy=0.897, val_loss=0.394, val_accuracy=0.891]\n",
      "Validating:  62%|██████▎   | 5/8 [00:04<00:01,  2.09it/s]\u001b[A\n",
      "Epoch 99:  98%|█████████▊| 64/65 [00:48<00:00,  1.32it/s, loss=0.154, v_num=13, train_loss=0.235, train_accuracy=0.897, val_loss=0.394, val_accuracy=0.891]\n",
      "Validating:  88%|████████▊ | 7/8 [00:04<00:00,  3.32it/s]\u001b[A\n",
      "Epoch 99: 100%|██████████| 65/65 [00:48<00:00,  1.33it/s, loss=0.154, v_num=13, train_loss=0.235, train_accuracy=0.897, val_loss=0.415, val_accuracy=0.887]\n",
      "                                                         \u001b[A"
     ]
    },
    {
     "name": "stderr",
     "output_type": "stream",
     "text": [
      "Epoch 99, global step 5699: val_loss was not in top 1\n"
     ]
    },
    {
     "name": "stdout",
     "output_type": "stream",
     "text": [
      "Epoch 100:  89%|████████▉ | 58/65 [00:43<00:05,  1.33it/s, loss=0.147, v_num=13, train_loss=0.0904, train_accuracy=0.985, val_loss=0.415, val_accuracy=0.887]\n",
      "Validating: 0it [00:00, ?it/s]\u001b[A\n",
      "Validating:   0%|          | 0/8 [00:00<?, ?it/s]\u001b[A\n",
      "Validating:  12%|█▎        | 1/8 [00:03<00:26,  3.74s/it]\u001b[A\n",
      "Epoch 100:  92%|█████████▏| 60/65 [00:47<00:03,  1.26it/s, loss=0.147, v_num=13, train_loss=0.0904, train_accuracy=0.985, val_loss=0.415, val_accuracy=0.887]\n",
      "Validating:  38%|███▊      | 3/8 [00:04<00:04,  1.03it/s]\u001b[A\n",
      "Epoch 100:  95%|█████████▌| 62/65 [00:47<00:02,  1.29it/s, loss=0.147, v_num=13, train_loss=0.0904, train_accuracy=0.985, val_loss=0.415, val_accuracy=0.887]\n",
      "Validating:  62%|██████▎   | 5/8 [00:04<00:01,  2.10it/s]\u001b[A\n",
      "Epoch 100:  98%|█████████▊| 64/65 [00:48<00:00,  1.33it/s, loss=0.147, v_num=13, train_loss=0.0904, train_accuracy=0.985, val_loss=0.415, val_accuracy=0.887]\n",
      "Validating:  88%|████████▊ | 7/8 [00:04<00:00,  3.32it/s]\u001b[A\n",
      "Epoch 100: 100%|██████████| 65/65 [00:48<00:00,  1.33it/s, loss=0.147, v_num=13, train_loss=0.0904, train_accuracy=0.985, val_loss=0.358, val_accuracy=0.896]\n",
      "                                                         \u001b[A"
     ]
    },
    {
     "name": "stderr",
     "output_type": "stream",
     "text": [
      "Epoch 100, global step 5756: val_loss was not in top 1\n"
     ]
    },
    {
     "name": "stdout",
     "output_type": "stream",
     "text": [
      "Epoch 101:  89%|████████▉ | 58/65 [00:43<00:05,  1.33it/s, loss=0.187, v_num=13, train_loss=0.306, train_accuracy=0.882, val_loss=0.358, val_accuracy=0.896] \n",
      "Validating: 0it [00:00, ?it/s]\u001b[A\n",
      "Validating:   0%|          | 0/8 [00:00<?, ?it/s]\u001b[A\n",
      "Validating:  12%|█▎        | 1/8 [00:03<00:26,  3.81s/it]\u001b[A\n",
      "Epoch 101:  92%|█████████▏| 60/65 [00:47<00:03,  1.26it/s, loss=0.187, v_num=13, train_loss=0.306, train_accuracy=0.882, val_loss=0.358, val_accuracy=0.896]\n",
      "Validating:  38%|███▊      | 3/8 [00:04<00:04,  1.02it/s]\u001b[A\n",
      "Epoch 101:  95%|█████████▌| 62/65 [00:47<00:02,  1.29it/s, loss=0.187, v_num=13, train_loss=0.306, train_accuracy=0.882, val_loss=0.358, val_accuracy=0.896]\n",
      "Validating:  62%|██████▎   | 5/8 [00:04<00:01,  2.08it/s]\u001b[A\n",
      "Epoch 101:  98%|█████████▊| 64/65 [00:48<00:00,  1.33it/s, loss=0.187, v_num=13, train_loss=0.306, train_accuracy=0.882, val_loss=0.358, val_accuracy=0.896]\n",
      "Validating:  88%|████████▊ | 7/8 [00:04<00:00,  3.30it/s]\u001b[A\n",
      "Epoch 101: 100%|██████████| 65/65 [00:48<00:00,  1.33it/s, loss=0.187, v_num=13, train_loss=0.306, train_accuracy=0.882, val_loss=0.438, val_accuracy=0.874]\n",
      "                                                         \u001b[A"
     ]
    },
    {
     "name": "stderr",
     "output_type": "stream",
     "text": [
      "Epoch 101, global step 5813: val_loss was not in top 1\n"
     ]
    },
    {
     "name": "stdout",
     "output_type": "stream",
     "text": [
      "Epoch 102:  89%|████████▉ | 58/65 [00:43<00:05,  1.33it/s, loss=0.141, v_num=13, train_loss=0.237, train_accuracy=0.912, val_loss=0.438, val_accuracy=0.874] \n",
      "Validating: 0it [00:00, ?it/s]\u001b[A\n",
      "Validating:   0%|          | 0/8 [00:00<?, ?it/s]\u001b[A\n",
      "Validating:  12%|█▎        | 1/8 [00:03<00:27,  3.86s/it]\u001b[A\n",
      "Epoch 102:  92%|█████████▏| 60/65 [00:47<00:03,  1.26it/s, loss=0.141, v_num=13, train_loss=0.237, train_accuracy=0.912, val_loss=0.438, val_accuracy=0.874]\n",
      "Validating:  38%|███▊      | 3/8 [00:04<00:04,  1.01it/s]\u001b[A\n",
      "Epoch 102:  95%|█████████▌| 62/65 [00:47<00:02,  1.30it/s, loss=0.141, v_num=13, train_loss=0.237, train_accuracy=0.912, val_loss=0.438, val_accuracy=0.874]\n",
      "Validating:  62%|██████▎   | 5/8 [00:04<00:01,  2.06it/s]\u001b[A\n",
      "Epoch 102:  98%|█████████▊| 64/65 [00:48<00:00,  1.33it/s, loss=0.141, v_num=13, train_loss=0.237, train_accuracy=0.912, val_loss=0.438, val_accuracy=0.874]\n",
      "Validating:  88%|████████▊ | 7/8 [00:04<00:00,  3.28it/s]\u001b[A\n",
      "Epoch 102: 100%|██████████| 65/65 [00:48<00:00,  1.33it/s, loss=0.141, v_num=13, train_loss=0.237, train_accuracy=0.912, val_loss=0.361, val_accuracy=0.894]\n",
      "                                                         \u001b[A"
     ]
    },
    {
     "name": "stderr",
     "output_type": "stream",
     "text": [
      "Epoch 102, global step 5870: val_loss was not in top 1\n"
     ]
    },
    {
     "name": "stdout",
     "output_type": "stream",
     "text": [
      "Epoch 103:  89%|████████▉ | 58/65 [00:43<00:05,  1.33it/s, loss=0.186, v_num=13, train_loss=0.117, train_accuracy=0.926, val_loss=0.361, val_accuracy=0.894] \n",
      "Validating: 0it [00:00, ?it/s]\u001b[A\n",
      "Validating:   0%|          | 0/8 [00:00<?, ?it/s]\u001b[A\n",
      "Validating:  12%|█▎        | 1/8 [00:03<00:26,  3.81s/it]\u001b[A\n",
      "Epoch 103:  92%|█████████▏| 60/65 [00:47<00:03,  1.26it/s, loss=0.186, v_num=13, train_loss=0.117, train_accuracy=0.926, val_loss=0.361, val_accuracy=0.894]\n",
      "Validating:  38%|███▊      | 3/8 [00:04<00:04,  1.02it/s]\u001b[A\n",
      "Epoch 103:  95%|█████████▌| 62/65 [00:47<00:02,  1.29it/s, loss=0.186, v_num=13, train_loss=0.117, train_accuracy=0.926, val_loss=0.361, val_accuracy=0.894]\n",
      "Validating:  62%|██████▎   | 5/8 [00:04<00:01,  2.08it/s]\u001b[A\n",
      "Epoch 103:  98%|█████████▊| 64/65 [00:48<00:00,  1.33it/s, loss=0.186, v_num=13, train_loss=0.117, train_accuracy=0.926, val_loss=0.361, val_accuracy=0.894]\n",
      "Validating:  88%|████████▊ | 7/8 [00:04<00:00,  3.30it/s]\u001b[A\n",
      "Epoch 103: 100%|██████████| 65/65 [00:48<00:00,  1.33it/s, loss=0.186, v_num=13, train_loss=0.117, train_accuracy=0.926, val_loss=0.329, val_accuracy=0.890]\n",
      "                                                         \u001b[A"
     ]
    },
    {
     "name": "stderr",
     "output_type": "stream",
     "text": [
      "Epoch 103, global step 5927: val_loss reached 0.32909 (best 0.32909), saving model to \"/Workspace/code/checkpoints/best-checkpoint250x250-v4.ckpt\" as top 1\n"
     ]
    },
    {
     "name": "stdout",
     "output_type": "stream",
     "text": [
      "Epoch 104:  89%|████████▉ | 58/65 [00:43<00:05,  1.33it/s, loss=0.182, v_num=13, train_loss=0.124, train_accuracy=0.971, val_loss=0.329, val_accuracy=0.890] \n",
      "Validating: 0it [00:00, ?it/s]\u001b[A\n",
      "Validating:   0%|          | 0/8 [00:00<?, ?it/s]\u001b[A\n",
      "Validating:  12%|█▎        | 1/8 [00:03<00:26,  3.85s/it]\u001b[A\n",
      "Epoch 104:  92%|█████████▏| 60/65 [00:47<00:03,  1.26it/s, loss=0.182, v_num=13, train_loss=0.124, train_accuracy=0.971, val_loss=0.329, val_accuracy=0.890]\n",
      "Validating:  38%|███▊      | 3/8 [00:04<00:04,  1.01it/s]\u001b[A\n",
      "Epoch 104:  95%|█████████▌| 62/65 [00:47<00:02,  1.29it/s, loss=0.182, v_num=13, train_loss=0.124, train_accuracy=0.971, val_loss=0.329, val_accuracy=0.890]\n",
      "Validating:  62%|██████▎   | 5/8 [00:04<00:01,  2.07it/s]\u001b[A\n",
      "Epoch 104:  98%|█████████▊| 64/65 [00:48<00:00,  1.33it/s, loss=0.182, v_num=13, train_loss=0.124, train_accuracy=0.971, val_loss=0.329, val_accuracy=0.890]\n",
      "Validating:  88%|████████▊ | 7/8 [00:04<00:00,  3.28it/s]\u001b[A\n",
      "Epoch 104: 100%|██████████| 65/65 [00:48<00:00,  1.33it/s, loss=0.182, v_num=13, train_loss=0.124, train_accuracy=0.971, val_loss=0.324, val_accuracy=0.900]\n",
      "                                                         \u001b[A"
     ]
    },
    {
     "name": "stderr",
     "output_type": "stream",
     "text": [
      "Epoch 104, global step 5984: val_loss reached 0.32397 (best 0.32397), saving model to \"/Workspace/code/checkpoints/best-checkpoint250x250-v4.ckpt\" as top 1\n"
     ]
    },
    {
     "name": "stdout",
     "output_type": "stream",
     "text": [
      "Epoch 107:  89%|████████▉ | 58/65 [00:43<00:05,  1.33it/s, loss=0.132, v_num=13, train_loss=0.125, train_accuracy=0.956, val_loss=0.379, val_accuracy=0.894] \n",
      "Validating: 0it [00:00, ?it/s]\u001b[A\n",
      "Validating:   0%|          | 0/8 [00:00<?, ?it/s]\u001b[A\n",
      "Validating:  12%|█▎        | 1/8 [00:03<00:26,  3.72s/it]\u001b[A\n",
      "Epoch 107:  92%|█████████▏| 60/65 [00:47<00:03,  1.26it/s, loss=0.132, v_num=13, train_loss=0.125, train_accuracy=0.956, val_loss=0.379, val_accuracy=0.894]\n",
      "Validating:  38%|███▊      | 3/8 [00:04<00:04,  1.04it/s]\u001b[A\n",
      "Epoch 107:  95%|█████████▌| 62/65 [00:47<00:02,  1.29it/s, loss=0.132, v_num=13, train_loss=0.125, train_accuracy=0.956, val_loss=0.379, val_accuracy=0.894]\n",
      "Validating:  62%|██████▎   | 5/8 [00:04<00:01,  2.13it/s]\u001b[A\n",
      "Epoch 107:  98%|█████████▊| 64/65 [00:48<00:00,  1.33it/s, loss=0.132, v_num=13, train_loss=0.125, train_accuracy=0.956, val_loss=0.379, val_accuracy=0.894]\n",
      "Validating:  88%|████████▊ | 7/8 [00:04<00:00,  3.35it/s]\u001b[A\n",
      "Epoch 107: 100%|██████████| 65/65 [00:48<00:00,  1.33it/s, loss=0.132, v_num=13, train_loss=0.125, train_accuracy=0.956, val_loss=0.511, val_accuracy=0.872]\n",
      "                                                         \u001b[A"
     ]
    },
    {
     "name": "stderr",
     "output_type": "stream",
     "text": [
      "Epoch 107, global step 6155: val_loss was not in top 1\n"
     ]
    },
    {
     "name": "stdout",
     "output_type": "stream",
     "text": [
      "Epoch 108:  89%|████████▉ | 58/65 [00:43<00:05,  1.33it/s, loss=0.207, v_num=13, train_loss=0.174, train_accuracy=0.941, val_loss=0.511, val_accuracy=0.872]\n",
      "Validating: 0it [00:00, ?it/s]\u001b[A\n",
      "Validating:   0%|          | 0/8 [00:00<?, ?it/s]\u001b[A\n",
      "Validating:  12%|█▎        | 1/8 [00:03<00:26,  3.83s/it]\u001b[A\n",
      "Epoch 108:  92%|█████████▏| 60/65 [00:47<00:03,  1.26it/s, loss=0.207, v_num=13, train_loss=0.174, train_accuracy=0.941, val_loss=0.511, val_accuracy=0.872]\n",
      "Validating:  38%|███▊      | 3/8 [00:04<00:04,  1.02it/s]\u001b[A\n",
      "Epoch 108:  95%|█████████▌| 62/65 [00:47<00:02,  1.29it/s, loss=0.207, v_num=13, train_loss=0.174, train_accuracy=0.941, val_loss=0.511, val_accuracy=0.872]\n",
      "Validating:  62%|██████▎   | 5/8 [00:04<00:01,  2.07it/s]\u001b[A\n",
      "Epoch 108:  98%|█████████▊| 64/65 [00:48<00:00,  1.33it/s, loss=0.207, v_num=13, train_loss=0.174, train_accuracy=0.941, val_loss=0.511, val_accuracy=0.872]\n",
      "Validating:  88%|████████▊ | 7/8 [00:04<00:00,  3.30it/s]\u001b[A\n",
      "Epoch 108: 100%|██████████| 65/65 [00:48<00:00,  1.33it/s, loss=0.207, v_num=13, train_loss=0.174, train_accuracy=0.941, val_loss=0.376, val_accuracy=0.877]\n",
      "                                                         \u001b[A"
     ]
    },
    {
     "name": "stderr",
     "output_type": "stream",
     "text": [
      "Epoch 108, global step 6212: val_loss was not in top 1\n"
     ]
    },
    {
     "name": "stdout",
     "output_type": "stream",
     "text": [
      "Epoch 109:  89%|████████▉ | 58/65 [00:43<00:05,  1.32it/s, loss=0.146, v_num=13, train_loss=0.245, train_accuracy=0.926, val_loss=0.376, val_accuracy=0.877] \n",
      "Validating: 0it [00:00, ?it/s]\u001b[A\n",
      "Validating:   0%|          | 0/8 [00:00<?, ?it/s]\u001b[A\n",
      "Validating:  12%|█▎        | 1/8 [00:03<00:26,  3.82s/it]\u001b[A\n",
      "Epoch 109:  92%|█████████▏| 60/65 [00:47<00:03,  1.25it/s, loss=0.146, v_num=13, train_loss=0.245, train_accuracy=0.926, val_loss=0.376, val_accuracy=0.877]\n",
      "Validating:  38%|███▊      | 3/8 [00:04<00:04,  1.02it/s]\u001b[A\n",
      "Epoch 109:  95%|█████████▌| 62/65 [00:48<00:02,  1.29it/s, loss=0.146, v_num=13, train_loss=0.245, train_accuracy=0.926, val_loss=0.376, val_accuracy=0.877]\n",
      "Validating:  62%|██████▎   | 5/8 [00:04<00:01,  2.09it/s]\u001b[A\n",
      "Epoch 109:  98%|█████████▊| 64/65 [00:48<00:00,  1.32it/s, loss=0.146, v_num=13, train_loss=0.245, train_accuracy=0.926, val_loss=0.376, val_accuracy=0.877]\n",
      "Validating:  88%|████████▊ | 7/8 [00:04<00:00,  3.30it/s]\u001b[A\n",
      "Epoch 109: 100%|██████████| 65/65 [00:49<00:00,  1.32it/s, loss=0.146, v_num=13, train_loss=0.245, train_accuracy=0.926, val_loss=0.398, val_accuracy=0.888]\n",
      "                                                         \u001b[A"
     ]
    },
    {
     "name": "stderr",
     "output_type": "stream",
     "text": [
      "Epoch 109, global step 6269: val_loss was not in top 1\n"
     ]
    },
    {
     "name": "stdout",
     "output_type": "stream",
     "text": [
      "Epoch 110:  89%|████████▉ | 58/65 [00:43<00:05,  1.33it/s, loss=0.131, v_num=13, train_loss=0.091, train_accuracy=0.956, val_loss=0.398, val_accuracy=0.888] \n",
      "Validating: 0it [00:00, ?it/s]\u001b[A\n",
      "Validating:   0%|          | 0/8 [00:00<?, ?it/s]\u001b[A\n",
      "Validating:  12%|█▎        | 1/8 [00:03<00:26,  3.76s/it]\u001b[A\n",
      "Epoch 110:  92%|█████████▏| 60/65 [00:47<00:03,  1.26it/s, loss=0.131, v_num=13, train_loss=0.091, train_accuracy=0.956, val_loss=0.398, val_accuracy=0.888]\n",
      "Validating:  38%|███▊      | 3/8 [00:04<00:04,  1.03it/s]\u001b[A\n",
      "Epoch 110:  95%|█████████▌| 62/65 [00:47<00:02,  1.29it/s, loss=0.131, v_num=13, train_loss=0.091, train_accuracy=0.956, val_loss=0.398, val_accuracy=0.888]\n",
      "Validating:  62%|██████▎   | 5/8 [00:04<00:01,  2.11it/s]\u001b[A\n",
      "Epoch 110:  98%|█████████▊| 64/65 [00:48<00:00,  1.33it/s, loss=0.131, v_num=13, train_loss=0.091, train_accuracy=0.956, val_loss=0.398, val_accuracy=0.888]\n",
      "Validating:  88%|████████▊ | 7/8 [00:04<00:00,  3.33it/s]\u001b[A\n",
      "Epoch 110: 100%|██████████| 65/65 [00:48<00:00,  1.33it/s, loss=0.131, v_num=13, train_loss=0.091, train_accuracy=0.956, val_loss=0.363, val_accuracy=0.900]\n",
      "                                                         \u001b[A"
     ]
    },
    {
     "name": "stderr",
     "output_type": "stream",
     "text": [
      "Epoch 110, global step 6326: val_loss was not in top 1\n"
     ]
    },
    {
     "name": "stdout",
     "output_type": "stream",
     "text": [
      "Epoch 111:  89%|████████▉ | 58/65 [00:43<00:05,  1.33it/s, loss=0.123, v_num=13, train_loss=0.0486, train_accuracy=0.985, val_loss=0.363, val_accuracy=0.900]\n",
      "Validating: 0it [00:00, ?it/s]\u001b[A\n",
      "Validating:   0%|          | 0/8 [00:00<?, ?it/s]\u001b[A\n",
      "Validating:  12%|█▎        | 1/8 [00:03<00:27,  3.94s/it]\u001b[A\n",
      "Epoch 111:  92%|█████████▏| 60/65 [00:47<00:03,  1.25it/s, loss=0.123, v_num=13, train_loss=0.0486, train_accuracy=0.985, val_loss=0.363, val_accuracy=0.900]\n",
      "Validating:  38%|███▊      | 3/8 [00:04<00:05,  1.01s/it]\u001b[A\n",
      "Epoch 111:  95%|█████████▌| 62/65 [00:48<00:02,  1.29it/s, loss=0.123, v_num=13, train_loss=0.0486, train_accuracy=0.985, val_loss=0.363, val_accuracy=0.900]\n",
      "Validating:  62%|██████▎   | 5/8 [00:04<00:01,  2.04it/s]\u001b[A\n",
      "Epoch 111:  98%|█████████▊| 64/65 [00:48<00:00,  1.32it/s, loss=0.123, v_num=13, train_loss=0.0486, train_accuracy=0.985, val_loss=0.363, val_accuracy=0.900]\n",
      "Validating:  88%|████████▊ | 7/8 [00:04<00:00,  3.27it/s]\u001b[A\n",
      "Epoch 111: 100%|██████████| 65/65 [00:49<00:00,  1.32it/s, loss=0.123, v_num=13, train_loss=0.0486, train_accuracy=0.985, val_loss=0.401, val_accuracy=0.897]\n",
      "                                                         \u001b[A"
     ]
    },
    {
     "name": "stderr",
     "output_type": "stream",
     "text": [
      "Epoch 111, global step 6383: val_loss was not in top 1\n"
     ]
    },
    {
     "name": "stdout",
     "output_type": "stream",
     "text": [
      "Epoch 112:  89%|████████▉ | 58/65 [00:43<00:05,  1.32it/s, loss=0.149, v_num=13, train_loss=0.0346, train_accuracy=1.000, val_loss=0.401, val_accuracy=0.897]\n",
      "Validating: 0it [00:00, ?it/s]\u001b[A\n",
      "Validating:   0%|          | 0/8 [00:00<?, ?it/s]\u001b[A\n",
      "Validating:  12%|█▎        | 1/8 [00:03<00:25,  3.70s/it]\u001b[A\n",
      "Epoch 112:  92%|█████████▏| 60/65 [00:47<00:03,  1.26it/s, loss=0.149, v_num=13, train_loss=0.0346, train_accuracy=1.000, val_loss=0.401, val_accuracy=0.897]\n",
      "Validating:  38%|███▊      | 3/8 [00:04<00:04,  1.04it/s]\u001b[A\n",
      "Epoch 112:  95%|█████████▌| 62/65 [00:48<00:02,  1.29it/s, loss=0.149, v_num=13, train_loss=0.0346, train_accuracy=1.000, val_loss=0.401, val_accuracy=0.897]\n",
      "Validating:  62%|██████▎   | 5/8 [00:04<00:01,  2.12it/s]\u001b[A\n",
      "Epoch 112:  98%|█████████▊| 64/65 [00:48<00:00,  1.32it/s, loss=0.149, v_num=13, train_loss=0.0346, train_accuracy=1.000, val_loss=0.401, val_accuracy=0.897]\n",
      "Validating:  88%|████████▊ | 7/8 [00:04<00:00,  3.34it/s]\u001b[A\n",
      "Epoch 112: 100%|██████████| 65/65 [00:49<00:00,  1.33it/s, loss=0.149, v_num=13, train_loss=0.0346, train_accuracy=1.000, val_loss=0.404, val_accuracy=0.894]\n",
      "                                                         \u001b[A"
     ]
    },
    {
     "name": "stderr",
     "output_type": "stream",
     "text": [
      "Epoch 112, global step 6440: val_loss was not in top 1\n"
     ]
    },
    {
     "name": "stdout",
     "output_type": "stream",
     "text": [
      "Epoch 113:  89%|████████▉ | 58/65 [00:43<00:05,  1.32it/s, loss=0.16, v_num=13, train_loss=0.163, train_accuracy=0.941, val_loss=0.404, val_accuracy=0.894]  \n",
      "Validating: 0it [00:00, ?it/s]\u001b[A\n",
      "Validating:   0%|          | 0/8 [00:00<?, ?it/s]\u001b[A\n",
      "Validating:  12%|█▎        | 1/8 [00:03<00:27,  3.95s/it]\u001b[A\n",
      "Epoch 113:  92%|█████████▏| 60/65 [00:48<00:04,  1.25it/s, loss=0.16, v_num=13, train_loss=0.163, train_accuracy=0.941, val_loss=0.404, val_accuracy=0.894]\n",
      "Validating:  38%|███▊      | 3/8 [00:04<00:05,  1.01s/it]\u001b[A\n",
      "Epoch 113:  95%|█████████▌| 62/65 [00:48<00:02,  1.28it/s, loss=0.16, v_num=13, train_loss=0.163, train_accuracy=0.941, val_loss=0.404, val_accuracy=0.894]\n",
      "Validating:  62%|██████▎   | 5/8 [00:04<00:01,  2.03it/s]\u001b[A\n",
      "Epoch 113:  98%|█████████▊| 64/65 [00:48<00:00,  1.31it/s, loss=0.16, v_num=13, train_loss=0.163, train_accuracy=0.941, val_loss=0.404, val_accuracy=0.894]\n",
      "Validating:  88%|████████▊ | 7/8 [00:04<00:00,  3.25it/s]\u001b[A\n",
      "Epoch 113: 100%|██████████| 65/65 [00:49<00:00,  1.32it/s, loss=0.16, v_num=13, train_loss=0.163, train_accuracy=0.941, val_loss=0.554, val_accuracy=0.872]\n",
      "                                                         \u001b[A"
     ]
    },
    {
     "name": "stderr",
     "output_type": "stream",
     "text": [
      "Epoch 113, global step 6497: val_loss was not in top 1\n"
     ]
    },
    {
     "name": "stdout",
     "output_type": "stream",
     "text": [
      "Epoch 114:  89%|████████▉ | 58/65 [00:43<00:05,  1.33it/s, loss=0.141, v_num=13, train_loss=0.0561, train_accuracy=0.971, val_loss=0.554, val_accuracy=0.872]\n",
      "Validating: 0it [00:00, ?it/s]\u001b[A\n",
      "Validating:   0%|          | 0/8 [00:00<?, ?it/s]\u001b[A\n",
      "Validating:  12%|█▎        | 1/8 [00:03<00:26,  3.75s/it]\u001b[A\n",
      "Epoch 114:  92%|█████████▏| 60/65 [00:47<00:03,  1.26it/s, loss=0.141, v_num=13, train_loss=0.0561, train_accuracy=0.971, val_loss=0.554, val_accuracy=0.872]\n",
      "Validating:  38%|███▊      | 3/8 [00:04<00:04,  1.03it/s]\u001b[A\n",
      "Epoch 114:  95%|█████████▌| 62/65 [00:47<00:02,  1.29it/s, loss=0.141, v_num=13, train_loss=0.0561, train_accuracy=0.971, val_loss=0.554, val_accuracy=0.872]\n",
      "Validating:  62%|██████▎   | 5/8 [00:04<00:01,  2.10it/s]\u001b[A\n",
      "Epoch 114:  98%|█████████▊| 64/65 [00:48<00:00,  1.32it/s, loss=0.141, v_num=13, train_loss=0.0561, train_accuracy=0.971, val_loss=0.554, val_accuracy=0.872]\n",
      "Validating:  88%|████████▊ | 7/8 [00:04<00:00,  3.31it/s]\u001b[A\n",
      "Epoch 114: 100%|██████████| 65/65 [00:48<00:00,  1.33it/s, loss=0.141, v_num=13, train_loss=0.0561, train_accuracy=0.971, val_loss=0.423, val_accuracy=0.894]\n",
      "                                                         \u001b[A"
     ]
    },
    {
     "name": "stderr",
     "output_type": "stream",
     "text": [
      "Epoch 114, global step 6554: val_loss was not in top 1\n"
     ]
    },
    {
     "name": "stdout",
     "output_type": "stream",
     "text": [
      "Epoch 115:  89%|████████▉ | 58/65 [00:43<00:05,  1.33it/s, loss=0.125, v_num=13, train_loss=0.172, train_accuracy=0.926, val_loss=0.423, val_accuracy=0.894] \n",
      "Validating: 0it [00:00, ?it/s]\u001b[A\n",
      "Validating:   0%|          | 0/8 [00:00<?, ?it/s]\u001b[A\n",
      "Validating:  12%|█▎        | 1/8 [00:03<00:27,  3.89s/it]\u001b[A\n",
      "Epoch 115:  92%|█████████▏| 60/65 [00:47<00:03,  1.26it/s, loss=0.125, v_num=13, train_loss=0.172, train_accuracy=0.926, val_loss=0.423, val_accuracy=0.894]\n",
      "Validating:  38%|███▊      | 3/8 [00:04<00:04,  1.00it/s]\u001b[A\n",
      "Epoch 115:  95%|█████████▌| 62/65 [00:48<00:02,  1.29it/s, loss=0.125, v_num=13, train_loss=0.172, train_accuracy=0.926, val_loss=0.423, val_accuracy=0.894]\n",
      "Validating:  62%|██████▎   | 5/8 [00:04<00:01,  2.06it/s]\u001b[A\n",
      "Epoch 115:  98%|█████████▊| 64/65 [00:48<00:00,  1.32it/s, loss=0.125, v_num=13, train_loss=0.172, train_accuracy=0.926, val_loss=0.423, val_accuracy=0.894]\n",
      "Validating:  88%|████████▊ | 7/8 [00:04<00:00,  3.27it/s]\u001b[A\n",
      "Epoch 115: 100%|██████████| 65/65 [00:48<00:00,  1.33it/s, loss=0.125, v_num=13, train_loss=0.172, train_accuracy=0.926, val_loss=0.461, val_accuracy=0.886]\n",
      "                                                         \u001b[A"
     ]
    },
    {
     "name": "stderr",
     "output_type": "stream",
     "text": [
      "Epoch 115, global step 6611: val_loss was not in top 1\n"
     ]
    },
    {
     "name": "stdout",
     "output_type": "stream",
     "text": [
      "Epoch 116:  89%|████████▉ | 58/65 [00:43<00:05,  1.33it/s, loss=0.116, v_num=13, train_loss=0.0539, train_accuracy=0.985, val_loss=0.461, val_accuracy=0.886]\n",
      "Validating: 0it [00:00, ?it/s]\u001b[A\n",
      "Validating:   0%|          | 0/8 [00:00<?, ?it/s]\u001b[A\n",
      "Validating:  12%|█▎        | 1/8 [00:03<00:26,  3.80s/it]\u001b[A\n",
      "Epoch 116:  92%|█████████▏| 60/65 [00:47<00:03,  1.26it/s, loss=0.116, v_num=13, train_loss=0.0539, train_accuracy=0.985, val_loss=0.461, val_accuracy=0.886]\n",
      "Validating:  38%|███▊      | 3/8 [00:04<00:04,  1.03it/s]\u001b[A\n",
      "Epoch 116:  95%|█████████▌| 62/65 [00:48<00:02,  1.29it/s, loss=0.116, v_num=13, train_loss=0.0539, train_accuracy=0.985, val_loss=0.461, val_accuracy=0.886]\n",
      "Validating:  62%|██████▎   | 5/8 [00:04<00:01,  2.10it/s]\u001b[A\n",
      "Epoch 116:  98%|█████████▊| 64/65 [00:48<00:00,  1.32it/s, loss=0.116, v_num=13, train_loss=0.0539, train_accuracy=0.985, val_loss=0.461, val_accuracy=0.886]\n",
      "Validating:  88%|████████▊ | 7/8 [00:04<00:00,  3.34it/s]\u001b[A\n",
      "Epoch 116: 100%|██████████| 65/65 [00:48<00:00,  1.33it/s, loss=0.116, v_num=13, train_loss=0.0539, train_accuracy=0.985, val_loss=0.433, val_accuracy=0.894]\n",
      "                                                         \u001b[A"
     ]
    },
    {
     "name": "stderr",
     "output_type": "stream",
     "text": [
      "Epoch 116, global step 6668: val_loss was not in top 1\n"
     ]
    },
    {
     "name": "stdout",
     "output_type": "stream",
     "text": [
      "Epoch 117:  89%|████████▉ | 58/65 [00:43<00:05,  1.33it/s, loss=0.193, v_num=13, train_loss=0.0994, train_accuracy=0.985, val_loss=0.433, val_accuracy=0.894]\n",
      "Validating: 0it [00:00, ?it/s]\u001b[A\n",
      "Validating:   0%|          | 0/8 [00:00<?, ?it/s]\u001b[A\n",
      "Validating:  12%|█▎        | 1/8 [00:03<00:26,  3.78s/it]\u001b[A\n",
      "Epoch 117:  92%|█████████▏| 60/65 [00:47<00:03,  1.26it/s, loss=0.193, v_num=13, train_loss=0.0994, train_accuracy=0.985, val_loss=0.433, val_accuracy=0.894]\n",
      "Validating:  38%|███▊      | 3/8 [00:04<00:04,  1.03it/s]\u001b[A\n",
      "Epoch 117:  95%|█████████▌| 62/65 [00:48<00:02,  1.29it/s, loss=0.193, v_num=13, train_loss=0.0994, train_accuracy=0.985, val_loss=0.433, val_accuracy=0.894]\n",
      "Validating:  62%|██████▎   | 5/8 [00:04<00:01,  2.10it/s]\u001b[A\n",
      "Epoch 117:  98%|█████████▊| 64/65 [00:48<00:00,  1.32it/s, loss=0.193, v_num=13, train_loss=0.0994, train_accuracy=0.985, val_loss=0.433, val_accuracy=0.894]\n",
      "Validating:  88%|████████▊ | 7/8 [00:04<00:00,  3.31it/s]\u001b[A\n",
      "Epoch 117: 100%|██████████| 65/65 [00:48<00:00,  1.33it/s, loss=0.193, v_num=13, train_loss=0.0994, train_accuracy=0.985, val_loss=0.421, val_accuracy=0.886]\n",
      "                                                         \u001b[A"
     ]
    },
    {
     "name": "stderr",
     "output_type": "stream",
     "text": [
      "Epoch 117, global step 6725: val_loss was not in top 1\n"
     ]
    },
    {
     "name": "stdout",
     "output_type": "stream",
     "text": [
      "Epoch 118:  89%|████████▉ | 58/65 [00:43<00:05,  1.33it/s, loss=0.138, v_num=13, train_loss=0.0964, train_accuracy=0.971, val_loss=0.421, val_accuracy=0.886]\n",
      "Validating: 0it [00:00, ?it/s]\u001b[A\n",
      "Validating:   0%|          | 0/8 [00:00<?, ?it/s]\u001b[A\n",
      "Validating:  12%|█▎        | 1/8 [00:03<00:26,  3.74s/it]\u001b[A\n",
      "Epoch 118:  92%|█████████▏| 60/65 [00:47<00:03,  1.26it/s, loss=0.138, v_num=13, train_loss=0.0964, train_accuracy=0.971, val_loss=0.421, val_accuracy=0.886]\n",
      "Validating:  38%|███▊      | 3/8 [00:04<00:04,  1.04it/s]\u001b[A\n",
      "Epoch 118:  95%|█████████▌| 62/65 [00:47<00:02,  1.30it/s, loss=0.138, v_num=13, train_loss=0.0964, train_accuracy=0.971, val_loss=0.421, val_accuracy=0.886]\n",
      "Validating:  62%|██████▎   | 5/8 [00:04<00:01,  2.13it/s]\u001b[A\n",
      "Epoch 118:  98%|█████████▊| 64/65 [00:48<00:00,  1.33it/s, loss=0.138, v_num=13, train_loss=0.0964, train_accuracy=0.971, val_loss=0.421, val_accuracy=0.886]\n",
      "Validating:  88%|████████▊ | 7/8 [00:04<00:00,  3.36it/s]\u001b[A\n",
      "Epoch 118: 100%|██████████| 65/65 [00:48<00:00,  1.33it/s, loss=0.138, v_num=13, train_loss=0.0964, train_accuracy=0.971, val_loss=0.289, val_accuracy=0.907]\n",
      "                                                         \u001b[A"
     ]
    },
    {
     "name": "stderr",
     "output_type": "stream",
     "text": [
      "Epoch 118, global step 6782: val_loss reached 0.28891 (best 0.28891), saving model to \"/Workspace/code/checkpoints/best-checkpoint250x250-v4.ckpt\" as top 1\n"
     ]
    },
    {
     "name": "stdout",
     "output_type": "stream",
     "text": [
      "Epoch 119:  89%|████████▉ | 58/65 [00:43<00:05,  1.33it/s, loss=0.131, v_num=13, train_loss=0.101, train_accuracy=0.941, val_loss=0.289, val_accuracy=0.907] \n",
      "Validating: 0it [00:00, ?it/s]\u001b[A\n",
      "Validating:   0%|          | 0/8 [00:00<?, ?it/s]\u001b[A\n",
      "Validating:  12%|█▎        | 1/8 [00:03<00:26,  3.79s/it]\u001b[A\n",
      "Epoch 119:  92%|█████████▏| 60/65 [00:47<00:03,  1.26it/s, loss=0.131, v_num=13, train_loss=0.101, train_accuracy=0.941, val_loss=0.289, val_accuracy=0.907]\n",
      "Validating:  38%|███▊      | 3/8 [00:04<00:04,  1.03it/s]\u001b[A\n",
      "Epoch 119:  95%|█████████▌| 62/65 [00:47<00:02,  1.29it/s, loss=0.131, v_num=13, train_loss=0.101, train_accuracy=0.941, val_loss=0.289, val_accuracy=0.907]\n",
      "Validating:  62%|██████▎   | 5/8 [00:04<00:01,  2.10it/s]\u001b[A\n",
      "Epoch 119:  98%|█████████▊| 64/65 [00:48<00:00,  1.33it/s, loss=0.131, v_num=13, train_loss=0.101, train_accuracy=0.941, val_loss=0.289, val_accuracy=0.907]\n",
      "Validating:  88%|████████▊ | 7/8 [00:04<00:00,  3.32it/s]\u001b[A\n",
      "Epoch 119: 100%|██████████| 65/65 [00:48<00:00,  1.33it/s, loss=0.131, v_num=13, train_loss=0.101, train_accuracy=0.941, val_loss=0.347, val_accuracy=0.899]\n",
      "                                                         \u001b[A"
     ]
    },
    {
     "name": "stderr",
     "output_type": "stream",
     "text": [
      "Epoch 119, global step 6839: val_loss was not in top 1\n"
     ]
    },
    {
     "name": "stdout",
     "output_type": "stream",
     "text": [
      "Epoch 120:  89%|████████▉ | 58/65 [00:43<00:05,  1.32it/s, loss=0.124, v_num=13, train_loss=0.0906, train_accuracy=0.941, val_loss=0.347, val_accuracy=0.899]\n",
      "Validating: 0it [00:00, ?it/s]\u001b[A\n",
      "Validating:   0%|          | 0/8 [00:00<?, ?it/s]\u001b[A\n",
      "Validating:  12%|█▎        | 1/8 [00:03<00:26,  3.74s/it]\u001b[A\n",
      "Epoch 120:  92%|█████████▏| 60/65 [00:47<00:03,  1.26it/s, loss=0.124, v_num=13, train_loss=0.0906, train_accuracy=0.941, val_loss=0.347, val_accuracy=0.899]\n",
      "Validating:  38%|███▊      | 3/8 [00:04<00:04,  1.04it/s]\u001b[A\n",
      "Epoch 120:  95%|█████████▌| 62/65 [00:48<00:02,  1.29it/s, loss=0.124, v_num=13, train_loss=0.0906, train_accuracy=0.941, val_loss=0.347, val_accuracy=0.899]\n",
      "Validating:  62%|██████▎   | 5/8 [00:04<00:01,  2.11it/s]\u001b[A\n",
      "Epoch 120:  98%|█████████▊| 64/65 [00:48<00:00,  1.32it/s, loss=0.124, v_num=13, train_loss=0.0906, train_accuracy=0.941, val_loss=0.347, val_accuracy=0.899]\n",
      "Validating:  88%|████████▊ | 7/8 [00:04<00:00,  3.32it/s]\u001b[A\n",
      "Epoch 120: 100%|██████████| 65/65 [00:48<00:00,  1.33it/s, loss=0.124, v_num=13, train_loss=0.0906, train_accuracy=0.941, val_loss=0.333, val_accuracy=0.906]\n",
      "                                                         \u001b[A"
     ]
    },
    {
     "name": "stderr",
     "output_type": "stream",
     "text": [
      "Epoch 120, global step 6896: val_loss was not in top 1\n"
     ]
    },
    {
     "name": "stdout",
     "output_type": "stream",
     "text": [
      "Epoch 121:  89%|████████▉ | 58/65 [00:43<00:05,  1.32it/s, loss=0.132, v_num=13, train_loss=0.159, train_accuracy=0.941, val_loss=0.333, val_accuracy=0.906] \n",
      "Validating: 0it [00:00, ?it/s]\u001b[A\n",
      "Validating:   0%|          | 0/8 [00:00<?, ?it/s]\u001b[A\n",
      "Validating:  12%|█▎        | 1/8 [00:03<00:26,  3.81s/it]\u001b[A\n",
      "Epoch 121:  92%|█████████▏| 60/65 [00:47<00:03,  1.26it/s, loss=0.132, v_num=13, train_loss=0.159, train_accuracy=0.941, val_loss=0.333, val_accuracy=0.906]\n",
      "Validating:  38%|███▊      | 3/8 [00:04<00:04,  1.02it/s]\u001b[A\n",
      "Epoch 121:  95%|█████████▌| 62/65 [00:48<00:02,  1.29it/s, loss=0.132, v_num=13, train_loss=0.159, train_accuracy=0.941, val_loss=0.333, val_accuracy=0.906]\n",
      "Validating:  62%|██████▎   | 5/8 [00:04<00:01,  2.09it/s]\u001b[A\n",
      "Epoch 121:  98%|█████████▊| 64/65 [00:48<00:00,  1.32it/s, loss=0.132, v_num=13, train_loss=0.159, train_accuracy=0.941, val_loss=0.333, val_accuracy=0.906]\n",
      "Validating:  88%|████████▊ | 7/8 [00:04<00:00,  3.32it/s]\u001b[A\n",
      "Epoch 121: 100%|██████████| 65/65 [00:49<00:00,  1.33it/s, loss=0.132, v_num=13, train_loss=0.159, train_accuracy=0.941, val_loss=0.335, val_accuracy=0.905]\n",
      "                                                         \u001b[A"
     ]
    },
    {
     "name": "stderr",
     "output_type": "stream",
     "text": [
      "Epoch 121, global step 6953: val_loss was not in top 1\n"
     ]
    },
    {
     "name": "stdout",
     "output_type": "stream",
     "text": [
      "Epoch 122:  89%|████████▉ | 58/65 [00:43<00:05,  1.33it/s, loss=0.106, v_num=13, train_loss=0.0682, train_accuracy=0.971, val_loss=0.335, val_accuracy=0.905]\n",
      "Validating: 0it [00:00, ?it/s]\u001b[A\n",
      "Validating:   0%|          | 0/8 [00:00<?, ?it/s]\u001b[A\n",
      "Validating:  12%|█▎        | 1/8 [00:03<00:26,  3.79s/it]\u001b[A\n",
      "Epoch 122:  92%|█████████▏| 60/65 [00:47<00:03,  1.26it/s, loss=0.106, v_num=13, train_loss=0.0682, train_accuracy=0.971, val_loss=0.335, val_accuracy=0.905]\n",
      "Validating:  38%|███▊      | 3/8 [00:04<00:04,  1.02it/s]\u001b[A\n",
      "Epoch 122:  95%|█████████▌| 62/65 [00:48<00:02,  1.29it/s, loss=0.106, v_num=13, train_loss=0.0682, train_accuracy=0.971, val_loss=0.335, val_accuracy=0.905]\n",
      "Validating:  62%|██████▎   | 5/8 [00:04<00:01,  2.10it/s]\u001b[A\n",
      "Epoch 122:  98%|█████████▊| 64/65 [00:48<00:00,  1.32it/s, loss=0.106, v_num=13, train_loss=0.0682, train_accuracy=0.971, val_loss=0.335, val_accuracy=0.905]\n",
      "Validating:  88%|████████▊ | 7/8 [00:04<00:00,  3.32it/s]\u001b[A\n",
      "Epoch 122: 100%|██████████| 65/65 [00:48<00:00,  1.33it/s, loss=0.106, v_num=13, train_loss=0.0682, train_accuracy=0.971, val_loss=0.349, val_accuracy=0.903]\n",
      "                                                         \u001b[A"
     ]
    },
    {
     "name": "stderr",
     "output_type": "stream",
     "text": [
      "Epoch 122, global step 7010: val_loss was not in top 1\n"
     ]
    },
    {
     "name": "stdout",
     "output_type": "stream",
     "text": [
      "Epoch 123:  89%|████████▉ | 58/65 [00:43<00:05,  1.32it/s, loss=0.243, v_num=13, train_loss=0.0963, train_accuracy=0.971, val_loss=0.349, val_accuracy=0.903]\n",
      "Validating: 0it [00:00, ?it/s]\u001b[A\n",
      "Validating:   0%|          | 0/8 [00:00<?, ?it/s]\u001b[A\n",
      "Validating:  12%|█▎        | 1/8 [00:03<00:27,  3.90s/it]\u001b[A\n",
      "Epoch 123:  92%|█████████▏| 60/65 [00:47<00:03,  1.25it/s, loss=0.243, v_num=13, train_loss=0.0963, train_accuracy=0.971, val_loss=0.349, val_accuracy=0.903]\n",
      "Validating:  38%|███▊      | 3/8 [00:04<00:05,  1.00s/it]\u001b[A\n",
      "Epoch 123:  95%|█████████▌| 62/65 [00:48<00:02,  1.29it/s, loss=0.243, v_num=13, train_loss=0.0963, train_accuracy=0.971, val_loss=0.349, val_accuracy=0.903]\n",
      "Validating:  62%|██████▎   | 5/8 [00:04<00:01,  2.06it/s]\u001b[A\n",
      "Epoch 123:  98%|█████████▊| 64/65 [00:48<00:00,  1.32it/s, loss=0.243, v_num=13, train_loss=0.0963, train_accuracy=0.971, val_loss=0.349, val_accuracy=0.903]\n",
      "Validating:  88%|████████▊ | 7/8 [00:04<00:00,  3.28it/s]\u001b[A\n",
      "Epoch 123: 100%|██████████| 65/65 [00:49<00:00,  1.32it/s, loss=0.243, v_num=13, train_loss=0.0963, train_accuracy=0.971, val_loss=0.370, val_accuracy=0.877]\n",
      "                                                         \u001b[A"
     ]
    },
    {
     "name": "stderr",
     "output_type": "stream",
     "text": [
      "Epoch 123, global step 7067: val_loss was not in top 1\n"
     ]
    },
    {
     "name": "stdout",
     "output_type": "stream",
     "text": [
      "Epoch 124:  89%|████████▉ | 58/65 [00:43<00:05,  1.32it/s, loss=0.142, v_num=13, train_loss=0.155, train_accuracy=0.941, val_loss=0.370, val_accuracy=0.877] \n",
      "Validating: 0it [00:00, ?it/s]\u001b[A\n",
      "Validating:   0%|          | 0/8 [00:00<?, ?it/s]\u001b[A\n",
      "Validating:  12%|█▎        | 1/8 [00:03<00:27,  3.86s/it]\u001b[A\n",
      "Epoch 124:  92%|█████████▏| 60/65 [00:47<00:03,  1.25it/s, loss=0.142, v_num=13, train_loss=0.155, train_accuracy=0.941, val_loss=0.370, val_accuracy=0.877]\n",
      "Validating:  38%|███▊      | 3/8 [00:04<00:04,  1.01it/s]\u001b[A\n",
      "Epoch 124:  95%|█████████▌| 62/65 [00:48<00:02,  1.29it/s, loss=0.142, v_num=13, train_loss=0.155, train_accuracy=0.941, val_loss=0.370, val_accuracy=0.877]\n",
      "Validating:  62%|██████▎   | 5/8 [00:04<00:01,  2.06it/s]\u001b[A\n",
      "Epoch 124:  98%|█████████▊| 64/65 [00:48<00:00,  1.32it/s, loss=0.142, v_num=13, train_loss=0.155, train_accuracy=0.941, val_loss=0.370, val_accuracy=0.877]\n",
      "Validating:  88%|████████▊ | 7/8 [00:04<00:00,  3.27it/s]\u001b[A\n",
      "Epoch 124: 100%|██████████| 65/65 [00:49<00:00,  1.32it/s, loss=0.142, v_num=13, train_loss=0.155, train_accuracy=0.941, val_loss=0.383, val_accuracy=0.886]\n",
      "                                                         \u001b[A"
     ]
    },
    {
     "name": "stderr",
     "output_type": "stream",
     "text": [
      "Epoch 124, global step 7124: val_loss was not in top 1\n"
     ]
    },
    {
     "name": "stdout",
     "output_type": "stream",
     "text": [
      "Epoch 125:  89%|████████▉ | 58/65 [00:43<00:05,  1.33it/s, loss=0.132, v_num=13, train_loss=0.113, train_accuracy=0.956, val_loss=0.383, val_accuracy=0.886] \n",
      "Validating: 0it [00:00, ?it/s]\u001b[A\n",
      "Validating:   0%|          | 0/8 [00:00<?, ?it/s]\u001b[A\n",
      "Validating:  12%|█▎        | 1/8 [00:03<00:26,  3.73s/it]\u001b[A\n",
      "Epoch 125:  92%|█████████▏| 60/65 [00:47<00:03,  1.26it/s, loss=0.132, v_num=13, train_loss=0.113, train_accuracy=0.956, val_loss=0.383, val_accuracy=0.886]\n",
      "Validating:  38%|███▊      | 3/8 [00:04<00:04,  1.04it/s]\u001b[A\n",
      "Epoch 125:  95%|█████████▌| 62/65 [00:47<00:02,  1.30it/s, loss=0.132, v_num=13, train_loss=0.113, train_accuracy=0.956, val_loss=0.383, val_accuracy=0.886]\n",
      "Validating:  62%|██████▎   | 5/8 [00:04<00:01,  2.12it/s]\u001b[A\n",
      "Epoch 125:  98%|█████████▊| 64/65 [00:48<00:00,  1.33it/s, loss=0.132, v_num=13, train_loss=0.113, train_accuracy=0.956, val_loss=0.383, val_accuracy=0.886]\n",
      "Validating:  88%|████████▊ | 7/8 [00:04<00:00,  3.33it/s]\u001b[A\n",
      "Epoch 125: 100%|██████████| 65/65 [00:48<00:00,  1.33it/s, loss=0.132, v_num=13, train_loss=0.113, train_accuracy=0.956, val_loss=0.347, val_accuracy=0.900]\n",
      "                                                         \u001b[A"
     ]
    },
    {
     "name": "stderr",
     "output_type": "stream",
     "text": [
      "Epoch 125, global step 7181: val_loss was not in top 1\n"
     ]
    },
    {
     "name": "stdout",
     "output_type": "stream",
     "text": [
      "Epoch 126:  89%|████████▉ | 58/65 [00:43<00:05,  1.33it/s, loss=0.129, v_num=13, train_loss=0.0854, train_accuracy=0.956, val_loss=0.347, val_accuracy=0.900]\n",
      "Validating: 0it [00:00, ?it/s]\u001b[A\n",
      "Validating:   0%|          | 0/8 [00:00<?, ?it/s]\u001b[A\n",
      "Validating:  12%|█▎        | 1/8 [00:03<00:27,  3.91s/it]\u001b[A\n",
      "Epoch 126:  92%|█████████▏| 60/65 [00:47<00:03,  1.26it/s, loss=0.129, v_num=13, train_loss=0.0854, train_accuracy=0.956, val_loss=0.347, val_accuracy=0.900]\n",
      "Validating:  38%|███▊      | 3/8 [00:04<00:05,  1.00s/it]\u001b[A\n",
      "Epoch 126:  95%|█████████▌| 62/65 [00:48<00:02,  1.29it/s, loss=0.129, v_num=13, train_loss=0.0854, train_accuracy=0.956, val_loss=0.347, val_accuracy=0.900]\n",
      "Validating:  62%|██████▎   | 5/8 [00:04<00:01,  2.06it/s]\u001b[A\n",
      "Epoch 126:  98%|█████████▊| 64/65 [00:48<00:00,  1.32it/s, loss=0.129, v_num=13, train_loss=0.0854, train_accuracy=0.956, val_loss=0.347, val_accuracy=0.900]\n",
      "Validating:  88%|████████▊ | 7/8 [00:04<00:00,  3.27it/s]\u001b[A\n",
      "Epoch 126: 100%|██████████| 65/65 [00:48<00:00,  1.33it/s, loss=0.129, v_num=13, train_loss=0.0854, train_accuracy=0.956, val_loss=0.291, val_accuracy=0.908]\n",
      "                                                         \u001b[A"
     ]
    },
    {
     "name": "stderr",
     "output_type": "stream",
     "text": [
      "Epoch 126, global step 7238: val_loss was not in top 1\n"
     ]
    },
    {
     "name": "stdout",
     "output_type": "stream",
     "text": [
      "Epoch 127:  89%|████████▉ | 58/65 [00:43<00:05,  1.32it/s, loss=0.129, v_num=13, train_loss=0.136, train_accuracy=0.941, val_loss=0.291, val_accuracy=0.908] \n",
      "Validating: 0it [00:00, ?it/s]\u001b[A\n",
      "Validating:   0%|          | 0/8 [00:00<?, ?it/s]\u001b[A\n",
      "Validating:  12%|█▎        | 1/8 [00:03<00:26,  3.79s/it]\u001b[A\n",
      "Epoch 127:  92%|█████████▏| 60/65 [00:47<00:03,  1.25it/s, loss=0.129, v_num=13, train_loss=0.136, train_accuracy=0.941, val_loss=0.291, val_accuracy=0.908]\n",
      "Validating:  38%|███▊      | 3/8 [00:04<00:04,  1.02it/s]\u001b[A\n",
      "Epoch 127:  95%|█████████▌| 62/65 [00:48<00:02,  1.29it/s, loss=0.129, v_num=13, train_loss=0.136, train_accuracy=0.941, val_loss=0.291, val_accuracy=0.908]\n",
      "Validating:  62%|██████▎   | 5/8 [00:04<00:01,  2.09it/s]\u001b[A\n",
      "Epoch 127:  98%|█████████▊| 64/65 [00:48<00:00,  1.32it/s, loss=0.129, v_num=13, train_loss=0.136, train_accuracy=0.941, val_loss=0.291, val_accuracy=0.908]\n",
      "Validating:  88%|████████▊ | 7/8 [00:04<00:00,  3.33it/s]\u001b[A\n",
      "Epoch 127: 100%|██████████| 65/65 [00:49<00:00,  1.32it/s, loss=0.129, v_num=13, train_loss=0.136, train_accuracy=0.941, val_loss=0.392, val_accuracy=0.891]\n",
      "                                                         \u001b[A"
     ]
    },
    {
     "name": "stderr",
     "output_type": "stream",
     "text": [
      "Epoch 127, global step 7295: val_loss was not in top 1\n"
     ]
    },
    {
     "name": "stdout",
     "output_type": "stream",
     "text": [
      "Epoch 128:  89%|████████▉ | 58/65 [00:43<00:05,  1.33it/s, loss=0.124, v_num=13, train_loss=0.127, train_accuracy=0.956, val_loss=0.392, val_accuracy=0.891] \n",
      "Validating: 0it [00:00, ?it/s]\u001b[A\n",
      "Validating:   0%|          | 0/8 [00:00<?, ?it/s]\u001b[A\n",
      "Validating:  12%|█▎        | 1/8 [00:03<00:26,  3.74s/it]\u001b[A\n",
      "Epoch 128:  92%|█████████▏| 60/65 [00:47<00:03,  1.26it/s, loss=0.124, v_num=13, train_loss=0.127, train_accuracy=0.956, val_loss=0.392, val_accuracy=0.891]\n",
      "Validating:  38%|███▊      | 3/8 [00:04<00:04,  1.04it/s]\u001b[A\n",
      "Epoch 128:  95%|█████████▌| 62/65 [00:47<00:02,  1.30it/s, loss=0.124, v_num=13, train_loss=0.127, train_accuracy=0.956, val_loss=0.392, val_accuracy=0.891]\n",
      "Validating:  62%|██████▎   | 5/8 [00:04<00:01,  2.12it/s]\u001b[A\n",
      "Epoch 128:  98%|█████████▊| 64/65 [00:48<00:00,  1.33it/s, loss=0.124, v_num=13, train_loss=0.127, train_accuracy=0.956, val_loss=0.392, val_accuracy=0.891]\n",
      "Validating:  88%|████████▊ | 7/8 [00:04<00:00,  3.35it/s]\u001b[A\n",
      "Epoch 128: 100%|██████████| 65/65 [00:48<00:00,  1.33it/s, loss=0.124, v_num=13, train_loss=0.127, train_accuracy=0.956, val_loss=0.326, val_accuracy=0.903]\n",
      "                                                         \u001b[A"
     ]
    },
    {
     "name": "stderr",
     "output_type": "stream",
     "text": [
      "Epoch 128, global step 7352: val_loss was not in top 1\n"
     ]
    },
    {
     "name": "stdout",
     "output_type": "stream",
     "text": [
      "Epoch 129:  89%|████████▉ | 58/65 [00:43<00:05,  1.32it/s, loss=0.14, v_num=13, train_loss=0.0737, train_accuracy=0.971, val_loss=0.326, val_accuracy=0.903] \n",
      "Validating: 0it [00:00, ?it/s]\u001b[A\n",
      "Validating:   0%|          | 0/8 [00:00<?, ?it/s]\u001b[A\n",
      "Validating:  12%|█▎        | 1/8 [00:03<00:26,  3.85s/it]\u001b[A\n",
      "Epoch 129:  92%|█████████▏| 60/65 [00:47<00:03,  1.25it/s, loss=0.14, v_num=13, train_loss=0.0737, train_accuracy=0.971, val_loss=0.326, val_accuracy=0.903]\n",
      "Validating:  38%|███▊      | 3/8 [00:04<00:04,  1.01it/s]\u001b[A\n",
      "Epoch 129:  95%|█████████▌| 62/65 [00:48<00:02,  1.29it/s, loss=0.14, v_num=13, train_loss=0.0737, train_accuracy=0.971, val_loss=0.326, val_accuracy=0.903]\n",
      "Validating:  62%|██████▎   | 5/8 [00:04<00:01,  2.07it/s]\u001b[A\n",
      "Epoch 129:  98%|█████████▊| 64/65 [00:48<00:00,  1.32it/s, loss=0.14, v_num=13, train_loss=0.0737, train_accuracy=0.971, val_loss=0.326, val_accuracy=0.903]\n",
      "Validating:  88%|████████▊ | 7/8 [00:04<00:00,  3.27it/s]\u001b[A\n",
      "Epoch 129: 100%|██████████| 65/65 [00:49<00:00,  1.32it/s, loss=0.14, v_num=13, train_loss=0.0737, train_accuracy=0.971, val_loss=0.304, val_accuracy=0.909]\n",
      "                                                         \u001b[A"
     ]
    },
    {
     "name": "stderr",
     "output_type": "stream",
     "text": [
      "Epoch 129, global step 7409: val_loss was not in top 1\n"
     ]
    },
    {
     "name": "stdout",
     "output_type": "stream",
     "text": [
      "Epoch 130:  89%|████████▉ | 58/65 [00:43<00:05,  1.33it/s, loss=0.147, v_num=13, train_loss=0.0989, train_accuracy=0.956, val_loss=0.304, val_accuracy=0.909]\n",
      "Validating: 0it [00:00, ?it/s]\u001b[A\n",
      "Validating:   0%|          | 0/8 [00:00<?, ?it/s]\u001b[A\n",
      "Validating:  12%|█▎        | 1/8 [00:03<00:27,  3.90s/it]\u001b[A\n",
      "Epoch 130:  92%|█████████▏| 60/65 [00:47<00:03,  1.25it/s, loss=0.147, v_num=13, train_loss=0.0989, train_accuracy=0.956, val_loss=0.304, val_accuracy=0.909]\n",
      "Validating:  38%|███▊      | 3/8 [00:04<00:04,  1.00it/s]\u001b[A\n",
      "Epoch 130:  95%|█████████▌| 62/65 [00:48<00:02,  1.29it/s, loss=0.147, v_num=13, train_loss=0.0989, train_accuracy=0.956, val_loss=0.304, val_accuracy=0.909]\n",
      "Validating:  62%|██████▎   | 5/8 [00:04<00:01,  2.06it/s]\u001b[A\n",
      "Epoch 130:  98%|█████████▊| 64/65 [00:48<00:00,  1.32it/s, loss=0.147, v_num=13, train_loss=0.0989, train_accuracy=0.956, val_loss=0.304, val_accuracy=0.909]\n",
      "Validating:  88%|████████▊ | 7/8 [00:04<00:00,  3.27it/s]\u001b[A\n",
      "Epoch 130: 100%|██████████| 65/65 [00:49<00:00,  1.32it/s, loss=0.147, v_num=13, train_loss=0.0989, train_accuracy=0.956, val_loss=0.326, val_accuracy=0.894]\n",
      "                                                         \u001b[A"
     ]
    },
    {
     "name": "stderr",
     "output_type": "stream",
     "text": [
      "Epoch 130, global step 7466: val_loss was not in top 1\n"
     ]
    },
    {
     "name": "stdout",
     "output_type": "stream",
     "text": [
      "Epoch 131:  15%|█▌        | 10/65 [00:10<00:59,  1.07s/it, loss=0.123, v_num=13, train_loss=0.144, train_accuracy=0.945, val_loss=0.326, val_accuracy=0.894] "
     ]
    },
    {
     "name": "stderr",
     "output_type": "stream",
     "text": [
      "IOPub message rate exceeded.\n",
      "The notebook server will temporarily stop sending output\n",
      "to the client in order to avoid crashing it.\n",
      "To change this limit, set the config variable\n",
      "`--NotebookApp.iopub_msg_rate_limit`.\n",
      "\n",
      "Current values:\n",
      "NotebookApp.iopub_msg_rate_limit=1000.0 (msgs/sec)\n",
      "NotebookApp.rate_limit_window=3.0 (secs)\n",
      "\n"
     ]
    },
    {
     "name": "stdout",
     "output_type": "stream",
     "text": [
      "Epoch 134:  89%|████████▉ | 58/65 [00:43<00:05,  1.33it/s, loss=0.0938, v_num=13, train_loss=0.112, train_accuracy=0.956, val_loss=0.290, val_accuracy=0.917] \n",
      "Validating: 0it [00:00, ?it/s]\u001b[A\n",
      "Validating:   0%|          | 0/8 [00:00<?, ?it/s]\u001b[A\n",
      "Validating:  12%|█▎        | 1/8 [00:03<00:26,  3.73s/it]\u001b[A\n",
      "Epoch 134:  92%|█████████▏| 60/65 [00:47<00:03,  1.26it/s, loss=0.0938, v_num=13, train_loss=0.112, train_accuracy=0.956, val_loss=0.290, val_accuracy=0.917]\n",
      "Validating:  38%|███▊      | 3/8 [00:04<00:04,  1.04it/s]\u001b[A\n",
      "Epoch 134:  95%|█████████▌| 62/65 [00:47<00:02,  1.30it/s, loss=0.0938, v_num=13, train_loss=0.112, train_accuracy=0.956, val_loss=0.290, val_accuracy=0.917]\n",
      "Validating:  62%|██████▎   | 5/8 [00:04<00:01,  2.12it/s]\u001b[A\n",
      "Epoch 134:  98%|█████████▊| 64/65 [00:48<00:00,  1.33it/s, loss=0.0938, v_num=13, train_loss=0.112, train_accuracy=0.956, val_loss=0.290, val_accuracy=0.917]\n",
      "Validating:  88%|████████▊ | 7/8 [00:04<00:00,  3.35it/s]\u001b[A\n",
      "Epoch 134: 100%|██████████| 65/65 [00:48<00:00,  1.33it/s, loss=0.0938, v_num=13, train_loss=0.112, train_accuracy=0.956, val_loss=0.277, val_accuracy=0.914]\n",
      "                                                         \u001b[A"
     ]
    },
    {
     "name": "stderr",
     "output_type": "stream",
     "text": [
      "Epoch 134, global step 7694: val_loss reached 0.27743 (best 0.27743), saving model to \"/Workspace/code/checkpoints/best-checkpoint250x250-v4.ckpt\" as top 1\n"
     ]
    },
    {
     "name": "stdout",
     "output_type": "stream",
     "text": [
      "Epoch 135:  89%|████████▉ | 58/65 [00:43<00:05,  1.33it/s, loss=0.102, v_num=13, train_loss=0.0469, train_accuracy=1.000, val_loss=0.277, val_accuracy=0.914]\n",
      "Validating: 0it [00:00, ?it/s]\u001b[A\n",
      "Validating:   0%|          | 0/8 [00:00<?, ?it/s]\u001b[A\n",
      "Validating:  12%|█▎        | 1/8 [00:03<00:26,  3.83s/it]\u001b[A\n",
      "Epoch 135:  92%|█████████▏| 60/65 [00:47<00:03,  1.26it/s, loss=0.102, v_num=13, train_loss=0.0469, train_accuracy=1.000, val_loss=0.277, val_accuracy=0.914]\n",
      "Validating:  38%|███▊      | 3/8 [00:04<00:04,  1.02it/s]\u001b[A\n",
      "Epoch 135:  95%|█████████▌| 62/65 [00:48<00:02,  1.29it/s, loss=0.102, v_num=13, train_loss=0.0469, train_accuracy=1.000, val_loss=0.277, val_accuracy=0.914]\n",
      "Validating:  62%|██████▎   | 5/8 [00:04<00:01,  2.08it/s]\u001b[A\n",
      "Epoch 135:  98%|█████████▊| 64/65 [00:48<00:00,  1.32it/s, loss=0.102, v_num=13, train_loss=0.0469, train_accuracy=1.000, val_loss=0.277, val_accuracy=0.914]\n",
      "Validating:  88%|████████▊ | 7/8 [00:04<00:00,  3.31it/s]\u001b[A\n",
      "Epoch 135: 100%|██████████| 65/65 [00:49<00:00,  1.33it/s, loss=0.102, v_num=13, train_loss=0.0469, train_accuracy=1.000, val_loss=0.301, val_accuracy=0.912]\n",
      "                                                         \u001b[A"
     ]
    },
    {
     "name": "stderr",
     "output_type": "stream",
     "text": [
      "Epoch 135, global step 7751: val_loss was not in top 1\n"
     ]
    },
    {
     "name": "stdout",
     "output_type": "stream",
     "text": [
      "Epoch 136:  89%|████████▉ | 58/65 [00:43<00:05,  1.33it/s, loss=0.135, v_num=13, train_loss=0.155, train_accuracy=0.941, val_loss=0.301, val_accuracy=0.912]  \n",
      "Validating: 0it [00:00, ?it/s]\u001b[A\n",
      "Validating:   0%|          | 0/8 [00:00<?, ?it/s]\u001b[A\n",
      "Validating:  12%|█▎        | 1/8 [00:03<00:27,  3.95s/it]\u001b[A\n",
      "Epoch 136:  92%|█████████▏| 60/65 [00:47<00:03,  1.26it/s, loss=0.135, v_num=13, train_loss=0.155, train_accuracy=0.941, val_loss=0.301, val_accuracy=0.912]\n",
      "Validating:  38%|███▊      | 3/8 [00:04<00:05,  1.01s/it]\u001b[A\n",
      "Epoch 136:  95%|█████████▌| 62/65 [00:48<00:02,  1.29it/s, loss=0.135, v_num=13, train_loss=0.155, train_accuracy=0.941, val_loss=0.301, val_accuracy=0.912]\n",
      "Validating:  62%|██████▎   | 5/8 [00:04<00:01,  2.04it/s]\u001b[A\n",
      "Epoch 136:  98%|█████████▊| 64/65 [00:48<00:00,  1.32it/s, loss=0.135, v_num=13, train_loss=0.155, train_accuracy=0.941, val_loss=0.301, val_accuracy=0.912]\n",
      "Validating:  88%|████████▊ | 7/8 [00:04<00:00,  3.24it/s]\u001b[A\n",
      "Epoch 136: 100%|██████████| 65/65 [00:49<00:00,  1.33it/s, loss=0.135, v_num=13, train_loss=0.155, train_accuracy=0.941, val_loss=0.370, val_accuracy=0.895]\n",
      "                                                         \u001b[A"
     ]
    },
    {
     "name": "stderr",
     "output_type": "stream",
     "text": [
      "Epoch 136, global step 7808: val_loss was not in top 1\n"
     ]
    },
    {
     "name": "stdout",
     "output_type": "stream",
     "text": [
      "Epoch 137:  89%|████████▉ | 58/65 [00:43<00:05,  1.32it/s, loss=0.115, v_num=13, train_loss=0.0711, train_accuracy=0.956, val_loss=0.370, val_accuracy=0.895] \n",
      "Validating: 0it [00:00, ?it/s]\u001b[A\n",
      "Validating:   0%|          | 0/8 [00:00<?, ?it/s]\u001b[A\n",
      "Validating:  12%|█▎        | 1/8 [00:03<00:27,  3.86s/it]\u001b[A\n",
      "Epoch 137:  92%|█████████▏| 60/65 [00:47<00:03,  1.25it/s, loss=0.115, v_num=13, train_loss=0.0711, train_accuracy=0.956, val_loss=0.370, val_accuracy=0.895]\n",
      "Validating:  38%|███▊      | 3/8 [00:04<00:04,  1.01it/s]\u001b[A\n",
      "Epoch 137:  95%|█████████▌| 62/65 [00:48<00:02,  1.29it/s, loss=0.115, v_num=13, train_loss=0.0711, train_accuracy=0.956, val_loss=0.370, val_accuracy=0.895]\n",
      "Validating:  62%|██████▎   | 5/8 [00:04<00:01,  2.07it/s]\u001b[A\n",
      "Epoch 137:  98%|█████████▊| 64/65 [00:48<00:00,  1.32it/s, loss=0.115, v_num=13, train_loss=0.0711, train_accuracy=0.956, val_loss=0.370, val_accuracy=0.895]\n",
      "Validating:  88%|████████▊ | 7/8 [00:04<00:00,  3.27it/s]\u001b[A\n",
      "Epoch 137: 100%|██████████| 65/65 [00:49<00:00,  1.32it/s, loss=0.115, v_num=13, train_loss=0.0711, train_accuracy=0.956, val_loss=0.365, val_accuracy=0.903]\n",
      "                                                         \u001b[A"
     ]
    },
    {
     "name": "stderr",
     "output_type": "stream",
     "text": [
      "Epoch 137, global step 7865: val_loss was not in top 1\n"
     ]
    },
    {
     "name": "stdout",
     "output_type": "stream",
     "text": [
      "Epoch 138:  89%|████████▉ | 58/65 [00:43<00:05,  1.33it/s, loss=0.0956, v_num=13, train_loss=0.101, train_accuracy=0.971, val_loss=0.365, val_accuracy=0.903] \n",
      "Validating: 0it [00:00, ?it/s]\u001b[A\n",
      "Validating:   0%|          | 0/8 [00:00<?, ?it/s]\u001b[A\n",
      "Validating:  12%|█▎        | 1/8 [00:03<00:27,  3.96s/it]\u001b[A\n",
      "Epoch 138:  92%|█████████▏| 60/65 [00:47<00:03,  1.25it/s, loss=0.0956, v_num=13, train_loss=0.101, train_accuracy=0.971, val_loss=0.365, val_accuracy=0.903]\n",
      "Validating:  38%|███▊      | 3/8 [00:04<00:05,  1.01s/it]\u001b[A\n",
      "Epoch 138:  95%|█████████▌| 62/65 [00:48<00:02,  1.29it/s, loss=0.0956, v_num=13, train_loss=0.101, train_accuracy=0.971, val_loss=0.365, val_accuracy=0.903]\n",
      "Validating:  62%|██████▎   | 5/8 [00:04<00:01,  2.04it/s]\u001b[A\n",
      "Epoch 138:  98%|█████████▊| 64/65 [00:48<00:00,  1.32it/s, loss=0.0956, v_num=13, train_loss=0.101, train_accuracy=0.971, val_loss=0.365, val_accuracy=0.903]\n",
      "Validating:  88%|████████▊ | 7/8 [00:04<00:00,  3.26it/s]\u001b[A\n",
      "Epoch 138: 100%|██████████| 65/65 [00:49<00:00,  1.32it/s, loss=0.0956, v_num=13, train_loss=0.101, train_accuracy=0.971, val_loss=0.287, val_accuracy=0.917]\n",
      "                                                         \u001b[A"
     ]
    },
    {
     "name": "stderr",
     "output_type": "stream",
     "text": [
      "Epoch 138, global step 7922: val_loss was not in top 1\n"
     ]
    },
    {
     "name": "stdout",
     "output_type": "stream",
     "text": [
      "Epoch 139:  89%|████████▉ | 58/65 [00:43<00:05,  1.33it/s, loss=0.124, v_num=13, train_loss=0.154, train_accuracy=0.926, val_loss=0.287, val_accuracy=0.917]  \n",
      "Validating: 0it [00:00, ?it/s]\u001b[A\n",
      "Validating:   0%|          | 0/8 [00:00<?, ?it/s]\u001b[A\n",
      "Validating:  12%|█▎        | 1/8 [00:03<00:26,  3.75s/it]\u001b[A\n",
      "Epoch 139:  92%|█████████▏| 60/65 [00:47<00:03,  1.26it/s, loss=0.124, v_num=13, train_loss=0.154, train_accuracy=0.926, val_loss=0.287, val_accuracy=0.917]\n",
      "Validating:  38%|███▊      | 3/8 [00:04<00:04,  1.03it/s]\u001b[A\n",
      "Epoch 139:  95%|█████████▌| 62/65 [00:47<00:02,  1.29it/s, loss=0.124, v_num=13, train_loss=0.154, train_accuracy=0.926, val_loss=0.287, val_accuracy=0.917]\n",
      "Validating:  62%|██████▎   | 5/8 [00:04<00:01,  2.11it/s]\u001b[A\n",
      "Epoch 139:  98%|█████████▊| 64/65 [00:48<00:00,  1.33it/s, loss=0.124, v_num=13, train_loss=0.154, train_accuracy=0.926, val_loss=0.287, val_accuracy=0.917]\n",
      "Validating:  88%|████████▊ | 7/8 [00:04<00:00,  3.32it/s]\u001b[A\n",
      "Epoch 139: 100%|██████████| 65/65 [00:48<00:00,  1.33it/s, loss=0.124, v_num=13, train_loss=0.154, train_accuracy=0.926, val_loss=0.363, val_accuracy=0.906]\n",
      "                                                         \u001b[A"
     ]
    },
    {
     "name": "stderr",
     "output_type": "stream",
     "text": [
      "Epoch 139, global step 7979: val_loss was not in top 1\n"
     ]
    },
    {
     "name": "stdout",
     "output_type": "stream",
     "text": [
      "Epoch 140:  89%|████████▉ | 58/65 [00:43<00:05,  1.33it/s, loss=0.105, v_num=13, train_loss=0.0319, train_accuracy=1.000, val_loss=0.363, val_accuracy=0.906]\n",
      "Validating: 0it [00:00, ?it/s]\u001b[A\n",
      "Validating:   0%|          | 0/8 [00:00<?, ?it/s]\u001b[A\n",
      "Validating:  12%|█▎        | 1/8 [00:03<00:26,  3.85s/it]\u001b[A\n",
      "Epoch 140:  92%|█████████▏| 60/65 [00:47<00:03,  1.26it/s, loss=0.105, v_num=13, train_loss=0.0319, train_accuracy=1.000, val_loss=0.363, val_accuracy=0.906]\n",
      "Validating:  38%|███▊      | 3/8 [00:04<00:04,  1.01it/s]\u001b[A\n",
      "Epoch 140:  95%|█████████▌| 62/65 [00:48<00:02,  1.29it/s, loss=0.105, v_num=13, train_loss=0.0319, train_accuracy=1.000, val_loss=0.363, val_accuracy=0.906]\n",
      "Validating:  62%|██████▎   | 5/8 [00:04<00:01,  2.09it/s]\u001b[A\n",
      "Epoch 140:  98%|█████████▊| 64/65 [00:48<00:00,  1.32it/s, loss=0.105, v_num=13, train_loss=0.0319, train_accuracy=1.000, val_loss=0.363, val_accuracy=0.906]\n",
      "Validating:  88%|████████▊ | 7/8 [00:04<00:00,  3.31it/s]\u001b[A\n",
      "Epoch 140: 100%|██████████| 65/65 [00:49<00:00,  1.33it/s, loss=0.105, v_num=13, train_loss=0.0319, train_accuracy=1.000, val_loss=0.323, val_accuracy=0.918]\n",
      "                                                         \u001b[A"
     ]
    },
    {
     "name": "stderr",
     "output_type": "stream",
     "text": [
      "Epoch 140, global step 8036: val_loss was not in top 1\n"
     ]
    },
    {
     "name": "stdout",
     "output_type": "stream",
     "text": [
      "Epoch 141:  89%|████████▉ | 58/65 [00:43<00:05,  1.33it/s, loss=0.0996, v_num=13, train_loss=0.0642, train_accuracy=0.985, val_loss=0.323, val_accuracy=0.918]\n",
      "Validating: 0it [00:00, ?it/s]\u001b[A\n",
      "Validating:   0%|          | 0/8 [00:00<?, ?it/s]\u001b[A\n",
      "Validating:  12%|█▎        | 1/8 [00:03<00:27,  3.87s/it]\u001b[A\n",
      "Epoch 141:  92%|█████████▏| 60/65 [00:47<00:03,  1.26it/s, loss=0.0996, v_num=13, train_loss=0.0642, train_accuracy=0.985, val_loss=0.323, val_accuracy=0.918]\n",
      "Validating:  38%|███▊      | 3/8 [00:04<00:04,  1.01it/s]\u001b[A\n",
      "Epoch 141:  95%|█████████▌| 62/65 [00:48<00:02,  1.29it/s, loss=0.0996, v_num=13, train_loss=0.0642, train_accuracy=0.985, val_loss=0.323, val_accuracy=0.918]\n",
      "Validating:  62%|██████▎   | 5/8 [00:04<00:01,  2.07it/s]\u001b[A\n",
      "Epoch 141:  98%|█████████▊| 64/65 [00:48<00:00,  1.32it/s, loss=0.0996, v_num=13, train_loss=0.0642, train_accuracy=0.985, val_loss=0.323, val_accuracy=0.918]\n",
      "Validating:  88%|████████▊ | 7/8 [00:04<00:00,  3.28it/s]\u001b[A\n",
      "Epoch 141: 100%|██████████| 65/65 [00:48<00:00,  1.33it/s, loss=0.0996, v_num=13, train_loss=0.0642, train_accuracy=0.985, val_loss=0.294, val_accuracy=0.919]\n",
      "                                                         \u001b[A"
     ]
    },
    {
     "name": "stderr",
     "output_type": "stream",
     "text": [
      "Epoch 141, global step 8093: val_loss was not in top 1\n"
     ]
    },
    {
     "name": "stdout",
     "output_type": "stream",
     "text": [
      "Epoch 142:  89%|████████▉ | 58/65 [00:43<00:05,  1.33it/s, loss=0.0898, v_num=13, train_loss=0.0632, train_accuracy=0.971, val_loss=0.294, val_accuracy=0.919]\n",
      "Validating: 0it [00:00, ?it/s]\u001b[A\n",
      "Validating:   0%|          | 0/8 [00:00<?, ?it/s]\u001b[A\n",
      "Validating:  12%|█▎        | 1/8 [00:03<00:26,  3.85s/it]\u001b[A\n",
      "Epoch 142:  92%|█████████▏| 60/65 [00:47<00:03,  1.26it/s, loss=0.0898, v_num=13, train_loss=0.0632, train_accuracy=0.971, val_loss=0.294, val_accuracy=0.919]\n",
      "Validating:  38%|███▊      | 3/8 [00:04<00:04,  1.01it/s]\u001b[A\n",
      "Epoch 142:  95%|█████████▌| 62/65 [00:47<00:02,  1.30it/s, loss=0.0898, v_num=13, train_loss=0.0632, train_accuracy=0.971, val_loss=0.294, val_accuracy=0.919]\n",
      "Validating:  62%|██████▎   | 5/8 [00:04<00:01,  2.09it/s]\u001b[A\n",
      "Epoch 142:  98%|█████████▊| 64/65 [00:48<00:00,  1.33it/s, loss=0.0898, v_num=13, train_loss=0.0632, train_accuracy=0.971, val_loss=0.294, val_accuracy=0.919]\n",
      "Validating:  88%|████████▊ | 7/8 [00:04<00:00,  3.31it/s]\u001b[A\n",
      "Epoch 142: 100%|██████████| 65/65 [00:48<00:00,  1.33it/s, loss=0.0898, v_num=13, train_loss=0.0632, train_accuracy=0.971, val_loss=0.274, val_accuracy=0.926]\n",
      "                                                         \u001b[A"
     ]
    },
    {
     "name": "stderr",
     "output_type": "stream",
     "text": [
      "Epoch 142, global step 8150: val_loss reached 0.27432 (best 0.27432), saving model to \"/Workspace/code/checkpoints/best-checkpoint250x250-v4.ckpt\" as top 1\n"
     ]
    },
    {
     "name": "stdout",
     "output_type": "stream",
     "text": [
      "Epoch 143:  89%|████████▉ | 58/65 [00:43<00:05,  1.33it/s, loss=0.107, v_num=13, train_loss=0.105, train_accuracy=0.956, val_loss=0.274, val_accuracy=0.926]  \n",
      "Validating: 0it [00:00, ?it/s]\u001b[A\n",
      "Validating:   0%|          | 0/8 [00:00<?, ?it/s]\u001b[A\n",
      "Validating:  12%|█▎        | 1/8 [00:03<00:27,  3.90s/it]\u001b[A\n",
      "Epoch 143:  92%|█████████▏| 60/65 [00:47<00:03,  1.26it/s, loss=0.107, v_num=13, train_loss=0.105, train_accuracy=0.956, val_loss=0.274, val_accuracy=0.926]\n",
      "Validating:  38%|███▊      | 3/8 [00:04<00:05,  1.00s/it]\u001b[A\n",
      "Epoch 143:  95%|█████████▌| 62/65 [00:48<00:02,  1.29it/s, loss=0.107, v_num=13, train_loss=0.105, train_accuracy=0.956, val_loss=0.274, val_accuracy=0.926]\n",
      "Validating:  62%|██████▎   | 5/8 [00:04<00:01,  2.05it/s]\u001b[A\n",
      "Epoch 143:  98%|█████████▊| 64/65 [00:48<00:00,  1.32it/s, loss=0.107, v_num=13, train_loss=0.105, train_accuracy=0.956, val_loss=0.274, val_accuracy=0.926]\n",
      "Validating:  88%|████████▊ | 7/8 [00:04<00:00,  3.28it/s]\u001b[A\n",
      "Epoch 143: 100%|██████████| 65/65 [00:49<00:00,  1.32it/s, loss=0.107, v_num=13, train_loss=0.105, train_accuracy=0.956, val_loss=0.322, val_accuracy=0.911]\n",
      "                                                         \u001b[A"
     ]
    },
    {
     "name": "stderr",
     "output_type": "stream",
     "text": [
      "Epoch 143, global step 8207: val_loss was not in top 1\n"
     ]
    },
    {
     "name": "stdout",
     "output_type": "stream",
     "text": [
      "Epoch 144:  89%|████████▉ | 58/65 [00:43<00:05,  1.33it/s, loss=0.119, v_num=13, train_loss=0.192, train_accuracy=0.926, val_loss=0.322, val_accuracy=0.911] \n",
      "Validating: 0it [00:00, ?it/s]\u001b[A\n",
      "Validating:   0%|          | 0/8 [00:00<?, ?it/s]\u001b[A\n",
      "Validating:  12%|█▎        | 1/8 [00:03<00:27,  3.93s/it]\u001b[A\n",
      "Epoch 144:  92%|█████████▏| 60/65 [00:47<00:03,  1.25it/s, loss=0.119, v_num=13, train_loss=0.192, train_accuracy=0.926, val_loss=0.322, val_accuracy=0.911]\n",
      "Validating:  38%|███▊      | 3/8 [00:04<00:05,  1.00s/it]\u001b[A\n",
      "Epoch 144:  95%|█████████▌| 62/65 [00:48<00:02,  1.29it/s, loss=0.119, v_num=13, train_loss=0.192, train_accuracy=0.926, val_loss=0.322, val_accuracy=0.911]\n",
      "Validating:  62%|██████▎   | 5/8 [00:04<00:01,  2.06it/s]\u001b[A\n",
      "Epoch 144:  98%|█████████▊| 64/65 [00:48<00:00,  1.32it/s, loss=0.119, v_num=13, train_loss=0.192, train_accuracy=0.926, val_loss=0.322, val_accuracy=0.911]\n",
      "Validating:  88%|████████▊ | 7/8 [00:04<00:00,  3.26it/s]\u001b[A\n",
      "Epoch 144: 100%|██████████| 65/65 [00:49<00:00,  1.32it/s, loss=0.119, v_num=13, train_loss=0.192, train_accuracy=0.926, val_loss=0.327, val_accuracy=0.911]\n",
      "                                                         \u001b[A"
     ]
    },
    {
     "name": "stderr",
     "output_type": "stream",
     "text": [
      "Epoch 144, global step 8264: val_loss was not in top 1\n"
     ]
    },
    {
     "name": "stdout",
     "output_type": "stream",
     "text": [
      "Epoch 145:  89%|████████▉ | 58/65 [00:43<00:05,  1.33it/s, loss=0.0946, v_num=13, train_loss=0.159, train_accuracy=0.956, val_loss=0.327, val_accuracy=0.911] \n",
      "Validating: 0it [00:00, ?it/s]\u001b[A\n",
      "Validating:   0%|          | 0/8 [00:00<?, ?it/s]\u001b[A\n",
      "Validating:  12%|█▎        | 1/8 [00:03<00:27,  3.89s/it]\u001b[A\n",
      "Epoch 145:  92%|█████████▏| 60/65 [00:47<00:03,  1.25it/s, loss=0.0946, v_num=13, train_loss=0.159, train_accuracy=0.956, val_loss=0.327, val_accuracy=0.911]\n",
      "Validating:  38%|███▊      | 3/8 [00:04<00:04,  1.00it/s]\u001b[A\n",
      "Epoch 145:  95%|█████████▌| 62/65 [00:48<00:02,  1.29it/s, loss=0.0946, v_num=13, train_loss=0.159, train_accuracy=0.956, val_loss=0.327, val_accuracy=0.911]\n",
      "Validating:  62%|██████▎   | 5/8 [00:04<00:01,  2.06it/s]\u001b[A\n",
      "Epoch 145:  98%|█████████▊| 64/65 [00:48<00:00,  1.32it/s, loss=0.0946, v_num=13, train_loss=0.159, train_accuracy=0.956, val_loss=0.327, val_accuracy=0.911]\n",
      "Validating:  88%|████████▊ | 7/8 [00:04<00:00,  3.29it/s]\u001b[A\n",
      "Epoch 145: 100%|██████████| 65/65 [00:49<00:00,  1.32it/s, loss=0.0946, v_num=13, train_loss=0.159, train_accuracy=0.956, val_loss=0.371, val_accuracy=0.908]\n",
      "                                                         \u001b[A"
     ]
    },
    {
     "name": "stderr",
     "output_type": "stream",
     "text": [
      "Epoch 145, global step 8321: val_loss was not in top 1\n"
     ]
    },
    {
     "name": "stdout",
     "output_type": "stream",
     "text": [
      "Epoch 146:  89%|████████▉ | 58/65 [00:43<00:05,  1.32it/s, loss=0.0958, v_num=13, train_loss=0.0765, train_accuracy=0.971, val_loss=0.371, val_accuracy=0.908]\n",
      "Validating: 0it [00:00, ?it/s]\u001b[A\n",
      "Validating:   0%|          | 0/8 [00:00<?, ?it/s]\u001b[A\n",
      "Validating:  12%|█▎        | 1/8 [00:03<00:26,  3.74s/it]\u001b[A\n",
      "Epoch 146:  92%|█████████▏| 60/65 [00:47<00:03,  1.25it/s, loss=0.0958, v_num=13, train_loss=0.0765, train_accuracy=0.971, val_loss=0.371, val_accuracy=0.908]\n",
      "Validating:  38%|███▊      | 3/8 [00:04<00:05,  1.00s/it]\u001b[A\n",
      "Epoch 146:  95%|█████████▌| 62/65 [00:48<00:02,  1.29it/s, loss=0.0958, v_num=13, train_loss=0.0765, train_accuracy=0.971, val_loss=0.371, val_accuracy=0.908]\n",
      "Validating:  62%|██████▎   | 5/8 [00:04<00:01,  2.06it/s]\u001b[A\n",
      "Epoch 146:  98%|█████████▊| 64/65 [00:48<00:00,  1.32it/s, loss=0.0958, v_num=13, train_loss=0.0765, train_accuracy=0.971, val_loss=0.371, val_accuracy=0.908]\n",
      "Validating:  88%|████████▊ | 7/8 [00:04<00:00,  3.27it/s]\u001b[A\n",
      "Epoch 146: 100%|██████████| 65/65 [00:49<00:00,  1.32it/s, loss=0.0958, v_num=13, train_loss=0.0765, train_accuracy=0.971, val_loss=0.367, val_accuracy=0.912]\n",
      "                                                         \u001b[A"
     ]
    },
    {
     "name": "stderr",
     "output_type": "stream",
     "text": [
      "Epoch 146, global step 8378: val_loss was not in top 1\n"
     ]
    },
    {
     "name": "stdout",
     "output_type": "stream",
     "text": [
      "Epoch 147:  89%|████████▉ | 58/65 [00:43<00:05,  1.33it/s, loss=0.176, v_num=13, train_loss=0.125, train_accuracy=0.926, val_loss=0.367, val_accuracy=0.912]  \n",
      "Validating: 0it [00:00, ?it/s]\u001b[A\n",
      "Validating:   0%|          | 0/8 [00:00<?, ?it/s]\u001b[A\n",
      "Validating:  12%|█▎        | 1/8 [00:03<00:26,  3.83s/it]\u001b[A\n",
      "Epoch 147:  92%|█████████▏| 60/65 [00:47<00:03,  1.26it/s, loss=0.176, v_num=13, train_loss=0.125, train_accuracy=0.926, val_loss=0.367, val_accuracy=0.912]\n",
      "Validating:  38%|███▊      | 3/8 [00:04<00:04,  1.01it/s]\u001b[A\n",
      "Epoch 147:  95%|█████████▌| 62/65 [00:48<00:02,  1.29it/s, loss=0.176, v_num=13, train_loss=0.125, train_accuracy=0.926, val_loss=0.367, val_accuracy=0.912]\n",
      "Validating:  62%|██████▎   | 5/8 [00:04<00:01,  2.07it/s]\u001b[A\n",
      "Epoch 147:  98%|█████████▊| 64/65 [00:48<00:00,  1.32it/s, loss=0.176, v_num=13, train_loss=0.125, train_accuracy=0.926, val_loss=0.367, val_accuracy=0.912]\n",
      "Validating:  88%|████████▊ | 7/8 [00:04<00:00,  3.30it/s]\u001b[A\n",
      "Epoch 147: 100%|██████████| 65/65 [00:48<00:00,  1.33it/s, loss=0.176, v_num=13, train_loss=0.125, train_accuracy=0.926, val_loss=0.258, val_accuracy=0.922]\n",
      "                                                         \u001b[A"
     ]
    },
    {
     "name": "stderr",
     "output_type": "stream",
     "text": [
      "Epoch 147, global step 8435: val_loss reached 0.25776 (best 0.25776), saving model to \"/Workspace/code/checkpoints/best-checkpoint250x250-v4.ckpt\" as top 1\n"
     ]
    },
    {
     "name": "stdout",
     "output_type": "stream",
     "text": [
      "Epoch 148:  89%|████████▉ | 58/65 [00:43<00:05,  1.32it/s, loss=0.0888, v_num=13, train_loss=0.041, train_accuracy=0.985, val_loss=0.258, val_accuracy=0.922] \n",
      "Validating: 0it [00:00, ?it/s]\u001b[A\n",
      "Validating:   0%|          | 0/8 [00:00<?, ?it/s]\u001b[A\n",
      "Validating:  12%|█▎        | 1/8 [00:03<00:26,  3.84s/it]\u001b[A\n",
      "Epoch 148:  92%|█████████▏| 60/65 [00:47<00:03,  1.25it/s, loss=0.0888, v_num=13, train_loss=0.041, train_accuracy=0.985, val_loss=0.258, val_accuracy=0.922]\n",
      "Validating:  38%|███▊      | 3/8 [00:04<00:04,  1.02it/s]\u001b[A\n",
      "Epoch 148:  95%|█████████▌| 62/65 [00:48<00:02,  1.29it/s, loss=0.0888, v_num=13, train_loss=0.041, train_accuracy=0.985, val_loss=0.258, val_accuracy=0.922]\n",
      "Validating:  62%|██████▎   | 5/8 [00:04<00:01,  2.09it/s]\u001b[A\n",
      "Epoch 148:  98%|█████████▊| 64/65 [00:48<00:00,  1.32it/s, loss=0.0888, v_num=13, train_loss=0.041, train_accuracy=0.985, val_loss=0.258, val_accuracy=0.922]\n",
      "Validating:  88%|████████▊ | 7/8 [00:04<00:00,  3.29it/s]\u001b[A\n",
      "Epoch 148: 100%|██████████| 65/65 [00:49<00:00,  1.32it/s, loss=0.0888, v_num=13, train_loss=0.041, train_accuracy=0.985, val_loss=0.330, val_accuracy=0.920]\n",
      "                                                         \u001b[A"
     ]
    },
    {
     "name": "stderr",
     "output_type": "stream",
     "text": [
      "Epoch 148, global step 8492: val_loss was not in top 1\n"
     ]
    },
    {
     "name": "stdout",
     "output_type": "stream",
     "text": [
      "Epoch 149:  89%|████████▉ | 58/65 [00:43<00:05,  1.33it/s, loss=0.0795, v_num=13, train_loss=0.0693, train_accuracy=0.985, val_loss=0.330, val_accuracy=0.920]\n",
      "Validating: 0it [00:00, ?it/s]\u001b[A\n",
      "Validating:   0%|          | 0/8 [00:00<?, ?it/s]\u001b[A\n",
      "Validating:  12%|█▎        | 1/8 [00:04<00:28,  4.01s/it]\u001b[A\n",
      "Epoch 149:  92%|█████████▏| 60/65 [00:47<00:03,  1.25it/s, loss=0.0795, v_num=13, train_loss=0.0693, train_accuracy=0.985, val_loss=0.330, val_accuracy=0.920]\n",
      "Validating:  38%|███▊      | 3/8 [00:04<00:05,  1.03s/it]\u001b[A\n",
      "Epoch 149:  95%|█████████▌| 62/65 [00:48<00:02,  1.28it/s, loss=0.0795, v_num=13, train_loss=0.0693, train_accuracy=0.985, val_loss=0.330, val_accuracy=0.920]\n",
      "Validating:  62%|██████▎   | 5/8 [00:04<00:01,  2.01it/s]\u001b[A\n",
      "Epoch 149:  98%|█████████▊| 64/65 [00:48<00:00,  1.32it/s, loss=0.0795, v_num=13, train_loss=0.0693, train_accuracy=0.985, val_loss=0.330, val_accuracy=0.920]\n",
      "Validating:  88%|████████▊ | 7/8 [00:04<00:00,  3.21it/s]\u001b[A\n",
      "Epoch 149: 100%|██████████| 65/65 [00:49<00:00,  1.32it/s, loss=0.0795, v_num=13, train_loss=0.0693, train_accuracy=0.985, val_loss=0.331, val_accuracy=0.908]\n",
      "                                                         \u001b[A"
     ]
    },
    {
     "name": "stderr",
     "output_type": "stream",
     "text": [
      "Epoch 149, global step 8549: val_loss was not in top 1\n"
     ]
    },
    {
     "name": "stdout",
     "output_type": "stream",
     "text": [
      "Epoch 150:  89%|████████▉ | 58/65 [00:43<00:05,  1.33it/s, loss=0.0776, v_num=13, train_loss=0.0931, train_accuracy=0.956, val_loss=0.331, val_accuracy=0.908]\n",
      "Validating: 0it [00:00, ?it/s]\u001b[A\n",
      "Validating:   0%|          | 0/8 [00:00<?, ?it/s]\u001b[A\n",
      "Validating:  12%|█▎        | 1/8 [00:03<00:26,  3.77s/it]\u001b[A\n",
      "Epoch 150:  92%|█████████▏| 60/65 [00:47<00:03,  1.26it/s, loss=0.0776, v_num=13, train_loss=0.0931, train_accuracy=0.956, val_loss=0.331, val_accuracy=0.908]\n",
      "Validating:  38%|███▊      | 3/8 [00:04<00:04,  1.03it/s]\u001b[A\n",
      "Epoch 150:  95%|█████████▌| 62/65 [00:48<00:02,  1.29it/s, loss=0.0776, v_num=13, train_loss=0.0931, train_accuracy=0.956, val_loss=0.331, val_accuracy=0.908]\n",
      "Validating:  62%|██████▎   | 5/8 [00:04<00:01,  2.09it/s]\u001b[A\n",
      "Epoch 150:  98%|█████████▊| 64/65 [00:48<00:00,  1.32it/s, loss=0.0776, v_num=13, train_loss=0.0931, train_accuracy=0.956, val_loss=0.331, val_accuracy=0.908]\n",
      "Validating:  88%|████████▊ | 7/8 [00:04<00:00,  3.31it/s]\u001b[A\n",
      "Epoch 150: 100%|██████████| 65/65 [00:48<00:00,  1.33it/s, loss=0.0776, v_num=13, train_loss=0.0931, train_accuracy=0.956, val_loss=0.341, val_accuracy=0.912]\n",
      "                                                         \u001b[A"
     ]
    },
    {
     "name": "stderr",
     "output_type": "stream",
     "text": [
      "Epoch 150, global step 8606: val_loss was not in top 1\n"
     ]
    },
    {
     "name": "stdout",
     "output_type": "stream",
     "text": [
      "Epoch 151:  89%|████████▉ | 58/65 [00:43<00:05,  1.32it/s, loss=0.0796, v_num=13, train_loss=0.0709, train_accuracy=0.971, val_loss=0.341, val_accuracy=0.912]\n",
      "Validating: 0it [00:00, ?it/s]\u001b[A\n",
      "Validating:   0%|          | 0/8 [00:00<?, ?it/s]\u001b[A\n",
      "Validating:  12%|█▎        | 1/8 [00:03<00:26,  3.80s/it]\u001b[A\n",
      "Epoch 151:  92%|█████████▏| 60/65 [00:47<00:03,  1.25it/s, loss=0.0796, v_num=13, train_loss=0.0709, train_accuracy=0.971, val_loss=0.341, val_accuracy=0.912]\n",
      "Validating:  38%|███▊      | 3/8 [00:04<00:04,  1.02it/s]\u001b[A\n",
      "Epoch 151:  95%|█████████▌| 62/65 [00:48<00:02,  1.28it/s, loss=0.0796, v_num=13, train_loss=0.0709, train_accuracy=0.971, val_loss=0.341, val_accuracy=0.912]\n",
      "Validating:  62%|██████▎   | 5/8 [00:04<00:01,  2.09it/s]\u001b[A\n",
      "Epoch 151:  98%|█████████▊| 64/65 [00:48<00:00,  1.32it/s, loss=0.0796, v_num=13, train_loss=0.0709, train_accuracy=0.971, val_loss=0.341, val_accuracy=0.912]\n",
      "Validating:  88%|████████▊ | 7/8 [00:04<00:00,  3.30it/s]\u001b[A\n",
      "Epoch 151: 100%|██████████| 65/65 [00:49<00:00,  1.32it/s, loss=0.0796, v_num=13, train_loss=0.0709, train_accuracy=0.971, val_loss=0.308, val_accuracy=0.918]\n",
      "                                                         \u001b[A"
     ]
    },
    {
     "name": "stderr",
     "output_type": "stream",
     "text": [
      "Epoch 151, global step 8663: val_loss was not in top 1\n"
     ]
    },
    {
     "name": "stdout",
     "output_type": "stream",
     "text": [
      "Epoch 152:  89%|████████▉ | 58/65 [00:44<00:05,  1.32it/s, loss=0.0692, v_num=13, train_loss=0.0943, train_accuracy=0.956, val_loss=0.308, val_accuracy=0.918]\n",
      "Validating: 0it [00:00, ?it/s]\u001b[A\n",
      "Validating:   0%|          | 0/8 [00:00<?, ?it/s]\u001b[A\n",
      "Validating:  12%|█▎        | 1/8 [00:03<00:26,  3.81s/it]\u001b[A\n",
      "Epoch 152:  92%|█████████▏| 60/65 [00:48<00:04,  1.25it/s, loss=0.0692, v_num=13, train_loss=0.0943, train_accuracy=0.956, val_loss=0.308, val_accuracy=0.918]\n",
      "Validating:  38%|███▊      | 3/8 [00:04<00:04,  1.02it/s]\u001b[A\n",
      "Epoch 152:  95%|█████████▌| 62/65 [00:48<00:02,  1.28it/s, loss=0.0692, v_num=13, train_loss=0.0943, train_accuracy=0.956, val_loss=0.308, val_accuracy=0.918]\n",
      "Validating:  62%|██████▎   | 5/8 [00:04<00:01,  2.09it/s]\u001b[A\n",
      "Epoch 152:  98%|█████████▊| 64/65 [00:48<00:00,  1.31it/s, loss=0.0692, v_num=13, train_loss=0.0943, train_accuracy=0.956, val_loss=0.308, val_accuracy=0.918]\n",
      "Validating:  88%|████████▊ | 7/8 [00:04<00:00,  3.27it/s]\u001b[A\n",
      "Epoch 152: 100%|██████████| 65/65 [00:49<00:00,  1.32it/s, loss=0.0692, v_num=13, train_loss=0.0943, train_accuracy=0.956, val_loss=0.378, val_accuracy=0.909]\n",
      "                                                         \u001b[A"
     ]
    },
    {
     "name": "stderr",
     "output_type": "stream",
     "text": [
      "Epoch 152, global step 8720: val_loss was not in top 1\n"
     ]
    },
    {
     "name": "stdout",
     "output_type": "stream",
     "text": [
      "Epoch 153:  89%|████████▉ | 58/65 [00:43<00:05,  1.33it/s, loss=0.082, v_num=13, train_loss=0.164, train_accuracy=0.941, val_loss=0.378, val_accuracy=0.909]  \n",
      "Validating: 0it [00:00, ?it/s]\u001b[A\n",
      "Validating:   0%|          | 0/8 [00:00<?, ?it/s]\u001b[A\n",
      "Validating:  12%|█▎        | 1/8 [00:03<00:27,  3.88s/it]\u001b[A\n",
      "Epoch 153:  92%|█████████▏| 60/65 [00:47<00:03,  1.26it/s, loss=0.082, v_num=13, train_loss=0.164, train_accuracy=0.941, val_loss=0.378, val_accuracy=0.909]\n",
      "Validating:  38%|███▊      | 3/8 [00:04<00:04,  1.01it/s]\u001b[A\n",
      "Epoch 153:  95%|█████████▌| 62/65 [00:48<00:02,  1.29it/s, loss=0.082, v_num=13, train_loss=0.164, train_accuracy=0.941, val_loss=0.378, val_accuracy=0.909]\n",
      "Validating:  62%|██████▎   | 5/8 [00:04<00:01,  2.07it/s]\u001b[A\n",
      "Epoch 153:  98%|█████████▊| 64/65 [00:48<00:00,  1.32it/s, loss=0.082, v_num=13, train_loss=0.164, train_accuracy=0.941, val_loss=0.378, val_accuracy=0.909]\n",
      "Validating:  88%|████████▊ | 7/8 [00:04<00:00,  3.28it/s]\u001b[A\n",
      "Epoch 153: 100%|██████████| 65/65 [00:49<00:00,  1.33it/s, loss=0.082, v_num=13, train_loss=0.164, train_accuracy=0.941, val_loss=0.300, val_accuracy=0.912]\n",
      "                                                         \u001b[A"
     ]
    },
    {
     "name": "stderr",
     "output_type": "stream",
     "text": [
      "Epoch 153, global step 8777: val_loss was not in top 1\n"
     ]
    },
    {
     "name": "stdout",
     "output_type": "stream",
     "text": [
      "Epoch 154:  89%|████████▉ | 58/65 [00:43<00:05,  1.32it/s, loss=0.0613, v_num=13, train_loss=0.0427, train_accuracy=0.985, val_loss=0.300, val_accuracy=0.912]\n",
      "Validating: 0it [00:00, ?it/s]\u001b[A\n",
      "Validating:   0%|          | 0/8 [00:00<?, ?it/s]\u001b[A\n",
      "Validating:  12%|█▎        | 1/8 [00:03<00:27,  3.86s/it]\u001b[A\n",
      "Epoch 154:  92%|█████████▏| 60/65 [00:47<00:03,  1.25it/s, loss=0.0613, v_num=13, train_loss=0.0427, train_accuracy=0.985, val_loss=0.300, val_accuracy=0.912]\n",
      "Validating:  38%|███▊      | 3/8 [00:04<00:04,  1.01it/s]\u001b[A\n",
      "Epoch 154:  95%|█████████▌| 62/65 [00:48<00:02,  1.29it/s, loss=0.0613, v_num=13, train_loss=0.0427, train_accuracy=0.985, val_loss=0.300, val_accuracy=0.912]\n",
      "Validating:  62%|██████▎   | 5/8 [00:04<00:01,  2.06it/s]\u001b[A\n",
      "Epoch 154:  98%|█████████▊| 64/65 [00:48<00:00,  1.32it/s, loss=0.0613, v_num=13, train_loss=0.0427, train_accuracy=0.985, val_loss=0.300, val_accuracy=0.912]\n",
      "Validating:  88%|████████▊ | 7/8 [00:04<00:00,  3.25it/s]\u001b[A\n",
      "Epoch 154: 100%|██████████| 65/65 [00:49<00:00,  1.32it/s, loss=0.0613, v_num=13, train_loss=0.0427, train_accuracy=0.985, val_loss=0.368, val_accuracy=0.909]\n",
      "                                                         \u001b[A"
     ]
    },
    {
     "name": "stderr",
     "output_type": "stream",
     "text": [
      "Epoch 154, global step 8834: val_loss was not in top 1\n"
     ]
    },
    {
     "name": "stdout",
     "output_type": "stream",
     "text": [
      "Epoch 155:  89%|████████▉ | 58/65 [00:43<00:05,  1.32it/s, loss=0.0779, v_num=13, train_loss=0.0406, train_accuracy=0.985, val_loss=0.368, val_accuracy=0.909]\n",
      "Validating: 0it [00:00, ?it/s]\u001b[A\n",
      "Validating:   0%|          | 0/8 [00:00<?, ?it/s]\u001b[A\n",
      "Validating:  12%|█▎        | 1/8 [00:03<00:26,  3.78s/it]\u001b[A\n",
      "Epoch 155:  92%|█████████▏| 60/65 [00:48<00:04,  1.25it/s, loss=0.0779, v_num=13, train_loss=0.0406, train_accuracy=0.985, val_loss=0.368, val_accuracy=0.909]\n",
      "Validating:  38%|███▊      | 3/8 [00:04<00:05,  1.01s/it]\u001b[A\n",
      "Epoch 155:  95%|█████████▌| 62/65 [00:48<00:02,  1.28it/s, loss=0.0779, v_num=13, train_loss=0.0406, train_accuracy=0.985, val_loss=0.368, val_accuracy=0.909]\n",
      "Validating:  62%|██████▎   | 5/8 [00:04<00:01,  2.04it/s]\u001b[A\n",
      "Epoch 155:  98%|█████████▊| 64/65 [00:48<00:00,  1.32it/s, loss=0.0779, v_num=13, train_loss=0.0406, train_accuracy=0.985, val_loss=0.368, val_accuracy=0.909]\n",
      "Validating:  88%|████████▊ | 7/8 [00:04<00:00,  3.25it/s]\u001b[A\n",
      "Epoch 155: 100%|██████████| 65/65 [00:49<00:00,  1.32it/s, loss=0.0779, v_num=13, train_loss=0.0406, train_accuracy=0.985, val_loss=0.345, val_accuracy=0.911]\n",
      "                                                         \u001b[A"
     ]
    },
    {
     "name": "stderr",
     "output_type": "stream",
     "text": [
      "Epoch 155, global step 8891: val_loss was not in top 1\n"
     ]
    },
    {
     "name": "stdout",
     "output_type": "stream",
     "text": [
      "Epoch 156:  89%|████████▉ | 58/65 [00:44<00:05,  1.32it/s, loss=0.0941, v_num=13, train_loss=0.0918, train_accuracy=0.926, val_loss=0.345, val_accuracy=0.911]\n",
      "Validating: 0it [00:00, ?it/s]\u001b[A\n",
      "Validating:   0%|          | 0/8 [00:00<?, ?it/s]\u001b[A\n",
      "Validating:  12%|█▎        | 1/8 [00:03<00:26,  3.79s/it]\u001b[A\n",
      "Epoch 156:  92%|█████████▏| 60/65 [00:47<00:03,  1.25it/s, loss=0.0941, v_num=13, train_loss=0.0918, train_accuracy=0.926, val_loss=0.345, val_accuracy=0.911]\n",
      "Validating:  38%|███▊      | 3/8 [00:04<00:04,  1.03it/s]\u001b[A\n",
      "Epoch 156:  95%|█████████▌| 62/65 [00:48<00:02,  1.28it/s, loss=0.0941, v_num=13, train_loss=0.0918, train_accuracy=0.926, val_loss=0.345, val_accuracy=0.911]\n",
      "Validating:  62%|██████▎   | 5/8 [00:04<00:01,  2.09it/s]\u001b[A\n",
      "Epoch 156:  98%|█████████▊| 64/65 [00:48<00:00,  1.32it/s, loss=0.0941, v_num=13, train_loss=0.0918, train_accuracy=0.926, val_loss=0.345, val_accuracy=0.911]\n",
      "Validating:  88%|████████▊ | 7/8 [00:04<00:00,  3.33it/s]\u001b[A\n",
      "Epoch 156: 100%|██████████| 65/65 [00:49<00:00,  1.32it/s, loss=0.0941, v_num=13, train_loss=0.0918, train_accuracy=0.926, val_loss=0.442, val_accuracy=0.899]\n",
      "                                                         \u001b[A"
     ]
    },
    {
     "name": "stderr",
     "output_type": "stream",
     "text": [
      "Epoch 156, global step 8948: val_loss was not in top 1\n"
     ]
    },
    {
     "name": "stdout",
     "output_type": "stream",
     "text": [
      "Epoch 157:  89%|████████▉ | 58/65 [00:43<00:05,  1.33it/s, loss=0.0804, v_num=13, train_loss=0.0817, train_accuracy=0.956, val_loss=0.442, val_accuracy=0.899]\n",
      "Validating: 0it [00:00, ?it/s]\u001b[A\n",
      "Validating:   0%|          | 0/8 [00:00<?, ?it/s]\u001b[A\n",
      "Validating:  12%|█▎        | 1/8 [00:03<00:26,  3.82s/it]\u001b[A\n",
      "Epoch 157:  92%|█████████▏| 60/65 [00:47<00:03,  1.26it/s, loss=0.0804, v_num=13, train_loss=0.0817, train_accuracy=0.956, val_loss=0.442, val_accuracy=0.899]\n",
      "Validating:  38%|███▊      | 3/8 [00:04<00:04,  1.02it/s]\u001b[A\n",
      "Epoch 157:  95%|█████████▌| 62/65 [00:48<00:02,  1.29it/s, loss=0.0804, v_num=13, train_loss=0.0817, train_accuracy=0.956, val_loss=0.442, val_accuracy=0.899]\n",
      "Validating:  62%|██████▎   | 5/8 [00:04<00:01,  2.09it/s]\u001b[A\n",
      "Epoch 157:  98%|█████████▊| 64/65 [00:48<00:00,  1.32it/s, loss=0.0804, v_num=13, train_loss=0.0817, train_accuracy=0.956, val_loss=0.442, val_accuracy=0.899]\n",
      "Validating:  88%|████████▊ | 7/8 [00:04<00:00,  3.31it/s]\u001b[A\n",
      "Epoch 157: 100%|██████████| 65/65 [00:49<00:00,  1.33it/s, loss=0.0804, v_num=13, train_loss=0.0817, train_accuracy=0.956, val_loss=0.299, val_accuracy=0.918]\n",
      "                                                         \u001b[A"
     ]
    },
    {
     "name": "stderr",
     "output_type": "stream",
     "text": [
      "Epoch 157, global step 9005: val_loss was not in top 1\n"
     ]
    },
    {
     "name": "stdout",
     "output_type": "stream",
     "text": [
      "Epoch 158:  89%|████████▉ | 58/65 [00:43<00:05,  1.33it/s, loss=0.0859, v_num=13, train_loss=0.0845, train_accuracy=0.956, val_loss=0.299, val_accuracy=0.918]\n",
      "Validating: 0it [00:00, ?it/s]\u001b[A\n",
      "Validating:   0%|          | 0/8 [00:00<?, ?it/s]\u001b[A\n",
      "Validating:  12%|█▎        | 1/8 [00:03<00:26,  3.84s/it]\u001b[A\n",
      "Epoch 158:  92%|█████████▏| 60/65 [00:47<00:03,  1.26it/s, loss=0.0859, v_num=13, train_loss=0.0845, train_accuracy=0.956, val_loss=0.299, val_accuracy=0.918]\n",
      "Validating:  38%|███▊      | 3/8 [00:04<00:04,  1.01it/s]\u001b[A\n",
      "Epoch 158:  95%|█████████▌| 62/65 [00:48<00:02,  1.29it/s, loss=0.0859, v_num=13, train_loss=0.0845, train_accuracy=0.956, val_loss=0.299, val_accuracy=0.918]\n",
      "Validating:  62%|██████▎   | 5/8 [00:04<00:01,  2.07it/s]\u001b[A\n",
      "Epoch 158:  98%|█████████▊| 64/65 [00:48<00:00,  1.32it/s, loss=0.0859, v_num=13, train_loss=0.0845, train_accuracy=0.956, val_loss=0.299, val_accuracy=0.918]\n",
      "Validating:  88%|████████▊ | 7/8 [00:04<00:00,  3.29it/s]\u001b[A\n",
      "Epoch 158: 100%|██████████| 65/65 [00:48<00:00,  1.33it/s, loss=0.0859, v_num=13, train_loss=0.0845, train_accuracy=0.956, val_loss=0.311, val_accuracy=0.917]\n",
      "                                                         \u001b[A"
     ]
    },
    {
     "name": "stderr",
     "output_type": "stream",
     "text": [
      "Epoch 158, global step 9062: val_loss was not in top 1\n"
     ]
    },
    {
     "name": "stdout",
     "output_type": "stream",
     "text": [
      "Epoch 159:  89%|████████▉ | 58/65 [00:43<00:05,  1.33it/s, loss=0.0766, v_num=13, train_loss=0.127, train_accuracy=0.971, val_loss=0.311, val_accuracy=0.917] \n",
      "Validating: 0it [00:00, ?it/s]\u001b[A\n",
      "Validating:   0%|          | 0/8 [00:00<?, ?it/s]\u001b[A\n",
      "Validating:  12%|█▎        | 1/8 [00:04<00:28,  4.01s/it]\u001b[A\n",
      "Epoch 159:  92%|█████████▏| 60/65 [00:47<00:03,  1.26it/s, loss=0.0766, v_num=13, train_loss=0.127, train_accuracy=0.971, val_loss=0.311, val_accuracy=0.917]\n",
      "Validating:  38%|███▊      | 3/8 [00:04<00:05,  1.03s/it]\u001b[A\n",
      "Epoch 159:  95%|█████████▌| 62/65 [00:48<00:02,  1.29it/s, loss=0.0766, v_num=13, train_loss=0.127, train_accuracy=0.971, val_loss=0.311, val_accuracy=0.917]\n",
      "Validating:  62%|██████▎   | 5/8 [00:04<00:01,  2.02it/s]\u001b[A\n",
      "Epoch 159:  98%|█████████▊| 64/65 [00:48<00:00,  1.32it/s, loss=0.0766, v_num=13, train_loss=0.127, train_accuracy=0.971, val_loss=0.311, val_accuracy=0.917]\n",
      "Validating:  88%|████████▊ | 7/8 [00:04<00:00,  3.24it/s]\u001b[A\n",
      "Epoch 159: 100%|██████████| 65/65 [00:49<00:00,  1.32it/s, loss=0.0766, v_num=13, train_loss=0.127, train_accuracy=0.971, val_loss=0.400, val_accuracy=0.911]\n",
      "                                                         \u001b[A"
     ]
    },
    {
     "name": "stderr",
     "output_type": "stream",
     "text": [
      "Epoch 159, global step 9119: val_loss was not in top 1\n"
     ]
    },
    {
     "name": "stdout",
     "output_type": "stream",
     "text": [
      "Epoch 160:  89%|████████▉ | 58/65 [00:44<00:05,  1.32it/s, loss=0.122, v_num=13, train_loss=0.153, train_accuracy=0.985, val_loss=0.400, val_accuracy=0.911]  \n",
      "Validating: 0it [00:00, ?it/s]\u001b[A\n",
      "Validating:   0%|          | 0/8 [00:00<?, ?it/s]\u001b[A\n",
      "Validating:  12%|█▎        | 1/8 [00:03<00:27,  3.87s/it]\u001b[A\n",
      "Epoch 160:  92%|█████████▏| 60/65 [00:48<00:04,  1.25it/s, loss=0.122, v_num=13, train_loss=0.153, train_accuracy=0.985, val_loss=0.400, val_accuracy=0.911]\n",
      "Validating:  38%|███▊      | 3/8 [00:04<00:04,  1.01it/s]\u001b[A\n",
      "Epoch 160:  95%|█████████▌| 62/65 [00:48<00:02,  1.28it/s, loss=0.122, v_num=13, train_loss=0.153, train_accuracy=0.985, val_loss=0.400, val_accuracy=0.911]\n",
      "Validating:  62%|██████▎   | 5/8 [00:04<00:01,  2.06it/s]\u001b[A\n",
      "Epoch 160:  98%|█████████▊| 64/65 [00:48<00:00,  1.31it/s, loss=0.122, v_num=13, train_loss=0.153, train_accuracy=0.985, val_loss=0.400, val_accuracy=0.911]\n",
      "Validating:  88%|████████▊ | 7/8 [00:04<00:00,  3.23it/s]\u001b[A\n",
      "Epoch 160: 100%|██████████| 65/65 [00:49<00:00,  1.32it/s, loss=0.122, v_num=13, train_loss=0.153, train_accuracy=0.985, val_loss=0.372, val_accuracy=0.910]\n",
      "                                                         \u001b[A"
     ]
    },
    {
     "name": "stderr",
     "output_type": "stream",
     "text": [
      "Epoch 160, global step 9176: val_loss was not in top 1\n"
     ]
    },
    {
     "name": "stdout",
     "output_type": "stream",
     "text": [
      "Epoch 161:  89%|████████▉ | 58/65 [00:43<00:05,  1.33it/s, loss=0.0854, v_num=13, train_loss=0.056, train_accuracy=0.971, val_loss=0.372, val_accuracy=0.910] \n",
      "Validating: 0it [00:00, ?it/s]\u001b[A\n",
      "Validating:   0%|          | 0/8 [00:00<?, ?it/s]\u001b[A\n",
      "Validating:  12%|█▎        | 1/8 [00:03<00:27,  3.98s/it]\u001b[A\n",
      "Epoch 161:  92%|█████████▏| 60/65 [00:47<00:03,  1.25it/s, loss=0.0854, v_num=13, train_loss=0.056, train_accuracy=0.971, val_loss=0.372, val_accuracy=0.910]\n",
      "Validating:  38%|███▊      | 3/8 [00:04<00:05,  1.02s/it]\u001b[A\n",
      "Epoch 161:  95%|█████████▌| 62/65 [00:48<00:02,  1.29it/s, loss=0.0854, v_num=13, train_loss=0.056, train_accuracy=0.971, val_loss=0.372, val_accuracy=0.910]\n",
      "Validating:  62%|██████▎   | 5/8 [00:04<00:01,  2.02it/s]\u001b[A\n",
      "Epoch 161:  98%|█████████▊| 64/65 [00:48<00:00,  1.32it/s, loss=0.0854, v_num=13, train_loss=0.056, train_accuracy=0.971, val_loss=0.372, val_accuracy=0.910]\n",
      "Validating:  88%|████████▊ | 7/8 [00:04<00:00,  3.22it/s]\u001b[A\n",
      "Epoch 161: 100%|██████████| 65/65 [00:49<00:00,  1.32it/s, loss=0.0854, v_num=13, train_loss=0.056, train_accuracy=0.971, val_loss=0.299, val_accuracy=0.916]\n",
      "                                                         \u001b[A"
     ]
    },
    {
     "name": "stderr",
     "output_type": "stream",
     "text": [
      "Epoch 161, global step 9233: val_loss was not in top 1\n"
     ]
    },
    {
     "name": "stdout",
     "output_type": "stream",
     "text": [
      "Epoch 162:  89%|████████▉ | 58/65 [00:43<00:05,  1.32it/s, loss=0.079, v_num=13, train_loss=0.0899, train_accuracy=0.956, val_loss=0.299, val_accuracy=0.916] \n",
      "Validating: 0it [00:00, ?it/s]\u001b[A\n",
      "Validating:   0%|          | 0/8 [00:00<?, ?it/s]\u001b[A\n",
      "Validating:  12%|█▎        | 1/8 [00:03<00:27,  3.90s/it]\u001b[A\n",
      "Epoch 162:  92%|█████████▏| 60/65 [00:47<00:03,  1.25it/s, loss=0.079, v_num=13, train_loss=0.0899, train_accuracy=0.956, val_loss=0.299, val_accuracy=0.916]\n",
      "Validating:  38%|███▊      | 3/8 [00:04<00:04,  1.00it/s]\u001b[A\n",
      "Epoch 162:  95%|█████████▌| 62/65 [00:48<00:02,  1.29it/s, loss=0.079, v_num=13, train_loss=0.0899, train_accuracy=0.956, val_loss=0.299, val_accuracy=0.916]\n",
      "Validating:  62%|██████▎   | 5/8 [00:04<00:01,  2.06it/s]\u001b[A\n",
      "Epoch 162:  98%|█████████▊| 64/65 [00:48<00:00,  1.32it/s, loss=0.079, v_num=13, train_loss=0.0899, train_accuracy=0.956, val_loss=0.299, val_accuracy=0.916]\n",
      "Validating:  88%|████████▊ | 7/8 [00:04<00:00,  3.29it/s]\u001b[A\n",
      "Epoch 162: 100%|██████████| 65/65 [00:49<00:00,  1.32it/s, loss=0.079, v_num=13, train_loss=0.0899, train_accuracy=0.956, val_loss=0.382, val_accuracy=0.912]\n",
      "                                                         \u001b[A"
     ]
    },
    {
     "name": "stderr",
     "output_type": "stream",
     "text": [
      "Epoch 162, global step 9290: val_loss was not in top 1\n"
     ]
    },
    {
     "name": "stdout",
     "output_type": "stream",
     "text": [
      "Epoch 163:  89%|████████▉ | 58/65 [00:43<00:05,  1.33it/s, loss=0.0743, v_num=13, train_loss=0.0719, train_accuracy=0.971, val_loss=0.382, val_accuracy=0.912]\n",
      "Validating: 0it [00:00, ?it/s]\u001b[A\n",
      "Validating:   0%|          | 0/8 [00:00<?, ?it/s]\u001b[A\n",
      "Validating:  12%|█▎        | 1/8 [00:03<00:27,  3.89s/it]\u001b[A\n",
      "Epoch 163:  92%|█████████▏| 60/65 [00:47<00:03,  1.26it/s, loss=0.0743, v_num=13, train_loss=0.0719, train_accuracy=0.971, val_loss=0.382, val_accuracy=0.912]\n",
      "Validating:  38%|███▊      | 3/8 [00:04<00:04,  1.00it/s]\u001b[A\n",
      "Epoch 163:  95%|█████████▌| 62/65 [00:48<00:02,  1.29it/s, loss=0.0743, v_num=13, train_loss=0.0719, train_accuracy=0.971, val_loss=0.382, val_accuracy=0.912]\n",
      "Validating:  62%|██████▎   | 5/8 [00:04<00:01,  2.07it/s]\u001b[A\n",
      "Epoch 163:  98%|█████████▊| 64/65 [00:48<00:00,  1.32it/s, loss=0.0743, v_num=13, train_loss=0.0719, train_accuracy=0.971, val_loss=0.382, val_accuracy=0.912]\n",
      "Validating:  88%|████████▊ | 7/8 [00:04<00:00,  3.28it/s]\u001b[A\n",
      "Epoch 163: 100%|██████████| 65/65 [00:48<00:00,  1.33it/s, loss=0.0743, v_num=13, train_loss=0.0719, train_accuracy=0.971, val_loss=0.388, val_accuracy=0.903]\n",
      "                                                         \u001b[A"
     ]
    },
    {
     "name": "stderr",
     "output_type": "stream",
     "text": [
      "Epoch 163, global step 9347: val_loss was not in top 1\n"
     ]
    },
    {
     "name": "stdout",
     "output_type": "stream",
     "text": [
      "Epoch 164:  89%|████████▉ | 58/65 [00:43<00:05,  1.32it/s, loss=0.0652, v_num=13, train_loss=0.0701, train_accuracy=0.971, val_loss=0.388, val_accuracy=0.903]\n",
      "Validating: 0it [00:00, ?it/s]\u001b[A\n",
      "Validating:   0%|          | 0/8 [00:00<?, ?it/s]\u001b[A\n",
      "Validating:  12%|█▎        | 1/8 [00:03<00:26,  3.83s/it]\u001b[A\n",
      "Epoch 164:  92%|█████████▏| 60/65 [00:47<00:03,  1.26it/s, loss=0.0652, v_num=13, train_loss=0.0701, train_accuracy=0.971, val_loss=0.388, val_accuracy=0.903]\n",
      "Validating:  38%|███▊      | 3/8 [00:04<00:04,  1.01it/s]\u001b[A\n",
      "Epoch 164:  95%|█████████▌| 62/65 [00:48<00:02,  1.29it/s, loss=0.0652, v_num=13, train_loss=0.0701, train_accuracy=0.971, val_loss=0.388, val_accuracy=0.903]\n",
      "Validating:  62%|██████▎   | 5/8 [00:04<00:01,  2.07it/s]\u001b[A\n",
      "Epoch 164:  98%|█████████▊| 64/65 [00:48<00:00,  1.32it/s, loss=0.0652, v_num=13, train_loss=0.0701, train_accuracy=0.971, val_loss=0.388, val_accuracy=0.903]\n",
      "Validating:  88%|████████▊ | 7/8 [00:04<00:00,  3.28it/s]\u001b[A\n",
      "Epoch 164: 100%|██████████| 65/65 [00:49<00:00,  1.32it/s, loss=0.0652, v_num=13, train_loss=0.0701, train_accuracy=0.971, val_loss=0.368, val_accuracy=0.908]\n",
      "                                                         \u001b[A"
     ]
    },
    {
     "name": "stderr",
     "output_type": "stream",
     "text": [
      "Epoch 164, global step 9404: val_loss was not in top 1\n"
     ]
    },
    {
     "name": "stdout",
     "output_type": "stream",
     "text": [
      "Epoch 165:  89%|████████▉ | 58/65 [00:44<00:05,  1.32it/s, loss=0.0665, v_num=13, train_loss=0.123, train_accuracy=0.971, val_loss=0.368, val_accuracy=0.908] \n",
      "Validating: 0it [00:00, ?it/s]\u001b[A\n",
      "Validating:   0%|          | 0/8 [00:00<?, ?it/s]\u001b[A\n",
      "Validating:  12%|█▎        | 1/8 [00:03<00:26,  3.72s/it]\u001b[A\n",
      "Epoch 165:  92%|█████████▏| 60/65 [00:47<00:03,  1.25it/s, loss=0.0665, v_num=13, train_loss=0.123, train_accuracy=0.971, val_loss=0.368, val_accuracy=0.908]\n",
      "Validating:  38%|███▊      | 3/8 [00:04<00:04,  1.04it/s]\u001b[A\n",
      "Epoch 165:  95%|█████████▌| 62/65 [00:48<00:02,  1.29it/s, loss=0.0665, v_num=13, train_loss=0.123, train_accuracy=0.971, val_loss=0.368, val_accuracy=0.908]\n",
      "Validating:  62%|██████▎   | 5/8 [00:04<00:01,  2.11it/s]\u001b[A\n",
      "Epoch 165:  98%|█████████▊| 64/65 [00:48<00:00,  1.32it/s, loss=0.0665, v_num=13, train_loss=0.123, train_accuracy=0.971, val_loss=0.368, val_accuracy=0.908]\n",
      "Validating:  88%|████████▊ | 7/8 [00:04<00:00,  3.30it/s]\u001b[A\n",
      "Epoch 165: 100%|██████████| 65/65 [00:49<00:00,  1.32it/s, loss=0.0665, v_num=13, train_loss=0.123, train_accuracy=0.971, val_loss=0.445, val_accuracy=0.899]\n",
      "                                                         \u001b[A"
     ]
    },
    {
     "name": "stderr",
     "output_type": "stream",
     "text": [
      "Epoch 165, global step 9461: val_loss was not in top 1\n"
     ]
    },
    {
     "name": "stdout",
     "output_type": "stream",
     "text": [
      "Epoch 166:  89%|████████▉ | 58/65 [00:43<00:05,  1.32it/s, loss=0.0669, v_num=13, train_loss=0.0361, train_accuracy=0.985, val_loss=0.445, val_accuracy=0.899]\n",
      "Validating: 0it [00:00, ?it/s]\u001b[A\n",
      "Validating:   0%|          | 0/8 [00:00<?, ?it/s]\u001b[A\n",
      "Validating:  12%|█▎        | 1/8 [00:04<00:28,  4.06s/it]\u001b[A\n",
      "Epoch 166:  92%|█████████▏| 60/65 [00:48<00:04,  1.25it/s, loss=0.0669, v_num=13, train_loss=0.0361, train_accuracy=0.985, val_loss=0.445, val_accuracy=0.899]\n",
      "Validating:  38%|███▊      | 3/8 [00:04<00:05,  1.03s/it]\u001b[A\n",
      "Epoch 166:  95%|█████████▌| 62/65 [00:48<00:02,  1.28it/s, loss=0.0669, v_num=13, train_loss=0.0361, train_accuracy=0.985, val_loss=0.445, val_accuracy=0.899]\n",
      "Validating:  62%|██████▎   | 5/8 [00:04<00:01,  2.01it/s]\u001b[A\n",
      "Epoch 166:  98%|█████████▊| 64/65 [00:48<00:00,  1.31it/s, loss=0.0669, v_num=13, train_loss=0.0361, train_accuracy=0.985, val_loss=0.445, val_accuracy=0.899]\n",
      "Validating:  88%|████████▊ | 7/8 [00:05<00:00,  3.21it/s]\u001b[A\n",
      "Epoch 166: 100%|██████████| 65/65 [00:49<00:00,  1.32it/s, loss=0.0669, v_num=13, train_loss=0.0361, train_accuracy=0.985, val_loss=0.435, val_accuracy=0.896]\n",
      "                                                         \u001b[A"
     ]
    },
    {
     "name": "stderr",
     "output_type": "stream",
     "text": [
      "Epoch 166, global step 9518: val_loss was not in top 1\n"
     ]
    },
    {
     "name": "stdout",
     "output_type": "stream",
     "text": [
      "Epoch 167:  89%|████████▉ | 58/65 [00:43<00:05,  1.32it/s, loss=0.0895, v_num=13, train_loss=0.0537, train_accuracy=0.971, val_loss=0.435, val_accuracy=0.896]\n",
      "Validating: 0it [00:00, ?it/s]\u001b[A\n",
      "Validating:   0%|          | 0/8 [00:00<?, ?it/s]\u001b[A\n",
      "Validating:  12%|█▎        | 1/8 [00:03<00:27,  3.92s/it]\u001b[A\n",
      "Epoch 167:  92%|█████████▏| 60/65 [00:47<00:03,  1.25it/s, loss=0.0895, v_num=13, train_loss=0.0537, train_accuracy=0.971, val_loss=0.435, val_accuracy=0.896]\n",
      "Validating:  38%|███▊      | 3/8 [00:04<00:05,  1.01s/it]\u001b[A\n",
      "Epoch 167:  95%|█████████▌| 62/65 [00:48<00:02,  1.29it/s, loss=0.0895, v_num=13, train_loss=0.0537, train_accuracy=0.971, val_loss=0.435, val_accuracy=0.896]\n",
      "Validating:  62%|██████▎   | 5/8 [00:04<00:01,  2.05it/s]\u001b[A\n",
      "Epoch 167:  98%|█████████▊| 64/65 [00:48<00:00,  1.32it/s, loss=0.0895, v_num=13, train_loss=0.0537, train_accuracy=0.971, val_loss=0.435, val_accuracy=0.896]\n",
      "Validating:  88%|████████▊ | 7/8 [00:04<00:00,  3.27it/s]\u001b[A\n",
      "Epoch 167: 100%|██████████| 65/65 [00:49<00:00,  1.32it/s, loss=0.0895, v_num=13, train_loss=0.0537, train_accuracy=0.971, val_loss=0.297, val_accuracy=0.919]\n",
      "                                                         \u001b[A"
     ]
    },
    {
     "name": "stderr",
     "output_type": "stream",
     "text": [
      "Epoch 167, global step 9575: val_loss was not in top 1\n"
     ]
    },
    {
     "name": "stdout",
     "output_type": "stream",
     "text": [
      "Epoch 168:  89%|████████▉ | 58/65 [00:43<00:05,  1.32it/s, loss=0.0531, v_num=13, train_loss=0.0346, train_accuracy=1.000, val_loss=0.297, val_accuracy=0.919]\n",
      "Validating: 0it [00:00, ?it/s]\u001b[A\n",
      "Validating:   0%|          | 0/8 [00:00<?, ?it/s]\u001b[A\n",
      "Validating:  12%|█▎        | 1/8 [00:03<00:27,  3.90s/it]\u001b[A\n",
      "Epoch 168:  92%|█████████▏| 60/65 [00:47<00:03,  1.25it/s, loss=0.0531, v_num=13, train_loss=0.0346, train_accuracy=1.000, val_loss=0.297, val_accuracy=0.919]\n",
      "Validating:  38%|███▊      | 3/8 [00:04<00:04,  1.00it/s]\u001b[A\n",
      "Epoch 168:  95%|█████████▌| 62/65 [00:48<00:02,  1.28it/s, loss=0.0531, v_num=13, train_loss=0.0346, train_accuracy=1.000, val_loss=0.297, val_accuracy=0.919]\n",
      "Validating:  62%|██████▎   | 5/8 [00:04<00:01,  2.06it/s]\u001b[A\n",
      "Epoch 168:  98%|█████████▊| 64/65 [00:48<00:00,  1.32it/s, loss=0.0531, v_num=13, train_loss=0.0346, train_accuracy=1.000, val_loss=0.297, val_accuracy=0.919]\n",
      "Validating:  88%|████████▊ | 7/8 [00:04<00:00,  3.28it/s]\u001b[A\n",
      "Epoch 168: 100%|██████████| 65/65 [00:49<00:00,  1.32it/s, loss=0.0531, v_num=13, train_loss=0.0346, train_accuracy=1.000, val_loss=0.317, val_accuracy=0.921]\n",
      "                                                         \u001b[A"
     ]
    },
    {
     "name": "stderr",
     "output_type": "stream",
     "text": [
      "Epoch 168, global step 9632: val_loss was not in top 1\n"
     ]
    },
    {
     "name": "stdout",
     "output_type": "stream",
     "text": [
      "Epoch 169:  89%|████████▉ | 58/65 [00:43<00:05,  1.32it/s, loss=0.0617, v_num=13, train_loss=0.0376, train_accuracy=0.985, val_loss=0.317, val_accuracy=0.921]\n",
      "Validating: 0it [00:00, ?it/s]\u001b[A\n",
      "Validating:   0%|          | 0/8 [00:00<?, ?it/s]\u001b[A\n",
      "Validating:  12%|█▎        | 1/8 [00:03<00:26,  3.77s/it]\u001b[A\n",
      "Epoch 169:  92%|█████████▏| 60/65 [00:47<00:03,  1.26it/s, loss=0.0617, v_num=13, train_loss=0.0376, train_accuracy=0.985, val_loss=0.317, val_accuracy=0.921]\n",
      "Validating:  38%|███▊      | 3/8 [00:04<00:04,  1.03it/s]\u001b[A\n",
      "Epoch 169:  95%|█████████▌| 62/65 [00:48<00:02,  1.29it/s, loss=0.0617, v_num=13, train_loss=0.0376, train_accuracy=0.985, val_loss=0.317, val_accuracy=0.921]\n",
      "Validating:  62%|██████▎   | 5/8 [00:04<00:01,  2.09it/s]\u001b[A\n",
      "Epoch 169:  98%|█████████▊| 64/65 [00:48<00:00,  1.32it/s, loss=0.0617, v_num=13, train_loss=0.0376, train_accuracy=0.985, val_loss=0.317, val_accuracy=0.921]\n",
      "Validating:  88%|████████▊ | 7/8 [00:04<00:00,  3.32it/s]\u001b[A\n",
      "Epoch 169: 100%|██████████| 65/65 [00:49<00:00,  1.32it/s, loss=0.0617, v_num=13, train_loss=0.0376, train_accuracy=0.985, val_loss=0.364, val_accuracy=0.912]\n",
      "                                                         \u001b[A"
     ]
    },
    {
     "name": "stderr",
     "output_type": "stream",
     "text": [
      "Epoch 169, global step 9689: val_loss was not in top 1\n"
     ]
    },
    {
     "name": "stdout",
     "output_type": "stream",
     "text": [
      "Epoch 170:  89%|████████▉ | 58/65 [00:43<00:05,  1.32it/s, loss=0.0855, v_num=13, train_loss=0.156, train_accuracy=0.941, val_loss=0.364, val_accuracy=0.912] \n",
      "Validating: 0it [00:00, ?it/s]\u001b[A\n",
      "Validating:   0%|          | 0/8 [00:00<?, ?it/s]\u001b[A\n",
      "Validating:  12%|█▎        | 1/8 [00:03<00:26,  3.77s/it]\u001b[A\n",
      "Epoch 170:  92%|█████████▏| 60/65 [00:47<00:03,  1.25it/s, loss=0.0855, v_num=13, train_loss=0.156, train_accuracy=0.941, val_loss=0.364, val_accuracy=0.912]\n",
      "Validating:  38%|███▊      | 3/8 [00:04<00:04,  1.03it/s]\u001b[A\n",
      "Epoch 170:  95%|█████████▌| 62/65 [00:48<00:02,  1.29it/s, loss=0.0855, v_num=13, train_loss=0.156, train_accuracy=0.941, val_loss=0.364, val_accuracy=0.912]\n",
      "Validating:  62%|██████▎   | 5/8 [00:04<00:01,  2.10it/s]\u001b[A\n",
      "Epoch 170:  98%|█████████▊| 64/65 [00:48<00:00,  1.32it/s, loss=0.0855, v_num=13, train_loss=0.156, train_accuracy=0.941, val_loss=0.364, val_accuracy=0.912]\n",
      "Validating:  88%|████████▊ | 7/8 [00:04<00:00,  3.32it/s]\u001b[A\n",
      "Epoch 170: 100%|██████████| 65/65 [00:49<00:00,  1.32it/s, loss=0.0855, v_num=13, train_loss=0.156, train_accuracy=0.941, val_loss=0.336, val_accuracy=0.908]\n",
      "                                                         \u001b[A"
     ]
    },
    {
     "name": "stderr",
     "output_type": "stream",
     "text": [
      "Epoch 170, global step 9746: val_loss was not in top 1\n"
     ]
    },
    {
     "name": "stdout",
     "output_type": "stream",
     "text": [
      "Epoch 171:  89%|████████▉ | 58/65 [00:43<00:05,  1.32it/s, loss=0.0584, v_num=13, train_loss=0.0387, train_accuracy=0.985, val_loss=0.336, val_accuracy=0.908]\n",
      "Validating: 0it [00:00, ?it/s]\u001b[A\n",
      "Validating:   0%|          | 0/8 [00:00<?, ?it/s]\u001b[A\n",
      "Validating:  12%|█▎        | 1/8 [00:03<00:26,  3.84s/it]\u001b[A\n",
      "Epoch 171:  92%|█████████▏| 60/65 [00:47<00:03,  1.25it/s, loss=0.0584, v_num=13, train_loss=0.0387, train_accuracy=0.985, val_loss=0.336, val_accuracy=0.908]\n",
      "Validating:  38%|███▊      | 3/8 [00:04<00:04,  1.01it/s]\u001b[A\n",
      "Epoch 171:  95%|█████████▌| 62/65 [00:48<00:02,  1.29it/s, loss=0.0584, v_num=13, train_loss=0.0387, train_accuracy=0.985, val_loss=0.336, val_accuracy=0.908]\n",
      "Validating:  62%|██████▎   | 5/8 [00:04<00:01,  2.07it/s]\u001b[A\n",
      "Epoch 171:  98%|█████████▊| 64/65 [00:48<00:00,  1.32it/s, loss=0.0584, v_num=13, train_loss=0.0387, train_accuracy=0.985, val_loss=0.336, val_accuracy=0.908]\n",
      "Validating:  88%|████████▊ | 7/8 [00:04<00:00,  3.30it/s]\u001b[A\n",
      "Epoch 171: 100%|██████████| 65/65 [00:49<00:00,  1.32it/s, loss=0.0584, v_num=13, train_loss=0.0387, train_accuracy=0.985, val_loss=0.293, val_accuracy=0.921]\n",
      "                                                         \u001b[A"
     ]
    },
    {
     "name": "stderr",
     "output_type": "stream",
     "text": [
      "Epoch 171, global step 9803: val_loss was not in top 1\n"
     ]
    },
    {
     "name": "stdout",
     "output_type": "stream",
     "text": [
      "Epoch 172:  89%|████████▉ | 58/65 [00:43<00:05,  1.32it/s, loss=0.0733, v_num=13, train_loss=0.0658, train_accuracy=0.985, val_loss=0.293, val_accuracy=0.921]\n",
      "Validating: 0it [00:00, ?it/s]\u001b[A\n",
      "Validating:   0%|          | 0/8 [00:00<?, ?it/s]\u001b[A\n",
      "Validating:  12%|█▎        | 1/8 [00:03<00:27,  3.91s/it]\u001b[A\n",
      "Epoch 172:  92%|█████████▏| 60/65 [00:47<00:03,  1.25it/s, loss=0.0733, v_num=13, train_loss=0.0658, train_accuracy=0.985, val_loss=0.293, val_accuracy=0.921]\n",
      "Validating:  38%|███▊      | 3/8 [00:04<00:04,  1.00it/s]\u001b[A\n",
      "Epoch 172:  95%|█████████▌| 62/65 [00:48<00:02,  1.28it/s, loss=0.0733, v_num=13, train_loss=0.0658, train_accuracy=0.985, val_loss=0.293, val_accuracy=0.921]\n",
      "Validating:  62%|██████▎   | 5/8 [00:04<00:01,  2.05it/s]\u001b[A\n",
      "Epoch 172:  98%|█████████▊| 64/65 [00:48<00:00,  1.32it/s, loss=0.0733, v_num=13, train_loss=0.0658, train_accuracy=0.985, val_loss=0.293, val_accuracy=0.921]\n",
      "Validating:  88%|████████▊ | 7/8 [00:04<00:00,  3.23it/s]\u001b[A\n",
      "Epoch 172: 100%|██████████| 65/65 [00:49<00:00,  1.32it/s, loss=0.0733, v_num=13, train_loss=0.0658, train_accuracy=0.985, val_loss=0.355, val_accuracy=0.921]\n",
      "                                                         \u001b[A"
     ]
    },
    {
     "name": "stderr",
     "output_type": "stream",
     "text": [
      "Epoch 172, global step 9860: val_loss was not in top 1\n"
     ]
    },
    {
     "name": "stdout",
     "output_type": "stream",
     "text": [
      "Epoch 173:  89%|████████▉ | 58/65 [00:43<00:05,  1.33it/s, loss=0.0773, v_num=13, train_loss=0.146, train_accuracy=0.941, val_loss=0.355, val_accuracy=0.921] \n",
      "Validating: 0it [00:00, ?it/s]\u001b[A\n",
      "Validating:   0%|          | 0/8 [00:00<?, ?it/s]\u001b[A\n",
      "Validating:  12%|█▎        | 1/8 [00:03<00:27,  3.87s/it]\u001b[A\n",
      "Epoch 173:  92%|█████████▏| 60/65 [00:47<00:03,  1.26it/s, loss=0.0773, v_num=13, train_loss=0.146, train_accuracy=0.941, val_loss=0.355, val_accuracy=0.921]\n",
      "Validating:  38%|███▊      | 3/8 [00:04<00:04,  1.01it/s]\u001b[A\n",
      "Epoch 173:  95%|█████████▌| 62/65 [00:48<00:02,  1.29it/s, loss=0.0773, v_num=13, train_loss=0.146, train_accuracy=0.941, val_loss=0.355, val_accuracy=0.921]\n",
      "Validating:  62%|██████▎   | 5/8 [00:04<00:01,  2.07it/s]\u001b[A\n",
      "Epoch 173:  98%|█████████▊| 64/65 [00:48<00:00,  1.32it/s, loss=0.0773, v_num=13, train_loss=0.146, train_accuracy=0.941, val_loss=0.355, val_accuracy=0.921]\n",
      "Validating:  88%|████████▊ | 7/8 [00:04<00:00,  3.28it/s]\u001b[A\n",
      "Epoch 173: 100%|██████████| 65/65 [00:49<00:00,  1.33it/s, loss=0.0773, v_num=13, train_loss=0.146, train_accuracy=0.941, val_loss=0.379, val_accuracy=0.910]\n",
      "                                                         \u001b[A"
     ]
    },
    {
     "name": "stderr",
     "output_type": "stream",
     "text": [
      "Epoch 173, global step 9917: val_loss was not in top 1\n"
     ]
    },
    {
     "name": "stdout",
     "output_type": "stream",
     "text": [
      "Epoch 174:  89%|████████▉ | 58/65 [00:43<00:05,  1.33it/s, loss=0.0492, v_num=13, train_loss=0.016, train_accuracy=1.000, val_loss=0.379, val_accuracy=0.910] \n",
      "Validating: 0it [00:00, ?it/s]\u001b[A\n",
      "Validating:   0%|          | 0/8 [00:00<?, ?it/s]\u001b[A\n",
      "Validating:  12%|█▎        | 1/8 [00:03<00:26,  3.81s/it]\u001b[A\n",
      "Epoch 174:  92%|█████████▏| 60/65 [00:47<00:03,  1.26it/s, loss=0.0492, v_num=13, train_loss=0.016, train_accuracy=1.000, val_loss=0.379, val_accuracy=0.910]\n",
      "Validating:  38%|███▊      | 3/8 [00:04<00:04,  1.02it/s]\u001b[A\n",
      "Epoch 174:  95%|█████████▌| 62/65 [00:47<00:02,  1.29it/s, loss=0.0492, v_num=13, train_loss=0.016, train_accuracy=1.000, val_loss=0.379, val_accuracy=0.910]\n",
      "Validating:  62%|██████▎   | 5/8 [00:04<00:01,  2.10it/s]\u001b[A\n",
      "Epoch 174:  98%|█████████▊| 64/65 [00:48<00:00,  1.33it/s, loss=0.0492, v_num=13, train_loss=0.016, train_accuracy=1.000, val_loss=0.379, val_accuracy=0.910]\n",
      "Validating:  88%|████████▊ | 7/8 [00:04<00:00,  3.31it/s]\u001b[A\n",
      "Epoch 174: 100%|██████████| 65/65 [00:48<00:00,  1.33it/s, loss=0.0492, v_num=13, train_loss=0.016, train_accuracy=1.000, val_loss=0.384, val_accuracy=0.913]\n",
      "                                                         \u001b[A"
     ]
    },
    {
     "name": "stderr",
     "output_type": "stream",
     "text": [
      "Epoch 174, global step 9974: val_loss was not in top 1\n"
     ]
    },
    {
     "name": "stdout",
     "output_type": "stream",
     "text": [
      "Epoch 175:  89%|████████▉ | 58/65 [00:43<00:05,  1.32it/s, loss=0.0446, v_num=13, train_loss=0.0774, train_accuracy=0.971, val_loss=0.384, val_accuracy=0.913]\n",
      "Validating: 0it [00:00, ?it/s]\u001b[A\n",
      "Validating:   0%|          | 0/8 [00:00<?, ?it/s]\u001b[A\n",
      "Validating:  12%|█▎        | 1/8 [00:03<00:26,  3.71s/it]\u001b[A\n",
      "Epoch 175:  92%|█████████▏| 60/65 [00:47<00:03,  1.26it/s, loss=0.0446, v_num=13, train_loss=0.0774, train_accuracy=0.971, val_loss=0.384, val_accuracy=0.913]\n",
      "Validating:  38%|███▊      | 3/8 [00:04<00:04,  1.04it/s]\u001b[A\n",
      "Epoch 175:  95%|█████████▌| 62/65 [00:48<00:02,  1.29it/s, loss=0.0446, v_num=13, train_loss=0.0774, train_accuracy=0.971, val_loss=0.384, val_accuracy=0.913]\n",
      "Validating:  62%|██████▎   | 5/8 [00:04<00:01,  2.12it/s]\u001b[A\n",
      "Epoch 175:  98%|█████████▊| 64/65 [00:48<00:00,  1.32it/s, loss=0.0446, v_num=13, train_loss=0.0774, train_accuracy=0.971, val_loss=0.384, val_accuracy=0.913]\n",
      "Validating:  88%|████████▊ | 7/8 [00:04<00:00,  3.35it/s]\u001b[A\n",
      "Epoch 175: 100%|██████████| 65/65 [00:49<00:00,  1.33it/s, loss=0.0446, v_num=13, train_loss=0.0774, train_accuracy=0.971, val_loss=0.448, val_accuracy=0.914]\n",
      "                                                         \u001b[A"
     ]
    },
    {
     "name": "stderr",
     "output_type": "stream",
     "text": [
      "Epoch 175, global step 10031: val_loss was not in top 1\n"
     ]
    },
    {
     "name": "stdout",
     "output_type": "stream",
     "text": [
      "Epoch 176:  89%|████████▉ | 58/65 [00:43<00:05,  1.33it/s, loss=0.0505, v_num=13, train_loss=0.0661, train_accuracy=0.971, val_loss=0.448, val_accuracy=0.914]\n",
      "Validating: 0it [00:00, ?it/s]\u001b[A\n",
      "Validating:   0%|          | 0/8 [00:00<?, ?it/s]\u001b[A\n",
      "Validating:  12%|█▎        | 1/8 [00:03<00:26,  3.82s/it]\u001b[A\n",
      "Epoch 176:  92%|█████████▏| 60/65 [00:47<00:03,  1.26it/s, loss=0.0505, v_num=13, train_loss=0.0661, train_accuracy=0.971, val_loss=0.448, val_accuracy=0.914]\n",
      "Validating:  38%|███▊      | 3/8 [00:04<00:04,  1.02it/s]\u001b[A\n",
      "Epoch 176:  95%|█████████▌| 62/65 [00:48<00:02,  1.29it/s, loss=0.0505, v_num=13, train_loss=0.0661, train_accuracy=0.971, val_loss=0.448, val_accuracy=0.914]\n",
      "Validating:  62%|██████▎   | 5/8 [00:04<00:01,  2.10it/s]\u001b[A\n",
      "Epoch 176:  98%|█████████▊| 64/65 [00:48<00:00,  1.32it/s, loss=0.0505, v_num=13, train_loss=0.0661, train_accuracy=0.971, val_loss=0.448, val_accuracy=0.914]\n",
      "Validating:  88%|████████▊ | 7/8 [00:04<00:00,  3.31it/s]\u001b[A\n",
      "Epoch 176: 100%|██████████| 65/65 [00:49<00:00,  1.33it/s, loss=0.0505, v_num=13, train_loss=0.0661, train_accuracy=0.971, val_loss=0.298, val_accuracy=0.925]\n",
      "                                                         \u001b[A"
     ]
    },
    {
     "name": "stderr",
     "output_type": "stream",
     "text": [
      "Epoch 176, global step 10088: val_loss was not in top 1\n"
     ]
    },
    {
     "name": "stdout",
     "output_type": "stream",
     "text": [
      "Epoch 177:  89%|████████▉ | 58/65 [00:43<00:05,  1.32it/s, loss=0.0438, v_num=13, train_loss=0.0229, train_accuracy=1.000, val_loss=0.298, val_accuracy=0.925]\n",
      "Validating: 0it [00:00, ?it/s]\u001b[A\n",
      "Validating:   0%|          | 0/8 [00:00<?, ?it/s]\u001b[A\n",
      "Validating:  12%|█▎        | 1/8 [00:03<00:26,  3.76s/it]\u001b[A\n",
      "Epoch 177:  92%|█████████▏| 60/65 [00:47<00:03,  1.26it/s, loss=0.0438, v_num=13, train_loss=0.0229, train_accuracy=1.000, val_loss=0.298, val_accuracy=0.925]\n",
      "Validating:  38%|███▊      | 3/8 [00:04<00:04,  1.03it/s]\u001b[A\n",
      "Epoch 177:  95%|█████████▌| 62/65 [00:48<00:02,  1.29it/s, loss=0.0438, v_num=13, train_loss=0.0229, train_accuracy=1.000, val_loss=0.298, val_accuracy=0.925]\n",
      "Validating:  62%|██████▎   | 5/8 [00:04<00:01,  2.08it/s]\u001b[A\n",
      "Epoch 177:  98%|█████████▊| 64/65 [00:48<00:00,  1.32it/s, loss=0.0438, v_num=13, train_loss=0.0229, train_accuracy=1.000, val_loss=0.298, val_accuracy=0.925]\n",
      "Validating:  88%|████████▊ | 7/8 [00:04<00:00,  3.31it/s]\u001b[A\n",
      "Epoch 177: 100%|██████████| 65/65 [00:49<00:00,  1.32it/s, loss=0.0438, v_num=13, train_loss=0.0229, train_accuracy=1.000, val_loss=0.315, val_accuracy=0.920]\n",
      "                                                         \u001b[A"
     ]
    },
    {
     "name": "stderr",
     "output_type": "stream",
     "text": [
      "Epoch 177, global step 10145: val_loss was not in top 1\n"
     ]
    },
    {
     "name": "stdout",
     "output_type": "stream",
     "text": [
      "Epoch 178:  89%|████████▉ | 58/65 [00:43<00:05,  1.33it/s, loss=0.0469, v_num=13, train_loss=0.00386, train_accuracy=1.000, val_loss=0.315, val_accuracy=0.920]\n",
      "Validating: 0it [00:00, ?it/s]\u001b[A\n",
      "Validating:   0%|          | 0/8 [00:00<?, ?it/s]\u001b[A\n",
      "Validating:  12%|█▎        | 1/8 [00:03<00:26,  3.77s/it]\u001b[A\n",
      "Epoch 178:  92%|█████████▏| 60/65 [00:47<00:03,  1.26it/s, loss=0.0469, v_num=13, train_loss=0.00386, train_accuracy=1.000, val_loss=0.315, val_accuracy=0.920]\n",
      "Validating:  38%|███▊      | 3/8 [00:04<00:04,  1.03it/s]\u001b[A\n",
      "Epoch 178:  95%|█████████▌| 62/65 [00:47<00:02,  1.30it/s, loss=0.0469, v_num=13, train_loss=0.00386, train_accuracy=1.000, val_loss=0.315, val_accuracy=0.920]\n",
      "Validating:  62%|██████▎   | 5/8 [00:04<00:01,  2.10it/s]\u001b[A\n",
      "Epoch 178:  98%|█████████▊| 64/65 [00:48<00:00,  1.33it/s, loss=0.0469, v_num=13, train_loss=0.00386, train_accuracy=1.000, val_loss=0.315, val_accuracy=0.920]\n",
      "Validating:  88%|████████▊ | 7/8 [00:04<00:00,  3.31it/s]\u001b[A\n",
      "Epoch 178: 100%|██████████| 65/65 [00:48<00:00,  1.33it/s, loss=0.0469, v_num=13, train_loss=0.00386, train_accuracy=1.000, val_loss=0.403, val_accuracy=0.905]\n",
      "                                                         \u001b[A"
     ]
    },
    {
     "name": "stderr",
     "output_type": "stream",
     "text": [
      "Epoch 178, global step 10202: val_loss was not in top 1\n"
     ]
    },
    {
     "name": "stdout",
     "output_type": "stream",
     "text": [
      "Epoch 179:  89%|████████▉ | 58/65 [00:43<00:05,  1.32it/s, loss=0.0414, v_num=13, train_loss=0.0365, train_accuracy=0.971, val_loss=0.403, val_accuracy=0.905] \n",
      "Validating: 0it [00:00, ?it/s]\u001b[A\n",
      "Validating:   0%|          | 0/8 [00:00<?, ?it/s]\u001b[A\n",
      "Validating:  12%|█▎        | 1/8 [00:03<00:26,  3.77s/it]\u001b[A\n",
      "Epoch 179:  92%|█████████▏| 60/65 [00:47<00:03,  1.25it/s, loss=0.0414, v_num=13, train_loss=0.0365, train_accuracy=0.971, val_loss=0.403, val_accuracy=0.905]\n",
      "Validating:  38%|███▊      | 3/8 [00:04<00:05,  1.02s/it]\u001b[A\n",
      "Epoch 179:  95%|█████████▌| 62/65 [00:48<00:02,  1.28it/s, loss=0.0414, v_num=13, train_loss=0.0365, train_accuracy=0.971, val_loss=0.403, val_accuracy=0.905]\n",
      "Validating:  62%|██████▎   | 5/8 [00:04<00:01,  2.03it/s]\u001b[A\n",
      "Epoch 179:  98%|█████████▊| 64/65 [00:48<00:00,  1.32it/s, loss=0.0414, v_num=13, train_loss=0.0365, train_accuracy=0.971, val_loss=0.403, val_accuracy=0.905]\n",
      "Validating:  88%|████████▊ | 7/8 [00:04<00:00,  3.25it/s]\u001b[A\n",
      "Epoch 179: 100%|██████████| 65/65 [00:49<00:00,  1.32it/s, loss=0.0414, v_num=13, train_loss=0.0365, train_accuracy=0.971, val_loss=0.374, val_accuracy=0.907]\n",
      "                                                         \u001b[A"
     ]
    },
    {
     "name": "stderr",
     "output_type": "stream",
     "text": [
      "Epoch 179, global step 10259: val_loss was not in top 1\n"
     ]
    },
    {
     "name": "stdout",
     "output_type": "stream",
     "text": [
      "Epoch 180:  89%|████████▉ | 58/65 [00:43<00:05,  1.32it/s, loss=0.0901, v_num=13, train_loss=0.152, train_accuracy=0.926, val_loss=0.374, val_accuracy=0.907] \n",
      "Validating: 0it [00:00, ?it/s]\u001b[A\n",
      "Validating:   0%|          | 0/8 [00:00<?, ?it/s]\u001b[A\n",
      "Validating:  12%|█▎        | 1/8 [00:03<00:26,  3.80s/it]\u001b[A\n",
      "Epoch 180:  92%|█████████▏| 60/65 [00:47<00:03,  1.25it/s, loss=0.0901, v_num=13, train_loss=0.152, train_accuracy=0.926, val_loss=0.374, val_accuracy=0.907]\n",
      "Validating:  38%|███▊      | 3/8 [00:04<00:04,  1.02it/s]\u001b[A\n",
      "Epoch 180:  95%|█████████▌| 62/65 [00:48<00:02,  1.29it/s, loss=0.0901, v_num=13, train_loss=0.152, train_accuracy=0.926, val_loss=0.374, val_accuracy=0.907]\n",
      "Validating:  62%|██████▎   | 5/8 [00:04<00:01,  2.08it/s]\u001b[A\n",
      "Epoch 180:  98%|█████████▊| 64/65 [00:48<00:00,  1.32it/s, loss=0.0901, v_num=13, train_loss=0.152, train_accuracy=0.926, val_loss=0.374, val_accuracy=0.907]\n",
      "Validating:  88%|████████▊ | 7/8 [00:04<00:00,  3.31it/s]\u001b[A\n",
      "Epoch 180: 100%|██████████| 65/65 [00:49<00:00,  1.32it/s, loss=0.0901, v_num=13, train_loss=0.152, train_accuracy=0.926, val_loss=0.394, val_accuracy=0.913]\n",
      "                                                         \u001b[A"
     ]
    },
    {
     "name": "stderr",
     "output_type": "stream",
     "text": [
      "Epoch 180, global step 10316: val_loss was not in top 1\n"
     ]
    },
    {
     "name": "stdout",
     "output_type": "stream",
     "text": [
      "Epoch 181:  89%|████████▉ | 58/65 [00:43<00:05,  1.32it/s, loss=0.111, v_num=13, train_loss=0.0594, train_accuracy=0.971, val_loss=0.394, val_accuracy=0.913] \n",
      "Validating: 0it [00:00, ?it/s]\u001b[A\n",
      "Validating:   0%|          | 0/8 [00:00<?, ?it/s]\u001b[A\n",
      "Validating:  12%|█▎        | 1/8 [00:03<00:26,  3.82s/it]\u001b[A\n",
      "Epoch 181:  92%|█████████▏| 60/65 [00:47<00:03,  1.26it/s, loss=0.111, v_num=13, train_loss=0.0594, train_accuracy=0.971, val_loss=0.394, val_accuracy=0.913]\n",
      "Validating:  38%|███▊      | 3/8 [00:04<00:04,  1.02it/s]\u001b[A\n",
      "Epoch 181:  95%|█████████▌| 62/65 [00:48<00:02,  1.29it/s, loss=0.111, v_num=13, train_loss=0.0594, train_accuracy=0.971, val_loss=0.394, val_accuracy=0.913]\n",
      "Validating:  62%|██████▎   | 5/8 [00:04<00:01,  2.07it/s]\u001b[A\n",
      "Epoch 181:  98%|█████████▊| 64/65 [00:48<00:00,  1.32it/s, loss=0.111, v_num=13, train_loss=0.0594, train_accuracy=0.971, val_loss=0.394, val_accuracy=0.913]\n",
      "Validating:  88%|████████▊ | 7/8 [00:04<00:00,  3.28it/s]\u001b[A\n",
      "Epoch 181: 100%|██████████| 65/65 [00:49<00:00,  1.33it/s, loss=0.111, v_num=13, train_loss=0.0594, train_accuracy=0.971, val_loss=0.336, val_accuracy=0.912]\n",
      "                                                         \u001b[A"
     ]
    },
    {
     "name": "stderr",
     "output_type": "stream",
     "text": [
      "Epoch 181, global step 10373: val_loss was not in top 1\n"
     ]
    },
    {
     "name": "stdout",
     "output_type": "stream",
     "text": [
      "Epoch 182:  89%|████████▉ | 58/65 [00:43<00:05,  1.32it/s, loss=0.0671, v_num=13, train_loss=0.196, train_accuracy=0.912, val_loss=0.336, val_accuracy=0.912] \n",
      "Validating: 0it [00:00, ?it/s]\u001b[A\n",
      "Validating:   0%|          | 0/8 [00:00<?, ?it/s]\u001b[A\n",
      "Validating:  12%|█▎        | 1/8 [00:03<00:26,  3.84s/it]\u001b[A\n",
      "Epoch 182:  92%|█████████▏| 60/65 [00:47<00:03,  1.25it/s, loss=0.0671, v_num=13, train_loss=0.196, train_accuracy=0.912, val_loss=0.336, val_accuracy=0.912]\n",
      "Validating:  38%|███▊      | 3/8 [00:04<00:04,  1.01it/s]\u001b[A\n",
      "Epoch 182:  95%|█████████▌| 62/65 [00:48<00:02,  1.29it/s, loss=0.0671, v_num=13, train_loss=0.196, train_accuracy=0.912, val_loss=0.336, val_accuracy=0.912]\n",
      "Validating:  62%|██████▎   | 5/8 [00:04<00:01,  2.09it/s]\u001b[A\n",
      "Epoch 182:  98%|█████████▊| 64/65 [00:48<00:00,  1.32it/s, loss=0.0671, v_num=13, train_loss=0.196, train_accuracy=0.912, val_loss=0.336, val_accuracy=0.912]\n",
      "Validating:  88%|████████▊ | 7/8 [00:04<00:00,  3.30it/s]\u001b[A\n",
      "Epoch 182: 100%|██████████| 65/65 [00:49<00:00,  1.32it/s, loss=0.0671, v_num=13, train_loss=0.196, train_accuracy=0.912, val_loss=0.331, val_accuracy=0.917]\n",
      "                                                         \u001b[A"
     ]
    },
    {
     "name": "stderr",
     "output_type": "stream",
     "text": [
      "Epoch 182, global step 10430: val_loss was not in top 1\n"
     ]
    },
    {
     "name": "stdout",
     "output_type": "stream",
     "text": [
      "Epoch 183:  89%|████████▉ | 58/65 [00:43<00:05,  1.32it/s, loss=0.0674, v_num=13, train_loss=0.0414, train_accuracy=0.985, val_loss=0.331, val_accuracy=0.917]\n",
      "Validating: 0it [00:00, ?it/s]\u001b[A\n",
      "Validating:   0%|          | 0/8 [00:00<?, ?it/s]\u001b[A\n",
      "Validating:  12%|█▎        | 1/8 [00:03<00:27,  3.94s/it]\u001b[A\n",
      "Epoch 183:  92%|█████████▏| 60/65 [00:47<00:03,  1.25it/s, loss=0.0674, v_num=13, train_loss=0.0414, train_accuracy=0.985, val_loss=0.331, val_accuracy=0.917]\n",
      "Validating:  38%|███▊      | 3/8 [00:04<00:05,  1.01s/it]\u001b[A\n",
      "Epoch 183:  95%|█████████▌| 62/65 [00:48<00:02,  1.28it/s, loss=0.0674, v_num=13, train_loss=0.0414, train_accuracy=0.985, val_loss=0.331, val_accuracy=0.917]\n",
      "Validating:  62%|██████▎   | 5/8 [00:04<00:01,  2.04it/s]\u001b[A\n",
      "Epoch 183:  98%|█████████▊| 64/65 [00:48<00:00,  1.32it/s, loss=0.0674, v_num=13, train_loss=0.0414, train_accuracy=0.985, val_loss=0.331, val_accuracy=0.917]\n",
      "Validating:  88%|████████▊ | 7/8 [00:04<00:00,  3.24it/s]\u001b[A\n",
      "Epoch 183: 100%|██████████| 65/65 [00:49<00:00,  1.32it/s, loss=0.0674, v_num=13, train_loss=0.0414, train_accuracy=0.985, val_loss=0.327, val_accuracy=0.918]\n",
      "                                                         \u001b[A"
     ]
    },
    {
     "name": "stderr",
     "output_type": "stream",
     "text": [
      "Epoch 183, global step 10487: val_loss was not in top 1\n"
     ]
    },
    {
     "name": "stdout",
     "output_type": "stream",
     "text": [
      "Epoch 184:  89%|████████▉ | 58/65 [00:43<00:05,  1.32it/s, loss=0.0467, v_num=13, train_loss=0.0675, train_accuracy=0.985, val_loss=0.327, val_accuracy=0.918]\n",
      "Validating: 0it [00:00, ?it/s]\u001b[A\n",
      "Validating:   0%|          | 0/8 [00:00<?, ?it/s]\u001b[A\n",
      "Validating:  12%|█▎        | 1/8 [00:03<00:26,  3.75s/it]\u001b[A\n",
      "Epoch 184:  92%|█████████▏| 60/65 [00:47<00:03,  1.26it/s, loss=0.0467, v_num=13, train_loss=0.0675, train_accuracy=0.985, val_loss=0.327, val_accuracy=0.918]\n",
      "Validating:  38%|███▊      | 3/8 [00:04<00:04,  1.03it/s]\u001b[A\n",
      "Epoch 184:  95%|█████████▌| 62/65 [00:48<00:02,  1.29it/s, loss=0.0467, v_num=13, train_loss=0.0675, train_accuracy=0.985, val_loss=0.327, val_accuracy=0.918]\n",
      "Validating:  62%|██████▎   | 5/8 [00:04<00:01,  2.11it/s]\u001b[A\n",
      "Epoch 184:  98%|█████████▊| 64/65 [00:48<00:00,  1.32it/s, loss=0.0467, v_num=13, train_loss=0.0675, train_accuracy=0.985, val_loss=0.327, val_accuracy=0.918]\n",
      "Validating:  88%|████████▊ | 7/8 [00:04<00:00,  3.32it/s]\u001b[A\n",
      "Epoch 184: 100%|██████████| 65/65 [00:49<00:00,  1.32it/s, loss=0.0467, v_num=13, train_loss=0.0675, train_accuracy=0.985, val_loss=0.339, val_accuracy=0.912]\n",
      "                                                         \u001b[A"
     ]
    },
    {
     "name": "stderr",
     "output_type": "stream",
     "text": [
      "Epoch 184, global step 10544: val_loss was not in top 1\n"
     ]
    },
    {
     "name": "stdout",
     "output_type": "stream",
     "text": [
      "Epoch 185:  89%|████████▉ | 58/65 [00:43<00:05,  1.32it/s, loss=0.0655, v_num=13, train_loss=0.136, train_accuracy=0.941, val_loss=0.339, val_accuracy=0.912] \n",
      "Validating: 0it [00:00, ?it/s]\u001b[A\n",
      "Validating:   0%|          | 0/8 [00:00<?, ?it/s]\u001b[A\n",
      "Validating:  12%|█▎        | 1/8 [00:03<00:27,  3.92s/it]\u001b[A\n",
      "Epoch 185:  92%|█████████▏| 60/65 [00:47<00:03,  1.25it/s, loss=0.0655, v_num=13, train_loss=0.136, train_accuracy=0.941, val_loss=0.339, val_accuracy=0.912]\n",
      "Validating:  38%|███▊      | 3/8 [00:04<00:05,  1.00s/it]\u001b[A\n",
      "Epoch 185:  95%|█████████▌| 62/65 [00:48<00:02,  1.29it/s, loss=0.0655, v_num=13, train_loss=0.136, train_accuracy=0.941, val_loss=0.339, val_accuracy=0.912]\n",
      "Validating:  62%|██████▎   | 5/8 [00:04<00:01,  2.05it/s]\u001b[A\n",
      "Epoch 185:  98%|█████████▊| 64/65 [00:48<00:00,  1.32it/s, loss=0.0655, v_num=13, train_loss=0.136, train_accuracy=0.941, val_loss=0.339, val_accuracy=0.912]\n",
      "Validating:  88%|████████▊ | 7/8 [00:04<00:00,  3.24it/s]\u001b[A\n",
      "Epoch 185: 100%|██████████| 65/65 [00:49<00:00,  1.32it/s, loss=0.0655, v_num=13, train_loss=0.136, train_accuracy=0.941, val_loss=0.409, val_accuracy=0.900]\n",
      "                                                         \u001b[A"
     ]
    },
    {
     "name": "stderr",
     "output_type": "stream",
     "text": [
      "Epoch 185, global step 10601: val_loss was not in top 1\n"
     ]
    },
    {
     "name": "stdout",
     "output_type": "stream",
     "text": [
      "Epoch 186:  89%|████████▉ | 58/65 [00:43<00:05,  1.32it/s, loss=0.0476, v_num=13, train_loss=0.0795, train_accuracy=0.985, val_loss=0.409, val_accuracy=0.900]\n",
      "Validating: 0it [00:00, ?it/s]\u001b[A\n",
      "Validating:   0%|          | 0/8 [00:00<?, ?it/s]\u001b[A\n",
      "Validating:  12%|█▎        | 1/8 [00:03<00:27,  3.96s/it]\u001b[A\n",
      "Epoch 186:  92%|█████████▏| 60/65 [00:48<00:04,  1.25it/s, loss=0.0476, v_num=13, train_loss=0.0795, train_accuracy=0.985, val_loss=0.409, val_accuracy=0.900]\n",
      "Validating:  38%|███▊      | 3/8 [00:04<00:05,  1.01s/it]\u001b[A\n",
      "Epoch 186:  95%|█████████▌| 62/65 [00:48<00:02,  1.28it/s, loss=0.0476, v_num=13, train_loss=0.0795, train_accuracy=0.985, val_loss=0.409, val_accuracy=0.900]\n",
      "Validating:  62%|██████▎   | 5/8 [00:04<00:01,  2.04it/s]\u001b[A\n",
      "Epoch 186:  98%|█████████▊| 64/65 [00:48<00:00,  1.31it/s, loss=0.0476, v_num=13, train_loss=0.0795, train_accuracy=0.985, val_loss=0.409, val_accuracy=0.900]\n",
      "Validating:  88%|████████▊ | 7/8 [00:04<00:00,  3.23it/s]\u001b[A\n",
      "Epoch 186: 100%|██████████| 65/65 [00:49<00:00,  1.32it/s, loss=0.0476, v_num=13, train_loss=0.0795, train_accuracy=0.985, val_loss=0.365, val_accuracy=0.903]\n",
      "                                                         \u001b[A"
     ]
    },
    {
     "name": "stderr",
     "output_type": "stream",
     "text": [
      "Epoch 186, global step 10658: val_loss was not in top 1\n"
     ]
    },
    {
     "name": "stdout",
     "output_type": "stream",
     "text": [
      "Epoch 187:  89%|████████▉ | 58/65 [00:43<00:05,  1.33it/s, loss=0.0702, v_num=13, train_loss=0.0293, train_accuracy=0.985, val_loss=0.365, val_accuracy=0.903]\n",
      "Validating: 0it [00:00, ?it/s]\u001b[A\n",
      "Validating:   0%|          | 0/8 [00:00<?, ?it/s]\u001b[A\n",
      "Validating:  12%|█▎        | 1/8 [00:03<00:26,  3.84s/it]\u001b[A\n",
      "Epoch 187:  92%|█████████▏| 60/65 [00:47<00:03,  1.26it/s, loss=0.0702, v_num=13, train_loss=0.0293, train_accuracy=0.985, val_loss=0.365, val_accuracy=0.903]\n",
      "Validating:  38%|███▊      | 3/8 [00:04<00:04,  1.01it/s]\u001b[A\n",
      "Epoch 187:  95%|█████████▌| 62/65 [00:48<00:02,  1.29it/s, loss=0.0702, v_num=13, train_loss=0.0293, train_accuracy=0.985, val_loss=0.365, val_accuracy=0.903]\n",
      "Validating:  62%|██████▎   | 5/8 [00:04<00:01,  2.07it/s]\u001b[A\n",
      "Epoch 187:  98%|█████████▊| 64/65 [00:48<00:00,  1.32it/s, loss=0.0702, v_num=13, train_loss=0.0293, train_accuracy=0.985, val_loss=0.365, val_accuracy=0.903]\n",
      "Validating:  88%|████████▊ | 7/8 [00:04<00:00,  3.28it/s]\u001b[A\n",
      "Epoch 187: 100%|██████████| 65/65 [00:49<00:00,  1.33it/s, loss=0.0702, v_num=13, train_loss=0.0293, train_accuracy=0.985, val_loss=0.345, val_accuracy=0.913]\n",
      "                                                         \u001b[A"
     ]
    },
    {
     "name": "stderr",
     "output_type": "stream",
     "text": [
      "Epoch 187, global step 10715: val_loss was not in top 1\n"
     ]
    },
    {
     "name": "stdout",
     "output_type": "stream",
     "text": [
      "Epoch 188:  89%|████████▉ | 58/65 [00:44<00:05,  1.32it/s, loss=0.0561, v_num=13, train_loss=0.0948, train_accuracy=0.956, val_loss=0.345, val_accuracy=0.913]\n",
      "Validating: 0it [00:00, ?it/s]\u001b[A\n",
      "Validating:   0%|          | 0/8 [00:00<?, ?it/s]\u001b[A\n",
      "Validating:  12%|█▎        | 1/8 [00:03<00:27,  3.88s/it]\u001b[A\n",
      "Epoch 188:  92%|█████████▏| 60/65 [00:48<00:04,  1.25it/s, loss=0.0561, v_num=13, train_loss=0.0948, train_accuracy=0.956, val_loss=0.345, val_accuracy=0.913]\n",
      "Validating:  38%|███▊      | 3/8 [00:04<00:04,  1.00it/s]\u001b[A\n",
      "Epoch 188:  95%|█████████▌| 62/65 [00:48<00:02,  1.28it/s, loss=0.0561, v_num=13, train_loss=0.0948, train_accuracy=0.956, val_loss=0.345, val_accuracy=0.913]\n",
      "Validating:  62%|██████▎   | 5/8 [00:04<00:01,  2.05it/s]\u001b[A\n",
      "Epoch 188:  98%|█████████▊| 64/65 [00:48<00:00,  1.31it/s, loss=0.0561, v_num=13, train_loss=0.0948, train_accuracy=0.956, val_loss=0.345, val_accuracy=0.913]\n",
      "Validating:  88%|████████▊ | 7/8 [00:04<00:00,  3.26it/s]\u001b[A\n",
      "Epoch 188: 100%|██████████| 65/65 [00:49<00:00,  1.32it/s, loss=0.0561, v_num=13, train_loss=0.0948, train_accuracy=0.956, val_loss=0.315, val_accuracy=0.921]\n",
      "                                                         \u001b[A"
     ]
    },
    {
     "name": "stderr",
     "output_type": "stream",
     "text": [
      "Epoch 188, global step 10772: val_loss was not in top 1\n"
     ]
    },
    {
     "name": "stdout",
     "output_type": "stream",
     "text": [
      "Epoch 189:  89%|████████▉ | 58/65 [00:43<00:05,  1.32it/s, loss=0.0389, v_num=13, train_loss=0.0581, train_accuracy=0.985, val_loss=0.315, val_accuracy=0.921]\n",
      "Validating: 0it [00:00, ?it/s]\u001b[A\n",
      "Validating:   0%|          | 0/8 [00:00<?, ?it/s]\u001b[A\n",
      "Validating:  12%|█▎        | 1/8 [00:04<00:28,  4.05s/it]\u001b[A\n",
      "Epoch 189:  92%|█████████▏| 60/65 [00:48<00:04,  1.25it/s, loss=0.0389, v_num=13, train_loss=0.0581, train_accuracy=0.985, val_loss=0.315, val_accuracy=0.921]\n",
      "Validating:  38%|███▊      | 3/8 [00:04<00:05,  1.04s/it]\u001b[A\n",
      "Epoch 189:  95%|█████████▌| 62/65 [00:48<00:02,  1.28it/s, loss=0.0389, v_num=13, train_loss=0.0581, train_accuracy=0.985, val_loss=0.315, val_accuracy=0.921]\n",
      "Validating:  62%|██████▎   | 5/8 [00:04<00:01,  1.98it/s]\u001b[A\n",
      "Epoch 189:  98%|█████████▊| 64/65 [00:48<00:00,  1.31it/s, loss=0.0389, v_num=13, train_loss=0.0581, train_accuracy=0.985, val_loss=0.315, val_accuracy=0.921]\n",
      "Validating:  88%|████████▊ | 7/8 [00:05<00:00,  3.14it/s]\u001b[A\n",
      "Epoch 189: 100%|██████████| 65/65 [00:49<00:00,  1.32it/s, loss=0.0389, v_num=13, train_loss=0.0581, train_accuracy=0.985, val_loss=0.413, val_accuracy=0.901]\n",
      "                                                         \u001b[A"
     ]
    },
    {
     "name": "stderr",
     "output_type": "stream",
     "text": [
      "Epoch 189, global step 10829: val_loss was not in top 1\n"
     ]
    },
    {
     "name": "stdout",
     "output_type": "stream",
     "text": [
      "Epoch 190:  89%|████████▉ | 58/65 [00:43<00:05,  1.32it/s, loss=0.0353, v_num=13, train_loss=0.00639, train_accuracy=1.000, val_loss=0.413, val_accuracy=0.901]\n",
      "Validating: 0it [00:00, ?it/s]\u001b[A\n",
      "Validating:   0%|          | 0/8 [00:00<?, ?it/s]\u001b[A\n",
      "Validating:  12%|█▎        | 1/8 [00:03<00:26,  3.82s/it]\u001b[A\n",
      "Epoch 190:  92%|█████████▏| 60/65 [00:47<00:03,  1.25it/s, loss=0.0353, v_num=13, train_loss=0.00639, train_accuracy=1.000, val_loss=0.413, val_accuracy=0.901]\n",
      "Validating:  38%|███▊      | 3/8 [00:04<00:04,  1.02it/s]\u001b[A\n",
      "Epoch 190:  95%|█████████▌| 62/65 [00:48<00:02,  1.29it/s, loss=0.0353, v_num=13, train_loss=0.00639, train_accuracy=1.000, val_loss=0.413, val_accuracy=0.901]\n",
      "Validating:  62%|██████▎   | 5/8 [00:04<00:01,  2.10it/s]\u001b[A\n",
      "Epoch 190:  98%|█████████▊| 64/65 [00:48<00:00,  1.32it/s, loss=0.0353, v_num=13, train_loss=0.00639, train_accuracy=1.000, val_loss=0.413, val_accuracy=0.901]\n",
      "Validating:  88%|████████▊ | 7/8 [00:04<00:00,  3.32it/s]\u001b[A\n",
      "Epoch 190: 100%|██████████| 65/65 [00:49<00:00,  1.32it/s, loss=0.0353, v_num=13, train_loss=0.00639, train_accuracy=1.000, val_loss=0.390, val_accuracy=0.906]\n",
      "                                                         \u001b[A"
     ]
    },
    {
     "name": "stderr",
     "output_type": "stream",
     "text": [
      "Epoch 190, global step 10886: val_loss was not in top 1\n"
     ]
    },
    {
     "name": "stdout",
     "output_type": "stream",
     "text": [
      "Epoch 191:  89%|████████▉ | 58/65 [00:44<00:05,  1.32it/s, loss=0.0402, v_num=13, train_loss=0.0146, train_accuracy=1.000, val_loss=0.390, val_accuracy=0.906] \n",
      "Validating: 0it [00:00, ?it/s]\u001b[A\n",
      "Validating:   0%|          | 0/8 [00:00<?, ?it/s]\u001b[A\n",
      "Validating:  12%|█▎        | 1/8 [00:03<00:27,  3.93s/it]\u001b[A\n",
      "Epoch 191:  92%|█████████▏| 60/65 [00:48<00:04,  1.25it/s, loss=0.0402, v_num=13, train_loss=0.0146, train_accuracy=1.000, val_loss=0.390, val_accuracy=0.906]\n",
      "Validating:  38%|███▊      | 3/8 [00:04<00:05,  1.01s/it]\u001b[A\n",
      "Epoch 191:  95%|█████████▌| 62/65 [00:48<00:02,  1.28it/s, loss=0.0402, v_num=13, train_loss=0.0146, train_accuracy=1.000, val_loss=0.390, val_accuracy=0.906]\n",
      "Validating:  62%|██████▎   | 5/8 [00:04<00:01,  2.05it/s]\u001b[A\n",
      "Epoch 191:  98%|█████████▊| 64/65 [00:48<00:00,  1.31it/s, loss=0.0402, v_num=13, train_loss=0.0146, train_accuracy=1.000, val_loss=0.390, val_accuracy=0.906]\n",
      "Validating:  88%|████████▊ | 7/8 [00:04<00:00,  3.26it/s]\u001b[A\n",
      "Epoch 191: 100%|██████████| 65/65 [00:49<00:00,  1.32it/s, loss=0.0402, v_num=13, train_loss=0.0146, train_accuracy=1.000, val_loss=0.368, val_accuracy=0.906]\n",
      "                                                         \u001b[A"
     ]
    },
    {
     "name": "stderr",
     "output_type": "stream",
     "text": [
      "Epoch 191, global step 10943: val_loss was not in top 1\n"
     ]
    },
    {
     "name": "stdout",
     "output_type": "stream",
     "text": [
      "Epoch 192:  89%|████████▉ | 58/65 [00:44<00:05,  1.32it/s, loss=0.0718, v_num=13, train_loss=0.168, train_accuracy=0.956, val_loss=0.368, val_accuracy=0.906] \n",
      "Validating: 0it [00:00, ?it/s]\u001b[A\n",
      "Validating:   0%|          | 0/8 [00:00<?, ?it/s]\u001b[A\n",
      "Validating:  12%|█▎        | 1/8 [00:03<00:26,  3.82s/it]\u001b[A\n",
      "Epoch 192:  92%|█████████▏| 60/65 [00:47<00:03,  1.25it/s, loss=0.0718, v_num=13, train_loss=0.168, train_accuracy=0.956, val_loss=0.368, val_accuracy=0.906]\n",
      "Validating:  38%|███▊      | 3/8 [00:04<00:04,  1.02it/s]\u001b[A\n",
      "Epoch 192:  95%|█████████▌| 62/65 [00:48<00:02,  1.28it/s, loss=0.0718, v_num=13, train_loss=0.168, train_accuracy=0.956, val_loss=0.368, val_accuracy=0.906]\n",
      "Validating:  62%|██████▎   | 5/8 [00:04<00:01,  2.08it/s]\u001b[A\n",
      "Epoch 192:  98%|█████████▊| 64/65 [00:48<00:00,  1.32it/s, loss=0.0718, v_num=13, train_loss=0.168, train_accuracy=0.956, val_loss=0.368, val_accuracy=0.906]\n",
      "Validating:  88%|████████▊ | 7/8 [00:04<00:00,  3.30it/s]\u001b[A\n",
      "Epoch 192: 100%|██████████| 65/65 [00:49<00:00,  1.32it/s, loss=0.0718, v_num=13, train_loss=0.168, train_accuracy=0.956, val_loss=0.357, val_accuracy=0.918]\n",
      "                                                         \u001b[A"
     ]
    },
    {
     "name": "stderr",
     "output_type": "stream",
     "text": [
      "Epoch 192, global step 11000: val_loss was not in top 1\n"
     ]
    },
    {
     "name": "stdout",
     "output_type": "stream",
     "text": [
      "Epoch 193:  89%|████████▉ | 58/65 [00:43<00:05,  1.33it/s, loss=0.0512, v_num=13, train_loss=0.0519, train_accuracy=0.985, val_loss=0.357, val_accuracy=0.918]\n",
      "Validating: 0it [00:00, ?it/s]\u001b[A\n",
      "Validating:   0%|          | 0/8 [00:00<?, ?it/s]\u001b[A\n",
      "Validating:  12%|█▎        | 1/8 [00:03<00:26,  3.82s/it]\u001b[A\n",
      "Epoch 193:  92%|█████████▏| 60/65 [00:47<00:03,  1.26it/s, loss=0.0512, v_num=13, train_loss=0.0519, train_accuracy=0.985, val_loss=0.357, val_accuracy=0.918]\n",
      "Validating:  38%|███▊      | 3/8 [00:04<00:04,  1.02it/s]\u001b[A\n",
      "Epoch 193:  95%|█████████▌| 62/65 [00:48<00:02,  1.29it/s, loss=0.0512, v_num=13, train_loss=0.0519, train_accuracy=0.985, val_loss=0.357, val_accuracy=0.918]\n",
      "Validating:  62%|██████▎   | 5/8 [00:04<00:01,  2.09it/s]\u001b[A\n",
      "Epoch 193:  98%|█████████▊| 64/65 [00:48<00:00,  1.32it/s, loss=0.0512, v_num=13, train_loss=0.0519, train_accuracy=0.985, val_loss=0.357, val_accuracy=0.918]\n",
      "Validating:  88%|████████▊ | 7/8 [00:04<00:00,  3.32it/s]\u001b[A\n",
      "Epoch 193: 100%|██████████| 65/65 [00:48<00:00,  1.33it/s, loss=0.0512, v_num=13, train_loss=0.0519, train_accuracy=0.985, val_loss=0.366, val_accuracy=0.908]\n",
      "                                                         \u001b[A"
     ]
    },
    {
     "name": "stderr",
     "output_type": "stream",
     "text": [
      "Epoch 193, global step 11057: val_loss was not in top 1\n"
     ]
    },
    {
     "name": "stdout",
     "output_type": "stream",
     "text": [
      "Epoch 194:  89%|████████▉ | 58/65 [00:43<00:05,  1.32it/s, loss=0.0444, v_num=13, train_loss=0.0449, train_accuracy=0.985, val_loss=0.366, val_accuracy=0.908]\n",
      "Validating: 0it [00:00, ?it/s]\u001b[A\n",
      "Validating:   0%|          | 0/8 [00:00<?, ?it/s]\u001b[A\n",
      "Validating:  12%|█▎        | 1/8 [00:03<00:26,  3.81s/it]\u001b[A\n",
      "Epoch 194:  92%|█████████▏| 60/65 [00:47<00:03,  1.25it/s, loss=0.0444, v_num=13, train_loss=0.0449, train_accuracy=0.985, val_loss=0.366, val_accuracy=0.908]\n",
      "Validating:  38%|███▊      | 3/8 [00:04<00:04,  1.02it/s]\u001b[A\n",
      "Epoch 194:  95%|█████████▌| 62/65 [00:48<00:02,  1.29it/s, loss=0.0444, v_num=13, train_loss=0.0449, train_accuracy=0.985, val_loss=0.366, val_accuracy=0.908]\n",
      "Validating:  62%|██████▎   | 5/8 [00:04<00:01,  2.09it/s]\u001b[A\n",
      "Epoch 194:  98%|█████████▊| 64/65 [00:48<00:00,  1.32it/s, loss=0.0444, v_num=13, train_loss=0.0449, train_accuracy=0.985, val_loss=0.366, val_accuracy=0.908]\n",
      "Validating:  88%|████████▊ | 7/8 [00:04<00:00,  3.32it/s]\u001b[A\n",
      "Epoch 194: 100%|██████████| 65/65 [00:49<00:00,  1.32it/s, loss=0.0444, v_num=13, train_loss=0.0449, train_accuracy=0.985, val_loss=0.331, val_accuracy=0.916]\n",
      "                                                         \u001b[A"
     ]
    },
    {
     "name": "stderr",
     "output_type": "stream",
     "text": [
      "Epoch 194, global step 11114: val_loss was not in top 1\n"
     ]
    },
    {
     "name": "stdout",
     "output_type": "stream",
     "text": [
      "Epoch 195:  89%|████████▉ | 58/65 [00:43<00:05,  1.33it/s, loss=0.0744, v_num=13, train_loss=0.0262, train_accuracy=1.000, val_loss=0.331, val_accuracy=0.916]\n",
      "Validating: 0it [00:00, ?it/s]\u001b[A\n",
      "Validating:   0%|          | 0/8 [00:00<?, ?it/s]\u001b[A\n",
      "Validating:  12%|█▎        | 1/8 [00:03<00:26,  3.74s/it]\u001b[A\n",
      "Epoch 195:  92%|█████████▏| 60/65 [00:47<00:03,  1.26it/s, loss=0.0744, v_num=13, train_loss=0.0262, train_accuracy=1.000, val_loss=0.331, val_accuracy=0.916]\n",
      "Validating:  38%|███▊      | 3/8 [00:04<00:04,  1.04it/s]\u001b[A\n",
      "Epoch 195:  95%|█████████▌| 62/65 [00:48<00:02,  1.29it/s, loss=0.0744, v_num=13, train_loss=0.0262, train_accuracy=1.000, val_loss=0.331, val_accuracy=0.916]\n",
      "Validating:  62%|██████▎   | 5/8 [00:04<00:01,  2.11it/s]\u001b[A\n",
      "Epoch 195:  98%|█████████▊| 64/65 [00:48<00:00,  1.32it/s, loss=0.0744, v_num=13, train_loss=0.0262, train_accuracy=1.000, val_loss=0.331, val_accuracy=0.916]\n",
      "Validating:  88%|████████▊ | 7/8 [00:04<00:00,  3.33it/s]\u001b[A\n",
      "Epoch 195: 100%|██████████| 65/65 [00:48<00:00,  1.33it/s, loss=0.0744, v_num=13, train_loss=0.0262, train_accuracy=1.000, val_loss=0.611, val_accuracy=0.867]\n",
      "                                                         \u001b[A"
     ]
    },
    {
     "name": "stderr",
     "output_type": "stream",
     "text": [
      "Epoch 195, global step 11171: val_loss was not in top 1\n"
     ]
    },
    {
     "name": "stdout",
     "output_type": "stream",
     "text": [
      "Epoch 196:  89%|████████▉ | 58/65 [00:43<00:05,  1.32it/s, loss=0.0468, v_num=13, train_loss=0.0111, train_accuracy=1.000, val_loss=0.611, val_accuracy=0.867]\n",
      "Validating: 0it [00:00, ?it/s]\u001b[A\n",
      "Validating:   0%|          | 0/8 [00:00<?, ?it/s]\u001b[A\n",
      "Validating:  12%|█▎        | 1/8 [00:03<00:27,  3.87s/it]\u001b[A\n",
      "Epoch 196:  92%|█████████▏| 60/65 [00:47<00:03,  1.25it/s, loss=0.0468, v_num=13, train_loss=0.0111, train_accuracy=1.000, val_loss=0.611, val_accuracy=0.867]\n",
      "Validating:  38%|███▊      | 3/8 [00:04<00:04,  1.01it/s]\u001b[A\n",
      "Epoch 196:  95%|█████████▌| 62/65 [00:48<00:02,  1.29it/s, loss=0.0468, v_num=13, train_loss=0.0111, train_accuracy=1.000, val_loss=0.611, val_accuracy=0.867]\n",
      "Validating:  62%|██████▎   | 5/8 [00:04<00:01,  2.06it/s]\u001b[A\n",
      "Epoch 196:  98%|█████████▊| 64/65 [00:48<00:00,  1.32it/s, loss=0.0468, v_num=13, train_loss=0.0111, train_accuracy=1.000, val_loss=0.611, val_accuracy=0.867]\n",
      "Validating:  88%|████████▊ | 7/8 [00:04<00:00,  3.28it/s]\u001b[A\n",
      "Epoch 196: 100%|██████████| 65/65 [00:49<00:00,  1.32it/s, loss=0.0468, v_num=13, train_loss=0.0111, train_accuracy=1.000, val_loss=0.339, val_accuracy=0.925]\n",
      "                                                         \u001b[A"
     ]
    },
    {
     "name": "stderr",
     "output_type": "stream",
     "text": [
      "Epoch 196, global step 11228: val_loss was not in top 1\n"
     ]
    },
    {
     "name": "stdout",
     "output_type": "stream",
     "text": [
      "Epoch 197:  89%|████████▉ | 58/65 [00:43<00:05,  1.32it/s, loss=0.0364, v_num=13, train_loss=0.00601, train_accuracy=1.000, val_loss=0.339, val_accuracy=0.925]\n",
      "Validating: 0it [00:00, ?it/s]\u001b[A\n",
      "Validating:   0%|          | 0/8 [00:00<?, ?it/s]\u001b[A\n",
      "Validating:  12%|█▎        | 1/8 [00:04<00:28,  4.01s/it]\u001b[A\n",
      "Epoch 197:  92%|█████████▏| 60/65 [00:48<00:04,  1.25it/s, loss=0.0364, v_num=13, train_loss=0.00601, train_accuracy=1.000, val_loss=0.339, val_accuracy=0.925]\n",
      "Validating:  38%|███▊      | 3/8 [00:04<00:05,  1.03s/it]\u001b[A\n",
      "Epoch 197:  95%|█████████▌| 62/65 [00:48<00:02,  1.28it/s, loss=0.0364, v_num=13, train_loss=0.00601, train_accuracy=1.000, val_loss=0.339, val_accuracy=0.925]\n",
      "Validating:  62%|██████▎   | 5/8 [00:04<00:01,  2.02it/s]\u001b[A\n",
      "Epoch 197:  98%|█████████▊| 64/65 [00:48<00:00,  1.31it/s, loss=0.0364, v_num=13, train_loss=0.00601, train_accuracy=1.000, val_loss=0.339, val_accuracy=0.925]\n",
      "Validating:  88%|████████▊ | 7/8 [00:04<00:00,  3.22it/s]\u001b[A\n",
      "Epoch 197: 100%|██████████| 65/65 [00:49<00:00,  1.32it/s, loss=0.0364, v_num=13, train_loss=0.00601, train_accuracy=1.000, val_loss=0.409, val_accuracy=0.908]\n",
      "                                                         \u001b[A"
     ]
    },
    {
     "name": "stderr",
     "output_type": "stream",
     "text": [
      "Epoch 197, global step 11285: val_loss was not in top 1\n"
     ]
    },
    {
     "name": "stdout",
     "output_type": "stream",
     "text": [
      "Epoch 198:  89%|████████▉ | 58/65 [00:43<00:05,  1.32it/s, loss=0.0315, v_num=13, train_loss=0.0526, train_accuracy=0.985, val_loss=0.409, val_accuracy=0.908] \n",
      "Validating: 0it [00:00, ?it/s]\u001b[A\n",
      "Validating:   0%|          | 0/8 [00:00<?, ?it/s]\u001b[A\n",
      "Validating:  12%|█▎        | 1/8 [00:03<00:26,  3.83s/it]\u001b[A\n",
      "Epoch 198:  92%|█████████▏| 60/65 [00:47<00:03,  1.25it/s, loss=0.0315, v_num=13, train_loss=0.0526, train_accuracy=0.985, val_loss=0.409, val_accuracy=0.908]\n",
      "Validating:  38%|███▊      | 3/8 [00:04<00:04,  1.02it/s]\u001b[A\n",
      "Epoch 198:  95%|█████████▌| 62/65 [00:48<00:02,  1.29it/s, loss=0.0315, v_num=13, train_loss=0.0526, train_accuracy=0.985, val_loss=0.409, val_accuracy=0.908]\n",
      "Validating:  62%|██████▎   | 5/8 [00:04<00:01,  2.08it/s]\u001b[A\n",
      "Epoch 198:  98%|█████████▊| 64/65 [00:48<00:00,  1.32it/s, loss=0.0315, v_num=13, train_loss=0.0526, train_accuracy=0.985, val_loss=0.409, val_accuracy=0.908]\n",
      "Validating:  88%|████████▊ | 7/8 [00:04<00:00,  3.30it/s]\u001b[A\n",
      "Epoch 198: 100%|██████████| 65/65 [00:49<00:00,  1.32it/s, loss=0.0315, v_num=13, train_loss=0.0526, train_accuracy=0.985, val_loss=0.354, val_accuracy=0.925]\n",
      "                                                         \u001b[A"
     ]
    },
    {
     "name": "stderr",
     "output_type": "stream",
     "text": [
      "Epoch 198, global step 11342: val_loss was not in top 1\n"
     ]
    },
    {
     "name": "stdout",
     "output_type": "stream",
     "text": [
      "Epoch 199:  89%|████████▉ | 58/65 [00:43<00:05,  1.32it/s, loss=0.0478, v_num=13, train_loss=0.017, train_accuracy=1.000, val_loss=0.354, val_accuracy=0.925] \n",
      "Validating: 0it [00:00, ?it/s]\u001b[A\n",
      "Validating:   0%|          | 0/8 [00:00<?, ?it/s]\u001b[A\n",
      "Validating:  12%|█▎        | 1/8 [00:03<00:27,  3.87s/it]\u001b[A\n",
      "Epoch 199:  92%|█████████▏| 60/65 [00:47<00:03,  1.25it/s, loss=0.0478, v_num=13, train_loss=0.017, train_accuracy=1.000, val_loss=0.354, val_accuracy=0.925]\n",
      "Validating:  38%|███▊      | 3/8 [00:04<00:04,  1.01it/s]\u001b[A\n",
      "Epoch 199:  95%|█████████▌| 62/65 [00:48<00:02,  1.29it/s, loss=0.0478, v_num=13, train_loss=0.017, train_accuracy=1.000, val_loss=0.354, val_accuracy=0.925]\n",
      "Validating:  62%|██████▎   | 5/8 [00:04<00:01,  2.07it/s]\u001b[A\n",
      "Epoch 199:  98%|█████████▊| 64/65 [00:48<00:00,  1.32it/s, loss=0.0478, v_num=13, train_loss=0.017, train_accuracy=1.000, val_loss=0.354, val_accuracy=0.925]\n",
      "Validating:  88%|████████▊ | 7/8 [00:04<00:00,  3.30it/s]\u001b[A\n",
      "Epoch 199: 100%|██████████| 65/65 [00:49<00:00,  1.32it/s, loss=0.0478, v_num=13, train_loss=0.017, train_accuracy=1.000, val_loss=0.366, val_accuracy=0.913]\n",
      "                                                         \u001b[A"
     ]
    },
    {
     "name": "stderr",
     "output_type": "stream",
     "text": [
      "Epoch 199, global step 11399: val_loss was not in top 1\n"
     ]
    },
    {
     "name": "stdout",
     "output_type": "stream",
     "text": [
      "Epoch 200:  89%|████████▉ | 58/65 [00:43<00:05,  1.32it/s, loss=0.0426, v_num=13, train_loss=0.0217, train_accuracy=1.000, val_loss=0.366, val_accuracy=0.913]\n",
      "Validating: 0it [00:00, ?it/s]\u001b[A\n",
      "Validating:   0%|          | 0/8 [00:00<?, ?it/s]\u001b[A\n",
      "Validating:  12%|█▎        | 1/8 [00:03<00:26,  3.78s/it]\u001b[A\n",
      "Epoch 200:  92%|█████████▏| 60/65 [00:47<00:03,  1.25it/s, loss=0.0426, v_num=13, train_loss=0.0217, train_accuracy=1.000, val_loss=0.366, val_accuracy=0.913]\n",
      "Validating:  38%|███▊      | 3/8 [00:04<00:04,  1.02it/s]\u001b[A\n",
      "Epoch 200:  95%|█████████▌| 62/65 [00:48<00:02,  1.29it/s, loss=0.0426, v_num=13, train_loss=0.0217, train_accuracy=1.000, val_loss=0.366, val_accuracy=0.913]\n",
      "Validating:  62%|██████▎   | 5/8 [00:04<00:01,  2.09it/s]\u001b[A\n",
      "Epoch 200:  98%|█████████▊| 64/65 [00:48<00:00,  1.32it/s, loss=0.0426, v_num=13, train_loss=0.0217, train_accuracy=1.000, val_loss=0.366, val_accuracy=0.913]\n",
      "Validating:  88%|████████▊ | 7/8 [00:04<00:00,  3.29it/s]\u001b[A\n",
      "Epoch 200: 100%|██████████| 65/65 [00:49<00:00,  1.32it/s, loss=0.0426, v_num=13, train_loss=0.0217, train_accuracy=1.000, val_loss=0.403, val_accuracy=0.919]\n",
      "                                                         \u001b[A"
     ]
    },
    {
     "name": "stderr",
     "output_type": "stream",
     "text": [
      "Epoch 200, global step 11456: val_loss was not in top 1\n"
     ]
    },
    {
     "name": "stdout",
     "output_type": "stream",
     "text": [
      "Epoch 201:  89%|████████▉ | 58/65 [00:43<00:05,  1.32it/s, loss=0.0866, v_num=13, train_loss=0.053, train_accuracy=0.971, val_loss=0.403, val_accuracy=0.919] \n",
      "Validating: 0it [00:00, ?it/s]\u001b[A\n",
      "Validating:   0%|          | 0/8 [00:00<?, ?it/s]\u001b[A\n",
      "Validating:  12%|█▎        | 1/8 [00:03<00:26,  3.84s/it]\u001b[A\n",
      "Epoch 201:  92%|█████████▏| 60/65 [00:47<00:03,  1.25it/s, loss=0.0866, v_num=13, train_loss=0.053, train_accuracy=0.971, val_loss=0.403, val_accuracy=0.919]\n",
      "Validating:  38%|███▊      | 3/8 [00:04<00:04,  1.01it/s]\u001b[A\n",
      "Epoch 201:  95%|█████████▌| 62/65 [00:48<00:02,  1.28it/s, loss=0.0866, v_num=13, train_loss=0.053, train_accuracy=0.971, val_loss=0.403, val_accuracy=0.919]\n",
      "Validating:  62%|██████▎   | 5/8 [00:04<00:01,  2.07it/s]\u001b[A\n",
      "Epoch 201:  98%|█████████▊| 64/65 [00:48<00:00,  1.32it/s, loss=0.0866, v_num=13, train_loss=0.053, train_accuracy=0.971, val_loss=0.403, val_accuracy=0.919]\n",
      "Validating:  88%|████████▊ | 7/8 [00:04<00:00,  3.26it/s]\u001b[A\n",
      "Epoch 201: 100%|██████████| 65/65 [00:49<00:00,  1.32it/s, loss=0.0866, v_num=13, train_loss=0.053, train_accuracy=0.971, val_loss=0.356, val_accuracy=0.911]\n",
      "                                                         \u001b[A"
     ]
    },
    {
     "name": "stderr",
     "output_type": "stream",
     "text": [
      "Epoch 201, global step 11513: val_loss was not in top 1\n"
     ]
    },
    {
     "name": "stdout",
     "output_type": "stream",
     "text": [
      "Epoch 202:  89%|████████▉ | 58/65 [00:43<00:05,  1.33it/s, loss=0.0538, v_num=13, train_loss=0.0665, train_accuracy=0.971, val_loss=0.356, val_accuracy=0.911]\n",
      "Validating: 0it [00:00, ?it/s]\u001b[A\n",
      "Validating:   0%|          | 0/8 [00:00<?, ?it/s]\u001b[A\n",
      "Validating:  12%|█▎        | 1/8 [00:03<00:27,  3.91s/it]\u001b[A\n",
      "Epoch 202:  92%|█████████▏| 60/65 [00:47<00:03,  1.26it/s, loss=0.0538, v_num=13, train_loss=0.0665, train_accuracy=0.971, val_loss=0.356, val_accuracy=0.911]\n",
      "Validating:  38%|███▊      | 3/8 [00:04<00:05,  1.00s/it]\u001b[A\n",
      "Epoch 202:  95%|█████████▌| 62/65 [00:48<00:02,  1.29it/s, loss=0.0538, v_num=13, train_loss=0.0665, train_accuracy=0.971, val_loss=0.356, val_accuracy=0.911]\n",
      "Validating:  62%|██████▎   | 5/8 [00:04<00:01,  2.05it/s]\u001b[A\n",
      "Epoch 202:  98%|█████████▊| 64/65 [00:48<00:00,  1.32it/s, loss=0.0538, v_num=13, train_loss=0.0665, train_accuracy=0.971, val_loss=0.356, val_accuracy=0.911]\n",
      "Validating:  88%|████████▊ | 7/8 [00:04<00:00,  3.28it/s]\u001b[A\n",
      "Epoch 202: 100%|██████████| 65/65 [00:49<00:00,  1.33it/s, loss=0.0538, v_num=13, train_loss=0.0665, train_accuracy=0.971, val_loss=0.302, val_accuracy=0.928]\n",
      "                                                         \u001b[A"
     ]
    },
    {
     "name": "stderr",
     "output_type": "stream",
     "text": [
      "Epoch 202, global step 11570: val_loss was not in top 1\n"
     ]
    },
    {
     "name": "stdout",
     "output_type": "stream",
     "text": [
      "Epoch 203:  89%|████████▉ | 58/65 [00:43<00:05,  1.32it/s, loss=0.0692, v_num=13, train_loss=0.0166, train_accuracy=1.000, val_loss=0.302, val_accuracy=0.928]\n",
      "Validating: 0it [00:00, ?it/s]\u001b[A\n",
      "Validating:   0%|          | 0/8 [00:00<?, ?it/s]\u001b[A\n",
      "Validating:  12%|█▎        | 1/8 [00:03<00:26,  3.82s/it]\u001b[A\n",
      "Epoch 203:  92%|█████████▏| 60/65 [00:47<00:03,  1.25it/s, loss=0.0692, v_num=13, train_loss=0.0166, train_accuracy=1.000, val_loss=0.302, val_accuracy=0.928]\n",
      "Validating:  38%|███▊      | 3/8 [00:04<00:04,  1.01it/s]\u001b[A\n",
      "Epoch 203:  95%|█████████▌| 62/65 [00:48<00:02,  1.28it/s, loss=0.0692, v_num=13, train_loss=0.0166, train_accuracy=1.000, val_loss=0.302, val_accuracy=0.928]\n",
      "Validating:  62%|██████▎   | 5/8 [00:04<00:01,  2.08it/s]\u001b[A\n",
      "Epoch 203:  98%|█████████▊| 64/65 [00:48<00:00,  1.32it/s, loss=0.0692, v_num=13, train_loss=0.0166, train_accuracy=1.000, val_loss=0.302, val_accuracy=0.928]\n",
      "Validating:  88%|████████▊ | 7/8 [00:04<00:00,  3.30it/s]\u001b[A\n",
      "Epoch 203: 100%|██████████| 65/65 [00:49<00:00,  1.32it/s, loss=0.0692, v_num=13, train_loss=0.0166, train_accuracy=1.000, val_loss=0.335, val_accuracy=0.916]\n",
      "                                                         \u001b[A"
     ]
    },
    {
     "name": "stderr",
     "output_type": "stream",
     "text": [
      "Epoch 203, global step 11627: val_loss was not in top 1\n"
     ]
    },
    {
     "name": "stdout",
     "output_type": "stream",
     "text": [
      "Epoch 204:  89%|████████▉ | 58/65 [00:43<00:05,  1.32it/s, loss=0.0589, v_num=13, train_loss=0.0761, train_accuracy=0.971, val_loss=0.335, val_accuracy=0.916]\n",
      "Validating: 0it [00:00, ?it/s]\u001b[A\n",
      "Validating:   0%|          | 0/8 [00:00<?, ?it/s]\u001b[A\n",
      "Validating:  12%|█▎        | 1/8 [00:03<00:26,  3.84s/it]\u001b[A\n",
      "Epoch 204:  92%|█████████▏| 60/65 [00:47<00:03,  1.25it/s, loss=0.0589, v_num=13, train_loss=0.0761, train_accuracy=0.971, val_loss=0.335, val_accuracy=0.916]\n",
      "Validating:  38%|███▊      | 3/8 [00:04<00:04,  1.01it/s]\u001b[A\n",
      "Epoch 204:  95%|█████████▌| 62/65 [00:48<00:02,  1.29it/s, loss=0.0589, v_num=13, train_loss=0.0761, train_accuracy=0.971, val_loss=0.335, val_accuracy=0.916]\n",
      "Validating:  62%|██████▎   | 5/8 [00:04<00:01,  2.07it/s]\u001b[A\n",
      "Epoch 204:  98%|█████████▊| 64/65 [00:48<00:00,  1.32it/s, loss=0.0589, v_num=13, train_loss=0.0761, train_accuracy=0.971, val_loss=0.335, val_accuracy=0.916]\n",
      "Validating:  88%|████████▊ | 7/8 [00:04<00:00,  3.28it/s]\u001b[A\n",
      "Epoch 204: 100%|██████████| 65/65 [00:49<00:00,  1.32it/s, loss=0.0589, v_num=13, train_loss=0.0761, train_accuracy=0.971, val_loss=0.325, val_accuracy=0.918]\n",
      "                                                         \u001b[A"
     ]
    },
    {
     "name": "stderr",
     "output_type": "stream",
     "text": [
      "Epoch 204, global step 11684: val_loss was not in top 1\n"
     ]
    },
    {
     "name": "stdout",
     "output_type": "stream",
     "text": [
      "Epoch 205:  89%|████████▉ | 58/65 [00:44<00:05,  1.32it/s, loss=0.0561, v_num=13, train_loss=0.0163, train_accuracy=1.000, val_loss=0.325, val_accuracy=0.918]\n",
      "Validating: 0it [00:00, ?it/s]\u001b[A\n",
      "Validating:   0%|          | 0/8 [00:00<?, ?it/s]\u001b[A\n",
      "Validating:  12%|█▎        | 1/8 [00:03<00:26,  3.82s/it]\u001b[A\n",
      "Epoch 205:  92%|█████████▏| 60/65 [00:48<00:04,  1.25it/s, loss=0.0561, v_num=13, train_loss=0.0163, train_accuracy=1.000, val_loss=0.325, val_accuracy=0.918]\n",
      "Validating:  38%|███▊      | 3/8 [00:04<00:04,  1.02it/s]\u001b[A\n",
      "Epoch 205:  95%|█████████▌| 62/65 [00:48<00:02,  1.28it/s, loss=0.0561, v_num=13, train_loss=0.0163, train_accuracy=1.000, val_loss=0.325, val_accuracy=0.918]\n",
      "Validating:  62%|██████▎   | 5/8 [00:04<00:01,  2.10it/s]\u001b[A\n",
      "Epoch 205:  98%|█████████▊| 64/65 [00:48<00:00,  1.31it/s, loss=0.0561, v_num=13, train_loss=0.0163, train_accuracy=1.000, val_loss=0.325, val_accuracy=0.918]\n",
      "Validating:  88%|████████▊ | 7/8 [00:04<00:00,  3.31it/s]\u001b[A\n",
      "Epoch 205: 100%|██████████| 65/65 [00:49<00:00,  1.32it/s, loss=0.0561, v_num=13, train_loss=0.0163, train_accuracy=1.000, val_loss=0.319, val_accuracy=0.920]\n",
      "                                                         \u001b[A"
     ]
    },
    {
     "name": "stderr",
     "output_type": "stream",
     "text": [
      "Epoch 205, global step 11741: val_loss was not in top 1\n"
     ]
    },
    {
     "name": "stdout",
     "output_type": "stream",
     "text": [
      "Epoch 206:  89%|████████▉ | 58/65 [00:43<00:05,  1.32it/s, loss=0.0777, v_num=13, train_loss=0.0692, train_accuracy=0.956, val_loss=0.319, val_accuracy=0.920]\n",
      "Validating: 0it [00:00, ?it/s]\u001b[A\n",
      "Validating:   0%|          | 0/8 [00:00<?, ?it/s]\u001b[A\n",
      "Validating:  12%|█▎        | 1/8 [00:03<00:27,  3.94s/it]\u001b[A\n",
      "Epoch 206:  92%|█████████▏| 60/65 [00:47<00:03,  1.25it/s, loss=0.0777, v_num=13, train_loss=0.0692, train_accuracy=0.956, val_loss=0.319, val_accuracy=0.920]\n",
      "Validating:  38%|███▊      | 3/8 [00:04<00:05,  1.01s/it]\u001b[A\n",
      "Epoch 206:  95%|█████████▌| 62/65 [00:48<00:02,  1.28it/s, loss=0.0777, v_num=13, train_loss=0.0692, train_accuracy=0.956, val_loss=0.319, val_accuracy=0.920]\n",
      "Validating:  62%|██████▎   | 5/8 [00:04<00:01,  2.03it/s]\u001b[A\n",
      "Epoch 206:  98%|█████████▊| 64/65 [00:48<00:00,  1.32it/s, loss=0.0777, v_num=13, train_loss=0.0692, train_accuracy=0.956, val_loss=0.319, val_accuracy=0.920]\n",
      "Validating:  88%|████████▊ | 7/8 [00:04<00:00,  3.24it/s]\u001b[A\n",
      "Epoch 206: 100%|██████████| 65/65 [00:49<00:00,  1.32it/s, loss=0.0777, v_num=13, train_loss=0.0692, train_accuracy=0.956, val_loss=0.325, val_accuracy=0.922]\n",
      "                                                         \u001b[A"
     ]
    },
    {
     "name": "stderr",
     "output_type": "stream",
     "text": [
      "Epoch 206, global step 11798: val_loss was not in top 1\n"
     ]
    },
    {
     "name": "stdout",
     "output_type": "stream",
     "text": [
      "Epoch 207:  89%|████████▉ | 58/65 [00:43<00:05,  1.32it/s, loss=0.0524, v_num=13, train_loss=0.00564, train_accuracy=1.000, val_loss=0.325, val_accuracy=0.922]\n",
      "Validating: 0it [00:00, ?it/s]\u001b[A\n",
      "Validating:   0%|          | 0/8 [00:00<?, ?it/s]\u001b[A\n",
      "Validating:  12%|█▎        | 1/8 [00:03<00:27,  3.86s/it]\u001b[A\n",
      "Epoch 207:  92%|█████████▏| 60/65 [00:47<00:03,  1.25it/s, loss=0.0524, v_num=13, train_loss=0.00564, train_accuracy=1.000, val_loss=0.325, val_accuracy=0.922]\n",
      "Validating:  38%|███▊      | 3/8 [00:04<00:04,  1.01it/s]\u001b[A\n",
      "Epoch 207:  95%|█████████▌| 62/65 [00:48<00:02,  1.28it/s, loss=0.0524, v_num=13, train_loss=0.00564, train_accuracy=1.000, val_loss=0.325, val_accuracy=0.922]\n",
      "Validating:  62%|██████▎   | 5/8 [00:04<00:01,  2.07it/s]\u001b[A\n",
      "Epoch 207:  98%|█████████▊| 64/65 [00:48<00:00,  1.32it/s, loss=0.0524, v_num=13, train_loss=0.00564, train_accuracy=1.000, val_loss=0.325, val_accuracy=0.922]\n",
      "Validating:  88%|████████▊ | 7/8 [00:04<00:00,  3.26it/s]\u001b[A\n",
      "Epoch 207: 100%|██████████| 65/65 [00:49<00:00,  1.32it/s, loss=0.0524, v_num=13, train_loss=0.00564, train_accuracy=1.000, val_loss=0.287, val_accuracy=0.925]\n",
      "                                                         \u001b[A"
     ]
    },
    {
     "name": "stderr",
     "output_type": "stream",
     "text": [
      "Epoch 207, global step 11855: val_loss was not in top 1\n"
     ]
    },
    {
     "name": "stdout",
     "output_type": "stream",
     "text": [
      "Epoch 208:  89%|████████▉ | 58/65 [00:44<00:05,  1.31it/s, loss=0.0752, v_num=13, train_loss=0.121, train_accuracy=0.956, val_loss=0.287, val_accuracy=0.925]  \n",
      "Validating: 0it [00:00, ?it/s]\u001b[A\n",
      "Validating:   0%|          | 0/8 [00:00<?, ?it/s]\u001b[A\n",
      "Validating:  12%|█▎        | 1/8 [00:03<00:27,  3.91s/it]\u001b[A\n",
      "Epoch 208:  92%|█████████▏| 60/65 [00:48<00:04,  1.24it/s, loss=0.0752, v_num=13, train_loss=0.121, train_accuracy=0.956, val_loss=0.287, val_accuracy=0.925]\n",
      "Validating:  38%|███▊      | 3/8 [00:04<00:05,  1.00s/it]\u001b[A\n",
      "Epoch 208:  95%|█████████▌| 62/65 [00:48<00:02,  1.28it/s, loss=0.0752, v_num=13, train_loss=0.121, train_accuracy=0.956, val_loss=0.287, val_accuracy=0.925]\n",
      "Validating:  62%|██████▎   | 5/8 [00:04<00:01,  2.06it/s]\u001b[A\n",
      "Epoch 208:  98%|█████████▊| 64/65 [00:48<00:00,  1.31it/s, loss=0.0752, v_num=13, train_loss=0.121, train_accuracy=0.956, val_loss=0.287, val_accuracy=0.925]\n",
      "Validating:  88%|████████▊ | 7/8 [00:04<00:00,  3.28it/s]\u001b[A\n",
      "Epoch 208: 100%|██████████| 65/65 [00:49<00:00,  1.31it/s, loss=0.0752, v_num=13, train_loss=0.121, train_accuracy=0.956, val_loss=0.357, val_accuracy=0.916]\n",
      "                                                         \u001b[A"
     ]
    },
    {
     "name": "stderr",
     "output_type": "stream",
     "text": [
      "Epoch 208, global step 11912: val_loss was not in top 1\n"
     ]
    },
    {
     "name": "stdout",
     "output_type": "stream",
     "text": [
      "Epoch 209:  89%|████████▉ | 58/65 [00:43<00:05,  1.32it/s, loss=0.126, v_num=13, train_loss=0.160, train_accuracy=0.956, val_loss=0.357, val_accuracy=0.916]  \n",
      "Validating: 0it [00:00, ?it/s]\u001b[A\n",
      "Validating:   0%|          | 0/8 [00:00<?, ?it/s]\u001b[A\n",
      "Validating:  12%|█▎        | 1/8 [00:03<00:26,  3.79s/it]\u001b[A\n",
      "Epoch 209:  92%|█████████▏| 60/65 [00:47<00:03,  1.25it/s, loss=0.126, v_num=13, train_loss=0.160, train_accuracy=0.956, val_loss=0.357, val_accuracy=0.916]\n",
      "Validating:  38%|███▊      | 3/8 [00:04<00:04,  1.02it/s]\u001b[A\n",
      "Epoch 209:  95%|█████████▌| 62/65 [00:48<00:02,  1.29it/s, loss=0.126, v_num=13, train_loss=0.160, train_accuracy=0.956, val_loss=0.357, val_accuracy=0.916]\n",
      "Validating:  62%|██████▎   | 5/8 [00:04<00:01,  2.08it/s]\u001b[A\n",
      "Epoch 209:  98%|█████████▊| 64/65 [00:48<00:00,  1.32it/s, loss=0.126, v_num=13, train_loss=0.160, train_accuracy=0.956, val_loss=0.357, val_accuracy=0.916]\n",
      "Validating:  88%|████████▊ | 7/8 [00:04<00:00,  3.29it/s]\u001b[A\n",
      "Epoch 209: 100%|██████████| 65/65 [00:49<00:00,  1.32it/s, loss=0.126, v_num=13, train_loss=0.160, train_accuracy=0.956, val_loss=0.322, val_accuracy=0.922]\n",
      "                                                         \u001b[A"
     ]
    },
    {
     "name": "stderr",
     "output_type": "stream",
     "text": [
      "Epoch 209, global step 11969: val_loss was not in top 1\n"
     ]
    },
    {
     "name": "stdout",
     "output_type": "stream",
     "text": [
      "Epoch 210:  89%|████████▉ | 58/65 [00:43<00:05,  1.32it/s, loss=0.0655, v_num=13, train_loss=0.0383, train_accuracy=0.971, val_loss=0.322, val_accuracy=0.922]\n",
      "Validating: 0it [00:00, ?it/s]\u001b[A\n",
      "Validating:   0%|          | 0/8 [00:00<?, ?it/s]\u001b[A\n",
      "Validating:  12%|█▎        | 1/8 [00:03<00:26,  3.85s/it]\u001b[A\n",
      "Epoch 210:  92%|█████████▏| 60/65 [00:47<00:03,  1.25it/s, loss=0.0655, v_num=13, train_loss=0.0383, train_accuracy=0.971, val_loss=0.322, val_accuracy=0.922]\n",
      "Validating:  38%|███▊      | 3/8 [00:04<00:04,  1.02it/s]\u001b[A\n",
      "Epoch 210:  95%|█████████▌| 62/65 [00:48<00:02,  1.28it/s, loss=0.0655, v_num=13, train_loss=0.0383, train_accuracy=0.971, val_loss=0.322, val_accuracy=0.922]\n",
      "Validating:  62%|██████▎   | 5/8 [00:04<00:01,  2.08it/s]\u001b[A\n",
      "Epoch 210:  98%|█████████▊| 64/65 [00:48<00:00,  1.32it/s, loss=0.0655, v_num=13, train_loss=0.0383, train_accuracy=0.971, val_loss=0.322, val_accuracy=0.922]\n",
      "Validating:  88%|████████▊ | 7/8 [00:04<00:00,  3.31it/s]\u001b[A\n",
      "Epoch 210: 100%|██████████| 65/65 [00:49<00:00,  1.32it/s, loss=0.0655, v_num=13, train_loss=0.0383, train_accuracy=0.971, val_loss=0.252, val_accuracy=0.934]\n",
      "                                                         \u001b[A"
     ]
    },
    {
     "name": "stderr",
     "output_type": "stream",
     "text": [
      "Epoch 210, global step 12026: val_loss reached 0.25170 (best 0.25170), saving model to \"/Workspace/code/checkpoints/best-checkpoint250x250-v4.ckpt\" as top 1\n"
     ]
    },
    {
     "name": "stdout",
     "output_type": "stream",
     "text": [
      "Epoch 211:  89%|████████▉ | 58/65 [00:43<00:05,  1.32it/s, loss=0.116, v_num=13, train_loss=0.0841, train_accuracy=0.956, val_loss=0.252, val_accuracy=0.934] \n",
      "Validating: 0it [00:00, ?it/s]\u001b[A\n",
      "Validating:   0%|          | 0/8 [00:00<?, ?it/s]\u001b[A\n",
      "Validating:  12%|█▎        | 1/8 [00:03<00:27,  3.96s/it]\u001b[A\n",
      "Epoch 211:  92%|█████████▏| 60/65 [00:48<00:04,  1.25it/s, loss=0.116, v_num=13, train_loss=0.0841, train_accuracy=0.956, val_loss=0.252, val_accuracy=0.934]\n",
      "Validating:  38%|███▊      | 3/8 [00:04<00:05,  1.02s/it]\u001b[A\n",
      "Epoch 211:  95%|█████████▌| 62/65 [00:48<00:02,  1.28it/s, loss=0.116, v_num=13, train_loss=0.0841, train_accuracy=0.956, val_loss=0.252, val_accuracy=0.934]\n",
      "Validating:  62%|██████▎   | 5/8 [00:04<00:01,  2.04it/s]\u001b[A\n",
      "Epoch 211:  98%|█████████▊| 64/65 [00:48<00:00,  1.31it/s, loss=0.116, v_num=13, train_loss=0.0841, train_accuracy=0.956, val_loss=0.252, val_accuracy=0.934]\n",
      "Validating:  88%|████████▊ | 7/8 [00:04<00:00,  3.25it/s]\u001b[A\n",
      "Epoch 211: 100%|██████████| 65/65 [00:49<00:00,  1.32it/s, loss=0.116, v_num=13, train_loss=0.0841, train_accuracy=0.956, val_loss=0.402, val_accuracy=0.899]\n",
      "                                                         \u001b[A"
     ]
    },
    {
     "name": "stderr",
     "output_type": "stream",
     "text": [
      "Epoch 211, global step 12083: val_loss was not in top 1\n"
     ]
    },
    {
     "name": "stdout",
     "output_type": "stream",
     "text": [
      "Epoch 212:  89%|████████▉ | 58/65 [00:44<00:05,  1.32it/s, loss=0.0909, v_num=13, train_loss=0.0945, train_accuracy=0.971, val_loss=0.402, val_accuracy=0.899]\n",
      "Validating: 0it [00:00, ?it/s]\u001b[A\n",
      "Validating:   0%|          | 0/8 [00:00<?, ?it/s]\u001b[A\n",
      "Validating:  12%|█▎        | 1/8 [00:03<00:27,  3.91s/it]\u001b[A\n",
      "Epoch 212:  92%|█████████▏| 60/65 [00:48<00:04,  1.25it/s, loss=0.0909, v_num=13, train_loss=0.0945, train_accuracy=0.971, val_loss=0.402, val_accuracy=0.899]\n",
      "Validating:  38%|███▊      | 3/8 [00:04<00:05,  1.00s/it]\u001b[A\n",
      "Epoch 212:  95%|█████████▌| 62/65 [00:48<00:02,  1.28it/s, loss=0.0909, v_num=13, train_loss=0.0945, train_accuracy=0.971, val_loss=0.402, val_accuracy=0.899]\n",
      "Validating:  62%|██████▎   | 5/8 [00:04<00:01,  2.05it/s]\u001b[A\n",
      "Epoch 212:  98%|█████████▊| 64/65 [00:48<00:00,  1.31it/s, loss=0.0909, v_num=13, train_loss=0.0945, train_accuracy=0.971, val_loss=0.402, val_accuracy=0.899]\n",
      "Validating:  88%|████████▊ | 7/8 [00:04<00:00,  3.24it/s]\u001b[A\n",
      "Epoch 212: 100%|██████████| 65/65 [00:49<00:00,  1.32it/s, loss=0.0909, v_num=13, train_loss=0.0945, train_accuracy=0.971, val_loss=0.347, val_accuracy=0.914]\n",
      "                                                         \u001b[A"
     ]
    },
    {
     "name": "stderr",
     "output_type": "stream",
     "text": [
      "Epoch 212, global step 12140: val_loss was not in top 1\n"
     ]
    },
    {
     "name": "stdout",
     "output_type": "stream",
     "text": [
      "Epoch 213:  89%|████████▉ | 58/65 [00:43<00:05,  1.32it/s, loss=0.0993, v_num=13, train_loss=0.240, train_accuracy=0.941, val_loss=0.347, val_accuracy=0.914] \n",
      "Validating: 0it [00:00, ?it/s]\u001b[A\n",
      "Validating:   0%|          | 0/8 [00:00<?, ?it/s]\u001b[A\n",
      "Validating:  12%|█▎        | 1/8 [00:03<00:26,  3.77s/it]\u001b[A\n",
      "Epoch 213:  92%|█████████▏| 60/65 [00:47<00:03,  1.25it/s, loss=0.0993, v_num=13, train_loss=0.240, train_accuracy=0.941, val_loss=0.347, val_accuracy=0.914]\n",
      "Validating:  38%|███▊      | 3/8 [00:04<00:04,  1.03it/s]\u001b[A\n",
      "Epoch 213:  95%|█████████▌| 62/65 [00:48<00:02,  1.29it/s, loss=0.0993, v_num=13, train_loss=0.240, train_accuracy=0.941, val_loss=0.347, val_accuracy=0.914]\n",
      "Validating:  62%|██████▎   | 5/8 [00:04<00:01,  2.10it/s]\u001b[A\n",
      "Epoch 213:  98%|█████████▊| 64/65 [00:48<00:00,  1.32it/s, loss=0.0993, v_num=13, train_loss=0.240, train_accuracy=0.941, val_loss=0.347, val_accuracy=0.914]\n",
      "Validating:  88%|████████▊ | 7/8 [00:04<00:00,  3.32it/s]\u001b[A\n",
      "Epoch 213: 100%|██████████| 65/65 [00:49<00:00,  1.32it/s, loss=0.0993, v_num=13, train_loss=0.240, train_accuracy=0.941, val_loss=0.329, val_accuracy=0.909]\n",
      "                                                         \u001b[A"
     ]
    },
    {
     "name": "stderr",
     "output_type": "stream",
     "text": [
      "Epoch 213, global step 12197: val_loss was not in top 1\n"
     ]
    },
    {
     "name": "stdout",
     "output_type": "stream",
     "text": [
      "Epoch 214:  89%|████████▉ | 58/65 [00:43<00:05,  1.32it/s, loss=0.123, v_num=13, train_loss=0.0836, train_accuracy=0.956, val_loss=0.329, val_accuracy=0.909] \n",
      "Validating: 0it [00:00, ?it/s]\u001b[A\n",
      "Validating:   0%|          | 0/8 [00:00<?, ?it/s]\u001b[A\n",
      "Validating:  12%|█▎        | 1/8 [00:03<00:26,  3.73s/it]\u001b[A\n",
      "Epoch 214:  92%|█████████▏| 60/65 [00:47<00:03,  1.25it/s, loss=0.123, v_num=13, train_loss=0.0836, train_accuracy=0.956, val_loss=0.329, val_accuracy=0.909]\n",
      "Validating:  38%|███▊      | 3/8 [00:04<00:04,  1.04it/s]\u001b[A\n",
      "Epoch 214:  95%|█████████▌| 62/65 [00:48<00:02,  1.29it/s, loss=0.123, v_num=13, train_loss=0.0836, train_accuracy=0.956, val_loss=0.329, val_accuracy=0.909]\n",
      "Validating:  62%|██████▎   | 5/8 [00:04<00:01,  2.12it/s]\u001b[A\n",
      "Epoch 214:  98%|█████████▊| 64/65 [00:48<00:00,  1.32it/s, loss=0.123, v_num=13, train_loss=0.0836, train_accuracy=0.956, val_loss=0.329, val_accuracy=0.909]\n",
      "Validating:  88%|████████▊ | 7/8 [00:04<00:00,  3.34it/s]\u001b[A\n",
      "Epoch 214: 100%|██████████| 65/65 [00:49<00:00,  1.32it/s, loss=0.123, v_num=13, train_loss=0.0836, train_accuracy=0.956, val_loss=0.354, val_accuracy=0.907]\n",
      "                                                         \u001b[A"
     ]
    },
    {
     "name": "stderr",
     "output_type": "stream",
     "text": [
      "Epoch 214, global step 12254: val_loss was not in top 1\n"
     ]
    },
    {
     "name": "stdout",
     "output_type": "stream",
     "text": [
      "Epoch 215:  89%|████████▉ | 58/65 [00:44<00:05,  1.32it/s, loss=0.816, v_num=13, train_loss=0.848, train_accuracy=0.794, val_loss=0.354, val_accuracy=0.907]  \n",
      "Validating: 0it [00:00, ?it/s]\u001b[A\n",
      "Validating:   0%|          | 0/8 [00:00<?, ?it/s]\u001b[A\n",
      "Validating:  12%|█▎        | 1/8 [00:04<00:28,  4.00s/it]\u001b[A\n",
      "Epoch 215:  92%|█████████▏| 60/65 [00:48<00:04,  1.24it/s, loss=0.816, v_num=13, train_loss=0.848, train_accuracy=0.794, val_loss=0.354, val_accuracy=0.907]\n",
      "Validating:  38%|███▊      | 3/8 [00:04<00:05,  1.02s/it]\u001b[A\n",
      "Epoch 215:  95%|█████████▌| 62/65 [00:48<00:02,  1.28it/s, loss=0.816, v_num=13, train_loss=0.848, train_accuracy=0.794, val_loss=0.354, val_accuracy=0.907]\n",
      "Validating:  62%|██████▎   | 5/8 [00:04<00:01,  2.02it/s]\u001b[A\n",
      "Epoch 215:  98%|█████████▊| 64/65 [00:48<00:00,  1.31it/s, loss=0.816, v_num=13, train_loss=0.848, train_accuracy=0.794, val_loss=0.354, val_accuracy=0.907]\n",
      "Validating:  88%|████████▊ | 7/8 [00:04<00:00,  3.23it/s]\u001b[A\n",
      "Epoch 215: 100%|██████████| 65/65 [00:49<00:00,  1.31it/s, loss=0.816, v_num=13, train_loss=0.848, train_accuracy=0.794, val_loss=0.829, val_accuracy=0.791]\n",
      "                                                         \u001b[A"
     ]
    },
    {
     "name": "stderr",
     "output_type": "stream",
     "text": [
      "Epoch 215, global step 12311: val_loss was not in top 1\n"
     ]
    },
    {
     "name": "stdout",
     "output_type": "stream",
     "text": [
      "Epoch 216:  89%|████████▉ | 58/65 [00:43<00:05,  1.32it/s, loss=0.328, v_num=13, train_loss=0.175, train_accuracy=0.956, val_loss=0.829, val_accuracy=0.791]\n",
      "Validating: 0it [00:00, ?it/s]\u001b[A\n",
      "Validating:   0%|          | 0/8 [00:00<?, ?it/s]\u001b[A\n",
      "Validating:  12%|█▎        | 1/8 [00:03<00:27,  4.00s/it]\u001b[A\n",
      "Epoch 216:  92%|█████████▏| 60/65 [00:48<00:04,  1.25it/s, loss=0.328, v_num=13, train_loss=0.175, train_accuracy=0.956, val_loss=0.829, val_accuracy=0.791]\n",
      "Validating:  38%|███▊      | 3/8 [00:04<00:05,  1.02s/it]\u001b[A\n",
      "Epoch 216:  95%|█████████▌| 62/65 [00:48<00:02,  1.28it/s, loss=0.328, v_num=13, train_loss=0.175, train_accuracy=0.956, val_loss=0.829, val_accuracy=0.791]\n",
      "Validating:  62%|██████▎   | 5/8 [00:04<00:01,  2.02it/s]\u001b[A\n",
      "Epoch 216:  98%|█████████▊| 64/65 [00:48<00:00,  1.31it/s, loss=0.328, v_num=13, train_loss=0.175, train_accuracy=0.956, val_loss=0.829, val_accuracy=0.791]\n",
      "Validating:  88%|████████▊ | 7/8 [00:04<00:00,  3.23it/s]\u001b[A\n",
      "Epoch 216: 100%|██████████| 65/65 [00:49<00:00,  1.32it/s, loss=0.328, v_num=13, train_loss=0.175, train_accuracy=0.956, val_loss=0.379, val_accuracy=0.826]\n",
      "                                                         \u001b[A"
     ]
    },
    {
     "name": "stderr",
     "output_type": "stream",
     "text": [
      "Epoch 216, global step 12368: val_loss was not in top 1\n"
     ]
    },
    {
     "name": "stdout",
     "output_type": "stream",
     "text": [
      "Epoch 217:  89%|████████▉ | 58/65 [00:44<00:05,  1.32it/s, loss=0.308, v_num=13, train_loss=0.311, train_accuracy=0.912, val_loss=0.379, val_accuracy=0.826]\n",
      "Validating: 0it [00:00, ?it/s]\u001b[A\n",
      "Validating:   0%|          | 0/8 [00:00<?, ?it/s]\u001b[A\n",
      "Validating:  12%|█▎        | 1/8 [00:03<00:27,  3.93s/it]\u001b[A\n",
      "Epoch 217:  92%|█████████▏| 60/65 [00:48<00:04,  1.25it/s, loss=0.308, v_num=13, train_loss=0.311, train_accuracy=0.912, val_loss=0.379, val_accuracy=0.826]\n",
      "Validating:  38%|███▊      | 3/8 [00:04<00:05,  1.01s/it]\u001b[A\n",
      "Epoch 217:  95%|█████████▌| 62/65 [00:48<00:02,  1.28it/s, loss=0.308, v_num=13, train_loss=0.311, train_accuracy=0.912, val_loss=0.379, val_accuracy=0.826]\n",
      "Validating:  62%|██████▎   | 5/8 [00:04<00:01,  2.05it/s]\u001b[A\n",
      "Epoch 217:  98%|█████████▊| 64/65 [00:48<00:00,  1.31it/s, loss=0.308, v_num=13, train_loss=0.311, train_accuracy=0.912, val_loss=0.379, val_accuracy=0.826]\n",
      "Validating:  88%|████████▊ | 7/8 [00:04<00:00,  3.28it/s]\u001b[A\n",
      "Epoch 217: 100%|██████████| 65/65 [00:49<00:00,  1.31it/s, loss=0.308, v_num=13, train_loss=0.311, train_accuracy=0.912, val_loss=0.370, val_accuracy=0.840]\n",
      "                                                         \u001b[A"
     ]
    },
    {
     "name": "stderr",
     "output_type": "stream",
     "text": [
      "Epoch 217, global step 12425: val_loss was not in top 1\n"
     ]
    },
    {
     "name": "stdout",
     "output_type": "stream",
     "text": [
      "Epoch 218:  89%|████████▉ | 58/65 [00:43<00:05,  1.32it/s, loss=0.273, v_num=13, train_loss=0.286, train_accuracy=0.853, val_loss=0.370, val_accuracy=0.840]\n",
      "Validating: 0it [00:00, ?it/s]\u001b[A\n",
      "Validating:   0%|          | 0/8 [00:00<?, ?it/s]\u001b[A\n",
      "Validating:  12%|█▎        | 1/8 [00:03<00:27,  3.93s/it]\u001b[A\n",
      "Epoch 218:  92%|█████████▏| 60/65 [00:47<00:03,  1.25it/s, loss=0.273, v_num=13, train_loss=0.286, train_accuracy=0.853, val_loss=0.370, val_accuracy=0.840]\n",
      "Validating:  38%|███▊      | 3/8 [00:04<00:05,  1.01s/it]\u001b[A\n",
      "Epoch 218:  95%|█████████▌| 62/65 [00:48<00:02,  1.28it/s, loss=0.273, v_num=13, train_loss=0.286, train_accuracy=0.853, val_loss=0.370, val_accuracy=0.840]\n",
      "Validating:  62%|██████▎   | 5/8 [00:04<00:01,  2.05it/s]\u001b[A\n",
      "Epoch 218:  98%|█████████▊| 64/65 [00:48<00:00,  1.32it/s, loss=0.273, v_num=13, train_loss=0.286, train_accuracy=0.853, val_loss=0.370, val_accuracy=0.840]\n",
      "Validating:  88%|████████▊ | 7/8 [00:04<00:00,  3.26it/s]\u001b[A\n",
      "Epoch 218: 100%|██████████| 65/65 [00:49<00:00,  1.32it/s, loss=0.273, v_num=13, train_loss=0.286, train_accuracy=0.853, val_loss=0.342, val_accuracy=0.842]\n",
      "                                                         \u001b[A"
     ]
    },
    {
     "name": "stderr",
     "output_type": "stream",
     "text": [
      "Epoch 218, global step 12482: val_loss was not in top 1\n"
     ]
    },
    {
     "name": "stdout",
     "output_type": "stream",
     "text": [
      "Epoch 219:  89%|████████▉ | 58/65 [00:43<00:05,  1.32it/s, loss=0.2, v_num=13, train_loss=0.180, train_accuracy=0.941, val_loss=0.342, val_accuracy=0.842]  \n",
      "Validating: 0it [00:00, ?it/s]\u001b[A\n",
      "Validating:   0%|          | 0/8 [00:00<?, ?it/s]\u001b[A\n",
      "Validating:  12%|█▎        | 1/8 [00:03<00:26,  3.81s/it]\u001b[A\n",
      "Epoch 219:  92%|█████████▏| 60/65 [00:47<00:03,  1.25it/s, loss=0.2, v_num=13, train_loss=0.180, train_accuracy=0.941, val_loss=0.342, val_accuracy=0.842]\n",
      "Validating:  38%|███▊      | 3/8 [00:04<00:04,  1.02it/s]\u001b[A\n",
      "Epoch 219:  95%|█████████▌| 62/65 [00:48<00:02,  1.29it/s, loss=0.2, v_num=13, train_loss=0.180, train_accuracy=0.941, val_loss=0.342, val_accuracy=0.842]\n",
      "Validating:  62%|██████▎   | 5/8 [00:04<00:01,  2.07it/s]\u001b[A\n",
      "Epoch 219:  98%|█████████▊| 64/65 [00:48<00:00,  1.32it/s, loss=0.2, v_num=13, train_loss=0.180, train_accuracy=0.941, val_loss=0.342, val_accuracy=0.842]\n",
      "Validating:  88%|████████▊ | 7/8 [00:04<00:00,  3.28it/s]\u001b[A\n",
      "Epoch 219: 100%|██████████| 65/65 [00:49<00:00,  1.32it/s, loss=0.2, v_num=13, train_loss=0.180, train_accuracy=0.941, val_loss=0.327, val_accuracy=0.862]\n",
      "                                                         \u001b[A"
     ]
    },
    {
     "name": "stderr",
     "output_type": "stream",
     "text": [
      "Epoch 219, global step 12539: val_loss was not in top 1\n"
     ]
    },
    {
     "name": "stdout",
     "output_type": "stream",
     "text": [
      "Epoch 220:  89%|████████▉ | 58/65 [00:43<00:05,  1.32it/s, loss=0.167, v_num=13, train_loss=0.183, train_accuracy=0.941, val_loss=0.327, val_accuracy=0.862]\n",
      "Validating: 0it [00:00, ?it/s]\u001b[A\n",
      "Validating:   0%|          | 0/8 [00:00<?, ?it/s]\u001b[A\n",
      "Validating:  12%|█▎        | 1/8 [00:03<00:27,  3.87s/it]\u001b[A\n",
      "Epoch 220:  92%|█████████▏| 60/65 [00:47<00:03,  1.25it/s, loss=0.167, v_num=13, train_loss=0.183, train_accuracy=0.941, val_loss=0.327, val_accuracy=0.862]\n",
      "Validating:  38%|███▊      | 3/8 [00:04<00:04,  1.01it/s]\u001b[A\n",
      "Epoch 220:  95%|█████████▌| 62/65 [00:48<00:02,  1.28it/s, loss=0.167, v_num=13, train_loss=0.183, train_accuracy=0.941, val_loss=0.327, val_accuracy=0.862]\n",
      "Validating:  62%|██████▎   | 5/8 [00:04<00:01,  2.06it/s]\u001b[A\n",
      "Epoch 220:  98%|█████████▊| 64/65 [00:48<00:00,  1.32it/s, loss=0.167, v_num=13, train_loss=0.183, train_accuracy=0.941, val_loss=0.327, val_accuracy=0.862]\n",
      "Validating:  88%|████████▊ | 7/8 [00:04<00:00,  3.28it/s]\u001b[A\n",
      "Epoch 220: 100%|██████████| 65/65 [00:49<00:00,  1.32it/s, loss=0.167, v_num=13, train_loss=0.183, train_accuracy=0.941, val_loss=0.331, val_accuracy=0.867]\n",
      "                                                         \u001b[A"
     ]
    },
    {
     "name": "stderr",
     "output_type": "stream",
     "text": [
      "Epoch 220, global step 12596: val_loss was not in top 1\n"
     ]
    },
    {
     "name": "stdout",
     "output_type": "stream",
     "text": [
      "Epoch 221:  89%|████████▉ | 58/65 [00:43<00:05,  1.32it/s, loss=0.204, v_num=13, train_loss=0.140, train_accuracy=0.926, val_loss=0.331, val_accuracy=0.867]\n",
      "Validating: 0it [00:00, ?it/s]\u001b[A\n",
      "Validating:   0%|          | 0/8 [00:00<?, ?it/s]\u001b[A\n",
      "Validating:  12%|█▎        | 1/8 [00:03<00:27,  3.87s/it]\u001b[A\n",
      "Epoch 221:  92%|█████████▏| 60/65 [00:47<00:03,  1.25it/s, loss=0.204, v_num=13, train_loss=0.140, train_accuracy=0.926, val_loss=0.331, val_accuracy=0.867]\n",
      "Validating:  38%|███▊      | 3/8 [00:04<00:04,  1.01it/s]\u001b[A\n",
      "Epoch 221:  95%|█████████▌| 62/65 [00:48<00:02,  1.28it/s, loss=0.204, v_num=13, train_loss=0.140, train_accuracy=0.926, val_loss=0.331, val_accuracy=0.867]\n",
      "Validating:  62%|██████▎   | 5/8 [00:04<00:01,  2.06it/s]\u001b[A\n",
      "Epoch 221:  98%|█████████▊| 64/65 [00:48<00:00,  1.32it/s, loss=0.204, v_num=13, train_loss=0.140, train_accuracy=0.926, val_loss=0.331, val_accuracy=0.867]\n",
      "Validating:  88%|████████▊ | 7/8 [00:04<00:00,  3.24it/s]\u001b[A\n",
      "Epoch 221: 100%|██████████| 65/65 [00:49<00:00,  1.32it/s, loss=0.204, v_num=13, train_loss=0.140, train_accuracy=0.926, val_loss=0.353, val_accuracy=0.852]\n",
      "                                                         \u001b[A"
     ]
    },
    {
     "name": "stderr",
     "output_type": "stream",
     "text": [
      "Epoch 221, global step 12653: val_loss was not in top 1\n"
     ]
    },
    {
     "name": "stdout",
     "output_type": "stream",
     "text": [
      "Epoch 222:  89%|████████▉ | 58/65 [00:43<00:05,  1.32it/s, loss=0.163, v_num=13, train_loss=0.132, train_accuracy=0.956, val_loss=0.353, val_accuracy=0.852]\n",
      "Validating: 0it [00:00, ?it/s]\u001b[A\n",
      "Validating:   0%|          | 0/8 [00:00<?, ?it/s]\u001b[A\n",
      "Validating:  12%|█▎        | 1/8 [00:03<00:26,  3.81s/it]\u001b[A\n",
      "Epoch 222:  92%|█████████▏| 60/65 [00:47<00:03,  1.25it/s, loss=0.163, v_num=13, train_loss=0.132, train_accuracy=0.956, val_loss=0.353, val_accuracy=0.852]\n",
      "Validating:  38%|███▊      | 3/8 [00:04<00:04,  1.02it/s]\u001b[A\n",
      "Epoch 222:  95%|█████████▌| 62/65 [00:48<00:02,  1.29it/s, loss=0.163, v_num=13, train_loss=0.132, train_accuracy=0.956, val_loss=0.353, val_accuracy=0.852]\n",
      "Validating:  62%|██████▎   | 5/8 [00:04<00:01,  2.08it/s]\u001b[A\n",
      "Epoch 222:  98%|█████████▊| 64/65 [00:48<00:00,  1.32it/s, loss=0.163, v_num=13, train_loss=0.132, train_accuracy=0.956, val_loss=0.353, val_accuracy=0.852]\n",
      "Validating:  88%|████████▊ | 7/8 [00:04<00:00,  3.32it/s]\u001b[A\n",
      "Epoch 222: 100%|██████████| 65/65 [00:49<00:00,  1.32it/s, loss=0.163, v_num=13, train_loss=0.132, train_accuracy=0.956, val_loss=0.336, val_accuracy=0.866]\n",
      "                                                         \u001b[A"
     ]
    },
    {
     "name": "stderr",
     "output_type": "stream",
     "text": [
      "Epoch 222, global step 12710: val_loss was not in top 1\n"
     ]
    },
    {
     "name": "stdout",
     "output_type": "stream",
     "text": [
      "Epoch 223:  89%|████████▉ | 58/65 [00:43<00:05,  1.32it/s, loss=0.144, v_num=13, train_loss=0.118, train_accuracy=0.956, val_loss=0.336, val_accuracy=0.866]\n",
      "Validating: 0it [00:00, ?it/s]\u001b[A\n",
      "Validating:   0%|          | 0/8 [00:00<?, ?it/s]\u001b[A\n",
      "Validating:  12%|█▎        | 1/8 [00:03<00:27,  3.90s/it]\u001b[A\n",
      "Epoch 223:  92%|█████████▏| 60/65 [00:47<00:03,  1.25it/s, loss=0.144, v_num=13, train_loss=0.118, train_accuracy=0.956, val_loss=0.336, val_accuracy=0.866]\n",
      "Validating:  38%|███▊      | 3/8 [00:04<00:05,  1.00s/it]\u001b[A\n",
      "Epoch 223:  95%|█████████▌| 62/65 [00:48<00:02,  1.29it/s, loss=0.144, v_num=13, train_loss=0.118, train_accuracy=0.956, val_loss=0.336, val_accuracy=0.866]\n",
      "Validating:  62%|██████▎   | 5/8 [00:04<00:01,  2.06it/s]\u001b[A\n",
      "Epoch 223:  98%|█████████▊| 64/65 [00:48<00:00,  1.32it/s, loss=0.144, v_num=13, train_loss=0.118, train_accuracy=0.956, val_loss=0.336, val_accuracy=0.866]\n",
      "Validating:  88%|████████▊ | 7/8 [00:04<00:00,  3.28it/s]\u001b[A\n",
      "Epoch 223: 100%|██████████| 65/65 [00:49<00:00,  1.32it/s, loss=0.144, v_num=13, train_loss=0.118, train_accuracy=0.956, val_loss=0.352, val_accuracy=0.869]\n",
      "                                                         \u001b[A"
     ]
    },
    {
     "name": "stderr",
     "output_type": "stream",
     "text": [
      "Epoch 223, global step 12767: val_loss was not in top 1\n"
     ]
    },
    {
     "name": "stdout",
     "output_type": "stream",
     "text": [
      "Epoch 224:  89%|████████▉ | 58/65 [00:44<00:05,  1.32it/s, loss=0.126, v_num=13, train_loss=0.138, train_accuracy=0.926, val_loss=0.352, val_accuracy=0.869] \n",
      "Validating: 0it [00:00, ?it/s]\u001b[A\n",
      "Validating:   0%|          | 0/8 [00:00<?, ?it/s]\u001b[A\n",
      "Validating:  12%|█▎        | 1/8 [00:03<00:27,  3.87s/it]\u001b[A\n",
      "Epoch 224:  92%|█████████▏| 60/65 [00:48<00:04,  1.25it/s, loss=0.126, v_num=13, train_loss=0.138, train_accuracy=0.926, val_loss=0.352, val_accuracy=0.869]\n",
      "Validating:  38%|███▊      | 3/8 [00:04<00:04,  1.01it/s]\u001b[A\n",
      "Epoch 224:  95%|█████████▌| 62/65 [00:48<00:02,  1.28it/s, loss=0.126, v_num=13, train_loss=0.138, train_accuracy=0.926, val_loss=0.352, val_accuracy=0.869]\n",
      "Validating:  62%|██████▎   | 5/8 [00:04<00:01,  2.07it/s]\u001b[A\n",
      "Epoch 224:  98%|█████████▊| 64/65 [00:48<00:00,  1.31it/s, loss=0.126, v_num=13, train_loss=0.138, train_accuracy=0.926, val_loss=0.352, val_accuracy=0.869]\n",
      "Validating:  88%|████████▊ | 7/8 [00:04<00:00,  3.29it/s]\u001b[A\n",
      "Epoch 224: 100%|██████████| 65/65 [00:49<00:00,  1.32it/s, loss=0.126, v_num=13, train_loss=0.138, train_accuracy=0.926, val_loss=0.318, val_accuracy=0.884]\n",
      "                                                         \u001b[A"
     ]
    },
    {
     "name": "stderr",
     "output_type": "stream",
     "text": [
      "Epoch 224, global step 12824: val_loss was not in top 1\n"
     ]
    },
    {
     "name": "stdout",
     "output_type": "stream",
     "text": [
      "Epoch 225:  89%|████████▉ | 58/65 [00:44<00:05,  1.32it/s, loss=0.136, v_num=13, train_loss=0.155, train_accuracy=0.912, val_loss=0.318, val_accuracy=0.884]  \n",
      "Validating: 0it [00:00, ?it/s]\u001b[A\n",
      "Validating:   0%|          | 0/8 [00:00<?, ?it/s]\u001b[A\n",
      "Validating:  12%|█▎        | 1/8 [00:03<00:27,  3.88s/it]\u001b[A\n",
      "Epoch 225:  92%|█████████▏| 60/65 [00:48<00:04,  1.25it/s, loss=0.136, v_num=13, train_loss=0.155, train_accuracy=0.912, val_loss=0.318, val_accuracy=0.884]\n",
      "Validating:  38%|███▊      | 3/8 [00:04<00:04,  1.00it/s]\u001b[A\n",
      "Epoch 225:  95%|█████████▌| 62/65 [00:48<00:02,  1.28it/s, loss=0.136, v_num=13, train_loss=0.155, train_accuracy=0.912, val_loss=0.318, val_accuracy=0.884]\n",
      "Validating:  62%|██████▎   | 5/8 [00:04<00:01,  2.06it/s]\u001b[A\n",
      "Epoch 225:  98%|█████████▊| 64/65 [00:48<00:00,  1.31it/s, loss=0.136, v_num=13, train_loss=0.155, train_accuracy=0.912, val_loss=0.318, val_accuracy=0.884]\n",
      "Validating:  88%|████████▊ | 7/8 [00:04<00:00,  3.30it/s]\u001b[A\n",
      "Epoch 225: 100%|██████████| 65/65 [00:49<00:00,  1.32it/s, loss=0.136, v_num=13, train_loss=0.155, train_accuracy=0.912, val_loss=0.326, val_accuracy=0.883]\n",
      "                                                         \u001b[A"
     ]
    },
    {
     "name": "stderr",
     "output_type": "stream",
     "text": [
      "Epoch 225, global step 12881: val_loss was not in top 1\n"
     ]
    },
    {
     "name": "stdout",
     "output_type": "stream",
     "text": [
      "Epoch 226:  89%|████████▉ | 58/65 [00:43<00:05,  1.32it/s, loss=0.102, v_num=13, train_loss=0.0456, train_accuracy=0.985, val_loss=0.326, val_accuracy=0.883]\n",
      "Validating: 0it [00:00, ?it/s]\u001b[A\n",
      "Validating:   0%|          | 0/8 [00:00<?, ?it/s]\u001b[A\n",
      "Validating:  12%|█▎        | 1/8 [00:03<00:26,  3.81s/it]\u001b[A\n",
      "Epoch 226:  92%|█████████▏| 60/65 [00:47<00:03,  1.26it/s, loss=0.102, v_num=13, train_loss=0.0456, train_accuracy=0.985, val_loss=0.326, val_accuracy=0.883]\n",
      "Validating:  38%|███▊      | 3/8 [00:04<00:04,  1.02it/s]\u001b[A\n",
      "Epoch 226:  95%|█████████▌| 62/65 [00:48<00:02,  1.29it/s, loss=0.102, v_num=13, train_loss=0.0456, train_accuracy=0.985, val_loss=0.326, val_accuracy=0.883]\n",
      "Validating:  62%|██████▎   | 5/8 [00:04<00:01,  2.08it/s]\u001b[A\n",
      "Epoch 226:  98%|█████████▊| 64/65 [00:48<00:00,  1.32it/s, loss=0.102, v_num=13, train_loss=0.0456, train_accuracy=0.985, val_loss=0.326, val_accuracy=0.883]\n",
      "Validating:  88%|████████▊ | 7/8 [00:04<00:00,  3.30it/s]\u001b[A\n",
      "Epoch 226: 100%|██████████| 65/65 [00:49<00:00,  1.32it/s, loss=0.102, v_num=13, train_loss=0.0456, train_accuracy=0.985, val_loss=0.324, val_accuracy=0.889]\n",
      "                                                         \u001b[A"
     ]
    },
    {
     "name": "stderr",
     "output_type": "stream",
     "text": [
      "Epoch 226, global step 12938: val_loss was not in top 1\n"
     ]
    },
    {
     "name": "stdout",
     "output_type": "stream",
     "text": [
      "Epoch 227:  89%|████████▉ | 58/65 [00:43<00:05,  1.32it/s, loss=0.0808, v_num=13, train_loss=0.050, train_accuracy=0.985, val_loss=0.324, val_accuracy=0.889] \n",
      "Validating: 0it [00:00, ?it/s]\u001b[A\n",
      "Validating:   0%|          | 0/8 [00:00<?, ?it/s]\u001b[A\n",
      "Validating:  12%|█▎        | 1/8 [00:03<00:27,  3.96s/it]\u001b[A\n",
      "Epoch 227:  92%|█████████▏| 60/65 [00:47<00:03,  1.25it/s, loss=0.0808, v_num=13, train_loss=0.050, train_accuracy=0.985, val_loss=0.324, val_accuracy=0.889]\n",
      "Validating:  38%|███▊      | 3/8 [00:04<00:05,  1.01s/it]\u001b[A\n",
      "Epoch 227:  95%|█████████▌| 62/65 [00:48<00:02,  1.28it/s, loss=0.0808, v_num=13, train_loss=0.050, train_accuracy=0.985, val_loss=0.324, val_accuracy=0.889]\n",
      "Validating:  62%|██████▎   | 5/8 [00:04<00:01,  2.03it/s]\u001b[A\n",
      "Epoch 227:  98%|█████████▊| 64/65 [00:48<00:00,  1.32it/s, loss=0.0808, v_num=13, train_loss=0.050, train_accuracy=0.985, val_loss=0.324, val_accuracy=0.889]\n",
      "Validating:  88%|████████▊ | 7/8 [00:04<00:00,  3.23it/s]\u001b[A\n",
      "Epoch 227: 100%|██████████| 65/65 [00:49<00:00,  1.32it/s, loss=0.0808, v_num=13, train_loss=0.050, train_accuracy=0.985, val_loss=0.347, val_accuracy=0.892]\n",
      "                                                         \u001b[A"
     ]
    },
    {
     "name": "stderr",
     "output_type": "stream",
     "text": [
      "Epoch 227, global step 12995: val_loss was not in top 1\n"
     ]
    },
    {
     "name": "stdout",
     "output_type": "stream",
     "text": [
      "Epoch 228:  89%|████████▉ | 58/65 [00:43<00:05,  1.32it/s, loss=0.0792, v_num=13, train_loss=0.0641, train_accuracy=0.971, val_loss=0.347, val_accuracy=0.892]\n",
      "Validating: 0it [00:00, ?it/s]\u001b[A\n",
      "Validating:   0%|          | 0/8 [00:00<?, ?it/s]\u001b[A\n",
      "Validating:  12%|█▎        | 1/8 [00:03<00:27,  3.94s/it]\u001b[A\n",
      "Epoch 228:  92%|█████████▏| 60/65 [00:48<00:04,  1.25it/s, loss=0.0792, v_num=13, train_loss=0.0641, train_accuracy=0.971, val_loss=0.347, val_accuracy=0.892]\n",
      "Validating:  38%|███▊      | 3/8 [00:04<00:05,  1.01s/it]\u001b[A\n",
      "Epoch 228:  95%|█████████▌| 62/65 [00:48<00:02,  1.28it/s, loss=0.0792, v_num=13, train_loss=0.0641, train_accuracy=0.971, val_loss=0.347, val_accuracy=0.892]\n",
      "Validating:  62%|██████▎   | 5/8 [00:04<00:01,  2.04it/s]\u001b[A\n",
      "Epoch 228:  98%|█████████▊| 64/65 [00:48<00:00,  1.31it/s, loss=0.0792, v_num=13, train_loss=0.0641, train_accuracy=0.971, val_loss=0.347, val_accuracy=0.892]\n",
      "Validating:  88%|████████▊ | 7/8 [00:04<00:00,  3.25it/s]\u001b[A\n",
      "Epoch 228: 100%|██████████| 65/65 [00:49<00:00,  1.32it/s, loss=0.0792, v_num=13, train_loss=0.0641, train_accuracy=0.971, val_loss=0.340, val_accuracy=0.894]\n",
      "                                                         \u001b[A"
     ]
    },
    {
     "name": "stderr",
     "output_type": "stream",
     "text": [
      "Epoch 228, global step 13052: val_loss was not in top 1\n"
     ]
    },
    {
     "name": "stdout",
     "output_type": "stream",
     "text": [
      "Epoch 229:  89%|████████▉ | 58/65 [00:43<00:05,  1.33it/s, loss=0.0767, v_num=13, train_loss=0.117, train_accuracy=0.956, val_loss=0.340, val_accuracy=0.894] \n",
      "Validating: 0it [00:00, ?it/s]\u001b[A\n",
      "Validating:   0%|          | 0/8 [00:00<?, ?it/s]\u001b[A\n",
      "Validating:  12%|█▎        | 1/8 [00:03<00:27,  3.86s/it]\u001b[A\n",
      "Epoch 229:  92%|█████████▏| 60/65 [00:47<00:03,  1.26it/s, loss=0.0767, v_num=13, train_loss=0.117, train_accuracy=0.956, val_loss=0.340, val_accuracy=0.894]\n",
      "Validating:  38%|███▊      | 3/8 [00:04<00:04,  1.01it/s]\u001b[A\n",
      "Epoch 229:  95%|█████████▌| 62/65 [00:48<00:02,  1.29it/s, loss=0.0767, v_num=13, train_loss=0.117, train_accuracy=0.956, val_loss=0.340, val_accuracy=0.894]\n",
      "Validating:  62%|██████▎   | 5/8 [00:04<00:01,  2.06it/s]\u001b[A\n",
      "Epoch 229:  98%|█████████▊| 64/65 [00:48<00:00,  1.32it/s, loss=0.0767, v_num=13, train_loss=0.117, train_accuracy=0.956, val_loss=0.340, val_accuracy=0.894]\n",
      "Validating:  88%|████████▊ | 7/8 [00:04<00:00,  3.26it/s]\u001b[A\n",
      "Epoch 229: 100%|██████████| 65/65 [00:49<00:00,  1.32it/s, loss=0.0767, v_num=13, train_loss=0.117, train_accuracy=0.956, val_loss=0.301, val_accuracy=0.906]\n",
      "                                                         \u001b[A"
     ]
    },
    {
     "name": "stderr",
     "output_type": "stream",
     "text": [
      "Epoch 229, global step 13109: val_loss was not in top 1\n"
     ]
    },
    {
     "name": "stdout",
     "output_type": "stream",
     "text": [
      "Epoch 230:  89%|████████▉ | 58/65 [00:43<00:05,  1.32it/s, loss=0.0625, v_num=13, train_loss=0.0649, train_accuracy=0.971, val_loss=0.301, val_accuracy=0.906]\n",
      "Validating: 0it [00:00, ?it/s]\u001b[A\n",
      "Validating:   0%|          | 0/8 [00:00<?, ?it/s]\u001b[A\n",
      "Validating:  12%|█▎        | 1/8 [00:03<00:27,  3.86s/it]\u001b[A\n",
      "Epoch 230:  92%|█████████▏| 60/65 [00:47<00:03,  1.25it/s, loss=0.0625, v_num=13, train_loss=0.0649, train_accuracy=0.971, val_loss=0.301, val_accuracy=0.906]\n",
      "Validating:  38%|███▊      | 3/8 [00:04<00:04,  1.01it/s]\u001b[A\n",
      "Epoch 230:  95%|█████████▌| 62/65 [00:48<00:02,  1.29it/s, loss=0.0625, v_num=13, train_loss=0.0649, train_accuracy=0.971, val_loss=0.301, val_accuracy=0.906]\n",
      "Validating:  62%|██████▎   | 5/8 [00:04<00:01,  2.07it/s]\u001b[A\n",
      "Epoch 230:  98%|█████████▊| 64/65 [00:48<00:00,  1.32it/s, loss=0.0625, v_num=13, train_loss=0.0649, train_accuracy=0.971, val_loss=0.301, val_accuracy=0.906]\n",
      "Validating:  88%|████████▊ | 7/8 [00:04<00:00,  3.28it/s]\u001b[A\n",
      "Epoch 230: 100%|██████████| 65/65 [00:49<00:00,  1.32it/s, loss=0.0625, v_num=13, train_loss=0.0649, train_accuracy=0.971, val_loss=0.294, val_accuracy=0.911]\n",
      "                                                         \u001b[A"
     ]
    },
    {
     "name": "stderr",
     "output_type": "stream",
     "text": [
      "Epoch 230, global step 13166: val_loss was not in top 1\n"
     ]
    },
    {
     "name": "stdout",
     "output_type": "stream",
     "text": [
      "Epoch 231:  89%|████████▉ | 58/65 [00:43<00:05,  1.32it/s, loss=0.0579, v_num=13, train_loss=0.0692, train_accuracy=0.985, val_loss=0.294, val_accuracy=0.911]\n",
      "Validating: 0it [00:00, ?it/s]\u001b[A\n",
      "Validating:   0%|          | 0/8 [00:00<?, ?it/s]\u001b[A\n",
      "Validating:  12%|█▎        | 1/8 [00:03<00:26,  3.75s/it]\u001b[A\n",
      "Epoch 231:  92%|█████████▏| 60/65 [00:47<00:03,  1.25it/s, loss=0.0579, v_num=13, train_loss=0.0692, train_accuracy=0.985, val_loss=0.294, val_accuracy=0.911]\n",
      "Validating:  38%|███▊      | 3/8 [00:04<00:04,  1.03it/s]\u001b[A\n",
      "Epoch 231:  95%|█████████▌| 62/65 [00:48<00:02,  1.29it/s, loss=0.0579, v_num=13, train_loss=0.0692, train_accuracy=0.985, val_loss=0.294, val_accuracy=0.911]\n",
      "Validating:  62%|██████▎   | 5/8 [00:04<00:01,  2.11it/s]\u001b[A\n",
      "Epoch 231:  98%|█████████▊| 64/65 [00:48<00:00,  1.32it/s, loss=0.0579, v_num=13, train_loss=0.0692, train_accuracy=0.985, val_loss=0.294, val_accuracy=0.911]\n",
      "Validating:  88%|████████▊ | 7/8 [00:04<00:00,  3.34it/s]\u001b[A\n",
      "Epoch 231: 100%|██████████| 65/65 [00:49<00:00,  1.32it/s, loss=0.0579, v_num=13, train_loss=0.0692, train_accuracy=0.985, val_loss=0.337, val_accuracy=0.900]\n",
      "                                                         \u001b[A"
     ]
    },
    {
     "name": "stderr",
     "output_type": "stream",
     "text": [
      "Epoch 231, global step 13223: val_loss was not in top 1\n"
     ]
    },
    {
     "name": "stdout",
     "output_type": "stream",
     "text": [
      "Epoch 232:  89%|████████▉ | 58/65 [00:44<00:05,  1.32it/s, loss=0.058, v_num=13, train_loss=0.0244, train_accuracy=1.000, val_loss=0.337, val_accuracy=0.900] \n",
      "Validating: 0it [00:00, ?it/s]\u001b[A\n",
      "Validating:   0%|          | 0/8 [00:00<?, ?it/s]\u001b[A\n",
      "Validating:  12%|█▎        | 1/8 [00:03<00:26,  3.82s/it]\u001b[A\n",
      "Epoch 232:  92%|█████████▏| 60/65 [00:48<00:04,  1.25it/s, loss=0.058, v_num=13, train_loss=0.0244, train_accuracy=1.000, val_loss=0.337, val_accuracy=0.900]\n",
      "Validating:  38%|███▊      | 3/8 [00:04<00:04,  1.02it/s]\u001b[A\n",
      "Epoch 232:  95%|█████████▌| 62/65 [00:48<00:02,  1.28it/s, loss=0.058, v_num=13, train_loss=0.0244, train_accuracy=1.000, val_loss=0.337, val_accuracy=0.900]\n",
      "Validating:  62%|██████▎   | 5/8 [00:04<00:01,  2.09it/s]\u001b[A\n",
      "Epoch 232:  98%|█████████▊| 64/65 [00:48<00:00,  1.31it/s, loss=0.058, v_num=13, train_loss=0.0244, train_accuracy=1.000, val_loss=0.337, val_accuracy=0.900]\n",
      "Validating:  88%|████████▊ | 7/8 [00:04<00:00,  3.33it/s]\u001b[A\n",
      "Epoch 232: 100%|██████████| 65/65 [00:49<00:00,  1.32it/s, loss=0.058, v_num=13, train_loss=0.0244, train_accuracy=1.000, val_loss=0.342, val_accuracy=0.903]\n",
      "                                                         \u001b[A"
     ]
    },
    {
     "name": "stderr",
     "output_type": "stream",
     "text": [
      "Epoch 232, global step 13280: val_loss was not in top 1\n"
     ]
    },
    {
     "name": "stdout",
     "output_type": "stream",
     "text": [
      "Epoch 233:  89%|████████▉ | 58/65 [00:43<00:05,  1.32it/s, loss=0.0542, v_num=13, train_loss=0.0758, train_accuracy=0.956, val_loss=0.342, val_accuracy=0.903]\n",
      "Validating: 0it [00:00, ?it/s]\u001b[A\n",
      "Validating:   0%|          | 0/8 [00:00<?, ?it/s]\u001b[A\n",
      "Validating:  12%|█▎        | 1/8 [00:04<00:28,  4.03s/it]\u001b[A\n",
      "Epoch 233:  92%|█████████▏| 60/65 [00:48<00:04,  1.24it/s, loss=0.0542, v_num=13, train_loss=0.0758, train_accuracy=0.956, val_loss=0.342, val_accuracy=0.903]\n",
      "Validating:  38%|███▊      | 3/8 [00:04<00:05,  1.03s/it]\u001b[A\n",
      "Epoch 233:  95%|█████████▌| 62/65 [00:48<00:02,  1.28it/s, loss=0.0542, v_num=13, train_loss=0.0758, train_accuracy=0.956, val_loss=0.342, val_accuracy=0.903]\n",
      "Validating:  62%|██████▎   | 5/8 [00:04<00:01,  2.01it/s]\u001b[A\n",
      "Epoch 233:  98%|█████████▊| 64/65 [00:48<00:00,  1.31it/s, loss=0.0542, v_num=13, train_loss=0.0758, train_accuracy=0.956, val_loss=0.342, val_accuracy=0.903]\n",
      "Validating:  88%|████████▊ | 7/8 [00:05<00:00,  3.22it/s]\u001b[A\n",
      "Epoch 233: 100%|██████████| 65/65 [00:49<00:00,  1.31it/s, loss=0.0542, v_num=13, train_loss=0.0758, train_accuracy=0.956, val_loss=0.362, val_accuracy=0.898]\n",
      "                                                         \u001b[A"
     ]
    },
    {
     "name": "stderr",
     "output_type": "stream",
     "text": [
      "Epoch 233, global step 13337: val_loss was not in top 1\n"
     ]
    },
    {
     "name": "stdout",
     "output_type": "stream",
     "text": [
      "Epoch 234:  89%|████████▉ | 58/65 [00:43<00:05,  1.32it/s, loss=0.0531, v_num=13, train_loss=0.0764, train_accuracy=0.971, val_loss=0.362, val_accuracy=0.898]\n",
      "Validating: 0it [00:00, ?it/s]\u001b[A\n",
      "Validating:   0%|          | 0/8 [00:00<?, ?it/s]\u001b[A\n",
      "Validating:  12%|█▎        | 1/8 [00:03<00:26,  3.75s/it]\u001b[A\n",
      "Epoch 234:  92%|█████████▏| 60/65 [00:47<00:03,  1.25it/s, loss=0.0531, v_num=13, train_loss=0.0764, train_accuracy=0.971, val_loss=0.362, val_accuracy=0.898]\n",
      "Validating:  38%|███▊      | 3/8 [00:04<00:04,  1.03it/s]\u001b[A\n",
      "Epoch 234:  95%|█████████▌| 62/65 [00:48<00:02,  1.29it/s, loss=0.0531, v_num=13, train_loss=0.0764, train_accuracy=0.971, val_loss=0.362, val_accuracy=0.898]\n",
      "Validating:  62%|██████▎   | 5/8 [00:04<00:01,  2.11it/s]\u001b[A\n",
      "Epoch 234:  98%|█████████▊| 64/65 [00:48<00:00,  1.32it/s, loss=0.0531, v_num=13, train_loss=0.0764, train_accuracy=0.971, val_loss=0.362, val_accuracy=0.898]\n",
      "Validating:  88%|████████▊ | 7/8 [00:04<00:00,  3.35it/s]\u001b[A\n",
      "Epoch 234: 100%|██████████| 65/65 [00:49<00:00,  1.32it/s, loss=0.0531, v_num=13, train_loss=0.0764, train_accuracy=0.971, val_loss=0.308, val_accuracy=0.908]\n",
      "                                                         \u001b[A"
     ]
    },
    {
     "name": "stderr",
     "output_type": "stream",
     "text": [
      "Epoch 234, global step 13394: val_loss was not in top 1\n"
     ]
    },
    {
     "name": "stdout",
     "output_type": "stream",
     "text": [
      "Epoch 235:  89%|████████▉ | 58/65 [00:44<00:05,  1.32it/s, loss=0.0527, v_num=13, train_loss=0.0591, train_accuracy=0.971, val_loss=0.308, val_accuracy=0.908]\n",
      "Validating: 0it [00:00, ?it/s]\u001b[A\n",
      "Validating:   0%|          | 0/8 [00:00<?, ?it/s]\u001b[A\n",
      "Validating:  12%|█▎        | 1/8 [00:04<00:29,  4.17s/it]\u001b[A\n",
      "Epoch 235:  92%|█████████▏| 60/65 [00:48<00:04,  1.24it/s, loss=0.0527, v_num=13, train_loss=0.0591, train_accuracy=0.971, val_loss=0.308, val_accuracy=0.908]\n",
      "Validating:  38%|███▊      | 3/8 [00:04<00:05,  1.06s/it]\u001b[A\n",
      "Epoch 235:  95%|█████████▌| 62/65 [00:48<00:02,  1.27it/s, loss=0.0527, v_num=13, train_loss=0.0591, train_accuracy=0.971, val_loss=0.308, val_accuracy=0.908]\n",
      "Validating:  62%|██████▎   | 5/8 [00:04<00:01,  1.97it/s]\u001b[A\n",
      "Epoch 235:  98%|█████████▊| 64/65 [00:49<00:00,  1.31it/s, loss=0.0527, v_num=13, train_loss=0.0591, train_accuracy=0.971, val_loss=0.308, val_accuracy=0.908]\n",
      "Validating:  88%|████████▊ | 7/8 [00:05<00:00,  3.18it/s]\u001b[A\n",
      "Epoch 235: 100%|██████████| 65/65 [00:49<00:00,  1.31it/s, loss=0.0527, v_num=13, train_loss=0.0591, train_accuracy=0.971, val_loss=0.313, val_accuracy=0.915]\n",
      "                                                         \u001b[A"
     ]
    },
    {
     "name": "stderr",
     "output_type": "stream",
     "text": [
      "Epoch 235, global step 13451: val_loss was not in top 1\n"
     ]
    },
    {
     "name": "stdout",
     "output_type": "stream",
     "text": [
      "Epoch 236:  89%|████████▉ | 58/65 [00:43<00:05,  1.32it/s, loss=0.0471, v_num=13, train_loss=0.0228, train_accuracy=0.985, val_loss=0.313, val_accuracy=0.915]\n",
      "Validating: 0it [00:00, ?it/s]\u001b[A\n",
      "Validating:   0%|          | 0/8 [00:00<?, ?it/s]\u001b[A\n",
      "Validating:  12%|█▎        | 1/8 [00:03<00:27,  3.86s/it]\u001b[A\n",
      "Epoch 236:  92%|█████████▏| 60/65 [00:47<00:03,  1.25it/s, loss=0.0471, v_num=13, train_loss=0.0228, train_accuracy=0.985, val_loss=0.313, val_accuracy=0.915]\n",
      "Validating:  38%|███▊      | 3/8 [00:04<00:04,  1.01it/s]\u001b[A\n",
      "Epoch 236:  95%|█████████▌| 62/65 [00:48<00:02,  1.28it/s, loss=0.0471, v_num=13, train_loss=0.0228, train_accuracy=0.985, val_loss=0.313, val_accuracy=0.915]\n",
      "Validating:  62%|██████▎   | 5/8 [00:04<00:01,  2.06it/s]\u001b[A\n",
      "Epoch 236:  98%|█████████▊| 64/65 [00:48<00:00,  1.32it/s, loss=0.0471, v_num=13, train_loss=0.0228, train_accuracy=0.985, val_loss=0.313, val_accuracy=0.915]\n",
      "Validating:  88%|████████▊ | 7/8 [00:04<00:00,  3.26it/s]\u001b[A\n",
      "Epoch 236: 100%|██████████| 65/65 [00:49<00:00,  1.32it/s, loss=0.0471, v_num=13, train_loss=0.0228, train_accuracy=0.985, val_loss=0.326, val_accuracy=0.912]\n",
      "                                                         \u001b[A"
     ]
    },
    {
     "name": "stderr",
     "output_type": "stream",
     "text": [
      "Epoch 236, global step 13508: val_loss was not in top 1\n"
     ]
    },
    {
     "name": "stdout",
     "output_type": "stream",
     "text": [
      "Epoch 237:  89%|████████▉ | 58/65 [00:43<00:05,  1.32it/s, loss=0.047, v_num=13, train_loss=0.00971, train_accuracy=1.000, val_loss=0.326, val_accuracy=0.912]\n",
      "Validating: 0it [00:00, ?it/s]\u001b[A\n",
      "Validating:   0%|          | 0/8 [00:00<?, ?it/s]\u001b[A\n",
      "Validating:  12%|█▎        | 1/8 [00:04<00:28,  4.06s/it]\u001b[A\n",
      "Epoch 237:  92%|█████████▏| 60/65 [00:48<00:04,  1.24it/s, loss=0.047, v_num=13, train_loss=0.00971, train_accuracy=1.000, val_loss=0.326, val_accuracy=0.912]\n",
      "Validating:  38%|███▊      | 3/8 [00:04<00:05,  1.03s/it]\u001b[A\n",
      "Epoch 237:  95%|█████████▌| 62/65 [00:48<00:02,  1.28it/s, loss=0.047, v_num=13, train_loss=0.00971, train_accuracy=1.000, val_loss=0.326, val_accuracy=0.912]\n",
      "Validating:  62%|██████▎   | 5/8 [00:04<00:01,  2.00it/s]\u001b[A\n",
      "Epoch 237:  98%|█████████▊| 64/65 [00:48<00:00,  1.31it/s, loss=0.047, v_num=13, train_loss=0.00971, train_accuracy=1.000, val_loss=0.326, val_accuracy=0.912]\n",
      "Validating:  88%|████████▊ | 7/8 [00:05<00:00,  3.20it/s]\u001b[A\n",
      "Epoch 237: 100%|██████████| 65/65 [00:49<00:00,  1.31it/s, loss=0.047, v_num=13, train_loss=0.00971, train_accuracy=1.000, val_loss=0.326, val_accuracy=0.914]\n",
      "                                                         \u001b[A"
     ]
    },
    {
     "name": "stderr",
     "output_type": "stream",
     "text": [
      "Epoch 237, global step 13565: val_loss was not in top 1\n"
     ]
    },
    {
     "name": "stdout",
     "output_type": "stream",
     "text": [
      "Epoch 238:  89%|████████▉ | 58/65 [00:43<00:05,  1.32it/s, loss=0.0558, v_num=13, train_loss=0.0807, train_accuracy=0.971, val_loss=0.326, val_accuracy=0.914]\n",
      "Validating: 0it [00:00, ?it/s]\u001b[A\n",
      "Validating:   0%|          | 0/8 [00:00<?, ?it/s]\u001b[A\n",
      "Validating:  12%|█▎        | 1/8 [00:03<00:26,  3.76s/it]\u001b[A\n",
      "Epoch 238:  92%|█████████▏| 60/65 [00:47<00:03,  1.25it/s, loss=0.0558, v_num=13, train_loss=0.0807, train_accuracy=0.971, val_loss=0.326, val_accuracy=0.914]\n",
      "Validating:  38%|███▊      | 3/8 [00:04<00:04,  1.03it/s]\u001b[A\n",
      "Epoch 238:  95%|█████████▌| 62/65 [00:48<00:02,  1.29it/s, loss=0.0558, v_num=13, train_loss=0.0807, train_accuracy=0.971, val_loss=0.326, val_accuracy=0.914]\n",
      "Validating:  62%|██████▎   | 5/8 [00:04<00:01,  2.11it/s]\u001b[A\n",
      "Epoch 238:  98%|█████████▊| 64/65 [00:48<00:00,  1.32it/s, loss=0.0558, v_num=13, train_loss=0.0807, train_accuracy=0.971, val_loss=0.326, val_accuracy=0.914]\n",
      "Validating:  88%|████████▊ | 7/8 [00:04<00:00,  3.32it/s]\u001b[A\n",
      "Epoch 238: 100%|██████████| 65/65 [00:49<00:00,  1.32it/s, loss=0.0558, v_num=13, train_loss=0.0807, train_accuracy=0.971, val_loss=0.289, val_accuracy=0.918]\n",
      "                                                         \u001b[A"
     ]
    },
    {
     "name": "stderr",
     "output_type": "stream",
     "text": [
      "Epoch 238, global step 13622: val_loss was not in top 1\n"
     ]
    },
    {
     "name": "stdout",
     "output_type": "stream",
     "text": [
      "Epoch 239:  89%|████████▉ | 58/65 [00:44<00:05,  1.31it/s, loss=0.0409, v_num=13, train_loss=0.0192, train_accuracy=1.000, val_loss=0.289, val_accuracy=0.918]\n",
      "Validating: 0it [00:00, ?it/s]\u001b[A\n",
      "Validating:   0%|          | 0/8 [00:00<?, ?it/s]\u001b[A\n",
      "Validating:  12%|█▎        | 1/8 [00:04<00:28,  4.02s/it]\u001b[A\n",
      "Epoch 239:  92%|█████████▏| 60/65 [00:48<00:04,  1.24it/s, loss=0.0409, v_num=13, train_loss=0.0192, train_accuracy=1.000, val_loss=0.289, val_accuracy=0.918]\n",
      "Validating:  38%|███▊      | 3/8 [00:04<00:05,  1.03s/it]\u001b[A\n",
      "Epoch 239:  95%|█████████▌| 62/65 [00:48<00:02,  1.27it/s, loss=0.0409, v_num=13, train_loss=0.0192, train_accuracy=1.000, val_loss=0.289, val_accuracy=0.918]\n",
      "Validating:  62%|██████▎   | 5/8 [00:04<00:01,  2.01it/s]\u001b[A\n",
      "Epoch 239:  98%|█████████▊| 64/65 [00:49<00:00,  1.30it/s, loss=0.0409, v_num=13, train_loss=0.0192, train_accuracy=1.000, val_loss=0.289, val_accuracy=0.918]\n",
      "Validating:  88%|████████▊ | 7/8 [00:05<00:00,  3.22it/s]\u001b[A\n",
      "Epoch 239: 100%|██████████| 65/65 [00:49<00:00,  1.31it/s, loss=0.0409, v_num=13, train_loss=0.0192, train_accuracy=1.000, val_loss=0.336, val_accuracy=0.902]\n",
      "                                                         \u001b[A"
     ]
    },
    {
     "name": "stderr",
     "output_type": "stream",
     "text": [
      "Epoch 239, global step 13679: val_loss was not in top 1\n"
     ]
    },
    {
     "name": "stdout",
     "output_type": "stream",
     "text": [
      "Epoch 240:  89%|████████▉ | 58/65 [00:44<00:05,  1.32it/s, loss=0.0859, v_num=13, train_loss=0.0697, train_accuracy=0.971, val_loss=0.336, val_accuracy=0.902]\n",
      "Validating: 0it [00:00, ?it/s]\u001b[A\n",
      "Validating:   0%|          | 0/8 [00:00<?, ?it/s]\u001b[A\n",
      "Validating:  12%|█▎        | 1/8 [00:03<00:27,  3.96s/it]\u001b[A\n",
      "Epoch 240:  92%|█████████▏| 60/65 [00:48<00:04,  1.24it/s, loss=0.0859, v_num=13, train_loss=0.0697, train_accuracy=0.971, val_loss=0.336, val_accuracy=0.902]\n",
      "Validating:  38%|███▊      | 3/8 [00:04<00:05,  1.02s/it]\u001b[A\n",
      "Epoch 240:  95%|█████████▌| 62/65 [00:48<00:02,  1.28it/s, loss=0.0859, v_num=13, train_loss=0.0697, train_accuracy=0.971, val_loss=0.336, val_accuracy=0.902]\n",
      "Validating:  62%|██████▎   | 5/8 [00:04<00:01,  2.03it/s]\u001b[A\n",
      "Epoch 240:  98%|█████████▊| 64/65 [00:48<00:00,  1.31it/s, loss=0.0859, v_num=13, train_loss=0.0697, train_accuracy=0.971, val_loss=0.336, val_accuracy=0.902]\n",
      "Validating:  88%|████████▊ | 7/8 [00:04<00:00,  3.24it/s]\u001b[A\n",
      "Epoch 240: 100%|██████████| 65/65 [00:49<00:00,  1.31it/s, loss=0.0859, v_num=13, train_loss=0.0697, train_accuracy=0.971, val_loss=0.336, val_accuracy=0.904]\n",
      "                                                         \u001b[A"
     ]
    },
    {
     "name": "stderr",
     "output_type": "stream",
     "text": [
      "Epoch 240, global step 13736: val_loss was not in top 1\n"
     ]
    },
    {
     "name": "stdout",
     "output_type": "stream",
     "text": [
      "Epoch 241:  89%|████████▉ | 58/65 [00:43<00:05,  1.32it/s, loss=0.0621, v_num=13, train_loss=0.0559, train_accuracy=0.971, val_loss=0.336, val_accuracy=0.904]\n",
      "Validating: 0it [00:00, ?it/s]\u001b[A\n",
      "Validating:   0%|          | 0/8 [00:00<?, ?it/s]\u001b[A\n",
      "Validating:  12%|█▎        | 1/8 [00:03<00:27,  3.89s/it]\u001b[A\n",
      "Epoch 241:  92%|█████████▏| 60/65 [00:48<00:04,  1.25it/s, loss=0.0621, v_num=13, train_loss=0.0559, train_accuracy=0.971, val_loss=0.336, val_accuracy=0.904]\n",
      "Validating:  38%|███▊      | 3/8 [00:04<00:04,  1.00it/s]\u001b[A\n",
      "Epoch 241:  95%|█████████▌| 62/65 [00:48<00:02,  1.28it/s, loss=0.0621, v_num=13, train_loss=0.0559, train_accuracy=0.971, val_loss=0.336, val_accuracy=0.904]\n",
      "Validating:  62%|██████▎   | 5/8 [00:04<00:01,  2.05it/s]\u001b[A\n",
      "Epoch 241:  98%|█████████▊| 64/65 [00:48<00:00,  1.31it/s, loss=0.0621, v_num=13, train_loss=0.0559, train_accuracy=0.971, val_loss=0.336, val_accuracy=0.904]\n",
      "Validating:  88%|████████▊ | 7/8 [00:04<00:00,  3.25it/s]\u001b[A\n",
      "Epoch 241: 100%|██████████| 65/65 [00:49<00:00,  1.32it/s, loss=0.0621, v_num=13, train_loss=0.0559, train_accuracy=0.971, val_loss=0.283, val_accuracy=0.922]\n",
      "                                                         \u001b[A"
     ]
    },
    {
     "name": "stderr",
     "output_type": "stream",
     "text": [
      "Epoch 241, global step 13793: val_loss was not in top 1\n"
     ]
    },
    {
     "name": "stdout",
     "output_type": "stream",
     "text": [
      "Epoch 242:  89%|████████▉ | 58/65 [00:43<00:05,  1.32it/s, loss=0.0527, v_num=13, train_loss=0.0606, train_accuracy=0.971, val_loss=0.283, val_accuracy=0.922]\n",
      "Validating: 0it [00:00, ?it/s]\u001b[A\n",
      "Validating:   0%|          | 0/8 [00:00<?, ?it/s]\u001b[A\n",
      "Validating:  12%|█▎        | 1/8 [00:03<00:27,  3.88s/it]\u001b[A\n",
      "Epoch 242:  92%|█████████▏| 60/65 [00:48<00:04,  1.25it/s, loss=0.0527, v_num=13, train_loss=0.0606, train_accuracy=0.971, val_loss=0.283, val_accuracy=0.922]\n",
      "Validating:  38%|███▊      | 3/8 [00:04<00:04,  1.00it/s]\u001b[A\n",
      "Epoch 242:  95%|█████████▌| 62/65 [00:48<00:02,  1.28it/s, loss=0.0527, v_num=13, train_loss=0.0606, train_accuracy=0.971, val_loss=0.283, val_accuracy=0.922]\n",
      "Validating:  62%|██████▎   | 5/8 [00:04<00:01,  2.06it/s]\u001b[A\n",
      "Epoch 242:  98%|█████████▊| 64/65 [00:48<00:00,  1.31it/s, loss=0.0527, v_num=13, train_loss=0.0606, train_accuracy=0.971, val_loss=0.283, val_accuracy=0.922]\n",
      "Validating:  88%|████████▊ | 7/8 [00:04<00:00,  3.29it/s]\u001b[A\n",
      "Epoch 242: 100%|██████████| 65/65 [00:49<00:00,  1.32it/s, loss=0.0527, v_num=13, train_loss=0.0606, train_accuracy=0.971, val_loss=0.303, val_accuracy=0.921]\n",
      "                                                         \u001b[A"
     ]
    },
    {
     "name": "stderr",
     "output_type": "stream",
     "text": [
      "Epoch 242, global step 13850: val_loss was not in top 1\n"
     ]
    },
    {
     "name": "stdout",
     "output_type": "stream",
     "text": [
      "Epoch 243:  89%|████████▉ | 58/65 [00:43<00:05,  1.32it/s, loss=0.0439, v_num=13, train_loss=0.0195, train_accuracy=1.000, val_loss=0.303, val_accuracy=0.921]\n",
      "Validating: 0it [00:00, ?it/s]\u001b[A\n",
      "Validating:   0%|          | 0/8 [00:00<?, ?it/s]\u001b[A\n",
      "Validating:  12%|█▎        | 1/8 [00:03<00:26,  3.84s/it]\u001b[A\n",
      "Epoch 243:  92%|█████████▏| 60/65 [00:47<00:03,  1.25it/s, loss=0.0439, v_num=13, train_loss=0.0195, train_accuracy=1.000, val_loss=0.303, val_accuracy=0.921]\n",
      "Validating:  38%|███▊      | 3/8 [00:04<00:04,  1.01it/s]\u001b[A\n",
      "Epoch 243:  95%|█████████▌| 62/65 [00:48<00:02,  1.28it/s, loss=0.0439, v_num=13, train_loss=0.0195, train_accuracy=1.000, val_loss=0.303, val_accuracy=0.921]\n",
      "Validating:  62%|██████▎   | 5/8 [00:04<00:01,  2.06it/s]\u001b[A\n",
      "Epoch 243:  98%|█████████▊| 64/65 [00:48<00:00,  1.32it/s, loss=0.0439, v_num=13, train_loss=0.0195, train_accuracy=1.000, val_loss=0.303, val_accuracy=0.921]\n",
      "Validating:  88%|████████▊ | 7/8 [00:04<00:00,  3.27it/s]\u001b[A\n",
      "Epoch 243: 100%|██████████| 65/65 [00:49<00:00,  1.32it/s, loss=0.0439, v_num=13, train_loss=0.0195, train_accuracy=1.000, val_loss=0.291, val_accuracy=0.918]\n",
      "                                                         \u001b[A"
     ]
    },
    {
     "name": "stderr",
     "output_type": "stream",
     "text": [
      "Epoch 243, global step 13907: val_loss was not in top 1\n"
     ]
    },
    {
     "name": "stdout",
     "output_type": "stream",
     "text": [
      "Epoch 244:  89%|████████▉ | 58/65 [00:44<00:05,  1.31it/s, loss=0.0434, v_num=13, train_loss=0.0856, train_accuracy=0.971, val_loss=0.291, val_accuracy=0.918]\n",
      "Validating: 0it [00:00, ?it/s]\u001b[A\n",
      "Validating:   0%|          | 0/8 [00:00<?, ?it/s]\u001b[A\n",
      "Validating:  12%|█▎        | 1/8 [00:03<00:27,  3.90s/it]\u001b[A\n",
      "Epoch 244:  92%|█████████▏| 60/65 [00:48<00:04,  1.24it/s, loss=0.0434, v_num=13, train_loss=0.0856, train_accuracy=0.971, val_loss=0.291, val_accuracy=0.918]\n",
      "Validating:  38%|███▊      | 3/8 [00:04<00:04,  1.00it/s]\u001b[A\n",
      "Epoch 244:  95%|█████████▌| 62/65 [00:48<00:02,  1.28it/s, loss=0.0434, v_num=13, train_loss=0.0856, train_accuracy=0.971, val_loss=0.291, val_accuracy=0.918]\n",
      "Validating:  62%|██████▎   | 5/8 [00:04<00:01,  2.06it/s]\u001b[A\n",
      "Epoch 244:  98%|█████████▊| 64/65 [00:48<00:00,  1.31it/s, loss=0.0434, v_num=13, train_loss=0.0856, train_accuracy=0.971, val_loss=0.291, val_accuracy=0.918]\n",
      "Validating:  88%|████████▊ | 7/8 [00:04<00:00,  3.27it/s]\u001b[A\n",
      "Epoch 244: 100%|██████████| 65/65 [00:49<00:00,  1.31it/s, loss=0.0434, v_num=13, train_loss=0.0856, train_accuracy=0.971, val_loss=0.304, val_accuracy=0.923]\n",
      "                                                         \u001b[A"
     ]
    },
    {
     "name": "stderr",
     "output_type": "stream",
     "text": [
      "Epoch 244, global step 13964: val_loss was not in top 1\n"
     ]
    },
    {
     "name": "stdout",
     "output_type": "stream",
     "text": [
      "Epoch 245:  89%|████████▉ | 58/65 [00:43<00:05,  1.32it/s, loss=0.0396, v_num=13, train_loss=0.0141, train_accuracy=1.000, val_loss=0.304, val_accuracy=0.923] \n",
      "Validating: 0it [00:00, ?it/s]\u001b[A\n",
      "Validating:   0%|          | 0/8 [00:00<?, ?it/s]\u001b[A\n",
      "Validating:  12%|█▎        | 1/8 [00:03<00:27,  3.86s/it]\u001b[A\n",
      "Epoch 245:  92%|█████████▏| 60/65 [00:47<00:03,  1.25it/s, loss=0.0396, v_num=13, train_loss=0.0141, train_accuracy=1.000, val_loss=0.304, val_accuracy=0.923]\n",
      "Validating:  38%|███▊      | 3/8 [00:04<00:04,  1.01it/s]\u001b[A\n",
      "Epoch 245:  95%|█████████▌| 62/65 [00:48<00:02,  1.28it/s, loss=0.0396, v_num=13, train_loss=0.0141, train_accuracy=1.000, val_loss=0.304, val_accuracy=0.923]\n",
      "Validating:  62%|██████▎   | 5/8 [00:04<00:01,  2.07it/s]\u001b[A\n",
      "Epoch 245:  98%|█████████▊| 64/65 [00:48<00:00,  1.32it/s, loss=0.0396, v_num=13, train_loss=0.0141, train_accuracy=1.000, val_loss=0.304, val_accuracy=0.923]\n",
      "Validating:  88%|████████▊ | 7/8 [00:04<00:00,  3.28it/s]\u001b[A\n",
      "Epoch 245: 100%|██████████| 65/65 [00:49<00:00,  1.32it/s, loss=0.0396, v_num=13, train_loss=0.0141, train_accuracy=1.000, val_loss=0.310, val_accuracy=0.919]\n",
      "                                                         \u001b[A"
     ]
    },
    {
     "name": "stderr",
     "output_type": "stream",
     "text": [
      "Epoch 245, global step 14021: val_loss was not in top 1\n"
     ]
    },
    {
     "name": "stdout",
     "output_type": "stream",
     "text": [
      "Epoch 246:  89%|████████▉ | 58/65 [00:43<00:05,  1.32it/s, loss=0.0816, v_num=13, train_loss=0.0317, train_accuracy=0.985, val_loss=0.310, val_accuracy=0.919]\n",
      "Validating: 0it [00:00, ?it/s]\u001b[A\n",
      "Validating:   0%|          | 0/8 [00:00<?, ?it/s]\u001b[A\n",
      "Validating:  12%|█▎        | 1/8 [00:03<00:27,  3.89s/it]\u001b[A\n",
      "Epoch 246:  92%|█████████▏| 60/65 [00:47<00:03,  1.25it/s, loss=0.0816, v_num=13, train_loss=0.0317, train_accuracy=0.985, val_loss=0.310, val_accuracy=0.919]\n",
      "Validating:  38%|███▊      | 3/8 [00:04<00:05,  1.00s/it]\u001b[A\n",
      "Epoch 246:  95%|█████████▌| 62/65 [00:48<00:02,  1.28it/s, loss=0.0816, v_num=13, train_loss=0.0317, train_accuracy=0.985, val_loss=0.310, val_accuracy=0.919]\n",
      "Validating:  62%|██████▎   | 5/8 [00:04<00:01,  2.06it/s]\u001b[A\n",
      "Epoch 246:  98%|█████████▊| 64/65 [00:48<00:00,  1.32it/s, loss=0.0816, v_num=13, train_loss=0.0317, train_accuracy=0.985, val_loss=0.310, val_accuracy=0.919]\n",
      "Validating:  88%|████████▊ | 7/8 [00:04<00:00,  3.26it/s]\u001b[A\n",
      "Epoch 246: 100%|██████████| 65/65 [00:49<00:00,  1.32it/s, loss=0.0816, v_num=13, train_loss=0.0317, train_accuracy=0.985, val_loss=0.323, val_accuracy=0.908]\n",
      "                                                         \u001b[A"
     ]
    },
    {
     "name": "stderr",
     "output_type": "stream",
     "text": [
      "Epoch 246, global step 14078: val_loss was not in top 1\n"
     ]
    },
    {
     "name": "stdout",
     "output_type": "stream",
     "text": [
      "Epoch 247:  89%|████████▉ | 58/65 [00:44<00:05,  1.31it/s, loss=0.0594, v_num=13, train_loss=0.0749, train_accuracy=0.971, val_loss=0.323, val_accuracy=0.908]\n",
      "Validating: 0it [00:00, ?it/s]\u001b[A\n",
      "Validating:   0%|          | 0/8 [00:00<?, ?it/s]\u001b[A\n",
      "Validating:  12%|█▎        | 1/8 [00:03<00:27,  3.96s/it]\u001b[A\n",
      "Epoch 247:  92%|█████████▏| 60/65 [00:48<00:04,  1.24it/s, loss=0.0594, v_num=13, train_loss=0.0749, train_accuracy=0.971, val_loss=0.323, val_accuracy=0.908]\n",
      "Validating:  38%|███▊      | 3/8 [00:04<00:05,  1.01s/it]\u001b[A\n",
      "Epoch 247:  95%|█████████▌| 62/65 [00:48<00:02,  1.27it/s, loss=0.0594, v_num=13, train_loss=0.0749, train_accuracy=0.971, val_loss=0.323, val_accuracy=0.908]\n",
      "Validating:  62%|██████▎   | 5/8 [00:04<00:01,  2.03it/s]\u001b[A\n",
      "Epoch 247:  98%|█████████▊| 64/65 [00:49<00:00,  1.30it/s, loss=0.0594, v_num=13, train_loss=0.0749, train_accuracy=0.971, val_loss=0.323, val_accuracy=0.908]\n",
      "Validating:  88%|████████▊ | 7/8 [00:04<00:00,  3.26it/s]\u001b[A\n",
      "Epoch 247: 100%|██████████| 65/65 [00:49<00:00,  1.31it/s, loss=0.0594, v_num=13, train_loss=0.0749, train_accuracy=0.971, val_loss=0.415, val_accuracy=0.891]\n",
      "                                                         \u001b[A"
     ]
    },
    {
     "name": "stderr",
     "output_type": "stream",
     "text": [
      "Epoch 247, global step 14135: val_loss was not in top 1\n"
     ]
    },
    {
     "name": "stdout",
     "output_type": "stream",
     "text": [
      "Epoch 248:  89%|████████▉ | 58/65 [00:44<00:05,  1.31it/s, loss=0.0593, v_num=13, train_loss=0.114, train_accuracy=0.985, val_loss=0.415, val_accuracy=0.891] \n",
      "Validating: 0it [00:00, ?it/s]\u001b[A\n",
      "Validating:   0%|          | 0/8 [00:00<?, ?it/s]\u001b[A\n",
      "Validating:  12%|█▎        | 1/8 [00:03<00:26,  3.78s/it]\u001b[A\n",
      "Epoch 248:  92%|█████████▏| 60/65 [00:48<00:04,  1.25it/s, loss=0.0593, v_num=13, train_loss=0.114, train_accuracy=0.985, val_loss=0.415, val_accuracy=0.891]\n",
      "Validating:  38%|███▊      | 3/8 [00:04<00:04,  1.03it/s]\u001b[A\n",
      "Epoch 248:  95%|█████████▌| 62/65 [00:48<00:02,  1.28it/s, loss=0.0593, v_num=13, train_loss=0.114, train_accuracy=0.985, val_loss=0.415, val_accuracy=0.891]\n",
      "Validating:  62%|██████▎   | 5/8 [00:04<00:01,  2.10it/s]\u001b[A\n",
      "Epoch 248:  98%|█████████▊| 64/65 [00:48<00:00,  1.31it/s, loss=0.0593, v_num=13, train_loss=0.114, train_accuracy=0.985, val_loss=0.415, val_accuracy=0.891]\n",
      "Validating:  88%|████████▊ | 7/8 [00:04<00:00,  3.31it/s]\u001b[A\n",
      "Epoch 248: 100%|██████████| 65/65 [00:49<00:00,  1.32it/s, loss=0.0593, v_num=13, train_loss=0.114, train_accuracy=0.985, val_loss=0.295, val_accuracy=0.919]\n",
      "                                                         \u001b[A"
     ]
    },
    {
     "name": "stderr",
     "output_type": "stream",
     "text": [
      "Epoch 248, global step 14192: val_loss was not in top 1\n"
     ]
    },
    {
     "name": "stdout",
     "output_type": "stream",
     "text": [
      "Epoch 249:  89%|████████▉ | 58/65 [00:44<00:05,  1.32it/s, loss=0.047, v_num=13, train_loss=0.0734, train_accuracy=0.985, val_loss=0.295, val_accuracy=0.919] \n",
      "Validating: 0it [00:00, ?it/s]\u001b[A\n",
      "Validating:   0%|          | 0/8 [00:00<?, ?it/s]\u001b[A\n",
      "Validating:  12%|█▎        | 1/8 [00:03<00:26,  3.86s/it]\u001b[A\n",
      "Epoch 249:  92%|█████████▏| 60/65 [00:48<00:04,  1.25it/s, loss=0.047, v_num=13, train_loss=0.0734, train_accuracy=0.985, val_loss=0.295, val_accuracy=0.919]\n",
      "Validating:  38%|███▊      | 3/8 [00:04<00:04,  1.01it/s]\u001b[A\n",
      "Epoch 249:  95%|█████████▌| 62/65 [00:48<00:02,  1.28it/s, loss=0.047, v_num=13, train_loss=0.0734, train_accuracy=0.985, val_loss=0.295, val_accuracy=0.919]\n",
      "Validating:  62%|██████▎   | 5/8 [00:04<00:01,  2.07it/s]\u001b[A\n",
      "Epoch 249:  98%|█████████▊| 64/65 [00:48<00:00,  1.31it/s, loss=0.047, v_num=13, train_loss=0.0734, train_accuracy=0.985, val_loss=0.295, val_accuracy=0.919]\n",
      "Validating:  88%|████████▊ | 7/8 [00:04<00:00,  3.29it/s]\u001b[A\n",
      "Epoch 249: 100%|██████████| 65/65 [00:49<00:00,  1.32it/s, loss=0.047, v_num=13, train_loss=0.0734, train_accuracy=0.985, val_loss=0.277, val_accuracy=0.925]\n",
      "                                                         \u001b[A"
     ]
    },
    {
     "name": "stderr",
     "output_type": "stream",
     "text": [
      "Epoch 249, global step 14249: val_loss was not in top 1\n"
     ]
    },
    {
     "name": "stdout",
     "output_type": "stream",
     "text": [
      "Epoch 249: 100%|██████████| 65/65 [00:49<00:00,  1.32it/s, loss=0.047, v_num=13, train_loss=0.0734, train_accuracy=0.985, val_loss=0.277, val_accuracy=0.925]\n"
     ]
    }
   ],
   "source": [
    "trainer.fit(model, data_module)"
   ]
  },
  {
   "cell_type": "code",
   "execution_count": 21,
   "id": "eb9626cc",
   "metadata": {},
   "outputs": [
    {
     "name": "stderr",
     "output_type": "stream",
     "text": [
      "LOCAL_RANK: 0 - CUDA_VISIBLE_DEVICES: [0,1]\n"
     ]
    },
    {
     "name": "stdout",
     "output_type": "stream",
     "text": [
      "Testing: 100%|██████████| 8/8 [00:05<00:00,  2.84it/s]--------------------------------------------------------------------------------\n",
      "DATALOADER:0 TEST RESULTS\n",
      "{'test_accuracy': 0.9169623851776123, 'test_loss': 0.3261626064777374}\n",
      "--------------------------------------------------------------------------------\n",
      "Testing: 100%|██████████| 8/8 [00:05<00:00,  1.53it/s]\n"
     ]
    },
    {
     "data": {
      "text/plain": [
       "[{'test_loss': 0.3261626064777374, 'test_accuracy': 0.9169623851776123}]"
      ]
     },
     "execution_count": 21,
     "metadata": {},
     "output_type": "execute_result"
    }
   ],
   "source": [
    "trainer.test(model, data_module)"
   ]
  },
  {
   "cell_type": "markdown",
   "id": "0e2dbedc",
   "metadata": {},
   "source": [
    "## Train from check point"
   ]
  },
  {
   "cell_type": "code",
   "execution_count": 22,
   "id": "d15a6381",
   "metadata": {},
   "outputs": [],
   "source": [
    "# trainer.fit(model, data_module, ckpt_path=\"/home/masalu/checkpoints/best-checkpoint.ckpt\")"
   ]
  },
  {
   "cell_type": "markdown",
   "id": "20e301d8",
   "metadata": {},
   "source": [
    "## Predictions"
   ]
  },
  {
   "cell_type": "code",
   "execution_count": 23,
   "id": "bf6f6b8d",
   "metadata": {},
   "outputs": [],
   "source": [
    "trained_model = DrowsyPredictor.load_from_checkpoint(\n",
    "    trainer.checkpoint_callback.best_model_path,\n",
    "    n_features=len(FEATURE_COLUMNS),\n",
    "    n_classes=len(label_encoder.classes_)\n",
    ")\n",
    "\n",
    "trained_model.freeze()"
   ]
  },
  {
   "cell_type": "code",
   "execution_count": 24,
   "id": "676cfb3d",
   "metadata": {},
   "outputs": [
    {
     "name": "stderr",
     "output_type": "stream",
     "text": [
      "100%|██████████| 1409/1409 [05:37<00:00,  4.18it/s]\n"
     ]
    }
   ],
   "source": [
    "from tqdm import tqdm\n",
    "\n",
    "test_dataset = DrowsyDataset(test_sequences)\n",
    "\n",
    "predictions = []\n",
    "labels = [] \n",
    "\n",
    "for item in tqdm(test_dataset):\n",
    "    sequence = item[\"sequence\"]\n",
    "    label = item[\"label\"]\n",
    "    \n",
    "    _, output = trained_model(sequence.unsqueeze(dim=0))\n",
    "    prediciton = torch.argmax(output, dim=1)\n",
    "    predictions.append(prediciton.item())\n",
    "    labels.append(label.item())"
   ]
  },
  {
   "cell_type": "code",
   "execution_count": 25,
   "id": "44689308",
   "metadata": {},
   "outputs": [
    {
     "name": "stdout",
     "output_type": "stream",
     "text": [
      "              precision    recall  f1-score   support\n",
      "\n",
      "     Fatigue       0.91      0.92      0.92       717\n",
      "      Normal       0.92      0.90      0.91       692\n",
      "\n",
      "    accuracy                           0.91      1409\n",
      "   macro avg       0.91      0.91      0.91      1409\n",
      "weighted avg       0.91      0.91      0.91      1409\n",
      "\n"
     ]
    }
   ],
   "source": [
    "print(\n",
    "    classification_report(labels, predictions, target_names=label_encoder.classes_)\n",
    ")"
   ]
  },
  {
   "cell_type": "code",
   "execution_count": 26,
   "id": "f79f7617",
   "metadata": {},
   "outputs": [],
   "source": [
    "import seaborn as sns\n",
    "def show_confusion_matrix(confusion_matrix):\n",
    "    hmap = sns.heatmap(confusion_matrix, annot=True, fmt=\"d\", cmap=\"Blues\")\n",
    "    hmap.yaxis.set_ticklabels(hmap.yaxis.get_ticklabels(), rotation=0, ha=\"right\")\n",
    "    hmap.xaxis.set_ticklabels(hmap.xaxis.get_ticklabels(), rotation=30, ha=\"right\")\n",
    "    plt.ylabel(\"True Drowsy\")\n",
    "    plt.xlabel(\"Predicted Drowsy\")"
   ]
  },
  {
   "cell_type": "code",
   "execution_count": 27,
   "id": "0dead215",
   "metadata": {},
   "outputs": [],
   "source": [
    "cm = confusion_matrix(labels, predictions)\n",
    "df_cm = pd.DataFrame(\n",
    "    cm, index=label_encoder.classes_, columns=label_encoder.classes_\n",
    ")"
   ]
  },
  {
   "cell_type": "code",
   "execution_count": 28,
   "id": "dc3facf0",
   "metadata": {},
   "outputs": [
    {
     "data": {
      "image/png": "[encoded data removed]",
      "text/plain": [
       "<Figure size 432x288 with 2 Axes>"
      ]
     },
     "metadata": {
      "needs_background": "light"
     },
     "output_type": "display_data"
    }
   ],
   "source": [
    "show_confusion_matrix(df_cm)"
   ]
  },
  {
   "cell_type": "code",
   "execution_count": null,
   "id": "c4af5808",
   "metadata": {},
   "outputs": [],
   "source": []
  }
 ],
 "metadata": {
  "kernelspec": {
   "display_name": "Python 3",
   "language": "python",
   "name": "python3"
  },
  "language_info": {
   "codemirror_mode": {
    "name": "ipython",
    "version": 3
   },
   "file_extension": ".py",
   "mimetype": "text/x-python",
   "name": "python",
   "nbconvert_exporter": "python",
   "pygments_lexer": "ipython3",
   "version": "3.6.9"
  }
 },
 "nbformat": 4,
 "nbformat_minor": 5
}
