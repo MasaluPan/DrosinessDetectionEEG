{
 "cells": [
  {
   "cell_type": "code",
   "execution_count": 5,
   "id": "c63a056d",
   "metadata": {},
   "outputs": [
    {
     "name": "stdout",
     "output_type": "stream",
     "text": [
      "cuda\n"
     ]
    },
    {
     "ename": "ModuleNotFoundError",
     "evalue": "No module named 'keras'",
     "output_type": "error",
     "traceback": [
      "\u001b[0;31m---------------------------------------------------------------------------\u001b[0m",
      "\u001b[0;31mModuleNotFoundError\u001b[0m                       Traceback (most recent call last)",
      "\u001b[0;32m<ipython-input-5-bbda0a32f9d0>\u001b[0m in \u001b[0;36m<module>\u001b[0;34m\u001b[0m\n\u001b[1;32m     26\u001b[0m \u001b[0;34m\u001b[0m\u001b[0m\n\u001b[1;32m     27\u001b[0m \u001b[0;32mfrom\u001b[0m \u001b[0mnumpy\u001b[0m \u001b[0;32mimport\u001b[0m \u001b[0masarray\u001b[0m\u001b[0;34m\u001b[0m\u001b[0;34m\u001b[0m\u001b[0m\n\u001b[0;32m---> 28\u001b[0;31m \u001b[0;32mfrom\u001b[0m \u001b[0mkeras\u001b[0m \u001b[0;32mimport\u001b[0m \u001b[0mbackend\u001b[0m\u001b[0;34m\u001b[0m\u001b[0;34m\u001b[0m\u001b[0m\n\u001b[0m\u001b[1;32m     29\u001b[0m \u001b[0;32mfrom\u001b[0m \u001b[0mkeras\u001b[0m\u001b[0;34m.\u001b[0m\u001b[0mlosses\u001b[0m \u001b[0;32mimport\u001b[0m \u001b[0mbinary_crossentropy\u001b[0m\u001b[0;34m\u001b[0m\u001b[0;34m\u001b[0m\u001b[0m\n",
      "\u001b[0;31mModuleNotFoundError\u001b[0m: No module named 'keras'"
     ]
    }
   ],
   "source": [
    "import os\n",
    "import pandas as pd\n",
    "import numpy as np\n",
    "# import dataframe as df\n",
    "from sklearn.preprocessing import LabelEncoder\n",
    "from sklearn.model_selection import train_test_split\n",
    "from sklearn.metrics import classification_report, confusion_matrix\n",
    "import matplotlib.pyplot as plt\n",
    "\n",
    "import torch\n",
    "from torch import nn, optim\n",
    "from torch.nn import functional as F\n",
    "from torch.utils.data import Dataset, DataLoader\n",
    "\n",
    "import torchmetrics\n",
    "from torchmetrics.functional import accuracy\n",
    "\n",
    "import pytorch_lightning as pl\n",
    "from pytorch_lightning.loggers import TensorBoardLogger\n",
    "from pytorch_lightning.callbacks import ModelCheckpoint\n",
    "\n",
    "device = torch.device(\"cuda\" if torch.cuda.is_available() else \"cpu\")\n",
    "print(device)\n",
    "\n",
    "import seaborn as sns\n",
    "\n",
    "from numpy import asarray\n",
    "from keras import backend\n",
    "from keras.losses import binary_crossentropy"
   ]
  },
  {
   "cell_type": "code",
   "execution_count": 2,
   "id": "1c328d17",
   "metadata": {},
   "outputs": [],
   "source": [
    "X_train = pd.read_csv('../data2.csv')"
   ]
  },
  {
   "cell_type": "code",
   "execution_count": 3,
   "id": "6516c82f",
   "metadata": {},
   "outputs": [
    {
     "name": "stdout",
     "output_type": "stream",
     "text": [
      "               time            id         group          HEOL          HEOR  \\\n",
      "count  1.442406e+07  1.442406e+07  1.442406e+07  1.442406e+07  1.442406e+07   \n",
      "mean   3.005016e+05  5.115000e+02  7.042500e+03 -2.439227e-01 -4.473785e-06   \n",
      "std    1.734958e+05  2.956032e+02  4.066278e+03  1.417591e+02  2.057471e-03   \n",
      "min    0.000000e+00  0.000000e+00  0.000000e+00 -2.423110e+03 -1.457554e-01   \n",
      "25%    1.502500e+05  2.557500e+02  3.521000e+03 -6.190002e+00 -4.411773e-06   \n",
      "50%    3.005010e+05  5.115000e+02  7.042500e+03 -7.374709e-02  3.805031e-17   \n",
      "75%    4.507512e+05  7.672500e+02  1.056400e+04  5.999642e+00  4.411773e-06   \n",
      "max    6.031350e+05  1.023000e+03  1.408500e+04  2.466700e+03  1.457554e-01   \n",
      "\n",
      "                FP1           FP2          VEOU          VEOL            F7  \\\n",
      "count  1.442406e+07  1.442406e+07  1.442406e+07  1.442406e+07  1.442406e+07   \n",
      "mean   5.773373e-02  2.343737e-05  1.248845e-01 -2.103808e-07 -1.129953e-01   \n",
      "std    8.339794e+01  2.307205e-03  1.077504e+02  2.115590e-03  1.295939e+02   \n",
      "min   -2.368078e+03 -2.186332e-01 -2.474023e+03 -1.457554e-01 -3.335907e+03   \n",
      "25%   -3.428775e+00 -8.823546e-06 -8.853879e+00 -2.205886e-06 -9.158379e+00   \n",
      "50%   -1.496850e-02  0.000000e+00 -7.727690e-01  8.065011e-18 -6.560437e-01   \n",
      "75%    3.434818e+00  8.823546e-06  7.250152e+00  2.205886e-06  7.814116e+00   \n",
      "max    2.267657e+03  2.915109e-01  2.503797e+03  1.457554e-01  2.356444e+03   \n",
      "\n",
      "       ...            P4            T6            A2            O1  \\\n",
      "count  ...  1.442406e+07  1.442406e+07  1.442406e+07  1.442406e+07   \n",
      "mean   ...  9.556272e-02  7.337612e-06  5.512840e-02 -1.243758e-05   \n",
      "std    ...  1.235080e+02  1.941967e-03  9.202586e+01  2.096256e-03   \n",
      "min    ... -3.588359e+03 -1.093166e-01 -2.221483e+03 -2.186332e-01   \n",
      "25%    ... -7.320091e+00 -2.205886e-06 -3.934473e+00 -4.411773e-06   \n",
      "50%    ... -1.742739e-01  2.316106e-17 -3.341449e-03  0.000000e+00   \n",
      "75%    ...  7.101895e+00  2.205886e-06  3.771538e+00  4.411773e-06   \n",
      "max    ...  3.307722e+03  2.186332e-01  2.330551e+03  2.186332e-01   \n",
      "\n",
      "                 OZ            O2           FT9          FT10           PO1  \\\n",
      "count  1.442406e+07  1.442406e+07  1.442406e+07  1.442406e+07  1.442406e+07   \n",
      "mean   6.432549e-02 -2.342769e-05 -8.160863e-02 -4.234038e-05  8.383373e-02   \n",
      "std    4.985286e+01  2.555370e-03  8.100512e+01  2.768569e-03  5.829068e+01   \n",
      "min   -2.394785e+03 -2.915109e-01 -2.929211e+03 -3.643886e-01 -2.417340e+03   \n",
      "25%   -3.581198e+00 -6.617659e-06 -3.813189e+00 -8.823546e-06 -3.441107e+00   \n",
      "50%   -1.114007e-01  0.000000e+00 -9.888858e-02 -2.205886e-06 -1.096380e-01   \n",
      "75%    3.432722e+00  6.617659e-06  3.670362e+00  8.823546e-06  3.291780e+00   \n",
      "max    2.323738e+03  1.821943e-01  2.368203e+03  1.821943e-01  2.285776e+03   \n",
      "\n",
      "                PO2  \n",
      "count  1.442406e+07  \n",
      "mean  -2.896002e-05  \n",
      "std    2.312270e-03  \n",
      "min   -2.550720e-01  \n",
      "25%   -6.617659e-06  \n",
      "50%    0.000000e+00  \n",
      "75%    6.617659e-06  \n",
      "max    1.665105e-01  \n",
      "\n",
      "[8 rows x 43 columns]\n"
     ]
    }
   ],
   "source": [
    "# X_train.head()\n",
    "# X_train.shape\n",
    "# X_train.info()\n",
    "print(X_train.describe())"
   ]
  },
  {
   "cell_type": "markdown",
   "id": "02ab8f85",
   "metadata": {},
   "source": [
    "## Entropy"
   ]
  },
  {
   "cell_type": "code",
   "execution_count": 20,
   "id": "63393b36",
   "metadata": {},
   "outputs": [
    {
     "ename": "SyntaxError",
     "evalue": "invalid syntax (<ipython-input-20-fabd416ef466>, line 25)",
     "output_type": "error",
     "traceback": [
      "\u001b[0;36m  File \u001b[0;32m\"<ipython-input-20-fabd416ef466>\"\u001b[0;36m, line \u001b[0;32m25\u001b[0m\n\u001b[0;31m    else\u001b[0m\n\u001b[0m        ^\u001b[0m\n\u001b[0;31mSyntaxError\u001b[0m\u001b[0;31m:\u001b[0m invalid syntax\n"
     ]
    }
   ],
   "source": [
    "class CrossEntropy():\n",
    "    \n",
    "    freqA = None\n",
    "    freqB = None\n",
    "    dataA = None\n",
    "    dataB = None\n",
    "    length = 0\n",
    "    \n",
    "    def __init__(self, seriesA, seriesB):\n",
    "        self.freqA = {}\n",
    "        self.freqB = {}\n",
    "        self.dataA = seriesA\n",
    "        self.dataB = seriesB\n",
    "        self.length = len(self.dataA)\n",
    "        \n",
    "        print(\"YEE\")\n",
    "        self.count_freq()\n",
    "        \n",
    "    def count_freq(self):\n",
    "        print(\"YEE HA\")\n",
    "        for i in self.dataA:\n",
    "            if i in self.freqA:\n",
    "                self.freqA[i] += 1\n",
    "                print(i,\"A_HIT\", self.freqA[i])\n",
    "            else:\n",
    "                self.freqA[i] = 1\n",
    "                \n",
    "        for i in self.dataB:\n",
    "            if i in self.freqB:\n",
    "                self.freqB[i] += 1\n",
    "                print(i,\"B_HIT\", self.freqB[i])\n",
    "            else:\n",
    "                self.freqA[i] = 1\n",
    "            \n",
    "        for i in self.freqA.keys():\n",
    "            self.freqA[i] = self.freqA[i]/length\n",
    "        \n",
    "        for i in self.freqA.keys():\n",
    "            self.freqA[i] = self.freqA[i]/length"
   ]
  },
  {
   "cell_type": "code",
   "execution_count": 19,
   "id": "d8f6df89",
   "metadata": {},
   "outputs": [
    {
     "name": "stdout",
     "output_type": "stream",
     "text": [
      "YEE\n",
      "YEE HA\n"
     ]
    }
   ],
   "source": [
    "ce = CrossEntropy(X_train[\"P4\"], X_train[\"T6\"])"
   ]
  },
  {
   "cell_type": "code",
   "execution_count": 17,
   "id": "6c295239",
   "metadata": {},
   "outputs": [
    {
     "data": {
      "text/plain": [
       "0           1.651714e-13\n",
       "1          -2.646920e+02\n",
       "2          -5.183021e+02\n",
       "3          -7.505852e+02\n",
       "4          -9.528851e+02\n",
       "                ...     \n",
       "14424059   -4.424856e+02\n",
       "14424060   -4.443630e+02\n",
       "14424061   -4.452952e+02\n",
       "14424062   -4.460806e+02\n",
       "14424063   -4.459578e+02\n",
       "Name: P4, Length: 14424064, dtype: float64"
      ]
     },
     "execution_count": 17,
     "metadata": {},
     "output_type": "execute_result"
    }
   ],
   "source": [
    "ce.dataA"
   ]
  },
  {
   "cell_type": "code",
   "execution_count": null,
   "id": "8c5097de",
   "metadata": {},
   "outputs": [],
   "source": []
  }
 ],
 "metadata": {
  "kernelspec": {
   "display_name": "Python 3",
   "language": "python",
   "name": "python3"
  },
  "language_info": {
   "codemirror_mode": {
    "name": "ipython",
    "version": 3
   },
   "file_extension": ".py",
   "mimetype": "text/x-python",
   "name": "python",
   "nbconvert_exporter": "python",
   "pygments_lexer": "ipython3",
   "version": "3.6.9"
  }
 },
 "nbformat": 4,
 "nbformat_minor": 5
}
