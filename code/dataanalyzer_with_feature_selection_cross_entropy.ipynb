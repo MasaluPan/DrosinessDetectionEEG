{
 "cells": [
  {
   "cell_type": "code",
   "execution_count": 28,
   "id": "660d00e0",
   "metadata": {},
   "outputs": [
    {
     "name": "stdout",
     "output_type": "stream",
     "text": [
      "cuda\n"
     ]
    }
   ],
   "source": [
    "import os\n",
    "import pandas as pd\n",
    "import numpy as np\n",
    "# import dataframe as df\n",
    "from sklearn.preprocessing import LabelEncoder\n",
    "from sklearn.model_selection import train_test_split\n",
    "from sklearn.metrics import classification_report, confusion_matrix\n",
    "import matplotlib.pyplot as plt\n",
    "\n",
    "import torch\n",
    "from torch import nn, optim\n",
    "from torch.nn import functional as F\n",
    "from torch.utils.data import Dataset, DataLoader\n",
    "\n",
    "import torchmetrics\n",
    "from torchmetrics.functional import accuracy\n",
    "\n",
    "import pytorch_lightning as pl\n",
    "from pytorch_lightning.loggers import TensorBoardLogger\n",
    "from pytorch_lightning.callbacks import ModelCheckpoint\n",
    "\n",
    "device = torch.device(\"cuda\" if torch.cuda.is_available() else \"cpu\")\n",
    "print(device)\n",
    "\n",
    "import seaborn as sns\n",
    "\n",
    "from math import log2\n",
    "# from numpy import asarray\n",
    "# from keras import backend\n",
    "# from keras.losses import binary_crossentropy"
   ]
  },
  {
   "cell_type": "code",
   "execution_count": 2,
   "id": "5c169ffa",
   "metadata": {},
   "outputs": [],
   "source": [
    "X_train = pd.read_csv('../data2.csv')"
   ]
  },
  {
   "cell_type": "code",
   "execution_count": 3,
   "id": "7046ac76",
   "metadata": {},
   "outputs": [
    {
     "name": "stdout",
     "output_type": "stream",
     "text": [
      "               time            id         group          HEOL          HEOR  \\\n",
      "count  1.442406e+07  1.442406e+07  1.442406e+07  1.442406e+07  1.442406e+07   \n",
      "mean   3.005016e+05  5.115000e+02  7.042500e+03 -2.439227e-01 -4.473785e-06   \n",
      "std    1.734958e+05  2.956032e+02  4.066278e+03  1.417591e+02  2.057471e-03   \n",
      "min    0.000000e+00  0.000000e+00  0.000000e+00 -2.423110e+03 -1.457554e-01   \n",
      "25%    1.502500e+05  2.557500e+02  3.521000e+03 -6.190002e+00 -4.411773e-06   \n",
      "50%    3.005010e+05  5.115000e+02  7.042500e+03 -7.374709e-02  3.805031e-17   \n",
      "75%    4.507512e+05  7.672500e+02  1.056400e+04  5.999642e+00  4.411773e-06   \n",
      "max    6.031350e+05  1.023000e+03  1.408500e+04  2.466700e+03  1.457554e-01   \n",
      "\n",
      "                FP1           FP2          VEOU          VEOL            F7  \\\n",
      "count  1.442406e+07  1.442406e+07  1.442406e+07  1.442406e+07  1.442406e+07   \n",
      "mean   5.773373e-02  2.343737e-05  1.248845e-01 -2.103808e-07 -1.129953e-01   \n",
      "std    8.339794e+01  2.307205e-03  1.077504e+02  2.115590e-03  1.295939e+02   \n",
      "min   -2.368078e+03 -2.186332e-01 -2.474023e+03 -1.457554e-01 -3.335907e+03   \n",
      "25%   -3.428775e+00 -8.823546e-06 -8.853879e+00 -2.205886e-06 -9.158379e+00   \n",
      "50%   -1.496850e-02  0.000000e+00 -7.727690e-01  8.065011e-18 -6.560437e-01   \n",
      "75%    3.434818e+00  8.823546e-06  7.250152e+00  2.205886e-06  7.814116e+00   \n",
      "max    2.267657e+03  2.915109e-01  2.503797e+03  1.457554e-01  2.356444e+03   \n",
      "\n",
      "       ...            P4            T6            A2            O1  \\\n",
      "count  ...  1.442406e+07  1.442406e+07  1.442406e+07  1.442406e+07   \n",
      "mean   ...  9.556272e-02  7.337612e-06  5.512840e-02 -1.243758e-05   \n",
      "std    ...  1.235080e+02  1.941967e-03  9.202586e+01  2.096256e-03   \n",
      "min    ... -3.588359e+03 -1.093166e-01 -2.221483e+03 -2.186332e-01   \n",
      "25%    ... -7.320091e+00 -2.205886e-06 -3.934473e+00 -4.411773e-06   \n",
      "50%    ... -1.742739e-01  2.316106e-17 -3.341449e-03  0.000000e+00   \n",
      "75%    ...  7.101895e+00  2.205886e-06  3.771538e+00  4.411773e-06   \n",
      "max    ...  3.307722e+03  2.186332e-01  2.330551e+03  2.186332e-01   \n",
      "\n",
      "                 OZ            O2           FT9          FT10           PO1  \\\n",
      "count  1.442406e+07  1.442406e+07  1.442406e+07  1.442406e+07  1.442406e+07   \n",
      "mean   6.432549e-02 -2.342769e-05 -8.160863e-02 -4.234038e-05  8.383373e-02   \n",
      "std    4.985286e+01  2.555370e-03  8.100512e+01  2.768569e-03  5.829068e+01   \n",
      "min   -2.394785e+03 -2.915109e-01 -2.929211e+03 -3.643886e-01 -2.417340e+03   \n",
      "25%   -3.581198e+00 -6.617659e-06 -3.813189e+00 -8.823546e-06 -3.441107e+00   \n",
      "50%   -1.114007e-01  0.000000e+00 -9.888858e-02 -2.205886e-06 -1.096380e-01   \n",
      "75%    3.432722e+00  6.617659e-06  3.670362e+00  8.823546e-06  3.291780e+00   \n",
      "max    2.323738e+03  1.821943e-01  2.368203e+03  1.821943e-01  2.285776e+03   \n",
      "\n",
      "                PO2  \n",
      "count  1.442406e+07  \n",
      "mean  -2.896002e-05  \n",
      "std    2.312270e-03  \n",
      "min   -2.550720e-01  \n",
      "25%   -6.617659e-06  \n",
      "50%    0.000000e+00  \n",
      "75%    6.617659e-06  \n",
      "max    1.665105e-01  \n",
      "\n",
      "[8 rows x 43 columns]\n"
     ]
    }
   ],
   "source": [
    "# X_train.head()\n",
    "# X_train.shape\n",
    "# X_train.info()\n",
    "print(X_train.describe())"
   ]
  },
  {
   "cell_type": "markdown",
   "id": "3386c12c",
   "metadata": {},
   "source": [
    "## Entropy"
   ]
  },
  {
   "cell_type": "code",
   "execution_count": null,
   "id": "1778a470",
   "metadata": {},
   "outputs": [],
   "source": []
  },
  {
   "cell_type": "code",
   "execution_count": 38,
   "id": "b8e15478",
   "metadata": {},
   "outputs": [
    {
     "name": "stdout",
     "output_type": "stream",
     "text": [
      "YEE\n"
     ]
    }
   ],
   "source": [
    "ce = CrossEntropy(X_train[\"P4\"], X_train[\"T6\"])\n",
    "print(len(ce.freqA.values()))\n",
    "print(len(ce.freqB.values()))"
   ]
  },
  {
   "cell_type": "code",
   "execution_count": 39,
   "id": "aaeda527",
   "metadata": {},
   "outputs": [
    {
     "name": "stdout",
     "output_type": "stream",
     "text": [
      "14424064\n",
      "1135742\n"
     ]
    }
   ],
   "source": []
  },
  {
   "cell_type": "code",
   "execution_count": 40,
   "id": "a932c97d",
   "metadata": {},
   "outputs": [
    {
     "ename": "ValueError",
     "evalue": "math domain error",
     "output_type": "error",
     "traceback": [
      "\u001b[0;31m--------------------------------------------------------------\u001b[0m",
      "\u001b[0;31mValueError\u001b[0m                   Traceback (most recent call last)",
      "\u001b[0;32m<ipython-input-40-89aa4babfddb>\u001b[0m in \u001b[0;36m<module>\u001b[0;34m\u001b[0m\n\u001b[0;32m----> 1\u001b[0;31m \u001b[0mprint\u001b[0m\u001b[0;34m(\u001b[0m\u001b[0mce\u001b[0m\u001b[0;34m.\u001b[0m\u001b[0mcross_entropy\u001b[0m\u001b[0;34m(\u001b[0m\u001b[0;34m)\u001b[0m\u001b[0;34m)\u001b[0m\u001b[0;34m\u001b[0m\u001b[0;34m\u001b[0m\u001b[0m\n\u001b[0m",
      "\u001b[0;32m<ipython-input-37-061dc07f501b>\u001b[0m in \u001b[0;36mcross_entropy\u001b[0;34m(self)\u001b[0m\n\u001b[1;32m     52\u001b[0m         \u001b[0mp\u001b[0m \u001b[0;34m=\u001b[0m \u001b[0mself\u001b[0m\u001b[0;34m.\u001b[0m\u001b[0mdataA\u001b[0m\u001b[0;34m\u001b[0m\u001b[0;34m\u001b[0m\u001b[0m\n\u001b[1;32m     53\u001b[0m         \u001b[0mq\u001b[0m \u001b[0;34m=\u001b[0m \u001b[0mself\u001b[0m\u001b[0;34m.\u001b[0m\u001b[0mdataB\u001b[0m\u001b[0;34m\u001b[0m\u001b[0;34m\u001b[0m\u001b[0m\n\u001b[0;32m---> 54\u001b[0;31m         \u001b[0;32mreturn\u001b[0m \u001b[0mself\u001b[0m\u001b[0;34m.\u001b[0m\u001b[0mentropy\u001b[0m\u001b[0;34m(\u001b[0m\u001b[0mp\u001b[0m\u001b[0;34m)\u001b[0m \u001b[0;34m+\u001b[0m \u001b[0mself\u001b[0m\u001b[0;34m.\u001b[0m\u001b[0mkl_divergence\u001b[0m\u001b[0;34m(\u001b[0m\u001b[0mp\u001b[0m\u001b[0;34m,\u001b[0m \u001b[0mq\u001b[0m\u001b[0;34m)\u001b[0m\u001b[0;34m\u001b[0m\u001b[0;34m\u001b[0m\u001b[0m\n\u001b[0m",
      "\u001b[0;32m<ipython-input-37-061dc07f501b>\u001b[0m in \u001b[0;36mentropy\u001b[0;34m(self, p)\u001b[0m\n\u001b[1;32m     46\u001b[0m     \u001b[0;31m# calculate entropy H(P)\u001b[0m\u001b[0;34m\u001b[0m\u001b[0;34m\u001b[0m\u001b[0;34m\u001b[0m\u001b[0m\n\u001b[1;32m     47\u001b[0m     \u001b[0;32mdef\u001b[0m \u001b[0mentropy\u001b[0m\u001b[0;34m(\u001b[0m\u001b[0mself\u001b[0m\u001b[0;34m,\u001b[0m \u001b[0mp\u001b[0m\u001b[0;34m)\u001b[0m\u001b[0;34m:\u001b[0m\u001b[0;34m\u001b[0m\u001b[0;34m\u001b[0m\u001b[0m\n\u001b[0;32m---> 48\u001b[0;31m         \u001b[0;32mreturn\u001b[0m \u001b[0;34m-\u001b[0m\u001b[0mnp\u001b[0m\u001b[0;34m.\u001b[0m\u001b[0msum\u001b[0m\u001b[0;34m(\u001b[0m\u001b[0;34m[\u001b[0m\u001b[0mp\u001b[0m\u001b[0;34m[\u001b[0m\u001b[0mi\u001b[0m\u001b[0;34m]\u001b[0m \u001b[0;34m*\u001b[0m \u001b[0mlog2\u001b[0m\u001b[0;34m(\u001b[0m\u001b[0mp\u001b[0m\u001b[0;34m[\u001b[0m\u001b[0mi\u001b[0m\u001b[0;34m]\u001b[0m\u001b[0;34m)\u001b[0m \u001b[0;32mfor\u001b[0m \u001b[0mi\u001b[0m \u001b[0;32min\u001b[0m \u001b[0mrange\u001b[0m\u001b[0;34m(\u001b[0m\u001b[0mlen\u001b[0m\u001b[0;34m(\u001b[0m\u001b[0mp\u001b[0m\u001b[0;34m)\u001b[0m\u001b[0;34m)\u001b[0m\u001b[0;34m]\u001b[0m\u001b[0;34m)\u001b[0m\u001b[0;34m\u001b[0m\u001b[0;34m\u001b[0m\u001b[0m\n\u001b[0m\u001b[1;32m     49\u001b[0m \u001b[0;34m\u001b[0m\u001b[0m\n\u001b[1;32m     50\u001b[0m     \u001b[0;31m# calculate cross entropy H(P, Q)\u001b[0m\u001b[0;34m\u001b[0m\u001b[0;34m\u001b[0m\u001b[0;34m\u001b[0m\u001b[0m\n",
      "\u001b[0;32m<ipython-input-37-061dc07f501b>\u001b[0m in \u001b[0;36m<listcomp>\u001b[0;34m(.0)\u001b[0m\n\u001b[1;32m     46\u001b[0m     \u001b[0;31m# calculate entropy H(P)\u001b[0m\u001b[0;34m\u001b[0m\u001b[0;34m\u001b[0m\u001b[0;34m\u001b[0m\u001b[0m\n\u001b[1;32m     47\u001b[0m     \u001b[0;32mdef\u001b[0m \u001b[0mentropy\u001b[0m\u001b[0;34m(\u001b[0m\u001b[0mself\u001b[0m\u001b[0;34m,\u001b[0m \u001b[0mp\u001b[0m\u001b[0;34m)\u001b[0m\u001b[0;34m:\u001b[0m\u001b[0;34m\u001b[0m\u001b[0;34m\u001b[0m\u001b[0m\n\u001b[0;32m---> 48\u001b[0;31m         \u001b[0;32mreturn\u001b[0m \u001b[0;34m-\u001b[0m\u001b[0mnp\u001b[0m\u001b[0;34m.\u001b[0m\u001b[0msum\u001b[0m\u001b[0;34m(\u001b[0m\u001b[0;34m[\u001b[0m\u001b[0mp\u001b[0m\u001b[0;34m[\u001b[0m\u001b[0mi\u001b[0m\u001b[0;34m]\u001b[0m \u001b[0;34m*\u001b[0m \u001b[0mlog2\u001b[0m\u001b[0;34m(\u001b[0m\u001b[0mp\u001b[0m\u001b[0;34m[\u001b[0m\u001b[0mi\u001b[0m\u001b[0;34m]\u001b[0m\u001b[0;34m)\u001b[0m \u001b[0;32mfor\u001b[0m \u001b[0mi\u001b[0m \u001b[0;32min\u001b[0m \u001b[0mrange\u001b[0m\u001b[0;34m(\u001b[0m\u001b[0mlen\u001b[0m\u001b[0;34m(\u001b[0m\u001b[0mp\u001b[0m\u001b[0;34m)\u001b[0m\u001b[0;34m)\u001b[0m\u001b[0;34m]\u001b[0m\u001b[0;34m)\u001b[0m\u001b[0;34m\u001b[0m\u001b[0;34m\u001b[0m\u001b[0m\n\u001b[0m\u001b[1;32m     49\u001b[0m \u001b[0;34m\u001b[0m\u001b[0m\n\u001b[1;32m     50\u001b[0m     \u001b[0;31m# calculate cross entropy H(P, Q)\u001b[0m\u001b[0;34m\u001b[0m\u001b[0;34m\u001b[0m\u001b[0;34m\u001b[0m\u001b[0m\n",
      "\u001b[0;31mValueError\u001b[0m: math domain error"
     ]
    }
   ],
   "source": [
    "print(ce.cross_entropy())"
   ]
  },
  {
   "cell_type": "code",
   "execution_count": null,
   "id": "1ff7cbd7",
   "metadata": {},
   "outputs": [],
   "source": []
  }
 ],
 "metadata": {
  "kernelspec": {
   "display_name": "Python 3",
   "language": "python",
   "name": "python3"
  },
  "language_info": {
   "codemirror_mode": {
    "name": "ipython",
    "version": 3
   },
   "file_extension": ".py",
   "mimetype": "text/x-python",
   "name": "python",
   "nbconvert_exporter": "python",
   "pygments_lexer": "ipython3",
   "version": "3.6.9"
  }
 },
 "nbformat": 4,
 "nbformat_minor": 5
}
